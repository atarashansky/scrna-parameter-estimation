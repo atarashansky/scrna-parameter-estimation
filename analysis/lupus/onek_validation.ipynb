{
 "cells": [
  {
   "cell_type": "markdown",
   "id": "dc3480a2",
   "metadata": {},
   "source": [
    "# 1K1K validation"
   ]
  },
  {
   "cell_type": "code",
   "execution_count": 1,
   "id": "d910e1fa",
   "metadata": {},
   "outputs": [],
   "source": [
    "import scanpy as sc\n",
    "import seaborn as sns\n",
    "import pandas as pd\n",
    "import matplotlib.pyplot as plt\n",
    "import numpy as np\n",
    "import scipy.stats as stats\n",
    "import itertools\n",
    "from pybedtools import BedTool\n",
    "import statsmodels.formula.api as smf\n",
    "import statsmodels.api as sm\n",
    "\n",
    "import os\n",
    "import pickle as pkl\n",
    "%matplotlib inline"
   ]
  },
  {
   "cell_type": "code",
   "execution_count": 2,
   "id": "88f8df91",
   "metadata": {},
   "outputs": [],
   "source": [
    "import sys\n",
    "sys.path.append('/home/ssm-user/Github/scrna-parameter-estimation/dist/memento-0.0.8-py3.8.egg')\n",
    "sys.path.append('/home/ssm-user/Github/misc-seq/miscseq/')\n",
    "import encode\n",
    "import memento"
   ]
  },
  {
   "cell_type": "code",
   "execution_count": 3,
   "id": "ea112856",
   "metadata": {},
   "outputs": [],
   "source": [
    "data_path  = '/data_volume/memento/lupus/'"
   ]
  },
  {
   "cell_type": "markdown",
   "id": "16e4e324",
   "metadata": {},
   "source": [
    "### Read SNP positions"
   ]
  },
  {
   "cell_type": "code",
   "execution_count": 4,
   "id": "616de853",
   "metadata": {},
   "outputs": [],
   "source": [
    "pos = pd.read_csv(data_path + 'cm_cg.genos', sep='\\t', index_col=0)"
   ]
  },
  {
   "cell_type": "code",
   "execution_count": 5,
   "id": "a6757e3d",
   "metadata": {},
   "outputs": [],
   "source": [
    "pos = pos[~pos.index.duplicated(keep='first')]"
   ]
  },
  {
   "cell_type": "code",
   "execution_count": 6,
   "id": "f3a92cf0",
   "metadata": {},
   "outputs": [],
   "source": [
    "# Filter for lupus patients\n",
    "pos = pos[[c for c in pos.columns if 'HC' not in c]]"
   ]
  },
  {
   "cell_type": "markdown",
   "id": "9f4b88fb",
   "metadata": {},
   "source": [
    "### Read mat eQTL output"
   ]
  },
  {
   "cell_type": "code",
   "execution_count": 7,
   "id": "56183d05",
   "metadata": {},
   "outputs": [],
   "source": [
    "cbc_eqtls = pd.read_csv(data_path + 'Table6.txt', sep='\\t', skiprows=1).query('cell == \"cm\"').drop('STD_FE', axis=1)\n",
    "cbc_eqtls.columns = ['ct', 'rsid_gene', 'pvalue', 'beta']"
   ]
  },
  {
   "cell_type": "code",
   "execution_count": 8,
   "id": "5016eb2d",
   "metadata": {},
   "outputs": [],
   "source": [
    "cbc_eqtls['gene'] = cbc_eqtls['rsid_gene'].str.split('_').str[1]\n",
    "cbc_eqtls['rsid'] = cbc_eqtls['rsid_gene'].str.split('_').str[0]"
   ]
  },
  {
   "cell_type": "code",
   "execution_count": 9,
   "id": "1795cb4a",
   "metadata": {},
   "outputs": [],
   "source": [
    "cbc_eqtls = cbc_eqtls[cbc_eqtls['rsid'].isin(pos.index)]"
   ]
  },
  {
   "cell_type": "markdown",
   "id": "e5debc16",
   "metadata": {},
   "source": [
    "### Read 1K1K eQTL output"
   ]
  },
  {
   "cell_type": "code",
   "execution_count": 10,
   "id": "dbf55c3a",
   "metadata": {},
   "outputs": [],
   "source": [
    "onek1k_pos = pd.read_csv('1k1k_snps_chrpos.txt', header=None).iloc[:,0].tolist()\n",
    "onek1k_info = pd.read_csv('1k1k_snp_info.txt', sep='\\t', header=None).iloc[:,:3]\n",
    "onek1k_info.columns = ['chr', 'pos', 'name']\n",
    "onek1k_info['rsid'] = onek1k_info['chr'].astype(str) + ':' + onek1k_info['pos'].astype(str)"
   ]
  },
  {
   "cell_type": "code",
   "execution_count": 11,
   "id": "704a72ff",
   "metadata": {},
   "outputs": [],
   "source": [
    "onek_replication = pd.read_csv(data_path + 'OneK1K_eqtls_for_replication.txt', sep='\\t')#.query('cell_type == \"Mono_C\"')"
   ]
  },
  {
   "cell_type": "code",
   "execution_count": 12,
   "id": "0ee29ea4",
   "metadata": {},
   "outputs": [],
   "source": [
    "onek_replication = onek_replication.merge(onek1k_info, left_on='SNP_rsID', right_on='name').query('cell_type == \"Mono_C\"')"
   ]
  },
  {
   "cell_type": "code",
   "execution_count": 20,
   "id": "674ecefc",
   "metadata": {},
   "outputs": [],
   "source": [
    "onek_replication['gene'] = onek_replication['GeneID']\n",
    "onek_replication['hit_id'] = onek_replication['gene'] + '*' + onek_replication['rsid']"
   ]
  },
  {
   "cell_type": "code",
   "execution_count": 21,
   "id": "080975cb",
   "metadata": {},
   "outputs": [],
   "source": [
    "cbc_eqtls['hit_id'] = cbc_eqtls['gene'] + '*' + cbc_eqtls['rsid']"
   ]
  },
  {
   "cell_type": "code",
   "execution_count": 23,
   "id": "86686bbc",
   "metadata": {},
   "outputs": [],
   "source": [
    "cbc_eqtls['onek_valid'] = cbc_eqtls['hit_id'].isin(onek_replication['hit_id'])"
   ]
  },
  {
   "cell_type": "code",
   "execution_count": 24,
   "id": "7113cb67",
   "metadata": {},
   "outputs": [
    {
     "data": {
      "text/plain": [
       "213"
      ]
     },
     "execution_count": 24,
     "metadata": {},
     "output_type": "execute_result"
    }
   ],
   "source": [
    "cbc_eqtls['onek_valid'].sum()"
   ]
  },
  {
   "cell_type": "code",
   "execution_count": 25,
   "id": "c2821728",
   "metadata": {},
   "outputs": [],
   "source": [
    "cbc_eqtls['logp'] = -np.log10(cbc_eqtls['pvalue'])"
   ]
  },
  {
   "cell_type": "code",
   "execution_count": 45,
   "id": "a828ce63",
   "metadata": {},
   "outputs": [
    {
     "data": {
      "text/plain": [
       "<AxesSubplot:xlabel='onek_valid', ylabel='beta'>"
      ]
     },
     "execution_count": 45,
     "metadata": {},
     "output_type": "execute_result"
    },
    {
     "data": {
      "image/png": "[encoded data removed]",
      "text/plain": [
       "<Figure size 432x288 with 1 Axes>"
      ]
     },
     "metadata": {
      "needs_background": "light"
     },
     "output_type": "display_data"
    }
   ],
   "source": [
    "sns.boxplot(x='onek_valid', y='beta', data=cbc_eqtls)\n"
   ]
  },
  {
   "cell_type": "code",
   "execution_count": 31,
   "id": "ec2c2529",
   "metadata": {},
   "outputs": [],
   "source": [
    "memento_eqtls = pd.read_csv(data_path + 'cbc_eqtl_memento.csv')"
   ]
  },
  {
   "cell_type": "code",
   "execution_count": 33,
   "id": "674af6ba",
   "metadata": {},
   "outputs": [],
   "source": [
    "memento_eqtls['hit_id'] = memento_eqtls['gene'] + '*' + memento_eqtls['rsid']"
   ]
  },
  {
   "cell_type": "code",
   "execution_count": 34,
   "id": "1ec06ee5",
   "metadata": {},
   "outputs": [],
   "source": [
    "memento_eqtls['onek_valid'] = memento_eqtls['hit_id'].isin(onek_replication['hit_id'])"
   ]
  },
  {
   "cell_type": "code",
   "execution_count": 35,
   "id": "0709f2ee",
   "metadata": {},
   "outputs": [
    {
     "data": {
      "text/plain": [
       "200"
      ]
     },
     "execution_count": 35,
     "metadata": {},
     "output_type": "execute_result"
    }
   ],
   "source": [
    "memento_eqtls['onek_valid'].sum()"
   ]
  },
  {
   "cell_type": "code",
   "execution_count": 37,
   "id": "2d83b814",
   "metadata": {},
   "outputs": [],
   "source": [
    "memento_eqtls['logp'] = -np.log10(memento_eqtls['de_pval'])"
   ]
  },
  {
   "cell_type": "code",
   "execution_count": 44,
   "id": "216c5a9a",
   "metadata": {},
   "outputs": [
    {
     "data": {
      "text/plain": [
       "<AxesSubplot:xlabel='onek_valid', ylabel='de_coef'>"
      ]
     },
     "execution_count": 44,
     "metadata": {},
     "output_type": "execute_result"
    },
    {
     "data": {
      "image/png": "[encoded data removed]",
      "text/plain": [
       "<Figure size 432x288 with 1 Axes>"
      ]
     },
     "metadata": {
      "needs_background": "light"
     },
     "output_type": "display_data"
    }
   ],
   "source": [
    "sns.boxplot(x='onek_valid', y='de_coef', data=memento_eqtls)\n",
    "# plt.ylim(0, 11)"
   ]
  },
  {
   "cell_type": "code",
   "execution_count": 41,
   "id": "277570de",
   "metadata": {},
   "outputs": [
    {
     "data": {
      "text/plain": [
       "RanksumsResult(statistic=18.480686419153734, pvalue=2.953991840505631e-76)"
      ]
     },
     "execution_count": 41,
     "metadata": {},
     "output_type": "execute_result"
    }
   ],
   "source": [
    "stats.ranksums(cbc_eqtls.query('onek_valid')['logp'], cbc_eqtls.query('~onek_valid')['logp'])"
   ]
  },
  {
   "cell_type": "code",
   "execution_count": 42,
   "id": "a11a3cf9",
   "metadata": {},
   "outputs": [
    {
     "data": {
      "text/plain": [
       "RanksumsResult(statistic=11.791984424643477, pvalue=4.2930463856061386e-32)"
      ]
     },
     "execution_count": 42,
     "metadata": {},
     "output_type": "execute_result"
    }
   ],
   "source": [
    "stats.ranksums(memento_eqtls.query('onek_valid')['logp'], memento_eqtls.query('~onek_valid')['logp'])"
   ]
  },
  {
   "cell_type": "code",
   "execution_count": null,
   "id": "206e1875",
   "metadata": {},
   "outputs": [],
   "source": []
  }
 ],
 "metadata": {
  "kernelspec": {
   "display_name": "Python 3 (ipykernel)",
   "language": "python",
   "name": "python3"
  },
  "language_info": {
   "codemirror_mode": {
    "name": "ipython",
    "version": 3
   },
   "file_extension": ".py",
   "mimetype": "text/x-python",
   "name": "python",
   "nbconvert_exporter": "python",
   "pygments_lexer": "ipython3",
   "version": "3.8.8"
  }
 },
 "nbformat": 4,
 "nbformat_minor": 5
}
