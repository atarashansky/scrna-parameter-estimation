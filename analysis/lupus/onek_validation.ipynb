{
 "cells": [
  {
   "cell_type": "markdown",
   "id": "3ed7cf53",
   "metadata": {},
   "source": [
    "# 1K1K validation"
   ]
  },
  {
   "cell_type": "code",
   "execution_count": 1,
   "id": "dbc255a7",
   "metadata": {},
   "outputs": [],
   "source": [
    "import scanpy as sc\n",
    "import seaborn as sns\n",
    "import pandas as pd\n",
    "import matplotlib.pyplot as plt\n",
    "import numpy as np\n",
    "import scipy.stats as stats\n",
    "import itertools\n",
    "from pybedtools import BedTool\n",
    "import statsmodels.formula.api as smf\n",
    "import statsmodels.api as sm\n",
    "\n",
    "import os\n",
    "import pickle as pkl\n",
    "%matplotlib inline\n",
    "import qvalue"
   ]
  },
  {
   "cell_type": "code",
   "execution_count": 2,
   "id": "887656b0",
   "metadata": {},
   "outputs": [],
   "source": [
    "import sys\n",
    "sys.path.append('/home/ssm-user/Github/scrna-parameter-estimation/dist/memento-0.0.8-py3.8.egg')\n",
    "sys.path.append('/home/ssm-user/Github/misc-seq/miscseq/')\n",
    "import encode\n",
    "import memento"
   ]
  },
  {
   "cell_type": "code",
   "execution_count": 3,
   "id": "8cfbbe39",
   "metadata": {},
   "outputs": [],
   "source": [
    "data_path  = '/data_volume/memento/lupus/'"
   ]
  },
  {
   "cell_type": "markdown",
   "id": "93b38788",
   "metadata": {},
   "source": [
    "### Read SNP positions"
   ]
  },
  {
   "cell_type": "code",
   "execution_count": 4,
   "id": "80a8b58c",
   "metadata": {},
   "outputs": [],
   "source": [
    "pos = pd.read_csv(data_path + 'cm_cg.genos', sep='\\t', index_col=0)"
   ]
  },
  {
   "cell_type": "code",
   "execution_count": 5,
   "id": "cf914420",
   "metadata": {},
   "outputs": [],
   "source": [
    "pos = pos[~pos.index.duplicated(keep='first')]"
   ]
  },
  {
   "cell_type": "code",
   "execution_count": 6,
   "id": "3926a6ae",
   "metadata": {},
   "outputs": [],
   "source": [
    "# pos = pos.drop_duplicates()"
   ]
  },
  {
   "cell_type": "markdown",
   "id": "bdb9b23f",
   "metadata": {},
   "source": [
    "### Filter the anndata"
   ]
  },
  {
   "cell_type": "raw",
   "id": "99823fbf",
   "metadata": {},
   "source": [
    "adata = sc.read(data_path + 'Lupus_study_adjusted_counts.h5ad')\n",
    "adata = adata[adata.obs.ind_cov.isin(pos.columns)].copy()"
   ]
  },
  {
   "cell_type": "raw",
   "id": "e5701cd1",
   "metadata": {},
   "source": [
    "adata = adata[adata.obs['cg_cov'] == 'cM'].copy()"
   ]
  },
  {
   "cell_type": "raw",
   "id": "2fb6d33f",
   "metadata": {},
   "source": [
    "filtered_inds = adata.obs['ind_cov'].value_counts()[adata.obs['ind_cov'].value_counts() > 500].index"
   ]
  },
  {
   "cell_type": "raw",
   "id": "7168b6b8",
   "metadata": {},
   "source": [
    "# adata = adata[adata.obs['ind_cov'].isin(filtered_inds)].copy()"
   ]
  },
  {
   "cell_type": "raw",
   "id": "38252d9f",
   "metadata": {},
   "source": [
    "adata.write(data_path + 'Lupus_study_adjusted_counts_cM_filtered.h5ad')"
   ]
  },
  {
   "cell_type": "markdown",
   "id": "c6f36f82",
   "metadata": {},
   "source": [
    "### Get SNP-gene pairs using bedtools"
   ]
  },
  {
   "cell_type": "raw",
   "id": "de8dc413",
   "metadata": {},
   "source": [
    "from pybedtools import BedTool"
   ]
  },
  {
   "cell_type": "raw",
   "id": "c9c4b79e",
   "metadata": {},
   "source": [
    "snppos = pd.read_csv(data_path + 'cm_cg.snpspos.txt', sep='\\t')\n",
    "snppos['chrom'] = snppos['chr']\n",
    "snppos['pos_start'] = snppos['pos']\n",
    "snppos['pos_end'] = snppos['pos']\n",
    "snppos['rsid'] = snppos['snps']\n",
    "snppos = snppos[['chrom', 'pos_start', 'pos_end', 'rsid']]"
   ]
  },
  {
   "cell_type": "raw",
   "id": "86c5a030",
   "metadata": {},
   "source": [
    "enc = encode.Encode('/home/ssm-user/Github/misc-seq/miscseq/GRCh38Genes.bed')"
   ]
  },
  {
   "cell_type": "raw",
   "id": "d5969732",
   "metadata": {},
   "source": [
    "gene_df = pd.read_csv('/home/ssm-user/Github/misc-seq/miscseq/GRCh38Genes.bed', sep='\\t', header=None).iloc[:, [0, 1, 2, 5]]\n",
    "gene_df.columns = ['chr', 'start', 'end', 'gene']"
   ]
  },
  {
   "cell_type": "raw",
   "id": "791c8807",
   "metadata": {},
   "source": [
    "tss_df = enc.get_tss_window(window_size=0)\n"
   ]
  },
  {
   "cell_type": "raw",
   "id": "6cce4a8a",
   "metadata": {},
   "source": [
    "adata = sc.read(data_path + 'Lupus_study_adjusted_counts.h5ad')"
   ]
  },
  {
   "cell_type": "raw",
   "id": "99091156",
   "metadata": {},
   "source": [
    "tss_df = tss_df[tss_df['symbol'].isin(adata.var.index)]"
   ]
  },
  {
   "cell_type": "raw",
   "id": "20970aa4",
   "metadata": {},
   "source": [
    "tss_window_bed = BedTool.from_dataframe(tss_df)\n",
    "snp_bed = BedTool.from_dataframe(snppos)"
   ]
  },
  {
   "cell_type": "raw",
   "id": "c8a6b1dd",
   "metadata": {},
   "source": [
    "result = BedTool.window(tss_window_bed, snp_bed, w=100000).to_dataframe()"
   ]
  },
  {
   "cell_type": "raw",
   "id": "bf794202",
   "metadata": {},
   "source": [
    "gene_snp_pairs = result[['name', 'itemRgb']].drop_duplicates().rename(columns={'name':'gene', 'itemRgb':'rsid'})"
   ]
  },
  {
   "cell_type": "raw",
   "id": "d55db995",
   "metadata": {},
   "source": [
    "gene_snp_pairs.to_csv(data_path +'gene_snp_pairs_100k.csv', index=False)\n"
   ]
  },
  {
   "cell_type": "markdown",
   "id": "29d5b18f",
   "metadata": {},
   "source": [
    "### Read 1K1K eQTL output"
   ]
  },
  {
   "cell_type": "code",
   "execution_count": 15,
   "id": "6e0936eb",
   "metadata": {},
   "outputs": [],
   "source": [
    "gene_df = pd.read_csv('/home/ssm-user/Github/misc-seq/miscseq/GRCh38Genes.bed', sep='\\t', header=None).iloc[:, [0, 1, 2, 5]]\n",
    "gene_df.columns = ['chr', 'start', 'end', 'gene']"
   ]
  },
  {
   "cell_type": "code",
   "execution_count": 16,
   "id": "038a8f78",
   "metadata": {},
   "outputs": [],
   "source": [
    "gene_df = gene_df.drop_duplicates('gene')[['gene', 'chr', 'start', 'end']]\n",
    "gene_df.columns = ['geneid', 'chr', 's1', 's2']\n",
    "gene_df.to_csv(data_path + 'geneloc.txt', index=False)\n",
    "gene_df.columns = ['gene', 'chr', 's1', 's2']\n"
   ]
  },
  {
   "cell_type": "code",
   "execution_count": 17,
   "id": "7194bee2",
   "metadata": {},
   "outputs": [],
   "source": [
    "onek1k_pos = pd.read_csv('1k1k_snps_chrpos.txt', header=None).iloc[:,0].tolist()\n",
    "onek1k_info = pd.read_csv('1k1k_snp_info.txt', sep='\\t', header=None).iloc[:,:3]\n",
    "onek1k_info.columns = ['chr', 'pos', 'name']\n",
    "onek1k_info['rsid'] = onek1k_info['chr'].astype(str) + ':' + onek1k_info['pos'].astype(str)"
   ]
  },
  {
   "cell_type": "code",
   "execution_count": 18,
   "id": "66172174",
   "metadata": {},
   "outputs": [],
   "source": [
    "onek_replication = pd.read_csv(data_path + 'OneK1K_eqtls_for_replication.txt', sep='\\t')#.query('cell_type == \"Mono_C\"')"
   ]
  },
  {
   "cell_type": "code",
   "execution_count": 19,
   "id": "53f9341e",
   "metadata": {},
   "outputs": [],
   "source": [
    "onek_replication = onek_replication.merge(onek1k_info, left_on='SNP_rsID', right_on='name')#.query('cell_type == \"Mono_C\"')"
   ]
  },
  {
   "cell_type": "code",
   "execution_count": 20,
   "id": "b9fc936e",
   "metadata": {},
   "outputs": [],
   "source": [
    "onek_replication['gene'] = onek_replication['GeneID']\n",
    "onek_replication['hit_id'] = onek_replication['gene'] + '*' + onek_replication['rsid']"
   ]
  },
  {
   "cell_type": "code",
   "execution_count": 21,
   "id": "6dacaaec",
   "metadata": {},
   "outputs": [],
   "source": [
    "onek_replication = onek_replication.query('rsid in @pos.index')"
   ]
  },
  {
   "cell_type": "code",
   "execution_count": 22,
   "id": "100f5118",
   "metadata": {},
   "outputs": [
    {
     "name": "stdout",
     "output_type": "stream",
     "text": [
      "onek 100k window proportion 0.21757941477854947\n"
     ]
    }
   ],
   "source": [
    "onek_replication = onek_replication.merge(gene_df.drop_duplicates('gene'), on='gene')\n",
    "onek_replication['snp_location'] = onek_replication['rsid'].str.split(':').str[1].astype(int)\n",
    "onek_replication['distance1'] = (onek_replication['s1'] - onek_replication['snp_location']).abs()\n",
    "print('onek 100k window proportion', onek_replication.query('distance1 < 100000').shape[0]/onek_replication.shape[0])\n",
    "onek_replication = onek_replication.query('distance1 < 100000')"
   ]
  },
  {
   "cell_type": "markdown",
   "id": "38feebe5",
   "metadata": {},
   "source": [
    "### Read mat eQTL output"
   ]
  },
  {
   "cell_type": "raw",
   "id": "ef3fa31b",
   "metadata": {},
   "source": [
    "cbc_eqtls = pd.read_csv(data_path + 'Table6.txt', sep='\\t', skiprows=1).query('cell == \"cm\"').drop('STD_FE', axis=1)\n",
    "cbc_eqtls.columns = ['ct', 'rsid_gene', 'pvalue', 'beta']"
   ]
  },
  {
   "cell_type": "raw",
   "id": "6b5ac9c2",
   "metadata": {},
   "source": [
    "cbc_eqtls['gene'] = cbc_eqtls['rsid_gene'].str.split('_').str[1]\n",
    "cbc_eqtls['rsid'] = cbc_eqtls['rsid_gene'].str.split('_').str[0]"
   ]
  },
  {
   "cell_type": "raw",
   "id": "68b3d2b8",
   "metadata": {},
   "source": [
    "cbc_eqtls = cbc_eqtls[cbc_eqtls['rsid'].isin(pos.index)]"
   ]
  },
  {
   "cell_type": "raw",
   "id": "c54c20cf",
   "metadata": {},
   "source": [
    "cbc_eqtls['hit_id'] = cbc_eqtls['gene'] + '*' + cbc_eqtls['rsid']"
   ]
  },
  {
   "cell_type": "raw",
   "id": "6900b735",
   "metadata": {},
   "source": [
    "cbc_eqtls['onek_valid'] = cbc_eqtls['hit_id'].isin(onek_replication['hit_id'])"
   ]
  },
  {
   "cell_type": "raw",
   "id": "17c7855a",
   "metadata": {},
   "source": [
    "cbc_eqtls = cbc_eqtls.merge(gene_df.drop_duplicates('gene'), on='gene')\n",
    "cbc_eqtls['snp_location'] = cbc_eqtls['rsid'].str.split(':').str[1].astype(int)\n",
    "cbc_eqtls['distance1'] = (cbc_eqtls['start'] - cbc_eqtls['snp_location']).abs()\n",
    "print('cbc eqtl', cbc_eqtls.query('distance1 < 100000').shape[0]/cbc_eqtls.shape[0])\n",
    "cbc_eqtls = cbc_eqtls.query('distance1 < 100000')"
   ]
  },
  {
   "cell_type": "markdown",
   "id": "7ed69aa2",
   "metadata": {},
   "source": [
    "### Run memento"
   ]
  },
  {
   "cell_type": "code",
   "execution_count": 60,
   "id": "9ba310ac",
   "metadata": {},
   "outputs": [],
   "source": [
    "gene_snp_pairs = pd.read_csv(data_path +'gene_snp_pairs_100k.csv').query('rsid in @pos.index').sample(frac=1)"
   ]
  },
  {
   "cell_type": "code",
   "execution_count": 62,
   "id": "6852bc1a",
   "metadata": {},
   "outputs": [],
   "source": [
    "adata = sc.read(data_path + 'Lupus_study_adjusted_counts_cM_filtered.h5ad')\n",
    "adata = adata[adata.obs.ind_cov.isin(pos.columns)].copy()\n",
    "\n",
    "adata.obs['capture_rate'] = 0.1\n",
    "memento.setup_memento(adata, q_column='capture_rate', trim_percent=0.1, filter_mean_thresh=0.05)\n",
    "memento.create_groups(adata, label_columns=['ind_cov'])\n",
    "\n",
    "covariates = pd.read_csv(data_path + 'mateqtl_input/cm_cg.mateqtl_cov.txt', sep='\\t', index_col=0).T\n",
    "cov_df = covariates[['age', 'status','Female'] + [x for x in covariates.columns if '_g' in x]].loc[[x[3:] for x in adata.uns['memento']['groups']]]\n",
    "donor_df = pos[[x[3:] for x in adata.uns['memento']['groups']]].T"
   ]
  },
  {
   "cell_type": "code",
   "execution_count": 63,
   "id": "fe1786ea",
   "metadata": {},
   "outputs": [],
   "source": [
    "block_size = 1000000"
   ]
  },
  {
   "cell_type": "code",
   "execution_count": 65,
   "id": "5702ff79",
   "metadata": {},
   "outputs": [],
   "source": [
    "cov_df['const'] = 1\n",
    "cov_df = cov_df[['const']]"
   ]
  },
  {
   "cell_type": "code",
   "execution_count": 66,
   "id": "7e6d71b7",
   "metadata": {},
   "outputs": [
    {
     "name": "stderr",
     "output_type": "stream",
     "text": [
      "/home/ssm-user/anaconda3/envs/single_cell/lib/python3.8/site-packages/pandas/core/arrays/categorical.py:2631: FutureWarning: The `inplace` parameter in pandas.Categorical.remove_unused_categories is deprecated and will be removed in a future version.\n",
      "  res = method(*args, **kwargs)\n",
      "[Parallel(n_jobs=30)]: Using backend LokyBackend with 30 concurrent workers.\n",
      "[Parallel(n_jobs=30)]: Done 140 tasks      | elapsed:   33.1s\n",
      "[Parallel(n_jobs=30)]: Done 390 tasks      | elapsed:  1.3min\n",
      "[Parallel(n_jobs=30)]: Done 740 tasks      | elapsed:  2.2min\n",
      "[Parallel(n_jobs=30)]: Done 1190 tasks      | elapsed:  3.6min\n",
      "[Parallel(n_jobs=30)]: Done 1740 tasks      | elapsed:  5.0min\n",
      "[Parallel(n_jobs=30)]: Done 2390 tasks      | elapsed:  6.2min\n",
      "[Parallel(n_jobs=30)]: Done 3140 tasks      | elapsed:  7.7min\n",
      "[Parallel(n_jobs=30)]: Done 3402 out of 3402 | elapsed:  8.2min finished\n",
      "[Parallel(n_jobs=30)]: Using backend LokyBackend with 30 concurrent workers.\n",
      "[Parallel(n_jobs=30)]: Done 140 tasks      | elapsed:   16.8s\n",
      "[Parallel(n_jobs=30)]: Done 390 tasks      | elapsed:   45.5s\n",
      "[Parallel(n_jobs=30)]: Done 740 tasks      | elapsed:  1.4min\n",
      "[Parallel(n_jobs=30)]: Done 1190 tasks      | elapsed:  2.3min\n",
      "[Parallel(n_jobs=30)]: Done 1740 tasks      | elapsed:  3.3min\n",
      "[Parallel(n_jobs=30)]: Done 2390 tasks      | elapsed:  4.6min\n",
      "[Parallel(n_jobs=30)]: Done 3140 tasks      | elapsed:  6.0min\n",
      "[Parallel(n_jobs=30)]: Done 3394 out of 3394 | elapsed:  6.5min finished\n",
      "[Parallel(n_jobs=30)]: Using backend LokyBackend with 30 concurrent workers.\n",
      "[Parallel(n_jobs=30)]: Done 140 tasks      | elapsed:   16.8s\n",
      "[Parallel(n_jobs=30)]: Done 390 tasks      | elapsed:   45.3s\n",
      "[Parallel(n_jobs=30)]: Done 740 tasks      | elapsed:  1.4min\n",
      "[Parallel(n_jobs=30)]: Done 1190 tasks      | elapsed:  2.3min\n",
      "[Parallel(n_jobs=30)]: Done 1740 tasks      | elapsed:  3.3min\n",
      "[Parallel(n_jobs=30)]: Done 2390 tasks      | elapsed:  4.6min\n",
      "[Parallel(n_jobs=30)]: Done 3140 tasks      | elapsed:  6.0min\n",
      "[Parallel(n_jobs=30)]: Done 3387 out of 3387 | elapsed:  6.5min finished\n",
      "[Parallel(n_jobs=30)]: Using backend LokyBackend with 30 concurrent workers.\n",
      "[Parallel(n_jobs=30)]: Done 140 tasks      | elapsed:   16.9s\n",
      "[Parallel(n_jobs=30)]: Done 390 tasks      | elapsed:   45.2s\n",
      "[Parallel(n_jobs=30)]: Done 740 tasks      | elapsed:  1.4min\n",
      "[Parallel(n_jobs=30)]: Done 1190 tasks      | elapsed:  2.3min\n",
      "[Parallel(n_jobs=30)]: Done 1740 tasks      | elapsed:  3.3min\n",
      "[Parallel(n_jobs=30)]: Done 2390 tasks      | elapsed:  4.6min\n",
      "[Parallel(n_jobs=30)]: Done 3140 tasks      | elapsed:  6.0min\n",
      "[Parallel(n_jobs=30)]: Done 3385 out of 3385 | elapsed:  6.5min finished\n",
      "[Parallel(n_jobs=30)]: Using backend LokyBackend with 30 concurrent workers.\n",
      "[Parallel(n_jobs=30)]: Done 140 tasks      | elapsed:   16.6s\n",
      "[Parallel(n_jobs=30)]: Done 390 tasks      | elapsed:   45.0s\n",
      "[Parallel(n_jobs=30)]: Done 740 tasks      | elapsed:  1.4min\n",
      "[Parallel(n_jobs=30)]: Done 1190 tasks      | elapsed:  2.3min\n",
      "[Parallel(n_jobs=30)]: Done 1740 tasks      | elapsed:  3.3min\n",
      "[Parallel(n_jobs=30)]: Done 2390 tasks      | elapsed:  4.6min\n",
      "[Parallel(n_jobs=30)]: Done 3140 tasks      | elapsed:  6.0min\n",
      "[Parallel(n_jobs=30)]: Done 3384 out of 3384 | elapsed:  6.5min finished\n",
      "[Parallel(n_jobs=30)]: Using backend LokyBackend with 30 concurrent workers.\n",
      "[Parallel(n_jobs=30)]: Done 140 tasks      | elapsed:   16.8s\n",
      "[Parallel(n_jobs=30)]: Done 390 tasks      | elapsed:   45.4s\n",
      "[Parallel(n_jobs=30)]: Done 740 tasks      | elapsed:  1.4min\n",
      "[Parallel(n_jobs=30)]: Done 1190 tasks      | elapsed:  2.3min\n",
      "[Parallel(n_jobs=30)]: Done 1740 tasks      | elapsed:  3.3min\n",
      "[Parallel(n_jobs=30)]: Done 2390 tasks      | elapsed:  4.6min\n",
      "[Parallel(n_jobs=30)]: Done 3140 tasks      | elapsed:  6.0min\n",
      "[Parallel(n_jobs=30)]: Done 3380 out of 3380 | elapsed:  6.5min finished\n",
      "[Parallel(n_jobs=30)]: Using backend LokyBackend with 30 concurrent workers.\n",
      "[Parallel(n_jobs=30)]: Done 140 tasks      | elapsed:   16.8s\n",
      "[Parallel(n_jobs=30)]: Done 390 tasks      | elapsed:   45.2s\n",
      "[Parallel(n_jobs=30)]: Done 740 tasks      | elapsed:  1.4min\n",
      "[Parallel(n_jobs=30)]: Done 1190 tasks      | elapsed:  2.3min\n",
      "[Parallel(n_jobs=30)]: Done 1740 tasks      | elapsed:  3.3min\n",
      "[Parallel(n_jobs=30)]: Done 2390 tasks      | elapsed:  4.6min\n",
      "[Parallel(n_jobs=30)]: Done 3140 tasks      | elapsed:  6.0min\n",
      "[Parallel(n_jobs=30)]: Done 3379 out of 3379 | elapsed:  6.5min finished\n",
      "[Parallel(n_jobs=30)]: Using backend LokyBackend with 30 concurrent workers.\n",
      "[Parallel(n_jobs=30)]: Done 140 tasks      | elapsed:   12.8s\n",
      "[Parallel(n_jobs=30)]: Done 390 tasks      | elapsed:   34.4s\n",
      "[Parallel(n_jobs=30)]: Done 740 tasks      | elapsed:  1.0min\n",
      "[Parallel(n_jobs=30)]: Done 1190 tasks      | elapsed:  1.7min\n",
      "[Parallel(n_jobs=30)]: Done 1740 tasks      | elapsed:  2.4min\n",
      "[Parallel(n_jobs=30)]: Done 2390 tasks      | elapsed:  3.3min\n",
      "[Parallel(n_jobs=30)]: Done 3140 tasks      | elapsed:  4.3min\n",
      "[Parallel(n_jobs=30)]: Done 3326 out of 3326 | elapsed:  4.6min finished\n"
     ]
    }
   ],
   "source": [
    "for block in range(int(gene_snp_pairs.shape[0]/block_size)+1):\n",
    "    \n",
    "    gene_snp_pairs_block = gene_snp_pairs.iloc[   (block*block_size):((block+1)*block_size), :]\n",
    "    \n",
    "    memento.compute_1d_moments(adata, min_perc_group=.5, gene_list=gene_snp_pairs_block.gene.drop_duplicates().tolist())\n",
    "    gene_to_snp = dict(gene_snp_pairs_block[gene_snp_pairs_block.gene.isin(adata.var.index)].groupby('gene').rsid.apply(list))\n",
    "\n",
    "    memento.ht_1d_moments(\n",
    "        adata, \n",
    "        covariate=cov_df,\n",
    "        treatment=donor_df,\n",
    "        treatment_for_gene=gene_to_snp,\n",
    "        num_boot=5000, \n",
    "        verbose=1,\n",
    "        num_cpus=30,\n",
    "        resampling='bootstrap',\n",
    "        approx=True,\n",
    "        resample_rep=True)\n",
    "    result = memento.get_1d_ht_result(adata).rename(columns={'tx':'rsid'})\n",
    "    result.to_csv(data_path + 'window_100k/100k_result_approx_{}.csv'.format(block))"
   ]
  },
  {
   "cell_type": "markdown",
   "id": "94c2962c",
   "metadata": {},
   "source": [
    "### Compare memento and mat eQTL outputs"
   ]
  },
  {
   "cell_type": "code",
   "execution_count": 7,
   "id": "04ae3928",
   "metadata": {},
   "outputs": [],
   "source": [
    "result_list = []\n",
    "for block in range(8):\n",
    "    result_list.append(pd.read_csv(data_path + 'window_100k/100k_result_no_approx_{}.csv'.format(block)))\n",
    "result = pd.concat(result_list)"
   ]
  },
  {
   "cell_type": "code",
   "execution_count": 41,
   "id": "856349ec",
   "metadata": {},
   "outputs": [
    {
     "name": "stderr",
     "output_type": "stream",
     "text": [
      "/home/ssm-user/anaconda3/envs/single_cell/lib/python3.8/site-packages/numpy/lib/arraysetops.py:580: FutureWarning: elementwise comparison failed; returning scalar instead, but in the future will perform elementwise comparison\n",
      "  mask |= (ar1 == a)\n"
     ]
    }
   ],
   "source": [
    "result = pd.read_csv(data_path + 'window_100k/100k_result.csv', index_col=0)"
   ]
  },
  {
   "cell_type": "code",
   "execution_count": 42,
   "id": "14211761",
   "metadata": {},
   "outputs": [],
   "source": [
    "result['fdr'] = memento.util._fdrcorrect(result['de_pval'])"
   ]
  },
  {
   "cell_type": "code",
   "execution_count": 43,
   "id": "9e2d10c8",
   "metadata": {},
   "outputs": [],
   "source": [
    "result['hit_id'] = result['gene'] + '*' + result['rsid']\n",
    "result['onek_valid'] = result['hit_id'].isin(onek_replication['hit_id'])"
   ]
  },
  {
   "cell_type": "code",
   "execution_count": 44,
   "id": "fa02c8bc",
   "metadata": {},
   "outputs": [],
   "source": [
    "mateqtl_output = pd.read_csv(data_path + 'mateqtl_output/cm_cg_matqtl_cis.out', sep='\\t')\n",
    "mateqtl_output['hit_id'] = mateqtl_output['gene'] + '*' + mateqtl_output['SNP']\n",
    "mateqtl_output['onek_valid'] = mateqtl_output['hit_id'].isin(onek_replication['hit_id'])\n",
    "mateqtl_output['pvalue'] = mateqtl_output['p-value']"
   ]
  },
  {
   "cell_type": "code",
   "execution_count": 45,
   "id": "5cfcaaae",
   "metadata": {},
   "outputs": [
    {
     "data": {
      "text/plain": [
       "(1911, 16)"
      ]
     },
     "execution_count": 45,
     "metadata": {},
     "output_type": "execute_result"
    }
   ],
   "source": [
    "onek_replication.shape"
   ]
  },
  {
   "cell_type": "code",
   "execution_count": 46,
   "id": "1b3385e3",
   "metadata": {},
   "outputs": [],
   "source": [
    "result['qv'] = qvalue.estimate(result['de_pval'])"
   ]
  },
  {
   "cell_type": "code",
   "execution_count": 47,
   "id": "91eaf1f7",
   "metadata": {},
   "outputs": [],
   "source": [
    "num_thresh = 100\n",
    "\n",
    "memento_recall = np.zeros(num_thresh)\n",
    "memento_precision = np.zeros(num_thresh)\n",
    "mateqtl_recall = np.zeros(num_thresh)\n",
    "mateqtl_precision = np.zeros(num_thresh)\n",
    "\n",
    "memento_all_onek = result.onek_valid.sum()\n",
    "\n",
    "for idx, threshold in enumerate(np.logspace(-7, -1.3, num_thresh)):\n",
    "    \n",
    "    memento_recall[idx] = result.query('qv < {}'.format(threshold)).onek_valid.sum()/memento_all_onek\n",
    "    memento_precision[idx] = result.query('qv < {} & onek_valid'.format(threshold)).shape[0]/result.query('qv < {}'.format(threshold)).shape[0]\n",
    "\n",
    "    mateqtl_recall[idx] = mateqtl_output.query('FDR < {}'.format(threshold)).onek_valid.sum()/onek_replication.shape[0]\n",
    "    mateqtl_precision[idx] = mateqtl_output.query('FDR < {}'.format(threshold)).onek_valid.sum()/mateqtl_output.query('FDR < {}'.format(threshold)).shape[0]\n",
    "    "
   ]
  },
  {
   "cell_type": "code",
   "execution_count": 48,
   "id": "cad45911",
   "metadata": {},
   "outputs": [
    {
     "data": {
      "text/plain": [
       "<matplotlib.legend.Legend at 0x7f5537e13160>"
      ]
     },
     "execution_count": 48,
     "metadata": {},
     "output_type": "execute_result"
    },
    {
     "data": {
      "image/png": "[encoded data removed]",
      "text/plain": [
       "<Figure size 432x288 with 1 Axes>"
      ]
     },
     "metadata": {
      "needs_background": "light"
     },
     "output_type": "display_data"
    }
   ],
   "source": [
    "plt.scatter(memento_recall, memento_precision)\n",
    "plt.scatter(mateqtl_recall, mateqtl_precision)\n",
    "plt.ylabel('Precision');\n",
    "plt.xlabel('Recall');\n",
    "plt.legend(['memento', 'mat eqtl'])"
   ]
  },
  {
   "cell_type": "code",
   "execution_count": 49,
   "id": "2300613e",
   "metadata": {},
   "outputs": [
    {
     "data": {
      "text/html": [
       "<div>\n",
       "<style scoped>\n",
       "    .dataframe tbody tr th:only-of-type {\n",
       "        vertical-align: middle;\n",
       "    }\n",
       "\n",
       "    .dataframe tbody tr th {\n",
       "        vertical-align: top;\n",
       "    }\n",
       "\n",
       "    .dataframe thead th {\n",
       "        text-align: right;\n",
       "    }\n",
       "</style>\n",
       "<table border=\"1\" class=\"dataframe\">\n",
       "  <thead>\n",
       "    <tr style=\"text-align: right;\">\n",
       "      <th></th>\n",
       "      <th>gene</th>\n",
       "      <th>rsid</th>\n",
       "      <th>de_coef</th>\n",
       "      <th>de_se</th>\n",
       "      <th>de_pval</th>\n",
       "      <th>dv_coef</th>\n",
       "      <th>dv_se</th>\n",
       "      <th>dv_pval</th>\n",
       "      <th>fdr</th>\n",
       "      <th>hit_id</th>\n",
       "      <th>onek_valid</th>\n",
       "      <th>qv</th>\n",
       "    </tr>\n",
       "  </thead>\n",
       "  <tbody>\n",
       "    <tr>\n",
       "      <th>0</th>\n",
       "      <td>NOC2L</td>\n",
       "      <td>1:940005</td>\n",
       "      <td>-0.012970</td>\n",
       "      <td>0.060849</td>\n",
       "      <td>0.914090</td>\n",
       "      <td>-0.038562</td>\n",
       "      <td>0.082969</td>\n",
       "      <td>0.725216</td>\n",
       "      <td>0.998980</td>\n",
       "      <td>NOC2L*1:940005</td>\n",
       "      <td>False</td>\n",
       "      <td>0.990554</td>\n",
       "    </tr>\n",
       "    <tr>\n",
       "      <th>1</th>\n",
       "      <td>NOC2L</td>\n",
       "      <td>1:936111</td>\n",
       "      <td>-0.008015</td>\n",
       "      <td>0.052235</td>\n",
       "      <td>0.943096</td>\n",
       "      <td>0.056780</td>\n",
       "      <td>0.076871</td>\n",
       "      <td>0.694598</td>\n",
       "      <td>0.999519</td>\n",
       "      <td>NOC2L*1:936111</td>\n",
       "      <td>False</td>\n",
       "      <td>0.991088</td>\n",
       "    </tr>\n",
       "  </tbody>\n",
       "</table>\n",
       "</div>"
      ],
      "text/plain": [
       "    gene      rsid   de_coef     de_se   de_pval   dv_coef     dv_se  \\\n",
       "0  NOC2L  1:940005 -0.012970  0.060849  0.914090 -0.038562  0.082969   \n",
       "1  NOC2L  1:936111 -0.008015  0.052235  0.943096  0.056780  0.076871   \n",
       "\n",
       "    dv_pval       fdr          hit_id  onek_valid        qv  \n",
       "0  0.725216  0.998980  NOC2L*1:940005       False  0.990554  \n",
       "1  0.694598  0.999519  NOC2L*1:936111       False  0.991088  "
      ]
     },
     "execution_count": 49,
     "metadata": {},
     "output_type": "execute_result"
    }
   ],
   "source": [
    "result.head(2)"
   ]
  },
  {
   "cell_type": "code",
   "execution_count": 53,
   "id": "01d4fb97",
   "metadata": {},
   "outputs": [],
   "source": [
    "mateqtl_output['rsid'] = mateqtl_output['SNP']"
   ]
  },
  {
   "cell_type": "code",
   "execution_count": 54,
   "id": "13e8f704",
   "metadata": {},
   "outputs": [],
   "source": [
    "merged = result.merge(mateqtl_output, on=['gene', 'rsid'])"
   ]
  },
  {
   "cell_type": "code",
   "execution_count": 55,
   "id": "71a5fcaa",
   "metadata": {},
   "outputs": [
    {
     "data": {
      "text/plain": [
       "(166288, 20)"
      ]
     },
     "execution_count": 55,
     "metadata": {},
     "output_type": "execute_result"
    }
   ],
   "source": [
    "merged.shape"
   ]
  },
  {
   "cell_type": "code",
   "execution_count": 57,
   "id": "93a6d7d8",
   "metadata": {},
   "outputs": [
    {
     "data": {
      "text/plain": [
       "<matplotlib.collections.PathCollection at 0x7f553dd78520>"
      ]
     },
     "execution_count": 57,
     "metadata": {},
     "output_type": "execute_result"
    },
    {
     "data": {
      "image/png": "[encoded data removed]",
      "text/plain": [
       "<Figure size 432x288 with 1 Axes>"
      ]
     },
     "metadata": {
      "needs_background": "light"
     },
     "output_type": "display_data"
    }
   ],
   "source": [
    "plt.scatter(merged['de_coef'], merged['beta'], s=1)\n",
    "plt"
   ]
  },
  {
   "cell_type": "code",
   "execution_count": null,
   "id": "e92b576f",
   "metadata": {},
   "outputs": [],
   "source": []
  }
 ],
 "metadata": {
  "kernelspec": {
   "display_name": "Python 3 (ipykernel)",
   "language": "python",
   "name": "python3"
  },
  "language_info": {
   "codemirror_mode": {
    "name": "ipython",
    "version": 3
   },
   "file_extension": ".py",
   "mimetype": "text/x-python",
   "name": "python",
   "nbconvert_exporter": "python",
   "pygments_lexer": "ipython3",
   "version": "3.8.8"
  }
 },
 "nbformat": 4,
 "nbformat_minor": 5
}
