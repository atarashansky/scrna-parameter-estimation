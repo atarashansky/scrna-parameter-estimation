{
 "cells": [
  {
   "cell_type": "markdown",
   "id": "1cd335b7",
   "metadata": {},
   "source": [
    "# Simple eQTL analysis"
   ]
  },
  {
   "cell_type": "markdown",
   "id": "d7875cf7",
   "metadata": {},
   "source": [
    "### Development"
   ]
  },
  {
   "cell_type": "code",
   "execution_count": 1,
   "id": "1b858f2e",
   "metadata": {},
   "outputs": [],
   "source": [
    "import scanpy as sc\n",
    "import seaborn as sns\n",
    "import pandas as pd\n",
    "import matplotlib.pyplot as plt\n",
    "import numpy as np\n",
    "import scipy.stats as stats\n",
    "import itertools\n",
    "from pybedtools import BedTool\n",
    "import statsmodels.formula.api as smf\n",
    "import statsmodels.api as sm\n",
    "\n",
    "import os\n",
    "import pickle as pkl\n",
    "%matplotlib inline"
   ]
  },
  {
   "cell_type": "code",
   "execution_count": 2,
   "id": "dceed11c",
   "metadata": {},
   "outputs": [],
   "source": [
    "pd.set_option('max_columns', None)\n",
    "pd.set_option('display.max_rows', 500)"
   ]
  },
  {
   "cell_type": "code",
   "execution_count": 3,
   "id": "62cbc581",
   "metadata": {},
   "outputs": [],
   "source": [
    "import sys\n",
    "sys.path.append('/home/ssm-user/Github/scrna-parameter-estimation/dist/memento-0.0.8-py3.8.egg')\n",
    "sys.path.append('/home/ssm-user/Github/misc-seq/miscseq/')\n",
    "import encode\n",
    "import memento"
   ]
  },
  {
   "cell_type": "code",
   "execution_count": 4,
   "id": "8ecc8570",
   "metadata": {},
   "outputs": [],
   "source": [
    "import matplotlib.pylab as pylab\n",
    "params = {'legend.fontsize': 'medium',\n",
    "         'axes.labelsize': 'medium',\n",
    "         'axes.titlesize':'medium',\n",
    "         'figure.titlesize':'medium',\n",
    "         'xtick.labelsize':'medium',\n",
    "         'ytick.labelsize':'medium',\n",
    "         'axes.labelsize': 'large'}\n",
    "pylab.rcParams.update(params)"
   ]
  },
  {
   "cell_type": "code",
   "execution_count": 5,
   "id": "df11af81",
   "metadata": {},
   "outputs": [],
   "source": [
    "data_path = '/data_volume/memento/hbec/'"
   ]
  },
  {
   "cell_type": "code",
   "execution_count": 6,
   "id": "dd674620",
   "metadata": {},
   "outputs": [],
   "source": [
    "adata = sc.read(data_path + 'HBEC_type_I_filtered_counts_deep.h5ad')"
   ]
  },
  {
   "cell_type": "raw",
   "id": "cdaef149",
   "metadata": {},
   "source": [
    "sc.pl.umap(adata_processed, color=['cell_type', 'time', 'stim'])"
   ]
  },
  {
   "cell_type": "code",
   "execution_count": 7,
   "id": "d818c149",
   "metadata": {},
   "outputs": [],
   "source": [
    "converter = {'basal/club':'BC', 'basal':'B', 'ciliated':'C', 'goblet':'G', 'ionocyte/tuft':'IT', 'neuroendo':'N', 'club':'club'}"
   ]
  },
  {
   "cell_type": "code",
   "execution_count": 8,
   "id": "bea4566a",
   "metadata": {},
   "outputs": [],
   "source": [
    "adata.obs['ct'] = adata.obs['cell_type'].apply(lambda x: converter[x])\n",
    "# adata_processed.obs['ct'] = adata_processed.obs['cell_type'].apply(lambda x: converter[x])"
   ]
  },
  {
   "cell_type": "code",
   "execution_count": 9,
   "id": "34b3dd7b",
   "metadata": {},
   "outputs": [],
   "source": [
    "def assign_q(batch):\n",
    "    \n",
    "    if batch == 0:\n",
    "        return 0.387*0.25\n",
    "    elif batch == 1:\n",
    "        return 0.392*0.25\n",
    "    elif batch == 2:\n",
    "        return 0.436*0.25\n",
    "    else:\n",
    "        return 0.417*0.25"
   ]
  },
  {
   "cell_type": "code",
   "execution_count": 10,
   "id": "e7aa8610",
   "metadata": {},
   "outputs": [],
   "source": [
    "adata.obs['q'] = adata.obs['batch'].apply(assign_q)"
   ]
  },
  {
   "cell_type": "code",
   "execution_count": 11,
   "id": "f8d708d8",
   "metadata": {},
   "outputs": [
    {
     "ename": "KeyboardInterrupt",
     "evalue": "",
     "output_type": "error",
     "traceback": [
      "\u001b[0;31m---------------------------------------------------------------------------\u001b[0m",
      "\u001b[0;31mKeyboardInterrupt\u001b[0m                         Traceback (most recent call last)",
      "\u001b[0;32m/tmp/ipykernel_18295/2086672689.py\u001b[0m in \u001b[0;36m<module>\u001b[0;34m\u001b[0m\n\u001b[0;32m----> 1\u001b[0;31m \u001b[0mmemento\u001b[0m\u001b[0;34m.\u001b[0m\u001b[0msetup_memento\u001b[0m\u001b[0;34m(\u001b[0m\u001b[0madata\u001b[0m\u001b[0;34m,\u001b[0m \u001b[0mq_column\u001b[0m\u001b[0;34m=\u001b[0m\u001b[0;34m'q'\u001b[0m\u001b[0;34m,\u001b[0m \u001b[0mtrim_percent\u001b[0m\u001b[0;34m=\u001b[0m\u001b[0;36m0.1\u001b[0m\u001b[0;34m)\u001b[0m\u001b[0;34m\u001b[0m\u001b[0;34m\u001b[0m\u001b[0m\n\u001b[0m",
      "\u001b[0;32m~/Github/scrna-parameter-estimation/dist/memento-0.0.8-py3.8.egg/memento/main.py\u001b[0m in \u001b[0;36msetup_memento\u001b[0;34m(adata, q_column, inplace, filter_mean_thresh, trim_percent, shrinkage, num_bins, estimator_type)\u001b[0m\n\u001b[1;32m     60\u001b[0m \u001b[0;34m\u001b[0m\u001b[0m\n\u001b[1;32m     61\u001b[0m         \u001b[0;31m# Compute residual variance over all cells with naive size factor\u001b[0m\u001b[0;34m\u001b[0m\u001b[0;34m\u001b[0m\u001b[0;34m\u001b[0m\u001b[0m\n\u001b[0;32m---> 62\u001b[0;31m \tall_m, all_v = estimator._get_estimator_1d(adata.uns['memento']['estimator_type'])(\n\u001b[0m\u001b[1;32m     63\u001b[0m                 \u001b[0mdata\u001b[0m\u001b[0;34m=\u001b[0m\u001b[0madata\u001b[0m\u001b[0;34m.\u001b[0m\u001b[0mX\u001b[0m\u001b[0;34m,\u001b[0m\u001b[0;34m\u001b[0m\u001b[0;34m\u001b[0m\u001b[0m\n\u001b[1;32m     64\u001b[0m                 \u001b[0mn_obs\u001b[0m\u001b[0;34m=\u001b[0m\u001b[0madata\u001b[0m\u001b[0;34m.\u001b[0m\u001b[0mshape\u001b[0m\u001b[0;34m[\u001b[0m\u001b[0;36m0\u001b[0m\u001b[0;34m]\u001b[0m\u001b[0;34m,\u001b[0m\u001b[0;34m\u001b[0m\u001b[0;34m\u001b[0m\u001b[0m\n",
      "\u001b[0;32m~/Github/scrna-parameter-estimation/dist/memento-0.0.8-py3.8.egg/memento/estimator.py\u001b[0m in \u001b[0;36m_hyper_1d_relative\u001b[0;34m(data, n_obs, q, size_factor)\u001b[0m\n\u001b[1;32m    182\u001b[0m                 \u001b[0mrow_weight_sq\u001b[0m \u001b[0;34m=\u001b[0m \u001b[0;34m(\u001b[0m\u001b[0;36m1\u001b[0m\u001b[0;34m/\u001b[0m\u001b[0msize_factor\u001b[0m\u001b[0;34m**\u001b[0m\u001b[0;36m2\u001b[0m\u001b[0;34m)\u001b[0m\u001b[0;34m.\u001b[0m\u001b[0mreshape\u001b[0m\u001b[0;34m(\u001b[0m\u001b[0;34m[\u001b[0m\u001b[0;36m1\u001b[0m\u001b[0;34m,\u001b[0m \u001b[0;34m-\u001b[0m\u001b[0;36m1\u001b[0m\u001b[0;34m]\u001b[0m\u001b[0;34m)\u001b[0m\u001b[0;34m\u001b[0m\u001b[0;34m\u001b[0m\u001b[0m\n\u001b[1;32m    183\u001b[0m                 \u001b[0mmm_M1\u001b[0m \u001b[0;34m=\u001b[0m \u001b[0msparse\u001b[0m\u001b[0;34m.\u001b[0m\u001b[0mcsc_matrix\u001b[0m\u001b[0;34m.\u001b[0m\u001b[0mdot\u001b[0m\u001b[0;34m(\u001b[0m\u001b[0mrow_weight\u001b[0m\u001b[0;34m,\u001b[0m \u001b[0mdata\u001b[0m\u001b[0;34m)\u001b[0m\u001b[0;34m.\u001b[0m\u001b[0mravel\u001b[0m\u001b[0;34m(\u001b[0m\u001b[0;34m)\u001b[0m\u001b[0;34m/\u001b[0m\u001b[0mn_obs\u001b[0m\u001b[0;34m\u001b[0m\u001b[0;34m\u001b[0m\u001b[0m\n\u001b[0;32m--> 184\u001b[0;31m                 \u001b[0mmm_M2\u001b[0m \u001b[0;34m=\u001b[0m \u001b[0msparse\u001b[0m\u001b[0;34m.\u001b[0m\u001b[0mcsc_matrix\u001b[0m\u001b[0;34m.\u001b[0m\u001b[0mdot\u001b[0m\u001b[0;34m(\u001b[0m\u001b[0mrow_weight_sq\u001b[0m\u001b[0;34m,\u001b[0m \u001b[0mdata\u001b[0m\u001b[0;34m.\u001b[0m\u001b[0mpower\u001b[0m\u001b[0;34m(\u001b[0m\u001b[0;36m2\u001b[0m\u001b[0;34m)\u001b[0m\u001b[0;34m)\u001b[0m\u001b[0;34m.\u001b[0m\u001b[0mravel\u001b[0m\u001b[0;34m(\u001b[0m\u001b[0;34m)\u001b[0m\u001b[0;34m/\u001b[0m\u001b[0mn_obs\u001b[0m \u001b[0;34m-\u001b[0m \u001b[0;34m(\u001b[0m\u001b[0;36m1\u001b[0m\u001b[0;34m-\u001b[0m\u001b[0mq\u001b[0m\u001b[0;34m)\u001b[0m\u001b[0;34m*\u001b[0m\u001b[0msparse\u001b[0m\u001b[0;34m.\u001b[0m\u001b[0mcsc_matrix\u001b[0m\u001b[0;34m.\u001b[0m\u001b[0mdot\u001b[0m\u001b[0;34m(\u001b[0m\u001b[0mrow_weight_sq\u001b[0m\u001b[0;34m,\u001b[0m \u001b[0mdata\u001b[0m\u001b[0;34m)\u001b[0m\u001b[0;34m.\u001b[0m\u001b[0mravel\u001b[0m\u001b[0;34m(\u001b[0m\u001b[0;34m)\u001b[0m\u001b[0;34m/\u001b[0m\u001b[0mn_obs\u001b[0m\u001b[0;34m\u001b[0m\u001b[0;34m\u001b[0m\u001b[0m\n\u001b[0m\u001b[1;32m    185\u001b[0m \u001b[0;34m\u001b[0m\u001b[0m\n\u001b[1;32m    186\u001b[0m         \u001b[0mmm_mean\u001b[0m \u001b[0;34m=\u001b[0m \u001b[0mmm_M1\u001b[0m\u001b[0;34m\u001b[0m\u001b[0;34m\u001b[0m\u001b[0m\n",
      "\u001b[0;32m~/anaconda3/envs/single_cell/lib/python3.8/site-packages/scipy/sparse/base.py\u001b[0m in \u001b[0;36mdot\u001b[0;34m(self, other)\u001b[0m\n\u001b[1;32m    357\u001b[0m \u001b[0;34m\u001b[0m\u001b[0m\n\u001b[1;32m    358\u001b[0m         \"\"\"\n\u001b[0;32m--> 359\u001b[0;31m         \u001b[0;32mreturn\u001b[0m \u001b[0mself\u001b[0m \u001b[0;34m*\u001b[0m \u001b[0mother\u001b[0m\u001b[0;34m\u001b[0m\u001b[0;34m\u001b[0m\u001b[0m\n\u001b[0m\u001b[1;32m    360\u001b[0m \u001b[0;34m\u001b[0m\u001b[0m\n\u001b[1;32m    361\u001b[0m     \u001b[0;32mdef\u001b[0m \u001b[0mpower\u001b[0m\u001b[0;34m(\u001b[0m\u001b[0mself\u001b[0m\u001b[0;34m,\u001b[0m \u001b[0mn\u001b[0m\u001b[0;34m,\u001b[0m \u001b[0mdtype\u001b[0m\u001b[0;34m=\u001b[0m\u001b[0;32mNone\u001b[0m\u001b[0;34m)\u001b[0m\u001b[0;34m:\u001b[0m\u001b[0;34m\u001b[0m\u001b[0;34m\u001b[0m\u001b[0m\n",
      "\u001b[0;32m~/anaconda3/envs/single_cell/lib/python3.8/site-packages/scipy/sparse/base.py\u001b[0m in \u001b[0;36m__rmul__\u001b[0;34m(self, other)\u001b[0m\n\u001b[1;32m    548\u001b[0m             \u001b[0;32mexcept\u001b[0m \u001b[0mAttributeError\u001b[0m\u001b[0;34m:\u001b[0m\u001b[0;34m\u001b[0m\u001b[0;34m\u001b[0m\u001b[0m\n\u001b[1;32m    549\u001b[0m                 \u001b[0mtr\u001b[0m \u001b[0;34m=\u001b[0m \u001b[0mnp\u001b[0m\u001b[0;34m.\u001b[0m\u001b[0masarray\u001b[0m\u001b[0;34m(\u001b[0m\u001b[0mother\u001b[0m\u001b[0;34m)\u001b[0m\u001b[0;34m.\u001b[0m\u001b[0mtranspose\u001b[0m\u001b[0;34m(\u001b[0m\u001b[0;34m)\u001b[0m\u001b[0;34m\u001b[0m\u001b[0;34m\u001b[0m\u001b[0m\n\u001b[0;32m--> 550\u001b[0;31m             \u001b[0;32mreturn\u001b[0m \u001b[0;34m(\u001b[0m\u001b[0mself\u001b[0m\u001b[0;34m.\u001b[0m\u001b[0mtranspose\u001b[0m\u001b[0;34m(\u001b[0m\u001b[0;34m)\u001b[0m \u001b[0;34m*\u001b[0m \u001b[0mtr\u001b[0m\u001b[0;34m)\u001b[0m\u001b[0;34m.\u001b[0m\u001b[0mtranspose\u001b[0m\u001b[0;34m(\u001b[0m\u001b[0;34m)\u001b[0m\u001b[0;34m\u001b[0m\u001b[0;34m\u001b[0m\u001b[0m\n\u001b[0m\u001b[1;32m    551\u001b[0m \u001b[0;34m\u001b[0m\u001b[0m\n\u001b[1;32m    552\u001b[0m     \u001b[0;31m#######################\u001b[0m\u001b[0;34m\u001b[0m\u001b[0;34m\u001b[0m\u001b[0;34m\u001b[0m\u001b[0m\n",
      "\u001b[0;32m~/anaconda3/envs/single_cell/lib/python3.8/site-packages/scipy/sparse/base.py\u001b[0m in \u001b[0;36m__mul__\u001b[0;34m(self, other)\u001b[0m\n\u001b[1;32m    467\u001b[0m                 \u001b[0;32mreturn\u001b[0m \u001b[0mself\u001b[0m\u001b[0;34m.\u001b[0m\u001b[0m_mul_vector\u001b[0m\u001b[0;34m(\u001b[0m\u001b[0mother\u001b[0m\u001b[0;34m)\u001b[0m\u001b[0;34m\u001b[0m\u001b[0;34m\u001b[0m\u001b[0m\n\u001b[1;32m    468\u001b[0m             \u001b[0;32melif\u001b[0m \u001b[0mother\u001b[0m\u001b[0;34m.\u001b[0m\u001b[0mshape\u001b[0m \u001b[0;34m==\u001b[0m \u001b[0;34m(\u001b[0m\u001b[0mN\u001b[0m\u001b[0;34m,\u001b[0m \u001b[0;36m1\u001b[0m\u001b[0;34m)\u001b[0m\u001b[0;34m:\u001b[0m\u001b[0;34m\u001b[0m\u001b[0;34m\u001b[0m\u001b[0m\n\u001b[0;32m--> 469\u001b[0;31m                 \u001b[0;32mreturn\u001b[0m \u001b[0mself\u001b[0m\u001b[0;34m.\u001b[0m\u001b[0m_mul_vector\u001b[0m\u001b[0;34m(\u001b[0m\u001b[0mother\u001b[0m\u001b[0;34m.\u001b[0m\u001b[0mravel\u001b[0m\u001b[0;34m(\u001b[0m\u001b[0;34m)\u001b[0m\u001b[0;34m)\u001b[0m\u001b[0;34m.\u001b[0m\u001b[0mreshape\u001b[0m\u001b[0;34m(\u001b[0m\u001b[0mM\u001b[0m\u001b[0;34m,\u001b[0m \u001b[0;36m1\u001b[0m\u001b[0;34m)\u001b[0m\u001b[0;34m\u001b[0m\u001b[0;34m\u001b[0m\u001b[0m\n\u001b[0m\u001b[1;32m    470\u001b[0m             \u001b[0;32melif\u001b[0m \u001b[0mother\u001b[0m\u001b[0;34m.\u001b[0m\u001b[0mndim\u001b[0m \u001b[0;34m==\u001b[0m \u001b[0;36m2\u001b[0m \u001b[0;32mand\u001b[0m \u001b[0mother\u001b[0m\u001b[0;34m.\u001b[0m\u001b[0mshape\u001b[0m\u001b[0;34m[\u001b[0m\u001b[0;36m0\u001b[0m\u001b[0;34m]\u001b[0m \u001b[0;34m==\u001b[0m \u001b[0mN\u001b[0m\u001b[0;34m:\u001b[0m\u001b[0;34m\u001b[0m\u001b[0;34m\u001b[0m\u001b[0m\n\u001b[1;32m    471\u001b[0m                 \u001b[0;32mreturn\u001b[0m \u001b[0mself\u001b[0m\u001b[0;34m.\u001b[0m\u001b[0m_mul_multivector\u001b[0m\u001b[0;34m(\u001b[0m\u001b[0mother\u001b[0m\u001b[0;34m)\u001b[0m\u001b[0;34m\u001b[0m\u001b[0;34m\u001b[0m\u001b[0m\n",
      "\u001b[0;32m~/anaconda3/envs/single_cell/lib/python3.8/site-packages/scipy/sparse/compressed.py\u001b[0m in \u001b[0;36m_mul_vector\u001b[0;34m(self, other)\u001b[0m\n\u001b[1;32m    476\u001b[0m         \u001b[0;31m# csr_matvec or csc_matvec\u001b[0m\u001b[0;34m\u001b[0m\u001b[0;34m\u001b[0m\u001b[0;34m\u001b[0m\u001b[0m\n\u001b[1;32m    477\u001b[0m         \u001b[0mfn\u001b[0m \u001b[0;34m=\u001b[0m \u001b[0mgetattr\u001b[0m\u001b[0;34m(\u001b[0m\u001b[0m_sparsetools\u001b[0m\u001b[0;34m,\u001b[0m \u001b[0mself\u001b[0m\u001b[0;34m.\u001b[0m\u001b[0mformat\u001b[0m \u001b[0;34m+\u001b[0m \u001b[0;34m'_matvec'\u001b[0m\u001b[0;34m)\u001b[0m\u001b[0;34m\u001b[0m\u001b[0;34m\u001b[0m\u001b[0m\n\u001b[0;32m--> 478\u001b[0;31m         \u001b[0mfn\u001b[0m\u001b[0;34m(\u001b[0m\u001b[0mM\u001b[0m\u001b[0;34m,\u001b[0m \u001b[0mN\u001b[0m\u001b[0;34m,\u001b[0m \u001b[0mself\u001b[0m\u001b[0;34m.\u001b[0m\u001b[0mindptr\u001b[0m\u001b[0;34m,\u001b[0m \u001b[0mself\u001b[0m\u001b[0;34m.\u001b[0m\u001b[0mindices\u001b[0m\u001b[0;34m,\u001b[0m \u001b[0mself\u001b[0m\u001b[0;34m.\u001b[0m\u001b[0mdata\u001b[0m\u001b[0;34m,\u001b[0m \u001b[0mother\u001b[0m\u001b[0;34m,\u001b[0m \u001b[0mresult\u001b[0m\u001b[0;34m)\u001b[0m\u001b[0;34m\u001b[0m\u001b[0;34m\u001b[0m\u001b[0m\n\u001b[0m\u001b[1;32m    479\u001b[0m \u001b[0;34m\u001b[0m\u001b[0m\n\u001b[1;32m    480\u001b[0m         \u001b[0;32mreturn\u001b[0m \u001b[0mresult\u001b[0m\u001b[0;34m\u001b[0m\u001b[0;34m\u001b[0m\u001b[0m\n",
      "\u001b[0;31mKeyboardInterrupt\u001b[0m: "
     ]
    }
   ],
   "source": [
    "memento.setup_memento(adata, q_column='q', trim_percent=0.1)"
   ]
  },
  {
   "cell_type": "code",
   "execution_count": null,
   "id": "7f5ffa26",
   "metadata": {},
   "outputs": [],
   "source": [
    "adata_stim = adata.copy()[\n",
    "    adata.obs.ct.isin(['C']) & \\\n",
    "    adata.obs.stim.isin(['beta', 'control']), :].copy()\n",
    "stim_converter={'control':0, 'beta':1}\n",
    "adata_stim.obs['stim_indicator'] = adata_stim.obs['stim'].apply(lambda x: stim_converter[x])\n",
    "\n",
    "memento.create_groups(adata_stim, label_columns=['stim_indicator', 'donor'])\n",
    "memento.compute_1d_moments(adata_stim, min_perc_group=.5, gene_list=['ISG15', 'HES4'])\n",
    "print(adata_stim.shape)\n",
    "\n"
   ]
  },
  {
   "cell_type": "code",
   "execution_count": 13,
   "id": "3f9c5fa2",
   "metadata": {},
   "outputs": [],
   "source": [
    "tx = pd.DataFrame([(1, 0), (0, 1),(1, 0), (0, 1)], columns=['stim', 'ctrl'])\n",
    "# tx = pd.DataFrame(np.random.random((4, 1000)))\n",
    "cov = pd.DataFrame([(1), (1), (1), (1)], columns=['intercept'])\n",
    "# cov = pd.DataFrame(np.random.random((2, 1000)))\n"
   ]
  },
  {
   "cell_type": "code",
   "execution_count": 14,
   "id": "dab3964c",
   "metadata": {},
   "outputs": [
    {
     "data": {
      "text/plain": [
       "['sg^1^d2513', 'sg^0^d2513', 'sg^1^d2614', 'sg^0^d2614']"
      ]
     },
     "execution_count": 14,
     "metadata": {},
     "output_type": "execute_result"
    }
   ],
   "source": [
    "adata_stim.uns['memento']['groups']"
   ]
  },
  {
   "cell_type": "code",
   "execution_count": 15,
   "id": "cf92362e",
   "metadata": {},
   "outputs": [
    {
     "name": "stderr",
     "output_type": "stream",
     "text": [
      "[Parallel(n_jobs=1)]: Using backend SequentialBackend with 1 concurrent workers.\n"
     ]
    },
    {
     "name": "stdout",
     "output_type": "stream",
     "text": [
      "CPU times: user 11.6 s, sys: 1.18 s, total: 12.8 s\n",
      "Wall time: 3.11 s\n"
     ]
    },
    {
     "name": "stderr",
     "output_type": "stream",
     "text": [
      "[Parallel(n_jobs=1)]: Done   2 out of   2 | elapsed:    3.1s finished\n"
     ]
    }
   ],
   "source": [
    "%%time\n",
    "\n",
    "# with a thousand treatment variables \n",
    "\n",
    "memento.ht_1d_moments(\n",
    "    adata_stim, \n",
    "    covariate=cov,\n",
    "    treatment=tx,\n",
    "    treatment_for_gene={'ISG15':['stim'], 'HES4':['stim', 'ctrl']},\n",
    "    num_boot=10000, \n",
    "    verbose=1,\n",
    "    num_cpus=1,\n",
    "    resampling='bootstrap',\n",
    "    approx=True)"
   ]
  },
  {
   "cell_type": "code",
   "execution_count": 16,
   "id": "af67fc9d",
   "metadata": {},
   "outputs": [
    {
     "data": {
      "text/html": [
       "<div>\n",
       "<style scoped>\n",
       "    .dataframe tbody tr th:only-of-type {\n",
       "        vertical-align: middle;\n",
       "    }\n",
       "\n",
       "    .dataframe tbody tr th {\n",
       "        vertical-align: top;\n",
       "    }\n",
       "\n",
       "    .dataframe thead th {\n",
       "        text-align: right;\n",
       "    }\n",
       "</style>\n",
       "<table border=\"1\" class=\"dataframe\">\n",
       "  <thead>\n",
       "    <tr style=\"text-align: right;\">\n",
       "      <th></th>\n",
       "      <th>gene_ids</th>\n",
       "      <th>feature_types</th>\n",
       "      <th>genome</th>\n",
       "      <th>mt</th>\n",
       "      <th>n_cells_by_counts</th>\n",
       "      <th>mean_counts</th>\n",
       "      <th>pct_dropout_by_counts</th>\n",
       "      <th>total_counts</th>\n",
       "    </tr>\n",
       "  </thead>\n",
       "  <tbody>\n",
       "    <tr>\n",
       "      <th>HES4</th>\n",
       "      <td>ENSG00000188290</td>\n",
       "      <td>Gene Expression</td>\n",
       "      <td>GRCh38</td>\n",
       "      <td>False</td>\n",
       "      <td>67040</td>\n",
       "      <td>5.536824</td>\n",
       "      <td>16.879510</td>\n",
       "      <td>446567.0</td>\n",
       "    </tr>\n",
       "    <tr>\n",
       "      <th>ISG15</th>\n",
       "      <td>ENSG00000187608</td>\n",
       "      <td>Gene Expression</td>\n",
       "      <td>GRCh38</td>\n",
       "      <td>False</td>\n",
       "      <td>78984</td>\n",
       "      <td>52.471233</td>\n",
       "      <td>2.070573</td>\n",
       "      <td>4232015.0</td>\n",
       "    </tr>\n",
       "  </tbody>\n",
       "</table>\n",
       "</div>"
      ],
      "text/plain": [
       "              gene_ids    feature_types  genome     mt  n_cells_by_counts  \\\n",
       "HES4   ENSG00000188290  Gene Expression  GRCh38  False              67040   \n",
       "ISG15  ENSG00000187608  Gene Expression  GRCh38  False              78984   \n",
       "\n",
       "       mean_counts  pct_dropout_by_counts  total_counts  \n",
       "HES4      5.536824              16.879510      446567.0  \n",
       "ISG15    52.471233               2.070573     4232015.0  "
      ]
     },
     "execution_count": 16,
     "metadata": {},
     "output_type": "execute_result"
    }
   ],
   "source": [
    "adata_stim.var"
   ]
  },
  {
   "cell_type": "code",
   "execution_count": 17,
   "id": "ca44b563",
   "metadata": {},
   "outputs": [
    {
     "data": {
      "text/plain": [
       "{'treatment_for_gene': {'ISG15': ['stim'], 'HES4': ['stim', 'ctrl']},\n",
       " 'treatment':    stim  ctrl\n",
       " 0     1     0\n",
       " 1     0     1\n",
       " 2     1     0\n",
       " 3     0     1,\n",
       " 'covariate':    intercept\n",
       " 0          1\n",
       " 1          1\n",
       " 2          1\n",
       " 3          1,\n",
       " 'mean_coef': array([ 0.81339619, -0.81339619,  2.75586696]),\n",
       " 'mean_se': array([0.04206331, 0.04206331, 0.06892971]),\n",
       " 'mean_asl': array([2.69178607e-83, 2.69178607e-83, 0.00000000e+00]),\n",
       " 'var_coef': array([ 0.28314822, -0.28314822, -2.12782651]),\n",
       " 'var_se': array([0.12275353, 0.12275353, 0.16763688]),\n",
       " 'var_asl': array([2.25209618e-02, 2.25209618e-02, 6.05261295e-35])}"
      ]
     },
     "execution_count": 17,
     "metadata": {},
     "output_type": "execute_result"
    }
   ],
   "source": [
    "adata_stim.uns['memento']['1d_ht']"
   ]
  },
  {
   "cell_type": "code",
   "execution_count": 18,
   "id": "4b03748d",
   "metadata": {},
   "outputs": [
    {
     "data": {
      "text/html": [
       "<div>\n",
       "<style scoped>\n",
       "    .dataframe tbody tr th:only-of-type {\n",
       "        vertical-align: middle;\n",
       "    }\n",
       "\n",
       "    .dataframe tbody tr th {\n",
       "        vertical-align: top;\n",
       "    }\n",
       "\n",
       "    .dataframe thead th {\n",
       "        text-align: right;\n",
       "    }\n",
       "</style>\n",
       "<table border=\"1\" class=\"dataframe\">\n",
       "  <thead>\n",
       "    <tr style=\"text-align: right;\">\n",
       "      <th></th>\n",
       "      <th>gene</th>\n",
       "      <th>tx</th>\n",
       "      <th>de_coef</th>\n",
       "      <th>de_se</th>\n",
       "      <th>de_pval</th>\n",
       "      <th>dv_coef</th>\n",
       "      <th>dv_se</th>\n",
       "      <th>dv_pval</th>\n",
       "    </tr>\n",
       "  </thead>\n",
       "  <tbody>\n",
       "    <tr>\n",
       "      <th>0</th>\n",
       "      <td>HES4</td>\n",
       "      <td>stim</td>\n",
       "      <td>0.813396</td>\n",
       "      <td>0.042063</td>\n",
       "      <td>2.691786e-83</td>\n",
       "      <td>0.283148</td>\n",
       "      <td>0.122754</td>\n",
       "      <td>2.252096e-02</td>\n",
       "    </tr>\n",
       "    <tr>\n",
       "      <th>1</th>\n",
       "      <td>HES4</td>\n",
       "      <td>ctrl</td>\n",
       "      <td>-0.813396</td>\n",
       "      <td>0.042063</td>\n",
       "      <td>2.691786e-83</td>\n",
       "      <td>-0.283148</td>\n",
       "      <td>0.122754</td>\n",
       "      <td>2.252096e-02</td>\n",
       "    </tr>\n",
       "    <tr>\n",
       "      <th>0</th>\n",
       "      <td>ISG15</td>\n",
       "      <td>stim</td>\n",
       "      <td>2.755867</td>\n",
       "      <td>0.068930</td>\n",
       "      <td>0.000000e+00</td>\n",
       "      <td>-2.127827</td>\n",
       "      <td>0.167637</td>\n",
       "      <td>6.052613e-35</td>\n",
       "    </tr>\n",
       "  </tbody>\n",
       "</table>\n",
       "</div>"
      ],
      "text/plain": [
       "    gene    tx   de_coef     de_se       de_pval   dv_coef     dv_se  \\\n",
       "0   HES4  stim  0.813396  0.042063  2.691786e-83  0.283148  0.122754   \n",
       "1   HES4  ctrl -0.813396  0.042063  2.691786e-83 -0.283148  0.122754   \n",
       "0  ISG15  stim  2.755867  0.068930  0.000000e+00 -2.127827  0.167637   \n",
       "\n",
       "        dv_pval  \n",
       "0  2.252096e-02  \n",
       "1  2.252096e-02  \n",
       "0  6.052613e-35  "
      ]
     },
     "execution_count": 18,
     "metadata": {},
     "output_type": "execute_result"
    }
   ],
   "source": [
    "memento.get_1d_ht_result(adata_stim)"
   ]
  },
  {
   "cell_type": "code",
   "execution_count": 47,
   "id": "97238aeb",
   "metadata": {},
   "outputs": [
    {
     "name": "stderr",
     "output_type": "stream",
     "text": [
      "[Parallel(n_jobs=93)]: Using backend LokyBackend with 93 concurrent workers.\n",
      "[Parallel(n_jobs=93)]: Done  14 tasks      | elapsed:    4.6s\n",
      "[Parallel(n_jobs=93)]: Done 264 tasks      | elapsed:    6.0s\n",
      "[Parallel(n_jobs=93)]: Done 614 tasks      | elapsed:    8.1s\n",
      "[Parallel(n_jobs=93)]: Done 1064 tasks      | elapsed:   10.5s\n",
      "[Parallel(n_jobs=93)]: Done 1614 tasks      | elapsed:   13.5s\n",
      "[Parallel(n_jobs=93)]: Done 2264 tasks      | elapsed:   17.1s\n",
      "[Parallel(n_jobs=93)]: Done 3014 tasks      | elapsed:   21.1s\n",
      "[Parallel(n_jobs=93)]: Done 3864 tasks      | elapsed:   25.7s\n",
      "[Parallel(n_jobs=93)]: Done 4814 tasks      | elapsed:   30.8s\n",
      "[Parallel(n_jobs=93)]: Done 5864 tasks      | elapsed:   36.7s\n",
      "[Parallel(n_jobs=93)]: Done 7014 tasks      | elapsed:   43.1s\n",
      "[Parallel(n_jobs=93)]: Done 8264 tasks      | elapsed:   49.7s\n",
      "[Parallel(n_jobs=93)]: Done 9614 tasks      | elapsed:   57.1s\n",
      "[Parallel(n_jobs=93)]: Done 10773 out of 10773 | elapsed:  1.1min finished\n"
     ]
    },
    {
     "name": "stdout",
     "output_type": "stream",
     "text": [
      "CPU times: user 30.8 s, sys: 4.15 s, total: 35 s\n",
      "Wall time: 1min 9s\n"
     ]
    }
   ],
   "source": [
    "%%time\n",
    "\n",
    "# with a single treatment variable\n",
    "\n",
    "memento.ht_1d_moments(\n",
    "    adata_stim, \n",
    "    covariate=cov,\n",
    "    treatment=tx, \n",
    "    num_boot=10000, \n",
    "    verbose=1,\n",
    "    num_cpus=93,\n",
    "    resampling='bootstrap',\n",
    "    approx=True)"
   ]
  },
  {
   "cell_type": "code",
   "execution_count": 17,
   "id": "e6080753",
   "metadata": {},
   "outputs": [],
   "source": [
    "a = np.ones(2)*np.nan"
   ]
  },
  {
   "cell_type": "code",
   "execution_count": 18,
   "id": "dddd7421",
   "metadata": {},
   "outputs": [],
   "source": [
    "a[0:2] = np.array([1, 2])"
   ]
  },
  {
   "cell_type": "code",
   "execution_count": 19,
   "id": "9ec35980",
   "metadata": {},
   "outputs": [
    {
     "data": {
      "text/plain": [
       "array([1., 2.])"
      ]
     },
     "execution_count": 19,
     "metadata": {},
     "output_type": "execute_result"
    }
   ],
   "source": [
    "a"
   ]
  },
  {
   "cell_type": "code",
   "execution_count": null,
   "id": "f267a74a",
   "metadata": {},
   "outputs": [],
   "source": []
  },
  {
   "cell_type": "code",
   "execution_count": 18,
   "id": "77b7ec3f",
   "metadata": {},
   "outputs": [],
   "source": [
    "def corr2_coeff(A, B, sample_weight):\n",
    "    # Rowwise mean of input arrays & subtract from input arrays themeselves\n",
    "    A_mA = A - np.average(A, axis=0, weights=sample_weight)\n",
    "    B_mB = B - np.average(B, axis=0, weights=sample_weight)\n",
    "    \n",
    "    print(A_mA.shape)\n",
    "\n",
    "    # Sum of squares across rows\n",
    "    ssA = np.average(A_mA**2, axis=0, weights=sample_weight)\n",
    "\n",
    "    # Finally get corr coeff\n",
    "    return A_mA.T.dot(np.diag(sample_weight)).dot(B_mB)/sample_weight.sum() / ssA[:, None]"
   ]
  },
  {
   "cell_type": "code",
   "execution_count": 18,
   "id": "b2cd92a4",
   "metadata": {},
   "outputs": [
    {
     "name": "stdout",
     "output_type": "stream",
     "text": [
      "(2, 1)\n"
     ]
    },
    {
     "data": {
      "text/plain": [
       "array([[0.3639364]])"
      ]
     },
     "execution_count": 18,
     "metadata": {},
     "output_type": "execute_result"
    }
   ],
   "source": [
    "corr2_coeff(\n",
    "    np.array([0.43951831, -2.30821457])[:, None],\n",
    "    np.array([0.15995671, -0.84004329])[:, None],\n",
    "    np.array([3881, 739])\n",
    ")"
   ]
  },
  {
   "cell_type": "code",
   "execution_count": 33,
   "id": "7577e9c0",
   "metadata": {},
   "outputs": [
    {
     "data": {
      "text/plain": [
       "{'treatment':    stim  ctrl\n",
       " 0     1     0\n",
       " 1     0     1,\n",
       " 'covariate':    intercept\n",
       " 0          1\n",
       " 1          1,\n",
       " 'mean_coef': array([4.91818148e-50, 4.91818148e-50]),\n",
       " 'mean_se': array([4.91818148e-50, 4.91818148e-50]),\n",
       " 'mean_asl': array([4.91818148e-50, 4.91818148e-50]),\n",
       " 'var_coef': array([4.91818148e-50, 4.91818148e-50]),\n",
       " 'var_se': array([4.91818148e-50, 4.91818148e-50]),\n",
       " 'var_asl': array([4.91818148e-50, 4.91818148e-50])}"
      ]
     },
     "execution_count": 33,
     "metadata": {},
     "output_type": "execute_result"
    }
   ],
   "source": [
    "adata_stim.uns['memento']['1d_ht']"
   ]
  },
  {
   "cell_type": "code",
   "execution_count": 12,
   "id": "b5ddaa24",
   "metadata": {},
   "outputs": [],
   "source": [
    "mat = np.ones((25000, 25000))"
   ]
  },
  {
   "cell_type": "code",
   "execution_count": null,
   "id": "47723ff1",
   "metadata": {},
   "outputs": [],
   "source": [
    "mat.shape"
   ]
  },
  {
   "cell_type": "markdown",
   "id": "5f374fdf",
   "metadata": {},
   "source": [
    "### Alternative coefficient calcuation"
   ]
  },
  {
   "cell_type": "code",
   "execution_count": 20,
   "id": "16e47c83",
   "metadata": {},
   "outputs": [],
   "source": [
    "Y = np.array([1, 5])[:, None]\n",
    "X = np.array([0, 1])[:, None]\n",
    "cov = np.array([1, 1])[:, None]"
   ]
  },
  {
   "cell_type": "code",
   "execution_count": 21,
   "id": "f1459a63",
   "metadata": {},
   "outputs": [],
   "source": [
    "\n",
    "weights1 = np.array([50, 10])\n",
    "weights2 = np.ones(50)"
   ]
  },
  {
   "cell_type": "code",
   "execution_count": 22,
   "id": "921d458c",
   "metadata": {},
   "outputs": [],
   "source": [
    "from sklearn.linear_model import LinearRegression"
   ]
  },
  {
   "cell_type": "markdown",
   "id": "96d50f0b",
   "metadata": {},
   "source": [
    "### Using sklearn"
   ]
  },
  {
   "cell_type": "code",
   "execution_count": 26,
   "id": "227d0cd1",
   "metadata": {},
   "outputs": [
    {
     "data": {
      "text/plain": [
       "array([[4., 0.]])"
      ]
     },
     "execution_count": 26,
     "metadata": {},
     "output_type": "execute_result"
    }
   ],
   "source": [
    "reg = LinearRegression().fit(np.hstack([X, cov]), Y, sample_weight=weights1)\n",
    "reg.coef_"
   ]
  },
  {
   "cell_type": "code",
   "execution_count": 27,
   "id": "4ad6c7f0",
   "metadata": {},
   "outputs": [
    {
     "ename": "IndexError",
     "evalue": "index 1 is out of bounds for axis 1 with size 1",
     "output_type": "error",
     "traceback": [
      "\u001b[0;31m---------------------------------------------------------------------------\u001b[0m",
      "\u001b[0;31mIndexError\u001b[0m                                Traceback (most recent call last)",
      "\u001b[0;32m/tmp/ipykernel_59653/3443894744.py\u001b[0m in \u001b[0;36m<module>\u001b[0;34m\u001b[0m\n\u001b[0;32m----> 1\u001b[0;31m \u001b[0mreg\u001b[0m \u001b[0;34m=\u001b[0m \u001b[0mLinearRegression\u001b[0m\u001b[0;34m(\u001b[0m\u001b[0;34m)\u001b[0m\u001b[0;34m.\u001b[0m\u001b[0mfit\u001b[0m\u001b[0;34m(\u001b[0m\u001b[0mnp\u001b[0m\u001b[0;34m.\u001b[0m\u001b[0mhstack\u001b[0m\u001b[0;34m(\u001b[0m\u001b[0;34m[\u001b[0m\u001b[0mX\u001b[0m\u001b[0;34m[\u001b[0m\u001b[0;34m:\u001b[0m\u001b[0;34m,\u001b[0m \u001b[0;34m[\u001b[0m\u001b[0;36m1\u001b[0m\u001b[0;34m]\u001b[0m\u001b[0;34m]\u001b[0m\u001b[0;34m,\u001b[0m \u001b[0mcov\u001b[0m\u001b[0;34m]\u001b[0m\u001b[0;34m)\u001b[0m\u001b[0;34m,\u001b[0m \u001b[0mY\u001b[0m\u001b[0;34m,\u001b[0m \u001b[0msample_weight\u001b[0m\u001b[0;34m=\u001b[0m\u001b[0mweights1\u001b[0m\u001b[0;34m)\u001b[0m\u001b[0;34m\u001b[0m\u001b[0;34m\u001b[0m\u001b[0m\n\u001b[0m\u001b[1;32m      2\u001b[0m \u001b[0mreg\u001b[0m\u001b[0;34m.\u001b[0m\u001b[0mcoef_\u001b[0m\u001b[0;34m\u001b[0m\u001b[0;34m\u001b[0m\u001b[0m\n",
      "\u001b[0;31mIndexError\u001b[0m: index 1 is out of bounds for axis 1 with size 1"
     ]
    }
   ],
   "source": [
    "reg = LinearRegression().fit(np.hstack([X[:, [1]], cov]), Y, sample_weight=weights1)\n",
    "reg.coef_"
   ]
  },
  {
   "cell_type": "markdown",
   "id": "0b8c0b41",
   "metadata": {},
   "source": [
    "### Using orthogonalization and correlation"
   ]
  },
  {
   "cell_type": "code",
   "execution_count": 28,
   "id": "284d2412",
   "metadata": {},
   "outputs": [],
   "source": [
    "def corr2_coeff(A, B, sample_weight):\n",
    "    # Rowwise mean of input arrays & subtract from input arrays themeselves\n",
    "    A_mA = A - np.average(A, axis=0, weights=sample_weight)\n",
    "    B_mB = B - np.average(B, axis=0, weights=sample_weight)\n",
    "    \n",
    "    print(A_mA.shape)\n",
    "\n",
    "    # Sum of squares across rows\n",
    "    ssA = np.average(A_mA**2, axis=0, weights=sample_weight)\n",
    "\n",
    "    # Finally get corr coeff\n",
    "    return A_mA.T.dot(np.diag(sample_weight)).dot(B_mB)/sample_weight.sum() / ssA[:, None]"
   ]
  },
  {
   "cell_type": "code",
   "execution_count": 30,
   "id": "e4c794f9",
   "metadata": {},
   "outputs": [],
   "source": [
    "Y_tilde = Y-LinearRegression().fit(cov, Y, weights1).predict(cov)\n",
    "X_tilde = X-LinearRegression().fit(cov, X, weights1).predict(cov)"
   ]
  },
  {
   "cell_type": "code",
   "execution_count": 31,
   "id": "3a7d8f01",
   "metadata": {},
   "outputs": [
    {
     "data": {
      "text/plain": [
       "array([[-0.66666667],\n",
       "       [ 3.33333333]])"
      ]
     },
     "execution_count": 31,
     "metadata": {},
     "output_type": "execute_result"
    }
   ],
   "source": [
    "Y_tilde"
   ]
  },
  {
   "cell_type": "code",
   "execution_count": 32,
   "id": "da966c9d",
   "metadata": {},
   "outputs": [
    {
     "data": {
      "text/plain": [
       "array([[-0.16666667],\n",
       "       [ 0.83333333]])"
      ]
     },
     "execution_count": 32,
     "metadata": {},
     "output_type": "execute_result"
    }
   ],
   "source": [
    "X_tilde"
   ]
  },
  {
   "cell_type": "code",
   "execution_count": 34,
   "id": "d0ecbdfa",
   "metadata": {},
   "outputs": [
    {
     "name": "stdout",
     "output_type": "stream",
     "text": [
      "(2, 1)\n"
     ]
    },
    {
     "data": {
      "text/plain": [
       "array([[4.]])"
      ]
     },
     "execution_count": 34,
     "metadata": {},
     "output_type": "execute_result"
    }
   ],
   "source": [
    "corr2_coeff(X_tilde, Y_tilde, weights1)"
   ]
  },
  {
   "cell_type": "code",
   "execution_count": 29,
   "id": "d114c1b2",
   "metadata": {},
   "outputs": [
    {
     "data": {
      "text/plain": [
       "array([0.52119791, 0.50160106, 0.47426136])"
      ]
     },
     "execution_count": 29,
     "metadata": {},
     "output_type": "execute_result"
    }
   ],
   "source": [
    "Y.mean(axis=0)"
   ]
  },
  {
   "cell_type": "code",
   "execution_count": 27,
   "id": "51c903a2",
   "metadata": {},
   "outputs": [
    {
     "data": {
      "text/plain": [
       "array([[0.52119791, 0.50160106, 0.47426136],\n",
       "       [0.52119791, 0.50160106, 0.47426136],\n",
       "       [0.52119791, 0.50160106, 0.47426136],\n",
       "       [0.52119791, 0.50160106, 0.47426136],\n",
       "       [0.52119791, 0.50160106, 0.47426136],\n",
       "       [0.52119791, 0.50160106, 0.47426136],\n",
       "       [0.52119791, 0.50160106, 0.47426136],\n",
       "       [0.52119791, 0.50160106, 0.47426136],\n",
       "       [0.52119791, 0.50160106, 0.47426136],\n",
       "       [0.52119791, 0.50160106, 0.47426136],\n",
       "       [0.52119791, 0.50160106, 0.47426136],\n",
       "       [0.52119791, 0.50160106, 0.47426136],\n",
       "       [0.52119791, 0.50160106, 0.47426136],\n",
       "       [0.52119791, 0.50160106, 0.47426136],\n",
       "       [0.52119791, 0.50160106, 0.47426136],\n",
       "       [0.52119791, 0.50160106, 0.47426136],\n",
       "       [0.52119791, 0.50160106, 0.47426136],\n",
       "       [0.52119791, 0.50160106, 0.47426136],\n",
       "       [0.52119791, 0.50160106, 0.47426136],\n",
       "       [0.52119791, 0.50160106, 0.47426136],\n",
       "       [0.52119791, 0.50160106, 0.47426136],\n",
       "       [0.52119791, 0.50160106, 0.47426136],\n",
       "       [0.52119791, 0.50160106, 0.47426136],\n",
       "       [0.52119791, 0.50160106, 0.47426136],\n",
       "       [0.52119791, 0.50160106, 0.47426136],\n",
       "       [0.52119791, 0.50160106, 0.47426136],\n",
       "       [0.52119791, 0.50160106, 0.47426136],\n",
       "       [0.52119791, 0.50160106, 0.47426136],\n",
       "       [0.52119791, 0.50160106, 0.47426136],\n",
       "       [0.52119791, 0.50160106, 0.47426136],\n",
       "       [0.52119791, 0.50160106, 0.47426136],\n",
       "       [0.52119791, 0.50160106, 0.47426136],\n",
       "       [0.52119791, 0.50160106, 0.47426136],\n",
       "       [0.52119791, 0.50160106, 0.47426136],\n",
       "       [0.52119791, 0.50160106, 0.47426136],\n",
       "       [0.52119791, 0.50160106, 0.47426136],\n",
       "       [0.52119791, 0.50160106, 0.47426136],\n",
       "       [0.52119791, 0.50160106, 0.47426136],\n",
       "       [0.52119791, 0.50160106, 0.47426136],\n",
       "       [0.52119791, 0.50160106, 0.47426136],\n",
       "       [0.52119791, 0.50160106, 0.47426136],\n",
       "       [0.52119791, 0.50160106, 0.47426136],\n",
       "       [0.52119791, 0.50160106, 0.47426136],\n",
       "       [0.52119791, 0.50160106, 0.47426136],\n",
       "       [0.52119791, 0.50160106, 0.47426136],\n",
       "       [0.52119791, 0.50160106, 0.47426136],\n",
       "       [0.52119791, 0.50160106, 0.47426136],\n",
       "       [0.52119791, 0.50160106, 0.47426136],\n",
       "       [0.52119791, 0.50160106, 0.47426136],\n",
       "       [0.52119791, 0.50160106, 0.47426136]])"
      ]
     },
     "execution_count": 27,
     "metadata": {},
     "output_type": "execute_result"
    }
   ],
   "source": [
    "LinearRegression().fit(  np.ones((50,1)),   Y  ).predict(np.ones((50,1)))"
   ]
  },
  {
   "cell_type": "code",
   "execution_count": null,
   "id": "e779e8b8",
   "metadata": {},
   "outputs": [],
   "source": []
  }
 ],
 "metadata": {
  "kernelspec": {
   "display_name": "Python 3 (ipykernel)",
   "language": "python",
   "name": "python3"
  },
  "language_info": {
   "codemirror_mode": {
    "name": "ipython",
    "version": 3
   },
   "file_extension": ".py",
   "mimetype": "text/x-python",
   "name": "python",
   "nbconvert_exporter": "python",
   "pygments_lexer": "ipython3",
   "version": "3.8.8"
  }
 },
 "nbformat": 4,
 "nbformat_minor": 5
}
