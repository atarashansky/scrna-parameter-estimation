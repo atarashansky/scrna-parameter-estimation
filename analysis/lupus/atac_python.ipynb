{
 "cells": [
  {
   "cell_type": "markdown",
   "id": "7999d085",
   "metadata": {},
   "source": [
    "# ATAC enrichment (in python)"
   ]
  },
  {
   "cell_type": "code",
   "execution_count": 42,
   "id": "cfc824bc",
   "metadata": {},
   "outputs": [],
   "source": [
    "import pandas as pd\n",
    "from pybedtools import BedTool\n",
    "import seaborn as sns\n",
    "import matplotlib.pyplot as plt\n",
    "import scipy.stats as stats\n",
    "import numpy as np"
   ]
  },
  {
   "cell_type": "code",
   "execution_count": 43,
   "id": "bef5e809",
   "metadata": {},
   "outputs": [],
   "source": [
    "import sys\n",
    "sys.path.append('/home/ssm-user/Github/scrna-parameter-estimation/dist/memento-0.0.8-py3.8.egg')\n",
    "sys.path.append('/home/ssm-user/Github/misc-seq/miscseq/')\n",
    "import encode\n",
    "import memento\n",
    "import run_memento"
   ]
  },
  {
   "cell_type": "code",
   "execution_count": 44,
   "id": "ad1dc9af",
   "metadata": {},
   "outputs": [],
   "source": [
    "cts = ['B','T8', 'T4', 'NK', 'ncM', 'cM']"
   ]
  },
  {
   "cell_type": "code",
   "execution_count": 45,
   "id": "45fd5848",
   "metadata": {},
   "outputs": [],
   "source": [
    "data_path = '/data_volume/memento/lupus/'"
   ]
  },
  {
   "cell_type": "code",
   "execution_count": 46,
   "id": "e856f8ad",
   "metadata": {},
   "outputs": [],
   "source": [
    "atac = pd.read_csv('/data_volume/memento/lupus/atac_enrichment/sorted_simple_atac_lineage_groups3.bed.gz', sep='\\t')\n"
   ]
  },
  {
   "cell_type": "markdown",
   "id": "c5bac8db",
   "metadata": {},
   "source": [
    "### Match the memento and matrix eqtl outputs for enrichment analysis\n",
    "\n",
    "Discrepancies are created by mis-match of gene names. TODO: standardize somehow....."
   ]
  },
  {
   "cell_type": "code",
   "execution_count": 51,
   "id": "5c8097c6",
   "metadata": {},
   "outputs": [],
   "source": [
    "pop = 'asian'\n",
    "for ct in cts:\n",
    "    \n",
    "    mem = pd.read_csv('/data_volume/memento/lupus/full_analysis/memento/100kb/{}_{}.csv'.format(pop,ct))\\\n",
    "        .add_suffix('_mem')\\\n",
    "        .rename(columns={'SNP_mem':'SNP', 'gene_mem':'gene', 'p.value_mem':'p-value_mem'})\n",
    "    meq = pd.read_csv('/data_volume/memento/lupus/full_analysis/mateqtl/outputs/{}_{}_all_hg19.csv'.format(pop,ct), sep='\\t')\\\n",
    "        .add_suffix('_meq')\\\n",
    "        .rename(columns={'SNP_meq':'SNP', 'gene_meq':'gene'})\n",
    "    merged = mem.merge(meq, on=['SNP', 'gene'], how='inner')\n",
    "#     merged.to_csv('/data_volume/memento/lupus/atac_enrichment/merged_eqtls/{}_{}_merged.tsv'.format(pop, ct), sep='\\t', index=False)\n",
    "    \n",
    "    break"
   ]
  },
  {
   "cell_type": "code",
   "execution_count": 52,
   "id": "a8de7064",
   "metadata": {},
   "outputs": [
    {
     "data": {
      "text/plain": [
       "(1781343, 6)"
      ]
     },
     "execution_count": 52,
     "metadata": {},
     "output_type": "execute_result"
    }
   ],
   "source": [
    "mem.shape"
   ]
  },
  {
   "cell_type": "code",
   "execution_count": 53,
   "id": "4ab6b49b",
   "metadata": {},
   "outputs": [
    {
     "data": {
      "text/plain": [
       "(1813907, 6)"
      ]
     },
     "execution_count": 53,
     "metadata": {},
     "output_type": "execute_result"
    }
   ],
   "source": [
    "meq.shape"
   ]
  },
  {
   "cell_type": "code",
   "execution_count": 54,
   "id": "ab5a251e",
   "metadata": {},
   "outputs": [
    {
     "data": {
      "text/plain": [
       "(1780402, 10)"
      ]
     },
     "execution_count": 54,
     "metadata": {},
     "output_type": "execute_result"
    }
   ],
   "source": [
    "merged.shape"
   ]
  },
  {
   "cell_type": "code",
   "execution_count": 56,
   "id": "62aa9725",
   "metadata": {},
   "outputs": [
    {
     "data": {
      "text/plain": [
       "<matplotlib.collections.PathCollection at 0x7f6dc46c01f0>"
      ]
     },
     "execution_count": 56,
     "metadata": {},
     "output_type": "execute_result"
    },
    {
     "data": {
      "image/png": "[encoded data removed]",
      "text/plain": [
       "<Figure size 432x288 with 1 Axes>"
      ]
     },
     "metadata": {
      "needs_background": "light"
     },
     "output_type": "display_data"
    }
   ],
   "source": [
    "plt.scatter(merged['beta_mem'], merged['beta_meq'])"
   ]
  },
  {
   "cell_type": "code",
   "execution_count": 57,
   "id": "87c5dfa8",
   "metadata": {},
   "outputs": [
    {
     "data": {
      "text/plain": [
       "[<matplotlib.lines.Line2D at 0x7f6dd07695e0>]"
      ]
     },
     "execution_count": 57,
     "metadata": {},
     "output_type": "execute_result"
    },
    {
     "data": {
      "image/png": "[encoded data removed]",
      "text/plain": [
       "<Figure size 432x288 with 1 Axes>"
      ]
     },
     "metadata": {
      "needs_background": "light"
     },
     "output_type": "display_data"
    }
   ],
   "source": [
    "plt.scatter(-np.log10(merged['p-value_mem']), -np.log10(merged['p-value_meq']))\n",
    "plt.plot([0, 35], [0, 35])"
   ]
  },
  {
   "cell_type": "markdown",
   "id": "1932a9c4",
   "metadata": {},
   "source": [
    "### Make heatmaps"
   ]
  },
  {
   "cell_type": "code",
   "execution_count": 101,
   "id": "9e5e12a5",
   "metadata": {},
   "outputs": [],
   "source": [
    "def get_heatmap(pop, method):\n",
    "    all_result = []\n",
    "    for ct in cts:\n",
    "        atac_result = pd.read_csv(data_path + 'atac_enrichment/100kb/{}_{}_{}.out'.format(pop, method, ct), sep='\\t')\n",
    "        atac_result['ct'] = ct\n",
    "        all_result.append(atac_result)\n",
    "    all_result = pd.concat(all_result)\n",
    "    all_result['logp'] = -np.log10(all_result['pval'])\n",
    "    \n",
    "    heatmap = all_result.pivot('group', 'ct', 'logp').loc[['B', 'T', 'nk', 'myeloid']].loc[:, ['B', 'T4', 'T8',  'NK','cM', 'ncM',]]\n",
    "    return heatmap"
   ]
  },
  {
   "cell_type": "code",
   "execution_count": 112,
   "id": "8e65ed97",
   "metadata": {},
   "outputs": [
    {
     "data": {
      "text/plain": [
       "Text(0.5, 1.0, 'Pseudobulk')"
      ]
     },
     "execution_count": 112,
     "metadata": {},
     "output_type": "execute_result"
    },
    {
     "data": {
      "image/png": "[encoded data removed]",
      "text/plain": [
       "<Figure size 576x216 with 4 Axes>"
      ]
     },
     "metadata": {
      "needs_background": "light"
     },
     "output_type": "display_data"
    }
   ],
   "source": [
    "plt.figure(figsize=(8,3));\n",
    "vmax = 6\n",
    "plt.subplot(1, 2,1)\n",
    "sns.heatmap(get_heatmap('asian', 'memento'), vmax=vmax)\n",
    "plt.ylabel('ATAC group'); plt.xlabel('cell type')\n",
    "plt.title('Memento')\n",
    "plt.subplot(1, 2,2)\n",
    "sns.heatmap(get_heatmap('asian', 'matqetl'), vmax=vmax)\n",
    "plt.ylabel('ATAC group'); plt.xlabel('cell type')\n",
    "plt.title('Pseudobulk')"
   ]
  },
  {
   "cell_type": "code",
   "execution_count": 116,
   "id": "37765195",
   "metadata": {},
   "outputs": [
    {
     "data": {
      "text/plain": [
       "Text(0.5, 1.0, 'Pseudobulk')"
      ]
     },
     "execution_count": 116,
     "metadata": {},
     "output_type": "execute_result"
    },
    {
     "data": {
      "image/png": "[encoded data removed]",
      "text/plain": [
       "<Figure size 576x216 with 4 Axes>"
      ]
     },
     "metadata": {
      "needs_background": "light"
     },
     "output_type": "display_data"
    }
   ],
   "source": [
    "plt.figure(figsize=(8,3));\n",
    "vmax = 8\n",
    "plt.subplot(1, 2,1)\n",
    "sns.heatmap(get_heatmap('eur', 'memento'), vmax=vmax)\n",
    "plt.ylabel('ATAC group'); plt.xlabel('cell type')\n",
    "plt.title('Memento')\n",
    "plt.subplot(1, 2,2)\n",
    "sns.heatmap(get_heatmap('eur', 'matqetl'), vmax=vmax)\n",
    "plt.ylabel('ATAC group'); plt.xlabel('cell type')\n",
    "plt.title('Pseudobulk')"
   ]
  },
  {
   "cell_type": "code",
   "execution_count": 95,
   "id": "1a8d275b",
   "metadata": {},
   "outputs": [],
   "source": [
    "all_result = []\n",
    "for ct in cts:\n",
    "    atac_result = pd.read_csv(data_path + 'atac_enrichment/100kb/eur_memento_{}.out'.format(ct), sep='\\t')\n",
    "    atac_result['ct'] = ct\n",
    "    all_result.append(atac_result)\n",
    "all_result = pd.concat(all_result)\n",
    "all_result['logp'] = -np.log10(all_result['pval'])"
   ]
  },
  {
   "cell_type": "code",
   "execution_count": 96,
   "id": "a00bfc2d",
   "metadata": {},
   "outputs": [],
   "source": [
    "heatmap = all_result.pivot('group', 'ct', 'logp').loc[['B', 'T', 'nk', 'myeloid']].loc[:, ['B', 'T4', 'T8',  'NK','cM', 'ncM',]]\n",
    "# heatmap = heatmap / heatmap.max(axis=0)"
   ]
  },
  {
   "cell_type": "code",
   "execution_count": 97,
   "id": "ca894159",
   "metadata": {},
   "outputs": [
    {
     "data": {
      "text/html": [
       "<div>\n",
       "<style scoped>\n",
       "    .dataframe tbody tr th:only-of-type {\n",
       "        vertical-align: middle;\n",
       "    }\n",
       "\n",
       "    .dataframe tbody tr th {\n",
       "        vertical-align: top;\n",
       "    }\n",
       "\n",
       "    .dataframe thead th {\n",
       "        text-align: right;\n",
       "    }\n",
       "</style>\n",
       "<table border=\"1\" class=\"dataframe\">\n",
       "  <thead>\n",
       "    <tr style=\"text-align: right;\">\n",
       "      <th>ct</th>\n",
       "      <th>B</th>\n",
       "      <th>T4</th>\n",
       "      <th>T8</th>\n",
       "      <th>NK</th>\n",
       "      <th>cM</th>\n",
       "      <th>ncM</th>\n",
       "    </tr>\n",
       "    <tr>\n",
       "      <th>group</th>\n",
       "      <th></th>\n",
       "      <th></th>\n",
       "      <th></th>\n",
       "      <th></th>\n",
       "      <th></th>\n",
       "      <th></th>\n",
       "    </tr>\n",
       "  </thead>\n",
       "  <tbody>\n",
       "    <tr>\n",
       "      <th>B</th>\n",
       "      <td>13.591760</td>\n",
       "      <td>0.044223</td>\n",
       "      <td>1.219193</td>\n",
       "      <td>2.051856</td>\n",
       "      <td>0.177894</td>\n",
       "      <td>0.993782</td>\n",
       "    </tr>\n",
       "    <tr>\n",
       "      <th>T</th>\n",
       "      <td>0.132816</td>\n",
       "      <td>8.807183</td>\n",
       "      <td>1.901714</td>\n",
       "      <td>2.397146</td>\n",
       "      <td>4.535822</td>\n",
       "      <td>0.050124</td>\n",
       "    </tr>\n",
       "    <tr>\n",
       "      <th>nk</th>\n",
       "      <td>2.239315</td>\n",
       "      <td>0.192924</td>\n",
       "      <td>1.999851</td>\n",
       "      <td>4.815917</td>\n",
       "      <td>2.955581</td>\n",
       "      <td>0.683057</td>\n",
       "    </tr>\n",
       "    <tr>\n",
       "      <th>myeloid</th>\n",
       "      <td>0.026084</td>\n",
       "      <td>0.134216</td>\n",
       "      <td>0.829067</td>\n",
       "      <td>0.073304</td>\n",
       "      <td>10.196378</td>\n",
       "      <td>2.176845</td>\n",
       "    </tr>\n",
       "  </tbody>\n",
       "</table>\n",
       "</div>"
      ],
      "text/plain": [
       "ct               B        T4        T8        NK         cM       ncM\n",
       "group                                                                \n",
       "B        13.591760  0.044223  1.219193  2.051856   0.177894  0.993782\n",
       "T         0.132816  8.807183  1.901714  2.397146   4.535822  0.050124\n",
       "nk        2.239315  0.192924  1.999851  4.815917   2.955581  0.683057\n",
       "myeloid   0.026084  0.134216  0.829067  0.073304  10.196378  2.176845"
      ]
     },
     "execution_count": 97,
     "metadata": {},
     "output_type": "execute_result"
    }
   ],
   "source": [
    "heatmap"
   ]
  },
  {
   "cell_type": "code",
   "execution_count": 98,
   "id": "4412ede1",
   "metadata": {},
   "outputs": [
    {
     "data": {
      "text/plain": [
       "Text(0.5, 1.0, 'European')"
      ]
     },
     "execution_count": 98,
     "metadata": {},
     "output_type": "execute_result"
    },
    {
     "data": {
      "image/png": "[encoded data removed]",
      "text/plain": [
       "<Figure size 432x288 with 2 Axes>"
      ]
     },
     "metadata": {
      "needs_background": "light"
     },
     "output_type": "display_data"
    }
   ],
   "source": [
    "sns.heatmap(heatmap, vmax=5)\n",
    "plt.ylabel('ATAC group'); plt.xlabel('cell type')\n",
    "plt.title('European')"
   ]
  },
  {
   "cell_type": "code",
   "execution_count": 94,
   "id": "8e3693cd",
   "metadata": {},
   "outputs": [
    {
     "data": {
      "text/plain": [
       "Text(0.5, 1.0, 'European')"
      ]
     },
     "execution_count": 94,
     "metadata": {},
     "output_type": "execute_result"
    },
    {
     "data": {
      "image/png": "[encoded data removed]",
      "text/plain": [
       "<Figure size 432x288 with 2 Axes>"
      ]
     },
     "metadata": {
      "needs_background": "light"
     },
     "output_type": "display_data"
    }
   ],
   "source": [
    "sns.heatmap(heatmap, vmax=5)\n",
    "plt.ylabel('ATAC group'); plt.xlabel('cell type')\n",
    "plt.title('European')"
   ]
  },
  {
   "cell_type": "code",
   "execution_count": null,
   "id": "13dc08f0",
   "metadata": {},
   "outputs": [],
   "source": []
  },
  {
   "cell_type": "code",
   "execution_count": null,
   "id": "708a2094",
   "metadata": {},
   "outputs": [],
   "source": []
  },
  {
   "cell_type": "code",
   "execution_count": null,
   "id": "a280c294",
   "metadata": {},
   "outputs": [],
   "source": []
  },
  {
   "cell_type": "code",
   "execution_count": 13,
   "id": "7732dd64",
   "metadata": {},
   "outputs": [
    {
     "name": "stderr",
     "output_type": "stream",
     "text": [
      "/home/ssm-user/anaconda3/envs/single_cell/lib/python3.8/site-packages/pandas/core/arraylike.py:364: RuntimeWarning: divide by zero encountered in log10\n",
      "  result = getattr(ufunc, method)(*inputs, **kwargs)\n"
     ]
    }
   ],
   "source": [
    "all_result = []\n",
    "for ct in cts:\n",
    "    atac_result = pd.read_csv(data_path + 'atac_enrichment/gracie/asian_memento_{}.out'.format(ct), sep='\\t')\n",
    "    atac_result['ct'] = ct\n",
    "    all_result.append(atac_result)\n",
    "all_result = pd.concat(all_result)\n",
    "all_result['logp'] = -np.log10(all_result['pval'])"
   ]
  },
  {
   "cell_type": "code",
   "execution_count": 14,
   "id": "770dc74e",
   "metadata": {},
   "outputs": [],
   "source": [
    "heatmap = all_result.pivot('group', 'ct', 'logp')"
   ]
  },
  {
   "cell_type": "code",
   "execution_count": 15,
   "id": "4f2c4aec",
   "metadata": {},
   "outputs": [],
   "source": [
    "# For asian\n",
    "heatmap.loc['T', 't4'] = -np.log10(0.0000000000000000000421660694040805)"
   ]
  },
  {
   "cell_type": "code",
   "execution_count": 16,
   "id": "0ded9aa4",
   "metadata": {},
   "outputs": [],
   "source": [
    "# # For euro\n",
    "# heatmap.loc['T', 'T4'] = -np.log10(0.00000000000000000000000000413651919363649)\n",
    "# heatmap.loc['nk', 'NK'] = -np.log10(0.00000000000000000034318247040364)"
   ]
  },
  {
   "cell_type": "code",
   "execution_count": 17,
   "id": "e1fb4cde",
   "metadata": {},
   "outputs": [
    {
     "data": {
      "text/html": [
       "<div>\n",
       "<style scoped>\n",
       "    .dataframe tbody tr th:only-of-type {\n",
       "        vertical-align: middle;\n",
       "    }\n",
       "\n",
       "    .dataframe tbody tr th {\n",
       "        vertical-align: top;\n",
       "    }\n",
       "\n",
       "    .dataframe thead th {\n",
       "        text-align: right;\n",
       "    }\n",
       "</style>\n",
       "<table border=\"1\" class=\"dataframe\">\n",
       "  <thead>\n",
       "    <tr style=\"text-align: right;\">\n",
       "      <th>ct</th>\n",
       "      <th>B</th>\n",
       "      <th>NK</th>\n",
       "      <th>T4</th>\n",
       "      <th>T8</th>\n",
       "      <th>cM</th>\n",
       "      <th>ncM</th>\n",
       "      <th>t4</th>\n",
       "    </tr>\n",
       "    <tr>\n",
       "      <th>group</th>\n",
       "      <th></th>\n",
       "      <th></th>\n",
       "      <th></th>\n",
       "      <th></th>\n",
       "      <th></th>\n",
       "      <th></th>\n",
       "      <th></th>\n",
       "    </tr>\n",
       "  </thead>\n",
       "  <tbody>\n",
       "    <tr>\n",
       "      <th>B</th>\n",
       "      <td>9.446009</td>\n",
       "      <td>0.201449</td>\n",
       "      <td>1.152787e-02</td>\n",
       "      <td>0.000236</td>\n",
       "      <td>0.294643</td>\n",
       "      <td>2.429043</td>\n",
       "      <td>NaN</td>\n",
       "    </tr>\n",
       "    <tr>\n",
       "      <th>EPI</th>\n",
       "      <td>0.069438</td>\n",
       "      <td>0.016695</td>\n",
       "      <td>9.574018e-01</td>\n",
       "      <td>0.379966</td>\n",
       "      <td>0.041539</td>\n",
       "      <td>0.001686</td>\n",
       "      <td>NaN</td>\n",
       "    </tr>\n",
       "    <tr>\n",
       "      <th>T</th>\n",
       "      <td>0.410748</td>\n",
       "      <td>1.929972</td>\n",
       "      <td>inf</td>\n",
       "      <td>5.156759</td>\n",
       "      <td>0.006744</td>\n",
       "      <td>1.411975</td>\n",
       "      <td>19.375037</td>\n",
       "    </tr>\n",
       "    <tr>\n",
       "      <th>myeloid</th>\n",
       "      <td>0.004008</td>\n",
       "      <td>0.000050</td>\n",
       "      <td>1.647548e-07</td>\n",
       "      <td>0.024558</td>\n",
       "      <td>11.349207</td>\n",
       "      <td>8.334943</td>\n",
       "      <td>NaN</td>\n",
       "    </tr>\n",
       "    <tr>\n",
       "      <th>nk</th>\n",
       "      <td>2.148783</td>\n",
       "      <td>6.150417</td>\n",
       "      <td>2.912448e-01</td>\n",
       "      <td>2.891361</td>\n",
       "      <td>0.002267</td>\n",
       "      <td>2.564646</td>\n",
       "      <td>NaN</td>\n",
       "    </tr>\n",
       "    <tr>\n",
       "      <th>open</th>\n",
       "      <td>-0.000000</td>\n",
       "      <td>0.000688</td>\n",
       "      <td>1.626796e-01</td>\n",
       "      <td>0.110856</td>\n",
       "      <td>0.019771</td>\n",
       "      <td>0.001514</td>\n",
       "      <td>NaN</td>\n",
       "    </tr>\n",
       "    <tr>\n",
       "      <th>progenitor</th>\n",
       "      <td>0.731325</td>\n",
       "      <td>0.060398</td>\n",
       "      <td>2.350628e+00</td>\n",
       "      <td>0.784351</td>\n",
       "      <td>6.172507</td>\n",
       "      <td>1.194904</td>\n",
       "      <td>NaN</td>\n",
       "    </tr>\n",
       "    <tr>\n",
       "      <th>thymocyte</th>\n",
       "      <td>0.282672</td>\n",
       "      <td>0.042491</td>\n",
       "      <td>4.711996e-01</td>\n",
       "      <td>0.585906</td>\n",
       "      <td>0.013512</td>\n",
       "      <td>1.305937</td>\n",
       "      <td>NaN</td>\n",
       "    </tr>\n",
       "  </tbody>\n",
       "</table>\n",
       "</div>"
      ],
      "text/plain": [
       "ct                 B        NK            T4        T8         cM       ncM  \\\n",
       "group                                                                         \n",
       "B           9.446009  0.201449  1.152787e-02  0.000236   0.294643  2.429043   \n",
       "EPI         0.069438  0.016695  9.574018e-01  0.379966   0.041539  0.001686   \n",
       "T           0.410748  1.929972           inf  5.156759   0.006744  1.411975   \n",
       "myeloid     0.004008  0.000050  1.647548e-07  0.024558  11.349207  8.334943   \n",
       "nk          2.148783  6.150417  2.912448e-01  2.891361   0.002267  2.564646   \n",
       "open       -0.000000  0.000688  1.626796e-01  0.110856   0.019771  0.001514   \n",
       "progenitor  0.731325  0.060398  2.350628e+00  0.784351   6.172507  1.194904   \n",
       "thymocyte   0.282672  0.042491  4.711996e-01  0.585906   0.013512  1.305937   \n",
       "\n",
       "ct                 t4  \n",
       "group                  \n",
       "B                 NaN  \n",
       "EPI               NaN  \n",
       "T           19.375037  \n",
       "myeloid           NaN  \n",
       "nk                NaN  \n",
       "open              NaN  \n",
       "progenitor        NaN  \n",
       "thymocyte         NaN  "
      ]
     },
     "execution_count": 17,
     "metadata": {},
     "output_type": "execute_result"
    }
   ],
   "source": [
    "heatmap"
   ]
  },
  {
   "cell_type": "code",
   "execution_count": 19,
   "id": "571d7c0e",
   "metadata": {},
   "outputs": [
    {
     "data": {
      "text/plain": [
       "Text(0.5, 1.0, 'Asian')"
      ]
     },
     "execution_count": 19,
     "metadata": {},
     "output_type": "execute_result"
    },
    {
     "data": {
      "image/png": "[encoded data removed]",
      "text/plain": [
       "<Figure size 432x288 with 2 Axes>"
      ]
     },
     "metadata": {
      "needs_background": "light"
     },
     "output_type": "display_data"
    }
   ],
   "source": [
    "sns.heatmap(heatmap.loc[['B', 'T', 'nk', 'myeloid']].loc[:, ['B', 'T4', 'T8',  'NK','cM', 'ncM',]], vmax=10)\n",
    "plt.ylabel('ATAC group'); plt.xlabel('cell type')\n",
    "plt.title('Asian')"
   ]
  },
  {
   "cell_type": "code",
   "execution_count": null,
   "id": "77321f8c",
   "metadata": {},
   "outputs": [],
   "source": []
  },
  {
   "cell_type": "code",
   "execution_count": null,
   "id": "a0fbc70c",
   "metadata": {},
   "outputs": [],
   "source": []
  },
  {
   "cell_type": "code",
   "execution_count": null,
   "id": "6e9229fc",
   "metadata": {},
   "outputs": [],
   "source": []
  },
  {
   "cell_type": "markdown",
   "id": "4aafc758",
   "metadata": {},
   "source": [
    "### Compare Gracie's eqtls, matrix eqtl, and memento"
   ]
  },
  {
   "cell_type": "code",
   "execution_count": 6,
   "id": "94cbb766",
   "metadata": {},
   "outputs": [],
   "source": [
    "all_available_snps = pd.read_csv('/data_volume/memento/lupus/full_analysis/mateqtl/inputs/asian_genos.tsv', sep='\\t')"
   ]
  },
  {
   "cell_type": "code",
   "execution_count": 47,
   "id": "4e1d5489",
   "metadata": {},
   "outputs": [
    {
     "name": "stderr",
     "output_type": "stream",
     "text": [
      "/home/ssm-user/anaconda3/envs/single_cell/lib/python3.8/site-packages/IPython/core/interactiveshell.py:3444: DtypeWarning: Columns (5,6,8,10) have mixed types.Specify dtype option on import or set low_memory=False.\n",
      "  exec(code_obj, self.user_global_ns, self.user_ns)\n"
     ]
    }
   ],
   "source": [
    "gracie = pd.read_csv(data_path + 'gracie_eqtls/nk_metasoft_out.txt', sep='\\t', skiprows=1, header=None).iloc[:, :3]\n",
    "memento = pd.read_csv('/data_volume/memento/lupus/full_analysis/memento/gracie/asian_NK.csv')\n",
    "mateqtl = pd.read_csv('/data_volume/memento/lupus/full_analysis/mateqtl/outputs/asian_NK_all.csv', sep='\\t')"
   ]
  },
  {
   "cell_type": "code",
   "execution_count": 24,
   "id": "04178cdb",
   "metadata": {},
   "outputs": [],
   "source": [
    "mateqtl_gene_loc = pd.read_csv('/data_volume/memento/lupus/full_analysis/mateqtl/inputs/geneloc_tss_hg19.txt', sep='\\t')"
   ]
  },
  {
   "cell_type": "code",
   "execution_count": 37,
   "id": "bfef98e3",
   "metadata": {},
   "outputs": [
    {
     "data": {
      "text/html": [
       "<div>\n",
       "<style scoped>\n",
       "    .dataframe tbody tr th:only-of-type {\n",
       "        vertical-align: middle;\n",
       "    }\n",
       "\n",
       "    .dataframe tbody tr th {\n",
       "        vertical-align: top;\n",
       "    }\n",
       "\n",
       "    .dataframe thead th {\n",
       "        text-align: right;\n",
       "    }\n",
       "</style>\n",
       "<table border=\"1\" class=\"dataframe\">\n",
       "  <thead>\n",
       "    <tr style=\"text-align: right;\">\n",
       "      <th></th>\n",
       "      <th>geneid</th>\n",
       "      <th>chr</th>\n",
       "      <th>s1</th>\n",
       "      <th>s2</th>\n",
       "    </tr>\n",
       "  </thead>\n",
       "  <tbody>\n",
       "  </tbody>\n",
       "</table>\n",
       "</div>"
      ],
      "text/plain": [
       "Empty DataFrame\n",
       "Columns: [geneid, chr, s1, s2]\n",
       "Index: []"
      ]
     },
     "execution_count": 37,
     "metadata": {},
     "output_type": "execute_result"
    }
   ],
   "source": [
    "mateqtl_gene_loc.query('geneid == \"FAM192A\"')"
   ]
  },
  {
   "cell_type": "code",
   "execution_count": 48,
   "id": "0227dbd1",
   "metadata": {},
   "outputs": [],
   "source": [
    "gracie_pairs = set(gracie.iloc[:, 0].tolist())\n",
    "memento_pairs = set((memento['SNP'] + '_' + memento['gene']).tolist())\n",
    "mateqtl_pairs = set((mateqtl['SNP'] + '_' + mateqtl['gene']).tolist())"
   ]
  },
  {
   "cell_type": "code",
   "execution_count": 49,
   "id": "0138d990",
   "metadata": {},
   "outputs": [
    {
     "data": {
      "text/plain": [
       "215793"
      ]
     },
     "execution_count": 49,
     "metadata": {},
     "output_type": "execute_result"
    }
   ],
   "source": [
    "len(gracie_pairs & mateqtl_pairs)"
   ]
  },
  {
   "cell_type": "code",
   "execution_count": 50,
   "id": "ef180388",
   "metadata": {},
   "outputs": [
    {
     "data": {
      "text/plain": [
       "827413"
      ]
     },
     "execution_count": 50,
     "metadata": {},
     "output_type": "execute_result"
    }
   ],
   "source": [
    "len(mateqtl_pairs)"
   ]
  },
  {
   "cell_type": "code",
   "execution_count": 40,
   "id": "598772cc",
   "metadata": {},
   "outputs": [],
   "source": [
    "gracie.columns = ['name', 'chr', 'p-value']\n",
    "gracie['gene'] = gracie['name'].str.split('_').str[-1]"
   ]
  },
  {
   "cell_type": "code",
   "execution_count": 44,
   "id": "f1d20d59",
   "metadata": {},
   "outputs": [
    {
     "data": {
      "text/html": [
       "<div>\n",
       "<style scoped>\n",
       "    .dataframe tbody tr th:only-of-type {\n",
       "        vertical-align: middle;\n",
       "    }\n",
       "\n",
       "    .dataframe tbody tr th {\n",
       "        vertical-align: top;\n",
       "    }\n",
       "\n",
       "    .dataframe thead th {\n",
       "        text-align: right;\n",
       "    }\n",
       "</style>\n",
       "<table border=\"1\" class=\"dataframe\">\n",
       "  <thead>\n",
       "    <tr style=\"text-align: right;\">\n",
       "      <th></th>\n",
       "      <th>name</th>\n",
       "      <th>chr</th>\n",
       "      <th>p-value</th>\n",
       "      <th>gene</th>\n",
       "    </tr>\n",
       "  </thead>\n",
       "  <tbody>\n",
       "    <tr>\n",
       "      <th>0</th>\n",
       "      <td>10:100043981_PYROXD2</td>\n",
       "      <td>2</td>\n",
       "      <td>0.499939</td>\n",
       "      <td>PYROXD2</td>\n",
       "    </tr>\n",
       "    <tr>\n",
       "      <th>1</th>\n",
       "      <td>10:100044928_PYROXD2</td>\n",
       "      <td>3</td>\n",
       "      <td>0.481351</td>\n",
       "      <td>PYROXD2</td>\n",
       "    </tr>\n",
       "    <tr>\n",
       "      <th>2</th>\n",
       "      <td>10:100045000_PYROXD2</td>\n",
       "      <td>3</td>\n",
       "      <td>0.333619</td>\n",
       "      <td>PYROXD2</td>\n",
       "    </tr>\n",
       "    <tr>\n",
       "      <th>3</th>\n",
       "      <td>10:100045147_PYROXD2</td>\n",
       "      <td>3</td>\n",
       "      <td>0.498166</td>\n",
       "      <td>PYROXD2</td>\n",
       "    </tr>\n",
       "    <tr>\n",
       "      <th>4</th>\n",
       "      <td>10:100045166_PYROXD2</td>\n",
       "      <td>2</td>\n",
       "      <td>0.873178</td>\n",
       "      <td>PYROXD2</td>\n",
       "    </tr>\n",
       "    <tr>\n",
       "      <th>...</th>\n",
       "      <td>...</td>\n",
       "      <td>...</td>\n",
       "      <td>...</td>\n",
       "      <td>...</td>\n",
       "    </tr>\n",
       "    <tr>\n",
       "      <th>3379627</th>\n",
       "      <td>9:99802796_HIATL2</td>\n",
       "      <td>2</td>\n",
       "      <td>0.609609</td>\n",
       "      <td>HIATL2</td>\n",
       "    </tr>\n",
       "    <tr>\n",
       "      <th>3379628</th>\n",
       "      <td>9:99804997_HIATL2</td>\n",
       "      <td>2</td>\n",
       "      <td>0.918560</td>\n",
       "      <td>HIATL2</td>\n",
       "    </tr>\n",
       "    <tr>\n",
       "      <th>3379629</th>\n",
       "      <td>9:99805079_HIATL2</td>\n",
       "      <td>2</td>\n",
       "      <td>0.609609</td>\n",
       "      <td>HIATL2</td>\n",
       "    </tr>\n",
       "    <tr>\n",
       "      <th>3379630</th>\n",
       "      <td>9:99806169_HIATL2</td>\n",
       "      <td>2</td>\n",
       "      <td>0.609609</td>\n",
       "      <td>HIATL2</td>\n",
       "    </tr>\n",
       "    <tr>\n",
       "      <th>3379631</th>\n",
       "      <td>9:99806787_HIATL2</td>\n",
       "      <td>2</td>\n",
       "      <td>0.609609</td>\n",
       "      <td>HIATL2</td>\n",
       "    </tr>\n",
       "  </tbody>\n",
       "</table>\n",
       "<p>2735376 rows × 4 columns</p>\n",
       "</div>"
      ],
      "text/plain": [
       "                         name  chr   p-value     gene\n",
       "0        10:100043981_PYROXD2    2  0.499939  PYROXD2\n",
       "1        10:100044928_PYROXD2    3  0.481351  PYROXD2\n",
       "2        10:100045000_PYROXD2    3  0.333619  PYROXD2\n",
       "3        10:100045147_PYROXD2    3  0.498166  PYROXD2\n",
       "4        10:100045166_PYROXD2    2  0.873178  PYROXD2\n",
       "...                       ...  ...       ...      ...\n",
       "3379627     9:99802796_HIATL2    2  0.609609   HIATL2\n",
       "3379628     9:99804997_HIATL2    2  0.918560   HIATL2\n",
       "3379629     9:99805079_HIATL2    2  0.609609   HIATL2\n",
       "3379630     9:99806169_HIATL2    2  0.609609   HIATL2\n",
       "3379631     9:99806787_HIATL2    2  0.609609   HIATL2\n",
       "\n",
       "[2735376 rows x 4 columns]"
      ]
     },
     "execution_count": 44,
     "metadata": {},
     "output_type": "execute_result"
    }
   ],
   "source": [
    "gracie.dropna()"
   ]
  },
  {
   "cell_type": "code",
   "execution_count": 45,
   "id": "949c3b8f",
   "metadata": {},
   "outputs": [
    {
     "data": {
      "text/html": [
       "<div>\n",
       "<style scoped>\n",
       "    .dataframe tbody tr th:only-of-type {\n",
       "        vertical-align: middle;\n",
       "    }\n",
       "\n",
       "    .dataframe tbody tr th {\n",
       "        vertical-align: top;\n",
       "    }\n",
       "\n",
       "    .dataframe thead th {\n",
       "        text-align: right;\n",
       "    }\n",
       "</style>\n",
       "<table border=\"1\" class=\"dataframe\">\n",
       "  <thead>\n",
       "    <tr style=\"text-align: right;\">\n",
       "      <th></th>\n",
       "      <th>name</th>\n",
       "      <th>chr</th>\n",
       "      <th>p-value</th>\n",
       "      <th>gene</th>\n",
       "    </tr>\n",
       "  </thead>\n",
       "  <tbody>\n",
       "    <tr>\n",
       "      <th>874360</th>\n",
       "      <td>16:57089130_FAM192A</td>\n",
       "      <td>3</td>\n",
       "      <td>0.241322</td>\n",
       "      <td>FAM192A</td>\n",
       "    </tr>\n",
       "    <tr>\n",
       "      <th>874363</th>\n",
       "      <td>16:57089959_FAM192A</td>\n",
       "      <td>3</td>\n",
       "      <td>0.292241</td>\n",
       "      <td>FAM192A</td>\n",
       "    </tr>\n",
       "    <tr>\n",
       "      <th>874369</th>\n",
       "      <td>16:57090666_FAM192A</td>\n",
       "      <td>3</td>\n",
       "      <td>0.137841</td>\n",
       "      <td>FAM192A</td>\n",
       "    </tr>\n",
       "    <tr>\n",
       "      <th>874372</th>\n",
       "      <td>16:57090858_FAM192A</td>\n",
       "      <td>3</td>\n",
       "      <td>0.185542</td>\n",
       "      <td>FAM192A</td>\n",
       "    </tr>\n",
       "    <tr>\n",
       "      <th>874378</th>\n",
       "      <td>16:57091334_FAM192A</td>\n",
       "      <td>3</td>\n",
       "      <td>0.703152</td>\n",
       "      <td>FAM192A</td>\n",
       "    </tr>\n",
       "    <tr>\n",
       "      <th>...</th>\n",
       "      <td>...</td>\n",
       "      <td>...</td>\n",
       "      <td>...</td>\n",
       "      <td>...</td>\n",
       "    </tr>\n",
       "    <tr>\n",
       "      <th>875506</th>\n",
       "      <td>16:57252581_FAM192A</td>\n",
       "      <td>3</td>\n",
       "      <td>0.834951</td>\n",
       "      <td>FAM192A</td>\n",
       "    </tr>\n",
       "    <tr>\n",
       "      <th>875515</th>\n",
       "      <td>16:57256949_FAM192A</td>\n",
       "      <td>3</td>\n",
       "      <td>0.967575</td>\n",
       "      <td>FAM192A</td>\n",
       "    </tr>\n",
       "    <tr>\n",
       "      <th>875527</th>\n",
       "      <td>16:57261146_FAM192A</td>\n",
       "      <td>3</td>\n",
       "      <td>0.660629</td>\n",
       "      <td>FAM192A</td>\n",
       "    </tr>\n",
       "    <tr>\n",
       "      <th>875542</th>\n",
       "      <td>16:57272174_FAM192A</td>\n",
       "      <td>3</td>\n",
       "      <td>0.778900</td>\n",
       "      <td>FAM192A</td>\n",
       "    </tr>\n",
       "    <tr>\n",
       "      <th>875563</th>\n",
       "      <td>16:57283085_FAM192A</td>\n",
       "      <td>3</td>\n",
       "      <td>0.496463</td>\n",
       "      <td>FAM192A</td>\n",
       "    </tr>\n",
       "  </tbody>\n",
       "</table>\n",
       "<p>153 rows × 4 columns</p>\n",
       "</div>"
      ],
      "text/plain": [
       "                       name  chr   p-value     gene\n",
       "874360  16:57089130_FAM192A    3  0.241322  FAM192A\n",
       "874363  16:57089959_FAM192A    3  0.292241  FAM192A\n",
       "874369  16:57090666_FAM192A    3  0.137841  FAM192A\n",
       "874372  16:57090858_FAM192A    3  0.185542  FAM192A\n",
       "874378  16:57091334_FAM192A    3  0.703152  FAM192A\n",
       "...                     ...  ...       ...      ...\n",
       "875506  16:57252581_FAM192A    3  0.834951  FAM192A\n",
       "875515  16:57256949_FAM192A    3  0.967575  FAM192A\n",
       "875527  16:57261146_FAM192A    3  0.660629  FAM192A\n",
       "875542  16:57272174_FAM192A    3  0.778900  FAM192A\n",
       "875563  16:57283085_FAM192A    3  0.496463  FAM192A\n",
       "\n",
       "[153 rows x 4 columns]"
      ]
     },
     "execution_count": 45,
     "metadata": {},
     "output_type": "execute_result"
    }
   ],
   "source": [
    "gracie.query('gene == \"FAM192A\"').dropna()"
   ]
  },
  {
   "cell_type": "code",
   "execution_count": 51,
   "id": "c726a68b",
   "metadata": {},
   "outputs": [
    {
     "data": {
      "text/plain": [
       "['4:155425156_PLRG1',\n",
       " '12:54875370_NCKAP1L',\n",
       " '6:42956746_KLC4',\n",
       " '6:511080_EXOC2',\n",
       " '1:118135188_FAM46C']"
      ]
     },
     "execution_count": 51,
     "metadata": {},
     "output_type": "execute_result"
    }
   ],
   "source": [
    "list(gracie_pairs - mateqtl_pairs)[:5]"
   ]
  },
  {
   "cell_type": "code",
   "execution_count": 29,
   "id": "9f798ef8",
   "metadata": {},
   "outputs": [
    {
     "data": {
      "text/plain": [
       "693838"
      ]
     },
     "execution_count": 29,
     "metadata": {},
     "output_type": "execute_result"
    }
   ],
   "source": [
    "len(memento_pairs & mateqtl_pairs)"
   ]
  },
  {
   "cell_type": "code",
   "execution_count": 21,
   "id": "ac709a9c",
   "metadata": {},
   "outputs": [],
   "source": [
    "joined = memento.merge(mateqtl, on=['SNP', 'gene'], suffixes=('_mem', '_meq'))"
   ]
  },
  {
   "cell_type": "code",
   "execution_count": 22,
   "id": "7dc85ea1",
   "metadata": {},
   "outputs": [
    {
     "data": {
      "text/html": [
       "<div>\n",
       "<style scoped>\n",
       "    .dataframe tbody tr th:only-of-type {\n",
       "        vertical-align: middle;\n",
       "    }\n",
       "\n",
       "    .dataframe tbody tr th {\n",
       "        vertical-align: top;\n",
       "    }\n",
       "\n",
       "    .dataframe thead th {\n",
       "        text-align: right;\n",
       "    }\n",
       "</style>\n",
       "<table border=\"1\" class=\"dataframe\">\n",
       "  <thead>\n",
       "    <tr style=\"text-align: right;\">\n",
       "      <th></th>\n",
       "      <th>SNP</th>\n",
       "      <th>gene</th>\n",
       "      <th>statistic</th>\n",
       "      <th>p.value</th>\n",
       "      <th>FDR_mem</th>\n",
       "      <th>beta_mem</th>\n",
       "      <th>beta_meq</th>\n",
       "      <th>t-stat</th>\n",
       "      <th>p-value</th>\n",
       "      <th>FDR_meq</th>\n",
       "    </tr>\n",
       "  </thead>\n",
       "  <tbody>\n",
       "    <tr>\n",
       "      <th>0</th>\n",
       "      <td>1:839103</td>\n",
       "      <td>NOC2L</td>\n",
       "      <td>0.657470</td>\n",
       "      <td>0.511113</td>\n",
       "      <td>0.966698</td>\n",
       "      <td>0.002805</td>\n",
       "      <td>0.009298</td>\n",
       "      <td>1.704009</td>\n",
       "      <td>0.094128</td>\n",
       "      <td>0.764935</td>\n",
       "    </tr>\n",
       "    <tr>\n",
       "      <th>1</th>\n",
       "      <td>1:961464</td>\n",
       "      <td>NOC2L</td>\n",
       "      <td>0.011876</td>\n",
       "      <td>0.990527</td>\n",
       "      <td>0.999417</td>\n",
       "      <td>0.000045</td>\n",
       "      <td>-0.002722</td>\n",
       "      <td>-0.511359</td>\n",
       "      <td>0.611184</td>\n",
       "      <td>0.959118</td>\n",
       "    </tr>\n",
       "    <tr>\n",
       "      <th>2</th>\n",
       "      <td>1:959169</td>\n",
       "      <td>NOC2L</td>\n",
       "      <td>0.310125</td>\n",
       "      <td>0.756709</td>\n",
       "      <td>0.987386</td>\n",
       "      <td>0.001081</td>\n",
       "      <td>0.005274</td>\n",
       "      <td>1.016637</td>\n",
       "      <td>0.313860</td>\n",
       "      <td>0.890783</td>\n",
       "    </tr>\n",
       "    <tr>\n",
       "      <th>3</th>\n",
       "      <td>1:833927</td>\n",
       "      <td>NOC2L</td>\n",
       "      <td>0.508080</td>\n",
       "      <td>0.611433</td>\n",
       "      <td>0.977901</td>\n",
       "      <td>0.002262</td>\n",
       "      <td>0.010230</td>\n",
       "      <td>1.697418</td>\n",
       "      <td>0.095375</td>\n",
       "      <td>0.765596</td>\n",
       "    </tr>\n",
       "    <tr>\n",
       "      <th>4</th>\n",
       "      <td>1:853239</td>\n",
       "      <td>NOC2L</td>\n",
       "      <td>0.605859</td>\n",
       "      <td>0.544764</td>\n",
       "      <td>0.970924</td>\n",
       "      <td>0.002950</td>\n",
       "      <td>0.008813</td>\n",
       "      <td>1.301135</td>\n",
       "      <td>0.198737</td>\n",
       "      <td>0.847948</td>\n",
       "    </tr>\n",
       "  </tbody>\n",
       "</table>\n",
       "</div>"
      ],
      "text/plain": [
       "        SNP   gene  statistic   p.value   FDR_mem  beta_mem  beta_meq  \\\n",
       "0  1:839103  NOC2L   0.657470  0.511113  0.966698  0.002805  0.009298   \n",
       "1  1:961464  NOC2L   0.011876  0.990527  0.999417  0.000045 -0.002722   \n",
       "2  1:959169  NOC2L   0.310125  0.756709  0.987386  0.001081  0.005274   \n",
       "3  1:833927  NOC2L   0.508080  0.611433  0.977901  0.002262  0.010230   \n",
       "4  1:853239  NOC2L   0.605859  0.544764  0.970924  0.002950  0.008813   \n",
       "\n",
       "     t-stat   p-value   FDR_meq  \n",
       "0  1.704009  0.094128  0.764935  \n",
       "1 -0.511359  0.611184  0.959118  \n",
       "2  1.016637  0.313860  0.890783  \n",
       "3  1.697418  0.095375  0.765596  \n",
       "4  1.301135  0.198737  0.847948  "
      ]
     },
     "execution_count": 22,
     "metadata": {},
     "output_type": "execute_result"
    }
   ],
   "source": [
    "joined.head(5)"
   ]
  },
  {
   "cell_type": "code",
   "execution_count": 19,
   "id": "5892ca84",
   "metadata": {},
   "outputs": [
    {
     "data": {
      "text/plain": [
       "<matplotlib.collections.PathCollection at 0x7f7145543c70>"
      ]
     },
     "execution_count": 19,
     "metadata": {},
     "output_type": "execute_result"
    },
    {
     "data": {
      "image/png": "[encoded data removed]",
      "text/plain": [
       "<Figure size 432x288 with 1 Axes>"
      ]
     },
     "metadata": {
      "needs_background": "light"
     },
     "output_type": "display_data"
    }
   ],
   "source": [
    "plt.scatter(-np.log(joined['p.value']), -np.log(joined['p-value']))"
   ]
  },
  {
   "cell_type": "code",
   "execution_count": 15,
   "id": "6d87537b",
   "metadata": {},
   "outputs": [
    {
     "data": {
      "text/plain": [
       "<matplotlib.collections.PathCollection at 0x7f713e560ac0>"
      ]
     },
     "execution_count": 15,
     "metadata": {},
     "output_type": "execute_result"
    },
    {
     "data": {
      "image/png": "[encoded data removed]",
      "text/plain": [
       "<Figure size 432x288 with 1 Axes>"
      ]
     },
     "metadata": {
      "needs_background": "light"
     },
     "output_type": "display_data"
    }
   ],
   "source": [
    "plt.scatter(joined['beta_x'], joined['beta_y'])"
   ]
  },
  {
   "cell_type": "code",
   "execution_count": 10,
   "id": "27df5fd4",
   "metadata": {},
   "outputs": [
    {
     "data": {
      "text/html": [
       "<div>\n",
       "<style scoped>\n",
       "    .dataframe tbody tr th:only-of-type {\n",
       "        vertical-align: middle;\n",
       "    }\n",
       "\n",
       "    .dataframe tbody tr th {\n",
       "        vertical-align: top;\n",
       "    }\n",
       "\n",
       "    .dataframe thead th {\n",
       "        text-align: right;\n",
       "    }\n",
       "</style>\n",
       "<table border=\"1\" class=\"dataframe\">\n",
       "  <thead>\n",
       "    <tr style=\"text-align: right;\">\n",
       "      <th></th>\n",
       "      <th>SNP</th>\n",
       "      <th>gene</th>\n",
       "      <th>statistic</th>\n",
       "      <th>p.value</th>\n",
       "      <th>FDR</th>\n",
       "      <th>beta</th>\n",
       "    </tr>\n",
       "  </thead>\n",
       "  <tbody>\n",
       "    <tr>\n",
       "      <th>0</th>\n",
       "      <td>1:852037</td>\n",
       "      <td>LINC00115</td>\n",
       "      <td>-0.158421</td>\n",
       "      <td>0.874351</td>\n",
       "      <td>0.993827</td>\n",
       "      <td>-0.000157</td>\n",
       "    </tr>\n",
       "    <tr>\n",
       "      <th>1</th>\n",
       "      <td>1:836924</td>\n",
       "      <td>LINC00115</td>\n",
       "      <td>1.768985</td>\n",
       "      <td>0.077123</td>\n",
       "      <td>0.737361</td>\n",
       "      <td>0.002409</td>\n",
       "    </tr>\n",
       "    <tr>\n",
       "      <th>2</th>\n",
       "      <td>1:754334</td>\n",
       "      <td>LINC00115</td>\n",
       "      <td>-1.800973</td>\n",
       "      <td>0.071708</td>\n",
       "      <td>0.724811</td>\n",
       "      <td>-0.001807</td>\n",
       "    </tr>\n",
       "    <tr>\n",
       "      <th>3</th>\n",
       "      <td>1:850218</td>\n",
       "      <td>LINC00115</td>\n",
       "      <td>-0.158421</td>\n",
       "      <td>0.874351</td>\n",
       "      <td>0.993827</td>\n",
       "      <td>-0.000157</td>\n",
       "    </tr>\n",
       "    <tr>\n",
       "      <th>4</th>\n",
       "      <td>1:787399</td>\n",
       "      <td>LINC00115</td>\n",
       "      <td>-2.016791</td>\n",
       "      <td>0.043726</td>\n",
       "      <td>0.637237</td>\n",
       "      <td>-0.002023</td>\n",
       "    </tr>\n",
       "  </tbody>\n",
       "</table>\n",
       "</div>"
      ],
      "text/plain": [
       "        SNP       gene  statistic   p.value       FDR      beta\n",
       "0  1:852037  LINC00115  -0.158421  0.874351  0.993827 -0.000157\n",
       "1  1:836924  LINC00115   1.768985  0.077123  0.737361  0.002409\n",
       "2  1:754334  LINC00115  -1.800973  0.071708  0.724811 -0.001807\n",
       "3  1:850218  LINC00115  -0.158421  0.874351  0.993827 -0.000157\n",
       "4  1:787399  LINC00115  -2.016791  0.043726  0.637237 -0.002023"
      ]
     },
     "execution_count": 10,
     "metadata": {},
     "output_type": "execute_result"
    }
   ],
   "source": [
    "memento.head(5)"
   ]
  },
  {
   "cell_type": "code",
   "execution_count": 12,
   "id": "6335b334",
   "metadata": {},
   "outputs": [
    {
     "data": {
      "text/plain": [
       "(878466, 6)"
      ]
     },
     "execution_count": 12,
     "metadata": {},
     "output_type": "execute_result"
    }
   ],
   "source": [
    "mateqtl.shape"
   ]
  },
  {
   "cell_type": "code",
   "execution_count": 13,
   "id": "a3b7ac65",
   "metadata": {},
   "outputs": [
    {
     "data": {
      "text/plain": [
       "(2047501, 6)"
      ]
     },
     "execution_count": 13,
     "metadata": {},
     "output_type": "execute_result"
    }
   ],
   "source": [
    "memento.shape"
   ]
  },
  {
   "cell_type": "code",
   "execution_count": 14,
   "id": "d2690575",
   "metadata": {},
   "outputs": [
    {
     "data": {
      "text/plain": [
       "(3379632, 3)"
      ]
     },
     "execution_count": 14,
     "metadata": {},
     "output_type": "execute_result"
    }
   ],
   "source": [
    "gracie.shape"
   ]
  },
  {
   "cell_type": "code",
   "execution_count": null,
   "id": "17ba3cd3",
   "metadata": {},
   "outputs": [],
   "source": []
  },
  {
   "cell_type": "markdown",
   "id": "d668f297",
   "metadata": {},
   "source": [
    "### Sanity check gracie's eqtls"
   ]
  },
  {
   "cell_type": "code",
   "execution_count": 81,
   "id": "29040a7d",
   "metadata": {},
   "outputs": [
    {
     "name": "stderr",
     "output_type": "stream",
     "text": [
      "/home/ssm-user/anaconda3/envs/single_cell/lib/python3.8/site-packages/IPython/core/interactiveshell.py:3444: DtypeWarning: Columns (5,6,8,10) have mixed types.Specify dtype option on import or set low_memory=False.\n",
      "  exec(code_obj, self.user_global_ns, self.user_ns)\n"
     ]
    }
   ],
   "source": [
    "gracie_nk = pd.read_csv(data_path + 'gracie_eqtls/nk_metasoft_out.txt', sep='\\t', skiprows=1, header=None).iloc[:, :3]"
   ]
  },
  {
   "cell_type": "code",
   "execution_count": 82,
   "id": "ca853c10",
   "metadata": {},
   "outputs": [],
   "source": [
    "gracie_nk.columns = [\"RSID\",\"STUDY\",\"p.value\"]"
   ]
  },
  {
   "cell_type": "code",
   "execution_count": 83,
   "id": "9e8804ab",
   "metadata": {},
   "outputs": [],
   "source": [
    "gracie_nk['SNP'] = gracie_nk['RSID'].str.split('_').str[0]\n",
    "gracie_nk['gene'] = gracie_nk['RSID'].str.split('_').str[1]\n",
    "\n",
    "gracie_nk['chr'] = 'chr'+gracie_nk['SNP'].str.split(':').str[0]\n",
    "gracie_nk['pos'] = gracie_nk['SNP'].str.split(':').str[1]"
   ]
  },
  {
   "cell_type": "code",
   "execution_count": 38,
   "id": "7d4a8448",
   "metadata": {},
   "outputs": [
    {
     "data": {
      "text/html": [
       "<div>\n",
       "<style scoped>\n",
       "    .dataframe tbody tr th:only-of-type {\n",
       "        vertical-align: middle;\n",
       "    }\n",
       "\n",
       "    .dataframe tbody tr th {\n",
       "        vertical-align: top;\n",
       "    }\n",
       "\n",
       "    .dataframe thead th {\n",
       "        text-align: right;\n",
       "    }\n",
       "</style>\n",
       "<table border=\"1\" class=\"dataframe\">\n",
       "  <thead>\n",
       "    <tr style=\"text-align: right;\">\n",
       "      <th></th>\n",
       "      <th>RSID</th>\n",
       "      <th>STUDY</th>\n",
       "      <th>p.value</th>\n",
       "      <th>chr</th>\n",
       "      <th>SNP</th>\n",
       "      <th>gene</th>\n",
       "      <th>pos</th>\n",
       "      <th>end</th>\n",
       "      <th>distance</th>\n",
       "    </tr>\n",
       "  </thead>\n",
       "  <tbody>\n",
       "    <tr>\n",
       "      <th>0</th>\n",
       "      <td>10:100043981_PYROXD2</td>\n",
       "      <td>2</td>\n",
       "      <td>0.499939</td>\n",
       "      <td>chrchr10</td>\n",
       "      <td>chr10:100043981</td>\n",
       "      <td>chrPYROXD2</td>\n",
       "      <td>100043981</td>\n",
       "      <td>100043982</td>\n",
       "      <td>-1</td>\n",
       "    </tr>\n",
       "    <tr>\n",
       "      <th>1</th>\n",
       "      <td>10:100044928_PYROXD2</td>\n",
       "      <td>3</td>\n",
       "      <td>0.481351</td>\n",
       "      <td>chrchr10</td>\n",
       "      <td>chr10:100044928</td>\n",
       "      <td>chrPYROXD2</td>\n",
       "      <td>100044928</td>\n",
       "      <td>100044929</td>\n",
       "      <td>-1</td>\n",
       "    </tr>\n",
       "    <tr>\n",
       "      <th>2</th>\n",
       "      <td>10:100045000_PYROXD2</td>\n",
       "      <td>3</td>\n",
       "      <td>0.333619</td>\n",
       "      <td>chrchr10</td>\n",
       "      <td>chr10:100045000</td>\n",
       "      <td>chrPYROXD2</td>\n",
       "      <td>100045000</td>\n",
       "      <td>100045001</td>\n",
       "      <td>-1</td>\n",
       "    </tr>\n",
       "    <tr>\n",
       "      <th>3</th>\n",
       "      <td>10:100045147_PYROXD2</td>\n",
       "      <td>3</td>\n",
       "      <td>0.498166</td>\n",
       "      <td>chrchr10</td>\n",
       "      <td>chr10:100045147</td>\n",
       "      <td>chrPYROXD2</td>\n",
       "      <td>100045147</td>\n",
       "      <td>100045148</td>\n",
       "      <td>-1</td>\n",
       "    </tr>\n",
       "    <tr>\n",
       "      <th>4</th>\n",
       "      <td>10:100045166_PYROXD2</td>\n",
       "      <td>2</td>\n",
       "      <td>0.873178</td>\n",
       "      <td>chrchr10</td>\n",
       "      <td>chr10:100045166</td>\n",
       "      <td>chrPYROXD2</td>\n",
       "      <td>100045166</td>\n",
       "      <td>100045167</td>\n",
       "      <td>-1</td>\n",
       "    </tr>\n",
       "  </tbody>\n",
       "</table>\n",
       "</div>"
      ],
      "text/plain": [
       "                   RSID  STUDY   p.value       chr              SNP  \\\n",
       "0  10:100043981_PYROXD2      2  0.499939  chrchr10  chr10:100043981   \n",
       "1  10:100044928_PYROXD2      3  0.481351  chrchr10  chr10:100044928   \n",
       "2  10:100045000_PYROXD2      3  0.333619  chrchr10  chr10:100045000   \n",
       "3  10:100045147_PYROXD2      3  0.498166  chrchr10  chr10:100045147   \n",
       "4  10:100045166_PYROXD2      2  0.873178  chrchr10  chr10:100045166   \n",
       "\n",
       "         gene        pos        end  distance  \n",
       "0  chrPYROXD2  100043981  100043982        -1  \n",
       "1  chrPYROXD2  100044928  100044929        -1  \n",
       "2  chrPYROXD2  100045000  100045001        -1  \n",
       "3  chrPYROXD2  100045147  100045148        -1  \n",
       "4  chrPYROXD2  100045166  100045167        -1  "
      ]
     },
     "execution_count": 38,
     "metadata": {},
     "output_type": "execute_result"
    }
   ],
   "source": [
    "merged.head(5)"
   ]
  },
  {
   "cell_type": "code",
   "execution_count": 40,
   "id": "9c473fa1",
   "metadata": {},
   "outputs": [
    {
     "data": {
      "text/html": [
       "<div>\n",
       "<style scoped>\n",
       "    .dataframe tbody tr th:only-of-type {\n",
       "        vertical-align: middle;\n",
       "    }\n",
       "\n",
       "    .dataframe tbody tr th {\n",
       "        vertical-align: top;\n",
       "    }\n",
       "\n",
       "    .dataframe thead th {\n",
       "        text-align: right;\n",
       "    }\n",
       "</style>\n",
       "<table border=\"1\" class=\"dataframe\">\n",
       "  <thead>\n",
       "    <tr style=\"text-align: right;\">\n",
       "      <th></th>\n",
       "      <th>chr</th>\n",
       "      <th>pos</th>\n",
       "      <th>end</th>\n",
       "      <th>distance</th>\n",
       "    </tr>\n",
       "  </thead>\n",
       "  <tbody>\n",
       "    <tr>\n",
       "      <th>0</th>\n",
       "      <td>chr1</td>\n",
       "      <td>801467</td>\n",
       "      <td>801468</td>\n",
       "      <td>801468</td>\n",
       "    </tr>\n",
       "    <tr>\n",
       "      <th>1</th>\n",
       "      <td>chr1</td>\n",
       "      <td>801467</td>\n",
       "      <td>801468</td>\n",
       "      <td>801468</td>\n",
       "    </tr>\n",
       "    <tr>\n",
       "      <th>2</th>\n",
       "      <td>chr1</td>\n",
       "      <td>801467</td>\n",
       "      <td>801468</td>\n",
       "      <td>801468</td>\n",
       "    </tr>\n",
       "    <tr>\n",
       "      <th>3</th>\n",
       "      <td>chr1</td>\n",
       "      <td>1498152</td>\n",
       "      <td>1498153</td>\n",
       "      <td>1498153</td>\n",
       "    </tr>\n",
       "    <tr>\n",
       "      <th>4</th>\n",
       "      <td>chr1</td>\n",
       "      <td>1498152</td>\n",
       "      <td>1498153</td>\n",
       "      <td>1498153</td>\n",
       "    </tr>\n",
       "  </tbody>\n",
       "</table>\n",
       "</div>"
      ],
      "text/plain": [
       "    chr      pos      end  distance\n",
       "0  chr1   801467   801468    801468\n",
       "1  chr1   801467   801468    801468\n",
       "2  chr1   801467   801468    801468\n",
       "3  chr1  1498152  1498153   1498153\n",
       "4  chr1  1498152  1498153   1498153"
      ]
     },
     "execution_count": 40,
     "metadata": {},
     "output_type": "execute_result"
    }
   ],
   "source": [
    "c.head(5)"
   ]
  },
  {
   "cell_type": "code",
   "execution_count": 43,
   "id": "d860c71d",
   "metadata": {},
   "outputs": [],
   "source": [
    "gracie_nk['logp'] = -np.log10(gracie_nk['p.value'])"
   ]
  },
  {
   "cell_type": "code",
   "execution_count": null,
   "id": "6eadeae1",
   "metadata": {},
   "outputs": [],
   "source": []
  },
  {
   "cell_type": "code",
   "execution_count": 42,
   "id": "adf85dc4",
   "metadata": {},
   "outputs": [
    {
     "data": {
      "text/html": [
       "<div>\n",
       "<style scoped>\n",
       "    .dataframe tbody tr th:only-of-type {\n",
       "        vertical-align: middle;\n",
       "    }\n",
       "\n",
       "    .dataframe tbody tr th {\n",
       "        vertical-align: top;\n",
       "    }\n",
       "\n",
       "    .dataframe thead th {\n",
       "        text-align: right;\n",
       "    }\n",
       "</style>\n",
       "<table border=\"1\" class=\"dataframe\">\n",
       "  <thead>\n",
       "    <tr style=\"text-align: right;\">\n",
       "      <th></th>\n",
       "      <th>RSID</th>\n",
       "      <th>STUDY</th>\n",
       "      <th>p.value</th>\n",
       "      <th>SNP</th>\n",
       "      <th>gene</th>\n",
       "      <th>chr</th>\n",
       "      <th>pos</th>\n",
       "    </tr>\n",
       "  </thead>\n",
       "  <tbody>\n",
       "    <tr>\n",
       "      <th>0</th>\n",
       "      <td>10:100043981_PYROXD2</td>\n",
       "      <td>2</td>\n",
       "      <td>0.499939</td>\n",
       "      <td>10:100043981</td>\n",
       "      <td>PYROXD2</td>\n",
       "      <td>chr10</td>\n",
       "      <td>100043981</td>\n",
       "    </tr>\n",
       "    <tr>\n",
       "      <th>1</th>\n",
       "      <td>10:100044928_PYROXD2</td>\n",
       "      <td>3</td>\n",
       "      <td>0.481351</td>\n",
       "      <td>10:100044928</td>\n",
       "      <td>PYROXD2</td>\n",
       "      <td>chr10</td>\n",
       "      <td>100044928</td>\n",
       "    </tr>\n",
       "    <tr>\n",
       "      <th>2</th>\n",
       "      <td>10:100045000_PYROXD2</td>\n",
       "      <td>3</td>\n",
       "      <td>0.333619</td>\n",
       "      <td>10:100045000</td>\n",
       "      <td>PYROXD2</td>\n",
       "      <td>chr10</td>\n",
       "      <td>100045000</td>\n",
       "    </tr>\n",
       "    <tr>\n",
       "      <th>3</th>\n",
       "      <td>10:100045147_PYROXD2</td>\n",
       "      <td>3</td>\n",
       "      <td>0.498166</td>\n",
       "      <td>10:100045147</td>\n",
       "      <td>PYROXD2</td>\n",
       "      <td>chr10</td>\n",
       "      <td>100045147</td>\n",
       "    </tr>\n",
       "    <tr>\n",
       "      <th>4</th>\n",
       "      <td>10:100045166_PYROXD2</td>\n",
       "      <td>2</td>\n",
       "      <td>0.873178</td>\n",
       "      <td>10:100045166</td>\n",
       "      <td>PYROXD2</td>\n",
       "      <td>chr10</td>\n",
       "      <td>100045166</td>\n",
       "    </tr>\n",
       "  </tbody>\n",
       "</table>\n",
       "</div>"
      ],
      "text/plain": [
       "                   RSID  STUDY   p.value           SNP     gene    chr  \\\n",
       "0  10:100043981_PYROXD2      2  0.499939  10:100043981  PYROXD2  chr10   \n",
       "1  10:100044928_PYROXD2      3  0.481351  10:100044928  PYROXD2  chr10   \n",
       "2  10:100045000_PYROXD2      3  0.333619  10:100045000  PYROXD2  chr10   \n",
       "3  10:100045147_PYROXD2      3  0.498166  10:100045147  PYROXD2  chr10   \n",
       "4  10:100045166_PYROXD2      2  0.873178  10:100045166  PYROXD2  chr10   \n",
       "\n",
       "         pos  \n",
       "0  100043981  \n",
       "1  100044928  \n",
       "2  100045000  \n",
       "3  100045147  \n",
       "4  100045166  "
      ]
     },
     "execution_count": 42,
     "metadata": {},
     "output_type": "execute_result"
    }
   ],
   "source": [
    "gracie_nk.head(5)"
   ]
  },
  {
   "cell_type": "code",
   "execution_count": 85,
   "id": "979bcc04",
   "metadata": {},
   "outputs": [],
   "source": [
    "memento_nk = pd.read_csv('/data_volume/memento/lupus/full_analysis/memento/hits/{}_{}.csv'.format('asian', 'NK'))"
   ]
  },
  {
   "cell_type": "code",
   "execution_count": 86,
   "id": "c8cef88a",
   "metadata": {},
   "outputs": [
    {
     "data": {
      "text/html": [
       "<div>\n",
       "<style scoped>\n",
       "    .dataframe tbody tr th:only-of-type {\n",
       "        vertical-align: middle;\n",
       "    }\n",
       "\n",
       "    .dataframe tbody tr th {\n",
       "        vertical-align: top;\n",
       "    }\n",
       "\n",
       "    .dataframe thead th {\n",
       "        text-align: right;\n",
       "    }\n",
       "</style>\n",
       "<table border=\"1\" class=\"dataframe\">\n",
       "  <thead>\n",
       "    <tr style=\"text-align: right;\">\n",
       "      <th></th>\n",
       "      <th>SNP</th>\n",
       "      <th>gene</th>\n",
       "      <th>statistic</th>\n",
       "      <th>p.value</th>\n",
       "      <th>FDR</th>\n",
       "      <th>beta</th>\n",
       "    </tr>\n",
       "  </thead>\n",
       "  <tbody>\n",
       "    <tr>\n",
       "      <th>0</th>\n",
       "      <td>1:1049950</td>\n",
       "      <td>NOC2L</td>\n",
       "      <td>0.094687</td>\n",
       "      <td>0.924587</td>\n",
       "      <td>0.993168</td>\n",
       "      <td>0.000306</td>\n",
       "    </tr>\n",
       "    <tr>\n",
       "      <th>1</th>\n",
       "      <td>1:1042927</td>\n",
       "      <td>NOC2L</td>\n",
       "      <td>0.094687</td>\n",
       "      <td>0.924587</td>\n",
       "      <td>0.993168</td>\n",
       "      <td>0.000306</td>\n",
       "    </tr>\n",
       "    <tr>\n",
       "      <th>2</th>\n",
       "      <td>1:1017587</td>\n",
       "      <td>NOC2L</td>\n",
       "      <td>-0.427366</td>\n",
       "      <td>0.669130</td>\n",
       "      <td>0.963421</td>\n",
       "      <td>-0.002109</td>\n",
       "    </tr>\n",
       "    <tr>\n",
       "      <th>3</th>\n",
       "      <td>1:957898</td>\n",
       "      <td>NOC2L</td>\n",
       "      <td>-0.173150</td>\n",
       "      <td>0.862559</td>\n",
       "      <td>0.987094</td>\n",
       "      <td>-0.000794</td>\n",
       "    </tr>\n",
       "    <tr>\n",
       "      <th>4</th>\n",
       "      <td>1:960941</td>\n",
       "      <td>NOC2L</td>\n",
       "      <td>-0.511044</td>\n",
       "      <td>0.609324</td>\n",
       "      <td>0.952418</td>\n",
       "      <td>-0.002320</td>\n",
       "    </tr>\n",
       "  </tbody>\n",
       "</table>\n",
       "</div>"
      ],
      "text/plain": [
       "         SNP   gene  statistic   p.value       FDR      beta\n",
       "0  1:1049950  NOC2L   0.094687  0.924587  0.993168  0.000306\n",
       "1  1:1042927  NOC2L   0.094687  0.924587  0.993168  0.000306\n",
       "2  1:1017587  NOC2L  -0.427366  0.669130  0.963421 -0.002109\n",
       "3   1:957898  NOC2L  -0.173150  0.862559  0.987094 -0.000794\n",
       "4   1:960941  NOC2L  -0.511044  0.609324  0.952418 -0.002320"
      ]
     },
     "execution_count": 86,
     "metadata": {},
     "output_type": "execute_result"
    }
   ],
   "source": [
    "memento_nk.head(5)"
   ]
  },
  {
   "cell_type": "code",
   "execution_count": 68,
   "id": "ca9ad33a",
   "metadata": {},
   "outputs": [],
   "source": [
    "memento_nk['logp'] = -np.log10(memento_nk['p.value'])"
   ]
  },
  {
   "cell_type": "code",
   "execution_count": 57,
   "id": "571e29b2",
   "metadata": {},
   "outputs": [
    {
     "data": {
      "text/plain": [
       "(2001628, 16)"
      ]
     },
     "execution_count": 57,
     "metadata": {},
     "output_type": "execute_result"
    }
   ],
   "source": [
    "memento_nk.shape"
   ]
  },
  {
   "cell_type": "code",
   "execution_count": 48,
   "id": "809304d2",
   "metadata": {},
   "outputs": [
    {
     "data": {
      "text/plain": [
       "(3379632, 8)"
      ]
     },
     "execution_count": 48,
     "metadata": {},
     "output_type": "execute_result"
    }
   ],
   "source": [
    "gracie_nk.shape"
   ]
  },
  {
   "cell_type": "code",
   "execution_count": 69,
   "id": "03ccbcc1",
   "metadata": {},
   "outputs": [],
   "source": [
    "combined = gracie_nk.merge(memento_nk, on=['SNP', 'gene'], how='inner', suffixes=('_g', '_m'))"
   ]
  },
  {
   "cell_type": "code",
   "execution_count": 70,
   "id": "c3567f14",
   "metadata": {},
   "outputs": [
    {
     "data": {
      "text/plain": [
       "(237235, 13)"
      ]
     },
     "execution_count": 70,
     "metadata": {},
     "output_type": "execute_result"
    }
   ],
   "source": [
    "combined.shape"
   ]
  },
  {
   "cell_type": "code",
   "execution_count": 52,
   "id": "d02a5f51",
   "metadata": {},
   "outputs": [
    {
     "data": {
      "text/plain": [
       "0.23733188073097025"
      ]
     },
     "execution_count": 52,
     "metadata": {},
     "output_type": "execute_result"
    }
   ],
   "source": [
    "274485/1156545"
   ]
  },
  {
   "cell_type": "code",
   "execution_count": 72,
   "id": "e255d173",
   "metadata": {},
   "outputs": [
    {
     "data": {
      "text/plain": [
       "[<matplotlib.lines.Line2D at 0x7f31d4a57dc0>]"
      ]
     },
     "execution_count": 72,
     "metadata": {},
     "output_type": "execute_result"
    },
    {
     "data": {
      "image/png": "[encoded data removed]",
      "text/plain": [
       "<Figure size 432x288 with 1 Axes>"
      ]
     },
     "metadata": {
      "needs_background": "light"
     },
     "output_type": "display_data"
    }
   ],
   "source": [
    "plt.scatter(combined['logp_g'], combined['logp_m'], s=1)\n",
    "plt.plot([0, 35], [0, 35])"
   ]
  },
  {
   "cell_type": "code",
   "execution_count": 80,
   "id": "04e79ba6",
   "metadata": {},
   "outputs": [
    {
     "name": "stderr",
     "output_type": "stream",
     "text": [
      "/home/ssm-user/anaconda3/envs/single_cell/lib/python3.8/subprocess.py:853: RuntimeWarning: line buffering (buffering=1) isn't supported in binary mode, the default buffer size will be used\n",
      "  self.stderr = io.open(errread, 'rb', bufsize)\n",
      "/home/ssm-user/anaconda3/envs/single_cell/lib/python3.8/subprocess.py:853: RuntimeWarning: line buffering (buffering=1) isn't supported in binary mode, the default buffer size will be used\n",
      "  self.stderr = io.open(errread, 'rb', bufsize)\n",
      "/home/ssm-user/anaconda3/envs/single_cell/lib/python3.8/subprocess.py:853: RuntimeWarning: line buffering (buffering=1) isn't supported in binary mode, the default buffer size will be used\n",
      "  self.stderr = io.open(errread, 'rb', bufsize)\n"
     ]
    },
    {
     "name": "stdout",
     "output_type": "stream",
     "text": [
      "('B', 6.203809260773869e-61)\n"
     ]
    },
    {
     "name": "stderr",
     "output_type": "stream",
     "text": [
      "/home/ssm-user/anaconda3/envs/single_cell/lib/python3.8/subprocess.py:853: RuntimeWarning: line buffering (buffering=1) isn't supported in binary mode, the default buffer size will be used\n",
      "  self.stderr = io.open(errread, 'rb', bufsize)\n",
      "/home/ssm-user/anaconda3/envs/single_cell/lib/python3.8/subprocess.py:853: RuntimeWarning: line buffering (buffering=1) isn't supported in binary mode, the default buffer size will be used\n",
      "  self.stderr = io.open(errread, 'rb', bufsize)\n",
      "/home/ssm-user/anaconda3/envs/single_cell/lib/python3.8/subprocess.py:853: RuntimeWarning: line buffering (buffering=1) isn't supported in binary mode, the default buffer size will be used\n",
      "  self.stderr = io.open(errread, 'rb', bufsize)\n"
     ]
    },
    {
     "name": "stdout",
     "output_type": "stream",
     "text": [
      "('EPI', 1.0050134298401234e-08)\n"
     ]
    },
    {
     "name": "stderr",
     "output_type": "stream",
     "text": [
      "/home/ssm-user/anaconda3/envs/single_cell/lib/python3.8/subprocess.py:853: RuntimeWarning: line buffering (buffering=1) isn't supported in binary mode, the default buffer size will be used\n",
      "  self.stderr = io.open(errread, 'rb', bufsize)\n",
      "/home/ssm-user/anaconda3/envs/single_cell/lib/python3.8/subprocess.py:853: RuntimeWarning: line buffering (buffering=1) isn't supported in binary mode, the default buffer size will be used\n",
      "  self.stderr = io.open(errread, 'rb', bufsize)\n",
      "/home/ssm-user/anaconda3/envs/single_cell/lib/python3.8/subprocess.py:853: RuntimeWarning: line buffering (buffering=1) isn't supported in binary mode, the default buffer size will be used\n",
      "  self.stderr = io.open(errread, 'rb', bufsize)\n"
     ]
    },
    {
     "name": "stdout",
     "output_type": "stream",
     "text": [
      "('myeloid', 2.5603103625947414e-05)\n"
     ]
    },
    {
     "name": "stderr",
     "output_type": "stream",
     "text": [
      "/home/ssm-user/anaconda3/envs/single_cell/lib/python3.8/subprocess.py:853: RuntimeWarning: line buffering (buffering=1) isn't supported in binary mode, the default buffer size will be used\n",
      "  self.stderr = io.open(errread, 'rb', bufsize)\n",
      "/home/ssm-user/anaconda3/envs/single_cell/lib/python3.8/subprocess.py:853: RuntimeWarning: line buffering (buffering=1) isn't supported in binary mode, the default buffer size will be used\n",
      "  self.stderr = io.open(errread, 'rb', bufsize)\n",
      "/home/ssm-user/anaconda3/envs/single_cell/lib/python3.8/subprocess.py:853: RuntimeWarning: line buffering (buffering=1) isn't supported in binary mode, the default buffer size will be used\n",
      "  self.stderr = io.open(errread, 'rb', bufsize)\n"
     ]
    },
    {
     "name": "stdout",
     "output_type": "stream",
     "text": [
      "('nk', 1.9377851542003767e-07)\n"
     ]
    },
    {
     "name": "stderr",
     "output_type": "stream",
     "text": [
      "/home/ssm-user/anaconda3/envs/single_cell/lib/python3.8/subprocess.py:853: RuntimeWarning: line buffering (buffering=1) isn't supported in binary mode, the default buffer size will be used\n",
      "  self.stderr = io.open(errread, 'rb', bufsize)\n",
      "/home/ssm-user/anaconda3/envs/single_cell/lib/python3.8/subprocess.py:853: RuntimeWarning: line buffering (buffering=1) isn't supported in binary mode, the default buffer size will be used\n",
      "  self.stderr = io.open(errread, 'rb', bufsize)\n",
      "/home/ssm-user/anaconda3/envs/single_cell/lib/python3.8/subprocess.py:853: RuntimeWarning: line buffering (buffering=1) isn't supported in binary mode, the default buffer size will be used\n",
      "  self.stderr = io.open(errread, 'rb', bufsize)\n"
     ]
    },
    {
     "name": "stdout",
     "output_type": "stream",
     "text": [
      "('open', 5.947209871854974e-26)\n"
     ]
    },
    {
     "name": "stderr",
     "output_type": "stream",
     "text": [
      "/home/ssm-user/anaconda3/envs/single_cell/lib/python3.8/subprocess.py:853: RuntimeWarning: line buffering (buffering=1) isn't supported in binary mode, the default buffer size will be used\n",
      "  self.stderr = io.open(errread, 'rb', bufsize)\n",
      "/home/ssm-user/anaconda3/envs/single_cell/lib/python3.8/subprocess.py:853: RuntimeWarning: line buffering (buffering=1) isn't supported in binary mode, the default buffer size will be used\n",
      "  self.stderr = io.open(errread, 'rb', bufsize)\n",
      "/home/ssm-user/anaconda3/envs/single_cell/lib/python3.8/subprocess.py:853: RuntimeWarning: line buffering (buffering=1) isn't supported in binary mode, the default buffer size will be used\n",
      "  self.stderr = io.open(errread, 'rb', bufsize)\n"
     ]
    },
    {
     "name": "stdout",
     "output_type": "stream",
     "text": [
      "('progenitor', 9.904871682344151e-09)\n"
     ]
    },
    {
     "name": "stderr",
     "output_type": "stream",
     "text": [
      "/home/ssm-user/anaconda3/envs/single_cell/lib/python3.8/subprocess.py:853: RuntimeWarning: line buffering (buffering=1) isn't supported in binary mode, the default buffer size will be used\n",
      "  self.stderr = io.open(errread, 'rb', bufsize)\n",
      "/home/ssm-user/anaconda3/envs/single_cell/lib/python3.8/subprocess.py:853: RuntimeWarning: line buffering (buffering=1) isn't supported in binary mode, the default buffer size will be used\n",
      "  self.stderr = io.open(errread, 'rb', bufsize)\n",
      "/home/ssm-user/anaconda3/envs/single_cell/lib/python3.8/subprocess.py:853: RuntimeWarning: line buffering (buffering=1) isn't supported in binary mode, the default buffer size will be used\n",
      "  self.stderr = io.open(errread, 'rb', bufsize)\n"
     ]
    },
    {
     "name": "stdout",
     "output_type": "stream",
     "text": [
      "('T', 0.040821239136766024)\n"
     ]
    },
    {
     "name": "stderr",
     "output_type": "stream",
     "text": [
      "/home/ssm-user/anaconda3/envs/single_cell/lib/python3.8/subprocess.py:853: RuntimeWarning: line buffering (buffering=1) isn't supported in binary mode, the default buffer size will be used\n",
      "  self.stderr = io.open(errread, 'rb', bufsize)\n",
      "/home/ssm-user/anaconda3/envs/single_cell/lib/python3.8/subprocess.py:853: RuntimeWarning: line buffering (buffering=1) isn't supported in binary mode, the default buffer size will be used\n",
      "  self.stderr = io.open(errread, 'rb', bufsize)\n",
      "/home/ssm-user/anaconda3/envs/single_cell/lib/python3.8/subprocess.py:853: RuntimeWarning: line buffering (buffering=1) isn't supported in binary mode, the default buffer size will be used\n",
      "  self.stderr = io.open(errread, 'rb', bufsize)\n"
     ]
    },
    {
     "name": "stdout",
     "output_type": "stream",
     "text": [
      "('thymocyte', 0.16700898110771456)\n"
     ]
    }
   ],
   "source": [
    "enrichment_result = []\n",
    "\n",
    "for group in atac.group.drop_duplicates():\n",
    "\n",
    "        atac_group = atac.query('group == \"{}\"'.format(group))\n",
    "\n",
    "        snp_locs = combined[['chr', 'pos']].copy()\n",
    "        snp_locs['end'] = snp_locs['pos'].astype(int)+1\n",
    "\n",
    "        a = BedTool.from_dataframe(snp_locs).sort()\n",
    "        b = BedTool.from_dataframe(atac_group).sort()\n",
    "\n",
    "        c = a.intersect(b)\n",
    "\n",
    "        c = c.to_dataframe().iloc[:, [0, 1, 2, -1]]\n",
    "        c.columns=['chr', 'pos', 'end', 'distance']\n",
    "\n",
    "        c['pos'] = c['pos'].astype(str)\n",
    "        c['group'] = group\n",
    "\n",
    "        merged = combined.merge(c, on=['chr', 'pos'], how='left')\n",
    "\n",
    "        merged['in_peak'] = merged['group'] == group\n",
    "\n",
    "        pv = stats.mannwhitneyu(merged.query('in_peak')['p.value_g'], merged.query('~in_peak')['p.value_g'])[1]\n",
    "\n",
    "        enrichment_result.append((group, pv))\n",
    "        print((group, pv))"
   ]
  },
  {
   "cell_type": "code",
   "execution_count": null,
   "id": "2231fb50",
   "metadata": {},
   "outputs": [],
   "source": []
  },
  {
   "cell_type": "code",
   "execution_count": null,
   "id": "01d3f4b9",
   "metadata": {},
   "outputs": [],
   "source": []
  },
  {
   "cell_type": "code",
   "execution_count": null,
   "id": "b7462540",
   "metadata": {},
   "outputs": [],
   "source": []
  },
  {
   "cell_type": "code",
   "execution_count": null,
   "id": "7076dca7",
   "metadata": {},
   "outputs": [],
   "source": []
  },
  {
   "cell_type": "code",
   "execution_count": 94,
   "id": "e4268c57",
   "metadata": {},
   "outputs": [
    {
     "name": "stdout",
     "output_type": "stream",
     "text": [
      "eur B\n"
     ]
    },
    {
     "name": "stderr",
     "output_type": "stream",
     "text": [
      "/home/ssm-user/anaconda3/envs/single_cell/lib/python3.8/subprocess.py:853: RuntimeWarning: line buffering (buffering=1) isn't supported in binary mode, the default buffer size will be used\n",
      "  self.stderr = io.open(errread, 'rb', bufsize)\n",
      "/home/ssm-user/anaconda3/envs/single_cell/lib/python3.8/subprocess.py:853: RuntimeWarning: line buffering (buffering=1) isn't supported in binary mode, the default buffer size will be used\n",
      "  self.stderr = io.open(errread, 'rb', bufsize)\n",
      "/home/ssm-user/anaconda3/envs/single_cell/lib/python3.8/subprocess.py:853: RuntimeWarning: line buffering (buffering=1) isn't supported in binary mode, the default buffer size will be used\n",
      "  self.stderr = io.open(errread, 'rb', bufsize)\n"
     ]
    }
   ],
   "source": [
    "enrichment_result = []\n",
    "for pop in ['eur', 'asian']:\n",
    "\n",
    "    for ct in cts:\n",
    "        print(pop, ct)\n",
    "\n",
    "        result = pd.read_csv('/data_volume/memento/lupus/full_analysis/memento/hits/{}_{}.csv'.format(pop, ct))\n",
    "        result['chr'] = 'chr'+result['SNP'].str.split(':').str[0]\n",
    "        result['pos'] = result['SNP'].str.split(':').str[1]\n",
    "\n",
    "        for group in atac.group.drop_duplicates():\n",
    "\n",
    "            atac_group = atac.query('group == \"{}\"'.format(group))\n",
    "\n",
    "            snp_locs = result[['chr', 'pos']].copy()\n",
    "            snp_locs['end'] = snp_locs['pos'].astype(int)+1\n",
    "\n",
    "            a = BedTool.from_dataframe(snp_locs).sort()\n",
    "            b = BedTool.from_dataframe(atac_group).sort()\n",
    "\n",
    "            c = a.closest(b, d=True)\n",
    "\n",
    "            c = c.to_dataframe().iloc[:, [0, 1, 2, -1]]\n",
    "            c.columns=['chr', 'pos', 'end', 'distance']\n",
    "\n",
    "            c['pos'] = c['pos'].astype(str)\n",
    "\n",
    "            merged = result.merge(c, on=['chr', 'pos'], how='left')\n",
    "\n",
    "#             merged['in_peak'] = merged['group'] == group\n",
    "\n",
    "#             pv = stats.mannwhitneyu(-np.log(merged.query('in_peak')['p.value']), -np.log(merged.query('~in_peak')['p.value']))[1]\n",
    "\n",
    "            enrichment_result.append((pop, ct, group, pv))\n",
    "            break\n",
    "        break\n",
    "    break\n",
    "# pd.DataFrame(enrichment_result, columns=['pop', 'ct', 'group', 'pv']).to_csv('memento_enrichment.csv', index=False)"
   ]
  },
  {
   "cell_type": "code",
   "execution_count": 95,
   "id": "92a56c91",
   "metadata": {},
   "outputs": [
    {
     "data": {
      "text/plain": [
       "(2152486, 10)"
      ]
     },
     "execution_count": 95,
     "metadata": {},
     "output_type": "execute_result"
    }
   ],
   "source": [
    "merged.shape"
   ]
  },
  {
   "cell_type": "code",
   "execution_count": 101,
   "id": "6a4a4969",
   "metadata": {},
   "outputs": [],
   "source": [
    "temp = merged.sort_values('distance').drop_duplicates(['SNP', 'gene'])"
   ]
  },
  {
   "cell_type": "code",
   "execution_count": 102,
   "id": "878b6138",
   "metadata": {},
   "outputs": [
    {
     "data": {
      "text/plain": [
       "(1113020, 10)"
      ]
     },
     "execution_count": 102,
     "metadata": {},
     "output_type": "execute_result"
    }
   ],
   "source": [
    "temp.shape"
   ]
  },
  {
   "cell_type": "code",
   "execution_count": 103,
   "id": "1c6def84",
   "metadata": {},
   "outputs": [
    {
     "data": {
      "text/html": [
       "<div>\n",
       "<style scoped>\n",
       "    .dataframe tbody tr th:only-of-type {\n",
       "        vertical-align: middle;\n",
       "    }\n",
       "\n",
       "    .dataframe tbody tr th {\n",
       "        vertical-align: top;\n",
       "    }\n",
       "\n",
       "    .dataframe thead th {\n",
       "        text-align: right;\n",
       "    }\n",
       "</style>\n",
       "<table border=\"1\" class=\"dataframe\">\n",
       "  <thead>\n",
       "    <tr style=\"text-align: right;\">\n",
       "      <th></th>\n",
       "      <th>SNP</th>\n",
       "      <th>gene</th>\n",
       "      <th>statistic</th>\n",
       "      <th>p.value</th>\n",
       "      <th>FDR</th>\n",
       "      <th>beta</th>\n",
       "      <th>chr</th>\n",
       "      <th>pos</th>\n",
       "      <th>end</th>\n",
       "      <th>distance</th>\n",
       "    </tr>\n",
       "  </thead>\n",
       "  <tbody>\n",
       "    <tr>\n",
       "      <th>915429</th>\n",
       "      <td>5:172941190</td>\n",
       "      <td>ERGIC1</td>\n",
       "      <td>-1.100884</td>\n",
       "      <td>0.271981</td>\n",
       "      <td>0.827995</td>\n",
       "      <td>-0.003304</td>\n",
       "      <td>chr5</td>\n",
       "      <td>172941190</td>\n",
       "      <td>172941191</td>\n",
       "      <td>0</td>\n",
       "    </tr>\n",
       "    <tr>\n",
       "      <th>198736</th>\n",
       "      <td>19:42022289</td>\n",
       "      <td>POU2F2</td>\n",
       "      <td>0.662542</td>\n",
       "      <td>0.508303</td>\n",
       "      <td>0.919221</td>\n",
       "      <td>0.005694</td>\n",
       "      <td>chr19</td>\n",
       "      <td>42022289</td>\n",
       "      <td>42022290</td>\n",
       "      <td>0</td>\n",
       "    </tr>\n",
       "    <tr>\n",
       "      <th>198840</th>\n",
       "      <td>19:42308552</td>\n",
       "      <td>DEDD2</td>\n",
       "      <td>-0.181343</td>\n",
       "      <td>0.856589</td>\n",
       "      <td>0.981817</td>\n",
       "      <td>-0.000472</td>\n",
       "      <td>chr19</td>\n",
       "      <td>42308552</td>\n",
       "      <td>42308553</td>\n",
       "      <td>0</td>\n",
       "    </tr>\n",
       "    <tr>\n",
       "      <th>198846</th>\n",
       "      <td>19:42308440</td>\n",
       "      <td>DEDD2</td>\n",
       "      <td>-0.181343</td>\n",
       "      <td>0.856589</td>\n",
       "      <td>0.981817</td>\n",
       "      <td>-0.000472</td>\n",
       "      <td>chr19</td>\n",
       "      <td>42308440</td>\n",
       "      <td>42308441</td>\n",
       "      <td>0</td>\n",
       "    </tr>\n",
       "    <tr>\n",
       "      <th>198895</th>\n",
       "      <td>19:42308552</td>\n",
       "      <td>PAFAH1B3</td>\n",
       "      <td>1.177711</td>\n",
       "      <td>0.239120</td>\n",
       "      <td>0.807074</td>\n",
       "      <td>0.002246</td>\n",
       "      <td>chr19</td>\n",
       "      <td>42308552</td>\n",
       "      <td>42308553</td>\n",
       "      <td>0</td>\n",
       "    </tr>\n",
       "  </tbody>\n",
       "</table>\n",
       "</div>"
      ],
      "text/plain": [
       "                SNP      gene  statistic   p.value       FDR      beta    chr  \\\n",
       "915429  5:172941190    ERGIC1  -1.100884  0.271981  0.827995 -0.003304   chr5   \n",
       "198736  19:42022289    POU2F2   0.662542  0.508303  0.919221  0.005694  chr19   \n",
       "198840  19:42308552     DEDD2  -0.181343  0.856589  0.981817 -0.000472  chr19   \n",
       "198846  19:42308440     DEDD2  -0.181343  0.856589  0.981817 -0.000472  chr19   \n",
       "198895  19:42308552  PAFAH1B3   1.177711  0.239120  0.807074  0.002246  chr19   \n",
       "\n",
       "              pos        end  distance  \n",
       "915429  172941190  172941191         0  \n",
       "198736   42022289   42022290         0  \n",
       "198840   42308552   42308553         0  \n",
       "198846   42308440   42308441         0  \n",
       "198895   42308552   42308553         0  "
      ]
     },
     "execution_count": 103,
     "metadata": {},
     "output_type": "execute_result"
    }
   ],
   "source": [
    "temp.head(5)"
   ]
  },
  {
   "cell_type": "code",
   "execution_count": 98,
   "id": "ac128427",
   "metadata": {},
   "outputs": [
    {
     "data": {
      "text/plain": [
       "(775642, 10)"
      ]
     },
     "execution_count": 98,
     "metadata": {},
     "output_type": "execute_result"
    }
   ],
   "source": [
    "temp.shape"
   ]
  },
  {
   "cell_type": "code",
   "execution_count": 99,
   "id": "227dbdec",
   "metadata": {},
   "outputs": [
    {
     "data": {
      "text/plain": [
       "(1113022, 4)"
      ]
     },
     "execution_count": 99,
     "metadata": {},
     "output_type": "execute_result"
    }
   ],
   "source": [
    "c.shape"
   ]
  },
  {
   "cell_type": "code",
   "execution_count": 100,
   "id": "171a858d",
   "metadata": {},
   "outputs": [
    {
     "data": {
      "text/plain": [
       "(1113020, 8)"
      ]
     },
     "execution_count": 100,
     "metadata": {},
     "output_type": "execute_result"
    }
   ],
   "source": [
    "result.shape"
   ]
  },
  {
   "cell_type": "code",
   "execution_count": 91,
   "id": "e9cdfb94",
   "metadata": {},
   "outputs": [
    {
     "data": {
      "text/plain": [
       "(1113020, 3)"
      ]
     },
     "execution_count": 91,
     "metadata": {},
     "output_type": "execute_result"
    }
   ],
   "source": [
    "snp_locs.shape"
   ]
  },
  {
   "cell_type": "code",
   "execution_count": 89,
   "id": "d90c1517",
   "metadata": {},
   "outputs": [
    {
     "data": {
      "text/plain": [
       "(1113022, 8)"
      ]
     },
     "execution_count": 89,
     "metadata": {},
     "output_type": "execute_result"
    }
   ],
   "source": [
    "c.shape"
   ]
  },
  {
   "cell_type": "code",
   "execution_count": 88,
   "id": "64bc1943",
   "metadata": {},
   "outputs": [
    {
     "data": {
      "text/html": [
       "<div>\n",
       "<style scoped>\n",
       "    .dataframe tbody tr th:only-of-type {\n",
       "        vertical-align: middle;\n",
       "    }\n",
       "\n",
       "    .dataframe tbody tr th {\n",
       "        vertical-align: top;\n",
       "    }\n",
       "\n",
       "    .dataframe thead th {\n",
       "        text-align: right;\n",
       "    }\n",
       "</style>\n",
       "<table border=\"1\" class=\"dataframe\">\n",
       "  <thead>\n",
       "    <tr style=\"text-align: right;\">\n",
       "      <th></th>\n",
       "      <th>chrom</th>\n",
       "      <th>start</th>\n",
       "      <th>end</th>\n",
       "      <th>name</th>\n",
       "      <th>score</th>\n",
       "      <th>strand</th>\n",
       "      <th>thickStart</th>\n",
       "      <th>thickEnd</th>\n",
       "    </tr>\n",
       "  </thead>\n",
       "  <tbody>\n",
       "    <tr>\n",
       "      <th>0</th>\n",
       "      <td>chr1</td>\n",
       "      <td>845635</td>\n",
       "      <td>845636</td>\n",
       "      <td>chr1</td>\n",
       "      <td>800434</td>\n",
       "      <td>801623</td>\n",
       "      <td>B</td>\n",
       "      <td>44013</td>\n",
       "    </tr>\n",
       "    <tr>\n",
       "      <th>1</th>\n",
       "      <td>chr1</td>\n",
       "      <td>845938</td>\n",
       "      <td>845939</td>\n",
       "      <td>chr1</td>\n",
       "      <td>800434</td>\n",
       "      <td>801623</td>\n",
       "      <td>B</td>\n",
       "      <td>44316</td>\n",
       "    </tr>\n",
       "    <tr>\n",
       "      <th>2</th>\n",
       "      <td>chr1</td>\n",
       "      <td>846078</td>\n",
       "      <td>846079</td>\n",
       "      <td>chr1</td>\n",
       "      <td>800434</td>\n",
       "      <td>801623</td>\n",
       "      <td>B</td>\n",
       "      <td>44456</td>\n",
       "    </tr>\n",
       "    <tr>\n",
       "      <th>3</th>\n",
       "      <td>chr1</td>\n",
       "      <td>846338</td>\n",
       "      <td>846339</td>\n",
       "      <td>chr1</td>\n",
       "      <td>800434</td>\n",
       "      <td>801623</td>\n",
       "      <td>B</td>\n",
       "      <td>44716</td>\n",
       "    </tr>\n",
       "    <tr>\n",
       "      <th>4</th>\n",
       "      <td>chr1</td>\n",
       "      <td>846398</td>\n",
       "      <td>846399</td>\n",
       "      <td>chr1</td>\n",
       "      <td>800434</td>\n",
       "      <td>801623</td>\n",
       "      <td>B</td>\n",
       "      <td>44776</td>\n",
       "    </tr>\n",
       "  </tbody>\n",
       "</table>\n",
       "</div>"
      ],
      "text/plain": [
       "  chrom   start     end  name   score  strand thickStart  thickEnd\n",
       "0  chr1  845635  845636  chr1  800434  801623          B     44013\n",
       "1  chr1  845938  845939  chr1  800434  801623          B     44316\n",
       "2  chr1  846078  846079  chr1  800434  801623          B     44456\n",
       "3  chr1  846338  846339  chr1  800434  801623          B     44716\n",
       "4  chr1  846398  846399  chr1  800434  801623          B     44776"
      ]
     },
     "execution_count": 88,
     "metadata": {},
     "output_type": "execute_result"
    }
   ],
   "source": [
    "c.head(5)"
   ]
  },
  {
   "cell_type": "code",
   "execution_count": 83,
   "id": "5425f878",
   "metadata": {},
   "outputs": [
    {
     "data": {
      "text/plain": [
       "(15267, 21)"
      ]
     },
     "execution_count": 83,
     "metadata": {},
     "output_type": "execute_result"
    }
   ],
   "source": [
    "temp.query('B').shape"
   ]
  },
  {
   "cell_type": "code",
   "execution_count": null,
   "id": "756c7500",
   "metadata": {},
   "outputs": [],
   "source": [
    "enrichment_result"
   ]
  },
  {
   "cell_type": "code",
   "execution_count": 64,
   "id": "b3779d91",
   "metadata": {},
   "outputs": [
    {
     "data": {
      "text/plain": [
       "[('eur', 'B', 'B', 2.1967184902054426e-11)]"
      ]
     },
     "execution_count": 64,
     "metadata": {},
     "output_type": "execute_result"
    }
   ],
   "source": [
    "enrichment_result"
   ]
  },
  {
   "cell_type": "code",
   "execution_count": 69,
   "id": "3ca420fe",
   "metadata": {},
   "outputs": [
    {
     "name": "stderr",
     "output_type": "stream",
     "text": [
      "/home/ssm-user/anaconda3/envs/single_cell/lib/python3.8/site-packages/numpy/lib/arraysetops.py:580: FutureWarning: elementwise comparison failed; returning scalar instead, but in the future will perform elementwise comparison\n",
      "  mask |= (ar1 == a)\n"
     ]
    }
   ],
   "source": [
    "myatac = pd.read_csv(data_path + 'atac_enrichment/snps_peaks.csv', index_col=0)"
   ]
  },
  {
   "cell_type": "code",
   "execution_count": 72,
   "id": "c4a951e0",
   "metadata": {},
   "outputs": [],
   "source": [
    "temp = merged.merge(myatac, on='SNP')"
   ]
  },
  {
   "cell_type": "code",
   "execution_count": 77,
   "id": "f66bff96",
   "metadata": {},
   "outputs": [],
   "source": [
    "temp2 = temp[['SNP', 'in_peak', 'B']]"
   ]
  },
  {
   "cell_type": "code",
   "execution_count": 84,
   "id": "dc6240b6",
   "metadata": {},
   "outputs": [
    {
     "data": {
      "text/plain": [
       "MannwhitneyuResult(statistic=8431555371.0, pvalue=0.4778660469271494)"
      ]
     },
     "execution_count": 84,
     "metadata": {},
     "output_type": "execute_result"
    }
   ],
   "source": [
    "stats.mannwhitneyu(temp.query('B')['statistic'], temp.query('~B')['statistic'] )"
   ]
  },
  {
   "cell_type": "code",
   "execution_count": 80,
   "id": "a8be6798",
   "metadata": {},
   "outputs": [
    {
     "data": {
      "text/plain": [
       "(1120102, 3)"
      ]
     },
     "execution_count": 80,
     "metadata": {},
     "output_type": "execute_result"
    }
   ],
   "source": [
    "temp2.query('in_peak == B').shape"
   ]
  },
  {
   "cell_type": "code",
   "execution_count": null,
   "id": "65d4bf0a",
   "metadata": {},
   "outputs": [],
   "source": [
    "temp.head(5)"
   ]
  },
  {
   "cell_type": "code",
   "execution_count": 68,
   "id": "b98c17de",
   "metadata": {},
   "outputs": [
    {
     "data": {
      "text/html": [
       "<div>\n",
       "<style scoped>\n",
       "    .dataframe tbody tr th:only-of-type {\n",
       "        vertical-align: middle;\n",
       "    }\n",
       "\n",
       "    .dataframe tbody tr th {\n",
       "        vertical-align: top;\n",
       "    }\n",
       "\n",
       "    .dataframe thead th {\n",
       "        text-align: right;\n",
       "    }\n",
       "</style>\n",
       "<table border=\"1\" class=\"dataframe\">\n",
       "  <thead>\n",
       "    <tr style=\"text-align: right;\">\n",
       "      <th></th>\n",
       "      <th>SNP</th>\n",
       "      <th>gene</th>\n",
       "      <th>statistic</th>\n",
       "      <th>p.value</th>\n",
       "      <th>FDR</th>\n",
       "      <th>beta</th>\n",
       "      <th>chr</th>\n",
       "      <th>pos</th>\n",
       "      <th>end</th>\n",
       "      <th>group</th>\n",
       "      <th>in_peak</th>\n",
       "    </tr>\n",
       "  </thead>\n",
       "  <tbody>\n",
       "    <tr>\n",
       "      <th>0</th>\n",
       "      <td>1:845938</td>\n",
       "      <td>NOC2L</td>\n",
       "      <td>-0.157207</td>\n",
       "      <td>0.875140</td>\n",
       "      <td>0.985348</td>\n",
       "      <td>-0.000590</td>\n",
       "      <td>chr1</td>\n",
       "      <td>845938</td>\n",
       "      <td>NaN</td>\n",
       "      <td>NaN</td>\n",
       "      <td>False</td>\n",
       "    </tr>\n",
       "    <tr>\n",
       "      <th>1</th>\n",
       "      <td>1:1006990</td>\n",
       "      <td>NOC2L</td>\n",
       "      <td>-0.941699</td>\n",
       "      <td>0.346348</td>\n",
       "      <td>0.864504</td>\n",
       "      <td>-0.003112</td>\n",
       "      <td>chr1</td>\n",
       "      <td>1006990</td>\n",
       "      <td>NaN</td>\n",
       "      <td>NaN</td>\n",
       "      <td>False</td>\n",
       "    </tr>\n",
       "    <tr>\n",
       "      <th>2</th>\n",
       "      <td>1:967658</td>\n",
       "      <td>NOC2L</td>\n",
       "      <td>0.372265</td>\n",
       "      <td>0.709701</td>\n",
       "      <td>0.960385</td>\n",
       "      <td>0.000916</td>\n",
       "      <td>chr1</td>\n",
       "      <td>967658</td>\n",
       "      <td>NaN</td>\n",
       "      <td>NaN</td>\n",
       "      <td>False</td>\n",
       "    </tr>\n",
       "    <tr>\n",
       "      <th>3</th>\n",
       "      <td>1:1053670</td>\n",
       "      <td>NOC2L</td>\n",
       "      <td>-1.660162</td>\n",
       "      <td>0.097107</td>\n",
       "      <td>0.649920</td>\n",
       "      <td>-0.004749</td>\n",
       "      <td>chr1</td>\n",
       "      <td>1053670</td>\n",
       "      <td>NaN</td>\n",
       "      <td>NaN</td>\n",
       "      <td>False</td>\n",
       "    </tr>\n",
       "    <tr>\n",
       "      <th>4</th>\n",
       "      <td>1:970215</td>\n",
       "      <td>NOC2L</td>\n",
       "      <td>-0.261016</td>\n",
       "      <td>0.794161</td>\n",
       "      <td>0.973154</td>\n",
       "      <td>-0.000668</td>\n",
       "      <td>chr1</td>\n",
       "      <td>970215</td>\n",
       "      <td>NaN</td>\n",
       "      <td>NaN</td>\n",
       "      <td>False</td>\n",
       "    </tr>\n",
       "  </tbody>\n",
       "</table>\n",
       "</div>"
      ],
      "text/plain": [
       "         SNP   gene  statistic   p.value       FDR      beta   chr      pos  \\\n",
       "0   1:845938  NOC2L  -0.157207  0.875140  0.985348 -0.000590  chr1   845938   \n",
       "1  1:1006990  NOC2L  -0.941699  0.346348  0.864504 -0.003112  chr1  1006990   \n",
       "2   1:967658  NOC2L   0.372265  0.709701  0.960385  0.000916  chr1   967658   \n",
       "3  1:1053670  NOC2L  -1.660162  0.097107  0.649920 -0.004749  chr1  1053670   \n",
       "4   1:970215  NOC2L  -0.261016  0.794161  0.973154 -0.000668  chr1   970215   \n",
       "\n",
       "   end group  in_peak  \n",
       "0  NaN   NaN    False  \n",
       "1  NaN   NaN    False  \n",
       "2  NaN   NaN    False  \n",
       "3  NaN   NaN    False  \n",
       "4  NaN   NaN    False  "
      ]
     },
     "execution_count": 68,
     "metadata": {},
     "output_type": "execute_result"
    }
   ],
   "source": [
    "merged.head(5)"
   ]
  },
  {
   "cell_type": "code",
   "execution_count": 59,
   "id": "cea3ef5b",
   "metadata": {},
   "outputs": [
    {
     "data": {
      "text/plain": [
       "(1113020, 3)"
      ]
     },
     "execution_count": 59,
     "metadata": {},
     "output_type": "execute_result"
    }
   ],
   "source": [
    "snp_locs.shape"
   ]
  },
  {
   "cell_type": "code",
   "execution_count": 62,
   "id": "ae2edbf4",
   "metadata": {},
   "outputs": [
    {
     "name": "stdout",
     "output_type": "stream",
     "text": [
      "chr1\t800434\t801623\tB\n",
      " chr1\t1497875\t1498496\tB\n",
      " chr1\t1729157\t1729651\tB\n",
      " chr1\t1777920\t1779872\tB\n",
      " chr1\t1795343\t1796694\tB\n",
      " "
     ]
    }
   ],
   "source": [
    "b.head(5)"
   ]
  },
  {
   "cell_type": "code",
   "execution_count": 63,
   "id": "8b163ef0",
   "metadata": {},
   "outputs": [
    {
     "name": "stdout",
     "output_type": "stream",
     "text": [
      "chr1\t845938\t845939\n",
      " chr1\t1006990\t1006991\n",
      " chr1\t967658\t967659\n",
      " chr1\t1053670\t1053671\n",
      " chr1\t970215\t970216\n",
      " "
     ]
    }
   ],
   "source": [
    "a.head(5)"
   ]
  },
  {
   "cell_type": "code",
   "execution_count": 61,
   "id": "8fa49866",
   "metadata": {},
   "outputs": [
    {
     "data": {
      "text/html": [
       "<div>\n",
       "<style scoped>\n",
       "    .dataframe tbody tr th:only-of-type {\n",
       "        vertical-align: middle;\n",
       "    }\n",
       "\n",
       "    .dataframe tbody tr th {\n",
       "        vertical-align: top;\n",
       "    }\n",
       "\n",
       "    .dataframe thead th {\n",
       "        text-align: right;\n",
       "    }\n",
       "</style>\n",
       "<table border=\"1\" class=\"dataframe\">\n",
       "  <thead>\n",
       "    <tr style=\"text-align: right;\">\n",
       "      <th></th>\n",
       "      <th>chr</th>\n",
       "      <th>pos</th>\n",
       "      <th>end</th>\n",
       "      <th>group</th>\n",
       "    </tr>\n",
       "  </thead>\n",
       "  <tbody>\n",
       "    <tr>\n",
       "      <th>0</th>\n",
       "      <td>chr1</td>\n",
       "      <td>1778469</td>\n",
       "      <td>1778470</td>\n",
       "      <td>B</td>\n",
       "    </tr>\n",
       "    <tr>\n",
       "      <th>1</th>\n",
       "      <td>chr1</td>\n",
       "      <td>1778469</td>\n",
       "      <td>1778470</td>\n",
       "      <td>B</td>\n",
       "    </tr>\n",
       "    <tr>\n",
       "      <th>2</th>\n",
       "      <td>chr1</td>\n",
       "      <td>1778090</td>\n",
       "      <td>1778091</td>\n",
       "      <td>B</td>\n",
       "    </tr>\n",
       "    <tr>\n",
       "      <th>3</th>\n",
       "      <td>chr1</td>\n",
       "      <td>1778469</td>\n",
       "      <td>1778470</td>\n",
       "      <td>B</td>\n",
       "    </tr>\n",
       "    <tr>\n",
       "      <th>4</th>\n",
       "      <td>chr1</td>\n",
       "      <td>1778090</td>\n",
       "      <td>1778091</td>\n",
       "      <td>B</td>\n",
       "    </tr>\n",
       "  </tbody>\n",
       "</table>\n",
       "</div>"
      ],
      "text/plain": [
       "    chr      pos      end group\n",
       "0  chr1  1778469  1778470     B\n",
       "1  chr1  1778469  1778470     B\n",
       "2  chr1  1778090  1778091     B\n",
       "3  chr1  1778469  1778470     B\n",
       "4  chr1  1778090  1778091     B"
      ]
     },
     "execution_count": 61,
     "metadata": {},
     "output_type": "execute_result"
    }
   ],
   "source": [
    "c.head(5)"
   ]
  },
  {
   "cell_type": "code",
   "execution_count": 60,
   "id": "3581a16d",
   "metadata": {},
   "outputs": [
    {
     "data": {
      "text/plain": [
       "(8185, 4)"
      ]
     },
     "execution_count": 60,
     "metadata": {},
     "output_type": "execute_result"
    }
   ],
   "source": [
    "c.shape"
   ]
  },
  {
   "cell_type": "code",
   "execution_count": null,
   "id": "88fa98f5",
   "metadata": {},
   "outputs": [],
   "source": [
    "enrichment_result = []\n",
    "\n",
    "# From gracie's atac folder\n",
    "atac = pd.read_csv('/data_volume/memento/lupus/atac_enrichment/sorted_simple_atac_lineage_groups3.bed.gz', sep='\\t')\n",
    "\n",
    "for pop in ['eur']:\n",
    "\n",
    "    for ct in ['B','T8', 'T4', 'NK', 'ncM', 'cM']:\n",
    "        print(pop, ct)\n",
    "        \n",
    "        # Result is straight from Matrix eQTL\n",
    "        result = pd.read_csv('/data_volume/memento/lupus/full_analysis/mateqtl/outputs/{}_{}_all.csv'.format(pop, ct), sep='\\t')\n",
    "        result['chr'] = 'chr'+result['SNP'].str.split(':').str[0]\n",
    "        result['pos'] = result['SNP'].str.split(':').str[1]\n",
    "\n",
    "        for group in atac.group.drop_duplicates():\n",
    "\n",
    "            atac_group = atac.query('group == \"{}\"'.format(group))\n",
    "\n",
    "            snp_locs = result[['chr', 'pos']].copy()\n",
    "            snp_locs['end'] = snp_locs['pos'].astype(int)+1\n",
    "\n",
    "            a = BedTool.from_dataframe(snp_locs)\n",
    "            b = BedTool.from_dataframe(atac_group)\n",
    "\n",
    "            c = b.intersect(a)\n",
    "\n",
    "            c = c.to_dataframe()\n",
    "            c.columns=['chr', 'pos', 'end', 'group']\n",
    "\n",
    "            c['pos'] = c['pos'].astype(str)\n",
    "\n",
    "            merged = result.merge(c, on=['chr', 'pos'], how='left')\n",
    "\n",
    "            merged['in_peak'] = merged['group'] == group\n",
    "\n",
    "            pv = stats.mannwhitneyu(-np.log(merged.query('in_peak')['p-value']), -np.log(merged.query('~in_peak')['p-value']))[1]\n",
    "\n",
    "            enrichment_result.append((pop, ct, group, pv))\n",
    "pd.DataFrame(enrichment_result, columns=['pop', 'ct', 'group', 'pv']).to_csv('mateqtl_enrichment.csv'.format(pop), index=False)"
   ]
  },
  {
   "cell_type": "code",
   "execution_count": 456,
   "id": "e56ecd61",
   "metadata": {},
   "outputs": [
    {
     "data": {
      "text/plain": [
       "MannwhitneyuResult(statistic=13463559204.0, pvalue=0.005525082429981845)"
      ]
     },
     "execution_count": 456,
     "metadata": {},
     "output_type": "execute_result"
    }
   ],
   "source": [
    "stats.mannwhitneyu(merged.query('in_peak')['p.value'], merged.query('~in_peak')['p.value'])"
   ]
  },
  {
   "cell_type": "markdown",
   "id": "a8d726b4",
   "metadata": {},
   "source": [
    "### memento heatmaps"
   ]
  },
  {
   "cell_type": "code",
   "execution_count": 463,
   "id": "c62b9523",
   "metadata": {},
   "outputs": [],
   "source": [
    "memento_result = pd.read_csv('memento_enrichment.csv')"
   ]
  },
  {
   "cell_type": "code",
   "execution_count": 464,
   "id": "0f01cad5",
   "metadata": {},
   "outputs": [
    {
     "data": {
      "text/html": [
       "<div>\n",
       "<style scoped>\n",
       "    .dataframe tbody tr th:only-of-type {\n",
       "        vertical-align: middle;\n",
       "    }\n",
       "\n",
       "    .dataframe tbody tr th {\n",
       "        vertical-align: top;\n",
       "    }\n",
       "\n",
       "    .dataframe thead th {\n",
       "        text-align: right;\n",
       "    }\n",
       "</style>\n",
       "<table border=\"1\" class=\"dataframe\">\n",
       "  <thead>\n",
       "    <tr style=\"text-align: right;\">\n",
       "      <th></th>\n",
       "      <th>pop</th>\n",
       "      <th>ct</th>\n",
       "      <th>group</th>\n",
       "      <th>pv</th>\n",
       "    </tr>\n",
       "  </thead>\n",
       "  <tbody>\n",
       "    <tr>\n",
       "      <th>0</th>\n",
       "      <td>eur</td>\n",
       "      <td>B</td>\n",
       "      <td>B</td>\n",
       "      <td>2.196718e-11</td>\n",
       "    </tr>\n",
       "    <tr>\n",
       "      <th>1</th>\n",
       "      <td>eur</td>\n",
       "      <td>B</td>\n",
       "      <td>EPI</td>\n",
       "      <td>3.215340e-02</td>\n",
       "    </tr>\n",
       "    <tr>\n",
       "      <th>2</th>\n",
       "      <td>eur</td>\n",
       "      <td>B</td>\n",
       "      <td>myeloid</td>\n",
       "      <td>2.150364e-01</td>\n",
       "    </tr>\n",
       "    <tr>\n",
       "      <th>3</th>\n",
       "      <td>eur</td>\n",
       "      <td>B</td>\n",
       "      <td>nk</td>\n",
       "      <td>2.539286e-01</td>\n",
       "    </tr>\n",
       "    <tr>\n",
       "      <th>4</th>\n",
       "      <td>eur</td>\n",
       "      <td>B</td>\n",
       "      <td>open</td>\n",
       "      <td>1.055716e-02</td>\n",
       "    </tr>\n",
       "  </tbody>\n",
       "</table>\n",
       "</div>"
      ],
      "text/plain": [
       "   pop ct    group            pv\n",
       "0  eur  B        B  2.196718e-11\n",
       "1  eur  B      EPI  3.215340e-02\n",
       "2  eur  B  myeloid  2.150364e-01\n",
       "3  eur  B       nk  2.539286e-01\n",
       "4  eur  B     open  1.055716e-02"
      ]
     },
     "execution_count": 464,
     "metadata": {},
     "output_type": "execute_result"
    }
   ],
   "source": [
    "memento_result.head(5)"
   ]
  },
  {
   "cell_type": "code",
   "execution_count": 470,
   "id": "d97533df",
   "metadata": {},
   "outputs": [],
   "source": [
    "heatmap_eur = -np.log10(\n",
    "    pd.pivot(memento_result.query('pop==\"eur\"')[['ct', 'group', 'pv']], 'ct', 'group', 'pv'))"
   ]
  },
  {
   "cell_type": "code",
   "execution_count": 471,
   "id": "6ed00132",
   "metadata": {},
   "outputs": [],
   "source": [
    "heatmap_asian = -np.log10(\n",
    "    pd.pivot(memento_result.query('pop==\"asian\"')[['ct', 'group', 'pv']], 'ct', 'group', 'pv'))"
   ]
  },
  {
   "cell_type": "code",
   "execution_count": 476,
   "id": "63cf90db",
   "metadata": {},
   "outputs": [],
   "source": [
    "heatmap = (heatmap_asian+heatmap_eur)/2"
   ]
  },
  {
   "cell_type": "code",
   "execution_count": 478,
   "id": "12bd2d52",
   "metadata": {},
   "outputs": [
    {
     "data": {
      "text/plain": [
       "<AxesSubplot:xlabel='group', ylabel='ct'>"
      ]
     },
     "execution_count": 478,
     "metadata": {},
     "output_type": "execute_result"
    },
    {
     "data": {
      "image/png": "[encoded data removed]",
      "text/plain": [
       "<Figure size 432x288 with 2 Axes>"
      ]
     },
     "metadata": {
      "needs_background": "light"
     },
     "output_type": "display_data"
    }
   ],
   "source": [
    "sns.heatmap(heatmap_eur, vmax=6)"
   ]
  },
  {
   "cell_type": "code",
   "execution_count": 477,
   "id": "6942c050",
   "metadata": {},
   "outputs": [
    {
     "data": {
      "text/plain": [
       "<AxesSubplot:xlabel='group', ylabel='ct'>"
      ]
     },
     "execution_count": 477,
     "metadata": {},
     "output_type": "execute_result"
    },
    {
     "data": {
      "image/png": "[encoded data removed]",
      "text/plain": [
       "<Figure size 432x288 with 2 Axes>"
      ]
     },
     "metadata": {
      "needs_background": "light"
     },
     "output_type": "display_data"
    }
   ],
   "source": [
    "sns.heatmap(heatmap, vmax=8)"
   ]
  },
  {
   "cell_type": "code",
   "execution_count": null,
   "id": "bfa20167",
   "metadata": {},
   "outputs": [],
   "source": [
    "heatmap = pd.DataFrame()"
   ]
  },
  {
   "cell_type": "markdown",
   "id": "ce0e016a",
   "metadata": {},
   "source": [
    "### mateqtl heatmaps"
   ]
  },
  {
   "cell_type": "code",
   "execution_count": 24,
   "id": "4417c6ba",
   "metadata": {},
   "outputs": [],
   "source": [
    "matqetl_result = pd.read_csv('mateqtl_enrichment.csv')"
   ]
  },
  {
   "cell_type": "code",
   "execution_count": 25,
   "id": "1174ab1b",
   "metadata": {},
   "outputs": [],
   "source": [
    "# heatmap_eur = -np.log10(\n",
    "#     pd.pivot(memento_result.query('pop==\"eur\"')[['ct', 'group', 'pv']], 'ct', 'group', 'pv'))"
   ]
  },
  {
   "cell_type": "code",
   "execution_count": 26,
   "id": "c8d38147",
   "metadata": {},
   "outputs": [],
   "source": [
    "heatmap_asian = -np.log10(\n",
    "    pd.pivot(matqetl_result.query('pop==\"eur\"')[['ct', 'group', 'pv']], 'ct', 'group', 'pv'))"
   ]
  },
  {
   "cell_type": "code",
   "execution_count": 30,
   "id": "aa6a9f3c",
   "metadata": {},
   "outputs": [
    {
     "data": {
      "text/plain": [
       "<AxesSubplot:xlabel='group', ylabel='ct'>"
      ]
     },
     "execution_count": 30,
     "metadata": {},
     "output_type": "execute_result"
    },
    {
     "data": {
      "image/png": "[encoded data removed]",
      "text/plain": [
       "<Figure size 432x288 with 2 Axes>"
      ]
     },
     "metadata": {
      "needs_background": "light"
     },
     "output_type": "display_data"
    }
   ],
   "source": [
    "sns.heatmap(heatmap_asian, vmax=7)"
   ]
  },
  {
   "cell_type": "markdown",
   "id": "8cc48309",
   "metadata": {},
   "source": [
    "### Cell type correlations"
   ]
  },
  {
   "cell_type": "code",
   "execution_count": 495,
   "id": "cbb4a108",
   "metadata": {},
   "outputs": [],
   "source": [
    "dfs = {}\n",
    "pop = 'asian'\n",
    "for ct in cts:\n",
    "    dfs[ct] = pd.read_csv(('/data_volume/memento/lupus/full_analysis/memento/hits/{}_{}.csv'.format(pop, ct)))"
   ]
  },
  {
   "cell_type": "code",
   "execution_count": 496,
   "id": "edb8c2f0",
   "metadata": {},
   "outputs": [],
   "source": [
    "heatmap = pd.DataFrame(index=cts, columns=cts)"
   ]
  },
  {
   "cell_type": "code",
   "execution_count": 498,
   "id": "9a152b70",
   "metadata": {},
   "outputs": [],
   "source": [
    "import itertools"
   ]
  },
  {
   "cell_type": "code",
   "execution_count": 503,
   "id": "a7d7f12c",
   "metadata": {},
   "outputs": [],
   "source": [
    "for c1, c2 in itertools.combinations(cts, 2):\n",
    "    \n",
    "    combined = dfs[c1].merge(dfs[c2], on=['SNP', 'gene'])\n",
    "    corr = stats.spearmanr(combined['statistic_x'], combined['statistic_y'])[0]\n",
    "    heatmap.loc[c1, c2] = corr\n",
    "    heatmap.loc[c2, c1] = corr"
   ]
  },
  {
   "cell_type": "code",
   "execution_count": null,
   "id": "058ee203",
   "metadata": {},
   "outputs": [],
   "source": [
    "sns.heatmap(heatmap)"
   ]
  },
  {
   "cell_type": "code",
   "execution_count": null,
   "id": "0219d8f3",
   "metadata": {},
   "outputs": [],
   "source": [
    "combined"
   ]
  },
  {
   "cell_type": "markdown",
   "id": "f94b3e99",
   "metadata": {},
   "source": [
    "### ATAC preprocess"
   ]
  },
  {
   "cell_type": "code",
   "execution_count": 5,
   "id": "4af27013",
   "metadata": {},
   "outputs": [],
   "source": [
    "atac = pd.read_csv('/data_volume/memento/lupus/atac_enrichment/sorted_simple_atac_lineage_groups3.bed.gz', sep='\\t')\n"
   ]
  },
  {
   "cell_type": "code",
   "execution_count": 6,
   "id": "f7dd2584",
   "metadata": {},
   "outputs": [],
   "source": [
    "atac_groups = atac.group.drop_duplicates().tolist()"
   ]
  },
  {
   "cell_type": "code",
   "execution_count": 7,
   "id": "76e0fba0",
   "metadata": {},
   "outputs": [],
   "source": [
    "snps = pd.read_csv(data_path + 'mateqtl_input/asian_genos.tsv', sep='\\t', index_col=0)"
   ]
  },
  {
   "cell_type": "code",
   "execution_count": 8,
   "id": "9f95fef5",
   "metadata": {},
   "outputs": [],
   "source": [
    "snps = snps[[]].copy()"
   ]
  },
  {
   "cell_type": "code",
   "execution_count": 9,
   "id": "136045ab",
   "metadata": {},
   "outputs": [],
   "source": [
    "snps['chr'] = 'chr' + snps.index.str.split(':').str[0]\n",
    "snps['pos'] = snps.index.str.split(':').str[1].astype(int)\n",
    "snps['SNP'] = snps.index"
   ]
  },
  {
   "cell_type": "code",
   "execution_count": 12,
   "id": "e437b71d",
   "metadata": {},
   "outputs": [
    {
     "name": "stdout",
     "output_type": "stream",
     "text": [
      "getting atac peaks for B\n",
      "getting atac peaks for EPI\n",
      "getting atac peaks for myeloid\n",
      "getting atac peaks for nk\n",
      "getting atac peaks for open\n",
      "getting atac peaks for progenitor\n",
      "getting atac peaks for T\n",
      "getting atac peaks for thymocyte\n"
     ]
    }
   ],
   "source": [
    "labeled_snps = snps\n",
    "for ct in atac_groups:\n",
    "    print('getting atac peaks for', ct)\n",
    "    atac_ct = atac.query('group == \"{}\"'.format(ct))\n",
    "    \n",
    "    df_atac = pd.concat([\n",
    "        pd.DataFrame(\n",
    "        {'pos': range(row['start'], row['stop']), ct:True, 'chr':row['chr']}) \n",
    "        for _, row in atac_ct.iterrows()])\n",
    "    labeled_snps = labeled_snps.merge(df_atac, on=['chr', 'pos'], how='left')"
   ]
  },
  {
   "cell_type": "code",
   "execution_count": 13,
   "id": "88b8c47c",
   "metadata": {},
   "outputs": [],
   "source": [
    "labeled_snps.fillna(False).to_csv(data_path + 'atac_enrichment/snps_peaks.csv')"
   ]
  },
  {
   "cell_type": "markdown",
   "id": "26e2b9d8",
   "metadata": {},
   "source": [
    "### Perform meta analysis"
   ]
  },
  {
   "cell_type": "code",
   "execution_count": 45,
   "id": "59a6b387",
   "metadata": {},
   "outputs": [],
   "source": [
    "for ct in cts:\n",
    "    \n",
    "    mem_asian = pd.read_csv('/data_volume/memento/lupus/full_analysis/memento/hits/{}_{}.csv'.format('asian', ct))\n",
    "    mem_eur = pd.read_csv('/data_volume/memento/lupus/full_analysis/memento/hits/{}_{}.csv'.format('eur', ct))\n",
    "    \n",
    "    joined = mem_asian.merge(mem_eur, on='SNP', suffixes=('_asian', '_eur'))\n",
    "    joined['weight_asian'] = (joined['statistic_asian']/joined['beta_asian'])**2\n",
    "    joined['weight_eur'] = (joined['statistic_eur']/joined['beta_eur'])**2\n",
    "    joined['beta'] = (joined['beta_asian']*joined['weight_asian'] + joined['beta_eur']*joined['weight_eur'])/(joined['weight_asian']+joined['weight_eur'])\n",
    "    joined['se'] = np.sqrt(1/(joined['weight_asian']+joined['weight_eur']))\n",
    "    joined['pvalue'] = stats.norm.sf(joined['beta'].abs(), loc=0, scale=joined['se'])*2\n",
    "    \n",
    "    joined.to_csv(data_path + 'full_analysis/memento/meta_{}.csv'.format(ct), index=False)"
   ]
  },
  {
   "cell_type": "markdown",
   "id": "b7882d5f",
   "metadata": {},
   "source": [
    "### Perform enrichment with my peaks"
   ]
  },
  {
   "cell_type": "code",
   "execution_count": 46,
   "id": "a5c9dbc3",
   "metadata": {},
   "outputs": [
    {
     "name": "stderr",
     "output_type": "stream",
     "text": [
      "/home/ssm-user/anaconda3/envs/single_cell/lib/python3.8/site-packages/numpy/lib/arraysetops.py:580: FutureWarning: elementwise comparison failed; returning scalar instead, but in the future will perform elementwise comparison\n",
      "  mask |= (ar1 == a)\n"
     ]
    }
   ],
   "source": [
    "atac = pd.read_csv(data_path + 'atac_enrichment/snps_peaks.csv', index_col=0)"
   ]
  },
  {
   "cell_type": "code",
   "execution_count": 47,
   "id": "f1c44230",
   "metadata": {},
   "outputs": [],
   "source": [
    "atac['pos'] = atac['pos'].astype(str) "
   ]
  },
  {
   "cell_type": "code",
   "execution_count": 8,
   "id": "84c602eb",
   "metadata": {},
   "outputs": [
    {
     "name": "stdout",
     "output_type": "stream",
     "text": [
      "eur B\n",
      "eur T8\n",
      "eur T4\n",
      "eur NK\n",
      "eur ncM\n",
      "eur cM\n",
      "asian B\n",
      "asian T8\n",
      "asian T4\n",
      "asian NK\n",
      "asian ncM\n",
      "asian cM\n"
     ]
    }
   ],
   "source": [
    "enrichment_result = []\n",
    "for pop in ['eur', 'asian']:\n",
    "\n",
    "    for ct in cts:\n",
    "        print(pop, ct)\n",
    "\n",
    "        result = pd.read_csv(data_path + 'full_analysis/memento/meta_{}.csv'.format(ct))        \n",
    "        \n",
    "        result = result.merge(atac, on='SNP')\n",
    "\n",
    "        for group in atac.columns[3:]:\n",
    "            pv = stats.mannwhitneyu(result.query('{}'.format(group))['p.value'], result.query('~{}'.format(group))['p.value'])\n",
    "            enrichment_result.append((pop, ct, group, pv))\n"
   ]
  },
  {
   "cell_type": "code",
   "execution_count": 10,
   "id": "05fb20c9",
   "metadata": {},
   "outputs": [],
   "source": [
    "memento_result = pd.DataFrame(enrichment_result, columns=['pop', 'ct', 'group', 'pv'])"
   ]
  },
  {
   "cell_type": "code",
   "execution_count": 15,
   "id": "722a346c",
   "metadata": {},
   "outputs": [],
   "source": [
    "memento_result['pv'] = memento_result['pv'].apply(lambda x: x[1])"
   ]
  },
  {
   "cell_type": "code",
   "execution_count": 474,
   "id": "87694923",
   "metadata": {},
   "outputs": [
    {
     "data": {
      "text/plain": [
       "<AxesSubplot:xlabel='group', ylabel='ct'>"
      ]
     },
     "execution_count": 474,
     "metadata": {},
     "output_type": "execute_result"
    },
    {
     "data": {
      "image/png": "[encoded data removed]",
      "text/plain": [
       "<Figure size 432x288 with 2 Axes>"
      ]
     },
     "metadata": {
      "needs_background": "light"
     },
     "output_type": "display_data"
    }
   ],
   "source": [
    "sns.heatmap(heatmap_asian, vmax=10)"
   ]
  },
  {
   "cell_type": "markdown",
   "id": "9d742b20",
   "metadata": {},
   "source": [
    "### meta analysis enrichment"
   ]
  },
  {
   "cell_type": "code",
   "execution_count": 48,
   "id": "4f6885f6",
   "metadata": {},
   "outputs": [
    {
     "name": "stdout",
     "output_type": "stream",
     "text": [
      "B\n",
      "T8\n",
      "T4\n",
      "NK\n",
      "ncM\n",
      "cM\n"
     ]
    }
   ],
   "source": [
    "enrichment_result = []\n",
    "for ct in cts:\n",
    "    print(ct)\n",
    "\n",
    "    result = pd.read_csv(data_path + 'full_analysis/memento/meta_{}.csv'.format(ct))        \n",
    "\n",
    "    result = result.merge(atac, on='SNP')\n",
    "\n",
    "    for group in atac.columns[3:]:\n",
    "        pv = stats.mannwhitneyu(result.query('{}'.format(group))['pvalue'], result.query('~{}'.format(group))['pvalue'])[1]\n",
    "        enrichment_result.append((ct, group, pv))\n",
    "memento_result = pd.DataFrame(enrichment_result, columns=['ct', 'group', 'pv'])"
   ]
  },
  {
   "cell_type": "markdown",
   "id": "b6095f74",
   "metadata": {},
   "source": [
    "### ATAC debug (focus on NK cells)"
   ]
  },
  {
   "cell_type": "code",
   "execution_count": 2,
   "id": "74f9ff5f",
   "metadata": {},
   "outputs": [],
   "source": [
    "import scanpy as sc\n",
    "import seaborn as sns\n",
    "import pandas as pd\n",
    "import numpy as np\n",
    "import itertools\n",
    "\n",
    "import argparse\n",
    "\n",
    "import sys\n",
    "sys.path.append('/home/ssm-user/Github/scrna-parameter-estimation/dist/memento-0.0.8-py3.8.egg')\n",
    "import memento"
   ]
  },
  {
   "cell_type": "code",
   "execution_count": 1,
   "id": "f93fd0f5",
   "metadata": {},
   "outputs": [],
   "source": [
    "ct = 'NK'"
   ]
  },
  {
   "cell_type": "code",
   "execution_count": 4,
   "id": "18a746c8",
   "metadata": {},
   "outputs": [],
   "source": [
    "pop = 'eur'"
   ]
  },
  {
   "cell_type": "code",
   "execution_count": null,
   "id": "7d04bc8d",
   "metadata": {},
   "outputs": [],
   "source": [
    "data_path  = '/data_volume/memento/lupus/'\n",
    "\n",
    "pos = pd.read_csv(data_path + 'mateqtl_input/{}_genos.tsv'.format(pop), sep='\\t', index_col=0)\n",
    "cov = pd.read_csv(data_path + 'mateqtl_input/{}_mateqtl_cov.txt'.format(pop), sep='\\t', index_col=0).T\n"
   ]
  },
  {
   "cell_type": "code",
   "execution_count": 6,
   "id": "f5844c6f",
   "metadata": {},
   "outputs": [],
   "source": [
    "gene_snp_pairs = pd.read_csv(data_path +'mateqtl_input/{}/gene_snp_pairs_{}.csv'.format(pop, '100kb')).query('rsid in @pos.index')\n"
   ]
  },
  {
   "cell_type": "code",
   "execution_count": 7,
   "id": "3da24acf",
   "metadata": {},
   "outputs": [
    {
     "data": {
      "text/html": [
       "<div>\n",
       "<style scoped>\n",
       "    .dataframe tbody tr th:only-of-type {\n",
       "        vertical-align: middle;\n",
       "    }\n",
       "\n",
       "    .dataframe tbody tr th {\n",
       "        vertical-align: top;\n",
       "    }\n",
       "\n",
       "    .dataframe thead th {\n",
       "        text-align: right;\n",
       "    }\n",
       "</style>\n",
       "<table border=\"1\" class=\"dataframe\">\n",
       "  <thead>\n",
       "    <tr style=\"text-align: right;\">\n",
       "      <th></th>\n",
       "      <th>gene</th>\n",
       "      <th>rsid</th>\n",
       "    </tr>\n",
       "  </thead>\n",
       "  <tbody>\n",
       "    <tr>\n",
       "      <th>1</th>\n",
       "      <td>OR4F16</td>\n",
       "      <td>1:706368</td>\n",
       "    </tr>\n",
       "    <tr>\n",
       "      <th>2</th>\n",
       "      <td>OR4F16</td>\n",
       "      <td>1:729679</td>\n",
       "    </tr>\n",
       "    <tr>\n",
       "      <th>6</th>\n",
       "      <td>OR4F16</td>\n",
       "      <td>1:752566</td>\n",
       "    </tr>\n",
       "    <tr>\n",
       "      <th>7</th>\n",
       "      <td>OR4F16</td>\n",
       "      <td>1:752721</td>\n",
       "    </tr>\n",
       "    <tr>\n",
       "      <th>8</th>\n",
       "      <td>OR4F16</td>\n",
       "      <td>1:753405</td>\n",
       "    </tr>\n",
       "  </tbody>\n",
       "</table>\n",
       "</div>"
      ],
      "text/plain": [
       "     gene      rsid\n",
       "1  OR4F16  1:706368\n",
       "2  OR4F16  1:729679\n",
       "6  OR4F16  1:752566\n",
       "7  OR4F16  1:752721\n",
       "8  OR4F16  1:753405"
      ]
     },
     "execution_count": 7,
     "metadata": {},
     "output_type": "execute_result"
    }
   ],
   "source": [
    "gene_snp_pairs.head(5)"
   ]
  },
  {
   "cell_type": "code",
   "execution_count": 8,
   "id": "6d0fef35",
   "metadata": {},
   "outputs": [
    {
     "name": "stderr",
     "output_type": "stream",
     "text": [
      "/home/ssm-user/anaconda3/envs/single_cell/lib/python3.8/site-packages/numpy/lib/arraysetops.py:580: FutureWarning: elementwise comparison failed; returning scalar instead, but in the future will perform elementwise comparison\n",
      "  mask |= (ar1 == a)\n"
     ]
    }
   ],
   "source": [
    "myatac = pd.read_csv(data_path + 'atac_enrichment/snps_peaks.csv', index_col=0)"
   ]
  },
  {
   "cell_type": "code",
   "execution_count": 11,
   "id": "2a499607",
   "metadata": {},
   "outputs": [],
   "source": [
    "gene_snp_pairs_atac = gene_snp_pairs.merge(myatac[['SNP', 'nk']].rename(columns={'SNP':'rsid'}), on='rsid', how='left')"
   ]
  },
  {
   "cell_type": "code",
   "execution_count": 15,
   "id": "48b2e81d",
   "metadata": {},
   "outputs": [],
   "source": [
    "sampled_gene_snp_pairs = pd.concat([gene_snp_pairs_atac.query('nk'), gene_snp_pairs_atac.query('~nk').sample(n=18000)])"
   ]
  },
  {
   "cell_type": "code",
   "execution_count": 16,
   "id": "0b3b83d1",
   "metadata": {},
   "outputs": [
    {
     "data": {
      "text/html": [
       "<div>\n",
       "<style scoped>\n",
       "    .dataframe tbody tr th:only-of-type {\n",
       "        vertical-align: middle;\n",
       "    }\n",
       "\n",
       "    .dataframe tbody tr th {\n",
       "        vertical-align: top;\n",
       "    }\n",
       "\n",
       "    .dataframe thead th {\n",
       "        text-align: right;\n",
       "    }\n",
       "</style>\n",
       "<table border=\"1\" class=\"dataframe\">\n",
       "  <thead>\n",
       "    <tr style=\"text-align: right;\">\n",
       "      <th></th>\n",
       "      <th>gene</th>\n",
       "      <th>rsid</th>\n",
       "      <th>nk</th>\n",
       "    </tr>\n",
       "  </thead>\n",
       "  <tbody>\n",
       "    <tr>\n",
       "      <th>614</th>\n",
       "      <td>FAM41C</td>\n",
       "      <td>1:944564</td>\n",
       "      <td>True</td>\n",
       "    </tr>\n",
       "    <tr>\n",
       "      <th>799</th>\n",
       "      <td>AL645608.2</td>\n",
       "      <td>1:944564</td>\n",
       "      <td>True</td>\n",
       "    </tr>\n",
       "    <tr>\n",
       "      <th>1014</th>\n",
       "      <td>SAMD11</td>\n",
       "      <td>1:944564</td>\n",
       "      <td>True</td>\n",
       "    </tr>\n",
       "    <tr>\n",
       "      <th>1253</th>\n",
       "      <td>NOC2L</td>\n",
       "      <td>1:944564</td>\n",
       "      <td>True</td>\n",
       "    </tr>\n",
       "    <tr>\n",
       "      <th>1463</th>\n",
       "      <td>KLHL17</td>\n",
       "      <td>1:944564</td>\n",
       "      <td>True</td>\n",
       "    </tr>\n",
       "    <tr>\n",
       "      <th>...</th>\n",
       "      <td>...</td>\n",
       "      <td>...</td>\n",
       "      <td>...</td>\n",
       "    </tr>\n",
       "    <tr>\n",
       "      <th>269228</th>\n",
       "      <td>THEM5</td>\n",
       "      <td>1:151760048</td>\n",
       "      <td>False</td>\n",
       "    </tr>\n",
       "    <tr>\n",
       "      <th>4834727</th>\n",
       "      <td>MICB</td>\n",
       "      <td>6:31561353</td>\n",
       "      <td>False</td>\n",
       "    </tr>\n",
       "    <tr>\n",
       "      <th>828969</th>\n",
       "      <td>OR56A1</td>\n",
       "      <td>11:5939804</td>\n",
       "      <td>False</td>\n",
       "    </tr>\n",
       "    <tr>\n",
       "      <th>870179</th>\n",
       "      <td>MRGPRX3</td>\n",
       "      <td>11:18159254</td>\n",
       "      <td>False</td>\n",
       "    </tr>\n",
       "    <tr>\n",
       "      <th>3799564</th>\n",
       "      <td>PRR5</td>\n",
       "      <td>22:44716487</td>\n",
       "      <td>False</td>\n",
       "    </tr>\n",
       "  </tbody>\n",
       "</table>\n",
       "<p>35932 rows × 3 columns</p>\n",
       "</div>"
      ],
      "text/plain": [
       "               gene         rsid     nk\n",
       "614          FAM41C     1:944564   True\n",
       "799      AL645608.2     1:944564   True\n",
       "1014         SAMD11     1:944564   True\n",
       "1253          NOC2L     1:944564   True\n",
       "1463         KLHL17     1:944564   True\n",
       "...             ...          ...    ...\n",
       "269228        THEM5  1:151760048  False\n",
       "4834727        MICB   6:31561353  False\n",
       "828969       OR56A1   11:5939804  False\n",
       "870179      MRGPRX3  11:18159254  False\n",
       "3799564        PRR5  22:44716487  False\n",
       "\n",
       "[35932 rows x 3 columns]"
      ]
     },
     "execution_count": 16,
     "metadata": {},
     "output_type": "execute_result"
    }
   ],
   "source": [
    "sampled_gene_snp_pairs"
   ]
  },
  {
   "cell_type": "code",
   "execution_count": 56,
   "id": "a32c34c8",
   "metadata": {},
   "outputs": [],
   "source": [
    "adata = sc.read(data_path + 'single_cell/{}_{}.h5ad'.format(pop, ct))\n",
    "adata = adata[adata.obs.ind_cov.isin(pos.columns)].copy()\n",
    "\n",
    "adata.obs['capture_rate'] = 0.1\n",
    "memento.setup_memento(adata, q_column='capture_rate', trim_percent=0.1, filter_mean_thresh=0.2)\n",
    "# \t\tadata.obs['memento_size_factor'] = 1.0\n",
    "memento.create_groups(adata, label_columns=['ind_cov'])\n",
    "\n",
    "cov_df = cov.loc[[x[3:] for x in adata.uns['memento']['groups']]]\n",
    "\n",
    "donor_df = pos[[x[3:] for x in adata.uns['memento']['groups']]].T"
   ]
  },
  {
   "cell_type": "code",
   "execution_count": 57,
   "id": "5ae27eb6",
   "metadata": {},
   "outputs": [
    {
     "data": {
      "text/plain": [
       "(34552, 32738)"
      ]
     },
     "execution_count": 57,
     "metadata": {},
     "output_type": "execute_result"
    }
   ],
   "source": [
    "adata.shape"
   ]
  },
  {
   "cell_type": "code",
   "execution_count": 58,
   "id": "383ae5b0",
   "metadata": {},
   "outputs": [
    {
     "data": {
      "text/plain": [
       "12655"
      ]
     },
     "execution_count": 58,
     "metadata": {},
     "output_type": "execute_result"
    }
   ],
   "source": [
    "len(sampled_gene_snp_pairs.gene.drop_duplicates().tolist())"
   ]
  },
  {
   "cell_type": "code",
   "execution_count": 59,
   "id": "08b2c4ad",
   "metadata": {},
   "outputs": [],
   "source": [
    "memento.compute_1d_moments(adata, min_perc_group=.1, gene_list=sampled_gene_snp_pairs.gene.drop_duplicates().tolist())\n"
   ]
  },
  {
   "cell_type": "code",
   "execution_count": 60,
   "id": "61eabef8",
   "metadata": {},
   "outputs": [
    {
     "data": {
      "text/plain": [
       "(34552, 810)"
      ]
     },
     "execution_count": 60,
     "metadata": {},
     "output_type": "execute_result"
    }
   ],
   "source": [
    "adata.shape"
   ]
  },
  {
   "cell_type": "code",
   "execution_count": 61,
   "id": "bdbcfc37",
   "metadata": {},
   "outputs": [
    {
     "name": "stderr",
     "output_type": "stream",
     "text": [
      "[Parallel(n_jobs=8)]: Using backend LokyBackend with 8 concurrent workers.\n",
      "[Parallel(n_jobs=8)]: Done  34 tasks      | elapsed:    7.2s\n",
      "[Parallel(n_jobs=8)]: Done 184 tasks      | elapsed:   37.1s\n",
      "[Parallel(n_jobs=8)]: Done 434 tasks      | elapsed:  1.4min\n",
      "[Parallel(n_jobs=8)]: Done 784 tasks      | elapsed:  2.7min\n",
      "[Parallel(n_jobs=8)]: Done 810 out of 810 | elapsed:  2.8min finished\n"
     ]
    }
   ],
   "source": [
    "\n",
    "gene_to_snp = dict(sampled_gene_snp_pairs[sampled_gene_snp_pairs.gene.isin(adata.var.index)].groupby('gene').rsid.apply(list))\n",
    "\n",
    "memento.ht_1d_moments(\n",
    "    adata, \n",
    "    covariate=cov_df,\n",
    "    treatment=donor_df,\n",
    "    treatment_for_gene=gene_to_snp,\n",
    "    num_boot=5000, \n",
    "    verbose=1,\n",
    "    num_cpus=8,\n",
    "    resampling='bootstrap',\n",
    "    approx=True,\n",
    "    resample_rep=True)"
   ]
  },
  {
   "cell_type": "code",
   "execution_count": 62,
   "id": "b8f2e7dc",
   "metadata": {},
   "outputs": [],
   "source": [
    "nk_result = memento.get_1d_ht_result(adata)"
   ]
  },
  {
   "cell_type": "code",
   "execution_count": 63,
   "id": "0b3faaa2",
   "metadata": {},
   "outputs": [],
   "source": [
    "nk_result = nk_result.merge(myatac[['SNP', 'nk']].rename(columns={'SNP':'tx'}))"
   ]
  },
  {
   "cell_type": "code",
   "execution_count": 64,
   "id": "fef1778b",
   "metadata": {},
   "outputs": [
    {
     "data": {
      "text/plain": [
       "MannwhitneyuResult(statistic=780000.5, pvalue=0.49998893310938053)"
      ]
     },
     "execution_count": 64,
     "metadata": {},
     "output_type": "execute_result"
    }
   ],
   "source": [
    "stats.mannwhitneyu(nk_result.query('nk').de_pval, nk_result.query('nk').de_pval)"
   ]
  },
  {
   "cell_type": "code",
   "execution_count": 65,
   "id": "2bd56f43",
   "metadata": {},
   "outputs": [],
   "source": [
    "nk_result['fdr'] = memento.util._fdrcorrect(nk_result['de_pval'])"
   ]
  },
  {
   "cell_type": "code",
   "execution_count": 79,
   "id": "9500fa33",
   "metadata": {},
   "outputs": [],
   "source": [
    "nk_result['sig'] = nk_result['fdr'] < 0.15"
   ]
  },
  {
   "cell_type": "code",
   "execution_count": 80,
   "id": "646f61ec",
   "metadata": {},
   "outputs": [
    {
     "data": {
      "text/html": [
       "<div>\n",
       "<style scoped>\n",
       "    .dataframe tbody tr th:only-of-type {\n",
       "        vertical-align: middle;\n",
       "    }\n",
       "\n",
       "    .dataframe tbody tr th {\n",
       "        vertical-align: top;\n",
       "    }\n",
       "\n",
       "    .dataframe thead th {\n",
       "        text-align: right;\n",
       "    }\n",
       "</style>\n",
       "<table border=\"1\" class=\"dataframe\">\n",
       "  <thead>\n",
       "    <tr style=\"text-align: right;\">\n",
       "      <th>sig</th>\n",
       "      <th>False</th>\n",
       "      <th>True</th>\n",
       "    </tr>\n",
       "    <tr>\n",
       "      <th>nk</th>\n",
       "      <th></th>\n",
       "      <th></th>\n",
       "    </tr>\n",
       "  </thead>\n",
       "  <tbody>\n",
       "    <tr>\n",
       "      <th>False</th>\n",
       "      <td>986</td>\n",
       "      <td>47</td>\n",
       "    </tr>\n",
       "    <tr>\n",
       "      <th>True</th>\n",
       "      <td>1202</td>\n",
       "      <td>47</td>\n",
       "    </tr>\n",
       "  </tbody>\n",
       "</table>\n",
       "</div>"
      ],
      "text/plain": [
       "sig    False  True\n",
       "nk                \n",
       "False    986    47\n",
       "True    1202    47"
      ]
     },
     "execution_count": 80,
     "metadata": {},
     "output_type": "execute_result"
    }
   ],
   "source": [
    "pd.crosstab(nk_result['nk'], nk_result['sig'])"
   ]
  },
  {
   "cell_type": "code",
   "execution_count": null,
   "id": "a8f6e3a1",
   "metadata": {},
   "outputs": [],
   "source": []
  },
  {
   "cell_type": "code",
   "execution_count": 86,
   "id": "a7a5dc1e",
   "metadata": {},
   "outputs": [
    {
     "data": {
      "text/plain": [
       "-1.3834762537794663"
      ]
     },
     "execution_count": 86,
     "metadata": {},
     "output_type": "execute_result"
    }
   ],
   "source": [
    "np.log(nk_result.query('nk').de_pval).mean()"
   ]
  },
  {
   "cell_type": "code",
   "execution_count": 87,
   "id": "04fd7504",
   "metadata": {},
   "outputs": [
    {
     "data": {
      "text/plain": [
       "-1.462813356523016"
      ]
     },
     "execution_count": 87,
     "metadata": {},
     "output_type": "execute_result"
    }
   ],
   "source": [
    "np.log(nk_result.query('~nk').de_pval).mean()"
   ]
  },
  {
   "cell_type": "code",
   "execution_count": 90,
   "id": "068bec96",
   "metadata": {},
   "outputs": [
    {
     "data": {
      "text/plain": [
       "<AxesSubplot:>"
      ]
     },
     "execution_count": 90,
     "metadata": {},
     "output_type": "execute_result"
    },
    {
     "data": {
      "image/png": "[encoded data removed]",
      "text/plain": [
       "<Figure size 432x288 with 1 Axes>"
      ]
     },
     "metadata": {
      "needs_background": "light"
     },
     "output_type": "display_data"
    }
   ],
   "source": [
    "np.log(nk_result.query('nk').de_pval).hist(bins=50)\n",
    "np.log(nk_result.query('~nk').de_pval).hist(bins=50)"
   ]
  },
  {
   "cell_type": "code",
   "execution_count": null,
   "id": "acfe0272",
   "metadata": {},
   "outputs": [],
   "source": []
  },
  {
   "cell_type": "code",
   "execution_count": null,
   "id": "76a9cf3d",
   "metadata": {},
   "outputs": [],
   "source": []
  },
  {
   "cell_type": "code",
   "execution_count": null,
   "id": "d22143ca",
   "metadata": {},
   "outputs": [],
   "source": []
  },
  {
   "cell_type": "code",
   "execution_count": 9,
   "id": "1d925eb6",
   "metadata": {},
   "outputs": [
    {
     "data": {
      "text/html": [
       "<div>\n",
       "<style scoped>\n",
       "    .dataframe tbody tr th:only-of-type {\n",
       "        vertical-align: middle;\n",
       "    }\n",
       "\n",
       "    .dataframe tbody tr th {\n",
       "        vertical-align: top;\n",
       "    }\n",
       "\n",
       "    .dataframe thead th {\n",
       "        text-align: right;\n",
       "    }\n",
       "</style>\n",
       "<table border=\"1\" class=\"dataframe\">\n",
       "  <thead>\n",
       "    <tr style=\"text-align: right;\">\n",
       "      <th></th>\n",
       "      <th>chr</th>\n",
       "      <th>pos</th>\n",
       "      <th>SNP</th>\n",
       "      <th>B</th>\n",
       "      <th>EPI</th>\n",
       "      <th>myeloid</th>\n",
       "      <th>nk</th>\n",
       "      <th>open</th>\n",
       "      <th>progenitor</th>\n",
       "      <th>T</th>\n",
       "      <th>thymocyte</th>\n",
       "    </tr>\n",
       "  </thead>\n",
       "  <tbody>\n",
       "    <tr>\n",
       "      <th>0</th>\n",
       "      <td>chr3</td>\n",
       "      <td>165182446</td>\n",
       "      <td>3:165182446</td>\n",
       "      <td>False</td>\n",
       "      <td>False</td>\n",
       "      <td>False</td>\n",
       "      <td>False</td>\n",
       "      <td>False</td>\n",
       "      <td>False</td>\n",
       "      <td>False</td>\n",
       "      <td>False</td>\n",
       "    </tr>\n",
       "    <tr>\n",
       "      <th>1</th>\n",
       "      <td>chr6</td>\n",
       "      <td>122682327</td>\n",
       "      <td>6:122682327</td>\n",
       "      <td>False</td>\n",
       "      <td>False</td>\n",
       "      <td>False</td>\n",
       "      <td>False</td>\n",
       "      <td>False</td>\n",
       "      <td>False</td>\n",
       "      <td>False</td>\n",
       "      <td>False</td>\n",
       "    </tr>\n",
       "    <tr>\n",
       "      <th>2</th>\n",
       "      <td>chr22</td>\n",
       "      <td>40561759</td>\n",
       "      <td>22:40561759</td>\n",
       "      <td>False</td>\n",
       "      <td>False</td>\n",
       "      <td>False</td>\n",
       "      <td>False</td>\n",
       "      <td>False</td>\n",
       "      <td>False</td>\n",
       "      <td>False</td>\n",
       "      <td>False</td>\n",
       "    </tr>\n",
       "    <tr>\n",
       "      <th>3</th>\n",
       "      <td>chr3</td>\n",
       "      <td>104381193</td>\n",
       "      <td>3:104381193</td>\n",
       "      <td>False</td>\n",
       "      <td>False</td>\n",
       "      <td>False</td>\n",
       "      <td>False</td>\n",
       "      <td>False</td>\n",
       "      <td>False</td>\n",
       "      <td>False</td>\n",
       "      <td>False</td>\n",
       "    </tr>\n",
       "    <tr>\n",
       "      <th>4</th>\n",
       "      <td>chr15</td>\n",
       "      <td>57107863</td>\n",
       "      <td>15:57107863</td>\n",
       "      <td>False</td>\n",
       "      <td>False</td>\n",
       "      <td>False</td>\n",
       "      <td>False</td>\n",
       "      <td>False</td>\n",
       "      <td>False</td>\n",
       "      <td>False</td>\n",
       "      <td>False</td>\n",
       "    </tr>\n",
       "  </tbody>\n",
       "</table>\n",
       "</div>"
      ],
      "text/plain": [
       "     chr        pos          SNP      B    EPI  myeloid     nk   open  \\\n",
       "0   chr3  165182446  3:165182446  False  False    False  False  False   \n",
       "1   chr6  122682327  6:122682327  False  False    False  False  False   \n",
       "2  chr22   40561759  22:40561759  False  False    False  False  False   \n",
       "3   chr3  104381193  3:104381193  False  False    False  False  False   \n",
       "4  chr15   57107863  15:57107863  False  False    False  False  False   \n",
       "\n",
       "   progenitor      T  thymocyte  \n",
       "0       False  False      False  \n",
       "1       False  False      False  \n",
       "2       False  False      False  \n",
       "3       False  False      False  \n",
       "4       False  False      False  "
      ]
     },
     "execution_count": 9,
     "metadata": {},
     "output_type": "execute_result"
    }
   ],
   "source": [
    "myatac.head(5)"
   ]
  },
  {
   "cell_type": "code",
   "execution_count": null,
   "id": "55c4a715",
   "metadata": {},
   "outputs": [],
   "source": []
  },
  {
   "cell_type": "code",
   "execution_count": null,
   "id": "cc561054",
   "metadata": {},
   "outputs": [],
   "source": []
  },
  {
   "cell_type": "code",
   "execution_count": 14,
   "id": "fa1514ad",
   "metadata": {},
   "outputs": [
    {
     "data": {
      "text/plain": [
       "(3285470, 11)"
      ]
     },
     "execution_count": 14,
     "metadata": {},
     "output_type": "execute_result"
    }
   ],
   "source": [
    "labeled_snps.shape"
   ]
  },
  {
   "cell_type": "code",
   "execution_count": 15,
   "id": "c8b3dedb",
   "metadata": {},
   "outputs": [
    {
     "data": {
      "text/plain": [
       "(3285470, 3)"
      ]
     },
     "execution_count": 15,
     "metadata": {},
     "output_type": "execute_result"
    }
   ],
   "source": [
    "snps.shape"
   ]
  },
  {
   "cell_type": "code",
   "execution_count": null,
   "id": "020cbc6a",
   "metadata": {},
   "outputs": [],
   "source": []
  },
  {
   "cell_type": "code",
   "execution_count": null,
   "id": "6f830061",
   "metadata": {},
   "outputs": [],
   "source": []
  },
  {
   "cell_type": "code",
   "execution_count": 9,
   "id": "326f04d8",
   "metadata": {},
   "outputs": [],
   "source": [
    "atac_ct = atac.query('group == \"B\"')"
   ]
  },
  {
   "cell_type": "code",
   "execution_count": 10,
   "id": "2eb8022d",
   "metadata": {},
   "outputs": [],
   "source": [
    "df_atac = pd.concat([\n",
    "    pd.DataFrame(\n",
    "    {'peak': range(row['start'], row['stop']), 'group': row['group'], 'chr':row['chr']}) \n",
    "    for _, row in atac_ct.iterrows()])"
   ]
  },
  {
   "cell_type": "code",
   "execution_count": 12,
   "id": "1563da23",
   "metadata": {},
   "outputs": [],
   "source": [
    "labeled_snps = snps.merge(df_atac, left_on=['chr', 'start'], right_on=['chr', 'peak'], how='left')"
   ]
  },
  {
   "cell_type": "code",
   "execution_count": 14,
   "id": "75d4ab33",
   "metadata": {},
   "outputs": [
    {
     "data": {
      "text/html": [
       "<div>\n",
       "<style scoped>\n",
       "    .dataframe tbody tr th:only-of-type {\n",
       "        vertical-align: middle;\n",
       "    }\n",
       "\n",
       "    .dataframe tbody tr th {\n",
       "        vertical-align: top;\n",
       "    }\n",
       "\n",
       "    .dataframe thead th {\n",
       "        text-align: right;\n",
       "    }\n",
       "</style>\n",
       "<table border=\"1\" class=\"dataframe\">\n",
       "  <thead>\n",
       "    <tr style=\"text-align: right;\">\n",
       "      <th></th>\n",
       "      <th>chr</th>\n",
       "      <th>start</th>\n",
       "      <th>end</th>\n",
       "      <th>SNP</th>\n",
       "    </tr>\n",
       "    <tr>\n",
       "      <th>CHROM:POS</th>\n",
       "      <th></th>\n",
       "      <th></th>\n",
       "      <th></th>\n",
       "      <th></th>\n",
       "    </tr>\n",
       "  </thead>\n",
       "  <tbody>\n",
       "    <tr>\n",
       "      <th>3:165182446</th>\n",
       "      <td>chr3</td>\n",
       "      <td>165182446</td>\n",
       "      <td>165182447</td>\n",
       "      <td>3:165182446</td>\n",
       "    </tr>\n",
       "    <tr>\n",
       "      <th>6:122682327</th>\n",
       "      <td>chr6</td>\n",
       "      <td>122682327</td>\n",
       "      <td>122682328</td>\n",
       "      <td>6:122682327</td>\n",
       "    </tr>\n",
       "    <tr>\n",
       "      <th>22:40561759</th>\n",
       "      <td>chr22</td>\n",
       "      <td>40561759</td>\n",
       "      <td>40561760</td>\n",
       "      <td>22:40561759</td>\n",
       "    </tr>\n",
       "    <tr>\n",
       "      <th>3:104381193</th>\n",
       "      <td>chr3</td>\n",
       "      <td>104381193</td>\n",
       "      <td>104381194</td>\n",
       "      <td>3:104381193</td>\n",
       "    </tr>\n",
       "    <tr>\n",
       "      <th>15:57107863</th>\n",
       "      <td>chr15</td>\n",
       "      <td>57107863</td>\n",
       "      <td>57107864</td>\n",
       "      <td>15:57107863</td>\n",
       "    </tr>\n",
       "    <tr>\n",
       "      <th>...</th>\n",
       "      <td>...</td>\n",
       "      <td>...</td>\n",
       "      <td>...</td>\n",
       "      <td>...</td>\n",
       "    </tr>\n",
       "    <tr>\n",
       "      <th>19:45336035</th>\n",
       "      <td>chr19</td>\n",
       "      <td>45336035</td>\n",
       "      <td>45336036</td>\n",
       "      <td>19:45336035</td>\n",
       "    </tr>\n",
       "    <tr>\n",
       "      <th>11:77505479</th>\n",
       "      <td>chr11</td>\n",
       "      <td>77505479</td>\n",
       "      <td>77505480</td>\n",
       "      <td>11:77505479</td>\n",
       "    </tr>\n",
       "    <tr>\n",
       "      <th>3:185550881</th>\n",
       "      <td>chr3</td>\n",
       "      <td>185550881</td>\n",
       "      <td>185550882</td>\n",
       "      <td>3:185550881</td>\n",
       "    </tr>\n",
       "    <tr>\n",
       "      <th>4:171230839</th>\n",
       "      <td>chr4</td>\n",
       "      <td>171230839</td>\n",
       "      <td>171230840</td>\n",
       "      <td>4:171230839</td>\n",
       "    </tr>\n",
       "    <tr>\n",
       "      <th>19:8830825</th>\n",
       "      <td>chr19</td>\n",
       "      <td>8830825</td>\n",
       "      <td>8830826</td>\n",
       "      <td>19:8830825</td>\n",
       "    </tr>\n",
       "  </tbody>\n",
       "</table>\n",
       "<p>3285470 rows × 4 columns</p>\n",
       "</div>"
      ],
      "text/plain": [
       "               chr      start        end          SNP\n",
       "CHROM:POS                                            \n",
       "3:165182446   chr3  165182446  165182447  3:165182446\n",
       "6:122682327   chr6  122682327  122682328  6:122682327\n",
       "22:40561759  chr22   40561759   40561760  22:40561759\n",
       "3:104381193   chr3  104381193  104381194  3:104381193\n",
       "15:57107863  chr15   57107863   57107864  15:57107863\n",
       "...            ...        ...        ...          ...\n",
       "19:45336035  chr19   45336035   45336036  19:45336035\n",
       "11:77505479  chr11   77505479   77505480  11:77505479\n",
       "3:185550881   chr3  185550881  185550882  3:185550881\n",
       "4:171230839   chr4  171230839  171230840  4:171230839\n",
       "19:8830825   chr19    8830825    8830826   19:8830825\n",
       "\n",
       "[3285470 rows x 4 columns]"
      ]
     },
     "execution_count": 14,
     "metadata": {},
     "output_type": "execute_result"
    }
   ],
   "source": [
    "snps"
   ]
  },
  {
   "cell_type": "code",
   "execution_count": 15,
   "id": "701f073d",
   "metadata": {},
   "outputs": [
    {
     "data": {
      "text/html": [
       "<div>\n",
       "<style scoped>\n",
       "    .dataframe tbody tr th:only-of-type {\n",
       "        vertical-align: middle;\n",
       "    }\n",
       "\n",
       "    .dataframe tbody tr th {\n",
       "        vertical-align: top;\n",
       "    }\n",
       "\n",
       "    .dataframe thead th {\n",
       "        text-align: right;\n",
       "    }\n",
       "</style>\n",
       "<table border=\"1\" class=\"dataframe\">\n",
       "  <thead>\n",
       "    <tr style=\"text-align: right;\">\n",
       "      <th></th>\n",
       "      <th>chr</th>\n",
       "      <th>start</th>\n",
       "      <th>end</th>\n",
       "      <th>SNP</th>\n",
       "      <th>peak</th>\n",
       "      <th>group</th>\n",
       "    </tr>\n",
       "  </thead>\n",
       "  <tbody>\n",
       "    <tr>\n",
       "      <th>114</th>\n",
       "      <td>chr15</td>\n",
       "      <td>31522409</td>\n",
       "      <td>31522410</td>\n",
       "      <td>15:31522409</td>\n",
       "      <td>31522409.0</td>\n",
       "      <td>B</td>\n",
       "    </tr>\n",
       "    <tr>\n",
       "      <th>123</th>\n",
       "      <td>chr20</td>\n",
       "      <td>52511323</td>\n",
       "      <td>52511324</td>\n",
       "      <td>20:52511323</td>\n",
       "      <td>52511323.0</td>\n",
       "      <td>B</td>\n",
       "    </tr>\n",
       "    <tr>\n",
       "      <th>350</th>\n",
       "      <td>chr10</td>\n",
       "      <td>111755319</td>\n",
       "      <td>111755320</td>\n",
       "      <td>10:111755319</td>\n",
       "      <td>111755319.0</td>\n",
       "      <td>B</td>\n",
       "    </tr>\n",
       "    <tr>\n",
       "      <th>553</th>\n",
       "      <td>chr10</td>\n",
       "      <td>76060488</td>\n",
       "      <td>76060489</td>\n",
       "      <td>10:76060488</td>\n",
       "      <td>76060488.0</td>\n",
       "      <td>B</td>\n",
       "    </tr>\n",
       "    <tr>\n",
       "      <th>955</th>\n",
       "      <td>chr5</td>\n",
       "      <td>58859074</td>\n",
       "      <td>58859075</td>\n",
       "      <td>5:58859074</td>\n",
       "      <td>58859074.0</td>\n",
       "      <td>B</td>\n",
       "    </tr>\n",
       "    <tr>\n",
       "      <th>...</th>\n",
       "      <td>...</td>\n",
       "      <td>...</td>\n",
       "      <td>...</td>\n",
       "      <td>...</td>\n",
       "      <td>...</td>\n",
       "      <td>...</td>\n",
       "    </tr>\n",
       "    <tr>\n",
       "      <th>3284563</th>\n",
       "      <td>chr22</td>\n",
       "      <td>44585521</td>\n",
       "      <td>44585522</td>\n",
       "      <td>22:44585521</td>\n",
       "      <td>44585521.0</td>\n",
       "      <td>B</td>\n",
       "    </tr>\n",
       "    <tr>\n",
       "      <th>3284791</th>\n",
       "      <td>chr22</td>\n",
       "      <td>22929466</td>\n",
       "      <td>22929467</td>\n",
       "      <td>22:22929466</td>\n",
       "      <td>22929466.0</td>\n",
       "      <td>B</td>\n",
       "    </tr>\n",
       "    <tr>\n",
       "      <th>3285160</th>\n",
       "      <td>chr20</td>\n",
       "      <td>33992761</td>\n",
       "      <td>33992762</td>\n",
       "      <td>20:33992761</td>\n",
       "      <td>33992761.0</td>\n",
       "      <td>B</td>\n",
       "    </tr>\n",
       "    <tr>\n",
       "      <th>3285173</th>\n",
       "      <td>chr15</td>\n",
       "      <td>40845952</td>\n",
       "      <td>40845953</td>\n",
       "      <td>15:40845952</td>\n",
       "      <td>40845952.0</td>\n",
       "      <td>B</td>\n",
       "    </tr>\n",
       "    <tr>\n",
       "      <th>3285448</th>\n",
       "      <td>chr9</td>\n",
       "      <td>36989746</td>\n",
       "      <td>36989747</td>\n",
       "      <td>9:36989746</td>\n",
       "      <td>36989746.0</td>\n",
       "      <td>B</td>\n",
       "    </tr>\n",
       "  </tbody>\n",
       "</table>\n",
       "<p>17890 rows × 6 columns</p>\n",
       "</div>"
      ],
      "text/plain": [
       "           chr      start        end           SNP         peak group\n",
       "114      chr15   31522409   31522410   15:31522409   31522409.0     B\n",
       "123      chr20   52511323   52511324   20:52511323   52511323.0     B\n",
       "350      chr10  111755319  111755320  10:111755319  111755319.0     B\n",
       "553      chr10   76060488   76060489   10:76060488   76060488.0     B\n",
       "955       chr5   58859074   58859075    5:58859074   58859074.0     B\n",
       "...        ...        ...        ...           ...          ...   ...\n",
       "3284563  chr22   44585521   44585522   22:44585521   44585521.0     B\n",
       "3284791  chr22   22929466   22929467   22:22929466   22929466.0     B\n",
       "3285160  chr20   33992761   33992762   20:33992761   33992761.0     B\n",
       "3285173  chr15   40845952   40845953   15:40845952   40845952.0     B\n",
       "3285448   chr9   36989746   36989747    9:36989746   36989746.0     B\n",
       "\n",
       "[17890 rows x 6 columns]"
      ]
     },
     "execution_count": 15,
     "metadata": {},
     "output_type": "execute_result"
    }
   ],
   "source": [
    "labeled_snps[~labeled_snps.peak.isnull()]"
   ]
  },
  {
   "cell_type": "code",
   "execution_count": 83,
   "id": "61dbefd9",
   "metadata": {},
   "outputs": [
    {
     "data": {
      "text/html": [
       "<div>\n",
       "<style scoped>\n",
       "    .dataframe tbody tr th:only-of-type {\n",
       "        vertical-align: middle;\n",
       "    }\n",
       "\n",
       "    .dataframe tbody tr th {\n",
       "        vertical-align: top;\n",
       "    }\n",
       "\n",
       "    .dataframe thead th {\n",
       "        text-align: right;\n",
       "    }\n",
       "</style>\n",
       "<table border=\"1\" class=\"dataframe\">\n",
       "  <thead>\n",
       "    <tr style=\"text-align: right;\">\n",
       "      <th></th>\n",
       "      <th>chr</th>\n",
       "      <th>start</th>\n",
       "      <th>stop</th>\n",
       "      <th>group</th>\n",
       "    </tr>\n",
       "  </thead>\n",
       "  <tbody>\n",
       "    <tr>\n",
       "      <th>1446</th>\n",
       "      <td>chr10</td>\n",
       "      <td>7513338</td>\n",
       "      <td>7514350</td>\n",
       "      <td>B</td>\n",
       "    </tr>\n",
       "  </tbody>\n",
       "</table>\n",
       "</div>"
      ],
      "text/plain": [
       "        chr    start     stop group\n",
       "1446  chr10  7513338  7514350     B"
      ]
     },
     "execution_count": 83,
     "metadata": {},
     "output_type": "execute_result"
    }
   ],
   "source": [
    "atac_ct.query('start < 7513809 & stop > 7513809')"
   ]
  },
  {
   "cell_type": "code",
   "execution_count": 80,
   "id": "daf1295e",
   "metadata": {},
   "outputs": [
    {
     "data": {
      "text/html": [
       "<div>\n",
       "<style scoped>\n",
       "    .dataframe tbody tr th:only-of-type {\n",
       "        vertical-align: middle;\n",
       "    }\n",
       "\n",
       "    .dataframe tbody tr th {\n",
       "        vertical-align: top;\n",
       "    }\n",
       "\n",
       "    .dataframe thead th {\n",
       "        text-align: right;\n",
       "    }\n",
       "</style>\n",
       "<table border=\"1\" class=\"dataframe\">\n",
       "  <thead>\n",
       "    <tr style=\"text-align: right;\">\n",
       "      <th></th>\n",
       "      <th>group</th>\n",
       "    </tr>\n",
       "    <tr>\n",
       "      <th>peak</th>\n",
       "      <th></th>\n",
       "    </tr>\n",
       "  </thead>\n",
       "  <tbody>\n",
       "    <tr>\n",
       "      <th>7513809</th>\n",
       "      <td>B</td>\n",
       "    </tr>\n",
       "    <tr>\n",
       "      <th>7513809</th>\n",
       "      <td>B</td>\n",
       "    </tr>\n",
       "  </tbody>\n",
       "</table>\n",
       "</div>"
      ],
      "text/plain": [
       "        group\n",
       "peak         \n",
       "7513809     B\n",
       "7513809     B"
      ]
     },
     "execution_count": 80,
     "metadata": {},
     "output_type": "execute_result"
    }
   ],
   "source": [
    "df_atac.loc[7513809]"
   ]
  },
  {
   "cell_type": "code",
   "execution_count": 79,
   "id": "4212847f",
   "metadata": {},
   "outputs": [
    {
     "data": {
      "text/html": [
       "<div>\n",
       "<style scoped>\n",
       "    .dataframe tbody tr th:only-of-type {\n",
       "        vertical-align: middle;\n",
       "    }\n",
       "\n",
       "    .dataframe tbody tr th {\n",
       "        vertical-align: top;\n",
       "    }\n",
       "\n",
       "    .dataframe thead th {\n",
       "        text-align: right;\n",
       "    }\n",
       "</style>\n",
       "<table border=\"1\" class=\"dataframe\">\n",
       "  <thead>\n",
       "    <tr style=\"text-align: right;\">\n",
       "      <th></th>\n",
       "      <th>group</th>\n",
       "    </tr>\n",
       "    <tr>\n",
       "      <th>peak</th>\n",
       "      <th></th>\n",
       "    </tr>\n",
       "  </thead>\n",
       "  <tbody>\n",
       "    <tr>\n",
       "      <th>7513809</th>\n",
       "      <td>B</td>\n",
       "    </tr>\n",
       "    <tr>\n",
       "      <th>7513810</th>\n",
       "      <td>B</td>\n",
       "    </tr>\n",
       "    <tr>\n",
       "      <th>7513811</th>\n",
       "      <td>B</td>\n",
       "    </tr>\n",
       "    <tr>\n",
       "      <th>7513812</th>\n",
       "      <td>B</td>\n",
       "    </tr>\n",
       "    <tr>\n",
       "      <th>7513813</th>\n",
       "      <td>B</td>\n",
       "    </tr>\n",
       "    <tr>\n",
       "      <th>...</th>\n",
       "      <td>...</td>\n",
       "    </tr>\n",
       "    <tr>\n",
       "      <th>140586492</th>\n",
       "      <td>B</td>\n",
       "    </tr>\n",
       "    <tr>\n",
       "      <th>140586493</th>\n",
       "      <td>B</td>\n",
       "    </tr>\n",
       "    <tr>\n",
       "      <th>140586494</th>\n",
       "      <td>B</td>\n",
       "    </tr>\n",
       "    <tr>\n",
       "      <th>140586495</th>\n",
       "      <td>B</td>\n",
       "    </tr>\n",
       "    <tr>\n",
       "      <th>140586496</th>\n",
       "      <td>B</td>\n",
       "    </tr>\n",
       "  </tbody>\n",
       "</table>\n",
       "<p>533977 rows × 1 columns</p>\n",
       "</div>"
      ],
      "text/plain": [
       "          group\n",
       "peak           \n",
       "7513809       B\n",
       "7513810       B\n",
       "7513811       B\n",
       "7513812       B\n",
       "7513813       B\n",
       "...         ...\n",
       "140586492     B\n",
       "140586493     B\n",
       "140586494     B\n",
       "140586495     B\n",
       "140586496     B\n",
       "\n",
       "[533977 rows x 1 columns]"
      ]
     },
     "execution_count": 79,
     "metadata": {},
     "output_type": "execute_result"
    }
   ],
   "source": [
    "df_atac.loc[df_atac.index.duplicated()]"
   ]
  },
  {
   "cell_type": "code",
   "execution_count": 74,
   "id": "2c04fafa",
   "metadata": {},
   "outputs": [],
   "source": [
    "snp_peaks = snps.set_index('start').join(df_atac, how='left')"
   ]
  },
  {
   "cell_type": "code",
   "execution_count": 76,
   "id": "091e5f86",
   "metadata": {},
   "outputs": [
    {
     "data": {
      "text/plain": [
       "(3285470, 4)"
      ]
     },
     "execution_count": 76,
     "metadata": {},
     "output_type": "execute_result"
    }
   ],
   "source": [
    "snps.shape"
   ]
  },
  {
   "cell_type": "code",
   "execution_count": 77,
   "id": "9ac3d046",
   "metadata": {},
   "outputs": [
    {
     "data": {
      "text/plain": [
       "11597"
      ]
     },
     "execution_count": 77,
     "metadata": {},
     "output_type": "execute_result"
    }
   ],
   "source": [
    "3297067-3285470"
   ]
  },
  {
   "cell_type": "code",
   "execution_count": 75,
   "id": "d13081cc",
   "metadata": {},
   "outputs": [
    {
     "data": {
      "text/html": [
       "<div>\n",
       "<style scoped>\n",
       "    .dataframe tbody tr th:only-of-type {\n",
       "        vertical-align: middle;\n",
       "    }\n",
       "\n",
       "    .dataframe tbody tr th {\n",
       "        vertical-align: top;\n",
       "    }\n",
       "\n",
       "    .dataframe thead th {\n",
       "        text-align: right;\n",
       "    }\n",
       "</style>\n",
       "<table border=\"1\" class=\"dataframe\">\n",
       "  <thead>\n",
       "    <tr style=\"text-align: right;\">\n",
       "      <th></th>\n",
       "      <th>chr</th>\n",
       "      <th>end</th>\n",
       "      <th>SNP</th>\n",
       "      <th>group</th>\n",
       "    </tr>\n",
       "  </thead>\n",
       "  <tbody>\n",
       "    <tr>\n",
       "      <th>828</th>\n",
       "      <td>chr17</td>\n",
       "      <td>829</td>\n",
       "      <td>17:828</td>\n",
       "      <td>NaN</td>\n",
       "    </tr>\n",
       "    <tr>\n",
       "      <th>834</th>\n",
       "      <td>chr17</td>\n",
       "      <td>835</td>\n",
       "      <td>17:834</td>\n",
       "      <td>NaN</td>\n",
       "    </tr>\n",
       "    <tr>\n",
       "      <th>2041</th>\n",
       "      <td>chr17</td>\n",
       "      <td>2042</td>\n",
       "      <td>17:2041</td>\n",
       "      <td>B</td>\n",
       "    </tr>\n",
       "    <tr>\n",
       "      <th>2220</th>\n",
       "      <td>chr17</td>\n",
       "      <td>2221</td>\n",
       "      <td>17:2220</td>\n",
       "      <td>NaN</td>\n",
       "    </tr>\n",
       "    <tr>\n",
       "      <th>2564</th>\n",
       "      <td>chr17</td>\n",
       "      <td>2565</td>\n",
       "      <td>17:2564</td>\n",
       "      <td>NaN</td>\n",
       "    </tr>\n",
       "    <tr>\n",
       "      <th>...</th>\n",
       "      <td>...</td>\n",
       "      <td>...</td>\n",
       "      <td>...</td>\n",
       "      <td>...</td>\n",
       "    </tr>\n",
       "    <tr>\n",
       "      <th>249172187</th>\n",
       "      <td>chr1</td>\n",
       "      <td>249172188</td>\n",
       "      <td>1:249172187</td>\n",
       "      <td>NaN</td>\n",
       "    </tr>\n",
       "    <tr>\n",
       "      <th>249182887</th>\n",
       "      <td>chr1</td>\n",
       "      <td>249182888</td>\n",
       "      <td>1:249182887</td>\n",
       "      <td>NaN</td>\n",
       "    </tr>\n",
       "    <tr>\n",
       "      <th>249191706</th>\n",
       "      <td>chr1</td>\n",
       "      <td>249191707</td>\n",
       "      <td>1:249191706</td>\n",
       "      <td>NaN</td>\n",
       "    </tr>\n",
       "    <tr>\n",
       "      <th>249200985</th>\n",
       "      <td>chr1</td>\n",
       "      <td>249200986</td>\n",
       "      <td>1:249200985</td>\n",
       "      <td>NaN</td>\n",
       "    </tr>\n",
       "    <tr>\n",
       "      <th>249201268</th>\n",
       "      <td>chr1</td>\n",
       "      <td>249201269</td>\n",
       "      <td>1:249201268</td>\n",
       "      <td>NaN</td>\n",
       "    </tr>\n",
       "  </tbody>\n",
       "</table>\n",
       "<p>3297067 rows × 4 columns</p>\n",
       "</div>"
      ],
      "text/plain": [
       "             chr        end          SNP group\n",
       "828        chr17        829       17:828   NaN\n",
       "834        chr17        835       17:834   NaN\n",
       "2041       chr17       2042      17:2041     B\n",
       "2220       chr17       2221      17:2220   NaN\n",
       "2564       chr17       2565      17:2564   NaN\n",
       "...          ...        ...          ...   ...\n",
       "249172187   chr1  249172188  1:249172187   NaN\n",
       "249182887   chr1  249182888  1:249182887   NaN\n",
       "249191706   chr1  249191707  1:249191706   NaN\n",
       "249200985   chr1  249200986  1:249200985   NaN\n",
       "249201268   chr1  249201269  1:249201268   NaN\n",
       "\n",
       "[3297067 rows x 4 columns]"
      ]
     },
     "execution_count": 75,
     "metadata": {},
     "output_type": "execute_result"
    }
   ],
   "source": [
    "snp_peaks"
   ]
  },
  {
   "cell_type": "code",
   "execution_count": null,
   "id": "e5a9ed71",
   "metadata": {},
   "outputs": [],
   "source": []
  },
  {
   "cell_type": "code",
   "execution_count": null,
   "id": "82eb5f0d",
   "metadata": {},
   "outputs": [],
   "source": []
  },
  {
   "cell_type": "code",
   "execution_count": 48,
   "id": "84027f64",
   "metadata": {},
   "outputs": [],
   "source": [
    "snps_bed = BedTool.from_dataframe(snps.reset_index(drop=True))"
   ]
  },
  {
   "cell_type": "code",
   "execution_count": 49,
   "id": "3d3daf6e",
   "metadata": {},
   "outputs": [],
   "source": [
    "atac_bed = BedTool.from_dataframe(atac)"
   ]
  },
  {
   "cell_type": "code",
   "execution_count": 54,
   "id": "6355c72b",
   "metadata": {},
   "outputs": [
    {
     "name": "stderr",
     "output_type": "stream",
     "text": [
      "/home/ssm-user/anaconda3/envs/single_cell/lib/python3.8/subprocess.py:853: RuntimeWarning: line buffering (buffering=1) isn't supported in binary mode, the default buffer size will be used\n",
      "  self.stderr = io.open(errread, 'rb', bufsize)\n"
     ]
    }
   ],
   "source": [
    "intersection = atac_bed.intersect(snps_bed).to_dataframe()"
   ]
  },
  {
   "cell_type": "code",
   "execution_count": 65,
   "id": "9b0e991a",
   "metadata": {},
   "outputs": [
    {
     "data": {
      "text/plain": [
       "<BedTool(/tmp/pybedtools.a_qoxjw7.tmp)>"
      ]
     },
     "execution_count": 65,
     "metadata": {},
     "output_type": "execute_result"
    }
   ],
   "source": [
    "snps_bed"
   ]
  },
  {
   "cell_type": "code",
   "execution_count": 61,
   "id": "456d8b02",
   "metadata": {},
   "outputs": [],
   "source": [
    "intersection['SNP'] = intersection['chrom'].str[3:] + ':' + intersection['start'].astype(str)"
   ]
  },
  {
   "cell_type": "code",
   "execution_count": 63,
   "id": "565f6a4a",
   "metadata": {},
   "outputs": [
    {
     "data": {
      "text/plain": [
       "(254119,)"
      ]
     },
     "execution_count": 63,
     "metadata": {},
     "output_type": "execute_result"
    }
   ],
   "source": [
    "intersection['SNP'].drop_duplicates().shape"
   ]
  },
  {
   "cell_type": "code",
   "execution_count": 64,
   "id": "a9323953",
   "metadata": {},
   "outputs": [
    {
     "data": {
      "text/plain": [
       "(254119, 5)"
      ]
     },
     "execution_count": 64,
     "metadata": {},
     "output_type": "execute_result"
    }
   ],
   "source": [
    "intersection.shape"
   ]
  },
  {
   "cell_type": "code",
   "execution_count": 59,
   "id": "a0a8582b",
   "metadata": {},
   "outputs": [
    {
     "data": {
      "text/html": [
       "<div>\n",
       "<style scoped>\n",
       "    .dataframe tbody tr th:only-of-type {\n",
       "        vertical-align: middle;\n",
       "    }\n",
       "\n",
       "    .dataframe tbody tr th {\n",
       "        vertical-align: top;\n",
       "    }\n",
       "\n",
       "    .dataframe thead th {\n",
       "        text-align: right;\n",
       "    }\n",
       "</style>\n",
       "<table border=\"1\" class=\"dataframe\">\n",
       "  <thead>\n",
       "    <tr style=\"text-align: right;\">\n",
       "      <th></th>\n",
       "      <th>chrom</th>\n",
       "      <th>start</th>\n",
       "      <th>end</th>\n",
       "      <th>name</th>\n",
       "    </tr>\n",
       "  </thead>\n",
       "  <tbody>\n",
       "    <tr>\n",
       "      <th>0</th>\n",
       "      <td>chr1</td>\n",
       "      <td>1778090</td>\n",
       "      <td>1778091</td>\n",
       "      <td>B</td>\n",
       "    </tr>\n",
       "    <tr>\n",
       "      <th>1</th>\n",
       "      <td>chr1</td>\n",
       "      <td>1778469</td>\n",
       "      <td>1778470</td>\n",
       "      <td>B</td>\n",
       "    </tr>\n",
       "    <tr>\n",
       "      <th>2</th>\n",
       "      <td>chr1</td>\n",
       "      <td>1796616</td>\n",
       "      <td>1796617</td>\n",
       "      <td>B</td>\n",
       "    </tr>\n",
       "    <tr>\n",
       "      <th>3</th>\n",
       "      <td>chr1</td>\n",
       "      <td>2319428</td>\n",
       "      <td>2319429</td>\n",
       "      <td>B</td>\n",
       "    </tr>\n",
       "    <tr>\n",
       "      <th>4</th>\n",
       "      <td>chr1</td>\n",
       "      <td>2513055</td>\n",
       "      <td>2513056</td>\n",
       "      <td>B</td>\n",
       "    </tr>\n",
       "  </tbody>\n",
       "</table>\n",
       "</div>"
      ],
      "text/plain": [
       "  chrom    start      end name\n",
       "0  chr1  1778090  1778091    B\n",
       "1  chr1  1778469  1778470    B\n",
       "2  chr1  1796616  1796617    B\n",
       "3  chr1  2319428  2319429    B\n",
       "4  chr1  2513055  2513056    B"
      ]
     },
     "execution_count": 59,
     "metadata": {},
     "output_type": "execute_result"
    }
   ],
   "source": [
    "intersection.head(5)"
   ]
  },
  {
   "cell_type": "code",
   "execution_count": null,
   "id": "49bd353b",
   "metadata": {},
   "outputs": [],
   "source": []
  }
 ],
 "metadata": {
  "kernelspec": {
   "display_name": "Python 3 (ipykernel)",
   "language": "python",
   "name": "python3"
  },
  "language_info": {
   "codemirror_mode": {
    "name": "ipython",
    "version": 3
   },
   "file_extension": ".py",
   "mimetype": "text/x-python",
   "name": "python",
   "nbconvert_exporter": "python",
   "pygments_lexer": "ipython3",
   "version": "3.8.8"
  }
 },
 "nbformat": 4,
 "nbformat_minor": 5
}
