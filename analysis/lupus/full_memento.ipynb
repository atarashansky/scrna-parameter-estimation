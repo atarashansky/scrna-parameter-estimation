{
 "cells": [
  {
   "cell_type": "markdown",
   "id": "00139a67",
   "metadata": {},
   "source": [
    "# Run eQTL analysis for lupus data\n",
    "\n",
    "pkill -9 -f joblib"
   ]
  },
  {
   "cell_type": "code",
   "execution_count": 1,
   "id": "96eee9c5",
   "metadata": {},
   "outputs": [
    {
     "ename": "IndentationError",
     "evalue": "unexpected indent (296951744.py, line 7)",
     "output_type": "error",
     "traceback": [
      "\u001b[0;36m  File \u001b[0;32m\"/tmp/ipykernel_26312/296951744.py\"\u001b[0;36m, line \u001b[0;32m7\u001b[0m\n\u001b[0;31m    import itertools\u001b[0m\n\u001b[0m    ^\u001b[0m\n\u001b[0;31mIndentationError\u001b[0m\u001b[0;31m:\u001b[0m unexpected indent\n"
     ]
    }
   ],
   "source": [
    "import scanpy as sc\n",
    "import seaborn as sns\n",
    "import pandas as pd\n",
    "import matplotlib.pyplot as plt\n",
    "import numpy as np\n",
    "import scipy.stats as stats\n",
    "                    import itertools\n",
    "from pybedtools import BedTool\n",
    "import statsmodels.formula.api as smf\n",
    "import statsmodels.api as sm\n",
    "import imp\n",
    "\n",
    "import os\n",
    "import pickle as pkl\n",
    "%matplotlib inline"
   ]
  },
  {
   "cell_type": "code",
   "execution_count": 2,
   "id": "f2ce9692",
   "metadata": {},
   "outputs": [],
   "source": [
    "import sys\n",
    "sys.path.append('/home/ssm-user/Github/scrna-parameter-estimation/dist/memento-0.0.8-py3.8.egg')\n",
    "sys.path.append('/home/ssm-user/Github/misc-seq/miscseq/')\n",
    "import encode\n",
    "import memento\n",
    "import run_memento"
   ]
  },
  {
   "cell_type": "code",
   "execution_count": 6,
   "id": "34a41983",
   "metadata": {},
   "outputs": [],
   "source": [
    "data_path  = '/data_volume/memento/lupus/'"
   ]
  },
  {
   "cell_type": "markdown",
   "id": "539c0cc8",
   "metadata": {},
   "source": [
    "### Get SNP gene pairs from Gracie's output for sanity checking"
   ]
  },
  {
   "cell_type": "code",
   "execution_count": 4,
   "id": "87f8645c",
   "metadata": {},
   "outputs": [],
   "source": [
    "# gs_pairs_mine = pd.read_csv(data_path +'mateqtl_input/{}/gene_snp_pairs_{}.csv'.format('eur', '100kb'))"
   ]
  },
  {
   "cell_type": "code",
   "execution_count": 5,
   "id": "817aef2b",
   "metadata": {},
   "outputs": [],
   "source": [
    "# gracie_nk = pd.read_csv(data_path + 'gracie_eqtls/nk_metasoft_out.txt', sep='\\t', skiprows=1, header=None).iloc[:, :3]"
   ]
  },
  {
   "cell_type": "code",
   "execution_count": 6,
   "id": "aea0e5e5",
   "metadata": {},
   "outputs": [],
   "source": [
    "# gene_snp_pairs_new = pd.DataFrame()\n",
    "# gene_snp_pairs_new['gene'] = gracie_nk.iloc[:, 0].str.split('_').str[1]\n",
    "# gene_snp_pairs_new['rsid'] = gracie_nk.iloc[:, 0].str.split('_').str[0]"
   ]
  },
  {
   "cell_type": "code",
   "execution_count": 7,
   "id": "d428bbf6",
   "metadata": {},
   "outputs": [],
   "source": [
    "# gene_snp_pairs_new.to_csv(data_path + 'gracie_eqtls/gene_snp_pairs.csv', index=False)"
   ]
  },
  {
   "cell_type": "markdown",
   "id": "593094f3",
   "metadata": {},
   "source": [
    "### Run memento on full gene-SNP pairs"
   ]
  },
  {
   "cell_type": "code",
   "execution_count": null,
   "id": "f6715e83",
   "metadata": {},
   "outputs": [],
   "source": [
    "# gracie window\n",
    "imp.reload(run_memento)\n",
    "for pop in ['asian','eur']:\n",
    "    print('---', pop, '---')\n",
    "    run_memento.run_full(pop)"
   ]
  },
  {
   "cell_type": "markdown",
   "id": "4a026ac6",
   "metadata": {},
   "source": [
    "### Combine blocks"
   ]
  },
  {
   "cell_type": "code",
   "execution_count": 9,
   "id": "287f5ab2",
   "metadata": {},
   "outputs": [
    {
     "name": "stdout",
     "output_type": "stream",
     "text": [
      "48863\n",
      "93693\n",
      "35330\n",
      "53100\n",
      "35401\n",
      "20379\n",
      "61242\n",
      "93087\n",
      "35766\n",
      "32052\n",
      "29423\n",
      "22323\n"
     ]
    }
   ],
   "source": [
    "for pop in ['asian', 'eur']:\n",
    "    for ct in ['T4', 'cM', 'ncM', 'T8', 'B', 'NK']:\n",
    "        result = []\n",
    "        for block in range(5):\n",
    "            result.append(pd.read_csv('/data_volume/memento/lupus/memento_full/100kb/{}_{}_block_{}.csv'.format(pop, ct, block)))\n",
    "        result = pd.concat(result)\n",
    "        result['FDR'] = memento.util._fdrcorrect(result['de_pval'])\n",
    "        result['statistic'] = result['de_coef']/result['de_se']\n",
    "        result = result[['tx', 'gene', 'statistic', 'de_pval', 'FDR','de_coef']]\n",
    "        result.columns = [\"SNP\",\"gene\",\"t-stat\",\"p-value\",\"FDR\",\"beta\"]\n",
    "        print(result.query('FDR < 0.1').shape[0])\n",
    "        result.to_csv(data_path + 'full_analysis/memento/100kb/{}_{}.csv'.format(pop, ct), index=False)"
   ]
  },
  {
   "cell_type": "markdown",
   "id": "d57b7fc4",
   "metadata": {},
   "source": [
    "### Select genes from pseudobulk for Matrix eQTL"
   ]
  },
  {
   "cell_type": "code",
   "execution_count": 2,
   "id": "f6ab7b38",
   "metadata": {},
   "outputs": [],
   "source": [
    "cts = ['T4', 'cM', 'ncM', 'T8', 'B', 'NK']"
   ]
  },
  {
   "cell_type": "code",
   "execution_count": 7,
   "id": "13754893",
   "metadata": {},
   "outputs": [
    {
     "name": "stdout",
     "output_type": "stream",
     "text": [
      "asian T4\n",
      "asian cM\n",
      "asian ncM\n",
      "asian T8\n",
      "asian B\n",
      "asian NK\n",
      "eur T4\n",
      "eur cM\n",
      "eur ncM\n",
      "eur T8\n",
      "eur B\n",
      "eur NK\n"
     ]
    }
   ],
   "source": [
    "for pop in ['asian', 'eur']:\n",
    "    for ct in cts:\n",
    "        print(pop, ct)\n",
    "        results = pd.read_csv(data_path + 'full_analysis/memento/100kb/{}_{}.csv'.format(pop, ct))\n",
    "\n",
    "        pseudobulk = pd.read_csv(data_path + 'pseudobulk/{}_{}.csv'.format(pop, ct), index_col=0, sep='\\t')\n",
    "        pseudobulk = pseudobulk.loc[:, results['gene'].drop_duplicates().tolist()]\n",
    "        pseudobulk.T.to_csv(data_path + 'full_analysis/mateqtl/pseudobulk/{}_{}.csv'.format(pop, ct), sep='\\t')"
   ]
  }
 ],
 "metadata": {
  "kernelspec": {
   "display_name": "Python 3 (ipykernel)",
   "language": "python",
   "name": "python3"
  },
  "language_info": {
   "codemirror_mode": {
    "name": "ipython",
    "version": 3
   },
   "file_extension": ".py",
   "mimetype": "text/x-python",
   "name": "python",
   "nbconvert_exporter": "python",
   "pygments_lexer": "ipython3",
   "version": "3.8.8"
  }
 },
 "nbformat": 4,
 "nbformat_minor": 5
}
