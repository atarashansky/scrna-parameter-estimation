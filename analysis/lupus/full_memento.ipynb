{
 "cells": [
  {
   "cell_type": "markdown",
   "id": "e93c8054",
   "metadata": {},
   "source": [
    "# Run eQTL analysis for lupus data\n",
    "\n",
    "pkill -9 -f joblib"
   ]
  },
  {
   "cell_type": "code",
   "execution_count": 2,
   "id": "84203674",
   "metadata": {},
   "outputs": [],
   "source": [
    "import scanpy as sc\n",
    "import seaborn as sns\n",
    "import pandas as pd\n",
    "import matplotlib.pyplot as plt\n",
    "import numpy as np\n",
    "import scipy.stats as stats\n",
    "import itertools\n",
    "from pybedtools import BedTool\n",
    "import statsmodels.formula.api as smf\n",
    "import statsmodels.api as sm\n",
    "import imp\n",
    "\n",
    "import os\n",
    "import pickle as pkl\n",
    "%matplotlib inline"
   ]
  },
  {
   "cell_type": "code",
   "execution_count": 3,
   "id": "1195024b",
   "metadata": {},
   "outputs": [],
   "source": [
    "import sys\n",
    "sys.path.append('/home/ssm-user/Github/scrna-parameter-estimation/dist/memento-0.0.8-py3.8.egg')\n",
    "sys.path.append('/home/ssm-user/Github/misc-seq/miscseq/')\n",
    "import encode\n",
    "import memento\n",
    "import run_memento"
   ]
  },
  {
   "cell_type": "code",
   "execution_count": 4,
   "id": "d5e9ba7c",
   "metadata": {},
   "outputs": [],
   "source": [
    "data_path  = '/data_volume/memento/lupus/'"
   ]
  },
  {
   "cell_type": "markdown",
   "id": "21ed0801",
   "metadata": {},
   "source": [
    "### Get SNP gene pairs from Gracie's output"
   ]
  },
  {
   "cell_type": "code",
   "execution_count": 5,
   "id": "f889d086",
   "metadata": {},
   "outputs": [],
   "source": [
    "gs_pairs_mine = pd.read_csv(data_path +'mateqtl_input/{}/gene_snp_pairs_{}.csv'.format('eur', '100kb'))"
   ]
  },
  {
   "cell_type": "code",
   "execution_count": 6,
   "id": "d8b82377",
   "metadata": {},
   "outputs": [
    {
     "name": "stderr",
     "output_type": "stream",
     "text": [
      "/home/ssm-user/anaconda3/envs/single_cell/lib/python3.8/site-packages/IPython/core/interactiveshell.py:3444: DtypeWarning: Columns (5,6,8,10) have mixed types.Specify dtype option on import or set low_memory=False.\n",
      "  exec(code_obj, self.user_global_ns, self.user_ns)\n"
     ]
    }
   ],
   "source": [
    "gracie_nk = pd.read_csv(data_path + 'gracie_eqtls/nk_metasoft_out.txt', sep='\\t', skiprows=1, header=None).iloc[:, :3]"
   ]
  },
  {
   "cell_type": "code",
   "execution_count": 26,
   "id": "1b186bf3",
   "metadata": {},
   "outputs": [],
   "source": [
    "gene_snp_pairs_new = pd.DataFrame()\n",
    "gene_snp_pairs_new['gene'] = gracie_nk.iloc[:, 0].str.split('_').str[1]\n",
    "gene_snp_pairs_new['rsid'] = gracie_nk.iloc[:, 0].str.split('_').str[0]"
   ]
  },
  {
   "cell_type": "code",
   "execution_count": 29,
   "id": "df2ef8fa",
   "metadata": {},
   "outputs": [],
   "source": [
    "gene_snp_pairs_new.to_csv(data_path + 'gracie_eqtls/gene_snp_pairs.csv', index=False)"
   ]
  },
  {
   "cell_type": "markdown",
   "id": "da969f06",
   "metadata": {},
   "source": [
    "### Run memento on full gene-SNP pairs"
   ]
  },
  {
   "cell_type": "code",
   "execution_count": null,
   "id": "93898e1e",
   "metadata": {},
   "outputs": [],
   "source": [
    "# gracie window\n",
    "imp.reload(run_memento)\n",
    "for pop in ['eur']:\n",
    "    print('---', pop, '---')\n",
    "    run_memento.run_full(pop)"
   ]
  },
  {
   "cell_type": "markdown",
   "id": "4425af47",
   "metadata": {},
   "source": [
    "### Combine blocks"
   ]
  },
  {
   "cell_type": "code",
   "execution_count": 5,
   "id": "3ff74c05",
   "metadata": {},
   "outputs": [
    {
     "name": "stdout",
     "output_type": "stream",
     "text": [
      "59597\n",
      "89345\n",
      "33826\n",
      "32262\n",
      "26789\n",
      "20907\n"
     ]
    }
   ],
   "source": [
    "for ct in ['T4', 'cM', 'ncM', 'T8', 'B', 'NK']:\n",
    "    result = []\n",
    "    for block in range(3):\n",
    "        result.append(pd.read_csv('/data_volume/memento/lupus/memento_full/gracie/{}_{}_block_{}.csv'.format('eur', ct, block)))\n",
    "    result = pd.concat(result)\n",
    "    result['FDR'] = memento.util._fdrcorrect(result['de_pval'])\n",
    "    result['statistic'] = result['de_coef']/result['de_se']\n",
    "    result = result[['tx', 'gene', 'statistic', 'de_pval', 'FDR','de_coef']]\n",
    "    result.columns = [\"SNP\",\"gene\",\"statistic\",\"pvalue\",\"FDR\",\"beta\"]\n",
    "    print(result.query('FDR < 0.1').shape[0])\n",
    "    result.to_csv(data_path + 'full_analysis/memento/gracie/{}_{}.csv'.format('eur', ct), index=False)"
   ]
  },
  {
   "cell_type": "markdown",
   "id": "08d24e15",
   "metadata": {},
   "source": [
    "### Select genes from pseudobulk for Matrix eQTL"
   ]
  },
  {
   "cell_type": "code",
   "execution_count": 2,
   "id": "4b2193cb",
   "metadata": {},
   "outputs": [],
   "source": [
    "cts = ['T4', 'cM', 'ncM', 'T8', 'B', 'NK']"
   ]
  },
  {
   "cell_type": "code",
   "execution_count": 8,
   "id": "9799f9a2",
   "metadata": {},
   "outputs": [
    {
     "name": "stdout",
     "output_type": "stream",
     "text": [
      "asian T4\n",
      "asian cM\n",
      "asian ncM\n",
      "asian T8\n",
      "asian B\n",
      "asian NK\n",
      "eur T4\n",
      "eur cM\n",
      "eur ncM\n",
      "eur T8\n",
      "eur B\n",
      "eur NK\n"
     ]
    }
   ],
   "source": [
    "for pop in ['asian', 'eur']:\n",
    "    for ct in cts:\n",
    "        print(pop, ct)\n",
    "        results = pd.read_csv(data_path + 'full_analysis/memento/gracie/{}_{}.csv'.format(pop, ct))\n",
    "\n",
    "        pseudobulk = pd.read_csv(data_path + 'pseudobulk/{}_{}.csv'.format(pop, ct), index_col=0, sep='\\t')\n",
    "        pseudobulk = pseudobulk.loc[:, results['gene'].drop_duplicates().tolist()]\n",
    "        pseudobulk.T.to_csv(data_path + 'mateqtl_input/full_pseudobulk/{}_{}.csv'.format(pop, ct), sep='\\t')"
   ]
  },
  {
   "cell_type": "markdown",
   "id": "b322b18a",
   "metadata": {},
   "source": [
    "### Call hits"
   ]
  },
  {
   "cell_type": "code",
   "execution_count": 14,
   "id": "d8c9daf6",
   "metadata": {},
   "outputs": [
    {
     "name": "stdout",
     "output_type": "stream",
     "text": [
      "asian T4\n",
      "15924\n",
      "asian cM\n",
      "25658\n",
      "asian ncM\n",
      "11490\n",
      "asian T8\n",
      "19913\n",
      "asian B\n",
      "13682\n",
      "asian NK\n",
      "6840\n",
      "eur T4\n",
      "20544\n",
      "eur cM\n",
      "28242\n",
      "eur ncM\n",
      "11337\n",
      "eur T8\n",
      "11956\n",
      "eur B\n",
      "13654\n",
      "eur NK\n",
      "7369\n"
     ]
    }
   ],
   "source": [
    "for pop in ['asian', 'eur']:\n",
    "    for ct in cts:\n",
    "        print(pop, ct)\n",
    "        result = pd.read_csv('/data_volume/memento/lupus/memento_full/100kb/{}_{}.csv'.format(pop, ct))\n",
    "        result['FDR'] = memento.util._fdrcorrect(result['de_pval'])\n",
    "        result['statistic'] = result['de_coef']/result['de_se']\n",
    "        result = result[['tx', 'gene', 'statistic', 'de_pval', 'FDR','de_coef']]\n",
    "        result.columns = [\"SNP\",\"gene\",\"statistic\",\"p.value\",\"FDR\",\"beta\"]\n",
    "        print(result.query('FDR < 0.1').shape[0])\n",
    "        result.to_csv(data_path + 'full_analysis/memento/hits/{}_{}.csv'.format(pop, ct), index=False)"
   ]
  },
  {
   "cell_type": "code",
   "execution_count": 15,
   "id": "500ffe55",
   "metadata": {},
   "outputs": [
    {
     "name": "stdout",
     "output_type": "stream",
     "text": [
      "asian T4\n",
      "asian cM\n",
      "asian ncM\n",
      "asian T8\n",
      "asian B\n",
      "asian NK\n",
      "eur T4\n",
      "eur cM\n",
      "eur ncM\n",
      "eur T8\n",
      "eur B\n",
      "eur NK\n"
     ]
    }
   ],
   "source": [
    "for pop in ['asian', 'eur']:\n",
    "    for ct in cts:\n",
    "        print(pop, ct)\n",
    "        result = pd.read_csv(data_path + 'full_analysis/memento/hits/{}_{}.csv'.format(pop, ct))\n",
    "        result[['gene']].drop_duplicates()\\\n",
    "            .to_csv(data_path + 'atac_enrichment/expr_genes/{}_{}.csv'.format(pop, ct), index=False, header=False)\n",
    "        result.query('FDR < 0.1').to_csv(data_path + 'full_analysis/memento/hits/{}_{}_sig.csv'.format(pop, ct), index=False)"
   ]
  },
  {
   "cell_type": "markdown",
   "id": "7f7adbda",
   "metadata": {},
   "source": [
    "### Matrix eQTL results"
   ]
  },
  {
   "cell_type": "code",
   "execution_count": 17,
   "id": "32de11a4",
   "metadata": {},
   "outputs": [],
   "source": [
    "df = pd.read_csv('/data_volume/memento/lupus/full_analysis/mateqtl/outputs/asian_NK.csv', sep='\\t')"
   ]
  },
  {
   "cell_type": "code",
   "execution_count": 20,
   "id": "d61434fb",
   "metadata": {},
   "outputs": [],
   "source": [
    "df.query('FDR < 0.1').to_csv('/data_volume/memento/lupus/full_analysis/mateqtl/outputs/asian_NK_sig.csv', index=False)"
   ]
  },
  {
   "cell_type": "code",
   "execution_count": 21,
   "id": "c8d4f4d6",
   "metadata": {},
   "outputs": [
    {
     "data": {
      "text/html": [
       "<div>\n",
       "<style scoped>\n",
       "    .dataframe tbody tr th:only-of-type {\n",
       "        vertical-align: middle;\n",
       "    }\n",
       "\n",
       "    .dataframe tbody tr th {\n",
       "        vertical-align: top;\n",
       "    }\n",
       "\n",
       "    .dataframe thead th {\n",
       "        text-align: right;\n",
       "    }\n",
       "</style>\n",
       "<table border=\"1\" class=\"dataframe\">\n",
       "  <thead>\n",
       "    <tr style=\"text-align: right;\">\n",
       "      <th></th>\n",
       "      <th>SNP</th>\n",
       "      <th>gene</th>\n",
       "      <th>beta</th>\n",
       "      <th>t-stat</th>\n",
       "      <th>p-value</th>\n",
       "      <th>FDR</th>\n",
       "    </tr>\n",
       "  </thead>\n",
       "  <tbody>\n",
       "    <tr>\n",
       "      <th>0</th>\n",
       "      <td>17:7172631</td>\n",
       "      <td>ELP5</td>\n",
       "      <td>-0.035049</td>\n",
       "      <td>-10.280582</td>\n",
       "      <td>7.420161e-15</td>\n",
       "      <td>2.621690e-09</td>\n",
       "    </tr>\n",
       "    <tr>\n",
       "      <th>1</th>\n",
       "      <td>17:7154534</td>\n",
       "      <td>ELP5</td>\n",
       "      <td>-0.033866</td>\n",
       "      <td>-9.990261</td>\n",
       "      <td>2.217977e-14</td>\n",
       "      <td>2.621690e-09</td>\n",
       "    </tr>\n",
       "  </tbody>\n",
       "</table>\n",
       "</div>"
      ],
      "text/plain": [
       "          SNP  gene      beta     t-stat       p-value           FDR\n",
       "0  17:7172631  ELP5 -0.035049 -10.280582  7.420161e-15  2.621690e-09\n",
       "1  17:7154534  ELP5 -0.033866  -9.990261  2.217977e-14  2.621690e-09"
      ]
     },
     "execution_count": 21,
     "metadata": {},
     "output_type": "execute_result"
    }
   ],
   "source": [
    "df.head(2)"
   ]
  },
  {
   "cell_type": "code",
   "execution_count": null,
   "id": "b9529d52",
   "metadata": {},
   "outputs": [],
   "source": []
  },
  {
   "cell_type": "code",
   "execution_count": null,
   "id": "37249f7b",
   "metadata": {},
   "outputs": [],
   "source": []
  },
  {
   "cell_type": "code",
   "execution_count": null,
   "id": "4c6073df",
   "metadata": {},
   "outputs": [],
   "source": []
  },
  {
   "cell_type": "code",
   "execution_count": null,
   "id": "42f18161",
   "metadata": {},
   "outputs": [],
   "source": []
  },
  {
   "cell_type": "code",
   "execution_count": 19,
   "id": "7566eb9f",
   "metadata": {},
   "outputs": [],
   "source": [
    "result = pd.read_csv('/data_volume/memento/lupus/memento_full/100b/asian_B_block_0.csv')"
   ]
  },
  {
   "cell_type": "code",
   "execution_count": 20,
   "id": "d4e0dbe0",
   "metadata": {},
   "outputs": [
    {
     "data": {
      "text/plain": [
       "(4817, 8)"
      ]
     },
     "execution_count": 20,
     "metadata": {},
     "output_type": "execute_result"
    }
   ],
   "source": [
    "result.shape"
   ]
  },
  {
   "cell_type": "code",
   "execution_count": 5,
   "id": "cf131516",
   "metadata": {},
   "outputs": [
    {
     "data": {
      "text/html": [
       "<div>\n",
       "<style scoped>\n",
       "    .dataframe tbody tr th:only-of-type {\n",
       "        vertical-align: middle;\n",
       "    }\n",
       "\n",
       "    .dataframe tbody tr th {\n",
       "        vertical-align: top;\n",
       "    }\n",
       "\n",
       "    .dataframe thead th {\n",
       "        text-align: right;\n",
       "    }\n",
       "</style>\n",
       "<table border=\"1\" class=\"dataframe\">\n",
       "  <thead>\n",
       "    <tr style=\"text-align: right;\">\n",
       "      <th></th>\n",
       "      <th>gene</th>\n",
       "      <th>tx</th>\n",
       "      <th>de_coef</th>\n",
       "      <th>de_se</th>\n",
       "      <th>de_pval</th>\n",
       "      <th>dv_coef</th>\n",
       "      <th>dv_se</th>\n",
       "      <th>dv_pval</th>\n",
       "    </tr>\n",
       "  </thead>\n",
       "  <tbody>\n",
       "    <tr>\n",
       "      <th>0</th>\n",
       "      <td>NOC2L</td>\n",
       "      <td>1:1037313</td>\n",
       "      <td>0.002029</td>\n",
       "      <td>0.002359</td>\n",
       "      <td>0.390387</td>\n",
       "      <td>0.000406</td>\n",
       "      <td>0.000902</td>\n",
       "      <td>0.654372</td>\n",
       "    </tr>\n",
       "    <tr>\n",
       "      <th>1</th>\n",
       "      <td>NOC2L</td>\n",
       "      <td>1:848090</td>\n",
       "      <td>0.003598</td>\n",
       "      <td>0.002907</td>\n",
       "      <td>0.216882</td>\n",
       "      <td>-0.000190</td>\n",
       "      <td>0.001074</td>\n",
       "      <td>0.859520</td>\n",
       "    </tr>\n",
       "  </tbody>\n",
       "</table>\n",
       "</div>"
      ],
      "text/plain": [
       "    gene         tx   de_coef     de_se   de_pval   dv_coef     dv_se  \\\n",
       "0  NOC2L  1:1037313  0.002029  0.002359  0.390387  0.000406  0.000902   \n",
       "1  NOC2L   1:848090  0.003598  0.002907  0.216882 -0.000190  0.001074   \n",
       "\n",
       "    dv_pval  \n",
       "0  0.654372  \n",
       "1  0.859520  "
      ]
     },
     "execution_count": 5,
     "metadata": {},
     "output_type": "execute_result"
    }
   ],
   "source": [
    "result.head(2)"
   ]
  },
  {
   "cell_type": "code",
   "execution_count": 9,
   "id": "5a35f1a2",
   "metadata": {},
   "outputs": [
    {
     "data": {
      "text/plain": [
       "(101640, 8)"
      ]
     },
     "execution_count": 9,
     "metadata": {},
     "output_type": "execute_result"
    }
   ],
   "source": [
    "result.shape"
   ]
  },
  {
   "cell_type": "code",
   "execution_count": 10,
   "id": "04be848a",
   "metadata": {},
   "outputs": [],
   "source": [
    "result['de_fdr'] = memento.util._fdrcorrect(result['de_pval'])"
   ]
  },
  {
   "cell_type": "code",
   "execution_count": 11,
   "id": "c9fcfb11",
   "metadata": {},
   "outputs": [
    {
     "data": {
      "text/plain": [
       "4.325195275579129e-34"
      ]
     },
     "execution_count": 11,
     "metadata": {},
     "output_type": "execute_result"
    }
   ],
   "source": [
    "result['de_fdr'].min()"
   ]
  },
  {
   "cell_type": "code",
   "execution_count": 12,
   "id": "fa863f52",
   "metadata": {},
   "outputs": [
    {
     "data": {
      "text/html": [
       "<div>\n",
       "<style scoped>\n",
       "    .dataframe tbody tr th:only-of-type {\n",
       "        vertical-align: middle;\n",
       "    }\n",
       "\n",
       "    .dataframe tbody tr th {\n",
       "        vertical-align: top;\n",
       "    }\n",
       "\n",
       "    .dataframe thead th {\n",
       "        text-align: right;\n",
       "    }\n",
       "</style>\n",
       "<table border=\"1\" class=\"dataframe\">\n",
       "  <thead>\n",
       "    <tr style=\"text-align: right;\">\n",
       "      <th></th>\n",
       "      <th>gene</th>\n",
       "      <th>tx</th>\n",
       "      <th>de_coef</th>\n",
       "      <th>de_se</th>\n",
       "      <th>de_pval</th>\n",
       "      <th>dv_coef</th>\n",
       "      <th>dv_se</th>\n",
       "      <th>dv_pval</th>\n",
       "      <th>de_fdr</th>\n",
       "    </tr>\n",
       "  </thead>\n",
       "  <tbody>\n",
       "    <tr>\n",
       "      <th>364</th>\n",
       "      <td>PARK7</td>\n",
       "      <td>1:7969014</td>\n",
       "      <td>-0.030284</td>\n",
       "      <td>0.007788</td>\n",
       "      <td>1.008932e-04</td>\n",
       "      <td>0.012007</td>\n",
       "      <td>0.005395</td>\n",
       "      <td>0.026675</td>\n",
       "      <td>1.703453e-02</td>\n",
       "    </tr>\n",
       "    <tr>\n",
       "      <th>385</th>\n",
       "      <td>PARK7</td>\n",
       "      <td>1:8024690</td>\n",
       "      <td>0.032840</td>\n",
       "      <td>0.004706</td>\n",
       "      <td>3.526709e-12</td>\n",
       "      <td>-0.013138</td>\n",
       "      <td>0.003540</td>\n",
       "      <td>0.000225</td>\n",
       "      <td>4.425366e-09</td>\n",
       "    </tr>\n",
       "    <tr>\n",
       "      <th>387</th>\n",
       "      <td>PARK7</td>\n",
       "      <td>1:8017651</td>\n",
       "      <td>0.032051</td>\n",
       "      <td>0.004883</td>\n",
       "      <td>6.061640e-11</td>\n",
       "      <td>-0.012485</td>\n",
       "      <td>0.003796</td>\n",
       "      <td>0.001066</td>\n",
       "      <td>6.100050e-08</td>\n",
       "    </tr>\n",
       "    <tr>\n",
       "      <th>481</th>\n",
       "      <td>LZIC</td>\n",
       "      <td>1:9995254</td>\n",
       "      <td>-0.006124</td>\n",
       "      <td>0.001734</td>\n",
       "      <td>4.178584e-04</td>\n",
       "      <td>0.001444</td>\n",
       "      <td>0.000700</td>\n",
       "      <td>0.039147</td>\n",
       "      <td>4.853843e-02</td>\n",
       "    </tr>\n",
       "    <tr>\n",
       "      <th>597</th>\n",
       "      <td>MIIP</td>\n",
       "      <td>1:11968317</td>\n",
       "      <td>0.005456</td>\n",
       "      <td>0.001685</td>\n",
       "      <td>1.204373e-03</td>\n",
       "      <td>-0.001634</td>\n",
       "      <td>0.000612</td>\n",
       "      <td>0.007630</td>\n",
       "      <td>9.238679e-02</td>\n",
       "    </tr>\n",
       "    <tr>\n",
       "      <th>...</th>\n",
       "      <td>...</td>\n",
       "      <td>...</td>\n",
       "      <td>...</td>\n",
       "      <td>...</td>\n",
       "      <td>...</td>\n",
       "      <td>...</td>\n",
       "      <td>...</td>\n",
       "      <td>...</td>\n",
       "      <td>...</td>\n",
       "    </tr>\n",
       "    <tr>\n",
       "      <th>101070</th>\n",
       "      <td>HMGN1</td>\n",
       "      <td>21:39326452</td>\n",
       "      <td>-0.048650</td>\n",
       "      <td>0.014252</td>\n",
       "      <td>6.703816e-04</td>\n",
       "      <td>0.020844</td>\n",
       "      <td>0.013229</td>\n",
       "      <td>0.117608</td>\n",
       "      <td>6.583342e-02</td>\n",
       "    </tr>\n",
       "    <tr>\n",
       "      <th>101071</th>\n",
       "      <td>HMGN1</td>\n",
       "      <td>21:39313095</td>\n",
       "      <td>-0.054695</td>\n",
       "      <td>0.013558</td>\n",
       "      <td>6.178274e-05</td>\n",
       "      <td>0.028846</td>\n",
       "      <td>0.012708</td>\n",
       "      <td>0.023839</td>\n",
       "      <td>1.171567e-02</td>\n",
       "    </tr>\n",
       "    <tr>\n",
       "      <th>101086</th>\n",
       "      <td>MX2</td>\n",
       "      <td>21:41288584</td>\n",
       "      <td>0.014752</td>\n",
       "      <td>0.003836</td>\n",
       "      <td>1.204765e-04</td>\n",
       "      <td>-0.001361</td>\n",
       "      <td>0.001532</td>\n",
       "      <td>0.374407</td>\n",
       "      <td>1.975037e-02</td>\n",
       "    </tr>\n",
       "    <tr>\n",
       "      <th>101105</th>\n",
       "      <td>MX2</td>\n",
       "      <td>21:41280360</td>\n",
       "      <td>0.014955</td>\n",
       "      <td>0.004640</td>\n",
       "      <td>1.270421e-03</td>\n",
       "      <td>-0.001339</td>\n",
       "      <td>0.001600</td>\n",
       "      <td>0.402690</td>\n",
       "      <td>9.555427e-02</td>\n",
       "    </tr>\n",
       "    <tr>\n",
       "      <th>101488</th>\n",
       "      <td>ITGB2-AS1</td>\n",
       "      <td>21:44875495</td>\n",
       "      <td>-0.006745</td>\n",
       "      <td>0.002107</td>\n",
       "      <td>1.364795e-03</td>\n",
       "      <td>0.001000</td>\n",
       "      <td>0.000742</td>\n",
       "      <td>0.179278</td>\n",
       "      <td>9.979699e-02</td>\n",
       "    </tr>\n",
       "  </tbody>\n",
       "</table>\n",
       "<p>1390 rows × 9 columns</p>\n",
       "</div>"
      ],
      "text/plain": [
       "             gene           tx   de_coef     de_se       de_pval   dv_coef  \\\n",
       "364         PARK7    1:7969014 -0.030284  0.007788  1.008932e-04  0.012007   \n",
       "385         PARK7    1:8024690  0.032840  0.004706  3.526709e-12 -0.013138   \n",
       "387         PARK7    1:8017651  0.032051  0.004883  6.061640e-11 -0.012485   \n",
       "481          LZIC    1:9995254 -0.006124  0.001734  4.178584e-04  0.001444   \n",
       "597          MIIP   1:11968317  0.005456  0.001685  1.204373e-03 -0.001634   \n",
       "...           ...          ...       ...       ...           ...       ...   \n",
       "101070      HMGN1  21:39326452 -0.048650  0.014252  6.703816e-04  0.020844   \n",
       "101071      HMGN1  21:39313095 -0.054695  0.013558  6.178274e-05  0.028846   \n",
       "101086        MX2  21:41288584  0.014752  0.003836  1.204765e-04 -0.001361   \n",
       "101105        MX2  21:41280360  0.014955  0.004640  1.270421e-03 -0.001339   \n",
       "101488  ITGB2-AS1  21:44875495 -0.006745  0.002107  1.364795e-03  0.001000   \n",
       "\n",
       "           dv_se   dv_pval        de_fdr  \n",
       "364     0.005395  0.026675  1.703453e-02  \n",
       "385     0.003540  0.000225  4.425366e-09  \n",
       "387     0.003796  0.001066  6.100050e-08  \n",
       "481     0.000700  0.039147  4.853843e-02  \n",
       "597     0.000612  0.007630  9.238679e-02  \n",
       "...          ...       ...           ...  \n",
       "101070  0.013229  0.117608  6.583342e-02  \n",
       "101071  0.012708  0.023839  1.171567e-02  \n",
       "101086  0.001532  0.374407  1.975037e-02  \n",
       "101105  0.001600  0.402690  9.555427e-02  \n",
       "101488  0.000742  0.179278  9.979699e-02  \n",
       "\n",
       "[1390 rows x 9 columns]"
      ]
     },
     "execution_count": 12,
     "metadata": {},
     "output_type": "execute_result"
    }
   ],
   "source": [
    "result.query('de_fdr < 0.1')"
   ]
  },
  {
   "cell_type": "code",
   "execution_count": 8,
   "id": "755b444c",
   "metadata": {},
   "outputs": [
    {
     "data": {
      "text/plain": [
       "6.881846504567127e-39"
      ]
     },
     "execution_count": 8,
     "metadata": {},
     "output_type": "execute_result"
    }
   ],
   "source": [
    "result.de_pval.min()"
   ]
  },
  {
   "cell_type": "code",
   "execution_count": 7,
   "id": "c0f89982",
   "metadata": {},
   "outputs": [
    {
     "data": {
      "text/plain": [
       "(array([5455., 3179., 2787., 2575., 2397., 2318., 2395., 2324., 2195.,\n",
       "        2018., 2014., 2128., 2096., 2008., 2016., 1902., 2021., 2045.,\n",
       "        1860., 1992., 1929., 1907., 1835., 1955., 1867., 1768., 1682.,\n",
       "        1897., 1937., 1787., 1794., 1686., 1734., 1735., 1714., 1773.,\n",
       "        1628., 1820., 1820., 1692., 1902., 1873., 1788., 1679., 1788.,\n",
       "        1799., 1812., 1775., 1814., 1725.]),\n",
       " array([6.88184650e-39, 1.99997601e-02, 3.99995202e-02, 5.99992804e-02,\n",
       "        7.99990405e-02, 9.99988006e-02, 1.19998561e-01, 1.39998321e-01,\n",
       "        1.59998081e-01, 1.79997841e-01, 1.99997601e-01, 2.19997361e-01,\n",
       "        2.39997121e-01, 2.59996882e-01, 2.79996642e-01, 2.99996402e-01,\n",
       "        3.19996162e-01, 3.39995922e-01, 3.59995682e-01, 3.79995442e-01,\n",
       "        3.99995202e-01, 4.19994963e-01, 4.39994723e-01, 4.59994483e-01,\n",
       "        4.79994243e-01, 4.99994003e-01, 5.19993763e-01, 5.39993523e-01,\n",
       "        5.59993283e-01, 5.79993044e-01, 5.99992804e-01, 6.19992564e-01,\n",
       "        6.39992324e-01, 6.59992084e-01, 6.79991844e-01, 6.99991604e-01,\n",
       "        7.19991364e-01, 7.39991125e-01, 7.59990885e-01, 7.79990645e-01,\n",
       "        7.99990405e-01, 8.19990165e-01, 8.39989925e-01, 8.59989685e-01,\n",
       "        8.79989445e-01, 8.99989206e-01, 9.19988966e-01, 9.39988726e-01,\n",
       "        9.59988486e-01, 9.79988246e-01, 9.99988006e-01]),\n",
       " <BarContainer object of 50 artists>)"
      ]
     },
     "execution_count": 7,
     "metadata": {},
     "output_type": "execute_result"
    },
    {
     "data": {
      "image/png": "[encoded data removed]",
      "text/plain": [
       "<Figure size 432x288 with 1 Axes>"
      ]
     },
     "metadata": {
      "needs_background": "light"
     },
     "output_type": "display_data"
    }
   ],
   "source": [
    "plt.hist(result.de_pval, bins=50)"
   ]
  },
  {
   "cell_type": "code",
   "execution_count": null,
   "id": "d7dd8b2e",
   "metadata": {},
   "outputs": [],
   "source": []
  },
  {
   "cell_type": "code",
   "execution_count": null,
   "id": "52bdf0dc",
   "metadata": {},
   "outputs": [],
   "source": []
  },
  {
   "cell_type": "code",
   "execution_count": null,
   "id": "26a3497b",
   "metadata": {},
   "outputs": [],
   "source": []
  },
  {
   "cell_type": "code",
   "execution_count": null,
   "id": "17761fdc",
   "metadata": {},
   "outputs": [],
   "source": []
  },
  {
   "cell_type": "markdown",
   "id": "7ae4b01f",
   "metadata": {},
   "source": [
    "### Compare donor resampling vs not"
   ]
  },
  {
   "cell_type": "code",
   "execution_count": 37,
   "id": "0ce49a06",
   "metadata": {},
   "outputs": [],
   "source": [
    "adata = sc.read(data_path + 'Lupus_study_adjusted_counts_cM_filtered.h5ad')\n",
    "# adata = adata[adata.obs.ind_cov.isin(pos.columns)].copy()\n",
    "# adata.obs['ind_cov'] = np.random.choice(['d'+str(i) for i in range(30)], size=adata.shape[0])"
   ]
  },
  {
   "cell_type": "code",
   "execution_count": 38,
   "id": "7607c970",
   "metadata": {},
   "outputs": [],
   "source": [
    "donors = adata.obs[['ind_cov']].drop_duplicates()\n",
    "donors.index = np.arange(donors.shape[0])\n",
    "for i in range(10):\n",
    "    donors['tx_'+str(i)] = np.random.choice([-1, 1], donors.shape[0])"
   ]
  },
  {
   "cell_type": "code",
   "execution_count": 39,
   "id": "51d0e30e",
   "metadata": {},
   "outputs": [],
   "source": [
    "adata.obs['capture_rate'] = 0.1\n",
    "# adata.obs['tx'] = np.random.choice([-1, 1], size=adata.shape[0])\n",
    "# adata.obs = adata.obs.merge(donors, on='ind_cov', how='left')\n",
    "memento.setup_memento(adata, q_column='capture_rate', trim_percent=0.1, filter_mean_thresh=0.07)"
   ]
  },
  {
   "cell_type": "code",
   "execution_count": 40,
   "id": "d83065c6",
   "metadata": {},
   "outputs": [],
   "source": [
    "# adata.obs['tx'] = np.random.randint(2, size=adata.shape[0])"
   ]
  },
  {
   "cell_type": "code",
   "execution_count": 41,
   "id": "c45a7eee",
   "metadata": {},
   "outputs": [],
   "source": [
    "# Grouped by individual\n",
    "adata1 = adata.copy().copy()\n",
    "memento.create_groups(adata1, label_columns=['ind_cov'])\n",
    "memento.compute_1d_moments(adata1, min_perc_group=.8)\n",
    "treatment_df= pd.DataFrame(index=adata1.uns['memento']['groups'])\n",
    "\n",
    "# treatment_df['tx'] = treatment_df.index.str.split('^').str[1].astype(int)\n",
    "\n",
    "treatment_df['ind_cov'] = treatment_df.index.str.split('^').str[1]\n",
    "treatment_df = treatment_df.merge(donors, on='ind_cov').drop('ind_cov', axis=1)"
   ]
  },
  {
   "cell_type": "code",
   "execution_count": 48,
   "id": "e9c06cef",
   "metadata": {},
   "outputs": [
    {
     "name": "stderr",
     "output_type": "stream",
     "text": [
      "[Parallel(n_jobs=93)]: Using backend LokyBackend with 93 concurrent workers.\n",
      "[Parallel(n_jobs=93)]: Done  14 tasks      | elapsed:    6.5s\n",
      "[Parallel(n_jobs=93)]: Done 264 tasks      | elapsed:   10.2s\n",
      "[Parallel(n_jobs=93)]: Done 614 tasks      | elapsed:   15.9s\n",
      "[Parallel(n_jobs=93)]: Done 1064 tasks      | elapsed:   23.4s\n",
      "[Parallel(n_jobs=93)]: Done 1614 tasks      | elapsed:   32.5s\n",
      "[Parallel(n_jobs=93)]: Done 1995 out of 1995 | elapsed:   40.2s finished\n"
     ]
    }
   ],
   "source": [
    "memento.ht_1d_moments(\n",
    "    adata1, \n",
    "    covariate=pd.DataFrame(np.ones(treatment_df.shape[0]).reshape(-1, 1)),\n",
    "    treatment=treatment_df,\n",
    "#     treatment_for_gene=gene_to_snp,\n",
    "    num_boot=1000, \n",
    "    verbose=1,\n",
    "    num_cpus=93,\n",
    "    resampling='bootstrap',\n",
    "    approx=True,\n",
    "    resample_rep=True)\n",
    "memento_result1 = memento.get_1d_ht_result(adata1)"
   ]
  },
  {
   "cell_type": "code",
   "execution_count": 49,
   "id": "f9112f8b",
   "metadata": {},
   "outputs": [
    {
     "data": {
      "text/plain": [
       "(array([2007., 2339., 2037., 1958., 1848., 1844., 1898., 1992., 2020.,\n",
       "        2007.]),\n",
       " array([1.28853995e-05, 1.00001194e-01, 1.99989502e-01, 2.99977810e-01,\n",
       "        3.99966119e-01, 4.99954427e-01, 5.99942735e-01, 6.99931043e-01,\n",
       "        7.99919352e-01, 8.99907660e-01, 9.99895968e-01]),\n",
       " <BarContainer object of 10 artists>)"
      ]
     },
     "execution_count": 49,
     "metadata": {},
     "output_type": "execute_result"
    },
    {
     "data": {
      "image/png": "[encoded data removed]",
      "text/plain": [
       "<Figure size 432x288 with 1 Axes>"
      ]
     },
     "metadata": {
      "needs_background": "light"
     },
     "output_type": "display_data"
    }
   ],
   "source": [
    "plt.hist(memento_result1.de_pval)"
   ]
  },
  {
   "cell_type": "markdown",
   "id": "8eb80977",
   "metadata": {},
   "source": [
    "### Run memento for cbc eQTLs - debug whats going on"
   ]
  },
  {
   "cell_type": "code",
   "execution_count": 36,
   "id": "e946fda6",
   "metadata": {},
   "outputs": [
    {
     "ename": "NameError",
     "evalue": "name 'pos' is not defined",
     "output_type": "error",
     "traceback": [
      "\u001b[0;31m---------------------------------------------------------------------------\u001b[0m",
      "\u001b[0;31mNameError\u001b[0m                                 Traceback (most recent call last)",
      "\u001b[0;32m/tmp/ipykernel_9427/1012930374.py\u001b[0m in \u001b[0;36m<module>\u001b[0;34m\u001b[0m\n\u001b[1;32m      1\u001b[0m \u001b[0madata\u001b[0m \u001b[0;34m=\u001b[0m \u001b[0msc\u001b[0m\u001b[0;34m.\u001b[0m\u001b[0mread\u001b[0m\u001b[0;34m(\u001b[0m\u001b[0mdata_path\u001b[0m \u001b[0;34m+\u001b[0m \u001b[0;34m'Lupus_study_adjusted_counts_cM_filtered.h5ad'\u001b[0m\u001b[0;34m)\u001b[0m\u001b[0;34m\u001b[0m\u001b[0;34m\u001b[0m\u001b[0m\n\u001b[0;32m----> 2\u001b[0;31m \u001b[0madata\u001b[0m \u001b[0;34m=\u001b[0m \u001b[0madata\u001b[0m\u001b[0;34m[\u001b[0m\u001b[0madata\u001b[0m\u001b[0;34m.\u001b[0m\u001b[0mobs\u001b[0m\u001b[0;34m.\u001b[0m\u001b[0mind_cov\u001b[0m\u001b[0;34m.\u001b[0m\u001b[0misin\u001b[0m\u001b[0;34m(\u001b[0m\u001b[0mpos\u001b[0m\u001b[0;34m.\u001b[0m\u001b[0mcolumns\u001b[0m\u001b[0;34m)\u001b[0m\u001b[0;34m]\u001b[0m\u001b[0;34m.\u001b[0m\u001b[0mcopy\u001b[0m\u001b[0;34m(\u001b[0m\u001b[0;34m)\u001b[0m\u001b[0;34m\u001b[0m\u001b[0;34m\u001b[0m\u001b[0m\n\u001b[0m\u001b[1;32m      3\u001b[0m \u001b[0;31m# adata.obs['ind_cov'] = np.random.choice(['d'+str(i) for i in range(30)], size=adata.shape[0])\u001b[0m\u001b[0;34m\u001b[0m\u001b[0;34m\u001b[0m\u001b[0;34m\u001b[0m\u001b[0m\n",
      "\u001b[0;31mNameError\u001b[0m: name 'pos' is not defined"
     ]
    }
   ],
   "source": [
    "adata = sc.read(data_path + 'Lupus_study_adjusted_counts_cM_filtered.h5ad')\n",
    "adata = adata[adata.obs.ind_cov.isin(pos.columns)].copy()\n",
    "# adata.obs['ind_cov'] = np.random.choice(['d'+str(i) for i in range(30)], size=adata.shape[0])"
   ]
  },
  {
   "cell_type": "code",
   "execution_count": null,
   "id": "28f614ef",
   "metadata": {},
   "outputs": [],
   "source": [
    "donors = adata.obs[['ind_cov']].drop_duplicates()\n",
    "donors.index = np.arange(donors.shape[0])\n",
    "# donors['tx'] = np.random.choice([-1, 1], donors.shape[0])"
   ]
  },
  {
   "cell_type": "code",
   "execution_count": null,
   "id": "2f948e42",
   "metadata": {},
   "outputs": [],
   "source": [
    "adata.obs['capture_rate'] = 0.1\n",
    "# adata.obs['tx'] = np.random.choice([-1, 1], size=adata2.shape[0])\n",
    "adata.obs = adata.obs.merge(donors, on='ind_cov', how='left')\n",
    "memento.setup_memento(adata, q_column='capture_rate', trim_percent=0.1, filter_mean_thresh=0.01)"
   ]
  },
  {
   "cell_type": "code",
   "execution_count": null,
   "id": "084a0291",
   "metadata": {},
   "outputs": [],
   "source": [
    "# adata.obs['tx'] = np.random.randint(2, size=adata.shape[0])"
   ]
  },
  {
   "cell_type": "code",
   "execution_count": null,
   "id": "40df1a39",
   "metadata": {},
   "outputs": [],
   "source": [
    "# Grouped by individual\n",
    "adata1 = adata.copy().copy()\n",
    "memento.create_groups(adata1, label_columns=['ind_cov'])\n",
    "memento.compute_1d_moments(adata1, min_perc_group=.5, gene_list=cbc_eqtls.gene.drop_duplicates().tolist())\n",
    "treatment_df= pd.DataFrame(index=adata1.uns['memento']['groups'])\n",
    "treatment_df['tx'] = treatment_df.index.str.split('^').str[1].astype(float)\n",
    "memento.ht_1d_moments(\n",
    "    adata1, \n",
    "    covariate=pd.DataFrame(np.ones(treatment_df.shape[0]).reshape(-1, 1)),\n",
    "    treatment=treatment_df,\n",
    "#     treatment_for_gene=gene_to_snp,\n",
    "    num_boot=10000, \n",
    "    verbose=1,\n",
    "    num_cpus=94,\n",
    "    resampling='bootstrap',\n",
    "    approx=False,\n",
    "    resample_rep=True)\n",
    "memento_result1 = memento.get_1d_ht_result(adata1)\n"
   ]
  },
  {
   "cell_type": "code",
   "execution_count": null,
   "id": "50cdd416",
   "metadata": {},
   "outputs": [],
   "source": [
    "# Grouped by individual\n",
    "adata2 = adata.copy().copy()\n",
    "memento.create_groups(adata2, label_columns=['tx'])\n",
    "memento.compute_1d_moments(adata2, min_perc_group=.5, gene_list=cbc_eqtls.gene.drop_duplicates().tolist())\n",
    "treatment_df= pd.DataFrame(index=adata2.uns['memento']['groups'])\n",
    "treatment_df['tx'] = treatment_df.index.str.split('^').str[1].astype(float)\n",
    "memento.ht_1d_moments(\n",
    "    adata2, \n",
    "    covariate=pd.DataFrame(np.ones(2).reshape(-1, 1)),\n",
    "    treatment=treatment_df,\n",
    "#     treatment_for_gene=gene_to_snp,\n",
    "    num_boot=10000, \n",
    "    verbose=1,\n",
    "    num_cpus=94,\n",
    "    resampling='bootstrap',\n",
    "    approx=False)\n",
    "memento_result2 = memento.get_1d_ht_result(adata2)\n"
   ]
  },
  {
   "cell_type": "code",
   "execution_count": null,
   "id": "663f518e",
   "metadata": {},
   "outputs": [],
   "source": [
    "memento_result2.head(2)"
   ]
  },
  {
   "cell_type": "code",
   "execution_count": null,
   "id": "45ea569a",
   "metadata": {},
   "outputs": [],
   "source": [
    "memento_result1.head(2)"
   ]
  },
  {
   "cell_type": "code",
   "execution_count": null,
   "id": "1bcbeb32",
   "metadata": {},
   "outputs": [],
   "source": [
    "plt.hist(memento_result2['dv_pval'], bins=20)"
   ]
  },
  {
   "cell_type": "code",
   "execution_count": null,
   "id": "b0ed5026",
   "metadata": {},
   "outputs": [],
   "source": [
    "plt.hist(memento_result1['dv_pval'], bins=20)"
   ]
  },
  {
   "cell_type": "code",
   "execution_count": null,
   "id": "2f0a9389",
   "metadata": {},
   "outputs": [],
   "source": [
    "memento_result2.head(2)"
   ]
  },
  {
   "cell_type": "code",
   "execution_count": null,
   "id": "bad92cdf",
   "metadata": {},
   "outputs": [],
   "source": []
  },
  {
   "cell_type": "code",
   "execution_count": null,
   "id": "1c72d591",
   "metadata": {},
   "outputs": [],
   "source": []
  },
  {
   "cell_type": "code",
   "execution_count": null,
   "id": "62322f70",
   "metadata": {},
   "outputs": [],
   "source": []
  },
  {
   "cell_type": "code",
   "execution_count": null,
   "id": "1930a052",
   "metadata": {},
   "outputs": [],
   "source": [
    "adata.shape"
   ]
  },
  {
   "cell_type": "code",
   "execution_count": null,
   "id": "74d0c9c9",
   "metadata": {},
   "outputs": [],
   "source": [
    "# memento.compute_1d_moments(adata, min_perc_group=.5)"
   ]
  },
  {
   "cell_type": "code",
   "execution_count": null,
   "id": "fd010041",
   "metadata": {},
   "outputs": [],
   "source": [
    "memento.compute_1d_moments(adata, min_perc_group=.5, gene_list=cbc_eqtls.gene.drop_duplicates().tolist())"
   ]
  },
  {
   "cell_type": "code",
   "execution_count": null,
   "id": "b64dd8da",
   "metadata": {},
   "outputs": [],
   "source": [
    "covariates = pd.read_csv(data_path + 'cm_cg.mateqtl_cov.txt', sep='\\t', index_col=0).T\n",
    "cov_df = covariates[['age', 'Female'] + [x for x in covariates.columns if '_g' in x]].loc[[x[3:] for x in adata.uns['memento']['groups']]]\n",
    "cov_df['donor'] = cov_df.index.values\n",
    "cov_df = pd.get_dummies(cov_df)"
   ]
  },
  {
   "cell_type": "code",
   "execution_count": null,
   "id": "10e5d800",
   "metadata": {},
   "outputs": [],
   "source": [
    "treatment_df = pd.DataFrame(index=adata.uns['memento']['groups'])"
   ]
  },
  {
   "cell_type": "code",
   "execution_count": null,
   "id": "a2837aa2",
   "metadata": {},
   "outputs": [],
   "source": [
    "# treatment_df['tx'] = treatment_df.index.str.split('^').str[1].astype(float)"
   ]
  },
  {
   "cell_type": "code",
   "execution_count": null,
   "id": "77220de1",
   "metadata": {},
   "outputs": [],
   "source": [
    "treatment_df = pd.DataFrame(np.random.choice([-1, 1], size=(cov_df.shape[0], 2)))\n",
    "# treatment_df = pd.DataFrame([[1], [0], [2]])\n"
   ]
  },
  {
   "cell_type": "code",
   "execution_count": null,
   "id": "8e25a667",
   "metadata": {},
   "outputs": [],
   "source": [
    "memento.ht_1d_moments(\n",
    "    adata, \n",
    "    covariate=pd.DataFrame(np.ones(treatment_df.shape[0]).reshape(-1, 1)),\n",
    "    treatment=treatment_df,\n",
    "#     treatment_for_gene=gene_to_snp,\n",
    "    num_boot=10000, \n",
    "    verbose=1,\n",
    "    num_cpus=94,\n",
    "    resampling='bootstrap',\n",
    "    approx=False)"
   ]
  },
  {
   "cell_type": "code",
   "execution_count": null,
   "id": "f949c180",
   "metadata": {},
   "outputs": [],
   "source": [
    "memento_result = memento.get_1d_ht_result(adata)\n"
   ]
  },
  {
   "cell_type": "code",
   "execution_count": null,
   "id": "c075892a",
   "metadata": {},
   "outputs": [],
   "source": [
    "memento_result.query('tx == 0').sort_values('de_coef').head(2)"
   ]
  },
  {
   "cell_type": "code",
   "execution_count": null,
   "id": "3c0065df",
   "metadata": {},
   "outputs": [],
   "source": [
    "plt.hist(memento_result['de_pval'], bins=20)\n",
    "plt.title('eQTL p-values with permutation 1')"
   ]
  },
  {
   "cell_type": "code",
   "execution_count": null,
   "id": "1834675b",
   "metadata": {},
   "outputs": [],
   "source": [
    "plt.hist(memento_result['de_pval'], bins=20)\n",
    "plt.title('eQTL p-values with permutation 2')"
   ]
  },
  {
   "cell_type": "code",
   "execution_count": null,
   "id": "f9d907d0",
   "metadata": {},
   "outputs": [],
   "source": [
    "df = pd.DataFrame()\n",
    "df['tx'] = treatment_df[0].values\n",
    "df['mean'] = memento.get_1d_moments(adata)[1].query('gene == \"S100P\"').values[0][1:]"
   ]
  },
  {
   "cell_type": "code",
   "execution_count": null,
   "id": "7df9f8df",
   "metadata": {},
   "outputs": [],
   "source": []
  },
  {
   "cell_type": "code",
   "execution_count": null,
   "id": "51679bdc",
   "metadata": {},
   "outputs": [],
   "source": [
    "stats.mannwhitneyu(df.query('tx==1')['mean'], df.query('tx==-1')['mean'])"
   ]
  },
  {
   "cell_type": "code",
   "execution_count": null,
   "id": "1f11ba36",
   "metadata": {},
   "outputs": [],
   "source": [
    "sns.boxplot(x='tx', y='mean', data=df)\n",
    "sns.stripplot(x='tx', y='mean', data=df, linewidth=2)"
   ]
  },
  {
   "cell_type": "code",
   "execution_count": null,
   "id": "b8987f5e",
   "metadata": {},
   "outputs": [],
   "source": [
    "sns.kdeplot(memento_result.query('tx == 1')['de_coef'])\n",
    "plt.plot([0, 0], [0, 18])"
   ]
  },
  {
   "cell_type": "code",
   "execution_count": null,
   "id": "99bbfd6b",
   "metadata": {},
   "outputs": [],
   "source": [
    "sns.kdeplot(memento_result['de_coef'])\n",
    "plt.plot([0, 0], [0, 18])"
   ]
  },
  {
   "cell_type": "code",
   "execution_count": null,
   "id": "e7b4360f",
   "metadata": {},
   "outputs": [],
   "source": [
    "plt.hist(memento_result['de_pval'], bins=10);"
   ]
  },
  {
   "cell_type": "code",
   "execution_count": null,
   "id": "a5d1ac5f",
   "metadata": {},
   "outputs": [],
   "source": [
    "memento_result"
   ]
  },
  {
   "cell_type": "code",
   "execution_count": null,
   "id": "38460825",
   "metadata": {},
   "outputs": [],
   "source": []
  },
  {
   "cell_type": "code",
   "execution_count": null,
   "id": "d6167b6f",
   "metadata": {},
   "outputs": [],
   "source": []
  },
  {
   "cell_type": "code",
   "execution_count": null,
   "id": "67e279aa",
   "metadata": {},
   "outputs": [],
   "source": [
    "donor_df = pos[[x[3:] for x in adata.uns['memento']['groups']]].T"
   ]
  },
  {
   "cell_type": "code",
   "execution_count": null,
   "id": "93946f21",
   "metadata": {},
   "outputs": [],
   "source": [
    "donor_df['1:713977'].value_counts()"
   ]
  },
  {
   "cell_type": "code",
   "execution_count": null,
   "id": "44e6ca81",
   "metadata": {},
   "outputs": [],
   "source": [
    "donor_df['1:706368'].value_counts()"
   ]
  },
  {
   "cell_type": "code",
   "execution_count": null,
   "id": "96499a76",
   "metadata": {},
   "outputs": [],
   "source": [
    "donor_df.head(2)"
   ]
  },
  {
   "cell_type": "code",
   "execution_count": null,
   "id": "8b7d829a",
   "metadata": {},
   "outputs": [],
   "source": [
    "gene_to_snp = dict(cbc_eqtls[cbc_eqtls.gene.isin(adata.var.index)].groupby('gene').rsid.apply(list))\n",
    "# gene_to_snp = {'HP':['16:72135014']}"
   ]
  },
  {
   "cell_type": "code",
   "execution_count": null,
   "id": "d44afdcb",
   "metadata": {},
   "outputs": [],
   "source": [
    "np.random.randint(5, size=21000).max()"
   ]
  },
  {
   "cell_type": "code",
   "execution_count": null,
   "id": "4410a1e4",
   "metadata": {},
   "outputs": [],
   "source": [
    "# donor_df[donor_df.columns] = np.random.randint(3, size=donor_df.shape)"
   ]
  },
  {
   "cell_type": "code",
   "execution_count": null,
   "id": "e858717a",
   "metadata": {},
   "outputs": [],
   "source": [
    "donor_df = pd.DataFrame()\n",
    "donor_df['tx'] = np.random.randint(2, size=cov_df.shape[0])"
   ]
  },
  {
   "cell_type": "code",
   "execution_count": null,
   "id": "0546e124",
   "metadata": {},
   "outputs": [],
   "source": [
    "memento.ht_1d_moments(\n",
    "    adata, \n",
    "    covariate=pd.DataFrame(np.ones(cov_df.shape[0]).reshape(-1, 1)),\n",
    "    treatment=donor_df,\n",
    "#     treatment_for_gene=gene_to_snp,\n",
    "    num_boot=10000, \n",
    "    verbose=1,\n",
    "    num_cpus=94,\n",
    "    resampling='bootstrap',\n",
    "    approx=False)"
   ]
  },
  {
   "cell_type": "code",
   "execution_count": null,
   "id": "ee2883da",
   "metadata": {},
   "outputs": [],
   "source": [
    "memento_result = memento.get_1d_ht_result(adata).rename(columns={'tx':'rsid'})\n"
   ]
  },
  {
   "cell_type": "code",
   "execution_count": null,
   "id": "3cda59e9",
   "metadata": {},
   "outputs": [],
   "source": [
    "sns.kdeplot(memento_result['de_coef'])"
   ]
  },
  {
   "cell_type": "code",
   "execution_count": null,
   "id": "cd372d47",
   "metadata": {},
   "outputs": [],
   "source": [
    "memento_result"
   ]
  },
  {
   "cell_type": "code",
   "execution_count": null,
   "id": "2fd2fe59",
   "metadata": {},
   "outputs": [],
   "source": [
    "plt.hist(memento_result['de_pval'])"
   ]
  },
  {
   "cell_type": "code",
   "execution_count": null,
   "id": "a0513126",
   "metadata": {},
   "outputs": [],
   "source": [
    "test = donor_df[['16:72165986']].copy()\n",
    "test['mean'] = memento.get_1d_moments(adata)[0][['sg^' + x for x in test.index]].values.reshape(-1)"
   ]
  },
  {
   "cell_type": "code",
   "execution_count": null,
   "id": "7bb9c77d",
   "metadata": {},
   "outputs": [],
   "source": [
    "cov_df.head(2)"
   ]
  },
  {
   "cell_type": "code",
   "execution_count": null,
   "id": "b94c230c",
   "metadata": {},
   "outputs": [],
   "source": []
  },
  {
   "cell_type": "code",
   "execution_count": null,
   "id": "082938b5",
   "metadata": {},
   "outputs": [],
   "source": [
    "memento_result"
   ]
  },
  {
   "cell_type": "code",
   "execution_count": null,
   "id": "1cdcdbc5",
   "metadata": {},
   "outputs": [],
   "source": [
    "# memento_result.to_csv(data_path + 'cbc_eqtl_memento_cov_donor.csv', index=False)"
   ]
  },
  {
   "cell_type": "markdown",
   "id": "8e8b8ea0",
   "metadata": {},
   "source": [
    "### CBC eqtls"
   ]
  },
  {
   "cell_type": "code",
   "execution_count": null,
   "id": "19b7b648",
   "metadata": {},
   "outputs": [],
   "source": [
    "memento_nocov = pd.read_csv(data_path + 'cbc_eqtl_memento.csv')\n",
    "memento_cov = pd.read_csv(data_path + 'cbc_eqtl_memento_cov.csv')"
   ]
  },
  {
   "cell_type": "code",
   "execution_count": null,
   "id": "2412916d",
   "metadata": {},
   "outputs": [],
   "source": [
    "memento_result = memento_result.drop_duplicates(['de_coef'])"
   ]
  },
  {
   "cell_type": "code",
   "execution_count": null,
   "id": "196af62c",
   "metadata": {},
   "outputs": [],
   "source": [
    "memento_result['de_fdr'] = memento.util._fdrcorrect(memento_result['de_pval'])"
   ]
  },
  {
   "cell_type": "code",
   "execution_count": null,
   "id": "0e8d3335",
   "metadata": {},
   "outputs": [],
   "source": [
    "memento_result.query('de_fdr < 0.001').sort_values('de_coef')"
   ]
  },
  {
   "cell_type": "code",
   "execution_count": null,
   "id": "127c8f6e",
   "metadata": {},
   "outputs": [],
   "source": [
    "df = pd.DataFrame()\n",
    "df['geno'] = donor_df['1:7981453'].values\n",
    "df['mean'] = memento.get_1d_moments(adata)[1].query('gene == \"UTS2\"').values[0][1:]"
   ]
  },
  {
   "cell_type": "code",
   "execution_count": null,
   "id": "5c638e47",
   "metadata": {},
   "outputs": [],
   "source": [
    "sns.boxplot(x='geno', y='mean', data=df)\n",
    "sns.stripplot(x='geno', y='mean', data=df, linewidth=2)"
   ]
  },
  {
   "cell_type": "code",
   "execution_count": null,
   "id": "bd258d88",
   "metadata": {},
   "outputs": [],
   "source": [
    "plt.hist(memento_result['dv_pval'])"
   ]
  },
  {
   "cell_type": "code",
   "execution_count": null,
   "id": "0d20cd20",
   "metadata": {},
   "outputs": [],
   "source": []
  },
  {
   "cell_type": "code",
   "execution_count": null,
   "id": "617b5fea",
   "metadata": {},
   "outputs": [],
   "source": []
  },
  {
   "cell_type": "code",
   "execution_count": null,
   "id": "9f806e59",
   "metadata": {},
   "outputs": [],
   "source": []
  },
  {
   "cell_type": "code",
   "execution_count": null,
   "id": "2dc8276f",
   "metadata": {},
   "outputs": [],
   "source": []
  },
  {
   "cell_type": "code",
   "execution_count": null,
   "id": "30aa718f",
   "metadata": {},
   "outputs": [],
   "source": []
  },
  {
   "cell_type": "code",
   "execution_count": null,
   "id": "1f51dc77",
   "metadata": {},
   "outputs": [],
   "source": []
  },
  {
   "cell_type": "code",
   "execution_count": null,
   "id": "ae27cd70",
   "metadata": {},
   "outputs": [],
   "source": []
  },
  {
   "cell_type": "code",
   "execution_count": null,
   "id": "4e2f30ee",
   "metadata": {},
   "outputs": [],
   "source": []
  },
  {
   "cell_type": "code",
   "execution_count": null,
   "id": "aca38310",
   "metadata": {},
   "outputs": [],
   "source": []
  },
  {
   "cell_type": "code",
   "execution_count": null,
   "id": "d059062e",
   "metadata": {},
   "outputs": [],
   "source": []
  },
  {
   "cell_type": "code",
   "execution_count": null,
   "id": "6aac1dd3",
   "metadata": {},
   "outputs": [],
   "source": []
  },
  {
   "cell_type": "code",
   "execution_count": null,
   "id": "3a8ac564",
   "metadata": {},
   "outputs": [],
   "source": [
    "memento_result = memento.get_1d_ht_result(adata).rename(columns={'tx':'rsid'})\n"
   ]
  },
  {
   "cell_type": "code",
   "execution_count": null,
   "id": "bcc35504",
   "metadata": {},
   "outputs": [],
   "source": [
    "merged = cbc_eqtls[['gene', 'rsid', 'beta', 'pvalue']].merge(memento_result[['gene', 'rsid', 'de_coef', 'de_pval']], on=['gene', 'rsid'])"
   ]
  },
  {
   "cell_type": "code",
   "execution_count": null,
   "id": "ca1f3853",
   "metadata": {},
   "outputs": [],
   "source": [
    "plt.scatter(-np.log(merged['pvalue']), -np.log(merged['de_pval']), s=1)\n",
    "plt.ylabel('memento -log(p)'); plt.xlabel('mat eqtl -log(p)')\n",
    "# plt.plot([0, 160], [0, 160], color='k')"
   ]
  },
  {
   "cell_type": "code",
   "execution_count": null,
   "id": "be5125f7",
   "metadata": {},
   "outputs": [],
   "source": [
    "merged.shape"
   ]
  },
  {
   "cell_type": "code",
   "execution_count": null,
   "id": "df5a779f",
   "metadata": {},
   "outputs": [],
   "source": [
    "plt.scatter(merged['beta'], merged['de_coef'], s=5)\n",
    "plt.xlabel('mat eqtl coef'); plt.ylabel('memento coef')\n",
    "plt.plot([-1, 4], [-1, 4], color='k')"
   ]
  },
  {
   "cell_type": "markdown",
   "id": "909f6dff",
   "metadata": {},
   "source": [
    "### Get SNP-gene pairs using bedtools"
   ]
  },
  {
   "cell_type": "code",
   "execution_count": null,
   "id": "137c6966",
   "metadata": {},
   "outputs": [],
   "source": [
    "from pybedtools import BedTool"
   ]
  },
  {
   "cell_type": "code",
   "execution_count": null,
   "id": "43319cc6",
   "metadata": {},
   "outputs": [],
   "source": [
    "snppos = pd.read_csv(data_path + 'cm_cg.snpspos.txt', sep='\\t')\n",
    "snppos['chrom'] = snppos['chr']\n",
    "snppos['pos_start'] = snppos['pos']\n",
    "snppos['pos_end'] = snppos['pos']\n",
    "snppos['rsid'] = snppos['snps']\n",
    "snppos = snppos[['chrom', 'pos_start', 'pos_end', 'rsid']]"
   ]
  },
  {
   "cell_type": "code",
   "execution_count": null,
   "id": "c3f08671",
   "metadata": {},
   "outputs": [],
   "source": [
    "enc = encode.Encode('/home/ssm-user/Github/misc-seq/miscseq/GRCh38Genes.bed')"
   ]
  },
  {
   "cell_type": "code",
   "execution_count": null,
   "id": "42534958",
   "metadata": {},
   "outputs": [],
   "source": [
    "tss_df = enc.get_tss_window(window_size=0)\n"
   ]
  },
  {
   "cell_type": "code",
   "execution_count": null,
   "id": "b6ac1204",
   "metadata": {},
   "outputs": [],
   "source": [
    "adata = sc.read(data_path + 'Lupus_study_adjusted_counts.h5ad')"
   ]
  },
  {
   "cell_type": "code",
   "execution_count": null,
   "id": "a386b194",
   "metadata": {},
   "outputs": [],
   "source": [
    "tss_df = tss_df[tss_df['symbol'].isin(adata.var.index)]"
   ]
  },
  {
   "cell_type": "code",
   "execution_count": null,
   "id": "e6378c7e",
   "metadata": {},
   "outputs": [],
   "source": [
    "tss_window_bed = BedTool.from_dataframe(tss_df)\n",
    "snp_bed = BedTool.from_dataframe(snppos)"
   ]
  },
  {
   "cell_type": "code",
   "execution_count": null,
   "id": "7e26767f",
   "metadata": {},
   "outputs": [],
   "source": [
    "result = BedTool.window(tss_window_bed, snp_bed, w=1000000).to_dataframe()"
   ]
  },
  {
   "cell_type": "code",
   "execution_count": null,
   "id": "593d6280",
   "metadata": {},
   "outputs": [],
   "source": [
    "gene_snp_pairs = result[['name', 'itemRgb']].drop_duplicates().rename(columns={'name':'gene', 'itemRgb':'rsid'})"
   ]
  },
  {
   "cell_type": "code",
   "execution_count": null,
   "id": "965de591",
   "metadata": {},
   "outputs": [],
   "source": [
    "gene_snp_pairs.to_csv(data_path +'gene_snp_pairs.csv', index=False)\n"
   ]
  },
  {
   "cell_type": "markdown",
   "id": "85afe198",
   "metadata": {},
   "source": [
    "### Run memento on these gene-SNP pairs"
   ]
  },
  {
   "cell_type": "code",
   "execution_count": null,
   "id": "20999812",
   "metadata": {},
   "outputs": [],
   "source": [
    "adata = sc.read(data_path + 'Lupus_study_adjusted_counts_cM_filtered.h5ad')\n",
    "adata = adata[adata.obs.ind_cov.isin(pos.columns)].copy()"
   ]
  },
  {
   "cell_type": "code",
   "execution_count": null,
   "id": "808fc4f7",
   "metadata": {},
   "outputs": [],
   "source": [
    "gene_snp_pairs = pd.read_csv(data_path +'gene_snp_pairs.csv')"
   ]
  },
  {
   "cell_type": "code",
   "execution_count": null,
   "id": "d38bb632",
   "metadata": {},
   "outputs": [],
   "source": [
    "gene_snp_pairs.shape"
   ]
  },
  {
   "cell_type": "code",
   "execution_count": null,
   "id": "1a199fd4",
   "metadata": {},
   "outputs": [],
   "source": [
    "adata.obs['capture_rate'] = 0.1\n",
    "memento.setup_memento(adata, q_column='capture_rate', trim_percent=0.1, filter_mean_thresh=0.05)"
   ]
  },
  {
   "cell_type": "code",
   "execution_count": null,
   "id": "5d8f46d7",
   "metadata": {},
   "outputs": [],
   "source": [
    "memento.create_groups(adata, label_columns=['ind_cov'])"
   ]
  },
  {
   "cell_type": "code",
   "execution_count": null,
   "id": "efeb6335",
   "metadata": {},
   "outputs": [],
   "source": [
    "memento.compute_1d_moments(adata, min_perc_group=.5, gene_list=gene_snp_pairs.gene.drop_duplicates().tolist())"
   ]
  },
  {
   "cell_type": "code",
   "execution_count": null,
   "id": "77099059",
   "metadata": {},
   "outputs": [],
   "source": [
    "gene_to_snp = dict(gene_snp_pairs[gene_snp_pairs.gene.isin(adata.var.index)].groupby('gene').rsid.apply(list))"
   ]
  },
  {
   "cell_type": "code",
   "execution_count": null,
   "id": "a17b3f80",
   "metadata": {},
   "outputs": [],
   "source": [
    "donor_df = pos[[x[3:] for x in adata.uns['memento']['groups']]].T\n"
   ]
  },
  {
   "cell_type": "code",
   "execution_count": null,
   "id": "e88dfac3",
   "metadata": {},
   "outputs": [],
   "source": [
    "memento.ht_1d_moments(\n",
    "    adata, \n",
    "    covariate=pd.DataFrame(np.ones((donor_df.shape[0], 1))),\n",
    "    treatment=donor_df,\n",
    "    treatment_for_gene=gene_to_snp,\n",
    "    num_boot=10000, \n",
    "    verbose=1,\n",
    "    num_cpus=93,\n",
    "    resampling='bootstrap',\n",
    "    approx=False)\n"
   ]
  },
  {
   "cell_type": "code",
   "execution_count": null,
   "id": "76701dff",
   "metadata": {},
   "outputs": [],
   "source": [
    "memento_result = memento.get_1d_ht_result(adata).rename(columns={'tx':'rsid'})\n"
   ]
  },
  {
   "cell_type": "code",
   "execution_count": null,
   "id": "a57773e4",
   "metadata": {},
   "outputs": [],
   "source": [
    "memento_result.to_csv(data_path + 'cm_1M_result.csv')"
   ]
  },
  {
   "cell_type": "code",
   "execution_count": null,
   "id": "43b4636f",
   "metadata": {},
   "outputs": [],
   "source": []
  },
  {
   "cell_type": "code",
   "execution_count": null,
   "id": "1e722f01",
   "metadata": {},
   "outputs": [],
   "source": []
  },
  {
   "cell_type": "code",
   "execution_count": null,
   "id": "032e1896",
   "metadata": {},
   "outputs": [],
   "source": [
    "df = pd.DataFrame()\n",
    "df['geno'] = donor_df['1:78723333'].values\n",
    "df['mean'] = memento.get_1d_moments(adata)[0].query('gene == \"IFI44L\"').values[0][1:]"
   ]
  },
  {
   "cell_type": "code",
   "execution_count": null,
   "id": "de24cbb1",
   "metadata": {},
   "outputs": [],
   "source": [
    "sns.boxplot(x='geno', y='mean', data=df)\n",
    "sns.stripplot(x='geno', y='mean', data=df, linewidth=2)"
   ]
  },
  {
   "cell_type": "code",
   "execution_count": null,
   "id": "20f06a05",
   "metadata": {},
   "outputs": [],
   "source": [
    "plt.hist(memento_result['de_pval'])"
   ]
  },
  {
   "cell_type": "code",
   "execution_count": null,
   "id": "7a5725e9",
   "metadata": {},
   "outputs": [],
   "source": [
    "memento_result['fdr'] = memento.util._fdrcorrect(memento_result['de_pval'])"
   ]
  },
  {
   "cell_type": "code",
   "execution_count": null,
   "id": "c5b710bd",
   "metadata": {},
   "outputs": [],
   "source": [
    "memento_result['bonf'] = np.clip(memento_result['de_pval']*memento_result.shape[0], a_max=1, a_min=0)"
   ]
  },
  {
   "cell_type": "code",
   "execution_count": null,
   "id": "b9b533a5",
   "metadata": {},
   "outputs": [],
   "source": [
    "memento_result.query('fdr < 0.0007')"
   ]
  },
  {
   "cell_type": "code",
   "execution_count": null,
   "id": "b4778268",
   "metadata": {},
   "outputs": [],
   "source": [
    "plt.hist(memento_result['fdr'])"
   ]
  },
  {
   "cell_type": "code",
   "execution_count": null,
   "id": "ac0c4a54",
   "metadata": {},
   "outputs": [],
   "source": [
    "memento_result.to_csv('cm_100k_result.csv', index=False)"
   ]
  },
  {
   "cell_type": "code",
   "execution_count": null,
   "id": "18970a39",
   "metadata": {},
   "outputs": [],
   "source": [
    "memento_result"
   ]
  },
  {
   "cell_type": "code",
   "execution_count": null,
   "id": "5f11d3ab",
   "metadata": {},
   "outputs": [],
   "source": [
    "memento_result.query('bonf < 0.1')#.shape[0]"
   ]
  },
  {
   "cell_type": "code",
   "execution_count": null,
   "id": "08d092c9",
   "metadata": {},
   "outputs": [],
   "source": [
    "onek_replication = pd.read_csv(data_path + 'OneK1K_eqtls_for_replication.txt', sep='\\t')#.query('cell_type == \"Mono_C\"')"
   ]
  },
  {
   "cell_type": "code",
   "execution_count": null,
   "id": "0a0af268",
   "metadata": {},
   "outputs": [],
   "source": [
    "mapping = pd.read_csv('mart_export.txt', sep='\\t')"
   ]
  },
  {
   "cell_type": "code",
   "execution_count": null,
   "id": "a7a755d6",
   "metadata": {},
   "outputs": [],
   "source": [
    "mapping['rsid'] = mapping['Chromosome/scaffold name'].astype(str) + ':'+mapping['Chromosome/scaffold position start (bp)'].astype(str)"
   ]
  },
  {
   "cell_type": "code",
   "execution_count": null,
   "id": "900ed4b3",
   "metadata": {},
   "outputs": [],
   "source": [
    "onek_replication = onek_replication.merge(mapping[['Variant name', 'rsid']], left_on='SNP_rsID', right_on='Variant name')"
   ]
  },
  {
   "cell_type": "code",
   "execution_count": null,
   "id": "55c38b42",
   "metadata": {},
   "outputs": [],
   "source": [
    "onek_replication['gene'] = onek_replication['GeneID']"
   ]
  },
  {
   "cell_type": "code",
   "execution_count": null,
   "id": "81faff74",
   "metadata": {},
   "outputs": [],
   "source": [
    "gene_snp_pairs.query('gene == \"LIPA\"').query('rsid == \"10:89243047\"')"
   ]
  },
  {
   "cell_type": "code",
   "execution_count": null,
   "id": "fdb501ed",
   "metadata": {},
   "outputs": [],
   "source": [
    "onek_replication.merge(cbc_eqtls, on=['rsid', 'gene'])"
   ]
  },
  {
   "cell_type": "code",
   "execution_count": null,
   "id": "dbdf1115",
   "metadata": {},
   "outputs": [],
   "source": [
    "onek_replication['SNP_rsID'].drop_duplicates().shape"
   ]
  },
  {
   "cell_type": "code",
   "execution_count": null,
   "id": "cc156c37",
   "metadata": {},
   "outputs": [],
   "source": [
    "memento_result['logp'] = -np.log(memento_result['de_pval'])"
   ]
  },
  {
   "cell_type": "code",
   "execution_count": null,
   "id": "f9f30b53",
   "metadata": {},
   "outputs": [],
   "source": [
    "cbc_eqtls['logp'] = -np.log(cbc_eqtls['pvalue'])"
   ]
  },
  {
   "cell_type": "code",
   "execution_count": null,
   "id": "068ec025",
   "metadata": {},
   "outputs": [],
   "source": [
    "plt.scatter(cbc_eqtls['beta'], cbc_eqtls['logp'], s=1)\n",
    "plt.scatter(cbc_eqtls.merge(onek_replication, on=['rsid', 'gene'])['beta'], cbc_eqtls.merge(onek_replication, on=['rsid', 'gene'])['logp'], s=30)"
   ]
  },
  {
   "cell_type": "code",
   "execution_count": null,
   "id": "9af41550",
   "metadata": {},
   "outputs": [],
   "source": [
    "plt.scatter(memento_result['de_coef'], memento_result['logp'], s=1)\n",
    "plt.scatter(memento_result.merge(onek_replication, on=['rsid', 'gene'])['de_coef'], memento_result.merge(onek_replication, on=['rsid', 'gene'])['logp'], s=30)"
   ]
  },
  {
   "cell_type": "code",
   "execution_count": null,
   "id": "d50520c2",
   "metadata": {},
   "outputs": [],
   "source": [
    "pv_sorted = memento_result['de_pval'].sort_values().values"
   ]
  },
  {
   "cell_type": "code",
   "execution_count": null,
   "id": "9c60758e",
   "metadata": {},
   "outputs": [],
   "source": [
    "quantiles = stats.uniform.ppf(np.linspace(0, 1, pv_sorted.shape[0]), loc=0, scale=1)"
   ]
  },
  {
   "cell_type": "code",
   "execution_count": null,
   "id": "7b3d92ec",
   "metadata": {},
   "outputs": [],
   "source": [
    "memento_result.sort_values('de_pval').head(15)"
   ]
  },
  {
   "cell_type": "markdown",
   "id": "a422e12c",
   "metadata": {},
   "source": [
    "### 1K1K replication"
   ]
  },
  {
   "cell_type": "code",
   "execution_count": null,
   "id": "9aa76c0b",
   "metadata": {},
   "outputs": [],
   "source": [
    "onek1k_pos = pd.read_csv('1k1k_snps_chrpos.txt', header=None).iloc[:,0].tolist()\n",
    "onek1k_info = pd.read_csv('1k1k_snp_info.txt', sep='\\t', header=None).iloc[:,:3]\n",
    "onek1k_info.columns = ['chr', 'pos', 'name']\n",
    "onek1k_info['rsid'] = onek1k_info['chr'].astype(str) + ':' + onek1k_info['pos'].astype(str)"
   ]
  },
  {
   "cell_type": "code",
   "execution_count": null,
   "id": "c9e62e55",
   "metadata": {},
   "outputs": [],
   "source": [
    "onek_replication = pd.read_csv(data_path + 'OneK1K_eqtls_for_replication.txt', sep='\\t')#.query('cell_type == \"Mono_C\"')"
   ]
  },
  {
   "cell_type": "code",
   "execution_count": null,
   "id": "fe999075",
   "metadata": {},
   "outputs": [],
   "source": [
    "onek_replication = onek_replication.merge(onek1k_info, left_on='SNP_rsID', right_on='name').query('cell_type == \"Mono_C\"')"
   ]
  },
  {
   "cell_type": "code",
   "execution_count": null,
   "id": "80ad67ea",
   "metadata": {},
   "outputs": [],
   "source": []
  },
  {
   "cell_type": "code",
   "execution_count": null,
   "id": "d26af17b",
   "metadata": {},
   "outputs": [],
   "source": [
    "cbc_eqtls.head(2)"
   ]
  },
  {
   "cell_type": "code",
   "execution_count": null,
   "id": "bf14c80a",
   "metadata": {},
   "outputs": [],
   "source": [
    "cbc_overlap = onek_replication"
   ]
  },
  {
   "cell_type": "code",
   "execution_count": null,
   "id": "f7ce51b3",
   "metadata": {},
   "outputs": [],
   "source": [
    "onek_replication['gene'] = onek_replication['GeneID']"
   ]
  },
  {
   "cell_type": "code",
   "execution_count": null,
   "id": "cc881f9c",
   "metadata": {},
   "outputs": [],
   "source": [
    "onek_replication.head(2)"
   ]
  },
  {
   "cell_type": "code",
   "execution_count": null,
   "id": "88a8388f",
   "metadata": {},
   "outputs": [],
   "source": [
    "cbc_eqtls.shape"
   ]
  },
  {
   "cell_type": "code",
   "execution_count": null,
   "id": "6327f73b",
   "metadata": {},
   "outputs": [],
   "source": [
    "onek_replication.merge(cbc_eqtls, on=['gene', 'rsid']).shape"
   ]
  },
  {
   "cell_type": "code",
   "execution_count": null,
   "id": "79571d1b",
   "metadata": {},
   "outputs": [],
   "source": [
    "memento_result.shape"
   ]
  },
  {
   "cell_type": "code",
   "execution_count": null,
   "id": "b079eed1",
   "metadata": {},
   "outputs": [],
   "source": [
    "memento_result = pd.read_csv('cm_100k_result.csv').sort_values('de_coef')#.head(98063)"
   ]
  },
  {
   "cell_type": "code",
   "execution_count": null,
   "id": "b1d66bfe",
   "metadata": {},
   "outputs": [],
   "source": [
    "onek_replication.merge(memento_result, on=['gene', 'rsid']).shape"
   ]
  },
  {
   "cell_type": "code",
   "execution_count": null,
   "id": "bcaed63a",
   "metadata": {},
   "outputs": [],
   "source": [
    "onek_replication.head(2)"
   ]
  },
  {
   "cell_type": "code",
   "execution_count": null,
   "id": "53d1508f",
   "metadata": {},
   "outputs": [],
   "source": [
    "overlap = set(onek1k_info['rsid']) & set(pos.index.tolist())"
   ]
  },
  {
   "cell_type": "code",
   "execution_count": null,
   "id": "d9b1e37f",
   "metadata": {},
   "outputs": [],
   "source": [
    "len(overlap)"
   ]
  },
  {
   "cell_type": "code",
   "execution_count": null,
   "id": "50538b43",
   "metadata": {},
   "outputs": [],
   "source": [
    "hits_snps = set(onek_replication.rsid.tolist())"
   ]
  },
  {
   "cell_type": "code",
   "execution_count": null,
   "id": "7a9f8ba7",
   "metadata": {},
   "outputs": [],
   "source": [
    "set(overlap) & set(hits_snps)"
   ]
  },
  {
   "cell_type": "code",
   "execution_count": null,
   "id": "2ec8ea98",
   "metadata": {},
   "outputs": [],
   "source": []
  },
  {
   "cell_type": "code",
   "execution_count": null,
   "id": "bf850db5",
   "metadata": {},
   "outputs": [],
   "source": []
  },
  {
   "cell_type": "code",
   "execution_count": null,
   "id": "91321cf9",
   "metadata": {},
   "outputs": [],
   "source": [
    "onek_replication.query('rsid in @overlap')"
   ]
  },
  {
   "cell_type": "markdown",
   "id": "5ee35ff0",
   "metadata": {},
   "source": [
    "### Test"
   ]
  },
  {
   "cell_type": "code",
   "execution_count": null,
   "id": "19a8ebce",
   "metadata": {},
   "outputs": [],
   "source": [
    "adata = sc.read(data_path + 'Lupus_study_adjusted_counts.h5ad')\n",
    "adata = adata[adata.obs.ind_cov.isin(pos.columns)].copy()"
   ]
  },
  {
   "cell_type": "code",
   "execution_count": null,
   "id": "f8d05b71",
   "metadata": {},
   "outputs": [],
   "source": [
    "gene_snp_pairs = pd.read_csv(data_path +'gene_snp_pairs.csv')\n",
    "gene_snp_pairs = gene_snp_pairs.query('gene == \"IFITM3\" & rsid == \"11:388579\"')"
   ]
  },
  {
   "cell_type": "code",
   "execution_count": null,
   "id": "7a5219ed",
   "metadata": {},
   "outputs": [],
   "source": [
    "adata.obs['capture_rate'] = 0.1\n",
    "memento.setup_memento(adata, q_column='capture_rate', trim_percent=0.1, filter_mean_thresh=0.05)"
   ]
  },
  {
   "cell_type": "code",
   "execution_count": null,
   "id": "ab8ce5cb",
   "metadata": {},
   "outputs": [],
   "source": [
    "memento.create_groups(adata, label_columns=['ind_cov'])"
   ]
  },
  {
   "cell_type": "code",
   "execution_count": null,
   "id": "0e29edc3",
   "metadata": {},
   "outputs": [],
   "source": [
    "memento.compute_1d_moments(adata, min_perc_group=.5, gene_list=['IFITM3'])"
   ]
  },
  {
   "cell_type": "code",
   "execution_count": null,
   "id": "334744a9",
   "metadata": {},
   "outputs": [],
   "source": [
    "gene_to_snp = dict(gene_snp_pairs[gene_snp_pairs.gene.isin(adata.var.index)].groupby('gene').rsid.apply(list))"
   ]
  },
  {
   "cell_type": "code",
   "execution_count": null,
   "id": "f788e5da",
   "metadata": {},
   "outputs": [],
   "source": [
    "donor_df = pos[[x[3:] for x in adata.uns['memento']['groups']]].T\n"
   ]
  },
  {
   "cell_type": "code",
   "execution_count": null,
   "id": "f129ea9a",
   "metadata": {},
   "outputs": [],
   "source": [
    "boot_mean = memento.ht_1d_moments(\n",
    "    adata, \n",
    "    covariate=pd.DataFrame(np.ones((donor_df.shape[0], 1))),\n",
    "    treatment=donor_df,\n",
    "    treatment_for_gene=gene_to_snp,\n",
    "    num_boot=10000, \n",
    "    verbose=1,\n",
    "    num_cpus=1,\n",
    "    resampling='bootstrap',\n",
    "    approx=True)\n"
   ]
  },
  {
   "cell_type": "code",
   "execution_count": null,
   "id": "0ec33cf5",
   "metadata": {},
   "outputs": [],
   "source": [
    "from sklearn.linear_model import LinearRegression"
   ]
  },
  {
   "cell_type": "code",
   "execution_count": null,
   "id": "e3d300ea",
   "metadata": {},
   "outputs": [],
   "source": [
    "coefs = LinearRegression().fit(donor_df[['11:388579']].values, boot_mean).coef_.reshape(-1)"
   ]
  },
  {
   "cell_type": "code",
   "execution_count": null,
   "id": "6271e824",
   "metadata": {},
   "outputs": [],
   "source": [
    "coefs.shape"
   ]
  },
  {
   "cell_type": "code",
   "execution_count": null,
   "id": "dcfd7d32",
   "metadata": {},
   "outputs": [],
   "source": [
    "np.nanstd(coefs)"
   ]
  },
  {
   "cell_type": "code",
   "execution_count": null,
   "id": "5a19e44b",
   "metadata": {},
   "outputs": [],
   "source": [
    "sns.kdeplot(coefs)"
   ]
  },
  {
   "cell_type": "code",
   "execution_count": null,
   "id": "2892d10e",
   "metadata": {},
   "outputs": [],
   "source": [
    "boot_mean"
   ]
  },
  {
   "cell_type": "code",
   "execution_count": null,
   "id": "b7c65357",
   "metadata": {},
   "outputs": [],
   "source": [
    "memento.get_1d_ht_result(adata).rename(columns={'tx':'rsid'})"
   ]
  },
  {
   "cell_type": "code",
   "execution_count": null,
   "id": "3457ad43",
   "metadata": {},
   "outputs": [],
   "source": []
  },
  {
   "cell_type": "code",
   "execution_count": null,
   "id": "ffade2c0",
   "metadata": {},
   "outputs": [],
   "source": []
  },
  {
   "cell_type": "code",
   "execution_count": null,
   "id": "88ad3863",
   "metadata": {},
   "outputs": [],
   "source": [
    "-np.log(pv_sorted)"
   ]
  },
  {
   "cell_type": "code",
   "execution_count": null,
   "id": "4434e7bc",
   "metadata": {},
   "outputs": [],
   "source": [
    "plt.scatter(-np.log(quantiles), -np.log(pv_sorted))"
   ]
  },
  {
   "cell_type": "code",
   "execution_count": null,
   "id": "1937d623",
   "metadata": {},
   "outputs": [],
   "source": [
    "quantiles"
   ]
  },
  {
   "cell_type": "code",
   "execution_count": null,
   "id": "5bcc2888",
   "metadata": {},
   "outputs": [],
   "source": [
    "pv_"
   ]
  },
  {
   "cell_type": "code",
   "execution_count": null,
   "id": "82f0b7c6",
   "metadata": {},
   "outputs": [],
   "source": [
    "memento_result['de_pval']"
   ]
  },
  {
   "cell_type": "markdown",
   "id": "eab117e8",
   "metadata": {},
   "source": [
    "### P-value histogram"
   ]
  },
  {
   "cell_type": "code",
   "execution_count": null,
   "id": "68f48406",
   "metadata": {},
   "outputs": [],
   "source": [
    "import pandas as pd"
   ]
  },
  {
   "cell_type": "code",
   "execution_count": null,
   "id": "1aa47932",
   "metadata": {},
   "outputs": [],
   "source": [
    "result = pd.read_csv(data_path + 'window_100k/100k_result.csv', index_col=0)"
   ]
  },
  {
   "cell_type": "code",
   "execution_count": null,
   "id": "e51c5f4b",
   "metadata": {},
   "outputs": [],
   "source": [
    "mateqtl_result = pd.r"
   ]
  },
  {
   "cell_type": "code",
   "execution_count": null,
   "id": "deaa3078",
   "metadata": {},
   "outputs": [],
   "source": [
    "theoretical = -np.log10(np.linspace(1e-9, 1, result.shape[0]))\n",
    "actual = -np.log10(result['de_pval'].sort_values().values)"
   ]
  },
  {
   "cell_type": "code",
   "execution_count": null,
   "id": "48bb12e0",
   "metadata": {},
   "outputs": [],
   "source": [
    "plt.scatter(theoretical, actual, s=1)\n",
    "plt.plot(theoretical, theoretical, color='r')"
   ]
  },
  {
   "cell_type": "code",
   "execution_count": null,
   "id": "96c69138",
   "metadata": {},
   "outputs": [],
   "source": [
    "mateqtl_output = pd.read_csv(data_path + 'mateqtl_output/cm_cg_mateqtl_cis_cov.out', sep='\\t')\n",
    "mateqtl_output['hit_id'] = mateqtl_output['gene'] + '*' + mateqtl_output['SNP']\n",
    "# mateqtl_output['onek_valid'] = mateqtl_output['hit_id'].isin(onek_replication['hit_id'])\n",
    "mateqtl_output['pvalue'] = mateqtl_output['p-value']"
   ]
  },
  {
   "cell_type": "code",
   "execution_count": null,
   "id": "47db833f",
   "metadata": {},
   "outputs": [],
   "source": [
    "theoretical_meq = -np.log10(np.linspace(1e-9, 1, mateqtl_output.shape[0]))\n",
    "actual_meq = -np.log10(mateqtl_output['p-value'].sort_values().values)"
   ]
  },
  {
   "cell_type": "code",
   "execution_count": null,
   "id": "b2b906a9",
   "metadata": {},
   "outputs": [],
   "source": [
    "plt.scatter(theoretical, actual, s=1)\n",
    "plt.scatter(theoretical_meq, actual_meq, s=1)\n",
    "plt.plot(theoretical, theoretical, color='r')\n",
    "\n"
   ]
  },
  {
   "cell_type": "code",
   "execution_count": null,
   "id": "506a2e30",
   "metadata": {},
   "outputs": [],
   "source": []
  }
 ],
 "metadata": {
  "kernelspec": {
   "display_name": "Python 3 (ipykernel)",
   "language": "python",
   "name": "python3"
  },
  "language_info": {
   "codemirror_mode": {
    "name": "ipython",
    "version": 3
   },
   "file_extension": ".py",
   "mimetype": "text/x-python",
   "name": "python",
   "nbconvert_exporter": "python",
   "pygments_lexer": "ipython3",
   "version": "3.8.8"
  }
 },
 "nbformat": 4,
 "nbformat_minor": 5
}
