{
 "cells": [
  {
   "cell_type": "markdown",
   "id": "7d5b082e",
   "metadata": {},
   "source": [
    "# Matrix eQTL"
   ]
  },
  {
   "cell_type": "code",
   "execution_count": 10,
   "id": "25fa2cc0",
   "metadata": {},
   "outputs": [],
   "source": [
    "library(\"MatrixEQTL\");"
   ]
  },
  {
   "cell_type": "code",
   "execution_count": 11,
   "id": "dad9949f",
   "metadata": {},
   "outputs": [],
   "source": [
    "base.dir = '/data_volume/memento/lupus/mateqtl_input/'"
   ]
  },
  {
   "cell_type": "code",
   "execution_count": 12,
   "id": "e1ee7c15",
   "metadata": {},
   "outputs": [],
   "source": [
    "ind <- '50_0'\n",
    "ct <- 'B'\n",
    "pop <- 'asian'"
   ]
  },
  {
   "cell_type": "code",
   "execution_count": 13,
   "id": "ff452270",
   "metadata": {},
   "outputs": [
    {
     "name": "stderr",
     "output_type": "stream",
     "text": [
      "Rows read: 7434 done.\n",
      "\n",
      "Rows read: 35 done.\n",
      "\n",
      "Rows read: 483 done.\n",
      "\n",
      "Processing covariates\n",
      "\n",
      "Task finished in 0.003 seconds\n",
      "\n",
      "Processing gene expression data (imputation, residualization)\n",
      "\n",
      "Task finished in 0.04 seconds\n",
      "\n",
      "Creating output file(s)\n",
      "\n",
      "Task finished in 0.018 seconds\n",
      "\n",
      "Performing eQTL analysis\n",
      "\n",
      "100.00% done, 183,746 eQTLs\n",
      "\n",
      "Task finished in 1.728 seconds\n",
      "\n",
      "\n",
      "\n"
     ]
    }
   ],
   "source": [
    "for ct in \n",
    "\n",
    "\n",
    "useModel = modelLINEAR; # modelANOVA, modelLINEAR, or modelLINEAR_CROSS\n",
    "SNP_file_name = paste(base.dir, 'sampled_pos/', pop, '_', ind, '.tsv', sep=\"\");\n",
    "covariates_file_name = paste(base.dir, 'sampled_cov/', pop, '_', ind, '.tsv', sep=\"\");\n",
    "pvOutputThreshold = 0.05;\n",
    "errorCovariance = numeric();\n",
    "expression_file_name = paste(base.dir, \"sampled_pseudobulk/\", pop, '_', ct, '_', ind, '.csv',sep=\"\");\n",
    "output_file_name = paste(base.dir, \"../mateqtl_output/\", pop, '_', ct, '_', ind, '.csv', sep=\"\");\n",
    "\n",
    "## Load genotype data\n",
    "\n",
    "snps = SlicedData$new();\n",
    "snps$fileDelimiter = \"\\t\";      # the TAB character\n",
    "snps$fileOmitCharacters = \"NA\"; # denote missing values;\n",
    "snps$fileSkipRows = 1;          # one row of column labels\n",
    "snps$fileSkipColumns = 1;       # one column of row labels\n",
    "snps$fileSliceSize = 100000;      # read file in slices of 2,000 rows\n",
    "snps$LoadFile(SNP_file_name);\n",
    "\n",
    "\n",
    "## Load covariates\n",
    "\n",
    "cvrt = SlicedData$new();\n",
    "cvrt$fileDelimiter = \"\\t\";      # the TAB character\n",
    "cvrt$fileOmitCharacters = \"NA\"; # denote missing values;\n",
    "cvrt$fileSkipRows = 1;          # one row of column labels\n",
    "cvrt$fileSkipColumns = 1;       # one column of row labels\n",
    "if(length(covariates_file_name)>0) {\n",
    "cvrt$LoadFile(covariates_file_name);\n",
    "}\n",
    "\n",
    "gene = SlicedData$new();\n",
    "gene$fileDelimiter = \"\\t\";      # the TAB character\n",
    "gene$fileOmitCharacters = \"NA\"; # denote missing values;\n",
    "gene$fileSkipRows = 1;          # one row of column labels\n",
    "gene$fileSkipColumns = 1;       # one column of row labels\n",
    "gene$fileSliceSize = 2000;      # read file in slices of 2,000 rows\n",
    "gene$LoadFile(expression_file_name);\n",
    "\n",
    "me = Matrix_eQTL_main(\n",
    "    snps = snps,\n",
    "    gene = gene,\n",
    "    cvrt = cvrt,\n",
    "    output_file_name     = output_file_name,\n",
    "    pvOutputThreshold     = pvOutputThreshold,\n",
    "    useModel = useModel,\n",
    "    errorCovariance = errorCovariance,\n",
    "    verbose = TRUE,\n",
    "#     output_file_name.cis = output_file_name_cis,\n",
    "#     pvOutputThreshold.cis = pvOutputThreshold_cis,\n",
    "#     snpspos = snpspos,\n",
    "#     genepos = genepos,\n",
    "#     cisDist = cisDist,\n",
    "    pvalue.hist = \"qqplot\",\n",
    "    min.pv.by.genesnp = FALSE,\n",
    "    noFDRsaveMemory = FALSE);"
   ]
  }
 ],
 "metadata": {
  "kernelspec": {
   "display_name": "R",
   "language": "R",
   "name": "ir"
  },
  "language_info": {
   "codemirror_mode": "r",
   "file_extension": ".r",
   "mimetype": "text/x-r-source",
   "name": "R",
   "pygments_lexer": "r",
   "version": "4.0.5"
  }
 },
 "nbformat": 4,
 "nbformat_minor": 5
}
