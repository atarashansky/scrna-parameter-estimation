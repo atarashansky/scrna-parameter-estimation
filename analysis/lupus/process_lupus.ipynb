{
 "cells": [
  {
   "cell_type": "markdown",
   "id": "16aea9c3",
   "metadata": {},
   "source": [
    "# Process the lupus data\n",
    "\n",
    "- Filter and subset by cell type\n",
    "- Create pseudobulks for matrix eQTL"
   ]
  },
  {
   "cell_type": "code",
   "execution_count": 1,
   "id": "dc0b32b1",
   "metadata": {},
   "outputs": [],
   "source": [
    "import scanpy as sc\n",
    "import seaborn as sns\n",
    "import pandas as pd\n",
    "import matplotlib.pyplot as plt\n",
    "import numpy as np\n",
    "import scipy.stats as stats\n",
    "import itertools\n",
    "from pybedtools import BedTool\n",
    "import statsmodels.formula.api as smf\n",
    "import statsmodels.api as sm\n",
    "\n",
    "import os\n",
    "import pickle as pkl\n",
    "%matplotlib inline\n",
    "import qvalue"
   ]
  },
  {
   "cell_type": "code",
   "execution_count": 2,
   "id": "915f0910",
   "metadata": {},
   "outputs": [],
   "source": [
    "import sys\n",
    "sys.path.append('/home/ssm-user/Github/scrna-parameter-estimation/dist/memento-0.0.8-py3.8.egg')\n",
    "sys.path.append('/home/ssm-user/Github/misc-seq/miscseq/')\n",
    "import encode\n",
    "import memento"
   ]
  },
  {
   "cell_type": "code",
   "execution_count": 3,
   "id": "3f3b1e9c",
   "metadata": {},
   "outputs": [],
   "source": [
    "data_path  = '/data_volume/memento/lupus/'"
   ]
  },
  {
   "cell_type": "markdown",
   "id": "756722cd",
   "metadata": {},
   "source": [
    "### Read the lupus data"
   ]
  },
  {
   "cell_type": "code",
   "execution_count": 4,
   "id": "c519aedb",
   "metadata": {},
   "outputs": [],
   "source": [
    "pos = pd.read_csv(data_path + 'mateqtl_input/cm_cg.genos', sep='\\t', index_col=0)"
   ]
  },
  {
   "cell_type": "code",
   "execution_count": 5,
   "id": "60e25294",
   "metadata": {},
   "outputs": [],
   "source": [
    "pos = pos[~pos.index.duplicated(keep='first')]"
   ]
  },
  {
   "cell_type": "code",
   "execution_count": 6,
   "id": "9a015cc3",
   "metadata": {},
   "outputs": [
    {
     "name": "stderr",
     "output_type": "stream",
     "text": [
      "/home/ssm-user/anaconda3/envs/single_cell/lib/python3.8/site-packages/pandas/core/arrays/categorical.py:2631: FutureWarning: The `inplace` parameter in pandas.Categorical.remove_unused_categories is deprecated and will be removed in a future version.\n",
      "  res = method(*args, **kwargs)\n"
     ]
    }
   ],
   "source": [
    "adata = sc.read(data_path + 'Lupus_study_adjusted_counts.h5ad')\n",
    "adata = adata[adata.obs.ind_cov.isin(pos.columns)].copy()"
   ]
  },
  {
   "cell_type": "code",
   "execution_count": 7,
   "id": "23ecf452",
   "metadata": {},
   "outputs": [
    {
     "data": {
      "text/html": [
       "<div>\n",
       "<style scoped>\n",
       "    .dataframe tbody tr th:only-of-type {\n",
       "        vertical-align: middle;\n",
       "    }\n",
       "\n",
       "    .dataframe tbody tr th {\n",
       "        vertical-align: top;\n",
       "    }\n",
       "\n",
       "    .dataframe thead th {\n",
       "        text-align: right;\n",
       "    }\n",
       "</style>\n",
       "<table border=\"1\" class=\"dataframe\">\n",
       "  <thead>\n",
       "    <tr style=\"text-align: right;\">\n",
       "      <th></th>\n",
       "      <th>HC-519</th>\n",
       "      <th>1240_1240</th>\n",
       "      <th>HC-022</th>\n",
       "      <th>1771_1771</th>\n",
       "      <th>1472_1472</th>\n",
       "      <th>HC-573</th>\n",
       "      <th>1294_1294</th>\n",
       "      <th>1754_1754</th>\n",
       "      <th>HC-571</th>\n",
       "      <th>1193_1193</th>\n",
       "      <th>...</th>\n",
       "      <th>1492_1492</th>\n",
       "      <th>1452_1452</th>\n",
       "      <th>1046_1046</th>\n",
       "      <th>HC-551</th>\n",
       "      <th>HC-574</th>\n",
       "      <th>1045_1045</th>\n",
       "      <th>1248_1248</th>\n",
       "      <th>HC-014</th>\n",
       "      <th>HC-011</th>\n",
       "      <th>HC-566</th>\n",
       "    </tr>\n",
       "    <tr>\n",
       "      <th>CHROM:POS</th>\n",
       "      <th></th>\n",
       "      <th></th>\n",
       "      <th></th>\n",
       "      <th></th>\n",
       "      <th></th>\n",
       "      <th></th>\n",
       "      <th></th>\n",
       "      <th></th>\n",
       "      <th></th>\n",
       "      <th></th>\n",
       "      <th></th>\n",
       "      <th></th>\n",
       "      <th></th>\n",
       "      <th></th>\n",
       "      <th></th>\n",
       "      <th></th>\n",
       "      <th></th>\n",
       "      <th></th>\n",
       "      <th></th>\n",
       "      <th></th>\n",
       "      <th></th>\n",
       "    </tr>\n",
       "  </thead>\n",
       "  <tbody>\n",
       "    <tr>\n",
       "      <th>1:706368</th>\n",
       "      <td>1</td>\n",
       "      <td>0</td>\n",
       "      <td>1</td>\n",
       "      <td>0</td>\n",
       "      <td>1</td>\n",
       "      <td>1</td>\n",
       "      <td>1</td>\n",
       "      <td>0</td>\n",
       "      <td>0</td>\n",
       "      <td>0</td>\n",
       "      <td>...</td>\n",
       "      <td>0</td>\n",
       "      <td>1</td>\n",
       "      <td>1</td>\n",
       "      <td>1</td>\n",
       "      <td>0</td>\n",
       "      <td>1</td>\n",
       "      <td>1</td>\n",
       "      <td>1</td>\n",
       "      <td>1</td>\n",
       "      <td>0</td>\n",
       "    </tr>\n",
       "    <tr>\n",
       "      <th>1:713977</th>\n",
       "      <td>0</td>\n",
       "      <td>0</td>\n",
       "      <td>1</td>\n",
       "      <td>0</td>\n",
       "      <td>1</td>\n",
       "      <td>0</td>\n",
       "      <td>0</td>\n",
       "      <td>0</td>\n",
       "      <td>1</td>\n",
       "      <td>1</td>\n",
       "      <td>...</td>\n",
       "      <td>1</td>\n",
       "      <td>0</td>\n",
       "      <td>0</td>\n",
       "      <td>1</td>\n",
       "      <td>0</td>\n",
       "      <td>0</td>\n",
       "      <td>0</td>\n",
       "      <td>0</td>\n",
       "      <td>0</td>\n",
       "      <td>0</td>\n",
       "    </tr>\n",
       "    <tr>\n",
       "      <th>1:714439</th>\n",
       "      <td>0</td>\n",
       "      <td>0</td>\n",
       "      <td>1</td>\n",
       "      <td>0</td>\n",
       "      <td>1</td>\n",
       "      <td>0</td>\n",
       "      <td>0</td>\n",
       "      <td>0</td>\n",
       "      <td>1</td>\n",
       "      <td>1</td>\n",
       "      <td>...</td>\n",
       "      <td>1</td>\n",
       "      <td>0</td>\n",
       "      <td>0</td>\n",
       "      <td>1</td>\n",
       "      <td>0</td>\n",
       "      <td>0</td>\n",
       "      <td>0</td>\n",
       "      <td>0</td>\n",
       "      <td>0</td>\n",
       "      <td>0</td>\n",
       "    </tr>\n",
       "    <tr>\n",
       "      <th>1:723891</th>\n",
       "      <td>2</td>\n",
       "      <td>1</td>\n",
       "      <td>1</td>\n",
       "      <td>2</td>\n",
       "      <td>1</td>\n",
       "      <td>2</td>\n",
       "      <td>2</td>\n",
       "      <td>2</td>\n",
       "      <td>0</td>\n",
       "      <td>1</td>\n",
       "      <td>...</td>\n",
       "      <td>0</td>\n",
       "      <td>2</td>\n",
       "      <td>2</td>\n",
       "      <td>1</td>\n",
       "      <td>2</td>\n",
       "      <td>2</td>\n",
       "      <td>2</td>\n",
       "      <td>2</td>\n",
       "      <td>2</td>\n",
       "      <td>2</td>\n",
       "    </tr>\n",
       "    <tr>\n",
       "      <th>1:727655</th>\n",
       "      <td>0</td>\n",
       "      <td>0</td>\n",
       "      <td>1</td>\n",
       "      <td>0</td>\n",
       "      <td>1</td>\n",
       "      <td>0</td>\n",
       "      <td>0</td>\n",
       "      <td>0</td>\n",
       "      <td>1</td>\n",
       "      <td>1</td>\n",
       "      <td>...</td>\n",
       "      <td>2</td>\n",
       "      <td>0</td>\n",
       "      <td>0</td>\n",
       "      <td>1</td>\n",
       "      <td>0</td>\n",
       "      <td>0</td>\n",
       "      <td>0</td>\n",
       "      <td>0</td>\n",
       "      <td>0</td>\n",
       "      <td>0</td>\n",
       "    </tr>\n",
       "  </tbody>\n",
       "</table>\n",
       "<p>5 rows × 97 columns</p>\n",
       "</div>"
      ],
      "text/plain": [
       "           HC-519  1240_1240  HC-022  1771_1771  1472_1472  HC-573  1294_1294  \\\n",
       "CHROM:POS                                                                       \n",
       "1:706368        1          0       1          0          1       1          1   \n",
       "1:713977        0          0       1          0          1       0          0   \n",
       "1:714439        0          0       1          0          1       0          0   \n",
       "1:723891        2          1       1          2          1       2          2   \n",
       "1:727655        0          0       1          0          1       0          0   \n",
       "\n",
       "           1754_1754  HC-571  1193_1193  ...  1492_1492  1452_1452  1046_1046  \\\n",
       "CHROM:POS                                ...                                    \n",
       "1:706368           0       0          0  ...          0          1          1   \n",
       "1:713977           0       1          1  ...          1          0          0   \n",
       "1:714439           0       1          1  ...          1          0          0   \n",
       "1:723891           2       0          1  ...          0          2          2   \n",
       "1:727655           0       1          1  ...          2          0          0   \n",
       "\n",
       "           HC-551  HC-574  1045_1045  1248_1248  HC-014  HC-011  HC-566  \n",
       "CHROM:POS                                                                \n",
       "1:706368        1       0          1          1       1       1       0  \n",
       "1:713977        1       0          0          0       0       0       0  \n",
       "1:714439        1       0          0          0       0       0       0  \n",
       "1:723891        1       2          2          2       2       2       2  \n",
       "1:727655        1       0          0          0       0       0       0  \n",
       "\n",
       "[5 rows x 97 columns]"
      ]
     },
     "execution_count": 7,
     "metadata": {},
     "output_type": "execute_result"
    }
   ],
   "source": [
    "pos.head(5)"
   ]
  },
  {
   "cell_type": "code",
   "execution_count": 8,
   "id": "6221afd0",
   "metadata": {},
   "outputs": [
    {
     "data": {
      "text/plain": [
       "cM        123153\n",
       "T4        118397\n",
       "T8         97743\n",
       "B          60167\n",
       "NK         28881\n",
       "ncM        18595\n",
       "cDC         6272\n",
       "Prolif      3652\n",
       "pDC         1307\n",
       "PB           676\n",
       "Progen       290\n",
       "Name: cg_cov, dtype: int64"
      ]
     },
     "execution_count": 8,
     "metadata": {},
     "output_type": "execute_result"
    }
   ],
   "source": [
    "adata.obs.cg_cov.value_counts()"
   ]
  },
  {
   "cell_type": "markdown",
   "id": "91f5076f",
   "metadata": {},
   "source": [
    "### Read cell types from 1K1K results"
   ]
  },
  {
   "cell_type": "code",
   "execution_count": 9,
   "id": "bda26a65",
   "metadata": {},
   "outputs": [],
   "source": [
    "onek1k_pos = pd.read_csv('1k1k_snps_chrpos.txt', header=None).iloc[:,0].tolist()\n",
    "onek1k_info = pd.read_csv('1k1k_snp_info.txt', sep='\\t', header=None).iloc[:,:3]\n",
    "onek1k_info.columns = ['chr', 'pos', 'name']\n",
    "onek1k_info['rsid'] = onek1k_info['chr'].astype(str) + ':' + onek1k_info['pos'].astype(str)"
   ]
  },
  {
   "cell_type": "code",
   "execution_count": 9,
   "id": "68c46d77",
   "metadata": {},
   "outputs": [],
   "source": [
    "onek_replication = pd.read_csv(data_path + 'OneK1K_eqtls_for_replication.txt', sep='\\t')#.query('cell_type == \"Mono_C\"')"
   ]
  },
  {
   "cell_type": "code",
   "execution_count": 10,
   "id": "cb1e867e",
   "metadata": {},
   "outputs": [],
   "source": [
    "onek_replication = onek_replication.merge(onek1k_info, left_on='SNP_rsID', right_on='name')#.query('cell_type == \"Mono_C\"')"
   ]
  },
  {
   "cell_type": "code",
   "execution_count": 12,
   "id": "c6ade33a",
   "metadata": {},
   "outputs": [],
   "source": [
    "ct_converter = {\n",
    "    'CD4_Naïve_CM':'T4',\n",
    "    'CD4_EM_TEMRA':'T4',\n",
    "    'CD4_SOX4':'T4',\n",
    "    'CD8_EM_TEMRA':'T8',\n",
    "    'CD8_Naïve_CM':'T8',\n",
    "    'CD8_S100B':'T8',\n",
    "    'Mono_C':'cM',\n",
    "    'Mono_NC':'ncM',\n",
    "    'NK':'NK',\n",
    "    'NK_recruiting':'NK',\n",
    "    'B_Imm_Naïve':'B',\n",
    "    'BMem':'B',\n",
    "    'Plasma':'B'\n",
    "}"
   ]
  },
  {
   "cell_type": "code",
   "execution_count": 13,
   "id": "18eb9099",
   "metadata": {},
   "outputs": [],
   "source": [
    "cts = list(set([y for x,y in ct_converter.items()]))"
   ]
  },
  {
   "cell_type": "code",
   "execution_count": 14,
   "id": "3e158dbd",
   "metadata": {},
   "outputs": [],
   "source": [
    "onek_replication = onek_replication.\\\n",
    "    query('rsid in @pos.index.tolist() & cell_type in @ct_converter.keys() & GeneID in @adata.var.index')\\\n",
    "    .rename(columns={'GeneID':'gene'})"
   ]
  },
  {
   "cell_type": "code",
   "execution_count": 15,
   "id": "5e1061dc",
   "metadata": {},
   "outputs": [],
   "source": [
    "onek_replication['cg_cov'] = onek_replication['cell_type'].apply(lambda x: ct_converter[x])"
   ]
  },
  {
   "cell_type": "code",
   "execution_count": 16,
   "id": "26088c6d",
   "metadata": {},
   "outputs": [],
   "source": [
    "onek_replication.to_csv(data_path + 'filtered_onek_eqtls.csv', index=False)"
   ]
  },
  {
   "cell_type": "markdown",
   "id": "c185cce5",
   "metadata": {},
   "source": [
    "### Make subsets and pseudobulks"
   ]
  },
  {
   "cell_type": "code",
   "execution_count": 22,
   "id": "78948d9e",
   "metadata": {},
   "outputs": [],
   "source": [
    "for ct in cts:\n",
    "    \n",
    "    subset = adata[adata.obs['cg_cov'] == ct].copy()\n",
    "    subset.write(data_path + 'single_cell/{}.h5ad'.format(ct))\n",
    "\n",
    "    ind_list = pos.columns.tolist()\n",
    "    \n",
    "    means = []\n",
    "    for ind in ind_list:\n",
    "        means.append(np.log(subset[subset.obs.ind_cov==ind].X.mean(axis=0).A1+1))\n",
    "    pseudobulk = pd.DataFrame(np.vstack(means), columns=subset.var.index, index=ind_list)\n",
    "    \n",
    "    pseudobulk.to_csv(data_path + 'pseudobulk/{}.csv'.format(ct))"
   ]
  },
  {
   "cell_type": "markdown",
   "id": "277877f8",
   "metadata": {},
   "source": [
    "### Save a filtered copy of SNPs"
   ]
  },
  {
   "cell_type": "code",
   "execution_count": 18,
   "id": "79613cb3",
   "metadata": {},
   "outputs": [],
   "source": [
    "pos.loc[onek_replication['rsid'].drop_duplicates().tolist()].to_csv(data_path + 'mateqtl_input/filtered_genos.tsv', sep='\\t')"
   ]
  },
  {
   "cell_type": "code",
   "execution_count": 35,
   "id": "1deb74ce",
   "metadata": {},
   "outputs": [],
   "source": [
    "shuffled_pos = pos.loc[onek_replication['rsid'].drop_duplicates().tolist()].copy()"
   ]
  },
  {
   "cell_type": "code",
   "execution_count": 36,
   "id": "445b4918",
   "metadata": {},
   "outputs": [],
   "source": [
    "def crazyshuffle(arr):\n",
    "    x, y = arr.shape\n",
    "    rows = np.indices((x,y))[0]\n",
    "    cols = [np.random.permutation(y) for _ in range(x)]\n",
    "    return arr[rows, cols]"
   ]
  },
  {
   "cell_type": "code",
   "execution_count": 37,
   "id": "1bdf3032",
   "metadata": {},
   "outputs": [],
   "source": [
    "shuffled_pos[shuffled_pos.columns] = crazyshuffle(shuffled_pos.values)"
   ]
  },
  {
   "cell_type": "code",
   "execution_count": 42,
   "id": "c37c4868",
   "metadata": {},
   "outputs": [],
   "source": [
    "shuffled_pos.to_csv(data_path + 'mateqtl_input/shuffled_filtered_genos.tsv', sep='\\t')"
   ]
  }
 ],
 "metadata": {
  "kernelspec": {
   "display_name": "Python 3 (ipykernel)",
   "language": "python",
   "name": "python3"
  },
  "language_info": {
   "codemirror_mode": {
    "name": "ipython",
    "version": 3
   },
   "file_extension": ".py",
   "mimetype": "text/x-python",
   "name": "python",
   "nbconvert_exporter": "python",
   "pygments_lexer": "ipython3",
   "version": "3.8.8"
  }
 },
 "nbformat": 4,
 "nbformat_minor": 5
}
