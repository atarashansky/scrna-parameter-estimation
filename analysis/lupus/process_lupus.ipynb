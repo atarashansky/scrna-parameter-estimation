{
 "cells": [
  {
   "cell_type": "markdown",
   "id": "cb396b96",
   "metadata": {},
   "source": [
    "# Process the lupus data\n",
    "\n",
    "- Filter and subset by cell type\n",
    "- Create pseudobulks for matrix eQTL"
   ]
  },
  {
   "cell_type": "code",
   "execution_count": 204,
   "id": "4fdd5410",
   "metadata": {},
   "outputs": [],
   "source": [
    "import scanpy as sc\n",
    "import seaborn as sns\n",
    "import pandas as pd\n",
    "import matplotlib.pyplot as plt\n",
    "import numpy as np\n",
    "import scipy.stats as stats\n",
    "import itertools\n",
    "from pybedtools import BedTool\n",
    "import statsmodels.formula.api as smf\n",
    "import statsmodels.api as sm\n",
    "\n",
    "import os\n",
    "import pickle as pkl\n",
    "%matplotlib inline\n",
    "import qvalue"
   ]
  },
  {
   "cell_type": "code",
   "execution_count": 205,
   "id": "0e50e526",
   "metadata": {},
   "outputs": [],
   "source": [
    "import sys\n",
    "sys.path.append('/home/ssm-user/Github/scrna-parameter-estimation/dist/memento-0.0.8-py3.8.egg')\n",
    "sys.path.append('/home/ssm-user/Github/misc-seq/miscseq/')\n",
    "import encode\n",
    "import memento"
   ]
  },
  {
   "cell_type": "code",
   "execution_count": 206,
   "id": "703e5132",
   "metadata": {},
   "outputs": [],
   "source": [
    "data_path  = '/data_volume/memento/lupus/'"
   ]
  },
  {
   "cell_type": "markdown",
   "id": "b7283340",
   "metadata": {},
   "source": [
    "### Read the lupus data"
   ]
  },
  {
   "cell_type": "code",
   "execution_count": 218,
   "id": "493179d7",
   "metadata": {},
   "outputs": [],
   "source": [
    "pos_asian = pd.read_csv(data_path + 'mateqtl_input/asian/cm_cg.genos', sep='\\t', index_col=0)\n",
    "pos_eur = pd.read_csv(data_path + 'mateqtl_input/eur/cm.genos', sep='\\t', index_col=0)"
   ]
  },
  {
   "cell_type": "code",
   "execution_count": 219,
   "id": "e23b62ae",
   "metadata": {},
   "outputs": [],
   "source": [
    "pos_asian = pos_asian[~pos_asian.index.duplicated(keep='first')]\n",
    "pos_eur = pos_eur[~pos_eur.index.duplicated(keep='first')]"
   ]
  },
  {
   "cell_type": "code",
   "execution_count": 220,
   "id": "05448510",
   "metadata": {},
   "outputs": [],
   "source": [
    "common_snps = list(set(pos_asian.index) & set(pos_eur.index))"
   ]
  },
  {
   "cell_type": "code",
   "execution_count": 221,
   "id": "68d045cf",
   "metadata": {},
   "outputs": [],
   "source": [
    "pos_asian = pos_asian.loc[common_snps]\n",
    "pos_eur = pos_eur.loc[common_snps]"
   ]
  },
  {
   "cell_type": "code",
   "execution_count": 231,
   "id": "153cec59",
   "metadata": {},
   "outputs": [],
   "source": [
    "pos_asian.to_csv(data_path + 'mateqtl_input/asian_genos.tsv', sep='\\t')\n",
    "pos_eur.to_csv(data_path + 'mateqtl_input/eur_genos.tsv', sep='\\t')"
   ]
  },
  {
   "cell_type": "code",
   "execution_count": 232,
   "id": "c50d978f",
   "metadata": {},
   "outputs": [
    {
     "data": {
      "text/plain": [
       "(3285470, 97)"
      ]
     },
     "execution_count": 232,
     "metadata": {},
     "output_type": "execute_result"
    }
   ],
   "source": [
    "pos_asian.shape"
   ]
  },
  {
   "cell_type": "code",
   "execution_count": 233,
   "id": "4bc9f21a",
   "metadata": {},
   "outputs": [
    {
     "data": {
      "text/plain": [
       "(3285470, 91)"
      ]
     },
     "execution_count": 233,
     "metadata": {},
     "output_type": "execute_result"
    }
   ],
   "source": [
    "pos_eur.shape"
   ]
  },
  {
   "cell_type": "code",
   "execution_count": 259,
   "id": "27d82fd1",
   "metadata": {},
   "outputs": [],
   "source": [
    "adata = sc.read(data_path + 'Lupus_study_adjusted_counts.h5ad')"
   ]
  },
  {
   "cell_type": "code",
   "execution_count": 225,
   "id": "d80a9cac",
   "metadata": {},
   "outputs": [
    {
     "data": {
      "text/plain": [
       "T4        129531\n",
       "cM        111439\n",
       "T8         70774\n",
       "B          42419\n",
       "NK         34552\n",
       "ncM        18072\n",
       "cDC         6129\n",
       "Prolif      2542\n",
       "pDC         1475\n",
       "PB           382\n",
       "Progen       318\n",
       "Name: cg_cov, dtype: int64"
      ]
     },
     "execution_count": 225,
     "metadata": {},
     "output_type": "execute_result"
    }
   ],
   "source": [
    "adata.obs.cg_cov.value_counts()"
   ]
  },
  {
   "cell_type": "markdown",
   "id": "82864911",
   "metadata": {},
   "source": [
    "### Read cell types from 1K1K results"
   ]
  },
  {
   "cell_type": "code",
   "execution_count": 234,
   "id": "f716f9cf",
   "metadata": {},
   "outputs": [],
   "source": [
    "onek1k_pos = pd.read_csv('1k1k_snps_chrpos.txt', header=None).iloc[:,0].tolist()\n",
    "onek1k_info = pd.read_csv('1k1k_snp_info.txt', sep='\\t', header=None).iloc[:,:3]\n",
    "onek1k_info.columns = ['chr', 'pos', 'name']\n",
    "onek1k_info['rsid'] = onek1k_info['chr'].astype(str) + ':' + onek1k_info['pos'].astype(str)"
   ]
  },
  {
   "cell_type": "code",
   "execution_count": 235,
   "id": "d076b268",
   "metadata": {},
   "outputs": [],
   "source": [
    "onek_replication = pd.read_csv(data_path + 'OneK1K_eqtls_for_replication.txt', sep='\\t')#.query('cell_type == \"Mono_C\"')"
   ]
  },
  {
   "cell_type": "code",
   "execution_count": 236,
   "id": "9a279dd4",
   "metadata": {},
   "outputs": [],
   "source": [
    "onek_replication = onek_replication.merge(onek1k_info, left_on='SNP_rsID', right_on='name')#.query('cell_type == \"Mono_C\"')"
   ]
  },
  {
   "cell_type": "code",
   "execution_count": 237,
   "id": "c41b305f",
   "metadata": {},
   "outputs": [],
   "source": [
    "ct_converter = {\n",
    "    'CD4_Naïve_CM':'T4',\n",
    "    'CD4_EM_TEMRA':'T4',\n",
    "    'CD4_SOX4':'T4',\n",
    "    'CD8_EM_TEMRA':'T8',\n",
    "    'CD8_Naïve_CM':'T8',\n",
    "    'CD8_S100B':'T8',\n",
    "    'Mono_C':'cM',\n",
    "    'Mono_NC':'ncM',\n",
    "    'NK':'NK',\n",
    "    'NK_recruiting':'NK',\n",
    "    'B_Imm_Naïve':'B',\n",
    "    'BMem':'B',\n",
    "    'Plasma':'B'\n",
    "}"
   ]
  },
  {
   "cell_type": "code",
   "execution_count": 238,
   "id": "7996d472",
   "metadata": {},
   "outputs": [],
   "source": [
    "cts = list(set([y for x,y in ct_converter.items()]))"
   ]
  },
  {
   "cell_type": "code",
   "execution_count": 239,
   "id": "07367acc",
   "metadata": {},
   "outputs": [],
   "source": [
    "onek_replication = onek_replication.\\\n",
    "    query('rsid in @pos_asian.index.tolist() & cell_type in @ct_converter.keys() & GeneID in @adata.var.index')\\\n",
    "    .rename(columns={'GeneID':'gene'})"
   ]
  },
  {
   "cell_type": "code",
   "execution_count": 240,
   "id": "56ef1d7c",
   "metadata": {},
   "outputs": [],
   "source": [
    "onek_replication['cg_cov'] = onek_replication['cell_type'].apply(lambda x: ct_converter[x])"
   ]
  },
  {
   "cell_type": "code",
   "execution_count": 241,
   "id": "010dd5a8",
   "metadata": {},
   "outputs": [],
   "source": [
    "onek_replication.to_csv(data_path + 'filtered_onek_eqtls.csv', index=False)"
   ]
  },
  {
   "cell_type": "code",
   "execution_count": 242,
   "id": "11e879b9",
   "metadata": {},
   "outputs": [
    {
     "data": {
      "text/plain": [
       "(9382, 10)"
      ]
     },
     "execution_count": 242,
     "metadata": {},
     "output_type": "execute_result"
    }
   ],
   "source": [
    "onek_replication.shape"
   ]
  },
  {
   "cell_type": "markdown",
   "id": "e63c2876",
   "metadata": {},
   "source": [
    "### Make subsets and pseudobulks"
   ]
  },
  {
   "cell_type": "code",
   "execution_count": 265,
   "id": "8f445d4c",
   "metadata": {},
   "outputs": [],
   "source": [
    "adata = sc.read(data_path + 'Lupus_study_adjusted_counts.h5ad')"
   ]
  },
  {
   "cell_type": "code",
   "execution_count": 267,
   "id": "4885f758",
   "metadata": {},
   "outputs": [],
   "source": [
    "for ct in cts:\n",
    "        \n",
    "    subset = adata[(adata.obs['cg_cov'] == ct) & (adata.obs['ind_cov'].isin(pos_asian.columns))].copy()\n",
    "    subset.write(data_path + 'single_cell/asian_{}.h5ad'.format(ct))\n",
    "    asian_ind_list = pos.columns.tolist()\n",
    "\n",
    "    means = []\n",
    "    for ind in asian_ind_list:\n",
    "        view = subset[subset.obs.ind_cov==ind]\n",
    "        if view.shape[0] == 0:\n",
    "            means.append(np.log(view.X.sum(axis=0).A1+1))\n",
    "        else:\n",
    "            means.append(np.log(view.X.mean(axis=0).A1+1))\n",
    "    pseudobulk = pd.DataFrame(np.vstack(means), columns=subset.var.index, index=asian_ind_list)\n",
    "    pseudobulk.to_csv(data_path + 'pseudobulk/asian_{}.csv'.format(ct), sep='\\t')\n",
    "        \n",
    "    subset = adata[(adata.obs['cg_cov'] == ct) & (adata.obs['ind_cov'].isin(pos_eur.columns))].copy()\n",
    "    subset.write(data_path + 'single_cell/eur_{}.h5ad'.format(ct))\n",
    "    eur_ind_list = pos.columns.tolist()\n",
    "\n",
    "    means = []\n",
    "    for ind in eur_ind_list:\n",
    "        view = subset[subset.obs.ind_cov==ind]\n",
    "        if view.shape[0] == 0:\n",
    "            means.append(np.log(view.X.sum(axis=0).A1+1))\n",
    "        else:\n",
    "            means.append(np.log(view.X.mean(axis=0).A1+1))\n",
    "    pseudobulk = pd.DataFrame(np.vstack(means), columns=subset.var.index, index=eur_ind_list)\n",
    "    pseudobulk.to_csv(data_path + 'pseudobulk/eur_{}.csv'.format(ct), sep='\\t')\n",
    "    "
   ]
  },
  {
   "cell_type": "code",
   "execution_count": 264,
   "id": "c8b7243c",
   "metadata": {},
   "outputs": [
    {
     "data": {
      "text/plain": [
       "AnnData object with n_obs × n_vars = 60167 × 32738\n",
       "    obs: 'batch_cov', 'ind_cov', 'Processing_Cohort', 'louvain', 'cg_cov', 'ct_cov', 'L3', 'ind_cov_batch_cov', 'Age', 'Sex', 'pop_cov', 'Status', 'SLE_status'\n",
       "    var: 'gene_ids', 'feature_types-0-0-0-0-0-0-0-0-0-0-0-0-0-0-0-0-0-0-0-0-0-0-0-0-0-0-0-0-0-0-0-0-0-0-0-0-0-0-0-0-0-0-0-0-0-0-0-0-0-0-0-0-0-0-0-0-0-0-0-0-0-0-0-0'"
      ]
     },
     "execution_count": 264,
     "metadata": {},
     "output_type": "execute_result"
    }
   ],
   "source": [
    "subset"
   ]
  },
  {
   "cell_type": "markdown",
   "id": "8a47c45b",
   "metadata": {},
   "source": [
    "### Make covariate file"
   ]
  },
  {
   "cell_type": "code",
   "execution_count": 252,
   "id": "97320c60",
   "metadata": {},
   "outputs": [],
   "source": [
    "asian_cov = pd.read_csv(data_path + 'mateqtl_input/asian/cm_cg.mateqtl_cov.txt', sep='\\t', index_col=0).T\n",
    "eur_cov = pd.read_csv(data_path + 'mateqtl_input/eur/cm.mateqtl_cov.txt', sep='\\t', index_col=0).T"
   ]
  },
  {
   "cell_type": "code",
   "execution_count": 253,
   "id": "02987bd5",
   "metadata": {},
   "outputs": [],
   "source": [
    "asian_cov['batch_cov'] = 'b_'+asian_cov['batch_cov'].astype(int).astype(str)\n",
    "eur_cov['batch_cov'] = 'b_'+eur_cov['batch_cov'].astype(int).astype(str)"
   ]
  },
  {
   "cell_type": "code",
   "execution_count": 254,
   "id": "c814f843",
   "metadata": {},
   "outputs": [],
   "source": [
    "# asian_cov['pop'] = 1.0\n",
    "# eur_cov['pop'] = 0.0"
   ]
  },
  {
   "cell_type": "code",
   "execution_count": 255,
   "id": "b7e25b84",
   "metadata": {},
   "outputs": [],
   "source": [
    "# asian_cov = asian_cov.drop('batch_cov', axis=1)\n",
    "# eur_cov = eur_cov.drop('batch_cov', axis=1)"
   ]
  },
  {
   "cell_type": "code",
   "execution_count": 256,
   "id": "2f8076b6",
   "metadata": {},
   "outputs": [],
   "source": [
    "asian_cov = pd.get_dummies(asian_cov, drop_first=True)\n",
    "eur_cov = pd.get_dummies(eur_cov, drop_first=True)"
   ]
  },
  {
   "cell_type": "code",
   "execution_count": 257,
   "id": "ad69838a",
   "metadata": {},
   "outputs": [],
   "source": [
    "asian_cov.T.to_csv(data_path + 'mateqtl_input/asian_mateqtl_cov.txt', sep='\\t')\n",
    "eur_cov.T.to_csv(data_path + 'mateqtl_input/eur_mateqtl_cov.txt', sep='\\t')"
   ]
  },
  {
   "cell_type": "markdown",
   "id": "5f03c6b2",
   "metadata": {},
   "source": [
    "### Save a filtered copy of SNPs"
   ]
  },
  {
   "cell_type": "code",
   "execution_count": 203,
   "id": "ff8c9c45",
   "metadata": {},
   "outputs": [],
   "source": [
    "pos.loc[onek_replication['rsid'].drop_duplicates().tolist()].to_csv(data_path + 'mateqtl_input/filtered_genos.tsv', sep='\\t')\n",
    "\n"
   ]
  },
  {
   "cell_type": "code",
   "execution_count": 258,
   "id": "0df6508f",
   "metadata": {},
   "outputs": [],
   "source": [
    "pos_asian.loc[onek_replication['rsid'].drop_duplicates().tolist()]\\\n",
    "    .to_csv(data_path + 'mateqtl_input/asian_filtered_genos.tsv', sep='\\t')\n",
    "pos_eur.loc[onek_replication['rsid'].drop_duplicates().tolist()]\\\n",
    "    .to_csv(data_path + 'mateqtl_input/eur_filtered_genos.tsv', sep='\\t')"
   ]
  },
  {
   "cell_type": "code",
   "execution_count": null,
   "id": "04d48d5a",
   "metadata": {},
   "outputs": [],
   "source": []
  },
  {
   "cell_type": "code",
   "execution_count": null,
   "id": "50db72a5",
   "metadata": {},
   "outputs": [],
   "source": []
  },
  {
   "cell_type": "code",
   "execution_count": null,
   "id": "3ce47162",
   "metadata": {},
   "outputs": [],
   "source": []
  },
  {
   "cell_type": "code",
   "execution_count": null,
   "id": "b3fb2915",
   "metadata": {},
   "outputs": [],
   "source": []
  },
  {
   "cell_type": "code",
   "execution_count": 35,
   "id": "0678b338",
   "metadata": {},
   "outputs": [],
   "source": [
    "shuffled_pos = pos.loc[onek_replication['rsid'].drop_duplicates().tolist()].copy()"
   ]
  },
  {
   "cell_type": "code",
   "execution_count": 36,
   "id": "6fa90e35",
   "metadata": {},
   "outputs": [],
   "source": [
    "def crazyshuffle(arr):\n",
    "    x, y = arr.shape\n",
    "    rows = np.indices((x,y))[0]\n",
    "    cols = [np.random.permutation(y) for _ in range(x)]\n",
    "    return arr[rows, cols]"
   ]
  },
  {
   "cell_type": "code",
   "execution_count": 37,
   "id": "a6f60d7d",
   "metadata": {},
   "outputs": [],
   "source": [
    "shuffled_pos[shuffled_pos.columns] = crazyshuffle(shuffled_pos.values)"
   ]
  },
  {
   "cell_type": "code",
   "execution_count": 42,
   "id": "62fb08c6",
   "metadata": {},
   "outputs": [],
   "source": [
    "shuffled_pos.to_csv(data_path + 'mateqtl_input/shuffled_filtered_genos.tsv', sep='\\t')"
   ]
  }
 ],
 "metadata": {
  "kernelspec": {
   "display_name": "Python 3 (ipykernel)",
   "language": "python",
   "name": "python3"
  },
  "language_info": {
   "codemirror_mode": {
    "name": "ipython",
    "version": 3
   },
   "file_extension": ".py",
   "mimetype": "text/x-python",
   "name": "python",
   "nbconvert_exporter": "python",
   "pygments_lexer": "ipython3",
   "version": "3.8.8"
  }
 },
 "nbformat": 4,
 "nbformat_minor": 5
}
