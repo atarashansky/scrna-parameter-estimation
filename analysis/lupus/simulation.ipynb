{
 "cells": [
  {
   "cell_type": "markdown",
   "id": "6a2218ad",
   "metadata": {},
   "source": [
    "# Simulation for accounting for individuals"
   ]
  },
  {
   "cell_type": "code",
   "execution_count": 12,
   "id": "ee0804e0",
   "metadata": {},
   "outputs": [],
   "source": [
    "import scipy.stats as stats\n",
    "import numpy as np\n",
    "import pandas as pd\n",
    "from sklearn.linear_model import LinearRegression\n",
    "import seaborn as sns\n",
    "import statsmodels.formula.api as smf\n",
    "import statsmodels.api as sm\n",
    "import matplotlib.pyplot as plt"
   ]
  },
  {
   "cell_type": "code",
   "execution_count": 46,
   "id": "23243f33",
   "metadata": {},
   "outputs": [],
   "source": [
    "num_ind = 20\n",
    "num_cell_per_ind = 1000\n",
    "beta_geno = 1\n",
    "beta_age = 1\n",
    "ind_intercepts = stats.norm.rvs(scale=2, size=num_ind)\n",
    "intercept = 10\n",
    "geno = np.array([0 for i in range(int(num_ind/2))] + [1 for i in range(int(num_ind/2))])\n",
    "age = stats.norm.rvs(scale=10, loc=30, size=num_ind)"
   ]
  },
  {
   "cell_type": "code",
   "execution_count": null,
   "id": "63f0b238",
   "metadata": {},
   "outputs": [],
   "source": [
    "num_trial = 100\n",
    "num_effect_size = 30\n",
    "\n",
    "lm_power = np.zeros(num_effect_size)\n",
    "lmm_power = np.zeros(num_effect_size)\n",
    "pseudobulk_power = np.zeros(num_effect_size)\n",
    "effect_sizes = np.linspace(3,3.5, num_effect_size)\n",
    "\n",
    "for jdx, effect_size in enumerate(effect_sizes):#enumerate(np.linspace(0.1, 2, num_effect_size)):\n",
    "    \n",
    "    lm_pv = np.zeros(num_trial)\n",
    "    lmm_pv = np.zeros(num_trial)\n",
    "    pseudob_pv = np.zeros(num_trial)\n",
    "\n",
    "    for idx in range(num_trial):\n",
    "\n",
    "        data = []\n",
    "        for ind in range(num_ind):\n",
    "            mu = intercept+effect_size*geno[ind]+beta_age*age[ind]+ind_intercepts[ind]\n",
    "            data.append(stats.norm.rvs(loc=mu, scale=1, size=num_cell_per_ind))\n",
    "\n",
    "        df = pd.DataFrame()\n",
    "        df['expr'] = np.concatenate(data)\n",
    "        df['geno'] = np.repeat(geno, num_cell_per_ind)\n",
    "        df['age'] = np.repeat(age, num_cell_per_ind)\n",
    "        df['ind'] = ['donor_' + str(x) for x in np.repeat(range(num_ind), num_cell_per_ind)]\n",
    "        dummy_df = pd.get_dummies(df, drop_first=True)\n",
    "\n",
    "        pseudobulks = df.groupby('ind')[['expr', 'geno', 'age']].mean()\n",
    "\n",
    "        lm_pv[idx] = smf.ols(\"expr ~ geno + age\", df).fit().pvalues['geno']\n",
    "        lmm_pv[idx] = smf.mixedlm(\"expr ~ geno + age\", df, groups=df[\"ind\"]).fit().pvalues['geno']\n",
    "        pseudob_pv[idx] = smf.ols(\"expr ~ geno + age\", pseudobulks).fit().pvalues['geno']\n",
    "        \n",
    "    lm_power[jdx] = (lm_pv < 0.05).mean()\n",
    "    lmm_power[jdx] = (lmm_pv < 0.05).mean()\n",
    "    pseudobulk_power[jdx] = (pseudob_pv < 0.05).mean()"
   ]
  },
  {
   "cell_type": "code",
   "execution_count": 38,
   "id": "5c692109",
   "metadata": {},
   "outputs": [
    {
     "data": {
      "text/plain": [
       "[<matplotlib.lines.Line2D at 0x7f37d4274250>]"
      ]
     },
     "execution_count": 38,
     "metadata": {},
     "output_type": "execute_result"
    },
    {
     "data": {
      "image/png": "[encoded data removed]",
      "text/plain": [
       "<Figure size 432x288 with 1 Axes>"
      ]
     },
     "metadata": {
      "needs_background": "light"
     },
     "output_type": "display_data"
    }
   ],
   "source": [
    "plt.plot(effect_sizes, lmm_power, '-o')\n",
    "plt.plot(effect_sizes, pseudobulk_power, '-o')"
   ]
  },
  {
   "cell_type": "code",
   "execution_count": null,
   "id": "46e7f956",
   "metadata": {},
   "outputs": [],
   "source": [
    "a=5"
   ]
  },
  {
   "cell_type": "markdown",
   "id": "f9967e41",
   "metadata": {},
   "source": [
    "### Compare LMM and hierarchial bootstrapping"
   ]
  },
  {
   "cell_type": "code",
   "execution_count": 47,
   "id": "902f5e9b",
   "metadata": {},
   "outputs": [],
   "source": [
    "data = []\n",
    "for ind in range(num_ind):\n",
    "    mu = intercept+beta_geno*geno[ind]+beta_age*age[ind]+ind_intercepts[ind]\n",
    "    data.append(stats.norm.rvs(loc=mu, scale=1, size=num_cell_per_ind))\n",
    "\n",
    "df = pd.DataFrame()\n",
    "df['expr'] = np.concatenate(data)\n",
    "df['geno'] = np.repeat(geno, num_cell_per_ind)\n",
    "df['age'] = np.repeat(age, num_cell_per_ind)\n",
    "df['ind'] = ['donor_' + str(x) for x in np.repeat(range(num_ind), num_cell_per_ind)]\n",
    "dummy_df = pd.get_dummies(df, drop_first=True)"
   ]
  },
  {
   "cell_type": "code",
   "execution_count": 48,
   "id": "b348aad4",
   "metadata": {},
   "outputs": [
    {
     "data": {
      "text/html": [
       "<table class=\"simpletable\">\n",
       "<tr>\n",
       "       <td>Model:</td>       <td>MixedLM</td> <td>Dependent Variable:</td>    <td>expr</td>    \n",
       "</tr>\n",
       "<tr>\n",
       "  <td>No. Observations:</td>  <td>20000</td>        <td>Method:</td>          <td>REML</td>    \n",
       "</tr>\n",
       "<tr>\n",
       "     <td>No. Groups:</td>      <td>20</td>          <td>Scale:</td>          <td>1.0004</td>   \n",
       "</tr>\n",
       "<tr>\n",
       "  <td>Min. group size:</td>   <td>1000</td>     <td>Log-Likelihood:</td>   <td>-28462.6135</td>\n",
       "</tr>\n",
       "<tr>\n",
       "  <td>Max. group size:</td>   <td>1000</td>       <td>Converged:</td>          <td>Yes</td>    \n",
       "</tr>\n",
       "<tr>\n",
       "  <td>Mean group size:</td>  <td>1000.0</td>           <td></td>                <td></td>      \n",
       "</tr>\n",
       "</table>\n",
       "<table class=\"simpletable\">\n",
       "<tr>\n",
       "      <td></td>       <th>Coef.</th> <th>Std.Err.</th>    <th>z</th>   <th>P>|z|</th> <th>[0.025</th> <th>0.975]</th>\n",
       "</tr>\n",
       "<tr>\n",
       "  <th>Intercept</th> <td>11.004</td>   <td>1.165</td>   <td>9.442</td> <td>0.000</td>  <td>8.720</td> <td>13.288</td>\n",
       "</tr>\n",
       "<tr>\n",
       "  <th>geno</th>       <td>0.380</td>   <td>0.803</td>   <td>0.474</td> <td>0.636</td> <td>-1.193</td>  <td>1.953</td>\n",
       "</tr>\n",
       "<tr>\n",
       "  <th>age</th>        <td>0.978</td>   <td>0.039</td>  <td>25.232</td> <td>0.000</td>  <td>0.902</td>  <td>1.054</td>\n",
       "</tr>\n",
       "<tr>\n",
       "  <th>Group Var</th>  <td>3.024</td>   <td>1.028</td>     <td></td>      <td></td>       <td></td>       <td></td>   \n",
       "</tr>\n",
       "</table>"
      ],
      "text/plain": [
       "<class 'statsmodels.iolib.summary2.Summary'>\n",
       "\"\"\"\n",
       "          Mixed Linear Model Regression Results\n",
       "=========================================================\n",
       "Model:            MixedLM Dependent Variable: expr       \n",
       "No. Observations: 20000   Method:             REML       \n",
       "No. Groups:       20      Scale:              1.0004     \n",
       "Min. group size:  1000    Log-Likelihood:     -28462.6135\n",
       "Max. group size:  1000    Converged:          Yes        \n",
       "Mean group size:  1000.0                                 \n",
       "----------------------------------------------------------\n",
       "           Coef.   Std.Err.    z     P>|z|  [0.025  0.975]\n",
       "----------------------------------------------------------\n",
       "Intercept  11.004     1.165   9.442  0.000   8.720  13.288\n",
       "geno        0.380     0.803   0.474  0.636  -1.193   1.953\n",
       "age         0.978     0.039  25.232  0.000   0.902   1.054\n",
       "Group Var   3.024     1.028                               \n",
       "=========================================================\n",
       "\n",
       "\"\"\""
      ]
     },
     "execution_count": 48,
     "metadata": {},
     "output_type": "execute_result"
    }
   ],
   "source": [
    "smf.mixedlm(\"expr ~ geno + age\", df, groups=df[\"ind\"]).fit().summary()"
   ]
  },
  {
   "cell_type": "markdown",
   "id": "ea8728fb",
   "metadata": {},
   "source": [
    "### Hierarchial Bootstrapping"
   ]
  },
  {
   "cell_type": "code",
   "execution_count": 68,
   "id": "1a90c295",
   "metadata": {},
   "outputs": [
    {
     "data": {
      "text/plain": [
       "0.3134393604792929"
      ]
     },
     "execution_count": 68,
     "metadata": {},
     "output_type": "execute_result"
    }
   ],
   "source": [
    "b_coefs.mean()"
   ]
  },
  {
   "cell_type": "code",
   "execution_count": 69,
   "id": "a7690027",
   "metadata": {},
   "outputs": [
    {
     "data": {
      "text/plain": [
       "0.8820367517531642"
      ]
     },
     "execution_count": 69,
     "metadata": {},
     "output_type": "execute_result"
    }
   ],
   "source": [
    "b_coefs.std()"
   ]
  },
  {
   "cell_type": "code",
   "execution_count": 49,
   "id": "bcdd148c",
   "metadata": {},
   "outputs": [],
   "source": [
    "# num_boot = 10000\n",
    "# b_coefs = np.zeros(num_boot)\n",
    "# for b in range(num_boot):\n",
    "    \n",
    "#     b_idxs = np.random.choice(df.shape[0], size=df.shape[0])\n",
    "#     b_coefs[b] = LinearRegression().fit(df[['geno', 'age']].values[b_idxs], df['expr'].values[b_idxs]).coef_[0]\n",
    "# sns.kdeplot(b_coefs)"
   ]
  },
  {
   "cell_type": "code",
   "execution_count": 58,
   "id": "7df30650",
   "metadata": {},
   "outputs": [
    {
     "data": {
      "text/plain": [
       "0.38001432325242746"
      ]
     },
     "execution_count": 58,
     "metadata": {},
     "output_type": "execute_result"
    }
   ],
   "source": [
    "LinearRegression().fit(df[['geno', 'age']], df['expr']).coef_[0]"
   ]
  },
  {
   "cell_type": "code",
   "execution_count": 67,
   "id": "b1295e35",
   "metadata": {},
   "outputs": [
    {
     "name": "stdout",
     "output_type": "stream",
     "text": [
      "CPU times: user 2h 32min 39s, sys: 11min 56s, total: 2h 44min 36s\n",
      "Wall time: 6min 13s\n"
     ]
    },
    {
     "data": {
      "text/plain": [
       "<AxesSubplot:ylabel='Density'>"
      ]
     },
     "execution_count": 67,
     "metadata": {},
     "output_type": "execute_result"
    },
    {
     "data": {
      "image/png": "[encoded data removed]",
      "text/plain": [
       "<Figure size 432x288 with 1 Axes>"
      ]
     },
     "metadata": {
      "needs_background": "light"
     },
     "output_type": "display_data"
    }
   ],
   "source": [
    "%%time\n",
    "\n",
    "# actually bootstrap everything\n",
    "\n",
    "num_boot = 1000\n",
    "b_coefs = np.zeros(num_boot)\n",
    "for b in range(num_boot):\n",
    "    b_donors = np.random.choice(num_ind, size=num_ind)\n",
    "    genos = []\n",
    "    exprs = []\n",
    "    ages = []\n",
    "    for d in b_donors:\n",
    "        genos.append(np.ones(num_cell_per_ind)*int(d >= num_ind/2))\n",
    "        b_idxs = np.random.choice(num_cell_per_ind, size=num_cell_per_ind)\n",
    "        exprs.append(df.query('ind.str.contains(\"{}\")'.format(d), engine='python').expr.values[b_idxs])\n",
    "        ages.append(np.ones(num_cell_per_ind)*age[d])\n",
    "    \n",
    "    genos = np.concatenate(genos)\n",
    "    exprs = np.concatenate(exprs)\n",
    "    ages = np.concatenate(ages)\n",
    "    b_coefs[b] = LinearRegression().fit(np.vstack([genos, ages]).T, exprs).coef_[0]\n",
    "sns.kdeplot(b_coefs)"
   ]
  },
  {
   "cell_type": "code",
   "execution_count": 55,
   "id": "8392e9da",
   "metadata": {},
   "outputs": [
    {
     "data": {
      "text/plain": [
       "(-1.5156153745988077, 1.5526714798726586)"
      ]
     },
     "execution_count": 55,
     "metadata": {},
     "output_type": "execute_result"
    }
   ],
   "source": [
    "stats.norm.fit(b_coefs)"
   ]
  },
  {
   "cell_type": "code",
   "execution_count": 56,
   "id": "6b497fa4",
   "metadata": {},
   "outputs": [
    {
     "data": {
      "text/plain": [
       "[<matplotlib.lines.Line2D at 0x7f37a846eca0>]"
      ]
     },
     "execution_count": 56,
     "metadata": {},
     "output_type": "execute_result"
    },
    {
     "data": {
      "image/png": "[encoded data removed]",
      "text/plain": [
       "<Figure size 432x288 with 1 Axes>"
      ]
     },
     "metadata": {
      "needs_background": "light"
     },
     "output_type": "display_data"
    }
   ],
   "source": [
    "sns.kdeplot(b_coefs)\n",
    "plt.plot(np.linspace(-10, 5, 1000), stats.norm.pdf(np.linspace(-10, 5, 1000), ))"
   ]
  },
  {
   "cell_type": "code",
   "execution_count": 52,
   "id": "7826ba34",
   "metadata": {},
   "outputs": [
    {
     "data": {
      "text/plain": [
       "(-1.5156153745988077, 1.5526714798726586)"
      ]
     },
     "execution_count": 52,
     "metadata": {},
     "output_type": "execute_result"
    }
   ],
   "source": [
    "stats.norm.fit(b_coefs)"
   ]
  },
  {
   "cell_type": "markdown",
   "id": "4c38a2cc",
   "metadata": {},
   "source": [
    "### Development for memento"
   ]
  },
  {
   "cell_type": "code",
   "execution_count": 87,
   "id": "e4a8bb8d",
   "metadata": {},
   "outputs": [
    {
     "name": "stdout",
     "output_type": "stream",
     "text": [
      "CPU times: user 13 s, sys: 3.76 ms, total: 13 s\n",
      "Wall time: 13 s\n"
     ]
    }
   ],
   "source": [
    "%%time\n",
    "\n",
    "for i in range(10000):\n",
    "    b_coefs[b] = LinearRegression(n_jobs=1).fit(df[['geno', 'age']], df['expr']).coef_[0]"
   ]
  },
  {
   "cell_type": "code",
   "execution_count": 90,
   "id": "eccc7f56",
   "metadata": {},
   "outputs": [
    {
     "name": "stdout",
     "output_type": "stream",
     "text": [
      "CPU times: user 1.58 ms, sys: 99 µs, total: 1.68 ms\n",
      "Wall time: 1.32 ms\n"
     ]
    },
    {
     "data": {
      "text/plain": [
       "LinearRegression(n_jobs=1)"
      ]
     },
     "execution_count": 90,
     "metadata": {},
     "output_type": "execute_result"
    }
   ],
   "source": [
    "%%time\n",
    "LinearRegression(n_jobs=1).fit(np.random.random(size=(90, 1)), np.random.random(size=(90, 1)))"
   ]
  },
  {
   "cell_type": "code",
   "execution_count": 89,
   "id": "03902e71",
   "metadata": {},
   "outputs": [
    {
     "name": "stdout",
     "output_type": "stream",
     "text": [
      "CPU times: user 1.35 s, sys: 105 ms, total: 1.45 s\n",
      "Wall time: 113 ms\n"
     ]
    },
    {
     "data": {
      "text/plain": [
       "LinearRegression(n_jobs=1)"
      ]
     },
     "execution_count": 89,
     "metadata": {},
     "output_type": "execute_result"
    }
   ],
   "source": [
    "%%time\n",
    "LinearRegression(n_jobs=1).fit(np.random.random(size=(90, 1)), np.random.random(size=(90, 50000)))"
   ]
  },
  {
   "cell_type": "code",
   "execution_count": null,
   "id": "54eb7135",
   "metadata": {},
   "outputs": [],
   "source": [
    "b_coefs[b] = LinearRegression(n_jobs=1).fit(df[['geno', 'age']], df['expr']).coef_[0]"
   ]
  },
  {
   "cell_type": "code",
   "execution_count": 86,
   "id": "3e97b0e7",
   "metadata": {},
   "outputs": [
    {
     "data": {
      "text/plain": [
       "(90, 4)"
      ]
     },
     "execution_count": 86,
     "metadata": {},
     "output_type": "execute_result"
    }
   ],
   "source": [
    "df.shape"
   ]
  },
  {
   "cell_type": "code",
   "execution_count": 36,
   "id": "3cf15a56",
   "metadata": {},
   "outputs": [],
   "source": [
    "gen = np.random.Generator(np.random.PCG64(5))"
   ]
  },
  {
   "cell_type": "code",
   "execution_count": 63,
   "id": "9d4b326a",
   "metadata": {},
   "outputs": [
    {
     "name": "stdout",
     "output_type": "stream",
     "text": [
      "CPU times: user 571 µs, sys: 0 ns, total: 571 µs\n",
      "Wall time: 368 µs\n"
     ]
    }
   ],
   "source": [
    "%%time\n",
    "replicate_assignment = np.random.choice(10, size=(10, 1000))"
   ]
  },
  {
   "cell_type": "code",
   "execution_count": 64,
   "id": "d766dded",
   "metadata": {},
   "outputs": [],
   "source": [
    "b_iter_assignment = np.random.choice(1000, (10, 1000))"
   ]
  },
  {
   "cell_type": "code",
   "execution_count": 65,
   "id": "44012e30",
   "metadata": {},
   "outputs": [
    {
     "data": {
      "text/plain": [
       "(10, 1000)"
      ]
     },
     "execution_count": 65,
     "metadata": {},
     "output_type": "execute_result"
    }
   ],
   "source": [
    "replicate_assignment.shape"
   ]
  },
  {
   "cell_type": "code",
   "execution_count": 66,
   "id": "5dc4462d",
   "metadata": {},
   "outputs": [
    {
     "data": {
      "text/plain": [
       "(10, 1000)"
      ]
     },
     "execution_count": 66,
     "metadata": {},
     "output_type": "execute_result"
    }
   ],
   "source": [
    "b_iter_assignment.shape"
   ]
  },
  {
   "cell_type": "code",
   "execution_count": 67,
   "id": "b27ede94",
   "metadata": {},
   "outputs": [],
   "source": [
    "boot_expr = stats.norm.rvs(size=(10, 1000))"
   ]
  },
  {
   "cell_type": "code",
   "execution_count": 70,
   "id": "c303c6b6",
   "metadata": {},
   "outputs": [
    {
     "data": {
      "text/plain": [
       "(10, 1000)"
      ]
     },
     "execution_count": 70,
     "metadata": {},
     "output_type": "execute_result"
    }
   ],
   "source": [
    "boot_expr[ ( replicate_assignment,  b_iter_assignment) ].shape"
   ]
  },
  {
   "cell_type": "code",
   "execution_count": 35,
   "id": "e1ef8943",
   "metadata": {},
   "outputs": [
    {
     "data": {
      "text/plain": [
       "0.4196"
      ]
     },
     "execution_count": 35,
     "metadata": {},
     "output_type": "execute_result"
    }
   ],
   "source": [
    "(b_coefs < 0).mean()"
   ]
  },
  {
   "cell_type": "markdown",
   "id": "d719447f",
   "metadata": {},
   "source": [
    "### Tests"
   ]
  },
  {
   "cell_type": "code",
   "execution_count": 551,
   "id": "4bb0e77e",
   "metadata": {},
   "outputs": [
    {
     "ename": "SyntaxError",
     "evalue": "invalid syntax (1290438042.py, line 1)",
     "output_type": "error",
     "traceback": [
      "\u001b[0;36m  File \u001b[0;32m\"/tmp/ipykernel_5218/1290438042.py\"\u001b[0;36m, line \u001b[0;32m1\u001b[0m\n\u001b[0;31m    **(3,2)\u001b[0m\n\u001b[0m    ^\u001b[0m\n\u001b[0;31mSyntaxError\u001b[0m\u001b[0;31m:\u001b[0m invalid syntax\n"
     ]
    }
   ],
   "source": [
    "**(3,2)"
   ]
  },
  {
   "cell_type": "code",
   "execution_count": 564,
   "id": "d6ce16d6",
   "metadata": {},
   "outputs": [],
   "source": [
    "def _cross_coef(A, B, sample_weight):\n",
    "\t\n",
    "    # Rowwise mean of input arrays & subtract from input arrays themeselves\n",
    "    A_mA = A - np.average(A, axis=0, weights=sample_weight)\n",
    "    B_mB = B - np.average(B, axis=0, weights=sample_weight)\n",
    "\n",
    "    # Sum of squares across rows\n",
    "    ssA = np.average(A_mA**2, axis=0, weights=sample_weight)\n",
    "\n",
    "    # Finally get corr coeff\n",
    "    return A_mA.T.dot(np.diag(sample_weight)).dot(B_mB)/sample_weight.sum() / ssA[:, None]\n",
    "\n",
    "def _cross_coef_resampled(A, B, sample_weight):\n",
    "\t\n",
    "    B_mB = B - np.average(B, axis=0, weights=sample_weight)\n",
    "    A_mA = A - (A*sample_weight[:, :, np.newaxis]).sum(axis=0)/sample_weight.sum(axis=0)[:, np.newaxis]\n",
    "\n",
    "    # Sum of squares across rows\n",
    "    ssA = (A_mA**2*sample_weight[:, :, np.newaxis]).sum(axis=0)/sample_weight.sum(axis=0)[:, np.newaxis]\n",
    "\n",
    "    # temp = np.einsum( 'ij,ijk->kj',  (boot_expr_resampled * weights_resampled), snps_resampled)\n",
    "    return np.einsum('ijk,ij->jk', A_mA * sample_weight[:, :, np.newaxis], B_mB).T/sample_weight.sum(axis=0) / ssA.T"
   ]
  },
  {
   "cell_type": "code",
   "execution_count": 565,
   "id": "d50f8af4",
   "metadata": {},
   "outputs": [],
   "source": [
    "boot_expr = stats.norm.rvs(size=(90, 10000))\n",
    "snps = np.random.randint(3, size=(90, 5))\n",
    "weights = stats.norm.rvs(loc=100, scale=10, size=90).astype(int)"
   ]
  },
  {
   "cell_type": "code",
   "execution_count": 566,
   "id": "9c5b97a4",
   "metadata": {},
   "outputs": [
    {
     "data": {
      "text/plain": [
       "array([[   0,    1,    2, ..., 9997, 9998, 9999],\n",
       "       [   0,    1,    2, ..., 9997, 9998, 9999],\n",
       "       [   0,    1,    2, ..., 9997, 9998, 9999],\n",
       "       ...,\n",
       "       [   0,    1,    2, ..., 9997, 9998, 9999],\n",
       "       [   0,    1,    2, ..., 9997, 9998, 9999],\n",
       "       [   0,    1,    2, ..., 9997, 9998, 9999]])"
      ]
     },
     "execution_count": 566,
     "metadata": {},
     "output_type": "execute_result"
    }
   ],
   "source": [
    "b_iter_assignment"
   ]
  },
  {
   "cell_type": "code",
   "execution_count": 567,
   "id": "00bba781",
   "metadata": {},
   "outputs": [
    {
     "data": {
      "text/plain": [
       "array([[ 0,  0,  0, ...,  0,  0,  0],\n",
       "       [ 1,  1,  1, ...,  1,  1,  1],\n",
       "       [ 2,  2,  2, ...,  2,  2,  2],\n",
       "       ...,\n",
       "       [87, 87, 87, ..., 87, 87, 87],\n",
       "       [88, 88, 88, ..., 88, 88, 88],\n",
       "       [89, 89, 89, ..., 89, 89, 89]])"
      ]
     },
     "execution_count": 567,
     "metadata": {},
     "output_type": "execute_result"
    }
   ],
   "source": [
    "replicate_assignment "
   ]
  },
  {
   "cell_type": "code",
   "execution_count": 568,
   "id": "953c5f0f",
   "metadata": {},
   "outputs": [
    {
     "name": "stdout",
     "output_type": "stream",
     "text": [
      "CPU times: user 22.3 ms, sys: 9.11 ms, total: 31.4 ms\n",
      "Wall time: 7.24 ms\n"
     ]
    }
   ],
   "source": [
    "%%time\n",
    "# without replicate resampling\n",
    "no_resampling = _cross_coef(snps, boot_expr, weights)"
   ]
  },
  {
   "cell_type": "code",
   "execution_count": 569,
   "id": "516e20e5",
   "metadata": {},
   "outputs": [
    {
     "name": "stdout",
     "output_type": "stream",
     "text": [
      "CPU times: user 80 ms, sys: 52.3 ms, total: 132 ms\n",
      "Wall time: 130 ms\n"
     ]
    }
   ],
   "source": [
    "%%time\n",
    "# with replicate resampling\n",
    "\n",
    "boot_expr_resampled = boot_expr[(replicate_assignment, b_iter_assignment)]\n",
    "snps_resampled = snps[replicate_assignment]\n",
    "weights_resampled = weights[replicate_assignment]\n",
    "\n",
    "resampling = _cross_coef_resampled(snps_resampled, boot_expr_resampled, weights_resampled)"
   ]
  },
  {
   "cell_type": "code",
   "execution_count": 570,
   "id": "8fc44c48",
   "metadata": {},
   "outputs": [
    {
     "data": {
      "text/plain": [
       "array([[-0.05988117, -0.06171054, -0.18698852, ...,  0.01170044,\n",
       "         0.04763177,  0.0125007 ],\n",
       "       [-0.11455263,  0.20160014,  0.03180563, ..., -0.0733824 ,\n",
       "        -0.07433392,  0.09746808],\n",
       "       [-0.11609546, -0.05078757,  0.01429696, ...,  0.05883788,\n",
       "         0.12252083,  0.18119641],\n",
       "       [ 0.13999893, -0.0980006 , -0.20078233, ..., -0.1065617 ,\n",
       "        -0.14043933,  0.07974735],\n",
       "       [ 0.13787341,  0.11843598, -0.14769709, ...,  0.0245258 ,\n",
       "         0.01665072, -0.2290527 ]])"
      ]
     },
     "execution_count": 570,
     "metadata": {},
     "output_type": "execute_result"
    }
   ],
   "source": [
    "no_resampling"
   ]
  },
  {
   "cell_type": "code",
   "execution_count": 571,
   "id": "19f97252",
   "metadata": {},
   "outputs": [
    {
     "data": {
      "text/plain": [
       "array([[-0.05988117, -0.06171054, -0.18698852, ...,  0.01170044,\n",
       "         0.04763177,  0.0125007 ],\n",
       "       [-0.11455263,  0.20160014,  0.03180563, ..., -0.0733824 ,\n",
       "        -0.07433392,  0.09746808],\n",
       "       [-0.11609546, -0.05078757,  0.01429696, ...,  0.05883788,\n",
       "         0.12252083,  0.18119641],\n",
       "       [ 0.13999893, -0.0980006 , -0.20078233, ..., -0.1065617 ,\n",
       "        -0.14043933,  0.07974735],\n",
       "       [ 0.13787341,  0.11843598, -0.14769709, ...,  0.0245258 ,\n",
       "         0.01665072, -0.2290527 ]])"
      ]
     },
     "execution_count": 571,
     "metadata": {},
     "output_type": "execute_result"
    }
   ],
   "source": [
    "resampling"
   ]
  },
  {
   "cell_type": "code",
   "execution_count": null,
   "id": "941fd4dd",
   "metadata": {},
   "outputs": [],
   "source": []
  },
  {
   "cell_type": "code",
   "execution_count": null,
   "id": "684a4870",
   "metadata": {},
   "outputs": [],
   "source": []
  },
  {
   "cell_type": "code",
   "execution_count": 528,
   "id": "ad50ca87",
   "metadata": {},
   "outputs": [],
   "source": [
    "A = snps\n",
    "B = boot_expr\n",
    "sample_weight = weights\n",
    "\n",
    "# Rowwise mean of input arrays & subtract from input arrays themeselves\n",
    "A_mA = A - np.average(A, axis=0, weights=sample_weight)\n",
    "B_mB = B - np.average(B, axis=0, weights=sample_weight)\n",
    "\n",
    "# Sum of squares across rows\n",
    "ssA = np.average(A_mA**2, axis=0, weights=sample_weight)\n",
    "\n",
    "temp1 = A_mA.T.dot(np.diag(sample_weight)).dot(B_mB)/sample_weight.sum() / ssA[:, None]\n"
   ]
  },
  {
   "cell_type": "code",
   "execution_count": 529,
   "id": "c0ca8920",
   "metadata": {},
   "outputs": [],
   "source": [
    "A = snps_resampled\n",
    "B = boot_expr_resampled\n",
    "sample_weight = weights_resampled \n",
    "\n",
    "B_mB = B - np.average(B, axis=0, weights=sample_weight)\n",
    "A_mA = A - (A*weights_resampled[:, :, np.newaxis]).sum(axis=0)/weights_resampled.sum(axis=0)[:, np.newaxis]\n",
    "\n",
    "# Sum of squares across rows\n",
    "ssA = (A_mA**2*weights_resampled[:, :, np.newaxis]).sum(axis=0)/weights_resampled.sum(axis=0)[:, np.newaxis]\n",
    "\n",
    "# temp = np.einsum( 'ij,ijk->kj',  (boot_expr_resampled * weights_resampled), snps_resampled)\n",
    "temp2 = np.einsum('ijk,ij->jk', A_mA * weights_resampled[:, :, np.newaxis], B_mB).T/weights_resampled.sum(axis=0) / ssA.T"
   ]
  },
  {
   "cell_type": "code",
   "execution_count": 530,
   "id": "0b834ba1",
   "metadata": {},
   "outputs": [
    {
     "data": {
      "text/plain": [
       "array([[ 0.11545594,  0.04942186,  0.13452439, ...,  0.01464543,\n",
       "         0.20582413, -0.04256053],\n",
       "       [ 0.15468237, -0.06566072, -0.01795627, ...,  0.10883713,\n",
       "        -0.03191192,  0.23477685],\n",
       "       [-0.04766101,  0.02481631,  0.02372452, ...,  0.15679898,\n",
       "         0.14754772,  0.10074068],\n",
       "       [-0.02021122,  0.03827843, -0.15005295, ...,  0.13735752,\n",
       "        -0.1562774 , -0.02541735],\n",
       "       [ 0.1593466 ,  0.08748821,  0.06035192, ..., -0.17126036,\n",
       "        -0.05155565,  0.0073912 ]])"
      ]
     },
     "execution_count": 530,
     "metadata": {},
     "output_type": "execute_result"
    }
   ],
   "source": [
    "temp1"
   ]
  },
  {
   "cell_type": "code",
   "execution_count": 531,
   "id": "ab5dff91",
   "metadata": {},
   "outputs": [
    {
     "data": {
      "text/plain": [
       "array([[ 0.11545594,  0.04942186,  0.13452439, ...,  0.01464543,\n",
       "         0.20582413, -0.04256053],\n",
       "       [ 0.15468237, -0.06566072, -0.01795627, ...,  0.10883713,\n",
       "        -0.03191192,  0.23477685],\n",
       "       [-0.04766101,  0.02481631,  0.02372452, ...,  0.15679898,\n",
       "         0.14754772,  0.10074068],\n",
       "       [-0.02021122,  0.03827843, -0.15005295, ...,  0.13735752,\n",
       "        -0.1562774 , -0.02541735],\n",
       "       [ 0.1593466 ,  0.08748821,  0.06035192, ..., -0.17126036,\n",
       "        -0.05155565,  0.0073912 ]])"
      ]
     },
     "execution_count": 531,
     "metadata": {},
     "output_type": "execute_result"
    }
   ],
   "source": [
    "temp2"
   ]
  },
  {
   "cell_type": "code",
   "execution_count": null,
   "id": "4bc054f9",
   "metadata": {},
   "outputs": [],
   "source": []
  },
  {
   "cell_type": "code",
   "execution_count": 526,
   "id": "7e1c324b",
   "metadata": {},
   "outputs": [
    {
     "data": {
      "text/plain": [
       "array([[1.00231074, 0.99130722, 1.06800176, 1.04830546, 1.0587588 ],\n",
       "       [1.00231074, 0.99130722, 1.06800176, 1.04830546, 1.0587588 ],\n",
       "       [1.00231074, 0.99130722, 1.06800176, 1.04830546, 1.0587588 ],\n",
       "       ...,\n",
       "       [1.00231074, 0.99130722, 1.06800176, 1.04830546, 1.0587588 ],\n",
       "       [1.00231074, 0.99130722, 1.06800176, 1.04830546, 1.0587588 ],\n",
       "       [1.00231074, 0.99130722, 1.06800176, 1.04830546, 1.0587588 ]])"
      ]
     },
     "execution_count": 526,
     "metadata": {},
     "output_type": "execute_result"
    }
   ],
   "source": [
    "np.average(A, axis=0, weights=np.repeat(sample_weight[:, :, np.newaxis], A.shape[-1], axis=2))"
   ]
  },
  {
   "cell_type": "code",
   "execution_count": 489,
   "id": "37be5d2d",
   "metadata": {},
   "outputs": [
    {
     "data": {
      "text/plain": [
       "array([[ 0.11545594,  0.04942186,  0.13452439, ...,  0.01464543,\n",
       "         0.20582413, -0.04256053],\n",
       "       [ 0.15468237, -0.06566072, -0.01795627, ...,  0.10883713,\n",
       "        -0.03191192,  0.23477685],\n",
       "       [-0.04766101,  0.02481631,  0.02372452, ...,  0.15679898,\n",
       "         0.14754772,  0.10074068],\n",
       "       [-0.02021122,  0.03827843, -0.15005295, ...,  0.13735752,\n",
       "        -0.1562774 , -0.02541735],\n",
       "       [ 0.1593466 ,  0.08748821,  0.06035192, ..., -0.17126036,\n",
       "        -0.05155565,  0.0073912 ]])"
      ]
     },
     "execution_count": 489,
     "metadata": {},
     "output_type": "execute_result"
    }
   ],
   "source": [
    "temp1"
   ]
  },
  {
   "cell_type": "code",
   "execution_count": 490,
   "id": "340a97d3",
   "metadata": {},
   "outputs": [
    {
     "data": {
      "text/plain": [
       "array([[ 0.11545594,  0.04942186,  0.13452439, ...,  0.01464543,\n",
       "         0.20582413, -0.04256053],\n",
       "       [ 0.15468237, -0.06566072, -0.01795627, ...,  0.10883713,\n",
       "        -0.03191192,  0.23477685],\n",
       "       [-0.04766101,  0.02481631,  0.02372452, ...,  0.15679898,\n",
       "         0.14754772,  0.10074068],\n",
       "       [-0.02021122,  0.03827843, -0.15005295, ...,  0.13735752,\n",
       "        -0.1562774 , -0.02541735],\n",
       "       [ 0.1593466 ,  0.08748821,  0.06035192, ..., -0.17126036,\n",
       "        -0.05155565,  0.0073912 ]])"
      ]
     },
     "execution_count": 490,
     "metadata": {},
     "output_type": "execute_result"
    }
   ],
   "source": [
    "temp2"
   ]
  },
  {
   "cell_type": "code",
   "execution_count": 285,
   "id": "9ee3607c",
   "metadata": {},
   "outputs": [],
   "source": [
    "\n",
    "# with replicate resampling\n",
    "\n",
    "boot_expr_resampled = boot_expr[(replicate_assignment, b_iter_assignment)]\n",
    "snps_resampled = snps[replicate_assignment]\n",
    "weights_resampled = weights[replicate_assignment]\n",
    "\n",
    "b = _cross_coef_resampled(snps_resampled, boot_expr_resampled, weights_resampled)"
   ]
  },
  {
   "cell_type": "code",
   "execution_count": 226,
   "id": "14390f19",
   "metadata": {},
   "outputs": [
    {
     "data": {
      "text/plain": [
       "<AxesSubplot:ylabel='Density'>"
      ]
     },
     "execution_count": 226,
     "metadata": {},
     "output_type": "execute_result"
    },
    {
     "data": {
      "image/png": "[encoded data removed]",
      "text/plain": [
       "<Figure size 432x288 with 1 Axes>"
      ]
     },
     "metadata": {
      "needs_background": "light"
     },
     "output_type": "display_data"
    }
   ],
   "source": [
    "sns.kdeplot(coefs[:, 0])"
   ]
  },
  {
   "cell_type": "code",
   "execution_count": null,
   "id": "7bc9edb3",
   "metadata": {},
   "outputs": [],
   "source": []
  },
  {
   "cell_type": "code",
   "execution_count": null,
   "id": "7f0df470",
   "metadata": {},
   "outputs": [],
   "source": []
  },
  {
   "cell_type": "code",
   "execution_count": null,
   "id": "1a7ff431",
   "metadata": {},
   "outputs": [],
   "source": []
  },
  {
   "cell_type": "code",
   "execution_count": null,
   "id": "5d41aaa3",
   "metadata": {},
   "outputs": [],
   "source": []
  },
  {
   "cell_type": "code",
   "execution_count": null,
   "id": "752dd116",
   "metadata": {},
   "outputs": [],
   "source": []
  },
  {
   "cell_type": "code",
   "execution_count": 184,
   "id": "215841f9",
   "metadata": {},
   "outputs": [
    {
     "data": {
      "text/plain": [
       "(90, 10000, 5)"
      ]
     },
     "execution_count": 184,
     "metadata": {},
     "output_type": "execute_result"
    }
   ],
   "source": [
    "snps_resampled.shape"
   ]
  },
  {
   "cell_type": "code",
   "execution_count": 188,
   "id": "632287d1",
   "metadata": {},
   "outputs": [
    {
     "data": {
      "text/plain": [
       "array([[1, 1, 0, 0, 2],\n",
       "       [1, 1, 0, 2, 0],\n",
       "       [0, 0, 0, 1, 0],\n",
       "       [0, 1, 0, 1, 0],\n",
       "       [0, 1, 0, 1, 0]])"
      ]
     },
     "execution_count": 188,
     "metadata": {},
     "output_type": "execute_result"
    }
   ],
   "source": [
    "snps[replicate_assignment[:,0]][:5]"
   ]
  },
  {
   "cell_type": "code",
   "execution_count": 186,
   "id": "3fc3a82a",
   "metadata": {},
   "outputs": [
    {
     "data": {
      "text/plain": [
       "array([[1, 1, 0, 0, 2],\n",
       "       [1, 1, 0, 2, 0],\n",
       "       [0, 0, 0, 1, 0],\n",
       "       [0, 1, 0, 1, 0],\n",
       "       [0, 1, 0, 1, 0]])"
      ]
     },
     "execution_count": 186,
     "metadata": {},
     "output_type": "execute_result"
    }
   ],
   "source": [
    "snps_resampled[:, 0, :][:5]"
   ]
  },
  {
   "cell_type": "code",
   "execution_count": 173,
   "id": "77be573c",
   "metadata": {},
   "outputs": [
    {
     "name": "stdout",
     "output_type": "stream",
     "text": [
      "CPU times: user 1.17 ms, sys: 73 µs, total: 1.24 ms\n",
      "Wall time: 858 µs\n"
     ]
    }
   ],
   "source": [
    "%%time\n",
    "\n",
    "# just single bootstrap\n",
    "boot_idx = 0\n",
    "resampling = replicate_assignment[boot_idx]\n",
    "b = _cross_coef(snps[resampling], boot_expr.T[boot_idx][resampling].reshape(-1,1), weights[resampling])"
   ]
  },
  {
   "cell_type": "code",
   "execution_count": 174,
   "id": "099d3188",
   "metadata": {},
   "outputs": [
    {
     "data": {
      "text/plain": [
       "(5, 1)"
      ]
     },
     "execution_count": 174,
     "metadata": {},
     "output_type": "execute_result"
    }
   ],
   "source": [
    "b.shape"
   ]
  },
  {
   "cell_type": "code",
   "execution_count": 175,
   "id": "960908ab",
   "metadata": {},
   "outputs": [
    {
     "data": {
      "text/plain": [
       "(90,)"
      ]
     },
     "execution_count": 175,
     "metadata": {},
     "output_type": "execute_result"
    }
   ],
   "source": [
    "boot_expr.T[boot_idx][resampling].shape"
   ]
  },
  {
   "cell_type": "code",
   "execution_count": null,
   "id": "62149fe2",
   "metadata": {},
   "outputs": [],
   "source": [
    "def test(resampling, expr):\n",
    "    \n",
    "    return _cross_coef(snps[resampling], boot_expr.T[boot_idx][resampling].reshape(-1,1), weights[resampling])"
   ]
  },
  {
   "cell_type": "code",
   "execution_count": null,
   "id": "debee971",
   "metadata": {},
   "outputs": [],
   "source": []
  },
  {
   "cell_type": "code",
   "execution_count": null,
   "id": "d3593ea4",
   "metadata": {},
   "outputs": [],
   "source": []
  },
  {
   "cell_type": "code",
   "execution_count": 103,
   "id": "74f2db59",
   "metadata": {},
   "outputs": [],
   "source": [
    "X = np.array([1, 2, 3, 4, 5]).reshape(-1,1)\n",
    "y = np.array([4, 2, 2, 5, 1])\n",
    "weights = np.array([1, 2, 3, 1, 2])"
   ]
  },
  {
   "cell_type": "code",
   "execution_count": 104,
   "id": "df5622ea",
   "metadata": {},
   "outputs": [
    {
     "data": {
      "text/plain": [
       "array([-0.35820896])"
      ]
     },
     "execution_count": 104,
     "metadata": {},
     "output_type": "execute_result"
    }
   ],
   "source": [
    "LinearRegression(n_jobs=1).fit(X, y, weights).coef_"
   ]
  },
  {
   "cell_type": "code",
   "execution_count": 98,
   "id": "cdee42ee",
   "metadata": {},
   "outputs": [
    {
     "data": {
      "text/plain": [
       "array([-0.16666667])"
      ]
     },
     "execution_count": 98,
     "metadata": {},
     "output_type": "execute_result"
    }
   ],
   "source": [
    "LinearRegression(n_jobs=1).fit(X, y, weights).coef_"
   ]
  },
  {
   "cell_type": "markdown",
   "id": "d6dbeb0b",
   "metadata": {},
   "source": [
    "### Permutation"
   ]
  },
  {
   "cell_type": "code",
   "execution_count": 85,
   "id": "c7ea8026",
   "metadata": {},
   "outputs": [
    {
     "data": {
      "text/plain": [
       "<AxesSubplot:ylabel='Density'>"
      ]
     },
     "execution_count": 85,
     "metadata": {},
     "output_type": "execute_result"
    },
    {
     "data": {
      "image/png": "[encoded data removed]",
      "text/plain": [
       "<Figure size 432x288 with 1 Axes>"
      ]
     },
     "metadata": {
      "needs_background": "light"
     },
     "output_type": "display_data"
    }
   ],
   "source": [
    "num_perm = 10000\n",
    "p_coefs = np.zeros(num_perm)\n",
    "for p in range(num_perm):\n",
    "    \n",
    "    p_idxs = np.random.choice(df.shape[0], size=df.shape[0], replace=False)\n",
    "    p_coefs[p] = LinearRegression().fit(df[['geno']].values[p_idxs], df['expr'].values).coef_[0]\n",
    "sns.kdeplot(p_coefs)"
   ]
  },
  {
   "cell_type": "code",
   "execution_count": 95,
   "id": "807a0c15",
   "metadata": {},
   "outputs": [
    {
     "data": {
      "text/plain": [
       "<AxesSubplot:ylabel='Density'>"
      ]
     },
     "execution_count": 95,
     "metadata": {},
     "output_type": "execute_result"
    },
    {
     "data": {
      "image/png": "[encoded data removed]",
      "text/plain": [
       "<Figure size 432x288 with 1 Axes>"
      ]
     },
     "metadata": {
      "needs_background": "light"
     },
     "output_type": "display_data"
    }
   ],
   "source": [
    "# Stratified permutation\n",
    "num_perm = 10000\n",
    "p_coefs2 = np.zeros(num_perm)\n",
    "\n",
    "for p in range(num_perm):\n",
    "\n",
    "    p_df = dummy_df.copy()\n",
    "    p_df['geno'] = np.random.choice(dummy_df['geno'], size=df.shape[0], replace=False)\n",
    "    p_coefs2[p] = LinearRegression().fit(p_df.iloc[:, 1:].values, p_df['expr'].values).coef_[0]\n",
    "sns.kdeplot(p_coefs2)"
   ]
  },
  {
   "cell_type": "markdown",
   "id": "cccb6700",
   "metadata": {},
   "source": [
    "### Hack"
   ]
  },
  {
   "cell_type": "code",
   "execution_count": 114,
   "id": "f7fd368e",
   "metadata": {},
   "outputs": [],
   "source": [
    "to_subtract0 = (df.query('geno == 0').groupby('ind').expr.mean() - df.query('geno == 0').groupby('ind').expr.mean().mean()).reset_index(name='to_subtract')\n",
    "to_subtract1 = (df.query('geno == 1').groupby('ind').expr.mean() - df.query('geno == 1').groupby('ind').expr.mean().mean()).reset_index(name='to_subtract')\n",
    "to_subtract = pd.concat([to_subtract0, to_subtract1])"
   ]
  },
  {
   "cell_type": "code",
   "execution_count": 118,
   "id": "0255c8d2",
   "metadata": {},
   "outputs": [],
   "source": [
    "hack_df = df.copy().merge(to_subtract, on='ind')"
   ]
  },
  {
   "cell_type": "code",
   "execution_count": 119,
   "id": "35195233",
   "metadata": {},
   "outputs": [],
   "source": [
    "hack_df['centered_expr'] = hack_df['expr'] - hack_df['to_subtract']"
   ]
  },
  {
   "cell_type": "code",
   "execution_count": 122,
   "id": "8e5593ee",
   "metadata": {},
   "outputs": [
    {
     "data": {
      "text/plain": [
       "ind\n",
       "donor_0    8.380178\n",
       "donor_1    8.380178\n",
       "donor_2    8.380178\n",
       "donor_3    8.380178\n",
       "donor_4    8.380178\n",
       "donor_5    9.280452\n",
       "donor_6    9.280452\n",
       "donor_7    9.280452\n",
       "donor_8    9.280452\n",
       "donor_9    9.280452\n",
       "Name: centered_expr, dtype: float64"
      ]
     },
     "execution_count": 122,
     "metadata": {},
     "output_type": "execute_result"
    }
   ],
   "source": [
    "hack_df.groupby('ind').centered_expr.mean()"
   ]
  },
  {
   "cell_type": "code",
   "execution_count": 121,
   "id": "accac900",
   "metadata": {},
   "outputs": [
    {
     "data": {
      "text/plain": [
       "<AxesSubplot:ylabel='Density'>"
      ]
     },
     "execution_count": 121,
     "metadata": {},
     "output_type": "execute_result"
    },
    {
     "data": {
      "image/png": "[encoded data removed]",
      "text/plain": [
       "<Figure size 432x288 with 1 Axes>"
      ]
     },
     "metadata": {
      "needs_background": "light"
     },
     "output_type": "display_data"
    }
   ],
   "source": [
    "# permutation\n",
    "num_perm = 10000\n",
    "p_coefs = np.zeros(num_perm)\n",
    "for p in range(num_perm):\n",
    "    \n",
    "    p_idxs = np.random.choice(hack_df.shape[0], size=hack_df.shape[0], replace=False)\n",
    "    p_coefs[p] = LinearRegression().fit(hack_df[['geno']].values[p_idxs], hack_df['centered_expr'].values).coef_[0]\n",
    "sns.kdeplot(p_coefs)"
   ]
  },
  {
   "cell_type": "markdown",
   "id": "753d016a",
   "metadata": {},
   "source": [
    "### sampling for permutation"
   ]
  },
  {
   "cell_type": "code",
   "execution_count": 11,
   "id": "35fc3444",
   "metadata": {},
   "outputs": [],
   "source": [
    "expr = stats.norm.rvs(size=1000)"
   ]
  },
  {
   "cell_type": "code",
   "execution_count": 12,
   "id": "6051efb6",
   "metadata": {},
   "outputs": [],
   "source": [
    "p1 = [0.4, 0.5, 0.1]\n",
    "p2 = [0.4, 0.1, 0.5]\n",
    "num_trial = 30000\n",
    "p1_coefs = np.zeros(num_trial)\n",
    "p2_coefs = np.zeros(num_trial)\n",
    "for trial in range(num_trial):\n",
    "    tx1 = np.random.choice([0, 1, 2], p=p1, size=1000)\n",
    "    tx2 = np.random.choice([0, 1, 2], p=p2, size=1000)\n",
    "    \n",
    "    p1_coefs[trial] = stats.linregress(tx1, expr)[0]\n",
    "    p2_coefs[trial] = stats.linregress(tx2, expr)[0]"
   ]
  },
  {
   "cell_type": "code",
   "execution_count": 13,
   "id": "218f7815",
   "metadata": {},
   "outputs": [
    {
     "data": {
      "text/plain": [
       "<AxesSubplot:ylabel='Density'>"
      ]
     },
     "execution_count": 13,
     "metadata": {},
     "output_type": "execute_result"
    },
    {
     "data": {
      "image/png": "[encoded data removed]",
      "text/plain": [
       "<Figure size 432x288 with 1 Axes>"
      ]
     },
     "metadata": {
      "needs_background": "light"
     },
     "output_type": "display_data"
    }
   ],
   "source": [
    "sns.kdeplot(p1_coefs)\n",
    "sns.kdeplot(p2_coefs)"
   ]
  },
  {
   "cell_type": "code",
   "execution_count": null,
   "id": "459aaefc",
   "metadata": {},
   "outputs": [],
   "source": []
  }
 ],
 "metadata": {
  "kernelspec": {
   "display_name": "Python 3 (ipykernel)",
   "language": "python",
   "name": "python3"
  },
  "language_info": {
   "codemirror_mode": {
    "name": "ipython",
    "version": 3
   },
   "file_extension": ".py",
   "mimetype": "text/x-python",
   "name": "python",
   "nbconvert_exporter": "python",
   "pygments_lexer": "ipython3",
   "version": "3.8.8"
  }
 },
 "nbformat": 4,
 "nbformat_minor": 5
}
