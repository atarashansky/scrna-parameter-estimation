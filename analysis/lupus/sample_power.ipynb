{
 "cells": [
  {
   "cell_type": "markdown",
   "id": "88dd4452",
   "metadata": {},
   "source": [
    "# Sampled power analysis"
   ]
  },
  {
   "cell_type": "code",
   "execution_count": 120,
   "id": "0bf3f7f6",
   "metadata": {},
   "outputs": [],
   "source": [
    "import scanpy as sc\n",
    "import seaborn as sns\n",
    "import pandas as pd\n",
    "import matplotlib.pyplot as plt\n",
    "import numpy as np\n",
    "import scipy.stats as stats\n",
    "import itertools\n",
    "import warnings\n",
    "\n",
    "import os\n",
    "import pickle as pkl\n",
    "%matplotlib inline\n",
    "import qvalue\n",
    "import imp"
   ]
  },
  {
   "cell_type": "code",
   "execution_count": 121,
   "id": "9f004a42",
   "metadata": {},
   "outputs": [],
   "source": [
    "import sys\n",
    "sys.path.append('/home/ssm-user/Github/scrna-parameter-estimation/dist/memento-0.0.8-py3.8.egg')\n",
    "sys.path.append('/home/ssm-user/Github/misc-seq/miscseq/')\n",
    "import encode\n",
    "import memento\n",
    "import run_memento"
   ]
  },
  {
   "cell_type": "code",
   "execution_count": 135,
   "id": "531c139f",
   "metadata": {},
   "outputs": [],
   "source": [
    "data_path  = '/data_volume/memento/lupus/'\n",
    "num_inds = [50, 60, 70, 80]\n",
    "num_resample=10\n",
    "cts = ['B', 'T8', 'T4', 'NK', 'cM', 'ncM']"
   ]
  },
  {
   "cell_type": "code",
   "execution_count": 171,
   "id": "a2d24729",
   "metadata": {},
   "outputs": [],
   "source": [
    "import matplotlib\n",
    "matplotlib.rcParams['pdf.fonttype'] = 42\n",
    "matplotlib.rcParams['ps.fonttype'] = 42"
   ]
  },
  {
   "cell_type": "code",
   "execution_count": 172,
   "id": "bfce8326",
   "metadata": {},
   "outputs": [],
   "source": [
    "import matplotlib.pylab as pylab\n",
    "params = {'legend.fontsize': 'medium',\n",
    "         'axes.labelsize': 'medium',\n",
    "         'axes.titlesize':'medium',\n",
    "         'figure.titlesize':'medium',\n",
    "         'xtick.labelsize':'small',\n",
    "         'ytick.labelsize':'small'}\n",
    "pylab.rcParams.update(params)"
   ]
  },
  {
   "cell_type": "markdown",
   "id": "ba09eaca",
   "metadata": {},
   "source": [
    "### Sample the SNP and covariate dataframes"
   ]
  },
  {
   "cell_type": "code",
   "execution_count": 123,
   "id": "9f8ff588",
   "metadata": {},
   "outputs": [],
   "source": [
    "def drop_zero_col(df):\n",
    "    \n",
    "    return df.loc[:, (df != 0).any(axis=0)].copy()"
   ]
  },
  {
   "cell_type": "markdown",
   "id": "5fd05a1d",
   "metadata": {},
   "source": [
    "### Plot the power figure"
   ]
  },
  {
   "cell_type": "code",
   "execution_count": 22,
   "id": "f010852b",
   "metadata": {},
   "outputs": [],
   "source": [
    "# Read the OneK result\n",
    "onek_replication = pd.read_csv(data_path + 'filtered_onek_eqtls.csv')"
   ]
  },
  {
   "cell_type": "code",
   "execution_count": 23,
   "id": "63e0d650",
   "metadata": {},
   "outputs": [],
   "source": [
    "cts = onek_replication.cg_cov.drop_duplicates().tolist()"
   ]
  },
  {
   "cell_type": "code",
   "execution_count": 32,
   "id": "4162c046",
   "metadata": {},
   "outputs": [
    {
     "data": {
      "text/plain": [
       "(9382, 10)"
      ]
     },
     "execution_count": 32,
     "metadata": {},
     "output_type": "execute_result"
    }
   ],
   "source": [
    "onek_replication.shape"
   ]
  },
  {
   "cell_type": "code",
   "execution_count": 153,
   "id": "e3ead0d9",
   "metadata": {},
   "outputs": [],
   "source": [
    "result_df = []\n",
    "for pop in ['asian']:\n",
    "    for num_ind in num_inds:\n",
    "        for resample in range(num_resample):\n",
    "            for ct in cts:\n",
    "                meq = pd.read_csv(data_path + 'mateqtl_output/sampled/{}_{}_{}_{}.out'.format(pop, ct, num_ind, resample), sep='\\t')\n",
    "                mem = pd.read_csv(data_path + 'memento_1k/{}_{}_{}_{}.csv'.format(pop, ct, num_ind, resample))\n",
    "                merged = mem.rename(columns={'tx':'SNP'}).merge(meq, on=['SNP', 'gene'], how='left')\n",
    "                \n",
    "                result_df.append((pop, num_ind, resample, ct, 'Matrix eQTL', merged[merged['p-value']<0.05].shape[0]/mem.shape[0]))\n",
    "                result_df.append((pop, num_ind, resample, ct, 'memento', mem.query('de_pval < 0.05').shape[0]/mem.shape[0]))\n",
    "result_df = pd.DataFrame(result_df, columns=['pop', 'num_ind', 'resample', 'ct', 'method', 'power'])"
   ]
  },
  {
   "cell_type": "code",
   "execution_count": 191,
   "id": "b5e0d8aa",
   "metadata": {},
   "outputs": [
    {
     "data": {
      "image/png": "[encoded data removed]",
      "text/plain": [
       "<Figure size 432x144 with 4 Axes>"
      ]
     },
     "metadata": {
      "needs_background": "light"
     },
     "output_type": "display_data"
    }
   ],
   "source": [
    "plt.figure(figsize=(6,2));\n",
    "plt.subplots_adjust(wspace=0.45)\n",
    "for idx, ct in enumerate(['T4', 'B', 'cM', 'NK']):\n",
    "    plt.subplot(1, 4, idx+1);\n",
    "#     sns.stripplot(x='num_ind', y='power', hue='method', data=result_df.query('ct == \"B\"'), dodge=True, palette='Set2', linewidth=1)\n",
    "    sns.boxplot(x='num_ind', y='power', hue='method', data=result_df.query('ct == \"{}\"'.format(ct)), palette='Set2', linewidth=1, fliersize=0)\n",
    "#     plt.ylim(0.1, 0.75)\n",
    "    if idx > 0:\n",
    "#         plt.yticks([])\n",
    "        plt.ylabel(None)\n",
    "    else:\n",
    "        plt.ylabel(r'Power at $\\alpha$ = 0.05')\n",
    "    if idx == 2:\n",
    "        plt.legend(ncol=2, loc='upper center', bbox_to_anchor=(0,1.4), frameon=False)\n",
    "    else:\n",
    "        plt.legend([],[], frameon=False)\n",
    "    plt.title(ct)\n",
    "    plt.xticks(fontsize=8)\n",
    "    if idx == 1:\n",
    "        plt.xlabel('                            Number of individuals')\n",
    "    else:\n",
    "        plt.xlabel(None)\n",
    "plt.savefig('sampled_power.pdf', bbox_inches='tight')"
   ]
  }
 ],
 "metadata": {
  "kernelspec": {
   "display_name": "Python 3 (ipykernel)",
   "language": "python",
   "name": "python3"
  },
  "language_info": {
   "codemirror_mode": {
    "name": "ipython",
    "version": 3
   },
   "file_extension": ".py",
   "mimetype": "text/x-python",
   "name": "python",
   "nbconvert_exporter": "python",
   "pygments_lexer": "ipython3",
   "version": "3.8.8"
  }
 },
 "nbformat": 4,
 "nbformat_minor": 5
}
