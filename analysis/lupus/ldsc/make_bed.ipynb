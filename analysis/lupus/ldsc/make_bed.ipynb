{
 "cells": [
  {
   "cell_type": "code",
   "execution_count": 3,
   "id": "6d01669b",
   "metadata": {},
   "outputs": [],
   "source": [
    "import pandas as pd"
   ]
  },
  {
   "cell_type": "code",
   "execution_count": 4,
   "id": "4d24d9aa",
   "metadata": {},
   "outputs": [],
   "source": [
    "data_path = '/data_volume/memento/lupus/ldsc/'"
   ]
  },
  {
   "cell_type": "code",
   "execution_count": 5,
   "id": "b244fa55",
   "metadata": {},
   "outputs": [],
   "source": [
    "cts =['T8', 'T4', 'NK', 'ncM', 'cM', 'B']\n"
   ]
  },
  {
   "cell_type": "markdown",
   "id": "33e735a6",
   "metadata": {},
   "source": [
    "### Read the gene loc file"
   ]
  },
  {
   "cell_type": "code",
   "execution_count": 6,
   "id": "2ade2f90",
   "metadata": {},
   "outputs": [],
   "source": [
    "gene_loc = pd.read_table(data_path + 'resources/gene_locs.txt')"
   ]
  },
  {
   "cell_type": "code",
   "execution_count": 7,
   "id": "e2a3145a",
   "metadata": {},
   "outputs": [],
   "source": [
    "# Add 100k window\n",
    "gene_loc['start'] = (gene_loc['start'] - 100000).clip(lower=0)\n",
    "gene_loc['end'] = gene_loc['end'] + 100000"
   ]
  },
  {
   "cell_type": "markdown",
   "id": "eb157125",
   "metadata": {},
   "source": [
    "### Get egenes and make bedfiles for memento"
   ]
  },
  {
   "cell_type": "code",
   "execution_count": 20,
   "id": "24136e6e",
   "metadata": {},
   "outputs": [
    {
     "name": "stdout",
     "output_type": "stream",
     "text": [
      "asian T4\n",
      "asian cM\n",
      "asian ncM\n",
      "asian T8\n",
      "asian B\n",
      "asian NK\n",
      "eur T4\n",
      "eur cM\n",
      "eur ncM\n",
      "eur T8\n",
      "eur B\n",
      "eur NK\n"
     ]
    }
   ],
   "source": [
    "for pop in ['asian', 'eur']:\n",
    "    for ct in cts:\n",
    "        print(pop, ct)\n",
    "        result = pd.read_csv('/data_volume/memento/lupus/full_analysis/memento/100kb/{}_{}.csv'.format(pop, ct))\n",
    "        result.query('FDR < 0.05')[['gene']].drop_duplicates().to_csv(data_path + 'egenes/memento/{}_{}.txt'.format(pop, ct),index=False, header=False, sep='\\t')        "
   ]
  },
  {
   "cell_type": "code",
   "execution_count": 24,
   "id": "039f65c6",
   "metadata": {},
   "outputs": [],
   "source": [
    "for pop in ['eur', 'asian']:\n",
    "    for ct in cts:\n",
    "        egenes = pd.read_table(data_path + 'egenes/memento/{}_{}.txt'.format(pop, ct), header=None).iloc[:, 0].tolist()\n",
    "        gene_loc.query('name in @egenes')[['chr', 'start', 'end', 'name']].to_csv(data_path + 'bedfiles/memento/{}_{}.bed'.format(pop, ct), index=False, header=False, sep='\\t')"
   ]
  },
  {
   "cell_type": "markdown",
   "id": "9602f1cc",
   "metadata": {},
   "source": [
    "### Get egenes and make bedfiles for matrix eqtl"
   ]
  },
  {
   "cell_type": "code",
   "execution_count": 11,
   "id": "3e0d9673",
   "metadata": {},
   "outputs": [
    {
     "name": "stdout",
     "output_type": "stream",
     "text": [
      "asian T8\n",
      "asian T4\n",
      "asian NK\n",
      "asian ncM\n",
      "asian cM\n",
      "asian B\n",
      "eur T8\n",
      "eur T4\n",
      "eur NK\n",
      "eur ncM\n",
      "eur cM\n",
      "eur B\n"
     ]
    }
   ],
   "source": [
    "for pop in ['asian', 'eur']:\n",
    "    for ct in cts:\n",
    "        print(pop, ct)\n",
    "        result = pd.read_table('/data_volume/memento/lupus/full_analysis/mateqtl/outputs/{}_{}_all_hg19.csv'.format(pop, ct))\n",
    "        result.query('FDR < 0.05')[['gene']].drop_duplicates().to_csv(data_path + 'egenes/mateqtl/{}_{}.txt'.format(pop, ct),index=False, header=False, sep='\\t')        "
   ]
  },
  {
   "cell_type": "code",
   "execution_count": 15,
   "id": "088c054c",
   "metadata": {},
   "outputs": [],
   "source": [
    "cts =['T8', 'T4', 'NK', 'ncM', 'cM', 'B']\n",
    "for pop in ['eur', 'asian']:\n",
    "    for ct in cts:\n",
    "        egenes = pd.read_table(data_path + 'egenes/mateqtl/{}_{}.txt'.format(pop, ct), header=None).iloc[:, 0].tolist()\n",
    "        gene_loc.query('name in @egenes')[['chr', 'start', 'end', 'name']].to_csv(data_path + 'bedfiles/mateqtl/{}_{}.bed'.format(pop, ct), index=False, header=False, sep='\\t')"
   ]
  },
  {
   "cell_type": "markdown",
   "id": "89eb870b",
   "metadata": {},
   "source": [
    "### Get \"egenes\" and make bedfile for all expressed genes"
   ]
  },
  {
   "cell_type": "code",
   "execution_count": 16,
   "id": "80dc305e",
   "metadata": {},
   "outputs": [],
   "source": [
    "all_genes = set()\n",
    "for pop in ['asian', 'eur']:\n",
    "    for ct in cts:\n",
    "        result = pd.read_csv('/data_volume/memento/lupus/full_analysis/memento/100kb/{}_{}.csv'.format(pop, ct))\n",
    "        all_genes |= set(result['gene'])\n",
    "gene_loc.query('name in @all_genes')[['chr', 'start', 'end', 'name']].to_csv(data_path + 'bedfiles/pbmc.bed'.format(pop, ct), index=False, header=False, sep='\\t')"
   ]
  }
 ],
 "metadata": {
  "kernelspec": {
   "display_name": "Python 3 (ipykernel)",
   "language": "python",
   "name": "python3"
  },
  "language_info": {
   "codemirror_mode": {
    "name": "ipython",
    "version": 3
   },
   "file_extension": ".py",
   "mimetype": "text/x-python",
   "name": "python",
   "nbconvert_exporter": "python",
   "pygments_lexer": "ipython3",
   "version": "3.8.8"
  }
 },
 "nbformat": 4,
 "nbformat_minor": 5
}
