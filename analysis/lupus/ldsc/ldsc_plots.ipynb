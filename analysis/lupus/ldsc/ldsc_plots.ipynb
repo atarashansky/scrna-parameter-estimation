{
 "cells": [
  {
   "cell_type": "markdown",
   "id": "e270bb2e",
   "metadata": {},
   "source": [
    "# Plots for LDSC analysis"
   ]
  },
  {
   "cell_type": "code",
   "execution_count": 87,
   "id": "670a998d",
   "metadata": {},
   "outputs": [],
   "source": [
    "import pandas as pd\n",
    "import numpy as np\n",
    "import seaborn as sns\n",
    "import matplotlib.pyplot as plt\n",
    "import scipy.stats as stats"
   ]
  },
  {
   "cell_type": "code",
   "execution_count": 38,
   "id": "54302ec0",
   "metadata": {},
   "outputs": [],
   "source": [
    "data_path = '/data_volume/memento/lupus/ldsc/'"
   ]
  },
  {
   "cell_type": "code",
   "execution_count": 39,
   "id": "456b72a1",
   "metadata": {},
   "outputs": [],
   "source": [
    "traits = \"     PASS_Crohns_Disease PASS_Rheumatoid_Arthritis PASS_Ulcerative_Colitis UKB_460K.disease_ALLERGY_ECZEMA_DIAGNOSED bentham.lupus\".split()"
   ]
  },
  {
   "cell_type": "code",
   "execution_count": 48,
   "id": "16e6fc93",
   "metadata": {},
   "outputs": [],
   "source": [
    "trait_names = {\n",
    "    'PASS_Crohns_Disease': 'CD',\n",
    "    'PASS_Rheumatoid_Arthritis':'RA',\n",
    "    'PASS_Ulcerative_Colitis':'UC',\n",
    "    'UKB_460K.disease_ALLERGY_ECZEMA_DIAGNOSED':'Eczema',\n",
    "    'bentham.lupus':'Lupus'\n",
    "}"
   ]
  },
  {
   "cell_type": "markdown",
   "id": "bbe5d321",
   "metadata": {},
   "source": [
    "### Read results"
   ]
  },
  {
   "cell_type": "code",
   "execution_count": 74,
   "id": "f2b02ed5",
   "metadata": {},
   "outputs": [],
   "source": [
    "results = []\n",
    "for method in ['mateqtl', 'memento']:\n",
    "    for pop in ['eur', 'asian', 'both']:\n",
    "        for t in traits:\n",
    "            df = pd.read_table(data_path + 'results/{}_{}_{}.cell_type_results.txt'.format(method, pop, t))\n",
    "            df['pop'] = pop\n",
    "            df['method'] = method\n",
    "            df['trait'] = t\n",
    "            results.append(df)\n",
    "results = pd.concat(results)\n",
    "results['log10p'] = -np.log10(results['Coefficient_P_value'])\n",
    "results['trait_name'] = results['trait'].apply(lambda x: trait_names[x])"
   ]
  },
  {
   "cell_type": "code",
   "execution_count": 91,
   "id": "9510e2ae",
   "metadata": {},
   "outputs": [],
   "source": [
    "combined_results = results.groupby(['Name', 'method', 'trait_name'])['Coefficient_P_value'].apply(lambda x: stats.combine_pvalues(x)[1]).reset_index()"
   ]
  },
  {
   "cell_type": "code",
   "execution_count": 93,
   "id": "ac607ee6",
   "metadata": {},
   "outputs": [],
   "source": [
    "combined_results['log10p'] = -np.log10(combined_results['Coefficient_P_value'])"
   ]
  },
  {
   "cell_type": "code",
   "execution_count": 99,
   "id": "0d47d913",
   "metadata": {},
   "outputs": [
    {
     "data": {
      "image/png": "[encoded data removed]",
      "text/plain": [
       "<Figure size 576x216 with 2 Axes>"
      ]
     },
     "metadata": {
      "needs_background": "light"
     },
     "output_type": "display_data"
    }
   ],
   "source": [
    "plt.figure(figsize=(8,3))\n",
    "plt.subplot(1, 2, 1)\n",
    "sns.barplot(x='trait_name', y='log10p', hue='Name', data=combined_results.query(' method == \"memento\"'.format('asian')))\n",
    "plt.plot([-0.5, 4.5], [-np.log10(0.05), -np.log10(0.05)], '--', color='k')\n",
    "ylims = plt.ylim()\n",
    "plt.legend([], frameon=False)\n",
    "plt.title('memento')\n",
    "plt.xlabel(None)\n",
    "plt.subplot(1, 2, 2)\n",
    "\n",
    "sns.barplot(x='trait_name', y='log10p', hue='Name', data=combined_results.query(' method == \"mateqtl\"'.format('asian')))\n",
    "plt.ylim(ylims)\n",
    "plt.plot([-0.5, 4.5], [-np.log10(0.05), -np.log10(0.05)], '--', color='k')\n",
    "plt.legend(loc='upper right', ncol=2, frameon=False)\n",
    "plt.title('pseudobulk')\n",
    "plt.xlabel(None)\n",
    "\n",
    "plt.savefig('disese_enrichment.pdf', bbox_inches='tight')"
   ]
  },
  {
   "cell_type": "code",
   "execution_count": 100,
   "id": "65a6473a",
   "metadata": {},
   "outputs": [
    {
     "data": {
      "text/plain": [
       "<matplotlib.legend.Legend at 0x7fe5051b8430>"
      ]
     },
     "execution_count": 100,
     "metadata": {},
     "output_type": "execute_result"
    },
    {
     "data": {
      "image/png": "[encoded data removed]",
      "text/plain": [
       "<Figure size 576x216 with 2 Axes>"
      ]
     },
     "metadata": {
      "needs_background": "light"
     },
     "output_type": "display_data"
    }
   ],
   "source": [
    "plt.figure(figsize=(8,3))\n",
    "plt.subplot(1, 2, 1)\n",
    "sns.barplot(x='trait_name', y='log10p', hue='Name', data=results.query('pop==\"{}\" & method == \"memento\"'.format('eur')))\n",
    "plt.plot([-0.5, 4.5], [-np.log10(0.05), -np.log10(0.05)], '--', color='k')\n",
    "ylims = plt.ylim()\n",
    "plt.legend([], frameon=False)\n",
    "\n",
    "plt.subplot(1, 2, 2)\n",
    "\n",
    "sns.barplot(x='trait_name', y='log10p', hue='Name', data=results.query('pop==\"{}\" & method == \"mateqtl\"'.format('eur')))\n",
    "plt.ylim(ylims)\n",
    "plt.plot([-0.5, 4.5], [-np.log10(0.05), -np.log10(0.05)], '--', color='k')\n",
    "plt.legend(loc='upper right', ncol=2, frameon=False)\n"
   ]
  },
  {
   "cell_type": "markdown",
   "id": "ead0c686",
   "metadata": {},
   "source": [
    "### Compare gene lists from Gracie's hits"
   ]
  },
  {
   "cell_type": "code",
   "execution_count": 30,
   "id": "3605f2ae",
   "metadata": {},
   "outputs": [],
   "source": [
    "ct = 'cM'\n",
    "m = pd.read_table(data_path + 'bedfiles/mateqtl/asian_{}.bed'.format(ct), header=None)\n",
    "g = pd.read_table('gracie_reference/van_fdr0.05/{}_expr.bed'.format(ct.lower()), header=None)"
   ]
  },
  {
   "cell_type": "code",
   "execution_count": 31,
   "id": "681b7003",
   "metadata": {},
   "outputs": [
    {
     "data": {
      "text/plain": [
       "(846, 4)"
      ]
     },
     "execution_count": 31,
     "metadata": {},
     "output_type": "execute_result"
    }
   ],
   "source": [
    "m.shape\n"
   ]
  },
  {
   "cell_type": "code",
   "execution_count": 32,
   "id": "14d45813",
   "metadata": {},
   "outputs": [
    {
     "data": {
      "text/plain": [
       "(1441, 4)"
      ]
     },
     "execution_count": 32,
     "metadata": {},
     "output_type": "execute_result"
    }
   ],
   "source": [
    "g.shape"
   ]
  },
  {
   "cell_type": "code",
   "execution_count": 33,
   "id": "643b3dde",
   "metadata": {},
   "outputs": [
    {
     "data": {
      "text/html": [
       "<div>\n",
       "<style scoped>\n",
       "    .dataframe tbody tr th:only-of-type {\n",
       "        vertical-align: middle;\n",
       "    }\n",
       "\n",
       "    .dataframe tbody tr th {\n",
       "        vertical-align: top;\n",
       "    }\n",
       "\n",
       "    .dataframe thead th {\n",
       "        text-align: right;\n",
       "    }\n",
       "</style>\n",
       "<table border=\"1\" class=\"dataframe\">\n",
       "  <thead>\n",
       "    <tr style=\"text-align: right;\">\n",
       "      <th></th>\n",
       "      <th>0</th>\n",
       "      <th>1</th>\n",
       "      <th>2</th>\n",
       "      <th>3</th>\n",
       "    </tr>\n",
       "  </thead>\n",
       "  <tbody>\n",
       "    <tr>\n",
       "      <th>0</th>\n",
       "      <td>chr1</td>\n",
       "      <td>834342</td>\n",
       "      <td>1034812</td>\n",
       "      <td>HES4</td>\n",
       "    </tr>\n",
       "    <tr>\n",
       "      <th>1</th>\n",
       "      <td>chr1</td>\n",
       "      <td>3589352</td>\n",
       "      <td>3789405</td>\n",
       "      <td>SMIM1</td>\n",
       "    </tr>\n",
       "    <tr>\n",
       "      <th>2</th>\n",
       "      <td>chr1</td>\n",
       "      <td>7731329</td>\n",
       "      <td>7931445</td>\n",
       "      <td>VAMP3</td>\n",
       "    </tr>\n",
       "    <tr>\n",
       "      <th>3</th>\n",
       "      <td>chr1</td>\n",
       "      <td>7803143</td>\n",
       "      <td>8004010</td>\n",
       "      <td>UTS2</td>\n",
       "    </tr>\n",
       "    <tr>\n",
       "      <th>4</th>\n",
       "      <td>chr1</td>\n",
       "      <td>8312464</td>\n",
       "      <td>8515180</td>\n",
       "      <td>RERE</td>\n",
       "    </tr>\n",
       "    <tr>\n",
       "      <th>...</th>\n",
       "      <td>...</td>\n",
       "      <td>...</td>\n",
       "      <td>...</td>\n",
       "      <td>...</td>\n",
       "    </tr>\n",
       "    <tr>\n",
       "      <th>841</th>\n",
       "      <td>chr21</td>\n",
       "      <td>46205868</td>\n",
       "      <td>46406345</td>\n",
       "      <td>ITGB2</td>\n",
       "    </tr>\n",
       "    <tr>\n",
       "      <th>842</th>\n",
       "      <td>chr21</td>\n",
       "      <td>46240950</td>\n",
       "      <td>46441242</td>\n",
       "      <td>ITGB2-AS1</td>\n",
       "    </tr>\n",
       "    <tr>\n",
       "      <th>843</th>\n",
       "      <td>chr21</td>\n",
       "      <td>46259955</td>\n",
       "      <td>46460101</td>\n",
       "      <td>FAM207A</td>\n",
       "    </tr>\n",
       "    <tr>\n",
       "      <th>844</th>\n",
       "      <td>chr21</td>\n",
       "      <td>47606267</td>\n",
       "      <td>47806329</td>\n",
       "      <td>YBEY</td>\n",
       "    </tr>\n",
       "    <tr>\n",
       "      <th>845</th>\n",
       "      <td>chr21</td>\n",
       "      <td>47955507</td>\n",
       "      <td>48155675</td>\n",
       "      <td>PRMT2</td>\n",
       "    </tr>\n",
       "  </tbody>\n",
       "</table>\n",
       "<p>846 rows × 4 columns</p>\n",
       "</div>"
      ],
      "text/plain": [
       "         0         1         2          3\n",
       "0     chr1    834342   1034812       HES4\n",
       "1     chr1   3589352   3789405      SMIM1\n",
       "2     chr1   7731329   7931445      VAMP3\n",
       "3     chr1   7803143   8004010       UTS2\n",
       "4     chr1   8312464   8515180       RERE\n",
       "..     ...       ...       ...        ...\n",
       "841  chr21  46205868  46406345      ITGB2\n",
       "842  chr21  46240950  46441242  ITGB2-AS1\n",
       "843  chr21  46259955  46460101    FAM207A\n",
       "844  chr21  47606267  47806329       YBEY\n",
       "845  chr21  47955507  48155675      PRMT2\n",
       "\n",
       "[846 rows x 4 columns]"
      ]
     },
     "execution_count": 33,
     "metadata": {},
     "output_type": "execute_result"
    }
   ],
   "source": [
    "m"
   ]
  },
  {
   "cell_type": "code",
   "execution_count": 34,
   "id": "bf7f6876",
   "metadata": {},
   "outputs": [],
   "source": [
    "m_genes = set(m[3].tolist())"
   ]
  },
  {
   "cell_type": "code",
   "execution_count": 35,
   "id": "80d46832",
   "metadata": {},
   "outputs": [],
   "source": [
    "g_genes = set(g[3].tolist())"
   ]
  },
  {
   "cell_type": "code",
   "execution_count": 36,
   "id": "0aedcccc",
   "metadata": {},
   "outputs": [
    {
     "data": {
      "text/plain": [
       "524"
      ]
     },
     "execution_count": 36,
     "metadata": {},
     "output_type": "execute_result"
    }
   ],
   "source": [
    "len(m_genes & g_genes)"
   ]
  },
  {
   "cell_type": "code",
   "execution_count": 29,
   "id": "297ab802",
   "metadata": {},
   "outputs": [
    {
     "data": {
      "text/html": [
       "<div>\n",
       "<style scoped>\n",
       "    .dataframe tbody tr th:only-of-type {\n",
       "        vertical-align: middle;\n",
       "    }\n",
       "\n",
       "    .dataframe tbody tr th {\n",
       "        vertical-align: top;\n",
       "    }\n",
       "\n",
       "    .dataframe thead th {\n",
       "        text-align: right;\n",
       "    }\n",
       "</style>\n",
       "<table border=\"1\" class=\"dataframe\">\n",
       "  <thead>\n",
       "    <tr style=\"text-align: right;\">\n",
       "      <th></th>\n",
       "      <th>0_x</th>\n",
       "      <th>1_x</th>\n",
       "      <th>2_x</th>\n",
       "      <th>3</th>\n",
       "      <th>0_y</th>\n",
       "      <th>1_y</th>\n",
       "      <th>2_y</th>\n",
       "    </tr>\n",
       "  </thead>\n",
       "  <tbody>\n",
       "    <tr>\n",
       "      <th>0</th>\n",
       "      <td>chr1</td>\n",
       "      <td>834342</td>\n",
       "      <td>1034812</td>\n",
       "      <td>HES4</td>\n",
       "      <td>chr1</td>\n",
       "      <td>834342</td>\n",
       "      <td>1034812</td>\n",
       "    </tr>\n",
       "    <tr>\n",
       "      <th>1</th>\n",
       "      <td>chr1</td>\n",
       "      <td>3589352</td>\n",
       "      <td>3789405</td>\n",
       "      <td>SMIM1</td>\n",
       "      <td>chr1</td>\n",
       "      <td>3589352</td>\n",
       "      <td>3789405</td>\n",
       "    </tr>\n",
       "    <tr>\n",
       "      <th>2</th>\n",
       "      <td>chr1</td>\n",
       "      <td>5986073</td>\n",
       "      <td>6186505</td>\n",
       "      <td>KCNAB2</td>\n",
       "      <td>chr1</td>\n",
       "      <td>5986073</td>\n",
       "      <td>6186505</td>\n",
       "    </tr>\n",
       "    <tr>\n",
       "      <th>3</th>\n",
       "      <td>chr1</td>\n",
       "      <td>7803143</td>\n",
       "      <td>8004010</td>\n",
       "      <td>UTS2</td>\n",
       "      <td>chr1</td>\n",
       "      <td>7803143</td>\n",
       "      <td>8004010</td>\n",
       "    </tr>\n",
       "    <tr>\n",
       "      <th>4</th>\n",
       "      <td>chr1</td>\n",
       "      <td>7921714</td>\n",
       "      <td>8121795</td>\n",
       "      <td>PARK7</td>\n",
       "      <td>chr1</td>\n",
       "      <td>7921714</td>\n",
       "      <td>8121795</td>\n",
       "    </tr>\n",
       "    <tr>\n",
       "      <th>...</th>\n",
       "      <td>...</td>\n",
       "      <td>...</td>\n",
       "      <td>...</td>\n",
       "      <td>...</td>\n",
       "      <td>...</td>\n",
       "      <td>...</td>\n",
       "      <td>...</td>\n",
       "    </tr>\n",
       "    <tr>\n",
       "      <th>850</th>\n",
       "      <td>chr21</td>\n",
       "      <td>46205868</td>\n",
       "      <td>46406345</td>\n",
       "      <td>ITGB2</td>\n",
       "      <td>chr21</td>\n",
       "      <td>46205868</td>\n",
       "      <td>46406345</td>\n",
       "    </tr>\n",
       "    <tr>\n",
       "      <th>851</th>\n",
       "      <td>chr21</td>\n",
       "      <td>46240950</td>\n",
       "      <td>46441242</td>\n",
       "      <td>ITGB2-AS1</td>\n",
       "      <td>chr21</td>\n",
       "      <td>46240950</td>\n",
       "      <td>46441242</td>\n",
       "    </tr>\n",
       "    <tr>\n",
       "      <th>852</th>\n",
       "      <td>chr21</td>\n",
       "      <td>46240950</td>\n",
       "      <td>46441242</td>\n",
       "      <td>ITGB2-AS1</td>\n",
       "      <td>chr21</td>\n",
       "      <td>46240950</td>\n",
       "      <td>46441242</td>\n",
       "    </tr>\n",
       "    <tr>\n",
       "      <th>853</th>\n",
       "      <td>chr21</td>\n",
       "      <td>46259955</td>\n",
       "      <td>46460101</td>\n",
       "      <td>FAM207A</td>\n",
       "      <td>chr21</td>\n",
       "      <td>46259955</td>\n",
       "      <td>46460101</td>\n",
       "    </tr>\n",
       "    <tr>\n",
       "      <th>854</th>\n",
       "      <td>chr21</td>\n",
       "      <td>47606267</td>\n",
       "      <td>47806329</td>\n",
       "      <td>YBEY</td>\n",
       "      <td>chr21</td>\n",
       "      <td>47606267</td>\n",
       "      <td>47806329</td>\n",
       "    </tr>\n",
       "  </tbody>\n",
       "</table>\n",
       "<p>855 rows × 7 columns</p>\n",
       "</div>"
      ],
      "text/plain": [
       "       0_x       1_x       2_x          3    0_y       1_y       2_y\n",
       "0     chr1    834342   1034812       HES4   chr1    834342   1034812\n",
       "1     chr1   3589352   3789405      SMIM1   chr1   3589352   3789405\n",
       "2     chr1   5986073   6186505     KCNAB2   chr1   5986073   6186505\n",
       "3     chr1   7803143   8004010       UTS2   chr1   7803143   8004010\n",
       "4     chr1   7921714   8121795      PARK7   chr1   7921714   8121795\n",
       "..     ...       ...       ...        ...    ...       ...       ...\n",
       "850  chr21  46205868  46406345      ITGB2  chr21  46205868  46406345\n",
       "851  chr21  46240950  46441242  ITGB2-AS1  chr21  46240950  46441242\n",
       "852  chr21  46240950  46441242  ITGB2-AS1  chr21  46240950  46441242\n",
       "853  chr21  46259955  46460101    FAM207A  chr21  46259955  46460101\n",
       "854  chr21  47606267  47806329       YBEY  chr21  47606267  47806329\n",
       "\n",
       "[855 rows x 7 columns]"
      ]
     },
     "execution_count": 29,
     "metadata": {},
     "output_type": "execute_result"
    }
   ],
   "source": [
    "m.merge(g, on=3)"
   ]
  },
  {
   "cell_type": "code",
   "execution_count": null,
   "id": "da6cb2cf",
   "metadata": {},
   "outputs": [],
   "source": []
  }
 ],
 "metadata": {
  "kernelspec": {
   "display_name": "Python 3 (ipykernel)",
   "language": "python",
   "name": "python3"
  },
  "language_info": {
   "codemirror_mode": {
    "name": "ipython",
    "version": 3
   },
   "file_extension": ".py",
   "mimetype": "text/x-python",
   "name": "python",
   "nbconvert_exporter": "python",
   "pygments_lexer": "ipython3",
   "version": "3.8.8"
  }
 },
 "nbformat": 4,
 "nbformat_minor": 5
}
