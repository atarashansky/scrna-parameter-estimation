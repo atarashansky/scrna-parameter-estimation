{
 "cells": [
  {
   "cell_type": "markdown",
   "id": "887de94b",
   "metadata": {},
   "source": [
    "# Run eQTL analysis for lupus data"
   ]
  },
  {
   "cell_type": "code",
   "execution_count": 1,
   "id": "c3a8e70c",
   "metadata": {},
   "outputs": [],
   "source": [
    "import scanpy as sc\n",
    "import seaborn as sns\n",
    "import pandas as pd\n",
    "import matplotlib.pyplot as plt\n",
    "import numpy as np\n",
    "import scipy.stats as stats\n",
    "import itertools\n",
    "from pybedtools import BedTool\n",
    "import statsmodels.formula.api as smf\n",
    "import statsmodels.api as sm\n",
    "\n",
    "import os\n",
    "import pickle as pkl\n",
    "%matplotlib inline"
   ]
  },
  {
   "cell_type": "code",
   "execution_count": 2,
   "id": "418f5cfa",
   "metadata": {},
   "outputs": [],
   "source": [
    "import sys\n",
    "sys.path.append('/home/ssm-user/Github/scrna-parameter-estimation/dist/memento-0.0.8-py3.8.egg')\n",
    "sys.path.append('/home/ssm-user/Github/misc-seq/miscseq/')\n",
    "import encode\n",
    "import memento"
   ]
  },
  {
   "cell_type": "code",
   "execution_count": 3,
   "id": "d20d35d5",
   "metadata": {},
   "outputs": [],
   "source": [
    "data_path  = '/data_volume/memento/lupus/'"
   ]
  },
  {
   "cell_type": "markdown",
   "id": "1dcbfc5f",
   "metadata": {},
   "source": [
    "### Read SNP positions"
   ]
  },
  {
   "cell_type": "raw",
   "id": "92e282da",
   "metadata": {},
   "source": [
    "pos = pd.read_csv(data_path + 'mateqtl_input/cm_cg.genos', sep='\\t', index_col=0)"
   ]
  },
  {
   "cell_type": "raw",
   "id": "01ff7cba",
   "metadata": {},
   "source": [
    "pos = pos[~pos.index.duplicated(keep='first')]"
   ]
  },
  {
   "cell_type": "raw",
   "id": "b0cdc29f",
   "metadata": {},
   "source": [
    "# Filter for lupus patients\n",
    "pos = pos[[c for c in pos.columns if 'HC' not in c]]"
   ]
  },
  {
   "cell_type": "markdown",
   "id": "04ec8745",
   "metadata": {},
   "source": [
    "### Read mat eQTL output"
   ]
  },
  {
   "cell_type": "code",
   "execution_count": 4,
   "id": "13ee55cc",
   "metadata": {},
   "outputs": [],
   "source": [
    "cbc_eqtls = pd.read_csv(data_path + 'Table6.txt', sep='\\t', skiprows=1).query('cell == \"cm\"').drop('STD_FE', axis=1)\n",
    "cbc_eqtls.columns = ['ct', 'rsid_gene', 'pvalue', 'beta']"
   ]
  },
  {
   "cell_type": "code",
   "execution_count": 5,
   "id": "c031074c",
   "metadata": {},
   "outputs": [],
   "source": [
    "cbc_eqtls['gene'] = cbc_eqtls['rsid_gene'].str.split('_').str[1]\n",
    "cbc_eqtls['rsid'] = cbc_eqtls['rsid_gene'].str.split('_').str[0]"
   ]
  },
  {
   "cell_type": "code",
   "execution_count": 6,
   "id": "53ddc59e",
   "metadata": {},
   "outputs": [],
   "source": [
    "# cbc_eqtls = cbc_eqtls[cbc_eqtls['rsid'].isin(pos.index)]"
   ]
  },
  {
   "cell_type": "code",
   "execution_count": 7,
   "id": "59bfbc28",
   "metadata": {},
   "outputs": [],
   "source": [
    "cbc_eqtls = cbc_eqtls.sample(10000)"
   ]
  },
  {
   "cell_type": "markdown",
   "id": "4afd68d7",
   "metadata": {},
   "source": [
    "### Read the lupus data and filter for genotyped donors and cell type"
   ]
  },
  {
   "cell_type": "code",
   "execution_count": 8,
   "id": "d37f4090",
   "metadata": {},
   "outputs": [],
   "source": [
    "# adata = sc.read(data_path + 'Lupus_study_adjusted.h5ad')\n",
    "# adata_counts = sc.AnnData(X=adata.raw.X, var=adata.raw.var, obs=adata.obs)\n",
    "# adata_counts.write(data_path + 'Lupus_study_adjusted_counts.h5ad')"
   ]
  },
  {
   "cell_type": "raw",
   "id": "f4f856ac",
   "metadata": {},
   "source": [
    "adata = sc.read(data_path + 'Lupus_study_adjusted_counts.h5ad')\n",
    "adata = adata[adata.obs.ind_cov.isin(pos.columns)].copy()"
   ]
  },
  {
   "cell_type": "raw",
   "id": "26336754",
   "metadata": {},
   "source": [
    "adata = adata[adata.obs['cg_cov'] == 'cM'].copy()"
   ]
  },
  {
   "cell_type": "raw",
   "id": "d600883c",
   "metadata": {},
   "source": [
    "filtered_inds = adata.obs['ind_cov'].value_counts()[adata.obs['ind_cov'].value_counts() > 1000].index"
   ]
  },
  {
   "cell_type": "raw",
   "id": "39042645",
   "metadata": {},
   "source": [
    "adata = adata[adata.obs['ind_cov'].isin(filtered_inds)].copy()"
   ]
  },
  {
   "cell_type": "raw",
   "id": "19ecdf86",
   "metadata": {},
   "source": [
    "adata.write(data_path + 'Lupus_study_adjusted_counts_cM_filtered.h5ad')"
   ]
  },
  {
   "cell_type": "markdown",
   "id": "ce6f8be5",
   "metadata": {},
   "source": [
    "### Compare donor resampling vs not"
   ]
  },
  {
   "cell_type": "code",
   "execution_count": 37,
   "id": "02bb8190",
   "metadata": {},
   "outputs": [],
   "source": [
    "adata = sc.read(data_path + 'Lupus_study_adjusted_counts_cM_filtered.h5ad')\n",
    "# adata = adata[adata.obs.ind_cov.isin(pos.columns)].copy()\n",
    "# adata.obs['ind_cov'] = np.random.choice(['d'+str(i) for i in range(30)], size=adata.shape[0])"
   ]
  },
  {
   "cell_type": "code",
   "execution_count": 38,
   "id": "f690074f",
   "metadata": {},
   "outputs": [],
   "source": [
    "donors = adata.obs[['ind_cov']].drop_duplicates()\n",
    "donors.index = np.arange(donors.shape[0])\n",
    "for i in range(10):\n",
    "    donors['tx_'+str(i)] = np.random.choice([-1, 1], donors.shape[0])"
   ]
  },
  {
   "cell_type": "code",
   "execution_count": 39,
   "id": "d7dc9a48",
   "metadata": {},
   "outputs": [],
   "source": [
    "adata.obs['capture_rate'] = 0.1\n",
    "# adata.obs['tx'] = np.random.choice([-1, 1], size=adata.shape[0])\n",
    "# adata.obs = adata.obs.merge(donors, on='ind_cov', how='left')\n",
    "memento.setup_memento(adata, q_column='capture_rate', trim_percent=0.1, filter_mean_thresh=0.07)"
   ]
  },
  {
   "cell_type": "code",
   "execution_count": 40,
   "id": "73a99ed1",
   "metadata": {},
   "outputs": [],
   "source": [
    "# adata.obs['tx'] = np.random.randint(2, size=adata.shape[0])"
   ]
  },
  {
   "cell_type": "code",
   "execution_count": 41,
   "id": "16c04b98",
   "metadata": {},
   "outputs": [],
   "source": [
    "# Grouped by individual\n",
    "adata1 = adata.copy().copy()\n",
    "memento.create_groups(adata1, label_columns=['ind_cov'])\n",
    "memento.compute_1d_moments(adata1, min_perc_group=.8)\n",
    "treatment_df= pd.DataFrame(index=adata1.uns['memento']['groups'])\n",
    "\n",
    "# treatment_df['tx'] = treatment_df.index.str.split('^').str[1].astype(int)\n",
    "\n",
    "treatment_df['ind_cov'] = treatment_df.index.str.split('^').str[1]\n",
    "treatment_df = treatment_df.merge(donors, on='ind_cov').drop('ind_cov', axis=1)"
   ]
  },
  {
   "cell_type": "code",
   "execution_count": 48,
   "id": "a8ef3754",
   "metadata": {},
   "outputs": [
    {
     "name": "stderr",
     "output_type": "stream",
     "text": [
      "[Parallel(n_jobs=93)]: Using backend LokyBackend with 93 concurrent workers.\n",
      "[Parallel(n_jobs=93)]: Done  14 tasks      | elapsed:    6.5s\n",
      "[Parallel(n_jobs=93)]: Done 264 tasks      | elapsed:   10.2s\n",
      "[Parallel(n_jobs=93)]: Done 614 tasks      | elapsed:   15.9s\n",
      "[Parallel(n_jobs=93)]: Done 1064 tasks      | elapsed:   23.4s\n",
      "[Parallel(n_jobs=93)]: Done 1614 tasks      | elapsed:   32.5s\n",
      "[Parallel(n_jobs=93)]: Done 1995 out of 1995 | elapsed:   40.2s finished\n"
     ]
    }
   ],
   "source": [
    "memento.ht_1d_moments(\n",
    "    adata1, \n",
    "    covariate=pd.DataFrame(np.ones(treatment_df.shape[0]).reshape(-1, 1)),\n",
    "    treatment=treatment_df,\n",
    "#     treatment_for_gene=gene_to_snp,\n",
    "    num_boot=1000, \n",
    "    verbose=1,\n",
    "    num_cpus=93,\n",
    "    resampling='bootstrap',\n",
    "    approx=True,\n",
    "    resample_rep=True)\n",
    "memento_result1 = memento.get_1d_ht_result(adata1)"
   ]
  },
  {
   "cell_type": "code",
   "execution_count": 49,
   "id": "3eedfe7d",
   "metadata": {},
   "outputs": [
    {
     "data": {
      "text/plain": [
       "(array([2007., 2339., 2037., 1958., 1848., 1844., 1898., 1992., 2020.,\n",
       "        2007.]),\n",
       " array([1.28853995e-05, 1.00001194e-01, 1.99989502e-01, 2.99977810e-01,\n",
       "        3.99966119e-01, 4.99954427e-01, 5.99942735e-01, 6.99931043e-01,\n",
       "        7.99919352e-01, 8.99907660e-01, 9.99895968e-01]),\n",
       " <BarContainer object of 10 artists>)"
      ]
     },
     "execution_count": 49,
     "metadata": {},
     "output_type": "execute_result"
    },
    {
     "data": {
      "image/png": "[encoded data removed]",
      "text/plain": [
       "<Figure size 432x288 with 1 Axes>"
      ]
     },
     "metadata": {
      "needs_background": "light"
     },
     "output_type": "display_data"
    }
   ],
   "source": [
    "plt.hist(memento_result1.de_pval)"
   ]
  },
  {
   "cell_type": "markdown",
   "id": "b12a73cf",
   "metadata": {},
   "source": [
    "### Run memento for cbc eQTLs - debug whats going on"
   ]
  },
  {
   "cell_type": "code",
   "execution_count": 36,
   "id": "671da089",
   "metadata": {},
   "outputs": [
    {
     "ename": "NameError",
     "evalue": "name 'pos' is not defined",
     "output_type": "error",
     "traceback": [
      "\u001b[0;31m---------------------------------------------------------------------------\u001b[0m",
      "\u001b[0;31mNameError\u001b[0m                                 Traceback (most recent call last)",
      "\u001b[0;32m/tmp/ipykernel_9427/1012930374.py\u001b[0m in \u001b[0;36m<module>\u001b[0;34m\u001b[0m\n\u001b[1;32m      1\u001b[0m \u001b[0madata\u001b[0m \u001b[0;34m=\u001b[0m \u001b[0msc\u001b[0m\u001b[0;34m.\u001b[0m\u001b[0mread\u001b[0m\u001b[0;34m(\u001b[0m\u001b[0mdata_path\u001b[0m \u001b[0;34m+\u001b[0m \u001b[0;34m'Lupus_study_adjusted_counts_cM_filtered.h5ad'\u001b[0m\u001b[0;34m)\u001b[0m\u001b[0;34m\u001b[0m\u001b[0;34m\u001b[0m\u001b[0m\n\u001b[0;32m----> 2\u001b[0;31m \u001b[0madata\u001b[0m \u001b[0;34m=\u001b[0m \u001b[0madata\u001b[0m\u001b[0;34m[\u001b[0m\u001b[0madata\u001b[0m\u001b[0;34m.\u001b[0m\u001b[0mobs\u001b[0m\u001b[0;34m.\u001b[0m\u001b[0mind_cov\u001b[0m\u001b[0;34m.\u001b[0m\u001b[0misin\u001b[0m\u001b[0;34m(\u001b[0m\u001b[0mpos\u001b[0m\u001b[0;34m.\u001b[0m\u001b[0mcolumns\u001b[0m\u001b[0;34m)\u001b[0m\u001b[0;34m]\u001b[0m\u001b[0;34m.\u001b[0m\u001b[0mcopy\u001b[0m\u001b[0;34m(\u001b[0m\u001b[0;34m)\u001b[0m\u001b[0;34m\u001b[0m\u001b[0;34m\u001b[0m\u001b[0m\n\u001b[0m\u001b[1;32m      3\u001b[0m \u001b[0;31m# adata.obs['ind_cov'] = np.random.choice(['d'+str(i) for i in range(30)], size=adata.shape[0])\u001b[0m\u001b[0;34m\u001b[0m\u001b[0;34m\u001b[0m\u001b[0;34m\u001b[0m\u001b[0m\n",
      "\u001b[0;31mNameError\u001b[0m: name 'pos' is not defined"
     ]
    }
   ],
   "source": [
    "adata = sc.read(data_path + 'Lupus_study_adjusted_counts_cM_filtered.h5ad')\n",
    "adata = adata[adata.obs.ind_cov.isin(pos.columns)].copy()\n",
    "# adata.obs['ind_cov'] = np.random.choice(['d'+str(i) for i in range(30)], size=adata.shape[0])"
   ]
  },
  {
   "cell_type": "code",
   "execution_count": null,
   "id": "2d7b4e9f",
   "metadata": {},
   "outputs": [],
   "source": [
    "donors = adata.obs[['ind_cov']].drop_duplicates()\n",
    "donors.index = np.arange(donors.shape[0])\n",
    "# donors['tx'] = np.random.choice([-1, 1], donors.shape[0])"
   ]
  },
  {
   "cell_type": "code",
   "execution_count": null,
   "id": "6cbded3f",
   "metadata": {},
   "outputs": [],
   "source": [
    "adata.obs['capture_rate'] = 0.1\n",
    "# adata.obs['tx'] = np.random.choice([-1, 1], size=adata2.shape[0])\n",
    "adata.obs = adata.obs.merge(donors, on='ind_cov', how='left')\n",
    "memento.setup_memento(adata, q_column='capture_rate', trim_percent=0.1, filter_mean_thresh=0.01)"
   ]
  },
  {
   "cell_type": "code",
   "execution_count": null,
   "id": "0354014b",
   "metadata": {},
   "outputs": [],
   "source": [
    "# adata.obs['tx'] = np.random.randint(2, size=adata.shape[0])"
   ]
  },
  {
   "cell_type": "code",
   "execution_count": null,
   "id": "661c87c4",
   "metadata": {},
   "outputs": [],
   "source": [
    "# Grouped by individual\n",
    "adata1 = adata.copy().copy()\n",
    "memento.create_groups(adata1, label_columns=['ind_cov'])\n",
    "memento.compute_1d_moments(adata1, min_perc_group=.5, gene_list=cbc_eqtls.gene.drop_duplicates().tolist())\n",
    "treatment_df= pd.DataFrame(index=adata1.uns['memento']['groups'])\n",
    "treatment_df['tx'] = treatment_df.index.str.split('^').str[1].astype(float)\n",
    "memento.ht_1d_moments(\n",
    "    adata1, \n",
    "    covariate=pd.DataFrame(np.ones(treatment_df.shape[0]).reshape(-1, 1)),\n",
    "    treatment=treatment_df,\n",
    "#     treatment_for_gene=gene_to_snp,\n",
    "    num_boot=10000, \n",
    "    verbose=1,\n",
    "    num_cpus=94,\n",
    "    resampling='bootstrap',\n",
    "    approx=False,\n",
    "    resample_rep=True)\n",
    "memento_result1 = memento.get_1d_ht_result(adata1)\n"
   ]
  },
  {
   "cell_type": "code",
   "execution_count": null,
   "id": "d03adc42",
   "metadata": {},
   "outputs": [],
   "source": [
    "# Grouped by individual\n",
    "adata2 = adata.copy().copy()\n",
    "memento.create_groups(adata2, label_columns=['tx'])\n",
    "memento.compute_1d_moments(adata2, min_perc_group=.5, gene_list=cbc_eqtls.gene.drop_duplicates().tolist())\n",
    "treatment_df= pd.DataFrame(index=adata2.uns['memento']['groups'])\n",
    "treatment_df['tx'] = treatment_df.index.str.split('^').str[1].astype(float)\n",
    "memento.ht_1d_moments(\n",
    "    adata2, \n",
    "    covariate=pd.DataFrame(np.ones(2).reshape(-1, 1)),\n",
    "    treatment=treatment_df,\n",
    "#     treatment_for_gene=gene_to_snp,\n",
    "    num_boot=10000, \n",
    "    verbose=1,\n",
    "    num_cpus=94,\n",
    "    resampling='bootstrap',\n",
    "    approx=False)\n",
    "memento_result2 = memento.get_1d_ht_result(adata2)\n"
   ]
  },
  {
   "cell_type": "code",
   "execution_count": null,
   "id": "54a561f6",
   "metadata": {},
   "outputs": [],
   "source": [
    "memento_result2.head(2)"
   ]
  },
  {
   "cell_type": "code",
   "execution_count": null,
   "id": "1b989f38",
   "metadata": {},
   "outputs": [],
   "source": [
    "memento_result1.head(2)"
   ]
  },
  {
   "cell_type": "code",
   "execution_count": null,
   "id": "b0e9dd47",
   "metadata": {},
   "outputs": [],
   "source": [
    "plt.hist(memento_result2['dv_pval'], bins=20)"
   ]
  },
  {
   "cell_type": "code",
   "execution_count": null,
   "id": "45f0086a",
   "metadata": {},
   "outputs": [],
   "source": [
    "plt.hist(memento_result1['dv_pval'], bins=20)"
   ]
  },
  {
   "cell_type": "code",
   "execution_count": null,
   "id": "4812b692",
   "metadata": {},
   "outputs": [],
   "source": [
    "memento_result2.head(2)"
   ]
  },
  {
   "cell_type": "code",
   "execution_count": null,
   "id": "2cc55bfb",
   "metadata": {},
   "outputs": [],
   "source": []
  },
  {
   "cell_type": "code",
   "execution_count": null,
   "id": "15c2a10d",
   "metadata": {},
   "outputs": [],
   "source": []
  },
  {
   "cell_type": "code",
   "execution_count": null,
   "id": "2cada5bc",
   "metadata": {},
   "outputs": [],
   "source": []
  },
  {
   "cell_type": "code",
   "execution_count": null,
   "id": "73e2465a",
   "metadata": {},
   "outputs": [],
   "source": [
    "adata.shape"
   ]
  },
  {
   "cell_type": "code",
   "execution_count": null,
   "id": "df9cecf6",
   "metadata": {},
   "outputs": [],
   "source": [
    "# memento.compute_1d_moments(adata, min_perc_group=.5)"
   ]
  },
  {
   "cell_type": "code",
   "execution_count": null,
   "id": "1bdcfb98",
   "metadata": {},
   "outputs": [],
   "source": [
    "memento.compute_1d_moments(adata, min_perc_group=.5, gene_list=cbc_eqtls.gene.drop_duplicates().tolist())"
   ]
  },
  {
   "cell_type": "code",
   "execution_count": null,
   "id": "a893c4fe",
   "metadata": {},
   "outputs": [],
   "source": [
    "covariates = pd.read_csv(data_path + 'cm_cg.mateqtl_cov.txt', sep='\\t', index_col=0).T\n",
    "cov_df = covariates[['age', 'Female'] + [x for x in covariates.columns if '_g' in x]].loc[[x[3:] for x in adata.uns['memento']['groups']]]\n",
    "cov_df['donor'] = cov_df.index.values\n",
    "cov_df = pd.get_dummies(cov_df)"
   ]
  },
  {
   "cell_type": "code",
   "execution_count": null,
   "id": "b61a9cd1",
   "metadata": {},
   "outputs": [],
   "source": [
    "treatment_df = pd.DataFrame(index=adata.uns['memento']['groups'])"
   ]
  },
  {
   "cell_type": "code",
   "execution_count": null,
   "id": "4d1c7dbe",
   "metadata": {},
   "outputs": [],
   "source": [
    "# treatment_df['tx'] = treatment_df.index.str.split('^').str[1].astype(float)"
   ]
  },
  {
   "cell_type": "code",
   "execution_count": null,
   "id": "6e671339",
   "metadata": {},
   "outputs": [],
   "source": [
    "treatment_df = pd.DataFrame(np.random.choice([-1, 1], size=(cov_df.shape[0], 2)))\n",
    "# treatment_df = pd.DataFrame([[1], [0], [2]])\n"
   ]
  },
  {
   "cell_type": "code",
   "execution_count": null,
   "id": "20c60ceb",
   "metadata": {},
   "outputs": [],
   "source": [
    "memento.ht_1d_moments(\n",
    "    adata, \n",
    "    covariate=pd.DataFrame(np.ones(treatment_df.shape[0]).reshape(-1, 1)),\n",
    "    treatment=treatment_df,\n",
    "#     treatment_for_gene=gene_to_snp,\n",
    "    num_boot=10000, \n",
    "    verbose=1,\n",
    "    num_cpus=94,\n",
    "    resampling='bootstrap',\n",
    "    approx=False)"
   ]
  },
  {
   "cell_type": "code",
   "execution_count": null,
   "id": "ba6864ab",
   "metadata": {},
   "outputs": [],
   "source": [
    "memento_result = memento.get_1d_ht_result(adata)\n"
   ]
  },
  {
   "cell_type": "code",
   "execution_count": null,
   "id": "960cf123",
   "metadata": {},
   "outputs": [],
   "source": [
    "memento_result.query('tx == 0').sort_values('de_coef').head(2)"
   ]
  },
  {
   "cell_type": "code",
   "execution_count": null,
   "id": "b91dd546",
   "metadata": {},
   "outputs": [],
   "source": [
    "plt.hist(memento_result['de_pval'], bins=20)\n",
    "plt.title('eQTL p-values with permutation 1')"
   ]
  },
  {
   "cell_type": "code",
   "execution_count": null,
   "id": "88acff71",
   "metadata": {},
   "outputs": [],
   "source": [
    "plt.hist(memento_result['de_pval'], bins=20)\n",
    "plt.title('eQTL p-values with permutation 2')"
   ]
  },
  {
   "cell_type": "code",
   "execution_count": null,
   "id": "4999cb80",
   "metadata": {},
   "outputs": [],
   "source": [
    "df = pd.DataFrame()\n",
    "df['tx'] = treatment_df[0].values\n",
    "df['mean'] = memento.get_1d_moments(adata)[1].query('gene == \"S100P\"').values[0][1:]"
   ]
  },
  {
   "cell_type": "code",
   "execution_count": null,
   "id": "591a3bb1",
   "metadata": {},
   "outputs": [],
   "source": []
  },
  {
   "cell_type": "code",
   "execution_count": null,
   "id": "6907a1f9",
   "metadata": {},
   "outputs": [],
   "source": [
    "stats.mannwhitneyu(df.query('tx==1')['mean'], df.query('tx==-1')['mean'])"
   ]
  },
  {
   "cell_type": "code",
   "execution_count": null,
   "id": "0d591110",
   "metadata": {},
   "outputs": [],
   "source": [
    "sns.boxplot(x='tx', y='mean', data=df)\n",
    "sns.stripplot(x='tx', y='mean', data=df, linewidth=2)"
   ]
  },
  {
   "cell_type": "code",
   "execution_count": null,
   "id": "4c55dfad",
   "metadata": {},
   "outputs": [],
   "source": [
    "sns.kdeplot(memento_result.query('tx == 1')['de_coef'])\n",
    "plt.plot([0, 0], [0, 18])"
   ]
  },
  {
   "cell_type": "code",
   "execution_count": null,
   "id": "51a84210",
   "metadata": {},
   "outputs": [],
   "source": [
    "sns.kdeplot(memento_result['de_coef'])\n",
    "plt.plot([0, 0], [0, 18])"
   ]
  },
  {
   "cell_type": "code",
   "execution_count": null,
   "id": "3e2ca322",
   "metadata": {},
   "outputs": [],
   "source": [
    "plt.hist(memento_result['de_pval'], bins=10);"
   ]
  },
  {
   "cell_type": "code",
   "execution_count": null,
   "id": "4b162684",
   "metadata": {},
   "outputs": [],
   "source": [
    "memento_result"
   ]
  },
  {
   "cell_type": "code",
   "execution_count": null,
   "id": "70e00a4f",
   "metadata": {},
   "outputs": [],
   "source": []
  },
  {
   "cell_type": "code",
   "execution_count": null,
   "id": "76faee71",
   "metadata": {},
   "outputs": [],
   "source": []
  },
  {
   "cell_type": "code",
   "execution_count": null,
   "id": "a58d518e",
   "metadata": {},
   "outputs": [],
   "source": [
    "donor_df = pos[[x[3:] for x in adata.uns['memento']['groups']]].T"
   ]
  },
  {
   "cell_type": "code",
   "execution_count": null,
   "id": "3cda1cc6",
   "metadata": {},
   "outputs": [],
   "source": [
    "donor_df['1:713977'].value_counts()"
   ]
  },
  {
   "cell_type": "code",
   "execution_count": null,
   "id": "a9891c43",
   "metadata": {},
   "outputs": [],
   "source": [
    "donor_df['1:706368'].value_counts()"
   ]
  },
  {
   "cell_type": "code",
   "execution_count": null,
   "id": "4e9de154",
   "metadata": {},
   "outputs": [],
   "source": [
    "donor_df.head(2)"
   ]
  },
  {
   "cell_type": "code",
   "execution_count": null,
   "id": "fe198c1e",
   "metadata": {},
   "outputs": [],
   "source": [
    "gene_to_snp = dict(cbc_eqtls[cbc_eqtls.gene.isin(adata.var.index)].groupby('gene').rsid.apply(list))\n",
    "# gene_to_snp = {'HP':['16:72135014']}"
   ]
  },
  {
   "cell_type": "code",
   "execution_count": null,
   "id": "c01ca3f1",
   "metadata": {},
   "outputs": [],
   "source": [
    "np.random.randint(5, size=21000).max()"
   ]
  },
  {
   "cell_type": "code",
   "execution_count": null,
   "id": "a8037b52",
   "metadata": {},
   "outputs": [],
   "source": [
    "# donor_df[donor_df.columns] = np.random.randint(3, size=donor_df.shape)"
   ]
  },
  {
   "cell_type": "code",
   "execution_count": null,
   "id": "e1c707c3",
   "metadata": {},
   "outputs": [],
   "source": [
    "donor_df = pd.DataFrame()\n",
    "donor_df['tx'] = np.random.randint(2, size=cov_df.shape[0])"
   ]
  },
  {
   "cell_type": "code",
   "execution_count": null,
   "id": "53ae72b3",
   "metadata": {},
   "outputs": [],
   "source": [
    "memento.ht_1d_moments(\n",
    "    adata, \n",
    "    covariate=pd.DataFrame(np.ones(cov_df.shape[0]).reshape(-1, 1)),\n",
    "    treatment=donor_df,\n",
    "#     treatment_for_gene=gene_to_snp,\n",
    "    num_boot=10000, \n",
    "    verbose=1,\n",
    "    num_cpus=94,\n",
    "    resampling='bootstrap',\n",
    "    approx=False)"
   ]
  },
  {
   "cell_type": "code",
   "execution_count": null,
   "id": "c89cea28",
   "metadata": {},
   "outputs": [],
   "source": [
    "memento_result = memento.get_1d_ht_result(adata).rename(columns={'tx':'rsid'})\n"
   ]
  },
  {
   "cell_type": "code",
   "execution_count": null,
   "id": "0578ec8f",
   "metadata": {},
   "outputs": [],
   "source": [
    "sns.kdeplot(memento_result['de_coef'])"
   ]
  },
  {
   "cell_type": "code",
   "execution_count": null,
   "id": "4613ab35",
   "metadata": {},
   "outputs": [],
   "source": [
    "memento_result"
   ]
  },
  {
   "cell_type": "code",
   "execution_count": null,
   "id": "01012674",
   "metadata": {},
   "outputs": [],
   "source": [
    "plt.hist(memento_result['de_pval'])"
   ]
  },
  {
   "cell_type": "code",
   "execution_count": null,
   "id": "6302cbf5",
   "metadata": {},
   "outputs": [],
   "source": [
    "test = donor_df[['16:72165986']].copy()\n",
    "test['mean'] = memento.get_1d_moments(adata)[0][['sg^' + x for x in test.index]].values.reshape(-1)"
   ]
  },
  {
   "cell_type": "code",
   "execution_count": null,
   "id": "63c26854",
   "metadata": {},
   "outputs": [],
   "source": [
    "cov_df.head(2)"
   ]
  },
  {
   "cell_type": "code",
   "execution_count": null,
   "id": "edcc986d",
   "metadata": {},
   "outputs": [],
   "source": []
  },
  {
   "cell_type": "code",
   "execution_count": null,
   "id": "93d06371",
   "metadata": {},
   "outputs": [],
   "source": [
    "memento_result"
   ]
  },
  {
   "cell_type": "code",
   "execution_count": null,
   "id": "063ffe13",
   "metadata": {},
   "outputs": [],
   "source": [
    "# memento_result.to_csv(data_path + 'cbc_eqtl_memento_cov_donor.csv', index=False)"
   ]
  },
  {
   "cell_type": "markdown",
   "id": "3384f73e",
   "metadata": {},
   "source": [
    "### CBC eqtls"
   ]
  },
  {
   "cell_type": "code",
   "execution_count": null,
   "id": "ae1ad164",
   "metadata": {},
   "outputs": [],
   "source": [
    "memento_nocov = pd.read_csv(data_path + 'cbc_eqtl_memento.csv')\n",
    "memento_cov = pd.read_csv(data_path + 'cbc_eqtl_memento_cov.csv')"
   ]
  },
  {
   "cell_type": "code",
   "execution_count": null,
   "id": "f979c818",
   "metadata": {},
   "outputs": [],
   "source": [
    "memento_result = memento_result.drop_duplicates(['de_coef'])"
   ]
  },
  {
   "cell_type": "code",
   "execution_count": null,
   "id": "a5da61a3",
   "metadata": {},
   "outputs": [],
   "source": [
    "memento_result['de_fdr'] = memento.util._fdrcorrect(memento_result['de_pval'])"
   ]
  },
  {
   "cell_type": "code",
   "execution_count": null,
   "id": "52de61c4",
   "metadata": {},
   "outputs": [],
   "source": [
    "memento_result.query('de_fdr < 0.001').sort_values('de_coef')"
   ]
  },
  {
   "cell_type": "code",
   "execution_count": null,
   "id": "13a214ab",
   "metadata": {},
   "outputs": [],
   "source": [
    "df = pd.DataFrame()\n",
    "df['geno'] = donor_df['1:7981453'].values\n",
    "df['mean'] = memento.get_1d_moments(adata)[1].query('gene == \"UTS2\"').values[0][1:]"
   ]
  },
  {
   "cell_type": "code",
   "execution_count": null,
   "id": "6f770d07",
   "metadata": {},
   "outputs": [],
   "source": [
    "sns.boxplot(x='geno', y='mean', data=df)\n",
    "sns.stripplot(x='geno', y='mean', data=df, linewidth=2)"
   ]
  },
  {
   "cell_type": "code",
   "execution_count": null,
   "id": "c08ce844",
   "metadata": {},
   "outputs": [],
   "source": [
    "plt.hist(memento_result['dv_pval'])"
   ]
  },
  {
   "cell_type": "code",
   "execution_count": null,
   "id": "44abb28f",
   "metadata": {},
   "outputs": [],
   "source": []
  },
  {
   "cell_type": "code",
   "execution_count": null,
   "id": "935403f1",
   "metadata": {},
   "outputs": [],
   "source": []
  },
  {
   "cell_type": "code",
   "execution_count": null,
   "id": "491d6fa9",
   "metadata": {},
   "outputs": [],
   "source": []
  },
  {
   "cell_type": "code",
   "execution_count": null,
   "id": "95dd409a",
   "metadata": {},
   "outputs": [],
   "source": []
  },
  {
   "cell_type": "code",
   "execution_count": null,
   "id": "07482003",
   "metadata": {},
   "outputs": [],
   "source": []
  },
  {
   "cell_type": "code",
   "execution_count": null,
   "id": "e5a0e2e0",
   "metadata": {},
   "outputs": [],
   "source": []
  },
  {
   "cell_type": "code",
   "execution_count": null,
   "id": "70364174",
   "metadata": {},
   "outputs": [],
   "source": []
  },
  {
   "cell_type": "code",
   "execution_count": null,
   "id": "5c044ce4",
   "metadata": {},
   "outputs": [],
   "source": []
  },
  {
   "cell_type": "code",
   "execution_count": null,
   "id": "32cda5ca",
   "metadata": {},
   "outputs": [],
   "source": []
  },
  {
   "cell_type": "code",
   "execution_count": null,
   "id": "d9e5b08e",
   "metadata": {},
   "outputs": [],
   "source": []
  },
  {
   "cell_type": "code",
   "execution_count": null,
   "id": "21979920",
   "metadata": {},
   "outputs": [],
   "source": []
  },
  {
   "cell_type": "code",
   "execution_count": null,
   "id": "8cc147c9",
   "metadata": {},
   "outputs": [],
   "source": [
    "memento_result = memento.get_1d_ht_result(adata).rename(columns={'tx':'rsid'})\n"
   ]
  },
  {
   "cell_type": "code",
   "execution_count": null,
   "id": "770a4447",
   "metadata": {},
   "outputs": [],
   "source": [
    "merged = cbc_eqtls[['gene', 'rsid', 'beta', 'pvalue']].merge(memento_result[['gene', 'rsid', 'de_coef', 'de_pval']], on=['gene', 'rsid'])"
   ]
  },
  {
   "cell_type": "code",
   "execution_count": null,
   "id": "9b7eb163",
   "metadata": {},
   "outputs": [],
   "source": [
    "plt.scatter(-np.log(merged['pvalue']), -np.log(merged['de_pval']), s=1)\n",
    "plt.ylabel('memento -log(p)'); plt.xlabel('mat eqtl -log(p)')\n",
    "# plt.plot([0, 160], [0, 160], color='k')"
   ]
  },
  {
   "cell_type": "code",
   "execution_count": null,
   "id": "6060a5e1",
   "metadata": {},
   "outputs": [],
   "source": [
    "merged.shape"
   ]
  },
  {
   "cell_type": "code",
   "execution_count": null,
   "id": "3c0dc603",
   "metadata": {},
   "outputs": [],
   "source": [
    "plt.scatter(merged['beta'], merged['de_coef'], s=5)\n",
    "plt.xlabel('mat eqtl coef'); plt.ylabel('memento coef')\n",
    "plt.plot([-1, 4], [-1, 4], color='k')"
   ]
  },
  {
   "cell_type": "markdown",
   "id": "fd35ea92",
   "metadata": {},
   "source": [
    "### Get SNP-gene pairs using bedtools"
   ]
  },
  {
   "cell_type": "code",
   "execution_count": null,
   "id": "68960291",
   "metadata": {},
   "outputs": [],
   "source": [
    "from pybedtools import BedTool"
   ]
  },
  {
   "cell_type": "code",
   "execution_count": null,
   "id": "8402c415",
   "metadata": {},
   "outputs": [],
   "source": [
    "snppos = pd.read_csv(data_path + 'cm_cg.snpspos.txt', sep='\\t')\n",
    "snppos['chrom'] = snppos['chr']\n",
    "snppos['pos_start'] = snppos['pos']\n",
    "snppos['pos_end'] = snppos['pos']\n",
    "snppos['rsid'] = snppos['snps']\n",
    "snppos = snppos[['chrom', 'pos_start', 'pos_end', 'rsid']]"
   ]
  },
  {
   "cell_type": "code",
   "execution_count": null,
   "id": "7d64831e",
   "metadata": {},
   "outputs": [],
   "source": [
    "enc = encode.Encode('/home/ssm-user/Github/misc-seq/miscseq/GRCh38Genes.bed')"
   ]
  },
  {
   "cell_type": "code",
   "execution_count": null,
   "id": "58742e6c",
   "metadata": {},
   "outputs": [],
   "source": [
    "tss_df = enc.get_tss_window(window_size=0)\n"
   ]
  },
  {
   "cell_type": "code",
   "execution_count": null,
   "id": "c5fcf120",
   "metadata": {},
   "outputs": [],
   "source": [
    "adata = sc.read(data_path + 'Lupus_study_adjusted_counts.h5ad')"
   ]
  },
  {
   "cell_type": "code",
   "execution_count": null,
   "id": "0676e1f9",
   "metadata": {},
   "outputs": [],
   "source": [
    "tss_df = tss_df[tss_df['symbol'].isin(adata.var.index)]"
   ]
  },
  {
   "cell_type": "code",
   "execution_count": null,
   "id": "c7bf7544",
   "metadata": {},
   "outputs": [],
   "source": [
    "tss_window_bed = BedTool.from_dataframe(tss_df)\n",
    "snp_bed = BedTool.from_dataframe(snppos)"
   ]
  },
  {
   "cell_type": "code",
   "execution_count": null,
   "id": "608468d2",
   "metadata": {},
   "outputs": [],
   "source": [
    "result = BedTool.window(tss_window_bed, snp_bed, w=1000000).to_dataframe()"
   ]
  },
  {
   "cell_type": "code",
   "execution_count": null,
   "id": "ba220c26",
   "metadata": {},
   "outputs": [],
   "source": [
    "gene_snp_pairs = result[['name', 'itemRgb']].drop_duplicates().rename(columns={'name':'gene', 'itemRgb':'rsid'})"
   ]
  },
  {
   "cell_type": "code",
   "execution_count": null,
   "id": "c7c2fc75",
   "metadata": {},
   "outputs": [],
   "source": [
    "gene_snp_pairs.to_csv(data_path +'gene_snp_pairs.csv', index=False)\n"
   ]
  },
  {
   "cell_type": "markdown",
   "id": "9762754d",
   "metadata": {},
   "source": [
    "### Run memento on these gene-SNP pairs"
   ]
  },
  {
   "cell_type": "code",
   "execution_count": null,
   "id": "d56b68d6",
   "metadata": {},
   "outputs": [],
   "source": [
    "adata = sc.read(data_path + 'Lupus_study_adjusted_counts_cM_filtered.h5ad')\n",
    "adata = adata[adata.obs.ind_cov.isin(pos.columns)].copy()"
   ]
  },
  {
   "cell_type": "code",
   "execution_count": null,
   "id": "b47b3b68",
   "metadata": {},
   "outputs": [],
   "source": [
    "gene_snp_pairs = pd.read_csv(data_path +'gene_snp_pairs.csv')"
   ]
  },
  {
   "cell_type": "code",
   "execution_count": null,
   "id": "b8d9d979",
   "metadata": {},
   "outputs": [],
   "source": [
    "gene_snp_pairs.shape"
   ]
  },
  {
   "cell_type": "code",
   "execution_count": null,
   "id": "76a7fcb4",
   "metadata": {},
   "outputs": [],
   "source": [
    "adata.obs['capture_rate'] = 0.1\n",
    "memento.setup_memento(adata, q_column='capture_rate', trim_percent=0.1, filter_mean_thresh=0.05)"
   ]
  },
  {
   "cell_type": "code",
   "execution_count": null,
   "id": "fa879731",
   "metadata": {},
   "outputs": [],
   "source": [
    "memento.create_groups(adata, label_columns=['ind_cov'])"
   ]
  },
  {
   "cell_type": "code",
   "execution_count": null,
   "id": "5ef65134",
   "metadata": {},
   "outputs": [],
   "source": [
    "memento.compute_1d_moments(adata, min_perc_group=.5, gene_list=gene_snp_pairs.gene.drop_duplicates().tolist())"
   ]
  },
  {
   "cell_type": "code",
   "execution_count": null,
   "id": "f4b59aa6",
   "metadata": {},
   "outputs": [],
   "source": [
    "gene_to_snp = dict(gene_snp_pairs[gene_snp_pairs.gene.isin(adata.var.index)].groupby('gene').rsid.apply(list))"
   ]
  },
  {
   "cell_type": "code",
   "execution_count": null,
   "id": "40dbdd72",
   "metadata": {},
   "outputs": [],
   "source": [
    "donor_df = pos[[x[3:] for x in adata.uns['memento']['groups']]].T\n"
   ]
  },
  {
   "cell_type": "code",
   "execution_count": null,
   "id": "4a2ac6c7",
   "metadata": {},
   "outputs": [],
   "source": [
    "memento.ht_1d_moments(\n",
    "    adata, \n",
    "    covariate=pd.DataFrame(np.ones((donor_df.shape[0], 1))),\n",
    "    treatment=donor_df,\n",
    "    treatment_for_gene=gene_to_snp,\n",
    "    num_boot=10000, \n",
    "    verbose=1,\n",
    "    num_cpus=93,\n",
    "    resampling='bootstrap',\n",
    "    approx=False)\n"
   ]
  },
  {
   "cell_type": "code",
   "execution_count": null,
   "id": "0a839947",
   "metadata": {},
   "outputs": [],
   "source": [
    "memento_result = memento.get_1d_ht_result(adata).rename(columns={'tx':'rsid'})\n"
   ]
  },
  {
   "cell_type": "code",
   "execution_count": null,
   "id": "3392474b",
   "metadata": {},
   "outputs": [],
   "source": [
    "memento_result.to_csv(data_path + 'cm_1M_result.csv')"
   ]
  },
  {
   "cell_type": "code",
   "execution_count": null,
   "id": "2ffb57b8",
   "metadata": {},
   "outputs": [],
   "source": []
  },
  {
   "cell_type": "code",
   "execution_count": null,
   "id": "84f2d312",
   "metadata": {},
   "outputs": [],
   "source": []
  },
  {
   "cell_type": "code",
   "execution_count": null,
   "id": "b6c88221",
   "metadata": {},
   "outputs": [],
   "source": [
    "df = pd.DataFrame()\n",
    "df['geno'] = donor_df['1:78723333'].values\n",
    "df['mean'] = memento.get_1d_moments(adata)[0].query('gene == \"IFI44L\"').values[0][1:]"
   ]
  },
  {
   "cell_type": "code",
   "execution_count": null,
   "id": "fe0e3661",
   "metadata": {},
   "outputs": [],
   "source": [
    "sns.boxplot(x='geno', y='mean', data=df)\n",
    "sns.stripplot(x='geno', y='mean', data=df, linewidth=2)"
   ]
  },
  {
   "cell_type": "code",
   "execution_count": null,
   "id": "f8ddd8c5",
   "metadata": {},
   "outputs": [],
   "source": [
    "plt.hist(memento_result['de_pval'])"
   ]
  },
  {
   "cell_type": "code",
   "execution_count": null,
   "id": "8dbd2ea6",
   "metadata": {},
   "outputs": [],
   "source": [
    "memento_result['fdr'] = memento.util._fdrcorrect(memento_result['de_pval'])"
   ]
  },
  {
   "cell_type": "code",
   "execution_count": null,
   "id": "8e583a2c",
   "metadata": {},
   "outputs": [],
   "source": [
    "memento_result['bonf'] = np.clip(memento_result['de_pval']*memento_result.shape[0], a_max=1, a_min=0)"
   ]
  },
  {
   "cell_type": "code",
   "execution_count": null,
   "id": "5702f165",
   "metadata": {},
   "outputs": [],
   "source": [
    "memento_result.query('fdr < 0.0007')"
   ]
  },
  {
   "cell_type": "code",
   "execution_count": null,
   "id": "ab8ee2fa",
   "metadata": {},
   "outputs": [],
   "source": [
    "plt.hist(memento_result['fdr'])"
   ]
  },
  {
   "cell_type": "code",
   "execution_count": null,
   "id": "c85c0cf5",
   "metadata": {},
   "outputs": [],
   "source": [
    "memento_result.to_csv('cm_100k_result.csv', index=False)"
   ]
  },
  {
   "cell_type": "code",
   "execution_count": null,
   "id": "c13a8812",
   "metadata": {},
   "outputs": [],
   "source": [
    "memento_result"
   ]
  },
  {
   "cell_type": "code",
   "execution_count": null,
   "id": "4b3d5140",
   "metadata": {},
   "outputs": [],
   "source": [
    "memento_result.query('bonf < 0.1')#.shape[0]"
   ]
  },
  {
   "cell_type": "code",
   "execution_count": null,
   "id": "21fdce0e",
   "metadata": {},
   "outputs": [],
   "source": [
    "onek_replication = pd.read_csv(data_path + 'OneK1K_eqtls_for_replication.txt', sep='\\t')#.query('cell_type == \"Mono_C\"')"
   ]
  },
  {
   "cell_type": "code",
   "execution_count": null,
   "id": "c5333e1d",
   "metadata": {},
   "outputs": [],
   "source": [
    "mapping = pd.read_csv('mart_export.txt', sep='\\t')"
   ]
  },
  {
   "cell_type": "code",
   "execution_count": null,
   "id": "fe02853b",
   "metadata": {},
   "outputs": [],
   "source": [
    "mapping['rsid'] = mapping['Chromosome/scaffold name'].astype(str) + ':'+mapping['Chromosome/scaffold position start (bp)'].astype(str)"
   ]
  },
  {
   "cell_type": "code",
   "execution_count": null,
   "id": "ed97fdce",
   "metadata": {},
   "outputs": [],
   "source": [
    "onek_replication = onek_replication.merge(mapping[['Variant name', 'rsid']], left_on='SNP_rsID', right_on='Variant name')"
   ]
  },
  {
   "cell_type": "code",
   "execution_count": null,
   "id": "4f67c544",
   "metadata": {},
   "outputs": [],
   "source": [
    "onek_replication['gene'] = onek_replication['GeneID']"
   ]
  },
  {
   "cell_type": "code",
   "execution_count": null,
   "id": "a8dc935e",
   "metadata": {},
   "outputs": [],
   "source": [
    "gene_snp_pairs.query('gene == \"LIPA\"').query('rsid == \"10:89243047\"')"
   ]
  },
  {
   "cell_type": "code",
   "execution_count": null,
   "id": "ec424ba7",
   "metadata": {},
   "outputs": [],
   "source": [
    "onek_replication.merge(cbc_eqtls, on=['rsid', 'gene'])"
   ]
  },
  {
   "cell_type": "code",
   "execution_count": null,
   "id": "18633b22",
   "metadata": {},
   "outputs": [],
   "source": [
    "onek_replication['SNP_rsID'].drop_duplicates().shape"
   ]
  },
  {
   "cell_type": "code",
   "execution_count": null,
   "id": "cca139bd",
   "metadata": {},
   "outputs": [],
   "source": [
    "memento_result['logp'] = -np.log(memento_result['de_pval'])"
   ]
  },
  {
   "cell_type": "code",
   "execution_count": null,
   "id": "dd5ad24b",
   "metadata": {},
   "outputs": [],
   "source": [
    "cbc_eqtls['logp'] = -np.log(cbc_eqtls['pvalue'])"
   ]
  },
  {
   "cell_type": "code",
   "execution_count": null,
   "id": "82fe0b5b",
   "metadata": {},
   "outputs": [],
   "source": [
    "plt.scatter(cbc_eqtls['beta'], cbc_eqtls['logp'], s=1)\n",
    "plt.scatter(cbc_eqtls.merge(onek_replication, on=['rsid', 'gene'])['beta'], cbc_eqtls.merge(onek_replication, on=['rsid', 'gene'])['logp'], s=30)"
   ]
  },
  {
   "cell_type": "code",
   "execution_count": null,
   "id": "e7998d17",
   "metadata": {},
   "outputs": [],
   "source": [
    "plt.scatter(memento_result['de_coef'], memento_result['logp'], s=1)\n",
    "plt.scatter(memento_result.merge(onek_replication, on=['rsid', 'gene'])['de_coef'], memento_result.merge(onek_replication, on=['rsid', 'gene'])['logp'], s=30)"
   ]
  },
  {
   "cell_type": "code",
   "execution_count": null,
   "id": "58d4f618",
   "metadata": {},
   "outputs": [],
   "source": [
    "pv_sorted = memento_result['de_pval'].sort_values().values"
   ]
  },
  {
   "cell_type": "code",
   "execution_count": null,
   "id": "8123939f",
   "metadata": {},
   "outputs": [],
   "source": [
    "quantiles = stats.uniform.ppf(np.linspace(0, 1, pv_sorted.shape[0]), loc=0, scale=1)"
   ]
  },
  {
   "cell_type": "code",
   "execution_count": null,
   "id": "43db1cf4",
   "metadata": {},
   "outputs": [],
   "source": [
    "memento_result.sort_values('de_pval').head(15)"
   ]
  },
  {
   "cell_type": "markdown",
   "id": "778776de",
   "metadata": {},
   "source": [
    "### 1K1K replication"
   ]
  },
  {
   "cell_type": "code",
   "execution_count": null,
   "id": "a8f1fb40",
   "metadata": {},
   "outputs": [],
   "source": [
    "onek1k_pos = pd.read_csv('1k1k_snps_chrpos.txt', header=None).iloc[:,0].tolist()\n",
    "onek1k_info = pd.read_csv('1k1k_snp_info.txt', sep='\\t', header=None).iloc[:,:3]\n",
    "onek1k_info.columns = ['chr', 'pos', 'name']\n",
    "onek1k_info['rsid'] = onek1k_info['chr'].astype(str) + ':' + onek1k_info['pos'].astype(str)"
   ]
  },
  {
   "cell_type": "code",
   "execution_count": null,
   "id": "93e7249c",
   "metadata": {},
   "outputs": [],
   "source": [
    "onek_replication = pd.read_csv(data_path + 'OneK1K_eqtls_for_replication.txt', sep='\\t')#.query('cell_type == \"Mono_C\"')"
   ]
  },
  {
   "cell_type": "code",
   "execution_count": null,
   "id": "cc2a2f13",
   "metadata": {},
   "outputs": [],
   "source": [
    "onek_replication = onek_replication.merge(onek1k_info, left_on='SNP_rsID', right_on='name').query('cell_type == \"Mono_C\"')"
   ]
  },
  {
   "cell_type": "code",
   "execution_count": null,
   "id": "dbc92b5d",
   "metadata": {},
   "outputs": [],
   "source": []
  },
  {
   "cell_type": "code",
   "execution_count": null,
   "id": "5c9a9cd3",
   "metadata": {},
   "outputs": [],
   "source": [
    "cbc_eqtls.head(2)"
   ]
  },
  {
   "cell_type": "code",
   "execution_count": null,
   "id": "a9f7bc48",
   "metadata": {},
   "outputs": [],
   "source": [
    "cbc_overlap = onek_replication"
   ]
  },
  {
   "cell_type": "code",
   "execution_count": null,
   "id": "8d115795",
   "metadata": {},
   "outputs": [],
   "source": [
    "onek_replication['gene'] = onek_replication['GeneID']"
   ]
  },
  {
   "cell_type": "code",
   "execution_count": null,
   "id": "bbab458e",
   "metadata": {},
   "outputs": [],
   "source": [
    "onek_replication.head(2)"
   ]
  },
  {
   "cell_type": "code",
   "execution_count": null,
   "id": "cc199f21",
   "metadata": {},
   "outputs": [],
   "source": [
    "cbc_eqtls.shape"
   ]
  },
  {
   "cell_type": "code",
   "execution_count": null,
   "id": "291c0183",
   "metadata": {},
   "outputs": [],
   "source": [
    "onek_replication.merge(cbc_eqtls, on=['gene', 'rsid']).shape"
   ]
  },
  {
   "cell_type": "code",
   "execution_count": null,
   "id": "9f87b9ee",
   "metadata": {},
   "outputs": [],
   "source": [
    "memento_result.shape"
   ]
  },
  {
   "cell_type": "code",
   "execution_count": null,
   "id": "3fc23cdf",
   "metadata": {},
   "outputs": [],
   "source": [
    "memento_result = pd.read_csv('cm_100k_result.csv').sort_values('de_coef')#.head(98063)"
   ]
  },
  {
   "cell_type": "code",
   "execution_count": null,
   "id": "afa62656",
   "metadata": {},
   "outputs": [],
   "source": [
    "onek_replication.merge(memento_result, on=['gene', 'rsid']).shape"
   ]
  },
  {
   "cell_type": "code",
   "execution_count": null,
   "id": "c9236e10",
   "metadata": {},
   "outputs": [],
   "source": [
    "onek_replication.head(2)"
   ]
  },
  {
   "cell_type": "code",
   "execution_count": null,
   "id": "f616a3f5",
   "metadata": {},
   "outputs": [],
   "source": [
    "overlap = set(onek1k_info['rsid']) & set(pos.index.tolist())"
   ]
  },
  {
   "cell_type": "code",
   "execution_count": null,
   "id": "7f596937",
   "metadata": {},
   "outputs": [],
   "source": [
    "len(overlap)"
   ]
  },
  {
   "cell_type": "code",
   "execution_count": null,
   "id": "706b0543",
   "metadata": {},
   "outputs": [],
   "source": [
    "hits_snps = set(onek_replication.rsid.tolist())"
   ]
  },
  {
   "cell_type": "code",
   "execution_count": null,
   "id": "3ae8c8e4",
   "metadata": {},
   "outputs": [],
   "source": [
    "set(overlap) & set(hits_snps)"
   ]
  },
  {
   "cell_type": "code",
   "execution_count": null,
   "id": "691ceeb6",
   "metadata": {},
   "outputs": [],
   "source": []
  },
  {
   "cell_type": "code",
   "execution_count": null,
   "id": "fe907e09",
   "metadata": {},
   "outputs": [],
   "source": []
  },
  {
   "cell_type": "code",
   "execution_count": null,
   "id": "5e5669d6",
   "metadata": {},
   "outputs": [],
   "source": [
    "onek_replication.query('rsid in @overlap')"
   ]
  },
  {
   "cell_type": "markdown",
   "id": "cfa8290a",
   "metadata": {},
   "source": [
    "### Test"
   ]
  },
  {
   "cell_type": "code",
   "execution_count": null,
   "id": "d9a33601",
   "metadata": {},
   "outputs": [],
   "source": [
    "adata = sc.read(data_path + 'Lupus_study_adjusted_counts.h5ad')\n",
    "adata = adata[adata.obs.ind_cov.isin(pos.columns)].copy()"
   ]
  },
  {
   "cell_type": "code",
   "execution_count": null,
   "id": "b4d5a507",
   "metadata": {},
   "outputs": [],
   "source": [
    "gene_snp_pairs = pd.read_csv(data_path +'gene_snp_pairs.csv')\n",
    "gene_snp_pairs = gene_snp_pairs.query('gene == \"IFITM3\" & rsid == \"11:388579\"')"
   ]
  },
  {
   "cell_type": "code",
   "execution_count": null,
   "id": "3b183b1b",
   "metadata": {},
   "outputs": [],
   "source": [
    "adata.obs['capture_rate'] = 0.1\n",
    "memento.setup_memento(adata, q_column='capture_rate', trim_percent=0.1, filter_mean_thresh=0.05)"
   ]
  },
  {
   "cell_type": "code",
   "execution_count": null,
   "id": "6f820f8a",
   "metadata": {},
   "outputs": [],
   "source": [
    "memento.create_groups(adata, label_columns=['ind_cov'])"
   ]
  },
  {
   "cell_type": "code",
   "execution_count": null,
   "id": "e80f592e",
   "metadata": {},
   "outputs": [],
   "source": [
    "memento.compute_1d_moments(adata, min_perc_group=.5, gene_list=['IFITM3'])"
   ]
  },
  {
   "cell_type": "code",
   "execution_count": null,
   "id": "0b624b41",
   "metadata": {},
   "outputs": [],
   "source": [
    "gene_to_snp = dict(gene_snp_pairs[gene_snp_pairs.gene.isin(adata.var.index)].groupby('gene').rsid.apply(list))"
   ]
  },
  {
   "cell_type": "code",
   "execution_count": null,
   "id": "36432f2c",
   "metadata": {},
   "outputs": [],
   "source": [
    "donor_df = pos[[x[3:] for x in adata.uns['memento']['groups']]].T\n"
   ]
  },
  {
   "cell_type": "code",
   "execution_count": null,
   "id": "7db273fa",
   "metadata": {},
   "outputs": [],
   "source": [
    "boot_mean = memento.ht_1d_moments(\n",
    "    adata, \n",
    "    covariate=pd.DataFrame(np.ones((donor_df.shape[0], 1))),\n",
    "    treatment=donor_df,\n",
    "    treatment_for_gene=gene_to_snp,\n",
    "    num_boot=10000, \n",
    "    verbose=1,\n",
    "    num_cpus=1,\n",
    "    resampling='bootstrap',\n",
    "    approx=True)\n"
   ]
  },
  {
   "cell_type": "code",
   "execution_count": null,
   "id": "65bf91e5",
   "metadata": {},
   "outputs": [],
   "source": [
    "from sklearn.linear_model import LinearRegression"
   ]
  },
  {
   "cell_type": "code",
   "execution_count": null,
   "id": "a2fe9530",
   "metadata": {},
   "outputs": [],
   "source": [
    "coefs = LinearRegression().fit(donor_df[['11:388579']].values, boot_mean).coef_.reshape(-1)"
   ]
  },
  {
   "cell_type": "code",
   "execution_count": null,
   "id": "6878d641",
   "metadata": {},
   "outputs": [],
   "source": [
    "coefs.shape"
   ]
  },
  {
   "cell_type": "code",
   "execution_count": null,
   "id": "5f4d3287",
   "metadata": {},
   "outputs": [],
   "source": [
    "np.nanstd(coefs)"
   ]
  },
  {
   "cell_type": "code",
   "execution_count": null,
   "id": "c60ae9e7",
   "metadata": {},
   "outputs": [],
   "source": [
    "sns.kdeplot(coefs)"
   ]
  },
  {
   "cell_type": "code",
   "execution_count": null,
   "id": "ae5d04ff",
   "metadata": {},
   "outputs": [],
   "source": [
    "boot_mean"
   ]
  },
  {
   "cell_type": "code",
   "execution_count": null,
   "id": "8070b36d",
   "metadata": {},
   "outputs": [],
   "source": [
    "memento.get_1d_ht_result(adata).rename(columns={'tx':'rsid'})"
   ]
  },
  {
   "cell_type": "code",
   "execution_count": null,
   "id": "e83516e8",
   "metadata": {},
   "outputs": [],
   "source": []
  },
  {
   "cell_type": "code",
   "execution_count": null,
   "id": "9e9df6f9",
   "metadata": {},
   "outputs": [],
   "source": []
  },
  {
   "cell_type": "code",
   "execution_count": null,
   "id": "5a40ee5e",
   "metadata": {},
   "outputs": [],
   "source": [
    "-np.log(pv_sorted)"
   ]
  },
  {
   "cell_type": "code",
   "execution_count": null,
   "id": "0c809177",
   "metadata": {},
   "outputs": [],
   "source": [
    "plt.scatter(-np.log(quantiles), -np.log(pv_sorted))"
   ]
  },
  {
   "cell_type": "code",
   "execution_count": null,
   "id": "c997d1ba",
   "metadata": {},
   "outputs": [],
   "source": [
    "quantiles"
   ]
  },
  {
   "cell_type": "code",
   "execution_count": null,
   "id": "47e9474f",
   "metadata": {},
   "outputs": [],
   "source": [
    "pv_"
   ]
  },
  {
   "cell_type": "code",
   "execution_count": null,
   "id": "30eefde0",
   "metadata": {},
   "outputs": [],
   "source": [
    "memento_result['de_pval']"
   ]
  },
  {
   "cell_type": "markdown",
   "id": "fad00917",
   "metadata": {},
   "source": [
    "### P-value histogram"
   ]
  },
  {
   "cell_type": "code",
   "execution_count": null,
   "id": "7fb73031",
   "metadata": {},
   "outputs": [],
   "source": [
    "import pandas as pd"
   ]
  },
  {
   "cell_type": "code",
   "execution_count": null,
   "id": "a150932b",
   "metadata": {},
   "outputs": [],
   "source": [
    "result = pd.read_csv(data_path + 'window_100k/100k_result.csv', index_col=0)"
   ]
  },
  {
   "cell_type": "code",
   "execution_count": null,
   "id": "1d35095d",
   "metadata": {},
   "outputs": [],
   "source": [
    "mateqtl_result = pd.r"
   ]
  },
  {
   "cell_type": "code",
   "execution_count": null,
   "id": "4657cc61",
   "metadata": {},
   "outputs": [],
   "source": [
    "theoretical = -np.log10(np.linspace(1e-9, 1, result.shape[0]))\n",
    "actual = -np.log10(result['de_pval'].sort_values().values)"
   ]
  },
  {
   "cell_type": "code",
   "execution_count": null,
   "id": "ac6ce14e",
   "metadata": {},
   "outputs": [],
   "source": [
    "plt.scatter(theoretical, actual, s=1)\n",
    "plt.plot(theoretical, theoretical, color='r')"
   ]
  },
  {
   "cell_type": "code",
   "execution_count": null,
   "id": "c71091ef",
   "metadata": {},
   "outputs": [],
   "source": [
    "mateqtl_output = pd.read_csv(data_path + 'mateqtl_output/cm_cg_mateqtl_cis_cov.out', sep='\\t')\n",
    "mateqtl_output['hit_id'] = mateqtl_output['gene'] + '*' + mateqtl_output['SNP']\n",
    "# mateqtl_output['onek_valid'] = mateqtl_output['hit_id'].isin(onek_replication['hit_id'])\n",
    "mateqtl_output['pvalue'] = mateqtl_output['p-value']"
   ]
  },
  {
   "cell_type": "code",
   "execution_count": null,
   "id": "8bb1e9e4",
   "metadata": {},
   "outputs": [],
   "source": [
    "theoretical_meq = -np.log10(np.linspace(1e-9, 1, mateqtl_output.shape[0]))\n",
    "actual_meq = -np.log10(mateqtl_output['p-value'].sort_values().values)"
   ]
  },
  {
   "cell_type": "code",
   "execution_count": null,
   "id": "f7846dc4",
   "metadata": {},
   "outputs": [],
   "source": [
    "plt.scatter(theoretical, actual, s=1)\n",
    "plt.scatter(theoretical_meq, actual_meq, s=1)\n",
    "plt.plot(theoretical, theoretical, color='r')\n",
    "\n"
   ]
  },
  {
   "cell_type": "code",
   "execution_count": null,
   "id": "71df12ec",
   "metadata": {},
   "outputs": [],
   "source": []
  }
 ],
 "metadata": {
  "kernelspec": {
   "display_name": "Python 3 (ipykernel)",
   "language": "python",
   "name": "python3"
  },
  "language_info": {
   "codemirror_mode": {
    "name": "ipython",
    "version": 3
   },
   "file_extension": ".py",
   "mimetype": "text/x-python",
   "name": "python",
   "nbconvert_exporter": "python",
   "pygments_lexer": "ipython3",
   "version": "3.8.8"
  }
 },
 "nbformat": 4,
 "nbformat_minor": 5
}
