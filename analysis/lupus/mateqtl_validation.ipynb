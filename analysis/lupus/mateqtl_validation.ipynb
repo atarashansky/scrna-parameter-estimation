{
 "cells": [
  {
   "cell_type": "markdown",
   "id": "50cf6931",
   "metadata": {},
   "source": [
    "# Run eQTL analysis for lupus data"
   ]
  },
  {
   "cell_type": "code",
   "execution_count": 3,
   "id": "1dd63e13",
   "metadata": {},
   "outputs": [],
   "source": [
    "import scanpy as sc\n",
    "import seaborn as sns\n",
    "import pandas as pd\n",
    "import matplotlib.pyplot as plt\n",
    "import numpy as np\n",
    "import scipy.stats as stats\n",
    "import itertools\n",
    "from pybedtools import BedTool\n",
    "import statsmodels.formula.api as smf\n",
    "import statsmodels.api as sm\n",
    "\n",
    "import os\n",
    "import pickle as pkl\n",
    "%matplotlib inline"
   ]
  },
  {
   "cell_type": "code",
   "execution_count": 4,
   "id": "d9bf38f1",
   "metadata": {},
   "outputs": [],
   "source": [
    "import sys\n",
    "sys.path.append('/home/ssm-user/Github/scrna-parameter-estimation/dist/memento-0.0.8-py3.8.egg')\n",
    "sys.path.append('/home/ssm-user/Github/misc-seq/miscseq/')\n",
    "import encode\n",
    "import memento"
   ]
  },
  {
   "cell_type": "code",
   "execution_count": 5,
   "id": "a98dd011",
   "metadata": {},
   "outputs": [],
   "source": [
    "data_path  = '/data_volume/memento/lupus/'"
   ]
  },
  {
   "cell_type": "markdown",
   "id": "bd1f09d4",
   "metadata": {},
   "source": [
    "### Read SNP positions"
   ]
  },
  {
   "cell_type": "code",
   "execution_count": 4,
   "id": "95728d50",
   "metadata": {},
   "outputs": [],
   "source": [
    "pos = pd.read_csv(data_path + 'cm_cg.genos', sep='\\t', index_col=0)"
   ]
  },
  {
   "cell_type": "code",
   "execution_count": 5,
   "id": "06dd32b5",
   "metadata": {},
   "outputs": [],
   "source": [
    "pos = pos[~pos.index.duplicated(keep='first')]"
   ]
  },
  {
   "cell_type": "code",
   "execution_count": 6,
   "id": "28943a13",
   "metadata": {},
   "outputs": [],
   "source": [
    "# Filter for lupus patients\n",
    "pos = pos[[c for c in pos.columns if 'HC' not in c]]"
   ]
  },
  {
   "cell_type": "markdown",
   "id": "4da0c4be",
   "metadata": {},
   "source": [
    "### Read mat eQTL output"
   ]
  },
  {
   "cell_type": "code",
   "execution_count": 7,
   "id": "73ee61d3",
   "metadata": {},
   "outputs": [],
   "source": [
    "cbc_eqtls = pd.read_csv(data_path + 'Table6.txt', sep='\\t', skiprows=1).query('cell == \"cm\"').drop('STD_FE', axis=1)\n",
    "cbc_eqtls.columns = ['ct', 'rsid_gene', 'pvalue', 'beta']"
   ]
  },
  {
   "cell_type": "code",
   "execution_count": 8,
   "id": "c5695962",
   "metadata": {},
   "outputs": [],
   "source": [
    "cbc_eqtls['gene'] = cbc_eqtls['rsid_gene'].str.split('_').str[1]\n",
    "cbc_eqtls['rsid'] = cbc_eqtls['rsid_gene'].str.split('_').str[0]"
   ]
  },
  {
   "cell_type": "code",
   "execution_count": 9,
   "id": "986ac0dc",
   "metadata": {},
   "outputs": [],
   "source": [
    "cbc_eqtls = cbc_eqtls[cbc_eqtls['rsid'].isin(pos.index)]"
   ]
  },
  {
   "cell_type": "code",
   "execution_count": 10,
   "id": "c1f12b06",
   "metadata": {},
   "outputs": [],
   "source": [
    "cbc_eqtls = cbc_eqtls.sample(10000)"
   ]
  },
  {
   "cell_type": "markdown",
   "id": "27af57ce",
   "metadata": {},
   "source": [
    "### Read the lupus data and filter for genotyped donors and cell type"
   ]
  },
  {
   "cell_type": "code",
   "execution_count": 11,
   "id": "38cf86dd",
   "metadata": {},
   "outputs": [],
   "source": [
    "# adata = sc.read(data_path + 'Lupus_study_adjusted.h5ad')\n",
    "# adata_counts = sc.AnnData(X=adata.raw.X, var=adata.raw.var, obs=adata.obs)\n",
    "# adata_counts.write(data_path + 'Lupus_study_adjusted_counts.h5ad')"
   ]
  },
  {
   "cell_type": "raw",
   "id": "1c15b3db",
   "metadata": {},
   "source": [
    "adata = sc.read(data_path + 'Lupus_study_adjusted_counts.h5ad')\n",
    "adata = adata[adata.obs.ind_cov.isin(pos.columns)].copy()"
   ]
  },
  {
   "cell_type": "raw",
   "id": "3855e339",
   "metadata": {},
   "source": [
    "adata = adata[adata.obs['cg_cov'] == 'cM'].copy()"
   ]
  },
  {
   "cell_type": "raw",
   "id": "b2bd67d5",
   "metadata": {},
   "source": [
    "filtered_inds = adata.obs['ind_cov'].value_counts()[adata.obs['ind_cov'].value_counts() > 1000].index"
   ]
  },
  {
   "cell_type": "raw",
   "id": "9808dd04",
   "metadata": {},
   "source": [
    "adata = adata[adata.obs['ind_cov'].isin(filtered_inds)].copy()"
   ]
  },
  {
   "cell_type": "raw",
   "id": "0a776dc8",
   "metadata": {},
   "source": [
    "adata.write(data_path + 'Lupus_study_adjusted_counts_cM_filtered.h5ad')"
   ]
  },
  {
   "cell_type": "markdown",
   "id": "6cab6027",
   "metadata": {},
   "source": [
    "### Compare donor resampling vs not"
   ]
  },
  {
   "cell_type": "code",
   "execution_count": 12,
   "id": "d74b3ba7",
   "metadata": {},
   "outputs": [
    {
     "name": "stderr",
     "output_type": "stream",
     "text": [
      "/home/ssm-user/anaconda3/envs/single_cell/lib/python3.8/site-packages/pandas/core/arrays/categorical.py:2631: FutureWarning: The `inplace` parameter in pandas.Categorical.remove_unused_categories is deprecated and will be removed in a future version.\n",
      "  res = method(*args, **kwargs)\n"
     ]
    }
   ],
   "source": [
    "adata = sc.read(data_path + 'Lupus_study_adjusted_counts_cM_filtered.h5ad')\n",
    "adata = adata[adata.obs.ind_cov.isin(pos.columns)].copy()\n",
    "# adata.obs['ind_cov'] = np.random.choice(['d'+str(i) for i in range(30)], size=adata.shape[0])"
   ]
  },
  {
   "cell_type": "code",
   "execution_count": 13,
   "id": "14e5c690",
   "metadata": {},
   "outputs": [],
   "source": [
    "donors = adata.obs[['ind_cov']].drop_duplicates()\n",
    "donors.index = np.arange(donors.shape[0])\n",
    "donors['tx'] = np.random.choice([-1, 1], donors.shape[0])"
   ]
  },
  {
   "cell_type": "code",
   "execution_count": 14,
   "id": "af4a09e1",
   "metadata": {},
   "outputs": [
    {
     "name": "stderr",
     "output_type": "stream",
     "text": [
      "AnnData expects .obs.index to contain strings, but your first indices are: Int64Index([0, 1], dtype='int64'), …\n"
     ]
    }
   ],
   "source": [
    "adata.obs['capture_rate'] = 0.1\n",
    "# adata.obs['tx'] = np.random.choice([-1, 1], size=adata.shape[0])\n",
    "adata.obs = adata.obs.merge(donors, on='ind_cov', how='left')\n",
    "memento.setup_memento(adata, q_column='capture_rate', trim_percent=0.1, filter_mean_thresh=0.01)"
   ]
  },
  {
   "cell_type": "code",
   "execution_count": 15,
   "id": "7b8a436a",
   "metadata": {},
   "outputs": [],
   "source": [
    "# adata.obs['tx'] = np.random.randint(2, size=adata.shape[0])"
   ]
  },
  {
   "cell_type": "code",
   "execution_count": 16,
   "id": "c950f89b",
   "metadata": {},
   "outputs": [
    {
     "data": {
      "text/html": [
       "<div>\n",
       "<style scoped>\n",
       "    .dataframe tbody tr th:only-of-type {\n",
       "        vertical-align: middle;\n",
       "    }\n",
       "\n",
       "    .dataframe tbody tr th {\n",
       "        vertical-align: top;\n",
       "    }\n",
       "\n",
       "    .dataframe thead th {\n",
       "        text-align: right;\n",
       "    }\n",
       "</style>\n",
       "<table border=\"1\" class=\"dataframe\">\n",
       "  <thead>\n",
       "    <tr style=\"text-align: right;\">\n",
       "      <th></th>\n",
       "      <th>batch_cov</th>\n",
       "      <th>ind_cov</th>\n",
       "      <th>Processing_Cohort</th>\n",
       "      <th>louvain</th>\n",
       "      <th>cg_cov</th>\n",
       "      <th>ct_cov</th>\n",
       "      <th>L3</th>\n",
       "      <th>ind_cov_batch_cov</th>\n",
       "      <th>Age</th>\n",
       "      <th>Sex</th>\n",
       "      <th>pop_cov</th>\n",
       "      <th>Status</th>\n",
       "      <th>SLE_status</th>\n",
       "      <th>capture_rate</th>\n",
       "      <th>tx</th>\n",
       "      <th>memento_size_factor</th>\n",
       "    </tr>\n",
       "  </thead>\n",
       "  <tbody>\n",
       "    <tr>\n",
       "      <th>0</th>\n",
       "      <td>dmx_flare2</td>\n",
       "      <td>1791_1791</td>\n",
       "      <td>3.0</td>\n",
       "      <td>0</td>\n",
       "      <td>cM</td>\n",
       "      <td>NaN</td>\n",
       "      <td>0.0</td>\n",
       "      <td>1791_1791:dmx_flare2</td>\n",
       "      <td>66.0</td>\n",
       "      <td>Female</td>\n",
       "      <td>Asian</td>\n",
       "      <td>Managed</td>\n",
       "      <td>SLE</td>\n",
       "      <td>0.1</td>\n",
       "      <td>-1</td>\n",
       "      <td>0.840621</td>\n",
       "    </tr>\n",
       "    <tr>\n",
       "      <th>1</th>\n",
       "      <td>dmx_YE_7-26</td>\n",
       "      <td>1240_1240</td>\n",
       "      <td>2.0</td>\n",
       "      <td>7</td>\n",
       "      <td>cM</td>\n",
       "      <td>NaN</td>\n",
       "      <td>0.0</td>\n",
       "      <td>1240_1240:dmx_YE_7-26</td>\n",
       "      <td>23.0</td>\n",
       "      <td>Female</td>\n",
       "      <td>Asian</td>\n",
       "      <td>Managed</td>\n",
       "      <td>SLE</td>\n",
       "      <td>0.1</td>\n",
       "      <td>-1</td>\n",
       "      <td>1.143437</td>\n",
       "    </tr>\n",
       "  </tbody>\n",
       "</table>\n",
       "</div>"
      ],
      "text/plain": [
       "     batch_cov    ind_cov Processing_Cohort louvain cg_cov ct_cov   L3  \\\n",
       "0   dmx_flare2  1791_1791               3.0       0     cM    NaN  0.0   \n",
       "1  dmx_YE_7-26  1240_1240               2.0       7     cM    NaN  0.0   \n",
       "\n",
       "       ind_cov_batch_cov   Age     Sex pop_cov   Status SLE_status  \\\n",
       "0   1791_1791:dmx_flare2  66.0  Female   Asian  Managed        SLE   \n",
       "1  1240_1240:dmx_YE_7-26  23.0  Female   Asian  Managed        SLE   \n",
       "\n",
       "   capture_rate  tx  memento_size_factor  \n",
       "0           0.1  -1             0.840621  \n",
       "1           0.1  -1             1.143437  "
      ]
     },
     "execution_count": 16,
     "metadata": {},
     "output_type": "execute_result"
    }
   ],
   "source": [
    "adata.obs.head(2)"
   ]
  },
  {
   "cell_type": "code",
   "execution_count": 22,
   "id": "a1f65e5a",
   "metadata": {},
   "outputs": [
    {
     "name": "stderr",
     "output_type": "stream",
     "text": [
      "[Parallel(n_jobs=94)]: Using backend LokyBackend with 94 concurrent workers.\n",
      "[Parallel(n_jobs=94)]: Done  12 tasks      | elapsed:    2.2s\n",
      "[Parallel(n_jobs=94)]: Done 262 tasks      | elapsed:   10.0s\n",
      "[Parallel(n_jobs=94)]: Done 612 tasks      | elapsed:   22.3s\n",
      "[Parallel(n_jobs=94)]: Done 1062 tasks      | elapsed:   37.8s\n",
      "[Parallel(n_jobs=94)]: Done 1333 out of 1333 | elapsed:  1.0min finished\n"
     ]
    }
   ],
   "source": [
    "# Grouped by individual\n",
    "adata1 = adata.copy().copy()\n",
    "memento.create_groups(adata1, label_columns=['tx','ind_cov'])\n",
    "memento.compute_1d_moments(adata1, min_perc_group=.5, gene_list=cbc_eqtls.gene.drop_duplicates().tolist())\n",
    "treatment_df= pd.DataFrame(index=adata1.uns['memento']['groups'])\n",
    "treatment_df['tx'] = treatment_df.index.str.split('^').str[1].astype(float)\n",
    "memento.ht_1d_moments(\n",
    "    adata1, \n",
    "    covariate=pd.DataFrame(np.ones(treatment_df.shape[0]).reshape(-1, 1)),\n",
    "    treatment=treatment_df,\n",
    "#     treatment_for_gene=gene_to_snp,\n",
    "    num_boot=10000, \n",
    "    verbose=1,\n",
    "    num_cpus=94,\n",
    "    resampling='bootstrap',\n",
    "    approx=True,\n",
    "    resample_rep=True)\n",
    "memento_result1 = memento.get_1d_ht_result(adata1)\n"
   ]
  },
  {
   "cell_type": "code",
   "execution_count": 21,
   "id": "cda32fbb",
   "metadata": {},
   "outputs": [
    {
     "data": {
      "text/plain": [
       "(array([886.,  71.,  74.,  61.,  34.,  54.,  27.,  43.,  46.,  37.]),\n",
       " array([0.        , 0.09970178, 0.19940356, 0.29910534, 0.39880712,\n",
       "        0.49850889, 0.59821067, 0.69791245, 0.79761423, 0.89731601,\n",
       "        0.99701779]),\n",
       " <BarContainer object of 10 artists>)"
      ]
     },
     "execution_count": 21,
     "metadata": {},
     "output_type": "execute_result"
    },
    {
     "data": {
      "image/png": "[encoded data removed]",
      "text/plain": [
       "<Figure size 432x288 with 1 Axes>"
      ]
     },
     "metadata": {
      "needs_background": "light"
     },
     "output_type": "display_data"
    }
   ],
   "source": [
    "plt.hist(memento_result1['de_pval'], bins=10)"
   ]
  },
  {
   "cell_type": "code",
   "execution_count": 24,
   "id": "edb5771d",
   "metadata": {},
   "outputs": [
    {
     "data": {
      "text/plain": [
       "(array([117., 144., 145., 122., 129., 129., 122., 146., 140., 139.]),\n",
       " array([9.00283283e-04, 1.00720030e-01, 2.00539777e-01, 3.00359524e-01,\n",
       "        4.00179271e-01, 4.99999018e-01, 5.99818765e-01, 6.99638512e-01,\n",
       "        7.99458258e-01, 8.99278005e-01, 9.99097752e-01]),\n",
       " <BarContainer object of 10 artists>)"
      ]
     },
     "execution_count": 24,
     "metadata": {},
     "output_type": "execute_result"
    },
    {
     "data": {
      "image/png": "[encoded data removed]",
      "text/plain": [
       "<Figure size 432x288 with 1 Axes>"
      ]
     },
     "metadata": {
      "needs_background": "light"
     },
     "output_type": "display_data"
    }
   ],
   "source": [
    "plt.hist(memento_result1['de_pval'], bins=10)"
   ]
  },
  {
   "cell_type": "code",
   "execution_count": null,
   "id": "87da443e",
   "metadata": {},
   "outputs": [],
   "source": []
  },
  {
   "cell_type": "code",
   "execution_count": null,
   "id": "6a54b1cf",
   "metadata": {},
   "outputs": [],
   "source": []
  },
  {
   "cell_type": "markdown",
   "id": "344fbf8a",
   "metadata": {},
   "source": [
    "### Run memento for cbc eQTLs - debug whats going on"
   ]
  },
  {
   "cell_type": "code",
   "execution_count": 12,
   "id": "89f42a08",
   "metadata": {},
   "outputs": [
    {
     "name": "stderr",
     "output_type": "stream",
     "text": [
      "/home/ssm-user/anaconda3/envs/single_cell/lib/python3.8/site-packages/pandas/core/arrays/categorical.py:2631: FutureWarning: The `inplace` parameter in pandas.Categorical.remove_unused_categories is deprecated and will be removed in a future version.\n",
      "  res = method(*args, **kwargs)\n"
     ]
    }
   ],
   "source": [
    "adata = sc.read(data_path + 'Lupus_study_adjusted_counts_cM_filtered.h5ad')\n",
    "adata = adata[adata.obs.ind_cov.isin(pos.columns)].copy()\n",
    "# adata.obs['ind_cov'] = np.random.choice(['d'+str(i) for i in range(30)], size=adata.shape[0])"
   ]
  },
  {
   "cell_type": "code",
   "execution_count": 13,
   "id": "ed890263",
   "metadata": {},
   "outputs": [],
   "source": [
    "donors = adata.obs[['ind_cov']].drop_duplicates()\n",
    "donors.index = np.arange(donors.shape[0])\n",
    "# donors['tx'] = np.random.choice([-1, 1], donors.shape[0])"
   ]
  },
  {
   "cell_type": "code",
   "execution_count": 15,
   "id": "c6f23c93",
   "metadata": {},
   "outputs": [
    {
     "name": "stderr",
     "output_type": "stream",
     "text": [
      "AnnData expects .obs.index to contain strings, but your first indices are: Int64Index([0, 1], dtype='int64'), …\n"
     ]
    }
   ],
   "source": [
    "adata.obs['capture_rate'] = 0.1\n",
    "# adata.obs['tx'] = np.random.choice([-1, 1], size=adata2.shape[0])\n",
    "adata.obs = adata.obs.merge(donors, on='ind_cov', how='left')\n",
    "memento.setup_memento(adata, q_column='capture_rate', trim_percent=0.1, filter_mean_thresh=0.01)"
   ]
  },
  {
   "cell_type": "code",
   "execution_count": 16,
   "id": "747f7eaa",
   "metadata": {},
   "outputs": [],
   "source": [
    "# adata.obs['tx'] = np.random.randint(2, size=adata.shape[0])"
   ]
  },
  {
   "cell_type": "code",
   "execution_count": 17,
   "id": "ccac89f1",
   "metadata": {},
   "outputs": [
    {
     "name": "stderr",
     "output_type": "stream",
     "text": [
      "/home/ssm-user/anaconda3/envs/single_cell/lib/python3.8/site-packages/anndata/_core/anndata.py:119: ImplicitModificationWarning: Transforming to str index.\n",
      "  warnings.warn(\"Transforming to str index.\", ImplicitModificationWarning)\n",
      "[Parallel(n_jobs=94)]: Using backend LokyBackend with 94 concurrent workers.\n",
      "[Parallel(n_jobs=94)]: Done  12 tasks      | elapsed:    8.1s\n",
      "[Parallel(n_jobs=94)]: Done 262 tasks      | elapsed:   15.8s\n",
      "[Parallel(n_jobs=94)]: Done 612 tasks      | elapsed:   27.9s\n",
      "[Parallel(n_jobs=94)]: Done 1062 tasks      | elapsed:   43.0s\n",
      "[Parallel(n_jobs=94)]: Done 1358 out of 1358 | elapsed:  1.1min finished\n"
     ]
    }
   ],
   "source": [
    "# Grouped by individual\n",
    "adata1 = adata.copy().copy()\n",
    "memento.create_groups(adata1, label_columns=['ind_cov'])\n",
    "memento.compute_1d_moments(adata1, min_perc_group=.5, gene_list=cbc_eqtls.gene.drop_duplicates().tolist())\n",
    "treatment_df= pd.DataFrame(index=adata1.uns['memento']['groups'])\n",
    "treatment_df['tx'] = treatment_df.index.str.split('^').str[1].astype(float)\n",
    "memento.ht_1d_moments(\n",
    "    adata1, \n",
    "    covariate=pd.DataFrame(np.ones(treatment_df.shape[0]).reshape(-1, 1)),\n",
    "    treatment=treatment_df,\n",
    "#     treatment_for_gene=gene_to_snp,\n",
    "    num_boot=10000, \n",
    "    verbose=1,\n",
    "    num_cpus=94,\n",
    "    resampling='bootstrap',\n",
    "    approx=False,\n",
    "    resample_rep=True)\n",
    "memento_result1 = memento.get_1d_ht_result(adata1)\n"
   ]
  },
  {
   "cell_type": "code",
   "execution_count": 18,
   "id": "409e8fd8",
   "metadata": {},
   "outputs": [
    {
     "name": "stderr",
     "output_type": "stream",
     "text": [
      "[Parallel(n_jobs=94)]: Using backend LokyBackend with 94 concurrent workers.\n",
      "[Parallel(n_jobs=94)]: Done  12 tasks      | elapsed:    0.2s\n",
      "[Parallel(n_jobs=94)]: Done 340 tasks      | elapsed:    1.9s\n",
      "[Parallel(n_jobs=94)]: Done 1030 tasks      | elapsed:    5.3s\n",
      "[Parallel(n_jobs=94)]: Done 1179 out of 1366 | elapsed:    5.9s remaining:    0.9s\n",
      "[Parallel(n_jobs=94)]: Done 1366 out of 1366 | elapsed:   10.1s finished\n"
     ]
    }
   ],
   "source": [
    "# Grouped by individual\n",
    "adata2 = adata.copy().copy()\n",
    "memento.create_groups(adata2, label_columns=['tx'])\n",
    "memento.compute_1d_moments(adata2, min_perc_group=.5, gene_list=cbc_eqtls.gene.drop_duplicates().tolist())\n",
    "treatment_df= pd.DataFrame(index=adata2.uns['memento']['groups'])\n",
    "treatment_df['tx'] = treatment_df.index.str.split('^').str[1].astype(float)\n",
    "memento.ht_1d_moments(\n",
    "    adata2, \n",
    "    covariate=pd.DataFrame(np.ones(2).reshape(-1, 1)),\n",
    "    treatment=treatment_df,\n",
    "#     treatment_for_gene=gene_to_snp,\n",
    "    num_boot=10000, \n",
    "    verbose=1,\n",
    "    num_cpus=94,\n",
    "    resampling='bootstrap',\n",
    "    approx=False)\n",
    "memento_result2 = memento.get_1d_ht_result(adata2)\n"
   ]
  },
  {
   "cell_type": "code",
   "execution_count": 19,
   "id": "7876a527",
   "metadata": {},
   "outputs": [
    {
     "data": {
      "text/html": [
       "<div>\n",
       "<style scoped>\n",
       "    .dataframe tbody tr th:only-of-type {\n",
       "        vertical-align: middle;\n",
       "    }\n",
       "\n",
       "    .dataframe tbody tr th {\n",
       "        vertical-align: top;\n",
       "    }\n",
       "\n",
       "    .dataframe thead th {\n",
       "        text-align: right;\n",
       "    }\n",
       "</style>\n",
       "<table border=\"1\" class=\"dataframe\">\n",
       "  <thead>\n",
       "    <tr style=\"text-align: right;\">\n",
       "      <th></th>\n",
       "      <th>gene</th>\n",
       "      <th>tx</th>\n",
       "      <th>de_coef</th>\n",
       "      <th>de_se</th>\n",
       "      <th>de_pval</th>\n",
       "      <th>dv_coef</th>\n",
       "      <th>dv_se</th>\n",
       "      <th>dv_pval</th>\n",
       "    </tr>\n",
       "  </thead>\n",
       "  <tbody>\n",
       "    <tr>\n",
       "      <th>0</th>\n",
       "      <td>HES4</td>\n",
       "      <td>tx</td>\n",
       "      <td>0.081075</td>\n",
       "      <td>0.019196</td>\n",
       "      <td>0.001552</td>\n",
       "      <td>0.085401</td>\n",
       "      <td>0.045807</td>\n",
       "      <td>0.063994</td>\n",
       "    </tr>\n",
       "    <tr>\n",
       "      <th>1</th>\n",
       "      <td>SSU72</td>\n",
       "      <td>tx</td>\n",
       "      <td>0.024740</td>\n",
       "      <td>0.006117</td>\n",
       "      <td>0.000367</td>\n",
       "      <td>0.021376</td>\n",
       "      <td>0.036374</td>\n",
       "      <td>0.558144</td>\n",
       "    </tr>\n",
       "  </tbody>\n",
       "</table>\n",
       "</div>"
      ],
      "text/plain": [
       "    gene  tx   de_coef     de_se   de_pval   dv_coef     dv_se   dv_pval\n",
       "0   HES4  tx  0.081075  0.019196  0.001552  0.085401  0.045807  0.063994\n",
       "1  SSU72  tx  0.024740  0.006117  0.000367  0.021376  0.036374  0.558144"
      ]
     },
     "execution_count": 19,
     "metadata": {},
     "output_type": "execute_result"
    }
   ],
   "source": [
    "memento_result2.head(2)"
   ]
  },
  {
   "cell_type": "code",
   "execution_count": 20,
   "id": "fa3e14b7",
   "metadata": {},
   "outputs": [
    {
     "data": {
      "text/html": [
       "<div>\n",
       "<style scoped>\n",
       "    .dataframe tbody tr th:only-of-type {\n",
       "        vertical-align: middle;\n",
       "    }\n",
       "\n",
       "    .dataframe tbody tr th {\n",
       "        vertical-align: top;\n",
       "    }\n",
       "\n",
       "    .dataframe thead th {\n",
       "        text-align: right;\n",
       "    }\n",
       "</style>\n",
       "<table border=\"1\" class=\"dataframe\">\n",
       "  <thead>\n",
       "    <tr style=\"text-align: right;\">\n",
       "      <th></th>\n",
       "      <th>gene</th>\n",
       "      <th>tx</th>\n",
       "      <th>de_coef</th>\n",
       "      <th>de_se</th>\n",
       "      <th>de_pval</th>\n",
       "      <th>dv_coef</th>\n",
       "      <th>dv_se</th>\n",
       "      <th>dv_pval</th>\n",
       "    </tr>\n",
       "  </thead>\n",
       "  <tbody>\n",
       "    <tr>\n",
       "      <th>0</th>\n",
       "      <td>HES4</td>\n",
       "      <td>tx</td>\n",
       "      <td>0.095975</td>\n",
       "      <td>0.027934</td>\n",
       "      <td>0.001585</td>\n",
       "      <td>0.137013</td>\n",
       "      <td>0.051919</td>\n",
       "      <td>0.007299</td>\n",
       "    </tr>\n",
       "    <tr>\n",
       "      <th>1</th>\n",
       "      <td>SSU72</td>\n",
       "      <td>tx</td>\n",
       "      <td>0.022305</td>\n",
       "      <td>0.006318</td>\n",
       "      <td>0.002604</td>\n",
       "      <td>0.025696</td>\n",
       "      <td>0.046818</td>\n",
       "      <td>0.568343</td>\n",
       "    </tr>\n",
       "  </tbody>\n",
       "</table>\n",
       "</div>"
      ],
      "text/plain": [
       "    gene  tx   de_coef     de_se   de_pval   dv_coef     dv_se   dv_pval\n",
       "0   HES4  tx  0.095975  0.027934  0.001585  0.137013  0.051919  0.007299\n",
       "1  SSU72  tx  0.022305  0.006318  0.002604  0.025696  0.046818  0.568343"
      ]
     },
     "execution_count": 20,
     "metadata": {},
     "output_type": "execute_result"
    }
   ],
   "source": [
    "memento_result1.head(2)"
   ]
  },
  {
   "cell_type": "code",
   "execution_count": null,
   "id": "51eae295",
   "metadata": {},
   "outputs": [],
   "source": [
    "plt.hist(memento_result2['dv_pval'], bins=20)"
   ]
  },
  {
   "cell_type": "code",
   "execution_count": 23,
   "id": "ff4b7a97",
   "metadata": {},
   "outputs": [
    {
     "data": {
      "text/plain": [
       "(array([172.,  92.,  78.,  71.,  57.,  66.,  64.,  69.,  53.,  61.,  61.,\n",
       "         59.,  55.,  55.,  60.,  68.,  57.,  34.,  54.,  72.]),\n",
       " array([5.06893060e-06, 4.99648195e-02, 9.99245700e-02, 1.49884321e-01,\n",
       "        1.99844071e-01, 2.49803822e-01, 2.99763572e-01, 3.49723323e-01,\n",
       "        3.99683073e-01, 4.49642824e-01, 4.99602574e-01, 5.49562325e-01,\n",
       "        5.99522076e-01, 6.49481826e-01, 6.99441577e-01, 7.49401327e-01,\n",
       "        7.99361078e-01, 8.49320828e-01, 8.99280579e-01, 9.49240329e-01,\n",
       "        9.99200080e-01]),\n",
       " <BarContainer object of 20 artists>)"
      ]
     },
     "execution_count": 23,
     "metadata": {},
     "output_type": "execute_result"
    },
    {
     "data": {
      "image/png": "[encoded data removed]",
      "text/plain": [
       "<Figure size 432x288 with 1 Axes>"
      ]
     },
     "metadata": {
      "needs_background": "light"
     },
     "output_type": "display_data"
    }
   ],
   "source": [
    "plt.hist(memento_result1['dv_pval'], bins=20)"
   ]
  },
  {
   "cell_type": "code",
   "execution_count": 52,
   "id": "87fc5d02",
   "metadata": {},
   "outputs": [
    {
     "data": {
      "text/html": [
       "<div>\n",
       "<style scoped>\n",
       "    .dataframe tbody tr th:only-of-type {\n",
       "        vertical-align: middle;\n",
       "    }\n",
       "\n",
       "    .dataframe tbody tr th {\n",
       "        vertical-align: top;\n",
       "    }\n",
       "\n",
       "    .dataframe thead th {\n",
       "        text-align: right;\n",
       "    }\n",
       "</style>\n",
       "<table border=\"1\" class=\"dataframe\">\n",
       "  <thead>\n",
       "    <tr style=\"text-align: right;\">\n",
       "      <th></th>\n",
       "      <th>gene</th>\n",
       "      <th>tx</th>\n",
       "      <th>de_coef</th>\n",
       "      <th>de_se</th>\n",
       "      <th>de_pval</th>\n",
       "      <th>dv_coef</th>\n",
       "      <th>dv_se</th>\n",
       "      <th>dv_pval</th>\n",
       "    </tr>\n",
       "  </thead>\n",
       "  <tbody>\n",
       "    <tr>\n",
       "      <th>0</th>\n",
       "      <td>HES4</td>\n",
       "      <td>tx</td>\n",
       "      <td>-0.025783</td>\n",
       "      <td>0.019019</td>\n",
       "      <td>0.174483</td>\n",
       "      <td>0.029507</td>\n",
       "      <td>0.045868</td>\n",
       "      <td>0.524748</td>\n",
       "    </tr>\n",
       "    <tr>\n",
       "      <th>1</th>\n",
       "      <td>SSU72</td>\n",
       "      <td>tx</td>\n",
       "      <td>0.009502</td>\n",
       "      <td>0.006119</td>\n",
       "      <td>0.123288</td>\n",
       "      <td>0.001534</td>\n",
       "      <td>0.035874</td>\n",
       "      <td>0.965003</td>\n",
       "    </tr>\n",
       "  </tbody>\n",
       "</table>\n",
       "</div>"
      ],
      "text/plain": [
       "    gene  tx   de_coef     de_se   de_pval   dv_coef     dv_se   dv_pval\n",
       "0   HES4  tx -0.025783  0.019019  0.174483  0.029507  0.045868  0.524748\n",
       "1  SSU72  tx  0.009502  0.006119  0.123288  0.001534  0.035874  0.965003"
      ]
     },
     "execution_count": 52,
     "metadata": {},
     "output_type": "execute_result"
    }
   ],
   "source": [
    "memento_result2.head(2)"
   ]
  },
  {
   "cell_type": "code",
   "execution_count": null,
   "id": "0d25fc2c",
   "metadata": {},
   "outputs": [],
   "source": []
  },
  {
   "cell_type": "code",
   "execution_count": null,
   "id": "b24d649a",
   "metadata": {},
   "outputs": [],
   "source": []
  },
  {
   "cell_type": "code",
   "execution_count": null,
   "id": "1178a690",
   "metadata": {},
   "outputs": [],
   "source": []
  },
  {
   "cell_type": "code",
   "execution_count": 282,
   "id": "3b835274",
   "metadata": {},
   "outputs": [
    {
     "data": {
      "text/plain": [
       "(89925, 32738)"
      ]
     },
     "execution_count": 282,
     "metadata": {},
     "output_type": "execute_result"
    }
   ],
   "source": [
    "adata.shape"
   ]
  },
  {
   "cell_type": "code",
   "execution_count": 283,
   "id": "a368c6b2",
   "metadata": {},
   "outputs": [],
   "source": [
    "# memento.compute_1d_moments(adata, min_perc_group=.5)"
   ]
  },
  {
   "cell_type": "code",
   "execution_count": 284,
   "id": "374ab827",
   "metadata": {},
   "outputs": [],
   "source": [
    "memento.compute_1d_moments(adata, min_perc_group=.5, gene_list=cbc_eqtls.gene.drop_duplicates().tolist())"
   ]
  },
  {
   "cell_type": "code",
   "execution_count": 285,
   "id": "45902a5e",
   "metadata": {},
   "outputs": [],
   "source": [
    "covariates = pd.read_csv(data_path + 'cm_cg.mateqtl_cov.txt', sep='\\t', index_col=0).T\n",
    "cov_df = covariates[['age', 'Female'] + [x for x in covariates.columns if '_g' in x]].loc[[x[3:] for x in adata.uns['memento']['groups']]]\n",
    "cov_df['donor'] = cov_df.index.values\n",
    "cov_df = pd.get_dummies(cov_df)"
   ]
  },
  {
   "cell_type": "code",
   "execution_count": 286,
   "id": "6c8194fc",
   "metadata": {},
   "outputs": [],
   "source": [
    "treatment_df = pd.DataFrame(index=adata.uns['memento']['groups'])"
   ]
  },
  {
   "cell_type": "code",
   "execution_count": 253,
   "id": "80d5c06a",
   "metadata": {},
   "outputs": [],
   "source": [
    "# treatment_df['tx'] = treatment_df.index.str.split('^').str[1].astype(float)"
   ]
  },
  {
   "cell_type": "code",
   "execution_count": 287,
   "id": "32715186",
   "metadata": {},
   "outputs": [],
   "source": [
    "treatment_df = pd.DataFrame(np.random.choice([-1, 1], size=(cov_df.shape[0], 2)))\n",
    "# treatment_df = pd.DataFrame([[1], [0], [2]])\n"
   ]
  },
  {
   "cell_type": "code",
   "execution_count": 288,
   "id": "04b3f2d2",
   "metadata": {},
   "outputs": [
    {
     "name": "stderr",
     "output_type": "stream",
     "text": [
      "[Parallel(n_jobs=94)]: Using backend LokyBackend with 94 concurrent workers.\n",
      "[Parallel(n_jobs=94)]: Done  13 tasks      | elapsed:   11.1s\n",
      "[Parallel(n_jobs=94)]: Done 263 tasks      | elapsed:   19.9s\n",
      "[Parallel(n_jobs=94)]: Done 613 tasks      | elapsed:   32.5s\n",
      "[Parallel(n_jobs=94)]: Done 1063 tasks      | elapsed:   49.5s\n",
      "[Parallel(n_jobs=94)]: Done 1613 tasks      | elapsed:  1.2min\n",
      "[Parallel(n_jobs=94)]: Done 1944 out of 1944 | elapsed:  1.6min finished\n"
     ]
    }
   ],
   "source": [
    "memento.ht_1d_moments(\n",
    "    adata, \n",
    "    covariate=pd.DataFrame(np.ones(treatment_df.shape[0]).reshape(-1, 1)),\n",
    "    treatment=treatment_df,\n",
    "#     treatment_for_gene=gene_to_snp,\n",
    "    num_boot=10000, \n",
    "    verbose=1,\n",
    "    num_cpus=94,\n",
    "    resampling='bootstrap',\n",
    "    approx=False)"
   ]
  },
  {
   "cell_type": "code",
   "execution_count": 290,
   "id": "be189304",
   "metadata": {},
   "outputs": [],
   "source": [
    "memento_result = memento.get_1d_ht_result(adata)\n"
   ]
  },
  {
   "cell_type": "code",
   "execution_count": 258,
   "id": "3b8aea2f",
   "metadata": {},
   "outputs": [
    {
     "data": {
      "text/html": [
       "<div>\n",
       "<style scoped>\n",
       "    .dataframe tbody tr th:only-of-type {\n",
       "        vertical-align: middle;\n",
       "    }\n",
       "\n",
       "    .dataframe tbody tr th {\n",
       "        vertical-align: top;\n",
       "    }\n",
       "\n",
       "    .dataframe thead th {\n",
       "        text-align: right;\n",
       "    }\n",
       "</style>\n",
       "<table border=\"1\" class=\"dataframe\">\n",
       "  <thead>\n",
       "    <tr style=\"text-align: right;\">\n",
       "      <th></th>\n",
       "      <th>gene</th>\n",
       "      <th>tx</th>\n",
       "      <th>de_coef</th>\n",
       "      <th>de_se</th>\n",
       "      <th>de_pval</th>\n",
       "      <th>dv_coef</th>\n",
       "      <th>dv_se</th>\n",
       "      <th>dv_pval</th>\n",
       "    </tr>\n",
       "  </thead>\n",
       "  <tbody>\n",
       "  </tbody>\n",
       "</table>\n",
       "</div>"
      ],
      "text/plain": [
       "Empty DataFrame\n",
       "Columns: [gene, tx, de_coef, de_se, de_pval, dv_coef, dv_se, dv_pval]\n",
       "Index: []"
      ]
     },
     "execution_count": 258,
     "metadata": {},
     "output_type": "execute_result"
    }
   ],
   "source": [
    "memento_result.query('tx == 0').sort_values('de_coef').head(2)"
   ]
  },
  {
   "cell_type": "code",
   "execution_count": 289,
   "id": "d1c746e2",
   "metadata": {},
   "outputs": [
    {
     "data": {
      "text/plain": [
       "Text(0.5, 1.0, 'eQTL p-values with permutation 1')"
      ]
     },
     "execution_count": 289,
     "metadata": {},
     "output_type": "execute_result"
    },
    {
     "data": {
      "image/png": "[encoded data removed]",
      "text/plain": [
       "<Figure size 432x288 with 1 Axes>"
      ]
     },
     "metadata": {
      "needs_background": "light"
     },
     "output_type": "display_data"
    }
   ],
   "source": [
    "plt.hist(memento_result['de_pval'], bins=20)\n",
    "plt.title('eQTL p-values with permutation 1')"
   ]
  },
  {
   "cell_type": "code",
   "execution_count": 291,
   "id": "471156ac",
   "metadata": {},
   "outputs": [
    {
     "data": {
      "text/plain": [
       "Text(0.5, 1.0, 'eQTL p-values with permutation 2')"
      ]
     },
     "execution_count": 291,
     "metadata": {},
     "output_type": "execute_result"
    },
    {
     "data": {
      "image/png": "[encoded data removed]",
      "text/plain": [
       "<Figure size 432x288 with 1 Axes>"
      ]
     },
     "metadata": {
      "needs_background": "light"
     },
     "output_type": "display_data"
    }
   ],
   "source": [
    "plt.hist(memento_result['de_pval'], bins=20)\n",
    "plt.title('eQTL p-values with permutation 2')"
   ]
  },
  {
   "cell_type": "code",
   "execution_count": 182,
   "id": "17212ad6",
   "metadata": {},
   "outputs": [
    {
     "name": "stderr",
     "output_type": "stream",
     "text": [
      "/home/ssm-user/Github/scrna-parameter-estimation/dist/memento-0.0.8-py3.8.egg/memento/main.py:528: RuntimeWarning: divide by zero encountered in log\n",
      "  moment_mean_df[group] = np.log(val[0])\n"
     ]
    }
   ],
   "source": [
    "df = pd.DataFrame()\n",
    "df['tx'] = treatment_df[0].values\n",
    "df['mean'] = memento.get_1d_moments(adata)[1].query('gene == \"S100P\"').values[0][1:]"
   ]
  },
  {
   "cell_type": "code",
   "execution_count": null,
   "id": "18d7cde2",
   "metadata": {},
   "outputs": [],
   "source": []
  },
  {
   "cell_type": "code",
   "execution_count": null,
   "id": "49942cd4",
   "metadata": {},
   "outputs": [],
   "source": [
    "stats.mannwhitneyu(df.query('tx==1')['mean'], df.query('tx==-1')['mean'])"
   ]
  },
  {
   "cell_type": "code",
   "execution_count": 184,
   "id": "6b672463",
   "metadata": {},
   "outputs": [
    {
     "data": {
      "text/plain": [
       "<AxesSubplot:xlabel='tx', ylabel='mean'>"
      ]
     },
     "execution_count": 184,
     "metadata": {},
     "output_type": "execute_result"
    },
    {
     "data": {
      "image/png": "[encoded data removed]",
      "text/plain": [
       "<Figure size 432x288 with 1 Axes>"
      ]
     },
     "metadata": {
      "needs_background": "light"
     },
     "output_type": "display_data"
    }
   ],
   "source": [
    "sns.boxplot(x='tx', y='mean', data=df)\n",
    "sns.stripplot(x='tx', y='mean', data=df, linewidth=2)"
   ]
  },
  {
   "cell_type": "code",
   "execution_count": 179,
   "id": "d12af52c",
   "metadata": {},
   "outputs": [
    {
     "data": {
      "text/plain": [
       "[<matplotlib.lines.Line2D at 0x7f9246c136d0>]"
      ]
     },
     "execution_count": 179,
     "metadata": {},
     "output_type": "execute_result"
    },
    {
     "data": {
      "image/png": "[encoded data removed]",
      "text/plain": [
       "<Figure size 432x288 with 1 Axes>"
      ]
     },
     "metadata": {
      "needs_background": "light"
     },
     "output_type": "display_data"
    }
   ],
   "source": [
    "sns.kdeplot(memento_result.query('tx == 1')['de_coef'])\n",
    "plt.plot([0, 0], [0, 18])"
   ]
  },
  {
   "cell_type": "code",
   "execution_count": 176,
   "id": "7ea8c9b0",
   "metadata": {},
   "outputs": [
    {
     "data": {
      "text/plain": [
       "[<matplotlib.lines.Line2D at 0x7f927fd90f40>]"
      ]
     },
     "execution_count": 176,
     "metadata": {},
     "output_type": "execute_result"
    },
    {
     "data": {
      "image/png": "[encoded data removed]",
      "text/plain": [
       "<Figure size 432x288 with 1 Axes>"
      ]
     },
     "metadata": {
      "needs_background": "light"
     },
     "output_type": "display_data"
    }
   ],
   "source": [
    "sns.kdeplot(memento_result['de_coef'])\n",
    "plt.plot([0, 0], [0, 18])"
   ]
  },
  {
   "cell_type": "code",
   "execution_count": null,
   "id": "a19dbd90",
   "metadata": {},
   "outputs": [],
   "source": [
    "plt.hist(memento_result['de_pval'], bins=10);"
   ]
  },
  {
   "cell_type": "code",
   "execution_count": 142,
   "id": "206e6221",
   "metadata": {},
   "outputs": [
    {
     "data": {
      "text/html": [
       "<div>\n",
       "<style scoped>\n",
       "    .dataframe tbody tr th:only-of-type {\n",
       "        vertical-align: middle;\n",
       "    }\n",
       "\n",
       "    .dataframe tbody tr th {\n",
       "        vertical-align: top;\n",
       "    }\n",
       "\n",
       "    .dataframe thead th {\n",
       "        text-align: right;\n",
       "    }\n",
       "</style>\n",
       "<table border=\"1\" class=\"dataframe\">\n",
       "  <thead>\n",
       "    <tr style=\"text-align: right;\">\n",
       "      <th></th>\n",
       "      <th>gene</th>\n",
       "      <th>tx</th>\n",
       "      <th>de_coef</th>\n",
       "      <th>de_se</th>\n",
       "      <th>de_pval</th>\n",
       "      <th>dv_coef</th>\n",
       "      <th>dv_se</th>\n",
       "      <th>dv_pval</th>\n",
       "    </tr>\n",
       "  </thead>\n",
       "  <tbody>\n",
       "    <tr>\n",
       "      <th>0</th>\n",
       "      <td>AL627309.1</td>\n",
       "      <td>0</td>\n",
       "      <td>-0.132129</td>\n",
       "      <td>0.054369</td>\n",
       "      <td>0.014099</td>\n",
       "      <td>-0.109140</td>\n",
       "      <td>0.082499</td>\n",
       "      <td>0.197180</td>\n",
       "    </tr>\n",
       "    <tr>\n",
       "      <th>1</th>\n",
       "      <td>AL627309.1</td>\n",
       "      <td>1</td>\n",
       "      <td>-0.135396</td>\n",
       "      <td>0.052860</td>\n",
       "      <td>0.012799</td>\n",
       "      <td>-0.028661</td>\n",
       "      <td>0.080185</td>\n",
       "      <td>0.728527</td>\n",
       "    </tr>\n",
       "    <tr>\n",
       "      <th>2</th>\n",
       "      <td>AP006222.2</td>\n",
       "      <td>0</td>\n",
       "      <td>0.152765</td>\n",
       "      <td>0.058304</td>\n",
       "      <td>0.008799</td>\n",
       "      <td>-0.201142</td>\n",
       "      <td>0.076129</td>\n",
       "      <td>0.006799</td>\n",
       "    </tr>\n",
       "    <tr>\n",
       "      <th>3</th>\n",
       "      <td>AP006222.2</td>\n",
       "      <td>1</td>\n",
       "      <td>-0.078853</td>\n",
       "      <td>0.054623</td>\n",
       "      <td>0.149685</td>\n",
       "      <td>0.073584</td>\n",
       "      <td>0.074079</td>\n",
       "      <td>0.334567</td>\n",
       "    </tr>\n",
       "    <tr>\n",
       "      <th>4</th>\n",
       "      <td>RP11-206L10.3</td>\n",
       "      <td>0</td>\n",
       "      <td>0.025615</td>\n",
       "      <td>0.072559</td>\n",
       "      <td>0.722028</td>\n",
       "      <td>-0.064250</td>\n",
       "      <td>0.061527</td>\n",
       "      <td>0.320368</td>\n",
       "    </tr>\n",
       "    <tr>\n",
       "      <th>...</th>\n",
       "      <td>...</td>\n",
       "      <td>...</td>\n",
       "      <td>...</td>\n",
       "      <td>...</td>\n",
       "      <td>...</td>\n",
       "      <td>...</td>\n",
       "      <td>...</td>\n",
       "      <td>...</td>\n",
       "    </tr>\n",
       "    <tr>\n",
       "      <th>16505</th>\n",
       "      <td>MT-CYB</td>\n",
       "      <td>1</td>\n",
       "      <td>-0.233286</td>\n",
       "      <td>0.005757</td>\n",
       "      <td>0.000032</td>\n",
       "      <td>0.059818</td>\n",
       "      <td>0.065730</td>\n",
       "      <td>0.378062</td>\n",
       "    </tr>\n",
       "    <tr>\n",
       "      <th>16506</th>\n",
       "      <td>AL592183.1</td>\n",
       "      <td>0</td>\n",
       "      <td>0.141936</td>\n",
       "      <td>0.025134</td>\n",
       "      <td>0.000758</td>\n",
       "      <td>-0.010413</td>\n",
       "      <td>0.090251</td>\n",
       "      <td>0.904410</td>\n",
       "    </tr>\n",
       "    <tr>\n",
       "      <th>16507</th>\n",
       "      <td>AL592183.1</td>\n",
       "      <td>1</td>\n",
       "      <td>-0.276548</td>\n",
       "      <td>0.023283</td>\n",
       "      <td>0.000002</td>\n",
       "      <td>0.211576</td>\n",
       "      <td>0.083545</td>\n",
       "      <td>0.012499</td>\n",
       "    </tr>\n",
       "    <tr>\n",
       "      <th>16508</th>\n",
       "      <td>SRSF10-1</td>\n",
       "      <td>0</td>\n",
       "      <td>0.438942</td>\n",
       "      <td>0.094298</td>\n",
       "      <td>0.000243</td>\n",
       "      <td>-0.026859</td>\n",
       "      <td>0.059642</td>\n",
       "      <td>0.672633</td>\n",
       "    </tr>\n",
       "    <tr>\n",
       "      <th>16509</th>\n",
       "      <td>SRSF10-1</td>\n",
       "      <td>1</td>\n",
       "      <td>-0.311931</td>\n",
       "      <td>0.087428</td>\n",
       "      <td>0.000913</td>\n",
       "      <td>0.060694</td>\n",
       "      <td>0.061436</td>\n",
       "      <td>0.337566</td>\n",
       "    </tr>\n",
       "  </tbody>\n",
       "</table>\n",
       "<p>16510 rows × 8 columns</p>\n",
       "</div>"
      ],
      "text/plain": [
       "                gene  tx   de_coef     de_se   de_pval   dv_coef     dv_se  \\\n",
       "0         AL627309.1   0 -0.132129  0.054369  0.014099 -0.109140  0.082499   \n",
       "1         AL627309.1   1 -0.135396  0.052860  0.012799 -0.028661  0.080185   \n",
       "2         AP006222.2   0  0.152765  0.058304  0.008799 -0.201142  0.076129   \n",
       "3         AP006222.2   1 -0.078853  0.054623  0.149685  0.073584  0.074079   \n",
       "4      RP11-206L10.3   0  0.025615  0.072559  0.722028 -0.064250  0.061527   \n",
       "...              ...  ..       ...       ...       ...       ...       ...   \n",
       "16505         MT-CYB   1 -0.233286  0.005757  0.000032  0.059818  0.065730   \n",
       "16506     AL592183.1   0  0.141936  0.025134  0.000758 -0.010413  0.090251   \n",
       "16507     AL592183.1   1 -0.276548  0.023283  0.000002  0.211576  0.083545   \n",
       "16508       SRSF10-1   0  0.438942  0.094298  0.000243 -0.026859  0.059642   \n",
       "16509       SRSF10-1   1 -0.311931  0.087428  0.000913  0.060694  0.061436   \n",
       "\n",
       "        dv_pval  \n",
       "0      0.197180  \n",
       "1      0.728527  \n",
       "2      0.006799  \n",
       "3      0.334567  \n",
       "4      0.320368  \n",
       "...         ...  \n",
       "16505  0.378062  \n",
       "16506  0.904410  \n",
       "16507  0.012499  \n",
       "16508  0.672633  \n",
       "16509  0.337566  \n",
       "\n",
       "[16510 rows x 8 columns]"
      ]
     },
     "execution_count": 142,
     "metadata": {},
     "output_type": "execute_result"
    }
   ],
   "source": [
    "memento_result"
   ]
  },
  {
   "cell_type": "code",
   "execution_count": null,
   "id": "f17960b5",
   "metadata": {},
   "outputs": [],
   "source": []
  },
  {
   "cell_type": "code",
   "execution_count": null,
   "id": "d7d8bc31",
   "metadata": {},
   "outputs": [],
   "source": []
  },
  {
   "cell_type": "code",
   "execution_count": 187,
   "id": "b616b7d5",
   "metadata": {},
   "outputs": [],
   "source": [
    "donor_df = pos[[x[3:] for x in adata.uns['memento']['groups']]].T"
   ]
  },
  {
   "cell_type": "code",
   "execution_count": 190,
   "id": "613d7d4c",
   "metadata": {},
   "outputs": [
    {
     "data": {
      "text/plain": [
       "0    37\n",
       "1    10\n",
       "2     1\n",
       "Name: 1:713977, dtype: int64"
      ]
     },
     "execution_count": 190,
     "metadata": {},
     "output_type": "execute_result"
    }
   ],
   "source": [
    "donor_df['1:713977'].value_counts()"
   ]
  },
  {
   "cell_type": "code",
   "execution_count": 189,
   "id": "2ac205d1",
   "metadata": {},
   "outputs": [
    {
     "data": {
      "text/plain": [
       "0    21\n",
       "1    18\n",
       "2     9\n",
       "Name: 1:706368, dtype: int64"
      ]
     },
     "execution_count": 189,
     "metadata": {},
     "output_type": "execute_result"
    }
   ],
   "source": [
    "donor_df['1:706368'].value_counts()"
   ]
  },
  {
   "cell_type": "code",
   "execution_count": 188,
   "id": "3de6d61f",
   "metadata": {},
   "outputs": [
    {
     "data": {
      "text/html": [
       "<div>\n",
       "<style scoped>\n",
       "    .dataframe tbody tr th:only-of-type {\n",
       "        vertical-align: middle;\n",
       "    }\n",
       "\n",
       "    .dataframe tbody tr th {\n",
       "        vertical-align: top;\n",
       "    }\n",
       "\n",
       "    .dataframe thead th {\n",
       "        text-align: right;\n",
       "    }\n",
       "</style>\n",
       "<table border=\"1\" class=\"dataframe\">\n",
       "  <thead>\n",
       "    <tr style=\"text-align: right;\">\n",
       "      <th>CHROM:POS</th>\n",
       "      <th>1:706368</th>\n",
       "      <th>1:713977</th>\n",
       "      <th>1:714439</th>\n",
       "      <th>1:723891</th>\n",
       "      <th>1:727655</th>\n",
       "      <th>1:729679</th>\n",
       "      <th>1:741267</th>\n",
       "      <th>1:751580</th>\n",
       "      <th>1:752242</th>\n",
       "      <th>1:752566</th>\n",
       "      <th>...</th>\n",
       "      <th>22:51186143</th>\n",
       "      <th>22:51186228</th>\n",
       "      <th>22:51192586</th>\n",
       "      <th>22:51197266</th>\n",
       "      <th>22:51208537</th>\n",
       "      <th>22:51210289</th>\n",
       "      <th>22:51211392</th>\n",
       "      <th>22:51212875</th>\n",
       "      <th>22:51219006</th>\n",
       "      <th>22:51237063</th>\n",
       "    </tr>\n",
       "  </thead>\n",
       "  <tbody>\n",
       "    <tr>\n",
       "      <th>1791_1791</th>\n",
       "      <td>2</td>\n",
       "      <td>0</td>\n",
       "      <td>0</td>\n",
       "      <td>2</td>\n",
       "      <td>0</td>\n",
       "      <td>2</td>\n",
       "      <td>0</td>\n",
       "      <td>0</td>\n",
       "      <td>0</td>\n",
       "      <td>2</td>\n",
       "      <td>...</td>\n",
       "      <td>1</td>\n",
       "      <td>1</td>\n",
       "      <td>0</td>\n",
       "      <td>1</td>\n",
       "      <td>0</td>\n",
       "      <td>1</td>\n",
       "      <td>1</td>\n",
       "      <td>1</td>\n",
       "      <td>0</td>\n",
       "      <td>1</td>\n",
       "    </tr>\n",
       "    <tr>\n",
       "      <th>1240_1240</th>\n",
       "      <td>0</td>\n",
       "      <td>0</td>\n",
       "      <td>0</td>\n",
       "      <td>1</td>\n",
       "      <td>0</td>\n",
       "      <td>1</td>\n",
       "      <td>0</td>\n",
       "      <td>0</td>\n",
       "      <td>0</td>\n",
       "      <td>1</td>\n",
       "      <td>...</td>\n",
       "      <td>1</td>\n",
       "      <td>1</td>\n",
       "      <td>1</td>\n",
       "      <td>1</td>\n",
       "      <td>0</td>\n",
       "      <td>1</td>\n",
       "      <td>1</td>\n",
       "      <td>1</td>\n",
       "      <td>0</td>\n",
       "      <td>1</td>\n",
       "    </tr>\n",
       "  </tbody>\n",
       "</table>\n",
       "<p>2 rows × 4077313 columns</p>\n",
       "</div>"
      ],
      "text/plain": [
       "CHROM:POS  1:706368  1:713977  1:714439  1:723891  1:727655  1:729679  \\\n",
       "1791_1791         2         0         0         2         0         2   \n",
       "1240_1240         0         0         0         1         0         1   \n",
       "\n",
       "CHROM:POS  1:741267  1:751580  1:752242  1:752566  ...  22:51186143  \\\n",
       "1791_1791         0         0         0         2  ...            1   \n",
       "1240_1240         0         0         0         1  ...            1   \n",
       "\n",
       "CHROM:POS  22:51186228  22:51192586  22:51197266  22:51208537  22:51210289  \\\n",
       "1791_1791            1            0            1            0            1   \n",
       "1240_1240            1            1            1            0            1   \n",
       "\n",
       "CHROM:POS  22:51211392  22:51212875  22:51219006  22:51237063  \n",
       "1791_1791            1            1            0            1  \n",
       "1240_1240            1            1            0            1  \n",
       "\n",
       "[2 rows x 4077313 columns]"
      ]
     },
     "execution_count": 188,
     "metadata": {},
     "output_type": "execute_result"
    }
   ],
   "source": [
    "donor_df.head(2)"
   ]
  },
  {
   "cell_type": "code",
   "execution_count": 18,
   "id": "7cd05ab7",
   "metadata": {},
   "outputs": [],
   "source": [
    "gene_to_snp = dict(cbc_eqtls[cbc_eqtls.gene.isin(adata.var.index)].groupby('gene').rsid.apply(list))\n",
    "# gene_to_snp = {'HP':['16:72135014']}"
   ]
  },
  {
   "cell_type": "code",
   "execution_count": 23,
   "id": "79172c5c",
   "metadata": {},
   "outputs": [
    {
     "data": {
      "text/plain": [
       "4"
      ]
     },
     "execution_count": 23,
     "metadata": {},
     "output_type": "execute_result"
    }
   ],
   "source": [
    "np.random.randint(5, size=21000).max()"
   ]
  },
  {
   "cell_type": "code",
   "execution_count": 25,
   "id": "45471fef",
   "metadata": {},
   "outputs": [],
   "source": [
    "# donor_df[donor_df.columns] = np.random.randint(3, size=donor_df.shape)"
   ]
  },
  {
   "cell_type": "code",
   "execution_count": 70,
   "id": "ce72c496",
   "metadata": {},
   "outputs": [],
   "source": [
    "donor_df = pd.DataFrame()\n",
    "donor_df['tx'] = np.random.randint(2, size=cov_df.shape[0])"
   ]
  },
  {
   "cell_type": "code",
   "execution_count": 72,
   "id": "877b4658",
   "metadata": {},
   "outputs": [
    {
     "name": "stderr",
     "output_type": "stream",
     "text": [
      "[Parallel(n_jobs=94)]: Using backend LokyBackend with 94 concurrent workers.\n",
      "[Parallel(n_jobs=94)]: Done  12 tasks      | elapsed:    8.0s\n",
      "[Parallel(n_jobs=94)]: Done 262 tasks      | elapsed:   17.0s\n",
      "[Parallel(n_jobs=94)]: Done 612 tasks      | elapsed:   29.3s\n",
      "[Parallel(n_jobs=94)]: Done 1062 tasks      | elapsed:   45.9s\n",
      "[Parallel(n_jobs=94)]: Done 1612 tasks      | elapsed:  1.1min\n",
      "[Parallel(n_jobs=94)]: Done 1944 out of 1944 | elapsed:  1.5min finished\n"
     ]
    }
   ],
   "source": [
    "memento.ht_1d_moments(\n",
    "    adata, \n",
    "    covariate=pd.DataFrame(np.ones(cov_df.shape[0]).reshape(-1, 1)),\n",
    "    treatment=donor_df,\n",
    "#     treatment_for_gene=gene_to_snp,\n",
    "    num_boot=10000, \n",
    "    verbose=1,\n",
    "    num_cpus=94,\n",
    "    resampling='bootstrap',\n",
    "    approx=False)"
   ]
  },
  {
   "cell_type": "code",
   "execution_count": 73,
   "id": "37f3dd2e",
   "metadata": {},
   "outputs": [],
   "source": [
    "memento_result = memento.get_1d_ht_result(adata).rename(columns={'tx':'rsid'})\n"
   ]
  },
  {
   "cell_type": "code",
   "execution_count": 77,
   "id": "fb55c411",
   "metadata": {},
   "outputs": [
    {
     "data": {
      "text/plain": [
       "<AxesSubplot:xlabel='de_coef', ylabel='Density'>"
      ]
     },
     "execution_count": 77,
     "metadata": {},
     "output_type": "execute_result"
    },
    {
     "data": {
      "image/png": "[encoded data removed]",
      "text/plain": [
       "<Figure size 432x288 with 1 Axes>"
      ]
     },
     "metadata": {
      "needs_background": "light"
     },
     "output_type": "display_data"
    }
   ],
   "source": [
    "sns.kdeplot(memento_result['de_coef'])"
   ]
  },
  {
   "cell_type": "code",
   "execution_count": 75,
   "id": "16c41590",
   "metadata": {},
   "outputs": [
    {
     "data": {
      "text/html": [
       "<div>\n",
       "<style scoped>\n",
       "    .dataframe tbody tr th:only-of-type {\n",
       "        vertical-align: middle;\n",
       "    }\n",
       "\n",
       "    .dataframe tbody tr th {\n",
       "        vertical-align: top;\n",
       "    }\n",
       "\n",
       "    .dataframe thead th {\n",
       "        text-align: right;\n",
       "    }\n",
       "</style>\n",
       "<table border=\"1\" class=\"dataframe\">\n",
       "  <thead>\n",
       "    <tr style=\"text-align: right;\">\n",
       "      <th></th>\n",
       "      <th>gene</th>\n",
       "      <th>rsid</th>\n",
       "      <th>de_coef</th>\n",
       "      <th>de_se</th>\n",
       "      <th>de_pval</th>\n",
       "      <th>dv_coef</th>\n",
       "      <th>dv_se</th>\n",
       "      <th>dv_pval</th>\n",
       "    </tr>\n",
       "  </thead>\n",
       "  <tbody>\n",
       "    <tr>\n",
       "      <th>0</th>\n",
       "      <td>HES4</td>\n",
       "      <td>tx</td>\n",
       "      <td>0.218775</td>\n",
       "      <td>0.053809</td>\n",
       "      <td>3.236485e-04</td>\n",
       "      <td>-0.107955</td>\n",
       "      <td>0.103691</td>\n",
       "      <td>0.307769</td>\n",
       "    </tr>\n",
       "    <tr>\n",
       "      <th>1</th>\n",
       "      <td>SSU72</td>\n",
       "      <td>tx</td>\n",
       "      <td>0.062554</td>\n",
       "      <td>0.012637</td>\n",
       "      <td>8.826821e-04</td>\n",
       "      <td>-0.129384</td>\n",
       "      <td>0.094095</td>\n",
       "      <td>0.164584</td>\n",
       "    </tr>\n",
       "    <tr>\n",
       "      <th>2</th>\n",
       "      <td>LRRC47</td>\n",
       "      <td>tx</td>\n",
       "      <td>0.114076</td>\n",
       "      <td>0.036927</td>\n",
       "      <td>1.699830e-03</td>\n",
       "      <td>0.041390</td>\n",
       "      <td>0.068808</td>\n",
       "      <td>0.544346</td>\n",
       "    </tr>\n",
       "    <tr>\n",
       "      <th>3</th>\n",
       "      <td>KCNAB2</td>\n",
       "      <td>tx</td>\n",
       "      <td>0.119184</td>\n",
       "      <td>0.024204</td>\n",
       "      <td>8.861533e-05</td>\n",
       "      <td>-0.003177</td>\n",
       "      <td>0.095614</td>\n",
       "      <td>0.974603</td>\n",
       "    </tr>\n",
       "    <tr>\n",
       "      <th>4</th>\n",
       "      <td>ICMT</td>\n",
       "      <td>tx</td>\n",
       "      <td>0.044367</td>\n",
       "      <td>0.068866</td>\n",
       "      <td>5.175482e-01</td>\n",
       "      <td>-0.037150</td>\n",
       "      <td>0.081294</td>\n",
       "      <td>0.662934</td>\n",
       "    </tr>\n",
       "    <tr>\n",
       "      <th>...</th>\n",
       "      <td>...</td>\n",
       "      <td>...</td>\n",
       "      <td>...</td>\n",
       "      <td>...</td>\n",
       "      <td>...</td>\n",
       "      <td>...</td>\n",
       "      <td>...</td>\n",
       "      <td>...</td>\n",
       "    </tr>\n",
       "    <tr>\n",
       "      <th>1939</th>\n",
       "      <td>ITGB2</td>\n",
       "      <td>tx</td>\n",
       "      <td>0.312074</td>\n",
       "      <td>0.007514</td>\n",
       "      <td>9.535716e-09</td>\n",
       "      <td>-0.167875</td>\n",
       "      <td>0.047701</td>\n",
       "      <td>0.001200</td>\n",
       "    </tr>\n",
       "    <tr>\n",
       "      <th>1940</th>\n",
       "      <td>ITGB2-AS1</td>\n",
       "      <td>tx</td>\n",
       "      <td>0.103896</td>\n",
       "      <td>0.028800</td>\n",
       "      <td>9.332363e-04</td>\n",
       "      <td>-0.021745</td>\n",
       "      <td>0.087807</td>\n",
       "      <td>0.799020</td>\n",
       "    </tr>\n",
       "    <tr>\n",
       "      <th>1941</th>\n",
       "      <td>FAM207A</td>\n",
       "      <td>tx</td>\n",
       "      <td>0.084091</td>\n",
       "      <td>0.026994</td>\n",
       "      <td>1.699830e-03</td>\n",
       "      <td>0.153363</td>\n",
       "      <td>0.090927</td>\n",
       "      <td>0.091091</td>\n",
       "    </tr>\n",
       "    <tr>\n",
       "      <th>1942</th>\n",
       "      <td>YBEY</td>\n",
       "      <td>tx</td>\n",
       "      <td>-0.104484</td>\n",
       "      <td>0.032165</td>\n",
       "      <td>1.299870e-03</td>\n",
       "      <td>-0.038128</td>\n",
       "      <td>0.083970</td>\n",
       "      <td>0.649535</td>\n",
       "    </tr>\n",
       "    <tr>\n",
       "      <th>1943</th>\n",
       "      <td>PRMT2</td>\n",
       "      <td>tx</td>\n",
       "      <td>0.088250</td>\n",
       "      <td>0.018626</td>\n",
       "      <td>2.064959e-04</td>\n",
       "      <td>0.072514</td>\n",
       "      <td>0.083699</td>\n",
       "      <td>0.384262</td>\n",
       "    </tr>\n",
       "  </tbody>\n",
       "</table>\n",
       "<p>1944 rows × 8 columns</p>\n",
       "</div>"
      ],
      "text/plain": [
       "           gene rsid   de_coef     de_se       de_pval   dv_coef     dv_se  \\\n",
       "0          HES4   tx  0.218775  0.053809  3.236485e-04 -0.107955  0.103691   \n",
       "1         SSU72   tx  0.062554  0.012637  8.826821e-04 -0.129384  0.094095   \n",
       "2        LRRC47   tx  0.114076  0.036927  1.699830e-03  0.041390  0.068808   \n",
       "3        KCNAB2   tx  0.119184  0.024204  8.861533e-05 -0.003177  0.095614   \n",
       "4          ICMT   tx  0.044367  0.068866  5.175482e-01 -0.037150  0.081294   \n",
       "...         ...  ...       ...       ...           ...       ...       ...   \n",
       "1939      ITGB2   tx  0.312074  0.007514  9.535716e-09 -0.167875  0.047701   \n",
       "1940  ITGB2-AS1   tx  0.103896  0.028800  9.332363e-04 -0.021745  0.087807   \n",
       "1941    FAM207A   tx  0.084091  0.026994  1.699830e-03  0.153363  0.090927   \n",
       "1942       YBEY   tx -0.104484  0.032165  1.299870e-03 -0.038128  0.083970   \n",
       "1943      PRMT2   tx  0.088250  0.018626  2.064959e-04  0.072514  0.083699   \n",
       "\n",
       "       dv_pval  \n",
       "0     0.307769  \n",
       "1     0.164584  \n",
       "2     0.544346  \n",
       "3     0.974603  \n",
       "4     0.662934  \n",
       "...        ...  \n",
       "1939  0.001200  \n",
       "1940  0.799020  \n",
       "1941  0.091091  \n",
       "1942  0.649535  \n",
       "1943  0.384262  \n",
       "\n",
       "[1944 rows x 8 columns]"
      ]
     },
     "execution_count": 75,
     "metadata": {},
     "output_type": "execute_result"
    }
   ],
   "source": [
    "memento_result"
   ]
  },
  {
   "cell_type": "code",
   "execution_count": 74,
   "id": "bd13a35c",
   "metadata": {},
   "outputs": [
    {
     "data": {
      "text/plain": [
       "(array([1516.,  111.,   62.,   46.,   39.,   45.,   42.,   26.,   31.,\n",
       "          26.]),\n",
       " array([9.53571602e-09, 9.95600526e-02, 1.99120096e-01, 2.98680139e-01,\n",
       "        3.98240182e-01, 4.97800225e-01, 5.97360268e-01, 6.96920311e-01,\n",
       "        7.96480354e-01, 8.96040397e-01, 9.95600440e-01]),\n",
       " <BarContainer object of 10 artists>)"
      ]
     },
     "execution_count": 74,
     "metadata": {},
     "output_type": "execute_result"
    },
    {
     "data": {
      "image/png": "[encoded data removed]",
      "text/plain": [
       "<Figure size 432x288 with 1 Axes>"
      ]
     },
     "metadata": {
      "needs_background": "light"
     },
     "output_type": "display_data"
    }
   ],
   "source": [
    "plt.hist(memento_result['de_pval'])"
   ]
  },
  {
   "cell_type": "code",
   "execution_count": 97,
   "id": "61d4dcf9",
   "metadata": {},
   "outputs": [],
   "source": [
    "test = donor_df[['16:72165986']].copy()\n",
    "test['mean'] = memento.get_1d_moments(adata)[0][['sg^' + x for x in test.index]].values.reshape(-1)"
   ]
  },
  {
   "cell_type": "code",
   "execution_count": 100,
   "id": "958b1cfe",
   "metadata": {},
   "outputs": [
    {
     "data": {
      "text/html": [
       "<div>\n",
       "<style scoped>\n",
       "    .dataframe tbody tr th:only-of-type {\n",
       "        vertical-align: middle;\n",
       "    }\n",
       "\n",
       "    .dataframe tbody tr th {\n",
       "        vertical-align: top;\n",
       "    }\n",
       "\n",
       "    .dataframe thead th {\n",
       "        text-align: right;\n",
       "    }\n",
       "</style>\n",
       "<table border=\"1\" class=\"dataframe\">\n",
       "  <thead>\n",
       "    <tr style=\"text-align: right;\">\n",
       "      <th></th>\n",
       "      <th>age</th>\n",
       "      <th>Female</th>\n",
       "      <th>PC1_g</th>\n",
       "      <th>PC2_g</th>\n",
       "      <th>PC3_g</th>\n",
       "      <th>PC4_g</th>\n",
       "      <th>PC5_g</th>\n",
       "      <th>PC6_g</th>\n",
       "      <th>PC7_g</th>\n",
       "      <th>donor_1045_1045</th>\n",
       "      <th>...</th>\n",
       "      <th>donor_1743_1743</th>\n",
       "      <th>donor_1754_1754</th>\n",
       "      <th>donor_1763_1763</th>\n",
       "      <th>donor_1768_1768</th>\n",
       "      <th>donor_1771_1771</th>\n",
       "      <th>donor_1772_1772</th>\n",
       "      <th>donor_1791_1791</th>\n",
       "      <th>donor_1804_1804</th>\n",
       "      <th>donor_1888_1888</th>\n",
       "      <th>donor_2061_2061</th>\n",
       "    </tr>\n",
       "  </thead>\n",
       "  <tbody>\n",
       "    <tr>\n",
       "      <th>1791_1791</th>\n",
       "      <td>66.0</td>\n",
       "      <td>0.0</td>\n",
       "      <td>0.0411</td>\n",
       "      <td>-0.0435</td>\n",
       "      <td>0.0348</td>\n",
       "      <td>0.0019</td>\n",
       "      <td>0.1033</td>\n",
       "      <td>-0.0919</td>\n",
       "      <td>0.0191</td>\n",
       "      <td>0</td>\n",
       "      <td>...</td>\n",
       "      <td>0</td>\n",
       "      <td>0</td>\n",
       "      <td>0</td>\n",
       "      <td>0</td>\n",
       "      <td>0</td>\n",
       "      <td>0</td>\n",
       "      <td>1</td>\n",
       "      <td>0</td>\n",
       "      <td>0</td>\n",
       "      <td>0</td>\n",
       "    </tr>\n",
       "    <tr>\n",
       "      <th>1240_1240</th>\n",
       "      <td>23.0</td>\n",
       "      <td>0.0</td>\n",
       "      <td>-0.0049</td>\n",
       "      <td>0.2181</td>\n",
       "      <td>-0.0730</td>\n",
       "      <td>-0.0005</td>\n",
       "      <td>-0.1076</td>\n",
       "      <td>0.0217</td>\n",
       "      <td>-0.0766</td>\n",
       "      <td>0</td>\n",
       "      <td>...</td>\n",
       "      <td>0</td>\n",
       "      <td>0</td>\n",
       "      <td>0</td>\n",
       "      <td>0</td>\n",
       "      <td>0</td>\n",
       "      <td>0</td>\n",
       "      <td>0</td>\n",
       "      <td>0</td>\n",
       "      <td>0</td>\n",
       "      <td>0</td>\n",
       "    </tr>\n",
       "  </tbody>\n",
       "</table>\n",
       "<p>2 rows × 57 columns</p>\n",
       "</div>"
      ],
      "text/plain": [
       "            age  Female   PC1_g   PC2_g   PC3_g   PC4_g   PC5_g   PC6_g  \\\n",
       "1791_1791  66.0     0.0  0.0411 -0.0435  0.0348  0.0019  0.1033 -0.0919   \n",
       "1240_1240  23.0     0.0 -0.0049  0.2181 -0.0730 -0.0005 -0.1076  0.0217   \n",
       "\n",
       "            PC7_g  donor_1045_1045  ...  donor_1743_1743  donor_1754_1754  \\\n",
       "1791_1791  0.0191                0  ...                0                0   \n",
       "1240_1240 -0.0766                0  ...                0                0   \n",
       "\n",
       "           donor_1763_1763  donor_1768_1768  donor_1771_1771  donor_1772_1772  \\\n",
       "1791_1791                0                0                0                0   \n",
       "1240_1240                0                0                0                0   \n",
       "\n",
       "           donor_1791_1791  donor_1804_1804  donor_1888_1888  donor_2061_2061  \n",
       "1791_1791                1                0                0                0  \n",
       "1240_1240                0                0                0                0  \n",
       "\n",
       "[2 rows x 57 columns]"
      ]
     },
     "execution_count": 100,
     "metadata": {},
     "output_type": "execute_result"
    }
   ],
   "source": [
    "cov_df.head(2)"
   ]
  },
  {
   "cell_type": "code",
   "execution_count": null,
   "id": "39048a11",
   "metadata": {},
   "outputs": [],
   "source": []
  },
  {
   "cell_type": "code",
   "execution_count": 83,
   "id": "bd22f69f",
   "metadata": {},
   "outputs": [
    {
     "data": {
      "text/html": [
       "<div>\n",
       "<style scoped>\n",
       "    .dataframe tbody tr th:only-of-type {\n",
       "        vertical-align: middle;\n",
       "    }\n",
       "\n",
       "    .dataframe tbody tr th {\n",
       "        vertical-align: top;\n",
       "    }\n",
       "\n",
       "    .dataframe thead th {\n",
       "        text-align: right;\n",
       "    }\n",
       "</style>\n",
       "<table border=\"1\" class=\"dataframe\">\n",
       "  <thead>\n",
       "    <tr style=\"text-align: right;\">\n",
       "      <th></th>\n",
       "      <th>gene</th>\n",
       "      <th>rsid</th>\n",
       "      <th>de_coef</th>\n",
       "      <th>de_se</th>\n",
       "      <th>de_pval</th>\n",
       "      <th>dv_coef</th>\n",
       "      <th>dv_se</th>\n",
       "      <th>dv_pval</th>\n",
       "    </tr>\n",
       "  </thead>\n",
       "  <tbody>\n",
       "    <tr>\n",
       "      <th>0</th>\n",
       "      <td>HP</td>\n",
       "      <td>16:72135014</td>\n",
       "      <td>4.515063</td>\n",
       "      <td>0.158239</td>\n",
       "      <td>1.800353e-07</td>\n",
       "      <td>1.594096</td>\n",
       "      <td>0.333995</td>\n",
       "      <td>0.0002</td>\n",
       "    </tr>\n",
       "  </tbody>\n",
       "</table>\n",
       "</div>"
      ],
      "text/plain": [
       "  gene         rsid   de_coef     de_se       de_pval   dv_coef     dv_se  \\\n",
       "0   HP  16:72135014  4.515063  0.158239  1.800353e-07  1.594096  0.333995   \n",
       "\n",
       "   dv_pval  \n",
       "0   0.0002  "
      ]
     },
     "execution_count": 83,
     "metadata": {},
     "output_type": "execute_result"
    }
   ],
   "source": [
    "memento_result"
   ]
  },
  {
   "cell_type": "code",
   "execution_count": null,
   "id": "9ac6681c",
   "metadata": {},
   "outputs": [],
   "source": [
    "# memento_result.to_csv(data_path + 'cbc_eqtl_memento_cov_donor.csv', index=False)"
   ]
  },
  {
   "cell_type": "markdown",
   "id": "a7170033",
   "metadata": {},
   "source": [
    "### CBC eqtls"
   ]
  },
  {
   "cell_type": "code",
   "execution_count": 13,
   "id": "205fda20",
   "metadata": {},
   "outputs": [],
   "source": [
    "memento_nocov = pd.read_csv(data_path + 'cbc_eqtl_memento.csv')\n",
    "memento_cov = pd.read_csv(data_path + 'cbc_eqtl_memento_cov.csv')"
   ]
  },
  {
   "cell_type": "code",
   "execution_count": 48,
   "id": "f120e3a7",
   "metadata": {},
   "outputs": [],
   "source": [
    "memento_result = memento_result.drop_duplicates(['de_coef'])"
   ]
  },
  {
   "cell_type": "code",
   "execution_count": 60,
   "id": "7e2a69b4",
   "metadata": {},
   "outputs": [],
   "source": [
    "memento_result['de_fdr'] = memento.util._fdrcorrect(memento_result['de_pval'])"
   ]
  },
  {
   "cell_type": "code",
   "execution_count": 62,
   "id": "5053fbf4",
   "metadata": {},
   "outputs": [
    {
     "data": {
      "text/html": [
       "<div>\n",
       "<style scoped>\n",
       "    .dataframe tbody tr th:only-of-type {\n",
       "        vertical-align: middle;\n",
       "    }\n",
       "\n",
       "    .dataframe tbody tr th {\n",
       "        vertical-align: top;\n",
       "    }\n",
       "\n",
       "    .dataframe thead th {\n",
       "        text-align: right;\n",
       "    }\n",
       "</style>\n",
       "<table border=\"1\" class=\"dataframe\">\n",
       "  <thead>\n",
       "    <tr style=\"text-align: right;\">\n",
       "      <th></th>\n",
       "      <th>gene</th>\n",
       "      <th>rsid</th>\n",
       "      <th>de_coef</th>\n",
       "      <th>de_se</th>\n",
       "      <th>de_pval</th>\n",
       "      <th>dv_coef</th>\n",
       "      <th>dv_se</th>\n",
       "      <th>dv_pval</th>\n",
       "      <th>de_fdr</th>\n",
       "    </tr>\n",
       "  </thead>\n",
       "  <tbody>\n",
       "    <tr>\n",
       "      <th>340</th>\n",
       "      <td>HLA-DRB5</td>\n",
       "      <td>6:32545816</td>\n",
       "      <td>-1.293518</td>\n",
       "      <td>0.042350</td>\n",
       "      <td>3.294199e-05</td>\n",
       "      <td>-0.231091</td>\n",
       "      <td>0.089692</td>\n",
       "      <td>0.009999</td>\n",
       "      <td>0.000664</td>\n",
       "    </tr>\n",
       "    <tr>\n",
       "      <th>8</th>\n",
       "      <td>S100P</td>\n",
       "      <td>4:6688349</td>\n",
       "      <td>-1.020019</td>\n",
       "      <td>0.116504</td>\n",
       "      <td>9.709989e-07</td>\n",
       "      <td>-0.408144</td>\n",
       "      <td>0.204250</td>\n",
       "      <td>0.046495</td>\n",
       "      <td>0.000142</td>\n",
       "    </tr>\n",
       "    <tr>\n",
       "      <th>399</th>\n",
       "      <td>HLA-DRB5</td>\n",
       "      <td>6:32554197</td>\n",
       "      <td>-0.991277</td>\n",
       "      <td>0.027831</td>\n",
       "      <td>1.933936e-07</td>\n",
       "      <td>-0.277704</td>\n",
       "      <td>0.066437</td>\n",
       "      <td>0.000404</td>\n",
       "      <td>0.000048</td>\n",
       "    </tr>\n",
       "    <tr>\n",
       "      <th>400</th>\n",
       "      <td>HLA-DRB5</td>\n",
       "      <td>6:32554197</td>\n",
       "      <td>-0.991277</td>\n",
       "      <td>0.027831</td>\n",
       "      <td>1.933936e-07</td>\n",
       "      <td>-0.277704</td>\n",
       "      <td>0.066437</td>\n",
       "      <td>0.000404</td>\n",
       "      <td>0.000048</td>\n",
       "    </tr>\n",
       "    <tr>\n",
       "      <th>401</th>\n",
       "      <td>HLA-DRB5</td>\n",
       "      <td>6:32554197</td>\n",
       "      <td>-0.991277</td>\n",
       "      <td>0.027831</td>\n",
       "      <td>1.933936e-07</td>\n",
       "      <td>-0.277704</td>\n",
       "      <td>0.066437</td>\n",
       "      <td>0.000404</td>\n",
       "      <td>0.000048</td>\n",
       "    </tr>\n",
       "    <tr>\n",
       "      <th>...</th>\n",
       "      <td>...</td>\n",
       "      <td>...</td>\n",
       "      <td>...</td>\n",
       "      <td>...</td>\n",
       "      <td>...</td>\n",
       "      <td>...</td>\n",
       "      <td>...</td>\n",
       "      <td>...</td>\n",
       "      <td>...</td>\n",
       "    </tr>\n",
       "    <tr>\n",
       "      <th>1</th>\n",
       "      <td>SIGLEC14</td>\n",
       "      <td>19:52119546</td>\n",
       "      <td>0.910100</td>\n",
       "      <td>0.086029</td>\n",
       "      <td>8.373470e-06</td>\n",
       "      <td>0.092016</td>\n",
       "      <td>0.099736</td>\n",
       "      <td>0.367763</td>\n",
       "      <td>0.000463</td>\n",
       "    </tr>\n",
       "    <tr>\n",
       "      <th>2</th>\n",
       "      <td>UTS2</td>\n",
       "      <td>1:7981453</td>\n",
       "      <td>0.948542</td>\n",
       "      <td>0.083829</td>\n",
       "      <td>2.808871e-05</td>\n",
       "      <td>0.121065</td>\n",
       "      <td>0.054670</td>\n",
       "      <td>0.026797</td>\n",
       "      <td>0.000652</td>\n",
       "    </tr>\n",
       "    <tr>\n",
       "      <th>252</th>\n",
       "      <td>HLA-DRB5</td>\n",
       "      <td>6:32502374</td>\n",
       "      <td>1.041936</td>\n",
       "      <td>0.018910</td>\n",
       "      <td>4.973360e-07</td>\n",
       "      <td>0.142334</td>\n",
       "      <td>0.052358</td>\n",
       "      <td>0.007799</td>\n",
       "      <td>0.000094</td>\n",
       "    </tr>\n",
       "    <tr>\n",
       "      <th>254</th>\n",
       "      <td>HLA-DRB5</td>\n",
       "      <td>6:32502465</td>\n",
       "      <td>1.085360</td>\n",
       "      <td>0.020431</td>\n",
       "      <td>6.310660e-07</td>\n",
       "      <td>0.255210</td>\n",
       "      <td>0.053597</td>\n",
       "      <td>0.000374</td>\n",
       "      <td>0.000108</td>\n",
       "    </tr>\n",
       "    <tr>\n",
       "      <th>266</th>\n",
       "      <td>HLA-DRB5</td>\n",
       "      <td>6:32505249</td>\n",
       "      <td>1.085360</td>\n",
       "      <td>0.020431</td>\n",
       "      <td>6.310660e-07</td>\n",
       "      <td>0.255210</td>\n",
       "      <td>0.053597</td>\n",
       "      <td>0.000374</td>\n",
       "      <td>0.000108</td>\n",
       "    </tr>\n",
       "  </tbody>\n",
       "</table>\n",
       "<p>11308 rows × 9 columns</p>\n",
       "</div>"
      ],
      "text/plain": [
       "         gene         rsid   de_coef     de_se       de_pval   dv_coef  \\\n",
       "340  HLA-DRB5   6:32545816 -1.293518  0.042350  3.294199e-05 -0.231091   \n",
       "8       S100P    4:6688349 -1.020019  0.116504  9.709989e-07 -0.408144   \n",
       "399  HLA-DRB5   6:32554197 -0.991277  0.027831  1.933936e-07 -0.277704   \n",
       "400  HLA-DRB5   6:32554197 -0.991277  0.027831  1.933936e-07 -0.277704   \n",
       "401  HLA-DRB5   6:32554197 -0.991277  0.027831  1.933936e-07 -0.277704   \n",
       "..        ...          ...       ...       ...           ...       ...   \n",
       "1    SIGLEC14  19:52119546  0.910100  0.086029  8.373470e-06  0.092016   \n",
       "2        UTS2    1:7981453  0.948542  0.083829  2.808871e-05  0.121065   \n",
       "252  HLA-DRB5   6:32502374  1.041936  0.018910  4.973360e-07  0.142334   \n",
       "254  HLA-DRB5   6:32502465  1.085360  0.020431  6.310660e-07  0.255210   \n",
       "266  HLA-DRB5   6:32505249  1.085360  0.020431  6.310660e-07  0.255210   \n",
       "\n",
       "        dv_se   dv_pval    de_fdr  \n",
       "340  0.089692  0.009999  0.000664  \n",
       "8    0.204250  0.046495  0.000142  \n",
       "399  0.066437  0.000404  0.000048  \n",
       "400  0.066437  0.000404  0.000048  \n",
       "401  0.066437  0.000404  0.000048  \n",
       "..        ...       ...       ...  \n",
       "1    0.099736  0.367763  0.000463  \n",
       "2    0.054670  0.026797  0.000652  \n",
       "252  0.052358  0.007799  0.000094  \n",
       "254  0.053597  0.000374  0.000108  \n",
       "266  0.053597  0.000374  0.000108  \n",
       "\n",
       "[11308 rows x 9 columns]"
      ]
     },
     "execution_count": 62,
     "metadata": {},
     "output_type": "execute_result"
    }
   ],
   "source": [
    "memento_result.query('de_fdr < 0.001').sort_values('de_coef')"
   ]
  },
  {
   "cell_type": "code",
   "execution_count": 67,
   "id": "bac22711",
   "metadata": {},
   "outputs": [
    {
     "name": "stderr",
     "output_type": "stream",
     "text": [
      "/home/ssm-user/Github/scrna-parameter-estimation/dist/memento-0.0.8-py3.8.egg/memento/main.py:528: RuntimeWarning: divide by zero encountered in log\n"
     ]
    }
   ],
   "source": [
    "df = pd.DataFrame()\n",
    "df['geno'] = donor_df['1:7981453'].values\n",
    "df['mean'] = memento.get_1d_moments(adata)[1].query('gene == \"UTS2\"').values[0][1:]"
   ]
  },
  {
   "cell_type": "code",
   "execution_count": 68,
   "id": "d7ca4178",
   "metadata": {},
   "outputs": [
    {
     "data": {
      "text/plain": [
       "<AxesSubplot:xlabel='geno', ylabel='mean'>"
      ]
     },
     "execution_count": 68,
     "metadata": {},
     "output_type": "execute_result"
    },
    {
     "data": {
      "image/png": "[encoded data removed]",
      "text/plain": [
       "<Figure size 432x288 with 1 Axes>"
      ]
     },
     "metadata": {
      "needs_background": "light"
     },
     "output_type": "display_data"
    }
   ],
   "source": [
    "sns.boxplot(x='geno', y='mean', data=df)\n",
    "sns.stripplot(x='geno', y='mean', data=df, linewidth=2)"
   ]
  },
  {
   "cell_type": "code",
   "execution_count": 54,
   "id": "01d38560",
   "metadata": {},
   "outputs": [
    {
     "data": {
      "text/plain": [
       "(array([20873.,  9354.,  8845.,  7939.,  8317.,  7149.,  6928.,  6730.,\n",
       "         6517.,  7145.]),\n",
       " array([2.54011199e-07, 1.00000229e-01, 2.00000203e-01, 3.00000178e-01,\n",
       "        4.00000152e-01, 5.00000127e-01, 6.00000102e-01, 7.00000076e-01,\n",
       "        8.00000051e-01, 9.00000025e-01, 1.00000000e+00]),\n",
       " <BarContainer object of 10 artists>)"
      ]
     },
     "execution_count": 54,
     "metadata": {},
     "output_type": "execute_result"
    },
    {
     "data": {
      "image/png": "[encoded data removed]",
      "text/plain": [
       "<Figure size 432x288 with 1 Axes>"
      ]
     },
     "metadata": {
      "needs_background": "light"
     },
     "output_type": "display_data"
    }
   ],
   "source": [
    "plt.hist(memento_result['dv_pval'])"
   ]
  },
  {
   "cell_type": "code",
   "execution_count": null,
   "id": "d58dda37",
   "metadata": {},
   "outputs": [],
   "source": []
  },
  {
   "cell_type": "code",
   "execution_count": null,
   "id": "13b3a574",
   "metadata": {},
   "outputs": [],
   "source": []
  },
  {
   "cell_type": "code",
   "execution_count": null,
   "id": "a44dcdbe",
   "metadata": {},
   "outputs": [],
   "source": []
  },
  {
   "cell_type": "code",
   "execution_count": null,
   "id": "ad8417e5",
   "metadata": {},
   "outputs": [],
   "source": []
  },
  {
   "cell_type": "code",
   "execution_count": null,
   "id": "8bc94755",
   "metadata": {},
   "outputs": [],
   "source": []
  },
  {
   "cell_type": "code",
   "execution_count": null,
   "id": "b2fc486d",
   "metadata": {},
   "outputs": [],
   "source": []
  },
  {
   "cell_type": "code",
   "execution_count": null,
   "id": "6f46c889",
   "metadata": {},
   "outputs": [],
   "source": []
  },
  {
   "cell_type": "code",
   "execution_count": null,
   "id": "d8cbe0b4",
   "metadata": {},
   "outputs": [],
   "source": []
  },
  {
   "cell_type": "code",
   "execution_count": null,
   "id": "ac226dc4",
   "metadata": {},
   "outputs": [],
   "source": []
  },
  {
   "cell_type": "code",
   "execution_count": null,
   "id": "d44bf3ce",
   "metadata": {},
   "outputs": [],
   "source": []
  },
  {
   "cell_type": "code",
   "execution_count": null,
   "id": "a9521f2f",
   "metadata": {},
   "outputs": [],
   "source": []
  },
  {
   "cell_type": "code",
   "execution_count": 18,
   "id": "9a07467f",
   "metadata": {},
   "outputs": [],
   "source": [
    "memento_result = memento.get_1d_ht_result(adata).rename(columns={'tx':'rsid'})\n"
   ]
  },
  {
   "cell_type": "code",
   "execution_count": 19,
   "id": "e98759b0",
   "metadata": {},
   "outputs": [],
   "source": [
    "merged = cbc_eqtls[['gene', 'rsid', 'beta', 'pvalue']].merge(memento_result[['gene', 'rsid', 'de_coef', 'de_pval']], on=['gene', 'rsid'])"
   ]
  },
  {
   "cell_type": "code",
   "execution_count": 20,
   "id": "d8969c12",
   "metadata": {},
   "outputs": [
    {
     "data": {
      "text/plain": [
       "Text(0.5, 0, 'mat eqtl -log(p)')"
      ]
     },
     "execution_count": 20,
     "metadata": {},
     "output_type": "execute_result"
    },
    {
     "data": {
      "image/png": "[encoded data removed]",
      "text/plain": [
       "<Figure size 432x288 with 1 Axes>"
      ]
     },
     "metadata": {
      "needs_background": "light"
     },
     "output_type": "display_data"
    }
   ],
   "source": [
    "plt.scatter(-np.log(merged['pvalue']), -np.log(merged['de_pval']), s=1)\n",
    "plt.ylabel('memento -log(p)'); plt.xlabel('mat eqtl -log(p)')\n",
    "# plt.plot([0, 160], [0, 160], color='k')"
   ]
  },
  {
   "cell_type": "code",
   "execution_count": 21,
   "id": "94a31c0f",
   "metadata": {},
   "outputs": [
    {
     "data": {
      "text/plain": [
       "(91517, 6)"
      ]
     },
     "execution_count": 21,
     "metadata": {},
     "output_type": "execute_result"
    }
   ],
   "source": [
    "merged.shape"
   ]
  },
  {
   "cell_type": "code",
   "execution_count": 22,
   "id": "46a172a1",
   "metadata": {},
   "outputs": [
    {
     "data": {
      "text/plain": [
       "[<matplotlib.lines.Line2D at 0x7fc93b3ac610>]"
      ]
     },
     "execution_count": 22,
     "metadata": {},
     "output_type": "execute_result"
    },
    {
     "data": {
      "image/png": "[encoded data removed]",
      "text/plain": [
       "<Figure size 432x288 with 1 Axes>"
      ]
     },
     "metadata": {
      "needs_background": "light"
     },
     "output_type": "display_data"
    },
    {
     "name": "stderr",
     "output_type": "stream",
     "text": [
      "/home/ssm-user/anaconda3/envs/single_cell/lib/python3.8/site-packages/scipy/stats/_continuous_distns.py:2434: RuntimeWarning: invalid value encountered in subtract\n",
      "  -pex2+logpex2-logex2)\n",
      "/home/ssm-user/anaconda3/envs/single_cell/lib/python3.8/site-packages/scipy/stats/_continuous_distns.py:2434: RuntimeWarning: invalid value encountered in subtract\n",
      "  -pex2+logpex2-logex2)\n",
      "/home/ssm-user/anaconda3/envs/single_cell/lib/python3.8/site-packages/scipy/stats/_continuous_distns.py:2434: RuntimeWarning: invalid value encountered in subtract\n",
      "  -pex2+logpex2-logex2)\n"
     ]
    }
   ],
   "source": [
    "plt.scatter(merged['beta'], merged['de_coef'], s=5)\n",
    "plt.xlabel('mat eqtl coef'); plt.ylabel('memento coef')\n",
    "plt.plot([-1, 4], [-1, 4], color='k')"
   ]
  },
  {
   "cell_type": "markdown",
   "id": "6a55f4c7",
   "metadata": {},
   "source": [
    "### Get SNP-gene pairs using bedtools"
   ]
  },
  {
   "cell_type": "code",
   "execution_count": 136,
   "id": "42be5ff9",
   "metadata": {},
   "outputs": [],
   "source": [
    "from pybedtools import BedTool"
   ]
  },
  {
   "cell_type": "code",
   "execution_count": 137,
   "id": "3202893c",
   "metadata": {},
   "outputs": [],
   "source": [
    "snppos = pd.read_csv(data_path + 'cm_cg.snpspos.txt', sep='\\t')\n",
    "snppos['chrom'] = snppos['chr']\n",
    "snppos['pos_start'] = snppos['pos']\n",
    "snppos['pos_end'] = snppos['pos']\n",
    "snppos['rsid'] = snppos['snps']\n",
    "snppos = snppos[['chrom', 'pos_start', 'pos_end', 'rsid']]"
   ]
  },
  {
   "cell_type": "code",
   "execution_count": 138,
   "id": "82e825b5",
   "metadata": {},
   "outputs": [],
   "source": [
    "enc = encode.Encode('/home/ssm-user/Github/misc-seq/miscseq/GRCh38Genes.bed')"
   ]
  },
  {
   "cell_type": "code",
   "execution_count": 139,
   "id": "c64c040a",
   "metadata": {},
   "outputs": [],
   "source": [
    "tss_df = enc.get_tss_window(window_size=0)\n"
   ]
  },
  {
   "cell_type": "code",
   "execution_count": 140,
   "id": "bdb03f03",
   "metadata": {},
   "outputs": [],
   "source": [
    "adata = sc.read(data_path + 'Lupus_study_adjusted_counts.h5ad')"
   ]
  },
  {
   "cell_type": "code",
   "execution_count": 141,
   "id": "005fb74e",
   "metadata": {},
   "outputs": [],
   "source": [
    "tss_df = tss_df[tss_df['symbol'].isin(adata.var.index)]"
   ]
  },
  {
   "cell_type": "code",
   "execution_count": 142,
   "id": "6be18aa8",
   "metadata": {},
   "outputs": [],
   "source": [
    "tss_window_bed = BedTool.from_dataframe(tss_df)\n",
    "snp_bed = BedTool.from_dataframe(snppos)"
   ]
  },
  {
   "cell_type": "code",
   "execution_count": 143,
   "id": "af26f6ed",
   "metadata": {},
   "outputs": [
    {
     "name": "stderr",
     "output_type": "stream",
     "text": [
      "/home/ssm-user/anaconda3/envs/single_cell/lib/python3.8/subprocess.py:853: RuntimeWarning: line buffering (buffering=1) isn't supported in binary mode, the default buffer size will be used\n",
      "  self.stderr = io.open(errread, 'rb', bufsize)\n"
     ]
    }
   ],
   "source": [
    "result = BedTool.window(tss_window_bed, snp_bed, w=1000000).to_dataframe()"
   ]
  },
  {
   "cell_type": "code",
   "execution_count": 144,
   "id": "b918d737",
   "metadata": {},
   "outputs": [],
   "source": [
    "gene_snp_pairs = result[['name', 'itemRgb']].drop_duplicates().rename(columns={'name':'gene', 'itemRgb':'rsid'})"
   ]
  },
  {
   "cell_type": "code",
   "execution_count": 145,
   "id": "4b5f0829",
   "metadata": {},
   "outputs": [],
   "source": [
    "gene_snp_pairs.to_csv(data_path +'gene_snp_pairs.csv', index=False)\n"
   ]
  },
  {
   "cell_type": "markdown",
   "id": "adc14d46",
   "metadata": {},
   "source": [
    "### Run memento on these gene-SNP pairs"
   ]
  },
  {
   "cell_type": "code",
   "execution_count": 13,
   "id": "8f3da7c7",
   "metadata": {},
   "outputs": [
    {
     "name": "stderr",
     "output_type": "stream",
     "text": [
      "/home/ssm-user/anaconda3/envs/single_cell/lib/python3.8/site-packages/pandas/core/arrays/categorical.py:2631: FutureWarning: The `inplace` parameter in pandas.Categorical.remove_unused_categories is deprecated and will be removed in a future version.\n",
      "  res = method(*args, **kwargs)\n"
     ]
    }
   ],
   "source": [
    "adata = sc.read(data_path + 'Lupus_study_adjusted_counts_cM_filtered.h5ad')\n",
    "adata = adata[adata.obs.ind_cov.isin(pos.columns)].copy()"
   ]
  },
  {
   "cell_type": "code",
   "execution_count": 14,
   "id": "e84ee63a",
   "metadata": {},
   "outputs": [],
   "source": [
    "gene_snp_pairs = pd.read_csv(data_path +'gene_snp_pairs.csv')"
   ]
  },
  {
   "cell_type": "code",
   "execution_count": 15,
   "id": "213cf351",
   "metadata": {},
   "outputs": [
    {
     "data": {
      "text/plain": [
       "(61007407, 2)"
      ]
     },
     "execution_count": 15,
     "metadata": {},
     "output_type": "execute_result"
    }
   ],
   "source": [
    "gene_snp_pairs.shape"
   ]
  },
  {
   "cell_type": "code",
   "execution_count": 16,
   "id": "31bcb8d0",
   "metadata": {},
   "outputs": [],
   "source": [
    "adata.obs['capture_rate'] = 0.1\n",
    "memento.setup_memento(adata, q_column='capture_rate', trim_percent=0.1, filter_mean_thresh=0.05)"
   ]
  },
  {
   "cell_type": "code",
   "execution_count": 17,
   "id": "b33511e4",
   "metadata": {},
   "outputs": [],
   "source": [
    "memento.create_groups(adata, label_columns=['ind_cov'])"
   ]
  },
  {
   "cell_type": "code",
   "execution_count": 18,
   "id": "3acc3993",
   "metadata": {},
   "outputs": [],
   "source": [
    "memento.compute_1d_moments(adata, min_perc_group=.5, gene_list=gene_snp_pairs.gene.drop_duplicates().tolist())"
   ]
  },
  {
   "cell_type": "code",
   "execution_count": 19,
   "id": "f3e91dec",
   "metadata": {},
   "outputs": [],
   "source": [
    "gene_to_snp = dict(gene_snp_pairs[gene_snp_pairs.gene.isin(adata.var.index)].groupby('gene').rsid.apply(list))"
   ]
  },
  {
   "cell_type": "code",
   "execution_count": 20,
   "id": "eb1fd6d7",
   "metadata": {},
   "outputs": [],
   "source": [
    "donor_df = pos[[x[3:] for x in adata.uns['memento']['groups']]].T\n"
   ]
  },
  {
   "cell_type": "code",
   "execution_count": null,
   "id": "0debd27a",
   "metadata": {},
   "outputs": [
    {
     "name": "stderr",
     "output_type": "stream",
     "text": [
      "[Parallel(n_jobs=93)]: Using backend LokyBackend with 93 concurrent workers.\n",
      "[Parallel(n_jobs=93)]: Done  14 tasks      | elapsed:  2.3min\n"
     ]
    }
   ],
   "source": [
    "memento.ht_1d_moments(\n",
    "    adata, \n",
    "    covariate=pd.DataFrame(np.ones((donor_df.shape[0], 1))),\n",
    "    treatment=donor_df,\n",
    "    treatment_for_gene=gene_to_snp,\n",
    "    num_boot=10000, \n",
    "    verbose=1,\n",
    "    num_cpus=93,\n",
    "    resampling='bootstrap',\n",
    "    approx=False)\n"
   ]
  },
  {
   "cell_type": "code",
   "execution_count": null,
   "id": "260417d2",
   "metadata": {},
   "outputs": [],
   "source": [
    "memento_result = memento.get_1d_ht_result(adata).rename(columns={'tx':'rsid'})\n"
   ]
  },
  {
   "cell_type": "code",
   "execution_count": null,
   "id": "6be11682",
   "metadata": {},
   "outputs": [],
   "source": [
    "memento_result.to_csv(data_path + 'cm_1M_result.csv')"
   ]
  },
  {
   "cell_type": "code",
   "execution_count": null,
   "id": "0d51043e",
   "metadata": {},
   "outputs": [],
   "source": []
  },
  {
   "cell_type": "code",
   "execution_count": null,
   "id": "8534f7b9",
   "metadata": {},
   "outputs": [],
   "source": []
  },
  {
   "cell_type": "code",
   "execution_count": 78,
   "id": "c04387cb",
   "metadata": {},
   "outputs": [
    {
     "name": "stderr",
     "output_type": "stream",
     "text": [
      "/home/ssm-user/Github/scrna-parameter-estimation/dist/memento-0.0.8-py3.8.egg/memento/main.py:528: RuntimeWarning: divide by zero encountered in log\n"
     ]
    }
   ],
   "source": [
    "df = pd.DataFrame()\n",
    "df['geno'] = donor_df['1:78723333'].values\n",
    "df['mean'] = memento.get_1d_moments(adata)[0].query('gene == \"IFI44L\"').values[0][1:]"
   ]
  },
  {
   "cell_type": "code",
   "execution_count": 81,
   "id": "2d606375",
   "metadata": {},
   "outputs": [
    {
     "data": {
      "text/plain": [
       "<AxesSubplot:xlabel='geno', ylabel='mean'>"
      ]
     },
     "execution_count": 81,
     "metadata": {},
     "output_type": "execute_result"
    },
    {
     "data": {
      "image/png": "[encoded data removed]",
      "text/plain": [
       "<Figure size 432x288 with 1 Axes>"
      ]
     },
     "metadata": {
      "needs_background": "light"
     },
     "output_type": "display_data"
    }
   ],
   "source": [
    "sns.boxplot(x='geno', y='mean', data=df)\n",
    "sns.stripplot(x='geno', y='mean', data=df, linewidth=2)"
   ]
  },
  {
   "cell_type": "code",
   "execution_count": 83,
   "id": "9892e3c0",
   "metadata": {},
   "outputs": [
    {
     "data": {
      "text/plain": [
       "(array([864464.,  82195.,  56765.,  45043.,  39514.,  36160.,  33252.,\n",
       "         32488.,  31241.,  30480.]),\n",
       " array([2.56659725e-22, 1.00000000e-01, 2.00000000e-01, 3.00000000e-01,\n",
       "        4.00000000e-01, 5.00000000e-01, 6.00000000e-01, 7.00000000e-01,\n",
       "        8.00000000e-01, 9.00000000e-01, 1.00000000e+00]),\n",
       " <BarContainer object of 10 artists>)"
      ]
     },
     "execution_count": 83,
     "metadata": {},
     "output_type": "execute_result"
    },
    {
     "data": {
      "image/png": "[encoded data removed]",
      "text/plain": [
       "<Figure size 432x288 with 1 Axes>"
      ]
     },
     "metadata": {
      "needs_background": "light"
     },
     "output_type": "display_data"
    }
   ],
   "source": [
    "plt.hist(memento_result['de_pval'])"
   ]
  },
  {
   "cell_type": "code",
   "execution_count": 85,
   "id": "e9529230",
   "metadata": {},
   "outputs": [],
   "source": [
    "memento_result['fdr'] = memento.util._fdrcorrect(memento_result['de_pval'])"
   ]
  },
  {
   "cell_type": "code",
   "execution_count": 95,
   "id": "f0378c4f",
   "metadata": {},
   "outputs": [],
   "source": [
    "memento_result['bonf'] = np.clip(memento_result['de_pval']*memento_result.shape[0], a_max=1, a_min=0)"
   ]
  },
  {
   "cell_type": "code",
   "execution_count": 126,
   "id": "7c1b9557",
   "metadata": {},
   "outputs": [
    {
     "data": {
      "text/html": [
       "<div>\n",
       "<style scoped>\n",
       "    .dataframe tbody tr th:only-of-type {\n",
       "        vertical-align: middle;\n",
       "    }\n",
       "\n",
       "    .dataframe tbody tr th {\n",
       "        vertical-align: top;\n",
       "    }\n",
       "\n",
       "    .dataframe thead th {\n",
       "        text-align: right;\n",
       "    }\n",
       "</style>\n",
       "<table border=\"1\" class=\"dataframe\">\n",
       "  <thead>\n",
       "    <tr style=\"text-align: right;\">\n",
       "      <th></th>\n",
       "      <th>gene</th>\n",
       "      <th>rsid</th>\n",
       "      <th>de_coef</th>\n",
       "      <th>de_se</th>\n",
       "      <th>de_pval</th>\n",
       "      <th>dv_coef</th>\n",
       "      <th>dv_se</th>\n",
       "      <th>dv_pval</th>\n",
       "      <th>fdr</th>\n",
       "      <th>bonf</th>\n",
       "    </tr>\n",
       "  </thead>\n",
       "  <tbody>\n",
       "    <tr>\n",
       "      <th>0</th>\n",
       "      <td>ISG15</td>\n",
       "      <td>1:901559</td>\n",
       "      <td>-0.393029</td>\n",
       "      <td>0.007668</td>\n",
       "      <td>1.649489e-05</td>\n",
       "      <td>0.288941</td>\n",
       "      <td>0.041399</td>\n",
       "      <td>0.000010</td>\n",
       "      <td>0.000451</td>\n",
       "      <td>1.000000</td>\n",
       "    </tr>\n",
       "    <tr>\n",
       "      <th>1</th>\n",
       "      <td>ISG15</td>\n",
       "      <td>1:901806</td>\n",
       "      <td>0.455740</td>\n",
       "      <td>0.008278</td>\n",
       "      <td>1.760721e-05</td>\n",
       "      <td>-0.280292</td>\n",
       "      <td>0.050265</td>\n",
       "      <td>0.000217</td>\n",
       "      <td>0.000462</td>\n",
       "      <td>1.000000</td>\n",
       "    </tr>\n",
       "    <tr>\n",
       "      <th>3</th>\n",
       "      <td>ISG15</td>\n",
       "      <td>1:903104</td>\n",
       "      <td>0.455740</td>\n",
       "      <td>0.008278</td>\n",
       "      <td>1.760721e-05</td>\n",
       "      <td>-0.280292</td>\n",
       "      <td>0.050265</td>\n",
       "      <td>0.000217</td>\n",
       "      <td>0.000462</td>\n",
       "      <td>1.000000</td>\n",
       "    </tr>\n",
       "    <tr>\n",
       "      <th>4</th>\n",
       "      <td>ISG15</td>\n",
       "      <td>1:903245</td>\n",
       "      <td>-0.096201</td>\n",
       "      <td>0.007067</td>\n",
       "      <td>5.834369e-07</td>\n",
       "      <td>0.193895</td>\n",
       "      <td>0.042357</td>\n",
       "      <td>0.000150</td>\n",
       "      <td>0.000107</td>\n",
       "      <td>0.730231</td>\n",
       "    </tr>\n",
       "    <tr>\n",
       "      <th>6</th>\n",
       "      <td>ISG15</td>\n",
       "      <td>1:904628</td>\n",
       "      <td>0.544886</td>\n",
       "      <td>0.009741</td>\n",
       "      <td>9.339878e-06</td>\n",
       "      <td>-0.352004</td>\n",
       "      <td>0.070797</td>\n",
       "      <td>0.000659</td>\n",
       "      <td>0.000362</td>\n",
       "      <td>1.000000</td>\n",
       "    </tr>\n",
       "    <tr>\n",
       "      <th>...</th>\n",
       "      <td>...</td>\n",
       "      <td>...</td>\n",
       "      <td>...</td>\n",
       "      <td>...</td>\n",
       "      <td>...</td>\n",
       "      <td>...</td>\n",
       "      <td>...</td>\n",
       "      <td>...</td>\n",
       "      <td>...</td>\n",
       "      <td>...</td>\n",
       "    </tr>\n",
       "    <tr>\n",
       "      <th>320</th>\n",
       "      <td>YBEY</td>\n",
       "      <td>21:46334076</td>\n",
       "      <td>-0.169987</td>\n",
       "      <td>0.023814</td>\n",
       "      <td>3.217665e-05</td>\n",
       "      <td>-0.081247</td>\n",
       "      <td>0.063568</td>\n",
       "      <td>0.201780</td>\n",
       "      <td>0.000574</td>\n",
       "      <td>1.000000</td>\n",
       "    </tr>\n",
       "    <tr>\n",
       "      <th>323</th>\n",
       "      <td>YBEY</td>\n",
       "      <td>21:46335282</td>\n",
       "      <td>-0.169987</td>\n",
       "      <td>0.023814</td>\n",
       "      <td>3.217665e-05</td>\n",
       "      <td>-0.081247</td>\n",
       "      <td>0.063568</td>\n",
       "      <td>0.201780</td>\n",
       "      <td>0.000574</td>\n",
       "      <td>1.000000</td>\n",
       "    </tr>\n",
       "    <tr>\n",
       "      <th>324</th>\n",
       "      <td>YBEY</td>\n",
       "      <td>21:46335370</td>\n",
       "      <td>-0.169987</td>\n",
       "      <td>0.023814</td>\n",
       "      <td>3.217665e-05</td>\n",
       "      <td>-0.081247</td>\n",
       "      <td>0.063568</td>\n",
       "      <td>0.201780</td>\n",
       "      <td>0.000574</td>\n",
       "      <td>1.000000</td>\n",
       "    </tr>\n",
       "    <tr>\n",
       "      <th>328</th>\n",
       "      <td>YBEY</td>\n",
       "      <td>21:46335940</td>\n",
       "      <td>0.159182</td>\n",
       "      <td>0.022925</td>\n",
       "      <td>3.384800e-05</td>\n",
       "      <td>0.086964</td>\n",
       "      <td>0.059917</td>\n",
       "      <td>0.177382</td>\n",
       "      <td>0.000583</td>\n",
       "      <td>1.000000</td>\n",
       "    </tr>\n",
       "    <tr>\n",
       "      <th>432</th>\n",
       "      <td>PRMT2</td>\n",
       "      <td>21:46714707</td>\n",
       "      <td>-0.075389</td>\n",
       "      <td>0.012208</td>\n",
       "      <td>2.696658e-05</td>\n",
       "      <td>0.083106</td>\n",
       "      <td>0.059882</td>\n",
       "      <td>0.164284</td>\n",
       "      <td>0.000537</td>\n",
       "      <td>1.000000</td>\n",
       "    </tr>\n",
       "  </tbody>\n",
       "</table>\n",
       "<p>105369 rows × 10 columns</p>\n",
       "</div>"
      ],
      "text/plain": [
       "      gene         rsid   de_coef     de_se       de_pval   dv_coef     dv_se  \\\n",
       "0    ISG15     1:901559 -0.393029  0.007668  1.649489e-05  0.288941  0.041399   \n",
       "1    ISG15     1:901806  0.455740  0.008278  1.760721e-05 -0.280292  0.050265   \n",
       "3    ISG15     1:903104  0.455740  0.008278  1.760721e-05 -0.280292  0.050265   \n",
       "4    ISG15     1:903245 -0.096201  0.007067  5.834369e-07  0.193895  0.042357   \n",
       "6    ISG15     1:904628  0.544886  0.009741  9.339878e-06 -0.352004  0.070797   \n",
       "..     ...          ...       ...       ...           ...       ...       ...   \n",
       "320   YBEY  21:46334076 -0.169987  0.023814  3.217665e-05 -0.081247  0.063568   \n",
       "323   YBEY  21:46335282 -0.169987  0.023814  3.217665e-05 -0.081247  0.063568   \n",
       "324   YBEY  21:46335370 -0.169987  0.023814  3.217665e-05 -0.081247  0.063568   \n",
       "328   YBEY  21:46335940  0.159182  0.022925  3.384800e-05  0.086964  0.059917   \n",
       "432  PRMT2  21:46714707 -0.075389  0.012208  2.696658e-05  0.083106  0.059882   \n",
       "\n",
       "      dv_pval       fdr      bonf  \n",
       "0    0.000010  0.000451  1.000000  \n",
       "1    0.000217  0.000462  1.000000  \n",
       "3    0.000217  0.000462  1.000000  \n",
       "4    0.000150  0.000107  0.730231  \n",
       "6    0.000659  0.000362  1.000000  \n",
       "..        ...       ...       ...  \n",
       "320  0.201780  0.000574  1.000000  \n",
       "323  0.201780  0.000574  1.000000  \n",
       "324  0.201780  0.000574  1.000000  \n",
       "328  0.177382  0.000583  1.000000  \n",
       "432  0.164284  0.000537  1.000000  \n",
       "\n",
       "[105369 rows x 10 columns]"
      ]
     },
     "execution_count": 126,
     "metadata": {},
     "output_type": "execute_result"
    }
   ],
   "source": [
    "memento_result.query('fdr < 0.0007')"
   ]
  },
  {
   "cell_type": "code",
   "execution_count": 105,
   "id": "b3da7c94",
   "metadata": {},
   "outputs": [
    {
     "data": {
      "text/plain": [
       "(array([822792.,  82530.,  60582.,  49784.,  42107.,  39842.,  38446.,\n",
       "         37843.,  38917.,  38759.]),\n",
       " array([3.21235826e-16, 1.00000000e-01, 2.00000000e-01, 3.00000000e-01,\n",
       "        4.00000000e-01, 5.00000000e-01, 6.00000000e-01, 7.00000000e-01,\n",
       "        8.00000000e-01, 9.00000000e-01, 1.00000000e+00]),\n",
       " <BarContainer object of 10 artists>)"
      ]
     },
     "execution_count": 105,
     "metadata": {},
     "output_type": "execute_result"
    },
    {
     "data": {
      "image/png": "[encoded data removed]",
      "text/plain": [
       "<Figure size 432x288 with 1 Axes>"
      ]
     },
     "metadata": {
      "needs_background": "light"
     },
     "output_type": "display_data"
    }
   ],
   "source": [
    "plt.hist(memento_result['fdr'])"
   ]
  },
  {
   "cell_type": "code",
   "execution_count": 97,
   "id": "a5c75af1",
   "metadata": {},
   "outputs": [],
   "source": [
    "memento_result.to_csv('cm_100k_result.csv', index=False)"
   ]
  },
  {
   "cell_type": "code",
   "execution_count": null,
   "id": "1d8e1102",
   "metadata": {},
   "outputs": [],
   "source": [
    "memento_result"
   ]
  },
  {
   "cell_type": "code",
   "execution_count": 93,
   "id": "5557c6fa",
   "metadata": {},
   "outputs": [
    {
     "data": {
      "text/html": [
       "<div>\n",
       "<style scoped>\n",
       "    .dataframe tbody tr th:only-of-type {\n",
       "        vertical-align: middle;\n",
       "    }\n",
       "\n",
       "    .dataframe tbody tr th {\n",
       "        vertical-align: top;\n",
       "    }\n",
       "\n",
       "    .dataframe thead th {\n",
       "        text-align: right;\n",
       "    }\n",
       "</style>\n",
       "<table border=\"1\" class=\"dataframe\">\n",
       "  <thead>\n",
       "    <tr style=\"text-align: right;\">\n",
       "      <th></th>\n",
       "      <th>gene</th>\n",
       "      <th>rsid</th>\n",
       "      <th>de_coef</th>\n",
       "      <th>de_se</th>\n",
       "      <th>de_pval</th>\n",
       "      <th>dv_coef</th>\n",
       "      <th>dv_se</th>\n",
       "      <th>dv_pval</th>\n",
       "      <th>fdr</th>\n",
       "      <th>bonf</th>\n",
       "    </tr>\n",
       "  </thead>\n",
       "  <tbody>\n",
       "    <tr>\n",
       "      <th>15</th>\n",
       "      <td>ISG15</td>\n",
       "      <td>1:909419</td>\n",
       "      <td>0.326184</td>\n",
       "      <td>0.008495</td>\n",
       "      <td>2.838113e-08</td>\n",
       "      <td>-0.217460</td>\n",
       "      <td>0.054175</td>\n",
       "      <td>0.000755</td>\n",
       "      <td>0.000028</td>\n",
       "      <td>0.035522</td>\n",
       "    </tr>\n",
       "    <tr>\n",
       "      <th>26</th>\n",
       "      <td>ISG15</td>\n",
       "      <td>1:917640</td>\n",
       "      <td>0.456443</td>\n",
       "      <td>0.008639</td>\n",
       "      <td>4.701412e-08</td>\n",
       "      <td>-0.288429</td>\n",
       "      <td>0.054154</td>\n",
       "      <td>0.000081</td>\n",
       "      <td>0.000037</td>\n",
       "      <td>0.058843</td>\n",
       "    </tr>\n",
       "    <tr>\n",
       "      <th>27</th>\n",
       "      <td>ISG15</td>\n",
       "      <td>1:918238</td>\n",
       "      <td>0.456443</td>\n",
       "      <td>0.008639</td>\n",
       "      <td>4.701412e-08</td>\n",
       "      <td>-0.288429</td>\n",
       "      <td>0.054154</td>\n",
       "      <td>0.000081</td>\n",
       "      <td>0.000037</td>\n",
       "      <td>0.058843</td>\n",
       "    </tr>\n",
       "    <tr>\n",
       "      <th>47</th>\n",
       "      <td>ISG15</td>\n",
       "      <td>1:931362</td>\n",
       "      <td>0.148562</td>\n",
       "      <td>0.006978</td>\n",
       "      <td>8.689708e-09</td>\n",
       "      <td>-0.053943</td>\n",
       "      <td>0.043660</td>\n",
       "      <td>0.216778</td>\n",
       "      <td>0.000018</td>\n",
       "      <td>0.010876</td>\n",
       "    </tr>\n",
       "    <tr>\n",
       "      <th>59</th>\n",
       "      <td>ISG15</td>\n",
       "      <td>1:940005</td>\n",
       "      <td>0.148562</td>\n",
       "      <td>0.006978</td>\n",
       "      <td>8.689708e-09</td>\n",
       "      <td>-0.053943</td>\n",
       "      <td>0.043660</td>\n",
       "      <td>0.216778</td>\n",
       "      <td>0.000018</td>\n",
       "      <td>0.010876</td>\n",
       "    </tr>\n",
       "    <tr>\n",
       "      <th>...</th>\n",
       "      <td>...</td>\n",
       "      <td>...</td>\n",
       "      <td>...</td>\n",
       "      <td>...</td>\n",
       "      <td>...</td>\n",
       "      <td>...</td>\n",
       "      <td>...</td>\n",
       "      <td>...</td>\n",
       "      <td>...</td>\n",
       "      <td>...</td>\n",
       "    </tr>\n",
       "    <tr>\n",
       "      <th>207</th>\n",
       "      <td>ITGB2</td>\n",
       "      <td>21:44926759</td>\n",
       "      <td>-0.248446</td>\n",
       "      <td>0.006781</td>\n",
       "      <td>1.189126e-08</td>\n",
       "      <td>0.120146</td>\n",
       "      <td>0.042010</td>\n",
       "      <td>0.007099</td>\n",
       "      <td>0.000020</td>\n",
       "      <td>0.014883</td>\n",
       "    </tr>\n",
       "    <tr>\n",
       "      <th>208</th>\n",
       "      <td>ITGB2</td>\n",
       "      <td>21:44927015</td>\n",
       "      <td>-0.248446</td>\n",
       "      <td>0.006781</td>\n",
       "      <td>1.189126e-08</td>\n",
       "      <td>0.120146</td>\n",
       "      <td>0.042010</td>\n",
       "      <td>0.007099</td>\n",
       "      <td>0.000020</td>\n",
       "      <td>0.014883</td>\n",
       "    </tr>\n",
       "    <tr>\n",
       "      <th>209</th>\n",
       "      <td>ITGB2</td>\n",
       "      <td>21:44927089</td>\n",
       "      <td>-0.248446</td>\n",
       "      <td>0.006781</td>\n",
       "      <td>1.189126e-08</td>\n",
       "      <td>0.120146</td>\n",
       "      <td>0.042010</td>\n",
       "      <td>0.007099</td>\n",
       "      <td>0.000020</td>\n",
       "      <td>0.014883</td>\n",
       "    </tr>\n",
       "    <tr>\n",
       "      <th>211</th>\n",
       "      <td>ITGB2</td>\n",
       "      <td>21:44928863</td>\n",
       "      <td>-0.248446</td>\n",
       "      <td>0.006781</td>\n",
       "      <td>1.189126e-08</td>\n",
       "      <td>0.120146</td>\n",
       "      <td>0.042010</td>\n",
       "      <td>0.007099</td>\n",
       "      <td>0.000020</td>\n",
       "      <td>0.014883</td>\n",
       "    </tr>\n",
       "    <tr>\n",
       "      <th>265</th>\n",
       "      <td>ITGB2</td>\n",
       "      <td>21:44986849</td>\n",
       "      <td>-0.189715</td>\n",
       "      <td>0.009499</td>\n",
       "      <td>2.661911e-08</td>\n",
       "      <td>0.182791</td>\n",
       "      <td>0.058734</td>\n",
       "      <td>0.005999</td>\n",
       "      <td>0.000027</td>\n",
       "      <td>0.033317</td>\n",
       "    </tr>\n",
       "  </tbody>\n",
       "</table>\n",
       "<p>1992 rows × 10 columns</p>\n",
       "</div>"
      ],
      "text/plain": [
       "      gene         rsid   de_coef     de_se       de_pval   dv_coef     dv_se  \\\n",
       "15   ISG15     1:909419  0.326184  0.008495  2.838113e-08 -0.217460  0.054175   \n",
       "26   ISG15     1:917640  0.456443  0.008639  4.701412e-08 -0.288429  0.054154   \n",
       "27   ISG15     1:918238  0.456443  0.008639  4.701412e-08 -0.288429  0.054154   \n",
       "47   ISG15     1:931362  0.148562  0.006978  8.689708e-09 -0.053943  0.043660   \n",
       "59   ISG15     1:940005  0.148562  0.006978  8.689708e-09 -0.053943  0.043660   \n",
       "..     ...          ...       ...       ...           ...       ...       ...   \n",
       "207  ITGB2  21:44926759 -0.248446  0.006781  1.189126e-08  0.120146  0.042010   \n",
       "208  ITGB2  21:44927015 -0.248446  0.006781  1.189126e-08  0.120146  0.042010   \n",
       "209  ITGB2  21:44927089 -0.248446  0.006781  1.189126e-08  0.120146  0.042010   \n",
       "211  ITGB2  21:44928863 -0.248446  0.006781  1.189126e-08  0.120146  0.042010   \n",
       "265  ITGB2  21:44986849 -0.189715  0.009499  2.661911e-08  0.182791  0.058734   \n",
       "\n",
       "      dv_pval       fdr      bonf  \n",
       "15   0.000755  0.000028  0.035522  \n",
       "26   0.000081  0.000037  0.058843  \n",
       "27   0.000081  0.000037  0.058843  \n",
       "47   0.216778  0.000018  0.010876  \n",
       "59   0.216778  0.000018  0.010876  \n",
       "..        ...       ...       ...  \n",
       "207  0.007099  0.000020  0.014883  \n",
       "208  0.007099  0.000020  0.014883  \n",
       "209  0.007099  0.000020  0.014883  \n",
       "211  0.007099  0.000020  0.014883  \n",
       "265  0.005999  0.000027  0.033317  \n",
       "\n",
       "[1992 rows x 10 columns]"
      ]
     },
     "execution_count": 93,
     "metadata": {},
     "output_type": "execute_result"
    }
   ],
   "source": [
    "memento_result.query('bonf < 0.1')#.shape[0]"
   ]
  },
  {
   "cell_type": "code",
   "execution_count": 14,
   "id": "0c54af96",
   "metadata": {},
   "outputs": [],
   "source": [
    "onek_replication = pd.read_csv(data_path + 'OneK1K_eqtls_for_replication.txt', sep='\\t')#.query('cell_type == \"Mono_C\"')"
   ]
  },
  {
   "cell_type": "code",
   "execution_count": 167,
   "id": "16727f3c",
   "metadata": {},
   "outputs": [],
   "source": [
    "mapping = pd.read_csv('mart_export.txt', sep='\\t')"
   ]
  },
  {
   "cell_type": "code",
   "execution_count": 168,
   "id": "78c68f7f",
   "metadata": {},
   "outputs": [],
   "source": [
    "mapping['rsid'] = mapping['Chromosome/scaffold name'].astype(str) + ':'+mapping['Chromosome/scaffold position start (bp)'].astype(str)"
   ]
  },
  {
   "cell_type": "code",
   "execution_count": 169,
   "id": "97955854",
   "metadata": {},
   "outputs": [],
   "source": [
    "onek_replication = onek_replication.merge(mapping[['Variant name', 'rsid']], left_on='SNP_rsID', right_on='Variant name')"
   ]
  },
  {
   "cell_type": "code",
   "execution_count": 170,
   "id": "3fa1a704",
   "metadata": {},
   "outputs": [],
   "source": [
    "onek_replication['gene'] = onek_replication['GeneID']"
   ]
  },
  {
   "cell_type": "code",
   "execution_count": 171,
   "id": "45eea74e",
   "metadata": {},
   "outputs": [
    {
     "data": {
      "text/html": [
       "<div>\n",
       "<style scoped>\n",
       "    .dataframe tbody tr th:only-of-type {\n",
       "        vertical-align: middle;\n",
       "    }\n",
       "\n",
       "    .dataframe tbody tr th {\n",
       "        vertical-align: top;\n",
       "    }\n",
       "\n",
       "    .dataframe thead th {\n",
       "        text-align: right;\n",
       "    }\n",
       "</style>\n",
       "<table border=\"1\" class=\"dataframe\">\n",
       "  <thead>\n",
       "    <tr style=\"text-align: right;\">\n",
       "      <th></th>\n",
       "      <th>gene</th>\n",
       "      <th>rsid</th>\n",
       "    </tr>\n",
       "  </thead>\n",
       "  <tbody>\n",
       "  </tbody>\n",
       "</table>\n",
       "</div>"
      ],
      "text/plain": [
       "Empty DataFrame\n",
       "Columns: [gene, rsid]\n",
       "Index: []"
      ]
     },
     "execution_count": 171,
     "metadata": {},
     "output_type": "execute_result"
    }
   ],
   "source": [
    "gene_snp_pairs.query('gene == \"LIPA\"').query('rsid == \"10:89243047\"')"
   ]
  },
  {
   "cell_type": "code",
   "execution_count": 178,
   "id": "29a67b3a",
   "metadata": {},
   "outputs": [
    {
     "data": {
      "text/html": [
       "<div>\n",
       "<style scoped>\n",
       "    .dataframe tbody tr th:only-of-type {\n",
       "        vertical-align: middle;\n",
       "    }\n",
       "\n",
       "    .dataframe tbody tr th {\n",
       "        vertical-align: top;\n",
       "    }\n",
       "\n",
       "    .dataframe thead th {\n",
       "        text-align: right;\n",
       "    }\n",
       "</style>\n",
       "<table border=\"1\" class=\"dataframe\">\n",
       "  <thead>\n",
       "    <tr style=\"text-align: right;\">\n",
       "      <th></th>\n",
       "      <th>GeneID</th>\n",
       "      <th>Gene_EnsemblID</th>\n",
       "      <th>SNP_rsID</th>\n",
       "      <th>SNP_assessed_allele</th>\n",
       "      <th>cell_type</th>\n",
       "      <th>Variant name</th>\n",
       "      <th>rsid</th>\n",
       "      <th>gene</th>\n",
       "      <th>ct</th>\n",
       "      <th>rsid_gene</th>\n",
       "      <th>pvalue</th>\n",
       "      <th>beta</th>\n",
       "    </tr>\n",
       "  </thead>\n",
       "  <tbody>\n",
       "    <tr>\n",
       "      <th>0</th>\n",
       "      <td>BSG</td>\n",
       "      <td>ENSG00000172270</td>\n",
       "      <td>rs11085113</td>\n",
       "      <td>A</td>\n",
       "      <td>Mono_C</td>\n",
       "      <td>rs11085113</td>\n",
       "      <td>19:563613</td>\n",
       "      <td>BSG</td>\n",
       "      <td>cm</td>\n",
       "      <td>19:563613_BSG</td>\n",
       "      <td>1.106830e-12</td>\n",
       "      <td>-0.119617</td>\n",
       "    </tr>\n",
       "    <tr>\n",
       "      <th>1</th>\n",
       "      <td>CD151</td>\n",
       "      <td>ENSG00000177697</td>\n",
       "      <td>rs61876748</td>\n",
       "      <td>G</td>\n",
       "      <td>CD8_S100B</td>\n",
       "      <td>rs61876748</td>\n",
       "      <td>11:833262</td>\n",
       "      <td>CD151</td>\n",
       "      <td>cm</td>\n",
       "      <td>11:833262_CD151</td>\n",
       "      <td>8.864540e-36</td>\n",
       "      <td>0.436573</td>\n",
       "    </tr>\n",
       "    <tr>\n",
       "      <th>2</th>\n",
       "      <td>CD151</td>\n",
       "      <td>ENSG00000177697</td>\n",
       "      <td>rs61876748</td>\n",
       "      <td>G</td>\n",
       "      <td>Mono_C</td>\n",
       "      <td>rs61876748</td>\n",
       "      <td>11:833262</td>\n",
       "      <td>CD151</td>\n",
       "      <td>cm</td>\n",
       "      <td>11:833262_CD151</td>\n",
       "      <td>8.864540e-36</td>\n",
       "      <td>0.436573</td>\n",
       "    </tr>\n",
       "    <tr>\n",
       "      <th>3</th>\n",
       "      <td>POLR2L</td>\n",
       "      <td>ENSG00000177700</td>\n",
       "      <td>rs28404903</td>\n",
       "      <td>C</td>\n",
       "      <td>Mono_C</td>\n",
       "      <td>rs28404903</td>\n",
       "      <td>11:841763</td>\n",
       "      <td>POLR2L</td>\n",
       "      <td>cm</td>\n",
       "      <td>11:841763_POLR2L</td>\n",
       "      <td>1.163480e-11</td>\n",
       "      <td>-0.126476</td>\n",
       "    </tr>\n",
       "    <tr>\n",
       "      <th>4</th>\n",
       "      <td>TSPAN4</td>\n",
       "      <td>ENSG00000214063</td>\n",
       "      <td>rs28681202</td>\n",
       "      <td>T</td>\n",
       "      <td>Mono_C</td>\n",
       "      <td>rs28681202</td>\n",
       "      <td>11:834098</td>\n",
       "      <td>TSPAN4</td>\n",
       "      <td>cm</td>\n",
       "      <td>11:834098_TSPAN4</td>\n",
       "      <td>1.908820e-05</td>\n",
       "      <td>-0.122398</td>\n",
       "    </tr>\n",
       "  </tbody>\n",
       "</table>\n",
       "</div>"
      ],
      "text/plain": [
       "   GeneID   Gene_EnsemblID    SNP_rsID SNP_assessed_allele  cell_type  \\\n",
       "0     BSG  ENSG00000172270  rs11085113                   A     Mono_C   \n",
       "1   CD151  ENSG00000177697  rs61876748                   G  CD8_S100B   \n",
       "2   CD151  ENSG00000177697  rs61876748                   G     Mono_C   \n",
       "3  POLR2L  ENSG00000177700  rs28404903                   C     Mono_C   \n",
       "4  TSPAN4  ENSG00000214063  rs28681202                   T     Mono_C   \n",
       "\n",
       "  Variant name       rsid    gene  ct         rsid_gene        pvalue  \\\n",
       "0   rs11085113  19:563613     BSG  cm     19:563613_BSG  1.106830e-12   \n",
       "1   rs61876748  11:833262   CD151  cm   11:833262_CD151  8.864540e-36   \n",
       "2   rs61876748  11:833262   CD151  cm   11:833262_CD151  8.864540e-36   \n",
       "3   rs28404903  11:841763  POLR2L  cm  11:841763_POLR2L  1.163480e-11   \n",
       "4   rs28681202  11:834098  TSPAN4  cm  11:834098_TSPAN4  1.908820e-05   \n",
       "\n",
       "       beta  \n",
       "0 -0.119617  \n",
       "1  0.436573  \n",
       "2  0.436573  \n",
       "3 -0.126476  \n",
       "4 -0.122398  "
      ]
     },
     "execution_count": 178,
     "metadata": {},
     "output_type": "execute_result"
    }
   ],
   "source": [
    "onek_replication.merge(cbc_eqtls, on=['rsid', 'gene'])"
   ]
  },
  {
   "cell_type": "code",
   "execution_count": 148,
   "id": "81060bde",
   "metadata": {},
   "outputs": [
    {
     "data": {
      "text/plain": [
       "(619,)"
      ]
     },
     "execution_count": 148,
     "metadata": {},
     "output_type": "execute_result"
    }
   ],
   "source": [
    "onek_replication['SNP_rsID'].drop_duplicates().shape"
   ]
  },
  {
   "cell_type": "code",
   "execution_count": 180,
   "id": "14cd15f0",
   "metadata": {},
   "outputs": [],
   "source": [
    "memento_result['logp'] = -np.log(memento_result['de_pval'])"
   ]
  },
  {
   "cell_type": "code",
   "execution_count": 189,
   "id": "53db1daf",
   "metadata": {},
   "outputs": [],
   "source": [
    "cbc_eqtls['logp'] = -np.log(cbc_eqtls['pvalue'])"
   ]
  },
  {
   "cell_type": "code",
   "execution_count": 191,
   "id": "46a47530",
   "metadata": {},
   "outputs": [
    {
     "data": {
      "text/plain": [
       "<matplotlib.collections.PathCollection at 0x7fc74d9cf6d0>"
      ]
     },
     "execution_count": 191,
     "metadata": {},
     "output_type": "execute_result"
    },
    {
     "data": {
      "image/png": "[encoded data removed]",
      "text/plain": [
       "<Figure size 432x288 with 1 Axes>"
      ]
     },
     "metadata": {
      "needs_background": "light"
     },
     "output_type": "display_data"
    }
   ],
   "source": [
    "plt.scatter(cbc_eqtls['beta'], cbc_eqtls['logp'], s=1)\n",
    "plt.scatter(cbc_eqtls.merge(onek_replication, on=['rsid', 'gene'])['beta'], cbc_eqtls.merge(onek_replication, on=['rsid', 'gene'])['logp'], s=30)"
   ]
  },
  {
   "cell_type": "code",
   "execution_count": 187,
   "id": "c02c9891",
   "metadata": {},
   "outputs": [
    {
     "data": {
      "text/plain": [
       "<matplotlib.collections.PathCollection at 0x7fc758603df0>"
      ]
     },
     "execution_count": 187,
     "metadata": {},
     "output_type": "execute_result"
    },
    {
     "data": {
      "image/png": "[encoded data removed]",
      "text/plain": [
       "<Figure size 432x288 with 1 Axes>"
      ]
     },
     "metadata": {
      "needs_background": "light"
     },
     "output_type": "display_data"
    }
   ],
   "source": [
    "plt.scatter(memento_result['de_coef'], memento_result['logp'], s=1)\n",
    "plt.scatter(memento_result.merge(onek_replication, on=['rsid', 'gene'])['de_coef'], memento_result.merge(onek_replication, on=['rsid', 'gene'])['logp'], s=30)"
   ]
  },
  {
   "cell_type": "code",
   "execution_count": 58,
   "id": "8342cda4",
   "metadata": {},
   "outputs": [],
   "source": [
    "pv_sorted = memento_result['de_pval'].sort_values().values"
   ]
  },
  {
   "cell_type": "code",
   "execution_count": 59,
   "id": "087120a0",
   "metadata": {},
   "outputs": [],
   "source": [
    "quantiles = stats.uniform.ppf(np.linspace(0, 1, pv_sorted.shape[0]), loc=0, scale=1)"
   ]
  },
  {
   "cell_type": "code",
   "execution_count": 69,
   "id": "6562465a",
   "metadata": {},
   "outputs": [
    {
     "data": {
      "text/html": [
       "<div>\n",
       "<style scoped>\n",
       "    .dataframe tbody tr th:only-of-type {\n",
       "        vertical-align: middle;\n",
       "    }\n",
       "\n",
       "    .dataframe tbody tr th {\n",
       "        vertical-align: top;\n",
       "    }\n",
       "\n",
       "    .dataframe thead th {\n",
       "        text-align: right;\n",
       "    }\n",
       "</style>\n",
       "<table border=\"1\" class=\"dataframe\">\n",
       "  <thead>\n",
       "    <tr style=\"text-align: right;\">\n",
       "      <th></th>\n",
       "      <th>gene</th>\n",
       "      <th>rsid</th>\n",
       "      <th>de_coef</th>\n",
       "      <th>de_se</th>\n",
       "      <th>de_pval</th>\n",
       "      <th>dv_coef</th>\n",
       "      <th>dv_se</th>\n",
       "      <th>dv_pval</th>\n",
       "    </tr>\n",
       "  </thead>\n",
       "  <tbody>\n",
       "    <tr>\n",
       "      <th>442</th>\n",
       "      <td>IFITM3</td>\n",
       "      <td>11:388579</td>\n",
       "      <td>0.232644</td>\n",
       "      <td>0.004755</td>\n",
       "      <td>0.0</td>\n",
       "      <td>-0.060880</td>\n",
       "      <td>0.007404</td>\n",
       "      <td>6.479226e-16</td>\n",
       "    </tr>\n",
       "    <tr>\n",
       "      <th>602</th>\n",
       "      <td>HLA-A</td>\n",
       "      <td>6:29940786</td>\n",
       "      <td>-0.130467</td>\n",
       "      <td>0.001955</td>\n",
       "      <td>0.0</td>\n",
       "      <td>0.174388</td>\n",
       "      <td>0.008243</td>\n",
       "      <td>5.491812e-98</td>\n",
       "    </tr>\n",
       "    <tr>\n",
       "      <th>117</th>\n",
       "      <td>RPS29</td>\n",
       "      <td>14:49619292</td>\n",
       "      <td>0.054916</td>\n",
       "      <td>0.001204</td>\n",
       "      <td>0.0</td>\n",
       "      <td>0.006312</td>\n",
       "      <td>0.004017</td>\n",
       "      <td>5.070637e-01</td>\n",
       "    </tr>\n",
       "    <tr>\n",
       "      <th>130</th>\n",
       "      <td>FCN1</td>\n",
       "      <td>9:134994132</td>\n",
       "      <td>0.189242</td>\n",
       "      <td>0.004768</td>\n",
       "      <td>0.0</td>\n",
       "      <td>0.036560</td>\n",
       "      <td>0.005654</td>\n",
       "      <td>1.595097e-10</td>\n",
       "    </tr>\n",
       "    <tr>\n",
       "      <th>128</th>\n",
       "      <td>FCN1</td>\n",
       "      <td>9:134988891</td>\n",
       "      <td>0.196267</td>\n",
       "      <td>0.004908</td>\n",
       "      <td>0.0</td>\n",
       "      <td>0.039881</td>\n",
       "      <td>0.005799</td>\n",
       "      <td>1.232455e-11</td>\n",
       "    </tr>\n",
       "    <tr>\n",
       "      <th>127</th>\n",
       "      <td>FCN1</td>\n",
       "      <td>9:134987645</td>\n",
       "      <td>0.161355</td>\n",
       "      <td>0.004037</td>\n",
       "      <td>0.0</td>\n",
       "      <td>0.045614</td>\n",
       "      <td>0.004731</td>\n",
       "      <td>2.861317e-21</td>\n",
       "    </tr>\n",
       "    <tr>\n",
       "      <th>124</th>\n",
       "      <td>FCN1</td>\n",
       "      <td>9:134984343</td>\n",
       "      <td>0.196267</td>\n",
       "      <td>0.004908</td>\n",
       "      <td>0.0</td>\n",
       "      <td>0.039881</td>\n",
       "      <td>0.005799</td>\n",
       "      <td>1.232455e-11</td>\n",
       "    </tr>\n",
       "    <tr>\n",
       "      <th>123</th>\n",
       "      <td>FCN1</td>\n",
       "      <td>9:134983511</td>\n",
       "      <td>-0.218136</td>\n",
       "      <td>0.004887</td>\n",
       "      <td>0.0</td>\n",
       "      <td>-0.000074</td>\n",
       "      <td>0.005970</td>\n",
       "      <td>9.902710e-01</td>\n",
       "    </tr>\n",
       "    <tr>\n",
       "      <th>122</th>\n",
       "      <td>FCN1</td>\n",
       "      <td>9:134981803</td>\n",
       "      <td>0.196267</td>\n",
       "      <td>0.004908</td>\n",
       "      <td>0.0</td>\n",
       "      <td>0.039881</td>\n",
       "      <td>0.005799</td>\n",
       "      <td>1.232455e-11</td>\n",
       "    </tr>\n",
       "    <tr>\n",
       "      <th>121</th>\n",
       "      <td>FCN1</td>\n",
       "      <td>9:134980361</td>\n",
       "      <td>0.196267</td>\n",
       "      <td>0.004908</td>\n",
       "      <td>0.0</td>\n",
       "      <td>0.039881</td>\n",
       "      <td>0.005799</td>\n",
       "      <td>1.232455e-11</td>\n",
       "    </tr>\n",
       "    <tr>\n",
       "      <th>119</th>\n",
       "      <td>FCN1</td>\n",
       "      <td>9:134976750</td>\n",
       "      <td>0.203422</td>\n",
       "      <td>0.004881</td>\n",
       "      <td>0.0</td>\n",
       "      <td>0.043490</td>\n",
       "      <td>0.005732</td>\n",
       "      <td>1.352475e-13</td>\n",
       "    </tr>\n",
       "    <tr>\n",
       "      <th>118</th>\n",
       "      <td>FCN1</td>\n",
       "      <td>9:134976652</td>\n",
       "      <td>0.203422</td>\n",
       "      <td>0.004881</td>\n",
       "      <td>0.0</td>\n",
       "      <td>0.043490</td>\n",
       "      <td>0.005732</td>\n",
       "      <td>1.352475e-13</td>\n",
       "    </tr>\n",
       "    <tr>\n",
       "      <th>117</th>\n",
       "      <td>FCN1</td>\n",
       "      <td>9:134975408</td>\n",
       "      <td>-0.330657</td>\n",
       "      <td>0.008323</td>\n",
       "      <td>0.0</td>\n",
       "      <td>0.143534</td>\n",
       "      <td>0.009747</td>\n",
       "      <td>8.876950e-49</td>\n",
       "    </tr>\n",
       "    <tr>\n",
       "      <th>116</th>\n",
       "      <td>FCN1</td>\n",
       "      <td>9:134974333</td>\n",
       "      <td>-0.330657</td>\n",
       "      <td>0.008323</td>\n",
       "      <td>0.0</td>\n",
       "      <td>0.143534</td>\n",
       "      <td>0.009747</td>\n",
       "      <td>8.876950e-49</td>\n",
       "    </tr>\n",
       "    <tr>\n",
       "      <th>1234</th>\n",
       "      <td>HLA-B</td>\n",
       "      <td>6:31335928</td>\n",
       "      <td>-0.083683</td>\n",
       "      <td>0.001876</td>\n",
       "      <td>0.0</td>\n",
       "      <td>-0.015823</td>\n",
       "      <td>0.008120</td>\n",
       "      <td>1.615826e-01</td>\n",
       "    </tr>\n",
       "  </tbody>\n",
       "</table>\n",
       "</div>"
      ],
      "text/plain": [
       "        gene         rsid   de_coef     de_se  de_pval   dv_coef     dv_se  \\\n",
       "442   IFITM3    11:388579  0.232644  0.004755      0.0 -0.060880  0.007404   \n",
       "602    HLA-A   6:29940786 -0.130467  0.001955      0.0  0.174388  0.008243   \n",
       "117    RPS29  14:49619292  0.054916  0.001204      0.0  0.006312  0.004017   \n",
       "130     FCN1  9:134994132  0.189242  0.004768      0.0  0.036560  0.005654   \n",
       "128     FCN1  9:134988891  0.196267  0.004908      0.0  0.039881  0.005799   \n",
       "127     FCN1  9:134987645  0.161355  0.004037      0.0  0.045614  0.004731   \n",
       "124     FCN1  9:134984343  0.196267  0.004908      0.0  0.039881  0.005799   \n",
       "123     FCN1  9:134983511 -0.218136  0.004887      0.0 -0.000074  0.005970   \n",
       "122     FCN1  9:134981803  0.196267  0.004908      0.0  0.039881  0.005799   \n",
       "121     FCN1  9:134980361  0.196267  0.004908      0.0  0.039881  0.005799   \n",
       "119     FCN1  9:134976750  0.203422  0.004881      0.0  0.043490  0.005732   \n",
       "118     FCN1  9:134976652  0.203422  0.004881      0.0  0.043490  0.005732   \n",
       "117     FCN1  9:134975408 -0.330657  0.008323      0.0  0.143534  0.009747   \n",
       "116     FCN1  9:134974333 -0.330657  0.008323      0.0  0.143534  0.009747   \n",
       "1234   HLA-B   6:31335928 -0.083683  0.001876      0.0 -0.015823  0.008120   \n",
       "\n",
       "           dv_pval  \n",
       "442   6.479226e-16  \n",
       "602   5.491812e-98  \n",
       "117   5.070637e-01  \n",
       "130   1.595097e-10  \n",
       "128   1.232455e-11  \n",
       "127   2.861317e-21  \n",
       "124   1.232455e-11  \n",
       "123   9.902710e-01  \n",
       "122   1.232455e-11  \n",
       "121   1.232455e-11  \n",
       "119   1.352475e-13  \n",
       "118   1.352475e-13  \n",
       "117   8.876950e-49  \n",
       "116   8.876950e-49  \n",
       "1234  1.615826e-01  "
      ]
     },
     "execution_count": 69,
     "metadata": {},
     "output_type": "execute_result"
    }
   ],
   "source": [
    "memento_result.sort_values('de_pval').head(15)"
   ]
  },
  {
   "cell_type": "markdown",
   "id": "b3a519bf",
   "metadata": {},
   "source": [
    "### 1K1K replication"
   ]
  },
  {
   "cell_type": "code",
   "execution_count": 10,
   "id": "13b38f13",
   "metadata": {},
   "outputs": [],
   "source": [
    "onek1k_pos = pd.read_csv('1k1k_snps_chrpos.txt', header=None).iloc[:,0].tolist()\n",
    "onek1k_info = pd.read_csv('1k1k_snp_info.txt', sep='\\t', header=None).iloc[:,:3]\n",
    "onek1k_info.columns = ['chr', 'pos', 'name']\n",
    "onek1k_info['rsid'] = onek1k_info['chr'].astype(str) + ':' + onek1k_info['pos'].astype(str)"
   ]
  },
  {
   "cell_type": "code",
   "execution_count": 37,
   "id": "d60e20ba",
   "metadata": {},
   "outputs": [],
   "source": [
    "onek_replication = pd.read_csv(data_path + 'OneK1K_eqtls_for_replication.txt', sep='\\t')#.query('cell_type == \"Mono_C\"')"
   ]
  },
  {
   "cell_type": "code",
   "execution_count": 38,
   "id": "22b5be7f",
   "metadata": {},
   "outputs": [],
   "source": [
    "onek_replication = onek_replication.merge(onek1k_info, left_on='SNP_rsID', right_on='name').query('cell_type == \"Mono_C\"')"
   ]
  },
  {
   "cell_type": "code",
   "execution_count": null,
   "id": "995b04cd",
   "metadata": {},
   "outputs": [],
   "source": []
  },
  {
   "cell_type": "code",
   "execution_count": 39,
   "id": "0f30b32b",
   "metadata": {},
   "outputs": [
    {
     "data": {
      "text/html": [
       "<div>\n",
       "<style scoped>\n",
       "    .dataframe tbody tr th:only-of-type {\n",
       "        vertical-align: middle;\n",
       "    }\n",
       "\n",
       "    .dataframe tbody tr th {\n",
       "        vertical-align: top;\n",
       "    }\n",
       "\n",
       "    .dataframe thead th {\n",
       "        text-align: right;\n",
       "    }\n",
       "</style>\n",
       "<table border=\"1\" class=\"dataframe\">\n",
       "  <thead>\n",
       "    <tr style=\"text-align: right;\">\n",
       "      <th></th>\n",
       "      <th>ct</th>\n",
       "      <th>rsid_gene</th>\n",
       "      <th>pvalue</th>\n",
       "      <th>beta</th>\n",
       "      <th>gene</th>\n",
       "      <th>rsid</th>\n",
       "    </tr>\n",
       "  </thead>\n",
       "  <tbody>\n",
       "    <tr>\n",
       "      <th>284295</th>\n",
       "      <td>cm</td>\n",
       "      <td>10:100122640_HPS1</td>\n",
       "      <td>0.000773</td>\n",
       "      <td>-0.066580</td>\n",
       "      <td>HPS1</td>\n",
       "      <td>10:100122640</td>\n",
       "    </tr>\n",
       "    <tr>\n",
       "      <th>284296</th>\n",
       "      <td>cm</td>\n",
       "      <td>10:100156113_HPS1</td>\n",
       "      <td>0.000105</td>\n",
       "      <td>-0.072121</td>\n",
       "      <td>HPS1</td>\n",
       "      <td>10:100156113</td>\n",
       "    </tr>\n",
       "  </tbody>\n",
       "</table>\n",
       "</div>"
      ],
      "text/plain": [
       "        ct          rsid_gene    pvalue      beta  gene          rsid\n",
       "284295  cm  10:100122640_HPS1  0.000773 -0.066580  HPS1  10:100122640\n",
       "284296  cm  10:100156113_HPS1  0.000105 -0.072121  HPS1  10:100156113"
      ]
     },
     "execution_count": 39,
     "metadata": {},
     "output_type": "execute_result"
    }
   ],
   "source": [
    "cbc_eqtls.head(2)"
   ]
  },
  {
   "cell_type": "code",
   "execution_count": 40,
   "id": "05f7513d",
   "metadata": {},
   "outputs": [],
   "source": [
    "cbc_overlap = onek_replication"
   ]
  },
  {
   "cell_type": "code",
   "execution_count": 41,
   "id": "63b22b13",
   "metadata": {},
   "outputs": [],
   "source": [
    "onek_replication['gene'] = onek_replication['GeneID']"
   ]
  },
  {
   "cell_type": "code",
   "execution_count": 42,
   "id": "c2aa5c64",
   "metadata": {},
   "outputs": [
    {
     "data": {
      "text/html": [
       "<div>\n",
       "<style scoped>\n",
       "    .dataframe tbody tr th:only-of-type {\n",
       "        vertical-align: middle;\n",
       "    }\n",
       "\n",
       "    .dataframe tbody tr th {\n",
       "        vertical-align: top;\n",
       "    }\n",
       "\n",
       "    .dataframe thead th {\n",
       "        text-align: right;\n",
       "    }\n",
       "</style>\n",
       "<table border=\"1\" class=\"dataframe\">\n",
       "  <thead>\n",
       "    <tr style=\"text-align: right;\">\n",
       "      <th></th>\n",
       "      <th>GeneID</th>\n",
       "      <th>Gene_EnsemblID</th>\n",
       "      <th>SNP_rsID</th>\n",
       "      <th>SNP_assessed_allele</th>\n",
       "      <th>cell_type</th>\n",
       "      <th>chr</th>\n",
       "      <th>pos</th>\n",
       "      <th>name</th>\n",
       "      <th>rsid</th>\n",
       "      <th>gene</th>\n",
       "    </tr>\n",
       "  </thead>\n",
       "  <tbody>\n",
       "    <tr>\n",
       "      <th>38</th>\n",
       "      <td>TIMM10</td>\n",
       "      <td>ENSG00000134809</td>\n",
       "      <td>rs2848626</td>\n",
       "      <td>T</td>\n",
       "      <td>Mono_C</td>\n",
       "      <td>11</td>\n",
       "      <td>57283988</td>\n",
       "      <td>rs2848626</td>\n",
       "      <td>11:57283988</td>\n",
       "      <td>TIMM10</td>\n",
       "    </tr>\n",
       "    <tr>\n",
       "      <th>45</th>\n",
       "      <td>RPLP2</td>\n",
       "      <td>ENSG00000177600</td>\n",
       "      <td>rs12277141</td>\n",
       "      <td>C</td>\n",
       "      <td>Mono_C</td>\n",
       "      <td>11</td>\n",
       "      <td>798865</td>\n",
       "      <td>rs12277141</td>\n",
       "      <td>11:798865</td>\n",
       "      <td>RPLP2</td>\n",
       "    </tr>\n",
       "  </tbody>\n",
       "</table>\n",
       "</div>"
      ],
      "text/plain": [
       "    GeneID   Gene_EnsemblID    SNP_rsID SNP_assessed_allele cell_type  chr  \\\n",
       "38  TIMM10  ENSG00000134809   rs2848626                   T    Mono_C   11   \n",
       "45   RPLP2  ENSG00000177600  rs12277141                   C    Mono_C   11   \n",
       "\n",
       "         pos        name         rsid    gene  \n",
       "38  57283988   rs2848626  11:57283988  TIMM10  \n",
       "45    798865  rs12277141    11:798865   RPLP2  "
      ]
     },
     "execution_count": 42,
     "metadata": {},
     "output_type": "execute_result"
    }
   ],
   "source": [
    "onek_replication.head(2)"
   ]
  },
  {
   "cell_type": "code",
   "execution_count": 45,
   "id": "e5afc02f",
   "metadata": {},
   "outputs": [
    {
     "data": {
      "text/plain": [
       "(98063, 6)"
      ]
     },
     "execution_count": 45,
     "metadata": {},
     "output_type": "execute_result"
    }
   ],
   "source": [
    "cbc_eqtls.shape"
   ]
  },
  {
   "cell_type": "code",
   "execution_count": 48,
   "id": "df6e9b4d",
   "metadata": {},
   "outputs": [
    {
     "data": {
      "text/plain": [
       "(213, 14)"
      ]
     },
     "execution_count": 48,
     "metadata": {},
     "output_type": "execute_result"
    }
   ],
   "source": [
    "onek_replication.merge(cbc_eqtls, on=['gene', 'rsid']).shape"
   ]
  },
  {
   "cell_type": "code",
   "execution_count": 65,
   "id": "5541e6cb",
   "metadata": {},
   "outputs": [
    {
     "data": {
      "text/plain": [
       "(1251602, 10)"
      ]
     },
     "execution_count": 65,
     "metadata": {},
     "output_type": "execute_result"
    }
   ],
   "source": [
    "memento_result.shape"
   ]
  },
  {
   "cell_type": "code",
   "execution_count": 60,
   "id": "cbcc9089",
   "metadata": {},
   "outputs": [],
   "source": [
    "memento_result = pd.read_csv('cm_100k_result.csv').sort_values('de_coef')#.head(98063)"
   ]
  },
  {
   "cell_type": "code",
   "execution_count": 61,
   "id": "fc1a6d70",
   "metadata": {},
   "outputs": [
    {
     "data": {
      "text/plain": [
       "(60, 18)"
      ]
     },
     "execution_count": 61,
     "metadata": {},
     "output_type": "execute_result"
    }
   ],
   "source": [
    "onek_replication.merge(memento_result, on=['gene', 'rsid']).shape"
   ]
  },
  {
   "cell_type": "code",
   "execution_count": 59,
   "id": "dde541b7",
   "metadata": {},
   "outputs": [
    {
     "data": {
      "text/html": [
       "<div>\n",
       "<style scoped>\n",
       "    .dataframe tbody tr th:only-of-type {\n",
       "        vertical-align: middle;\n",
       "    }\n",
       "\n",
       "    .dataframe tbody tr th {\n",
       "        vertical-align: top;\n",
       "    }\n",
       "\n",
       "    .dataframe thead th {\n",
       "        text-align: right;\n",
       "    }\n",
       "</style>\n",
       "<table border=\"1\" class=\"dataframe\">\n",
       "  <thead>\n",
       "    <tr style=\"text-align: right;\">\n",
       "      <th></th>\n",
       "      <th>GeneID</th>\n",
       "      <th>Gene_EnsemblID</th>\n",
       "      <th>SNP_rsID</th>\n",
       "      <th>SNP_assessed_allele</th>\n",
       "      <th>cell_type</th>\n",
       "      <th>chr</th>\n",
       "      <th>pos</th>\n",
       "      <th>name</th>\n",
       "      <th>rsid</th>\n",
       "      <th>gene</th>\n",
       "    </tr>\n",
       "  </thead>\n",
       "  <tbody>\n",
       "    <tr>\n",
       "      <th>38</th>\n",
       "      <td>TIMM10</td>\n",
       "      <td>ENSG00000134809</td>\n",
       "      <td>rs2848626</td>\n",
       "      <td>T</td>\n",
       "      <td>Mono_C</td>\n",
       "      <td>11</td>\n",
       "      <td>57283988</td>\n",
       "      <td>rs2848626</td>\n",
       "      <td>11:57283988</td>\n",
       "      <td>TIMM10</td>\n",
       "    </tr>\n",
       "    <tr>\n",
       "      <th>45</th>\n",
       "      <td>RPLP2</td>\n",
       "      <td>ENSG00000177600</td>\n",
       "      <td>rs12277141</td>\n",
       "      <td>C</td>\n",
       "      <td>Mono_C</td>\n",
       "      <td>11</td>\n",
       "      <td>798865</td>\n",
       "      <td>rs12277141</td>\n",
       "      <td>11:798865</td>\n",
       "      <td>RPLP2</td>\n",
       "    </tr>\n",
       "  </tbody>\n",
       "</table>\n",
       "</div>"
      ],
      "text/plain": [
       "    GeneID   Gene_EnsemblID    SNP_rsID SNP_assessed_allele cell_type  chr  \\\n",
       "38  TIMM10  ENSG00000134809   rs2848626                   T    Mono_C   11   \n",
       "45   RPLP2  ENSG00000177600  rs12277141                   C    Mono_C   11   \n",
       "\n",
       "         pos        name         rsid    gene  \n",
       "38  57283988   rs2848626  11:57283988  TIMM10  \n",
       "45    798865  rs12277141    11:798865   RPLP2  "
      ]
     },
     "execution_count": 59,
     "metadata": {},
     "output_type": "execute_result"
    }
   ],
   "source": [
    "onek_replication.head(2)"
   ]
  },
  {
   "cell_type": "code",
   "execution_count": 11,
   "id": "4a3a9d75",
   "metadata": {},
   "outputs": [],
   "source": [
    "overlap = set(onek1k_info['rsid']) & set(pos.index.tolist())"
   ]
  },
  {
   "cell_type": "code",
   "execution_count": 12,
   "id": "6e9d40dd",
   "metadata": {},
   "outputs": [
    {
     "data": {
      "text/plain": [
       "8086"
      ]
     },
     "execution_count": 12,
     "metadata": {},
     "output_type": "execute_result"
    }
   ],
   "source": [
    "len(overlap)"
   ]
  },
  {
   "cell_type": "code",
   "execution_count": 13,
   "id": "cca30161",
   "metadata": {},
   "outputs": [
    {
     "ename": "NameError",
     "evalue": "name 'onek_replication' is not defined",
     "output_type": "error",
     "traceback": [
      "\u001b[0;31m---------------------------------------------------------------------------\u001b[0m",
      "\u001b[0;31mNameError\u001b[0m                                 Traceback (most recent call last)",
      "\u001b[0;32m/tmp/ipykernel_22201/2692956876.py\u001b[0m in \u001b[0;36m<module>\u001b[0;34m\u001b[0m\n\u001b[0;32m----> 1\u001b[0;31m \u001b[0mhits_snps\u001b[0m \u001b[0;34m=\u001b[0m \u001b[0mset\u001b[0m\u001b[0;34m(\u001b[0m\u001b[0monek_replication\u001b[0m\u001b[0;34m.\u001b[0m\u001b[0mrsid\u001b[0m\u001b[0;34m.\u001b[0m\u001b[0mtolist\u001b[0m\u001b[0;34m(\u001b[0m\u001b[0;34m)\u001b[0m\u001b[0;34m)\u001b[0m\u001b[0;34m\u001b[0m\u001b[0;34m\u001b[0m\u001b[0m\n\u001b[0m",
      "\u001b[0;31mNameError\u001b[0m: name 'onek_replication' is not defined"
     ]
    }
   ],
   "source": [
    "hits_snps = set(onek_replication.rsid.tolist())"
   ]
  },
  {
   "cell_type": "code",
   "execution_count": null,
   "id": "e7eebcae",
   "metadata": {},
   "outputs": [],
   "source": [
    "set(overlap) & set(hits_snps)"
   ]
  },
  {
   "cell_type": "code",
   "execution_count": null,
   "id": "bd2d7c50",
   "metadata": {},
   "outputs": [],
   "source": []
  },
  {
   "cell_type": "code",
   "execution_count": null,
   "id": "21430264",
   "metadata": {},
   "outputs": [],
   "source": []
  },
  {
   "cell_type": "code",
   "execution_count": 245,
   "id": "3c41f041",
   "metadata": {},
   "outputs": [
    {
     "data": {
      "text/html": [
       "<div>\n",
       "<style scoped>\n",
       "    .dataframe tbody tr th:only-of-type {\n",
       "        vertical-align: middle;\n",
       "    }\n",
       "\n",
       "    .dataframe tbody tr th {\n",
       "        vertical-align: top;\n",
       "    }\n",
       "\n",
       "    .dataframe thead th {\n",
       "        text-align: right;\n",
       "    }\n",
       "</style>\n",
       "<table border=\"1\" class=\"dataframe\">\n",
       "  <thead>\n",
       "    <tr style=\"text-align: right;\">\n",
       "      <th></th>\n",
       "      <th>GeneID</th>\n",
       "      <th>Gene_EnsemblID</th>\n",
       "      <th>SNP_rsID</th>\n",
       "      <th>SNP_assessed_allele</th>\n",
       "      <th>cell_type</th>\n",
       "      <th>Variant name</th>\n",
       "      <th>rsid</th>\n",
       "      <th>gene</th>\n",
       "    </tr>\n",
       "  </thead>\n",
       "  <tbody>\n",
       "    <tr>\n",
       "      <th>10</th>\n",
       "      <td>RPLP2</td>\n",
       "      <td>ENSG00000177600</td>\n",
       "      <td>rs12277141</td>\n",
       "      <td>C</td>\n",
       "      <td>B_Imm_Naïve</td>\n",
       "      <td>rs12277141</td>\n",
       "      <td>11:798865</td>\n",
       "      <td>RPLP2</td>\n",
       "    </tr>\n",
       "    <tr>\n",
       "      <th>11</th>\n",
       "      <td>RPLP2</td>\n",
       "      <td>ENSG00000177600</td>\n",
       "      <td>rs12277141</td>\n",
       "      <td>C</td>\n",
       "      <td>CD4_SOX4</td>\n",
       "      <td>rs12277141</td>\n",
       "      <td>11:798865</td>\n",
       "      <td>RPLP2</td>\n",
       "    </tr>\n",
       "    <tr>\n",
       "      <th>12</th>\n",
       "      <td>RPLP2</td>\n",
       "      <td>ENSG00000177600</td>\n",
       "      <td>rs12277141</td>\n",
       "      <td>C</td>\n",
       "      <td>Mono_C</td>\n",
       "      <td>rs12277141</td>\n",
       "      <td>11:798865</td>\n",
       "      <td>RPLP2</td>\n",
       "    </tr>\n",
       "    <tr>\n",
       "      <th>871</th>\n",
       "      <td>AC009005.2</td>\n",
       "      <td>ENSG00000267751</td>\n",
       "      <td>rs11085113</td>\n",
       "      <td>A</td>\n",
       "      <td>CD4_Naïve_CM</td>\n",
       "      <td>rs11085113</td>\n",
       "      <td>19:563613</td>\n",
       "      <td>AC009005.2</td>\n",
       "    </tr>\n",
       "    <tr>\n",
       "      <th>872</th>\n",
       "      <td>BSG</td>\n",
       "      <td>ENSG00000172270</td>\n",
       "      <td>rs11085113</td>\n",
       "      <td>A</td>\n",
       "      <td>Mono_C</td>\n",
       "      <td>rs11085113</td>\n",
       "      <td>19:563613</td>\n",
       "      <td>BSG</td>\n",
       "    </tr>\n",
       "    <tr>\n",
       "      <th>1170</th>\n",
       "      <td>CD151</td>\n",
       "      <td>ENSG00000177697</td>\n",
       "      <td>rs61876748</td>\n",
       "      <td>G</td>\n",
       "      <td>CD8_S100B</td>\n",
       "      <td>rs61876748</td>\n",
       "      <td>11:833262</td>\n",
       "      <td>CD151</td>\n",
       "    </tr>\n",
       "    <tr>\n",
       "      <th>1171</th>\n",
       "      <td>CD151</td>\n",
       "      <td>ENSG00000177697</td>\n",
       "      <td>rs61876748</td>\n",
       "      <td>G</td>\n",
       "      <td>Mono_C</td>\n",
       "      <td>rs61876748</td>\n",
       "      <td>11:833262</td>\n",
       "      <td>CD151</td>\n",
       "    </tr>\n",
       "    <tr>\n",
       "      <th>1270</th>\n",
       "      <td>POLR2L</td>\n",
       "      <td>ENSG00000177700</td>\n",
       "      <td>rs28404903</td>\n",
       "      <td>C</td>\n",
       "      <td>Mono_C</td>\n",
       "      <td>rs28404903</td>\n",
       "      <td>11:841763</td>\n",
       "      <td>POLR2L</td>\n",
       "    </tr>\n",
       "    <tr>\n",
       "      <th>1273</th>\n",
       "      <td>TSPAN4</td>\n",
       "      <td>ENSG00000214063</td>\n",
       "      <td>rs28681202</td>\n",
       "      <td>T</td>\n",
       "      <td>Mono_C</td>\n",
       "      <td>rs28681202</td>\n",
       "      <td>11:834098</td>\n",
       "      <td>TSPAN4</td>\n",
       "    </tr>\n",
       "    <tr>\n",
       "      <th>2072</th>\n",
       "      <td>IRF4</td>\n",
       "      <td>ENSG00000137265</td>\n",
       "      <td>rs72835945</td>\n",
       "      <td>G</td>\n",
       "      <td>Mono_C</td>\n",
       "      <td>rs72835945</td>\n",
       "      <td>6:580011</td>\n",
       "      <td>IRF4</td>\n",
       "    </tr>\n",
       "  </tbody>\n",
       "</table>\n",
       "</div>"
      ],
      "text/plain": [
       "          GeneID   Gene_EnsemblID    SNP_rsID SNP_assessed_allele  \\\n",
       "10         RPLP2  ENSG00000177600  rs12277141                   C   \n",
       "11         RPLP2  ENSG00000177600  rs12277141                   C   \n",
       "12         RPLP2  ENSG00000177600  rs12277141                   C   \n",
       "871   AC009005.2  ENSG00000267751  rs11085113                   A   \n",
       "872          BSG  ENSG00000172270  rs11085113                   A   \n",
       "1170       CD151  ENSG00000177697  rs61876748                   G   \n",
       "1171       CD151  ENSG00000177697  rs61876748                   G   \n",
       "1270      POLR2L  ENSG00000177700  rs28404903                   C   \n",
       "1273      TSPAN4  ENSG00000214063  rs28681202                   T   \n",
       "2072        IRF4  ENSG00000137265  rs72835945                   G   \n",
       "\n",
       "         cell_type Variant name       rsid        gene  \n",
       "10     B_Imm_Naïve   rs12277141  11:798865       RPLP2  \n",
       "11        CD4_SOX4   rs12277141  11:798865       RPLP2  \n",
       "12          Mono_C   rs12277141  11:798865       RPLP2  \n",
       "871   CD4_Naïve_CM   rs11085113  19:563613  AC009005.2  \n",
       "872         Mono_C   rs11085113  19:563613         BSG  \n",
       "1170     CD8_S100B   rs61876748  11:833262       CD151  \n",
       "1171        Mono_C   rs61876748  11:833262       CD151  \n",
       "1270        Mono_C   rs28404903  11:841763      POLR2L  \n",
       "1273        Mono_C   rs28681202  11:834098      TSPAN4  \n",
       "2072        Mono_C   rs72835945   6:580011        IRF4  "
      ]
     },
     "execution_count": 245,
     "metadata": {},
     "output_type": "execute_result"
    }
   ],
   "source": [
    "onek_replication.query('rsid in @overlap')"
   ]
  },
  {
   "cell_type": "markdown",
   "id": "29add320",
   "metadata": {},
   "source": [
    "### Test"
   ]
  },
  {
   "cell_type": "code",
   "execution_count": 7,
   "id": "8adae847",
   "metadata": {},
   "outputs": [
    {
     "name": "stderr",
     "output_type": "stream",
     "text": [
      "/home/ssm-user/anaconda3/envs/single_cell/lib/python3.8/site-packages/pandas/core/arrays/categorical.py:2631: FutureWarning: The `inplace` parameter in pandas.Categorical.remove_unused_categories is deprecated and will be removed in a future version.\n",
      "  res = method(*args, **kwargs)\n"
     ]
    }
   ],
   "source": [
    "adata = sc.read(data_path + 'Lupus_study_adjusted_counts.h5ad')\n",
    "adata = adata[adata.obs.ind_cov.isin(pos.columns)].copy()"
   ]
  },
  {
   "cell_type": "code",
   "execution_count": 8,
   "id": "55b4184a",
   "metadata": {},
   "outputs": [],
   "source": [
    "gene_snp_pairs = pd.read_csv(data_path +'gene_snp_pairs.csv')\n",
    "gene_snp_pairs = gene_snp_pairs.query('gene == \"IFITM3\" & rsid == \"11:388579\"')"
   ]
  },
  {
   "cell_type": "code",
   "execution_count": 9,
   "id": "d4a25930",
   "metadata": {},
   "outputs": [],
   "source": [
    "adata.obs['capture_rate'] = 0.1\n",
    "memento.setup_memento(adata, q_column='capture_rate', trim_percent=0.1, filter_mean_thresh=0.05)"
   ]
  },
  {
   "cell_type": "code",
   "execution_count": 10,
   "id": "b0d57ac2",
   "metadata": {},
   "outputs": [],
   "source": [
    "memento.create_groups(adata, label_columns=['ind_cov'])"
   ]
  },
  {
   "cell_type": "code",
   "execution_count": 11,
   "id": "34d28769",
   "metadata": {},
   "outputs": [],
   "source": [
    "memento.compute_1d_moments(adata, min_perc_group=.5, gene_list=['IFITM3'])"
   ]
  },
  {
   "cell_type": "code",
   "execution_count": 12,
   "id": "cc60d253",
   "metadata": {},
   "outputs": [],
   "source": [
    "gene_to_snp = dict(gene_snp_pairs[gene_snp_pairs.gene.isin(adata.var.index)].groupby('gene').rsid.apply(list))"
   ]
  },
  {
   "cell_type": "code",
   "execution_count": 13,
   "id": "7af58913",
   "metadata": {},
   "outputs": [],
   "source": [
    "donor_df = pos[[x[3:] for x in adata.uns['memento']['groups']]].T\n"
   ]
  },
  {
   "cell_type": "code",
   "execution_count": 14,
   "id": "7a5c771e",
   "metadata": {},
   "outputs": [
    {
     "name": "stderr",
     "output_type": "stream",
     "text": [
      "[Parallel(n_jobs=1)]: Using backend SequentialBackend with 1 concurrent workers.\n",
      "[Parallel(n_jobs=1)]: Done   1 out of   1 | elapsed:   11.0s finished\n"
     ]
    }
   ],
   "source": [
    "boot_mean = memento.ht_1d_moments(\n",
    "    adata, \n",
    "    covariate=pd.DataFrame(np.ones((donor_df.shape[0], 1))),\n",
    "    treatment=donor_df,\n",
    "    treatment_for_gene=gene_to_snp,\n",
    "    num_boot=10000, \n",
    "    verbose=1,\n",
    "    num_cpus=1,\n",
    "    resampling='bootstrap',\n",
    "    approx=True)\n"
   ]
  },
  {
   "cell_type": "code",
   "execution_count": 20,
   "id": "c21f3bf2",
   "metadata": {},
   "outputs": [],
   "source": [
    "from sklearn.linear_model import LinearRegression"
   ]
  },
  {
   "cell_type": "code",
   "execution_count": 24,
   "id": "495a147e",
   "metadata": {},
   "outputs": [],
   "source": [
    "coefs = LinearRegression().fit(donor_df[['11:388579']].values, boot_mean).coef_.reshape(-1)"
   ]
  },
  {
   "cell_type": "code",
   "execution_count": 27,
   "id": "fb0cd16a",
   "metadata": {},
   "outputs": [
    {
     "data": {
      "text/plain": [
       "(10001,)"
      ]
     },
     "execution_count": 27,
     "metadata": {},
     "output_type": "execute_result"
    }
   ],
   "source": [
    "coefs.shape"
   ]
  },
  {
   "cell_type": "code",
   "execution_count": 26,
   "id": "7cac6c6b",
   "metadata": {},
   "outputs": [
    {
     "data": {
      "text/plain": [
       "0.005181461719664188"
      ]
     },
     "execution_count": 26,
     "metadata": {},
     "output_type": "execute_result"
    }
   ],
   "source": [
    "np.nanstd(coefs)"
   ]
  },
  {
   "cell_type": "code",
   "execution_count": 25,
   "id": "3b6835ce",
   "metadata": {},
   "outputs": [
    {
     "data": {
      "text/plain": [
       "<AxesSubplot:ylabel='Density'>"
      ]
     },
     "execution_count": 25,
     "metadata": {},
     "output_type": "execute_result"
    },
    {
     "data": {
      "image/png": "[encoded data removed]",
      "text/plain": [
       "<Figure size 432x288 with 1 Axes>"
      ]
     },
     "metadata": {
      "needs_background": "light"
     },
     "output_type": "display_data"
    }
   ],
   "source": [
    "sns.kdeplot(coefs)"
   ]
  },
  {
   "cell_type": "code",
   "execution_count": 15,
   "id": "85fad026",
   "metadata": {},
   "outputs": [
    {
     "data": {
      "text/plain": [
       "array([[-0.54370683, -0.52998624, -0.43924766, ..., -0.48863371,\n",
       "        -0.56052675, -0.58236751],\n",
       "       [-0.81346095, -0.83964215, -0.78934081, ..., -0.84336699,\n",
       "        -0.80278802, -0.78686279],\n",
       "       [-0.7383396 , -0.78514043, -0.6936486 , ..., -0.76877027,\n",
       "        -0.70238199, -0.73656174],\n",
       "       ...,\n",
       "       [-0.24790595, -0.29927745, -0.28821551, ..., -0.2880716 ,\n",
       "        -0.20381805, -0.24684751],\n",
       "       [ 1.26190019,  1.27466918,  1.27960155, ...,  1.26140971,\n",
       "         1.26621201,  1.25129435],\n",
       "       [-0.22283186, -0.22971109, -0.21758006, ..., -0.22814172,\n",
       "        -0.27817472, -0.24875275]])"
      ]
     },
     "execution_count": 15,
     "metadata": {},
     "output_type": "execute_result"
    }
   ],
   "source": [
    "boot_mean"
   ]
  },
  {
   "cell_type": "code",
   "execution_count": 83,
   "id": "173c697a",
   "metadata": {},
   "outputs": [
    {
     "data": {
      "text/html": [
       "<div>\n",
       "<style scoped>\n",
       "    .dataframe tbody tr th:only-of-type {\n",
       "        vertical-align: middle;\n",
       "    }\n",
       "\n",
       "    .dataframe tbody tr th {\n",
       "        vertical-align: top;\n",
       "    }\n",
       "\n",
       "    .dataframe thead th {\n",
       "        text-align: right;\n",
       "    }\n",
       "</style>\n",
       "<table border=\"1\" class=\"dataframe\">\n",
       "  <thead>\n",
       "    <tr style=\"text-align: right;\">\n",
       "      <th></th>\n",
       "      <th>gene</th>\n",
       "      <th>rsid</th>\n",
       "      <th>de_coef</th>\n",
       "      <th>de_se</th>\n",
       "      <th>de_pval</th>\n",
       "      <th>dv_coef</th>\n",
       "      <th>dv_se</th>\n",
       "      <th>dv_pval</th>\n",
       "    </tr>\n",
       "  </thead>\n",
       "  <tbody>\n",
       "    <tr>\n",
       "      <th>0</th>\n",
       "      <td>IFITM3</td>\n",
       "      <td>11:388579</td>\n",
       "      <td>0.232644</td>\n",
       "      <td>0.004767</td>\n",
       "      <td>0.0</td>\n",
       "      <td>-0.06088</td>\n",
       "      <td>0.00747</td>\n",
       "      <td>1.082898e-15</td>\n",
       "    </tr>\n",
       "  </tbody>\n",
       "</table>\n",
       "</div>"
      ],
      "text/plain": [
       "     gene       rsid   de_coef     de_se  de_pval  dv_coef    dv_se  \\\n",
       "0  IFITM3  11:388579  0.232644  0.004767      0.0 -0.06088  0.00747   \n",
       "\n",
       "        dv_pval  \n",
       "0  1.082898e-15  "
      ]
     },
     "execution_count": 83,
     "metadata": {},
     "output_type": "execute_result"
    }
   ],
   "source": [
    "memento.get_1d_ht_result(adata).rename(columns={'tx':'rsid'})"
   ]
  },
  {
   "cell_type": "code",
   "execution_count": null,
   "id": "ea998f54",
   "metadata": {},
   "outputs": [],
   "source": []
  },
  {
   "cell_type": "code",
   "execution_count": null,
   "id": "7d53ccdb",
   "metadata": {},
   "outputs": [],
   "source": []
  },
  {
   "cell_type": "code",
   "execution_count": 62,
   "id": "487a5448",
   "metadata": {},
   "outputs": [
    {
     "name": "stderr",
     "output_type": "stream",
     "text": [
      "/tmp/ipykernel_35644/277468987.py:1: RuntimeWarning: divide by zero encountered in log\n",
      "  -np.log(pv_sorted)\n"
     ]
    },
    {
     "data": {
      "text/plain": [
       "array([           inf,            inf,            inf, ...,\n",
       "       1.11886346e-05, 1.09539728e-05, 3.73659108e-06])"
      ]
     },
     "execution_count": 62,
     "metadata": {},
     "output_type": "execute_result"
    }
   ],
   "source": [
    "-np.log(pv_sorted)"
   ]
  },
  {
   "cell_type": "code",
   "execution_count": 60,
   "id": "5dadba00",
   "metadata": {},
   "outputs": [
    {
     "name": "stderr",
     "output_type": "stream",
     "text": [
      "/tmp/ipykernel_35644/4198341462.py:1: RuntimeWarning: divide by zero encountered in log\n",
      "  plt.scatter(-np.log(quantiles), -np.log(pv_sorted))\n"
     ]
    },
    {
     "data": {
      "text/plain": [
       "<matplotlib.collections.PathCollection at 0x7faa75358970>"
      ]
     },
     "execution_count": 60,
     "metadata": {},
     "output_type": "execute_result"
    },
    {
     "data": {
      "image/png": "[encoded data removed]",
      "text/plain": [
       "<Figure size 432x288 with 1 Axes>"
      ]
     },
     "metadata": {
      "needs_background": "light"
     },
     "output_type": "display_data"
    }
   ],
   "source": [
    "plt.scatter(-np.log(quantiles), -np.log(pv_sorted))"
   ]
  },
  {
   "cell_type": "code",
   "execution_count": 42,
   "id": "1f76a256",
   "metadata": {},
   "outputs": [
    {
     "data": {
      "text/plain": [
       "array([0.00000000e+00, 3.78014953e-07, 7.56029906e-07, ...,\n",
       "       9.99999244e-01, 9.99999622e-01, 1.00000000e+00])"
      ]
     },
     "execution_count": 42,
     "metadata": {},
     "output_type": "execute_result"
    }
   ],
   "source": [
    "quantiles"
   ]
  },
  {
   "cell_type": "code",
   "execution_count": null,
   "id": "dd73f316",
   "metadata": {},
   "outputs": [],
   "source": [
    "pv_"
   ]
  },
  {
   "cell_type": "code",
   "execution_count": 34,
   "id": "9d0eb008",
   "metadata": {},
   "outputs": [
    {
     "data": {
      "text/plain": [
       "0      1.205114e-03\n",
       "1      9.861542e-05\n",
       "2      6.550909e-05\n",
       "3      4.849084e-05\n",
       "4      9.861542e-05\n",
       "           ...     \n",
       "465    3.269799e-01\n",
       "466    2.564196e-03\n",
       "467    2.254359e-03\n",
       "468    2.163161e-11\n",
       "469    1.293189e-31\n",
       "Name: de_pval, Length: 2645399, dtype: float64"
      ]
     },
     "execution_count": 34,
     "metadata": {},
     "output_type": "execute_result"
    }
   ],
   "source": [
    "memento_result['de_pval']"
   ]
  },
  {
   "cell_type": "markdown",
   "id": "1bbb1cc1",
   "metadata": {},
   "source": [
    "### P-value histogram"
   ]
  },
  {
   "cell_type": "code",
   "execution_count": 1,
   "id": "ca3ef4fb",
   "metadata": {},
   "outputs": [],
   "source": [
    "import pandas as pd"
   ]
  },
  {
   "cell_type": "code",
   "execution_count": 6,
   "id": "d948cc0f",
   "metadata": {},
   "outputs": [
    {
     "name": "stderr",
     "output_type": "stream",
     "text": [
      "/home/ssm-user/anaconda3/envs/single_cell/lib/python3.8/site-packages/numpy/lib/arraysetops.py:580: FutureWarning: elementwise comparison failed; returning scalar instead, but in the future will perform elementwise comparison\n",
      "  mask |= (ar1 == a)\n"
     ]
    }
   ],
   "source": [
    "result = pd.read_csv(data_path + 'window_100k/100k_result.csv', index_col=0)"
   ]
  },
  {
   "cell_type": "code",
   "execution_count": null,
   "id": "375fb9a3",
   "metadata": {},
   "outputs": [],
   "source": [
    "mateqtl_result = pd.r"
   ]
  },
  {
   "cell_type": "code",
   "execution_count": 14,
   "id": "b6fd4377",
   "metadata": {},
   "outputs": [],
   "source": [
    "theoretical = -np.log10(np.linspace(1e-9, 1, result.shape[0]))\n",
    "actual = -np.log10(result['de_pval'].sort_values().values)"
   ]
  },
  {
   "cell_type": "code",
   "execution_count": 16,
   "id": "a4cefe3b",
   "metadata": {},
   "outputs": [
    {
     "data": {
      "text/plain": [
       "[<matplotlib.lines.Line2D at 0x7f0ef0de2340>]"
      ]
     },
     "execution_count": 16,
     "metadata": {},
     "output_type": "execute_result"
    },
    {
     "data": {
      "image/png": "[encoded data removed]",
      "text/plain": [
       "<Figure size 432x288 with 1 Axes>"
      ]
     },
     "metadata": {
      "needs_background": "light"
     },
     "output_type": "display_data"
    }
   ],
   "source": [
    "plt.scatter(theoretical, actual, s=1)\n",
    "plt.plot(theoretical, theoretical, color='r')"
   ]
  },
  {
   "cell_type": "code",
   "execution_count": 20,
   "id": "b04a8daf",
   "metadata": {},
   "outputs": [],
   "source": [
    "mateqtl_output = pd.read_csv(data_path + 'mateqtl_output/cm_cg_mateqtl_cis_cov.out', sep='\\t')\n",
    "mateqtl_output['hit_id'] = mateqtl_output['gene'] + '*' + mateqtl_output['SNP']\n",
    "# mateqtl_output['onek_valid'] = mateqtl_output['hit_id'].isin(onek_replication['hit_id'])\n",
    "mateqtl_output['pvalue'] = mateqtl_output['p-value']"
   ]
  },
  {
   "cell_type": "code",
   "execution_count": 22,
   "id": "758bee35",
   "metadata": {},
   "outputs": [],
   "source": [
    "theoretical_meq = -np.log10(np.linspace(1e-9, 1, mateqtl_output.shape[0]))\n",
    "actual_meq = -np.log10(mateqtl_output['p-value'].sort_values().values)"
   ]
  },
  {
   "cell_type": "code",
   "execution_count": 24,
   "id": "52f56a3f",
   "metadata": {},
   "outputs": [
    {
     "data": {
      "text/plain": [
       "[<matplotlib.lines.Line2D at 0x7f0eefa04280>]"
      ]
     },
     "execution_count": 24,
     "metadata": {},
     "output_type": "execute_result"
    },
    {
     "data": {
      "image/png": "[encoded data removed]",
      "text/plain": [
       "<Figure size 432x288 with 1 Axes>"
      ]
     },
     "metadata": {
      "needs_background": "light"
     },
     "output_type": "display_data"
    }
   ],
   "source": [
    "plt.scatter(theoretical, actual, s=1)\n",
    "plt.scatter(theoretical_meq, actual_meq, s=1)\n",
    "plt.plot(theoretical, theoretical, color='r')\n",
    "\n"
   ]
  },
  {
   "cell_type": "code",
   "execution_count": null,
   "id": "6a723061",
   "metadata": {},
   "outputs": [],
   "source": []
  }
 ],
 "metadata": {
  "kernelspec": {
   "display_name": "Python 3 (ipykernel)",
   "language": "python",
   "name": "python3"
  },
  "language_info": {
   "codemirror_mode": {
    "name": "ipython",
    "version": 3
   },
   "file_extension": ".py",
   "mimetype": "text/x-python",
   "name": "python",
   "nbconvert_exporter": "python",
   "pygments_lexer": "ipython3",
   "version": "3.8.8"
  }
 },
 "nbformat": 4,
 "nbformat_minor": 5
}
