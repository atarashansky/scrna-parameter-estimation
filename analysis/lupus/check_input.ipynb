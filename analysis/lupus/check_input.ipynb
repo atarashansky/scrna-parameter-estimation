{
 "cells": [
  {
   "cell_type": "markdown",
   "id": "b96e65ef",
   "metadata": {},
   "source": [
    "# Simple eQTL analysis"
   ]
  },
  {
   "cell_type": "code",
   "execution_count": 14,
   "id": "c6c236ee",
   "metadata": {},
   "outputs": [],
   "source": [
    "import pandas as pd\n",
    "import numpy as np\n",
    "import matplotlib.pyplot as plt"
   ]
  },
  {
   "cell_type": "code",
   "execution_count": 2,
   "id": "d2389107",
   "metadata": {},
   "outputs": [],
   "source": [
    "data_path  = '/data_volume/memento/lupus/'"
   ]
  },
  {
   "cell_type": "code",
   "execution_count": 11,
   "id": "16a15bc5",
   "metadata": {},
   "outputs": [],
   "source": [
    "pos = pd.read_csv(data_path + 'cm_cg.genos', sep='\\t')"
   ]
  },
  {
   "cell_type": "code",
   "execution_count": 16,
   "id": "75d959e9",
   "metadata": {},
   "outputs": [
    {
     "data": {
      "text/plain": [
       "0         pbmc\n",
       "192054       b\n",
       "245550     cdc\n",
       "284295      cm\n",
       "398147     ncm\n",
       "452407      nk\n",
       "499329     pdc\n",
       "516907      t4\n",
       "618590      t8\n",
       "Name: cell, dtype: object"
      ]
     },
     "execution_count": 16,
     "metadata": {},
     "output_type": "execute_result"
    }
   ],
   "source": [
    "cbc_eqtls.cell.drop_duplicates()"
   ]
  },
  {
   "cell_type": "code",
   "execution_count": 25,
   "id": "c42d928e",
   "metadata": {},
   "outputs": [],
   "source": [
    "cbc_eqtls = pd.read_csv(data_path + 'Table6.txt', sep='\\t', skiprows=1).query('cell == \"cm\"').drop('STD_FE', axis=1)\n",
    "cbc_eqtls.columns = ['ct', 'rsid_gene', 'pvalue', 'beta']"
   ]
  },
  {
   "cell_type": "code",
   "execution_count": 26,
   "id": "cbc4f656",
   "metadata": {},
   "outputs": [
    {
     "data": {
      "text/plain": [
       "(113852, 4)"
      ]
     },
     "execution_count": 26,
     "metadata": {},
     "output_type": "execute_result"
    }
   ],
   "source": [
    "cbc_eqtls.shape"
   ]
  },
  {
   "cell_type": "code",
   "execution_count": 28,
   "id": "0f6f6ea9",
   "metadata": {},
   "outputs": [],
   "source": [
    "cbc_eqtls['gene'] = cbc_eqtls['rsid_gene'].str.split('_').str[1]\n",
    "cbc_eqtls['rsid'] = cbc_eqtls['rsid_gene'].str.split('_').str[0]"
   ]
  },
  {
   "cell_type": "code",
   "execution_count": 33,
   "id": "7fc9d986",
   "metadata": {},
   "outputs": [
    {
     "data": {
      "text/plain": [
       "HLA-DQB1    1244\n",
       "HLA-DRB1     842\n",
       "HLA-B        816\n",
       "HLA-DRB5     773\n",
       "HLA-A        762\n",
       "            ... \n",
       "GMCL1          1\n",
       "RNF144A        1\n",
       "TEX261         1\n",
       "CDC14A         1\n",
       "WDR61          1\n",
       "Name: gene, Length: 2438, dtype: int64"
      ]
     },
     "execution_count": 33,
     "metadata": {},
     "output_type": "execute_result"
    }
   ],
   "source": [
    "cbc_eqtls.gene.value_counts()"
   ]
  },
  {
   "cell_type": "markdown",
   "id": "ec183514",
   "metadata": {},
   "source": [
    "### Development"
   ]
  },
  {
   "cell_type": "code",
   "execution_count": 1,
   "id": "25f141d5",
   "metadata": {},
   "outputs": [],
   "source": [
    "import scanpy as sc\n",
    "import seaborn as sns\n",
    "import pandas as pd\n",
    "import matplotlib.pyplot as plt\n",
    "import numpy as np\n",
    "import scipy.stats as stats\n",
    "import itertools\n",
    "from pybedtools import BedTool\n",
    "import statsmodels.formula.api as smf\n",
    "import statsmodels.api as sm\n",
    "\n",
    "import os\n",
    "import pickle as pkl\n",
    "%matplotlib inline"
   ]
  },
  {
   "cell_type": "code",
   "execution_count": 2,
   "id": "c96842f2",
   "metadata": {},
   "outputs": [],
   "source": [
    "pd.set_option('max_columns', None)\n",
    "pd.set_option('display.max_rows', 500)"
   ]
  },
  {
   "cell_type": "code",
   "execution_count": 3,
   "id": "90428918",
   "metadata": {},
   "outputs": [],
   "source": [
    "import sys\n",
    "sys.path.append('/home/ssm-user/Github/scrna-parameter-estimation/dist/memento-0.0.7-py3.8.egg')\n",
    "sys.path.append('/home/ssm-user/Github/misc-seq/miscseq/')\n",
    "import encode\n",
    "import memento"
   ]
  },
  {
   "cell_type": "code",
   "execution_count": 4,
   "id": "28805dfd",
   "metadata": {},
   "outputs": [],
   "source": [
    "import matplotlib.pylab as pylab\n",
    "params = {'legend.fontsize': 'medium',\n",
    "         'axes.labelsize': 'medium',\n",
    "         'axes.titlesize':'medium',\n",
    "         'figure.titlesize':'medium',\n",
    "         'xtick.labelsize':'medium',\n",
    "         'ytick.labelsize':'medium',\n",
    "         'axes.labelsize': 'large'}\n",
    "pylab.rcParams.update(params)"
   ]
  },
  {
   "cell_type": "code",
   "execution_count": 5,
   "id": "a937ea54",
   "metadata": {},
   "outputs": [],
   "source": [
    "data_path = '/data_volume/memento/hbec/'"
   ]
  },
  {
   "cell_type": "code",
   "execution_count": 6,
   "id": "13b9016e",
   "metadata": {},
   "outputs": [],
   "source": [
    "adata = sc.read(data_path + 'HBEC_type_I_filtered_counts_deep.h5ad')"
   ]
  },
  {
   "cell_type": "raw",
   "id": "78e9d835",
   "metadata": {},
   "source": [
    "sc.pl.umap(adata_processed, color=['cell_type', 'time', 'stim'])"
   ]
  },
  {
   "cell_type": "code",
   "execution_count": 7,
   "id": "0c90cef3",
   "metadata": {},
   "outputs": [],
   "source": [
    "converter = {'basal/club':'BC', 'basal':'B', 'ciliated':'C', 'goblet':'G', 'ionocyte/tuft':'IT', 'neuroendo':'N', 'club':'club'}"
   ]
  },
  {
   "cell_type": "code",
   "execution_count": 8,
   "id": "8225f04b",
   "metadata": {},
   "outputs": [],
   "source": [
    "adata.obs['ct'] = adata.obs['cell_type'].apply(lambda x: converter[x])\n",
    "# adata_processed.obs['ct'] = adata_processed.obs['cell_type'].apply(lambda x: converter[x])"
   ]
  },
  {
   "cell_type": "code",
   "execution_count": 9,
   "id": "224e404f",
   "metadata": {},
   "outputs": [],
   "source": [
    "def assign_q(batch):\n",
    "    \n",
    "    if batch == 0:\n",
    "        return 0.387*0.25\n",
    "    elif batch == 1:\n",
    "        return 0.392*0.25\n",
    "    elif batch == 2:\n",
    "        return 0.436*0.25\n",
    "    else:\n",
    "        return 0.417*0.25"
   ]
  },
  {
   "cell_type": "code",
   "execution_count": 10,
   "id": "905d635c",
   "metadata": {},
   "outputs": [],
   "source": [
    "adata.obs['q'] = adata.obs['batch'].apply(assign_q)"
   ]
  },
  {
   "cell_type": "code",
   "execution_count": 11,
   "id": "9c06dd20",
   "metadata": {},
   "outputs": [],
   "source": [
    "memento.setup_memento(adata, q_column='q', trim_percent=0.1)"
   ]
  },
  {
   "cell_type": "code",
   "execution_count": 12,
   "id": "60f3b112",
   "metadata": {},
   "outputs": [
    {
     "name": "stderr",
     "output_type": "stream",
     "text": [
      "/home/ssm-user/anaconda3/envs/single_cell/lib/python3.8/site-packages/pandas/core/arrays/categorical.py:2631: FutureWarning: The `inplace` parameter in pandas.Categorical.remove_unused_categories is deprecated and will be removed in a future version.\n",
      "  res = method(*args, **kwargs)\n"
     ]
    },
    {
     "name": "stdout",
     "output_type": "stream",
     "text": [
      "(4620, 10773)\n"
     ]
    }
   ],
   "source": [
    "adata_stim = adata.copy()[\n",
    "    adata.obs.ct.isin(['C']) & \\\n",
    "    adata.obs.stim.isin(['beta', 'control']), :].copy()\n",
    "stim_converter={'control':0, 'beta':1}\n",
    "adata_stim.obs['stim_indicator'] = adata_stim.obs['stim'].apply(lambda x: stim_converter[x])\n",
    "\n",
    "memento.create_groups(adata_stim, label_columns=['stim_indicator', 'donor'])\n",
    "memento.compute_1d_moments(adata_stim, min_perc_group=.5)\n",
    "print(adata_stim.shape)\n",
    "\n"
   ]
  },
  {
   "cell_type": "code",
   "execution_count": 13,
   "id": "b165098d",
   "metadata": {},
   "outputs": [
    {
     "name": "stdout",
     "output_type": "stream",
     "text": [
      "   stim_indicator  donor\n",
      "0               1  d2513\n",
      "1               0  d2513\n",
      "2               1  d2614\n",
      "3               0  d2614\n"
     ]
    },
    {
     "name": "stderr",
     "output_type": "stream",
     "text": [
      "[Parallel(n_jobs=93)]: Using backend LokyBackend with 93 concurrent workers.\n",
      "[Parallel(n_jobs=93)]: Done  14 tasks      | elapsed:    4.2s\n",
      "[Parallel(n_jobs=93)]: Done 264 tasks      | elapsed:    5.6s\n",
      "[Parallel(n_jobs=93)]: Done 614 tasks      | elapsed:    7.8s\n",
      "[Parallel(n_jobs=93)]: Done 1064 tasks      | elapsed:   10.2s\n",
      "[Parallel(n_jobs=93)]: Done 1614 tasks      | elapsed:   13.1s\n",
      "[Parallel(n_jobs=93)]: Done 2264 tasks      | elapsed:   16.4s\n",
      "[Parallel(n_jobs=93)]: Done 3014 tasks      | elapsed:   20.3s\n",
      "[Parallel(n_jobs=93)]: Done 3864 tasks      | elapsed:   24.9s\n",
      "[Parallel(n_jobs=93)]: Done 4814 tasks      | elapsed:   29.8s\n",
      "[Parallel(n_jobs=93)]: Done 5864 tasks      | elapsed:   35.3s\n",
      "[Parallel(n_jobs=93)]: Done 7014 tasks      | elapsed:   41.6s\n",
      "[Parallel(n_jobs=93)]: Done 8264 tasks      | elapsed:   48.0s\n",
      "[Parallel(n_jobs=93)]: Done 9614 tasks      | elapsed:   54.9s\n",
      "[Parallel(n_jobs=93)]: Done 10773 out of 10773 | elapsed:  1.1min finished\n"
     ]
    }
   ],
   "source": [
    "memento.ht_1d_moments(\n",
    "    adata_stim, \n",
    "    formula_like='1 + stim_indicator',\n",
    "    treatment_col='stim_indicator', \n",
    "    num_boot=10000, \n",
    "    verbose=1,\n",
    "    num_cpus=93,\n",
    "    resampling='bootstrap',\n",
    "    approx=False)"
   ]
  },
  {
   "cell_type": "code",
   "execution_count": null,
   "id": "e85ca8fe",
   "metadata": {},
   "outputs": [],
   "source": []
  },
  {
   "cell_type": "code",
   "execution_count": null,
   "id": "d52c21db",
   "metadata": {},
   "outputs": [],
   "source": []
  },
  {
   "cell_type": "code",
   "execution_count": null,
   "id": "5fe34031",
   "metadata": {},
   "outputs": [],
   "source": []
  },
  {
   "cell_type": "code",
   "execution_count": 29,
   "id": "97a3d685",
   "metadata": {},
   "outputs": [
    {
     "data": {
      "text/html": [
       "<div>\n",
       "<style scoped>\n",
       "    .dataframe tbody tr th:only-of-type {\n",
       "        vertical-align: middle;\n",
       "    }\n",
       "\n",
       "    .dataframe tbody tr th {\n",
       "        vertical-align: top;\n",
       "    }\n",
       "\n",
       "    .dataframe thead th {\n",
       "        text-align: right;\n",
       "    }\n",
       "</style>\n",
       "<table border=\"1\" class=\"dataframe\">\n",
       "  <thead>\n",
       "    <tr style=\"text-align: right;\">\n",
       "      <th></th>\n",
       "      <th>ct</th>\n",
       "      <th>rsid_gene</th>\n",
       "      <th>pvalue</th>\n",
       "      <th>beta</th>\n",
       "      <th>gene</th>\n",
       "      <th>rsid</th>\n",
       "    </tr>\n",
       "  </thead>\n",
       "  <tbody>\n",
       "    <tr>\n",
       "      <th>284295</th>\n",
       "      <td>cm</td>\n",
       "      <td>10:100122640_HPS1</td>\n",
       "      <td>0.000773</td>\n",
       "      <td>-0.066580</td>\n",
       "      <td>HPS1</td>\n",
       "      <td>10:100122640</td>\n",
       "    </tr>\n",
       "    <tr>\n",
       "      <th>284296</th>\n",
       "      <td>cm</td>\n",
       "      <td>10:100156113_HPS1</td>\n",
       "      <td>0.000105</td>\n",
       "      <td>-0.072121</td>\n",
       "      <td>HPS1</td>\n",
       "      <td>10:100156113</td>\n",
       "    </tr>\n",
       "  </tbody>\n",
       "</table>\n",
       "</div>"
      ],
      "text/plain": [
       "        ct          rsid_gene    pvalue      beta  gene          rsid\n",
       "284295  cm  10:100122640_HPS1  0.000773 -0.066580  HPS1  10:100122640\n",
       "284296  cm  10:100156113_HPS1  0.000105 -0.072121  HPS1  10:100156113"
      ]
     },
     "execution_count": 29,
     "metadata": {},
     "output_type": "execute_result"
    }
   ],
   "source": [
    "cbc_eqtls.head(2)"
   ]
  },
  {
   "cell_type": "code",
   "execution_count": 30,
   "id": "e7b4c211",
   "metadata": {},
   "outputs": [
    {
     "data": {
      "text/plain": [
       "(4078216, 98)"
      ]
     },
     "execution_count": 30,
     "metadata": {},
     "output_type": "execute_result"
    }
   ],
   "source": [
    "pos.shape"
   ]
  },
  {
   "cell_type": "code",
   "execution_count": 6,
   "id": "40b31616",
   "metadata": {},
   "outputs": [
    {
     "data": {
      "text/html": [
       "<div>\n",
       "<style scoped>\n",
       "    .dataframe tbody tr th:only-of-type {\n",
       "        vertical-align: middle;\n",
       "    }\n",
       "\n",
       "    .dataframe tbody tr th {\n",
       "        vertical-align: top;\n",
       "    }\n",
       "\n",
       "    .dataframe thead th {\n",
       "        text-align: right;\n",
       "    }\n",
       "</style>\n",
       "<table border=\"1\" class=\"dataframe\">\n",
       "  <thead>\n",
       "    <tr style=\"text-align: right;\">\n",
       "      <th></th>\n",
       "      <th>CHROM:POS</th>\n",
       "      <th>HC-519</th>\n",
       "      <th>1240_1240</th>\n",
       "      <th>HC-022</th>\n",
       "      <th>1771_1771</th>\n",
       "      <th>1472_1472</th>\n",
       "      <th>HC-573</th>\n",
       "      <th>1294_1294</th>\n",
       "      <th>1754_1754</th>\n",
       "      <th>HC-571</th>\n",
       "      <th>...</th>\n",
       "      <th>1492_1492</th>\n",
       "      <th>1452_1452</th>\n",
       "      <th>1046_1046</th>\n",
       "      <th>HC-551</th>\n",
       "      <th>HC-574</th>\n",
       "      <th>1045_1045</th>\n",
       "      <th>1248_1248</th>\n",
       "      <th>HC-014</th>\n",
       "      <th>HC-011</th>\n",
       "      <th>HC-566</th>\n",
       "    </tr>\n",
       "  </thead>\n",
       "  <tbody>\n",
       "    <tr>\n",
       "      <th>2570210</th>\n",
       "      <td>10:100156113</td>\n",
       "      <td>1</td>\n",
       "      <td>0</td>\n",
       "      <td>1</td>\n",
       "      <td>0</td>\n",
       "      <td>0</td>\n",
       "      <td>1</td>\n",
       "      <td>0</td>\n",
       "      <td>1</td>\n",
       "      <td>0</td>\n",
       "      <td>...</td>\n",
       "      <td>0</td>\n",
       "      <td>1</td>\n",
       "      <td>0</td>\n",
       "      <td>0</td>\n",
       "      <td>1</td>\n",
       "      <td>1</td>\n",
       "      <td>0</td>\n",
       "      <td>0</td>\n",
       "      <td>2</td>\n",
       "      <td>0</td>\n",
       "    </tr>\n",
       "  </tbody>\n",
       "</table>\n",
       "<p>1 rows × 98 columns</p>\n",
       "</div>"
      ],
      "text/plain": [
       "            CHROM:POS  HC-519  1240_1240  HC-022  1771_1771  1472_1472  \\\n",
       "2570210  10:100156113       1          0       1          0          0   \n",
       "\n",
       "         HC-573  1294_1294  1754_1754  HC-571  ...  1492_1492  1452_1452  \\\n",
       "2570210       1          0          1       0  ...          0          1   \n",
       "\n",
       "         1046_1046  HC-551  HC-574  1045_1045  1248_1248  HC-014  HC-011  \\\n",
       "2570210          0       0       1          1          0       0       2   \n",
       "\n",
       "         HC-566  \n",
       "2570210       0  \n",
       "\n",
       "[1 rows x 98 columns]"
      ]
     },
     "execution_count": 6,
     "metadata": {},
     "output_type": "execute_result"
    }
   ],
   "source": [
    "pos[pos['CHROM:POS'] == '10:100156113']"
   ]
  },
  {
   "cell_type": "code",
   "execution_count": 5,
   "id": "19f45e89",
   "metadata": {},
   "outputs": [
    {
     "data": {
      "text/html": [
       "<div>\n",
       "<style scoped>\n",
       "    .dataframe tbody tr th:only-of-type {\n",
       "        vertical-align: middle;\n",
       "    }\n",
       "\n",
       "    .dataframe tbody tr th {\n",
       "        vertical-align: top;\n",
       "    }\n",
       "\n",
       "    .dataframe thead th {\n",
       "        text-align: right;\n",
       "    }\n",
       "</style>\n",
       "<table border=\"1\" class=\"dataframe\">\n",
       "  <thead>\n",
       "    <tr style=\"text-align: right;\">\n",
       "      <th></th>\n",
       "      <th>CHROM:POS</th>\n",
       "      <th>HC-519</th>\n",
       "      <th>1240_1240</th>\n",
       "      <th>HC-022</th>\n",
       "      <th>1771_1771</th>\n",
       "      <th>1472_1472</th>\n",
       "      <th>HC-573</th>\n",
       "      <th>1294_1294</th>\n",
       "      <th>1754_1754</th>\n",
       "      <th>HC-571</th>\n",
       "      <th>...</th>\n",
       "      <th>1492_1492</th>\n",
       "      <th>1452_1452</th>\n",
       "      <th>1046_1046</th>\n",
       "      <th>HC-551</th>\n",
       "      <th>HC-574</th>\n",
       "      <th>1045_1045</th>\n",
       "      <th>1248_1248</th>\n",
       "      <th>HC-014</th>\n",
       "      <th>HC-011</th>\n",
       "      <th>HC-566</th>\n",
       "    </tr>\n",
       "  </thead>\n",
       "  <tbody>\n",
       "    <tr>\n",
       "      <th>0</th>\n",
       "      <td>1:706368</td>\n",
       "      <td>1</td>\n",
       "      <td>0</td>\n",
       "      <td>1</td>\n",
       "      <td>0</td>\n",
       "      <td>1</td>\n",
       "      <td>1</td>\n",
       "      <td>1</td>\n",
       "      <td>0</td>\n",
       "      <td>0</td>\n",
       "      <td>...</td>\n",
       "      <td>0</td>\n",
       "      <td>1</td>\n",
       "      <td>1</td>\n",
       "      <td>1</td>\n",
       "      <td>0</td>\n",
       "      <td>1</td>\n",
       "      <td>1</td>\n",
       "      <td>1</td>\n",
       "      <td>1</td>\n",
       "      <td>0</td>\n",
       "    </tr>\n",
       "    <tr>\n",
       "      <th>1</th>\n",
       "      <td>1:713977</td>\n",
       "      <td>0</td>\n",
       "      <td>0</td>\n",
       "      <td>1</td>\n",
       "      <td>0</td>\n",
       "      <td>1</td>\n",
       "      <td>0</td>\n",
       "      <td>0</td>\n",
       "      <td>0</td>\n",
       "      <td>1</td>\n",
       "      <td>...</td>\n",
       "      <td>1</td>\n",
       "      <td>0</td>\n",
       "      <td>0</td>\n",
       "      <td>1</td>\n",
       "      <td>0</td>\n",
       "      <td>0</td>\n",
       "      <td>0</td>\n",
       "      <td>0</td>\n",
       "      <td>0</td>\n",
       "      <td>0</td>\n",
       "    </tr>\n",
       "    <tr>\n",
       "      <th>2</th>\n",
       "      <td>1:714439</td>\n",
       "      <td>0</td>\n",
       "      <td>0</td>\n",
       "      <td>1</td>\n",
       "      <td>0</td>\n",
       "      <td>1</td>\n",
       "      <td>0</td>\n",
       "      <td>0</td>\n",
       "      <td>0</td>\n",
       "      <td>1</td>\n",
       "      <td>...</td>\n",
       "      <td>1</td>\n",
       "      <td>0</td>\n",
       "      <td>0</td>\n",
       "      <td>1</td>\n",
       "      <td>0</td>\n",
       "      <td>0</td>\n",
       "      <td>0</td>\n",
       "      <td>0</td>\n",
       "      <td>0</td>\n",
       "      <td>0</td>\n",
       "    </tr>\n",
       "    <tr>\n",
       "      <th>3</th>\n",
       "      <td>1:723891</td>\n",
       "      <td>2</td>\n",
       "      <td>1</td>\n",
       "      <td>1</td>\n",
       "      <td>2</td>\n",
       "      <td>1</td>\n",
       "      <td>2</td>\n",
       "      <td>2</td>\n",
       "      <td>2</td>\n",
       "      <td>0</td>\n",
       "      <td>...</td>\n",
       "      <td>0</td>\n",
       "      <td>2</td>\n",
       "      <td>2</td>\n",
       "      <td>1</td>\n",
       "      <td>2</td>\n",
       "      <td>2</td>\n",
       "      <td>2</td>\n",
       "      <td>2</td>\n",
       "      <td>2</td>\n",
       "      <td>2</td>\n",
       "    </tr>\n",
       "    <tr>\n",
       "      <th>4</th>\n",
       "      <td>1:727655</td>\n",
       "      <td>0</td>\n",
       "      <td>0</td>\n",
       "      <td>1</td>\n",
       "      <td>0</td>\n",
       "      <td>1</td>\n",
       "      <td>0</td>\n",
       "      <td>0</td>\n",
       "      <td>0</td>\n",
       "      <td>1</td>\n",
       "      <td>...</td>\n",
       "      <td>2</td>\n",
       "      <td>0</td>\n",
       "      <td>0</td>\n",
       "      <td>1</td>\n",
       "      <td>0</td>\n",
       "      <td>0</td>\n",
       "      <td>0</td>\n",
       "      <td>0</td>\n",
       "      <td>0</td>\n",
       "      <td>0</td>\n",
       "    </tr>\n",
       "  </tbody>\n",
       "</table>\n",
       "<p>5 rows × 98 columns</p>\n",
       "</div>"
      ],
      "text/plain": [
       "  CHROM:POS  HC-519  1240_1240  HC-022  1771_1771  1472_1472  HC-573  \\\n",
       "0  1:706368       1          0       1          0          1       1   \n",
       "1  1:713977       0          0       1          0          1       0   \n",
       "2  1:714439       0          0       1          0          1       0   \n",
       "3  1:723891       2          1       1          2          1       2   \n",
       "4  1:727655       0          0       1          0          1       0   \n",
       "\n",
       "   1294_1294  1754_1754  HC-571  ...  1492_1492  1452_1452  1046_1046  HC-551  \\\n",
       "0          1          0       0  ...          0          1          1       1   \n",
       "1          0          0       1  ...          1          0          0       1   \n",
       "2          0          0       1  ...          1          0          0       1   \n",
       "3          2          2       0  ...          0          2          2       1   \n",
       "4          0          0       1  ...          2          0          0       1   \n",
       "\n",
       "   HC-574  1045_1045  1248_1248  HC-014  HC-011  HC-566  \n",
       "0       0          1          1       1       1       0  \n",
       "1       0          0          0       0       0       0  \n",
       "2       0          0          0       0       0       0  \n",
       "3       2          2          2       2       2       2  \n",
       "4       0          0          0       0       0       0  \n",
       "\n",
       "[5 rows x 98 columns]"
      ]
     },
     "execution_count": 5,
     "metadata": {},
     "output_type": "execute_result"
    }
   ],
   "source": [
    "pos.head(5)"
   ]
  },
  {
   "cell_type": "code",
   "execution_count": 12,
   "id": "006d9e1b",
   "metadata": {},
   "outputs": [],
   "source": [
    "mat = np.ones((25000, 25000))"
   ]
  },
  {
   "cell_type": "code",
   "execution_count": null,
   "id": "f1d7f4a2",
   "metadata": {},
   "outputs": [],
   "source": [
    "mat.shape"
   ]
  }
 ],
 "metadata": {
  "kernelspec": {
   "display_name": "Python 3 (ipykernel)",
   "language": "python",
   "name": "python3"
  },
  "language_info": {
   "codemirror_mode": {
    "name": "ipython",
    "version": 3
   },
   "file_extension": ".py",
   "mimetype": "text/x-python",
   "name": "python",
   "nbconvert_exporter": "python",
   "pygments_lexer": "ipython3",
   "version": "3.8.8"
  }
 },
 "nbformat": 4,
 "nbformat_minor": 5
}
