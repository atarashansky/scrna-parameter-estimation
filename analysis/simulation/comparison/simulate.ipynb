{
 "cells": [
  {
   "cell_type": "markdown",
   "id": "upset-meditation",
   "metadata": {},
   "source": [
    "# Generate simulation data for comparison"
   ]
  },
  {
   "cell_type": "code",
   "execution_count": 1,
   "id": "intermediate-prerequisite",
   "metadata": {},
   "outputs": [],
   "source": [
    "import scanpy as sc\n",
    "import seaborn as sns\n",
    "import pandas as pd\n",
    "import matplotlib.pyplot as plt\n",
    "import numpy as np\n",
    "import scipy.stats as stats\n",
    "from pybedtools import BedTool\n",
    "import pickle as pkl\n",
    "import scipy as sp\n",
    "\n",
    "%matplotlib inline"
   ]
  },
  {
   "cell_type": "code",
   "execution_count": 2,
   "id": "tutorial-grenada",
   "metadata": {},
   "outputs": [],
   "source": [
    "import sys\n",
    "sys.path.append('/home/ssm-user/Github/scrna-parameter-estimation/dist/memento-0.0.6-py3.8.egg')\n",
    "sys.path.append('/home/ssm-user/Github/misc-seq/miscseq/')\n",
    "import encode\n",
    "import memento\n",
    "from memento import simulate"
   ]
  },
  {
   "cell_type": "code",
   "execution_count": 3,
   "id": "fifth-metro",
   "metadata": {},
   "outputs": [],
   "source": [
    "data_path = '/data_volume/memento/simulation/'"
   ]
  },
  {
   "cell_type": "markdown",
   "id": "handmade-football",
   "metadata": {},
   "source": [
    "### Extract real parameters"
   ]
  },
  {
   "cell_type": "code",
   "execution_count": 4,
   "id": "integral-firewall",
   "metadata": {},
   "outputs": [],
   "source": [
    "ifn_adata = sc.read(data_path + '../demux/interferon_filtered.h5ad')"
   ]
  },
  {
   "cell_type": "code",
   "execution_count": 5,
   "id": "first-notice",
   "metadata": {},
   "outputs": [],
   "source": [
    "q = 0.07"
   ]
  },
  {
   "cell_type": "code",
   "execution_count": 6,
   "id": "marine-scope",
   "metadata": {},
   "outputs": [
    {
     "name": "stderr",
     "output_type": "stream",
     "text": [
      "/home/ssm-user/anaconda3/envs/single_cell/lib/python3.8/site-packages/pandas/core/arrays/categorical.py:2487: FutureWarning: The `inplace` parameter in pandas.Categorical.remove_unused_categories is deprecated and will be removed in a future version.\n",
      "  res = method(*args, **kwargs)\n"
     ]
    }
   ],
   "source": [
    "cal_adata = ifn_adata[ifn_adata.obs.cell == 'CD4 T cells'].copy()\n",
    "# cal_adata.obs['stim'] = np.random.choice(['stim', 'ctrl'], cal_adata.shape[0])"
   ]
  },
  {
   "cell_type": "code",
   "execution_count": 7,
   "id": "bizarre-insurance",
   "metadata": {},
   "outputs": [
    {
     "data": {
      "text/plain": [
       "(10342, 35635)"
      ]
     },
     "execution_count": 7,
     "metadata": {},
     "output_type": "execute_result"
    }
   ],
   "source": [
    "cal_adata.shape"
   ]
  },
  {
   "cell_type": "markdown",
   "id": "elect-queen",
   "metadata": {},
   "source": [
    "### Power calculation\n",
    "\n",
    "1000 genes total, 300 are DE and 300 are DV"
   ]
  },
  {
   "cell_type": "code",
   "execution_count": 8,
   "id": "appointed-swift",
   "metadata": {},
   "outputs": [],
   "source": [
    "adata = ifn_adata[ifn_adata.obs.cell_type == 'CD4 T cells - ctrl']\n",
    "# data = adata.X.copy()\n",
    "# relative_data = data.toarray()/data.sum(axis=1)\n",
    "\n",
    "n_cells = 10000\n",
    "q=0.07\n",
    "x_param, z_param, Nc, good_idx = simulate.extract_parameters(adata.X, q=q)"
   ]
  },
  {
   "cell_type": "markdown",
   "id": "silent-burlington",
   "metadata": {},
   "source": [
    "### Simulation code"
   ]
  },
  {
   "cell_type": "code",
   "execution_count": 9,
   "id": "sorted-focus",
   "metadata": {},
   "outputs": [],
   "source": [
    "def simulate_two_datasets(x_param, Nc, n_cells, q, diff='mean'):\n",
    "    \n",
    "    log_means_1, log_variances_1 = np.log(x_param[0]), np.log(x_param[1])\n",
    "    log_means_2, log_variances_2 = log_means_1.copy(), log_variances_1.copy()\n",
    "    \n",
    "    if diff == 'null':\n",
    "        norm_cov_1, norm_cov_2 = 'indep', 'indep'\n",
    "    if diff == 'mean':\n",
    "        log_means_2[:500] += 0.5\n",
    "        norm_cov_1, norm_cov_2 = 'indep', 'indep'\n",
    "    if diff == 'variability':\n",
    "        log_variances_2[:500] += 0.5\n",
    "        norm_cov_1, norm_cov_2 = 'indep', 'indep'\n",
    "    if diff == 'correlation':\n",
    "        norm_cov_1 = make_spd_matrix(log_means_1.shape[0])\n",
    "        norm_corr_1 = norm_cov_1/np.outer(np.sqrt(np.diag(norm_cov_1)), np.sqrt(np.diag(norm_cov_1)))\n",
    "        norm_corr_subset = norm_corr_1[:100, :100].copy()\n",
    "        \n",
    "        change_indices = np.where(norm_corr_subset < 0.5)\n",
    "        change_indices = (change_indices[0][:150], change_indices[1][:150])\n",
    "        norm_corr_subset[change_indices] += 0.5\n",
    "        \n",
    "        norm_corr_2 = norm_corr_1.copy()\n",
    "        norm_corr_2[:100, :100] = norm_corr_subset\n",
    "        norm_cov_2 = norm_corr_2 * np.outer(np.sqrt(np.diag(norm_cov_1)), np.sqrt(np.diag(norm_cov_1)))\n",
    "    \n",
    "    data_1 = simulate.simulate_transcriptomes(\n",
    "        n_cells=n_cells, \n",
    "        means=np.exp(log_means_1)*Nc.mean(),\n",
    "        variances=(np.exp(log_variances_1) + np.exp(log_means_1)**2)*(Nc**2).mean() - np.exp(log_means_1)**2*Nc.mean()**2,\n",
    "        Nc=Nc,\n",
    "        norm_cov=norm_cov_1)\n",
    "    \n",
    "    data_2 = simulate.simulate_transcriptomes(\n",
    "        n_cells=n_cells, \n",
    "        means=np.exp(log_means_2)*Nc.mean(),\n",
    "        variances=(np.exp(log_variances_2) + np.exp(log_means_2)**2)*(Nc**2).mean() - np.exp(log_means_2)**2*Nc.mean()**2,\n",
    "        Nc=Nc,\n",
    "        norm_cov=norm_cov_2)\n",
    "    \n",
    "    true_data = np.vstack([data_1, data_2])\n",
    "    _, hyper_captured = simulate.capture_sampling(true_data, q=q, process='hyper')\n",
    "    \n",
    "    anndata = sc.AnnData(sp.sparse.csr_matrix(hyper_captured))\n",
    "    anndata.obs['ct_real'] = ['A' for i in range(n_cells)] + ['B' for i in range(n_cells)]\n",
    "    anndata.obs['ct_shuffled'] = np.random.choice(['A', 'B'], anndata.shape[0])\n",
    "    anndata.obs['BatchInfo'] = 1\n",
    "    \n",
    "    if diff == 'correlation':\n",
    "        return anndata, change_indices\n",
    "    else:\n",
    "        return anndata, None"
   ]
  },
  {
   "cell_type": "code",
   "execution_count": 12,
   "id": "latest-milwaukee",
   "metadata": {},
   "outputs": [
    {
     "name": "stderr",
     "output_type": "stream",
     "text": [
      "... storing 'ct_real' as categorical\n",
      "... storing 'ct_shuffled' as categorical\n"
     ]
    },
    {
     "name": "stdout",
     "output_type": "stream",
     "text": [
      "finished  250\n"
     ]
    },
    {
     "name": "stderr",
     "output_type": "stream",
     "text": [
      "... storing 'ct_real' as categorical\n",
      "... storing 'ct_shuffled' as categorical\n"
     ]
    },
    {
     "name": "stdout",
     "output_type": "stream",
     "text": [
      "finished  500\n"
     ]
    },
    {
     "name": "stderr",
     "output_type": "stream",
     "text": [
      "... storing 'ct_real' as categorical\n",
      "... storing 'ct_shuffled' as categorical\n"
     ]
    },
    {
     "name": "stdout",
     "output_type": "stream",
     "text": [
      "finished  2500\n"
     ]
    }
   ],
   "source": [
    "n_cells_list = np.logspace(3, 5.5, 10).astype(int)\n",
    "\n",
    "for num_cells in [250, 500, 2500]:\n",
    "    \n",
    "    a, _ = simulate_two_datasets(x_param, Nc, num_cells, q, diff='mean')\n",
    "    \n",
    "    a.write(data_path + 'runtime/{}.h5ad'.format(num_cells))\n",
    "    print('finished ', num_cells)"
   ]
  },
  {
   "cell_type": "code",
   "execution_count": 13,
   "id": "moral-profit",
   "metadata": {},
   "outputs": [
    {
     "name": "stderr",
     "output_type": "stream",
     "text": [
      "... storing 'ct_real' as categorical\n",
      "... storing 'ct_shuffled' as categorical\n",
      "... storing 'ct_real' as categorical\n",
      "... storing 'ct_shuffled' as categorical\n",
      "... storing 'ct_real' as categorical\n",
      "... storing 'ct_shuffled' as categorical\n",
      "... storing 'ct_real' as categorical\n",
      "... storing 'ct_shuffled' as categorical\n",
      "... storing 'ct_real' as categorical\n",
      "... storing 'ct_shuffled' as categorical\n",
      "... storing 'ct_real' as categorical\n",
      "... storing 'ct_shuffled' as categorical\n",
      "... storing 'ct_real' as categorical\n",
      "... storing 'ct_shuffled' as categorical\n",
      "... storing 'ct_real' as categorical\n",
      "... storing 'ct_shuffled' as categorical\n",
      "... storing 'ct_real' as categorical\n",
      "... storing 'ct_shuffled' as categorical\n",
      "... storing 'ct_real' as categorical\n",
      "... storing 'ct_shuffled' as categorical\n"
     ]
    },
    {
     "name": "stdout",
     "output_type": "stream",
     "text": [
      "10\n"
     ]
    },
    {
     "name": "stderr",
     "output_type": "stream",
     "text": [
      "... storing 'ct_real' as categorical\n",
      "... storing 'ct_shuffled' as categorical\n",
      "... storing 'ct_real' as categorical\n",
      "... storing 'ct_shuffled' as categorical\n",
      "... storing 'ct_real' as categorical\n",
      "... storing 'ct_shuffled' as categorical\n",
      "... storing 'ct_real' as categorical\n",
      "... storing 'ct_shuffled' as categorical\n",
      "... storing 'ct_real' as categorical\n",
      "... storing 'ct_shuffled' as categorical\n",
      "... storing 'ct_real' as categorical\n",
      "... storing 'ct_shuffled' as categorical\n",
      "... storing 'ct_real' as categorical\n",
      "... storing 'ct_shuffled' as categorical\n",
      "... storing 'ct_real' as categorical\n",
      "... storing 'ct_shuffled' as categorical\n",
      "... storing 'ct_real' as categorical\n",
      "... storing 'ct_shuffled' as categorical\n",
      "... storing 'ct_real' as categorical\n",
      "... storing 'ct_shuffled' as categorical\n"
     ]
    },
    {
     "name": "stdout",
     "output_type": "stream",
     "text": [
      "20\n"
     ]
    },
    {
     "name": "stderr",
     "output_type": "stream",
     "text": [
      "... storing 'ct_real' as categorical\n",
      "... storing 'ct_shuffled' as categorical\n",
      "... storing 'ct_real' as categorical\n",
      "... storing 'ct_shuffled' as categorical\n",
      "... storing 'ct_real' as categorical\n",
      "... storing 'ct_shuffled' as categorical\n",
      "... storing 'ct_real' as categorical\n",
      "... storing 'ct_shuffled' as categorical\n",
      "... storing 'ct_real' as categorical\n",
      "... storing 'ct_shuffled' as categorical\n",
      "... storing 'ct_real' as categorical\n",
      "... storing 'ct_shuffled' as categorical\n",
      "... storing 'ct_real' as categorical\n",
      "... storing 'ct_shuffled' as categorical\n",
      "... storing 'ct_real' as categorical\n",
      "... storing 'ct_shuffled' as categorical\n",
      "... storing 'ct_real' as categorical\n",
      "... storing 'ct_shuffled' as categorical\n",
      "... storing 'ct_real' as categorical\n",
      "... storing 'ct_shuffled' as categorical\n"
     ]
    },
    {
     "name": "stdout",
     "output_type": "stream",
     "text": [
      "30\n"
     ]
    },
    {
     "name": "stderr",
     "output_type": "stream",
     "text": [
      "... storing 'ct_real' as categorical\n",
      "... storing 'ct_shuffled' as categorical\n",
      "... storing 'ct_real' as categorical\n",
      "... storing 'ct_shuffled' as categorical\n",
      "... storing 'ct_real' as categorical\n",
      "... storing 'ct_shuffled' as categorical\n",
      "... storing 'ct_real' as categorical\n",
      "... storing 'ct_shuffled' as categorical\n",
      "... storing 'ct_real' as categorical\n",
      "... storing 'ct_shuffled' as categorical\n",
      "... storing 'ct_real' as categorical\n",
      "... storing 'ct_shuffled' as categorical\n",
      "... storing 'ct_real' as categorical\n",
      "... storing 'ct_shuffled' as categorical\n",
      "... storing 'ct_real' as categorical\n",
      "... storing 'ct_shuffled' as categorical\n",
      "... storing 'ct_real' as categorical\n",
      "... storing 'ct_shuffled' as categorical\n",
      "... storing 'ct_real' as categorical\n",
      "... storing 'ct_shuffled' as categorical\n"
     ]
    },
    {
     "name": "stdout",
     "output_type": "stream",
     "text": [
      "40\n"
     ]
    },
    {
     "name": "stderr",
     "output_type": "stream",
     "text": [
      "... storing 'ct_real' as categorical\n",
      "... storing 'ct_shuffled' as categorical\n",
      "... storing 'ct_real' as categorical\n",
      "... storing 'ct_shuffled' as categorical\n",
      "... storing 'ct_real' as categorical\n",
      "... storing 'ct_shuffled' as categorical\n",
      "... storing 'ct_real' as categorical\n",
      "... storing 'ct_shuffled' as categorical\n",
      "... storing 'ct_real' as categorical\n",
      "... storing 'ct_shuffled' as categorical\n",
      "... storing 'ct_real' as categorical\n",
      "... storing 'ct_shuffled' as categorical\n",
      "... storing 'ct_real' as categorical\n",
      "... storing 'ct_shuffled' as categorical\n",
      "... storing 'ct_real' as categorical\n",
      "... storing 'ct_shuffled' as categorical\n",
      "... storing 'ct_real' as categorical\n",
      "... storing 'ct_shuffled' as categorical\n",
      "... storing 'ct_real' as categorical\n",
      "... storing 'ct_shuffled' as categorical\n"
     ]
    },
    {
     "name": "stdout",
     "output_type": "stream",
     "text": [
      "50\n"
     ]
    },
    {
     "name": "stderr",
     "output_type": "stream",
     "text": [
      "... storing 'ct_real' as categorical\n",
      "... storing 'ct_shuffled' as categorical\n",
      "... storing 'ct_real' as categorical\n",
      "... storing 'ct_shuffled' as categorical\n",
      "... storing 'ct_real' as categorical\n",
      "... storing 'ct_shuffled' as categorical\n",
      "... storing 'ct_real' as categorical\n",
      "... storing 'ct_shuffled' as categorical\n",
      "... storing 'ct_real' as categorical\n",
      "... storing 'ct_shuffled' as categorical\n",
      "... storing 'ct_real' as categorical\n",
      "... storing 'ct_shuffled' as categorical\n",
      "... storing 'ct_real' as categorical\n",
      "... storing 'ct_shuffled' as categorical\n",
      "... storing 'ct_real' as categorical\n",
      "... storing 'ct_shuffled' as categorical\n",
      "... storing 'ct_real' as categorical\n",
      "... storing 'ct_shuffled' as categorical\n",
      "... storing 'ct_real' as categorical\n",
      "... storing 'ct_shuffled' as categorical\n"
     ]
    },
    {
     "name": "stdout",
     "output_type": "stream",
     "text": [
      "60\n"
     ]
    },
    {
     "name": "stderr",
     "output_type": "stream",
     "text": [
      "... storing 'ct_real' as categorical\n",
      "... storing 'ct_shuffled' as categorical\n",
      "... storing 'ct_real' as categorical\n",
      "... storing 'ct_shuffled' as categorical\n",
      "... storing 'ct_real' as categorical\n",
      "... storing 'ct_shuffled' as categorical\n",
      "... storing 'ct_real' as categorical\n",
      "... storing 'ct_shuffled' as categorical\n",
      "... storing 'ct_real' as categorical\n",
      "... storing 'ct_shuffled' as categorical\n",
      "... storing 'ct_real' as categorical\n",
      "... storing 'ct_shuffled' as categorical\n",
      "... storing 'ct_real' as categorical\n",
      "... storing 'ct_shuffled' as categorical\n",
      "... storing 'ct_real' as categorical\n",
      "... storing 'ct_shuffled' as categorical\n",
      "... storing 'ct_real' as categorical\n",
      "... storing 'ct_shuffled' as categorical\n",
      "... storing 'ct_real' as categorical\n",
      "... storing 'ct_shuffled' as categorical\n"
     ]
    },
    {
     "name": "stdout",
     "output_type": "stream",
     "text": [
      "70\n"
     ]
    },
    {
     "name": "stderr",
     "output_type": "stream",
     "text": [
      "... storing 'ct_real' as categorical\n",
      "... storing 'ct_shuffled' as categorical\n",
      "... storing 'ct_real' as categorical\n",
      "... storing 'ct_shuffled' as categorical\n",
      "... storing 'ct_real' as categorical\n",
      "... storing 'ct_shuffled' as categorical\n",
      "... storing 'ct_real' as categorical\n",
      "... storing 'ct_shuffled' as categorical\n",
      "... storing 'ct_real' as categorical\n",
      "... storing 'ct_shuffled' as categorical\n",
      "... storing 'ct_real' as categorical\n",
      "... storing 'ct_shuffled' as categorical\n",
      "... storing 'ct_real' as categorical\n",
      "... storing 'ct_shuffled' as categorical\n",
      "... storing 'ct_real' as categorical\n",
      "... storing 'ct_shuffled' as categorical\n",
      "... storing 'ct_real' as categorical\n",
      "... storing 'ct_shuffled' as categorical\n",
      "... storing 'ct_real' as categorical\n",
      "... storing 'ct_shuffled' as categorical\n"
     ]
    },
    {
     "name": "stdout",
     "output_type": "stream",
     "text": [
      "80\n"
     ]
    },
    {
     "name": "stderr",
     "output_type": "stream",
     "text": [
      "... storing 'ct_real' as categorical\n",
      "... storing 'ct_shuffled' as categorical\n",
      "... storing 'ct_real' as categorical\n",
      "... storing 'ct_shuffled' as categorical\n",
      "... storing 'ct_real' as categorical\n",
      "... storing 'ct_shuffled' as categorical\n",
      "... storing 'ct_real' as categorical\n",
      "... storing 'ct_shuffled' as categorical\n",
      "... storing 'ct_real' as categorical\n",
      "... storing 'ct_shuffled' as categorical\n",
      "... storing 'ct_real' as categorical\n",
      "... storing 'ct_shuffled' as categorical\n",
      "... storing 'ct_real' as categorical\n",
      "... storing 'ct_shuffled' as categorical\n",
      "... storing 'ct_real' as categorical\n",
      "... storing 'ct_shuffled' as categorical\n",
      "... storing 'ct_real' as categorical\n",
      "... storing 'ct_shuffled' as categorical\n",
      "... storing 'ct_real' as categorical\n",
      "... storing 'ct_shuffled' as categorical\n"
     ]
    },
    {
     "name": "stdout",
     "output_type": "stream",
     "text": [
      "90\n"
     ]
    },
    {
     "name": "stderr",
     "output_type": "stream",
     "text": [
      "... storing 'ct_real' as categorical\n",
      "... storing 'ct_shuffled' as categorical\n",
      "... storing 'ct_real' as categorical\n",
      "... storing 'ct_shuffled' as categorical\n",
      "... storing 'ct_real' as categorical\n",
      "... storing 'ct_shuffled' as categorical\n",
      "... storing 'ct_real' as categorical\n",
      "... storing 'ct_shuffled' as categorical\n",
      "... storing 'ct_real' as categorical\n",
      "... storing 'ct_shuffled' as categorical\n",
      "... storing 'ct_real' as categorical\n",
      "... storing 'ct_shuffled' as categorical\n",
      "... storing 'ct_real' as categorical\n",
      "... storing 'ct_shuffled' as categorical\n",
      "... storing 'ct_real' as categorical\n",
      "... storing 'ct_shuffled' as categorical\n",
      "... storing 'ct_real' as categorical\n",
      "... storing 'ct_shuffled' as categorical\n",
      "... storing 'ct_real' as categorical\n",
      "... storing 'ct_shuffled' as categorical\n"
     ]
    }
   ],
   "source": [
    "for i in range(100):\n",
    "    \n",
    "    if i % 10 == 0 and i > 0:\n",
    "        print(i)\n",
    "    \n",
    "    a, _ = simulate_two_datasets(x_param, Nc, 5000, q, diff='mean')\n",
    "    a.write(data_path + 'runtime/5000_{}.h5ad'.format(i))"
   ]
  }
 ],
 "metadata": {
  "kernelspec": {
   "display_name": "Python 3",
   "language": "python",
   "name": "python3"
  },
  "language_info": {
   "codemirror_mode": {
    "name": "ipython",
    "version": 3
   },
   "file_extension": ".py",
   "mimetype": "text/x-python",
   "name": "python",
   "nbconvert_exporter": "python",
   "pygments_lexer": "ipython3",
   "version": "3.8.8"
  }
 },
 "nbformat": 4,
 "nbformat_minor": 5
}
