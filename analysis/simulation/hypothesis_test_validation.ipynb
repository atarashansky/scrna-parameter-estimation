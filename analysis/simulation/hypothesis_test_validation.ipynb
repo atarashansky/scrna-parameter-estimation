{
 "cells": [
  {
   "cell_type": "markdown",
   "metadata": {},
   "source": [
    "# Hypothesis testing validation\n",
    "\n",
    "Power analysis for DM, DV, and DC"
   ]
  },
  {
   "cell_type": "code",
   "execution_count": 2337,
   "metadata": {},
   "outputs": [],
   "source": [
    "import pandas as pd\n",
    "import matplotlib.pyplot as plt\n",
    "import scanpy.api as sc\n",
    "import scipy as sp\n",
    "import itertools\n",
    "import numpy as np\n",
    "import scipy.stats as stats\n",
    "from scipy.integrate import dblquad\n",
    "import seaborn as sns\n",
    "from statsmodels.stats.multitest import fdrcorrection\n",
    "import imp\n",
    "pd.options.display.max_rows = 999\n",
    "pd.set_option('display.max_colwidth', -1)\n",
    "import pickle as pkl\n",
    "import time\n",
    "import string"
   ]
  },
  {
   "cell_type": "code",
   "execution_count": 2338,
   "metadata": {},
   "outputs": [],
   "source": [
    "import matplotlib as mpl\n",
    "mpl.rcParams['pdf.fonttype'] = 42\n",
    "mpl.rcParams['ps.fonttype'] = 42\n",
    "\n",
    "import matplotlib.pylab as pylab\n",
    "params = {'legend.fontsize': 'medium',\n",
    "         'axes.labelsize': 'medium',\n",
    "         'axes.titlesize':'medium',\n",
    "         'figure.titlesize':'medium',\n",
    "         'xtick.labelsize':'small',\n",
    "         'ytick.labelsize':'small'}\n",
    "pylab.rcParams.update(params)\n"
   ]
  },
  {
   "cell_type": "code",
   "execution_count": 2339,
   "metadata": {},
   "outputs": [],
   "source": [
    "import sys\n",
    "sys.path.append('/home/ssm-user/Github/scrna-parameter-estimation/scmemo')\n",
    "import estimator, simulate, scmemo, bootstrap, util, hypothesis_test"
   ]
  },
  {
   "cell_type": "code",
   "execution_count": 2340,
   "metadata": {},
   "outputs": [],
   "source": [
    "import sys\n",
    "sys.path.append('/home/ssm-user/Github/single_cell_eb/')\n",
    "sys.path.append('/home/ssm-user/Github/single_cell_eb/sceb')\n",
    "import scdd"
   ]
  },
  {
   "cell_type": "markdown",
   "metadata": {},
   "source": [
    "### Simulate some data"
   ]
  },
  {
   "cell_type": "code",
   "execution_count": 1289,
   "metadata": {},
   "outputs": [],
   "source": [
    "true_data = simulate.simulate_transcriptomes(10000, 2000, correlated=False)\n",
    "qs, captured_data = simulate.capture_sampling(true_data, q=0.1, q_sq=0.011)\n"
   ]
  },
  {
   "cell_type": "markdown",
   "metadata": {},
   "source": [
    "### Perform real bootstrap\n",
    "\n",
    "Perform bootstrap for two different sets of genes to test for generalizablilty of the bootstrap approximation.\n",
    "\n",
    "adata_1 is for fitting, adata_2 is for testing"
   ]
  },
  {
   "cell_type": "code",
   "execution_count": 2341,
   "metadata": {},
   "outputs": [],
   "source": [
    "imp.reload(estimator)\n",
    "imp.reload(bootstrap)\n",
    "imp.reload(scmemo)\n",
    "imp.reload(util)\n",
    "\n",
    "adata = sc.AnnData(sp.sparse.csr_matrix(captured_data))\n",
    "adata.obs['ct'] = np.random.choice(2, adata.shape[0])\n",
    "# adata.obs['ind'] = np.random.choice(list('aef'), adata.shape[0])\n",
    "\n",
    "adata_scmemo = adata.copy()\n",
    "adata_scmemo.X = adata_scmemo.X.astype(np.int64)\n",
    "scmemo.create_groups(adata_scmemo, label_columns=['ct'], inplace=True)\n",
    "\n",
    "scmemo.compute_1d_moments(adata_scmemo, inplace=True, filter_genes=True, residual_var=True, use_n_umi=False, filter_mean_thresh=0.2, min_perc_group=.9)"
   ]
  },
  {
   "cell_type": "code",
   "execution_count": 2344,
   "metadata": {},
   "outputs": [
    {
     "data": {
      "text/plain": [
       "(10000, 1097)"
      ]
     },
     "execution_count": 2344,
     "metadata": {},
     "output_type": "execute_result"
    }
   ],
   "source": [
    "adata_scmemo.shape"
   ]
  },
  {
   "cell_type": "code",
   "execution_count": 1196,
   "metadata": {},
   "outputs": [
    {
     "name": "stdout",
     "output_type": "stream",
     "text": [
      "0\n",
      "200\n",
      "400\n",
      "600\n",
      "800\n",
      "CPU times: user 1min 42s, sys: 373 ms, total: 1min 42s\n",
      "Wall time: 1min 42s\n"
     ]
    }
   ],
   "source": [
    "%%time\n",
    "num_boot=1000\n",
    "### Perform real bootstrap\n",
    "adata_1 = adata_scmemo[adata_scmemo.obs['ct'] == 0][:, :500]\n",
    "adata_2 = adata_scmemo[adata_scmemo.obs['ct'] == 1][:, 500:1000]\n",
    "sf_1 = adata_scmemo.uns['scmemo']['size_factor']['sg^0']\n",
    "sf_2 = adata_scmemo.uns['scmemo']['size_factor']['sg^1']\n",
    "\n",
    "# mean_diff = np.zeros((num_boot, adata_1.shape[1]))\n",
    "# var_diff = np.zeros((num_boot, adata_1.shape[1]))\n",
    "mean_1 = np.zeros((num_boot, adata_1.shape[1]))\n",
    "mean_2 = np.zeros((num_boot, adata_1.shape[1]))\n",
    "var_1 = np.zeros((num_boot, adata_1.shape[1]))\n",
    "var_2 = np.zeros((num_boot, adata_1.shape[1]))\n",
    "\n",
    "for boot in range(num_boot):\n",
    "    \n",
    "    if boot % 200 == 0:\n",
    "        print(boot)\n",
    "    boot_idx_1 = np.random.choice(adata_1.shape[0], adata_1.shape[0])\n",
    "    boot_idx_2 = np.random.choice(adata_2.shape[0], adata_2.shape[0])\n",
    "    \n",
    "    mean_1[boot, :], var_1[boot, :] = estimator._poisson_1d(adata_1.X[boot_idx_1], adata_1.shape[0], size_factor=sf_1[boot_idx_1], n_umi=adata_scmemo.uns['scmemo']['n_umi'])\n",
    "    mean_2[boot, :], var_2[boot, :] = estimator._poisson_1d(adata_2.X[boot_idx_2], adata_2.shape[0], size_factor=sf_2[boot_idx_2], n_umi=adata_scmemo.uns['scmemo']['n_umi'])\n",
    "    \n",
    "#     mean_diff[boot, :] = mean_2[boot, :] - mean_1[boot, :]\n",
    "#     var_diff[boot, :] = var_2[boot, :] - var_1[boot, :]"
   ]
  },
  {
   "cell_type": "code",
   "execution_count": 1197,
   "metadata": {},
   "outputs": [],
   "source": [
    "# mean_pval = 2*(np.minimum((mean_diff > 0).sum(axis=0), 5000- (mean_diff > 0).sum(axis=0))+1)/(5000+1)\n",
    "# var_pval = 2*(np.minimum((var_diff > 0).sum(axis=0), 5000- (var_diff > 0).sum(axis=0))+1)/(5000+1)"
   ]
  },
  {
   "cell_type": "markdown",
   "metadata": {},
   "source": [
    "### Approximate bootstrap for the first 500 genes and fit the curve for bootstrap variance"
   ]
  },
  {
   "cell_type": "code",
   "execution_count": 1198,
   "metadata": {},
   "outputs": [],
   "source": [
    "mat_1 = adata_1.X.tocsc()\n",
    "mat_2 = adata_2.X.tocsc()"
   ]
  },
  {
   "cell_type": "code",
   "execution_count": 2369,
   "metadata": {},
   "outputs": [
    {
     "name": "stdout",
     "output_type": "stream",
     "text": [
      "0\n",
      "100\n",
      "200\n",
      "300\n",
      "400\n",
      "CPU times: user 59.9 s, sys: 29.3 ms, total: 59.9 s\n",
      "Wall time: 59.9 s\n"
     ]
    }
   ],
   "source": [
    "%%time\n",
    "# for gene_idx in range(20):\n",
    "num_gene_to_test = 500\n",
    "imp.reload(bootstrap)\n",
    "num_bins = 1\n",
    "var_var_diff = np.zeros(num_gene_to_test)\n",
    "var_mean_diff = np.zeros(num_gene_to_test)\n",
    "# unique_count = np.zeros(num_gene_to_test)\n",
    "var_var_1 = np.zeros(num_gene_to_test)\n",
    "var_mean_1 = np.zeros(num_gene_to_test)\n",
    "unique_count_1 = np.zeros(num_gene_to_test)\n",
    "\n",
    "var_var_2 = np.zeros(num_gene_to_test)\n",
    "var_mean_2 = np.zeros(num_gene_to_test)\n",
    "unique_count_2 = np.zeros(num_gene_to_test)\n",
    "\n",
    "\n",
    "for gene_idx in range(num_gene_to_test):\n",
    "    \n",
    "    if gene_idx % 100 == 0:\n",
    "        print(gene_idx)\n",
    "    mean_1_approx, var_1_approx, s1= bootstrap._bootstrap_1d(\n",
    "        mat_1[:, gene_idx],\n",
    "        size_factor=sf_1, \n",
    "        n_umi=adata_scmemo.uns['scmemo']['n_umi'],\n",
    "        num_boot=10000,\n",
    "        dirichlet_approx=True,\n",
    "        log=False)\n",
    "    \n",
    "    var_var_1[gene_idx] = var_1_approx.var()\n",
    "    var_mean_1[gene_idx] = mean_1_approx.var()\n",
    "    unique_count_1[gene_idx] = s1\n",
    "\n",
    "    mean_2_approx, var_2_approx, s2= bootstrap._bootstrap_1d(\n",
    "        mat_2[:, gene_idx], \n",
    "        size_factor=sf_2, \n",
    "        n_umi=adata_scmemo.uns['scmemo']['n_umi'],\n",
    "        num_boot=10000,\n",
    "        dirichlet_approx=True,\n",
    "        log=False)\n",
    "    \n",
    "    var_var_2[gene_idx] = var_2_approx.var()\n",
    "    var_mean_2[gene_idx] = mean_2_approx.var()\n",
    "    unique_count_2[gene_idx] = s2\n",
    "    real_var_diff = var_2[:, gene_idx]-var_1[:, gene_idx]\n",
    "    approx_var_diff = var_2_approx-var_1_approx\n",
    "    \n",
    "    real_mean_diff = mean_2[:, gene_idx]-mean_1[:, gene_idx]\n",
    "    approx_mean_diff = mean_2_approx-mean_1_approx\n",
    "    \n",
    "    var_mean_diff[gene_idx] = real_mean_diff.var()-approx_mean_diff.var()\n",
    "    var_var_diff[gene_idx]=real_var_diff.var()-approx_var_diff.var()\n",
    "#     unique_count[gene_idx]=(s1+s2)/2"
   ]
  },
  {
   "cell_type": "code",
   "execution_count": 2371,
   "metadata": {},
   "outputs": [
    {
     "data": {
      "text/plain": [
       "<matplotlib.collections.PathCollection at 0x7f65bf2923d0>"
      ]
     },
     "execution_count": 2371,
     "metadata": {},
     "output_type": "execute_result"
    },
    {
     "data": {
      "image/png": "[encoded data removed]",
      "text/plain": [
       "<Figure size 432x288 with 1 Axes>"
      ]
     },
     "metadata": {
      "needs_background": "light"
     },
     "output_type": "display_data"
    }
   ],
   "source": [
    "plt.scatter(var_1.var(axis=0), var_var_1)\n",
    "# plt.plot([0, 14], [0, 14])"
   ]
  },
  {
   "cell_type": "code",
   "execution_count": null,
   "metadata": {},
   "outputs": [],
   "source": []
  },
  {
   "cell_type": "code",
   "execution_count": null,
   "metadata": {},
   "outputs": [],
   "source": []
  },
  {
   "cell_type": "code",
   "execution_count": 1259,
   "metadata": {},
   "outputs": [
    {
     "name": "stdout",
     "output_type": "stream",
     "text": [
      "[-3.57351547e-09  1.48361477e-06 -1.38769183e-05 -6.56126048e-07] [ 1.20101802e-06  1.37367904e-04 -3.63012806e-03  1.85529068e-02]\n"
     ]
    }
   ],
   "source": [
    "from scipy.optimize import least_squares\n",
    "\n",
    "def transform(poly_fit, unique_count):\n",
    "    \n",
    "#     return poly_fit[0]*unique_count**2 + poly_fit[1]*unique_count\n",
    "    return np.poly1d(poly_fit)(unique_count)\n",
    "#     return poly_fit[0]*10**(poly_fit[1]*unique_count)\n",
    "\n",
    "def loss(poly_fit, unique_count, var_diff):\n",
    "    return var_diff - transform(poly_fit, unique_count)\n",
    "\n",
    "#     return var_diff - np.poly1d(poly_fit)(unique_count)\n",
    "\n",
    "mean_fit = least_squares(loss, np.zeros(4), args=(unique_count_1, mean_1.var(axis=0) - var_mean_1), loss='huber').x\n",
    "var_fit = least_squares(loss, np.zeros(4), args=(unique_count_1, var_1.var(axis=0) - var_var_1), loss='huber').x\n",
    "var_poly = np.poly1d(var_fit)\n",
    "mean_poly = np.poly1d(mean_fit)\n",
    "print(mean_fit, var_fit)"
   ]
  },
  {
   "cell_type": "code",
   "execution_count": 2367,
   "metadata": {},
   "outputs": [
    {
     "data": {
      "text/plain": [
       "<matplotlib.collections.PathCollection at 0x7f65bf3c2990>"
      ]
     },
     "execution_count": 2367,
     "metadata": {},
     "output_type": "execute_result"
    },
    {
     "data": {
      "image/png": "[encoded data removed]",
      "text/plain": [
       "<Figure size 504x216 with 2 Axes>"
      ]
     },
     "metadata": {
      "needs_background": "light"
     },
     "output_type": "display_data"
    }
   ],
   "source": [
    "plt.figure(figsize=(7, 3))\n",
    "plt.subplot(1, 2, 1)\n",
    "unique_counts_range = np.linspace(0, unique_count_1.max(), 1000)\n",
    "# plt.scatter(unique_counts_range, transform(mean_fit, unique_counts_range), s=2)\n",
    "plt.scatter(unique_count_1, mean_1.var(axis=0) - var_mean_1, s=5)\n",
    "\n",
    "# plt.xlim(0, 100);\n",
    "# plt.ylim(-.01, 0.025)\n",
    "\n",
    "\n",
    "plt.subplot(1, 2, 2)\n",
    "# plt.scatter(unique_counts_range, var_poly(unique_counts_range), s=1)\n",
    "# plt.scatter(unique_counts_range, transform(var_fit, unique_counts_range), s=1)\n",
    "plt.scatter(unique_count_1, var_1.var(axis=0) - var_var_1, s=5)\n",
    "# plt.xlim(0, 100)\n",
    "# plt.ylim(-1, 10)"
   ]
  },
  {
   "cell_type": "markdown",
   "metadata": {},
   "source": [
    "### Approximate bootstrap for the second set of 500 genes and inject noise"
   ]
  },
  {
   "cell_type": "code",
   "execution_count": 1261,
   "metadata": {},
   "outputs": [
    {
     "name": "stdout",
     "output_type": "stream",
     "text": [
      "0\n",
      "100\n",
      "200\n",
      "300\n",
      "400\n",
      "CPU times: user 7.31 s, sys: 12.3 ms, total: 7.32 s\n",
      "Wall time: 7.31 s\n"
     ]
    }
   ],
   "source": [
    "%%time\n",
    "# for gene_idx in range(20):\n",
    "num_gene_to_test = 500\n",
    "imp.reload(bootstrap)\n",
    "num_bins = 1\n",
    "var_var_2 = np.zeros(num_gene_to_test)\n",
    "var_mean_2 = np.zeros(num_gene_to_test)\n",
    "unique_count_2 = np.zeros(num_gene_to_test)\n",
    "\n",
    "for gene_idx in range(num_gene_to_test):\n",
    "    \n",
    "    if gene_idx % 100 == 0:\n",
    "        print(gene_idx)\n",
    "    mean_2_approx, var_2_approx, s2= bootstrap._bootstrap_1d(\n",
    "        mat_2[:, gene_idx],\n",
    "        sf_df=bootstrap._create_size_factor_df(sf_2), \n",
    "        n_umi=adata_scmemo.uns['scmemo']['n_umi'],\n",
    "        num_boot=10000,\n",
    "        bins=num_bins,\n",
    "        dirichlet_approx=True,\n",
    "        log=False)\n",
    "    mean_noise = transform(mean_fit, s2)\n",
    "    var_noise = transform(var_fit, s2)\n",
    "    \n",
    "    if mean_noise > 0:\n",
    "        mean_2_approx[1:] += stats.norm.rvs(loc=0, scale=np.sqrt(mean_noise), size=10000)\n",
    "    if var_noise > 0:\n",
    "        var_2_approx[1:] += stats.norm.rvs(loc=0, scale=np.sqrt(var_noise), size=10000)\n",
    "\n",
    "    var_var_2[gene_idx] = var_2_approx.var()\n",
    "    var_mean_2[gene_idx] = mean_2_approx.var()\n",
    "    unique_count_2[gene_idx] = s2"
   ]
  },
  {
   "cell_type": "code",
   "execution_count": 1329,
   "metadata": {},
   "outputs": [
    {
     "data": {
      "text/plain": [
       "<matplotlib.collections.PathCollection at 0x7f65f73bba10>"
      ]
     },
     "execution_count": 1329,
     "metadata": {},
     "output_type": "execute_result"
    },
    {
     "data": {
      "image/png": "[encoded data removed]",
      "text/plain": [
       "<Figure size 504x216 with 2 Axes>"
      ]
     },
     "metadata": {
      "needs_background": "light"
     },
     "output_type": "display_data"
    }
   ],
   "source": [
    "plt.figure(figsize=(7, 3))\n",
    "plt.subplot(1, 2, 1)\n",
    "plt.scatter(unique_count_2, mean_2.var(axis=0) - var_mean_2, s=5)\n",
    "\n",
    "\n",
    "plt.subplot(1, 2, 2)\n",
    "plt.scatter(unique_count_2, var_2.var(axis=0) - var_var_2, s=5)\n",
    "# plt.xlim(0, 70);\n"
   ]
  },
  {
   "cell_type": "code",
   "execution_count": 1356,
   "metadata": {},
   "outputs": [
    {
     "data": {
      "text/plain": [
       "array([224, 481, 275, 340, 312,  47, 416, 346, 379, 236])"
      ]
     },
     "execution_count": 1356,
     "metadata": {},
     "output_type": "execute_result"
    }
   ],
   "source": [
    "np.argsort(adata_1.X.mean(axis=0).A1)[::-1][:10]"
   ]
  },
  {
   "cell_type": "markdown",
   "metadata": {},
   "source": [
    "### Small example"
   ]
  },
  {
   "cell_type": "code",
   "execution_count": 2190,
   "metadata": {},
   "outputs": [],
   "source": [
    "def _precompute_size_factor(expr, sf_df, bins):\n",
    "\t\"\"\"\n",
    "\t\tPrecompute the size factor to separate it from the bootstrap.\n",
    "\t\tThis function also serves to find and count unique values.\n",
    "\t\t\n",
    "\t\t:sf_df: is already a dictionary with memory already allocated to speed up the calculations.\n",
    "\t\tIt should already include the inverse of size factors and inverse of the squared size factors.\n",
    "\t\"\"\"\n",
    "\t\n",
    "\t# Get the expression values into the DataFrame\n",
    "\tif expr.ndim > 1:\n",
    "\t\tsf_df['expr'] = np.random.random()*expr[:, 0]+np.random.random()*expr[:, 1]\n",
    "\t\tsf_df['expr1'], sf_df['expr2'] = expr[:, 0], expr[:, 1]\n",
    "\telse:\n",
    "\t\tsf_df['expr'] = expr\n",
    "\t\n",
    "\t# Create bins for size factors\n",
    "\tif bins == 1:\n",
    "\t\tsf_df['bin'] = 1\n",
    "\telif bins == 2:\n",
    "\t\tsf_df['bin_cutoff'] = sf_df.groupby('expr', sort=True)['size_factor'].transform('mean')\n",
    "\t\tsf_df['bin'] = sf_df['size_factor'] > sf_df['bin_cutoff']\n",
    "\telse:\n",
    "\t\tsf_df['bin'] = sf_df.groupby('expr', sort=True)['size_factor'].transform(lambda x: _create_bins(x, bins))\n",
    "\t\n",
    "\tgroupby_obj = sf_df.groupby(['expr', 'bin'], sort=True)\n",
    "\tprecomputed_sf = groupby_obj[['inv_size_factor', 'inv_size_factor_sq']].mean().dropna()\n",
    "\t\n",
    "\t# Get unique expression values\n",
    "\tif expr.ndim > 1:\n",
    "\t\tunique_expr = groupby_obj[['expr1', 'expr2']].first().dropna().values\n",
    "\telse:\n",
    "\t\tunique_expr = precomputed_sf.index.get_level_values(0).values.reshape(-1, 1)\n",
    "\t\n",
    "\t# Get unique counts\n",
    "\tcounts = groupby_obj.size().values\n",
    "\t\t\t\t\t\n",
    "\treturn (\n",
    "\t\tprecomputed_sf['inv_size_factor'].values.reshape(-1, 1), \n",
    "\t\tprecomputed_sf['inv_size_factor_sq'].values.reshape(-1, 1),\n",
    "\t\tunique_expr,\n",
    "\t\tcounts)\n",
    "\n",
    "def _create_bins(x, num_bins):\n",
    "\t\"\"\" Small helper function to create bins dynamically. \"\"\"\n",
    "\t\n",
    "# \tbin_edges = np.quantile(x, np.linspace(0, 1, num_bins))\n",
    "\n",
    "\tif x.shape[0] < 20:\n",
    "\t\treturn 1\n",
    "\t_, bin_edges = np.histogram(x, bins=num_bins)\n",
    "\t\n",
    "\treturn np.digitize(x, np.unique(bin_edges))\n",
    "\n",
    "\treturn pd.cut(x, bins=num_bins, labels=list(string.ascii_lowercase)[:num_bins])"
   ]
  },
  {
   "cell_type": "code",
   "execution_count": 2306,
   "metadata": {},
   "outputs": [
    {
     "name": "stdout",
     "output_type": "stream",
     "text": [
      "8\n"
     ]
    }
   ],
   "source": [
    "data = adata_1.X[:, 6].todense().A1\n",
    "data = adata_1.X[:, 0].todense().A1\n",
    "\n",
    "all_sf = sf_1\n",
    "normalized_data = (data/all_sf)\n",
    "\n",
    "# Algorithm for figuring out number of bins\n",
    "unique_counts = np.unique(data).shape[0]\n",
    "num_bins = min(unique_counts, 8)\n",
    "print(num_bins)\n",
    "\n",
    "_, sf_bin_edges = np.histogram(data_sf, bins=num_bins)\n",
    "# sf_bin_edges = np.quantile(all_sf, np.linspace(0, 1,10))\n",
    "binned_stat = stats.binned_statistic(all_sf, all_sf, bins=sf_bin_edges, statistic='median')\n",
    "approx_sf = binned_stat[0][binned_stat[2]-1]\n",
    "\n",
    "binned_normalized_data = (data/approx_sf)"
   ]
  },
  {
   "cell_type": "code",
   "execution_count": 2323,
   "metadata": {},
   "outputs": [],
   "source": [
    "a = adata.X.tocsc()"
   ]
  },
  {
   "cell_type": "code",
   "execution_count": 2335,
   "metadata": {},
   "outputs": [
    {
     "name": "stdout",
     "output_type": "stream",
     "text": [
      "CPU times: user 4.68 ms, sys: 111 µs, total: 4.79 ms\n",
      "Wall time: 4.2 ms\n"
     ]
    },
    {
     "data": {
      "text/plain": [
       "(110,)"
      ]
     },
     "execution_count": 2335,
     "metadata": {},
     "output_type": "execute_result"
    }
   ],
   "source": [
    "%%time\n",
    "np.unique(a[:, [0, 1]].dot(np.random.random(2)), axis=0).shape"
   ]
  },
  {
   "cell_type": "code",
   "execution_count": 2336,
   "metadata": {},
   "outputs": [
    {
     "name": "stdout",
     "output_type": "stream",
     "text": [
      "CPU times: user 4.2 ms, sys: 2.99 ms, total: 7.2 ms\n",
      "Wall time: 6.54 ms\n"
     ]
    },
    {
     "data": {
      "text/plain": [
       "(110, 2)"
      ]
     },
     "execution_count": 2336,
     "metadata": {},
     "output_type": "execute_result"
    }
   ],
   "source": [
    "%%time\n",
    "np.unique(a[:, [0, 1]].toarray(), axis=0).shape"
   ]
  },
  {
   "cell_type": "code",
   "execution_count": 2327,
   "metadata": {},
   "outputs": [
    {
     "name": "stdout",
     "output_type": "stream",
     "text": [
      "CPU times: user 672 µs, sys: 154 µs, total: 826 µs\n",
      "Wall time: 540 µs\n"
     ]
    },
    {
     "data": {
      "text/plain": [
       "array([[ 0., 25.],\n",
       "       [ 0., 12.],\n",
       "       [ 0., 12.],\n",
       "       ...,\n",
       "       [ 0., 10.],\n",
       "       [ 0., 11.],\n",
       "       [ 0., 23.]], dtype=float32)"
      ]
     },
     "execution_count": 2327,
     "metadata": {},
     "output_type": "execute_result"
    }
   ],
   "source": [
    "%%time\n",
    "a[:, [0, 1]].toarray()"
   ]
  },
  {
   "cell_type": "code",
   "execution_count": 2325,
   "metadata": {},
   "outputs": [
    {
     "name": "stdout",
     "output_type": "stream",
     "text": [
      "CPU times: user 493 µs, sys: 0 ns, total: 493 µs\n",
      "Wall time: 395 µs\n"
     ]
    },
    {
     "data": {
      "text/plain": [
       "array([0., 0., 0., ..., 0., 0., 0.])"
      ]
     },
     "execution_count": 2325,
     "metadata": {},
     "output_type": "execute_result"
    }
   ],
   "source": [
    "%%time\n",
    "a[:, 0].dot(np.random.random(1))"
   ]
  },
  {
   "cell_type": "code",
   "execution_count": 2326,
   "metadata": {},
   "outputs": [
    {
     "name": "stdout",
     "output_type": "stream",
     "text": [
      "CPU times: user 750 µs, sys: 172 µs, total: 922 µs\n",
      "Wall time: 625 µs\n"
     ]
    },
    {
     "data": {
      "text/plain": [
       "array([5.49274771, 2.6365189 , 2.6365189 , ..., 2.19709908, 2.41680899,\n",
       "       5.05332789])"
      ]
     },
     "execution_count": 2326,
     "metadata": {},
     "output_type": "execute_result"
    }
   ],
   "source": [
    "%%time\n",
    "a[:, [0, 1]].dot(np.random.random(2))"
   ]
  },
  {
   "cell_type": "code",
   "execution_count": 2307,
   "metadata": {},
   "outputs": [
    {
     "data": {
      "text/plain": [
       "8"
      ]
     },
     "execution_count": 2307,
     "metadata": {},
     "output_type": "execute_result"
    }
   ],
   "source": [
    "unique_counts"
   ]
  },
  {
   "cell_type": "code",
   "execution_count": 2308,
   "metadata": {},
   "outputs": [
    {
     "data": {
      "image/png": "[encoded data removed]",
      "text/plain": [
       "<Figure size 144x72 with 1 Axes>"
      ]
     },
     "metadata": {
      "needs_background": "light"
     },
     "output_type": "display_data"
    }
   ],
   "source": [
    "plt.figure(figsize=(2,1))\n",
    "plt.hist(data);"
   ]
  },
  {
   "cell_type": "code",
   "execution_count": 2309,
   "metadata": {},
   "outputs": [
    {
     "name": "stdout",
     "output_type": "stream",
     "text": [
      "CPU times: user 4.05 s, sys: 51.9 ms, total: 4.1 s\n",
      "Wall time: 4.03 s\n"
     ]
    }
   ],
   "source": [
    "%%time\n",
    "real_boot_mean_dist = np.array([normalized_data[np.random.choice(data.shape[0], data.shape[0])].mean() for i in range(10000)])\n",
    "real_boot_var_dist = np.array([normalized_data[np.random.choice(data.shape[0], data.shape[0])].var() for i in range(10000)])\n",
    "\n",
    "real_binned_boot_mean_dist = np.array([binned_normalized_data[np.random.choice(data.shape[0], data.shape[0])].mean() for i in range(10000)])\n",
    "real_binned_boot_var_dist = np.array([binned_normalized_data[np.random.choice(data.shape[0], data.shape[0])].var() for i in range(10000)])"
   ]
  },
  {
   "cell_type": "code",
   "execution_count": 2310,
   "metadata": {},
   "outputs": [
    {
     "name": "stdout",
     "output_type": "stream",
     "text": [
      "CPU times: user 72.2 ms, sys: 0 ns, total: 72.2 ms\n",
      "Wall time: 71.1 ms\n"
     ]
    }
   ],
   "source": [
    "%%time\n",
    "# Approximation #1\n",
    "sf_df = pd.DataFrame()\n",
    "sf_df['expr'] = data\n",
    "sf_df['size_factor'] = all_sf\n",
    "sf_df['inv_size_factor'] = 1/data_df['sf']\n",
    "sf_df['inv_size_factor_sq'] = 1/data_df['sf']**2\n",
    "sf_df['bin'] = 1\n",
    "\n",
    "inv_sf, inv_sf_sq, expr, counts = _precompute_size_factor(\n",
    "    expr=data, \n",
    "    sf_df=sf_df,\n",
    "    bins=unique_counts)\n",
    "# precomputed_sf = data_df.groupby('expr')['inv_sf', 'inv_sf_sq'].mean()\n",
    "# expr, count = np.unique(data, return_counts=True)\n",
    "\n",
    "\n",
    "mult_rvs = stats.multinomial.rvs(n=data.shape[0], p=counts/data.shape[0], size=10000).T\n",
    "\n",
    "approx_boot_mean_dist = (expr.reshape(-1, 1) * mult_rvs * inv_sf).sum(axis=0)/data.shape[0]\n",
    "approx_boot_var_dist = (expr.reshape(-1, 1)**2 * mult_rvs * inv_sf_sq).sum(axis=0)/data.shape[0] - approx_boot_mean_dist**2"
   ]
  },
  {
   "cell_type": "code",
   "execution_count": 2311,
   "metadata": {},
   "outputs": [
    {
     "name": "stdout",
     "output_type": "stream",
     "text": [
      "CPU times: user 55.3 ms, sys: 174 µs, total: 55.5 ms\n",
      "Wall time: 54.8 ms\n"
     ]
    }
   ],
   "source": [
    "%%time\n",
    "# Approximation #2\n",
    "expr_sf_data = np.vstack([data, approx_sf]).T\n",
    "expr_sf, index, count = np.unique(expr_sf_data, return_index=True, return_counts=True, axis=0)\n",
    "expr, sf = expr_sf[:, 0], expr_sf[:, 1]\n",
    "inv_sf = 1/sf.reshape(-1, 1)#inv_approx_sf[index].reshape(-1, 1)\n",
    "inv_sf_sq = 1/sf.reshape(-1, 1)**2#inv_approx_sf_sq[index].reshape(-1, 1)\n",
    "\n",
    "mult_rvs = stats.multinomial.rvs(n=data.shape[0], p=count/data.shape[0], size=10000).T\n",
    "approx_boot_mean_dist = (expr.reshape(-1, 1) * mult_rvs * inv_sf).sum(axis=0)/data.shape[0]\n",
    "approx_boot_var_dist = (expr.reshape(-1, 1)**2 * mult_rvs * inv_sf_sq).sum(axis=0)/data.shape[0] - approx_boot_mean_dist**2"
   ]
  },
  {
   "cell_type": "code",
   "execution_count": 2312,
   "metadata": {},
   "outputs": [
    {
     "name": "stdout",
     "output_type": "stream",
     "text": [
      "width of real boot mean 0.00011279673300481197\n",
      "width of real binned boot mean 0.00011198389817089256\n",
      "width of approximated boot mean 0.00011464156854742998\n",
      "width of real boot var 0.0008823097496660311\n",
      "width of real binned boot var 0.0008454897834030192\n",
      "width of approximated boot var 0.0008820516579391092\n"
     ]
    }
   ],
   "source": [
    "print('width of real boot mean', real_boot_mean_dist.var())\n",
    "print('width of real binned boot mean', real_binned_boot_mean_dist.var())\n",
    "print('width of approximated boot mean', approx_boot_mean_dist.var())\n",
    "\n",
    "print('width of real boot var', real_boot_var_dist.var())\n",
    "print('width of real binned boot var', real_binned_boot_var_dist.var())\n",
    "print('width of approximated boot var', approx_boot_var_dist.var())"
   ]
  },
  {
   "cell_type": "code",
   "execution_count": 2313,
   "metadata": {},
   "outputs": [
    {
     "data": {
      "text/plain": [
       "[<matplotlib.lines.Line2D at 0x7f65bfb4dc10>]"
      ]
     },
     "execution_count": 2313,
     "metadata": {},
     "output_type": "execute_result"
    },
    {
     "data": {
      "image/png": "[encoded data removed]",
      "text/plain": [
       "<Figure size 720x216 with 2 Axes>"
      ]
     },
     "metadata": {
      "needs_background": "light"
     },
     "output_type": "display_data"
    }
   ],
   "source": [
    "plt.figure(figsize=(10, 3))\n",
    "plt.subplot(1, 2, 1)\n",
    "sns.distplot(real_boot_mean_dist)\n",
    "# sns.distplot(real_binned_boot_mean_dist)\n",
    "sns.distplot(approx_boot_mean_dist)\n",
    "plt.plot([normalized_data.mean(), normalized_data.mean()], [0, 5])\n",
    "\n",
    "plt.subplot(1, 2, 2)\n",
    "sns.distplot(real_boot_var_dist)\n",
    "# sns.distplot(real_binned_boot_var_dist)\n",
    "sns.distplot(approx_boot_var_dist)\n",
    "\n",
    "plt.plot([normalized_data.var(), normalized_data.var()], [0, 0.25])\n"
   ]
  },
  {
   "cell_type": "code",
   "execution_count": null,
   "metadata": {},
   "outputs": [],
   "source": []
  },
  {
   "cell_type": "code",
   "execution_count": null,
   "metadata": {},
   "outputs": [],
   "source": []
  },
  {
   "cell_type": "code",
   "execution_count": null,
   "metadata": {},
   "outputs": [],
   "source": []
  },
  {
   "cell_type": "code",
   "execution_count": null,
   "metadata": {},
   "outputs": [],
   "source": []
  },
  {
   "cell_type": "code",
   "execution_count": null,
   "metadata": {},
   "outputs": [],
   "source": []
  },
  {
   "cell_type": "code",
   "execution_count": null,
   "metadata": {},
   "outputs": [],
   "source": []
  },
  {
   "cell_type": "code",
   "execution_count": null,
   "metadata": {},
   "outputs": [],
   "source": []
  },
  {
   "cell_type": "code",
   "execution_count": null,
   "metadata": {},
   "outputs": [],
   "source": []
  },
  {
   "cell_type": "code",
   "execution_count": null,
   "metadata": {},
   "outputs": [],
   "source": []
  },
  {
   "cell_type": "code",
   "execution_count": null,
   "metadata": {},
   "outputs": [],
   "source": []
  },
  {
   "cell_type": "code",
   "execution_count": null,
   "metadata": {},
   "outputs": [],
   "source": []
  },
  {
   "cell_type": "code",
   "execution_count": null,
   "metadata": {},
   "outputs": [],
   "source": []
  },
  {
   "cell_type": "code",
   "execution_count": null,
   "metadata": {},
   "outputs": [],
   "source": []
  },
  {
   "cell_type": "code",
   "execution_count": null,
   "metadata": {},
   "outputs": [],
   "source": []
  },
  {
   "cell_type": "code",
   "execution_count": null,
   "metadata": {},
   "outputs": [],
   "source": []
  },
  {
   "cell_type": "code",
   "execution_count": null,
   "metadata": {},
   "outputs": [],
   "source": []
  },
  {
   "cell_type": "code",
   "execution_count": null,
   "metadata": {},
   "outputs": [],
   "source": []
  },
  {
   "cell_type": "code",
   "execution_count": null,
   "metadata": {},
   "outputs": [],
   "source": []
  },
  {
   "cell_type": "code",
   "execution_count": null,
   "metadata": {},
   "outputs": [],
   "source": []
  },
  {
   "cell_type": "code",
   "execution_count": null,
   "metadata": {},
   "outputs": [],
   "source": []
  },
  {
   "cell_type": "code",
   "execution_count": null,
   "metadata": {},
   "outputs": [],
   "source": []
  },
  {
   "cell_type": "code",
   "execution_count": null,
   "metadata": {},
   "outputs": [],
   "source": []
  },
  {
   "cell_type": "code",
   "execution_count": null,
   "metadata": {},
   "outputs": [],
   "source": []
  },
  {
   "cell_type": "code",
   "execution_count": null,
   "metadata": {},
   "outputs": [],
   "source": []
  },
  {
   "cell_type": "code",
   "execution_count": null,
   "metadata": {},
   "outputs": [],
   "source": []
  },
  {
   "cell_type": "code",
   "execution_count": null,
   "metadata": {},
   "outputs": [],
   "source": []
  },
  {
   "cell_type": "code",
   "execution_count": null,
   "metadata": {},
   "outputs": [],
   "source": []
  },
  {
   "cell_type": "code",
   "execution_count": null,
   "metadata": {},
   "outputs": [],
   "source": []
  },
  {
   "cell_type": "code",
   "execution_count": null,
   "metadata": {},
   "outputs": [],
   "source": []
  },
  {
   "cell_type": "code",
   "execution_count": 1089,
   "metadata": {},
   "outputs": [
    {
     "data": {
      "text/plain": [
       "array([ 0.00087632, -0.03543521,  0.29207934])"
      ]
     },
     "execution_count": 1089,
     "metadata": {},
     "output_type": "execute_result"
    }
   ],
   "source": [
    "var_fit"
   ]
  },
  {
   "cell_type": "code",
   "execution_count": 1090,
   "metadata": {},
   "outputs": [],
   "source": [
    "from scipy.optimize import least_squares\n",
    "def loss(poly_fit, unique_count, var_diff):\n",
    "    \n",
    "    return var_diff - np.poly1d(poly_fit)(unique_count)\n",
    "\n",
    "mean_fit = least_squares(loss, np.ones(3), args=(unique_count, var_mean_diff), loss='soft_l1').x\n",
    "var_fit = least_squares(loss, np.ones(3), args=(unique_count, var_var_diff), loss='soft_l1').x\n",
    "print(mean_fit, var_fit)"
   ]
  },
  {
   "cell_type": "code",
   "execution_count": 1091,
   "metadata": {},
   "outputs": [],
   "source": [
    "from scipy.optimize import least_squares"
   ]
  },
  {
   "cell_type": "raw",
   "metadata": {},
   "source": [
    "[ 1.30690360e-06  6.07442883e-05 -8.49476884e-04] [ 0.0006098  -0.01942838  0.134787  ]"
   ]
  },
  {
   "cell_type": "code",
   "execution_count": 1092,
   "metadata": {},
   "outputs": [
    {
     "name": "stdout",
     "output_type": "stream",
     "text": [
      "[ 1.46767379e-06  4.41900691e-05 -6.59208097e-04] [ 0.00093671 -0.03944035  0.33236043]\n"
     ]
    }
   ],
   "source": [
    "mean_fit = least_squares(loss, np.ones(3), args=(unique_count, var_mean_diff), loss='soft_l1').x\n",
    "var_fit = least_squares(loss, np.ones(3), args=(unique_count, var_var_diff), loss='soft_l1').x\n",
    "print(mean_fit, var_fit)"
   ]
  },
  {
   "cell_type": "code",
   "execution_count": 1093,
   "metadata": {},
   "outputs": [
    {
     "name": "stdout",
     "output_type": "stream",
     "text": [
      "[ 1.46767333e-06  4.41901222e-05 -6.59208734e-04] [ 0.00090788 -0.03976201  0.34657496]\n"
     ]
    }
   ],
   "source": [
    "mean_fit = np.polyfit(unique_count, var_mean_diff, 2)\n",
    "var_fit = np.polyfit(unique_count, var_var_diff, 2)\n",
    "print(mean_fit, var_fit)"
   ]
  },
  {
   "cell_type": "code",
   "execution_count": 1094,
   "metadata": {},
   "outputs": [],
   "source": [
    "var_poly = np.poly1d(var_fit)\n",
    "mean_poly = np.poly1d(mean_fit)"
   ]
  },
  {
   "cell_type": "code",
   "execution_count": 1095,
   "metadata": {},
   "outputs": [
    {
     "data": {
      "text/plain": [
       "<matplotlib.collections.PathCollection at 0x7f65e4287b90>"
      ]
     },
     "execution_count": 1095,
     "metadata": {},
     "output_type": "execute_result"
    },
    {
     "data": {
      "image/png": "[encoded data removed]",
      "text/plain": [
       "<Figure size 504x216 with 2 Axes>"
      ]
     },
     "metadata": {
      "needs_background": "light"
     },
     "output_type": "display_data"
    }
   ],
   "source": [
    "plt.figure(figsize=(7, 3))\n",
    "plt.subplot(1, 2, 1)\n",
    "plt.scatter(unique_count, var_mean_diff, s=1)\n",
    "plt.scatter(unique_count, mean_poly(unique_count), s=2)\n",
    "\n",
    "# plt.xlim(0, 100);\n",
    "# plt.ylim(-.01, 0.025)\n",
    "\n",
    "\n",
    "plt.subplot(1, 2, 2)\n",
    "plt.scatter(unique_count, var_var_diff, s=1)\n",
    "plt.scatter(np.sort(unique_count), np.sort(var_poly(unique_count)), s=1)\n",
    "# plt.xlim(0, 100)\n",
    "# plt.ylim(-1, 10)"
   ]
  },
  {
   "cell_type": "code",
   "execution_count": 1029,
   "metadata": {},
   "outputs": [
    {
     "data": {
      "text/plain": [
       "<matplotlib.collections.PathCollection at 0x7f65a73da7d0>"
      ]
     },
     "execution_count": 1029,
     "metadata": {},
     "output_type": "execute_result"
    },
    {
     "data": {
      "image/png": "[encoded data removed]",
      "text/plain": [
       "<Figure size 504x216 with 2 Axes>"
      ]
     },
     "metadata": {
      "needs_background": "light"
     },
     "output_type": "display_data"
    }
   ],
   "source": [
    "plt.figure(figsize=(7, 3))\n",
    "plt.subplot(1, 2, 1)\n",
    "plt.scatter(unique_count, var_mean_diff)\n",
    "plt.scatter(unique_count, mean_poly(unique_count), s=2)\n",
    "\n",
    "# plt.xlim(0, 100);\n",
    "# plt.ylim(-.01, 0.025)\n",
    "\n",
    "\n",
    "plt.subplot(1, 2, 2)\n",
    "plt.scatter(unique_count, var_var_diff)\n",
    "plt.scatter(unique_count, var_poly(unique_count), s=2)\n",
    "# plt.xlim(0, 100)\n",
    "# plt.ylim(-1, 10)"
   ]
  },
  {
   "cell_type": "code",
   "execution_count": 962,
   "metadata": {},
   "outputs": [
    {
     "data": {
      "text/plain": [
       "<matplotlib.collections.PathCollection at 0x7f65e4a49cd0>"
      ]
     },
     "execution_count": 962,
     "metadata": {},
     "output_type": "execute_result"
    },
    {
     "data": {
      "image/png": "[encoded data removed]",
      "text/plain": [
       "<Figure size 432x288 with 1 Axes>"
      ]
     },
     "metadata": {
      "needs_background": "light"
     },
     "output_type": "display_data"
    }
   ],
   "source": [
    "plt.scatter(unique_count, var_var_diff)"
   ]
  },
  {
   "cell_type": "code",
   "execution_count": 949,
   "metadata": {},
   "outputs": [
    {
     "data": {
      "text/plain": [
       "<matplotlib.collections.PathCollection at 0x7f65e4e40910>"
      ]
     },
     "execution_count": 949,
     "metadata": {},
     "output_type": "execute_result"
    },
    {
     "data": {
      "image/png": "[encoded data removed]",
      "text/plain": [
       "<Figure size 432x288 with 1 Axes>"
      ]
     },
     "metadata": {
      "needs_background": "light"
     },
     "output_type": "display_data"
    }
   ],
   "source": [
    "# x = unique_count[var_diff < 20]\n",
    "# y = var_diff[var_diff < 20]\n",
    "plt.scatter(x, np.log(y))\n",
    "# plt.xlim(-1, 100);\n",
    "# plt.ylim(-1, 5)"
   ]
  },
  {
   "cell_type": "code",
   "execution_count": 918,
   "metadata": {},
   "outputs": [
    {
     "name": "stdout",
     "output_type": "stream",
     "text": [
      "0.021007687605148317\n"
     ]
    },
    {
     "data": {
      "text/plain": [
       "<matplotlib.axes._subplots.AxesSubplot at 0x7f65e5794b90>"
      ]
     },
     "execution_count": 918,
     "metadata": {},
     "output_type": "execute_result"
    },
    {
     "data": {
      "image/png": "[encoded data removed]",
      "text/plain": [
       "<Figure size 432x288 with 1 Axes>"
      ]
     },
     "metadata": {
      "needs_background": "light"
     },
     "output_type": "display_data"
    }
   ],
   "source": [
    "real_diff = var_2[:, 1]-var_1[:, 1]\n",
    "approx_diff = var_2_approx-var_1_approx\n",
    "\n",
    "print(real_diff.var() - approx_diff.var())\n",
    "sns.distplot(real_diff)\n",
    "sns.distplot(approx_diff)"
   ]
  },
  {
   "cell_type": "code",
   "execution_count": 912,
   "metadata": {},
   "outputs": [
    {
     "name": "stdout",
     "output_type": "stream",
     "text": [
      "0.06923541693269247\n"
     ]
    },
    {
     "data": {
      "text/plain": [
       "<matplotlib.axes._subplots.AxesSubplot at 0x7f65e58b3890>"
      ]
     },
     "execution_count": 912,
     "metadata": {},
     "output_type": "execute_result"
    },
    {
     "data": {
      "image/png": "[encoded data removed]",
      "text/plain": [
       "<Figure size 432x288 with 1 Axes>"
      ]
     },
     "metadata": {
      "needs_background": "light"
     },
     "output_type": "display_data"
    }
   ],
   "source": [
    "real_diff = var_2[:, 1]-var_1[:, 1]\n",
    "approx_diff = var_2_approx-var_1_approx\n",
    "\n",
    "print(real_diff.var() - approx_diff.var())\n",
    "sns.distplot(real_diff)\n",
    "sns.distplot(approx_diff)"
   ]
  },
  {
   "cell_type": "code",
   "execution_count": 880,
   "metadata": {},
   "outputs": [
    {
     "data": {
      "text/plain": [
       "array([0.24232931, 5.48000079, 0.25818807, 0.46550617, 0.68077886])"
      ]
     },
     "execution_count": 880,
     "metadata": {},
     "output_type": "execute_result"
    }
   ],
   "source": [
    "estimator._poisson_1d(adata_1.X, adata_1.shape[0], size_factor=sf_1, n_umi=adata_scmemo.uns['scmemo']['n_umi'])[0][:5]"
   ]
  },
  {
   "cell_type": "code",
   "execution_count": 881,
   "metadata": {},
   "outputs": [
    {
     "data": {
      "text/plain": [
       "array([5.48000079, 5.44506618, 5.42282228, ..., 5.50294022, 5.45590764,\n",
       "       5.47020344])"
      ]
     },
     "execution_count": 881,
     "metadata": {},
     "output_type": "execute_result"
    }
   ],
   "source": [
    "mean_1_approx"
   ]
  },
  {
   "cell_type": "code",
   "execution_count": 882,
   "metadata": {},
   "outputs": [
    {
     "name": "stdout",
     "output_type": "stream",
     "text": [
      "5.558644360029925 0.0026377424548788614\n"
     ]
    }
   ],
   "source": [
    "print(mean_2[:,1].mean(), mean_2[:, 1].var())"
   ]
  },
  {
   "cell_type": "code",
   "execution_count": 883,
   "metadata": {},
   "outputs": [
    {
     "name": "stdout",
     "output_type": "stream",
     "text": [
      "5.558722576631721 0.002516757062562083\n"
     ]
    }
   ],
   "source": [
    "print(mean_2_approx.mean(), mean_2_approx.var())"
   ]
  },
  {
   "cell_type": "code",
   "execution_count": 884,
   "metadata": {},
   "outputs": [
    {
     "data": {
      "text/plain": [
       "8.185131650504856e-05"
      ]
     },
     "execution_count": 884,
     "metadata": {},
     "output_type": "execute_result"
    }
   ],
   "source": [
    "mean_2[:, 2].var()"
   ]
  },
  {
   "cell_type": "code",
   "execution_count": 885,
   "metadata": {},
   "outputs": [
    {
     "data": {
      "text/plain": [
       "0.26945125978318535"
      ]
     },
     "execution_count": 885,
     "metadata": {},
     "output_type": "execute_result"
    }
   ],
   "source": [
    "mean_2[:, 2].mean()"
   ]
  },
  {
   "cell_type": "code",
   "execution_count": 886,
   "metadata": {},
   "outputs": [
    {
     "data": {
      "text/plain": [
       "5.558722576631721"
      ]
     },
     "execution_count": 886,
     "metadata": {},
     "output_type": "execute_result"
    }
   ],
   "source": [
    "mean_2_approx.mean()"
   ]
  },
  {
   "cell_type": "code",
   "execution_count": 887,
   "metadata": {},
   "outputs": [
    {
     "data": {
      "text/plain": [
       "<matplotlib.axes._subplots.AxesSubplot at 0x7f65f60b9310>"
      ]
     },
     "execution_count": 887,
     "metadata": {},
     "output_type": "execute_result"
    },
    {
     "data": {
      "image/png": "[encoded data removed]",
      "text/plain": [
       "<Figure size 432x288 with 1 Axes>"
      ]
     },
     "metadata": {
      "needs_background": "light"
     },
     "output_type": "display_data"
    }
   ],
   "source": [
    "real_diff = mean_2[:, 1]-mean_1[:, 1]\n",
    "approx_diff = mean_2_approx-mean_1_approx\n",
    "sns.distplot(real_diff)\n",
    "sns.distplot(approx_diff)"
   ]
  },
  {
   "cell_type": "code",
   "execution_count": 888,
   "metadata": {},
   "outputs": [
    {
     "data": {
      "text/plain": [
       "<matplotlib.axes._subplots.AxesSubplot at 0x7f65f5fe04d0>"
      ]
     },
     "execution_count": 888,
     "metadata": {},
     "output_type": "execute_result"
    },
    {
     "data": {
      "image/png": "[encoded data removed]",
      "text/plain": [
       "<Figure size 432x288 with 1 Axes>"
      ]
     },
     "metadata": {
      "needs_background": "light"
     },
     "output_type": "display_data"
    }
   ],
   "source": [
    "real_diff = var_2[:, 1]-var_1[:, 1]\n",
    "approx_diff = var_2_approx-var_1_approx\n",
    "sns.distplot(real_diff)\n",
    "sns.distplot(approx_diff)"
   ]
  },
  {
   "cell_type": "code",
   "execution_count": 812,
   "metadata": {},
   "outputs": [
    {
     "data": {
      "text/plain": [
       "(5000, 565)"
      ]
     },
     "execution_count": 812,
     "metadata": {},
     "output_type": "execute_result"
    }
   ],
   "source": [
    "mean_diff.shape"
   ]
  },
  {
   "cell_type": "code",
   "execution_count": 813,
   "metadata": {},
   "outputs": [
    {
     "data": {
      "text/plain": [
       "(5001,)"
      ]
     },
     "execution_count": 813,
     "metadata": {},
     "output_type": "execute_result"
    }
   ],
   "source": [
    "mean_2_approx.shape"
   ]
  },
  {
   "cell_type": "code",
   "execution_count": null,
   "metadata": {},
   "outputs": [],
   "source": []
  },
  {
   "cell_type": "code",
   "execution_count": null,
   "metadata": {},
   "outputs": [],
   "source": []
  },
  {
   "cell_type": "markdown",
   "metadata": {},
   "source": [
    "### Simulate some data"
   ]
  },
  {
   "cell_type": "code",
   "execution_count": 2396,
   "metadata": {},
   "outputs": [],
   "source": [
    "true_data = simulate.simulate_transcriptomes(10000, 2000, correlated=False)\n",
    "qs, captured_data = simulate.capture_sampling(true_data, q=0.1, q_sq=0.011)\n"
   ]
  },
  {
   "cell_type": "markdown",
   "metadata": {},
   "source": [
    "### Perform real bootstrap\n",
    "\n",
    "Perform bootstrap for two different sets of genes to test for generalizablilty of the bootstrap approximation.\n",
    "\n",
    "adata_1 is for fitting, adata_2 is for testing"
   ]
  },
  {
   "cell_type": "code",
   "execution_count": 2397,
   "metadata": {},
   "outputs": [],
   "source": [
    "imp.reload(estimator)\n",
    "imp.reload(bootstrap)\n",
    "imp.reload(scmemo)\n",
    "imp.reload(util)\n",
    "\n",
    "adata = sc.AnnData(sp.sparse.csr_matrix(captured_data))\n",
    "adata.obs['ct'] = np.random.choice(2, adata.shape[0])\n",
    "# adata.obs['ind'] = np.random.choice(list('aef'), adata.shape[0])\n",
    "\n",
    "adata_scmemo = adata.copy()\n",
    "adata_scmemo.X = adata_scmemo.X.astype(np.int64)\n",
    "scmemo.create_groups(adata_scmemo, label_columns=['ct'], inplace=True)\n",
    "\n",
    "scmemo.compute_1d_moments(adata_scmemo, inplace=True, filter_genes=True, residual_var=True, use_n_umi=False, filter_mean_thresh=0.2, min_perc_group=.9)"
   ]
  },
  {
   "cell_type": "code",
   "execution_count": 2398,
   "metadata": {},
   "outputs": [
    {
     "data": {
      "text/plain": [
       "(10000, 1072)"
      ]
     },
     "execution_count": 2398,
     "metadata": {},
     "output_type": "execute_result"
    }
   ],
   "source": [
    "adata_scmemo.shape"
   ]
  },
  {
   "cell_type": "code",
   "execution_count": 2399,
   "metadata": {},
   "outputs": [
    {
     "name": "stdout",
     "output_type": "stream",
     "text": [
      "CPU times: user 2min 7s, sys: 2.36 s, total: 2min 9s\n",
      "Wall time: 2min 9s\n"
     ]
    }
   ],
   "source": [
    "%%time\n",
    "imp.reload(hypothesis_test)\n",
    "imp.reload(scmemo)\n",
    "imp.reload(estimator)\n",
    "imp.reload(bootstrap)\n",
    "a = scmemo.ht_1d_moments(\n",
    "\tadata_scmemo, \n",
    "\tformula_like='1 + ct',\n",
    "\tcov_column='ct',\n",
    "\tinplace=False, \n",
    "\tuse_residual_var=False, \n",
    "\tnum_boot=10000, \n",
    "\tbins=10,\n",
    "\tdirichlet_approx=True,\n",
    "    log=False)"
   ]
  },
  {
   "cell_type": "code",
   "execution_count": 2400,
   "metadata": {},
   "outputs": [],
   "source": [
    "x = a.uns['scmemo']['1d_ht']['mean_asl']\n",
    "# x = x - np.nanmin(x)\n",
    "# x = x / np.nanmax(x)"
   ]
  },
  {
   "cell_type": "code",
   "execution_count": 2401,
   "metadata": {},
   "outputs": [
    {
     "data": {
      "image/png": "[encoded data removed]",
      "text/plain": [
       "<Figure size 432x288 with 1 Axes>"
      ]
     },
     "metadata": {
      "needs_background": "light"
     },
     "output_type": "display_data"
    }
   ],
   "source": [
    "plt.hist(x, bins=30);"
   ]
  },
  {
   "cell_type": "code",
   "execution_count": 2402,
   "metadata": {},
   "outputs": [
    {
     "data": {
      "text/plain": [
       "[<matplotlib.lines.Line2D at 0x7f65be8ab410>]"
      ]
     },
     "execution_count": 2402,
     "metadata": {},
     "output_type": "execute_result"
    },
    {
     "data": {
      "image/png": "[encoded data removed]",
      "text/plain": [
       "<Figure size 432x288 with 1 Axes>"
      ]
     },
     "metadata": {
      "needs_background": "light"
     },
     "output_type": "display_data"
    }
   ],
   "source": [
    "plt.scatter(\n",
    "    np.linspace(0, 1, a.uns['scmemo']['1d_ht']['var_asl'].shape[0]), \n",
    "    np.sort(x), s=1)\n",
    "plt.plot([0, 1], [0, 1])"
   ]
  },
  {
   "cell_type": "code",
   "execution_count": 2403,
   "metadata": {},
   "outputs": [
    {
     "name": "stderr",
     "output_type": "stream",
     "text": [
      "/home/ssm-user/anaconda3/envs/single_cell/lib/python3.7/site-packages/ipykernel_launcher.py:2: RuntimeWarning: divide by zero encountered in log\n",
      "  \n"
     ]
    },
    {
     "data": {
      "text/plain": [
       "[<matplotlib.lines.Line2D at 0x7f65be700510>]"
      ]
     },
     "execution_count": 2403,
     "metadata": {},
     "output_type": "execute_result"
    },
    {
     "data": {
      "image/png": "[encoded data removed]",
      "text/plain": [
       "<Figure size 432x288 with 1 Axes>"
      ]
     },
     "metadata": {
      "needs_background": "light"
     },
     "output_type": "display_data"
    }
   ],
   "source": [
    "plt.scatter(\n",
    "    -np.log(np.linspace(0, 1, a.uns['scmemo']['1d_ht']['var_asl'].shape[0])), \n",
    "    -np.log(np.sort(x)), s=1)\n",
    "plt.plot([0, 6], [0, 6])\n",
    "# plt.xlim(0,5)\n",
    "# plt.ylim(0,5)"
   ]
  },
  {
   "cell_type": "code",
   "execution_count": null,
   "metadata": {},
   "outputs": [],
   "source": []
  },
  {
   "cell_type": "code",
   "execution_count": null,
   "metadata": {},
   "outputs": [],
   "source": []
  },
  {
   "cell_type": "code",
   "execution_count": null,
   "metadata": {},
   "outputs": [],
   "source": []
  },
  {
   "cell_type": "code",
   "execution_count": null,
   "metadata": {},
   "outputs": [],
   "source": []
  },
  {
   "cell_type": "code",
   "execution_count": null,
   "metadata": {},
   "outputs": [],
   "source": []
  },
  {
   "cell_type": "code",
   "execution_count": null,
   "metadata": {},
   "outputs": [],
   "source": []
  },
  {
   "cell_type": "code",
   "execution_count": null,
   "metadata": {},
   "outputs": [],
   "source": []
  },
  {
   "cell_type": "code",
   "execution_count": null,
   "metadata": {},
   "outputs": [],
   "source": []
  },
  {
   "cell_type": "code",
   "execution_count": null,
   "metadata": {},
   "outputs": [],
   "source": []
  },
  {
   "cell_type": "code",
   "execution_count": 330,
   "metadata": {},
   "outputs": [
    {
     "data": {
      "text/plain": [
       "(array([75., 70., 84., 68., 53., 71., 72., 65., 60., 57., 68., 64., 54.,\n",
       "        64., 75.]),\n",
       " array([2.75565601e-05, 6.66520843e-02, 1.33276612e-01, 1.99901140e-01,\n",
       "        2.66525667e-01, 3.33150195e-01, 3.99774723e-01, 4.66399251e-01,\n",
       "        5.33023778e-01, 5.99648306e-01, 6.66272834e-01, 7.32897361e-01,\n",
       "        7.99521889e-01, 8.66146417e-01, 9.32770945e-01, 9.99395472e-01]),\n",
       " <a list of 15 Patch objects>)"
      ]
     },
     "execution_count": 330,
     "metadata": {},
     "output_type": "execute_result"
    },
    {
     "data": {
      "image/png": "[encoded data removed]",
      "text/plain": [
       "<Figure size 432x288 with 1 Axes>"
      ]
     },
     "metadata": {
      "needs_background": "light"
     },
     "output_type": "display_data"
    }
   ],
   "source": [
    "plt.hist(unif, bins=15)"
   ]
  },
  {
   "cell_type": "code",
   "execution_count": 327,
   "metadata": {},
   "outputs": [
    {
     "data": {
      "image/png": "[encoded data removed]",
      "text/plain": [
       "<Figure size 432x288 with 1 Axes>"
      ]
     },
     "metadata": {
      "needs_background": "light"
     },
     "output_type": "display_data"
    }
   ],
   "source": [
    "plt.hist(a.uns['scmemo']['1d_ht']['var_asl'], bins=15);"
   ]
  },
  {
   "cell_type": "code",
   "execution_count": 243,
   "metadata": {},
   "outputs": [
    {
     "data": {
      "image/png": "[encoded data removed]",
      "text/plain": [
       "<Figure size 432x288 with 1 Axes>"
      ]
     },
     "metadata": {
      "needs_background": "light"
     },
     "output_type": "display_data"
    }
   ],
   "source": [
    "plt.hist(a.uns['scmemo']['1d_ht']['var_asl'], bins=10);"
   ]
  },
  {
   "cell_type": "code",
   "execution_count": 227,
   "metadata": {},
   "outputs": [
    {
     "data": {
      "image/png": "[encoded data removed]",
      "text/plain": [
       "<Figure size 432x288 with 1 Axes>"
      ]
     },
     "metadata": {
      "needs_background": "light"
     },
     "output_type": "display_data"
    }
   ],
   "source": [
    "plt.hist(a.uns['scmemo']['1d_ht']['var_asl'], bins=15);"
   ]
  },
  {
   "cell_type": "code",
   "execution_count": 188,
   "metadata": {},
   "outputs": [
    {
     "data": {
      "image/png": "[encoded data removed]",
      "text/plain": [
       "<Figure size 432x288 with 1 Axes>"
      ]
     },
     "metadata": {
      "needs_background": "light"
     },
     "output_type": "display_data"
    }
   ],
   "source": [
    "plt.hist(a.uns['scmemo']['1d_ht']['var_asl'], bins=15);"
   ]
  },
  {
   "cell_type": "code",
   "execution_count": 105,
   "metadata": {},
   "outputs": [
    {
     "data": {
      "image/png": "[encoded data removed]",
      "text/plain": [
       "<Figure size 432x288 with 1 Axes>"
      ]
     },
     "metadata": {
      "needs_background": "light"
     },
     "output_type": "display_data"
    }
   ],
   "source": [
    "plt.hist(a.uns['scmemo']['1d_ht']['mean_asl'], bins=15);"
   ]
  },
  {
   "cell_type": "markdown",
   "metadata": {},
   "source": [
    "## "
   ]
  },
  {
   "cell_type": "code",
   "execution_count": null,
   "metadata": {},
   "outputs": [],
   "source": []
  },
  {
   "cell_type": "code",
   "execution_count": null,
   "metadata": {},
   "outputs": [],
   "source": []
  },
  {
   "cell_type": "code",
   "execution_count": null,
   "metadata": {},
   "outputs": [],
   "source": []
  },
  {
   "cell_type": "code",
   "execution_count": null,
   "metadata": {},
   "outputs": [],
   "source": []
  },
  {
   "cell_type": "code",
   "execution_count": null,
   "metadata": {},
   "outputs": [],
   "source": []
  },
  {
   "cell_type": "code",
   "execution_count": 42,
   "metadata": {},
   "outputs": [],
   "source": [
    "from sklearn.impute import SimpleImputer"
   ]
  },
  {
   "cell_type": "code",
   "execution_count": null,
   "metadata": {},
   "outputs": [],
   "source": []
  },
  {
   "cell_type": "code",
   "execution_count": 44,
   "metadata": {},
   "outputs": [],
   "source": [
    "a = np.array([1, 2, 3])"
   ]
  },
  {
   "cell_type": "code",
   "execution_count": 45,
   "metadata": {},
   "outputs": [
    {
     "data": {
      "text/plain": [
       "array([1, 2, 3])"
      ]
     },
     "execution_count": 45,
     "metadata": {},
     "output_type": "execute_result"
    }
   ],
   "source": [
    "eval('a')"
   ]
  },
  {
   "cell_type": "code",
   "execution_count": 534,
   "metadata": {},
   "outputs": [],
   "source": [
    "imp.reload(hypothesis_test)\n",
    "imp.reload(scmemo)\n",
    "a = scmemo.ht_1d_moments(adata_scmemo, 'ct', inplace=False, use_residual_var=True)"
   ]
  },
  {
   "cell_type": "code",
   "execution_count": 535,
   "metadata": {},
   "outputs": [
    {
     "data": {
      "text/plain": [
       "DesignMatrix with shape (2, 2)\n",
       "  Intercept  ct[T.PBMC]\n",
       "          1           1\n",
       "          1           0\n",
       "  Terms:\n",
       "    'Intercept' (column 0)\n",
       "    'ct' (column 1)"
      ]
     },
     "execution_count": 535,
     "metadata": {},
     "output_type": "execute_result"
    }
   ],
   "source": [
    "a.uns['scmemo']['1d_ht']['design_matrix']"
   ]
  },
  {
   "cell_type": "code",
   "execution_count": 531,
   "metadata": {},
   "outputs": [
    {
     "data": {
      "image/png": "[encoded data removed]",
      "text/plain": [
       "<Figure size 432x288 with 1 Axes>"
      ]
     },
     "metadata": {
      "needs_background": "light"
     },
     "output_type": "display_data"
    }
   ],
   "source": [
    "plt.hist(a.uns['scmemo']['1d_ht']['var_result'][2][1, :]);"
   ]
  },
  {
   "cell_type": "code",
   "execution_count": null,
   "metadata": {},
   "outputs": [],
   "source": []
  },
  {
   "cell_type": "code",
   "execution_count": 491,
   "metadata": {},
   "outputs": [
    {
     "name": "stdout",
     "output_type": "stream",
     "text": [
      "sg^PBMC\n",
      "CPU times: user 127 ms, sys: 60 ms, total: 186 ms\n",
      "Wall time: 186 ms\n"
     ]
    }
   ],
   "source": [
    "%%time\n",
    "# res_1 = scmemo.bootstrap_1d_moments(adata_scmemo, inplace=False, num_boot=100000, verbose=True, bins=1)\n",
    "# res_2 = scmemo.bootstrap_1d_moments(adata_scmemo, inplace=False, num_boot=100000, verbose=True, bins=2)\n",
    "res_3 = scmemo.bootstrap_1d_moments(adata_scmemo, inplace=False, num_boot=1000, verbose=True, bins=3)\n"
   ]
  },
  {
   "cell_type": "code",
   "execution_count": 463,
   "metadata": {},
   "outputs": [],
   "source": [
    "from statsmodels.distributions.empirical_distribution import ECDF"
   ]
  },
  {
   "cell_type": "code",
   "execution_count": 489,
   "metadata": {},
   "outputs": [
    {
     "data": {
      "text/plain": [
       "<matplotlib.axes._subplots.AxesSubplot at 0x7f5db68917d0>"
      ]
     },
     "execution_count": 489,
     "metadata": {},
     "output_type": "execute_result"
    },
    {
     "data": {
      "image/png": "[encoded data removed]",
      "text/plain": [
       "<Figure size 792x216 with 3 Axes>"
      ]
     },
     "metadata": {
      "needs_background": "light"
     },
     "output_type": "display_data"
    }
   ],
   "source": [
    "plt.figure(figsize=(11, 3))\n",
    "plt.subplot(1, 3, 1)\n",
    "plt.plot([-0,1], [-0,1], lw=1, color='m')\n",
    "plt.scatter(\n",
    "    ecdf.y[1:],\n",
    "    ecdf(np.sort(np.log(res_1[1]))),\n",
    "    s=0.01)\n",
    "plt.scatter(\n",
    "    ecdf.y[1:],\n",
    "    ecdf(np.sort(np.log(res_2[1]))),\n",
    "    s=0.01)\n",
    "plt.scatter(\n",
    "    ecdf.y[1:],\n",
    "    ecdf(np.sort(np.log(res_3[1]))),\n",
    "    s=0.01)\n",
    "plt.legend(['True', '1 bins', '2 bins', '3 bins'], markerscale=100)\n",
    "\n",
    "plt.subplot(1, 3, 2)\n",
    "plt.plot([-0,1], [-0,1], lw=1, color='m')\n",
    "plt.scatter(\n",
    "    ecdf.y[1:],\n",
    "    ecdf(np.sort(np.log(res_1[1]))),\n",
    "    s=0.01)\n",
    "plt.scatter(\n",
    "    ecdf.y[1:],\n",
    "    ecdf(np.sort(np.log(res_2[1]))),\n",
    "    s=0.01)\n",
    "plt.scatter(\n",
    "    ecdf.y[1:],\n",
    "    ecdf(np.sort(np.log(res_3[1]))),\n",
    "    s=0.01)\n",
    "plt.xlim(0, .1); plt.ylim(0, .1)\n",
    "plt.legend(['True', '1 bins', '2 bins', '3 bins'], markerscale=100)\n",
    "\n",
    "plt.subplot(1, 3, 3)\n",
    "sns.distplot(np.log(res_1[1]), hist=False, label='1 bin')\n",
    "sns.distplot(np.log(res_2[1]), hist=False, label='2 bin')\n",
    "sns.distplot(np.log(res_3[1]), hist=False, label='3 bin')\n",
    "sns.distplot(np.log(real_boot_vars), hist=False, label='true bootstrap')\n"
   ]
  },
  {
   "cell_type": "markdown",
   "metadata": {},
   "source": [
    "### testout statsmodels"
   ]
  },
  {
   "cell_type": "code",
   "execution_count": 8,
   "metadata": {},
   "outputs": [],
   "source": [
    "import statsmodels.formula.api as smf\n",
    "import statsmodels.api as sm"
   ]
  },
  {
   "cell_type": "code",
   "execution_count": 9,
   "metadata": {},
   "outputs": [
    {
     "data": {
      "text/plain": [
       "<bound method Model.from_formula of <class 'statsmodels.regression.linear_model.WLS'>>"
      ]
     },
     "execution_count": 9,
     "metadata": {},
     "output_type": "execute_result"
    }
   ],
   "source": [
    "smf.wls"
   ]
  },
  {
   "cell_type": "code",
   "execution_count": 495,
   "metadata": {},
   "outputs": [],
   "source": [
    "nsample = 4\n",
    "x = np.linspace(0, 20, nsample)\n",
    "X = np.column_stack((x, (x - 5)**2))\n",
    "X = sm.add_constant(X)\n",
    "beta = [5., 0.5, -0.01]\n",
    "sig = 0.5\n",
    "w = np.ones(nsample)\n",
    "w[nsample * 6//10:] = 10\n",
    "y_true = np.dot(X, beta)\n",
    "e = np.random.normal(size=nsample)\n",
    "y = y_true + sig * w * e"
   ]
  },
  {
   "cell_type": "code",
   "execution_count": 496,
   "metadata": {},
   "outputs": [],
   "source": [
    "def wlstq(X, y, weights):\n",
    "    \"\"\" Perform weighted least squares and return the coefficients and the p-values. \"\"\"\n",
    "\n",
    "    inv = np.linalg.inv(X.T.dot(weights.reshape(-1,1)*X))\n",
    "    beta = inv.dot(X.T*weights).dot(y)\n",
    "    stde = np.sqrt(np.diag(inv))\n",
    "        \n",
    "    pval = 2*(1-stats.norm.cdf(np.abs(beta), 0, stde))\n",
    "    \n",
    "    return beta, stde, pval"
   ]
  },
  {
   "cell_type": "code",
   "execution_count": null,
   "metadata": {},
   "outputs": [],
   "source": []
  },
  {
   "cell_type": "code",
   "execution_count": 6,
   "metadata": {},
   "outputs": [],
   "source": [
    "a = np.array([1, 2, 3])"
   ]
  },
  {
   "cell_type": "code",
   "execution_count": 7,
   "metadata": {},
   "outputs": [
    {
     "data": {
      "text/plain": [
       "array([1, 2, 3])"
      ]
     },
     "execution_count": 7,
     "metadata": {},
     "output_type": "execute_result"
    }
   ],
   "source": [
    "np.minimum(a, 10-a)"
   ]
  },
  {
   "cell_type": "code",
   "execution_count": 497,
   "metadata": {},
   "outputs": [
    {
     "name": "stdout",
     "output_type": "stream",
     "text": [
      "CPU times: user 1.26 ms, sys: 39 µs, total: 1.3 ms\n",
      "Wall time: 472 µs\n"
     ]
    },
    {
     "data": {
      "text/plain": [
       "(array([ 5.18047275e+00,  4.30319706e-01, -1.95500966e-03]),\n",
       " array([1.2376279 , 0.20249106, 0.03845486]),\n",
       " array([2.84153475e-05, 3.35758176e-02, 9.59453751e-01]))"
      ]
     },
     "execution_count": 497,
     "metadata": {},
     "output_type": "execute_result"
    }
   ],
   "source": [
    "%%time\n",
    "wlstq(X, y, 1/w**2)"
   ]
  },
  {
   "cell_type": "code",
   "execution_count": 498,
   "metadata": {},
   "outputs": [
    {
     "name": "stderr",
     "output_type": "stream",
     "text": [
      "/home/ssm-user/anaconda3/envs/single_cell/lib/python3.7/site-packages/statsmodels/stats/stattools.py:71: ValueWarning: omni_normtest is not valid with less than 8 observations; 4 samples were given.\n",
      "  \"samples were given.\" % int(n), ValueWarning)\n"
     ]
    },
    {
     "data": {
      "text/html": [
       "<table class=\"simpletable\">\n",
       "<caption>WLS Regression Results</caption>\n",
       "<tr>\n",
       "  <th>Dep. Variable:</th>            <td>y</td>        <th>  R-squared:         </th> <td>   0.962</td>\n",
       "</tr>\n",
       "<tr>\n",
       "  <th>Model:</th>                   <td>WLS</td>       <th>  Adj. R-squared:    </th> <td>   0.886</td>\n",
       "</tr>\n",
       "<tr>\n",
       "  <th>Method:</th>             <td>Least Squares</td>  <th>  F-statistic:       </th> <td>   12.71</td>\n",
       "</tr>\n",
       "<tr>\n",
       "  <th>Date:</th>             <td>Wed, 06 May 2020</td> <th>  Prob (F-statistic):</th>  <td> 0.195</td> \n",
       "</tr>\n",
       "<tr>\n",
       "  <th>Time:</th>                 <td>22:35:34</td>     <th>  Log-Likelihood:    </th> <td> -4.2024</td>\n",
       "</tr>\n",
       "<tr>\n",
       "  <th>No. Observations:</th>      <td>     4</td>      <th>  AIC:               </th> <td>   14.40</td>\n",
       "</tr>\n",
       "<tr>\n",
       "  <th>Df Residuals:</th>          <td>     1</td>      <th>  BIC:               </th> <td>   12.56</td>\n",
       "</tr>\n",
       "<tr>\n",
       "  <th>Df Model:</th>              <td>     2</td>      <th>                     </th>     <td> </td>   \n",
       "</tr>\n",
       "<tr>\n",
       "  <th>Covariance Type:</th>      <td>nonrobust</td>    <th>                     </th>     <td> </td>   \n",
       "</tr>\n",
       "</table>\n",
       "<table class=\"simpletable\">\n",
       "<tr>\n",
       "    <td></td>       <th>coef</th>     <th>std err</th>      <th>t</th>      <th>P>|t|</th>  <th>[0.025</th>    <th>0.975]</th>  \n",
       "</tr>\n",
       "<tr>\n",
       "  <th>const</th> <td>    5.1805</td> <td>    0.542</td> <td>    9.566</td> <td> 0.066</td> <td>   -1.701</td> <td>   12.062</td>\n",
       "</tr>\n",
       "<tr>\n",
       "  <th>x1</th>    <td>    0.4303</td> <td>    0.089</td> <td>    4.857</td> <td> 0.129</td> <td>   -0.696</td> <td>    1.556</td>\n",
       "</tr>\n",
       "<tr>\n",
       "  <th>x2</th>    <td>   -0.0020</td> <td>    0.017</td> <td>   -0.116</td> <td> 0.926</td> <td>   -0.216</td> <td>    0.212</td>\n",
       "</tr>\n",
       "</table>\n",
       "<table class=\"simpletable\">\n",
       "<tr>\n",
       "  <th>Omnibus:</th>       <td>   nan</td> <th>  Durbin-Watson:     </th> <td>   2.678</td>\n",
       "</tr>\n",
       "<tr>\n",
       "  <th>Prob(Omnibus):</th> <td>   nan</td> <th>  Jarque-Bera (JB):  </th> <td>   0.680</td>\n",
       "</tr>\n",
       "<tr>\n",
       "  <th>Skew:</th>          <td> 0.923</td> <th>  Prob(JB):          </th> <td>   0.712</td>\n",
       "</tr>\n",
       "<tr>\n",
       "  <th>Kurtosis:</th>      <td> 2.180</td> <th>  Cond. No.          </th> <td>    43.0</td>\n",
       "</tr>\n",
       "</table><br/><br/>Warnings:<br/>[1] Standard Errors assume that the covariance matrix of the errors is correctly specified."
      ],
      "text/plain": [
       "<class 'statsmodels.iolib.summary.Summary'>\n",
       "\"\"\"\n",
       "                            WLS Regression Results                            \n",
       "==============================================================================\n",
       "Dep. Variable:                      y   R-squared:                       0.962\n",
       "Model:                            WLS   Adj. R-squared:                  0.886\n",
       "Method:                 Least Squares   F-statistic:                     12.71\n",
       "Date:                Wed, 06 May 2020   Prob (F-statistic):              0.195\n",
       "Time:                        22:35:34   Log-Likelihood:                -4.2024\n",
       "No. Observations:                   4   AIC:                             14.40\n",
       "Df Residuals:                       1   BIC:                             12.56\n",
       "Df Model:                           2                                         \n",
       "Covariance Type:            nonrobust                                         \n",
       "==============================================================================\n",
       "                 coef    std err          t      P>|t|      [0.025      0.975]\n",
       "------------------------------------------------------------------------------\n",
       "const          5.1805      0.542      9.566      0.066      -1.701      12.062\n",
       "x1             0.4303      0.089      4.857      0.129      -0.696       1.556\n",
       "x2            -0.0020      0.017     -0.116      0.926      -0.216       0.212\n",
       "==============================================================================\n",
       "Omnibus:                          nan   Durbin-Watson:                   2.678\n",
       "Prob(Omnibus):                    nan   Jarque-Bera (JB):                0.680\n",
       "Skew:                           0.923   Prob(JB):                        0.712\n",
       "Kurtosis:                       2.180   Cond. No.                         43.0\n",
       "==============================================================================\n",
       "\n",
       "Warnings:\n",
       "[1] Standard Errors assume that the covariance matrix of the errors is correctly specified.\n",
       "\"\"\""
      ]
     },
     "execution_count": 498,
     "metadata": {},
     "output_type": "execute_result"
    }
   ],
   "source": [
    "sm.WLS(y, X, weights=1./(w ** 2)).fit().summary()"
   ]
  },
  {
   "cell_type": "code",
   "execution_count": null,
   "metadata": {},
   "outputs": [],
   "source": []
  },
  {
   "cell_type": "code",
   "execution_count": 8,
   "metadata": {},
   "outputs": [],
   "source": [
    "a = b = []"
   ]
  },
  {
   "cell_type": "code",
   "execution_count": 173,
   "metadata": {},
   "outputs": [
    {
     "data": {
      "text/plain": [
       "[]"
      ]
     },
     "execution_count": 173,
     "metadata": {},
     "output_type": "execute_result"
    }
   ],
   "source": [
    "a"
   ]
  },
  {
   "cell_type": "code",
   "execution_count": 175,
   "metadata": {},
   "outputs": [],
   "source": [
    "a.append(1)"
   ]
  },
  {
   "cell_type": "code",
   "execution_count": 176,
   "metadata": {},
   "outputs": [
    {
     "data": {
      "text/plain": [
       "[1]"
      ]
     },
     "execution_count": 176,
     "metadata": {},
     "output_type": "execute_result"
    }
   ],
   "source": [
    "b"
   ]
  },
  {
   "cell_type": "code",
   "execution_count": 171,
   "metadata": {},
   "outputs": [
    {
     "ename": "ValueError",
     "evalue": "not enough values to unpack (expected 2, got 0)",
     "output_type": "error",
     "traceback": [
      "\u001b[0;31m---------------------------------------------------------------------------\u001b[0m",
      "\u001b[0;31mValueError\u001b[0m                                Traceback (most recent call last)",
      "\u001b[0;32m<ipython-input-171-fb7acb7be6df>\u001b[0m in \u001b[0;36m<module>\u001b[0;34m\u001b[0m\n\u001b[0;32m----> 1\u001b[0;31m \u001b[0ma\u001b[0m\u001b[0;34m,\u001b[0m \u001b[0mb\u001b[0m\u001b[0;34m,\u001b[0m \u001b[0;34m=\u001b[0m \u001b[0;34m[\u001b[0m\u001b[0;34m]\u001b[0m\u001b[0;34m\u001b[0m\u001b[0;34m\u001b[0m\u001b[0m\n\u001b[0m",
      "\u001b[0;31mValueError\u001b[0m: not enough values to unpack (expected 2, got 0)"
     ]
    }
   ],
   "source": [
    "a, b, = []"
   ]
  },
  {
   "cell_type": "code",
   "execution_count": 159,
   "metadata": {},
   "outputs": [],
   "source": [
    "from patsy import dmatrix, demo_data, ContrastMatrix, Poly, ModelDesc"
   ]
  },
  {
   "cell_type": "code",
   "execution_count": 160,
   "metadata": {},
   "outputs": [
    {
     "data": {
      "text/plain": [
       "ModelDesc(lhs_termlist=[Term([EvalFactor('y')])],\n",
       "          rhs_termlist=[Term([]), Term([EvalFactor('x')])])"
      ]
     },
     "execution_count": 160,
     "metadata": {},
     "output_type": "execute_result"
    }
   ],
   "source": [
    "ModelDesc.from_formula(\"y ~ x + x + x\")"
   ]
  },
  {
   "cell_type": "code",
   "execution_count": 147,
   "metadata": {},
   "outputs": [],
   "source": [
    "data = demo_data(\"a\", nlevels=3)"
   ]
  },
  {
   "cell_type": "code",
   "execution_count": 150,
   "metadata": {},
   "outputs": [],
   "source": [
    "data = demo_data(\"a\", \"b\", \"x1\", \"x2\")"
   ]
  },
  {
   "cell_type": "code",
   "execution_count": 151,
   "metadata": {},
   "outputs": [
    {
     "data": {
      "text/plain": [
       "{'a': ['a1', 'a1', 'a2', 'a2', 'a1', 'a1', 'a2', 'a2'],\n",
       " 'b': ['b1', 'b2', 'b1', 'b2', 'b1', 'b2', 'b1', 'b2'],\n",
       " 'x1': array([ 1.76405235,  0.40015721,  0.97873798,  2.2408932 ,  1.86755799,\n",
       "        -0.97727788,  0.95008842, -0.15135721]),\n",
       " 'x2': array([-0.10321885,  0.4105985 ,  0.14404357,  1.45427351,  0.76103773,\n",
       "         0.12167502,  0.44386323,  0.33367433])}"
      ]
     },
     "execution_count": 151,
     "metadata": {},
     "output_type": "execute_result"
    }
   ],
   "source": [
    "data"
   ]
  },
  {
   "cell_type": "code",
   "execution_count": 544,
   "metadata": {},
   "outputs": [
    {
     "data": {
      "text/plain": [
       "DesignMatrix with shape (8, 5)\n",
       "  Intercept  b[T.b2]  a[T.a2]        x2        x1\n",
       "          1        0        0  -0.10322   1.76405\n",
       "          1        1        0   0.41060   0.40016\n",
       "          1        0        1   0.14404   0.97874\n",
       "          1        1        1   1.45427   2.24089\n",
       "          1        0        0   0.76104   1.86756\n",
       "          1        1        0   0.12168  -0.97728\n",
       "          1        0        1   0.44386   0.95009\n",
       "          1        1        1   0.33367  -0.15136\n",
       "  Terms:\n",
       "    'Intercept' (column 0)\n",
       "    'b' (column 1)\n",
       "    'a' (column 2)\n",
       "    'x2' (column 3)\n",
       "    'x1' (column 4)"
      ]
     },
     "execution_count": 544,
     "metadata": {},
     "output_type": "execute_result"
    }
   ],
   "source": [
    "a = dmatrix(\"x2 + b + x1 + a\", pd.DataFrame(data))\n",
    "a"
   ]
  },
  {
   "cell_type": "code",
   "execution_count": 545,
   "metadata": {},
   "outputs": [
    {
     "data": {
      "text/plain": [
       "['Intercept', 'b[T.b2]', 'a[T.a2]', 'x2', 'x1']"
      ]
     },
     "execution_count": 545,
     "metadata": {},
     "output_type": "execute_result"
    }
   ],
   "source": [
    "a.design_info.column_names"
   ]
  },
  {
   "cell_type": "code",
   "execution_count": 354,
   "metadata": {},
   "outputs": [
    {
     "data": {
      "text/plain": [
       "['__class__',\n",
       " '__delattr__',\n",
       " '__dict__',\n",
       " '__dir__',\n",
       " '__doc__',\n",
       " '__eq__',\n",
       " '__format__',\n",
       " '__ge__',\n",
       " '__getattribute__',\n",
       " '__getstate__',\n",
       " '__gt__',\n",
       " '__hash__',\n",
       " '__init__',\n",
       " '__init_subclass__',\n",
       " '__le__',\n",
       " '__lt__',\n",
       " '__module__',\n",
       " '__ne__',\n",
       " '__new__',\n",
       " '__reduce__',\n",
       " '__reduce_ex__',\n",
       " '__repr__',\n",
       " '__setattr__',\n",
       " '__sizeof__',\n",
       " '__str__',\n",
       " '__subclasshook__',\n",
       " '__weakref__',\n",
       " '_repr_pretty_',\n",
       " 'builder',\n",
       " 'column_name_indexes',\n",
       " 'column_names',\n",
       " 'describe',\n",
       " 'design_info',\n",
       " 'factor_infos',\n",
       " 'from_array',\n",
       " 'linear_constraint',\n",
       " 'slice',\n",
       " 'subset',\n",
       " 'term_codings',\n",
       " 'term_name_slices',\n",
       " 'term_names',\n",
       " 'term_slices',\n",
       " 'terms']"
      ]
     },
     "execution_count": 354,
     "metadata": {},
     "output_type": "execute_result"
    }
   ],
   "source": [
    "dir(a.__dict__['design_info'])"
   ]
  },
  {
   "cell_type": "code",
   "execution_count": 348,
   "metadata": {},
   "outputs": [
    {
     "data": {
      "text/plain": [
       "['T',\n",
       " '__abs__',\n",
       " '__add__',\n",
       " '__and__',\n",
       " '__array__',\n",
       " '__array_finalize__',\n",
       " '__array_function__',\n",
       " '__array_interface__',\n",
       " '__array_prepare__',\n",
       " '__array_priority__',\n",
       " '__array_struct__',\n",
       " '__array_ufunc__',\n",
       " '__array_wrap__',\n",
       " '__bool__',\n",
       " '__class__',\n",
       " '__complex__',\n",
       " '__contains__',\n",
       " '__copy__',\n",
       " '__deepcopy__',\n",
       " '__delattr__',\n",
       " '__delitem__',\n",
       " '__dict__',\n",
       " '__dir__',\n",
       " '__divmod__',\n",
       " '__doc__',\n",
       " '__eq__',\n",
       " '__float__',\n",
       " '__floordiv__',\n",
       " '__format__',\n",
       " '__ge__',\n",
       " '__getattribute__',\n",
       " '__getitem__',\n",
       " '__gt__',\n",
       " '__hash__',\n",
       " '__iadd__',\n",
       " '__iand__',\n",
       " '__ifloordiv__',\n",
       " '__ilshift__',\n",
       " '__imatmul__',\n",
       " '__imod__',\n",
       " '__imul__',\n",
       " '__index__',\n",
       " '__init__',\n",
       " '__init_subclass__',\n",
       " '__int__',\n",
       " '__invert__',\n",
       " '__ior__',\n",
       " '__ipow__',\n",
       " '__irshift__',\n",
       " '__isub__',\n",
       " '__iter__',\n",
       " '__itruediv__',\n",
       " '__ixor__',\n",
       " '__le__',\n",
       " '__len__',\n",
       " '__lshift__',\n",
       " '__lt__',\n",
       " '__matmul__',\n",
       " '__mod__',\n",
       " '__module__',\n",
       " '__mul__',\n",
       " '__ne__',\n",
       " '__neg__',\n",
       " '__new__',\n",
       " '__or__',\n",
       " '__pos__',\n",
       " '__pow__',\n",
       " '__radd__',\n",
       " '__rand__',\n",
       " '__rdivmod__',\n",
       " '__reduce__',\n",
       " '__reduce_ex__',\n",
       " '__repr__',\n",
       " '__rfloordiv__',\n",
       " '__rlshift__',\n",
       " '__rmatmul__',\n",
       " '__rmod__',\n",
       " '__rmul__',\n",
       " '__ror__',\n",
       " '__rpow__',\n",
       " '__rrshift__',\n",
       " '__rshift__',\n",
       " '__rsub__',\n",
       " '__rtruediv__',\n",
       " '__rxor__',\n",
       " '__setattr__',\n",
       " '__setitem__',\n",
       " '__setstate__',\n",
       " '__sizeof__',\n",
       " '__str__',\n",
       " '__sub__',\n",
       " '__subclasshook__',\n",
       " '__truediv__',\n",
       " '__xor__',\n",
       " '_repr_pretty_',\n",
       " 'all',\n",
       " 'any',\n",
       " 'argmax',\n",
       " 'argmin',\n",
       " 'argpartition',\n",
       " 'argsort',\n",
       " 'astype',\n",
       " 'base',\n",
       " 'byteswap',\n",
       " 'choose',\n",
       " 'clip',\n",
       " 'compress',\n",
       " 'conj',\n",
       " 'conjugate',\n",
       " 'copy',\n",
       " 'ctypes',\n",
       " 'cumprod',\n",
       " 'cumsum',\n",
       " 'data',\n",
       " 'design_info',\n",
       " 'diagonal',\n",
       " 'dot',\n",
       " 'dtype',\n",
       " 'dump',\n",
       " 'dumps',\n",
       " 'fill',\n",
       " 'flags',\n",
       " 'flat',\n",
       " 'flatten',\n",
       " 'getfield',\n",
       " 'imag',\n",
       " 'item',\n",
       " 'itemset',\n",
       " 'itemsize',\n",
       " 'max',\n",
       " 'mean',\n",
       " 'min',\n",
       " 'nbytes',\n",
       " 'ndim',\n",
       " 'newbyteorder',\n",
       " 'nonzero',\n",
       " 'partition',\n",
       " 'prod',\n",
       " 'ptp',\n",
       " 'put',\n",
       " 'ravel',\n",
       " 'real',\n",
       " 'repeat',\n",
       " 'reshape',\n",
       " 'resize',\n",
       " 'round',\n",
       " 'searchsorted',\n",
       " 'setfield',\n",
       " 'setflags',\n",
       " 'shape',\n",
       " 'size',\n",
       " 'sort',\n",
       " 'squeeze',\n",
       " 'std',\n",
       " 'strides',\n",
       " 'sum',\n",
       " 'swapaxes',\n",
       " 'take',\n",
       " 'tobytes',\n",
       " 'tofile',\n",
       " 'tolist',\n",
       " 'tostring',\n",
       " 'trace',\n",
       " 'transpose',\n",
       " 'var',\n",
       " 'view']"
      ]
     },
     "execution_count": 348,
     "metadata": {},
     "output_type": "execute_result"
    }
   ],
   "source": [
    "dir(a)"
   ]
  },
  {
   "cell_type": "code",
   "execution_count": 164,
   "metadata": {},
   "outputs": [
    {
     "data": {
      "text/plain": [
       "8"
      ]
     },
     "execution_count": 164,
     "metadata": {},
     "output_type": "execute_result"
    }
   ],
   "source": [
    "len(a)"
   ]
  },
  {
   "cell_type": "code",
   "execution_count": 101,
   "metadata": {},
   "outputs": [
    {
     "name": "stdout",
     "output_type": "stream",
     "text": [
      "CPU times: user 12.7 ms, sys: 6 µs, total: 12.7 ms\n",
      "Wall time: 11.6 ms\n"
     ]
    },
    {
     "data": {
      "text/html": [
       "<table class=\"simpletable\">\n",
       "<caption>WLS Regression Results</caption>\n",
       "<tr>\n",
       "  <th>Dep. Variable:</th>            <td>c</td>        <th>  R-squared:         </th> <td>   0.861</td>\n",
       "</tr>\n",
       "<tr>\n",
       "  <th>Model:</th>                   <td>WLS</td>       <th>  Adj. R-squared:    </th> <td>   0.858</td>\n",
       "</tr>\n",
       "<tr>\n",
       "  <th>Method:</th>             <td>Least Squares</td>  <th>  F-statistic:       </th> <td>   297.0</td>\n",
       "</tr>\n",
       "<tr>\n",
       "  <th>Date:</th>             <td>Wed, 06 May 2020</td> <th>  Prob (F-statistic):</th> <td>3.40e-22</td>\n",
       "</tr>\n",
       "<tr>\n",
       "  <th>Time:</th>                 <td>18:13:19</td>     <th>  Log-Likelihood:    </th> <td> -64.858</td>\n",
       "</tr>\n",
       "<tr>\n",
       "  <th>No. Observations:</th>      <td>    50</td>      <th>  AIC:               </th> <td>   133.7</td>\n",
       "</tr>\n",
       "<tr>\n",
       "  <th>Df Residuals:</th>          <td>    48</td>      <th>  BIC:               </th> <td>   137.5</td>\n",
       "</tr>\n",
       "<tr>\n",
       "  <th>Df Model:</th>              <td>     1</td>      <th>                     </th>     <td> </td>   \n",
       "</tr>\n",
       "<tr>\n",
       "  <th>Covariance Type:</th>      <td>nonrobust</td>    <th>                     </th>     <td> </td>   \n",
       "</tr>\n",
       "</table>\n",
       "<table class=\"simpletable\">\n",
       "<tr>\n",
       "      <td></td>         <th>coef</th>     <th>std err</th>      <th>t</th>      <th>P>|t|</th>  <th>[0.025</th>    <th>0.975]</th>  \n",
       "</tr>\n",
       "<tr>\n",
       "  <th>Intercept</th> <td>    2.7091</td> <td>    0.094</td> <td>   28.874</td> <td> 0.000</td> <td>    2.520</td> <td>    2.898</td>\n",
       "</tr>\n",
       "<tr>\n",
       "  <th>a</th>         <td>    2.7091</td> <td>    0.094</td> <td>   28.874</td> <td> 0.000</td> <td>    2.520</td> <td>    2.898</td>\n",
       "</tr>\n",
       "<tr>\n",
       "  <th>b</th>         <td>    0.4089</td> <td>    0.024</td> <td>   17.234</td> <td> 0.000</td> <td>    0.361</td> <td>    0.457</td>\n",
       "</tr>\n",
       "</table>\n",
       "<table class=\"simpletable\">\n",
       "<tr>\n",
       "  <th>Omnibus:</th>       <td> 0.049</td> <th>  Durbin-Watson:     </th> <td>   1.890</td>\n",
       "</tr>\n",
       "<tr>\n",
       "  <th>Prob(Omnibus):</th> <td> 0.976</td> <th>  Jarque-Bera (JB):  </th> <td>   0.030</td>\n",
       "</tr>\n",
       "<tr>\n",
       "  <th>Skew:</th>          <td> 0.010</td> <th>  Prob(JB):          </th> <td>   0.985</td>\n",
       "</tr>\n",
       "<tr>\n",
       "  <th>Kurtosis:</th>      <td> 2.882</td> <th>  Cond. No.          </th> <td>3.66e+16</td>\n",
       "</tr>\n",
       "</table><br/><br/>Warnings:<br/>[1] Standard Errors assume that the covariance matrix of the errors is correctly specified.<br/>[2] The smallest eigenvalue is 1.54e-30. This might indicate that there are<br/>strong multicollinearity problems or that the design matrix is singular."
      ],
      "text/plain": [
       "<class 'statsmodels.iolib.summary.Summary'>\n",
       "\"\"\"\n",
       "                            WLS Regression Results                            \n",
       "==============================================================================\n",
       "Dep. Variable:                      c   R-squared:                       0.861\n",
       "Model:                            WLS   Adj. R-squared:                  0.858\n",
       "Method:                 Least Squares   F-statistic:                     297.0\n",
       "Date:                Wed, 06 May 2020   Prob (F-statistic):           3.40e-22\n",
       "Time:                        18:13:19   Log-Likelihood:                -64.858\n",
       "No. Observations:                  50   AIC:                             133.7\n",
       "Df Residuals:                      48   BIC:                             137.5\n",
       "Df Model:                           1                                         \n",
       "Covariance Type:            nonrobust                                         \n",
       "==============================================================================\n",
       "                 coef    std err          t      P>|t|      [0.025      0.975]\n",
       "------------------------------------------------------------------------------\n",
       "Intercept      2.7091      0.094     28.874      0.000       2.520       2.898\n",
       "a              2.7091      0.094     28.874      0.000       2.520       2.898\n",
       "b              0.4089      0.024     17.234      0.000       0.361       0.457\n",
       "==============================================================================\n",
       "Omnibus:                        0.049   Durbin-Watson:                   1.890\n",
       "Prob(Omnibus):                  0.976   Jarque-Bera (JB):                0.030\n",
       "Skew:                           0.010   Prob(JB):                        0.985\n",
       "Kurtosis:                       2.882   Cond. No.                     3.66e+16\n",
       "==============================================================================\n",
       "\n",
       "Warnings:\n",
       "[1] Standard Errors assume that the covariance matrix of the errors is correctly specified.\n",
       "[2] The smallest eigenvalue is 1.54e-30. This might indicate that there are\n",
       "strong multicollinearity problems or that the design matrix is singular.\n",
       "\"\"\""
      ]
     },
     "execution_count": 101,
     "metadata": {},
     "output_type": "execute_result"
    }
   ],
   "source": [
    "%%time\n",
    "df = pd.DataFrame(data=X, columns=['a', 'b'])\n",
    "df['c'] = y\n",
    "smf.wls('c ~ a + b', weights=1/w**2, data=df).fit().summary()"
   ]
  },
  {
   "cell_type": "code",
   "execution_count": 67,
   "metadata": {},
   "outputs": [
    {
     "ename": "TypeError",
     "evalue": "'Summary' object is not subscriptable",
     "output_type": "error",
     "traceback": [
      "\u001b[0;31m---------------------------------------------------------------------------\u001b[0m",
      "\u001b[0;31mTypeError\u001b[0m                                 Traceback (most recent call last)",
      "\u001b[0;32m<ipython-input-67-e4f42ac6421e>\u001b[0m in \u001b[0;36m<module>\u001b[0;34m\u001b[0m\n\u001b[0;32m----> 1\u001b[0;31m \u001b[0ma\u001b[0m\u001b[0;34m[\u001b[0m\u001b[0;34m'coef'\u001b[0m\u001b[0;34m]\u001b[0m\u001b[0;34m\u001b[0m\u001b[0;34m\u001b[0m\u001b[0m\n\u001b[0m",
      "\u001b[0;31mTypeError\u001b[0m: 'Summary' object is not subscriptable"
     ]
    }
   ],
   "source": [
    "a['coef']"
   ]
  },
  {
   "cell_type": "code",
   "execution_count": 39,
   "metadata": {},
   "outputs": [
    {
     "name": "stderr",
     "output_type": "stream",
     "text": [
      "/home/ssm-user/anaconda3/envs/single_cell/lib/python3.7/site-packages/statsmodels/stats/stattools.py:71: ValueWarning: omni_normtest is not valid with less than 8 observations; 3 samples were given.\n",
      "  \"samples were given.\" % int(n), ValueWarning)\n"
     ]
    },
    {
     "data": {
      "text/html": [
       "<table class=\"simpletable\">\n",
       "<caption>WLS Regression Results</caption>\n",
       "<tr>\n",
       "  <th>Dep. Variable:</th>            <td>y</td>        <th>  R-squared:         </th> <td>   0.984</td>\n",
       "</tr>\n",
       "<tr>\n",
       "  <th>Model:</th>                   <td>WLS</td>       <th>  Adj. R-squared:    </th> <td>   0.968</td>\n",
       "</tr>\n",
       "<tr>\n",
       "  <th>Method:</th>             <td>Least Squares</td>  <th>  F-statistic:       </th> <td>   61.43</td>\n",
       "</tr>\n",
       "<tr>\n",
       "  <th>Date:</th>             <td>Wed, 06 May 2020</td> <th>  Prob (F-statistic):</th>  <td>0.0808</td> \n",
       "</tr>\n",
       "<tr>\n",
       "  <th>Time:</th>                 <td>17:58:38</td>     <th>  Log-Likelihood:    </th> <td> -1.0603</td>\n",
       "</tr>\n",
       "<tr>\n",
       "  <th>No. Observations:</th>      <td>     3</td>      <th>  AIC:               </th> <td>   6.121</td>\n",
       "</tr>\n",
       "<tr>\n",
       "  <th>Df Residuals:</th>          <td>     1</td>      <th>  BIC:               </th> <td>   4.318</td>\n",
       "</tr>\n",
       "<tr>\n",
       "  <th>Df Model:</th>              <td>     1</td>      <th>                     </th>     <td> </td>   \n",
       "</tr>\n",
       "<tr>\n",
       "  <th>Covariance Type:</th>      <td>nonrobust</td>    <th>                     </th>     <td> </td>   \n",
       "</tr>\n",
       "</table>\n",
       "<table class=\"simpletable\">\n",
       "<tr>\n",
       "    <td></td>       <th>coef</th>     <th>std err</th>      <th>t</th>      <th>P>|t|</th>  <th>[0.025</th>    <th>0.975]</th>  \n",
       "</tr>\n",
       "<tr>\n",
       "  <th>const</th> <td>    6.6900</td> <td>    0.604</td> <td>   11.068</td> <td> 0.057</td> <td>   -0.991</td> <td>   14.370</td>\n",
       "</tr>\n",
       "<tr>\n",
       "  <th>x1</th>    <td>    0.3004</td> <td>    0.038</td> <td>    7.838</td> <td> 0.081</td> <td>   -0.187</td> <td>    0.787</td>\n",
       "</tr>\n",
       "</table>\n",
       "<table class=\"simpletable\">\n",
       "<tr>\n",
       "  <th>Omnibus:</th>       <td>   nan</td> <th>  Durbin-Watson:     </th> <td>   1.457</td>\n",
       "</tr>\n",
       "<tr>\n",
       "  <th>Prob(Omnibus):</th> <td>   nan</td> <th>  Jarque-Bera (JB):  </th> <td>   0.421</td>\n",
       "</tr>\n",
       "<tr>\n",
       "  <th>Skew:</th>          <td>-0.528</td> <th>  Prob(JB):          </th> <td>   0.810</td>\n",
       "</tr>\n",
       "<tr>\n",
       "  <th>Kurtosis:</th>      <td> 1.500</td> <th>  Cond. No.          </th> <td>    49.0</td>\n",
       "</tr>\n",
       "</table><br/><br/>Warnings:<br/>[1] Standard Errors assume that the covariance matrix of the errors is correctly specified."
      ],
      "text/plain": [
       "<class 'statsmodels.iolib.summary.Summary'>\n",
       "\"\"\"\n",
       "                            WLS Regression Results                            \n",
       "==============================================================================\n",
       "Dep. Variable:                      y   R-squared:                       0.984\n",
       "Model:                            WLS   Adj. R-squared:                  0.968\n",
       "Method:                 Least Squares   F-statistic:                     61.43\n",
       "Date:                Wed, 06 May 2020   Prob (F-statistic):             0.0808\n",
       "Time:                        17:58:38   Log-Likelihood:                -1.0603\n",
       "No. Observations:                   3   AIC:                             6.121\n",
       "Df Residuals:                       1   BIC:                             4.318\n",
       "Df Model:                           1                                         \n",
       "Covariance Type:            nonrobust                                         \n",
       "==============================================================================\n",
       "                 coef    std err          t      P>|t|      [0.025      0.975]\n",
       "------------------------------------------------------------------------------\n",
       "const          6.6900      0.604     11.068      0.057      -0.991      14.370\n",
       "x1             0.3004      0.038      7.838      0.081      -0.187       0.787\n",
       "==============================================================================\n",
       "Omnibus:                          nan   Durbin-Watson:                   1.457\n",
       "Prob(Omnibus):                    nan   Jarque-Bera (JB):                0.421\n",
       "Skew:                          -0.528   Prob(JB):                        0.810\n",
       "Kurtosis:                       1.500   Cond. No.                         49.0\n",
       "==============================================================================\n",
       "\n",
       "Warnings:\n",
       "[1] Standard Errors assume that the covariance matrix of the errors is correctly specified.\n",
       "\"\"\""
      ]
     },
     "execution_count": 39,
     "metadata": {},
     "output_type": "execute_result"
    }
   ],
   "source": [
    "sm.WLS(y, X, weights=1./(w ** 2)).fit().summary()"
   ]
  },
  {
   "cell_type": "code",
   "execution_count": 13,
   "metadata": {},
   "outputs": [
    {
     "data": {
      "text/plain": [
       "array([[ 1.,  0.],\n",
       "       [ 1.,  5.],\n",
       "       [ 1., 10.],\n",
       "       [ 1., 15.],\n",
       "       [ 1., 20.]])"
      ]
     },
     "execution_count": 13,
     "metadata": {},
     "output_type": "execute_result"
    }
   ],
   "source": [
    "X"
   ]
  },
  {
   "cell_type": "code",
   "execution_count": null,
   "metadata": {},
   "outputs": [],
   "source": []
  }
 ],
 "metadata": {
  "kernelspec": {
   "display_name": "Python 3",
   "language": "python",
   "name": "python3"
  },
  "language_info": {
   "codemirror_mode": {
    "name": "ipython",
    "version": 3
   },
   "file_extension": ".py",
   "mimetype": "text/x-python",
   "name": "python",
   "nbconvert_exporter": "python",
   "pygments_lexer": "ipython3",
   "version": "3.7.5"
  }
 },
 "nbformat": 4,
 "nbformat_minor": 4
}
