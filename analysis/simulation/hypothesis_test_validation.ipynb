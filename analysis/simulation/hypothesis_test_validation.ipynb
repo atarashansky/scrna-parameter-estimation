{
 "cells": [
  {
   "cell_type": "markdown",
   "metadata": {},
   "source": [
    "# Hypothesis testing validation\n",
    "\n",
    "Power analysis for DM, DV, and DC"
   ]
  },
  {
   "cell_type": "code",
   "execution_count": 3,
   "metadata": {},
   "outputs": [
    {
     "name": "stderr",
     "output_type": "stream",
     "text": [
      "/home/ssm-user/anaconda3/envs/single_cell/lib/python3.7/site-packages/scanpy/api/__init__.py:6: FutureWarning: \n",
      "\n",
      "In a future version of Scanpy, `scanpy.api` will be removed.\n",
      "Simply use `import scanpy as sc` and `import scanpy.external as sce` instead.\n",
      "\n",
      "  FutureWarning,\n"
     ]
    }
   ],
   "source": [
    "import pandas as pd\n",
    "import matplotlib.pyplot as plt\n",
    "import scanpy.api as sc\n",
    "import scipy as sp\n",
    "import itertools\n",
    "import numpy as np\n",
    "import scipy.stats as stats\n",
    "from scipy.integrate import dblquad\n",
    "import seaborn as sns\n",
    "from statsmodels.stats.multitest import fdrcorrection\n",
    "import imp\n",
    "pd.options.display.max_rows = 999\n",
    "pd.set_option('display.max_colwidth', -1)\n",
    "import pickle as pkl\n",
    "import time\n",
    "import string"
   ]
  },
  {
   "cell_type": "code",
   "execution_count": 130,
   "metadata": {},
   "outputs": [],
   "source": [
    "import matplotlib as mpl\n",
    "mpl.rcParams['pdf.fonttype'] = 42\n",
    "mpl.rcParams['ps.fonttype'] = 42\n",
    "\n",
    "import matplotlib.pylab as pylab\n",
    "params = {'legend.fontsize': 'medium',\n",
    "         'axes.labelsize': 'medium',\n",
    "         'axes.titlesize':'medium',\n",
    "         'figure.titlesize':'medium',\n",
    "         'xtick.labelsize':'small',\n",
    "         'ytick.labelsize':'small'}\n",
    "pylab.rcParams.update(params)\n"
   ]
  },
  {
   "cell_type": "code",
   "execution_count": 131,
   "metadata": {},
   "outputs": [],
   "source": [
    "import sys\n",
    "sys.path.append('/home/ssm-user/Github/scrna-parameter-estimation/scmemo')\n",
    "import estimator, simulate, scmemo, bootstrap, util, hypothesis_test"
   ]
  },
  {
   "cell_type": "code",
   "execution_count": 6,
   "metadata": {},
   "outputs": [],
   "source": [
    "fig_path = '/home/ssm-user/Github/scrna-parameter-estimation/figures/fig3/'"
   ]
  },
  {
   "cell_type": "markdown",
   "metadata": {},
   "source": [
    "### Simulate some data\n",
    "\n",
    "1000 genes total, 100 are DE and 100 are DV"
   ]
  },
  {
   "cell_type": "code",
   "execution_count": 7,
   "metadata": {},
   "outputs": [],
   "source": [
    "n_genes = 1000\n",
    "n_cells = 10000"
   ]
  },
  {
   "cell_type": "code",
   "execution_count": 117,
   "metadata": {},
   "outputs": [],
   "source": [
    "# Generate some gene characteristics for sample 1\n",
    "mv_mean=[1, 2]\n",
    "mv_cov=[[4, 0], [0, 0.4]]\n",
    "params = stats.multivariate_normal.rvs(mean=mv_mean, cov=mv_cov, size=n_genes)\n",
    "log_means_1, log_residual_variances_1 = params[:, 0], params[:, 1]\n",
    "\n",
    "# Generate some gene characteristics for sample 2\n",
    "# First 100 genes are DE, second 100 are DV\n",
    "log_means_2 = log_means_1.copy()\n",
    "log_means_2[:10] += 0\n",
    "log_residual_variances_2 = log_residual_variances_1.copy()\n",
    "log_residual_variances_2[10:20] += 2\n",
    "\n",
    "true_data_1 = simulate.simulate_transcriptomes(n_cells, n_genes, log_means=log_means_1, log_res_var=log_residual_variances_1)\n",
    "true_data_2 = simulate.simulate_transcriptomes(n_cells, n_genes, log_means=log_means_2, log_res_var=log_residual_variances_2)\n",
    "true_data = np.vstack([true_data_1, true_data_2])"
   ]
  },
  {
   "cell_type": "code",
   "execution_count": 118,
   "metadata": {},
   "outputs": [],
   "source": [
    "# Simulate the noise process\n",
    "qs, captured_data = simulate.capture_sampling(true_data, q=0.1, q_sq=0.011)"
   ]
  },
  {
   "cell_type": "code",
   "execution_count": 119,
   "metadata": {},
   "outputs": [],
   "source": [
    "imp.reload(estimator)\n",
    "imp.reload(bootstrap)\n",
    "imp.reload(scmemo)\n",
    "imp.reload(util)\n",
    "\n",
    "adata = sc.AnnData(sp.sparse.csr_matrix(captured_data))\n",
    "adata.obs['ct_real'] = ['A' for i in range(n_cells)] + ['B' for i in range(n_cells)]\n",
    "adata.obs['ct_shuffled'] = np.random.choice(['A', 'B'], adata.shape[0])\n",
    "# adata.obs['ind'] = np.random.choice(list('aef'), adata.shape[0])"
   ]
  },
  {
   "cell_type": "markdown",
   "metadata": {},
   "source": [
    "### HT on actual labels"
   ]
  },
  {
   "cell_type": "code",
   "execution_count": 120,
   "metadata": {},
   "outputs": [],
   "source": [
    "adata_scmemo = adata.copy()\n",
    "adata_scmemo.X = adata_scmemo.X.astype(np.int64)\n",
    "scmemo.create_groups(adata_scmemo, label_columns=['ct_real'], inplace=True)\n",
    "scmemo.compute_1d_moments(adata_scmemo, inplace=True, filter_genes=True, residual_var=True, use_n_umi=False, filter_mean_thresh=0.2, min_perc_group=.9)"
   ]
  },
  {
   "cell_type": "code",
   "execution_count": 124,
   "metadata": {},
   "outputs": [
    {
     "name": "stdout",
     "output_type": "stream",
     "text": [
      "On gene idx 0\n",
      "On gene idx 100\n",
      "On gene idx 200\n",
      "On gene idx 300\n",
      "On gene idx 400\n",
      "On gene idx 500\n",
      "CPU times: user 9min 42s, sys: 9min 17s, total: 19min\n",
      "Wall time: 7min 34s\n"
     ]
    }
   ],
   "source": [
    "%%time\n",
    "imp.reload(hypothesis_test)\n",
    "imp.reload(scmemo)\n",
    "imp.reload(estimator)\n",
    "imp.reload(bootstrap)\n",
    "scmemo.ht_1d_moments(\n",
    "\tadata_scmemo, \n",
    "\tformula_like='1 + ct_real',\n",
    "\tcov_column='ct_real',\n",
    "\tuse_residual_var=True, \n",
    "\tnum_boot=50000, \n",
    "\tdirichlet_approx=True,\n",
    "    log=True,\n",
    "    verbose=True)"
   ]
  },
  {
   "cell_type": "code",
   "execution_count": 137,
   "metadata": {},
   "outputs": [
    {
     "name": "stderr",
     "output_type": "stream",
     "text": [
      "/home/ssm-user/anaconda3/envs/single_cell/lib/python3.7/site-packages/ipykernel_launcher.py:3: RuntimeWarning: divide by zero encountered in log10\n",
      "  This is separate from the ipykernel package so we can avoid doing imports until\n",
      "/home/ssm-user/anaconda3/envs/single_cell/lib/python3.7/site-packages/ipykernel_launcher.py:6: RuntimeWarning: divide by zero encountered in log10\n",
      "  \n"
     ]
    },
    {
     "data": {
      "image/png": "[encoded data removed]",
      "text/plain": [
       "<Figure size 165.6x144 with 1 Axes>"
      ]
     },
     "metadata": {
      "needs_background": "light"
     },
     "output_type": "display_data"
    }
   ],
   "source": [
    "plt.figure(figsize=(2.3, 2))\n",
    "plt.scatter(\n",
    "    -np.log10(np.linspace(0, 1, adata_scmemo.uns['scmemo']['1d_ht']['mean_asl'].shape[0])), \n",
    "    -np.log10(np.sort(adata_scmemo.uns['scmemo']['1d_ht']['mean_asl'])), s=10, label='null')\n",
    "plt.scatter(\n",
    "    -np.log10(np.linspace(0, 1, adata_scmemo.uns['scmemo']['1d_ht']['var_asl'].shape[0])), \n",
    "    -np.log10(np.sort(adata_scmemo.uns['scmemo']['1d_ht']['var_asl'])), s=10, label='DV')\n",
    "plt.plot([0, 4], [0, 4])\n",
    "plt.xlim(0,3)\n",
    "plt.ylim(0,3.2)\n",
    "plt.legend()\n",
    "plt.xlabel('-log10(p-value)\\ntheoretical')\n",
    "plt.ylabel('-log10(p-value)')\n",
    "plt.savefig(fig_path + 'pvalue_qq_plot.pdf', bbox_inches='tight')"
   ]
  }
 ],
 "metadata": {
  "kernelspec": {
   "display_name": "Python 3",
   "language": "python",
   "name": "python3"
  },
  "language_info": {
   "codemirror_mode": {
    "name": "ipython",
    "version": 3
   },
   "file_extension": ".py",
   "mimetype": "text/x-python",
   "name": "python",
   "nbconvert_exporter": "python",
   "pygments_lexer": "ipython3",
   "version": "3.7.5"
  }
 },
 "nbformat": 4,
 "nbformat_minor": 4
}
