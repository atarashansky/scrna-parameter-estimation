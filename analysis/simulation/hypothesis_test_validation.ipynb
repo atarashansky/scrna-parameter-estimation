{
 "cells": [
  {
   "cell_type": "markdown",
   "metadata": {},
   "source": [
    "# Hypothesis testing validation\n",
    "\n",
    "Power analysis for DM, DV, and DC"
   ]
  },
  {
   "cell_type": "code",
   "execution_count": 1,
   "metadata": {},
   "outputs": [],
   "source": [
    "import pandas as pd\n",
    "import matplotlib.pyplot as plt\n",
    "import scanpy as sc\n",
    "import scipy as sp\n",
    "import itertools\n",
    "import numpy as np\n",
    "import scipy.stats as stats\n",
    "from scipy.integrate import dblquad\n",
    "import seaborn as sns\n",
    "from statsmodels.stats.multitest import fdrcorrection\n",
    "import imp\n",
    "pd.options.display.max_rows = 999\n",
    "pd.set_option('display.max_colwidth', -1)\n",
    "import pickle as pkl\n",
    "import time\n",
    "import string\n",
    "from sklearn.datasets import make_spd_matrix\n"
   ]
  },
  {
   "cell_type": "code",
   "execution_count": 2,
   "metadata": {},
   "outputs": [],
   "source": [
    "import matplotlib as mpl\n",
    "mpl.rcParams['pdf.fonttype'] = 42\n",
    "mpl.rcParams['ps.fonttype'] = 42\n",
    "\n",
    "import matplotlib.pylab as pylab\n",
    "params = {'legend.fontsize': 'medium',\n",
    "         'axes.labelsize': 'medium',\n",
    "         'axes.titlesize':'medium',\n",
    "         'figure.titlesize':'medium',\n",
    "         'xtick.labelsize':'small',\n",
    "         'ytick.labelsize':'small'}\n",
    "pylab.rcParams.update(params)\n"
   ]
  },
  {
   "cell_type": "code",
   "execution_count": 3,
   "metadata": {},
   "outputs": [
    {
     "name": "stderr",
     "output_type": "stream",
     "text": [
      "/data/home/anaconda3/envs/single_cell/lib/python3.7/site-packages/scanpy/api/__init__.py:6: FutureWarning: \n",
      "\n",
      "In a future version of Scanpy, `scanpy.api` will be removed.\n",
      "Simply use `import scanpy as sc` and `import scanpy.external as sce` instead.\n",
      "\n",
      "  FutureWarning,\n"
     ]
    }
   ],
   "source": [
    "import sys\n",
    "sys.path.append('/data/home/Github/scrna-parameter-estimation/schypo')\n",
    "import estimator, simulate, schypo, bootstrap, util, hypothesis_test"
   ]
  },
  {
   "cell_type": "code",
   "execution_count": 4,
   "metadata": {},
   "outputs": [],
   "source": [
    "data_path = '/data/parameter_estimation/'\n",
    "\n",
    "fig_path = '/data/home/Github/scrna-parameter-estimation/figures/fig3/'"
   ]
  },
  {
   "cell_type": "markdown",
   "metadata": {},
   "source": [
    "### Read the interferon data"
   ]
  },
  {
   "cell_type": "code",
   "execution_count": 5,
   "metadata": {},
   "outputs": [],
   "source": [
    "ifn_adata = sc.read(data_path + 'interferon_filtered.h5ad')\n"
   ]
  },
  {
   "cell_type": "markdown",
   "metadata": {},
   "source": [
    "### Calibration on real data"
   ]
  },
  {
   "cell_type": "code",
   "execution_count": 6,
   "metadata": {},
   "outputs": [],
   "source": [
    "q = 0.07"
   ]
  },
  {
   "cell_type": "code",
   "execution_count": 85,
   "metadata": {},
   "outputs": [],
   "source": [
    "cal_adata = ifn_adata[ifn_adata.obs.cell == 'CD4 T cells'].copy()\n",
    "# cal_adata.obs['stim'] = np.random.choice(['stim', 'ctrl'], cal_adata.shape[0])"
   ]
  },
  {
   "cell_type": "code",
   "execution_count": 86,
   "metadata": {},
   "outputs": [
    {
     "data": {
      "text/plain": [
       "(10342, 35635)"
      ]
     },
     "execution_count": 86,
     "metadata": {},
     "output_type": "execute_result"
    }
   ],
   "source": [
    "cal_adata.shape"
   ]
  },
  {
   "cell_type": "code",
   "execution_count": 87,
   "metadata": {},
   "outputs": [
    {
     "name": "stdout",
     "output_type": "stream",
     "text": [
      "(10342, 1719)\n"
     ]
    },
    {
     "name": "stderr",
     "output_type": "stream",
     "text": [
      "[Parallel(n_jobs=6)]: Using backend LokyBackend with 6 concurrent workers.\n",
      "[Parallel(n_jobs=6)]: Done  44 tasks      | elapsed:    1.0s\n",
      "[Parallel(n_jobs=6)]: Done 428 tasks      | elapsed:    8.7s\n",
      "[Parallel(n_jobs=6)]: Done 1068 tasks      | elapsed:   22.1s\n",
      "[Parallel(n_jobs=6)]: Done 1708 out of 1719 | elapsed:   35.4s remaining:    0.2s\n",
      "[Parallel(n_jobs=6)]: Done 1719 out of 1719 | elapsed:   35.5s finished\n"
     ]
    }
   ],
   "source": [
    "schypo.create_groups(\n",
    "    cal_adata,\n",
    "    q=q,\n",
    "    label_columns=['stim', 'ind'], \n",
    "    inplace=True)\n",
    "schypo.compute_1d_moments(\n",
    "    cal_adata, \n",
    "    inplace=True, \n",
    "    filter_genes=True, \n",
    "    residual_var=True,\n",
    "    filter_mean_thresh=0.05, \n",
    "    min_perc_group=.9)\n",
    "print(cal_adata.shape)\n",
    "schypo.ht_1d_moments(\n",
    "\tcal_adata, \n",
    "\tformula_like='1 + stim',\n",
    "\tcov_column='stim',\n",
    "\tnum_boot=1000,\n",
    "    num_cpus=6,\n",
    "    verbose=3)"
   ]
  },
  {
   "cell_type": "code",
   "execution_count": 88,
   "metadata": {},
   "outputs": [
    {
     "data": {
      "image/png": "[encoded data removed]",
      "text/plain": [
       "<Figure size 432x288 with 1 Axes>"
      ]
     },
     "metadata": {
      "needs_background": "light"
     },
     "output_type": "display_data"
    }
   ],
   "source": [
    "plt.hist(cal_adata.uns['schypo']['1d_ht']['var_asl'], bins=20);"
   ]
  },
  {
   "cell_type": "code",
   "execution_count": null,
   "metadata": {},
   "outputs": [],
   "source": [
    "plt.hist(cal_adata.uns['schypo']['1d_ht']['mean_asl'], bins=20);"
   ]
  },
  {
   "cell_type": "markdown",
   "metadata": {},
   "source": [
    "### Simulate some data\n",
    "\n",
    "1000 genes total, 100 are DE and 100 are DV"
   ]
  },
  {
   "cell_type": "code",
   "execution_count": 93,
   "metadata": {},
   "outputs": [],
   "source": [
    "adata = ifn_adata[ifn_adata.obs.cell_type == 'CD4 T cells - ctrl']\n",
    "# data = adata.X.copy()\n",
    "# relative_data = data.toarray()/data.sum(axis=1)\n",
    "\n",
    "n_cells = 10000\n",
    "q=0.07\n",
    "x_param, z_param, Nc, good_idx = simulate.extract_parameters(adata.X, q=q)"
   ]
  },
  {
   "cell_type": "code",
   "execution_count": 92,
   "metadata": {},
   "outputs": [],
   "source": [
    "def simulate_two_datasets(x_param, Nc, n_cells, q, diff='mean'):\n",
    "    \n",
    "    log_means_1, log_variances_1 = np.log(x_param[0]), np.log(x_param[1])\n",
    "    log_means_2, log_variances_2 = log_means_1.copy(), log_variances_1.copy()\n",
    "    \n",
    "    if diff == 'null':\n",
    "        norm_cov_1, norm_cov_2 = 'indep', 'indep'\n",
    "    if diff == 'mean':\n",
    "        log_means_2 += 0.5\n",
    "        norm_cov_1, norm_cov_2 = 'indep', 'indep'\n",
    "    if diff == 'variability':\n",
    "        log_variances_2 += 0.5\n",
    "        norm_cov_1, norm_cov_2 = 'indep', 'indep'\n",
    "    if diff == 'correlation':\n",
    "        norm_cov_1 = make_spd_matrix(log_means_1.shape[0])\n",
    "        norm_corr_1 = norm_cov_1/np.outer(np.sqrt(np.diag(norm_cov_1)), np.sqrt(np.diag(norm_cov_1)))\n",
    "        norm_corr_subset = norm_corr_1[:50, :50]\n",
    "        change_indices = np.where(norm_corr_subset < 0.5)\n",
    "        norm_corr_subset[norm_corr_subset < 0.5][300] += 0.5\n",
    "        \n",
    "        norm_corr_2 = norm_corr_1.copy()\n",
    "        norm_corr_2[:50, :50] = norm_corr_subset\n",
    "        norm_cov_2 = norm_corr_2 * np.outer(np.sqrt(np.diag(norm_cov_1)), np.sqrt(np.diag(norm_cov_1)))\n",
    "    \n",
    "    data_1 = simulate.simulate_transcriptomes(\n",
    "        n_cells=n_cells, \n",
    "        means=np.exp(log_means_1)*Nc.mean(),\n",
    "        variances=(np.exp(log_variances_1) + np.exp(log_means_1)**2)*(Nc**2).mean() - np.exp(log_means_1)**2*Nc.mean()**2,\n",
    "        Nc=Nc,\n",
    "        norm_cov=norm_cov_1)\n",
    "    \n",
    "    data_2 = simulate.simulate_transcriptomes(\n",
    "        n_cells=n_cells, \n",
    "        means=np.exp(log_means_2)*Nc.mean(),\n",
    "        variances=(np.exp(log_variances_2) + np.exp(log_means_2)**2)*(Nc**2).mean() - np.exp(log_means_2)**2*Nc.mean()**2,\n",
    "        Nc=Nc,\n",
    "        norm_cov=norm_cov_2)\n",
    "    \n",
    "    true_data = np.vstack([data_1, data_2])\n",
    "    _, hyper_captured = simulate.capture_sampling(true_data, q=q, process='hyper')\n",
    "    \n",
    "    anndata = sc.AnnData(sp.sparse.csr_matrix(hyper_captured))\n",
    "    anndata.obs['ct_real'] = ['A' for i in range(n_cells)] + ['B' for i in range(n_cells)]\n",
    "    anndata.obs['ct_shuffled'] = np.random.choice(['A', 'B'], anndata.shape[0])\n",
    "    \n",
    "    if diff == 'correlation':\n",
    "        return anndata, change_indices\n",
    "    else:\n",
    "        return anndata, None\n",
    "\n",
    "    \n",
    "def calculate_power(n_cells, test='mean', test_null=False):\n",
    "    \n",
    "    sim_adata, change_indices = simulate_two_datasets(x_param, Nc, n_cells, q=q, diff=test if not test_null else 'null')\n",
    "        \n",
    "    schypo.create_groups(\n",
    "        sim_adata,\n",
    "        q=q,\n",
    "        label_columns=['ct_real'], \n",
    "        inplace=True)\n",
    "    \n",
    "    schypo.compute_1d_moments(\n",
    "        sim_adata, \n",
    "        inplace=True, \n",
    "        filter_genes=False, \n",
    "        residual_var=True,\n",
    "        filter_mean_thresh=0.0, \n",
    "        min_perc_group=.9)\n",
    "        \n",
    "    if test == 'mean':\n",
    "\n",
    "        schypo.ht_1d_moments(\n",
    "            sim_adata, \n",
    "            formula_like='1 + ct_real',\n",
    "            cov_column='ct_real',\n",
    "            num_boot=10000,\n",
    "            num_cpus=6,\n",
    "            verbose=3)\n",
    "\n",
    "        power = (sim_adata.uns['schypo']['1d_ht']['mean_asl'][:300] < 0.05).mean()\n",
    "        pvals = sim_adata.uns['schypo']['1d_ht']['mean_asl']\n",
    "        \n",
    "    if test == 'variability':\n",
    "\n",
    "        schypo.ht_1d_moments(\n",
    "            sim_adata, \n",
    "            formula_like='1 + ct_real',\n",
    "            cov_column='ct_real',\n",
    "            num_boot=10000,\n",
    "            num_cpus=6,\n",
    "            verbose=3)\n",
    "        \n",
    "        power = (sim_adata.uns['schypo']['1d_ht']['var_asl'][:300] < 0.05).mean()\n",
    "        pvals = sim_adata.uns['schypo']['1d_ht']['var_asl']\n",
    "        \n",
    "    if test == 'correlation':\n",
    "        \n",
    "        schypo.compute_2d_moments(\n",
    "            sim_adata, \n",
    "            inplace=True, \n",
    "            gene_1=np.arange(50).astype(str).tolist(),\n",
    "            gene_2=np.arange(50).astype(str).tolist())\n",
    "        \n",
    "        schypo.ht_2d_moments(\n",
    "            sim_adata, \n",
    "            formula_like='1 + ct_real',\n",
    "            cov_column='ct_real',\n",
    "            num_boot=10000,\n",
    "            num_cpus=6,\n",
    "            verbose=3)\n",
    "        \n",
    "        c_pv = sim_adata.uns['schypo']['2d_ht']['corr_asl'][:50, :50]\n",
    "        power = (c_pv[change_indices] < 0.05).mean()\n",
    "        pvals = sim_adata.uns['schypo']['2d_ht']['corr_asl']\n",
    "                \n",
    "    return power, pvals, sim_adata"
   ]
  },
  {
   "cell_type": "code",
   "execution_count": null,
   "metadata": {},
   "outputs": [],
   "source": [
    "mean_power, var_power, corr_power = [], [], []\n",
    "n_cells_list = np.logspace(2, 5, 25).astype(int)\n",
    "for n_cells in n_cells_list:\n",
    "    \n",
    "    print(n_cells)\n",
    "    \n",
    "    mean_power.append(calculate_power(n_cells, test='mean')[0])\n",
    "    var_power.append(calculate_power(n_cells, test='variability')[0])\n",
    "    corr_power.append(calculate_power(n_cells, test='correlation')[0])\n",
    "\n",
    "with open('temp.pkl', 'wb') as f:\n",
    "    pkl.dump([mean_power, var_power, corr_power], f)"
   ]
  },
  {
   "cell_type": "code",
   "execution_count": 76,
   "metadata": {},
   "outputs": [],
   "source": [
    "# with open('temp.pkl', 'wb') as f:\n",
    "#     pkl.dump([mean_power, var_power, corr_power], f)"
   ]
  },
  {
   "cell_type": "code",
   "execution_count": 39,
   "metadata": {},
   "outputs": [
    {
     "data": {
      "image/png": "[encoded data removed]",
      "text/plain": [
       "<Figure size 216x144 with 1 Axes>"
      ]
     },
     "metadata": {
      "needs_background": "light"
     },
     "output_type": "display_data"
    }
   ],
   "source": [
    "plt.figure(figsize=(3, 2))\n",
    "plt.plot(n_cells_list[:23], mean_power, '-o')\n",
    "plt.plot(n_cells_list[:23], var_power, '-o')\n",
    "plt.plot(n_cells_list[:22], corr_power, '-o')\n",
    "plt.xscale('log')\n",
    "plt.xlabel('Number of cells in each group')\n",
    "plt.ylabel('Power')\n",
    "plt.legend(['DE', 'DV', 'DC'], loc='lower right', bbox_to_anchor=(0.52, -0.02, 0.5, 0.5))\n",
    "plt.savefig(fig_path + 'power.pdf', bbox_inches='tight')"
   ]
  },
  {
   "cell_type": "markdown",
   "metadata": {},
   "source": [
    "### HT on actual labels"
   ]
  },
  {
   "cell_type": "code",
   "execution_count": 90,
   "metadata": {},
   "outputs": [
    {
     "ename": "NameError",
     "evalue": "name 'mean_adata' is not defined",
     "output_type": "error",
     "traceback": [
      "\u001b[0;31m---------------------------------------------------------------------------\u001b[0m",
      "\u001b[0;31mNameError\u001b[0m                                 Traceback (most recent call last)",
      "\u001b[0;32m<ipython-input-90-85f83f666148>\u001b[0m in \u001b[0;36m<module>\u001b[0;34m\u001b[0m\n\u001b[0;32m----> 1\u001b[0;31m \u001b[0mmean_adata\u001b[0m\u001b[0;34m.\u001b[0m\u001b[0mshape\u001b[0m\u001b[0;34m\u001b[0m\u001b[0;34m\u001b[0m\u001b[0m\n\u001b[0m",
      "\u001b[0;31mNameError\u001b[0m: name 'mean_adata' is not defined"
     ]
    }
   ],
   "source": [
    "mean_adata.shape"
   ]
  },
  {
   "cell_type": "code",
   "execution_count": 135,
   "metadata": {},
   "outputs": [
    {
     "data": {
      "text/plain": [
       "<module 'simulate' from '/data/home/Github/scrna-parameter-estimation/schypo/simulate.py'>"
      ]
     },
     "execution_count": 135,
     "metadata": {},
     "output_type": "execute_result"
    }
   ],
   "source": [
    "imp.reload(simulate)"
   ]
  },
  {
   "cell_type": "code",
   "execution_count": 136,
   "metadata": {},
   "outputs": [],
   "source": [
    "x_param, z_param, Nc, good_idx = simulate.extract_parameters(adata.X, q=q)"
   ]
  },
  {
   "cell_type": "code",
   "execution_count": 137,
   "metadata": {},
   "outputs": [],
   "source": [
    "sim_adata, change_indices = simulate_two_datasets(x_param, Nc, 5000, q=q, diff='null')"
   ]
  },
  {
   "cell_type": "code",
   "execution_count": 138,
   "metadata": {},
   "outputs": [],
   "source": [
    "\n",
    "cal_adata = sim_adata.copy()\n",
    "cal_adata.obs['ct_real'] = np.random.choice(cal_adata.obs['ct_real'], cal_adata.shape[0])"
   ]
  },
  {
   "cell_type": "code",
   "execution_count": 139,
   "metadata": {},
   "outputs": [
    {
     "name": "stdout",
     "output_type": "stream",
     "text": [
      "(10000, 10800)\n"
     ]
    },
    {
     "name": "stderr",
     "output_type": "stream",
     "text": [
      "[Parallel(n_jobs=6)]: Using backend LokyBackend with 6 concurrent workers.\n",
      "[Parallel(n_jobs=6)]: Done 156 tasks      | elapsed:    0.8s\n",
      "[Parallel(n_jobs=6)]: Done 1884 tasks      | elapsed:    8.0s\n",
      "[Parallel(n_jobs=6)]: Done 4764 tasks      | elapsed:   19.7s\n",
      "[Parallel(n_jobs=6)]: Done 8796 tasks      | elapsed:   36.2s\n",
      "[Parallel(n_jobs=6)]: Done 10800 out of 10800 | elapsed:   44.1s finished\n"
     ]
    }
   ],
   "source": [
    "schypo.create_groups(\n",
    "    cal_adata,\n",
    "    q=q,\n",
    "    label_columns=['ct_real'], \n",
    "    inplace=True)\n",
    "schypo.compute_1d_moments(\n",
    "    cal_adata, \n",
    "    inplace=True, \n",
    "    filter_genes=True, \n",
    "    residual_var=True,\n",
    "    filter_mean_thresh=0.00001, \n",
    "    min_perc_group=.9)\n",
    "print(cal_adata.shape)\n",
    "schypo.ht_1d_moments(\n",
    "\tcal_adata, \n",
    "\tformula_like='1 + ct_real',\n",
    "\tcov_column='ct_real',\n",
    "\tnum_boot=1000,\n",
    "    num_cpus=6,\n",
    "    verbose=3)"
   ]
  },
  {
   "cell_type": "code",
   "execution_count": 140,
   "metadata": {},
   "outputs": [
    {
     "data": {
      "image/png": "[encoded data removed]",
      "text/plain": [
       "<Figure size 432x288 with 1 Axes>"
      ]
     },
     "metadata": {
      "needs_background": "light"
     },
     "output_type": "display_data"
    }
   ],
   "source": [
    "plt.hist(cal_adata.uns['schypo']['1d_ht']['mean_asl'], bins=30);"
   ]
  },
  {
   "cell_type": "code",
   "execution_count": 141,
   "metadata": {},
   "outputs": [
    {
     "data": {
      "text/plain": [
       "[<matplotlib.lines.Line2D at 0x7f5d28daa0d0>]"
      ]
     },
     "execution_count": 141,
     "metadata": {},
     "output_type": "execute_result"
    },
    {
     "data": {
      "image/png": "[encoded data removed]",
      "text/plain": [
       "<Figure size 432x288 with 1 Axes>"
      ]
     },
     "metadata": {
      "needs_background": "light"
     },
     "output_type": "display_data"
    }
   ],
   "source": [
    "plt.scatter(\n",
    "    np.quantile(-np.log10(stats.uniform.rvs(0, 1, 100000)), np.linspace(0, 1, 1000)),\n",
    "    np.quantile(-np.log10(cal_adata.uns['schypo']['1d_ht']['mean_asl']), np.linspace(0, 1, 1000)), s=1)\n",
    "plt.plot([0, 4], [0, 4])"
   ]
  },
  {
   "cell_type": "code",
   "execution_count": null,
   "metadata": {},
   "outputs": [],
   "source": []
  },
  {
   "cell_type": "code",
   "execution_count": 91,
   "metadata": {},
   "outputs": [
    {
     "ename": "NameError",
     "evalue": "name 'calculate_power' is not defined",
     "output_type": "error",
     "traceback": [
      "\u001b[0;31m---------------------------------------------------------------------------\u001b[0m",
      "\u001b[0;31mNameError\u001b[0m                                 Traceback (most recent call last)",
      "\u001b[0;32m<ipython-input-91-5c6ba75c0348>\u001b[0m in \u001b[0;36m<module>\u001b[0;34m\u001b[0m\n\u001b[0;32m----> 1\u001b[0;31m \u001b[0m_\u001b[0m\u001b[0;34m,\u001b[0m \u001b[0mmean_pval\u001b[0m\u001b[0;34m,\u001b[0m \u001b[0mmean_adata\u001b[0m \u001b[0;34m=\u001b[0m \u001b[0mcalculate_power\u001b[0m\u001b[0;34m(\u001b[0m\u001b[0;36m5000\u001b[0m\u001b[0;34m,\u001b[0m \u001b[0mtest\u001b[0m\u001b[0;34m=\u001b[0m\u001b[0;34m'mean'\u001b[0m\u001b[0;34m)\u001b[0m\u001b[0;34m\u001b[0m\u001b[0;34m\u001b[0m\u001b[0m\n\u001b[0m\u001b[1;32m      2\u001b[0m \u001b[0;31m# _, var_pval, var_adata = calculate_power(5000, test='variability')\u001b[0m\u001b[0;34m\u001b[0m\u001b[0;34m\u001b[0m\u001b[0;34m\u001b[0m\u001b[0m\n\u001b[1;32m      3\u001b[0m \u001b[0;31m# _, corr_pval, corr_adata = calculate_power(5000, test='correlation')\u001b[0m\u001b[0;34m\u001b[0m\u001b[0;34m\u001b[0m\u001b[0;34m\u001b[0m\u001b[0m\n",
      "\u001b[0;31mNameError\u001b[0m: name 'calculate_power' is not defined"
     ]
    }
   ],
   "source": [
    "_, mean_pval, mean_adata = calculate_power(5000, test='mean')\n",
    "# _, var_pval, var_adata = calculate_power(5000, test='variability')\n",
    "# _, corr_pval, corr_adata = calculate_power(5000, test='correlation')"
   ]
  },
  {
   "cell_type": "code",
   "execution_count": 19,
   "metadata": {},
   "outputs": [
    {
     "data": {
      "text/plain": [
       "(array([131., 133., 181., 171., 184., 189., 191., 199., 226., 202.]),\n",
       " array([7.99920008e-04, 1.00689931e-01, 2.00579942e-01, 3.00469953e-01,\n",
       "        4.00359964e-01, 5.00249975e-01, 6.00139986e-01, 7.00029997e-01,\n",
       "        7.99920008e-01, 8.99810019e-01, 9.99700030e-01]),\n",
       " <a list of 10 Patch objects>)"
      ]
     },
     "execution_count": 19,
     "metadata": {},
     "output_type": "execute_result"
    },
    {
     "data": {
      "image/png": "[encoded data removed]",
      "text/plain": [
       "<Figure size 432x288 with 1 Axes>"
      ]
     },
     "metadata": {
      "needs_background": "light"
     },
     "output_type": "display_data"
    }
   ],
   "source": [
    "plt.hist(mean_pval)"
   ]
  },
  {
   "cell_type": "code",
   "execution_count": 31,
   "metadata": {},
   "outputs": [
    {
     "data": {
      "text/plain": [
       "[<matplotlib.lines.Line2D at 0x7fe480fa65d0>]"
      ]
     },
     "execution_count": 31,
     "metadata": {},
     "output_type": "execute_result"
    },
    {
     "data": {
      "image/png": "[encoded data removed]",
      "text/plain": [
       "<Figure size 432x288 with 1 Axes>"
      ]
     },
     "metadata": {
      "needs_background": "light"
     },
     "output_type": "display_data"
    }
   ],
   "source": [
    "plt.scatter(\n",
    "    np.quantile(-np.log10(stats.uniform.rvs(0, 1, 5000)), np.linspace(0, 1, 1000)),\n",
    "    np.quantile(-np.log10(mean_pval), np.linspace(0, 1, 1000)))\n",
    "plt.plot([0, 4], [0, 4])"
   ]
  },
  {
   "cell_type": "code",
   "execution_count": 21,
   "metadata": {},
   "outputs": [
    {
     "name": "stderr",
     "output_type": "stream",
     "text": [
      "/data/home/anaconda3/envs/single_cell/lib/python3.7/site-packages/ipykernel_launcher.py:1: RuntimeWarning: divide by zero encountered in log10\n",
      "  \"\"\"Entry point for launching an IPython kernel.\n",
      "/data/home/anaconda3/envs/single_cell/lib/python3.7/site-packages/ipykernel_launcher.py:3: RuntimeWarning: divide by zero encountered in log10\n",
      "  This is separate from the ipykernel package so we can avoid doing imports until\n"
     ]
    },
    {
     "data": {
      "text/plain": [
       "<matplotlib.collections.PathCollection at 0x7fe47805fb10>"
      ]
     },
     "execution_count": 21,
     "metadata": {},
     "output_type": "execute_result"
    },
    {
     "data": {
      "image/png": "[encoded data removed]",
      "text/plain": [
       "<Figure size 432x288 with 1 Axes>"
      ]
     },
     "metadata": {
      "needs_background": "light"
     },
     "output_type": "display_data"
    }
   ],
   "source": [
    "plt.plot(-np.log10(np.linspace(0, 1, mean_pval.shape[0])),-np.log10(np.linspace(0, 1, mean_pval.shape[0])), lw=3, color='m', zorder=-1)\n",
    "\n",
    "plt.scatter(-np.log10(np.linspace(0, 1, mean_pval.shape[0])), -np.log10(np.sort(mean_pval)), s=5)\n"
   ]
  },
  {
   "cell_type": "code",
   "execution_count": 14,
   "metadata": {},
   "outputs": [
    {
     "name": "stderr",
     "output_type": "stream",
     "text": [
      "/data/home/anaconda3/envs/single_cell/lib/python3.7/site-packages/ipykernel_launcher.py:1: RuntimeWarning: divide by zero encountered in log10\n",
      "  \"\"\"Entry point for launching an IPython kernel.\n",
      "/data/home/anaconda3/envs/single_cell/lib/python3.7/site-packages/ipykernel_launcher.py:3: RuntimeWarning: divide by zero encountered in log10\n",
      "  This is separate from the ipykernel package so we can avoid doing imports until\n",
      "/data/home/anaconda3/envs/single_cell/lib/python3.7/site-packages/ipykernel_launcher.py:4: RuntimeWarning: divide by zero encountered in log10\n",
      "  after removing the cwd from sys.path.\n",
      "/data/home/anaconda3/envs/single_cell/lib/python3.7/site-packages/ipykernel_launcher.py:5: RuntimeWarning: divide by zero encountered in log10\n",
      "  \"\"\"\n"
     ]
    },
    {
     "data": {
      "text/plain": [
       "(0, 8)"
      ]
     },
     "execution_count": 14,
     "metadata": {},
     "output_type": "execute_result"
    },
    {
     "data": {
      "image/png": "[encoded data removed]",
      "text/plain": [
       "<Figure size 432x288 with 1 Axes>"
      ]
     },
     "metadata": {
      "needs_background": "light"
     },
     "output_type": "display_data"
    }
   ],
   "source": [
    "plt.plot(-np.log10(np.linspace(0, 1, mean_pval.shape[0])),-np.log10(np.linspace(0, 1, mean_pval.shape[0])), lw=3, color='m', zorder=-1)\n",
    "\n",
    "plt.scatter(-np.log10(np.linspace(0, 1, mean_pval.shape[0])), -np.log10(np.sort(mean_pval)), s=5)\n",
    "plt.scatter(-np.log10(np.linspace(0, 1, mean_pval.shape[0])), -np.log10(np.sort(var_pval)), s=5)\n",
    "plt.scatter(-np.log10(np.linspace(0, 1, mean_pval.shape[0])), -np.log10(np.sort(corr_pval.ravel()[:mean_pval.shape[0]])), s=5)\n",
    "\n",
    "plt.ylim(0, 8)\n",
    "\n"
   ]
  },
  {
   "cell_type": "code",
   "execution_count": 48,
   "metadata": {},
   "outputs": [
    {
     "data": {
      "text/plain": [
       "array([0.23576424, 0.3016983 , 0.55344655, ..., 0.84915085, 0.84115884,\n",
       "       0.6033966 ])"
      ]
     },
     "execution_count": 48,
     "metadata": {},
     "output_type": "execute_result"
    }
   ],
   "source": [
    "mean_pval"
   ]
  },
  {
   "cell_type": "code",
   "execution_count": 47,
   "metadata": {},
   "outputs": [
    {
     "data": {
      "text/plain": [
       "56234"
      ]
     },
     "execution_count": 47,
     "metadata": {},
     "output_type": "execute_result"
    }
   ],
   "source": [
    "n_cells"
   ]
  },
  {
   "cell_type": "code",
   "execution_count": null,
   "metadata": {},
   "outputs": [],
   "source": []
  },
  {
   "cell_type": "code",
   "execution_count": 10,
   "metadata": {},
   "outputs": [],
   "source": [
    "adata_scmemo = adata.copy()\n",
    "adata_scmemo.X = adata_scmemo.X.astype(np.int64)\n",
    "scmemo.create_groups(adata_scmemo, label_columns=['ct_real'], inplace=True)\n",
    "scmemo.compute_1d_moments(adata_scmemo, inplace=True, filter_genes=True, residual_var=True, use_n_umi=False, filter_mean_thresh=0.2, min_perc_group=.9)"
   ]
  },
  {
   "cell_type": "code",
   "execution_count": 11,
   "metadata": {},
   "outputs": [
    {
     "name": "stdout",
     "output_type": "stream",
     "text": [
      "On gene idx 0\n",
      "On gene idx 300\n",
      "CPU times: user 10min 26s, sys: 9min, total: 19min 27s\n",
      "Wall time: 7min 42s\n"
     ]
    }
   ],
   "source": [
    "%%time\n",
    "imp.reload(hypothesis_test)\n",
    "imp.reload(scmemo)\n",
    "imp.reload(estimator)\n",
    "imp.reload(bootstrap)\n",
    "scmemo.ht_1d_moments(\n",
    "\tadata_scmemo, \n",
    "\tformula_like='1 + ct_real',\n",
    "\tcov_column='ct_real',\n",
    "\tuse_residual_var=True, \n",
    "\tnum_boot=50000, \n",
    "\tdirichlet_approx=True,\n",
    "    log=True,\n",
    "    verbose=True)"
   ]
  },
  {
   "cell_type": "code",
   "execution_count": 12,
   "metadata": {},
   "outputs": [
    {
     "name": "stderr",
     "output_type": "stream",
     "text": [
      "/home/ssm-user/anaconda3/envs/single_cell/lib/python3.7/site-packages/ipykernel_launcher.py:3: RuntimeWarning: divide by zero encountered in log10\n",
      "  This is separate from the ipykernel package so we can avoid doing imports until\n",
      "/home/ssm-user/anaconda3/envs/single_cell/lib/python3.7/site-packages/ipykernel_launcher.py:6: RuntimeWarning: divide by zero encountered in log10\n",
      "  \n"
     ]
    },
    {
     "data": {
      "image/png": "[encoded data removed]",
      "text/plain": [
       "<Figure size 165.6x144 with 1 Axes>"
      ]
     },
     "metadata": {
      "needs_background": "light"
     },
     "output_type": "display_data"
    }
   ],
   "source": [
    "plt.figure(figsize=(2.3, 2))\n",
    "plt.scatter(\n",
    "    -np.log10(np.linspace(0, 1, adata_scmemo.uns['scmemo']['1d_ht']['mean_asl'].shape[0])), \n",
    "    -np.log10(np.sort(adata_scmemo.uns['scmemo']['1d_ht']['mean_asl'])), s=10, label='null')\n",
    "plt.scatter(\n",
    "    -np.log10(np.linspace(0, 1, adata_scmemo.uns['scmemo']['1d_ht']['var_asl'].shape[0])), \n",
    "    -np.log10(np.sort(adata_scmemo.uns['scmemo']['1d_ht']['var_asl'])), s=10, label='DV')\n",
    "plt.plot([0, 4], [0, 4])\n",
    "plt.xlim(0,3)\n",
    "plt.ylim(0,3.2)\n",
    "plt.legend()\n",
    "plt.xlabel('-log10(p-value)\\ntheoretical')\n",
    "plt.ylabel('-log10(p-value)')\n",
    "plt.savefig(fig_path + 'pvalue_qq_plot.pdf', bbox_inches='tight')"
   ]
  }
 ],
 "metadata": {
  "kernelspec": {
   "display_name": "Python 3",
   "language": "python",
   "name": "python3"
  },
  "language_info": {
   "codemirror_mode": {
    "name": "ipython",
    "version": 3
   },
   "file_extension": ".py",
   "mimetype": "text/x-python",
   "name": "python",
   "nbconvert_exporter": "python",
   "pygments_lexer": "ipython3",
   "version": "3.7.5"
  }
 },
 "nbformat": 4,
 "nbformat_minor": 4
}
