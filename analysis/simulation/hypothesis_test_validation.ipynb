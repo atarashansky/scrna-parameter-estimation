{
 "cells": [
  {
   "cell_type": "markdown",
   "metadata": {},
   "source": [
    "# Hypothesis testing validation\n",
    "\n",
    "Power analysis for DM, DV, and DC"
   ]
  },
  {
   "cell_type": "code",
   "execution_count": 1,
   "metadata": {},
   "outputs": [
    {
     "name": "stderr",
     "output_type": "stream",
     "text": [
      "/home/ssm-user/anaconda3/envs/single_cell/lib/python3.7/site-packages/scanpy/api/__init__.py:6: FutureWarning: \n",
      "\n",
      "In a future version of Scanpy, `scanpy.api` will be removed.\n",
      "Simply use `import scanpy as sc` and `import scanpy.external as sce` instead.\n",
      "\n",
      "  FutureWarning,\n"
     ]
    }
   ],
   "source": [
    "import pandas as pd\n",
    "import matplotlib.pyplot as plt\n",
    "import scanpy.api as sc\n",
    "import scipy as sp\n",
    "import itertools\n",
    "import numpy as np\n",
    "import scipy.stats as stats\n",
    "from scipy.integrate import dblquad\n",
    "import seaborn as sns\n",
    "from statsmodels.stats.multitest import fdrcorrection\n",
    "import imp\n",
    "pd.options.display.max_rows = 999\n",
    "pd.set_option('display.max_colwidth', -1)\n",
    "import pickle as pkl\n",
    "import time\n",
    "import string"
   ]
  },
  {
   "cell_type": "code",
   "execution_count": 2,
   "metadata": {},
   "outputs": [],
   "source": [
    "import matplotlib as mpl\n",
    "mpl.rcParams['pdf.fonttype'] = 42\n",
    "mpl.rcParams['ps.fonttype'] = 42\n",
    "\n",
    "import matplotlib.pylab as pylab\n",
    "params = {'legend.fontsize': 'medium',\n",
    "         'axes.labelsize': 'medium',\n",
    "         'axes.titlesize':'medium',\n",
    "         'figure.titlesize':'medium',\n",
    "         'xtick.labelsize':'small',\n",
    "         'ytick.labelsize':'small'}\n",
    "pylab.rcParams.update(params)\n"
   ]
  },
  {
   "cell_type": "code",
   "execution_count": 3,
   "metadata": {},
   "outputs": [],
   "source": [
    "import sys\n",
    "sys.path.append('/home/ssm-user/Github/scrna-parameter-estimation/scmemo')\n",
    "import estimator, simulate, scmemo, bootstrap, util, hypothesis_test"
   ]
  },
  {
   "cell_type": "code",
   "execution_count": 4,
   "metadata": {},
   "outputs": [],
   "source": [
    "import sys\n",
    "sys.path.append('/home/ssm-user/Github/single_cell_eb/')\n",
    "sys.path.append('/home/ssm-user/Github/single_cell_eb/sceb')\n",
    "import scdd"
   ]
  },
  {
   "cell_type": "markdown",
   "metadata": {},
   "source": [
    "### Simulate some data"
   ]
  },
  {
   "cell_type": "code",
   "execution_count": 5,
   "metadata": {},
   "outputs": [],
   "source": [
    "true_data = simulate.simulate_transcriptomes(10000, 2000, correlated=False)\n",
    "qs, captured_data = simulate.capture_sampling(true_data, q=0.1, q_sq=0.011)\n"
   ]
  },
  {
   "cell_type": "markdown",
   "metadata": {},
   "source": [
    "### Perform real bootstrap\n",
    "\n",
    "Perform bootstrap for two different sets of genes to test for generalizablilty of the bootstrap approximation.\n",
    "\n",
    "adata_1 is for fitting, adata_2 is for testing"
   ]
  },
  {
   "cell_type": "code",
   "execution_count": 2341,
   "metadata": {},
   "outputs": [],
   "source": [
    "imp.reload(estimator)\n",
    "imp.reload(bootstrap)\n",
    "imp.reload(scmemo)\n",
    "imp.reload(util)\n",
    "\n",
    "adata = sc.AnnData(sp.sparse.csr_matrix(captured_data))\n",
    "adata.obs['ct'] = np.random.choice(2, adata.shape[0])\n",
    "# adata.obs['ind'] = np.random.choice(list('aef'), adata.shape[0])\n",
    "\n",
    "adata_scmemo = adata.copy()\n",
    "adata_scmemo.X = adata_scmemo.X.astype(np.int64)\n",
    "scmemo.create_groups(adata_scmemo, label_columns=['ct'], inplace=True)\n",
    "\n",
    "scmemo.compute_1d_moments(adata_scmemo, inplace=True, filter_genes=True, residual_var=True, use_n_umi=False, filter_mean_thresh=0.2, min_perc_group=.9)"
   ]
  },
  {
   "cell_type": "code",
   "execution_count": 2344,
   "metadata": {},
   "outputs": [
    {
     "data": {
      "text/plain": [
       "(10000, 1097)"
      ]
     },
     "execution_count": 2344,
     "metadata": {},
     "output_type": "execute_result"
    }
   ],
   "source": [
    "adata_scmemo.shape"
   ]
  },
  {
   "cell_type": "code",
   "execution_count": 1196,
   "metadata": {},
   "outputs": [
    {
     "name": "stdout",
     "output_type": "stream",
     "text": [
      "0\n",
      "200\n",
      "400\n",
      "600\n",
      "800\n",
      "CPU times: user 1min 42s, sys: 373 ms, total: 1min 42s\n",
      "Wall time: 1min 42s\n"
     ]
    }
   ],
   "source": [
    "%%time\n",
    "num_boot=1000\n",
    "### Perform real bootstrap\n",
    "adata_1 = adata_scmemo[adata_scmemo.obs['ct'] == 0][:, :500]\n",
    "adata_2 = adata_scmemo[adata_scmemo.obs['ct'] == 1][:, 500:1000]\n",
    "sf_1 = adata_scmemo.uns['scmemo']['size_factor']['sg^0']\n",
    "sf_2 = adata_scmemo.uns['scmemo']['size_factor']['sg^1']\n",
    "\n",
    "# mean_diff = np.zeros((num_boot, adata_1.shape[1]))\n",
    "# var_diff = np.zeros((num_boot, adata_1.shape[1]))\n",
    "mean_1 = np.zeros((num_boot, adata_1.shape[1]))\n",
    "mean_2 = np.zeros((num_boot, adata_1.shape[1]))\n",
    "var_1 = np.zeros((num_boot, adata_1.shape[1]))\n",
    "var_2 = np.zeros((num_boot, adata_1.shape[1]))\n",
    "\n",
    "for boot in range(num_boot):\n",
    "    \n",
    "    if boot % 200 == 0:\n",
    "        print(boot)\n",
    "    boot_idx_1 = np.random.choice(adata_1.shape[0], adata_1.shape[0])\n",
    "    boot_idx_2 = np.random.choice(adata_2.shape[0], adata_2.shape[0])\n",
    "    \n",
    "    mean_1[boot, :], var_1[boot, :] = estimator._poisson_1d(adata_1.X[boot_idx_1], adata_1.shape[0], size_factor=sf_1[boot_idx_1], n_umi=adata_scmemo.uns['scmemo']['n_umi'])\n",
    "    mean_2[boot, :], var_2[boot, :] = estimator._poisson_1d(adata_2.X[boot_idx_2], adata_2.shape[0], size_factor=sf_2[boot_idx_2], n_umi=adata_scmemo.uns['scmemo']['n_umi'])\n",
    "    \n",
    "#     mean_diff[boot, :] = mean_2[boot, :] - mean_1[boot, :]\n",
    "#     var_diff[boot, :] = var_2[boot, :] - var_1[boot, :]"
   ]
  },
  {
   "cell_type": "code",
   "execution_count": 1197,
   "metadata": {},
   "outputs": [],
   "source": [
    "# mean_pval = 2*(np.minimum((mean_diff > 0).sum(axis=0), 5000- (mean_diff > 0).sum(axis=0))+1)/(5000+1)\n",
    "# var_pval = 2*(np.minimum((var_diff > 0).sum(axis=0), 5000- (var_diff > 0).sum(axis=0))+1)/(5000+1)"
   ]
  },
  {
   "cell_type": "markdown",
   "metadata": {},
   "source": [
    "### Approximate bootstrap for the first 500 genes and fit the curve for bootstrap variance"
   ]
  },
  {
   "cell_type": "code",
   "execution_count": 1198,
   "metadata": {},
   "outputs": [],
   "source": [
    "mat_1 = adata_1.X.tocsc()\n",
    "mat_2 = adata_2.X.tocsc()"
   ]
  },
  {
   "cell_type": "code",
   "execution_count": 2369,
   "metadata": {},
   "outputs": [
    {
     "name": "stdout",
     "output_type": "stream",
     "text": [
      "0\n",
      "100\n",
      "200\n",
      "300\n",
      "400\n",
      "CPU times: user 59.9 s, sys: 29.3 ms, total: 59.9 s\n",
      "Wall time: 59.9 s\n"
     ]
    }
   ],
   "source": [
    "%%time\n",
    "# for gene_idx in range(20):\n",
    "num_gene_to_test = 500\n",
    "imp.reload(bootstrap)\n",
    "num_bins = 1\n",
    "var_var_diff = np.zeros(num_gene_to_test)\n",
    "var_mean_diff = np.zeros(num_gene_to_test)\n",
    "# unique_count = np.zeros(num_gene_to_test)\n",
    "var_var_1 = np.zeros(num_gene_to_test)\n",
    "var_mean_1 = np.zeros(num_gene_to_test)\n",
    "unique_count_1 = np.zeros(num_gene_to_test)\n",
    "\n",
    "var_var_2 = np.zeros(num_gene_to_test)\n",
    "var_mean_2 = np.zeros(num_gene_to_test)\n",
    "unique_count_2 = np.zeros(num_gene_to_test)\n",
    "\n",
    "\n",
    "for gene_idx in range(num_gene_to_test):\n",
    "    \n",
    "    if gene_idx % 100 == 0:\n",
    "        print(gene_idx)\n",
    "    mean_1_approx, var_1_approx, s1= bootstrap._bootstrap_1d(\n",
    "        mat_1[:, gene_idx],\n",
    "        size_factor=sf_1, \n",
    "        n_umi=adata_scmemo.uns['scmemo']['n_umi'],\n",
    "        num_boot=10000,\n",
    "        dirichlet_approx=True,\n",
    "        log=False)\n",
    "    \n",
    "    var_var_1[gene_idx] = var_1_approx.var()\n",
    "    var_mean_1[gene_idx] = mean_1_approx.var()\n",
    "    unique_count_1[gene_idx] = s1\n",
    "\n",
    "    mean_2_approx, var_2_approx, s2= bootstrap._bootstrap_1d(\n",
    "        mat_2[:, gene_idx], \n",
    "        size_factor=sf_2, \n",
    "        n_umi=adata_scmemo.uns['scmemo']['n_umi'],\n",
    "        num_boot=10000,\n",
    "        dirichlet_approx=True,\n",
    "        log=False)\n",
    "    \n",
    "    var_var_2[gene_idx] = var_2_approx.var()\n",
    "    var_mean_2[gene_idx] = mean_2_approx.var()\n",
    "    unique_count_2[gene_idx] = s2\n",
    "    real_var_diff = var_2[:, gene_idx]-var_1[:, gene_idx]\n",
    "    approx_var_diff = var_2_approx-var_1_approx\n",
    "    \n",
    "    real_mean_diff = mean_2[:, gene_idx]-mean_1[:, gene_idx]\n",
    "    approx_mean_diff = mean_2_approx-mean_1_approx\n",
    "    \n",
    "    var_mean_diff[gene_idx] = real_mean_diff.var()-approx_mean_diff.var()\n",
    "    var_var_diff[gene_idx]=real_var_diff.var()-approx_var_diff.var()\n",
    "#     unique_count[gene_idx]=(s1+s2)/2"
   ]
  },
  {
   "cell_type": "markdown",
   "metadata": {},
   "source": [
    "### Small example"
   ]
  },
  {
   "cell_type": "code",
   "execution_count": 2190,
   "metadata": {},
   "outputs": [],
   "source": [
    "def _precompute_size_factor(expr, sf_df, bins):\n",
    "\t\"\"\"\n",
    "\t\tPrecompute the size factor to separate it from the bootstrap.\n",
    "\t\tThis function also serves to find and count unique values.\n",
    "\t\t\n",
    "\t\t:sf_df: is already a dictionary with memory already allocated to speed up the calculations.\n",
    "\t\tIt should already include the inverse of size factors and inverse of the squared size factors.\n",
    "\t\"\"\"\n",
    "\t\n",
    "\t# Get the expression values into the DataFrame\n",
    "\tif expr.ndim > 1:\n",
    "\t\tsf_df['expr'] = np.random.random()*expr[:, 0]+np.random.random()*expr[:, 1]\n",
    "\t\tsf_df['expr1'], sf_df['expr2'] = expr[:, 0], expr[:, 1]\n",
    "\telse:\n",
    "\t\tsf_df['expr'] = expr\n",
    "\t\n",
    "\t# Create bins for size factors\n",
    "\tif bins == 1:\n",
    "\t\tsf_df['bin'] = 1\n",
    "\telif bins == 2:\n",
    "\t\tsf_df['bin_cutoff'] = sf_df.groupby('expr', sort=True)['size_factor'].transform('mean')\n",
    "\t\tsf_df['bin'] = sf_df['size_factor'] > sf_df['bin_cutoff']\n",
    "\telse:\n",
    "\t\tsf_df['bin'] = sf_df.groupby('expr', sort=True)['size_factor'].transform(lambda x: _create_bins(x, bins))\n",
    "\t\n",
    "\tgroupby_obj = sf_df.groupby(['expr', 'bin'], sort=True)\n",
    "\tprecomputed_sf = groupby_obj[['inv_size_factor', 'inv_size_factor_sq']].mean().dropna()\n",
    "\t\n",
    "\t# Get unique expression values\n",
    "\tif expr.ndim > 1:\n",
    "\t\tunique_expr = groupby_obj[['expr1', 'expr2']].first().dropna().values\n",
    "\telse:\n",
    "\t\tunique_expr = precomputed_sf.index.get_level_values(0).values.reshape(-1, 1)\n",
    "\t\n",
    "\t# Get unique counts\n",
    "\tcounts = groupby_obj.size().values\n",
    "\t\t\t\t\t\n",
    "\treturn (\n",
    "\t\tprecomputed_sf['inv_size_factor'].values.reshape(-1, 1), \n",
    "\t\tprecomputed_sf['inv_size_factor_sq'].values.reshape(-1, 1),\n",
    "\t\tunique_expr,\n",
    "\t\tcounts)\n",
    "\n",
    "def _create_bins(x, num_bins):\n",
    "\t\"\"\" Small helper function to create bins dynamically. \"\"\"\n",
    "\t\n",
    "# \tbin_edges = np.quantile(x, np.linspace(0, 1, num_bins))\n",
    "\n",
    "\tif x.shape[0] < 20:\n",
    "\t\treturn 1\n",
    "\t_, bin_edges = np.histogram(x, bins=num_bins)\n",
    "\t\n",
    "\treturn np.digitize(x, np.unique(bin_edges))\n",
    "\n",
    "\treturn pd.cut(x, bins=num_bins, labels=list(string.ascii_lowercase)[:num_bins])"
   ]
  },
  {
   "cell_type": "code",
   "execution_count": 2306,
   "metadata": {},
   "outputs": [
    {
     "name": "stdout",
     "output_type": "stream",
     "text": [
      "8\n"
     ]
    }
   ],
   "source": [
    "data = adata_1.X[:, 6].todense().A1\n",
    "data = adata_1.X[:, 0].todense().A1\n",
    "\n",
    "all_sf = sf_1\n",
    "normalized_data = (data/all_sf)\n",
    "\n",
    "# Algorithm for figuring out number of bins\n",
    "unique_counts = np.unique(data).shape[0]\n",
    "num_bins = min(unique_counts, 20)\n",
    "print(num_bins)\n",
    "\n",
    "_, sf_bin_edges = np.histogram(data_sf, bins=num_bins)\n",
    "binned_stat = stats.binned_statistic(all_sf, all_sf, bins=sf_bin_edges, statistic='median')\n",
    "approx_sf = binned_stat[0][binned_stat[2]-1]\n",
    "\n",
    "binned_normalized_data = (data/approx_sf)"
   ]
  },
  {
   "cell_type": "code",
   "execution_count": 2308,
   "metadata": {},
   "outputs": [
    {
     "data": {
      "image/png": "[encoded data removed]",
      "text/plain": [
       "<Figure size 144x72 with 1 Axes>"
      ]
     },
     "metadata": {
      "needs_background": "light"
     },
     "output_type": "display_data"
    }
   ],
   "source": [
    "plt.figure(figsize=(2,1))\n",
    "plt.hist(data);"
   ]
  },
  {
   "cell_type": "code",
   "execution_count": 2309,
   "metadata": {},
   "outputs": [
    {
     "name": "stdout",
     "output_type": "stream",
     "text": [
      "CPU times: user 4.05 s, sys: 51.9 ms, total: 4.1 s\n",
      "Wall time: 4.03 s\n"
     ]
    }
   ],
   "source": [
    "%%time\n",
    "real_boot_mean_dist = np.array([normalized_data[np.random.choice(data.shape[0], data.shape[0])].mean() for i in range(10000)])\n",
    "real_boot_var_dist = np.array([normalized_data[np.random.choice(data.shape[0], data.shape[0])].var() for i in range(10000)])\n",
    "\n",
    "real_binned_boot_mean_dist = np.array([binned_normalized_data[np.random.choice(data.shape[0], data.shape[0])].mean() for i in range(10000)])\n",
    "real_binned_boot_var_dist = np.array([binned_normalized_data[np.random.choice(data.shape[0], data.shape[0])].var() for i in range(10000)])"
   ]
  },
  {
   "cell_type": "code",
   "execution_count": 2310,
   "metadata": {},
   "outputs": [
    {
     "name": "stdout",
     "output_type": "stream",
     "text": [
      "CPU times: user 72.2 ms, sys: 0 ns, total: 72.2 ms\n",
      "Wall time: 71.1 ms\n"
     ]
    }
   ],
   "source": [
    "%%time\n",
    "# Approximation #1\n",
    "sf_df = pd.DataFrame()\n",
    "sf_df['expr'] = data\n",
    "sf_df['size_factor'] = all_sf\n",
    "sf_df['inv_size_factor'] = 1/data_df['sf']\n",
    "sf_df['inv_size_factor_sq'] = 1/data_df['sf']**2\n",
    "sf_df['bin'] = 1\n",
    "\n",
    "inv_sf, inv_sf_sq, expr, counts = _precompute_size_factor(\n",
    "    expr=data, \n",
    "    sf_df=sf_df,\n",
    "    bins=unique_counts)\n",
    "# precomputed_sf = data_df.groupby('expr')['inv_sf', 'inv_sf_sq'].mean()\n",
    "# expr, count = np.unique(data, return_counts=True)\n",
    "\n",
    "\n",
    "mult_rvs = stats.multinomial.rvs(n=data.shape[0], p=counts/data.shape[0], size=10000).T\n",
    "\n",
    "approx_boot_mean_dist = (expr.reshape(-1, 1) * mult_rvs * inv_sf).sum(axis=0)/data.shape[0]\n",
    "approx_boot_var_dist = (expr.reshape(-1, 1)**2 * mult_rvs * inv_sf_sq).sum(axis=0)/data.shape[0] - approx_boot_mean_dist**2"
   ]
  },
  {
   "cell_type": "code",
   "execution_count": 2311,
   "metadata": {},
   "outputs": [
    {
     "name": "stdout",
     "output_type": "stream",
     "text": [
      "CPU times: user 55.3 ms, sys: 174 µs, total: 55.5 ms\n",
      "Wall time: 54.8 ms\n"
     ]
    }
   ],
   "source": [
    "%%time\n",
    "# Approximation #2\n",
    "expr_sf_data = np.vstack([data, approx_sf]).T\n",
    "expr_sf, index, count = np.unique(expr_sf_data, return_index=True, return_counts=True, axis=0)\n",
    "expr, sf = expr_sf[:, 0], expr_sf[:, 1]\n",
    "inv_sf = 1/sf.reshape(-1, 1)#inv_approx_sf[index].reshape(-1, 1)\n",
    "inv_sf_sq = 1/sf.reshape(-1, 1)**2#inv_approx_sf_sq[index].reshape(-1, 1)\n",
    "\n",
    "mult_rvs = stats.multinomial.rvs(n=data.shape[0], p=count/data.shape[0], size=10000).T\n",
    "approx_boot_mean_dist = (expr.reshape(-1, 1) * mult_rvs * inv_sf).sum(axis=0)/data.shape[0]\n",
    "approx_boot_var_dist = (expr.reshape(-1, 1)**2 * mult_rvs * inv_sf_sq).sum(axis=0)/data.shape[0] - approx_boot_mean_dist**2"
   ]
  },
  {
   "cell_type": "code",
   "execution_count": 2312,
   "metadata": {},
   "outputs": [
    {
     "name": "stdout",
     "output_type": "stream",
     "text": [
      "width of real boot mean 0.00011279673300481197\n",
      "width of real binned boot mean 0.00011198389817089256\n",
      "width of approximated boot mean 0.00011464156854742998\n",
      "width of real boot var 0.0008823097496660311\n",
      "width of real binned boot var 0.0008454897834030192\n",
      "width of approximated boot var 0.0008820516579391092\n"
     ]
    }
   ],
   "source": [
    "print('width of real boot mean', real_boot_mean_dist.var())\n",
    "print('width of real binned boot mean', real_binned_boot_mean_dist.var())\n",
    "print('width of approximated boot mean', approx_boot_mean_dist.var())\n",
    "\n",
    "print('width of real boot var', real_boot_var_dist.var())\n",
    "print('width of real binned boot var', real_binned_boot_var_dist.var())\n",
    "print('width of approximated boot var', approx_boot_var_dist.var())"
   ]
  },
  {
   "cell_type": "code",
   "execution_count": 2313,
   "metadata": {},
   "outputs": [
    {
     "data": {
      "text/plain": [
       "[<matplotlib.lines.Line2D at 0x7f65bfb4dc10>]"
      ]
     },
     "execution_count": 2313,
     "metadata": {},
     "output_type": "execute_result"
    },
    {
     "data": {
      "image/png": "[encoded data removed]",
      "text/plain": [
       "<Figure size 720x216 with 2 Axes>"
      ]
     },
     "metadata": {
      "needs_background": "light"
     },
     "output_type": "display_data"
    }
   ],
   "source": [
    "plt.figure(figsize=(10, 3))\n",
    "plt.subplot(1, 2, 1)\n",
    "sns.distplot(real_boot_mean_dist)\n",
    "# sns.distplot(real_binned_boot_mean_dist)\n",
    "sns.distplot(approx_boot_mean_dist)\n",
    "plt.plot([normalized_data.mean(), normalized_data.mean()], [0, 5])\n",
    "\n",
    "plt.subplot(1, 2, 2)\n",
    "sns.distplot(real_boot_var_dist)\n",
    "# sns.distplot(real_binned_boot_var_dist)\n",
    "sns.distplot(approx_boot_var_dist)\n",
    "\n",
    "plt.plot([normalized_data.var(), normalized_data.var()], [0, 0.25])\n"
   ]
  },
  {
   "cell_type": "code",
   "execution_count": null,
   "metadata": {},
   "outputs": [],
   "source": []
  },
  {
   "cell_type": "code",
   "execution_count": null,
   "metadata": {},
   "outputs": [],
   "source": []
  },
  {
   "cell_type": "code",
   "execution_count": null,
   "metadata": {},
   "outputs": [],
   "source": []
  },
  {
   "cell_type": "code",
   "execution_count": null,
   "metadata": {},
   "outputs": [],
   "source": []
  },
  {
   "cell_type": "code",
   "execution_count": null,
   "metadata": {},
   "outputs": [],
   "source": []
  },
  {
   "cell_type": "code",
   "execution_count": null,
   "metadata": {},
   "outputs": [],
   "source": []
  },
  {
   "cell_type": "code",
   "execution_count": null,
   "metadata": {},
   "outputs": [],
   "source": []
  },
  {
   "cell_type": "code",
   "execution_count": null,
   "metadata": {},
   "outputs": [],
   "source": []
  },
  {
   "cell_type": "code",
   "execution_count": null,
   "metadata": {},
   "outputs": [],
   "source": []
  },
  {
   "cell_type": "code",
   "execution_count": null,
   "metadata": {},
   "outputs": [],
   "source": []
  },
  {
   "cell_type": "code",
   "execution_count": null,
   "metadata": {},
   "outputs": [],
   "source": []
  },
  {
   "cell_type": "code",
   "execution_count": null,
   "metadata": {},
   "outputs": [],
   "source": []
  },
  {
   "cell_type": "code",
   "execution_count": null,
   "metadata": {},
   "outputs": [],
   "source": []
  },
  {
   "cell_type": "code",
   "execution_count": null,
   "metadata": {},
   "outputs": [],
   "source": []
  },
  {
   "cell_type": "code",
   "execution_count": null,
   "metadata": {},
   "outputs": [],
   "source": []
  },
  {
   "cell_type": "code",
   "execution_count": null,
   "metadata": {},
   "outputs": [],
   "source": []
  },
  {
   "cell_type": "code",
   "execution_count": null,
   "metadata": {},
   "outputs": [],
   "source": []
  },
  {
   "cell_type": "code",
   "execution_count": null,
   "metadata": {},
   "outputs": [],
   "source": []
  },
  {
   "cell_type": "code",
   "execution_count": null,
   "metadata": {},
   "outputs": [],
   "source": []
  },
  {
   "cell_type": "code",
   "execution_count": null,
   "metadata": {},
   "outputs": [],
   "source": []
  },
  {
   "cell_type": "code",
   "execution_count": null,
   "metadata": {},
   "outputs": [],
   "source": []
  },
  {
   "cell_type": "code",
   "execution_count": null,
   "metadata": {},
   "outputs": [],
   "source": []
  },
  {
   "cell_type": "code",
   "execution_count": null,
   "metadata": {},
   "outputs": [],
   "source": []
  },
  {
   "cell_type": "code",
   "execution_count": null,
   "metadata": {},
   "outputs": [],
   "source": []
  },
  {
   "cell_type": "code",
   "execution_count": null,
   "metadata": {},
   "outputs": [],
   "source": []
  },
  {
   "cell_type": "code",
   "execution_count": null,
   "metadata": {},
   "outputs": [],
   "source": []
  },
  {
   "cell_type": "code",
   "execution_count": null,
   "metadata": {},
   "outputs": [],
   "source": []
  },
  {
   "cell_type": "code",
   "execution_count": null,
   "metadata": {},
   "outputs": [],
   "source": []
  },
  {
   "cell_type": "code",
   "execution_count": null,
   "metadata": {},
   "outputs": [],
   "source": []
  },
  {
   "cell_type": "markdown",
   "metadata": {},
   "source": [
    "### Simulate some data"
   ]
  },
  {
   "cell_type": "code",
   "execution_count": 2464,
   "metadata": {},
   "outputs": [],
   "source": [
    "true_data = simulate.simulate_transcriptomes(10000, 5000, correlated=False)\n",
    "qs, captured_data = simulate.capture_sampling(true_data, q=0.1, q_sq=0.011)\n"
   ]
  },
  {
   "cell_type": "markdown",
   "metadata": {},
   "source": [
    "### Perform real bootstrap\n",
    "\n",
    "Perform bootstrap for two different sets of genes to test for generalizablilty of the bootstrap approximation.\n",
    "\n",
    "adata_1 is for fitting, adata_2 is for testing"
   ]
  },
  {
   "cell_type": "code",
   "execution_count": 2465,
   "metadata": {},
   "outputs": [],
   "source": [
    "imp.reload(estimator)\n",
    "imp.reload(bootstrap)\n",
    "imp.reload(scmemo)\n",
    "imp.reload(util)\n",
    "\n",
    "adata = sc.AnnData(sp.sparse.csr_matrix(captured_data))\n",
    "adata.obs['ct'] = np.random.choice(2, adata.shape[0])\n",
    "# adata.obs['ind'] = np.random.choice(list('aef'), adata.shape[0])\n",
    "\n",
    "adata_scmemo = adata.copy()\n",
    "adata_scmemo.X = adata_scmemo.X.astype(np.int64)\n",
    "scmemo.create_groups(adata_scmemo, label_columns=['ct'], inplace=True)\n",
    "\n",
    "scmemo.compute_1d_moments(adata_scmemo, inplace=True, filter_genes=True, residual_var=True, use_n_umi=False, filter_mean_thresh=0.2, min_perc_group=.9)"
   ]
  },
  {
   "cell_type": "code",
   "execution_count": 2466,
   "metadata": {},
   "outputs": [
    {
     "data": {
      "text/plain": [
       "(10000, 2831)"
      ]
     },
     "execution_count": 2466,
     "metadata": {},
     "output_type": "execute_result"
    }
   ],
   "source": [
    "adata_scmemo.shape"
   ]
  },
  {
   "cell_type": "code",
   "execution_count": 2467,
   "metadata": {},
   "outputs": [
    {
     "name": "stdout",
     "output_type": "stream",
     "text": [
      "CPU times: user 25min 32s, sys: 8min 3s, total: 33min 35s\n",
      "Wall time: 33min 35s\n"
     ]
    }
   ],
   "source": [
    "%%time\n",
    "imp.reload(hypothesis_test)\n",
    "imp.reload(scmemo)\n",
    "imp.reload(estimator)\n",
    "imp.reload(bootstrap)\n",
    "a = scmemo.ht_1d_moments(\n",
    "\tadata_scmemo, \n",
    "\tformula_like='1 + ct',\n",
    "\tcov_column='ct',\n",
    "\tinplace=False, \n",
    "\tuse_residual_var=False, \n",
    "\tnum_boot=10000, \n",
    "\tdirichlet_approx=True,\n",
    "    log=False)"
   ]
  },
  {
   "cell_type": "code",
   "execution_count": 2478,
   "metadata": {},
   "outputs": [],
   "source": [
    "x = a.uns['scmemo']['1d_ht']['mean_asl']\n",
    "x = x - np.nanmin(x)\n",
    "x = x / np.nanmax(x)"
   ]
  },
  {
   "cell_type": "code",
   "execution_count": 2481,
   "metadata": {},
   "outputs": [
    {
     "data": {
      "image/png": "[encoded data removed]",
      "text/plain": [
       "<Figure size 432x288 with 1 Axes>"
      ]
     },
     "metadata": {
      "needs_background": "light"
     },
     "output_type": "display_data"
    }
   ],
   "source": [
    "plt.hist(x, bins=50);"
   ]
  },
  {
   "cell_type": "code",
   "execution_count": 2475,
   "metadata": {},
   "outputs": [
    {
     "data": {
      "text/plain": [
       "<matplotlib.collections.PathCollection at 0x7f65b5bfd810>"
      ]
     },
     "execution_count": 2475,
     "metadata": {},
     "output_type": "execute_result"
    },
    {
     "data": {
      "image/png": "[encoded data removed]",
      "text/plain": [
       "<Figure size 432x288 with 1 Axes>"
      ]
     },
     "metadata": {
      "needs_background": "light"
     },
     "output_type": "display_data"
    }
   ],
   "source": [
    "plt.plot([0, 1], [0, 1], color='m', lw=2)\n",
    "plt.scatter(\n",
    "    np.linspace(0, 1, a.uns['scmemo']['1d_ht']['var_asl'].shape[0]), \n",
    "    np.sort(x), s=1)\n"
   ]
  },
  {
   "cell_type": "code",
   "execution_count": 2476,
   "metadata": {},
   "outputs": [
    {
     "data": {
      "text/plain": [
       "0.0024787521766663585"
      ]
     },
     "execution_count": 2476,
     "metadata": {},
     "output_type": "execute_result"
    }
   ],
   "source": [
    "np.exp(-6)"
   ]
  },
  {
   "cell_type": "code",
   "execution_count": 2477,
   "metadata": {},
   "outputs": [
    {
     "name": "stderr",
     "output_type": "stream",
     "text": [
      "/home/ssm-user/anaconda3/envs/single_cell/lib/python3.7/site-packages/ipykernel_launcher.py:2: RuntimeWarning: divide by zero encountered in log\n",
      "  \n",
      "/home/ssm-user/anaconda3/envs/single_cell/lib/python3.7/site-packages/ipykernel_launcher.py:3: RuntimeWarning: divide by zero encountered in log\n",
      "  This is separate from the ipykernel package so we can avoid doing imports until\n"
     ]
    },
    {
     "data": {
      "text/plain": [
       "[<matplotlib.lines.Line2D at 0x7f65b5a6da50>]"
      ]
     },
     "execution_count": 2477,
     "metadata": {},
     "output_type": "execute_result"
    },
    {
     "data": {
      "image/png": "[encoded data removed]",
      "text/plain": [
       "<Figure size 432x288 with 1 Axes>"
      ]
     },
     "metadata": {
      "needs_background": "light"
     },
     "output_type": "display_data"
    }
   ],
   "source": [
    "plt.scatter(\n",
    "    -np.log(np.linspace(0, 1, a.uns['scmemo']['1d_ht']['var_asl'].shape[0])), \n",
    "    -np.log(np.sort(x)), s=1)\n",
    "plt.plot([0, 8], [0, 8])\n",
    "# plt.xlim(0,5)\n",
    "# plt.ylim(0,5)"
   ]
  },
  {
   "cell_type": "code",
   "execution_count": null,
   "metadata": {},
   "outputs": [],
   "source": []
  },
  {
   "cell_type": "code",
   "execution_count": null,
   "metadata": {},
   "outputs": [],
   "source": []
  },
  {
   "cell_type": "code",
   "execution_count": null,
   "metadata": {},
   "outputs": [],
   "source": []
  },
  {
   "cell_type": "code",
   "execution_count": null,
   "metadata": {},
   "outputs": [],
   "source": []
  },
  {
   "cell_type": "code",
   "execution_count": null,
   "metadata": {},
   "outputs": [],
   "source": []
  },
  {
   "cell_type": "code",
   "execution_count": null,
   "metadata": {},
   "outputs": [],
   "source": []
  },
  {
   "cell_type": "code",
   "execution_count": null,
   "metadata": {},
   "outputs": [],
   "source": []
  },
  {
   "cell_type": "markdown",
   "metadata": {},
   "source": [
    "***"
   ]
  },
  {
   "cell_type": "code",
   "execution_count": 330,
   "metadata": {},
   "outputs": [
    {
     "data": {
      "text/plain": [
       "(array([75., 70., 84., 68., 53., 71., 72., 65., 60., 57., 68., 64., 54.,\n",
       "        64., 75.]),\n",
       " array([2.75565601e-05, 6.66520843e-02, 1.33276612e-01, 1.99901140e-01,\n",
       "        2.66525667e-01, 3.33150195e-01, 3.99774723e-01, 4.66399251e-01,\n",
       "        5.33023778e-01, 5.99648306e-01, 6.66272834e-01, 7.32897361e-01,\n",
       "        7.99521889e-01, 8.66146417e-01, 9.32770945e-01, 9.99395472e-01]),\n",
       " <a list of 15 Patch objects>)"
      ]
     },
     "execution_count": 330,
     "metadata": {},
     "output_type": "execute_result"
    },
    {
     "data": {
      "image/png": "[encoded data removed]",
      "text/plain": [
       "<Figure size 432x288 with 1 Axes>"
      ]
     },
     "metadata": {
      "needs_background": "light"
     },
     "output_type": "display_data"
    }
   ],
   "source": [
    "plt.hist(unif, bins=15)"
   ]
  },
  {
   "cell_type": "code",
   "execution_count": 327,
   "metadata": {},
   "outputs": [
    {
     "data": {
      "image/png": "[encoded data removed]",
      "text/plain": [
       "<Figure size 432x288 with 1 Axes>"
      ]
     },
     "metadata": {
      "needs_background": "light"
     },
     "output_type": "display_data"
    }
   ],
   "source": [
    "plt.hist(a.uns['scmemo']['1d_ht']['var_asl'], bins=15);"
   ]
  },
  {
   "cell_type": "code",
   "execution_count": 243,
   "metadata": {},
   "outputs": [
    {
     "data": {
      "image/png": "[encoded data removed]",
      "text/plain": [
       "<Figure size 432x288 with 1 Axes>"
      ]
     },
     "metadata": {
      "needs_background": "light"
     },
     "output_type": "display_data"
    }
   ],
   "source": [
    "plt.hist(a.uns['scmemo']['1d_ht']['var_asl'], bins=10);"
   ]
  },
  {
   "cell_type": "code",
   "execution_count": 227,
   "metadata": {},
   "outputs": [
    {
     "data": {
      "image/png": "[encoded data removed]",
      "text/plain": [
       "<Figure size 432x288 with 1 Axes>"
      ]
     },
     "metadata": {
      "needs_background": "light"
     },
     "output_type": "display_data"
    }
   ],
   "source": [
    "plt.hist(a.uns['scmemo']['1d_ht']['var_asl'], bins=15);"
   ]
  },
  {
   "cell_type": "code",
   "execution_count": 188,
   "metadata": {},
   "outputs": [
    {
     "data": {
      "image/png": "[encoded data removed]",
      "text/plain": [
       "<Figure size 432x288 with 1 Axes>"
      ]
     },
     "metadata": {
      "needs_background": "light"
     },
     "output_type": "display_data"
    }
   ],
   "source": [
    "plt.hist(a.uns['scmemo']['1d_ht']['var_asl'], bins=15);"
   ]
  },
  {
   "cell_type": "code",
   "execution_count": 105,
   "metadata": {},
   "outputs": [
    {
     "data": {
      "image/png": "[encoded data removed]",
      "text/plain": [
       "<Figure size 432x288 with 1 Axes>"
      ]
     },
     "metadata": {
      "needs_background": "light"
     },
     "output_type": "display_data"
    }
   ],
   "source": [
    "plt.hist(a.uns['scmemo']['1d_ht']['mean_asl'], bins=15);"
   ]
  },
  {
   "cell_type": "markdown",
   "metadata": {},
   "source": [
    "## "
   ]
  },
  {
   "cell_type": "code",
   "execution_count": null,
   "metadata": {},
   "outputs": [],
   "source": []
  },
  {
   "cell_type": "code",
   "execution_count": null,
   "metadata": {},
   "outputs": [],
   "source": []
  },
  {
   "cell_type": "code",
   "execution_count": null,
   "metadata": {},
   "outputs": [],
   "source": []
  },
  {
   "cell_type": "code",
   "execution_count": null,
   "metadata": {},
   "outputs": [],
   "source": []
  },
  {
   "cell_type": "code",
   "execution_count": null,
   "metadata": {},
   "outputs": [],
   "source": []
  },
  {
   "cell_type": "code",
   "execution_count": 42,
   "metadata": {},
   "outputs": [],
   "source": [
    "from sklearn.impute import SimpleImputer"
   ]
  },
  {
   "cell_type": "code",
   "execution_count": null,
   "metadata": {},
   "outputs": [],
   "source": []
  },
  {
   "cell_type": "code",
   "execution_count": 44,
   "metadata": {},
   "outputs": [],
   "source": [
    "a = np.array([1, 2, 3])"
   ]
  },
  {
   "cell_type": "code",
   "execution_count": 45,
   "metadata": {},
   "outputs": [
    {
     "data": {
      "text/plain": [
       "array([1, 2, 3])"
      ]
     },
     "execution_count": 45,
     "metadata": {},
     "output_type": "execute_result"
    }
   ],
   "source": [
    "eval('a')"
   ]
  },
  {
   "cell_type": "code",
   "execution_count": 534,
   "metadata": {},
   "outputs": [],
   "source": [
    "imp.reload(hypothesis_test)\n",
    "imp.reload(scmemo)\n",
    "a = scmemo.ht_1d_moments(adata_scmemo, 'ct', inplace=False, use_residual_var=True)"
   ]
  },
  {
   "cell_type": "code",
   "execution_count": 535,
   "metadata": {},
   "outputs": [
    {
     "data": {
      "text/plain": [
       "DesignMatrix with shape (2, 2)\n",
       "  Intercept  ct[T.PBMC]\n",
       "          1           1\n",
       "          1           0\n",
       "  Terms:\n",
       "    'Intercept' (column 0)\n",
       "    'ct' (column 1)"
      ]
     },
     "execution_count": 535,
     "metadata": {},
     "output_type": "execute_result"
    }
   ],
   "source": [
    "a.uns['scmemo']['1d_ht']['design_matrix']"
   ]
  },
  {
   "cell_type": "code",
   "execution_count": 531,
   "metadata": {},
   "outputs": [
    {
     "data": {
      "image/png": "[encoded data removed]",
      "text/plain": [
       "<Figure size 432x288 with 1 Axes>"
      ]
     },
     "metadata": {
      "needs_background": "light"
     },
     "output_type": "display_data"
    }
   ],
   "source": [
    "plt.hist(a.uns['scmemo']['1d_ht']['var_result'][2][1, :]);"
   ]
  },
  {
   "cell_type": "code",
   "execution_count": null,
   "metadata": {},
   "outputs": [],
   "source": []
  },
  {
   "cell_type": "code",
   "execution_count": 491,
   "metadata": {},
   "outputs": [
    {
     "name": "stdout",
     "output_type": "stream",
     "text": [
      "sg^PBMC\n",
      "CPU times: user 127 ms, sys: 60 ms, total: 186 ms\n",
      "Wall time: 186 ms\n"
     ]
    }
   ],
   "source": [
    "%%time\n",
    "# res_1 = scmemo.bootstrap_1d_moments(adata_scmemo, inplace=False, num_boot=100000, verbose=True, bins=1)\n",
    "# res_2 = scmemo.bootstrap_1d_moments(adata_scmemo, inplace=False, num_boot=100000, verbose=True, bins=2)\n",
    "res_3 = scmemo.bootstrap_1d_moments(adata_scmemo, inplace=False, num_boot=1000, verbose=True, bins=3)\n"
   ]
  },
  {
   "cell_type": "code",
   "execution_count": 463,
   "metadata": {},
   "outputs": [],
   "source": [
    "from statsmodels.distributions.empirical_distribution import ECDF"
   ]
  },
  {
   "cell_type": "code",
   "execution_count": 489,
   "metadata": {},
   "outputs": [
    {
     "data": {
      "text/plain": [
       "<matplotlib.axes._subplots.AxesSubplot at 0x7f5db68917d0>"
      ]
     },
     "execution_count": 489,
     "metadata": {},
     "output_type": "execute_result"
    },
    {
     "data": {
      "image/png": "[encoded data removed]",
      "text/plain": [
       "<Figure size 792x216 with 3 Axes>"
      ]
     },
     "metadata": {
      "needs_background": "light"
     },
     "output_type": "display_data"
    }
   ],
   "source": [
    "plt.figure(figsize=(11, 3))\n",
    "plt.subplot(1, 3, 1)\n",
    "plt.plot([-0,1], [-0,1], lw=1, color='m')\n",
    "plt.scatter(\n",
    "    ecdf.y[1:],\n",
    "    ecdf(np.sort(np.log(res_1[1]))),\n",
    "    s=0.01)\n",
    "plt.scatter(\n",
    "    ecdf.y[1:],\n",
    "    ecdf(np.sort(np.log(res_2[1]))),\n",
    "    s=0.01)\n",
    "plt.scatter(\n",
    "    ecdf.y[1:],\n",
    "    ecdf(np.sort(np.log(res_3[1]))),\n",
    "    s=0.01)\n",
    "plt.legend(['True', '1 bins', '2 bins', '3 bins'], markerscale=100)\n",
    "\n",
    "plt.subplot(1, 3, 2)\n",
    "plt.plot([-0,1], [-0,1], lw=1, color='m')\n",
    "plt.scatter(\n",
    "    ecdf.y[1:],\n",
    "    ecdf(np.sort(np.log(res_1[1]))),\n",
    "    s=0.01)\n",
    "plt.scatter(\n",
    "    ecdf.y[1:],\n",
    "    ecdf(np.sort(np.log(res_2[1]))),\n",
    "    s=0.01)\n",
    "plt.scatter(\n",
    "    ecdf.y[1:],\n",
    "    ecdf(np.sort(np.log(res_3[1]))),\n",
    "    s=0.01)\n",
    "plt.xlim(0, .1); plt.ylim(0, .1)\n",
    "plt.legend(['True', '1 bins', '2 bins', '3 bins'], markerscale=100)\n",
    "\n",
    "plt.subplot(1, 3, 3)\n",
    "sns.distplot(np.log(res_1[1]), hist=False, label='1 bin')\n",
    "sns.distplot(np.log(res_2[1]), hist=False, label='2 bin')\n",
    "sns.distplot(np.log(res_3[1]), hist=False, label='3 bin')\n",
    "sns.distplot(np.log(real_boot_vars), hist=False, label='true bootstrap')\n"
   ]
  }
 ],
 "metadata": {
  "kernelspec": {
   "display_name": "Python 3",
   "language": "python",
   "name": "python3"
  },
  "language_info": {
   "codemirror_mode": {
    "name": "ipython",
    "version": 3
   },
   "file_extension": ".py",
   "mimetype": "text/x-python",
   "name": "python",
   "nbconvert_exporter": "python",
   "pygments_lexer": "ipython3",
   "version": "3.7.5"
  }
 },
 "nbformat": 4,
 "nbformat_minor": 4
}
