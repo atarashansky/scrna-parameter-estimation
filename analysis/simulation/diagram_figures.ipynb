{
 "cells": [
  {
   "cell_type": "markdown",
   "metadata": {},
   "source": [
    "# Diagram / Figures\n",
    "\n",
    "This notebook contains diagrams and figures for the paper."
   ]
  },
  {
   "cell_type": "code",
   "execution_count": 1,
   "metadata": {},
   "outputs": [],
   "source": [
    "import seaborn as sns\n",
    "import numpy as np\n",
    "import scipy.stats as stats\n",
    "import matplotlib.pyplot as plt\n",
    "import matplotlib.pylab as pylab\n",
    "import scipy as sp\n",
    "import pandas as pd\n",
    "import matplotlib as mpl\n",
    "#plt.style.use('ggplot')"
   ]
  },
  {
   "cell_type": "code",
   "execution_count": 2,
   "metadata": {},
   "outputs": [],
   "source": [
    "from scipy.stats import multivariate_normal"
   ]
  },
  {
   "cell_type": "code",
   "execution_count": 3,
   "metadata": {},
   "outputs": [],
   "source": [
    "fig_path = '/data/home/Github/scrna-parameter-estimation/figures/fig1/'"
   ]
  },
  {
   "cell_type": "code",
   "execution_count": 4,
   "metadata": {},
   "outputs": [],
   "source": [
    "mpl.rcParams['pdf.fonttype'] = 42\n",
    "mpl.rcParams['ps.fonttype'] = 42\n",
    "\n",
    "import matplotlib.pylab as pylab\n",
    "params = {'legend.fontsize': 'small',\n",
    "         'axes.labelsize': 'medium',\n",
    "         'axes.titlesize':'medium',\n",
    "         'figure.titlesize':'medium',\n",
    "         'xtick.labelsize':'small',\n",
    "         'ytick.labelsize':'small'}\n",
    "pylab.rcParams.update(params)\n"
   ]
  },
  {
   "cell_type": "markdown",
   "metadata": {},
   "source": [
    "### Simple demo - latent"
   ]
  },
  {
   "cell_type": "code",
   "execution_count": 5,
   "metadata": {},
   "outputs": [],
   "source": [
    "num_cells = 1000"
   ]
  },
  {
   "cell_type": "code",
   "execution_count": 134,
   "metadata": {},
   "outputs": [
    {
     "name": "stderr",
     "output_type": "stream",
     "text": [
      "/home/ssm-user/anaconda3/envs/single_cell/lib/python3.8/site-packages/scipy/stats/_multivariate.py:666: RuntimeWarning: covariance is not positive-semidefinite.\n",
      "  out = random_state.multivariate_normal(mean, cov, size)\n"
     ]
    }
   ],
   "source": [
    "group_1 = stats.multivariate_normal.rvs(mean=[5, 20], cov=[[2, 1.5], [1.5, 1]], size=num_cells)\n",
    "\n",
    "group_2 = stats.multivariate_normal.rvs(mean=[15, 20], cov=[[2**2, 0], [0, 36]], size=num_cells)"
   ]
  },
  {
   "cell_type": "code",
   "execution_count": 135,
   "metadata": {},
   "outputs": [
    {
     "data": {
      "image/png": "[encoded data removed]",
      "text/plain": [
       "<Figure size 288x72 with 3 Axes>"
      ]
     },
     "metadata": {},
     "output_type": "display_data"
    }
   ],
   "source": [
    "fig = plt.figure(figsize=(4,1))\n",
    "plt.subplots_adjust(wspace=0.07)\n",
    "\n",
    "plt.subplot(1, 3, 1)\n",
    "sns.kdeplot(group_1[:, 0], color='orange')\n",
    "plt.xticks([])\n",
    "plt.yticks([])\n",
    "plt.ylabel(None)\n",
    "plt.xlim(0, 40)\n",
    "plt.xlabel(None)\n",
    "\n",
    "plt.subplot(1, 3, 2)\n",
    "sns.kdeplot(group_1[:, 1], color='blue')\n",
    "plt.xticks([])\n",
    "plt.yticks([])\n",
    "plt.ylabel(None)\n",
    "plt.xlim(0, 40)\n",
    "plt.xlabel(None)\n",
    "\n",
    "plt.subplot(1, 3, 3)\n",
    "plt.scatter(group_1[:, 0], group_1[:, 1], color='grey', s=0.1, alpha=1)\n",
    "plt.xticks([])\n",
    "plt.yticks([])\n",
    "plt.ylabel(None)\n",
    "plt.xlabel(None)\n",
    "# plt.ylabel('Gene 2')\n",
    "\n",
    "plt.savefig('latent_group_1.pdf', bbox_inches='tight')"
   ]
  },
  {
   "cell_type": "code",
   "execution_count": 136,
   "metadata": {},
   "outputs": [
    {
     "data": {
      "image/png": "[encoded data removed]",
      "text/plain": [
       "<Figure size 288x72 with 3 Axes>"
      ]
     },
     "metadata": {},
     "output_type": "display_data"
    }
   ],
   "source": [
    "fig = plt.figure(figsize=(4,1))\n",
    "plt.subplots_adjust(wspace=0.07)\n",
    "\n",
    "plt.subplot(1, 3, 1)\n",
    "sns.kdeplot(group_2[:, 0], color='orange')\n",
    "plt.xticks([])\n",
    "plt.yticks([])\n",
    "plt.ylabel(None)\n",
    "plt.xlim(0, 40)\n",
    "# plt.xlabel('Gene 1')\n",
    "\n",
    "plt.subplot(1, 3, 2)\n",
    "sns.kdeplot(group_2[:, 1], color='blue')\n",
    "plt.xticks([])\n",
    "plt.yticks([])\n",
    "plt.ylabel(None)\n",
    "plt.xlim(0, 40)\n",
    "# plt.xlabel('Gene 2')\n",
    "\n",
    "plt.subplot(1, 3, 3)\n",
    "plt.scatter(group_2[:, 0], group_2[:, 1], color='grey', s=0.1, alpha=1)\n",
    "plt.xticks([])\n",
    "plt.yticks([])\n",
    "plt.ylabel(None)\n",
    "# plt.xlabel('Gene 1')\n",
    "# plt.ylabel('Gene 2')\n",
    "\n",
    "plt.savefig('latent_group_2.pdf', bbox_inches='tight')"
   ]
  },
  {
   "cell_type": "markdown",
   "metadata": {},
   "source": [
    "### Simple demo - sampled"
   ]
  },
  {
   "cell_type": "code",
   "execution_count": 137,
   "metadata": {},
   "outputs": [],
   "source": [
    "def generalized_binom_coef(x,y):\n",
    "\n",
    "    return sp.special.gamma(x+1) / (sp.special.gamma(y+1) * sp.special.gamma(x-y+1))\n",
    "\n",
    "class toy_rv(stats.rv_discrete):\n",
    "    \n",
    "    def _pmf(self, k, n, p):\n",
    "        \n",
    "        return generalized_binom_coef(n, k) * p ** (k) * (1-p)**(n-k)\n",
    "        "
   ]
  },
  {
   "cell_type": "code",
   "execution_count": 138,
   "metadata": {},
   "outputs": [],
   "source": [
    "group_1_sampled = toy_rv().rvs(n=group_1, p=0.05)\n",
    "\n",
    "group_2[group_2 < 0] = 0.01\n",
    "group_2_sampled = toy_rv().rvs(n=group_2, p=0.05)"
   ]
  },
  {
   "cell_type": "code",
   "execution_count": 139,
   "metadata": {},
   "outputs": [
    {
     "data": {
      "image/png": "[encoded data removed]",
      "text/plain": [
       "<Figure size 288x72 with 3 Axes>"
      ]
     },
     "metadata": {},
     "output_type": "display_data"
    }
   ],
   "source": [
    "fig = plt.figure(figsize=(4,1))\n",
    "plt.subplots_adjust(wspace=0.07)\n",
    "\n",
    "plt.subplot(1, 3, 1)\n",
    "plt.hist(group_1_sampled[:, 0], color='orange', bins=20)\n",
    "sns.kdeplot(group_1[:, 0], color='orange')\n",
    "\n",
    "plt.xticks([])\n",
    "plt.yticks([])\n",
    "plt.ylabel(None)\n",
    "plt.xlim(-0.5, 7)\n",
    "plt.xlabel(None)\n",
    "\n",
    "plt.subplot(1, 3, 2)\n",
    "plt.hist(group_1_sampled[:, 1], color='blue', bins=20)\n",
    "sns.kdeplot(group_1[:, 1], color='orange')\n",
    "\n",
    "plt.xticks([])\n",
    "plt.yticks([])\n",
    "plt.ylabel(None)\n",
    "plt.xlim(-0.5, 10)\n",
    "plt.xlabel(None)\n",
    "\n",
    "plt.subplot(1, 3, 3)\n",
    "plt.scatter(group_1_sampled[:, 0], group_1[:, 1], color='grey', s=0.3, alpha=1)\n",
    "plt.scatter(group_1[:, 0], group_1[:, 1], color='grey', s=0.1, alpha=1)\n",
    "\n",
    "plt.xticks([])\n",
    "plt.yticks([])\n",
    "plt.ylabel(None)\n",
    "plt.xlabel(None)\n",
    "# plt.ylabel('Gene 2')\n",
    "\n",
    "plt.savefig('sampled_group_1.pdf', bbox_inches='tight')"
   ]
  },
  {
   "cell_type": "code",
   "execution_count": 140,
   "metadata": {},
   "outputs": [
    {
     "data": {
      "image/png": "[encoded data removed]",
      "text/plain": [
       "<Figure size 288x72 with 3 Axes>"
      ]
     },
     "metadata": {},
     "output_type": "display_data"
    }
   ],
   "source": [
    "fig = plt.figure(figsize=(4,1))\n",
    "plt.subplots_adjust(wspace=0.07)\n",
    "\n",
    "plt.subplot(1, 3, 1)\n",
    "plt.hist(group_2_sampled[:, 0], color='orange', bins=20, density=True)\n",
    "sns.kdeplot(group_2[:, 0], color='blue')\n",
    "\n",
    "plt.xticks([])\n",
    "plt.yticks([])\n",
    "plt.ylabel(None)\n",
    "# plt.xlim(-0.5, 7)\n",
    "plt.xlabel(None)\n",
    "\n",
    "plt.subplot(1, 3, 2)\n",
    "plt.hist(group_2_sampled[:, 1], color='blue', bins=20, density=True)\n",
    "sns.kdeplot(group_2[:, 1], color='blue')\n",
    "\n",
    "plt.xticks([])\n",
    "plt.yticks([])\n",
    "plt.ylabel(None)\n",
    "# plt.xlim(-0.5, 10)\n",
    "plt.xlabel(None)\n",
    "\n",
    "plt.subplot(1, 3, 3)\n",
    "plt.scatter(group_2_sampled[:, 0], group_1[:, 1], color='grey', s=0.3, alpha=1)\n",
    "plt.scatter(group_2[:, 0], group_2[:, 1], color='grey', s=0.1, alpha=1)\n",
    "\n",
    "plt.xticks([])\n",
    "plt.yticks([])\n",
    "plt.ylabel(None)\n",
    "plt.xlabel(None)\n",
    "# plt.ylabel('Gene 2')\n",
    "\n",
    "plt.savefig('sampled_group_2.pdf', bbox_inches='tight')"
   ]
  },
  {
   "cell_type": "markdown",
   "metadata": {},
   "source": [
    "### Fast bootstrap demo"
   ]
  },
  {
   "cell_type": "code",
   "execution_count": 141,
   "metadata": {},
   "outputs": [],
   "source": [
    "boot_iters = []\n",
    "nc = 30\n",
    "nb = 5\n",
    "a = group_1_sampled[:nc, 0]\n",
    "boot_iters.append(a)\n",
    "for i in range(nb):\n",
    "    boot_iters.append(np.random.choice(a, a.shape[0]))\n",
    "boot_iters = np.vstack(boot_iters)\n",
    "boot_iters = pd.DataFrame(\n",
    "    data=boot_iters, \n",
    "    columns=['cell'+str(i) for i in range(1,nc+1)],\n",
    "    index=['bs'+str(i) if i > 0 else 'obs' for i in range(nb+1)])\n",
    "\n",
    "boot_iters_freq = []\n",
    "for i in range(nb+1):\n",
    "    a = np.bincount(boot_iters.iloc[i, :].values)\n",
    "    a = np.concatenate([a, np.zeros(8-a.shape[0])])\n",
    "    boot_iters_freq.append(a)\n",
    "boot_iters_freq = np.vstack(boot_iters_freq)\n",
    "boot_iters_freq = pd.DataFrame(\n",
    "    data=boot_iters_freq, \n",
    "    columns=['freq'+str(i) for i in range(boot_iters_freq.shape[1])],\n",
    "    index=['bs'+str(i) if i > 0 else 'obs' for i in range(nb+1)])"
   ]
  },
  {
   "cell_type": "code",
   "execution_count": 142,
   "metadata": {},
   "outputs": [
    {
     "data": {
      "text/plain": [
       "2"
      ]
     },
     "execution_count": 142,
     "metadata": {},
     "output_type": "execute_result"
    }
   ],
   "source": [
    "boot_iters.max().max()"
   ]
  },
  {
   "cell_type": "code",
   "execution_count": 157,
   "metadata": {},
   "outputs": [
    {
     "data": {
      "image/png": "[encoded data removed]",
      "text/plain": [
       "<Figure size 288x72 with 1 Axes>"
      ]
     },
     "metadata": {},
     "output_type": "display_data"
    }
   ],
   "source": [
    "plt.figure(figsize=(4, 1))\n",
    "sns.heatmap(boot_iters, vmax=2, cbar=None)\n",
    "plt.xticks([])\n",
    "plt.yticks([])\n",
    "plt.ylabel('bootstrap\\niteration')\n",
    "plt.xlabel('cells')\n",
    "plt.savefig('bootstrap_naive.pdf', bbox_inches='tight')"
   ]
  },
  {
   "cell_type": "code",
   "execution_count": 159,
   "metadata": {},
   "outputs": [
    {
     "data": {
      "image/png": "[encoded data removed]",
      "text/plain": [
       "<Figure size 43.2x72 with 1 Axes>"
      ]
     },
     "metadata": {},
     "output_type": "display_data"
    }
   ],
   "source": [
    "plt.figure(figsize=(0.6, 1))\n",
    "\n",
    "sns.heatmap(boot_iters_freq.iloc[:, :3], cbar=None, cmap='Spectral', center=0, vmin=5)\n",
    "plt.xticks([])\n",
    "plt.yticks([])\n",
    "plt.ylabel('bootstrap\\niteration')\n",
    "plt.xlabel('transcript\\ncounts')\n",
    "plt.savefig('bootstrap_fast.pdf', bbox_inches='tight')"
   ]
  },
  {
   "cell_type": "code",
   "execution_count": 64,
   "metadata": {},
   "outputs": [],
   "source": [
    "boot_iters_freq.to_csv('fast_bs.csv')\n",
    "boot_iters.to_csv('naive_bs.csv')"
   ]
  },
  {
   "cell_type": "code",
   "execution_count": 151,
   "metadata": {},
   "outputs": [
    {
     "name": "stdout",
     "output_type": "stream",
     "text": [
      "     freq0  freq1  freq2  freq3  freq4  freq5  freq6  freq7\n",
      "obs   19.0    9.0    2.0    0.0    0.0    0.0    0.0    0.0\n",
      "bs1   19.0    8.0    3.0    0.0    0.0    0.0    0.0    0.0\n",
      "bs2   21.0    7.0    2.0    0.0    0.0    0.0    0.0    0.0\n",
      "bs3   18.0   10.0    2.0    0.0    0.0    0.0    0.0    0.0\n",
      "bs4   20.0    9.0    1.0    0.0    0.0    0.0    0.0    0.0\n",
      "bs5   18.0    9.0    3.0    0.0    0.0    0.0    0.0    0.0\n"
     ]
    }
   ],
   "source": [
    "print(boot_iters_freq)"
   ]
  },
  {
   "cell_type": "code",
   "execution_count": null,
   "metadata": {},
   "outputs": [],
   "source": []
  }
 ],
 "metadata": {
  "kernelspec": {
   "display_name": "Python 3 (ipykernel)",
   "language": "python",
   "name": "python3"
  },
  "language_info": {
   "codemirror_mode": {
    "name": "ipython",
    "version": 3
   },
   "file_extension": ".py",
   "mimetype": "text/x-python",
   "name": "python",
   "nbconvert_exporter": "python",
   "pygments_lexer": "ipython3",
   "version": "3.8.8"
  }
 },
 "nbformat": 4,
 "nbformat_minor": 4
}
