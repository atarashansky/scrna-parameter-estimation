{
 "cells": [
  {
   "cell_type": "markdown",
   "metadata": {},
   "source": [
    "# Diagram / Figures\n",
    "\n",
    "This notebook contains diagrams and figures for the paper."
   ]
  },
  {
   "cell_type": "code",
   "execution_count": 1,
   "metadata": {},
   "outputs": [],
   "source": [
    "import seaborn as sns\n",
    "import numpy as np\n",
    "import scipy.stats as stats\n",
    "import matplotlib.pyplot as plt\n",
    "import matplotlib.pylab as pylab\n",
    "import scipy as sp\n",
    "import pandas as pd\n",
    "import matplotlib as mpl\n",
    "#plt.style.use('ggplot')"
   ]
  },
  {
   "cell_type": "code",
   "execution_count": 2,
   "metadata": {},
   "outputs": [],
   "source": [
    "from scipy.stats import multivariate_normal"
   ]
  },
  {
   "cell_type": "code",
   "execution_count": 3,
   "metadata": {},
   "outputs": [],
   "source": [
    "fig_path = '/data/home/Github/scrna-parameter-estimation/figures/fig1/'"
   ]
  },
  {
   "cell_type": "code",
   "execution_count": 4,
   "metadata": {},
   "outputs": [],
   "source": [
    "mpl.rcParams['pdf.fonttype'] = 42\n",
    "mpl.rcParams['ps.fonttype'] = 42\n",
    "\n",
    "import matplotlib.pylab as pylab\n",
    "params = {'legend.fontsize': 'small',\n",
    "         'axes.labelsize': 'medium',\n",
    "         'axes.titlesize':'medium',\n",
    "         'figure.titlesize':'medium',\n",
    "         'xtick.labelsize':'small',\n",
    "         'ytick.labelsize':'small'}\n",
    "pylab.rcParams.update(params)\n"
   ]
  },
  {
   "cell_type": "markdown",
   "metadata": {},
   "source": [
    "### Simple demo - latent"
   ]
  },
  {
   "cell_type": "code",
   "execution_count": 177,
   "metadata": {},
   "outputs": [],
   "source": [
    "num_cells = 1000"
   ]
  },
  {
   "cell_type": "code",
   "execution_count": 178,
   "metadata": {},
   "outputs": [],
   "source": [
    "group_1 = stats.multivariate_normal.rvs(mean=[30, 20], cov=[[2**2, 1.5], [1.5, 1]], size=num_cells)\n",
    "\n",
    "group_2 = stats.multivariate_normal.rvs(mean=[15, 20], cov=[[2**2, 0], [0, 36]], size=num_cells)"
   ]
  },
  {
   "cell_type": "code",
   "execution_count": 179,
   "metadata": {},
   "outputs": [
    {
     "data": {
      "image/png": "[encoded data removed]",
      "text/plain": [
       "<Figure size 288x72 with 3 Axes>"
      ]
     },
     "metadata": {},
     "output_type": "display_data"
    }
   ],
   "source": [
    "fig = plt.figure(figsize=(4,1))\n",
    "plt.subplots_adjust(wspace=0.07)\n",
    "\n",
    "plt.subplot(1, 3, 1)\n",
    "sns.kdeplot(group_1[:, 0], color='orange')\n",
    "plt.xticks([])\n",
    "plt.yticks([])\n",
    "plt.ylabel(None)\n",
    "plt.xlim(0, 40)\n",
    "plt.xlabel(None)\n",
    "\n",
    "plt.subplot(1, 3, 2)\n",
    "sns.kdeplot(group_1[:, 1], color='blue')\n",
    "plt.xticks([])\n",
    "plt.yticks([])\n",
    "plt.ylabel(None)\n",
    "plt.xlim(0, 40)\n",
    "plt.xlabel(None)\n",
    "\n",
    "plt.subplot(1, 3, 3)\n",
    "plt.scatter(group_1[:, 0], group_1[:, 1], color='grey', s=0.1, alpha=1)\n",
    "plt.xticks([])\n",
    "plt.yticks([])\n",
    "plt.ylabel(None)\n",
    "plt.xlabel(None)\n",
    "# plt.ylabel('Gene 2')\n",
    "\n",
    "plt.savefig('latent_group_1.pdf', bbox_inches='tight')"
   ]
  },
  {
   "cell_type": "code",
   "execution_count": 180,
   "metadata": {},
   "outputs": [
    {
     "data": {
      "image/png": "[encoded data removed]",
      "text/plain": [
       "<Figure size 288x72 with 3 Axes>"
      ]
     },
     "metadata": {},
     "output_type": "display_data"
    }
   ],
   "source": [
    "fig = plt.figure(figsize=(4,1))\n",
    "plt.subplots_adjust(wspace=0.07)\n",
    "\n",
    "plt.subplot(1, 3, 1)\n",
    "sns.kdeplot(group_2[:, 0], color='orange')\n",
    "plt.xticks([])\n",
    "plt.yticks([])\n",
    "plt.ylabel(None)\n",
    "plt.xlim(0, 40)\n",
    "# plt.xlabel('Gene 1')\n",
    "\n",
    "plt.subplot(1, 3, 2)\n",
    "sns.kdeplot(group_2[:, 1], color='blue')\n",
    "plt.xticks([])\n",
    "plt.yticks([])\n",
    "plt.ylabel(None)\n",
    "plt.xlim(0, 40)\n",
    "# plt.xlabel('Gene 2')\n",
    "\n",
    "plt.subplot(1, 3, 3)\n",
    "plt.scatter(group_2[:, 0], group_2[:, 1], color='grey', s=0.1, alpha=1)\n",
    "plt.xticks([])\n",
    "plt.yticks([])\n",
    "plt.ylabel(None)\n",
    "# plt.xlabel('Gene 1')\n",
    "# plt.ylabel('Gene 2')\n",
    "\n",
    "plt.savefig('latent_group_2.pdf', bbox_inches='tight')"
   ]
  },
  {
   "cell_type": "markdown",
   "metadata": {},
   "source": [
    "### Simple demo - sampled"
   ]
  },
  {
   "cell_type": "code",
   "execution_count": 181,
   "metadata": {},
   "outputs": [],
   "source": [
    "def generalized_binom_coef(x,y):\n",
    "\n",
    "    return sp.special.gamma(x+1) / (sp.special.gamma(y+1) * sp.special.gamma(x-y+1))\n",
    "\n",
    "class toy_rv(stats.rv_discrete):\n",
    "    \n",
    "    def _pmf(self, k, n, p):\n",
    "        \n",
    "        return generalized_binom_coef(n, k) * p ** (k) * (1-p)**(n-k)\n",
    "        "
   ]
  },
  {
   "cell_type": "code",
   "execution_count": 182,
   "metadata": {},
   "outputs": [],
   "source": [
    "group_1_sampled = toy_rv().rvs(n=group_1, p=0.05)\n",
    "\n",
    "group_2[group_2 < 0] = 0.01\n",
    "group_2_sampled = toy_rv().rvs(n=group_2, p=0.05)"
   ]
  },
  {
   "cell_type": "code",
   "execution_count": 190,
   "metadata": {},
   "outputs": [
    {
     "data": {
      "image/png": "[encoded data removed]",
      "text/plain": [
       "<Figure size 288x72 with 3 Axes>"
      ]
     },
     "metadata": {},
     "output_type": "display_data"
    }
   ],
   "source": [
    "fig = plt.figure(figsize=(4,1))\n",
    "plt.subplots_adjust(wspace=0.07)\n",
    "\n",
    "plt.subplot(1, 3, 1)\n",
    "plt.hist(group_1_sampled[:, 0], color='orange', bins=20)\n",
    "plt.xticks([])\n",
    "plt.yticks([])\n",
    "plt.ylabel(None)\n",
    "plt.xlim(-0.5, 7)\n",
    "plt.xlabel(None)\n",
    "\n",
    "plt.subplot(1, 3, 2)\n",
    "plt.hist(group_1_sampled[:, 1], color='blue', bins=20)\n",
    "plt.xticks([])\n",
    "plt.yticks([])\n",
    "plt.ylabel(None)\n",
    "plt.xlim(-0.5, 10)\n",
    "plt.xlabel(None)\n",
    "\n",
    "plt.subplot(1, 3, 3)\n",
    "plt.scatter(group_1_sampled[:, 0], group_1[:, 1], color='grey', s=0.3, alpha=1)\n",
    "plt.xticks([])\n",
    "plt.yticks([])\n",
    "plt.ylabel(None)\n",
    "plt.xlabel(None)\n",
    "# plt.ylabel('Gene 2')\n",
    "\n",
    "plt.savefig('sampled_group_1.pdf', bbox_inches='tight')"
   ]
  },
  {
   "cell_type": "code",
   "execution_count": 189,
   "metadata": {},
   "outputs": [
    {
     "data": {
      "image/png": "[encoded data removed]",
      "text/plain": [
       "<Figure size 288x72 with 3 Axes>"
      ]
     },
     "metadata": {},
     "output_type": "display_data"
    }
   ],
   "source": [
    "fig = plt.figure(figsize=(4,1))\n",
    "plt.subplots_adjust(wspace=0.07)\n",
    "\n",
    "plt.subplot(1, 3, 1)\n",
    "plt.hist(group_2_sampled[:, 0], color='orange', bins=20)\n",
    "plt.xticks([])\n",
    "plt.yticks([])\n",
    "plt.ylabel(None)\n",
    "plt.xlim(-0.5, 7)\n",
    "plt.xlabel(None)\n",
    "\n",
    "plt.subplot(1, 3, 2)\n",
    "plt.hist(group_2_sampled[:, 1], color='blue', bins=20)\n",
    "plt.xticks([])\n",
    "plt.yticks([])\n",
    "plt.ylabel(None)\n",
    "plt.xlim(-0.5, 10)\n",
    "plt.xlabel(None)\n",
    "\n",
    "plt.subplot(1, 3, 3)\n",
    "plt.scatter(group_2_sampled[:, 0], group_1[:, 1], color='grey', s=0.3, alpha=1)\n",
    "plt.xticks([])\n",
    "plt.yticks([])\n",
    "plt.ylabel(None)\n",
    "plt.xlabel(None)\n",
    "# plt.ylabel('Gene 2')\n",
    "\n",
    "plt.savefig('sampled_group_2.pdf', bbox_inches='tight')"
   ]
  },
  {
   "cell_type": "markdown",
   "metadata": {},
   "source": [
    "### Fast bootstrap demo"
   ]
  },
  {
   "cell_type": "code",
   "execution_count": 194,
   "metadata": {},
   "outputs": [
    {
     "data": {
      "text/plain": [
       "6"
      ]
     },
     "execution_count": 194,
     "metadata": {},
     "output_type": "execute_result"
    }
   ],
   "source": [
    "group_1_sampled[:, 1].max()"
   ]
  },
  {
   "cell_type": "code",
   "execution_count": 200,
   "metadata": {},
   "outputs": [
    {
     "name": "stdout",
     "output_type": "stream",
     "text": [
      "[0 0 1 2 1 3 2 0 0 2 2 1 0 0 0 4 1 4 1 2 1 0 2 2 2]\n"
     ]
    }
   ],
   "source": [
    "print(group_1_sampled[:25, 0])"
   ]
  },
  {
   "cell_type": "code",
   "execution_count": null,
   "metadata": {},
   "outputs": [],
   "source": [
    "np.r"
   ]
  },
  {
   "cell_type": "code",
   "execution_count": null,
   "metadata": {},
   "outputs": [
    {
     "data": {
      "text/plain": [
       "array([1, 1, 2, 1])"
      ]
     },
     "execution_count": 234,
     "metadata": {},
     "output_type": "execute_result"
    }
   ],
   "source": [
    "np.bincount("
   ]
  },
  {
   "cell_type": "code",
   "execution_count": 230,
   "metadata": {},
   "outputs": [
    {
     "data": {
      "text/plain": [
       "array([17, 11, 13,  7,  2])"
      ]
     },
     "execution_count": 235,
     "metadata": {},
     "output_type": "execute_result"
    }
   ],
   "source": [
    "np.bincount(boot_iters[i, :])"
   ]
  },
  {
   "cell_type": "code",
   "execution_count": 247,
   "metadata": {},
   "outputs": [
    {
     "ename": "AttributeError",
     "evalue": "'list' object has no attribute 'shape'",
     "output_type": "error",
     "traceback": [
      "\u001b[0;31m---------------------------------------------------------------------------\u001b[0m",
      "\u001b[0;31mAttributeError\u001b[0m                            Traceback (most recent call last)",
      "\u001b[0;32m/var/folders/_z/8mxrk2mj0s9cbzbxb41hjr0r0000gn/T/ipykernel_86989/1620148907.py\u001b[0m in \u001b[0;36m<module>\u001b[0;34m\u001b[0m\n\u001b[0;32m----> 1\u001b[0;31m \u001b[0mboot_iters_freq\u001b[0m\u001b[0;34m.\u001b[0m\u001b[0mshape\u001b[0m\u001b[0;34m\u001b[0m\u001b[0;34m\u001b[0m\u001b[0m\n\u001b[0m",
      "\u001b[0;31mAttributeError\u001b[0m: 'list' object has no attribute 'shape'"
     ]
    }
   ],
   "source": [
    "boot_iters_freq.shape"
   ]
  },
  {
   "cell_type": "code",
   "execution_count": 278,
   "metadata": {},
   "outputs": [],
   "source": [
    "boot_iters = []\n",
    "nc = 30\n",
    "nb = 5\n",
    "a = group_1_sampled[:nc, 0]\n",
    "boot_iters.append(a)\n",
    "for i in range(nb):\n",
    "    boot_iters.append(np.random.choice(a, a.shape[0]))\n",
    "boot_iters = np.vstack(boot_iters)\n",
    "boot_iters = pd.DataFrame(\n",
    "    data=boot_iters, \n",
    "    columns=['cell'+str(i) for i in range(1,nc+1)],\n",
    "    index=['bs'+str(i) if i > 0 else 'obs' for i in range(nb+1)])\n",
    "\n",
    "boot_iters_freq = []\n",
    "for i in range(nb+1):\n",
    "    boot_iters_freq.append(np.bincount(boot_iters.iloc[i, :].values))\n",
    "boot_iters_freq = np.vstack(boot_iters_freq)\n",
    "boot_iters_freq = pd.DataFrame(\n",
    "    data=boot_iters_freq, \n",
    "    columns=['freq'+str(i) for i in range(boot_iters_freq.shape[1])],\n",
    "    index=['bs'+str(i) if i > 0 else 'obs' for i in range(nb+1)])"
   ]
  },
  {
   "cell_type": "code",
   "execution_count": null,
   "metadata": {},
   "outputs": [],
   "source": []
  },
  {
   "cell_type": "code",
   "execution_count": 284,
   "metadata": {},
   "outputs": [],
   "source": [
    "boot_iters_freq.to_csv('fast_bs.csv')\n",
    "boot_iters.to_csv('naive_bs.csv')"
   ]
  },
  {
   "cell_type": "code",
   "execution_count": 279,
   "metadata": {},
   "outputs": [
    {
     "name": "stdout",
     "output_type": "stream",
     "text": [
      "     freq0  freq1  freq2  freq3  freq4\n",
      "obs      9      8      9      2      2\n",
      "bs1     13      7      5      3      2\n",
      "bs2      5      8     10      4      3\n",
      "bs3      8      5      8      4      5\n",
      "bs4      8      7     10      1      4\n",
      "bs5     12      7      9      0      2\n"
     ]
    }
   ],
   "source": [
    "print(boot_iters_freq)"
   ]
  },
  {
   "cell_type": "code",
   "execution_count": null,
   "metadata": {},
   "outputs": [],
   "source": []
  }
 ],
 "metadata": {
  "kernelspec": {
   "display_name": "Python 3 (ipykernel)",
   "language": "python",
   "name": "python3"
  },
  "language_info": {
   "codemirror_mode": {
    "name": "ipython",
    "version": 3
   },
   "file_extension": ".py",
   "mimetype": "text/x-python",
   "name": "python",
   "nbconvert_exporter": "python",
   "pygments_lexer": "ipython3",
   "version": "3.7.11"
  }
 },
 "nbformat": 4,
 "nbformat_minor": 4
}
