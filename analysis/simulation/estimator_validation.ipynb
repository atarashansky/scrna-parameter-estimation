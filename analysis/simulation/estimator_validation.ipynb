{
 "cells": [
  {
   "cell_type": "markdown",
   "metadata": {},
   "source": [
    "# Estimator validation\n",
    "\n",
    "This notebook contains code to generate Figure 2 of the paper. \n",
    "\n",
    "This notebook also serves to compare the estimates of the re-implemented scmemo with sceb package from Vasilis. \n"
   ]
  },
  {
   "cell_type": "code",
   "execution_count": 5,
   "metadata": {},
   "outputs": [],
   "source": [
    "import pandas as pd\n",
    "import matplotlib.pyplot as plt\n",
    "import scanpy as sc\n",
    "import scipy as sp\n",
    "import itertools\n",
    "import numpy as np\n",
    "import scipy.stats as stats\n",
    "from scipy.integrate import dblquad\n",
    "import seaborn as sns\n",
    "from statsmodels.stats.multitest import fdrcorrection\n",
    "import imp\n",
    "pd.options.display.max_rows = 999\n",
    "pd.set_option('display.max_colwidth', -1)\n",
    "import pickle as pkl\n",
    "import time"
   ]
  },
  {
   "cell_type": "code",
   "execution_count": 877,
   "metadata": {},
   "outputs": [],
   "source": [
    "import matplotlib as mpl\n",
    "mpl.rcParams['pdf.fonttype'] = 42\n",
    "mpl.rcParams['ps.fonttype'] = 42\n",
    "\n",
    "import matplotlib.pylab as pylab\n",
    "params = {'legend.fontsize': 'x-small',\n",
    "         'axes.labelsize': 'medium',\n",
    "         'axes.titlesize':'medium',\n",
    "         'figure.titlesize':'medium',\n",
    "         'xtick.labelsize':'small',\n",
    "         'ytick.labelsize':'small'}\n",
    "pylab.rcParams.update(params)\n"
   ]
  },
  {
   "cell_type": "code",
   "execution_count": 7,
   "metadata": {},
   "outputs": [],
   "source": [
    "import sys\n",
    "sys.path.append('/home/ssm-user/Github/scrna-parameter-estimation/scmemo')\n",
    "import estimator, simulate, scmemo, bootstrap, util"
   ]
  },
  {
   "cell_type": "code",
   "execution_count": 8,
   "metadata": {},
   "outputs": [],
   "source": [
    "import sys\n",
    "sys.path.append('/home/ssm-user/Github/single_cell_eb/')\n",
    "sys.path.append('/home/ssm-user/Github/single_cell_eb/sceb')\n",
    "import scdd"
   ]
  },
  {
   "cell_type": "code",
   "execution_count": 146,
   "metadata": {},
   "outputs": [],
   "source": [
    "figpath = '/home/ssm-user/Github/scrna-parameter-estimation/figures/fig2/'"
   ]
  },
  {
   "cell_type": "markdown",
   "metadata": {},
   "source": [
    "### Check 1D estimates of `sceb` with `scmemo`\n",
    "\n",
    "Using the Poisson model. The outputs should be identical, this is for checking the implementation. "
   ]
  },
  {
   "cell_type": "code",
   "execution_count": 20,
   "metadata": {},
   "outputs": [],
   "source": [
    "data = sp.sparse.csr_matrix(simulate.simulate_transcriptomes(100, 20))\n",
    "adata = sc.AnnData(data)\n",
    "size_factors = scdd.dd_size_factor(adata)"
   ]
  },
  {
   "cell_type": "code",
   "execution_count": 21,
   "metadata": {},
   "outputs": [
    {
     "name": "stdout",
     "output_type": "stream",
     "text": [
      "#time start: 0.0s\n",
      "n_cell=100, n_gene=20\n",
      "#total: 0.00s\n",
      "[4.05811359e+00 8.65557033e+01 3.38042239e+00 8.67055877e+01\n",
      " 5.87806859e-02 3.99841925e+01 8.48237731e+00 1.28562336e+01\n",
      " 4.02345703e+00 2.43614751e+00 9.80252612e-02 1.62111844e+01\n",
      " 1.05115668e+01 9.53143947e-01 1.36284024e+02 2.32362990e+01\n",
      " 8.75613957e-01 9.43882965e+01 6.77484907e+01 5.34462511e-01]\n"
     ]
    }
   ],
   "source": [
    "_, M_dd = scdd.dd_1d_moment(adata, size_factor=size_factors)\n",
    "var_scdd = scdd.M_to_var(M_dd)\n",
    "print(var_scdd)"
   ]
  },
  {
   "cell_type": "code",
   "execution_count": 22,
   "metadata": {},
   "outputs": [
    {
     "name": "stdout",
     "output_type": "stream",
     "text": [
      "[4.05811419e+00 8.65558825e+01 3.38042193e+00 8.67056078e+01\n",
      " 5.87806855e-02 3.99841965e+01 8.48237715e+00 1.28562306e+01\n",
      " 4.02345666e+00 2.43614724e+00 9.80252592e-02 1.62111701e+01\n",
      " 1.05115720e+01 9.53144150e-01 1.36289603e+02 2.32362900e+01\n",
      " 8.75614006e-01 9.43883035e+01 6.77483004e+01 5.34462544e-01]\n"
     ]
    }
   ],
   "source": [
    "imp.reload(estimator)\n",
    "mean_scmemo, var_scmemo = estimator._poisson_1d(data, data.shape[0], size_factors)\n",
    "print(var_scmemo)"
   ]
  },
  {
   "cell_type": "code",
   "execution_count": 23,
   "metadata": {},
   "outputs": [],
   "source": [
    "df = pd.DataFrame()\n",
    "df['size_factor'] = size_factors\n",
    "df['inv_size_factor'] = 1/size_factors\n",
    "df['inv_size_factor_sq'] = 1/size_factors**2\n",
    "df['expr'] = data[:, 0].todense().A1\n",
    "precomputed_size_factors = df.groupby('expr')['inv_size_factor'].mean(), df.groupby('expr')['inv_size_factor_sq'].mean()"
   ]
  },
  {
   "cell_type": "code",
   "execution_count": 24,
   "metadata": {},
   "outputs": [
    {
     "name": "stdout",
     "output_type": "stream",
     "text": [
      "[0.9063726711273193, 4.058114381881536]\n"
     ]
    }
   ],
   "source": [
    "imp.reload(estimator)\n",
    "expr, count = np.unique(data[:, 0].todense().A1, return_counts=True)\n",
    "print(estimator._poisson_1d((expr, count), data.shape[0], precomputed_size_factors))"
   ]
  },
  {
   "cell_type": "markdown",
   "metadata": {},
   "source": [
    "### Check 2D estimates of `sceb` and `scmemo`\n",
    "\n",
    "Using the Poisson model. The outputs should be identical, this is for checking the implementation. "
   ]
  },
  {
   "cell_type": "code",
   "execution_count": 25,
   "metadata": {},
   "outputs": [],
   "source": [
    "data = sp.sparse.csr_matrix(simulate.simulate_transcriptomes(1000, 4))\n",
    "adata = sc.AnnData(data)\n",
    "size_factors = scdd.dd_size_factor(adata)"
   ]
  },
  {
   "cell_type": "code",
   "execution_count": 26,
   "metadata": {},
   "outputs": [
    {
     "name": "stdout",
     "output_type": "stream",
     "text": [
      "[[ 4.09247186e-01 -7.00641019e-03  1.11981475e-02 -5.42475049e-01]\n",
      " [-7.00641019e-03  3.07633212e-01 -6.79097739e-03 -3.44895561e-01]\n",
      " [ 1.11981475e-02 -6.79097739e-03  5.31315636e-01 -6.31933899e-01]\n",
      " [-5.42475049e-01 -3.44895561e-01 -6.31933899e-01  1.00000000e-12]]\n"
     ]
    }
   ],
   "source": [
    "mean_scdd, cov_scdd, corr_scdd = scdd.dd_covariance(adata, size_factors)\n",
    "print(cov_scdd)"
   ]
  },
  {
   "cell_type": "code",
   "execution_count": 27,
   "metadata": {},
   "outputs": [
    {
     "name": "stdout",
     "output_type": "stream",
     "text": [
      "[[-0.00700641  0.01119815 -0.54247505]\n",
      " [ 0.30763321 -0.00679098 -0.34489556]\n",
      " [-0.00679098  0.53131564 -0.6319339 ]]\n"
     ]
    }
   ],
   "source": [
    "imp.reload(estimator)\n",
    "cov_scmemo = estimator._poisson_cov(data, data.shape[0], size_factors, idx1=[0, 1, 2], idx2=[1, 2, 3])\n",
    "print(cov_scmemo)"
   ]
  },
  {
   "cell_type": "code",
   "execution_count": 28,
   "metadata": {},
   "outputs": [],
   "source": [
    "expr, count = np.unique(data[:, :2].toarray(), return_counts=True, axis=0)\n",
    "\n",
    "df = pd.DataFrame()\n",
    "df['size_factor'] = size_factors\n",
    "df['inv_size_factor'] = 1/size_factors\n",
    "df['inv_size_factor_sq'] = 1/size_factors**2\n",
    "df['expr1'] = data[:, 0].todense().A1\n",
    "df['expr2'] = data[:, 1].todense().A1\n",
    "\n",
    "precomputed_size_factors = df.groupby(['expr1', 'expr2'])['inv_size_factor'].mean(), df.groupby(['expr1', 'expr2'])['inv_size_factor_sq'].mean()"
   ]
  },
  {
   "cell_type": "code",
   "execution_count": 30,
   "metadata": {},
   "outputs": [
    {
     "name": "stdout",
     "output_type": "stream",
     "text": [
      "-0.007006410053126586\n"
     ]
    }
   ],
   "source": [
    "cov_scmemo = estimator._poisson_cov((expr[:, 0], expr[:, 1], count), data.shape[0], size_factor=precomputed_size_factors)\n",
    "print(cov_scmemo)"
   ]
  },
  {
   "cell_type": "markdown",
   "metadata": {},
   "source": [
    "### Variance/correlation estimation while varying q_sq"
   ]
  },
  {
   "cell_type": "code",
   "execution_count": 885,
   "metadata": {},
   "outputs": [],
   "source": [
    "q = 0.07\n",
    "q_sq_list = [0.07**2+1e-6, 0.005, 0.006]"
   ]
  },
  {
   "cell_type": "code",
   "execution_count": 886,
   "metadata": {},
   "outputs": [],
   "source": [
    "import warnings\n",
    "warnings.filterwarnings(\"ignore\")\n"
   ]
  },
  {
   "cell_type": "code",
   "execution_count": 890,
   "metadata": {},
   "outputs": [],
   "source": [
    "imp.reload(simulate)\n",
    "\n",
    "true_data = simulate.simulate_transcriptomes(5000, 10000, correlated=False)\n",
    "true_relative_data = true_data / true_data.sum(axis=1).reshape(-1, 1)"
   ]
  },
  {
   "cell_type": "code",
   "execution_count": 892,
   "metadata": {},
   "outputs": [
    {
     "name": "stdout",
     "output_type": "stream",
     "text": [
      "0.1389\n",
      "0.1442\n",
      "0.1685\n"
     ]
    },
    {
     "data": {
      "image/png": "[encoded data removed]",
      "text/plain": [
       "<Figure size 504x216 with 6 Axes>"
      ]
     },
     "metadata": {
      "needs_background": "light"
     },
     "output_type": "display_data"
    }
   ],
   "source": [
    "plt.figure(figsize=(7, 3))\n",
    "plt.subplots_adjust(hspace=1, wspace=0.3)\n",
    "num_subplot_col = len(q_sq_list)\n",
    "num_subplot_row = 2\n",
    "\n",
    "for col_num, q_sq in enumerate(q_sq_list):\n",
    "    \n",
    "    qs, captured_data = simulate.capture_sampling(true_data, q, q_sq)\n",
    "    Nr = captured_data.sum(axis=1).mean()\n",
    "    captured_relative_data = captured_data/captured_data.sum(axis=1).reshape(-1, 1)\n",
    "    adata = sc.AnnData(sp.sparse.csr_matrix(captured_data))\n",
    "    \n",
    "    x_true, y_true = true_relative_data.mean(axis=0), true_relative_data.var(axis=0)\n",
    "    x_obs, y_obs = captured_relative_data.mean(axis=0), captured_relative_data.var(axis=0)\n",
    "    \n",
    "    _, M_dd = scdd.dd_1d_moment(adata, size_factor=scdd.dd_size_factor(adata), verbose=False, Nr=Nr)\n",
    "    var_scdd = scdd.M_to_var(M_dd)\n",
    "    \n",
    "#     obs_cell_sizes = captured_data.sum(axis=1).reshape(-1, 1)\n",
    "#     mm_var = ((captured_data**2 - (1-0.1)*captured_data)/(obs_cell_sizes**2-obs_cell_sizes)).mean(axis=0) - (captured_data/obs_cell_sizes).mean(axis=0)**2\n",
    "    \n",
    "#     var_scdd = mm_var\n",
    "    \n",
    "    condition = np.log(var_scdd) > -30\n",
    "    \n",
    "#     true_corrs = np.corrcoef(true_data, rowvar=False).ravel()\n",
    "#     estimated_corrs = corr_scdd.ravel()\n",
    "#     corr_cond = np.isfinite(estimated_corrs)\n",
    "#     true_corrs = true_corrs[corr_cond]\n",
    "#     estimated_corrs = estimated_corrs[corr_cond]\n",
    "        \n",
    "    plt.subplot(num_subplot_row, num_subplot_col, col_num+1)\n",
    "    sns.distplot(qs)\n",
    "    plt.xlabel('q, Var(q)={:.1e}'.format(q_sq-q**2))\n",
    "    plt.xlim(0, 0.5)\n",
    "    if col_num == 0:\n",
    "        plt.ylabel('Density')\n",
    "        \n",
    "    plt.subplot(num_subplot_row, num_subplot_col, col_num+1+num_subplot_col)\n",
    "    plt.plot(np.log(y_true[condition]), np.log(y_true[condition]), color='m', lw=1)\n",
    "    plt.scatter(np.log(y_true[condition]), np.log(var_scdd[condition]), s=0.1)\n",
    "    plt.xlabel('True variance (log)');\n",
    "    if col_num == 0:\n",
    "        plt.ylabel('Estimated\\nvariance (log)')\n",
    "    plt.title('R={:.3f}'.format(stats.pearsonr(var_scdd[condition], y_true[condition])[0]))\n",
    "    print((var_scdd>y_true).mean())\n",
    "plt.savefig(figpath + 'variance_q_sq_robust.png', bbox_inches='tight')"
   ]
  },
  {
   "cell_type": "markdown",
   "metadata": {},
   "source": [
    "### Estimation of moments from arbitrary underyling true distributions"
   ]
  },
  {
   "cell_type": "code",
   "execution_count": 859,
   "metadata": {},
   "outputs": [],
   "source": [
    "# Generate cell sizes\n",
    "cell_sizes = np.exp(stats.norm.rvs(11, 0.01, 20000)).astype(int)\n",
    "\n",
    "# Generate true expression of a single gene\n",
    "expr_1 = np.exp(stats.norm.rvs(6, 0.08, 12000)).astype(int)\n",
    "# expr = expr_1\n",
    "expr_2 = stats.norm.rvs(450, 10, 8000).astype(int)\n",
    "expr = np.concatenate([expr_1, expr_2])\n",
    "\n",
    "# Generate the q's\n",
    "q = 0.07\n",
    "q_sq = 0.005\n",
    "m = q\n",
    "v = q_sq - q**2\n",
    "alpha = m*(m*(1-m)/v - 1)\n",
    "beta = (1-m)*(m*(1-m)/v - 1)\n",
    "qs = stats.beta.rvs(alpha, beta, size=20000)\n",
    "\n",
    "# Generate the observed distribution\n",
    "obs_expr = stats.hypergeom.rvs(M=cell_sizes, n=expr, N=(qs*cell_sizes).astype(int))\n",
    "obs_cell_sizes = (qs*cell_sizes).astype(int)\n",
    "\n",
    "# Calculate relative abundances\n",
    "rel_obs_expr = obs_expr/obs_cell_sizes\n",
    "rel_expr = expr/cell_sizes"
   ]
  },
  {
   "cell_type": "code",
   "execution_count": 861,
   "metadata": {},
   "outputs": [
    {
     "data": {
      "image/png": "[encoded data removed]",
      "text/plain": [
       "<Figure size 432x288 with 1 Axes>"
      ]
     },
     "metadata": {
      "needs_background": "light"
     },
     "output_type": "display_data"
    }
   ],
   "source": [
    "plt.hist(expr, bins=50);"
   ]
  },
  {
   "cell_type": "code",
   "execution_count": 897,
   "metadata": {},
   "outputs": [
    {
     "name": "stdout",
     "output_type": "stream",
     "text": [
      "0.0004746187869741726 0.0005693636668474205\n"
     ]
    }
   ],
   "source": [
    "# method of moments estimator\n",
    "mm_var = ((obs_expr**2 - obs_expr)/(obs_cell_sizes**2-obs_cell_sizes)).mean() - (obs_expr/obs_cell_sizes).mean()**2\n",
    "\n",
    "mm_std = np.sqrt(mm_var)\n",
    "print(mm_std, rel_expr.std())"
   ]
  },
  {
   "cell_type": "code",
   "execution_count": 898,
   "metadata": {},
   "outputs": [
    {
     "data": {
      "image/png": "[encoded data removed]",
      "text/plain": [
       "<Figure size 504x144 with 2 Axes>"
      ]
     },
     "metadata": {
      "needs_background": "light"
     },
     "output_type": "display_data"
    }
   ],
   "source": [
    "plt.figure(figsize=(7, 2))\n",
    "plt.subplot(1, 2, 1)\n",
    "plt.hist(obs_expr, density=True, bins=24, histtype='step', lw=3);\n",
    "plt.hist(expr, density=True, bins=26, histtype='step', lw=3);\n",
    "plt.legend(['observed', 'true'])\n",
    "plt.xlabel('Absolute abundance (count)')\n",
    "# plt.ylim(0, 0.5)\n",
    "\n",
    "plt.subplot(1, 2, 2);\n",
    "plt.hist(rel_obs_expr, label='observed', density=True, bins=30, histtype='step', lw=3)\n",
    "plt.hist(rel_expr, label='true', density=True, bins=50, histtype='step', lw=3)\n",
    "plt.gca().xaxis.set_major_locator(plt.MultipleLocator(0.003))\n",
    "plt.xlabel('Relative abundance')\n",
    "plt.legend()\n",
    "# plt.ylim(0, 600)\n",
    "plt.xlim(0, 0.016)\n",
    "\n",
    "add = 800\n",
    "\n",
    "# Plot the naive variance calculation\n",
    "plt.plot([rel_expr.mean() - rel_obs_expr.std(), rel_expr.mean() + rel_obs_expr.std()], [add + 400,add +  400], color=plt.rcParams['axes.prop_cycle'].by_key()['color'][0], lw=3, label='+/- naive std')\n",
    "plt.plot([rel_expr.mean() - rel_obs_expr.std(), rel_expr.mean() - rel_obs_expr.std()], [add + 380, add + 420], color=plt.rcParams['axes.prop_cycle'].by_key()['color'][0], lw=3)\n",
    "plt.plot([rel_expr.mean() + rel_obs_expr.std(), rel_expr.mean() + rel_obs_expr.std()], [add + 380, add + 420], color=plt.rcParams['axes.prop_cycle'].by_key()['color'][0], lw=3)\n",
    "\n",
    "# Plot the true variance calculation\n",
    "plt.plot([rel_expr.mean() - rel_expr.std(), rel_expr.mean() + rel_expr.std()], [add + 470 + 30, add + 470+ 30], color=plt.rcParams['axes.prop_cycle'].by_key()['color'][1], lw=3, label='+/- true std')\n",
    "plt.plot([rel_expr.mean() - rel_expr.std(), rel_expr.mean() - rel_expr.std()], [add + 450+ 30, add + 490+ 30], color=plt.rcParams['axes.prop_cycle'].by_key()['color'][1], lw=3)\n",
    "plt.plot([rel_expr.mean() + rel_expr.std(), rel_expr.mean() + rel_expr.std()], [add + 450+ 30, add + 490+ 30], color=plt.rcParams['axes.prop_cycle'].by_key()['color'][1], lw=3)\n",
    "\n",
    "# MM estimate\n",
    "plt.plot([rel_expr.mean() - mm_std, rel_expr.mean() + mm_std], [add + 540+ 30 + 30, add + 540+ 30 + 30], color=plt.rcParams['axes.prop_cycle'].by_key()['color'][2], lw=3, label='+/- MM std')\n",
    "plt.plot([rel_expr.mean() - mm_std, rel_expr.mean() - mm_std], [add + 520+ 30 + 30, add + 560+ 30 + 30], color=plt.rcParams['axes.prop_cycle'].by_key()['color'][2], lw=3)\n",
    "plt.plot([rel_expr.mean() + mm_std, rel_expr.mean() + mm_std], [add + 520+ 30 + 30, add + 560+ 30 + 30], color=plt.rcParams['axes.prop_cycle'].by_key()['color'][2], lw=3)\n",
    "\n",
    "plt.legend(frameon=False)\n",
    "plt.savefig(figpath + 'variance_estimation.pdf', bbox_inches='tight')\n",
    "\n",
    "# plt.yscale('log')"
   ]
  }
 ],
 "metadata": {
  "kernelspec": {
   "display_name": "Python 3",
   "language": "python",
   "name": "python3"
  },
  "language_info": {
   "codemirror_mode": {
    "name": "ipython",
    "version": 3
   },
   "file_extension": ".py",
   "mimetype": "text/x-python",
   "name": "python",
   "nbconvert_exporter": "python",
   "pygments_lexer": "ipython3",
   "version": "3.7.5"
  }
 },
 "nbformat": 4,
 "nbformat_minor": 4
}
