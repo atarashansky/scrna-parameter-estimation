{
 "cells": [
  {
   "cell_type": "markdown",
   "metadata": {},
   "source": [
    "# Estimator validation\n",
    "\n",
    "This notebook contains code to generate Figure 2 of the paper. \n",
    "\n",
    "This notebook also serves to compare the estimates of the re-implemented scmemo with sceb package from Vasilis. \n"
   ]
  },
  {
   "cell_type": "code",
   "execution_count": 1,
   "metadata": {},
   "outputs": [],
   "source": [
    "import pandas as pd\n",
    "import matplotlib.pyplot as plt\n",
    "import scanpy as sc\n",
    "import scipy as sp\n",
    "import itertools\n",
    "import numpy as np\n",
    "import scipy.stats as stats\n",
    "from scipy.integrate import dblquad\n",
    "import seaborn as sns\n",
    "from statsmodels.stats.multitest import fdrcorrection\n",
    "import imp\n",
    "pd.options.display.max_rows = 999\n",
    "pd.set_option('display.max_colwidth', -1)\n",
    "import pickle as pkl\n",
    "import time"
   ]
  },
  {
   "cell_type": "code",
   "execution_count": 256,
   "metadata": {},
   "outputs": [],
   "source": [
    "import matplotlib as mpl\n",
    "mpl.rcParams['pdf.fonttype'] = 42\n",
    "mpl.rcParams['ps.fonttype'] = 42\n",
    "\n",
    "import matplotlib.pylab as pylab\n",
    "params = {'legend.fontsize': 'x-small',\n",
    "         'axes.labelsize': 'medium',\n",
    "         'axes.titlesize':'medium',\n",
    "         'figure.titlesize':'medium',\n",
    "         'xtick.labelsize':'xx-small',\n",
    "         'ytick.labelsize':'xx-small'}\n",
    "pylab.rcParams.update(params)\n"
   ]
  },
  {
   "cell_type": "code",
   "execution_count": 4,
   "metadata": {},
   "outputs": [
    {
     "name": "stderr",
     "output_type": "stream",
     "text": [
      "/data/home/anaconda3/envs/single_cell/lib/python3.7/site-packages/scanpy/api/__init__.py:6: FutureWarning: \n",
      "\n",
      "In a future version of Scanpy, `scanpy.api` will be removed.\n",
      "Simply use `import scanpy as sc` and `import scanpy.external as sce` instead.\n",
      "\n",
      "  FutureWarning,\n"
     ]
    }
   ],
   "source": [
    "import sys\n",
    "sys.path.append('/data/home/Github/scrna-parameter-estimation/scmemo')\n",
    "import estimator, simulate, scmemo, bootstrap, util"
   ]
  },
  {
   "cell_type": "code",
   "execution_count": 5,
   "metadata": {},
   "outputs": [
    {
     "ename": "ModuleNotFoundError",
     "evalue": "No module named 'scdd'",
     "output_type": "error",
     "traceback": [
      "\u001b[0;31m---------------------------------------------------------------------------\u001b[0m",
      "\u001b[0;31mModuleNotFoundError\u001b[0m                       Traceback (most recent call last)",
      "\u001b[0;32m<ipython-input-5-d593b50216b4>\u001b[0m in \u001b[0;36m<module>\u001b[0;34m\u001b[0m\n\u001b[1;32m      2\u001b[0m \u001b[0msys\u001b[0m\u001b[0;34m.\u001b[0m\u001b[0mpath\u001b[0m\u001b[0;34m.\u001b[0m\u001b[0mappend\u001b[0m\u001b[0;34m(\u001b[0m\u001b[0;34m'/home/ssm-user/Github/single_cell_eb/'\u001b[0m\u001b[0;34m)\u001b[0m\u001b[0;34m\u001b[0m\u001b[0;34m\u001b[0m\u001b[0m\n\u001b[1;32m      3\u001b[0m \u001b[0msys\u001b[0m\u001b[0;34m.\u001b[0m\u001b[0mpath\u001b[0m\u001b[0;34m.\u001b[0m\u001b[0mappend\u001b[0m\u001b[0;34m(\u001b[0m\u001b[0;34m'/home/ssm-user/Github/single_cell_eb/sceb'\u001b[0m\u001b[0;34m)\u001b[0m\u001b[0;34m\u001b[0m\u001b[0;34m\u001b[0m\u001b[0m\n\u001b[0;32m----> 4\u001b[0;31m \u001b[0;32mimport\u001b[0m \u001b[0mscdd\u001b[0m\u001b[0;34m\u001b[0m\u001b[0;34m\u001b[0m\u001b[0m\n\u001b[0m",
      "\u001b[0;31mModuleNotFoundError\u001b[0m: No module named 'scdd'"
     ]
    }
   ],
   "source": [
    "import sys\n",
    "sys.path.append('/home/ssm-user/Github/single_cell_eb/')\n",
    "sys.path.append('/home/ssm-user/Github/single_cell_eb/sceb')\n",
    "import scdd"
   ]
  },
  {
   "cell_type": "code",
   "execution_count": 301,
   "metadata": {},
   "outputs": [],
   "source": [
    "figpath = '/data/home/Github/scrna-parameter-estimation/figures/fig2/'"
   ]
  },
  {
   "cell_type": "markdown",
   "metadata": {},
   "source": [
    "### Check 1D estimates of `sceb` with `scmemo`\n",
    "\n",
    "Using the Poisson model. The outputs should be identical, this is for checking the implementation. "
   ]
  },
  {
   "cell_type": "code",
   "execution_count": 6,
   "metadata": {},
   "outputs": [],
   "source": [
    "data = sp.sparse.csr_matrix(simulate.simulate_transcriptomes(100, 20))\n",
    "adata = sc.AnnData(data)\n",
    "size_factors = scdd.dd_size_factor(adata)"
   ]
  },
  {
   "cell_type": "code",
   "execution_count": 7,
   "metadata": {},
   "outputs": [
    {
     "name": "stdout",
     "output_type": "stream",
     "text": [
      "#time start: 0.0s\n",
      "n_cell=100, n_gene=20\n",
      "#total: 0.00s\n",
      "[9.86033717e-01 1.33283156e+02 2.19394150e+01 2.00407875e-01\n",
      " 1.63151208e+00 5.71789015e+01 1.75522015e+01 1.19555327e+02\n",
      " 2.79488530e+01 5.87060454e+01 1.09103434e+03 6.39514505e+01\n",
      " 1.00000000e-18 1.49307703e+02 1.02608010e+00 1.94851387e+01\n",
      " 5.42329186e+01 1.36474770e+01 4.94848485e+02 8.07406378e+02]\n"
     ]
    }
   ],
   "source": [
    "_, M_dd = scdd.dd_1d_moment(adata, size_factor=size_factors)\n",
    "var_scdd = scdd.M_to_var(M_dd)\n",
    "print(var_scdd)"
   ]
  },
  {
   "cell_type": "code",
   "execution_count": 8,
   "metadata": {},
   "outputs": [
    {
     "name": "stdout",
     "output_type": "stream",
     "text": [
      "[9.86033649e-01 1.33283208e+02 2.19394289e+01 2.00407903e-01\n",
      " 1.63151196e+00 5.71789049e+01 1.75521965e+01 1.19555327e+02\n",
      " 2.79488875e+01 5.87059892e+01 1.09103476e+03 6.39514931e+01\n",
      " 0.00000000e+00 1.49307677e+02 1.02607943e+00 1.94851396e+01\n",
      " 5.42329444e+01 1.36474728e+01 4.94847546e+02 8.07434038e+02]\n"
     ]
    }
   ],
   "source": [
    "imp.reload(estimator)\n",
    "mean_scmemo, var_scmemo = estimator._poisson_1d(data, data.shape[0], size_factors)\n",
    "print(var_scmemo)"
   ]
  },
  {
   "cell_type": "code",
   "execution_count": 9,
   "metadata": {},
   "outputs": [],
   "source": [
    "df = pd.DataFrame()\n",
    "df['size_factor'] = size_factors\n",
    "df['inv_size_factor'] = 1/size_factors\n",
    "df['inv_size_factor_sq'] = 1/size_factors**2\n",
    "df['expr'] = data[:, 0].todense().A1\n",
    "precomputed_size_factors = df.groupby('expr')['inv_size_factor'].mean(), df.groupby('expr')['inv_size_factor_sq'].mean()"
   ]
  },
  {
   "cell_type": "code",
   "execution_count": 10,
   "metadata": {},
   "outputs": [
    {
     "name": "stdout",
     "output_type": "stream",
     "text": [
      "[0.5217290008068085, 0.9860336223993191]\n"
     ]
    }
   ],
   "source": [
    "imp.reload(estimator)\n",
    "expr, count = np.unique(data[:, 0].todense().A1, return_counts=True)\n",
    "print(estimator._poisson_1d((expr, count), data.shape[0], precomputed_size_factors))"
   ]
  },
  {
   "cell_type": "markdown",
   "metadata": {},
   "source": [
    "### Check 2D estimates of `sceb` and `scmemo`\n",
    "\n",
    "Using the Poisson model. The outputs should be identical, this is for checking the implementation. "
   ]
  },
  {
   "cell_type": "code",
   "execution_count": 11,
   "metadata": {},
   "outputs": [],
   "source": [
    "data = sp.sparse.csr_matrix(simulate.simulate_transcriptomes(1000, 4))\n",
    "adata = sc.AnnData(data)\n",
    "size_factors = scdd.dd_size_factor(adata)"
   ]
  },
  {
   "cell_type": "code",
   "execution_count": 12,
   "metadata": {},
   "outputs": [
    {
     "name": "stdout",
     "output_type": "stream",
     "text": [
      "[[  9.66801891  -1.45902975  -1.97166503 -10.13305759]\n",
      " [ -1.45902975   3.37530982  -0.83509601  -2.76389597]\n",
      " [ -1.97166503  -0.83509601   2.51976446  -2.9553916 ]\n",
      " [-10.13305759  -2.76389597  -2.9553916    1.48619472]]\n"
     ]
    },
    {
     "name": "stderr",
     "output_type": "stream",
     "text": [
      "/home/ssm-user/Github/single_cell_eb/sceb/scdd.py:237: RuntimeWarning: divide by zero encountered in true_divide\n",
      "  row_weight = 1/size_factor\n"
     ]
    }
   ],
   "source": [
    "mean_scdd, cov_scdd, corr_scdd = scdd.dd_covariance(adata, size_factors)\n",
    "print(cov_scdd)"
   ]
  },
  {
   "cell_type": "code",
   "execution_count": 13,
   "metadata": {},
   "outputs": [
    {
     "name": "stdout",
     "output_type": "stream",
     "text": [
      "[[ -1.45902975  -1.97166503 -10.13305759]\n",
      " [  3.37530982  -0.83509601  -2.76389597]\n",
      " [ -0.83509601   2.51976446  -2.9553916 ]]\n"
     ]
    },
    {
     "name": "stderr",
     "output_type": "stream",
     "text": [
      "/home/ssm-user/Github/scrna-parameter-estimation/scmemo/estimator.py:122: RuntimeWarning: divide by zero encountered in true_divide\n",
      "  row_weight = (1/size_factor).reshape([1, -1]) if size_factor is not None else np.ones(data.shape[0]).reshape([1, -1])\n"
     ]
    }
   ],
   "source": [
    "imp.reload(estimator)\n",
    "cov_scmemo = estimator._poisson_cov(data, data.shape[0], size_factors, idx1=[0, 1, 2], idx2=[1, 2, 3])\n",
    "print(cov_scmemo)"
   ]
  },
  {
   "cell_type": "code",
   "execution_count": 14,
   "metadata": {},
   "outputs": [
    {
     "name": "stderr",
     "output_type": "stream",
     "text": [
      "/home/ssm-user/anaconda3/envs/single_cell/lib/python3.7/site-packages/ipykernel_launcher.py:5: RuntimeWarning: divide by zero encountered in true_divide\n",
      "  \"\"\"\n",
      "/home/ssm-user/anaconda3/envs/single_cell/lib/python3.7/site-packages/ipykernel_launcher.py:6: RuntimeWarning: divide by zero encountered in true_divide\n",
      "  \n"
     ]
    }
   ],
   "source": [
    "expr, count = np.unique(data[:, :2].toarray(), return_counts=True, axis=0)\n",
    "\n",
    "df = pd.DataFrame()\n",
    "df['size_factor'] = size_factors\n",
    "df['inv_size_factor'] = 1/size_factors\n",
    "df['inv_size_factor_sq'] = 1/size_factors**2\n",
    "df['expr1'] = data[:, 0].todense().A1\n",
    "df['expr2'] = data[:, 1].todense().A1\n",
    "\n",
    "precomputed_size_factors = df.groupby(['expr1', 'expr2'])['inv_size_factor'].mean(), df.groupby(['expr1', 'expr2'])['inv_size_factor_sq'].mean()"
   ]
  },
  {
   "cell_type": "code",
   "execution_count": 15,
   "metadata": {},
   "outputs": [
    {
     "name": "stdout",
     "output_type": "stream",
     "text": [
      "-1.4590297282462616\n"
     ]
    }
   ],
   "source": [
    "cov_scmemo = estimator._poisson_cov((expr[:, 0], expr[:, 1], count), data.shape[0], size_factor=precomputed_size_factors)\n",
    "print(cov_scmemo)"
   ]
  },
  {
   "cell_type": "markdown",
   "metadata": {},
   "source": [
    "### Variance/correlation estimation while varying q_sq"
   ]
  },
  {
   "cell_type": "code",
   "execution_count": 32,
   "metadata": {},
   "outputs": [],
   "source": [
    "q = 0.1\n",
    "q_sq_list = [q**2+1e-8, 0.0105, 0.011]#[0.07**2+1e-6, 0.005, 0.006]"
   ]
  },
  {
   "cell_type": "code",
   "execution_count": 33,
   "metadata": {},
   "outputs": [],
   "source": [
    "import warnings\n",
    "# warnings.filterwarnings(\"ignore\")\n"
   ]
  },
  {
   "cell_type": "code",
   "execution_count": 34,
   "metadata": {},
   "outputs": [],
   "source": [
    "imp.reload(simulate)\n",
    "\n",
    "true_data = simulate.simulate_transcriptomes(5000, 10000, correlated=False)\n",
    "true_relative_data = true_data / true_data.sum(axis=1).reshape(-1, 1)"
   ]
  },
  {
   "cell_type": "code",
   "execution_count": 35,
   "metadata": {},
   "outputs": [
    {
     "name": "stdout",
     "output_type": "stream",
     "text": [
      "0.1088\n",
      "0.1162\n",
      "0.1177\n"
     ]
    },
    {
     "data": {
      "image/png": "[encoded data removed]",
      "text/plain": [
       "<Figure size 504x216 with 6 Axes>"
      ]
     },
     "metadata": {
      "needs_background": "light"
     },
     "output_type": "display_data"
    }
   ],
   "source": [
    "plt.figure(figsize=(7, 3))\n",
    "plt.subplots_adjust(hspace=1, wspace=0.3)\n",
    "num_subplot_col = len(q_sq_list)\n",
    "num_subplot_row = 2\n",
    "\n",
    "for col_num, q_sq in enumerate(q_sq_list):\n",
    "    \n",
    "    qs, captured_data = simulate.capture_sampling(true_data, q, q_sq)\n",
    "    Nr = captured_data.sum(axis=1).mean()\n",
    "    captured_relative_data = captured_data/captured_data.sum(axis=1).reshape(-1, 1)\n",
    "    adata = sc.AnnData(sp.sparse.csr_matrix(captured_data))\n",
    "    \n",
    "    x_true, y_true = true_relative_data.mean(axis=0), true_relative_data.var(axis=0)\n",
    "    x_obs, y_obs = captured_relative_data.mean(axis=0), captured_relative_data.var(axis=0)\n",
    "    \n",
    "    _, M_dd = scdd.dd_1d_moment(adata, size_factor=scdd.dd_size_factor(adata), verbose=False, Nr=Nr)\n",
    "    var_scdd = scdd.M_to_var(M_dd)\n",
    "    \n",
    "#     obs_cell_sizes = captured_data.sum(axis=1).reshape(-1, 1)\n",
    "#     mm_var = ((captured_data**2 - (1-0.1)*captured_data)/(obs_cell_sizes**2-obs_cell_sizes)).mean(axis=0) - (captured_data/obs_cell_sizes).mean(axis=0)**2\n",
    "    \n",
    "#     var_scdd = mm_var\n",
    "    \n",
    "    condition = np.log(var_scdd) > -30\n",
    "    \n",
    "#     true_corrs = np.corrcoef(true_data, rowvar=False).ravel()\n",
    "#     estimated_corrs = corr_scdd.ravel()\n",
    "#     corr_cond = np.isfinite(estimated_corrs)\n",
    "#     true_corrs = true_corrs[corr_cond]\n",
    "#     estimated_corrs = estimated_corrs[corr_cond]\n",
    "        \n",
    "    plt.subplot(num_subplot_row, num_subplot_col, col_num+1)\n",
    "    sns.distplot(qs)\n",
    "    plt.xlabel('q, Var(q)={:.1e}'.format(q_sq-q**2))\n",
    "    plt.xlim(0, 0.5)\n",
    "    if col_num == 0:\n",
    "        plt.ylabel('Density')\n",
    "        \n",
    "    plt.subplot(num_subplot_row, num_subplot_col, col_num+1+num_subplot_col)\n",
    "    plt.plot(np.log(y_true[condition]), np.log(y_true[condition]), color='m', lw=1)\n",
    "    plt.scatter(np.log(y_true[condition]), np.log(var_scdd[condition]), s=0.1)\n",
    "    plt.xlabel('True variance (log)');\n",
    "    if col_num == 0:\n",
    "        plt.ylabel('Estimated\\nvariance (log)')\n",
    "    plt.title('R={:.3f}'.format(stats.pearsonr(var_scdd[condition], y_true[condition])[0]))\n",
    "    print((var_scdd>y_true).mean())\n",
    "plt.savefig(figpath + 'variance_q_sq_robust.png', bbox_inches='tight')"
   ]
  },
  {
   "cell_type": "markdown",
   "metadata": {},
   "source": [
    "### Estimation of moments from arbitrary underyling true distributions"
   ]
  },
  {
   "cell_type": "code",
   "execution_count": 36,
   "metadata": {},
   "outputs": [],
   "source": [
    "# Generate cell sizes\n",
    "cell_sizes = np.exp(stats.norm.rvs(11, 0.01, 20000)).astype(int)\n",
    "\n",
    "# Generate true expression of a single gene\n",
    "expr_1 = np.exp(stats.norm.rvs(6, 0.08, 12000)).astype(int)\n",
    "# expr = expr_1\n",
    "expr_2 = stats.norm.rvs(450, 10, 8000).astype(int)\n",
    "expr = np.concatenate([expr_1, expr_2])\n",
    "\n",
    "# Generate the q's\n",
    "q = 0.1\n",
    "q_sq = 0.011\n",
    "m = q\n",
    "v = q_sq - q**2\n",
    "alpha = m*(m*(1-m)/v - 1)\n",
    "beta = (1-m)*(m*(1-m)/v - 1)\n",
    "qs = stats.beta.rvs(alpha, beta, size=20000)\n",
    "\n",
    "# Generate the observed distribution\n",
    "obs_expr = stats.hypergeom.rvs(M=cell_sizes, n=expr, N=(qs*cell_sizes).astype(int))\n",
    "obs_cell_sizes = (qs*cell_sizes).astype(int)\n",
    "\n",
    "# Calculate relative abundances\n",
    "rel_obs_expr = obs_expr/obs_cell_sizes\n",
    "rel_expr = expr/cell_sizes"
   ]
  },
  {
   "cell_type": "code",
   "execution_count": 37,
   "metadata": {},
   "outputs": [
    {
     "data": {
      "image/png": "[encoded data removed]",
      "text/plain": [
       "<Figure size 432x288 with 1 Axes>"
      ]
     },
     "metadata": {
      "needs_background": "light"
     },
     "output_type": "display_data"
    }
   ],
   "source": [
    "plt.hist(expr, bins=50);"
   ]
  },
  {
   "cell_type": "code",
   "execution_count": 38,
   "metadata": {},
   "outputs": [
    {
     "name": "stdout",
     "output_type": "stream",
     "text": [
      "0.000475220156155731 0.0005757378200670278\n"
     ]
    }
   ],
   "source": [
    "# method of moments estimator\n",
    "mm_var = ((obs_expr**2 - obs_expr)/(obs_cell_sizes**2-obs_cell_sizes)).mean() - (obs_expr/obs_cell_sizes).mean()**2\n",
    "\n",
    "mm_std = np.sqrt(mm_var)\n",
    "print(mm_std, rel_expr.std())"
   ]
  },
  {
   "cell_type": "code",
   "execution_count": 39,
   "metadata": {},
   "outputs": [
    {
     "data": {
      "image/png": "[encoded data removed]",
      "text/plain": [
       "<Figure size 504x144 with 2 Axes>"
      ]
     },
     "metadata": {
      "needs_background": "light"
     },
     "output_type": "display_data"
    }
   ],
   "source": [
    "plt.figure(figsize=(7, 2))\n",
    "plt.subplot(1, 2, 1)\n",
    "plt.hist(obs_expr, density=True, bins=24, histtype='step', lw=3);\n",
    "plt.hist(expr, density=True, bins=26, histtype='step', lw=3);\n",
    "plt.legend(['observed', 'true'])\n",
    "plt.xlabel('Absolute abundance (count)')\n",
    "# plt.ylim(0, 0.5)\n",
    "\n",
    "plt.subplot(1, 2, 2);\n",
    "plt.hist(rel_obs_expr, label='observed', density=True, bins=30, histtype='step', lw=3)\n",
    "plt.hist(rel_expr, label='true', density=True, bins=50, histtype='step', lw=3)\n",
    "plt.gca().xaxis.set_major_locator(plt.MultipleLocator(0.003))\n",
    "plt.xlabel('Relative abundance')\n",
    "plt.legend()\n",
    "# plt.ylim(0, 600)\n",
    "plt.xlim(0, 0.016)\n",
    "\n",
    "add = 800\n",
    "\n",
    "# Plot the naive variance calculation\n",
    "plt.plot([rel_expr.mean() - rel_obs_expr.std(), rel_expr.mean() + rel_obs_expr.std()], [add + 400,add +  400], color=plt.rcParams['axes.prop_cycle'].by_key()['color'][0], lw=3, label='+/- naive std')\n",
    "plt.plot([rel_expr.mean() - rel_obs_expr.std(), rel_expr.mean() - rel_obs_expr.std()], [add + 380, add + 420], color=plt.rcParams['axes.prop_cycle'].by_key()['color'][0], lw=3)\n",
    "plt.plot([rel_expr.mean() + rel_obs_expr.std(), rel_expr.mean() + rel_obs_expr.std()], [add + 380, add + 420], color=plt.rcParams['axes.prop_cycle'].by_key()['color'][0], lw=3)\n",
    "\n",
    "# Plot the true variance calculation\n",
    "plt.plot([rel_expr.mean() - rel_expr.std(), rel_expr.mean() + rel_expr.std()], [add + 470 + 30, add + 470+ 30], color=plt.rcParams['axes.prop_cycle'].by_key()['color'][1], lw=3, label='+/- true std')\n",
    "plt.plot([rel_expr.mean() - rel_expr.std(), rel_expr.mean() - rel_expr.std()], [add + 450+ 30, add + 490+ 30], color=plt.rcParams['axes.prop_cycle'].by_key()['color'][1], lw=3)\n",
    "plt.plot([rel_expr.mean() + rel_expr.std(), rel_expr.mean() + rel_expr.std()], [add + 450+ 30, add + 490+ 30], color=plt.rcParams['axes.prop_cycle'].by_key()['color'][1], lw=3)\n",
    "\n",
    "# MM estimate\n",
    "plt.plot([rel_expr.mean() - mm_std, rel_expr.mean() + mm_std], [add + 540+ 30 + 30, add + 540+ 30 + 30], color=plt.rcParams['axes.prop_cycle'].by_key()['color'][2], lw=3, label='+/- MM std')\n",
    "plt.plot([rel_expr.mean() - mm_std, rel_expr.mean() - mm_std], [add + 520+ 30 + 30, add + 560+ 30 + 30], color=plt.rcParams['axes.prop_cycle'].by_key()['color'][2], lw=3)\n",
    "plt.plot([rel_expr.mean() + mm_std, rel_expr.mean() + mm_std], [add + 520+ 30 + 30, add + 560+ 30 + 30], color=plt.rcParams['axes.prop_cycle'].by_key()['color'][2], lw=3)\n",
    "\n",
    "plt.legend(frameon=False)\n",
    "plt.savefig(figpath + 'variance_estimation.pdf', bbox_inches='tight')"
   ]
  },
  {
   "cell_type": "markdown",
   "metadata": {},
   "source": [
    "### Poisson vs hypergeometric"
   ]
  },
  {
   "cell_type": "code",
   "execution_count": null,
   "metadata": {},
   "outputs": [],
   "source": [
    "_poisson_1d(data, n_obs, size_factor=None, n_umi=1):"
   ]
  },
  {
   "cell_type": "code",
   "execution_count": 37,
   "metadata": {},
   "outputs": [
    {
     "data": {
      "text/plain": [
       "<module 'estimator' from '/data/home/Github/scrna-parameter-estimation/scmemo/estimator.py'>"
      ]
     },
     "execution_count": 37,
     "metadata": {},
     "output_type": "execute_result"
    }
   ],
   "source": [
    "imp.reload(estimator)"
   ]
  },
  {
   "cell_type": "code",
   "execution_count": 110,
   "metadata": {},
   "outputs": [
    {
     "data": {
      "text/plain": [
       "-2.5169529914855957"
      ]
     },
     "execution_count": 110,
     "metadata": {},
     "output_type": "execute_result"
    }
   ],
   "source": [
    "np.nanmin(corr_hyp)"
   ]
  },
  {
   "cell_type": "code",
   "execution_count": 143,
   "metadata": {},
   "outputs": [
    {
     "data": {
      "text/plain": [
       "(array([218., 499., 154.,  61.,  35.,  13.,   6.,   6.,   5.,   3.]),\n",
       " array([1452.7 , 1544.27, 1635.84, 1727.41, 1818.98, 1910.55, 2002.12,\n",
       "        2093.69, 2185.26, 2276.83, 2368.4 ]),\n",
       " <a list of 10 Patch objects>)"
      ]
     },
     "execution_count": 143,
     "metadata": {},
     "output_type": "execute_result"
    },
    {
     "data": {
      "image/png": "[encoded data removed]",
      "text/plain": [
       "<Figure size 432x288 with 1 Axes>"
      ]
     },
     "metadata": {
      "needs_background": "light"
     },
     "output_type": "display_data"
    }
   ],
   "source": [
    "plt.hist(true_data.sum(axis=1)/10)"
   ]
  },
  {
   "cell_type": "code",
   "execution_count": 259,
   "metadata": {},
   "outputs": [
    {
     "data": {
      "text/plain": [
       "0.0009999999999999992"
      ]
     },
     "execution_count": 259,
     "metadata": {},
     "output_type": "execute_result"
    }
   ],
   "source": [
    "0.011-0.01"
   ]
  },
  {
   "cell_type": "code",
   "execution_count": 310,
   "metadata": {},
   "outputs": [],
   "source": [
    "def compare_esimators(q, plot=False, true_data=None, var_q=1e-10):\n",
    "    \n",
    "    q_sq = var_q + q**2\n",
    "    \n",
    "    true_data = simulate.simulate_transcriptomes(1000, 1000, correlated=True) if true_data is None else true_data\n",
    "    true_relative_data = true_data / true_data.sum(axis=1).reshape(-1, 1)\n",
    "\n",
    "    qs, captured_data = simulate.capture_sampling(true_data, q, q_sq)\n",
    "    Nr = captured_data.sum(axis=1).mean()\n",
    "    captured_relative_data = captured_data/captured_data.sum(axis=1).reshape(-1, 1)\n",
    "    adata = sc.AnnData(sp.sparse.csr_matrix(captured_data))\n",
    "    sf = estimator._estimate_size_factor(adata.X)\n",
    "\n",
    "    good_idx = (captured_data.mean(axis=0) > q)\n",
    "\n",
    "    # True moments\n",
    "    m_true, v_true, corr_true = true_relative_data.mean(axis=0), true_relative_data.var(axis=0), np.corrcoef(true_relative_data, rowvar=False)\n",
    "\n",
    "    # Compute 1D moments\n",
    "    m_obs, v_obs = captured_relative_data.mean(axis=0), captured_relative_data.var(axis=0)\n",
    "    m_poi, v_poi = estimator._poisson_1d(adata.X, size_factor=sf, n_obs=true_data.shape[0])\n",
    "    m_hyp, v_hyp = estimator._hyper_1d(adata.X, size_factor=sf, n_obs=true_data.shape[0], q=q)\n",
    "\n",
    "    # Compute 2D moments\n",
    "    corr_obs = np.corrcoef(captured_relative_data, rowvar=False)\n",
    "    cov_poi = estimator._poisson_cov(adata.X, n_obs=true_data.shape[0], size_factor=sf, idx1=None, idx2=None)\n",
    "    cov_hyp = estimator._hyper_cov(adata.X, n_obs=true_data.shape[0], size_factor=sf, idx1=None, idx2=None, q=q)\n",
    "    corr_poi = estimator._corr_from_cov(cov_poi, v_poi, v_poi)\n",
    "    corr_hyp = estimator._corr_from_cov(cov_hyp, v_hyp, v_hyp)\n",
    "\n",
    "    corr_poi[np.abs(corr_poi) > 1] = np.nan\n",
    "    corr_hyp[np.abs(corr_hyp) > 1] = np.nan\n",
    "\n",
    "    mean_list = [m_obs, m_poi, m_hyp]\n",
    "    var_list = [v_obs, v_poi, v_hyp]\n",
    "    corr_list = [corr_obs, corr_poi, corr_hyp]\n",
    "    estimated_list = [mean_list, var_list, corr_list]\n",
    "    true_list = [m_true, v_true, corr_true]\n",
    "\n",
    "    if plot:\n",
    "        count = 0\n",
    "        for j in range(3):\n",
    "            for i in range(3):\n",
    "\n",
    "                plt.subplot(3, 3, count+1)\n",
    "\n",
    "\n",
    "                if i != 2:\n",
    "                    plt.scatter(\n",
    "                        np.log(true_list[i][good_idx]),\n",
    "                        np.log(estimated_list[i][j][good_idx]),\n",
    "                        s=0.3)\n",
    "                    plt.plot(np.log(true_list[i][good_idx]), np.log(true_list[i][good_idx]), linestyle='--', color='m')\n",
    "                    plt.xlim(np.log(true_list[i][good_idx]).min(), np.log(true_list[i][good_idx]).max())\n",
    "                    plt.ylim(np.log(true_list[i][good_idx]).min(), np.log(true_list[i][good_idx]).max())\n",
    "\n",
    "                else:\n",
    "\n",
    "                    x = true_list[i][good_idx, :][:, good_idx].ravel()\n",
    "                    y = estimated_list[i][j][good_idx, :][:, good_idx].ravel()\n",
    "\n",
    "                    sample_idx = np.random.choice(x.shape[0], 10000)\n",
    "\n",
    "                    plt.scatter(\n",
    "                        x[sample_idx],\n",
    "                        y[sample_idx],\n",
    "                        s=0.3)\n",
    "                    plt.plot([-1, 1], [-1, 1],linestyle='--', color='m')\n",
    "                    plt.xlim(-1, 1);\n",
    "                    plt.ylim(-1, 1);\n",
    "                    \n",
    "                if i != 0:\n",
    "                    plt.yticks([])\n",
    "                    \n",
    "                if i == 1 or i == 0:\n",
    "                    \n",
    "                    print((np.log(true_list[i][good_idx]) > np.log(estimated_list[i][j][good_idx])).mean())\n",
    "\n",
    "                count += 1\n",
    "    else:\n",
    "        return qs, good_idx, estimated_list, true_list"
   ]
  },
  {
   "cell_type": "code",
   "execution_count": 311,
   "metadata": {},
   "outputs": [
    {
     "name": "stdout",
     "output_type": "stream",
     "text": [
      "0.4835820895522388\n",
      "0.005970149253731343\n",
      "0.4835820895522388\n",
      "1.0\n",
      "0.4835820895522388\n",
      "0.5328358208955224\n"
     ]
    },
    {
     "data": {
      "image/png": "[encoded data removed]",
      "text/plain": [
       "<Figure size 288x288 with 9 Axes>"
      ]
     },
     "metadata": {
      "needs_background": "light"
     },
     "output_type": "display_data"
    }
   ],
   "source": [
    "q = 0.6\n",
    "plt.figure(figsize=(4, 4))\n",
    "plt.subplots_adjust(wspace=0.1, hspace=0.3)\n",
    "true_data = simulate.simulate_transcriptomes(5000, 1000, correlated=True)\n",
    "compare_esimators(q, plot=True, true_data=true_data)\n",
    "plt.savefig(figpath + 'poi_vs_hyper_scatter_2.pdf', bbox_inches='tight')"
   ]
  },
  {
   "cell_type": "code",
   "execution_count": 308,
   "metadata": {},
   "outputs": [
    {
     "name": "stderr",
     "output_type": "stream",
     "text": [
      "/data/home/Github/scrna-parameter-estimation/scmemo/estimator.py:204: RuntimeWarning: invalid value encountered in less_equal\n",
      "  var_2[var_2 <= 0] = np.nan\n",
      "/data/home/anaconda3/envs/single_cell/lib/python3.7/site-packages/ipykernel_launcher.py:31: RuntimeWarning: invalid value encountered in greater\n"
     ]
    },
    {
     "name": "stdout",
     "output_type": "stream",
     "text": [
      "0.49782923299565845\n",
      "0.0\n",
      "0.49782923299565845\n",
      "0.9551374819102749\n",
      "0.49782923299565845\n",
      "0.5296671490593343\n"
     ]
    },
    {
     "data": {
      "image/png": "[encoded data removed]",
      "text/plain": [
       "<Figure size 288x288 with 9 Axes>"
      ]
     },
     "metadata": {
      "needs_background": "light"
     },
     "output_type": "display_data"
    }
   ],
   "source": [
    "q = 0.1\n",
    "plt.figure(figsize=(4, 4))\n",
    "plt.subplots_adjust(wspace=0.1, hspace=0.3)\n",
    "true_data = simulate.simulate_transcriptomes(5000, 1000, correlated=True)\n",
    "compare_esimators(q, plot=True, true_data=true_data)\n",
    "plt.savefig(figpath + 'poi_vs_hyper_scatter_1.pdf', bbox_inches='tight')"
   ]
  },
  {
   "cell_type": "code",
   "execution_count": 289,
   "metadata": {},
   "outputs": [
    {
     "name": "stderr",
     "output_type": "stream",
     "text": [
      "/data/home/Github/scrna-parameter-estimation/scmemo/estimator.py:204: RuntimeWarning: invalid value encountered in less_equal\n",
      "  if type(cov) != np.ndarray:\n",
      "/data/home/anaconda3/envs/single_cell/lib/python3.7/site-packages/ipykernel_launcher.py:31: RuntimeWarning: invalid value encountered in greater\n",
      "/data/home/Github/scrna-parameter-estimation/scmemo/estimator.py:204: RuntimeWarning: invalid value encountered in less_equal\n",
      "  if type(cov) != np.ndarray:\n",
      "/data/home/anaconda3/envs/single_cell/lib/python3.7/site-packages/ipykernel_launcher.py:31: RuntimeWarning: invalid value encountered in greater\n",
      "/data/home/Github/scrna-parameter-estimation/scmemo/estimator.py:204: RuntimeWarning: invalid value encountered in less_equal\n",
      "  if type(cov) != np.ndarray:\n",
      "/data/home/anaconda3/envs/single_cell/lib/python3.7/site-packages/ipykernel_launcher.py:31: RuntimeWarning: invalid value encountered in greater\n",
      "/data/home/Github/scrna-parameter-estimation/scmemo/estimator.py:204: RuntimeWarning: invalid value encountered in less_equal\n",
      "  if type(cov) != np.ndarray:\n",
      "/data/home/anaconda3/envs/single_cell/lib/python3.7/site-packages/ipykernel_launcher.py:31: RuntimeWarning: invalid value encountered in greater\n",
      "/data/home/Github/scrna-parameter-estimation/scmemo/estimator.py:204: RuntimeWarning: invalid value encountered in less_equal\n",
      "  if type(cov) != np.ndarray:\n",
      "/data/home/anaconda3/envs/single_cell/lib/python3.7/site-packages/ipykernel_launcher.py:31: RuntimeWarning: invalid value encountered in greater\n"
     ]
    }
   ],
   "source": [
    "def compute_mse(x, y, log=True):\n",
    "    \n",
    "    if log:\n",
    "        return np.nanmean(np.abs(np.log(x)-np.log(y)))\n",
    "    else:\n",
    "        return np.nanmean(np.abs(x-y))\n",
    "    \n",
    "m_mse_list, v_mse_list, c_mse_list = [], [], []\n",
    "true_data = simulate.simulate_transcriptomes(5000, 1000, correlated=True)\n",
    "q_list = [0.1, 0.15, 0.3, 0.5, 0.7, 0.99]\n",
    "qs_list = []\n",
    "for q in q_list:\n",
    "    qs, good_idx, est, true = compare_esimators(q, plot=False, true_data=true_data)\n",
    "    qs_list.append(qs)\n",
    "    m_mse_list.append([compute_mse(x[good_idx], true[0][good_idx]) for x in est[0]])\n",
    "    v_mse_list.append([compute_mse(x[good_idx], true[1][good_idx])  for x in est[1]])\n",
    "    c_mse_list.append([compute_mse(x[good_idx, :][:, good_idx], true[2][good_idx, :][:, good_idx], log=False) for x in est[2]])\n",
    "    \n",
    "m_mse_list, v_mse_list, c_mse_list = np.array(m_mse_list), np.array(v_mse_list), np.array(c_mse_list)"
   ]
  },
  {
   "cell_type": "code",
   "execution_count": 309,
   "metadata": {},
   "outputs": [
    {
     "data": {
      "image/png": "[encoded data removed]",
      "text/plain": [
       "<Figure size 540x216 with 2 Axes>"
      ]
     },
     "metadata": {
      "needs_background": "light"
     },
     "output_type": "display_data"
    }
   ],
   "source": [
    "import matplotlib.pylab as pylab\n",
    "params = {'legend.fontsize': 'large',\n",
    "         'axes.labelsize': 'medium',\n",
    "         'axes.titlesize':'medium',\n",
    "         'figure.titlesize':'medium',\n",
    "         'xtick.labelsize':'xx-small',\n",
    "         'ytick.labelsize':'xx-small'}\n",
    "pylab.rcParams.update(params)\n",
    "\n",
    "plt.figure(figsize=(7.5, 3))\n",
    "plt.subplots_adjust(wspace=0.3)\n",
    "\n",
    "plt.subplot(1, 2, 1)\n",
    "plt.plot(q_list, v_mse_list[:, 0], '-o')\n",
    "plt.plot(q_list, v_mse_list[:, 1], '-o')\n",
    "plt.plot(q_list, v_mse_list[:, 2], '-o')\n",
    "plt.legend(['Naive', 'Poisson', 'HG'])\n",
    "plt.ylabel('MAE log(variance)')\n",
    "plt.xlabel('overall UMI efficiency (q)')\n",
    "\n",
    "plt.subplot(1, 2, 2)\n",
    "plt.plot(q_list, c_mse_list[:, 0], '-o')\n",
    "plt.plot(q_list, c_mse_list[:, 1], '-o')\n",
    "plt.plot(q_list, c_mse_list[:, 2], '-o')\n",
    "plt.legend(['Naive', 'Poisson', 'HG'])\n",
    "plt.ylabel('MAE correlation')\n",
    "plt.xlabel('overall UMI efficiency (q)')\n",
    "\n",
    "plt.savefig(figpath + 'poi_vs_hyper_mae.pdf', bbox_inches='tight')"
   ]
  },
  {
   "cell_type": "code",
   "execution_count": null,
   "metadata": {},
   "outputs": [],
   "source": []
  },
  {
   "cell_type": "code",
   "execution_count": null,
   "metadata": {},
   "outputs": [],
   "source": []
  },
  {
   "cell_type": "code",
   "execution_count": null,
   "metadata": {},
   "outputs": [],
   "source": []
  },
  {
   "cell_type": "code",
   "execution_count": null,
   "metadata": {},
   "outputs": [],
   "source": []
  },
  {
   "cell_type": "code",
   "execution_count": 202,
   "metadata": {},
   "outputs": [
    {
     "data": {
      "text/plain": [
       "[5.364642707455465e-09, 5.364654855995396e-09, 5.364654855995396e-09]"
      ]
     },
     "execution_count": 202,
     "metadata": {},
     "output_type": "execute_result"
    }
   ],
   "source": [
    "mean_mse\n"
   ]
  },
  {
   "cell_type": "code",
   "execution_count": 203,
   "metadata": {},
   "outputs": [
    {
     "data": {
      "text/plain": [
       "[7.853489974420156e-10, 1.6696770355758506e-12, 5.253330915139939e-12]"
      ]
     },
     "execution_count": 203,
     "metadata": {},
     "output_type": "execute_result"
    }
   ],
   "source": [
    "var_mse"
   ]
  },
  {
   "cell_type": "code",
   "execution_count": 204,
   "metadata": {},
   "outputs": [
    {
     "data": {
      "text/plain": [
       "[0.07155027969271335, 0.14214224008649465, 0.20052082769521437]"
      ]
     },
     "execution_count": 204,
     "metadata": {},
     "output_type": "execute_result"
    }
   ],
   "source": [
    "corr_mse"
   ]
  },
  {
   "cell_type": "code",
   "execution_count": null,
   "metadata": {},
   "outputs": [],
   "source": []
  }
 ],
 "metadata": {
  "kernelspec": {
   "display_name": "Python 3",
   "language": "python",
   "name": "python3"
  },
  "language_info": {
   "codemirror_mode": {
    "name": "ipython",
    "version": 3
   },
   "file_extension": ".py",
   "mimetype": "text/x-python",
   "name": "python",
   "nbconvert_exporter": "python",
   "pygments_lexer": "ipython3",
   "version": "3.7.5"
  }
 },
 "nbformat": 4,
 "nbformat_minor": 4
}
