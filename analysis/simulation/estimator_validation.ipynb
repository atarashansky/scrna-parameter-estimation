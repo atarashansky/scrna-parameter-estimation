{
 "cells": [
  {
   "cell_type": "markdown",
   "metadata": {},
   "source": [
    "# Assess the Poisson estimator"
   ]
  },
  {
   "cell_type": "code",
   "execution_count": 1,
   "metadata": {},
   "outputs": [
    {
     "name": "stderr",
     "output_type": "stream",
     "text": [
      "/home/ssm-user/anaconda3/envs/single_cell/lib/python3.7/site-packages/scanpy/api/__init__.py:6: FutureWarning: \n",
      "\n",
      "In a future version of Scanpy, `scanpy.api` will be removed.\n",
      "Simply use `import scanpy as sc` and `import scanpy.external as sce` instead.\n",
      "\n",
      "  FutureWarning,\n"
     ]
    }
   ],
   "source": [
    "import pandas as pd\n",
    "import matplotlib.pyplot as plt\n",
    "import scanpy.api as sc\n",
    "import scipy as sp\n",
    "import itertools\n",
    "import numpy as np\n",
    "import scipy.stats as stats\n",
    "from scipy.integrate import dblquad\n",
    "import seaborn as sns\n",
    "from statsmodels.stats.multitest import fdrcorrection\n",
    "import imp\n",
    "pd.options.display.max_rows = 999\n",
    "pd.set_option('display.max_colwidth', -1)\n",
    "import pickle as pkl\n",
    "import time"
   ]
  },
  {
   "cell_type": "code",
   "execution_count": 2,
   "metadata": {},
   "outputs": [],
   "source": [
    "import matplotlib as mpl\n",
    "mpl.rcParams['pdf.fonttype'] = 42\n",
    "mpl.rcParams['ps.fonttype'] = 42\n",
    "\n",
    "import matplotlib.pylab as pylab\n",
    "params = {'legend.fontsize': 'medium',\n",
    "         'axes.labelsize': 'medium',\n",
    "         'axes.titlesize':'medium',\n",
    "         'figure.titlesize':'medium',\n",
    "         'xtick.labelsize':'small',\n",
    "         'ytick.labelsize':'small'}\n",
    "pylab.rcParams.update(params)\n"
   ]
  },
  {
   "cell_type": "code",
   "execution_count": 3,
   "metadata": {},
   "outputs": [],
   "source": [
    "import sys\n",
    "sys.path.append('/home/ssm-user/Github/scrna-parameter-estimation/scmemo')\n",
    "import estimator, simulate"
   ]
  },
  {
   "cell_type": "code",
   "execution_count": 4,
   "metadata": {},
   "outputs": [],
   "source": [
    "import sys\n",
    "sys.path.append('/home/ssm-user/Github/single_cell_eb/')\n",
    "sys.path.append('/home/ssm-user/Github/single_cell_eb/sceb')\n",
    "import scdd"
   ]
  },
  {
   "cell_type": "markdown",
   "metadata": {},
   "source": [
    "### Check 1D estimates of `sceb` with `scmemo`\n",
    "\n",
    "Using the Poisson model. The outputs should be identical, this is for checking the implementation. "
   ]
  },
  {
   "cell_type": "code",
   "execution_count": 7,
   "metadata": {},
   "outputs": [],
   "source": [
    "data = sp.sparse.csr_matrix(simulate.simulate_transcriptomes(100, 20))\n",
    "adata = sc.AnnData(data)\n",
    "size_factors = scdd.dd_size_factor(adata)"
   ]
  },
  {
   "cell_type": "code",
   "execution_count": 8,
   "metadata": {},
   "outputs": [
    {
     "name": "stdout",
     "output_type": "stream",
     "text": [
      "#time start: 0.0s\n",
      "n_cell=100, n_gene=20\n",
      "#total: 0.00s\n",
      "[2.46732679e+00 5.32861629e+00 1.29443925e+00 4.47258165e+01\n",
      " 1.28390262e+03 2.30193077e+00 2.76952964e+01 1.43530303e+01\n",
      " 6.56739537e+02 2.50213566e+00 3.09296118e+00 1.30187918e+02\n",
      " 3.33908553e+02 3.57209764e+01 1.57631203e-01 8.70112402e+00\n",
      " 2.02505921e-01 6.35272594e+02 1.56207273e+01 1.09610243e+02]\n"
     ]
    }
   ],
   "source": [
    "_, M_dd = scdd.dd_1d_moment(adata, size_factor=size_factors)\n",
    "var_scdd = scdd.M_to_var(M_dd)\n",
    "print(var_scdd)"
   ]
  },
  {
   "cell_type": "code",
   "execution_count": 9,
   "metadata": {},
   "outputs": [
    {
     "name": "stdout",
     "output_type": "stream",
     "text": [
      "[2.46732686e+00 5.32861737e+00 1.29443902e+00 4.47258266e+01\n",
      " 1.28390533e+03 2.30193159e+00 2.76952837e+01 1.43530281e+01\n",
      " 6.56752440e+02 2.50213585e+00 3.09296109e+00 1.30187803e+02\n",
      " 3.33908496e+02 3.57204463e+01 1.57631197e-01 8.70112575e+00\n",
      " 2.02505913e-01 6.35275520e+02 1.56207403e+01 1.09610173e+02]\n"
     ]
    }
   ],
   "source": [
    "imp.reload(estimator)\n",
    "mean_scmemo, var_scmemo = estimator._poisson_1d(data, data.shape[0], size_factors)\n",
    "print(var_scmemo)"
   ]
  },
  {
   "cell_type": "code",
   "execution_count": 10,
   "metadata": {},
   "outputs": [],
   "source": [
    "df = pd.DataFrame()\n",
    "df['size_factor'] = size_factors\n",
    "df['inv_size_factor'] = 1/size_factors\n",
    "df['inv_size_factor_sq'] = 1/size_factors**2\n",
    "df['expr'] = data[:, 0].todense().A1\n",
    "precomputed_size_factors = df.groupby('expr')['inv_size_factor'].mean(), df.groupby('expr')['inv_size_factor_sq'].mean()"
   ]
  },
  {
   "cell_type": "code",
   "execution_count": 14,
   "metadata": {},
   "outputs": [
    {
     "name": "stdout",
     "output_type": "stream",
     "text": [
      "[0.21386682510375976, 2.467327020205426]\n"
     ]
    }
   ],
   "source": [
    "imp.reload(estimator)\n",
    "expr, count = np.unique(data[:, 0].todense().A1, return_counts=True)\n",
    "print(estimator._poisson_1d((expr, count), data.shape[0], precomputed_size_factors))"
   ]
  },
  {
   "cell_type": "markdown",
   "metadata": {},
   "source": [
    "### Check 2D estimates of `sceb` and `scmemo`\n",
    "\n",
    "Using the Poisson model. The outputs should be identical, this is for checking the implementation. "
   ]
  },
  {
   "cell_type": "code",
   "execution_count": 696,
   "metadata": {},
   "outputs": [],
   "source": [
    "data = sp.sparse.csr_matrix(simulate.simulate_transcriptomes(1000, 4))\n",
    "adata = sc.AnnData(data)\n",
    "size_factors = scdd.dd_size_factor(adata)"
   ]
  },
  {
   "cell_type": "code",
   "execution_count": 699,
   "metadata": {},
   "outputs": [
    {
     "name": "stdout",
     "output_type": "stream",
     "text": [
      "[[  28.45380815   -0.57224207   -5.18922234  -25.59848495]\n",
      " [  -0.57224207   98.7212123   -16.59349467 -111.85287159]\n",
      " [  -5.18922234  -16.59349467  184.74122239 -180.3670556 ]\n",
      " [ -25.59848495 -111.85287159 -180.3670556   221.84084866]]\n"
     ]
    }
   ],
   "source": [
    "mean_scdd, cov_scdd, corr_scdd = scdd.dd_covariance(adata, size_factors)\n",
    "print(cov_scdd)"
   ]
  },
  {
   "cell_type": "code",
   "execution_count": 735,
   "metadata": {},
   "outputs": [
    {
     "name": "stdout",
     "output_type": "stream",
     "text": [
      "[[  -0.57224207   -5.18922234  -25.59848495]\n",
      " [  98.72121234  -16.59349467 -111.85287159]\n",
      " [ -16.59349467  184.74122241 -180.3670556 ]]\n"
     ]
    }
   ],
   "source": [
    "imp.reload(estimator)\n",
    "cov_scmemo = estimator._poisson_cov(data, data.shape[0], size_factors, idx1=[0, 1, 2], idx2=[1, 2, 3])\n",
    "print(cov_scmemo)"
   ]
  },
  {
   "cell_type": "code",
   "execution_count": 762,
   "metadata": {},
   "outputs": [],
   "source": [
    "expr, count = np.unique(data[:, :2].toarray(), return_counts=True, axis=0)\n",
    "\n",
    "df = pd.DataFrame()\n",
    "df['size_factor'] = size_factors\n",
    "df['inv_size_factor'] = 1/size_factors\n",
    "df['inv_size_factor_sq'] = 1/size_factors**2\n",
    "df['expr1'] = data[:, 0].todense().A1\n",
    "df['expr2'] = data[:, 1].todense().A1\n",
    "\n",
    "precomputed_size_factors = df.groupby(['expr1', 'expr2'])['inv_size_factor'].mean(), df.groupby(['expr1', 'expr2'])['inv_size_factor_sq'].mean()"
   ]
  },
  {
   "cell_type": "code",
   "execution_count": 763,
   "metadata": {},
   "outputs": [
    {
     "name": "stdout",
     "output_type": "stream",
     "text": [
      "-0.5722419010489546\n"
     ]
    }
   ],
   "source": [
    "cov_scmemo = estimator._poisson_cov((expr[:, 0], expr[:, 1], count), data.shape[0], size_factors=precomputed_size_factors)\n",
    "print(cov_scmemo)"
   ]
  },
  {
   "cell_type": "markdown",
   "metadata": {},
   "source": [
    "### Variance/correlation estimation while varying q_sq"
   ]
  },
  {
   "cell_type": "code",
   "execution_count": 422,
   "metadata": {},
   "outputs": [],
   "source": [
    "q = 0.1\n",
    "q_sq_list =[0.1**2+1e-6, 0.0102, 0.0106, 0.012]"
   ]
  },
  {
   "cell_type": "code",
   "execution_count": 414,
   "metadata": {},
   "outputs": [],
   "source": [
    "import warnings\n",
    "warnings.filterwarnings(\"ignore\")\n"
   ]
  },
  {
   "cell_type": "code",
   "execution_count": 449,
   "metadata": {},
   "outputs": [
    {
     "data": {
      "image/png": "[encoded data removed]",
      "text/plain": [
       "<Figure size 504x360 with 12 Axes>"
      ]
     },
     "metadata": {
      "needs_background": "light"
     },
     "output_type": "display_data"
    }
   ],
   "source": [
    "plt.figure(figsize=(7, 5))\n",
    "plt.subplots_adjust(hspace=1.1, wspace=0.3)\n",
    "num_subplot_col = len(q_sq_list)\n",
    "num_subplot_row = 3\n",
    "\n",
    "for col_num, q_sq in enumerate(q_sq_list):\n",
    "    \n",
    "    true_data = simulate.simulate_transcriptomes(5000, 1000, correlated=True)\n",
    "    qs, captured_data = simulate.capture_sampling(true_data, q, q_sq)\n",
    "    adata = sc.AnnData(sp.sparse.csr_matrix(captured_data))\n",
    "\n",
    "    \n",
    "    x_true, y_true = np.log(true_data.mean(axis=0)), np.log(true_data.var(axis=0))\n",
    "    x_obs, y_obs = np.log(captured_data.mean(axis=0)), np.log(captured_data.var(axis=0))\n",
    "    \n",
    "    _, M_dd = scdd.dd_1d_moment(adata, size_factor=scdd.dd_size_factor(adata), verbose=False)\n",
    "    var_scdd = scdd.M_to_var(M_dd)/q**2\n",
    "    \n",
    "    mean_scdd, _, corr_scdd = scdd.dd_covariance(adata, size_factor=scdd.dd_size_factor(adata))\n",
    "    corr_scdd[corr_scdd == 0] = np.nan\n",
    "    \n",
    "    condition = np.log(var_scdd) > -20\n",
    "    \n",
    "    true_corrs = np.corrcoef(true_data, rowvar=False).ravel()\n",
    "    estimated_corrs = corr_scdd.ravel()\n",
    "    corr_cond = np.isfinite(estimated_corrs)\n",
    "    true_corrs = true_corrs[corr_cond]\n",
    "    estimated_corrs = estimated_corrs[corr_cond]\n",
    "    \n",
    "    plt.subplot(num_subplot_row, num_subplot_col, col_num+1)\n",
    "    sns.distplot(qs)\n",
    "    plt.xlabel('q, Var(q)={:.1e}'.format(q_sq-q**2))\n",
    "    plt.xlim(0, 0.5)\n",
    "    if col_num == 0:\n",
    "        plt.ylabel('Density')\n",
    "        \n",
    "    plt.subplot(num_subplot_row, num_subplot_col, col_num+1+num_subplot_col)\n",
    "    plt.plot(y_true, y_true, color='m', lw=1)\n",
    "    plt.scatter(y_true[condition], np.log(var_scdd)[condition], s=1)\n",
    "    plt.xlabel('True variance');\n",
    "    if col_num == 0:\n",
    "        plt.ylabel('Estimated\\nvariance')\n",
    "    plt.title('R={:.3f}'.format(stats.pearsonr(np.log(var_scdd)[condition], y_true[condition])[0]))\n",
    "    \n",
    "    sample_idxs = np.random.choice(estimated_corrs.shape[0], 5000, replace=False)\n",
    "    plt.subplot(num_subplot_row, num_subplot_col, col_num+1+num_subplot_col*2)\n",
    "    plt.plot(true_corrs, true_corrs, color='m', lw=1)\n",
    "    plt.scatter(true_corrs, estimated_corrs, s=.01, alpha=0.01)\n",
    "    plt.xlabel('True correlation');\n",
    "    if col_num == 0:\n",
    "        plt.ylabel('Estimated\\ncorrelation')\n",
    "    plt.title('R={:.3f}'.format(stats.pearsonr(true_corrs, estimated_corrs)[0]))\n",
    "    "
   ]
  },
  {
   "cell_type": "code",
   "execution_count": 637,
   "metadata": {},
   "outputs": [
    {
     "data": {
      "text/plain": [
       "<Figure size 504x360 with 0 Axes>"
      ]
     },
     "metadata": {},
     "output_type": "display_data"
    }
   ],
   "source": [
    "plt.figure(figsize=(7, 5))\n",
    "plt.subplots_adjust(hspace=1.1, wspace=0.3)\n",
    "num_subplot_col = len(q_sq_list)\n",
    "num_subplot_row = 3\n",
    "\n",
    "q_sq = 0.011\n",
    "true_data = simulate.simulate_transcriptomes(5000, 1000, correlated=False)\n",
    "qs, captured_data = simulate.capture_sampling(true_data, q, q_sq)\n",
    "adata = sc.AnnData(sp.sparse.csr_matrix(captured_data))\n",
    "\n",
    "\n",
    "x_true, y_true = np.log(true_data.mean(axis=0)), np.log(true_data.var(axis=0))\n",
    "x_obs, y_obs = np.log(captured_data.mean(axis=0)), np.log(captured_data.var(axis=0))\n",
    "\n",
    "_, M_dd = scdd.dd_1d_moment(adata, size_factor=scdd.dd_size_factor(adata), verbose=False)\n",
    "var_scdd = scdd.M_to_var(M_dd)/q**2\n",
    "\n",
    "mean_scdd, _, corr_scdd = scdd.dd_covariance(adata, size_factor=None)\n",
    "corr_scdd[corr_scdd == 0] = np.nan\n",
    "\n",
    "condition = np.log(var_scdd) > -20\n",
    "\n",
    "true_corrs = np.corrcoef(true_data, rowvar=False).ravel()\n",
    "estimated_corrs = corr_scdd.ravel()\n",
    "corr_cond = np.isfinite(estimated_corrs)\n",
    "true_corrs = true_corrs[corr_cond]\n",
    "estimated_corrs = estimated_corrs[corr_cond]\n",
    "    \n",
    "    "
   ]
  },
  {
   "cell_type": "code",
   "execution_count": 565,
   "metadata": {},
   "outputs": [],
   "source": [
    "size_factors = scdd.dd_size_factor(adata)\n",
    "one_gene_data = captured_data[:, 1]"
   ]
  },
  {
   "cell_type": "code",
   "execution_count": 566,
   "metadata": {},
   "outputs": [
    {
     "data": {
      "text/plain": [
       "110.39632763999998"
      ]
     },
     "execution_count": 566,
     "metadata": {},
     "output_type": "execute_result"
    }
   ],
   "source": [
    "true_data[:, 1].var()"
   ]
  },
  {
   "cell_type": "code",
   "execution_count": 567,
   "metadata": {},
   "outputs": [
    {
     "data": {
      "text/plain": [
       "98.58771295507152"
      ]
     },
     "execution_count": 567,
     "metadata": {},
     "output_type": "execute_result"
    }
   ],
   "source": [
    "var_scdd[1]"
   ]
  },
  {
   "cell_type": "code",
   "execution_count": 568,
   "metadata": {},
   "outputs": [
    {
     "data": {
      "text/plain": [
       "2.6418814659118652"
      ]
     },
     "execution_count": 568,
     "metadata": {},
     "output_type": "execute_result"
    }
   ],
   "source": [
    "M_dd[1][1]"
   ]
  },
  {
   "cell_type": "code",
   "execution_count": 569,
   "metadata": {},
   "outputs": [
    {
     "data": {
      "text/plain": [
       "2.6418814714856813"
      ]
     },
     "execution_count": 569,
     "metadata": {},
     "output_type": "execute_result"
    }
   ],
   "source": [
    "((one_gene_data/size_factors)**2).mean()-(one_gene_data/size_factors**2).mean()"
   ]
  },
  {
   "cell_type": "code",
   "execution_count": 590,
   "metadata": {},
   "outputs": [
    {
     "data": {
      "text/plain": [
       "array([1.2091846 , 1.1135845 , 1.0489603 , 1.0017892 , 0.9314381 ,\n",
       "       0.9136544 , 0.8358464 , 0.8363028 , 0.90861374, 0.8686444 ,\n",
       "       0.8365793 , 0.7526174 , 0.71429   , 0.66574705], dtype=float32)"
      ]
     },
     "execution_count": 590,
     "metadata": {},
     "output_type": "execute_result"
    }
   ],
   "source": [
    "((one_gene_data/size_factors)**2).mean()-(one_gene_data/size_factors**2).mean()"
   ]
  },
  {
   "cell_type": "code",
   "execution_count": 595,
   "metadata": {},
   "outputs": [
    {
     "data": {
      "text/plain": [
       "4.0687745719300805"
      ]
     },
     "execution_count": 595,
     "metadata": {},
     "output_type": "execute_result"
    }
   ],
   "source": [
    "((one_gene_data/size_factors)**2).mean()"
   ]
  },
  {
   "cell_type": "code",
   "execution_count": 608,
   "metadata": {},
   "outputs": [
    {
     "data": {
      "text/plain": [
       "2.641881494450569"
      ]
     },
     "execution_count": 608,
     "metadata": {},
     "output_type": "execute_result"
    }
   ],
   "source": [
    "(expr**2*count*df.groupby('expr')['inv_cell_size_sq'].mean()).sum()/count.sum() - (expr*count*df.groupby('expr')['inv_cell_size_sq'].mean()).sum()/count.sum()"
   ]
  },
  {
   "cell_type": "code",
   "execution_count": 609,
   "metadata": {},
   "outputs": [],
   "source": [
    "#Real bootstrap\n",
    "real_boot_vars = []\n",
    "for trial in range(5000):\n",
    "    \n",
    "    boot_idxs = np.random.choice(one_gene_data.shape[0], one_gene_data.shape[0])\n",
    "    expr = one_gene_data[boot_idxs]\n",
    "    second = ((one_gene_data[boot_idxs]/size_factors[boot_idxs])**2).mean()-(one_gene_data[boot_idxs]/size_factors[boot_idxs]**2).mean()\n",
    "    first = (one_gene_data[boot_idxs]/size_factors[boot_idxs]).mean()\n",
    "    \n",
    "    real_boot_vars.append(second)\n",
    "real_boot_vars = np.array(real_boot_vars)"
   ]
  },
  {
   "cell_type": "code",
   "execution_count": 617,
   "metadata": {},
   "outputs": [],
   "source": [
    "expr, count = np.unique(one_gene_data, return_counts=True)\n",
    "freq = count/count.sum()\n",
    "multi_rvs = stats.multinomial.rvs(one_gene_data.shape[0], freq, size=1000)"
   ]
  },
  {
   "cell_type": "code",
   "execution_count": 624,
   "metadata": {},
   "outputs": [],
   "source": [
    "approx_boot_vars = (expr**2*multi_rvs*df.groupby('expr')['inv_cell_size_sq'].mean().values).sum(axis=1)/count.sum() - \\\n",
    "    (expr*multi_rvs*df.groupby('expr')['inv_cell_size_sq'].mean().values).sum(axis=1)/count.sum()"
   ]
  },
  {
   "cell_type": "code",
   "execution_count": 629,
   "metadata": {},
   "outputs": [
    {
     "data": {
      "text/plain": [
       "<matplotlib.legend.Legend at 0x7f9aae046290>"
      ]
     },
     "execution_count": 629,
     "metadata": {},
     "output_type": "execute_result"
    },
    {
     "data": {
      "image/png": "[encoded data removed]",
      "text/plain": [
       "<Figure size 432x288 with 1 Axes>"
      ]
     },
     "metadata": {
      "needs_background": "light"
     },
     "output_type": "display_data"
    }
   ],
   "source": [
    "sns.distplot(real_boot_vars, label='Actual bootstrap', hist=False)\n",
    "sns.distplot(approx_boot_vars, label='Approximate bootstrap', hist=False)\n",
    "plt.legend()"
   ]
  },
  {
   "cell_type": "code",
   "execution_count": 600,
   "metadata": {},
   "outputs": [],
   "source": [
    "df = pd.DataFrame()\n",
    "df['cell_size'] = size_factors\n",
    "df['cell_size_sq'] = size_factors**2\n",
    "df['inv_cell_size'] = 1/size_factors\n",
    "df['inv_cell_size_sq'] = 1/(size_factors**2)\n",
    "df['expr'] = one_gene_data"
   ]
  },
  {
   "cell_type": "code",
   "execution_count": 601,
   "metadata": {},
   "outputs": [],
   "source": [
    "inv_cell_sizes = df.groupby('expr')['inv_cell_size'].mean().values\n",
    "cell_sizes = df.groupby('expr')['cell_size'].mean().values"
   ]
  },
  {
   "cell_type": "code",
   "execution_count": 602,
   "metadata": {},
   "outputs": [],
   "source": [
    "expr, count = np.unique(one_gene_data, return_counts=True)\n",
    "freq = count/count.sum()\n",
    "multi_rvs = stats.multinomial.rvs(one_gene_data.shape[0], freq, size=1000)"
   ]
  },
  {
   "cell_type": "code",
   "execution_count": 578,
   "metadata": {},
   "outputs": [
    {
     "data": {
      "text/plain": [
       "4.1872"
      ]
     },
     "execution_count": 578,
     "metadata": {},
     "output_type": "execute_result"
    }
   ],
   "source": [
    "(expr**2*count).sum()/count.sum()"
   ]
  },
  {
   "cell_type": "code",
   "execution_count": 554,
   "metadata": {},
   "outputs": [
    {
     "data": {
      "text/plain": [
       "(1000, 14)"
      ]
     },
     "execution_count": 554,
     "metadata": {},
     "output_type": "execute_result"
    }
   ],
   "source": [
    "multi_rvs.shape"
   ]
  },
  {
   "cell_type": "code",
   "execution_count": 539,
   "metadata": {},
   "outputs": [],
   "source": [
    "#approx bootstrap\n",
    "approx_boot_vars = []\n",
    "expr, count = np.unique(one_gene_data, return_counts=True)\n",
    "\n",
    "\n",
    "for trial in range(1):\n",
    "    \n",
    "    boot_idxs = np.random.choice(one_gene_data.shape[0], one_gene_data.shape[0])\n",
    "    expr = one_gene_data[boot_idxs]\n",
    "    second = ((one_gene_data[boot_idxs]/size_factors[boot_idxs])**2).mean()-(one_gene_data[boot_idxs]/size_factors[boot_idxs]**2).mean()\n",
    "    first = (one_gene_data[boot_idxs]/size_factors[boot_idxs]).mean()\n",
    "    \n",
    "    approx_boot_vars.append( (second-first**2)/q**2 )\n",
    "approx_boot_vars = np.array(real_boot_vars)"
   ]
  },
  {
   "cell_type": "markdown",
   "metadata": {},
   "source": [
    "# HAHHAHAHA"
   ]
  },
  {
   "cell_type": "code",
   "execution_count": null,
   "metadata": {},
   "outputs": [],
   "source": [
    "plt.figure(figsize=(7, 5))\n",
    "plt.subplots_adjust(hspace=1.1, wspace=0.3)\n",
    "num_subplot_col = len(q_sq_list)\n",
    "num_subplot_row = 3\n",
    "\n",
    "q_sq = 0.011\n",
    "true_data = simulate.simulate_transcriptomes(5000, 1000, correlated=False)\n",
    "qs, captured_data = simulate.capture_sampling(true_data, q, q_sq)\n",
    "adata = sc.AnnData(sp.sparse.csr_matrix(captured_data))\n",
    "\n",
    "\n",
    "x_true, y_true = np.log(true_data.mean(axis=0)), np.log(true_data.var(axis=0))\n",
    "x_obs, y_obs = np.log(captured_data.mean(axis=0)), np.log(captured_data.var(axis=0))\n",
    "\n",
    "_, M_dd = scdd.dd_1d_moment(adata, size_factor=scdd.dd_size_factor(adata), verbose=False)\n",
    "var_scdd = scdd.M_to_var(M_dd)/q**2\n",
    "\n",
    "mean_scdd, _, corr_scdd = scdd.dd_covariance(adata, size_factor=None)\n",
    "corr_scdd[corr_scdd == 0] = np.nan\n",
    "\n",
    "true_corrs = np.corrcoef(true_data, rowvar=False).ravel()\n",
    "estimated_corrs = corr_scdd.ravel()\n",
    "corr_cond = np.isfinite(estimated_corrs)\n",
    "true_corrs = true_corrs[corr_cond]\n",
    "estimated_corrs = estimated_corrs[corr_cond]\n",
    "    \n",
    "condition = np.log(var_scdd) > -20"
   ]
  },
  {
   "cell_type": "code",
   "execution_count": 654,
   "metadata": {},
   "outputs": [],
   "source": [
    "means = np.log(np.outer(mean_scdd, mean_scdd).ravel())\n",
    "estimated_corrs = corr_scdd.ravel()\n",
    "raw_corrs = np.corrcoef(captured_data, rowvar=False).ravel()\n",
    "true_corrs = np.corrcoef(true_data, rowvar=False).ravel()\n",
    "norm_captured_data = captured_data / captured_data.sum(axis=1).reshape(-1, 1)\n",
    "norm_corrs = np.corrcoef(norm_captured_data, rowvar=False).ravel()\n",
    "norm_means = np.log(np.outer(norm_captured_data.mean(axis=0),norm_captured_data.mean(axis=0))).ravel()"
   ]
  },
  {
   "cell_type": "code",
   "execution_count": 655,
   "metadata": {},
   "outputs": [],
   "source": [
    "sample_idxs = np.random.choice(means.shape[0], 10000)"
   ]
  },
  {
   "cell_type": "code",
   "execution_count": 656,
   "metadata": {},
   "outputs": [
    {
     "data": {
      "text/plain": [
       "(0.6290164568787581, 0.0)"
      ]
     },
     "execution_count": 656,
     "metadata": {},
     "output_type": "execute_result"
    },
    {
     "data": {
      "image/png": "[encoded data removed]",
      "text/plain": [
       "<Figure size 432x288 with 1 Axes>"
      ]
     },
     "metadata": {
      "needs_background": "light"
     },
     "output_type": "display_data"
    }
   ],
   "source": [
    "plt.scatter(means[sample_idxs], raw_corrs[sample_idxs], s=1)\n",
    "condition = np.isfinite(raw_corrs[sample_idxs])\n",
    "stats.pearsonr(means[sample_idxs][condition], raw_corrs[sample_idxs][condition])"
   ]
  },
  {
   "cell_type": "code",
   "execution_count": 657,
   "metadata": {},
   "outputs": [
    {
     "data": {
      "text/plain": [
       "(-0.008869409665721239, 0.375686925836576)"
      ]
     },
     "execution_count": 657,
     "metadata": {},
     "output_type": "execute_result"
    },
    {
     "data": {
      "image/png": "[encoded data removed]",
      "text/plain": [
       "<Figure size 432x288 with 1 Axes>"
      ]
     },
     "metadata": {
      "needs_background": "light"
     },
     "output_type": "display_data"
    }
   ],
   "source": [
    "plt.scatter(norm_means[sample_idxs], norm_corrs[sample_idxs], s=1)\n",
    "condition = np.isfinite(norm_corrs[sample_idxs])\n",
    "stats.pearsonr(norm_means[sample_idxs][condition], norm_corrs[sample_idxs][condition])"
   ]
  },
  {
   "cell_type": "code",
   "execution_count": 480,
   "metadata": {},
   "outputs": [
    {
     "data": {
      "text/plain": [
       "Text(0, 0.5, 'estimated correlation')"
      ]
     },
     "execution_count": 480,
     "metadata": {},
     "output_type": "execute_result"
    },
    {
     "data": {
      "image/png": "[encoded data removed]",
      "text/plain": [
       "<Figure size 432x288 with 1 Axes>"
      ]
     },
     "metadata": {
      "needs_background": "light"
     },
     "output_type": "display_data"
    }
   ],
   "source": [
    "plt.scatter(means[sample_idxs], estimated_corrs[sample_idxs], s=1)\n",
    "condition = np.isfinite(estimated_corrs[sample_idxs]) & np.isfinite(means[sample_idxs])\n",
    "stats.pearsonr(means[sample_idxs][condition], estimated_corrs[sample_idxs][condition])\n",
    "# plt.ylim(-0.25, 0.25)\n",
    "plt.xlabel('Product of mean (log)');plt.ylabel('estimated correlation')"
   ]
  }
 ],
 "metadata": {
  "kernelspec": {
   "display_name": "Python 3",
   "language": "python",
   "name": "python3"
  },
  "language_info": {
   "codemirror_mode": {
    "name": "ipython",
    "version": 3
   },
   "file_extension": ".py",
   "mimetype": "text/x-python",
   "name": "python",
   "nbconvert_exporter": "python",
   "pygments_lexer": "ipython3",
   "version": "3.7.5"
  }
 },
 "nbformat": 4,
 "nbformat_minor": 4
}
