{
 "cells": [
  {
   "cell_type": "markdown",
   "metadata": {},
   "source": [
    "# Estimator validation\n",
    "\n",
    "This notebook contains code to generate Figure 2 of the paper. \n",
    "\n",
    "This notebook also serves to compare the estimates of the re-implemented scmemo with sceb package from Vasilis. \n"
   ]
  },
  {
   "cell_type": "code",
   "execution_count": 1,
   "metadata": {},
   "outputs": [],
   "source": [
    "import pandas as pd\n",
    "import matplotlib.pyplot as plt\n",
    "import scanpy as sc\n",
    "import scipy as sp\n",
    "import itertools\n",
    "import numpy as np\n",
    "import scipy.stats as stats\n",
    "from scipy.integrate import dblquad\n",
    "import seaborn as sns\n",
    "from statsmodels.stats.multitest import fdrcorrection\n",
    "import imp\n",
    "pd.options.display.max_rows = 999\n",
    "pd.set_option('display.max_colwidth', -1)\n",
    "import pickle as pkl\n",
    "import time"
   ]
  },
  {
   "cell_type": "code",
   "execution_count": 2,
   "metadata": {},
   "outputs": [],
   "source": [
    "import matplotlib as mpl\n",
    "mpl.rcParams['pdf.fonttype'] = 42\n",
    "mpl.rcParams['ps.fonttype'] = 42\n",
    "\n",
    "import matplotlib.pylab as pylab\n",
    "params = {'legend.fontsize': 'x-small',\n",
    "         'axes.labelsize': 'medium',\n",
    "         'axes.titlesize':'medium',\n",
    "         'figure.titlesize':'medium',\n",
    "         'xtick.labelsize':'xx-small',\n",
    "         'ytick.labelsize':'xx-small'}\n",
    "pylab.rcParams.update(params)\n"
   ]
  },
  {
   "cell_type": "code",
   "execution_count": 3,
   "metadata": {},
   "outputs": [
    {
     "name": "stderr",
     "output_type": "stream",
     "text": [
      "/data/home/anaconda3/envs/single_cell/lib/python3.7/site-packages/scanpy/api/__init__.py:6: FutureWarning: \n",
      "\n",
      "In a future version of Scanpy, `scanpy.api` will be removed.\n",
      "Simply use `import scanpy as sc` and `import scanpy.external as sce` instead.\n",
      "\n",
      "  FutureWarning,\n"
     ]
    }
   ],
   "source": [
    "import sys\n",
    "sys.path.append('/data/home/Github/scrna-parameter-estimation/dist/schypo-0.0.0-py3.7.egg')\n",
    "import schypo"
   ]
  },
  {
   "cell_type": "code",
   "execution_count": 4,
   "metadata": {},
   "outputs": [],
   "source": [
    "import sys\n",
    "sys.path.append('/data/home/Github/single_cell_eb/')\n",
    "sys.path.append('/data/home/Github/single_cell_eb/sceb/')\n",
    "import scdd"
   ]
  },
  {
   "cell_type": "code",
   "execution_count": 5,
   "metadata": {},
   "outputs": [],
   "source": [
    "data_path = '/data/parameter_estimation/'\n",
    "fig_path = '/data/home/Github/scrna-parameter-estimation/figures/fig3/'"
   ]
  },
  {
   "cell_type": "markdown",
   "metadata": {},
   "source": [
    "### Check 1D estimates of `sceb` with `scmemo`\n",
    "\n",
    "Using the Poisson model. The outputs should be identical, this is for checking the implementation. "
   ]
  },
  {
   "cell_type": "code",
   "execution_count": 6,
   "metadata": {},
   "outputs": [
    {
     "ename": "TypeError",
     "evalue": "simulate_transcriptomes() missing 3 required positional arguments: 'variances', 'corr', and 'Nc'",
     "output_type": "error",
     "traceback": [
      "\u001b[0;31m---------------------------------------------------------------------------\u001b[0m",
      "\u001b[0;31mTypeError\u001b[0m                                 Traceback (most recent call last)",
      "\u001b[0;32m<ipython-input-6-93b216c10e81>\u001b[0m in \u001b[0;36m<module>\u001b[0;34m\u001b[0m\n\u001b[0;32m----> 1\u001b[0;31m \u001b[0mdata\u001b[0m \u001b[0;34m=\u001b[0m \u001b[0msp\u001b[0m\u001b[0;34m.\u001b[0m\u001b[0msparse\u001b[0m\u001b[0;34m.\u001b[0m\u001b[0mcsr_matrix\u001b[0m\u001b[0;34m(\u001b[0m\u001b[0msimulate\u001b[0m\u001b[0;34m.\u001b[0m\u001b[0msimulate_transcriptomes\u001b[0m\u001b[0;34m(\u001b[0m\u001b[0;36m100\u001b[0m\u001b[0;34m,\u001b[0m \u001b[0;36m20\u001b[0m\u001b[0;34m)\u001b[0m\u001b[0;34m)\u001b[0m\u001b[0;34m\u001b[0m\u001b[0;34m\u001b[0m\u001b[0m\n\u001b[0m\u001b[1;32m      2\u001b[0m \u001b[0madata\u001b[0m \u001b[0;34m=\u001b[0m \u001b[0msc\u001b[0m\u001b[0;34m.\u001b[0m\u001b[0mAnnData\u001b[0m\u001b[0;34m(\u001b[0m\u001b[0mdata\u001b[0m\u001b[0;34m)\u001b[0m\u001b[0;34m\u001b[0m\u001b[0;34m\u001b[0m\u001b[0m\n\u001b[1;32m      3\u001b[0m \u001b[0msize_factors\u001b[0m \u001b[0;34m=\u001b[0m \u001b[0mscdd\u001b[0m\u001b[0;34m.\u001b[0m\u001b[0mdd_size_factor\u001b[0m\u001b[0;34m(\u001b[0m\u001b[0madata\u001b[0m\u001b[0;34m)\u001b[0m\u001b[0;34m\u001b[0m\u001b[0;34m\u001b[0m\u001b[0m\n\u001b[1;32m      4\u001b[0m \u001b[0mNr\u001b[0m \u001b[0;34m=\u001b[0m \u001b[0mdata\u001b[0m\u001b[0;34m.\u001b[0m\u001b[0msum\u001b[0m\u001b[0;34m(\u001b[0m\u001b[0maxis\u001b[0m\u001b[0;34m=\u001b[0m\u001b[0;36m1\u001b[0m\u001b[0;34m)\u001b[0m\u001b[0;34m.\u001b[0m\u001b[0mmean\u001b[0m\u001b[0;34m(\u001b[0m\u001b[0;34m)\u001b[0m\u001b[0;34m\u001b[0m\u001b[0;34m\u001b[0m\u001b[0m\n",
      "\u001b[0;31mTypeError\u001b[0m: simulate_transcriptomes() missing 3 required positional arguments: 'variances', 'corr', and 'Nc'"
     ]
    }
   ],
   "source": [
    "data = sp.sparse.csr_matrix(simulate.simulate_transcriptomes(100, 20))\n",
    "adata = sc.AnnData(data)\n",
    "size_factors = scdd.dd_size_factor(adata)\n",
    "Nr = data.sum(axis=1).mean()"
   ]
  },
  {
   "cell_type": "code",
   "execution_count": 366,
   "metadata": {},
   "outputs": [
    {
     "name": "stdout",
     "output_type": "stream",
     "text": [
      "#time start: 0.0s\n",
      "n_cell=100, n_gene=20\n",
      "#total: 0.00s\n",
      "[4.74246764e-04 2.16724484e-05 1.14337117e-03 7.46091205e-05\n",
      " 6.65347837e-07 7.17219013e-04 7.96531075e-03 3.91099701e-06\n",
      " 1.64507082e-02 3.84667583e-03 7.84108689e-06 1.43883179e-04\n",
      " 2.81830666e-05 9.81110182e-05 1.03061858e-05 4.03388782e-05\n",
      " 6.19324951e-05 5.42577158e-05 5.06431789e-04 7.94388643e-04]\n"
     ]
    }
   ],
   "source": [
    "_, M_dd = scdd.dd_1d_moment(adata, size_factor=scdd.dd_size_factor(adata), Nr=Nr)\n",
    "var_scdd = scdd.M_to_var(M_dd)\n",
    "print(var_scdd)"
   ]
  },
  {
   "cell_type": "code",
   "execution_count": 367,
   "metadata": {},
   "outputs": [
    {
     "name": "stdout",
     "output_type": "stream",
     "text": [
      "[4.74246799e-04 2.16724457e-05 1.14337131e-03 7.46090879e-05\n",
      " 6.65347773e-07 7.17218901e-04 7.96521422e-03 3.91099630e-06\n",
      " 1.64506777e-02 3.84667605e-03 7.84108820e-06 1.43883178e-04\n",
      " 2.81830621e-05 9.81110245e-05 1.03061852e-05 4.03388775e-05\n",
      " 6.19324956e-05 5.42577065e-05 5.06432063e-04 7.94388796e-04]\n"
     ]
    }
   ],
   "source": [
    "imp.reload(estimator)\n",
    "mean_scmemo, var_scmemo = estimator._poisson_1d(data, data.shape[0], estimator._estimate_size_factor(data))\n",
    "print(var_scmemo)"
   ]
  },
  {
   "cell_type": "code",
   "execution_count": 9,
   "metadata": {},
   "outputs": [],
   "source": [
    "df = pd.DataFrame()\n",
    "df['size_factor'] = size_factors\n",
    "df['inv_size_factor'] = 1/size_factors\n",
    "df['inv_size_factor_sq'] = 1/size_factors**2\n",
    "df['expr'] = data[:, 0].todense().A1\n",
    "precomputed_size_factors = df.groupby('expr')['inv_size_factor'].mean(), df.groupby('expr')['inv_size_factor_sq'].mean()"
   ]
  },
  {
   "cell_type": "code",
   "execution_count": 10,
   "metadata": {},
   "outputs": [
    {
     "name": "stdout",
     "output_type": "stream",
     "text": [
      "[0.5217290008068085, 0.9860336223993191]\n"
     ]
    }
   ],
   "source": [
    "imp.reload(estimator)\n",
    "expr, count = np.unique(data[:, 0].todense().A1, return_counts=True)\n",
    "print(estimator._poisson_1d((expr, count), data.shape[0], precomputed_size_factors))"
   ]
  },
  {
   "cell_type": "markdown",
   "metadata": {},
   "source": [
    "### Check 2D estimates of `sceb` and `scmemo`\n",
    "\n",
    "Using the Poisson model. The outputs should be identical, this is for checking the implementation. "
   ]
  },
  {
   "cell_type": "code",
   "execution_count": 6,
   "metadata": {},
   "outputs": [
    {
     "ename": "NameError",
     "evalue": "name 'simulate' is not defined",
     "output_type": "error",
     "traceback": [
      "\u001b[0;31m---------------------------------------------------------------------------\u001b[0m",
      "\u001b[0;31mNameError\u001b[0m                                 Traceback (most recent call last)",
      "\u001b[0;32m<ipython-input-6-19d1f9976e0d>\u001b[0m in \u001b[0;36m<module>\u001b[0;34m\u001b[0m\n\u001b[0;32m----> 1\u001b[0;31m \u001b[0mdata\u001b[0m \u001b[0;34m=\u001b[0m \u001b[0msp\u001b[0m\u001b[0;34m.\u001b[0m\u001b[0msparse\u001b[0m\u001b[0;34m.\u001b[0m\u001b[0mcsr_matrix\u001b[0m\u001b[0;34m(\u001b[0m\u001b[0msimulate\u001b[0m\u001b[0;34m.\u001b[0m\u001b[0msimulate_transcriptomes\u001b[0m\u001b[0;34m(\u001b[0m\u001b[0;36m1000\u001b[0m\u001b[0;34m,\u001b[0m \u001b[0;36m4\u001b[0m\u001b[0;34m)\u001b[0m\u001b[0;34m)\u001b[0m\u001b[0;34m\u001b[0m\u001b[0;34m\u001b[0m\u001b[0m\n\u001b[0m\u001b[1;32m      2\u001b[0m \u001b[0madata\u001b[0m \u001b[0;34m=\u001b[0m \u001b[0msc\u001b[0m\u001b[0;34m.\u001b[0m\u001b[0mAnnData\u001b[0m\u001b[0;34m(\u001b[0m\u001b[0mdata\u001b[0m\u001b[0;34m)\u001b[0m\u001b[0;34m\u001b[0m\u001b[0;34m\u001b[0m\u001b[0m\n\u001b[1;32m      3\u001b[0m \u001b[0msize_factors\u001b[0m \u001b[0;34m=\u001b[0m \u001b[0mscdd\u001b[0m\u001b[0;34m.\u001b[0m\u001b[0mdd_size_factor\u001b[0m\u001b[0;34m(\u001b[0m\u001b[0madata\u001b[0m\u001b[0;34m)\u001b[0m\u001b[0;34m\u001b[0m\u001b[0;34m\u001b[0m\u001b[0m\n",
      "\u001b[0;31mNameError\u001b[0m: name 'simulate' is not defined"
     ]
    }
   ],
   "source": [
    "data = sp.sparse.csr_matrix(simulate.simulate_transcriptomes(1000, 4))\n",
    "adata = sc.AnnData(data)\n",
    "size_factors = scdd.dd_size_factor(adata)"
   ]
  },
  {
   "cell_type": "code",
   "execution_count": 12,
   "metadata": {},
   "outputs": [
    {
     "name": "stdout",
     "output_type": "stream",
     "text": [
      "[[  9.66801891  -1.45902975  -1.97166503 -10.13305759]\n",
      " [ -1.45902975   3.37530982  -0.83509601  -2.76389597]\n",
      " [ -1.97166503  -0.83509601   2.51976446  -2.9553916 ]\n",
      " [-10.13305759  -2.76389597  -2.9553916    1.48619472]]\n"
     ]
    },
    {
     "name": "stderr",
     "output_type": "stream",
     "text": [
      "/home/ssm-user/Github/single_cell_eb/sceb/scdd.py:237: RuntimeWarning: divide by zero encountered in true_divide\n",
      "  row_weight = 1/size_factor\n"
     ]
    }
   ],
   "source": [
    "mean_scdd, cov_scdd, corr_scdd = scdd.dd_covariance(adata, size_factors)\n",
    "print(cov_scdd)"
   ]
  },
  {
   "cell_type": "code",
   "execution_count": 13,
   "metadata": {},
   "outputs": [
    {
     "name": "stdout",
     "output_type": "stream",
     "text": [
      "[[ -1.45902975  -1.97166503 -10.13305759]\n",
      " [  3.37530982  -0.83509601  -2.76389597]\n",
      " [ -0.83509601   2.51976446  -2.9553916 ]]\n"
     ]
    },
    {
     "name": "stderr",
     "output_type": "stream",
     "text": [
      "/home/ssm-user/Github/scrna-parameter-estimation/scmemo/estimator.py:122: RuntimeWarning: divide by zero encountered in true_divide\n",
      "  row_weight = (1/size_factor).reshape([1, -1]) if size_factor is not None else np.ones(data.shape[0]).reshape([1, -1])\n"
     ]
    }
   ],
   "source": [
    "imp.reload(estimator)\n",
    "cov_scmemo = estimator._poisson_cov(data, data.shape[0], size_factors, idx1=[0, 1, 2], idx2=[1, 2, 3])\n",
    "print(cov_scmemo)"
   ]
  },
  {
   "cell_type": "code",
   "execution_count": 14,
   "metadata": {},
   "outputs": [
    {
     "name": "stderr",
     "output_type": "stream",
     "text": [
      "/home/ssm-user/anaconda3/envs/single_cell/lib/python3.7/site-packages/ipykernel_launcher.py:5: RuntimeWarning: divide by zero encountered in true_divide\n",
      "  \"\"\"\n",
      "/home/ssm-user/anaconda3/envs/single_cell/lib/python3.7/site-packages/ipykernel_launcher.py:6: RuntimeWarning: divide by zero encountered in true_divide\n",
      "  \n"
     ]
    }
   ],
   "source": [
    "expr, count = np.unique(data[:, :2].toarray(), return_counts=True, axis=0)\n",
    "\n",
    "df = pd.DataFrame()\n",
    "df['size_factor'] = size_factors\n",
    "df['inv_size_factor'] = 1/size_factors\n",
    "df['inv_size_factor_sq'] = 1/size_factors**2\n",
    "df['expr1'] = data[:, 0].todense().A1\n",
    "df['expr2'] = data[:, 1].todense().A1\n",
    "\n",
    "precomputed_size_factors = df.groupby(['expr1', 'expr2'])['inv_size_factor'].mean(), df.groupby(['expr1', 'expr2'])['inv_size_factor_sq'].mean()"
   ]
  },
  {
   "cell_type": "code",
   "execution_count": 15,
   "metadata": {},
   "outputs": [
    {
     "name": "stdout",
     "output_type": "stream",
     "text": [
      "-1.4590297282462616\n"
     ]
    }
   ],
   "source": [
    "cov_scmemo = estimator._poisson_cov((expr[:, 0], expr[:, 1], count), data.shape[0], size_factor=precomputed_size_factors)\n",
    "print(cov_scmemo)"
   ]
  },
  {
   "cell_type": "markdown",
   "metadata": {},
   "source": [
    "### Extract parameters from interferon dataset"
   ]
  },
  {
   "cell_type": "code",
   "execution_count": 7,
   "metadata": {},
   "outputs": [],
   "source": [
    "adata = sc.read(data_path + 'interferon_filtered.h5ad')\n",
    "adata = adata[adata.obs.cell_type == 'CD4 T cells - ctrl']\n",
    "data = adata.X.copy()\n",
    "relative_data = data.toarray()/data.sum(axis=1)"
   ]
  },
  {
   "cell_type": "code",
   "execution_count": 8,
   "metadata": {},
   "outputs": [],
   "source": [
    "q = 0.07\n",
    "x_param, z_param, Nc, good_idx = schypo.simulate.extract_parameters(adata.X, q=q, min_mean=q)"
   ]
  },
  {
   "cell_type": "code",
   "execution_count": 947,
   "metadata": {},
   "outputs": [],
   "source": [
    "imp.reload(simulate)\n",
    "\n",
    "transcriptome = simulate.simulate_transcriptomes(\n",
    "    n_cells=10000, \n",
    "    means=z_param[0],\n",
    "    variances=z_param[1],\n",
    "    corr=x_param[2],\n",
    "    Nc=Nc)\n",
    "relative_transcriptome = transcriptome/transcriptome.sum(axis=1).reshape(-1, 1)\n",
    "\n",
    "qs, captured_data = simulate.capture_sampling(transcriptome, q=q, q_sq=q**2+1e-10)"
   ]
  },
  {
   "cell_type": "code",
   "execution_count": 948,
   "metadata": {},
   "outputs": [],
   "source": [
    "def qqplot(x, y, s=1):\n",
    "    \n",
    "    plt.scatter(\n",
    "        np.quantile(x, np.linspace(0, 1, 1000)),\n",
    "        np.quantile(y, np.linspace(0, 1, 1000)),\n",
    "        s=s)\n",
    "\n",
    "    plt.plot(x, x, lw=1, color='m')"
   ]
  },
  {
   "cell_type": "code",
   "execution_count": 980,
   "metadata": {},
   "outputs": [
    {
     "data": {
      "image/png": "[encoded data removed]",
      "text/plain": [
       "<Figure size 576x144 with 3 Axes>"
      ]
     },
     "metadata": {
      "needs_background": "light"
     },
     "output_type": "display_data"
    }
   ],
   "source": [
    "plt.figure(figsize=(8, 2));\n",
    "plt.subplots_adjust(wspace=0.2);\n",
    "\n",
    "plt.subplot(1, 3, 1);\n",
    "sns.distplot(np.log(captured_data.mean(axis=0)), hist=False, label='Simulated')\n",
    "sns.distplot(np.log(data[:, good_idx].toarray().var(axis=0)), hist=False, label='Real')\n",
    "plt.xlabel('Log(mean)')\n",
    "\n",
    "plt.subplot(1, 3, 2);\n",
    "sns.distplot(np.log(captured_data.var(axis=0)), hist=False)\n",
    "sns.distplot(np.log(data[:, good_idx].toarray().var(axis=0)), hist=False)\n",
    "plt.xlabel('Log(variance)')\n",
    "\n",
    "plt.subplot(1, 3, 3);\n",
    "sns.distplot(np.log(captured_data.sum(axis=1)), hist=False)\n",
    "sns.distplot(np.log(data.toarray().sum(axis=1)), hist=False)\n",
    "plt.xlabel('Log(total UMI count)')\n",
    "\n",
    "plt.savefig(figpath + 'simulation_stats.png', bbox_inches='tight')"
   ]
  },
  {
   "cell_type": "markdown",
   "metadata": {},
   "source": [
    "### Compare datasets generated by Poisson and hypergeometric processes"
   ]
  },
  {
   "cell_type": "code",
   "execution_count": 1058,
   "metadata": {},
   "outputs": [],
   "source": [
    "_, poi_captured = simulate.capture_sampling(transcriptome, q=q, process='poisson')\n",
    "_, hyper_captured = simulate.capture_sampling(transcriptome, q=q, process='hyper')"
   ]
  },
  {
   "cell_type": "code",
   "execution_count": 1071,
   "metadata": {},
   "outputs": [],
   "source": [
    "q_list = [0.05, 0.1, 0.2, 0.3, 0.5]"
   ]
  },
  {
   "cell_type": "code",
   "execution_count": 1074,
   "metadata": {},
   "outputs": [
    {
     "data": {
      "image/png": "[encoded data removed]",
      "text/plain": [
       "<Figure size 576x144 with 5 Axes>"
      ]
     },
     "metadata": {
      "needs_background": "light"
     },
     "output_type": "display_data"
    }
   ],
   "source": [
    "plt.figure(figsize=(8, 2))\n",
    "plt.subplots_adjust(wspace=0.3)\n",
    "for idx, q in enumerate(q_list):\n",
    "    \n",
    "    _, poi_captured = simulate.capture_sampling(transcriptome, q=q, process='poisson')\n",
    "    _, hyper_captured = simulate.capture_sampling(transcriptome, q=q, process='hyper')\n",
    "    relative_poi_captured = poi_captured/poi_captured.sum(axis=1).reshape(-1, 1)\n",
    "    relative_hyper_captured = hyper_captured/hyper_captured.sum(axis=1).reshape(-1, 1)\n",
    "    \n",
    "    poi_corr = np.corrcoef(relative_poi_captured, rowvar=False)\n",
    "    hyper_corr = np.corrcoef(relative_hyper_captured, rowvar=False)\n",
    "\n",
    "    sample_idx = np.random.choice(poi_corr.ravel().shape[0], 100000)\n",
    "    \n",
    "    plt.subplot(1, len(q_list), idx+1)\n",
    "    plt.scatter(poi_corr.ravel()[sample_idx], hyper_corr.ravel()[sample_idx], s=1, alpha=1)\n",
    "    plt.plot([-1, 1], [-1, 1], 'm', lw=1)\n",
    "#     plt.xlim([-0.3, 0.4])\n",
    "#     plt.ylim([-0.3, 0.4])\n",
    "    \n",
    "    if idx != 0:\n",
    "        plt.yticks([])\n",
    "    plt.title('q={}'.format(q))\n",
    "plt.savefig(figpath + 'poi_vs_hyp_sim_corr.png', bbox_inches='tight')"
   ]
  },
  {
   "cell_type": "markdown",
   "metadata": {},
   "source": [
    "### Compare Poisson vs HG estimators"
   ]
  },
  {
   "cell_type": "code",
   "execution_count": 57,
   "metadata": {},
   "outputs": [],
   "source": [
    "def compare_esimators(q, plot=False, true_data=None, var_q=1e-10):\n",
    "    \n",
    "    q_sq = var_q + q**2\n",
    "    \n",
    "    true_data = schypo.simulate.simulate_transcriptomes(1000, 1000, correlated=True) if true_data is None else true_data\n",
    "    true_relative_data = true_data / true_data.sum(axis=1).reshape(-1, 1)\n",
    "\n",
    "    qs, captured_data = schypo.simulate.capture_sampling(true_data, q, q_sq)\n",
    "    Nr = captured_data.sum(axis=1).mean()\n",
    "    captured_relative_data = captured_data/captured_data.sum(axis=1).reshape(-1, 1)\n",
    "    adata = sc.AnnData(sp.sparse.csr_matrix(captured_data))\n",
    "    sf = schypo.estimator._estimate_size_factor(adata.X, 'hyper_relative')\n",
    "\n",
    "    good_idx = (captured_data.mean(axis=0) > q)\n",
    "\n",
    "    # True moments\n",
    "    m_true, v_true, corr_true = true_relative_data.mean(axis=0), true_relative_data.var(axis=0), np.corrcoef(true_relative_data, rowvar=False)\n",
    "\n",
    "    # Compute 1D moments\n",
    "    m_obs, v_obs = captured_relative_data.mean(axis=0), captured_relative_data.var(axis=0)\n",
    "    m_poi, v_poi = schypo.estimator._poisson_1d_relative(adata.X, size_factor=sf, n_obs=true_data.shape[0])\n",
    "    m_hyp, v_hyp = schypo.estimator._hyper_1d_relative(adata.X, size_factor=sf, n_obs=true_data.shape[0], q=q)\n",
    "\n",
    "    # Compute 2D moments\n",
    "    corr_obs = np.corrcoef(captured_relative_data, rowvar=False)\n",
    "#     corr_obs = corr_obs[np.triu_indices(corr_obs.shape[0])]\n",
    "        \n",
    "    idx1 = np.array([i for i,j in itertools.combinations(range(adata.shape[1]), 2) if good_idx[i] and good_idx[j]])\n",
    "    idx2 = np.array([j for i,j in itertools.combinations(range(adata.shape[1]), 2) if good_idx[i] and good_idx[j]])\n",
    "    sample_idx = np.random.choice(idx1.shape[0], 10000)\n",
    "    \n",
    "    idx1 = idx1[sample_idx]\n",
    "    idx2 = idx2[sample_idx]\n",
    "\n",
    "    corr_true = corr_true[(idx1, idx2)]\n",
    "    corr_obs = corr_obs[(idx1, idx2)]\n",
    "    \n",
    "    cov_poi = schypo.estimator._poisson_cov_relative(adata.X, n_obs=adata.shape[0], size_factor=sf, idx1=idx1, idx2=idx2)\n",
    "    cov_hyp = schypo.estimator._hyper_cov_relative(adata.X, n_obs=adata.shape[0], size_factor=sf, idx1=idx1, idx2=idx2, q=q)\n",
    "    corr_poi = schypo.estimator._corr_from_cov(cov_poi, v_poi[idx1], v_poi[idx2])\n",
    "    corr_hyp = schypo.estimator._corr_from_cov(cov_hyp, v_hyp[idx1], v_hyp[idx2])\n",
    "\n",
    "    corr_poi[np.abs(corr_poi) > 1] = np.nan\n",
    "    corr_hyp[np.abs(corr_hyp) > 1] = np.nan\n",
    "\n",
    "    mean_list = [m_obs, m_poi, m_hyp]\n",
    "    var_list = [v_obs, v_poi, v_hyp]\n",
    "    corr_list = [corr_obs, corr_poi, corr_hyp]\n",
    "    estimated_list = [mean_list, var_list, corr_list]\n",
    "    true_list = [m_true, v_true, corr_true]\n",
    "\n",
    "    if plot:\n",
    "        count = 0\n",
    "        for j in range(3):\n",
    "            for i in range(3):\n",
    "\n",
    "                plt.subplot(3, 3, count+1)\n",
    "\n",
    "\n",
    "                if i != 2:\n",
    "                    plt.scatter(\n",
    "                        np.log(true_list[i][good_idx]),\n",
    "                        np.log(estimated_list[i][j][good_idx]),\n",
    "                        s=0.1)\n",
    "                    plt.plot(np.log(true_list[i][good_idx]), np.log(true_list[i][good_idx]), linestyle='--', color='m')\n",
    "                    plt.xlim(np.log(true_list[i][good_idx]).min(), np.log(true_list[i][good_idx]).max())\n",
    "                    plt.ylim(np.log(true_list[i][good_idx]).min(), np.log(true_list[i][good_idx]).max())\n",
    "\n",
    "                else:\n",
    "\n",
    "                    x = true_list[i]\n",
    "                    y = estimated_list[i][j]\n",
    "                    \n",
    "                    print(x.shape, y.shape)\n",
    "\n",
    "                    plt.scatter(\n",
    "                        x,\n",
    "                        y,\n",
    "                        s=0.1)\n",
    "                    plt.plot([-1, 1], [-1, 1],linestyle='--', color='m')\n",
    "                    plt.xlim(-1, 1);\n",
    "                    plt.ylim(-1, 1);\n",
    "                    \n",
    "#                 if not (i == j):\n",
    "#                     plt.yticks([]);\n",
    "#                     plt.xticks([]);\n",
    "                    \n",
    "                if i == 1 or i == 0:\n",
    "                    \n",
    "                    print((np.log(true_list[i][good_idx]) > np.log(estimated_list[i][j][good_idx])).mean())\n",
    "\n",
    "                count += 1\n",
    "    else:\n",
    "        return qs, good_idx, estimated_list, true_list"
   ]
  },
  {
   "cell_type": "code",
   "execution_count": 7,
   "metadata": {},
   "outputs": [],
   "source": [
    "import matplotlib.pylab as pylab\n",
    "params = {'legend.fontsize': 'small',\n",
    "         'axes.labelsize': 'medium',\n",
    "         'axes.titlesize':'medium',\n",
    "         'figure.titlesize':'medium',\n",
    "         'xtick.labelsize':'xx-small',\n",
    "         'ytick.labelsize':'xx-small'}\n",
    "pylab.rcParams.update(params)"
   ]
  },
  {
   "cell_type": "code",
   "execution_count": 26,
   "metadata": {},
   "outputs": [
    {
     "name": "stderr",
     "output_type": "stream",
     "text": [
      "/data/home/Github/scrna-parameter-estimation/scmemo/estimator.py:204: RuntimeWarning: invalid value encountered in less_equal\n",
      "  var_2[var_2 <= 0] = np.nan\n",
      "/data/home/anaconda3/envs/single_cell/lib/python3.7/site-packages/ipykernel_launcher.py:31: RuntimeWarning: invalid value encountered in greater\n"
     ]
    },
    {
     "name": "stdout",
     "output_type": "stream",
     "text": [
      "0.4977753058954394\n",
      "0.002224694104560623\n",
      "0.4977753058954394\n",
      "0.9977753058954394\n"
     ]
    },
    {
     "name": "stderr",
     "output_type": "stream",
     "text": [
      "/data/home/anaconda3/envs/single_cell/lib/python3.7/site-packages/ipykernel_launcher.py:78: RuntimeWarning: invalid value encountered in greater\n"
     ]
    },
    {
     "name": "stdout",
     "output_type": "stream",
     "text": [
      "0.4977753058954394\n",
      "0.489432703003337\n"
     ]
    },
    {
     "data": {
      "image/png": "[encoded data removed]",
      "text/plain": [
       "<Figure size 288x288 with 9 Axes>"
      ]
     },
     "metadata": {
      "needs_background": "light"
     },
     "output_type": "display_data"
    }
   ],
   "source": [
    "imp.reload(simulate)\n",
    "\n",
    "q = 0.4\n",
    "plt.figure(figsize=(4, 4))\n",
    "plt.subplots_adjust(wspace=0.5, hspace=0.5)\n",
    "true_data = simulate.simulate_transcriptomes(n_cells=10000, means=z_param[0], variances=z_param[1],\n",
    "    corr=x_param[2],\n",
    "    Nc=Nc)\n",
    "compare_esimators(q, plot=True, true_data=true_data)\n",
    "plt.savefig(fig_path + 'poi_vs_hyper_scatter_2.png', bbox_inches='tight')"
   ]
  },
  {
   "cell_type": "code",
   "execution_count": 10,
   "metadata": {},
   "outputs": [
    {
     "data": {
      "text/plain": [
       "<Figure size 288x288 with 0 Axes>"
      ]
     },
     "metadata": {},
     "output_type": "display_data"
    }
   ],
   "source": [
    "q = 0.1\n",
    "plt.figure(figsize=(4, 4))\n",
    "plt.subplots_adjust(wspace=0.5, hspace=0.5)\n",
    "true_data = schypo.simulate.simulate_transcriptomes(n_cells=10000, means=z_param[0], variances=z_param[1], Nc=Nc)\n",
    "# compare_esimators(q, plot=True, true_data=true_data)\n",
    "# plt.savefig(fig_path + 'poi_vs_hyper_scatter_1.png', bbox_inches='tight')"
   ]
  },
  {
   "cell_type": "code",
   "execution_count": 75,
   "metadata": {},
   "outputs": [
    {
     "name": "stderr",
     "output_type": "stream",
     "text": [
      "/data/home/anaconda3/envs/single_cell/lib/python3.7/site-packages/ipykernel_launcher.py:43: RuntimeWarning: invalid value encountered in greater\n",
      "/data/home/anaconda3/envs/single_cell/lib/python3.7/site-packages/ipykernel_launcher.py:44: RuntimeWarning: invalid value encountered in greater\n",
      "/data/home/anaconda3/envs/single_cell/lib/python3.7/site-packages/ipykernel_launcher.py:63: RuntimeWarning: invalid value encountered in log\n",
      "/data/home/anaconda3/envs/single_cell/lib/python3.7/site-packages/ipykernel_launcher.py:90: RuntimeWarning: invalid value encountered in log\n",
      "/data/home/anaconda3/envs/single_cell/lib/python3.7/site-packages/ipykernel_launcher.py:90: RuntimeWarning: invalid value encountered in greater\n"
     ]
    },
    {
     "name": "stdout",
     "output_type": "stream",
     "text": [
      "0.48329621380846327\n",
      "0.0\n",
      "(10000,) (10000,)\n",
      "0.48329621380846327\n",
      "0.8363028953229399\n",
      "(10000,) (10000,)\n",
      "0.48329621380846327\n",
      "0.5033407572383074\n",
      "(10000,) (10000,)\n"
     ]
    },
    {
     "data": {
      "image/png": "[encoded data removed]",
      "text/plain": [
       "<Figure size 288x288 with 9 Axes>"
      ]
     },
     "metadata": {
      "needs_background": "light"
     },
     "output_type": "display_data"
    }
   ],
   "source": [
    "q = 0.025\n",
    "plt.figure(figsize=(4, 4))\n",
    "plt.subplots_adjust(wspace=0.5, hspace=0.5)\n",
    "compare_esimators(q, plot=True, true_data=true_data)\n",
    "plt.savefig(fig_path + 'poi_vs_hyper_scatter_5.png', bbox_inches='tight')"
   ]
  },
  {
   "cell_type": "code",
   "execution_count": 72,
   "metadata": {},
   "outputs": [
    {
     "name": "stderr",
     "output_type": "stream",
     "text": [
      "/data/home/anaconda3/envs/single_cell/lib/python3.7/site-packages/ipykernel_launcher.py:43: RuntimeWarning: invalid value encountered in greater\n"
     ]
    },
    {
     "name": "stdout",
     "output_type": "stream",
     "text": [
      "0.4908485856905158\n",
      "0.0\n",
      "(10000,) (10000,)\n",
      "0.4908485856905158\n",
      "0.9966722129783694\n",
      "(10000,) (10000,)\n",
      "0.4908485856905158\n",
      "0.4963948973932335\n",
      "(10000,) (10000,)\n"
     ]
    },
    {
     "data": {
      "image/png": "[encoded data removed]",
      "text/plain": [
       "<Figure size 288x288 with 9 Axes>"
      ]
     },
     "metadata": {
      "needs_background": "light"
     },
     "output_type": "display_data"
    }
   ],
   "source": [
    "q = 0.4\n",
    "plt.figure(figsize=(4, 4))\n",
    "plt.subplots_adjust(wspace=0.5, hspace=0.5)\n",
    "compare_esimators(q, plot=True, true_data=true_data)\n",
    "plt.savefig(fig_path + 'poi_vs_hyper_scatter_40.png', bbox_inches='tight')"
   ]
  },
  {
   "cell_type": "code",
   "execution_count": 148,
   "metadata": {},
   "outputs": [
    {
     "name": "stderr",
     "output_type": "stream",
     "text": [
      "/data/home/anaconda3/envs/single_cell/lib/python3.7/site-packages/ipykernel_launcher.py:43: RuntimeWarning: invalid value encountered in greater\n",
      "/data/home/anaconda3/envs/single_cell/lib/python3.7/site-packages/ipykernel_launcher.py:44: RuntimeWarning: invalid value encountered in greater\n",
      "/data/home/anaconda3/envs/single_cell/lib/python3.7/site-packages/ipykernel_launcher.py:11: RuntimeWarning: invalid value encountered in log\n",
      "  # This is added back by InteractiveShellApp.init_path()\n",
      "/data/home/anaconda3/envs/single_cell/lib/python3.7/site-packages/ipykernel_launcher.py:43: RuntimeWarning: invalid value encountered in greater\n",
      "/data/home/anaconda3/envs/single_cell/lib/python3.7/site-packages/ipykernel_launcher.py:44: RuntimeWarning: invalid value encountered in greater\n",
      "/data/home/anaconda3/envs/single_cell/lib/python3.7/site-packages/ipykernel_launcher.py:11: RuntimeWarning: invalid value encountered in log\n",
      "  # This is added back by InteractiveShellApp.init_path()\n",
      "/data/home/anaconda3/envs/single_cell/lib/python3.7/site-packages/ipykernel_launcher.py:43: RuntimeWarning: invalid value encountered in greater\n",
      "/data/home/anaconda3/envs/single_cell/lib/python3.7/site-packages/ipykernel_launcher.py:11: RuntimeWarning: invalid value encountered in log\n",
      "  # This is added back by InteractiveShellApp.init_path()\n",
      "/data/home/anaconda3/envs/single_cell/lib/python3.7/site-packages/ipykernel_launcher.py:43: RuntimeWarning: invalid value encountered in greater\n",
      "/data/home/anaconda3/envs/single_cell/lib/python3.7/site-packages/ipykernel_launcher.py:43: RuntimeWarning: invalid value encountered in greater\n",
      "/data/home/anaconda3/envs/single_cell/lib/python3.7/site-packages/ipykernel_launcher.py:43: RuntimeWarning: invalid value encountered in greater\n",
      "/data/home/anaconda3/envs/single_cell/lib/python3.7/site-packages/ipykernel_launcher.py:43: RuntimeWarning: invalid value encountered in greater\n",
      "/data/home/anaconda3/envs/single_cell/lib/python3.7/site-packages/ipykernel_launcher.py:43: RuntimeWarning: invalid value encountered in greater\n"
     ]
    }
   ],
   "source": [
    "def compute_mse(x, y, log=True):\n",
    "    \n",
    "    if log:\n",
    "        return np.nanmean(np.abs(np.log(x)-np.log(y)))\n",
    "    else:\n",
    "        return np.nanmean(np.abs(x-y))\n",
    "\n",
    "def concordance(x, y, log=True):\n",
    "    \n",
    "    if log:\n",
    "        a = np.log(x)\n",
    "        b = np.log(y)\n",
    "    else:\n",
    "        a = x\n",
    "        b = y\n",
    "    cond = np.isfinite(a) & np.isfinite(b)\n",
    "    a = a[cond]\n",
    "    b = b[cond]\n",
    "    cmat = np.cov(a, b)\n",
    "    return 2*cmat[0,1]/(cmat[0,0] + cmat[1,1] + (a.mean()-b.mean())**2)\n",
    "    \n",
    "m_mse_list, v_mse_list, c_mse_list = [], [], []\n",
    "# true_data = schypo.simulate.simulate_transcriptomes(n_cells=10000, means=z_param[0], variances=z_param[1],\n",
    "#     Nc=Nc)\n",
    "q_list = [0.01, 0.025, 0.1, 0.15, 0.3, 0.5, 0.7, 0.99]\n",
    "qs_list = []\n",
    "for q in q_list:\n",
    "    qs, good_idx, est, true = compare_esimators(q, plot=False, true_data=true_data)\n",
    "    qs_list.append(qs)\n",
    "    m_mse_list.append([concordance(x[good_idx], true[0][good_idx]) for x in est[0]])\n",
    "    v_mse_list.append([concordance(x[good_idx], true[1][good_idx])  for x in est[1]])\n",
    "    c_mse_list.append([concordance(x, true[2], log=False) for x in est[2]])\n",
    "    \n",
    "m_mse_list, v_mse_list, c_mse_list = np.array(m_mse_list), np.array(v_mse_list), np.array(c_mse_list)"
   ]
  },
  {
   "cell_type": "code",
   "execution_count": null,
   "metadata": {},
   "outputs": [],
   "source": []
  },
  {
   "cell_type": "code",
   "execution_count": 149,
   "metadata": {},
   "outputs": [
    {
     "data": {
      "image/png": "[encoded data removed]",
      "text/plain": [
       "<Figure size 576x216 with 3 Axes>"
      ]
     },
     "metadata": {
      "needs_background": "light"
     },
     "output_type": "display_data"
    }
   ],
   "source": [
    "import matplotlib.pylab as pylab\n",
    "params = {'legend.fontsize': 'small',\n",
    "         'axes.labelsize': 'medium',\n",
    "         'axes.titlesize':'medium',\n",
    "         'figure.titlesize':'medium',\n",
    "         'xtick.labelsize':'small',\n",
    "         'ytick.labelsize':'small'}\n",
    "pylab.rcParams.update(params)\n",
    "\n",
    "plt.figure(figsize=(8, 3))\n",
    "plt.subplots_adjust(wspace=0.5)\n",
    "\n",
    "plt.subplot(1, 3, 1)\n",
    "plt.plot(q_list[1:], m_mse_list[:, 0][1:], '-o')\n",
    "# plt.legend(['Naive,\\nPoisson,\\nHG'])\n",
    "plt.ylabel('CCC log(mean)')\n",
    "plt.xlabel('overall UMI efficiency (q)')\n",
    "\n",
    "plt.subplot(1, 3, 2)\n",
    "plt.plot(q_list[2:], v_mse_list[:, 0][2:], '-o')\n",
    "plt.plot(q_list[2:], v_mse_list[:, 1][2:], '-o')\n",
    "plt.plot(q_list[2:], v_mse_list[:, 2][2:], '-o')\n",
    "plt.legend(['Naive', 'Poisson', 'HG'], ncol=3, loc='upper center', bbox_to_anchor=(0.4,1.15))\n",
    "plt.ylabel('CCC log(variance)')\n",
    "plt.xlabel('overall UMI efficiency (q)')\n",
    "\n",
    "plt.subplot(1, 3, 3)\n",
    "plt.plot(q_list[2:], c_mse_list[:, 0][2:], '-o')\n",
    "plt.plot(q_list[2:], c_mse_list[:, 1][2:], '-o')\n",
    "plt.plot(q_list[2:], c_mse_list[:, 2][2:], '-o')\n",
    "# plt.legend(['Naive', 'Poisson', 'HG'])\n",
    "plt.ylabel('CCC correlation')\n",
    "plt.xlabel('overall UMI efficiency (q)')\n",
    "\n",
    "plt.savefig(fig_path + 'poi_vs_hyper_ccc.pdf', bbox_inches='tight')"
   ]
  },
  {
   "cell_type": "code",
   "execution_count": 150,
   "metadata": {},
   "outputs": [
    {
     "data": {
      "image/png": "[encoded data removed]",
      "text/plain": [
       "<Figure size 72x93.6 with 1 Axes>"
      ]
     },
     "metadata": {
      "needs_background": "light"
     },
     "output_type": "display_data"
    }
   ],
   "source": [
    "plt.figure(figsize=(1, 1.3))\n",
    "plt.plot(q_list, v_mse_list[:, 0], '-o', ms=4)\n",
    "plt.plot(q_list, v_mse_list[:, 1], '-o', ms=4)\n",
    "plt.plot(q_list, v_mse_list[:, 2], '-o', ms=4)\n",
    "\n",
    "plt.savefig(fig_path + 'poi_vs_hyper_ccc_var_inset.pdf', bbox_inches='tight')"
   ]
  },
  {
   "cell_type": "code",
   "execution_count": 151,
   "metadata": {},
   "outputs": [
    {
     "data": {
      "image/png": "[encoded data removed]",
      "text/plain": [
       "<Figure size 72x93.6 with 1 Axes>"
      ]
     },
     "metadata": {
      "needs_background": "light"
     },
     "output_type": "display_data"
    }
   ],
   "source": [
    "plt.figure(figsize=(1, 1.3))\n",
    "plt.plot(q_list, c_mse_list[:, 0], '-o', ms=4)\n",
    "plt.plot(q_list, c_mse_list[:, 1], '-o', ms=4)\n",
    "plt.plot(q_list, c_mse_list[:, 2], '-o', ms=4)\n",
    "plt.savefig(fig_path + 'poi_vs_hyper_ccc_corr_inset.pdf', bbox_inches='tight')"
   ]
  },
  {
   "cell_type": "code",
   "execution_count": null,
   "metadata": {},
   "outputs": [],
   "source": []
  }
 ],
 "metadata": {
  "kernelspec": {
   "display_name": "Python 3",
   "language": "python",
   "name": "python3"
  },
  "language_info": {
   "codemirror_mode": {
    "name": "ipython",
    "version": 3
   },
   "file_extension": ".py",
   "mimetype": "text/x-python",
   "name": "python",
   "nbconvert_exporter": "python",
   "pygments_lexer": "ipython3",
   "version": "3.7.5"
  }
 },
 "nbformat": 4,
 "nbformat_minor": 4
}
