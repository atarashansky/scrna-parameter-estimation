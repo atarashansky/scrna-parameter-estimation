{
 "cells": [
  {
   "cell_type": "markdown",
   "metadata": {},
   "source": [
    "# Estimator validation"
   ]
  },
  {
   "cell_type": "code",
   "execution_count": 1,
   "metadata": {},
   "outputs": [
    {
     "name": "stderr",
     "output_type": "stream",
     "text": [
      "/home/ssm-user/anaconda3/envs/single_cell/lib/python3.7/site-packages/scanpy/api/__init__.py:6: FutureWarning: \n",
      "\n",
      "In a future version of Scanpy, `scanpy.api` will be removed.\n",
      "Simply use `import scanpy as sc` and `import scanpy.external as sce` instead.\n",
      "\n",
      "  FutureWarning,\n"
     ]
    }
   ],
   "source": [
    "import pandas as pd\n",
    "import matplotlib.pyplot as plt\n",
    "import scanpy.api as sc\n",
    "import scipy as sp\n",
    "import itertools\n",
    "import numpy as np\n",
    "import scipy.stats as stats\n",
    "from scipy.integrate import dblquad\n",
    "import seaborn as sns\n",
    "from statsmodels.stats.multitest import fdrcorrection\n",
    "import imp\n",
    "pd.options.display.max_rows = 999\n",
    "pd.set_option('display.max_colwidth', -1)\n",
    "import pickle as pkl\n",
    "import time"
   ]
  },
  {
   "cell_type": "code",
   "execution_count": 2,
   "metadata": {},
   "outputs": [],
   "source": [
    "import matplotlib as mpl\n",
    "mpl.rcParams['pdf.fonttype'] = 42\n",
    "mpl.rcParams['ps.fonttype'] = 42\n",
    "\n",
    "import matplotlib.pylab as pylab\n",
    "params = {'legend.fontsize': 'medium',\n",
    "         'axes.labelsize': 'medium',\n",
    "         'axes.titlesize':'medium',\n",
    "         'figure.titlesize':'medium',\n",
    "         'xtick.labelsize':'small',\n",
    "         'ytick.labelsize':'small'}\n",
    "pylab.rcParams.update(params)\n"
   ]
  },
  {
   "cell_type": "code",
   "execution_count": 3,
   "metadata": {},
   "outputs": [],
   "source": [
    "import sys\n",
    "sys.path.append('/home/ssm-user/Github/scrna-parameter-estimation/scmemo')\n",
    "import estimator, simulate, scmemo, bootstrap, util"
   ]
  },
  {
   "cell_type": "code",
   "execution_count": 4,
   "metadata": {},
   "outputs": [],
   "source": [
    "import sys\n",
    "sys.path.append('/home/ssm-user/Github/single_cell_eb/')\n",
    "sys.path.append('/home/ssm-user/Github/single_cell_eb/sceb')\n",
    "import scdd"
   ]
  },
  {
   "cell_type": "markdown",
   "metadata": {},
   "source": [
    "### Check 1D estimates of `sceb` with `scmemo`\n",
    "\n",
    "Using the Poisson model. The outputs should be identical, this is for checking the implementation. "
   ]
  },
  {
   "cell_type": "code",
   "execution_count": 20,
   "metadata": {},
   "outputs": [],
   "source": [
    "data = sp.sparse.csr_matrix(simulate.simulate_transcriptomes(100, 20))\n",
    "adata = sc.AnnData(data)\n",
    "size_factors = scdd.dd_size_factor(adata)"
   ]
  },
  {
   "cell_type": "code",
   "execution_count": 21,
   "metadata": {},
   "outputs": [
    {
     "name": "stdout",
     "output_type": "stream",
     "text": [
      "#time start: 0.0s\n",
      "n_cell=100, n_gene=20\n",
      "#total: 0.00s\n",
      "[4.05811359e+00 8.65557033e+01 3.38042239e+00 8.67055877e+01\n",
      " 5.87806859e-02 3.99841925e+01 8.48237731e+00 1.28562336e+01\n",
      " 4.02345703e+00 2.43614751e+00 9.80252612e-02 1.62111844e+01\n",
      " 1.05115668e+01 9.53143947e-01 1.36284024e+02 2.32362990e+01\n",
      " 8.75613957e-01 9.43882965e+01 6.77484907e+01 5.34462511e-01]\n"
     ]
    }
   ],
   "source": [
    "_, M_dd = scdd.dd_1d_moment(adata, size_factor=size_factors)\n",
    "var_scdd = scdd.M_to_var(M_dd)\n",
    "print(var_scdd)"
   ]
  },
  {
   "cell_type": "code",
   "execution_count": 22,
   "metadata": {},
   "outputs": [
    {
     "name": "stdout",
     "output_type": "stream",
     "text": [
      "[4.05811419e+00 8.65558825e+01 3.38042193e+00 8.67056078e+01\n",
      " 5.87806855e-02 3.99841965e+01 8.48237715e+00 1.28562306e+01\n",
      " 4.02345666e+00 2.43614724e+00 9.80252592e-02 1.62111701e+01\n",
      " 1.05115720e+01 9.53144150e-01 1.36289603e+02 2.32362900e+01\n",
      " 8.75614006e-01 9.43883035e+01 6.77483004e+01 5.34462544e-01]\n"
     ]
    }
   ],
   "source": [
    "imp.reload(estimator)\n",
    "mean_scmemo, var_scmemo = estimator._poisson_1d(data, data.shape[0], size_factors)\n",
    "print(var_scmemo)"
   ]
  },
  {
   "cell_type": "code",
   "execution_count": 23,
   "metadata": {},
   "outputs": [],
   "source": [
    "df = pd.DataFrame()\n",
    "df['size_factor'] = size_factors\n",
    "df['inv_size_factor'] = 1/size_factors\n",
    "df['inv_size_factor_sq'] = 1/size_factors**2\n",
    "df['expr'] = data[:, 0].todense().A1\n",
    "precomputed_size_factors = df.groupby('expr')['inv_size_factor'].mean(), df.groupby('expr')['inv_size_factor_sq'].mean()"
   ]
  },
  {
   "cell_type": "code",
   "execution_count": 24,
   "metadata": {},
   "outputs": [
    {
     "name": "stdout",
     "output_type": "stream",
     "text": [
      "[0.9063726711273193, 4.058114381881536]\n"
     ]
    }
   ],
   "source": [
    "imp.reload(estimator)\n",
    "expr, count = np.unique(data[:, 0].todense().A1, return_counts=True)\n",
    "print(estimator._poisson_1d((expr, count), data.shape[0], precomputed_size_factors))"
   ]
  },
  {
   "cell_type": "markdown",
   "metadata": {},
   "source": [
    "### Check 2D estimates of `sceb` and `scmemo`\n",
    "\n",
    "Using the Poisson model. The outputs should be identical, this is for checking the implementation. "
   ]
  },
  {
   "cell_type": "code",
   "execution_count": 25,
   "metadata": {},
   "outputs": [],
   "source": [
    "data = sp.sparse.csr_matrix(simulate.simulate_transcriptomes(1000, 4))\n",
    "adata = sc.AnnData(data)\n",
    "size_factors = scdd.dd_size_factor(adata)"
   ]
  },
  {
   "cell_type": "code",
   "execution_count": 26,
   "metadata": {},
   "outputs": [
    {
     "name": "stdout",
     "output_type": "stream",
     "text": [
      "[[ 4.09247186e-01 -7.00641019e-03  1.11981475e-02 -5.42475049e-01]\n",
      " [-7.00641019e-03  3.07633212e-01 -6.79097739e-03 -3.44895561e-01]\n",
      " [ 1.11981475e-02 -6.79097739e-03  5.31315636e-01 -6.31933899e-01]\n",
      " [-5.42475049e-01 -3.44895561e-01 -6.31933899e-01  1.00000000e-12]]\n"
     ]
    }
   ],
   "source": [
    "mean_scdd, cov_scdd, corr_scdd = scdd.dd_covariance(adata, size_factors)\n",
    "print(cov_scdd)"
   ]
  },
  {
   "cell_type": "code",
   "execution_count": 27,
   "metadata": {},
   "outputs": [
    {
     "name": "stdout",
     "output_type": "stream",
     "text": [
      "[[-0.00700641  0.01119815 -0.54247505]\n",
      " [ 0.30763321 -0.00679098 -0.34489556]\n",
      " [-0.00679098  0.53131564 -0.6319339 ]]\n"
     ]
    }
   ],
   "source": [
    "imp.reload(estimator)\n",
    "cov_scmemo = estimator._poisson_cov(data, data.shape[0], size_factors, idx1=[0, 1, 2], idx2=[1, 2, 3])\n",
    "print(cov_scmemo)"
   ]
  },
  {
   "cell_type": "code",
   "execution_count": 28,
   "metadata": {},
   "outputs": [],
   "source": [
    "expr, count = np.unique(data[:, :2].toarray(), return_counts=True, axis=0)\n",
    "\n",
    "df = pd.DataFrame()\n",
    "df['size_factor'] = size_factors\n",
    "df['inv_size_factor'] = 1/size_factors\n",
    "df['inv_size_factor_sq'] = 1/size_factors**2\n",
    "df['expr1'] = data[:, 0].todense().A1\n",
    "df['expr2'] = data[:, 1].todense().A1\n",
    "\n",
    "precomputed_size_factors = df.groupby(['expr1', 'expr2'])['inv_size_factor'].mean(), df.groupby(['expr1', 'expr2'])['inv_size_factor_sq'].mean()"
   ]
  },
  {
   "cell_type": "code",
   "execution_count": 30,
   "metadata": {},
   "outputs": [
    {
     "name": "stdout",
     "output_type": "stream",
     "text": [
      "-0.007006410053126586\n"
     ]
    }
   ],
   "source": [
    "cov_scmemo = estimator._poisson_cov((expr[:, 0], expr[:, 1], count), data.shape[0], size_factor=precomputed_size_factors)\n",
    "print(cov_scmemo)"
   ]
  },
  {
   "cell_type": "markdown",
   "metadata": {},
   "source": [
    "### Variance/correlation estimation while varying q_sq"
   ]
  },
  {
   "cell_type": "code",
   "execution_count": 34,
   "metadata": {},
   "outputs": [],
   "source": [
    "q = 0.1\n",
    "q_sq_list = [0.011]#[0.1**2+1e-6, 0.0102, 0.0106, 0.012]"
   ]
  },
  {
   "cell_type": "code",
   "execution_count": 35,
   "metadata": {},
   "outputs": [],
   "source": [
    "import warnings\n",
    "warnings.filterwarnings(\"ignore\")\n"
   ]
  },
  {
   "cell_type": "code",
   "execution_count": 67,
   "metadata": {},
   "outputs": [
    {
     "data": {
      "text/plain": [
       "<Figure size 504x360 with 0 Axes>"
      ]
     },
     "metadata": {},
     "output_type": "display_data"
    }
   ],
   "source": [
    "plt.figure(figsize=(7, 5))\n",
    "plt.subplots_adjust(hspace=1.1, wspace=0.3)\n",
    "num_subplot_col = len(q_sq_list)\n",
    "num_subplot_row = 3\n",
    "\n",
    "for col_num, q_sq in enumerate(q_sq_list):\n",
    "    \n",
    "    true_data = simulate.simulate_transcriptomes(5000, 1000, correlated=True)\n",
    "    qs, captured_data = simulate.capture_sampling(true_data, q, q_sq)\n",
    "    adata = sc.AnnData(sp.sparse.csr_matrix(captured_data))\n",
    "\n",
    "    \n",
    "    x_true, y_true = np.log(true_data.mean(axis=0)), np.log(true_data.var(axis=0))\n",
    "    x_obs, y_obs = np.log(captured_data.mean(axis=0)), np.log(captured_data.var(axis=0))\n",
    "    \n",
    "    _, M_dd = scdd.dd_1d_moment(adata, size_factor=scdd.dd_size_factor(adata), verbose=False)\n",
    "    var_scdd = scdd.M_to_var(M_dd)/q**2\n",
    "    \n",
    "    mean_scdd, _, corr_scdd = scdd.dd_covariance(adata, size_factor=scdd.dd_size_factor(adata))\n",
    "    corr_scdd[corr_scdd == 0] = np.nan\n",
    "    \n",
    "    condition = np.log(var_scdd) > -20\n",
    "    \n",
    "    true_corrs = np.corrcoef(true_data, rowvar=False).ravel()\n",
    "    estimated_corrs = corr_scdd.ravel()\n",
    "    corr_cond = np.isfinite(estimated_corrs)\n",
    "    true_corrs = true_corrs[corr_cond]\n",
    "    estimated_corrs = estimated_corrs[corr_cond]\n",
    "    \n",
    "    break\n",
    "    \n",
    "    plt.subplot(num_subplot_row, num_subplot_col, col_num+1)\n",
    "    sns.distplot(qs)\n",
    "    plt.xlabel('q, Var(q)={:.1e}'.format(q_sq-q**2))\n",
    "    plt.xlim(0, 0.5)\n",
    "    if col_num == 0:\n",
    "        plt.ylabel('Density')\n",
    "        \n",
    "    plt.subplot(num_subplot_row, num_subplot_col, col_num+1+num_subplot_col)\n",
    "    plt.plot(y_true, y_true, color='m', lw=1)\n",
    "    plt.scatter(y_true[condition], np.log(var_scdd)[condition], s=1)\n",
    "    plt.xlabel('True variance');\n",
    "    if col_num == 0:\n",
    "        plt.ylabel('Estimated\\nvariance')\n",
    "    plt.title('R={:.3f}'.format(stats.pearsonr(np.log(var_scdd)[condition], y_true[condition])[0]))\n",
    "    \n",
    "    sample_idxs = np.random.choice(estimated_corrs.shape[0], 5000, replace=False)\n",
    "    plt.subplot(num_subplot_row, num_subplot_col, col_num+1+num_subplot_col*2)\n",
    "    plt.plot(true_corrs, true_corrs, color='m', lw=1)\n",
    "    plt.scatter(true_corrs, estimated_corrs, s=.01, alpha=0.01)\n",
    "    plt.xlabel('True correlation');\n",
    "    if col_num == 0:\n",
    "        plt.ylabel('Estimated\\ncorrelation')\n",
    "    plt.title('R={:.3f}'.format(stats.pearsonr(true_corrs, estimated_corrs)[0]))\n",
    "    "
   ]
  }
 ],
 "metadata": {
  "kernelspec": {
   "display_name": "Python 3",
   "language": "python",
   "name": "python3"
  },
  "language_info": {
   "codemirror_mode": {
    "name": "ipython",
    "version": 3
   },
   "file_extension": ".py",
   "mimetype": "text/x-python",
   "name": "python",
   "nbconvert_exporter": "python",
   "pygments_lexer": "ipython3",
   "version": "3.7.5"
  }
 },
 "nbformat": 4,
 "nbformat_minor": 4
}
