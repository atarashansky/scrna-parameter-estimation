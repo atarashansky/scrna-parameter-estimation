{
 "cells": [
  {
   "cell_type": "markdown",
   "metadata": {},
   "source": [
    "# Cell size computation\n",
    "\n",
    "Approaches for cell size computation"
   ]
  },
  {
   "cell_type": "code",
   "execution_count": 1,
   "metadata": {},
   "outputs": [],
   "source": [
    "import numpy as np\n",
    "import scipy.stats as stats\n",
    "import matplotlib.pyplot as plt\n",
    "import seaborn as sns\n",
    "import pandas as pd\n",
    "import scipy as sp\n",
    "import scanpy as sc\n",
    "import scipy.sparse as sparse\n",
    "\n",
    "from scipy.optimize import root, minimize, root_scalar, diagbroyden, least_squares, approx_fprime\n",
    "import scipy.optimize as opt"
   ]
  },
  {
   "cell_type": "code",
   "execution_count": 2,
   "metadata": {},
   "outputs": [],
   "source": [
    "fig_path = '/data/home/Github/scrna-parameter-estimation/figures/fig3/'\n",
    "data_path = '/data/parameter_estimation/'"
   ]
  },
  {
   "cell_type": "markdown",
   "metadata": {},
   "source": [
    "### Read IFN data"
   ]
  },
  {
   "cell_type": "code",
   "execution_count": 82,
   "metadata": {},
   "outputs": [],
   "source": [
    "adata = sc.read(data_path + 'interferon_filtered.h5ad')\n",
    "adata = adata[(adata.obs.cell == 'CD14+ Monocytes')].copy()"
   ]
  },
  {
   "cell_type": "markdown",
   "metadata": {},
   "source": [
    "### Implement pooled TMM"
   ]
  },
  {
   "cell_type": "code",
   "execution_count": 83,
   "metadata": {},
   "outputs": [],
   "source": [
    "def trimmed_mean(a, b):\n",
    "    \n",
    "    ratio = a / b\n",
    "    \n",
    "#     return np.median(ratio)\n",
    "    llim, ulim = np.quantile(ratio, [0.3, 0.7])\n",
    "    \n",
    "    return ratio[(ratio > llim) & (ratio < ulim)].mean()\n",
    "    "
   ]
  },
  {
   "cell_type": "code",
   "execution_count": 84,
   "metadata": {},
   "outputs": [],
   "source": [
    "means = adata.X.mean(axis=0).A1"
   ]
  },
  {
   "cell_type": "code",
   "execution_count": 85,
   "metadata": {},
   "outputs": [],
   "source": [
    "# Gene selection\n",
    "expr_matrix = adata.X[:, means > 0.2].copy()\n",
    "library_count = expr_matrix.sum(axis=1).A1\n",
    "library_count /= library_count.mean()"
   ]
  },
  {
   "cell_type": "code",
   "execution_count": 86,
   "metadata": {},
   "outputs": [],
   "source": [
    "# library count normalization\n",
    "expr_matrix = sparse.diags(1/library_count)@expr_matrix\n",
    "\n",
    "# Mean pseudocell\n",
    "mean_cell = expr_matrix.mean(axis=0).A1"
   ]
  },
  {
   "cell_type": "code",
   "execution_count": 87,
   "metadata": {},
   "outputs": [
    {
     "name": "stdout",
     "output_type": "stream",
     "text": [
      "CPU times: user 4.03 s, sys: 418 µs, total: 4.03 s\n",
      "Wall time: 4.03 s\n"
     ]
    }
   ],
   "source": [
    "%%time\n",
    "\n",
    "pool_factors_list = []\n",
    "toeplitz_list = []\n",
    "n_cells = expr_matrix.shape[0]\n",
    "\n",
    "for window_size in range(100, 200, 20):\n",
    "    \n",
    "    pool_factors = np.zeros(n_cells)\n",
    "\n",
    "    # ith pool includes cell indices i to i+window_size-1\n",
    "    pool_sum = expr_matrix[:window_size, :].sum(axis=0).A1\n",
    "    pool_factors[0] = trimmed_mean(pool_sum, mean_cell)\n",
    "    for pool in range(n_cells-1):\n",
    "\n",
    "        i = pool # index to subtract\n",
    "        j = (pool + window_size) % n_cells # index to add \n",
    "\n",
    "        pool_sum[expr_matrix.indices[expr_matrix.indptr[i]:expr_matrix.indptr[i+1]]] -= \\\n",
    "            expr_matrix.data[expr_matrix.indptr[i]:expr_matrix.indptr[i+1]]\n",
    "        pool_sum[expr_matrix.indices[expr_matrix.indptr[j]:expr_matrix.indptr[j+1]]] += \\\n",
    "            expr_matrix.data[expr_matrix.indptr[j]:expr_matrix.indptr[j+1]]\n",
    "\n",
    "        pool_factors[pool + 1] = trimmed_mean(pool_sum, mean_cell)\n",
    "    \n",
    "    toeplitz = \\\n",
    "        sparse.diags(diagonals=np.ones(window_size), offsets=np.arange(window_size), shape=(n_cells, n_cells)) + \\\n",
    "        sparse.diags(diagonals=np.ones(window_size), offsets=np.arange(window_size)-n_cells, shape=(n_cells, n_cells))\n",
    "    \n",
    "    pool_factors_list.append(pool_factors)\n",
    "    toeplitz_list.append(toeplitz)\n"
   ]
  },
  {
   "cell_type": "code",
   "execution_count": 88,
   "metadata": {},
   "outputs": [],
   "source": [
    "pool_factors = np.concatenate(pool_factors_list)\n",
    "del pool_factors_list\n",
    "toeplitz = sparse.vstack(toeplitz_list)\n",
    "del toeplitz_list"
   ]
  },
  {
   "cell_type": "code",
   "execution_count": 98,
   "metadata": {},
   "outputs": [
    {
     "data": {
      "text/plain": [
       "(26705, 5341)"
      ]
     },
     "execution_count": 98,
     "metadata": {},
     "output_type": "execute_result"
    }
   ],
   "source": [
    "toeplitz.shape"
   ]
  },
  {
   "cell_type": "code",
   "execution_count": 89,
   "metadata": {},
   "outputs": [
    {
     "name": "stdout",
     "output_type": "stream",
     "text": [
      "CPU times: user 4min 48s, sys: 6min 24s, total: 11min 13s\n",
      "Wall time: 1min 24s\n"
     ]
    }
   ],
   "source": [
    "%%time\n",
    "res = sparse.linalg.lsqr(toeplitz, pool_factors)"
   ]
  },
  {
   "cell_type": "code",
   "execution_count": 90,
   "metadata": {},
   "outputs": [],
   "source": [
    "size_factor = res[0]*library_count"
   ]
  },
  {
   "cell_type": "code",
   "execution_count": 99,
   "metadata": {},
   "outputs": [
    {
     "data": {
      "text/plain": [
       "<matplotlib.axes._subplots.AxesSubplot at 0x7fca72e979d0>"
      ]
     },
     "execution_count": 99,
     "metadata": {},
     "output_type": "execute_result"
    },
    {
     "data": {
      "image/png": "[encoded data removed]",
      "text/plain": [
       "<Figure size 432x288 with 1 Axes>"
      ]
     },
     "metadata": {
      "needs_background": "light"
     },
     "output_type": "display_data"
    }
   ],
   "source": [
    "sns.distplot(library_count)\n",
    "sns.distplot(size_factor)\n"
   ]
  },
  {
   "cell_type": "code",
   "execution_count": 96,
   "metadata": {},
   "outputs": [
    {
     "data": {
      "image/png": "[encoded data removed]",
      "text/plain": [
       "<Figure size 432x288 with 1 Axes>"
      ]
     },
     "metadata": {
      "needs_background": "light"
     },
     "output_type": "display_data"
    }
   ],
   "source": [
    "plt.scatter(library_count, size_factor, s=2);\n",
    "plt.plot(library_count, library_count, c='m')\n",
    "plt.axis('square');"
   ]
  },
  {
   "cell_type": "markdown",
   "metadata": {},
   "source": [
    "### compute using least variable genes"
   ]
  },
  {
   "cell_type": "code",
   "execution_count": 100,
   "metadata": {},
   "outputs": [
    {
     "name": "stderr",
     "output_type": "stream",
     "text": [
      "/data/home/anaconda3/envs/single_cell/lib/python3.7/site-packages/scanpy/api/__init__.py:6: FutureWarning: \n",
      "\n",
      "In a future version of Scanpy, `scanpy.api` will be removed.\n",
      "Simply use `import scanpy as sc` and `import scanpy.external as sce` instead.\n",
      "\n",
      "  FutureWarning,\n"
     ]
    }
   ],
   "source": [
    "import sys\n",
    "sys.path.append('/data/home/Github/scrna-parameter-estimation/dist/memento-0.0.1-py3.7.egg')\n",
    "import memento"
   ]
  },
  {
   "cell_type": "code",
   "execution_count": 101,
   "metadata": {},
   "outputs": [],
   "source": [
    "memento.create_groups(adata, label_columns=['stim'], inplace=True, q=0.07)\n",
    "\n",
    "memento.compute_1d_moments(\n",
    "    adata, inplace=True, filter_genes=True, \n",
    "    residual_var=True,\n",
    "    filter_mean_thresh=0.07, \n",
    "    min_perc_group=0.8)"
   ]
  },
  {
   "cell_type": "code",
   "execution_count": 103,
   "metadata": {},
   "outputs": [
    {
     "data": {
      "text/plain": [
       "dict_keys(['label_columns', 'label_delimiter', 'groups', 'q', 'estimator_type', 'group_cells', 'least_variable_genes', 'all_size_factor', 'all_total_size_factor', 'all_approx_size_factor', 'approx_size_factor', 'size_factor', '1d_moments', 'gene_filter', 'overall_gene_filter', 'gene_list', 'mv_regressor'])"
      ]
     },
     "execution_count": 103,
     "metadata": {},
     "output_type": "execute_result"
    }
   ],
   "source": [
    "adata.uns['memento'].keys()"
   ]
  },
  {
   "cell_type": "code",
   "execution_count": 105,
   "metadata": {},
   "outputs": [
    {
     "data": {
      "text/plain": [
       "array([1.17751307, 0.86844223, 1.45197669, ..., 2.3591099 , 0.42157514,\n",
       "       0.59936391])"
      ]
     },
     "execution_count": 105,
     "metadata": {},
     "output_type": "execute_result"
    }
   ],
   "source": [
    "size_factor"
   ]
  },
  {
   "cell_type": "code",
   "execution_count": 111,
   "metadata": {},
   "outputs": [
    {
     "data": {
      "text/plain": [
       "<matplotlib.collections.PathCollection at 0x7fca72fce210>"
      ]
     },
     "execution_count": 111,
     "metadata": {},
     "output_type": "execute_result"
    },
    {
     "data": {
      "image/png": "[encoded data removed]",
      "text/plain": [
       "<Figure size 432x288 with 1 Axes>"
      ]
     },
     "metadata": {
      "needs_background": "light"
     },
     "output_type": "display_data"
    }
   ],
   "source": [
    "stats.pearsonr(adata.uns['memento']['all_total_size_factor'], library_count)\n",
    "plt.scatter(adata.uns['memento']['all_total_size_factor'], library_count, s=1)"
   ]
  },
  {
   "cell_type": "code",
   "execution_count": null,
   "metadata": {},
   "outputs": [],
   "source": [
    "stats.pearsonr(adata.uns['memento']['all_size_factor'], size_factor)"
   ]
  },
  {
   "cell_type": "code",
   "execution_count": 107,
   "metadata": {},
   "outputs": [
    {
     "data": {
      "text/plain": [
       "<matplotlib.collections.PathCollection at 0x7fca6c158c50>"
      ]
     },
     "execution_count": 107,
     "metadata": {},
     "output_type": "execute_result"
    },
    {
     "data": {
      "image/png": "[encoded data removed]",
      "text/plain": [
       "<Figure size 432x288 with 1 Axes>"
      ]
     },
     "metadata": {
      "needs_background": "light"
     },
     "output_type": "display_data"
    }
   ],
   "source": [
    "plt.scatter(adata.uns['memento']['all_size_factor'], size_factor, s=2)"
   ]
  },
  {
   "cell_type": "code",
   "execution_count": 104,
   "metadata": {},
   "outputs": [
    {
     "data": {
      "text/plain": [
       "array([1.2045144 , 0.95879346, 1.344238  , ..., 1.6381396 , 0.71307254,\n",
       "       0.838342  ], dtype=float32)"
      ]
     },
     "execution_count": 104,
     "metadata": {},
     "output_type": "execute_result"
    }
   ],
   "source": [
    "adata.uns['memento']['all_size_factor']"
   ]
  },
  {
   "cell_type": "code",
   "execution_count": null,
   "metadata": {},
   "outputs": [],
   "source": []
  }
 ],
 "metadata": {
  "kernelspec": {
   "display_name": "Python 3",
   "language": "python",
   "name": "python3"
  },
  "language_info": {
   "codemirror_mode": {
    "name": "ipython",
    "version": 3
   },
   "file_extension": ".py",
   "mimetype": "text/x-python",
   "name": "python",
   "nbconvert_exporter": "python",
   "pygments_lexer": "ipython3",
   "version": "3.7.5"
  }
 },
 "nbformat": 4,
 "nbformat_minor": 4
}
