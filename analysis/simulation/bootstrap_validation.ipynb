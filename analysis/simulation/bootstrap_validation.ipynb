{
 "cells": [
  {
   "cell_type": "markdown",
   "metadata": {},
   "source": [
    "# Bootstrap validation"
   ]
  },
  {
   "cell_type": "code",
   "execution_count": 1,
   "metadata": {},
   "outputs": [
    {
     "name": "stderr",
     "output_type": "stream",
     "text": [
      "/home/ssm-user/anaconda3/envs/single_cell/lib/python3.7/site-packages/scanpy/api/__init__.py:6: FutureWarning: \n",
      "\n",
      "In a future version of Scanpy, `scanpy.api` will be removed.\n",
      "Simply use `import scanpy as sc` and `import scanpy.external as sce` instead.\n",
      "\n",
      "  FutureWarning,\n"
     ]
    }
   ],
   "source": [
    "import pandas as pd\n",
    "import matplotlib.pyplot as plt\n",
    "import scanpy.api as sc\n",
    "import scipy as sp\n",
    "import itertools\n",
    "import numpy as np\n",
    "import scipy.stats as stats\n",
    "from scipy.integrate import dblquad\n",
    "import seaborn as sns\n",
    "from statsmodels.stats.multitest import fdrcorrection\n",
    "import imp\n",
    "pd.options.display.max_rows = 999\n",
    "pd.set_option('display.max_colwidth', -1)\n",
    "import pickle as pkl\n",
    "import time"
   ]
  },
  {
   "cell_type": "code",
   "execution_count": 2,
   "metadata": {},
   "outputs": [],
   "source": [
    "import matplotlib as mpl\n",
    "mpl.rcParams['pdf.fonttype'] = 42\n",
    "mpl.rcParams['ps.fonttype'] = 42\n",
    "\n",
    "import matplotlib.pylab as pylab\n",
    "params = {'legend.fontsize': 'medium',\n",
    "         'axes.labelsize': 'medium',\n",
    "         'axes.titlesize':'medium',\n",
    "         'figure.titlesize':'medium',\n",
    "         'xtick.labelsize':'small',\n",
    "         'ytick.labelsize':'small'}\n",
    "pylab.rcParams.update(params)\n"
   ]
  },
  {
   "cell_type": "code",
   "execution_count": 3,
   "metadata": {},
   "outputs": [],
   "source": [
    "import sys\n",
    "sys.path.append('/home/ssm-user/Github/scrna-parameter-estimation/scmemo')\n",
    "import estimator, simulate, scmemo, bootstrap, util"
   ]
  },
  {
   "cell_type": "code",
   "execution_count": 4,
   "metadata": {},
   "outputs": [],
   "source": [
    "import sys\n",
    "sys.path.append('/home/ssm-user/Github/single_cell_eb/')\n",
    "sys.path.append('/home/ssm-user/Github/single_cell_eb/sceb')\n",
    "import scdd"
   ]
  },
  {
   "cell_type": "markdown",
   "metadata": {},
   "source": [
    "### Validate the bootstrap outcomes\n",
    "\n",
    "Check the mean of the bootstrap distributions for mean, variance, and correlation."
   ]
  },
  {
   "cell_type": "code",
   "execution_count": 400,
   "metadata": {},
   "outputs": [],
   "source": [
    "true_data = simulate.simulate_transcriptomes(10000, 500, correlated=False)\n",
    "qs, captured_data = simulate.capture_sampling(true_data, .1, 0.011)\n",
    "adata = sc.AnnData(sp.sparse.csr_matrix(captured_data))\n",
    "adata.obs['ct'] = 'PBMC'"
   ]
  },
  {
   "cell_type": "code",
   "execution_count": null,
   "metadata": {},
   "outputs": [],
   "source": [
    "size_factors = scdd.dd_size_factor(adata)\n",
    "Nr = adata.X.sum(axis=1).mean()\n",
    "_, M_dd = scdd.dd_1d_moment(adata, size_factor=size_factors, verbose=False, Nr=Nr)\n",
    "var_scdd = scdd.M_to_var(M_dd)\n",
    "num_boot = 100\n"
   ]
  },
  {
   "cell_type": "code",
   "execution_count": 83,
   "metadata": {},
   "outputs": [
    {
     "name": "stdout",
     "output_type": "stream",
     "text": [
      "CPU times: user 112 ms, sys: 0 ns, total: 112 ms\n",
      "Wall time: 111 ms\n"
     ]
    }
   ],
   "source": [
    "%%time\n",
    "#Real bootstrap\n",
    "real_boot_vars = []\n",
    "data_first_gene = adata.X[:, [0]].toarray()\n",
    "for trial in range(num_boot):\n",
    "    \n",
    "    boot_idxs = np.random.choice(adata.shape[0], adata.shape[0], replace=True)\n",
    "    mean, var = estimator._poisson_1d(sp.sparse.csc_matrix(data_first_gene[boot_idxs]), adata.shape[0], size_factor=size_factors[boot_idxs], n_umi=Nr)\n",
    "    \n",
    "    real_boot_vars.append(var[0])"
   ]
  },
  {
   "cell_type": "code",
   "execution_count": 401,
   "metadata": {},
   "outputs": [],
   "source": [
    "imp.reload(estimator)\n",
    "imp.reload(bootstrap)\n",
    "imp.reload(scmemo)\n",
    "imp.reload(util)\n",
    "\n",
    "adata_scmemo = adata.copy()\n",
    "adata_scmemo.X = adata_scmemo.X.astype(np.int64)\n",
    "scmemo.create_groups(adata_scmemo, label_columns=['ct'], inplace=True)\n",
    "scmemo.compute_1d_moments(adata_scmemo, inplace=True, filter_genes=True, residual_var=True)\n",
    "scmemo.compute_2d_moments(adata_scmemo, inplace=True, gene_1=adata_scmemo.var.index[[0, 2]], gene_2=adata_scmemo.var.index[[1, 3]])"
   ]
  },
  {
   "cell_type": "code",
   "execution_count": 507,
   "metadata": {},
   "outputs": [
    {
     "data": {
      "text/plain": [
       "<matplotlib.axes._subplots.AxesSubplot at 0x7fe841d19990>"
      ]
     },
     "execution_count": 507,
     "metadata": {},
     "output_type": "execute_result"
    },
    {
     "data": {
      "image/png": "[encoded data removed]",
      "text/plain": [
       "<Figure size 432x288 with 1 Axes>"
      ]
     },
     "metadata": {
      "needs_background": "light"
     },
     "output_type": "display_data"
    }
   ],
   "source": [
    "sns.distplot(np.log(adata_scmemo.uns['scmemo']['all_size_factor']))"
   ]
  },
  {
   "cell_type": "code",
   "execution_count": 402,
   "metadata": {},
   "outputs": [
    {
     "data": {
      "text/plain": [
       "array([9.63754843e-08, 1.39221442e-07, 1.99869645e-06, 1.22267119e-06,\n",
       "       7.09326132e-08])"
      ]
     },
     "execution_count": 402,
     "metadata": {},
     "output_type": "execute_result"
    }
   ],
   "source": [
    "adata_scmemo.uns['scmemo']['1d_moments']['sg^PBMC'][1][:5]"
   ]
  },
  {
   "cell_type": "code",
   "execution_count": 403,
   "metadata": {},
   "outputs": [
    {
     "data": {
      "text/plain": [
       "array([[-0.0231803 ,  0.02803398],\n",
       "       [-0.00346433,  0.01462064]])"
      ]
     },
     "execution_count": 403,
     "metadata": {},
     "output_type": "execute_result"
    }
   ],
   "source": [
    "adata_scmemo.uns['scmemo']['2d_moments']['sg^PBMC'][1]"
   ]
  },
  {
   "cell_type": "code",
   "execution_count": 508,
   "metadata": {},
   "outputs": [
    {
     "name": "stdout",
     "output_type": "stream",
     "text": [
      "CPU times: user 5.51 ms, sys: 0 ns, total: 5.51 ms\n",
      "Wall time: 4.66 ms\n"
     ]
    }
   ],
   "source": [
    "%%time\n",
    "df = pd.DataFrame(\n",
    "    data=np.vstack([\n",
    "        adata_scmemo.uns['scmemo']['all_size_factor'], \n",
    "        1/adata_scmemo.uns['scmemo']['all_size_factor'], \n",
    "        1/adata_scmemo.uns['scmemo']['all_size_factor']**2]).T,\n",
    "    columns=['size_factor', 'inv_size_factor', 'inv_size_factor_sq'])\n",
    "df['expr'] = adata_scmemo.X[:, 0].toarray().reshape(-1)\n",
    "df['bin_cutoff'] = 1.0\n",
    "df['bin'] = True"
   ]
  },
  {
   "cell_type": "code",
   "execution_count": 526,
   "metadata": {},
   "outputs": [],
   "source": [
    "from sklearn.neighbors import KernelDensity"
   ]
  },
  {
   "cell_type": "code",
   "execution_count": 615,
   "metadata": {},
   "outputs": [
    {
     "name": "stdout",
     "output_type": "stream",
     "text": [
      "(219, 1)\n"
     ]
    }
   ],
   "source": [
    "x = np.log(df.query('expr == 2')['size_factor']).values.reshape(-1,1)\n",
    "print(x.shape)"
   ]
  },
  {
   "cell_type": "code",
   "execution_count": 616,
   "metadata": {},
   "outputs": [
    {
     "name": "stdout",
     "output_type": "stream",
     "text": [
      "CPU times: user 2.32 ms, sys: 130 µs, total: 2.45 ms\n",
      "Wall time: 1.9 ms\n"
     ]
    }
   ],
   "source": [
    "%%time\n",
    "kde_2 = stats.gaussian_kde(x.reshape(-1))\n",
    "samples_2 = kde_2.resample(10000)"
   ]
  },
  {
   "cell_type": "code",
   "execution_count": 617,
   "metadata": {},
   "outputs": [
    {
     "name": "stdout",
     "output_type": "stream",
     "text": [
      "CPU times: user 1.51 ms, sys: 85 µs, total: 1.6 ms\n",
      "Wall time: 1.13 ms\n"
     ]
    }
   ],
   "source": [
    "%%time\n",
    "kde = KernelDensity(bandwidth=0.1)\n",
    "kde.fit(x)\n",
    "samples = kde.sample(n_samples=10000)"
   ]
  },
  {
   "cell_type": "code",
   "execution_count": 618,
   "metadata": {},
   "outputs": [
    {
     "data": {
      "text/plain": [
       "<matplotlib.axes._subplots.AxesSubplot at 0x7fe82e267f10>"
      ]
     },
     "execution_count": 618,
     "metadata": {},
     "output_type": "execute_result"
    },
    {
     "data": {
      "image/png": "[encoded data removed]",
      "text/plain": [
       "<Figure size 432x288 with 1 Axes>"
      ]
     },
     "metadata": {
      "needs_background": "light"
     },
     "output_type": "display_data"
    }
   ],
   "source": [
    "sns.distplot(x.reshape(-1))\n",
    "sns.distplot(samples)\n",
    "sns.distplot(samples_2)"
   ]
  },
  {
   "cell_type": "code",
   "execution_count": 528,
   "metadata": {},
   "outputs": [
    {
     "data": {
      "text/plain": [
       "(8775,)"
      ]
     },
     "execution_count": 528,
     "metadata": {},
     "output_type": "execute_result"
    }
   ],
   "source": [
    "np.log(df.query('expr == 0')['inv_size_factor_sq']).shape"
   ]
  },
  {
   "cell_type": "code",
   "execution_count": 525,
   "metadata": {},
   "outputs": [
    {
     "data": {
      "text/plain": [
       "<matplotlib.axes._subplots.AxesSubplot at 0x7fe8238cb390>"
      ]
     },
     "execution_count": 525,
     "metadata": {},
     "output_type": "execute_result"
    },
    {
     "data": {
      "image/png": "[encoded data removed]",
      "text/plain": [
       "<Figure size 432x288 with 1 Axes>"
      ]
     },
     "metadata": {
      "needs_background": "light"
     },
     "output_type": "display_data"
    }
   ],
   "source": [
    "sns.distplot(np.log(df.query('expr == 7')['inv_size_factor_sq']))"
   ]
  },
  {
   "cell_type": "code",
   "execution_count": 513,
   "metadata": {},
   "outputs": [
    {
     "data": {
      "text/plain": [
       "<matplotlib.axes._subplots.AxesSubplot at 0x7fe823efd4d0>"
      ]
     },
     "execution_count": 513,
     "metadata": {},
     "output_type": "execute_result"
    },
    {
     "data": {
      "image/png": "[encoded data removed]",
      "text/plain": [
       "<Figure size 432x288 with 1 Axes>"
      ]
     },
     "metadata": {
      "needs_background": "light"
     },
     "output_type": "display_data"
    }
   ],
   "source": [
    "sns.distplot(np.log(df['inv_size_factor']))"
   ]
  },
  {
   "cell_type": "code",
   "execution_count": 482,
   "metadata": {},
   "outputs": [],
   "source": [
    "csc_mat = adata_scmemo.X.tocsc()"
   ]
  },
  {
   "cell_type": "code",
   "execution_count": 495,
   "metadata": {},
   "outputs": [
    {
     "name": "stdout",
     "output_type": "stream",
     "text": [
      "CPU times: user 37.5 ms, sys: 62 µs, total: 37.6 ms\n",
      "Wall time: 36.8 ms\n"
     ]
    }
   ],
   "source": [
    "%%time\n",
    "imp.reload(bootstrap)\n",
    "mean, var = bootstrap._bootstrap_1d(csc_mat[:, 0],  sf_df=df, n_umi=adata_scmemo.uns['scmemo']['n_umi'], num_boot=10000, bins=10, dirichlet_approx=True)\n",
    "# print(var.mean())"
   ]
  },
  {
   "cell_type": "code",
   "execution_count": 504,
   "metadata": {},
   "outputs": [
    {
     "name": "stdout",
     "output_type": "stream",
     "text": [
      "CPU times: user 923 µs, sys: 38 µs, total: 961 µs\n",
      "Wall time: 483 µs\n"
     ]
    }
   ],
   "source": [
    "%%time\n",
    "a = np.random.randint(2, size=100000)"
   ]
  },
  {
   "cell_type": "code",
   "execution_count": 505,
   "metadata": {},
   "outputs": [
    {
     "name": "stdout",
     "output_type": "stream",
     "text": [
      "CPU times: user 1.89 ms, sys: 0 ns, total: 1.89 ms\n",
      "Wall time: 1.89 ms\n"
     ]
    }
   ],
   "source": [
    "%%time\n",
    "np.random.shuffle(a)"
   ]
  },
  {
   "cell_type": "code",
   "execution_count": null,
   "metadata": {},
   "outputs": [],
   "source": [
    "for i in range(df.shape[0])"
   ]
  },
  {
   "cell_type": "code",
   "execution_count": 474,
   "metadata": {},
   "outputs": [],
   "source": [
    "import string"
   ]
  },
  {
   "cell_type": "code",
   "execution_count": 477,
   "metadata": {},
   "outputs": [
    {
     "ename": "ValueError",
     "evalue": "`bins` should be a positive integer.",
     "output_type": "error",
     "traceback": [
      "\u001b[0;31m---------------------------------------------------------------------------\u001b[0m",
      "\u001b[0;31mValueError\u001b[0m                                Traceback (most recent call last)",
      "\u001b[0;32m<ipython-input-477-9d9220a1053b>\u001b[0m in \u001b[0;36m<module>\u001b[0;34m\u001b[0m\n\u001b[0;32m----> 1\u001b[0;31m \u001b[0mdf\u001b[0m\u001b[0;34m.\u001b[0m\u001b[0mgroupby\u001b[0m\u001b[0;34m(\u001b[0m\u001b[0;34m'expr'\u001b[0m\u001b[0;34m)\u001b[0m\u001b[0;34m[\u001b[0m\u001b[0;34m'size_factor'\u001b[0m\u001b[0;34m]\u001b[0m\u001b[0;34m.\u001b[0m\u001b[0mtransform\u001b[0m\u001b[0;34m(\u001b[0m\u001b[0;32mlambda\u001b[0m \u001b[0mx\u001b[0m\u001b[0;34m:\u001b[0m \u001b[0mpd\u001b[0m\u001b[0;34m.\u001b[0m\u001b[0mcut\u001b[0m\u001b[0;34m(\u001b[0m\u001b[0mx\u001b[0m\u001b[0;34m,\u001b[0m \u001b[0mbins\u001b[0m\u001b[0;34m=\u001b[0m\u001b[0;36m0\u001b[0m\u001b[0;34m,\u001b[0m \u001b[0mlabels\u001b[0m\u001b[0;34m=\u001b[0m\u001b[0mlist\u001b[0m\u001b[0;34m(\u001b[0m\u001b[0mstring\u001b[0m\u001b[0;34m.\u001b[0m\u001b[0mascii_lowercase\u001b[0m\u001b[0;34m[\u001b[0m\u001b[0;34m:\u001b[0m\u001b[0;36m0\u001b[0m\u001b[0;34m]\u001b[0m\u001b[0;34m)\u001b[0m\u001b[0;34m)\u001b[0m\u001b[0;34m)\u001b[0m\u001b[0;34m\u001b[0m\u001b[0;34m\u001b[0m\u001b[0m\n\u001b[0m",
      "\u001b[0;32m~/anaconda3/envs/single_cell/lib/python3.7/site-packages/pandas/core/groupby/generic.py\u001b[0m in \u001b[0;36mtransform\u001b[0;34m(self, func, *args, **kwargs)\u001b[0m\n\u001b[1;32m   1024\u001b[0m         \u001b[0;32mfor\u001b[0m \u001b[0mname\u001b[0m\u001b[0;34m,\u001b[0m \u001b[0mgroup\u001b[0m \u001b[0;32min\u001b[0m \u001b[0mself\u001b[0m\u001b[0;34m:\u001b[0m\u001b[0;34m\u001b[0m\u001b[0;34m\u001b[0m\u001b[0m\n\u001b[1;32m   1025\u001b[0m             \u001b[0mobject\u001b[0m\u001b[0;34m.\u001b[0m\u001b[0m__setattr__\u001b[0m\u001b[0;34m(\u001b[0m\u001b[0mgroup\u001b[0m\u001b[0;34m,\u001b[0m \u001b[0;34m\"name\"\u001b[0m\u001b[0;34m,\u001b[0m \u001b[0mname\u001b[0m\u001b[0;34m)\u001b[0m\u001b[0;34m\u001b[0m\u001b[0;34m\u001b[0m\u001b[0m\n\u001b[0;32m-> 1026\u001b[0;31m             \u001b[0mres\u001b[0m \u001b[0;34m=\u001b[0m \u001b[0mwrapper\u001b[0m\u001b[0;34m(\u001b[0m\u001b[0mgroup\u001b[0m\u001b[0;34m)\u001b[0m\u001b[0;34m\u001b[0m\u001b[0;34m\u001b[0m\u001b[0m\n\u001b[0m\u001b[1;32m   1027\u001b[0m \u001b[0;34m\u001b[0m\u001b[0m\n\u001b[1;32m   1028\u001b[0m             \u001b[0;32mif\u001b[0m \u001b[0misinstance\u001b[0m\u001b[0;34m(\u001b[0m\u001b[0mres\u001b[0m\u001b[0;34m,\u001b[0m \u001b[0;34m(\u001b[0m\u001b[0mABCDataFrame\u001b[0m\u001b[0;34m,\u001b[0m \u001b[0mABCSeries\u001b[0m\u001b[0;34m)\u001b[0m\u001b[0;34m)\u001b[0m\u001b[0;34m:\u001b[0m\u001b[0;34m\u001b[0m\u001b[0;34m\u001b[0m\u001b[0m\n",
      "\u001b[0;32m~/anaconda3/envs/single_cell/lib/python3.7/site-packages/pandas/core/groupby/generic.py\u001b[0m in \u001b[0;36m<lambda>\u001b[0;34m(x)\u001b[0m\n\u001b[1;32m   1021\u001b[0m         \u001b[0mklass\u001b[0m \u001b[0;34m=\u001b[0m \u001b[0mself\u001b[0m\u001b[0;34m.\u001b[0m\u001b[0m_selected_obj\u001b[0m\u001b[0;34m.\u001b[0m\u001b[0m__class__\u001b[0m\u001b[0;34m\u001b[0m\u001b[0;34m\u001b[0m\u001b[0m\n\u001b[1;32m   1022\u001b[0m         \u001b[0mresults\u001b[0m \u001b[0;34m=\u001b[0m \u001b[0;34m[\u001b[0m\u001b[0;34m]\u001b[0m\u001b[0;34m\u001b[0m\u001b[0;34m\u001b[0m\u001b[0m\n\u001b[0;32m-> 1023\u001b[0;31m         \u001b[0mwrapper\u001b[0m \u001b[0;34m=\u001b[0m \u001b[0;32mlambda\u001b[0m \u001b[0mx\u001b[0m\u001b[0;34m:\u001b[0m \u001b[0mfunc\u001b[0m\u001b[0;34m(\u001b[0m\u001b[0mx\u001b[0m\u001b[0;34m,\u001b[0m \u001b[0;34m*\u001b[0m\u001b[0margs\u001b[0m\u001b[0;34m,\u001b[0m \u001b[0;34m**\u001b[0m\u001b[0mkwargs\u001b[0m\u001b[0;34m)\u001b[0m\u001b[0;34m\u001b[0m\u001b[0;34m\u001b[0m\u001b[0m\n\u001b[0m\u001b[1;32m   1024\u001b[0m         \u001b[0;32mfor\u001b[0m \u001b[0mname\u001b[0m\u001b[0;34m,\u001b[0m \u001b[0mgroup\u001b[0m \u001b[0;32min\u001b[0m \u001b[0mself\u001b[0m\u001b[0;34m:\u001b[0m\u001b[0;34m\u001b[0m\u001b[0;34m\u001b[0m\u001b[0m\n\u001b[1;32m   1025\u001b[0m             \u001b[0mobject\u001b[0m\u001b[0;34m.\u001b[0m\u001b[0m__setattr__\u001b[0m\u001b[0;34m(\u001b[0m\u001b[0mgroup\u001b[0m\u001b[0;34m,\u001b[0m \u001b[0;34m\"name\"\u001b[0m\u001b[0;34m,\u001b[0m \u001b[0mname\u001b[0m\u001b[0;34m)\u001b[0m\u001b[0;34m\u001b[0m\u001b[0;34m\u001b[0m\u001b[0m\n",
      "\u001b[0;32m<ipython-input-477-9d9220a1053b>\u001b[0m in \u001b[0;36m<lambda>\u001b[0;34m(x)\u001b[0m\n\u001b[0;32m----> 1\u001b[0;31m \u001b[0mdf\u001b[0m\u001b[0;34m.\u001b[0m\u001b[0mgroupby\u001b[0m\u001b[0;34m(\u001b[0m\u001b[0;34m'expr'\u001b[0m\u001b[0;34m)\u001b[0m\u001b[0;34m[\u001b[0m\u001b[0;34m'size_factor'\u001b[0m\u001b[0;34m]\u001b[0m\u001b[0;34m.\u001b[0m\u001b[0mtransform\u001b[0m\u001b[0;34m(\u001b[0m\u001b[0;32mlambda\u001b[0m \u001b[0mx\u001b[0m\u001b[0;34m:\u001b[0m \u001b[0mpd\u001b[0m\u001b[0;34m.\u001b[0m\u001b[0mcut\u001b[0m\u001b[0;34m(\u001b[0m\u001b[0mx\u001b[0m\u001b[0;34m,\u001b[0m \u001b[0mbins\u001b[0m\u001b[0;34m=\u001b[0m\u001b[0;36m0\u001b[0m\u001b[0;34m,\u001b[0m \u001b[0mlabels\u001b[0m\u001b[0;34m=\u001b[0m\u001b[0mlist\u001b[0m\u001b[0;34m(\u001b[0m\u001b[0mstring\u001b[0m\u001b[0;34m.\u001b[0m\u001b[0mascii_lowercase\u001b[0m\u001b[0;34m[\u001b[0m\u001b[0;34m:\u001b[0m\u001b[0;36m0\u001b[0m\u001b[0;34m]\u001b[0m\u001b[0;34m)\u001b[0m\u001b[0;34m)\u001b[0m\u001b[0;34m)\u001b[0m\u001b[0;34m\u001b[0m\u001b[0;34m\u001b[0m\u001b[0m\n\u001b[0m",
      "\u001b[0;32m~/anaconda3/envs/single_cell/lib/python3.7/site-packages/pandas/core/reshape/tile.py\u001b[0m in \u001b[0;36mcut\u001b[0;34m(x, bins, right, labels, retbins, precision, include_lowest, duplicates)\u001b[0m\n\u001b[1;32m    214\u001b[0m     \u001b[0;32mif\u001b[0m \u001b[0;32mnot\u001b[0m \u001b[0mnp\u001b[0m\u001b[0;34m.\u001b[0m\u001b[0miterable\u001b[0m\u001b[0;34m(\u001b[0m\u001b[0mbins\u001b[0m\u001b[0;34m)\u001b[0m\u001b[0;34m:\u001b[0m\u001b[0;34m\u001b[0m\u001b[0;34m\u001b[0m\u001b[0m\n\u001b[1;32m    215\u001b[0m         \u001b[0;32mif\u001b[0m \u001b[0mis_scalar\u001b[0m\u001b[0;34m(\u001b[0m\u001b[0mbins\u001b[0m\u001b[0;34m)\u001b[0m \u001b[0;32mand\u001b[0m \u001b[0mbins\u001b[0m \u001b[0;34m<\u001b[0m \u001b[0;36m1\u001b[0m\u001b[0;34m:\u001b[0m\u001b[0;34m\u001b[0m\u001b[0;34m\u001b[0m\u001b[0m\n\u001b[0;32m--> 216\u001b[0;31m             \u001b[0;32mraise\u001b[0m \u001b[0mValueError\u001b[0m\u001b[0;34m(\u001b[0m\u001b[0;34m\"`bins` should be a positive integer.\"\u001b[0m\u001b[0;34m)\u001b[0m\u001b[0;34m\u001b[0m\u001b[0;34m\u001b[0m\u001b[0m\n\u001b[0m\u001b[1;32m    217\u001b[0m \u001b[0;34m\u001b[0m\u001b[0m\n\u001b[1;32m    218\u001b[0m         \u001b[0;32mtry\u001b[0m\u001b[0;34m:\u001b[0m  \u001b[0;31m# for array-like\u001b[0m\u001b[0;34m\u001b[0m\u001b[0;34m\u001b[0m\u001b[0m\n",
      "\u001b[0;31mValueError\u001b[0m: `bins` should be a positive integer."
     ]
    }
   ],
   "source": [
    "\n",
    "df.groupby('expr')['size_factor'].transform(lambda x: pd.cut(x, bins=0, labels=list(string.ascii_lowercase[:0])))"
   ]
  },
  {
   "cell_type": "code",
   "execution_count": 430,
   "metadata": {},
   "outputs": [
    {
     "name": "stdout",
     "output_type": "stream",
     "text": [
      "CPU times: user 1.96 ms, sys: 82 µs, total: 2.04 ms\n",
      "Wall time: 1.33 ms\n"
     ]
    }
   ],
   "source": [
    "%%time\n",
    "a = df.groupby('expr')['size_factor'].size()"
   ]
  },
  {
   "cell_type": "code",
   "execution_count": 451,
   "metadata": {},
   "outputs": [
    {
     "name": "stdout",
     "output_type": "stream",
     "text": [
      "CPU times: user 3.98 ms, sys: 0 ns, total: 3.98 ms\n",
      "Wall time: 3.19 ms\n"
     ]
    }
   ],
   "source": [
    "%%time\n",
    "a = df.groupby('expr')['size_factor'].apply(list).to_dict()"
   ]
  },
  {
   "cell_type": "code",
   "execution_count": 452,
   "metadata": {},
   "outputs": [
    {
     "name": "stdout",
     "output_type": "stream",
     "text": [
      "CPU times: user 1.35 ms, sys: 57 µs, total: 1.41 ms\n",
      "Wall time: 831 µs\n"
     ]
    }
   ],
   "source": [
    "%%time\n",
    "a = np.random.choice(a[0], len(a[0])).mean()"
   ]
  },
  {
   "cell_type": "code",
   "execution_count": 434,
   "metadata": {},
   "outputs": [],
   "source": [
    "gene_rvs = stats.multinomial.rvs(n=100, p=[.7, .2, .1], size=1000).T"
   ]
  },
  {
   "cell_type": "code",
   "execution_count": 435,
   "metadata": {},
   "outputs": [
    {
     "data": {
      "text/plain": [
       "array([[71, 75, 71, ..., 67, 70, 80],\n",
       "       [20, 22, 15, ..., 19, 22, 13],\n",
       "       [ 9,  3, 14, ..., 14,  8,  7]])"
      ]
     },
     "execution_count": 435,
     "metadata": {},
     "output_type": "execute_result"
    }
   ],
   "source": [
    "gene_rvs"
   ]
  },
  {
   "cell_type": "code",
   "execution_count": 415,
   "metadata": {},
   "outputs": [
    {
     "data": {
      "text/plain": [
       "Timer unit: 1e-06 s\n",
       "\n",
       "Total time: 0.019511 s\n",
       "File: /home/ssm-user/Github/scrna-parameter-estimation/scmemo/bootstrap.py\n",
       "Function: _bootstrap_1d at line 75\n",
       "\n",
       "Line #      Hits         Time  Per Hit   % Time  Line Contents\n",
       "==============================================================\n",
       "    75                                           def _bootstrap_1d(\n",
       "    76                                           \tdata, \n",
       "    77                                           \tsf_df, \n",
       "    78                                           \tnum_boot=1000, \n",
       "    79                                           \tmv_regressor=None, \n",
       "    80                                           \tn_umi=1, \n",
       "    81                                           \tbins=2, \n",
       "    82                                           \tdirichlet_approx=True,\n",
       "    83                                           \tlog=True):\n",
       "    84                                           \t\"\"\"\n",
       "    85                                           \t\tPerform the bootstrap and CI calculation for mean and variance.\n",
       "    86                                           \t\t\n",
       "    87                                           \t\tThis function performs bootstrap for a single gene. \n",
       "    88                                           \t\t\n",
       "    89                                           \t\tThis function expects :data: to be a single sparse column vector.\n",
       "    90                                           \t\"\"\"\n",
       "    91                                           \t\n",
       "    92         1          2.0      2.0      0.0  \tNc = data.shape[0]\n",
       "    93                                           \t\t\t\n",
       "    94                                           \t# Pre-compute size factor\n",
       "    95         1          1.0      1.0      0.0  \tinv_sf, inv_sf_sq, expr, counts = _precompute_size_factor(\n",
       "    96         1        530.0    530.0      2.7  \t\texpr=data.toarray().reshape(-1), \n",
       "    97         1          1.0      1.0      0.0  \t\tsf_df=sf_df,\n",
       "    98         1      12341.0  12341.0     63.3  \t\tbins=bins)\n",
       "    99                                           \n",
       "   100                                           \t# Skip this gene if it has no expression\n",
       "   101         1          2.0      2.0      0.0  \tif expr.shape[0] <= bins:\n",
       "   102                                           \t\treturn np.full(num_boot, np.nan), np.full(num_boot, np.nan)\n",
       "   103                                           \t\n",
       "   104                                           \t# Generate the bootstrap samples.\n",
       "   105                                           \t# The first sample is always the original data counts.\n",
       "   106         1         88.0     88.0      0.5  \tgen = np.random.Generator(np.random.PCG64(42343))\n",
       "   107         1        174.0    174.0      0.9  \tgene_rvs = np.zeros((counts.shape[0], num_boot + 1))\n",
       "   108         1          1.0      1.0      0.0  \tif dirichlet_approx:\n",
       "   109         1         10.0     10.0      0.1  \t\tgene_rvs[:, 0] = counts/Nc\n",
       "   110         1       4176.0   4176.0     21.4  \t\tgene_rvs[:, 1:] = gen.dirichlet(alpha=counts, size=num_boot).T\n",
       "   111         1          1.0      1.0      0.0  \t\tn_obs = 1\n",
       "   112                                           \telse:\n",
       "   113                                           \t\tgene_rvs[:, 0] = counts\n",
       "   114                                           \t\tgene_rvs[:, 1:] = gen.multinomial(n=Nc, pvals=counts/Nc, size=num_boot).T\n",
       "   115                                           \t\tn_obs = Nc\n",
       "   116                                           \n",
       "   117                                           \t# Estimate mean and variance\n",
       "   118         1          2.0      2.0      0.0  \tmean, var = estimator._poisson_1d(\n",
       "   119         1          1.0      1.0      0.0  \t\tdata=(expr, gene_rvs),\n",
       "   120         1          0.0      0.0      0.0  \t\tn_obs=n_obs,\n",
       "   121         1          1.0      1.0      0.0  \t\tsize_factor=(inv_sf, inv_sf_sq),\n",
       "   122         1          0.0      0.0      0.0  \t\tn_umi=n_umi,\n",
       "   123         1       1764.0   1764.0      9.0  \t\tnoise=True)\n",
       "   124                                           \n",
       "   125                                           \t# Return the mean and the variance\n",
       "   126         1          1.0      1.0      0.0  \tif log:\n",
       "   127         1          9.0      9.0      0.0  \t\tmean[mean <= 0] = np.nan\n",
       "   128         1          1.0      1.0      0.0  \t\tif mv_regressor is not None:\n",
       "   129                                           \t\t\treturn np.log(mean), estimator._residual_variance(mean, var, mv_regressor)\n",
       "   130                                           \t\telse:\n",
       "   131         1          5.0      5.0      0.0  \t\t\tvar[var <= 0] = np.nan\n",
       "   132         1        400.0    400.0      2.1  \t\t\treturn np.log(mean), np.log(var)\n",
       "   133                                           \telse:\n",
       "   134                                           \t\treturn mean, var"
      ]
     },
     "metadata": {},
     "output_type": "display_data"
    }
   ],
   "source": [
    "%lprun -f bootstrap._bootstrap_1d bootstrap._bootstrap_1d(csc_mat[:, 0],  sf_df=df, n_umi=adata_scmemo.uns['scmemo']['n_umi'], num_boot=10000, bins=2, dirichlet_approx=True)"
   ]
  },
  {
   "cell_type": "code",
   "execution_count": 414,
   "metadata": {},
   "outputs": [
    {
     "data": {
      "text/plain": [
       "Timer unit: 1e-06 s\n",
       "\n",
       "Total time: 0.077346 s\n",
       "File: /home/ssm-user/Github/scrna-parameter-estimation/scmemo/bootstrap.py\n",
       "Function: _bootstrap_1d at line 75\n",
       "\n",
       "Line #      Hits         Time  Per Hit   % Time  Line Contents\n",
       "==============================================================\n",
       "    75                                           def _bootstrap_1d(\n",
       "    76                                           \tdata, \n",
       "    77                                           \tsf_df, \n",
       "    78                                           \tnum_boot=1000, \n",
       "    79                                           \tmv_regressor=None, \n",
       "    80                                           \tn_umi=1, \n",
       "    81                                           \tbins=2, \n",
       "    82                                           \tdirichlet_approx=True,\n",
       "    83                                           \tlog=True):\n",
       "    84                                           \t\"\"\"\n",
       "    85                                           \t\tPerform the bootstrap and CI calculation for mean and variance.\n",
       "    86                                           \t\t\n",
       "    87                                           \t\tThis function performs bootstrap for a single gene. \n",
       "    88                                           \t\t\n",
       "    89                                           \t\tThis function expects :data: to be a single sparse column vector.\n",
       "    90                                           \t\"\"\"\n",
       "    91                                           \t\n",
       "    92         1          3.0      3.0      0.0  \tNc = data.shape[0]\n",
       "    93                                           \t\t\t\n",
       "    94                                           \t# Pre-compute size factor\n",
       "    95         1          1.0      1.0      0.0  \tinv_sf, inv_sf_sq, expr, counts = _precompute_size_factor(\n",
       "    96         1        480.0    480.0      0.6  \t\texpr=data.toarray().reshape(-1), \n",
       "    97         1          1.0      1.0      0.0  \t\tsf_df=sf_df,\n",
       "    98         1      53729.0  53729.0     69.5  \t\tbins=bins)\n",
       "    99                                           \n",
       "   100                                           \t# Skip this gene if it has no expression\n",
       "   101         1          2.0      2.0      0.0  \tif expr.shape[0] <= bins:\n",
       "   102                                           \t\treturn np.full(num_boot, np.nan), np.full(num_boot, np.nan)\n",
       "   103                                           \t\n",
       "   104                                           \t# Generate the bootstrap samples.\n",
       "   105                                           \t# The first sample is always the original data counts.\n",
       "   106         1         88.0     88.0      0.1  \tgen = np.random.Generator(np.random.PCG64(42343))\n",
       "   107         1        638.0    638.0      0.8  \tgene_rvs = np.zeros((counts.shape[0], num_boot + 1))\n",
       "   108         1          1.0      1.0      0.0  \tif dirichlet_approx:\n",
       "   109         1         10.0     10.0      0.0  \t\tgene_rvs[:, 0] = counts/Nc\n",
       "   110         1      15293.0  15293.0     19.8  \t\tgene_rvs[:, 1:] = gen.dirichlet(alpha=counts, size=num_boot).T\n",
       "   111         1          2.0      2.0      0.0  \t\tn_obs = 1\n",
       "   112                                           \telse:\n",
       "   113                                           \t\tgene_rvs[:, 0] = counts\n",
       "   114                                           \t\tgene_rvs[:, 1:] = gen.multinomial(n=Nc, pvals=counts/Nc, size=num_boot).T\n",
       "   115                                           \t\tn_obs = Nc\n",
       "   116                                           \n",
       "   117                                           \t# Estimate mean and variance\n",
       "   118         1          2.0      2.0      0.0  \tmean, var = estimator._poisson_1d(\n",
       "   119         1          0.0      0.0      0.0  \t\tdata=(expr, gene_rvs),\n",
       "   120         1          1.0      1.0      0.0  \t\tn_obs=n_obs,\n",
       "   121         1          0.0      0.0      0.0  \t\tsize_factor=(inv_sf, inv_sf_sq),\n",
       "   122         1          1.0      1.0      0.0  \t\tn_umi=n_umi,\n",
       "   123         1       6701.0   6701.0      8.7  \t\tnoise=True)\n",
       "   124                                           \n",
       "   125                                           \t# Return the mean and the variance\n",
       "   126         1          1.0      1.0      0.0  \tif log:\n",
       "   127         1         11.0     11.0      0.0  \t\tmean[mean <= 0] = np.nan\n",
       "   128         1          1.0      1.0      0.0  \t\tif mv_regressor is not None:\n",
       "   129                                           \t\t\treturn np.log(mean), estimator._residual_variance(mean, var, mv_regressor)\n",
       "   130                                           \t\telse:\n",
       "   131         1          5.0      5.0      0.0  \t\t\tvar[var <= 0] = np.nan\n",
       "   132         1        375.0    375.0      0.5  \t\t\treturn np.log(mean), np.log(var)\n",
       "   133                                           \telse:\n",
       "   134                                           \t\treturn mean, var"
      ]
     },
     "metadata": {},
     "output_type": "display_data"
    }
   ],
   "source": [
    "%lprun -f bootstrap._bootstrap_1d bootstrap._bootstrap_1d(csc_mat[:, 0],  sf_df=df, n_umi=adata_scmemo.uns['scmemo']['n_umi'], num_boot=10000, bins=10, dirichlet_approx=True)"
   ]
  },
  {
   "cell_type": "code",
   "execution_count": 386,
   "metadata": {},
   "outputs": [
    {
     "data": {
      "text/plain": [
       "<module 'bootstrap' from '/home/ssm-user/Github/scrna-parameter-estimation/scmemo/bootstrap.py'>"
      ]
     },
     "execution_count": 386,
     "metadata": {},
     "output_type": "execute_result"
    }
   ],
   "source": [
    "imp.reload(bootstrap)"
   ]
  },
  {
   "cell_type": "code",
   "execution_count": 413,
   "metadata": {},
   "outputs": [
    {
     "name": "stdout",
     "output_type": "stream",
     "text": [
      "-16.158789192595407\n",
      "CPU times: user 14.5 ms, sys: 0 ns, total: 14.5 ms\n",
      "Wall time: 13.7 ms\n"
     ]
    }
   ],
   "source": [
    "%%time\n",
    "# res_1 = scmemo.bootstrap_1d_moments(adata_scmemo, inplace=False, num_boot=100000, verbose=True, bins=1)\n",
    "# res_2 = scmemo.bootstrap_1d_moments(adata_scmemo, inplace=False, num_boot=100000, verbose=True, bins=2)\n",
    "mean, var= bootstrap._bootstrap_1d(\n",
    "    csc_mat[:, 0], \n",
    "    sf_df=df, \n",
    "    n_umi=adata_scmemo.uns['scmemo']['n_umi'],\n",
    "    num_boot=10000,\n",
    "    bins=2,\n",
    "    dirichlet_approx=True)\n",
    "print(var.mean())"
   ]
  },
  {
   "cell_type": "code",
   "execution_count": 397,
   "metadata": {},
   "outputs": [
    {
     "name": "stdout",
     "output_type": "stream",
     "text": [
      "9.398783822804087e-08 2.2915542493337632e-09\n",
      "-1.0241019602300748e-11 -0.0006960628630312668\n",
      "CPU times: user 165 ms, sys: 58 µs, total: 165 ms\n",
      "Wall time: 164 ms\n"
     ]
    }
   ],
   "source": [
    "%%time\n",
    "# imp.reload(bootstrap)\n",
    "cov, corr, var_1, var_2 = bootstrap._bootstrap_2d(\n",
    "    csc_mat[:, [0, 1]], \n",
    "    sf_df=df, \n",
    "    n_umi=adata_scmemo.uns['scmemo']['n_umi'],\n",
    "    num_boot=10000,\n",
    "    bins=2)\n",
    "print(var_1.mean(), var_2.mean())\n",
    "print(cov.mean(), corr.mean())"
   ]
  },
  {
   "cell_type": "markdown",
   "metadata": {},
   "source": [
    "### Characterize the approximate bootstrap"
   ]
  },
  {
   "cell_type": "code",
   "execution_count": 463,
   "metadata": {},
   "outputs": [],
   "source": [
    "from statsmodels.distributions.empirical_distribution import ECDF"
   ]
  },
  {
   "cell_type": "code",
   "execution_count": 489,
   "metadata": {},
   "outputs": [
    {
     "data": {
      "text/plain": [
       "<matplotlib.axes._subplots.AxesSubplot at 0x7f5db68917d0>"
      ]
     },
     "execution_count": 489,
     "metadata": {},
     "output_type": "execute_result"
    },
    {
     "data": {
      "image/png": "[encoded data removed]",
      "text/plain": [
       "<Figure size 792x216 with 3 Axes>"
      ]
     },
     "metadata": {
      "needs_background": "light"
     },
     "output_type": "display_data"
    }
   ],
   "source": [
    "plt.figure(figsize=(11, 3))\n",
    "plt.subplot(1, 3, 1)\n",
    "plt.plot([-0,1], [-0,1], lw=1, color='m')\n",
    "plt.scatter(\n",
    "    ecdf.y[1:],\n",
    "    ecdf(np.sort(np.log(res_1[1]))),\n",
    "    s=0.01)\n",
    "plt.scatter(\n",
    "    ecdf.y[1:],\n",
    "    ecdf(np.sort(np.log(res_2[1]))),\n",
    "    s=0.01)\n",
    "plt.scatter(\n",
    "    ecdf.y[1:],\n",
    "    ecdf(np.sort(np.log(res_3[1]))),\n",
    "    s=0.01)\n",
    "plt.legend(['True', '1 bins', '2 bins', '3 bins'], markerscale=100)\n",
    "\n",
    "plt.subplot(1, 3, 2)\n",
    "plt.plot([-0,1], [-0,1], lw=1, color='m')\n",
    "plt.scatter(\n",
    "    ecdf.y[1:],\n",
    "    ecdf(np.sort(np.log(res_1[1]))),\n",
    "    s=0.01)\n",
    "plt.scatter(\n",
    "    ecdf.y[1:],\n",
    "    ecdf(np.sort(np.log(res_2[1]))),\n",
    "    s=0.01)\n",
    "plt.scatter(\n",
    "    ecdf.y[1:],\n",
    "    ecdf(np.sort(np.log(res_3[1]))),\n",
    "    s=0.01)\n",
    "plt.xlim(0, .1); plt.ylim(0, .1)\n",
    "plt.legend(['True', '1 bins', '2 bins', '3 bins'], markerscale=100)\n",
    "\n",
    "plt.subplot(1, 3, 3)\n",
    "sns.distplot(np.log(res_1[1]), hist=False, label='1 bin')\n",
    "sns.distplot(np.log(res_2[1]), hist=False, label='2 bin')\n",
    "sns.distplot(np.log(res_3[1]), hist=False, label='3 bin')\n",
    "sns.distplot(np.log(real_boot_vars), hist=False, label='true bootstrap')\n"
   ]
  }
 ],
 "metadata": {
  "kernelspec": {
   "display_name": "Python 3",
   "language": "python",
   "name": "python3"
  },
  "language_info": {
   "codemirror_mode": {
    "name": "ipython",
    "version": 3
   },
   "file_extension": ".py",
   "mimetype": "text/x-python",
   "name": "python",
   "nbconvert_exporter": "python",
   "pygments_lexer": "ipython3",
   "version": "3.7.5"
  }
 },
 "nbformat": 4,
 "nbformat_minor": 4
}
