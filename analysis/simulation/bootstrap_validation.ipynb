{
 "cells": [
  {
   "cell_type": "markdown",
   "metadata": {},
   "source": [
    "# Bootstrap validation\n",
    "\n",
    "This notebook contains code for validating the approximate bootstrap as well as generating half of figure 3 of the paper."
   ]
  },
  {
   "cell_type": "code",
   "execution_count": 1,
   "metadata": {},
   "outputs": [],
   "source": [
    "import pandas as pd\n",
    "import matplotlib.pyplot as plt\n",
    "import scanpy as sc\n",
    "import scipy as sp\n",
    "import itertools\n",
    "import numpy as np\n",
    "import scipy.stats as stats\n",
    "from scipy.integrate import dblquad\n",
    "import seaborn as sns\n",
    "from statsmodels.stats.multitest import fdrcorrection\n",
    "import imp\n",
    "pd.options.display.max_rows = 999\n",
    "pd.set_option('display.max_colwidth', -1)\n",
    "from statsmodels.distributions.empirical_distribution import ECDF\n",
    "import pickle as pkl\n",
    "import time"
   ]
  },
  {
   "cell_type": "code",
   "execution_count": 2,
   "metadata": {},
   "outputs": [],
   "source": [
    "import matplotlib as mpl\n",
    "mpl.rcParams['pdf.fonttype'] = 42\n",
    "mpl.rcParams['ps.fonttype'] = 42\n",
    "\n",
    "import matplotlib.pylab as pylab\n",
    "params = {'legend.fontsize': 'x-small',\n",
    "         'axes.labelsize': 'medium',\n",
    "         'axes.titlesize':'medium',\n",
    "         'figure.titlesize':'medium',\n",
    "         'xtick.labelsize':'small',\n",
    "         'ytick.labelsize':'small'}\n",
    "pylab.rcParams.update(params)\n"
   ]
  },
  {
   "cell_type": "code",
   "execution_count": 3,
   "metadata": {},
   "outputs": [
    {
     "name": "stderr",
     "output_type": "stream",
     "text": [
      "/home/ssm-user/anaconda3/envs/single_cell/lib/python3.7/site-packages/scanpy/api/__init__.py:6: FutureWarning: \n",
      "\n",
      "In a future version of Scanpy, `scanpy.api` will be removed.\n",
      "Simply use `import scanpy as sc` and `import scanpy.external as sce` instead.\n",
      "\n",
      "  FutureWarning,\n"
     ]
    }
   ],
   "source": [
    "import sys\n",
    "sys.path.append('/home/ssm-user/Github/scrna-parameter-estimation/scmemo')\n",
    "import estimator, simulate, scmemo, bootstrap, util"
   ]
  },
  {
   "cell_type": "code",
   "execution_count": 4,
   "metadata": {},
   "outputs": [],
   "source": [
    "import sys\n",
    "sys.path.append('/home/ssm-user/Github/single_cell_eb/')\n",
    "sys.path.append('/home/ssm-user/Github/single_cell_eb/sceb')\n",
    "import scdd"
   ]
  },
  {
   "cell_type": "code",
   "execution_count": 5,
   "metadata": {},
   "outputs": [],
   "source": [
    "fig_path = '/home/ssm-user/Github/scrna-parameter-estimation/figures/fig3/'"
   ]
  },
  {
   "cell_type": "markdown",
   "metadata": {},
   "source": [
    "### Validate the bootstrap outcomes for a single gene\n",
    "\n",
    "Check the mean of the bootstrap distributions for mean and variance"
   ]
  },
  {
   "cell_type": "code",
   "execution_count": 472,
   "metadata": {},
   "outputs": [],
   "source": [
    "true_data = simulate.simulate_transcriptomes(10000, 2000, correlated=False)\n",
    "qs, captured_data = simulate.capture_sampling(true_data, q=0.1, q_sq=0.011)\n",
    "adata = sc.AnnData(sp.sparse.csr_matrix(captured_data))\n",
    "adata.obs['ct'] = 'PBMC'"
   ]
  },
  {
   "cell_type": "code",
   "execution_count": 473,
   "metadata": {},
   "outputs": [],
   "source": [
    "# Calculate the point estimates\n",
    "size_factors = scdd.dd_size_factor(adata)\n",
    "Nr = adata.X.sum(axis=1).mean()\n",
    "_, M_dd = scdd.dd_1d_moment(adata, size_factor=size_factors, verbose=False, Nr=Nr)\n",
    "var_scdd = scdd.M_to_var(M_dd)"
   ]
  },
  {
   "cell_type": "code",
   "execution_count": 474,
   "metadata": {},
   "outputs": [
    {
     "name": "stdout",
     "output_type": "stream",
     "text": [
      "This gene has 13 unique counts.\n"
     ]
    }
   ],
   "source": [
    "# Get info for a single gene\n",
    "gene_idx = 67\n",
    "\n",
    "data = adata.X[:, gene_idx].todense().A1\n",
    "sparse_data = adata.X[:, gene_idx]\n",
    "all_sf = size_factors\n",
    "normalized_data = data/all_sf/Nr\n",
    "unique_count = np.unique(data).shape[0]\n",
    "num_boot = 10000\n",
    "print('This gene has {} unique counts.'.format(unique_count))"
   ]
  },
  {
   "cell_type": "code",
   "execution_count": 475,
   "metadata": {},
   "outputs": [
    {
     "name": "stdout",
     "output_type": "stream",
     "text": [
      "CPU times: user 8.87 s, sys: 5.99 ms, total: 8.88 s\n",
      "Wall time: 8.88 s\n"
     ]
    }
   ],
   "source": [
    "%%time\n",
    "# Perform true bootstrap\n",
    "real_boot_mean_dist = np.zeros(num_boot)\n",
    "real_boot_var_dist = np.zeros(num_boot)\n",
    "for boot in range(num_boot):\n",
    "    \n",
    "    boot_idx = np.random.choice(data.shape[0], data.shape[0])\n",
    "    res = estimator._poisson_1d(sparse_data[boot_idx], data.shape[0], size_factor=all_sf[boot_idx], n_umi=Nr)\n",
    "    real_boot_mean_dist[boot] = res[0][0]\n",
    "    real_boot_var_dist[boot] = res[1][0]"
   ]
  },
  {
   "cell_type": "code",
   "execution_count": 476,
   "metadata": {},
   "outputs": [
    {
     "name": "stdout",
     "output_type": "stream",
     "text": [
      "CPU times: user 114 ms, sys: 0 ns, total: 114 ms\n",
      "Wall time: 114 ms\n"
     ]
    }
   ],
   "source": [
    "%%time\n",
    "imp.reload(bootstrap)\n",
    "num_bins_list = [3, 5, 10, 18]\n",
    "approx_boot_dists = []\n",
    "for num_bins in num_bins_list:\n",
    "\n",
    "    approx_boot_dists.append(bootstrap._bootstrap_1d(\n",
    "        data=sparse_data,\n",
    "        size_factor=all_sf, \n",
    "        true_mean=M_dd[0][gene_idx], \n",
    "        true_var=var_scdd[gene_idx], \n",
    "        num_boot=num_boot, \n",
    "        n_umi=Nr, \n",
    "        log=False,\n",
    "        bins=num_bins))  \n"
   ]
  },
  {
   "cell_type": "code",
   "execution_count": 512,
   "metadata": {},
   "outputs": [
    {
     "data": {
      "text/plain": [
       "(0, 0.1)"
      ]
     },
     "execution_count": 512,
     "metadata": {},
     "output_type": "execute_result"
    },
    {
     "data": {
      "image/png": "[encoded data removed]",
      "text/plain": [
       "<Figure size 165.6x144 with 1 Axes>"
      ]
     },
     "metadata": {
      "needs_background": "light"
     },
     "output_type": "display_data"
    },
    {
     "data": {
      "image/png": "[encoded data removed]",
      "text/plain": [
       "<Figure size 55.2x48 with 1 Axes>"
      ]
     },
     "metadata": {
      "needs_background": "light"
     },
     "output_type": "display_data"
    }
   ],
   "source": [
    "# Fit ECDF\n",
    "real_boot_var_ecdf = ECDF(real_boot_var_dist)\n",
    "\n",
    "# Plot ECDF variances\n",
    "plt.figure(figsize=(2.3, 2))\n",
    "plt.plot([0, 1], [0, 1], c='m', lw=1)\n",
    "for idx, num_bins in enumerate(num_bins_list):\n",
    "    plt.plot(real_boot_var_ecdf.y[1:], real_boot_var_ecdf( np.sort(approx_boot_dists[idx][1])), label='{} bins'.format(num_bins), lw=1)\n",
    "# plt.xlim(0, 0.1);plt.ylim(0, 0.1)\n",
    "plt.legend()\n",
    "plt.ylabel('Approximate bootstrap'); plt.xlabel('True bootstrap');\n",
    "# plt.savefig(fig_path + 'bootstrap_ecdf_var_large.pdf', bbox_inches='tight')\n",
    "\n",
    "# Plot ECDF variances - small\n",
    "plt.figure(figsize=(2.3/3, 2/3))\n",
    "plt.plot([0, 1], [0, 1], c='m', lw=2)\n",
    "for idx, num_bins in enumerate(num_bins_list):\n",
    "    plt.plot(real_boot_var_ecdf.y[1:], real_boot_var_ecdf( np.sort(approx_boot_dists[idx][1])), label='{} bins'.format(num_bins), lw=1)\n",
    "plt.xlim(0, 0.1);plt.ylim(0, 0.1)\n",
    "# plt.savefig(fig_path + 'bootstrap_ecdf_var_small.pdf', bbox_inches='tight')"
   ]
  },
  {
   "cell_type": "markdown",
   "metadata": {},
   "source": [
    "### Validate the bootstrap outcomes for a single pair of genes\n",
    "\n",
    "Check the mean of the bootstrap distributions for correlation"
   ]
  },
  {
   "cell_type": "code",
   "execution_count": 513,
   "metadata": {},
   "outputs": [],
   "source": [
    "true_data = simulate.simulate_transcriptomes(10000, 2000, correlated=True)\n",
    "qs, captured_data = simulate.capture_sampling(true_data, q=0.1, q_sq=0.011)\n",
    "adata = sc.AnnData(sp.sparse.csr_matrix(captured_data))\n",
    "adata.obs['ct'] = 'PBMC'"
   ]
  },
  {
   "cell_type": "code",
   "execution_count": 514,
   "metadata": {},
   "outputs": [
    {
     "name": "stdout",
     "output_type": "stream",
     "text": [
      "This gene has 66 unique counts.\n"
     ]
    }
   ],
   "source": [
    "# Get info for a single pair of gene\n",
    "gene_idx_1 = 0\n",
    "gene_idx_2 = 1\n",
    "gene_idxs = [gene_idx_1, gene_idx_2]\n",
    "\n",
    "data = adata.X[:, gene_idxs].toarray()\n",
    "sparse_data = adata.X[:, gene_idxs]\n",
    "all_sf = size_factors\n",
    "normalized_data = data/all_sf.reshape(-1, 1)/Nr\n",
    "unique_count = np.unique(data, axis=0).shape[0]\n",
    "num_boot = 10000\n",
    "print('This gene has {} unique counts.'.format(unique_count))"
   ]
  },
  {
   "cell_type": "code",
   "execution_count": 515,
   "metadata": {},
   "outputs": [],
   "source": [
    "# Calculate the point estimates\n",
    "size_factors = scdd.dd_size_factor(adata)\n",
    "Nr = adata.X.sum(axis=1).mean()\n",
    "true_mean, true_var = estimator._poisson_1d(sparse_data, data.shape[0], size_factor=all_sf, n_umi=Nr)\n",
    "true_cov = estimator._poisson_cov(sparse_data, data.shape[0], size_factor=all_sf, n_umi=Nr)[0, 1]\n",
    "true_corr = true_cov/np.sqrt(true_var[0]*true_var[1])"
   ]
  },
  {
   "cell_type": "code",
   "execution_count": 516,
   "metadata": {},
   "outputs": [
    {
     "name": "stdout",
     "output_type": "stream",
     "text": [
      "CPU times: user 41.1 s, sys: 1.44 ms, total: 41.1 s\n",
      "Wall time: 41.1 s\n"
     ]
    }
   ],
   "source": [
    "%%time\n",
    "# Perform true bootstrap\n",
    "imp.reload(estimator)\n",
    "real_boot_corr_dist = np.zeros(num_boot)\n",
    "real_boot_cov_dist = np.zeros(num_boot)\n",
    "\n",
    "for boot in range(num_boot):\n",
    "    \n",
    "    boot_idx = np.random.choice(data.shape[0], data.shape[0])\n",
    "    boot_mean, boot_var = estimator._poisson_1d(sparse_data[boot_idx], data.shape[0], size_factor=all_sf[boot_idx], n_umi=Nr)\n",
    "    cov = estimator._poisson_cov(sparse_data[boot_idx], data.shape[0], size_factor=all_sf[boot_idx], n_umi=Nr)[1, 0]\n",
    "    real_boot_corr_dist[boot] = estimator._corr_from_cov(cov, boot_var[0], boot_var[1])\n",
    "    real_boot_cov_dist[boot] = cov"
   ]
  },
  {
   "cell_type": "code",
   "execution_count": 517,
   "metadata": {},
   "outputs": [
    {
     "name": "stdout",
     "output_type": "stream",
     "text": [
      "CPU times: user 1.13 s, sys: 87.6 ms, total: 1.22 s\n",
      "Wall time: 1.22 s\n"
     ]
    }
   ],
   "source": [
    "%%time\n",
    "imp.reload(bootstrap)\n",
    "num_bins_list = [5, 10, 15, 20, 25, 40]\n",
    "approx_boot_dists = []\n",
    "for num_bins in num_bins_list:\n",
    "\n",
    "    approx_boot_dists.append(bootstrap._bootstrap_2d(\n",
    "        data=sparse_data,\n",
    "        size_factor=all_sf,\n",
    "        true_cov=true_cov,\n",
    "        true_corr=true_corr,\n",
    "        num_boot=num_boot, \n",
    "        n_umi=Nr, \n",
    "        bins=num_bins))  \n"
   ]
  },
  {
   "cell_type": "code",
   "execution_count": 518,
   "metadata": {},
   "outputs": [
    {
     "data": {
      "image/png": "[encoded data removed]",
      "text/plain": [
       "<Figure size 165.6x144 with 1 Axes>"
      ]
     },
     "metadata": {
      "needs_background": "light"
     },
     "output_type": "display_data"
    },
    {
     "data": {
      "image/png": "[encoded data removed]",
      "text/plain": [
       "<Figure size 55.2x48 with 1 Axes>"
      ]
     },
     "metadata": {
      "needs_background": "light"
     },
     "output_type": "display_data"
    }
   ],
   "source": [
    "# Fit ECDF\n",
    "real_boot_corr_ecdf = ECDF(real_boot_corr_dist)\n",
    "\n",
    "# Plot ECDF variances\n",
    "plt.figure(figsize=(2.3, 2))\n",
    "plt.plot([0, 1], [0, 1], c='m', lw=2)\n",
    "for idx, num_bins in enumerate(num_bins_list):\n",
    "    plt.plot(real_boot_corr_ecdf.y[1:], real_boot_corr_ecdf( np.sort(approx_boot_dists[idx][1]))  , label='{} bins'.format(num_bins), lw=1)\n",
    "# plt.xlim(0, 0.1);plt.ylim(0, 0.1)\n",
    "plt.legend()\n",
    "plt.savefig(fig_path + 'bootstrap_ecdf_corr_large.pdf', bbox_inches='tight')\n",
    "plt.ylabel('Approximate bootstrap'); plt.xlabel('True bootstrap');\n",
    "\n",
    "# Plot ECDF variances - small\n",
    "plt.figure(figsize=(2.3/3, 2/3))\n",
    "plt.plot([0, 1], [0, 1], c='m', lw=2)\n",
    "for idx, num_bins in enumerate(num_bins_list):\n",
    "    plt.plot(real_boot_corr_ecdf.y[1:], real_boot_corr_ecdf( np.sort(approx_boot_dists[idx][1]))  , label='{} bins'.format(num_bins), lw=1)\n",
    "# plt.xlim(0, 0.1);plt.ylim(0, 0.1)\n",
    "plt.xlim(0, 0.1);plt.ylim(0, 0.1)\n",
    "plt.savefig(fig_path + 'bootstrap_ecdf_corr_small.pdf', bbox_inches='tight')\n"
   ]
  },
  {
   "cell_type": "markdown",
   "metadata": {},
   "source": [
    "### Timing analysis with increasing cell numbers 1D"
   ]
  },
  {
   "cell_type": "code",
   "execution_count": 135,
   "metadata": {},
   "outputs": [
    {
     "name": "stdout",
     "output_type": "stream",
     "text": [
      "mean 7.38905609893065 dispersion 2.5829465452224327\n",
      "unique count (25,)\n"
     ]
    }
   ],
   "source": [
    "# Generate cell sizes\n",
    "num_cells = 2000000\n",
    "cell_sizes = np.exp(stats.norm.rvs(11, 0.2, num_cells)).astype(int)\n",
    "\n",
    "# Generate true expression of a single gene\n",
    "mean = np.exp(2)\n",
    "residual_variance = np.exp(3)\n",
    "variance = mean*residual_variance\n",
    "dispersion = (variance - mean)/mean**2\n",
    "theta = 1/dispersion\n",
    "print('mean', mean, 'dispersion', dispersion)\n",
    "expr = stats.nbinom.rvs(*simulate.convert_params(mean, theta), size=num_cells)\n",
    "\n",
    "# Generate the q's\n",
    "q = 0.07\n",
    "q_sq = 0.005\n",
    "m = q\n",
    "v = q_sq - q**2\n",
    "alpha = m*(m*(1-m)/v - 1)\n",
    "beta = (1-m)*(m*(1-m)/v - 1)\n",
    "qs = stats.beta.rvs(alpha, beta, size=num_cells)\n",
    "\n",
    "# Generate the observed distribution\n",
    "obs_expr = stats.hypergeom.rvs(M=cell_sizes, n=expr, N=(qs*cell_sizes).astype(int))\n",
    "obs_cell_sizes = (qs*cell_sizes).astype(int)\n",
    "\n",
    "print('unique count', np.unique(obs_expr).shape)"
   ]
  },
  {
   "cell_type": "code",
   "execution_count": 259,
   "metadata": {},
   "outputs": [],
   "source": [
    "imp.reload(bootstrap)\n",
    "times = []\n",
    "boot_dists = []\n",
    "sample_count_list = np.logspace(2, 6.2, 10)\n",
    "for sample_count in sample_count_list:\n",
    "    \n",
    "    sample_idx = np.random.choice(num_cells, int(sample_count))\n",
    "    sampled_obs_expr = obs_expr[sample_idx]\n",
    "    sampled_obs_cell_sizes = obs_cell_sizes[sample_idx]\n",
    "    \n",
    "    n_umi = sampled_obs_cell_sies.mean()\n",
    "    size_factors = sampled_obs_cell_sizes/sampled_obs_cell_sizes.mean()\n",
    "    \n",
    "    data = sp.sparse.csc_matrix(sampled_obs_expr.reshape(-1, 1))\n",
    "    \n",
    "    true_mean, true_var = estimator._poisson_1d(data, data.shape[0], size_factor=size_factors, n_umi=n_umi)\n",
    "    times.append(bootstrap._bootstrap_1d(\n",
    "        data=data,\n",
    "        size_factor=size_factors, \n",
    "        true_mean=true_mean[0], \n",
    "        true_var=true_var[0], \n",
    "        num_boot=30000, \n",
    "        n_umi=n_umi, \n",
    "        log=False,\n",
    "        return_times=True))\n",
    "    boot_dists.append(bootstrap._bootstrap_1d(\n",
    "        data=data,\n",
    "        size_factor=size_factors, \n",
    "        true_mean=true_mean[0], \n",
    "        true_var=true_var[0], \n",
    "        num_boot=30000, \n",
    "        n_umi=n_umi, \n",
    "        log=False,\n",
    "        return_times=False))"
   ]
  },
  {
   "cell_type": "code",
   "execution_count": 260,
   "metadata": {},
   "outputs": [],
   "source": [
    "count_times = [i[1]-i[0] for i in times]\n",
    "boot_times = [i[2]-i[1] for i in times]\n",
    "all_times = [i[2]-i[0] for i in times]"
   ]
  },
  {
   "cell_type": "code",
   "execution_count": 261,
   "metadata": {},
   "outputs": [
    {
     "data": {
      "text/plain": [
       "Text(0, 0.5, 'Runtime (seconds)')"
      ]
     },
     "execution_count": 261,
     "metadata": {},
     "output_type": "execute_result"
    },
    {
     "data": {
      "image/png": "[encoded data removed]",
      "text/plain": [
       "<Figure size 165.6x144 with 1 Axes>"
      ]
     },
     "metadata": {
      "needs_background": "light"
     },
     "output_type": "display_data"
    }
   ],
   "source": [
    "import matplotlib.pylab as pylab\n",
    "params = {'legend.fontsize': 'small',\n",
    "         'axes.labelsize': 'medium',\n",
    "         'axes.titlesize':'medium',\n",
    "         'figure.titlesize':'medium',\n",
    "         'xtick.labelsize':'small',\n",
    "         'ytick.labelsize':'small'}\n",
    "pylab.rcParams.update(params)\n",
    "plt.figure(figsize=(2.3, 2))\n",
    "\n",
    "plt.plot(sample_count_list/1e6, count_times, '-o')\n",
    "plt.plot(sample_count_list/1e6, boot_times, '-o')\n",
    "plt.plot(sample_count_list/1e6, all_times, '-o')\n",
    "plt.legend(['count', 'bootstrap', 'total'], loc='center left', bbox_to_anchor=(1, 0.5))\n",
    "plt.gca().xaxis.set_major_locator(plt.MultipleLocator(0.3))\n",
    "plt.xlabel('Number of cells (millions)'); plt.ylabel('Runtime (seconds)')\n",
    "# plt.savefig(fig_path + 'bootstrap_runtime.pdf', bbox_inches='tight')"
   ]
  },
  {
   "cell_type": "code",
   "execution_count": 302,
   "metadata": {},
   "outputs": [],
   "source": [
    "imp.reload(bootstrap)\n",
    "times = []\n",
    "boot_dists = []\n",
    "sample_count_list = np.logspace(2, 6.2, 10)\n",
    "for sample_count in sample_count_list:\n",
    "    \n",
    "    sample_idx = np.random.choice(num_cells, int(sample_count))\n",
    "    sampled_obs_expr = obs_expr[sample_idx]\n",
    "    sampled_obs_cell_sizes = obs_cell_sizes[sample_idx]\n",
    "    \n",
    "    n_umi = sampled_obs_cell_sizes.mean()\n",
    "    size_factors = sampled_obs_cell_sizes/sampled_obs_cell_sizes.mean()\n",
    "    \n",
    "    data = sp.sparse.csc_matrix(sampled_obs_expr.reshape(-1, 1))\n",
    "    \n",
    "    true_mean, true_var = estimator._poisson_1d(data, data.shape[0], size_factor=size_factors, n_umi=n_umi)\n",
    "    boot_dists.append(bootstrap._bootstrap_1d(\n",
    "        data=data,\n",
    "        size_factor=size_factors, \n",
    "        true_mean=true_mean[0], \n",
    "        true_var=true_var[0], \n",
    "        num_boot=30000, \n",
    "        n_umi=n_umi, \n",
    "        log=False,\n",
    "        return_times=False))"
   ]
  },
  {
   "cell_type": "code",
   "execution_count": 303,
   "metadata": {},
   "outputs": [],
   "source": [
    "true_mean_all_cells, true_var_all_cells = estimator._poisson_1d(\n",
    "    sp.sparse.csc_matrix(obs_expr.reshape(-1, 1)), \n",
    "    obs_expr.shape[0], size_factor=obs_cell_sizes/obs_cell_sizes.mean(), n_umi=n_umi)"
   ]
  },
  {
   "cell_type": "code",
   "execution_count": 309,
   "metadata": {},
   "outputs": [
    {
     "name": "stdout",
     "output_type": "stream",
     "text": [
      "7356.422544596414\n",
      "21544.346900318866\n",
      "63095.7344480193\n",
      "184784.97974222907\n",
      "541169.5265464637\n"
     ]
    },
    {
     "data": {
      "image/png": "[encoded data removed]",
      "text/plain": [
       "<Figure size 165.6x144 with 1 Axes>"
      ]
     },
     "metadata": {
      "needs_background": "light"
     },
     "output_type": "display_data"
    }
   ],
   "source": [
    "labels = ['7k', '20k', '60k', '180k', '500k']\n",
    "plt.figure(figsize=(2.3, 2))\n",
    "\n",
    "for idx, sample_count in enumerate(sample_count_list[4:9]):\n",
    "    print(sample_count)\n",
    "    dist = np.log(boot_dists[idx][1])\n",
    "#     dist = dist[(dist < -50) & (dist > -51)]\n",
    "    sns.distplot(dist, hist=False, label='{} cells'.format(labels[idx]))\n",
    "plt.xlim(-19, -15)\n",
    "plt.xlabel('log(variance)')\n",
    "plt.plot([np.log(true_var_all_cells), np.log(true_var_all_cells)], [0, 5], color='k', lw=2, linestyle='--', label='True')\n",
    "plt.legend(loc='center left', bbox_to_anchor=(1, 0.5))\n",
    "plt.savefig(fig_path + 'bootstrap_distribution.pdf', bbox_inches='tight')"
   ]
  }
 ],
 "metadata": {
  "kernelspec": {
   "display_name": "Python 3",
   "language": "python",
   "name": "python3"
  },
  "language_info": {
   "codemirror_mode": {
    "name": "ipython",
    "version": 3
   },
   "file_extension": ".py",
   "mimetype": "text/x-python",
   "name": "python",
   "nbconvert_exporter": "python",
   "pygments_lexer": "ipython3",
   "version": "3.7.5"
  }
 },
 "nbformat": 4,
 "nbformat_minor": 4
}
