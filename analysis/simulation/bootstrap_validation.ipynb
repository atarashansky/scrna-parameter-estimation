{
 "cells": [
  {
   "cell_type": "markdown",
   "metadata": {},
   "source": [
    "# Bootstrap validation\n",
    "\n",
    "This notebook contains code for validating the approximate bootstrap as well as generating half of figure 3 of the paper."
   ]
  },
  {
   "cell_type": "code",
   "execution_count": 1,
   "metadata": {},
   "outputs": [],
   "source": [
    "import pandas as pd\n",
    "import matplotlib.pyplot as plt\n",
    "import scanpy as sc\n",
    "import scipy as sp\n",
    "import itertools\n",
    "import numpy as np\n",
    "import scipy.stats as stats\n",
    "from scipy.integrate import dblquad\n",
    "import seaborn as sns\n",
    "from statsmodels.stats.multitest import fdrcorrection\n",
    "import imp\n",
    "pd.options.display.max_rows = 999\n",
    "pd.set_option('display.max_colwidth', -1)\n",
    "from statsmodels.distributions.empirical_distribution import ECDF\n",
    "import pickle as pkl\n",
    "import time"
   ]
  },
  {
   "cell_type": "code",
   "execution_count": 2,
   "metadata": {},
   "outputs": [],
   "source": [
    "import matplotlib as mpl\n",
    "mpl.rcParams['pdf.fonttype'] = 42\n",
    "mpl.rcParams['ps.fonttype'] = 42\n",
    "\n",
    "import matplotlib.pylab as pylab\n",
    "params = {'legend.fontsize': 'x-small',\n",
    "         'axes.labelsize': 'medium',\n",
    "         'axes.titlesize':'medium',\n",
    "         'figure.titlesize':'medium',\n",
    "         'xtick.labelsize':'small',\n",
    "         'ytick.labelsize':'small'}\n",
    "pylab.rcParams.update(params)\n"
   ]
  },
  {
   "cell_type": "code",
   "execution_count": 5,
   "metadata": {},
   "outputs": [
    {
     "name": "stderr",
     "output_type": "stream",
     "text": [
      "/data/home/anaconda3/envs/single_cell/lib/python3.7/site-packages/scanpy/api/__init__.py:6: FutureWarning: \n",
      "\n",
      "In a future version of Scanpy, `scanpy.api` will be removed.\n",
      "Simply use `import scanpy as sc` and `import scanpy.external as sce` instead.\n",
      "\n",
      "  FutureWarning,\n"
     ]
    }
   ],
   "source": [
    "import sys\n",
    "sys.path.append('/data/home/Github/scrna-parameter-estimation/schypo')\n",
    "import estimator, simulate, schypo, bootstrap, util, hypothesis_test"
   ]
  },
  {
   "cell_type": "code",
   "execution_count": null,
   "metadata": {},
   "outputs": [],
   "source": [
    "import sys\n",
    "sys.path.append('/home/ssm-user/Github/single_cell_eb/')\n",
    "sys.path.append('/home/ssm-user/Github/single_cell_eb/sceb')\n",
    "import scdd"
   ]
  },
  {
   "cell_type": "code",
   "execution_count": 448,
   "metadata": {},
   "outputs": [],
   "source": [
    "fig_path = '/data/home/Github/scrna-parameter-estimation/figures/fig3/'\n",
    "data_path = '/data/parameter_estimation/'"
   ]
  },
  {
   "cell_type": "markdown",
   "metadata": {},
   "source": [
    "### Get parameters from real data"
   ]
  },
  {
   "cell_type": "code",
   "execution_count": 8,
   "metadata": {},
   "outputs": [],
   "source": [
    "ifn_adata = sc.read(data_path + 'interferon_filtered.h5ad')"
   ]
  },
  {
   "cell_type": "code",
   "execution_count": 9,
   "metadata": {},
   "outputs": [],
   "source": [
    "adata = ifn_adata[ifn_adata.obs.cell_type == 'CD4 T cells - ctrl']\n",
    "# data = adata.X.copy()\n",
    "# relative_data = data.toarray()/data.sum(axis=1)\n",
    "\n",
    "n_cells = 10000\n",
    "q=0.07\n",
    "x_param, z_param, Nc, good_idx = simulate.extract_parameters(adata.X, q=q)"
   ]
  },
  {
   "cell_type": "markdown",
   "metadata": {},
   "source": [
    "### Simulate some cells\n",
    "\n",
    "10K cells for ~2k genes"
   ]
  },
  {
   "cell_type": "code",
   "execution_count": 16,
   "metadata": {},
   "outputs": [
    {
     "data": {
      "text/plain": [
       "<module 'simulate' from '/data/home/Github/scrna-parameter-estimation/schypo/simulate.py'>"
      ]
     },
     "execution_count": 16,
     "metadata": {},
     "output_type": "execute_result"
    }
   ],
   "source": [
    "imp.reload(simulate)"
   ]
  },
  {
   "cell_type": "code",
   "execution_count": 17,
   "metadata": {},
   "outputs": [],
   "source": [
    "# Simulate 10K cells for 10K genes\n",
    "\n",
    "x_param, z_param, Nc, good_idx = simulate.extract_parameters(adata.X, q=q, min_mean=q)\n",
    "\n",
    "simulated_data = simulate.simulate_transcriptomes(\n",
    "    n_cells=n_cells, \n",
    "    means=z_param[0],\n",
    "    variances=z_param[1],\n",
    "    Nc=Nc,\n",
    "    norm_cov=None)\n",
    "\n",
    "with open('simulated_data.pkl', 'wb') as f:\n",
    "    pkl.dump(simulated_data, f)"
   ]
  },
  {
   "cell_type": "code",
   "execution_count": 18,
   "metadata": {},
   "outputs": [],
   "source": [
    "_, hyper_captured = simulate.capture_sampling(simulated_data, q=q, process='hyper')\n",
    "with open('captured_data.pkl', 'wb') as f:\n",
    "    pkl.dump(hyper_captured, f)"
   ]
  },
  {
   "cell_type": "code",
   "execution_count": 23,
   "metadata": {},
   "outputs": [],
   "source": [
    "adata = sc.AnnData(sp.sparse.csr_matrix(hyper_captured))\n"
   ]
  },
  {
   "cell_type": "markdown",
   "metadata": {},
   "source": [
    "### Compare the approximate bootstrap to the true bootstrap"
   ]
  },
  {
   "cell_type": "code",
   "execution_count": 36,
   "metadata": {},
   "outputs": [],
   "source": [
    "size_factor = estimator._estimate_size_factor(hyper_captured)"
   ]
  },
  {
   "cell_type": "code",
   "execution_count": 108,
   "metadata": {},
   "outputs": [
    {
     "data": {
      "text/plain": [
       "1066"
      ]
     },
     "execution_count": 108,
     "metadata": {},
     "output_type": "execute_result"
    }
   ],
   "source": [
    "np.argsort(z_param[0])[-1]"
   ]
  },
  {
   "cell_type": "code",
   "execution_count": 290,
   "metadata": {},
   "outputs": [],
   "source": [
    "a = np.corrcoef(simulated_data, rowvar=False)"
   ]
  },
  {
   "cell_type": "code",
   "execution_count": 294,
   "metadata": {},
   "outputs": [
    {
     "data": {
      "text/plain": [
       "array([-0.16750192,  0.08886035,  0.05934079,  0.19572898, -0.17045301,\n",
       "        0.38623826, -0.13376231,  0.27604859,  0.06032858,  1.        ,\n",
       "       -0.1269039 ,  0.18669323, -0.06087669,  0.10596779,  0.12281207,\n",
       "        0.16199615,  0.33400605,  0.32142961, -0.07804293, -0.02837803,\n",
       "       -0.1916869 , -0.1281006 ,  0.1176345 , -0.16043461,  0.15292098,\n",
       "        0.08933295, -0.12998763,  0.03273666,  0.24599295,  0.21454306])"
      ]
     },
     "execution_count": 294,
     "metadata": {},
     "output_type": "execute_result"
    }
   ],
   "source": [
    "a[:, 9][:30]"
   ]
  },
  {
   "cell_type": "code",
   "execution_count": 308,
   "metadata": {},
   "outputs": [
    {
     "name": "stdout",
     "output_type": "stream",
     "text": [
      "This gene has 9 unique counts.\n",
      "This gene has 7 unique counts.\n"
     ]
    },
    {
     "data": {
      "text/plain": [
       "(array([7.506e+03, 1.843e+03, 0.000e+00, 4.850e+02, 0.000e+00, 1.250e+02,\n",
       "        3.400e+01, 0.000e+00, 6.000e+00, 1.000e+00]),\n",
       " array([0. , 0.6, 1.2, 1.8, 2.4, 3. , 3.6, 4.2, 4.8, 5.4, 6. ],\n",
       "       dtype=float32),\n",
       " <a list of 10 Patch objects>)"
      ]
     },
     "execution_count": 308,
     "metadata": {},
     "output_type": "execute_result"
    },
    {
     "data": {
      "image/png": "[encoded data removed]",
      "text/plain": [
       "<Figure size 432x144 with 2 Axes>"
      ]
     },
     "metadata": {
      "needs_background": "light"
     },
     "output_type": "display_data"
    }
   ],
   "source": [
    "# Get info for a single gene\n",
    "gene_idx_1 = 9\n",
    "data_1 = adata.X[:, gene_idx_1].todense().A1\n",
    "sparse_data_1 = adata.X[:, gene_idx_1]\n",
    "unique_count_1 = np.unique(data_1).shape[0]\n",
    "\n",
    "gene_idx_2 = 30\n",
    "data_2 = adata.X[:, gene_idx_2].todense().A1\n",
    "sparse_data_2 = adata.X[:, gene_idx_2]\n",
    "unique_count_2 = np.unique(data_2).shape[0]\n",
    "\n",
    "num_boot = 10000\n",
    "print('This gene has {} unique counts.'.format(unique_count_1))\n",
    "print('This gene has {} unique counts.'.format(unique_count_2))\n",
    "\n",
    "plt.figure(figsize=(6, 2))\n",
    "plt.subplot(1, 2, 1); plt.hist(data_1)\n",
    "plt.subplot(1, 2, 2); plt.hist(data_2)"
   ]
  },
  {
   "cell_type": "code",
   "execution_count": 309,
   "metadata": {},
   "outputs": [
    {
     "name": "stdout",
     "output_type": "stream",
     "text": [
      "CPU times: user 1min, sys: 6.94 ms, total: 1min\n",
      "Wall time: 1min\n"
     ]
    }
   ],
   "source": [
    "%%time\n",
    "# Perform true bootstrap\n",
    "real_boot_mean_dist = np.zeros(num_boot)\n",
    "real_boot_var_dist = np.zeros(num_boot)\n",
    "real_boot_corr_dist = np.zeros(num_boot)\n",
    "\n",
    "for boot in range(num_boot):\n",
    "    \n",
    "    boot_idx = np.random.choice(data.shape[0], data.shape[0])\n",
    "    res1 = estimator._hyper_1d(sparse_data_1[boot_idx], data_1.shape[0], size_factor=size_factor[boot_idx], q=q)\n",
    "    res2 = estimator._hyper_1d(sparse_data_2[boot_idx], data_2.shape[0], size_factor=size_factor[boot_idx], q=q)\n",
    "    cov = estimator._hyper_cov(sp.sparse.hstack([sparse_data_1[boot_idx], sparse_data_2[boot_idx]], format='csr'), data_2.shape[0], size_factor=size_factor[boot_idx], q=q)\n",
    "    \n",
    "    real_boot_mean_dist[boot] = res1[0][0]\n",
    "    real_boot_var_dist[boot] = res1[1][0]\n",
    "    real_boot_corr_dist[boot] = cov[0, 1]/np.sqrt(res1[1][0]*res2[1][0])"
   ]
  },
  {
   "cell_type": "code",
   "execution_count": 317,
   "metadata": {},
   "outputs": [
    {
     "name": "stdout",
     "output_type": "stream",
     "text": [
      "CPU times: user 1min, sys: 10.8 ms, total: 1min\n",
      "Wall time: 1min\n"
     ]
    }
   ],
   "source": [
    "%%time\n",
    "# Perform true bootstrap\n",
    "real_boot_mean_dist_2 = np.zeros(num_boot)\n",
    "real_boot_var_dist_2 = np.zeros(num_boot)\n",
    "real_boot_corr_dist_2 = np.zeros(num_boot)\n",
    "\n",
    "for boot in range(num_boot):\n",
    "    \n",
    "    boot_idx = np.random.choice(data.shape[0], data.shape[0])\n",
    "    res1 = estimator._hyper_1d(sparse_data_1[boot_idx], data_1.shape[0], size_factor=size_factor[boot_idx], q=q)\n",
    "    res2 = estimator._hyper_1d(sparse_data_2[boot_idx], data_2.shape[0], size_factor=size_factor[boot_idx], q=q)\n",
    "    cov = estimator._hyper_cov(sp.sparse.hstack([sparse_data_1[boot_idx], sparse_data_2[boot_idx]], format='csr'), data_2.shape[0], size_factor=size_factor[boot_idx], q=q)\n",
    "    \n",
    "    real_boot_mean_dist_2[boot] = res1[0][0]\n",
    "    real_boot_var_dist_2[boot] = res1[1][0]\n",
    "    real_boot_corr_dist_2[boot] = cov[0, 1]/np.sqrt(res1[1][0]*res2[1][0])"
   ]
  },
  {
   "cell_type": "code",
   "execution_count": 347,
   "metadata": {},
   "outputs": [
    {
     "name": "stdout",
     "output_type": "stream",
     "text": [
      "10\n",
      "20\n",
      "30\n",
      "40\n",
      "50\n",
      "60\n",
      "70\n",
      "80\n",
      "90\n",
      "CPU times: user 1min 19s, sys: 18.8 s, total: 1min 38s\n",
      "Wall time: 1min 38s\n"
     ]
    }
   ],
   "source": [
    "%%time\n",
    "imp.reload(bootstrap)\n",
    "num_bins_list = [1] + list(range(10, 100, 10))\n",
    "approx_boot_dists = []\n",
    "num_trial = 10\n",
    "\n",
    "emd_stats = []\n",
    "\n",
    "\n",
    "for num_bins in num_bins_list:\n",
    "    \n",
    "    if num_bins % 10 == 0:\n",
    "        print(num_bins)\n",
    "    \n",
    "    binned_stat = stats.binned_statistic(size_factor, size_factor, bins=num_bins, statistic='mean')\n",
    "    bin_idx = np.clip(binned_stat[2], a_min=1, a_max=binned_stat[0].shape[0])\n",
    "    approx_sf = binned_stat[0][bin_idx-1]\n",
    "    max_sf = size_factor.max()\n",
    "    approx_sf[size_factor == max_sf] = max_sf\n",
    "    \n",
    "    mean_emd_score = 0\n",
    "    var_emd_score = 0\n",
    "    corr_emd_score = 0\n",
    "    \n",
    "    for trial in range(num_trial):\n",
    "    \n",
    "        m1, v1 = bootstrap._bootstrap_1d(\n",
    "            data=sparse_data_1,\n",
    "            size_factor=approx_sf, \n",
    "            num_boot=num_boot,\n",
    "            q=q)\n",
    "        \n",
    "        cov1, v1, v2 = bootstrap._bootstrap_2d(\n",
    "            data=sp.sparse.hstack([sparse_data_1, sparse_data_2], format='csr'),\n",
    "            size_factor=approx_sf, \n",
    "            num_boot=num_boot,\n",
    "            q=q)\n",
    "        \n",
    "        mean_emd_score += stats.wasserstein_distance(np.log(real_boot_mean_dist), np.log(m1))\n",
    "        var_emd_score += stats.wasserstein_distance(np.log(real_boot_var_dist), np.log(v1))\n",
    "        corr_emd_score += stats.wasserstein_distance(real_boot_corr_dist, cov1/np.sqrt(v1*v2))\n",
    "        \n",
    "    \n",
    "    emd_stats.append((mean_emd_score/num_trial, var_emd_score/num_trial, corr_emd_score/num_trial))"
   ]
  },
  {
   "cell_type": "code",
   "execution_count": 450,
   "metadata": {},
   "outputs": [
    {
     "data": {
      "image/png": "[encoded data removed]",
      "text/plain": [
       "<Figure size 200x200 with 1 Axes>"
      ]
     },
     "metadata": {},
     "output_type": "display_data"
    }
   ],
   "source": [
    "params = {'legend.fontsize': 'small',\n",
    "         'axes.labelsize': 'medium',\n",
    "         'axes.titlesize':'medium',\n",
    "         'figure.titlesize':'medium',\n",
    "         'xtick.labelsize':'small',\n",
    "         'ytick.labelsize':'small'}\n",
    "pylab.rcParams.update(params)\n",
    "\n",
    "plt.figure(figsize=(2, 2))\n",
    "plt.plot(num_bins_list, [s[0] for s in emd_stats], '-o', ms=5)\n",
    "plt.plot(num_bins_list, [s[1] for s in emd_stats], '-o', ms=5)\n",
    "plt.plot(num_bins_list, [s[2] for s in emd_stats], '-o', ms=5)\n",
    "\n",
    "plt.xlabel('Number of bins'); plt.ylabel('Wasserstein distance')\n",
    "plt.legend(['Mean', 'variance', 'correlation'])\n",
    "\n",
    "plt.savefig(fig_path + 'emd.pdf', bbox_inches='tight')"
   ]
  },
  {
   "cell_type": "code",
   "execution_count": 396,
   "metadata": {},
   "outputs": [],
   "source": [
    "num_bins=60\n",
    "binned_stat = stats.binned_statistic(size_factor, size_factor, bins=num_bins, statistic='mean')\n",
    "bin_idx = np.clip(binned_stat[2], a_min=1, a_max=binned_stat[0].shape[0])\n",
    "approx_sf = binned_stat[0][bin_idx-1]\n",
    "max_sf = size_factor.max()\n",
    "approx_sf[size_factor == max_sf] = max_sf\n",
    "\n",
    "mean_emd_score = 0\n",
    "var_emd_score = 0\n",
    "corr_emd_score = 0\n",
    "\n",
    "m1, v1 = bootstrap._bootstrap_1d(\n",
    "    data=sparse_data_1,\n",
    "    size_factor=approx_sf, \n",
    "    num_boot=num_boot,\n",
    "    q=q)\n",
    "\n",
    "cov1, v1, v2 = bootstrap._bootstrap_2d(\n",
    "    data=sp.sparse.hstack([sparse_data_1, sparse_data_2], format='csr'),\n",
    "    size_factor=approx_sf, \n",
    "    num_boot=num_boot,\n",
    "    q=q)"
   ]
  },
  {
   "cell_type": "code",
   "execution_count": 451,
   "metadata": {},
   "outputs": [
    {
     "data": {
      "image/png": "[encoded data removed]",
      "text/plain": [
       "<Figure size 400x200 with 3 Axes>"
      ]
     },
     "metadata": {},
     "output_type": "display_data"
    }
   ],
   "source": [
    "# sns.set_palette('Set2')\n",
    "params = {'legend.fontsize': 'small',\n",
    "         'axes.labelsize': 'small',\n",
    "         'axes.titlesize':'medium',\n",
    "         'figure.titlesize':'medium',\n",
    "         'xtick.labelsize':'xx-small',\n",
    "         'ytick.labelsize':'xx-small'}\n",
    "pylab.rcParams.update(params)\n",
    "\n",
    "# sns.reset_defaults()\n",
    "\n",
    "plt.figure(figsize=(4, 2))\n",
    "plt.subplots_adjust(wspace=0.3)\n",
    "\n",
    "plt.subplot(1, 3, 1)\n",
    "sns.distplot(np.log(real_boot_mean_dist), hist=False, kde_kws={'linewidth':2, 'color':'m'})\n",
    "sns.distplot(np.log(m1), hist=False, kde_kws={'linestyle':'--', 'linewidth':1.5, 'color':'c'})\n",
    "plt.xlabel('log(mean)')\n",
    "plt.ylabel('Density')\n",
    "\n",
    "plt.subplot(1, 3, 2)\n",
    "sns.distplot(np.log(real_boot_var_dist), hist=False, kde_kws={'linewidth':2, 'color':'m'}, label='True')\n",
    "sns.distplot(np.log(v1), hist=False, kde_kws={'linestyle':'--', 'linewidth':1.5, 'color':'c'}, label='Approx')\n",
    "plt.legend(loc='upper center', ncol=2, bbox_to_anchor=(0.5,1.2), frameon=False)\n",
    "plt.xlabel('log(var)')\n",
    "\n",
    "plt.subplot(1, 3, 3)\n",
    "sns.distplot(real_boot_corr_dist, hist=False, kde_kws={'linewidth':2, 'color':'m'})\n",
    "sns.distplot(cov1/np.sqrt(v1*v2), hist=False, kde_kws={'linestyle':'--', 'linewidth':1.5, 'color':'c'})\n",
    "plt.xlabel('corr')\n",
    "# plt.xlim(-1, 1)\n",
    "\n",
    "plt.savefig(fig_path + 'approx_bootstrap_dist.pdf', bbox_inches='tight')"
   ]
  },
  {
   "cell_type": "markdown",
   "metadata": {},
   "source": [
    "### Timing analysis with increasing cell numbers 1D"
   ]
  },
  {
   "cell_type": "code",
   "execution_count": null,
   "metadata": {},
   "outputs": [],
   "source": [
    "# Generate cell sizes\n",
    "num_cells = 5000000\n",
    "cell_sizes = np.exp(stats.norm.rvs(11, 0.2, num_cells)).astype(int)\n",
    "\n",
    "# Generate true expression of a single gene\n",
    "mean = np.median(z_param[0])\n",
    "variance = np.median(z_param[1])\n",
    "dispersion = (variance - mean)/mean**2\n",
    "theta = 1/dispersion\n",
    "print('mean', mean, 'dispersion', dispersion)\n",
    "\n",
    "gaussian_variables = stats.multivariate_normal.rvs(cov=[[1, 0.5],[0.5, 1]], size=num_cells)\n",
    "uniform_variables = stats.norm.cdf(gaussian_variables, loc=0, scale=1)\n",
    "nbinom_variables = stats.nbinom.ppf(uniform_variables, *simulate.convert_params_nb(mean, theta))\n",
    "\n",
    "expr_1, expr_2 = nbinom_variables[:, 0], nbinom_variables[:, 1]\n",
    "expr = expr_1"
   ]
  },
  {
   "cell_type": "code",
   "execution_count": 631,
   "metadata": {},
   "outputs": [
    {
     "data": {
      "text/plain": [
       "array([1., 1., 2., ..., 0., 2., 1.])"
      ]
     },
     "execution_count": 631,
     "metadata": {},
     "output_type": "execute_result"
    }
   ],
   "source": [
    "expr_1"
   ]
  },
  {
   "cell_type": "code",
   "execution_count": 632,
   "metadata": {},
   "outputs": [
    {
     "name": "stdout",
     "output_type": "stream",
     "text": [
      "unique count (10,)\n",
      "unique count (9,)\n"
     ]
    }
   ],
   "source": [
    "q = 0.07\n",
    "\n",
    "\n",
    "# Generate the observed distribution\n",
    "obs_expr_1 = stats.hypergeom.rvs(M=cell_sizes, n=expr_1.astype(int), N=(q*cell_sizes).astype(int))\n",
    "obs_expr_2 = stats.hypergeom.rvs(M=cell_sizes, n=expr_2.astype(int), N=(q*cell_sizes).astype(int))\n",
    "obs_expr = obs_expr_1\n",
    "\n",
    "obs_cell_sizes = (q*cell_sizes).astype(int)\n",
    "\n",
    "print('unique count', np.unique(obs_expr_1).shape)\n",
    "print('unique count', np.unique(obs_expr_2).shape)"
   ]
  },
  {
   "cell_type": "code",
   "execution_count": 699,
   "metadata": {},
   "outputs": [],
   "source": [
    "imp.reload(bootstrap)\n",
    "times = []\n",
    "boot_dists = []\n",
    "sample_count_list = np.logspace(2, 6, 10)\n",
    "for sample_count in sample_count_list:\n",
    "    \n",
    "    sample_idx = np.random.choice(num_cells, int(sample_count))\n",
    "    sampled_obs_expr = obs_expr[sample_idx]\n",
    "    sampled_obs_cell_sizes = obs_cell_sizes[sample_idx]\n",
    "    \n",
    "    size_factor = sampled_obs_cell_sizes\n",
    "    \n",
    "    # Compute approximate size factor\n",
    "    num_bins=60\n",
    "    binned_stat = stats.binned_statistic(size_factor, size_factor, bins=num_bins, statistic='mean')\n",
    "    bin_idx = np.clip(binned_stat[2], a_min=1, a_max=binned_stat[0].shape[0])\n",
    "    approx_sf = binned_stat[0][bin_idx-1]\n",
    "    max_sf = size_factor.max()\n",
    "    approx_sf[size_factor == max_sf] = max_sf\n",
    "    \n",
    "    data = sp.sparse.csc_matrix(sampled_obs_expr.reshape(-1, 1))\n",
    "    \n",
    "    times.append(bootstrap._bootstrap_1d(\n",
    "        data=data,\n",
    "        size_factor=approx_sf, \n",
    "        num_boot=10000,\n",
    "        q=q,\n",
    "        return_times=True))\n",
    "    boot_dists.append(bootstrap._bootstrap_1d(\n",
    "        data=data,\n",
    "        q=q,\n",
    "        size_factor=approx_sf, \n",
    "        num_boot=10000, \n",
    "        return_times=False))"
   ]
  },
  {
   "cell_type": "code",
   "execution_count": 700,
   "metadata": {},
   "outputs": [],
   "source": [
    "count_times = [i[1]-i[0] for i in times]\n",
    "boot_times = [i[2]-i[1] for i in times]\n",
    "all_times = [i[2]-i[0] for i in times]"
   ]
  },
  {
   "cell_type": "code",
   "execution_count": 701,
   "metadata": {},
   "outputs": [
    {
     "data": {
      "text/plain": [
       "[0.044315338134765625,\n",
       " 0.07053732872009277,\n",
       " 0.1139535903930664,\n",
       " 0.14073681831359863,\n",
       " 0.176743745803833,\n",
       " 0.21600079536437988,\n",
       " 0.2236480712890625,\n",
       " 0.2624223232269287,\n",
       " 0.3018481731414795,\n",
       " 0.4213569164276123]"
      ]
     },
     "execution_count": 701,
     "metadata": {},
     "output_type": "execute_result"
    }
   ],
   "source": [
    "all_times"
   ]
  },
  {
   "cell_type": "code",
   "execution_count": 702,
   "metadata": {},
   "outputs": [
    {
     "data": {
      "text/plain": [
       "Text(0, 0.5, 'Runtime (seconds)')"
      ]
     },
     "execution_count": 702,
     "metadata": {},
     "output_type": "execute_result"
    },
    {
     "data": {
      "image/png": "[encoded data removed]",
      "text/plain": [
       "<Figure size 200x200 with 1 Axes>"
      ]
     },
     "metadata": {},
     "output_type": "display_data"
    }
   ],
   "source": [
    "import matplotlib.pylab as pylab\n",
    "params = {'legend.fontsize': 'small',\n",
    "         'axes.labelsize': 'medium',\n",
    "         'axes.titlesize':'medium',\n",
    "         'figure.titlesize':'medium',\n",
    "         'xtick.labelsize':'small',\n",
    "         'ytick.labelsize':'small'}\n",
    "pylab.rcParams.update(params)\n",
    "plt.figure(figsize=(2, 2))\n",
    "\n",
    "plt.plot(sample_count_list/1e6, count_times, '-o', ms=3)\n",
    "plt.plot(sample_count_list/1e6, boot_times, '-o', ms=3)\n",
    "plt.plot(sample_count_list/1e6, all_times, '-o', ms=3)\n",
    "plt.legend(['count', 'boot', 'total'], loc='upper center', bbox_to_anchor=(0.5, 1.17), ncol=3, frameon=False, handletextpad=0.3, columnspacing=1)\n",
    "plt.gca().xaxis.set_major_locator(plt.MultipleLocator(0.3))\n",
    "plt.xlabel('Number of cells (millions)'); plt.ylabel('Runtime (seconds)')\n",
    "# plt.savefig(fig_path + 'bootstrap_runtime.pdf', bbox_inches='tight')"
   ]
  },
  {
   "cell_type": "markdown",
   "metadata": {},
   "source": [
    "### Confidence intervals"
   ]
  },
  {
   "cell_type": "code",
   "execution_count": 634,
   "metadata": {},
   "outputs": [
    {
     "data": {
      "text/plain": [
       "(2, 5000)"
      ]
     },
     "execution_count": 634,
     "metadata": {},
     "output_type": "execute_result"
    }
   ],
   "source": [
    "data_2d.shape"
   ]
  },
  {
   "cell_type": "code",
   "execution_count": null,
   "metadata": {},
   "outputs": [],
   "source": [
    "true_mean_all_cells, true_var_all_cells = estimator._hyper_1d(\n",
    "    sp.sparse.csc_matrix(obs_expr.reshape(-1, 1)), \n",
    "    obs_expr.shape[0], size_factor=obs_cell_sizes, q=q)\n",
    "\n",
    "true_mean_all_cells_2, true_var_all_cells_2 = estimator._hyper_1d(\n",
    "    sp.sparse.csc_matrix(obs_expr_2.reshape(-1, 1)), \n",
    "    obs_expr.shape[0], size_factor=obs_cell_sizes, q=q)\n",
    "\n",
    "true_cov_all_cells = estimator._hyper_cov(\n",
    "    sp.sparse.csc_matrix(np.vstack([obs_expr_1, obs_expr_2]).T), \n",
    "    obs_expr.shape[0], size_factor=obs_cell_sizes, q=q)\n",
    "\n",
    "true_corr_all_cells = (true_cov_all_cells/np.sqrt(true_var_all_cells_2*true_var_all_cells))[0, 1]"
   ]
  },
  {
   "cell_type": "code",
   "execution_count": 671,
   "metadata": {},
   "outputs": [],
   "source": [
    "imp.reload(bootstrap)\n",
    "times = []\n",
    "boot_dists = []\n",
    "boot_dists_2d = []\n",
    "sample_count_list = [5000, 10000, 50000, 500000, 5000000]\n",
    "for sample_count in sample_count_list:\n",
    "    \n",
    "    sample_idx = np.random.choice(num_cells, int(sample_count))\n",
    "    sampled_obs_expr = obs_expr[sample_idx]\n",
    "    sampled_obs_cell_sizes = obs_cell_sizes[sample_idx]\n",
    "    \n",
    "    size_factor = sampled_obs_cell_sizes\n",
    "    \n",
    "    # Compute approximate size factor\n",
    "    num_bins=60\n",
    "    binned_stat = stats.binned_statistic(size_factor, size_factor, bins=num_bins, statistic='mean')\n",
    "    bin_idx = np.clip(binned_stat[2], a_min=1, a_max=binned_stat[0].shape[0])\n",
    "    approx_sf = binned_stat[0][bin_idx-1]\n",
    "    max_sf = size_factor.max()\n",
    "    approx_sf[size_factor == max_sf] = max_sf\n",
    "    \n",
    "    data = sp.sparse.csc_matrix(sampled_obs_expr.reshape(-1, 1))\n",
    "    data_2d = sp.sparse.csc_matrix(np.vstack([obs_expr_1[sample_idx], obs_expr_2[sample_idx]]).T)\n",
    "    \n",
    "    times.append(bootstrap._bootstrap_1d(\n",
    "        data=data,\n",
    "        size_factor=approx_sf, \n",
    "        num_boot=10000,\n",
    "        q=q,\n",
    "        return_times=True))\n",
    "    boot_dists.append(bootstrap._bootstrap_1d(\n",
    "        data=data,\n",
    "        q=q,\n",
    "        size_factor=approx_sf, \n",
    "        num_boot=10000, \n",
    "        return_times=False))\n",
    "    boot_dists_2d.append(bootstrap._bootstrap_2d(\n",
    "        data=data_2d,\n",
    "        q=q,\n",
    "        size_factor=approx_sf,\n",
    "        num_boot=10000\n",
    "        ))"
   ]
  },
  {
   "cell_type": "code",
   "execution_count": 693,
   "metadata": {},
   "outputs": [
    {
     "data": {
      "image/png": "[encoded data removed]",
      "text/plain": [
       "<Figure size 600x200 with 3 Axes>"
      ]
     },
     "metadata": {},
     "output_type": "display_data"
    }
   ],
   "source": [
    "labels = ['5k', '10k', '50k', '500k']\n",
    "params = {'legend.fontsize': 'small',\n",
    "         'axes.labelsize': 'small',\n",
    "         'axes.titlesize':'medium',\n",
    "         'figure.titlesize':'medium',\n",
    "         'xtick.labelsize':'x-small',\n",
    "         'ytick.labelsize':'x-small'}\n",
    "pylab.rcParams.update(params)\n",
    "\n",
    "plt.figure(figsize=(6, 2))\n",
    "plt.subplots_adjust(wspace=0.25)\n",
    "\n",
    "plt.subplot(1, 3, 1)\n",
    "for idx, sample_count in enumerate(sample_count_list[:-1]):\n",
    "    sns.distplot(np.log(boot_dists[idx][0]), hist=False)\n",
    "plt.plot([np.log(true_mean_all_cells), np.log(true_mean_all_cells)], [0, 110], color='k', lw=1, linestyle='--')\n",
    "plt.xlabel('log(mean)')\n",
    "plt.ylabel('Density')\n",
    "\n",
    "plt.subplot(1, 3, 2)\n",
    "for idx, sample_count in enumerate(sample_count_list[:-1]):\n",
    "    sns.distplot(np.log(boot_dists[idx][1]), hist=False, label=labels[idx])\n",
    "plt.plot([np.log(true_var_all_cells), np.log(true_var_all_cells)], [0, 30], color='k', lw=1, linestyle='--', label='True')\n",
    "plt.legend(ncol=5, loc='upper center', bbox_to_anchor=(0.5, 1.18), frameon=False)\n",
    "plt.xlabel('log(var)')\n",
    "\n",
    "\n",
    "plt.subplot(1, 3, 3)\n",
    "for idx, sample_count in enumerate(sample_count_list[:-1]):\n",
    "    sns.distplot(boot_dists_2d[idx][0]/(np.sqrt(boot_dists_2d[idx][1])*np.sqrt(boot_dists_2d[idx][2])), hist=False)\n",
    "plt.plot([true_corr_all_cells, true_corr_all_cells], [0, 55], color='k', lw=1, linestyle='--')\n",
    "plt.xlabel('corr')\n",
    "\n",
    "plt.savefig(fig_path + 'shrinking_bootstrap_dist.pdf', bbox_inches='tight')"
   ]
  },
  {
   "cell_type": "markdown",
   "metadata": {},
   "source": [
    "### Validate the bootstrap outcomes for a single gene\n",
    "\n",
    "Check the mean of the bootstrap distributions for mean and variance"
   ]
  },
  {
   "cell_type": "code",
   "execution_count": 297,
   "metadata": {},
   "outputs": [],
   "source": [
    "true_data = simulate.simulate_transcriptomes(10000, 2000, correlated=False)\n",
    "qs, captured_data = simulate.capture_sampling(true_data, q=0.1, q_sq=0.011)\n",
    "adata = sc.AnnData(sp.sparse.csr_matrix(captured_data))\n",
    "adata.obs['ct'] = 'PBMC'"
   ]
  },
  {
   "cell_type": "code",
   "execution_count": 298,
   "metadata": {},
   "outputs": [],
   "source": [
    "# Calculate the point estimates\n",
    "size_factors = scdd.dd_size_factor(adata)\n",
    "Nr = adata.X.sum(axis=1).mean()\n",
    "_, M_dd = scdd.dd_1d_moment(adata, size_factor=size_factors, verbose=False, Nr=Nr)\n",
    "var_scdd = scdd.M_to_var(M_dd)"
   ]
  },
  {
   "cell_type": "code",
   "execution_count": 368,
   "metadata": {},
   "outputs": [
    {
     "name": "stdout",
     "output_type": "stream",
     "text": [
      "This gene has 59 unique counts.\n"
     ]
    }
   ],
   "source": [
    "# Get info for a single gene\n",
    "gene_idx = 9\n",
    "\n",
    "data = adata.X[:, gene_idx].todense().A1\n",
    "sparse_data = adata.X[:, gene_idx]\n",
    "all_sf = size_factors\n",
    "normalized_data = data/all_sf/Nr\n",
    "unique_count = np.unique(data).shape[0]\n",
    "num_boot = 50000\n",
    "print('This gene has {} unique counts.'.format(unique_count))"
   ]
  },
  {
   "cell_type": "code",
   "execution_count": 369,
   "metadata": {},
   "outputs": [
    {
     "data": {
      "text/plain": [
       "(array([ 428., 2016., 2990., 2301., 1339.,  615.,  207.,   69.,   26.,\n",
       "           9.]),\n",
       " array([ 1. ,  7.2, 13.4, 19.6, 25.8, 32. , 38.2, 44.4, 50.6, 56.8, 63. ],\n",
       "       dtype=float32),\n",
       " <a list of 10 Patch objects>)"
      ]
     },
     "execution_count": 369,
     "metadata": {},
     "output_type": "execute_result"
    },
    {
     "data": {
      "image/png": "[encoded data removed]",
      "text/plain": [
       "<Figure size 432x288 with 1 Axes>"
      ]
     },
     "metadata": {
      "needs_background": "light"
     },
     "output_type": "display_data"
    }
   ],
   "source": [
    "plt.hist(data)"
   ]
  },
  {
   "cell_type": "code",
   "execution_count": 370,
   "metadata": {},
   "outputs": [
    {
     "name": "stdout",
     "output_type": "stream",
     "text": [
      "CPU times: user 38.8 s, sys: 0 ns, total: 38.8 s\n",
      "Wall time: 38.8 s\n"
     ]
    }
   ],
   "source": [
    "%%time\n",
    "# Perform true bootstrap\n",
    "real_boot_mean_dist = np.zeros(num_boot)\n",
    "real_boot_var_dist = np.zeros(num_boot)\n",
    "for boot in range(num_boot):\n",
    "    \n",
    "    boot_idx = np.random.choice(data.shape[0], data.shape[0])\n",
    "    res = estimator._poisson_1d(sparse_data[boot_idx], data.shape[0], size_factor=all_sf[boot_idx], n_umi=Nr)\n",
    "    real_boot_mean_dist[boot] = res[0][0]\n",
    "    real_boot_var_dist[boot] = res[1][0]"
   ]
  },
  {
   "cell_type": "code",
   "execution_count": 371,
   "metadata": {},
   "outputs": [
    {
     "name": "stdout",
     "output_type": "stream",
     "text": [
      "CPU times: user 3.99 s, sys: 1.25 s, total: 5.24 s\n",
      "Wall time: 5.24 s\n"
     ]
    }
   ],
   "source": [
    "%%time\n",
    "imp.reload(bootstrap)\n",
    "num_bins_list = [5, 10, 30, 60]\n",
    "approx_boot_dists = []\n",
    "for num_bins in num_bins_list:\n",
    "\n",
    "    approx_boot_dists.append(bootstrap._bootstrap_1d(\n",
    "        data=sparse_data,\n",
    "        size_factor=all_sf, \n",
    "        true_mean=M_dd[0][gene_idx], \n",
    "        true_var=var_scdd[gene_idx], \n",
    "        num_boot=num_boot, \n",
    "        n_umi=Nr, \n",
    "        log=False,\n",
    "        bins=num_bins))  "
   ]
  },
  {
   "cell_type": "code",
   "execution_count": 380,
   "metadata": {},
   "outputs": [
    {
     "data": {
      "image/png": "[encoded data removed]",
      "text/plain": [
       "<Figure size 165.6x144 with 1 Axes>"
      ]
     },
     "metadata": {
      "needs_background": "light"
     },
     "output_type": "display_data"
    },
    {
     "data": {
      "image/png": "[encoded data removed]",
      "text/plain": [
       "<Figure size 55.2x48 with 1 Axes>"
      ]
     },
     "metadata": {
      "needs_background": "light"
     },
     "output_type": "display_data"
    }
   ],
   "source": [
    "plt.figure(figsize=(2.3, 2))\n",
    "\n",
    "for idx, num_bins in enumerate(num_bins_list):\n",
    "    plt.scatter(\n",
    "        np.quantile(np.sort(real_boot_var_dist), np.linspace(0, 1, 1000)),\n",
    "        np.quantile(np.sort(approx_boot_dists[idx][1]), np.linspace(0, 1, 1000)),\n",
    "        label='{} bins'.format(num_bins),\n",
    "        s=0.1,\n",
    "    )\n",
    "\n",
    "plt.plot(np.sort(real_boot_var_dist), np.sort(real_boot_var_dist), lw=1, color='k')\n",
    "plt.xlim(real_boot_var_dist.min(), real_boot_var_dist.max())\n",
    "plt.ylim(real_boot_var_dist.min(), real_boot_var_dist.max())\n",
    "plt.legend()\n",
    "plt.ylabel('Approximate bootstrap'); plt.xlabel('True bootstrap');\n",
    "plt.savefig(fig_path + 'bootstrap_ecdf_var_large.pdf', bbox_inches='tight')\n",
    "\n",
    "plt.figure(figsize=(2.3/3, 2/3))\n",
    "\n",
    "for idx, num_bins in enumerate(num_bins_list):\n",
    "    plt.scatter(\n",
    "        np.quantile(np.sort(real_boot_var_dist), np.linspace(0, 1, 1000)),\n",
    "        np.quantile(np.sort(approx_boot_dists[idx][1]), np.linspace(0, 1, 1000)),\n",
    "        label='{} bins'.format(num_bins),\n",
    "        s=1,\n",
    "    )\n",
    "plt.plot(np.sort(real_boot_var_dist), np.sort(real_boot_var_dist), lw=1, color='k')\n",
    "\n",
    "plt.xlim(2.9e-7, 3.2e-7);\n",
    "plt.ylim(2.9e-7, 3.2e-7)\n",
    "plt.savefig(fig_path + 'bootstrap_ecdf_var_small.pdf', bbox_inches='tight')\n"
   ]
  },
  {
   "cell_type": "markdown",
   "metadata": {},
   "source": [
    "### Validate the bootstrap outcomes for a single pair of genes\n",
    "\n",
    "Check the mean of the bootstrap distributions for correlation"
   ]
  },
  {
   "cell_type": "code",
   "execution_count": 204,
   "metadata": {},
   "outputs": [],
   "source": [
    "true_data = simulate.simulate_transcriptomes(10000, 2000, correlated=True)\n",
    "qs, captured_data = simulate.capture_sampling(true_data, q=0.1, q_sq=0.011)\n",
    "adata = sc.AnnData(sp.sparse.csr_matrix(captured_data))\n",
    "adata.obs['ct'] = 'PBMC'"
   ]
  },
  {
   "cell_type": "code",
   "execution_count": 268,
   "metadata": {},
   "outputs": [
    {
     "name": "stdout",
     "output_type": "stream",
     "text": [
      "This gene has 303 unique counts.\n"
     ]
    }
   ],
   "source": [
    "# Get info for a single pair of gene\n",
    "gene_idx_1 = 0\n",
    "gene_idx_2 = 3\n",
    "gene_idxs = [gene_idx_1, gene_idx_2]\n",
    "\n",
    "data = adata.X[:, gene_idxs].toarray()\n",
    "sparse_data = adata.X[:, gene_idxs]\n",
    "all_sf = size_factors\n",
    "normalized_data = data/all_sf.reshape(-1, 1)/Nr\n",
    "unique_count = np.unique(data, axis=0).shape[0]\n",
    "num_boot = 10000\n",
    "print('This gene has {} unique counts.'.format(unique_count))"
   ]
  },
  {
   "cell_type": "code",
   "execution_count": 269,
   "metadata": {},
   "outputs": [
    {
     "data": {
      "text/plain": [
       "(8,)"
      ]
     },
     "execution_count": 269,
     "metadata": {},
     "output_type": "execute_result"
    }
   ],
   "source": [
    "np.unique(data[:, 0]).shape"
   ]
  },
  {
   "cell_type": "code",
   "execution_count": 270,
   "metadata": {},
   "outputs": [
    {
     "data": {
      "text/plain": [
       "(90,)"
      ]
     },
     "execution_count": 270,
     "metadata": {},
     "output_type": "execute_result"
    }
   ],
   "source": [
    "np.unique(data[:, 1]).shape"
   ]
  },
  {
   "cell_type": "code",
   "execution_count": 271,
   "metadata": {},
   "outputs": [],
   "source": [
    "# Calculate the point estimates\n",
    "size_factors = scdd.dd_size_factor(adata)\n",
    "Nr = adata.X.sum(axis=1).mean()\n",
    "true_mean, true_var = estimator._poisson_1d(sparse_data, data.shape[0], size_factor=all_sf, n_umi=Nr)\n",
    "true_cov = estimator._poisson_cov(sparse_data, data.shape[0], size_factor=all_sf, n_umi=Nr)[0, 1]\n",
    "true_corr = true_cov/np.sqrt(true_var[0]*true_var[1])"
   ]
  },
  {
   "cell_type": "code",
   "execution_count": 272,
   "metadata": {},
   "outputs": [
    {
     "name": "stdout",
     "output_type": "stream",
     "text": [
      "CPU times: user 43 s, sys: 1.86 ms, total: 43 s\n",
      "Wall time: 43 s\n"
     ]
    }
   ],
   "source": [
    "%%time\n",
    "# Perform true bootstrap\n",
    "imp.reload(estimator)\n",
    "real_boot_corr_dist = np.zeros(num_boot)\n",
    "real_boot_cov_dist = np.zeros(num_boot)\n",
    "\n",
    "for boot in range(num_boot):\n",
    "    \n",
    "    boot_idx = np.random.choice(data.shape[0], data.shape[0])\n",
    "    boot_mean, boot_var = estimator._poisson_1d(sparse_data[boot_idx], data.shape[0], size_factor=all_sf[boot_idx], n_umi=Nr)\n",
    "    cov = estimator._poisson_cov(sparse_data[boot_idx], data.shape[0], size_factor=all_sf[boot_idx], n_umi=Nr)[1, 0]\n",
    "    real_boot_corr_dist[boot] = estimator._corr_from_cov(cov, boot_var[0], boot_var[1])\n",
    "    real_boot_cov_dist[boot] = cov"
   ]
  },
  {
   "cell_type": "code",
   "execution_count": 292,
   "metadata": {},
   "outputs": [
    {
     "name": "stdout",
     "output_type": "stream",
     "text": [
      "CPU times: user 4.37 s, sys: 1.82 s, total: 6.2 s\n",
      "Wall time: 6.19 s\n"
     ]
    }
   ],
   "source": [
    "%%time\n",
    "imp.reload(bootstrap)\n",
    "num_bins_list = [1, 5, 10, 90, 100]\n",
    "approx_boot_dists = []\n",
    "for num_bins in num_bins_list:\n",
    "\n",
    "    approx_boot_dists.append(bootstrap._bootstrap_2d(\n",
    "        data=sparse_data,\n",
    "        size_factor=all_sf,\n",
    "        true_cov=true_cov,\n",
    "        true_corr=true_corr,\n",
    "        num_boot=num_boot, \n",
    "        n_umi=Nr, \n",
    "        bins=num_bins))  \n"
   ]
  }
 ],
 "metadata": {
  "kernelspec": {
   "display_name": "Python 3",
   "language": "python",
   "name": "python3"
  },
  "language_info": {
   "codemirror_mode": {
    "name": "ipython",
    "version": 3
   },
   "file_extension": ".py",
   "mimetype": "text/x-python",
   "name": "python",
   "nbconvert_exporter": "python",
   "pygments_lexer": "ipython3",
   "version": "3.7.5"
  }
 },
 "nbformat": 4,
 "nbformat_minor": 4
}
