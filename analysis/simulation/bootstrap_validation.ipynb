{
 "cells": [
  {
   "cell_type": "markdown",
   "metadata": {},
   "source": [
    "# Bootstrap validation"
   ]
  },
  {
   "cell_type": "code",
   "execution_count": 1,
   "metadata": {},
   "outputs": [
    {
     "name": "stderr",
     "output_type": "stream",
     "text": [
      "/home/ssm-user/anaconda3/envs/single_cell/lib/python3.7/site-packages/scanpy/api/__init__.py:6: FutureWarning: \n",
      "\n",
      "In a future version of Scanpy, `scanpy.api` will be removed.\n",
      "Simply use `import scanpy as sc` and `import scanpy.external as sce` instead.\n",
      "\n",
      "  FutureWarning,\n"
     ]
    }
   ],
   "source": [
    "import pandas as pd\n",
    "import matplotlib.pyplot as plt\n",
    "import scanpy.api as sc\n",
    "import scipy as sp\n",
    "import itertools\n",
    "import numpy as np\n",
    "import scipy.stats as stats\n",
    "from scipy.integrate import dblquad\n",
    "import seaborn as sns\n",
    "from statsmodels.stats.multitest import fdrcorrection\n",
    "import imp\n",
    "pd.options.display.max_rows = 999\n",
    "pd.set_option('display.max_colwidth', -1)\n",
    "import pickle as pkl\n",
    "import time"
   ]
  },
  {
   "cell_type": "code",
   "execution_count": 2,
   "metadata": {},
   "outputs": [],
   "source": [
    "import matplotlib as mpl\n",
    "mpl.rcParams['pdf.fonttype'] = 42\n",
    "mpl.rcParams['ps.fonttype'] = 42\n",
    "\n",
    "import matplotlib.pylab as pylab\n",
    "params = {'legend.fontsize': 'medium',\n",
    "         'axes.labelsize': 'medium',\n",
    "         'axes.titlesize':'medium',\n",
    "         'figure.titlesize':'medium',\n",
    "         'xtick.labelsize':'small',\n",
    "         'ytick.labelsize':'small'}\n",
    "pylab.rcParams.update(params)\n"
   ]
  },
  {
   "cell_type": "code",
   "execution_count": 3,
   "metadata": {},
   "outputs": [],
   "source": [
    "import sys\n",
    "sys.path.append('/home/ssm-user/Github/scrna-parameter-estimation/scmemo')\n",
    "import estimator, simulate, scmemo, bootstrap, util"
   ]
  },
  {
   "cell_type": "code",
   "execution_count": 4,
   "metadata": {},
   "outputs": [],
   "source": [
    "import sys\n",
    "sys.path.append('/home/ssm-user/Github/single_cell_eb/')\n",
    "sys.path.append('/home/ssm-user/Github/single_cell_eb/sceb')\n",
    "import scdd"
   ]
  },
  {
   "cell_type": "markdown",
   "metadata": {},
   "source": [
    "### Validate the bootstrap outcomes\n",
    "\n",
    "Check the mean of the bootstrap distributions for mean, variance, and correlation."
   ]
  },
  {
   "cell_type": "code",
   "execution_count": 400,
   "metadata": {},
   "outputs": [],
   "source": [
    "true_data = simulate.simulate_transcriptomes(10000, 500, correlated=False)\n",
    "qs, captured_data = simulate.capture_sampling(true_data, .1, 0.011)\n",
    "adata = sc.AnnData(sp.sparse.csr_matrix(captured_data))\n",
    "adata.obs['ct'] = 'PBMC'"
   ]
  },
  {
   "cell_type": "code",
   "execution_count": null,
   "metadata": {},
   "outputs": [],
   "source": [
    "size_factors = scdd.dd_size_factor(adata)\n",
    "Nr = adata.X.sum(axis=1).mean()\n",
    "_, M_dd = scdd.dd_1d_moment(adata, size_factor=size_factors, verbose=False, Nr=Nr)\n",
    "var_scdd = scdd.M_to_var(M_dd)\n",
    "num_boot = 10000\n"
   ]
  },
  {
   "cell_type": "code",
   "execution_count": 83,
   "metadata": {},
   "outputs": [
    {
     "name": "stdout",
     "output_type": "stream",
     "text": [
      "CPU times: user 112 ms, sys: 0 ns, total: 112 ms\n",
      "Wall time: 111 ms\n"
     ]
    }
   ],
   "source": [
    "%%time\n",
    "#Real bootstrap\n",
    "real_boot_vars = []\n",
    "data_first_gene = adata.X[:5000, [0]].toarray()\n",
    "for trial in range(num_boot):\n",
    "    \n",
    "    boot_idxs = np.random.choice(adata.shape[0], adata.shape[0], replace=True)\n",
    "    mean, var = estimator._poisson_1d(sp.sparse.csc_matrix(data_first_gene[boot_idxs]), adata.shape[0], size_factor=size_factors[boot_idxs], n_umi=Nr)\n",
    "    real_boot_vars.append(var[0])"
   ]
  },
  {
   "cell_type": "code",
   "execution_count": 401,
   "metadata": {},
   "outputs": [],
   "source": [
    "imp.reload(estimator)\n",
    "imp.reload(bootstrap)\n",
    "imp.reload(scmemo)\n",
    "imp.reload(util)\n",
    "\n",
    "adata_scmemo = adata.copy()\n",
    "adata_scmemo.X = adata_scmemo.X.astype(np.int64)\n",
    "scmemo.create_groups(adata_scmemo, label_columns=['ct'], inplace=True)\n",
    "scmemo.compute_1d_moments(adata_scmemo, inplace=True, filter_genes=True, residual_var=True)\n",
    "scmemo.compute_2d_moments(adata_scmemo, inplace=True, gene_1=adata_scmemo.var.index[[0, 2]], gene_2=adata_scmemo.var.index[[1, 3]])"
   ]
  },
  {
   "cell_type": "code",
   "execution_count": 402,
   "metadata": {},
   "outputs": [
    {
     "data": {
      "text/plain": [
       "array([9.63754843e-08, 1.39221442e-07, 1.99869645e-06, 1.22267119e-06,\n",
       "       7.09326132e-08])"
      ]
     },
     "execution_count": 402,
     "metadata": {},
     "output_type": "execute_result"
    }
   ],
   "source": [
    "adata_scmemo.uns['scmemo']['1d_moments']['sg^PBMC'][1][:5]"
   ]
  },
  {
   "cell_type": "code",
   "execution_count": 403,
   "metadata": {},
   "outputs": [
    {
     "data": {
      "text/plain": [
       "array([[-0.0231803 ,  0.02803398],\n",
       "       [-0.00346433,  0.01462064]])"
      ]
     },
     "execution_count": 403,
     "metadata": {},
     "output_type": "execute_result"
    }
   ],
   "source": [
    "adata_scmemo.uns['scmemo']['2d_moments']['sg^PBMC'][1]"
   ]
  },
  {
   "cell_type": "code",
   "execution_count": 637,
   "metadata": {},
   "outputs": [
    {
     "name": "stdout",
     "output_type": "stream",
     "text": [
      "CPU times: user 1.28 ms, sys: 3.85 ms, total: 5.13 ms\n",
      "Wall time: 4.47 ms\n"
     ]
    }
   ],
   "source": [
    "%%time\n",
    "df = pd.DataFrame(\n",
    "    data=np.vstack([\n",
    "        adata_scmemo.uns['scmemo']['all_size_factor'], \n",
    "        1/adata_scmemo.uns['scmemo']['all_size_factor'], \n",
    "        1/adata_scmemo.uns['scmemo']['all_size_factor']**2]).T,\n",
    "    columns=['size_factor', 'inv_size_factor', 'inv_size_factor_sq'])\n",
    "df['expr'] = adata_scmemo.X[:, 0].toarray().reshape(-1)\n",
    "df['bin_cutoff'] = 1.0\n",
    "df['bin'] = True"
   ]
  },
  {
   "cell_type": "code",
   "execution_count": 639,
   "metadata": {},
   "outputs": [],
   "source": [
    "bin_mean, _, binnumber = stats.binned_statistic(df['size_factor'], df['size_factor'], bins=10)"
   ]
  },
  {
   "cell_type": "code",
   "execution_count": 640,
   "metadata": {},
   "outputs": [
    {
     "data": {
      "text/plain": [
       "(10,)"
      ]
     },
     "execution_count": 640,
     "metadata": {},
     "output_type": "execute_result"
    }
   ],
   "source": [
    "a.shape"
   ]
  },
  {
   "cell_type": "code",
   "execution_count": 644,
   "metadata": {},
   "outputs": [
    {
     "data": {
      "text/plain": [
       "array([0.39353073, 0.61353083, 0.85334058, 1.09937524, 1.35048825,\n",
       "       1.6065794 , 1.87676181, 2.12006878, 2.41371086, 2.74651347])"
      ]
     },
     "execution_count": 644,
     "metadata": {},
     "output_type": "execute_result"
    }
   ],
   "source": [
    "a"
   ]
  },
  {
   "cell_type": "code",
   "execution_count": 646,
   "metadata": {},
   "outputs": [
    {
     "data": {
      "text/plain": [
       "array([1.35048825, 0.61353083, 1.09937524, ..., 0.85334058, 0.85334058,\n",
       "       0.85334058])"
      ]
     },
     "execution_count": 646,
     "metadata": {},
     "output_type": "execute_result"
    }
   ],
   "source": [
    "a[c-1]"
   ]
  },
  {
   "cell_type": "code",
   "execution_count": 643,
   "metadata": {},
   "outputs": [
    {
     "data": {
      "text/plain": [
       "array([5, 2, 4, ..., 3, 3, 3])"
      ]
     },
     "execution_count": 643,
     "metadata": {},
     "output_type": "execute_result"
    }
   ],
   "source": [
    "c"
   ]
  },
  {
   "cell_type": "code",
   "execution_count": 641,
   "metadata": {},
   "outputs": [
    {
     "data": {
      "text/plain": [
       "(11,)"
      ]
     },
     "execution_count": 641,
     "metadata": {},
     "output_type": "execute_result"
    }
   ],
   "source": [
    "b.shape"
   ]
  },
  {
   "cell_type": "code",
   "execution_count": null,
   "metadata": {},
   "outputs": [],
   "source": [
    "pd.qcut()"
   ]
  },
  {
   "cell_type": "code",
   "execution_count": 430,
   "metadata": {},
   "outputs": [
    {
     "name": "stdout",
     "output_type": "stream",
     "text": [
      "CPU times: user 1.96 ms, sys: 82 µs, total: 2.04 ms\n",
      "Wall time: 1.33 ms\n"
     ]
    }
   ],
   "source": [
    "%%time\n",
    "a = df.groupby('expr')['size_factor'].size()"
   ]
  },
  {
   "cell_type": "code",
   "execution_count": 451,
   "metadata": {},
   "outputs": [
    {
     "name": "stdout",
     "output_type": "stream",
     "text": [
      "CPU times: user 3.98 ms, sys: 0 ns, total: 3.98 ms\n",
      "Wall time: 3.19 ms\n"
     ]
    }
   ],
   "source": [
    "%%time\n",
    "a = df.groupby('expr')['size_factor'].apply(list).to_dict()"
   ]
  },
  {
   "cell_type": "code",
   "execution_count": 452,
   "metadata": {},
   "outputs": [
    {
     "name": "stdout",
     "output_type": "stream",
     "text": [
      "CPU times: user 1.35 ms, sys: 57 µs, total: 1.41 ms\n",
      "Wall time: 831 µs\n"
     ]
    }
   ],
   "source": [
    "%%time\n",
    "a = np.random.choice(a[0], len(a[0])).mean()"
   ]
  },
  {
   "cell_type": "code",
   "execution_count": 434,
   "metadata": {},
   "outputs": [],
   "source": [
    "gene_rvs = stats.multinomial.rvs(n=100, p=[.7, .2, .1], size=1000).T"
   ]
  },
  {
   "cell_type": "code",
   "execution_count": 435,
   "metadata": {},
   "outputs": [
    {
     "data": {
      "text/plain": [
       "array([[71, 75, 71, ..., 67, 70, 80],\n",
       "       [20, 22, 15, ..., 19, 22, 13],\n",
       "       [ 9,  3, 14, ..., 14,  8,  7]])"
      ]
     },
     "execution_count": 435,
     "metadata": {},
     "output_type": "execute_result"
    }
   ],
   "source": [
    "gene_rvs"
   ]
  },
  {
   "cell_type": "code",
   "execution_count": null,
   "metadata": {},
   "outputs": [],
   "source": [
    "%lprun -f bootstrap._bootstrap_1d bootstrap._bootstrap_1d(csc_mat[:, 0],  sf_df=df, n_umi=adata_scmemo.uns['scmemo']['n_umi'], num_boot=10000, bins=2, dirichlet_approx=True)"
   ]
  },
  {
   "cell_type": "code",
   "execution_count": null,
   "metadata": {},
   "outputs": [],
   "source": [
    "%lprun -f bootstrap._bootstrap_1d bootstrap._bootstrap_1d(csc_mat[:, 0],  sf_df=df, n_umi=adata_scmemo.uns['scmemo']['n_umi'], num_boot=10000, bins=10, dirichlet_approx=True)"
   ]
  },
  {
   "cell_type": "code",
   "execution_count": 648,
   "metadata": {},
   "outputs": [
    {
     "data": {
      "text/plain": [
       "<module 'bootstrap' from '/home/ssm-user/Github/scrna-parameter-estimation/scmemo/bootstrap.py'>"
      ]
     },
     "execution_count": 648,
     "metadata": {},
     "output_type": "execute_result"
    }
   ],
   "source": [
    "imp.reload(bootstrap)"
   ]
  },
  {
   "cell_type": "code",
   "execution_count": 651,
   "metadata": {},
   "outputs": [
    {
     "name": "stdout",
     "output_type": "stream",
     "text": [
      "-15.791525448346276\n",
      "CPU times: user 10.7 ms, sys: 0 ns, total: 10.7 ms\n",
      "Wall time: 9.83 ms\n"
     ]
    }
   ],
   "source": [
    "%%time\n",
    "# res_1 = scmemo.bootstrap_1d_moments(adata_scmemo, inplace=False, num_boot=100000, verbose=True, bins=1)\n",
    "# res_2 = scmemo.bootstrap_1d_moments(adata_scmemo, inplace=False, num_boot=100000, verbose=True, bins=2)\n",
    "mean, var= bootstrap._bootstrap_1d(\n",
    "    csc_mat[:, 1], \n",
    "    sf_df=df, \n",
    "    n_umi=adata_scmemo.uns['scmemo']['n_umi'],\n",
    "    num_boot=10000,\n",
    "    bins=1,\n",
    "    dirichlet_approx=True)\n",
    "print(var.mean())"
   ]
  },
  {
   "cell_type": "code",
   "execution_count": 397,
   "metadata": {},
   "outputs": [
    {
     "name": "stdout",
     "output_type": "stream",
     "text": [
      "9.398783822804087e-08 2.2915542493337632e-09\n",
      "-1.0241019602300748e-11 -0.0006960628630312668\n",
      "CPU times: user 165 ms, sys: 58 µs, total: 165 ms\n",
      "Wall time: 164 ms\n"
     ]
    }
   ],
   "source": [
    "%%time\n",
    "# imp.reload(bootstrap)\n",
    "cov, corr, var_1, var_2 = bootstrap._bootstrap_2d(\n",
    "    csc_mat[:, [0, 1]], \n",
    "    sf_df=df, \n",
    "    n_umi=adata_scmemo.uns['scmemo']['n_umi'],\n",
    "    num_boot=10000,\n",
    "    bins=2)\n",
    "print(var_1.mean(), var_2.mean())\n",
    "print(cov.mean(), corr.mean())"
   ]
  },
  {
   "cell_type": "markdown",
   "metadata": {},
   "source": [
    "### Characterize the approximate bootstrap"
   ]
  },
  {
   "cell_type": "code",
   "execution_count": 463,
   "metadata": {},
   "outputs": [],
   "source": [
    "from statsmodels.distributions.empirical_distribution import ECDF"
   ]
  },
  {
   "cell_type": "code",
   "execution_count": 489,
   "metadata": {},
   "outputs": [
    {
     "data": {
      "text/plain": [
       "<matplotlib.axes._subplots.AxesSubplot at 0x7f5db68917d0>"
      ]
     },
     "execution_count": 489,
     "metadata": {},
     "output_type": "execute_result"
    },
    {
     "data": {
      "image/png": "[encoded data removed]",
      "text/plain": [
       "<Figure size 792x216 with 3 Axes>"
      ]
     },
     "metadata": {
      "needs_background": "light"
     },
     "output_type": "display_data"
    }
   ],
   "source": [
    "plt.figure(figsize=(11, 3))\n",
    "plt.subplot(1, 3, 1)\n",
    "plt.plot([-0,1], [-0,1], lw=1, color='m')\n",
    "plt.scatter(\n",
    "    ecdf.y[1:],\n",
    "    ecdf(np.sort(np.log(res_1[1]))),\n",
    "    s=0.01)\n",
    "plt.scatter(\n",
    "    ecdf.y[1:],\n",
    "    ecdf(np.sort(np.log(res_2[1]))),\n",
    "    s=0.01)\n",
    "plt.scatter(\n",
    "    ecdf.y[1:],\n",
    "    ecdf(np.sort(np.log(res_3[1]))),\n",
    "    s=0.01)\n",
    "plt.legend(['True', '1 bins', '2 bins', '3 bins'], markerscale=100)\n",
    "\n",
    "plt.subplot(1, 3, 2)\n",
    "plt.plot([-0,1], [-0,1], lw=1, color='m')\n",
    "plt.scatter(\n",
    "    ecdf.y[1:],\n",
    "    ecdf(np.sort(np.log(res_1[1]))),\n",
    "    s=0.01)\n",
    "plt.scatter(\n",
    "    ecdf.y[1:],\n",
    "    ecdf(np.sort(np.log(res_2[1]))),\n",
    "    s=0.01)\n",
    "plt.scatter(\n",
    "    ecdf.y[1:],\n",
    "    ecdf(np.sort(np.log(res_3[1]))),\n",
    "    s=0.01)\n",
    "plt.xlim(0, .1); plt.ylim(0, .1)\n",
    "plt.legend(['True', '1 bins', '2 bins', '3 bins'], markerscale=100)\n",
    "\n",
    "plt.subplot(1, 3, 3)\n",
    "sns.distplot(np.log(res_1[1]), hist=False, label='1 bin')\n",
    "sns.distplot(np.log(res_2[1]), hist=False, label='2 bin')\n",
    "sns.distplot(np.log(res_3[1]), hist=False, label='3 bin')\n",
    "sns.distplot(np.log(real_boot_vars), hist=False, label='true bootstrap')\n"
   ]
  }
 ],
 "metadata": {
  "kernelspec": {
   "display_name": "Python 3",
   "language": "python",
   "name": "python3"
  },
  "language_info": {
   "codemirror_mode": {
    "name": "ipython",
    "version": 3
   },
   "file_extension": ".py",
   "mimetype": "text/x-python",
   "name": "python",
   "nbconvert_exporter": "python",
   "pygments_lexer": "ipython3",
   "version": "3.7.5"
  }
 },
 "nbformat": 4,
 "nbformat_minor": 4
}
