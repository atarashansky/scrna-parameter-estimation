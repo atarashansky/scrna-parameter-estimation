{
 "cells": [
  {
   "cell_type": "markdown",
   "id": "naked-quarterly",
   "metadata": {},
   "source": [
    "# BMDC 1D Analysis"
   ]
  },
  {
   "cell_type": "code",
   "execution_count": 1,
   "id": "magnetic-johnson",
   "metadata": {},
   "outputs": [],
   "source": [
    "import scanpy as sc\n",
    "import seaborn as sns\n",
    "import pandas as pd\n",
    "import matplotlib.pyplot as plt\n",
    "import numpy as np\n",
    "import scipy.stats as stats\n",
    "import itertools\n",
    "from pybedtools import BedTool\n",
    "import pickle as pkl\n",
    "%matplotlib inline"
   ]
  },
  {
   "cell_type": "code",
   "execution_count": 2,
   "id": "intellectual-flashing",
   "metadata": {},
   "outputs": [],
   "source": [
    "pd.set_option('max_columns', None)"
   ]
  },
  {
   "cell_type": "code",
   "execution_count": 3,
   "id": "usual-aquarium",
   "metadata": {},
   "outputs": [],
   "source": [
    "import sys\n",
    "sys.path.append('/home/ssm-user/Github/scrna-parameter-estimation/dist/memento-0.0.6-py3.8.egg')\n",
    "sys.path.append('/home/ssm-user/Github/misc-seq/miscseq/')\n",
    "import encode\n",
    "import memento"
   ]
  },
  {
   "cell_type": "code",
   "execution_count": 4,
   "id": "pacific-capacity",
   "metadata": {},
   "outputs": [],
   "source": [
    "data_path = '/data_volume/memento/bmdc/'"
   ]
  },
  {
   "cell_type": "markdown",
   "id": "cordless-craft",
   "metadata": {},
   "source": [
    "### Read the guide labled K562 data\n",
    "\n",
    "From perturbseq paper"
   ]
  },
  {
   "cell_type": "code",
   "execution_count": 5,
   "id": "unexpected-exercise",
   "metadata": {},
   "outputs": [],
   "source": [
    "adata = sc.read(data_path + 'h5ad/filtered-bmdc.h5ad')"
   ]
  },
  {
   "cell_type": "code",
   "execution_count": 6,
   "id": "generous-chess",
   "metadata": {},
   "outputs": [],
   "source": [
    "guides = []\n",
    "for s in adata.obs.guide_string:\n",
    "    guides += s.split('-')\n",
    "guides = list(set(guides))"
   ]
  },
  {
   "cell_type": "code",
   "execution_count": 7,
   "id": "greenhouse-heading",
   "metadata": {},
   "outputs": [],
   "source": [
    "# guides = adata.obs.guides.drop_duplicates().tolist()\n",
    "# guides = [g for g in guides if ('INTER' not in g and 'nan' not in g)]\n",
    "# ko_genes = adata.obs.query('KO == 1')['KO_GENE'].drop_duplicates().tolist()"
   ]
  },
  {
   "cell_type": "markdown",
   "id": "pharmaceutical-developer",
   "metadata": {},
   "source": [
    "### Setup memento"
   ]
  },
  {
   "cell_type": "code",
   "execution_count": 8,
   "id": "technological-artwork",
   "metadata": {},
   "outputs": [],
   "source": [
    "adata.obs['q'] = 0.07"
   ]
  },
  {
   "cell_type": "code",
   "execution_count": 9,
   "id": "motivated-pound",
   "metadata": {},
   "outputs": [
    {
     "name": "stderr",
     "output_type": "stream",
     "text": [
      "/home/ssm-user/Github/scrna-parameter-estimation/dist/memento-0.0.6-py3.8.egg/memento/main.py:68: RankWarning: Polyfit may be poorly conditioned\n"
     ]
    }
   ],
   "source": [
    "memento.setup_memento(adata, q_column='q', filter_mean_thresh=0.07)"
   ]
  },
  {
   "cell_type": "markdown",
   "id": "great-wisconsin",
   "metadata": {},
   "source": [
    "### Memento"
   ]
  },
  {
   "cell_type": "code",
   "execution_count": 11,
   "id": "composite-tourism",
   "metadata": {},
   "outputs": [
    {
     "data": {
      "text/plain": [
       "AnnData object with n_obs × n_vars = 1348 × 3315\n",
       "    obs: 'guide', 'guide_string', 'tp', 'batch', 'WT', 'KO', 'n_counts', 'n_genes', 'n_genes_by_counts', 'total_counts', 'total_counts_mt', 'pct_counts_mt', 'leiden', 'q', 'memento_size_factor', 'memento_group'\n",
       "    var: 'gene_id-0', 'gene_id-1'\n",
       "    uns: 'memento'"
      ]
     },
     "execution_count": 11,
     "metadata": {},
     "output_type": "execute_result"
    }
   ],
   "source": [
    "subset"
   ]
  },
  {
   "cell_type": "code",
   "execution_count": 13,
   "id": "forward-remedy",
   "metadata": {},
   "outputs": [
    {
     "name": "stderr",
     "output_type": "stream",
     "text": [
      "/home/ssm-user/anaconda3/envs/single_cell/lib/python3.8/site-packages/pandas/core/arrays/categorical.py:2487: FutureWarning: The `inplace` parameter in pandas.Categorical.remove_unused_categories is deprecated and will be removed in a future version.\n",
      "  res = method(*args, **kwargs)\n"
     ]
    },
    {
     "ename": "UnboundLocalError",
     "evalue": "local variable 'cov_idx' referenced before assignment",
     "output_type": "error",
     "traceback": [
      "\u001b[0;31m---------------------------------------------------------------------------\u001b[0m",
      "\u001b[0;31mUnboundLocalError\u001b[0m                         Traceback (most recent call last)",
      "\u001b[0;32m<ipython-input-13-a14469b70603>\u001b[0m in \u001b[0;36m<module>\u001b[0;34m\u001b[0m\n\u001b[1;32m      8\u001b[0m     \u001b[0mmemento\u001b[0m\u001b[0;34m.\u001b[0m\u001b[0mcompute_1d_moments\u001b[0m\u001b[0;34m(\u001b[0m\u001b[0msubset\u001b[0m\u001b[0;34m,\u001b[0m \u001b[0mmin_perc_group\u001b[0m\u001b[0;34m=\u001b[0m\u001b[0;36m.9\u001b[0m\u001b[0;34m)\u001b[0m\u001b[0;34m\u001b[0m\u001b[0;34m\u001b[0m\u001b[0m\n\u001b[1;32m      9\u001b[0m \u001b[0;34m\u001b[0m\u001b[0m\n\u001b[0;32m---> 10\u001b[0;31m     memento.ht_1d_moments(\n\u001b[0m\u001b[1;32m     11\u001b[0m         \u001b[0msubset\u001b[0m\u001b[0;34m,\u001b[0m\u001b[0;34m\u001b[0m\u001b[0;34m\u001b[0m\u001b[0m\n\u001b[1;32m     12\u001b[0m         \u001b[0mformula_like\u001b[0m\u001b[0;34m=\u001b[0m\u001b[0;34m'1 + KO + leiden + KO:leiden'\u001b[0m\u001b[0;34m,\u001b[0m\u001b[0;34m\u001b[0m\u001b[0;34m\u001b[0m\u001b[0m\n",
      "\u001b[0;32m~/Github/scrna-parameter-estimation/dist/memento-0.0.6-py3.8.egg/memento/main.py\u001b[0m in \u001b[0;36mht_1d_moments\u001b[0;34m(adata, formula_like, cov_column, inplace, num_boot, verbose, num_cpus)\u001b[0m\n\u001b[1;32m    368\u001b[0m                                 \u001b[0mNc_list\u001b[0m\u001b[0;34m=\u001b[0m\u001b[0mNc_list\u001b[0m\u001b[0;34m,\u001b[0m\u001b[0;34m\u001b[0m\u001b[0;34m\u001b[0m\u001b[0m\n\u001b[1;32m    369\u001b[0m                                 \u001b[0mnum_boot\u001b[0m\u001b[0;34m=\u001b[0m\u001b[0mnum_boot\u001b[0m\u001b[0;34m,\u001b[0m\u001b[0;34m\u001b[0m\u001b[0;34m\u001b[0m\u001b[0m\n\u001b[0;32m--> 370\u001b[0;31m                                 \u001b[0mcov_idx\u001b[0m\u001b[0;34m=\u001b[0m\u001b[0mcov_idx\u001b[0m\u001b[0;34m,\u001b[0m\u001b[0;34m\u001b[0m\u001b[0;34m\u001b[0m\u001b[0m\n\u001b[0m\u001b[1;32m    371\u001b[0m                                 \u001b[0mmv_fit\u001b[0m\u001b[0;34m=\u001b[0m\u001b[0;34m[\u001b[0m\u001b[0madata\u001b[0m\u001b[0;34m.\u001b[0m\u001b[0muns\u001b[0m\u001b[0;34m[\u001b[0m\u001b[0;34m'memento'\u001b[0m\u001b[0;34m]\u001b[0m\u001b[0;34m[\u001b[0m\u001b[0;34m'mv_regressor'\u001b[0m\u001b[0;34m]\u001b[0m\u001b[0;34m[\u001b[0m\u001b[0mgroup\u001b[0m\u001b[0;34m]\u001b[0m \u001b[0;32mfor\u001b[0m \u001b[0mgroup\u001b[0m \u001b[0;32min\u001b[0m \u001b[0madata\u001b[0m\u001b[0;34m.\u001b[0m\u001b[0muns\u001b[0m\u001b[0;34m[\u001b[0m\u001b[0;34m'memento'\u001b[0m\u001b[0;34m]\u001b[0m\u001b[0;34m[\u001b[0m\u001b[0;34m'groups'\u001b[0m\u001b[0;34m]\u001b[0m\u001b[0;34m]\u001b[0m\u001b[0;34m,\u001b[0m\u001b[0;34m\u001b[0m\u001b[0;34m\u001b[0m\u001b[0m\n\u001b[1;32m    372\u001b[0m                                 \u001b[0mq\u001b[0m\u001b[0;34m=\u001b[0m\u001b[0;34m[\u001b[0m\u001b[0madata\u001b[0m\u001b[0;34m.\u001b[0m\u001b[0muns\u001b[0m\u001b[0;34m[\u001b[0m\u001b[0;34m'memento'\u001b[0m\u001b[0;34m]\u001b[0m\u001b[0;34m[\u001b[0m\u001b[0;34m'group_q'\u001b[0m\u001b[0;34m]\u001b[0m\u001b[0;34m[\u001b[0m\u001b[0mgroup\u001b[0m\u001b[0;34m]\u001b[0m \u001b[0;32mfor\u001b[0m \u001b[0mgroup\u001b[0m \u001b[0;32min\u001b[0m \u001b[0madata\u001b[0m\u001b[0;34m.\u001b[0m\u001b[0muns\u001b[0m\u001b[0;34m[\u001b[0m\u001b[0;34m'memento'\u001b[0m\u001b[0;34m]\u001b[0m\u001b[0;34m[\u001b[0m\u001b[0;34m'groups'\u001b[0m\u001b[0;34m]\u001b[0m\u001b[0;34m]\u001b[0m\u001b[0;34m,\u001b[0m\u001b[0;34m\u001b[0m\u001b[0;34m\u001b[0m\u001b[0m\n",
      "\u001b[0;31mUnboundLocalError\u001b[0m: local variable 'cov_idx' referenced before assignment"
     ]
    }
   ],
   "source": [
    "for g in guides:\n",
    "    \n",
    "    subset = adata[\n",
    "        (adata.obs.WT | adata.obs.guide_string.str.contains(g)) & adata.obs.leiden.isin(['0', '1'])\n",
    "    ].copy().copy()\n",
    "    \n",
    "    memento.create_groups(subset, label_columns=['KO', 'leiden'])\n",
    "    memento.compute_1d_moments(subset, min_perc_group=.9)\n",
    "    \n",
    "    memento.ht_1d_moments(\n",
    "        subset, \n",
    "        formula_like='1 + KO + leiden + KO:leiden',\n",
    "        cov_column='KO:leiden', \n",
    "        num_boot=10000, \n",
    "        verbose=1,\n",
    "        num_cpus=70)\n",
    "    \n",
    "    break\n",
    "    \n",
    "#     subset.write(data_path + '2d_self_h5ad/{}.h5ad'.format(g))"
   ]
  },
  {
   "cell_type": "code",
   "execution_count": 35,
   "id": "excessive-colombia",
   "metadata": {},
   "outputs": [],
   "source": [
    "df = memento.get_1d_ht_result(subset)"
   ]
  },
  {
   "cell_type": "code",
   "execution_count": 36,
   "id": "chicken-operator",
   "metadata": {},
   "outputs": [],
   "source": [
    "df['de_fdr'] = memento.util._fdrcorrect(df['de_pval'])\n",
    "df['dv_fdr'] = memento.util._fdrcorrect(df['dv_pval'])"
   ]
  },
  {
   "cell_type": "code",
   "execution_count": 38,
   "id": "devoted-change",
   "metadata": {},
   "outputs": [
    {
     "data": {
      "text/plain": [
       "(array([392., 571., 573., 550., 466., 475., 428., 389., 392., 387.]),\n",
       " array([0.00124351, 0.10105917, 0.20087482, 0.30069048, 0.40050613,\n",
       "        0.50032179, 0.60013744, 0.6999531 , 0.79976875, 0.89958441,\n",
       "        0.99940006]),\n",
       " <BarContainer object of 10 artists>)"
      ]
     },
     "execution_count": 38,
     "metadata": {},
     "output_type": "execute_result"
    },
    {
     "data": {
      "image/png": "[encoded data removed]",
      "text/plain": [
       "<Figure size 432x288 with 1 Axes>"
      ]
     },
     "metadata": {
      "needs_background": "light"
     },
     "output_type": "display_data"
    }
   ],
   "source": [
    "plt.hist(df['dv_pval'])"
   ]
  },
  {
   "cell_type": "code",
   "execution_count": null,
   "id": "straight-zealand",
   "metadata": {},
   "outputs": [],
   "source": []
  }
 ],
 "metadata": {
  "kernelspec": {
   "display_name": "Python 3",
   "language": "python",
   "name": "python3"
  },
  "language_info": {
   "codemirror_mode": {
    "name": "ipython",
    "version": 3
   },
   "file_extension": ".py",
   "mimetype": "text/x-python",
   "name": "python",
   "nbconvert_exporter": "python",
   "pygments_lexer": "ipython3",
   "version": "3.8.8"
  }
 },
 "nbformat": 4,
 "nbformat_minor": 5
}
