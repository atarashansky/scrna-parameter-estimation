{
 "cells": [
  {
   "cell_type": "markdown",
   "id": "resistant-martial",
   "metadata": {},
   "source": [
    "# Assemble Perturb-seq BMDC data"
   ]
  },
  {
   "cell_type": "code",
   "execution_count": 12,
   "id": "interesting-thompson",
   "metadata": {},
   "outputs": [],
   "source": [
    "import scanpy as sc\n",
    "import pandas as pd\n",
    "import scipy.io as io"
   ]
  },
  {
   "cell_type": "code",
   "execution_count": 13,
   "id": "exposed-booth",
   "metadata": {},
   "outputs": [],
   "source": [
    "data_path = '/data_volume/memento/bmdc/'"
   ]
  },
  {
   "cell_type": "markdown",
   "id": "automatic-training",
   "metadata": {},
   "source": [
    "### Process time 0"
   ]
  },
  {
   "cell_type": "code",
   "execution_count": 14,
   "id": "quality-grave",
   "metadata": {},
   "outputs": [
    {
     "name": "stdout",
     "output_type": "stream",
     "text": [
      "(33063, 1)\n",
      "(33063, 2)\n"
     ]
    }
   ],
   "source": [
    "genes = pd.read_csv(data_path + '/raw_0/genes.tsv', sep='\\t', index_col=0)\n",
    "var_df = pd.DataFrame(index=genes['1'].str.split('_').str[1])\n",
    "var_df['gene_id'] = genes['1'].str.split('_').str[0].tolist()\n",
    "\n",
    "cells = pd.read_csv(data_path + 'raw_0/cells.tsv', index_col=0)\n",
    "obs_df = pd.DataFrame(index=cells['0'])\n",
    "obs_df['cell'] = cells['0'].tolist()\n",
    "\n",
    "mapping = pd.read_csv(data_path + '/raw_0/GSM2396857_dc_0hr_cbc_gbc_dict.csv', header=None)\n",
    "mapping['cell'] = mapping[1].str.split(', ')\n",
    "mapping = mapping.explode(column='cell').rename(columns={0:'guide'})[['cell', 'guide']]\n",
    "guides = mapping['guide'].drop_duplicates().tolist()\n",
    "\n",
    "\n",
    "print(obs_df.shape)\n",
    "obs_df = obs_df.merge(mapping, on='cell', how='left').astype(str)\n",
    "obs_df = pd.DataFrame(obs_df.groupby('cell').guide.apply(list))\n",
    "obs_df['guide_string'] = obs_df['guide'].apply(lambda x: '-'.join(x))\n",
    "print(obs_df.shape)\n",
    "\n",
    "for g in guides:\n",
    "    \n",
    "    obs_df[g] = obs_df['guide'].str.contains(g)"
   ]
  },
  {
   "cell_type": "code",
   "execution_count": 15,
   "id": "ignored-transport",
   "metadata": {},
   "outputs": [],
   "source": [
    "X = io.mmread(data_path + '/raw_0/matrix.mtx')"
   ]
  },
  {
   "cell_type": "code",
   "execution_count": 16,
   "id": "differential-inflation",
   "metadata": {},
   "outputs": [
    {
     "name": "stderr",
     "output_type": "stream",
     "text": [
      "Variable names are not unique. To make them unique, call `.var_names_make_unique`.\n"
     ]
    }
   ],
   "source": [
    "adata0 = sc.AnnData(X=X.T.tocsc(), obs=obs_df, var=var_df)"
   ]
  },
  {
   "cell_type": "code",
   "execution_count": 6,
   "id": "tired-capitol",
   "metadata": {},
   "outputs": [
    {
     "name": "stderr",
     "output_type": "stream",
     "text": [
      "... storing 'guide' as categorical\n",
      "... storing 'guide_string' as categorical\n"
     ]
    }
   ],
   "source": [
    "adata0.write(data_path + '/raw_0/tp0.h5ad')"
   ]
  },
  {
   "cell_type": "markdown",
   "id": "saving-stream",
   "metadata": {},
   "source": [
    "### Process time 3"
   ]
  },
  {
   "cell_type": "code",
   "execution_count": 8,
   "id": "humanitarian-parker",
   "metadata": {},
   "outputs": [
    {
     "name": "stdout",
     "output_type": "stream",
     "text": [
      "(32777, 1)\n",
      "(32777, 2)\n"
     ]
    }
   ],
   "source": [
    "genes = pd.read_csv(data_path + '/raw_3/genes.tsv', index_col=0)\n",
    "var_df = pd.DataFrame(index=genes['0'].str.split('_').str[1])\n",
    "var_df['gene_id'] = genes['0'].str.split('_').str[0].tolist()\n",
    "\n",
    "cells = pd.read_csv(data_path + 'raw_3/cells.tsv', index_col=0)\n",
    "obs_df = pd.DataFrame(index=cells['0'])\n",
    "obs_df['cell'] = cells['0'].tolist()\n",
    "\n",
    "mapping = pd.read_csv(data_path + '/raw_3/GSM2396856_dc_3hr_cbc_gbc_dict_lenient.csv', header=None)\n",
    "mapping['cell'] = mapping[1].str.split(', ')\n",
    "mapping = mapping.explode(column='cell').rename(columns={0:'guide'})[['cell', 'guide']]\n",
    "guides = mapping['guide'].drop_duplicates().tolist()\n",
    "\n",
    "\n",
    "print(obs_df.shape)\n",
    "obs_df = obs_df.merge(mapping, on='cell', how='left').astype(str)\n",
    "obs_df = pd.DataFrame(obs_df.groupby('cell').guide.apply(list))\n",
    "obs_df['guide_string'] = obs_df['guide'].apply(lambda x: '-'.join(x))\n",
    "print(obs_df.shape)\n",
    "\n",
    "for g in guides:\n",
    "    \n",
    "    obs_df[g] = obs_df['guide'].str.contains(g)"
   ]
  },
  {
   "cell_type": "code",
   "execution_count": 9,
   "id": "qualified-antarctica",
   "metadata": {},
   "outputs": [],
   "source": [
    "X = io.mmread(data_path + '/raw_3/matrix.mtx')"
   ]
  },
  {
   "cell_type": "code",
   "execution_count": 11,
   "id": "billion-clear",
   "metadata": {},
   "outputs": [
    {
     "name": "stderr",
     "output_type": "stream",
     "text": [
      "Variable names are not unique. To make them unique, call `.var_names_make_unique`.\n",
      "... storing 'guide' as categorical\n",
      "... storing 'guide_string' as categorical\n"
     ]
    }
   ],
   "source": [
    "adata3 = sc.AnnData(X=X.T.tocsc(), obs=obs_df, var=var_df)\n",
    "adata3.write(data_path + '/raw_3/tp3.h5ad')"
   ]
  },
  {
   "cell_type": "markdown",
   "id": "false-radical",
   "metadata": {},
   "source": [
    "### Combine"
   ]
  },
  {
   "cell_type": "code",
   "execution_count": 17,
   "id": "fixed-effort",
   "metadata": {},
   "outputs": [],
   "source": [
    "adata0.obs['tp'] = '0hr'\n",
    "adata3.obs['tp'] = '3hr'"
   ]
  },
  {
   "cell_type": "code",
   "execution_count": 70,
   "id": "crazy-smell",
   "metadata": {},
   "outputs": [],
   "source": [
    "adata0.var_names_make_unique()\n",
    "adata3.var_names_make_unique()\n",
    "overlap_genes = adata0.var[[]].copy().join(adata3.var[[]].copy(), how='inner').index.tolist()"
   ]
  },
  {
   "cell_type": "code",
   "execution_count": 71,
   "id": "acquired-keyboard",
   "metadata": {},
   "outputs": [],
   "source": [
    "adata0 = adata0[:, overlap_genes]\n",
    "adata3 = adata3[:, overlap_genes]"
   ]
  },
  {
   "cell_type": "code",
   "execution_count": 72,
   "id": "inappropriate-triumph",
   "metadata": {},
   "outputs": [],
   "source": [
    "adata_combined = adata0.concatenate(adata3)"
   ]
  },
  {
   "cell_type": "code",
   "execution_count": 74,
   "id": "cooked-determination",
   "metadata": {},
   "outputs": [
    {
     "name": "stderr",
     "output_type": "stream",
     "text": [
      "... storing 'guide' as categorical\n",
      "... storing 'guide_string' as categorical\n",
      "... storing 'tp' as categorical\n"
     ]
    }
   ],
   "source": [
    "adata_combined.write(data_path + 'bmdc.h5ad')"
   ]
  }
 ],
 "metadata": {
  "kernelspec": {
   "display_name": "Python 3",
   "language": "python",
   "name": "python3"
  },
  "language_info": {
   "codemirror_mode": {
    "name": "ipython",
    "version": 3
   },
   "file_extension": ".py",
   "mimetype": "text/x-python",
   "name": "python",
   "nbconvert_exporter": "python",
   "pygments_lexer": "ipython3",
   "version": "3.8.8"
  }
 },
 "nbformat": 4,
 "nbformat_minor": 5
}
