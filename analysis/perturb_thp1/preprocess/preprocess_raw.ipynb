{
 "cells": [
  {
   "cell_type": "markdown",
   "id": "automotive-denial",
   "metadata": {},
   "source": [
    "# Assembling the complete ECCITE-seq dataset"
   ]
  },
  {
   "cell_type": "code",
   "execution_count": 120,
   "id": "beneficial-gabriel",
   "metadata": {},
   "outputs": [],
   "source": [
    "import scanpy as sc\n",
    "import pandas as pd\n",
    "import seaborn as sns\n",
    "pd.set_option('display.max_rows', 500)"
   ]
  },
  {
   "cell_type": "code",
   "execution_count": 5,
   "id": "accredited-liechtenstein",
   "metadata": {},
   "outputs": [],
   "source": [
    "data_path = '/data_volume/memento/eccite/'"
   ]
  },
  {
   "cell_type": "code",
   "execution_count": 4,
   "id": "rapid-insight",
   "metadata": {},
   "outputs": [
    {
     "name": "stderr",
     "output_type": "stream",
     "text": [
      "Variable names are not unique. To make them unique, call `.var_names_make_unique`.\n",
      "Variable names are not unique. To make them unique, call `.var_names_make_unique`.\n"
     ]
    }
   ],
   "source": [
    "adata = sc.read_10x_h5(data_path + 'filtered_feature_bc_matrix.h5')\n"
   ]
  },
  {
   "cell_type": "code",
   "execution_count": 5,
   "id": "apart-tactics",
   "metadata": {},
   "outputs": [],
   "source": [
    "adata.var_names_make_unique()"
   ]
  },
  {
   "cell_type": "code",
   "execution_count": 6,
   "id": "approximate-relevance",
   "metadata": {},
   "outputs": [],
   "source": [
    "adata.obs['lane'] = adata.obs.index.str.split('-').str[-1]"
   ]
  },
  {
   "cell_type": "code",
   "execution_count": 7,
   "id": "precious-russian",
   "metadata": {},
   "outputs": [],
   "source": [
    "adata.var['mt'] = adata.var_names.str.startswith('MT-')  # annotate the group of mitochondrial genes as 'mt'\n",
    "sc.pp.calculate_qc_metrics(adata, qc_vars=['mt'], percent_top=None, log1p=False, inplace=True)"
   ]
  },
  {
   "cell_type": "code",
   "execution_count": 8,
   "id": "valid-fight",
   "metadata": {},
   "outputs": [
    {
     "data": {
      "text/html": [
       "<div>\n",
       "<style scoped>\n",
       "    .dataframe tbody tr th:only-of-type {\n",
       "        vertical-align: middle;\n",
       "    }\n",
       "\n",
       "    .dataframe tbody tr th {\n",
       "        vertical-align: top;\n",
       "    }\n",
       "\n",
       "    .dataframe thead th {\n",
       "        text-align: right;\n",
       "    }\n",
       "</style>\n",
       "<table border=\"1\" class=\"dataframe\">\n",
       "  <thead>\n",
       "    <tr style=\"text-align: right;\">\n",
       "      <th></th>\n",
       "      <th>lane</th>\n",
       "      <th>n_genes_by_counts</th>\n",
       "      <th>total_counts</th>\n",
       "      <th>total_counts_mt</th>\n",
       "      <th>pct_counts_mt</th>\n",
       "    </tr>\n",
       "  </thead>\n",
       "  <tbody>\n",
       "    <tr>\n",
       "      <th>AAACCTGAGACAGACC-1</th>\n",
       "      <td>1</td>\n",
       "      <td>2609</td>\n",
       "      <td>8691.0</td>\n",
       "      <td>472.0</td>\n",
       "      <td>5.430905</td>\n",
       "    </tr>\n",
       "    <tr>\n",
       "      <th>AAACCTGAGCAGGCTA-1</th>\n",
       "      <td>1</td>\n",
       "      <td>3431</td>\n",
       "      <td>15767.0</td>\n",
       "      <td>167.0</td>\n",
       "      <td>1.059174</td>\n",
       "    </tr>\n",
       "    <tr>\n",
       "      <th>AAACCTGAGCCAGAAC-1</th>\n",
       "      <td>1</td>\n",
       "      <td>3816</td>\n",
       "      <td>15634.0</td>\n",
       "      <td>339.0</td>\n",
       "      <td>2.168351</td>\n",
       "    </tr>\n",
       "    <tr>\n",
       "      <th>AAACCTGAGGTACTCT-1</th>\n",
       "      <td>1</td>\n",
       "      <td>4205</td>\n",
       "      <td>16914.0</td>\n",
       "      <td>692.0</td>\n",
       "      <td>4.091285</td>\n",
       "    </tr>\n",
       "    <tr>\n",
       "      <th>AAACCTGAGGTGATTA-1</th>\n",
       "      <td>1</td>\n",
       "      <td>1869</td>\n",
       "      <td>4257.0</td>\n",
       "      <td>986.0</td>\n",
       "      <td>23.161850</td>\n",
       "    </tr>\n",
       "  </tbody>\n",
       "</table>\n",
       "</div>"
      ],
      "text/plain": [
       "                   lane  n_genes_by_counts  total_counts  total_counts_mt  \\\n",
       "AAACCTGAGACAGACC-1    1               2609        8691.0            472.0   \n",
       "AAACCTGAGCAGGCTA-1    1               3431       15767.0            167.0   \n",
       "AAACCTGAGCCAGAAC-1    1               3816       15634.0            339.0   \n",
       "AAACCTGAGGTACTCT-1    1               4205       16914.0            692.0   \n",
       "AAACCTGAGGTGATTA-1    1               1869        4257.0            986.0   \n",
       "\n",
       "                    pct_counts_mt  \n",
       "AAACCTGAGACAGACC-1       5.430905  \n",
       "AAACCTGAGCAGGCTA-1       1.059174  \n",
       "AAACCTGAGCCAGAAC-1       2.168351  \n",
       "AAACCTGAGGTACTCT-1       4.091285  \n",
       "AAACCTGAGGTGATTA-1      23.161850  "
      ]
     },
     "execution_count": 8,
     "metadata": {},
     "output_type": "execute_result"
    }
   ],
   "source": [
    "adata.obs.head(5)"
   ]
  },
  {
   "cell_type": "code",
   "execution_count": 9,
   "id": "middle-stylus",
   "metadata": {},
   "outputs": [],
   "source": [
    "adata = adata[adata.obs.n_genes_by_counts > 100, :]\n",
    "adata = adata[adata.obs.pct_counts_mt < 10, :]"
   ]
  },
  {
   "cell_type": "code",
   "execution_count": 10,
   "id": "bulgarian-newark",
   "metadata": {},
   "outputs": [
    {
     "data": {
      "text/plain": [
       "View of AnnData object with n_obs × n_vars = 63474 × 36601\n",
       "    obs: 'lane', 'n_genes_by_counts', 'total_counts', 'total_counts_mt', 'pct_counts_mt'\n",
       "    var: 'gene_ids', 'feature_types', 'genome', 'mt', 'n_cells_by_counts', 'mean_counts', 'pct_dropout_by_counts', 'total_counts'"
      ]
     },
     "execution_count": 10,
     "metadata": {},
     "output_type": "execute_result"
    }
   ],
   "source": [
    "adata"
   ]
  },
  {
   "cell_type": "code",
   "execution_count": 11,
   "id": "adaptive-volume",
   "metadata": {},
   "outputs": [
    {
     "name": "stderr",
     "output_type": "stream",
     "text": [
      "/home/ssm-user/anaconda3/envs/single_cell/lib/python3.8/site-packages/anndata/_core/anndata.py:1207: ImplicitModificationWarning: Initializing view as actual.\n",
      "  warnings.warn(\n",
      "Trying to set attribute `.obs` of view, copying.\n",
      "... storing 'lane' as categorical\n",
      "Trying to set attribute `.var` of view, copying.\n",
      "... storing 'feature_types' as categorical\n",
      "Trying to set attribute `.var` of view, copying.\n",
      "... storing 'genome' as categorical\n"
     ]
    }
   ],
   "source": [
    "adata.write(data_path + 'filtered_eccite_cDNA.h5ad')"
   ]
  },
  {
   "cell_type": "code",
   "execution_count": 12,
   "id": "african-delight",
   "metadata": {},
   "outputs": [],
   "source": [
    "adata.obs['original_bc'] = adata.obs.index.str.split('-').str[0]"
   ]
  },
  {
   "cell_type": "code",
   "execution_count": 16,
   "id": "grateful-simulation",
   "metadata": {},
   "outputs": [],
   "source": [
    "for lane in range(1, 9):\n",
    "    \n",
    "    bcs = adata.obs.query('lane == \"{}\"'.format(lane))[['original_bc']]\n",
    "    bcs.to_csv(data_path + 'cell_bcs/run{}.csv'.format(lane), index=False, header=False)"
   ]
  },
  {
   "cell_type": "markdown",
   "id": "sticky-threat",
   "metadata": {},
   "source": [
    "### Combine HTO counts"
   ]
  },
  {
   "cell_type": "code",
   "execution_count": 67,
   "id": "brief-impossible",
   "metadata": {},
   "outputs": [],
   "source": [
    "adata = sc.read(data_path + 'filtered_eccite_cDNA.h5ad')"
   ]
  },
  {
   "cell_type": "code",
   "execution_count": 68,
   "id": "dedicated-performance",
   "metadata": {},
   "outputs": [],
   "source": [
    "# Read HTO assignments\n",
    "df_list = []\n",
    "for lane in range(1, 9):\n",
    "    \n",
    "    df = pd.read_csv(data_path + 'hto_counts/hto{}_out/umi_count/multi_class.csv'.format(lane), index_col=0)\n",
    "    df.index = df.index.values + '-' + str(lane)\n",
    "    df_list.append(df.copy())\n",
    "multiseq_df = pd.concat(df_list)"
   ]
  },
  {
   "cell_type": "code",
   "execution_count": 69,
   "id": "several-davis",
   "metadata": {},
   "outputs": [],
   "source": [
    "overlap_bcs = list(set(adata.obs.index) & set(multiseq_df.index))"
   ]
  },
  {
   "cell_type": "code",
   "execution_count": 70,
   "id": "treated-vision",
   "metadata": {},
   "outputs": [
    {
     "name": "stderr",
     "output_type": "stream",
     "text": [
      "/home/ssm-user/anaconda3/envs/single_cell/lib/python3.8/site-packages/pandas/core/arrays/categorical.py:2487: FutureWarning: The `inplace` parameter in pandas.Categorical.remove_unused_categories is deprecated and will be removed in a future version.\n",
      "  res = method(*args, **kwargs)\n"
     ]
    }
   ],
   "source": [
    "adata = adata[overlap_bcs, :].copy()"
   ]
  },
  {
   "cell_type": "code",
   "execution_count": 75,
   "id": "handmade-correction",
   "metadata": {},
   "outputs": [],
   "source": [
    "adata.obs = adata.obs.join(multiseq_df, how='left')"
   ]
  },
  {
   "cell_type": "code",
   "execution_count": 77,
   "id": "magnetic-possibility",
   "metadata": {},
   "outputs": [
    {
     "data": {
      "text/plain": [
       "rep3-tx-AGGACCATCCAA        12075\n",
       "rep1-tx-AGGACCATCCAA         9404\n",
       "Negative                     9082\n",
       "rep2-tx-TCGATAATGCGA         8507\n",
       "rep4-tx-TCGATAATGCGA         8027\n",
       "Doublet                      8010\n",
       "rep3-ctrl-ACATGTTACCGT       1385\n",
       "rep4-ctrl-GAGGCTGAGCTA       1222\n",
       "rep2-ctrl-GAGGCTGAGCTA       1037\n",
       "PDL1g1-ctrl-ACTGTCTAACGG      981\n",
       "PDL1g2-ctrl-TAACGACGTGGT      969\n",
       "unmapped                      944\n",
       "rep1-ctrl-ACATGTTACCGT        683\n",
       "PDL1g1-tx-GTGTGACGTATT        598\n",
       "PDL1g2-tx-CACATAATGACG        539\n",
       "Name: MULTI_ID, dtype: int64"
      ]
     },
     "execution_count": 77,
     "metadata": {},
     "output_type": "execute_result"
    }
   ],
   "source": [
    "adata.obs['MULTI_ID'].value_counts()"
   ]
  },
  {
   "cell_type": "code",
   "execution_count": 78,
   "id": "prime-killer",
   "metadata": {},
   "outputs": [
    {
     "name": "stderr",
     "output_type": "stream",
     "text": [
      "/home/ssm-user/anaconda3/envs/single_cell/lib/python3.8/site-packages/pandas/core/arrays/categorical.py:2487: FutureWarning: The `inplace` parameter in pandas.Categorical.remove_unused_categories is deprecated and will be removed in a future version.\n",
      "  res = method(*args, **kwargs)\n"
     ]
    }
   ],
   "source": [
    "adata = adata[adata.obs['MULTI_ID'].str.startswith('rep')].copy()"
   ]
  },
  {
   "cell_type": "code",
   "execution_count": 79,
   "id": "processed-insight",
   "metadata": {},
   "outputs": [],
   "source": [
    "adata.obs['replicate'] = adata.obs['MULTI_ID'].str.split('-').str[0]\n",
    "adata.obs['treatment'] = adata.obs['MULTI_ID'].str.split('-').str[1]"
   ]
  },
  {
   "cell_type": "code",
   "execution_count": 82,
   "id": "distributed-webster",
   "metadata": {},
   "outputs": [
    {
     "name": "stderr",
     "output_type": "stream",
     "text": [
      "... storing 'orig.ident' as categorical\n",
      "... storing 'MULTI_ID' as categorical\n",
      "... storing 'MULTI_classification' as categorical\n",
      "... storing 'replicate' as categorical\n",
      "... storing 'treatment' as categorical\n"
     ]
    }
   ],
   "source": [
    "adata.write(data_path + 'filtered_eccite_cDNA_hto.h5ad')"
   ]
  },
  {
   "cell_type": "markdown",
   "id": "crazy-baseline",
   "metadata": {},
   "source": [
    "### Attach guide information"
   ]
  },
  {
   "cell_type": "code",
   "execution_count": 159,
   "id": "medical-category",
   "metadata": {},
   "outputs": [],
   "source": [
    "# Read HTO assignments\n",
    "df_list = []\n",
    "for lane in range(1, 9):\n",
    "    \n",
    "    df = pd.read_csv(data_path + 'gdo_counts/gdo{}_out/umi_count/gdo_counts.csv'.format(lane), index_col=0).T\n",
    "    df.index = df.index.values + '-' + str(lane)\n",
    "    df_list.append(df.copy())\n",
    "gdo_df = pd.concat(df_list)"
   ]
  },
  {
   "cell_type": "code",
   "execution_count": 160,
   "id": "remarkable-arkansas",
   "metadata": {},
   "outputs": [],
   "source": [
    "gdo_df = gdo_df[gdo_df.columns[:-1]]\n",
    "gdo_df = gdo_df[~((gdo_df > 5).sum(axis=1) == 0)]"
   ]
  },
  {
   "cell_type": "code",
   "execution_count": null,
   "id": "horizontal-merchant",
   "metadata": {},
   "outputs": [],
   "source": [
    "gdo_df['guide_ID'] = gdo_df.idxmax(axis=1)"
   ]
  },
  {
   "cell_type": "code",
   "execution_count": 163,
   "id": "japanese-bridal",
   "metadata": {},
   "outputs": [],
   "source": [
    "def second_percent(row):\n",
    "    \n",
    "    return row.nlargest(2).values[-1]/row.nlargest(1).values[-1]"
   ]
  },
  {
   "cell_type": "code",
   "execution_count": 164,
   "id": "postal-confidence",
   "metadata": {},
   "outputs": [],
   "source": [
    "gdo_df['second_percent'] = gdo_df.iloc[:, :-1].apply(second_percent,axis=1)"
   ]
  },
  {
   "cell_type": "code",
   "execution_count": 165,
   "id": "hispanic-syndication",
   "metadata": {},
   "outputs": [],
   "source": [
    "filtered_gdo_df = gdo_df.query('second_percent < 0.30')"
   ]
  },
  {
   "cell_type": "code",
   "execution_count": 178,
   "id": "consistent-clinic",
   "metadata": {},
   "outputs": [],
   "source": [
    "adata = sc.read(data_path + 'filtered_eccite_cDNA_hto.h5ad')"
   ]
  },
  {
   "cell_type": "code",
   "execution_count": 179,
   "id": "raising-flush",
   "metadata": {},
   "outputs": [],
   "source": [
    "overlap_bcs = list(set(adata.obs.index) & set(filtered_gdo_df.index))"
   ]
  },
  {
   "cell_type": "code",
   "execution_count": 180,
   "id": "welcome-factor",
   "metadata": {},
   "outputs": [],
   "source": [
    "adata = adata[overlap_bcs, :].copy()"
   ]
  },
  {
   "cell_type": "code",
   "execution_count": 181,
   "id": "hydraulic-roommate",
   "metadata": {},
   "outputs": [
    {
     "data": {
      "text/plain": [
       "(28346, 36601)"
      ]
     },
     "execution_count": 181,
     "metadata": {},
     "output_type": "execute_result"
    }
   ],
   "source": [
    "adata.shape"
   ]
  },
  {
   "cell_type": "code",
   "execution_count": 182,
   "id": "upper-location",
   "metadata": {},
   "outputs": [],
   "source": [
    "adata.obs = adata.obs.join(filtered_gdo_df.iloc[:, -2:], how='left')"
   ]
  },
  {
   "cell_type": "code",
   "execution_count": 183,
   "id": "accepted-warrior",
   "metadata": {},
   "outputs": [],
   "source": [
    "adata.obs['gene'] = adata.obs['guide_ID'].str.split('g').str[0]"
   ]
  },
  {
   "cell_type": "code",
   "execution_count": 184,
   "id": "congressional-better",
   "metadata": {},
   "outputs": [],
   "source": [
    "# adata = adata[adata.obs['replicate'] != 'rep4']"
   ]
  },
  {
   "cell_type": "code",
   "execution_count": 185,
   "id": "loaded-lawrence",
   "metadata": {},
   "outputs": [
    {
     "name": "stderr",
     "output_type": "stream",
     "text": [
      "... storing 'guide_ID' as categorical\n",
      "... storing 'gene' as categorical\n"
     ]
    }
   ],
   "source": [
    "adata.write(data_path + 'eccite.h5ad')"
   ]
  },
  {
   "cell_type": "code",
   "execution_count": 190,
   "id": "vocational-shore",
   "metadata": {},
   "outputs": [
    {
     "data": {
      "text/plain": [
       "STAT1g3-CAGCATGTTGTACCAAAGG       296\n",
       "STAT1g2-CATCCTTTGGTACAACATG       100\n",
       "STAT1g1-TGGCCTGGAGTAATACTTT        46\n",
       "STAT1g4-GTCAAACTCCTCAGGAGAC        16\n",
       "ATF2g1-TTCATTTCTCAGCAGGGTG          0\n",
       "PDCD1LG2g4-CTGCTAATGTTGAGCCTGG      0\n",
       "SMAD4g2-CAGAAGGGTCCACGTATCC         0\n",
       "SMAD4g1-GTGGTCACTAAGGCACCTG         0\n",
       "POU2F2g4-ACGACCATTTCCCGCTTCG        0\n",
       "POU2F2g3-ACCTTCAAGCAACGCCGCA        0\n",
       "POU2F2g2-TTCTTGCGTCTCCGGCCGG        0\n",
       "POU2F2g1-GGGCAAGCTCTACGGCAAC        0\n",
       "PDL1g3-AGTTCTGCGCAGCTTCCCG          0\n",
       "PDL1g1-ATATAGGTCCTTGGGAACC          0\n",
       "PDCD1LG2g3-TTTGTTGTGGTGACAGGTC      0\n",
       "SMAD4g4-CACCTTTACATTCCAACTG         0\n",
       "PDCD1LG2g2-ACGTGAGTATTCCAGAACA      0\n",
       "PDCD1LG2g1-CTGGCAGAAACTTCAGCTG      0\n",
       "NTg10-TGTAGGAGCGGCGTTAGTA           0\n",
       "NTg9-ATGTCTCGCCCCGATATGG            0\n",
       "NTg8-TAGAGAGCGGCGCGCCTAC            0\n",
       "NTg7-GCCGTTAAGCGGAAACGAT            0\n",
       "NTg5-TGAACGGGCCGCGGAAGCG            0\n",
       "NTg4-TGCGACGCTTAGCCTCCGT            0\n",
       "NTg3-AGGACAGCAACTTCTGCCC            0\n",
       "NTg2-ATAAACACTATACCATGTA            0\n",
       "NTg1-ACCTCTCAATGCCGTGGTT            0\n",
       "NFKBIAg4-CCAGGGCTATTCTCCCTAC        0\n",
       "SMAD4g3-GTATCCATCAACAGTAACA         0\n",
       "SPI1g2-GGGGGTATCGAGGACGTGC          0\n",
       "SPI1g1-GTCATAGGGCACCAGGTCT          0\n",
       "ATF2g2-AAGAAGCTGTTTCAGCTGT          0\n",
       "UBE2L6g3-ACCAGGACATTGGCATCAT        0\n",
       "UBE2L6g2-CGGAGTATCCGTTCAAGCC        0\n",
       "UBE2L6g1-AGGTATGGGGGAGGCTTCT        0\n",
       "TNFRSF14g4-CAAGGAGGACGAGTACCCA      0\n",
       "TNFRSF14g3-CTTGCAGGACGGCAGAGCT      0\n",
       "TNFRSF14g2-GGAGGAGACAATACCCTCA      0\n",
       "TNFRSF14g1-CGTGGTGACGTCCGGAGGG      0\n",
       "STAT5Ag4-TGTCACGGACTCTGCACCC        0\n",
       "STAT5Ag3-GACAGAGGAGAAGTTCACA        0\n",
       "STAT5Ag2-GTGGTGAATGGTTTCAGGT        0\n",
       "STAT5Ag1-CGGGACCTTCTTGTTGCGC        0\n",
       "STAT3g4-CGCACTTTAGATTCATTGA         0\n",
       "STAT3g3-ACTTTAGATTCATTGATGC         0\n",
       "STAT3g2-GGACTGGATCTGGGTCTTA         0\n",
       "STAT3g1-TGGTCTATCTCTATCCTGA         0\n",
       "STAT2g4-GATTTAAGGGCTATGATGG         0\n",
       "STAT2g3-GATTCAATCTCATGTTGCT         0\n",
       "STAT2g2-CTTCGTGTACGGTTGCACA         0\n",
       "STAT2g1-CATTACCAGTTGCTCACTG         0\n",
       "SPI1g4-TGGAGGTGTCTGACGGCGA          0\n",
       "SPI1g3-GTGCACAGCGAGTTCGAGA          0\n",
       "NFKBIAg3-GCAGTGGACCTGCAAAATC        0\n",
       "NFKBIAg2-AGCAATTTCTGGCTGGTTG        0\n",
       "NFKBIAg1-ACGTGTCTACACTTAGCCT        0\n",
       "IFNGR1g1-ACTGAATTCTCAGTACTGT        0\n",
       "ETV7g3-CGAGAAGATGTCTCGTGCC          0\n",
       "ETV7g2-TTGTCCTTGAACTCTATTC          0\n",
       "ETV7g1-CTGCTGTGGGATTACGTGT          0\n",
       "CUL3g3-TTGACTATATCCAGGTAAG          0\n",
       "CUL3g2-TGATTTGTCAAGGCAGTGC          0\n",
       "CUL3g1-ATGTTAATGATTTTAGGTC          0\n",
       "CMTM6g3-CACATAAAGTACATTGTGA         0\n",
       "CMTM6g2-ACATGACAGGACTTCAGCT         0\n",
       "CMTM6g1-CGTAGTGGGGCTGTACACC         0\n",
       "CD86g4-CAGATGAATTCTGAACTGT          0\n",
       "CD86g3-ACAAGTTTTGATTCGGACA          0\n",
       "CD86g2-GCAACTCTTATAAATGTGG          0\n",
       "CD86g1-ATTCCTTGGATTACAGCTG          0\n",
       "CAV1g4-GTCTACGTATTTGCCCCCA          0\n",
       "CAV1g3-GGTGTGCGCGTCGTACACT          0\n",
       "CAV1g2-GTCATCGTTGAGGTGTTTA          0\n",
       "CAV1g1-GTCTATTCCATCTACGTCC          0\n",
       "BRD4g4-GGCTTTGCTTTTTTTATTC          0\n",
       "BRD4g3-CCGACATCCACAGGCTTCA          0\n",
       "BRD4g2-CGCGCCGCTCGGGAGAAAG          0\n",
       "BRD4g1-TCGGGAGAAAGAGGAGCGT          0\n",
       "ATF2g4-TTTTGTCGGCATCTTGAAG          0\n",
       "ATF2g3-ACTTTCCTTTTTTGTCGGC          0\n",
       "ETV7g4-GACCATCTTTCCCGGAGTC          0\n",
       "IFNGR1g2-CTTTCTGATATCCAGTTTA        0\n",
       "MYCg3-TCGGAAGGACTATCCTGCT           0\n",
       "IFNGR1g3-TCTGATATCCAGTTTAGGT        0\n",
       "MYCg2-GTCGCAGTAGAAATACGGC           0\n",
       "MYCg1-CGTCGTTGTCTCCCCGAAG           0\n",
       "MARCH8g4-TGCATCAGATCTCTGCCAT        0\n",
       "MARCH8g3-CTTCTCTCGCACTTCTATC        0\n",
       "MARCH8g2-GTATGTGCTCATTGACCGT        0\n",
       "MARCH8g1-TCCTTTTCTTTGGTCTTAC        0\n",
       "JAK2g4-TCCAAAGCTCCAAACATCT          0\n",
       "JAK2g3-TATGACCCTCTACAGGACA          0\n",
       "JAK2g2-AGAAAACTTGCTCTCTGTC          0\n",
       "JAK2g1-CCCAGTGTTGTCCTGTAGA          0\n",
       "IRF7g4-GGCGCTGCCGTGCCCGGAA          0\n",
       "IRF7g3-GCTATACCATCTACCTGGG          0\n",
       "IRF7g2-CCAGTACACCTTGCACTTG          0\n",
       "IRF7g1-CGTGTAGCGCAGCTGCTTC          0\n",
       "IRF1g4-GTCTTGGGATCTGGCTCCT          0\n",
       "IRF1g3-CTCGATATCTGGCAGGGAG          0\n",
       "IRF1g2-TCTGCCTGATGACCACAGC          0\n",
       "IRF1g1-TGTCTATGGAGACTTTAGC          0\n",
       "IFNGR2g4-CAGTCCCTCAGCAGGCTTC        0\n",
       "IFNGR2g3-CACGGCCTTTTTTTGTTAT        0\n",
       "IFNGR2g2-GTGCTATTGCTCAGGGCCA        0\n",
       "IFNGR2g1-AATGTTTTCTGGAGGCCCG        0\n",
       "IFNGR1g4-CTGCGTGAGTATTTTATAC        0\n",
       "UBE2L6g4-CCTACCACCTGAAAGCCTT        0\n",
       "Name: guide_ID, dtype: int64"
      ]
     },
     "execution_count": 190,
     "metadata": {},
     "output_type": "execute_result"
    }
   ],
   "source": [
    "adata.obs[adata.obs['gene']=='STAT1'].guide_ID.value_counts()"
   ]
  },
  {
   "cell_type": "code",
   "execution_count": 189,
   "id": "common-score",
   "metadata": {},
   "outputs": [
    {
     "data": {
      "text/plain": [
       "NTg4-TGCGACGCTTAGCCTCCGT          646\n",
       "NTg9-ATGTCTCGCCCCGATATGG          515\n",
       "NTg7-GCCGTTAAGCGGAAACGAT          476\n",
       "NTg5-TGAACGGGCCGCGGAAGCG          419\n",
       "NTg1-ACCTCTCAATGCCGTGGTT          408\n",
       "NTg2-ATAAACACTATACCATGTA          308\n",
       "NTg10-TGTAGGAGCGGCGTTAGTA         283\n",
       "NTg3-AGGACAGCAACTTCTGCCC          279\n",
       "NTg8-TAGAGAGCGGCGCGCCTAC           59\n",
       "SMAD4g2-CAGAAGGGTCCACGTATCC         0\n",
       "POU2F2g3-ACCTTCAAGCAACGCCGCA        0\n",
       "POU2F2g4-ACGACCATTTCCCGCTTCG        0\n",
       "SMAD4g1-GTGGTCACTAAGGCACCTG         0\n",
       "ATF2g1-TTCATTTCTCAGCAGGGTG          0\n",
       "SMAD4g3-GTATCCATCAACAGTAACA         0\n",
       "POU2F2g1-GGGCAAGCTCTACGGCAAC        0\n",
       "SMAD4g4-CACCTTTACATTCCAACTG         0\n",
       "POU2F2g2-TTCTTGCGTCTCCGGCCGG        0\n",
       "PDCD1LG2g2-ACGTGAGTATTCCAGAACA      0\n",
       "PDL1g3-AGTTCTGCGCAGCTTCCCG          0\n",
       "PDL1g1-ATATAGGTCCTTGGGAACC          0\n",
       "PDCD1LG2g4-CTGCTAATGTTGAGCCTGG      0\n",
       "PDCD1LG2g3-TTTGTTGTGGTGACAGGTC      0\n",
       "ATF2g2-AAGAAGCTGTTTCAGCTGT          0\n",
       "PDCD1LG2g1-CTGGCAGAAACTTCAGCTG      0\n",
       "NFKBIAg4-CCAGGGCTATTCTCCCTAC        0\n",
       "SPI1g1-GTCATAGGGCACCAGGTCT          0\n",
       "SPI1g2-GGGGGTATCGAGGACGTGC          0\n",
       "SPI1g3-GTGCACAGCGAGTTCGAGA          0\n",
       "SPI1g4-TGGAGGTGTCTGACGGCGA          0\n",
       "UBE2L6g3-ACCAGGACATTGGCATCAT        0\n",
       "UBE2L6g2-CGGAGTATCCGTTCAAGCC        0\n",
       "UBE2L6g1-AGGTATGGGGGAGGCTTCT        0\n",
       "TNFRSF14g4-CAAGGAGGACGAGTACCCA      0\n",
       "TNFRSF14g3-CTTGCAGGACGGCAGAGCT      0\n",
       "TNFRSF14g2-GGAGGAGACAATACCCTCA      0\n",
       "TNFRSF14g1-CGTGGTGACGTCCGGAGGG      0\n",
       "STAT5Ag4-TGTCACGGACTCTGCACCC        0\n",
       "STAT5Ag3-GACAGAGGAGAAGTTCACA        0\n",
       "STAT5Ag2-GTGGTGAATGGTTTCAGGT        0\n",
       "STAT5Ag1-CGGGACCTTCTTGTTGCGC        0\n",
       "STAT3g4-CGCACTTTAGATTCATTGA         0\n",
       "STAT3g3-ACTTTAGATTCATTGATGC         0\n",
       "STAT3g2-GGACTGGATCTGGGTCTTA         0\n",
       "STAT3g1-TGGTCTATCTCTATCCTGA         0\n",
       "STAT2g4-GATTTAAGGGCTATGATGG         0\n",
       "STAT2g3-GATTCAATCTCATGTTGCT         0\n",
       "STAT2g2-CTTCGTGTACGGTTGCACA         0\n",
       "STAT2g1-CATTACCAGTTGCTCACTG         0\n",
       "STAT1g4-GTCAAACTCCTCAGGAGAC         0\n",
       "STAT1g3-CAGCATGTTGTACCAAAGG         0\n",
       "STAT1g2-CATCCTTTGGTACAACATG         0\n",
       "STAT1g1-TGGCCTGGAGTAATACTTT         0\n",
       "NFKBIAg3-GCAGTGGACCTGCAAAATC        0\n",
       "NFKBIAg2-AGCAATTTCTGGCTGGTTG        0\n",
       "NFKBIAg1-ACGTGTCTACACTTAGCCT        0\n",
       "IFNGR1g1-ACTGAATTCTCAGTACTGT        0\n",
       "ETV7g3-CGAGAAGATGTCTCGTGCC          0\n",
       "ETV7g2-TTGTCCTTGAACTCTATTC          0\n",
       "ETV7g1-CTGCTGTGGGATTACGTGT          0\n",
       "CUL3g3-TTGACTATATCCAGGTAAG          0\n",
       "CUL3g2-TGATTTGTCAAGGCAGTGC          0\n",
       "CUL3g1-ATGTTAATGATTTTAGGTC          0\n",
       "CMTM6g3-CACATAAAGTACATTGTGA         0\n",
       "CMTM6g2-ACATGACAGGACTTCAGCT         0\n",
       "CMTM6g1-CGTAGTGGGGCTGTACACC         0\n",
       "CD86g4-CAGATGAATTCTGAACTGT          0\n",
       "CD86g3-ACAAGTTTTGATTCGGACA          0\n",
       "CD86g2-GCAACTCTTATAAATGTGG          0\n",
       "CD86g1-ATTCCTTGGATTACAGCTG          0\n",
       "CAV1g4-GTCTACGTATTTGCCCCCA          0\n",
       "CAV1g3-GGTGTGCGCGTCGTACACT          0\n",
       "CAV1g2-GTCATCGTTGAGGTGTTTA          0\n",
       "CAV1g1-GTCTATTCCATCTACGTCC          0\n",
       "BRD4g4-GGCTTTGCTTTTTTTATTC          0\n",
       "BRD4g3-CCGACATCCACAGGCTTCA          0\n",
       "BRD4g2-CGCGCCGCTCGGGAGAAAG          0\n",
       "BRD4g1-TCGGGAGAAAGAGGAGCGT          0\n",
       "ATF2g4-TTTTGTCGGCATCTTGAAG          0\n",
       "ATF2g3-ACTTTCCTTTTTTGTCGGC          0\n",
       "ETV7g4-GACCATCTTTCCCGGAGTC          0\n",
       "IFNGR1g2-CTTTCTGATATCCAGTTTA        0\n",
       "MYCg3-TCGGAAGGACTATCCTGCT           0\n",
       "IFNGR1g3-TCTGATATCCAGTTTAGGT        0\n",
       "MYCg2-GTCGCAGTAGAAATACGGC           0\n",
       "MYCg1-CGTCGTTGTCTCCCCGAAG           0\n",
       "MARCH8g4-TGCATCAGATCTCTGCCAT        0\n",
       "MARCH8g3-CTTCTCTCGCACTTCTATC        0\n",
       "MARCH8g2-GTATGTGCTCATTGACCGT        0\n",
       "MARCH8g1-TCCTTTTCTTTGGTCTTAC        0\n",
       "JAK2g4-TCCAAAGCTCCAAACATCT          0\n",
       "JAK2g3-TATGACCCTCTACAGGACA          0\n",
       "JAK2g2-AGAAAACTTGCTCTCTGTC          0\n",
       "JAK2g1-CCCAGTGTTGTCCTGTAGA          0\n",
       "IRF7g4-GGCGCTGCCGTGCCCGGAA          0\n",
       "IRF7g3-GCTATACCATCTACCTGGG          0\n",
       "IRF7g2-CCAGTACACCTTGCACTTG          0\n",
       "IRF7g1-CGTGTAGCGCAGCTGCTTC          0\n",
       "IRF1g4-GTCTTGGGATCTGGCTCCT          0\n",
       "IRF1g3-CTCGATATCTGGCAGGGAG          0\n",
       "IRF1g2-TCTGCCTGATGACCACAGC          0\n",
       "IRF1g1-TGTCTATGGAGACTTTAGC          0\n",
       "IFNGR2g4-CAGTCCCTCAGCAGGCTTC        0\n",
       "IFNGR2g3-CACGGCCTTTTTTTGTTAT        0\n",
       "IFNGR2g2-GTGCTATTGCTCAGGGCCA        0\n",
       "IFNGR2g1-AATGTTTTCTGGAGGCCCG        0\n",
       "IFNGR1g4-CTGCGTGAGTATTTTATAC        0\n",
       "UBE2L6g4-CCTACCACCTGAAAGCCTT        0\n",
       "Name: guide_ID, dtype: int64"
      ]
     },
     "execution_count": 189,
     "metadata": {},
     "output_type": "execute_result"
    }
   ],
   "source": [
    "adata.obs[adata.obs['gene']=='NT'].guide_ID.value_counts()"
   ]
  },
  {
   "cell_type": "code",
   "execution_count": 187,
   "id": "sacred-effects",
   "metadata": {},
   "outputs": [
    {
     "data": {
      "text/plain": [
       "NT          233\n",
       "ATF2        133\n",
       "CD86        130\n",
       "IRF1        125\n",
       "IFNGR1      114\n",
       "TNFRSF14    112\n",
       "IFNGR2      106\n",
       "MARCH8       96\n",
       "CMTM6        95\n",
       "JAK2         91\n",
       "ETV7         85\n",
       "CAV1         78\n",
       "NFKBIA       74\n",
       "STAT5A       72\n",
       "PDCD1LG2     65\n",
       "STAT2        60\n",
       "POU2F2       59\n",
       "SMAD4        53\n",
       "IRF7         53\n",
       "STAT1        51\n",
       "STAT3        48\n",
       "UBE2L6       41\n",
       "BRD4         28\n",
       "CUL3         27\n",
       "MYC          10\n",
       "SPI1          5\n",
       "PDL1          2\n",
       "Name: gene, dtype: int64"
      ]
     },
     "execution_count": 187,
     "metadata": {},
     "output_type": "execute_result"
    }
   ],
   "source": [
    "adata.obs.query('treatment == \"ctrl\" & replicate != \"rep4\"').gene.value_counts()"
   ]
  },
  {
   "cell_type": "code",
   "execution_count": null,
   "id": "presidential-craps",
   "metadata": {},
   "outputs": [],
   "source": []
  }
 ],
 "metadata": {
  "kernelspec": {
   "display_name": "Python 3",
   "language": "python",
   "name": "python3"
  },
  "language_info": {
   "codemirror_mode": {
    "name": "ipython",
    "version": 3
   },
   "file_extension": ".py",
   "mimetype": "text/x-python",
   "name": "python",
   "nbconvert_exporter": "python",
   "pygments_lexer": "ipython3",
   "version": "3.8.8"
  }
 },
 "nbformat": 4,
 "nbformat_minor": 5
}
