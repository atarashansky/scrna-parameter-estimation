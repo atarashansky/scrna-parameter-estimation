{
 "cells": [
  {
   "cell_type": "markdown",
   "id": "modular-nepal",
   "metadata": {},
   "source": [
    "# ECCITE 1D Analysis"
   ]
  },
  {
   "cell_type": "code",
   "execution_count": 11,
   "id": "marked-speech",
   "metadata": {},
   "outputs": [],
   "source": [
    "import scanpy as sc\n",
    "import seaborn as sns\n",
    "import pandas as pd\n",
    "import matplotlib.pyplot as plt\n",
    "import numpy as np\n",
    "import scipy.stats as stats\n",
    "import itertools\n",
    "from pybedtools import BedTool\n",
    "import statsmodels.formula.api as smf\n",
    "import statsmodels.api as sm\n",
    "\n",
    "import os\n",
    "import pickle as pkl\n",
    "%matplotlib inline"
   ]
  },
  {
   "cell_type": "code",
   "execution_count": 12,
   "id": "deluxe-violence",
   "metadata": {},
   "outputs": [],
   "source": [
    "pd.set_option('max_columns', None)\n",
    "pd.set_option('display.max_rows', 500)"
   ]
  },
  {
   "cell_type": "code",
   "execution_count": 13,
   "id": "decreased-aquatic",
   "metadata": {},
   "outputs": [],
   "source": [
    "import sys\n",
    "sys.path.append('/home/ssm-user/Github/scrna-parameter-estimation/dist/memento-0.0.6-py3.8.egg')\n",
    "sys.path.append('/home/ssm-user/Github/misc-seq/miscseq/')\n",
    "import encode\n",
    "import memento"
   ]
  },
  {
   "cell_type": "code",
   "execution_count": 14,
   "id": "signal-demonstration",
   "metadata": {},
   "outputs": [],
   "source": [
    "import matplotlib.pylab as pylab\n",
    "params = {'legend.fontsize': 'medium',\n",
    "         'axes.labelsize': 'medium',\n",
    "         'axes.titlesize':'medium',\n",
    "         'figure.titlesize':'medium',\n",
    "         'xtick.labelsize':'medium',\n",
    "         'ytick.labelsize':'medium',\n",
    "         'axes.labelsize': 'large'}\n",
    "pylab.rcParams.update(params)"
   ]
  },
  {
   "cell_type": "code",
   "execution_count": 15,
   "id": "australian-specification",
   "metadata": {},
   "outputs": [],
   "source": [
    "data_path = '/data_volume/memento/eccite/'"
   ]
  },
  {
   "cell_type": "markdown",
   "id": "secondary-theme",
   "metadata": {},
   "source": [
    "### Read the guide labled perturb-seq data\n",
    "\n",
    "From perturbseq paper"
   ]
  },
  {
   "cell_type": "code",
   "execution_count": 16,
   "id": "premium-heavy",
   "metadata": {},
   "outputs": [],
   "source": [
    "adata = sc.read(data_path + 'eccite.h5ad')\n",
    "adata.var.index.name=None"
   ]
  },
  {
   "cell_type": "code",
   "execution_count": 17,
   "id": "forbidden-symphony",
   "metadata": {},
   "outputs": [
    {
     "data": {
      "text/html": [
       "<div>\n",
       "<style scoped>\n",
       "    .dataframe tbody tr th:only-of-type {\n",
       "        vertical-align: middle;\n",
       "    }\n",
       "\n",
       "    .dataframe tbody tr th {\n",
       "        vertical-align: top;\n",
       "    }\n",
       "\n",
       "    .dataframe thead th {\n",
       "        text-align: right;\n",
       "    }\n",
       "</style>\n",
       "<table border=\"1\" class=\"dataframe\">\n",
       "  <thead>\n",
       "    <tr style=\"text-align: right;\">\n",
       "      <th></th>\n",
       "      <th>lane</th>\n",
       "      <th>n_genes_by_counts</th>\n",
       "      <th>total_counts</th>\n",
       "      <th>total_counts_mt</th>\n",
       "      <th>pct_counts_mt</th>\n",
       "      <th>orig.ident</th>\n",
       "      <th>nCount_HTO</th>\n",
       "      <th>nFeature_HTO</th>\n",
       "      <th>MULTI_ID</th>\n",
       "      <th>MULTI_classification</th>\n",
       "      <th>replicate</th>\n",
       "      <th>treatment</th>\n",
       "      <th>guide_ID</th>\n",
       "      <th>second_percent</th>\n",
       "      <th>gene</th>\n",
       "    </tr>\n",
       "  </thead>\n",
       "  <tbody>\n",
       "    <tr>\n",
       "      <th>GATCGATGTAACGACG-2</th>\n",
       "      <td>2</td>\n",
       "      <td>4695</td>\n",
       "      <td>20006.0</td>\n",
       "      <td>1006.0</td>\n",
       "      <td>5.028491</td>\n",
       "      <td>SeuratProject</td>\n",
       "      <td>258</td>\n",
       "      <td>8</td>\n",
       "      <td>rep4-tx-TCGATAATGCGA</td>\n",
       "      <td>rep4-tx-TCGATAATGCGA</td>\n",
       "      <td>rep4</td>\n",
       "      <td>tx</td>\n",
       "      <td>IFNGR1g2-CTTTCTGATATCCAGTTTA</td>\n",
       "      <td>0.003125</td>\n",
       "      <td>IFNGR1</td>\n",
       "    </tr>\n",
       "    <tr>\n",
       "      <th>AACTCTTCAAGTTCTG-3</th>\n",
       "      <td>3</td>\n",
       "      <td>3789</td>\n",
       "      <td>15422.0</td>\n",
       "      <td>596.0</td>\n",
       "      <td>3.864609</td>\n",
       "      <td>SeuratProject</td>\n",
       "      <td>190</td>\n",
       "      <td>6</td>\n",
       "      <td>rep4-tx-TCGATAATGCGA</td>\n",
       "      <td>rep4-tx-TCGATAATGCGA</td>\n",
       "      <td>rep4</td>\n",
       "      <td>tx</td>\n",
       "      <td>IFNGR1g2-CTTTCTGATATCCAGTTTA</td>\n",
       "      <td>0.007979</td>\n",
       "      <td>IFNGR1</td>\n",
       "    </tr>\n",
       "  </tbody>\n",
       "</table>\n",
       "</div>"
      ],
      "text/plain": [
       "                   lane  n_genes_by_counts  total_counts  total_counts_mt  \\\n",
       "GATCGATGTAACGACG-2    2               4695       20006.0           1006.0   \n",
       "AACTCTTCAAGTTCTG-3    3               3789       15422.0            596.0   \n",
       "\n",
       "                    pct_counts_mt     orig.ident  nCount_HTO  nFeature_HTO  \\\n",
       "GATCGATGTAACGACG-2       5.028491  SeuratProject         258             8   \n",
       "AACTCTTCAAGTTCTG-3       3.864609  SeuratProject         190             6   \n",
       "\n",
       "                                MULTI_ID  MULTI_classification replicate  \\\n",
       "GATCGATGTAACGACG-2  rep4-tx-TCGATAATGCGA  rep4-tx-TCGATAATGCGA      rep4   \n",
       "AACTCTTCAAGTTCTG-3  rep4-tx-TCGATAATGCGA  rep4-tx-TCGATAATGCGA      rep4   \n",
       "\n",
       "                   treatment                      guide_ID  second_percent  \\\n",
       "GATCGATGTAACGACG-2        tx  IFNGR1g2-CTTTCTGATATCCAGTTTA        0.003125   \n",
       "AACTCTTCAAGTTCTG-3        tx  IFNGR1g2-CTTTCTGATATCCAGTTTA        0.007979   \n",
       "\n",
       "                      gene  \n",
       "GATCGATGTAACGACG-2  IFNGR1  \n",
       "AACTCTTCAAGTTCTG-3  IFNGR1  "
      ]
     },
     "execution_count": 17,
     "metadata": {},
     "output_type": "execute_result"
    }
   ],
   "source": [
    "adata.obs.head(2)"
   ]
  },
  {
   "cell_type": "code",
   "execution_count": 18,
   "id": "cooked-carry",
   "metadata": {},
   "outputs": [
    {
     "data": {
      "text/plain": [
       "tx      25460\n",
       "ctrl     2886\n",
       "Name: treatment, dtype: int64"
      ]
     },
     "execution_count": 18,
     "metadata": {},
     "output_type": "execute_result"
    }
   ],
   "source": [
    "adata.obs['treatment'].value_counts()"
   ]
  },
  {
   "cell_type": "markdown",
   "id": "capital-competition",
   "metadata": {},
   "source": [
    "### Read pre-defined ISGs"
   ]
  },
  {
   "cell_type": "code",
   "execution_count": 19,
   "id": "corresponding-honolulu",
   "metadata": {},
   "outputs": [],
   "source": [
    "isg_classes = pd.read_csv('isg_classes.csv')"
   ]
  },
  {
   "cell_type": "code",
   "execution_count": 20,
   "id": "capital-andrews",
   "metadata": {},
   "outputs": [],
   "source": [
    "t1_isg = isg_classes.query('overall_type ==\"type1\"').gene.tolist()\n",
    "t2_isg = isg_classes.query('overall_type ==\"type2\"').gene.tolist()\n",
    "shared_isg = isg_classes.query('overall_type == \"shared\"').gene.tolist()\n",
    "all_isg = isg_classes[isg_classes.sum(axis=1) > 0].gene.tolist()"
   ]
  },
  {
   "cell_type": "markdown",
   "id": "active-subscriber",
   "metadata": {},
   "source": [
    "### Setup memento"
   ]
  },
  {
   "cell_type": "code",
   "execution_count": 21,
   "id": "moral-collection",
   "metadata": {},
   "outputs": [],
   "source": [
    "adata.obs['q'] = 0.15"
   ]
  },
  {
   "cell_type": "code",
   "execution_count": 22,
   "id": "piano-poison",
   "metadata": {},
   "outputs": [
    {
     "name": "stdout",
     "output_type": "stream",
     "text": [
      "Version 0.0.6\n"
     ]
    },
    {
     "name": "stderr",
     "output_type": "stream",
     "text": [
      "/home/ssm-user/Github/scrna-parameter-estimation/dist/memento-0.0.6-py3.8.egg/memento/main.py:70: RankWarning: Polyfit may be poorly conditioned\n",
      "  all_res_var = estimator._residual_variance(all_m, all_v, estimator._fit_mv_regressor(all_m, all_v))\n"
     ]
    }
   ],
   "source": [
    "memento.setup_memento(adata, q_column='q', filter_mean_thresh=0.07 ,trim_percent=0.05)"
   ]
  },
  {
   "cell_type": "code",
   "execution_count": 23,
   "id": "impressed-computer",
   "metadata": {},
   "outputs": [],
   "source": [
    "ko_genes = adata.obs.gene.drop_duplicates().tolist()"
   ]
  },
  {
   "cell_type": "markdown",
   "id": "economic-sculpture",
   "metadata": {},
   "source": [
    "### Memento - WT vs KO"
   ]
  },
  {
   "cell_type": "code",
   "execution_count": null,
   "id": "false-aquarium",
   "metadata": {},
   "outputs": [],
   "source": [
    "for treatment in ['ctrl', 'tx']:\n",
    "    for g in ko_genes:\n",
    "\n",
    "        if g == 'NT':\n",
    "            continue\n",
    "\n",
    "        subset = adata[adata.obs['gene'].isin(['NT', g]) & (adata.obs['treatment']==treatment)].copy().copy()\n",
    "\n",
    "        subset.obs['is_ko'] = subset.obs.guide_ID.str.contains(g).values\n",
    "        \n",
    "        memento.create_groups(subset, label_columns=['is_ko', 'replicate'])\n",
    "\n",
    "        memento.compute_1d_moments(subset, min_perc_group=.7)\n",
    "\n",
    "        memento.ht_1d_moments(\n",
    "            subset, \n",
    "            formula_like='1 + is_ko + replicate',\n",
    "            treatment_col='is_ko', \n",
    "            num_boot=10000, \n",
    "            verbose=1,\n",
    "            resampling='permutation',\n",
    "            approx=False,\n",
    "            num_cpus=94)\n",
    "\n",
    "        subset.write(data_path + '1d/{}_{}.h5ad'.format(g, treatment)) \n"
   ]
  },
  {
   "cell_type": "code",
   "execution_count": null,
   "id": "computational-academy",
   "metadata": {},
   "outputs": [],
   "source": [
    "for treatment in ['ctrl', 'tx']:\n",
    "    for g in ko_genes:\n",
    "\n",
    "        if g == 'NT':\n",
    "            continue\n",
    "\n",
    "        subset = adata[adata.obs['gene'].isin(['NT', g]) & (adata.obs['treatment']==treatment)].copy().copy()\n",
    "\n",
    "        subset.obs['is_ko'] = subset.obs.guide_ID.str.contains(g).values\n",
    "        \n",
    "        memento.create_groups(subset, label_columns=['is_ko', 'replicate', 'guide_ID'])\n",
    "\n",
    "        memento.compute_1d_moments(subset, min_perc_group=.7)\n",
    "\n",
    "        memento.ht_1d_moments(\n",
    "            subset, \n",
    "            formula_like='1 + is_ko + replicate',\n",
    "            treatment_col='is_ko', \n",
    "            num_boot=10000, \n",
    "            verbose=1,\n",
    "            resampling='bootstrap',\n",
    "            approx=False,\n",
    "            num_cpus=94)\n",
    "\n",
    "        subset.write(data_path + '1d/{}_{}_guide_rep.h5ad'.format(g, treatment)) \n"
   ]
  },
  {
   "cell_type": "markdown",
   "id": "isolated-details",
   "metadata": {},
   "source": [
    "### Memento - ctrl vs stim"
   ]
  },
  {
   "cell_type": "code",
   "execution_count": 24,
   "id": "colonial-legislation",
   "metadata": {},
   "outputs": [
    {
     "name": "stderr",
     "output_type": "stream",
     "text": [
      "/home/ssm-user/anaconda3/envs/single_cell/lib/python3.8/site-packages/pandas/core/arrays/categorical.py:2487: FutureWarning: The `inplace` parameter in pandas.Categorical.remove_unused_categories is deprecated and will be removed in a future version.\n",
      "  res = method(*args, **kwargs)\n",
      "[Parallel(n_jobs=94)]: Using backend LokyBackend with 94 concurrent workers.\n",
      "[Parallel(n_jobs=94)]: Done  12 tasks      | elapsed:    4.4s\n",
      "[Parallel(n_jobs=94)]: Done 262 tasks      | elapsed:    7.2s\n",
      "[Parallel(n_jobs=94)]: Done 612 tasks      | elapsed:   11.4s\n",
      "[Parallel(n_jobs=94)]: Done 1062 tasks      | elapsed:   16.6s\n",
      "[Parallel(n_jobs=94)]: Done 1612 tasks      | elapsed:   22.2s\n",
      "[Parallel(n_jobs=94)]: Done 2262 tasks      | elapsed:   28.7s\n",
      "[Parallel(n_jobs=94)]: Done 3012 tasks      | elapsed:   36.9s\n",
      "[Parallel(n_jobs=94)]: Done 3862 tasks      | elapsed:   45.9s\n",
      "[Parallel(n_jobs=94)]: Done 4812 tasks      | elapsed:   55.5s\n",
      "[Parallel(n_jobs=94)]: Done 5862 tasks      | elapsed:  1.1min\n",
      "[Parallel(n_jobs=94)]: Done 7012 tasks      | elapsed:  1.3min\n",
      "[Parallel(n_jobs=94)]: Done 8262 tasks      | elapsed:  1.5min\n",
      "[Parallel(n_jobs=94)]: Done 8685 out of 8685 | elapsed:  1.6min finished\n"
     ]
    }
   ],
   "source": [
    "subset = adata[adata.obs['gene'].isin(['NT'])].copy().copy()\n",
    "\n",
    "subset.obs['is_stim'] = (subset.obs['treatment'] == 'tx').astype(int)\n",
    "\n",
    "memento.create_groups(subset, label_columns=['is_stim', 'replicate'])\n",
    "\n",
    "memento.compute_1d_moments(subset, min_perc_group=.7)\n",
    "\n",
    "memento.ht_1d_moments(\n",
    "    subset, \n",
    "    formula_like='1 + is_stim + replicate',\n",
    "    treatment_col='is_stim', \n",
    "    num_boot=10000, \n",
    "    verbose=1,\n",
    "    resampling='permutation',\n",
    "    approx=False,\n",
    "    num_cpus=94)\n",
    "\n"
   ]
  },
  {
   "cell_type": "code",
   "execution_count": 25,
   "id": "diagnostic-balloon",
   "metadata": {},
   "outputs": [],
   "source": [
    "stim_ht_df = memento.get_1d_ht_result(subset)\n",
    "stim_ht_df['de_fdr'] = memento.util._fdrcorrect(stim_ht_df['de_pval'])"
   ]
  },
  {
   "cell_type": "code",
   "execution_count": 26,
   "id": "sonic-newfoundland",
   "metadata": {},
   "outputs": [],
   "source": [
    "thp1_isgs = stim_ht_df.query('de_fdr < 0.05 & de_coef > 1').gene.tolist()"
   ]
  },
  {
   "cell_type": "markdown",
   "id": "thousand-silicon",
   "metadata": {},
   "source": [
    "### Analyze 1D - ctrl"
   ]
  },
  {
   "cell_type": "code",
   "execution_count": 9,
   "id": "pregnant-aspect",
   "metadata": {},
   "outputs": [
    {
     "name": "stderr",
     "output_type": "stream",
     "text": [
      "/home/ssm-user/Github/scrna-parameter-estimation/dist/memento-0.0.6-py3.8.egg/memento/main.py:523: RuntimeWarning: divide by zero encountered in log\n",
      "/home/ssm-user/Github/scrna-parameter-estimation/dist/memento-0.0.6-py3.8.egg/memento/main.py:550: RuntimeWarning: divide by zero encountered in log\n"
     ]
    }
   ],
   "source": [
    "results = {}\n",
    "moments = {}\n",
    "for treatment in ['ctrl', 'tx']:\n",
    "    results[treatment] = {}\n",
    "    moments[treatment] = {}\n",
    "    for g in ['STAT1']:#ko_genes:\n",
    "    #     print(g)\n",
    "        if g == 'NT': continue\n",
    "        subset = sc.read(data_path +'1d/{}_{}.h5ad'.format(g, treatment))\n",
    "        df = memento.get_1d_ht_result(subset)\n",
    "        df['de_fdr'] = memento.util._fdrcorrect(df['de_pval'])\n",
    "        df['dv_fdr'] = memento.util._fdrcorrect(df['dv_pval'])\n",
    "        moment_df = memento.get_1d_moments(subset, groupby='is_ko')\n",
    "        results[treatment][g] = df.copy()\n",
    "        moments[treatment][g] = (moment_df[0].copy(), moment_df[1].copy())"
   ]
  },
  {
   "cell_type": "code",
   "execution_count": 28,
   "id": "violent-impression",
   "metadata": {},
   "outputs": [],
   "source": [
    "moment_df = moments['ctrl'][g]"
   ]
  },
  {
   "cell_type": "code",
   "execution_count": 35,
   "id": "accompanied-skill",
   "metadata": {},
   "outputs": [],
   "source": [
    "moment_df = moments['ctrl']['STAT1']\n",
    "ctrl_df = pd.melt(moment_df[1][moment_df[1]['gene'].isin(set(thp1_isgs) & set(t1_isg))], id_vars=['gene'])\n",
    "ctrl_df['stim'] = 'CTRL'\n",
    "moment_df = moments['tx']['STAT1']\n",
    "stim_df = pd.melt(moment_df[1][moment_df[1]['gene'].isin(set(thp1_isgs) & set(t1_isg))], id_vars=['gene'])\n",
    "stim_df['stim'] = 'IFNG'"
   ]
  },
  {
   "cell_type": "code",
   "execution_count": 36,
   "id": "experienced-spring",
   "metadata": {},
   "outputs": [],
   "source": [
    "combined_df = pd.concat([ctrl_df, stim_df])"
   ]
  },
  {
   "cell_type": "code",
   "execution_count": 37,
   "id": "together-differential",
   "metadata": {},
   "outputs": [
    {
     "data": {
      "text/html": [
       "<div>\n",
       "<style scoped>\n",
       "    .dataframe tbody tr th:only-of-type {\n",
       "        vertical-align: middle;\n",
       "    }\n",
       "\n",
       "    .dataframe tbody tr th {\n",
       "        vertical-align: top;\n",
       "    }\n",
       "\n",
       "    .dataframe thead th {\n",
       "        text-align: right;\n",
       "    }\n",
       "</style>\n",
       "<table border=\"1\" class=\"dataframe\">\n",
       "  <thead>\n",
       "    <tr style=\"text-align: right;\">\n",
       "      <th></th>\n",
       "      <th>gene</th>\n",
       "      <th>variable</th>\n",
       "      <th>value</th>\n",
       "      <th>stim</th>\n",
       "    </tr>\n",
       "  </thead>\n",
       "  <tbody>\n",
       "    <tr>\n",
       "      <th>0</th>\n",
       "      <td>ISG15</td>\n",
       "      <td>is_ko_False</td>\n",
       "      <td>2.014224</td>\n",
       "      <td>CTRL</td>\n",
       "    </tr>\n",
       "    <tr>\n",
       "      <th>1</th>\n",
       "      <td>IFI6</td>\n",
       "      <td>is_ko_False</td>\n",
       "      <td>2.749943</td>\n",
       "      <td>CTRL</td>\n",
       "    </tr>\n",
       "    <tr>\n",
       "      <th>2</th>\n",
       "      <td>MTMR11</td>\n",
       "      <td>is_ko_False</td>\n",
       "      <td>0.879598</td>\n",
       "      <td>CTRL</td>\n",
       "    </tr>\n",
       "    <tr>\n",
       "      <th>3</th>\n",
       "      <td>IFI16</td>\n",
       "      <td>is_ko_False</td>\n",
       "      <td>1.361764</td>\n",
       "      <td>CTRL</td>\n",
       "    </tr>\n",
       "    <tr>\n",
       "      <th>4</th>\n",
       "      <td>CMPK2</td>\n",
       "      <td>is_ko_False</td>\n",
       "      <td>1.513613</td>\n",
       "      <td>CTRL</td>\n",
       "    </tr>\n",
       "  </tbody>\n",
       "</table>\n",
       "</div>"
      ],
      "text/plain": [
       "     gene     variable     value  stim\n",
       "0   ISG15  is_ko_False  2.014224  CTRL\n",
       "1    IFI6  is_ko_False  2.749943  CTRL\n",
       "2  MTMR11  is_ko_False  0.879598  CTRL\n",
       "3   IFI16  is_ko_False  1.361764  CTRL\n",
       "4   CMPK2  is_ko_False  1.513613  CTRL"
      ]
     },
     "execution_count": 37,
     "metadata": {},
     "output_type": "execute_result"
    }
   ],
   "source": [
    "combined_df.head(5)"
   ]
  },
  {
   "cell_type": "code",
   "execution_count": 38,
   "id": "outside-camcorder",
   "metadata": {},
   "outputs": [],
   "source": [
    "combined_df['KO'] = (combined_df['variable']=='is_ko_True')"
   ]
  },
  {
   "cell_type": "code",
   "execution_count": 40,
   "id": "unsigned-cattle",
   "metadata": {},
   "outputs": [
    {
     "data": {
      "image/png": "[encoded data removed]",
      "text/plain": [
       "<Figure size 216x144 with 1 Axes>"
      ]
     },
     "metadata": {
      "needs_background": "light"
     },
     "output_type": "display_data"
    }
   ],
   "source": [
    "plt.figure(figsize=(3,2))\n",
    "sns.boxplot(x='stim', y='value', hue='KO', data=combined_df)\n",
    "\n",
    "ax = sns.stripplot(x='stim', y='value', hue='KO', data=combined_df, lw=1,dodge=True, jitter=0.15, size=2)\n",
    "handles, labels = ax.get_legend_handles_labels()\n",
    "plt.ylim(-2, 4)\n",
    "l = plt.legend(handles[0:2], labels[0:2], bbox_to_anchor=(1.05, 1), loc=2, borderaxespad=0., title='STAT1 KO', frameon=False)\n",
    "plt.title('Variability of ISGs\\nunder stim and STAT1 KO')\n",
    "plt.ylabel('Expr variability')\n",
    "plt.savefig('ko_variability.png', bbox_inches='tight', dpi=1000)"
   ]
  },
  {
   "cell_type": "code",
   "execution_count": 27,
   "id": "perfect-navigator",
   "metadata": {},
   "outputs": [],
   "source": [
    "# for g in ko_genes:\n",
    "#     print(g, results[g].query('de_fdr < 0.1').shape[0],results[g].query('dv_fdr < 0.1').shape[0])"
   ]
  },
  {
   "cell_type": "code",
   "execution_count": 33,
   "id": "closing-cleanup",
   "metadata": {},
   "outputs": [
    {
     "data": {
      "text/plain": [
       "0.011924324558855231"
      ]
     },
     "execution_count": 33,
     "metadata": {},
     "output_type": "execute_result"
    }
   ],
   "source": [
    "df['de_fdr'].min()"
   ]
  },
  {
   "cell_type": "code",
   "execution_count": 29,
   "id": "popular-leader",
   "metadata": {},
   "outputs": [
    {
     "data": {
      "text/plain": [
       "<matplotlib.collections.PathCollection at 0x7f73f690ec40>"
      ]
     },
     "execution_count": 29,
     "metadata": {},
     "output_type": "execute_result"
    },
    {
     "data": {
      "image/png": "[encoded data removed]",
      "text/plain": [
       "<Figure size 180x144 with 1 Axes>"
      ]
     },
     "metadata": {
      "needs_background": "light"
     },
     "output_type": "display_data"
    }
   ],
   "source": [
    "tf = 'STAT1'\n",
    "plt.figure(figsize=(2.5,2))\n",
    "plt.scatter(results[tf]['de_coef'], results[tf]['dv_coef'], s=1)\n",
    "plt.title('Effect of {} KO'.format(tf));\n",
    "plt.xlabel('Change in mean'); plt.ylabel('Change in variability')\n",
    "plt.scatter(results[tf].query('dv_fdr < 0.1 & dv_coef > 0')['de_coef'], results[tf].query('dv_fdr < 0.1 & dv_coef > 0')['dv_coef'], s=5)\n",
    "plt.scatter(results[tf].query('dv_fdr < 0.1 & dv_coef < 0')['de_coef'], results[tf].query('dv_fdr < 0.1 & dv_coef < 0')['dv_coef'], s=5)\n",
    "\n",
    "# plt.savefig('figures/variability_{}.png'.format(tf), bbox_inches='tight', dpi=800)"
   ]
  },
  {
   "cell_type": "code",
   "execution_count": null,
   "id": "renewable-validation",
   "metadata": {},
   "outputs": [],
   "source": [
    "plt.figure(figsize=(2.5,2))\n",
    "plt.scatter(results['STAT1']['de_coef'], results['STAT1']['dv_coef'], s=0.1)\n",
    "plt.title('Effect of STAT1 KO');\n",
    "plt.xlabel('Change in mean'); plt.ylabel('Change in variability')\n",
    "plt.scatter(results['STAT1'].query('dv_fdr < 0.1 & dv_coef > 0')['de_coef'], results['STAT1'].query('dv_fdr < 0.1 & dv_coef > 0')['dv_coef'], s=1)\n",
    "# plt.savefig('figures/variability.png', bbox_inches='tight', dpi=800)"
   ]
  },
  {
   "cell_type": "code",
   "execution_count": 134,
   "id": "stylish-penny",
   "metadata": {},
   "outputs": [
    {
     "data": {
      "text/html": [
       "<div>\n",
       "<style scoped>\n",
       "    .dataframe tbody tr th:only-of-type {\n",
       "        vertical-align: middle;\n",
       "    }\n",
       "\n",
       "    .dataframe tbody tr th {\n",
       "        vertical-align: top;\n",
       "    }\n",
       "\n",
       "    .dataframe thead th {\n",
       "        text-align: right;\n",
       "    }\n",
       "</style>\n",
       "<table border=\"1\" class=\"dataframe\">\n",
       "  <thead>\n",
       "    <tr style=\"text-align: right;\">\n",
       "      <th></th>\n",
       "      <th>gene</th>\n",
       "      <th>de_coef</th>\n",
       "      <th>de_se</th>\n",
       "      <th>de_pval</th>\n",
       "      <th>dv_coef</th>\n",
       "      <th>dv_se</th>\n",
       "      <th>dv_pval</th>\n",
       "      <th>de_fdr</th>\n",
       "      <th>dv_fdr</th>\n",
       "    </tr>\n",
       "  </thead>\n",
       "  <tbody>\n",
       "    <tr>\n",
       "      <th>3183</th>\n",
       "      <td>IFNGR1</td>\n",
       "      <td>-0.150763</td>\n",
       "      <td>0.045791</td>\n",
       "      <td>0.001701</td>\n",
       "      <td>0.199772</td>\n",
       "      <td>0.201333</td>\n",
       "      <td>0.314369</td>\n",
       "      <td>0.006115</td>\n",
       "      <td>0.849193</td>\n",
       "    </tr>\n",
       "  </tbody>\n",
       "</table>\n",
       "</div>"
      ],
      "text/plain": [
       "        gene   de_coef     de_se   de_pval   dv_coef     dv_se   dv_pval  \\\n",
       "3183  IFNGR1 -0.150763  0.045791  0.001701  0.199772  0.201333  0.314369   \n",
       "\n",
       "        de_fdr    dv_fdr  \n",
       "3183  0.006115  0.849193  "
      ]
     },
     "execution_count": 134,
     "metadata": {},
     "output_type": "execute_result"
    }
   ],
   "source": [
    "results['IFNGR1'].query('gene == \"IFNGR1\"')"
   ]
  },
  {
   "cell_type": "markdown",
   "id": "floral-conference",
   "metadata": {},
   "source": [
    "### Run coexpression"
   ]
  },
  {
   "cell_type": "code",
   "execution_count": 28,
   "id": "periodic-setting",
   "metadata": {},
   "outputs": [],
   "source": [
    "results = {}\n",
    "for g in ko_genes:\n",
    "#     print(g)\n",
    "    if g == 'NT': continue\n",
    "    subset = sc.read(data_path +'1d/{}_tx_guide_rep.h5ad'.format(g))\n",
    "    df = memento.get_1d_ht_result(subset)\n",
    "    df['de_fdr'] = memento.util._fdrcorrect(df['de_pval'])\n",
    "    df['dv_fdr'] = memento.util._fdrcorrect(df['dv_pval'])\n",
    "    results[g] = df.copy()"
   ]
  },
  {
   "cell_type": "code",
   "execution_count": 29,
   "id": "faced-insight",
   "metadata": {},
   "outputs": [
    {
     "name": "stdout",
     "output_type": "stream",
     "text": [
      "STAT1 STAT1\n",
      "STAT1 STAT2\n"
     ]
    },
    {
     "name": "stderr",
     "output_type": "stream",
     "text": [
      "... storing 'memento_group' as categorical\n"
     ]
    },
    {
     "name": "stdout",
     "output_type": "stream",
     "text": [
      "STAT1 JAK2\n"
     ]
    },
    {
     "name": "stderr",
     "output_type": "stream",
     "text": [
      "/home/ssm-user/anaconda3/envs/single_cell/lib/python3.8/site-packages/pandas/core/arrays/categorical.py:2487: FutureWarning: The `inplace` parameter in pandas.Categorical.remove_unused_categories is deprecated and will be removed in a future version.\n",
      "  res = method(*args, **kwargs)\n",
      "... storing 'memento_group' as categorical\n"
     ]
    },
    {
     "name": "stdout",
     "output_type": "stream",
     "text": [
      "STAT1 IFNGR1\n"
     ]
    },
    {
     "name": "stderr",
     "output_type": "stream",
     "text": [
      "/home/ssm-user/anaconda3/envs/single_cell/lib/python3.8/site-packages/pandas/core/arrays/categorical.py:2487: FutureWarning: The `inplace` parameter in pandas.Categorical.remove_unused_categories is deprecated and will be removed in a future version.\n",
      "  res = method(*args, **kwargs)\n",
      "... storing 'memento_group' as categorical\n"
     ]
    },
    {
     "name": "stdout",
     "output_type": "stream",
     "text": [
      "STAT1 IFNGR2\n"
     ]
    },
    {
     "name": "stderr",
     "output_type": "stream",
     "text": [
      "/home/ssm-user/anaconda3/envs/single_cell/lib/python3.8/site-packages/pandas/core/arrays/categorical.py:2487: FutureWarning: The `inplace` parameter in pandas.Categorical.remove_unused_categories is deprecated and will be removed in a future version.\n",
      "  res = method(*args, **kwargs)\n",
      "... storing 'memento_group' as categorical\n"
     ]
    },
    {
     "name": "stdout",
     "output_type": "stream",
     "text": [
      "STAT1 IRF1\n"
     ]
    },
    {
     "name": "stderr",
     "output_type": "stream",
     "text": [
      "/home/ssm-user/anaconda3/envs/single_cell/lib/python3.8/site-packages/pandas/core/arrays/categorical.py:2487: FutureWarning: The `inplace` parameter in pandas.Categorical.remove_unused_categories is deprecated and will be removed in a future version.\n",
      "  res = method(*args, **kwargs)\n",
      "... storing 'memento_group' as categorical\n"
     ]
    },
    {
     "name": "stdout",
     "output_type": "stream",
     "text": [
      "STAT2 STAT1\n"
     ]
    },
    {
     "name": "stderr",
     "output_type": "stream",
     "text": [
      "/home/ssm-user/anaconda3/envs/single_cell/lib/python3.8/site-packages/pandas/core/arrays/categorical.py:2487: FutureWarning: The `inplace` parameter in pandas.Categorical.remove_unused_categories is deprecated and will be removed in a future version.\n",
      "  res = method(*args, **kwargs)\n",
      "... storing 'memento_group' as categorical\n"
     ]
    },
    {
     "name": "stdout",
     "output_type": "stream",
     "text": [
      "STAT2 STAT2\n",
      "STAT2 JAK2\n"
     ]
    },
    {
     "name": "stderr",
     "output_type": "stream",
     "text": [
      "/home/ssm-user/anaconda3/envs/single_cell/lib/python3.8/site-packages/pandas/core/arrays/categorical.py:2487: FutureWarning: The `inplace` parameter in pandas.Categorical.remove_unused_categories is deprecated and will be removed in a future version.\n",
      "  res = method(*args, **kwargs)\n",
      "... storing 'memento_group' as categorical\n"
     ]
    },
    {
     "name": "stdout",
     "output_type": "stream",
     "text": [
      "STAT2 IFNGR1\n"
     ]
    },
    {
     "name": "stderr",
     "output_type": "stream",
     "text": [
      "/home/ssm-user/anaconda3/envs/single_cell/lib/python3.8/site-packages/pandas/core/arrays/categorical.py:2487: FutureWarning: The `inplace` parameter in pandas.Categorical.remove_unused_categories is deprecated and will be removed in a future version.\n",
      "  res = method(*args, **kwargs)\n",
      "... storing 'memento_group' as categorical\n"
     ]
    },
    {
     "name": "stdout",
     "output_type": "stream",
     "text": [
      "STAT2 IFNGR2\n"
     ]
    },
    {
     "name": "stderr",
     "output_type": "stream",
     "text": [
      "/home/ssm-user/anaconda3/envs/single_cell/lib/python3.8/site-packages/pandas/core/arrays/categorical.py:2487: FutureWarning: The `inplace` parameter in pandas.Categorical.remove_unused_categories is deprecated and will be removed in a future version.\n",
      "  res = method(*args, **kwargs)\n",
      "... storing 'memento_group' as categorical\n"
     ]
    },
    {
     "name": "stdout",
     "output_type": "stream",
     "text": [
      "STAT2 IRF1\n"
     ]
    },
    {
     "name": "stderr",
     "output_type": "stream",
     "text": [
      "/home/ssm-user/anaconda3/envs/single_cell/lib/python3.8/site-packages/pandas/core/arrays/categorical.py:2487: FutureWarning: The `inplace` parameter in pandas.Categorical.remove_unused_categories is deprecated and will be removed in a future version.\n",
      "  res = method(*args, **kwargs)\n",
      "... storing 'memento_group' as categorical\n"
     ]
    },
    {
     "name": "stdout",
     "output_type": "stream",
     "text": [
      "JAK2 STAT1\n"
     ]
    },
    {
     "name": "stderr",
     "output_type": "stream",
     "text": [
      "/home/ssm-user/anaconda3/envs/single_cell/lib/python3.8/site-packages/pandas/core/arrays/categorical.py:2487: FutureWarning: The `inplace` parameter in pandas.Categorical.remove_unused_categories is deprecated and will be removed in a future version.\n",
      "  res = method(*args, **kwargs)\n",
      "... storing 'memento_group' as categorical\n"
     ]
    },
    {
     "name": "stdout",
     "output_type": "stream",
     "text": [
      "JAK2 STAT2\n"
     ]
    },
    {
     "name": "stderr",
     "output_type": "stream",
     "text": [
      "/home/ssm-user/anaconda3/envs/single_cell/lib/python3.8/site-packages/pandas/core/arrays/categorical.py:2487: FutureWarning: The `inplace` parameter in pandas.Categorical.remove_unused_categories is deprecated and will be removed in a future version.\n",
      "  res = method(*args, **kwargs)\n",
      "... storing 'memento_group' as categorical\n"
     ]
    },
    {
     "name": "stdout",
     "output_type": "stream",
     "text": [
      "JAK2 JAK2\n",
      "JAK2 IFNGR1\n"
     ]
    },
    {
     "name": "stderr",
     "output_type": "stream",
     "text": [
      "/home/ssm-user/anaconda3/envs/single_cell/lib/python3.8/site-packages/pandas/core/arrays/categorical.py:2487: FutureWarning: The `inplace` parameter in pandas.Categorical.remove_unused_categories is deprecated and will be removed in a future version.\n",
      "  res = method(*args, **kwargs)\n",
      "... storing 'memento_group' as categorical\n"
     ]
    },
    {
     "name": "stdout",
     "output_type": "stream",
     "text": [
      "JAK2 IFNGR2\n"
     ]
    },
    {
     "name": "stderr",
     "output_type": "stream",
     "text": [
      "/home/ssm-user/anaconda3/envs/single_cell/lib/python3.8/site-packages/pandas/core/arrays/categorical.py:2487: FutureWarning: The `inplace` parameter in pandas.Categorical.remove_unused_categories is deprecated and will be removed in a future version.\n",
      "  res = method(*args, **kwargs)\n",
      "... storing 'memento_group' as categorical\n"
     ]
    },
    {
     "name": "stdout",
     "output_type": "stream",
     "text": [
      "JAK2 IRF1\n"
     ]
    },
    {
     "name": "stderr",
     "output_type": "stream",
     "text": [
      "/home/ssm-user/anaconda3/envs/single_cell/lib/python3.8/site-packages/pandas/core/arrays/categorical.py:2487: FutureWarning: The `inplace` parameter in pandas.Categorical.remove_unused_categories is deprecated and will be removed in a future version.\n",
      "  res = method(*args, **kwargs)\n",
      "... storing 'memento_group' as categorical\n"
     ]
    },
    {
     "name": "stdout",
     "output_type": "stream",
     "text": [
      "IFNGR1 STAT1\n"
     ]
    },
    {
     "name": "stderr",
     "output_type": "stream",
     "text": [
      "/home/ssm-user/anaconda3/envs/single_cell/lib/python3.8/site-packages/pandas/core/arrays/categorical.py:2487: FutureWarning: The `inplace` parameter in pandas.Categorical.remove_unused_categories is deprecated and will be removed in a future version.\n",
      "  res = method(*args, **kwargs)\n",
      "... storing 'memento_group' as categorical\n"
     ]
    },
    {
     "name": "stdout",
     "output_type": "stream",
     "text": [
      "IFNGR1 STAT2\n"
     ]
    },
    {
     "name": "stderr",
     "output_type": "stream",
     "text": [
      "/home/ssm-user/anaconda3/envs/single_cell/lib/python3.8/site-packages/pandas/core/arrays/categorical.py:2487: FutureWarning: The `inplace` parameter in pandas.Categorical.remove_unused_categories is deprecated and will be removed in a future version.\n",
      "  res = method(*args, **kwargs)\n",
      "... storing 'memento_group' as categorical\n"
     ]
    },
    {
     "name": "stdout",
     "output_type": "stream",
     "text": [
      "IFNGR1 JAK2\n"
     ]
    },
    {
     "name": "stderr",
     "output_type": "stream",
     "text": [
      "/home/ssm-user/anaconda3/envs/single_cell/lib/python3.8/site-packages/pandas/core/arrays/categorical.py:2487: FutureWarning: The `inplace` parameter in pandas.Categorical.remove_unused_categories is deprecated and will be removed in a future version.\n",
      "  res = method(*args, **kwargs)\n",
      "... storing 'memento_group' as categorical\n"
     ]
    },
    {
     "name": "stdout",
     "output_type": "stream",
     "text": [
      "IFNGR1 IFNGR1\n",
      "IFNGR1 IFNGR2\n"
     ]
    },
    {
     "name": "stderr",
     "output_type": "stream",
     "text": [
      "/home/ssm-user/anaconda3/envs/single_cell/lib/python3.8/site-packages/pandas/core/arrays/categorical.py:2487: FutureWarning: The `inplace` parameter in pandas.Categorical.remove_unused_categories is deprecated and will be removed in a future version.\n",
      "  res = method(*args, **kwargs)\n",
      "... storing 'memento_group' as categorical\n"
     ]
    },
    {
     "name": "stdout",
     "output_type": "stream",
     "text": [
      "IFNGR1 IRF1\n"
     ]
    },
    {
     "name": "stderr",
     "output_type": "stream",
     "text": [
      "/home/ssm-user/anaconda3/envs/single_cell/lib/python3.8/site-packages/pandas/core/arrays/categorical.py:2487: FutureWarning: The `inplace` parameter in pandas.Categorical.remove_unused_categories is deprecated and will be removed in a future version.\n",
      "  res = method(*args, **kwargs)\n",
      "... storing 'memento_group' as categorical\n"
     ]
    },
    {
     "name": "stdout",
     "output_type": "stream",
     "text": [
      "IFNGR2 STAT1\n"
     ]
    },
    {
     "name": "stderr",
     "output_type": "stream",
     "text": [
      "/home/ssm-user/anaconda3/envs/single_cell/lib/python3.8/site-packages/pandas/core/arrays/categorical.py:2487: FutureWarning: The `inplace` parameter in pandas.Categorical.remove_unused_categories is deprecated and will be removed in a future version.\n",
      "  res = method(*args, **kwargs)\n",
      "... storing 'memento_group' as categorical\n"
     ]
    },
    {
     "name": "stdout",
     "output_type": "stream",
     "text": [
      "IFNGR2 STAT2\n"
     ]
    },
    {
     "name": "stderr",
     "output_type": "stream",
     "text": [
      "/home/ssm-user/anaconda3/envs/single_cell/lib/python3.8/site-packages/pandas/core/arrays/categorical.py:2487: FutureWarning: The `inplace` parameter in pandas.Categorical.remove_unused_categories is deprecated and will be removed in a future version.\n",
      "  res = method(*args, **kwargs)\n",
      "... storing 'memento_group' as categorical\n"
     ]
    },
    {
     "name": "stdout",
     "output_type": "stream",
     "text": [
      "IFNGR2 JAK2\n"
     ]
    },
    {
     "name": "stderr",
     "output_type": "stream",
     "text": [
      "/home/ssm-user/anaconda3/envs/single_cell/lib/python3.8/site-packages/pandas/core/arrays/categorical.py:2487: FutureWarning: The `inplace` parameter in pandas.Categorical.remove_unused_categories is deprecated and will be removed in a future version.\n",
      "  res = method(*args, **kwargs)\n",
      "... storing 'memento_group' as categorical\n"
     ]
    },
    {
     "name": "stdout",
     "output_type": "stream",
     "text": [
      "IFNGR2 IFNGR1\n"
     ]
    },
    {
     "name": "stderr",
     "output_type": "stream",
     "text": [
      "/home/ssm-user/anaconda3/envs/single_cell/lib/python3.8/site-packages/pandas/core/arrays/categorical.py:2487: FutureWarning: The `inplace` parameter in pandas.Categorical.remove_unused_categories is deprecated and will be removed in a future version.\n",
      "  res = method(*args, **kwargs)\n",
      "... storing 'memento_group' as categorical\n"
     ]
    },
    {
     "name": "stdout",
     "output_type": "stream",
     "text": [
      "IFNGR2 IFNGR2\n",
      "IFNGR2 IRF1\n"
     ]
    },
    {
     "name": "stderr",
     "output_type": "stream",
     "text": [
      "/home/ssm-user/anaconda3/envs/single_cell/lib/python3.8/site-packages/pandas/core/arrays/categorical.py:2487: FutureWarning: The `inplace` parameter in pandas.Categorical.remove_unused_categories is deprecated and will be removed in a future version.\n",
      "  res = method(*args, **kwargs)\n",
      "... storing 'memento_group' as categorical\n"
     ]
    },
    {
     "name": "stdout",
     "output_type": "stream",
     "text": [
      "IRF1 STAT1\n"
     ]
    },
    {
     "name": "stderr",
     "output_type": "stream",
     "text": [
      "/home/ssm-user/anaconda3/envs/single_cell/lib/python3.8/site-packages/pandas/core/arrays/categorical.py:2487: FutureWarning: The `inplace` parameter in pandas.Categorical.remove_unused_categories is deprecated and will be removed in a future version.\n",
      "  res = method(*args, **kwargs)\n",
      "... storing 'memento_group' as categorical\n"
     ]
    },
    {
     "name": "stdout",
     "output_type": "stream",
     "text": [
      "IRF1 STAT2\n"
     ]
    },
    {
     "name": "stderr",
     "output_type": "stream",
     "text": [
      "/home/ssm-user/anaconda3/envs/single_cell/lib/python3.8/site-packages/pandas/core/arrays/categorical.py:2487: FutureWarning: The `inplace` parameter in pandas.Categorical.remove_unused_categories is deprecated and will be removed in a future version.\n",
      "  res = method(*args, **kwargs)\n",
      "... storing 'memento_group' as categorical\n"
     ]
    },
    {
     "name": "stdout",
     "output_type": "stream",
     "text": [
      "IRF1 JAK2\n"
     ]
    },
    {
     "name": "stderr",
     "output_type": "stream",
     "text": [
      "/home/ssm-user/anaconda3/envs/single_cell/lib/python3.8/site-packages/pandas/core/arrays/categorical.py:2487: FutureWarning: The `inplace` parameter in pandas.Categorical.remove_unused_categories is deprecated and will be removed in a future version.\n",
      "  res = method(*args, **kwargs)\n",
      "... storing 'memento_group' as categorical\n"
     ]
    },
    {
     "name": "stdout",
     "output_type": "stream",
     "text": [
      "IRF1 IFNGR1\n"
     ]
    },
    {
     "name": "stderr",
     "output_type": "stream",
     "text": [
      "/home/ssm-user/anaconda3/envs/single_cell/lib/python3.8/site-packages/pandas/core/arrays/categorical.py:2487: FutureWarning: The `inplace` parameter in pandas.Categorical.remove_unused_categories is deprecated and will be removed in a future version.\n",
      "  res = method(*args, **kwargs)\n",
      "... storing 'memento_group' as categorical\n"
     ]
    },
    {
     "name": "stdout",
     "output_type": "stream",
     "text": [
      "IRF1 IFNGR2\n"
     ]
    },
    {
     "name": "stderr",
     "output_type": "stream",
     "text": [
      "/home/ssm-user/anaconda3/envs/single_cell/lib/python3.8/site-packages/pandas/core/arrays/categorical.py:2487: FutureWarning: The `inplace` parameter in pandas.Categorical.remove_unused_categories is deprecated and will be removed in a future version.\n",
      "  res = method(*args, **kwargs)\n",
      "... storing 'memento_group' as categorical\n"
     ]
    },
    {
     "name": "stdout",
     "output_type": "stream",
     "text": [
      "IRF1 IRF1\n"
     ]
    }
   ],
   "source": [
    "done_files = os.listdir(data_path + '2d/')\n",
    "for g in ['STAT1', 'STAT2', 'JAK2', 'IFNGR1', 'IFNGR2', 'IRF1']:\n",
    "    \n",
    "    for g_ko in ['STAT1', 'STAT2', 'JAK2', 'IFNGR1', 'IFNGR2', 'IRF1']:\n",
    "        print(g, g_ko)\n",
    "        \n",
    "        if g == g_ko or g == 'NT' or g_ko == 'NT': continue\n",
    "        fname = '{}_with_{}_KO_guide_rep.h5ad'.format(g, g_ko)\n",
    "        if fname in done_files: continue\n",
    "        \n",
    "        subset = adata.copy().copy()\n",
    "\n",
    "        subset = adata[adata.obs['gene'].isin(['NT', g_ko]) & (adata.obs['treatment']=='tx')].copy().copy()\n",
    "    \n",
    "        subset.obs['is_ko'] = subset.obs.guide_ID.str.contains(g_ko).values\n",
    "\n",
    "        memento.create_groups(subset, label_columns=['is_ko', 'replicate', 'guide_ID'])\n",
    "\n",
    "        memento.compute_1d_moments(subset, min_perc_group=.7)\n",
    "        \n",
    "        if g not in subset.var.index: continue\n",
    "\n",
    "        available_genes = list(\n",
    "            set(subset.var.index) & \\\n",
    "            set(results[g].query('de_coef < 0 & de_fdr < 0.05').gene.tolist()) & \\\n",
    "            set(results[g_ko].query('de_coef < 0 & de_fdr < 0.05').gene.tolist())\n",
    "            )\n",
    "        \n",
    "        if len(available_genes) < 10: continue\n",
    "        memento.compute_2d_moments(subset, list(itertools.product([g], available_genes))   )\n",
    "\n",
    "        memento.ht_2d_moments( \n",
    "            subset, \n",
    "            formula_like='1 + is_ko + replicate',\n",
    "            treatment_col='is_ko', \n",
    "            num_boot=10000, \n",
    "            verbose=0,\n",
    "            num_cpus=94,\n",
    "            resampling='bootstrap',\n",
    "            approx=False)\n",
    "        \n",
    "        subset.write(data_path + '2d/{}_with_{}_KO_guide_rep.h5ad'.format(g, g_ko))"
   ]
  },
  {
   "cell_type": "code",
   "execution_count": 31,
   "id": "upper-parker",
   "metadata": {},
   "outputs": [
    {
     "name": "stdout",
     "output_type": "stream",
     "text": [
      "IFNGR1 IFNGR1\n",
      "IFNGR1 IRF7\n"
     ]
    },
    {
     "name": "stderr",
     "output_type": "stream",
     "text": [
      "/home/ssm-user/anaconda3/envs/single_cell/lib/python3.8/site-packages/pandas/core/arrays/categorical.py:2487: FutureWarning: The `inplace` parameter in pandas.Categorical.remove_unused_categories is deprecated and will be removed in a future version.\n",
      "  res = method(*args, **kwargs)\n"
     ]
    },
    {
     "name": "stdout",
     "output_type": "stream",
     "text": [
      "IFNGR1 IFNGR2\n",
      "IFNGR1 CAV1\n",
      "IFNGR1 STAT3\n",
      "IFNGR1 CD86\n",
      "IFNGR1 NT\n",
      "IFNGR1 CMTM6\n",
      "IFNGR1 JAK2\n",
      "IFNGR1 BRD4\n"
     ]
    },
    {
     "name": "stderr",
     "output_type": "stream",
     "text": [
      "[Parallel(n_jobs=94)]: Using backend LokyBackend with 94 concurrent workers.\n",
      "[Parallel(n_jobs=94)]: Done   4 out of  47 | elapsed:    5.6s remaining:  1.0min\n",
      "[Parallel(n_jobs=94)]: Done  47 out of  47 | elapsed:    6.8s finished\n",
      "... storing 'memento_group' as categorical\n"
     ]
    },
    {
     "name": "stdout",
     "output_type": "stream",
     "text": [
      "IFNGR1 SMAD4\n"
     ]
    },
    {
     "name": "stderr",
     "output_type": "stream",
     "text": [
      "/home/ssm-user/anaconda3/envs/single_cell/lib/python3.8/site-packages/pandas/core/arrays/categorical.py:2487: FutureWarning: The `inplace` parameter in pandas.Categorical.remove_unused_categories is deprecated and will be removed in a future version.\n",
      "  res = method(*args, **kwargs)\n",
      "[Parallel(n_jobs=94)]: Using backend LokyBackend with 94 concurrent workers.\n",
      "[Parallel(n_jobs=94)]: Done  12 tasks      | elapsed:    4.6s\n",
      "[Parallel(n_jobs=94)]: Done 262 tasks      | elapsed:   19.9s\n",
      "[Parallel(n_jobs=94)]: Done 591 out of 591 | elapsed:   38.4s finished\n",
      "... storing 'memento_group' as categorical\n"
     ]
    },
    {
     "name": "stdout",
     "output_type": "stream",
     "text": [
      "IFNGR1 NFKBIA\n"
     ]
    },
    {
     "name": "stderr",
     "output_type": "stream",
     "text": [
      "/home/ssm-user/anaconda3/envs/single_cell/lib/python3.8/site-packages/pandas/core/arrays/categorical.py:2487: FutureWarning: The `inplace` parameter in pandas.Categorical.remove_unused_categories is deprecated and will be removed in a future version.\n",
      "  res = method(*args, **kwargs)\n"
     ]
    },
    {
     "name": "stdout",
     "output_type": "stream",
     "text": [
      "IFNGR1 PDCD1LG2\n",
      "IFNGR1 STAT1\n",
      "IFNGR1 MARCH8\n",
      "IFNGR1 UBE2L6\n",
      "IFNGR1 ETV7\n",
      "IFNGR1 TNFRSF14\n",
      "IFNGR1 IRF1\n",
      "IFNGR1 STAT5A\n",
      "IFNGR1 ATF2\n",
      "IFNGR1 POU2F2\n",
      "IFNGR1 STAT2\n",
      "IFNGR1 CUL3\n"
     ]
    },
    {
     "name": "stderr",
     "output_type": "stream",
     "text": [
      "[Parallel(n_jobs=94)]: Using backend LokyBackend with 94 concurrent workers.\n",
      "[Parallel(n_jobs=94)]: Done   7 out of  38 | elapsed:    2.5s remaining:   11.0s\n",
      "[Parallel(n_jobs=94)]: Done  38 out of  38 | elapsed:    3.6s finished\n",
      "... storing 'memento_group' as categorical\n"
     ]
    },
    {
     "name": "stdout",
     "output_type": "stream",
     "text": [
      "IFNGR1 MYC\n"
     ]
    },
    {
     "name": "stderr",
     "output_type": "stream",
     "text": [
      "/home/ssm-user/anaconda3/envs/single_cell/lib/python3.8/site-packages/pandas/core/arrays/categorical.py:2487: FutureWarning: The `inplace` parameter in pandas.Categorical.remove_unused_categories is deprecated and will be removed in a future version.\n",
      "  res = method(*args, **kwargs)\n",
      "[Parallel(n_jobs=94)]: Using backend LokyBackend with 94 concurrent workers.\n",
      "[Parallel(n_jobs=94)]: Done  10 out of  10 | elapsed:    2.9s remaining:    0.0s\n",
      "[Parallel(n_jobs=94)]: Done  10 out of  10 | elapsed:    2.9s finished\n",
      "... storing 'memento_group' as categorical\n"
     ]
    },
    {
     "name": "stdout",
     "output_type": "stream",
     "text": [
      "IFNGR1 SPI1\n"
     ]
    },
    {
     "name": "stderr",
     "output_type": "stream",
     "text": [
      "/home/ssm-user/anaconda3/envs/single_cell/lib/python3.8/site-packages/pandas/core/arrays/categorical.py:2487: FutureWarning: The `inplace` parameter in pandas.Categorical.remove_unused_categories is deprecated and will be removed in a future version.\n",
      "  res = method(*args, **kwargs)\n"
     ]
    },
    {
     "name": "stdout",
     "output_type": "stream",
     "text": [
      "IFNGR1 PDL1\n",
      "IRF7 IFNGR1\n",
      "IRF7 IRF7\n",
      "IRF7 IFNGR2\n",
      "IRF7 CAV1\n",
      "IRF7 STAT3\n",
      "IRF7 CD86\n",
      "IRF7 NT\n",
      "IRF7 CMTM6\n",
      "IRF7 JAK2\n",
      "IRF7 BRD4\n",
      "IRF7 SMAD4\n",
      "IRF7 NFKBIA\n",
      "IRF7 PDCD1LG2\n",
      "IRF7 STAT1\n",
      "IRF7 MARCH8\n",
      "IRF7 UBE2L6\n",
      "IRF7 ETV7\n",
      "IRF7 TNFRSF14\n",
      "IRF7 IRF1\n",
      "IRF7 STAT5A\n",
      "IRF7 ATF2\n",
      "IRF7 POU2F2\n",
      "IRF7 STAT2\n",
      "IRF7 CUL3\n",
      "IRF7 MYC\n",
      "IRF7 SPI1\n",
      "IRF7 PDL1\n",
      "IFNGR2 IFNGR1\n",
      "IFNGR2 IRF7\n",
      "IFNGR2 IFNGR2\n",
      "IFNGR2 CAV1\n",
      "IFNGR2 STAT3\n",
      "IFNGR2 CD86\n",
      "IFNGR2 NT\n",
      "IFNGR2 CMTM6\n",
      "IFNGR2 JAK2\n",
      "IFNGR2 BRD4\n"
     ]
    },
    {
     "name": "stderr",
     "output_type": "stream",
     "text": [
      "[Parallel(n_jobs=94)]: Using backend LokyBackend with 94 concurrent workers.\n",
      "[Parallel(n_jobs=94)]: Done  37 out of  44 | elapsed:    3.9s remaining:    0.7s\n",
      "[Parallel(n_jobs=94)]: Done  44 out of  44 | elapsed:    4.0s finished\n",
      "... storing 'memento_group' as categorical\n"
     ]
    },
    {
     "name": "stdout",
     "output_type": "stream",
     "text": [
      "IFNGR2 SMAD4\n"
     ]
    },
    {
     "name": "stderr",
     "output_type": "stream",
     "text": [
      "/home/ssm-user/anaconda3/envs/single_cell/lib/python3.8/site-packages/pandas/core/arrays/categorical.py:2487: FutureWarning: The `inplace` parameter in pandas.Categorical.remove_unused_categories is deprecated and will be removed in a future version.\n",
      "  res = method(*args, **kwargs)\n",
      "[Parallel(n_jobs=94)]: Using backend LokyBackend with 94 concurrent workers.\n",
      "[Parallel(n_jobs=94)]: Done  12 tasks      | elapsed:    6.8s\n",
      "[Parallel(n_jobs=94)]: Done 262 tasks      | elapsed:   24.3s\n",
      "[Parallel(n_jobs=94)]: Done 572 out of 572 | elapsed:   48.9s finished\n",
      "... storing 'memento_group' as categorical\n"
     ]
    },
    {
     "name": "stdout",
     "output_type": "stream",
     "text": [
      "IFNGR2 NFKBIA\n"
     ]
    },
    {
     "name": "stderr",
     "output_type": "stream",
     "text": [
      "/home/ssm-user/anaconda3/envs/single_cell/lib/python3.8/site-packages/pandas/core/arrays/categorical.py:2487: FutureWarning: The `inplace` parameter in pandas.Categorical.remove_unused_categories is deprecated and will be removed in a future version.\n",
      "  res = method(*args, **kwargs)\n"
     ]
    },
    {
     "name": "stdout",
     "output_type": "stream",
     "text": [
      "IFNGR2 PDCD1LG2\n",
      "IFNGR2 STAT1\n",
      "IFNGR2 MARCH8\n",
      "IFNGR2 UBE2L6\n",
      "IFNGR2 ETV7\n",
      "IFNGR2 TNFRSF14\n",
      "IFNGR2 IRF1\n",
      "IFNGR2 STAT5A\n",
      "IFNGR2 ATF2\n",
      "IFNGR2 POU2F2\n",
      "IFNGR2 STAT2\n",
      "IFNGR2 CUL3\n"
     ]
    },
    {
     "name": "stderr",
     "output_type": "stream",
     "text": [
      "[Parallel(n_jobs=94)]: Using backend LokyBackend with 94 concurrent workers.\n",
      "[Parallel(n_jobs=94)]: Done   2 out of  37 | elapsed:    2.9s remaining:   50.7s\n",
      "[Parallel(n_jobs=94)]: Done  37 out of  37 | elapsed:    5.4s finished\n",
      "... storing 'memento_group' as categorical\n"
     ]
    },
    {
     "name": "stdout",
     "output_type": "stream",
     "text": [
      "IFNGR2 MYC\n"
     ]
    },
    {
     "name": "stderr",
     "output_type": "stream",
     "text": [
      "/home/ssm-user/anaconda3/envs/single_cell/lib/python3.8/site-packages/pandas/core/arrays/categorical.py:2487: FutureWarning: The `inplace` parameter in pandas.Categorical.remove_unused_categories is deprecated and will be removed in a future version.\n",
      "  res = method(*args, **kwargs)\n",
      "[Parallel(n_jobs=94)]: Using backend LokyBackend with 94 concurrent workers.\n",
      "[Parallel(n_jobs=94)]: Done  10 out of  10 | elapsed:    3.1s remaining:    0.0s\n",
      "[Parallel(n_jobs=94)]: Done  10 out of  10 | elapsed:    3.1s finished\n",
      "... storing 'memento_group' as categorical\n"
     ]
    },
    {
     "name": "stdout",
     "output_type": "stream",
     "text": [
      "IFNGR2 SPI1\n"
     ]
    },
    {
     "name": "stderr",
     "output_type": "stream",
     "text": [
      "/home/ssm-user/anaconda3/envs/single_cell/lib/python3.8/site-packages/pandas/core/arrays/categorical.py:2487: FutureWarning: The `inplace` parameter in pandas.Categorical.remove_unused_categories is deprecated and will be removed in a future version.\n",
      "  res = method(*args, **kwargs)\n"
     ]
    },
    {
     "name": "stdout",
     "output_type": "stream",
     "text": [
      "IFNGR2 PDL1\n",
      "CAV1 IFNGR1\n",
      "CAV1 IRF7\n",
      "CAV1 IFNGR2\n",
      "CAV1 CAV1\n",
      "CAV1 STAT3\n",
      "CAV1 CD86\n",
      "CAV1 NT\n",
      "CAV1 CMTM6\n",
      "CAV1 JAK2\n",
      "CAV1 BRD4\n",
      "CAV1 SMAD4\n",
      "CAV1 NFKBIA\n",
      "CAV1 PDCD1LG2\n",
      "CAV1 STAT1\n",
      "CAV1 MARCH8\n",
      "CAV1 UBE2L6\n",
      "CAV1 ETV7\n",
      "CAV1 TNFRSF14\n",
      "CAV1 IRF1\n",
      "CAV1 STAT5A\n",
      "CAV1 ATF2\n",
      "CAV1 POU2F2\n",
      "CAV1 STAT2\n",
      "CAV1 CUL3\n",
      "CAV1 MYC\n",
      "CAV1 SPI1\n",
      "CAV1 PDL1\n",
      "STAT3 IFNGR1\n",
      "STAT3 IRF7\n",
      "STAT3 IFNGR2\n",
      "STAT3 CAV1\n",
      "STAT3 STAT3\n",
      "STAT3 CD86\n",
      "STAT3 NT\n",
      "STAT3 CMTM6\n",
      "STAT3 JAK2\n",
      "STAT3 BRD4\n",
      "STAT3 SMAD4\n",
      "STAT3 NFKBIA\n",
      "STAT3 PDCD1LG2\n",
      "STAT3 STAT1\n",
      "STAT3 MARCH8\n",
      "STAT3 UBE2L6\n",
      "STAT3 ETV7\n",
      "STAT3 TNFRSF14\n",
      "STAT3 IRF1\n",
      "STAT3 STAT5A\n",
      "STAT3 ATF2\n",
      "STAT3 POU2F2\n",
      "STAT3 STAT2\n",
      "STAT3 CUL3\n",
      "STAT3 MYC\n",
      "STAT3 SPI1\n",
      "STAT3 PDL1\n",
      "CD86 IFNGR1\n",
      "CD86 IRF7\n",
      "CD86 IFNGR2\n",
      "CD86 CAV1\n",
      "CD86 STAT3\n",
      "CD86 CD86\n",
      "CD86 NT\n",
      "CD86 CMTM6\n",
      "CD86 JAK2\n",
      "CD86 BRD4\n",
      "CD86 SMAD4\n",
      "CD86 NFKBIA\n",
      "CD86 PDCD1LG2\n",
      "CD86 STAT1\n",
      "CD86 MARCH8\n",
      "CD86 UBE2L6\n",
      "CD86 ETV7\n",
      "CD86 TNFRSF14\n",
      "CD86 IRF1\n",
      "CD86 STAT5A\n",
      "CD86 ATF2\n",
      "CD86 POU2F2\n",
      "CD86 STAT2\n",
      "CD86 CUL3\n",
      "CD86 MYC\n",
      "CD86 SPI1\n",
      "CD86 PDL1\n",
      "NT IFNGR1\n",
      "NT IRF7\n",
      "NT IFNGR2\n",
      "NT CAV1\n",
      "NT STAT3\n",
      "NT CD86\n",
      "NT NT\n",
      "NT CMTM6\n",
      "NT JAK2\n",
      "NT BRD4\n",
      "NT SMAD4\n",
      "NT NFKBIA\n",
      "NT PDCD1LG2\n",
      "NT STAT1\n",
      "NT MARCH8\n",
      "NT UBE2L6\n",
      "NT ETV7\n",
      "NT TNFRSF14\n",
      "NT IRF1\n",
      "NT STAT5A\n",
      "NT ATF2\n",
      "NT POU2F2\n",
      "NT STAT2\n",
      "NT CUL3\n",
      "NT MYC\n",
      "NT SPI1\n",
      "NT PDL1\n",
      "CMTM6 IFNGR1\n",
      "CMTM6 IRF7\n",
      "CMTM6 IFNGR2\n",
      "CMTM6 CAV1\n",
      "CMTM6 STAT3\n",
      "CMTM6 CD86\n",
      "CMTM6 NT\n",
      "CMTM6 CMTM6\n",
      "CMTM6 JAK2\n",
      "CMTM6 BRD4\n",
      "CMTM6 SMAD4\n",
      "CMTM6 NFKBIA\n",
      "CMTM6 PDCD1LG2\n",
      "CMTM6 STAT1\n",
      "CMTM6 MARCH8\n",
      "CMTM6 UBE2L6\n",
      "CMTM6 ETV7\n",
      "CMTM6 TNFRSF14\n",
      "CMTM6 IRF1\n",
      "CMTM6 STAT5A\n",
      "CMTM6 ATF2\n",
      "CMTM6 POU2F2\n",
      "CMTM6 STAT2\n",
      "CMTM6 CUL3\n",
      "CMTM6 MYC\n",
      "CMTM6 SPI1\n",
      "CMTM6 PDL1\n",
      "JAK2 IFNGR1\n",
      "JAK2 IRF7\n",
      "JAK2 IFNGR2\n",
      "JAK2 CAV1\n",
      "JAK2 STAT3\n",
      "JAK2 CD86\n",
      "JAK2 NT\n",
      "JAK2 CMTM6\n",
      "JAK2 JAK2\n",
      "JAK2 BRD4\n"
     ]
    },
    {
     "name": "stderr",
     "output_type": "stream",
     "text": [
      "[Parallel(n_jobs=94)]: Using backend LokyBackend with 94 concurrent workers.\n",
      "[Parallel(n_jobs=94)]: Done  37 out of  44 | elapsed:    6.2s remaining:    1.2s\n",
      "[Parallel(n_jobs=94)]: Done  44 out of  44 | elapsed:    6.5s finished\n",
      "... storing 'memento_group' as categorical\n"
     ]
    },
    {
     "name": "stdout",
     "output_type": "stream",
     "text": [
      "JAK2 SMAD4\n"
     ]
    },
    {
     "name": "stderr",
     "output_type": "stream",
     "text": [
      "/home/ssm-user/anaconda3/envs/single_cell/lib/python3.8/site-packages/pandas/core/arrays/categorical.py:2487: FutureWarning: The `inplace` parameter in pandas.Categorical.remove_unused_categories is deprecated and will be removed in a future version.\n",
      "  res = method(*args, **kwargs)\n",
      "[Parallel(n_jobs=94)]: Using backend LokyBackend with 94 concurrent workers.\n",
      "[Parallel(n_jobs=94)]: Done  12 tasks      | elapsed:    6.1s\n",
      "[Parallel(n_jobs=94)]: Done 262 tasks      | elapsed:   24.6s\n",
      "[Parallel(n_jobs=94)]: Done 541 out of 541 | elapsed:   43.8s finished\n",
      "... storing 'memento_group' as categorical\n"
     ]
    },
    {
     "name": "stdout",
     "output_type": "stream",
     "text": [
      "JAK2 NFKBIA\n"
     ]
    },
    {
     "name": "stderr",
     "output_type": "stream",
     "text": [
      "/home/ssm-user/anaconda3/envs/single_cell/lib/python3.8/site-packages/pandas/core/arrays/categorical.py:2487: FutureWarning: The `inplace` parameter in pandas.Categorical.remove_unused_categories is deprecated and will be removed in a future version.\n",
      "  res = method(*args, **kwargs)\n"
     ]
    },
    {
     "name": "stdout",
     "output_type": "stream",
     "text": [
      "JAK2 PDCD1LG2\n",
      "JAK2 STAT1\n",
      "JAK2 MARCH8\n",
      "JAK2 UBE2L6\n",
      "JAK2 ETV7\n",
      "JAK2 TNFRSF14\n",
      "JAK2 IRF1\n",
      "JAK2 STAT5A\n",
      "JAK2 ATF2\n",
      "JAK2 POU2F2\n",
      "JAK2 STAT2\n",
      "JAK2 CUL3\n"
     ]
    },
    {
     "name": "stderr",
     "output_type": "stream",
     "text": [
      "[Parallel(n_jobs=94)]: Using backend LokyBackend with 94 concurrent workers.\n",
      "[Parallel(n_jobs=94)]: Done  34 out of  36 | elapsed:    3.8s remaining:    0.2s\n",
      "[Parallel(n_jobs=94)]: Done  36 out of  36 | elapsed:    3.9s finished\n",
      "... storing 'memento_group' as categorical\n"
     ]
    },
    {
     "name": "stdout",
     "output_type": "stream",
     "text": [
      "JAK2 MYC\n"
     ]
    },
    {
     "name": "stderr",
     "output_type": "stream",
     "text": [
      "/home/ssm-user/anaconda3/envs/single_cell/lib/python3.8/site-packages/pandas/core/arrays/categorical.py:2487: FutureWarning: The `inplace` parameter in pandas.Categorical.remove_unused_categories is deprecated and will be removed in a future version.\n",
      "  res = method(*args, **kwargs)\n",
      "[Parallel(n_jobs=94)]: Using backend LokyBackend with 94 concurrent workers.\n",
      "[Parallel(n_jobs=94)]: Done   7 out of  12 | elapsed:    2.4s remaining:    1.7s\n",
      "[Parallel(n_jobs=94)]: Done  12 out of  12 | elapsed:    3.0s finished\n",
      "... storing 'memento_group' as categorical\n"
     ]
    },
    {
     "name": "stdout",
     "output_type": "stream",
     "text": [
      "JAK2 SPI1\n"
     ]
    },
    {
     "name": "stderr",
     "output_type": "stream",
     "text": [
      "/home/ssm-user/anaconda3/envs/single_cell/lib/python3.8/site-packages/pandas/core/arrays/categorical.py:2487: FutureWarning: The `inplace` parameter in pandas.Categorical.remove_unused_categories is deprecated and will be removed in a future version.\n",
      "  res = method(*args, **kwargs)\n"
     ]
    },
    {
     "name": "stdout",
     "output_type": "stream",
     "text": [
      "JAK2 PDL1\n",
      "BRD4 IFNGR1\n"
     ]
    },
    {
     "name": "stderr",
     "output_type": "stream",
     "text": [
      "[Parallel(n_jobs=94)]: Using backend LokyBackend with 94 concurrent workers.\n",
      "[Parallel(n_jobs=94)]: Done   8 out of  48 | elapsed:    3.5s remaining:   17.4s\n",
      "[Parallel(n_jobs=94)]: Done  48 out of  48 | elapsed:    5.8s finished\n",
      "... storing 'memento_group' as categorical\n"
     ]
    },
    {
     "name": "stdout",
     "output_type": "stream",
     "text": [
      "BRD4 IRF7\n"
     ]
    },
    {
     "name": "stderr",
     "output_type": "stream",
     "text": [
      "/home/ssm-user/anaconda3/envs/single_cell/lib/python3.8/site-packages/pandas/core/arrays/categorical.py:2487: FutureWarning: The `inplace` parameter in pandas.Categorical.remove_unused_categories is deprecated and will be removed in a future version.\n",
      "  res = method(*args, **kwargs)\n"
     ]
    },
    {
     "name": "stdout",
     "output_type": "stream",
     "text": [
      "BRD4 IFNGR2\n"
     ]
    },
    {
     "name": "stderr",
     "output_type": "stream",
     "text": [
      "[Parallel(n_jobs=94)]: Using backend LokyBackend with 94 concurrent workers.\n",
      "[Parallel(n_jobs=94)]: Done  37 out of  44 | elapsed:    4.4s remaining:    0.8s\n",
      "[Parallel(n_jobs=94)]: Done  44 out of  44 | elapsed:    5.0s finished\n",
      "... storing 'memento_group' as categorical\n"
     ]
    },
    {
     "name": "stdout",
     "output_type": "stream",
     "text": [
      "BRD4 CAV1\n"
     ]
    },
    {
     "name": "stderr",
     "output_type": "stream",
     "text": [
      "/home/ssm-user/anaconda3/envs/single_cell/lib/python3.8/site-packages/pandas/core/arrays/categorical.py:2487: FutureWarning: The `inplace` parameter in pandas.Categorical.remove_unused_categories is deprecated and will be removed in a future version.\n",
      "  res = method(*args, **kwargs)\n"
     ]
    },
    {
     "name": "stdout",
     "output_type": "stream",
     "text": [
      "BRD4 STAT3\n",
      "BRD4 CD86\n",
      "BRD4 NT\n",
      "BRD4 CMTM6\n",
      "BRD4 JAK2\n"
     ]
    },
    {
     "name": "stderr",
     "output_type": "stream",
     "text": [
      "[Parallel(n_jobs=94)]: Using backend LokyBackend with 94 concurrent workers.\n",
      "[Parallel(n_jobs=94)]: Done  37 out of  44 | elapsed:    4.0s remaining:    0.7s\n",
      "[Parallel(n_jobs=94)]: Done  44 out of  44 | elapsed:    4.4s finished\n",
      "... storing 'memento_group' as categorical\n"
     ]
    },
    {
     "name": "stdout",
     "output_type": "stream",
     "text": [
      "BRD4 BRD4\n",
      "BRD4 SMAD4\n"
     ]
    },
    {
     "name": "stderr",
     "output_type": "stream",
     "text": [
      "/home/ssm-user/anaconda3/envs/single_cell/lib/python3.8/site-packages/pandas/core/arrays/categorical.py:2487: FutureWarning: The `inplace` parameter in pandas.Categorical.remove_unused_categories is deprecated and will be removed in a future version.\n",
      "  res = method(*args, **kwargs)\n",
      "[Parallel(n_jobs=94)]: Using backend LokyBackend with 94 concurrent workers.\n",
      "[Parallel(n_jobs=94)]: Done  19 out of  68 | elapsed:    3.9s remaining:   10.0s\n",
      "[Parallel(n_jobs=94)]: Done  68 out of  68 | elapsed:    5.7s finished\n",
      "... storing 'memento_group' as categorical\n"
     ]
    },
    {
     "name": "stdout",
     "output_type": "stream",
     "text": [
      "BRD4 NFKBIA\n"
     ]
    },
    {
     "name": "stderr",
     "output_type": "stream",
     "text": [
      "/home/ssm-user/anaconda3/envs/single_cell/lib/python3.8/site-packages/pandas/core/arrays/categorical.py:2487: FutureWarning: The `inplace` parameter in pandas.Categorical.remove_unused_categories is deprecated and will be removed in a future version.\n",
      "  res = method(*args, **kwargs)\n"
     ]
    },
    {
     "name": "stdout",
     "output_type": "stream",
     "text": [
      "BRD4 PDCD1LG2\n",
      "BRD4 STAT1\n"
     ]
    },
    {
     "name": "stderr",
     "output_type": "stream",
     "text": [
      "[Parallel(n_jobs=94)]: Using backend LokyBackend with 94 concurrent workers.\n",
      "[Parallel(n_jobs=94)]: Done  12 out of  24 | elapsed:    2.6s remaining:    2.6s\n",
      "[Parallel(n_jobs=94)]: Done  24 out of  24 | elapsed:    3.1s finished\n",
      "... storing 'memento_group' as categorical\n"
     ]
    },
    {
     "name": "stdout",
     "output_type": "stream",
     "text": [
      "BRD4 MARCH8\n"
     ]
    },
    {
     "name": "stderr",
     "output_type": "stream",
     "text": [
      "/home/ssm-user/anaconda3/envs/single_cell/lib/python3.8/site-packages/pandas/core/arrays/categorical.py:2487: FutureWarning: The `inplace` parameter in pandas.Categorical.remove_unused_categories is deprecated and will be removed in a future version.\n",
      "  res = method(*args, **kwargs)\n"
     ]
    },
    {
     "name": "stdout",
     "output_type": "stream",
     "text": [
      "BRD4 UBE2L6\n",
      "BRD4 ETV7\n",
      "BRD4 TNFRSF14\n",
      "BRD4 IRF1\n",
      "BRD4 STAT5A\n",
      "BRD4 ATF2\n",
      "BRD4 POU2F2\n",
      "BRD4 STAT2\n",
      "BRD4 CUL3\n",
      "BRD4 MYC\n",
      "BRD4 SPI1\n",
      "BRD4 PDL1\n",
      "SMAD4 IFNGR1\n"
     ]
    },
    {
     "name": "stderr",
     "output_type": "stream",
     "text": [
      "[Parallel(n_jobs=94)]: Using backend LokyBackend with 94 concurrent workers.\n",
      "[Parallel(n_jobs=94)]: Done  12 tasks      | elapsed:    4.2s\n",
      "[Parallel(n_jobs=94)]: Done 262 tasks      | elapsed:   19.2s\n",
      "[Parallel(n_jobs=94)]: Done 592 out of 592 | elapsed:   38.3s finished\n",
      "... storing 'memento_group' as categorical\n"
     ]
    },
    {
     "name": "stdout",
     "output_type": "stream",
     "text": [
      "SMAD4 IRF7\n"
     ]
    },
    {
     "name": "stderr",
     "output_type": "stream",
     "text": [
      "/home/ssm-user/anaconda3/envs/single_cell/lib/python3.8/site-packages/pandas/core/arrays/categorical.py:2487: FutureWarning: The `inplace` parameter in pandas.Categorical.remove_unused_categories is deprecated and will be removed in a future version.\n",
      "  res = method(*args, **kwargs)\n"
     ]
    },
    {
     "name": "stdout",
     "output_type": "stream",
     "text": [
      "SMAD4 IFNGR2\n"
     ]
    },
    {
     "name": "stderr",
     "output_type": "stream",
     "text": [
      "[Parallel(n_jobs=94)]: Using backend LokyBackend with 94 concurrent workers.\n",
      "[Parallel(n_jobs=94)]: Done  12 tasks      | elapsed:    3.9s\n",
      "[Parallel(n_jobs=94)]: Done 262 tasks      | elapsed:   17.6s\n",
      "[Parallel(n_jobs=94)]: Done 572 out of 572 | elapsed:   33.8s finished\n",
      "... storing 'memento_group' as categorical\n"
     ]
    },
    {
     "name": "stdout",
     "output_type": "stream",
     "text": [
      "SMAD4 CAV1\n"
     ]
    },
    {
     "name": "stderr",
     "output_type": "stream",
     "text": [
      "/home/ssm-user/anaconda3/envs/single_cell/lib/python3.8/site-packages/pandas/core/arrays/categorical.py:2487: FutureWarning: The `inplace` parameter in pandas.Categorical.remove_unused_categories is deprecated and will be removed in a future version.\n",
      "  res = method(*args, **kwargs)\n"
     ]
    },
    {
     "name": "stdout",
     "output_type": "stream",
     "text": [
      "SMAD4 STAT3\n",
      "SMAD4 CD86\n",
      "SMAD4 NT\n",
      "SMAD4 CMTM6\n",
      "SMAD4 JAK2\n"
     ]
    },
    {
     "name": "stderr",
     "output_type": "stream",
     "text": [
      "[Parallel(n_jobs=94)]: Using backend LokyBackend with 94 concurrent workers.\n",
      "[Parallel(n_jobs=94)]: Done  12 tasks      | elapsed:    3.6s\n",
      "[Parallel(n_jobs=94)]: Done 262 tasks      | elapsed:   16.0s\n",
      "[Parallel(n_jobs=94)]: Done 541 out of 541 | elapsed:   29.3s finished\n",
      "... storing 'memento_group' as categorical\n"
     ]
    },
    {
     "name": "stdout",
     "output_type": "stream",
     "text": [
      "SMAD4 BRD4\n"
     ]
    },
    {
     "name": "stderr",
     "output_type": "stream",
     "text": [
      "/home/ssm-user/anaconda3/envs/single_cell/lib/python3.8/site-packages/pandas/core/arrays/categorical.py:2487: FutureWarning: The `inplace` parameter in pandas.Categorical.remove_unused_categories is deprecated and will be removed in a future version.\n",
      "  res = method(*args, **kwargs)\n",
      "[Parallel(n_jobs=94)]: Using backend LokyBackend with 94 concurrent workers.\n",
      "[Parallel(n_jobs=94)]: Done  19 out of  68 | elapsed:    2.6s remaining:    6.8s\n",
      "[Parallel(n_jobs=94)]: Done  68 out of  68 | elapsed:    4.1s finished\n",
      "... storing 'memento_group' as categorical\n"
     ]
    },
    {
     "name": "stdout",
     "output_type": "stream",
     "text": [
      "SMAD4 SMAD4\n",
      "SMAD4 NFKBIA\n"
     ]
    },
    {
     "name": "stderr",
     "output_type": "stream",
     "text": [
      "/home/ssm-user/anaconda3/envs/single_cell/lib/python3.8/site-packages/pandas/core/arrays/categorical.py:2487: FutureWarning: The `inplace` parameter in pandas.Categorical.remove_unused_categories is deprecated and will be removed in a future version.\n",
      "  res = method(*args, **kwargs)\n"
     ]
    },
    {
     "name": "stdout",
     "output_type": "stream",
     "text": [
      "SMAD4 PDCD1LG2\n",
      "SMAD4 STAT1\n",
      "SMAD4 MARCH8\n",
      "SMAD4 UBE2L6\n",
      "SMAD4 ETV7\n",
      "SMAD4 TNFRSF14\n",
      "SMAD4 IRF1\n"
     ]
    },
    {
     "name": "stderr",
     "output_type": "stream",
     "text": [
      "[Parallel(n_jobs=94)]: Using backend LokyBackend with 94 concurrent workers.\n",
      "[Parallel(n_jobs=94)]: Done  90 out of 138 | elapsed:    7.0s remaining:    3.7s\n",
      "[Parallel(n_jobs=94)]: Done 138 out of 138 | elapsed:    9.6s finished\n",
      "... storing 'memento_group' as categorical\n"
     ]
    },
    {
     "name": "stdout",
     "output_type": "stream",
     "text": [
      "SMAD4 STAT5A\n"
     ]
    },
    {
     "name": "stderr",
     "output_type": "stream",
     "text": [
      "/home/ssm-user/anaconda3/envs/single_cell/lib/python3.8/site-packages/pandas/core/arrays/categorical.py:2487: FutureWarning: The `inplace` parameter in pandas.Categorical.remove_unused_categories is deprecated and will be removed in a future version.\n",
      "  res = method(*args, **kwargs)\n"
     ]
    },
    {
     "name": "stdout",
     "output_type": "stream",
     "text": [
      "SMAD4 ATF2\n",
      "SMAD4 POU2F2\n",
      "SMAD4 STAT2\n",
      "SMAD4 CUL3\n",
      "SMAD4 MYC\n",
      "SMAD4 SPI1\n",
      "SMAD4 PDL1\n",
      "NFKBIA IFNGR1\n",
      "NFKBIA IRF7\n",
      "NFKBIA IFNGR2\n",
      "NFKBIA CAV1\n",
      "NFKBIA STAT3\n",
      "NFKBIA CD86\n",
      "NFKBIA NT\n",
      "NFKBIA CMTM6\n",
      "NFKBIA JAK2\n",
      "NFKBIA BRD4\n",
      "NFKBIA SMAD4\n",
      "NFKBIA NFKBIA\n",
      "NFKBIA PDCD1LG2\n",
      "NFKBIA STAT1\n",
      "NFKBIA MARCH8\n",
      "NFKBIA UBE2L6\n",
      "NFKBIA ETV7\n",
      "NFKBIA TNFRSF14\n",
      "NFKBIA IRF1\n",
      "NFKBIA STAT5A\n",
      "NFKBIA ATF2\n",
      "NFKBIA POU2F2\n",
      "NFKBIA STAT2\n",
      "NFKBIA CUL3\n",
      "NFKBIA MYC\n",
      "NFKBIA SPI1\n",
      "NFKBIA PDL1\n",
      "PDCD1LG2 IFNGR1\n",
      "PDCD1LG2 IRF7\n",
      "PDCD1LG2 IFNGR2\n",
      "PDCD1LG2 CAV1\n",
      "PDCD1LG2 STAT3\n",
      "PDCD1LG2 CD86\n",
      "PDCD1LG2 NT\n",
      "PDCD1LG2 CMTM6\n",
      "PDCD1LG2 JAK2\n",
      "PDCD1LG2 BRD4\n",
      "PDCD1LG2 SMAD4\n",
      "PDCD1LG2 NFKBIA\n",
      "PDCD1LG2 PDCD1LG2\n",
      "PDCD1LG2 STAT1\n",
      "PDCD1LG2 MARCH8\n",
      "PDCD1LG2 UBE2L6\n",
      "PDCD1LG2 ETV7\n",
      "PDCD1LG2 TNFRSF14\n",
      "PDCD1LG2 IRF1\n",
      "PDCD1LG2 STAT5A\n",
      "PDCD1LG2 ATF2\n",
      "PDCD1LG2 POU2F2\n",
      "PDCD1LG2 STAT2\n",
      "PDCD1LG2 CUL3\n",
      "PDCD1LG2 MYC\n",
      "PDCD1LG2 SPI1\n",
      "PDCD1LG2 PDL1\n",
      "STAT1 IFNGR1\n",
      "STAT1 IRF7\n",
      "STAT1 IFNGR2\n",
      "STAT1 CAV1\n",
      "STAT1 STAT3\n",
      "STAT1 CD86\n",
      "STAT1 NT\n",
      "STAT1 CMTM6\n",
      "STAT1 JAK2\n",
      "STAT1 BRD4\n"
     ]
    },
    {
     "name": "stderr",
     "output_type": "stream",
     "text": [
      "[Parallel(n_jobs=94)]: Using backend LokyBackend with 94 concurrent workers.\n",
      "[Parallel(n_jobs=94)]: Done  12 out of  24 | elapsed:    3.3s remaining:    3.3s\n",
      "[Parallel(n_jobs=94)]: Done  24 out of  24 | elapsed:    3.5s finished\n",
      "... storing 'memento_group' as categorical\n"
     ]
    },
    {
     "name": "stdout",
     "output_type": "stream",
     "text": [
      "STAT1 SMAD4\n"
     ]
    },
    {
     "name": "stderr",
     "output_type": "stream",
     "text": [
      "/home/ssm-user/anaconda3/envs/single_cell/lib/python3.8/site-packages/pandas/core/arrays/categorical.py:2487: FutureWarning: The `inplace` parameter in pandas.Categorical.remove_unused_categories is deprecated and will be removed in a future version.\n",
      "  res = method(*args, **kwargs)\n",
      "[Parallel(n_jobs=94)]: Using backend LokyBackend with 94 concurrent workers.\n",
      "[Parallel(n_jobs=94)]: Done  12 tasks      | elapsed:    7.7s\n",
      "[Parallel(n_jobs=94)]: Done 394 out of 394 | elapsed:   36.5s finished\n",
      "... storing 'memento_group' as categorical\n"
     ]
    },
    {
     "name": "stdout",
     "output_type": "stream",
     "text": [
      "STAT1 NFKBIA\n"
     ]
    },
    {
     "name": "stderr",
     "output_type": "stream",
     "text": [
      "/home/ssm-user/anaconda3/envs/single_cell/lib/python3.8/site-packages/pandas/core/arrays/categorical.py:2487: FutureWarning: The `inplace` parameter in pandas.Categorical.remove_unused_categories is deprecated and will be removed in a future version.\n",
      "  res = method(*args, **kwargs)\n"
     ]
    },
    {
     "name": "stdout",
     "output_type": "stream",
     "text": [
      "STAT1 PDCD1LG2\n",
      "STAT1 STAT1\n",
      "STAT1 MARCH8\n",
      "STAT1 UBE2L6\n",
      "STAT1 ETV7\n",
      "STAT1 TNFRSF14\n",
      "STAT1 IRF1\n",
      "STAT1 STAT5A\n",
      "STAT1 ATF2\n",
      "STAT1 POU2F2\n",
      "STAT1 STAT2\n",
      "STAT1 CUL3\n"
     ]
    },
    {
     "name": "stderr",
     "output_type": "stream",
     "text": [
      "[Parallel(n_jobs=94)]: Using backend LokyBackend with 94 concurrent workers.\n",
      "[Parallel(n_jobs=94)]: Done   4 out of  31 | elapsed:    3.1s remaining:   21.1s\n",
      "[Parallel(n_jobs=94)]: Done  31 out of  31 | elapsed:    3.7s finished\n",
      "... storing 'memento_group' as categorical\n"
     ]
    },
    {
     "name": "stdout",
     "output_type": "stream",
     "text": [
      "STAT1 MYC\n"
     ]
    },
    {
     "name": "stderr",
     "output_type": "stream",
     "text": [
      "/home/ssm-user/anaconda3/envs/single_cell/lib/python3.8/site-packages/pandas/core/arrays/categorical.py:2487: FutureWarning: The `inplace` parameter in pandas.Categorical.remove_unused_categories is deprecated and will be removed in a future version.\n",
      "  res = method(*args, **kwargs)\n"
     ]
    },
    {
     "name": "stdout",
     "output_type": "stream",
     "text": [
      "STAT1 SPI1\n",
      "STAT1 PDL1\n",
      "MARCH8 IFNGR1\n",
      "MARCH8 IRF7\n",
      "MARCH8 IFNGR2\n",
      "MARCH8 CAV1\n",
      "MARCH8 STAT3\n",
      "MARCH8 CD86\n",
      "MARCH8 NT\n",
      "MARCH8 CMTM6\n",
      "MARCH8 JAK2\n",
      "MARCH8 BRD4\n",
      "MARCH8 SMAD4\n",
      "MARCH8 NFKBIA\n",
      "MARCH8 PDCD1LG2\n",
      "MARCH8 STAT1\n",
      "MARCH8 MARCH8\n",
      "MARCH8 UBE2L6\n",
      "MARCH8 ETV7\n",
      "MARCH8 TNFRSF14\n",
      "MARCH8 IRF1\n",
      "MARCH8 STAT5A\n",
      "MARCH8 ATF2\n",
      "MARCH8 POU2F2\n",
      "MARCH8 STAT2\n",
      "MARCH8 CUL3\n",
      "MARCH8 MYC\n",
      "MARCH8 SPI1\n",
      "MARCH8 PDL1\n",
      "UBE2L6 IFNGR1\n",
      "UBE2L6 IRF7\n",
      "UBE2L6 IFNGR2\n",
      "UBE2L6 CAV1\n",
      "UBE2L6 STAT3\n",
      "UBE2L6 CD86\n",
      "UBE2L6 NT\n",
      "UBE2L6 CMTM6\n",
      "UBE2L6 JAK2\n",
      "UBE2L6 BRD4\n",
      "UBE2L6 SMAD4\n",
      "UBE2L6 NFKBIA\n",
      "UBE2L6 PDCD1LG2\n",
      "UBE2L6 STAT1\n",
      "UBE2L6 MARCH8\n",
      "UBE2L6 UBE2L6\n",
      "UBE2L6 ETV7\n",
      "UBE2L6 TNFRSF14\n",
      "UBE2L6 IRF1\n",
      "UBE2L6 STAT5A\n",
      "UBE2L6 ATF2\n",
      "UBE2L6 POU2F2\n",
      "UBE2L6 STAT2\n",
      "UBE2L6 CUL3\n",
      "UBE2L6 MYC\n",
      "UBE2L6 SPI1\n",
      "UBE2L6 PDL1\n",
      "ETV7 IFNGR1\n",
      "ETV7 IRF7\n",
      "ETV7 IFNGR2\n",
      "ETV7 CAV1\n",
      "ETV7 STAT3\n",
      "ETV7 CD86\n",
      "ETV7 NT\n",
      "ETV7 CMTM6\n",
      "ETV7 JAK2\n",
      "ETV7 BRD4\n",
      "ETV7 SMAD4\n",
      "ETV7 NFKBIA\n",
      "ETV7 PDCD1LG2\n",
      "ETV7 STAT1\n",
      "ETV7 MARCH8\n",
      "ETV7 UBE2L6\n",
      "ETV7 ETV7\n",
      "ETV7 TNFRSF14\n",
      "ETV7 IRF1\n",
      "ETV7 STAT5A\n",
      "ETV7 ATF2\n",
      "ETV7 POU2F2\n",
      "ETV7 STAT2\n",
      "ETV7 CUL3\n",
      "ETV7 MYC\n",
      "ETV7 SPI1\n",
      "ETV7 PDL1\n",
      "TNFRSF14 IFNGR1\n",
      "TNFRSF14 IRF7\n",
      "TNFRSF14 IFNGR2\n",
      "TNFRSF14 CAV1\n",
      "TNFRSF14 STAT3\n",
      "TNFRSF14 CD86\n",
      "TNFRSF14 NT\n",
      "TNFRSF14 CMTM6\n",
      "TNFRSF14 JAK2\n",
      "TNFRSF14 BRD4\n",
      "TNFRSF14 SMAD4\n",
      "TNFRSF14 NFKBIA\n",
      "TNFRSF14 PDCD1LG2\n",
      "TNFRSF14 STAT1\n",
      "TNFRSF14 MARCH8\n",
      "TNFRSF14 UBE2L6\n",
      "TNFRSF14 ETV7\n",
      "TNFRSF14 TNFRSF14\n",
      "TNFRSF14 IRF1\n",
      "TNFRSF14 STAT5A\n",
      "TNFRSF14 ATF2\n",
      "TNFRSF14 POU2F2\n",
      "TNFRSF14 STAT2\n",
      "TNFRSF14 CUL3\n",
      "TNFRSF14 MYC\n",
      "TNFRSF14 SPI1\n",
      "TNFRSF14 PDL1\n",
      "IRF1 IFNGR1\n",
      "IRF1 IRF7\n",
      "IRF1 IFNGR2\n",
      "IRF1 CAV1\n",
      "IRF1 STAT3\n",
      "IRF1 CD86\n",
      "IRF1 NT\n",
      "IRF1 CMTM6\n",
      "IRF1 JAK2\n",
      "IRF1 BRD4\n",
      "IRF1 SMAD4\n"
     ]
    },
    {
     "name": "stderr",
     "output_type": "stream",
     "text": [
      "[Parallel(n_jobs=94)]: Using backend LokyBackend with 94 concurrent workers.\n",
      "[Parallel(n_jobs=94)]: Done  90 out of 138 | elapsed:   14.0s remaining:    7.5s\n",
      "[Parallel(n_jobs=94)]: Done 138 out of 138 | elapsed:   17.5s finished\n",
      "... storing 'memento_group' as categorical\n"
     ]
    },
    {
     "name": "stdout",
     "output_type": "stream",
     "text": [
      "IRF1 NFKBIA\n"
     ]
    },
    {
     "name": "stderr",
     "output_type": "stream",
     "text": [
      "/home/ssm-user/anaconda3/envs/single_cell/lib/python3.8/site-packages/pandas/core/arrays/categorical.py:2487: FutureWarning: The `inplace` parameter in pandas.Categorical.remove_unused_categories is deprecated and will be removed in a future version.\n",
      "  res = method(*args, **kwargs)\n"
     ]
    },
    {
     "name": "stdout",
     "output_type": "stream",
     "text": [
      "IRF1 PDCD1LG2\n",
      "IRF1 STAT1\n",
      "IRF1 MARCH8\n",
      "IRF1 UBE2L6\n",
      "IRF1 ETV7\n",
      "IRF1 TNFRSF14\n",
      "IRF1 IRF1\n",
      "IRF1 STAT5A\n",
      "IRF1 ATF2\n",
      "IRF1 POU2F2\n",
      "IRF1 STAT2\n",
      "IRF1 CUL3\n"
     ]
    },
    {
     "name": "stderr",
     "output_type": "stream",
     "text": [
      "[Parallel(n_jobs=94)]: Using backend LokyBackend with 94 concurrent workers.\n",
      "[Parallel(n_jobs=94)]: Done  16 out of  16 | elapsed:    3.4s remaining:    0.0s\n",
      "[Parallel(n_jobs=94)]: Done  16 out of  16 | elapsed:    3.4s finished\n",
      "... storing 'memento_group' as categorical\n"
     ]
    },
    {
     "name": "stdout",
     "output_type": "stream",
     "text": [
      "IRF1 MYC\n"
     ]
    },
    {
     "name": "stderr",
     "output_type": "stream",
     "text": [
      "/home/ssm-user/anaconda3/envs/single_cell/lib/python3.8/site-packages/pandas/core/arrays/categorical.py:2487: FutureWarning: The `inplace` parameter in pandas.Categorical.remove_unused_categories is deprecated and will be removed in a future version.\n",
      "  res = method(*args, **kwargs)\n"
     ]
    },
    {
     "name": "stdout",
     "output_type": "stream",
     "text": [
      "IRF1 SPI1\n",
      "IRF1 PDL1\n",
      "STAT5A IFNGR1\n",
      "STAT5A IRF7\n",
      "STAT5A IFNGR2\n",
      "STAT5A CAV1\n",
      "STAT5A STAT3\n",
      "STAT5A CD86\n",
      "STAT5A NT\n",
      "STAT5A CMTM6\n",
      "STAT5A JAK2\n",
      "STAT5A BRD4\n",
      "STAT5A SMAD4\n",
      "STAT5A NFKBIA\n",
      "STAT5A PDCD1LG2\n",
      "STAT5A STAT1\n",
      "STAT5A MARCH8\n",
      "STAT5A UBE2L6\n",
      "STAT5A ETV7\n",
      "STAT5A TNFRSF14\n",
      "STAT5A IRF1\n",
      "STAT5A STAT5A\n",
      "STAT5A ATF2\n",
      "STAT5A POU2F2\n",
      "STAT5A STAT2\n",
      "STAT5A CUL3\n",
      "STAT5A MYC\n",
      "STAT5A SPI1\n",
      "STAT5A PDL1\n",
      "ATF2 IFNGR1\n",
      "ATF2 IRF7\n",
      "ATF2 IFNGR2\n",
      "ATF2 CAV1\n",
      "ATF2 STAT3\n",
      "ATF2 CD86\n",
      "ATF2 NT\n",
      "ATF2 CMTM6\n",
      "ATF2 JAK2\n",
      "ATF2 BRD4\n",
      "ATF2 SMAD4\n",
      "ATF2 NFKBIA\n",
      "ATF2 PDCD1LG2\n",
      "ATF2 STAT1\n",
      "ATF2 MARCH8\n",
      "ATF2 UBE2L6\n",
      "ATF2 ETV7\n",
      "ATF2 TNFRSF14\n",
      "ATF2 IRF1\n",
      "ATF2 STAT5A\n",
      "ATF2 ATF2\n",
      "ATF2 POU2F2\n",
      "ATF2 STAT2\n",
      "ATF2 CUL3\n",
      "ATF2 MYC\n",
      "ATF2 SPI1\n",
      "ATF2 PDL1\n",
      "POU2F2 IFNGR1\n",
      "POU2F2 IRF7\n",
      "POU2F2 IFNGR2\n",
      "POU2F2 CAV1\n",
      "POU2F2 STAT3\n",
      "POU2F2 CD86\n",
      "POU2F2 NT\n",
      "POU2F2 CMTM6\n",
      "POU2F2 JAK2\n",
      "POU2F2 BRD4\n",
      "POU2F2 SMAD4\n",
      "POU2F2 NFKBIA\n",
      "POU2F2 PDCD1LG2\n",
      "POU2F2 STAT1\n",
      "POU2F2 MARCH8\n",
      "POU2F2 UBE2L6\n",
      "POU2F2 ETV7\n",
      "POU2F2 TNFRSF14\n",
      "POU2F2 IRF1\n",
      "POU2F2 STAT5A\n",
      "POU2F2 ATF2\n",
      "POU2F2 POU2F2\n",
      "POU2F2 STAT2\n",
      "POU2F2 CUL3\n",
      "POU2F2 MYC\n",
      "POU2F2 SPI1\n",
      "POU2F2 PDL1\n",
      "STAT2 IFNGR1\n",
      "STAT2 IRF7\n",
      "STAT2 IFNGR2\n",
      "STAT2 CAV1\n",
      "STAT2 STAT3\n",
      "STAT2 CD86\n",
      "STAT2 NT\n",
      "STAT2 CMTM6\n",
      "STAT2 JAK2\n",
      "STAT2 BRD4\n",
      "STAT2 SMAD4\n"
     ]
    },
    {
     "name": "stderr",
     "output_type": "stream",
     "text": [
      "[Parallel(n_jobs=94)]: Using backend LokyBackend with 94 concurrent workers.\n",
      "[Parallel(n_jobs=94)]: Done  20 out of  20 | elapsed:    3.5s finished\n",
      "... storing 'memento_group' as categorical\n"
     ]
    },
    {
     "name": "stdout",
     "output_type": "stream",
     "text": [
      "STAT2 NFKBIA\n"
     ]
    },
    {
     "name": "stderr",
     "output_type": "stream",
     "text": [
      "/home/ssm-user/anaconda3/envs/single_cell/lib/python3.8/site-packages/pandas/core/arrays/categorical.py:2487: FutureWarning: The `inplace` parameter in pandas.Categorical.remove_unused_categories is deprecated and will be removed in a future version.\n",
      "  res = method(*args, **kwargs)\n"
     ]
    },
    {
     "name": "stdout",
     "output_type": "stream",
     "text": [
      "STAT2 PDCD1LG2\n",
      "STAT2 STAT1\n",
      "STAT2 MARCH8\n",
      "STAT2 UBE2L6\n",
      "STAT2 ETV7\n",
      "STAT2 TNFRSF14\n",
      "STAT2 IRF1\n",
      "STAT2 STAT5A\n",
      "STAT2 ATF2\n",
      "STAT2 POU2F2\n",
      "STAT2 STAT2\n",
      "STAT2 CUL3\n",
      "STAT2 MYC\n",
      "STAT2 SPI1\n",
      "STAT2 PDL1\n",
      "CUL3 IFNGR1\n"
     ]
    },
    {
     "name": "stderr",
     "output_type": "stream",
     "text": [
      "[Parallel(n_jobs=94)]: Using backend LokyBackend with 94 concurrent workers.\n",
      "[Parallel(n_jobs=94)]: Done   7 out of  38 | elapsed:    2.8s remaining:   12.3s\n",
      "[Parallel(n_jobs=94)]: Done  38 out of  38 | elapsed:    4.9s finished\n",
      "... storing 'memento_group' as categorical\n"
     ]
    },
    {
     "name": "stdout",
     "output_type": "stream",
     "text": [
      "CUL3 IRF7\n"
     ]
    },
    {
     "name": "stderr",
     "output_type": "stream",
     "text": [
      "/home/ssm-user/anaconda3/envs/single_cell/lib/python3.8/site-packages/pandas/core/arrays/categorical.py:2487: FutureWarning: The `inplace` parameter in pandas.Categorical.remove_unused_categories is deprecated and will be removed in a future version.\n",
      "  res = method(*args, **kwargs)\n"
     ]
    },
    {
     "name": "stdout",
     "output_type": "stream",
     "text": [
      "CUL3 IFNGR2\n"
     ]
    },
    {
     "name": "stderr",
     "output_type": "stream",
     "text": [
      "[Parallel(n_jobs=94)]: Using backend LokyBackend with 94 concurrent workers.\n",
      "[Parallel(n_jobs=94)]: Done   2 out of  37 | elapsed:    2.1s remaining:   35.9s\n",
      "[Parallel(n_jobs=94)]: Done  37 out of  37 | elapsed:    4.1s finished\n",
      "... storing 'memento_group' as categorical\n"
     ]
    },
    {
     "name": "stdout",
     "output_type": "stream",
     "text": [
      "CUL3 CAV1\n"
     ]
    },
    {
     "name": "stderr",
     "output_type": "stream",
     "text": [
      "/home/ssm-user/anaconda3/envs/single_cell/lib/python3.8/site-packages/pandas/core/arrays/categorical.py:2487: FutureWarning: The `inplace` parameter in pandas.Categorical.remove_unused_categories is deprecated and will be removed in a future version.\n",
      "  res = method(*args, **kwargs)\n"
     ]
    },
    {
     "name": "stdout",
     "output_type": "stream",
     "text": [
      "CUL3 STAT3\n",
      "CUL3 CD86\n",
      "CUL3 NT\n",
      "CUL3 CMTM6\n",
      "CUL3 JAK2\n"
     ]
    },
    {
     "name": "stderr",
     "output_type": "stream",
     "text": [
      "[Parallel(n_jobs=94)]: Using backend LokyBackend with 94 concurrent workers.\n",
      "[Parallel(n_jobs=94)]: Done  34 out of  36 | elapsed:    3.7s remaining:    0.2s\n",
      "[Parallel(n_jobs=94)]: Done  36 out of  36 | elapsed:    3.8s finished\n",
      "... storing 'memento_group' as categorical\n"
     ]
    },
    {
     "name": "stdout",
     "output_type": "stream",
     "text": [
      "CUL3 BRD4\n"
     ]
    },
    {
     "name": "stderr",
     "output_type": "stream",
     "text": [
      "/home/ssm-user/anaconda3/envs/single_cell/lib/python3.8/site-packages/pandas/core/arrays/categorical.py:2487: FutureWarning: The `inplace` parameter in pandas.Categorical.remove_unused_categories is deprecated and will be removed in a future version.\n",
      "  res = method(*args, **kwargs)\n"
     ]
    },
    {
     "name": "stdout",
     "output_type": "stream",
     "text": [
      "CUL3 SMAD4\n"
     ]
    },
    {
     "name": "stderr",
     "output_type": "stream",
     "text": [
      "[Parallel(n_jobs=94)]: Using backend LokyBackend with 94 concurrent workers.\n",
      "[Parallel(n_jobs=94)]: Done  16 out of  33 | elapsed:    2.8s remaining:    3.0s\n",
      "[Parallel(n_jobs=94)]: Done  33 out of  33 | elapsed:    3.6s finished\n",
      "... storing 'memento_group' as categorical\n"
     ]
    },
    {
     "name": "stdout",
     "output_type": "stream",
     "text": [
      "CUL3 NFKBIA\n"
     ]
    },
    {
     "name": "stderr",
     "output_type": "stream",
     "text": [
      "/home/ssm-user/anaconda3/envs/single_cell/lib/python3.8/site-packages/pandas/core/arrays/categorical.py:2487: FutureWarning: The `inplace` parameter in pandas.Categorical.remove_unused_categories is deprecated and will be removed in a future version.\n",
      "  res = method(*args, **kwargs)\n"
     ]
    },
    {
     "name": "stdout",
     "output_type": "stream",
     "text": [
      "CUL3 PDCD1LG2\n",
      "CUL3 STAT1\n",
      "CUL3 MARCH8\n",
      "CUL3 UBE2L6\n",
      "CUL3 ETV7\n",
      "CUL3 TNFRSF14\n",
      "CUL3 IRF1\n"
     ]
    },
    {
     "name": "stderr",
     "output_type": "stream",
     "text": [
      "[Parallel(n_jobs=94)]: Using backend LokyBackend with 94 concurrent workers.\n",
      "[Parallel(n_jobs=94)]: Done  16 out of  16 | elapsed:    3.3s remaining:    0.0s\n",
      "[Parallel(n_jobs=94)]: Done  16 out of  16 | elapsed:    3.3s finished\n",
      "... storing 'memento_group' as categorical\n"
     ]
    },
    {
     "name": "stdout",
     "output_type": "stream",
     "text": [
      "CUL3 STAT5A\n"
     ]
    },
    {
     "name": "stderr",
     "output_type": "stream",
     "text": [
      "/home/ssm-user/anaconda3/envs/single_cell/lib/python3.8/site-packages/pandas/core/arrays/categorical.py:2487: FutureWarning: The `inplace` parameter in pandas.Categorical.remove_unused_categories is deprecated and will be removed in a future version.\n",
      "  res = method(*args, **kwargs)\n"
     ]
    },
    {
     "name": "stdout",
     "output_type": "stream",
     "text": [
      "CUL3 ATF2\n",
      "CUL3 POU2F2\n",
      "CUL3 STAT2\n",
      "CUL3 CUL3\n",
      "CUL3 MYC\n",
      "CUL3 SPI1\n",
      "CUL3 PDL1\n",
      "MYC IFNGR1\n"
     ]
    },
    {
     "name": "stderr",
     "output_type": "stream",
     "text": [
      "[Parallel(n_jobs=94)]: Using backend LokyBackend with 94 concurrent workers.\n",
      "[Parallel(n_jobs=94)]: Done  10 out of  10 | elapsed:    5.0s remaining:    0.0s\n",
      "[Parallel(n_jobs=94)]: Done  10 out of  10 | elapsed:    5.0s finished\n",
      "... storing 'memento_group' as categorical\n"
     ]
    },
    {
     "name": "stdout",
     "output_type": "stream",
     "text": [
      "MYC IRF7\n"
     ]
    },
    {
     "name": "stderr",
     "output_type": "stream",
     "text": [
      "/home/ssm-user/anaconda3/envs/single_cell/lib/python3.8/site-packages/pandas/core/arrays/categorical.py:2487: FutureWarning: The `inplace` parameter in pandas.Categorical.remove_unused_categories is deprecated and will be removed in a future version.\n",
      "  res = method(*args, **kwargs)\n"
     ]
    },
    {
     "name": "stdout",
     "output_type": "stream",
     "text": [
      "MYC IFNGR2\n"
     ]
    },
    {
     "name": "stderr",
     "output_type": "stream",
     "text": [
      "[Parallel(n_jobs=94)]: Using backend LokyBackend with 94 concurrent workers.\n",
      "[Parallel(n_jobs=94)]: Done  10 out of  10 | elapsed:    4.1s remaining:    0.0s\n",
      "[Parallel(n_jobs=94)]: Done  10 out of  10 | elapsed:    4.1s finished\n",
      "... storing 'memento_group' as categorical\n"
     ]
    },
    {
     "name": "stdout",
     "output_type": "stream",
     "text": [
      "MYC CAV1\n"
     ]
    },
    {
     "name": "stderr",
     "output_type": "stream",
     "text": [
      "/home/ssm-user/anaconda3/envs/single_cell/lib/python3.8/site-packages/pandas/core/arrays/categorical.py:2487: FutureWarning: The `inplace` parameter in pandas.Categorical.remove_unused_categories is deprecated and will be removed in a future version.\n",
      "  res = method(*args, **kwargs)\n"
     ]
    },
    {
     "name": "stdout",
     "output_type": "stream",
     "text": [
      "MYC STAT3\n",
      "MYC CD86\n",
      "MYC NT\n",
      "MYC CMTM6\n",
      "MYC JAK2\n"
     ]
    },
    {
     "name": "stderr",
     "output_type": "stream",
     "text": [
      "[Parallel(n_jobs=94)]: Using backend LokyBackend with 94 concurrent workers.\n",
      "[Parallel(n_jobs=94)]: Done   7 out of  12 | elapsed:    2.4s remaining:    1.7s\n",
      "[Parallel(n_jobs=94)]: Done  12 out of  12 | elapsed:    3.8s finished\n",
      "... storing 'memento_group' as categorical\n"
     ]
    },
    {
     "name": "stdout",
     "output_type": "stream",
     "text": [
      "MYC BRD4\n"
     ]
    },
    {
     "name": "stderr",
     "output_type": "stream",
     "text": [
      "/home/ssm-user/anaconda3/envs/single_cell/lib/python3.8/site-packages/pandas/core/arrays/categorical.py:2487: FutureWarning: The `inplace` parameter in pandas.Categorical.remove_unused_categories is deprecated and will be removed in a future version.\n",
      "  res = method(*args, **kwargs)\n"
     ]
    },
    {
     "name": "stdout",
     "output_type": "stream",
     "text": [
      "MYC SMAD4\n"
     ]
    },
    {
     "name": "stderr",
     "output_type": "stream",
     "text": [
      "[Parallel(n_jobs=94)]: Using backend LokyBackend with 94 concurrent workers.\n",
      "[Parallel(n_jobs=94)]: Done   7 out of  14 | elapsed:    2.0s remaining:    2.0s\n",
      "[Parallel(n_jobs=94)]: Done  14 out of  14 | elapsed:    3.6s finished\n",
      "... storing 'memento_group' as categorical\n"
     ]
    },
    {
     "name": "stdout",
     "output_type": "stream",
     "text": [
      "MYC NFKBIA\n"
     ]
    },
    {
     "name": "stderr",
     "output_type": "stream",
     "text": [
      "/home/ssm-user/anaconda3/envs/single_cell/lib/python3.8/site-packages/pandas/core/arrays/categorical.py:2487: FutureWarning: The `inplace` parameter in pandas.Categorical.remove_unused_categories is deprecated and will be removed in a future version.\n",
      "  res = method(*args, **kwargs)\n"
     ]
    },
    {
     "name": "stdout",
     "output_type": "stream",
     "text": [
      "MYC PDCD1LG2\n",
      "MYC STAT1\n",
      "MYC MARCH8\n",
      "MYC UBE2L6\n",
      "MYC ETV7\n",
      "MYC TNFRSF14\n",
      "MYC IRF1\n",
      "MYC STAT5A\n",
      "MYC ATF2\n",
      "MYC POU2F2\n",
      "MYC STAT2\n",
      "MYC CUL3\n",
      "MYC MYC\n",
      "MYC SPI1\n",
      "MYC PDL1\n",
      "SPI1 IFNGR1\n",
      "SPI1 IRF7\n",
      "SPI1 IFNGR2\n",
      "SPI1 CAV1\n",
      "SPI1 STAT3\n",
      "SPI1 CD86\n",
      "SPI1 NT\n",
      "SPI1 CMTM6\n",
      "SPI1 JAK2\n",
      "SPI1 BRD4\n",
      "SPI1 SMAD4\n",
      "SPI1 NFKBIA\n",
      "SPI1 PDCD1LG2\n",
      "SPI1 STAT1\n",
      "SPI1 MARCH8\n",
      "SPI1 UBE2L6\n",
      "SPI1 ETV7\n",
      "SPI1 TNFRSF14\n",
      "SPI1 IRF1\n",
      "SPI1 STAT5A\n",
      "SPI1 ATF2\n",
      "SPI1 POU2F2\n",
      "SPI1 STAT2\n",
      "SPI1 CUL3\n",
      "SPI1 MYC\n",
      "SPI1 SPI1\n",
      "SPI1 PDL1\n",
      "PDL1 IFNGR1\n",
      "PDL1 IRF7\n",
      "PDL1 IFNGR2\n",
      "PDL1 CAV1\n",
      "PDL1 STAT3\n",
      "PDL1 CD86\n",
      "PDL1 NT\n",
      "PDL1 CMTM6\n",
      "PDL1 JAK2\n",
      "PDL1 BRD4\n",
      "PDL1 SMAD4\n",
      "PDL1 NFKBIA\n",
      "PDL1 PDCD1LG2\n",
      "PDL1 STAT1\n",
      "PDL1 MARCH8\n",
      "PDL1 UBE2L6\n",
      "PDL1 ETV7\n",
      "PDL1 TNFRSF14\n",
      "PDL1 IRF1\n",
      "PDL1 STAT5A\n",
      "PDL1 ATF2\n",
      "PDL1 POU2F2\n",
      "PDL1 STAT2\n",
      "PDL1 CUL3\n",
      "PDL1 MYC\n",
      "PDL1 SPI1\n",
      "PDL1 PDL1\n"
     ]
    }
   ],
   "source": [
    "done_files = os.listdir(data_path + '2d/')\n",
    "for g in ko_genes:\n",
    "    \n",
    "    for g_ko in ko_genes:\n",
    "        print(g, g_ko)\n",
    "        \n",
    "        if g == g_ko or g == 'NT' or g_ko == 'NT': continue\n",
    "        fname = '{}_with_{}_KO_guide_rep.h5ad'.format(g, g_ko)\n",
    "        if fname in done_files: continue\n",
    "        \n",
    "        subset = adata.copy().copy()\n",
    "\n",
    "        subset = adata[adata.obs['gene'].isin(['NT', g_ko]) & (adata.obs['treatment']=='tx')].copy().copy()\n",
    "    \n",
    "        subset.obs['is_ko'] = subset.obs.guide_ID.str.contains(g_ko).values\n",
    "\n",
    "        memento.create_groups(subset, label_columns=['is_ko', 'replicate', 'guide_ID'])\n",
    "\n",
    "        memento.compute_1d_moments(subset, min_perc_group=.7)\n",
    "        \n",
    "        if g not in subset.var.index: continue\n",
    "\n",
    "        available_genes = list(\n",
    "            set(subset.var.index) & \\\n",
    "            set(results[g].query('de_coef < 0 & de_fdr < 0.05').gene.tolist()) & \\\n",
    "            set(results[g_ko].query('de_coef < 0 & de_fdr < 0.05').gene.tolist())\n",
    "            )\n",
    "        \n",
    "        if len(available_genes) < 10: continue\n",
    "        memento.compute_2d_moments(subset, list(itertools.product([g], available_genes))   )\n",
    "\n",
    "        memento.ht_2d_moments( \n",
    "            subset, \n",
    "            formula_like='1 + is_ko + replicate',\n",
    "            treatment_col='is_ko', \n",
    "            num_boot=10000, \n",
    "            verbose=1,\n",
    "            num_cpus=94,\n",
    "            resampling='bootstrap',\n",
    "            approx=False)\n",
    "        \n",
    "        subset.write(data_path + '2d/{}_with_{}_KO_guide_rep.h5ad'.format(g, g_ko))"
   ]
  },
  {
   "cell_type": "markdown",
   "id": "alien-advocate",
   "metadata": {},
   "source": [
    "### Check TF's correlation to other genes following KO"
   ]
  },
  {
   "cell_type": "code",
   "execution_count": 123,
   "id": "competent-simulation",
   "metadata": {},
   "outputs": [
    {
     "name": "stderr",
     "output_type": "stream",
     "text": [
      "/home/ssm-user/anaconda3/envs/single_cell/lib/python3.8/site-packages/pandas/core/arrays/categorical.py:2487: FutureWarning: The `inplace` parameter in pandas.Categorical.remove_unused_categories is deprecated and will be removed in a future version.\n",
      "  res = method(*args, **kwargs)\n",
      "/home/ssm-user/Github/scrna-parameter-estimation/dist/memento-0.0.6-py3.8.egg/memento/estimator.py:106: RuntimeWarning: divide by zero encountered in log\n",
      "  rv[cond] = np.exp(np.log(var[cond]) - f(np.log(mean[cond])))\n"
     ]
    }
   ],
   "source": [
    "# subset_ko_genes = ['STAT1', 'STAT2', 'JAK2', 'CUL3', 'IFNGR1', 'IFNGR2', 'MYC', 'SMAD4']\n",
    "done_files = os.listdir(data_path + '/2d/')\n",
    "for g in ['JAK2']:#ko_genes:\n",
    "    \n",
    "    if g == 'NT': continue\n",
    "    fname = '{}_with_{}_KO_guide_rep.h5ad'.format(g, g)\n",
    "#         if fname in done_files: continue\n",
    "\n",
    "    subset = adata.copy().copy()\n",
    "\n",
    "    subset = adata[adata.obs['gene'].isin(['NT', g])].copy().copy()\n",
    "\n",
    "    subset.obs['is_ko'] = subset.obs.guide_ID.str.contains(g).values\n",
    "\n",
    "    memento.create_groups(subset, label_columns=['is_ko', 'replicate', 'guide_ID'])\n",
    "\n",
    "    memento.compute_1d_moments(subset, min_perc_group=.7)\n",
    "\n",
    "    if g not in subset.var.index: continue\n",
    "\n",
    "    available_genes = list(set(subset.var.index))\n",
    "\n",
    "    if len(available_genes) < 10: continue\n",
    "    memento.compute_2d_moments(subset, list(itertools.product([g], available_genes))   )\n",
    "\n",
    "    memento.ht_2d_moments( \n",
    "        subset, \n",
    "        formula_like='1 + is_ko + replicate',\n",
    "        treatment_col='is_ko', \n",
    "        num_boot=10000, \n",
    "        verbose=1,\n",
    "        num_cpus=14,\n",
    "        resampling='bootstrap',\n",
    "        approx=False)\n",
    "\n",
    "    subset.write(data_path + '2d/{}_with_{}_KO_guide_rep.h5ad'.format(g, g))"
   ]
  },
  {
   "cell_type": "code",
   "execution_count": 124,
   "id": "structural-version",
   "metadata": {},
   "outputs": [],
   "source": [
    "moments, counts = memento.get_2d_moments(subset)"
   ]
  },
  {
   "cell_type": "code",
   "execution_count": 131,
   "id": "imperial-clinic",
   "metadata": {},
   "outputs": [
    {
     "data": {
      "text/html": [
       "<div>\n",
       "<style scoped>\n",
       "    .dataframe tbody tr th:only-of-type {\n",
       "        vertical-align: middle;\n",
       "    }\n",
       "\n",
       "    .dataframe tbody tr th {\n",
       "        vertical-align: top;\n",
       "    }\n",
       "\n",
       "    .dataframe thead th {\n",
       "        text-align: right;\n",
       "    }\n",
       "</style>\n",
       "<table border=\"1\" class=\"dataframe\">\n",
       "  <thead>\n",
       "    <tr style=\"text-align: right;\">\n",
       "      <th></th>\n",
       "      <th>gene</th>\n",
       "      <th>de_coef</th>\n",
       "      <th>de_se</th>\n",
       "      <th>de_pval</th>\n",
       "      <th>dv_coef</th>\n",
       "      <th>dv_se</th>\n",
       "      <th>dv_pval</th>\n",
       "      <th>de_fdr</th>\n",
       "      <th>dv_fdr</th>\n",
       "    </tr>\n",
       "  </thead>\n",
       "  <tbody>\n",
       "    <tr>\n",
       "      <th>3183</th>\n",
       "      <td>IFNGR1</td>\n",
       "      <td>-0.150763</td>\n",
       "      <td>0.045791</td>\n",
       "      <td>0.001701</td>\n",
       "      <td>0.199772</td>\n",
       "      <td>0.201333</td>\n",
       "      <td>0.314369</td>\n",
       "      <td>0.006115</td>\n",
       "      <td>0.849193</td>\n",
       "    </tr>\n",
       "  </tbody>\n",
       "</table>\n",
       "</div>"
      ],
      "text/plain": [
       "        gene   de_coef     de_se   de_pval   dv_coef     dv_se   dv_pval  \\\n",
       "3183  IFNGR1 -0.150763  0.045791  0.001701  0.199772  0.201333  0.314369   \n",
       "\n",
       "        de_fdr    dv_fdr  \n",
       "3183  0.006115  0.849193  "
      ]
     },
     "execution_count": 131,
     "metadata": {},
     "output_type": "execute_result"
    }
   ],
   "source": [
    "results['IFNGR1'].query('gene == \"IFNGR1\"')"
   ]
  },
  {
   "cell_type": "code",
   "execution_count": 127,
   "id": "proper-charlotte",
   "metadata": {},
   "outputs": [],
   "source": [
    "dv_genes = results['JAK2'].query('dv_fdr < 0.1 & dv_coef > 0').gene.tolist()"
   ]
  },
  {
   "cell_type": "code",
   "execution_count": 120,
   "id": "devoted-muscle",
   "metadata": {},
   "outputs": [
    {
     "name": "stderr",
     "output_type": "stream",
     "text": [
      "/home/ssm-user/anaconda3/envs/single_cell/lib/python3.8/site-packages/pandas/core/arrays/categorical.py:2487: FutureWarning: The `inplace` parameter in pandas.Categorical.remove_unused_categories is deprecated and will be removed in a future version.\n",
      "  res = method(*args, **kwargs)\n"
     ]
    }
   ],
   "source": [
    "subset.obs['STAT1'] = subset[:, 'STAT1'].X.todense().A1\n",
    "subset.obs['GBP4'] = subset[:, 'GBP4'].X.todense().A1"
   ]
  },
  {
   "cell_type": "code",
   "execution_count": 70,
   "id": "typical-domain",
   "metadata": {},
   "outputs": [],
   "source": [
    "dv_genes = results['STAT1'].query('dv_fdr < 0.1 & dv_coef > 0').gene.tolist()"
   ]
  },
  {
   "cell_type": "markdown",
   "id": "generous-width",
   "metadata": {},
   "source": [
    "### Debugging\n"
   ]
  },
  {
   "cell_type": "code",
   "execution_count": null,
   "id": "defensive-hobby",
   "metadata": {},
   "outputs": [],
   "source": []
  }
 ],
 "metadata": {
  "kernelspec": {
   "display_name": "Python 3",
   "language": "python",
   "name": "python3"
  },
  "language_info": {
   "codemirror_mode": {
    "name": "ipython",
    "version": 3
   },
   "file_extension": ".py",
   "mimetype": "text/x-python",
   "name": "python",
   "nbconvert_exporter": "python",
   "pygments_lexer": "ipython3",
   "version": "3.8.8"
  }
 },
 "nbformat": 4,
 "nbformat_minor": 5
}
