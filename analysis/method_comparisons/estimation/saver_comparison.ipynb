{
 "cells": [
  {
   "cell_type": "code",
   "execution_count": 1,
   "id": "e53a35b1",
   "metadata": {},
   "outputs": [],
   "source": [
    "library('SAVER')"
   ]
  },
  {
   "cell_type": "code",
   "execution_count": 2,
   "id": "2813f9c3",
   "metadata": {},
   "outputs": [],
   "source": [
    "# saver_obj = readRDS('/data_volume/memento/saver/melanoma_dropseq_saver.rds')"
   ]
  },
  {
   "cell_type": "code",
   "execution_count": 9,
   "id": "999227c2",
   "metadata": {},
   "outputs": [],
   "source": [
    "dropseq_data = readRDS('/data_volume/memento/saver/melanoma_dropseq.rds')"
   ]
  },
  {
   "cell_type": "code",
   "execution_count": null,
   "id": "9b29947a",
   "metadata": {},
   "outputs": [],
   "source": [
    "saver_obj = saver(dropseq_data, ncores=25)"
   ]
  },
  {
   "cell_type": "code",
   "execution_count": 7,
   "id": "780b736d",
   "metadata": {},
   "outputs": [],
   "source": [
    "saveRDS(saver_obj, 'saver_melanoma.rds')"
   ]
  },
  {
   "cell_type": "markdown",
   "id": "8d0a5cb1",
   "metadata": {},
   "source": [
    "### Read saved RDS file"
   ]
  },
  {
   "cell_type": "code",
   "execution_count": 2,
   "id": "4284538b",
   "metadata": {},
   "outputs": [],
   "source": [
    "saver_obj = readRDS('saver_melanoma.rds')"
   ]
  },
  {
   "cell_type": "code",
   "execution_count": null,
   "id": "41d00e16",
   "metadata": {},
   "outputs": [
    {
     "name": "stderr",
     "output_type": "stream",
     "text": [
      "Calculating correlation matrix...\n",
      "\n"
     ]
    }
   ],
   "source": [
    "corr_df = cor.genes(saver_obj)"
   ]
  },
  {
   "cell_type": "code",
   "execution_count": null,
   "id": "b8f1c9d8",
   "metadata": {},
   "outputs": [],
   "source": [
    "dim(corr_df)"
   ]
  },
  {
   "cell_type": "code",
   "execution_count": null,
   "id": "22aeae2f",
   "metadata": {},
   "outputs": [],
   "source": [
    "write.csv(corr_df, '/data_volume/memento/saver/saver_corrs.csv')"
   ]
  },
  {
   "cell_type": "markdown",
   "id": "0a8d3c57",
   "metadata": {},
   "source": [
    "### Saver correlation code"
   ]
  },
  {
   "cell_type": "code",
   "execution_count": 10,
   "id": "b3cdbb89",
   "metadata": {},
   "outputs": [],
   "source": [
    "sf <- colSums(dropseq_data)/mean(colSums(dropseq_data))"
   ]
  },
  {
   "cell_type": "code",
   "execution_count": 11,
   "id": "8e7a1acb",
   "metadata": {},
   "outputs": [],
   "source": [
    "library(reshape2)\n",
    "\n",
    "adj.vec <- rep(0, 12241)\n",
    "for (i in 1:12241) {\n",
    "  adj.vec[i] <- \n",
    "    sqrt(var(saver_obj$estimate[i, ]*sf, na.rm = TRUE)/\n",
    "           (var(saver_obj$estimate[i, ]*sf, na.rm = TRUE) + \n",
    "              mean(saver_obj$se[i, ]^2*sf^2, na.rm = TRUE)))\n",
    "}"
   ]
  },
  {
   "cell_type": "code",
   "execution_count": 12,
   "id": "0631f187",
   "metadata": {},
   "outputs": [],
   "source": [
    "scale.factor <- outer(adj.vec, adj.vec)\n"
   ]
  },
  {
   "cell_type": "code",
   "execution_count": 13,
   "id": "7c5a86f3",
   "metadata": {},
   "outputs": [],
   "source": [
    "temp.cor <- cor( t(sweep(saver_obj$estimate, 2, sf, \"*\")))"
   ]
  },
  {
   "cell_type": "code",
   "execution_count": 14,
   "id": "e0480a45",
   "metadata": {},
   "outputs": [],
   "source": [
    "saver.cor <- temp.cor*scale.factor\n"
   ]
  },
  {
   "cell_type": "code",
   "execution_count": 15,
   "id": "21173151",
   "metadata": {},
   "outputs": [
    {
     "data": {
      "text/html": [
       "<style>\n",
       ".list-inline {list-style: none; margin:0; padding: 0}\n",
       ".list-inline>li {display: inline-block}\n",
       ".list-inline>li:not(:last-child)::after {content: \"\\00b7\"; padding: 0 .5ex}\n",
       "</style>\n",
       "<ol class=list-inline><li>12241</li><li>12241</li></ol>\n"
      ],
      "text/latex": [
       "\\begin{enumerate*}\n",
       "\\item 12241\n",
       "\\item 12241\n",
       "\\end{enumerate*}\n"
      ],
      "text/markdown": [
       "1. 12241\n",
       "2. 12241\n",
       "\n",
       "\n"
      ],
      "text/plain": [
       "[1] 12241 12241"
      ]
     },
     "metadata": {},
     "output_type": "display_data"
    }
   ],
   "source": [
    "dim(saver.cor)"
   ]
  },
  {
   "cell_type": "code",
   "execution_count": 16,
   "id": "de75501f",
   "metadata": {},
   "outputs": [],
   "source": [
    "write.csv(saver.cor, '/data_volume/memento/saver/saver_corrs_2.csv')"
   ]
  },
  {
   "cell_type": "code",
   "execution_count": null,
   "id": "448fca6f",
   "metadata": {},
   "outputs": [],
   "source": []
  }
 ],
 "metadata": {
  "kernelspec": {
   "display_name": "R",
   "language": "R",
   "name": "ir"
  },
  "language_info": {
   "codemirror_mode": "r",
   "file_extension": ".r",
   "mimetype": "text/x-r-source",
   "name": "R",
   "pygments_lexer": "r",
   "version": "4.0.5"
  }
 },
 "nbformat": 4,
 "nbformat_minor": 5
}
