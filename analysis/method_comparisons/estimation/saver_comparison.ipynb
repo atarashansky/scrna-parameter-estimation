{
 "cells": [
  {
   "cell_type": "code",
   "execution_count": 1,
   "id": "66464eb1",
   "metadata": {},
   "outputs": [],
   "source": [
    "library('SAVER')"
   ]
  },
  {
   "cell_type": "code",
   "execution_count": 2,
   "id": "cce371b9",
   "metadata": {},
   "outputs": [],
   "source": [
    "# saver_obj = readRDS('/data_volume/memento/saver/melanoma_dropseq_saver.rds')"
   ]
  },
  {
   "cell_type": "code",
   "execution_count": 3,
   "id": "da80d959",
   "metadata": {},
   "outputs": [],
   "source": [
    "dropseq_data = readRDS('/data_volume/memento/saver/melanoma_dropseq.rds')"
   ]
  },
  {
   "cell_type": "code",
   "execution_count": 4,
   "id": "5e46ff25",
   "metadata": {},
   "outputs": [
    {
     "name": "stderr",
     "output_type": "stream",
     "text": [
      "Warning message in if (!(grepl(\"matrix\", class(x), ignore.case = TRUE))) {:\n",
      "“the condition has length > 1 and only the first element will be used”\n",
      "12241 genes, 8498 cells\n",
      "\n",
      "Running SAVER with 5 worker(s)\n",
      "\n",
      "Calculating predictions for 12241 genes using 3680 genes and 8498 cells...\n",
      "\n",
      "Start time: 2022-05-19 19:30:16\n",
      "\n",
      "Estimating finish time...\n",
      "\n",
      "Finished 8/12241 genes. Approximate finish time: 2022-05-19 19:51:39\n",
      "\n",
      "Calculating max cor cutoff...\n",
      "\n",
      "Finished 100/12241 genes. Approximate finish time: 2022-05-19 20:05:36\n",
      "\n",
      "Calculating lambda coefficients...\n",
      "\n",
      "Finished 395/12241 genes. Approximate finish time: 2022-05-19 20:16:11\n",
      "\n",
      "Predicting remaining genes...\n",
      "\n",
      "Finished 3357/12241 genes. Approximate finish time: 2022-05-19 20:39:54\n",
      "\n",
      "Predicting remaining genes...\n",
      "\n",
      "Done!\n",
      "\n",
      "Finish time: 2022-05-19 20:39:45\n",
      "\n",
      "Total time: 1.15815 hours\n",
      "\n"
     ]
    }
   ],
   "source": [
    "saver_obj = saver(dropseq_data, ncores=5)"
   ]
  },
  {
   "cell_type": "code",
   "execution_count": 5,
   "id": "cc4be732",
   "metadata": {},
   "outputs": [],
   "source": [
    "saveRDS(saver_obj, 'saver_melanoma.rds')"
   ]
  },
  {
   "cell_type": "code",
   "execution_count": 16,
   "id": "c4eb256e",
   "metadata": {},
   "outputs": [],
   "source": [
    "saver_obj <- readRDS('saver_melanoma.rds')"
   ]
  },
  {
   "cell_type": "code",
   "execution_count": 19,
   "id": "b000a6dd",
   "metadata": {},
   "outputs": [],
   "source": [
    "write.csv(saver_obj[['estimate']], '/data_volume/memento/saver/saver_estimates.csv')"
   ]
  },
  {
   "cell_type": "markdown",
   "id": "cc24349a",
   "metadata": {},
   "source": [
    "### Read saved RDS file"
   ]
  },
  {
   "cell_type": "markdown",
   "id": "4d07213f",
   "metadata": {},
   "source": [
    "saver_obj = readRDS('melanoma_dropseq_saver.rds')"
   ]
  },
  {
   "cell_type": "markdown",
   "id": "7a01b663",
   "metadata": {},
   "source": [
    "corr_df = cor.genes(saver_obj)"
   ]
  },
  {
   "cell_type": "markdown",
   "id": "d9600057",
   "metadata": {},
   "source": [
    "dim(corr_df)"
   ]
  },
  {
   "cell_type": "markdown",
   "id": "95bb9d6f",
   "metadata": {},
   "source": [
    "write.csv(corr_df, '/data_volume/memento/saver/saver_corrs.csv')"
   ]
  },
  {
   "cell_type": "markdown",
   "id": "868ddc6c",
   "metadata": {},
   "source": [
    "### Saver correlation code"
   ]
  },
  {
   "cell_type": "code",
   "execution_count": 6,
   "id": "2e69b804",
   "metadata": {},
   "outputs": [],
   "source": [
    "sf <- colSums(dropseq_data)/mean(colSums(dropseq_data))"
   ]
  },
  {
   "cell_type": "code",
   "execution_count": 7,
   "id": "a673a169",
   "metadata": {},
   "outputs": [],
   "source": [
    "library(reshape2)\n",
    "\n",
    "adj.vec <- rep(0, 12241)\n",
    "for (i in 1:12241) {\n",
    "  adj.vec[i] <- \n",
    "    sqrt(var(saver_obj$estimate[i, ]*sf, na.rm = TRUE)/\n",
    "           (var(saver_obj$estimate[i, ]*sf, na.rm = TRUE) + \n",
    "              mean(saver_obj$se[i, ]^2*sf^2, na.rm = TRUE)))\n",
    "}"
   ]
  },
  {
   "cell_type": "code",
   "execution_count": 8,
   "id": "95f24080",
   "metadata": {},
   "outputs": [],
   "source": [
    "scale.factor <- outer(adj.vec, adj.vec)\n"
   ]
  },
  {
   "cell_type": "code",
   "execution_count": 9,
   "id": "b2b36aae",
   "metadata": {},
   "outputs": [],
   "source": [
    "temp.cor <- cor( t(sweep(saver_obj$estimate, 2, sf, \"*\")))"
   ]
  },
  {
   "cell_type": "code",
   "execution_count": 10,
   "id": "34b61b54",
   "metadata": {},
   "outputs": [],
   "source": [
    "saver.cor <- temp.cor*scale.factor\n"
   ]
  },
  {
   "cell_type": "code",
   "execution_count": 11,
   "id": "1540151f",
   "metadata": {},
   "outputs": [
    {
     "data": {
      "text/html": [
       "<style>\n",
       ".list-inline {list-style: none; margin:0; padding: 0}\n",
       ".list-inline>li {display: inline-block}\n",
       ".list-inline>li:not(:last-child)::after {content: \"\\00b7\"; padding: 0 .5ex}\n",
       "</style>\n",
       "<ol class=list-inline><li>12241</li><li>12241</li></ol>\n"
      ],
      "text/latex": [
       "\\begin{enumerate*}\n",
       "\\item 12241\n",
       "\\item 12241\n",
       "\\end{enumerate*}\n"
      ],
      "text/markdown": [
       "1. 12241\n",
       "2. 12241\n",
       "\n",
       "\n"
      ],
      "text/plain": [
       "[1] 12241 12241"
      ]
     },
     "metadata": {},
     "output_type": "display_data"
    }
   ],
   "source": [
    "dim(saver.cor)"
   ]
  },
  {
   "cell_type": "code",
   "execution_count": 12,
   "id": "e167e951",
   "metadata": {},
   "outputs": [],
   "source": [
    "write.csv(saver.cor, '/data_volume/memento/saver/saver_corrs.csv')"
   ]
  },
  {
   "cell_type": "code",
   "execution_count": null,
   "id": "1679abca",
   "metadata": {},
   "outputs": [],
   "source": []
  }
 ],
 "metadata": {
  "kernelspec": {
   "display_name": "R",
   "language": "R",
   "name": "ir"
  },
  "language_info": {
   "codemirror_mode": "r",
   "file_extension": ".r",
   "mimetype": "text/x-r-source",
   "name": "R",
   "pygments_lexer": "r",
   "version": "4.0.5"
  }
 },
 "nbformat": 4,
 "nbformat_minor": 5
}
