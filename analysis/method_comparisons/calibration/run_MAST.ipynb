{
 "cells": [
  {
   "cell_type": "markdown",
   "id": "316f62f6",
   "metadata": {},
   "source": [
    "### Running MAST and testing the calibration"
   ]
  },
  {
   "cell_type": "code",
   "execution_count": 1,
   "id": "8e8ea7b8",
   "metadata": {},
   "outputs": [
    {
     "name": "stderr",
     "output_type": "stream",
     "text": [
      "Loading required package: SingleCellExperiment\n",
      "\n",
      "Loading required package: SummarizedExperiment\n",
      "\n",
      "Loading required package: MatrixGenerics\n",
      "\n",
      "Loading required package: matrixStats\n",
      "\n",
      "\n",
      "Attaching package: ‘MatrixGenerics’\n",
      "\n",
      "\n",
      "The following objects are masked from ‘package:matrixStats’:\n",
      "\n",
      "    colAlls, colAnyNAs, colAnys, colAvgsPerRowSet, colCollapse,\n",
      "    colCounts, colCummaxs, colCummins, colCumprods, colCumsums,\n",
      "    colDiffs, colIQRDiffs, colIQRs, colLogSumExps, colMadDiffs,\n",
      "    colMads, colMaxs, colMeans2, colMedians, colMins, colOrderStats,\n",
      "    colProds, colQuantiles, colRanges, colRanks, colSdDiffs, colSds,\n",
      "    colSums2, colTabulates, colVarDiffs, colVars, colWeightedMads,\n",
      "    colWeightedMeans, colWeightedMedians, colWeightedSds,\n",
      "    colWeightedVars, rowAlls, rowAnyNAs, rowAnys, rowAvgsPerColSet,\n",
      "    rowCollapse, rowCounts, rowCummaxs, rowCummins, rowCumprods,\n",
      "    rowCumsums, rowDiffs, rowIQRDiffs, rowIQRs, rowLogSumExps,\n",
      "    rowMadDiffs, rowMads, rowMaxs, rowMeans2, rowMedians, rowMins,\n",
      "    rowOrderStats, rowProds, rowQuantiles, rowRanges, rowRanks,\n",
      "    rowSdDiffs, rowSds, rowSums2, rowTabulates, rowVarDiffs, rowVars,\n",
      "    rowWeightedMads, rowWeightedMeans, rowWeightedMedians,\n",
      "    rowWeightedSds, rowWeightedVars\n",
      "\n",
      "\n",
      "Loading required package: GenomicRanges\n",
      "\n",
      "Loading required package: stats4\n",
      "\n",
      "Loading required package: BiocGenerics\n",
      "\n",
      "Loading required package: parallel\n",
      "\n",
      "\n",
      "Attaching package: ‘BiocGenerics’\n",
      "\n",
      "\n",
      "The following objects are masked from ‘package:parallel’:\n",
      "\n",
      "    clusterApply, clusterApplyLB, clusterCall, clusterEvalQ,\n",
      "    clusterExport, clusterMap, parApply, parCapply, parLapply,\n",
      "    parLapplyLB, parRapply, parSapply, parSapplyLB\n",
      "\n",
      "\n",
      "The following objects are masked from ‘package:stats’:\n",
      "\n",
      "    IQR, mad, sd, var, xtabs\n",
      "\n",
      "\n",
      "The following objects are masked from ‘package:base’:\n",
      "\n",
      "    anyDuplicated, append, as.data.frame, basename, cbind, colnames,\n",
      "    dirname, do.call, duplicated, eval, evalq, Filter, Find, get, grep,\n",
      "    grepl, intersect, is.unsorted, lapply, Map, mapply, match, mget,\n",
      "    order, paste, pmax, pmax.int, pmin, pmin.int, Position, rank,\n",
      "    rbind, Reduce, rownames, sapply, setdiff, sort, table, tapply,\n",
      "    union, unique, unsplit, which.max, which.min\n",
      "\n",
      "\n",
      "Loading required package: S4Vectors\n",
      "\n",
      "\n",
      "Attaching package: ‘S4Vectors’\n",
      "\n",
      "\n",
      "The following object is masked from ‘package:base’:\n",
      "\n",
      "    expand.grid\n",
      "\n",
      "\n",
      "Loading required package: IRanges\n",
      "\n",
      "Loading required package: GenomeInfoDb\n",
      "\n",
      "Loading required package: Biobase\n",
      "\n",
      "Welcome to Bioconductor\n",
      "\n",
      "    Vignettes contain introductory material; view with\n",
      "    'browseVignettes()'. To cite Bioconductor, see\n",
      "    'citation(\"Biobase\")', and for packages 'citation(\"pkgname\")'.\n",
      "\n",
      "\n",
      "\n",
      "Attaching package: ‘Biobase’\n",
      "\n",
      "\n",
      "The following object is masked from ‘package:MatrixGenerics’:\n",
      "\n",
      "    rowMedians\n",
      "\n",
      "\n",
      "The following objects are masked from ‘package:matrixStats’:\n",
      "\n",
      "    anyMissing, rowMedians\n",
      "\n",
      "\n",
      "Attaching SeuratObject\n",
      "\n",
      "\n",
      "Attaching package: ‘Seurat’\n",
      "\n",
      "\n",
      "The following object is masked from ‘package:SummarizedExperiment’:\n",
      "\n",
      "    Assays\n",
      "\n",
      "\n",
      "Registered S3 method overwritten by 'cli':\n",
      "  method     from         \n",
      "  print.boxx spatstat.geom\n",
      "\n",
      "Warning message in if (is.na(desc)) {:\n",
      "“the condition has length > 1 and only the first element will be used”\n",
      "Warning message in if (is.na(desc)) {:\n",
      "“the condition has length > 1 and only the first element will be used”\n",
      "Warning message in if (is.na(desc)) {:\n",
      "“the condition has length > 1 and only the first element will be used”\n",
      "Warning message in if (is.na(desc)) {:\n",
      "“the condition has length > 1 and only the first element will be used”\n",
      "Warning message in if (is.na(desc)) {:\n",
      "“the condition has length > 1 and only the first element will be used”\n",
      "Warning message in if (is.na(desc)) {:\n",
      "“the condition has length > 1 and only the first element will be used”\n",
      "Warning message in if (is.na(desc)) {:\n",
      "“the condition has length > 1 and only the first element will be used”\n",
      "Warning message in if (is.na(desc)) {:\n",
      "“the condition has length > 1 and only the first element will be used”\n",
      "Warning message in if (is.na(desc)) {:\n",
      "“the condition has length > 1 and only the first element will be used”\n",
      "Warning message in if (is.na(desc)) {:\n",
      "“the condition has length > 1 and only the first element will be used”\n",
      "Warning message in if (is.na(desc)) {:\n",
      "“the condition has length > 1 and only the first element will be used”\n",
      "Warning message in if (is.na(desc)) {:\n",
      "“the condition has length > 1 and only the first element will be used”\n",
      "── \u001b[1mInstalled datasets\u001b[22m ───────────────────────────────────── SeuratData v0.2.1 ──\n",
      "\n",
      "\u001b[32m✔\u001b[39m \u001b[34mifnb       \u001b[39m 3.0.0                     \u001b[32m✔\u001b[39m \u001b[34mthp1.eccite\u001b[39m 3.1.5\n",
      "\u001b[32m✔\u001b[39m \u001b[34mpbmc3k     \u001b[39m 3.1.4                     \n",
      "\n",
      "\n",
      "────────────────────────────────────── Key ─────────────────────────────────────\n",
      "\n",
      "\u001b[32m✔\u001b[39m Dataset loaded successfully\n",
      "\u001b[33m❯\u001b[39m Dataset built with a newer version of Seurat than installed\n",
      "\u001b[31m❓\u001b[39m Unknown version of Seurat installed\n",
      "\n",
      "\n",
      "\n",
      "Attaching package: ‘patchwork’\n",
      "\n",
      "\n",
      "The following object is masked from ‘package:cowplot’:\n",
      "\n",
      "    align_plots\n",
      "\n",
      "\n",
      "\n",
      "Attaching package: ‘data.table’\n",
      "\n",
      "\n",
      "The following object is masked from ‘package:SummarizedExperiment’:\n",
      "\n",
      "    shift\n",
      "\n",
      "\n",
      "The following object is masked from ‘package:GenomicRanges’:\n",
      "\n",
      "    shift\n",
      "\n",
      "\n",
      "The following object is masked from ‘package:IRanges’:\n",
      "\n",
      "    shift\n",
      "\n",
      "\n",
      "The following objects are masked from ‘package:S4Vectors’:\n",
      "\n",
      "    first, second\n",
      "\n",
      "\n"
     ]
    }
   ],
   "source": [
    "library(MAST)\n",
    "library(Seurat)\n",
    "library(SeuratData)\n",
    "library(cowplot)\n",
    "library(patchwork)\n",
    "library(data.table)"
   ]
  },
  {
   "cell_type": "markdown",
   "id": "40e4147c",
   "metadata": {},
   "source": [
    "### Entire dataset"
   ]
  },
  {
   "cell_type": "code",
   "execution_count": 2,
   "id": "4b4268ba",
   "metadata": {},
   "outputs": [],
   "source": [
    "# InstallData('ifnb')"
   ]
  },
  {
   "cell_type": "code",
   "execution_count": 4,
   "id": "92a2b801",
   "metadata": {},
   "outputs": [
    {
     "name": "stderr",
     "output_type": "stream",
     "text": [
      "Warning message in download.file(p, destfile, method, mode = \"wb\", ...):\n",
      "“downloaded length 159719038 != reported length 413266233”\n",
      "Warning message in download.file(p, destfile, method, mode = \"wb\", ...):\n",
      "“URL 'https://seurat.nygenome.org/src/contrib/ifnb.SeuratData_3.1.0.tar.gz': Timeout of 60 seconds was reached”\n"
     ]
    },
    {
     "name": "stdout",
     "output_type": "stream",
     "text": [
      "Error in download.file(p, destfile, method, mode = \"wb\", ...) : \n",
      "  download from 'https://seurat.nygenome.org/src/contrib/ifnb.SeuratData_3.1.0.tar.gz' failed\n"
     ]
    }
   ],
   "source": [
    "install.packages(\"https://seurat.nygenome.org/src/contrib/ifnb.SeuratData_3.1.0.tar.gz\", repos = NULL, type = \"source\")"
   ]
  },
  {
   "cell_type": "code",
   "execution_count": 10,
   "id": "6d822ba8",
   "metadata": {},
   "outputs": [],
   "source": [
    "library(ifnb.SeuratData)"
   ]
  },
  {
   "cell_type": "code",
   "execution_count": 11,
   "id": "3408b823",
   "metadata": {},
   "outputs": [],
   "source": [
    "data(\"ifnb\")"
   ]
  },
  {
   "cell_type": "code",
   "execution_count": 12,
   "id": "2654c32d",
   "metadata": {},
   "outputs": [],
   "source": [
    "ifnb <- subset(x = ifnb, subset = seurat_annotations == \"CD14 Mono\")"
   ]
  },
  {
   "cell_type": "code",
   "execution_count": 13,
   "id": "c8a53d19",
   "metadata": {},
   "outputs": [],
   "source": [
    "ifnb <- NormalizeData(object = ifnb)"
   ]
  },
  {
   "cell_type": "code",
   "execution_count": 14,
   "id": "254d6f54",
   "metadata": {},
   "outputs": [],
   "source": [
    "ifnb$stim = sample(as.vector(ifnb$stim))"
   ]
  },
  {
   "cell_type": "code",
   "execution_count": 15,
   "id": "8273202d",
   "metadata": {},
   "outputs": [],
   "source": [
    "expressed_genes = rowMeans(as.matrix(GetAssayData(object = ifnb,slot=\"counts\"))) > 0.07"
   ]
  },
  {
   "cell_type": "code",
   "execution_count": 16,
   "id": "09037be5",
   "metadata": {},
   "outputs": [],
   "source": [
    "data = ifnb[expressed_genes,]"
   ]
  },
  {
   "cell_type": "code",
   "execution_count": 17,
   "id": "fecf0c30",
   "metadata": {},
   "outputs": [
    {
     "name": "stderr",
     "output_type": "stream",
     "text": [
      "`fData` has no primerid.  I'll make something up.\n",
      "\n",
      "`cData` has no wellKey.  I'll make something up.\n",
      "\n",
      "Assuming data assay in position 1, with name et is log-transformed.\n",
      "\n"
     ]
    }
   ],
   "source": [
    "scaRaw <- FromMatrix(\n",
    "    as.matrix(GetAssayData(object = ifnb,slot=\"data\")), \n",
    "    ifnb[[]], ifnb[[\"RNA\"]][[]])"
   ]
  },
  {
   "cell_type": "code",
   "execution_count": 18,
   "id": "98113d24",
   "metadata": {},
   "outputs": [],
   "source": [
    "sca <- scaRaw"
   ]
  },
  {
   "cell_type": "code",
   "execution_count": 19,
   "id": "065513ef",
   "metadata": {},
   "outputs": [
    {
     "data": {
      "text/plain": [
       "class: SingleCellAssay \n",
       "dim: 14053 4362 \n",
       "metadata(0):\n",
       "assays(1): et\n",
       "rownames(14053): AL627309.1 RP11-206L10.2 ... AP001062.7 LRRC3DN\n",
       "rowData names(1): primerid\n",
       "colnames(4362): AAACATACATTTCC.1 AAACATACCAGAAA.1 ... TTTGACTGCCCACT.1\n",
       "  TTTGACTGCCCTAC.1\n",
       "colData names(6): orig.ident nCount_RNA ... seurat_annotations wellKey\n",
       "reducedDimNames(0):\n",
       "altExpNames(0):"
      ]
     },
     "metadata": {},
     "output_type": "display_data"
    }
   ],
   "source": [
    "sca"
   ]
  },
  {
   "cell_type": "code",
   "execution_count": 20,
   "id": "ff9336f1",
   "metadata": {},
   "outputs": [],
   "source": [
    "# thres <- thresholdSCRNACountMatrix(assay(sca), nbins = 20, min_per_bin = 30)\n"
   ]
  },
  {
   "cell_type": "code",
   "execution_count": 21,
   "id": "33541eb1",
   "metadata": {},
   "outputs": [],
   "source": [
    "# freq_expressed <- 0.0005"
   ]
  },
  {
   "cell_type": "code",
   "execution_count": 22,
   "id": "dbbb1d35",
   "metadata": {},
   "outputs": [],
   "source": [
    "# assays(sca, withDimnames = FALSE) <- list(thresh=thres$counts_threshold, tpm=assay(sca))\n",
    "# expressed_genes <- freq(sca) > freq_expressed\n"
   ]
  },
  {
   "cell_type": "code",
   "execution_count": 23,
   "id": "cf62a73c",
   "metadata": {},
   "outputs": [
    {
     "data": {
      "text/html": [
       "2572"
      ],
      "text/latex": [
       "2572"
      ],
      "text/markdown": [
       "2572"
      ],
      "text/plain": [
       "[1] 2572"
      ]
     },
     "metadata": {},
     "output_type": "display_data"
    }
   ],
   "source": [
    "sum(expressed_genes)"
   ]
  },
  {
   "cell_type": "code",
   "execution_count": 24,
   "id": "63f28d27",
   "metadata": {},
   "outputs": [],
   "source": [
    "sca <- sca[expressed_genes,]"
   ]
  },
  {
   "cell_type": "code",
   "execution_count": 33,
   "id": "72047238",
   "metadata": {},
   "outputs": [
    {
     "data": {
      "text/html": [
       "<table class=\"dataframe\">\n",
       "<caption>A data.frame: 6 × 5</caption>\n",
       "<thead>\n",
       "\t<tr><th></th><th scope=col>orig.ident</th><th scope=col>nCount_RNA</th><th scope=col>nFeature_RNA</th><th scope=col>stim</th><th scope=col>seurat_annotations</th></tr>\n",
       "\t<tr><th></th><th scope=col>&lt;chr&gt;</th><th scope=col>&lt;dbl&gt;</th><th scope=col>&lt;int&gt;</th><th scope=col>&lt;chr&gt;</th><th scope=col>&lt;fct&gt;</th></tr>\n",
       "</thead>\n",
       "<tbody>\n",
       "\t<tr><th scope=row>AAACATACATTTCC.1</th><td>IMMUNE_CTRL</td><td>3017</td><td>877</td><td>CTRL</td><td>CD14 Mono</td></tr>\n",
       "\t<tr><th scope=row>AAACATACCAGAAA.1</th><td>IMMUNE_CTRL</td><td>2481</td><td>713</td><td>CTRL</td><td>CD14 Mono</td></tr>\n",
       "\t<tr><th scope=row>AAACATACCTCGCT.1</th><td>IMMUNE_CTRL</td><td>3420</td><td>850</td><td>CTRL</td><td>CD14 Mono</td></tr>\n",
       "\t<tr><th scope=row>AAACATACGGCATT.1</th><td>IMMUNE_CTRL</td><td>1581</td><td>557</td><td>STIM</td><td>CD14 Mono</td></tr>\n",
       "\t<tr><th scope=row>AAACATTGCTTCGC.1</th><td>IMMUNE_CTRL</td><td>2536</td><td>669</td><td>CTRL</td><td>CD14 Mono</td></tr>\n",
       "\t<tr><th scope=row>AAACGCACTCGCCT.1</th><td>IMMUNE_CTRL</td><td>3563</td><td>908</td><td>STIM</td><td>CD14 Mono</td></tr>\n",
       "</tbody>\n",
       "</table>\n"
      ],
      "text/latex": [
       "A data.frame: 6 × 5\n",
       "\\begin{tabular}{r|lllll}\n",
       "  & orig.ident & nCount\\_RNA & nFeature\\_RNA & stim & seurat\\_annotations\\\\\n",
       "  & <chr> & <dbl> & <int> & <chr> & <fct>\\\\\n",
       "\\hline\n",
       "\tAAACATACATTTCC.1 & IMMUNE\\_CTRL & 3017 & 877 & CTRL & CD14 Mono\\\\\n",
       "\tAAACATACCAGAAA.1 & IMMUNE\\_CTRL & 2481 & 713 & CTRL & CD14 Mono\\\\\n",
       "\tAAACATACCTCGCT.1 & IMMUNE\\_CTRL & 3420 & 850 & CTRL & CD14 Mono\\\\\n",
       "\tAAACATACGGCATT.1 & IMMUNE\\_CTRL & 1581 & 557 & STIM & CD14 Mono\\\\\n",
       "\tAAACATTGCTTCGC.1 & IMMUNE\\_CTRL & 2536 & 669 & CTRL & CD14 Mono\\\\\n",
       "\tAAACGCACTCGCCT.1 & IMMUNE\\_CTRL & 3563 & 908 & STIM & CD14 Mono\\\\\n",
       "\\end{tabular}\n"
      ],
      "text/markdown": [
       "\n",
       "A data.frame: 6 × 5\n",
       "\n",
       "| <!--/--> | orig.ident &lt;chr&gt; | nCount_RNA &lt;dbl&gt; | nFeature_RNA &lt;int&gt; | stim &lt;chr&gt; | seurat_annotations &lt;fct&gt; |\n",
       "|---|---|---|---|---|---|\n",
       "| AAACATACATTTCC.1 | IMMUNE_CTRL | 3017 | 877 | CTRL | CD14 Mono |\n",
       "| AAACATACCAGAAA.1 | IMMUNE_CTRL | 2481 | 713 | CTRL | CD14 Mono |\n",
       "| AAACATACCTCGCT.1 | IMMUNE_CTRL | 3420 | 850 | CTRL | CD14 Mono |\n",
       "| AAACATACGGCATT.1 | IMMUNE_CTRL | 1581 | 557 | STIM | CD14 Mono |\n",
       "| AAACATTGCTTCGC.1 | IMMUNE_CTRL | 2536 | 669 | CTRL | CD14 Mono |\n",
       "| AAACGCACTCGCCT.1 | IMMUNE_CTRL | 3563 | 908 | STIM | CD14 Mono |\n",
       "\n"
      ],
      "text/plain": [
       "                 orig.ident  nCount_RNA nFeature_RNA stim seurat_annotations\n",
       "AAACATACATTTCC.1 IMMUNE_CTRL 3017       877          CTRL CD14 Mono         \n",
       "AAACATACCAGAAA.1 IMMUNE_CTRL 2481       713          CTRL CD14 Mono         \n",
       "AAACATACCTCGCT.1 IMMUNE_CTRL 3420       850          CTRL CD14 Mono         \n",
       "AAACATACGGCATT.1 IMMUNE_CTRL 1581       557          STIM CD14 Mono         \n",
       "AAACATTGCTTCGC.1 IMMUNE_CTRL 2536       669          CTRL CD14 Mono         \n",
       "AAACGCACTCGCCT.1 IMMUNE_CTRL 3563       908          STIM CD14 Mono         "
      ]
     },
     "metadata": {},
     "output_type": "display_data"
    }
   ],
   "source": [
    "head(ifnb[[]])"
   ]
  },
  {
   "cell_type": "code",
   "execution_count": 25,
   "id": "334ab47c",
   "metadata": {},
   "outputs": [
    {
     "data": {
      "text/plain": [
       "class: SingleCellAssay \n",
       "dim: 2572 4362 \n",
       "metadata(0):\n",
       "assays(1): et\n",
       "rownames(2572): HES4 ISG15 ... PRMT2 NUPR1\n",
       "rowData names(1): primerid\n",
       "colnames(4362): AAACATACATTTCC.1 AAACATACCAGAAA.1 ... TTTGACTGCCCACT.1\n",
       "  TTTGACTGCCCTAC.1\n",
       "colData names(6): orig.ident nCount_RNA ... seurat_annotations wellKey\n",
       "reducedDimNames(0):\n",
       "altExpNames(0):"
      ]
     },
     "metadata": {},
     "output_type": "display_data"
    }
   ],
   "source": [
    "sca"
   ]
  },
  {
   "cell_type": "code",
   "execution_count": 26,
   "id": "283bb0ce",
   "metadata": {},
   "outputs": [
    {
     "name": "stderr",
     "output_type": "stream",
     "text": [
      "\n",
      "Done!\n",
      "\n"
     ]
    }
   ],
   "source": [
    "cond<-factor(colData(sca)$stim)\n",
    "cond<-relevel(cond,\"CTRL\")\n",
    "colData(sca)$condition<-cond\n",
    "zlmCond <- zlm(~condition + nCount_RNA, sca)"
   ]
  },
  {
   "cell_type": "code",
   "execution_count": 27,
   "id": "516d5539",
   "metadata": {},
   "outputs": [
    {
     "name": "stderr",
     "output_type": "stream",
     "text": [
      "Combining coefficients and standard errors\n",
      "\n",
      "Calculating log-fold changes\n",
      "\n",
      "Calculating likelihood ratio tests\n",
      "\n",
      "Refitting on reduced model...\n",
      "\n",
      "\n",
      "Done!\n",
      "\n"
     ]
    }
   ],
   "source": [
    "summaryCond <- summary(zlmCond, doLRT='conditionSTIM')"
   ]
  },
  {
   "cell_type": "code",
   "execution_count": 28,
   "id": "46f1b989",
   "metadata": {},
   "outputs": [
    {
     "name": "stdout",
     "output_type": "stream",
     "text": [
      "Fitted zlm with top 4 genes per contrast:\n",
      "( log fold change Z-score )\n",
      " primerid     conditionSTIM nCount_RNA\n",
      " ATP6V1G1       -0.2          38.6*   \n",
      " CAST            3.1*         25.9    \n",
      " CTD-2336O2.1   -3.3*          1.5    \n",
      " HNRNPA0         3.2*         10.1    \n",
      " HNRNPA2B1      -1.6          37.6*   \n",
      " TALDO1         -1.8          38.2*   \n",
      " TSC22D4         3.5*         10.8    \n",
      " UBE2D3          0.8          37.2*   \n"
     ]
    }
   ],
   "source": [
    "print(summaryCond, n=4)\n"
   ]
  },
  {
   "cell_type": "code",
   "execution_count": 29,
   "id": "64fa3630",
   "metadata": {},
   "outputs": [],
   "source": [
    "FCTHRESHOLD <- log2(1.5)\n"
   ]
  },
  {
   "cell_type": "code",
   "execution_count": 30,
   "id": "b93804f9",
   "metadata": {},
   "outputs": [],
   "source": [
    "summaryDt <- summaryCond$datatable\n",
    "fcHurdle <- merge(summaryDt[contrast=='conditionSTIM' & component=='H',.(primerid, `Pr(>Chisq)`)], #hurdle P values\n",
    "                      summaryDt[contrast=='conditionSTIM' & component=='logFC', .(primerid, coef, ci.hi, ci.lo)], by='primerid') #logFC coefficients\n",
    "\n",
    "fcHurdle[,fdr:=p.adjust(`Pr(>Chisq)`, 'fdr')]\n",
    "fcHurdleSig <- merge(fcHurdle[fdr<.05], as.data.table(mcols(sca)), by='primerid')\n",
    "# setorder(fcHurdleSig, fdr)"
   ]
  },
  {
   "cell_type": "code",
   "execution_count": 35,
   "id": "1f753443",
   "metadata": {},
   "outputs": [
    {
     "data": {
      "text/html": [
       "<table class=\"dataframe\">\n",
       "<caption>A data.table: 6 × 6</caption>\n",
       "<thead>\n",
       "\t<tr><th scope=col>primerid</th><th scope=col>Pr(&gt;Chisq)</th><th scope=col>coef</th><th scope=col>ci.hi</th><th scope=col>ci.lo</th><th scope=col>fdr</th></tr>\n",
       "\t<tr><th scope=col>&lt;chr&gt;</th><th scope=col>&lt;dbl&gt;</th><th scope=col>&lt;dbl&gt;</th><th scope=col>&lt;dbl&gt;</th><th scope=col>&lt;dbl&gt;</th><th scope=col>&lt;dbl&gt;</th></tr>\n",
       "</thead>\n",
       "<tbody>\n",
       "\t<tr><td>AAED1 </td><td>0.7186280</td><td> 0.0054631668</td><td>0.02377887</td><td>-0.012852532</td><td>0.9764958</td></tr>\n",
       "\t<tr><td>AAMP  </td><td>0.2783618</td><td> 0.0115522937</td><td>0.03662308</td><td>-0.013518493</td><td>0.9333187</td></tr>\n",
       "\t<tr><td>AATF  </td><td>0.9957853</td><td> 0.0005759611</td><td>0.01863926</td><td>-0.017487341</td><td>0.9995362</td></tr>\n",
       "\t<tr><td>ABHD12</td><td>0.2707488</td><td>-0.0041757202</td><td>0.01155412</td><td>-0.019905563</td><td>0.9333187</td></tr>\n",
       "\t<tr><td>ABHD3 </td><td>0.9110955</td><td> 0.0010770130</td><td>0.01473110</td><td>-0.012577077</td><td>0.9916988</td></tr>\n",
       "\t<tr><td>ABI1  </td><td>0.6065267</td><td> 0.0069425108</td><td>0.02221364</td><td>-0.008328619</td><td>0.9717962</td></tr>\n",
       "</tbody>\n",
       "</table>\n"
      ],
      "text/latex": [
       "A data.table: 6 × 6\n",
       "\\begin{tabular}{llllll}\n",
       " primerid & Pr(>Chisq) & coef & ci.hi & ci.lo & fdr\\\\\n",
       " <chr> & <dbl> & <dbl> & <dbl> & <dbl> & <dbl>\\\\\n",
       "\\hline\n",
       "\t AAED1  & 0.7186280 &  0.0054631668 & 0.02377887 & -0.012852532 & 0.9764958\\\\\n",
       "\t AAMP   & 0.2783618 &  0.0115522937 & 0.03662308 & -0.013518493 & 0.9333187\\\\\n",
       "\t AATF   & 0.9957853 &  0.0005759611 & 0.01863926 & -0.017487341 & 0.9995362\\\\\n",
       "\t ABHD12 & 0.2707488 & -0.0041757202 & 0.01155412 & -0.019905563 & 0.9333187\\\\\n",
       "\t ABHD3  & 0.9110955 &  0.0010770130 & 0.01473110 & -0.012577077 & 0.9916988\\\\\n",
       "\t ABI1   & 0.6065267 &  0.0069425108 & 0.02221364 & -0.008328619 & 0.9717962\\\\\n",
       "\\end{tabular}\n"
      ],
      "text/markdown": [
       "\n",
       "A data.table: 6 × 6\n",
       "\n",
       "| primerid &lt;chr&gt; | Pr(&gt;Chisq) &lt;dbl&gt; | coef &lt;dbl&gt; | ci.hi &lt;dbl&gt; | ci.lo &lt;dbl&gt; | fdr &lt;dbl&gt; |\n",
       "|---|---|---|---|---|---|\n",
       "| AAED1  | 0.7186280 |  0.0054631668 | 0.02377887 | -0.012852532 | 0.9764958 |\n",
       "| AAMP   | 0.2783618 |  0.0115522937 | 0.03662308 | -0.013518493 | 0.9333187 |\n",
       "| AATF   | 0.9957853 |  0.0005759611 | 0.01863926 | -0.017487341 | 0.9995362 |\n",
       "| ABHD12 | 0.2707488 | -0.0041757202 | 0.01155412 | -0.019905563 | 0.9333187 |\n",
       "| ABHD3  | 0.9110955 |  0.0010770130 | 0.01473110 | -0.012577077 | 0.9916988 |\n",
       "| ABI1   | 0.6065267 |  0.0069425108 | 0.02221364 | -0.008328619 | 0.9717962 |\n",
       "\n"
      ],
      "text/plain": [
       "  primerid Pr(>Chisq) coef          ci.hi      ci.lo        fdr      \n",
       "1 AAED1    0.7186280   0.0054631668 0.02377887 -0.012852532 0.9764958\n",
       "2 AAMP     0.2783618   0.0115522937 0.03662308 -0.013518493 0.9333187\n",
       "3 AATF     0.9957853   0.0005759611 0.01863926 -0.017487341 0.9995362\n",
       "4 ABHD12   0.2707488  -0.0041757202 0.01155412 -0.019905563 0.9333187\n",
       "5 ABHD3    0.9110955   0.0010770130 0.01473110 -0.012577077 0.9916988\n",
       "6 ABI1     0.6065267   0.0069425108 0.02221364 -0.008328619 0.9717962"
      ]
     },
     "metadata": {},
     "output_type": "display_data"
    }
   ],
   "source": [
    "head(fcHurdle)"
   ]
  },
  {
   "cell_type": "code",
   "execution_count": 31,
   "id": "8400fbb4",
   "metadata": {},
   "outputs": [
    {
     "data": {
      "image/png": "[encoded data removed]",
      "text/plain": [
       "Plot with title “Histogram of fcHurdle$\"Pr(>Chisq)\"”"
      ]
     },
     "metadata": {
      "image/png": {
       "height": 420,
       "width": 420
      }
     },
     "output_type": "display_data"
    }
   ],
   "source": [
    "hist(fcHurdle$'Pr(>Chisq)')"
   ]
  },
  {
   "cell_type": "code",
   "execution_count": 32,
   "id": "f06cdc04",
   "metadata": {},
   "outputs": [
    {
     "name": "stderr",
     "output_type": "stream",
     "text": [
      "Warning message in file(file, ifelse(append, \"a\", \"w\")):\n",
      "“cannot open file '/data_volume/memento/simulation/acc_fpr/mast/MAST_full_demux.csv': No such file or directory”\n"
     ]
    },
    {
     "ename": "ERROR",
     "evalue": "Error in file(file, ifelse(append, \"a\", \"w\")): cannot open the connection\n",
     "output_type": "error",
     "traceback": [
      "Error in file(file, ifelse(append, \"a\", \"w\")): cannot open the connection\nTraceback:\n",
      "1. write.csv(fcHurdle, \"/data_volume/memento/simulation/acc_fpr/mast/MAST_full_demux.csv\")",
      "2. eval.parent(Call)",
      "3. eval(expr, p)",
      "4. eval(expr, p)",
      "5. write.table(fcHurdle, \"/data_volume/memento/simulation/acc_fpr/mast/MAST_full_demux.csv\", \n .     col.names = NA, sep = \",\", dec = \".\", qmethod = \"double\")",
      "6. file(file, ifelse(append, \"a\", \"w\"))"
     ]
    }
   ],
   "source": [
    "write.csv(fcHurdle, '/data_volume/memento/simulation/acc_fpr/mast/MAST_full_demux.csv')"
   ]
  },
  {
   "cell_type": "markdown",
   "id": "873b0f2f",
   "metadata": {},
   "source": [
    "### Run mast repeatedly with partial data"
   ]
  },
  {
   "cell_type": "code",
   "execution_count": 159,
   "id": "ab4c10ca",
   "metadata": {},
   "outputs": [],
   "source": [
    "data(\"ifnb\")\n",
    "ifnb <- subset(x = ifnb, subset = seurat_annotations == \"CD14 Mono\")\n",
    "ifnb <- NormalizeData(object = ifnb)"
   ]
  },
  {
   "cell_type": "code",
   "execution_count": 160,
   "id": "5d7b8d11",
   "metadata": {},
   "outputs": [],
   "source": [
    "cell_list <- colnames(ifnb)\n",
    "sampled_cells = list()"
   ]
  },
  {
   "cell_type": "code",
   "execution_count": 161,
   "id": "4c89a4e0",
   "metadata": {},
   "outputs": [],
   "source": [
    "for (trial in 1:50){\n",
    "    sampled_cells[[trial]] <- sample(cell_list, size = 250, replace=F)\n",
    "}"
   ]
  },
  {
   "cell_type": "code",
   "execution_count": 162,
   "id": "18dbd31d",
   "metadata": {},
   "outputs": [
    {
     "name": "stderr",
     "output_type": "stream",
     "text": [
      "`fData` has no primerid.  I'll make something up.\n",
      "\n",
      "`cData` has no wellKey.  I'll make something up.\n",
      "\n",
      "Assuming data assay in position 1, with name et is log-transformed.\n",
      "\n",
      "\n",
      "Done!\n",
      "\n",
      "Combining coefficients and standard errors\n",
      "\n",
      "Calculating log-fold changes\n",
      "\n",
      "Calculating likelihood ratio tests\n",
      "\n",
      "Refitting on reduced model...\n",
      "\n",
      "\n",
      "Done!\n",
      "\n"
     ]
    },
    {
     "name": "stdout",
     "output_type": "stream",
     "text": [
      "[1] \"CGGCGATGCCTGTC.1\" \"TTCTCAGAAAAACG.1\" \"GGGATTACGGTTAC.1\" \"AATCCGGATCTCTA.1\"\n",
      "[5] \"ACGGCTCTCTGTTT.1\"\n"
     ]
    },
    {
     "name": "stderr",
     "output_type": "stream",
     "text": [
      "`fData` has no primerid.  I'll make something up.\n",
      "\n",
      "`cData` has no wellKey.  I'll make something up.\n",
      "\n",
      "Assuming data assay in position 1, with name et is log-transformed.\n",
      "\n",
      "\n",
      "Done!\n",
      "\n",
      "Combining coefficients and standard errors\n",
      "\n",
      "Calculating log-fold changes\n",
      "\n",
      "Calculating likelihood ratio tests\n",
      "\n",
      "Refitting on reduced model...\n",
      "\n",
      "\n",
      "Done!\n",
      "\n"
     ]
    },
    {
     "name": "stdout",
     "output_type": "stream",
     "text": [
      "[1] \"GTAATAACTATGGC.1\" \"TAACCGGACTTCCG.1\" \"CTCCACGACTCGCT.1\" \"GCTACAGACATTCT.1\"\n",
      "[5] \"GCAGCGTGTCCCGT.1\"\n"
     ]
    },
    {
     "name": "stderr",
     "output_type": "stream",
     "text": [
      "`fData` has no primerid.  I'll make something up.\n",
      "\n",
      "`cData` has no wellKey.  I'll make something up.\n",
      "\n",
      "Assuming data assay in position 1, with name et is log-transformed.\n",
      "\n",
      "\n",
      "Done!\n",
      "\n",
      "Combining coefficients and standard errors\n",
      "\n",
      "Calculating log-fold changes\n",
      "\n",
      "Calculating likelihood ratio tests\n",
      "\n",
      "Refitting on reduced model...\n",
      "\n",
      "\n",
      "Done!\n",
      "\n"
     ]
    },
    {
     "name": "stdout",
     "output_type": "stream",
     "text": [
      "[1] \"TAGGTGTGACCCTC.1\" \"ATCGTTTGTATGGC.1\" \"TGCAACGATACTGG.1\" \"ATGCAGACTGGATC.1\"\n",
      "[5] \"TACGCCACTGGCAT.1\"\n"
     ]
    },
    {
     "name": "stderr",
     "output_type": "stream",
     "text": [
      "`fData` has no primerid.  I'll make something up.\n",
      "\n",
      "`cData` has no wellKey.  I'll make something up.\n",
      "\n",
      "Assuming data assay in position 1, with name et is log-transformed.\n",
      "\n",
      "\n",
      "Done!\n",
      "\n",
      "Combining coefficients and standard errors\n",
      "\n",
      "Calculating log-fold changes\n",
      "\n",
      "Calculating likelihood ratio tests\n",
      "\n",
      "Refitting on reduced model...\n",
      "\n",
      "\n",
      "Done!\n",
      "\n"
     ]
    },
    {
     "name": "stdout",
     "output_type": "stream",
     "text": [
      "[1] \"TAGGCTGAGCCATA.1\" \"ACGATTCTTGGAAA.1\" \"TGCAAGTGTGGTTG.1\" \"CGACCGGATATTCC.1\"\n",
      "[5] \"AAGTAGGATTATCC.1\"\n"
     ]
    },
    {
     "name": "stderr",
     "output_type": "stream",
     "text": [
      "`fData` has no primerid.  I'll make something up.\n",
      "\n",
      "`cData` has no wellKey.  I'll make something up.\n",
      "\n",
      "Assuming data assay in position 1, with name et is log-transformed.\n",
      "\n",
      "\n",
      "Done!\n",
      "\n",
      "Combining coefficients and standard errors\n",
      "\n",
      "Calculating log-fold changes\n",
      "\n",
      "Calculating likelihood ratio tests\n",
      "\n",
      "Refitting on reduced model...\n",
      "\n",
      "\n",
      "Done!\n",
      "\n"
     ]
    },
    {
     "name": "stdout",
     "output_type": "stream",
     "text": [
      "[1] \"AATCCTTGATGTCG.1\" \"ATACACCTAAAGTG.1\" \"TATACAGACCTTCG.1\" \"AACTCTTGTGTGCA.1\"\n",
      "[5] \"GAGCATACGGATCT.1\"\n"
     ]
    },
    {
     "name": "stderr",
     "output_type": "stream",
     "text": [
      "`fData` has no primerid.  I'll make something up.\n",
      "\n",
      "`cData` has no wellKey.  I'll make something up.\n",
      "\n",
      "Assuming data assay in position 1, with name et is log-transformed.\n",
      "\n",
      "\n",
      "Done!\n",
      "\n",
      "Combining coefficients and standard errors\n",
      "\n",
      "Calculating log-fold changes\n",
      "\n",
      "Calculating likelihood ratio tests\n",
      "\n",
      "Refitting on reduced model...\n",
      "\n",
      "\n",
      "Done!\n",
      "\n"
     ]
    },
    {
     "name": "stdout",
     "output_type": "stream",
     "text": [
      "[1] \"TTATGGCTTTCCGC.1\" \"TATGGGTGTGTCAG.1\" \"CGGCATCTTAAAGG.1\" \"CCCGGAGATACTTC.1\"\n",
      "[5] \"CCACTTCTAACGTC.1\"\n"
     ]
    },
    {
     "name": "stderr",
     "output_type": "stream",
     "text": [
      "`fData` has no primerid.  I'll make something up.\n",
      "\n",
      "`cData` has no wellKey.  I'll make something up.\n",
      "\n",
      "Assuming data assay in position 1, with name et is log-transformed.\n",
      "\n",
      "\n",
      "Done!\n",
      "\n",
      "Combining coefficients and standard errors\n",
      "\n",
      "Calculating log-fold changes\n",
      "\n",
      "Calculating likelihood ratio tests\n",
      "\n",
      "Refitting on reduced model...\n",
      "\n",
      "\n",
      "Done!\n",
      "\n"
     ]
    },
    {
     "name": "stdout",
     "output_type": "stream",
     "text": [
      "[1] \"CACCACTGTAGAGA.1\" \"GCAGTCCTATAAGG.1\" \"GTTGGATGCTCATT.1\" \"CGCAGGACCATGGT.1\"\n",
      "[5] \"GCTACAGATTCAGG.1\"\n"
     ]
    },
    {
     "name": "stderr",
     "output_type": "stream",
     "text": [
      "`fData` has no primerid.  I'll make something up.\n",
      "\n",
      "`cData` has no wellKey.  I'll make something up.\n",
      "\n",
      "Assuming data assay in position 1, with name et is log-transformed.\n",
      "\n",
      "\n",
      "Done!\n",
      "\n",
      "Combining coefficients and standard errors\n",
      "\n",
      "Calculating log-fold changes\n",
      "\n",
      "Calculating likelihood ratio tests\n",
      "\n",
      "Refitting on reduced model...\n",
      "\n",
      "\n",
      "Done!\n",
      "\n"
     ]
    },
    {
     "name": "stdout",
     "output_type": "stream",
     "text": [
      "[1] \"AGATTCCTCTACTT.1\"  \"TTTGACTGATCACG.1\"  \"ATACGGACCGTAGT.11\"\n",
      "[4] \"TCTAACTGCACTCC.1\"  \"AGTCGAACGGGTGA.1\" \n"
     ]
    },
    {
     "name": "stderr",
     "output_type": "stream",
     "text": [
      "`fData` has no primerid.  I'll make something up.\n",
      "\n",
      "`cData` has no wellKey.  I'll make something up.\n",
      "\n",
      "Assuming data assay in position 1, with name et is log-transformed.\n",
      "\n",
      "\n",
      "Done!\n",
      "\n",
      "Combining coefficients and standard errors\n",
      "\n",
      "Calculating log-fold changes\n",
      "\n",
      "Calculating likelihood ratio tests\n",
      "\n",
      "Refitting on reduced model...\n",
      "\n",
      "\n",
      "Done!\n",
      "\n"
     ]
    },
    {
     "name": "stdout",
     "output_type": "stream",
     "text": [
      "[1] \"TAGAATACTGCACA.1\"  \"TAACTCACCATTTC.1\"  \"GACGTAACCGCTAA.11\"\n",
      "[4] \"AGCCAATGCCCTAC.1\"  \"GATAATACTTCTAC.1\" \n"
     ]
    },
    {
     "name": "stderr",
     "output_type": "stream",
     "text": [
      "`fData` has no primerid.  I'll make something up.\n",
      "\n",
      "`cData` has no wellKey.  I'll make something up.\n",
      "\n",
      "Assuming data assay in position 1, with name et is log-transformed.\n",
      "\n",
      "\n",
      "Done!\n",
      "\n",
      "Combining coefficients and standard errors\n",
      "\n",
      "Calculating log-fold changes\n",
      "\n",
      "Calculating likelihood ratio tests\n",
      "\n",
      "Refitting on reduced model...\n",
      "\n",
      "\n",
      "Done!\n",
      "\n"
     ]
    },
    {
     "name": "stdout",
     "output_type": "stream",
     "text": [
      "[1] \"ACAAATTGGTTGTG.1\" \"GTCCAAGATCAGGT.1\" \"CATACTACTGTGCA.1\" \"TCTATGTGTCTTCA.1\"\n",
      "[5] \"GTTTAAGAACACGT.1\"\n"
     ]
    },
    {
     "name": "stderr",
     "output_type": "stream",
     "text": [
      "`fData` has no primerid.  I'll make something up.\n",
      "\n",
      "`cData` has no wellKey.  I'll make something up.\n",
      "\n",
      "Assuming data assay in position 1, with name et is log-transformed.\n",
      "\n",
      "\n",
      "Done!\n",
      "\n",
      "Combining coefficients and standard errors\n",
      "\n",
      "Calculating log-fold changes\n",
      "\n",
      "Calculating likelihood ratio tests\n",
      "\n",
      "Refitting on reduced model...\n",
      "\n",
      "\n",
      "Done!\n",
      "\n"
     ]
    },
    {
     "name": "stdout",
     "output_type": "stream",
     "text": [
      "[1] \"GATTGGACTGGTTG.1\" \"TCCTAAACCGCATA.1\" \"TTCATCGATCAGGT.1\" \"AAGTAGGACAGGAG.1\"\n",
      "[5] \"CGATCCACCCTCGT.1\"\n"
     ]
    },
    {
     "name": "stderr",
     "output_type": "stream",
     "text": [
      "`fData` has no primerid.  I'll make something up.\n",
      "\n",
      "`cData` has no wellKey.  I'll make something up.\n",
      "\n",
      "Assuming data assay in position 1, with name et is log-transformed.\n",
      "\n",
      "\n",
      "Done!\n",
      "\n",
      "Combining coefficients and standard errors\n",
      "\n",
      "Calculating log-fold changes\n",
      "\n",
      "Calculating likelihood ratio tests\n",
      "\n",
      "Refitting on reduced model...\n",
      "\n",
      "\n",
      "Done!\n",
      "\n"
     ]
    },
    {
     "name": "stdout",
     "output_type": "stream",
     "text": [
      "[1] \"AACACTCTTCAAGC.1\" \"ATCGCCTGAGGAGC.1\" \"GTATCACTCTAGCA.1\" \"TGACACGAGTTCGA.1\"\n",
      "[5] \"GTTCATACTCGTAG.1\"\n"
     ]
    },
    {
     "name": "stderr",
     "output_type": "stream",
     "text": [
      "`fData` has no primerid.  I'll make something up.\n",
      "\n",
      "`cData` has no wellKey.  I'll make something up.\n",
      "\n",
      "Assuming data assay in position 1, with name et is log-transformed.\n",
      "\n",
      "\n",
      "Done!\n",
      "\n",
      "Combining coefficients and standard errors\n",
      "\n",
      "Calculating log-fold changes\n",
      "\n",
      "Calculating likelihood ratio tests\n",
      "\n",
      "Refitting on reduced model...\n",
      "\n",
      "\n",
      "Done!\n",
      "\n"
     ]
    },
    {
     "name": "stdout",
     "output_type": "stream",
     "text": [
      "[1] \"TGTACTTGAGCGGA.1\" \"AAAGATCTACCCTC.1\" \"TCAGGATGTGCATG.1\" \"TATTGCTGTGACAC.1\"\n",
      "[5] \"CAAGGTTGCTTTAC.1\"\n"
     ]
    },
    {
     "name": "stderr",
     "output_type": "stream",
     "text": [
      "`fData` has no primerid.  I'll make something up.\n",
      "\n",
      "`cData` has no wellKey.  I'll make something up.\n",
      "\n",
      "Assuming data assay in position 1, with name et is log-transformed.\n",
      "\n",
      "\n",
      "Done!\n",
      "\n",
      "Combining coefficients and standard errors\n",
      "\n",
      "Calculating log-fold changes\n",
      "\n",
      "Calculating likelihood ratio tests\n",
      "\n",
      "Refitting on reduced model...\n",
      "\n",
      "\n",
      "Done!\n",
      "\n"
     ]
    },
    {
     "name": "stdout",
     "output_type": "stream",
     "text": [
      "[1] \"TGATTCACCGAATC.1\" \"TTAACCACCTGCAA.1\" \"TATCTTCTTCTACT.1\" \"GGACCGTGCAAAGA.1\"\n",
      "[5] \"GCCTAGCTTGCCTC.1\"\n"
     ]
    },
    {
     "name": "stderr",
     "output_type": "stream",
     "text": [
      "`fData` has no primerid.  I'll make something up.\n",
      "\n",
      "`cData` has no wellKey.  I'll make something up.\n",
      "\n",
      "Assuming data assay in position 1, with name et is log-transformed.\n",
      "\n",
      "\n",
      "Done!\n",
      "\n",
      "Combining coefficients and standard errors\n",
      "\n",
      "Calculating log-fold changes\n",
      "\n",
      "Calculating likelihood ratio tests\n",
      "\n",
      "Refitting on reduced model...\n",
      "\n",
      "\n",
      "Done!\n",
      "\n"
     ]
    },
    {
     "name": "stdout",
     "output_type": "stream",
     "text": [
      "[1] \"GACGTAACTGCTCC.1\" \"AGCTTTACAGAATG.1\" \"TTAGGGTGTTTCGT.1\" \"CAGGGCACCGGAGA.1\"\n",
      "[5] \"ATCCATACATTCCT.1\"\n"
     ]
    },
    {
     "name": "stderr",
     "output_type": "stream",
     "text": [
      "`fData` has no primerid.  I'll make something up.\n",
      "\n",
      "`cData` has no wellKey.  I'll make something up.\n",
      "\n",
      "Assuming data assay in position 1, with name et is log-transformed.\n",
      "\n",
      "\n",
      "Done!\n",
      "\n",
      "Combining coefficients and standard errors\n",
      "\n",
      "Calculating log-fold changes\n",
      "\n",
      "Calculating likelihood ratio tests\n",
      "\n",
      "Refitting on reduced model...\n",
      "\n",
      "\n",
      "Done!\n",
      "\n"
     ]
    },
    {
     "name": "stdout",
     "output_type": "stream",
     "text": [
      "[1] \"TCTAACACGAATGA.1\" \"AGAATTTGCAACTG.1\" \"GAAGGGTGCATCAG.1\" \"TTCATGACCCGTAA.1\"\n",
      "[5] \"TTAGACCTAGTGTC.1\"\n"
     ]
    },
    {
     "name": "stderr",
     "output_type": "stream",
     "text": [
      "`fData` has no primerid.  I'll make something up.\n",
      "\n",
      "`cData` has no wellKey.  I'll make something up.\n",
      "\n",
      "Assuming data assay in position 1, with name et is log-transformed.\n",
      "\n",
      "\n",
      "Done!\n",
      "\n",
      "Combining coefficients and standard errors\n",
      "\n",
      "Calculating log-fold changes\n",
      "\n",
      "Calculating likelihood ratio tests\n",
      "\n",
      "Refitting on reduced model...\n",
      "\n",
      "\n",
      "Done!\n",
      "\n"
     ]
    },
    {
     "name": "stdout",
     "output_type": "stream",
     "text": [
      "[1] \"GAGAGGTGAAGGCG.1\" \"TACCATTGTGCGTA.1\" \"GGCGACACTTTGGG.1\" \"ATCACTACTGGTAC.1\"\n",
      "[5] \"AAGTGGCTACTGTG.1\"\n"
     ]
    },
    {
     "name": "stderr",
     "output_type": "stream",
     "text": [
      "`fData` has no primerid.  I'll make something up.\n",
      "\n",
      "`cData` has no wellKey.  I'll make something up.\n",
      "\n",
      "Assuming data assay in position 1, with name et is log-transformed.\n",
      "\n",
      "\n",
      "Done!\n",
      "\n",
      "Combining coefficients and standard errors\n",
      "\n",
      "Calculating log-fold changes\n",
      "\n",
      "Calculating likelihood ratio tests\n",
      "\n",
      "Refitting on reduced model...\n",
      "\n",
      "\n",
      "Done!\n",
      "\n"
     ]
    },
    {
     "name": "stdout",
     "output_type": "stream",
     "text": [
      "[1] \"CGAGGCACGTCCTC.1\" \"CGAAGACTCCTCGT.1\" \"TAGTCTTGTAGCCA.1\" \"CAGGGCACGACAGG.1\"\n",
      "[5] \"AACTGTCTCTATGG.1\"\n"
     ]
    },
    {
     "name": "stderr",
     "output_type": "stream",
     "text": [
      "`fData` has no primerid.  I'll make something up.\n",
      "\n",
      "`cData` has no wellKey.  I'll make something up.\n",
      "\n",
      "Assuming data assay in position 1, with name et is log-transformed.\n",
      "\n",
      "\n",
      "Done!\n",
      "\n",
      "Combining coefficients and standard errors\n",
      "\n",
      "Calculating log-fold changes\n",
      "\n",
      "Calculating likelihood ratio tests\n",
      "\n",
      "Refitting on reduced model...\n",
      "\n",
      "\n",
      "Done!\n",
      "\n"
     ]
    },
    {
     "name": "stdout",
     "output_type": "stream",
     "text": [
      "[1] \"TAACTCACTTCCCG.1\" \"TATCACTGTTGTCT.1\" \"TTCATCGATGAGAA.1\" \"ATACCTACGTAAGA.1\"\n",
      "[5] \"CTGGATGAACAGCT.1\"\n"
     ]
    },
    {
     "name": "stderr",
     "output_type": "stream",
     "text": [
      "`fData` has no primerid.  I'll make something up.\n",
      "\n",
      "`cData` has no wellKey.  I'll make something up.\n",
      "\n",
      "Assuming data assay in position 1, with name et is log-transformed.\n",
      "\n",
      "\n",
      "Done!\n",
      "\n",
      "Combining coefficients and standard errors\n",
      "\n",
      "Calculating log-fold changes\n",
      "\n",
      "Calculating likelihood ratio tests\n",
      "\n",
      "Refitting on reduced model...\n",
      "\n",
      "\n",
      "Done!\n",
      "\n"
     ]
    },
    {
     "name": "stdout",
     "output_type": "stream",
     "text": [
      "[1] \"CATTTGACACTTTC.1\" \"TACCATTGTCGACA.1\" \"TTAGTCTGTAGCCA.1\" \"TATCCAACGAATAG.1\"\n",
      "[5] \"ATGAGCACCCTGTC.1\"\n"
     ]
    },
    {
     "name": "stderr",
     "output_type": "stream",
     "text": [
      "`fData` has no primerid.  I'll make something up.\n",
      "\n",
      "`cData` has no wellKey.  I'll make something up.\n",
      "\n",
      "Assuming data assay in position 1, with name et is log-transformed.\n",
      "\n",
      "\n",
      "Done!\n",
      "\n",
      "Combining coefficients and standard errors\n",
      "\n",
      "Calculating log-fold changes\n",
      "\n",
      "Calculating likelihood ratio tests\n",
      "\n",
      "Refitting on reduced model...\n",
      "\n",
      "\n",
      "Done!\n",
      "\n"
     ]
    },
    {
     "name": "stdout",
     "output_type": "stream",
     "text": [
      "[1] \"TAGGTCGACCTATT.1\" \"AAACATTGTAGCCA.1\" \"GATCGAACGGGTGA.1\" \"AGGAAATGGAAACA.1\"\n",
      "[5] \"GACAACTGTCGTAG.1\"\n"
     ]
    },
    {
     "name": "stderr",
     "output_type": "stream",
     "text": [
      "`fData` has no primerid.  I'll make something up.\n",
      "\n",
      "`cData` has no wellKey.  I'll make something up.\n",
      "\n",
      "Assuming data assay in position 1, with name et is log-transformed.\n",
      "\n",
      "\n",
      "Done!\n",
      "\n",
      "Combining coefficients and standard errors\n",
      "\n",
      "Calculating log-fold changes\n",
      "\n",
      "Calculating likelihood ratio tests\n",
      "\n",
      "Refitting on reduced model...\n",
      "\n",
      "\n",
      "Done!\n",
      "\n"
     ]
    },
    {
     "name": "stdout",
     "output_type": "stream",
     "text": [
      "[1] \"ACCAGTGAAGCCTA.1\" \"GTAGCAACTGTGAC.1\" \"GCTACAGACTTGCC.1\" \"TACGAGTGCTACGA.1\"\n",
      "[5] \"TTGAACCTCCGTAA.1\"\n"
     ]
    },
    {
     "name": "stderr",
     "output_type": "stream",
     "text": [
      "`fData` has no primerid.  I'll make something up.\n",
      "\n",
      "`cData` has no wellKey.  I'll make something up.\n",
      "\n",
      "Assuming data assay in position 1, with name et is log-transformed.\n",
      "\n",
      "\n",
      "Done!\n",
      "\n",
      "Combining coefficients and standard errors\n",
      "\n",
      "Calculating log-fold changes\n",
      "\n",
      "Calculating likelihood ratio tests\n",
      "\n",
      "Refitting on reduced model...\n",
      "\n",
      "\n",
      "Done!\n",
      "\n"
     ]
    },
    {
     "name": "stdout",
     "output_type": "stream",
     "text": [
      "[1] \"TACCATTGGCTACA.1\" \"TCGCAAGATGAGAA.1\" \"ATGGTGACCCCAAA.1\" \"GCAAACTGCGTAAC.1\"\n",
      "[5] \"TAAAGTTGGTCGTA.1\"\n"
     ]
    },
    {
     "name": "stderr",
     "output_type": "stream",
     "text": [
      "`fData` has no primerid.  I'll make something up.\n",
      "\n",
      "`cData` has no wellKey.  I'll make something up.\n",
      "\n",
      "Assuming data assay in position 1, with name et is log-transformed.\n",
      "\n",
      "\n",
      "Done!\n",
      "\n",
      "Combining coefficients and standard errors\n",
      "\n",
      "Calculating log-fold changes\n",
      "\n",
      "Calculating likelihood ratio tests\n",
      "\n",
      "Refitting on reduced model...\n",
      "\n",
      "\n",
      "Done!\n",
      "\n"
     ]
    },
    {
     "name": "stdout",
     "output_type": "stream",
     "text": [
      "[1] \"CCAAGTGAGCTTAG.1\" \"CGACTCACACGTTG.1\" \"CTCTAAACGGACAG.1\" \"TCAGTTACATCGGT.1\"\n",
      "[5] \"GAGGACGAGGTTTG.1\"\n"
     ]
    },
    {
     "name": "stderr",
     "output_type": "stream",
     "text": [
      "`fData` has no primerid.  I'll make something up.\n",
      "\n",
      "`cData` has no wellKey.  I'll make something up.\n",
      "\n",
      "Assuming data assay in position 1, with name et is log-transformed.\n",
      "\n",
      "\n",
      "Done!\n",
      "\n",
      "Combining coefficients and standard errors\n",
      "\n",
      "Calculating log-fold changes\n",
      "\n",
      "Calculating likelihood ratio tests\n",
      "\n",
      "Refitting on reduced model...\n",
      "\n",
      "\n",
      "Done!\n",
      "\n"
     ]
    },
    {
     "name": "stdout",
     "output_type": "stream",
     "text": [
      "[1] \"ACTCTATGGTACGT.11\" \"CCTAGAGAGGATTC.1\"  \"GGCGCATGCCTTGC.1\" \n",
      "[4] \"CAGTCAGAGACACT.1\"  \"ATCTCAACGTCAAC.11\"\n"
     ]
    },
    {
     "name": "stderr",
     "output_type": "stream",
     "text": [
      "`fData` has no primerid.  I'll make something up.\n",
      "\n",
      "`cData` has no wellKey.  I'll make something up.\n",
      "\n",
      "Assuming data assay in position 1, with name et is log-transformed.\n",
      "\n",
      "\n",
      "Done!\n",
      "\n",
      "Combining coefficients and standard errors\n",
      "\n",
      "Calculating log-fold changes\n",
      "\n",
      "Calculating likelihood ratio tests\n",
      "\n",
      "Refitting on reduced model...\n",
      "\n",
      "\n",
      "Done!\n",
      "\n"
     ]
    },
    {
     "name": "stdout",
     "output_type": "stream",
     "text": [
      "[1] \"GAAACAGATGCTCC.1\" \"ATACGTCTACTCAG.1\" \"GTAGACTGTTATCC.1\" \"GGAGGTGAGTGTTG.1\"\n",
      "[5] \"CGATAGACGAGGAC.1\"\n"
     ]
    },
    {
     "name": "stderr",
     "output_type": "stream",
     "text": [
      "`fData` has no primerid.  I'll make something up.\n",
      "\n",
      "`cData` has no wellKey.  I'll make something up.\n",
      "\n",
      "Assuming data assay in position 1, with name et is log-transformed.\n",
      "\n",
      "\n",
      "Done!\n",
      "\n",
      "Combining coefficients and standard errors\n",
      "\n",
      "Calculating log-fold changes\n",
      "\n",
      "Calculating likelihood ratio tests\n",
      "\n",
      "Refitting on reduced model...\n",
      "\n",
      "\n",
      "Done!\n",
      "\n"
     ]
    },
    {
     "name": "stdout",
     "output_type": "stream",
     "text": [
      "[1] \"AGCTGAACGCATCA.1\" \"AGTGCAACCGGTAT.1\" \"GGACCCGATCCTAT.1\" \"GTACAGTGGCTTAG.1\"\n",
      "[5] \"CTTATCGATCTCGC.1\"\n"
     ]
    },
    {
     "name": "stderr",
     "output_type": "stream",
     "text": [
      "`fData` has no primerid.  I'll make something up.\n",
      "\n",
      "`cData` has no wellKey.  I'll make something up.\n",
      "\n",
      "Assuming data assay in position 1, with name et is log-transformed.\n",
      "\n",
      "\n",
      "Done!\n",
      "\n",
      "Combining coefficients and standard errors\n",
      "\n",
      "Calculating log-fold changes\n",
      "\n",
      "Calculating likelihood ratio tests\n",
      "\n",
      "Refitting on reduced model...\n",
      "\n",
      "\n",
      "Done!\n",
      "\n"
     ]
    },
    {
     "name": "stdout",
     "output_type": "stream",
     "text": [
      "[1] \"TGAGTCGAGCGTAT.1\" \"CCGGAGTGTCTGGA.1\" \"GCTAGAACGAACTC.1\" \"GACGTATGACAGCT.1\"\n",
      "[5] \"GGATTGTGGTGCAT.1\"\n"
     ]
    },
    {
     "name": "stderr",
     "output_type": "stream",
     "text": [
      "`fData` has no primerid.  I'll make something up.\n",
      "\n",
      "`cData` has no wellKey.  I'll make something up.\n",
      "\n",
      "Assuming data assay in position 1, with name et is log-transformed.\n",
      "\n",
      "\n",
      "Done!\n",
      "\n",
      "Combining coefficients and standard errors\n",
      "\n",
      "Calculating log-fold changes\n",
      "\n",
      "Calculating likelihood ratio tests\n",
      "\n",
      "Refitting on reduced model...\n",
      "\n",
      "\n",
      "Done!\n",
      "\n"
     ]
    },
    {
     "name": "stdout",
     "output_type": "stream",
     "text": [
      "[1] \"TCACCCGACGTGTA.1\" \"GGACCCGACCGTTC.1\" \"AGCATTCTGACTAC.1\" \"AGATCGTGACCTTT.1\"\n",
      "[5] \"AATCTAGACGACTA.1\"\n"
     ]
    },
    {
     "name": "stderr",
     "output_type": "stream",
     "text": [
      "`fData` has no primerid.  I'll make something up.\n",
      "\n",
      "`cData` has no wellKey.  I'll make something up.\n",
      "\n",
      "Assuming data assay in position 1, with name et is log-transformed.\n",
      "\n",
      "\n",
      "Done!\n",
      "\n",
      "Combining coefficients and standard errors\n",
      "\n",
      "Calculating log-fold changes\n",
      "\n",
      "Calculating likelihood ratio tests\n",
      "\n",
      "Refitting on reduced model...\n",
      "\n",
      "\n",
      "Done!\n",
      "\n"
     ]
    },
    {
     "name": "stdout",
     "output_type": "stream",
     "text": [
      "[1] \"GTTATAGAATTTCC.1\" \"GGACCGTGTCCGTC.1\" \"TCGCAAGATGAGAA.1\" \"GCGTAAACGTTAGC.1\"\n",
      "[5] \"CACCACTGTAGAGA.1\"\n"
     ]
    },
    {
     "name": "stderr",
     "output_type": "stream",
     "text": [
      "`fData` has no primerid.  I'll make something up.\n",
      "\n",
      "`cData` has no wellKey.  I'll make something up.\n",
      "\n",
      "Assuming data assay in position 1, with name et is log-transformed.\n",
      "\n",
      "\n",
      "Done!\n",
      "\n",
      "Combining coefficients and standard errors\n",
      "\n",
      "Calculating log-fold changes\n",
      "\n",
      "Calculating likelihood ratio tests\n",
      "\n",
      "Refitting on reduced model...\n",
      "\n",
      "\n",
      "Done!\n",
      "\n"
     ]
    },
    {
     "name": "stdout",
     "output_type": "stream",
     "text": [
      "[1] \"TTCGTATGTTCCGC.1\" \"AGATTAACGTATCG.1\" \"CAGATGACGGGCAA.1\" \"AATGTAACTGCATG.1\"\n",
      "[5] \"AGTTTGCTTCAAGC.1\"\n"
     ]
    },
    {
     "name": "stderr",
     "output_type": "stream",
     "text": [
      "`fData` has no primerid.  I'll make something up.\n",
      "\n",
      "`cData` has no wellKey.  I'll make something up.\n",
      "\n",
      "Assuming data assay in position 1, with name et is log-transformed.\n",
      "\n",
      "\n",
      "Done!\n",
      "\n",
      "Combining coefficients and standard errors\n",
      "\n",
      "Calculating log-fold changes\n",
      "\n",
      "Calculating likelihood ratio tests\n",
      "\n",
      "Refitting on reduced model...\n",
      "\n",
      "\n",
      "Done!\n",
      "\n"
     ]
    },
    {
     "name": "stdout",
     "output_type": "stream",
     "text": [
      "[1] \"GGACCCGACCGTTC.1\" \"TTCGAGGAACGGTT.1\" \"TCACATACCTTGCC.1\" \"GCAGCCGACTCCAC.1\"\n",
      "[5] \"CCTTAATGGATAGA.1\"\n"
     ]
    },
    {
     "name": "stderr",
     "output_type": "stream",
     "text": [
      "`fData` has no primerid.  I'll make something up.\n",
      "\n",
      "`cData` has no wellKey.  I'll make something up.\n",
      "\n",
      "Assuming data assay in position 1, with name et is log-transformed.\n",
      "\n",
      "\n",
      "Done!\n",
      "\n",
      "Combining coefficients and standard errors\n",
      "\n",
      "Calculating log-fold changes\n",
      "\n",
      "Calculating likelihood ratio tests\n",
      "\n",
      "Refitting on reduced model...\n",
      "\n",
      "\n",
      "Done!\n",
      "\n"
     ]
    },
    {
     "name": "stdout",
     "output_type": "stream",
     "text": [
      "[1] \"AGCGAACTTATGCG.1\" \"GCATTGGATCCGAA.1\" \"CCATGCTGCTGTGA.1\" \"CGACTGCTAGTACC.1\"\n",
      "[5] \"AGAATACTTTCCGC.1\"\n"
     ]
    },
    {
     "name": "stderr",
     "output_type": "stream",
     "text": [
      "`fData` has no primerid.  I'll make something up.\n",
      "\n",
      "`cData` has no wellKey.  I'll make something up.\n",
      "\n",
      "Assuming data assay in position 1, with name et is log-transformed.\n",
      "\n",
      "\n",
      "Done!\n",
      "\n",
      "Combining coefficients and standard errors\n",
      "\n",
      "Calculating log-fold changes\n",
      "\n",
      "Calculating likelihood ratio tests\n",
      "\n",
      "Refitting on reduced model...\n",
      "\n",
      "\n",
      "Done!\n",
      "\n"
     ]
    },
    {
     "name": "stdout",
     "output_type": "stream",
     "text": [
      "[1] \"CGCATAGATCCGTC.1\" \"TAGCCGCTGAAGGC.1\" \"TCAGACGAAAGCAA.1\" \"CCAATGGATGCATG.1\"\n",
      "[5] \"CAACGTGAGAGGGT.1\"\n"
     ]
    },
    {
     "name": "stderr",
     "output_type": "stream",
     "text": [
      "`fData` has no primerid.  I'll make something up.\n",
      "\n",
      "`cData` has no wellKey.  I'll make something up.\n",
      "\n",
      "Assuming data assay in position 1, with name et is log-transformed.\n",
      "\n",
      "\n",
      "Done!\n",
      "\n",
      "Combining coefficients and standard errors\n",
      "\n",
      "Calculating log-fold changes\n",
      "\n",
      "Calculating likelihood ratio tests\n",
      "\n",
      "Refitting on reduced model...\n",
      "\n",
      "\n",
      "Done!\n",
      "\n"
     ]
    },
    {
     "name": "stdout",
     "output_type": "stream",
     "text": [
      "[1] \"CCAAGTGATACGAC.1\" \"GAGGATCTTCACGA.1\" \"TCGAATCTCCTTCG.1\" \"ACGCAATGGTCTAG.1\"\n",
      "[5] \"TGAGCTGAACCATG.1\"\n"
     ]
    },
    {
     "name": "stderr",
     "output_type": "stream",
     "text": [
      "`fData` has no primerid.  I'll make something up.\n",
      "\n",
      "`cData` has no wellKey.  I'll make something up.\n",
      "\n",
      "Assuming data assay in position 1, with name et is log-transformed.\n",
      "\n",
      "\n",
      "Done!\n",
      "\n",
      "Combining coefficients and standard errors\n",
      "\n",
      "Calculating log-fold changes\n",
      "\n",
      "Calculating likelihood ratio tests\n",
      "\n",
      "Refitting on reduced model...\n",
      "\n",
      "\n",
      "Done!\n",
      "\n"
     ]
    },
    {
     "name": "stdout",
     "output_type": "stream",
     "text": [
      "[1] \"CCCAACTGACGTTG.1\" \"CTATGTTGTGTTCT.1\" \"TGAAGCTGCGACAT.1\" \"TTTATCCTGGAAAT.1\"\n",
      "[5] \"ATGGACACCCGCTT.1\"\n"
     ]
    },
    {
     "name": "stderr",
     "output_type": "stream",
     "text": [
      "`fData` has no primerid.  I'll make something up.\n",
      "\n",
      "`cData` has no wellKey.  I'll make something up.\n",
      "\n",
      "Assuming data assay in position 1, with name et is log-transformed.\n",
      "\n",
      "\n",
      "Done!\n",
      "\n",
      "Combining coefficients and standard errors\n",
      "\n",
      "Calculating log-fold changes\n",
      "\n",
      "Calculating likelihood ratio tests\n",
      "\n",
      "Refitting on reduced model...\n",
      "\n",
      "\n",
      "Done!\n",
      "\n"
     ]
    },
    {
     "name": "stdout",
     "output_type": "stream",
     "text": [
      "[1] \"GCTTAACTCCTTGC.1\" \"AAGAGATGAACAGA.1\" \"GAAACAGATGGTAC.1\" \"AAGCCTGAAGCTCA.1\"\n",
      "[5] \"AATGTTGACGCAAT.1\"\n"
     ]
    },
    {
     "name": "stderr",
     "output_type": "stream",
     "text": [
      "`fData` has no primerid.  I'll make something up.\n",
      "\n",
      "`cData` has no wellKey.  I'll make something up.\n",
      "\n",
      "Assuming data assay in position 1, with name et is log-transformed.\n",
      "\n",
      "\n",
      "Done!\n",
      "\n",
      "Combining coefficients and standard errors\n",
      "\n",
      "Calculating log-fold changes\n",
      "\n",
      "Calculating likelihood ratio tests\n",
      "\n",
      "Refitting on reduced model...\n",
      "\n",
      "\n",
      "Done!\n",
      "\n"
     ]
    },
    {
     "name": "stdout",
     "output_type": "stream",
     "text": [
      "[1] \"GATTGGACTGTTTC.1\" \"ACCATTACATGGTC.1\" \"TCGTAGGACCTTAT.1\" \"TGTCAGGACATGAC.1\"\n",
      "[5] \"ACACCAGAAATCGC.1\"\n"
     ]
    },
    {
     "name": "stderr",
     "output_type": "stream",
     "text": [
      "`fData` has no primerid.  I'll make something up.\n",
      "\n",
      "`cData` has no wellKey.  I'll make something up.\n",
      "\n",
      "Assuming data assay in position 1, with name et is log-transformed.\n",
      "\n",
      "\n",
      "Done!\n",
      "\n",
      "Combining coefficients and standard errors\n",
      "\n",
      "Calculating log-fold changes\n",
      "\n",
      "Calculating likelihood ratio tests\n",
      "\n",
      "Refitting on reduced model...\n",
      "\n",
      "\n",
      "Done!\n",
      "\n"
     ]
    },
    {
     "name": "stdout",
     "output_type": "stream",
     "text": [
      "[1] \"AATGGAGATCTACT.1\" \"GTAGACTGGCTGTA.1\" \"ATTACCTGTCCAGA.1\" \"TGACCAGATCAGTG.1\"\n",
      "[5] \"CAGCATGATGTCAG.1\"\n"
     ]
    },
    {
     "name": "stderr",
     "output_type": "stream",
     "text": [
      "`fData` has no primerid.  I'll make something up.\n",
      "\n",
      "`cData` has no wellKey.  I'll make something up.\n",
      "\n",
      "Assuming data assay in position 1, with name et is log-transformed.\n",
      "\n",
      "\n",
      "Done!\n",
      "\n",
      "Combining coefficients and standard errors\n",
      "\n",
      "Calculating log-fold changes\n",
      "\n",
      "Calculating likelihood ratio tests\n",
      "\n",
      "Refitting on reduced model...\n",
      "\n",
      "\n",
      "Done!\n",
      "\n"
     ]
    },
    {
     "name": "stdout",
     "output_type": "stream",
     "text": [
      "[1] \"ACGCAATGGTCTAG.1\" \"TCGACGCTGGCATT.1\" \"CGACAAACTGTAGC.1\" \"GATAGAGAAGAAGT.1\"\n",
      "[5] \"TGGAAAGAACACCA.1\"\n"
     ]
    },
    {
     "name": "stderr",
     "output_type": "stream",
     "text": [
      "`fData` has no primerid.  I'll make something up.\n",
      "\n",
      "`cData` has no wellKey.  I'll make something up.\n",
      "\n",
      "Assuming data assay in position 1, with name et is log-transformed.\n",
      "\n",
      "\n",
      "Done!\n",
      "\n",
      "Combining coefficients and standard errors\n",
      "\n",
      "Calculating log-fold changes\n",
      "\n",
      "Calculating likelihood ratio tests\n",
      "\n",
      "Refitting on reduced model...\n",
      "\n",
      "\n",
      "Done!\n",
      "\n"
     ]
    },
    {
     "name": "stdout",
     "output_type": "stream",
     "text": [
      "[1] \"CAATCTACGGTTAC.1\" \"GCGACTCTAGTGTC.1\" \"TTCCCACTTGATGC.1\" \"CTCGCATGTTGACG.1\"\n",
      "[5] \"AAGCACTGAGGTCT.1\"\n"
     ]
    },
    {
     "name": "stderr",
     "output_type": "stream",
     "text": [
      "`fData` has no primerid.  I'll make something up.\n",
      "\n",
      "`cData` has no wellKey.  I'll make something up.\n",
      "\n",
      "Assuming data assay in position 1, with name et is log-transformed.\n",
      "\n",
      "\n",
      "Done!\n",
      "\n",
      "Combining coefficients and standard errors\n",
      "\n",
      "Calculating log-fold changes\n",
      "\n",
      "Calculating likelihood ratio tests\n",
      "\n",
      "Refitting on reduced model...\n",
      "\n",
      "\n",
      "Done!\n",
      "\n"
     ]
    },
    {
     "name": "stdout",
     "output_type": "stream",
     "text": [
      "[1] \"ATCACTTGCTAGCA.1\" \"ACGATGACGTTACG.1\" \"GCGTATGATTCATC.1\" \"GGTAGTACAGTTCG.1\"\n",
      "[5] \"GTAGTGACGCCTTC.1\"\n"
     ]
    },
    {
     "name": "stderr",
     "output_type": "stream",
     "text": [
      "`fData` has no primerid.  I'll make something up.\n",
      "\n",
      "`cData` has no wellKey.  I'll make something up.\n",
      "\n",
      "Assuming data assay in position 1, with name et is log-transformed.\n",
      "\n",
      "\n",
      "Done!\n",
      "\n",
      "Combining coefficients and standard errors\n",
      "\n",
      "Calculating log-fold changes\n",
      "\n",
      "Calculating likelihood ratio tests\n",
      "\n",
      "Refitting on reduced model...\n",
      "\n",
      "\n",
      "Done!\n",
      "\n"
     ]
    },
    {
     "name": "stdout",
     "output_type": "stream",
     "text": [
      "[1] \"TATCCTGATGGCAT.1\"  \"GTTAGGTGGTTGGT.1\"  \"AGCGGCTGACACGT.1\" \n",
      "[4] \"TCGCACACTGGAAA.11\" \"GGCCCAGATGCTTT.1\" \n"
     ]
    },
    {
     "name": "stderr",
     "output_type": "stream",
     "text": [
      "`fData` has no primerid.  I'll make something up.\n",
      "\n",
      "`cData` has no wellKey.  I'll make something up.\n",
      "\n",
      "Assuming data assay in position 1, with name et is log-transformed.\n",
      "\n",
      "\n",
      "Done!\n",
      "\n",
      "Combining coefficients and standard errors\n",
      "\n",
      "Calculating log-fold changes\n",
      "\n",
      "Calculating likelihood ratio tests\n",
      "\n",
      "Refitting on reduced model...\n",
      "\n",
      "\n",
      "Done!\n",
      "\n"
     ]
    },
    {
     "name": "stdout",
     "output_type": "stream",
     "text": [
      "[1] \"GTGTACGAGAAGGC.1\" \"AGCCAATGAGTGCT.1\" \"GTTGATCTACTTTC.1\" \"CGCTCATGTCAGTG.1\"\n",
      "[5] \"CAATAAACGACGGA.1\"\n"
     ]
    },
    {
     "name": "stderr",
     "output_type": "stream",
     "text": [
      "`fData` has no primerid.  I'll make something up.\n",
      "\n",
      "`cData` has no wellKey.  I'll make something up.\n",
      "\n",
      "Assuming data assay in position 1, with name et is log-transformed.\n",
      "\n",
      "\n",
      "Done!\n",
      "\n",
      "Combining coefficients and standard errors\n",
      "\n",
      "Calculating log-fold changes\n",
      "\n",
      "Calculating likelihood ratio tests\n",
      "\n",
      "Refitting on reduced model...\n",
      "\n",
      "\n",
      "Done!\n",
      "\n"
     ]
    },
    {
     "name": "stdout",
     "output_type": "stream",
     "text": [
      "[1] \"AGTGTTCTTTGCGA.1\" \"AACATATGGCTCCT.1\" \"CATGAGACAGGTCT.1\" \"ATTCAGCTACGTGT.1\"\n",
      "[5] \"CGAAGGGATGGTGT.1\"\n"
     ]
    },
    {
     "name": "stderr",
     "output_type": "stream",
     "text": [
      "`fData` has no primerid.  I'll make something up.\n",
      "\n",
      "`cData` has no wellKey.  I'll make something up.\n",
      "\n",
      "Assuming data assay in position 1, with name et is log-transformed.\n",
      "\n",
      "\n",
      "Done!\n",
      "\n",
      "Combining coefficients and standard errors\n",
      "\n",
      "Calculating log-fold changes\n",
      "\n",
      "Calculating likelihood ratio tests\n",
      "\n",
      "Refitting on reduced model...\n",
      "\n",
      "\n",
      "Done!\n",
      "\n"
     ]
    },
    {
     "name": "stdout",
     "output_type": "stream",
     "text": [
      "[1] \"ACATGGTGGAATAG.1\" \"AAGAGATGTGCAAC.1\" \"GTACGAACACCTAG.1\" \"CGACCGGAGCGGAA.1\"\n",
      "[5] \"TAGCCGCTGAAGGC.1\"\n"
     ]
    },
    {
     "name": "stderr",
     "output_type": "stream",
     "text": [
      "`fData` has no primerid.  I'll make something up.\n",
      "\n",
      "`cData` has no wellKey.  I'll make something up.\n",
      "\n",
      "Assuming data assay in position 1, with name et is log-transformed.\n",
      "\n",
      "\n",
      "Done!\n",
      "\n",
      "Combining coefficients and standard errors\n",
      "\n",
      "Calculating log-fold changes\n",
      "\n",
      "Calculating likelihood ratio tests\n",
      "\n",
      "Refitting on reduced model...\n",
      "\n",
      "\n",
      "Done!\n",
      "\n"
     ]
    },
    {
     "name": "stdout",
     "output_type": "stream",
     "text": [
      "[1] \"GATACTCTAACCTG.1\" \"AGCACAACGACGAG.1\" \"AGTTTCACACACTG.1\" \"ATAGCTCTGGATCT.1\"\n",
      "[5] \"TGATTCTGGTAGGG.1\"\n"
     ]
    },
    {
     "name": "stderr",
     "output_type": "stream",
     "text": [
      "`fData` has no primerid.  I'll make something up.\n",
      "\n",
      "`cData` has no wellKey.  I'll make something up.\n",
      "\n",
      "Assuming data assay in position 1, with name et is log-transformed.\n",
      "\n",
      "\n",
      "Done!\n",
      "\n",
      "Combining coefficients and standard errors\n",
      "\n",
      "Calculating log-fold changes\n",
      "\n",
      "Calculating likelihood ratio tests\n",
      "\n",
      "Refitting on reduced model...\n",
      "\n",
      "\n",
      "Done!\n",
      "\n"
     ]
    },
    {
     "name": "stdout",
     "output_type": "stream",
     "text": [
      "[1] \"TAGGAGCTCATTCT.1\" \"TCGACGCTTGACAC.1\" \"TAAGGGCTACCTGA.1\" \"GGAACACTCCGTAA.1\"\n",
      "[5] \"AATAAGCTTGTGCA.1\"\n"
     ]
    },
    {
     "name": "stderr",
     "output_type": "stream",
     "text": [
      "`fData` has no primerid.  I'll make something up.\n",
      "\n",
      "`cData` has no wellKey.  I'll make something up.\n",
      "\n",
      "Assuming data assay in position 1, with name et is log-transformed.\n",
      "\n",
      "\n",
      "Done!\n",
      "\n",
      "Combining coefficients and standard errors\n",
      "\n",
      "Calculating log-fold changes\n",
      "\n",
      "Calculating likelihood ratio tests\n",
      "\n",
      "Refitting on reduced model...\n",
      "\n",
      "\n",
      "Done!\n",
      "\n"
     ]
    },
    {
     "name": "stdout",
     "output_type": "stream",
     "text": [
      "[1] \"TTCACCCTTGCACA.1\" \"AGTTGTCTTCCGAA.1\" \"ACGCTCACGGTAGG.1\" \"GTGATGACGCATCA.1\"\n",
      "[5] \"AAGAATCTCGTACA.1\"\n"
     ]
    },
    {
     "name": "stderr",
     "output_type": "stream",
     "text": [
      "`fData` has no primerid.  I'll make something up.\n",
      "\n",
      "`cData` has no wellKey.  I'll make something up.\n",
      "\n",
      "Assuming data assay in position 1, with name et is log-transformed.\n",
      "\n",
      "\n",
      "Done!\n",
      "\n",
      "Combining coefficients and standard errors\n",
      "\n",
      "Calculating log-fold changes\n",
      "\n",
      "Calculating likelihood ratio tests\n",
      "\n",
      "Refitting on reduced model...\n",
      "\n",
      "\n",
      "Done!\n",
      "\n"
     ]
    },
    {
     "name": "stdout",
     "output_type": "stream",
     "text": [
      "[1] \"TTCATGTGCTCTAT.1\" \"ACGCCACTTTCGGA.1\" \"AACATTGATGGTGT.1\" \"GCGGAGCTTGAGAA.1\"\n",
      "[5] \"AGCATCGATAGCCA.1\"\n"
     ]
    }
   ],
   "source": [
    "\n",
    "rep_num <- 1\n",
    "for (trial in 1:2){\n",
    "\n",
    "    sampled_ifnb <- ifnb[, sampled_cells[[trial]]]\n",
    "    expressed_genes = rowMeans(as.matrix(GetAssayData(object = sampled_ifnb,slot=\"counts\"))) > 0.07\n",
    "    scaRaw <- FromMatrix(\n",
    "        as.matrix(GetAssayData(object = sampled_ifnb,slot=\"data\")), \n",
    "        sampled_ifnb[[]], sampled_ifnb[[\"RNA\"]][[]])\n",
    "    sca <- scaRaw\n",
    "    sca <- sca[expressed_genes,]\n",
    "    cond<-factor(colData(sca)$stim)\n",
    "    cond<-relevel(cond,\"CTRL\")\n",
    "    colData(sca)$condition<-cond\n",
    "    zlmCond <- zlm(~condition + nCount_RNA, sca)\n",
    "    summaryCond <- summary(zlmCond, doLRT='conditionSTIM')\n",
    "\n",
    "    summaryDt <- summaryCond$datatable\n",
    "    fcHurdle <- merge(summaryDt[contrast=='conditionSTIM' & component=='H',.(primerid, `Pr(>Chisq)`)], #hurdle P values\n",
    "                          summaryDt[contrast=='conditionSTIM' & component=='logFC', .(primerid, coef, ci.hi, ci.lo)], by='primerid') #logFC coefficients\n",
    "    print(colnames(sca)[1:5])\n",
    "    write.csv(fcHurdle, paste('/data_volume/memento/simulation/acc_fpr/mast/MAST_equal_rep_',trial, '.csv', sep=''))\n",
    "    }"
   ]
  },
  {
   "cell_type": "markdown",
   "id": "caa16da6",
   "metadata": {},
   "source": [
    "### MAST with partial data"
   ]
  },
  {
   "cell_type": "code",
   "execution_count": 169,
   "id": "30e45545",
   "metadata": {},
   "outputs": [],
   "source": [
    "data(\"ifnb\")"
   ]
  },
  {
   "cell_type": "code",
   "execution_count": 170,
   "id": "2573a17b",
   "metadata": {},
   "outputs": [],
   "source": [
    "ifnb <- subset(x = ifnb, subset = seurat_annotations == \"CD14 Mono\")"
   ]
  },
  {
   "cell_type": "code",
   "execution_count": 171,
   "id": "0a3699f0",
   "metadata": {},
   "outputs": [],
   "source": [
    "ifnb <- NormalizeData(object = ifnb)"
   ]
  },
  {
   "cell_type": "code",
   "execution_count": 172,
   "id": "7f64c647",
   "metadata": {},
   "outputs": [
    {
     "data": {
      "text/plain": [
       "An object of class Seurat \n",
       "14053 features across 4362 samples within 1 assay \n",
       "Active assay: RNA (14053 features, 0 variable features)"
      ]
     },
     "metadata": {},
     "output_type": "display_data"
    }
   ],
   "source": [
    "ifnb"
   ]
  },
  {
   "cell_type": "code",
   "execution_count": 173,
   "id": "23e5e545",
   "metadata": {},
   "outputs": [],
   "source": [
    "ifnb <- subset(ifnb, downsample=1000)"
   ]
  },
  {
   "cell_type": "code",
   "execution_count": 174,
   "id": "84fcf272",
   "metadata": {},
   "outputs": [
    {
     "name": "stderr",
     "output_type": "stream",
     "text": [
      "`fData` has no primerid.  I'll make something up.\n",
      "\n",
      "`cData` has no wellKey.  I'll make something up.\n",
      "\n",
      "Assuming data assay in position 1, with name et is log-transformed.\n",
      "\n"
     ]
    }
   ],
   "source": [
    "scaRaw <- FromMatrix(\n",
    "    as.matrix(GetAssayData(object = ifnb,slot=\"data\")), \n",
    "    ifnb[[]], ifnb[[\"RNA\"]][[]])"
   ]
  },
  {
   "cell_type": "code",
   "execution_count": 175,
   "id": "1f165436",
   "metadata": {},
   "outputs": [],
   "source": [
    "sca <- scaRaw"
   ]
  },
  {
   "cell_type": "code",
   "execution_count": 176,
   "id": "2c86450e",
   "metadata": {},
   "outputs": [],
   "source": [
    "# thres <- thresholdSCRNACountMatrix(assay(sca), nbins = 20, min_per_bin = 30)\n"
   ]
  },
  {
   "cell_type": "code",
   "execution_count": 177,
   "id": "96dab79f",
   "metadata": {},
   "outputs": [],
   "source": [
    "# freq_expressed <- 0.0005"
   ]
  },
  {
   "cell_type": "code",
   "execution_count": 178,
   "id": "0c6abb4a",
   "metadata": {},
   "outputs": [],
   "source": [
    "# assays(sca, withDimnames = FALSE) <- list(thresh=thres$counts_threshold, tpm=assay(sca))\n",
    "# expressed_genes <- freq(sca) > freq_expressed\n"
   ]
  },
  {
   "cell_type": "code",
   "execution_count": 179,
   "id": "81594621",
   "metadata": {},
   "outputs": [
    {
     "data": {
      "text/html": [
       "6776"
      ],
      "text/latex": [
       "6776"
      ],
      "text/markdown": [
       "6776"
      ],
      "text/plain": [
       "[1] 6776"
      ]
     },
     "metadata": {},
     "output_type": "display_data"
    }
   ],
   "source": [
    "sum(expressed_genes)"
   ]
  },
  {
   "cell_type": "code",
   "execution_count": 180,
   "id": "67178ad7",
   "metadata": {},
   "outputs": [],
   "source": [
    "sca <- sca[expressed_genes,]"
   ]
  },
  {
   "cell_type": "code",
   "execution_count": 181,
   "id": "097c543d",
   "metadata": {},
   "outputs": [
    {
     "data": {
      "text/plain": [
       "class: SingleCellAssay \n",
       "dim: 6776 2000 \n",
       "metadata(0):\n",
       "assays(1): et\n",
       "rownames(6776): NOC2L PLEKHN1 ... NUPR1 CCL18\n",
       "rowData names(1): primerid\n",
       "colnames(2000): AAACATTGCTTCGC.1 AAACGCTGGGGATG.1 ... TTTGACTGATCACG.1\n",
       "  TTTGACTGCCCACT.1\n",
       "colData names(6): orig.ident nCount_RNA ... seurat_annotations wellKey\n",
       "reducedDimNames(0):\n",
       "altExpNames(0):"
      ]
     },
     "metadata": {},
     "output_type": "display_data"
    }
   ],
   "source": [
    "sca"
   ]
  },
  {
   "cell_type": "code",
   "execution_count": 182,
   "id": "765fda4a",
   "metadata": {},
   "outputs": [
    {
     "name": "stderr",
     "output_type": "stream",
     "text": [
      "\n",
      "Done!\n",
      "\n"
     ]
    }
   ],
   "source": [
    "cond<-factor(colData(sca)$stim)\n",
    "cond<-relevel(cond,\"CTRL\")\n",
    "colData(sca)$condition<-cond\n",
    "zlmCond <- zlm(~condition + nCount_RNA, sca)"
   ]
  },
  {
   "cell_type": "code",
   "execution_count": 183,
   "id": "e065bea7",
   "metadata": {},
   "outputs": [
    {
     "name": "stderr",
     "output_type": "stream",
     "text": [
      "Combining coefficients and standard errors\n",
      "\n",
      "Calculating log-fold changes\n",
      "\n",
      "Calculating likelihood ratio tests\n",
      "\n",
      "Refitting on reduced model...\n",
      "\n",
      "\n",
      "Done!\n",
      "\n"
     ]
    }
   ],
   "source": [
    "summaryCond <- summary(zlmCond, doLRT='conditionSTIM')"
   ]
  },
  {
   "cell_type": "code",
   "execution_count": 184,
   "id": "54a8981d",
   "metadata": {},
   "outputs": [
    {
     "name": "stdout",
     "output_type": "stream",
     "text": [
      "Fitted zlm with top 4 genes per contrast:\n",
      "( log fold change Z-score )\n",
      " primerid conditionSTIM nCount_RNA\n",
      " CST3       10.1          24.6*   \n",
      " CTSB        4.6          25.6*   \n",
      " IFI6       56.1*         16.8    \n",
      " IFITM3     54.5*          4.5    \n",
      " ISG15      62.9*          3.6    \n",
      " LY6E       69.3*         11.7    \n",
      " PCBP1      -0.9          25.0*   \n",
      " UBE2D3      4.6          24.7*   \n"
     ]
    }
   ],
   "source": [
    "print(summaryCond, n=4)\n"
   ]
  },
  {
   "cell_type": "code",
   "execution_count": 185,
   "id": "e1b0dd39",
   "metadata": {},
   "outputs": [],
   "source": [
    "FCTHRESHOLD <- log2(1.5)\n"
   ]
  },
  {
   "cell_type": "code",
   "execution_count": 186,
   "id": "b3e0d9f0",
   "metadata": {},
   "outputs": [],
   "source": [
    "summaryDt <- summaryCond$datatable\n",
    "fcHurdle <- merge(summaryDt[contrast=='conditionSTIM' & component=='H',.(primerid, `Pr(>Chisq)`)], #hurdle P values\n",
    "                      summaryDt[contrast=='conditionSTIM' & component=='logFC', .(primerid, coef, ci.hi, ci.lo)], by='primerid') #logFC coefficients\n",
    "\n",
    "fcHurdle[,fdr:=p.adjust(`Pr(>Chisq)`, 'fdr')]\n",
    "fcHurdleSig <- merge(fcHurdle[fdr<.05], as.data.table(mcols(sca)), by='primerid')\n",
    "# setorder(fcHurdleSig, fdr)"
   ]
  },
  {
   "cell_type": "code",
   "execution_count": 187,
   "id": "e4833a40",
   "metadata": {},
   "outputs": [],
   "source": [
    "write.csv(fcHurdle, 'MAST_2000.csv')"
   ]
  },
  {
   "cell_type": "code",
   "execution_count": 188,
   "id": "14c61b71",
   "metadata": {},
   "outputs": [
    {
     "data": {
      "image/png": "[encoded data removed]",
      "text/plain": [
       "Plot with title “Histogram of fcHurdle$\"Pr(>Chisq)\"”"
      ]
     },
     "metadata": {
      "image/png": {
       "height": 420,
       "width": 420
      }
     },
     "output_type": "display_data"
    }
   ],
   "source": [
    "hist(fcHurdle$'Pr(>Chisq)')"
   ]
  },
  {
   "cell_type": "markdown",
   "id": "bbfeba25",
   "metadata": {},
   "source": [
    "### Replication across datasets"
   ]
  },
  {
   "cell_type": "markdown",
   "id": "48ee3e7b",
   "metadata": {},
   "source": [
    "#### Demuxlet dataset"
   ]
  },
  {
   "cell_type": "code",
   "execution_count": 4,
   "id": "fe88adfd",
   "metadata": {},
   "outputs": [],
   "source": [
    "data(\"ifnb\")"
   ]
  },
  {
   "cell_type": "code",
   "execution_count": 5,
   "id": "d5e285e1",
   "metadata": {},
   "outputs": [],
   "source": [
    "Idents(ifnb) <- 'seurat_annotations'"
   ]
  },
  {
   "cell_type": "code",
   "execution_count": 33,
   "id": "ebabb939",
   "metadata": {},
   "outputs": [],
   "source": [
    "expressed_genes = rowMeans(as.matrix(GetAssayData(object = ifnb,slot=\"counts\"))) > 0.02"
   ]
  },
  {
   "cell_type": "code",
   "execution_count": 34,
   "id": "32ce2e86",
   "metadata": {},
   "outputs": [],
   "source": [
    "demux <- subset(x = ifnb,subset = (stim == \"CTRL\"))\n",
    "demux <- demux[expressed_genes,]"
   ]
  },
  {
   "cell_type": "code",
   "execution_count": 35,
   "id": "926183f5",
   "metadata": {},
   "outputs": [],
   "source": [
    "first.word <- function(my.string){\n",
    "    unlist(strsplit(my.string, \" \"))[1]\n",
    "}"
   ]
  },
  {
   "cell_type": "code",
   "execution_count": 36,
   "id": "dabfc686",
   "metadata": {},
   "outputs": [],
   "source": [
    "demux$ct_labels <- sub(\" .*\", \"\", demux$seurat_annotations)\n"
   ]
  },
  {
   "cell_type": "code",
   "execution_count": 37,
   "id": "d21eb9fd",
   "metadata": {},
   "outputs": [],
   "source": [
    "demux <- subset(x = demux,subset = ct_labels == \"CD4\" | ct_labels == \"CD14\")"
   ]
  },
  {
   "cell_type": "code",
   "execution_count": 38,
   "id": "99859ec8",
   "metadata": {},
   "outputs": [],
   "source": [
    "demux <- NormalizeData(object = demux)"
   ]
  },
  {
   "cell_type": "code",
   "execution_count": 39,
   "id": "87f5fa0d",
   "metadata": {},
   "outputs": [
    {
     "name": "stderr",
     "output_type": "stream",
     "text": [
      "`fData` has no primerid.  I'll make something up.\n",
      "\n",
      "`cData` has no wellKey.  I'll make something up.\n",
      "\n",
      "Assuming data assay in position 1, with name et is log-transformed.\n",
      "\n"
     ]
    }
   ],
   "source": [
    "sca <- FromMatrix(\n",
    "    as.matrix(GetAssayData(object = demux,slot=\"data\")), \n",
    "    demux[[]], demux[[\"RNA\"]][[]])"
   ]
  },
  {
   "cell_type": "code",
   "execution_count": 40,
   "id": "fbde563b",
   "metadata": {},
   "outputs": [
    {
     "data": {
      "text/plain": [
       "class: SingleCellAssay \n",
       "dim: 5677 4052 \n",
       "metadata(0):\n",
       "assays(1): et\n",
       "rownames(5677): NOC2L HES4 ... HRASLS2 NUPR1\n",
       "rowData names(1): primerid\n",
       "colnames(4052): AAACATACATTTCC.1 AAACATACCAGAAA.1 ... TTTGACTGCCGCTT.1\n",
       "  TTTGACTGTTACCT.1\n",
       "colData names(7): orig.ident nCount_RNA ... ct_labels wellKey\n",
       "reducedDimNames(0):\n",
       "altExpNames(0):"
      ]
     },
     "metadata": {},
     "output_type": "display_data"
    }
   ],
   "source": [
    "sca"
   ]
  },
  {
   "cell_type": "code",
   "execution_count": 41,
   "id": "307a3974",
   "metadata": {},
   "outputs": [
    {
     "name": "stderr",
     "output_type": "stream",
     "text": [
      "\n",
      "Done!\n",
      "\n"
     ]
    }
   ],
   "source": [
    "cond<-factor(colData(sca)$ct_labels)\n",
    "cond<-relevel(cond,\"CD14\")\n",
    "colData(sca)$condition<-cond\n",
    "zlmCond <- zlm(~condition + nCount_RNA, sca)"
   ]
  },
  {
   "cell_type": "code",
   "execution_count": 42,
   "id": "48a94cdb",
   "metadata": {},
   "outputs": [
    {
     "name": "stderr",
     "output_type": "stream",
     "text": [
      "Combining coefficients and standard errors\n",
      "\n",
      "Calculating log-fold changes\n",
      "\n",
      "Calculating likelihood ratio tests\n",
      "\n",
      "Refitting on reduced model...\n",
      "\n",
      "\n",
      "Done!\n",
      "\n"
     ]
    }
   ],
   "source": [
    "summaryCond <- summary(zlmCond, doLRT='conditionCD4')"
   ]
  },
  {
   "cell_type": "code",
   "execution_count": 43,
   "id": "a7fc3659",
   "metadata": {},
   "outputs": [],
   "source": [
    "summaryDt <- summaryCond$datatable\n",
    "fcHurdle <- merge(summaryDt[contrast=='conditionCD4' & component=='H',.(primerid, `Pr(>Chisq)`)], #hurdle P values\n",
    "                      summaryDt[contrast=='conditionCD4' & component=='logFC', .(primerid, coef, ci.hi, ci.lo)], by='primerid') #logFC coefficients\n",
    "\n",
    "fcHurdle[,fdr:=p.adjust(`Pr(>Chisq)`, 'fdr')]\n",
    "fcHurdleSig <- merge(fcHurdle[fdr<.05], as.data.table(mcols(sca)), by='primerid')\n",
    "# setorder(fcHurdleSig, fdr)"
   ]
  },
  {
   "cell_type": "code",
   "execution_count": 44,
   "id": "fd9a42a0",
   "metadata": {},
   "outputs": [
    {
     "data": {
      "text/html": [
       "<table class=\"dataframe\">\n",
       "<caption>A data.table: 6 × 6</caption>\n",
       "<thead>\n",
       "\t<tr><th scope=col>primerid</th><th scope=col>Pr(&gt;Chisq)</th><th scope=col>coef</th><th scope=col>ci.hi</th><th scope=col>ci.lo</th><th scope=col>fdr</th></tr>\n",
       "\t<tr><th scope=col>&lt;chr&gt;</th><th scope=col>&lt;dbl&gt;</th><th scope=col>&lt;dbl&gt;</th><th scope=col>&lt;dbl&gt;</th><th scope=col>&lt;dbl&gt;</th><th scope=col>&lt;dbl&gt;</th></tr>\n",
       "</thead>\n",
       "<tbody>\n",
       "\t<tr><td>A1BG </td><td>4.012881e-02</td><td> 0.009716967</td><td> 0.02509193</td><td>-0.005657997</td><td>4.567186e-02</td></tr>\n",
       "\t<tr><td>AAED1</td><td>7.221398e-08</td><td>-0.044562840</td><td>-0.01730714</td><td>-0.071818539</td><td>1.565923e-07</td></tr>\n",
       "\t<tr><td>AAGAB</td><td>1.360377e-04</td><td> 0.015450974</td><td> 0.02320906</td><td> 0.007692885</td><td>2.070473e-04</td></tr>\n",
       "\t<tr><td>AAK1 </td><td>1.581580e-07</td><td> 0.044489447</td><td> 0.06274972</td><td> 0.026229170</td><td>3.307045e-07</td></tr>\n",
       "\t<tr><td>AAMDC</td><td>6.770855e-01</td><td> 0.002058178</td><td> 0.02171198</td><td>-0.017595627</td><td>6.852940e-01</td></tr>\n",
       "\t<tr><td>AAMP </td><td>8.135692e-07</td><td> 0.034055521</td><td> 0.06526713</td><td> 0.002843915</td><td>1.575787e-06</td></tr>\n",
       "</tbody>\n",
       "</table>\n"
      ],
      "text/latex": [
       "A data.table: 6 × 6\n",
       "\\begin{tabular}{llllll}\n",
       " primerid & Pr(>Chisq) & coef & ci.hi & ci.lo & fdr\\\\\n",
       " <chr> & <dbl> & <dbl> & <dbl> & <dbl> & <dbl>\\\\\n",
       "\\hline\n",
       "\t A1BG  & 4.012881e-02 &  0.009716967 &  0.02509193 & -0.005657997 & 4.567186e-02\\\\\n",
       "\t AAED1 & 7.221398e-08 & -0.044562840 & -0.01730714 & -0.071818539 & 1.565923e-07\\\\\n",
       "\t AAGAB & 1.360377e-04 &  0.015450974 &  0.02320906 &  0.007692885 & 2.070473e-04\\\\\n",
       "\t AAK1  & 1.581580e-07 &  0.044489447 &  0.06274972 &  0.026229170 & 3.307045e-07\\\\\n",
       "\t AAMDC & 6.770855e-01 &  0.002058178 &  0.02171198 & -0.017595627 & 6.852940e-01\\\\\n",
       "\t AAMP  & 8.135692e-07 &  0.034055521 &  0.06526713 &  0.002843915 & 1.575787e-06\\\\\n",
       "\\end{tabular}\n"
      ],
      "text/markdown": [
       "\n",
       "A data.table: 6 × 6\n",
       "\n",
       "| primerid &lt;chr&gt; | Pr(&gt;Chisq) &lt;dbl&gt; | coef &lt;dbl&gt; | ci.hi &lt;dbl&gt; | ci.lo &lt;dbl&gt; | fdr &lt;dbl&gt; |\n",
       "|---|---|---|---|---|---|\n",
       "| A1BG  | 4.012881e-02 |  0.009716967 |  0.02509193 | -0.005657997 | 4.567186e-02 |\n",
       "| AAED1 | 7.221398e-08 | -0.044562840 | -0.01730714 | -0.071818539 | 1.565923e-07 |\n",
       "| AAGAB | 1.360377e-04 |  0.015450974 |  0.02320906 |  0.007692885 | 2.070473e-04 |\n",
       "| AAK1  | 1.581580e-07 |  0.044489447 |  0.06274972 |  0.026229170 | 3.307045e-07 |\n",
       "| AAMDC | 6.770855e-01 |  0.002058178 |  0.02171198 | -0.017595627 | 6.852940e-01 |\n",
       "| AAMP  | 8.135692e-07 |  0.034055521 |  0.06526713 |  0.002843915 | 1.575787e-06 |\n",
       "\n"
      ],
      "text/plain": [
       "  primerid Pr(>Chisq)   coef         ci.hi       ci.lo        fdr         \n",
       "1 A1BG     4.012881e-02  0.009716967  0.02509193 -0.005657997 4.567186e-02\n",
       "2 AAED1    7.221398e-08 -0.044562840 -0.01730714 -0.071818539 1.565923e-07\n",
       "3 AAGAB    1.360377e-04  0.015450974  0.02320906  0.007692885 2.070473e-04\n",
       "4 AAK1     1.581580e-07  0.044489447  0.06274972  0.026229170 3.307045e-07\n",
       "5 AAMDC    6.770855e-01  0.002058178  0.02171198 -0.017595627 6.852940e-01\n",
       "6 AAMP     8.135692e-07  0.034055521  0.06526713  0.002843915 1.575787e-06"
      ]
     },
     "metadata": {},
     "output_type": "display_data"
    }
   ],
   "source": [
    "head(fcHurdle)"
   ]
  },
  {
   "cell_type": "code",
   "execution_count": 45,
   "id": "d16436a0",
   "metadata": {},
   "outputs": [
    {
     "data": {
      "image/png": "[encoded data removed]",
      "text/plain": [
       "Plot with title “Histogram of fcHurdle[[\"Pr(>Chisq)\"]]”"
      ]
     },
     "metadata": {
      "image/png": {
       "height": 420,
       "width": 420
      }
     },
     "output_type": "display_data"
    }
   ],
   "source": [
    "hist(fcHurdle[['Pr(>Chisq)']])"
   ]
  },
  {
   "cell_type": "code",
   "execution_count": 46,
   "id": "0eab2e00",
   "metadata": {},
   "outputs": [],
   "source": [
    "write.csv(fcHurdle, 'MAST_ct_comparison_demux.csv')"
   ]
  },
  {
   "cell_type": "code",
   "execution_count": 47,
   "id": "5fd085f9",
   "metadata": {},
   "outputs": [],
   "source": [
    "write.csv(demux[[]], 'MAST_ct_comparison_cells.csv')"
   ]
  },
  {
   "cell_type": "code",
   "execution_count": 48,
   "id": "169b60d7",
   "metadata": {},
   "outputs": [
    {
     "data": {
      "text/plain": [
       "class: SingleCellAssay \n",
       "dim: 5677 4052 \n",
       "metadata(0):\n",
       "assays(1): et\n",
       "rownames(5677): NOC2L HES4 ... HRASLS2 NUPR1\n",
       "rowData names(1): primerid\n",
       "colnames(4052): AAACATACATTTCC.1 AAACATACCAGAAA.1 ... TTTGACTGCCGCTT.1\n",
       "  TTTGACTGTTACCT.1\n",
       "colData names(8): orig.ident nCount_RNA ... wellKey condition\n",
       "reducedDimNames(0):\n",
       "altExpNames(0):"
      ]
     },
     "metadata": {},
     "output_type": "display_data"
    }
   ],
   "source": [
    "sca"
   ]
  },
  {
   "cell_type": "markdown",
   "id": "a99d4ffd",
   "metadata": {},
   "source": [
    "#### PBMC3k dataset"
   ]
  },
  {
   "cell_type": "code",
   "execution_count": 49,
   "id": "98094798",
   "metadata": {},
   "outputs": [],
   "source": [
    "# InstallData(\"pbmc3k\")\n"
   ]
  },
  {
   "cell_type": "code",
   "execution_count": 50,
   "id": "407029a3",
   "metadata": {},
   "outputs": [],
   "source": [
    "data(\"pbmc3k\")"
   ]
  },
  {
   "cell_type": "code",
   "execution_count": 51,
   "id": "27a94d84",
   "metadata": {},
   "outputs": [],
   "source": [
    "expressed_genes = rowMeans(as.matrix(GetAssayData(object = pbmc3k,slot=\"counts\"))) > 0.02"
   ]
  },
  {
   "cell_type": "code",
   "execution_count": 52,
   "id": "6c925d89",
   "metadata": {},
   "outputs": [],
   "source": [
    "pbmc3k <- NormalizeData(object = pbmc3k)\n",
    "pbmc3k <- pbmc3k[expressed_genes,]"
   ]
  },
  {
   "cell_type": "code",
   "execution_count": 53,
   "id": "f55e2472",
   "metadata": {},
   "outputs": [],
   "source": [
    "first.word <- function(my.string){\n",
    "    first <- unlist(strsplit(my.string, \" \"))[1]\n",
    "    second <- unlist(strsplit(my.string, \" \"))[2]\n",
    "    if (is.na(first)){\n",
    "        return('ELSE')\n",
    "    }\n",
    "    if (first == 'CD14+'){\n",
    "        return('CD14')\n",
    "    }\n",
    "    if (is.na(second)){\n",
    "        return('ELSE')\n",
    "    }\n",
    "    if (second == 'CD4'){\n",
    "        return('CD4')\n",
    "    }\n",
    "    return('ELSE')\n",
    "}"
   ]
  },
  {
   "cell_type": "code",
   "execution_count": 54,
   "id": "d594c107",
   "metadata": {},
   "outputs": [],
   "source": [
    "pbmc3k$ct_labels <- sapply(as.vector(pbmc3k$seurat_annotations), first.word)"
   ]
  },
  {
   "cell_type": "code",
   "execution_count": 55,
   "id": "6a1620bd",
   "metadata": {},
   "outputs": [
    {
     "name": "stderr",
     "output_type": "stream",
     "text": [
      "`fData` has no primerid.  I'll make something up.\n",
      "\n",
      "`cData` has no wellKey.  I'll make something up.\n",
      "\n",
      "Assuming data assay in position 1, with name et is log-transformed.\n",
      "\n"
     ]
    }
   ],
   "source": [
    "sca <- FromMatrix(\n",
    "    as.matrix(GetAssayData(object = pbmc3k,slot=\"data\")), \n",
    "    pbmc3k[[]], pbmc3k[[\"RNA\"]][[]])"
   ]
  },
  {
   "cell_type": "code",
   "execution_count": 56,
   "id": "068040d2",
   "metadata": {},
   "outputs": [
    {
     "name": "stderr",
     "output_type": "stream",
     "text": [
      "Warning message in .bayesglm.fit.loop.printWarnings(Warning, state, family):\n",
      "“fitted probabilities numerically 0 or 1 occurred”\n",
      "Warning message in .bayesglm.fit.loop.printWarnings(Warning, state, family):\n",
      "“fitted probabilities numerically 0 or 1 occurred”\n",
      "Warning message in .bayesglm.fit.loop.printWarnings(Warning, state, family):\n",
      "“fitted probabilities numerically 0 or 1 occurred”\n",
      "Warning message in .bayesglm.fit.loop.printWarnings(Warning, state, family):\n",
      "“fitted probabilities numerically 0 or 1 occurred”\n",
      "Warning message in .bayesglm.fit.loop.printWarnings(Warning, state, family):\n",
      "“fitted probabilities numerically 0 or 1 occurred”\n",
      "Warning message in .bayesglm.fit.loop.printWarnings(Warning, state, family):\n",
      "“fitted probabilities numerically 0 or 1 occurred”\n",
      "Warning message in .bayesglm.fit.loop.printWarnings(Warning, state, family):\n",
      "“fitted probabilities numerically 0 or 1 occurred”\n",
      "Warning message in .bayesglm.fit.loop.printWarnings(Warning, state, family):\n",
      "“fitted probabilities numerically 0 or 1 occurred”\n",
      "Warning message in .bayesglm.fit.loop.printWarnings(Warning, state, family):\n",
      "“fitted probabilities numerically 0 or 1 occurred”\n",
      "Warning message in .bayesglm.fit.loop.printWarnings(Warning, state, family):\n",
      "“fitted probabilities numerically 0 or 1 occurred”\n",
      "Warning message in .bayesglm.fit.loop.printWarnings(Warning, state, family):\n",
      "“fitted probabilities numerically 0 or 1 occurred”\n",
      "Warning message in .bayesglm.fit.loop.printWarnings(Warning, state, family):\n",
      "“fitted probabilities numerically 0 or 1 occurred”\n",
      "Warning message in .bayesglm.fit.loop.printWarnings(Warning, state, family):\n",
      "“fitted probabilities numerically 0 or 1 occurred”\n",
      "Warning message in .bayesglm.fit.loop.printWarnings(Warning, state, family):\n",
      "“fitted probabilities numerically 0 or 1 occurred”\n",
      "Warning message in .bayesglm.fit.loop.printWarnings(Warning, state, family):\n",
      "“fitted probabilities numerically 0 or 1 occurred”\n",
      "Warning message in .bayesglm.fit.loop.printWarnings(Warning, state, family):\n",
      "“fitted probabilities numerically 0 or 1 occurred”\n",
      "Warning message in .bayesglm.fit.loop.printWarnings(Warning, state, family):\n",
      "“fitted probabilities numerically 0 or 1 occurred”\n",
      "Warning message in .bayesglm.fit.loop.printWarnings(Warning, state, family):\n",
      "“fitted probabilities numerically 0 or 1 occurred”\n",
      "Warning message in .bayesglm.fit.loop.printWarnings(Warning, state, family):\n",
      "“fitted probabilities numerically 0 or 1 occurred”\n",
      "Warning message in .bayesglm.fit.loop.printWarnings(Warning, state, family):\n",
      "“fitted probabilities numerically 0 or 1 occurred”\n",
      "Warning message in .bayesglm.fit.loop.printWarnings(Warning, state, family):\n",
      "“fitted probabilities numerically 0 or 1 occurred”\n",
      "Warning message in .bayesglm.fit.loop.printWarnings(Warning, state, family):\n",
      "“fitted probabilities numerically 0 or 1 occurred”\n",
      "Warning message in .bayesglm.fit.loop.printWarnings(Warning, state, family):\n",
      "“fitted probabilities numerically 0 or 1 occurred”\n",
      "Warning message in .bayesglm.fit.loop.printWarnings(Warning, state, family):\n",
      "“fitted probabilities numerically 0 or 1 occurred”\n",
      "Warning message in .bayesglm.fit.loop.printWarnings(Warning, state, family):\n",
      "“fitted probabilities numerically 0 or 1 occurred”\n",
      "Warning message in .bayesglm.fit.loop.printWarnings(Warning, state, family):\n",
      "“fitted probabilities numerically 0 or 1 occurred”\n",
      "Warning message in .bayesglm.fit.loop.printWarnings(Warning, state, family):\n",
      "“fitted probabilities numerically 0 or 1 occurred”\n",
      "Warning message in .bayesglm.fit.loop.printWarnings(Warning, state, family):\n",
      "“fitted probabilities numerically 0 or 1 occurred”\n",
      "Warning message in .bayesglm.fit.loop.printWarnings(Warning, state, family):\n",
      "“fitted probabilities numerically 0 or 1 occurred”\n",
      "Warning message in .bayesglm.fit.loop.printWarnings(Warning, state, family):\n",
      "“fitted probabilities numerically 0 or 1 occurred”\n",
      "Warning message in .bayesglm.fit.loop.printWarnings(Warning, state, family):\n",
      "“fitted probabilities numerically 0 or 1 occurred”\n",
      "Warning message in .bayesglm.fit.loop.printWarnings(Warning, state, family):\n",
      "“fitted probabilities numerically 0 or 1 occurred”\n",
      "Warning message in .bayesglm.fit.loop.printWarnings(Warning, state, family):\n",
      "“fitted probabilities numerically 0 or 1 occurred”\n",
      "Warning message in .bayesglm.fit.loop.printWarnings(Warning, state, family):\n",
      "“fitted probabilities numerically 0 or 1 occurred”\n",
      "Warning message in .bayesglm.fit.loop.printWarnings(Warning, state, family):\n",
      "“fitted probabilities numerically 0 or 1 occurred”\n",
      "Warning message in .bayesglm.fit.loop.printWarnings(Warning, state, family):\n",
      "“fitted probabilities numerically 0 or 1 occurred”\n",
      "Warning message in .bayesglm.fit.loop.printWarnings(Warning, state, family):\n",
      "“fitted probabilities numerically 0 or 1 occurred”\n",
      "Warning message in .bayesglm.fit.loop.printWarnings(Warning, state, family):\n",
      "“fitted probabilities numerically 0 or 1 occurred”\n",
      "Warning message in .bayesglm.fit.loop.printWarnings(Warning, state, family):\n",
      "“fitted probabilities numerically 0 or 1 occurred”\n",
      "Warning message in .bayesglm.fit.loop.printWarnings(Warning, state, family):\n",
      "“fitted probabilities numerically 0 or 1 occurred”\n",
      "Warning message in .bayesglm.fit.loop.printWarnings(Warning, state, family):\n",
      "“fitted probabilities numerically 0 or 1 occurred”\n",
      "Warning message in .bayesglm.fit.loop.printWarnings(Warning, state, family):\n",
      "“fitted probabilities numerically 0 or 1 occurred”\n",
      "Warning message in .bayesglm.fit.loop.printWarnings(Warning, state, family):\n",
      "“fitted probabilities numerically 0 or 1 occurred”\n",
      "Warning message in .bayesglm.fit.loop.printWarnings(Warning, state, family):\n",
      "“fitted probabilities numerically 0 or 1 occurred”\n",
      "Warning message in .bayesglm.fit.loop.printWarnings(Warning, state, family):\n",
      "“fitted probabilities numerically 0 or 1 occurred”\n",
      "Warning message in .bayesglm.fit.loop.printWarnings(Warning, state, family):\n",
      "“fitted probabilities numerically 0 or 1 occurred”\n",
      "Warning message in .bayesglm.fit.loop.printWarnings(Warning, state, family):\n",
      "“fitted probabilities numerically 0 or 1 occurred”\n",
      "Warning message in .bayesglm.fit.loop.printWarnings(Warning, state, family):\n",
      "“fitted probabilities numerically 0 or 1 occurred”\n",
      "Warning message in .bayesglm.fit.loop.printWarnings(Warning, state, family):\n",
      "“fitted probabilities numerically 0 or 1 occurred”\n",
      "Warning message in .bayesglm.fit.loop.printWarnings(Warning, state, family):\n",
      "“fitted probabilities numerically 0 or 1 occurred”\n",
      "Warning message in .bayesglm.fit.loop.printWarnings(Warning, state, family):\n",
      "“fitted probabilities numerically 0 or 1 occurred”\n",
      "Warning message in .bayesglm.fit.loop.printWarnings(Warning, state, family):\n",
      "“fitted probabilities numerically 0 or 1 occurred”\n",
      "Warning message in .bayesglm.fit.loop.printWarnings(Warning, state, family):\n",
      "“fitted probabilities numerically 0 or 1 occurred”\n",
      "Warning message in .bayesglm.fit.loop.printWarnings(Warning, state, family):\n",
      "“fitted probabilities numerically 0 or 1 occurred”\n",
      "Warning message in .bayesglm.fit.loop.printWarnings(Warning, state, family):\n",
      "“fitted probabilities numerically 0 or 1 occurred”\n",
      "Warning message in .bayesglm.fit.loop.printWarnings(Warning, state, family):\n",
      "“fitted probabilities numerically 0 or 1 occurred”\n",
      "Warning message in .bayesglm.fit.loop.printWarnings(Warning, state, family):\n",
      "“fitted probabilities numerically 0 or 1 occurred”\n",
      "Warning message in .bayesglm.fit.loop.printWarnings(Warning, state, family):\n",
      "“fitted probabilities numerically 0 or 1 occurred”\n",
      "Warning message in .bayesglm.fit.loop.printWarnings(Warning, state, family):\n",
      "“fitted probabilities numerically 0 or 1 occurred”\n",
      "Warning message in .bayesglm.fit.loop.printWarnings(Warning, state, family):\n",
      "“fitted probabilities numerically 0 or 1 occurred”\n",
      "Warning message in .bayesglm.fit.loop.printWarnings(Warning, state, family):\n",
      "“fitted probabilities numerically 0 or 1 occurred”\n",
      "Warning message in .bayesglm.fit.loop.printWarnings(Warning, state, family):\n",
      "“fitted probabilities numerically 0 or 1 occurred”\n",
      "Warning message in .bayesglm.fit.loop.printWarnings(Warning, state, family):\n",
      "“fitted probabilities numerically 0 or 1 occurred”\n",
      "Warning message in .bayesglm.fit.loop.printWarnings(Warning, state, family):\n",
      "“fitted probabilities numerically 0 or 1 occurred”\n",
      "Warning message in .bayesglm.fit.loop.printWarnings(Warning, state, family):\n",
      "“fitted probabilities numerically 0 or 1 occurred”\n",
      "Warning message in .bayesglm.fit.loop.printWarnings(Warning, state, family):\n",
      "“fitted probabilities numerically 0 or 1 occurred”\n",
      "Warning message in .bayesglm.fit.loop.printWarnings(Warning, state, family):\n",
      "“fitted probabilities numerically 0 or 1 occurred”\n",
      "Warning message in .bayesglm.fit.loop.printWarnings(Warning, state, family):\n",
      "“fitted probabilities numerically 0 or 1 occurred”\n",
      "\n",
      "Done!\n",
      "\n"
     ]
    }
   ],
   "source": [
    "cond<-factor(colData(sca)$ct_labels)\n",
    "cond<-relevel(cond,\"CD14\")\n",
    "colData(sca)$condition<-cond\n",
    "zlmCond <- zlm(~condition + nCount_RNA, sca)"
   ]
  },
  {
   "cell_type": "code",
   "execution_count": 57,
   "id": "3c1cb561",
   "metadata": {},
   "outputs": [
    {
     "name": "stderr",
     "output_type": "stream",
     "text": [
      "Combining coefficients and standard errors\n",
      "\n",
      "Calculating log-fold changes\n",
      "\n",
      "Calculating likelihood ratio tests\n",
      "\n",
      "Refitting on reduced model...\n",
      "\n",
      "Warning message in .bayesglm.fit.loop.printWarnings(Warning, state, family):\n",
      "“fitted probabilities numerically 0 or 1 occurred”\n",
      "Warning message in .bayesglm.fit.loop.printWarnings(Warning, state, family):\n",
      "“fitted probabilities numerically 0 or 1 occurred”\n",
      "Warning message in .bayesglm.fit.loop.printWarnings(Warning, state, family):\n",
      "“fitted probabilities numerically 0 or 1 occurred”\n",
      "Warning message in .bayesglm.fit.loop.printWarnings(Warning, state, family):\n",
      "“fitted probabilities numerically 0 or 1 occurred”\n",
      "Warning message in .bayesglm.fit.loop.printWarnings(Warning, state, family):\n",
      "“fitted probabilities numerically 0 or 1 occurred”\n",
      "Warning message in .bayesglm.fit.loop.printWarnings(Warning, state, family):\n",
      "“fitted probabilities numerically 0 or 1 occurred”\n",
      "Warning message in .bayesglm.fit.loop.printWarnings(Warning, state, family):\n",
      "“fitted probabilities numerically 0 or 1 occurred”\n",
      "Warning message in .bayesglm.fit.loop.printWarnings(Warning, state, family):\n",
      "“fitted probabilities numerically 0 or 1 occurred”\n",
      "Warning message in .bayesglm.fit.loop.printWarnings(Warning, state, family):\n",
      "“fitted probabilities numerically 0 or 1 occurred”\n",
      "Warning message in .bayesglm.fit.loop.printWarnings(Warning, state, family):\n",
      "“fitted probabilities numerically 0 or 1 occurred”\n",
      "Warning message in .bayesglm.fit.loop.printWarnings(Warning, state, family):\n",
      "“fitted probabilities numerically 0 or 1 occurred”\n",
      "Warning message in .bayesglm.fit.loop.printWarnings(Warning, state, family):\n",
      "“fitted probabilities numerically 0 or 1 occurred”\n",
      "Warning message in .bayesglm.fit.loop.printWarnings(Warning, state, family):\n",
      "“fitted probabilities numerically 0 or 1 occurred”\n",
      "Warning message in .bayesglm.fit.loop.printWarnings(Warning, state, family):\n",
      "“fitted probabilities numerically 0 or 1 occurred”\n",
      "Warning message in .bayesglm.fit.loop.printWarnings(Warning, state, family):\n",
      "“fitted probabilities numerically 0 or 1 occurred”\n",
      "Warning message in .bayesglm.fit.loop.printWarnings(Warning, state, family):\n",
      "“fitted probabilities numerically 0 or 1 occurred”\n",
      "Warning message in .bayesglm.fit.loop.printWarnings(Warning, state, family):\n",
      "“fitted probabilities numerically 0 or 1 occurred”\n",
      "Warning message in .bayesglm.fit.loop.printWarnings(Warning, state, family):\n",
      "“fitted probabilities numerically 0 or 1 occurred”\n",
      "Warning message in .bayesglm.fit.loop.printWarnings(Warning, state, family):\n",
      "“fitted probabilities numerically 0 or 1 occurred”\n",
      "Warning message in .bayesglm.fit.loop.printWarnings(Warning, state, family):\n",
      "“fitted probabilities numerically 0 or 1 occurred”\n",
      "Warning message in .bayesglm.fit.loop.printWarnings(Warning, state, family):\n",
      "“fitted probabilities numerically 0 or 1 occurred”\n",
      "Warning message in .bayesglm.fit.loop.printWarnings(Warning, state, family):\n",
      "“fitted probabilities numerically 0 or 1 occurred”\n",
      "Warning message in .bayesglm.fit.loop.printWarnings(Warning, state, family):\n",
      "“fitted probabilities numerically 0 or 1 occurred”\n",
      "Warning message in .bayesglm.fit.loop.printWarnings(Warning, state, family):\n",
      "“fitted probabilities numerically 0 or 1 occurred”\n",
      "Warning message in .bayesglm.fit.loop.printWarnings(Warning, state, family):\n",
      "“fitted probabilities numerically 0 or 1 occurred”\n",
      "Warning message in .bayesglm.fit.loop.printWarnings(Warning, state, family):\n",
      "“fitted probabilities numerically 0 or 1 occurred”\n",
      "Warning message in .bayesglm.fit.loop.printWarnings(Warning, state, family):\n",
      "“fitted probabilities numerically 0 or 1 occurred”\n",
      "Warning message in .bayesglm.fit.loop.printWarnings(Warning, state, family):\n",
      "“fitted probabilities numerically 0 or 1 occurred”\n",
      "Warning message in .bayesglm.fit.loop.printWarnings(Warning, state, family):\n",
      "“fitted probabilities numerically 0 or 1 occurred”\n",
      "Warning message in .bayesglm.fit.loop.printWarnings(Warning, state, family):\n",
      "“fitted probabilities numerically 0 or 1 occurred”\n",
      "Warning message in .bayesglm.fit.loop.printWarnings(Warning, state, family):\n",
      "“fitted probabilities numerically 0 or 1 occurred”\n",
      "Warning message in .bayesglm.fit.loop.printWarnings(Warning, state, family):\n",
      "“fitted probabilities numerically 0 or 1 occurred”\n",
      "Warning message in .bayesglm.fit.loop.printWarnings(Warning, state, family):\n",
      "“fitted probabilities numerically 0 or 1 occurred”\n",
      "Warning message in .bayesglm.fit.loop.printWarnings(Warning, state, family):\n",
      "“fitted probabilities numerically 0 or 1 occurred”\n",
      "Warning message in .bayesglm.fit.loop.printWarnings(Warning, state, family):\n",
      "“fitted probabilities numerically 0 or 1 occurred”\n",
      "Warning message in .bayesglm.fit.loop.printWarnings(Warning, state, family):\n",
      "“fitted probabilities numerically 0 or 1 occurred”\n",
      "Warning message in .bayesglm.fit.loop.printWarnings(Warning, state, family):\n",
      "“fitted probabilities numerically 0 or 1 occurred”\n",
      "Warning message in .bayesglm.fit.loop.printWarnings(Warning, state, family):\n",
      "“fitted probabilities numerically 0 or 1 occurred”\n",
      "Warning message in .bayesglm.fit.loop.printWarnings(Warning, state, family):\n",
      "“fitted probabilities numerically 0 or 1 occurred”\n",
      "Warning message in .bayesglm.fit.loop.printWarnings(Warning, state, family):\n",
      "“fitted probabilities numerically 0 or 1 occurred”\n",
      "Warning message in .bayesglm.fit.loop.printWarnings(Warning, state, family):\n",
      "“fitted probabilities numerically 0 or 1 occurred”\n",
      "Warning message in .bayesglm.fit.loop.printWarnings(Warning, state, family):\n",
      "“fitted probabilities numerically 0 or 1 occurred”\n",
      "Warning message in .bayesglm.fit.loop.printWarnings(Warning, state, family):\n",
      "“fitted probabilities numerically 0 or 1 occurred”\n",
      "Warning message in .bayesglm.fit.loop.printWarnings(Warning, state, family):\n",
      "“fitted probabilities numerically 0 or 1 occurred”\n",
      "Warning message in .bayesglm.fit.loop.printWarnings(Warning, state, family):\n",
      "“fitted probabilities numerically 0 or 1 occurred”\n",
      "Warning message in .bayesglm.fit.loop.printWarnings(Warning, state, family):\n",
      "“fitted probabilities numerically 0 or 1 occurred”\n",
      "Warning message in .bayesglm.fit.loop.printWarnings(Warning, state, family):\n",
      "“fitted probabilities numerically 0 or 1 occurred”\n",
      "Warning message in .bayesglm.fit.loop.printWarnings(Warning, state, family):\n",
      "“fitted probabilities numerically 0 or 1 occurred”\n",
      "Warning message in .bayesglm.fit.loop.printWarnings(Warning, state, family):\n",
      "“fitted probabilities numerically 0 or 1 occurred”\n",
      "Warning message in .bayesglm.fit.loop.printWarnings(Warning, state, family):\n",
      "“fitted probabilities numerically 0 or 1 occurred”\n",
      "Warning message in .bayesglm.fit.loop.printWarnings(Warning, state, family):\n",
      "“fitted probabilities numerically 0 or 1 occurred”\n",
      "Warning message in .bayesglm.fit.loop.printWarnings(Warning, state, family):\n",
      "“fitted probabilities numerically 0 or 1 occurred”\n",
      "Warning message in .bayesglm.fit.loop.printWarnings(Warning, state, family):\n",
      "“fitted probabilities numerically 0 or 1 occurred”\n",
      "Warning message in .bayesglm.fit.loop.printWarnings(Warning, state, family):\n",
      "“fitted probabilities numerically 0 or 1 occurred”\n",
      "Warning message in .bayesglm.fit.loop.printWarnings(Warning, state, family):\n",
      "“fitted probabilities numerically 0 or 1 occurred”\n",
      "Warning message in .bayesglm.fit.loop.printWarnings(Warning, state, family):\n",
      "“fitted probabilities numerically 0 or 1 occurred”\n",
      "Warning message in .bayesglm.fit.loop.printWarnings(Warning, state, family):\n",
      "“fitted probabilities numerically 0 or 1 occurred”\n",
      "Warning message in .bayesglm.fit.loop.printWarnings(Warning, state, family):\n",
      "“fitted probabilities numerically 0 or 1 occurred”\n",
      "Warning message in .bayesglm.fit.loop.printWarnings(Warning, state, family):\n",
      "“fitted probabilities numerically 0 or 1 occurred”\n",
      "Warning message in .bayesglm.fit.loop.printWarnings(Warning, state, family):\n",
      "“fitted probabilities numerically 0 or 1 occurred”\n",
      "Warning message in .bayesglm.fit.loop.printWarnings(Warning, state, family):\n",
      "“fitted probabilities numerically 0 or 1 occurred”\n",
      "Warning message in .bayesglm.fit.loop.printWarnings(Warning, state, family):\n",
      "“fitted probabilities numerically 0 or 1 occurred”\n",
      "Warning message in .bayesglm.fit.loop.printWarnings(Warning, state, family):\n",
      "“fitted probabilities numerically 0 or 1 occurred”\n",
      "Warning message in .bayesglm.fit.loop.printWarnings(Warning, state, family):\n",
      "“fitted probabilities numerically 0 or 1 occurred”\n",
      "Warning message in .bayesglm.fit.loop.printWarnings(Warning, state, family):\n",
      "“fitted probabilities numerically 0 or 1 occurred”\n",
      "Warning message in .bayesglm.fit.loop.printWarnings(Warning, state, family):\n",
      "“fitted probabilities numerically 0 or 1 occurred”\n",
      "Warning message in .bayesglm.fit.loop.printWarnings(Warning, state, family):\n",
      "“fitted probabilities numerically 0 or 1 occurred”\n",
      "Warning message in .bayesglm.fit.loop.printWarnings(Warning, state, family):\n",
      "“fitted probabilities numerically 0 or 1 occurred”\n",
      "Warning message in .bayesglm.fit.loop.printWarnings(Warning, state, family):\n",
      "“fitted probabilities numerically 0 or 1 occurred”\n",
      "Warning message in .bayesglm.fit.loop.printWarnings(Warning, state, family):\n",
      "“fitted probabilities numerically 0 or 1 occurred”\n",
      "Warning message in .bayesglm.fit.loop.printWarnings(Warning, state, family):\n",
      "“fitted probabilities numerically 0 or 1 occurred”\n",
      "\n",
      "Done!\n",
      "\n"
     ]
    }
   ],
   "source": [
    "summaryCond <- summary(zlmCond, doLRT='conditionCD4')"
   ]
  },
  {
   "cell_type": "code",
   "execution_count": 58,
   "id": "425f4f97",
   "metadata": {},
   "outputs": [],
   "source": [
    "summaryDt <- summaryCond$datatable\n",
    "fcHurdle <- merge(summaryDt[contrast=='conditionCD4' & component=='H',.(primerid, `Pr(>Chisq)`)], #hurdle P values\n",
    "                      summaryDt[contrast=='conditionCD4' & component=='logFC', .(primerid, coef, ci.hi, ci.lo)], by='primerid') #logFC coefficients\n",
    "\n",
    "fcHurdle[,fdr:=p.adjust(`Pr(>Chisq)`, 'fdr')]\n",
    "fcHurdleSig <- merge(fcHurdle[fdr<.05], as.data.table(mcols(sca)), by='primerid')\n",
    "# setorder(fcHurdleSig, fdr)"
   ]
  },
  {
   "cell_type": "code",
   "execution_count": 59,
   "id": "6b7862a3",
   "metadata": {},
   "outputs": [
    {
     "data": {
      "text/html": [
       "<table class=\"dataframe\">\n",
       "<caption>A data.table: 6 × 6</caption>\n",
       "<thead>\n",
       "\t<tr><th scope=col>primerid</th><th scope=col>Pr(&gt;Chisq)</th><th scope=col>coef</th><th scope=col>ci.hi</th><th scope=col>ci.lo</th><th scope=col>fdr</th></tr>\n",
       "\t<tr><th scope=col>&lt;chr&gt;</th><th scope=col>&lt;dbl&gt;</th><th scope=col>&lt;dbl&gt;</th><th scope=col>&lt;dbl&gt;</th><th scope=col>&lt;dbl&gt;</th><th scope=col>&lt;dbl&gt;</th></tr>\n",
       "</thead>\n",
       "<tbody>\n",
       "\t<tr><td>A1BG </td><td>9.128088e-01</td><td>-0.0001070671</td><td> 0.02957264</td><td>-0.029786775</td><td>9.468831e-01</td></tr>\n",
       "\t<tr><td>AAAS </td><td>2.479021e-01</td><td> 0.0080933301</td><td> 0.02254140</td><td>-0.006354735</td><td>3.783401e-01</td></tr>\n",
       "\t<tr><td>AAED1</td><td>3.771149e-06</td><td>-0.0720544319</td><td>-0.03239617</td><td>-0.111712696</td><td>1.848231e-05</td></tr>\n",
       "\t<tr><td>AAGAB</td><td>9.159206e-01</td><td>-0.0055434392</td><td> 0.02825157</td><td>-0.039338444</td><td>9.484847e-01</td></tr>\n",
       "\t<tr><td>AAK1 </td><td>1.996694e-22</td><td> 0.2986867325</td><td> 0.37273580</td><td> 0.224637665</td><td>2.863830e-21</td></tr>\n",
       "\t<tr><td>AAMDC</td><td>6.757721e-01</td><td> 0.0029074651</td><td> 0.02748086</td><td>-0.021665931</td><td>7.834587e-01</td></tr>\n",
       "</tbody>\n",
       "</table>\n"
      ],
      "text/latex": [
       "A data.table: 6 × 6\n",
       "\\begin{tabular}{llllll}\n",
       " primerid & Pr(>Chisq) & coef & ci.hi & ci.lo & fdr\\\\\n",
       " <chr> & <dbl> & <dbl> & <dbl> & <dbl> & <dbl>\\\\\n",
       "\\hline\n",
       "\t A1BG  & 9.128088e-01 & -0.0001070671 &  0.02957264 & -0.029786775 & 9.468831e-01\\\\\n",
       "\t AAAS  & 2.479021e-01 &  0.0080933301 &  0.02254140 & -0.006354735 & 3.783401e-01\\\\\n",
       "\t AAED1 & 3.771149e-06 & -0.0720544319 & -0.03239617 & -0.111712696 & 1.848231e-05\\\\\n",
       "\t AAGAB & 9.159206e-01 & -0.0055434392 &  0.02825157 & -0.039338444 & 9.484847e-01\\\\\n",
       "\t AAK1  & 1.996694e-22 &  0.2986867325 &  0.37273580 &  0.224637665 & 2.863830e-21\\\\\n",
       "\t AAMDC & 6.757721e-01 &  0.0029074651 &  0.02748086 & -0.021665931 & 7.834587e-01\\\\\n",
       "\\end{tabular}\n"
      ],
      "text/markdown": [
       "\n",
       "A data.table: 6 × 6\n",
       "\n",
       "| primerid &lt;chr&gt; | Pr(&gt;Chisq) &lt;dbl&gt; | coef &lt;dbl&gt; | ci.hi &lt;dbl&gt; | ci.lo &lt;dbl&gt; | fdr &lt;dbl&gt; |\n",
       "|---|---|---|---|---|---|\n",
       "| A1BG  | 9.128088e-01 | -0.0001070671 |  0.02957264 | -0.029786775 | 9.468831e-01 |\n",
       "| AAAS  | 2.479021e-01 |  0.0080933301 |  0.02254140 | -0.006354735 | 3.783401e-01 |\n",
       "| AAED1 | 3.771149e-06 | -0.0720544319 | -0.03239617 | -0.111712696 | 1.848231e-05 |\n",
       "| AAGAB | 9.159206e-01 | -0.0055434392 |  0.02825157 | -0.039338444 | 9.484847e-01 |\n",
       "| AAK1  | 1.996694e-22 |  0.2986867325 |  0.37273580 |  0.224637665 | 2.863830e-21 |\n",
       "| AAMDC | 6.757721e-01 |  0.0029074651 |  0.02748086 | -0.021665931 | 7.834587e-01 |\n",
       "\n"
      ],
      "text/plain": [
       "  primerid Pr(>Chisq)   coef          ci.hi       ci.lo        fdr         \n",
       "1 A1BG     9.128088e-01 -0.0001070671  0.02957264 -0.029786775 9.468831e-01\n",
       "2 AAAS     2.479021e-01  0.0080933301  0.02254140 -0.006354735 3.783401e-01\n",
       "3 AAED1    3.771149e-06 -0.0720544319 -0.03239617 -0.111712696 1.848231e-05\n",
       "4 AAGAB    9.159206e-01 -0.0055434392  0.02825157 -0.039338444 9.484847e-01\n",
       "5 AAK1     1.996694e-22  0.2986867325  0.37273580  0.224637665 2.863830e-21\n",
       "6 AAMDC    6.757721e-01  0.0029074651  0.02748086 -0.021665931 7.834587e-01"
      ]
     },
     "metadata": {},
     "output_type": "display_data"
    }
   ],
   "source": [
    "head(fcHurdle)"
   ]
  },
  {
   "cell_type": "code",
   "execution_count": 60,
   "id": "1db0fe92",
   "metadata": {},
   "outputs": [
    {
     "data": {
      "image/png": "[encoded data removed]",
      "text/plain": [
       "Plot with title “Histogram of fcHurdleSig[[\"Pr(>Chisq)\"]]”"
      ]
     },
     "metadata": {
      "image/png": {
       "height": 420,
       "width": 420
      }
     },
     "output_type": "display_data"
    }
   ],
   "source": [
    "hist(fcHurdleSig[['Pr(>Chisq)']])"
   ]
  },
  {
   "cell_type": "code",
   "execution_count": 61,
   "id": "5d7c2f99",
   "metadata": {},
   "outputs": [],
   "source": [
    "write.csv(fcHurdle, 'MAST_ct_comparison_pbmc3k.csv')"
   ]
  },
  {
   "cell_type": "code",
   "execution_count": 62,
   "id": "df9f7973",
   "metadata": {},
   "outputs": [],
   "source": [
    "write.csv(demux[[]], 'MAST_ct_comparison_cells_pbmc3k.csv')"
   ]
  },
  {
   "cell_type": "markdown",
   "id": "58aaf746",
   "metadata": {},
   "source": [
    "### IFNB"
   ]
  },
  {
   "cell_type": "code",
   "execution_count": 16,
   "id": "97688ec6",
   "metadata": {},
   "outputs": [
    {
     "name": "stderr",
     "output_type": "stream",
     "text": [
      "Warning message in if (is.na(desc)) {:\n",
      "“the condition has length > 1 and only the first element will be used”\n",
      "Warning message in if (is.na(desc)) {:\n",
      "“the condition has length > 1 and only the first element will be used”\n",
      "Warning message in if (is.na(desc)) {:\n",
      "“the condition has length > 1 and only the first element will be used”\n",
      "Warning message in if (is.na(desc)) {:\n",
      "“the condition has length > 1 and only the first element will be used”\n",
      "Warning message in if (is.na(desc)) {:\n",
      "“the condition has length > 1 and only the first element will be used”\n",
      "Warning message in if (is.na(desc)) {:\n",
      "“the condition has length > 1 and only the first element will be used”\n",
      "Warning message in if (is.na(desc)) {:\n",
      "“the condition has length > 1 and only the first element will be used”\n",
      "Warning message in if (is.na(desc)) {:\n",
      "“the condition has length > 1 and only the first element will be used”\n",
      "Warning message in if (is.na(desc)) {:\n",
      "“the condition has length > 1 and only the first element will be used”\n",
      "Warning message in if (is.na(desc)) {:\n",
      "“the condition has length > 1 and only the first element will be used”\n",
      "Warning message in if (is.na(desc)) {:\n",
      "“the condition has length > 1 and only the first element will be used”\n",
      "Warning message in if (is.na(desc)) {:\n",
      "“the condition has length > 1 and only the first element will be used”\n",
      "Warning message in if (is.na(desc)) {:\n",
      "“the condition has length > 1 and only the first element will be used”\n",
      "Warning message in if (is.na(desc)) {:\n",
      "“the condition has length > 1 and only the first element will be used”\n",
      "Warning message in if (is.na(desc)) {:\n",
      "“the condition has length > 1 and only the first element will be used”\n",
      "Warning message in if (is.na(desc)) {:\n",
      "“the condition has length > 1 and only the first element will be used”\n",
      "Warning message in if (is.na(desc)) {:\n",
      "“the condition has length > 1 and only the first element will be used”\n",
      "Warning message in if (is.na(desc)) {:\n",
      "“the condition has length > 1 and only the first element will be used”\n",
      "Warning message in if (is.na(desc)) {:\n",
      "“the condition has length > 1 and only the first element will be used”\n",
      "Warning message in if (is.na(desc)) {:\n",
      "“the condition has length > 1 and only the first element will be used”\n",
      "Warning message in if (is.na(desc)) {:\n",
      "“the condition has length > 1 and only the first element will be used”\n",
      "Warning message in if (is.na(desc)) {:\n",
      "“the condition has length > 1 and only the first element will be used”\n",
      "Warning message in if (is.na(desc)) {:\n",
      "“the condition has length > 1 and only the first element will be used”\n",
      "Warning message in if (is.na(desc)) {:\n",
      "“the condition has length > 1 and only the first element will be used”\n",
      "Removing package from ‘/home/ssm-user/anaconda3/envs/r-env/lib/R/library’\n",
      "(as ‘lib’ is unspecified)\n",
      "\n",
      "Updating HTML index of packages in '.Library'\n",
      "\n",
      "Making 'packages.html' ...\n",
      " done\n",
      "\n",
      "Warning message in if (is.na(desc)) {:\n",
      "“the condition has length > 1 and only the first element will be used”\n",
      "Warning message in if (is.na(desc)) {:\n",
      "“the condition has length > 1 and only the first element will be used”\n",
      "Warning message in if (is.na(desc)) {:\n",
      "“the condition has length > 1 and only the first element will be used”\n",
      "Warning message in if (is.na(desc)) {:\n",
      "“the condition has length > 1 and only the first element will be used”\n",
      "Warning message in if (is.na(desc)) {:\n",
      "“the condition has length > 1 and only the first element will be used”\n",
      "Warning message in if (is.na(desc)) {:\n",
      "“the condition has length > 1 and only the first element will be used”\n",
      "Warning message in if (is.na(desc)) {:\n",
      "“the condition has length > 1 and only the first element will be used”\n",
      "Warning message in if (is.na(desc)) {:\n",
      "“the condition has length > 1 and only the first element will be used”\n",
      "Warning message in if (is.na(desc)) {:\n",
      "“the condition has length > 1 and only the first element will be used”\n",
      "Warning message in if (is.na(desc)) {:\n",
      "“the condition has length > 1 and only the first element will be used”\n",
      "Warning message in if (is.na(desc)) {:\n",
      "“the condition has length > 1 and only the first element will be used”\n",
      "Warning message in if (is.na(desc)) {:\n",
      "“the condition has length > 1 and only the first element will be used”\n"
     ]
    }
   ],
   "source": [
    "RemoveData('ifnb')"
   ]
  },
  {
   "cell_type": "code",
   "execution_count": 1,
   "id": "cd5e7723",
   "metadata": {},
   "outputs": [
    {
     "name": "stderr",
     "output_type": "stream",
     "text": [
      "Loading required package: limma\n",
      "\n"
     ]
    }
   ],
   "source": [
    "library('edgeR')"
   ]
  },
  {
   "cell_type": "code",
   "execution_count": 6,
   "id": "f63538fd",
   "metadata": {},
   "outputs": [],
   "source": [
    "data(\"ifnb\")"
   ]
  },
  {
   "cell_type": "code",
   "execution_count": 7,
   "id": "4ba4a7ad",
   "metadata": {},
   "outputs": [],
   "source": [
    "ifnb <- subset(x = ifnb, subset = seurat_annotations == \"CD14 Mono\")"
   ]
  },
  {
   "cell_type": "code",
   "execution_count": 8,
   "id": "4d1e9a4f",
   "metadata": {},
   "outputs": [],
   "source": [
    "ifnb <- NormalizeData(object = ifnb)"
   ]
  },
  {
   "cell_type": "code",
   "execution_count": 9,
   "id": "8feca857",
   "metadata": {},
   "outputs": [],
   "source": [
    "ifnb$stim = sample(as.vector(ifnb$stim))"
   ]
  },
  {
   "cell_type": "code",
   "execution_count": 96,
   "id": "3da5d44b",
   "metadata": {},
   "outputs": [],
   "source": [
    "ifnb$replicate = sample.int(2, dim(ifnb)[2], replace=TRUE)"
   ]
  },
  {
   "cell_type": "code",
   "execution_count": 11,
   "id": "d07e4e13",
   "metadata": {},
   "outputs": [],
   "source": [
    "expressed_genes = rowMeans(as.matrix(GetAssayData(object = ifnb,slot=\"counts\"))) > 0.07"
   ]
  },
  {
   "cell_type": "code",
   "execution_count": 12,
   "id": "46213d57",
   "metadata": {},
   "outputs": [
    {
     "data": {
      "text/plain": [
       "An object of class Seurat \n",
       "2572 features across 2215 samples within 1 assay \n",
       "Active assay: RNA (2572 features, 0 variable features)"
      ]
     },
     "metadata": {},
     "output_type": "display_data"
    }
   ],
   "source": [
    "subset(ifnb[expressed_genes,], subset=stim=='CTRL')"
   ]
  },
  {
   "cell_type": "code",
   "execution_count": 15,
   "id": "ae7c1370",
   "metadata": {},
   "outputs": [
    {
     "data": {
      "text/html": [
       "<table class=\"dataframe\">\n",
       "<caption>A data.frame: 10 × 5</caption>\n",
       "<thead>\n",
       "\t<tr><th></th><th scope=col>orig.ident</th><th scope=col>nCount_RNA</th><th scope=col>nFeature_RNA</th><th scope=col>stim</th><th scope=col>seurat_annotations</th></tr>\n",
       "\t<tr><th></th><th scope=col>&lt;chr&gt;</th><th scope=col>&lt;dbl&gt;</th><th scope=col>&lt;int&gt;</th><th scope=col>&lt;chr&gt;</th><th scope=col>&lt;fct&gt;</th></tr>\n",
       "</thead>\n",
       "<tbody>\n",
       "\t<tr><th scope=row>AAACATACATTTCC.1</th><td>IMMUNE_CTRL</td><td>3017</td><td>877</td><td>CTRL</td><td>CD14 Mono</td></tr>\n",
       "\t<tr><th scope=row>AAACATACCAGAAA.1</th><td>IMMUNE_CTRL</td><td>2481</td><td>713</td><td>CTRL</td><td>CD14 Mono</td></tr>\n",
       "\t<tr><th scope=row>AAACATACCTCGCT.1</th><td>IMMUNE_CTRL</td><td>3420</td><td>850</td><td>CTRL</td><td>CD14 Mono</td></tr>\n",
       "\t<tr><th scope=row>AAACATACGGCATT.1</th><td>IMMUNE_CTRL</td><td>1581</td><td>557</td><td>STIM</td><td>CD14 Mono</td></tr>\n",
       "\t<tr><th scope=row>AAACATTGCTTCGC.1</th><td>IMMUNE_CTRL</td><td>2536</td><td>669</td><td>CTRL</td><td>CD14 Mono</td></tr>\n",
       "\t<tr><th scope=row>AAACGCACTCGCCT.1</th><td>IMMUNE_CTRL</td><td>3563</td><td>908</td><td>STIM</td><td>CD14 Mono</td></tr>\n",
       "\t<tr><th scope=row>AAACGCTGGGACAG.1</th><td>IMMUNE_CTRL</td><td>2998</td><td>847</td><td>STIM</td><td>CD14 Mono</td></tr>\n",
       "\t<tr><th scope=row>AAACGCTGGGGATG.1</th><td>IMMUNE_CTRL</td><td>1459</td><td>510</td><td>STIM</td><td>CD14 Mono</td></tr>\n",
       "\t<tr><th scope=row>AAACGGCTAGAGTA.1</th><td>IMMUNE_CTRL</td><td>3606</td><td>969</td><td>CTRL</td><td>CD14 Mono</td></tr>\n",
       "\t<tr><th scope=row>AAACGGCTTCTCTA.1</th><td>IMMUNE_CTRL</td><td>1450</td><td>561</td><td>CTRL</td><td>CD14 Mono</td></tr>\n",
       "</tbody>\n",
       "</table>\n"
      ],
      "text/latex": [
       "A data.frame: 10 × 5\n",
       "\\begin{tabular}{r|lllll}\n",
       "  & orig.ident & nCount\\_RNA & nFeature\\_RNA & stim & seurat\\_annotations\\\\\n",
       "  & <chr> & <dbl> & <int> & <chr> & <fct>\\\\\n",
       "\\hline\n",
       "\tAAACATACATTTCC.1 & IMMUNE\\_CTRL & 3017 & 877 & CTRL & CD14 Mono\\\\\n",
       "\tAAACATACCAGAAA.1 & IMMUNE\\_CTRL & 2481 & 713 & CTRL & CD14 Mono\\\\\n",
       "\tAAACATACCTCGCT.1 & IMMUNE\\_CTRL & 3420 & 850 & CTRL & CD14 Mono\\\\\n",
       "\tAAACATACGGCATT.1 & IMMUNE\\_CTRL & 1581 & 557 & STIM & CD14 Mono\\\\\n",
       "\tAAACATTGCTTCGC.1 & IMMUNE\\_CTRL & 2536 & 669 & CTRL & CD14 Mono\\\\\n",
       "\tAAACGCACTCGCCT.1 & IMMUNE\\_CTRL & 3563 & 908 & STIM & CD14 Mono\\\\\n",
       "\tAAACGCTGGGACAG.1 & IMMUNE\\_CTRL & 2998 & 847 & STIM & CD14 Mono\\\\\n",
       "\tAAACGCTGGGGATG.1 & IMMUNE\\_CTRL & 1459 & 510 & STIM & CD14 Mono\\\\\n",
       "\tAAACGGCTAGAGTA.1 & IMMUNE\\_CTRL & 3606 & 969 & CTRL & CD14 Mono\\\\\n",
       "\tAAACGGCTTCTCTA.1 & IMMUNE\\_CTRL & 1450 & 561 & CTRL & CD14 Mono\\\\\n",
       "\\end{tabular}\n"
      ],
      "text/markdown": [
       "\n",
       "A data.frame: 10 × 5\n",
       "\n",
       "| <!--/--> | orig.ident &lt;chr&gt; | nCount_RNA &lt;dbl&gt; | nFeature_RNA &lt;int&gt; | stim &lt;chr&gt; | seurat_annotations &lt;fct&gt; |\n",
       "|---|---|---|---|---|---|\n",
       "| AAACATACATTTCC.1 | IMMUNE_CTRL | 3017 | 877 | CTRL | CD14 Mono |\n",
       "| AAACATACCAGAAA.1 | IMMUNE_CTRL | 2481 | 713 | CTRL | CD14 Mono |\n",
       "| AAACATACCTCGCT.1 | IMMUNE_CTRL | 3420 | 850 | CTRL | CD14 Mono |\n",
       "| AAACATACGGCATT.1 | IMMUNE_CTRL | 1581 | 557 | STIM | CD14 Mono |\n",
       "| AAACATTGCTTCGC.1 | IMMUNE_CTRL | 2536 | 669 | CTRL | CD14 Mono |\n",
       "| AAACGCACTCGCCT.1 | IMMUNE_CTRL | 3563 | 908 | STIM | CD14 Mono |\n",
       "| AAACGCTGGGACAG.1 | IMMUNE_CTRL | 2998 | 847 | STIM | CD14 Mono |\n",
       "| AAACGCTGGGGATG.1 | IMMUNE_CTRL | 1459 | 510 | STIM | CD14 Mono |\n",
       "| AAACGGCTAGAGTA.1 | IMMUNE_CTRL | 3606 | 969 | CTRL | CD14 Mono |\n",
       "| AAACGGCTTCTCTA.1 | IMMUNE_CTRL | 1450 | 561 | CTRL | CD14 Mono |\n",
       "\n"
      ],
      "text/plain": [
       "                 orig.ident  nCount_RNA nFeature_RNA stim seurat_annotations\n",
       "AAACATACATTTCC.1 IMMUNE_CTRL 3017       877          CTRL CD14 Mono         \n",
       "AAACATACCAGAAA.1 IMMUNE_CTRL 2481       713          CTRL CD14 Mono         \n",
       "AAACATACCTCGCT.1 IMMUNE_CTRL 3420       850          CTRL CD14 Mono         \n",
       "AAACATACGGCATT.1 IMMUNE_CTRL 1581       557          STIM CD14 Mono         \n",
       "AAACATTGCTTCGC.1 IMMUNE_CTRL 2536       669          CTRL CD14 Mono         \n",
       "AAACGCACTCGCCT.1 IMMUNE_CTRL 3563       908          STIM CD14 Mono         \n",
       "AAACGCTGGGACAG.1 IMMUNE_CTRL 2998       847          STIM CD14 Mono         \n",
       "AAACGCTGGGGATG.1 IMMUNE_CTRL 1459       510          STIM CD14 Mono         \n",
       "AAACGGCTAGAGTA.1 IMMUNE_CTRL 3606       969          CTRL CD14 Mono         \n",
       "AAACGGCTTCTCTA.1 IMMUNE_CTRL 1450       561          CTRL CD14 Mono         "
      ]
     },
     "metadata": {},
     "output_type": "display_data"
    }
   ],
   "source": [
    "head(ifnb[[]], 10)"
   ]
  },
  {
   "cell_type": "code",
   "execution_count": 13,
   "id": "085c9075",
   "metadata": {},
   "outputs": [
    {
     "name": "stderr",
     "output_type": "stream",
     "text": [
      "   [[ suppressing 2147 column names ‘AAACATACGGCATT.1’, ‘AAACGCACTCGCCT.1’, ‘AAACGCTGGGACAG.1’ ... ]]\n",
      "\n"
     ]
    },
    {
     "data": {
      "text/plain": [
       "6 x 2147 sparse Matrix of class \"dgCMatrix\"\n",
       "                                                                              \n",
       "HES4     . . . . . . . . . . . . . . . . . . . . .  .  . . . . . . . . . . . .\n",
       "ISG15    3 3 . . . . . . . . . . . 1 . . . 3 . . 1 21 12 . 1 . . 2 . . 1 1 . .\n",
       "SDF4     . . . . . 1 . . . . . . . . . . . . 1 . .  .  . . . 1 . . . 1 . . . .\n",
       "UBE2J2   1 . . . . . . . . . . . . . . . . 1 . . .  .  1 . . . . . . 1 1 . . .\n",
       "AURKAIP1 . . . 1 . 1 2 . 2 . . . . 1 1 1 1 1 1 . 1  .  . 2 . . 1 . . . 2 . 1 .\n",
       "MRPL20   . . . . . . . . . 1 . . 1 1 . . . 2 . . 1  1  2 . . . . . . . . . . .\n",
       "                                                                               \n",
       "HES4     . .  . . . . . . . . . . . . . . . . . . . . . . . . . . . . . . . . .\n",
       "ISG15    . . 13 . . . 1 . . . 1 2 . . . . 7 . . 4 4 . . 1 2 . 1 1 . 1 . . 1 . 4\n",
       "SDF4     . .  1 . . . 1 1 . . . . . . . . . . . . . . . . . . . . . . . . . 1 .\n",
       "UBE2J2   . .  . . . . 1 . . . . . . . . . . 1 1 . . . . . . . . . 1 . 1 . . 1 .\n",
       "AURKAIP1 1 .  . . . . . . . 3 . . . . . 1 1 1 . . . . 1 . 1 . . . 1 . 1 2 . 1 1\n",
       "MRPL20   . 1  . 3 . . . 2 . 1 1 1 . . 1 1 . 1 . . . . 1 . . 1 1 . . . 1 . . 1 .\n",
       "                                                                              \n",
       "HES4     . . . . . . . . . . . . . . . . . . . . . . . . . . . . . . . . . . .\n",
       "ISG15    . . . . . . . . . . . . . 1 1 . . 2 . . 2 2 . 3 3 . 1 . . . 2 . 3 . 3\n",
       "SDF4     . . . . . . . . . . . . . . . 1 . . . . . . . . . . . . . . . . 1 . .\n",
       "UBE2J2   . . 1 . . 1 . . . . . . . 1 . . 1 . . . 1 . . . . . . . . 2 . 1 . . .\n",
       "AURKAIP1 2 . . . . . 2 . 2 . . . . . . 1 1 1 2 . 4 . 1 . . . 1 . 1 . 1 . . 1 1\n",
       "MRPL20   1 . . 2 . 1 . . . . 1 . . 1 . 2 . 2 . . 1 . . 1 . . . 1 . . . . 1 1 .\n",
       "                                                                               \n",
       "HES4     . . . . . . 1 . . . . . . .  . . . . . . . . . . . . . . . . . . . . .\n",
       "ISG15    1 . 1 1 . 1 4 . 1 . 8 . . . 18 1 . 1 . . . . . . . . . . . 1 1 . 1 . .\n",
       "SDF4     1 . . . 1 . 1 . . . . . . 1  2 . . . . . . . . 1 1 1 . . . . 2 . . . .\n",
       "UBE2J2   . . 1 . . . . . . . . 1 . .  . . . 1 . . 1 1 . . 1 . . . . . . 1 1 . .\n",
       "AURKAIP1 1 1 2 . 1 . . 1 . 1 1 1 1 .  1 2 . 1 . . 1 1 . 4 . . . 2 1 . . 1 1 . 2\n",
       "MRPL20   . . . . . . . . . . . 1 2 2  1 . . . . . . . . . . . . 1 . 1 1 . . . .\n",
       "                                                                               \n",
       "HES4     . . . . . . .  1 . . . . . . . . . . . . . . . . . . . . . . . . . . .\n",
       "ISG15    1 1 . 9 7 . . 57 3 3 . 1 . . . 1 3 . . . . . . . . . 1 . . . . . . . .\n",
       "SDF4     . . . . . . .  . . . . . . . . . . . . 1 . . 1 . . . . 1 . . . . 1 . .\n",
       "UBE2J2   . . . . . . .  . . . 1 1 . . . . . . . . . . . . . . . . . . . . . . .\n",
       "AURKAIP1 1 2 . . 1 . .  . 1 . . . 1 2 1 1 1 . . 1 . . . 1 2 2 1 . 2 . . 1 . . .\n",
       "MRPL20   . . . 1 1 2 .  . 1 . . . 1 . . 1 . . 1 . . 1 1 . . . . . 1 . . . 2 . .\n",
       "                                                                               \n",
       "HES4      . . . . . . . . . . . . 1 . . . . . . . . . . . . . . . . . . . . . .\n",
       "ISG15    15 1 1 . . 1 . 5 . . . 1 2 . . . . . 1 . . . 2 2 4 . . . 1 . . . 2 . 3\n",
       "SDF4      . . . . 1 1 . . . . . . . . . . . 1 . . . 1 . . . . . . 1 . . 1 . . .\n",
       "UBE2J2    . . . . . . . . . . . . 1 1 . . 1 . . . . . . . . . . . . . . . . . .\n",
       "AURKAIP1  . . 1 . . 1 . 1 2 2 1 . . . . . . 1 . . 2 1 1 . . 1 . . 1 . 2 1 2 1 1\n",
       "MRPL20    . . 1 1 . . 2 . 1 . . . . . . . . . . . . . 1 . . . . . . . . . . . 1\n",
       "                                                                              \n",
       "HES4     . . . . . . . . . . . . . . . . . . . . . . . . . . . . . . . . . . .\n",
       "ISG15    . 1 . . 1 . . 2 . 2 . . . . . 1 2 . 1 . 2 . 1 . 5 . 2 2 . 2 . . 1 4 .\n",
       "SDF4     . . . . . 1 . 1 . 1 1 . . . . . . . . . . . . . 1 . . 1 . . . . . . .\n",
       "UBE2J2   . . . . . . . 1 . . . . . . . 1 . . . 1 . . . . . . . . . . . . . 1 .\n",
       "AURKAIP1 1 . 1 . . . 1 2 . 1 . . . 1 . . . 2 1 . . . 2 1 . . 2 . . . 1 . . 1 .\n",
       "MRPL20   . . . . . . . 1 . . . 1 1 . . . . 1 . 1 . . . . . . . . . 1 1 . . . .\n",
       "                                                                              \n",
       "HES4     . . . . . . . . . . . . . . . . . .  .  . . . . . . . . . . . . . . .\n",
       "ISG15    . . . 5 . 6 1 . 7 . . . 1 1 . . . . 19 20 . . . . 1 . 1 . 1 . . . . 2\n",
       "SDF4     . 1 . . 1 . 1 . . . . . . . . . . .  .  . . . . . . . . . . . . . . .\n",
       "UBE2J2   . . . . . . . . . . 4 . . . 1 . 1 .  .  . . . . 2 . 1 . . . . 1 . . .\n",
       "AURKAIP1 1 5 . 1 . 2 . . 2 . . . 1 . . . . .  1  . . 2 . 1 1 . . . 1 . . 2 . 1\n",
       "MRPL20   . . . . 1 . . . 1 . 1 . . . . . . 1  .  . . . . 1 . . . 1 . . 2 1 . 1\n",
       "                                                                               \n",
       "HES4     . . . . . .  . . . . . . . . . . . . . . . . . . . . . . . . . . . . .\n",
       "ISG15    2 2 . 1 1 1 15 . . . . . . . . . 8 . . 1 2 . . . 1 . . . 4 . 1 . . . 2\n",
       "SDF4     . . . . . .  . . . . . . . . . . . . . . . . . . . . . . . . . . . . .\n",
       "UBE2J2   . . . . . 1  1 . . . . . . . . . . 1 . . . . . . . . . . . . 1 . 1 1 .\n",
       "AURKAIP1 . . 1 1 . .  1 . . . 1 1 . . 1 1 . . 1 . 2 2 1 . 1 1 . . 2 . 2 . 2 . .\n",
       "MRPL20   . 1 1 1 . .  1 . . . . . . . . . . . . . 1 . . . . . . . . 1 . . . . .\n",
       "                                                                               \n",
       "HES4     . . . . . . . . . . . . . . 1 . .  . . . . . . . . . . . . . . . . . .\n",
       "ISG15    1 . . . . 1 . . . . . . 3 . 7 . . 11 . . . . 1 . . . 2 . . . . . . . .\n",
       "SDF4     . . . . . . . . . 2 . 2 1 . . . .  . . . . . . . . . 2 . . . 1 . . . .\n",
       "UBE2J2   1 . . . . . . . . . 1 . . . . 1 .  . 1 . . . . . . . . . . 2 1 . . 1 2\n",
       "AURKAIP1 . 1 2 . 1 1 . 1 . . 1 . . . . . .  . 1 . 1 1 1 . . 2 1 . . 3 3 3 . . .\n",
       "MRPL20   . . 1 . . 1 1 . . . . . . . . . .  . . . . . 2 . . . . 3 1 3 . 1 . . .\n",
       "                                                                              \n",
       "HES4     . . . . . . . . . . . . . . . . . . . . . . . . . . . . . . . . . . .\n",
       "ISG15    6 1 1 . 2 . . . . . . . . . . . . . 3 1 . . 1 . . . . 5 . . 2 . . . .\n",
       "SDF4     . . . . . . 1 . . . . . . . 1 . . . 1 1 . . . . . . . . . 1 . . . 1 .\n",
       "UBE2J2   . . . . . . . 1 . . . . . 1 . . . . . . . . 1 . 1 . . . . . . . . . .\n",
       "AURKAIP1 . . 1 . . . . . 1 1 1 1 1 . 1 1 1 . . 1 . . 1 1 . . 1 . . . . . . 1 .\n",
       "MRPL20   . 1 . . . . . . . . . . 1 . . . . . . 2 . . 2 2 . . . . . 1 . . 1 . .\n",
       "                                                                              \n",
       "HES4     . . . . . . . . . . . . . . . . . . . . . . . . . . . . . . . . . . .\n",
       "ISG15    2 . 1 . . . . . 2 . 2 . . 3 . . . 5 . 2 . . . . 5 . 1 . . . 2 . 1 . 3\n",
       "SDF4     . . . . . . 2 . . . . . . . . . 1 . 1 . . . . . 1 . . . . . . . . . .\n",
       "UBE2J2   . . . . . . 1 . . . . 1 1 . . . . . . . . . . . . 1 . 1 . . . . . . .\n",
       "AURKAIP1 1 2 . . 1 . . 2 . 1 1 . . . 1 . . 1 . 1 . . . . 1 . . 2 1 . . . . . 1\n",
       "MRPL20   1 . . . 1 . 1 . . . 2 . 1 . . . . . . . . . . . . . . 1 . . . . . . .\n",
       "                                                                               \n",
       "HES4     . .  . . . . . . . . . . . . . . . . . . . . . . . . . . . . . . . . .\n",
       "ISG15    . 6 47 1 . . . . 1 . . 1 1 . . . 1 . . 1 . . 4 2 . . . . 1 1 1 . . 9 .\n",
       "SDF4     . .  . . . 1 . . . . . . . . . 1 . . . . . . . . . . 1 . . . . . . . .\n",
       "UBE2J2   . .  . . . . . . 1 . . . 1 . . . . . . . . . . 1 . . . . . . . . 1 . .\n",
       "AURKAIP1 . .  . . . . . . 1 . 1 . 1 . . . 1 . . . . 1 . . 1 . . . . 3 . . . 2 1\n",
       "MRPL20   1 .  . . . . . 1 . . . 1 . 1 . . . . . . . . 1 . . 1 . 2 . . . . 3 1 2\n",
       "                                                                              \n",
       "HES4     . . . . . . . . . . . . . . . . . . . . . . . . . . . . . . . . . . .\n",
       "ISG15    1 . 1 1 . . . 1 . . . . . . 1 . . . . . . . . 1 . . 3 . . 1 . . . . .\n",
       "SDF4     . 1 . . . . . . . . 2 . . . . . . . . . . . . . . . . . . . . . . . .\n",
       "UBE2J2   . . . . . . . . . . . . . 1 . . . . . . . . . . . . . . . . . . . . .\n",
       "AURKAIP1 . . 2 . . . . 1 2 . 1 1 . . . 1 . . 1 1 . . . 2 1 1 . 2 . 2 . 1 1 1 .\n",
       "MRPL20   . . . . . . 1 1 . 1 . 2 . . . . . . . . . . 1 . . . . . 1 1 . . 1 . .\n",
       "                                                                              \n",
       "HES4     . . . .  . . . . . . . . . . . .  . . .  . .  . . . . . . . . . . . .\n",
       "ISG15    . . 5 . 16 . 1 . 2 6 . 2 . . . 3 14 1 . 17 1 31 . 3 1 . . . . 2 . . .\n",
       "SDF4     . . . .  . . . . . . . . . . . 1  . . .  . .  . . . . . . . . . . 1 .\n",
       "UBE2J2   . . . .  . . . . . . . . . . . 1  . . .  . .  . . . . . . . . . . . .\n",
       "AURKAIP1 . . . .  . . 2 2 1 . . 1 1 1 . .  1 1 .  . 1  1 . . . . 1 1 . . 1 . 1\n",
       "MRPL20   . 1 . .  . . 1 . . . 1 . . . . .  . 1 .  . .  2 1 . . . . . . . . . .\n",
       "                                                                              \n",
       "HES4     . . . . . . . . . . . . . . . . . . . . . . . . . . . . . . . . . . .\n",
       "ISG15    . . . . 1 1 . . . 2 . . 1 2 . . . . 1 . . . . . . . . . . . . . . . .\n",
       "SDF4     . . 1 . . 1 . . . . . . . . . . . . . 1 1 1 . . . . 1 . . . . . . . .\n",
       "UBE2J2   . 1 . . 1 . . . . 1 . . . . . . . . . . . 1 . . 1 . . . . 1 . . . . .\n",
       "AURKAIP1 . 3 . . . . 1 . . . . 1 2 1 . . . 1 1 . . . 1 2 . . . 1 2 1 2 . 3 1 1\n",
       "MRPL20   . 1 . . 1 . 1 . . . . 1 . . . . . 2 . . . 1 . . . . 1 . . . . . . 1 .\n",
       "                                                                              \n",
       "HES4     . . . . . . . . . . . .  . . . . .  . . . . . . . . . . . . . . . . .\n",
       "ISG15    . . . . . 1 1 . . . . . 17 . . 1 1 10 . . . . 1 1 . . 4 . 2 . . . . .\n",
       "SDF4     . 2 . . . . . . 1 1 . 1  . . 1 . .  . . . . . . 1 2 . . . . . . 1 . .\n",
       "UBE2J2   1 . 1 . . . . . . . . .  . . . 1 .  . . 1 . . . . . . . . . . 1 . . .\n",
       "AURKAIP1 1 . 2 1 1 . . . 1 1 . .  1 2 . 1 .  1 1 . . . 1 . . 1 . . . . . . . 1\n",
       "MRPL20   1 1 . . . . . . . . . 1  . . . 2 1  . . . . . . . . 2 . . . . . . . .\n",
       "                                                                              \n",
       "HES4     . . . . . . . . . . . . .  . . . . . . .  . . . . . . . . . . . . . .\n",
       "ISG15    1 . . . 1 . 1 . 1 1 2 . . 49 1 . . 1 . . 16 . 1 . 1 . . . . 1 . 1 . .\n",
       "SDF4     . . . . 1 . . . . . 1 . .  1 1 . . . . .  . . . . . . . . . . . . . 1\n",
       "UBE2J2   . 1 . 1 . . . . . 1 . . .  . . . . . 1 .  . 1 . . . . . . . . . 1 . .\n",
       "AURKAIP1 . 1 . 1 . . . . 1 . . 3 1  . 1 1 1 2 . .  . . . . 1 1 . . . 1 . . . 2\n",
       "MRPL20   1 2 . 1 . . 2 . 1 . 1 . .  1 . 1 1 . 1 1  . . 1 . . 1 . . 1 2 . . . 1\n",
       "                                                                               \n",
       "HES4     . 1 . . . . . . . . . . . . . . .  . . . . . . . . . . . . . . . . . .\n",
       "ISG15    . . . 1 3 . . . . . 2 . 1 1 1 3 1 18 . . . . . 1 . . . . 1 . . 1 . . 1\n",
       "SDF4     1 . . . . 1 . 1 . . . 2 . . . . .  . . . . . . 1 1 . . . . . . . . . .\n",
       "UBE2J2   . . . . . . . . . . . . . . . . 1  . . . . . 1 1 . . . . . 1 . . . . .\n",
       "AURKAIP1 1 2 . 1 . . . . 2 1 . 1 3 . . . .  . . . 1 1 1 . 1 1 1 . 1 2 . . . . .\n",
       "MRPL20   1 . . . . . . 2 . . . 1 . . . 1 .  . . . . . 1 1 . . . . . . . . . . .\n",
       "                                                                              \n",
       "HES4     . . . . . . . . . . . . . . . . . . . . . . . . . . . . . . . . . . .\n",
       "ISG15    1 2 . . . . . 1 . . . . 1 . 1 1 1 . . . 3 . . . . . . 1 . . . 1 . 1 .\n",
       "SDF4     1 . . . . . . . . . . . . . . 1 . . 1 . . . . . . . . . . . . . . . .\n",
       "UBE2J2   . . . 1 . . . 1 . 1 . . . . . . . . 1 . . . . . . . . . 1 1 . . 1 1 .\n",
       "AURKAIP1 . . 1 . . 1 2 . . . . 1 1 . 1 1 1 . 1 . 1 1 . . . 1 2 . . . 2 1 . . 3\n",
       "MRPL20   . . . . . . . . 1 . 1 . . . . . 1 . . . . . . 1 . . . 1 . . . . . . 2\n",
       "                                                                               \n",
       "HES4     . . . . . . . . . . . . . . . . . . . . . . . . . . . . . . . . . .  .\n",
       "ISG15    . . 5 . 1 . . . . . . . . 1 . . . . . . . . 1 . . 1 . 2 . 3 . . . 2 29\n",
       "SDF4     . 1 . 1 1 . 1 . . . 1 . . . . 1 . . . . 2 . . . . . . . . 1 . . . .  .\n",
       "UBE2J2   . . . . . . . . . . . . . . . . . . 1 1 . . . . . . . . 1 . . . . .  .\n",
       "AURKAIP1 1 2 1 . . . . . . . . . . 2 . . . 1 2 . . . 1 . 1 2 1 . . . . 2 1 3  .\n",
       "MRPL20   . 1 . 1 1 . . . . . . . . . . . . . . . . . . . . . . . . . . . . .  .\n",
       "                                                                              \n",
       "HES4     . . . . . . . . . . . . . . . . . . . . . . . . . . . . . . . . . . .\n",
       "ISG15    . . . . . 1 . . . . . . 1 . 1 . . . 7 1 . 1 . . . 3 6 . . 1 . . . . 3\n",
       "SDF4     . . 1 . 1 . . 1 . . 3 . . . . . . . . 1 . . 1 . . . . . . . . . . . .\n",
       "UBE2J2   . 1 . . 1 . . . . . . . . . . . 1 . . . . . . . . 1 . . . . . . . . 1\n",
       "AURKAIP1 1 1 . . . . . . . 1 . . . 3 1 2 2 1 2 . . . 1 . . 2 . 1 2 . . . . . .\n",
       "MRPL20   . 1 2 . 1 . . . . 1 . . . 1 . . . . 1 . . . 1 . 1 . . . . . . . . . .\n",
       "                                                                              \n",
       "HES4     . . . . . . . . . . . . . . . . . . . . . . . . . . . . . . . . . . .\n",
       "ISG15    . 1 . . 1 1 . . 1 1 . . . 4 . 1 3 . . . 1 . . . 2 . 1 . . . . 1 1 . .\n",
       "SDF4     . . . . . . . . . . . . . . . 1 . . 1 . . . . 1 3 . . . . . . . 1 . .\n",
       "UBE2J2   1 . . . . . . . 1 . . . . 1 . . . . 1 . . . . . . . . . 1 1 . . . . .\n",
       "AURKAIP1 . . . 1 . 1 . . . 1 . 1 2 . 1 . 1 . 1 2 1 . 1 . 1 . . 1 1 . . . . . .\n",
       "MRPL20   . . . . 1 . . . 1 . . . 2 . . 2 . . . 1 . . . . . 1 1 . . 1 . . . . .\n",
       "                                                                               \n",
       "HES4     . . . . . . . . . . . . . . . . . . . . . . . . . . . . . .  . . . . .\n",
       "ISG15    . . . . . . . . 2 . 1 . . . . . . . . 1 . 3 . . . . . . . 1 18 4 6 . .\n",
       "SDF4     . . . . . . . . . . . . . . . . . . . 1 . . . . 1 . . . . .  1 . . 1 .\n",
       "UBE2J2   . . . . . . 1 . . . . 1 . . . . . . . . . . . . 1 . . . . 1  . . . . .\n",
       "AURKAIP1 . . 1 . 1 . 1 1 2 1 . 3 . . 1 1 . . . . . . 1 . . . . 1 1 .  . . . . .\n",
       "MRPL20   . . . . . 1 . . . . 1 1 2 . . . . 2 . . 1 1 1 . . . . . . 1  2 . . . .\n",
       "                                                                              \n",
       "HES4     . . . .  . . . . . . . . . . . . 1 . . . . . . . . . . . . . .  . . .\n",
       "ISG15    . . . 1 10 . 1 9 1 1 3 . . . 1 . . . . 1 . . 3 . . . . . 1 . . 11 . 7\n",
       "SDF4     . . . .  . . . . . . 1 . . . . . . . . . 1 . . . . 1 . . . . .  1 . .\n",
       "UBE2J2   1 . . .  . . . . . . . . . . . . . . . 1 1 . . . . . . . 1 . .  . . .\n",
       "AURKAIP1 2 1 1 2  2 . . 2 . . 1 . 3 . 4 1 . . . 3 3 1 1 2 . 1 2 . . 1 1  . . .\n",
       "MRPL20   . . . .  . . . . . . . . . . . 2 . . . . . . 1 . . 1 . . 1 . .  . . 1\n",
       "                                                                              \n",
       "HES4     . . . . . . . . . . . . . . . . . . . . . . . . . . . . . . . . . . .\n",
       "ISG15    3 . 2 . . . 7 1 . . . . 1 . . . . 3 . . . . . . . . . 1 . . . . . . .\n",
       "SDF4     . . . . . . . . . . . . 1 . . . . . . . . . . . 2 . 1 . . 1 . . . . .\n",
       "UBE2J2   . . . 1 . . . . . . . . . . . 1 . . . 1 . 1 . . . . . 1 . . 1 . . . .\n",
       "AURKAIP1 1 1 1 . 1 1 2 . . . . . 1 . . . 1 . . 1 1 1 . . 1 . . 1 . . 1 . . . .\n",
       "MRPL20   1 . . . . 1 1 . . . . 2 . . . . 1 1 1 . . . . 1 1 2 . 1 . . . . 1 2 1\n",
       "                                                                               \n",
       "HES4     . . . . . . 3 . . . . . . . . . .  . . . . . . . . . . . . . 1 . . . .\n",
       "ISG15    . . . 1 . . 1 4 . . . 5 4 . . . 3 10 . . . . . 1 . 1 . . 1 2 . 1 . . 1\n",
       "SDF4     1 . . . . . . . . 1 . . . . . . .  . . . . 1 1 1 . . . . . . . . . . .\n",
       "UBE2J2   . . . . . . . . . 1 . . 1 . . . .  . . . . 1 . . . . . . . . . . . . .\n",
       "AURKAIP1 . 1 . . . . . 2 . 1 . . . 1 . . 1  . . 2 1 . . . 1 . . . . 1 . 2 2 . .\n",
       "MRPL20   1 . . . . . 1 . . 1 . . . . . . 1  . . 1 . . . . . . 1 . . . . . . . .\n",
       "                                                                               \n",
       "HES4     . . . . . . . . . . . . . . . . . . . . . . . . . .  . . . . . . . . .\n",
       "ISG15    . 3 . . . . . 1 1 . 3 . 5 . . . . . . . . . . . . . 23 . 1 . . . 1 1 .\n",
       "SDF4     1 . . . . 1 . . . . . . . . . . 1 . . 1 . . . . . .  . . . . . . . . .\n",
       "UBE2J2   . . . . 1 . . . . . . . . . . . . . . . . . . . . .  . 1 . . . . . . .\n",
       "AURKAIP1 . 3 1 . 1 1 . 1 . . 2 2 . . . 2 1 . 1 . 1 1 1 2 1 .  2 1 . . . . . 1 1\n",
       "MRPL20   . 1 1 . . . . 2 . . . . . 1 . . . . . . 1 . . . . .  1 . . . . 1 1 . .\n",
       "                                                                              \n",
       "HES4     . . . . . . . . . . . . . . . . . . . . . . . . . . . . . . . . . . .\n",
       "ISG15    . . . . 1 . . . 3 1 2 . . . . . . . . 1 2 . . . 1 . 1 . 1 . . . 3 . .\n",
       "SDF4     . . . . . . . . . . . . . . 1 . . . . . . . 1 . . . . . . . . . . . .\n",
       "UBE2J2   . . . . 1 . . . . . 1 . . . . . 1 . . . 1 . . . . . . . . . 1 . . . .\n",
       "AURKAIP1 1 1 2 . . . . 1 . 1 1 . 2 . 1 . 1 . 1 2 . . . . 1 1 . . . . . . 1 . 1\n",
       "MRPL20   1 . . . 1 . . 1 1 . . 3 . . 1 . . . 1 . . . . . . . . 1 1 . . 1 . . 2\n",
       "                                                                               \n",
       "HES4     . . . . . . . . . . . . . . . . . . . . . . . . . . . . . . . . .  . .\n",
       "ISG15    . . . . 1 1 . . . 1 . . . . . 4 . . 2 1 . 1 . . 1 4 . . . . 1 . . 14 .\n",
       "SDF4     . . . . . . . . . 1 . . . . . . 1 . . . . 1 . . . . . . . . . . .  . .\n",
       "UBE2J2   . . . . . . . . . . . . . . 1 . . . . . . . . . . . . 1 . . . . .  . .\n",
       "AURKAIP1 . . . 2 1 1 . . 2 1 . . . 2 1 . 1 . 2 . 1 . . . . . . 1 1 . . . 2  1 .\n",
       "MRPL20   1 . . . . . . 2 . . . . . . . . . . . . . 1 . . . . . . . 1 . . 1  2 .\n",
       "                                                                             \n",
       "HES4     . . . .  . . . . . . . . . . . . . . . . .   3   1  .   .   1   3  .\n",
       "ISG15    . . . . 20 . . . . . 2 1 3 2 . . . 4 . 2 5 146 173 91 168 133 232 75\n",
       "SDF4     . 1 . .  . . . . . . . . . . . . . 1 . . .   .   .  .   .   .   .  .\n",
       "UBE2J2   . . . .  . . . . . . . . . . . . 1 . 1 . .   .   .  .   2   .   .  .\n",
       "AURKAIP1 1 1 . 2  . . . . . 2 . . . . 3 1 . . . 1 .   .   .  .   .   .   1  .\n",
       "MRPL20   . . . .  . 1 . 1 . . . . . . . . . . . . .   1   .  .   .   1   1  .\n",
       "                                                                            \n",
       "HES4       2   .  .  2  .   5  .   .   5   3  1   6   .  3  .   .   .   .  .\n",
       "ISG15    142 133 73 75 57 268 95 155 197 172 74 265 111 82 56 120 121 136 60\n",
       "SDF4       .   .  .  .  .   .  .   .   1   .  1   .   .  .  .   .   .   .  .\n",
       "UBE2J2     .   .  .  .  .   .  .   .   .   .  .   .   .  .  .   .   .   .  .\n",
       "AURKAIP1   .   .  .  2  .   .  .   .   1   .  1   .   .  1  .   1   .   .  .\n",
       "MRPL20     .   .  .  .  .   .  .   .   .   .  .   .   1  1  .   .   2   .  .\n",
       "                                                                              \n",
       "HES4       1   1  .  .   2  .   2   2  .   3  .   .   .   3   2   .   5   .  1\n",
       "ISG15    114 104 27 58 160 70 150 263 56 145 47 147 100 126 256 103 236 173 83\n",
       "SDF4       .   .  .  .   .  .   .   .  .   .  .   .   .   .   .   .   .   .  .\n",
       "UBE2J2     .   .  .  .   .  .   .   .  .   .  .   .   .   .   .   .   .   .  .\n",
       "AURKAIP1   2   .  .  1   2  .   .   1  .   1  .   .   1   .   .   .   1   .  .\n",
       "MRPL20     1   .  .  .   1  .   .   .  .   .  .   .   .   .   .   .   .   .  .\n",
       "                                                                             \n",
       "HES4       1   .  .   6   1  2  1   1   4   .   .  .   1   .  1  .   2   4  .\n",
       "ISG15    156 118 32 255 132 91 90 125 160 179 137 44 182 120 94 37 216 190 99\n",
       "SDF4       .   .  .   .   .  .  .   .   .   .   .  .   .   .  .  .   .   .  .\n",
       "UBE2J2     .   .  .   .   .  .  .   .   .   .   1  .   .   .  .  .   .   .  .\n",
       "AURKAIP1   .   .  2   2   .  .  .   .   1   .   .  .   .   .  .  .   .   .  .\n",
       "MRPL20     .   .  .   1   .  .  .   .   .   .   .  .   .   .  .  .   .   .  1\n",
       "                                                                            \n",
       "HES4       2   2  .   .   1   1   1   6   2   .   4  1  1   .  .   1   1   1\n",
       "ISG15    131 133 48 115 274 130 142 152 159 143 164 39 86 119 83 145 186 168\n",
       "SDF4       .   .  .   .   .   .   1   .   1   .   .  .  .   1  .   .   .   .\n",
       "UBE2J2     .   .  .   .   .   1   .   .   1   .   .  .  .   .  .   .   .   .\n",
       "AURKAIP1   .   1  1   .   .   1   .   .   .   .   .  .  .   1  .   .   .   .\n",
       "MRPL20     .   .  .   .   .   .   .   .   .   .   .  .  .   .  .   .   .   .\n",
       "                                                                               \n",
       "HES4       .   .   5   .  .   .  .   .   4   1   1   2   .   .  1  2   .  .   2\n",
       "ISG15    146 121 235 100 80 115 71 137 119 221 114 112 116 114 80 59 122 96 356\n",
       "SDF4       .   .   .   .  .   .  .   .   .   .   .   .   .   .  .  .   .  .   .\n",
       "UBE2J2     .   1   .   .  .   .  .   .   .   .   .   .   .   .  .  1   .  1   .\n",
       "AURKAIP1   .   .   1   .  1   .  1   1   1   1   .   1   .   .  .  1   .  1   .\n",
       "MRPL20     1   .   .   .  .   .  .   .   .   .   .   .   .   2  .  .   .  .   .\n",
       "                                                                             \n",
       "HES4       3  .   4  .   1   .   1  .   .   .   6   .   4   .  .  2  .  1   1\n",
       "ISG15    124 44 178 66 219 132 132 86 183 123 243 122 160 114 53 59 50 63 142\n",
       "SDF4       .  .   .  .   .   1   .  1   .   .   .   .   .   .  .  .  .  .   .\n",
       "UBE2J2     .  .   .  .   .   .   1  .   .   .   .   .   .   .  .  .  .  .   .\n",
       "AURKAIP1   .  2   1  1   .   1   .  .   .   .   .   1   .   1  .  .  .  .   .\n",
       "MRPL20     1  .   2  .   .   .   .  .   .   .   .   .   .   .  .  .  .  .   .\n",
       "                                                                            \n",
       "HES4       2   3   2   2   4   1   2  .  .   4   3  .  .   2   .   3   1   3\n",
       "ISG15    328 115 128 175 212 173 172 45 88 180 177 61 62 100 107 145 119 119\n",
       "SDF4       .   .   .   .   .   .   .  .  .   .   .  .  .   .   .   1   .   .\n",
       "UBE2J2     .   .   .   .   .   .   .  .  .   .   .  1  .   .   1   .   .   .\n",
       "AURKAIP1   .   .   .   .   .   1   .  .  .   .   .  .  .   .   1   .   .   .\n",
       "MRPL20     .   .   .   .   .   .   .  .  .   .   .  .  .   .   1   .   2   .\n",
       "                                                                             \n",
       "HES4       2   2  1  .  .   2   2   .   4   2   6  .   .  .  .   1  .   1   1\n",
       "ISG15    212 182 77 65 89 144 162 148 146 289 221 50 142 90 71 208 87 173 103\n",
       "SDF4       .   .  .  .  .   .   .   .   .   .   .  .   .  1  .   .  .   .   .\n",
       "UBE2J2     .   .  .  .  .   .   .   .   .   .   .  .   .  .  .   .  .   .   .\n",
       "AURKAIP1   .   .  .  .  .   .   .   .   .   .   .  .   .  .  .   .  3   .   .\n",
       "MRPL20     .   .  .  .  .   .   .   .   .   .   1  .   .  .  .   .  .   .   1\n",
       "                                                                             \n",
       "HES4       1  .   .   1   4   1  1  11   .   .  1  .  .   2  1  .   3   .   2\n",
       "ISG15    237 42 152 150 123 183 84 195 207 134 70 44 53 163 62 44 213 102 103\n",
       "SDF4       .  .   .   .   .   .  .   .   .   .  .  .  1   .  .  .   .   .   .\n",
       "UBE2J2     .  .   .   .   .   .  .   .   .   .  .  .  .   .  .  .   .   .   .\n",
       "AURKAIP1   .  .   .   1   .   .  .   .   .   2  .  1  .   .  .  .   .   .   .\n",
       "MRPL20     .  .   .   .   .   1  .   .   .   .  .  .  .   .  .  .   .   .   .\n",
       "                                                                               \n",
       "HES4      .   1   .   1  .   6  1   1   .  .  .   3   1   1  .   .  .  .  .   .\n",
       "ISG15    86 100 158 120 73 196 61 150 151 57 54 171 166 174 74 107 59 42 84 105\n",
       "SDF4      .   .   .   .  .   .  .   .   .  .  .   .   .   .  .   .  .  .  .   .\n",
       "UBE2J2    .   .   .   .  .   .  .   1   .  .  .   .   .   .  .   .  .  .  .   .\n",
       "AURKAIP1  .   1   .   .  .   .  .   1   .  .  .   1   .   .  .   1  .  1  .   .\n",
       "MRPL20    .   .   .   .  .   .  .   .   .  .  1   .   1   .  .   .  1  .  .   .\n",
       "                                                                              \n",
       "HES4      .   .   1   .   1  3   2   2   .   7  .   1   3   2   1  .   .  .  .\n",
       "ISG15    96 147 211 182 142 84 337 175 110 404 75 203 190 133 178 55 129 71 92\n",
       "SDF4      .   .   .   .   .  .   .   .   .   .  .   .   .   .   .  .   .  .  .\n",
       "UBE2J2    .   .   .   .   .  .   .   .   .   .  .   .   .   .   .  .   .  .  1\n",
       "AURKAIP1  1   .   .   .   .  .   .   1   .   .  1   .   1   .   .  .   .  .  .\n",
       "MRPL20    .   .   .   .   1  .   .   .   .   .  .   .   .   .   .  .   1  1  .\n",
       "                                                                            \n",
       "HES4       3  .   1  1   .   .   1  .   4   .  .   .   3  3  3  .  .   3   .\n",
       "ISG15    175 95 150 43 146 102 152 60 130 115 78 133 215 79 80 74 61 200 138\n",
       "SDF4       .  .   .  .   .   .   .  .   .   .  .   .   .  .  .  .  .   .   .\n",
       "UBE2J2     .  .   .  .   .   .   .  .   .   1  .   .   .  .  1  .  .   .   .\n",
       "AURKAIP1   .  1   .  .   1   1   .  .   .   .  .   1   .  .  .  .  .   .   1\n",
       "MRPL20     .  .   1  .   .   .   .  .   .   .  .   .   .  .  .  .  .   1   .\n",
       "                                                                            \n",
       "HES4       .   3   1   1  .   4   2  .   .  .   3   .   5   3   .  .   .   .\n",
       "ISG15    136 213 211 124 36 191 308 64 103 45 336 189 167 122 122 69 126 120\n",
       "SDF4       .   .   .   .  .   .   .  .   .  .   .   .   .   .   .  .   .   .\n",
       "UBE2J2     .   .   .   .  .   .   .  .   .  .   .   .   1   .   .  .   .   .\n",
       "AURKAIP1   1   .   .   .  .   1   .  1   .  .   .   1   .   1   .  1   .   .\n",
       "MRPL20     .   .   .   .  1   .   .  .   .  .   1   .   .   .   .  .   1   .\n",
       "                                                                             \n",
       "HES4       1   2  1   .   2   .   1   3   1  .   .   .   .   .   .  1   .   1\n",
       "ISG15    107 115 87 106 151 148 293 203 120 53 149 143 146 125 161 79 129 108\n",
       "SDF4       1   .  .   .   1   .   .   .   .  .   .   .   .   .   .  .   .   .\n",
       "UBE2J2     .   .  .   .   .   .   .   .   .  .   1   .   1   .   .  .   .   .\n",
       "AURKAIP1   .   .  .   .   .   .   .   .   .  .   .   1   1   1   1  .   .   .\n",
       "MRPL20     .   .  .   .   .   .   .   .   .  .   .   2   .   1   .  .   1   .\n",
       "                                                                            \n",
       "HES4      .  1   .   2   .   4   1   .   8   1   .   6   1   2   .  .   4  1\n",
       "ISG15    68 76 156 211 142 127 160 109 166 148 136 141 121 183 117 95 191 80\n",
       "SDF4      .  .   .   .   .   .   .   1   .   .   .   .   .   .   1  .   .  .\n",
       "UBE2J2    .  .   .   .   .   .   .   .   .   .   .   .   .   .   .  .   .  .\n",
       "AURKAIP1  1  .   .   .   .   1   .   .   .   1   .   .   1   .   .  .   .  .\n",
       "MRPL20    .  .   .   .   .   .   .   .   .   .   .   .   .   1   1  .   .  .\n",
       "                                                                             \n",
       "HES4       2   .  .   1  1  .   2   .   .  1  .   .   3   .  .   1  .   4   2\n",
       "ISG15    275 260 16 210 62 53 172 100 137 97 74 114 103 147 55 174 49 148 157\n",
       "SDF4       .   1  .   .  .  .   .   .   .  .  .   .   .   .  .   .  .   .   .\n",
       "UBE2J2     .   .  .   .  .  .   .   .   .  .  .   .   .   .  .   .  .   .   .\n",
       "AURKAIP1   1   .  1   .  .  .   1   .   .  .  .   2   1   1  .   2  .   1   .\n",
       "MRPL20     .   .  1   1  .  .   .   .   .  .  .   .   .   .  1   1  .   .   .\n",
       "                                                                               \n",
       "HES4       .   .  .  .   4  .   2  .   1  .   .   1   1   2   .   .   2   .   2\n",
       "ISG15    117 106 77 42 115 73 110 59 144 57 106 114 182 239 154 106 102 141 101\n",
       "SDF4       .   .  .  .   2  .   .  .   .  .   .   1   .   .   .   .   .   .   .\n",
       "UBE2J2     .   .  .  .   .  .   1  .   .  .   .   .   .   .   .   .   .   .   .\n",
       "AURKAIP1   .   .  .  .   .  .   2  .   .  .   .   1   .   1   .   .   1   .   .\n",
       "MRPL20     .   .  .  .   1  .   .  .   .  .   .   .   .   .   .   .   .   1   .\n",
       "                                                                              \n",
       "HES4      .  .   .   1   1   1   4  .  .  .   .   5  .   .   .   2   3   2   1\n",
       "ISG15    50 54 124 161 110 180 282 87 33 28 182 278 62 112 153 140 124 199 121\n",
       "SDF4      .  .   .   .   .   .   .  .  .  .   .   .  .   .   .   .   .   1   .\n",
       "UBE2J2    .  .   .   .   .   .   .  .  1  .   .   .  .   .   .   .   .   .   .\n",
       "AURKAIP1  2  1   .   .   1   .   .  1  1  .   .   .  .   .   1   .   .   .   1\n",
       "MRPL20    .  .   .   1   1   .   1  .  .  .   .   .  .   .   .   1   1   .   .\n",
       "                                                                              \n",
       "HES4       1   .   .  .   1   .   4   .   2   2   4   1   6   .   .  1   .   .\n",
       "ISG15    187 134 156 80 114 106 232 125 204 170 248 158 251 159 107 86 123 140\n",
       "SDF4       .   .   .  .   .   .   .   .   .   .   .   .   .   .   .  .   .   .\n",
       "UBE2J2     .   .   .  .   .   .   .   .   2   .   .   .   .   1   .  .   .   .\n",
       "AURKAIP1   .   .   1  .   .   .   .   2   .   .   .   .   .   .   .  .   .   .\n",
       "MRPL20     .   .   1  .   .   .   .   .   .   .   .   .   .   .   .  .   .   .\n",
       "                                                                              \n",
       "HES4       3   .   2  .   1   2  1  .  1   .  1  .   2   1  .  .   .  .  1   .\n",
       "ISG15    195 129 166 87 142 175 78 87 92 164 62 62 128 113 18 78 136 88 86 101\n",
       "SDF4       .   .   .  .   .   .  .  .  .   .  1  .   .   .  .  .   .  .  .   .\n",
       "UBE2J2     .   .   .  .   .   .  .  .  .   1  .  .   .   .  .  .   .  .  .   .\n",
       "AURKAIP1   .   .   .  .   2   .  .  .  .   .  2  .   .   .  1  .   1  1  .   .\n",
       "MRPL20     .   .   .  .   .   .  .  .  .   .  .  .   .   .  .  .   .  .  .   .\n",
       "                                                                               \n",
       "HES4       1  1   .   4  .  .   1   .  .   1   6  .   .   5   1   2   .   .   1\n",
       "ISG15    111 75 105 182 40 36 118 123 19 129 214 93 140 227 126 137 166 106 170\n",
       "SDF4       .  .   .   .  .  .   .   .  .   .   .  .   .   .   .   .   .   .   .\n",
       "UBE2J2     .  .   .   .  .  .   .   .  .   .   .  .   .   .   .   .   .   .   .\n",
       "AURKAIP1   1  .   .   .  .  .   .   1  .   .   .  .   .   .   .   1   .   .   2\n",
       "MRPL20     .  .   .   .  .  .   .   .  1   .   .  .   .   .   .   .   .   1   .\n",
       "                                                                              \n",
       "HES4       .   3  .   2  .   6   8   1   .  1  .   2   .   3  .   1   .   .  1\n",
       "ISG15    212 152 44 173 91 224 149 123 105 83 71 201 110 124 97 124 129 255 86\n",
       "SDF4       .   .  .   .  .   2   .   .   .  1  .   .   .   .  .   .   .   .  .\n",
       "UBE2J2     .   .  .   .  .   .   .   .   .  .  1   .   .   .  .   .   .   .  .\n",
       "AURKAIP1   .   .  1   .  .   1   .   .   .  .  .   1   .   .  .   .   .   .  .\n",
       "MRPL20     .   .  .   .  .   .   .   .   .  .  .   .   .   .  .   .   .   .  .\n",
       "                                                                              \n",
       "HES4       1   .   4   5  .   1   1   6   3   .   .   1  .   1   .   1   2   1\n",
       "ISG15    142 127 227 133 57 120 142 268 221 198 107 185 48 110 128 118 129 258\n",
       "SDF4       .   .   .   .  .   .   .   .   .   .   .   .  .   .   .   .   1   .\n",
       "UBE2J2     .   .   .   .  .   .   .   1   .   .   .   .  .   .   .   .   .   .\n",
       "AURKAIP1   .   .   .   .  .   .   .   .   .   .   1   1  .   .   .   .   1   .\n",
       "MRPL20     .   .   .   .  1   .   .   .   .   .   .   .  .   .   .   .   .   .\n",
       "                                                                               \n",
       "HES4       .   .  .  .  1   1   3   .  .   8  .   1  2  2   1  .  .   1   .   1\n",
       "ISG15    183 145 56 56 92 221 272 212 37 123 64 171 71 61 187 54 98 100 394 137\n",
       "SDF4       .   .  .  .  .   .   .   .  .   .  .   .  .  .   .  .  .   .   .   .\n",
       "UBE2J2     .   .  .  .  .   .   .   .  .   .  .   .  .  .   .  .  .   .   .   .\n",
       "AURKAIP1   .   1  .  1  .   1   1   1  .   .  .   .  .  .   .  .  .   1   1   3\n",
       "MRPL20     .   .  .  .  .   .   .   .  .   1  .   .  .  3   .  .  .   .   .   .\n",
       "                                                                              \n",
       "HES4       .   5   .   1  .   3  2  .  .   2  .   4  1   1  1   1  1  .  1   2\n",
       "ISG15    121 169 101 125 28 160 86 61 36 135 68 106 92 105 84 146 95 44 90 224\n",
       "SDF4       .   .   .   .  .   .  .  .  .   .  .   .  .   .  .   .  .  .  .   .\n",
       "UBE2J2     .   .   .   .  .   .  .  .  .   .  .   .  .   .  .   .  .  .  .   .\n",
       "AURKAIP1   1   1   .   .  .   .  .  1  .   .  1   .  1   1  .   .  .  .  .   .\n",
       "MRPL20     .   .   .   3  .   .  1  .  .   .  .   .  .   .  .   .  .  .  .   .\n",
       "                                                                              \n",
       "HES4       4   .   1   1  .   .   .   3   .   3   1  .   6   1   .   1   1   .\n",
       "ISG15    232 161 140 142 94 137 163 294 100 143 167 97 185 136 242 147 108 104\n",
       "SDF4       .   .   1   .  .   .   .   1   .   .   .  .   .   .   .   .   .   .\n",
       "UBE2J2     .   .   .   .  .   .   .   .   .   .   .  1   .   .   .   .   .   .\n",
       "AURKAIP1   .   .   .   .  .   .   1   .   1   1   1  .   .   1   1   .   .   2\n",
       "MRPL20     .   .   .   .  .   .   .   .   .   .   .  .   .   .   .   1   .   1\n",
       "                                                                              \n",
       "HES4       .   1   .   .   2   .   2   .  .   1   1   .   1  .  .  .   .  .  2\n",
       "ISG15    127 119 124 108 192 117 129 121 29 164 133 142 154 90 60 92 191 57 39\n",
       "SDF4       1   1   .   1   .   .   .   .  .   1   .   .   .  .  .  .   .  .  .\n",
       "UBE2J2     1   .   .   .   .   .   .   1  .   .   .   .   .  .  .  .   .  .  .\n",
       "AURKAIP1   .   2   2   .   .   .   1   .  .   .   .   .   .  .  .  .   .  1  1\n",
       "MRPL20     .   2   .   .   .   .   .   .  1   .   .   .   .  .  .  1   .  .  .\n",
       "                                                                               \n",
       "HES4       1   1   .  1   2   1   3   1   .  .  1   1  .   2   .   2  .   1   .\n",
       "ISG15    183 107 135 71 217 167 105 218 237 84 71 147 93 137 173 259 84 213 150\n",
       "SDF4       .   .   .  .   1   .   .   .   .  .  .   .  .   .   1   .  .   .   .\n",
       "UBE2J2     .   .   .  .   1   .   .   .   .  .  .   .  .   .   2   .  .   .   .\n",
       "AURKAIP1   1   .   .  .   .   .   1   .   .  .  .   1  .   .   .   .  .   .   .\n",
       "MRPL20     .   .   .  .   .   .   .   .   .  .  .   .  .   1   .   .  .   .   .\n",
       "                                                                             \n",
       "HES4      .   1   .  .   .   .  .   .  .  .   1   4  .   1   2   .   5   4  1\n",
       "ISG15    28 177 142 72 118 102 59 114 73 58 143 294 41 179 170 104 186 154 53\n",
       "SDF4      7   .   .  .   .   .  .   .  .  .   .   .  .   .   .   .   .   .  .\n",
       "UBE2J2    .   1   .  .   1   .  .   .  1  .   .   .  .   1   .   .   .   .  .\n",
       "AURKAIP1  1   .   .  .   .   1  .   .  .  .   .   .  .   .   .   .   2   1  .\n",
       "MRPL20    1   .   .  .   .   .  .   .  .  .   .   .  .   .   .   .   .   .  .\n",
       "                                                                               \n",
       "HES4       4   2   2   .   4   .   2   5   2   .   2   4   1   .   6   .   1  .\n",
       "ISG15    241 103 179 110 158 156 130 159 117 104 153 255 207 141 181 116 134 89\n",
       "SDF4       .   .   .   .   .   .   .   .   .   .   .   .   .   .   .   .   .  .\n",
       "UBE2J2     .   .   .   .   1   .   .   .   .   .   .   .   .   .   .   .   .  .\n",
       "AURKAIP1   1   1   .   .   2   .   .   .   2   .   .   1   .   .   .   .   1  3\n",
       "MRPL20     1   1   .   .   .   .   .   .   .   .   .   .   .   .   .   .   .  .\n",
       "                                                                            \n",
       "HES4       .  .   .   3   .  1  1   2  2  .   2   .  .   3   2   3   3  .  .\n",
       "ISG15    135 78 219 210 108 70 86 119 74 65 126 346 12 190 110 215 222 82 63\n",
       "SDF4       .  .   .   .   .  .  .   .  .  .   .   .  .   .   .   .   .  .  .\n",
       "UBE2J2     .  .   .   .   .  .  .   .  .  .   .   .  .   .   .   .   .  .  .\n",
       "AURKAIP1   .  .   .   .   .  .  .   1  .  .   1   .  1   1   .   .   .  1  1\n",
       "MRPL20     .  .   .   .   .  .  .   1  .  1   .   .  .   .   .   .   .  .  .\n",
       "                                                                            \n",
       "HES4       6   3  .   .   1   3   1   2   6   3   1  .   .  .  3   .   1   1\n",
       "ISG15    236 170 23 110 243 153 220 202 211 253 113 94 102 67 75 133 112 177\n",
       "SDF4       .   .  .   .   .   1   .   .   .   .   .  .   .  .  .   .   .   .\n",
       "UBE2J2     .   .  .   .   .   .   .   .   .   .   .  .   .  .  .   .   .   .\n",
       "AURKAIP1   .   1  1   .   .   .   1   .   .   .   .  .   .  .  .   .   .   1\n",
       "MRPL20     .   .  .   .   .   .   .   .   .   .   .  .   1  .  .   .   .   .\n",
       "                                                                               \n",
       "HES4       6   1   .  2  .  .   6   3  .  1   2  .   .  .   .  .   1   5   2  .\n",
       "ISG15    247 150 230 92 97 31 201 137 86 59 185 61 176 55 188 58 242 240 258 77\n",
       "SDF4       .   .   .  .  .  .   .   .  .  .   .  .   .  .   .  .   .   .   .  .\n",
       "UBE2J2     .   1   .  .  .  .   .   .  .  .   .  .   .  .   .  .   .   .   .  .\n",
       "AURKAIP1   2   .   .  1  .  1   .   .  .  1   1  2   1  .   .  .   1   .   .  .\n",
       "MRPL20     2   .   .  .  .  .   .   1  1  .   .  .   .  .   .  .   .   .   .  .\n",
       "                                                                            \n",
       "HES4       5   3  .  1  2   2   .  .   1  .   2   2  1  2   1  .   .   .   .\n",
       "ISG15    181 183 90 78 79 181 141 59 166 86 170 248 70 86 215 92 121 164 136\n",
       "SDF4       1   .  .  1  .   1   .  .   .  .   .   .  .  .   .  .   .   .   .\n",
       "UBE2J2     .   .  .  .  1   .   .  .   .  1   1   .  .  .   .  .   .   .   .\n",
       "AURKAIP1   .   .  1  .  .   2   .  .   .  1   1   .  4  1   .  1   1   1   .\n",
       "MRPL20     1   .  .  .  .   .   .  .   1  .   .   .  .  .   .  .   .   .   .\n",
       "                                                                            \n",
       "HES4       7   6  .  1  3   .   .   1   1   1   .   1   .  1   .   3   .   2\n",
       "ISG15    199 215 93 65 87 144 111 196 101 161 132 138 192 62 159 170 114 245\n",
       "SDF4       .   .  .  .  1   .   .   .   1   .   .   .   .  .   .   .   .   .\n",
       "UBE2J2     .   .  .  .  .   .   .   .   .   .   .   .   .  .   .   .   .   1\n",
       "AURKAIP1   .   .  .  .  .   .   .   .   .   .   .   2   .  .   1   1   .   .\n",
       "MRPL20     .   .  .  1  .   .   .   .   .   .   .   .   .  .   2   .   1   .\n",
       "                                                                            \n",
       "HES4       .   2  .  .   1   1   6   1   2  .  3   .   1   .   1   4   2   .\n",
       "ISG15    108 165 58 38 168 132 217 109 100 53 96 104 126 161 137 127 149 181\n",
       "SDF4       .   .  .  .   .   .   .   .   .  .  .   .   .   .   .   1   .   .\n",
       "UBE2J2     .   .  .  .   .   .   .   .   1  .  .   .   .   .   .   .   .   .\n",
       "AURKAIP1   .   .  .  .   .   .   1   1   .  .  .   .   .   2   .   1   1   .\n",
       "MRPL20     .   .  .  .   .   .   1   .   .  .  .   .   .   .   .   .   .   .\n",
       "                                                                              \n",
       "HES4       2   .   2   .   1   4   2   .  .   2  .   1   1   2   .   .   3   .\n",
       "ISG15    178 136 177 134 103 106 212 102 56 196 62 130 148 181 113 101 177 182\n",
       "SDF4       .   .   .   .   .   .   .   .  .   .  .   .   .   .   .   .   1   .\n",
       "UBE2J2     .   .   .   .   .   .   .   .  2   .  .   .   .   .   .   .   .   .\n",
       "AURKAIP1   2   .   .   .   1   .   .   .  .   .  .   .   .   1   .   .   .   2\n",
       "MRPL20     .   .   .   .   .   .   .   .  .   .  .   .   1   .   .   .   1   .\n",
       "                                                                             \n",
       "HES4       .  .  2   2   6   3  .   .   5  .   1  .   .   1  1   2   2  .   2\n",
       "ISG15    100 87 84 250 210 156 71 104 198 79 118 86 147 111 97 144 118 77 138\n",
       "SDF4       .  .  .   1   1   .  .   .   .  .   .  .   .   .  1   .   .  .   .\n",
       "UBE2J2     .  .  .   .   .   .  .   .   .  .   .  .   .   .  .   .   .  .   .\n",
       "AURKAIP1   .  .  .   .   .   .  2   .   .  .   .  .   .   .  .   .   .  .   1\n",
       "MRPL20     .  .  .   .   .   .  .   .   .  .   .  .   .   .  .   .   .  .   .\n",
       "                                                                            \n",
       "HES4       .   .   .  .   1  .   .   2  1  1   .  .  .   2   4   1   .  1  .\n",
       "ISG15    118 131 106 71 138 72 158 108 43 59 161 69 88 141 304 116 337 67 79\n",
       "SDF4       .   .   .  1   .  .   .   .  .  .   .  .  .   .   .   .   .  .  .\n",
       "UBE2J2     .   .   .  .   .  1   .   .  .  .   .  .  1   .   .   .   .  .  .\n",
       "AURKAIP1   .   .   .  .   1  .   .   .  .  .   .  .  .   1   .   .   .  .  1\n",
       "MRPL20     .   .   .  .   .  .   .   .  .  .   .  .  .   .   1   .   .  .  .\n",
       "                                                                              \n",
       "HES4       1  .   .  .  1   .   1  .  .  1   .   1   .   .   .   .   .   1   .\n",
       "ISG15    122 98 118 97 91 105 117 38 65 82 114 202 142 145 145 146 263 229 169\n",
       "SDF4       .  .   .  .  .   .   .  .  .  .   2   .   .   .   .   .   .   .   .\n",
       "UBE2J2     .  .   .  .  .   .   .  .  .  .   .   .   .   .   .   .   .   .   .\n",
       "AURKAIP1   2  1   .  .  .   .   .  .  1  .   .   .   1   .   .   .   .   .   .\n",
       "MRPL20     .  .   .  .  .   .   .  .  .  .   .   .   .   .   .   .   .   .   .\n",
       "                                                                               \n",
       "HES4      .  1   2   3  1  3   1  .  .   1   .   1  .   .   1  .   1   2   .  .\n",
       "ISG15    93 52 132 247 92 57 118 86 95 118 175 118 88 185 125 76 139 117 118 36\n",
       "SDF4      .  .   .   .  .  .   .  .  .   .   .   .  .   .   .  .   .   1   .  .\n",
       "UBE2J2    .  .   1   .  1  .   .  .  .   .   .   .  1   .   .  .   1   .   .  .\n",
       "AURKAIP1  1  .   .   2  .  .   .  .  .   .   .   .  .   .   .  1   .   .   .  1\n",
       "MRPL20    .  .   .   .  .  .   .  .  .   .   1   .  .   .   .  .   1   .   .  .\n",
       "                                                                              \n",
       "HES4       5   .  .   4   2   .   1  .  1   1   2  1   .   2   4  1  .   2   1\n",
       "ISG15    122 169 60 172 158 127 141 47 76 310 175 77 104 181 124 71 66 110 184\n",
       "SDF4       .   .  .   .   .   .   .  .  .   .   .  .   .   .   .  .  .   .   .\n",
       "UBE2J2     .   .  .   .   .   .   .  .  .   .   1  .   .   .   .  .  .   .   .\n",
       "AURKAIP1   .   .  .   .   .   .   .  1  .   1   1  .   .   .   .  .  .   .   .\n",
       "MRPL20     .   .  .   .   .   .   2  .  .   .   .  .   .   1   .  .  .   .   .\n",
       "                                                                             \n",
       "HES4       2   1  1   1   1   2   .   1  .   1  1   1  1  .  .   2  .   .   2\n",
       "ISG15    139 169 94 136 205 319 120 264 36 110 84 124 75 86 77 138 90 172 160\n",
       "SDF4       .   .  .   .   .   .   .   .  .   .  .   .  .  .  .   .  .   .   .\n",
       "UBE2J2     .   .  .   .   .   .   .   .  .   .  .   .  .  .  .   .  1   .   .\n",
       "AURKAIP1   .   .  .   .   .   .   .   1  .   .  .   .  .  .  2   1  1   .   .\n",
       "MRPL20     .   .  .   .   .   .   1   .  1   .  .   .  .  .  .   .  .   1   .\n",
       "                                                                               \n",
       "HES4       2   4  1   .   .  .   1   .   1  .   .   6  .   .   3   .  3   2   2\n",
       "ISG15    132 212 67 164 140 55 100 103 101 99 106 124 61 105 207 120 91 147 127\n",
       "SDF4       .   .  .   .   .  .   .   .   .  .   .   .  .   .   .   .  .   .   .\n",
       "UBE2J2     .   .  .   .   .  .   .   .   .  .   .   .  .   .   .   .  .   .   .\n",
       "AURKAIP1   .   5  .   .   .  .   .   .   .  1   1   .  .   .   .   .  .   1   1\n",
       "MRPL20     .   .  .   .   .  1   .   .   .  .   .   .  .   1   .   .  .   .   .\n",
       "                                                                               \n",
       "HES4       5   .   1   2   5   1  1  2   1  .   4   2  .   2   2  .   2   .   1\n",
       "ISG15    128 121 157 128 182 122 98 90 106 89 176 243 70 166 195 96 131 133 214\n",
       "SDF4       .   .   1   .   .   .  .  .   .  .   .   .  .   .   .  .   .   .   .\n",
       "UBE2J2     .   .   .   .   .   .  .  .   .  .   .   .  .   .   .  .   .   .   .\n",
       "AURKAIP1   .   1   .   1   .   2  .  1   .  .   2   1  1   .   .  .   .   .   .\n",
       "MRPL20     .   .   1   .   .   .  1  .   .  .   .   .  .   .   .  .   .   .   .\n",
       "                                                                             \n",
       "HES4      .  1  1  .   1   .   1  1  .   3   2  1   1  4   .   .  .  .   1  .\n",
       "ISG15    67 78 98 93 113 156 231 99 74 167 246 83 176 87 124 122 81 82 113 70\n",
       "SDF4      .  .  .  .   .   .   .  .  .   .   2  .   .  .   .   .  .  .   .  1\n",
       "UBE2J2    .  .  .  .   .   .   .  .  .   .   .  .   .  .   .   .  .  .   .  1\n",
       "AURKAIP1  1  .  .  .   .   .   .  1  1   1   2  .   1  .   .   .  1  .   .  .\n",
       "MRPL20    .  .  .  .   .   1   .  .  .   .   .  .   .  .   .   .  .  1   1  .\n",
       "                                                                            \n",
       "HES4       .  1   2   .   .   2   .   4   .  .  .   8   .  2   .   .   .   4\n",
       "ISG15    104 93 262 104 113 120 124 196 222 69 83 202 114 89 105 149 188 160\n",
       "SDF4       .  .   .   .   .   .   .   .   .  .  .   .   .  .   .   .   .   .\n",
       "UBE2J2     .  .   .   .   .   .   2   1   .  .  .   .   .  .   .   .   .   .\n",
       "AURKAIP1   .  1   1   .   .   .   1   .   .  .  1   .   .  .   .   .   .   .\n",
       "MRPL20     .  .   .   .   .   .   1   2   .  .  .   .   .  .   .   .   .   .\n",
       "                                                                            \n",
       "HES4       .   1  .  .   .   .   6   .   .  .  1   1  1  2  .   1   .  2   3\n",
       "ISG15    216 148 69 62 120 142 247 117 116 53 24 191 63 72 73 195 123 92 150\n",
       "SDF4       .   .  .  .   .   .   .   .   .  1  .   .  .  .  .   .   .  .   .\n",
       "UBE2J2     .   .  .  .   .   .   .   .   .  .  .   1  .  .  .   .   .  .   .\n",
       "AURKAIP1   .   .  .  .   .   .   .   .   .  .  .   .  .  .  .   .   .  .   3\n",
       "MRPL20     .   .  .  .   .   1   .   1   .  .  .   .  .  .  .   .   .  .   .\n",
       "                                                                             \n",
       "HES4       .  .   3   .   .  .  .  2  2   1  .  1  3  .  .   1   1   2  .   .\n",
       "ISG15    102 86 162 223 118 81 47 20 90 144 87 53 97 86 87 164 156 152 50 170\n",
       "SDF4       .  .   .   .   .  .  .  .  .   .  .  .  .  .  .   .   .   .  .   .\n",
       "UBE2J2     .  .   .   .   .  .  .  .  .   .  .  .  .  .  1   .   .   1  .   .\n",
       "AURKAIP1   1  .   .   .   .  .  .  .  .   .  .  .  1  1  .   .   .   1  .   .\n",
       "MRPL20     .  .   .   .   .  .  .  .  .   .  .  .  .  .  .   .   .   .  .   .\n",
       "                                                                            \n",
       "HES4      .   .   3   .   5  .   .   1  .  .  .   .  1   5  1  .   1   1   4\n",
       "ISG15    49 117 134 221 148 83 135 107 64 96 91 151 65 148 72 68 101 196 113\n",
       "SDF4      .   .   .   .   .  .   .   .  .  .  .   .  .   .  .  .   .   .   .\n",
       "UBE2J2    .   .   .   .   .  .   .   .  .  .  .   .  .   .  1  .   .   .   .\n",
       "AURKAIP1  .   .   1   .   .  1   .   1  .  .  .   .  .   .  .  2   .   .   .\n",
       "MRPL20    .   .   .   .   .  .   1   .  .  .  .   .  1   .  1  1   .   .   .\n",
       "                                                                               \n",
       "HES4       4  .   .  .   2   2  .   1  .  1  .   2   .  .   .   1  .   1   .  .\n",
       "ISG15    117 98 180 70 240 161 64 136 75 79 65 101 217 95 164 176 57 133 147 71\n",
       "SDF4       .  .   .  .   .   1  .   .  .  .  .   .   .  .   .   .  .   .   1  .\n",
       "UBE2J2     .  .   .  .   .   .  .   .  .  .  .   1   .  .   .   .  .   1   .  .\n",
       "AURKAIP1   .  .   .  .   .   .  1   .  2  1  .   2   1  .   .   .  .   .   .  .\n",
       "MRPL20     .  1   .  .   .   .  .   .  .  .  .   .   1  .   .   .  .   .   .  1\n",
       "                                                                             \n",
       "HES4      .  .  .   2   .  4   3   2  1  .  .  .  .   1   1  .  2   .   4   4\n",
       "ISG15    70 85 96 111 132 76 198 164 59 87 70 73 45 149 134 80 99 136 280 121\n",
       "SDF4      .  .  .   .   .  .   .   1  .  1  .  1  .   .   .  .  .   .   .   .\n",
       "UBE2J2    .  .  .   .   .  .   .   .  .  .  .  .  .   .   .  .  .   .   .   .\n",
       "AURKAIP1  .  1  .   1   .  1   .   .  1  .  .  1  .   .   1  1  .   .   .   .\n",
       "MRPL20    .  2  .   .   .  .   1   .  1  .  .  .  .   .   .  .  .   .   .   .\n",
       "                                                                             \n",
       "HES4      .  1  1   .   1  .   3   .   .  .   8  .   .  12   3   .   1  .   .\n",
       "ISG15    63 91 93 199 109 36 102 131 110 45 331 77 118 231 119 161 123 87 137\n",
       "SDF4      .  .  .   .   .  .   .   .   1  .   .  .   1   .   .   .   .  .   .\n",
       "UBE2J2    .  .  .   .   .  .   .   .   .  .   .  .   .   1   .   .   .  .   .\n",
       "AURKAIP1  1  .  1   .   .  1   .   .   .  1   .  1   .   .   .   .   .  2   2\n",
       "MRPL20    .  .  .   .   .  .   1   .   1  .   .  .   .   .   .   .   3  .   .\n",
       "                                                                            \n",
       "HES4      .   1  .   4  .   7   9  .  1   4   4   .  .  .  .  1  1  .   .  1\n",
       "ISG15    65 106 53 234 75 215 119 73 78 171 175 131 74 67 69 88 30 94 142 89\n",
       "SDF4      .   .  .   1  .   .   .  1  .   .   .   .  1  1  .  .  .  .   .  .\n",
       "UBE2J2    .   .  .   .  1   .   .  .  .   .   .   .  .  .  .  .  .  .   .  .\n",
       "AURKAIP1  .   .  .   1  .   .   1  .  .   .   1   1  .  .  .  .  .  .   .  .\n",
       "MRPL20    .   .  .   .  .   .   .  .  .   .   .   .  .  .  .  .  .  2   .  .\n",
       "                                                                              \n",
       "HES4       1  .   .   2   .  .   1  .   2  1  .   1   1   8   1  .   .   .   2\n",
       "ISG15    135 85 106 159 102 85 100 34 134 82 35 158 197 159 196 93 145 129 281\n",
       "SDF4       .  .   1   .   .  .   .  .   1  .  .   .   .   .   .  1   1   .   .\n",
       "UBE2J2     .  .   .   .   .  .   .  .   .  .  .   .   .   .   .  .   .   .   .\n",
       "AURKAIP1   .  .   .   .   1  .   .  1   .  .  .   1   .   .   .  1   .   .   .\n",
       "MRPL20     .  .   .   .   .  .   .  .   .  .  .   .   .   .   .  .   1   .   .\n",
       "                                                                             \n",
       "HES4       1  .  2  .   .   1  .   .   3   .  1   6   4   .  4   4   2  .   .\n",
       "ISG15    120 25 60 63 157 101 99 158 187 173 97 217 107 102 53 161 203 80 100\n",
       "SDF4       .  .  .  2   .   .  .   .   .   .  .   1   .   .  .   .   .  .   .\n",
       "UBE2J2     .  .  .  1   .   .  .   .   .   .  .   .   .   .  .   .   .  .   .\n",
       "AURKAIP1   .  .  .  1   .   .  .   .   .   .  .   .   .   .  1   .   1  .   .\n",
       "MRPL20     .  .  .  1   .   .  .   .   .   .  1   1   .   .  .   .   .  .   .\n",
       "                                                         \n",
       "HES4      .  .  .  .  .  .  2  1  .   1   .  2  .   .   .\n",
       "ISG15    94 96 66 79 68 43 98 62 49 171 115 93 42 118 194\n",
       "SDF4      .  .  .  .  .  .  .  .  1   .   .  .  .   .   .\n",
       "UBE2J2    .  .  .  .  .  .  .  .  .   .   .  .  .   .   .\n",
       "AURKAIP1  .  .  1  .  .  .  .  1  1   1   .  1  .   .   1\n",
       "MRPL20    .  .  .  .  .  .  1  .  1   .   1  .  1   .   ."
      ]
     },
     "metadata": {},
     "output_type": "display_data"
    }
   ],
   "source": [
    "head(GetAssayData(subset(ifnb[expressed_genes,], subset=stim=='STIM'), slot=\"counts\"))"
   ]
  },
  {
   "cell_type": "code",
   "execution_count": 80,
   "id": "a95bc92c",
   "metadata": {},
   "outputs": [],
   "source": [
    "stim_data_1 = rowMeans(GetAssayData(subset(ifnb[expressed_genes,], subset=stim=='STIM'), slot='counts'))\n",
    "ctrl_data_1 = rowMeans(GetAssayData(subset(ifnb[expressed_genes,], subset=stim=='CTRL'), slot='counts'))\n",
    "\n",
    "stim_data_2 = rowSums(GetAssayData(subset(ifnb[expressed_genes,], subset=stim=='STIM' & replicate==2), slot='counts'))\n",
    "ctrl_data_2 = rowSums(GetAssayData(subset(ifnb[expressed_genes,], subset=stim=='CTRL' & replicate==2), slot='counts'))"
   ]
  },
  {
   "cell_type": "code",
   "execution_count": 81,
   "id": "1dd5ed71",
   "metadata": {},
   "outputs": [
    {
     "data": {
      "text/html": [
       "<style>\n",
       ".dl-inline {width: auto; margin:0; padding: 0}\n",
       ".dl-inline>dt, .dl-inline>dd {float: none; width: auto; display: inline-block}\n",
       ".dl-inline>dt::after {content: \":\\0020\"; padding-right: .5ex}\n",
       ".dl-inline>dt:not(:first-of-type) {padding-left: .5ex}\n",
       "</style><dl class=dl-inline><dt>HES4</dt><dd>0.591988821611551</dd><dt>ISG15</dt><dd>65.4895202608291</dd><dt>SDF4</dt><dd>0.106660456450862</dd><dt>UBE2J2</dt><dd>0.0996739636702375</dd><dt>AURKAIP1</dt><dd>0.428504890544946</dd><dt>MRPL20</dt><dd>0.203074056823475</dd></dl>\n"
      ],
      "text/latex": [
       "\\begin{description*}\n",
       "\\item[HES4] 0.591988821611551\n",
       "\\item[ISG15] 65.4895202608291\n",
       "\\item[SDF4] 0.106660456450862\n",
       "\\item[UBE2J2] 0.0996739636702375\n",
       "\\item[AURKAIP1] 0.428504890544946\n",
       "\\item[MRPL20] 0.203074056823475\n",
       "\\end{description*}\n"
      ],
      "text/markdown": [
       "HES4\n",
       ":   0.591988821611551ISG15\n",
       ":   65.4895202608291SDF4\n",
       ":   0.106660456450862UBE2J2\n",
       ":   0.0996739636702375AURKAIP1\n",
       ":   0.428504890544946MRPL20\n",
       ":   0.203074056823475\n",
       "\n"
      ],
      "text/plain": [
       "       HES4       ISG15        SDF4      UBE2J2    AURKAIP1      MRPL20 \n",
       " 0.59198882 65.48952026  0.10666046  0.09967396  0.42850489  0.20307406 "
      ]
     },
     "metadata": {},
     "output_type": "display_data"
    }
   ],
   "source": [
    "head(stim_data_1)"
   ]
  },
  {
   "cell_type": "code",
   "execution_count": 82,
   "id": "17b8d938",
   "metadata": {},
   "outputs": [
    {
     "data": {
      "text/html": [
       "<style>\n",
       ".dl-inline {width: auto; margin:0; padding: 0}\n",
       ".dl-inline>dt, .dl-inline>dd {float: none; width: auto; display: inline-block}\n",
       ".dl-inline>dt::after {content: \":\\0020\"; padding-right: .5ex}\n",
       ".dl-inline>dt:not(:first-of-type) {padding-left: .5ex}\n",
       "</style><dl class=dl-inline><dt>HES4</dt><dd>0.605869074492099</dd><dt>ISG15</dt><dd>62.2207674943567</dd><dt>SDF4</dt><dd>0.113769751693002</dd><dt>UBE2J2</dt><dd>0.103837471783296</dd><dt>AURKAIP1</dt><dd>0.457787810383747</dd><dt>MRPL20</dt><dd>0.186907449209932</dd></dl>\n"
      ],
      "text/latex": [
       "\\begin{description*}\n",
       "\\item[HES4] 0.605869074492099\n",
       "\\item[ISG15] 62.2207674943567\n",
       "\\item[SDF4] 0.113769751693002\n",
       "\\item[UBE2J2] 0.103837471783296\n",
       "\\item[AURKAIP1] 0.457787810383747\n",
       "\\item[MRPL20] 0.186907449209932\n",
       "\\end{description*}\n"
      ],
      "text/markdown": [
       "HES4\n",
       ":   0.605869074492099ISG15\n",
       ":   62.2207674943567SDF4\n",
       ":   0.113769751693002UBE2J2\n",
       ":   0.103837471783296AURKAIP1\n",
       ":   0.457787810383747MRPL20\n",
       ":   0.186907449209932\n",
       "\n"
      ],
      "text/plain": [
       "      HES4      ISG15       SDF4     UBE2J2   AURKAIP1     MRPL20 \n",
       " 0.6058691 62.2207675  0.1137698  0.1038375  0.4577878  0.1869074 "
      ]
     },
     "metadata": {},
     "output_type": "display_data"
    }
   ],
   "source": [
    "head(ctrl_data_1)"
   ]
  },
  {
   "cell_type": "code",
   "execution_count": 53,
   "id": "13beae10",
   "metadata": {},
   "outputs": [],
   "source": [
    "stim_data_1 = rowSums(GetAssayData(subset(ifnb[expressed_genes,], subset=stim=='STIM' & replicate==1), slot='counts'))\n",
    "ctrl_data_1 = rowSums(GetAssayData(subset(ifnb[expressed_genes,], subset=stim=='CTRL' & replicate==1), slot='counts'))\n",
    "\n",
    "stim_data_2 = rowSums(GetAssayData(subset(ifnb[expressed_genes,], subset=stim=='STIM' & replicate==2), slot='counts'))\n",
    "ctrl_data_2 = rowSums(GetAssayData(subset(ifnb[expressed_genes,], subset=stim=='CTRL' & replicate==2), slot='counts'))"
   ]
  },
  {
   "cell_type": "code",
   "execution_count": 55,
   "id": "49e9a83b",
   "metadata": {},
   "outputs": [],
   "source": [
    "x = data.frame(stim_data_1, ctrl_data_1, stim_data_2, ctrl_data_2)"
   ]
  },
  {
   "cell_type": "code",
   "execution_count": 56,
   "id": "5a2465e1",
   "metadata": {},
   "outputs": [],
   "source": [
    "group <- factor(c(1,2, 1,2))\n"
   ]
  },
  {
   "cell_type": "code",
   "execution_count": 57,
   "id": "93bcfc54",
   "metadata": {},
   "outputs": [],
   "source": [
    "y <- DGEList(counts=x,group=group)"
   ]
  },
  {
   "cell_type": "code",
   "execution_count": 58,
   "id": "3fea329e",
   "metadata": {},
   "outputs": [],
   "source": [
    "keep <- filterByExpr(y)"
   ]
  },
  {
   "cell_type": "code",
   "execution_count": 59,
   "id": "3697f699",
   "metadata": {},
   "outputs": [],
   "source": [
    "y <- y[keep,,keep.lib.sizes=FALSE]"
   ]
  },
  {
   "cell_type": "code",
   "execution_count": 60,
   "id": "85b3053b",
   "metadata": {},
   "outputs": [],
   "source": [
    "y <- calcNormFactors(y)"
   ]
  },
  {
   "cell_type": "code",
   "execution_count": 61,
   "id": "282aa0c2",
   "metadata": {},
   "outputs": [],
   "source": [
    "design <- model.matrix(~group)"
   ]
  },
  {
   "cell_type": "code",
   "execution_count": 62,
   "id": "0d4b7d0e",
   "metadata": {},
   "outputs": [],
   "source": [
    "y <- estimateDisp(y,design)"
   ]
  },
  {
   "cell_type": "code",
   "execution_count": 64,
   "id": "d2156d1b",
   "metadata": {},
   "outputs": [],
   "source": [
    "fit <- glmFit(y,design)"
   ]
  },
  {
   "cell_type": "code",
   "execution_count": 65,
   "id": "d9945181",
   "metadata": {},
   "outputs": [],
   "source": [
    "lrt <- glmLRT(fit,coef=2)"
   ]
  },
  {
   "cell_type": "code",
   "execution_count": 67,
   "id": "2da3ce7b",
   "metadata": {},
   "outputs": [
    {
     "data": {
      "text/plain": [
       "An object of class \"DGELRT\"\n",
       "$coefficients\n",
       "         (Intercept)      group2\n",
       "HES4       -8.349271  0.02822977\n",
       "ISG15      -3.643306 -0.04622177\n",
       "SDF4      -10.062225  0.06972653\n",
       "UBE2J2    -10.129898  0.04632321\n",
       "AURKAIP1   -8.672382  0.07129568\n",
       "2567 more rows ...\n",
       "\n",
       "$fitted.values\n",
       "         stim_data_1 ctrl_data_1 stim_data_2 ctrl_data_2\n",
       "HES4        635.5930    660.2252    635.4060    681.4509\n",
       "ISG15     70313.2719  67797.5532  70292.5821  69977.1859\n",
       "SDF4        114.5168    124.0033    114.4831    127.9899\n",
       "UBE2J2      107.0155    113.1977    106.9840    116.8369\n",
       "AURKAIP1    460.0676    498.9345    459.9322    514.9749\n",
       "2567 more rows ...\n",
       "\n",
       "$deviance\n",
       "     HES4     ISG15      SDF4    UBE2J2  AURKAIP1 \n",
       "1.9057330 2.3972279 0.3438686 2.9633040 0.3076967 \n",
       "2567 more elements ...\n",
       "\n",
       "$method\n",
       "[1] \"oneway\"\n",
       "\n",
       "$unshrunk.coefficients\n",
       "         (Intercept)      group2\n",
       "HES4       -8.349465  0.02823521\n",
       "ISG15      -3.643308 -0.04622185\n",
       "SDF4      -10.063302  0.06979913\n",
       "UBE2J2    -10.131050  0.04637526\n",
       "AURKAIP1   -8.672650  0.07131415\n",
       "2567 more rows ...\n",
       "\n",
       "$df.residual\n",
       "[1] 2 2 2 2 2\n",
       "2567 more elements ...\n",
       "\n",
       "$design\n",
       "  (Intercept) group2\n",
       "1           1      0\n",
       "2           1      1\n",
       "3           1      0\n",
       "4           1      1\n",
       "attr(,\"assign\")\n",
       "[1] 0 1\n",
       "attr(,\"contrasts\")\n",
       "attr(,\"contrasts\")$group\n",
       "[1] \"contr.treatment\"\n",
       "\n",
       "\n",
       "$offset\n",
       "         [,1]     [,2]     [,3]     [,4]\n",
       "[1,] 14.80402 14.81381 14.80373 14.84545\n",
       "attr(,\"class\")\n",
       "[1] \"CompressedMatrix\"\n",
       "attr(,\"Dims\")\n",
       "[1] 5 4\n",
       "attr(,\"repeat.row\")\n",
       "[1] TRUE\n",
       "attr(,\"repeat.col\")\n",
       "[1] FALSE\n",
       "2567 more rows ...\n",
       "\n",
       "$dispersion\n",
       "[1] 0.0007968548 0.0003996167 0.0004474656 0.0016645738 0.0007936753\n",
       "2567 more elements ...\n",
       "\n",
       "$prior.count\n",
       "[1] 0.125\n",
       "\n",
       "$samples\n",
       "            group lib.size norm.factors\n",
       "stim_data_1     1  2687851    0.9997709\n",
       "ctrl_data_1     2  2713815    0.9999448\n",
       "stim_data_2     1  2698873    0.9953949\n",
       "ctrl_data_2     2  2787216    1.0049121\n",
       "\n",
       "$prior.df\n",
       "[1] 22.36849\n",
       "\n",
       "$AveLogCPM\n",
       "[1]  7.910993 14.642456  5.488924  5.375491  7.478436\n",
       "2567 more elements ...\n",
       "\n",
       "$table\n",
       "               logFC    logCPM        LR     PValue\n",
       "HES4      0.04072695  7.910993 0.3423594 0.55847050\n",
       "ISG15    -0.06668392 14.642456 5.1602871 0.02310908\n",
       "SDF4      0.10059412  5.488924 0.5551848 0.45620687\n",
       "UBE2J2    0.06683026  5.375491 0.2013390 0.65364220\n",
       "AURKAIP1  0.10285792  7.478436 1.7748643 0.18278123\n",
       "2567 more rows ...\n",
       "\n",
       "$comparison\n",
       "[1] \"group2\"\n",
       "\n",
       "$df.test\n",
       "[1] 1 1 1 1 1\n",
       "2567 more elements ...\n"
      ]
     },
     "metadata": {},
     "output_type": "display_data"
    }
   ],
   "source": [
    "lrt"
   ]
  },
  {
   "cell_type": "code",
   "execution_count": 69,
   "id": "6045fd06",
   "metadata": {},
   "outputs": [],
   "source": [
    "result = as.data.frame(lrt)"
   ]
  },
  {
   "cell_type": "code",
   "execution_count": 70,
   "id": "5af6977e",
   "metadata": {},
   "outputs": [
    {
     "data": {
      "text/html": [
       "<table class=\"dataframe\">\n",
       "<caption>A data.frame: 6 × 4</caption>\n",
       "<thead>\n",
       "\t<tr><th></th><th scope=col>logFC</th><th scope=col>logCPM</th><th scope=col>LR</th><th scope=col>PValue</th></tr>\n",
       "\t<tr><th></th><th scope=col>&lt;dbl&gt;</th><th scope=col>&lt;dbl&gt;</th><th scope=col>&lt;dbl&gt;</th><th scope=col>&lt;dbl&gt;</th></tr>\n",
       "</thead>\n",
       "<tbody>\n",
       "\t<tr><th scope=row>HES4</th><td> 0.04072695</td><td> 7.910993</td><td>0.3423594</td><td>0.55847050</td></tr>\n",
       "\t<tr><th scope=row>ISG15</th><td>-0.06668392</td><td>14.642456</td><td>5.1602871</td><td>0.02310908</td></tr>\n",
       "\t<tr><th scope=row>SDF4</th><td> 0.10059412</td><td> 5.488924</td><td>0.5551848</td><td>0.45620687</td></tr>\n",
       "\t<tr><th scope=row>UBE2J2</th><td> 0.06683026</td><td> 5.375491</td><td>0.2013390</td><td>0.65364220</td></tr>\n",
       "\t<tr><th scope=row>AURKAIP1</th><td> 0.10285792</td><td> 7.478436</td><td>1.7748643</td><td>0.18278123</td></tr>\n",
       "\t<tr><th scope=row>MRPL20</th><td>-0.11199384</td><td> 6.300197</td><td>1.1190282</td><td>0.29012781</td></tr>\n",
       "</tbody>\n",
       "</table>\n"
      ],
      "text/latex": [
       "A data.frame: 6 × 4\n",
       "\\begin{tabular}{r|llll}\n",
       "  & logFC & logCPM & LR & PValue\\\\\n",
       "  & <dbl> & <dbl> & <dbl> & <dbl>\\\\\n",
       "\\hline\n",
       "\tHES4 &  0.04072695 &  7.910993 & 0.3423594 & 0.55847050\\\\\n",
       "\tISG15 & -0.06668392 & 14.642456 & 5.1602871 & 0.02310908\\\\\n",
       "\tSDF4 &  0.10059412 &  5.488924 & 0.5551848 & 0.45620687\\\\\n",
       "\tUBE2J2 &  0.06683026 &  5.375491 & 0.2013390 & 0.65364220\\\\\n",
       "\tAURKAIP1 &  0.10285792 &  7.478436 & 1.7748643 & 0.18278123\\\\\n",
       "\tMRPL20 & -0.11199384 &  6.300197 & 1.1190282 & 0.29012781\\\\\n",
       "\\end{tabular}\n"
      ],
      "text/markdown": [
       "\n",
       "A data.frame: 6 × 4\n",
       "\n",
       "| <!--/--> | logFC &lt;dbl&gt; | logCPM &lt;dbl&gt; | LR &lt;dbl&gt; | PValue &lt;dbl&gt; |\n",
       "|---|---|---|---|---|\n",
       "| HES4 |  0.04072695 |  7.910993 | 0.3423594 | 0.55847050 |\n",
       "| ISG15 | -0.06668392 | 14.642456 | 5.1602871 | 0.02310908 |\n",
       "| SDF4 |  0.10059412 |  5.488924 | 0.5551848 | 0.45620687 |\n",
       "| UBE2J2 |  0.06683026 |  5.375491 | 0.2013390 | 0.65364220 |\n",
       "| AURKAIP1 |  0.10285792 |  7.478436 | 1.7748643 | 0.18278123 |\n",
       "| MRPL20 | -0.11199384 |  6.300197 | 1.1190282 | 0.29012781 |\n",
       "\n"
      ],
      "text/plain": [
       "         logFC       logCPM    LR        PValue    \n",
       "HES4      0.04072695  7.910993 0.3423594 0.55847050\n",
       "ISG15    -0.06668392 14.642456 5.1602871 0.02310908\n",
       "SDF4      0.10059412  5.488924 0.5551848 0.45620687\n",
       "UBE2J2    0.06683026  5.375491 0.2013390 0.65364220\n",
       "AURKAIP1  0.10285792  7.478436 1.7748643 0.18278123\n",
       "MRPL20   -0.11199384  6.300197 1.1190282 0.29012781"
      ]
     },
     "metadata": {},
     "output_type": "display_data"
    }
   ],
   "source": [
    "head(result)"
   ]
  },
  {
   "cell_type": "code",
   "execution_count": 72,
   "id": "7744bbff",
   "metadata": {},
   "outputs": [
    {
     "data": {
      "text/plain": [
       "NULL"
      ]
     },
     "metadata": {},
     "output_type": "display_data"
    }
   ],
   "source": [
    "result$Pvalue"
   ]
  },
  {
   "cell_type": "code",
   "execution_count": 73,
   "id": "01ba3747",
   "metadata": {},
   "outputs": [
    {
     "data": {
      "image/png": "[encoded data removed]",
      "text/plain": [
       "Plot with title “Histogram of result$PValue”"
      ]
     },
     "metadata": {
      "image/png": {
       "height": 420,
       "width": 420
      }
     },
     "output_type": "display_data"
    }
   ],
   "source": [
    "hist(result$PValue)"
   ]
  },
  {
   "cell_type": "code",
   "execution_count": 66,
   "id": "3e0eb968",
   "metadata": {},
   "outputs": [
    {
     "data": {
      "text/html": [
       "<dl>\n",
       "\t<dt>$table</dt>\n",
       "\t\t<dd><table class=\"dataframe\">\n",
       "<caption>A data.frame: 10 × 5</caption>\n",
       "<thead>\n",
       "\t<tr><th></th><th scope=col>logFC</th><th scope=col>logCPM</th><th scope=col>LR</th><th scope=col>PValue</th><th scope=col>FDR</th></tr>\n",
       "\t<tr><th></th><th scope=col>&lt;dbl&gt;</th><th scope=col>&lt;dbl&gt;</th><th scope=col>&lt;dbl&gt;</th><th scope=col>&lt;dbl&gt;</th><th scope=col>&lt;dbl&gt;</th></tr>\n",
       "</thead>\n",
       "<tbody>\n",
       "\t<tr><th scope=row>HBB</th><td>-0.6569585</td><td>6.861070</td><td>19.68937</td><td>9.110696e-06</td><td>0.02343271</td></tr>\n",
       "\t<tr><th scope=row>GZMB</th><td>-0.7188433</td><td>4.926137</td><td>17.36478</td><td>3.084890e-05</td><td>0.02956823</td></tr>\n",
       "\t<tr><th scope=row>SERPINB2</th><td>-0.4235624</td><td>7.640719</td><td>17.15288</td><td>3.448860e-05</td><td>0.02956823</td></tr>\n",
       "\t<tr><th scope=row>IL1B</th><td> 0.2409559</td><td>8.874597</td><td>14.41098</td><td>1.469429e-04</td><td>0.09448430</td></tr>\n",
       "\t<tr><th scope=row>GTF2E2</th><td>-0.4639767</td><td>5.717859</td><td>13.39070</td><td>2.528746e-04</td><td>0.13007869</td></tr>\n",
       "\t<tr><th scope=row>MMP19</th><td>-0.5290644</td><td>5.317047</td><td>12.93458</td><td>3.225671e-04</td><td>0.13132701</td></tr>\n",
       "\t<tr><th scope=row>MSRB2</th><td> 0.5130298</td><td>5.413136</td><td>12.72109</td><td>3.615545e-04</td><td>0.13132701</td></tr>\n",
       "\t<tr><th scope=row>TSC22D4</th><td>-0.3618179</td><td>6.480369</td><td>12.42814</td><td>4.229123e-04</td><td>0.13132701</td></tr>\n",
       "\t<tr><th scope=row>HNRNPA0</th><td>-0.2908342</td><td>7.193201</td><td>12.12085</td><td>4.986109e-04</td><td>0.13132701</td></tr>\n",
       "\t<tr><th scope=row>ZNRD1</th><td>-0.5838449</td><td>5.027080</td><td>11.92519</td><td>5.537999e-04</td><td>0.13132701</td></tr>\n",
       "</tbody>\n",
       "</table>\n",
       "</dd>\n",
       "\t<dt>$adjust.method</dt>\n",
       "\t\t<dd>'BH'</dd>\n",
       "\t<dt>$comparison</dt>\n",
       "\t\t<dd>'group2'</dd>\n",
       "\t<dt>$test</dt>\n",
       "\t\t<dd>'glm'</dd>\n",
       "</dl>\n"
      ],
      "text/latex": [
       "\\begin{description}\n",
       "\\item[\\$table] A data.frame: 10 × 5\n",
       "\\begin{tabular}{r|lllll}\n",
       "  & logFC & logCPM & LR & PValue & FDR\\\\\n",
       "  & <dbl> & <dbl> & <dbl> & <dbl> & <dbl>\\\\\n",
       "\\hline\n",
       "\tHBB & -0.6569585 & 6.861070 & 19.68937 & 9.110696e-06 & 0.02343271\\\\\n",
       "\tGZMB & -0.7188433 & 4.926137 & 17.36478 & 3.084890e-05 & 0.02956823\\\\\n",
       "\tSERPINB2 & -0.4235624 & 7.640719 & 17.15288 & 3.448860e-05 & 0.02956823\\\\\n",
       "\tIL1B &  0.2409559 & 8.874597 & 14.41098 & 1.469429e-04 & 0.09448430\\\\\n",
       "\tGTF2E2 & -0.4639767 & 5.717859 & 13.39070 & 2.528746e-04 & 0.13007869\\\\\n",
       "\tMMP19 & -0.5290644 & 5.317047 & 12.93458 & 3.225671e-04 & 0.13132701\\\\\n",
       "\tMSRB2 &  0.5130298 & 5.413136 & 12.72109 & 3.615545e-04 & 0.13132701\\\\\n",
       "\tTSC22D4 & -0.3618179 & 6.480369 & 12.42814 & 4.229123e-04 & 0.13132701\\\\\n",
       "\tHNRNPA0 & -0.2908342 & 7.193201 & 12.12085 & 4.986109e-04 & 0.13132701\\\\\n",
       "\tZNRD1 & -0.5838449 & 5.027080 & 11.92519 & 5.537999e-04 & 0.13132701\\\\\n",
       "\\end{tabular}\n",
       "\n",
       "\\item[\\$adjust.method] 'BH'\n",
       "\\item[\\$comparison] 'group2'\n",
       "\\item[\\$test] 'glm'\n",
       "\\end{description}\n"
      ],
      "text/markdown": [
       "$table\n",
       ":   \n",
       "A data.frame: 10 × 5\n",
       "\n",
       "| <!--/--> | logFC &lt;dbl&gt; | logCPM &lt;dbl&gt; | LR &lt;dbl&gt; | PValue &lt;dbl&gt; | FDR &lt;dbl&gt; |\n",
       "|---|---|---|---|---|---|\n",
       "| HBB | -0.6569585 | 6.861070 | 19.68937 | 9.110696e-06 | 0.02343271 |\n",
       "| GZMB | -0.7188433 | 4.926137 | 17.36478 | 3.084890e-05 | 0.02956823 |\n",
       "| SERPINB2 | -0.4235624 | 7.640719 | 17.15288 | 3.448860e-05 | 0.02956823 |\n",
       "| IL1B |  0.2409559 | 8.874597 | 14.41098 | 1.469429e-04 | 0.09448430 |\n",
       "| GTF2E2 | -0.4639767 | 5.717859 | 13.39070 | 2.528746e-04 | 0.13007869 |\n",
       "| MMP19 | -0.5290644 | 5.317047 | 12.93458 | 3.225671e-04 | 0.13132701 |\n",
       "| MSRB2 |  0.5130298 | 5.413136 | 12.72109 | 3.615545e-04 | 0.13132701 |\n",
       "| TSC22D4 | -0.3618179 | 6.480369 | 12.42814 | 4.229123e-04 | 0.13132701 |\n",
       "| HNRNPA0 | -0.2908342 | 7.193201 | 12.12085 | 4.986109e-04 | 0.13132701 |\n",
       "| ZNRD1 | -0.5838449 | 5.027080 | 11.92519 | 5.537999e-04 | 0.13132701 |\n",
       "\n",
       "\n",
       "$adjust.method\n",
       ":   'BH'\n",
       "$comparison\n",
       ":   'group2'\n",
       "$test\n",
       ":   'glm'\n",
       "\n",
       "\n"
      ],
      "text/plain": [
       "Coefficient:  group2 \n",
       "              logFC   logCPM       LR       PValue        FDR\n",
       "HBB      -0.6569585 6.861070 19.68937 9.110696e-06 0.02343271\n",
       "GZMB     -0.7188433 4.926137 17.36478 3.084890e-05 0.02956823\n",
       "SERPINB2 -0.4235624 7.640719 17.15288 3.448860e-05 0.02956823\n",
       "IL1B      0.2409559 8.874597 14.41098 1.469429e-04 0.09448430\n",
       "GTF2E2   -0.4639767 5.717859 13.39070 2.528746e-04 0.13007869\n",
       "MMP19    -0.5290644 5.317047 12.93458 3.225671e-04 0.13132701\n",
       "MSRB2     0.5130298 5.413136 12.72109 3.615545e-04 0.13132701\n",
       "TSC22D4  -0.3618179 6.480369 12.42814 4.229123e-04 0.13132701\n",
       "HNRNPA0  -0.2908342 7.193201 12.12085 4.986109e-04 0.13132701\n",
       "ZNRD1    -0.5838449 5.027080 11.92519 5.537999e-04 0.13132701"
      ]
     },
     "metadata": {},
     "output_type": "display_data"
    }
   ],
   "source": [
    "topTags(lrt)"
   ]
  },
  {
   "cell_type": "code",
   "execution_count": null,
   "id": "de828112",
   "metadata": {},
   "outputs": [],
   "source": []
  }
 ],
 "metadata": {
  "kernelspec": {
   "display_name": "R",
   "language": "R",
   "name": "ir"
  },
  "language_info": {
   "codemirror_mode": "r",
   "file_extension": ".r",
   "mimetype": "text/x-r-source",
   "name": "R",
   "pygments_lexer": "r",
   "version": "4.0.5"
  }
 },
 "nbformat": 4,
 "nbformat_minor": 5
}
