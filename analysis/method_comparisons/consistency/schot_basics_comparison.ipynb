{
 "cells": [
  {
   "cell_type": "markdown",
   "id": "interracial-consideration",
   "metadata": {},
   "source": [
    "# scHOT consistency analysis"
   ]
  },
  {
   "cell_type": "code",
   "execution_count": 26,
   "id": "affiliated-demographic",
   "metadata": {},
   "outputs": [],
   "source": [
    "import pandas as pd\n",
    "import matplotlib.pyplot as plt\n",
    "import seaborn as sns\n",
    "import numpy as np\n",
    "import scanpy as sc\n",
    "import matplotlib as mpl\n",
    "import scipy.stats as stats\n"
   ]
  },
  {
   "cell_type": "code",
   "execution_count": 27,
   "id": "killing-detroit",
   "metadata": {},
   "outputs": [],
   "source": [
    "mpl.rcParams['pdf.fonttype'] = 42\n",
    "mpl.rcParams['ps.fonttype'] = 42\n",
    "\n",
    "import matplotlib.pylab as pylab\n",
    "params = {'legend.fontsize': 'medium',\n",
    "         'axes.labelsize': 'large',\n",
    "         'axes.titlesize':'medium',\n",
    "         'figure.titlesize':'medium',\n",
    "         'xtick.labelsize':'small',\n",
    "         'ytick.labelsize':'small'}\n",
    "pylab.rcParams.update(params)\n"
   ]
  },
  {
   "cell_type": "code",
   "execution_count": 28,
   "id": "measured-yield",
   "metadata": {},
   "outputs": [],
   "source": [
    "def concordance(x, y, log=False):\n",
    "    nonnan = np.isfinite(x) & np.isfinite(y)\n",
    "    return stats.spearmanr(x[nonnan],y[nonnan])[0]\n",
    "    \n",
    "    if log:\n",
    "        a = np.log(x)\n",
    "        b = np.log(y)\n",
    "    else:\n",
    "        a = x\n",
    "        b = y\n",
    "    cond = np.isfinite(a) & np.isfinite(b)\n",
    "    a = a[cond]\n",
    "    b = b[cond]\n",
    "    cmat = np.cov(a, b)\n",
    "    return 2*cmat[0,1]/(cmat[0,0] + cmat[1,1] + (a.mean()-b.mean())**2)"
   ]
  },
  {
   "cell_type": "code",
   "execution_count": 29,
   "id": "compliant-plasma",
   "metadata": {},
   "outputs": [],
   "source": [
    "result_path = '/data_volume/memento/simulation/acc_fpr/csv_results/'"
   ]
  },
  {
   "cell_type": "code",
   "execution_count": 30,
   "id": "funded-petroleum",
   "metadata": {},
   "outputs": [],
   "source": [
    "schot_full = pd.read_csv(result_path + 'scHOT_0.8_res.csv')"
   ]
  },
  {
   "cell_type": "code",
   "execution_count": 31,
   "id": "interstate-factory",
   "metadata": {},
   "outputs": [],
   "source": [
    "rates = [0.1, 0.2, 0.4, 0.6]"
   ]
  },
  {
   "cell_type": "code",
   "execution_count": 32,
   "id": "great-involvement",
   "metadata": {},
   "outputs": [
    {
     "name": "stdout",
     "output_type": "stream",
     "text": [
      "0.8126574500768048\n",
      "0.7607987711213516\n",
      "0.7211674347158217\n",
      "0.9096405529953915\n"
     ]
    }
   ],
   "source": [
    "schot_concordances = []\n",
    "for rate in rates:\n",
    "    schot_sub = pd.read_csv(result_path + 'scHOT_{}_res.csv'.format(rate))\n",
    "    \n",
    "    print(concordance(schot_full['higherOrderStatistic'], schot_sub['higherOrderStatistic']))\n",
    "\n",
    "    schot_concordances.append(concordance(schot_full['higherOrderStatistic'], schot_sub['higherOrderStatistic']))\n",
    "    \n",
    "#     plt.figure()\n",
    "#     plt.scatter(np.log(schot_full['higherOrderStatistic']), np.log(schot_sub['higherOrderStatistic']))"
   ]
  },
  {
   "cell_type": "code",
   "execution_count": 33,
   "id": "human-spending",
   "metadata": {},
   "outputs": [
    {
     "data": {
      "text/plain": [
       "[0.8126574500768048,\n",
       " 0.7607987711213516,\n",
       " 0.7211674347158217,\n",
       " 0.9096405529953915]"
      ]
     },
     "execution_count": 33,
     "metadata": {},
     "output_type": "execute_result"
    }
   ],
   "source": [
    "schot_concordances"
   ]
  },
  {
   "cell_type": "markdown",
   "id": "pharmaceutical-stupid",
   "metadata": {},
   "source": [
    "### Basics"
   ]
  },
  {
   "cell_type": "code",
   "execution_count": 34,
   "id": "executed-sierra",
   "metadata": {},
   "outputs": [],
   "source": [
    "ctrl_full = pd.read_csv(result_path + 'delta_0.8_ctrl.csv').median(axis=0)\n",
    "stim_full = pd.read_csv(result_path + 'delta_0.8_stim.csv').median(axis=0)\n",
    "es_full = np.log(stim_full/ctrl_full)"
   ]
  },
  {
   "cell_type": "code",
   "execution_count": 35,
   "id": "intimate-tunisia",
   "metadata": {},
   "outputs": [],
   "source": [
    "rates = [0.1, 0.2, 0.4, 0.6]"
   ]
  },
  {
   "cell_type": "code",
   "execution_count": 36,
   "id": "invisible-episode",
   "metadata": {},
   "outputs": [
    {
     "name": "stdout",
     "output_type": "stream",
     "text": [
      "0.8036804915514592\n",
      "0.8909554531490013\n",
      "0.9510599078341013\n",
      "0.9610629800307218\n"
     ]
    }
   ],
   "source": [
    "df_list = []\n",
    "basics_concordances = []\n",
    "for rate in rates:\n",
    "    df = pd.DataFrame()\n",
    "    ctrl_sub = pd.read_csv(result_path + 'delta_{}_ctrl.csv'.format(rate)).median(axis=0)\n",
    "    stim_sub = pd.read_csv(result_path + 'delta_{}_stim.csv'.format(rate)).median(axis=0)\n",
    "    es_sub = np.log(stim_sub/ctrl_sub)\n",
    "    \n",
    "    print(concordance(es_full, es_sub))\n",
    "    df['diff'] = np.abs(es_sub-es_full)\n",
    "    df['rate'] = rate\n",
    "    df_list.append(df)\n",
    "    basics_concordances.append(concordance(es_full, es_sub))\n",
    "df = pd.concat(df_list)"
   ]
  },
  {
   "cell_type": "markdown",
   "id": "sorted-building",
   "metadata": {},
   "source": [
    "### Memento"
   ]
  },
  {
   "cell_type": "code",
   "execution_count": 37,
   "id": "alive-conditioning",
   "metadata": {},
   "outputs": [],
   "source": [
    "import sys\n",
    "sys.path.append('/home/ssm-user/Github/scrna-parameter-estimation/dist/memento-0.0.6-py3.8.egg')\n",
    "sys.path.append('/home/ssm-user/Github/misc-seq/miscseq/')\n",
    "import encode\n",
    "import memento\n",
    "import scipy.sparse as sparse"
   ]
  },
  {
   "cell_type": "code",
   "execution_count": 38,
   "id": "preliminary-capture",
   "metadata": {},
   "outputs": [],
   "source": [
    "data_path = '/data_volume/memento/simulation/acc_fpr/'"
   ]
  },
  {
   "cell_type": "code",
   "execution_count": 39,
   "id": "residential-lancaster",
   "metadata": {},
   "outputs": [],
   "source": [
    "adata_full = sc.read(data_path + 'subsampled_0.8.h5ad')"
   ]
  },
  {
   "cell_type": "code",
   "execution_count": 40,
   "id": "sound-adjustment",
   "metadata": {},
   "outputs": [],
   "source": [
    "adata_full.X = sparse.csr_matrix(adata_full.X.astype(float))"
   ]
  },
  {
   "cell_type": "code",
   "execution_count": 41,
   "id": "developed-history",
   "metadata": {},
   "outputs": [],
   "source": [
    "adata_full.obs['q'] = 0.15"
   ]
  },
  {
   "cell_type": "code",
   "execution_count": 42,
   "id": "english-belize",
   "metadata": {},
   "outputs": [
    {
     "name": "stdout",
     "output_type": "stream",
     "text": [
      "Version 0.0.6\n"
     ]
    }
   ],
   "source": [
    "memento.setup_memento(adata_full, q_column='q', trim_percent=0.1)"
   ]
  },
  {
   "cell_type": "code",
   "execution_count": 43,
   "id": "aquatic-teach",
   "metadata": {},
   "outputs": [
    {
     "name": "stderr",
     "output_type": "stream",
     "text": [
      "/home/ssm-user/anaconda3/envs/single_cell/lib/python3.8/site-packages/pandas/core/arrays/categorical.py:2487: FutureWarning: The `inplace` parameter in pandas.Categorical.remove_unused_categories is deprecated and will be removed in a future version.\n",
      "  res = method(*args, **kwargs)\n"
     ]
    }
   ],
   "source": [
    "memento.create_groups(adata_full, label_columns=['stim'])\n",
    "memento.compute_1d_moments(adata_full, min_perc_group=.0)"
   ]
  },
  {
   "cell_type": "code",
   "execution_count": 44,
   "id": "adverse-deposit",
   "metadata": {},
   "outputs": [],
   "source": [
    "# memento.ht_1d_moments(\n",
    "#     adata_full, \n",
    "#     formula_like='1 + stim',\n",
    "#     treatment_col='stim', \n",
    "#     num_boot=500, \n",
    "#     verbose=1,\n",
    "#     num_cpus=14,\n",
    "#     resampling='bootstrap',\n",
    "#     approx=False)"
   ]
  },
  {
   "cell_type": "code",
   "execution_count": 45,
   "id": "permanent-inspiration",
   "metadata": {},
   "outputs": [],
   "source": [
    "es_full = np.log(adata_full.uns['memento']['1d_moments']['sg^stim'][1]/adata_full.uns['memento']['1d_moments']['sg^ctrl'][1])"
   ]
  },
  {
   "cell_type": "code",
   "execution_count": 46,
   "id": "incorporated-stranger",
   "metadata": {},
   "outputs": [
    {
     "name": "stdout",
     "output_type": "stream",
     "text": [
      "Version 0.0.6\n",
      "0.8895924468922107\n",
      "Version 0.0.6\n",
      "0.9308325652841781\n",
      "Version 0.0.6\n",
      "0.9611182795698924\n"
     ]
    },
    {
     "name": "stderr",
     "output_type": "stream",
     "text": [
      "<ipython-input-46-3d6e01eaffdd>:23: RuntimeWarning: invalid value encountered in log\n",
      "  es_sub = np.log(adata_sub.uns['memento']['1d_moments']['sg^stim'][1]/adata_sub.uns['memento']['1d_moments']['sg^ctrl'][1])\n"
     ]
    },
    {
     "name": "stdout",
     "output_type": "stream",
     "text": [
      "Version 0.0.6\n",
      "0.9840675883256528\n"
     ]
    }
   ],
   "source": [
    "df_list = []\n",
    "memento_concordances = []\n",
    "for rate in rates:\n",
    "    df = pd.DataFrame()\n",
    "    adata_sub = sc.read(data_path + 'subsampled_{}.h5ad'.format(rate))\n",
    "    adata_sub.X = sparse.csr_matrix(adata_sub.X.astype(float))\n",
    "    adata_sub.obs['q'] = 0.07\n",
    "    memento.setup_memento(adata_sub, q_column='q', trim_percent=0.1)\n",
    "    memento.create_groups(adata_sub, label_columns=['stim'])\n",
    "    memento.compute_1d_moments(adata_sub, min_perc_group=.0)\n",
    "    \n",
    "#     memento.ht_1d_moments(\n",
    "#         adata_sub, \n",
    "#         formula_like='1 + stim',\n",
    "#         treatment_col='stim', \n",
    "#         num_boot=500, \n",
    "#         verbose=1,\n",
    "#         num_cpus=14,\n",
    "#         resampling='bootstrap',\n",
    "#         approx=False)\n",
    "        \n",
    "#     es_sub = memento.get_1d_ht_result(adata_sub)[['gene','dv_coef']]\n",
    "    es_sub = np.log(adata_sub.uns['memento']['1d_moments']['sg^stim'][1]/adata_sub.uns['memento']['1d_moments']['sg^ctrl'][1])\n",
    "#     merged = es_full.merge(es_sub, on='gene')\n",
    "#     print(concordance(merged['dv_coef_x'], merged['dv_coef_y']))\n",
    "    print(concordance(es_full, es_sub))\n",
    "    memento_concordances.append(concordance(es_full, es_sub))\n",
    "    df['diff'] = np.abs(es_sub-es_full)\n",
    "    df['rate'] = rate\n",
    "    df_list.append(df)\n",
    "    \n",
    "df = pd.concat(df_list)"
   ]
  },
  {
   "cell_type": "code",
   "execution_count": 47,
   "id": "ruled-billy",
   "metadata": {},
   "outputs": [
    {
     "data": {
      "text/plain": [
       "Text(0.5, 1.0, 'Variability')"
      ]
     },
     "execution_count": 47,
     "metadata": {},
     "output_type": "execute_result"
    },
    {
     "data": {
      "image/png": "[encoded data removed]",
      "text/plain": [
       "<Figure size 180x108 with 1 Axes>"
      ]
     },
     "metadata": {
      "needs_background": "light"
     },
     "output_type": "display_data"
    }
   ],
   "source": [
    "plt.figure(figsize=(2.5,1.5))\n",
    "\n",
    "plt.plot(rates, basics_concordances, '-o', color='blue')\n",
    "plt.plot(rates, schot_concordances, '-o', color='orange')\n",
    "plt.plot(rates, memento_concordances, '-o', color='green')\n",
    "plt.legend(['BASiCs', 'scHOT','memento', ])\n",
    "# plt.ylabel('Concordance to\\nfull data')\n",
    "plt.xlabel('Subsampling rate')\n",
    "plt.savefig('method_concordance.png', bbox_inches='tight', dpi=300)\n",
    "plt.title('Variability')\n"
   ]
  },
  {
   "cell_type": "code",
   "execution_count": 48,
   "id": "congressional-tattoo",
   "metadata": {},
   "outputs": [
    {
     "data": {
      "text/plain": [
       "[<matplotlib.lines.Line2D at 0x7f355c1d04f0>]"
      ]
     },
     "execution_count": 48,
     "metadata": {},
     "output_type": "execute_result"
    },
    {
     "data": {
      "image/png": "[encoded data removed]",
      "text/plain": [
       "<Figure size 432x288 with 1 Axes>"
      ]
     },
     "metadata": {
      "needs_background": "light"
     },
     "output_type": "display_data"
    }
   ],
   "source": [
    "plt.scatter(es_sub, es_full)\n",
    "plt.plot([-6,2], [-6,2])"
   ]
  },
  {
   "cell_type": "markdown",
   "id": "other-utilization",
   "metadata": {},
   "source": [
    "### Correlation"
   ]
  },
  {
   "cell_type": "code",
   "execution_count": 49,
   "id": "egyptian-composition",
   "metadata": {},
   "outputs": [
    {
     "name": "stdout",
     "output_type": "stream",
     "text": [
      "0.17549923195084488\n",
      "0.063892089093702\n",
      "0.18980414746543778\n",
      "0.12091973886328725\n"
     ]
    }
   ],
   "source": [
    "schot_concordances = []\n",
    "for rate in rates:\n",
    "    schot_sub = pd.read_csv(result_path + 'scHOT_{}_res_corr.csv'.format(rate))\n",
    "    \n",
    "    print(concordance(schot_full['higherOrderStatistic'], schot_sub['higherOrderStatistic']))\n",
    "\n",
    "    schot_concordances.append(concordance(schot_full['higherOrderStatistic'], schot_sub['higherOrderStatistic']))\n",
    "    \n",
    "#     plt.figure()\n",
    "#     plt.scatter(np.log(schot_full['higherOrderStatistic']), np.log(schot_sub['higherOrderStatistic']))"
   ]
  },
  {
   "cell_type": "code",
   "execution_count": 50,
   "id": "twelve-knowing",
   "metadata": {},
   "outputs": [],
   "source": [
    "import sys\n",
    "sys.path.append('/home/ssm-user/Github/scrna-parameter-estimation/dist/memento-0.0.6-py3.8.egg')\n",
    "sys.path.append('/home/ssm-user/Github/misc-seq/miscseq/')\n",
    "import encode\n",
    "import memento\n",
    "import scipy.sparse as sparse"
   ]
  },
  {
   "cell_type": "code",
   "execution_count": 51,
   "id": "cognitive-chase",
   "metadata": {},
   "outputs": [],
   "source": [
    "data_path = '/data_volume/memento/simulation/acc_fpr/'"
   ]
  },
  {
   "cell_type": "code",
   "execution_count": 52,
   "id": "distributed-impression",
   "metadata": {},
   "outputs": [],
   "source": [
    "adata_full = sc.read(data_path + 'subsampled_0.8.h5ad')"
   ]
  },
  {
   "cell_type": "code",
   "execution_count": 53,
   "id": "injured-moment",
   "metadata": {},
   "outputs": [],
   "source": [
    "adata_full.X = sparse.csr_matrix(adata_full.X.astype(float))"
   ]
  },
  {
   "cell_type": "code",
   "execution_count": 54,
   "id": "typical-badge",
   "metadata": {},
   "outputs": [],
   "source": [
    "adata_full.obs['q'] = 0.15"
   ]
  },
  {
   "cell_type": "code",
   "execution_count": 55,
   "id": "devoted-forestry",
   "metadata": {},
   "outputs": [
    {
     "name": "stdout",
     "output_type": "stream",
     "text": [
      "Version 0.0.6\n"
     ]
    }
   ],
   "source": [
    "memento.setup_memento(adata_full, q_column='q', trim_percent=0.1)"
   ]
  },
  {
   "cell_type": "code",
   "execution_count": 56,
   "id": "pending-north",
   "metadata": {},
   "outputs": [],
   "source": [
    "memento.create_groups(adata_full, label_columns=['stim'])\n",
    "memento.compute_1d_moments(adata_full, min_perc_group=.0)"
   ]
  },
  {
   "cell_type": "code",
   "execution_count": 57,
   "id": "offshore-zealand",
   "metadata": {},
   "outputs": [],
   "source": [
    "pairs = np.array(adata_full.var.index.tolist())[:-1].reshape(-1, 2)"
   ]
  },
  {
   "cell_type": "code",
   "execution_count": 58,
   "id": "failing-environment",
   "metadata": {},
   "outputs": [],
   "source": [
    "memento.compute_2d_moments(adata_full, gene_pairs=pairs)"
   ]
  },
  {
   "cell_type": "code",
   "execution_count": 59,
   "id": "fitted-course",
   "metadata": {},
   "outputs": [],
   "source": [
    "es_full = adata_full.uns['memento']['2d_moments']['sg^stim']['corr']-adata_full.uns['memento']['2d_moments']['sg^ctrl']['corr']"
   ]
  },
  {
   "cell_type": "code",
   "execution_count": 60,
   "id": "advised-turner",
   "metadata": {},
   "outputs": [
    {
     "name": "stdout",
     "output_type": "stream",
     "text": [
      "Version 0.0.6\n",
      "0.23900178791770546\n",
      "Version 0.0.6\n",
      "0.24136889023192565\n",
      "Version 0.0.6\n",
      "0.7126740701568834\n",
      "Version 0.0.6\n",
      "0.7535695399259651\n"
     ]
    }
   ],
   "source": [
    "df_list = []\n",
    "memento_concordances = []\n",
    "for rate in rates:\n",
    "    df = pd.DataFrame()\n",
    "    adata_sub = sc.read(data_path + 'subsampled_{}.h5ad'.format(rate))\n",
    "    adata_sub.X = sparse.csr_matrix(adata_sub.X.astype(float))\n",
    "    adata_sub.obs['q'] = 0.07\n",
    "    memento.setup_memento(adata_sub, q_column='q', trim_percent=0.1)\n",
    "    memento.create_groups(adata_sub, label_columns=['stim'])\n",
    "    memento.compute_1d_moments(adata_sub, min_perc_group=.0)\n",
    "    memento.compute_2d_moments(adata_sub, gene_pairs=pairs)\n",
    "    \n",
    "#     memento.ht_1d_moments(\n",
    "#         adata_sub, \n",
    "#         formula_like='1 + stim',\n",
    "#         treatment_col='stim', \n",
    "#         num_boot=500, \n",
    "#         verbose=1,\n",
    "#         num_cpus=14,\n",
    "#         resampling='bootstrap',\n",
    "#         approx=False)\n",
    "        \n",
    "#     es_sub = memento.get_1d_ht_result(adata_sub)[['gene','dv_coef']]\n",
    "    es_sub = adata_sub.uns['memento']['2d_moments']['sg^stim']['corr']-adata_sub.uns['memento']['2d_moments']['sg^ctrl']['corr']\n",
    "#     merged = es_full.merge(es_sub, on='gene')\n",
    "#     print(concordance(merged['dv_coef_x'], merged['dv_coef_y']))\n",
    "    print(concordance(es_full, es_sub))\n",
    "    memento_concordances.append(concordance(es_full, es_sub))\n",
    "    df['diff'] = np.abs(es_sub-es_full)\n",
    "    df['rate'] = rate\n",
    "    df_list.append(df)\n",
    "    \n",
    "df = pd.concat(df_list)"
   ]
  },
  {
   "cell_type": "code",
   "execution_count": 61,
   "id": "boolean-keyboard",
   "metadata": {},
   "outputs": [
    {
     "data": {
      "text/plain": [
       "Text(0.5, 1.0, 'Correlation')"
      ]
     },
     "execution_count": 61,
     "metadata": {},
     "output_type": "execute_result"
    },
    {
     "data": {
      "image/png": "[encoded data removed]",
      "text/plain": [
       "<Figure size 180x108 with 1 Axes>"
      ]
     },
     "metadata": {
      "needs_background": "light"
     },
     "output_type": "display_data"
    }
   ],
   "source": [
    "plt.figure(figsize=(2.5,1.5))\n",
    "\n",
    "# plt.plot(rates, basics_concordances, '-o')\n",
    "plt.plot(rates, schot_concordances, '-o', color='orange')\n",
    "plt.plot(rates, memento_concordances, '-o', color='green')\n",
    "plt.legend(['scHOT','memento', ])\n",
    "# plt.ylabel('Concordance to\\nfull data')\n",
    "plt.xlabel('Subsampling rate')\n",
    "plt.savefig('method_concordance_corr.png', bbox_inches='tight', dpi=300)\n",
    "plt.title('Correlation')\n"
   ]
  },
  {
   "cell_type": "markdown",
   "id": "fallen-johnston",
   "metadata": {},
   "source": [
    "### Mean"
   ]
  },
  {
   "cell_type": "code",
   "execution_count": 62,
   "id": "black-devon",
   "metadata": {},
   "outputs": [],
   "source": [
    "ctrl_full = pd.read_csv(result_path + 'mu_0.8_ctrl.csv').median(axis=0)\n",
    "stim_full = pd.read_csv(result_path + 'mu_0.8_stim.csv').median(axis=0)\n",
    "es_full = np.log(stim_full/ctrl_full)"
   ]
  },
  {
   "cell_type": "code",
   "execution_count": 63,
   "id": "superb-rocket",
   "metadata": {},
   "outputs": [],
   "source": [
    "rates = [0.1, 0.2, 0.4, 0.6]"
   ]
  },
  {
   "cell_type": "code",
   "execution_count": 64,
   "id": "lasting-louisville",
   "metadata": {},
   "outputs": [
    {
     "name": "stdout",
     "output_type": "stream",
     "text": [
      "0.9929708141321044\n",
      "0.9954224270353301\n",
      "0.9984086021505373\n",
      "0.9986420890937018\n"
     ]
    }
   ],
   "source": [
    "df_list = []\n",
    "basics_concordances = []\n",
    "for rate in rates:\n",
    "    df = pd.DataFrame()\n",
    "    ctrl_sub = pd.read_csv(result_path + 'mu_{}_ctrl.csv'.format(rate)).median(axis=0)\n",
    "    stim_sub = pd.read_csv(result_path + 'mu_{}_stim.csv'.format(rate)).median(axis=0)\n",
    "    es_sub = np.log(stim_sub/ctrl_sub)\n",
    "    \n",
    "    print(concordance(es_full, es_sub))\n",
    "    df['diff'] = np.abs(es_sub-es_full)\n",
    "    df['rate'] = rate\n",
    "    df_list.append(df)\n",
    "    basics_concordances.append(concordance(es_full, es_sub))\n",
    "df = pd.concat(df_list)"
   ]
  },
  {
   "cell_type": "code",
   "execution_count": 65,
   "id": "opening-scout",
   "metadata": {},
   "outputs": [],
   "source": [
    "data_path = '/data_volume/memento/simulation/acc_fpr/'"
   ]
  },
  {
   "cell_type": "code",
   "execution_count": 66,
   "id": "every-color",
   "metadata": {},
   "outputs": [],
   "source": [
    "adata_full = sc.read(data_path + 'subsampled_0.8.h5ad')"
   ]
  },
  {
   "cell_type": "code",
   "execution_count": 67,
   "id": "fluid-inquiry",
   "metadata": {},
   "outputs": [],
   "source": [
    "adata_full.X = sparse.csr_matrix(adata_full.X.astype(float))"
   ]
  },
  {
   "cell_type": "code",
   "execution_count": 68,
   "id": "external-sheffield",
   "metadata": {},
   "outputs": [],
   "source": [
    "adata_full.obs['q'] = 0.15"
   ]
  },
  {
   "cell_type": "code",
   "execution_count": 69,
   "id": "advance-weekend",
   "metadata": {},
   "outputs": [
    {
     "name": "stdout",
     "output_type": "stream",
     "text": [
      "Version 0.0.6\n"
     ]
    }
   ],
   "source": [
    "memento.setup_memento(adata_full, q_column='q', trim_percent=0.1)"
   ]
  },
  {
   "cell_type": "code",
   "execution_count": 70,
   "id": "beautiful-minneapolis",
   "metadata": {},
   "outputs": [
    {
     "name": "stderr",
     "output_type": "stream",
     "text": [
      "/home/ssm-user/anaconda3/envs/single_cell/lib/python3.8/site-packages/pandas/core/arrays/categorical.py:2487: FutureWarning: The `inplace` parameter in pandas.Categorical.remove_unused_categories is deprecated and will be removed in a future version.\n",
      "  res = method(*args, **kwargs)\n"
     ]
    }
   ],
   "source": [
    "memento.create_groups(adata_full, label_columns=['stim'])\n",
    "memento.compute_1d_moments(adata_full, min_perc_group=.0)"
   ]
  },
  {
   "cell_type": "code",
   "execution_count": 71,
   "id": "breeding-crime",
   "metadata": {},
   "outputs": [],
   "source": [
    "# memento.ht_1d_moments(\n",
    "#     adata_full, \n",
    "#     formula_like='1 + stim',\n",
    "#     treatment_col='stim', \n",
    "#     num_boot=500, \n",
    "#     verbose=1,\n",
    "#     num_cpus=14,\n",
    "#     resampling='bootstrap',\n",
    "#     approx=False)"
   ]
  },
  {
   "cell_type": "code",
   "execution_count": 72,
   "id": "driven-newark",
   "metadata": {},
   "outputs": [],
   "source": [
    "es_full = np.log(adata_full.uns['memento']['1d_moments']['sg^stim'][0]/adata_full.uns['memento']['1d_moments']['sg^ctrl'][0])"
   ]
  },
  {
   "cell_type": "code",
   "execution_count": 73,
   "id": "protected-fantasy",
   "metadata": {},
   "outputs": [
    {
     "name": "stdout",
     "output_type": "stream",
     "text": [
      "Version 0.0.6\n",
      "0.9935791090629797\n",
      "Version 0.0.6\n",
      "0.996116743471582\n",
      "Version 0.0.6\n",
      "0.9984761904761904\n",
      "Version 0.0.6\n",
      "0.998943164362519\n"
     ]
    }
   ],
   "source": [
    "df_list = []\n",
    "memento_concordances = []\n",
    "for rate in rates:\n",
    "    df = pd.DataFrame()\n",
    "    adata_sub = sc.read(data_path + 'subsampled_{}.h5ad'.format(rate))\n",
    "    adata_sub.X = sparse.csr_matrix(adata_sub.X.astype(float))\n",
    "    adata_sub.obs['q'] = 0.07\n",
    "    memento.setup_memento(adata_sub, q_column='q', trim_percent=0.1)\n",
    "    memento.create_groups(adata_sub, label_columns=['stim'])\n",
    "    memento.compute_1d_moments(adata_sub, min_perc_group=.0)\n",
    "    \n",
    "#     memento.ht_1d_moments(\n",
    "#         adata_sub, \n",
    "#         formula_like='1 + stim',\n",
    "#         treatment_col='stim', \n",
    "#         num_boot=500, \n",
    "#         verbose=1,\n",
    "#         num_cpus=14,\n",
    "#         resampling='bootstrap',\n",
    "#         approx=False)\n",
    "        \n",
    "#     es_sub = memento.get_1d_ht_result(adata_sub)[['gene','dv_coef']]\n",
    "    es_sub = np.log(adata_sub.uns['memento']['1d_moments']['sg^stim'][0]/adata_sub.uns['memento']['1d_moments']['sg^ctrl'][0])\n",
    "#     merged = es_full.merge(es_sub, on='gene')\n",
    "#     print(concordance(merged['dv_coef_x'], merged['dv_coef_y']))\n",
    "    print(concordance(es_full, es_sub))\n",
    "    memento_concordances.append(concordance(es_full, es_sub))\n",
    "    df['diff'] = np.abs(es_sub-es_full)\n",
    "    df['rate'] = rate\n",
    "    df_list.append(df)\n",
    "    \n",
    "df = pd.concat(df_list)"
   ]
  },
  {
   "cell_type": "code",
   "execution_count": 74,
   "id": "cardiac-throw",
   "metadata": {},
   "outputs": [
    {
     "data": {
      "text/plain": [
       "Text(0.5, 1.0, 'Mean')"
      ]
     },
     "execution_count": 74,
     "metadata": {},
     "output_type": "execute_result"
    },
    {
     "data": {
      "image/png": "[encoded data removed]",
      "text/plain": [
       "<Figure size 180x108 with 1 Axes>"
      ]
     },
     "metadata": {
      "needs_background": "light"
     },
     "output_type": "display_data"
    }
   ],
   "source": [
    "plt.figure(figsize=(2.5,1.5))\n",
    "\n",
    "plt.plot(rates, basics_concordances, '-o', color='blue')\n",
    "plt.plot(rates, memento_concordances, '-o', color='green')\n",
    "plt.legend(['BASiCs','memento', ])\n",
    "plt.ylabel('Concordance to\\nfull data')\n",
    "plt.xlabel('Subsampling rate')\n",
    "plt.savefig('method_concordance_mean.png', bbox_inches='tight', dpi=300)\n",
    "plt.title('Mean')\n"
   ]
  }
 ],
 "metadata": {
  "kernelspec": {
   "display_name": "Python 3",
   "language": "python",
   "name": "python3"
  },
  "language_info": {
   "codemirror_mode": {
    "name": "ipython",
    "version": 3
   },
   "file_extension": ".py",
   "mimetype": "text/x-python",
   "name": "python",
   "nbconvert_exporter": "python",
   "pygments_lexer": "ipython3",
   "version": "3.8.8"
  }
 },
 "nbformat": 4,
 "nbformat_minor": 5
}
