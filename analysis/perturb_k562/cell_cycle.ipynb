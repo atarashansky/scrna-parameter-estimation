{
 "cells": [
  {
   "cell_type": "markdown",
   "metadata": {},
   "source": [
    "# Perturb-seq K562 co-expression"
   ]
  },
  {
   "cell_type": "code",
   "execution_count": null,
   "metadata": {},
   "outputs": [],
   "source": [
    "import scanpy as sc\n",
    "import seaborn as sns\n",
    "import pandas as pd\n",
    "import matplotlib.pyplot as plt\n",
    "import numpy as np\n",
    "import scipy.stats as stats\n",
    "import itertools\n",
    "from pybedtools import BedTool\n",
    "import pickle as pkl\n",
    "%matplotlib inline"
   ]
  },
  {
   "cell_type": "code",
   "execution_count": null,
   "metadata": {},
   "outputs": [],
   "source": [
    "pd.set_option('max_columns', None)"
   ]
  },
  {
   "cell_type": "code",
   "execution_count": null,
   "metadata": {},
   "outputs": [],
   "source": [
    "import sys\n",
    "sys.path.append('/home/ssm-user/Github/scrna-parameter-estimation/dist/memento-0.0.6-py3.8.egg')\n",
    "sys.path.append('/home/ssm-user/Github/misc-seq/miscseq/')\n",
    "import encode\n",
    "import memento"
   ]
  },
  {
   "cell_type": "code",
   "execution_count": null,
   "metadata": {},
   "outputs": [],
   "source": [
    "data_path = '/data_volume/memento/k562/'"
   ]
  },
  {
   "cell_type": "markdown",
   "metadata": {},
   "source": [
    "### Read the guide labled K562 data\n",
    "\n",
    "From perturbseq paper"
   ]
  },
  {
   "cell_type": "code",
   "execution_count": null,
   "metadata": {},
   "outputs": [],
   "source": [
    "adata = sc.read(data_path + 'h5ad/filtered-tf-perturbseq.h5ad')"
   ]
  },
  {
   "cell_type": "code",
   "execution_count": null,
   "metadata": {},
   "outputs": [],
   "source": [
    "guides = adata.obs.guides.drop_duplicates().tolist()\n",
    "guides = [g for g in guides if ('INTER' not in g and 'nan' not in g)]\n",
    "ko_genes = adata.obs.query('KO == 1')['KO_GENE'].drop_duplicates().tolist()"
   ]
  },
  {
   "cell_type": "markdown",
   "metadata": {},
   "source": [
    "### Setup memento"
   ]
  },
  {
   "cell_type": "code",
   "execution_count": null,
   "metadata": {},
   "outputs": [],
   "source": [
    "adata.obs['q'] = 0.07"
   ]
  },
  {
   "cell_type": "code",
   "execution_count": null,
   "metadata": {},
   "outputs": [],
   "source": [
    "memento.setup_memento(adata, q_column='q', filter_mean_thresh=0.07)"
   ]
  },
  {
   "cell_type": "markdown",
   "metadata": {},
   "source": [
    "### Get moments from all groups"
   ]
  },
  {
   "cell_type": "code",
   "execution_count": 78,
   "metadata": {},
   "outputs": [],
   "source": [
    "adata_moments = adata.copy().copy()"
   ]
  },
  {
   "cell_type": "code",
   "execution_count": 79,
   "metadata": {},
   "outputs": [
    {
     "name": "stderr",
     "output_type": "stream",
     "text": [
      "/home/ssm-user/anaconda3/envs/single_cell/lib/python3.8/site-packages/pandas/core/arrays/categorical.py:2487: FutureWarning: The `inplace` parameter in pandas.Categorical.remove_unused_categories is deprecated and will be removed in a future version.\n",
      "  res = method(*args, **kwargs)\n"
     ]
    }
   ],
   "source": [
    "memento.create_groups(adata_moments, label_columns=['phase'])\n",
    "memento.compute_1d_moments(adata_moments, min_perc_group=.9)"
   ]
  },
  {
   "cell_type": "code",
   "execution_count": 106,
   "metadata": {},
   "outputs": [],
   "source": [
    "moment_df = memento.get_1d_moments(adata_moments)\n",
    "moment_df = moment_df[0].merge(moment_df[1], on='gene', suffixes=('_m', '_v'))"
   ]
  },
  {
   "cell_type": "code",
   "execution_count": 107,
   "metadata": {},
   "outputs": [],
   "source": [
    "moment_df = moment_df[['gene','sg^G1_m', 'sg^S_m', 'sg^G2M_m', 'sg^G1_v', 'sg^S_v', 'sg^G2M_v']]"
   ]
  },
  {
   "cell_type": "markdown",
   "metadata": {},
   "source": [
    "### Cell cycle 1D moments"
   ]
  },
  {
   "cell_type": "code",
   "execution_count": 88,
   "metadata": {},
   "outputs": [],
   "source": [
    "adata.obs['s_phase'] = (adata.obs.phase == 'S').astype(int)\n",
    "adata.obs['g1_phase'] = (adata.obs.phase == 'G1').astype(int)\n",
    "adata.obs['g2m_phase'] = (adata.obs.phase == 'G2M').astype(int)"
   ]
  },
  {
   "cell_type": "code",
   "execution_count": 89,
   "metadata": {},
   "outputs": [
    {
     "name": "stderr",
     "output_type": "stream",
     "text": [
      "/home/ssm-user/anaconda3/envs/single_cell/lib/python3.8/site-packages/pandas/core/arrays/categorical.py:2487: FutureWarning: The `inplace` parameter in pandas.Categorical.remove_unused_categories is deprecated and will be removed in a future version.\n",
      "  res = method(*args, **kwargs)\n"
     ]
    }
   ],
   "source": [
    "g1_s = adata[adata.obs.phase.isin(['S', 'G1'])].copy().copy()\n",
    "s_g2 = adata[adata.obs.phase.isin(['S', 'G2M'])].copy().copy()\n",
    "g2_g1 = adata[adata.obs.phase.isin(['G1', 'G2M'])].copy().copy()"
   ]
  },
  {
   "cell_type": "code",
   "execution_count": 90,
   "metadata": {},
   "outputs": [],
   "source": [
    "memento.create_groups(g1_s, label_columns=['s_phase'])\n",
    "memento.compute_1d_moments(g1_s, min_perc_group=.9)\n",
    "\n",
    "memento.create_groups(s_g2, label_columns=['g2m_phase'])\n",
    "memento.compute_1d_moments(s_g2, min_perc_group=.9)\n",
    "\n",
    "memento.create_groups(g2_g1, label_columns=['g1_phase'])\n",
    "memento.compute_1d_moments(g2_g1, min_perc_group=.9)"
   ]
  },
  {
   "cell_type": "code",
   "execution_count": 94,
   "metadata": {},
   "outputs": [
    {
     "name": "stderr",
     "output_type": "stream",
     "text": [
      "[Parallel(n_jobs=70)]: Using backend LokyBackend with 70 concurrent workers.\n",
      "[Parallel(n_jobs=70)]: Done  60 tasks      | elapsed:    5.9s\n",
      "[Parallel(n_jobs=70)]: Done 310 tasks      | elapsed:    9.8s\n",
      "[Parallel(n_jobs=70)]: Done 660 tasks      | elapsed:   14.8s\n",
      "[Parallel(n_jobs=70)]: Done 1110 tasks      | elapsed:   21.1s\n",
      "[Parallel(n_jobs=70)]: Done 1660 tasks      | elapsed:   28.6s\n",
      "[Parallel(n_jobs=70)]: Done 2310 tasks      | elapsed:   36.8s\n",
      "[Parallel(n_jobs=70)]: Done 3060 tasks      | elapsed:   48.1s\n",
      "[Parallel(n_jobs=70)]: Done 3910 tasks      | elapsed:  1.0min\n",
      "[Parallel(n_jobs=70)]: Done 4860 tasks      | elapsed:  1.2min\n",
      "[Parallel(n_jobs=70)]: Done 5910 tasks      | elapsed:  1.5min\n",
      "[Parallel(n_jobs=70)]: Done 7060 tasks      | elapsed:  1.7min\n",
      "[Parallel(n_jobs=70)]: Done 8310 tasks      | elapsed:  2.0min\n",
      "[Parallel(n_jobs=70)]: Done 9071 out of 9071 | elapsed:  2.4min finished\n",
      "[Parallel(n_jobs=70)]: Using backend LokyBackend with 70 concurrent workers.\n",
      "[Parallel(n_jobs=70)]: Done  60 tasks      | elapsed:    1.4s\n",
      "[Parallel(n_jobs=70)]: Done 310 tasks      | elapsed:    5.8s\n",
      "[Parallel(n_jobs=70)]: Done 660 tasks      | elapsed:   11.5s\n",
      "[Parallel(n_jobs=70)]: Done 1110 tasks      | elapsed:   18.7s\n",
      "[Parallel(n_jobs=70)]: Done 1660 tasks      | elapsed:   27.3s\n",
      "[Parallel(n_jobs=70)]: Done 2310 tasks      | elapsed:   37.0s\n",
      "[Parallel(n_jobs=70)]: Done 3060 tasks      | elapsed:   49.7s\n",
      "[Parallel(n_jobs=70)]: Done 3910 tasks      | elapsed:  1.1min\n",
      "[Parallel(n_jobs=70)]: Done 4860 tasks      | elapsed:  1.3min\n",
      "[Parallel(n_jobs=70)]: Done 5910 tasks      | elapsed:  1.6min\n",
      "[Parallel(n_jobs=70)]: Done 7060 tasks      | elapsed:  1.9min\n",
      "[Parallel(n_jobs=70)]: Done 8310 tasks      | elapsed:  2.2min\n",
      "[Parallel(n_jobs=70)]: Done 9159 out of 9159 | elapsed:  2.7min finished\n",
      "[Parallel(n_jobs=70)]: Using backend LokyBackend with 70 concurrent workers.\n",
      "[Parallel(n_jobs=70)]: Done  60 tasks      | elapsed:    1.1s\n",
      "[Parallel(n_jobs=70)]: Done 310 tasks      | elapsed:    5.2s\n",
      "[Parallel(n_jobs=70)]: Done 660 tasks      | elapsed:   10.3s\n",
      "[Parallel(n_jobs=70)]: Done 1110 tasks      | elapsed:   16.5s\n",
      "[Parallel(n_jobs=70)]: Done 1660 tasks      | elapsed:   24.2s\n",
      "[Parallel(n_jobs=70)]: Done 2310 tasks      | elapsed:   32.6s\n",
      "[Parallel(n_jobs=70)]: Done 3060 tasks      | elapsed:   44.0s\n",
      "[Parallel(n_jobs=70)]: Done 3910 tasks      | elapsed:   56.6s\n",
      "[Parallel(n_jobs=70)]: Done 4860 tasks      | elapsed:  1.2min\n",
      "[Parallel(n_jobs=70)]: Done 5910 tasks      | elapsed:  1.4min\n",
      "[Parallel(n_jobs=70)]: Done 7060 tasks      | elapsed:  1.7min\n",
      "[Parallel(n_jobs=70)]: Done 8310 tasks      | elapsed:  2.0min\n",
      "[Parallel(n_jobs=70)]: Done 9088 out of 9088 | elapsed:  2.3min finished\n",
      "... storing 'memento_group' as categorical\n",
      "... storing 'memento_group' as categorical\n"
     ]
    }
   ],
   "source": [
    "memento.ht_1d_moments(\n",
    "    g1_s, \n",
    "    formula_like='1 + s_phase',\n",
    "    cov_column='s_phase', \n",
    "    num_boot=20000, \n",
    "    verbose=1,\n",
    "    num_cpus=70)\n",
    "\n",
    "memento.ht_1d_moments(\n",
    "    s_g2, \n",
    "    formula_like='1 + g2m_phase',\n",
    "    cov_column='g2m_phase', \n",
    "    num_boot=20000, \n",
    "    verbose=1,\n",
    "    num_cpus=70)\n",
    "\n",
    "memento.ht_1d_moments(\n",
    "    g2_g1, \n",
    "    formula_like='1 + g1_phase',\n",
    "    cov_column='g1_phase', \n",
    "    num_boot=20000, \n",
    "    verbose=1,\n",
    "    num_cpus=70)\n",
    "\n",
    "g1_s.write(data_path + 'cell_cycle/g1_s.h5ad')\n",
    "s_g2.write(data_path + 'cell_cycle/s_g2.h5ad')\n",
    "g2_g1.write(data_path + 'cell_cycle/g2_g1.h5ad')"
   ]
  },
  {
   "cell_type": "code",
   "execution_count": 91,
   "metadata": {},
   "outputs": [],
   "source": [
    "def get_1d_dfs(subset):\n",
    "\n",
    "    df = memento.get_1d_ht_result(subset)\n",
    "    df['dv_fdr'] = memento.util._fdrcorrect(df['dv_pval'])\n",
    "    df['de_fdr'] = memento.util._fdrcorrect(df['de_pval'])\n",
    "    \n",
    "    return df"
   ]
  },
  {
   "cell_type": "code",
   "execution_count": 96,
   "metadata": {},
   "outputs": [],
   "source": [
    "g1_s_1d = get_1d_dfs(g1_s)\n",
    "s_g2_1d = get_1d_dfs(s_g2)\n",
    "g2_g1_1d = get_1d_dfs(g2_g1)"
   ]
  },
  {
   "cell_type": "code",
   "execution_count": 99,
   "metadata": {},
   "outputs": [
    {
     "data": {
      "text/plain": [
       "<matplotlib.collections.PathCollection at 0x7fc9226f3a30>"
      ]
     },
     "execution_count": 99,
     "metadata": {},
     "output_type": "execute_result"
    },
    {
     "data": {
      "image/png": "[encoded data removed]",
      "text/plain": [
       "<Figure size 720x216 with 3 Axes>"
      ]
     },
     "metadata": {
      "needs_background": "light"
     },
     "output_type": "display_data"
    }
   ],
   "source": [
    "plt.figure(figsize=(10,3))\n",
    "plt.subplot(1,3,1)\n",
    "plt.scatter(g1_s_1d['de_coef'], g1_s_1d['dv_coef'], s=1)\n",
    "plt.subplot(1,3,2)\n",
    "plt.scatter(s_g2_1d['de_coef'], s_g2_1d['dv_coef'], s=1)\n",
    "plt.subplot(1,3,3)\n",
    "plt.scatter(g2_g1_1d['de_coef'], g2_g1_1d['dv_coef'], s=1)"
   ]
  },
  {
   "cell_type": "code",
   "execution_count": 109,
   "metadata": {},
   "outputs": [],
   "source": [
    "sig_genes = set(\n",
    "    g1_s_1d.query('dv_fdr < 0.01 & (dv_coef < -1 | dv_coef > 1)').gene.tolist() +\\\n",
    "    s_g2_1d.query('dv_fdr < 0.01 & (dv_coef < -1 | dv_coef > 1)').gene.tolist() + \\\n",
    "    g2_g1_1d.query('dv_fdr < 0.01 & (dv_coef < -1 | dv_coef > 1)').gene.tolist())"
   ]
  },
  {
   "cell_type": "code",
   "execution_count": 112,
   "metadata": {},
   "outputs": [
    {
     "data": {
      "text/html": [
       "<div>\n",
       "<style scoped>\n",
       "    .dataframe tbody tr th:only-of-type {\n",
       "        vertical-align: middle;\n",
       "    }\n",
       "\n",
       "    .dataframe tbody tr th {\n",
       "        vertical-align: top;\n",
       "    }\n",
       "\n",
       "    .dataframe thead th {\n",
       "        text-align: right;\n",
       "    }\n",
       "</style>\n",
       "<table border=\"1\" class=\"dataframe\">\n",
       "  <thead>\n",
       "    <tr style=\"text-align: right;\">\n",
       "      <th></th>\n",
       "      <th>gene</th>\n",
       "      <th>sg^G1_m</th>\n",
       "      <th>sg^S_m</th>\n",
       "      <th>sg^G2M_m</th>\n",
       "      <th>sg^G1_v</th>\n",
       "      <th>sg^S_v</th>\n",
       "      <th>sg^G2M_v</th>\n",
       "    </tr>\n",
       "  </thead>\n",
       "  <tbody>\n",
       "    <tr>\n",
       "      <th>610</th>\n",
       "      <td>S100A4</td>\n",
       "      <td>-0.607588</td>\n",
       "      <td>-1.454285</td>\n",
       "      <td>-1.415690</td>\n",
       "      <td>4.030479</td>\n",
       "      <td>2.001187</td>\n",
       "      <td>2.034646</td>\n",
       "    </tr>\n",
       "    <tr>\n",
       "      <th>611</th>\n",
       "      <td>S100A13</td>\n",
       "      <td>0.737172</td>\n",
       "      <td>0.602354</td>\n",
       "      <td>0.680478</td>\n",
       "      <td>1.115141</td>\n",
       "      <td>0.072948</td>\n",
       "      <td>0.329483</td>\n",
       "    </tr>\n",
       "    <tr>\n",
       "      <th>686</th>\n",
       "      <td>IFI16</td>\n",
       "      <td>-1.392985</td>\n",
       "      <td>-1.745082</td>\n",
       "      <td>-1.590598</td>\n",
       "      <td>1.991068</td>\n",
       "      <td>0.791379</td>\n",
       "      <td>0.672864</td>\n",
       "    </tr>\n",
       "    <tr>\n",
       "      <th>783</th>\n",
       "      <td>CFH</td>\n",
       "      <td>-0.044653</td>\n",
       "      <td>-0.482510</td>\n",
       "      <td>-0.359068</td>\n",
       "      <td>2.486089</td>\n",
       "      <td>0.857059</td>\n",
       "      <td>0.934059</td>\n",
       "    </tr>\n",
       "    <tr>\n",
       "      <th>784</th>\n",
       "      <td>ASPM</td>\n",
       "      <td>0.184673</td>\n",
       "      <td>0.426894</td>\n",
       "      <td>1.458795</td>\n",
       "      <td>1.220298</td>\n",
       "      <td>0.595292</td>\n",
       "      <td>0.233822</td>\n",
       "    </tr>\n",
       "  </tbody>\n",
       "</table>\n",
       "</div>"
      ],
      "text/plain": [
       "        gene   sg^G1_m    sg^S_m  sg^G2M_m   sg^G1_v    sg^S_v  sg^G2M_v\n",
       "610   S100A4 -0.607588 -1.454285 -1.415690  4.030479  2.001187  2.034646\n",
       "611  S100A13  0.737172  0.602354  0.680478  1.115141  0.072948  0.329483\n",
       "686    IFI16 -1.392985 -1.745082 -1.590598  1.991068  0.791379  0.672864\n",
       "783      CFH -0.044653 -0.482510 -0.359068  2.486089  0.857059  0.934059\n",
       "784     ASPM  0.184673  0.426894  1.458795  1.220298  0.595292  0.233822"
      ]
     },
     "execution_count": 112,
     "metadata": {},
     "output_type": "execute_result"
    }
   ],
   "source": [
    "moment_df.query('gene in @sig_genes').head(5)"
   ]
  },
  {
   "cell_type": "markdown",
   "metadata": {},
   "source": [
    "### GSEA + scatterplots"
   ]
  },
  {
   "cell_type": "code",
   "execution_count": 195,
   "metadata": {},
   "outputs": [],
   "source": [
    "def plot_scatters(gene_set, name, c='k'):\n",
    "    plt.figure(figsize=(10,3))\n",
    "    plt.subplot(1,3,1)\n",
    "    plt.scatter(g1_s_1d['de_coef'], g1_s_1d['dv_coef'], s=1, color='gray')\n",
    "    plt.scatter(g1_s_1d.query('gene in @gene_set')['de_coef'], g1_s_1d.query('gene in @gene_set')['dv_coef'], s=15, color=c)\n",
    "    plt.xlabel('G1->S')\n",
    "\n",
    "    plt.subplot(1,3,2)\n",
    "    plt.scatter(s_g2_1d['de_coef'], s_g2_1d['dv_coef'], s=1, color='gray')\n",
    "    plt.scatter(s_g2_1d.query('gene in @gene_set')['de_coef'], s_g2_1d.query('gene in @gene_set')['dv_coef'], s=15, color=c)\n",
    "    plt.title(name)\n",
    "    plt.xlabel('S->G2M')\n",
    "\n",
    "    plt.subplot(1,3,3)\n",
    "    plt.scatter(g2_g1_1d['de_coef'], g2_g1_1d['dv_coef'], s=1, color='gray')\n",
    "    plt.scatter(g2_g1_1d.query('gene in @gene_set')['de_coef'], g2_g1_1d.query('gene in @gene_set')['dv_coef'], s=15, color=c)\n",
    "    plt.xlabel('G2M->G1')\n"
   ]
  },
  {
   "cell_type": "code",
   "execution_count": 128,
   "metadata": {},
   "outputs": [],
   "source": [
    "import gseapy as gp\n",
    "from gseapy.plot import gseaplot\n"
   ]
  },
  {
   "cell_type": "code",
   "execution_count": null,
   "metadata": {},
   "outputs": [],
   "source": [
    "gp.get_library_name()"
   ]
  },
  {
   "cell_type": "code",
   "execution_count": 236,
   "metadata": {},
   "outputs": [
    {
     "ename": "KeyboardInterrupt",
     "evalue": "",
     "output_type": "error",
     "traceback": [
      "\u001b[0;31m---------------------------------------------------------------------------\u001b[0m",
      "\u001b[0;31mKeyboardInterrupt\u001b[0m                         Traceback (most recent call last)",
      "\u001b[0;32m<ipython-input-236-c5b801004850>\u001b[0m in \u001b[0;36m<module>\u001b[0;34m\u001b[0m\n\u001b[0;32m----> 1\u001b[0;31m pre_res = gp.prerank(\n\u001b[0m\u001b[1;32m      2\u001b[0m     \u001b[0mrnk\u001b[0m\u001b[0;34m=\u001b[0m\u001b[0ms_g2_1d\u001b[0m\u001b[0;34m[\u001b[0m\u001b[0;34m[\u001b[0m\u001b[0;34m'gene'\u001b[0m\u001b[0;34m,\u001b[0m\u001b[0;34m'dv_coef'\u001b[0m\u001b[0;34m]\u001b[0m\u001b[0;34m]\u001b[0m\u001b[0;34m.\u001b[0m\u001b[0msort_values\u001b[0m\u001b[0;34m(\u001b[0m\u001b[0;34m'dv_coef'\u001b[0m\u001b[0;34m)\u001b[0m\u001b[0;34m,\u001b[0m\u001b[0;34m\u001b[0m\u001b[0;34m\u001b[0m\u001b[0m\n\u001b[1;32m      3\u001b[0m     \u001b[0mgene_sets\u001b[0m\u001b[0;34m=\u001b[0m\u001b[0;34m'GO_Biological_Process_2018'\u001b[0m\u001b[0;34m,\u001b[0m\u001b[0;34m\u001b[0m\u001b[0;34m\u001b[0m\u001b[0m\n\u001b[1;32m      4\u001b[0m     \u001b[0mprocesses\u001b[0m\u001b[0;34m=\u001b[0m\u001b[0;36m4\u001b[0m\u001b[0;34m,\u001b[0m\u001b[0;34m\u001b[0m\u001b[0;34m\u001b[0m\u001b[0m\n\u001b[1;32m      5\u001b[0m     \u001b[0mpermutation_num\u001b[0m\u001b[0;34m=\u001b[0m\u001b[0;36m100\u001b[0m\u001b[0;34m,\u001b[0m \u001b[0;31m# reduce number to speed up testing\u001b[0m\u001b[0;34m\u001b[0m\u001b[0;34m\u001b[0m\u001b[0m\n",
      "\u001b[0;32m~/anaconda3/envs/single_cell/lib/python3.8/site-packages/gseapy/gsea.py\u001b[0m in \u001b[0;36mprerank\u001b[0;34m(rnk, gene_sets, outdir, pheno_pos, pheno_neg, min_size, max_size, permutation_num, weighted_score_type, ascending, processes, figsize, format, graph_num, no_plot, seed, verbose)\u001b[0m\n\u001b[1;32m   1050\u001b[0m                   \u001b[0mmin_size\u001b[0m\u001b[0;34m,\u001b[0m \u001b[0mmax_size\u001b[0m\u001b[0;34m,\u001b[0m \u001b[0mpermutation_num\u001b[0m\u001b[0;34m,\u001b[0m \u001b[0mweighted_score_type\u001b[0m\u001b[0;34m,\u001b[0m\u001b[0;34m\u001b[0m\u001b[0;34m\u001b[0m\u001b[0m\n\u001b[1;32m   1051\u001b[0m                   ascending, processes, figsize, format, graph_num, no_plot, seed, verbose)\n\u001b[0;32m-> 1052\u001b[0;31m     \u001b[0mpre\u001b[0m\u001b[0;34m.\u001b[0m\u001b[0mrun\u001b[0m\u001b[0;34m(\u001b[0m\u001b[0;34m)\u001b[0m\u001b[0;34m\u001b[0m\u001b[0;34m\u001b[0m\u001b[0m\n\u001b[0m\u001b[1;32m   1053\u001b[0m     \u001b[0;32mreturn\u001b[0m \u001b[0mpre\u001b[0m\u001b[0;34m\u001b[0m\u001b[0;34m\u001b[0m\u001b[0m\n\u001b[1;32m   1054\u001b[0m \u001b[0;34m\u001b[0m\u001b[0m\n",
      "\u001b[0;32m~/anaconda3/envs/single_cell/lib/python3.8/site-packages/gseapy/gsea.py\u001b[0m in \u001b[0;36mrun\u001b[0;34m(self)\u001b[0m\n\u001b[1;32m    501\u001b[0m         \u001b[0mself\u001b[0m\u001b[0;34m.\u001b[0m\u001b[0m_logger\u001b[0m\u001b[0;34m.\u001b[0m\u001b[0minfo\u001b[0m\u001b[0;34m(\u001b[0m\u001b[0;34m\"Parsing data files for GSEA.............................\"\u001b[0m\u001b[0;34m)\u001b[0m\u001b[0;34m\u001b[0m\u001b[0;34m\u001b[0m\u001b[0m\n\u001b[1;32m    502\u001b[0m         \u001b[0;31m# filtering out gene sets and build gene sets dictionary\u001b[0m\u001b[0;34m\u001b[0m\u001b[0;34m\u001b[0m\u001b[0;34m\u001b[0m\u001b[0m\n\u001b[0;32m--> 503\u001b[0;31m         \u001b[0mgmt\u001b[0m \u001b[0;34m=\u001b[0m \u001b[0mself\u001b[0m\u001b[0;34m.\u001b[0m\u001b[0mload_gmt\u001b[0m\u001b[0;34m(\u001b[0m\u001b[0mgene_list\u001b[0m\u001b[0;34m=\u001b[0m\u001b[0mdat2\u001b[0m\u001b[0;34m.\u001b[0m\u001b[0mindex\u001b[0m\u001b[0;34m.\u001b[0m\u001b[0mvalues\u001b[0m\u001b[0;34m,\u001b[0m \u001b[0mgmt\u001b[0m\u001b[0;34m=\u001b[0m\u001b[0mself\u001b[0m\u001b[0;34m.\u001b[0m\u001b[0mgene_sets\u001b[0m\u001b[0;34m)\u001b[0m\u001b[0;34m\u001b[0m\u001b[0;34m\u001b[0m\u001b[0m\n\u001b[0m\u001b[1;32m    504\u001b[0m \u001b[0;34m\u001b[0m\u001b[0m\n\u001b[1;32m    505\u001b[0m         \u001b[0mself\u001b[0m\u001b[0;34m.\u001b[0m\u001b[0m_logger\u001b[0m\u001b[0;34m.\u001b[0m\u001b[0minfo\u001b[0m\u001b[0;34m(\u001b[0m\u001b[0;34m\"%04d gene_sets used for further statistical testing.....\"\u001b[0m\u001b[0;34m%\u001b[0m \u001b[0mlen\u001b[0m\u001b[0;34m(\u001b[0m\u001b[0mgmt\u001b[0m\u001b[0;34m)\u001b[0m\u001b[0;34m)\u001b[0m\u001b[0;34m\u001b[0m\u001b[0;34m\u001b[0m\u001b[0m\n",
      "\u001b[0;32m~/anaconda3/envs/single_cell/lib/python3.8/site-packages/gseapy/gsea.py\u001b[0m in \u001b[0;36mload_gmt\u001b[0;34m(self, gene_list, gmt)\u001b[0m\n\u001b[1;32m    127\u001b[0m                 \u001b[0msubset_list\u001b[0m \u001b[0;34m=\u001b[0m \u001b[0mlist\u001b[0m\u001b[0;34m(\u001b[0m\u001b[0msubset_list\u001b[0m\u001b[0;34m)\u001b[0m\u001b[0;34m\u001b[0m\u001b[0;34m\u001b[0m\u001b[0m\n\u001b[1;32m    128\u001b[0m                 \u001b[0mgenesets_dict\u001b[0m\u001b[0;34m[\u001b[0m\u001b[0msubset\u001b[0m\u001b[0;34m]\u001b[0m \u001b[0;34m=\u001b[0m \u001b[0msubset_list\u001b[0m\u001b[0;34m\u001b[0m\u001b[0;34m\u001b[0m\u001b[0m\n\u001b[0;32m--> 129\u001b[0;31m             \u001b[0mtag_indicator\u001b[0m \u001b[0;34m=\u001b[0m \u001b[0mnp\u001b[0m\u001b[0;34m.\u001b[0m\u001b[0min1d\u001b[0m\u001b[0;34m(\u001b[0m\u001b[0mgene_list\u001b[0m\u001b[0;34m,\u001b[0m \u001b[0msubset_list\u001b[0m\u001b[0;34m,\u001b[0m \u001b[0massume_unique\u001b[0m\u001b[0;34m=\u001b[0m\u001b[0;32mTrue\u001b[0m\u001b[0;34m)\u001b[0m\u001b[0;34m\u001b[0m\u001b[0;34m\u001b[0m\u001b[0m\n\u001b[0m\u001b[1;32m    130\u001b[0m             \u001b[0mtag_len\u001b[0m \u001b[0;34m=\u001b[0m \u001b[0mtag_indicator\u001b[0m\u001b[0;34m.\u001b[0m\u001b[0msum\u001b[0m\u001b[0;34m(\u001b[0m\u001b[0;34m)\u001b[0m\u001b[0;34m\u001b[0m\u001b[0;34m\u001b[0m\u001b[0m\n\u001b[1;32m    131\u001b[0m             \u001b[0;32mif\u001b[0m  \u001b[0mself\u001b[0m\u001b[0;34m.\u001b[0m\u001b[0mmin_size\u001b[0m \u001b[0;34m<=\u001b[0m \u001b[0mtag_len\u001b[0m \u001b[0;34m<=\u001b[0m \u001b[0mself\u001b[0m\u001b[0;34m.\u001b[0m\u001b[0mmax_size\u001b[0m\u001b[0;34m:\u001b[0m \u001b[0;32mcontinue\u001b[0m\u001b[0;34m\u001b[0m\u001b[0;34m\u001b[0m\u001b[0m\n",
      "\u001b[0;32m<__array_function__ internals>\u001b[0m in \u001b[0;36min1d\u001b[0;34m(*args, **kwargs)\u001b[0m\n",
      "\u001b[0;32m~/anaconda3/envs/single_cell/lib/python3.8/site-packages/numpy/lib/arraysetops.py\u001b[0m in \u001b[0;36min1d\u001b[0;34m(ar1, ar2, assume_unique, invert)\u001b[0m\n\u001b[1;32m    578\u001b[0m             \u001b[0mmask\u001b[0m \u001b[0;34m=\u001b[0m \u001b[0mnp\u001b[0m\u001b[0;34m.\u001b[0m\u001b[0mzeros\u001b[0m\u001b[0;34m(\u001b[0m\u001b[0mlen\u001b[0m\u001b[0;34m(\u001b[0m\u001b[0mar1\u001b[0m\u001b[0;34m)\u001b[0m\u001b[0;34m,\u001b[0m \u001b[0mdtype\u001b[0m\u001b[0;34m=\u001b[0m\u001b[0mbool\u001b[0m\u001b[0;34m)\u001b[0m\u001b[0;34m\u001b[0m\u001b[0;34m\u001b[0m\u001b[0m\n\u001b[1;32m    579\u001b[0m             \u001b[0;32mfor\u001b[0m \u001b[0ma\u001b[0m \u001b[0;32min\u001b[0m \u001b[0mar2\u001b[0m\u001b[0;34m:\u001b[0m\u001b[0;34m\u001b[0m\u001b[0;34m\u001b[0m\u001b[0m\n\u001b[0;32m--> 580\u001b[0;31m                 \u001b[0mmask\u001b[0m \u001b[0;34m|=\u001b[0m \u001b[0;34m(\u001b[0m\u001b[0mar1\u001b[0m \u001b[0;34m==\u001b[0m \u001b[0ma\u001b[0m\u001b[0;34m)\u001b[0m\u001b[0;34m\u001b[0m\u001b[0;34m\u001b[0m\u001b[0m\n\u001b[0m\u001b[1;32m    581\u001b[0m         \u001b[0;32mreturn\u001b[0m \u001b[0mmask\u001b[0m\u001b[0;34m\u001b[0m\u001b[0;34m\u001b[0m\u001b[0m\n\u001b[1;32m    582\u001b[0m \u001b[0;34m\u001b[0m\u001b[0m\n",
      "\u001b[0;31mKeyboardInterrupt\u001b[0m: "
     ]
    }
   ],
   "source": [
    "pre_res = gp.prerank(\n",
    "    rnk=s_g2_1d[['gene','dv_coef']].sort_values('dv_coef'), \n",
    "    gene_sets='GO_Biological_Process_2018',\n",
    "    processes=4,\n",
    "    permutation_num=100, # reduce number to speed up testing\n",
    "    outdir=None, seed=6)"
   ]
  },
  {
   "cell_type": "code",
   "execution_count": null,
   "metadata": {},
   "outputs": [],
   "source": [
    "terms = pre_res.res2d.index\n"
   ]
  },
  {
   "cell_type": "code",
   "execution_count": null,
   "metadata": {},
   "outputs": [],
   "source": [
    "gsea_table = pre_res.res2d.sort_index().sort_values('fdr')\n"
   ]
  },
  {
   "cell_type": "code",
   "execution_count": null,
   "metadata": {},
   "outputs": [],
   "source": [
    "gsea_table.head(5)"
   ]
  },
  {
   "cell_type": "code",
   "execution_count": null,
   "metadata": {},
   "outputs": [],
   "source": [
    "terms"
   ]
  },
  {
   "cell_type": "code",
   "execution_count": null,
   "metadata": {},
   "outputs": [],
   "source": [
    "idx=0\n",
    "gseaplot(rank_metric=pre_res.ranking, term=terms[idx], **pre_res.results[terms[idx]])\n"
   ]
  },
  {
   "cell_type": "code",
   "execution_count": null,
   "metadata": {},
   "outputs": [],
   "source": [
    "gsea_table = pre_res.res2d.sort_index().sort_values('fdr')\n"
   ]
  },
  {
   "cell_type": "code",
   "execution_count": 196,
   "metadata": {},
   "outputs": [
    {
     "data": {
      "image/png": "[encoded data removed]",
      "text/plain": [
       "<Figure size 720x216 with 3 Axes>"
      ]
     },
     "metadata": {
      "needs_background": "light"
     },
     "output_type": "display_data"
    }
   ],
   "source": [
    "plot_scatters(stress_genes, 'chaperones')"
   ]
  },
  {
   "cell_type": "code",
   "execution_count": 198,
   "metadata": {},
   "outputs": [
    {
     "data": {
      "image/png": "[encoded data removed]",
      "text/plain": [
       "<Figure size 720x216 with 3 Axes>"
      ]
     },
     "metadata": {
      "needs_background": "light"
     },
     "output_type": "display_data"
    }
   ],
   "source": [
    "cell_cycle_genes = [x.strip() for x in open('./regev_lab_cell_cycle_genes.txt')]\n",
    "plot_scatters(cell_cycle_genes, 'cell cycle')"
   ]
  },
  {
   "cell_type": "code",
   "execution_count": 233,
   "metadata": {},
   "outputs": [
    {
     "data": {
      "image/png": "[encoded data removed]",
      "text/plain": [
       "<Figure size 720x216 with 3 Axes>"
      ]
     },
     "metadata": {
      "needs_background": "light"
     },
     "output_type": "display_data"
    }
   ],
   "source": [
    "manual_gene_set = g1_s_1d.query('dv_coef < -1 & de_coef < -0.5').gene.tolist()\n",
    "plot_scatters(manual_gene_set, 'G1 genes')"
   ]
  },
  {
   "cell_type": "code",
   "execution_count": 234,
   "metadata": {},
   "outputs": [
    {
     "data": {
      "text/plain": [
       "['S100A4',\n",
       " 'ID2',\n",
       " 'FN1',\n",
       " 'AIF1',\n",
       " 'SOSTDC1',\n",
       " 'CALB1',\n",
       " 'CLEC2B',\n",
       " 'LYZ',\n",
       " 'PHLDA1',\n",
       " 'TYROBP']"
      ]
     },
     "execution_count": 234,
     "metadata": {},
     "output_type": "execute_result"
    }
   ],
   "source": [
    "manual_gene_set"
   ]
  },
  {
   "cell_type": "markdown",
   "metadata": {},
   "source": [
    "### Get moments for the gene classes"
   ]
  },
  {
   "cell_type": "code",
   "execution_count": 250,
   "metadata": {},
   "outputs": [
    {
     "data": {
      "text/plain": [
       "Text(0.5, 1.0, 'Variability')"
      ]
     },
     "execution_count": 250,
     "metadata": {},
     "output_type": "execute_result"
    },
    {
     "data": {
      "image/png": "[encoded data removed]",
      "text/plain": [
       "<Figure size 720x216 with 2 Axes>"
      ]
     },
     "metadata": {
      "needs_background": "light"
     },
     "output_type": "display_data"
    }
   ],
   "source": [
    "plt.figure(figsize=(10, 3))\n",
    "plt.subplot(1, 2, 1)\n",
    "plt.plot(moment_df.query('gene in @stress_genes').iloc[:, 1:4].values.T)\n",
    "plt.xticks([0,1,2],['G1', 'S', 'G2M'])\n",
    "plt.title('Mean')\n",
    "\n",
    "plt.subplot(1, 2, 2)\n",
    "plt.plot(moment_df.query('gene in @stress_genes').iloc[:, 4:].values.T)\n",
    "plt.xticks([0,1,2],['G1', 'S', 'G2M'])\n",
    "plt.title('Variability')"
   ]
  },
  {
   "cell_type": "code",
   "execution_count": 241,
   "metadata": {},
   "outputs": [
    {
     "data": {
      "text/plain": [
       "[<matplotlib.lines.Line2D at 0x7fc90253a2b0>,\n",
       " <matplotlib.lines.Line2D at 0x7fc90253a3a0>,\n",
       " <matplotlib.lines.Line2D at 0x7fc90253a460>,\n",
       " <matplotlib.lines.Line2D at 0x7fc90253a520>,\n",
       " <matplotlib.lines.Line2D at 0x7fc90253a5e0>,\n",
       " <matplotlib.lines.Line2D at 0x7fc90253a6a0>,\n",
       " <matplotlib.lines.Line2D at 0x7fc90253a760>,\n",
       " <matplotlib.lines.Line2D at 0x7fc90253a820>,\n",
       " <matplotlib.lines.Line2D at 0x7fc90253a8e0>,\n",
       " <matplotlib.lines.Line2D at 0x7fc90253a9a0>,\n",
       " <matplotlib.lines.Line2D at 0x7fc9b01f3340>,\n",
       " <matplotlib.lines.Line2D at 0x7fc90253aaf0>]"
      ]
     },
     "execution_count": 241,
     "metadata": {},
     "output_type": "execute_result"
    },
    {
     "data": {
      "image/png": "[encoded data removed]",
      "text/plain": [
       "<Figure size 432x288 with 1 Axes>"
      ]
     },
     "metadata": {
      "needs_background": "light"
     },
     "output_type": "display_data"
    }
   ],
   "source": [
    "plt.plot(moment_df.query('gene in @stress_genes').iloc[:, 4:].values.T)"
   ]
  },
  {
   "cell_type": "code",
   "execution_count": null,
   "metadata": {},
   "outputs": [],
   "source": [
    "df['dv_pval'].hist(bins=50)"
   ]
  },
  {
   "cell_type": "code",
   "execution_count": null,
   "metadata": {},
   "outputs": [],
   "source": []
  },
  {
   "cell_type": "markdown",
   "metadata": {},
   "source": [
    "### Find self-DC genes"
   ]
  },
  {
   "cell_type": "code",
   "execution_count": null,
   "metadata": {},
   "outputs": [],
   "source": [
    "for g in ko_genes:\n",
    "    \n",
    "    subset = adata[adata.obs.WT | (adata.obs.KO_GENE == g)].copy().copy()\n",
    "    \n",
    "    memento.create_groups(subset, label_columns=['KO'])\n",
    "    memento.compute_1d_moments(subset, min_perc_group=.9)\n",
    "    \n",
    "    if g not in subset.var.index:\n",
    "        continue\n",
    "    \n",
    "    target_genes = list(set(subset.var.index)-set(ko_genes))\n",
    "#     memento.compute_2d_moments(subset, gene_pairs=list(itertools.product([g], target_genes)))\n",
    "    \n",
    "    memento.ht_1d_moments(\n",
    "        subset, \n",
    "        formula_like='1 + KO',\n",
    "        cov_column='KO', \n",
    "        num_boot=10000, \n",
    "        verbose=1,\n",
    "        num_cpus=70)\n",
    "    \n",
    "#     subset.write(data_path + '2d_self_h5ad/{}.h5ad'.format(g))\n",
    "    \n",
    "    break"
   ]
  },
  {
   "cell_type": "code",
   "execution_count": null,
   "metadata": {},
   "outputs": [],
   "source": [
    "df = memento.get_1d_ht_result(subset)"
   ]
  },
  {
   "cell_type": "code",
   "execution_count": null,
   "metadata": {},
   "outputs": [],
   "source": [
    "df = memento.get_1d_ht_result(subset)"
   ]
  },
  {
   "cell_type": "code",
   "execution_count": null,
   "metadata": {},
   "outputs": [],
   "source": [
    "df['de_pval'].hist(bins=50)"
   ]
  },
  {
   "cell_type": "code",
   "execution_count": null,
   "metadata": {},
   "outputs": [],
   "source": [
    "for g, result in result_1d_dict.items():\n",
    "    \n",
    "    result.to_csv(data_path + '/result_1d/{}.csv'.format(g), index=False)"
   ]
  },
  {
   "cell_type": "markdown",
   "metadata": {},
   "source": [
    "### Get 1D results"
   ]
  },
  {
   "cell_type": "code",
   "execution_count": null,
   "metadata": {},
   "outputs": [],
   "source": [
    "result_1d_dict = {g:pd.read_csv(data_path + '/result_1d/{}.csv'.format(g)) for g in guides if ('INTER' not in g and 'nan' not in g)}"
   ]
  },
  {
   "cell_type": "code",
   "execution_count": null,
   "metadata": {},
   "outputs": [],
   "source": [
    "g = 'p_sgGABPA_9'\n",
    "df = result_1d_dict[g]\n",
    "df.query('de_fdr < 0.1 | dv_fdr < 0.1')"
   ]
  },
  {
   "cell_type": "code",
   "execution_count": null,
   "metadata": {},
   "outputs": [],
   "source": [
    "for g in guides:\n",
    "    \n",
    "    df = result_1d_dict[g]\n",
    "    df['de_fdr'] = memento.util._fdrcorrect(df['de_pval'])\n",
    "    df['dv_fdr'] = memento.util._fdrcorrect(df['dv_pval'])\n",
    "    \n",
    "    print(g, df.query('de_fdr < 0.15').shape[0], df.query('dv_fdr < 0.15').shape[0])"
   ]
  },
  {
   "cell_type": "markdown",
   "metadata": {},
   "source": [
    "### DV shift plots"
   ]
  },
  {
   "cell_type": "code",
   "execution_count": null,
   "metadata": {},
   "outputs": [],
   "source": [
    "for g in guides:\n",
    "    df = result_1d_dict[g]\n",
    "    plt.figure()\n",
    "    sns.kdeplot(df['dv_coef']);\n",
    "    plt.plot([0, 0], [0, 2])\n",
    "    plt.title(g)\n",
    "    plt.xlim(-2, 2)\n",
    "    "
   ]
  },
  {
   "cell_type": "markdown",
   "metadata": {},
   "source": [
    "### within WT"
   ]
  },
  {
   "cell_type": "code",
   "execution_count": null,
   "metadata": {},
   "outputs": [],
   "source": [
    "adata[adata.obs.WT].obs.guides.value_counts()"
   ]
  },
  {
   "cell_type": "code",
   "execution_count": null,
   "metadata": {},
   "outputs": [],
   "source": [
    "subset = adata[(adata.obs.guides=='p_INTERGENIC393453') | (adata.obs.guides=='p_INTERGENIC216151') ].copy().copy()\n",
    "\n",
    "memento.create_groups(subset, label_columns=['guides'])\n",
    "memento.compute_1d_moments(subset, min_perc_group=.9)\n",
    "\n",
    "memento.ht_1d_moments(\n",
    "    subset, \n",
    "    formula_like='1 + guides',\n",
    "    cov_column='guides', \n",
    "    num_boot=10000, \n",
    "    verbose=1,\n",
    "    num_cpus=14)\n",
    "\n",
    "wt_result = memento.get_1d_ht_result(subset)"
   ]
  },
  {
   "cell_type": "code",
   "execution_count": null,
   "metadata": {},
   "outputs": [],
   "source": [
    "sns.kdeplot(wt_result.dv_coef)\n",
    "plt.title('WT')\n",
    "plt.plot([0, 0], [0, 2])"
   ]
  },
  {
   "cell_type": "code",
   "execution_count": null,
   "metadata": {},
   "outputs": [],
   "source": []
  },
  {
   "cell_type": "markdown",
   "metadata": {},
   "source": [
    "### Get the change in magnitude for each guide"
   ]
  },
  {
   "cell_type": "code",
   "execution_count": null,
   "metadata": {},
   "outputs": [],
   "source": []
  },
  {
   "cell_type": "code",
   "execution_count": null,
   "metadata": {},
   "outputs": [],
   "source": [
    "coef_mag = []\n",
    "for g, df in result_1d_dict.items():\n",
    "    coef_mag.append((g, df['de_coef'].abs().median()))\n",
    "coef_mag = pd.DataFrame(coef_mag, columns=['guide', 'de_mag'])\n",
    "coef_mag['gene'] = coef_mag['guide'].str.split('_').str[1].str[2:]"
   ]
  },
  {
   "cell_type": "markdown",
   "metadata": {},
   "source": [
    "### Get WT variability of each TF"
   ]
  },
  {
   "cell_type": "code",
   "execution_count": null,
   "metadata": {},
   "outputs": [],
   "source": [
    "wt_adata = adata[adata.obs['WT']].copy().copy()"
   ]
  },
  {
   "cell_type": "code",
   "execution_count": null,
   "metadata": {},
   "outputs": [],
   "source": [
    "tfs = adata.obs.query('KO==1').KO_GENE.drop_duplicates().tolist()"
   ]
  },
  {
   "cell_type": "code",
   "execution_count": null,
   "metadata": {},
   "outputs": [],
   "source": [
    "memento.create_groups(wt_adata, label_columns=['KO'])\n",
    "memento.compute_1d_moments(wt_adata, min_perc_group=.9,)"
   ]
  },
  {
   "cell_type": "code",
   "execution_count": null,
   "metadata": {},
   "outputs": [],
   "source": [
    "tf_moments = memento.get_1d_moments(wt_adata, groupby='KO')"
   ]
  },
  {
   "cell_type": "markdown",
   "metadata": {},
   "source": [
    "### Compare WT variability to De mag"
   ]
  },
  {
   "cell_type": "code",
   "execution_count": null,
   "metadata": {},
   "outputs": [],
   "source": [
    "merged = coef_mag.merge(tf_moments[1], on='gene')"
   ]
  },
  {
   "cell_type": "code",
   "execution_count": null,
   "metadata": {},
   "outputs": [],
   "source": [
    "stats.spearmanr(merged['de_mag'], merged['KO_0'])"
   ]
  },
  {
   "cell_type": "code",
   "execution_count": null,
   "metadata": {},
   "outputs": [],
   "source": [
    "plt.scatter(merged['de_mag'], merged['KO_0'])"
   ]
  },
  {
   "cell_type": "markdown",
   "metadata": {},
   "source": [
    "### Number of TF binding sites within 5k(?) KB\n"
   ]
  },
  {
   "cell_type": "code",
   "execution_count": null,
   "metadata": {},
   "outputs": [],
   "source": [
    "enc = encode.Encode('/home/ssm-user/Github/misc-seq/miscseq/GRCh38Genes.bed')"
   ]
  },
  {
   "cell_type": "code",
   "execution_count": null,
   "metadata": {},
   "outputs": [],
   "source": [
    "encode_links = {\n",
    "    'ELK1':'https://www.encodeproject.org/files/ENCFF119SCQ/@@download/ENCFF119SCQ.bed.gz',\n",
    "    'ELF1':'https://www.encodeproject.org/files/ENCFF133TSU/@@download/ENCFF133TSU.bed.gz',\n",
    "    'IRF1':'https://www.encodeproject.org/files/ENCFF203LRV/@@download/ENCFF203LRV.bed.gz',\n",
    "    'ETS1':'https://www.encodeproject.org/files/ENCFF461PRP/@@download/ENCFF461PRP.bed.gz',\n",
    "    'EGR1':'https://www.encodeproject.org/files/ENCFF375RDB/@@download/ENCFF375RDB.bed.gz',\n",
    "    'YY1':'https://www.encodeproject.org/files/ENCFF635XCI/@@download/ENCFF635XCI.bed.gz',\n",
    "    'GABPA':'https://www.encodeproject.org/files/ENCFF173GUD/@@download/ENCFF173GUD.bed.gz',\n",
    "    'E2F4':'https://www.encodeproject.org/files/ENCFF225TLP/@@download/ENCFF225TLP.bed.gz',\n",
    "    'NR2C2':'https://www.encodeproject.org/files/ENCFF263VIC/@@download/ENCFF263VIC.bed.gz',\n",
    "    'CREB1':'https://www.encodeproject.org/files/ENCFF193LLN/@@download/ENCFF193LLN.bed.gz'\n",
    "}"
   ]
  },
  {
   "cell_type": "code",
   "execution_count": null,
   "metadata": {},
   "outputs": [],
   "source": [
    "bed_objs = {tf:enc.get_encode_peaks(link) for tf,link in encode_links.items()}"
   ]
  },
  {
   "cell_type": "code",
   "execution_count": null,
   "metadata": {},
   "outputs": [],
   "source": [
    "target_genes = {tf:enc.get_peak_genes_bed(bed_obj, 0).query('distance==0').gene.tolist() for tf, bed_obj in bed_objs.items()}"
   ]
  },
  {
   "cell_type": "code",
   "execution_count": null,
   "metadata": {},
   "outputs": [],
   "source": [
    "x = wt_adata[:, 'EGR1'].X.todense().A1"
   ]
  },
  {
   "cell_type": "code",
   "execution_count": null,
   "metadata": {},
   "outputs": [],
   "source": [
    "np.bincount(x.astype(int))"
   ]
  },
  {
   "cell_type": "code",
   "execution_count": null,
   "metadata": {},
   "outputs": [],
   "source": [
    "x.mean()"
   ]
  },
  {
   "cell_type": "code",
   "execution_count": null,
   "metadata": {},
   "outputs": [],
   "source": [
    "plt.hist(x, bins=20)"
   ]
  },
  {
   "cell_type": "code",
   "execution_count": null,
   "metadata": {},
   "outputs": [],
   "source": [
    "target_numbers = []\n",
    "for tf in encode_links.keys():\n",
    "    target_numbers.append((tf, len(target_genes[tf])))\n",
    "target_numbers = pd.DataFrame(target_numbers, columns=['gene', 'num_targets'])"
   ]
  },
  {
   "cell_type": "code",
   "execution_count": null,
   "metadata": {},
   "outputs": [],
   "source": [
    "merged = target_numbers.merge(tf_moments[1], on='gene')"
   ]
  },
  {
   "cell_type": "code",
   "execution_count": null,
   "metadata": {},
   "outputs": [],
   "source": [
    "stats.pearsonr(merged.query('gene != \"EGR1\"')['num_targets'], merged.query('gene != \"EGR1\"')['KO_0'])"
   ]
  },
  {
   "cell_type": "code",
   "execution_count": null,
   "metadata": {},
   "outputs": [],
   "source": [
    "plt.scatter(merged['num_targets'], merged['KO_0'])"
   ]
  },
  {
   "cell_type": "markdown",
   "metadata": {},
   "source": [
    "### Try with all ENCODE"
   ]
  },
  {
   "cell_type": "code",
   "execution_count": null,
   "metadata": {},
   "outputs": [],
   "source": [
    "merged"
   ]
  },
  {
   "cell_type": "code",
   "execution_count": null,
   "metadata": {},
   "outputs": [],
   "source": [
    "all_encode = pd.read_csv('gene_attribute_matrix.txt', sep='\\t', index_col=0, low_memory=False).iloc[2:, 2:].astype(float)"
   ]
  },
  {
   "cell_type": "code",
   "execution_count": null,
   "metadata": {},
   "outputs": [],
   "source": [
    "target_counts = pd.DataFrame(all_encode.sum(axis=0), columns=['num_targets']).reset_index().rename(columns={'index':'gene'})"
   ]
  },
  {
   "cell_type": "code",
   "execution_count": null,
   "metadata": {},
   "outputs": [],
   "source": [
    "x = target_counts.query('gene in @tfs').sort_values('gene')['num_targets']\n",
    "y = merged.sort_values('gene')['num_targets']"
   ]
  },
  {
   "cell_type": "code",
   "execution_count": null,
   "metadata": {},
   "outputs": [],
   "source": [
    "merged2 = target_counts.merge(tf_moments[1], on='gene')"
   ]
  },
  {
   "cell_type": "code",
   "execution_count": null,
   "metadata": {},
   "outputs": [],
   "source": [
    "plt.scatter(merged2['num_targets'], merged2['KO_0'])"
   ]
  },
  {
   "cell_type": "code",
   "execution_count": null,
   "metadata": {},
   "outputs": [],
   "source": [
    "merged2"
   ]
  },
  {
   "cell_type": "markdown",
   "metadata": {},
   "source": [
    "### Get gene list"
   ]
  },
  {
   "cell_type": "code",
   "execution_count": null,
   "metadata": {},
   "outputs": [],
   "source": [
    "wt_adata = adata[adata.obs['WT']].copy().copy()"
   ]
  },
  {
   "cell_type": "code",
   "execution_count": null,
   "metadata": {},
   "outputs": [],
   "source": [
    "memento.create_groups(wt_adata, label_columns=['KO'])\n",
    "memento.compute_1d_moments(wt_adata, min_perc_group=.9)"
   ]
  },
  {
   "cell_type": "code",
   "execution_count": null,
   "metadata": {},
   "outputs": [],
   "source": [
    "plt.hist(np.log(wt_adata.uns['memento']['1d_moments']['sg^0'][0]))"
   ]
  },
  {
   "cell_type": "code",
   "execution_count": null,
   "metadata": {},
   "outputs": [],
   "source": [
    "wt_high_genes = wt_adata.var.index[np.log(wt_adata.uns['memento']['1d_moments']['sg^0'][0]) > -1].tolist()"
   ]
  },
  {
   "cell_type": "code",
   "execution_count": null,
   "metadata": {},
   "outputs": [],
   "source": []
  },
  {
   "cell_type": "markdown",
   "metadata": {},
   "source": [
    "### Create labels for X genes"
   ]
  },
  {
   "cell_type": "code",
   "execution_count": null,
   "metadata": {},
   "outputs": [],
   "source": [
    "chr_locations = pd.read_csv('chr_locations.bed', sep='\\t').rename(columns={'#chrom':'chr'}).drop_duplicates('geneName')"
   ]
  },
  {
   "cell_type": "code",
   "execution_count": null,
   "metadata": {},
   "outputs": [],
   "source": [
    "chr_locations.index=chr_locations.geneName"
   ]
  },
  {
   "cell_type": "code",
   "execution_count": null,
   "metadata": {},
   "outputs": [],
   "source": [
    "adata.var = adata.var.join(chr_locations, how='left')"
   ]
  },
  {
   "cell_type": "markdown",
   "metadata": {},
   "source": [
    "### Filter X-chromosomal genes"
   ]
  },
  {
   "cell_type": "code",
   "execution_count": null,
   "metadata": {},
   "outputs": [],
   "source": [
    "adata_X = adata[:, (adata.var.chr=='chrX') | adata.var.chr.isin(['chr1', 'chr2', 'chr3'])].copy()"
   ]
  },
  {
   "cell_type": "code",
   "execution_count": null,
   "metadata": {},
   "outputs": [],
   "source": [
    "adata_X"
   ]
  },
  {
   "cell_type": "markdown",
   "metadata": {},
   "source": [
    "### Escape genes"
   ]
  },
  {
   "cell_type": "code",
   "execution_count": null,
   "metadata": {},
   "outputs": [],
   "source": [
    "par_genes = \"\"\"PLCXD1 GTPBP6 PPP2R3B SHOX CRLF2 CSF2RA IL3RA SLC25A6 ASMTL P2RY8 ASMT DHRSXY ZBED1 CD99 XG IL9R SPRY3 VAMP7\"\"\".split()"
   ]
  },
  {
   "cell_type": "code",
   "execution_count": null,
   "metadata": {},
   "outputs": [],
   "source": [
    "escape_genes = \"\"\"EIF1AX\n",
    "USP9X\n",
    "EIF2S3\n",
    "CTPS2\n",
    "TRAPPC2\n",
    "HDHD1\n",
    "ZFX\n",
    "DDX3X\n",
    "RAB9A\n",
    "AP1S2\n",
    "GEMIN8\n",
    "RPS4X\n",
    "SMC1A\n",
    "ZRSR2\n",
    "STS\n",
    "FUNDC1\n",
    "PNPLA4\n",
    "UBA1\n",
    "ARSD\n",
    "NLGN4X\n",
    "GPM6B\n",
    "MED14\n",
    "CD99\n",
    "RBBP7\n",
    "SYAP1\n",
    "PRKX\n",
    "OFD1\n",
    "CXorf38\n",
    "TXLNG\n",
    "KDM5C\n",
    "GYG2\n",
    "TBL1X\n",
    "CA5B\n",
    "XIST\n",
    "RENBP\n",
    "HCFC1\n",
    "USP11\n",
    "PLCXD1\n",
    "SLC25A6\n",
    "ASMTL\n",
    "DHRSX\n",
    "XG\n",
    "TMEM27\n",
    "ARHGAP4\n",
    "GAB3\n",
    "PIR\n",
    "TMEM187\n",
    "DOCK11\n",
    "EFHC2\n",
    "RIBC1\n",
    "NAP1L3\n",
    "CA5BP1\n",
    "MXRA5\n",
    "KAL1\n",
    "PCDH11X\n",
    "KDM6A\n",
    "PLS3\n",
    "CITED1\n",
    "L1CAM\n",
    "ALG13\n",
    "BCOR\"\"\".split()"
   ]
  },
  {
   "cell_type": "markdown",
   "metadata": {},
   "source": [
    "### Run 1d memento"
   ]
  },
  {
   "cell_type": "code",
   "execution_count": null,
   "metadata": {},
   "outputs": [],
   "source": [
    "adata_X.obs['is_female'] = (adata_X.obs['Sex'] == 'Female').astype(int)"
   ]
  },
  {
   "cell_type": "code",
   "execution_count": null,
   "metadata": {},
   "outputs": [],
   "source": [
    "adata_X.obs.is_female.value_counts()"
   ]
  },
  {
   "cell_type": "code",
   "execution_count": null,
   "metadata": {},
   "outputs": [],
   "source": [
    "memento.create_groups(adata_X, label_columns=['is_female', 'ind_cov'])\n",
    "memento.compute_1d_moments(adata_X, min_perc_group=.9)"
   ]
  },
  {
   "cell_type": "code",
   "execution_count": null,
   "metadata": {},
   "outputs": [],
   "source": [
    "memento.ht_1d_moments(\n",
    "    adata_X, \n",
    "    formula_like='1 + is_female',\n",
    "    cov_column='is_female', \n",
    "    num_boot=20000, \n",
    "    verbose=1,\n",
    "    num_cpus=13)"
   ]
  },
  {
   "cell_type": "code",
   "execution_count": null,
   "metadata": {},
   "outputs": [],
   "source": [
    "result_1d = memento.get_1d_ht_result(adata_X)"
   ]
  },
  {
   "cell_type": "code",
   "execution_count": null,
   "metadata": {},
   "outputs": [],
   "source": [
    "result_1d['dv_fdr'] = memento.util._fdrcorrect(result_1d['dv_pval'])"
   ]
  },
  {
   "cell_type": "code",
   "execution_count": null,
   "metadata": {},
   "outputs": [],
   "source": [
    "sns.distplot(result_1d.dv_coef)"
   ]
  },
  {
   "cell_type": "code",
   "execution_count": null,
   "metadata": {},
   "outputs": [],
   "source": [
    "x_chr_genes = adata.var.index[adata.var.chr=='chrX'].tolist()"
   ]
  },
  {
   "cell_type": "code",
   "execution_count": null,
   "metadata": {},
   "outputs": [],
   "source": [
    "result_1d['escape'] = result_1d['gene'].isin(escape_genes)\n",
    "result_1d['par'] = result_1d['gene'].isin(par_genes)\n",
    "result_1d['x_chr'] = result_1d['gene'].isin(x_chr_genes)"
   ]
  },
  {
   "cell_type": "code",
   "execution_count": null,
   "metadata": {},
   "outputs": [],
   "source": [
    "sns.distplot(result_1d.query('~x_chr').dv_coef)\n",
    "sns.distplot(result_1d.query('x_chr').dv_coef)\n"
   ]
  },
  {
   "cell_type": "code",
   "execution_count": null,
   "metadata": {},
   "outputs": [],
   "source": [
    "sns.boxplot(x='x_chr', y='dv_coef', data=result_1d)"
   ]
  },
  {
   "cell_type": "code",
   "execution_count": null,
   "metadata": {},
   "outputs": [],
   "source": [
    "dv_genes = result_1d.query('dv_fdr < 0.1').gene.tolist()"
   ]
  },
  {
   "cell_type": "code",
   "execution_count": null,
   "metadata": {},
   "outputs": [],
   "source": [
    "result_1d['dv'] = result_1d.gene.isin(dv_genes)"
   ]
  },
  {
   "cell_type": "code",
   "execution_count": null,
   "metadata": {},
   "outputs": [],
   "source": [
    "result_1d.query('~dv & ~x_chr & dv_coef > 0').shape"
   ]
  },
  {
   "cell_type": "code",
   "execution_count": null,
   "metadata": {},
   "outputs": [],
   "source": [
    "a = [[193, 14],\n",
    " [23,5]]"
   ]
  },
  {
   "cell_type": "code",
   "execution_count": null,
   "metadata": {},
   "outputs": [],
   "source": [
    "stats.chi2_contingency(a)"
   ]
  },
  {
   "cell_type": "code",
   "execution_count": null,
   "metadata": {},
   "outputs": [],
   "source": [
    "result_1d.query('dv_fdr < 0.1').x_chr.mean()"
   ]
  },
  {
   "cell_type": "code",
   "execution_count": null,
   "metadata": {},
   "outputs": [],
   "source": [
    "result_1d.x_chr.mean()"
   ]
  },
  {
   "cell_type": "markdown",
   "metadata": {},
   "source": [
    "### Run memento for each subset, comparing to control"
   ]
  },
  {
   "cell_type": "code",
   "execution_count": null,
   "metadata": {},
   "outputs": [],
   "source": [
    "cts = [['ciliated'], ['bc','basal']]\n",
    "# tps = ['3', '6', '9', '24', '48']\n",
    "tps = ['3', '6', '9', '24', '48']\n",
    "\n",
    "stims = ['alpha', 'beta', 'gamma', 'lambda']"
   ]
  },
  {
   "cell_type": "code",
   "execution_count": null,
   "metadata": {},
   "outputs": [],
   "source": [
    "import os\n",
    "done_files = os.listdir('/data_volume/ifn_hbec/binary_test_deep/')"
   ]
  },
  {
   "cell_type": "code",
   "execution_count": null,
   "metadata": {},
   "outputs": [],
   "source": [
    "for ct in cts:\n",
    "    for tp in tps:\n",
    "        for stim in stims:\n",
    "            \n",
    "            fname = '{}_{}_{}_20200320.h5ad'.format('-'.join(ct), stim, tp)\n",
    "            \n",
    "            if fname in done_files:\n",
    "                print('Skipping', fname)\n",
    "                continue\n",
    "\n",
    "            print('starting', ct, tp, stim)\n",
    "\n",
    "            adata_stim = adata.copy()[\n",
    "                adata.obs.cell_type.isin(ct) & \\\n",
    "                adata.obs.stim.isin(['control', stim]) & \\\n",
    "                adata.obs.time.isin(['0',tp]), :].copy()\n",
    "            time_converter={0:0, int(tp):1}\n",
    "            adata_stim.obs['time_step'] = adata_stim.obs['time'].astype(int).apply(lambda x: time_converter[x])\n",
    "\n",
    "            memento.create_groups(adata_stim, label_columns=['time_step', 'donor'])\n",
    "            memento.compute_1d_moments(adata_stim, min_perc_group=.9)\n",
    "\n",
    "            memento.ht_1d_moments(\n",
    "                adata_stim, \n",
    "                formula_like='1 + time_step',\n",
    "                cov_column='time_step', \n",
    "                num_boot=10000, \n",
    "                verbose=1,\n",
    "                num_cpus=13)\n",
    "\n",
    "            del adata_stim.uns['memento']['mv_regressor']\n",
    "\n",
    "            adata_stim.write('/data_volume/ifn_hbec/binary_test_deep/{}_{}_{}_20200320.h5ad'.format(\n",
    "                '-'.join(ct), stim, tp))"
   ]
  },
  {
   "cell_type": "code",
   "execution_count": null,
   "metadata": {},
   "outputs": [],
   "source": []
  }
 ],
 "metadata": {
  "kernelspec": {
   "display_name": "Python 3",
   "language": "python",
   "name": "python3"
  },
  "language_info": {
   "codemirror_mode": {
    "name": "ipython",
    "version": 3
   },
   "file_extension": ".py",
   "mimetype": "text/x-python",
   "name": "python",
   "nbconvert_exporter": "python",
   "pygments_lexer": "ipython3",
   "version": "3.8.8"
  }
 },
 "nbformat": 4,
 "nbformat_minor": 4
}
