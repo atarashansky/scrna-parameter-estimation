{
 "cells": [
  {
   "cell_type": "markdown",
   "metadata": {},
   "source": [
    "# Perturb-seq K562 co-expression"
   ]
  },
  {
   "cell_type": "code",
   "execution_count": 21,
   "metadata": {},
   "outputs": [],
   "source": [
    "import scanpy as sc\n",
    "import seaborn as sns\n",
    "import pandas as pd\n",
    "import matplotlib.pyplot as plt\n",
    "import numpy as np\n",
    "import scipy.stats as stats\n",
    "import itertools\n",
    "from pybedtools import BedTool\n",
    "import pickle as pkl\n",
    "import gseapy as gp\n",
    "from gseapy.plot import gseaplot\n",
    "\n",
    "%matplotlib inline"
   ]
  },
  {
   "cell_type": "code",
   "execution_count": 3,
   "metadata": {},
   "outputs": [],
   "source": [
    "pd.set_option('max_columns', None)"
   ]
  },
  {
   "cell_type": "code",
   "execution_count": 4,
   "metadata": {},
   "outputs": [],
   "source": [
    "import sys\n",
    "sys.path.append('/home/ssm-user/Github/scrna-parameter-estimation/dist/memento-0.0.6-py3.8.egg')\n",
    "sys.path.append('/home/ssm-user/Github/misc-seq/miscseq/')\n",
    "import encode\n",
    "import memento"
   ]
  },
  {
   "cell_type": "code",
   "execution_count": 5,
   "metadata": {},
   "outputs": [],
   "source": [
    "data_path = '/data_volume/memento/k562/'"
   ]
  },
  {
   "cell_type": "markdown",
   "metadata": {},
   "source": [
    "### Read the guide labled K562 data\n",
    "\n",
    "From perturbseq paper"
   ]
  },
  {
   "cell_type": "code",
   "execution_count": 6,
   "metadata": {},
   "outputs": [],
   "source": [
    "adata = sc.read(data_path + 'h5ad/filtered-tf-perturbseq.h5ad')"
   ]
  },
  {
   "cell_type": "code",
   "execution_count": 7,
   "metadata": {},
   "outputs": [],
   "source": [
    "guides = adata.obs.guides.drop_duplicates().tolist()\n",
    "guides = [g for g in guides if ('INTER' not in g and 'nan' not in g)]\n",
    "ko_genes = adata.obs.query('KO == 1')['KO_GENE'].drop_duplicates().tolist()"
   ]
  },
  {
   "cell_type": "markdown",
   "metadata": {},
   "source": [
    "### Setup memento"
   ]
  },
  {
   "cell_type": "code",
   "execution_count": 8,
   "metadata": {},
   "outputs": [],
   "source": [
    "adata.obs['q'] = 0.07"
   ]
  },
  {
   "cell_type": "code",
   "execution_count": 9,
   "metadata": {},
   "outputs": [
    {
     "name": "stderr",
     "output_type": "stream",
     "text": [
      "/home/ssm-user/Github/scrna-parameter-estimation/dist/memento-0.0.6-py3.8.egg/memento/main.py:68: RankWarning: Polyfit may be poorly conditioned\n"
     ]
    }
   ],
   "source": [
    "memento.setup_memento(adata, q_column='q', filter_mean_thresh=0.07)"
   ]
  },
  {
   "cell_type": "markdown",
   "metadata": {},
   "source": [
    "### Do a 1D test to find highly variable genes"
   ]
  },
  {
   "cell_type": "code",
   "execution_count": 12,
   "metadata": {},
   "outputs": [
    {
     "name": "stderr",
     "output_type": "stream",
     "text": [
      "[Parallel(n_jobs=70)]: Using backend LokyBackend with 70 concurrent workers.\n",
      "[Parallel(n_jobs=70)]: Done  60 tasks      | elapsed:    4.2s\n",
      "[Parallel(n_jobs=70)]: Done 310 tasks      | elapsed:    6.8s\n",
      "[Parallel(n_jobs=70)]: Done 660 tasks      | elapsed:   10.2s\n",
      "[Parallel(n_jobs=70)]: Done 1110 tasks      | elapsed:   14.3s\n",
      "[Parallel(n_jobs=70)]: Done 1660 tasks      | elapsed:   19.3s\n",
      "[Parallel(n_jobs=70)]: Done 2310 tasks      | elapsed:   25.1s\n",
      "[Parallel(n_jobs=70)]: Done 3060 tasks      | elapsed:   32.4s\n",
      "[Parallel(n_jobs=70)]: Done 3910 tasks      | elapsed:   40.6s\n",
      "[Parallel(n_jobs=70)]: Done 4860 tasks      | elapsed:   49.2s\n",
      "[Parallel(n_jobs=70)]: Done 5910 tasks      | elapsed:   59.3s\n",
      "[Parallel(n_jobs=70)]: Done 7060 tasks      | elapsed:  1.2min\n",
      "[Parallel(n_jobs=70)]: Done 8310 tasks      | elapsed:  1.3min\n",
      "[Parallel(n_jobs=70)]: Done 9135 out of 9135 | elapsed:  1.5min finished\n"
     ]
    }
   ],
   "source": [
    "wt_subset = adata[adata.obs.WT].copy().copy()\n",
    "memento.create_groups(wt_subset, label_columns=['leiden'])\n",
    "memento.compute_1d_moments(wt_subset, min_perc_group=.9)\n",
    "memento.ht_1d_moments(\n",
    "    wt_subset, \n",
    "    formula_like='1',\n",
    "    cov_column='Inter', \n",
    "    num_boot=10000, \n",
    "    verbose=1,\n",
    "    num_cpus=70)"
   ]
  },
  {
   "cell_type": "code",
   "execution_count": 17,
   "metadata": {},
   "outputs": [],
   "source": [
    "df = memento.get_1d_ht_result(wt_subset).query('~gene.str.startswith(\"MT-\")', engine='python')"
   ]
  },
  {
   "cell_type": "code",
   "execution_count": 18,
   "metadata": {},
   "outputs": [],
   "source": [
    "df['dv_fdr'] = memento.util._fdrcorrect(df['dv_pval'])"
   ]
  },
  {
   "cell_type": "code",
   "execution_count": 131,
   "metadata": {},
   "outputs": [],
   "source": [
    "import gseapy as gp\n",
    "from gseapy.plot import gseaplot\n"
   ]
  },
  {
   "cell_type": "code",
   "execution_count": 26,
   "metadata": {},
   "outputs": [],
   "source": [
    "pre_res = gp.prerank(\n",
    "    rnk=df[['gene','dv_coef']].sort_values('dv_coef'), \n",
    "    gene_sets='GO_Biological_Process_2018',\n",
    "    processes=4,\n",
    "    permutation_num=100, # reduce number to speed up testing\n",
    "    outdir=None, seed=6)"
   ]
  },
  {
   "cell_type": "code",
   "execution_count": 27,
   "metadata": {},
   "outputs": [],
   "source": [
    "terms = pre_res.res2d.index\n"
   ]
  },
  {
   "cell_type": "code",
   "execution_count": 28,
   "metadata": {},
   "outputs": [],
   "source": [
    "gsea_table = pre_res.res2d.sort_index().sort_values('fdr')\n"
   ]
  },
  {
   "cell_type": "code",
   "execution_count": 73,
   "metadata": {},
   "outputs": [
    {
     "data": {
      "text/html": [
       "<div>\n",
       "<style scoped>\n",
       "    .dataframe tbody tr th:only-of-type {\n",
       "        vertical-align: middle;\n",
       "    }\n",
       "\n",
       "    .dataframe tbody tr th {\n",
       "        vertical-align: top;\n",
       "    }\n",
       "\n",
       "    .dataframe thead th {\n",
       "        text-align: right;\n",
       "    }\n",
       "</style>\n",
       "<table border=\"1\" class=\"dataframe\">\n",
       "  <thead>\n",
       "    <tr style=\"text-align: right;\">\n",
       "      <th></th>\n",
       "      <th>es</th>\n",
       "      <th>nes</th>\n",
       "      <th>pval</th>\n",
       "      <th>fdr</th>\n",
       "      <th>geneset_size</th>\n",
       "      <th>matched_size</th>\n",
       "      <th>genes</th>\n",
       "      <th>ledge_genes</th>\n",
       "    </tr>\n",
       "    <tr>\n",
       "      <th>Term</th>\n",
       "      <th></th>\n",
       "      <th></th>\n",
       "      <th></th>\n",
       "      <th></th>\n",
       "      <th></th>\n",
       "      <th></th>\n",
       "      <th></th>\n",
       "      <th></th>\n",
       "    </tr>\n",
       "  </thead>\n",
       "  <tbody>\n",
       "    <tr>\n",
       "      <th>Amyloid fiber formation Homo sapiens R-HSA-977225</th>\n",
       "      <td>0.799271</td>\n",
       "      <td>2.082007</td>\n",
       "      <td>0.000000</td>\n",
       "      <td>0.000000</td>\n",
       "      <td>68</td>\n",
       "      <td>29</td>\n",
       "      <td>LYZ;HIST2H2AC;HIST1H2AC;HIST1H2BJ;HIST1H2BK;HI...</td>\n",
       "      <td>LYZ;HIST2H2AC;HIST1H2AC;HIST1H2BJ;HIST1H2BK;HI...</td>\n",
       "    </tr>\n",
       "    <tr>\n",
       "      <th>Response to elevated platelet cytosolic Ca2+ Homo sapiens R-HSA-76005</th>\n",
       "      <td>0.702744</td>\n",
       "      <td>2.088577</td>\n",
       "      <td>0.000000</td>\n",
       "      <td>0.000000</td>\n",
       "      <td>110</td>\n",
       "      <td>49</td>\n",
       "      <td>TIMP1;FN1;HSPA5;IGF1;SCG3;SRGN;CLU;SEPP1;TMSB4...</td>\n",
       "      <td>TIMP1;FN1;HSPA5;IGF1;SCG3;SRGN;CLU;SEPP1;TMSB4...</td>\n",
       "    </tr>\n",
       "    <tr>\n",
       "      <th>DNA Damage/Telomere Stress Induced Senescence Homo sapiens R-HSA-2559586</th>\n",
       "      <td>0.781334</td>\n",
       "      <td>2.279978</td>\n",
       "      <td>0.000000</td>\n",
       "      <td>0.000000</td>\n",
       "      <td>59</td>\n",
       "      <td>40</td>\n",
       "      <td>HIST2H2AC;HIST1H1E;HIST1H1D;HIST1H1C;HIST1H2AC...</td>\n",
       "      <td>HIST2H2AC;HIST1H1E;HIST1H1D;HIST1H1C;HIST1H2AC...</td>\n",
       "    </tr>\n",
       "    <tr>\n",
       "      <th>HSF1-dependent transactivation Homo sapiens R-HSA-3371571</th>\n",
       "      <td>0.760495</td>\n",
       "      <td>1.996394</td>\n",
       "      <td>0.000000</td>\n",
       "      <td>0.002397</td>\n",
       "      <td>34</td>\n",
       "      <td>22</td>\n",
       "      <td>HSPA1A;HSPA8;HSP90AA1;MRPL18;DNAJB1;HSPH1;RPTO...</td>\n",
       "      <td>HSPA1A;HSPA8;HSP90AA1;MRPL18;DNAJB1;HSPH1;RPTO...</td>\n",
       "    </tr>\n",
       "    <tr>\n",
       "      <th>Class A/1 (Rhodopsin-like receptors) Homo sapiens R-HSA-373076</th>\n",
       "      <td>0.765897</td>\n",
       "      <td>1.996482</td>\n",
       "      <td>0.000000</td>\n",
       "      <td>0.002663</td>\n",
       "      <td>323</td>\n",
       "      <td>24</td>\n",
       "      <td>TAC3;ANXA1;NMU;NPW;GAL;CXCL3;KISS1R;TBXA2R;ADO...</td>\n",
       "      <td>TAC3;ANXA1;NMU;NPW;GAL;CXCL3;KISS1R;TBXA2R;ADO...</td>\n",
       "    </tr>\n",
       "    <tr>\n",
       "      <th>Immunoregulatory interactions between a Lymphoid and a non-Lymphoid cell Homo sapiens R-HSA-198933</th>\n",
       "      <td>0.783890</td>\n",
       "      <td>1.998468</td>\n",
       "      <td>0.016129</td>\n",
       "      <td>0.002996</td>\n",
       "      <td>157</td>\n",
       "      <td>19</td>\n",
       "      <td>TYROBP;CD3D;IFITM1;CLEC2B;B2M;CD33;HLA-E;ICAM2...</td>\n",
       "      <td>TYROBP;CD3D;IFITM1;CLEC2B;B2M;CD33;HLA-E;ICAM2</td>\n",
       "    </tr>\n",
       "    <tr>\n",
       "      <th>Condensation of Prophase Chromosomes Homo sapiens R-HSA-2299718</th>\n",
       "      <td>0.780495</td>\n",
       "      <td>2.059061</td>\n",
       "      <td>0.000000</td>\n",
       "      <td>0.003196</td>\n",
       "      <td>41</td>\n",
       "      <td>25</td>\n",
       "      <td>HIST2H2AC;HIST1H2AC;CCNB1;CDK1;PLK1;HIST1H2BJ;...</td>\n",
       "      <td>HIST2H2AC;HIST1H2AC;CCNB1;CDK1;PLK1;HIST1H2BJ;...</td>\n",
       "    </tr>\n",
       "    <tr>\n",
       "      <th>Attenuation phase Homo sapiens R-HSA-3371568</th>\n",
       "      <td>0.797001</td>\n",
       "      <td>2.004354</td>\n",
       "      <td>0.000000</td>\n",
       "      <td>0.003424</td>\n",
       "      <td>26</td>\n",
       "      <td>17</td>\n",
       "      <td>HSPA1A;HSPA8;HSP90AA1;MRPL18;DNAJB1;HSPH1;SERP...</td>\n",
       "      <td>HSPA1A;HSPA8;HSP90AA1;MRPL18;DNAJB1;HSPH1</td>\n",
       "    </tr>\n",
       "    <tr>\n",
       "      <th>RMTs methylate histone arginines Homo sapiens R-HSA-3214858</th>\n",
       "      <td>0.712369</td>\n",
       "      <td>2.011999</td>\n",
       "      <td>0.000000</td>\n",
       "      <td>0.003995</td>\n",
       "      <td>45</td>\n",
       "      <td>32</td>\n",
       "      <td>HIST1H2AA;HIST2H2AC;HIST1H2AC;CCND1;HIST1H2AH;...</td>\n",
       "      <td>HIST1H2AA;HIST2H2AC;HIST1H2AC;CCND1;HIST1H2AH</td>\n",
       "    </tr>\n",
       "    <tr>\n",
       "      <th>Platelet degranulation Homo sapiens R-HSA-114608</th>\n",
       "      <td>0.712738</td>\n",
       "      <td>1.977741</td>\n",
       "      <td>0.000000</td>\n",
       "      <td>0.004661</td>\n",
       "      <td>105</td>\n",
       "      <td>45</td>\n",
       "      <td>TIMP1;FN1;HSPA5;IGF1;SCG3;SRGN;CLU;SEPP1;TMSB4...</td>\n",
       "      <td>TIMP1;FN1;HSPA5;IGF1;SCG3;SRGN;CLU;SEPP1;TMSB4...</td>\n",
       "    </tr>\n",
       "    <tr>\n",
       "      <th>Resolution of Sister Chromatid Cohesion Homo sapiens R-HSA-2500257</th>\n",
       "      <td>0.585521</td>\n",
       "      <td>1.982245</td>\n",
       "      <td>0.000000</td>\n",
       "      <td>0.005084</td>\n",
       "      <td>99</td>\n",
       "      <td>96</td>\n",
       "      <td>CCNB1;CDK1;CENPA;CDC20;CENPF;PLK1;CDCA8;CENPE;...</td>\n",
       "      <td>CCNB1;CDK1;CENPA;CDC20;CENPF;PLK1;CDCA8;CENPE;...</td>\n",
       "    </tr>\n",
       "    <tr>\n",
       "      <th>Cell surface interactions at the vascular wall Homo sapiens R-HSA-202733</th>\n",
       "      <td>0.673170</td>\n",
       "      <td>1.960393</td>\n",
       "      <td>0.000000</td>\n",
       "      <td>0.005531</td>\n",
       "      <td>101</td>\n",
       "      <td>42</td>\n",
       "      <td>FN1;SLC3A2;SLC7A8;GP6;PROCR;ANGPT1;YES1;CD47;S...</td>\n",
       "      <td>FN1;SLC3A2;SLC7A8;GP6;PROCR;ANGPT1;YES1;CD47;S...</td>\n",
       "    </tr>\n",
       "    <tr>\n",
       "      <th>GPCR ligand binding Homo sapiens R-HSA-500792</th>\n",
       "      <td>0.692121</td>\n",
       "      <td>1.948824</td>\n",
       "      <td>0.000000</td>\n",
       "      <td>0.005707</td>\n",
       "      <td>447</td>\n",
       "      <td>34</td>\n",
       "      <td>TAC3;ANXA1;NMU;NPW;GAL;CXCL3;CD97;KISS1R;TBXA2...</td>\n",
       "      <td>TAC3;ANXA1;NMU;NPW;GAL;CXCL3;CD97;KISS1R;TBXA2...</td>\n",
       "    </tr>\n",
       "    <tr>\n",
       "      <th>Senescence-Associated Secretory Phenotype (SASP) Homo sapiens R-HSA-2559582</th>\n",
       "      <td>0.645278</td>\n",
       "      <td>1.938420</td>\n",
       "      <td>0.000000</td>\n",
       "      <td>0.005859</td>\n",
       "      <td>77</td>\n",
       "      <td>50</td>\n",
       "      <td>HIST2H2AC;HIST1H2AC;JUN;HIST1H2BJ;CDKN1A;HIST1...</td>\n",
       "      <td>HIST2H2AC;HIST1H2AC;JUN;HIST1H2BJ;CDKN1A;HIST1...</td>\n",
       "    </tr>\n",
       "    <tr>\n",
       "      <th>Packaging Of Telomere Ends Homo sapiens R-HSA-171306</th>\n",
       "      <td>0.802733</td>\n",
       "      <td>1.926706</td>\n",
       "      <td>0.000000</td>\n",
       "      <td>0.007050</td>\n",
       "      <td>31</td>\n",
       "      <td>17</td>\n",
       "      <td>HIST2H2AC;HIST1H2AC;HIST1H2BJ;HIST1H2BK;HIST2H...</td>\n",
       "      <td>HIST2H2AC;HIST1H2AC;HIST1H2BJ;HIST1H2BK;HIST2H...</td>\n",
       "    </tr>\n",
       "    <tr>\n",
       "      <th>Peptide ligand-binding receptors Homo sapiens R-HSA-375276</th>\n",
       "      <td>0.831325</td>\n",
       "      <td>1.926754</td>\n",
       "      <td>0.000000</td>\n",
       "      <td>0.007490</td>\n",
       "      <td>193</td>\n",
       "      <td>15</td>\n",
       "      <td>TAC3;ANXA1;NMU;NPW;GAL;CXCL3;KISS1R;CXCL2;F2RL...</td>\n",
       "      <td>TAC3;ANXA1;NMU;NPW;GAL;CXCL3;KISS1R;CXCL2;F2RL...</td>\n",
       "    </tr>\n",
       "    <tr>\n",
       "      <th>Mitotic Prometaphase Homo sapiens R-HSA-68877</th>\n",
       "      <td>0.581984</td>\n",
       "      <td>1.914553</td>\n",
       "      <td>0.000000</td>\n",
       "      <td>0.007989</td>\n",
       "      <td>107</td>\n",
       "      <td>104</td>\n",
       "      <td>CCNB1;CDK1;CENPA;CDC20;CENPF;PLK1;CDCA8;CENPE;...</td>\n",
       "      <td>CCNB1;CDK1;CENPA;CDC20;CENPF;PLK1;CDCA8;CENPE;...</td>\n",
       "    </tr>\n",
       "    <tr>\n",
       "      <th>Interferon alpha/beta signaling Homo sapiens R-HSA-909733</th>\n",
       "      <td>0.719470</td>\n",
       "      <td>1.912114</td>\n",
       "      <td>0.000000</td>\n",
       "      <td>0.008410</td>\n",
       "      <td>68</td>\n",
       "      <td>24</td>\n",
       "      <td>EGR1;IFITM2;SOCS1;IFITM1;IFITM3;ISG15;IRF2;IFI...</td>\n",
       "      <td>EGR1;IFITM2;SOCS1;IFITM1;IFITM3;ISG15;IRF2;IFI...</td>\n",
       "    </tr>\n",
       "    <tr>\n",
       "      <th>Deposition of new CENPA-containing nucleosomes at the centromere Homo sapiens R-HSA-606279</th>\n",
       "      <td>0.668792</td>\n",
       "      <td>1.900010</td>\n",
       "      <td>0.000000</td>\n",
       "      <td>0.008750</td>\n",
       "      <td>52</td>\n",
       "      <td>38</td>\n",
       "      <td>HIST2H2AC;HIST1H2AC;CENPA;HIST1H2BJ;HIST1H2BK;...</td>\n",
       "      <td>HIST2H2AC;HIST1H2AC;CENPA;HIST1H2BJ;HIST1H2BK;...</td>\n",
       "    </tr>\n",
       "    <tr>\n",
       "      <th>SIRT1 negatively regulates rRNA Expression Homo sapiens R-HSA-427359</th>\n",
       "      <td>0.742881</td>\n",
       "      <td>1.895857</td>\n",
       "      <td>0.000000</td>\n",
       "      <td>0.009079</td>\n",
       "      <td>35</td>\n",
       "      <td>20</td>\n",
       "      <td>HIST2H2AC;HIST1H2AC;HIST1H2BJ;HIST1H2BK;HIST2H...</td>\n",
       "      <td>HIST2H2AC;HIST1H2AC;HIST1H2BJ;HIST1H2BK;HIST2H...</td>\n",
       "    </tr>\n",
       "  </tbody>\n",
       "</table>\n",
       "</div>"
      ],
      "text/plain": [
       "                                                          es       nes  \\\n",
       "Term                                                                     \n",
       "Amyloid fiber formation Homo sapiens R-HSA-977225   0.799271  2.082007   \n",
       "Response to elevated platelet cytosolic Ca2+ Ho...  0.702744  2.088577   \n",
       "DNA Damage/Telomere Stress Induced Senescence H...  0.781334  2.279978   \n",
       "HSF1-dependent transactivation Homo sapiens R-H...  0.760495  1.996394   \n",
       "Class A/1 (Rhodopsin-like receptors) Homo sapie...  0.765897  1.996482   \n",
       "Immunoregulatory interactions between a Lymphoi...  0.783890  1.998468   \n",
       "Condensation of Prophase Chromosomes Homo sapie...  0.780495  2.059061   \n",
       "Attenuation phase Homo sapiens R-HSA-3371568        0.797001  2.004354   \n",
       "RMTs methylate histone arginines Homo sapiens R...  0.712369  2.011999   \n",
       "Platelet degranulation Homo sapiens R-HSA-114608    0.712738  1.977741   \n",
       "Resolution of Sister Chromatid Cohesion Homo sa...  0.585521  1.982245   \n",
       "Cell surface interactions at the vascular wall ...  0.673170  1.960393   \n",
       "GPCR ligand binding Homo sapiens R-HSA-500792       0.692121  1.948824   \n",
       "Senescence-Associated Secretory Phenotype (SASP...  0.645278  1.938420   \n",
       "Packaging Of Telomere Ends Homo sapiens R-HSA-1...  0.802733  1.926706   \n",
       "Peptide ligand-binding receptors Homo sapiens R...  0.831325  1.926754   \n",
       "Mitotic Prometaphase Homo sapiens R-HSA-68877       0.581984  1.914553   \n",
       "Interferon alpha/beta signaling Homo sapiens R-...  0.719470  1.912114   \n",
       "Deposition of new CENPA-containing nucleosomes ...  0.668792  1.900010   \n",
       "SIRT1 negatively regulates rRNA Expression Homo...  0.742881  1.895857   \n",
       "\n",
       "                                                        pval       fdr  \\\n",
       "Term                                                                     \n",
       "Amyloid fiber formation Homo sapiens R-HSA-977225   0.000000  0.000000   \n",
       "Response to elevated platelet cytosolic Ca2+ Ho...  0.000000  0.000000   \n",
       "DNA Damage/Telomere Stress Induced Senescence H...  0.000000  0.000000   \n",
       "HSF1-dependent transactivation Homo sapiens R-H...  0.000000  0.002397   \n",
       "Class A/1 (Rhodopsin-like receptors) Homo sapie...  0.000000  0.002663   \n",
       "Immunoregulatory interactions between a Lymphoi...  0.016129  0.002996   \n",
       "Condensation of Prophase Chromosomes Homo sapie...  0.000000  0.003196   \n",
       "Attenuation phase Homo sapiens R-HSA-3371568        0.000000  0.003424   \n",
       "RMTs methylate histone arginines Homo sapiens R...  0.000000  0.003995   \n",
       "Platelet degranulation Homo sapiens R-HSA-114608    0.000000  0.004661   \n",
       "Resolution of Sister Chromatid Cohesion Homo sa...  0.000000  0.005084   \n",
       "Cell surface interactions at the vascular wall ...  0.000000  0.005531   \n",
       "GPCR ligand binding Homo sapiens R-HSA-500792       0.000000  0.005707   \n",
       "Senescence-Associated Secretory Phenotype (SASP...  0.000000  0.005859   \n",
       "Packaging Of Telomere Ends Homo sapiens R-HSA-1...  0.000000  0.007050   \n",
       "Peptide ligand-binding receptors Homo sapiens R...  0.000000  0.007490   \n",
       "Mitotic Prometaphase Homo sapiens R-HSA-68877       0.000000  0.007989   \n",
       "Interferon alpha/beta signaling Homo sapiens R-...  0.000000  0.008410   \n",
       "Deposition of new CENPA-containing nucleosomes ...  0.000000  0.008750   \n",
       "SIRT1 negatively regulates rRNA Expression Homo...  0.000000  0.009079   \n",
       "\n",
       "                                                    geneset_size  \\\n",
       "Term                                                               \n",
       "Amyloid fiber formation Homo sapiens R-HSA-977225             68   \n",
       "Response to elevated platelet cytosolic Ca2+ Ho...           110   \n",
       "DNA Damage/Telomere Stress Induced Senescence H...            59   \n",
       "HSF1-dependent transactivation Homo sapiens R-H...            34   \n",
       "Class A/1 (Rhodopsin-like receptors) Homo sapie...           323   \n",
       "Immunoregulatory interactions between a Lymphoi...           157   \n",
       "Condensation of Prophase Chromosomes Homo sapie...            41   \n",
       "Attenuation phase Homo sapiens R-HSA-3371568                  26   \n",
       "RMTs methylate histone arginines Homo sapiens R...            45   \n",
       "Platelet degranulation Homo sapiens R-HSA-114608             105   \n",
       "Resolution of Sister Chromatid Cohesion Homo sa...            99   \n",
       "Cell surface interactions at the vascular wall ...           101   \n",
       "GPCR ligand binding Homo sapiens R-HSA-500792                447   \n",
       "Senescence-Associated Secretory Phenotype (SASP...            77   \n",
       "Packaging Of Telomere Ends Homo sapiens R-HSA-1...            31   \n",
       "Peptide ligand-binding receptors Homo sapiens R...           193   \n",
       "Mitotic Prometaphase Homo sapiens R-HSA-68877                107   \n",
       "Interferon alpha/beta signaling Homo sapiens R-...            68   \n",
       "Deposition of new CENPA-containing nucleosomes ...            52   \n",
       "SIRT1 negatively regulates rRNA Expression Homo...            35   \n",
       "\n",
       "                                                    matched_size  \\\n",
       "Term                                                               \n",
       "Amyloid fiber formation Homo sapiens R-HSA-977225             29   \n",
       "Response to elevated platelet cytosolic Ca2+ Ho...            49   \n",
       "DNA Damage/Telomere Stress Induced Senescence H...            40   \n",
       "HSF1-dependent transactivation Homo sapiens R-H...            22   \n",
       "Class A/1 (Rhodopsin-like receptors) Homo sapie...            24   \n",
       "Immunoregulatory interactions between a Lymphoi...            19   \n",
       "Condensation of Prophase Chromosomes Homo sapie...            25   \n",
       "Attenuation phase Homo sapiens R-HSA-3371568                  17   \n",
       "RMTs methylate histone arginines Homo sapiens R...            32   \n",
       "Platelet degranulation Homo sapiens R-HSA-114608              45   \n",
       "Resolution of Sister Chromatid Cohesion Homo sa...            96   \n",
       "Cell surface interactions at the vascular wall ...            42   \n",
       "GPCR ligand binding Homo sapiens R-HSA-500792                 34   \n",
       "Senescence-Associated Secretory Phenotype (SASP...            50   \n",
       "Packaging Of Telomere Ends Homo sapiens R-HSA-1...            17   \n",
       "Peptide ligand-binding receptors Homo sapiens R...            15   \n",
       "Mitotic Prometaphase Homo sapiens R-HSA-68877                104   \n",
       "Interferon alpha/beta signaling Homo sapiens R-...            24   \n",
       "Deposition of new CENPA-containing nucleosomes ...            38   \n",
       "SIRT1 negatively regulates rRNA Expression Homo...            20   \n",
       "\n",
       "                                                                                                genes  \\\n",
       "Term                                                                                                    \n",
       "Amyloid fiber formation Homo sapiens R-HSA-977225   LYZ;HIST2H2AC;HIST1H2AC;HIST1H2BJ;HIST1H2BK;HI...   \n",
       "Response to elevated platelet cytosolic Ca2+ Ho...  TIMP1;FN1;HSPA5;IGF1;SCG3;SRGN;CLU;SEPP1;TMSB4...   \n",
       "DNA Damage/Telomere Stress Induced Senescence H...  HIST2H2AC;HIST1H1E;HIST1H1D;HIST1H1C;HIST1H2AC...   \n",
       "HSF1-dependent transactivation Homo sapiens R-H...  HSPA1A;HSPA8;HSP90AA1;MRPL18;DNAJB1;HSPH1;RPTO...   \n",
       "Class A/1 (Rhodopsin-like receptors) Homo sapie...  TAC3;ANXA1;NMU;NPW;GAL;CXCL3;KISS1R;TBXA2R;ADO...   \n",
       "Immunoregulatory interactions between a Lymphoi...  TYROBP;CD3D;IFITM1;CLEC2B;B2M;CD33;HLA-E;ICAM2...   \n",
       "Condensation of Prophase Chromosomes Homo sapie...  HIST2H2AC;HIST1H2AC;CCNB1;CDK1;PLK1;HIST1H2BJ;...   \n",
       "Attenuation phase Homo sapiens R-HSA-3371568        HSPA1A;HSPA8;HSP90AA1;MRPL18;DNAJB1;HSPH1;SERP...   \n",
       "RMTs methylate histone arginines Homo sapiens R...  HIST1H2AA;HIST2H2AC;HIST1H2AC;CCND1;HIST1H2AH;...   \n",
       "Platelet degranulation Homo sapiens R-HSA-114608    TIMP1;FN1;HSPA5;IGF1;SCG3;SRGN;CLU;SEPP1;TMSB4...   \n",
       "Resolution of Sister Chromatid Cohesion Homo sa...  CCNB1;CDK1;CENPA;CDC20;CENPF;PLK1;CDCA8;CENPE;...   \n",
       "Cell surface interactions at the vascular wall ...  FN1;SLC3A2;SLC7A8;GP6;PROCR;ANGPT1;YES1;CD47;S...   \n",
       "GPCR ligand binding Homo sapiens R-HSA-500792       TAC3;ANXA1;NMU;NPW;GAL;CXCL3;CD97;KISS1R;TBXA2...   \n",
       "Senescence-Associated Secretory Phenotype (SASP...  HIST2H2AC;HIST1H2AC;JUN;HIST1H2BJ;CDKN1A;HIST1...   \n",
       "Packaging Of Telomere Ends Homo sapiens R-HSA-1...  HIST2H2AC;HIST1H2AC;HIST1H2BJ;HIST1H2BK;HIST2H...   \n",
       "Peptide ligand-binding receptors Homo sapiens R...  TAC3;ANXA1;NMU;NPW;GAL;CXCL3;KISS1R;CXCL2;F2RL...   \n",
       "Mitotic Prometaphase Homo sapiens R-HSA-68877       CCNB1;CDK1;CENPA;CDC20;CENPF;PLK1;CDCA8;CENPE;...   \n",
       "Interferon alpha/beta signaling Homo sapiens R-...  EGR1;IFITM2;SOCS1;IFITM1;IFITM3;ISG15;IRF2;IFI...   \n",
       "Deposition of new CENPA-containing nucleosomes ...  HIST2H2AC;HIST1H2AC;CENPA;HIST1H2BJ;HIST1H2BK;...   \n",
       "SIRT1 negatively regulates rRNA Expression Homo...  HIST2H2AC;HIST1H2AC;HIST1H2BJ;HIST1H2BK;HIST2H...   \n",
       "\n",
       "                                                                                          ledge_genes  \n",
       "Term                                                                                                   \n",
       "Amyloid fiber formation Homo sapiens R-HSA-977225   LYZ;HIST2H2AC;HIST1H2AC;HIST1H2BJ;HIST1H2BK;HI...  \n",
       "Response to elevated platelet cytosolic Ca2+ Ho...  TIMP1;FN1;HSPA5;IGF1;SCG3;SRGN;CLU;SEPP1;TMSB4...  \n",
       "DNA Damage/Telomere Stress Induced Senescence H...  HIST2H2AC;HIST1H1E;HIST1H1D;HIST1H1C;HIST1H2AC...  \n",
       "HSF1-dependent transactivation Homo sapiens R-H...  HSPA1A;HSPA8;HSP90AA1;MRPL18;DNAJB1;HSPH1;RPTO...  \n",
       "Class A/1 (Rhodopsin-like receptors) Homo sapie...  TAC3;ANXA1;NMU;NPW;GAL;CXCL3;KISS1R;TBXA2R;ADO...  \n",
       "Immunoregulatory interactions between a Lymphoi...     TYROBP;CD3D;IFITM1;CLEC2B;B2M;CD33;HLA-E;ICAM2  \n",
       "Condensation of Prophase Chromosomes Homo sapie...  HIST2H2AC;HIST1H2AC;CCNB1;CDK1;PLK1;HIST1H2BJ;...  \n",
       "Attenuation phase Homo sapiens R-HSA-3371568                HSPA1A;HSPA8;HSP90AA1;MRPL18;DNAJB1;HSPH1  \n",
       "RMTs methylate histone arginines Homo sapiens R...      HIST1H2AA;HIST2H2AC;HIST1H2AC;CCND1;HIST1H2AH  \n",
       "Platelet degranulation Homo sapiens R-HSA-114608    TIMP1;FN1;HSPA5;IGF1;SCG3;SRGN;CLU;SEPP1;TMSB4...  \n",
       "Resolution of Sister Chromatid Cohesion Homo sa...  CCNB1;CDK1;CENPA;CDC20;CENPF;PLK1;CDCA8;CENPE;...  \n",
       "Cell surface interactions at the vascular wall ...  FN1;SLC3A2;SLC7A8;GP6;PROCR;ANGPT1;YES1;CD47;S...  \n",
       "GPCR ligand binding Homo sapiens R-HSA-500792       TAC3;ANXA1;NMU;NPW;GAL;CXCL3;CD97;KISS1R;TBXA2...  \n",
       "Senescence-Associated Secretory Phenotype (SASP...  HIST2H2AC;HIST1H2AC;JUN;HIST1H2BJ;CDKN1A;HIST1...  \n",
       "Packaging Of Telomere Ends Homo sapiens R-HSA-1...  HIST2H2AC;HIST1H2AC;HIST1H2BJ;HIST1H2BK;HIST2H...  \n",
       "Peptide ligand-binding receptors Homo sapiens R...  TAC3;ANXA1;NMU;NPW;GAL;CXCL3;KISS1R;CXCL2;F2RL...  \n",
       "Mitotic Prometaphase Homo sapiens R-HSA-68877       CCNB1;CDK1;CENPA;CDC20;CENPF;PLK1;CDCA8;CENPE;...  \n",
       "Interferon alpha/beta signaling Homo sapiens R-...  EGR1;IFITM2;SOCS1;IFITM1;IFITM3;ISG15;IRF2;IFI...  \n",
       "Deposition of new CENPA-containing nucleosomes ...  HIST2H2AC;HIST1H2AC;CENPA;HIST1H2BJ;HIST1H2BK;...  \n",
       "SIRT1 negatively regulates rRNA Expression Homo...  HIST2H2AC;HIST1H2AC;HIST1H2BJ;HIST1H2BK;HIST2H...  "
      ]
     },
     "execution_count": 73,
     "metadata": {},
     "output_type": "execute_result"
    }
   ],
   "source": [
    "gsea_table.query('es > 0').head(20)"
   ]
  },
  {
   "cell_type": "code",
   "execution_count": 39,
   "metadata": {},
   "outputs": [],
   "source": [
    "hvg = df.query('dv_fdr < 0.05 & dv_coef > 0.5').gene.tolist()\n",
    "lvg = df.query('dv_fdr < 0.05 & dv_coef < -0.5').gene.tolist()"
   ]
  },
  {
   "cell_type": "code",
   "execution_count": 69,
   "metadata": {},
   "outputs": [
    {
     "data": {
      "text/plain": [
       "Text(0, 0.5, 'Variability')"
      ]
     },
     "execution_count": 69,
     "metadata": {},
     "output_type": "execute_result"
    },
    {
     "data": {
      "image/png": "[encoded data removed]",
      "text/plain": [
       "<Figure size 432x288 with 1 Axes>"
      ]
     },
     "metadata": {
      "needs_background": "light"
     },
     "output_type": "display_data"
    }
   ],
   "source": [
    "plt.scatter(df['de_coef'], df['dv_coef'], s=1, color='grey')\n",
    "plt.scatter(df.query('gene in @hvg')['de_coef'], df.query('gene in @hvg')['dv_coef'], s=10, color='b')\n",
    "plt.scatter(df['de_coef'], df['dv_coef'], s=1, color='grey')\n",
    "plt.scatter(df.query('gene in @lvg')['de_coef'], df.query('gene in @lvg')['dv_coef'], s=10, color='g')\n",
    "plt.xlabel('Mean'); plt.ylabel('Variability')"
   ]
  },
  {
   "cell_type": "markdown",
   "metadata": {},
   "source": [
    "### Memento"
   ]
  },
  {
   "cell_type": "code",
   "execution_count": 118,
   "metadata": {},
   "outputs": [],
   "source": [
    "results = {}\n",
    "moments = {}"
   ]
  },
  {
   "cell_type": "code",
   "execution_count": 119,
   "metadata": {},
   "outputs": [
    {
     "name": "stdout",
     "output_type": "stream",
     "text": [
      "ELK1\n"
     ]
    },
    {
     "name": "stderr",
     "output_type": "stream",
     "text": [
      "/home/ssm-user/anaconda3/envs/single_cell/lib/python3.8/site-packages/pandas/core/arrays/categorical.py:2487: FutureWarning: The `inplace` parameter in pandas.Categorical.remove_unused_categories is deprecated and will be removed in a future version.\n",
      "  res = method(*args, **kwargs)\n",
      "[Parallel(n_jobs=70)]: Using backend LokyBackend with 70 concurrent workers.\n",
      "[Parallel(n_jobs=70)]: Done  60 tasks      | elapsed:    4.4s\n",
      "[Parallel(n_jobs=70)]: Done 310 tasks      | elapsed:    7.6s\n",
      "[Parallel(n_jobs=70)]: Done 523 out of 523 | elapsed:   13.1s finished\n",
      "/home/ssm-user/anaconda3/envs/single_cell/lib/python3.8/site-packages/pandas/core/arrays/categorical.py:2487: FutureWarning: The `inplace` parameter in pandas.Categorical.remove_unused_categories is deprecated and will be removed in a future version.\n",
      "  res = method(*args, **kwargs)\n"
     ]
    },
    {
     "name": "stdout",
     "output_type": "stream",
     "text": [
      "ELF1\n"
     ]
    },
    {
     "name": "stderr",
     "output_type": "stream",
     "text": [
      "[Parallel(n_jobs=70)]: Using backend LokyBackend with 70 concurrent workers.\n",
      "[Parallel(n_jobs=70)]: Done  60 tasks      | elapsed:    1.1s\n",
      "[Parallel(n_jobs=70)]: Done 310 tasks      | elapsed:    4.2s\n",
      "[Parallel(n_jobs=70)]: Done 521 out of 521 | elapsed:   10.7s finished\n",
      "/home/ssm-user/anaconda3/envs/single_cell/lib/python3.8/site-packages/pandas/core/arrays/categorical.py:2487: FutureWarning: The `inplace` parameter in pandas.Categorical.remove_unused_categories is deprecated and will be removed in a future version.\n",
      "  res = method(*args, **kwargs)\n"
     ]
    },
    {
     "name": "stdout",
     "output_type": "stream",
     "text": [
      "IRF1\n"
     ]
    },
    {
     "name": "stderr",
     "output_type": "stream",
     "text": [
      "[Parallel(n_jobs=70)]: Using backend LokyBackend with 70 concurrent workers.\n",
      "[Parallel(n_jobs=70)]: Done  60 tasks      | elapsed:    0.9s\n",
      "[Parallel(n_jobs=70)]: Done 310 tasks      | elapsed:    3.3s\n",
      "[Parallel(n_jobs=70)]: Done 513 out of 513 | elapsed:    7.6s finished\n",
      "/home/ssm-user/anaconda3/envs/single_cell/lib/python3.8/site-packages/pandas/core/arrays/categorical.py:2487: FutureWarning: The `inplace` parameter in pandas.Categorical.remove_unused_categories is deprecated and will be removed in a future version.\n",
      "  res = method(*args, **kwargs)\n"
     ]
    },
    {
     "name": "stdout",
     "output_type": "stream",
     "text": [
      "ETS1\n"
     ]
    },
    {
     "name": "stderr",
     "output_type": "stream",
     "text": [
      "[Parallel(n_jobs=70)]: Using backend LokyBackend with 70 concurrent workers.\n",
      "[Parallel(n_jobs=70)]: Done  60 tasks      | elapsed:    1.0s\n",
      "[Parallel(n_jobs=70)]: Done 310 tasks      | elapsed:    3.8s\n",
      "[Parallel(n_jobs=70)]: Done 520 out of 520 | elapsed:    8.8s finished\n",
      "/home/ssm-user/anaconda3/envs/single_cell/lib/python3.8/site-packages/pandas/core/arrays/categorical.py:2487: FutureWarning: The `inplace` parameter in pandas.Categorical.remove_unused_categories is deprecated and will be removed in a future version.\n",
      "  res = method(*args, **kwargs)\n"
     ]
    },
    {
     "name": "stdout",
     "output_type": "stream",
     "text": [
      "EGR1\n"
     ]
    },
    {
     "name": "stderr",
     "output_type": "stream",
     "text": [
      "[Parallel(n_jobs=70)]: Using backend LokyBackend with 70 concurrent workers.\n",
      "[Parallel(n_jobs=70)]: Done  60 tasks      | elapsed:    1.0s\n",
      "[Parallel(n_jobs=70)]: Done 310 tasks      | elapsed:    3.6s\n",
      "[Parallel(n_jobs=70)]: Done 525 out of 525 | elapsed:    8.7s finished\n",
      "/home/ssm-user/anaconda3/envs/single_cell/lib/python3.8/site-packages/pandas/core/arrays/categorical.py:2487: FutureWarning: The `inplace` parameter in pandas.Categorical.remove_unused_categories is deprecated and will be removed in a future version.\n",
      "  res = method(*args, **kwargs)\n"
     ]
    },
    {
     "name": "stdout",
     "output_type": "stream",
     "text": [
      "YY1\n"
     ]
    },
    {
     "name": "stderr",
     "output_type": "stream",
     "text": [
      "[Parallel(n_jobs=70)]: Using backend LokyBackend with 70 concurrent workers.\n",
      "[Parallel(n_jobs=70)]: Done  60 tasks      | elapsed:    1.0s\n",
      "[Parallel(n_jobs=70)]: Done 310 tasks      | elapsed:    4.1s\n",
      "[Parallel(n_jobs=70)]: Done 508 out of 508 | elapsed:    9.3s finished\n",
      "/home/ssm-user/anaconda3/envs/single_cell/lib/python3.8/site-packages/pandas/core/arrays/categorical.py:2487: FutureWarning: The `inplace` parameter in pandas.Categorical.remove_unused_categories is deprecated and will be removed in a future version.\n",
      "  res = method(*args, **kwargs)\n"
     ]
    },
    {
     "name": "stdout",
     "output_type": "stream",
     "text": [
      "GABPA\n"
     ]
    },
    {
     "name": "stderr",
     "output_type": "stream",
     "text": [
      "[Parallel(n_jobs=70)]: Using backend LokyBackend with 70 concurrent workers.\n",
      "[Parallel(n_jobs=70)]: Done  60 tasks      | elapsed:    1.0s\n",
      "[Parallel(n_jobs=70)]: Done 310 tasks      | elapsed:    3.9s\n",
      "[Parallel(n_jobs=70)]: Done 514 out of 514 | elapsed:    8.9s finished\n",
      "/home/ssm-user/anaconda3/envs/single_cell/lib/python3.8/site-packages/pandas/core/arrays/categorical.py:2487: FutureWarning: The `inplace` parameter in pandas.Categorical.remove_unused_categories is deprecated and will be removed in a future version.\n",
      "  res = method(*args, **kwargs)\n"
     ]
    },
    {
     "name": "stdout",
     "output_type": "stream",
     "text": [
      "E2F4\n"
     ]
    },
    {
     "name": "stderr",
     "output_type": "stream",
     "text": [
      "[Parallel(n_jobs=70)]: Using backend LokyBackend with 70 concurrent workers.\n",
      "[Parallel(n_jobs=70)]: Done  60 tasks      | elapsed:    1.0s\n",
      "[Parallel(n_jobs=70)]: Done 310 tasks      | elapsed:    3.7s\n",
      "[Parallel(n_jobs=70)]: Done 520 out of 520 | elapsed:    8.6s finished\n",
      "/home/ssm-user/anaconda3/envs/single_cell/lib/python3.8/site-packages/pandas/core/arrays/categorical.py:2487: FutureWarning: The `inplace` parameter in pandas.Categorical.remove_unused_categories is deprecated and will be removed in a future version.\n",
      "  res = method(*args, **kwargs)\n"
     ]
    },
    {
     "name": "stdout",
     "output_type": "stream",
     "text": [
      "NR2C2\n"
     ]
    },
    {
     "name": "stderr",
     "output_type": "stream",
     "text": [
      "[Parallel(n_jobs=70)]: Using backend LokyBackend with 70 concurrent workers.\n",
      "[Parallel(n_jobs=70)]: Done  60 tasks      | elapsed:    1.0s\n",
      "[Parallel(n_jobs=70)]: Done 310 tasks      | elapsed:    3.7s\n",
      "[Parallel(n_jobs=70)]: Done 518 out of 518 | elapsed:    8.7s finished\n",
      "/home/ssm-user/anaconda3/envs/single_cell/lib/python3.8/site-packages/pandas/core/arrays/categorical.py:2487: FutureWarning: The `inplace` parameter in pandas.Categorical.remove_unused_categories is deprecated and will be removed in a future version.\n",
      "  res = method(*args, **kwargs)\n"
     ]
    },
    {
     "name": "stdout",
     "output_type": "stream",
     "text": [
      "CREB1\n"
     ]
    },
    {
     "name": "stderr",
     "output_type": "stream",
     "text": [
      "[Parallel(n_jobs=70)]: Using backend LokyBackend with 70 concurrent workers.\n",
      "[Parallel(n_jobs=70)]: Done  60 tasks      | elapsed:    1.0s\n",
      "[Parallel(n_jobs=70)]: Done 310 tasks      | elapsed:    3.5s\n",
      "[Parallel(n_jobs=70)]: Done 519 out of 519 | elapsed:    8.8s finished\n"
     ]
    }
   ],
   "source": [
    "for g in ko_genes:\n",
    "    \n",
    "    print(g)\n",
    "    \n",
    "    subset = adata[adata.obs.WT | (adata.obs.KO_GENE == g), hvg+lvg].copy().copy()\n",
    "    \n",
    "    memento.create_groups(subset, label_columns=['KO', 'leiden'])\n",
    "    memento.compute_1d_moments(subset, min_perc_group=.9)\n",
    "    \n",
    "    memento.ht_1d_moments(\n",
    "        subset, \n",
    "        formula_like='1 + KO',\n",
    "        cov_column='KO', \n",
    "        num_boot=10000, \n",
    "        verbose=1,\n",
    "        num_cpus=70)\n",
    "    guide_df = memento.get_1d_ht_result(subset)\n",
    "    \n",
    "    results[g] = memento.get_1d_ht_result(subset)\n",
    "    moments[g] = memento.get_1d_moments(subset, groupby='KO')"
   ]
  },
  {
   "cell_type": "code",
   "execution_count": 120,
   "metadata": {},
   "outputs": [
    {
     "name": "stdout",
     "output_type": "stream",
     "text": [
      "ELK1\n",
      "    gene   dv_coef class    dv_fdr\n",
      "74   FN1 -1.839776   hvg  0.042976\n",
      "353  LYZ -1.559115   hvg  0.098766\n",
      "ELF1\n",
      "Empty DataFrame\n",
      "Columns: [gene, dv_coef, class, dv_fdr]\n",
      "Index: []\n",
      "IRF1\n",
      "      gene   dv_coef class    dv_fdr\n",
      "207  TIMP1 -2.304302   hvg  0.019604\n",
      "ETS1\n",
      "      gene   dv_coef class    dv_fdr\n",
      "208   SAT1 -1.693064   hvg  0.081772\n",
      "319  NEAT1 -0.687979   hvg  0.062826\n",
      "EGR1\n",
      "Empty DataFrame\n",
      "Columns: [gene, dv_coef, class, dv_fdr]\n",
      "Index: []\n",
      "YY1\n",
      "          gene   dv_coef class    dv_fdr\n",
      "0        SMIM1  0.532605   hvg  0.015871\n",
      "2          ID3 -0.509430   hvg  0.073370\n",
      "35       PTPRC  0.301594   hvg  0.093124\n",
      "41        G0S2  0.262431   hvg  0.015871\n",
      "44      FAM89A  0.320781   hvg  0.028205\n",
      "71         FN1 -1.647851   hvg  0.015867\n",
      "99         NMU  0.267973   hvg  0.041274\n",
      "108       GYPA  0.421620   hvg  0.012617\n",
      "116     HMGCS1  0.588160   hvg  0.073370\n",
      "118      MEF2C  0.276373   hvg  0.085826\n",
      "149  HIST1H2BK  0.147918   hvg  0.073370\n",
      "189  LINC00998  0.344715   hvg  0.012153\n",
      "280      DDIT4  0.327978   hvg  0.015867\n",
      "294       HBG1  0.230743   hvg  0.025805\n",
      "295       HBG2  0.305675   hvg  0.025805\n",
      "308      MS4A3 -0.674609   hvg  0.025805\n",
      "309      FADS1  0.196634   hvg  0.073370\n",
      "348      SOCS2  0.270691   hvg  0.040046\n",
      "354        UBC  0.530174   hvg  0.050795\n",
      "365     RNASE1 -1.287767   hvg  0.039971\n",
      "375   HSP90AA1  0.238379   hvg  0.073370\n",
      "387        HBZ  0.397327   hvg  0.025805\n",
      "398      ACSM3  0.640175   hvg  0.012153\n",
      "400      PRKCB  0.251064   hvg  0.050795\n",
      "429       YES1  0.519437   hvg  0.008068\n",
      "448   PPP1R14A  0.287528   hvg  0.045715\n",
      "479    ATP6AP1  0.624111   lvg  0.079821\n",
      "481       RPL8  0.216449   lvg  0.031782\n",
      "485      RPS13  0.510132   lvg  0.003968\n",
      "497      RPL19  0.196358   lvg  0.031782\n",
      "GABPA\n",
      "    gene   dv_coef class    dv_fdr\n",
      "95  TFRC  1.035115   hvg  0.019123\n",
      "E2F4\n",
      "Empty DataFrame\n",
      "Columns: [gene, dv_coef, class, dv_fdr]\n",
      "Index: []\n",
      "NR2C2\n",
      "Empty DataFrame\n",
      "Columns: [gene, dv_coef, class, dv_fdr]\n",
      "Index: []\n",
      "CREB1\n",
      "Empty DataFrame\n",
      "Columns: [gene, dv_coef, class, dv_fdr]\n",
      "Index: []\n"
     ]
    }
   ],
   "source": [
    "for g in ko_genes:\n",
    "    results[g]['de_fdr'] = memento.util._fdrcorrect(results[g]['de_pval'])\n",
    "    results[g]['dv_fdr'] = memento.util._fdrcorrect(results[g]['dv_pval'])\n",
    "    \n",
    "    results[g]['class'] = results[g].gene.apply(lambda x: 'hvg' if x in hvg else 'lvg')\n",
    "    print(g)\n",
    "    print(results[g].query('dv_fdr < 0.1')[['gene', 'dv_coef', 'class', 'dv_fdr']])"
   ]
  },
  {
   "cell_type": "code",
   "execution_count": 123,
   "metadata": {},
   "outputs": [],
   "source": [
    "dv_genes = results['YY1'].query('dv_fdr < 0.1').gene.tolist()\n",
    "moment_df = moments['YY1']"
   ]
  },
  {
   "cell_type": "code",
   "execution_count": 136,
   "metadata": {},
   "outputs": [
    {
     "data": {
      "text/plain": [
       "'ID3'"
      ]
     },
     "execution_count": 136,
     "metadata": {},
     "output_type": "execute_result"
    }
   ],
   "source": [
    "g"
   ]
  },
  {
   "cell_type": "code",
   "execution_count": 140,
   "metadata": {},
   "outputs": [
    {
     "data": {
      "text/plain": [
       "-0.39352927"
      ]
     },
     "execution_count": 140,
     "metadata": {},
     "output_type": "execute_result"
    }
   ],
   "source": [
    "moment_df[0].query('gene ==\"{}\"'.format(g))['KO_0'].iloc[0]"
   ]
  },
  {
   "cell_type": "code",
   "execution_count": 144,
   "metadata": {},
   "outputs": [
    {
     "data": {
      "text/plain": [
       "Text(0.5, 1.0, 'Effect of YY1 KO on highly/lowly variable genes')"
      ]
     },
     "execution_count": 144,
     "metadata": {},
     "output_type": "execute_result"
    },
    {
     "data": {
      "image/png": "[encoded data removed]",
      "text/plain": [
       "<Figure size 360x288 with 1 Axes>"
      ]
     },
     "metadata": {
      "needs_background": "light"
     },
     "output_type": "display_data"
    }
   ],
   "source": [
    "plt.figure(figsize=(5, 4))\n",
    "plt.scatter(moment_df[0]['KO_0'], moment_df[1]['KO_0'], s=1)\n",
    "plt.scatter(moment_df[0].query('gene in @dv_genes')['KO_0'], moment_df[1].query('gene in @dv_genes')['KO_0'], s=10)\n",
    "plt.scatter(moment_df[0].query('gene in @dv_genes')['KO_1'], moment_df[1].query('gene in @dv_genes')['KO_1'], s=10)\n",
    "\n",
    "for g in dv_genes:\n",
    "    \n",
    "    x,y = moment_df[0].query('gene ==\"{}\"'.format(g))['KO_0'].iloc[0], moment_df[1].query('gene ==\"{}\"'.format(g))['KO_0'].iloc[0]\n",
    "    dx = moment_df[0].query('gene ==\"{}\"'.format(g))['KO_1'].iloc[0] - x\n",
    "    dy = moment_df[1].query('gene ==\"{}\"'.format(g))['KO_1'].iloc[0] - y\n",
    "    plt.arrow(x,y, dx, dy, width=0.05, head_length=0.1, color='black')\n",
    "plt.xlabel('Mean'); plt.ylabel('Variability'); plt.title('Effect of YY1 KO on highly/lowly variable genes')"
   ]
  },
  {
   "cell_type": "code",
   "execution_count": 117,
   "metadata": {},
   "outputs": [
    {
     "data": {
      "text/html": [
       "<div>\n",
       "<style scoped>\n",
       "    .dataframe tbody tr th:only-of-type {\n",
       "        vertical-align: middle;\n",
       "    }\n",
       "\n",
       "    .dataframe tbody tr th {\n",
       "        vertical-align: top;\n",
       "    }\n",
       "\n",
       "    .dataframe thead th {\n",
       "        text-align: right;\n",
       "    }\n",
       "</style>\n",
       "<table border=\"1\" class=\"dataframe\">\n",
       "  <thead>\n",
       "    <tr style=\"text-align: right;\">\n",
       "      <th></th>\n",
       "      <th>gene</th>\n",
       "      <th>KO_0</th>\n",
       "      <th>KO_1</th>\n",
       "      <th>de_coef</th>\n",
       "      <th>de_se</th>\n",
       "      <th>de_pval</th>\n",
       "      <th>dv_coef</th>\n",
       "      <th>dv_se</th>\n",
       "      <th>dv_pval</th>\n",
       "      <th>de_fdr</th>\n",
       "      <th>dv_fdr</th>\n",
       "      <th>class</th>\n",
       "    </tr>\n",
       "  </thead>\n",
       "  <tbody>\n",
       "    <tr>\n",
       "      <th>0</th>\n",
       "      <td>SMIM1</td>\n",
       "      <td>-0.177695</td>\n",
       "      <td>0.357348</td>\n",
       "      <td>-0.235923</td>\n",
       "      <td>0.027202</td>\n",
       "      <td>0.000025</td>\n",
       "      <td>0.535043</td>\n",
       "      <td>0.105522</td>\n",
       "      <td>0.000168</td>\n",
       "      <td>0.001783</td>\n",
       "      <td>0.021019</td>\n",
       "      <td>hvg</td>\n",
       "    </tr>\n",
       "    <tr>\n",
       "      <th>2</th>\n",
       "      <td>ID3</td>\n",
       "      <td>3.133432</td>\n",
       "      <td>2.441684</td>\n",
       "      <td>-0.024830</td>\n",
       "      <td>0.106311</td>\n",
       "      <td>0.820418</td>\n",
       "      <td>-0.691749</td>\n",
       "      <td>0.198047</td>\n",
       "      <td>0.000609</td>\n",
       "      <td>0.889684</td>\n",
       "      <td>0.032625</td>\n",
       "      <td>hvg</td>\n",
       "    </tr>\n",
       "    <tr>\n",
       "      <th>41</th>\n",
       "      <td>G0S2</td>\n",
       "      <td>0.687833</td>\n",
       "      <td>0.949137</td>\n",
       "      <td>-0.313494</td>\n",
       "      <td>0.029049</td>\n",
       "      <td>0.000002</td>\n",
       "      <td>0.261304</td>\n",
       "      <td>0.058181</td>\n",
       "      <td>0.000294</td>\n",
       "      <td>0.001276</td>\n",
       "      <td>0.024993</td>\n",
       "      <td>hvg</td>\n",
       "    </tr>\n",
       "    <tr>\n",
       "      <th>44</th>\n",
       "      <td>FAM89A</td>\n",
       "      <td>-0.214823</td>\n",
       "      <td>0.075370</td>\n",
       "      <td>-0.118510</td>\n",
       "      <td>0.027122</td>\n",
       "      <td>0.000096</td>\n",
       "      <td>0.290193</td>\n",
       "      <td>0.089960</td>\n",
       "      <td>0.001200</td>\n",
       "      <td>0.002345</td>\n",
       "      <td>0.035587</td>\n",
       "      <td>hvg</td>\n",
       "    </tr>\n",
       "    <tr>\n",
       "      <th>73</th>\n",
       "      <td>FN1</td>\n",
       "      <td>1.978782</td>\n",
       "      <td>0.433984</td>\n",
       "      <td>-0.481454</td>\n",
       "      <td>0.122483</td>\n",
       "      <td>0.000425</td>\n",
       "      <td>-1.544798</td>\n",
       "      <td>0.357327</td>\n",
       "      <td>0.000335</td>\n",
       "      <td>0.003995</td>\n",
       "      <td>0.024993</td>\n",
       "      <td>hvg</td>\n",
       "    </tr>\n",
       "    <tr>\n",
       "      <th>101</th>\n",
       "      <td>NMU</td>\n",
       "      <td>0.190416</td>\n",
       "      <td>0.468572</td>\n",
       "      <td>-0.169234</td>\n",
       "      <td>0.024094</td>\n",
       "      <td>0.000493</td>\n",
       "      <td>0.278156</td>\n",
       "      <td>0.083103</td>\n",
       "      <td>0.001456</td>\n",
       "      <td>0.004238</td>\n",
       "      <td>0.035587</td>\n",
       "      <td>hvg</td>\n",
       "    </tr>\n",
       "    <tr>\n",
       "      <th>110</th>\n",
       "      <td>GYPA</td>\n",
       "      <td>-0.137167</td>\n",
       "      <td>0.294541</td>\n",
       "      <td>-0.192191</td>\n",
       "      <td>0.027254</td>\n",
       "      <td>0.000084</td>\n",
       "      <td>0.431708</td>\n",
       "      <td>0.096428</td>\n",
       "      <td>0.000188</td>\n",
       "      <td>0.002345</td>\n",
       "      <td>0.021019</td>\n",
       "      <td>hvg</td>\n",
       "    </tr>\n",
       "    <tr>\n",
       "      <th>118</th>\n",
       "      <td>HMGCS1</td>\n",
       "      <td>0.083599</td>\n",
       "      <td>0.666764</td>\n",
       "      <td>0.313811</td>\n",
       "      <td>0.042515</td>\n",
       "      <td>0.000507</td>\n",
       "      <td>0.583166</td>\n",
       "      <td>0.202375</td>\n",
       "      <td>0.004100</td>\n",
       "      <td>0.004238</td>\n",
       "      <td>0.071333</td>\n",
       "      <td>hvg</td>\n",
       "    </tr>\n",
       "    <tr>\n",
       "      <th>120</th>\n",
       "      <td>MEF2C</td>\n",
       "      <td>-0.079590</td>\n",
       "      <td>0.238189</td>\n",
       "      <td>-0.116019</td>\n",
       "      <td>0.030437</td>\n",
       "      <td>0.001347</td>\n",
       "      <td>0.317779</td>\n",
       "      <td>0.092005</td>\n",
       "      <td>0.001267</td>\n",
       "      <td>0.007174</td>\n",
       "      <td>0.035587</td>\n",
       "      <td>hvg</td>\n",
       "    </tr>\n",
       "    <tr>\n",
       "      <th>144</th>\n",
       "      <td>HIST1H1E</td>\n",
       "      <td>0.912989</td>\n",
       "      <td>0.710116</td>\n",
       "      <td>-0.042872</td>\n",
       "      <td>0.035914</td>\n",
       "      <td>0.234577</td>\n",
       "      <td>-0.202874</td>\n",
       "      <td>0.071788</td>\n",
       "      <td>0.004600</td>\n",
       "      <td>0.391627</td>\n",
       "      <td>0.077450</td>\n",
       "      <td>hvg</td>\n",
       "    </tr>\n",
       "    <tr>\n",
       "      <th>153</th>\n",
       "      <td>HIST1H2BK</td>\n",
       "      <td>-0.039585</td>\n",
       "      <td>0.106842</td>\n",
       "      <td>-0.093786</td>\n",
       "      <td>0.015085</td>\n",
       "      <td>0.000628</td>\n",
       "      <td>0.146426</td>\n",
       "      <td>0.049434</td>\n",
       "      <td>0.002200</td>\n",
       "      <td>0.004510</td>\n",
       "      <td>0.044165</td>\n",
       "      <td>hvg</td>\n",
       "    </tr>\n",
       "    <tr>\n",
       "      <th>193</th>\n",
       "      <td>LINC00998</td>\n",
       "      <td>-0.374145</td>\n",
       "      <td>-0.036358</td>\n",
       "      <td>-0.180753</td>\n",
       "      <td>0.023395</td>\n",
       "      <td>0.000014</td>\n",
       "      <td>0.337787</td>\n",
       "      <td>0.078533</td>\n",
       "      <td>0.000622</td>\n",
       "      <td>0.001783</td>\n",
       "      <td>0.032625</td>\n",
       "      <td>hvg</td>\n",
       "    </tr>\n",
       "    <tr>\n",
       "      <th>274</th>\n",
       "      <td>CELF2</td>\n",
       "      <td>-0.239704</td>\n",
       "      <td>0.010826</td>\n",
       "      <td>-0.197097</td>\n",
       "      <td>0.034890</td>\n",
       "      <td>0.000089</td>\n",
       "      <td>0.250530</td>\n",
       "      <td>0.088420</td>\n",
       "      <td>0.004900</td>\n",
       "      <td>0.002345</td>\n",
       "      <td>0.077501</td>\n",
       "      <td>hvg</td>\n",
       "    </tr>\n",
       "    <tr>\n",
       "      <th>287</th>\n",
       "      <td>DDIT4</td>\n",
       "      <td>-0.468264</td>\n",
       "      <td>-0.137754</td>\n",
       "      <td>-0.144915</td>\n",
       "      <td>0.016674</td>\n",
       "      <td>0.000302</td>\n",
       "      <td>0.330510</td>\n",
       "      <td>0.070162</td>\n",
       "      <td>0.001178</td>\n",
       "      <td>0.003753</td>\n",
       "      <td>0.035587</td>\n",
       "      <td>hvg</td>\n",
       "    </tr>\n",
       "    <tr>\n",
       "      <th>301</th>\n",
       "      <td>HBG1</td>\n",
       "      <td>0.353013</td>\n",
       "      <td>0.583606</td>\n",
       "      <td>-0.096138</td>\n",
       "      <td>0.017988</td>\n",
       "      <td>0.000412</td>\n",
       "      <td>0.230593</td>\n",
       "      <td>0.059978</td>\n",
       "      <td>0.000837</td>\n",
       "      <td>0.003995</td>\n",
       "      <td>0.033617</td>\n",
       "      <td>hvg</td>\n",
       "    </tr>\n",
       "    <tr>\n",
       "      <th>302</th>\n",
       "      <td>HBG2</td>\n",
       "      <td>0.528611</td>\n",
       "      <td>0.824485</td>\n",
       "      <td>-0.110651</td>\n",
       "      <td>0.019805</td>\n",
       "      <td>0.000158</td>\n",
       "      <td>0.295874</td>\n",
       "      <td>0.081139</td>\n",
       "      <td>0.000749</td>\n",
       "      <td>0.002686</td>\n",
       "      <td>0.032625</td>\n",
       "      <td>hvg</td>\n",
       "    </tr>\n",
       "    <tr>\n",
       "      <th>315</th>\n",
       "      <td>MS4A3</td>\n",
       "      <td>2.168768</td>\n",
       "      <td>1.517541</td>\n",
       "      <td>-0.044604</td>\n",
       "      <td>0.102421</td>\n",
       "      <td>0.664634</td>\n",
       "      <td>-0.651227</td>\n",
       "      <td>0.173754</td>\n",
       "      <td>0.000746</td>\n",
       "      <td>0.795941</td>\n",
       "      <td>0.032625</td>\n",
       "      <td>hvg</td>\n",
       "    </tr>\n",
       "    <tr>\n",
       "      <th>316</th>\n",
       "      <td>FADS1</td>\n",
       "      <td>-0.067030</td>\n",
       "      <td>0.146018</td>\n",
       "      <td>-0.133940</td>\n",
       "      <td>0.019827</td>\n",
       "      <td>0.000013</td>\n",
       "      <td>0.213048</td>\n",
       "      <td>0.068062</td>\n",
       "      <td>0.001800</td>\n",
       "      <td>0.001783</td>\n",
       "      <td>0.039146</td>\n",
       "      <td>hvg</td>\n",
       "    </tr>\n",
       "    <tr>\n",
       "      <th>352</th>\n",
       "      <td>LYZ</td>\n",
       "      <td>4.121100</td>\n",
       "      <td>2.723358</td>\n",
       "      <td>-0.324002</td>\n",
       "      <td>0.160816</td>\n",
       "      <td>0.044496</td>\n",
       "      <td>-1.397741</td>\n",
       "      <td>0.524499</td>\n",
       "      <td>0.004900</td>\n",
       "      <td>0.122246</td>\n",
       "      <td>0.077501</td>\n",
       "      <td>hvg</td>\n",
       "    </tr>\n",
       "    <tr>\n",
       "      <th>355</th>\n",
       "      <td>SOCS2</td>\n",
       "      <td>-0.137034</td>\n",
       "      <td>0.135098</td>\n",
       "      <td>-0.186811</td>\n",
       "      <td>0.023733</td>\n",
       "      <td>0.000043</td>\n",
       "      <td>0.272132</td>\n",
       "      <td>0.078434</td>\n",
       "      <td>0.001225</td>\n",
       "      <td>0.001946</td>\n",
       "      <td>0.035587</td>\n",
       "      <td>hvg</td>\n",
       "    </tr>\n",
       "    <tr>\n",
       "      <th>361</th>\n",
       "      <td>UBC</td>\n",
       "      <td>-0.319791</td>\n",
       "      <td>0.267345</td>\n",
       "      <td>0.148534</td>\n",
       "      <td>0.022878</td>\n",
       "      <td>0.000021</td>\n",
       "      <td>0.587135</td>\n",
       "      <td>0.198798</td>\n",
       "      <td>0.002700</td>\n",
       "      <td>0.001783</td>\n",
       "      <td>0.050331</td>\n",
       "      <td>hvg</td>\n",
       "    </tr>\n",
       "    <tr>\n",
       "      <th>372</th>\n",
       "      <td>RNASE1</td>\n",
       "      <td>0.500509</td>\n",
       "      <td>-0.795432</td>\n",
       "      <td>-0.338744</td>\n",
       "      <td>0.066974</td>\n",
       "      <td>0.000053</td>\n",
       "      <td>-1.295941</td>\n",
       "      <td>0.381938</td>\n",
       "      <td>0.001374</td>\n",
       "      <td>0.002111</td>\n",
       "      <td>0.035587</td>\n",
       "      <td>hvg</td>\n",
       "    </tr>\n",
       "    <tr>\n",
       "      <th>378</th>\n",
       "      <td>DLGAP5</td>\n",
       "      <td>0.056391</td>\n",
       "      <td>-0.338712</td>\n",
       "      <td>-0.055123</td>\n",
       "      <td>0.039898</td>\n",
       "      <td>0.170183</td>\n",
       "      <td>-0.395103</td>\n",
       "      <td>0.139295</td>\n",
       "      <td>0.005499</td>\n",
       "      <td>0.322624</td>\n",
       "      <td>0.084433</td>\n",
       "      <td>hvg</td>\n",
       "    </tr>\n",
       "    <tr>\n",
       "      <th>382</th>\n",
       "      <td>HSP90AA1</td>\n",
       "      <td>-0.259217</td>\n",
       "      <td>-0.013003</td>\n",
       "      <td>-0.032048</td>\n",
       "      <td>0.016331</td>\n",
       "      <td>0.049395</td>\n",
       "      <td>0.246214</td>\n",
       "      <td>0.080720</td>\n",
       "      <td>0.001500</td>\n",
       "      <td>0.132227</td>\n",
       "      <td>0.035587</td>\n",
       "      <td>hvg</td>\n",
       "    </tr>\n",
       "    <tr>\n",
       "      <th>394</th>\n",
       "      <td>HBZ</td>\n",
       "      <td>2.327346</td>\n",
       "      <td>2.745336</td>\n",
       "      <td>-0.203001</td>\n",
       "      <td>0.054898</td>\n",
       "      <td>0.000648</td>\n",
       "      <td>0.417991</td>\n",
       "      <td>0.114135</td>\n",
       "      <td>0.000750</td>\n",
       "      <td>0.004510</td>\n",
       "      <td>0.032625</td>\n",
       "      <td>hvg</td>\n",
       "    </tr>\n",
       "    <tr>\n",
       "      <th>405</th>\n",
       "      <td>ACSM3</td>\n",
       "      <td>0.131954</td>\n",
       "      <td>0.766537</td>\n",
       "      <td>0.346230</td>\n",
       "      <td>0.040705</td>\n",
       "      <td>0.000345</td>\n",
       "      <td>0.634583</td>\n",
       "      <td>0.129866</td>\n",
       "      <td>0.000201</td>\n",
       "      <td>0.003995</td>\n",
       "      <td>0.021019</td>\n",
       "      <td>hvg</td>\n",
       "    </tr>\n",
       "    <tr>\n",
       "      <th>407</th>\n",
       "      <td>PRKCB</td>\n",
       "      <td>-0.465501</td>\n",
       "      <td>-0.209534</td>\n",
       "      <td>-0.083180</td>\n",
       "      <td>0.022366</td>\n",
       "      <td>0.000481</td>\n",
       "      <td>0.255967</td>\n",
       "      <td>0.081886</td>\n",
       "      <td>0.002500</td>\n",
       "      <td>0.004238</td>\n",
       "      <td>0.048329</td>\n",
       "      <td>hvg</td>\n",
       "    </tr>\n",
       "    <tr>\n",
       "      <th>436</th>\n",
       "      <td>YES1</td>\n",
       "      <td>-0.319858</td>\n",
       "      <td>0.173948</td>\n",
       "      <td>0.018989</td>\n",
       "      <td>0.025859</td>\n",
       "      <td>0.459754</td>\n",
       "      <td>0.493806</td>\n",
       "      <td>0.095977</td>\n",
       "      <td>0.000087</td>\n",
       "      <td>0.624978</td>\n",
       "      <td>0.021019</td>\n",
       "      <td>hvg</td>\n",
       "    </tr>\n",
       "    <tr>\n",
       "      <th>456</th>\n",
       "      <td>PPP1R14A</td>\n",
       "      <td>-0.487490</td>\n",
       "      <td>-0.197738</td>\n",
       "      <td>-0.154098</td>\n",
       "      <td>0.024169</td>\n",
       "      <td>0.000108</td>\n",
       "      <td>0.289752</td>\n",
       "      <td>0.089257</td>\n",
       "      <td>0.001800</td>\n",
       "      <td>0.002345</td>\n",
       "      <td>0.039146</td>\n",
       "      <td>hvg</td>\n",
       "    </tr>\n",
       "    <tr>\n",
       "      <th>475</th>\n",
       "      <td>CBR1</td>\n",
       "      <td>-0.018172</td>\n",
       "      <td>-0.971138</td>\n",
       "      <td>-0.049325</td>\n",
       "      <td>0.050341</td>\n",
       "      <td>0.331367</td>\n",
       "      <td>-0.952965</td>\n",
       "      <td>0.336089</td>\n",
       "      <td>0.006199</td>\n",
       "      <td>0.505970</td>\n",
       "      <td>0.089891</td>\n",
       "      <td>hvg</td>\n",
       "    </tr>\n",
       "    <tr>\n",
       "      <th>492</th>\n",
       "      <td>ATP6AP1</td>\n",
       "      <td>-1.446984</td>\n",
       "      <td>-0.795840</td>\n",
       "      <td>-0.082445</td>\n",
       "      <td>0.033911</td>\n",
       "      <td>0.017198</td>\n",
       "      <td>0.651143</td>\n",
       "      <td>0.196312</td>\n",
       "      <td>0.001300</td>\n",
       "      <td>0.055761</td>\n",
       "      <td>0.035587</td>\n",
       "      <td>lvg</td>\n",
       "    </tr>\n",
       "    <tr>\n",
       "      <th>494</th>\n",
       "      <td>RPL8</td>\n",
       "      <td>-1.596108</td>\n",
       "      <td>-1.389706</td>\n",
       "      <td>-0.039430</td>\n",
       "      <td>0.007292</td>\n",
       "      <td>0.000595</td>\n",
       "      <td>0.206401</td>\n",
       "      <td>0.058273</td>\n",
       "      <td>0.001250</td>\n",
       "      <td>0.004436</td>\n",
       "      <td>0.035587</td>\n",
       "      <td>lvg</td>\n",
       "    </tr>\n",
       "    <tr>\n",
       "      <th>498</th>\n",
       "      <td>RPS13</td>\n",
       "      <td>-1.567951</td>\n",
       "      <td>-1.090032</td>\n",
       "      <td>-0.088243</td>\n",
       "      <td>0.008305</td>\n",
       "      <td>0.000197</td>\n",
       "      <td>0.477920</td>\n",
       "      <td>0.049428</td>\n",
       "      <td>0.000030</td>\n",
       "      <td>0.002943</td>\n",
       "      <td>0.015583</td>\n",
       "      <td>lvg</td>\n",
       "    </tr>\n",
       "    <tr>\n",
       "      <th>501</th>\n",
       "      <td>NUP160</td>\n",
       "      <td>-1.415317</td>\n",
       "      <td>-0.769520</td>\n",
       "      <td>-0.050833</td>\n",
       "      <td>0.040578</td>\n",
       "      <td>0.208079</td>\n",
       "      <td>0.645796</td>\n",
       "      <td>0.226055</td>\n",
       "      <td>0.005799</td>\n",
       "      <td>0.365715</td>\n",
       "      <td>0.086494</td>\n",
       "      <td>lvg</td>\n",
       "    </tr>\n",
       "    <tr>\n",
       "      <th>510</th>\n",
       "      <td>RPL19</td>\n",
       "      <td>-1.599815</td>\n",
       "      <td>-1.404937</td>\n",
       "      <td>-0.041472</td>\n",
       "      <td>0.007153</td>\n",
       "      <td>0.000563</td>\n",
       "      <td>0.194878</td>\n",
       "      <td>0.052461</td>\n",
       "      <td>0.001940</td>\n",
       "      <td>0.004342</td>\n",
       "      <td>0.040506</td>\n",
       "      <td>lvg</td>\n",
       "    </tr>\n",
       "    <tr>\n",
       "      <th>521</th>\n",
       "      <td>NCAPH2</td>\n",
       "      <td>-1.371863</td>\n",
       "      <td>-0.688331</td>\n",
       "      <td>0.088307</td>\n",
       "      <td>0.040792</td>\n",
       "      <td>0.032897</td>\n",
       "      <td>0.683531</td>\n",
       "      <td>0.219020</td>\n",
       "      <td>0.003200</td>\n",
       "      <td>0.095933</td>\n",
       "      <td>0.057594</td>\n",
       "      <td>lvg</td>\n",
       "    </tr>\n",
       "  </tbody>\n",
       "</table>\n",
       "</div>"
      ],
      "text/plain": [
       "          gene      KO_0      KO_1   de_coef     de_se   de_pval   dv_coef  \\\n",
       "0        SMIM1 -0.177695  0.357348 -0.235923  0.027202  0.000025  0.535043   \n",
       "2          ID3  3.133432  2.441684 -0.024830  0.106311  0.820418 -0.691749   \n",
       "41        G0S2  0.687833  0.949137 -0.313494  0.029049  0.000002  0.261304   \n",
       "44      FAM89A -0.214823  0.075370 -0.118510  0.027122  0.000096  0.290193   \n",
       "73         FN1  1.978782  0.433984 -0.481454  0.122483  0.000425 -1.544798   \n",
       "101        NMU  0.190416  0.468572 -0.169234  0.024094  0.000493  0.278156   \n",
       "110       GYPA -0.137167  0.294541 -0.192191  0.027254  0.000084  0.431708   \n",
       "118     HMGCS1  0.083599  0.666764  0.313811  0.042515  0.000507  0.583166   \n",
       "120      MEF2C -0.079590  0.238189 -0.116019  0.030437  0.001347  0.317779   \n",
       "144   HIST1H1E  0.912989  0.710116 -0.042872  0.035914  0.234577 -0.202874   \n",
       "153  HIST1H2BK -0.039585  0.106842 -0.093786  0.015085  0.000628  0.146426   \n",
       "193  LINC00998 -0.374145 -0.036358 -0.180753  0.023395  0.000014  0.337787   \n",
       "274      CELF2 -0.239704  0.010826 -0.197097  0.034890  0.000089  0.250530   \n",
       "287      DDIT4 -0.468264 -0.137754 -0.144915  0.016674  0.000302  0.330510   \n",
       "301       HBG1  0.353013  0.583606 -0.096138  0.017988  0.000412  0.230593   \n",
       "302       HBG2  0.528611  0.824485 -0.110651  0.019805  0.000158  0.295874   \n",
       "315      MS4A3  2.168768  1.517541 -0.044604  0.102421  0.664634 -0.651227   \n",
       "316      FADS1 -0.067030  0.146018 -0.133940  0.019827  0.000013  0.213048   \n",
       "352        LYZ  4.121100  2.723358 -0.324002  0.160816  0.044496 -1.397741   \n",
       "355      SOCS2 -0.137034  0.135098 -0.186811  0.023733  0.000043  0.272132   \n",
       "361        UBC -0.319791  0.267345  0.148534  0.022878  0.000021  0.587135   \n",
       "372     RNASE1  0.500509 -0.795432 -0.338744  0.066974  0.000053 -1.295941   \n",
       "378     DLGAP5  0.056391 -0.338712 -0.055123  0.039898  0.170183 -0.395103   \n",
       "382   HSP90AA1 -0.259217 -0.013003 -0.032048  0.016331  0.049395  0.246214   \n",
       "394        HBZ  2.327346  2.745336 -0.203001  0.054898  0.000648  0.417991   \n",
       "405      ACSM3  0.131954  0.766537  0.346230  0.040705  0.000345  0.634583   \n",
       "407      PRKCB -0.465501 -0.209534 -0.083180  0.022366  0.000481  0.255967   \n",
       "436       YES1 -0.319858  0.173948  0.018989  0.025859  0.459754  0.493806   \n",
       "456   PPP1R14A -0.487490 -0.197738 -0.154098  0.024169  0.000108  0.289752   \n",
       "475       CBR1 -0.018172 -0.971138 -0.049325  0.050341  0.331367 -0.952965   \n",
       "492    ATP6AP1 -1.446984 -0.795840 -0.082445  0.033911  0.017198  0.651143   \n",
       "494       RPL8 -1.596108 -1.389706 -0.039430  0.007292  0.000595  0.206401   \n",
       "498      RPS13 -1.567951 -1.090032 -0.088243  0.008305  0.000197  0.477920   \n",
       "501     NUP160 -1.415317 -0.769520 -0.050833  0.040578  0.208079  0.645796   \n",
       "510      RPL19 -1.599815 -1.404937 -0.041472  0.007153  0.000563  0.194878   \n",
       "521     NCAPH2 -1.371863 -0.688331  0.088307  0.040792  0.032897  0.683531   \n",
       "\n",
       "        dv_se   dv_pval    de_fdr    dv_fdr class  \n",
       "0    0.105522  0.000168  0.001783  0.021019   hvg  \n",
       "2    0.198047  0.000609  0.889684  0.032625   hvg  \n",
       "41   0.058181  0.000294  0.001276  0.024993   hvg  \n",
       "44   0.089960  0.001200  0.002345  0.035587   hvg  \n",
       "73   0.357327  0.000335  0.003995  0.024993   hvg  \n",
       "101  0.083103  0.001456  0.004238  0.035587   hvg  \n",
       "110  0.096428  0.000188  0.002345  0.021019   hvg  \n",
       "118  0.202375  0.004100  0.004238  0.071333   hvg  \n",
       "120  0.092005  0.001267  0.007174  0.035587   hvg  \n",
       "144  0.071788  0.004600  0.391627  0.077450   hvg  \n",
       "153  0.049434  0.002200  0.004510  0.044165   hvg  \n",
       "193  0.078533  0.000622  0.001783  0.032625   hvg  \n",
       "274  0.088420  0.004900  0.002345  0.077501   hvg  \n",
       "287  0.070162  0.001178  0.003753  0.035587   hvg  \n",
       "301  0.059978  0.000837  0.003995  0.033617   hvg  \n",
       "302  0.081139  0.000749  0.002686  0.032625   hvg  \n",
       "315  0.173754  0.000746  0.795941  0.032625   hvg  \n",
       "316  0.068062  0.001800  0.001783  0.039146   hvg  \n",
       "352  0.524499  0.004900  0.122246  0.077501   hvg  \n",
       "355  0.078434  0.001225  0.001946  0.035587   hvg  \n",
       "361  0.198798  0.002700  0.001783  0.050331   hvg  \n",
       "372  0.381938  0.001374  0.002111  0.035587   hvg  \n",
       "378  0.139295  0.005499  0.322624  0.084433   hvg  \n",
       "382  0.080720  0.001500  0.132227  0.035587   hvg  \n",
       "394  0.114135  0.000750  0.004510  0.032625   hvg  \n",
       "405  0.129866  0.000201  0.003995  0.021019   hvg  \n",
       "407  0.081886  0.002500  0.004238  0.048329   hvg  \n",
       "436  0.095977  0.000087  0.624978  0.021019   hvg  \n",
       "456  0.089257  0.001800  0.002345  0.039146   hvg  \n",
       "475  0.336089  0.006199  0.505970  0.089891   hvg  \n",
       "492  0.196312  0.001300  0.055761  0.035587   lvg  \n",
       "494  0.058273  0.001250  0.004436  0.035587   lvg  \n",
       "498  0.049428  0.000030  0.002943  0.015583   lvg  \n",
       "501  0.226055  0.005799  0.365715  0.086494   lvg  \n",
       "510  0.052461  0.001940  0.004342  0.040506   lvg  \n",
       "521  0.219020  0.003200  0.095933  0.057594   lvg  "
      ]
     },
     "execution_count": 117,
     "metadata": {},
     "output_type": "execute_result"
    }
   ],
   "source": [
    "moment_df[1].merge(results['YY1'], on='gene').query('dv_fdr < 0.1')"
   ]
  },
  {
   "cell_type": "code",
   "execution_count": 106,
   "metadata": {},
   "outputs": [
    {
     "data": {
      "text/html": [
       "<div>\n",
       "<style scoped>\n",
       "    .dataframe tbody tr th:only-of-type {\n",
       "        vertical-align: middle;\n",
       "    }\n",
       "\n",
       "    .dataframe tbody tr th {\n",
       "        vertical-align: top;\n",
       "    }\n",
       "\n",
       "    .dataframe thead th {\n",
       "        text-align: right;\n",
       "    }\n",
       "</style>\n",
       "<table border=\"1\" class=\"dataframe\">\n",
       "  <thead>\n",
       "    <tr style=\"text-align: right;\">\n",
       "      <th></th>\n",
       "      <th>gene</th>\n",
       "      <th>KO_0</th>\n",
       "      <th>KO_1</th>\n",
       "    </tr>\n",
       "  </thead>\n",
       "  <tbody>\n",
       "    <tr>\n",
       "      <th>0</th>\n",
       "      <td>SMIM1</td>\n",
       "      <td>0.126938</td>\n",
       "      <td>0.154422</td>\n",
       "    </tr>\n",
       "    <tr>\n",
       "      <th>2</th>\n",
       "      <td>ID3</td>\n",
       "      <td>2.920587</td>\n",
       "      <td>2.718396</td>\n",
       "    </tr>\n",
       "    <tr>\n",
       "      <th>41</th>\n",
       "      <td>G0S2</td>\n",
       "      <td>0.938037</td>\n",
       "      <td>0.963738</td>\n",
       "    </tr>\n",
       "    <tr>\n",
       "      <th>44</th>\n",
       "      <td>FAM89A</td>\n",
       "      <td>-0.012711</td>\n",
       "      <td>-0.024366</td>\n",
       "    </tr>\n",
       "    <tr>\n",
       "      <th>71</th>\n",
       "      <td>FN1</td>\n",
       "      <td>1.565450</td>\n",
       "      <td>1.368743</td>\n",
       "    </tr>\n",
       "    <tr>\n",
       "      <th>99</th>\n",
       "      <td>NMU</td>\n",
       "      <td>0.443965</td>\n",
       "      <td>0.443022</td>\n",
       "    </tr>\n",
       "    <tr>\n",
       "      <th>108</th>\n",
       "      <td>GYPA</td>\n",
       "      <td>0.132742</td>\n",
       "      <td>0.141289</td>\n",
       "    </tr>\n",
       "    <tr>\n",
       "      <th>116</th>\n",
       "      <td>HMGCS1</td>\n",
       "      <td>0.317073</td>\n",
       "      <td>0.440650</td>\n",
       "    </tr>\n",
       "    <tr>\n",
       "      <th>118</th>\n",
       "      <td>MEF2C</td>\n",
       "      <td>0.088346</td>\n",
       "      <td>0.096627</td>\n",
       "    </tr>\n",
       "    <tr>\n",
       "      <th>148</th>\n",
       "      <td>HIST1H2BK</td>\n",
       "      <td>0.174818</td>\n",
       "      <td>0.181724</td>\n",
       "    </tr>\n",
       "    <tr>\n",
       "      <th>184</th>\n",
       "      <td>NFE4</td>\n",
       "      <td>-0.134318</td>\n",
       "      <td>-0.138770</td>\n",
       "    </tr>\n",
       "    <tr>\n",
       "      <th>187</th>\n",
       "      <td>LINC00998</td>\n",
       "      <td>-0.130961</td>\n",
       "      <td>-0.145841</td>\n",
       "    </tr>\n",
       "    <tr>\n",
       "      <th>274</th>\n",
       "      <td>DDIT4</td>\n",
       "      <td>-0.184966</td>\n",
       "      <td>-0.195659</td>\n",
       "    </tr>\n",
       "    <tr>\n",
       "      <th>288</th>\n",
       "      <td>HBG1</td>\n",
       "      <td>0.399317</td>\n",
       "      <td>0.367441</td>\n",
       "    </tr>\n",
       "    <tr>\n",
       "      <th>289</th>\n",
       "      <td>HBG2</td>\n",
       "      <td>0.580217</td>\n",
       "      <td>0.553907</td>\n",
       "    </tr>\n",
       "    <tr>\n",
       "      <th>302</th>\n",
       "      <td>MS4A3</td>\n",
       "      <td>2.101096</td>\n",
       "      <td>1.949996</td>\n",
       "    </tr>\n",
       "    <tr>\n",
       "      <th>337</th>\n",
       "      <td>LYZ</td>\n",
       "      <td>2.999564</td>\n",
       "      <td>2.844715</td>\n",
       "    </tr>\n",
       "    <tr>\n",
       "      <th>340</th>\n",
       "      <td>SOCS2</td>\n",
       "      <td>0.108395</td>\n",
       "      <td>0.139201</td>\n",
       "    </tr>\n",
       "    <tr>\n",
       "      <th>346</th>\n",
       "      <td>UBC</td>\n",
       "      <td>-0.094373</td>\n",
       "      <td>-0.196851</td>\n",
       "    </tr>\n",
       "    <tr>\n",
       "      <th>357</th>\n",
       "      <td>RNASE1</td>\n",
       "      <td>0.115162</td>\n",
       "      <td>-0.007968</td>\n",
       "    </tr>\n",
       "    <tr>\n",
       "      <th>367</th>\n",
       "      <td>HSP90AA1</td>\n",
       "      <td>-0.025518</td>\n",
       "      <td>0.001114</td>\n",
       "    </tr>\n",
       "    <tr>\n",
       "      <th>379</th>\n",
       "      <td>HBZ</td>\n",
       "      <td>2.586037</td>\n",
       "      <td>2.591710</td>\n",
       "    </tr>\n",
       "    <tr>\n",
       "      <th>390</th>\n",
       "      <td>ACSM3</td>\n",
       "      <td>0.434352</td>\n",
       "      <td>0.461149</td>\n",
       "    </tr>\n",
       "    <tr>\n",
       "      <th>392</th>\n",
       "      <td>PRKCB</td>\n",
       "      <td>-0.269861</td>\n",
       "      <td>-0.287816</td>\n",
       "    </tr>\n",
       "    <tr>\n",
       "      <th>421</th>\n",
       "      <td>YES1</td>\n",
       "      <td>-0.088373</td>\n",
       "      <td>-0.040992</td>\n",
       "    </tr>\n",
       "    <tr>\n",
       "      <th>439</th>\n",
       "      <td>PPP1R14A</td>\n",
       "      <td>-0.257371</td>\n",
       "      <td>-0.294190</td>\n",
       "    </tr>\n",
       "    <tr>\n",
       "      <th>457</th>\n",
       "      <td>SAMSN1</td>\n",
       "      <td>0.002278</td>\n",
       "      <td>-0.013511</td>\n",
       "    </tr>\n",
       "    <tr>\n",
       "      <th>470</th>\n",
       "      <td>RPL8</td>\n",
       "      <td>-1.418556</td>\n",
       "      <td>-1.456059</td>\n",
       "    </tr>\n",
       "    <tr>\n",
       "      <th>474</th>\n",
       "      <td>RPS13</td>\n",
       "      <td>-1.333629</td>\n",
       "      <td>-1.346241</td>\n",
       "    </tr>\n",
       "    <tr>\n",
       "      <th>483</th>\n",
       "      <td>RPL19</td>\n",
       "      <td>-1.429133</td>\n",
       "      <td>-1.459789</td>\n",
       "    </tr>\n",
       "  </tbody>\n",
       "</table>\n",
       "</div>"
      ],
      "text/plain": [
       "          gene      KO_0      KO_1\n",
       "0        SMIM1  0.126938  0.154422\n",
       "2          ID3  2.920587  2.718396\n",
       "41        G0S2  0.938037  0.963738\n",
       "44      FAM89A -0.012711 -0.024366\n",
       "71         FN1  1.565450  1.368743\n",
       "99         NMU  0.443965  0.443022\n",
       "108       GYPA  0.132742  0.141289\n",
       "116     HMGCS1  0.317073  0.440650\n",
       "118      MEF2C  0.088346  0.096627\n",
       "148  HIST1H2BK  0.174818  0.181724\n",
       "184       NFE4 -0.134318 -0.138770\n",
       "187  LINC00998 -0.130961 -0.145841\n",
       "274      DDIT4 -0.184966 -0.195659\n",
       "288       HBG1  0.399317  0.367441\n",
       "289       HBG2  0.580217  0.553907\n",
       "302      MS4A3  2.101096  1.949996\n",
       "337        LYZ  2.999564  2.844715\n",
       "340      SOCS2  0.108395  0.139201\n",
       "346        UBC -0.094373 -0.196851\n",
       "357     RNASE1  0.115162 -0.007968\n",
       "367   HSP90AA1 -0.025518  0.001114\n",
       "379        HBZ  2.586037  2.591710\n",
       "390      ACSM3  0.434352  0.461149\n",
       "392      PRKCB -0.269861 -0.287816\n",
       "421       YES1 -0.088373 -0.040992\n",
       "439   PPP1R14A -0.257371 -0.294190\n",
       "457     SAMSN1  0.002278 -0.013511\n",
       "470       RPL8 -1.418556 -1.456059\n",
       "474      RPS13 -1.333629 -1.346241\n",
       "483      RPL19 -1.429133 -1.459789"
      ]
     },
     "execution_count": 106,
     "metadata": {},
     "output_type": "execute_result"
    }
   ],
   "source": [
    "moment_df[1].query('gene in @dv_genes').head(50)"
   ]
  },
  {
   "cell_type": "code",
   "execution_count": null,
   "metadata": {},
   "outputs": [],
   "source": []
  },
  {
   "cell_type": "code",
   "execution_count": 45,
   "metadata": {},
   "outputs": [],
   "source": [
    "guide_df = memento.get_1d_ht_result(subset)"
   ]
  },
  {
   "cell_type": "code",
   "execution_count": 49,
   "metadata": {},
   "outputs": [],
   "source": [
    "guide_df['de_fdr'] = memento.util._fdrcorrect(guide_df['de_pval'])\n",
    "guide_df['dv_fdr'] = memento.util._fdrcorrect(guide_df['dv_pval'])"
   ]
  },
  {
   "cell_type": "code",
   "execution_count": 50,
   "metadata": {},
   "outputs": [
    {
     "data": {
      "text/html": [
       "<div>\n",
       "<style scoped>\n",
       "    .dataframe tbody tr th:only-of-type {\n",
       "        vertical-align: middle;\n",
       "    }\n",
       "\n",
       "    .dataframe tbody tr th {\n",
       "        vertical-align: top;\n",
       "    }\n",
       "\n",
       "    .dataframe thead th {\n",
       "        text-align: right;\n",
       "    }\n",
       "</style>\n",
       "<table border=\"1\" class=\"dataframe\">\n",
       "  <thead>\n",
       "    <tr style=\"text-align: right;\">\n",
       "      <th></th>\n",
       "      <th>gene</th>\n",
       "      <th>de_coef</th>\n",
       "      <th>de_se</th>\n",
       "      <th>de_pval</th>\n",
       "      <th>dv_coef</th>\n",
       "      <th>dv_se</th>\n",
       "      <th>dv_pval</th>\n",
       "      <th>de_fdr</th>\n",
       "      <th>dv_fdr</th>\n",
       "    </tr>\n",
       "  </thead>\n",
       "  <tbody>\n",
       "    <tr>\n",
       "      <th>74</th>\n",
       "      <td>FN1</td>\n",
       "      <td>-0.462806</td>\n",
       "      <td>0.107527</td>\n",
       "      <td>0.000226</td>\n",
       "      <td>-1.839776</td>\n",
       "      <td>0.289305</td>\n",
       "      <td>0.000088</td>\n",
       "      <td>0.068673</td>\n",
       "      <td>0.037803</td>\n",
       "    </tr>\n",
       "    <tr>\n",
       "      <th>353</th>\n",
       "      <td>LYZ</td>\n",
       "      <td>-0.390178</td>\n",
       "      <td>0.130690</td>\n",
       "      <td>0.002700</td>\n",
       "      <td>-1.559115</td>\n",
       "      <td>0.330854</td>\n",
       "      <td>0.000145</td>\n",
       "      <td>0.235326</td>\n",
       "      <td>0.037803</td>\n",
       "    </tr>\n",
       "  </tbody>\n",
       "</table>\n",
       "</div>"
      ],
      "text/plain": [
       "    gene   de_coef     de_se   de_pval   dv_coef     dv_se   dv_pval  \\\n",
       "74   FN1 -0.462806  0.107527  0.000226 -1.839776  0.289305  0.000088   \n",
       "353  LYZ -0.390178  0.130690  0.002700 -1.559115  0.330854  0.000145   \n",
       "\n",
       "       de_fdr    dv_fdr  \n",
       "74   0.068673  0.037803  \n",
       "353  0.235326  0.037803  "
      ]
     },
     "execution_count": 50,
     "metadata": {},
     "output_type": "execute_result"
    }
   ],
   "source": [
    "guide_df.query('dv_fdr < 0.1')"
   ]
  },
  {
   "cell_type": "code",
   "execution_count": null,
   "metadata": {},
   "outputs": [],
   "source": [
    "for g, result in result_1d_dict.items():\n",
    "    \n",
    "    result.to_csv(data_path + '/result_1d/{}.csv'.format(g), index=False)"
   ]
  },
  {
   "cell_type": "markdown",
   "metadata": {},
   "source": [
    "### Get 1D results"
   ]
  },
  {
   "cell_type": "code",
   "execution_count": null,
   "metadata": {},
   "outputs": [],
   "source": [
    "result_1d_dict = {g:pd.read_csv(data_path + '/result_1d/{}.csv'.format(g)) for g in guides if ('INTER' not in g and 'nan' not in g)}"
   ]
  },
  {
   "cell_type": "code",
   "execution_count": null,
   "metadata": {},
   "outputs": [],
   "source": [
    "g = 'p_sgGABPA_9'\n",
    "df = result_1d_dict[g]\n",
    "df.query('de_fdr < 0.1 | dv_fdr < 0.1')"
   ]
  },
  {
   "cell_type": "code",
   "execution_count": null,
   "metadata": {},
   "outputs": [],
   "source": [
    "for g in guides:\n",
    "    \n",
    "    df = result_1d_dict[g]\n",
    "    df['de_fdr'] = memento.util._fdrcorrect(df['de_pval'])\n",
    "    df['dv_fdr'] = memento.util._fdrcorrect(df['dv_pval'])\n",
    "    \n",
    "    print(g, df.query('de_fdr < 0.15').shape[0], df.query('dv_fdr < 0.15').shape[0])"
   ]
  },
  {
   "cell_type": "markdown",
   "metadata": {},
   "source": [
    "### DV shift plots"
   ]
  },
  {
   "cell_type": "code",
   "execution_count": null,
   "metadata": {},
   "outputs": [],
   "source": [
    "for g in guides:\n",
    "    df = result_1d_dict[g]\n",
    "    plt.figure()\n",
    "    sns.kdeplot(df['dv_coef']);\n",
    "    plt.plot([0, 0], [0, 2])\n",
    "    plt.title(g)\n",
    "    plt.xlim(-2, 2)\n",
    "    "
   ]
  },
  {
   "cell_type": "markdown",
   "metadata": {},
   "source": [
    "### within WT"
   ]
  },
  {
   "cell_type": "code",
   "execution_count": null,
   "metadata": {},
   "outputs": [],
   "source": [
    "adata[adata.obs.WT].obs.guides.value_counts()"
   ]
  },
  {
   "cell_type": "code",
   "execution_count": null,
   "metadata": {},
   "outputs": [],
   "source": [
    "subset = adata[(adata.obs.guides=='p_INTERGENIC393453') | (adata.obs.guides=='p_INTERGENIC216151') ].copy().copy()\n",
    "\n",
    "memento.create_groups(subset, label_columns=['guides'])\n",
    "memento.compute_1d_moments(subset, min_perc_group=.9)\n",
    "\n",
    "memento.ht_1d_moments(\n",
    "    subset, \n",
    "    formula_like='1 + guides',\n",
    "    cov_column='guides', \n",
    "    num_boot=10000, \n",
    "    verbose=1,\n",
    "    num_cpus=14)\n",
    "\n",
    "wt_result = memento.get_1d_ht_result(subset)"
   ]
  },
  {
   "cell_type": "code",
   "execution_count": null,
   "metadata": {},
   "outputs": [],
   "source": [
    "sns.kdeplot(wt_result.dv_coef)\n",
    "plt.title('WT')\n",
    "plt.plot([0, 0], [0, 2])"
   ]
  },
  {
   "cell_type": "code",
   "execution_count": null,
   "metadata": {},
   "outputs": [],
   "source": []
  },
  {
   "cell_type": "markdown",
   "metadata": {},
   "source": [
    "### Get the change in magnitude for each guide"
   ]
  },
  {
   "cell_type": "code",
   "execution_count": null,
   "metadata": {},
   "outputs": [],
   "source": []
  },
  {
   "cell_type": "code",
   "execution_count": null,
   "metadata": {},
   "outputs": [],
   "source": [
    "coef_mag = []\n",
    "for g, df in result_1d_dict.items():\n",
    "    coef_mag.append((g, df['de_coef'].abs().median()))\n",
    "coef_mag = pd.DataFrame(coef_mag, columns=['guide', 'de_mag'])\n",
    "coef_mag['gene'] = coef_mag['guide'].str.split('_').str[1].str[2:]"
   ]
  },
  {
   "cell_type": "markdown",
   "metadata": {},
   "source": [
    "### Get WT variability of each TF"
   ]
  },
  {
   "cell_type": "code",
   "execution_count": null,
   "metadata": {},
   "outputs": [],
   "source": [
    "wt_adata = adata[adata.obs['WT']].copy().copy()"
   ]
  },
  {
   "cell_type": "code",
   "execution_count": null,
   "metadata": {},
   "outputs": [],
   "source": [
    "tfs = adata.obs.query('KO==1').KO_GENE.drop_duplicates().tolist()"
   ]
  },
  {
   "cell_type": "code",
   "execution_count": null,
   "metadata": {},
   "outputs": [],
   "source": [
    "memento.create_groups(wt_adata, label_columns=['KO'])\n",
    "memento.compute_1d_moments(wt_adata, min_perc_group=.9,)"
   ]
  },
  {
   "cell_type": "code",
   "execution_count": null,
   "metadata": {},
   "outputs": [],
   "source": [
    "tf_moments = memento.get_1d_moments(wt_adata, groupby='KO')"
   ]
  },
  {
   "cell_type": "markdown",
   "metadata": {},
   "source": [
    "### Compare WT variability to De mag"
   ]
  },
  {
   "cell_type": "code",
   "execution_count": null,
   "metadata": {},
   "outputs": [],
   "source": [
    "merged = coef_mag.merge(tf_moments[1], on='gene')"
   ]
  },
  {
   "cell_type": "code",
   "execution_count": null,
   "metadata": {},
   "outputs": [],
   "source": [
    "stats.spearmanr(merged['de_mag'], merged['KO_0'])"
   ]
  },
  {
   "cell_type": "code",
   "execution_count": null,
   "metadata": {},
   "outputs": [],
   "source": [
    "plt.scatter(merged['de_mag'], merged['KO_0'])"
   ]
  },
  {
   "cell_type": "markdown",
   "metadata": {},
   "source": [
    "### Number of TF binding sites within 5k(?) KB\n"
   ]
  },
  {
   "cell_type": "code",
   "execution_count": null,
   "metadata": {},
   "outputs": [],
   "source": [
    "enc = encode.Encode('/home/ssm-user/Github/misc-seq/miscseq/GRCh38Genes.bed')"
   ]
  },
  {
   "cell_type": "code",
   "execution_count": null,
   "metadata": {},
   "outputs": [],
   "source": [
    "encode_links = {\n",
    "    'ELK1':'https://www.encodeproject.org/files/ENCFF119SCQ/@@download/ENCFF119SCQ.bed.gz',\n",
    "    'ELF1':'https://www.encodeproject.org/files/ENCFF133TSU/@@download/ENCFF133TSU.bed.gz',\n",
    "    'IRF1':'https://www.encodeproject.org/files/ENCFF203LRV/@@download/ENCFF203LRV.bed.gz',\n",
    "    'ETS1':'https://www.encodeproject.org/files/ENCFF461PRP/@@download/ENCFF461PRP.bed.gz',\n",
    "    'EGR1':'https://www.encodeproject.org/files/ENCFF375RDB/@@download/ENCFF375RDB.bed.gz',\n",
    "    'YY1':'https://www.encodeproject.org/files/ENCFF635XCI/@@download/ENCFF635XCI.bed.gz',\n",
    "    'GABPA':'https://www.encodeproject.org/files/ENCFF173GUD/@@download/ENCFF173GUD.bed.gz',\n",
    "    'E2F4':'https://www.encodeproject.org/files/ENCFF225TLP/@@download/ENCFF225TLP.bed.gz',\n",
    "    'NR2C2':'https://www.encodeproject.org/files/ENCFF263VIC/@@download/ENCFF263VIC.bed.gz',\n",
    "    'CREB1':'https://www.encodeproject.org/files/ENCFF193LLN/@@download/ENCFF193LLN.bed.gz'\n",
    "}"
   ]
  },
  {
   "cell_type": "code",
   "execution_count": null,
   "metadata": {},
   "outputs": [],
   "source": [
    "bed_objs = {tf:enc.get_encode_peaks(link) for tf,link in encode_links.items()}"
   ]
  },
  {
   "cell_type": "code",
   "execution_count": null,
   "metadata": {},
   "outputs": [],
   "source": [
    "target_genes = {tf:enc.get_peak_genes_bed(bed_obj, 0).query('distance==0').gene.tolist() for tf, bed_obj in bed_objs.items()}"
   ]
  },
  {
   "cell_type": "code",
   "execution_count": null,
   "metadata": {},
   "outputs": [],
   "source": [
    "x = wt_adata[:, 'EGR1'].X.todense().A1"
   ]
  },
  {
   "cell_type": "code",
   "execution_count": null,
   "metadata": {},
   "outputs": [],
   "source": [
    "np.bincount(x.astype(int))"
   ]
  },
  {
   "cell_type": "code",
   "execution_count": null,
   "metadata": {},
   "outputs": [],
   "source": [
    "x.mean()"
   ]
  },
  {
   "cell_type": "code",
   "execution_count": null,
   "metadata": {},
   "outputs": [],
   "source": [
    "plt.hist(x, bins=20)"
   ]
  },
  {
   "cell_type": "code",
   "execution_count": null,
   "metadata": {},
   "outputs": [],
   "source": [
    "target_numbers = []\n",
    "for tf in encode_links.keys():\n",
    "    target_numbers.append((tf, len(target_genes[tf])))\n",
    "target_numbers = pd.DataFrame(target_numbers, columns=['gene', 'num_targets'])"
   ]
  },
  {
   "cell_type": "code",
   "execution_count": null,
   "metadata": {},
   "outputs": [],
   "source": [
    "merged = target_numbers.merge(tf_moments[1], on='gene')"
   ]
  },
  {
   "cell_type": "code",
   "execution_count": null,
   "metadata": {},
   "outputs": [],
   "source": [
    "stats.pearsonr(merged.query('gene != \"EGR1\"')['num_targets'], merged.query('gene != \"EGR1\"')['KO_0'])"
   ]
  },
  {
   "cell_type": "code",
   "execution_count": null,
   "metadata": {},
   "outputs": [],
   "source": [
    "plt.scatter(merged['num_targets'], merged['KO_0'])"
   ]
  },
  {
   "cell_type": "markdown",
   "metadata": {},
   "source": [
    "### Try with all ENCODE"
   ]
  },
  {
   "cell_type": "code",
   "execution_count": null,
   "metadata": {},
   "outputs": [],
   "source": [
    "merged"
   ]
  },
  {
   "cell_type": "code",
   "execution_count": null,
   "metadata": {},
   "outputs": [],
   "source": [
    "all_encode = pd.read_csv('gene_attribute_matrix.txt', sep='\\t', index_col=0, low_memory=False).iloc[2:, 2:].astype(float)"
   ]
  },
  {
   "cell_type": "code",
   "execution_count": null,
   "metadata": {},
   "outputs": [],
   "source": [
    "target_counts = pd.DataFrame(all_encode.sum(axis=0), columns=['num_targets']).reset_index().rename(columns={'index':'gene'})"
   ]
  },
  {
   "cell_type": "code",
   "execution_count": null,
   "metadata": {},
   "outputs": [],
   "source": [
    "x = target_counts.query('gene in @tfs').sort_values('gene')['num_targets']\n",
    "y = merged.sort_values('gene')['num_targets']"
   ]
  },
  {
   "cell_type": "code",
   "execution_count": null,
   "metadata": {},
   "outputs": [],
   "source": [
    "merged2 = target_counts.merge(tf_moments[1], on='gene')"
   ]
  },
  {
   "cell_type": "code",
   "execution_count": null,
   "metadata": {},
   "outputs": [],
   "source": [
    "plt.scatter(merged2['num_targets'], merged2['KO_0'])"
   ]
  },
  {
   "cell_type": "code",
   "execution_count": null,
   "metadata": {},
   "outputs": [],
   "source": [
    "merged2"
   ]
  },
  {
   "cell_type": "markdown",
   "metadata": {},
   "source": [
    "### Get gene list"
   ]
  },
  {
   "cell_type": "code",
   "execution_count": null,
   "metadata": {},
   "outputs": [],
   "source": [
    "wt_adata = adata[adata.obs['WT']].copy().copy()"
   ]
  },
  {
   "cell_type": "code",
   "execution_count": null,
   "metadata": {},
   "outputs": [],
   "source": [
    "memento.create_groups(wt_adata, label_columns=['KO'])\n",
    "memento.compute_1d_moments(wt_adata, min_perc_group=.9)"
   ]
  },
  {
   "cell_type": "code",
   "execution_count": null,
   "metadata": {},
   "outputs": [],
   "source": [
    "plt.hist(np.log(wt_adata.uns['memento']['1d_moments']['sg^0'][0]))"
   ]
  },
  {
   "cell_type": "code",
   "execution_count": null,
   "metadata": {},
   "outputs": [],
   "source": [
    "wt_high_genes = wt_adata.var.index[np.log(wt_adata.uns['memento']['1d_moments']['sg^0'][0]) > -1].tolist()"
   ]
  },
  {
   "cell_type": "code",
   "execution_count": null,
   "metadata": {},
   "outputs": [],
   "source": []
  },
  {
   "cell_type": "markdown",
   "metadata": {},
   "source": [
    "### Create labels for X genes"
   ]
  },
  {
   "cell_type": "code",
   "execution_count": null,
   "metadata": {},
   "outputs": [],
   "source": [
    "chr_locations = pd.read_csv('chr_locations.bed', sep='\\t').rename(columns={'#chrom':'chr'}).drop_duplicates('geneName')"
   ]
  },
  {
   "cell_type": "code",
   "execution_count": null,
   "metadata": {},
   "outputs": [],
   "source": [
    "chr_locations.index=chr_locations.geneName"
   ]
  },
  {
   "cell_type": "code",
   "execution_count": null,
   "metadata": {},
   "outputs": [],
   "source": [
    "adata.var = adata.var.join(chr_locations, how='left')"
   ]
  },
  {
   "cell_type": "markdown",
   "metadata": {},
   "source": [
    "### Filter X-chromosomal genes"
   ]
  },
  {
   "cell_type": "code",
   "execution_count": null,
   "metadata": {},
   "outputs": [],
   "source": [
    "adata_X = adata[:, (adata.var.chr=='chrX') | adata.var.chr.isin(['chr1', 'chr2', 'chr3'])].copy()"
   ]
  },
  {
   "cell_type": "code",
   "execution_count": null,
   "metadata": {},
   "outputs": [],
   "source": [
    "adata_X"
   ]
  },
  {
   "cell_type": "markdown",
   "metadata": {},
   "source": [
    "### Escape genes"
   ]
  },
  {
   "cell_type": "code",
   "execution_count": null,
   "metadata": {},
   "outputs": [],
   "source": [
    "par_genes = \"\"\"PLCXD1 GTPBP6 PPP2R3B SHOX CRLF2 CSF2RA IL3RA SLC25A6 ASMTL P2RY8 ASMT DHRSXY ZBED1 CD99 XG IL9R SPRY3 VAMP7\"\"\".split()"
   ]
  },
  {
   "cell_type": "code",
   "execution_count": null,
   "metadata": {},
   "outputs": [],
   "source": [
    "escape_genes = \"\"\"EIF1AX\n",
    "USP9X\n",
    "EIF2S3\n",
    "CTPS2\n",
    "TRAPPC2\n",
    "HDHD1\n",
    "ZFX\n",
    "DDX3X\n",
    "RAB9A\n",
    "AP1S2\n",
    "GEMIN8\n",
    "RPS4X\n",
    "SMC1A\n",
    "ZRSR2\n",
    "STS\n",
    "FUNDC1\n",
    "PNPLA4\n",
    "UBA1\n",
    "ARSD\n",
    "NLGN4X\n",
    "GPM6B\n",
    "MED14\n",
    "CD99\n",
    "RBBP7\n",
    "SYAP1\n",
    "PRKX\n",
    "OFD1\n",
    "CXorf38\n",
    "TXLNG\n",
    "KDM5C\n",
    "GYG2\n",
    "TBL1X\n",
    "CA5B\n",
    "XIST\n",
    "RENBP\n",
    "HCFC1\n",
    "USP11\n",
    "PLCXD1\n",
    "SLC25A6\n",
    "ASMTL\n",
    "DHRSX\n",
    "XG\n",
    "TMEM27\n",
    "ARHGAP4\n",
    "GAB3\n",
    "PIR\n",
    "TMEM187\n",
    "DOCK11\n",
    "EFHC2\n",
    "RIBC1\n",
    "NAP1L3\n",
    "CA5BP1\n",
    "MXRA5\n",
    "KAL1\n",
    "PCDH11X\n",
    "KDM6A\n",
    "PLS3\n",
    "CITED1\n",
    "L1CAM\n",
    "ALG13\n",
    "BCOR\"\"\".split()"
   ]
  },
  {
   "cell_type": "markdown",
   "metadata": {},
   "source": [
    "### Run 1d memento"
   ]
  },
  {
   "cell_type": "code",
   "execution_count": null,
   "metadata": {},
   "outputs": [],
   "source": [
    "adata_X.obs['is_female'] = (adata_X.obs['Sex'] == 'Female').astype(int)"
   ]
  },
  {
   "cell_type": "code",
   "execution_count": null,
   "metadata": {},
   "outputs": [],
   "source": [
    "adata_X.obs.is_female.value_counts()"
   ]
  },
  {
   "cell_type": "code",
   "execution_count": null,
   "metadata": {},
   "outputs": [],
   "source": [
    "memento.create_groups(adata_X, label_columns=['is_female', 'ind_cov'])\n",
    "memento.compute_1d_moments(adata_X, min_perc_group=.9)"
   ]
  },
  {
   "cell_type": "code",
   "execution_count": null,
   "metadata": {},
   "outputs": [],
   "source": [
    "memento.ht_1d_moments(\n",
    "    adata_X, \n",
    "    formula_like='1 + is_female',\n",
    "    cov_column='is_female', \n",
    "    num_boot=20000, \n",
    "    verbose=1,\n",
    "    num_cpus=13)"
   ]
  },
  {
   "cell_type": "code",
   "execution_count": null,
   "metadata": {},
   "outputs": [],
   "source": [
    "result_1d = memento.get_1d_ht_result(adata_X)"
   ]
  },
  {
   "cell_type": "code",
   "execution_count": null,
   "metadata": {},
   "outputs": [],
   "source": [
    "result_1d['dv_fdr'] = memento.util._fdrcorrect(result_1d['dv_pval'])"
   ]
  },
  {
   "cell_type": "code",
   "execution_count": null,
   "metadata": {},
   "outputs": [],
   "source": [
    "sns.distplot(result_1d.dv_coef)"
   ]
  },
  {
   "cell_type": "code",
   "execution_count": null,
   "metadata": {},
   "outputs": [],
   "source": [
    "x_chr_genes = adata.var.index[adata.var.chr=='chrX'].tolist()"
   ]
  },
  {
   "cell_type": "code",
   "execution_count": null,
   "metadata": {},
   "outputs": [],
   "source": [
    "result_1d['escape'] = result_1d['gene'].isin(escape_genes)\n",
    "result_1d['par'] = result_1d['gene'].isin(par_genes)\n",
    "result_1d['x_chr'] = result_1d['gene'].isin(x_chr_genes)"
   ]
  },
  {
   "cell_type": "code",
   "execution_count": null,
   "metadata": {},
   "outputs": [],
   "source": [
    "sns.distplot(result_1d.query('~x_chr').dv_coef)\n",
    "sns.distplot(result_1d.query('x_chr').dv_coef)\n"
   ]
  },
  {
   "cell_type": "code",
   "execution_count": null,
   "metadata": {},
   "outputs": [],
   "source": [
    "sns.boxplot(x='x_chr', y='dv_coef', data=result_1d)"
   ]
  },
  {
   "cell_type": "code",
   "execution_count": null,
   "metadata": {},
   "outputs": [],
   "source": [
    "dv_genes = result_1d.query('dv_fdr < 0.1').gene.tolist()"
   ]
  },
  {
   "cell_type": "code",
   "execution_count": null,
   "metadata": {},
   "outputs": [],
   "source": [
    "result_1d['dv'] = result_1d.gene.isin(dv_genes)"
   ]
  },
  {
   "cell_type": "code",
   "execution_count": null,
   "metadata": {},
   "outputs": [],
   "source": [
    "result_1d.query('~dv & ~x_chr & dv_coef > 0').shape"
   ]
  },
  {
   "cell_type": "code",
   "execution_count": null,
   "metadata": {},
   "outputs": [],
   "source": [
    "a = [[193, 14],\n",
    " [23,5]]"
   ]
  },
  {
   "cell_type": "code",
   "execution_count": null,
   "metadata": {},
   "outputs": [],
   "source": [
    "stats.chi2_contingency(a)"
   ]
  },
  {
   "cell_type": "code",
   "execution_count": null,
   "metadata": {},
   "outputs": [],
   "source": [
    "result_1d.query('dv_fdr < 0.1').x_chr.mean()"
   ]
  },
  {
   "cell_type": "code",
   "execution_count": null,
   "metadata": {},
   "outputs": [],
   "source": [
    "result_1d.x_chr.mean()"
   ]
  },
  {
   "cell_type": "markdown",
   "metadata": {},
   "source": [
    "### Run memento for each subset, comparing to control"
   ]
  },
  {
   "cell_type": "code",
   "execution_count": null,
   "metadata": {},
   "outputs": [],
   "source": [
    "cts = [['ciliated'], ['bc','basal']]\n",
    "# tps = ['3', '6', '9', '24', '48']\n",
    "tps = ['3', '6', '9', '24', '48']\n",
    "\n",
    "stims = ['alpha', 'beta', 'gamma', 'lambda']"
   ]
  },
  {
   "cell_type": "code",
   "execution_count": null,
   "metadata": {},
   "outputs": [],
   "source": [
    "import os\n",
    "done_files = os.listdir('/data_volume/ifn_hbec/binary_test_deep/')"
   ]
  },
  {
   "cell_type": "code",
   "execution_count": null,
   "metadata": {},
   "outputs": [],
   "source": [
    "for ct in cts:\n",
    "    for tp in tps:\n",
    "        for stim in stims:\n",
    "            \n",
    "            fname = '{}_{}_{}_20200320.h5ad'.format('-'.join(ct), stim, tp)\n",
    "            \n",
    "            if fname in done_files:\n",
    "                print('Skipping', fname)\n",
    "                continue\n",
    "\n",
    "            print('starting', ct, tp, stim)\n",
    "\n",
    "            adata_stim = adata.copy()[\n",
    "                adata.obs.cell_type.isin(ct) & \\\n",
    "                adata.obs.stim.isin(['control', stim]) & \\\n",
    "                adata.obs.time.isin(['0',tp]), :].copy()\n",
    "            time_converter={0:0, int(tp):1}\n",
    "            adata_stim.obs['time_step'] = adata_stim.obs['time'].astype(int).apply(lambda x: time_converter[x])\n",
    "\n",
    "            memento.create_groups(adata_stim, label_columns=['time_step', 'donor'])\n",
    "            memento.compute_1d_moments(adata_stim, min_perc_group=.9)\n",
    "\n",
    "            memento.ht_1d_moments(\n",
    "                adata_stim, \n",
    "                formula_like='1 + time_step',\n",
    "                cov_column='time_step', \n",
    "                num_boot=10000, \n",
    "                verbose=1,\n",
    "                num_cpus=13)\n",
    "\n",
    "            del adata_stim.uns['memento']['mv_regressor']\n",
    "\n",
    "            adata_stim.write('/data_volume/ifn_hbec/binary_test_deep/{}_{}_{}_20200320.h5ad'.format(\n",
    "                '-'.join(ct), stim, tp))"
   ]
  },
  {
   "cell_type": "code",
   "execution_count": null,
   "metadata": {},
   "outputs": [],
   "source": []
  }
 ],
 "metadata": {
  "kernelspec": {
   "display_name": "Python 3",
   "language": "python",
   "name": "python3"
  },
  "language_info": {
   "codemirror_mode": {
    "name": "ipython",
    "version": 3
   },
   "file_extension": ".py",
   "mimetype": "text/x-python",
   "name": "python",
   "nbconvert_exporter": "python",
   "pygments_lexer": "ipython3",
   "version": "3.8.8"
  }
 },
 "nbformat": 4,
 "nbformat_minor": 4
}
