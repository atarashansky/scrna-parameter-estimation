{
 "cells": [
  {
   "cell_type": "markdown",
   "metadata": {},
   "source": [
    "# Correlation analysis for IFN-B response\n",
    "\n",
    "Demonstrating differential expression between cell types and the effect of interferon stimulation within a cell type (CD4 T cells)."
   ]
  },
  {
   "cell_type": "code",
   "execution_count": null,
   "metadata": {},
   "outputs": [],
   "source": [
    "import pandas as pd\n",
    "import matplotlib.pyplot as plt\n",
    "import scanpy as sc\n",
    "import scipy as sp\n",
    "import itertools\n",
    "import numpy as np\n",
    "import scipy.stats as stats\n",
    "from scipy.integrate import dblquad\n",
    "import seaborn as sns\n",
    "from statsmodels.stats.multitest import fdrcorrection\n",
    "import imp\n",
    "pd.options.display.max_rows = 999\n",
    "pd.set_option('display.max_colwidth', -1)\n",
    "import pickle as pkl\n",
    "import time\n",
    "import collections\n",
    "import gseapy\n",
    "from matplotlib.colors import ListedColormap"
   ]
  },
  {
   "cell_type": "code",
   "execution_count": null,
   "metadata": {},
   "outputs": [],
   "source": [
    "%matplotlib inline"
   ]
  },
  {
   "cell_type": "code",
   "execution_count": null,
   "metadata": {},
   "outputs": [],
   "source": [
    "import matplotlib.pylab as pylab\n",
    "params = {'legend.fontsize': 'medium',\n",
    "         'axes.labelsize': 'medium',\n",
    "         'axes.titlesize':'medium',\n",
    "         'figure.titlesize':'medium',\n",
    "         'xtick.labelsize':'small',\n",
    "         'ytick.labelsize':'small'}\n",
    "pylab.rcParams.update(params)\n"
   ]
  },
  {
   "cell_type": "code",
   "execution_count": null,
   "metadata": {},
   "outputs": [],
   "source": [
    "import matplotlib\n",
    "matplotlib.rcParams['pdf.fonttype'] = 42\n",
    "matplotlib.rcParams['ps.fonttype'] = 42"
   ]
  },
  {
   "cell_type": "code",
   "execution_count": null,
   "metadata": {},
   "outputs": [],
   "source": [
    "import warnings\n",
    "# warnings.filterwarnings('ignore')"
   ]
  },
  {
   "cell_type": "code",
   "execution_count": null,
   "metadata": {},
   "outputs": [],
   "source": [
    "from sklearn.decomposition import PCA"
   ]
  },
  {
   "cell_type": "code",
   "execution_count": null,
   "metadata": {},
   "outputs": [],
   "source": [
    "from sklearn.preprocessing import StandardScaler"
   ]
  },
  {
   "cell_type": "code",
   "execution_count": null,
   "metadata": {},
   "outputs": [],
   "source": [
    "import sys\n",
    "sys.path.append('/data/home/Github/scrna-parameter-estimation/schypo')\n",
    "import estimator, simulate, schypo, bootstrap, util, hypothesis_test"
   ]
  },
  {
   "cell_type": "code",
   "execution_count": null,
   "metadata": {},
   "outputs": [],
   "source": [
    "fig_path = '/data/home/Github/scrna-parameter-estimation/figures/fig5/'\n",
    "data_path = '/data/parameter_estimation/'"
   ]
  },
  {
   "cell_type": "markdown",
   "metadata": {},
   "source": [
    "### Load the data"
   ]
  },
  {
   "cell_type": "code",
   "execution_count": null,
   "metadata": {},
   "outputs": [],
   "source": [
    "cts = ['CD4 T cells',  'CD14+ Monocytes', 'FCGR3A+ Monocytes', 'NK cells','CD8 T cells', 'B cells']\n",
    "label_converter = dict(zip(cts, ['Th', 'cM', 'ncM', 'NK', 'Tc', 'B']))"
   ]
  },
  {
   "cell_type": "code",
   "execution_count": null,
   "metadata": {},
   "outputs": [],
   "source": [
    "def simplify_name(name):\n",
    "    return name.split('.')[0]"
   ]
  },
  {
   "cell_type": "code",
   "execution_count": null,
   "metadata": {},
   "outputs": [],
   "source": [
    "adata = sc.read(data_path + 'interferon_filtered.h5ad')\n"
   ]
  },
  {
   "cell_type": "raw",
   "metadata": {},
   "source": [
    "adata = sc.read(data_path + 'interferon.h5ad')\n",
    "adata = adata[(adata.obs.multiplets == 'singlet') & (adata.obs.cell != 'nan'), :].copy()\n",
    "\n",
    "adata.var['mt'] = adata.var_names.str.startswith('MT-')  # annotate the group of mitochondrial genes as 'mt'\n",
    "adata.var['hb'] = adata.var_names.isin(['HBB', 'HBG1', 'HBG2', 'HBE1', 'HBZ', 'HBM', 'HBA2', 'HBA1', 'HBQ1'])  # annotate the group of mitochondrial genes as 'mt'\n",
    "\n",
    "sc.pp.calculate_qc_metrics(adata, qc_vars=['mt', 'hb'], percent_top=None, inplace=True)\n",
    "\n",
    "adata = adata[adata.obs.pct_counts_mt < 5, :]\n",
    "adata = adata[adata.obs.pct_counts_hb < 5, :]\n",
    "\n",
    "\n",
    "adata.X = adata.X.astype(np.int64)\n",
    "adata.write(data_path + 'interferon_filtered.h5ad')\n",
    "\n",
    "adata.obs['cell_type'] = (adata.obs['cell'].astype(str) + ' - ' + adata.obs['stim'].astype(str)).astype('category')"
   ]
  },
  {
   "cell_type": "code",
   "execution_count": null,
   "metadata": {},
   "outputs": [],
   "source": [
    "sc.pl.tsne(adata, color='cell_type')"
   ]
  },
  {
   "cell_type": "code",
   "execution_count": null,
   "metadata": {},
   "outputs": [],
   "source": [
    "# plt.figure(figsize=(5, 3))\n",
    "# sns.boxplot(x='n_counts', y='cell_type', data=adata.obs)\n",
    "# plt.title('Total UMI counts by cell type')\n",
    "# plt.savefig('celltype_numi.pdf')\n",
    "# plt.savefig('celltype_numi.png')"
   ]
  },
  {
   "cell_type": "code",
   "execution_count": null,
   "metadata": {},
   "outputs": [],
   "source": [
    "print('Number of genes kept:', adata.shape[1])"
   ]
  },
  {
   "cell_type": "code",
   "execution_count": null,
   "metadata": {},
   "outputs": [],
   "source": [
    "with open(data_path + 'all_highcount_tfs.pkl', 'rb') as f:\n",
    "\ttfs = pkl.load(f)"
   ]
  },
  {
   "cell_type": "code",
   "execution_count": null,
   "metadata": {},
   "outputs": [],
   "source": [
    "tf_df = pd.read_csv('attribute_list_entries.txt', sep='\\t')\n",
    "tfs = tf_df['GeneSym'].tolist()"
   ]
  },
  {
   "cell_type": "code",
   "execution_count": null,
   "metadata": {},
   "outputs": [],
   "source": [
    "tf_df = pd.read_csv('DatabaseExtract_v_1.01.csv', index_col=0)\n",
    "tf_df = tf_df[tf_df['TF assessment'] == 'Known motif']\n",
    "tfs = tf_df['HGNC symbol'].tolist()"
   ]
  },
  {
   "cell_type": "markdown",
   "metadata": {},
   "source": [
    "### Read the transcriptome wide IFN result"
   ]
  },
  {
   "cell_type": "code",
   "execution_count": null,
   "metadata": {},
   "outputs": [],
   "source": [
    "adata_ct =  adata[adata.obs.cell == 'CD14+ Monocytes'].copy()\n",
    "\n",
    "schypo.create_groups(adata_ct, label_columns=['stim', 'ind'], inplace=True, q=0.07)\n",
    "\n",
    "schypo.compute_1d_moments(\n",
    "    adata_ct, inplace=True, filter_genes=True, \n",
    "    residual_var=True,filter_mean_thresh=0.00, \n",
    "    min_perc_group=0.99)\n",
    "\n",
    "target_genes = adata_ct.var.index.tolist()\n",
    "\n",
    "schypo.compute_2d_moments(\n",
    "    adata_ct, \n",
    "    target_genes, \n",
    "    target_genes)"
   ]
  },
  {
   "cell_type": "code",
   "execution_count": null,
   "metadata": {},
   "outputs": [],
   "source": [
    "adata_ct.uns['schypo']['2d_ht'] = {\n",
    "    'corr_asl':np.zeros((len(target_genes), len(target_genes))),\n",
    "    'corr_coef':np.zeros((len(target_genes), len(target_genes))),\n",
    "}"
   ]
  },
  {
   "cell_type": "code",
   "execution_count": null,
   "metadata": {},
   "outputs": [],
   "source": [
    "genes_per_batch = 20\n",
    "for batch in range(int(len(target_genes)/genes_per_batch)+1):\n",
    "    \n",
    "    adata_chunk = sc.read(data_path + 'result_2d/mono_ifn/{}.h5ad'.format(batch))\n",
    "    adata_ct.uns['schypo']['2d_ht']['corr_asl'][(genes_per_batch*batch):(genes_per_batch*(batch+1)), :] = adata_chunk.uns['schypo']['2d_ht']['corr_asl']\n",
    "    adata_ct.uns['schypo']['2d_ht']['corr_coef'][(genes_per_batch*batch):(genes_per_batch*(batch+1)), :] = adata_chunk.uns['schypo']['2d_ht']['corr_coef']"
   ]
  },
  {
   "cell_type": "code",
   "execution_count": null,
   "metadata": {},
   "outputs": [],
   "source": [
    "adata_ct.write(data_path + 'result_2d/mono_ifn/combined.h5ad')"
   ]
  },
  {
   "cell_type": "code",
   "execution_count": null,
   "metadata": {},
   "outputs": [],
   "source": [
    "imp.reload(schypo)"
   ]
  },
  {
   "cell_type": "code",
   "execution_count": null,
   "metadata": {},
   "outputs": [],
   "source": [
    "adata_ct = sc.read(data_path + 'result_2d/mono_ifn/combined.h5ad')"
   ]
  },
  {
   "cell_type": "markdown",
   "metadata": {},
   "source": [
    "### Get the results"
   ]
  },
  {
   "cell_type": "code",
   "execution_count": null,
   "metadata": {},
   "outputs": [],
   "source": [
    "js_genes = pd.read_csv('jakstat_genes.txt', sep='\\t', header=None)[1].apply(lambda x: x.split(';')[0]).tolist()"
   ]
  },
  {
   "cell_type": "code",
   "execution_count": null,
   "metadata": {},
   "outputs": [],
   "source": [
    "imp.reload(schypo)"
   ]
  },
  {
   "cell_type": "code",
   "execution_count": null,
   "metadata": {},
   "outputs": [],
   "source": [
    "mono_result_df = schypo.get_2d_ht_result(adata_ct)"
   ]
  },
  {
   "cell_type": "code",
   "execution_count": null,
   "metadata": {},
   "outputs": [],
   "source": [
    "mono_result_df.head(5)"
   ]
  },
  {
   "cell_type": "code",
   "execution_count": null,
   "metadata": {},
   "outputs": [],
   "source": [
    "ctrl_mean_corr = 0\n",
    "stim_mean_corr = 0\n",
    "\n",
    "ctrl_count = 0\n",
    "stim_count = 0\n",
    "\n",
    "for group in adata_ct.uns['schypo']['groups']:\n",
    "    \n",
    "    temp = adata_ct.uns['schypo']['2d_moments'][group]['corr'].copy()\n",
    "    temp[(temp > 1) | (temp < -1)] = 0\n",
    "    \n",
    "    if 'ctrl' in group:\n",
    "        ctrl_mean_corr += temp\n",
    "        ctrl_count += ~np.isnan(temp)\n",
    "        \n",
    "    if 'stim' in group:\n",
    "        stim_mean_corr += temp\n",
    "        stim_count += ~np.isnan(temp)\n",
    "\n",
    "ctrl_mean_corr /= ctrl_count\n",
    "stim_mean_corr /= stim_count\n",
    "\n",
    "del ctrl_count, stim_count"
   ]
  },
  {
   "cell_type": "code",
   "execution_count": null,
   "metadata": {},
   "outputs": [],
   "source": [
    "mono_result_df['ctrl_corr'] = ctrl_mean_corr.ravel()\n",
    "mono_result_df['stim_corr'] = stim_mean_corr.ravel()"
   ]
  },
  {
   "cell_type": "code",
   "execution_count": null,
   "metadata": {},
   "outputs": [],
   "source": [
    "mono_result_df['tf'] = mono_result_df['gene_1'].isin(tfs) | mono_result_df['gene_2'].isin(tfs)\n"
   ]
  },
  {
   "cell_type": "code",
   "execution_count": null,
   "metadata": {},
   "outputs": [],
   "source": [
    "mono_result_df.shape"
   ]
  },
  {
   "cell_type": "code",
   "execution_count": null,
   "metadata": {},
   "outputs": [],
   "source": [
    "sns.distplot(mono_result_df['ctrl_corr'])\n",
    "sns.distplot(mono_result_df['stim_corr'])"
   ]
  },
  {
   "cell_type": "code",
   "execution_count": null,
   "metadata": {},
   "outputs": [],
   "source": [
    "sig_df = mono_result_df.query('corr_fdr < 0.1').copy()\n",
    "sig_df['mag'] = sig_df['corr_coef'].abs()\n",
    "del mono_result_df"
   ]
  },
  {
   "cell_type": "code",
   "execution_count": null,
   "metadata": {},
   "outputs": [],
   "source": [
    "sig_df['js'] = sig_df['gene_1'].isin(js_genes) | sig_df['gene_2'].isin(js_genes)\n",
    "sig_df['tf'] = sig_df['gene_1'].isin(tfs) | sig_df['gene_2'].isin(tfs)\n"
   ]
  },
  {
   "cell_type": "code",
   "execution_count": null,
   "metadata": {},
   "outputs": [],
   "source": [
    "sig_df.query('stim_corr < -0.3 & (js & tf)')"
   ]
  },
  {
   "cell_type": "code",
   "execution_count": null,
   "metadata": {},
   "outputs": [],
   "source": [
    "sig_df.query('gene_1 == \"JAK2\" & gene_2 == \"STAT5B\"')"
   ]
  },
  {
   "cell_type": "code",
   "execution_count": null,
   "metadata": {},
   "outputs": [],
   "source": [
    "sig_df.query('tf & stim_corr > -.1 & stim_corr < 0.1').sort_values('ctrl_corr', ascending=False).head(10)"
   ]
  },
  {
   "cell_type": "code",
   "execution_count": null,
   "metadata": {},
   "outputs": [],
   "source": [
    "sig_df.query('tf & ctrl_corr > -.1 & ctrl_corr < 0.1 & corr_coef > 0 & stim_corr > 0').sort_values('stim_corr', ascending=False).head(100)"
   ]
  },
  {
   "cell_type": "markdown",
   "metadata": {},
   "source": [
    "### Plot some examples\n",
    "\n",
    "https://www.ncbi.nlm.nih.gov/pmc/articles/PMC6083555/\n",
    "\n",
    "https://pubmed.ncbi.nlm.nih.gov/12901872/\n",
    "\n",
    "https://pubmed.ncbi.nlm.nih.gov/23399697/\n",
    "\n",
    "https://www.nature.com/articles/ni.1897"
   ]
  },
  {
   "cell_type": "code",
   "execution_count": null,
   "metadata": {},
   "outputs": [],
   "source": [
    "def get_ind_corr(adata, gene_1, gene_2):\n",
    "    \n",
    "    idx_1 = np.where(adata_ct.uns['schypo']['2d_moments']['gene_1'] == gene_1)[0][0]\n",
    "    idx_2 = np.where(adata_ct.uns['schypo']['2d_moments']['gene_2'] == gene_2)[0][0]\n",
    "    \n",
    "    df_list = []\n",
    "    for group in adata.uns['schypo']['groups']:\n",
    "        _, stim, ind = group.split('^')\n",
    "        df_list.append((stim,ind,adata.uns['schypo']['2d_moments'][group]['corr'][idx_1][idx_2]))\n",
    "    return pd.DataFrame(df_list, columns=[ 'stim','ind', 'corr']).query('corr < 1 & corr > -1')\n",
    "\n",
    "\n",
    "def variability_scatter(X, c, vmin=None, vmax=None, xlim=None, ylim=None, s=5):\n",
    "    \n",
    "    order = np.argsort(c)\n",
    "    c = np.clip(c, a_min=0, a_max=np.quantile(c, 0.995))\n",
    "    plt.scatter(X[order, 0], X[order, 1], c=c[order], cmap='viridis', s=s, vmin=vmin, vmax=vmax)\n",
    "\n",
    "    plt.colorbar(orientation='horizontal');\n",
    "    if xlim is not None and ylim is not None:\n",
    "        plt.xlim(xlim);\n",
    "        plt.ylim(ylim);\n",
    "    plt.xticks([]); plt.yticks([]);\n",
    "    \n",
    "    \n",
    "def plot_microscopy(X, c1, c2, s=5, end_num=-5, alpha=0.1, xlim=None, ylim=None, remove_axis=True):\n",
    "    \n",
    "    N = X.shape[0]\n",
    "    \n",
    "    prod = c1*c2\n",
    "    \n",
    "    c1 = np.clip(c1, a_min=0, a_max=np.sort(c1)[end_num])\n",
    "    c2 = np.clip(c2, a_min=0, a_max=np.sort(c2)[end_num])\n",
    "    prod = np.clip(prod, a_min=0, a_max=np.sort(prod)[end_num])\n",
    "    \n",
    "    print(prod.min(), prod.max())\n",
    "\n",
    "    c1 = (c1 - c1.min())/(c1.max()-c1.min())\n",
    "    c2 = (c2 - c2.min())/(c2.max()-c2.min())\n",
    "    prod = (prod - prod.min())/(prod.max()-prod.min())\n",
    "    order_1 = np.argsort(c1)\n",
    "    order_2 = np.argsort(c2)\n",
    "    order_prod = np.argsort(prod)\n",
    "    \n",
    "    print(prod)\n",
    "    ListedColormap(sns.dark_palette(\"red\", 100).as_hex())\n",
    "        \n",
    "    plt.subplot(1, 3, 1); \n",
    "        \n",
    "    plt.scatter(X[order_1, 0], X[order_1, 1], c=c1[order_1], s=s, alpha=alpha, cmap=ListedColormap(sns.dark_palette(\"red\", 100).as_hex()))\n",
    "    plt.gca().set_facecolor((0, 0, 0))\n",
    "    if remove_axis:\n",
    "        plt.xticks([]); plt.yticks([])\n",
    "    if xlim is not None and ylim is not None:\n",
    "        plt.xlim(xlim); plt.ylim(ylim);\n",
    "    plt.title(gene_1)\n",
    "        \n",
    "    plt.subplot(1, 3, 2); \n",
    "    plt.scatter(X[order_2, 0], X[order_2, 1], c=c2[order_2], s=s, alpha=alpha, cmap=ListedColormap(sns.dark_palette(\"green\", 100).as_hex()))\n",
    "    plt.gca().set_facecolor((0, 0, 0))\n",
    "    if remove_axis:\n",
    "        plt.xticks([]); plt.yticks([])\n",
    "    if xlim is not None and ylim is not None:\n",
    "        plt.xlim(xlim); plt.ylim(ylim);\n",
    "    plt.title(gene_2)\n",
    "\n",
    "        \n",
    "    plt.subplot(1, 3, 3); \n",
    "    plt.scatter(X[order_prod, 0], X[order_prod, 1], c=prod[order_prod], s=s, alpha=alpha, cmap=ListedColormap(sns.dark_palette(\"orange\", 100).as_hex()))\n",
    "    plt.gca().set_facecolor((0, 0, 0))\n",
    "    if xlim is not None and ylim is not None:\n",
    "        plt.xlim(xlim); plt.ylim(ylim);\n",
    "    if remove_axis:\n",
    "        plt.xticks([]); plt.yticks([])\n",
    "    plt.title(gene_1 + ' * ' + gene_2)\n",
    "        \n",
    "\n",
    "norm_adata = adata.copy()\n",
    "norm_adata = norm_adata[norm_adata.obs.cell == 'CD14+ Monocytes'].copy()\n",
    "norm_adata = norm_adata.copy()\n",
    "sc.pp.normalize_total(norm_adata, target_sum=1e4)\n",
    "dat = norm_adata"
   ]
  },
  {
   "cell_type": "code",
   "execution_count": 328,
   "metadata": {},
   "outputs": [
    {
     "name": "stdout",
     "output_type": "stream",
     "text": [
      "0.0 466.48538\n",
      "[0.         0.         0.         ... 0.         0.         0.11938571]\n"
     ]
    },
    {
     "data": {
      "image/png": "[encoded data removed]",
      "text/plain": [
       "<Figure size 108x144 with 1 Axes>"
      ]
     },
     "metadata": {
      "needs_background": "light"
     },
     "output_type": "display_data"
    },
    {
     "data": {
      "image/png": "[encoded data removed]",
      "text/plain": [
       "<Figure size 432x144 with 3 Axes>"
      ]
     },
     "metadata": {},
     "output_type": "display_data"
    }
   ],
   "source": [
    "gene_1, gene_2 = 'JUNB', 'MUL1'\n",
    "\n",
    "plt.figure(figsize=(1.5, 2))\n",
    "\n",
    "sns.boxplot(x='stim', y='corr',\n",
    "    data=get_ind_corr(adata_ct, gene_1, gene_2), \n",
    "    palette='Set2')\n",
    "sns.stripplot(x='stim', y='corr',\n",
    "    data=get_ind_corr(adata_ct, gene_1, gene_2), \n",
    "    palette='Set2', dodge=True, linewidth=2)\n",
    "\n",
    "plt.savefig(fig_path + '{}_{}_box.pdf'.format(gene_1, gene_2), bbox_inches='tight')\n",
    "\n",
    "plt.figure(figsize=(6, 2))\n",
    "plt.subplots_adjust(wspace=0.05)\n",
    "\n",
    "plot_microscopy(\n",
    "    X=dat.obsm['X_tsne'],\n",
    "    c1=dat[:,gene_1].X.todense().A1,\n",
    "    c2=dat[:,gene_2].X.todense().A1,\n",
    "    end_num=-2,\n",
    "    s=30,\n",
    "    alpha=1,\n",
    "    remove_axis=True,\n",
    "    xlim=(-40, 20), \n",
    "    ylim=(3, 40))\n",
    "\n",
    "plt.savefig(fig_path + '{}_{}_scatter.pdf'.format(gene_1, gene_2), bbox_inches='tight')"
   ]
  },
  {
   "cell_type": "code",
   "execution_count": 329,
   "metadata": {},
   "outputs": [
    {
     "name": "stdout",
     "output_type": "stream",
     "text": [
      "0.0 3918.0447\n",
      "[0.         0.00829291 0.00654636 ... 0.         0.09384734 0.        ]\n"
     ]
    },
    {
     "data": {
      "image/png": "[encoded data removed]",
      "text/plain": [
       "<Figure size 108x144 with 1 Axes>"
      ]
     },
     "metadata": {
      "needs_background": "light"
     },
     "output_type": "display_data"
    },
    {
     "data": {
      "image/png": "[encoded data removed]",
      "text/plain": [
       "<Figure size 432x144 with 3 Axes>"
      ]
     },
     "metadata": {},
     "output_type": "display_data"
    }
   ],
   "source": [
    "gene_1, gene_2 = 'CXCL3', 'MAFB'\n",
    "\n",
    "\n",
    "plt.figure(figsize=(1.5, 2))\n",
    "\n",
    "sns.boxplot(x='stim', y='corr',\n",
    "    data=get_ind_corr(adata_ct, gene_1, gene_2), \n",
    "    palette='Set2')\n",
    "sns.stripplot(x='stim', y='corr',\n",
    "    data=get_ind_corr(adata_ct, gene_1, gene_2), \n",
    "    palette='Set2', dodge=True, linewidth=2)\n",
    "\n",
    "plt.savefig(fig_path + '{}_{}_box.pdf'.format(gene_1, gene_2), bbox_inches='tight')\n",
    "\n",
    "plt.figure(figsize=(6, 2))\n",
    "plt.subplots_adjust(wspace=0.05)\n",
    "\n",
    "plot_microscopy(\n",
    "    X=dat.obsm['X_tsne'],\n",
    "    c1=dat[:,gene_1].X.todense().A1,\n",
    "    c2=dat[:,gene_2].X.todense().A1,\n",
    "    end_num=-5,\n",
    "    s=30,\n",
    "    alpha=1,\n",
    "    remove_axis=True,\n",
    "    xlim=(-40, 20), \n",
    "    ylim=(3, 40))\n",
    "\n",
    "plt.savefig(fig_path + '{}_{}_scatter.pdf'.format(gene_1, gene_2), bbox_inches='tight')"
   ]
  },
  {
   "cell_type": "code",
   "execution_count": 330,
   "metadata": {},
   "outputs": [
    {
     "name": "stdout",
     "output_type": "stream",
     "text": [
      "0.0 15.759546\n",
      "[0. 0. 0. ... 0. 0. 0.]\n"
     ]
    },
    {
     "data": {
      "image/png": "[encoded data removed]",
      "text/plain": [
       "<Figure size 108x144 with 1 Axes>"
      ]
     },
     "metadata": {
      "needs_background": "light"
     },
     "output_type": "display_data"
    },
    {
     "data": {
      "image/png": "[encoded data removed]",
      "text/plain": [
       "<Figure size 432x144 with 3 Axes>"
      ]
     },
     "metadata": {},
     "output_type": "display_data"
    }
   ],
   "source": [
    "gene_1, gene_2 = 'STAT5B', 'CDS2'\n",
    "\n",
    "plt.figure(figsize=(1.5, 2))\n",
    "\n",
    "sns.boxplot(x='stim', y='corr',\n",
    "    data=get_ind_corr(adata_ct, gene_1, gene_2), \n",
    "    palette='Set2')\n",
    "sns.stripplot(x='stim', y='corr',\n",
    "    data=get_ind_corr(adata_ct, gene_1, gene_2), \n",
    "    palette='Set2', dodge=True, linewidth=2)\n",
    "\n",
    "plt.savefig(fig_path + '{}_{}_box.pdf'.format(gene_1, gene_2), bbox_inches='tight')\n",
    "\n",
    "plt.figure(figsize=(6, 2))\n",
    "plt.subplots_adjust(wspace=0.05)\n",
    "\n",
    "plot_microscopy(\n",
    "    X=dat.obsm['X_tsne'],\n",
    "    c1=dat[:,gene_1].X.todense().A1,\n",
    "    c2=dat[:,gene_2].X.todense().A1,\n",
    "    end_num=-5,\n",
    "    s=50,\n",
    "    alpha=1,\n",
    "    remove_axis=True,\n",
    "    xlim=(-40, 20), \n",
    "    ylim=(3, 40))\n",
    "\n",
    "plt.savefig(fig_path + '{}_{}_scatter.pdf'.format(gene_1, gene_2), bbox_inches='tight')"
   ]
  },
  {
   "cell_type": "code",
   "execution_count": 331,
   "metadata": {},
   "outputs": [
    {
     "name": "stdout",
     "output_type": "stream",
     "text": [
      "0.0 143.48026\n",
      "[0. 0. 0. ... 0. 0. 0.]\n"
     ]
    },
    {
     "data": {
      "image/png": "[encoded data removed]",
      "text/plain": [
       "<Figure size 108x144 with 1 Axes>"
      ]
     },
     "metadata": {
      "needs_background": "light"
     },
     "output_type": "display_data"
    },
    {
     "data": {
      "image/png": "[encoded data removed]",
      "text/plain": [
       "<Figure size 432x144 with 3 Axes>"
      ]
     },
     "metadata": {},
     "output_type": "display_data"
    }
   ],
   "source": [
    "gene_1, gene_2 = 'STAT5B', 'GLRX'\n",
    "\n",
    "plt.figure(figsize=(1.5, 2))\n",
    "\n",
    "sns.boxplot(x='stim', y='corr',\n",
    "    data=get_ind_corr(adata_ct, gene_1, gene_2), \n",
    "    palette='Set2')\n",
    "sns.stripplot(x='stim', y='corr',\n",
    "    data=get_ind_corr(adata_ct, gene_1, gene_2), \n",
    "    palette='Set2', dodge=True, linewidth=2)\n",
    "\n",
    "plt.savefig(fig_path + '{}_{}_box.pdf'.format(gene_1, gene_2), bbox_inches='tight')\n",
    "\n",
    "plt.figure(figsize=(6, 2))\n",
    "plt.subplots_adjust(wspace=0.05)\n",
    "\n",
    "plot_microscopy(\n",
    "    X=dat.obsm['X_tsne'],\n",
    "    c1=dat[:,gene_1].X.todense().A1,\n",
    "    c2=dat[:,gene_2].X.todense().A1,\n",
    "    end_num=-2,\n",
    "    s=50,\n",
    "    alpha=1,\n",
    "    remove_axis=True,\n",
    "    xlim=(-40, 20), \n",
    "    ylim=(3, 40))\n",
    "\n",
    "plt.savefig(fig_path + '{}_{}_scatter.pdf'.format(gene_1, gene_2), bbox_inches='tight')"
   ]
  },
  {
   "cell_type": "markdown",
   "metadata": {},
   "source": [
    "### P-value histogram"
   ]
  },
  {
   "cell_type": "code",
   "execution_count": null,
   "metadata": {},
   "outputs": [],
   "source": [
    "mono_result_df.query('tf').corr_pval.hist(bins=80)\n",
    "plt.xlabel('p-value');\n",
    "plt.savefig(fig_path + 'dc_pval_hist.pdf', bbox_inches='tight')"
   ]
  },
  {
   "cell_type": "markdown",
   "metadata": {},
   "source": [
    "### Network figure"
   ]
  },
  {
   "cell_type": "code",
   "execution_count": null,
   "metadata": {},
   "outputs": [],
   "source": [
    "import networkx as nx"
   ]
  },
  {
   "cell_type": "code",
   "execution_count": null,
   "metadata": {},
   "outputs": [],
   "source": [
    "max_corr = 0.1"
   ]
  },
  {
   "cell_type": "code",
   "execution_count": null,
   "metadata": {},
   "outputs": [],
   "source": [
    "stim_corr_df = sig_df.query('tf & ctrl_corr > {} & ctrl_corr < {} & corr_coef > 0 & stim_corr > {}'.format(-max_corr, max_corr, max_corr)).sort_values('stim_corr', ascending=False)\n",
    "ctrl_corr_df = sig_df.query('tf & stim_corr > {} & stim_corr < {} & corr_coef < 0 & ctrl_corr > {}'.format(-max_corr, max_corr, max_corr)).sort_values('ctrl_corr', ascending=False)\n",
    "network_tfs = list(set(stim_corr_df.gene_1.tolist() + stim_corr_df.gene_2.tolist() + ctrl_corr_df.gene_1.tolist() + ctrl_corr_df.gene_2.tolist()) & set(tfs))"
   ]
  },
  {
   "cell_type": "code",
   "execution_count": null,
   "metadata": {},
   "outputs": [],
   "source": [
    "print(stim_corr_df.shape[0], ctrl_corr_df.shape[0])"
   ]
  },
  {
   "cell_type": "code",
   "execution_count": null,
   "metadata": {},
   "outputs": [],
   "source": [
    "all_stim_corr_df = mono_result_df.query('tf & ctrl_corr > {} & ctrl_corr < {} & corr_coef > 0 & stim_corr > 0.15 & (gene_1 in @network_tfs) & corr_fdr > 0.1'.format(-max_corr, max_corr))\n",
    "all_ctrl_corr_df = mono_result_df.query('tf & stim_corr > {} & stim_corr < {} & corr_coef < 0 & ctrl_corr > 0.15 & (gene_1 in @network_tfs) & corr_fdr > 0.1'.format(-max_corr, max_corr))"
   ]
  },
  {
   "cell_type": "code",
   "execution_count": null,
   "metadata": {},
   "outputs": [],
   "source": [
    "def get_graph(key):\n",
    "    G = nx.Graph()\n",
    "    \n",
    "    corr_col = key + '_corr'\n",
    "    \n",
    "    print(corr_col)\n",
    "\n",
    "    for idx, row in all_stim_corr_df.iterrows():\n",
    "        G.add_edge(row['gene_1'], row['gene_2'], weight=row[corr_col], significant=False)\n",
    "    for idx, row in all_ctrl_corr_df.iterrows():\n",
    "        G.add_edge(row['gene_1'], row['gene_2'], weight=row[corr_col], significant=False)\n",
    "    for idx, row in stim_corr_df.iterrows():\n",
    "        G.add_edge(row['gene_1'], row['gene_2'], weight=row[corr_col], significant=True)\n",
    "    for idx, row in ctrl_corr_df.iterrows():\n",
    "        G.add_edge(row['gene_1'], row['gene_2'], weight=row[corr_col], significant=True)\n",
    "        \n",
    "    return G"
   ]
  },
  {
   "cell_type": "code",
   "execution_count": null,
   "metadata": {},
   "outputs": [],
   "source": [
    "stim_G = get_graph('stim')\n",
    "ctrl_G = get_graph('ctrl')"
   ]
  },
  {
   "cell_type": "code",
   "execution_count": null,
   "metadata": {},
   "outputs": [],
   "source": [
    "left_genes = set(all_ctrl_corr_df.gene_1.tolist() + all_ctrl_corr_df.gene_2.tolist() + ctrl_corr_df.gene_1.tolist() + ctrl_corr_df.gene_2.tolist()) - set(network_tfs)\n",
    "right_genes = set(all_stim_corr_df.gene_1.tolist() + stim_corr_df.gene_1.tolist() + all_stim_corr_df.gene_2.tolist() + stim_corr_df.gene_2.tolist())- set(network_tfs)\n",
    "overlap = left_genes & right_genes\n",
    "left_genes -= overlap\n",
    "right_genes -= overlap\n",
    "\n",
    "stim_G.remove_nodes_from(overlap)\n",
    "ctrl_G.remove_nodes_from(overlap)\n",
    "\n",
    "left_pos_y = np.linspace(-5, 5, len(left_genes))\n",
    "right_pos_y = np.linspace(-5, 5, len(right_genes))\n",
    "middle_pos_y = np.linspace(-5, 5, len(network_tfs))\n",
    "\n",
    "pos = dict(zip(list(left_genes), np.vstack([np.ones(len(left_pos_y))*-5, left_pos_y,]).T))\n",
    "pos.update(dict(zip(list(network_tfs), np.vstack([np.ones(len(middle_pos_y))*0, middle_pos_y, ]).T)))\n",
    "pos.update(dict(zip(list(right_genes), np.vstack([np.ones(len(right_pos_y))*5, right_pos_y, ]).T)))\n"
   ]
  },
  {
   "cell_type": "code",
   "execution_count": 321,
   "metadata": {},
   "outputs": [
    {
     "data": {
      "image/png": "[encoded data removed]",
      "text/plain": [
       "<Figure size 270x144 with 1 Axes>"
      ]
     },
     "metadata": {},
     "output_type": "display_data"
    }
   ],
   "source": [
    "plt.figure(figsize=(3.75, 2))\n",
    "nx.draw_networkx(\n",
    "    ctrl_G, \n",
    "    pos=pos, \n",
    "    labels={node:(node if node in network_tfs else '') for node in ctrl_G.nodes()},\n",
    "    font_size=2.2,\n",
    "    node_size=0,\n",
    "    bbox=dict(facecolor='white', edgecolor='black', boxstyle='round,pad=0.2', linewidth=0.1),\n",
    "    edge_color=[ctrl_G[u][v]['weight'] for u,v in ctrl_G.edges()],\n",
    "    edge_cmap=plt.get_cmap('Reds'),\n",
    "    width=0.1,\n",
    "    edge_vmin=-0.1,\n",
    "    edge_vmax=0.5)\n",
    "plt.axis('off')\n",
    "\n",
    "# sm = plt.cm.ScalarMappable(cmap=plt.get_cmap('Reds'), norm=plt.Normalize(vmin = -0.1, vmax=0.5))\n",
    "# sm._A = []\n",
    "# plt.colorbar(sm)\n",
    "# plt.show()\n",
    "\n",
    "plt.savefig(fig_path + 'ctrl_network.png', bbox_inches='tight')"
   ]
  },
  {
   "cell_type": "code",
   "execution_count": 324,
   "metadata": {},
   "outputs": [
    {
     "name": "stdout",
     "output_type": "stream",
     "text": [
      "YBX1 ID3 {'weight': 0.2646107647451572, 'significant': False}\n"
     ]
    }
   ],
   "source": [
    "for u, v in stim_G.edges():\n",
    "    print(u, v, stim_G[u][v])\n",
    "    break"
   ]
  },
  {
   "cell_type": "code",
   "execution_count": 325,
   "metadata": {},
   "outputs": [
    {
     "name": "stdout",
     "output_type": "stream",
     "text": [
      "YBX1 ID3 {'weight': -0.062226095236837864, 'significant': False}\n"
     ]
    }
   ],
   "source": [
    "for u, v in stim_G.edges():\n",
    "    print(u, v, ctrl_G[u][v])\n",
    "    break"
   ]
  },
  {
   "cell_type": "code",
   "execution_count": 326,
   "metadata": {},
   "outputs": [
    {
     "data": {
      "image/png": "[encoded data removed]",
      "text/plain": [
       "<Figure size 270x144 with 1 Axes>"
      ]
     },
     "metadata": {},
     "output_type": "display_data"
    }
   ],
   "source": [
    "plt.figure(figsize=(3.75, 2))\n",
    "nx.draw_networkx(\n",
    "    ctrl_G, \n",
    "    pos=pos, \n",
    "    labels={node:(node if node in network_tfs else '') for node in ctrl_G.nodes()},\n",
    "    font_size=2.2,\n",
    "    node_size=0,\n",
    "    bbox=dict(facecolor='white', edgecolor='black', boxstyle='round,pad=0.2', linewidth=0.1),\n",
    "    edge_color=[stim_G[u][v]['weight'] for u,v in stim_G.edges()],\n",
    "    edge_cmap=plt.get_cmap('Reds'),\n",
    "    width=0.1,\n",
    "    edge_vmin=-0.1,\n",
    "    edge_vmax=0.5)\n",
    "plt.axis('off')\n",
    "\n",
    "plt.savefig(fig_path + 'stim_network.png', bbox_inches='tight')"
   ]
  },
  {
   "cell_type": "code",
   "execution_count": 327,
   "metadata": {},
   "outputs": [
    {
     "data": {
      "image/png": "[encoded data removed]",
      "text/plain": [
       "<Figure size 270x144 with 2 Axes>"
      ]
     },
     "metadata": {
      "needs_background": "light"
     },
     "output_type": "display_data"
    },
    {
     "data": {
      "text/plain": [
       "<Figure size 432x288 with 0 Axes>"
      ]
     },
     "metadata": {},
     "output_type": "display_data"
    }
   ],
   "source": [
    "plt.figure(figsize=(3.75, 2))\n",
    "nx.draw_networkx(\n",
    "    ctrl_G, \n",
    "    pos=pos, \n",
    "    labels={node:(node if node in network_tfs else '') for node in ctrl_G.nodes()},\n",
    "    font_size=2.2,\n",
    "    node_size=0,\n",
    "    bbox=dict(facecolor='white', edgecolor='black', boxstyle='round,pad=0.2', linewidth=0.1),\n",
    "    edge_color=[stim_G[u][v]['weight'] for u,v in stim_G.edges()],\n",
    "    edge_cmap=plt.get_cmap('Reds'),\n",
    "    width=0.1,\n",
    "    edge_vmin=-0.1,\n",
    "    edge_vmax=0.5)\n",
    "plt.axis('off')\n",
    "sm = plt.cm.ScalarMappable(cmap=plt.get_cmap('Reds'), norm=plt.Normalize(vmin = -0.1, vmax=0.5))\n",
    "sm._A = []\n",
    "plt.colorbar(sm)\n",
    "plt.show()\n",
    "\n",
    "plt.savefig(fig_path + 'network_colorbar.pdf', bbox_inches='tight')"
   ]
  },
  {
   "cell_type": "code",
   "execution_count": 332,
   "metadata": {},
   "outputs": [
    {
     "data": {
      "image/png": "[encoded data removed]",
      "text/plain": [
       "<Figure size 270x144 with 1 Axes>"
      ]
     },
     "metadata": {},
     "output_type": "display_data"
    }
   ],
   "source": [
    "plt.figure(figsize=(3.75, 2))\n",
    "\n",
    "nx.draw_networkx(\n",
    "    ctrl_G, \n",
    "    pos=pos, \n",
    "    labels={node:(node if node in network_tfs else '') for node in ctrl_G.nodes()},\n",
    "    font_size=2.2,\n",
    "    node_size=0,\n",
    "    bbox=dict(facecolor='white', edgecolor='black', boxstyle='round,pad=0.2', linewidth=0.1),\n",
    "    edge_color=[6 if stim_G[u][v]['significant'] else 0.5 for u,v in G.edges()],\n",
    "    edge_cmap=plt.get_cmap('Greys'),\n",
    "    width=[2 if stim_G[u][v]['significant'] else 0.1 for u,v in G.edges()],\n",
    "    edge_vmin=0,\n",
    "    edge_vmax=1)\n",
    "\n",
    "nx.draw_networkx(\n",
    "    ctrl_G, \n",
    "    pos=pos, \n",
    "    labels={node:(node if node in network_tfs else '') for node in ctrl_G.nodes()},\n",
    "    font_size=2.2,\n",
    "    node_size=0,\n",
    "    bbox=dict(facecolor='white', edgecolor='black', boxstyle='round,pad=0.2', linewidth=0.1),\n",
    "    edge_color=[6 if stim_G[u][v]['significant'] else 0.5 for u,v in G.edges()],\n",
    "    edge_cmap=plt.get_cmap('Greys'),\n",
    "    width=[2 if stim_G[u][v]['significant'] else 0 for u,v in G.edges()],\n",
    "    edge_vmin=0,\n",
    "    edge_vmax=1)\n",
    "plt.axis('off')\n",
    "\n",
    "plt.savefig(fig_path + 'network_significant.png', bbox_inches='tight')"
   ]
  },
  {
   "cell_type": "code",
   "execution_count": null,
   "metadata": {},
   "outputs": [],
   "source": []
  },
  {
   "cell_type": "code",
   "execution_count": null,
   "metadata": {},
   "outputs": [],
   "source": []
  },
  {
   "cell_type": "code",
   "execution_count": null,
   "metadata": {},
   "outputs": [],
   "source": [
    "a = nx.circular_layout(G)"
   ]
  },
  {
   "cell_type": "code",
   "execution_count": null,
   "metadata": {},
   "outputs": [],
   "source": [
    "G"
   ]
  },
  {
   "cell_type": "code",
   "execution_count": null,
   "metadata": {},
   "outputs": [],
   "source": [
    "all_stim_corr_df.shape"
   ]
  },
  {
   "cell_type": "code",
   "execution_count": null,
   "metadata": {},
   "outputs": [],
   "source": [
    "all_ctrl_corr_df.shape"
   ]
  },
  {
   "cell_type": "code",
   "execution_count": null,
   "metadata": {},
   "outputs": [],
   "source": [
    "stim_corr_df.shape"
   ]
  },
  {
   "cell_type": "code",
   "execution_count": null,
   "metadata": {},
   "outputs": [],
   "source": [
    "ctrl_corr_df.shape"
   ]
  },
  {
   "cell_type": "code",
   "execution_count": null,
   "metadata": {},
   "outputs": [],
   "source": [
    "network_tfs = list(set(stim_corr_df.gene_1.tolist() + stim_corr_df.gene_2.tolist() + ctrl_corr_df.gene_1.tolist() + ctrl_corr_df.gene_2.tolist()) & set(tfs))"
   ]
  },
  {
   "cell_type": "code",
   "execution_count": null,
   "metadata": {},
   "outputs": [],
   "source": [
    "network_tfs"
   ]
  },
  {
   "cell_type": "code",
   "execution_count": null,
   "metadata": {},
   "outputs": [],
   "source": []
  },
  {
   "cell_type": "markdown",
   "metadata": {},
   "source": [
    "### Plotting"
   ]
  },
  {
   "cell_type": "code",
   "execution_count": null,
   "metadata": {},
   "outputs": [],
   "source": [
    "from matplotlib.colors import ListedColormap\n"
   ]
  },
  {
   "cell_type": "code",
   "execution_count": null,
   "metadata": {},
   "outputs": [],
   "source": [
    "sns.palplot(sns.dark_palette(\"purple\", 100))\n"
   ]
  },
  {
   "cell_type": "code",
   "execution_count": null,
   "metadata": {},
   "outputs": [],
   "source": [
    "def get_ind_corr(adata, gene_1, gene_2):\n",
    "    \n",
    "    idx_1 = np.where(adata_ct.uns['schypo']['2d_moments']['gene_1'] == gene_1)[0][0]\n",
    "    idx_2 = np.where(adata_ct.uns['schypo']['2d_moments']['gene_2'] == gene_2)[0][0]\n",
    "    \n",
    "    df_list = []\n",
    "    for group in adata.uns['schypo']['groups']:\n",
    "        _, stim, ind = group.split('^')\n",
    "        df_list.append((stim,ind,adata.uns['schypo']['2d_moments'][group]['corr'][idx_1][idx_2]))\n",
    "    return pd.DataFrame(df_list, columns=[ 'stim','ind', 'corr']).query('corr < 1 & corr > -1')\n",
    "\n",
    "\n",
    "def variability_scatter(X, c, vmin=None, vmax=None, xlim=None, ylim=None, s=5):\n",
    "    \n",
    "    order = np.argsort(c)\n",
    "    c = np.clip(c, a_min=0, a_max=np.quantile(c, 0.995))\n",
    "    plt.scatter(X[order, 0], X[order, 1], c=c[order], cmap='viridis', s=s, vmin=vmin, vmax=vmax)\n",
    "\n",
    "    plt.colorbar(orientation='horizontal');\n",
    "    if xlim is not None and ylim is not None:\n",
    "        plt.xlim(xlim);\n",
    "        plt.ylim(ylim);\n",
    "    plt.xticks([]); plt.yticks([]);\n",
    "    \n",
    "    \n",
    "def plot_microscopy(X, c1, c2, s=5, end_num=-5, alpha=0.1, xlim=None, ylim=None, remove_axis=True):\n",
    "    \n",
    "    N = X.shape[0]\n",
    "    \n",
    "    prod = c1*c2\n",
    "    \n",
    "    c1 = np.clip(c1, a_min=0, a_max=np.sort(c1)[end_num])\n",
    "    c2 = np.clip(c2, a_min=0, a_max=np.sort(c2)[end_num])\n",
    "    prod = np.clip(prod, a_min=0, a_max=np.sort(prod)[end_num])\n",
    "    \n",
    "    print(prod.min(), prod.max())\n",
    "\n",
    "    c1 = (c1 - c1.min())/(c1.max()-c1.min())\n",
    "    c2 = (c2 - c2.min())/(c2.max()-c2.min())\n",
    "    prod = (prod - prod.min())/(prod.max()-prod.min())\n",
    "    order_1 = np.argsort(c1)\n",
    "    order_2 = np.argsort(c2)\n",
    "    order_prod = np.argsort(prod)\n",
    "    \n",
    "    print(prod)\n",
    "    ListedColormap(sns.dark_palette(\"red\", 100).as_hex())\n",
    "        \n",
    "    plt.subplot(2, 3, 4); \n",
    "        \n",
    "    plt.scatter(X[order_1, 0], X[order_1, 1], c=c1[order_1], s=s, alpha=alpha, cmap=ListedColormap(sns.dark_palette(\"red\", 100).as_hex()))\n",
    "    plt.gca().set_facecolor((0, 0, 0))\n",
    "    if remove_axis:\n",
    "        plt.xticks([]); plt.yticks([])\n",
    "    if xlim is not None and ylim is not None:\n",
    "        plt.xlim(xlim); plt.ylim(ylim);\n",
    "        \n",
    "    plt.subplot(2, 3, 5); \n",
    "    plt.scatter(X[order_2, 0], X[order_2, 1], c=c2[order_2], s=s, alpha=alpha, cmap=ListedColormap(sns.dark_palette(\"green\", 100).as_hex()))\n",
    "    plt.gca().set_facecolor((0, 0, 0))\n",
    "    if remove_axis:\n",
    "        plt.xticks([]); plt.yticks([])\n",
    "    if xlim is not None and ylim is not None:\n",
    "        plt.xlim(xlim); plt.ylim(ylim);\n",
    "        \n",
    "    plt.subplot(2, 3, 6); \n",
    "    plt.scatter(X[order_prod, 0], X[order_prod, 1], c=prod[order_prod], s=s, alpha=alpha, cmap=ListedColormap(sns.dark_palette(\"orange\", 100).as_hex()))\n",
    "    plt.gca().set_facecolor((0, 0, 0))\n",
    "    if xlim is not None and ylim is not None:\n",
    "        plt.xlim(xlim); plt.ylim(ylim);\n",
    "    if remove_axis:\n",
    "        plt.xticks([]); plt.yticks([])\n",
    "        \n",
    "\n",
    "norm_adata = adata.copy()\n",
    "norm_adata = norm_adata[norm_adata.obs.cell == 'CD14+ Monocytes'].copy()\n",
    "norm_adata = norm_adata.copy()\n",
    "sc.pp.normalize_total(norm_adata, target_sum=1e4)\n",
    "dat = norm_adata"
   ]
  },
  {
   "cell_type": "code",
   "execution_count": null,
   "metadata": {},
   "outputs": [],
   "source": [
    "for idx, row in js_sig_df.iterrows():\n",
    "\n",
    "    gene_1, gene_2 = row['gene_1'], row['gene_2']\n",
    "\n",
    "    plt.figure(figsize=(6, 6))\n",
    "\n",
    "    plt.subplots_adjust(wspace=0.1)\n",
    "\n",
    "    plt.subplot(2, 3, 1)\n",
    "    sns.boxplot(x='stim', y='corr',\n",
    "        data=get_ind_corr(adata_ct, gene_1, gene_2), \n",
    "        palette='Set2')\n",
    "    sns.stripplot(x='stim', y='corr',\n",
    "        data=get_ind_corr(adata_ct, gene_1, gene_2), \n",
    "        palette='Set2', dodge=True, linewidth=2)\n",
    "\n",
    "    plt.subplot(2, 3, 2)\n",
    "    variability_scatter(X=dat.obsm['X_tsne'], c=dat[:, gene_1].X.todense().A1, xlim=(-40, 20), ylim=(3, 40), s=3)\n",
    "    plt.title(gene_1)\n",
    "\n",
    "    plt.subplot(2, 3, 3)\n",
    "    variability_scatter(X=dat.obsm['X_tsne'], c=dat[:, gene_2].X.todense().A1, xlim=(-40, 20), ylim=(3, 40), s=3)\n",
    "    plt.title(gene_2)\n",
    "\n",
    "    plot_microscopy(\n",
    "        X=dat.obsm['X_tsne'],\n",
    "        c1=dat[:,gene_1].X.todense().A1,\n",
    "        c2=dat[:,gene_2].X.todense().A1,\n",
    "        end_num=-5,\n",
    "        alpha=1,\n",
    "        remove_axis=True,\n",
    "        xlim=(-40, 20), \n",
    "        ylim=(3, 40))\n",
    "\n",
    "    plt.savefig('/data/parameter_estimation/fig5_candidates/{}_{}.png'.format(gene_1, gene_2), bbox_inches='tight')\n",
    "\n",
    "    plt.close()"
   ]
  },
  {
   "cell_type": "code",
   "execution_count": null,
   "metadata": {},
   "outputs": [],
   "source": [
    "plot_microscopy(\n",
    "    X=dat.obsm['X_tsne'],\n",
    "    c1=dat[:,gene_1].X.todense().A1,\n",
    "    c2=dat[:,gene_2].X.todense().A1,\n",
    "    s=1,\n",
    "    q_down=0.5,\n",
    "    q_up=0.9, \n",
    "    alpha=0.5,\n",
    "    remove_axis=True,\n",
    "    xlim=(-40, 20), \n",
    "    ylim=(3, 40))"
   ]
  },
  {
   "cell_type": "markdown",
   "metadata": {},
   "source": [
    "*****"
   ]
  },
  {
   "cell_type": "markdown",
   "metadata": {},
   "source": [
    "### Get the correlation matrix for control cells, construct the neareast neighbor graph, and get gene clusters"
   ]
  },
  {
   "cell_type": "code",
   "execution_count": null,
   "metadata": {},
   "outputs": [],
   "source": [
    "# mat = adata_ct.uns['schypo']['2d_ht']['corr_coef']#[:, isg_indices][isg_indices, :]\n",
    "# mat[np.absolute(mat) > 2] = np.nan\n",
    "# mat[np.isnan(mat)] = 0\n",
    "\n",
    "heatmap_df = pd.DataFrame(\n",
    "    adata_ct.uns['schypo']['2d_ht']['corr_asl'],\n",
    "    index=target_genes,\n",
    "    columns=target_genes).fillna(0.0)\n",
    "heatmap_df[heatmap_df.abs() > 2] = 0\n",
    "\n",
    "heatmap_df[:] = -np.log10(heatmap_df.values)"
   ]
  },
  {
   "cell_type": "code",
   "execution_count": null,
   "metadata": {},
   "outputs": [],
   "source": [
    "adata_ct = adata[adata.obs.cell == 'CD14+ Monocytes']\n",
    "schypo.create_groups(adata_ct, label_columns=['stim', 'ind'], inplace=True, q=0.07)\n",
    "\n",
    "schypo.compute_1d_moments(\n",
    "    adata_ct, inplace=True, filter_genes=True, \n",
    "    residual_var=True,filter_mean_thresh=0.00, \n",
    "    min_perc_group=0.99)\n",
    "\n",
    "target_genes = adata_ct.var.index.tolist()\n",
    "\n",
    "schypo.create_groups(adata_ct, label_columns=['stim'], inplace=True, q=0.07)\n",
    "\n",
    "schypo.compute_1d_moments(\n",
    "    adata_ct, inplace=True, filter_genes=True, \n",
    "    residual_var=True,filter_mean_thresh=0.00, \n",
    "    min_perc_group=0.99)\n",
    "\n",
    "\n",
    "schypo.compute_2d_moments(\n",
    "    adata_ct, \n",
    "    target_genes, \n",
    "    target_genes)\n",
    "\n",
    "corr_mat = adata_ct.uns['schypo']['2d_moments']['sg^ctrl']['corr'].copy()\n",
    "del adata_ct"
   ]
  },
  {
   "cell_type": "code",
   "execution_count": null,
   "metadata": {},
   "outputs": [],
   "source": [
    "corr_mat[np.isnan(corr_mat) | (corr_mat < -2) | (corr_mat > 2) | (corr_mat == 0)] = 1e-10\n",
    "corr_mat = np.absolute(corr_mat)"
   ]
  },
  {
   "cell_type": "code",
   "execution_count": null,
   "metadata": {},
   "outputs": [],
   "source": [
    "from sklearn.neighbors import NearestNeighbors"
   ]
  },
  {
   "cell_type": "code",
   "execution_count": null,
   "metadata": {},
   "outputs": [],
   "source": [
    "neigh = NearestNeighbors(n_neighbors=10, metric='precomputed').fit(1/corr_mat)\n",
    "neighbor_graph = neigh.kneighbors_graph()"
   ]
  },
  {
   "cell_type": "code",
   "execution_count": null,
   "metadata": {},
   "outputs": [],
   "source": [
    "adata_ct =  adata[adata.obs.cell == 'CD14+ Monocytes'].copy()\n",
    "test_adata = sc.AnnData(adata_ct[:, target_genes].X.T)\n",
    "test_adata.obs.index = target_genes\n",
    "sc.pp.pca(test_adata)\n",
    "sc.pp.neighbors(test_adata, n_neighbors=10, metric='correlation')\n",
    "test_adata.uns['neighbors']['connectivities'] = neighbor_graph\n",
    "test_adata.uns['neighbors']['distances'] = neighbor_graph.multiply(1/corr_mat)"
   ]
  },
  {
   "cell_type": "code",
   "execution_count": null,
   "metadata": {},
   "outputs": [],
   "source": [
    "sc.tl.umap(test_adata)"
   ]
  },
  {
   "cell_type": "code",
   "execution_count": null,
   "metadata": {},
   "outputs": [],
   "source": [
    "sc.tl.leiden(test_adata, resolution=0.9)\n"
   ]
  },
  {
   "cell_type": "code",
   "execution_count": null,
   "metadata": {},
   "outputs": [],
   "source": [
    "print(test_adata.obs.loc['STAT5B'], test_adata.obs.loc['TYK2'], test_adata.obs.loc['JAK2'])"
   ]
  },
  {
   "cell_type": "code",
   "execution_count": null,
   "metadata": {},
   "outputs": [],
   "source": [
    "# sc.pl.umap(test_adata[test_adata.obs.leiden == '9'], color='leiden')\n",
    "sc.pl.umap(test_adata, color='leiden')"
   ]
  },
  {
   "cell_type": "code",
   "execution_count": null,
   "metadata": {},
   "outputs": [],
   "source": [
    "import gseapy"
   ]
  },
  {
   "cell_type": "code",
   "execution_count": null,
   "metadata": {},
   "outputs": [],
   "source": [
    "test_adata.shape"
   ]
  },
  {
   "cell_type": "code",
   "execution_count": null,
   "metadata": {},
   "outputs": [],
   "source": [
    "test_adata.obs.loc['ISG15']"
   ]
  },
  {
   "cell_type": "code",
   "execution_count": null,
   "metadata": {},
   "outputs": [],
   "source": [
    "test_adata.obs.query('leiden == \"2\"').shape"
   ]
  },
  {
   "cell_type": "code",
   "execution_count": null,
   "metadata": {},
   "outputs": [],
   "source": [
    "for cluster in test_adata.obs.leiden.drop_duplicates().astype(str).sort_values():\n",
    "    \n",
    "    print('cluster', cluster, '---------')\n",
    "    \n",
    "    kegg_df = gseapy.enrichr(\n",
    "        gene_list=test_adata.obs.query('leiden == \"{}\"'.format(cluster)).index.tolist(), \n",
    "        description='pathway', gene_sets='KEGG_2019_Human', outdir='gsea').res2d\n",
    "    if kegg_df[kegg_df['Adjusted P-value'] < 0.1].shape[0] > 0:\n",
    "        print(kegg_df.head(5).to_string())"
   ]
  },
  {
   "cell_type": "markdown",
   "metadata": {},
   "source": [
    "### Compute DC for STAT genes"
   ]
  },
  {
   "cell_type": "code",
   "execution_count": null,
   "metadata": {},
   "outputs": [],
   "source": [
    "len(target_genes)"
   ]
  },
  {
   "cell_type": "code",
   "execution_count": null,
   "metadata": {},
   "outputs": [],
   "source": [
    "adata_ct = adata[adata.obs.cell == 'CD14+ Monocytes']\n",
    "schypo.create_groups(adata_ct, label_columns=['stim', 'ind'], inplace=True, q=0.07)\n",
    "\n",
    "schypo.compute_1d_moments(\n",
    "    adata_ct, inplace=True, filter_genes=True, \n",
    "    residual_var=True,filter_mean_thresh=0.00, \n",
    "    min_perc_group=0.87)\n",
    "\n",
    "\n",
    "# target_genes = adata_ct.var.index.tolist()\n",
    "\n",
    "# print('STAT1' in target_genes, 'STAT2' in target_genes)\n",
    "\n",
    "schypo.compute_2d_moments(\n",
    "    adata_ct, \n",
    "    ['STAT1', 'STAT2'], \n",
    "    target_genes)\n",
    "\n",
    "schypo.ht_2d_moments(\n",
    "    adata_ct, \n",
    "    formula_like='1 + stim', \n",
    "    cov_column='stim', \n",
    "    num_cpus=6, \n",
    "    num_boot=2500)\n",
    "\n",
    "# corr_mat = adata_ct.uns['schypo']['2d_moments']['sg^ctrl']['corr'].copy()"
   ]
  },
  {
   "cell_type": "markdown",
   "metadata": {},
   "source": [
    "### Read DC result and combine with STAT1 and STAT2"
   ]
  },
  {
   "cell_type": "code",
   "execution_count": null,
   "metadata": {},
   "outputs": [],
   "source": [
    "ct = 'CD14+ Monocytes'\n",
    "\n",
    "\n",
    "norm_adata = adata.copy()\n",
    "norm_adata = norm_adata[norm_adata.obs.cell == ct].copy()\n",
    "norm_adata = norm_adata.copy()\n",
    "sc.pp.normalize_total(norm_adata, target_sum=1e4)\n",
    "dat = norm_adata[(norm_adata.obs.cell == ct)]\n",
    "\n",
    "\n",
    "def variability_scatter(X, c, vmin, vmax, xlim=None, ylim=None, s=5):\n",
    "    \n",
    "    order = np.argsort(c)\n",
    "    print(c[order][-1])\n",
    "    c = np.clip(c, a_min=0, a_max=np.quantile(c, 0.995))\n",
    "    plt.scatter(X[order, 0], X[order, 1], c=c[order], cmap='viridis', s=s, vmin=vmin, vmax=vmax)\n",
    "\n",
    "    plt.colorbar(orientation='horizontal');\n",
    "    if xlim is not None and ylim is not None:\n",
    "        plt.xlim(xlim);\n",
    "        plt.ylim(ylim);\n",
    "    plt.xticks([]); plt.yticks([]);"
   ]
  },
  {
   "cell_type": "code",
   "execution_count": null,
   "metadata": {},
   "outputs": [],
   "source": [
    "dc_result = sc.read(data_path + 'result_2d/mono_ifn/combined.h5ad')"
   ]
  },
  {
   "cell_type": "code",
   "execution_count": null,
   "metadata": {},
   "outputs": [],
   "source": [
    "dc_result.uns['schypo']['2d_ht']['corr_asl'] = np.vstack([\n",
    "    dc_result.uns['schypo']['2d_ht']['corr_asl'],\n",
    "    adata_ct.uns['schypo']['2d_ht']['corr_asl']\n",
    "])"
   ]
  },
  {
   "cell_type": "code",
   "execution_count": null,
   "metadata": {},
   "outputs": [],
   "source": [
    "dc_result.uns['schypo']['2d_ht']['corr_coef'] = np.vstack([\n",
    "    dc_result.uns['schypo']['2d_ht']['corr_coef'],\n",
    "    adata_ct.uns['schypo']['2d_ht']['corr_coef']\n",
    "])"
   ]
  },
  {
   "cell_type": "code",
   "execution_count": null,
   "metadata": {},
   "outputs": [],
   "source": [
    "dc_result.uns['schypo']['2d_moments']['gene_1'] = np.concatenate([\n",
    "    dc_result.uns['schypo']['2d_moments']['gene_1'],\n",
    "    np.array(['STAT1', 'STAT2'])\n",
    "])"
   ]
  },
  {
   "cell_type": "code",
   "execution_count": null,
   "metadata": {},
   "outputs": [],
   "source": [
    "mono_result_df = schypo.get_2d_ht_result(dc_result).query('corr_coef > -2 & corr_coef < 2')"
   ]
  },
  {
   "cell_type": "code",
   "execution_count": null,
   "metadata": {},
   "outputs": [],
   "source": [
    "sig_df = mono_result_df.query('corr_fdr < 0.1').copy()\n",
    "sig_df['mag'] = sig_df['corr_coef'].abs()\n",
    "sig_df['tf_corr'] = sig_df['gene_1'].isin(tfs) | sig_df['gene_2'].isin(tfs)"
   ]
  },
  {
   "cell_type": "code",
   "execution_count": null,
   "metadata": {},
   "outputs": [],
   "source": [
    "sig_df"
   ]
  },
  {
   "cell_type": "code",
   "execution_count": null,
   "metadata": {},
   "outputs": [],
   "source": [
    "js_genes = pd.read_csv('jakstat_genes.txt', sep='\\t', header=None)[1].apply(lambda x: x.split(';')[0]).tolist()"
   ]
  },
  {
   "cell_type": "code",
   "execution_count": null,
   "metadata": {},
   "outputs": [],
   "source": [
    "adata_temp = adata[adata.obs.cell == 'CD14+ Monocytes']\n",
    "schypo.create_groups(adata_temp, label_columns=['stim'], inplace=True, q=0.07)\n",
    "\n",
    "schypo.compute_1d_moments(\n",
    "    adata_temp, inplace=True, filter_genes=True, \n",
    "    residual_var=True,filter_mean_thresh=0.00, \n",
    "    min_perc_group=0.87)\n",
    "\n",
    "mean_df = pd.DataFrame()\n",
    "mean_df['gene'] = adata_temp.var.index.tolist()\n",
    "mean_df['stim_mean'] = np.log(adata_temp.uns['schypo']['1d_moments']['sg^stim'][0])\n",
    "# mean_df['ctrl_mean'] = np.log(adata_temp.uns['schypo']['1d_moments']['sg^ctrl'][0])\n",
    "\n",
    "sig_df = sig_df.merge(mean_df.rename(columns={'gene':'gene_1'}), on='gene_1', how='left')\n",
    "sig_df = sig_df.merge(mean_df.rename(columns={'gene':'gene_2'}), on='gene_2', how='left')"
   ]
  },
  {
   "cell_type": "code",
   "execution_count": null,
   "metadata": {},
   "outputs": [],
   "source": [
    "min_mean=-11.6\n",
    "sig_df.query('(gene_1 in @js_genes | gene_2 in @js_genes) & stim_mean_x > {} & stim_mean_y > {}'.format(min_mean, min_mean)).head(10)"
   ]
  },
  {
   "cell_type": "code",
   "execution_count": null,
   "metadata": {},
   "outputs": [],
   "source": [
    "sig_df[sig_df.gene_1.str.contains(\"IRF\") | sig_df.gene_2.str.contains(\"IRF\")]"
   ]
  },
  {
   "cell_type": "code",
   "execution_count": null,
   "metadata": {},
   "outputs": [],
   "source": [
    "'IRF9' in js_genes"
   ]
  },
  {
   "cell_type": "code",
   "execution_count": null,
   "metadata": {},
   "outputs": [],
   "source": [
    "variability_scatter(X=dat.obsm['X_tsne'], c=dat[:, 'IRF8'].X.todense().A1, xlim=(-40, 20), ylim=(3, 40), s=30, vmin=0, vmax=10)\n",
    "plt.figure()\n",
    "variability_scatter(X=dat.obsm['X_tsne'], c=dat[:, 'DDIT4'].X.todense().A1, xlim=(-40, 20), ylim=(3, 40), s=30, vmin=0, vmax=10)\n"
   ]
  },
  {
   "cell_type": "code",
   "execution_count": null,
   "metadata": {},
   "outputs": [],
   "source": [
    "variability_scatter(X=dat.obsm['X_tsne'], c=dat[:, 'ZCRB1'].X.todense().A1, xlim=(-40, 20), ylim=(3, 40), s=30, vmin=0, vmax=5)\n",
    "plt.figure()\n",
    "variability_scatter(X=dat.obsm['X_tsne'], c=dat[:, 'PIM1'].X.todense().A1, xlim=(-40, 20), ylim=(3, 40), s=30, vmin=0, vmax=5)\n"
   ]
  },
  {
   "cell_type": "code",
   "execution_count": null,
   "metadata": {},
   "outputs": [],
   "source": [
    "variability_scatter(X=dat.obsm['X_tsne'], c=dat[:, 'SOCS3'].X.todense().A1, xlim=(-40, 20), ylim=(3, 40), s=10, vmin=0, vmax=10)\n"
   ]
  },
  {
   "cell_type": "code",
   "execution_count": null,
   "metadata": {},
   "outputs": [],
   "source": [
    "variability_scatter(X=dat.obsm['X_tsne'], c=dat[:, 'STAT2'].X.todense().A1, xlim=(-40, 20), ylim=(3, 40), s=10, vmin=0, vmax=12)\n"
   ]
  },
  {
   "cell_type": "code",
   "execution_count": null,
   "metadata": {},
   "outputs": [],
   "source": [
    "variability_scatter(X=dat.obsm['X_tsne'], c=dat[:, 'STAT2'].X.todense().A1, xlim=(-40, 20), ylim=(3, 40), s=20, vmin=0, vmax=12)\n"
   ]
  },
  {
   "cell_type": "code",
   "execution_count": null,
   "metadata": {},
   "outputs": [],
   "source": [
    "variability_scatter(X=dat.obsm['X_tsne'], c=dat[:, 'JAK2'].X.todense().A1, xlim=(-40, 20), ylim=(3, 40), s=15, vmin=0, vmax=8)\n"
   ]
  },
  {
   "cell_type": "code",
   "execution_count": null,
   "metadata": {},
   "outputs": [],
   "source": [
    "variability_scatter(X=dat.obsm['X_tsne'], c=dat[:, 'PIM1'].X.todense().A1, xlim=(-40, 20), ylim=(3, 40), s=12, vmin=0, vmax=4)\n"
   ]
  },
  {
   "cell_type": "code",
   "execution_count": null,
   "metadata": {},
   "outputs": [],
   "source": [
    "ct = 'CD14+ Monocytes'\n",
    "\n",
    "\n",
    "norm_adata = adata.copy()\n",
    "norm_adata = norm_adata[norm_adata.obs.cell == ct].copy()\n",
    "norm_adata = norm_adata.copy()\n",
    "sc.pp.normalize_total(norm_adata, target_sum=1e4)\n",
    "dat = norm_adata[(norm_adata.obs.cell == ct)]\n",
    "\n",
    "\n",
    "def variability_scatter(X, c, vmin, vmax, xlim=None, ylim=None, s=5):\n",
    "    \n",
    "    order = np.argsort(c)\n",
    "    print(c[order][-1])\n",
    "    c = np.clip(c, a_min=0, a_max=np.quantile(c, 0.995))\n",
    "    plt.scatter(X[order, 0], X[order, 1], c=c[order], cmap='viridis', s=s, vmin=vmin, vmax=vmax)\n",
    "\n",
    "    plt.colorbar(orientation='horizontal');\n",
    "    if xlim is not None and ylim is not None:\n",
    "        plt.xlim(xlim);\n",
    "        plt.ylim(ylim);\n",
    "    plt.xticks([]); plt.yticks([]);"
   ]
  },
  {
   "cell_type": "code",
   "execution_count": null,
   "metadata": {},
   "outputs": [],
   "source": [
    "dat[:, 'STAT5B'].X.max()"
   ]
  },
  {
   "cell_type": "code",
   "execution_count": null,
   "metadata": {},
   "outputs": [],
   "source": [
    "variability_scatter(X=dat.obsm['X_tsne'], c=dat[:, 'STAT2'].X.todense().A1, xlim=(-40, 20), ylim=(3, 40), s=50, vmin=0, vmax=12)\n"
   ]
  },
  {
   "cell_type": "code",
   "execution_count": null,
   "metadata": {},
   "outputs": [],
   "source": [
    "variability_scatter(X=dat.obsm['X_tsne'], c=dat[:, 'TYK2'].X.todense().A1, xlim=(-40, 20), ylim=(3, 40), s=20, vmin=0, vmax=6)\n"
   ]
  },
  {
   "cell_type": "code",
   "execution_count": null,
   "metadata": {},
   "outputs": [],
   "source": [
    "variability_scatter(X=dat.obsm['X_tsne'], c=dat[:, 'JAK2'].X.todense().A1, xlim=(-40, 20), ylim=(3, 40), s=12, vmin=0, vmax=8)\n"
   ]
  },
  {
   "cell_type": "code",
   "execution_count": null,
   "metadata": {},
   "outputs": [],
   "source": [
    "sc.pl.umap(dc_result)"
   ]
  },
  {
   "cell_type": "code",
   "execution_count": null,
   "metadata": {},
   "outputs": [],
   "source": [
    "sig_df.query('gene_1 == \"TYK2\" | gene_2 == \"TYK2\"')"
   ]
  },
  {
   "cell_type": "code",
   "execution_count": null,
   "metadata": {},
   "outputs": [],
   "source": [
    "sig_df.query('gene_1 == \"JAK2\" | gene_2 == \"JAK2\"')"
   ]
  },
  {
   "cell_type": "code",
   "execution_count": null,
   "metadata": {},
   "outputs": [],
   "source": [
    "print(test_adata.obs.loc['STAT5B'], test_adata.obs.loc['TYK2'], test_adata.obs.loc['JAK2'])"
   ]
  },
  {
   "cell_type": "code",
   "execution_count": null,
   "metadata": {},
   "outputs": [],
   "source": [
    "cluster_sig_dict = {}\n",
    "for cluster in test_adata.obs.leiden.drop_duplicates().astype(str).sort_values():\n",
    "    print('cluster', cluster, '---------')\n",
    "    gene_list=test_adata.obs.query('leiden == \"{}\"'.format(cluster)).index.tolist()\n",
    "    \n",
    "    s = sig_df.query('gene_1 in @gene_list & gene_2 in @gene_list')\n",
    "    \n",
    "    cluster_sig_dict[cluster] = s\n",
    "    \n",
    "    print(len(s)/(len(gene_list)*(len(gene_list)-1)/2), len(s), len(gene_list))"
   ]
  },
  {
   "cell_type": "code",
   "execution_count": null,
   "metadata": {},
   "outputs": [],
   "source": [
    "cluster_sig_dict['4']"
   ]
  },
  {
   "cell_type": "code",
   "execution_count": null,
   "metadata": {},
   "outputs": [],
   "source": [
    "gene_list"
   ]
  },
  {
   "cell_type": "markdown",
   "metadata": {},
   "source": [
    "### Plotting functions"
   ]
  },
  {
   "cell_type": "code",
   "execution_count": null,
   "metadata": {},
   "outputs": [],
   "source": [
    "def get_ind_corr(adata, gene_1, gene_2):\n",
    "    \n",
    "    adata_temp = adata.copy()\n",
    "    scmemo.create_groups(adata_temp, label_columns=['stim','ind'], inplace=True)\n",
    "    scmemo.compute_1d_moments(\n",
    "        adata_temp, inplace=True, filter_genes=False, \n",
    "        residual_var=True, use_n_umi=False, filter_mean_thresh=0.0, \n",
    "        min_perc_group=0.0)\n",
    "    scmemo.compute_2d_moments(adata_temp, [gene_1], [gene_2])\n",
    "    df_list = []\n",
    "    for group in adata_temp.uns['scmemo']['groups']:\n",
    "        _, stim, ind = group.split('^')\n",
    "        df_list.append((stim,ind,adata_temp.uns['scmemo']['2d_moments'][group]['corr'][0][0]))\n",
    "    return pd.DataFrame(df_list, columns=[ 'stim','ind', 'corr'])\n",
    "\n",
    "def get_ct_ind_corr(adata, gene_1, gene_2):\n",
    "    \n",
    "    adata_temp = adata.copy()\n",
    "    scmemo.create_groups(adata_temp, label_columns=['cell','stim','ind'], inplace=True)\n",
    "    scmemo.compute_1d_moments(\n",
    "        adata_temp, inplace=True, filter_genes=False, \n",
    "        residual_var=True, use_n_umi=False, filter_mean_thresh=0.0, \n",
    "        min_perc_group=0.0)\n",
    "    scmemo.compute_2d_moments(adata_temp, [gene_1], [gene_2])\n",
    "    df_list = []\n",
    "    for group in adata_temp.uns['scmemo']['groups']:\n",
    "        _, ct, stim, ind = group.split('^')\n",
    "        if ct not in cts:\n",
    "            continue\n",
    "        df_list.append((label_converter[ct], stim,ind,adata_temp.uns['scmemo']['2d_moments'][group]['corr'][0][0]))\n",
    "    return pd.DataFrame(df_list, columns=[ 'ct','stim','ind', 'corr'])"
   ]
  },
  {
   "cell_type": "code",
   "execution_count": null,
   "metadata": {},
   "outputs": [],
   "source": [
    "sig_genes = sig_counts[sig_counts > 10].index.tolist()\n",
    "gene_to_id = dict(zip(sig_genes, range(len(sig_genes))))"
   ]
  },
  {
   "cell_type": "code",
   "execution_count": null,
   "metadata": {},
   "outputs": [],
   "source": [
    "len(sig_genes)"
   ]
  },
  {
   "cell_type": "code",
   "execution_count": null,
   "metadata": {},
   "outputs": [],
   "source": [
    "sig_df.query('gene_1 in @sig_genes & gene_2 in @sig_genes').shape"
   ]
  },
  {
   "cell_type": "code",
   "execution_count": null,
   "metadata": {},
   "outputs": [],
   "source": [
    "import igraph as ig\n",
    "import leidenalg as la"
   ]
  },
  {
   "cell_type": "code",
   "execution_count": null,
   "metadata": {},
   "outputs": [],
   "source": [
    "g = ig.Graph()\n",
    "g.add_vertices(len(sig_genes))\n",
    "for idx, row in sig_df.iterrows():\n",
    "    if row['gene_1'] in sig_genes and row['gene_2'] in sig_genes:\n",
    "        g.add_edge(gene_to_id[row['gene_1']], gene_to_id[row['gene_2']], weight=np.abs(row['corr_coef']))"
   ]
  },
  {
   "cell_type": "code",
   "execution_count": null,
   "metadata": {},
   "outputs": [],
   "source": [
    "partition = la.ModularityVertexPartition(g)\n",
    "optimiser = la.Optimiser()\n",
    "diff = optimiser.optimise_partition(partition)"
   ]
  },
  {
   "cell_type": "code",
   "execution_count": null,
   "metadata": {},
   "outputs": [],
   "source": [
    "np.unique(partition.membership).shape"
   ]
  },
  {
   "cell_type": "code",
   "execution_count": null,
   "metadata": {},
   "outputs": [],
   "source": [
    "np.bincount(partition.membership)#.sum()"
   ]
  },
  {
   "cell_type": "code",
   "execution_count": null,
   "metadata": {},
   "outputs": [],
   "source": [
    "d = gseapy.enrichr(\n",
    "    gene_list=np.array(sig_genes)[np.array(partition.membership)==8].tolist(), \n",
    "    description='pathway', gene_sets='KEGG_2019_Human', outdir='gsea')\n"
   ]
  },
  {
   "cell_type": "code",
   "execution_count": null,
   "metadata": {},
   "outputs": [],
   "source": [
    "d.res2d.head(10)"
   ]
  },
  {
   "cell_type": "code",
   "execution_count": null,
   "metadata": {},
   "outputs": [],
   "source": []
  },
  {
   "cell_type": "code",
   "execution_count": null,
   "metadata": {},
   "outputs": [],
   "source": []
  },
  {
   "cell_type": "code",
   "execution_count": null,
   "metadata": {},
   "outputs": [],
   "source": [
    "np.unique(partition.membership).shape"
   ]
  },
  {
   "cell_type": "code",
   "execution_count": null,
   "metadata": {},
   "outputs": [],
   "source": [
    "np.bincount(partition.membership)"
   ]
  },
  {
   "cell_type": "code",
   "execution_count": null,
   "metadata": {},
   "outputs": [],
   "source": []
  },
  {
   "cell_type": "code",
   "execution_count": null,
   "metadata": {},
   "outputs": [],
   "source": [
    "partition"
   ]
  },
  {
   "cell_type": "code",
   "execution_count": null,
   "metadata": {},
   "outputs": [],
   "source": [
    "g = ig.Graph()"
   ]
  },
  {
   "cell_type": "code",
   "execution_count": null,
   "metadata": {},
   "outputs": [],
   "source": [
    "g"
   ]
  },
  {
   "cell_type": "code",
   "execution_count": null,
   "metadata": {},
   "outputs": [],
   "source": [
    "tf_sig"
   ]
  },
  {
   "cell_type": "code",
   "execution_count": null,
   "metadata": {},
   "outputs": [],
   "source": [
    "def get_gene_partners(gene):\n",
    "    \n",
    "    genes = []\n",
    "    genes += sig_df.query('gene_1 == \"{}\"'.format(gene)).gene_2.tolist()\n",
    "    genes += sig_df.query('gene_2 == \"{}\"'.format(gene)).gene_1.tolist()\n",
    "    \n",
    "    return list(set(genes))"
   ]
  },
  {
   "cell_type": "code",
   "execution_count": null,
   "metadata": {},
   "outputs": [],
   "source": [
    "import functools"
   ]
  },
  {
   "cell_type": "code",
   "execution_count": null,
   "metadata": {},
   "outputs": [],
   "source": [
    "tf_partners = {tf:get_gene_partners(tf) for tf in tf_sig}"
   ]
  },
  {
   "cell_type": "code",
   "execution_count": null,
   "metadata": {},
   "outputs": [],
   "source": [
    "irfs = ['IRF' + str(i) for i in range(3)]\n",
    "stats = [gene for gene in target_genes if 'STAT' in gene]\n",
    "stats = [gene for gene in target_genes if 'STAT' in gene]"
   ]
  },
  {
   "cell_type": "code",
   "execution_count": null,
   "metadata": {},
   "outputs": [],
   "source": [
    "'IRF5' in target_genes"
   ]
  },
  {
   "cell_type": "code",
   "execution_count": null,
   "metadata": {},
   "outputs": [],
   "source": [
    "sig_df.query('gene_1 in @irfs | gene_2 in @irfs & corr_coef > 0').sort_values('corr_pval').head(100)"
   ]
  },
  {
   "cell_type": "code",
   "execution_count": null,
   "metadata": {},
   "outputs": [],
   "source": [
    "sig_df.query('gene_1 == \"STAT3\" | gene_2 == \"STAT3\" & corr_coef > 0')"
   ]
  },
  {
   "cell_type": "code",
   "execution_count": null,
   "metadata": {},
   "outputs": [],
   "source": [
    "go_dict = {}\n",
    "kegg_dict = {}\n",
    "\n",
    "for tf in tf_sig:\n",
    "    kegg_df = gseapy.enrichr(gene_list=tf_partners[tf], description='pathway', gene_sets='KEGG_2019_Human', outdir='gsea').res2d\n",
    "    go_df = gseapy.enrichr(gene_list=tf_partners[tf], description='ontology', gene_sets='GO_Biological_Process_2018', outdir='gsea').res2d\n",
    "    \n",
    "    go_df = go_df[go_df['Adjusted P-value'] < 0.1].copy()\n",
    "    kegg_df = kegg_df[kegg_df['Adjusted P-value'] < 0.1].copy()\n",
    "    \n",
    "    go_dict[tf] = go_df.copy()\n",
    "    kegg_dict[tf] = kegg_df.copy()\n",
    "        \n",
    "    print(tf, go_df.shape, kegg_df.shape)\n"
   ]
  },
  {
   "cell_type": "code",
   "execution_count": null,
   "metadata": {},
   "outputs": [],
   "source": [
    "go_dict['BATF']"
   ]
  },
  {
   "cell_type": "code",
   "execution_count": null,
   "metadata": {},
   "outputs": [],
   "source": []
  },
  {
   "cell_type": "code",
   "execution_count": null,
   "metadata": {},
   "outputs": [],
   "source": []
  },
  {
   "cell_type": "code",
   "execution_count": null,
   "metadata": {},
   "outputs": [],
   "source": [
    "include_tfs = []\n",
    "for tf in tf_sig:\n",
    "    \n",
    "    print(tf, '====================================================')\n",
    "    if go_dict[tf].shape[0] > 0:\n",
    "        print(go_dict[tf].to_string())\n",
    "    if kegg_dict[tf].shape[0] > 0:\n",
    "        print(kegg_dict[tf].to_string())\n",
    "    if go_dict[tf].shape[0] > 0 or kegg_dict[tf].shape[0] > 0:\n",
    "        include_tfs.append(tf)"
   ]
  },
  {
   "cell_type": "code",
   "execution_count": null,
   "metadata": {},
   "outputs": [],
   "source": [
    "gene_order = functools.reduce(lambda x,y: x + y, [tf_partners[tf] for tf in include_tfs])"
   ]
  },
  {
   "cell_type": "code",
   "execution_count": null,
   "metadata": {},
   "outputs": [],
   "source": [
    "sig_df.head(5)"
   ]
  },
  {
   "cell_type": "code",
   "execution_count": null,
   "metadata": {},
   "outputs": [],
   "source": [
    "plt.figure(figsize=(7, 3))\n",
    "\n",
    "import matplotlib.pylab as pylab\n",
    "params = {'legend.fontsize': 'medium',\n",
    "         'axes.labelsize': 'medium',\n",
    "         'axes.titlesize':'medium',\n",
    "         'figure.titlesize':'medium',\n",
    "         'xtick.labelsize':'small',\n",
    "         'ytick.labelsize':'small'}\n",
    "pylab.rcParams.update(params)\n",
    "\n",
    "sns.heatmap(heatmap_df.loc[gene_order, include_tfs].T, vmin=-0.1, vmax=10, center=0)\n",
    "plt.xticks([])"
   ]
  },
  {
   "cell_type": "code",
   "execution_count": null,
   "metadata": {},
   "outputs": [],
   "source": []
  },
  {
   "cell_type": "code",
   "execution_count": null,
   "metadata": {},
   "outputs": [],
   "source": []
  },
  {
   "cell_type": "code",
   "execution_count": null,
   "metadata": {},
   "outputs": [],
   "source": []
  },
  {
   "cell_type": "code",
   "execution_count": null,
   "metadata": {},
   "outputs": [],
   "source": [
    "sns.heatmap(heatmap_df.loc[gene_order, gene_order], vmin=-0.1, vmax=10, center=0)\n"
   ]
  },
  {
   "cell_type": "code",
   "execution_count": null,
   "metadata": {},
   "outputs": [],
   "source": [
    "tf_sig_df = sig_df.query('gene_1 in @tf_sig | gene_2 in @tf_sig')\n",
    "tf_sig_genes = set(tf_sig_df.gene_1.tolist() + tf_sig_df.gene_2.tolist()) - sig_tfs\n",
    "tf_sig_genes &= set(sig_counts[sig_counts > 5].index)"
   ]
  },
  {
   "cell_type": "code",
   "execution_count": null,
   "metadata": {},
   "outputs": [],
   "source": [
    "'TXN' in tf_sig_genes"
   ]
  },
  {
   "cell_type": "code",
   "execution_count": null,
   "metadata": {},
   "outputs": [],
   "source": [
    "print(len(tf_sig), len(tf_sig_genes))"
   ]
  },
  {
   "cell_type": "code",
   "execution_count": null,
   "metadata": {},
   "outputs": [],
   "source": [
    "tf_heatmap_df = heatmap_df.loc[tf_sig_genes, tf_sig]"
   ]
  },
  {
   "cell_type": "code",
   "execution_count": null,
   "metadata": {},
   "outputs": [],
   "source": [
    "cg = sns.clustermap(tf_heatmap_df, cmap='coolwarm', metric='cosine', center=0, vmin=-3, vmax=3, z_score=1, figsize=(15, 15))\n",
    "cg.ax_row_dendrogram.set_visible(False)\n",
    "cg.ax_col_dendrogram.set_visible(True)\n",
    "# plt.close()\n",
    "# row_order = cg.dendrogram_row.reordered_ind\n",
    "# col_order = ['ATF1', 'REST', 'NR3C1', 'BDP1','HMGN3', 'BATF','E2F4', 'CEBPZ', 'SMC3']\n",
    "# sns.heatmap(tf_heatmap_df.iloc[row_order, :].loc[:, col_order], cmap='coolwarm', vmin=-1, vmax=1)\n",
    "\n",
    "# plt.close()"
   ]
  },
  {
   "cell_type": "code",
   "execution_count": null,
   "metadata": {},
   "outputs": [],
   "source": [
    "variability_scatter(X=dat.obsm['X_tsne'], c=dat[:, 'TYR'].X.todense().A1, xlim=(-40, 20), ylim=(3, 40), s=3)\n"
   ]
  },
  {
   "cell_type": "code",
   "execution_count": null,
   "metadata": {},
   "outputs": [],
   "source": [
    "for gene in tf_sig:\n",
    "    plt.figure(figsize=(4.5, 3))\n",
    "    variability_scatter(X=dat.obsm['X_tsne'], c=dat[:, gene].X.todense().A1, xlim=(-40, 20), ylim=(3, 40), s=3)\n",
    "    plt.title(gene)\n",
    "    plt.close()\n"
   ]
  },
  {
   "cell_type": "markdown",
   "metadata": {},
   "source": [
    "### Check SAT1 and TXN correlations"
   ]
  },
  {
   "cell_type": "code",
   "execution_count": null,
   "metadata": {},
   "outputs": [],
   "source": [
    "ct = 'CD14+ Monocytes'\n",
    "\n",
    "\n",
    "norm_adata = adata.copy()\n",
    "norm_adata = norm_adata[norm_adata.obs.cell == ct].copy()\n",
    "norm_adata = norm_adata.copy()\n",
    "sc.pp.normalize_total(norm_adata, target_sum=1e4)\n",
    "dat = norm_adata[(norm_adata.obs.cell == ct)]\n",
    "\n",
    "\n",
    "def variability_scatter(X, c, xlim=None, ylim=None, s=5):\n",
    "    \n",
    "    order = np.argsort(c)\n",
    "    c = np.clip(c, a_min=0, a_max=np.quantile(c, 0.995))\n",
    "    plt.scatter(X[order, 0], X[order, 1], c=c[order], cmap='viridis', s=s)\n",
    "\n",
    "    plt.colorbar(orientation='horizontal');\n",
    "    if xlim is not None and ylim is not None:\n",
    "        plt.xlim(xlim);\n",
    "        plt.ylim(ylim);\n",
    "    plt.xticks([]); plt.yticks([]);"
   ]
  },
  {
   "cell_type": "code",
   "execution_count": null,
   "metadata": {},
   "outputs": [],
   "source": [
    "mono_1d_result = pd.read_csv('cd14_1d_result.csv')"
   ]
  },
  {
   "cell_type": "code",
   "execution_count": null,
   "metadata": {},
   "outputs": [],
   "source": [
    "import collections"
   ]
  },
  {
   "cell_type": "code",
   "execution_count": null,
   "metadata": {},
   "outputs": [],
   "source": [
    "isg_genes = mono_1d_result.query('distance < 1').gene.tolist()\n",
    "isg_genes = list(set(isg_genes) & set(target_genes))\n",
    "\n",
    "tf_genes = list(set(tfs) & set(target_genes))\n",
    "\n",
    "sig_genes = sig_df.gene_1.tolist() + sig_df.gene_2.tolist()\n",
    "sig_genes = pd.Series(collections.Counter(sig_genes))\n",
    "\n",
    "sig_genes = list(set(sig_genes[sig_genes > 5].index.tolist()))"
   ]
  },
  {
   "cell_type": "code",
   "execution_count": null,
   "metadata": {},
   "outputs": [],
   "source": [
    "mat = adata_ct.uns['schypo']['2d_ht']['corr_coef']#[:, isg_indices][isg_indices, :]\n",
    "mat[np.absolute(mat) > 2] = np.nan\n",
    "mat[np.isnan(mat)] = 0\n",
    "\n",
    "heatmap_df = pd.DataFrame(\n",
    "    mat,\n",
    "    index=target_genes,\n",
    "    columns=target_genes).fillna(0.0)\n",
    "heatmap_df = heatmap_df.loc[sig_genes, sig_genes]\n",
    "\n",
    "mat = heatmap_df.values"
   ]
  },
  {
   "cell_type": "code",
   "execution_count": null,
   "metadata": {},
   "outputs": [],
   "source": [
    "from sklearn.cluster import AgglomerativeClustering"
   ]
  },
  {
   "cell_type": "code",
   "execution_count": null,
   "metadata": {},
   "outputs": [],
   "source": [
    "clustering = AgglomerativeClustering(n_clusters=400).fit(mat)"
   ]
  },
  {
   "cell_type": "code",
   "execution_count": null,
   "metadata": {},
   "outputs": [],
   "source": [
    "clustering_result = pd.Series(clustering.labels_, index=sig_genes)"
   ]
  },
  {
   "cell_type": "code",
   "execution_count": null,
   "metadata": {},
   "outputs": [],
   "source": [
    "'ISG15' in sig_genes"
   ]
  },
  {
   "cell_type": "code",
   "execution_count": null,
   "metadata": {},
   "outputs": [],
   "source": []
  },
  {
   "cell_type": "code",
   "execution_count": null,
   "metadata": {},
   "outputs": [],
   "source": [
    "clustering.labels_"
   ]
  },
  {
   "cell_type": "code",
   "execution_count": null,
   "metadata": {},
   "outputs": [],
   "source": [
    "cg = sns.clustermap(heatmap_df, cmap='coolwarm', metric='cosine', center=0, vmin=-1, vmax=1, z_score=None)\n",
    "cg.ax_row_dendrogram.set_visible(False)\n",
    "cg.ax_col_dendrogram.set_visible(False)\n",
    "\n",
    "row_order = cg.dendrogram_row.reordered_ind\n",
    "col_order = cg.dendrogram_col.reordered_ind\n",
    "\n",
    "plt.close()"
   ]
  },
  {
   "cell_type": "markdown",
   "metadata": {},
   "source": [
    "### Create some heatmaps"
   ]
  },
  {
   "cell_type": "code",
   "execution_count": null,
   "metadata": {},
   "outputs": [],
   "source": [
    "import matplotlib.pylab as pylab\n",
    "params = {'legend.fontsize': 'medium',\n",
    "         'axes.labelsize': 'medium',\n",
    "         'axes.titlesize':'medium',\n",
    "         'figure.titlesize':'medium',\n",
    "         'xtick.labelsize':'xx-small',\n",
    "         'ytick.labelsize':'xx-small'}\n",
    "pylab.rcParams.update(params)\n"
   ]
  },
  {
   "cell_type": "code",
   "execution_count": null,
   "metadata": {},
   "outputs": [],
   "source": [
    "gene_order = np.array(target_genes)[row_order]"
   ]
  },
  {
   "cell_type": "code",
   "execution_count": null,
   "metadata": {},
   "outputs": [],
   "source": [
    "heatmap_df_clustered = heatmap_df.loc[gene_order, gene_order].copy()"
   ]
  },
  {
   "cell_type": "code",
   "execution_count": null,
   "metadata": {},
   "outputs": [],
   "source": [
    "np.where(gene_order == 'SAT1')[0][0]"
   ]
  },
  {
   "cell_type": "code",
   "execution_count": null,
   "metadata": {},
   "outputs": [],
   "source": [
    "'SEC61A1' in target_genes"
   ]
  },
  {
   "cell_type": "code",
   "execution_count": null,
   "metadata": {},
   "outputs": [],
   "source": [
    "def get_module(gene_order, start, end):\n",
    "    \n",
    "    start_idx = np.where(gene_order == start)[0][0]\n",
    "    end_idx = np.where(gene_order == end)[0][0]\n",
    "    \n",
    "    return gene_order[start_idx:end_idx].tolist()"
   ]
  },
  {
   "cell_type": "code",
   "execution_count": null,
   "metadata": {},
   "outputs": [],
   "source": []
  },
  {
   "cell_type": "code",
   "execution_count": null,
   "metadata": {},
   "outputs": [],
   "source": [
    "modules = []\n",
    "modules.append(get_module(gene_order, 'SMARCD1', 'ZNF44'))\n",
    "modules.append(get_module(gene_order, 'FOXO3', 'ITFG1'))\n",
    "modules.append(get_module(gene_order, 'MAT2B', 'CD96'))\n",
    "modules.append(get_module(gene_order, 'SEC61A1', 'HSPA6'))\n",
    "modules.append(get_module(gene_order, 'VAV3', 'SF3B5'))\n",
    "modules.append(get_module(gene_order, 'MSL3', 'CWC27'))\n",
    "modules.append(get_module(gene_order, 'SHKBP1', 'ATXN3'))\n",
    "modules.append(get_module(gene_order, 'NCSTN', 'CHCHD2'))\n",
    "\n",
    "import functools\n",
    "combined_module = functools.reduce(lambda x, y: x+y, modules)"
   ]
  },
  {
   "cell_type": "code",
   "execution_count": null,
   "metadata": {},
   "outputs": [],
   "source": [
    "np.where(gene_order == 'ISG15')[0][0]"
   ]
  },
  {
   "cell_type": "code",
   "execution_count": null,
   "metadata": {},
   "outputs": [],
   "source": [
    "idx= np.where(gene_order == 'TXN')[0][0]\n",
    "print(idx)"
   ]
  },
  {
   "cell_type": "code",
   "execution_count": null,
   "metadata": {},
   "outputs": [],
   "source": [
    "for gene in target_genes:\n",
    "    if 'HLA-D' in gene:\n",
    "        print(gene)"
   ]
  },
  {
   "cell_type": "code",
   "execution_count": null,
   "metadata": {},
   "outputs": [],
   "source": [
    "plt.figure(figsize=(15, 15))\n",
    "\n",
    "\n",
    "ax = sns.heatmap(heatmap_df_clustered.iloc[idx-50:idx+50, idx-50:idx+50],center=0, cmap='coolwarm', vmin=-1, vmax=1)\n",
    "ax.set_aspect(\"equal\")"
   ]
  },
  {
   "cell_type": "code",
   "execution_count": null,
   "metadata": {},
   "outputs": [],
   "source": [
    "import gseapy"
   ]
  },
  {
   "cell_type": "code",
   "execution_count": null,
   "metadata": {},
   "outputs": [],
   "source": [
    "gseapy.enrichr(gene_list=modules[2], description='pathway', gene_sets='KEGG_2019_Human', outdir='gsea')\n",
    "# enrichr_result = pd.read_csv('gsea/KEGG_2019_Human.pathway.enrichr.reports.txt', sep='\\t')"
   ]
  },
  {
   "cell_type": "code",
   "execution_count": null,
   "metadata": {},
   "outputs": [],
   "source": [
    "enrichr_result"
   ]
  },
  {
   "cell_type": "code",
   "execution_count": null,
   "metadata": {},
   "outputs": [],
   "source": [
    "for idx, module in enumerate(modules):\n",
    "    print('module', idx)\n",
    "    \n",
    "    print('tfs', set(module)&set(tfs))\n",
    "    print('isg', set(module)&set(isg_genes))"
   ]
  },
  {
   "cell_type": "code",
   "execution_count": null,
   "metadata": {},
   "outputs": [],
   "source": [
    "plt.figure(figsize=(5, 5))\n",
    "ax = sns.heatmap(heatmap_df_clustered.loc[combined_module, combined_module],center=0, cmap='coolwarm', vmin=-1, vmax=1)\n",
    "ax.set_aspect(\"equal\")"
   ]
  },
  {
   "cell_type": "code",
   "execution_count": null,
   "metadata": {},
   "outputs": [],
   "source": []
  },
  {
   "cell_type": "code",
   "execution_count": null,
   "metadata": {},
   "outputs": [],
   "source": []
  },
  {
   "cell_type": "code",
   "execution_count": null,
   "metadata": {},
   "outputs": [],
   "source": []
  },
  {
   "cell_type": "code",
   "execution_count": null,
   "metadata": {},
   "outputs": [],
   "source": [
    "row_order[:5]"
   ]
  },
  {
   "cell_type": "code",
   "execution_count": null,
   "metadata": {},
   "outputs": [],
   "source": [
    "col_order[:5]"
   ]
  },
  {
   "cell_type": "code",
   "execution_count": null,
   "metadata": {},
   "outputs": [],
   "source": [
    "mono_result_df['corr_coef'].hist(bins=50)"
   ]
  },
  {
   "cell_type": "code",
   "execution_count": null,
   "metadata": {},
   "outputs": [],
   "source": [
    "sig_df['corr_coef'].hist(bins=50)"
   ]
  },
  {
   "cell_type": "code",
   "execution_count": null,
   "metadata": {},
   "outputs": [],
   "source": [
    "sig_genes = sig_df.groupby('gene_1').size() + sig_df.groupby('gene_2').size()\n",
    "sig_genes = sig_genes[sig_genes > 100].index.tolist()\n",
    "# sig_genes = list(set(tfs) & set(target_genes))\n",
    "# sig_genes = ['IRF1', 'IRF2', 'IRF7', 'IRF8']\n",
    "sig_gene_indices = [target_genes.index(gene) for gene in sig_genes]"
   ]
  },
  {
   "cell_type": "code",
   "execution_count": null,
   "metadata": {},
   "outputs": [],
   "source": [
    "plot_genes = []\n",
    "num_per_sig = 20\n",
    "for gene in sig_genes:\n",
    "    \n",
    "    d1 = sig_df.query('gene_1 == \"{}\"'.format(gene))\n",
    "    d2 = sig_df.query('gene_2 == \"{}\"'.format(gene))\n",
    "    \n",
    "    sorted_coef = np.sort(np.concatenate([d1['corr_coef'].values, d2['corr_coef'].values]))\n",
    "    up_cutoff, low_cutoff = sorted_coef[-num_per_sig], sorted_coef[num_per_sig]\n",
    "    up_cutoff, low_cutoff = 0, 0\n",
    "    \n",
    "    plot_genes += d1.query('corr_coef >= {} | corr_coef <= {}'.format(up_cutoff, low_cutoff)).gene_2.tolist()\n",
    "    plot_genes += d2.query('corr_coef >= {} | corr_coef <= {}'.format(up_cutoff, low_cutoff)).gene_1.tolist()\n",
    "\n",
    "plot_genes = list(set(plot_genes))\n",
    "plot_gene_indices = [target_genes.index(gene) for gene in plot_genes]"
   ]
  },
  {
   "cell_type": "code",
   "execution_count": null,
   "metadata": {},
   "outputs": [],
   "source": [
    "len(plot_genes)"
   ]
  },
  {
   "cell_type": "code",
   "execution_count": null,
   "metadata": {},
   "outputs": [],
   "source": []
  },
  {
   "cell_type": "code",
   "execution_count": null,
   "metadata": {},
   "outputs": [],
   "source": [
    "from sklearn.preprocessing import StandardScaler, MinMaxScaler\n",
    "\n",
    "mat = adata_ct.uns['schypo']['2d_ht']['corr_coef'][:, sig_gene_indices][plot_gene_indices, :]\n",
    "mat[np.absolute(mat) > 2] = np.nan\n",
    "\n",
    "# mat = StandardScaler().fit_transform(mat)\n",
    "\n",
    "heatmap_df = pd.DataFrame(\n",
    "    mat,\n",
    "    index=plot_genes,\n",
    "    columns=sig_genes).fillna(0.0)\n",
    "# heatmap_df = heatmap_df.clip(-0.5, 0.5)\n",
    "\n",
    "\n",
    "mat = adata_ct.uns['schypo']['2d_ht']['corr_coef']#[:, sig_gene_indices][plot_gene_indices, :]\n",
    "mat[np.absolute(mat) > 2] = np.nan\n",
    "\n",
    "heatmap_df = pd.DataFrame(\n",
    "    mat,\n",
    "    index=target_genes,\n",
    "    columns=target_genes).fillna(0.0)\n",
    "# heatmap_df = heatmap_df.clip(-0.5, 0.5)"
   ]
  },
  {
   "cell_type": "code",
   "execution_count": null,
   "metadata": {},
   "outputs": [],
   "source": [
    "clustering.labels_"
   ]
  },
  {
   "cell_type": "code",
   "execution_count": null,
   "metadata": {},
   "outputs": [],
   "source": [
    "heatmap_df.shape"
   ]
  },
  {
   "cell_type": "code",
   "execution_count": null,
   "metadata": {},
   "outputs": [],
   "source": [
    "cg = sns.clustermap(heatmap_df, cmap='coolwarm', metric='cosine', center=0, vmin=-1.5, vmax=1.5, z_score=1)\n",
    "cg.ax_row_dendrogram.set_visible(False)\n",
    "cg.ax_col_dendrogram.set_visible(True)\n",
    "\n",
    "row_order = cg.dendrogram_row.reordered_ind\n",
    "col_order = cg.dendrogram_col.reordered_ind\n",
    "plt.close()\n",
    "\n",
    "plt.figure(figsize=(7, 15))\n",
    "sns.heatmap(heatmap_df.iloc[row_order, col_order],center=0, vmin=-1.5, vmax=1.5, cmap='coolwarm')\n"
   ]
  },
  {
   "cell_type": "code",
   "execution_count": null,
   "metadata": {},
   "outputs": [],
   "source": []
  },
  {
   "cell_type": "code",
   "execution_count": null,
   "metadata": {},
   "outputs": [],
   "source": []
  },
  {
   "cell_type": "markdown",
   "metadata": {},
   "source": [
    "### Differences between ISGs"
   ]
  },
  {
   "cell_type": "code",
   "execution_count": null,
   "metadata": {},
   "outputs": [],
   "source": [
    "mat = adata_ct.uns['schypo']['2d_ht']['corr_coef'][:, isg_indices][isg_indices, :]\n",
    "mat[np.absolute(mat) > 2] = np.nan\n",
    "\n",
    "heatmap_df = pd.DataFrame(\n",
    "    mat,\n",
    "    index=isg_genes,\n",
    "    columns=isg_genes).fillna(0.0)\n",
    "# heatmap_df = heatmap_df.clip(-0.5, 0.5)"
   ]
  },
  {
   "cell_type": "code",
   "execution_count": null,
   "metadata": {},
   "outputs": [],
   "source": [
    "cg = sns.clustermap(heatmap_df, cmap='coolwarm', metric='cosine', center=0, z_score=1)\n",
    "cg.ax_row_dendrogram.set_visible(False)\n",
    "cg.ax_col_dendrogram.set_visible(True)\n",
    "row_order = cg.dendrogram_row.reordered_ind\n"
   ]
  },
  {
   "cell_type": "code",
   "execution_count": null,
   "metadata": {},
   "outputs": [],
   "source": [
    "np.array(isg_genes)[row_order]"
   ]
  },
  {
   "cell_type": "code",
   "execution_count": null,
   "metadata": {},
   "outputs": [],
   "source": [
    "ct = 'CD14+ Monocytes'\n",
    "\n",
    "\n",
    "norm_adata = adata.copy()\n",
    "norm_adata = norm_adata[norm_adata.obs.cell == ct].copy()\n",
    "norm_adata = norm_adata.copy()\n",
    "sc.pp.normalize_total(norm_adata, target_sum=1e4)\n",
    "\n",
    "def variability_scatter(X, c, xlim=None, ylim=None, s=5):\n",
    "    \n",
    "    order = np.argsort(c)\n",
    "    c = np.clip(c, a_min=0, a_max=np.quantile(c, 0.995))\n",
    "    plt.scatter(X[order, 0], X[order, 1], c=c[order], cmap='viridis', s=s)\n",
    "\n",
    "    plt.colorbar(orientation='horizontal');\n",
    "    if xlim is not None and ylim is not None:\n",
    "        plt.xlim(xlim);\n",
    "        plt.ylim(ylim);\n",
    "    plt.xticks([]); plt.yticks([]);"
   ]
  },
  {
   "cell_type": "code",
   "execution_count": null,
   "metadata": {},
   "outputs": [],
   "source": [
    "sig_df.query('gene_1 in @isg_genes & gene_2 in @isg_genes').sort_values('corr_coef')"
   ]
  },
  {
   "cell_type": "code",
   "execution_count": null,
   "metadata": {},
   "outputs": [],
   "source": [
    "mono_result_df.query('gene_1 == \"IFITM3\" & gene_2 == \"ISG20\"')"
   ]
  },
  {
   "cell_type": "code",
   "execution_count": null,
   "metadata": {},
   "outputs": [],
   "source": [
    "gene_1, gene_2 = 'IFIT3', 'ISG20'\n",
    "dat = norm_adata[(norm_adata.obs.cell == ct)]\n",
    "\n",
    "plt.figure(figsize=(4.5, 3))\n",
    "plt.subplots_adjust(wspace=0.05)\n",
    "plt.subplot(1, 2, 1)\n",
    "variability_scatter(X=dat.obsm['X_tsne'], c=dat[:, gene_1].X.todense().A1, xlim=(-40, 20), ylim=(3, 40), s=3)\n",
    "plt.title(gene_1)\n",
    "plt.subplot(1, 2, 2)\n",
    "variability_scatter(X=dat.obsm['X_tsne'], c=dat[:, gene_2].X.todense().A1, xlim=(-40, 20), ylim=(3, 40), s=3)\n",
    "plt.title(gene_2)\n",
    "# plt.savefig(fig_path + 'TXN_IFI6_variability.png', bbox_inches='tight')"
   ]
  },
  {
   "cell_type": "code",
   "execution_count": null,
   "metadata": {},
   "outputs": [],
   "source": [
    "for gene in ['SP110',\n",
    "       'ISG20', 'ISG15', 'TNFSF13B', 'XAF1', 'IFI6', 'IFITM3', 'OAS2',\n",
    "       'NMI', 'TNFSF10', 'IFIT3', 'MX1', 'OAS1']:\n",
    "    plt.figure(figsize=(4.5, 3))\n",
    "    variability_scatter(X=dat.obsm['X_tsne'], c=dat[:, gene].X.todense().A1, xlim=(-40, 20), ylim=(3, 40), s=3)\n",
    "    plt.title(gene)\n"
   ]
  },
  {
   "cell_type": "code",
   "execution_count": null,
   "metadata": {},
   "outputs": [],
   "source": [
    "gene_1, gene_2 = 'IFITM3', 'ISG20'\n",
    "dat = norm_adata[(norm_adata.obs.cell == ct)]\n",
    "\n",
    "plt.figure(figsize=(4.5, 3))\n",
    "plt.subplots_adjust(wspace=0.05)\n",
    "plt.subplot(1, 2, 1)\n",
    "variability_scatter(X=dat.obsm['X_tsne'], c=dat[:, gene_1].X.todense().A1, xlim=(-40, 20), ylim=(3, 40), s=3)\n",
    "plt.title(gene_1)\n",
    "plt.subplot(1, 2, 2)\n",
    "variability_scatter(X=dat.obsm['X_tsne'], c=dat[:, gene_2].X.todense().A1, xlim=(-40, 20), ylim=(3, 40), s=3)\n",
    "plt.title(gene_2)\n",
    "# plt.savefig(fig_path + 'TXN_IFI6_variability.png', bbox_inches='tight')"
   ]
  },
  {
   "cell_type": "code",
   "execution_count": null,
   "metadata": {},
   "outputs": [],
   "source": []
  },
  {
   "cell_type": "code",
   "execution_count": null,
   "metadata": {},
   "outputs": [],
   "source": []
  },
  {
   "cell_type": "code",
   "execution_count": null,
   "metadata": {},
   "outputs": [],
   "source": []
  },
  {
   "cell_type": "code",
   "execution_count": null,
   "metadata": {},
   "outputs": [],
   "source": []
  },
  {
   "cell_type": "code",
   "execution_count": null,
   "metadata": {},
   "outputs": [],
   "source": []
  },
  {
   "cell_type": "code",
   "execution_count": null,
   "metadata": {},
   "outputs": [],
   "source": []
  },
  {
   "cell_type": "code",
   "execution_count": null,
   "metadata": {},
   "outputs": [],
   "source": []
  },
  {
   "cell_type": "code",
   "execution_count": null,
   "metadata": {},
   "outputs": [],
   "source": []
  },
  {
   "cell_type": "code",
   "execution_count": null,
   "metadata": {},
   "outputs": [],
   "source": []
  },
  {
   "cell_type": "code",
   "execution_count": null,
   "metadata": {},
   "outputs": [],
   "source": []
  },
  {
   "cell_type": "code",
   "execution_count": null,
   "metadata": {},
   "outputs": [],
   "source": []
  },
  {
   "cell_type": "code",
   "execution_count": null,
   "metadata": {},
   "outputs": [],
   "source": []
  },
  {
   "cell_type": "code",
   "execution_count": null,
   "metadata": {},
   "outputs": [],
   "source": []
  },
  {
   "cell_type": "code",
   "execution_count": null,
   "metadata": {},
   "outputs": [],
   "source": []
  },
  {
   "cell_type": "code",
   "execution_count": null,
   "metadata": {},
   "outputs": [],
   "source": []
  },
  {
   "cell_type": "code",
   "execution_count": null,
   "metadata": {},
   "outputs": [],
   "source": []
  },
  {
   "cell_type": "code",
   "execution_count": null,
   "metadata": {},
   "outputs": [],
   "source": []
  },
  {
   "cell_type": "code",
   "execution_count": null,
   "metadata": {},
   "outputs": [],
   "source": []
  },
  {
   "cell_type": "code",
   "execution_count": null,
   "metadata": {},
   "outputs": [],
   "source": []
  },
  {
   "cell_type": "code",
   "execution_count": null,
   "metadata": {},
   "outputs": [],
   "source": []
  },
  {
   "cell_type": "code",
   "execution_count": null,
   "metadata": {},
   "outputs": [],
   "source": [
    "heatmap_df.head(5)"
   ]
  },
  {
   "cell_type": "code",
   "execution_count": null,
   "metadata": {},
   "outputs": [],
   "source": [
    "gene_counts = pd.DataFrame()\n",
    "gene_counts['gene'] = "
   ]
  },
  {
   "cell_type": "code",
   "execution_count": null,
   "metadata": {},
   "outputs": [],
   "source": [
    "sig_genes = list(set(mono_result_df.query('corr_fdr < 0.1').gene_1.tolist() + mono_result_df.query('corr_fdr < 0.1').gene_2.tolist()))"
   ]
  },
  {
   "cell_type": "code",
   "execution_count": null,
   "metadata": {},
   "outputs": [],
   "source": [
    "len(sig_genes)"
   ]
  },
  {
   "cell_type": "code",
   "execution_count": null,
   "metadata": {},
   "outputs": [],
   "source": [
    "mono_result_df.query('corr_fdr < 0.1').shape"
   ]
  },
  {
   "cell_type": "code",
   "execution_count": null,
   "metadata": {},
   "outputs": [],
   "source": [
    "mono_result_df.query('corr_fdr < 0.1').query('gene_2 == \"MYC\"')"
   ]
  },
  {
   "cell_type": "code",
   "execution_count": null,
   "metadata": {},
   "outputs": [],
   "source": [
    "mono_result_df.query('corr_fdr < 0.1').query('gene_1 == \"MYC\"')"
   ]
  },
  {
   "cell_type": "code",
   "execution_count": null,
   "metadata": {},
   "outputs": [],
   "source": []
  },
  {
   "cell_type": "code",
   "execution_count": null,
   "metadata": {},
   "outputs": [],
   "source": []
  },
  {
   "cell_type": "code",
   "execution_count": null,
   "metadata": {},
   "outputs": [],
   "source": []
  },
  {
   "cell_type": "code",
   "execution_count": null,
   "metadata": {},
   "outputs": [],
   "source": [
    "a.query('corr_fdr < 0.1').shape"
   ]
  },
  {
   "cell_type": "code",
   "execution_count": null,
   "metadata": {},
   "outputs": [],
   "source": [
    "mono_result_df.query('corr_fdr < 0.1').shape"
   ]
  },
  {
   "cell_type": "code",
   "execution_count": null,
   "metadata": {},
   "outputs": [],
   "source": [
    "plt.hist(adata_ct.uns['schypo']['2d_ht']['corr_asl'].ravel(), bins=50);"
   ]
  },
  {
   "cell_type": "code",
   "execution_count": null,
   "metadata": {},
   "outputs": [],
   "source": []
  },
  {
   "cell_type": "code",
   "execution_count": null,
   "metadata": {},
   "outputs": [],
   "source": []
  },
  {
   "cell_type": "code",
   "execution_count": null,
   "metadata": {},
   "outputs": [],
   "source": []
  },
  {
   "cell_type": "code",
   "execution_count": null,
   "metadata": {},
   "outputs": [],
   "source": []
  },
  {
   "cell_type": "code",
   "execution_count": null,
   "metadata": {},
   "outputs": [],
   "source": []
  },
  {
   "cell_type": "markdown",
   "metadata": {},
   "source": [
    "****"
   ]
  },
  {
   "cell_type": "markdown",
   "metadata": {},
   "source": [
    "### Change in correlation in response to IFN-B in all PBMCs"
   ]
  },
  {
   "cell_type": "code",
   "execution_count": null,
   "metadata": {},
   "outputs": [],
   "source": [
    "imp.reload(estimator)\n",
    "imp.reload(hypothesis_test)\n",
    "imp.reload(bootstrap)\n",
    "imp.reload(scmemo)\n",
    "\n",
    "adata_ct =  adata.copy()#adata[adata.obs.cell == 'B cells'].copy()\n",
    "# adata_ct.obs['stim'] = np.random.choice(adata_ct.obs['stim'], adata_ct.shape[0])\n",
    "scmemo.create_groups(adata_ct, label_columns=['stim', 'ind'], inplace=True)\n",
    "\n",
    "scmemo.compute_1d_moments(\n",
    "    adata_ct, inplace=True, filter_genes=True, \n",
    "    residual_var=True, use_n_umi=False, filter_mean_thresh=0.07, \n",
    "    min_perc_group=0.7)\n",
    "print('Size of data', adata_ct.shape)\n",
    "\n",
    "available_tfs = list(set(tfs) & set(adata_ct.var.index.tolist()))\n",
    "target_genes = adata_ct.var.index.tolist()\n",
    "print('TF list length', len(available_tfs))\n",
    "scmemo.compute_2d_moments(adata_ct, available_tfs, target_genes)"
   ]
  },
  {
   "cell_type": "code",
   "execution_count": null,
   "metadata": {},
   "outputs": [],
   "source": [
    "%%time\n",
    "# scmemo.ht_2d_moments(\n",
    "#     adata_ct, \n",
    "#     formula_like='1 + stim', \n",
    "#     cov_column='stim', \n",
    "#     num_cpus=6, \n",
    "#     num_boot=10000)\n",
    "\n",
    "# adata_ct.write(data_path + 'result_2d/stim_all_pbmc.h5ad')\n",
    "\n",
    "# adata_ct = sc.read(data_path + 'result_2d/stim_all_pbmc.h5ad')\n",
    "# target_genes = adata_ct.var.index.tolist()\n",
    "# available_tfs = adata_ct.uns['scmemo']['2d_moments']['gene_1']"
   ]
  },
  {
   "cell_type": "code",
   "execution_count": null,
   "metadata": {},
   "outputs": [],
   "source": [
    "plt.hist(adata_ct.uns['scmemo']['2d_ht']['corr_asl'].ravel(), bins=20);"
   ]
  },
  {
   "cell_type": "code",
   "execution_count": null,
   "metadata": {},
   "outputs": [],
   "source": [
    "mat.shape"
   ]
  },
  {
   "cell_type": "code",
   "execution_count": null,
   "metadata": {},
   "outputs": [],
   "source": [
    "len(valid_tfs)"
   ]
  },
  {
   "cell_type": "code",
   "execution_count": null,
   "metadata": {},
   "outputs": [],
   "source": []
  },
  {
   "cell_type": "code",
   "execution_count": null,
   "metadata": {},
   "outputs": [],
   "source": [
    "from sklearn.preprocessing import StandardScaler, MinMaxScaler\n",
    "\n",
    "result_df = scmemo.get_2d_ht_result(adata_ct).dropna()\n",
    "\n",
    "valid_counts = result_df.groupby('gene_1').size()\n",
    "valid_tfs = valid_counts[valid_counts > 1300].index.tolist()\n",
    "\n",
    "result_df = result_df.query('gene_1 in @valid_tfs')\n",
    "\n",
    "mat = adata_ct.uns['scmemo']['2d_ht']['corr_coef'].T\n",
    "mat = np.clip(mat, a_min=-0.6, a_max=.6)\n",
    "\n",
    "heatmap_df = pd.DataFrame(mat, index=target_genes, columns=available_tfs)[valid_tfs].fillna(0.0)"
   ]
  },
  {
   "cell_type": "code",
   "execution_count": null,
   "metadata": {},
   "outputs": [],
   "source": [
    "# Draw the heatmap\n",
    "cg = sns.clustermap(\n",
    "    heatmap_df[['JUN', 'STAT1','JUNB', 'CHD1','CEBPB', 'ATF4', 'IRF1', 'H2AFZ', 'TAF7', 'IRF2', 'GTF2B', 'IRF7', 'MAX','ATF5', 'SPI1']], \n",
    "    col_cluster=False\n",
    "    );\n",
    "cg.ax_row_dendrogram.set_visible(False)\n",
    "col_order = ['JUN', 'STAT1','JUNB', 'CHD1','CEBPB', 'ATF4', 'IRF1', 'H2AFZ', 'TAF7', 'IRF2', 'GTF2B', 'IRF7', 'MAX','ATF5', 'SPI1']\n",
    "row_order = cg.dendrogram_row.reordered_ind\n",
    "plt.close()\n",
    "\n",
    "select_rows = row_order[:int(len(row_order)/1.5)]\n",
    "print(len(select_rows))\n",
    "plt.figure(figsize=(3, 4))\n",
    "sns.heatmap(heatmap_df[col_order].iloc[select_rows, :], cmap=sns.color_palette(\"RdBu_r\", 100)[:45] + sns.color_palette(\"RdBu_r\", 100)[55:],yticklabels=[])\n",
    "# plt.savefig(fig_path + 'tf_heatmap.pdf', bbox_inches='tight')"
   ]
  },
  {
   "cell_type": "code",
   "execution_count": null,
   "metadata": {},
   "outputs": [],
   "source": [
    "new_heatmap_df = heatmap_df[col_order].iloc[select_rows, :]\n",
    "sns.heatmap(new_heatmap_df.iloc[200:300], cmap=sns.color_palette(\"RdBu_r\", 100)[:45] + sns.color_palette(\"RdBu_r\", 100)[55:],yticklabels=[])\n",
    "genes_1 = new_heatmap_df.iloc[200:300].index.tolist()"
   ]
  },
  {
   "cell_type": "code",
   "execution_count": null,
   "metadata": {},
   "outputs": [],
   "source": [
    "print(genes_1)"
   ]
  },
  {
   "cell_type": "code",
   "execution_count": null,
   "metadata": {},
   "outputs": [],
   "source": [
    "for gene in genes_1:\n",
    "    print('---')\n",
    "    print(df.query('gene_2 == \"{}\" & gene_1 in @col_order & corr_fdr < 0.1'.format(gene)).sort_values('corr_coef'))"
   ]
  },
  {
   "cell_type": "code",
   "execution_count": null,
   "metadata": {},
   "outputs": [],
   "source": [
    "print(df.query('gene_2 == \"{}\" & gene_1 in @col_order & corr_fdr < 0.1'.format('IL4I1')).sort_values('corr_coef'))"
   ]
  },
  {
   "cell_type": "code",
   "execution_count": null,
   "metadata": {},
   "outputs": [],
   "source": [
    "tf_list = df.query('gene_2 == \"{}\" & gene_1 in @col_order & corr_fdr < 0.1'.format('IL4I1')).sort_values('corr_coef').gene_1.tolist()\n",
    "plt.figure(figsize=(4, 4))\n",
    "plt.subplots_adjust(wspace=1, hspace=0.5)\n",
    "\n",
    "idx = 0\n",
    "for tf in tf_list:\n",
    "    \n",
    "    if tf == 'IRF7':\n",
    "        continue\n",
    "        \n",
    "    plt.subplot(2, 4, idx+1)\n",
    "    gene_1 = tf\n",
    "    gene_2 = 'IL4I1'\n",
    "    \n",
    "    sns.boxplot(x='stim', y='corr',\n",
    "                data=get_ind_corr(adata_ct, gene_1, gene_2), \n",
    "                palette='Set2')\n",
    "    sns.stripplot(x='stim', y='corr',\n",
    "                data=get_ind_corr(adata_ct, gene_1, gene_2), \n",
    "                dodge=True, linewidth=2, palette='Set2')\n",
    "    plt.title(gene_1)\n",
    "    \n",
    "    plt.ylabel(''); plt.xlabel('')\n",
    "\n",
    "    if idx == 0 or idx == 4:\n",
    "        plt.ylabel('Correlation with {}'.format(gene_2))\n",
    "    plt.xticks([0, 1], ['c', 's'])\n",
    "    \n",
    "    idx += 1\n",
    "# plt.savefig(fig_path + 'IL4I1_diff_tfs.pdf', bbox_inches='tight')"
   ]
  },
  {
   "cell_type": "markdown",
   "metadata": {},
   "source": [
    "### CD4 Analysis"
   ]
  },
  {
   "cell_type": "code",
   "execution_count": null,
   "metadata": {},
   "outputs": [],
   "source": [
    "imp.reload(estimator)\n",
    "imp.reload(hypothesis_test)\n",
    "imp.reload(bootstrap)\n",
    "imp.reload(scmemo)\n",
    "\n",
    "adata_ct =  adata[adata.obs.cell == 'CD14+ Monocytes'].copy()\n",
    "# adata_ct.obs['stim'] = np.random.choice(adata_ct.obs['stim'], adata_ct.shape[0])\n",
    "scmemo.create_groups(adata_ct, label_columns=['stim'], inplace=True)\n",
    "\n",
    "scmemo.compute_1d_moments(\n",
    "    adata_ct, inplace=True, filter_genes=True, \n",
    "    residual_var=True, use_n_umi=False, filter_mean_thresh=0.07, \n",
    "    min_perc_group=0.8)\n",
    "print('Size of data', adata_ct.shape)\n",
    "\n",
    "available_tfs = list(set(tfs) & set(adata_ct.var.index.tolist()))\n",
    "target_genes = adata_ct.var.index.tolist()\n",
    "print('TF list length', len(available_tfs))\n",
    "scmemo.compute_2d_moments(adata_ct, available_tfs, target_genes)"
   ]
  },
  {
   "cell_type": "code",
   "execution_count": null,
   "metadata": {},
   "outputs": [],
   "source": [
    "scmemo.ht_2d_moments(\n",
    "    adata_ct, \n",
    "    formula_like='1 + stim', \n",
    "    cov_column='stim', \n",
    "    num_cpus=6, \n",
    "    num_boot=1000)"
   ]
  },
  {
   "cell_type": "code",
   "execution_count": null,
   "metadata": {},
   "outputs": [],
   "source": [
    "# adata_ct.write(data_path + 'result_2d/cM_2d_pooled_tfs.h5ad')\n",
    "# adata_ct = sc.read(data_path + 'result_2d/Th_2d_pooled_tfs.h5ad')"
   ]
  },
  {
   "cell_type": "markdown",
   "metadata": {},
   "source": [
    "### CD4/CD14 cells comparison of differential correlation"
   ]
  },
  {
   "cell_type": "code",
   "execution_count": null,
   "metadata": {},
   "outputs": [],
   "source": [
    "def get_heatmap_df(adata_ct):\n",
    "    \n",
    "    mat = adata_ct.uns['scmemo']['2d_ht']['corr_coef'].T\n",
    "    mat[mat == 0] = np.nan\n",
    "    mat[mat < -1] = np.nan\n",
    "    mat[mat > 1] = np.nan\n",
    "\n",
    "    # mat = np.clip(mat, a_min=-0.6, a_max=0.6)\n",
    "\n",
    "\n",
    "    means = np.nanmean(mat, axis=0)\n",
    "    scales = np.nanstd(mat, axis=0)\n",
    "    mat = (mat - means)/scales\n",
    "    mat = np.clip(mat, a_min=-1.5, a_max=1.5)\n",
    "    mat[~np.isfinite(mat)] = 0\n",
    "    heatmap_df = pd.DataFrame(\n",
    "        mat, \n",
    "        index=adata_ct.uns['scmemo']['2d_moments']['gene_2'], \n",
    "        columns=adata_ct.uns['scmemo']['2d_moments']['gene_1']\n",
    "    ).dropna(0, 'any').fillna(0.0)\n",
    "\n",
    "    return heatmap_df"
   ]
  },
  {
   "cell_type": "code",
   "execution_count": null,
   "metadata": {},
   "outputs": [],
   "source": [
    "adata_Th = adata_ct = sc.read(data_path + 'result_2d/Th_2d_pooled_tfs.h5ad')\n",
    "# adata_cM = adata_ct = sc.read(data_path + 'result_2d/cM_2d_pooled_tfs.h5ad')"
   ]
  },
  {
   "cell_type": "code",
   "execution_count": null,
   "metadata": {},
   "outputs": [],
   "source": [
    "target_overlap = list(set(adata_Th.uns['scmemo']['2d_moments']['gene_2']) & set(adata_cM.uns['scmemo']['2d_moments']['gene_2']))\n",
    "tf_overlap = list(set(adata_Th.uns['scmemo']['2d_moments']['gene_1']) & set(adata_cM.uns['scmemo']['2d_moments']['gene_1']))\n"
   ]
  },
  {
   "cell_type": "code",
   "execution_count": null,
   "metadata": {},
   "outputs": [],
   "source": [
    "heatmap_df_Th = get_heatmap_df(adata_Th)[tf_overlap]#.loc[target_overlap]\n",
    "heatmap_df_Th.columns = heatmap_df_Th.columns + '_Th'\n",
    "\n",
    "heatmap_df_cM = get_heatmap_df(adata_cM)[tf_overlap]#.loc[target_overlap]\n",
    "heatmap_df_cM.columns = heatmap_df_cM.columns + '_cM'\n",
    "\n",
    "heatmap_df_all = pd.concat([heatmap_df_Th, heatmap_df_cM], axis=1)"
   ]
  },
  {
   "cell_type": "code",
   "execution_count": null,
   "metadata": {},
   "outputs": [],
   "source": [
    "heatmap_df_all.shape"
   ]
  },
  {
   "cell_type": "code",
   "execution_count": null,
   "metadata": {},
   "outputs": [],
   "source": [
    "result_df_Th = scmemo.get_2d_ht_result(adata_Th)#.dropna()\n",
    "result_df_cM = scmemo.get_2d_ht_result(adata_cM)#.dropna()\n",
    "\n",
    "result_df = result_df_Th#pd.concat([result_df_Th, result_df_cM])\n",
    "\n",
    "sig_df = result_df.sort_values('corr_coef').query('corr_fdr < 0.1')\n",
    "sig_tf = sig_df.gene_1.drop_duplicates().tolist()\n",
    "sig_tf = list(set(sig_tf) & set(tf_overlap))\n",
    "sig_target = list(set(sig_df.gene_2.drop_duplicates().tolist()) & set(target_overlap))\n",
    "\n",
    "sig_target = [tf for tf in sig_target if 'RP' != tf[:2]]"
   ]
  },
  {
   "cell_type": "code",
   "execution_count": null,
   "metadata": {},
   "outputs": [],
   "source": [
    "sig_df.shape"
   ]
  },
  {
   "cell_type": "code",
   "execution_count": null,
   "metadata": {},
   "outputs": [],
   "source": [
    "len(sig_tf)"
   ]
  },
  {
   "cell_type": "code",
   "execution_count": null,
   "metadata": {},
   "outputs": [],
   "source": [
    "heatmap_df_all.shape"
   ]
  },
  {
   "cell_type": "code",
   "execution_count": null,
   "metadata": {},
   "outputs": [],
   "source": [
    "cg = sns.clustermap(\n",
    "    heatmap_df_Th.loc[sig_target],#[['NELFE_Th', 'CBX3_Th', 'IRF7_Th', 'GTF2B_Th', 'CHD1_Th', 'ATF4_Th']], \n",
    "    cmap='coolwarm',\n",
    "    row_cluster=True,\n",
    "    col_cluster=True,\n",
    "#     metric='cosine'\n",
    "    );\n",
    "cg.ax_row_dendrogram.set_visible(False)\n",
    "row_order = cg.dendrogram_row.reordered_ind\n",
    "col_order = cg.dendrogram_col.reordered_ind\n",
    "selected_rows = list(range(35, 65)) + list(range(100, 132))\n",
    "# plt.close()\n",
    "# cg = sns.clustermap(\n",
    "#     heatmap_df_Th.loc[sig_target].iloc[selected_rows, col_order],#[['NELFE_Th', 'CBX3_Th', 'IRF7_Th', 'GTF2B_Th', 'CHD1_Th', 'ATF4_Th']], \n",
    "#     cmap='coolwarm',\n",
    "#     row_cluster=False,\n",
    "#     col_cluster=False,\n",
    "# #     metric='cosine'\n",
    "#     );\n",
    "plt.close()\n",
    "\n",
    "\n",
    "plt.figure(figsize=(3, 4))\n",
    "to_drop = ['CBX3_Th','NELFE_Th', 'NR3C1_Th', 'NCOR1_Th', 'GTF2B_Th', 'CEBPB_Th']\n",
    "temp = heatmap_df_Th.loc[sig_target].iloc[row_order[30:], col_order]\n",
    "temp = temp[[col for col in temp.columns if col not in to_drop]]\n",
    "temp.columns = temp.columns.map(lambda x: x.split('_')[0])\n",
    "sns.heatmap(temp, cmap='coolwarm')\n",
    "plt.yticks(np.arange(temp.shape[0])+0.5, temp.index, fontsize=2.4);\n",
    "plt.tick_params(axis='y', length = 0)\n",
    "plt.savefig('temp.pdf')\n",
    "plt.savefig(fig_path + 'cd4_tf_stim_corrs.pdf', bbox_inches='tight')\n"
   ]
  },
  {
   "cell_type": "code",
   "execution_count": null,
   "metadata": {},
   "outputs": [],
   "source": [
    "for gene in heatmap_df_Th.loc[sig_target].iloc[row_order[30:], col_order].index[10:50]:\n",
    "    print(result_df.query('gene_2 == \"{}\"'.format(gene)).query('corr_fdr < 0.1'))"
   ]
  },
  {
   "cell_type": "code",
   "execution_count": null,
   "metadata": {},
   "outputs": [],
   "source": [
    "gene = 'ISG15'\n",
    "tfs = ['IRF7', 'SMC3', 'JUN']\n",
    "plt.figure(figsize=(4, 2))\n",
    "plt.subplots_adjust(wspace=0.6)\n",
    "\n",
    "for idx, tf in enumerate(tfs):\n",
    "    plt.subplot(1, 3, idx+1)\n",
    "    plot_df = get_ct_ind_corr(adata, tf, gene).query('corr < 1 & corr > -1').query('ct == \"Th\"')\n",
    "    sns.boxplot(x='stim', y='corr', data=plot_df, palette='Set2')\n",
    "    sns.stripplot(x='stim', y='corr', dodge=True, data=plot_df, linewidth=2, palette='Set2')\n",
    "    plt.xlabel(None)\n",
    "    plt.title(tf)\n",
    "    if idx == 0:\n",
    "        plt.ylabel('Correlation with ISG15')\n",
    "    else:\n",
    "        plt.ylabel(None)\n",
    "plt.savefig(fig_path + 'cd4_ISG15_dc.pdf', bbox_inches='tight')\n"
   ]
  },
  {
   "cell_type": "code",
   "execution_count": null,
   "metadata": {},
   "outputs": [],
   "source": [
    "gene = 'TMSB10'\n",
    "tfs = ['IRF1', 'JUNB', 'JUN']\n",
    "plt.figure(figsize=(4, 2))\n",
    "plt.subplots_adjust(wspace=0.6)\n",
    "\n",
    "for idx, tf in enumerate(tfs):\n",
    "    plt.subplot(1, 3, idx+1)\n",
    "    plot_df = get_ct_ind_corr(adata, tf, gene).query('corr < 1 & corr > -1').query('ct == \"Th\"')\n",
    "    sns.boxplot(x='stim', y='corr', data=plot_df, palette='Set2')\n",
    "    sns.stripplot(x='stim', y='corr', dodge=True, data=plot_df, linewidth=2, palette='Set2')\n",
    "    plt.xlabel(None)\n",
    "    plt.title(tf)\n",
    "    if idx == 0:\n",
    "        plt.ylabel('Correlation with TSMB10')\n",
    "    else:\n",
    "        plt.ylabel(None)\n",
    "        \n",
    "plt.savefig(fig_path + 'cd4_TSMB10_dc.pdf', bbox_inches='tight')\n"
   ]
  },
  {
   "cell_type": "markdown",
   "metadata": {},
   "source": [
    "### Network figure"
   ]
  },
  {
   "cell_type": "code",
   "execution_count": null,
   "metadata": {},
   "outputs": [],
   "source": [
    "def get_heatmap_df(adata_ct, normalize=False):\n",
    "    \n",
    "    mat = adata_ct.uns['scmemo']['2d_ht']['corr_coef'].T\n",
    "    mat[mat == 0] = np.nan\n",
    "    mat[mat < -1] = np.nan\n",
    "    mat[mat > 1] = np.nan\n",
    "\n",
    "    # mat = np.clip(mat, a_min=-0.6, a_max=0.6)\n",
    "\n",
    "    if normalize:\n",
    "        means = np.nanmean(mat, axis=0)\n",
    "        scales = np.nanstd(mat, axis=0)\n",
    "        mat = (mat - means)/scales\n",
    "        mat = np.clip(mat, a_min=-1.5, a_max=1.5)\n",
    "    mat[~np.isfinite(mat)] = 0\n",
    "    heatmap_df = pd.DataFrame(\n",
    "        mat, \n",
    "        index=adata_ct.uns['scmemo']['2d_moments']['gene_2'], \n",
    "        columns=adata_ct.uns['scmemo']['2d_moments']['gene_1']\n",
    "    ).dropna(0, 'any').fillna(0.0)\n",
    "\n",
    "    return heatmap_df"
   ]
  },
  {
   "cell_type": "code",
   "execution_count": null,
   "metadata": {},
   "outputs": [],
   "source": [
    "heatmap_df_Th = get_heatmap_df(adata_Th, normalize=False)[tf_overlap]#.loc[target_overlap]\n",
    "\n",
    "cg = sns.clustermap(\n",
    "    heatmap_df_Th.loc[sig_target],#[['NELFE_Th', 'CBX3_Th', 'IRF7_Th', 'GTF2B_Th', 'CHD1_Th', 'ATF4_Th']], \n",
    "    cmap='coolwarm',\n",
    "    row_cluster=True,\n",
    "    col_cluster=True,\n",
    "#     metric='cosine'\n",
    "    );\n",
    "cg.ax_row_dendrogram.set_visible(False)\n",
    "row_order = cg.dendrogram_row.reordered_ind\n",
    "col_order = cg.dendrogram_col.reordered_ind\n",
    "selected_rows = list(range(35, 65)) + list(range(100, 132))\n",
    "plt.close()\n",
    "\n",
    "\n",
    "plt.figure(figsize=(3, 4))\n",
    "to_drop = ['CBX3','NELFE', 'NR3C1', 'NCOR1', 'GTF2B', 'CEBPB']\n",
    "temp = heatmap_df_Th.loc[sig_target].iloc[row_order[30:], col_order]\n",
    "temp = temp[[col for col in temp.columns if col not in to_drop]]\n",
    "temp.columns = temp.columns.map(lambda x: x.split('_')[0])\n",
    "sns.heatmap(temp, cmap='coolwarm')\n",
    "plt.yticks(np.arange(temp.shape[0])+0.5, temp.index, fontsize=2.4);\n",
    "plt.tick_params(axis='y', length = 0)\n",
    "# plt.savefig(fig_path + 'cd4_tf_stim_corrs.pdf', bbox_inches='tight')\n"
   ]
  },
  {
   "cell_type": "code",
   "execution_count": null,
   "metadata": {},
   "outputs": [],
   "source": [
    "final_tf_list = temp.columns.tolist()"
   ]
  },
  {
   "cell_type": "code",
   "execution_count": null,
   "metadata": {},
   "outputs": [],
   "source": [
    "gene_set_1 = heatmap_df_Th.loc[sig_target].iloc[row_order[30:90], col_order].index.tolist()\n",
    "gene_set_2 = heatmap_df_Th.loc[sig_target].iloc[row_order[90:], col_order].index.tolist()\n",
    "# final_tfs = [col for col in gene_set_1.columns if col not in to_drop]\n",
    "# gene_set_1.columns = gene_set_1.columns.map(lambda x: x.split('_')[0])\n",
    "# gene_set_2.columns = gene_set_2.columns.map(lambda x: x.split('_')[0])\n"
   ]
  },
  {
   "cell_type": "code",
   "execution_count": null,
   "metadata": {},
   "outputs": [],
   "source": [
    "ctrl_corr_df = pd.DataFrame(\n",
    "    data=adata_Th.uns['scmemo']['2d_moments']['sg^ctrl']['corr'].T,\n",
    "    index=adata_Th.uns['scmemo']['2d_moments']['gene_2'],\n",
    "    columns=adata_Th.uns['scmemo']['2d_moments']['gene_1'])\n",
    "ctrl_corr_df = ctrl_corr_df.loc[gene_set_2, final_tf_list].dropna().clip(-0.7, 0.7)\n",
    "\n",
    "stim_corr_df = pd.DataFrame(\n",
    "    data=adata_Th.uns['scmemo']['2d_moments']['sg^stim']['corr'].T,\n",
    "    index=adata_Th.uns['scmemo']['2d_moments']['gene_2'],\n",
    "    columns=adata_Th.uns['scmemo']['2d_moments']['gene_1'])\n",
    "stim_corr_df = stim_corr_df.loc[gene_set_2, final_tf_list].dropna().clip(-0.7, 0.7)"
   ]
  },
  {
   "cell_type": "code",
   "execution_count": null,
   "metadata": {},
   "outputs": [],
   "source": [
    "import networkx as nx"
   ]
  },
  {
   "cell_type": "code",
   "execution_count": null,
   "metadata": {},
   "outputs": [],
   "source": [
    "G = nx.Graph()\n",
    "G.add_nodes_from(gene_set_1)\n",
    "G.add_nodes_from(gene_set_2)\n",
    "pos = nx.circular_layout(G, scale=3).values()\n",
    "pos = dict(zip(gene_set_1 + gene_set_2, circle_values))\n",
    "\n",
    "G.add_nodes_from(final_tf_list)\n",
    "for tf, gene in itertools.product(final_tf_list, gene_set_2):\n",
    "    G.add_edge(tf, gene, weight=ctrl_corr_df.loc[gene, tf])"
   ]
  },
  {
   "cell_type": "code",
   "execution_count": null,
   "metadata": {},
   "outputs": [],
   "source": [
    "big_circle = nx.circular_layout(G, scale=3)\n",
    "small_circle = nx.circular_layout(G, scale=1)"
   ]
  },
  {
   "cell_type": "code",
   "execution_count": null,
   "metadata": {},
   "outputs": [],
   "source": []
  },
  {
   "cell_type": "code",
   "execution_count": null,
   "metadata": {},
   "outputs": [],
   "source": [
    "pos = {g:(small_circle[g] if g in final_tf_list else big_circle[g]) for g in G.nodes()}"
   ]
  },
  {
   "cell_type": "code",
   "execution_count": null,
   "metadata": {},
   "outputs": [],
   "source": [
    "nx.draw_networkx(G, pos=pos, scale=3)"
   ]
  },
  {
   "cell_type": "code",
   "execution_count": null,
   "metadata": {},
   "outputs": [],
   "source": [
    "circle"
   ]
  },
  {
   "cell_type": "code",
   "execution_count": null,
   "metadata": {},
   "outputs": [],
   "source": [
    "ctrl_corr_df"
   ]
  },
  {
   "cell_type": "code",
   "execution_count": null,
   "metadata": {},
   "outputs": [],
   "source": [
    "sns.distplot(ctrl_corr_df.values.ravel())\n",
    "sns.distplot(stim_corr_df.values.ravel())"
   ]
  },
  {
   "cell_type": "code",
   "execution_count": null,
   "metadata": {},
   "outputs": [],
   "source": [
    "sns.distplot(ctrl_corr_df.values.ravel())\n",
    "sns.distplot(stim_corr_df.values.ravel())"
   ]
  },
  {
   "cell_type": "code",
   "execution_count": null,
   "metadata": {},
   "outputs": [],
   "source": [
    "sns.heatmap(ctrl_corr_df, cmap='coolwarm', center=0)"
   ]
  },
  {
   "cell_type": "code",
   "execution_count": null,
   "metadata": {},
   "outputs": [],
   "source": []
  },
  {
   "cell_type": "code",
   "execution_count": null,
   "metadata": {},
   "outputs": [],
   "source": [
    "gene_set_2"
   ]
  },
  {
   "cell_type": "markdown",
   "metadata": {},
   "source": [
    "### Calibration"
   ]
  },
  {
   "cell_type": "code",
   "execution_count": null,
   "metadata": {},
   "outputs": [],
   "source": [
    "adata_ct =  adata[adata.obs.cell == 'CD14+ Monocytes'].copy()\n",
    "# adata_ct.obs['stim'] = np.random.choice(adata_ct.obs['stim'], adata_ct.shape[0])\n",
    "schypo.create_groups(adata_ct, label_columns=['stim', 'ind'], inplace=True, q=0.07)"
   ]
  },
  {
   "cell_type": "code",
   "execution_count": null,
   "metadata": {},
   "outputs": [],
   "source": [
    "imp.reload(estimator)\n",
    "imp.reload(hypothesis_test)\n",
    "imp.reload(bootstrap)\n",
    "imp.reload(schypo)\n",
    "\n",
    "schypo.compute_1d_moments(\n",
    "    adata_ct, inplace=True, filter_genes=True, \n",
    "    residual_var=True,filter_mean_thresh=0.00, \n",
    "    min_perc_group=0.99)\n",
    "print('Size of data', adata_ct.shape)\n",
    "\n",
    "available_tfs = list(set(tfs) & set(adata_ct.var.index.tolist()))\n",
    "target_genes = adata_ct.var.index.tolist()\n",
    "print('TF list length', len(available_tfs))\n",
    "schypo.compute_2d_moments(\n",
    "    adata_ct, \n",
    "    np.random.choice(target_genes, 50, replace=False), \n",
    "    np.random.choice(target_genes, 50, replace=False))"
   ]
  },
  {
   "cell_type": "code",
   "execution_count": null,
   "metadata": {},
   "outputs": [],
   "source": [
    "schypo.ht_2d_moments(\n",
    "    adata_ct, \n",
    "    formula_like='1 + stim', \n",
    "    cov_column='stim', \n",
    "    num_cpus=6, \n",
    "    num_boot=2500)"
   ]
  },
  {
   "cell_type": "code",
   "execution_count": null,
   "metadata": {},
   "outputs": [],
   "source": [
    "plt.hist(adata_ct.uns['schypo']['2d_ht']['corr_asl'].ravel(), bins=50);"
   ]
  },
  {
   "cell_type": "code",
   "execution_count": null,
   "metadata": {},
   "outputs": [],
   "source": [
    "df = schypo.get_2d_ht_result(adata_ct)"
   ]
  },
  {
   "cell_type": "code",
   "execution_count": null,
   "metadata": {},
   "outputs": [],
   "source": [
    "df.query('corr_fdr < 0.1')"
   ]
  },
  {
   "cell_type": "code",
   "execution_count": null,
   "metadata": {},
   "outputs": [],
   "source": [
    "print(df.query('corr_fdr < 0.1').shape)\n",
    "df.query('corr_fdr < 0.1')"
   ]
  },
  {
   "cell_type": "code",
   "execution_count": null,
   "metadata": {},
   "outputs": [],
   "source": []
  },
  {
   "cell_type": "code",
   "execution_count": null,
   "metadata": {},
   "outputs": [],
   "source": []
  },
  {
   "cell_type": "code",
   "execution_count": null,
   "metadata": {},
   "outputs": [],
   "source": []
  },
  {
   "cell_type": "code",
   "execution_count": null,
   "metadata": {},
   "outputs": [],
   "source": []
  },
  {
   "cell_type": "code",
   "execution_count": null,
   "metadata": {},
   "outputs": [],
   "source": [
    "plt.hist(adata_ct.uns['schypo']['2d_ht']['corr_asl'].ravel(), bins=100);"
   ]
  },
  {
   "cell_type": "code",
   "execution_count": null,
   "metadata": {},
   "outputs": [],
   "source": [
    "print(df.query('corr_fdr < 0.1').shape)\n",
    "df.query('corr_fdr < 0.1')"
   ]
  }
 ],
 "metadata": {
  "kernelspec": {
   "display_name": "Python 3",
   "language": "python",
   "name": "python3"
  },
  "language_info": {
   "codemirror_mode": {
    "name": "ipython",
    "version": 3
   },
   "file_extension": ".py",
   "mimetype": "text/x-python",
   "name": "python",
   "nbconvert_exporter": "python",
   "pygments_lexer": "ipython3",
   "version": "3.7.5"
  }
 },
 "nbformat": 4,
 "nbformat_minor": 4
}
