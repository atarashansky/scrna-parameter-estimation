{
 "cells": [
  {
   "cell_type": "markdown",
   "metadata": {},
   "source": [
    "# Cell type differences and effects of interferon stimulation on immune cells\n",
    "\n",
    "Demonstrating differential expression between cell types and the effect of interferon stimulation within a cell type (CD4 T cells)."
   ]
  },
  {
   "cell_type": "code",
   "execution_count": null,
   "metadata": {},
   "outputs": [],
   "source": [
    "import pandas as pd\n",
    "import matplotlib.pyplot as plt\n",
    "import scanpy as sc\n",
    "import scipy as sp\n",
    "import itertools\n",
    "import numpy as np\n",
    "import scipy.stats as stats\n",
    "from scipy.integrate import dblquad\n",
    "import seaborn as sns\n",
    "from statsmodels.stats.multitest import fdrcorrection\n",
    "import imp\n",
    "pd.options.display.max_rows = 999\n",
    "pd.set_option('display.max_colwidth', -1)\n",
    "import pickle as pkl\n",
    "import time\n",
    "from scipy.optimize import root"
   ]
  },
  {
   "cell_type": "code",
   "execution_count": null,
   "metadata": {},
   "outputs": [],
   "source": [
    "%matplotlib inline"
   ]
  },
  {
   "cell_type": "code",
   "execution_count": null,
   "metadata": {},
   "outputs": [],
   "source": [
    "import matplotlib.pylab as pylab\n",
    "params = {'legend.fontsize': 'medium',\n",
    "         'axes.labelsize': 'medium',\n",
    "         'axes.titlesize':'medium',\n",
    "         'figure.titlesize':'medium',\n",
    "         'xtick.labelsize':'small',\n",
    "         'ytick.labelsize':'small'}\n",
    "pylab.rcParams.update(params)\n"
   ]
  },
  {
   "cell_type": "code",
   "execution_count": null,
   "metadata": {},
   "outputs": [],
   "source": [
    "import matplotlib\n",
    "matplotlib.rcParams['pdf.fonttype'] = 42\n",
    "matplotlib.rcParams['ps.fonttype'] = 42"
   ]
  },
  {
   "cell_type": "code",
   "execution_count": null,
   "metadata": {},
   "outputs": [],
   "source": [
    "import warnings\n",
    "warnings.filterwarnings('ignore')"
   ]
  },
  {
   "cell_type": "code",
   "execution_count": null,
   "metadata": {},
   "outputs": [],
   "source": [
    "from sklearn.decomposition import PCA"
   ]
  },
  {
   "cell_type": "code",
   "execution_count": null,
   "metadata": {},
   "outputs": [],
   "source": [
    "from sklearn.preprocessing import StandardScaler"
   ]
  },
  {
   "cell_type": "code",
   "execution_count": null,
   "metadata": {},
   "outputs": [],
   "source": [
    "import sys\n",
    "sys.path.append('/home/ssm-user/Github/scrna-parameter-estimation/scmemo')\n",
    "import estimator, simulate, scmemo, bootstrap, util, hypothesis_test"
   ]
  },
  {
   "cell_type": "code",
   "execution_count": null,
   "metadata": {},
   "outputs": [],
   "source": [
    "fig_path = '/home/ssm-user/Github/scrna-parameter-estimation/figures/fig4/'\n",
    "data_path = '/data/'"
   ]
  },
  {
   "cell_type": "markdown",
   "metadata": {},
   "source": [
    "### Perform some basic filtering"
   ]
  },
  {
   "cell_type": "code",
   "execution_count": null,
   "metadata": {},
   "outputs": [],
   "source": [
    "cts = ['CD4 T cells',  'CD14+ Monocytes', 'FCGR3A+ Monocytes', 'NK cells','CD8 T cells', 'B cells']\n",
    "label_converter = dict(zip(cts, ['Th', 'cM', 'ncM', 'NK', 'Tc', 'B']))"
   ]
  },
  {
   "cell_type": "code",
   "execution_count": null,
   "metadata": {},
   "outputs": [],
   "source": [
    "def simplify_name(name):\n",
    "    return name.split('.')[0]"
   ]
  },
  {
   "cell_type": "code",
   "execution_count": null,
   "metadata": {},
   "outputs": [],
   "source": [
    "adata = sc.read(data_path + 'interferon.h5ad')\n",
    "adata = adata[(adata.obs.multiplets == 'singlet') & (adata.obs.cell != 'nan'), :].copy()\n",
    "adata.X = adata.X.astype(np.int64)"
   ]
  },
  {
   "cell_type": "code",
   "execution_count": null,
   "metadata": {},
   "outputs": [],
   "source": [
    "adata.obs.cell.value_counts()"
   ]
  },
  {
   "cell_type": "code",
   "execution_count": null,
   "metadata": {},
   "outputs": [],
   "source": [
    "adata.obs['cell_type'] = (adata.obs['cell'].astype(str) + ' - ' + adata.obs['stim'].astype(str)).astype('category')"
   ]
  },
  {
   "cell_type": "code",
   "execution_count": null,
   "metadata": {},
   "outputs": [],
   "source": [
    "sc.pl.tsne(adata, color='cell_type')"
   ]
  },
  {
   "cell_type": "code",
   "execution_count": null,
   "metadata": {},
   "outputs": [],
   "source": [
    "# plt.figure(figsize=(5, 3))\n",
    "# sns.boxplot(x='n_counts', y='cell_type', data=adata.obs)\n",
    "# plt.title('Total UMI counts by cell type')\n",
    "# plt.savefig('celltype_numi.pdf')\n",
    "# plt.savefig('celltype_numi.png')"
   ]
  },
  {
   "cell_type": "code",
   "execution_count": null,
   "metadata": {},
   "outputs": [],
   "source": [
    "print('Number of genes kept:', adata.shape[1])"
   ]
  },
  {
   "cell_type": "markdown",
   "metadata": {},
   "source": [
    "### Null distributions"
   ]
  },
  {
   "cell_type": "code",
   "execution_count": null,
   "metadata": {},
   "outputs": [],
   "source": [
    "imp.reload(scmemo)\n",
    "imp.reload(bootstrap)\n",
    "imp.reload(hypothesis_test)\n",
    "imp.reload(util)\n",
    "\n",
    "test_adata = adata[adata.obs.cell == 'B cells'].copy()\n",
    "test_adata.obs['stim'] = np.random.choice(test_adata.obs['stim'], test_adata.shape[0])\n",
    "scmemo.create_groups(test_adata, label_columns=['stim'], inplace=True)\n",
    "scmemo.compute_1d_moments(\n",
    "    test_adata, inplace=True, filter_genes=True, \n",
    "    residual_var=True, use_n_umi=True, filter_mean_thresh=0.1, \n",
    "    min_perc_group=0.9)\n",
    "print('Number of genes kept:{}'.format(test_adata.shape[1]))"
   ]
  },
  {
   "cell_type": "code",
   "execution_count": 140,
   "metadata": {},
   "outputs": [],
   "source": [
    "size_factor = test_adata.uns['scmemo']['all_size_factor']\n",
    "# binned_stat = stats.binned_statistic(size_factor, size_factor, bins=50, statistic='mean')\n",
    "# bin_idx = np.clip(binned_stat[2], a_min=1, a_max=binned_stat[0].shape[0])\n",
    "# approx_sf = binned_stat[0][bin_idx-1]\n",
    "# max_sf = size_factor.max()\n",
    "# approx_sf[size_factor == max_sf] = max_sf\n",
    "# test_adata.uns['scmemo']['all_size_factor'] = approx_sf\n",
    "# # size_factor = approx_sf"
   ]
  },
  {
   "cell_type": "code",
   "execution_count": 141,
   "metadata": {},
   "outputs": [],
   "source": [
    "a = 0.1\n",
    "b = 1.7"
   ]
  },
  {
   "cell_type": "code",
   "execution_count": 142,
   "metadata": {},
   "outputs": [],
   "source": [
    "actual_moments_1 = estimator._poisson_1d(\n",
    "    test_adata[(test_adata.obs['stim'] == 'ctrl').values].X,\n",
    "    (test_adata.obs['stim'] == 'ctrl').values.shape[0],\n",
    "    size_factor[(test_adata.obs['stim'] == 'ctrl').values]\n",
    "    )\n",
    "actual_rv_1 = actual_moments_1[1]/(a*actual_moments_1[0]**(b))\n",
    "\n",
    "actual_moments_2 = estimator._poisson_1d(\n",
    "    test_adata[(test_adata.obs['stim'] == 'stim').values].X,\n",
    "    (test_adata.obs['stim'] == 'stim').values.shape[0],\n",
    "    size_factor[(test_adata.obs['stim'] == 'stim').values]\n",
    "    )\n",
    "actual_rv_2 = actual_moments_2[1]/(a*actual_moments_2[0]**(b))\n",
    "\n",
    "overall_moments = estimator._poisson_1d(\n",
    "    test_adata.X,\n",
    "    test_adata.shape[0],\n",
    "    size_factor)\n",
    "overall_rv = overall_moments[1]/(a*overall_moments[0]**(b))\n",
    "\n",
    "# Actual size factors\n",
    "sf_1 = size_factor[(test_adata.obs['stim'] == 'ctrl').values].reshape(-1, 1)\n",
    "sf_2 = size_factor[(test_adata.obs['stim'] == 'stim').values].reshape(-1, 1)"
   ]
  },
  {
   "cell_type": "code",
   "execution_count": 143,
   "metadata": {},
   "outputs": [],
   "source": [
    "def _sparse_broadcast_row(mat, vec):\n",
    "    \"\"\" Multiply each row of mat with vec elementwise. \"\"\"\n",
    "    \n",
    "    return mat*sp.sparse.spdiags(vec, 0, vec.shape[0], vec.shape[0])\n",
    "\n",
    "def _sparse_broadcast_col(mat, vec):\n",
    "    \"\"\" Multiply each row of mat with vec elementwise. \"\"\"\n",
    "    \n",
    "    return sp.sparse.spdiags(vec, 0, vec.shape[0], vec.shape[0])*mat\n",
    "\n",
    "def _compute_constants(mat, sf):\n",
    "    \n",
    "    alpha = _sparse_broadcast_col(mat.power(2), 1/sf**2).mean(axis=0).A1\n",
    "    beta = _sparse_broadcast_col(mat, 1/sf**2).mean(axis=0).A1\n",
    "    delta = _sparse_broadcast_col(mat, 1/sf).mean(axis=0).A1\n",
    "\n",
    "    return alpha, beta, delta\n",
    "    \n",
    "def _find_rv_factor(rv_to_match, alpha, beta, delta, a, b):\n",
    "    \n",
    "    init = (rv_to_match*a + beta/delta)/(alpha/delta - delta)\n",
    "    factor = np.array([root(lambda x: (alpha[idx]*x**2 - beta[idx]*x - delta[idx]**2*x**2)/(a*delta[idx]**b*x**b) - rv_to_match[idx], init[idx]).x[0] for idx in range(rv_to_match.shape[0])])\n",
    "    factor[np.isnan(factor)] = init[np.isnan(factor)]\n",
    "    \n",
    "    return factor\n",
    "\n",
    "def _match_rv(mat, sf, rv_to_match, a, b):\n",
    "    \"\"\" Assumes :mat: is a sparse matrix. \"\"\"\n",
    "    \n",
    "    sf = sf.reshape(-1)\n",
    "    \n",
    "    alpha, beta, delta = _compute_constants(mat, sf)\n",
    "    factors = _find_rv_factor(rv_to_match, alpha, beta, delta, a, b)\n",
    "    \n",
    "    return _sparse_broadcast_row(mat, factors)"
   ]
  },
  {
   "cell_type": "code",
   "execution_count": 132,
   "metadata": {},
   "outputs": [
    {
     "name": "stdout",
     "output_type": "stream",
     "text": [
      "[22.87423806  5.6323692   3.05080979 -0.56241485  2.03890674]\n",
      "[22.87423806  5.6323692   3.05080979 -0.56241485  2.03890674]\n"
     ]
    }
   ],
   "source": [
    "rv_matched_mat_1 = _match_rv(\n",
    "    mat=test_adata[(test_adata.obs['stim'] == 'ctrl').values].X,\n",
    "    sf=sf_1,\n",
    "    rv_to_match=overall_rv,\n",
    "    a=0.1,\n",
    "    b=1.7)\n",
    "transf_moments_1 = estimator._poisson_1d(\n",
    "    rv_matched_mat_1,\n",
    "    rv_matched_mat_1.shape[0],\n",
    "    sf_1)\n",
    "transf_rv_1 = transf_moments_1[1]/(0.1*transf_moments_1[0]**1.7)\n",
    "print(transf_rv_1[:5])\n",
    "print(overall_rv[:5])"
   ]
  },
  {
   "cell_type": "code",
   "execution_count": 40,
   "metadata": {},
   "outputs": [
    {
     "data": {
      "text/plain": [
       "(0, 500)"
      ]
     },
     "execution_count": 40,
     "metadata": {},
     "output_type": "execute_result"
    },
    {
     "data": {
      "image/png": "[encoded data removed]",
      "text/plain": [
       "<Figure size 432x288 with 1 Axes>"
      ]
     },
     "metadata": {
      "needs_background": "light"
     },
     "output_type": "display_data"
    }
   ],
   "source": [
    "plt.scatter(transf_rv_1, overall_rv)\n",
    "plt.xlim(0, 500); plt.ylim(0, 500)"
   ]
  },
  {
   "cell_type": "code",
   "execution_count": 41,
   "metadata": {},
   "outputs": [
    {
     "name": "stdout",
     "output_type": "stream",
     "text": [
      "[22.87423806  5.6323692   3.05080979 -0.56241485  2.03890674]\n",
      "[22.87423806  5.6323692   3.05080979 -0.56241485  2.03890674]\n"
     ]
    }
   ],
   "source": [
    "rv_matched_mat_2 = _match_rv(\n",
    "    mat=test_adata[(test_adata.obs['stim'] == 'stim').values].X,\n",
    "    sf=sf_2,\n",
    "    rv_to_match=overall_rv,\n",
    "    a=0.1,\n",
    "    b=1.7)\n",
    "transf_moments_2 = estimator._poisson_1d(\n",
    "    rv_matched_mat_2,\n",
    "    rv_matched_mat_2.shape[0],\n",
    "    sf_2)\n",
    "transf_rv_2 = transf_moments_2[1]/(0.1*transf_moments_2[0]**1.7)\n",
    "print(transf_rv_2[:5])\n",
    "print(overall_rv[:5])"
   ]
  },
  {
   "cell_type": "code",
   "execution_count": 42,
   "metadata": {},
   "outputs": [
    {
     "name": "stdout",
     "output_type": "stream",
     "text": [
      "CPU times: user 1.07 s, sys: 0 ns, total: 1.07 s\n",
      "Wall time: 1.07 s\n"
     ]
    }
   ],
   "source": [
    "%%time\n",
    "# Generate the null distribution\n",
    "num_boot = 100\n",
    "moments_1, moments_2 = [], []\n",
    "cell_count_1, cell_count_2 = [], []\n",
    "transformed_mat = sp.sparse.vstack([rv_matched_mat_1, rv_matched_mat_2])\n",
    "transformed_label = pd.Series(['ctrl' for i in range(rv_matched_mat_1.shape[0])] + ['stim' for i in range(rv_matched_mat_2.shape[0])])\n",
    "transformed_size_factors = np.concatenate([sf_1, sf_2])\n",
    "\n",
    "for boot_trial in range(num_boot):\n",
    "    \n",
    "    boot_idxs = np.random.choice(test_adata.shape[0], test_adata.shape[0])\n",
    "    \n",
    "    boot_mat = transformed_mat[boot_idxs, :]\n",
    "    boot_label = transformed_label[boot_idxs]\n",
    "    boot_size_factors = transformed_size_factors[boot_idxs]\n",
    "#     size_factors = approx_sf\n",
    "    \n",
    "    boot_idxs_1 = (boot_label == 'ctrl').values\n",
    "    boot_idxs_2 = (boot_label == 'stim').values\n",
    "    \n",
    "    moments_1.append(\n",
    "        estimator._poisson_1d(\n",
    "            boot_mat[boot_idxs_1],\n",
    "            boot_idxs_1.shape[0],\n",
    "            boot_size_factors[boot_idxs_1])\n",
    "    )\n",
    "    moments_2.append(\n",
    "        estimator._poisson_1d(\n",
    "            boot_mat[boot_idxs_2],\n",
    "            boot_idxs_2.shape[0],\n",
    "            boot_size_factors[boot_idxs_2])\n",
    "    )\n",
    "    cell_count_1.append(boot_idxs_1.shape[0])\n",
    "    cell_count_2.append(boot_idxs_2.shape[0])\n",
    "    "
   ]
  },
  {
   "cell_type": "code",
   "execution_count": 51,
   "metadata": {},
   "outputs": [],
   "source": [
    "rvs_1, rvs_2 = [], []\n",
    "for boot_trial in range(num_boot):\n",
    "    \n",
    "    rvs_1.append(moments_1[boot_trial][1]/(a*moments_1[boot_trial][0]**b))\n",
    "    rvs_2.append(moments_2[boot_trial][1]/(a*moments_2[boot_trial][0]**b))\n",
    "    \n",
    "to_add = 0\n",
    "rvs_1, rvs_2 = np.array(rvs_1)+to_add, np.array(rvs_2)+to_add\n",
    "\n",
    "actual_rvs_ratio = (actual_rv_2+to_add)/(actual_rv_1+to_add)\n",
    "\n",
    "null_rvs_ratio = rvs_2/rvs_1\n",
    "null_rvs_ratio -= null_rvs_ratio.mean(axis=0) - 1\n",
    "\n",
    "one_sided = np.nansum(null_rvs_ratio > actual_rvs_ratio, axis=0)/np.isfinite(null_rvs_ratio).sum(axis=0)\n",
    "rv_pval = 2*np.minimum(1-one_sided, one_sided)"
   ]
  },
  {
   "cell_type": "code",
   "execution_count": 52,
   "metadata": {},
   "outputs": [
    {
     "data": {
      "image/png": "[encoded data removed]",
      "text/plain": [
       "<Figure size 432x288 with 1 Axes>"
      ]
     },
     "metadata": {
      "needs_background": "light"
     },
     "output_type": "display_data"
    }
   ],
   "source": [
    "plt.hist(rv_pval, bins=20);"
   ]
  },
  {
   "cell_type": "code",
   "execution_count": 53,
   "metadata": {},
   "outputs": [
    {
     "data": {
      "text/plain": [
       "[<matplotlib.lines.Line2D at 0x7f6fcd5fadd0>]"
      ]
     },
     "execution_count": 53,
     "metadata": {},
     "output_type": "execute_result"
    },
    {
     "data": {
      "image/png": "[encoded data removed]",
      "text/plain": [
       "<Figure size 432x288 with 1 Axes>"
      ]
     },
     "metadata": {
      "needs_background": "light"
     },
     "output_type": "display_data"
    }
   ],
   "source": [
    "x = np.sort(rv_pval)\n",
    "\n",
    "plt.scatter(\n",
    "    -np.log10(np.linspace(0, 1, x.shape[0])), \n",
    "    -np.log10(x), s=10)\n",
    "\n",
    "plt.plot([0, 4], [0, 4])"
   ]
  },
  {
   "cell_type": "code",
   "execution_count": null,
   "metadata": {},
   "outputs": [],
   "source": []
  },
  {
   "cell_type": "code",
   "execution_count": null,
   "metadata": {},
   "outputs": [],
   "source": []
  },
  {
   "cell_type": "code",
   "execution_count": null,
   "metadata": {},
   "outputs": [],
   "source": []
  },
  {
   "cell_type": "code",
   "execution_count": null,
   "metadata": {},
   "outputs": [],
   "source": []
  },
  {
   "cell_type": "code",
   "execution_count": null,
   "metadata": {},
   "outputs": [],
   "source": []
  },
  {
   "cell_type": "code",
   "execution_count": null,
   "metadata": {},
   "outputs": [],
   "source": []
  },
  {
   "cell_type": "code",
   "execution_count": 144,
   "metadata": {},
   "outputs": [
    {
     "name": "stdout",
     "output_type": "stream",
     "text": [
      "CPU times: user 1.38 s, sys: 6.62 ms, total: 1.38 s\n",
      "Wall time: 1.38 s\n"
     ]
    }
   ],
   "source": [
    "%%time\n",
    "\n",
    "num_boot = 100\n",
    "moments_1, moments_2 = [], []\n",
    "cell_count_1, cell_count_2 = [], []\n",
    "\n",
    "for boot_trial in range(num_boot):\n",
    "    boot_idxs = np.random.choice(test_adata.shape[0], test_adata.shape[0])\n",
    "    \n",
    "    boot_mat = test_adata.X[boot_idxs, :]\n",
    "    boot_label = test_adata.obs['stim'][boot_idxs]\n",
    "    size_factors = test_adata.uns['scmemo']['all_size_factor'][boot_idxs]\n",
    "#     size_factors = approx_sf\n",
    "    \n",
    "    boot_idxs_1 = (boot_label == 'ctrl').values\n",
    "    boot_idxs_2 = (boot_label == 'stim').values\n",
    "    \n",
    "    moments_1.append(\n",
    "        estimator._poisson_1d(\n",
    "            boot_mat[boot_idxs_1],\n",
    "            boot_idxs_1.shape[0],\n",
    "            size_factors[boot_idxs_1])\n",
    "    )\n",
    "    moments_2.append(\n",
    "        estimator._poisson_1d(\n",
    "            boot_mat[boot_idxs_2],\n",
    "            boot_idxs_2.shape[0],\n",
    "            size_factors[boot_idxs_2])\n",
    "    )\n",
    "    cell_count_1.append(boot_idxs_1.shape[0])\n",
    "    cell_count_2.append(boot_idxs_2.shape[0])\n",
    "    "
   ]
  },
  {
   "cell_type": "code",
   "execution_count": null,
   "metadata": {},
   "outputs": [],
   "source": [
    "means_1, vars_1, means_2, vars_2, rvs_1, rvs_2 = [],[],[],[], [], []\n",
    "for boot_trial in range(num_boot):\n",
    "    \n",
    "    means_1.append(moments_1[boot_trial][0])\n",
    "    vars_1.append(moments_1[boot_trial][1])\n",
    "\n",
    "    means_2.append(moments_2[boot_trial][0])\n",
    "    vars_2.append(moments_2[boot_trial][1])\n",
    "    \n",
    "    rvs_1.append(moments_1[boot_trial][1]/(a*moments_1[boot_trial][0]**b))\n",
    "    rvs_2.append(moments_2[boot_trial][1]/(a*moments_2[boot_trial][0]**b))\n",
    "\n",
    "means_1, vars_1, means_2, vars_2 = np.array(means_1), np.array(vars_1), np.array(means_2), np.array(vars_2)\n",
    "\n",
    "rvs_1, rvs_2 = np.array(rvs_1), np.array(rvs_2)\n",
    "\n",
    "actual_rv_ratio = actual_rv_2/actual_rv_1\n",
    "boot_rv_ratio = rvs_2/rvs_1\n",
    "\n",
    "centered = boot_rv_ratio/boot_rv_ratio.std(axis=0)\n",
    "c = (centered > actual_rv_ratio).mean(axis=0)\n",
    "pvals = 2*np.minimum(c, 1-c)\n"
   ]
  },
  {
   "cell_type": "code",
   "execution_count": null,
   "metadata": {},
   "outputs": [],
   "source": []
  },
  {
   "cell_type": "code",
   "execution_count": null,
   "metadata": {},
   "outputs": [],
   "source": [
    "plt.hist(pvals)"
   ]
  },
  {
   "cell_type": "code",
   "execution_count": null,
   "metadata": {},
   "outputs": [],
   "source": []
  },
  {
   "cell_type": "code",
   "execution_count": null,
   "metadata": {},
   "outputs": [],
   "source": []
  },
  {
   "cell_type": "code",
   "execution_count": null,
   "metadata": {},
   "outputs": [],
   "source": []
  },
  {
   "cell_type": "code",
   "execution_count": null,
   "metadata": {},
   "outputs": [],
   "source": []
  },
  {
   "cell_type": "code",
   "execution_count": null,
   "metadata": {},
   "outputs": [],
   "source": []
  },
  {
   "cell_type": "code",
   "execution_count": null,
   "metadata": {},
   "outputs": [],
   "source": []
  },
  {
   "cell_type": "code",
   "execution_count": 61,
   "metadata": {},
   "outputs": [],
   "source": [
    "means_1, vars_1, means_2, vars_2, rvs_1, rvs_2 = [],[],[],[], [], []\n",
    "for boot_trial in range(num_boot):\n",
    "    \n",
    "    means_1.append(moments_1[boot_trial][0])\n",
    "    vars_1.append(moments_1[boot_trial][1])\n",
    "\n",
    "    means_2.append(moments_2[boot_trial][0])\n",
    "    vars_2.append(moments_2[boot_trial][1])\n",
    "    \n",
    "    rvs_1.append(moments_1[boot_trial][1]/(a*moments_1[boot_trial][0]**b))\n",
    "    rvs_2.append(moments_2[boot_trial][1]/(a*moments_2[boot_trial][0]**b))\n",
    "\n",
    "means_1, vars_1, means_2, vars_2 = np.array(means_1), np.array(vars_1), np.array(means_2), np.array(vars_2)\n",
    "\n",
    "rvs_1, rvs_2 = np.array(rvs_1), np.array(rvs_2)\n",
    "\n",
    "var_add = 10\n",
    "\n",
    "# vars_1 += var_add\n",
    "# vars_2 += var_add\n",
    "\n",
    "actual_mean_diff = actual_moments_2[0] - actual_moments_1[0] \n",
    "actual_var_diff = np.log((actual_moments_2[1])/actual_moments_2[0]+1) - np.log((actual_moments_1[1])/actual_moments_1[0]+1)\n",
    "actual_rv_diff = \n",
    "\n",
    "# means_1 -= actual_moments_1[0]\n",
    "# means_2 -= actual_moments_2[0]\n",
    "# vars_1 -= actual_moments_1[1]\n",
    "# vars_2 -= actual_moments_2[1]\n",
    "\n",
    "mean_diff = means_2 - means_1\n",
    "mean_diff -= actual_mean_diff\n",
    "\n",
    "var_diff = np.log((vars_2)/means_2+1) - np.log((vars_1)/means_1+1)\n",
    "var_diff -= actual_var_diff\n",
    "\n",
    "mean_pval = 2*np.minimum(1-(mean_diff > (actual_mean_diff)).mean(axis=0), (mean_diff > (actual_mean_diff)).mean(axis=0))\n",
    "var_pval = 2*np.minimum(1-(var_diff > (actual_var_diff)).mean(axis=0), (var_diff > (actual_var_diff)).mean(axis=0))"
   ]
  },
  {
   "cell_type": "code",
   "execution_count": 62,
   "metadata": {},
   "outputs": [
    {
     "data": {
      "image/png": "[encoded data removed]",
      "text/plain": [
       "<Figure size 432x288 with 1 Axes>"
      ]
     },
     "metadata": {
      "needs_background": "light"
     },
     "output_type": "display_data"
    }
   ],
   "source": [
    "plt.hist(var_pval, bins=10);"
   ]
  },
  {
   "cell_type": "code",
   "execution_count": null,
   "metadata": {},
   "outputs": [],
   "source": []
  },
  {
   "cell_type": "code",
   "execution_count": null,
   "metadata": {},
   "outputs": [],
   "source": []
  },
  {
   "cell_type": "code",
   "execution_count": null,
   "metadata": {},
   "outputs": [],
   "source": []
  },
  {
   "cell_type": "code",
   "execution_count": null,
   "metadata": {},
   "outputs": [],
   "source": []
  },
  {
   "cell_type": "code",
   "execution_count": 393,
   "metadata": {},
   "outputs": [],
   "source": [
    "means_1, vars_1, means_2, vars_2 = [],[],[],[]\n",
    "for boot_trial in range(num_boot):\n",
    "    \n",
    "    means_1.append(moments_1[boot_trial][0])\n",
    "    vars_1.append(moments_1[boot_trial][1])\n",
    "\n",
    "    means_2.append(moments_2[boot_trial][0])\n",
    "    vars_2.append(moments_2[boot_trial][1])\n",
    "    \n",
    "means_1, vars_1, means_2, vars_2 = np.array(means_1), np.array(vars_1), np.array(means_2), np.array(vars_2)\n",
    "\n",
    "var_add = 100\n",
    "\n",
    "vars_1 += var_add\n",
    "vars_2 += var_add\n",
    "\n",
    "actual_mean_diff = actual_moments_2[0] - actual_moments_1[0] \n",
    "actual_var_diff = np.log((actual_moments_2[1]+var_add)/actual_moments_2[0]) - np.log((actual_moments_1[1]+var_add)/actual_moments_1[0])\n",
    "\n",
    "# means_1 -= actual_moments_1[0]\n",
    "# means_2 -= actual_moments_2[0]\n",
    "# vars_1 -= actual_moments_1[1]\n",
    "# vars_2 -= actual_moments_2[1]\n",
    "\n",
    "mean_diff = means_2 - means_1\n",
    "mean_diff -= actual_mean_diff\n",
    "\n",
    "var_diff = np.log((vars_2)/means_2) - np.log((vars_1)/means_1)\n",
    "var_diff -= actual_var_diff\n",
    "\n",
    "mean_pval = 2*np.minimum(1-(mean_diff > (actual_mean_diff)).mean(axis=0), (mean_diff > (actual_mean_diff)).mean(axis=0))\n",
    "var_pval = 2*np.minimum(1-(var_diff > (actual_var_diff)).mean(axis=0), (var_diff > (actual_var_diff)).mean(axis=0))"
   ]
  },
  {
   "cell_type": "code",
   "execution_count": 394,
   "metadata": {},
   "outputs": [
    {
     "data": {
      "image/png": "[encoded data removed]",
      "text/plain": [
       "<Figure size 432x288 with 1 Axes>"
      ]
     },
     "metadata": {
      "needs_background": "light"
     },
     "output_type": "display_data"
    }
   ],
   "source": [
    "plt.hist(var_pval, bins=10);"
   ]
  },
  {
   "cell_type": "code",
   "execution_count": 395,
   "metadata": {},
   "outputs": [
    {
     "data": {
      "text/plain": [
       "[<matplotlib.lines.Line2D at 0x7f795e117d50>]"
      ]
     },
     "execution_count": 395,
     "metadata": {},
     "output_type": "execute_result"
    },
    {
     "data": {
      "image/png": "[encoded data removed]",
      "text/plain": [
       "<Figure size 432x288 with 1 Axes>"
      ]
     },
     "metadata": {
      "needs_background": "light"
     },
     "output_type": "display_data"
    }
   ],
   "source": [
    "x = np.sort(var_pval)\n",
    "\n",
    "plt.scatter(\n",
    "    -np.log10(np.linspace(0, 1, x.shape[0])), \n",
    "    -np.log10(x), s=10)\n",
    "\n",
    "plt.plot([0, 4], [0, 4])"
   ]
  },
  {
   "cell_type": "code",
   "execution_count": null,
   "metadata": {},
   "outputs": [],
   "source": []
  },
  {
   "cell_type": "code",
   "execution_count": null,
   "metadata": {},
   "outputs": [],
   "source": []
  },
  {
   "cell_type": "code",
   "execution_count": 791,
   "metadata": {},
   "outputs": [],
   "source": [
    "x = np.log(mean_diff.reshape(-1))\n",
    "y = np.log(var_diff.reshape(-1))\n",
    "cond = np.isfinite(x) & np.isfinite(y)"
   ]
  },
  {
   "cell_type": "code",
   "execution_count": 792,
   "metadata": {},
   "outputs": [
    {
     "data": {
      "text/plain": [
       "SpearmanrResult(correlation=-0.06995633237253612, pvalue=0.022048437271494848)"
      ]
     },
     "execution_count": 792,
     "metadata": {},
     "output_type": "execute_result"
    }
   ],
   "source": [
    "stats.spearmanr(x[cond], y[cond])"
   ]
  },
  {
   "cell_type": "code",
   "execution_count": 700,
   "metadata": {},
   "outputs": [
    {
     "ename": "SyntaxError",
     "evalue": "invalid syntax (<ipython-input-700-270de557c445>, line 1)",
     "output_type": "error",
     "traceback": [
      "\u001b[0;36m  File \u001b[0;32m\"<ipython-input-700-270de557c445>\"\u001b[0;36m, line \u001b[0;32m1\u001b[0m\n\u001b[0;31m    stats.spearmanr(np.log(mean_diff.reshape(-1)), ))\u001b[0m\n\u001b[0m                                                    ^\u001b[0m\n\u001b[0;31mSyntaxError\u001b[0m\u001b[0;31m:\u001b[0m invalid syntax\n"
     ]
    }
   ],
   "source": [
    "# stats.spearmanr(np.log(mean_diff.reshape(-1)), ))"
   ]
  },
  {
   "cell_type": "code",
   "execution_count": 701,
   "metadata": {},
   "outputs": [
    {
     "data": {
      "text/plain": [
       "<matplotlib.collections.PathCollection at 0x7f7a29aeff10>"
      ]
     },
     "execution_count": 701,
     "metadata": {},
     "output_type": "execute_result"
    },
    {
     "data": {
      "image/png": "[encoded data removed]",
      "text/plain": [
       "<Figure size 432x288 with 1 Axes>"
      ]
     },
     "metadata": {
      "needs_background": "light"
     },
     "output_type": "display_data"
    }
   ],
   "source": [
    "plt.scatter(np.log(mean_diff), np.log(var_diff))"
   ]
  },
  {
   "cell_type": "code",
   "execution_count": 365,
   "metadata": {},
   "outputs": [
    {
     "data": {
      "text/plain": [
       "0.5003915343915344"
      ]
     },
     "execution_count": 365,
     "metadata": {},
     "output_type": "execute_result"
    }
   ],
   "source": [
    "(var_diff > 0).mean()"
   ]
  },
  {
   "cell_type": "code",
   "execution_count": 401,
   "metadata": {},
   "outputs": [
    {
     "data": {
      "text/plain": [
       "<module 'estimator' from '/home/ssm-user/Github/scrna-parameter-estimation/scmemo/estimator.py'>"
      ]
     },
     "execution_count": 401,
     "metadata": {},
     "output_type": "execute_result"
    }
   ],
   "source": [
    "imp.reload(estimator)"
   ]
  },
  {
   "cell_type": "code",
   "execution_count": null,
   "metadata": {},
   "outputs": [],
   "source": [
    "np.unique(size_factor).shape"
   ]
  },
  {
   "cell_type": "code",
   "execution_count": 433,
   "metadata": {},
   "outputs": [],
   "source": [
    "data = test_adata.X[:, 0].toarray()\n",
    "counts = np.ones((data.shape[0], 1))\n",
    "sf = size_factor.reshape(-1, 1)\n",
    "inv_sf = 1/sf\n",
    "inv_sf_sq = inv_sf**2"
   ]
  },
  {
   "cell_type": "code",
   "execution_count": 478,
   "metadata": {},
   "outputs": [
    {
     "data": {
      "text/plain": [
       "[array([0.]), array([45.83317422]), array([45.83317422])]"
      ]
     },
     "execution_count": 478,
     "metadata": {},
     "output_type": "execute_result"
    }
   ],
   "source": [
    "demeaned = ((data*inv_sf)-(data*inv_sf).mean())*sf\n",
    "estimator._poisson_1d(\n",
    "    (demeaned, counts),\n",
    "    test_adata.X[:, 0].shape[0],\n",
    "    (inv_sf, inv_sf_sq))"
   ]
  },
  {
   "cell_type": "code",
   "execution_count": 480,
   "metadata": {},
   "outputs": [],
   "source": [
    "alpha = (demeaned**2/sf**2).mean()\n",
    "beta = (demeaned/sf**2).mean()"
   ]
  },
  {
   "cell_type": "code",
   "execution_count": 482,
   "metadata": {},
   "outputs": [
    {
     "data": {
      "text/plain": [
       "array([-0.14966997,  0.14627124])"
      ]
     },
     "execution_count": 482,
     "metadata": {},
     "output_type": "execute_result"
    }
   ],
   "source": [
    "np.roots([alpha, -beta, -1])"
   ]
  },
  {
   "cell_type": "code",
   "execution_count": 483,
   "metadata": {},
   "outputs": [],
   "source": [
    "devared = demeaned*np.roots([alpha, -beta, -1])[1]"
   ]
  },
  {
   "cell_type": "code",
   "execution_count": 484,
   "metadata": {},
   "outputs": [
    {
     "data": {
      "text/plain": [
       "[array([0.]), array([1.]), array([1.])]"
      ]
     },
     "execution_count": 484,
     "metadata": {},
     "output_type": "execute_result"
    }
   ],
   "source": [
    "estimator._poisson_1d(\n",
    "    (devared, counts),\n",
    "    test_adata.X[:, 0].shape[0],\n",
    "    (inv_sf, inv_sf_sq))"
   ]
  },
  {
   "cell_type": "code",
   "execution_count": null,
   "metadata": {},
   "outputs": [],
   "source": []
  },
  {
   "cell_type": "code",
   "execution_count": null,
   "metadata": {},
   "outputs": [],
   "source": []
  },
  {
   "cell_type": "code",
   "execution_count": null,
   "metadata": {},
   "outputs": [],
   "source": []
  }
 ],
 "metadata": {
  "kernelspec": {
   "display_name": "Python 3",
   "language": "python",
   "name": "python3"
  },
  "language_info": {
   "codemirror_mode": {
    "name": "ipython",
    "version": 3
   },
   "file_extension": ".py",
   "mimetype": "text/x-python",
   "name": "python",
   "nbconvert_exporter": "python",
   "pygments_lexer": "ipython3",
   "version": "3.7.5"
  }
 },
 "nbformat": 4,
 "nbformat_minor": 4
}
