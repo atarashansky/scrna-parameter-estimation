{
 "cells": [
  {
   "cell_type": "markdown",
   "metadata": {},
   "source": [
    "# Variability analysis for HBEC IFN experiment"
   ]
  },
  {
   "cell_type": "code",
   "execution_count": 1,
   "metadata": {},
   "outputs": [],
   "source": [
    "import scanpy as sc\n",
    "import seaborn as sns\n",
    "import pandas as pd\n",
    "import matplotlib.pyplot as plt\n",
    "import numpy as np\n",
    "import scipy.stats as stats\n",
    "from pybedtools import BedTool\n",
    "import pickle as pkl\n",
    "%matplotlib inline\n",
    "import itertools"
   ]
  },
  {
   "cell_type": "code",
   "execution_count": 2,
   "metadata": {},
   "outputs": [],
   "source": [
    "import sys\n",
    "sys.path.append('/home/ssm-user/Github/scrna-parameter-estimation/dist/memento-0.0.6-py3.8.egg')\n",
    "sys.path.append('/home/ssm-user/Github/misc-seq/miscseq')\n",
    "import encode\n",
    "import memento"
   ]
  },
  {
   "cell_type": "code",
   "execution_count": 65,
   "metadata": {},
   "outputs": [],
   "source": [
    "pd.set_option('display.max_rows', None)"
   ]
  },
  {
   "cell_type": "code",
   "execution_count": 3,
   "metadata": {},
   "outputs": [],
   "source": [
    "data_path = '/data_volume/memento/hbec/'\n",
    "fig_path = '/data/home/Github/scrna-parameter-estimation/figures/fig6/'"
   ]
  },
  {
   "cell_type": "code",
   "execution_count": 4,
   "metadata": {},
   "outputs": [],
   "source": [
    "import matplotlib\n",
    "matplotlib.rcParams['pdf.fonttype'] = 42\n",
    "matplotlib.rcParams['ps.fonttype'] = 42"
   ]
  },
  {
   "cell_type": "code",
   "execution_count": 5,
   "metadata": {},
   "outputs": [],
   "source": [
    "import matplotlib.pylab as pylab\n",
    "params = {'legend.fontsize': 'medium',\n",
    "         'axes.labelsize': 'medium',\n",
    "         'axes.titlesize':'medium',\n",
    "         'figure.titlesize':'medium',\n",
    "         'xtick.labelsize':'small',\n",
    "         'ytick.labelsize':'small'}\n",
    "pylab.rcParams.update(params)"
   ]
  },
  {
   "cell_type": "markdown",
   "metadata": {},
   "source": [
    "### Get canonical TFs"
   ]
  },
  {
   "cell_type": "code",
   "execution_count": 78,
   "metadata": {},
   "outputs": [],
   "source": [
    "tf_df = pd.read_csv('human_tf.txt', sep='\\t')\n",
    "tf_list = tf_df['Symbol'].tolist()\n",
    "tf_list += ['CIITA']"
   ]
  },
  {
   "cell_type": "markdown",
   "metadata": {},
   "source": [
    "### Read the processed RNA data\n",
    "\n",
    "Focus on the club and bc/club cells and type I interferons for now.\n",
    "\n",
    "Encode the timestamps to integers."
   ]
  },
  {
   "cell_type": "code",
   "execution_count": 8,
   "metadata": {},
   "outputs": [],
   "source": [
    "# adata_processed = sc.read(data_path + 'HBEC_type_I_processed_deep.h5ad')"
   ]
  },
  {
   "cell_type": "code",
   "execution_count": 9,
   "metadata": {},
   "outputs": [],
   "source": [
    "adata = sc.read(data_path + 'HBEC_type_I_filtered_counts_deep.h5ad')"
   ]
  },
  {
   "cell_type": "code",
   "execution_count": 10,
   "metadata": {},
   "outputs": [
    {
     "name": "stderr",
     "output_type": "stream",
     "text": [
      "/home/ssm-user/anaconda3/envs/single_cell/lib/python3.8/site-packages/pandas/core/arrays/categorical.py:2487: FutureWarning: The `inplace` parameter in pandas.Categorical.remove_unused_categories is deprecated and will be removed in a future version.\n",
      "  res = method(*args, **kwargs)\n"
     ]
    }
   ],
   "source": [
    "adata = adata[:, ~adata.var.index.str.startswith('MT-')].copy()\n",
    "# adata.obs['cell_type'] = adata.obs['cell_type'].apply(lambda x: x if x != 'basal/club' else 'bc')\n",
    "# adata.obs['cell_type'] = adata.obs['cell_type'].apply(lambda x: x if x != 'ionocyte/tuft' else 'ion-tuft')"
   ]
  },
  {
   "cell_type": "raw",
   "metadata": {},
   "source": [
    "sc.pl.umap(adata_processed, color=['cell_type', 'time', 'stim'])"
   ]
  },
  {
   "cell_type": "code",
   "execution_count": 11,
   "metadata": {},
   "outputs": [
    {
     "data": {
      "text/plain": [
       "(69958, 36588)"
      ]
     },
     "execution_count": 11,
     "metadata": {},
     "output_type": "execute_result"
    }
   ],
   "source": [
    "adata.shape"
   ]
  },
  {
   "cell_type": "code",
   "execution_count": 12,
   "metadata": {},
   "outputs": [],
   "source": [
    "converter = {'basal/club':'BC', 'basal':'B', 'ciliated':'C', 'goblet':'G', 'ionocyte/tuft':'IT', 'neuroendo':'N'}"
   ]
  },
  {
   "cell_type": "code",
   "execution_count": 13,
   "metadata": {},
   "outputs": [
    {
     "data": {
      "text/plain": [
       "basal/club       29792\n",
       "basal            22844\n",
       "ciliated         15041\n",
       "goblet            1525\n",
       "ionocyte/tuft      546\n",
       "neuroendo          210\n",
       "Name: cell_type, dtype: int64"
      ]
     },
     "execution_count": 13,
     "metadata": {},
     "output_type": "execute_result"
    }
   ],
   "source": [
    "adata.obs.cell_type.value_counts()"
   ]
  },
  {
   "cell_type": "code",
   "execution_count": 14,
   "metadata": {},
   "outputs": [],
   "source": [
    "adata.obs['ct'] = adata.obs['cell_type'].apply(lambda x: converter[x])"
   ]
  },
  {
   "cell_type": "markdown",
   "metadata": {},
   "source": [
    "### Setup memento"
   ]
  },
  {
   "cell_type": "code",
   "execution_count": 15,
   "metadata": {},
   "outputs": [],
   "source": [
    "def assign_q(batch):\n",
    "    \n",
    "    if batch == 0:\n",
    "        return 0.387*0.25\n",
    "    elif batch == 1:\n",
    "        return 0.392*0.25\n",
    "    elif batch == 2:\n",
    "        return 0.436*0.25\n",
    "    else:\n",
    "        return 0.417*0.25"
   ]
  },
  {
   "cell_type": "code",
   "execution_count": 16,
   "metadata": {},
   "outputs": [],
   "source": [
    "adata.obs['q'] = adata.obs['batch'].apply(assign_q)"
   ]
  },
  {
   "cell_type": "code",
   "execution_count": 17,
   "metadata": {},
   "outputs": [
    {
     "name": "stdout",
     "output_type": "stream",
     "text": [
      "Version 0.0.6\n"
     ]
    }
   ],
   "source": [
    "memento.setup_memento(adata, q_column='q')"
   ]
  },
  {
   "cell_type": "markdown",
   "metadata": {},
   "source": [
    "### Read 1d HT result comparing to control"
   ]
  },
  {
   "cell_type": "code",
   "execution_count": 18,
   "metadata": {},
   "outputs": [],
   "source": [
    "cts = [['ciliated']]\n",
    "tps = [ '6',]\n",
    "stims = ['alpha', 'beta', 'gamma', 'lambda']"
   ]
  },
  {
   "cell_type": "code",
   "execution_count": 19,
   "metadata": {},
   "outputs": [],
   "source": [
    "def read_result(ct):\n",
    "    \n",
    "    ht_dict = {}\n",
    "    moments_dict = {}\n",
    "    \n",
    "    for stim in stims:\n",
    "        ht_dict[stim] = {}\n",
    "        moments_dict[stim] = {}\n",
    "        for tp in tps: \n",
    "            adata_subset = sc.read(data_path + '/binary_test_latest/{}_{}_{}.h5ad'.format('-'.join(ct), stim, tp))\n",
    "            ht_dict[stim][tp] = memento.get_1d_ht_result(adata_subset)\n",
    "            ht_dict[stim][tp]['de_fdr'] = memento.util._fdrcorrect(ht_dict[stim][tp]['de_pval'])\n",
    "            ht_dict[stim][tp]['dv_fdr'] = memento.util._fdrcorrect(ht_dict[stim][tp]['dv_pval'])\n",
    "            moments_dict[stim][tp] = memento.get_1d_moments(adata_subset, groupby='time_step')\n",
    "    return ht_dict,moments_dict"
   ]
  },
  {
   "cell_type": "code",
   "execution_count": 20,
   "metadata": {},
   "outputs": [],
   "source": [
    "all_result = {}\n",
    "for ct in cts:\n",
    "    \n",
    "    key = '-'.join(ct)\n",
    "    all_result[key] = {}\n",
    "    \n",
    "    all_result[key]['ht'], all_result[key]['moments'] = read_result(ct)"
   ]
  },
  {
   "cell_type": "code",
   "execution_count": 28,
   "metadata": {},
   "outputs": [
    {
     "name": "stdout",
     "output_type": "stream",
     "text": [
      "gamma 53\n",
      "lambda 21\n",
      "alpha/beta 389\n"
     ]
    }
   ],
   "source": [
    "stims = ['alpha', 'beta', 'gamma', 'lambda']\n",
    "ct = 'ciliated'\n",
    "de_genes = {}\n",
    "\n",
    "for stim in stims:\n",
    "    de_genes[stim] = all_result[ct]['ht'][stim]['6'].query('de_fdr < 0.1 & de_coef > 0.5').gene.tolist()\n",
    "de_genes['alpha/beta'] = set(de_genes['alpha']) | set(de_genes['beta'])\n",
    "\n",
    "stims = ['gamma', 'lambda', 'alpha/beta']\n",
    "    \n",
    "uniq_de_genes = {}\n",
    "for stim in stims:\n",
    "    \n",
    "    uniq_de_genes[stim] = set(de_genes[stim])\n",
    "    for other in stims:\n",
    "        if stim == other: continue\n",
    "        uniq_de_genes[stim] -= set(de_genes[other])\n",
    "    print(stim, len(uniq_de_genes[stim]))\n",
    "\n",
    "shared_de_genes = set()\n",
    "for stim in stims:\n",
    "    if len(shared_de_genes) == 0:\n",
    "        shared_de_genes = set(de_genes[stim])\n",
    "    else:\n",
    "        shared_de_genes &= set(de_genes[stim])"
   ]
  },
  {
   "cell_type": "markdown",
   "metadata": {},
   "source": [
    "### Differential correlation upon stimulation wtih IFN-$\\gamma$"
   ]
  },
  {
   "cell_type": "code",
   "execution_count": 36,
   "metadata": {},
   "outputs": [],
   "source": [
    "ct = ['ciliated']\n",
    "stim = 'gamma'"
   ]
  },
  {
   "cell_type": "code",
   "execution_count": 81,
   "metadata": {},
   "outputs": [
    {
     "name": "stderr",
     "output_type": "stream",
     "text": [
      "/home/ssm-user/anaconda3/envs/single_cell/lib/python3.8/site-packages/pandas/core/arrays/categorical.py:2487: FutureWarning: The `inplace` parameter in pandas.Categorical.remove_unused_categories is deprecated and will be removed in a future version.\n",
      "  res = method(*args, **kwargs)\n",
      "/home/ssm-user/Github/scrna-parameter-estimation/dist/memento-0.0.6-py3.8.egg/memento/estimator.py:105: RuntimeWarning: invalid value encountered in log\n",
      "/home/ssm-user/Github/scrna-parameter-estimation/dist/memento-0.0.6-py3.8.egg/memento/main.py:523: RuntimeWarning: divide by zero encountered in log\n",
      "/home/ssm-user/Github/scrna-parameter-estimation/dist/memento-0.0.6-py3.8.egg/memento/main.py:550: RuntimeWarning: divide by zero encountered in log\n",
      "/home/ssm-user/Github/scrna-parameter-estimation/dist/memento-0.0.6-py3.8.egg/memento/main.py:562: RuntimeWarning: invalid value encountered in true_divide\n",
      "/home/ssm-user/Github/scrna-parameter-estimation/dist/memento-0.0.6-py3.8.egg/memento/main.py:614: RuntimeWarning: invalid value encountered in true_divide\n",
      "[Parallel(n_jobs=94)]: Using backend LokyBackend with 94 concurrent workers.\n",
      "[Parallel(n_jobs=94)]: Done   7 out of  12 | elapsed:   18.4s remaining:   13.1s\n",
      "[Parallel(n_jobs=94)]: Done  12 out of  12 | elapsed:   27.7s finished\n"
     ]
    }
   ],
   "source": [
    "adata_stim = adata.copy()[\n",
    "    adata.obs.cell_type.isin(ct) & \\\n",
    "    adata.obs.stim.isin(['control', stim])].copy()\n",
    "# time_converter={0:0, int('6'):1}\n",
    "adata_stim.obs['time_step'] = adata_stim.obs['time']#.astype(int).apply(lambda x: time_converter[x])\n",
    "adata_stim.obs['time'] = 'tp_' + adata_stim.obs['time'].astype(str)\n",
    "\n",
    "memento.create_groups(adata_stim, label_columns=['time', 'donor'])\n",
    "memento.compute_1d_moments(adata_stim, min_perc_group=.3)\n",
    "moment_1d_df = memento.get_1d_moments(adata_stim, groupby='time')\n",
    "\n",
    "available_tfs = list(set(tf_list) & set(moment_1d_df[0].gene))\n",
    "available_targets = list(uniq_de_genes[stim] & set(moment_1d_df[0].gene))\n",
    "\n",
    "memento.compute_2d_moments(adata_stim, list(itertools.product(available_tfs, available_targets)))\n",
    "\n",
    "moment_df = memento.get_2d_moments(adata_stim, groupby='time') \n",
    "\n",
    "moment_df['max_corr'] = moment_df.iloc[:, 2:].max(axis=1).values\n",
    "\n",
    "candidates = moment_df.query('max_corr > 0.35 & gene_1 != gene_2')\n",
    "\n",
    "top_tfs = candidates.groupby('gene_1').size().sort_values(ascending=False)\n",
    "top_tfs = top_tfs[top_tfs > 15].index.tolist()\n",
    "\n",
    "candidates = candidates.query('gene_1 in @top_tfs')\n",
    "\n",
    "candidates = list(zip(candidates['gene_1'], candidates['gene_2']))\n",
    "\n",
    "candidates = list(itertools.product(['STAT1', 'IRF1', 'CIITA'], ['HLA-DRA', 'HLA-DMA', 'HLA-DPB1', 'HLA-DRB1']))\n",
    "\n",
    "memento.compute_2d_moments(adata_stim, candidates)\n",
    "\n",
    "memento.ht_2d_moments( \n",
    "    adata_stim, \n",
    "    formula_like='1 + time + donor',\n",
    "    treatment_col='time', \n",
    "    num_boot=10000, \n",
    "    verbose=1,\n",
    "    num_cpus=94,\n",
    "    resampling='permutation',\n",
    "    approx=False)\n"
   ]
  },
  {
   "cell_type": "code",
   "execution_count": 82,
   "metadata": {},
   "outputs": [],
   "source": [
    "ht_2d_df = memento.get_2d_ht_result(adata_stim)\n",
    "ht_2d_df['corr_fdr'] = memento.util._fdrcorrect(ht_2d_df['corr_pval'])\n",
    "sig_df = ht_2d_df.query('corr_fdr < 0.1')"
   ]
  },
  {
   "cell_type": "code",
   "execution_count": 83,
   "metadata": {},
   "outputs": [],
   "source": [
    "tp_order = ['time_tp_' + str(i) for i in [0, 3, 6, 9, 24, 48]]"
   ]
  },
  {
   "cell_type": "code",
   "execution_count": 90,
   "metadata": {},
   "outputs": [
    {
     "data": {
      "text/html": [
       "<div>\n",
       "<style scoped>\n",
       "    .dataframe tbody tr th:only-of-type {\n",
       "        vertical-align: middle;\n",
       "    }\n",
       "\n",
       "    .dataframe tbody tr th {\n",
       "        vertical-align: top;\n",
       "    }\n",
       "\n",
       "    .dataframe thead th {\n",
       "        text-align: right;\n",
       "    }\n",
       "</style>\n",
       "<table border=\"1\" class=\"dataframe\">\n",
       "  <thead>\n",
       "    <tr style=\"text-align: right;\">\n",
       "      <th></th>\n",
       "      <th>time_tp_0</th>\n",
       "      <th>time_tp_3</th>\n",
       "      <th>time_tp_6</th>\n",
       "      <th>time_tp_9</th>\n",
       "      <th>time_tp_24</th>\n",
       "      <th>time_tp_48</th>\n",
       "    </tr>\n",
       "  </thead>\n",
       "  <tbody>\n",
       "    <tr>\n",
       "      <th>8497</th>\n",
       "      <td>-2.216917</td>\n",
       "      <td>-0.133482</td>\n",
       "      <td>-0.250962</td>\n",
       "      <td>-0.205729</td>\n",
       "      <td>-0.256063</td>\n",
       "      <td>-0.471048</td>\n",
       "    </tr>\n",
       "  </tbody>\n",
       "</table>\n",
       "</div>"
      ],
      "text/plain": [
       "      time_tp_0  time_tp_3  time_tp_6  time_tp_9  time_tp_24  time_tp_48\n",
       "8497  -2.216917  -0.133482  -0.250962  -0.205729   -0.256063   -0.471048"
      ]
     },
     "execution_count": 90,
     "metadata": {},
     "output_type": "execute_result"
    }
   ],
   "source": [
    "moment_1d_df[0].query('gene == \"CIITA\"')[tp_order]"
   ]
  },
  {
   "cell_type": "code",
   "execution_count": null,
   "metadata": {},
   "outputs": [],
   "source": []
  },
  {
   "cell_type": "code",
   "execution_count": 85,
   "metadata": {},
   "outputs": [],
   "source": [
    "dra=moment_df.merge(sig_df[['gene_1', 'gene_2']], on=['gene_1', 'gene_2'], how='inner')\\\n",
    "    .query('gene_2.str.startswith(\"HLA-DRA\")', engine='python')[['gene_1', 'gene_2'] + tp_order]"
   ]
  },
  {
   "cell_type": "code",
   "execution_count": 87,
   "metadata": {},
   "outputs": [
    {
     "data": {
      "text/html": [
       "<div>\n",
       "<style scoped>\n",
       "    .dataframe tbody tr th:only-of-type {\n",
       "        vertical-align: middle;\n",
       "    }\n",
       "\n",
       "    .dataframe tbody tr th {\n",
       "        vertical-align: top;\n",
       "    }\n",
       "\n",
       "    .dataframe thead th {\n",
       "        text-align: right;\n",
       "    }\n",
       "</style>\n",
       "<table border=\"1\" class=\"dataframe\">\n",
       "  <thead>\n",
       "    <tr style=\"text-align: right;\">\n",
       "      <th></th>\n",
       "      <th>gene_1</th>\n",
       "      <th>gene_2</th>\n",
       "      <th>time_tp_0</th>\n",
       "      <th>time_tp_3</th>\n",
       "      <th>time_tp_6</th>\n",
       "      <th>time_tp_9</th>\n",
       "      <th>time_tp_24</th>\n",
       "      <th>time_tp_48</th>\n",
       "    </tr>\n",
       "  </thead>\n",
       "  <tbody>\n",
       "    <tr>\n",
       "      <th>3</th>\n",
       "      <td>IRF1</td>\n",
       "      <td>HLA-DRA</td>\n",
       "      <td>0.180688</td>\n",
       "      <td>0.383188</td>\n",
       "      <td>0.566185</td>\n",
       "      <td>0.587024</td>\n",
       "      <td>0.322500</td>\n",
       "      <td>0.138778</td>\n",
       "    </tr>\n",
       "    <tr>\n",
       "      <th>7</th>\n",
       "      <td>CIITA</td>\n",
       "      <td>HLA-DRA</td>\n",
       "      <td>0.307537</td>\n",
       "      <td>0.135981</td>\n",
       "      <td>0.344362</td>\n",
       "      <td>0.439568</td>\n",
       "      <td>0.255445</td>\n",
       "      <td>0.193518</td>\n",
       "    </tr>\n",
       "    <tr>\n",
       "      <th>11</th>\n",
       "      <td>STAT1</td>\n",
       "      <td>HLA-DRA</td>\n",
       "      <td>0.105812</td>\n",
       "      <td>0.410158</td>\n",
       "      <td>0.499205</td>\n",
       "      <td>0.624468</td>\n",
       "      <td>0.580708</td>\n",
       "      <td>0.287421</td>\n",
       "    </tr>\n",
       "  </tbody>\n",
       "</table>\n",
       "</div>"
      ],
      "text/plain": [
       "   gene_1   gene_2  time_tp_0  time_tp_3  time_tp_6  time_tp_9  time_tp_24  \\\n",
       "3    IRF1  HLA-DRA   0.180688   0.383188   0.566185   0.587024    0.322500   \n",
       "7   CIITA  HLA-DRA   0.307537   0.135981   0.344362   0.439568    0.255445   \n",
       "11  STAT1  HLA-DRA   0.105812   0.410158   0.499205   0.624468    0.580708   \n",
       "\n",
       "    time_tp_48  \n",
       "3     0.138778  \n",
       "7     0.193518  \n",
       "11    0.287421  "
      ]
     },
     "execution_count": 87,
     "metadata": {},
     "output_type": "execute_result"
    }
   ],
   "source": [
    "dra"
   ]
  },
  {
   "cell_type": "code",
   "execution_count": 86,
   "metadata": {},
   "outputs": [
    {
     "data": {
      "image/png": "[encoded data removed]",
      "text/plain": [
       "<Figure size 432x288 with 1 Axes>"
      ]
     },
     "metadata": {
      "needs_background": "light"
     },
     "output_type": "display_data"
    }
   ],
   "source": [
    "plt.plot(dra[tp_order].values.T, lw=1);"
   ]
  }
 ],
 "metadata": {
  "kernelspec": {
   "display_name": "Python 3",
   "language": "python",
   "name": "python3"
  },
  "language_info": {
   "codemirror_mode": {
    "name": "ipython",
    "version": 3
   },
   "file_extension": ".py",
   "mimetype": "text/x-python",
   "name": "python",
   "nbconvert_exporter": "python",
   "pygments_lexer": "ipython3",
   "version": "3.8.8"
  }
 },
 "nbformat": 4,
 "nbformat_minor": 4
}
