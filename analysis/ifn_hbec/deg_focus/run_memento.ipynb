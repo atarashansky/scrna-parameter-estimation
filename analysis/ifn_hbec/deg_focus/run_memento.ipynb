{
 "cells": [
  {
   "cell_type": "markdown",
   "metadata": {},
   "source": [
    "# Variability analysis for HBEC IFN experiment"
   ]
  },
  {
   "cell_type": "code",
   "execution_count": 1,
   "metadata": {},
   "outputs": [],
   "source": [
    "import scanpy as sc\n",
    "import seaborn as sns\n",
    "import pandas as pd\n",
    "import matplotlib.pyplot as plt\n",
    "import numpy as np\n",
    "import scipy.stats as stats\n",
    "from pybedtools import BedTool\n",
    "import pickle as pkl\n",
    "%matplotlib inline\n",
    "import itertools"
   ]
  },
  {
   "cell_type": "code",
   "execution_count": 2,
   "metadata": {},
   "outputs": [],
   "source": [
    "import sys\n",
    "sys.path.append('/home/ssm-user/Github/scrna-parameter-estimation/dist/memento-0.0.6-py3.8.egg')\n",
    "sys.path.append('/home/ssm-user/Github/misc-seq/miscseq')\n",
    "import encode\n",
    "import memento"
   ]
  },
  {
   "cell_type": "code",
   "execution_count": 3,
   "metadata": {},
   "outputs": [],
   "source": [
    "data_path = '/data_volume/memento/hbec/'\n",
    "fig_path = '/data/home/Github/scrna-parameter-estimation/figures/fig6/'"
   ]
  },
  {
   "cell_type": "code",
   "execution_count": 4,
   "metadata": {},
   "outputs": [],
   "source": [
    "import matplotlib\n",
    "matplotlib.rcParams['pdf.fonttype'] = 42\n",
    "matplotlib.rcParams['ps.fonttype'] = 42"
   ]
  },
  {
   "cell_type": "code",
   "execution_count": 5,
   "metadata": {},
   "outputs": [],
   "source": [
    "import matplotlib.pylab as pylab\n",
    "params = {'legend.fontsize': 'medium',\n",
    "         'axes.labelsize': 'medium',\n",
    "         'axes.titlesize':'medium',\n",
    "         'figure.titlesize':'medium',\n",
    "         'xtick.labelsize':'small',\n",
    "         'ytick.labelsize':'small'}\n",
    "pylab.rcParams.update(params)"
   ]
  },
  {
   "cell_type": "markdown",
   "metadata": {},
   "source": [
    "### Get canonical TFs"
   ]
  },
  {
   "cell_type": "code",
   "execution_count": 6,
   "metadata": {},
   "outputs": [],
   "source": [
    "tf_df = pd.read_csv('human_tf.txt', sep='\\t')\n",
    "tf_list = tf_df['Symbol'].tolist()"
   ]
  },
  {
   "cell_type": "markdown",
   "metadata": {},
   "source": [
    "### Read the processed RNA data\n",
    "\n",
    "Focus on the club and bc/club cells and type I interferons for now.\n",
    "\n",
    "Encode the timestamps to integers."
   ]
  },
  {
   "cell_type": "code",
   "execution_count": 7,
   "metadata": {},
   "outputs": [],
   "source": [
    "# adata_processed = sc.read(data_path + 'HBEC_type_I_processed_deep.h5ad')"
   ]
  },
  {
   "cell_type": "code",
   "execution_count": 8,
   "metadata": {},
   "outputs": [],
   "source": [
    "adata = sc.read(data_path + 'HBEC_type_I_filtered_counts_deep.h5ad')"
   ]
  },
  {
   "cell_type": "code",
   "execution_count": 9,
   "metadata": {},
   "outputs": [
    {
     "name": "stderr",
     "output_type": "stream",
     "text": [
      "/home/ssm-user/anaconda3/envs/single_cell/lib/python3.8/site-packages/pandas/core/arrays/categorical.py:2487: FutureWarning: The `inplace` parameter in pandas.Categorical.remove_unused_categories is deprecated and will be removed in a future version.\n",
      "  res = method(*args, **kwargs)\n"
     ]
    }
   ],
   "source": [
    "adata = adata[:, ~adata.var.index.str.startswith('MT-')].copy()\n",
    "# adata.obs['cell_type'] = adata.obs['cell_type'].apply(lambda x: x if x != 'basal/club' else 'bc')\n",
    "# adata.obs['cell_type'] = adata.obs['cell_type'].apply(lambda x: x if x != 'ionocyte/tuft' else 'ion-tuft')"
   ]
  },
  {
   "cell_type": "raw",
   "metadata": {},
   "source": [
    "sc.pl.umap(adata_processed, color=['cell_type', 'time', 'stim'])"
   ]
  },
  {
   "cell_type": "code",
   "execution_count": 10,
   "metadata": {},
   "outputs": [
    {
     "data": {
      "text/plain": [
       "(69958, 36588)"
      ]
     },
     "execution_count": 10,
     "metadata": {},
     "output_type": "execute_result"
    }
   ],
   "source": [
    "adata.shape"
   ]
  },
  {
   "cell_type": "code",
   "execution_count": 11,
   "metadata": {},
   "outputs": [],
   "source": [
    "converter = {'basal/club':'BC', 'basal':'B', 'ciliated':'C', 'goblet':'G', 'ionocyte/tuft':'IT', 'neuroendo':'N'}"
   ]
  },
  {
   "cell_type": "code",
   "execution_count": 12,
   "metadata": {},
   "outputs": [],
   "source": [
    "adata.obs['ct'] = adata.obs['cell_type'].apply(lambda x: converter[x])"
   ]
  },
  {
   "cell_type": "markdown",
   "metadata": {},
   "source": [
    "### Setup memento"
   ]
  },
  {
   "cell_type": "code",
   "execution_count": 13,
   "metadata": {},
   "outputs": [],
   "source": [
    "def assign_q(batch):\n",
    "    \n",
    "    if batch == 0:\n",
    "        return 0.387*0.25\n",
    "    elif batch == 1:\n",
    "        return 0.392*0.25\n",
    "    elif batch == 2:\n",
    "        return 0.436*0.25\n",
    "    else:\n",
    "        return 0.417*0.25"
   ]
  },
  {
   "cell_type": "code",
   "execution_count": 14,
   "metadata": {},
   "outputs": [],
   "source": [
    "adata.obs['q'] = adata.obs['batch'].apply(assign_q)"
   ]
  },
  {
   "cell_type": "code",
   "execution_count": 15,
   "metadata": {},
   "outputs": [
    {
     "name": "stdout",
     "output_type": "stream",
     "text": [
      "Version 0.0.6\n"
     ]
    }
   ],
   "source": [
    "memento.setup_memento(adata, q_column='q')"
   ]
  },
  {
   "cell_type": "markdown",
   "metadata": {},
   "source": [
    "### Run 1D HT test"
   ]
  },
  {
   "cell_type": "code",
   "execution_count": 126,
   "metadata": {},
   "outputs": [],
   "source": [
    "import os\n",
    "done_files = os.listdir('/data_volume/memento/hbec/binary_test_latest/')"
   ]
  },
  {
   "cell_type": "code",
   "execution_count": 16,
   "metadata": {},
   "outputs": [
    {
     "name": "stdout",
     "output_type": "stream",
     "text": [
      "starting 6 alpha\n",
      "(5848, 9204)\n"
     ]
    },
    {
     "name": "stderr",
     "output_type": "stream",
     "text": [
      "[Parallel(n_jobs=92)]: Using backend LokyBackend with 92 concurrent workers.\n",
      "[Parallel(n_jobs=92)]: Done  16 tasks      | elapsed:    4.4s\n",
      "[Parallel(n_jobs=92)]: Done 266 tasks      | elapsed:    7.4s\n",
      "[Parallel(n_jobs=92)]: Done 616 tasks      | elapsed:   11.5s\n",
      "[Parallel(n_jobs=92)]: Done 1066 tasks      | elapsed:   16.3s\n",
      "[Parallel(n_jobs=92)]: Done 1616 tasks      | elapsed:   22.0s\n",
      "[Parallel(n_jobs=92)]: Done 2266 tasks      | elapsed:   29.0s\n",
      "[Parallel(n_jobs=92)]: Done 3016 tasks      | elapsed:   36.9s\n",
      "[Parallel(n_jobs=92)]: Done 3866 tasks      | elapsed:   45.7s\n",
      "[Parallel(n_jobs=92)]: Done 4816 tasks      | elapsed:   55.6s\n",
      "[Parallel(n_jobs=92)]: Done 5866 tasks      | elapsed:  1.1min\n",
      "[Parallel(n_jobs=92)]: Done 7016 tasks      | elapsed:  1.3min\n",
      "[Parallel(n_jobs=92)]: Done 8266 tasks      | elapsed:  1.5min\n",
      "[Parallel(n_jobs=92)]: Done 9204 out of 9204 | elapsed:  1.7min finished\n",
      "... storing 'memento_group' as categorical\n"
     ]
    },
    {
     "name": "stdout",
     "output_type": "stream",
     "text": [
      "starting 6 beta\n"
     ]
    },
    {
     "name": "stderr",
     "output_type": "stream",
     "text": [
      "/home/ssm-user/anaconda3/envs/single_cell/lib/python3.8/site-packages/pandas/core/arrays/categorical.py:2487: FutureWarning: The `inplace` parameter in pandas.Categorical.remove_unused_categories is deprecated and will be removed in a future version.\n",
      "  res = method(*args, **kwargs)\n"
     ]
    },
    {
     "name": "stdout",
     "output_type": "stream",
     "text": [
      "(6062, 9234)\n"
     ]
    },
    {
     "name": "stderr",
     "output_type": "stream",
     "text": [
      "[Parallel(n_jobs=92)]: Using backend LokyBackend with 92 concurrent workers.\n",
      "[Parallel(n_jobs=92)]: Done  16 tasks      | elapsed:    0.7s\n",
      "[Parallel(n_jobs=92)]: Done 266 tasks      | elapsed:    3.6s\n",
      "[Parallel(n_jobs=92)]: Done 616 tasks      | elapsed:    7.7s\n",
      "[Parallel(n_jobs=92)]: Done 1066 tasks      | elapsed:   12.8s\n",
      "[Parallel(n_jobs=92)]: Done 1616 tasks      | elapsed:   19.1s\n",
      "[Parallel(n_jobs=92)]: Done 2266 tasks      | elapsed:   26.5s\n",
      "[Parallel(n_jobs=92)]: Done 3016 tasks      | elapsed:   35.1s\n",
      "[Parallel(n_jobs=92)]: Done 3866 tasks      | elapsed:   44.7s\n",
      "[Parallel(n_jobs=92)]: Done 4816 tasks      | elapsed:   55.4s\n",
      "[Parallel(n_jobs=92)]: Done 5866 tasks      | elapsed:  1.1min\n",
      "[Parallel(n_jobs=92)]: Done 7016 tasks      | elapsed:  1.3min\n",
      "[Parallel(n_jobs=92)]: Done 8266 tasks      | elapsed:  1.6min\n",
      "[Parallel(n_jobs=92)]: Done 9234 out of 9234 | elapsed:  1.8min finished\n",
      "... storing 'memento_group' as categorical\n"
     ]
    },
    {
     "name": "stdout",
     "output_type": "stream",
     "text": [
      "starting 6 gamma\n"
     ]
    },
    {
     "name": "stderr",
     "output_type": "stream",
     "text": [
      "/home/ssm-user/anaconda3/envs/single_cell/lib/python3.8/site-packages/pandas/core/arrays/categorical.py:2487: FutureWarning: The `inplace` parameter in pandas.Categorical.remove_unused_categories is deprecated and will be removed in a future version.\n",
      "  res = method(*args, **kwargs)\n"
     ]
    },
    {
     "name": "stdout",
     "output_type": "stream",
     "text": [
      "(5531, 9276)\n"
     ]
    },
    {
     "name": "stderr",
     "output_type": "stream",
     "text": [
      "[Parallel(n_jobs=92)]: Using backend LokyBackend with 92 concurrent workers.\n",
      "[Parallel(n_jobs=92)]: Done  16 tasks      | elapsed:    0.6s\n",
      "[Parallel(n_jobs=92)]: Done 266 tasks      | elapsed:    3.0s\n",
      "[Parallel(n_jobs=92)]: Done 616 tasks      | elapsed:    6.7s\n",
      "[Parallel(n_jobs=92)]: Done 1066 tasks      | elapsed:   11.3s\n",
      "[Parallel(n_jobs=92)]: Done 1616 tasks      | elapsed:   16.8s\n",
      "[Parallel(n_jobs=92)]: Done 2266 tasks      | elapsed:   23.2s\n",
      "[Parallel(n_jobs=92)]: Done 3016 tasks      | elapsed:   30.6s\n",
      "[Parallel(n_jobs=92)]: Done 3866 tasks      | elapsed:   39.4s\n",
      "[Parallel(n_jobs=92)]: Done 4816 tasks      | elapsed:   48.9s\n",
      "[Parallel(n_jobs=92)]: Done 5866 tasks      | elapsed:   59.9s\n",
      "[Parallel(n_jobs=92)]: Done 7016 tasks      | elapsed:  1.2min\n",
      "[Parallel(n_jobs=92)]: Done 8266 tasks      | elapsed:  1.4min\n",
      "[Parallel(n_jobs=92)]: Done 9276 out of 9276 | elapsed:  1.6min finished\n",
      "... storing 'memento_group' as categorical\n"
     ]
    },
    {
     "name": "stdout",
     "output_type": "stream",
     "text": [
      "starting 6 lambda\n"
     ]
    },
    {
     "name": "stderr",
     "output_type": "stream",
     "text": [
      "/home/ssm-user/anaconda3/envs/single_cell/lib/python3.8/site-packages/pandas/core/arrays/categorical.py:2487: FutureWarning: The `inplace` parameter in pandas.Categorical.remove_unused_categories is deprecated and will be removed in a future version.\n",
      "  res = method(*args, **kwargs)\n"
     ]
    },
    {
     "name": "stdout",
     "output_type": "stream",
     "text": [
      "(5365, 9311)\n"
     ]
    },
    {
     "name": "stderr",
     "output_type": "stream",
     "text": [
      "[Parallel(n_jobs=92)]: Using backend LokyBackend with 92 concurrent workers.\n",
      "[Parallel(n_jobs=92)]: Done  16 tasks      | elapsed:    0.7s\n",
      "[Parallel(n_jobs=92)]: Done 266 tasks      | elapsed:    3.3s\n",
      "[Parallel(n_jobs=92)]: Done 616 tasks      | elapsed:    7.2s\n",
      "[Parallel(n_jobs=92)]: Done 1066 tasks      | elapsed:   12.2s\n",
      "[Parallel(n_jobs=92)]: Done 1616 tasks      | elapsed:   18.1s\n",
      "[Parallel(n_jobs=92)]: Done 2266 tasks      | elapsed:   25.1s\n",
      "[Parallel(n_jobs=92)]: Done 3016 tasks      | elapsed:   33.2s\n",
      "[Parallel(n_jobs=92)]: Done 3866 tasks      | elapsed:   42.4s\n",
      "[Parallel(n_jobs=92)]: Done 4816 tasks      | elapsed:   52.7s\n",
      "[Parallel(n_jobs=92)]: Done 5866 tasks      | elapsed:  1.1min\n",
      "[Parallel(n_jobs=92)]: Done 7016 tasks      | elapsed:  1.3min\n",
      "[Parallel(n_jobs=92)]: Done 8266 tasks      | elapsed:  1.5min\n",
      "[Parallel(n_jobs=92)]: Done 9311 out of 9311 | elapsed:  1.7min finished\n",
      "... storing 'memento_group' as categorical\n"
     ]
    }
   ],
   "source": [
    "ct = ['ciliated']\n",
    "tp = '6'\n",
    "\n",
    "for tp in ['3', '6', '9', '24', '48']:\n",
    "    for stim in stims:\n",
    "        \n",
    "        fname = '{}_{}_{}.h5ad'.format('-'.join(ct), stim, tp)\n",
    "        \n",
    "        if fname in done_files:\n",
    "            continue\n",
    "\n",
    "        print('starting', ct, tp, stim)\n",
    "\n",
    "        adata_stim = adata.copy()[\n",
    "            adata.obs.cell_type.isin(ct) & \\\n",
    "            adata.obs.stim.isin(['control', stim]) & \\\n",
    "            adata.obs.time.isin(['0',tp]), :].copy()\n",
    "        time_converter={0:0, int(tp):1}\n",
    "        adata_stim.obs['time_step'] = adata_stim.obs['time'].astype(int).apply(lambda x: time_converter[x])\n",
    "\n",
    "        memento.create_groups(adata_stim, label_columns=['time_step', 'donor'])\n",
    "        memento.compute_1d_moments(adata_stim, min_perc_group=.9)\n",
    "\n",
    "        memento.ht_1d_moments(\n",
    "            adata_stim, \n",
    "            formula_like='1 + time_step + donor',\n",
    "            treatment_col='time_step', \n",
    "            num_boot=10000, \n",
    "            verbose=1,\n",
    "            num_cpus=92,\n",
    "            resampling='permutation',\n",
    "            approx=False)\n",
    "\n",
    "        adata_stim.write('/data_volume/memento/hbec/binary_test_latest/{}_{}_{}.h5ad'.format('-'.join(ct), stim, tp))"
   ]
  },
  {
   "cell_type": "code",
   "execution_count": null,
   "metadata": {},
   "outputs": [],
   "source": [
    "# ct = ['ciliated']\n",
    "# tp = '6'\n",
    "# for stim in stims:\n",
    "\n",
    "#     print('starting', ct, tp, stim)\n",
    "\n",
    "#     adata_stim = adata.copy()[\n",
    "#         adata.obs.cell_type.isin(ct) & \\\n",
    "#         adata.obs.stim.isin(['control', stim]) & \\\n",
    "#         adata.obs.time.isin(['0',tp]), :].copy()\n",
    "#     time_converter={0:0, int(tp):1}\n",
    "#     adata_stim.obs['time_step'] = adata_stim.obs['time'].astype(int).apply(lambda x: time_converter[x])\n",
    "\n",
    "#     memento.create_groups(adata_stim, label_columns=['time_step', 'donor'])\n",
    "#     memento.compute_1d_moments(adata_stim, min_perc_group=.9)\n",
    "\n",
    "#     memento.ht_1d_moments(\n",
    "#         adata_stim, \n",
    "#         formula_like='1 + time_step',\n",
    "#         treatment_col='time_step', \n",
    "#         num_boot=10000, \n",
    "#         verbose=1,\n",
    "#         num_cpus=92,\n",
    "#         resampling='permutation',\n",
    "#         approx=False)\n",
    "\n",
    "#     adata_stim.write('/data_volume/memento/hbec/binary_test_latest/{}_{}_{}.h5ad'.format('-'.join(ct), stim, tp))"
   ]
  },
  {
   "cell_type": "markdown",
   "metadata": {},
   "source": [
    "### Classify DEGs"
   ]
  },
  {
   "cell_type": "code",
   "execution_count": 17,
   "metadata": {},
   "outputs": [],
   "source": [
    "# cts = [['ciliated']]\n",
    "tps = [ '6',]\n",
    "stims = ['alpha', 'beta', 'gamma', 'lambda']"
   ]
  },
  {
   "cell_type": "code",
   "execution_count": 47,
   "metadata": {},
   "outputs": [],
   "source": [
    "def read_result():\n",
    "    \n",
    "    ht_dict = {}\n",
    "    moments_dict = {}\n",
    "    \n",
    "    for stim in stims:\n",
    "        ht_dict[stim] = {}\n",
    "        moments_dict[stim] = {}\n",
    "        for tp in tps: \n",
    "            adata_subset = sc.read(data_path + '/binary_test_latest/ciliated_{}_{}.h5ad'.format(stim, tp))\n",
    "            ht_dict[stim][tp] = memento.get_1d_ht_result(adata_subset)\n",
    "            ht_dict[stim][tp]['de_fdr'] = memento.util._fdrcorrect(ht_dict[stim][tp]['de_pval'])\n",
    "            ht_dict[stim][tp]['dv_fdr'] = memento.util._fdrcorrect(ht_dict[stim][tp]['dv_pval'])\n",
    "            moments_dict[stim][tp] = memento.get_1d_moments(adata_subset, groupby='time_step')\n",
    "    return ht_dict,moments_dict"
   ]
  },
  {
   "cell_type": "code",
   "execution_count": 48,
   "metadata": {},
   "outputs": [],
   "source": [
    "all_result = {}\n",
    "all_result['ht'], all_result['moments'] = read_result()"
   ]
  },
  {
   "cell_type": "code",
   "execution_count": 49,
   "metadata": {},
   "outputs": [],
   "source": [
    "# all_result = {}\n",
    "# for ct in cts:\n",
    "    \n",
    "#     key = '-'.join(ct)\n",
    "#     all_result[key] = {}\n",
    "    \n",
    "#     all_result[key]['ht'], all_result[key]['moments'] = read_result(ct)"
   ]
  },
  {
   "cell_type": "code",
   "execution_count": 71,
   "metadata": {},
   "outputs": [
    {
     "data": {
      "text/plain": [
       "1.6094379124341003"
      ]
     },
     "execution_count": 71,
     "metadata": {},
     "output_type": "execute_result"
    }
   ],
   "source": [
    "np.log(5)"
   ]
  },
  {
   "cell_type": "code",
   "execution_count": 112,
   "metadata": {},
   "outputs": [
    {
     "name": "stdout",
     "output_type": "stream",
     "text": [
      "alpha 353\n",
      "beta 458\n",
      "gamma 69\n",
      "lambda 40\n",
      "shared 165\n",
      "partial 271\n"
     ]
    }
   ],
   "source": [
    "stims = ['alpha', 'beta', 'gamma', 'lambda']\n",
    "# ct = 'ciliated'\n",
    "de_genes  = {}\n",
    "robust_de_genes = {}\n",
    "for stim in stims:\n",
    "    de_genes[stim] = all_result['ht'][stim]['6'].query('de_fdr < 0.1 & de_coef > 0.4054651081081644').gene.tolist() #np.log(1.5)\n",
    "    robust_de_genes[stim] = all_result['ht'][stim]['6'].query('de_fdr < 0.1 & de_coef > 0.4054651081081644').gene.tolist() #np.log(1.5)\n",
    "\n",
    "# de_genes['alpha/beta'] = set(de_genes['alpha']) | set(de_genes['beta'])\n",
    "\n",
    "# stims = ['gamma', 'lambda', 'alpha/beta']\n",
    "    \n",
    "uniq_de_genes = {}\n",
    "for stim in stims:\n",
    "    \n",
    "    uniq_de_genes[stim] = set(de_genes[stim])\n",
    "    for other in stims:\n",
    "        if stim == other or (stim in ['alpha', 'beta'] and other in ['alpha', 'beta']): continue\n",
    "        uniq_de_genes[stim] -= set(de_genes[other])\n",
    "    print(stim, len(uniq_de_genes[stim]))\n",
    "\n",
    "shared_de_genes = set()\n",
    "for stim in stims:\n",
    "    if len(shared_de_genes) == 0:\n",
    "        shared_de_genes = set(robust_de_genes[stim])\n",
    "    else:\n",
    "        shared_de_genes &= set(robust_de_genes[stim])\n",
    "\n",
    "all_de_genes = set()\n",
    "for stim in ['alpha', 'beta', 'gamma', 'lambda']:\n",
    "    all_de_genes |= set(de_genes[stim])\n",
    "shared_de_genes_lenient = all_de_genes - shared_de_genes\n",
    "for stim in ['gamma', 'lambda', 'alpha', 'beta']:\n",
    "    shared_de_genes_lenient -= uniq_de_genes[stim]\n",
    "print('shared', len(shared_de_genes))\n",
    "print('partial', len(shared_de_genes_lenient))"
   ]
  },
  {
   "cell_type": "markdown",
   "metadata": {},
   "source": [
    "### Variability of DEGs in control cells"
   ]
  },
  {
   "cell_type": "code",
   "execution_count": 113,
   "metadata": {},
   "outputs": [
    {
     "name": "stderr",
     "output_type": "stream",
     "text": [
      "/home/ssm-user/anaconda3/envs/single_cell/lib/python3.8/site-packages/pandas/core/arrays/categorical.py:2487: FutureWarning: The `inplace` parameter in pandas.Categorical.remove_unused_categories is deprecated and will be removed in a future version.\n",
      "  res = method(*args, **kwargs)\n"
     ]
    }
   ],
   "source": [
    "ctrl = adata[(adata.obs.stim=='control') & adata.obs.ct.isin(['B', 'C', 'BC'])].copy().copy()\n",
    "ctrl.obs['group'] = 1\n",
    "memento.create_groups(ctrl, label_columns=['ct', 'donor'])\n",
    "memento.compute_1d_moments(ctrl, min_perc_group=.3)\n",
    "# memento.ht_1d_moments(\n",
    "#     wt_subset, \n",
    "#     formula_like='1',\n",
    "#     treatment_col='Inter', \n",
    "#     num_boot=10000, \n",
    "#     verbose=1,\n",
    "#     num_cpus=70,\n",
    "#     resampling='permutation',\n",
    "#     approx=False)"
   ]
  },
  {
   "cell_type": "code",
   "execution_count": 114,
   "metadata": {},
   "outputs": [
    {
     "name": "stderr",
     "output_type": "stream",
     "text": [
      "/home/ssm-user/Github/scrna-parameter-estimation/dist/memento-0.0.6-py3.8.egg/memento/main.py:523: RuntimeWarning: divide by zero encountered in log\n",
      "  moment_mean_df[group] = np.log(val[0])\n",
      "/home/ssm-user/Github/scrna-parameter-estimation/dist/memento-0.0.6-py3.8.egg/memento/main.py:550: RuntimeWarning: divide by zero encountered in log\n",
      "  m = np.log(val[0])\n",
      "/home/ssm-user/Github/scrna-parameter-estimation/dist/memento-0.0.6-py3.8.egg/memento/main.py:562: RuntimeWarning: invalid value encountered in true_divide\n",
      "  groupby_var[key] /= groupby_var_count[key]\n"
     ]
    }
   ],
   "source": [
    "m_df, v_df = memento.get_1d_moments(ctrl, groupby='ct')"
   ]
  },
  {
   "cell_type": "code",
   "execution_count": 115,
   "metadata": {},
   "outputs": [],
   "source": [
    "def classify(x):\n",
    "    \n",
    "    if x in shared_de_genes:\n",
    "        return 'shared'\n",
    "    elif x in shared_de_genes_lenient:\n",
    "        return 'partially_shared'\n",
    "    for stim in stims:\n",
    "        if x in uniq_de_genes[stim]:\n",
    "            return 'uniq_' + stim\n",
    "    return 'none-DE'"
   ]
  },
  {
   "cell_type": "code",
   "execution_count": 116,
   "metadata": {},
   "outputs": [],
   "source": [
    "all_de_genes = []\n",
    "class_order = ['none-DE','shared', 'partially_shared' , 'uniq_lambda','uniq_gamma','uniq_alpha', 'uniq_beta']\n",
    "for stim in stims:\n",
    "    all_de_genes += robust_de_genes[stim]\n",
    "m_df['de'] = m_df['gene'].isin(all_de_genes)\n",
    "v_df['de'] = v_df['gene'].isin(all_de_genes)\n",
    "\n",
    "m_df['class'] = pd.Categorical(m_df['gene'].apply(classify), categories=class_order, ordered=True)\n",
    "v_df['class'] = pd.Categorical(v_df['gene'].apply(classify), categories=class_order, ordered=True)\n",
    "included_de_genes = m_df.query('de').gene.tolist()\n",
    "filtered_de_genes = [g  for g in de_genes  if g in included_de_genes]"
   ]
  },
  {
   "cell_type": "code",
   "execution_count": 117,
   "metadata": {},
   "outputs": [
    {
     "data": {
      "text/plain": [
       "Index(['ct_C', 'ct_BC', 'ct_B', 'de'], dtype='object')"
      ]
     },
     "execution_count": 117,
     "metadata": {},
     "output_type": "execute_result"
    }
   ],
   "source": [
    "m_df.columns[1:-1]"
   ]
  },
  {
   "cell_type": "code",
   "execution_count": 118,
   "metadata": {},
   "outputs": [],
   "source": [
    "v_df_melt = v_df.melt(['gene', 'class', 'de'], m_df.columns[1:-2])\n",
    "m_df_melt = m_df.melt(['gene', 'class', 'de'], m_df.columns[1:-2])"
   ]
  },
  {
   "cell_type": "code",
   "execution_count": 119,
   "metadata": {},
   "outputs": [
    {
     "data": {
      "text/plain": [
       "Text(0.5, 0, '')"
      ]
     },
     "execution_count": 119,
     "metadata": {},
     "output_type": "execute_result"
    },
    {
     "data": {
      "image/png": "[encoded data removed]",
      "text/plain": [
       "<Figure size 360x216 with 1 Axes>"
      ]
     },
     "metadata": {
      "needs_background": "light"
     },
     "output_type": "display_data"
    }
   ],
   "source": [
    "plt.figure(figsize=(5,3))\n",
    "sns.boxplot(x='variable', y='value', hue='de', data=m_df_melt, fliersize=0.1)\n",
    "plt.legend(bbox_to_anchor=(1,1), frameon=False, title='gene class'); \n",
    "plt.ylabel('Mean expr at baseline'); plt.xlabel(None)\n",
    "# plt.ylim(-3.5,4)"
   ]
  },
  {
   "cell_type": "code",
   "execution_count": 120,
   "metadata": {},
   "outputs": [
    {
     "data": {
      "text/plain": [
       "(-3.5, 4.0)"
      ]
     },
     "execution_count": 120,
     "metadata": {},
     "output_type": "execute_result"
    },
    {
     "data": {
      "image/png": "[encoded data removed]",
      "text/plain": [
       "<Figure size 360x216 with 1 Axes>"
      ]
     },
     "metadata": {
      "needs_background": "light"
     },
     "output_type": "display_data"
    }
   ],
   "source": [
    "plt.figure(figsize=(5,3))\n",
    "sns.boxplot(x='variable', y='value', hue='de', data=v_df_melt, fliersize=0.1)\n",
    "plt.legend(bbox_to_anchor=(1,1), frameon=False, title='DE'); \n",
    "plt.ylabel('Var expr at baseline'); plt.xlabel(None)\n",
    "plt.ylim(-3.5,4)"
   ]
  },
  {
   "cell_type": "code",
   "execution_count": 121,
   "metadata": {},
   "outputs": [
    {
     "data": {
      "text/plain": [
       "Text(0.5, 0, '')"
      ]
     },
     "execution_count": 121,
     "metadata": {},
     "output_type": "execute_result"
    },
    {
     "data": {
      "image/png": "[encoded data removed]",
      "text/plain": [
       "<Figure size 360x216 with 1 Axes>"
      ]
     },
     "metadata": {
      "needs_background": "light"
     },
     "output_type": "display_data"
    }
   ],
   "source": [
    "plt.figure(figsize=(5,3))\n",
    "sns.boxplot(x='variable', y='value', hue='class',data=m_df_melt, fliersize=0.1)\n",
    "plt.legend(bbox_to_anchor=(1,1), frameon=False, title='gene class'); \n",
    "plt.ylabel('Mean expr at baseline'); plt.xlabel(None)\n",
    "# plt.ylim(-3.5,4)"
   ]
  },
  {
   "cell_type": "code",
   "execution_count": 122,
   "metadata": {},
   "outputs": [
    {
     "data": {
      "text/plain": [
       "(-3.5, 4.0)"
      ]
     },
     "execution_count": 122,
     "metadata": {},
     "output_type": "execute_result"
    },
    {
     "data": {
      "image/png": "[encoded data removed]",
      "text/plain": [
       "<Figure size 360x216 with 1 Axes>"
      ]
     },
     "metadata": {
      "needs_background": "light"
     },
     "output_type": "display_data"
    }
   ],
   "source": [
    "plt.figure(figsize=(5,3))\n",
    "sns.boxplot(x='variable', y='value', hue='class',data=v_df_melt, fliersize=0.1)\n",
    "plt.legend(bbox_to_anchor=(1,1), frameon=False, title='gene class'); \n",
    "plt.ylabel('Variability of \\n expr at baseline'); plt.xlabel(None)\n",
    "plt.ylim(-3.5,4)"
   ]
  },
  {
   "cell_type": "markdown",
   "metadata": {},
   "source": [
    "### Heatmap for correlations at baseline"
   ]
  },
  {
   "cell_type": "code",
   "execution_count": 123,
   "metadata": {},
   "outputs": [
    {
     "name": "stderr",
     "output_type": "stream",
     "text": [
      "/home/ssm-user/Github/scrna-parameter-estimation/dist/memento-0.0.6-py3.8.egg/memento/main.py:614: RuntimeWarning: invalid value encountered in true_divide\n",
      "  groupby_corr[key] /= groupby_corr_count[key]\n"
     ]
    }
   ],
   "source": [
    "memento.compute_2d_moments(ctrl, gene_pairs=list(itertools.combinations(included_de_genes,2)))\n",
    "c_df = memento.get_2d_moments(ctrl, groupby='ct')"
   ]
  },
  {
   "cell_type": "code",
   "execution_count": 124,
   "metadata": {},
   "outputs": [],
   "source": [
    "ct_c_df = c_df[['gene_1', 'gene_2', 'ct_C']]\n",
    "ct_heatmap = pd.DataFrame(np.zeros((len(included_de_genes), len(included_de_genes))), columns=included_de_genes, index=included_de_genes)\n",
    "for idx, row in ct_c_df.iterrows():\n",
    "    \n",
    "    ct_heatmap.loc[row['gene_1'], row['gene_2']] = row['ct_C']\n",
    "    ct_heatmap.loc[row['gene_2'], row['gene_1']] = row['ct_C']"
   ]
  },
  {
   "cell_type": "code",
   "execution_count": 125,
   "metadata": {},
   "outputs": [
    {
     "name": "stdout",
     "output_type": "stream",
     "text": [
      "(1083, 1083)\n"
     ]
    },
    {
     "name": "stderr",
     "output_type": "stream",
     "text": [
      "/home/ssm-user/anaconda3/envs/single_cell/lib/python3.8/site-packages/seaborn/matrix.py:649: UserWarning: Clustering large matrix with scipy. Installing `fastcluster` may give better performance.\n",
      "  warnings.warn(msg)\n"
     ]
    },
    {
     "ename": "ValueError",
     "evalue": "The condensed distance matrix must contain only finite values.",
     "output_type": "error",
     "traceback": [
      "\u001b[0;31m---------------------------------------------------------------------------\u001b[0m",
      "\u001b[0;31mValueError\u001b[0m                                Traceback (most recent call last)",
      "\u001b[0;32m<ipython-input-125-4b6b95441faa>\u001b[0m in \u001b[0;36m<module>\u001b[0;34m\u001b[0m\n\u001b[1;32m      1\u001b[0m \u001b[0mprint\u001b[0m\u001b[0;34m(\u001b[0m\u001b[0mct_heatmap\u001b[0m\u001b[0;34m.\u001b[0m\u001b[0mshape\u001b[0m\u001b[0;34m)\u001b[0m\u001b[0;34m\u001b[0m\u001b[0;34m\u001b[0m\u001b[0m\n\u001b[0;32m----> 2\u001b[0;31m \u001b[0mcg\u001b[0m \u001b[0;34m=\u001b[0m \u001b[0msns\u001b[0m\u001b[0;34m.\u001b[0m\u001b[0mclustermap\u001b[0m\u001b[0;34m(\u001b[0m\u001b[0mct_heatmap\u001b[0m\u001b[0;34m,\u001b[0m \u001b[0mcenter\u001b[0m\u001b[0;34m=\u001b[0m\u001b[0;36m0\u001b[0m\u001b[0;34m,\u001b[0m \u001b[0mvmax\u001b[0m\u001b[0;34m=\u001b[0m\u001b[0;36m0.3\u001b[0m\u001b[0;34m)\u001b[0m\u001b[0;34m;\u001b[0m \u001b[0mplt\u001b[0m\u001b[0;34m.\u001b[0m\u001b[0mclose\u001b[0m\u001b[0;34m(\u001b[0m\u001b[0;34m)\u001b[0m\u001b[0;34m\u001b[0m\u001b[0;34m\u001b[0m\u001b[0m\n\u001b[0m\u001b[1;32m      3\u001b[0m \u001b[0mrow_inds\u001b[0m \u001b[0;34m=\u001b[0m \u001b[0mcg\u001b[0m\u001b[0;34m.\u001b[0m\u001b[0mdendrogram_row\u001b[0m\u001b[0;34m.\u001b[0m\u001b[0mreordered_ind\u001b[0m\u001b[0;34m\u001b[0m\u001b[0;34m\u001b[0m\u001b[0m\n\u001b[1;32m      4\u001b[0m \u001b[0mcol_inds\u001b[0m \u001b[0;34m=\u001b[0m \u001b[0mcg\u001b[0m\u001b[0;34m.\u001b[0m\u001b[0mdendrogram_col\u001b[0m\u001b[0;34m.\u001b[0m\u001b[0mreordered_ind\u001b[0m\u001b[0;34m\u001b[0m\u001b[0;34m\u001b[0m\u001b[0m\n\u001b[1;32m      5\u001b[0m \u001b[0mprint\u001b[0m\u001b[0;34m(\u001b[0m\u001b[0mct_heatmap\u001b[0m\u001b[0;34m.\u001b[0m\u001b[0mshape\u001b[0m\u001b[0;34m)\u001b[0m\u001b[0;34m\u001b[0m\u001b[0;34m\u001b[0m\u001b[0m\n",
      "\u001b[0;32m~/anaconda3/envs/single_cell/lib/python3.8/site-packages/seaborn/_decorators.py\u001b[0m in \u001b[0;36minner_f\u001b[0;34m(*args, **kwargs)\u001b[0m\n\u001b[1;32m     44\u001b[0m             )\n\u001b[1;32m     45\u001b[0m         \u001b[0mkwargs\u001b[0m\u001b[0;34m.\u001b[0m\u001b[0mupdate\u001b[0m\u001b[0;34m(\u001b[0m\u001b[0;34m{\u001b[0m\u001b[0mk\u001b[0m\u001b[0;34m:\u001b[0m \u001b[0marg\u001b[0m \u001b[0;32mfor\u001b[0m \u001b[0mk\u001b[0m\u001b[0;34m,\u001b[0m \u001b[0marg\u001b[0m \u001b[0;32min\u001b[0m \u001b[0mzip\u001b[0m\u001b[0;34m(\u001b[0m\u001b[0msig\u001b[0m\u001b[0;34m.\u001b[0m\u001b[0mparameters\u001b[0m\u001b[0;34m,\u001b[0m \u001b[0margs\u001b[0m\u001b[0;34m)\u001b[0m\u001b[0;34m}\u001b[0m\u001b[0;34m)\u001b[0m\u001b[0;34m\u001b[0m\u001b[0;34m\u001b[0m\u001b[0m\n\u001b[0;32m---> 46\u001b[0;31m         \u001b[0;32mreturn\u001b[0m \u001b[0mf\u001b[0m\u001b[0;34m(\u001b[0m\u001b[0;34m**\u001b[0m\u001b[0mkwargs\u001b[0m\u001b[0;34m)\u001b[0m\u001b[0;34m\u001b[0m\u001b[0;34m\u001b[0m\u001b[0m\n\u001b[0m\u001b[1;32m     47\u001b[0m     \u001b[0;32mreturn\u001b[0m \u001b[0minner_f\u001b[0m\u001b[0;34m\u001b[0m\u001b[0;34m\u001b[0m\u001b[0m\n\u001b[1;32m     48\u001b[0m \u001b[0;34m\u001b[0m\u001b[0m\n",
      "\u001b[0;32m~/anaconda3/envs/single_cell/lib/python3.8/site-packages/seaborn/matrix.py\u001b[0m in \u001b[0;36mclustermap\u001b[0;34m(data, pivot_kws, method, metric, z_score, standard_scale, figsize, cbar_kws, row_cluster, col_cluster, row_linkage, col_linkage, row_colors, col_colors, mask, dendrogram_ratio, colors_ratio, cbar_pos, tree_kws, **kwargs)\u001b[0m\n\u001b[1;32m   1406\u001b[0m                           colors_ratio=colors_ratio, cbar_pos=cbar_pos)\n\u001b[1;32m   1407\u001b[0m \u001b[0;34m\u001b[0m\u001b[0m\n\u001b[0;32m-> 1408\u001b[0;31m     return plotter.plot(metric=metric, method=method,\n\u001b[0m\u001b[1;32m   1409\u001b[0m                         \u001b[0mcolorbar_kws\u001b[0m\u001b[0;34m=\u001b[0m\u001b[0mcbar_kws\u001b[0m\u001b[0;34m,\u001b[0m\u001b[0;34m\u001b[0m\u001b[0;34m\u001b[0m\u001b[0m\n\u001b[1;32m   1410\u001b[0m                         \u001b[0mrow_cluster\u001b[0m\u001b[0;34m=\u001b[0m\u001b[0mrow_cluster\u001b[0m\u001b[0;34m,\u001b[0m \u001b[0mcol_cluster\u001b[0m\u001b[0;34m=\u001b[0m\u001b[0mcol_cluster\u001b[0m\u001b[0;34m,\u001b[0m\u001b[0;34m\u001b[0m\u001b[0;34m\u001b[0m\u001b[0m\n",
      "\u001b[0;32m~/anaconda3/envs/single_cell/lib/python3.8/site-packages/seaborn/matrix.py\u001b[0m in \u001b[0;36mplot\u001b[0;34m(self, metric, method, colorbar_kws, row_cluster, col_cluster, row_linkage, col_linkage, tree_kws, **kws)\u001b[0m\n\u001b[1;32m   1219\u001b[0m         \u001b[0mcolorbar_kws\u001b[0m \u001b[0;34m=\u001b[0m \u001b[0;34m{\u001b[0m\u001b[0;34m}\u001b[0m \u001b[0;32mif\u001b[0m \u001b[0mcolorbar_kws\u001b[0m \u001b[0;32mis\u001b[0m \u001b[0;32mNone\u001b[0m \u001b[0;32melse\u001b[0m \u001b[0mcolorbar_kws\u001b[0m\u001b[0;34m\u001b[0m\u001b[0;34m\u001b[0m\u001b[0m\n\u001b[1;32m   1220\u001b[0m \u001b[0;34m\u001b[0m\u001b[0m\n\u001b[0;32m-> 1221\u001b[0;31m         self.plot_dendrograms(row_cluster, col_cluster, metric, method,\n\u001b[0m\u001b[1;32m   1222\u001b[0m                               \u001b[0mrow_linkage\u001b[0m\u001b[0;34m=\u001b[0m\u001b[0mrow_linkage\u001b[0m\u001b[0;34m,\u001b[0m \u001b[0mcol_linkage\u001b[0m\u001b[0;34m=\u001b[0m\u001b[0mcol_linkage\u001b[0m\u001b[0;34m,\u001b[0m\u001b[0;34m\u001b[0m\u001b[0;34m\u001b[0m\u001b[0m\n\u001b[1;32m   1223\u001b[0m                               tree_kws=tree_kws)\n",
      "\u001b[0;32m~/anaconda3/envs/single_cell/lib/python3.8/site-packages/seaborn/matrix.py\u001b[0m in \u001b[0;36mplot_dendrograms\u001b[0;34m(self, row_cluster, col_cluster, metric, method, row_linkage, col_linkage, tree_kws)\u001b[0m\n\u001b[1;32m   1064\u001b[0m         \u001b[0;31m# Plot the row dendrogram\u001b[0m\u001b[0;34m\u001b[0m\u001b[0;34m\u001b[0m\u001b[0;34m\u001b[0m\u001b[0m\n\u001b[1;32m   1065\u001b[0m         \u001b[0;32mif\u001b[0m \u001b[0mrow_cluster\u001b[0m\u001b[0;34m:\u001b[0m\u001b[0;34m\u001b[0m\u001b[0;34m\u001b[0m\u001b[0m\n\u001b[0;32m-> 1066\u001b[0;31m             self.dendrogram_row = dendrogram(\n\u001b[0m\u001b[1;32m   1067\u001b[0m                 \u001b[0mself\u001b[0m\u001b[0;34m.\u001b[0m\u001b[0mdata2d\u001b[0m\u001b[0;34m,\u001b[0m \u001b[0mmetric\u001b[0m\u001b[0;34m=\u001b[0m\u001b[0mmetric\u001b[0m\u001b[0;34m,\u001b[0m \u001b[0mmethod\u001b[0m\u001b[0;34m=\u001b[0m\u001b[0mmethod\u001b[0m\u001b[0;34m,\u001b[0m \u001b[0mlabel\u001b[0m\u001b[0;34m=\u001b[0m\u001b[0;32mFalse\u001b[0m\u001b[0;34m,\u001b[0m \u001b[0maxis\u001b[0m\u001b[0;34m=\u001b[0m\u001b[0;36m0\u001b[0m\u001b[0;34m,\u001b[0m\u001b[0;34m\u001b[0m\u001b[0;34m\u001b[0m\u001b[0m\n\u001b[1;32m   1068\u001b[0m                 \u001b[0max\u001b[0m\u001b[0;34m=\u001b[0m\u001b[0mself\u001b[0m\u001b[0;34m.\u001b[0m\u001b[0max_row_dendrogram\u001b[0m\u001b[0;34m,\u001b[0m \u001b[0mrotate\u001b[0m\u001b[0;34m=\u001b[0m\u001b[0;32mTrue\u001b[0m\u001b[0;34m,\u001b[0m \u001b[0mlinkage\u001b[0m\u001b[0;34m=\u001b[0m\u001b[0mrow_linkage\u001b[0m\u001b[0;34m,\u001b[0m\u001b[0;34m\u001b[0m\u001b[0;34m\u001b[0m\u001b[0m\n",
      "\u001b[0;32m~/anaconda3/envs/single_cell/lib/python3.8/site-packages/seaborn/_decorators.py\u001b[0m in \u001b[0;36minner_f\u001b[0;34m(*args, **kwargs)\u001b[0m\n\u001b[1;32m     44\u001b[0m             )\n\u001b[1;32m     45\u001b[0m         \u001b[0mkwargs\u001b[0m\u001b[0;34m.\u001b[0m\u001b[0mupdate\u001b[0m\u001b[0;34m(\u001b[0m\u001b[0;34m{\u001b[0m\u001b[0mk\u001b[0m\u001b[0;34m:\u001b[0m \u001b[0marg\u001b[0m \u001b[0;32mfor\u001b[0m \u001b[0mk\u001b[0m\u001b[0;34m,\u001b[0m \u001b[0marg\u001b[0m \u001b[0;32min\u001b[0m \u001b[0mzip\u001b[0m\u001b[0;34m(\u001b[0m\u001b[0msig\u001b[0m\u001b[0;34m.\u001b[0m\u001b[0mparameters\u001b[0m\u001b[0;34m,\u001b[0m \u001b[0margs\u001b[0m\u001b[0;34m)\u001b[0m\u001b[0;34m}\u001b[0m\u001b[0;34m)\u001b[0m\u001b[0;34m\u001b[0m\u001b[0;34m\u001b[0m\u001b[0m\n\u001b[0;32m---> 46\u001b[0;31m         \u001b[0;32mreturn\u001b[0m \u001b[0mf\u001b[0m\u001b[0;34m(\u001b[0m\u001b[0;34m**\u001b[0m\u001b[0mkwargs\u001b[0m\u001b[0;34m)\u001b[0m\u001b[0;34m\u001b[0m\u001b[0;34m\u001b[0m\u001b[0m\n\u001b[0m\u001b[1;32m     47\u001b[0m     \u001b[0;32mreturn\u001b[0m \u001b[0minner_f\u001b[0m\u001b[0;34m\u001b[0m\u001b[0;34m\u001b[0m\u001b[0m\n\u001b[1;32m     48\u001b[0m \u001b[0;34m\u001b[0m\u001b[0m\n",
      "\u001b[0;32m~/anaconda3/envs/single_cell/lib/python3.8/site-packages/seaborn/matrix.py\u001b[0m in \u001b[0;36mdendrogram\u001b[0;34m(data, linkage, axis, label, metric, method, rotate, tree_kws, ax)\u001b[0m\n\u001b[1;32m    772\u001b[0m \u001b[0;34m\u001b[0m\u001b[0m\n\u001b[1;32m    773\u001b[0m     \"\"\"\n\u001b[0;32m--> 774\u001b[0;31m     plotter = _DendrogramPlotter(data, linkage=linkage, axis=axis,\n\u001b[0m\u001b[1;32m    775\u001b[0m                                  \u001b[0mmetric\u001b[0m\u001b[0;34m=\u001b[0m\u001b[0mmetric\u001b[0m\u001b[0;34m,\u001b[0m \u001b[0mmethod\u001b[0m\u001b[0;34m=\u001b[0m\u001b[0mmethod\u001b[0m\u001b[0;34m,\u001b[0m\u001b[0;34m\u001b[0m\u001b[0;34m\u001b[0m\u001b[0m\n\u001b[1;32m    776\u001b[0m                                  label=label, rotate=rotate)\n",
      "\u001b[0;32m~/anaconda3/envs/single_cell/lib/python3.8/site-packages/seaborn/matrix.py\u001b[0m in \u001b[0;36m__init__\u001b[0;34m(self, data, linkage, metric, method, axis, label, rotate)\u001b[0m\n\u001b[1;32m    582\u001b[0m \u001b[0;34m\u001b[0m\u001b[0m\n\u001b[1;32m    583\u001b[0m         \u001b[0;32mif\u001b[0m \u001b[0mlinkage\u001b[0m \u001b[0;32mis\u001b[0m \u001b[0;32mNone\u001b[0m\u001b[0;34m:\u001b[0m\u001b[0;34m\u001b[0m\u001b[0;34m\u001b[0m\u001b[0m\n\u001b[0;32m--> 584\u001b[0;31m             \u001b[0mself\u001b[0m\u001b[0;34m.\u001b[0m\u001b[0mlinkage\u001b[0m \u001b[0;34m=\u001b[0m \u001b[0mself\u001b[0m\u001b[0;34m.\u001b[0m\u001b[0mcalculated_linkage\u001b[0m\u001b[0;34m\u001b[0m\u001b[0;34m\u001b[0m\u001b[0m\n\u001b[0m\u001b[1;32m    585\u001b[0m         \u001b[0;32melse\u001b[0m\u001b[0;34m:\u001b[0m\u001b[0;34m\u001b[0m\u001b[0;34m\u001b[0m\u001b[0m\n\u001b[1;32m    586\u001b[0m             \u001b[0mself\u001b[0m\u001b[0;34m.\u001b[0m\u001b[0mlinkage\u001b[0m \u001b[0;34m=\u001b[0m \u001b[0mlinkage\u001b[0m\u001b[0;34m\u001b[0m\u001b[0;34m\u001b[0m\u001b[0m\n",
      "\u001b[0;32m~/anaconda3/envs/single_cell/lib/python3.8/site-packages/seaborn/matrix.py\u001b[0m in \u001b[0;36mcalculated_linkage\u001b[0;34m(self)\u001b[0m\n\u001b[1;32m    649\u001b[0m                 \u001b[0mwarnings\u001b[0m\u001b[0;34m.\u001b[0m\u001b[0mwarn\u001b[0m\u001b[0;34m(\u001b[0m\u001b[0mmsg\u001b[0m\u001b[0;34m)\u001b[0m\u001b[0;34m\u001b[0m\u001b[0;34m\u001b[0m\u001b[0m\n\u001b[1;32m    650\u001b[0m \u001b[0;34m\u001b[0m\u001b[0m\n\u001b[0;32m--> 651\u001b[0;31m         \u001b[0;32mreturn\u001b[0m \u001b[0mself\u001b[0m\u001b[0;34m.\u001b[0m\u001b[0m_calculate_linkage_scipy\u001b[0m\u001b[0;34m(\u001b[0m\u001b[0;34m)\u001b[0m\u001b[0;34m\u001b[0m\u001b[0;34m\u001b[0m\u001b[0m\n\u001b[0m\u001b[1;32m    652\u001b[0m \u001b[0;34m\u001b[0m\u001b[0m\n\u001b[1;32m    653\u001b[0m     \u001b[0;32mdef\u001b[0m \u001b[0mcalculate_dendrogram\u001b[0m\u001b[0;34m(\u001b[0m\u001b[0mself\u001b[0m\u001b[0;34m)\u001b[0m\u001b[0;34m:\u001b[0m\u001b[0;34m\u001b[0m\u001b[0;34m\u001b[0m\u001b[0m\n",
      "\u001b[0;32m~/anaconda3/envs/single_cell/lib/python3.8/site-packages/seaborn/matrix.py\u001b[0m in \u001b[0;36m_calculate_linkage_scipy\u001b[0;34m(self)\u001b[0m\n\u001b[1;32m    617\u001b[0m \u001b[0;34m\u001b[0m\u001b[0m\n\u001b[1;32m    618\u001b[0m     \u001b[0;32mdef\u001b[0m \u001b[0m_calculate_linkage_scipy\u001b[0m\u001b[0;34m(\u001b[0m\u001b[0mself\u001b[0m\u001b[0;34m)\u001b[0m\u001b[0;34m:\u001b[0m\u001b[0;34m\u001b[0m\u001b[0;34m\u001b[0m\u001b[0m\n\u001b[0;32m--> 619\u001b[0;31m         linkage = hierarchy.linkage(self.array, method=self.method,\n\u001b[0m\u001b[1;32m    620\u001b[0m                                     metric=self.metric)\n\u001b[1;32m    621\u001b[0m         \u001b[0;32mreturn\u001b[0m \u001b[0mlinkage\u001b[0m\u001b[0;34m\u001b[0m\u001b[0;34m\u001b[0m\u001b[0m\n",
      "\u001b[0;32m~/anaconda3/envs/single_cell/lib/python3.8/site-packages/scipy/cluster/hierarchy.py\u001b[0m in \u001b[0;36mlinkage\u001b[0;34m(y, method, metric, optimal_ordering)\u001b[0m\n\u001b[1;32m   1063\u001b[0m \u001b[0;34m\u001b[0m\u001b[0m\n\u001b[1;32m   1064\u001b[0m     \u001b[0;32mif\u001b[0m \u001b[0;32mnot\u001b[0m \u001b[0mnp\u001b[0m\u001b[0;34m.\u001b[0m\u001b[0mall\u001b[0m\u001b[0;34m(\u001b[0m\u001b[0mnp\u001b[0m\u001b[0;34m.\u001b[0m\u001b[0misfinite\u001b[0m\u001b[0;34m(\u001b[0m\u001b[0my\u001b[0m\u001b[0;34m)\u001b[0m\u001b[0;34m)\u001b[0m\u001b[0;34m:\u001b[0m\u001b[0;34m\u001b[0m\u001b[0;34m\u001b[0m\u001b[0m\n\u001b[0;32m-> 1065\u001b[0;31m         raise ValueError(\"The condensed distance matrix must contain only \"\n\u001b[0m\u001b[1;32m   1066\u001b[0m                          \"finite values.\")\n\u001b[1;32m   1067\u001b[0m \u001b[0;34m\u001b[0m\u001b[0m\n",
      "\u001b[0;31mValueError\u001b[0m: The condensed distance matrix must contain only finite values."
     ]
    },
    {
     "data": {
      "image/png": "[encoded data removed]",
      "text/plain": [
       "<Figure size 720x720 with 4 Axes>"
      ]
     },
     "metadata": {
      "needs_background": "light"
     },
     "output_type": "display_data"
    }
   ],
   "source": [
    "print(ct_heatmap.shape)\n",
    "cg = sns.clustermap(ct_heatmap, center=0, vmax=0.3); plt.close()\n",
    "row_inds = cg.dendrogram_row.reordered_ind\n",
    "col_inds = cg.dendrogram_col.reordered_ind\n",
    "print(ct_heatmap.shape)\n"
   ]
  },
  {
   "cell_type": "code",
   "execution_count": null,
   "metadata": {},
   "outputs": [],
   "source": [
    "def classify_color(x):\n",
    "    \n",
    "    if x in shared_de_genes:\n",
    "        return -1\n",
    "    for idx, stim in enumerate(stims):\n",
    "        if x in uniq_de_genes[stim]:\n",
    "            return idx\n",
    "    return 'impossible'"
   ]
  },
  {
   "cell_type": "code",
   "execution_count": null,
   "metadata": {},
   "outputs": [],
   "source": [
    "class_list = np.array([classify(g) for g in included_de_genes])[:, np.newaxis]"
   ]
  },
  {
   "cell_type": "code",
   "execution_count": null,
   "metadata": {},
   "outputs": [],
   "source": [
    "from matplotlib.colors import LinearSegmentedColormap\n",
    "\n",
    "\n",
    "myColors = sns.color_palette('husl')[:4]\n",
    "class_list = np.array([classify_color(g) for g in included_de_genes])[np.newaxis, :]\n",
    "cmap = LinearSegmentedColormap.from_list('Custom', myColors, len(myColors))"
   ]
  },
  {
   "cell_type": "code",
   "execution_count": null,
   "metadata": {},
   "outputs": [],
   "source": [
    "fig = plt.figure(figsize=(20,15))\n",
    "ax1 = plt.subplot2grid((21,20), (2,0), colspan=19, rowspan=19)\n",
    "ax2 = plt.subplot2grid((21,20), (0,0), colspan=19, rowspan=2)\n",
    "\n",
    "sns.heatmap(ct_heatmap.iloc[row_inds, col_inds], cmap='viridis', vmax=0.5, vmin=0.1, ax=ax1, yticklabels=False, xticklabels=False, )\n",
    "sns.heatmap(class_list[:, row_inds], cmap=cmap, ax=ax2, yticklabels=False, xticklabels=False,)\n",
    "colorbar = ax2.collections[0].colorbar\n",
    "colorbar.set_ticks([-0.5, 0.5, 1, 1.5])\n",
    "colorbar.set_ticklabels(['shared', 'gamma', 'lambda', 'alpha/beta'])"
   ]
  },
  {
   "cell_type": "code",
   "execution_count": null,
   "metadata": {},
   "outputs": [],
   "source": [
    "def draw_lines(x1, x2):\n",
    "    \n",
    "    plt.plot([x1, x1], [0, len(col_inds)], color='green', lw=2)\n",
    "    plt.plot([0, len(col_inds)], [x1, x1], color='green', lw=2)\n",
    "\n",
    "    plt.plot([x2, x2], [0, len(col_inds)], color='red', lw=2)\n",
    "    plt.plot([0, len(col_inds)], [x2, x2], color='red', lw=2)"
   ]
  },
  {
   "cell_type": "code",
   "execution_count": null,
   "metadata": {},
   "outputs": [],
   "source": [
    "plt.figure(figsize=(12,10))\n",
    "# sns.heatmap(ct_heatmap.iloc[row_inds, col_inds], center=0, vmax=0.3)\n",
    "sns.heatmap(ct_heatmap.loc[filtered_de_genes, filtered_de_genes], cmap='viridis', vmax=0.5, vmin=0.1)\n",
    "\n",
    "draw_lines(1, len([g for g in shared_de_genes if g in filtered_de_genes]))\n",
    "\n",
    "x = len([g for g in shared_de_genes if g in filtered_de_genes])\n",
    "draw_lines(x+1, \n",
    "           x+len([g for g in uniq_de_genes['gamma'] if g in filtered_de_genes])\n",
    "          )\n",
    "\n",
    "x = x+len([g for g in uniq_de_genes['gamma'] if g in filtered_de_genes])\n",
    "draw_lines(x+1, \n",
    "           x+len([g for g in uniq_de_genes['lambda'] if g in filtered_de_genes])\n",
    "          )"
   ]
  },
  {
   "cell_type": "markdown",
   "metadata": {},
   "source": [
    "### Find TFs that govern those genes"
   ]
  },
  {
   "cell_type": "code",
   "execution_count": null,
   "metadata": {},
   "outputs": [],
   "source": [
    "def get_top_tfs(gene_list, plot=False):\n",
    "    tf_ctrl = adata[\n",
    "        (adata.obs.stim=='control') & adata.obs.ct.isin(['B', 'C', 'BC'])\n",
    "    ].copy().copy()\n",
    "    tf_ctrl.obs['group'] = 1\n",
    "    memento.create_groups(tf_ctrl, label_columns=['ct', 'donor'])\n",
    "    memento.compute_1d_moments(tf_ctrl, min_perc_group=.3)\n",
    "    available_tfs = list(set(tf_list) & set(tf_ctrl.var.index))\n",
    "    available_targets = list(gene_list & set(tf_ctrl.var.index))\n",
    "\n",
    "    memento.compute_2d_moments(tf_ctrl, gene_pairs=list(itertools.product(available_tfs, available_targets)))\n",
    "    moment_df = memento.get_2d_moments(tf_ctrl, groupby='ct')\n",
    "    moment_df['mag_ct_C'] = moment_df['ct_C'].abs()\n",
    "    top_tfs = moment_df.groupby('gene_1')['ct_C'].mean().sort_values(ascending=False).head(10).index.tolist()\n",
    "    top_tf_df = moment_df.query('gene_1 in @top_tfs').copy()\n",
    "    top_tf_df['gene_1'] = pd.Categorical(top_tf_df['gene_1'].values, categories=top_tfs, ordered=True)\n",
    "    if plot:\n",
    "        sns.barplot(x='gene_1', y='ct_C', data=top_tf_df)\n",
    "    return moment_df, top_tfs"
   ]
  },
  {
   "cell_type": "code",
   "execution_count": null,
   "metadata": {},
   "outputs": [],
   "source": [
    "shared_df, top_tfs = get_top_tfs(shared_de_genes)\n",
    "lambda_df, _ = get_top_tfs(uniq_de_genes['lambda'])\n",
    "gamma_df, _ = get_top_tfs(uniq_de_genes['gamma'])\n",
    "type1_df, _ = get_top_tfs(uniq_de_genes['alpha/beta'])"
   ]
  },
  {
   "cell_type": "code",
   "execution_count": null,
   "metadata": {},
   "outputs": [],
   "source": [
    "shared_df['type'] = 'shared ISGs'\n",
    "lambda_df['type'] = 'lambda uniq. ISGs'\n",
    "gamma_df['type'] = 'gamma uniq. ISGs'\n",
    "type1_df['type'] = 'alpha/beta uniq. ISGs'"
   ]
  },
  {
   "cell_type": "code",
   "execution_count": null,
   "metadata": {},
   "outputs": [],
   "source": [
    "combined_df = pd.concat([shared_df, type1_df, gamma_df, lambda_df])\n",
    "order = shared_df.groupby('gene_1')['ct_C'].mean().sort_values(ascending=False).head(10).index.tolist()\n",
    "filtered_df = combined_df.query('gene_1 in @order').copy()\n",
    "filtered_df['gene_1'] = pd.Categorical(filtered_df['gene_1'].values, categories=order, ordered=True)"
   ]
  },
  {
   "cell_type": "code",
   "execution_count": null,
   "metadata": {},
   "outputs": [],
   "source": [
    "sns.barplot(x='gene_1', y='ct_C', data=filtered_df, hue='type', errwidth=0)\n",
    "plt.ylabel('Correlation at baseline'); plt.xlabel(None); plt.legend(frameon=False)\n",
    "plt.title('Top correlated TFs for shared ISGs')\n",
    "plt.ylim(0, 0.35)"
   ]
  },
  {
   "cell_type": "code",
   "execution_count": null,
   "metadata": {},
   "outputs": [],
   "source": [
    "tf_ctrl = adata[\n",
    "    (adata.obs.stim=='control') & adata.obs.ct.isin(['B', 'C', 'BC'])\n",
    "].copy().copy()\n",
    "tf_ctrl.obs['group'] = 1\n",
    "memento.create_groups(tf_ctrl, label_columns=['ct', 'donor'])\n",
    "memento.compute_1d_moments(tf_ctrl, min_perc_group=.3)\n",
    "available_tfs = list(set(tf_list) & set(tf_ctrl.var.index))\n",
    "available_targets = list(shared_de_genes & set(tf_ctrl.var.index))\n",
    "\n",
    "memento.compute_2d_moments(tf_ctrl, gene_pairs=list(itertools.product(available_tfs, available_targets)))\n"
   ]
  },
  {
   "cell_type": "code",
   "execution_count": null,
   "metadata": {},
   "outputs": [],
   "source": [
    "moment_df = memento.get_2d_moments(tf_ctrl, groupby='ct')\n",
    "moment_df['mag_ct_C'] = moment_df['ct_C'].abs()"
   ]
  },
  {
   "cell_type": "code",
   "execution_count": null,
   "metadata": {},
   "outputs": [],
   "source": [
    "top_tfs = moment_df.groupby('gene_1')['ct_C'].mean().sort_values(ascending=False).head(10).index.tolist()"
   ]
  },
  {
   "cell_type": "code",
   "execution_count": null,
   "metadata": {},
   "outputs": [],
   "source": [
    "top_tf_df = moment_df.query('gene_1 in @top_tfs').copy()\n",
    "top_tf_df['gene_1'] = pd.Categorical(top_tf_df['gene_1'].values, categories=top_tfs, ordered=True)"
   ]
  },
  {
   "cell_type": "code",
   "execution_count": null,
   "metadata": {},
   "outputs": [],
   "source": [
    "sns.barplot(x='gene_1', y='ct_C', data=top_tf_df)"
   ]
  },
  {
   "cell_type": "code",
   "execution_count": 371,
   "metadata": {},
   "outputs": [],
   "source": [
    "stims = ['alpha', 'beta', 'gamma', 'lambda']\n",
    "ct = 'ciliated'\n",
    "de_genes = {}\n",
    "for stim in stims:\n",
    "    de_genes[stim] = all_result[ct]['ht'][stim]['6'].query('de_fdr < 0.1 & de_coef > 0.5').gene.tolist()\n",
    "de_genes['alpha/beta'] = set(de_genes['alpha']) | set(de_genes['beta'])"
   ]
  },
  {
   "cell_type": "markdown",
   "metadata": {},
   "source": [
    "### STAT1 binding site enrichment"
   ]
  },
  {
   "cell_type": "code",
   "execution_count": 103,
   "metadata": {},
   "outputs": [],
   "source": [
    "enc = encode.Encode('/home/ssm-user/Github/misc-seq/miscseq/GRCh38Genes.bed')"
   ]
  },
  {
   "cell_type": "code",
   "execution_count": 104,
   "metadata": {},
   "outputs": [
    {
     "name": "stderr",
     "output_type": "stream",
     "text": [
      "/home/ssm-user/anaconda3/envs/single_cell/lib/python3.8/subprocess.py:853: RuntimeWarning: line buffering (buffering=1) isn't supported in binary mode, the default buffer size will be used\n",
      "  self.stderr = io.open(errread, 'rb', bufsize)\n",
      "/home/ssm-user/anaconda3/envs/single_cell/lib/python3.8/subprocess.py:853: RuntimeWarning: line buffering (buffering=1) isn't supported in binary mode, the default buffer size will be used\n",
      "  self.stderr = io.open(errread, 'rb', bufsize)\n",
      "/home/ssm-user/anaconda3/envs/single_cell/lib/python3.8/subprocess.py:853: RuntimeWarning: line buffering (buffering=1) isn't supported in binary mode, the default buffer size will be used\n",
      "  self.stderr = io.open(errread, 'rb', bufsize)\n",
      "/home/ssm-user/anaconda3/envs/single_cell/lib/python3.8/subprocess.py:853: RuntimeWarning: line buffering (buffering=1) isn't supported in binary mode, the default buffer size will be used\n",
      "  self.stderr = io.open(errread, 'rb', bufsize)\n",
      "/home/ssm-user/anaconda3/envs/single_cell/lib/python3.8/subprocess.py:853: RuntimeWarning: line buffering (buffering=1) isn't supported in binary mode, the default buffer size will be used\n",
      "  self.stderr = io.open(errread, 'rb', bufsize)\n",
      "/home/ssm-user/anaconda3/envs/single_cell/lib/python3.8/subprocess.py:853: RuntimeWarning: line buffering (buffering=1) isn't supported in binary mode, the default buffer size will be used\n",
      "  self.stderr = io.open(errread, 'rb', bufsize)\n"
     ]
    }
   ],
   "source": [
    "stat1_bed = enc.get_encode_peaks_union([\n",
    "    'https://www.encodeproject.org/files/ENCFF747ICD/@@download/ENCFF747ICD.bed.gz',\n",
    "    'https://www.encodeproject.org/files/ENCFF646MXG/@@download/ENCFF646MXG.bed.gz'\n",
    "])\n",
    "stat2_bed = enc.get_encode_peaks_union([\n",
    "    'https://www.encodeproject.org/files/ENCFF204VQS/@@download/ENCFF204VQS.bed.gz',\n",
    "    'https://www.encodeproject.org/files/ENCFF545JVD/@@download/ENCFF545JVD.bed.gz'\n",
    "])"
   ]
  },
  {
   "cell_type": "code",
   "execution_count": 119,
   "metadata": {},
   "outputs": [
    {
     "name": "stderr",
     "output_type": "stream",
     "text": [
      "/home/ssm-user/anaconda3/envs/single_cell/lib/python3.8/subprocess.py:853: RuntimeWarning: line buffering (buffering=1) isn't supported in binary mode, the default buffer size will be used\n",
      "  self.stderr = io.open(errread, 'rb', bufsize)\n",
      "/home/ssm-user/anaconda3/envs/single_cell/lib/python3.8/subprocess.py:853: RuntimeWarning: line buffering (buffering=1) isn't supported in binary mode, the default buffer size will be used\n",
      "  self.stderr = io.open(errread, 'rb', bufsize)\n"
     ]
    }
   ],
   "source": [
    "intersect_bed = stat1_bed.intersect(stat2_bed).sort()"
   ]
  },
  {
   "cell_type": "code",
   "execution_count": 120,
   "metadata": {},
   "outputs": [
    {
     "name": "stderr",
     "output_type": "stream",
     "text": [
      "/home/ssm-user/anaconda3/envs/single_cell/lib/python3.8/subprocess.py:853: RuntimeWarning: line buffering (buffering=1) isn't supported in binary mode, the default buffer size will be used\n",
      "  self.stderr = io.open(errread, 'rb', bufsize)\n",
      "/home/ssm-user/anaconda3/envs/single_cell/lib/python3.8/subprocess.py:853: RuntimeWarning: line buffering (buffering=1) isn't supported in binary mode, the default buffer size will be used\n",
      "  self.stderr = io.open(errread, 'rb', bufsize)\n",
      "/home/ssm-user/anaconda3/envs/single_cell/lib/python3.8/subprocess.py:853: RuntimeWarning: line buffering (buffering=1) isn't supported in binary mode, the default buffer size will be used\n",
      "  self.stderr = io.open(errread, 'rb', bufsize)\n",
      "/home/ssm-user/anaconda3/envs/single_cell/lib/python3.8/site-packages/pybedtools/bedtool.py:3678: UserWarning: Default names for filetype bed are:\n",
      "['chrom', 'start', 'end', 'name', 'score', 'strand', 'thickStart', 'thickEnd', 'itemRgb', 'blockCount', 'blockSizes', 'blockStarts']\n",
      "but file has 16 fields; you can supply custom names with the `names` kwarg\n",
      "  warn(\n"
     ]
    }
   ],
   "source": [
    "isgf3_genes = enc.get_peak_genes_bed(intersect_bed, 0).query('distance == 0 & ~gene.str.contains(\"MT\").values').gene.tolist()"
   ]
  },
  {
   "cell_type": "code",
   "execution_count": 121,
   "metadata": {},
   "outputs": [],
   "source": [
    "# Having a binding site makes you more variable at baseline\n",
    "v_df['tss_binding'] = v_df['gene'].isin(isgf3_genes)\n",
    "v_df['deg_type'] = v_df['class'].astype(str).apply(lambda x: {\n",
    "    'uniq_gamma':'uniq\\ntype II', 'uniq_alpha/beta':'uniq\\ntype I', 'uniq_lambda':'uniq\\ntype III', 'partially_shared':'partial', 'shared':'shared', 'none-DE':'non-DE'}[x])"
   ]
  },
  {
   "cell_type": "code",
   "execution_count": 122,
   "metadata": {},
   "outputs": [
    {
     "data": {
      "text/plain": [
       "Text(0, 0.5, 'Proportion with ISGF3 \\nbinding site in TSS')"
      ]
     },
     "execution_count": 122,
     "metadata": {},
     "output_type": "execute_result"
    },
    {
     "data": {
      "image/png": "[encoded data removed]",
      "text/plain": [
       "<Figure size 432x288 with 1 Axes>"
      ]
     },
     "metadata": {
      "needs_background": "light"
     },
     "output_type": "display_data"
    }
   ],
   "source": [
    "sns.barplot(x='deg_type', y='tss_binding', data=v_df[v_df['deg_type']!='partial'].sort_values('deg_type'), capsize=0.2, palette='Set2');\n",
    "plt.ylabel('Proportion with ISGF3 \\nbinding site in TSS')\n",
    "# plt.xticks([0, 1, 2, 3, 4], ['none\\nDE', 'shared','type III', 'type II', 'type I']);"
   ]
  },
  {
   "cell_type": "code",
   "execution_count": 123,
   "metadata": {},
   "outputs": [
    {
     "data": {
      "text/html": [
       "<div>\n",
       "<style scoped>\n",
       "    .dataframe tbody tr th:only-of-type {\n",
       "        vertical-align: middle;\n",
       "    }\n",
       "\n",
       "    .dataframe tbody tr th {\n",
       "        vertical-align: top;\n",
       "    }\n",
       "\n",
       "    .dataframe thead th {\n",
       "        text-align: right;\n",
       "    }\n",
       "</style>\n",
       "<table border=\"1\" class=\"dataframe\">\n",
       "  <thead>\n",
       "    <tr style=\"text-align: right;\">\n",
       "      <th></th>\n",
       "      <th>gene</th>\n",
       "      <th>ct_C</th>\n",
       "      <th>ct_BC</th>\n",
       "      <th>ct_B</th>\n",
       "      <th>de</th>\n",
       "      <th>class</th>\n",
       "      <th>tss_binding</th>\n",
       "      <th>deg_type</th>\n",
       "    </tr>\n",
       "  </thead>\n",
       "  <tbody>\n",
       "    <tr>\n",
       "      <th>0</th>\n",
       "      <td>LINC01409</td>\n",
       "      <td>0.096451</td>\n",
       "      <td>0.448388</td>\n",
       "      <td>0.107916</td>\n",
       "      <td>False</td>\n",
       "      <td>none-DE</td>\n",
       "      <td>False</td>\n",
       "      <td>non-DE</td>\n",
       "    </tr>\n",
       "    <tr>\n",
       "      <th>1</th>\n",
       "      <td>FAM41C</td>\n",
       "      <td>-0.157768</td>\n",
       "      <td>-0.038260</td>\n",
       "      <td>-0.144266</td>\n",
       "      <td>False</td>\n",
       "      <td>none-DE</td>\n",
       "      <td>False</td>\n",
       "      <td>non-DE</td>\n",
       "    </tr>\n",
       "  </tbody>\n",
       "</table>\n",
       "</div>"
      ],
      "text/plain": [
       "        gene      ct_C     ct_BC      ct_B     de    class  tss_binding  \\\n",
       "0  LINC01409  0.096451  0.448388  0.107916  False  none-DE        False   \n",
       "1     FAM41C -0.157768 -0.038260 -0.144266  False  none-DE        False   \n",
       "\n",
       "  deg_type  \n",
       "0   non-DE  \n",
       "1   non-DE  "
      ]
     },
     "execution_count": 123,
     "metadata": {},
     "output_type": "execute_result"
    }
   ],
   "source": [
    "v_df.head(2)"
   ]
  },
  {
   "cell_type": "code",
   "execution_count": 124,
   "metadata": {},
   "outputs": [
    {
     "data": {
      "text/plain": [
       "MannwhitneyuResult(statistic=1023299.0, pvalue=5.8263460482996915e-05)"
      ]
     },
     "execution_count": 124,
     "metadata": {},
     "output_type": "execute_result"
    }
   ],
   "source": [
    "stats.mannwhitneyu(v_df.query('tss_binding').ct_C, v_df.query('~tss_binding').ct_C)"
   ]
  },
  {
   "cell_type": "code",
   "execution_count": 125,
   "metadata": {},
   "outputs": [
    {
     "data": {
      "text/plain": [
       "(-2.0, 2.0)"
      ]
     },
     "execution_count": 125,
     "metadata": {},
     "output_type": "execute_result"
    },
    {
     "data": {
      "image/png": "[encoded data removed]",
      "text/plain": [
       "<Figure size 144x288 with 1 Axes>"
      ]
     },
     "metadata": {
      "needs_background": "light"
     },
     "output_type": "display_data"
    }
   ],
   "source": [
    "plt.figure(figsize=(2,4))\n",
    "sns.boxplot(x='tss_binding', y='ct_BC', data=v_df, fliersize=0.1); plt.ylabel('Variability of genes')\n",
    "plt.ylim(-2, 2)"
   ]
  },
  {
   "cell_type": "code",
   "execution_count": null,
   "metadata": {},
   "outputs": [],
   "source": []
  }
 ],
 "metadata": {
  "kernelspec": {
   "display_name": "Python 3",
   "language": "python",
   "name": "python3"
  },
  "language_info": {
   "codemirror_mode": {
    "name": "ipython",
    "version": 3
   },
   "file_extension": ".py",
   "mimetype": "text/x-python",
   "name": "python",
   "nbconvert_exporter": "python",
   "pygments_lexer": "ipython3",
   "version": "3.8.8"
  }
 },
 "nbformat": 4,
 "nbformat_minor": 4
}
