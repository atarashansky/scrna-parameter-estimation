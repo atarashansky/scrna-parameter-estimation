{
 "cells": [
  {
   "cell_type": "markdown",
   "metadata": {},
   "source": [
    "# 1D Variability hypothesis testing for HBEC IFN experiment"
   ]
  },
  {
   "cell_type": "code",
   "execution_count": 1,
   "metadata": {},
   "outputs": [],
   "source": [
    "import scanpy as sc\n",
    "import seaborn as sns\n",
    "import pandas as pd\n",
    "import matplotlib.pyplot as plt\n",
    "import numpy as np\n",
    "import scipy.stats as stats\n",
    "from pybedtools import BedTool\n",
    "import pickle as pkl\n",
    "%matplotlib inline"
   ]
  },
  {
   "cell_type": "code",
   "execution_count": 2,
   "metadata": {},
   "outputs": [],
   "source": [
    "import sys\n",
    "sys.path.append('/home/ssm-user/Github/scrna-parameter-estimation/dist/memento-0.0.6-py3.8.egg')\n",
    "sys.path.append('/home/ssm-user/Github/misc-seq/miscseq/')\n",
    "import encode\n",
    "import memento"
   ]
  },
  {
   "cell_type": "code",
   "execution_count": 3,
   "metadata": {},
   "outputs": [],
   "source": [
    "data_path = '/data_volume/memento/hbec/'"
   ]
  },
  {
   "cell_type": "markdown",
   "metadata": {},
   "source": [
    "### Read the processed RNA data\n",
    "\n",
    "Focus on the club and bc/club cells and type I interferons for now.\n",
    "\n",
    "Encode the timestamps to integers."
   ]
  },
  {
   "cell_type": "raw",
   "metadata": {},
   "source": [
    "adata_processed = sc.read(data_path + 'HBEC_type_I_processed.h5ad')"
   ]
  },
  {
   "cell_type": "code",
   "execution_count": 4,
   "metadata": {},
   "outputs": [],
   "source": [
    "adata = sc.read(data_path + 'HBEC_type_I_filtered_counts_deep.h5ad')"
   ]
  },
  {
   "cell_type": "raw",
   "metadata": {},
   "source": [
    "sc.pl.umap(adata_processed, color=['cell_type', 'time', 'stim'])"
   ]
  },
  {
   "cell_type": "code",
   "execution_count": 5,
   "metadata": {},
   "outputs": [],
   "source": [
    "converter = {'basal/club':'BC', 'basal':'B', 'ciliated':'C', 'goblet':'G', 'ionocyte/tuft':'IT', 'neuroendo':'N'}"
   ]
  },
  {
   "cell_type": "code",
   "execution_count": 6,
   "metadata": {},
   "outputs": [],
   "source": [
    "adata.obs['ct'] = adata.obs['cell_type'].apply(lambda x: converter[x])"
   ]
  },
  {
   "cell_type": "markdown",
   "metadata": {},
   "source": [
    "### Setup memento"
   ]
  },
  {
   "cell_type": "code",
   "execution_count": 7,
   "metadata": {},
   "outputs": [],
   "source": [
    "def assign_q(batch):\n",
    "    \n",
    "    if batch == 0:\n",
    "        return 0.387*0.25\n",
    "    elif batch == 1:\n",
    "        return 0.392*0.25\n",
    "    elif batch == 2:\n",
    "        return 0.436*0.25\n",
    "    else:\n",
    "        return 0.417*0.25"
   ]
  },
  {
   "cell_type": "code",
   "execution_count": 8,
   "metadata": {},
   "outputs": [],
   "source": [
    "adata.obs['q'] = adata.obs['batch'].apply(assign_q)"
   ]
  },
  {
   "cell_type": "code",
   "execution_count": 9,
   "metadata": {},
   "outputs": [
    {
     "name": "stdout",
     "output_type": "stream",
     "text": [
      "Version 0.0.6\n"
     ]
    }
   ],
   "source": [
    "memento.setup_memento(adata, q_column='q')"
   ]
  },
  {
   "cell_type": "markdown",
   "metadata": {},
   "source": [
    "### Run memento for each subset, comparing to control, separate cell types"
   ]
  },
  {
   "cell_type": "code",
   "execution_count": 16,
   "metadata": {},
   "outputs": [],
   "source": [
    "cts = ['C', 'B', 'BC']\n",
    "tps = ['3', '6', '9', '24', '48']\n",
    "\n",
    "stims = ['alpha', 'beta', 'gamma', 'lambda']"
   ]
  },
  {
   "cell_type": "code",
   "execution_count": 17,
   "metadata": {},
   "outputs": [],
   "source": [
    "import os\n",
    "done_files = os.listdir(data_path + 'binary_test_latest/')"
   ]
  },
  {
   "cell_type": "code",
   "execution_count": 18,
   "metadata": {},
   "outputs": [
    {
     "name": "stdout",
     "output_type": "stream",
     "text": [
      "starting C 3 alpha\n"
     ]
    },
    {
     "name": "stderr",
     "output_type": "stream",
     "text": [
      "/home/ssm-user/anaconda3/envs/single_cell/lib/python3.8/site-packages/pandas/core/arrays/categorical.py:2487: FutureWarning: The `inplace` parameter in pandas.Categorical.remove_unused_categories is deprecated and will be removed in a future version.\n",
      "  res = method(*args, **kwargs)\n",
      "[Parallel(n_jobs=93)]: Using backend LokyBackend with 93 concurrent workers.\n",
      "[Parallel(n_jobs=93)]: Done  14 tasks      | elapsed:    0.4s\n",
      "[Parallel(n_jobs=93)]: Done 264 tasks      | elapsed:    1.7s\n",
      "[Parallel(n_jobs=93)]: Done 614 tasks      | elapsed:    3.8s\n",
      "[Parallel(n_jobs=93)]: Done 1064 tasks      | elapsed:    6.5s\n",
      "[Parallel(n_jobs=93)]: Done 1614 tasks      | elapsed:    9.7s\n",
      "[Parallel(n_jobs=93)]: Done 2264 tasks      | elapsed:   13.5s\n",
      "[Parallel(n_jobs=93)]: Done 3014 tasks      | elapsed:   17.7s\n",
      "[Parallel(n_jobs=93)]: Done 3864 tasks      | elapsed:   22.8s\n",
      "[Parallel(n_jobs=93)]: Done 4814 tasks      | elapsed:   28.2s\n",
      "[Parallel(n_jobs=93)]: Done 5864 tasks      | elapsed:   34.3s\n",
      "[Parallel(n_jobs=93)]: Done 7014 tasks      | elapsed:   41.1s\n",
      "[Parallel(n_jobs=93)]: Done 8264 tasks      | elapsed:   48.2s\n",
      "[Parallel(n_jobs=93)]: Done 9516 out of 9516 | elapsed:   57.7s finished\n",
      "... storing 'memento_group' as categorical\n"
     ]
    },
    {
     "name": "stdout",
     "output_type": "stream",
     "text": [
      "starting C 3 beta\n"
     ]
    },
    {
     "name": "stderr",
     "output_type": "stream",
     "text": [
      "/home/ssm-user/anaconda3/envs/single_cell/lib/python3.8/site-packages/pandas/core/arrays/categorical.py:2487: FutureWarning: The `inplace` parameter in pandas.Categorical.remove_unused_categories is deprecated and will be removed in a future version.\n",
      "  res = method(*args, **kwargs)\n",
      "[Parallel(n_jobs=93)]: Using backend LokyBackend with 93 concurrent workers.\n",
      "[Parallel(n_jobs=93)]: Done  14 tasks      | elapsed:    0.3s\n",
      "[Parallel(n_jobs=93)]: Done 264 tasks      | elapsed:    1.6s\n",
      "[Parallel(n_jobs=93)]: Done 614 tasks      | elapsed:    3.7s\n",
      "[Parallel(n_jobs=93)]: Done 1064 tasks      | elapsed:    6.2s\n",
      "[Parallel(n_jobs=93)]: Done 1614 tasks      | elapsed:    9.1s\n",
      "[Parallel(n_jobs=93)]: Done 2264 tasks      | elapsed:   12.6s\n",
      "[Parallel(n_jobs=93)]: Done 3014 tasks      | elapsed:   16.8s\n",
      "[Parallel(n_jobs=93)]: Done 3864 tasks      | elapsed:   21.7s\n",
      "[Parallel(n_jobs=93)]: Done 4814 tasks      | elapsed:   26.8s\n",
      "[Parallel(n_jobs=93)]: Done 5864 tasks      | elapsed:   32.8s\n",
      "[Parallel(n_jobs=93)]: Done 7014 tasks      | elapsed:   39.3s\n",
      "[Parallel(n_jobs=93)]: Done 8264 tasks      | elapsed:   46.1s\n",
      "[Parallel(n_jobs=93)]: Done 9655 out of 9655 | elapsed:   55.8s finished\n",
      "... storing 'memento_group' as categorical\n"
     ]
    },
    {
     "name": "stdout",
     "output_type": "stream",
     "text": [
      "starting C 3 gamma\n"
     ]
    },
    {
     "name": "stderr",
     "output_type": "stream",
     "text": [
      "/home/ssm-user/anaconda3/envs/single_cell/lib/python3.8/site-packages/pandas/core/arrays/categorical.py:2487: FutureWarning: The `inplace` parameter in pandas.Categorical.remove_unused_categories is deprecated and will be removed in a future version.\n",
      "  res = method(*args, **kwargs)\n",
      "[Parallel(n_jobs=93)]: Using backend LokyBackend with 93 concurrent workers.\n",
      "[Parallel(n_jobs=93)]: Done  14 tasks      | elapsed:    0.4s\n",
      "[Parallel(n_jobs=93)]: Done 264 tasks      | elapsed:    1.8s\n",
      "[Parallel(n_jobs=93)]: Done 614 tasks      | elapsed:    4.0s\n",
      "[Parallel(n_jobs=93)]: Done 1064 tasks      | elapsed:    6.6s\n",
      "[Parallel(n_jobs=93)]: Done 1614 tasks      | elapsed:    9.8s\n",
      "[Parallel(n_jobs=93)]: Done 2264 tasks      | elapsed:   13.5s\n",
      "[Parallel(n_jobs=93)]: Done 3014 tasks      | elapsed:   17.8s\n",
      "[Parallel(n_jobs=93)]: Done 3864 tasks      | elapsed:   22.9s\n",
      "[Parallel(n_jobs=93)]: Done 4814 tasks      | elapsed:   28.4s\n",
      "[Parallel(n_jobs=93)]: Done 5864 tasks      | elapsed:   34.6s\n",
      "[Parallel(n_jobs=93)]: Done 7014 tasks      | elapsed:   41.4s\n",
      "[Parallel(n_jobs=93)]: Done 8264 tasks      | elapsed:   48.7s\n",
      "[Parallel(n_jobs=93)]: Done 9464 out of 9464 | elapsed:   57.3s finished\n",
      "... storing 'memento_group' as categorical\n"
     ]
    },
    {
     "name": "stdout",
     "output_type": "stream",
     "text": [
      "starting C 3 lambda\n"
     ]
    },
    {
     "name": "stderr",
     "output_type": "stream",
     "text": [
      "/home/ssm-user/anaconda3/envs/single_cell/lib/python3.8/site-packages/pandas/core/arrays/categorical.py:2487: FutureWarning: The `inplace` parameter in pandas.Categorical.remove_unused_categories is deprecated and will be removed in a future version.\n",
      "  res = method(*args, **kwargs)\n",
      "[Parallel(n_jobs=93)]: Using backend LokyBackend with 93 concurrent workers.\n",
      "[Parallel(n_jobs=93)]: Done  14 tasks      | elapsed:    0.3s\n",
      "[Parallel(n_jobs=93)]: Done 264 tasks      | elapsed:    1.7s\n",
      "[Parallel(n_jobs=93)]: Done 614 tasks      | elapsed:    3.8s\n",
      "[Parallel(n_jobs=93)]: Done 1064 tasks      | elapsed:    6.4s\n",
      "[Parallel(n_jobs=93)]: Done 1614 tasks      | elapsed:    9.7s\n",
      "[Parallel(n_jobs=93)]: Done 2264 tasks      | elapsed:   13.2s\n",
      "[Parallel(n_jobs=93)]: Done 3014 tasks      | elapsed:   17.3s\n",
      "[Parallel(n_jobs=93)]: Done 3864 tasks      | elapsed:   22.3s\n",
      "[Parallel(n_jobs=93)]: Done 4814 tasks      | elapsed:   27.7s\n",
      "[Parallel(n_jobs=93)]: Done 5864 tasks      | elapsed:   33.6s\n",
      "[Parallel(n_jobs=93)]: Done 7014 tasks      | elapsed:   40.5s\n",
      "[Parallel(n_jobs=93)]: Done 8264 tasks      | elapsed:   47.5s\n",
      "[Parallel(n_jobs=93)]: Done 9649 out of 9649 | elapsed:   58.0s finished\n",
      "... storing 'memento_group' as categorical\n"
     ]
    },
    {
     "name": "stdout",
     "output_type": "stream",
     "text": [
      "starting C 6 alpha\n"
     ]
    },
    {
     "name": "stderr",
     "output_type": "stream",
     "text": [
      "/home/ssm-user/anaconda3/envs/single_cell/lib/python3.8/site-packages/pandas/core/arrays/categorical.py:2487: FutureWarning: The `inplace` parameter in pandas.Categorical.remove_unused_categories is deprecated and will be removed in a future version.\n",
      "  res = method(*args, **kwargs)\n",
      "[Parallel(n_jobs=93)]: Using backend LokyBackend with 93 concurrent workers.\n",
      "[Parallel(n_jobs=93)]: Done  14 tasks      | elapsed:    0.3s\n",
      "[Parallel(n_jobs=93)]: Done 264 tasks      | elapsed:    1.5s\n",
      "[Parallel(n_jobs=93)]: Done 614 tasks      | elapsed:    3.6s\n",
      "[Parallel(n_jobs=93)]: Done 1064 tasks      | elapsed:    5.9s\n",
      "[Parallel(n_jobs=93)]: Done 1614 tasks      | elapsed:    8.8s\n",
      "[Parallel(n_jobs=93)]: Done 2264 tasks      | elapsed:   12.1s\n",
      "[Parallel(n_jobs=93)]: Done 3014 tasks      | elapsed:   16.1s\n",
      "[Parallel(n_jobs=93)]: Done 3864 tasks      | elapsed:   20.7s\n",
      "[Parallel(n_jobs=93)]: Done 4814 tasks      | elapsed:   25.6s\n",
      "[Parallel(n_jobs=93)]: Done 5864 tasks      | elapsed:   31.4s\n",
      "[Parallel(n_jobs=93)]: Done 7014 tasks      | elapsed:   37.5s\n",
      "[Parallel(n_jobs=93)]: Done 8264 tasks      | elapsed:   44.1s\n",
      "[Parallel(n_jobs=93)]: Done 9231 out of 9231 | elapsed:   51.3s finished\n",
      "... storing 'memento_group' as categorical\n"
     ]
    },
    {
     "name": "stdout",
     "output_type": "stream",
     "text": [
      "starting C 6 beta\n"
     ]
    },
    {
     "name": "stderr",
     "output_type": "stream",
     "text": [
      "/home/ssm-user/anaconda3/envs/single_cell/lib/python3.8/site-packages/pandas/core/arrays/categorical.py:2487: FutureWarning: The `inplace` parameter in pandas.Categorical.remove_unused_categories is deprecated and will be removed in a future version.\n",
      "  res = method(*args, **kwargs)\n",
      "[Parallel(n_jobs=93)]: Using backend LokyBackend with 93 concurrent workers.\n",
      "[Parallel(n_jobs=93)]: Done  14 tasks      | elapsed:    0.5s\n",
      "[Parallel(n_jobs=93)]: Done 264 tasks      | elapsed:    1.9s\n",
      "[Parallel(n_jobs=93)]: Done 614 tasks      | elapsed:    4.2s\n",
      "[Parallel(n_jobs=93)]: Done 1064 tasks      | elapsed:    7.0s\n",
      "[Parallel(n_jobs=93)]: Done 1614 tasks      | elapsed:   10.3s\n",
      "[Parallel(n_jobs=93)]: Done 2264 tasks      | elapsed:   14.3s\n",
      "[Parallel(n_jobs=93)]: Done 3014 tasks      | elapsed:   18.9s\n",
      "[Parallel(n_jobs=93)]: Done 3864 tasks      | elapsed:   24.3s\n",
      "[Parallel(n_jobs=93)]: Done 4814 tasks      | elapsed:   30.0s\n",
      "[Parallel(n_jobs=93)]: Done 5864 tasks      | elapsed:   36.6s\n",
      "[Parallel(n_jobs=93)]: Done 7014 tasks      | elapsed:   44.0s\n",
      "[Parallel(n_jobs=93)]: Done 8264 tasks      | elapsed:   51.7s\n",
      "[Parallel(n_jobs=93)]: Done 9673 out of 9673 | elapsed:  1.0min finished\n",
      "... storing 'memento_group' as categorical\n"
     ]
    },
    {
     "name": "stdout",
     "output_type": "stream",
     "text": [
      "starting C 6 gamma\n"
     ]
    },
    {
     "name": "stderr",
     "output_type": "stream",
     "text": [
      "/home/ssm-user/anaconda3/envs/single_cell/lib/python3.8/site-packages/pandas/core/arrays/categorical.py:2487: FutureWarning: The `inplace` parameter in pandas.Categorical.remove_unused_categories is deprecated and will be removed in a future version.\n",
      "  res = method(*args, **kwargs)\n",
      "[Parallel(n_jobs=93)]: Using backend LokyBackend with 93 concurrent workers.\n",
      "[Parallel(n_jobs=93)]: Done  14 tasks      | elapsed:    0.3s\n",
      "[Parallel(n_jobs=93)]: Done 264 tasks      | elapsed:    1.6s\n",
      "[Parallel(n_jobs=93)]: Done 614 tasks      | elapsed:    3.7s\n",
      "[Parallel(n_jobs=93)]: Done 1064 tasks      | elapsed:    6.2s\n",
      "[Parallel(n_jobs=93)]: Done 1614 tasks      | elapsed:    9.2s\n",
      "[Parallel(n_jobs=93)]: Done 2264 tasks      | elapsed:   12.8s\n",
      "[Parallel(n_jobs=93)]: Done 3014 tasks      | elapsed:   16.8s\n",
      "[Parallel(n_jobs=93)]: Done 3864 tasks      | elapsed:   21.6s\n",
      "[Parallel(n_jobs=93)]: Done 4814 tasks      | elapsed:   26.9s\n",
      "[Parallel(n_jobs=93)]: Done 5864 tasks      | elapsed:   32.8s\n",
      "[Parallel(n_jobs=93)]: Done 7014 tasks      | elapsed:   39.1s\n",
      "[Parallel(n_jobs=93)]: Done 8264 tasks      | elapsed:   46.1s\n",
      "[Parallel(n_jobs=93)]: Done 9388 out of 9388 | elapsed:   54.2s finished\n",
      "... storing 'memento_group' as categorical\n"
     ]
    },
    {
     "name": "stdout",
     "output_type": "stream",
     "text": [
      "starting C 6 lambda\n"
     ]
    },
    {
     "name": "stderr",
     "output_type": "stream",
     "text": [
      "/home/ssm-user/anaconda3/envs/single_cell/lib/python3.8/site-packages/pandas/core/arrays/categorical.py:2487: FutureWarning: The `inplace` parameter in pandas.Categorical.remove_unused_categories is deprecated and will be removed in a future version.\n",
      "  res = method(*args, **kwargs)\n",
      "[Parallel(n_jobs=93)]: Using backend LokyBackend with 93 concurrent workers.\n",
      "[Parallel(n_jobs=93)]: Done  14 tasks      | elapsed:    0.3s\n",
      "[Parallel(n_jobs=93)]: Done 264 tasks      | elapsed:    1.6s\n",
      "[Parallel(n_jobs=93)]: Done 614 tasks      | elapsed:    3.6s\n",
      "[Parallel(n_jobs=93)]: Done 1064 tasks      | elapsed:    6.1s\n",
      "[Parallel(n_jobs=93)]: Done 1614 tasks      | elapsed:    9.0s\n",
      "[Parallel(n_jobs=93)]: Done 2264 tasks      | elapsed:   12.5s\n",
      "[Parallel(n_jobs=93)]: Done 3014 tasks      | elapsed:   16.4s\n",
      "[Parallel(n_jobs=93)]: Done 3864 tasks      | elapsed:   21.1s\n",
      "[Parallel(n_jobs=93)]: Done 4814 tasks      | elapsed:   26.1s\n",
      "[Parallel(n_jobs=93)]: Done 5864 tasks      | elapsed:   31.8s\n",
      "[Parallel(n_jobs=93)]: Done 7014 tasks      | elapsed:   38.1s\n",
      "[Parallel(n_jobs=93)]: Done 8264 tasks      | elapsed:   44.8s\n",
      "[Parallel(n_jobs=93)]: Done 9492 out of 9492 | elapsed:   53.1s finished\n",
      "... storing 'memento_group' as categorical\n"
     ]
    },
    {
     "name": "stdout",
     "output_type": "stream",
     "text": [
      "starting C 9 alpha\n"
     ]
    },
    {
     "name": "stderr",
     "output_type": "stream",
     "text": [
      "/home/ssm-user/anaconda3/envs/single_cell/lib/python3.8/site-packages/pandas/core/arrays/categorical.py:2487: FutureWarning: The `inplace` parameter in pandas.Categorical.remove_unused_categories is deprecated and will be removed in a future version.\n",
      "  res = method(*args, **kwargs)\n",
      "[Parallel(n_jobs=93)]: Using backend LokyBackend with 93 concurrent workers.\n",
      "[Parallel(n_jobs=93)]: Done  14 tasks      | elapsed:    0.3s\n",
      "[Parallel(n_jobs=93)]: Done 264 tasks      | elapsed:    1.6s\n",
      "[Parallel(n_jobs=93)]: Done 614 tasks      | elapsed:    3.6s\n",
      "[Parallel(n_jobs=93)]: Done 1064 tasks      | elapsed:    6.0s\n",
      "[Parallel(n_jobs=93)]: Done 1614 tasks      | elapsed:    8.9s\n",
      "[Parallel(n_jobs=93)]: Done 2264 tasks      | elapsed:   12.4s\n",
      "[Parallel(n_jobs=93)]: Done 3014 tasks      | elapsed:   16.4s\n",
      "[Parallel(n_jobs=93)]: Done 3864 tasks      | elapsed:   21.2s\n",
      "[Parallel(n_jobs=93)]: Done 4814 tasks      | elapsed:   26.2s\n",
      "[Parallel(n_jobs=93)]: Done 5864 tasks      | elapsed:   32.0s\n",
      "[Parallel(n_jobs=93)]: Done 7014 tasks      | elapsed:   38.3s\n",
      "[Parallel(n_jobs=93)]: Done 8264 tasks      | elapsed:   44.9s\n",
      "[Parallel(n_jobs=93)]: Done 9050 out of 9050 | elapsed:   50.7s finished\n",
      "... storing 'memento_group' as categorical\n"
     ]
    },
    {
     "name": "stdout",
     "output_type": "stream",
     "text": [
      "starting C 9 beta\n"
     ]
    },
    {
     "name": "stderr",
     "output_type": "stream",
     "text": [
      "/home/ssm-user/anaconda3/envs/single_cell/lib/python3.8/site-packages/pandas/core/arrays/categorical.py:2487: FutureWarning: The `inplace` parameter in pandas.Categorical.remove_unused_categories is deprecated and will be removed in a future version.\n",
      "  res = method(*args, **kwargs)\n",
      "[Parallel(n_jobs=93)]: Using backend LokyBackend with 93 concurrent workers.\n",
      "[Parallel(n_jobs=93)]: Done  14 tasks      | elapsed:    0.3s\n",
      "[Parallel(n_jobs=93)]: Done 264 tasks      | elapsed:    1.5s\n",
      "[Parallel(n_jobs=93)]: Done 614 tasks      | elapsed:    3.4s\n",
      "[Parallel(n_jobs=93)]: Done 1064 tasks      | elapsed:    5.5s\n",
      "[Parallel(n_jobs=93)]: Done 1614 tasks      | elapsed:    8.3s\n",
      "[Parallel(n_jobs=93)]: Done 2264 tasks      | elapsed:   11.5s\n",
      "[Parallel(n_jobs=93)]: Done 3014 tasks      | elapsed:   15.2s\n",
      "[Parallel(n_jobs=93)]: Done 3864 tasks      | elapsed:   19.6s\n",
      "[Parallel(n_jobs=93)]: Done 4814 tasks      | elapsed:   24.3s\n",
      "[Parallel(n_jobs=93)]: Done 5864 tasks      | elapsed:   29.6s\n",
      "[Parallel(n_jobs=93)]: Done 7014 tasks      | elapsed:   35.5s\n",
      "[Parallel(n_jobs=93)]: Done 8264 tasks      | elapsed:   41.8s\n",
      "[Parallel(n_jobs=93)]: Done 9371 out of 9371 | elapsed:   49.3s finished\n",
      "... storing 'memento_group' as categorical\n"
     ]
    },
    {
     "name": "stdout",
     "output_type": "stream",
     "text": [
      "starting C 9 gamma\n"
     ]
    },
    {
     "name": "stderr",
     "output_type": "stream",
     "text": [
      "/home/ssm-user/anaconda3/envs/single_cell/lib/python3.8/site-packages/pandas/core/arrays/categorical.py:2487: FutureWarning: The `inplace` parameter in pandas.Categorical.remove_unused_categories is deprecated and will be removed in a future version.\n",
      "  res = method(*args, **kwargs)\n",
      "[Parallel(n_jobs=93)]: Using backend LokyBackend with 93 concurrent workers.\n",
      "[Parallel(n_jobs=93)]: Done  14 tasks      | elapsed:    0.3s\n",
      "[Parallel(n_jobs=93)]: Done 264 tasks      | elapsed:    1.7s\n",
      "[Parallel(n_jobs=93)]: Done 614 tasks      | elapsed:    3.9s\n",
      "[Parallel(n_jobs=93)]: Done 1064 tasks      | elapsed:    6.5s\n",
      "[Parallel(n_jobs=93)]: Done 1614 tasks      | elapsed:    9.7s\n",
      "[Parallel(n_jobs=93)]: Done 2264 tasks      | elapsed:   13.4s\n",
      "[Parallel(n_jobs=93)]: Done 3014 tasks      | elapsed:   17.7s\n",
      "[Parallel(n_jobs=93)]: Done 3864 tasks      | elapsed:   22.8s\n",
      "[Parallel(n_jobs=93)]: Done 4814 tasks      | elapsed:   28.2s\n",
      "[Parallel(n_jobs=93)]: Done 5864 tasks      | elapsed:   34.4s\n",
      "[Parallel(n_jobs=93)]: Done 7014 tasks      | elapsed:   41.3s\n",
      "[Parallel(n_jobs=93)]: Done 8264 tasks      | elapsed:   48.5s\n",
      "[Parallel(n_jobs=93)]: Done 9575 out of 9575 | elapsed:   57.9s finished\n",
      "... storing 'memento_group' as categorical\n"
     ]
    },
    {
     "name": "stdout",
     "output_type": "stream",
     "text": [
      "starting C 9 lambda\n"
     ]
    },
    {
     "name": "stderr",
     "output_type": "stream",
     "text": [
      "/home/ssm-user/anaconda3/envs/single_cell/lib/python3.8/site-packages/pandas/core/arrays/categorical.py:2487: FutureWarning: The `inplace` parameter in pandas.Categorical.remove_unused_categories is deprecated and will be removed in a future version.\n",
      "  res = method(*args, **kwargs)\n",
      "[Parallel(n_jobs=93)]: Using backend LokyBackend with 93 concurrent workers.\n",
      "[Parallel(n_jobs=93)]: Done  14 tasks      | elapsed:    0.4s\n",
      "[Parallel(n_jobs=93)]: Done 264 tasks      | elapsed:    1.7s\n",
      "[Parallel(n_jobs=93)]: Done 614 tasks      | elapsed:    3.8s\n",
      "[Parallel(n_jobs=93)]: Done 1064 tasks      | elapsed:    6.5s\n",
      "[Parallel(n_jobs=93)]: Done 1614 tasks      | elapsed:    9.7s\n",
      "[Parallel(n_jobs=93)]: Done 2264 tasks      | elapsed:   13.4s\n",
      "[Parallel(n_jobs=93)]: Done 3014 tasks      | elapsed:   17.7s\n",
      "[Parallel(n_jobs=93)]: Done 3864 tasks      | elapsed:   22.8s\n",
      "[Parallel(n_jobs=93)]: Done 4814 tasks      | elapsed:   28.1s\n",
      "[Parallel(n_jobs=93)]: Done 5864 tasks      | elapsed:   34.3s\n",
      "[Parallel(n_jobs=93)]: Done 7014 tasks      | elapsed:   41.3s\n",
      "[Parallel(n_jobs=93)]: Done 8264 tasks      | elapsed:   48.4s\n",
      "[Parallel(n_jobs=93)]: Done 9623 out of 9623 | elapsed:   58.5s finished\n",
      "... storing 'memento_group' as categorical\n"
     ]
    },
    {
     "name": "stdout",
     "output_type": "stream",
     "text": [
      "starting C 24 alpha\n"
     ]
    },
    {
     "name": "stderr",
     "output_type": "stream",
     "text": [
      "/home/ssm-user/anaconda3/envs/single_cell/lib/python3.8/site-packages/pandas/core/arrays/categorical.py:2487: FutureWarning: The `inplace` parameter in pandas.Categorical.remove_unused_categories is deprecated and will be removed in a future version.\n",
      "  res = method(*args, **kwargs)\n",
      "[Parallel(n_jobs=93)]: Using backend LokyBackend with 93 concurrent workers.\n",
      "[Parallel(n_jobs=93)]: Done  14 tasks      | elapsed:    0.3s\n",
      "[Parallel(n_jobs=93)]: Done 264 tasks      | elapsed:    1.7s\n",
      "[Parallel(n_jobs=93)]: Done 614 tasks      | elapsed:    3.5s\n",
      "[Parallel(n_jobs=93)]: Done 1064 tasks      | elapsed:    5.8s\n",
      "[Parallel(n_jobs=93)]: Done 1614 tasks      | elapsed:    8.6s\n",
      "[Parallel(n_jobs=93)]: Done 2264 tasks      | elapsed:   11.9s\n",
      "[Parallel(n_jobs=93)]: Done 3014 tasks      | elapsed:   15.8s\n",
      "[Parallel(n_jobs=93)]: Done 3864 tasks      | elapsed:   20.2s\n",
      "[Parallel(n_jobs=93)]: Done 4814 tasks      | elapsed:   25.0s\n",
      "[Parallel(n_jobs=93)]: Done 5864 tasks      | elapsed:   30.7s\n",
      "[Parallel(n_jobs=93)]: Done 7014 tasks      | elapsed:   36.7s\n",
      "[Parallel(n_jobs=93)]: Done 8264 tasks      | elapsed:   43.1s\n",
      "[Parallel(n_jobs=93)]: Done 9098 out of 9098 | elapsed:   49.1s finished\n",
      "... storing 'memento_group' as categorical\n"
     ]
    },
    {
     "name": "stdout",
     "output_type": "stream",
     "text": [
      "starting C 24 beta\n"
     ]
    },
    {
     "name": "stderr",
     "output_type": "stream",
     "text": [
      "/home/ssm-user/anaconda3/envs/single_cell/lib/python3.8/site-packages/pandas/core/arrays/categorical.py:2487: FutureWarning: The `inplace` parameter in pandas.Categorical.remove_unused_categories is deprecated and will be removed in a future version.\n",
      "  res = method(*args, **kwargs)\n",
      "[Parallel(n_jobs=93)]: Using backend LokyBackend with 93 concurrent workers.\n",
      "[Parallel(n_jobs=93)]: Done  14 tasks      | elapsed:    0.3s\n",
      "[Parallel(n_jobs=93)]: Done 264 tasks      | elapsed:    1.7s\n",
      "[Parallel(n_jobs=93)]: Done 614 tasks      | elapsed:    3.8s\n",
      "[Parallel(n_jobs=93)]: Done 1064 tasks      | elapsed:    6.3s\n",
      "[Parallel(n_jobs=93)]: Done 1614 tasks      | elapsed:    9.3s\n",
      "[Parallel(n_jobs=93)]: Done 2264 tasks      | elapsed:   12.8s\n",
      "[Parallel(n_jobs=93)]: Done 3014 tasks      | elapsed:   17.0s\n",
      "[Parallel(n_jobs=93)]: Done 3864 tasks      | elapsed:   21.8s\n",
      "[Parallel(n_jobs=93)]: Done 4814 tasks      | elapsed:   26.9s\n",
      "[Parallel(n_jobs=93)]: Done 5864 tasks      | elapsed:   32.9s\n",
      "[Parallel(n_jobs=93)]: Done 7014 tasks      | elapsed:   39.4s\n",
      "[Parallel(n_jobs=93)]: Done 8264 tasks      | elapsed:   46.3s\n",
      "[Parallel(n_jobs=93)]: Done 9600 out of 9600 | elapsed:   55.5s finished\n",
      "... storing 'memento_group' as categorical\n"
     ]
    },
    {
     "name": "stdout",
     "output_type": "stream",
     "text": [
      "starting C 24 gamma\n"
     ]
    },
    {
     "name": "stderr",
     "output_type": "stream",
     "text": [
      "/home/ssm-user/anaconda3/envs/single_cell/lib/python3.8/site-packages/pandas/core/arrays/categorical.py:2487: FutureWarning: The `inplace` parameter in pandas.Categorical.remove_unused_categories is deprecated and will be removed in a future version.\n",
      "  res = method(*args, **kwargs)\n",
      "[Parallel(n_jobs=93)]: Using backend LokyBackend with 93 concurrent workers.\n",
      "[Parallel(n_jobs=93)]: Done  14 tasks      | elapsed:    0.4s\n",
      "[Parallel(n_jobs=93)]: Done 264 tasks      | elapsed:    1.8s\n",
      "[Parallel(n_jobs=93)]: Done 614 tasks      | elapsed:    4.2s\n",
      "[Parallel(n_jobs=93)]: Done 1064 tasks      | elapsed:    7.0s\n",
      "[Parallel(n_jobs=93)]: Done 1614 tasks      | elapsed:   10.3s\n",
      "[Parallel(n_jobs=93)]: Done 2264 tasks      | elapsed:   14.4s\n",
      "[Parallel(n_jobs=93)]: Done 3014 tasks      | elapsed:   19.0s\n",
      "[Parallel(n_jobs=93)]: Done 3864 tasks      | elapsed:   24.4s\n",
      "[Parallel(n_jobs=93)]: Done 4814 tasks      | elapsed:   30.3s\n",
      "[Parallel(n_jobs=93)]: Done 5864 tasks      | elapsed:   37.0s\n",
      "[Parallel(n_jobs=93)]: Done 7014 tasks      | elapsed:   44.4s\n",
      "[Parallel(n_jobs=93)]: Done 8264 tasks      | elapsed:   52.3s\n",
      "[Parallel(n_jobs=93)]: Done 9600 out of 9600 | elapsed:  1.0min finished\n",
      "... storing 'memento_group' as categorical\n"
     ]
    },
    {
     "name": "stdout",
     "output_type": "stream",
     "text": [
      "starting C 24 lambda\n"
     ]
    },
    {
     "name": "stderr",
     "output_type": "stream",
     "text": [
      "/home/ssm-user/anaconda3/envs/single_cell/lib/python3.8/site-packages/pandas/core/arrays/categorical.py:2487: FutureWarning: The `inplace` parameter in pandas.Categorical.remove_unused_categories is deprecated and will be removed in a future version.\n",
      "  res = method(*args, **kwargs)\n",
      "[Parallel(n_jobs=93)]: Using backend LokyBackend with 93 concurrent workers.\n",
      "[Parallel(n_jobs=93)]: Done  14 tasks      | elapsed:    0.4s\n",
      "[Parallel(n_jobs=93)]: Done 264 tasks      | elapsed:    1.8s\n",
      "[Parallel(n_jobs=93)]: Done 614 tasks      | elapsed:    4.0s\n",
      "[Parallel(n_jobs=93)]: Done 1064 tasks      | elapsed:    6.7s\n",
      "[Parallel(n_jobs=93)]: Done 1614 tasks      | elapsed:   10.0s\n",
      "[Parallel(n_jobs=93)]: Done 2264 tasks      | elapsed:   13.8s\n",
      "[Parallel(n_jobs=93)]: Done 3014 tasks      | elapsed:   18.2s\n",
      "[Parallel(n_jobs=93)]: Done 3864 tasks      | elapsed:   23.4s\n",
      "[Parallel(n_jobs=93)]: Done 4814 tasks      | elapsed:   28.9s\n",
      "[Parallel(n_jobs=93)]: Done 5864 tasks      | elapsed:   35.1s\n",
      "[Parallel(n_jobs=93)]: Done 7014 tasks      | elapsed:   42.3s\n",
      "[Parallel(n_jobs=93)]: Done 8264 tasks      | elapsed:   49.6s\n",
      "[Parallel(n_jobs=93)]: Done 9697 out of 9697 | elapsed:   59.9s finished\n",
      "... storing 'memento_group' as categorical\n"
     ]
    },
    {
     "name": "stdout",
     "output_type": "stream",
     "text": [
      "starting C 48 alpha\n"
     ]
    },
    {
     "name": "stderr",
     "output_type": "stream",
     "text": [
      "/home/ssm-user/anaconda3/envs/single_cell/lib/python3.8/site-packages/pandas/core/arrays/categorical.py:2487: FutureWarning: The `inplace` parameter in pandas.Categorical.remove_unused_categories is deprecated and will be removed in a future version.\n",
      "  res = method(*args, **kwargs)\n",
      "[Parallel(n_jobs=93)]: Using backend LokyBackend with 93 concurrent workers.\n",
      "[Parallel(n_jobs=93)]: Done  14 tasks      | elapsed:    0.3s\n",
      "[Parallel(n_jobs=93)]: Done 264 tasks      | elapsed:    1.8s\n",
      "[Parallel(n_jobs=93)]: Done 614 tasks      | elapsed:    4.1s\n",
      "[Parallel(n_jobs=93)]: Done 1064 tasks      | elapsed:    7.0s\n",
      "[Parallel(n_jobs=93)]: Done 1614 tasks      | elapsed:   10.3s\n",
      "[Parallel(n_jobs=93)]: Done 2264 tasks      | elapsed:   14.3s\n",
      "[Parallel(n_jobs=93)]: Done 3014 tasks      | elapsed:   18.8s\n",
      "[Parallel(n_jobs=93)]: Done 3864 tasks      | elapsed:   24.2s\n",
      "[Parallel(n_jobs=93)]: Done 4814 tasks      | elapsed:   30.1s\n",
      "[Parallel(n_jobs=93)]: Done 5864 tasks      | elapsed:   36.8s\n",
      "[Parallel(n_jobs=93)]: Done 7014 tasks      | elapsed:   44.1s\n",
      "[Parallel(n_jobs=93)]: Done 8264 tasks      | elapsed:   51.7s\n",
      "[Parallel(n_jobs=93)]: Done 9106 out of 9106 | elapsed:   58.5s finished\n",
      "... storing 'memento_group' as categorical\n"
     ]
    },
    {
     "name": "stdout",
     "output_type": "stream",
     "text": [
      "starting C 48 beta\n"
     ]
    },
    {
     "name": "stderr",
     "output_type": "stream",
     "text": [
      "/home/ssm-user/anaconda3/envs/single_cell/lib/python3.8/site-packages/pandas/core/arrays/categorical.py:2487: FutureWarning: The `inplace` parameter in pandas.Categorical.remove_unused_categories is deprecated and will be removed in a future version.\n",
      "  res = method(*args, **kwargs)\n",
      "[Parallel(n_jobs=93)]: Using backend LokyBackend with 93 concurrent workers.\n",
      "[Parallel(n_jobs=93)]: Done  14 tasks      | elapsed:    0.3s\n",
      "[Parallel(n_jobs=93)]: Done 264 tasks      | elapsed:    1.5s\n",
      "[Parallel(n_jobs=93)]: Done 614 tasks      | elapsed:    3.5s\n",
      "[Parallel(n_jobs=93)]: Done 1064 tasks      | elapsed:    5.8s\n",
      "[Parallel(n_jobs=93)]: Done 1614 tasks      | elapsed:    8.5s\n",
      "[Parallel(n_jobs=93)]: Done 2264 tasks      | elapsed:   12.0s\n",
      "[Parallel(n_jobs=93)]: Done 3014 tasks      | elapsed:   15.9s\n",
      "[Parallel(n_jobs=93)]: Done 3864 tasks      | elapsed:   20.4s\n",
      "[Parallel(n_jobs=93)]: Done 4814 tasks      | elapsed:   25.1s\n",
      "[Parallel(n_jobs=93)]: Done 5864 tasks      | elapsed:   30.8s\n",
      "[Parallel(n_jobs=93)]: Done 7014 tasks      | elapsed:   36.7s\n",
      "[Parallel(n_jobs=93)]: Done 8264 tasks      | elapsed:   43.2s\n",
      "[Parallel(n_jobs=93)]: Done 9450 out of 9450 | elapsed:   51.0s finished\n",
      "... storing 'memento_group' as categorical\n"
     ]
    },
    {
     "name": "stdout",
     "output_type": "stream",
     "text": [
      "starting C 48 gamma\n"
     ]
    },
    {
     "name": "stderr",
     "output_type": "stream",
     "text": [
      "/home/ssm-user/anaconda3/envs/single_cell/lib/python3.8/site-packages/pandas/core/arrays/categorical.py:2487: FutureWarning: The `inplace` parameter in pandas.Categorical.remove_unused_categories is deprecated and will be removed in a future version.\n",
      "  res = method(*args, **kwargs)\n",
      "[Parallel(n_jobs=93)]: Using backend LokyBackend with 93 concurrent workers.\n",
      "[Parallel(n_jobs=93)]: Done  14 tasks      | elapsed:    0.4s\n",
      "[Parallel(n_jobs=93)]: Done 264 tasks      | elapsed:    1.7s\n",
      "[Parallel(n_jobs=93)]: Done 614 tasks      | elapsed:    3.8s\n",
      "[Parallel(n_jobs=93)]: Done 1064 tasks      | elapsed:    6.5s\n",
      "[Parallel(n_jobs=93)]: Done 1614 tasks      | elapsed:    9.6s\n",
      "[Parallel(n_jobs=93)]: Done 2264 tasks      | elapsed:   13.5s\n",
      "[Parallel(n_jobs=93)]: Done 3014 tasks      | elapsed:   17.8s\n",
      "[Parallel(n_jobs=93)]: Done 3864 tasks      | elapsed:   22.8s\n",
      "[Parallel(n_jobs=93)]: Done 4814 tasks      | elapsed:   28.3s\n",
      "[Parallel(n_jobs=93)]: Done 5864 tasks      | elapsed:   34.4s\n",
      "[Parallel(n_jobs=93)]: Done 7014 tasks      | elapsed:   41.1s\n",
      "[Parallel(n_jobs=93)]: Done 8264 tasks      | elapsed:   48.4s\n",
      "[Parallel(n_jobs=93)]: Done 9651 out of 9651 | elapsed:   58.0s finished\n",
      "... storing 'memento_group' as categorical\n"
     ]
    },
    {
     "name": "stdout",
     "output_type": "stream",
     "text": [
      "starting C 48 lambda\n"
     ]
    },
    {
     "name": "stderr",
     "output_type": "stream",
     "text": [
      "/home/ssm-user/anaconda3/envs/single_cell/lib/python3.8/site-packages/pandas/core/arrays/categorical.py:2487: FutureWarning: The `inplace` parameter in pandas.Categorical.remove_unused_categories is deprecated and will be removed in a future version.\n",
      "  res = method(*args, **kwargs)\n",
      "[Parallel(n_jobs=93)]: Using backend LokyBackend with 93 concurrent workers.\n",
      "[Parallel(n_jobs=93)]: Done  14 tasks      | elapsed:    0.3s\n",
      "[Parallel(n_jobs=93)]: Done 264 tasks      | elapsed:    1.7s\n",
      "[Parallel(n_jobs=93)]: Done 614 tasks      | elapsed:    3.8s\n",
      "[Parallel(n_jobs=93)]: Done 1064 tasks      | elapsed:    6.4s\n",
      "[Parallel(n_jobs=93)]: Done 1614 tasks      | elapsed:    9.5s\n",
      "[Parallel(n_jobs=93)]: Done 2264 tasks      | elapsed:   13.0s\n",
      "[Parallel(n_jobs=93)]: Done 3014 tasks      | elapsed:   17.2s\n",
      "[Parallel(n_jobs=93)]: Done 3864 tasks      | elapsed:   22.2s\n",
      "[Parallel(n_jobs=93)]: Done 4814 tasks      | elapsed:   27.4s\n",
      "[Parallel(n_jobs=93)]: Done 5864 tasks      | elapsed:   33.2s\n",
      "[Parallel(n_jobs=93)]: Done 7014 tasks      | elapsed:   39.9s\n",
      "[Parallel(n_jobs=93)]: Done 8264 tasks      | elapsed:   46.8s\n",
      "[Parallel(n_jobs=93)]: Done 9545 out of 9545 | elapsed:   56.1s finished\n",
      "... storing 'memento_group' as categorical\n"
     ]
    },
    {
     "name": "stdout",
     "output_type": "stream",
     "text": [
      "starting B 3 alpha\n"
     ]
    },
    {
     "name": "stderr",
     "output_type": "stream",
     "text": [
      "/home/ssm-user/anaconda3/envs/single_cell/lib/python3.8/site-packages/pandas/core/arrays/categorical.py:2487: FutureWarning: The `inplace` parameter in pandas.Categorical.remove_unused_categories is deprecated and will be removed in a future version.\n",
      "  res = method(*args, **kwargs)\n",
      "[Parallel(n_jobs=93)]: Using backend LokyBackend with 93 concurrent workers.\n",
      "[Parallel(n_jobs=93)]: Done  14 tasks      | elapsed:    0.2s\n",
      "[Parallel(n_jobs=93)]: Done 342 tasks      | elapsed:    1.4s\n",
      "[Parallel(n_jobs=93)]: Done 1042 tasks      | elapsed:    3.6s\n",
      "[Parallel(n_jobs=93)]: Done 1942 tasks      | elapsed:    6.4s\n",
      "[Parallel(n_jobs=93)]: Done 3042 tasks      | elapsed:    9.8s\n",
      "[Parallel(n_jobs=93)]: Done 4342 tasks      | elapsed:   14.0s\n",
      "[Parallel(n_jobs=93)]: Done 4567 out of 4752 | elapsed:   14.6s remaining:    0.6s\n",
      "[Parallel(n_jobs=93)]: Done 4752 out of 4752 | elapsed:   15.3s finished\n",
      "... storing 'memento_group' as categorical\n"
     ]
    },
    {
     "name": "stdout",
     "output_type": "stream",
     "text": [
      "starting B 3 beta\n"
     ]
    },
    {
     "name": "stderr",
     "output_type": "stream",
     "text": [
      "/home/ssm-user/anaconda3/envs/single_cell/lib/python3.8/site-packages/pandas/core/arrays/categorical.py:2487: FutureWarning: The `inplace` parameter in pandas.Categorical.remove_unused_categories is deprecated and will be removed in a future version.\n",
      "  res = method(*args, **kwargs)\n",
      "[Parallel(n_jobs=93)]: Using backend LokyBackend with 93 concurrent workers.\n",
      "[Parallel(n_jobs=93)]: Done  14 tasks      | elapsed:    0.2s\n",
      "[Parallel(n_jobs=93)]: Done 342 tasks      | elapsed:    1.2s\n",
      "[Parallel(n_jobs=93)]: Done 1042 tasks      | elapsed:    3.0s\n",
      "[Parallel(n_jobs=93)]: Done 1942 tasks      | elapsed:    5.3s\n",
      "[Parallel(n_jobs=93)]: Done 3042 tasks      | elapsed:    8.1s\n",
      "[Parallel(n_jobs=93)]: Done 3412 out of 3412 | elapsed:    9.1s finished\n",
      "... storing 'memento_group' as categorical\n"
     ]
    },
    {
     "name": "stdout",
     "output_type": "stream",
     "text": [
      "starting B 3 gamma\n"
     ]
    },
    {
     "name": "stderr",
     "output_type": "stream",
     "text": [
      "/home/ssm-user/anaconda3/envs/single_cell/lib/python3.8/site-packages/pandas/core/arrays/categorical.py:2487: FutureWarning: The `inplace` parameter in pandas.Categorical.remove_unused_categories is deprecated and will be removed in a future version.\n",
      "  res = method(*args, **kwargs)\n",
      "[Parallel(n_jobs=93)]: Using backend LokyBackend with 93 concurrent workers.\n",
      "[Parallel(n_jobs=93)]: Done  14 tasks      | elapsed:    0.2s\n",
      "[Parallel(n_jobs=93)]: Done 342 tasks      | elapsed:    1.6s\n",
      "[Parallel(n_jobs=93)]: Done 1042 tasks      | elapsed:    4.1s\n",
      "[Parallel(n_jobs=93)]: Done 1942 tasks      | elapsed:    7.2s\n",
      "[Parallel(n_jobs=93)]: Done 3042 tasks      | elapsed:   11.0s\n",
      "[Parallel(n_jobs=93)]: Done 4342 tasks      | elapsed:   15.7s\n",
      "[Parallel(n_jobs=93)]: Done 4888 out of 4888 | elapsed:   17.9s finished\n",
      "... storing 'memento_group' as categorical\n"
     ]
    },
    {
     "name": "stdout",
     "output_type": "stream",
     "text": [
      "starting B 3 lambda\n"
     ]
    },
    {
     "name": "stderr",
     "output_type": "stream",
     "text": [
      "/home/ssm-user/anaconda3/envs/single_cell/lib/python3.8/site-packages/pandas/core/arrays/categorical.py:2487: FutureWarning: The `inplace` parameter in pandas.Categorical.remove_unused_categories is deprecated and will be removed in a future version.\n",
      "  res = method(*args, **kwargs)\n",
      "[Parallel(n_jobs=93)]: Using backend LokyBackend with 93 concurrent workers.\n",
      "[Parallel(n_jobs=93)]: Done  14 tasks      | elapsed:    0.2s\n",
      "[Parallel(n_jobs=93)]: Done 342 tasks      | elapsed:    1.4s\n",
      "[Parallel(n_jobs=93)]: Done 1042 tasks      | elapsed:    3.4s\n",
      "[Parallel(n_jobs=93)]: Done 1942 tasks      | elapsed:    6.0s\n",
      "[Parallel(n_jobs=93)]: Done 3042 tasks      | elapsed:    9.4s\n",
      "[Parallel(n_jobs=93)]: Done 4342 tasks      | elapsed:   13.3s\n",
      "[Parallel(n_jobs=93)]: Done 4866 out of 4866 | elapsed:   15.1s finished\n",
      "... storing 'memento_group' as categorical\n"
     ]
    },
    {
     "name": "stdout",
     "output_type": "stream",
     "text": [
      "starting B 6 alpha\n"
     ]
    },
    {
     "name": "stderr",
     "output_type": "stream",
     "text": [
      "/home/ssm-user/anaconda3/envs/single_cell/lib/python3.8/site-packages/pandas/core/arrays/categorical.py:2487: FutureWarning: The `inplace` parameter in pandas.Categorical.remove_unused_categories is deprecated and will be removed in a future version.\n",
      "  res = method(*args, **kwargs)\n",
      "[Parallel(n_jobs=93)]: Using backend LokyBackend with 93 concurrent workers.\n",
      "[Parallel(n_jobs=93)]: Done  14 tasks      | elapsed:    0.3s\n",
      "[Parallel(n_jobs=93)]: Done 342 tasks      | elapsed:    1.7s\n",
      "[Parallel(n_jobs=93)]: Done 1042 tasks      | elapsed:    4.3s\n",
      "[Parallel(n_jobs=93)]: Done 1942 tasks      | elapsed:    7.6s\n",
      "[Parallel(n_jobs=93)]: Done 3042 tasks      | elapsed:   11.8s\n",
      "[Parallel(n_jobs=93)]: Done 4342 tasks      | elapsed:   17.1s\n",
      "[Parallel(n_jobs=93)]: Done 5158 out of 5343 | elapsed:   20.2s remaining:    0.7s\n",
      "[Parallel(n_jobs=93)]: Done 5343 out of 5343 | elapsed:   21.6s finished\n",
      "... storing 'memento_group' as categorical\n"
     ]
    },
    {
     "name": "stdout",
     "output_type": "stream",
     "text": [
      "starting B 6 beta\n"
     ]
    },
    {
     "name": "stderr",
     "output_type": "stream",
     "text": [
      "/home/ssm-user/anaconda3/envs/single_cell/lib/python3.8/site-packages/pandas/core/arrays/categorical.py:2487: FutureWarning: The `inplace` parameter in pandas.Categorical.remove_unused_categories is deprecated and will be removed in a future version.\n",
      "  res = method(*args, **kwargs)\n",
      "[Parallel(n_jobs=93)]: Using backend LokyBackend with 93 concurrent workers.\n",
      "[Parallel(n_jobs=93)]: Done  14 tasks      | elapsed:    0.3s\n",
      "[Parallel(n_jobs=93)]: Done 342 tasks      | elapsed:    1.8s\n",
      "[Parallel(n_jobs=93)]: Done 1042 tasks      | elapsed:    4.5s\n",
      "[Parallel(n_jobs=93)]: Done 1942 tasks      | elapsed:    8.0s\n",
      "[Parallel(n_jobs=93)]: Done 3042 tasks      | elapsed:   12.4s\n",
      "[Parallel(n_jobs=93)]: Done 4342 tasks      | elapsed:   17.7s\n",
      "[Parallel(n_jobs=93)]: Done 5258 out of 5258 | elapsed:   21.8s finished\n",
      "... storing 'memento_group' as categorical\n"
     ]
    },
    {
     "name": "stdout",
     "output_type": "stream",
     "text": [
      "starting B 6 gamma\n"
     ]
    },
    {
     "name": "stderr",
     "output_type": "stream",
     "text": [
      "/home/ssm-user/anaconda3/envs/single_cell/lib/python3.8/site-packages/pandas/core/arrays/categorical.py:2487: FutureWarning: The `inplace` parameter in pandas.Categorical.remove_unused_categories is deprecated and will be removed in a future version.\n",
      "  res = method(*args, **kwargs)\n",
      "[Parallel(n_jobs=93)]: Using backend LokyBackend with 93 concurrent workers.\n",
      "[Parallel(n_jobs=93)]: Done  14 tasks      | elapsed:    0.2s\n",
      "[Parallel(n_jobs=93)]: Done 343 tasks      | elapsed:    1.9s\n",
      "[Parallel(n_jobs=93)]: Done 1042 tasks      | elapsed:    4.7s\n",
      "[Parallel(n_jobs=93)]: Done 1942 tasks      | elapsed:    8.3s\n",
      "[Parallel(n_jobs=93)]: Done 2823 tasks      | elapsed:   11.7s\n",
      "[Parallel(n_jobs=93)]: Done 3473 tasks      | elapsed:   14.7s\n",
      "[Parallel(n_jobs=93)]: Done 4223 tasks      | elapsed:   17.8s\n",
      "[Parallel(n_jobs=93)]: Done 5172 out of 5172 | elapsed:   23.2s finished\n",
      "... storing 'memento_group' as categorical\n"
     ]
    },
    {
     "name": "stdout",
     "output_type": "stream",
     "text": [
      "starting B 6 lambda\n"
     ]
    },
    {
     "name": "stderr",
     "output_type": "stream",
     "text": [
      "/home/ssm-user/anaconda3/envs/single_cell/lib/python3.8/site-packages/pandas/core/arrays/categorical.py:2487: FutureWarning: The `inplace` parameter in pandas.Categorical.remove_unused_categories is deprecated and will be removed in a future version.\n",
      "  res = method(*args, **kwargs)\n",
      "[Parallel(n_jobs=93)]: Using backend LokyBackend with 93 concurrent workers.\n",
      "[Parallel(n_jobs=93)]: Done  14 tasks      | elapsed:    0.3s\n",
      "[Parallel(n_jobs=93)]: Done 264 tasks      | elapsed:    1.3s\n",
      "[Parallel(n_jobs=93)]: Done 614 tasks      | elapsed:    2.9s\n",
      "[Parallel(n_jobs=93)]: Done 1064 tasks      | elapsed:    4.7s\n",
      "[Parallel(n_jobs=93)]: Done 1614 tasks      | elapsed:    6.9s\n",
      "[Parallel(n_jobs=93)]: Done 2264 tasks      | elapsed:    9.7s\n",
      "[Parallel(n_jobs=93)]: Done 3014 tasks      | elapsed:   12.8s\n",
      "[Parallel(n_jobs=93)]: Done 3864 tasks      | elapsed:   16.6s\n",
      "[Parallel(n_jobs=93)]: Done 4814 tasks      | elapsed:   20.7s\n",
      "[Parallel(n_jobs=93)]: Done 5440 out of 5440 | elapsed:   24.3s finished\n",
      "... storing 'memento_group' as categorical\n"
     ]
    },
    {
     "name": "stdout",
     "output_type": "stream",
     "text": [
      "starting B 9 alpha\n"
     ]
    },
    {
     "name": "stderr",
     "output_type": "stream",
     "text": [
      "/home/ssm-user/anaconda3/envs/single_cell/lib/python3.8/site-packages/pandas/core/arrays/categorical.py:2487: FutureWarning: The `inplace` parameter in pandas.Categorical.remove_unused_categories is deprecated and will be removed in a future version.\n",
      "  res = method(*args, **kwargs)\n",
      "[Parallel(n_jobs=93)]: Using backend LokyBackend with 93 concurrent workers.\n",
      "[Parallel(n_jobs=93)]: Done  14 tasks      | elapsed:    0.3s\n",
      "[Parallel(n_jobs=93)]: Done 264 tasks      | elapsed:    1.4s\n",
      "[Parallel(n_jobs=93)]: Done 614 tasks      | elapsed:    3.0s\n",
      "[Parallel(n_jobs=93)]: Done 1064 tasks      | elapsed:    5.1s\n",
      "[Parallel(n_jobs=93)]: Done 1614 tasks      | elapsed:    7.6s\n",
      "[Parallel(n_jobs=93)]: Done 2264 tasks      | elapsed:   10.6s\n",
      "[Parallel(n_jobs=93)]: Done 3014 tasks      | elapsed:   14.2s\n",
      "[Parallel(n_jobs=93)]: Done 3864 tasks      | elapsed:   18.3s\n",
      "[Parallel(n_jobs=93)]: Done 4814 tasks      | elapsed:   22.7s\n",
      "[Parallel(n_jobs=93)]: Done 5350 out of 5350 | elapsed:   26.0s finished\n",
      "... storing 'memento_group' as categorical\n"
     ]
    },
    {
     "name": "stdout",
     "output_type": "stream",
     "text": [
      "starting B 9 beta\n"
     ]
    },
    {
     "name": "stderr",
     "output_type": "stream",
     "text": [
      "/home/ssm-user/anaconda3/envs/single_cell/lib/python3.8/site-packages/pandas/core/arrays/categorical.py:2487: FutureWarning: The `inplace` parameter in pandas.Categorical.remove_unused_categories is deprecated and will be removed in a future version.\n",
      "  res = method(*args, **kwargs)\n",
      "[Parallel(n_jobs=93)]: Using backend LokyBackend with 93 concurrent workers.\n",
      "[Parallel(n_jobs=93)]: Done  14 tasks      | elapsed:    0.2s\n",
      "[Parallel(n_jobs=93)]: Done 264 tasks      | elapsed:    1.4s\n",
      "[Parallel(n_jobs=93)]: Done 614 tasks      | elapsed:    2.8s\n",
      "[Parallel(n_jobs=93)]: Done 1064 tasks      | elapsed:    4.7s\n",
      "[Parallel(n_jobs=93)]: Done 1614 tasks      | elapsed:    7.0s\n",
      "[Parallel(n_jobs=93)]: Done 2264 tasks      | elapsed:    9.6s\n",
      "[Parallel(n_jobs=93)]: Done 3014 tasks      | elapsed:   12.9s\n",
      "[Parallel(n_jobs=93)]: Done 3864 tasks      | elapsed:   16.6s\n",
      "[Parallel(n_jobs=93)]: Done 4814 tasks      | elapsed:   20.7s\n",
      "[Parallel(n_jobs=93)]: Done 5194 out of 5194 | elapsed:   23.6s finished\n",
      "... storing 'memento_group' as categorical\n"
     ]
    },
    {
     "name": "stdout",
     "output_type": "stream",
     "text": [
      "starting B 9 gamma\n"
     ]
    },
    {
     "name": "stderr",
     "output_type": "stream",
     "text": [
      "/home/ssm-user/anaconda3/envs/single_cell/lib/python3.8/site-packages/pandas/core/arrays/categorical.py:2487: FutureWarning: The `inplace` parameter in pandas.Categorical.remove_unused_categories is deprecated and will be removed in a future version.\n",
      "  res = method(*args, **kwargs)\n",
      "[Parallel(n_jobs=93)]: Using backend LokyBackend with 93 concurrent workers.\n",
      "[Parallel(n_jobs=93)]: Done  14 tasks      | elapsed:    0.3s\n",
      "[Parallel(n_jobs=93)]: Done 264 tasks      | elapsed:    1.6s\n",
      "[Parallel(n_jobs=93)]: Done 614 tasks      | elapsed:    3.7s\n",
      "[Parallel(n_jobs=93)]: Done 1064 tasks      | elapsed:    6.1s\n",
      "[Parallel(n_jobs=93)]: Done 1614 tasks      | elapsed:    9.0s\n",
      "[Parallel(n_jobs=93)]: Done 2264 tasks      | elapsed:   12.7s\n",
      "[Parallel(n_jobs=93)]: Done 3014 tasks      | elapsed:   16.8s\n",
      "[Parallel(n_jobs=93)]: Done 3864 tasks      | elapsed:   21.7s\n",
      "[Parallel(n_jobs=93)]: Done 4814 tasks      | elapsed:   27.2s\n",
      "[Parallel(n_jobs=93)]: Done 5342 out of 5342 | elapsed:   31.8s finished\n",
      "... storing 'memento_group' as categorical\n"
     ]
    },
    {
     "name": "stdout",
     "output_type": "stream",
     "text": [
      "starting B 9 lambda\n"
     ]
    },
    {
     "name": "stderr",
     "output_type": "stream",
     "text": [
      "/home/ssm-user/anaconda3/envs/single_cell/lib/python3.8/site-packages/pandas/core/arrays/categorical.py:2487: FutureWarning: The `inplace` parameter in pandas.Categorical.remove_unused_categories is deprecated and will be removed in a future version.\n",
      "  res = method(*args, **kwargs)\n",
      "[Parallel(n_jobs=93)]: Using backend LokyBackend with 93 concurrent workers.\n",
      "[Parallel(n_jobs=93)]: Done  14 tasks      | elapsed:    0.2s\n",
      "[Parallel(n_jobs=93)]: Done 343 tasks      | elapsed:    1.6s\n",
      "[Parallel(n_jobs=93)]: Done 1042 tasks      | elapsed:    4.1s\n",
      "[Parallel(n_jobs=93)]: Done 1942 tasks      | elapsed:    7.3s\n",
      "[Parallel(n_jobs=93)]: Done 3042 tasks      | elapsed:   11.2s\n",
      "[Parallel(n_jobs=93)]: Done 4342 tasks      | elapsed:   16.0s\n",
      "[Parallel(n_jobs=93)]: Done 5026 out of 5211 | elapsed:   18.6s remaining:    0.7s\n",
      "[Parallel(n_jobs=93)]: Done 5211 out of 5211 | elapsed:   20.3s finished\n",
      "... storing 'memento_group' as categorical\n"
     ]
    },
    {
     "name": "stdout",
     "output_type": "stream",
     "text": [
      "starting B 24 alpha\n"
     ]
    },
    {
     "name": "stderr",
     "output_type": "stream",
     "text": [
      "/home/ssm-user/anaconda3/envs/single_cell/lib/python3.8/site-packages/pandas/core/arrays/categorical.py:2487: FutureWarning: The `inplace` parameter in pandas.Categorical.remove_unused_categories is deprecated and will be removed in a future version.\n",
      "  res = method(*args, **kwargs)\n",
      "[Parallel(n_jobs=93)]: Using backend LokyBackend with 93 concurrent workers.\n",
      "[Parallel(n_jobs=93)]: Done  14 tasks      | elapsed:    0.2s\n",
      "[Parallel(n_jobs=93)]: Done 343 tasks      | elapsed:    1.7s\n",
      "[Parallel(n_jobs=93)]: Done 1042 tasks      | elapsed:    4.3s\n",
      "[Parallel(n_jobs=93)]: Done 1942 tasks      | elapsed:    7.8s\n",
      "[Parallel(n_jobs=93)]: Done 3042 tasks      | elapsed:   12.1s\n",
      "[Parallel(n_jobs=93)]: Done 4291 tasks      | elapsed:   16.9s\n",
      "[Parallel(n_jobs=93)]: Done 5060 tasks      | elapsed:   20.2s\n",
      "[Parallel(n_jobs=93)]: Done 5288 out of 5288 | elapsed:   22.2s finished\n",
      "... storing 'memento_group' as categorical\n"
     ]
    },
    {
     "name": "stdout",
     "output_type": "stream",
     "text": [
      "starting B 24 beta\n"
     ]
    },
    {
     "name": "stderr",
     "output_type": "stream",
     "text": [
      "/home/ssm-user/anaconda3/envs/single_cell/lib/python3.8/site-packages/pandas/core/arrays/categorical.py:2487: FutureWarning: The `inplace` parameter in pandas.Categorical.remove_unused_categories is deprecated and will be removed in a future version.\n",
      "  res = method(*args, **kwargs)\n",
      "[Parallel(n_jobs=93)]: Using backend LokyBackend with 93 concurrent workers.\n",
      "[Parallel(n_jobs=93)]: Done  14 tasks      | elapsed:    0.3s\n",
      "[Parallel(n_jobs=93)]: Done 264 tasks      | elapsed:    1.5s\n",
      "[Parallel(n_jobs=93)]: Done 614 tasks      | elapsed:    3.1s\n",
      "[Parallel(n_jobs=93)]: Done 1064 tasks      | elapsed:    5.2s\n",
      "[Parallel(n_jobs=93)]: Done 1614 tasks      | elapsed:    7.7s\n",
      "[Parallel(n_jobs=93)]: Done 2264 tasks      | elapsed:   10.9s\n",
      "[Parallel(n_jobs=93)]: Done 3014 tasks      | elapsed:   14.5s\n",
      "[Parallel(n_jobs=93)]: Done 3864 tasks      | elapsed:   18.6s\n",
      "[Parallel(n_jobs=93)]: Done 4814 tasks      | elapsed:   23.3s\n",
      "[Parallel(n_jobs=93)]: Done 5253 out of 5253 | elapsed:   26.4s finished\n",
      "... storing 'memento_group' as categorical\n"
     ]
    },
    {
     "name": "stdout",
     "output_type": "stream",
     "text": [
      "starting B 24 gamma\n"
     ]
    },
    {
     "name": "stderr",
     "output_type": "stream",
     "text": [
      "/home/ssm-user/anaconda3/envs/single_cell/lib/python3.8/site-packages/pandas/core/arrays/categorical.py:2487: FutureWarning: The `inplace` parameter in pandas.Categorical.remove_unused_categories is deprecated and will be removed in a future version.\n",
      "  res = method(*args, **kwargs)\n",
      "[Parallel(n_jobs=93)]: Using backend LokyBackend with 93 concurrent workers.\n",
      "[Parallel(n_jobs=93)]: Done  14 tasks      | elapsed:    0.2s\n",
      "[Parallel(n_jobs=93)]: Done 343 tasks      | elapsed:    1.8s\n",
      "[Parallel(n_jobs=93)]: Done 1042 tasks      | elapsed:    4.6s\n",
      "[Parallel(n_jobs=93)]: Done 1942 tasks      | elapsed:    8.4s\n",
      "[Parallel(n_jobs=93)]: Done 3042 tasks      | elapsed:   12.9s\n",
      "[Parallel(n_jobs=93)]: Done 4342 tasks      | elapsed:   18.4s\n",
      "[Parallel(n_jobs=93)]: Done 5230 out of 5230 | elapsed:   23.5s finished\n",
      "... storing 'memento_group' as categorical\n"
     ]
    },
    {
     "name": "stdout",
     "output_type": "stream",
     "text": [
      "starting B 24 lambda\n"
     ]
    },
    {
     "name": "stderr",
     "output_type": "stream",
     "text": [
      "/home/ssm-user/anaconda3/envs/single_cell/lib/python3.8/site-packages/pandas/core/arrays/categorical.py:2487: FutureWarning: The `inplace` parameter in pandas.Categorical.remove_unused_categories is deprecated and will be removed in a future version.\n",
      "  res = method(*args, **kwargs)\n",
      "[Parallel(n_jobs=93)]: Using backend LokyBackend with 93 concurrent workers.\n",
      "[Parallel(n_jobs=93)]: Done  14 tasks      | elapsed:    0.4s\n",
      "[Parallel(n_jobs=93)]: Done 343 tasks      | elapsed:    2.0s\n",
      "[Parallel(n_jobs=93)]: Done 1042 tasks      | elapsed:    4.7s\n",
      "[Parallel(n_jobs=93)]: Done 1942 tasks      | elapsed:    8.2s\n",
      "[Parallel(n_jobs=93)]: Done 3042 tasks      | elapsed:   12.5s\n",
      "[Parallel(n_jobs=93)]: Done 4342 tasks      | elapsed:   17.7s\n",
      "[Parallel(n_jobs=93)]: Done 5072 out of 5257 | elapsed:   20.6s remaining:    0.8s\n",
      "[Parallel(n_jobs=93)]: Done 5257 out of 5257 | elapsed:   21.8s finished\n",
      "... storing 'memento_group' as categorical\n"
     ]
    },
    {
     "name": "stdout",
     "output_type": "stream",
     "text": [
      "starting B 48 alpha\n"
     ]
    },
    {
     "name": "stderr",
     "output_type": "stream",
     "text": [
      "/home/ssm-user/anaconda3/envs/single_cell/lib/python3.8/site-packages/pandas/core/arrays/categorical.py:2487: FutureWarning: The `inplace` parameter in pandas.Categorical.remove_unused_categories is deprecated and will be removed in a future version.\n",
      "  res = method(*args, **kwargs)\n",
      "[Parallel(n_jobs=93)]: Using backend LokyBackend with 93 concurrent workers.\n",
      "[Parallel(n_jobs=93)]: Done  14 tasks      | elapsed:    0.2s\n",
      "[Parallel(n_jobs=93)]: Done 342 tasks      | elapsed:    1.7s\n",
      "[Parallel(n_jobs=93)]: Done 1042 tasks      | elapsed:    4.2s\n",
      "[Parallel(n_jobs=93)]: Done 1942 tasks      | elapsed:    7.5s\n",
      "[Parallel(n_jobs=93)]: Done 3042 tasks      | elapsed:   11.5s\n",
      "[Parallel(n_jobs=93)]: Done 4342 tasks      | elapsed:   16.4s\n",
      "[Parallel(n_jobs=93)]: Done 5176 out of 5176 | elapsed:   20.0s finished\n",
      "... storing 'memento_group' as categorical\n"
     ]
    },
    {
     "name": "stdout",
     "output_type": "stream",
     "text": [
      "starting B 48 beta\n"
     ]
    },
    {
     "name": "stderr",
     "output_type": "stream",
     "text": [
      "/home/ssm-user/anaconda3/envs/single_cell/lib/python3.8/site-packages/pandas/core/arrays/categorical.py:2487: FutureWarning: The `inplace` parameter in pandas.Categorical.remove_unused_categories is deprecated and will be removed in a future version.\n",
      "  res = method(*args, **kwargs)\n",
      "[Parallel(n_jobs=93)]: Using backend LokyBackend with 93 concurrent workers.\n",
      "[Parallel(n_jobs=93)]: Done  14 tasks      | elapsed:    0.4s\n",
      "[Parallel(n_jobs=93)]: Done 343 tasks      | elapsed:    1.8s\n",
      "[Parallel(n_jobs=93)]: Done 1042 tasks      | elapsed:    4.3s\n",
      "[Parallel(n_jobs=93)]: Done 1942 tasks      | elapsed:    7.7s\n",
      "[Parallel(n_jobs=93)]: Done 3042 tasks      | elapsed:   11.8s\n",
      "[Parallel(n_jobs=93)]: Done 4342 tasks      | elapsed:   16.9s\n",
      "[Parallel(n_jobs=93)]: Done 4986 out of 5171 | elapsed:   19.4s remaining:    0.7s\n",
      "[Parallel(n_jobs=93)]: Done 5171 out of 5171 | elapsed:   20.6s finished\n",
      "... storing 'memento_group' as categorical\n"
     ]
    },
    {
     "name": "stdout",
     "output_type": "stream",
     "text": [
      "starting B 48 gamma\n"
     ]
    },
    {
     "name": "stderr",
     "output_type": "stream",
     "text": [
      "/home/ssm-user/anaconda3/envs/single_cell/lib/python3.8/site-packages/pandas/core/arrays/categorical.py:2487: FutureWarning: The `inplace` parameter in pandas.Categorical.remove_unused_categories is deprecated and will be removed in a future version.\n",
      "  res = method(*args, **kwargs)\n",
      "[Parallel(n_jobs=93)]: Using backend LokyBackend with 93 concurrent workers.\n",
      "[Parallel(n_jobs=93)]: Done  14 tasks      | elapsed:    0.3s\n",
      "[Parallel(n_jobs=93)]: Done 264 tasks      | elapsed:    1.3s\n",
      "[Parallel(n_jobs=93)]: Done 614 tasks      | elapsed:    2.8s\n",
      "[Parallel(n_jobs=93)]: Done 1064 tasks      | elapsed:    4.7s\n",
      "[Parallel(n_jobs=93)]: Done 1614 tasks      | elapsed:    7.1s\n",
      "[Parallel(n_jobs=93)]: Done 2264 tasks      | elapsed:    9.9s\n",
      "[Parallel(n_jobs=93)]: Done 3014 tasks      | elapsed:   13.0s\n",
      "[Parallel(n_jobs=93)]: Done 3864 tasks      | elapsed:   16.9s\n",
      "[Parallel(n_jobs=93)]: Done 4814 tasks      | elapsed:   21.1s\n",
      "[Parallel(n_jobs=93)]: Done 5398 out of 5398 | elapsed:   24.7s finished\n",
      "... storing 'memento_group' as categorical\n"
     ]
    },
    {
     "name": "stdout",
     "output_type": "stream",
     "text": [
      "starting B 48 lambda\n"
     ]
    },
    {
     "name": "stderr",
     "output_type": "stream",
     "text": [
      "/home/ssm-user/anaconda3/envs/single_cell/lib/python3.8/site-packages/pandas/core/arrays/categorical.py:2487: FutureWarning: The `inplace` parameter in pandas.Categorical.remove_unused_categories is deprecated and will be removed in a future version.\n",
      "  res = method(*args, **kwargs)\n",
      "[Parallel(n_jobs=93)]: Using backend LokyBackend with 93 concurrent workers.\n",
      "[Parallel(n_jobs=93)]: Done  14 tasks      | elapsed:    0.2s\n",
      "[Parallel(n_jobs=93)]: Done 342 tasks      | elapsed:    1.6s\n",
      "[Parallel(n_jobs=93)]: Done 1042 tasks      | elapsed:    4.1s\n",
      "[Parallel(n_jobs=93)]: Done 1942 tasks      | elapsed:    7.3s\n",
      "[Parallel(n_jobs=93)]: Done 3042 tasks      | elapsed:   11.4s\n",
      "[Parallel(n_jobs=93)]: Done 4342 tasks      | elapsed:   16.2s\n",
      "[Parallel(n_jobs=93)]: Done 5364 out of 5364 | elapsed:   20.6s finished\n",
      "... storing 'memento_group' as categorical\n"
     ]
    },
    {
     "name": "stdout",
     "output_type": "stream",
     "text": [
      "starting BC 3 alpha\n"
     ]
    },
    {
     "name": "stderr",
     "output_type": "stream",
     "text": [
      "/home/ssm-user/anaconda3/envs/single_cell/lib/python3.8/site-packages/pandas/core/arrays/categorical.py:2487: FutureWarning: The `inplace` parameter in pandas.Categorical.remove_unused_categories is deprecated and will be removed in a future version.\n",
      "  res = method(*args, **kwargs)\n",
      "[Parallel(n_jobs=93)]: Using backend LokyBackend with 93 concurrent workers.\n",
      "[Parallel(n_jobs=93)]: Done  14 tasks      | elapsed:    0.3s\n",
      "[Parallel(n_jobs=93)]: Done 264 tasks      | elapsed:    1.5s\n",
      "[Parallel(n_jobs=93)]: Done 614 tasks      | elapsed:    3.2s\n",
      "[Parallel(n_jobs=93)]: Done 1064 tasks      | elapsed:    5.3s\n",
      "[Parallel(n_jobs=93)]: Done 1614 tasks      | elapsed:    7.7s\n",
      "[Parallel(n_jobs=93)]: Done 2264 tasks      | elapsed:   10.8s\n",
      "[Parallel(n_jobs=93)]: Done 3014 tasks      | elapsed:   14.5s\n",
      "[Parallel(n_jobs=93)]: Done 3864 tasks      | elapsed:   18.4s\n",
      "[Parallel(n_jobs=93)]: Done 4814 tasks      | elapsed:   23.0s\n",
      "[Parallel(n_jobs=93)]: Done 5864 tasks      | elapsed:   28.1s\n",
      "[Parallel(n_jobs=93)]: Done 7014 tasks      | elapsed:   33.5s\n",
      "[Parallel(n_jobs=93)]: Done 8021 out of 8021 | elapsed:   40.0s finished\n",
      "... storing 'memento_group' as categorical\n"
     ]
    },
    {
     "name": "stdout",
     "output_type": "stream",
     "text": [
      "starting BC 3 beta\n"
     ]
    },
    {
     "name": "stderr",
     "output_type": "stream",
     "text": [
      "/home/ssm-user/anaconda3/envs/single_cell/lib/python3.8/site-packages/pandas/core/arrays/categorical.py:2487: FutureWarning: The `inplace` parameter in pandas.Categorical.remove_unused_categories is deprecated and will be removed in a future version.\n",
      "  res = method(*args, **kwargs)\n",
      "[Parallel(n_jobs=93)]: Using backend LokyBackend with 93 concurrent workers.\n",
      "[Parallel(n_jobs=93)]: Done  14 tasks      | elapsed:    0.3s\n",
      "[Parallel(n_jobs=93)]: Done 264 tasks      | elapsed:    1.4s\n",
      "[Parallel(n_jobs=93)]: Done 614 tasks      | elapsed:    3.1s\n",
      "[Parallel(n_jobs=93)]: Done 1064 tasks      | elapsed:    5.2s\n",
      "[Parallel(n_jobs=93)]: Done 1614 tasks      | elapsed:    7.8s\n",
      "[Parallel(n_jobs=93)]: Done 2264 tasks      | elapsed:   10.8s\n",
      "[Parallel(n_jobs=93)]: Done 3014 tasks      | elapsed:   14.5s\n",
      "[Parallel(n_jobs=93)]: Done 3864 tasks      | elapsed:   18.5s\n",
      "[Parallel(n_jobs=93)]: Done 4814 tasks      | elapsed:   23.2s\n",
      "[Parallel(n_jobs=93)]: Done 5864 tasks      | elapsed:   28.1s\n",
      "[Parallel(n_jobs=93)]: Done 7014 tasks      | elapsed:   33.8s\n",
      "[Parallel(n_jobs=93)]: Done 7786 out of 7786 | elapsed:   39.0s finished\n",
      "... storing 'memento_group' as categorical\n"
     ]
    },
    {
     "name": "stdout",
     "output_type": "stream",
     "text": [
      "starting BC 3 gamma\n"
     ]
    },
    {
     "name": "stderr",
     "output_type": "stream",
     "text": [
      "/home/ssm-user/anaconda3/envs/single_cell/lib/python3.8/site-packages/pandas/core/arrays/categorical.py:2487: FutureWarning: The `inplace` parameter in pandas.Categorical.remove_unused_categories is deprecated and will be removed in a future version.\n",
      "  res = method(*args, **kwargs)\n",
      "[Parallel(n_jobs=93)]: Using backend LokyBackend with 93 concurrent workers.\n",
      "[Parallel(n_jobs=93)]: Done  14 tasks      | elapsed:    0.3s\n",
      "[Parallel(n_jobs=93)]: Done 264 tasks      | elapsed:    1.4s\n",
      "[Parallel(n_jobs=93)]: Done 614 tasks      | elapsed:    3.1s\n",
      "[Parallel(n_jobs=93)]: Done 1064 tasks      | elapsed:    5.2s\n",
      "[Parallel(n_jobs=93)]: Done 1614 tasks      | elapsed:    7.7s\n",
      "[Parallel(n_jobs=93)]: Done 2264 tasks      | elapsed:   10.8s\n",
      "[Parallel(n_jobs=93)]: Done 3014 tasks      | elapsed:   14.6s\n",
      "[Parallel(n_jobs=93)]: Done 3864 tasks      | elapsed:   18.5s\n",
      "[Parallel(n_jobs=93)]: Done 4814 tasks      | elapsed:   23.2s\n",
      "[Parallel(n_jobs=93)]: Done 5864 tasks      | elapsed:   28.3s\n",
      "[Parallel(n_jobs=93)]: Done 7014 tasks      | elapsed:   33.8s\n",
      "[Parallel(n_jobs=93)]: Done 7930 out of 7930 | elapsed:   40.0s finished\n",
      "... storing 'memento_group' as categorical\n"
     ]
    },
    {
     "name": "stdout",
     "output_type": "stream",
     "text": [
      "starting BC 3 lambda\n"
     ]
    },
    {
     "name": "stderr",
     "output_type": "stream",
     "text": [
      "/home/ssm-user/anaconda3/envs/single_cell/lib/python3.8/site-packages/pandas/core/arrays/categorical.py:2487: FutureWarning: The `inplace` parameter in pandas.Categorical.remove_unused_categories is deprecated and will be removed in a future version.\n",
      "  res = method(*args, **kwargs)\n",
      "[Parallel(n_jobs=93)]: Using backend LokyBackend with 93 concurrent workers.\n",
      "[Parallel(n_jobs=93)]: Done  14 tasks      | elapsed:    0.3s\n",
      "[Parallel(n_jobs=93)]: Done 264 tasks      | elapsed:    1.3s\n",
      "[Parallel(n_jobs=93)]: Done 614 tasks      | elapsed:    3.0s\n",
      "[Parallel(n_jobs=93)]: Done 1064 tasks      | elapsed:    5.1s\n",
      "[Parallel(n_jobs=93)]: Done 1614 tasks      | elapsed:    7.7s\n",
      "[Parallel(n_jobs=93)]: Done 2264 tasks      | elapsed:   10.6s\n",
      "[Parallel(n_jobs=93)]: Done 3014 tasks      | elapsed:   14.2s\n",
      "[Parallel(n_jobs=93)]: Done 3864 tasks      | elapsed:   18.0s\n",
      "[Parallel(n_jobs=93)]: Done 4814 tasks      | elapsed:   22.6s\n",
      "[Parallel(n_jobs=93)]: Done 5864 tasks      | elapsed:   27.6s\n",
      "[Parallel(n_jobs=93)]: Done 7014 tasks      | elapsed:   33.0s\n",
      "[Parallel(n_jobs=93)]: Done 7968 out of 7968 | elapsed:   39.2s finished\n",
      "... storing 'memento_group' as categorical\n"
     ]
    },
    {
     "name": "stdout",
     "output_type": "stream",
     "text": [
      "starting BC 6 alpha\n"
     ]
    },
    {
     "name": "stderr",
     "output_type": "stream",
     "text": [
      "/home/ssm-user/anaconda3/envs/single_cell/lib/python3.8/site-packages/pandas/core/arrays/categorical.py:2487: FutureWarning: The `inplace` parameter in pandas.Categorical.remove_unused_categories is deprecated and will be removed in a future version.\n",
      "  res = method(*args, **kwargs)\n",
      "[Parallel(n_jobs=93)]: Using backend LokyBackend with 93 concurrent workers.\n",
      "[Parallel(n_jobs=93)]: Done  14 tasks      | elapsed:    0.3s\n",
      "[Parallel(n_jobs=93)]: Done 264 tasks      | elapsed:    1.4s\n",
      "[Parallel(n_jobs=93)]: Done 614 tasks      | elapsed:    3.2s\n",
      "[Parallel(n_jobs=93)]: Done 1064 tasks      | elapsed:    5.3s\n",
      "[Parallel(n_jobs=93)]: Done 1614 tasks      | elapsed:    7.8s\n",
      "[Parallel(n_jobs=93)]: Done 2264 tasks      | elapsed:   10.9s\n",
      "[Parallel(n_jobs=93)]: Done 3014 tasks      | elapsed:   14.5s\n",
      "[Parallel(n_jobs=93)]: Done 3864 tasks      | elapsed:   18.6s\n",
      "[Parallel(n_jobs=93)]: Done 4814 tasks      | elapsed:   23.3s\n",
      "[Parallel(n_jobs=93)]: Done 5864 tasks      | elapsed:   28.3s\n",
      "[Parallel(n_jobs=93)]: Done 7014 tasks      | elapsed:   33.9s\n",
      "[Parallel(n_jobs=93)]: Done 7629 out of 7629 | elapsed:   38.6s finished\n",
      "... storing 'memento_group' as categorical\n"
     ]
    },
    {
     "name": "stdout",
     "output_type": "stream",
     "text": [
      "starting BC 6 beta\n"
     ]
    },
    {
     "name": "stderr",
     "output_type": "stream",
     "text": [
      "/home/ssm-user/anaconda3/envs/single_cell/lib/python3.8/site-packages/pandas/core/arrays/categorical.py:2487: FutureWarning: The `inplace` parameter in pandas.Categorical.remove_unused_categories is deprecated and will be removed in a future version.\n",
      "  res = method(*args, **kwargs)\n",
      "[Parallel(n_jobs=93)]: Using backend LokyBackend with 93 concurrent workers.\n",
      "[Parallel(n_jobs=93)]: Done  14 tasks      | elapsed:    0.3s\n",
      "[Parallel(n_jobs=93)]: Done 264 tasks      | elapsed:    1.5s\n",
      "[Parallel(n_jobs=93)]: Done 614 tasks      | elapsed:    3.6s\n",
      "[Parallel(n_jobs=93)]: Done 1064 tasks      | elapsed:    5.9s\n",
      "[Parallel(n_jobs=93)]: Done 1614 tasks      | elapsed:    8.8s\n",
      "[Parallel(n_jobs=93)]: Done 2264 tasks      | elapsed:   12.3s\n",
      "[Parallel(n_jobs=93)]: Done 3014 tasks      | elapsed:   16.4s\n",
      "[Parallel(n_jobs=93)]: Done 3864 tasks      | elapsed:   20.9s\n",
      "[Parallel(n_jobs=93)]: Done 4814 tasks      | elapsed:   26.4s\n",
      "[Parallel(n_jobs=93)]: Done 5864 tasks      | elapsed:   31.9s\n",
      "[Parallel(n_jobs=93)]: Done 7014 tasks      | elapsed:   38.2s\n",
      "[Parallel(n_jobs=93)]: Done 7718 out of 7718 | elapsed:   44.0s finished\n",
      "... storing 'memento_group' as categorical\n"
     ]
    },
    {
     "name": "stdout",
     "output_type": "stream",
     "text": [
      "starting BC 6 gamma\n"
     ]
    },
    {
     "name": "stderr",
     "output_type": "stream",
     "text": [
      "/home/ssm-user/anaconda3/envs/single_cell/lib/python3.8/site-packages/pandas/core/arrays/categorical.py:2487: FutureWarning: The `inplace` parameter in pandas.Categorical.remove_unused_categories is deprecated and will be removed in a future version.\n",
      "  res = method(*args, **kwargs)\n",
      "[Parallel(n_jobs=93)]: Using backend LokyBackend with 93 concurrent workers.\n",
      "[Parallel(n_jobs=93)]: Done  14 tasks      | elapsed:    0.3s\n",
      "[Parallel(n_jobs=93)]: Done 264 tasks      | elapsed:    1.3s\n",
      "[Parallel(n_jobs=93)]: Done 614 tasks      | elapsed:    3.0s\n",
      "[Parallel(n_jobs=93)]: Done 1064 tasks      | elapsed:    5.1s\n",
      "[Parallel(n_jobs=93)]: Done 1614 tasks      | elapsed:    7.6s\n",
      "[Parallel(n_jobs=93)]: Done 2264 tasks      | elapsed:   10.5s\n",
      "[Parallel(n_jobs=93)]: Done 3014 tasks      | elapsed:   14.1s\n",
      "[Parallel(n_jobs=93)]: Done 3864 tasks      | elapsed:   17.9s\n",
      "[Parallel(n_jobs=93)]: Done 4814 tasks      | elapsed:   22.5s\n",
      "[Parallel(n_jobs=93)]: Done 5864 tasks      | elapsed:   27.3s\n",
      "[Parallel(n_jobs=93)]: Done 7014 tasks      | elapsed:   32.7s\n",
      "[Parallel(n_jobs=93)]: Done 7827 out of 7827 | elapsed:   38.2s finished\n",
      "... storing 'memento_group' as categorical\n"
     ]
    },
    {
     "name": "stdout",
     "output_type": "stream",
     "text": [
      "starting BC 6 lambda\n"
     ]
    },
    {
     "name": "stderr",
     "output_type": "stream",
     "text": [
      "/home/ssm-user/anaconda3/envs/single_cell/lib/python3.8/site-packages/pandas/core/arrays/categorical.py:2487: FutureWarning: The `inplace` parameter in pandas.Categorical.remove_unused_categories is deprecated and will be removed in a future version.\n",
      "  res = method(*args, **kwargs)\n",
      "[Parallel(n_jobs=93)]: Using backend LokyBackend with 93 concurrent workers.\n",
      "[Parallel(n_jobs=93)]: Done  14 tasks      | elapsed:    0.3s\n",
      "[Parallel(n_jobs=93)]: Done 264 tasks      | elapsed:    1.4s\n",
      "[Parallel(n_jobs=93)]: Done 614 tasks      | elapsed:    3.2s\n",
      "[Parallel(n_jobs=93)]: Done 1064 tasks      | elapsed:    5.3s\n",
      "[Parallel(n_jobs=93)]: Done 1614 tasks      | elapsed:    7.8s\n",
      "[Parallel(n_jobs=93)]: Done 2264 tasks      | elapsed:   10.8s\n",
      "[Parallel(n_jobs=93)]: Done 3014 tasks      | elapsed:   14.4s\n",
      "[Parallel(n_jobs=93)]: Done 3864 tasks      | elapsed:   18.4s\n",
      "[Parallel(n_jobs=93)]: Done 4814 tasks      | elapsed:   22.9s\n",
      "[Parallel(n_jobs=93)]: Done 5864 tasks      | elapsed:   28.1s\n",
      "[Parallel(n_jobs=93)]: Done 7014 tasks      | elapsed:   33.4s\n",
      "[Parallel(n_jobs=93)]: Done 8139 out of 8139 | elapsed:   40.2s finished\n",
      "... storing 'memento_group' as categorical\n"
     ]
    },
    {
     "name": "stdout",
     "output_type": "stream",
     "text": [
      "starting BC 9 alpha\n"
     ]
    },
    {
     "name": "stderr",
     "output_type": "stream",
     "text": [
      "/home/ssm-user/anaconda3/envs/single_cell/lib/python3.8/site-packages/pandas/core/arrays/categorical.py:2487: FutureWarning: The `inplace` parameter in pandas.Categorical.remove_unused_categories is deprecated and will be removed in a future version.\n",
      "  res = method(*args, **kwargs)\n",
      "[Parallel(n_jobs=93)]: Using backend LokyBackend with 93 concurrent workers.\n",
      "[Parallel(n_jobs=93)]: Done  14 tasks      | elapsed:    0.3s\n",
      "[Parallel(n_jobs=93)]: Done 264 tasks      | elapsed:    1.2s\n",
      "[Parallel(n_jobs=93)]: Done 614 tasks      | elapsed:    2.6s\n",
      "[Parallel(n_jobs=93)]: Done 1064 tasks      | elapsed:    4.3s\n",
      "[Parallel(n_jobs=93)]: Done 1614 tasks      | elapsed:    6.5s\n",
      "[Parallel(n_jobs=93)]: Done 2264 tasks      | elapsed:    9.0s\n",
      "[Parallel(n_jobs=93)]: Done 3014 tasks      | elapsed:   12.0s\n",
      "[Parallel(n_jobs=93)]: Done 3864 tasks      | elapsed:   15.4s\n",
      "[Parallel(n_jobs=93)]: Done 4814 tasks      | elapsed:   19.2s\n",
      "[Parallel(n_jobs=93)]: Done 5864 tasks      | elapsed:   23.2s\n",
      "[Parallel(n_jobs=93)]: Done 7014 tasks      | elapsed:   27.9s\n",
      "[Parallel(n_jobs=93)]: Done 7755 out of 7755 | elapsed:   32.1s finished\n",
      "... storing 'memento_group' as categorical\n"
     ]
    },
    {
     "name": "stdout",
     "output_type": "stream",
     "text": [
      "starting BC 9 beta\n"
     ]
    },
    {
     "name": "stderr",
     "output_type": "stream",
     "text": [
      "/home/ssm-user/anaconda3/envs/single_cell/lib/python3.8/site-packages/pandas/core/arrays/categorical.py:2487: FutureWarning: The `inplace` parameter in pandas.Categorical.remove_unused_categories is deprecated and will be removed in a future version.\n",
      "  res = method(*args, **kwargs)\n",
      "[Parallel(n_jobs=93)]: Using backend LokyBackend with 93 concurrent workers.\n",
      "[Parallel(n_jobs=93)]: Done  14 tasks      | elapsed:    0.3s\n",
      "[Parallel(n_jobs=93)]: Done 264 tasks      | elapsed:    1.6s\n",
      "[Parallel(n_jobs=93)]: Done 614 tasks      | elapsed:    3.3s\n",
      "[Parallel(n_jobs=93)]: Done 1064 tasks      | elapsed:    5.4s\n",
      "[Parallel(n_jobs=93)]: Done 1614 tasks      | elapsed:    8.0s\n",
      "[Parallel(n_jobs=93)]: Done 2264 tasks      | elapsed:   11.1s\n",
      "[Parallel(n_jobs=93)]: Done 3014 tasks      | elapsed:   14.9s\n",
      "[Parallel(n_jobs=93)]: Done 3864 tasks      | elapsed:   18.9s\n",
      "[Parallel(n_jobs=93)]: Done 4814 tasks      | elapsed:   23.8s\n",
      "[Parallel(n_jobs=93)]: Done 5864 tasks      | elapsed:   28.9s\n",
      "[Parallel(n_jobs=93)]: Done 7014 tasks      | elapsed:   34.6s\n",
      "[Parallel(n_jobs=93)]: Done 7348 out of 7348 | elapsed:   38.0s finished\n",
      "... storing 'memento_group' as categorical\n"
     ]
    },
    {
     "name": "stdout",
     "output_type": "stream",
     "text": [
      "starting BC 9 gamma\n"
     ]
    },
    {
     "name": "stderr",
     "output_type": "stream",
     "text": [
      "/home/ssm-user/anaconda3/envs/single_cell/lib/python3.8/site-packages/pandas/core/arrays/categorical.py:2487: FutureWarning: The `inplace` parameter in pandas.Categorical.remove_unused_categories is deprecated and will be removed in a future version.\n",
      "  res = method(*args, **kwargs)\n",
      "[Parallel(n_jobs=93)]: Using backend LokyBackend with 93 concurrent workers.\n",
      "[Parallel(n_jobs=93)]: Done  14 tasks      | elapsed:    0.3s\n",
      "[Parallel(n_jobs=93)]: Done 264 tasks      | elapsed:    1.4s\n",
      "[Parallel(n_jobs=93)]: Done 614 tasks      | elapsed:    3.1s\n",
      "[Parallel(n_jobs=93)]: Done 1064 tasks      | elapsed:    5.2s\n",
      "[Parallel(n_jobs=93)]: Done 1614 tasks      | elapsed:    7.7s\n",
      "[Parallel(n_jobs=93)]: Done 2264 tasks      | elapsed:   10.8s\n",
      "[Parallel(n_jobs=93)]: Done 3014 tasks      | elapsed:   14.3s\n",
      "[Parallel(n_jobs=93)]: Done 3864 tasks      | elapsed:   18.3s\n",
      "[Parallel(n_jobs=93)]: Done 4814 tasks      | elapsed:   22.9s\n",
      "[Parallel(n_jobs=93)]: Done 5864 tasks      | elapsed:   27.9s\n",
      "[Parallel(n_jobs=93)]: Done 7014 tasks      | elapsed:   33.3s\n",
      "[Parallel(n_jobs=93)]: Done 8014 out of 8014 | elapsed:   39.6s finished\n",
      "... storing 'memento_group' as categorical\n"
     ]
    },
    {
     "name": "stdout",
     "output_type": "stream",
     "text": [
      "starting BC 9 lambda\n"
     ]
    },
    {
     "name": "stderr",
     "output_type": "stream",
     "text": [
      "/home/ssm-user/anaconda3/envs/single_cell/lib/python3.8/site-packages/pandas/core/arrays/categorical.py:2487: FutureWarning: The `inplace` parameter in pandas.Categorical.remove_unused_categories is deprecated and will be removed in a future version.\n",
      "  res = method(*args, **kwargs)\n",
      "[Parallel(n_jobs=93)]: Using backend LokyBackend with 93 concurrent workers.\n",
      "[Parallel(n_jobs=93)]: Done  14 tasks      | elapsed:    0.3s\n",
      "[Parallel(n_jobs=93)]: Done 264 tasks      | elapsed:    1.3s\n",
      "[Parallel(n_jobs=93)]: Done 614 tasks      | elapsed:    3.0s\n",
      "[Parallel(n_jobs=93)]: Done 1064 tasks      | elapsed:    5.0s\n",
      "[Parallel(n_jobs=93)]: Done 1614 tasks      | elapsed:    7.4s\n",
      "[Parallel(n_jobs=93)]: Done 2264 tasks      | elapsed:   10.3s\n",
      "[Parallel(n_jobs=93)]: Done 3014 tasks      | elapsed:   13.7s\n",
      "[Parallel(n_jobs=93)]: Done 3864 tasks      | elapsed:   17.6s\n",
      "[Parallel(n_jobs=93)]: Done 4814 tasks      | elapsed:   22.0s\n",
      "[Parallel(n_jobs=93)]: Done 5864 tasks      | elapsed:   26.9s\n",
      "[Parallel(n_jobs=93)]: Done 7014 tasks      | elapsed:   32.0s\n",
      "[Parallel(n_jobs=93)]: Done 7976 out of 7976 | elapsed:   38.0s finished\n",
      "... storing 'memento_group' as categorical\n"
     ]
    },
    {
     "name": "stdout",
     "output_type": "stream",
     "text": [
      "starting BC 24 alpha\n"
     ]
    },
    {
     "name": "stderr",
     "output_type": "stream",
     "text": [
      "/home/ssm-user/anaconda3/envs/single_cell/lib/python3.8/site-packages/pandas/core/arrays/categorical.py:2487: FutureWarning: The `inplace` parameter in pandas.Categorical.remove_unused_categories is deprecated and will be removed in a future version.\n",
      "  res = method(*args, **kwargs)\n",
      "[Parallel(n_jobs=93)]: Using backend LokyBackend with 93 concurrent workers.\n",
      "[Parallel(n_jobs=93)]: Done  14 tasks      | elapsed:    0.3s\n",
      "[Parallel(n_jobs=93)]: Done 344 tasks      | elapsed:    1.8s\n",
      "[Parallel(n_jobs=93)]: Done 1042 tasks      | elapsed:    4.6s\n",
      "[Parallel(n_jobs=93)]: Done 1942 tasks      | elapsed:    8.2s\n",
      "[Parallel(n_jobs=93)]: Done 3042 tasks      | elapsed:   12.8s\n",
      "[Parallel(n_jobs=93)]: Done 3938 tasks      | elapsed:   16.2s\n",
      "[Parallel(n_jobs=93)]: Done 4688 tasks      | elapsed:   19.5s\n",
      "[Parallel(n_jobs=93)]: Done 5538 tasks      | elapsed:   23.1s\n",
      "[Parallel(n_jobs=93)]: Done 6488 tasks      | elapsed:   27.1s\n",
      "[Parallel(n_jobs=93)]: Done 7424 out of 7424 | elapsed:   32.6s finished\n",
      "... storing 'memento_group' as categorical\n"
     ]
    },
    {
     "name": "stdout",
     "output_type": "stream",
     "text": [
      "starting BC 24 beta\n"
     ]
    },
    {
     "name": "stderr",
     "output_type": "stream",
     "text": [
      "/home/ssm-user/anaconda3/envs/single_cell/lib/python3.8/site-packages/pandas/core/arrays/categorical.py:2487: FutureWarning: The `inplace` parameter in pandas.Categorical.remove_unused_categories is deprecated and will be removed in a future version.\n",
      "  res = method(*args, **kwargs)\n",
      "[Parallel(n_jobs=93)]: Using backend LokyBackend with 93 concurrent workers.\n",
      "[Parallel(n_jobs=93)]: Done  14 tasks      | elapsed:    0.3s\n",
      "[Parallel(n_jobs=93)]: Done 264 tasks      | elapsed:    1.4s\n",
      "[Parallel(n_jobs=93)]: Done 614 tasks      | elapsed:    3.2s\n",
      "[Parallel(n_jobs=93)]: Done 1064 tasks      | elapsed:    5.3s\n",
      "[Parallel(n_jobs=93)]: Done 1614 tasks      | elapsed:    7.9s\n",
      "[Parallel(n_jobs=93)]: Done 2264 tasks      | elapsed:   11.0s\n",
      "[Parallel(n_jobs=93)]: Done 3014 tasks      | elapsed:   14.7s\n",
      "[Parallel(n_jobs=93)]: Done 3864 tasks      | elapsed:   18.7s\n",
      "[Parallel(n_jobs=93)]: Done 4814 tasks      | elapsed:   23.6s\n",
      "[Parallel(n_jobs=93)]: Done 5864 tasks      | elapsed:   28.6s\n",
      "[Parallel(n_jobs=93)]: Done 7014 tasks      | elapsed:   34.3s\n",
      "[Parallel(n_jobs=93)]: Done 7761 out of 7761 | elapsed:   39.6s finished\n",
      "... storing 'memento_group' as categorical\n"
     ]
    },
    {
     "name": "stdout",
     "output_type": "stream",
     "text": [
      "starting BC 24 gamma\n"
     ]
    },
    {
     "name": "stderr",
     "output_type": "stream",
     "text": [
      "/home/ssm-user/anaconda3/envs/single_cell/lib/python3.8/site-packages/pandas/core/arrays/categorical.py:2487: FutureWarning: The `inplace` parameter in pandas.Categorical.remove_unused_categories is deprecated and will be removed in a future version.\n",
      "  res = method(*args, **kwargs)\n",
      "[Parallel(n_jobs=93)]: Using backend LokyBackend with 93 concurrent workers.\n",
      "[Parallel(n_jobs=93)]: Done  14 tasks      | elapsed:    0.3s\n",
      "[Parallel(n_jobs=93)]: Done 264 tasks      | elapsed:    1.3s\n",
      "[Parallel(n_jobs=93)]: Done 614 tasks      | elapsed:    2.9s\n",
      "[Parallel(n_jobs=93)]: Done 1064 tasks      | elapsed:    4.9s\n",
      "[Parallel(n_jobs=93)]: Done 1614 tasks      | elapsed:    7.1s\n",
      "[Parallel(n_jobs=93)]: Done 2264 tasks      | elapsed:   10.0s\n",
      "[Parallel(n_jobs=93)]: Done 3014 tasks      | elapsed:   13.3s\n",
      "[Parallel(n_jobs=93)]: Done 3864 tasks      | elapsed:   17.1s\n",
      "[Parallel(n_jobs=93)]: Done 4814 tasks      | elapsed:   21.4s\n",
      "[Parallel(n_jobs=93)]: Done 5864 tasks      | elapsed:   26.0s\n",
      "[Parallel(n_jobs=93)]: Done 7014 tasks      | elapsed:   31.1s\n",
      "[Parallel(n_jobs=93)]: Done 7857 out of 7857 | elapsed:   36.5s finished\n",
      "... storing 'memento_group' as categorical\n"
     ]
    },
    {
     "name": "stdout",
     "output_type": "stream",
     "text": [
      "starting BC 24 lambda\n"
     ]
    },
    {
     "name": "stderr",
     "output_type": "stream",
     "text": [
      "/home/ssm-user/anaconda3/envs/single_cell/lib/python3.8/site-packages/pandas/core/arrays/categorical.py:2487: FutureWarning: The `inplace` parameter in pandas.Categorical.remove_unused_categories is deprecated and will be removed in a future version.\n",
      "  res = method(*args, **kwargs)\n",
      "[Parallel(n_jobs=93)]: Using backend LokyBackend with 93 concurrent workers.\n",
      "[Parallel(n_jobs=93)]: Done  14 tasks      | elapsed:    0.3s\n",
      "[Parallel(n_jobs=93)]: Done 264 tasks      | elapsed:    1.4s\n",
      "[Parallel(n_jobs=93)]: Done 614 tasks      | elapsed:    3.1s\n",
      "[Parallel(n_jobs=93)]: Done 1064 tasks      | elapsed:    5.2s\n",
      "[Parallel(n_jobs=93)]: Done 1614 tasks      | elapsed:    7.8s\n",
      "[Parallel(n_jobs=93)]: Done 2264 tasks      | elapsed:   10.8s\n",
      "[Parallel(n_jobs=93)]: Done 3014 tasks      | elapsed:   14.4s\n",
      "[Parallel(n_jobs=93)]: Done 3864 tasks      | elapsed:   18.4s\n",
      "[Parallel(n_jobs=93)]: Done 4814 tasks      | elapsed:   23.0s\n",
      "[Parallel(n_jobs=93)]: Done 5864 tasks      | elapsed:   28.1s\n",
      "[Parallel(n_jobs=93)]: Done 7014 tasks      | elapsed:   33.6s\n",
      "[Parallel(n_jobs=93)]: Done 8082 out of 8082 | elapsed:   40.2s finished\n",
      "... storing 'memento_group' as categorical\n"
     ]
    },
    {
     "name": "stdout",
     "output_type": "stream",
     "text": [
      "starting BC 48 alpha\n"
     ]
    },
    {
     "name": "stderr",
     "output_type": "stream",
     "text": [
      "/home/ssm-user/anaconda3/envs/single_cell/lib/python3.8/site-packages/pandas/core/arrays/categorical.py:2487: FutureWarning: The `inplace` parameter in pandas.Categorical.remove_unused_categories is deprecated and will be removed in a future version.\n",
      "  res = method(*args, **kwargs)\n",
      "[Parallel(n_jobs=93)]: Using backend LokyBackend with 93 concurrent workers.\n",
      "[Parallel(n_jobs=93)]: Done  14 tasks      | elapsed:    0.3s\n",
      "[Parallel(n_jobs=93)]: Done 264 tasks      | elapsed:    1.5s\n",
      "[Parallel(n_jobs=93)]: Done 614 tasks      | elapsed:    3.3s\n",
      "[Parallel(n_jobs=93)]: Done 1064 tasks      | elapsed:    5.4s\n",
      "[Parallel(n_jobs=93)]: Done 1614 tasks      | elapsed:    8.0s\n",
      "[Parallel(n_jobs=93)]: Done 2264 tasks      | elapsed:   11.1s\n",
      "[Parallel(n_jobs=93)]: Done 3014 tasks      | elapsed:   15.0s\n",
      "[Parallel(n_jobs=93)]: Done 3864 tasks      | elapsed:   19.0s\n",
      "[Parallel(n_jobs=93)]: Done 4814 tasks      | elapsed:   23.8s\n",
      "[Parallel(n_jobs=93)]: Done 5864 tasks      | elapsed:   29.0s\n",
      "[Parallel(n_jobs=93)]: Done 7014 tasks      | elapsed:   34.6s\n",
      "[Parallel(n_jobs=93)]: Done 7810 out of 7810 | elapsed:   40.3s finished\n",
      "... storing 'memento_group' as categorical\n"
     ]
    },
    {
     "name": "stdout",
     "output_type": "stream",
     "text": [
      "starting BC 48 beta\n"
     ]
    },
    {
     "name": "stderr",
     "output_type": "stream",
     "text": [
      "/home/ssm-user/anaconda3/envs/single_cell/lib/python3.8/site-packages/pandas/core/arrays/categorical.py:2487: FutureWarning: The `inplace` parameter in pandas.Categorical.remove_unused_categories is deprecated and will be removed in a future version.\n",
      "  res = method(*args, **kwargs)\n",
      "[Parallel(n_jobs=93)]: Using backend LokyBackend with 93 concurrent workers.\n",
      "[Parallel(n_jobs=93)]: Done  14 tasks      | elapsed:    0.3s\n",
      "[Parallel(n_jobs=93)]: Done 264 tasks      | elapsed:    1.4s\n",
      "[Parallel(n_jobs=93)]: Done 614 tasks      | elapsed:    3.1s\n",
      "[Parallel(n_jobs=93)]: Done 1064 tasks      | elapsed:    5.2s\n",
      "[Parallel(n_jobs=93)]: Done 1614 tasks      | elapsed:    7.8s\n",
      "[Parallel(n_jobs=93)]: Done 2264 tasks      | elapsed:   10.8s\n",
      "[Parallel(n_jobs=93)]: Done 3014 tasks      | elapsed:   14.4s\n",
      "[Parallel(n_jobs=93)]: Done 3864 tasks      | elapsed:   18.4s\n",
      "[Parallel(n_jobs=93)]: Done 4814 tasks      | elapsed:   23.1s\n",
      "[Parallel(n_jobs=93)]: Done 5864 tasks      | elapsed:   28.0s\n",
      "[Parallel(n_jobs=93)]: Done 7014 tasks      | elapsed:   33.7s\n",
      "[Parallel(n_jobs=93)]: Done 7583 out of 7583 | elapsed:   38.2s finished\n",
      "... storing 'memento_group' as categorical\n"
     ]
    },
    {
     "name": "stdout",
     "output_type": "stream",
     "text": [
      "starting BC 48 gamma\n"
     ]
    },
    {
     "name": "stderr",
     "output_type": "stream",
     "text": [
      "/home/ssm-user/anaconda3/envs/single_cell/lib/python3.8/site-packages/pandas/core/arrays/categorical.py:2487: FutureWarning: The `inplace` parameter in pandas.Categorical.remove_unused_categories is deprecated and will be removed in a future version.\n",
      "  res = method(*args, **kwargs)\n",
      "[Parallel(n_jobs=93)]: Using backend LokyBackend with 93 concurrent workers.\n",
      "[Parallel(n_jobs=93)]: Done  14 tasks      | elapsed:    0.3s\n",
      "[Parallel(n_jobs=93)]: Done 264 tasks      | elapsed:    1.3s\n",
      "[Parallel(n_jobs=93)]: Done 614 tasks      | elapsed:    3.0s\n",
      "[Parallel(n_jobs=93)]: Done 1064 tasks      | elapsed:    5.0s\n",
      "[Parallel(n_jobs=93)]: Done 1614 tasks      | elapsed:    7.4s\n",
      "[Parallel(n_jobs=93)]: Done 2264 tasks      | elapsed:   10.3s\n",
      "[Parallel(n_jobs=93)]: Done 3014 tasks      | elapsed:   13.7s\n",
      "[Parallel(n_jobs=93)]: Done 3864 tasks      | elapsed:   17.6s\n",
      "[Parallel(n_jobs=93)]: Done 4814 tasks      | elapsed:   21.8s\n",
      "[Parallel(n_jobs=93)]: Done 5864 tasks      | elapsed:   26.8s\n",
      "[Parallel(n_jobs=93)]: Done 7014 tasks      | elapsed:   31.9s\n",
      "[Parallel(n_jobs=93)]: Done 8130 out of 8130 | elapsed:   38.3s finished\n",
      "... storing 'memento_group' as categorical\n"
     ]
    },
    {
     "name": "stdout",
     "output_type": "stream",
     "text": [
      "starting BC 48 lambda\n"
     ]
    },
    {
     "name": "stderr",
     "output_type": "stream",
     "text": [
      "/home/ssm-user/anaconda3/envs/single_cell/lib/python3.8/site-packages/pandas/core/arrays/categorical.py:2487: FutureWarning: The `inplace` parameter in pandas.Categorical.remove_unused_categories is deprecated and will be removed in a future version.\n",
      "  res = method(*args, **kwargs)\n",
      "[Parallel(n_jobs=93)]: Using backend LokyBackend with 93 concurrent workers.\n",
      "[Parallel(n_jobs=93)]: Done  14 tasks      | elapsed:    0.3s\n",
      "[Parallel(n_jobs=93)]: Done 264 tasks      | elapsed:    1.3s\n",
      "[Parallel(n_jobs=93)]: Done 614 tasks      | elapsed:    3.0s\n",
      "[Parallel(n_jobs=93)]: Done 1064 tasks      | elapsed:    5.0s\n",
      "[Parallel(n_jobs=93)]: Done 1614 tasks      | elapsed:    7.4s\n",
      "[Parallel(n_jobs=93)]: Done 2264 tasks      | elapsed:   10.3s\n",
      "[Parallel(n_jobs=93)]: Done 3014 tasks      | elapsed:   13.8s\n",
      "[Parallel(n_jobs=93)]: Done 3864 tasks      | elapsed:   17.6s\n",
      "[Parallel(n_jobs=93)]: Done 4814 tasks      | elapsed:   22.1s\n",
      "[Parallel(n_jobs=93)]: Done 5864 tasks      | elapsed:   26.9s\n",
      "[Parallel(n_jobs=93)]: Done 7014 tasks      | elapsed:   32.2s\n",
      "[Parallel(n_jobs=93)]: Done 7902 out of 7902 | elapsed:   37.9s finished\n",
      "... storing 'memento_group' as categorical\n"
     ]
    }
   ],
   "source": [
    "for ct in cts:\n",
    "    for tp in tps:\n",
    "        for stim in stims:\n",
    "            \n",
    "            fname = '{}_{}_{}.h5ad'.format('-'.join(ct), stim, tp)\n",
    "            \n",
    "            if fname in done_files:\n",
    "                print('Skipping', fname)\n",
    "                continue\n",
    "\n",
    "            print('starting', ct, tp, stim)\n",
    "\n",
    "            adata_stim = adata.copy()[\n",
    "                adata.obs.ct.isin([ct]) & \\\n",
    "                adata.obs.stim.isin(['control', stim]) & \\\n",
    "                adata.obs.time.isin(['0',tp]), :].copy()\n",
    "            time_converter={0:0, int(tp):1}\n",
    "            adata_stim.obs['time_step'] = adata_stim.obs['time'].astype(int).apply(lambda x: time_converter[x])\n",
    "\n",
    "            memento.create_groups(adata_stim, label_columns=['time_step', 'donor'])\n",
    "            memento.compute_1d_moments(adata_stim, min_perc_group=.9)\n",
    "\n",
    "            memento.ht_1d_moments(\n",
    "                adata_stim, \n",
    "                formula_like='1 + time_step + donor',\n",
    "                treatment_col='time_step', \n",
    "                num_boot=10000, \n",
    "                verbose=1,\n",
    "                num_cpus=93,\n",
    "                resampling='permutation',\n",
    "                approx=True)\n",
    "\n",
    "            adata_stim.write(data_path + 'binary_test_latest/{}_{}_{}.h5ad'.format(ct, stim, tp))"
   ]
  },
  {
   "cell_type": "markdown",
   "metadata": {},
   "source": [
    "### Run memento for each subset, but stratify cell types"
   ]
  },
  {
   "cell_type": "code",
   "execution_count": 10,
   "metadata": {},
   "outputs": [],
   "source": [
    "cts = ['C', 'B', 'BC']\n",
    "tps = ['3', '6', '9', '24', '48']\n",
    "\n",
    "stims = ['alpha', 'beta', 'gamma', 'lambda']"
   ]
  },
  {
   "cell_type": "code",
   "execution_count": 11,
   "metadata": {},
   "outputs": [],
   "source": [
    "import os\n",
    "done_files = os.listdir(data_path + 'binary_test_latest/')"
   ]
  },
  {
   "cell_type": "code",
   "execution_count": 12,
   "metadata": {},
   "outputs": [
    {
     "name": "stdout",
     "output_type": "stream",
     "text": [
      "starting 3 alpha\n"
     ]
    },
    {
     "name": "stderr",
     "output_type": "stream",
     "text": [
      "/home/ssm-user/anaconda3/envs/single_cell/lib/python3.8/site-packages/pandas/core/arrays/categorical.py:2487: FutureWarning: The `inplace` parameter in pandas.Categorical.remove_unused_categories is deprecated and will be removed in a future version.\n",
      "  res = method(*args, **kwargs)\n",
      "[Parallel(n_jobs=93)]: Using backend LokyBackend with 93 concurrent workers.\n",
      "[Parallel(n_jobs=93)]: Done  14 tasks      | elapsed:    4.3s\n",
      "[Parallel(n_jobs=93)]: Done 264 tasks      | elapsed:    6.7s\n",
      "[Parallel(n_jobs=93)]: Done 614 tasks      | elapsed:    9.9s\n",
      "[Parallel(n_jobs=93)]: Done 1064 tasks      | elapsed:   13.8s\n",
      "[Parallel(n_jobs=93)]: Done 1614 tasks      | elapsed:   18.4s\n",
      "[Parallel(n_jobs=93)]: Done 2264 tasks      | elapsed:   23.7s\n",
      "[Parallel(n_jobs=93)]: Done 3014 tasks      | elapsed:   29.9s\n",
      "[Parallel(n_jobs=93)]: Done 3864 tasks      | elapsed:   37.2s\n",
      "[Parallel(n_jobs=93)]: Done 4814 tasks      | elapsed:   44.9s\n",
      "[Parallel(n_jobs=93)]: Done 5864 tasks      | elapsed:   53.7s\n",
      "[Parallel(n_jobs=93)]: Done 7014 tasks      | elapsed:  1.1min\n",
      "[Parallel(n_jobs=93)]: Done 8264 tasks      | elapsed:  1.2min\n",
      "[Parallel(n_jobs=93)]: Done 9614 tasks      | elapsed:  1.4min\n",
      "[Parallel(n_jobs=93)]: Done 11103 out of 11103 | elapsed:  1.7min finished\n",
      "... storing 'memento_group' as categorical\n"
     ]
    },
    {
     "name": "stdout",
     "output_type": "stream",
     "text": [
      "starting 3 beta\n"
     ]
    },
    {
     "name": "stderr",
     "output_type": "stream",
     "text": [
      "/home/ssm-user/anaconda3/envs/single_cell/lib/python3.8/site-packages/pandas/core/arrays/categorical.py:2487: FutureWarning: The `inplace` parameter in pandas.Categorical.remove_unused_categories is deprecated and will be removed in a future version.\n",
      "  res = method(*args, **kwargs)\n",
      "[Parallel(n_jobs=93)]: Using backend LokyBackend with 93 concurrent workers.\n",
      "[Parallel(n_jobs=93)]: Done  14 tasks      | elapsed:    0.5s\n",
      "[Parallel(n_jobs=93)]: Done 264 tasks      | elapsed:    2.1s\n",
      "[Parallel(n_jobs=93)]: Done 614 tasks      | elapsed:    4.5s\n",
      "[Parallel(n_jobs=93)]: Done 1064 tasks      | elapsed:    7.6s\n",
      "[Parallel(n_jobs=93)]: Done 1614 tasks      | elapsed:   11.4s\n",
      "[Parallel(n_jobs=93)]: Done 2264 tasks      | elapsed:   15.6s\n",
      "[Parallel(n_jobs=93)]: Done 3014 tasks      | elapsed:   20.8s\n",
      "[Parallel(n_jobs=93)]: Done 3864 tasks      | elapsed:   26.6s\n",
      "[Parallel(n_jobs=93)]: Done 4814 tasks      | elapsed:   33.0s\n",
      "[Parallel(n_jobs=93)]: Done 5864 tasks      | elapsed:   40.1s\n",
      "[Parallel(n_jobs=93)]: Done 7014 tasks      | elapsed:   48.1s\n",
      "[Parallel(n_jobs=93)]: Done 8264 tasks      | elapsed:   56.6s\n",
      "[Parallel(n_jobs=93)]: Done 9614 tasks      | elapsed:  1.1min\n",
      "[Parallel(n_jobs=93)]: Done 11114 out of 11114 | elapsed:  1.3min finished\n",
      "... storing 'memento_group' as categorical\n"
     ]
    },
    {
     "name": "stdout",
     "output_type": "stream",
     "text": [
      "starting 3 gamma\n"
     ]
    },
    {
     "name": "stderr",
     "output_type": "stream",
     "text": [
      "/home/ssm-user/anaconda3/envs/single_cell/lib/python3.8/site-packages/pandas/core/arrays/categorical.py:2487: FutureWarning: The `inplace` parameter in pandas.Categorical.remove_unused_categories is deprecated and will be removed in a future version.\n",
      "  res = method(*args, **kwargs)\n",
      "[Parallel(n_jobs=93)]: Using backend LokyBackend with 93 concurrent workers.\n",
      "[Parallel(n_jobs=93)]: Done  14 tasks      | elapsed:    0.5s\n",
      "[Parallel(n_jobs=93)]: Done 264 tasks      | elapsed:    2.7s\n",
      "[Parallel(n_jobs=93)]: Done 614 tasks      | elapsed:    5.7s\n",
      "[Parallel(n_jobs=93)]: Done 1064 tasks      | elapsed:    9.6s\n",
      "[Parallel(n_jobs=93)]: Done 1614 tasks      | elapsed:   14.2s\n",
      "[Parallel(n_jobs=93)]: Done 2264 tasks      | elapsed:   19.3s\n",
      "[Parallel(n_jobs=93)]: Done 3014 tasks      | elapsed:   25.5s\n",
      "[Parallel(n_jobs=93)]: Done 3864 tasks      | elapsed:   32.8s\n",
      "[Parallel(n_jobs=93)]: Done 4814 tasks      | elapsed:   40.4s\n",
      "[Parallel(n_jobs=93)]: Done 5864 tasks      | elapsed:   48.9s\n",
      "[Parallel(n_jobs=93)]: Done 7014 tasks      | elapsed:   58.8s\n",
      "[Parallel(n_jobs=93)]: Done 8264 tasks      | elapsed:  1.1min\n",
      "[Parallel(n_jobs=93)]: Done 9614 tasks      | elapsed:  1.3min\n",
      "[Parallel(n_jobs=93)]: Done 11112 out of 11112 | elapsed:  1.6min finished\n",
      "... storing 'memento_group' as categorical\n"
     ]
    },
    {
     "name": "stdout",
     "output_type": "stream",
     "text": [
      "starting 3 lambda\n"
     ]
    },
    {
     "name": "stderr",
     "output_type": "stream",
     "text": [
      "/home/ssm-user/anaconda3/envs/single_cell/lib/python3.8/site-packages/pandas/core/arrays/categorical.py:2487: FutureWarning: The `inplace` parameter in pandas.Categorical.remove_unused_categories is deprecated and will be removed in a future version.\n",
      "  res = method(*args, **kwargs)\n",
      "[Parallel(n_jobs=93)]: Using backend LokyBackend with 93 concurrent workers.\n",
      "[Parallel(n_jobs=93)]: Done  14 tasks      | elapsed:    0.5s\n",
      "[Parallel(n_jobs=93)]: Done 264 tasks      | elapsed:    2.2s\n",
      "[Parallel(n_jobs=93)]: Done 614 tasks      | elapsed:    4.7s\n",
      "[Parallel(n_jobs=93)]: Done 1064 tasks      | elapsed:    8.0s\n",
      "[Parallel(n_jobs=93)]: Done 1614 tasks      | elapsed:   12.0s\n",
      "[Parallel(n_jobs=93)]: Done 2264 tasks      | elapsed:   16.4s\n",
      "[Parallel(n_jobs=93)]: Done 3014 tasks      | elapsed:   21.6s\n",
      "[Parallel(n_jobs=93)]: Done 3864 tasks      | elapsed:   27.7s\n",
      "[Parallel(n_jobs=93)]: Done 4814 tasks      | elapsed:   34.2s\n",
      "[Parallel(n_jobs=93)]: Done 5864 tasks      | elapsed:   41.6s\n",
      "[Parallel(n_jobs=93)]: Done 7014 tasks      | elapsed:   49.9s\n",
      "[Parallel(n_jobs=93)]: Done 8264 tasks      | elapsed:   58.7s\n",
      "[Parallel(n_jobs=93)]: Done 9614 tasks      | elapsed:  1.1min\n",
      "[Parallel(n_jobs=93)]: Done 11248 out of 11248 | elapsed:  1.4min finished\n",
      "... storing 'memento_group' as categorical\n"
     ]
    },
    {
     "name": "stdout",
     "output_type": "stream",
     "text": [
      "starting 6 alpha\n"
     ]
    },
    {
     "name": "stderr",
     "output_type": "stream",
     "text": [
      "/home/ssm-user/anaconda3/envs/single_cell/lib/python3.8/site-packages/pandas/core/arrays/categorical.py:2487: FutureWarning: The `inplace` parameter in pandas.Categorical.remove_unused_categories is deprecated and will be removed in a future version.\n",
      "  res = method(*args, **kwargs)\n",
      "[Parallel(n_jobs=93)]: Using backend LokyBackend with 93 concurrent workers.\n",
      "[Parallel(n_jobs=93)]: Done  14 tasks      | elapsed:    0.6s\n",
      "[Parallel(n_jobs=93)]: Done 264 tasks      | elapsed:    2.9s\n",
      "[Parallel(n_jobs=93)]: Done 614 tasks      | elapsed:    6.0s\n",
      "[Parallel(n_jobs=93)]: Done 1064 tasks      | elapsed:   10.0s\n",
      "[Parallel(n_jobs=93)]: Done 1614 tasks      | elapsed:   14.9s\n",
      "[Parallel(n_jobs=93)]: Done 2264 tasks      | elapsed:   20.5s\n",
      "[Parallel(n_jobs=93)]: Done 3014 tasks      | elapsed:   27.0s\n",
      "[Parallel(n_jobs=93)]: Done 3864 tasks      | elapsed:   34.6s\n",
      "[Parallel(n_jobs=93)]: Done 4814 tasks      | elapsed:   42.8s\n",
      "[Parallel(n_jobs=93)]: Done 5864 tasks      | elapsed:   52.1s\n",
      "[Parallel(n_jobs=93)]: Done 7014 tasks      | elapsed:  1.0min\n",
      "[Parallel(n_jobs=93)]: Done 8264 tasks      | elapsed:  1.2min\n",
      "[Parallel(n_jobs=93)]: Done 9614 tasks      | elapsed:  1.4min\n",
      "[Parallel(n_jobs=93)]: Done 11049 out of 11049 | elapsed:  1.7min finished\n",
      "... storing 'memento_group' as categorical\n"
     ]
    },
    {
     "name": "stdout",
     "output_type": "stream",
     "text": [
      "starting 6 beta\n"
     ]
    },
    {
     "name": "stderr",
     "output_type": "stream",
     "text": [
      "/home/ssm-user/anaconda3/envs/single_cell/lib/python3.8/site-packages/pandas/core/arrays/categorical.py:2487: FutureWarning: The `inplace` parameter in pandas.Categorical.remove_unused_categories is deprecated and will be removed in a future version.\n",
      "  res = method(*args, **kwargs)\n",
      "[Parallel(n_jobs=93)]: Using backend LokyBackend with 93 concurrent workers.\n",
      "[Parallel(n_jobs=93)]: Done  14 tasks      | elapsed:    0.6s\n",
      "[Parallel(n_jobs=93)]: Done 264 tasks      | elapsed:    3.0s\n",
      "[Parallel(n_jobs=93)]: Done 614 tasks      | elapsed:    6.3s\n",
      "[Parallel(n_jobs=93)]: Done 1064 tasks      | elapsed:   10.7s\n",
      "[Parallel(n_jobs=93)]: Done 1614 tasks      | elapsed:   15.9s\n",
      "[Parallel(n_jobs=93)]: Done 2264 tasks      | elapsed:   21.9s\n",
      "[Parallel(n_jobs=93)]: Done 3014 tasks      | elapsed:   28.9s\n",
      "[Parallel(n_jobs=93)]: Done 3864 tasks      | elapsed:   37.1s\n",
      "[Parallel(n_jobs=93)]: Done 4814 tasks      | elapsed:   45.8s\n",
      "[Parallel(n_jobs=93)]: Done 5864 tasks      | elapsed:   55.8s\n",
      "[Parallel(n_jobs=93)]: Done 7014 tasks      | elapsed:  1.1min\n",
      "[Parallel(n_jobs=93)]: Done 8264 tasks      | elapsed:  1.3min\n",
      "[Parallel(n_jobs=93)]: Done 9614 tasks      | elapsed:  1.5min\n",
      "[Parallel(n_jobs=93)]: Done 11165 out of 11165 | elapsed:  1.8min finished\n",
      "... storing 'memento_group' as categorical\n"
     ]
    },
    {
     "name": "stdout",
     "output_type": "stream",
     "text": [
      "starting 6 gamma\n"
     ]
    },
    {
     "name": "stderr",
     "output_type": "stream",
     "text": [
      "/home/ssm-user/anaconda3/envs/single_cell/lib/python3.8/site-packages/pandas/core/arrays/categorical.py:2487: FutureWarning: The `inplace` parameter in pandas.Categorical.remove_unused_categories is deprecated and will be removed in a future version.\n",
      "  res = method(*args, **kwargs)\n",
      "[Parallel(n_jobs=93)]: Using backend LokyBackend with 93 concurrent workers.\n",
      "[Parallel(n_jobs=93)]: Done  14 tasks      | elapsed:    0.6s\n",
      "[Parallel(n_jobs=93)]: Done 264 tasks      | elapsed:    2.7s\n",
      "[Parallel(n_jobs=93)]: Done 614 tasks      | elapsed:    6.0s\n",
      "[Parallel(n_jobs=93)]: Done 1064 tasks      | elapsed:   10.2s\n",
      "[Parallel(n_jobs=93)]: Done 1614 tasks      | elapsed:   15.0s\n",
      "[Parallel(n_jobs=93)]: Done 2264 tasks      | elapsed:   20.6s\n",
      "[Parallel(n_jobs=93)]: Done 3014 tasks      | elapsed:   27.2s\n",
      "[Parallel(n_jobs=93)]: Done 3864 tasks      | elapsed:   34.9s\n",
      "[Parallel(n_jobs=93)]: Done 4814 tasks      | elapsed:   43.1s\n",
      "[Parallel(n_jobs=93)]: Done 5864 tasks      | elapsed:   52.2s\n",
      "[Parallel(n_jobs=93)]: Done 7014 tasks      | elapsed:  1.0min\n",
      "[Parallel(n_jobs=93)]: Done 8264 tasks      | elapsed:  1.2min\n",
      "[Parallel(n_jobs=93)]: Done 9614 tasks      | elapsed:  1.4min\n",
      "[Parallel(n_jobs=93)]: Done 11148 out of 11148 | elapsed:  1.7min finished\n",
      "... storing 'memento_group' as categorical\n"
     ]
    },
    {
     "name": "stdout",
     "output_type": "stream",
     "text": [
      "starting 6 lambda\n"
     ]
    },
    {
     "name": "stderr",
     "output_type": "stream",
     "text": [
      "/home/ssm-user/anaconda3/envs/single_cell/lib/python3.8/site-packages/pandas/core/arrays/categorical.py:2487: FutureWarning: The `inplace` parameter in pandas.Categorical.remove_unused_categories is deprecated and will be removed in a future version.\n",
      "  res = method(*args, **kwargs)\n",
      "[Parallel(n_jobs=93)]: Using backend LokyBackend with 93 concurrent workers.\n",
      "[Parallel(n_jobs=93)]: Done  14 tasks      | elapsed:    0.6s\n",
      "[Parallel(n_jobs=93)]: Done 264 tasks      | elapsed:    3.1s\n",
      "[Parallel(n_jobs=93)]: Done 614 tasks      | elapsed:    6.7s\n",
      "[Parallel(n_jobs=93)]: Done 1064 tasks      | elapsed:   11.4s\n",
      "[Parallel(n_jobs=93)]: Done 1614 tasks      | elapsed:   17.0s\n",
      "[Parallel(n_jobs=93)]: Done 2264 tasks      | elapsed:   23.3s\n",
      "[Parallel(n_jobs=93)]: Done 3014 tasks      | elapsed:   30.7s\n",
      "[Parallel(n_jobs=93)]: Done 3864 tasks      | elapsed:   39.3s\n",
      "[Parallel(n_jobs=93)]: Done 4814 tasks      | elapsed:   48.6s\n",
      "[Parallel(n_jobs=93)]: Done 5864 tasks      | elapsed:   58.9s\n",
      "[Parallel(n_jobs=93)]: Done 7014 tasks      | elapsed:  1.2min\n",
      "[Parallel(n_jobs=93)]: Done 8264 tasks      | elapsed:  1.4min\n",
      "[Parallel(n_jobs=93)]: Done 9614 tasks      | elapsed:  1.6min\n",
      "[Parallel(n_jobs=93)]: Done 11191 out of 11191 | elapsed:  1.9min finished\n",
      "... storing 'memento_group' as categorical\n"
     ]
    },
    {
     "name": "stdout",
     "output_type": "stream",
     "text": [
      "starting 9 alpha\n"
     ]
    },
    {
     "name": "stderr",
     "output_type": "stream",
     "text": [
      "/home/ssm-user/anaconda3/envs/single_cell/lib/python3.8/site-packages/pandas/core/arrays/categorical.py:2487: FutureWarning: The `inplace` parameter in pandas.Categorical.remove_unused_categories is deprecated and will be removed in a future version.\n",
      "  res = method(*args, **kwargs)\n",
      "[Parallel(n_jobs=93)]: Using backend LokyBackend with 93 concurrent workers.\n",
      "[Parallel(n_jobs=93)]: Done  14 tasks      | elapsed:    0.6s\n",
      "[Parallel(n_jobs=93)]: Done 264 tasks      | elapsed:    2.8s\n",
      "[Parallel(n_jobs=93)]: Done 614 tasks      | elapsed:    5.9s\n",
      "[Parallel(n_jobs=93)]: Done 1064 tasks      | elapsed:   10.0s\n",
      "[Parallel(n_jobs=93)]: Done 1614 tasks      | elapsed:   14.8s\n",
      "[Parallel(n_jobs=93)]: Done 2264 tasks      | elapsed:   20.4s\n",
      "[Parallel(n_jobs=93)]: Done 3014 tasks      | elapsed:   27.0s\n",
      "[Parallel(n_jobs=93)]: Done 3864 tasks      | elapsed:   34.7s\n",
      "[Parallel(n_jobs=93)]: Done 4814 tasks      | elapsed:   42.9s\n",
      "[Parallel(n_jobs=93)]: Done 5864 tasks      | elapsed:   52.3s\n",
      "[Parallel(n_jobs=93)]: Done 7014 tasks      | elapsed:  1.0min\n",
      "[Parallel(n_jobs=93)]: Done 8264 tasks      | elapsed:  1.2min\n",
      "[Parallel(n_jobs=93)]: Done 9614 tasks      | elapsed:  1.4min\n",
      "[Parallel(n_jobs=93)]: Done 11077 out of 11077 | elapsed:  1.7min finished\n",
      "... storing 'memento_group' as categorical\n"
     ]
    },
    {
     "name": "stdout",
     "output_type": "stream",
     "text": [
      "starting 9 beta\n"
     ]
    },
    {
     "name": "stderr",
     "output_type": "stream",
     "text": [
      "/home/ssm-user/anaconda3/envs/single_cell/lib/python3.8/site-packages/pandas/core/arrays/categorical.py:2487: FutureWarning: The `inplace` parameter in pandas.Categorical.remove_unused_categories is deprecated and will be removed in a future version.\n",
      "  res = method(*args, **kwargs)\n",
      "[Parallel(n_jobs=93)]: Using backend LokyBackend with 93 concurrent workers.\n",
      "[Parallel(n_jobs=93)]: Done  14 tasks      | elapsed:    0.6s\n",
      "[Parallel(n_jobs=93)]: Done 264 tasks      | elapsed:    2.8s\n",
      "[Parallel(n_jobs=93)]: Done 614 tasks      | elapsed:    6.0s\n",
      "[Parallel(n_jobs=93)]: Done 1064 tasks      | elapsed:   10.3s\n",
      "[Parallel(n_jobs=93)]: Done 1614 tasks      | elapsed:   15.2s\n",
      "[Parallel(n_jobs=93)]: Done 2264 tasks      | elapsed:   20.8s\n",
      "[Parallel(n_jobs=93)]: Done 3014 tasks      | elapsed:   27.6s\n",
      "[Parallel(n_jobs=93)]: Done 3864 tasks      | elapsed:   35.3s\n",
      "[Parallel(n_jobs=93)]: Done 4814 tasks      | elapsed:   43.6s\n",
      "[Parallel(n_jobs=93)]: Done 5864 tasks      | elapsed:   52.9s\n",
      "[Parallel(n_jobs=93)]: Done 7014 tasks      | elapsed:  1.1min\n",
      "[Parallel(n_jobs=93)]: Done 8264 tasks      | elapsed:  1.2min\n",
      "[Parallel(n_jobs=93)]: Done 9614 tasks      | elapsed:  1.5min\n",
      "[Parallel(n_jobs=93)]: Done 11167 out of 11167 | elapsed:  1.8min finished\n",
      "... storing 'memento_group' as categorical\n"
     ]
    },
    {
     "name": "stdout",
     "output_type": "stream",
     "text": [
      "starting 9 gamma\n"
     ]
    },
    {
     "name": "stderr",
     "output_type": "stream",
     "text": [
      "/home/ssm-user/anaconda3/envs/single_cell/lib/python3.8/site-packages/pandas/core/arrays/categorical.py:2487: FutureWarning: The `inplace` parameter in pandas.Categorical.remove_unused_categories is deprecated and will be removed in a future version.\n",
      "  res = method(*args, **kwargs)\n",
      "[Parallel(n_jobs=93)]: Using backend LokyBackend with 93 concurrent workers.\n",
      "[Parallel(n_jobs=93)]: Done  14 tasks      | elapsed:    0.7s\n",
      "[Parallel(n_jobs=93)]: Done 264 tasks      | elapsed:    3.8s\n",
      "[Parallel(n_jobs=93)]: Done 614 tasks      | elapsed:    8.3s\n",
      "[Parallel(n_jobs=93)]: Done 1064 tasks      | elapsed:   14.2s\n",
      "[Parallel(n_jobs=93)]: Done 1614 tasks      | elapsed:   21.1s\n",
      "[Parallel(n_jobs=93)]: Done 2264 tasks      | elapsed:   29.0s\n",
      "[Parallel(n_jobs=93)]: Done 3014 tasks      | elapsed:   38.5s\n",
      "[Parallel(n_jobs=93)]: Done 3864 tasks      | elapsed:   49.4s\n",
      "[Parallel(n_jobs=93)]: Done 4814 tasks      | elapsed:  1.0min\n",
      "[Parallel(n_jobs=93)]: Done 5864 tasks      | elapsed:  1.2min\n",
      "[Parallel(n_jobs=93)]: Done 7014 tasks      | elapsed:  1.5min\n",
      "[Parallel(n_jobs=93)]: Done 8264 tasks      | elapsed:  1.7min\n",
      "[Parallel(n_jobs=93)]: Done 9614 tasks      | elapsed:  2.0min\n",
      "[Parallel(n_jobs=93)]: Done 11222 out of 11222 | elapsed:  2.5min finished\n",
      "... storing 'memento_group' as categorical\n"
     ]
    },
    {
     "name": "stdout",
     "output_type": "stream",
     "text": [
      "starting 9 lambda\n"
     ]
    },
    {
     "name": "stderr",
     "output_type": "stream",
     "text": [
      "/home/ssm-user/anaconda3/envs/single_cell/lib/python3.8/site-packages/pandas/core/arrays/categorical.py:2487: FutureWarning: The `inplace` parameter in pandas.Categorical.remove_unused_categories is deprecated and will be removed in a future version.\n",
      "  res = method(*args, **kwargs)\n",
      "[Parallel(n_jobs=93)]: Using backend LokyBackend with 93 concurrent workers.\n",
      "[Parallel(n_jobs=93)]: Done  14 tasks      | elapsed:    0.6s\n",
      "[Parallel(n_jobs=93)]: Done 264 tasks      | elapsed:    2.6s\n",
      "[Parallel(n_jobs=93)]: Done 614 tasks      | elapsed:    5.6s\n",
      "[Parallel(n_jobs=93)]: Done 1064 tasks      | elapsed:    9.5s\n",
      "[Parallel(n_jobs=93)]: Done 1614 tasks      | elapsed:   14.0s\n",
      "[Parallel(n_jobs=93)]: Done 2264 tasks      | elapsed:   19.4s\n",
      "[Parallel(n_jobs=93)]: Done 3014 tasks      | elapsed:   25.8s\n",
      "[Parallel(n_jobs=93)]: Done 3864 tasks      | elapsed:   32.9s\n",
      "[Parallel(n_jobs=93)]: Done 4814 tasks      | elapsed:   40.8s\n",
      "[Parallel(n_jobs=93)]: Done 5864 tasks      | elapsed:   49.4s\n",
      "[Parallel(n_jobs=93)]: Done 7014 tasks      | elapsed:   59.4s\n",
      "[Parallel(n_jobs=93)]: Done 8264 tasks      | elapsed:  1.2min\n",
      "[Parallel(n_jobs=93)]: Done 9614 tasks      | elapsed:  1.4min\n",
      "[Parallel(n_jobs=93)]: Done 11226 out of 11226 | elapsed:  1.6min finished\n",
      "... storing 'memento_group' as categorical\n"
     ]
    },
    {
     "name": "stdout",
     "output_type": "stream",
     "text": [
      "starting 24 alpha\n"
     ]
    },
    {
     "name": "stderr",
     "output_type": "stream",
     "text": [
      "/home/ssm-user/anaconda3/envs/single_cell/lib/python3.8/site-packages/pandas/core/arrays/categorical.py:2487: FutureWarning: The `inplace` parameter in pandas.Categorical.remove_unused_categories is deprecated and will be removed in a future version.\n",
      "  res = method(*args, **kwargs)\n",
      "[Parallel(n_jobs=93)]: Using backend LokyBackend with 93 concurrent workers.\n",
      "[Parallel(n_jobs=93)]: Done  14 tasks      | elapsed:    0.6s\n",
      "[Parallel(n_jobs=93)]: Done 264 tasks      | elapsed:    3.0s\n",
      "[Parallel(n_jobs=93)]: Done 614 tasks      | elapsed:    6.0s\n",
      "[Parallel(n_jobs=93)]: Done 1064 tasks      | elapsed:   10.2s\n",
      "[Parallel(n_jobs=93)]: Done 1614 tasks      | elapsed:   15.1s\n",
      "[Parallel(n_jobs=93)]: Done 2264 tasks      | elapsed:   20.9s\n",
      "[Parallel(n_jobs=93)]: Done 3014 tasks      | elapsed:   27.6s\n",
      "[Parallel(n_jobs=93)]: Done 3864 tasks      | elapsed:   35.3s\n",
      "[Parallel(n_jobs=93)]: Done 4814 tasks      | elapsed:   43.7s\n",
      "[Parallel(n_jobs=93)]: Done 5864 tasks      | elapsed:   53.0s\n",
      "[Parallel(n_jobs=93)]: Done 7014 tasks      | elapsed:  1.1min\n",
      "[Parallel(n_jobs=93)]: Done 8264 tasks      | elapsed:  1.3min\n",
      "[Parallel(n_jobs=93)]: Done 9614 tasks      | elapsed:  1.5min\n",
      "[Parallel(n_jobs=93)]: Done 11127 out of 11127 | elapsed:  1.7min finished\n",
      "... storing 'memento_group' as categorical\n"
     ]
    },
    {
     "name": "stdout",
     "output_type": "stream",
     "text": [
      "starting 24 beta\n"
     ]
    },
    {
     "name": "stderr",
     "output_type": "stream",
     "text": [
      "/home/ssm-user/anaconda3/envs/single_cell/lib/python3.8/site-packages/pandas/core/arrays/categorical.py:2487: FutureWarning: The `inplace` parameter in pandas.Categorical.remove_unused_categories is deprecated and will be removed in a future version.\n",
      "  res = method(*args, **kwargs)\n",
      "[Parallel(n_jobs=93)]: Using backend LokyBackend with 93 concurrent workers.\n",
      "[Parallel(n_jobs=93)]: Done  14 tasks      | elapsed:    0.6s\n",
      "[Parallel(n_jobs=93)]: Done 264 tasks      | elapsed:    3.2s\n",
      "[Parallel(n_jobs=93)]: Done 614 tasks      | elapsed:    6.9s\n",
      "[Parallel(n_jobs=93)]: Done 1064 tasks      | elapsed:   11.8s\n",
      "[Parallel(n_jobs=93)]: Done 1614 tasks      | elapsed:   17.5s\n",
      "[Parallel(n_jobs=93)]: Done 2264 tasks      | elapsed:   24.0s\n",
      "[Parallel(n_jobs=93)]: Done 3014 tasks      | elapsed:   31.8s\n",
      "[Parallel(n_jobs=93)]: Done 3864 tasks      | elapsed:   40.6s\n",
      "[Parallel(n_jobs=93)]: Done 4814 tasks      | elapsed:   50.3s\n",
      "[Parallel(n_jobs=93)]: Done 5864 tasks      | elapsed:  1.0min\n",
      "[Parallel(n_jobs=93)]: Done 7014 tasks      | elapsed:  1.2min\n",
      "[Parallel(n_jobs=93)]: Done 8264 tasks      | elapsed:  1.4min\n",
      "[Parallel(n_jobs=93)]: Done 9614 tasks      | elapsed:  1.7min\n",
      "[Parallel(n_jobs=93)]: Done 11241 out of 11241 | elapsed:  2.0min finished\n",
      "... storing 'memento_group' as categorical\n"
     ]
    },
    {
     "name": "stdout",
     "output_type": "stream",
     "text": [
      "starting 24 gamma\n"
     ]
    },
    {
     "name": "stderr",
     "output_type": "stream",
     "text": [
      "/home/ssm-user/anaconda3/envs/single_cell/lib/python3.8/site-packages/pandas/core/arrays/categorical.py:2487: FutureWarning: The `inplace` parameter in pandas.Categorical.remove_unused_categories is deprecated and will be removed in a future version.\n",
      "  res = method(*args, **kwargs)\n",
      "[Parallel(n_jobs=93)]: Using backend LokyBackend with 93 concurrent workers.\n",
      "[Parallel(n_jobs=93)]: Done  14 tasks      | elapsed:    0.6s\n",
      "[Parallel(n_jobs=93)]: Done 264 tasks      | elapsed:    3.0s\n",
      "[Parallel(n_jobs=93)]: Done 614 tasks      | elapsed:    6.5s\n",
      "[Parallel(n_jobs=93)]: Done 1064 tasks      | elapsed:   11.1s\n",
      "[Parallel(n_jobs=93)]: Done 1614 tasks      | elapsed:   16.5s\n",
      "[Parallel(n_jobs=93)]: Done 2264 tasks      | elapsed:   22.7s\n",
      "[Parallel(n_jobs=93)]: Done 3014 tasks      | elapsed:   30.0s\n",
      "[Parallel(n_jobs=93)]: Done 3864 tasks      | elapsed:   38.5s\n",
      "[Parallel(n_jobs=93)]: Done 4814 tasks      | elapsed:   47.7s\n",
      "[Parallel(n_jobs=93)]: Done 5864 tasks      | elapsed:   58.0s\n",
      "[Parallel(n_jobs=93)]: Done 7014 tasks      | elapsed:  1.2min\n",
      "[Parallel(n_jobs=93)]: Done 8264 tasks      | elapsed:  1.4min\n",
      "[Parallel(n_jobs=93)]: Done 9614 tasks      | elapsed:  1.6min\n",
      "[Parallel(n_jobs=93)]: Done 11064 tasks      | elapsed:  1.8min\n",
      "[Parallel(n_jobs=93)]: Done 11254 out of 11254 | elapsed:  1.9min finished\n",
      "... storing 'memento_group' as categorical\n"
     ]
    },
    {
     "name": "stdout",
     "output_type": "stream",
     "text": [
      "starting 24 lambda\n"
     ]
    },
    {
     "name": "stderr",
     "output_type": "stream",
     "text": [
      "/home/ssm-user/anaconda3/envs/single_cell/lib/python3.8/site-packages/pandas/core/arrays/categorical.py:2487: FutureWarning: The `inplace` parameter in pandas.Categorical.remove_unused_categories is deprecated and will be removed in a future version.\n",
      "  res = method(*args, **kwargs)\n",
      "[Parallel(n_jobs=93)]: Using backend LokyBackend with 93 concurrent workers.\n",
      "[Parallel(n_jobs=93)]: Done  14 tasks      | elapsed:    0.6s\n",
      "[Parallel(n_jobs=93)]: Done 264 tasks      | elapsed:    3.0s\n",
      "[Parallel(n_jobs=93)]: Done 614 tasks      | elapsed:    6.4s\n",
      "[Parallel(n_jobs=93)]: Done 1064 tasks      | elapsed:   10.9s\n",
      "[Parallel(n_jobs=93)]: Done 1614 tasks      | elapsed:   16.1s\n",
      "[Parallel(n_jobs=93)]: Done 2264 tasks      | elapsed:   22.1s\n",
      "[Parallel(n_jobs=93)]: Done 3014 tasks      | elapsed:   29.3s\n",
      "[Parallel(n_jobs=93)]: Done 3864 tasks      | elapsed:   37.4s\n",
      "[Parallel(n_jobs=93)]: Done 4814 tasks      | elapsed:   46.2s\n",
      "[Parallel(n_jobs=93)]: Done 5864 tasks      | elapsed:   56.2s\n",
      "[Parallel(n_jobs=93)]: Done 7014 tasks      | elapsed:  1.1min\n",
      "[Parallel(n_jobs=93)]: Done 8264 tasks      | elapsed:  1.3min\n",
      "[Parallel(n_jobs=93)]: Done 9614 tasks      | elapsed:  1.5min\n",
      "[Parallel(n_jobs=93)]: Done 11064 tasks      | elapsed:  1.8min\n",
      "[Parallel(n_jobs=93)]: Done 11259 out of 11259 | elapsed:  1.8min finished\n",
      "... storing 'memento_group' as categorical\n"
     ]
    },
    {
     "name": "stdout",
     "output_type": "stream",
     "text": [
      "starting 48 alpha\n"
     ]
    },
    {
     "name": "stderr",
     "output_type": "stream",
     "text": [
      "/home/ssm-user/anaconda3/envs/single_cell/lib/python3.8/site-packages/pandas/core/arrays/categorical.py:2487: FutureWarning: The `inplace` parameter in pandas.Categorical.remove_unused_categories is deprecated and will be removed in a future version.\n",
      "  res = method(*args, **kwargs)\n",
      "[Parallel(n_jobs=93)]: Using backend LokyBackend with 93 concurrent workers.\n",
      "[Parallel(n_jobs=93)]: Done  14 tasks      | elapsed:    0.6s\n",
      "[Parallel(n_jobs=93)]: Done 264 tasks      | elapsed:    2.9s\n",
      "[Parallel(n_jobs=93)]: Done 614 tasks      | elapsed:    6.2s\n",
      "[Parallel(n_jobs=93)]: Done 1064 tasks      | elapsed:   10.4s\n",
      "[Parallel(n_jobs=93)]: Done 1614 tasks      | elapsed:   15.5s\n",
      "[Parallel(n_jobs=93)]: Done 2264 tasks      | elapsed:   21.3s\n",
      "[Parallel(n_jobs=93)]: Done 3014 tasks      | elapsed:   28.3s\n",
      "[Parallel(n_jobs=93)]: Done 3864 tasks      | elapsed:   36.2s\n",
      "[Parallel(n_jobs=93)]: Done 4814 tasks      | elapsed:   44.7s\n",
      "[Parallel(n_jobs=93)]: Done 5864 tasks      | elapsed:   54.4s\n",
      "[Parallel(n_jobs=93)]: Done 7014 tasks      | elapsed:  1.1min\n",
      "[Parallel(n_jobs=93)]: Done 8264 tasks      | elapsed:  1.3min\n",
      "[Parallel(n_jobs=93)]: Done 9614 tasks      | elapsed:  1.5min\n",
      "[Parallel(n_jobs=93)]: Done 11212 out of 11212 | elapsed:  1.8min finished\n",
      "... storing 'memento_group' as categorical\n"
     ]
    },
    {
     "name": "stdout",
     "output_type": "stream",
     "text": [
      "starting 48 beta\n"
     ]
    },
    {
     "name": "stderr",
     "output_type": "stream",
     "text": [
      "/home/ssm-user/anaconda3/envs/single_cell/lib/python3.8/site-packages/pandas/core/arrays/categorical.py:2487: FutureWarning: The `inplace` parameter in pandas.Categorical.remove_unused_categories is deprecated and will be removed in a future version.\n",
      "  res = method(*args, **kwargs)\n",
      "[Parallel(n_jobs=93)]: Using backend LokyBackend with 93 concurrent workers.\n",
      "[Parallel(n_jobs=93)]: Done  14 tasks      | elapsed:    0.5s\n",
      "[Parallel(n_jobs=93)]: Done 264 tasks      | elapsed:    2.6s\n",
      "[Parallel(n_jobs=93)]: Done 614 tasks      | elapsed:    5.7s\n",
      "[Parallel(n_jobs=93)]: Done 1064 tasks      | elapsed:    9.6s\n",
      "[Parallel(n_jobs=93)]: Done 1614 tasks      | elapsed:   14.3s\n",
      "[Parallel(n_jobs=93)]: Done 2264 tasks      | elapsed:   19.7s\n",
      "[Parallel(n_jobs=93)]: Done 3014 tasks      | elapsed:   26.2s\n",
      "[Parallel(n_jobs=93)]: Done 3864 tasks      | elapsed:   33.3s\n",
      "[Parallel(n_jobs=93)]: Done 4814 tasks      | elapsed:   41.3s\n",
      "[Parallel(n_jobs=93)]: Done 5864 tasks      | elapsed:   50.0s\n",
      "[Parallel(n_jobs=93)]: Done 7014 tasks      | elapsed:  1.0min\n",
      "[Parallel(n_jobs=93)]: Done 8264 tasks      | elapsed:  1.2min\n",
      "[Parallel(n_jobs=93)]: Done 9614 tasks      | elapsed:  1.4min\n",
      "[Parallel(n_jobs=93)]: Done 11064 tasks      | elapsed:  1.6min\n",
      "[Parallel(n_jobs=93)]: Done 11331 out of 11331 | elapsed:  1.7min finished\n",
      "... storing 'memento_group' as categorical\n"
     ]
    },
    {
     "name": "stdout",
     "output_type": "stream",
     "text": [
      "starting 48 gamma\n"
     ]
    },
    {
     "name": "stderr",
     "output_type": "stream",
     "text": [
      "/home/ssm-user/anaconda3/envs/single_cell/lib/python3.8/site-packages/pandas/core/arrays/categorical.py:2487: FutureWarning: The `inplace` parameter in pandas.Categorical.remove_unused_categories is deprecated and will be removed in a future version.\n",
      "  res = method(*args, **kwargs)\n",
      "[Parallel(n_jobs=93)]: Using backend LokyBackend with 93 concurrent workers.\n",
      "[Parallel(n_jobs=93)]: Done  14 tasks      | elapsed:    0.6s\n",
      "[Parallel(n_jobs=93)]: Done 264 tasks      | elapsed:    3.2s\n",
      "[Parallel(n_jobs=93)]: Done 614 tasks      | elapsed:    6.8s\n",
      "[Parallel(n_jobs=93)]: Done 1064 tasks      | elapsed:   11.6s\n",
      "[Parallel(n_jobs=93)]: Done 1614 tasks      | elapsed:   17.2s\n",
      "[Parallel(n_jobs=93)]: Done 2264 tasks      | elapsed:   23.6s\n",
      "[Parallel(n_jobs=93)]: Done 3014 tasks      | elapsed:   31.1s\n",
      "[Parallel(n_jobs=93)]: Done 3864 tasks      | elapsed:   39.8s\n",
      "[Parallel(n_jobs=93)]: Done 4814 tasks      | elapsed:   49.3s\n",
      "[Parallel(n_jobs=93)]: Done 5864 tasks      | elapsed:   59.7s\n",
      "[Parallel(n_jobs=93)]: Done 7014 tasks      | elapsed:  1.2min\n",
      "[Parallel(n_jobs=93)]: Done 8264 tasks      | elapsed:  1.4min\n",
      "[Parallel(n_jobs=93)]: Done 9614 tasks      | elapsed:  1.6min\n",
      "[Parallel(n_jobs=93)]: Done 11064 tasks      | elapsed:  1.9min\n",
      "[Parallel(n_jobs=93)]: Done 11312 out of 11312 | elapsed:  2.0min finished\n",
      "... storing 'memento_group' as categorical\n"
     ]
    },
    {
     "name": "stdout",
     "output_type": "stream",
     "text": [
      "starting 48 lambda\n"
     ]
    },
    {
     "name": "stderr",
     "output_type": "stream",
     "text": [
      "/home/ssm-user/anaconda3/envs/single_cell/lib/python3.8/site-packages/pandas/core/arrays/categorical.py:2487: FutureWarning: The `inplace` parameter in pandas.Categorical.remove_unused_categories is deprecated and will be removed in a future version.\n",
      "  res = method(*args, **kwargs)\n",
      "[Parallel(n_jobs=93)]: Using backend LokyBackend with 93 concurrent workers.\n",
      "[Parallel(n_jobs=93)]: Done  14 tasks      | elapsed:    0.6s\n",
      "[Parallel(n_jobs=93)]: Done 264 tasks      | elapsed:    2.8s\n",
      "[Parallel(n_jobs=93)]: Done 614 tasks      | elapsed:    6.0s\n",
      "[Parallel(n_jobs=93)]: Done 1064 tasks      | elapsed:   10.1s\n",
      "[Parallel(n_jobs=93)]: Done 1614 tasks      | elapsed:   15.0s\n",
      "[Parallel(n_jobs=93)]: Done 2264 tasks      | elapsed:   20.7s\n",
      "[Parallel(n_jobs=93)]: Done 3014 tasks      | elapsed:   27.5s\n",
      "[Parallel(n_jobs=93)]: Done 3864 tasks      | elapsed:   35.0s\n",
      "[Parallel(n_jobs=93)]: Done 4814 tasks      | elapsed:   43.3s\n",
      "[Parallel(n_jobs=93)]: Done 5864 tasks      | elapsed:   52.7s\n",
      "[Parallel(n_jobs=93)]: Done 7014 tasks      | elapsed:  1.1min\n",
      "[Parallel(n_jobs=93)]: Done 8264 tasks      | elapsed:  1.2min\n",
      "[Parallel(n_jobs=93)]: Done 9614 tasks      | elapsed:  1.4min\n",
      "[Parallel(n_jobs=93)]: Done 11064 tasks      | elapsed:  1.7min\n",
      "[Parallel(n_jobs=93)]: Done 11253 out of 11253 | elapsed:  1.8min finished\n",
      "... storing 'memento_group' as categorical\n"
     ]
    }
   ],
   "source": [
    "for tp in tps:\n",
    "    for stim in stims:\n",
    "\n",
    "        fname = 'all_ct_{}_{}.h5ad'.format( stim, tp)\n",
    "\n",
    "        if fname in done_files:\n",
    "            print('Skipping', fname)\n",
    "            continue\n",
    "\n",
    "        print('starting', tp, stim)\n",
    "\n",
    "        adata_stim = adata.copy()[\n",
    "            adata.obs.ct.isin(cts) & \\\n",
    "            adata.obs.stim.isin(['control', stim]) & \\\n",
    "            adata.obs.time.isin(['0',tp]), :].copy()\n",
    "        time_converter={0:0, int(tp):1}\n",
    "        adata_stim.obs['time_step'] = adata_stim.obs['time'].astype(int).apply(lambda x: time_converter[x])\n",
    "\n",
    "        memento.create_groups(adata_stim, label_columns=['time_step', 'donor', 'ct'])\n",
    "        memento.compute_1d_moments(adata_stim, min_perc_group=.3)\n",
    "\n",
    "        memento.ht_1d_moments(\n",
    "            adata_stim, \n",
    "            formula_like='1 + time_step + donor + ct',\n",
    "            treatment_col='time_step', \n",
    "            num_boot=10000, \n",
    "            verbose=1,\n",
    "            num_cpus=93,\n",
    "            resampling='permutation',\n",
    "            approx=True)\n",
    "\n",
    "        adata_stim.write(data_path + 'binary_test_latest/all_ct_{}_{}.h5ad'.format(stim, tp))"
   ]
  },
  {
   "cell_type": "markdown",
   "metadata": {},
   "source": [
    "### Run memento going from 3hr to 48 hr, but stratify cell types"
   ]
  },
  {
   "cell_type": "code",
   "execution_count": 13,
   "metadata": {},
   "outputs": [],
   "source": [
    "cts = ['C', 'B', 'BC']\n",
    "tps = ['3', '6', '9', '24', '48']\n",
    "\n",
    "stims = ['alpha', 'beta', 'gamma', 'lambda']"
   ]
  },
  {
   "cell_type": "code",
   "execution_count": 14,
   "metadata": {},
   "outputs": [],
   "source": [
    "import os\n",
    "done_files = os.listdir(data_path + 'binary_test_latest/')"
   ]
  },
  {
   "cell_type": "code",
   "execution_count": 15,
   "metadata": {},
   "outputs": [
    {
     "name": "stdout",
     "output_type": "stream",
     "text": [
      "starting alpha\n"
     ]
    },
    {
     "name": "stderr",
     "output_type": "stream",
     "text": [
      "/home/ssm-user/anaconda3/envs/single_cell/lib/python3.8/site-packages/pandas/core/arrays/categorical.py:2487: FutureWarning: The `inplace` parameter in pandas.Categorical.remove_unused_categories is deprecated and will be removed in a future version.\n",
      "  res = method(*args, **kwargs)\n",
      "[Parallel(n_jobs=93)]: Using backend LokyBackend with 93 concurrent workers.\n",
      "[Parallel(n_jobs=93)]: Done  14 tasks      | elapsed:    0.6s\n",
      "[Parallel(n_jobs=93)]: Done 264 tasks      | elapsed:    3.1s\n",
      "[Parallel(n_jobs=93)]: Done 614 tasks      | elapsed:    6.6s\n",
      "[Parallel(n_jobs=93)]: Done 1064 tasks      | elapsed:   11.3s\n",
      "[Parallel(n_jobs=93)]: Done 1614 tasks      | elapsed:   17.0s\n",
      "[Parallel(n_jobs=93)]: Done 2264 tasks      | elapsed:   23.4s\n",
      "[Parallel(n_jobs=93)]: Done 3014 tasks      | elapsed:   30.8s\n",
      "[Parallel(n_jobs=93)]: Done 3864 tasks      | elapsed:   39.6s\n",
      "[Parallel(n_jobs=93)]: Done 4814 tasks      | elapsed:   49.0s\n",
      "[Parallel(n_jobs=93)]: Done 5864 tasks      | elapsed:   59.5s\n",
      "[Parallel(n_jobs=93)]: Done 7014 tasks      | elapsed:  1.2min\n",
      "[Parallel(n_jobs=93)]: Done 8264 tasks      | elapsed:  1.4min\n",
      "[Parallel(n_jobs=93)]: Done 9614 tasks      | elapsed:  1.6min\n",
      "[Parallel(n_jobs=93)]: Done 11004 out of 11004 | elapsed:  1.9min finished\n",
      "... storing 'memento_group' as categorical\n"
     ]
    },
    {
     "name": "stdout",
     "output_type": "stream",
     "text": [
      "starting beta\n"
     ]
    },
    {
     "name": "stderr",
     "output_type": "stream",
     "text": [
      "/home/ssm-user/anaconda3/envs/single_cell/lib/python3.8/site-packages/pandas/core/arrays/categorical.py:2487: FutureWarning: The `inplace` parameter in pandas.Categorical.remove_unused_categories is deprecated and will be removed in a future version.\n",
      "  res = method(*args, **kwargs)\n",
      "[Parallel(n_jobs=93)]: Using backend LokyBackend with 93 concurrent workers.\n",
      "[Parallel(n_jobs=93)]: Done  14 tasks      | elapsed:    0.5s\n",
      "[Parallel(n_jobs=93)]: Done 264 tasks      | elapsed:    2.7s\n",
      "[Parallel(n_jobs=93)]: Done 614 tasks      | elapsed:    5.9s\n",
      "[Parallel(n_jobs=93)]: Done 1064 tasks      | elapsed:   10.1s\n",
      "[Parallel(n_jobs=93)]: Done 1614 tasks      | elapsed:   15.0s\n",
      "[Parallel(n_jobs=93)]: Done 2264 tasks      | elapsed:   20.3s\n",
      "[Parallel(n_jobs=93)]: Done 3014 tasks      | elapsed:   26.8s\n",
      "[Parallel(n_jobs=93)]: Done 3864 tasks      | elapsed:   34.1s\n",
      "[Parallel(n_jobs=93)]: Done 4814 tasks      | elapsed:   42.0s\n",
      "[Parallel(n_jobs=93)]: Done 5864 tasks      | elapsed:   51.2s\n",
      "[Parallel(n_jobs=93)]: Done 7014 tasks      | elapsed:  1.0min\n",
      "[Parallel(n_jobs=93)]: Done 8264 tasks      | elapsed:  1.2min\n",
      "[Parallel(n_jobs=93)]: Done 9614 tasks      | elapsed:  1.4min\n",
      "[Parallel(n_jobs=93)]: Done 11103 out of 11103 | elapsed:  1.7min finished\n",
      "... storing 'memento_group' as categorical\n"
     ]
    },
    {
     "name": "stdout",
     "output_type": "stream",
     "text": [
      "starting gamma\n"
     ]
    },
    {
     "name": "stderr",
     "output_type": "stream",
     "text": [
      "/home/ssm-user/anaconda3/envs/single_cell/lib/python3.8/site-packages/pandas/core/arrays/categorical.py:2487: FutureWarning: The `inplace` parameter in pandas.Categorical.remove_unused_categories is deprecated and will be removed in a future version.\n",
      "  res = method(*args, **kwargs)\n",
      "[Parallel(n_jobs=93)]: Using backend LokyBackend with 93 concurrent workers.\n",
      "[Parallel(n_jobs=93)]: Done  14 tasks      | elapsed:    0.6s\n",
      "[Parallel(n_jobs=93)]: Done 264 tasks      | elapsed:    3.2s\n",
      "[Parallel(n_jobs=93)]: Done 614 tasks      | elapsed:    6.9s\n",
      "[Parallel(n_jobs=93)]: Done 1064 tasks      | elapsed:   11.9s\n",
      "[Parallel(n_jobs=93)]: Done 1614 tasks      | elapsed:   17.8s\n",
      "[Parallel(n_jobs=93)]: Done 2264 tasks      | elapsed:   24.4s\n",
      "[Parallel(n_jobs=93)]: Done 3014 tasks      | elapsed:   32.3s\n",
      "[Parallel(n_jobs=93)]: Done 3864 tasks      | elapsed:   41.7s\n",
      "[Parallel(n_jobs=93)]: Done 4814 tasks      | elapsed:   51.4s\n",
      "[Parallel(n_jobs=93)]: Done 5864 tasks      | elapsed:  1.0min\n",
      "[Parallel(n_jobs=93)]: Done 7014 tasks      | elapsed:  1.3min\n",
      "[Parallel(n_jobs=93)]: Done 8264 tasks      | elapsed:  1.5min\n",
      "[Parallel(n_jobs=93)]: Done 9614 tasks      | elapsed:  1.7min\n",
      "[Parallel(n_jobs=93)]: Done 11166 out of 11166 | elapsed:  2.1min finished\n",
      "... storing 'memento_group' as categorical\n"
     ]
    },
    {
     "name": "stdout",
     "output_type": "stream",
     "text": [
      "starting lambda\n"
     ]
    },
    {
     "name": "stderr",
     "output_type": "stream",
     "text": [
      "/home/ssm-user/anaconda3/envs/single_cell/lib/python3.8/site-packages/pandas/core/arrays/categorical.py:2487: FutureWarning: The `inplace` parameter in pandas.Categorical.remove_unused_categories is deprecated and will be removed in a future version.\n",
      "  res = method(*args, **kwargs)\n",
      "[Parallel(n_jobs=93)]: Using backend LokyBackend with 93 concurrent workers.\n",
      "[Parallel(n_jobs=93)]: Done  14 tasks      | elapsed:    0.6s\n",
      "[Parallel(n_jobs=93)]: Done 264 tasks      | elapsed:    2.9s\n",
      "[Parallel(n_jobs=93)]: Done 614 tasks      | elapsed:    6.2s\n",
      "[Parallel(n_jobs=93)]: Done 1064 tasks      | elapsed:   10.5s\n",
      "[Parallel(n_jobs=93)]: Done 1614 tasks      | elapsed:   15.8s\n",
      "[Parallel(n_jobs=93)]: Done 2264 tasks      | elapsed:   21.6s\n",
      "[Parallel(n_jobs=93)]: Done 3014 tasks      | elapsed:   28.5s\n",
      "[Parallel(n_jobs=93)]: Done 3864 tasks      | elapsed:   36.3s\n",
      "[Parallel(n_jobs=93)]: Done 4814 tasks      | elapsed:   45.1s\n",
      "[Parallel(n_jobs=93)]: Done 5864 tasks      | elapsed:   55.2s\n",
      "[Parallel(n_jobs=93)]: Done 7014 tasks      | elapsed:  1.1min\n",
      "[Parallel(n_jobs=93)]: Done 8264 tasks      | elapsed:  1.3min\n",
      "[Parallel(n_jobs=93)]: Done 9614 tasks      | elapsed:  1.5min\n",
      "[Parallel(n_jobs=93)]: Done 11227 out of 11227 | elapsed:  1.8min finished\n",
      "... storing 'memento_group' as categorical\n"
     ]
    }
   ],
   "source": [
    "for stim in stims:\n",
    "\n",
    "    fname = 'all_ct_{}_3_vs_48.h5ad'.format(stim)\n",
    "\n",
    "    if fname in done_files:\n",
    "        print('Skipping', fname)\n",
    "        continue\n",
    "\n",
    "    print('starting', stim)\n",
    "\n",
    "    adata_stim = adata.copy()[\n",
    "        adata.obs.ct.isin(cts) & \\\n",
    "        adata.obs.stim.isin(['control', stim]) & \\\n",
    "        adata.obs.time.isin(['3','48']), :].copy()\n",
    "    time_converter={3:0, int('48'):1}\n",
    "    adata_stim.obs['time_step'] = adata_stim.obs['time'].astype(int).apply(lambda x: time_converter[x])\n",
    "\n",
    "    memento.create_groups(adata_stim, label_columns=['time_step', 'donor', 'ct'])\n",
    "    memento.compute_1d_moments(adata_stim, min_perc_group=.3)\n",
    "\n",
    "    memento.ht_1d_moments(\n",
    "        adata_stim, \n",
    "        formula_like='1 + time_step + donor + ct',\n",
    "        treatment_col='time_step', \n",
    "        num_boot=10000, \n",
    "        verbose=1,\n",
    "        num_cpus=93,\n",
    "        resampling='permutation',\n",
    "        approx=True)\n",
    "\n",
    "    adata_stim.write(data_path + 'binary_test_latest/all_ct_{}_3_vs_48.h5ad'.format(stim))"
   ]
  },
  {
   "cell_type": "code",
   "execution_count": null,
   "metadata": {},
   "outputs": [],
   "source": []
  }
 ],
 "metadata": {
  "kernelspec": {
   "display_name": "Python 3",
   "language": "python",
   "name": "python3"
  },
  "language_info": {
   "codemirror_mode": {
    "name": "ipython",
    "version": 3
   },
   "file_extension": ".py",
   "mimetype": "text/x-python",
   "name": "python",
   "nbconvert_exporter": "python",
   "pygments_lexer": "ipython3",
   "version": "3.8.8"
  }
 },
 "nbformat": 4,
 "nbformat_minor": 4
}
