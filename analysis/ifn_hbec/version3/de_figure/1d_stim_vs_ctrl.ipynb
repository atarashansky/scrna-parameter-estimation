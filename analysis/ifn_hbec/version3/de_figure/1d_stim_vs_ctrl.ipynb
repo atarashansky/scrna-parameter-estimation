{
 "cells": [
  {
   "cell_type": "markdown",
   "metadata": {},
   "source": [
    "# 1D Variability hypothesis testing for HBEC IFN experiment"
   ]
  },
  {
   "cell_type": "code",
   "execution_count": 11,
   "metadata": {},
   "outputs": [],
   "source": [
    "import scanpy as sc\n",
    "import seaborn as sns\n",
    "import pandas as pd\n",
    "import matplotlib.pyplot as plt\n",
    "import numpy as np\n",
    "import scipy.stats as stats\n",
    "from pybedtools import BedTool\n",
    "import pickle as pkl\n",
    "%matplotlib inline"
   ]
  },
  {
   "cell_type": "code",
   "execution_count": 12,
   "metadata": {},
   "outputs": [],
   "source": [
    "import sys\n",
    "sys.path.append('/home/ssm-user/Github/scrna-parameter-estimation/dist/memento-0.0.6-py3.8.egg')\n",
    "sys.path.append('/home/ssm-user/Github/misc-seq/miscseq/')\n",
    "import encode\n",
    "import memento"
   ]
  },
  {
   "cell_type": "code",
   "execution_count": 13,
   "metadata": {},
   "outputs": [],
   "source": [
    "data_path = '/data_volume/memento/hbec/'"
   ]
  },
  {
   "cell_type": "markdown",
   "metadata": {},
   "source": [
    "### Read the processed RNA data\n",
    "\n",
    "Focus on the club and bc/club cells and type I interferons for now.\n",
    "\n",
    "Encode the timestamps to integers."
   ]
  },
  {
   "cell_type": "raw",
   "metadata": {},
   "source": [
    "adata_processed = sc.read(data_path + 'HBEC_type_I_processed.h5ad')"
   ]
  },
  {
   "cell_type": "code",
   "execution_count": 20,
   "metadata": {},
   "outputs": [],
   "source": [
    "adata = sc.read(data_path + 'HBEC_type_I_filtered_counts_deep.h5ad')"
   ]
  },
  {
   "cell_type": "raw",
   "metadata": {},
   "source": [
    "sc.pl.umap(adata_processed, color=['cell_type', 'time', 'stim'])"
   ]
  },
  {
   "cell_type": "code",
   "execution_count": 21,
   "metadata": {},
   "outputs": [],
   "source": [
    "converter = {'basal/club':'BC', 'basal':'B', 'ciliated':'C', 'goblet':'G', 'ionocyte/tuft':'IT', 'neuroendo':'N'}"
   ]
  },
  {
   "cell_type": "code",
   "execution_count": 22,
   "metadata": {},
   "outputs": [],
   "source": [
    "adata.obs['ct'] = adata.obs['cell_type'].apply(lambda x: converter[x])"
   ]
  },
  {
   "cell_type": "markdown",
   "metadata": {},
   "source": [
    "### Setup memento"
   ]
  },
  {
   "cell_type": "code",
   "execution_count": 23,
   "metadata": {},
   "outputs": [],
   "source": [
    "def assign_q(batch):\n",
    "    \n",
    "    if batch == 0:\n",
    "        return 0.387*0.25\n",
    "    elif batch == 1:\n",
    "        return 0.392*0.25\n",
    "    elif batch == 2:\n",
    "        return 0.436*0.25\n",
    "    else:\n",
    "        return 0.417*0.25"
   ]
  },
  {
   "cell_type": "code",
   "execution_count": 24,
   "metadata": {},
   "outputs": [],
   "source": [
    "adata.obs['q'] = adata.obs['batch'].apply(assign_q)"
   ]
  },
  {
   "cell_type": "code",
   "execution_count": 26,
   "metadata": {},
   "outputs": [
    {
     "name": "stdout",
     "output_type": "stream",
     "text": [
      "Version 0.0.6\n"
     ]
    }
   ],
   "source": [
    "memento.setup_memento(adata, q_column='q', trim_percent=0.05)"
   ]
  },
  {
   "cell_type": "markdown",
   "metadata": {},
   "source": [
    "### Run memento for each subset, comparing to control, separate cell types"
   ]
  },
  {
   "cell_type": "code",
   "execution_count": 16,
   "metadata": {},
   "outputs": [],
   "source": [
    "cts = ['C', 'B', 'BC']\n",
    "tps = ['3', '6', '9', '24', '48']\n",
    "\n",
    "stims = ['alpha', 'beta', 'gamma', 'lambda']"
   ]
  },
  {
   "cell_type": "code",
   "execution_count": 17,
   "metadata": {},
   "outputs": [],
   "source": [
    "import os\n",
    "done_files = os.listdir(data_path + 'binary_test_latest/')"
   ]
  },
  {
   "cell_type": "code",
   "execution_count": null,
   "metadata": {},
   "outputs": [],
   "source": [
    "for ct in cts:\n",
    "    for tp in tps:\n",
    "        for stim in stims:\n",
    "            \n",
    "            fname = '{}_{}_{}.h5ad'.format('-'.join(ct), stim, tp)\n",
    "            \n",
    "            if fname in done_files:\n",
    "                print('Skipping', fname)\n",
    "                continue\n",
    "\n",
    "            print('starting', ct, tp, stim)\n",
    "\n",
    "            adata_stim = adata.copy()[\n",
    "                adata.obs.ct.isin([ct]) & \\\n",
    "                adata.obs.stim.isin(['control', stim]) & \\\n",
    "                adata.obs.time.isin(['0',tp]), :].copy()\n",
    "            time_converter={0:0, int(tp):1}\n",
    "            adata_stim.obs['time_step'] = adata_stim.obs['time'].astype(int).apply(lambda x: time_converter[x])\n",
    "\n",
    "            memento.create_groups(adata_stim, label_columns=['time_step', 'donor'])\n",
    "            memento.compute_1d_moments(adata_stim, min_perc_group=.9)\n",
    "\n",
    "            memento.ht_1d_moments(\n",
    "                adata_stim, \n",
    "                formula_like='1 + time_step + donor',\n",
    "                treatment_col='time_step', \n",
    "                num_boot=10000, \n",
    "                verbose=1,\n",
    "                num_cpus=93,\n",
    "                resampling='permutation',\n",
    "                approx=True)\n",
    "\n",
    "            adata_stim.write(data_path + 'binary_test_latest/{}_{}_{}.h5ad'.format(ct, stim, tp))"
   ]
  },
  {
   "cell_type": "markdown",
   "metadata": {},
   "source": [
    "### Run memento for each subset, but stratify cell types"
   ]
  },
  {
   "cell_type": "code",
   "execution_count": 10,
   "metadata": {},
   "outputs": [],
   "source": [
    "cts = ['C', 'B', 'BC']\n",
    "tps = ['3', '6', '9', '24', '48']\n",
    "\n",
    "stims = ['alpha', 'beta', 'gamma', 'lambda']"
   ]
  },
  {
   "cell_type": "code",
   "execution_count": 11,
   "metadata": {},
   "outputs": [],
   "source": [
    "import os\n",
    "done_files = os.listdir(data_path + 'binary_test_latest/')"
   ]
  },
  {
   "cell_type": "code",
   "execution_count": null,
   "metadata": {},
   "outputs": [],
   "source": [
    "for tp in tps:\n",
    "    for stim in stims:\n",
    "\n",
    "        fname = 'all_ct_{}_{}.h5ad'.format( stim, tp)\n",
    "\n",
    "        if fname in done_files:\n",
    "            print('Skipping', fname)\n",
    "            continue\n",
    "\n",
    "        print('starting', tp, stim)\n",
    "\n",
    "        adata_stim = adata.copy()[\n",
    "            adata.obs.ct.isin(cts) & \\\n",
    "            adata.obs.stim.isin(['control', stim]) & \\\n",
    "            adata.obs.time.isin(['0',tp]), :].copy()\n",
    "        time_converter={0:0, int(tp):1}\n",
    "        adata_stim.obs['time_step'] = adata_stim.obs['time'].astype(int).apply(lambda x: time_converter[x])\n",
    "\n",
    "        memento.create_groups(adata_stim, label_columns=['time_step', 'donor', 'ct'])\n",
    "        memento.compute_1d_moments(adata_stim, min_perc_group=.3)\n",
    "\n",
    "        memento.ht_1d_moments(\n",
    "            adata_stim, \n",
    "            formula_like='1 + time_step + donor + ct',\n",
    "            treatment_col='time_step', \n",
    "            num_boot=10000, \n",
    "            verbose=1,\n",
    "            num_cpus=93,\n",
    "            resampling='permutation',\n",
    "            approx=True)\n",
    "\n",
    "        adata_stim.write(data_path + 'binary_test_latest/all_ct_{}_{}.h5ad'.format(stim, tp))"
   ]
  },
  {
   "cell_type": "markdown",
   "metadata": {},
   "source": [
    "### Run memento going from 3hr to 48 hr, but stratify cell types"
   ]
  },
  {
   "cell_type": "code",
   "execution_count": 13,
   "metadata": {},
   "outputs": [],
   "source": [
    "cts = ['C', 'B', 'BC']\n",
    "tps = ['3', '6', '9', '24', '48']\n",
    "\n",
    "stims = ['alpha', 'beta', 'gamma', 'lambda']"
   ]
  },
  {
   "cell_type": "code",
   "execution_count": 14,
   "metadata": {},
   "outputs": [],
   "source": [
    "import os\n",
    "done_files = os.listdir(data_path + 'binary_test_latest/')"
   ]
  },
  {
   "cell_type": "code",
   "execution_count": null,
   "metadata": {},
   "outputs": [],
   "source": [
    "for stim in stims:\n",
    "\n",
    "    fname = 'all_ct_{}_3_vs_48.h5ad'.format(stim)\n",
    "\n",
    "    if fname in done_files:\n",
    "        print('Skipping', fname)\n",
    "        continue\n",
    "\n",
    "    print('starting', stim)\n",
    "\n",
    "    adata_stim = adata.copy()[\n",
    "        adata.obs.ct.isin(cts) & \\\n",
    "        adata.obs.stim.isin(['control', stim]) & \\\n",
    "        adata.obs.time.isin(['3','48']), :].copy()\n",
    "    time_converter={3:0, int('48'):1}\n",
    "    adata_stim.obs['time_step'] = adata_stim.obs['time'].astype(int).apply(lambda x: time_converter[x])\n",
    "\n",
    "    memento.create_groups(adata_stim, label_columns=['time_step', 'donor', 'ct'])\n",
    "    memento.compute_1d_moments(adata_stim, min_perc_group=.3)\n",
    "\n",
    "    memento.ht_1d_moments(\n",
    "        adata_stim, \n",
    "        formula_like='1 + time_step + donor + ct',\n",
    "        treatment_col='time_step', \n",
    "        num_boot=10000, \n",
    "        verbose=1,\n",
    "        num_cpus=93,\n",
    "        resampling='permutation',\n",
    "        approx=True)\n",
    "\n",
    "    adata_stim.write(data_path + 'binary_test_latest/all_ct_{}_3_vs_48.h5ad'.format(stim))"
   ]
  },
  {
   "cell_type": "markdown",
   "metadata": {},
   "source": [
    "### Run memento within stim for each cell type, using time as ordinal"
   ]
  },
  {
   "cell_type": "code",
   "execution_count": 27,
   "metadata": {},
   "outputs": [],
   "source": [
    "cts = ['C', 'B', 'BC']\n",
    "tps = ['3', '6', '9', '24', '48']\n",
    "\n",
    "stims = ['alpha', 'beta', 'gamma', 'lambda']"
   ]
  },
  {
   "cell_type": "code",
   "execution_count": 28,
   "metadata": {},
   "outputs": [],
   "source": [
    "import os\n",
    "done_files = os.listdir(data_path + 'binary_test_latest/')"
   ]
  },
  {
   "cell_type": "code",
   "execution_count": 29,
   "metadata": {},
   "outputs": [
    {
     "name": "stdout",
     "output_type": "stream",
     "text": [
      "starting C alpha\n"
     ]
    },
    {
     "name": "stderr",
     "output_type": "stream",
     "text": [
      "/home/ssm-user/anaconda3/envs/single_cell/lib/python3.8/site-packages/pandas/core/arrays/categorical.py:2487: FutureWarning: The `inplace` parameter in pandas.Categorical.remove_unused_categories is deprecated and will be removed in a future version.\n",
      "  res = method(*args, **kwargs)\n",
      "[Parallel(n_jobs=93)]: Using backend LokyBackend with 93 concurrent workers.\n",
      "[Parallel(n_jobs=93)]: Done  14 tasks      | elapsed:    4.5s\n",
      "[Parallel(n_jobs=93)]: Done 264 tasks      | elapsed:    8.7s\n",
      "[Parallel(n_jobs=93)]: Done 614 tasks      | elapsed:   15.4s\n",
      "[Parallel(n_jobs=93)]: Done 1064 tasks      | elapsed:   23.1s\n",
      "[Parallel(n_jobs=93)]: Done 1614 tasks      | elapsed:   32.3s\n",
      "[Parallel(n_jobs=93)]: Done 2264 tasks      | elapsed:   43.3s\n",
      "[Parallel(n_jobs=93)]: Done 3014 tasks      | elapsed:   56.5s\n",
      "[Parallel(n_jobs=93)]: Done 3864 tasks      | elapsed:  1.2min\n",
      "[Parallel(n_jobs=93)]: Done 4814 tasks      | elapsed:  1.5min\n",
      "[Parallel(n_jobs=93)]: Done 5864 tasks      | elapsed:  1.8min\n",
      "[Parallel(n_jobs=93)]: Done 7014 tasks      | elapsed:  2.1min\n",
      "[Parallel(n_jobs=93)]: Done 7771 out of 7771 | elapsed:  2.5min finished\n",
      "... storing 'memento_group' as categorical\n"
     ]
    },
    {
     "name": "stdout",
     "output_type": "stream",
     "text": [
      "starting C beta\n"
     ]
    },
    {
     "name": "stderr",
     "output_type": "stream",
     "text": [
      "/home/ssm-user/anaconda3/envs/single_cell/lib/python3.8/site-packages/pandas/core/arrays/categorical.py:2487: FutureWarning: The `inplace` parameter in pandas.Categorical.remove_unused_categories is deprecated and will be removed in a future version.\n",
      "  res = method(*args, **kwargs)\n",
      "[Parallel(n_jobs=93)]: Using backend LokyBackend with 93 concurrent workers.\n",
      "[Parallel(n_jobs=93)]: Done  14 tasks      | elapsed:    0.8s\n",
      "[Parallel(n_jobs=93)]: Done 264 tasks      | elapsed:    4.2s\n",
      "[Parallel(n_jobs=93)]: Done 614 tasks      | elapsed:    9.8s\n",
      "[Parallel(n_jobs=93)]: Done 1064 tasks      | elapsed:   16.4s\n",
      "[Parallel(n_jobs=93)]: Done 1614 tasks      | elapsed:   24.0s\n",
      "[Parallel(n_jobs=93)]: Done 2264 tasks      | elapsed:   33.5s\n",
      "[Parallel(n_jobs=93)]: Done 3014 tasks      | elapsed:   44.4s\n",
      "[Parallel(n_jobs=93)]: Done 3864 tasks      | elapsed:   57.0s\n",
      "[Parallel(n_jobs=93)]: Done 4814 tasks      | elapsed:  1.2min\n",
      "[Parallel(n_jobs=93)]: Done 5864 tasks      | elapsed:  1.5min\n",
      "[Parallel(n_jobs=93)]: Done 7014 tasks      | elapsed:  1.7min\n",
      "[Parallel(n_jobs=93)]: Done 8264 tasks      | elapsed:  2.0min\n",
      "[Parallel(n_jobs=93)]: Done 8751 out of 8751 | elapsed:  2.3min finished\n",
      "... storing 'memento_group' as categorical\n"
     ]
    },
    {
     "name": "stdout",
     "output_type": "stream",
     "text": [
      "starting C gamma\n"
     ]
    },
    {
     "name": "stderr",
     "output_type": "stream",
     "text": [
      "/home/ssm-user/anaconda3/envs/single_cell/lib/python3.8/site-packages/pandas/core/arrays/categorical.py:2487: FutureWarning: The `inplace` parameter in pandas.Categorical.remove_unused_categories is deprecated and will be removed in a future version.\n",
      "  res = method(*args, **kwargs)\n",
      "[Parallel(n_jobs=93)]: Using backend LokyBackend with 93 concurrent workers.\n",
      "[Parallel(n_jobs=93)]: Done  14 tasks      | elapsed:    1.0s\n",
      "[Parallel(n_jobs=93)]: Done 264 tasks      | elapsed:    5.1s\n",
      "[Parallel(n_jobs=93)]: Done 614 tasks      | elapsed:   11.9s\n",
      "[Parallel(n_jobs=93)]: Done 1064 tasks      | elapsed:   19.8s\n",
      "[Parallel(n_jobs=93)]: Done 1614 tasks      | elapsed:   29.1s\n",
      "[Parallel(n_jobs=93)]: Done 2264 tasks      | elapsed:   40.5s\n",
      "[Parallel(n_jobs=93)]: Done 3014 tasks      | elapsed:   54.1s\n",
      "[Parallel(n_jobs=93)]: Done 3864 tasks      | elapsed:  1.2min\n",
      "[Parallel(n_jobs=93)]: Done 4814 tasks      | elapsed:  1.4min\n",
      "[Parallel(n_jobs=93)]: Done 5864 tasks      | elapsed:  1.8min\n",
      "[Parallel(n_jobs=93)]: Done 7014 tasks      | elapsed:  2.1min\n",
      "[Parallel(n_jobs=93)]: Done 8412 out of 8412 | elapsed:  2.7min finished\n",
      "... storing 'memento_group' as categorical\n"
     ]
    },
    {
     "name": "stdout",
     "output_type": "stream",
     "text": [
      "starting C lambda\n"
     ]
    },
    {
     "name": "stderr",
     "output_type": "stream",
     "text": [
      "/home/ssm-user/anaconda3/envs/single_cell/lib/python3.8/site-packages/pandas/core/arrays/categorical.py:2487: FutureWarning: The `inplace` parameter in pandas.Categorical.remove_unused_categories is deprecated and will be removed in a future version.\n",
      "  res = method(*args, **kwargs)\n",
      "[Parallel(n_jobs=93)]: Using backend LokyBackend with 93 concurrent workers.\n",
      "[Parallel(n_jobs=93)]: Done  14 tasks      | elapsed:    0.9s\n",
      "[Parallel(n_jobs=93)]: Done 264 tasks      | elapsed:    4.9s\n",
      "[Parallel(n_jobs=93)]: Done 614 tasks      | elapsed:   11.1s\n",
      "[Parallel(n_jobs=93)]: Done 1064 tasks      | elapsed:   18.6s\n",
      "[Parallel(n_jobs=93)]: Done 1614 tasks      | elapsed:   27.3s\n",
      "[Parallel(n_jobs=93)]: Done 2264 tasks      | elapsed:   38.3s\n",
      "[Parallel(n_jobs=93)]: Done 3014 tasks      | elapsed:   50.2s\n",
      "[Parallel(n_jobs=93)]: Done 3864 tasks      | elapsed:  1.1min\n",
      "[Parallel(n_jobs=93)]: Done 4814 tasks      | elapsed:  1.3min\n",
      "[Parallel(n_jobs=93)]: Done 5864 tasks      | elapsed:  1.6min\n",
      "[Parallel(n_jobs=93)]: Done 7014 tasks      | elapsed:  2.0min\n",
      "[Parallel(n_jobs=93)]: Done 8264 tasks      | elapsed:  2.3min\n",
      "[Parallel(n_jobs=93)]: Done 8728 out of 8728 | elapsed:  2.6min finished\n",
      "... storing 'memento_group' as categorical\n"
     ]
    },
    {
     "name": "stdout",
     "output_type": "stream",
     "text": [
      "starting B alpha\n"
     ]
    },
    {
     "name": "stderr",
     "output_type": "stream",
     "text": [
      "/home/ssm-user/anaconda3/envs/single_cell/lib/python3.8/site-packages/pandas/core/arrays/categorical.py:2487: FutureWarning: The `inplace` parameter in pandas.Categorical.remove_unused_categories is deprecated and will be removed in a future version.\n",
      "  res = method(*args, **kwargs)\n",
      "[Parallel(n_jobs=93)]: Using backend LokyBackend with 93 concurrent workers.\n",
      "[Parallel(n_jobs=93)]: Done  14 tasks      | elapsed:    0.7s\n",
      "[Parallel(n_jobs=93)]: Done 264 tasks      | elapsed:    3.5s\n",
      "[Parallel(n_jobs=93)]: Done 614 tasks      | elapsed:    7.8s\n",
      "[Parallel(n_jobs=93)]: Done 1064 tasks      | elapsed:   12.9s\n",
      "[Parallel(n_jobs=93)]: Done 1614 tasks      | elapsed:   19.1s\n",
      "[Parallel(n_jobs=93)]: Done 2264 tasks      | elapsed:   26.6s\n",
      "[Parallel(n_jobs=93)]: Done 3014 tasks      | elapsed:   35.2s\n",
      "[Parallel(n_jobs=93)]: Done 3864 tasks      | elapsed:   45.4s\n",
      "[Parallel(n_jobs=93)]: Done 4814 tasks      | elapsed:   56.7s\n",
      "[Parallel(n_jobs=93)]: Done 5864 tasks      | elapsed:  1.2min\n",
      "[Parallel(n_jobs=93)]: Done 6314 out of 6314 | elapsed:  1.3min finished\n",
      "... storing 'memento_group' as categorical\n"
     ]
    },
    {
     "name": "stdout",
     "output_type": "stream",
     "text": [
      "starting B beta\n"
     ]
    },
    {
     "name": "stderr",
     "output_type": "stream",
     "text": [
      "/home/ssm-user/anaconda3/envs/single_cell/lib/python3.8/site-packages/pandas/core/arrays/categorical.py:2487: FutureWarning: The `inplace` parameter in pandas.Categorical.remove_unused_categories is deprecated and will be removed in a future version.\n",
      "  res = method(*args, **kwargs)\n",
      "[Parallel(n_jobs=93)]: Using backend LokyBackend with 93 concurrent workers.\n",
      "[Parallel(n_jobs=93)]: Done  14 tasks      | elapsed:    0.7s\n",
      "[Parallel(n_jobs=93)]: Done 264 tasks      | elapsed:    4.0s\n",
      "[Parallel(n_jobs=93)]: Done 614 tasks      | elapsed:    9.0s\n",
      "[Parallel(n_jobs=93)]: Done 1064 tasks      | elapsed:   15.1s\n",
      "[Parallel(n_jobs=93)]: Done 1614 tasks      | elapsed:   22.6s\n",
      "[Parallel(n_jobs=93)]: Done 2264 tasks      | elapsed:   31.4s\n",
      "[Parallel(n_jobs=93)]: Done 3014 tasks      | elapsed:   42.5s\n",
      "[Parallel(n_jobs=93)]: Done 3864 tasks      | elapsed:   54.7s\n",
      "[Parallel(n_jobs=93)]: Done 4313 out of 4313 | elapsed:  1.1min finished\n",
      "... storing 'memento_group' as categorical\n"
     ]
    },
    {
     "name": "stdout",
     "output_type": "stream",
     "text": [
      "starting B gamma\n"
     ]
    },
    {
     "name": "stderr",
     "output_type": "stream",
     "text": [
      "/home/ssm-user/anaconda3/envs/single_cell/lib/python3.8/site-packages/pandas/core/arrays/categorical.py:2487: FutureWarning: The `inplace` parameter in pandas.Categorical.remove_unused_categories is deprecated and will be removed in a future version.\n",
      "  res = method(*args, **kwargs)\n",
      "[Parallel(n_jobs=93)]: Using backend LokyBackend with 93 concurrent workers.\n",
      "[Parallel(n_jobs=93)]: Done  14 tasks      | elapsed:    0.7s\n",
      "[Parallel(n_jobs=93)]: Done 264 tasks      | elapsed:    3.6s\n",
      "[Parallel(n_jobs=93)]: Done 614 tasks      | elapsed:    8.3s\n",
      "[Parallel(n_jobs=93)]: Done 1064 tasks      | elapsed:   13.7s\n",
      "[Parallel(n_jobs=93)]: Done 1614 tasks      | elapsed:   20.3s\n",
      "[Parallel(n_jobs=93)]: Done 2264 tasks      | elapsed:   28.3s\n",
      "[Parallel(n_jobs=93)]: Done 3014 tasks      | elapsed:   37.9s\n",
      "[Parallel(n_jobs=93)]: Done 3864 tasks      | elapsed:   48.4s\n",
      "[Parallel(n_jobs=93)]: Done 4814 tasks      | elapsed:  1.0min\n",
      "[Parallel(n_jobs=93)]: Done 5864 tasks      | elapsed:  1.2min\n",
      "[Parallel(n_jobs=93)]: Done 6953 out of 6953 | elapsed:  1.6min finished\n",
      "... storing 'memento_group' as categorical\n"
     ]
    },
    {
     "name": "stdout",
     "output_type": "stream",
     "text": [
      "starting B lambda\n"
     ]
    },
    {
     "name": "stderr",
     "output_type": "stream",
     "text": [
      "/home/ssm-user/anaconda3/envs/single_cell/lib/python3.8/site-packages/pandas/core/arrays/categorical.py:2487: FutureWarning: The `inplace` parameter in pandas.Categorical.remove_unused_categories is deprecated and will be removed in a future version.\n",
      "  res = method(*args, **kwargs)\n",
      "[Parallel(n_jobs=93)]: Using backend LokyBackend with 93 concurrent workers.\n",
      "[Parallel(n_jobs=93)]: Done  14 tasks      | elapsed:    0.7s\n",
      "[Parallel(n_jobs=93)]: Done 264 tasks      | elapsed:    3.4s\n",
      "[Parallel(n_jobs=93)]: Done 614 tasks      | elapsed:    7.6s\n",
      "[Parallel(n_jobs=93)]: Done 1064 tasks      | elapsed:   12.7s\n",
      "[Parallel(n_jobs=93)]: Done 1614 tasks      | elapsed:   18.9s\n",
      "[Parallel(n_jobs=93)]: Done 2264 tasks      | elapsed:   26.1s\n",
      "[Parallel(n_jobs=93)]: Done 3014 tasks      | elapsed:   34.6s\n",
      "[Parallel(n_jobs=93)]: Done 3864 tasks      | elapsed:   44.3s\n",
      "[Parallel(n_jobs=93)]: Done 4814 tasks      | elapsed:   55.4s\n",
      "[Parallel(n_jobs=93)]: Done 5864 tasks      | elapsed:  1.1min\n",
      "[Parallel(n_jobs=93)]: Done 6416 out of 6416 | elapsed:  1.3min finished\n",
      "... storing 'memento_group' as categorical\n"
     ]
    },
    {
     "name": "stdout",
     "output_type": "stream",
     "text": [
      "starting BC alpha\n"
     ]
    },
    {
     "name": "stderr",
     "output_type": "stream",
     "text": [
      "/home/ssm-user/anaconda3/envs/single_cell/lib/python3.8/site-packages/pandas/core/arrays/categorical.py:2487: FutureWarning: The `inplace` parameter in pandas.Categorical.remove_unused_categories is deprecated and will be removed in a future version.\n",
      "  res = method(*args, **kwargs)\n",
      "[Parallel(n_jobs=93)]: Using backend LokyBackend with 93 concurrent workers.\n",
      "[Parallel(n_jobs=93)]: Done  14 tasks      | elapsed:    0.7s\n",
      "[Parallel(n_jobs=93)]: Done 264 tasks      | elapsed:    3.5s\n",
      "[Parallel(n_jobs=93)]: Done 614 tasks      | elapsed:    8.0s\n",
      "[Parallel(n_jobs=93)]: Done 1064 tasks      | elapsed:   13.5s\n",
      "[Parallel(n_jobs=93)]: Done 1614 tasks      | elapsed:   20.0s\n",
      "[Parallel(n_jobs=93)]: Done 2264 tasks      | elapsed:   27.9s\n",
      "[Parallel(n_jobs=93)]: Done 3014 tasks      | elapsed:   37.3s\n",
      "[Parallel(n_jobs=93)]: Done 3864 tasks      | elapsed:   47.6s\n",
      "[Parallel(n_jobs=93)]: Done 4814 tasks      | elapsed:   59.8s\n",
      "[Parallel(n_jobs=93)]: Done 5864 tasks      | elapsed:  1.2min\n",
      "[Parallel(n_jobs=93)]: Done 7014 tasks      | elapsed:  1.5min\n",
      "[Parallel(n_jobs=93)]: Done 7302 out of 7302 | elapsed:  1.6min finished\n",
      "... storing 'memento_group' as categorical\n"
     ]
    },
    {
     "name": "stdout",
     "output_type": "stream",
     "text": [
      "starting BC beta\n"
     ]
    },
    {
     "name": "stderr",
     "output_type": "stream",
     "text": [
      "/home/ssm-user/anaconda3/envs/single_cell/lib/python3.8/site-packages/pandas/core/arrays/categorical.py:2487: FutureWarning: The `inplace` parameter in pandas.Categorical.remove_unused_categories is deprecated and will be removed in a future version.\n",
      "  res = method(*args, **kwargs)\n",
      "[Parallel(n_jobs=93)]: Using backend LokyBackend with 93 concurrent workers.\n",
      "[Parallel(n_jobs=93)]: Done  14 tasks      | elapsed:    0.8s\n",
      "[Parallel(n_jobs=93)]: Done 264 tasks      | elapsed:    4.1s\n",
      "[Parallel(n_jobs=93)]: Done 614 tasks      | elapsed:    9.5s\n",
      "[Parallel(n_jobs=93)]: Done 1064 tasks      | elapsed:   16.1s\n",
      "[Parallel(n_jobs=93)]: Done 1614 tasks      | elapsed:   23.7s\n",
      "[Parallel(n_jobs=93)]: Done 2264 tasks      | elapsed:   33.2s\n",
      "[Parallel(n_jobs=93)]: Done 3014 tasks      | elapsed:   44.4s\n",
      "[Parallel(n_jobs=93)]: Done 3864 tasks      | elapsed:   56.6s\n",
      "[Parallel(n_jobs=93)]: Done 4814 tasks      | elapsed:  1.2min\n",
      "[Parallel(n_jobs=93)]: Done 5864 tasks      | elapsed:  1.4min\n",
      "[Parallel(n_jobs=93)]: Done 7014 tasks      | elapsed:  1.7min\n",
      "[Parallel(n_jobs=93)]: Done 7256 out of 7256 | elapsed:  1.9min finished\n",
      "... storing 'memento_group' as categorical\n"
     ]
    },
    {
     "name": "stdout",
     "output_type": "stream",
     "text": [
      "starting BC gamma\n"
     ]
    },
    {
     "name": "stderr",
     "output_type": "stream",
     "text": [
      "/home/ssm-user/anaconda3/envs/single_cell/lib/python3.8/site-packages/pandas/core/arrays/categorical.py:2487: FutureWarning: The `inplace` parameter in pandas.Categorical.remove_unused_categories is deprecated and will be removed in a future version.\n",
      "  res = method(*args, **kwargs)\n",
      "[Parallel(n_jobs=93)]: Using backend LokyBackend with 93 concurrent workers.\n",
      "[Parallel(n_jobs=93)]: Done  14 tasks      | elapsed:    0.7s\n",
      "[Parallel(n_jobs=93)]: Done 264 tasks      | elapsed:    3.6s\n",
      "[Parallel(n_jobs=93)]: Done 614 tasks      | elapsed:    8.3s\n",
      "[Parallel(n_jobs=93)]: Done 1064 tasks      | elapsed:   14.1s\n",
      "[Parallel(n_jobs=93)]: Done 1614 tasks      | elapsed:   20.6s\n",
      "[Parallel(n_jobs=93)]: Done 2264 tasks      | elapsed:   28.7s\n",
      "[Parallel(n_jobs=93)]: Done 3014 tasks      | elapsed:   38.7s\n",
      "[Parallel(n_jobs=93)]: Done 3864 tasks      | elapsed:   49.4s\n",
      "[Parallel(n_jobs=93)]: Done 4814 tasks      | elapsed:  1.0min\n",
      "[Parallel(n_jobs=93)]: Done 5864 tasks      | elapsed:  1.3min\n",
      "[Parallel(n_jobs=93)]: Done 7014 tasks      | elapsed:  1.5min\n",
      "[Parallel(n_jobs=93)]: Done 7430 out of 7430 | elapsed:  1.7min finished\n",
      "... storing 'memento_group' as categorical\n"
     ]
    },
    {
     "name": "stdout",
     "output_type": "stream",
     "text": [
      "starting BC lambda\n"
     ]
    },
    {
     "name": "stderr",
     "output_type": "stream",
     "text": [
      "/home/ssm-user/anaconda3/envs/single_cell/lib/python3.8/site-packages/pandas/core/arrays/categorical.py:2487: FutureWarning: The `inplace` parameter in pandas.Categorical.remove_unused_categories is deprecated and will be removed in a future version.\n",
      "  res = method(*args, **kwargs)\n",
      "[Parallel(n_jobs=93)]: Using backend LokyBackend with 93 concurrent workers.\n",
      "[Parallel(n_jobs=93)]: Done  14 tasks      | elapsed:    0.7s\n",
      "[Parallel(n_jobs=93)]: Done 264 tasks      | elapsed:    3.5s\n",
      "[Parallel(n_jobs=93)]: Done 614 tasks      | elapsed:    8.0s\n",
      "[Parallel(n_jobs=93)]: Done 1064 tasks      | elapsed:   13.5s\n",
      "[Parallel(n_jobs=93)]: Done 1614 tasks      | elapsed:   20.0s\n",
      "[Parallel(n_jobs=93)]: Done 2264 tasks      | elapsed:   27.9s\n",
      "[Parallel(n_jobs=93)]: Done 3014 tasks      | elapsed:   37.6s\n",
      "[Parallel(n_jobs=93)]: Done 3864 tasks      | elapsed:   47.9s\n",
      "[Parallel(n_jobs=93)]: Done 4814 tasks      | elapsed:  1.0min\n",
      "[Parallel(n_jobs=93)]: Done 5864 tasks      | elapsed:  1.2min\n",
      "[Parallel(n_jobs=93)]: Done 7014 tasks      | elapsed:  1.5min\n",
      "[Parallel(n_jobs=93)]: Done 7545 out of 7545 | elapsed:  1.7min finished\n",
      "... storing 'memento_group' as categorical\n"
     ]
    }
   ],
   "source": [
    "for ct in cts:\n",
    "    for stim in stims:\n",
    "\n",
    "        fname = '{}_{}_stim.h5ad'.format('-'.join(ct), stim)\n",
    "\n",
    "        if fname in done_files:\n",
    "            print('Skipping', fname)\n",
    "            continue\n",
    "\n",
    "        print('starting', ct, stim)\n",
    "\n",
    "        adata_stim = adata.copy()[\n",
    "            adata.obs.ct.isin([ct]) & \\\n",
    "            adata.obs.stim.isin([stim]), :].copy()\n",
    "        time_converter={3:0, 6:1, 9:2, 24:3, 48:4}\n",
    "        adata_stim.obs['time_step'] = adata_stim.obs['time'].astype(int).apply(lambda x: time_converter[x])\n",
    "\n",
    "        memento.create_groups(adata_stim, label_columns=['time_step', 'donor'])\n",
    "        memento.compute_1d_moments(adata_stim, min_perc_group=.9)\n",
    "\n",
    "        memento.ht_1d_moments(\n",
    "            adata_stim, \n",
    "            formula_like='1 + time_step + donor',\n",
    "            treatment_col='time_step', \n",
    "            num_boot=10000, \n",
    "            verbose=1,\n",
    "            num_cpus=93,\n",
    "            resampling='permutation',\n",
    "            approx=True)\n",
    "\n",
    "        adata_stim.write(data_path + 'binary_test_latest/{}_{}_stim.h5ad'.format(ct, stim))"
   ]
  },
  {
   "cell_type": "code",
   "execution_count": null,
   "metadata": {},
   "outputs": [],
   "source": []
  }
 ],
 "metadata": {
  "kernelspec": {
   "display_name": "Python 3",
   "language": "python",
   "name": "python3"
  },
  "language_info": {
   "codemirror_mode": {
    "name": "ipython",
    "version": 3
   },
   "file_extension": ".py",
   "mimetype": "text/x-python",
   "name": "python",
   "nbconvert_exporter": "python",
   "pygments_lexer": "ipython3",
   "version": "3.8.8"
  }
 },
 "nbformat": 4,
 "nbformat_minor": 4
}
