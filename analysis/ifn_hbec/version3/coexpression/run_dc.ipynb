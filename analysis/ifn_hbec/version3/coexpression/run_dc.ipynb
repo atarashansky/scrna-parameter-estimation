{
 "cells": [
  {
   "cell_type": "markdown",
   "metadata": {},
   "source": [
    "# Run ctrl vs stim DC"
   ]
  },
  {
   "cell_type": "code",
   "execution_count": 1,
   "metadata": {},
   "outputs": [],
   "source": [
    "import scanpy as sc\n",
    "import seaborn as sns\n",
    "import pandas as pd\n",
    "import matplotlib.pyplot as plt\n",
    "import numpy as np\n",
    "import scipy.stats as stats\n",
    "from pybedtools import BedTool\n",
    "import pickle as pkl\n",
    "import itertools\n",
    "pd.set_option('display.max_rows', 500)\n",
    "%matplotlib inline"
   ]
  },
  {
   "cell_type": "code",
   "execution_count": 2,
   "metadata": {},
   "outputs": [],
   "source": [
    "import matplotlib\n",
    "matplotlib.rcParams['pdf.fonttype'] = 42\n",
    "matplotlib.rcParams['ps.fonttype'] = 42"
   ]
  },
  {
   "cell_type": "code",
   "execution_count": 3,
   "metadata": {},
   "outputs": [],
   "source": [
    "import sys\n",
    "sys.path.append('/home/ssm-user/Github/scrna-parameter-estimation/dist/memento-0.0.6-py3.8.egg')\n",
    "sys.path.append('/home/ssm-user/Github/misc-seq/miscseq/')\n",
    "import encode\n",
    "import memento"
   ]
  },
  {
   "cell_type": "code",
   "execution_count": 4,
   "metadata": {},
   "outputs": [],
   "source": [
    "data_path = '/data_volume/memento/hbec/'\n",
    "fig_path = '/home/ssm-user/Github/scrna-parameter-estimation/figures/fig5/main/'"
   ]
  },
  {
   "cell_type": "markdown",
   "metadata": {},
   "source": [
    "### Read the processed RNA data\n",
    "\n",
    "Focus on the club and bc/club cells and type I interferons for now.\n",
    "\n",
    "Encode the timestamps to integers."
   ]
  },
  {
   "cell_type": "raw",
   "metadata": {},
   "source": [
    "adata_processed = sc.read(data_path + 'HBEC_type_I_processed.h5ad')"
   ]
  },
  {
   "cell_type": "code",
   "execution_count": 5,
   "metadata": {},
   "outputs": [],
   "source": [
    "adata = sc.read(data_path + 'HBEC_type_I_filtered_counts_deep.h5ad')"
   ]
  },
  {
   "cell_type": "code",
   "execution_count": 6,
   "metadata": {},
   "outputs": [],
   "source": [
    "# adata = adata[:, ~adata.var.index.str.startswith('MT-')].copy()\n",
    "# adata.obs['cell_type'] = adata.obs['cell_type'].apply(lambda x: x if x != 'basal/club' else 'bc')\n",
    "# adata.obs['cell_type'] = adata.obs['cell_type'].apply(lambda x: x if x != 'ionocyte/tuft' else 'ion-tuft')"
   ]
  },
  {
   "cell_type": "raw",
   "metadata": {},
   "source": [
    "sc.pl.umap(adata_processed, color=['cell_type', 'time', 'stim'])"
   ]
  },
  {
   "cell_type": "code",
   "execution_count": 7,
   "metadata": {},
   "outputs": [
    {
     "data": {
      "text/plain": [
       "(69958, 36601)"
      ]
     },
     "execution_count": 7,
     "metadata": {},
     "output_type": "execute_result"
    }
   ],
   "source": [
    "adata.shape"
   ]
  },
  {
   "cell_type": "code",
   "execution_count": 8,
   "metadata": {},
   "outputs": [],
   "source": [
    "converter = {'basal/club':'BC', 'basal':'B', 'ciliated':'C', 'goblet':'G', 'ionocyte/tuft':'IT', 'neuroendo':'N'}"
   ]
  },
  {
   "cell_type": "code",
   "execution_count": 9,
   "metadata": {},
   "outputs": [],
   "source": [
    "adata.obs['ct'] = adata.obs['cell_type'].apply(lambda x: converter[x])\n",
    "# adata_processed.obs['ct'] = adata_processed.obs['cell_type'].apply(lambda x: converter[x])"
   ]
  },
  {
   "cell_type": "markdown",
   "metadata": {},
   "source": [
    "### Setup memento"
   ]
  },
  {
   "cell_type": "code",
   "execution_count": 10,
   "metadata": {},
   "outputs": [],
   "source": [
    "def assign_q(batch):\n",
    "    \n",
    "    if batch == 0:\n",
    "        return 0.387*0.25\n",
    "    elif batch == 1:\n",
    "        return 0.392*0.25\n",
    "    elif batch == 2:\n",
    "        return 0.436*0.25\n",
    "    else:\n",
    "        return 0.417*0.25"
   ]
  },
  {
   "cell_type": "code",
   "execution_count": 11,
   "metadata": {},
   "outputs": [],
   "source": [
    "adata.obs['q'] = adata.obs['batch'].apply(assign_q)"
   ]
  },
  {
   "cell_type": "code",
   "execution_count": 12,
   "metadata": {},
   "outputs": [
    {
     "name": "stdout",
     "output_type": "stream",
     "text": [
      "Version 0.0.6\n"
     ]
    }
   ],
   "source": [
    "memento.setup_memento(adata, q_column='q', trim_percent=0.05)"
   ]
  },
  {
   "cell_type": "markdown",
   "metadata": {},
   "source": [
    "### Define ISG classes"
   ]
  },
  {
   "cell_type": "code",
   "execution_count": 13,
   "metadata": {},
   "outputs": [],
   "source": [
    "isg_classes = pd.read_csv('../isg_classes.csv')"
   ]
  },
  {
   "cell_type": "code",
   "execution_count": 14,
   "metadata": {},
   "outputs": [],
   "source": [
    "t1_isg = isg_classes.query('overall_type ==\"type1\"').gene.tolist()\n",
    "t2_isg = isg_classes.query('overall_type ==\"type2\"').gene.tolist()\n",
    "shared_isg = isg_classes.query('overall_type == \"shared\"').gene.tolist()\n",
    "all_isg = isg_classes[isg_classes.sum(axis=1) > 0].gene.tolist()"
   ]
  },
  {
   "cell_type": "code",
   "execution_count": 15,
   "metadata": {},
   "outputs": [],
   "source": [
    "tf_df = pd.read_csv('../baseline/human_tf.txt', sep='\\t')\n",
    "tf_df = tf_df.query('Family != \"Others\"')\n",
    "tf_list = tf_df['Symbol'].tolist()\n",
    "tf_list += ['CIITA', 'NLRC5']"
   ]
  },
  {
   "cell_type": "markdown",
   "metadata": {},
   "source": [
    "### Control TF correlations for type 1 ISGs"
   ]
  },
  {
   "cell_type": "code",
   "execution_count": 148,
   "metadata": {},
   "outputs": [
    {
     "name": "stderr",
     "output_type": "stream",
     "text": [
      "/home/ssm-user/anaconda3/envs/single_cell/lib/python3.8/site-packages/pandas/core/arrays/categorical.py:2487: FutureWarning: The `inplace` parameter in pandas.Categorical.remove_unused_categories is deprecated and will be removed in a future version.\n",
      "  res = method(*args, **kwargs)\n"
     ]
    },
    {
     "name": "stdout",
     "output_type": "stream",
     "text": [
      "617 342\n"
     ]
    },
    {
     "name": "stderr",
     "output_type": "stream",
     "text": [
      "/home/ssm-user/Github/scrna-parameter-estimation/dist/memento-0.0.6-py3.8.egg/memento/main.py:614: RuntimeWarning: invalid value encountered in true_divide\n",
      "  groupby_corr[key] /= groupby_corr_count[key]\n"
     ]
    }
   ],
   "source": [
    "ct = ['C']\n",
    "adata_ctrl = adata.copy()[\n",
    "\n",
    "    adata.obs.ct.isin(ct) & \\\n",
    "    adata.obs.stim.isin(['control'])].copy()\n",
    "\n",
    "adata_ctrl.obs['group'] = 1\n",
    "memento.create_groups(adata_ctrl, label_columns=['donor', 'group'])\n",
    "memento.compute_1d_moments(adata_ctrl, min_perc_group=.9)\n",
    "\n",
    "available_genes = adata_ctrl.var.index.tolist()\n",
    "available_tfs = list(set(tf_list) & set(available_genes))\n",
    "available_isgs = list(set(available_genes) & set(all_isg))\n",
    "\n",
    "print(len(available_tfs), len(available_isgs))\n",
    "\n",
    "memento.compute_2d_moments(adata_ctrl, list(itertools.product(available_tfs, available_isgs)))\n",
    "\n",
    "\n",
    "ctrl_moments = memento.get_2d_moments(adata_ctrl, groupby='group')"
   ]
  },
  {
   "cell_type": "code",
   "execution_count": 149,
   "metadata": {},
   "outputs": [],
   "source": [
    "df = []\n",
    "for tf in available_tfs:\n",
    "    pv = stats.ttest_1samp(ctrl_moments.query('gene_1 == \"{}\"'.format(tf)).dropna()['group_1'].values, popmean=0)[1]\n",
    "    corr = ctrl_moments.query('gene_1 == \"{}\"'.format(tf)).dropna()['group_1'].values.mean()\n",
    "    df.append((tf, corr, pv))    \n",
    "    \n",
    "df = pd.DataFrame(df, columns=['tf','corr', 'pv'])"
   ]
  },
  {
   "cell_type": "code",
   "execution_count": 150,
   "metadata": {},
   "outputs": [],
   "source": [
    "df['log10(P)'] = -np.log10(df['pv'])"
   ]
  },
  {
   "cell_type": "code",
   "execution_count": 151,
   "metadata": {},
   "outputs": [
    {
     "data": {
      "text/html": [
       "<div>\n",
       "<style scoped>\n",
       "    .dataframe tbody tr th:only-of-type {\n",
       "        vertical-align: middle;\n",
       "    }\n",
       "\n",
       "    .dataframe tbody tr th {\n",
       "        vertical-align: top;\n",
       "    }\n",
       "\n",
       "    .dataframe thead th {\n",
       "        text-align: right;\n",
       "    }\n",
       "</style>\n",
       "<table border=\"1\" class=\"dataframe\">\n",
       "  <thead>\n",
       "    <tr style=\"text-align: right;\">\n",
       "      <th></th>\n",
       "      <th>tf</th>\n",
       "      <th>corr</th>\n",
       "      <th>pv</th>\n",
       "      <th>log10(P)</th>\n",
       "    </tr>\n",
       "  </thead>\n",
       "  <tbody>\n",
       "    <tr>\n",
       "      <th>192</th>\n",
       "      <td>STAT1</td>\n",
       "      <td>0.290613</td>\n",
       "      <td>3.941980e-72</td>\n",
       "      <td>71.404286</td>\n",
       "    </tr>\n",
       "    <tr>\n",
       "      <th>225</th>\n",
       "      <td>SP110</td>\n",
       "      <td>0.293086</td>\n",
       "      <td>1.091066e-70</td>\n",
       "      <td>69.962149</td>\n",
       "    </tr>\n",
       "    <tr>\n",
       "      <th>228</th>\n",
       "      <td>IRF7</td>\n",
       "      <td>0.274489</td>\n",
       "      <td>1.318074e-59</td>\n",
       "      <td>58.880060</td>\n",
       "    </tr>\n",
       "    <tr>\n",
       "      <th>20</th>\n",
       "      <td>SP100</td>\n",
       "      <td>0.290732</td>\n",
       "      <td>5.502092e-58</td>\n",
       "      <td>57.259472</td>\n",
       "    </tr>\n",
       "    <tr>\n",
       "      <th>557</th>\n",
       "      <td>IRF6</td>\n",
       "      <td>0.198850</td>\n",
       "      <td>3.987935e-55</td>\n",
       "      <td>54.399252</td>\n",
       "    </tr>\n",
       "    <tr>\n",
       "      <th>320</th>\n",
       "      <td>GTF2I</td>\n",
       "      <td>0.167854</td>\n",
       "      <td>1.735999e-54</td>\n",
       "      <td>53.760451</td>\n",
       "    </tr>\n",
       "    <tr>\n",
       "      <th>359</th>\n",
       "      <td>LRRFIP1</td>\n",
       "      <td>0.166519</td>\n",
       "      <td>5.380845e-53</td>\n",
       "      <td>52.269149</td>\n",
       "    </tr>\n",
       "    <tr>\n",
       "      <th>439</th>\n",
       "      <td>CEBPB</td>\n",
       "      <td>0.174916</td>\n",
       "      <td>7.054510e-52</td>\n",
       "      <td>51.151533</td>\n",
       "    </tr>\n",
       "    <tr>\n",
       "      <th>388</th>\n",
       "      <td>IRF9</td>\n",
       "      <td>0.206043</td>\n",
       "      <td>2.228511e-49</td>\n",
       "      <td>48.651985</td>\n",
       "    </tr>\n",
       "    <tr>\n",
       "      <th>475</th>\n",
       "      <td>ELF1</td>\n",
       "      <td>0.179876</td>\n",
       "      <td>1.951168e-48</td>\n",
       "      <td>47.709705</td>\n",
       "    </tr>\n",
       "  </tbody>\n",
       "</table>\n",
       "</div>"
      ],
      "text/plain": [
       "          tf      corr            pv   log10(P)\n",
       "192    STAT1  0.290613  3.941980e-72  71.404286\n",
       "225    SP110  0.293086  1.091066e-70  69.962149\n",
       "228     IRF7  0.274489  1.318074e-59  58.880060\n",
       "20     SP100  0.290732  5.502092e-58  57.259472\n",
       "557     IRF6  0.198850  3.987935e-55  54.399252\n",
       "320    GTF2I  0.167854  1.735999e-54  53.760451\n",
       "359  LRRFIP1  0.166519  5.380845e-53  52.269149\n",
       "439    CEBPB  0.174916  7.054510e-52  51.151533\n",
       "388     IRF9  0.206043  2.228511e-49  48.651985\n",
       "475     ELF1  0.179876  1.951168e-48  47.709705"
      ]
     },
     "execution_count": 151,
     "metadata": {},
     "output_type": "execute_result"
    }
   ],
   "source": [
    "df.sort_values('log10(P)', ascending=False).head(10)"
   ]
  },
  {
   "cell_type": "code",
   "execution_count": 152,
   "metadata": {},
   "outputs": [
    {
     "data": {
      "text/plain": [
       "Text(0, 0.5, '-log10(P-value)')"
      ]
     },
     "execution_count": 152,
     "metadata": {},
     "output_type": "execute_result"
    },
    {
     "data": {
      "image/png": "[encoded data removed]",
      "text/plain": [
       "<Figure size 144x144 with 1 Axes>"
      ]
     },
     "metadata": {
      "needs_background": "light"
     },
     "output_type": "display_data"
    }
   ],
   "source": [
    "plt.figure(figsize=(2,2))\n",
    "plt.scatter(df['corr'], df['log10(P)'], s=3, color='k')\n",
    "plt.xlabel('Avg. corr with ISGs\\nat baseline'); plt.ylabel('-log10(P-value)')"
   ]
  },
  {
   "cell_type": "markdown",
   "metadata": {},
   "source": [
    "### Change in correlation in response to IFNs\n",
    "\n",
    "- Canonical: STAT1, STAT2, IRF1, IRF7, IRF9\n",
    "- IFNB: RELA, REL, JUN, HBP1, JUNB, KLF5, JUN\n",
    "- IFNG: "
   ]
  },
  {
   "cell_type": "code",
   "execution_count": 153,
   "metadata": {},
   "outputs": [],
   "source": [
    "def get_2d_ht(stim):\n",
    "    \n",
    "    adata_stim = adata.copy()[\n",
    "        adata.obs.ct.isin(['C']) & \\\n",
    "        adata.obs.time.isin(['0', '3'])& \\\n",
    "        adata.obs.stim.isin(['control', stim])].copy()\n",
    "    time_converter={0:0, 3:1}\n",
    "    adata_stim.obs['time_step'] = adata_stim.obs['time'].astype(int).apply(lambda x: time_converter[x])\n",
    "    \n",
    "    memento.create_groups(adata_stim, label_columns=['time_step', 'donor'])\n",
    "    memento.compute_1d_moments(adata_stim, min_perc_group=.9)\n",
    "    \n",
    "    available_tfs = list(set(tf_list) & set(adata_stim.var.index))\n",
    "    available_genes = adata_stim.var.index.tolist()\n",
    "    available_isgs = list(set(available_genes) & set(all_isg))\n",
    "            \n",
    "    memento.compute_2d_moments(adata_stim, list(itertools.product(available_tfs, available_isgs)))\n",
    "    \n",
    "#     memento.ht_2d_moments( \n",
    "#         adata_stim, \n",
    "#         formula_like='1 + time_step',\n",
    "#         treatment_col='time_step', \n",
    "#         num_boot=100, \n",
    "#         approx=False,\n",
    "#         resampling='permutation',\n",
    "#         verbose=1,\n",
    "#         num_cpus=92)\n",
    "    \n",
    "    return available_tfs, memento.get_2d_moments(adata_stim, groupby='time_step')"
   ]
  },
  {
   "cell_type": "code",
   "execution_count": 154,
   "metadata": {},
   "outputs": [
    {
     "name": "stderr",
     "output_type": "stream",
     "text": [
      "/home/ssm-user/anaconda3/envs/single_cell/lib/python3.8/site-packages/pandas/core/arrays/categorical.py:2487: FutureWarning: The `inplace` parameter in pandas.Categorical.remove_unused_categories is deprecated and will be removed in a future version.\n",
      "  res = method(*args, **kwargs)\n"
     ]
    }
   ],
   "source": [
    "available_tfs, beta_result = get_2d_ht('beta')"
   ]
  },
  {
   "cell_type": "code",
   "execution_count": 155,
   "metadata": {},
   "outputs": [],
   "source": [
    "beta_result['diff'] = beta_result['time_step_1'] - beta_result['time_step_0']"
   ]
  },
  {
   "cell_type": "code",
   "execution_count": 156,
   "metadata": {},
   "outputs": [],
   "source": [
    "df = []\n",
    "for tf in available_tfs:\n",
    "    pv = stats.ttest_1samp(beta_result.query('gene_1 == \"{}\"'.format(tf)).dropna()['diff'].values, popmean=0)[1]\n",
    "    corr = beta_result.query('gene_1 == \"{}\"'.format(tf)).dropna()['diff'].values.mean()\n",
    "    df.append((tf, corr, pv))    \n",
    "    \n",
    "df = pd.DataFrame(df, columns=['tf','corr', 'pv'])"
   ]
  },
  {
   "cell_type": "code",
   "execution_count": 157,
   "metadata": {},
   "outputs": [],
   "source": [
    "result_1d = memento.get_1d_ht_result(sc.read(data_path + 'binary_test_latest/C_beta_3.h5ad'))\n",
    "result_1d['de_fdr'] = memento.util._fdrcorrect(result_1d['de_pval'])\n",
    "result_1d.index = result_1d['gene']"
   ]
  },
  {
   "cell_type": "code",
   "execution_count": 158,
   "metadata": {},
   "outputs": [],
   "source": [
    "df['log10(P)'] = -np.log10(df['pv'])\n",
    "df.index = df['tf']\n",
    "df = df.join(result_1d).sort_values('pv')[['tf', 'corr', 'pv', 'log10(P)', 'de_fdr']]#.head(20)"
   ]
  },
  {
   "cell_type": "code",
   "execution_count": 164,
   "metadata": {},
   "outputs": [
    {
     "data": {
      "text/html": [
       "<div>\n",
       "<style scoped>\n",
       "    .dataframe tbody tr th:only-of-type {\n",
       "        vertical-align: middle;\n",
       "    }\n",
       "\n",
       "    .dataframe tbody tr th {\n",
       "        vertical-align: top;\n",
       "    }\n",
       "\n",
       "    .dataframe thead th {\n",
       "        text-align: right;\n",
       "    }\n",
       "</style>\n",
       "<table border=\"1\" class=\"dataframe\">\n",
       "  <thead>\n",
       "    <tr style=\"text-align: right;\">\n",
       "      <th></th>\n",
       "      <th>tf</th>\n",
       "      <th>corr</th>\n",
       "      <th>pv</th>\n",
       "      <th>log10(P)</th>\n",
       "      <th>de_fdr</th>\n",
       "    </tr>\n",
       "    <tr>\n",
       "      <th>tf</th>\n",
       "      <th></th>\n",
       "      <th></th>\n",
       "      <th></th>\n",
       "      <th></th>\n",
       "      <th></th>\n",
       "    </tr>\n",
       "  </thead>\n",
       "  <tbody>\n",
       "    <tr>\n",
       "      <th>HBP1</th>\n",
       "      <td>HBP1</td>\n",
       "      <td>0.187148</td>\n",
       "      <td>3.140394e-62</td>\n",
       "      <td>61.503016</td>\n",
       "      <td>1.763326e-01</td>\n",
       "    </tr>\n",
       "    <tr>\n",
       "      <th>RELA</th>\n",
       "      <td>RELA</td>\n",
       "      <td>0.164545</td>\n",
       "      <td>1.059493e-47</td>\n",
       "      <td>46.974902</td>\n",
       "      <td>7.420385e-01</td>\n",
       "    </tr>\n",
       "    <tr>\n",
       "      <th>USF2</th>\n",
       "      <td>USF2</td>\n",
       "      <td>0.160687</td>\n",
       "      <td>2.474102e-48</td>\n",
       "      <td>47.606582</td>\n",
       "      <td>1.005752e-01</td>\n",
       "    </tr>\n",
       "    <tr>\n",
       "      <th>ZBTB24</th>\n",
       "      <td>ZBTB24</td>\n",
       "      <td>0.143244</td>\n",
       "      <td>1.834856e-44</td>\n",
       "      <td>43.736398</td>\n",
       "      <td>3.494519e-01</td>\n",
       "    </tr>\n",
       "    <tr>\n",
       "      <th>FIZ1</th>\n",
       "      <td>FIZ1</td>\n",
       "      <td>0.139137</td>\n",
       "      <td>6.219619e-31</td>\n",
       "      <td>30.206236</td>\n",
       "      <td>3.374987e-01</td>\n",
       "    </tr>\n",
       "    <tr>\n",
       "      <th>MEF2A</th>\n",
       "      <td>MEF2A</td>\n",
       "      <td>0.137467</td>\n",
       "      <td>1.275203e-41</td>\n",
       "      <td>40.894421</td>\n",
       "      <td>5.532377e-02</td>\n",
       "    </tr>\n",
       "    <tr>\n",
       "      <th>ZNF766</th>\n",
       "      <td>ZNF766</td>\n",
       "      <td>0.136105</td>\n",
       "      <td>1.080507e-40</td>\n",
       "      <td>39.966372</td>\n",
       "      <td>1.275908e-06</td>\n",
       "    </tr>\n",
       "    <tr>\n",
       "      <th>ZNF205</th>\n",
       "      <td>ZNF205</td>\n",
       "      <td>0.134269</td>\n",
       "      <td>1.167273e-31</td>\n",
       "      <td>30.932827</td>\n",
       "      <td>2.073400e-01</td>\n",
       "    </tr>\n",
       "    <tr>\n",
       "      <th>ARID4B</th>\n",
       "      <td>ARID4B</td>\n",
       "      <td>0.133746</td>\n",
       "      <td>2.235426e-37</td>\n",
       "      <td>36.650640</td>\n",
       "      <td>9.748953e-06</td>\n",
       "    </tr>\n",
       "    <tr>\n",
       "      <th>PITX1</th>\n",
       "      <td>PITX1</td>\n",
       "      <td>0.133317</td>\n",
       "      <td>1.591267e-57</td>\n",
       "      <td>56.798257</td>\n",
       "      <td>7.738138e-01</td>\n",
       "    </tr>\n",
       "    <tr>\n",
       "      <th>RORC</th>\n",
       "      <td>RORC</td>\n",
       "      <td>0.133102</td>\n",
       "      <td>5.381588e-32</td>\n",
       "      <td>31.269090</td>\n",
       "      <td>4.723558e-01</td>\n",
       "    </tr>\n",
       "    <tr>\n",
       "      <th>ZNF714</th>\n",
       "      <td>ZNF714</td>\n",
       "      <td>0.130586</td>\n",
       "      <td>1.396658e-42</td>\n",
       "      <td>41.854910</td>\n",
       "      <td>4.290512e-02</td>\n",
       "    </tr>\n",
       "    <tr>\n",
       "      <th>ADNP</th>\n",
       "      <td>ADNP</td>\n",
       "      <td>0.128955</td>\n",
       "      <td>4.369555e-39</td>\n",
       "      <td>38.359563</td>\n",
       "      <td>1.634082e-01</td>\n",
       "    </tr>\n",
       "    <tr>\n",
       "      <th>REL</th>\n",
       "      <td>REL</td>\n",
       "      <td>0.125946</td>\n",
       "      <td>1.343419e-33</td>\n",
       "      <td>32.871789</td>\n",
       "      <td>7.247834e-04</td>\n",
       "    </tr>\n",
       "    <tr>\n",
       "      <th>NFE2L1</th>\n",
       "      <td>NFE2L1</td>\n",
       "      <td>0.125884</td>\n",
       "      <td>2.491711e-33</td>\n",
       "      <td>32.603502</td>\n",
       "      <td>2.374465e-07</td>\n",
       "    </tr>\n",
       "  </tbody>\n",
       "</table>\n",
       "</div>"
      ],
      "text/plain": [
       "            tf      corr            pv   log10(P)        de_fdr\n",
       "tf                                                             \n",
       "HBP1      HBP1  0.187148  3.140394e-62  61.503016  1.763326e-01\n",
       "RELA      RELA  0.164545  1.059493e-47  46.974902  7.420385e-01\n",
       "USF2      USF2  0.160687  2.474102e-48  47.606582  1.005752e-01\n",
       "ZBTB24  ZBTB24  0.143244  1.834856e-44  43.736398  3.494519e-01\n",
       "FIZ1      FIZ1  0.139137  6.219619e-31  30.206236  3.374987e-01\n",
       "MEF2A    MEF2A  0.137467  1.275203e-41  40.894421  5.532377e-02\n",
       "ZNF766  ZNF766  0.136105  1.080507e-40  39.966372  1.275908e-06\n",
       "ZNF205  ZNF205  0.134269  1.167273e-31  30.932827  2.073400e-01\n",
       "ARID4B  ARID4B  0.133746  2.235426e-37  36.650640  9.748953e-06\n",
       "PITX1    PITX1  0.133317  1.591267e-57  56.798257  7.738138e-01\n",
       "RORC      RORC  0.133102  5.381588e-32  31.269090  4.723558e-01\n",
       "ZNF714  ZNF714  0.130586  1.396658e-42  41.854910  4.290512e-02\n",
       "ADNP      ADNP  0.128955  4.369555e-39  38.359563  1.634082e-01\n",
       "REL        REL  0.125946  1.343419e-33  32.871789  7.247834e-04\n",
       "NFE2L1  NFE2L1  0.125884  2.491711e-33  32.603502  2.374465e-07"
      ]
     },
     "execution_count": 164,
     "metadata": {},
     "output_type": "execute_result"
    }
   ],
   "source": [
    "df.sort_values('corr', ascending=False).head(15)"
   ]
  },
  {
   "cell_type": "code",
   "execution_count": 163,
   "metadata": {},
   "outputs": [
    {
     "data": {
      "text/html": [
       "<div>\n",
       "<style scoped>\n",
       "    .dataframe tbody tr th:only-of-type {\n",
       "        vertical-align: middle;\n",
       "    }\n",
       "\n",
       "    .dataframe tbody tr th {\n",
       "        vertical-align: top;\n",
       "    }\n",
       "\n",
       "    .dataframe thead th {\n",
       "        text-align: right;\n",
       "    }\n",
       "</style>\n",
       "<table border=\"1\" class=\"dataframe\">\n",
       "  <thead>\n",
       "    <tr style=\"text-align: right;\">\n",
       "      <th></th>\n",
       "      <th>tf</th>\n",
       "      <th>corr</th>\n",
       "      <th>pv</th>\n",
       "      <th>log10(P)</th>\n",
       "      <th>de_fdr</th>\n",
       "    </tr>\n",
       "    <tr>\n",
       "      <th>tf</th>\n",
       "      <th></th>\n",
       "      <th></th>\n",
       "      <th></th>\n",
       "      <th></th>\n",
       "      <th></th>\n",
       "    </tr>\n",
       "  </thead>\n",
       "  <tbody>\n",
       "    <tr>\n",
       "      <th>HES4</th>\n",
       "      <td>HES4</td>\n",
       "      <td>0.106027</td>\n",
       "      <td>7.868260e-66</td>\n",
       "      <td>65.104121</td>\n",
       "      <td>1.245478e-51</td>\n",
       "    </tr>\n",
       "    <tr>\n",
       "      <th>HBP1</th>\n",
       "      <td>HBP1</td>\n",
       "      <td>0.187148</td>\n",
       "      <td>3.140394e-62</td>\n",
       "      <td>61.503016</td>\n",
       "      <td>1.763326e-01</td>\n",
       "    </tr>\n",
       "    <tr>\n",
       "      <th>PITX1</th>\n",
       "      <td>PITX1</td>\n",
       "      <td>0.133317</td>\n",
       "      <td>1.591267e-57</td>\n",
       "      <td>56.798257</td>\n",
       "      <td>7.738138e-01</td>\n",
       "    </tr>\n",
       "    <tr>\n",
       "      <th>JUNB</th>\n",
       "      <td>JUNB</td>\n",
       "      <td>0.102944</td>\n",
       "      <td>1.031942e-56</td>\n",
       "      <td>55.986345</td>\n",
       "      <td>1.479046e-21</td>\n",
       "    </tr>\n",
       "    <tr>\n",
       "      <th>ELF3</th>\n",
       "      <td>ELF3</td>\n",
       "      <td>0.095078</td>\n",
       "      <td>1.596621e-54</td>\n",
       "      <td>53.796798</td>\n",
       "      <td>2.606274e-14</td>\n",
       "    </tr>\n",
       "    <tr>\n",
       "      <th>JUN</th>\n",
       "      <td>JUN</td>\n",
       "      <td>0.079404</td>\n",
       "      <td>1.597119e-51</td>\n",
       "      <td>50.796663</td>\n",
       "      <td>2.381875e-05</td>\n",
       "    </tr>\n",
       "    <tr>\n",
       "      <th>KLF5</th>\n",
       "      <td>KLF5</td>\n",
       "      <td>0.113829</td>\n",
       "      <td>1.652803e-51</td>\n",
       "      <td>50.781779</td>\n",
       "      <td>4.296872e-01</td>\n",
       "    </tr>\n",
       "    <tr>\n",
       "      <th>KLF6</th>\n",
       "      <td>KLF6</td>\n",
       "      <td>0.094679</td>\n",
       "      <td>2.099464e-51</td>\n",
       "      <td>50.677892</td>\n",
       "      <td>4.398774e-04</td>\n",
       "    </tr>\n",
       "    <tr>\n",
       "      <th>ID1</th>\n",
       "      <td>ID1</td>\n",
       "      <td>0.094386</td>\n",
       "      <td>6.938425e-51</td>\n",
       "      <td>50.158739</td>\n",
       "      <td>1.325855e-21</td>\n",
       "    </tr>\n",
       "    <tr>\n",
       "      <th>ETS2</th>\n",
       "      <td>ETS2</td>\n",
       "      <td>0.109059</td>\n",
       "      <td>5.661465e-50</td>\n",
       "      <td>49.247071</td>\n",
       "      <td>7.471835e-01</td>\n",
       "    </tr>\n",
       "  </tbody>\n",
       "</table>\n",
       "</div>"
      ],
      "text/plain": [
       "          tf      corr            pv   log10(P)        de_fdr\n",
       "tf                                                           \n",
       "HES4    HES4  0.106027  7.868260e-66  65.104121  1.245478e-51\n",
       "HBP1    HBP1  0.187148  3.140394e-62  61.503016  1.763326e-01\n",
       "PITX1  PITX1  0.133317  1.591267e-57  56.798257  7.738138e-01\n",
       "JUNB    JUNB  0.102944  1.031942e-56  55.986345  1.479046e-21\n",
       "ELF3    ELF3  0.095078  1.596621e-54  53.796798  2.606274e-14\n",
       "JUN      JUN  0.079404  1.597119e-51  50.796663  2.381875e-05\n",
       "KLF5    KLF5  0.113829  1.652803e-51  50.781779  4.296872e-01\n",
       "KLF6    KLF6  0.094679  2.099464e-51  50.677892  4.398774e-04\n",
       "ID1      ID1  0.094386  6.938425e-51  50.158739  1.325855e-21\n",
       "ETS2    ETS2  0.109059  5.661465e-50  49.247071  7.471835e-01"
      ]
     },
     "execution_count": 163,
     "metadata": {},
     "output_type": "execute_result"
    }
   ],
   "source": [
    "df.sort_values('pv').head(10)"
   ]
  },
  {
   "cell_type": "code",
   "execution_count": 165,
   "metadata": {},
   "outputs": [
    {
     "data": {
      "text/plain": [
       "Text(0, 0.5, '-log10(P-value)')"
      ]
     },
     "execution_count": 165,
     "metadata": {},
     "output_type": "execute_result"
    },
    {
     "data": {
      "image/png": "[encoded data removed]",
      "text/plain": [
       "<Figure size 144x144 with 1 Axes>"
      ]
     },
     "metadata": {
      "needs_background": "light"
     },
     "output_type": "display_data"
    }
   ],
   "source": [
    "plt.figure(figsize=(2,2))\n",
    "plt.scatter(df['corr'], df['log10(P)'], s=3, color='k')\n",
    "plt.scatter(df.loc['REL']['corr'], df.loc['REL']['log10(P)'], s=100, color='orange')\n",
    "\n",
    "plt.xlabel(r'Avg. change in corr upon IFN-$\\beta$'); plt.ylabel('-log10(P-value)')"
   ]
  },
  {
   "cell_type": "code",
   "execution_count": 166,
   "metadata": {},
   "outputs": [
    {
     "name": "stderr",
     "output_type": "stream",
     "text": [
      "/home/ssm-user/anaconda3/envs/single_cell/lib/python3.8/site-packages/pandas/core/arrays/categorical.py:2487: FutureWarning: The `inplace` parameter in pandas.Categorical.remove_unused_categories is deprecated and will be removed in a future version.\n",
      "  res = method(*args, **kwargs)\n",
      "/home/ssm-user/Github/scrna-parameter-estimation/dist/memento-0.0.6-py3.8.egg/memento/main.py:614: RuntimeWarning: invalid value encountered in true_divide\n",
      "  groupby_corr[key] /= groupby_corr_count[key]\n"
     ]
    }
   ],
   "source": [
    "available_tfs, gamma_result = get_2d_ht('gamma')\n",
    "gamma_result['diff'] = gamma_result['time_step_1'] - gamma_result['time_step_0']"
   ]
  },
  {
   "cell_type": "code",
   "execution_count": 167,
   "metadata": {},
   "outputs": [],
   "source": [
    "df = []\n",
    "for tf in available_tfs:\n",
    "    pv = stats.ttest_1samp(gamma_result.query('gene_1 == \"{}\"'.format(tf)).dropna()['diff'].values, popmean=0)[1]\n",
    "    corr = gamma_result.query('gene_1 == \"{}\"'.format(tf)).dropna()['diff'].values.mean()\n",
    "    df.append((tf, corr, pv))    \n",
    "    \n",
    "df = pd.DataFrame(df, columns=['tf','corr', 'pv'])"
   ]
  },
  {
   "cell_type": "code",
   "execution_count": 168,
   "metadata": {},
   "outputs": [],
   "source": [
    "result_1d = memento.get_1d_ht_result(sc.read(data_path + 'binary_test_latest/C_gamma_3.h5ad'))\n",
    "result_1d['de_fdr'] = memento.util._fdrcorrect(result_1d['de_pval'])\n",
    "result_1d.index = result_1d['gene']"
   ]
  },
  {
   "cell_type": "code",
   "execution_count": 169,
   "metadata": {},
   "outputs": [],
   "source": [
    "df['log10(P)'] = -np.log10(df['pv'])\n",
    "df.index = df['tf']\n",
    "df = df.join(result_1d).sort_values('pv')[['tf', 'corr', 'pv', 'log10(P)', 'de_fdr']]#.head(20)"
   ]
  },
  {
   "cell_type": "code",
   "execution_count": 170,
   "metadata": {},
   "outputs": [
    {
     "data": {
      "text/html": [
       "<div>\n",
       "<style scoped>\n",
       "    .dataframe tbody tr th:only-of-type {\n",
       "        vertical-align: middle;\n",
       "    }\n",
       "\n",
       "    .dataframe tbody tr th {\n",
       "        vertical-align: top;\n",
       "    }\n",
       "\n",
       "    .dataframe thead th {\n",
       "        text-align: right;\n",
       "    }\n",
       "</style>\n",
       "<table border=\"1\" class=\"dataframe\">\n",
       "  <thead>\n",
       "    <tr style=\"text-align: right;\">\n",
       "      <th></th>\n",
       "      <th>tf</th>\n",
       "      <th>corr</th>\n",
       "      <th>pv</th>\n",
       "      <th>log10(P)</th>\n",
       "      <th>de_fdr</th>\n",
       "    </tr>\n",
       "    <tr>\n",
       "      <th>tf</th>\n",
       "      <th></th>\n",
       "      <th></th>\n",
       "      <th></th>\n",
       "      <th></th>\n",
       "      <th></th>\n",
       "    </tr>\n",
       "  </thead>\n",
       "  <tbody>\n",
       "    <tr>\n",
       "      <th>ZNF384</th>\n",
       "      <td>ZNF384</td>\n",
       "      <td>0.101623</td>\n",
       "      <td>3.476906e-22</td>\n",
       "      <td>21.458807</td>\n",
       "      <td>0.708365</td>\n",
       "    </tr>\n",
       "    <tr>\n",
       "      <th>MBD4</th>\n",
       "      <td>MBD4</td>\n",
       "      <td>0.092704</td>\n",
       "      <td>1.656842e-30</td>\n",
       "      <td>29.780719</td>\n",
       "      <td>0.721298</td>\n",
       "    </tr>\n",
       "    <tr>\n",
       "      <th>FIZ1</th>\n",
       "      <td>FIZ1</td>\n",
       "      <td>0.083854</td>\n",
       "      <td>4.386439e-11</td>\n",
       "      <td>10.357888</td>\n",
       "      <td>0.194032</td>\n",
       "    </tr>\n",
       "    <tr>\n",
       "      <th>IKZF5</th>\n",
       "      <td>IKZF5</td>\n",
       "      <td>0.079704</td>\n",
       "      <td>1.163255e-13</td>\n",
       "      <td>12.934325</td>\n",
       "      <td>0.876870</td>\n",
       "    </tr>\n",
       "    <tr>\n",
       "      <th>ZNF592</th>\n",
       "      <td>ZNF592</td>\n",
       "      <td>0.077179</td>\n",
       "      <td>2.562971e-18</td>\n",
       "      <td>17.591256</td>\n",
       "      <td>0.724071</td>\n",
       "    </tr>\n",
       "    <tr>\n",
       "      <th>ARID4B</th>\n",
       "      <td>ARID4B</td>\n",
       "      <td>0.071261</td>\n",
       "      <td>6.464805e-13</td>\n",
       "      <td>12.189445</td>\n",
       "      <td>0.003989</td>\n",
       "    </tr>\n",
       "    <tr>\n",
       "      <th>ZNF644</th>\n",
       "      <td>ZNF644</td>\n",
       "      <td>0.070975</td>\n",
       "      <td>2.119827e-20</td>\n",
       "      <td>19.673700</td>\n",
       "      <td>0.397336</td>\n",
       "    </tr>\n",
       "    <tr>\n",
       "      <th>FOSL2</th>\n",
       "      <td>FOSL2</td>\n",
       "      <td>0.069979</td>\n",
       "      <td>1.665961e-22</td>\n",
       "      <td>21.778335</td>\n",
       "      <td>0.856891</td>\n",
       "    </tr>\n",
       "    <tr>\n",
       "      <th>ZNF429</th>\n",
       "      <td>ZNF429</td>\n",
       "      <td>0.069448</td>\n",
       "      <td>2.656640e-13</td>\n",
       "      <td>12.575667</td>\n",
       "      <td>0.160588</td>\n",
       "    </tr>\n",
       "    <tr>\n",
       "      <th>RELA</th>\n",
       "      <td>RELA</td>\n",
       "      <td>0.066644</td>\n",
       "      <td>2.351696e-12</td>\n",
       "      <td>11.628619</td>\n",
       "      <td>0.957813</td>\n",
       "    </tr>\n",
       "    <tr>\n",
       "      <th>HMGXB4</th>\n",
       "      <td>HMGXB4</td>\n",
       "      <td>0.065816</td>\n",
       "      <td>6.665000e-18</td>\n",
       "      <td>17.176200</td>\n",
       "      <td>0.804845</td>\n",
       "    </tr>\n",
       "    <tr>\n",
       "      <th>BAZ2A</th>\n",
       "      <td>BAZ2A</td>\n",
       "      <td>0.064762</td>\n",
       "      <td>5.360285e-21</td>\n",
       "      <td>20.270812</td>\n",
       "      <td>0.269472</td>\n",
       "    </tr>\n",
       "    <tr>\n",
       "      <th>ZNF276</th>\n",
       "      <td>ZNF276</td>\n",
       "      <td>0.063824</td>\n",
       "      <td>7.136320e-12</td>\n",
       "      <td>11.146526</td>\n",
       "      <td>0.210794</td>\n",
       "    </tr>\n",
       "    <tr>\n",
       "      <th>HMGB1</th>\n",
       "      <td>HMGB1</td>\n",
       "      <td>0.062547</td>\n",
       "      <td>1.014696e-25</td>\n",
       "      <td>24.993664</td>\n",
       "      <td>0.241918</td>\n",
       "    </tr>\n",
       "    <tr>\n",
       "      <th>TGIF1</th>\n",
       "      <td>TGIF1</td>\n",
       "      <td>0.061210</td>\n",
       "      <td>1.641402e-22</td>\n",
       "      <td>21.784785</td>\n",
       "      <td>0.038814</td>\n",
       "    </tr>\n",
       "  </tbody>\n",
       "</table>\n",
       "</div>"
      ],
      "text/plain": [
       "            tf      corr            pv   log10(P)    de_fdr\n",
       "tf                                                         \n",
       "ZNF384  ZNF384  0.101623  3.476906e-22  21.458807  0.708365\n",
       "MBD4      MBD4  0.092704  1.656842e-30  29.780719  0.721298\n",
       "FIZ1      FIZ1  0.083854  4.386439e-11  10.357888  0.194032\n",
       "IKZF5    IKZF5  0.079704  1.163255e-13  12.934325  0.876870\n",
       "ZNF592  ZNF592  0.077179  2.562971e-18  17.591256  0.724071\n",
       "ARID4B  ARID4B  0.071261  6.464805e-13  12.189445  0.003989\n",
       "ZNF644  ZNF644  0.070975  2.119827e-20  19.673700  0.397336\n",
       "FOSL2    FOSL2  0.069979  1.665961e-22  21.778335  0.856891\n",
       "ZNF429  ZNF429  0.069448  2.656640e-13  12.575667  0.160588\n",
       "RELA      RELA  0.066644  2.351696e-12  11.628619  0.957813\n",
       "HMGXB4  HMGXB4  0.065816  6.665000e-18  17.176200  0.804845\n",
       "BAZ2A    BAZ2A  0.064762  5.360285e-21  20.270812  0.269472\n",
       "ZNF276  ZNF276  0.063824  7.136320e-12  11.146526  0.210794\n",
       "HMGB1    HMGB1  0.062547  1.014696e-25  24.993664  0.241918\n",
       "TGIF1    TGIF1  0.061210  1.641402e-22  21.784785  0.038814"
      ]
     },
     "execution_count": 170,
     "metadata": {},
     "output_type": "execute_result"
    }
   ],
   "source": [
    "df.sort_values('corr', ascending=False).head(15)"
   ]
  },
  {
   "cell_type": "code",
   "execution_count": 171,
   "metadata": {},
   "outputs": [
    {
     "data": {
      "text/html": [
       "<div>\n",
       "<style scoped>\n",
       "    .dataframe tbody tr th:only-of-type {\n",
       "        vertical-align: middle;\n",
       "    }\n",
       "\n",
       "    .dataframe tbody tr th {\n",
       "        vertical-align: top;\n",
       "    }\n",
       "\n",
       "    .dataframe thead th {\n",
       "        text-align: right;\n",
       "    }\n",
       "</style>\n",
       "<table border=\"1\" class=\"dataframe\">\n",
       "  <thead>\n",
       "    <tr style=\"text-align: right;\">\n",
       "      <th></th>\n",
       "      <th>tf</th>\n",
       "      <th>corr</th>\n",
       "      <th>pv</th>\n",
       "      <th>log10(P)</th>\n",
       "      <th>de_fdr</th>\n",
       "    </tr>\n",
       "    <tr>\n",
       "      <th>tf</th>\n",
       "      <th></th>\n",
       "      <th></th>\n",
       "      <th></th>\n",
       "      <th></th>\n",
       "      <th></th>\n",
       "    </tr>\n",
       "  </thead>\n",
       "  <tbody>\n",
       "    <tr>\n",
       "      <th>MBD4</th>\n",
       "      <td>MBD4</td>\n",
       "      <td>0.092704</td>\n",
       "      <td>1.656842e-30</td>\n",
       "      <td>29.780719</td>\n",
       "      <td>7.212978e-01</td>\n",
       "    </tr>\n",
       "    <tr>\n",
       "      <th>JUN</th>\n",
       "      <td>JUN</td>\n",
       "      <td>0.044866</td>\n",
       "      <td>1.851609e-27</td>\n",
       "      <td>26.732451</td>\n",
       "      <td>1.622893e-01</td>\n",
       "    </tr>\n",
       "    <tr>\n",
       "      <th>HMGB1</th>\n",
       "      <td>HMGB1</td>\n",
       "      <td>0.062547</td>\n",
       "      <td>1.014696e-25</td>\n",
       "      <td>24.993664</td>\n",
       "      <td>2.419183e-01</td>\n",
       "    </tr>\n",
       "    <tr>\n",
       "      <th>SOX4</th>\n",
       "      <td>SOX4</td>\n",
       "      <td>0.041319</td>\n",
       "      <td>1.522028e-24</td>\n",
       "      <td>23.817577</td>\n",
       "      <td>3.435722e-04</td>\n",
       "    </tr>\n",
       "    <tr>\n",
       "      <th>YBX1</th>\n",
       "      <td>YBX1</td>\n",
       "      <td>0.053276</td>\n",
       "      <td>2.639843e-23</td>\n",
       "      <td>22.578422</td>\n",
       "      <td>4.522344e-16</td>\n",
       "    </tr>\n",
       "    <tr>\n",
       "      <th>ID4</th>\n",
       "      <td>ID4</td>\n",
       "      <td>0.053793</td>\n",
       "      <td>9.813184e-23</td>\n",
       "      <td>22.008190</td>\n",
       "      <td>4.734399e-01</td>\n",
       "    </tr>\n",
       "    <tr>\n",
       "      <th>TGIF1</th>\n",
       "      <td>TGIF1</td>\n",
       "      <td>0.061210</td>\n",
       "      <td>1.641402e-22</td>\n",
       "      <td>21.784785</td>\n",
       "      <td>3.881408e-02</td>\n",
       "    </tr>\n",
       "    <tr>\n",
       "      <th>FOSL2</th>\n",
       "      <td>FOSL2</td>\n",
       "      <td>0.069979</td>\n",
       "      <td>1.665961e-22</td>\n",
       "      <td>21.778335</td>\n",
       "      <td>8.568909e-01</td>\n",
       "    </tr>\n",
       "    <tr>\n",
       "      <th>ZNF384</th>\n",
       "      <td>ZNF384</td>\n",
       "      <td>0.101623</td>\n",
       "      <td>3.476906e-22</td>\n",
       "      <td>21.458807</td>\n",
       "      <td>7.083647e-01</td>\n",
       "    </tr>\n",
       "    <tr>\n",
       "      <th>FOS</th>\n",
       "      <td>FOS</td>\n",
       "      <td>0.043470</td>\n",
       "      <td>1.970155e-21</td>\n",
       "      <td>20.705500</td>\n",
       "      <td>8.111719e-01</td>\n",
       "    </tr>\n",
       "  </tbody>\n",
       "</table>\n",
       "</div>"
      ],
      "text/plain": [
       "            tf      corr            pv   log10(P)        de_fdr\n",
       "tf                                                             \n",
       "MBD4      MBD4  0.092704  1.656842e-30  29.780719  7.212978e-01\n",
       "JUN        JUN  0.044866  1.851609e-27  26.732451  1.622893e-01\n",
       "HMGB1    HMGB1  0.062547  1.014696e-25  24.993664  2.419183e-01\n",
       "SOX4      SOX4  0.041319  1.522028e-24  23.817577  3.435722e-04\n",
       "YBX1      YBX1  0.053276  2.639843e-23  22.578422  4.522344e-16\n",
       "ID4        ID4  0.053793  9.813184e-23  22.008190  4.734399e-01\n",
       "TGIF1    TGIF1  0.061210  1.641402e-22  21.784785  3.881408e-02\n",
       "FOSL2    FOSL2  0.069979  1.665961e-22  21.778335  8.568909e-01\n",
       "ZNF384  ZNF384  0.101623  3.476906e-22  21.458807  7.083647e-01\n",
       "FOS        FOS  0.043470  1.970155e-21  20.705500  8.111719e-01"
      ]
     },
     "execution_count": 171,
     "metadata": {},
     "output_type": "execute_result"
    }
   ],
   "source": [
    "df.head(10)"
   ]
  },
  {
   "cell_type": "code",
   "execution_count": 172,
   "metadata": {},
   "outputs": [
    {
     "data": {
      "text/plain": [
       "Text(0, 0.5, '-log10(P-value)')"
      ]
     },
     "execution_count": 172,
     "metadata": {},
     "output_type": "execute_result"
    },
    {
     "data": {
      "image/png": "[encoded data removed]",
      "text/plain": [
       "<Figure size 144x144 with 1 Axes>"
      ]
     },
     "metadata": {
      "needs_background": "light"
     },
     "output_type": "display_data"
    }
   ],
   "source": [
    "plt.figure(figsize=(2,2))\n",
    "plt.scatter(df['corr'], df['log10(P)'], s=3, color='k')\n",
    "plt.scatter(df.loc['STAT1']['corr'], df.loc['STAT1']['log10(P)'], s=100, color='orange')\n",
    "\n",
    "plt.xlabel(r'Avg. change in corr upon IFN-$\\gamma$'); plt.ylabel('-log10(P-value)')"
   ]
  },
  {
   "cell_type": "markdown",
   "metadata": {},
   "source": [
    "### Perform differential correlation analysis"
   ]
  },
  {
   "cell_type": "code",
   "execution_count": 16,
   "metadata": {},
   "outputs": [],
   "source": [
    "tfs = 'STAT1, STAT2, IRF1, IRF7, IRF9'.split(', ') + 'RELA, REL, JUN, HBP1, JUNB, KLF5, JUN'.split(', ') + ['FOS']"
   ]
  },
  {
   "cell_type": "code",
   "execution_count": 17,
   "metadata": {},
   "outputs": [],
   "source": [
    "def get_2d_ht_filtered(stim):\n",
    "    \n",
    "    adata_stim = adata.copy()[\n",
    "        adata.obs.ct.isin(['C']) & \\\n",
    "        adata.obs.time.isin(['0', '3'])& \\\n",
    "        adata.obs.stim.isin(['control', stim])].copy()\n",
    "    time_converter={0:0, 3:1}\n",
    "    adata_stim.obs['time_step'] = adata_stim.obs['time'].astype(int).apply(lambda x: time_converter[x])\n",
    "    \n",
    "    memento.create_groups(adata_stim, label_columns=['time_step', 'donor'])\n",
    "    memento.compute_1d_moments(adata_stim, min_perc_group=.9)\n",
    "    \n",
    "    available_tfs = list(set(tfs) & set(adata_stim.var.index))\n",
    "    available_genes = adata_stim.var.index.tolist()\n",
    "    available_isgs = list(set(available_genes) & set(all_isg))\n",
    "            \n",
    "    memento.compute_2d_moments(adata_stim, list(itertools.product(available_tfs, available_isgs)))\n",
    "    \n",
    "    memento.ht_2d_moments( \n",
    "        adata_stim, \n",
    "        formula_like='1 + time_step',\n",
    "        treatment_col='time_step', \n",
    "        num_boot=20000, \n",
    "        approx=False,\n",
    "        resampling='bootstrap',\n",
    "        verbose=1,\n",
    "        num_cpus=92)\n",
    "    \n",
    "    \n",
    "    return adata_stim.copy()"
   ]
  },
  {
   "cell_type": "code",
   "execution_count": 18,
   "metadata": {},
   "outputs": [
    {
     "name": "stderr",
     "output_type": "stream",
     "text": [
      "/home/ssm-user/anaconda3/envs/single_cell/lib/python3.8/site-packages/pandas/core/arrays/categorical.py:2487: FutureWarning: The `inplace` parameter in pandas.Categorical.remove_unused_categories is deprecated and will be removed in a future version.\n",
      "  res = method(*args, **kwargs)\n",
      "[Parallel(n_jobs=92)]: Using backend LokyBackend with 92 concurrent workers.\n",
      "[Parallel(n_jobs=92)]: Done  16 tasks      | elapsed:    7.0s\n",
      "[Parallel(n_jobs=92)]: Done 266 tasks      | elapsed:   18.2s\n",
      "[Parallel(n_jobs=92)]: Done 616 tasks      | elapsed:   28.5s\n",
      "[Parallel(n_jobs=92)]: Done 1066 tasks      | elapsed:   40.8s\n",
      "[Parallel(n_jobs=92)]: Done 1616 tasks      | elapsed:  1.1min\n",
      "[Parallel(n_jobs=92)]: Done 2266 tasks      | elapsed:  1.7min\n",
      "[Parallel(n_jobs=92)]: Done 3016 tasks      | elapsed:  2.3min\n",
      "[Parallel(n_jobs=92)]: Done 3866 tasks      | elapsed:  3.0min\n",
      "[Parallel(n_jobs=92)]: Done 4065 out of 4065 | elapsed:  3.2min finished\n",
      "[Parallel(n_jobs=92)]: Using backend LokyBackend with 92 concurrent workers.\n",
      "[Parallel(n_jobs=92)]: Done  16 tasks      | elapsed:    3.2s\n",
      "[Parallel(n_jobs=92)]: Done 266 tasks      | elapsed:   13.0s\n",
      "[Parallel(n_jobs=92)]: Done 616 tasks      | elapsed:   21.9s\n",
      "[Parallel(n_jobs=92)]: Done 1066 tasks      | elapsed:   32.7s\n",
      "[Parallel(n_jobs=92)]: Done 1616 tasks      | elapsed:   55.7s\n",
      "[Parallel(n_jobs=92)]: Done 2266 tasks      | elapsed:  1.4min\n",
      "[Parallel(n_jobs=92)]: Done 3016 tasks      | elapsed:  1.8min\n",
      "[Parallel(n_jobs=92)]: Done 4005 out of 4005 | elapsed:  2.5min finished\n"
     ]
    }
   ],
   "source": [
    "beta_adata = get_2d_ht_filtered('beta')\n",
    "gamma_adata = get_2d_ht_filtered('gamma')"
   ]
  },
  {
   "cell_type": "code",
   "execution_count": 32,
   "metadata": {},
   "outputs": [],
   "source": [
    "chip_data = pd.read_csv(data_path + '../all_chip_result.csv', index_col=0)"
   ]
  },
  {
   "cell_type": "code",
   "execution_count": 35,
   "metadata": {},
   "outputs": [
    {
     "data": {
      "text/plain": [
       "False"
      ]
     },
     "execution_count": 35,
     "metadata": {},
     "output_type": "execute_result"
    }
   ],
   "source": [
    "'KLF5' in chip_data.columns"
   ]
  },
  {
   "cell_type": "code",
   "execution_count": 34,
   "metadata": {},
   "outputs": [
    {
     "ename": "KeyError",
     "evalue": "'KLF5'",
     "output_type": "error",
     "traceback": [
      "\u001b[0;31m---------------------------------------------------------------------------\u001b[0m",
      "\u001b[0;31mKeyError\u001b[0m                                  Traceback (most recent call last)",
      "\u001b[0;32m~/anaconda3/envs/single_cell/lib/python3.8/site-packages/pandas/core/indexes/base.py\u001b[0m in \u001b[0;36mget_loc\u001b[0;34m(self, key, method, tolerance)\u001b[0m\n\u001b[1;32m   3079\u001b[0m             \u001b[0;32mtry\u001b[0m\u001b[0;34m:\u001b[0m\u001b[0;34m\u001b[0m\u001b[0;34m\u001b[0m\u001b[0m\n\u001b[0;32m-> 3080\u001b[0;31m                 \u001b[0;32mreturn\u001b[0m \u001b[0mself\u001b[0m\u001b[0;34m.\u001b[0m\u001b[0m_engine\u001b[0m\u001b[0;34m.\u001b[0m\u001b[0mget_loc\u001b[0m\u001b[0;34m(\u001b[0m\u001b[0mcasted_key\u001b[0m\u001b[0;34m)\u001b[0m\u001b[0;34m\u001b[0m\u001b[0;34m\u001b[0m\u001b[0m\n\u001b[0m\u001b[1;32m   3081\u001b[0m             \u001b[0;32mexcept\u001b[0m \u001b[0mKeyError\u001b[0m \u001b[0;32mas\u001b[0m \u001b[0merr\u001b[0m\u001b[0;34m:\u001b[0m\u001b[0;34m\u001b[0m\u001b[0;34m\u001b[0m\u001b[0m\n",
      "\u001b[0;32mpandas/_libs/index.pyx\u001b[0m in \u001b[0;36mpandas._libs.index.IndexEngine.get_loc\u001b[0;34m()\u001b[0m\n",
      "\u001b[0;32mpandas/_libs/index.pyx\u001b[0m in \u001b[0;36mpandas._libs.index.IndexEngine.get_loc\u001b[0;34m()\u001b[0m\n",
      "\u001b[0;32mpandas/_libs/hashtable_class_helper.pxi\u001b[0m in \u001b[0;36mpandas._libs.hashtable.PyObjectHashTable.get_item\u001b[0;34m()\u001b[0m\n",
      "\u001b[0;32mpandas/_libs/hashtable_class_helper.pxi\u001b[0m in \u001b[0;36mpandas._libs.hashtable.PyObjectHashTable.get_item\u001b[0;34m()\u001b[0m\n",
      "\u001b[0;31mKeyError\u001b[0m: 'KLF5'",
      "\nThe above exception was the direct cause of the following exception:\n",
      "\u001b[0;31mKeyError\u001b[0m                                  Traceback (most recent call last)",
      "\u001b[0;32m<ipython-input-34-f6495a798fb8>\u001b[0m in \u001b[0;36m<module>\u001b[0;34m\u001b[0m\n\u001b[0;32m----> 1\u001b[0;31m \u001b[0mchip_data\u001b[0m\u001b[0;34m.\u001b[0m\u001b[0mloc\u001b[0m\u001b[0;34m[\u001b[0m\u001b[0;34m'HERC6'\u001b[0m\u001b[0;34m,\u001b[0m \u001b[0;34m'KLF5'\u001b[0m\u001b[0;34m]\u001b[0m\u001b[0;34m\u001b[0m\u001b[0;34m\u001b[0m\u001b[0m\n\u001b[0m",
      "\u001b[0;32m~/anaconda3/envs/single_cell/lib/python3.8/site-packages/pandas/core/indexing.py\u001b[0m in \u001b[0;36m__getitem__\u001b[0;34m(self, key)\u001b[0m\n\u001b[1;32m    887\u001b[0m                     \u001b[0;31m# AttributeError for IntervalTree get_value\u001b[0m\u001b[0;34m\u001b[0m\u001b[0;34m\u001b[0m\u001b[0;34m\u001b[0m\u001b[0m\n\u001b[1;32m    888\u001b[0m                     \u001b[0;32mreturn\u001b[0m \u001b[0mself\u001b[0m\u001b[0;34m.\u001b[0m\u001b[0mobj\u001b[0m\u001b[0;34m.\u001b[0m\u001b[0m_get_value\u001b[0m\u001b[0;34m(\u001b[0m\u001b[0;34m*\u001b[0m\u001b[0mkey\u001b[0m\u001b[0;34m,\u001b[0m \u001b[0mtakeable\u001b[0m\u001b[0;34m=\u001b[0m\u001b[0mself\u001b[0m\u001b[0;34m.\u001b[0m\u001b[0m_takeable\u001b[0m\u001b[0;34m)\u001b[0m\u001b[0;34m\u001b[0m\u001b[0;34m\u001b[0m\u001b[0m\n\u001b[0;32m--> 889\u001b[0;31m             \u001b[0;32mreturn\u001b[0m \u001b[0mself\u001b[0m\u001b[0;34m.\u001b[0m\u001b[0m_getitem_tuple\u001b[0m\u001b[0;34m(\u001b[0m\u001b[0mkey\u001b[0m\u001b[0;34m)\u001b[0m\u001b[0;34m\u001b[0m\u001b[0;34m\u001b[0m\u001b[0m\n\u001b[0m\u001b[1;32m    890\u001b[0m         \u001b[0;32melse\u001b[0m\u001b[0;34m:\u001b[0m\u001b[0;34m\u001b[0m\u001b[0;34m\u001b[0m\u001b[0m\n\u001b[1;32m    891\u001b[0m             \u001b[0;31m# we by definition only have the 0th axis\u001b[0m\u001b[0;34m\u001b[0m\u001b[0;34m\u001b[0m\u001b[0;34m\u001b[0m\u001b[0m\n",
      "\u001b[0;32m~/anaconda3/envs/single_cell/lib/python3.8/site-packages/pandas/core/indexing.py\u001b[0m in \u001b[0;36m_getitem_tuple\u001b[0;34m(self, tup)\u001b[0m\n\u001b[1;32m   1058\u001b[0m     \u001b[0;32mdef\u001b[0m \u001b[0m_getitem_tuple\u001b[0m\u001b[0;34m(\u001b[0m\u001b[0mself\u001b[0m\u001b[0;34m,\u001b[0m \u001b[0mtup\u001b[0m\u001b[0;34m:\u001b[0m \u001b[0mTuple\u001b[0m\u001b[0;34m)\u001b[0m\u001b[0;34m:\u001b[0m\u001b[0;34m\u001b[0m\u001b[0;34m\u001b[0m\u001b[0m\n\u001b[1;32m   1059\u001b[0m         \u001b[0;32mwith\u001b[0m \u001b[0msuppress\u001b[0m\u001b[0;34m(\u001b[0m\u001b[0mIndexingError\u001b[0m\u001b[0;34m)\u001b[0m\u001b[0;34m:\u001b[0m\u001b[0;34m\u001b[0m\u001b[0;34m\u001b[0m\u001b[0m\n\u001b[0;32m-> 1060\u001b[0;31m             \u001b[0;32mreturn\u001b[0m \u001b[0mself\u001b[0m\u001b[0;34m.\u001b[0m\u001b[0m_getitem_lowerdim\u001b[0m\u001b[0;34m(\u001b[0m\u001b[0mtup\u001b[0m\u001b[0;34m)\u001b[0m\u001b[0;34m\u001b[0m\u001b[0;34m\u001b[0m\u001b[0m\n\u001b[0m\u001b[1;32m   1061\u001b[0m \u001b[0;34m\u001b[0m\u001b[0m\n\u001b[1;32m   1062\u001b[0m         \u001b[0;31m# no multi-index, so validate all of the indexers\u001b[0m\u001b[0;34m\u001b[0m\u001b[0;34m\u001b[0m\u001b[0;34m\u001b[0m\u001b[0m\n",
      "\u001b[0;32m~/anaconda3/envs/single_cell/lib/python3.8/site-packages/pandas/core/indexing.py\u001b[0m in \u001b[0;36m_getitem_lowerdim\u001b[0;34m(self, tup)\u001b[0m\n\u001b[1;32m    829\u001b[0m                     \u001b[0;32mreturn\u001b[0m \u001b[0msection\u001b[0m\u001b[0;34m\u001b[0m\u001b[0;34m\u001b[0m\u001b[0m\n\u001b[1;32m    830\u001b[0m                 \u001b[0;31m# This is an elided recursive call to iloc/loc\u001b[0m\u001b[0;34m\u001b[0m\u001b[0;34m\u001b[0m\u001b[0;34m\u001b[0m\u001b[0m\n\u001b[0;32m--> 831\u001b[0;31m                 \u001b[0;32mreturn\u001b[0m \u001b[0mgetattr\u001b[0m\u001b[0;34m(\u001b[0m\u001b[0msection\u001b[0m\u001b[0;34m,\u001b[0m \u001b[0mself\u001b[0m\u001b[0;34m.\u001b[0m\u001b[0mname\u001b[0m\u001b[0;34m)\u001b[0m\u001b[0;34m[\u001b[0m\u001b[0mnew_key\u001b[0m\u001b[0;34m]\u001b[0m\u001b[0;34m\u001b[0m\u001b[0;34m\u001b[0m\u001b[0m\n\u001b[0m\u001b[1;32m    832\u001b[0m \u001b[0;34m\u001b[0m\u001b[0m\n\u001b[1;32m    833\u001b[0m         \u001b[0;32mraise\u001b[0m \u001b[0mIndexingError\u001b[0m\u001b[0;34m(\u001b[0m\u001b[0;34m\"not applicable\"\u001b[0m\u001b[0;34m)\u001b[0m\u001b[0;34m\u001b[0m\u001b[0;34m\u001b[0m\u001b[0m\n",
      "\u001b[0;32m~/anaconda3/envs/single_cell/lib/python3.8/site-packages/pandas/core/indexing.py\u001b[0m in \u001b[0;36m__getitem__\u001b[0;34m(self, key)\u001b[0m\n\u001b[1;32m    893\u001b[0m \u001b[0;34m\u001b[0m\u001b[0m\n\u001b[1;32m    894\u001b[0m             \u001b[0mmaybe_callable\u001b[0m \u001b[0;34m=\u001b[0m \u001b[0mcom\u001b[0m\u001b[0;34m.\u001b[0m\u001b[0mapply_if_callable\u001b[0m\u001b[0;34m(\u001b[0m\u001b[0mkey\u001b[0m\u001b[0;34m,\u001b[0m \u001b[0mself\u001b[0m\u001b[0;34m.\u001b[0m\u001b[0mobj\u001b[0m\u001b[0;34m)\u001b[0m\u001b[0;34m\u001b[0m\u001b[0;34m\u001b[0m\u001b[0m\n\u001b[0;32m--> 895\u001b[0;31m             \u001b[0;32mreturn\u001b[0m \u001b[0mself\u001b[0m\u001b[0;34m.\u001b[0m\u001b[0m_getitem_axis\u001b[0m\u001b[0;34m(\u001b[0m\u001b[0mmaybe_callable\u001b[0m\u001b[0;34m,\u001b[0m \u001b[0maxis\u001b[0m\u001b[0;34m=\u001b[0m\u001b[0maxis\u001b[0m\u001b[0;34m)\u001b[0m\u001b[0;34m\u001b[0m\u001b[0;34m\u001b[0m\u001b[0m\n\u001b[0m\u001b[1;32m    896\u001b[0m \u001b[0;34m\u001b[0m\u001b[0m\n\u001b[1;32m    897\u001b[0m     \u001b[0;32mdef\u001b[0m \u001b[0m_is_scalar_access\u001b[0m\u001b[0;34m(\u001b[0m\u001b[0mself\u001b[0m\u001b[0;34m,\u001b[0m \u001b[0mkey\u001b[0m\u001b[0;34m:\u001b[0m \u001b[0mTuple\u001b[0m\u001b[0;34m)\u001b[0m\u001b[0;34m:\u001b[0m\u001b[0;34m\u001b[0m\u001b[0;34m\u001b[0m\u001b[0m\n",
      "\u001b[0;32m~/anaconda3/envs/single_cell/lib/python3.8/site-packages/pandas/core/indexing.py\u001b[0m in \u001b[0;36m_getitem_axis\u001b[0;34m(self, key, axis)\u001b[0m\n\u001b[1;32m   1122\u001b[0m         \u001b[0;31m# fall thru to straight lookup\u001b[0m\u001b[0;34m\u001b[0m\u001b[0;34m\u001b[0m\u001b[0;34m\u001b[0m\u001b[0m\n\u001b[1;32m   1123\u001b[0m         \u001b[0mself\u001b[0m\u001b[0;34m.\u001b[0m\u001b[0m_validate_key\u001b[0m\u001b[0;34m(\u001b[0m\u001b[0mkey\u001b[0m\u001b[0;34m,\u001b[0m \u001b[0maxis\u001b[0m\u001b[0;34m)\u001b[0m\u001b[0;34m\u001b[0m\u001b[0;34m\u001b[0m\u001b[0m\n\u001b[0;32m-> 1124\u001b[0;31m         \u001b[0;32mreturn\u001b[0m \u001b[0mself\u001b[0m\u001b[0;34m.\u001b[0m\u001b[0m_get_label\u001b[0m\u001b[0;34m(\u001b[0m\u001b[0mkey\u001b[0m\u001b[0;34m,\u001b[0m \u001b[0maxis\u001b[0m\u001b[0;34m=\u001b[0m\u001b[0maxis\u001b[0m\u001b[0;34m)\u001b[0m\u001b[0;34m\u001b[0m\u001b[0;34m\u001b[0m\u001b[0m\n\u001b[0m\u001b[1;32m   1125\u001b[0m \u001b[0;34m\u001b[0m\u001b[0m\n\u001b[1;32m   1126\u001b[0m     \u001b[0;32mdef\u001b[0m \u001b[0m_get_slice_axis\u001b[0m\u001b[0;34m(\u001b[0m\u001b[0mself\u001b[0m\u001b[0;34m,\u001b[0m \u001b[0mslice_obj\u001b[0m\u001b[0;34m:\u001b[0m \u001b[0mslice\u001b[0m\u001b[0;34m,\u001b[0m \u001b[0maxis\u001b[0m\u001b[0;34m:\u001b[0m \u001b[0mint\u001b[0m\u001b[0;34m)\u001b[0m\u001b[0;34m:\u001b[0m\u001b[0;34m\u001b[0m\u001b[0;34m\u001b[0m\u001b[0m\n",
      "\u001b[0;32m~/anaconda3/envs/single_cell/lib/python3.8/site-packages/pandas/core/indexing.py\u001b[0m in \u001b[0;36m_get_label\u001b[0;34m(self, label, axis)\u001b[0m\n\u001b[1;32m   1071\u001b[0m     \u001b[0;32mdef\u001b[0m \u001b[0m_get_label\u001b[0m\u001b[0;34m(\u001b[0m\u001b[0mself\u001b[0m\u001b[0;34m,\u001b[0m \u001b[0mlabel\u001b[0m\u001b[0;34m,\u001b[0m \u001b[0maxis\u001b[0m\u001b[0;34m:\u001b[0m \u001b[0mint\u001b[0m\u001b[0;34m)\u001b[0m\u001b[0;34m:\u001b[0m\u001b[0;34m\u001b[0m\u001b[0;34m\u001b[0m\u001b[0m\n\u001b[1;32m   1072\u001b[0m         \u001b[0;31m# GH#5667 this will fail if the label is not present in the axis.\u001b[0m\u001b[0;34m\u001b[0m\u001b[0;34m\u001b[0m\u001b[0;34m\u001b[0m\u001b[0m\n\u001b[0;32m-> 1073\u001b[0;31m         \u001b[0;32mreturn\u001b[0m \u001b[0mself\u001b[0m\u001b[0;34m.\u001b[0m\u001b[0mobj\u001b[0m\u001b[0;34m.\u001b[0m\u001b[0mxs\u001b[0m\u001b[0;34m(\u001b[0m\u001b[0mlabel\u001b[0m\u001b[0;34m,\u001b[0m \u001b[0maxis\u001b[0m\u001b[0;34m=\u001b[0m\u001b[0maxis\u001b[0m\u001b[0;34m)\u001b[0m\u001b[0;34m\u001b[0m\u001b[0;34m\u001b[0m\u001b[0m\n\u001b[0m\u001b[1;32m   1074\u001b[0m \u001b[0;34m\u001b[0m\u001b[0m\n\u001b[1;32m   1075\u001b[0m     \u001b[0;32mdef\u001b[0m \u001b[0m_handle_lowerdim_multi_index_axis0\u001b[0m\u001b[0;34m(\u001b[0m\u001b[0mself\u001b[0m\u001b[0;34m,\u001b[0m \u001b[0mtup\u001b[0m\u001b[0;34m:\u001b[0m \u001b[0mTuple\u001b[0m\u001b[0;34m)\u001b[0m\u001b[0;34m:\u001b[0m\u001b[0;34m\u001b[0m\u001b[0;34m\u001b[0m\u001b[0m\n",
      "\u001b[0;32m~/anaconda3/envs/single_cell/lib/python3.8/site-packages/pandas/core/generic.py\u001b[0m in \u001b[0;36mxs\u001b[0;34m(self, key, axis, level, drop_level)\u001b[0m\n\u001b[1;32m   3737\u001b[0m                 \u001b[0;32mraise\u001b[0m \u001b[0mTypeError\u001b[0m\u001b[0;34m(\u001b[0m\u001b[0;34mf\"Expected label or tuple of labels, got {key}\"\u001b[0m\u001b[0;34m)\u001b[0m \u001b[0;32mfrom\u001b[0m \u001b[0me\u001b[0m\u001b[0;34m\u001b[0m\u001b[0;34m\u001b[0m\u001b[0m\n\u001b[1;32m   3738\u001b[0m         \u001b[0;32melse\u001b[0m\u001b[0;34m:\u001b[0m\u001b[0;34m\u001b[0m\u001b[0;34m\u001b[0m\u001b[0m\n\u001b[0;32m-> 3739\u001b[0;31m             \u001b[0mloc\u001b[0m \u001b[0;34m=\u001b[0m \u001b[0mindex\u001b[0m\u001b[0;34m.\u001b[0m\u001b[0mget_loc\u001b[0m\u001b[0;34m(\u001b[0m\u001b[0mkey\u001b[0m\u001b[0;34m)\u001b[0m\u001b[0;34m\u001b[0m\u001b[0;34m\u001b[0m\u001b[0m\n\u001b[0m\u001b[1;32m   3740\u001b[0m \u001b[0;34m\u001b[0m\u001b[0m\n\u001b[1;32m   3741\u001b[0m             \u001b[0;32mif\u001b[0m \u001b[0misinstance\u001b[0m\u001b[0;34m(\u001b[0m\u001b[0mloc\u001b[0m\u001b[0;34m,\u001b[0m \u001b[0mnp\u001b[0m\u001b[0;34m.\u001b[0m\u001b[0mndarray\u001b[0m\u001b[0;34m)\u001b[0m\u001b[0;34m:\u001b[0m\u001b[0;34m\u001b[0m\u001b[0;34m\u001b[0m\u001b[0m\n",
      "\u001b[0;32m~/anaconda3/envs/single_cell/lib/python3.8/site-packages/pandas/core/indexes/base.py\u001b[0m in \u001b[0;36mget_loc\u001b[0;34m(self, key, method, tolerance)\u001b[0m\n\u001b[1;32m   3080\u001b[0m                 \u001b[0;32mreturn\u001b[0m \u001b[0mself\u001b[0m\u001b[0;34m.\u001b[0m\u001b[0m_engine\u001b[0m\u001b[0;34m.\u001b[0m\u001b[0mget_loc\u001b[0m\u001b[0;34m(\u001b[0m\u001b[0mcasted_key\u001b[0m\u001b[0;34m)\u001b[0m\u001b[0;34m\u001b[0m\u001b[0;34m\u001b[0m\u001b[0m\n\u001b[1;32m   3081\u001b[0m             \u001b[0;32mexcept\u001b[0m \u001b[0mKeyError\u001b[0m \u001b[0;32mas\u001b[0m \u001b[0merr\u001b[0m\u001b[0;34m:\u001b[0m\u001b[0;34m\u001b[0m\u001b[0;34m\u001b[0m\u001b[0m\n\u001b[0;32m-> 3082\u001b[0;31m                 \u001b[0;32mraise\u001b[0m \u001b[0mKeyError\u001b[0m\u001b[0;34m(\u001b[0m\u001b[0mkey\u001b[0m\u001b[0;34m)\u001b[0m \u001b[0;32mfrom\u001b[0m \u001b[0merr\u001b[0m\u001b[0;34m\u001b[0m\u001b[0;34m\u001b[0m\u001b[0m\n\u001b[0m\u001b[1;32m   3083\u001b[0m \u001b[0;34m\u001b[0m\u001b[0m\n\u001b[1;32m   3084\u001b[0m         \u001b[0;32mif\u001b[0m \u001b[0mtolerance\u001b[0m \u001b[0;32mis\u001b[0m \u001b[0;32mnot\u001b[0m \u001b[0;32mNone\u001b[0m\u001b[0;34m:\u001b[0m\u001b[0;34m\u001b[0m\u001b[0;34m\u001b[0m\u001b[0m\n",
      "\u001b[0;31mKeyError\u001b[0m: 'KLF5'"
     ]
    }
   ],
   "source": [
    "chip_data.loc['HERC6', 'KLF5']"
   ]
  },
  {
   "cell_type": "code",
   "execution_count": 19,
   "metadata": {},
   "outputs": [],
   "source": [
    "beta_df = memento.get_2d_ht_result(beta_adata)\n",
    "beta_df['corr_fdr'] = memento.util._fdrcorrect(beta_df['corr_pval'])\n",
    "gamma_df = memento.get_2d_ht_result(gamma_adata)\n",
    "gamma_df['corr_fdr'] = memento.util._fdrcorrect(gamma_df['corr_pval'])"
   ]
  },
  {
   "cell_type": "code",
   "execution_count": 20,
   "metadata": {},
   "outputs": [
    {
     "data": {
      "text/html": [
       "<div>\n",
       "<style scoped>\n",
       "    .dataframe tbody tr th:only-of-type {\n",
       "        vertical-align: middle;\n",
       "    }\n",
       "\n",
       "    .dataframe tbody tr th {\n",
       "        vertical-align: top;\n",
       "    }\n",
       "\n",
       "    .dataframe thead th {\n",
       "        text-align: right;\n",
       "    }\n",
       "</style>\n",
       "<table border=\"1\" class=\"dataframe\">\n",
       "  <thead>\n",
       "    <tr style=\"text-align: right;\">\n",
       "      <th></th>\n",
       "      <th>gene_1</th>\n",
       "      <th>gene_2</th>\n",
       "      <th>corr_coef</th>\n",
       "      <th>corr_se</th>\n",
       "      <th>corr_pval</th>\n",
       "      <th>corr_fdr</th>\n",
       "    </tr>\n",
       "  </thead>\n",
       "  <tbody>\n",
       "  </tbody>\n",
       "</table>\n",
       "</div>"
      ],
      "text/plain": [
       "Empty DataFrame\n",
       "Columns: [gene_1, gene_2, corr_coef, corr_se, corr_pval, corr_fdr]\n",
       "Index: []"
      ]
     },
     "execution_count": 20,
     "metadata": {},
     "output_type": "execute_result"
    }
   ],
   "source": [
    "gamma_df.query('gene_1 == \"KLF5\" & corr_fdr < 0.1 & gene_2 in @t1_isg')"
   ]
  },
  {
   "cell_type": "code",
   "execution_count": 22,
   "metadata": {},
   "outputs": [
    {
     "data": {
      "text/plain": [
       "<AxesSubplot:ylabel='Density'>"
      ]
     },
     "execution_count": 22,
     "metadata": {},
     "output_type": "execute_result"
    },
    {
     "data": {
      "image/png": "[encoded data removed]",
      "text/plain": [
       "<Figure size 432x288 with 1 Axes>"
      ]
     },
     "metadata": {
      "needs_background": "light"
     },
     "output_type": "display_data"
    }
   ],
   "source": [
    "sns.kdeplot(beta_df.query('gene_1 == \"STAT1\" & gene_2 in @t1_isg').corr_coef.values)\n",
    "sns.kdeplot(beta_df.query('gene_1 == \"STAT2\" & gene_2 in @t1_isg').corr_coef.values)\n",
    "sns.kdeplot(beta_df.query('gene_1 == \"IRF9\" & gene_2 in @t1_isg').corr_coef.values)"
   ]
  },
  {
   "cell_type": "code",
   "execution_count": 29,
   "metadata": {},
   "outputs": [
    {
     "data": {
      "text/html": [
       "<div>\n",
       "<style scoped>\n",
       "    .dataframe tbody tr th:only-of-type {\n",
       "        vertical-align: middle;\n",
       "    }\n",
       "\n",
       "    .dataframe tbody tr th {\n",
       "        vertical-align: top;\n",
       "    }\n",
       "\n",
       "    .dataframe thead th {\n",
       "        text-align: right;\n",
       "    }\n",
       "</style>\n",
       "<table border=\"1\" class=\"dataframe\">\n",
       "  <thead>\n",
       "    <tr style=\"text-align: right;\">\n",
       "      <th></th>\n",
       "      <th>gene_1</th>\n",
       "      <th>gene_2</th>\n",
       "      <th>corr_coef</th>\n",
       "      <th>corr_se</th>\n",
       "      <th>corr_pval</th>\n",
       "      <th>corr_fdr</th>\n",
       "    </tr>\n",
       "  </thead>\n",
       "  <tbody>\n",
       "    <tr>\n",
       "      <th>0</th>\n",
       "      <td>KLF5</td>\n",
       "      <td>TTC38</td>\n",
       "      <td>0.159899</td>\n",
       "      <td>0.179629</td>\n",
       "      <td>0.368532</td>\n",
       "      <td>0.618251</td>\n",
       "    </tr>\n",
       "    <tr>\n",
       "      <th>2</th>\n",
       "      <td>KLF5</td>\n",
       "      <td>CD68</td>\n",
       "      <td>0.406085</td>\n",
       "      <td>0.208828</td>\n",
       "      <td>0.054997</td>\n",
       "      <td>0.198331</td>\n",
       "    </tr>\n",
       "    <tr>\n",
       "      <th>4</th>\n",
       "      <td>KLF5</td>\n",
       "      <td>GPR180</td>\n",
       "      <td>0.026846</td>\n",
       "      <td>0.227516</td>\n",
       "      <td>0.907655</td>\n",
       "      <td>0.961949</td>\n",
       "    </tr>\n",
       "    <tr>\n",
       "      <th>5</th>\n",
       "      <td>KLF5</td>\n",
       "      <td>LINC01138</td>\n",
       "      <td>0.177314</td>\n",
       "      <td>0.162977</td>\n",
       "      <td>0.270286</td>\n",
       "      <td>0.518070</td>\n",
       "    </tr>\n",
       "    <tr>\n",
       "      <th>6</th>\n",
       "      <td>KLF5</td>\n",
       "      <td>BCL2L13</td>\n",
       "      <td>0.352449</td>\n",
       "      <td>0.231702</td>\n",
       "      <td>0.125044</td>\n",
       "      <td>0.326558</td>\n",
       "    </tr>\n",
       "    <tr>\n",
       "      <th>7</th>\n",
       "      <td>KLF5</td>\n",
       "      <td>BISPR</td>\n",
       "      <td>0.044046</td>\n",
       "      <td>0.197762</td>\n",
       "      <td>0.823009</td>\n",
       "      <td>0.921360</td>\n",
       "    </tr>\n",
       "    <tr>\n",
       "      <th>8</th>\n",
       "      <td>KLF5</td>\n",
       "      <td>CD38</td>\n",
       "      <td>0.081134</td>\n",
       "      <td>0.093244</td>\n",
       "      <td>0.376331</td>\n",
       "      <td>0.624321</td>\n",
       "    </tr>\n",
       "    <tr>\n",
       "      <th>9</th>\n",
       "      <td>KLF5</td>\n",
       "      <td>C11orf52</td>\n",
       "      <td>0.171761</td>\n",
       "      <td>0.154309</td>\n",
       "      <td>0.259687</td>\n",
       "      <td>0.507105</td>\n",
       "    </tr>\n",
       "    <tr>\n",
       "      <th>12</th>\n",
       "      <td>KLF5</td>\n",
       "      <td>USP18</td>\n",
       "      <td>0.445754</td>\n",
       "      <td>0.143255</td>\n",
       "      <td>0.002900</td>\n",
       "      <td>0.028406</td>\n",
       "    </tr>\n",
       "    <tr>\n",
       "      <th>15</th>\n",
       "      <td>KLF5</td>\n",
       "      <td>SLC18B1</td>\n",
       "      <td>0.124930</td>\n",
       "      <td>0.226309</td>\n",
       "      <td>0.570671</td>\n",
       "      <td>0.769264</td>\n",
       "    </tr>\n",
       "    <tr>\n",
       "      <th>17</th>\n",
       "      <td>KLF5</td>\n",
       "      <td>NDUFA9</td>\n",
       "      <td>0.047698</td>\n",
       "      <td>0.183843</td>\n",
       "      <td>0.793110</td>\n",
       "      <td>0.903529</td>\n",
       "    </tr>\n",
       "    <tr>\n",
       "      <th>20</th>\n",
       "      <td>KLF5</td>\n",
       "      <td>DTX3L</td>\n",
       "      <td>0.288669</td>\n",
       "      <td>0.161174</td>\n",
       "      <td>0.071846</td>\n",
       "      <td>0.232545</td>\n",
       "    </tr>\n",
       "    <tr>\n",
       "      <th>22</th>\n",
       "      <td>KLF5</td>\n",
       "      <td>TRIM5</td>\n",
       "      <td>0.519257</td>\n",
       "      <td>0.216343</td>\n",
       "      <td>0.020849</td>\n",
       "      <td>0.107002</td>\n",
       "    </tr>\n",
       "    <tr>\n",
       "      <th>26</th>\n",
       "      <td>KLF5</td>\n",
       "      <td>RICTOR</td>\n",
       "      <td>-0.010429</td>\n",
       "      <td>0.192699</td>\n",
       "      <td>0.954352</td>\n",
       "      <td>0.982315</td>\n",
       "    </tr>\n",
       "    <tr>\n",
       "      <th>29</th>\n",
       "      <td>KLF5</td>\n",
       "      <td>LAMP3</td>\n",
       "      <td>0.275867</td>\n",
       "      <td>0.160639</td>\n",
       "      <td>0.085046</td>\n",
       "      <td>0.259986</td>\n",
       "    </tr>\n",
       "    <tr>\n",
       "      <th>30</th>\n",
       "      <td>KLF5</td>\n",
       "      <td>CMTR1</td>\n",
       "      <td>0.154500</td>\n",
       "      <td>0.190411</td>\n",
       "      <td>0.416479</td>\n",
       "      <td>0.654766</td>\n",
       "    </tr>\n",
       "    <tr>\n",
       "      <th>31</th>\n",
       "      <td>KLF5</td>\n",
       "      <td>KRT4</td>\n",
       "      <td>0.096693</td>\n",
       "      <td>0.119082</td>\n",
       "      <td>0.408530</td>\n",
       "      <td>0.650296</td>\n",
       "    </tr>\n",
       "    <tr>\n",
       "      <th>33</th>\n",
       "      <td>KLF5</td>\n",
       "      <td>PLEKHA4</td>\n",
       "      <td>0.197676</td>\n",
       "      <td>0.193915</td>\n",
       "      <td>0.293335</td>\n",
       "      <td>0.541983</td>\n",
       "    </tr>\n",
       "    <tr>\n",
       "      <th>34</th>\n",
       "      <td>KLF5</td>\n",
       "      <td>HERC6</td>\n",
       "      <td>0.593991</td>\n",
       "      <td>0.126159</td>\n",
       "      <td>0.000050</td>\n",
       "      <td>0.001617</td>\n",
       "    </tr>\n",
       "    <tr>\n",
       "      <th>35</th>\n",
       "      <td>KLF5</td>\n",
       "      <td>MOV10</td>\n",
       "      <td>0.447557</td>\n",
       "      <td>0.200981</td>\n",
       "      <td>0.027499</td>\n",
       "      <td>0.130536</td>\n",
       "    </tr>\n",
       "    <tr>\n",
       "      <th>36</th>\n",
       "      <td>KLF5</td>\n",
       "      <td>CXCL11</td>\n",
       "      <td>0.104172</td>\n",
       "      <td>0.158041</td>\n",
       "      <td>0.496275</td>\n",
       "      <td>0.724100</td>\n",
       "    </tr>\n",
       "    <tr>\n",
       "      <th>37</th>\n",
       "      <td>KLF5</td>\n",
       "      <td>PHF11</td>\n",
       "      <td>0.307399</td>\n",
       "      <td>0.189024</td>\n",
       "      <td>0.103495</td>\n",
       "      <td>0.293283</td>\n",
       "    </tr>\n",
       "    <tr>\n",
       "      <th>38</th>\n",
       "      <td>KLF5</td>\n",
       "      <td>AKAP7</td>\n",
       "      <td>-0.120118</td>\n",
       "      <td>0.225827</td>\n",
       "      <td>0.583771</td>\n",
       "      <td>0.776139</td>\n",
       "    </tr>\n",
       "    <tr>\n",
       "      <th>43</th>\n",
       "      <td>KLF5</td>\n",
       "      <td>TLR3</td>\n",
       "      <td>0.382968</td>\n",
       "      <td>0.219982</td>\n",
       "      <td>0.082996</td>\n",
       "      <td>0.257192</td>\n",
       "    </tr>\n",
       "    <tr>\n",
       "      <th>44</th>\n",
       "      <td>KLF5</td>\n",
       "      <td>APOBEC3F</td>\n",
       "      <td>-0.005737</td>\n",
       "      <td>0.277906</td>\n",
       "      <td>0.982401</td>\n",
       "      <td>0.992752</td>\n",
       "    </tr>\n",
       "    <tr>\n",
       "      <th>45</th>\n",
       "      <td>KLF5</td>\n",
       "      <td>IKBKE</td>\n",
       "      <td>0.145118</td>\n",
       "      <td>0.181171</td>\n",
       "      <td>0.410929</td>\n",
       "      <td>0.651650</td>\n",
       "    </tr>\n",
       "    <tr>\n",
       "      <th>47</th>\n",
       "      <td>KLF5</td>\n",
       "      <td>PLAAT2</td>\n",
       "      <td>0.152129</td>\n",
       "      <td>0.087433</td>\n",
       "      <td>0.083796</td>\n",
       "      <td>0.258451</td>\n",
       "    </tr>\n",
       "    <tr>\n",
       "      <th>48</th>\n",
       "      <td>KLF5</td>\n",
       "      <td>CXCL10</td>\n",
       "      <td>0.473388</td>\n",
       "      <td>0.136652</td>\n",
       "      <td>0.000700</td>\n",
       "      <td>0.010643</td>\n",
       "    </tr>\n",
       "    <tr>\n",
       "      <th>50</th>\n",
       "      <td>KLF5</td>\n",
       "      <td>PHACTR4</td>\n",
       "      <td>-0.010800</td>\n",
       "      <td>0.163933</td>\n",
       "      <td>0.947853</td>\n",
       "      <td>0.980330</td>\n",
       "    </tr>\n",
       "    <tr>\n",
       "      <th>53</th>\n",
       "      <td>KLF5</td>\n",
       "      <td>HIST2H2AA4</td>\n",
       "      <td>0.289924</td>\n",
       "      <td>0.145206</td>\n",
       "      <td>0.047248</td>\n",
       "      <td>0.179435</td>\n",
       "    </tr>\n",
       "    <tr>\n",
       "      <th>56</th>\n",
       "      <td>KLF5</td>\n",
       "      <td>CAPG</td>\n",
       "      <td>0.518926</td>\n",
       "      <td>0.148412</td>\n",
       "      <td>0.001100</td>\n",
       "      <td>0.014366</td>\n",
       "    </tr>\n",
       "    <tr>\n",
       "      <th>58</th>\n",
       "      <td>KLF5</td>\n",
       "      <td>EIF2AK2</td>\n",
       "      <td>0.380025</td>\n",
       "      <td>0.123877</td>\n",
       "      <td>0.002400</td>\n",
       "      <td>0.025205</td>\n",
       "    </tr>\n",
       "    <tr>\n",
       "      <th>61</th>\n",
       "      <td>KLF5</td>\n",
       "      <td>IFIT2</td>\n",
       "      <td>0.547817</td>\n",
       "      <td>0.081196</td>\n",
       "      <td>0.000050</td>\n",
       "      <td>0.001617</td>\n",
       "    </tr>\n",
       "    <tr>\n",
       "      <th>64</th>\n",
       "      <td>KLF5</td>\n",
       "      <td>NUPR1</td>\n",
       "      <td>0.264138</td>\n",
       "      <td>0.085365</td>\n",
       "      <td>0.002700</td>\n",
       "      <td>0.027233</td>\n",
       "    </tr>\n",
       "    <tr>\n",
       "      <th>65</th>\n",
       "      <td>KLF5</td>\n",
       "      <td>PARP12</td>\n",
       "      <td>0.409413</td>\n",
       "      <td>0.144456</td>\n",
       "      <td>0.006150</td>\n",
       "      <td>0.046841</td>\n",
       "    </tr>\n",
       "    <tr>\n",
       "      <th>66</th>\n",
       "      <td>KLF5</td>\n",
       "      <td>TRIM14</td>\n",
       "      <td>-0.057846</td>\n",
       "      <td>0.235465</td>\n",
       "      <td>0.813559</td>\n",
       "      <td>0.915929</td>\n",
       "    </tr>\n",
       "    <tr>\n",
       "      <th>68</th>\n",
       "      <td>KLF5</td>\n",
       "      <td>MX1</td>\n",
       "      <td>0.449095</td>\n",
       "      <td>0.085796</td>\n",
       "      <td>0.000050</td>\n",
       "      <td>0.001617</td>\n",
       "    </tr>\n",
       "    <tr>\n",
       "      <th>69</th>\n",
       "      <td>KLF5</td>\n",
       "      <td>ANKIB1</td>\n",
       "      <td>0.252740</td>\n",
       "      <td>0.197560</td>\n",
       "      <td>0.195240</td>\n",
       "      <td>0.431222</td>\n",
       "    </tr>\n",
       "    <tr>\n",
       "      <th>72</th>\n",
       "      <td>KLF5</td>\n",
       "      <td>GNB4</td>\n",
       "      <td>0.072443</td>\n",
       "      <td>0.205173</td>\n",
       "      <td>0.717264</td>\n",
       "      <td>0.861690</td>\n",
       "    </tr>\n",
       "    <tr>\n",
       "      <th>74</th>\n",
       "      <td>KLF5</td>\n",
       "      <td>LIFR</td>\n",
       "      <td>0.242317</td>\n",
       "      <td>0.192771</td>\n",
       "      <td>0.200040</td>\n",
       "      <td>0.437069</td>\n",
       "    </tr>\n",
       "    <tr>\n",
       "      <th>75</th>\n",
       "      <td>KLF5</td>\n",
       "      <td>SAMD9</td>\n",
       "      <td>0.570317</td>\n",
       "      <td>0.091196</td>\n",
       "      <td>0.000050</td>\n",
       "      <td>0.001617</td>\n",
       "    </tr>\n",
       "    <tr>\n",
       "      <th>76</th>\n",
       "      <td>KLF5</td>\n",
       "      <td>SMCHD1</td>\n",
       "      <td>0.098159</td>\n",
       "      <td>0.180390</td>\n",
       "      <td>0.580321</td>\n",
       "      <td>0.774398</td>\n",
       "    </tr>\n",
       "    <tr>\n",
       "      <th>77</th>\n",
       "      <td>KLF5</td>\n",
       "      <td>CFLAR</td>\n",
       "      <td>-0.093912</td>\n",
       "      <td>0.129310</td>\n",
       "      <td>0.458877</td>\n",
       "      <td>0.690264</td>\n",
       "    </tr>\n",
       "    <tr>\n",
       "      <th>78</th>\n",
       "      <td>KLF5</td>\n",
       "      <td>NAPA</td>\n",
       "      <td>0.288020</td>\n",
       "      <td>0.202186</td>\n",
       "      <td>0.155192</td>\n",
       "      <td>0.373323</td>\n",
       "    </tr>\n",
       "    <tr>\n",
       "      <th>79</th>\n",
       "      <td>KLF5</td>\n",
       "      <td>ZCCHC2</td>\n",
       "      <td>0.267987</td>\n",
       "      <td>0.163334</td>\n",
       "      <td>0.103295</td>\n",
       "      <td>0.293124</td>\n",
       "    </tr>\n",
       "    <tr>\n",
       "      <th>80</th>\n",
       "      <td>KLF5</td>\n",
       "      <td>CCNA1</td>\n",
       "      <td>0.112022</td>\n",
       "      <td>0.077488</td>\n",
       "      <td>0.155542</td>\n",
       "      <td>0.373523</td>\n",
       "    </tr>\n",
       "    <tr>\n",
       "      <th>81</th>\n",
       "      <td>KLF5</td>\n",
       "      <td>TRIM21</td>\n",
       "      <td>-0.005759</td>\n",
       "      <td>0.205608</td>\n",
       "      <td>0.975851</td>\n",
       "      <td>0.990144</td>\n",
       "    </tr>\n",
       "    <tr>\n",
       "      <th>82</th>\n",
       "      <td>KLF5</td>\n",
       "      <td>LUCAT1</td>\n",
       "      <td>-0.258964</td>\n",
       "      <td>0.160250</td>\n",
       "      <td>0.101995</td>\n",
       "      <td>0.291465</td>\n",
       "    </tr>\n",
       "    <tr>\n",
       "      <th>83</th>\n",
       "      <td>KLF5</td>\n",
       "      <td>SLC16A1-AS1</td>\n",
       "      <td>-0.146984</td>\n",
       "      <td>0.236543</td>\n",
       "      <td>0.525774</td>\n",
       "      <td>0.740431</td>\n",
       "    </tr>\n",
       "    <tr>\n",
       "      <th>84</th>\n",
       "      <td>KLF5</td>\n",
       "      <td>NUB1</td>\n",
       "      <td>0.263339</td>\n",
       "      <td>0.154126</td>\n",
       "      <td>0.088646</td>\n",
       "      <td>0.266788</td>\n",
       "    </tr>\n",
       "    <tr>\n",
       "      <th>86</th>\n",
       "      <td>KLF5</td>\n",
       "      <td>ZNFX1</td>\n",
       "      <td>0.204061</td>\n",
       "      <td>0.154884</td>\n",
       "      <td>0.182391</td>\n",
       "      <td>0.411086</td>\n",
       "    </tr>\n",
       "    <tr>\n",
       "      <th>88</th>\n",
       "      <td>KLF5</td>\n",
       "      <td>SPATS2L</td>\n",
       "      <td>0.148637</td>\n",
       "      <td>0.107549</td>\n",
       "      <td>0.166092</td>\n",
       "      <td>0.386431</td>\n",
       "    </tr>\n",
       "    <tr>\n",
       "      <th>89</th>\n",
       "      <td>KLF5</td>\n",
       "      <td>UBA7</td>\n",
       "      <td>0.186879</td>\n",
       "      <td>0.275166</td>\n",
       "      <td>0.491125</td>\n",
       "      <td>0.720683</td>\n",
       "    </tr>\n",
       "    <tr>\n",
       "      <th>90</th>\n",
       "      <td>KLF5</td>\n",
       "      <td>DRAP1</td>\n",
       "      <td>0.330872</td>\n",
       "      <td>0.122192</td>\n",
       "      <td>0.008900</td>\n",
       "      <td>0.060342</td>\n",
       "    </tr>\n",
       "    <tr>\n",
       "      <th>93</th>\n",
       "      <td>KLF5</td>\n",
       "      <td>OASL</td>\n",
       "      <td>0.452373</td>\n",
       "      <td>0.108308</td>\n",
       "      <td>0.000550</td>\n",
       "      <td>0.008858</td>\n",
       "    </tr>\n",
       "    <tr>\n",
       "      <th>94</th>\n",
       "      <td>KLF5</td>\n",
       "      <td>PGAP1</td>\n",
       "      <td>0.081487</td>\n",
       "      <td>0.194582</td>\n",
       "      <td>0.671466</td>\n",
       "      <td>0.833707</td>\n",
       "    </tr>\n",
       "    <tr>\n",
       "      <th>96</th>\n",
       "      <td>KLF5</td>\n",
       "      <td>IFI16</td>\n",
       "      <td>0.430518</td>\n",
       "      <td>0.104833</td>\n",
       "      <td>0.000300</td>\n",
       "      <td>0.005877</td>\n",
       "    </tr>\n",
       "    <tr>\n",
       "      <th>98</th>\n",
       "      <td>KLF5</td>\n",
       "      <td>PATL1</td>\n",
       "      <td>0.368548</td>\n",
       "      <td>0.299814</td>\n",
       "      <td>0.196640</td>\n",
       "      <td>0.432906</td>\n",
       "    </tr>\n",
       "    <tr>\n",
       "      <th>99</th>\n",
       "      <td>KLF5</td>\n",
       "      <td>LMO2</td>\n",
       "      <td>0.518501</td>\n",
       "      <td>0.163120</td>\n",
       "      <td>0.002600</td>\n",
       "      <td>0.026486</td>\n",
       "    </tr>\n",
       "    <tr>\n",
       "      <th>102</th>\n",
       "      <td>KLF5</td>\n",
       "      <td>ZNF107</td>\n",
       "      <td>0.166744</td>\n",
       "      <td>0.267471</td>\n",
       "      <td>0.524174</td>\n",
       "      <td>0.739968</td>\n",
       "    </tr>\n",
       "    <tr>\n",
       "      <th>104</th>\n",
       "      <td>KLF5</td>\n",
       "      <td>C1GALT1</td>\n",
       "      <td>0.090253</td>\n",
       "      <td>0.192776</td>\n",
       "      <td>0.636018</td>\n",
       "      <td>0.814255</td>\n",
       "    </tr>\n",
       "    <tr>\n",
       "      <th>109</th>\n",
       "      <td>KLF5</td>\n",
       "      <td>CKAP2</td>\n",
       "      <td>-0.055343</td>\n",
       "      <td>0.193441</td>\n",
       "      <td>0.776361</td>\n",
       "      <td>0.893945</td>\n",
       "    </tr>\n",
       "    <tr>\n",
       "      <th>110</th>\n",
       "      <td>KLF5</td>\n",
       "      <td>TRIM22</td>\n",
       "      <td>0.534154</td>\n",
       "      <td>0.138033</td>\n",
       "      <td>0.000550</td>\n",
       "      <td>0.008858</td>\n",
       "    </tr>\n",
       "    <tr>\n",
       "      <th>113</th>\n",
       "      <td>KLF5</td>\n",
       "      <td>TRIM25</td>\n",
       "      <td>0.145848</td>\n",
       "      <td>0.184315</td>\n",
       "      <td>0.416129</td>\n",
       "      <td>0.654766</td>\n",
       "    </tr>\n",
       "    <tr>\n",
       "      <th>114</th>\n",
       "      <td>KLF5</td>\n",
       "      <td>AZI2</td>\n",
       "      <td>-0.218688</td>\n",
       "      <td>0.230530</td>\n",
       "      <td>0.359882</td>\n",
       "      <td>0.610033</td>\n",
       "    </tr>\n",
       "    <tr>\n",
       "      <th>115</th>\n",
       "      <td>KLF5</td>\n",
       "      <td>APOBEC3G</td>\n",
       "      <td>0.133466</td>\n",
       "      <td>0.170043</td>\n",
       "      <td>0.414979</td>\n",
       "      <td>0.654427</td>\n",
       "    </tr>\n",
       "    <tr>\n",
       "      <th>116</th>\n",
       "      <td>KLF5</td>\n",
       "      <td>XAF1</td>\n",
       "      <td>0.100270</td>\n",
       "      <td>0.108248</td>\n",
       "      <td>0.352632</td>\n",
       "      <td>0.604534</td>\n",
       "    </tr>\n",
       "    <tr>\n",
       "      <th>117</th>\n",
       "      <td>KLF5</td>\n",
       "      <td>KCTD1</td>\n",
       "      <td>-0.521892</td>\n",
       "      <td>0.178021</td>\n",
       "      <td>0.013649</td>\n",
       "      <td>0.080555</td>\n",
       "    </tr>\n",
       "    <tr>\n",
       "      <th>119</th>\n",
       "      <td>KLF5</td>\n",
       "      <td>APOBEC3A</td>\n",
       "      <td>0.074360</td>\n",
       "      <td>0.117609</td>\n",
       "      <td>0.515274</td>\n",
       "      <td>0.735977</td>\n",
       "    </tr>\n",
       "    <tr>\n",
       "      <th>124</th>\n",
       "      <td>KLF5</td>\n",
       "      <td>SP100</td>\n",
       "      <td>0.601261</td>\n",
       "      <td>0.191932</td>\n",
       "      <td>0.005100</td>\n",
       "      <td>0.041563</td>\n",
       "    </tr>\n",
       "    <tr>\n",
       "      <th>127</th>\n",
       "      <td>KLF5</td>\n",
       "      <td>OAS1</td>\n",
       "      <td>0.430107</td>\n",
       "      <td>0.116463</td>\n",
       "      <td>0.000450</td>\n",
       "      <td>0.007737</td>\n",
       "    </tr>\n",
       "    <tr>\n",
       "      <th>128</th>\n",
       "      <td>KLF5</td>\n",
       "      <td>HES4</td>\n",
       "      <td>0.173489</td>\n",
       "      <td>0.105251</td>\n",
       "      <td>0.100545</td>\n",
       "      <td>0.288943</td>\n",
       "    </tr>\n",
       "    <tr>\n",
       "      <th>129</th>\n",
       "      <td>KLF5</td>\n",
       "      <td>KLK10</td>\n",
       "      <td>0.346535</td>\n",
       "      <td>0.168231</td>\n",
       "      <td>0.041648</td>\n",
       "      <td>0.166551</td>\n",
       "    </tr>\n",
       "    <tr>\n",
       "      <th>130</th>\n",
       "      <td>KLF5</td>\n",
       "      <td>GTPBP1</td>\n",
       "      <td>0.414032</td>\n",
       "      <td>0.195547</td>\n",
       "      <td>0.038398</td>\n",
       "      <td>0.159016</td>\n",
       "    </tr>\n",
       "    <tr>\n",
       "      <th>131</th>\n",
       "      <td>KLF5</td>\n",
       "      <td>STAT2</td>\n",
       "      <td>-0.035425</td>\n",
       "      <td>0.143006</td>\n",
       "      <td>0.795560</td>\n",
       "      <td>0.904412</td>\n",
       "    </tr>\n",
       "    <tr>\n",
       "      <th>135</th>\n",
       "      <td>KLF5</td>\n",
       "      <td>CMPK2</td>\n",
       "      <td>0.258163</td>\n",
       "      <td>0.121493</td>\n",
       "      <td>0.035298</td>\n",
       "      <td>0.151630</td>\n",
       "    </tr>\n",
       "    <tr>\n",
       "      <th>137</th>\n",
       "      <td>KLF5</td>\n",
       "      <td>HIRA</td>\n",
       "      <td>-0.050475</td>\n",
       "      <td>0.251121</td>\n",
       "      <td>0.830808</td>\n",
       "      <td>0.925012</td>\n",
       "    </tr>\n",
       "    <tr>\n",
       "      <th>138</th>\n",
       "      <td>KLF5</td>\n",
       "      <td>ISG20</td>\n",
       "      <td>0.256256</td>\n",
       "      <td>0.079901</td>\n",
       "      <td>0.002750</td>\n",
       "      <td>0.027398</td>\n",
       "    </tr>\n",
       "    <tr>\n",
       "      <th>139</th>\n",
       "      <td>KLF5</td>\n",
       "      <td>IFI27</td>\n",
       "      <td>0.294216</td>\n",
       "      <td>0.077504</td>\n",
       "      <td>0.000200</td>\n",
       "      <td>0.004382</td>\n",
       "    </tr>\n",
       "    <tr>\n",
       "      <th>140</th>\n",
       "      <td>KLF5</td>\n",
       "      <td>ELF1</td>\n",
       "      <td>0.254286</td>\n",
       "      <td>0.144193</td>\n",
       "      <td>0.081596</td>\n",
       "      <td>0.254169</td>\n",
       "    </tr>\n",
       "    <tr>\n",
       "      <th>141</th>\n",
       "      <td>KLF5</td>\n",
       "      <td>PTN</td>\n",
       "      <td>0.093477</td>\n",
       "      <td>0.079926</td>\n",
       "      <td>0.245288</td>\n",
       "      <td>0.490455</td>\n",
       "    </tr>\n",
       "    <tr>\n",
       "      <th>143</th>\n",
       "      <td>KLF5</td>\n",
       "      <td>CASP1</td>\n",
       "      <td>0.127091</td>\n",
       "      <td>0.198363</td>\n",
       "      <td>0.519574</td>\n",
       "      <td>0.737466</td>\n",
       "    </tr>\n",
       "    <tr>\n",
       "      <th>145</th>\n",
       "      <td>KLF5</td>\n",
       "      <td>TRIM38</td>\n",
       "      <td>0.077376</td>\n",
       "      <td>0.200901</td>\n",
       "      <td>0.691665</td>\n",
       "      <td>0.845392</td>\n",
       "    </tr>\n",
       "    <tr>\n",
       "      <th>150</th>\n",
       "      <td>KLF5</td>\n",
       "      <td>TMEM50A</td>\n",
       "      <td>0.147479</td>\n",
       "      <td>0.111492</td>\n",
       "      <td>0.184791</td>\n",
       "      <td>0.414432</td>\n",
       "    </tr>\n",
       "    <tr>\n",
       "      <th>151</th>\n",
       "      <td>KLF5</td>\n",
       "      <td>PRKD2</td>\n",
       "      <td>0.175447</td>\n",
       "      <td>0.215830</td>\n",
       "      <td>0.416229</td>\n",
       "      <td>0.654766</td>\n",
       "    </tr>\n",
       "    <tr>\n",
       "      <th>152</th>\n",
       "      <td>KLF5</td>\n",
       "      <td>STARD4</td>\n",
       "      <td>0.376495</td>\n",
       "      <td>0.175418</td>\n",
       "      <td>0.036748</td>\n",
       "      <td>0.155019</td>\n",
       "    </tr>\n",
       "    <tr>\n",
       "      <th>154</th>\n",
       "      <td>KLF5</td>\n",
       "      <td>CCDC71L</td>\n",
       "      <td>0.221483</td>\n",
       "      <td>0.291057</td>\n",
       "      <td>0.446878</td>\n",
       "      <td>0.678222</td>\n",
       "    </tr>\n",
       "    <tr>\n",
       "      <th>155</th>\n",
       "      <td>KLF5</td>\n",
       "      <td>MX2</td>\n",
       "      <td>0.398610</td>\n",
       "      <td>0.091889</td>\n",
       "      <td>0.000050</td>\n",
       "      <td>0.001617</td>\n",
       "    </tr>\n",
       "    <tr>\n",
       "      <th>156</th>\n",
       "      <td>KLF5</td>\n",
       "      <td>TXNIP</td>\n",
       "      <td>0.228519</td>\n",
       "      <td>0.093242</td>\n",
       "      <td>0.015099</td>\n",
       "      <td>0.086418</td>\n",
       "    </tr>\n",
       "    <tr>\n",
       "      <th>160</th>\n",
       "      <td>KLF5</td>\n",
       "      <td>IFIT3</td>\n",
       "      <td>0.577018</td>\n",
       "      <td>0.086281</td>\n",
       "      <td>0.000050</td>\n",
       "      <td>0.001617</td>\n",
       "    </tr>\n",
       "    <tr>\n",
       "      <th>161</th>\n",
       "      <td>KLF5</td>\n",
       "      <td>CEP112</td>\n",
       "      <td>0.276348</td>\n",
       "      <td>0.197693</td>\n",
       "      <td>0.158342</td>\n",
       "      <td>0.377336</td>\n",
       "    </tr>\n",
       "    <tr>\n",
       "      <th>163</th>\n",
       "      <td>KLF5</td>\n",
       "      <td>LGALS9</td>\n",
       "      <td>0.337234</td>\n",
       "      <td>0.198936</td>\n",
       "      <td>0.090295</td>\n",
       "      <td>0.269664</td>\n",
       "    </tr>\n",
       "    <tr>\n",
       "      <th>164</th>\n",
       "      <td>KLF5</td>\n",
       "      <td>DHX58</td>\n",
       "      <td>0.143038</td>\n",
       "      <td>0.244252</td>\n",
       "      <td>0.540473</td>\n",
       "      <td>0.750657</td>\n",
       "    </tr>\n",
       "    <tr>\n",
       "      <th>167</th>\n",
       "      <td>KLF5</td>\n",
       "      <td>OAS3</td>\n",
       "      <td>0.418277</td>\n",
       "      <td>0.123761</td>\n",
       "      <td>0.000900</td>\n",
       "      <td>0.012348</td>\n",
       "    </tr>\n",
       "    <tr>\n",
       "      <th>169</th>\n",
       "      <td>KLF5</td>\n",
       "      <td>DDX60</td>\n",
       "      <td>0.269322</td>\n",
       "      <td>0.114580</td>\n",
       "      <td>0.021249</td>\n",
       "      <td>0.108900</td>\n",
       "    </tr>\n",
       "    <tr>\n",
       "      <th>170</th>\n",
       "      <td>KLF5</td>\n",
       "      <td>ADAR</td>\n",
       "      <td>0.292942</td>\n",
       "      <td>0.164159</td>\n",
       "      <td>0.074596</td>\n",
       "      <td>0.239110</td>\n",
       "    </tr>\n",
       "    <tr>\n",
       "      <th>174</th>\n",
       "      <td>KLF5</td>\n",
       "      <td>DDX58</td>\n",
       "      <td>0.696728</td>\n",
       "      <td>0.110737</td>\n",
       "      <td>0.000050</td>\n",
       "      <td>0.001617</td>\n",
       "    </tr>\n",
       "    <tr>\n",
       "      <th>176</th>\n",
       "      <td>KLF5</td>\n",
       "      <td>DUOX2</td>\n",
       "      <td>0.166459</td>\n",
       "      <td>0.118102</td>\n",
       "      <td>0.157592</td>\n",
       "      <td>0.375988</td>\n",
       "    </tr>\n",
       "    <tr>\n",
       "      <th>177</th>\n",
       "      <td>KLF5</td>\n",
       "      <td>SLC25A28</td>\n",
       "      <td>0.129494</td>\n",
       "      <td>0.192641</td>\n",
       "      <td>0.494175</td>\n",
       "      <td>0.723221</td>\n",
       "    </tr>\n",
       "    <tr>\n",
       "      <th>178</th>\n",
       "      <td>KLF5</td>\n",
       "      <td>SCAMP1-AS1</td>\n",
       "      <td>-0.171759</td>\n",
       "      <td>0.311759</td>\n",
       "      <td>0.562422</td>\n",
       "      <td>0.763193</td>\n",
       "    </tr>\n",
       "    <tr>\n",
       "      <th>179</th>\n",
       "      <td>KLF5</td>\n",
       "      <td>PCGF5</td>\n",
       "      <td>0.598135</td>\n",
       "      <td>0.177895</td>\n",
       "      <td>0.003100</td>\n",
       "      <td>0.029652</td>\n",
       "    </tr>\n",
       "    <tr>\n",
       "      <th>180</th>\n",
       "      <td>KLF5</td>\n",
       "      <td>IFI44L</td>\n",
       "      <td>0.412275</td>\n",
       "      <td>0.086001</td>\n",
       "      <td>0.000050</td>\n",
       "      <td>0.001617</td>\n",
       "    </tr>\n",
       "    <tr>\n",
       "      <th>181</th>\n",
       "      <td>KLF5</td>\n",
       "      <td>IFI44</td>\n",
       "      <td>0.178170</td>\n",
       "      <td>0.141712</td>\n",
       "      <td>0.208340</td>\n",
       "      <td>0.444262</td>\n",
       "    </tr>\n",
       "    <tr>\n",
       "      <th>182</th>\n",
       "      <td>KLF5</td>\n",
       "      <td>SOBP</td>\n",
       "      <td>-0.037625</td>\n",
       "      <td>0.156002</td>\n",
       "      <td>0.807560</td>\n",
       "      <td>0.912086</td>\n",
       "    </tr>\n",
       "    <tr>\n",
       "      <th>183</th>\n",
       "      <td>KLF5</td>\n",
       "      <td>CCND3</td>\n",
       "      <td>0.285894</td>\n",
       "      <td>0.222996</td>\n",
       "      <td>0.200340</td>\n",
       "      <td>0.437208</td>\n",
       "    </tr>\n",
       "    <tr>\n",
       "      <th>185</th>\n",
       "      <td>KLF5</td>\n",
       "      <td>HERC5</td>\n",
       "      <td>0.371571</td>\n",
       "      <td>0.102840</td>\n",
       "      <td>0.000250</td>\n",
       "      <td>0.005197</td>\n",
       "    </tr>\n",
       "    <tr>\n",
       "      <th>186</th>\n",
       "      <td>KLF5</td>\n",
       "      <td>IFITM3</td>\n",
       "      <td>0.459417</td>\n",
       "      <td>0.076592</td>\n",
       "      <td>0.000050</td>\n",
       "      <td>0.001617</td>\n",
       "    </tr>\n",
       "    <tr>\n",
       "      <th>188</th>\n",
       "      <td>KLF5</td>\n",
       "      <td>PLSCR1</td>\n",
       "      <td>0.371059</td>\n",
       "      <td>0.102289</td>\n",
       "      <td>0.000300</td>\n",
       "      <td>0.005877</td>\n",
       "    </tr>\n",
       "    <tr>\n",
       "      <th>189</th>\n",
       "      <td>KLF5</td>\n",
       "      <td>SLC27A3</td>\n",
       "      <td>0.154064</td>\n",
       "      <td>0.172524</td>\n",
       "      <td>0.359782</td>\n",
       "      <td>0.610033</td>\n",
       "    </tr>\n",
       "    <tr>\n",
       "      <th>191</th>\n",
       "      <td>KLF5</td>\n",
       "      <td>JADE2</td>\n",
       "      <td>-0.159948</td>\n",
       "      <td>0.243435</td>\n",
       "      <td>0.577221</td>\n",
       "      <td>0.772672</td>\n",
       "    </tr>\n",
       "    <tr>\n",
       "      <th>192</th>\n",
       "      <td>KLF5</td>\n",
       "      <td>STX11</td>\n",
       "      <td>0.368637</td>\n",
       "      <td>0.185569</td>\n",
       "      <td>0.052547</td>\n",
       "      <td>0.193084</td>\n",
       "    </tr>\n",
       "    <tr>\n",
       "      <th>193</th>\n",
       "      <td>KLF5</td>\n",
       "      <td>NMI</td>\n",
       "      <td>0.242498</td>\n",
       "      <td>0.190883</td>\n",
       "      <td>0.199190</td>\n",
       "      <td>0.435929</td>\n",
       "    </tr>\n",
       "    <tr>\n",
       "      <th>194</th>\n",
       "      <td>KLF5</td>\n",
       "      <td>DUOXA2</td>\n",
       "      <td>0.146081</td>\n",
       "      <td>0.074191</td>\n",
       "      <td>0.054997</td>\n",
       "      <td>0.198331</td>\n",
       "    </tr>\n",
       "    <tr>\n",
       "      <th>195</th>\n",
       "      <td>KLF5</td>\n",
       "      <td>CYP2J2</td>\n",
       "      <td>-0.429044</td>\n",
       "      <td>0.232262</td>\n",
       "      <td>0.077996</td>\n",
       "      <td>0.246957</td>\n",
       "    </tr>\n",
       "    <tr>\n",
       "      <th>197</th>\n",
       "      <td>KLF5</td>\n",
       "      <td>IFITM1</td>\n",
       "      <td>0.480736</td>\n",
       "      <td>0.078201</td>\n",
       "      <td>0.000050</td>\n",
       "      <td>0.001617</td>\n",
       "    </tr>\n",
       "    <tr>\n",
       "      <th>198</th>\n",
       "      <td>KLF5</td>\n",
       "      <td>PI4K2B</td>\n",
       "      <td>0.193632</td>\n",
       "      <td>0.221683</td>\n",
       "      <td>0.375431</td>\n",
       "      <td>0.623678</td>\n",
       "    </tr>\n",
       "    <tr>\n",
       "      <th>199</th>\n",
       "      <td>KLF5</td>\n",
       "      <td>SCIN</td>\n",
       "      <td>0.131431</td>\n",
       "      <td>0.169316</td>\n",
       "      <td>0.429629</td>\n",
       "      <td>0.666087</td>\n",
       "    </tr>\n",
       "    <tr>\n",
       "      <th>202</th>\n",
       "      <td>KLF5</td>\n",
       "      <td>CHROMR</td>\n",
       "      <td>0.065873</td>\n",
       "      <td>0.156336</td>\n",
       "      <td>0.669767</td>\n",
       "      <td>0.833538</td>\n",
       "    </tr>\n",
       "    <tr>\n",
       "      <th>204</th>\n",
       "      <td>KLF5</td>\n",
       "      <td>RABGAP1L</td>\n",
       "      <td>0.296980</td>\n",
       "      <td>0.155561</td>\n",
       "      <td>0.055697</td>\n",
       "      <td>0.199272</td>\n",
       "    </tr>\n",
       "    <tr>\n",
       "      <th>208</th>\n",
       "      <td>KLF5</td>\n",
       "      <td>PML</td>\n",
       "      <td>0.386574</td>\n",
       "      <td>0.218304</td>\n",
       "      <td>0.079546</td>\n",
       "      <td>0.249503</td>\n",
       "    </tr>\n",
       "    <tr>\n",
       "      <th>210</th>\n",
       "      <td>KLF5</td>\n",
       "      <td>RSAD2</td>\n",
       "      <td>0.178147</td>\n",
       "      <td>0.093915</td>\n",
       "      <td>0.057497</td>\n",
       "      <td>0.203386</td>\n",
       "    </tr>\n",
       "    <tr>\n",
       "      <th>213</th>\n",
       "      <td>KLF5</td>\n",
       "      <td>SLFN12</td>\n",
       "      <td>0.379100</td>\n",
       "      <td>0.246411</td>\n",
       "      <td>0.123744</td>\n",
       "      <td>0.325223</td>\n",
       "    </tr>\n",
       "    <tr>\n",
       "      <th>214</th>\n",
       "      <td>KLF5</td>\n",
       "      <td>TNFSF13</td>\n",
       "      <td>0.216234</td>\n",
       "      <td>0.206949</td>\n",
       "      <td>0.284586</td>\n",
       "      <td>0.534418</td>\n",
       "    </tr>\n",
       "    <tr>\n",
       "      <th>216</th>\n",
       "      <td>KLF5</td>\n",
       "      <td>IFIH1</td>\n",
       "      <td>0.500593</td>\n",
       "      <td>0.140245</td>\n",
       "      <td>0.000950</td>\n",
       "      <td>0.012947</td>\n",
       "    </tr>\n",
       "    <tr>\n",
       "      <th>218</th>\n",
       "      <td>KLF5</td>\n",
       "      <td>SP110</td>\n",
       "      <td>0.390353</td>\n",
       "      <td>0.111066</td>\n",
       "      <td>0.001150</td>\n",
       "      <td>0.014690</td>\n",
       "    </tr>\n",
       "    <tr>\n",
       "      <th>219</th>\n",
       "      <td>KLF5</td>\n",
       "      <td>TMEM268</td>\n",
       "      <td>0.262523</td>\n",
       "      <td>0.206699</td>\n",
       "      <td>0.197590</td>\n",
       "      <td>0.433825</td>\n",
       "    </tr>\n",
       "    <tr>\n",
       "      <th>220</th>\n",
       "      <td>KLF5</td>\n",
       "      <td>OPTN</td>\n",
       "      <td>0.166359</td>\n",
       "      <td>0.133761</td>\n",
       "      <td>0.209040</td>\n",
       "      <td>0.445288</td>\n",
       "    </tr>\n",
       "    <tr>\n",
       "      <th>224</th>\n",
       "      <td>KLF5</td>\n",
       "      <td>TRANK1</td>\n",
       "      <td>-0.030970</td>\n",
       "      <td>0.256984</td>\n",
       "      <td>0.904455</td>\n",
       "      <td>0.960556</td>\n",
       "    </tr>\n",
       "    <tr>\n",
       "      <th>225</th>\n",
       "      <td>KLF5</td>\n",
       "      <td>IFITM2</td>\n",
       "      <td>0.461967</td>\n",
       "      <td>0.083884</td>\n",
       "      <td>0.000050</td>\n",
       "      <td>0.001617</td>\n",
       "    </tr>\n",
       "    <tr>\n",
       "      <th>226</th>\n",
       "      <td>KLF5</td>\n",
       "      <td>HIST2H2BE</td>\n",
       "      <td>0.095774</td>\n",
       "      <td>0.136235</td>\n",
       "      <td>0.483426</td>\n",
       "      <td>0.716194</td>\n",
       "    </tr>\n",
       "    <tr>\n",
       "      <th>231</th>\n",
       "      <td>KLF5</td>\n",
       "      <td>HELZ2</td>\n",
       "      <td>0.129312</td>\n",
       "      <td>0.133657</td>\n",
       "      <td>0.321984</td>\n",
       "      <td>0.572463</td>\n",
       "    </tr>\n",
       "    <tr>\n",
       "      <th>234</th>\n",
       "      <td>KLF5</td>\n",
       "      <td>SCLT1</td>\n",
       "      <td>0.164669</td>\n",
       "      <td>0.292474</td>\n",
       "      <td>0.567072</td>\n",
       "      <td>0.766440</td>\n",
       "    </tr>\n",
       "    <tr>\n",
       "      <th>235</th>\n",
       "      <td>KLF5</td>\n",
       "      <td>RBM43</td>\n",
       "      <td>0.247595</td>\n",
       "      <td>0.147388</td>\n",
       "      <td>0.093195</td>\n",
       "      <td>0.275196</td>\n",
       "    </tr>\n",
       "    <tr>\n",
       "      <th>236</th>\n",
       "      <td>KLF5</td>\n",
       "      <td>BTC</td>\n",
       "      <td>-0.036557</td>\n",
       "      <td>0.204925</td>\n",
       "      <td>0.865107</td>\n",
       "      <td>0.941006</td>\n",
       "    </tr>\n",
       "    <tr>\n",
       "      <th>237</th>\n",
       "      <td>KLF5</td>\n",
       "      <td>ANKFY1</td>\n",
       "      <td>0.106024</td>\n",
       "      <td>0.193018</td>\n",
       "      <td>0.576671</td>\n",
       "      <td>0.772444</td>\n",
       "    </tr>\n",
       "    <tr>\n",
       "      <th>240</th>\n",
       "      <td>KLF5</td>\n",
       "      <td>APOD</td>\n",
       "      <td>0.207091</td>\n",
       "      <td>0.097226</td>\n",
       "      <td>0.034848</td>\n",
       "      <td>0.150862</td>\n",
       "    </tr>\n",
       "    <tr>\n",
       "      <th>241</th>\n",
       "      <td>KLF5</td>\n",
       "      <td>CFB</td>\n",
       "      <td>0.277979</td>\n",
       "      <td>0.086317</td>\n",
       "      <td>0.001400</td>\n",
       "      <td>0.016878</td>\n",
       "    </tr>\n",
       "    <tr>\n",
       "      <th>244</th>\n",
       "      <td>KLF5</td>\n",
       "      <td>LYSMD2</td>\n",
       "      <td>0.346865</td>\n",
       "      <td>0.154100</td>\n",
       "      <td>0.026999</td>\n",
       "      <td>0.129587</td>\n",
       "    </tr>\n",
       "    <tr>\n",
       "      <th>245</th>\n",
       "      <td>KLF5</td>\n",
       "      <td>RABAC1</td>\n",
       "      <td>0.074577</td>\n",
       "      <td>0.107693</td>\n",
       "      <td>0.487526</td>\n",
       "      <td>0.718505</td>\n",
       "    </tr>\n",
       "    <tr>\n",
       "      <th>246</th>\n",
       "      <td>KLF5</td>\n",
       "      <td>PPM1K</td>\n",
       "      <td>0.265194</td>\n",
       "      <td>0.147600</td>\n",
       "      <td>0.076346</td>\n",
       "      <td>0.242865</td>\n",
       "    </tr>\n",
       "    <tr>\n",
       "      <th>247</th>\n",
       "      <td>KLF5</td>\n",
       "      <td>LY6E</td>\n",
       "      <td>0.252773</td>\n",
       "      <td>0.092290</td>\n",
       "      <td>0.006250</td>\n",
       "      <td>0.047425</td>\n",
       "    </tr>\n",
       "    <tr>\n",
       "      <th>249</th>\n",
       "      <td>KLF5</td>\n",
       "      <td>GMPR</td>\n",
       "      <td>0.368677</td>\n",
       "      <td>0.139341</td>\n",
       "      <td>0.009700</td>\n",
       "      <td>0.064374</td>\n",
       "    </tr>\n",
       "    <tr>\n",
       "      <th>252</th>\n",
       "      <td>KLF5</td>\n",
       "      <td>GANC</td>\n",
       "      <td>0.128026</td>\n",
       "      <td>0.275175</td>\n",
       "      <td>0.633068</td>\n",
       "      <td>0.812777</td>\n",
       "    </tr>\n",
       "    <tr>\n",
       "      <th>254</th>\n",
       "      <td>KLF5</td>\n",
       "      <td>TENT5A</td>\n",
       "      <td>0.191949</td>\n",
       "      <td>0.157958</td>\n",
       "      <td>0.220939</td>\n",
       "      <td>0.461441</td>\n",
       "    </tr>\n",
       "    <tr>\n",
       "      <th>255</th>\n",
       "      <td>KLF5</td>\n",
       "      <td>IFIT5</td>\n",
       "      <td>0.501074</td>\n",
       "      <td>0.197048</td>\n",
       "      <td>0.012949</td>\n",
       "      <td>0.078292</td>\n",
       "    </tr>\n",
       "    <tr>\n",
       "      <th>257</th>\n",
       "      <td>KLF5</td>\n",
       "      <td>HLA-F</td>\n",
       "      <td>0.227334</td>\n",
       "      <td>0.157868</td>\n",
       "      <td>0.150942</td>\n",
       "      <td>0.366465</td>\n",
       "    </tr>\n",
       "    <tr>\n",
       "      <th>260</th>\n",
       "      <td>KLF5</td>\n",
       "      <td>IFI6</td>\n",
       "      <td>0.533425</td>\n",
       "      <td>0.074438</td>\n",
       "      <td>0.000050</td>\n",
       "      <td>0.001617</td>\n",
       "    </tr>\n",
       "    <tr>\n",
       "      <th>263</th>\n",
       "      <td>KLF5</td>\n",
       "      <td>SAMD9L</td>\n",
       "      <td>0.172469</td>\n",
       "      <td>0.129467</td>\n",
       "      <td>0.183341</td>\n",
       "      <td>0.412315</td>\n",
       "    </tr>\n",
       "    <tr>\n",
       "      <th>264</th>\n",
       "      <td>KLF5</td>\n",
       "      <td>EPSTI1</td>\n",
       "      <td>0.459199</td>\n",
       "      <td>0.098108</td>\n",
       "      <td>0.000150</td>\n",
       "      <td>0.003617</td>\n",
       "    </tr>\n",
       "    <tr>\n",
       "      <th>267</th>\n",
       "      <td>KLF5</td>\n",
       "      <td>ENDOD1</td>\n",
       "      <td>0.329494</td>\n",
       "      <td>0.265631</td>\n",
       "      <td>0.206690</td>\n",
       "      <td>0.442559</td>\n",
       "    </tr>\n",
       "    <tr>\n",
       "      <th>270</th>\n",
       "      <td>KLF5</td>\n",
       "      <td>RBMS2</td>\n",
       "      <td>0.097064</td>\n",
       "      <td>0.168279</td>\n",
       "      <td>0.567722</td>\n",
       "      <td>0.767064</td>\n",
       "    </tr>\n",
       "    <tr>\n",
       "      <th>271</th>\n",
       "      <td>KLF5</td>\n",
       "      <td>TMEM62</td>\n",
       "      <td>0.470105</td>\n",
       "      <td>0.347973</td>\n",
       "      <td>0.190490</td>\n",
       "      <td>0.423366</td>\n",
       "    </tr>\n",
       "    <tr>\n",
       "      <th>274</th>\n",
       "      <td>KLF5</td>\n",
       "      <td>NT5C3A</td>\n",
       "      <td>0.481592</td>\n",
       "      <td>0.114099</td>\n",
       "      <td>0.000350</td>\n",
       "      <td>0.006542</td>\n",
       "    </tr>\n",
       "    <tr>\n",
       "      <th>275</th>\n",
       "      <td>KLF5</td>\n",
       "      <td>ID3</td>\n",
       "      <td>0.207797</td>\n",
       "      <td>0.129567</td>\n",
       "      <td>0.111794</td>\n",
       "      <td>0.305952</td>\n",
       "    </tr>\n",
       "    <tr>\n",
       "      <th>276</th>\n",
       "      <td>KLF5</td>\n",
       "      <td>OAS2</td>\n",
       "      <td>0.556245</td>\n",
       "      <td>0.115291</td>\n",
       "      <td>0.000050</td>\n",
       "      <td>0.001617</td>\n",
       "    </tr>\n",
       "    <tr>\n",
       "      <th>277</th>\n",
       "      <td>KLF5</td>\n",
       "      <td>IFI35</td>\n",
       "      <td>0.513921</td>\n",
       "      <td>0.111767</td>\n",
       "      <td>0.000100</td>\n",
       "      <td>0.002717</td>\n",
       "    </tr>\n",
       "    <tr>\n",
       "      <th>278</th>\n",
       "      <td>KLF5</td>\n",
       "      <td>TRIM31</td>\n",
       "      <td>0.067043</td>\n",
       "      <td>0.224056</td>\n",
       "      <td>0.753362</td>\n",
       "      <td>0.882677</td>\n",
       "    </tr>\n",
       "    <tr>\n",
       "      <th>279</th>\n",
       "      <td>KLF5</td>\n",
       "      <td>IFIT1</td>\n",
       "      <td>0.591194</td>\n",
       "      <td>0.079304</td>\n",
       "      <td>0.000050</td>\n",
       "      <td>0.001617</td>\n",
       "    </tr>\n",
       "    <tr>\n",
       "      <th>280</th>\n",
       "      <td>KLF5</td>\n",
       "      <td>IRF7</td>\n",
       "      <td>0.584555</td>\n",
       "      <td>0.121937</td>\n",
       "      <td>0.000050</td>\n",
       "      <td>0.001617</td>\n",
       "    </tr>\n",
       "    <tr>\n",
       "      <th>282</th>\n",
       "      <td>KLF5</td>\n",
       "      <td>LGMN</td>\n",
       "      <td>0.170624</td>\n",
       "      <td>0.212300</td>\n",
       "      <td>0.417779</td>\n",
       "      <td>0.655292</td>\n",
       "    </tr>\n",
       "    <tr>\n",
       "      <th>284</th>\n",
       "      <td>KLF5</td>\n",
       "      <td>BST2</td>\n",
       "      <td>0.369588</td>\n",
       "      <td>0.088284</td>\n",
       "      <td>0.000300</td>\n",
       "      <td>0.005877</td>\n",
       "    </tr>\n",
       "    <tr>\n",
       "      <th>286</th>\n",
       "      <td>KLF5</td>\n",
       "      <td>MUC15</td>\n",
       "      <td>0.231500</td>\n",
       "      <td>0.121926</td>\n",
       "      <td>0.058747</td>\n",
       "      <td>0.205311</td>\n",
       "    </tr>\n",
       "    <tr>\n",
       "      <th>287</th>\n",
       "      <td>KLF5</td>\n",
       "      <td>RTP4</td>\n",
       "      <td>0.422737</td>\n",
       "      <td>0.115389</td>\n",
       "      <td>0.000450</td>\n",
       "      <td>0.007737</td>\n",
       "    </tr>\n",
       "    <tr>\n",
       "      <th>290</th>\n",
       "      <td>KLF5</td>\n",
       "      <td>UNC93B1</td>\n",
       "      <td>0.216307</td>\n",
       "      <td>0.131316</td>\n",
       "      <td>0.098445</td>\n",
       "      <td>0.285265</td>\n",
       "    </tr>\n",
       "    <tr>\n",
       "      <th>293</th>\n",
       "      <td>KLF5</td>\n",
       "      <td>MYD88</td>\n",
       "      <td>0.501080</td>\n",
       "      <td>0.196412</td>\n",
       "      <td>0.011549</td>\n",
       "      <td>0.072967</td>\n",
       "    </tr>\n",
       "    <tr>\n",
       "      <th>295</th>\n",
       "      <td>KLF5</td>\n",
       "      <td>TNFSF10</td>\n",
       "      <td>0.385226</td>\n",
       "      <td>0.132020</td>\n",
       "      <td>0.003700</td>\n",
       "      <td>0.032991</td>\n",
       "    </tr>\n",
       "    <tr>\n",
       "      <th>296</th>\n",
       "      <td>KLF5</td>\n",
       "      <td>STS</td>\n",
       "      <td>0.072173</td>\n",
       "      <td>0.172045</td>\n",
       "      <td>0.668417</td>\n",
       "      <td>0.833272</td>\n",
       "    </tr>\n",
       "    <tr>\n",
       "      <th>298</th>\n",
       "      <td>KLF5</td>\n",
       "      <td>PARP10</td>\n",
       "      <td>-0.031059</td>\n",
       "      <td>0.200322</td>\n",
       "      <td>0.869007</td>\n",
       "      <td>0.942263</td>\n",
       "    </tr>\n",
       "    <tr>\n",
       "      <th>300</th>\n",
       "      <td>KLF5</td>\n",
       "      <td>TOR1B</td>\n",
       "      <td>0.401854</td>\n",
       "      <td>0.247532</td>\n",
       "      <td>0.103445</td>\n",
       "      <td>0.293283</td>\n",
       "    </tr>\n",
       "    <tr>\n",
       "      <th>301</th>\n",
       "      <td>KLF5</td>\n",
       "      <td>DDX60L</td>\n",
       "      <td>0.127725</td>\n",
       "      <td>0.105760</td>\n",
       "      <td>0.228689</td>\n",
       "      <td>0.470422</td>\n",
       "    </tr>\n",
       "    <tr>\n",
       "      <th>303</th>\n",
       "      <td>KLF5</td>\n",
       "      <td>LGALS3BP</td>\n",
       "      <td>0.181445</td>\n",
       "      <td>0.130541</td>\n",
       "      <td>0.161842</td>\n",
       "      <td>0.381879</td>\n",
       "    </tr>\n",
       "    <tr>\n",
       "      <th>307</th>\n",
       "      <td>KLF5</td>\n",
       "      <td>ISG15</td>\n",
       "      <td>0.338287</td>\n",
       "      <td>0.068952</td>\n",
       "      <td>0.000050</td>\n",
       "      <td>0.001617</td>\n",
       "    </tr>\n",
       "    <tr>\n",
       "      <th>308</th>\n",
       "      <td>KLF5</td>\n",
       "      <td>BRCA2</td>\n",
       "      <td>0.066287</td>\n",
       "      <td>0.168115</td>\n",
       "      <td>0.686116</td>\n",
       "      <td>0.842399</td>\n",
       "    </tr>\n",
       "    <tr>\n",
       "      <th>309</th>\n",
       "      <td>KLF5</td>\n",
       "      <td>MT2A</td>\n",
       "      <td>0.359098</td>\n",
       "      <td>0.091244</td>\n",
       "      <td>0.000200</td>\n",
       "      <td>0.004382</td>\n",
       "    </tr>\n",
       "    <tr>\n",
       "      <th>310</th>\n",
       "      <td>KLF5</td>\n",
       "      <td>BAG1</td>\n",
       "      <td>0.284705</td>\n",
       "      <td>0.114457</td>\n",
       "      <td>0.016999</td>\n",
       "      <td>0.093358</td>\n",
       "    </tr>\n",
       "    <tr>\n",
       "      <th>312</th>\n",
       "      <td>KLF5</td>\n",
       "      <td>STIMATE</td>\n",
       "      <td>0.168695</td>\n",
       "      <td>0.146390</td>\n",
       "      <td>0.249538</td>\n",
       "      <td>0.494740</td>\n",
       "    </tr>\n",
       "    <tr>\n",
       "      <th>317</th>\n",
       "      <td>KLF5</td>\n",
       "      <td>SCARB2</td>\n",
       "      <td>-0.076411</td>\n",
       "      <td>0.168736</td>\n",
       "      <td>0.650217</td>\n",
       "      <td>0.824978</td>\n",
       "    </tr>\n",
       "    <tr>\n",
       "      <th>321</th>\n",
       "      <td>KLF5</td>\n",
       "      <td>SHFL</td>\n",
       "      <td>0.171931</td>\n",
       "      <td>0.150745</td>\n",
       "      <td>0.239238</td>\n",
       "      <td>0.483163</td>\n",
       "    </tr>\n",
       "    <tr>\n",
       "      <th>325</th>\n",
       "      <td>KLF5</td>\n",
       "      <td>ID4</td>\n",
       "      <td>0.253690</td>\n",
       "      <td>0.155189</td>\n",
       "      <td>0.101845</td>\n",
       "      <td>0.291384</td>\n",
       "    </tr>\n",
       "    <tr>\n",
       "      <th>327</th>\n",
       "      <td>KLF5</td>\n",
       "      <td>PNPT1</td>\n",
       "      <td>0.176932</td>\n",
       "      <td>0.146808</td>\n",
       "      <td>0.226539</td>\n",
       "      <td>0.467652</td>\n",
       "    </tr>\n",
       "    <tr>\n",
       "      <th>328</th>\n",
       "      <td>KLF5</td>\n",
       "      <td>CARD16</td>\n",
       "      <td>0.181784</td>\n",
       "      <td>0.199422</td>\n",
       "      <td>0.355532</td>\n",
       "      <td>0.605683</td>\n",
       "    </tr>\n",
       "    <tr>\n",
       "      <th>332</th>\n",
       "      <td>KLF5</td>\n",
       "      <td>HSH2D</td>\n",
       "      <td>0.067511</td>\n",
       "      <td>0.181097</td>\n",
       "      <td>0.709265</td>\n",
       "      <td>0.856625</td>\n",
       "    </tr>\n",
       "    <tr>\n",
       "      <th>336</th>\n",
       "      <td>KLF5</td>\n",
       "      <td>MT1E</td>\n",
       "      <td>0.399711</td>\n",
       "      <td>0.109786</td>\n",
       "      <td>0.001200</td>\n",
       "      <td>0.015045</td>\n",
       "    </tr>\n",
       "    <tr>\n",
       "      <th>337</th>\n",
       "      <td>KLF5</td>\n",
       "      <td>BLZF1</td>\n",
       "      <td>0.206571</td>\n",
       "      <td>0.198446</td>\n",
       "      <td>0.292185</td>\n",
       "      <td>0.541453</td>\n",
       "    </tr>\n",
       "    <tr>\n",
       "      <th>338</th>\n",
       "      <td>KLF5</td>\n",
       "      <td>CNP</td>\n",
       "      <td>0.326389</td>\n",
       "      <td>0.190019</td>\n",
       "      <td>0.087846</td>\n",
       "      <td>0.265360</td>\n",
       "    </tr>\n",
       "  </tbody>\n",
       "</table>\n",
       "</div>"
      ],
      "text/plain": [
       "    gene_1       gene_2  corr_coef   corr_se  corr_pval  corr_fdr\n",
       "0     KLF5        TTC38   0.159899  0.179629   0.368532  0.618251\n",
       "2     KLF5         CD68   0.406085  0.208828   0.054997  0.198331\n",
       "4     KLF5       GPR180   0.026846  0.227516   0.907655  0.961949\n",
       "5     KLF5    LINC01138   0.177314  0.162977   0.270286  0.518070\n",
       "6     KLF5      BCL2L13   0.352449  0.231702   0.125044  0.326558\n",
       "7     KLF5        BISPR   0.044046  0.197762   0.823009  0.921360\n",
       "8     KLF5         CD38   0.081134  0.093244   0.376331  0.624321\n",
       "9     KLF5     C11orf52   0.171761  0.154309   0.259687  0.507105\n",
       "12    KLF5        USP18   0.445754  0.143255   0.002900  0.028406\n",
       "15    KLF5      SLC18B1   0.124930  0.226309   0.570671  0.769264\n",
       "17    KLF5       NDUFA9   0.047698  0.183843   0.793110  0.903529\n",
       "20    KLF5        DTX3L   0.288669  0.161174   0.071846  0.232545\n",
       "22    KLF5        TRIM5   0.519257  0.216343   0.020849  0.107002\n",
       "26    KLF5       RICTOR  -0.010429  0.192699   0.954352  0.982315\n",
       "29    KLF5        LAMP3   0.275867  0.160639   0.085046  0.259986\n",
       "30    KLF5        CMTR1   0.154500  0.190411   0.416479  0.654766\n",
       "31    KLF5         KRT4   0.096693  0.119082   0.408530  0.650296\n",
       "33    KLF5      PLEKHA4   0.197676  0.193915   0.293335  0.541983\n",
       "34    KLF5        HERC6   0.593991  0.126159   0.000050  0.001617\n",
       "35    KLF5        MOV10   0.447557  0.200981   0.027499  0.130536\n",
       "36    KLF5       CXCL11   0.104172  0.158041   0.496275  0.724100\n",
       "37    KLF5        PHF11   0.307399  0.189024   0.103495  0.293283\n",
       "38    KLF5        AKAP7  -0.120118  0.225827   0.583771  0.776139\n",
       "43    KLF5         TLR3   0.382968  0.219982   0.082996  0.257192\n",
       "44    KLF5     APOBEC3F  -0.005737  0.277906   0.982401  0.992752\n",
       "45    KLF5        IKBKE   0.145118  0.181171   0.410929  0.651650\n",
       "47    KLF5       PLAAT2   0.152129  0.087433   0.083796  0.258451\n",
       "48    KLF5       CXCL10   0.473388  0.136652   0.000700  0.010643\n",
       "50    KLF5      PHACTR4  -0.010800  0.163933   0.947853  0.980330\n",
       "53    KLF5   HIST2H2AA4   0.289924  0.145206   0.047248  0.179435\n",
       "56    KLF5         CAPG   0.518926  0.148412   0.001100  0.014366\n",
       "58    KLF5      EIF2AK2   0.380025  0.123877   0.002400  0.025205\n",
       "61    KLF5        IFIT2   0.547817  0.081196   0.000050  0.001617\n",
       "64    KLF5        NUPR1   0.264138  0.085365   0.002700  0.027233\n",
       "65    KLF5       PARP12   0.409413  0.144456   0.006150  0.046841\n",
       "66    KLF5       TRIM14  -0.057846  0.235465   0.813559  0.915929\n",
       "68    KLF5          MX1   0.449095  0.085796   0.000050  0.001617\n",
       "69    KLF5       ANKIB1   0.252740  0.197560   0.195240  0.431222\n",
       "72    KLF5         GNB4   0.072443  0.205173   0.717264  0.861690\n",
       "74    KLF5         LIFR   0.242317  0.192771   0.200040  0.437069\n",
       "75    KLF5        SAMD9   0.570317  0.091196   0.000050  0.001617\n",
       "76    KLF5       SMCHD1   0.098159  0.180390   0.580321  0.774398\n",
       "77    KLF5        CFLAR  -0.093912  0.129310   0.458877  0.690264\n",
       "78    KLF5         NAPA   0.288020  0.202186   0.155192  0.373323\n",
       "79    KLF5       ZCCHC2   0.267987  0.163334   0.103295  0.293124\n",
       "80    KLF5        CCNA1   0.112022  0.077488   0.155542  0.373523\n",
       "81    KLF5       TRIM21  -0.005759  0.205608   0.975851  0.990144\n",
       "82    KLF5       LUCAT1  -0.258964  0.160250   0.101995  0.291465\n",
       "83    KLF5  SLC16A1-AS1  -0.146984  0.236543   0.525774  0.740431\n",
       "84    KLF5         NUB1   0.263339  0.154126   0.088646  0.266788\n",
       "86    KLF5        ZNFX1   0.204061  0.154884   0.182391  0.411086\n",
       "88    KLF5      SPATS2L   0.148637  0.107549   0.166092  0.386431\n",
       "89    KLF5         UBA7   0.186879  0.275166   0.491125  0.720683\n",
       "90    KLF5        DRAP1   0.330872  0.122192   0.008900  0.060342\n",
       "93    KLF5         OASL   0.452373  0.108308   0.000550  0.008858\n",
       "94    KLF5        PGAP1   0.081487  0.194582   0.671466  0.833707\n",
       "96    KLF5        IFI16   0.430518  0.104833   0.000300  0.005877\n",
       "98    KLF5        PATL1   0.368548  0.299814   0.196640  0.432906\n",
       "99    KLF5         LMO2   0.518501  0.163120   0.002600  0.026486\n",
       "102   KLF5       ZNF107   0.166744  0.267471   0.524174  0.739968\n",
       "104   KLF5      C1GALT1   0.090253  0.192776   0.636018  0.814255\n",
       "109   KLF5        CKAP2  -0.055343  0.193441   0.776361  0.893945\n",
       "110   KLF5       TRIM22   0.534154  0.138033   0.000550  0.008858\n",
       "113   KLF5       TRIM25   0.145848  0.184315   0.416129  0.654766\n",
       "114   KLF5         AZI2  -0.218688  0.230530   0.359882  0.610033\n",
       "115   KLF5     APOBEC3G   0.133466  0.170043   0.414979  0.654427\n",
       "116   KLF5         XAF1   0.100270  0.108248   0.352632  0.604534\n",
       "117   KLF5        KCTD1  -0.521892  0.178021   0.013649  0.080555\n",
       "119   KLF5     APOBEC3A   0.074360  0.117609   0.515274  0.735977\n",
       "124   KLF5        SP100   0.601261  0.191932   0.005100  0.041563\n",
       "127   KLF5         OAS1   0.430107  0.116463   0.000450  0.007737\n",
       "128   KLF5         HES4   0.173489  0.105251   0.100545  0.288943\n",
       "129   KLF5        KLK10   0.346535  0.168231   0.041648  0.166551\n",
       "130   KLF5       GTPBP1   0.414032  0.195547   0.038398  0.159016\n",
       "131   KLF5        STAT2  -0.035425  0.143006   0.795560  0.904412\n",
       "135   KLF5        CMPK2   0.258163  0.121493   0.035298  0.151630\n",
       "137   KLF5         HIRA  -0.050475  0.251121   0.830808  0.925012\n",
       "138   KLF5        ISG20   0.256256  0.079901   0.002750  0.027398\n",
       "139   KLF5        IFI27   0.294216  0.077504   0.000200  0.004382\n",
       "140   KLF5         ELF1   0.254286  0.144193   0.081596  0.254169\n",
       "141   KLF5          PTN   0.093477  0.079926   0.245288  0.490455\n",
       "143   KLF5        CASP1   0.127091  0.198363   0.519574  0.737466\n",
       "145   KLF5       TRIM38   0.077376  0.200901   0.691665  0.845392\n",
       "150   KLF5      TMEM50A   0.147479  0.111492   0.184791  0.414432\n",
       "151   KLF5        PRKD2   0.175447  0.215830   0.416229  0.654766\n",
       "152   KLF5       STARD4   0.376495  0.175418   0.036748  0.155019\n",
       "154   KLF5      CCDC71L   0.221483  0.291057   0.446878  0.678222\n",
       "155   KLF5          MX2   0.398610  0.091889   0.000050  0.001617\n",
       "156   KLF5        TXNIP   0.228519  0.093242   0.015099  0.086418\n",
       "160   KLF5        IFIT3   0.577018  0.086281   0.000050  0.001617\n",
       "161   KLF5       CEP112   0.276348  0.197693   0.158342  0.377336\n",
       "163   KLF5       LGALS9   0.337234  0.198936   0.090295  0.269664\n",
       "164   KLF5        DHX58   0.143038  0.244252   0.540473  0.750657\n",
       "167   KLF5         OAS3   0.418277  0.123761   0.000900  0.012348\n",
       "169   KLF5        DDX60   0.269322  0.114580   0.021249  0.108900\n",
       "170   KLF5         ADAR   0.292942  0.164159   0.074596  0.239110\n",
       "174   KLF5        DDX58   0.696728  0.110737   0.000050  0.001617\n",
       "176   KLF5        DUOX2   0.166459  0.118102   0.157592  0.375988\n",
       "177   KLF5     SLC25A28   0.129494  0.192641   0.494175  0.723221\n",
       "178   KLF5   SCAMP1-AS1  -0.171759  0.311759   0.562422  0.763193\n",
       "179   KLF5        PCGF5   0.598135  0.177895   0.003100  0.029652\n",
       "180   KLF5       IFI44L   0.412275  0.086001   0.000050  0.001617\n",
       "181   KLF5        IFI44   0.178170  0.141712   0.208340  0.444262\n",
       "182   KLF5         SOBP  -0.037625  0.156002   0.807560  0.912086\n",
       "183   KLF5        CCND3   0.285894  0.222996   0.200340  0.437208\n",
       "185   KLF5        HERC5   0.371571  0.102840   0.000250  0.005197\n",
       "186   KLF5       IFITM3   0.459417  0.076592   0.000050  0.001617\n",
       "188   KLF5       PLSCR1   0.371059  0.102289   0.000300  0.005877\n",
       "189   KLF5      SLC27A3   0.154064  0.172524   0.359782  0.610033\n",
       "191   KLF5        JADE2  -0.159948  0.243435   0.577221  0.772672\n",
       "192   KLF5        STX11   0.368637  0.185569   0.052547  0.193084\n",
       "193   KLF5          NMI   0.242498  0.190883   0.199190  0.435929\n",
       "194   KLF5       DUOXA2   0.146081  0.074191   0.054997  0.198331\n",
       "195   KLF5       CYP2J2  -0.429044  0.232262   0.077996  0.246957\n",
       "197   KLF5       IFITM1   0.480736  0.078201   0.000050  0.001617\n",
       "198   KLF5       PI4K2B   0.193632  0.221683   0.375431  0.623678\n",
       "199   KLF5         SCIN   0.131431  0.169316   0.429629  0.666087\n",
       "202   KLF5       CHROMR   0.065873  0.156336   0.669767  0.833538\n",
       "204   KLF5     RABGAP1L   0.296980  0.155561   0.055697  0.199272\n",
       "208   KLF5          PML   0.386574  0.218304   0.079546  0.249503\n",
       "210   KLF5        RSAD2   0.178147  0.093915   0.057497  0.203386\n",
       "213   KLF5       SLFN12   0.379100  0.246411   0.123744  0.325223\n",
       "214   KLF5      TNFSF13   0.216234  0.206949   0.284586  0.534418\n",
       "216   KLF5        IFIH1   0.500593  0.140245   0.000950  0.012947\n",
       "218   KLF5        SP110   0.390353  0.111066   0.001150  0.014690\n",
       "219   KLF5      TMEM268   0.262523  0.206699   0.197590  0.433825\n",
       "220   KLF5         OPTN   0.166359  0.133761   0.209040  0.445288\n",
       "224   KLF5       TRANK1  -0.030970  0.256984   0.904455  0.960556\n",
       "225   KLF5       IFITM2   0.461967  0.083884   0.000050  0.001617\n",
       "226   KLF5    HIST2H2BE   0.095774  0.136235   0.483426  0.716194\n",
       "231   KLF5        HELZ2   0.129312  0.133657   0.321984  0.572463\n",
       "234   KLF5        SCLT1   0.164669  0.292474   0.567072  0.766440\n",
       "235   KLF5        RBM43   0.247595  0.147388   0.093195  0.275196\n",
       "236   KLF5          BTC  -0.036557  0.204925   0.865107  0.941006\n",
       "237   KLF5       ANKFY1   0.106024  0.193018   0.576671  0.772444\n",
       "240   KLF5         APOD   0.207091  0.097226   0.034848  0.150862\n",
       "241   KLF5          CFB   0.277979  0.086317   0.001400  0.016878\n",
       "244   KLF5       LYSMD2   0.346865  0.154100   0.026999  0.129587\n",
       "245   KLF5       RABAC1   0.074577  0.107693   0.487526  0.718505\n",
       "246   KLF5        PPM1K   0.265194  0.147600   0.076346  0.242865\n",
       "247   KLF5         LY6E   0.252773  0.092290   0.006250  0.047425\n",
       "249   KLF5         GMPR   0.368677  0.139341   0.009700  0.064374\n",
       "252   KLF5         GANC   0.128026  0.275175   0.633068  0.812777\n",
       "254   KLF5       TENT5A   0.191949  0.157958   0.220939  0.461441\n",
       "255   KLF5        IFIT5   0.501074  0.197048   0.012949  0.078292\n",
       "257   KLF5        HLA-F   0.227334  0.157868   0.150942  0.366465\n",
       "260   KLF5         IFI6   0.533425  0.074438   0.000050  0.001617\n",
       "263   KLF5       SAMD9L   0.172469  0.129467   0.183341  0.412315\n",
       "264   KLF5       EPSTI1   0.459199  0.098108   0.000150  0.003617\n",
       "267   KLF5       ENDOD1   0.329494  0.265631   0.206690  0.442559\n",
       "270   KLF5        RBMS2   0.097064  0.168279   0.567722  0.767064\n",
       "271   KLF5       TMEM62   0.470105  0.347973   0.190490  0.423366\n",
       "274   KLF5       NT5C3A   0.481592  0.114099   0.000350  0.006542\n",
       "275   KLF5          ID3   0.207797  0.129567   0.111794  0.305952\n",
       "276   KLF5         OAS2   0.556245  0.115291   0.000050  0.001617\n",
       "277   KLF5        IFI35   0.513921  0.111767   0.000100  0.002717\n",
       "278   KLF5       TRIM31   0.067043  0.224056   0.753362  0.882677\n",
       "279   KLF5        IFIT1   0.591194  0.079304   0.000050  0.001617\n",
       "280   KLF5         IRF7   0.584555  0.121937   0.000050  0.001617\n",
       "282   KLF5         LGMN   0.170624  0.212300   0.417779  0.655292\n",
       "284   KLF5         BST2   0.369588  0.088284   0.000300  0.005877\n",
       "286   KLF5        MUC15   0.231500  0.121926   0.058747  0.205311\n",
       "287   KLF5         RTP4   0.422737  0.115389   0.000450  0.007737\n",
       "290   KLF5      UNC93B1   0.216307  0.131316   0.098445  0.285265\n",
       "293   KLF5        MYD88   0.501080  0.196412   0.011549  0.072967\n",
       "295   KLF5      TNFSF10   0.385226  0.132020   0.003700  0.032991\n",
       "296   KLF5          STS   0.072173  0.172045   0.668417  0.833272\n",
       "298   KLF5       PARP10  -0.031059  0.200322   0.869007  0.942263\n",
       "300   KLF5        TOR1B   0.401854  0.247532   0.103445  0.293283\n",
       "301   KLF5       DDX60L   0.127725  0.105760   0.228689  0.470422\n",
       "303   KLF5     LGALS3BP   0.181445  0.130541   0.161842  0.381879\n",
       "307   KLF5        ISG15   0.338287  0.068952   0.000050  0.001617\n",
       "308   KLF5        BRCA2   0.066287  0.168115   0.686116  0.842399\n",
       "309   KLF5         MT2A   0.359098  0.091244   0.000200  0.004382\n",
       "310   KLF5         BAG1   0.284705  0.114457   0.016999  0.093358\n",
       "312   KLF5      STIMATE   0.168695  0.146390   0.249538  0.494740\n",
       "317   KLF5       SCARB2  -0.076411  0.168736   0.650217  0.824978\n",
       "321   KLF5         SHFL   0.171931  0.150745   0.239238  0.483163\n",
       "325   KLF5          ID4   0.253690  0.155189   0.101845  0.291384\n",
       "327   KLF5        PNPT1   0.176932  0.146808   0.226539  0.467652\n",
       "328   KLF5       CARD16   0.181784  0.199422   0.355532  0.605683\n",
       "332   KLF5        HSH2D   0.067511  0.181097   0.709265  0.856625\n",
       "336   KLF5         MT1E   0.399711  0.109786   0.001200  0.015045\n",
       "337   KLF5        BLZF1   0.206571  0.198446   0.292185  0.541453\n",
       "338   KLF5          CNP   0.326389  0.190019   0.087846  0.265360"
      ]
     },
     "execution_count": 29,
     "metadata": {},
     "output_type": "execute_result"
    }
   ],
   "source": [
    "beta_df.query('gene_1 == \"KLF5\" & gene_2 in @t1_isg')"
   ]
  },
  {
   "cell_type": "code",
   "execution_count": null,
   "metadata": {},
   "outputs": [],
   "source": []
  },
  {
   "cell_type": "code",
   "execution_count": 63,
   "metadata": {},
   "outputs": [],
   "source": [
    "agg = moment_df.groupby('gene_1').agg({'time_step_1':'mean', 'time_step_0':'mean'})\n",
    "agg['diff'] = agg['time_step_1'] - agg['time_step_0']\n",
    "tf_df.index = tf_df.Symbol\n",
    "agg = agg.join(result_1d).join(tf_df[['Family']])"
   ]
  },
  {
   "cell_type": "code",
   "execution_count": 64,
   "metadata": {},
   "outputs": [
    {
     "data": {
      "text/plain": [
       "time_step_1    0.243733\n",
       "time_step_0    0.182923\n",
       "diff            0.06081\n",
       "gene              STAT1\n",
       "de_coef        1.477862\n",
       "de_se          0.044785\n",
       "de_pval             0.0\n",
       "dv_coef       -0.659008\n",
       "dv_se          0.094982\n",
       "dv_pval             0.0\n",
       "de_fdr              0.0\n",
       "Family             STAT\n",
       "Name: STAT1, dtype: object"
      ]
     },
     "execution_count": 64,
     "metadata": {},
     "output_type": "execute_result"
    }
   ],
   "source": [
    "agg.loc['STAT1']"
   ]
  },
  {
   "cell_type": "code",
   "execution_count": 65,
   "metadata": {},
   "outputs": [],
   "source": [
    "top_tfs = agg.sort_values('diff', ascending=False)#.head(20)#.index.tolist()"
   ]
  },
  {
   "cell_type": "code",
   "execution_count": 16,
   "metadata": {},
   "outputs": [
    {
     "ename": "NameError",
     "evalue": "name 'top_tfs' is not defined",
     "output_type": "error",
     "traceback": [
      "\u001b[0;31m---------------------------------------------------------------------------\u001b[0m",
      "\u001b[0;31mNameError\u001b[0m                                 Traceback (most recent call last)",
      "\u001b[0;32m<ipython-input-16-ec2aa2a0917c>\u001b[0m in \u001b[0;36m<module>\u001b[0;34m\u001b[0m\n\u001b[0;32m----> 1\u001b[0;31m \u001b[0mtop_tfs\u001b[0m\u001b[0;34m.\u001b[0m\u001b[0mhead\u001b[0m\u001b[0;34m(\u001b[0m\u001b[0;36m20\u001b[0m\u001b[0;34m)\u001b[0m\u001b[0;34m\u001b[0m\u001b[0;34m\u001b[0m\u001b[0m\n\u001b[0m",
      "\u001b[0;31mNameError\u001b[0m: name 'top_tfs' is not defined"
     ]
    }
   ],
   "source": [
    "top_tfs.head(20)"
   ]
  },
  {
   "cell_type": "code",
   "execution_count": 21,
   "metadata": {},
   "outputs": [],
   "source": [
    "def get_2d_ht(ct, stim):\n",
    "    \n",
    "    adata_stim = adata.copy()[\n",
    "        adata.obs.cell_type.isin(ct) & \\\n",
    "        adata.obs.time.isin(['48', '3'])& \\\n",
    "        adata.obs.stim.isin(['control', stim])].copy()\n",
    "    time_converter={3:0, 48:1}\n",
    "    adata_stim.obs['time_step'] = adata_stim.obs['time'].astype(int).apply(lambda x: time_converter[x])\n",
    "\n",
    "    memento.create_groups(adata_stim, label_columns=['time_step', 'donor'])\n",
    "    memento.compute_1d_moments(adata_stim, min_perc_group=.9)\n",
    "    \n",
    "    available_tfs = list(set(top_tfs) & set(adata_stim.var.index))\n",
    "    available_genes = adata_stim.var.index.tolist()\n",
    "    available_isgs = list(set(available_genes) & set(t1_isg))\n",
    "    \n",
    "    memento.compute_2d_moments(adata_stim, list(itertools.product(available_tfs, available_isgs)))\n",
    "    \n",
    "    memento.ht_2d_moments( \n",
    "        adata_stim, \n",
    "        formula_like='1 + time_step',\n",
    "        treatment_col='time_step', \n",
    "        num_boot=10000, \n",
    "        approx=False,\n",
    "        resampling='permutation',\n",
    "        verbose=1,\n",
    "        num_cpus=92)\n",
    "    \n",
    "    \n",
    "    adata_stim.write(data_path + 'dc_48hr/{}_{}_isgs.h5ad'.format(ct[0], stim))"
   ]
  },
  {
   "cell_type": "code",
   "execution_count": 22,
   "metadata": {},
   "outputs": [
    {
     "name": "stderr",
     "output_type": "stream",
     "text": [
      "[Parallel(n_jobs=92)]: Using backend LokyBackend with 92 concurrent workers.\n",
      "[Parallel(n_jobs=92)]: Done  16 tasks      | elapsed:    6.0s\n",
      "[Parallel(n_jobs=92)]: Done 266 tasks      | elapsed:   16.2s\n",
      "[Parallel(n_jobs=92)]: Done 616 tasks      | elapsed:   38.0s\n",
      "[Parallel(n_jobs=92)]: Done 1066 tasks      | elapsed:   54.9s\n",
      "[Parallel(n_jobs=92)]: Done 1616 tasks      | elapsed:  1.2min\n",
      "[Parallel(n_jobs=92)]: Done 2266 tasks      | elapsed:  1.6min\n",
      "[Parallel(n_jobs=92)]: Done 3016 tasks      | elapsed:  2.1min\n",
      "[Parallel(n_jobs=92)]: Done 3392 out of 3392 | elapsed:  2.3min finished\n",
      "... storing 'memento_group' as categorical\n"
     ]
    }
   ],
   "source": [
    "alpha_ht_df = get_2d_ht(['ciliated'], 'alpha')"
   ]
  },
  {
   "cell_type": "code",
   "execution_count": null,
   "metadata": {},
   "outputs": [],
   "source": [
    "beta_ht_df = get_2d_ht(['ciliated'], 'beta')"
   ]
  },
  {
   "cell_type": "code",
   "execution_count": null,
   "metadata": {},
   "outputs": [],
   "source": [
    "get_2d_ht(['ciliated'], 'gamma')"
   ]
  },
  {
   "cell_type": "markdown",
   "metadata": {},
   "source": [
    "### Perform DC for all TFs considered"
   ]
  },
  {
   "cell_type": "code",
   "execution_count": 24,
   "metadata": {},
   "outputs": [],
   "source": [
    "def get_2d_ht_all(ct, stim):\n",
    "    \n",
    "    adata_stim = adata.copy()[\n",
    "        adata.obs.cell_type.isin(ct) & \\\n",
    "        adata.obs.time.isin(['0', '6']) & \\\n",
    "        adata.obs.stim.isin(['control', stim])].copy()\n",
    "    time_converter={0:0, int('6'):1}\n",
    "    adata_stim.obs['time_step'] = adata_stim.obs['time'].astype(int).apply(lambda x: time_converter[x])\n",
    "\n",
    "    memento.create_groups(adata_stim, label_columns=['time', 'donor'])\n",
    "    memento.compute_1d_moments(adata_stim, min_perc_group=.9)\n",
    "    moment_1d_df = memento.get_1d_moments(adata_stim, groupby='time')\n",
    "    \n",
    "    available_tfs = list(set(filtered_tfs) & set(moment_1d_df[0].gene))\n",
    "    \n",
    "    memento.compute_2d_moments(adata_stim, list(itertools.product(available_tfs, adata_stim.var.index)))\n",
    "    \n",
    "    moment_df = memento.get_2d_moments(adata_stim, groupby='time')\n",
    "    \n",
    "    candidates = moment_df.query('time_0 > 0.35 | time_6 > 0.35')\n",
    "    candidates = list(zip(candidates['gene_1'], candidates['gene_2']))\n",
    "    \n",
    "    adata_stim = adata.copy()[\n",
    "        adata.obs.cell_type.isin(ct) & \\\n",
    "        adata.obs.time.isin(['0', '6']) & \\\n",
    "        adata.obs.stim.isin(['control', stim])].copy()\n",
    "    \n",
    "    adata_stim.obs['time_step'] = adata_stim.obs['time'].astype(int).apply(lambda x: time_converter[x])\n",
    "\n",
    "    memento.create_groups(adata_stim, label_columns=['time_step', 'donor'])\n",
    "    memento.compute_1d_moments(adata_stim, min_perc_group=.9)\n",
    "    memento.compute_2d_moments(adata_stim, candidates)\n",
    "    \n",
    "    memento.ht_2d_moments( \n",
    "        adata_stim, \n",
    "        formula_like='1 + time_step',\n",
    "        cov_column='time_step', \n",
    "        num_boot=10000, \n",
    "        verbose=1,\n",
    "        num_cpus=13)\n",
    "    \n",
    "    \n",
    "    ht_df = memento.get_2d_ht_result(adata_stim)\n",
    "    \n",
    "    return ht_df"
   ]
  },
  {
   "cell_type": "code",
   "execution_count": 25,
   "metadata": {},
   "outputs": [
    {
     "name": "stderr",
     "output_type": "stream",
     "text": [
      "/home/ssm-user/anaconda3/envs/single_cell/lib/python3.8/site-packages/pandas/core/arrays/categorical.py:2487: FutureWarning: The `inplace` parameter in pandas.Categorical.remove_unused_categories is deprecated and will be removed in a future version.\n",
      "  res = method(*args, **kwargs)\n",
      "/home/ssm-user/Github/scrna-parameter-estimation/dist/memento-0.0.5-py3.8.egg/memento/main.py:594: RuntimeWarning: invalid value encountered in true_divide\n",
      "  groupby_corr[key] /= groupby_corr_count[key]\n",
      "[Parallel(n_jobs=13)]: Using backend LokyBackend with 13 concurrent workers.\n",
      "[Parallel(n_jobs=13)]: Done  24 tasks      | elapsed:    3.9s\n",
      "[Parallel(n_jobs=13)]: Done 174 tasks      | elapsed:   12.1s\n",
      "[Parallel(n_jobs=13)]: Done 424 tasks      | elapsed:   25.4s\n",
      "[Parallel(n_jobs=13)]: Done 774 tasks      | elapsed:   43.7s\n",
      "[Parallel(n_jobs=13)]: Done 1224 tasks      | elapsed:  1.1min\n",
      "[Parallel(n_jobs=13)]: Done 1774 tasks      | elapsed:  1.6min\n",
      "[Parallel(n_jobs=13)]: Done 2424 tasks      | elapsed:  3.0min\n",
      "[Parallel(n_jobs=13)]: Done 3174 tasks      | elapsed:  4.1min\n",
      "[Parallel(n_jobs=13)]: Done 4024 tasks      | elapsed:  5.3min\n",
      "[Parallel(n_jobs=13)]: Done 4974 tasks      | elapsed:  6.5min\n",
      "[Parallel(n_jobs=13)]: Done 6024 tasks      | elapsed:  7.6min\n",
      "[Parallel(n_jobs=13)]: Done 7174 tasks      | elapsed:  8.8min\n",
      "[Parallel(n_jobs=13)]: Done 8424 tasks      | elapsed: 10.8min\n",
      "[Parallel(n_jobs=13)]: Done 9774 tasks      | elapsed: 13.1min\n",
      "[Parallel(n_jobs=13)]: Done 11224 tasks      | elapsed: 15.7min\n",
      "[Parallel(n_jobs=13)]: Done 12774 tasks      | elapsed: 18.0min\n",
      "[Parallel(n_jobs=13)]: Done 14424 tasks      | elapsed: 20.5min\n",
      "[Parallel(n_jobs=13)]: Done 16174 tasks      | elapsed: 23.9min\n",
      "[Parallel(n_jobs=13)]: Done 18024 tasks      | elapsed: 26.9min\n",
      "[Parallel(n_jobs=13)]: Done 19974 tasks      | elapsed: 28.7min\n",
      "[Parallel(n_jobs=13)]: Done 22024 tasks      | elapsed: 31.9min\n",
      "[Parallel(n_jobs=13)]: Done 24174 tasks      | elapsed: 35.0min\n",
      "[Parallel(n_jobs=13)]: Done 26424 tasks      | elapsed: 37.1min\n",
      "[Parallel(n_jobs=13)]: Done 28774 tasks      | elapsed: 39.1min\n",
      "[Parallel(n_jobs=13)]: Done 31224 tasks      | elapsed: 41.8min\n",
      "[Parallel(n_jobs=13)]: Done 33774 tasks      | elapsed: 44.8min\n",
      "[Parallel(n_jobs=13)]: Done 36424 tasks      | elapsed: 47.6min\n",
      "[Parallel(n_jobs=13)]: Done 39174 tasks      | elapsed: 52.4min\n",
      "[Parallel(n_jobs=13)]: Done 42024 tasks      | elapsed: 55.6min\n",
      "[Parallel(n_jobs=13)]: Done 44974 tasks      | elapsed: 59.7min\n",
      "[Parallel(n_jobs=13)]: Done 48024 tasks      | elapsed: 63.0min\n",
      "[Parallel(n_jobs=13)]: Done 51174 tasks      | elapsed: 66.8min\n",
      "[Parallel(n_jobs=13)]: Done 54424 tasks      | elapsed: 70.4min\n",
      "[Parallel(n_jobs=13)]: Done 57774 tasks      | elapsed: 74.8min\n",
      "[Parallel(n_jobs=13)]: Done 61224 tasks      | elapsed: 78.7min\n",
      "[Parallel(n_jobs=13)]: Done 64774 tasks      | elapsed: 83.4min\n",
      "[Parallel(n_jobs=13)]: Done 68424 tasks      | elapsed: 88.2min\n",
      "[Parallel(n_jobs=13)]: Done 72174 tasks      | elapsed: 93.4min\n",
      "[Parallel(n_jobs=13)]: Done 76024 tasks      | elapsed: 98.7min\n",
      "[Parallel(n_jobs=13)]: Done 79974 tasks      | elapsed: 102.7min\n",
      "[Parallel(n_jobs=13)]: Done 84024 tasks      | elapsed: 106.9min\n",
      "[Parallel(n_jobs=13)]: Done 88174 tasks      | elapsed: 110.9min\n",
      "[Parallel(n_jobs=13)]: Done 90660 out of 90660 | elapsed: 114.0min finished\n"
     ]
    }
   ],
   "source": [
    "beta_df = get_2d_ht_all(['ciliated'], 'beta')"
   ]
  },
  {
   "cell_type": "code",
   "execution_count": 26,
   "metadata": {},
   "outputs": [],
   "source": [
    "beta_ht_df.to_csv(data_path + 'beta_dc_result_20210504.csv', index=False)"
   ]
  },
  {
   "cell_type": "markdown",
   "metadata": {},
   "source": [
    "### Compute correlations between ISGs"
   ]
  },
  {
   "cell_type": "code",
   "execution_count": 17,
   "metadata": {},
   "outputs": [],
   "source": [
    "igs = ['ISG15', 'IFIT1', 'IFIT2', 'IFIT3', 'MX1', 'MX2', 'OASL']"
   ]
  },
  {
   "cell_type": "code",
   "execution_count": 19,
   "metadata": {},
   "outputs": [],
   "source": [
    "# tf = 'STAT1'\n",
    "# ct = ['ciliated']\n",
    "# stim = 'beta'\n",
    "\n",
    "def get_2d_moments_isg(tf, ct, stim):\n",
    "    \n",
    "    adata_stim = adata.copy()[\n",
    "        adata.obs.cell_type.isin(ct) & \\\n",
    "        adata.obs.stim.isin(['control', stim])].copy()\n",
    "    # time_converter={0:0, int(tp):1}\n",
    "    # adata_stim.obs['time_step'] = adata_stim.obs['time'].astype(int).apply(lambda x: time_converter[x])\n",
    "\n",
    "    memento.create_groups(adata_stim, label_columns=['time', 'donor'])\n",
    "    memento.compute_1d_moments(adata_stim, min_perc_group=.9)\n",
    "    moment_1d_df = memento.get_1d_moments(adata_stim, groupby='time')\n",
    "\n",
    "    memento.compute_2d_moments(adata_stim, list(itertools.combinations(igs, 2)))\n",
    "\n",
    "    moment_df = memento.get_2d_moments(adata_stim, groupby='time')\n",
    "    \n",
    "    return moment_df"
   ]
  },
  {
   "cell_type": "code",
   "execution_count": 20,
   "metadata": {},
   "outputs": [
    {
     "name": "stderr",
     "output_type": "stream",
     "text": [
      "/data/home/Github/scrna-parameter-estimation/dist/memento-0.0.5-py3.7.egg/memento/estimator.py:100: RuntimeWarning: invalid value encountered in log\n"
     ]
    }
   ],
   "source": [
    "beta_isg_df = get_2d_moments_isg('STAT1', ['ciliated'], 'beta')"
   ]
  },
  {
   "cell_type": "code",
   "execution_count": 22,
   "metadata": {},
   "outputs": [
    {
     "data": {
      "text/html": [
       "<div>\n",
       "<style scoped>\n",
       "    .dataframe tbody tr th:only-of-type {\n",
       "        vertical-align: middle;\n",
       "    }\n",
       "\n",
       "    .dataframe tbody tr th {\n",
       "        vertical-align: top;\n",
       "    }\n",
       "\n",
       "    .dataframe thead th {\n",
       "        text-align: right;\n",
       "    }\n",
       "</style>\n",
       "<table border=\"1\" class=\"dataframe\">\n",
       "  <thead>\n",
       "    <tr style=\"text-align: right;\">\n",
       "      <th></th>\n",
       "      <th>gene_1</th>\n",
       "      <th>gene_2</th>\n",
       "      <th>time_0</th>\n",
       "      <th>time_3</th>\n",
       "      <th>time_6</th>\n",
       "      <th>time_9</th>\n",
       "      <th>time_24</th>\n",
       "      <th>time_48</th>\n",
       "    </tr>\n",
       "  </thead>\n",
       "  <tbody>\n",
       "    <tr>\n",
       "      <th>0</th>\n",
       "      <td>ISG15</td>\n",
       "      <td>IFIT1</td>\n",
       "      <td>0.912525</td>\n",
       "      <td>0.859475</td>\n",
       "      <td>0.860717</td>\n",
       "      <td>0.894880</td>\n",
       "      <td>0.849657</td>\n",
       "      <td>0.824642</td>\n",
       "    </tr>\n",
       "    <tr>\n",
       "      <th>1</th>\n",
       "      <td>ISG15</td>\n",
       "      <td>IFIT2</td>\n",
       "      <td>0.709213</td>\n",
       "      <td>0.766188</td>\n",
       "      <td>0.748801</td>\n",
       "      <td>0.839606</td>\n",
       "      <td>0.855540</td>\n",
       "      <td>0.743067</td>\n",
       "    </tr>\n",
       "    <tr>\n",
       "      <th>2</th>\n",
       "      <td>ISG15</td>\n",
       "      <td>IFIT3</td>\n",
       "      <td>0.738290</td>\n",
       "      <td>0.768141</td>\n",
       "      <td>0.814666</td>\n",
       "      <td>0.828783</td>\n",
       "      <td>0.823922</td>\n",
       "      <td>0.729833</td>\n",
       "    </tr>\n",
       "    <tr>\n",
       "      <th>3</th>\n",
       "      <td>ISG15</td>\n",
       "      <td>MX1</td>\n",
       "      <td>0.819765</td>\n",
       "      <td>0.814883</td>\n",
       "      <td>0.833459</td>\n",
       "      <td>0.875096</td>\n",
       "      <td>0.857120</td>\n",
       "      <td>0.787441</td>\n",
       "    </tr>\n",
       "    <tr>\n",
       "      <th>4</th>\n",
       "      <td>ISG15</td>\n",
       "      <td>MX2</td>\n",
       "      <td>0.731378</td>\n",
       "      <td>0.700568</td>\n",
       "      <td>0.671598</td>\n",
       "      <td>0.814559</td>\n",
       "      <td>0.801095</td>\n",
       "      <td>0.747115</td>\n",
       "    </tr>\n",
       "    <tr>\n",
       "      <th>5</th>\n",
       "      <td>ISG15</td>\n",
       "      <td>OASL</td>\n",
       "      <td>0.702671</td>\n",
       "      <td>0.723763</td>\n",
       "      <td>0.680118</td>\n",
       "      <td>0.818876</td>\n",
       "      <td>0.741394</td>\n",
       "      <td>0.795438</td>\n",
       "    </tr>\n",
       "    <tr>\n",
       "      <th>6</th>\n",
       "      <td>IFIT1</td>\n",
       "      <td>IFIT2</td>\n",
       "      <td>0.627455</td>\n",
       "      <td>0.830298</td>\n",
       "      <td>0.807820</td>\n",
       "      <td>0.860115</td>\n",
       "      <td>0.852993</td>\n",
       "      <td>0.865924</td>\n",
       "    </tr>\n",
       "    <tr>\n",
       "      <th>7</th>\n",
       "      <td>IFIT1</td>\n",
       "      <td>IFIT3</td>\n",
       "      <td>0.802160</td>\n",
       "      <td>0.856047</td>\n",
       "      <td>0.889002</td>\n",
       "      <td>0.881489</td>\n",
       "      <td>0.884011</td>\n",
       "      <td>0.875954</td>\n",
       "    </tr>\n",
       "    <tr>\n",
       "      <th>8</th>\n",
       "      <td>IFIT1</td>\n",
       "      <td>MX1</td>\n",
       "      <td>0.970948</td>\n",
       "      <td>0.821224</td>\n",
       "      <td>0.825487</td>\n",
       "      <td>0.831096</td>\n",
       "      <td>0.733519</td>\n",
       "      <td>0.771687</td>\n",
       "    </tr>\n",
       "    <tr>\n",
       "      <th>9</th>\n",
       "      <td>IFIT1</td>\n",
       "      <td>MX2</td>\n",
       "      <td>0.690637</td>\n",
       "      <td>0.677439</td>\n",
       "      <td>0.632088</td>\n",
       "      <td>0.792340</td>\n",
       "      <td>0.712742</td>\n",
       "      <td>0.747235</td>\n",
       "    </tr>\n",
       "    <tr>\n",
       "      <th>10</th>\n",
       "      <td>IFIT1</td>\n",
       "      <td>OASL</td>\n",
       "      <td>0.628502</td>\n",
       "      <td>0.752242</td>\n",
       "      <td>0.695485</td>\n",
       "      <td>0.804211</td>\n",
       "      <td>0.768171</td>\n",
       "      <td>0.826975</td>\n",
       "    </tr>\n",
       "    <tr>\n",
       "      <th>11</th>\n",
       "      <td>IFIT2</td>\n",
       "      <td>IFIT3</td>\n",
       "      <td>0.696193</td>\n",
       "      <td>0.837954</td>\n",
       "      <td>0.829943</td>\n",
       "      <td>0.836865</td>\n",
       "      <td>0.830478</td>\n",
       "      <td>0.862385</td>\n",
       "    </tr>\n",
       "    <tr>\n",
       "      <th>12</th>\n",
       "      <td>IFIT2</td>\n",
       "      <td>MX1</td>\n",
       "      <td>0.515990</td>\n",
       "      <td>0.698023</td>\n",
       "      <td>0.703704</td>\n",
       "      <td>0.812500</td>\n",
       "      <td>0.746478</td>\n",
       "      <td>0.668681</td>\n",
       "    </tr>\n",
       "    <tr>\n",
       "      <th>13</th>\n",
       "      <td>IFIT2</td>\n",
       "      <td>MX2</td>\n",
       "      <td>0.513598</td>\n",
       "      <td>0.652613</td>\n",
       "      <td>0.645119</td>\n",
       "      <td>0.779230</td>\n",
       "      <td>0.759103</td>\n",
       "      <td>0.751041</td>\n",
       "    </tr>\n",
       "    <tr>\n",
       "      <th>14</th>\n",
       "      <td>IFIT2</td>\n",
       "      <td>OASL</td>\n",
       "      <td>0.795051</td>\n",
       "      <td>0.748258</td>\n",
       "      <td>0.731663</td>\n",
       "      <td>0.789200</td>\n",
       "      <td>0.774611</td>\n",
       "      <td>0.736705</td>\n",
       "    </tr>\n",
       "    <tr>\n",
       "      <th>15</th>\n",
       "      <td>IFIT3</td>\n",
       "      <td>MX1</td>\n",
       "      <td>0.734473</td>\n",
       "      <td>0.763209</td>\n",
       "      <td>0.800982</td>\n",
       "      <td>0.858110</td>\n",
       "      <td>0.766818</td>\n",
       "      <td>0.706254</td>\n",
       "    </tr>\n",
       "    <tr>\n",
       "      <th>16</th>\n",
       "      <td>IFIT3</td>\n",
       "      <td>MX2</td>\n",
       "      <td>0.608246</td>\n",
       "      <td>0.640650</td>\n",
       "      <td>0.621902</td>\n",
       "      <td>0.759888</td>\n",
       "      <td>0.721426</td>\n",
       "      <td>0.706908</td>\n",
       "    </tr>\n",
       "    <tr>\n",
       "      <th>17</th>\n",
       "      <td>IFIT3</td>\n",
       "      <td>OASL</td>\n",
       "      <td>0.860601</td>\n",
       "      <td>0.779452</td>\n",
       "      <td>0.727524</td>\n",
       "      <td>0.749129</td>\n",
       "      <td>0.743811</td>\n",
       "      <td>0.757626</td>\n",
       "    </tr>\n",
       "    <tr>\n",
       "      <th>18</th>\n",
       "      <td>MX1</td>\n",
       "      <td>MX2</td>\n",
       "      <td>0.773256</td>\n",
       "      <td>0.772469</td>\n",
       "      <td>0.758207</td>\n",
       "      <td>0.873694</td>\n",
       "      <td>0.813110</td>\n",
       "      <td>0.811610</td>\n",
       "    </tr>\n",
       "    <tr>\n",
       "      <th>19</th>\n",
       "      <td>MX1</td>\n",
       "      <td>OASL</td>\n",
       "      <td>0.564422</td>\n",
       "      <td>0.660583</td>\n",
       "      <td>0.565555</td>\n",
       "      <td>0.714459</td>\n",
       "      <td>0.625665</td>\n",
       "      <td>0.796824</td>\n",
       "    </tr>\n",
       "    <tr>\n",
       "      <th>20</th>\n",
       "      <td>MX2</td>\n",
       "      <td>OASL</td>\n",
       "      <td>0.586160</td>\n",
       "      <td>0.629847</td>\n",
       "      <td>0.505000</td>\n",
       "      <td>0.756339</td>\n",
       "      <td>0.654254</td>\n",
       "      <td>0.744816</td>\n",
       "    </tr>\n",
       "  </tbody>\n",
       "</table>\n",
       "</div>"
      ],
      "text/plain": [
       "   gene_1 gene_2    time_0    time_3    time_6    time_9   time_24   time_48\n",
       "0   ISG15  IFIT1  0.912525  0.859475  0.860717  0.894880  0.849657  0.824642\n",
       "1   ISG15  IFIT2  0.709213  0.766188  0.748801  0.839606  0.855540  0.743067\n",
       "2   ISG15  IFIT3  0.738290  0.768141  0.814666  0.828783  0.823922  0.729833\n",
       "3   ISG15    MX1  0.819765  0.814883  0.833459  0.875096  0.857120  0.787441\n",
       "4   ISG15    MX2  0.731378  0.700568  0.671598  0.814559  0.801095  0.747115\n",
       "5   ISG15   OASL  0.702671  0.723763  0.680118  0.818876  0.741394  0.795438\n",
       "6   IFIT1  IFIT2  0.627455  0.830298  0.807820  0.860115  0.852993  0.865924\n",
       "7   IFIT1  IFIT3  0.802160  0.856047  0.889002  0.881489  0.884011  0.875954\n",
       "8   IFIT1    MX1  0.970948  0.821224  0.825487  0.831096  0.733519  0.771687\n",
       "9   IFIT1    MX2  0.690637  0.677439  0.632088  0.792340  0.712742  0.747235\n",
       "10  IFIT1   OASL  0.628502  0.752242  0.695485  0.804211  0.768171  0.826975\n",
       "11  IFIT2  IFIT3  0.696193  0.837954  0.829943  0.836865  0.830478  0.862385\n",
       "12  IFIT2    MX1  0.515990  0.698023  0.703704  0.812500  0.746478  0.668681\n",
       "13  IFIT2    MX2  0.513598  0.652613  0.645119  0.779230  0.759103  0.751041\n",
       "14  IFIT2   OASL  0.795051  0.748258  0.731663  0.789200  0.774611  0.736705\n",
       "15  IFIT3    MX1  0.734473  0.763209  0.800982  0.858110  0.766818  0.706254\n",
       "16  IFIT3    MX2  0.608246  0.640650  0.621902  0.759888  0.721426  0.706908\n",
       "17  IFIT3   OASL  0.860601  0.779452  0.727524  0.749129  0.743811  0.757626\n",
       "18    MX1    MX2  0.773256  0.772469  0.758207  0.873694  0.813110  0.811610\n",
       "19    MX1   OASL  0.564422  0.660583  0.565555  0.714459  0.625665  0.796824\n",
       "20    MX2   OASL  0.586160  0.629847  0.505000  0.756339  0.654254  0.744816"
      ]
     },
     "execution_count": 22,
     "metadata": {},
     "output_type": "execute_result"
    }
   ],
   "source": [
    "beta_isg_df[['gene_1', 'gene_2'] + ['time_' + str(i) for i in [0, 3, 6, 9, 24, 48]]]"
   ]
  },
  {
   "cell_type": "markdown",
   "metadata": {},
   "source": [
    "### Compute correlations for STAT1"
   ]
  },
  {
   "cell_type": "code",
   "execution_count": 15,
   "metadata": {},
   "outputs": [],
   "source": [
    "tf = 'STAT1'\n",
    "ct = ['ciliated']\n",
    "stim = 'beta'\n",
    "\n",
    "def get_2d_moments(tf, ct, stim):\n",
    "    \n",
    "    adata_stim = adata.copy()[\n",
    "        adata.obs.cell_type.isin(ct) & \\\n",
    "        adata.obs.stim.isin(['control', stim])].copy()\n",
    "    # time_converter={0:0, int(tp):1}\n",
    "    # adata_stim.obs['time_step'] = adata_stim.obs['time'].astype(int).apply(lambda x: time_converter[x])\n",
    "\n",
    "    memento.create_groups(adata_stim, label_columns=['time', 'donor'])\n",
    "    memento.compute_1d_moments(adata_stim, min_perc_group=.9)\n",
    "    moment_1d_df = memento.get_1d_moments(adata_stim, groupby='time')\n",
    "\n",
    "    memento.compute_2d_moments(adata_stim, list(itertools.product([tf], adata_stim.var.index)))\n",
    "\n",
    "    moment_df = memento.get_2d_moments(adata_stim, groupby='time')\n",
    "    \n",
    "#     memento.ht_2d_moments( \n",
    "#         adata_stim, \n",
    "#         formula_like='1 + time_step',\n",
    "#         cov_column='time_step', \n",
    "#         num_boot=10000, \n",
    "#         verbose=1,\n",
    "#         num_cpus=13)\n",
    "    \n",
    "#     ht_df = memento.get_2d_ht_result(adata_stim)\n",
    "    \n",
    "    return moment_df"
   ]
  },
  {
   "cell_type": "code",
   "execution_count": 16,
   "metadata": {},
   "outputs": [
    {
     "name": "stderr",
     "output_type": "stream",
     "text": [
      "/data/home/Github/scrna-parameter-estimation/dist/memento-0.0.4-py3.7.egg/memento/estimator.py:100: RuntimeWarning: invalid value encountered in log\n",
      "/data/home/Github/scrna-parameter-estimation/dist/memento-0.0.4-py3.7.egg/memento/main.py:578: RuntimeWarning: invalid value encountered in true_divide\n",
      "/data/home/anaconda3/envs/single_cell/lib/python3.7/site-packages/ipykernel_launcher.py:8: FutureWarning: Sorting because non-concatenation axis is not aligned. A future version\n",
      "of pandas will change to not sort by default.\n",
      "\n",
      "To accept the future behavior, pass 'sort=False'.\n",
      "\n",
      "To retain the current behavior and silence the warning, pass 'sort=True'.\n",
      "\n",
      "  \n"
     ]
    }
   ],
   "source": [
    "beta_df = get_2d_moments('STAT1', ['ciliated'], 'beta')\n",
    "alpha_df = get_2d_moments('STAT1', ['ciliated'], 'alpha')\n",
    "gamma_df = get_2d_moments('STAT1', ['ciliated'], 'gamma')\n",
    "lambda_df = get_2d_moments('STAT1', ['ciliated'], 'lambda')\n",
    "\n",
    "beta_df['stim'] = 'beta'\n",
    "alpha_df['stim'] = 'alpha'\n",
    "df = pd.concat([alpha_df, beta_df])"
   ]
  },
  {
   "cell_type": "code",
   "execution_count": 19,
   "metadata": {},
   "outputs": [],
   "source": [
    "beta_df['isgf3'] = beta_df.gene_2.apply(lambda x: 'in TSS' if x in isgf3_genes else 'rest')"
   ]
  },
  {
   "cell_type": "markdown",
   "metadata": {},
   "source": [
    "### ISGF3 correlations for alpha/beta interferon"
   ]
  },
  {
   "cell_type": "code",
   "execution_count": 32,
   "metadata": {},
   "outputs": [
    {
     "data": {
      "text/html": [
       "<div>\n",
       "<style scoped>\n",
       "    .dataframe tbody tr th:only-of-type {\n",
       "        vertical-align: middle;\n",
       "    }\n",
       "\n",
       "    .dataframe tbody tr th {\n",
       "        vertical-align: top;\n",
       "    }\n",
       "\n",
       "    .dataframe thead th {\n",
       "        text-align: right;\n",
       "    }\n",
       "</style>\n",
       "<table border=\"1\" class=\"dataframe\">\n",
       "  <thead>\n",
       "    <tr style=\"text-align: right;\">\n",
       "      <th></th>\n",
       "      <th>gene_1</th>\n",
       "      <th>gene_2</th>\n",
       "      <th>time_9</th>\n",
       "      <th>time_3</th>\n",
       "      <th>time_0</th>\n",
       "      <th>time_6</th>\n",
       "      <th>time_48</th>\n",
       "      <th>time_24</th>\n",
       "      <th>stim</th>\n",
       "      <th>isgf3</th>\n",
       "    </tr>\n",
       "  </thead>\n",
       "  <tbody>\n",
       "    <tr>\n",
       "      <th>0</th>\n",
       "      <td>STAT1</td>\n",
       "      <td>LINC01409</td>\n",
       "      <td>-0.175255</td>\n",
       "      <td>0.022280</td>\n",
       "      <td>0.389398</td>\n",
       "      <td>0.091183</td>\n",
       "      <td>-0.208910</td>\n",
       "      <td>-0.145140</td>\n",
       "      <td>beta</td>\n",
       "      <td>rest</td>\n",
       "    </tr>\n",
       "    <tr>\n",
       "      <th>1</th>\n",
       "      <td>STAT1</td>\n",
       "      <td>NOC2L</td>\n",
       "      <td>-0.070694</td>\n",
       "      <td>0.070377</td>\n",
       "      <td>0.127526</td>\n",
       "      <td>0.105913</td>\n",
       "      <td>-0.018320</td>\n",
       "      <td>-0.201853</td>\n",
       "      <td>beta</td>\n",
       "      <td>rest</td>\n",
       "    </tr>\n",
       "    <tr>\n",
       "      <th>2</th>\n",
       "      <td>STAT1</td>\n",
       "      <td>HES4</td>\n",
       "      <td>0.433971</td>\n",
       "      <td>0.389929</td>\n",
       "      <td>0.139460</td>\n",
       "      <td>0.436864</td>\n",
       "      <td>0.531960</td>\n",
       "      <td>0.601891</td>\n",
       "      <td>beta</td>\n",
       "      <td>rest</td>\n",
       "    </tr>\n",
       "    <tr>\n",
       "      <th>3</th>\n",
       "      <td>STAT1</td>\n",
       "      <td>ISG15</td>\n",
       "      <td>0.756565</td>\n",
       "      <td>0.751469</td>\n",
       "      <td>0.712075</td>\n",
       "      <td>0.702480</td>\n",
       "      <td>0.766635</td>\n",
       "      <td>0.835480</td>\n",
       "      <td>beta</td>\n",
       "      <td>in TSS</td>\n",
       "    </tr>\n",
       "    <tr>\n",
       "      <th>4</th>\n",
       "      <td>STAT1</td>\n",
       "      <td>AGRN</td>\n",
       "      <td>0.447522</td>\n",
       "      <td>0.238193</td>\n",
       "      <td>0.227282</td>\n",
       "      <td>0.222979</td>\n",
       "      <td>0.311116</td>\n",
       "      <td>0.186166</td>\n",
       "      <td>beta</td>\n",
       "      <td>rest</td>\n",
       "    </tr>\n",
       "  </tbody>\n",
       "</table>\n",
       "</div>"
      ],
      "text/plain": [
       "  gene_1     gene_2    time_9    time_3    time_0    time_6   time_48  \\\n",
       "0  STAT1  LINC01409 -0.175255  0.022280  0.389398  0.091183 -0.208910   \n",
       "1  STAT1      NOC2L -0.070694  0.070377  0.127526  0.105913 -0.018320   \n",
       "2  STAT1       HES4  0.433971  0.389929  0.139460  0.436864  0.531960   \n",
       "3  STAT1      ISG15  0.756565  0.751469  0.712075  0.702480  0.766635   \n",
       "4  STAT1       AGRN  0.447522  0.238193  0.227282  0.222979  0.311116   \n",
       "\n",
       "    time_24  stim   isgf3  \n",
       "0 -0.145140  beta    rest  \n",
       "1 -0.201853  beta    rest  \n",
       "2  0.601891  beta    rest  \n",
       "3  0.835480  beta  in TSS  \n",
       "4  0.186166  beta    rest  "
      ]
     },
     "execution_count": 32,
     "metadata": {},
     "output_type": "execute_result"
    }
   ],
   "source": [
    "beta_df.head(5)"
   ]
  },
  {
   "cell_type": "code",
   "execution_count": 33,
   "metadata": {},
   "outputs": [
    {
     "data": {
      "text/html": [
       "<div>\n",
       "<style scoped>\n",
       "    .dataframe tbody tr th:only-of-type {\n",
       "        vertical-align: middle;\n",
       "    }\n",
       "\n",
       "    .dataframe tbody tr th {\n",
       "        vertical-align: top;\n",
       "    }\n",
       "\n",
       "    .dataframe thead th {\n",
       "        text-align: right;\n",
       "    }\n",
       "</style>\n",
       "<table border=\"1\" class=\"dataframe\">\n",
       "  <thead>\n",
       "    <tr style=\"text-align: right;\">\n",
       "      <th></th>\n",
       "      <th>gene_1</th>\n",
       "      <th>gene_2</th>\n",
       "      <th>time_9</th>\n",
       "      <th>time_3</th>\n",
       "      <th>time_0</th>\n",
       "      <th>time_48</th>\n",
       "      <th>time_6</th>\n",
       "      <th>time_24</th>\n",
       "      <th>stim</th>\n",
       "    </tr>\n",
       "  </thead>\n",
       "  <tbody>\n",
       "    <tr>\n",
       "      <th>0</th>\n",
       "      <td>STAT1</td>\n",
       "      <td>LINC01409</td>\n",
       "      <td>0.058433</td>\n",
       "      <td>0.172438</td>\n",
       "      <td>0.389398</td>\n",
       "      <td>0.078051</td>\n",
       "      <td>0.003680</td>\n",
       "      <td>0.365823</td>\n",
       "      <td>alpha</td>\n",
       "    </tr>\n",
       "    <tr>\n",
       "      <th>1</th>\n",
       "      <td>STAT1</td>\n",
       "      <td>NOC2L</td>\n",
       "      <td>-0.029808</td>\n",
       "      <td>0.189881</td>\n",
       "      <td>0.127526</td>\n",
       "      <td>0.249579</td>\n",
       "      <td>0.348690</td>\n",
       "      <td>-0.052135</td>\n",
       "      <td>alpha</td>\n",
       "    </tr>\n",
       "    <tr>\n",
       "      <th>2</th>\n",
       "      <td>STAT1</td>\n",
       "      <td>HES4</td>\n",
       "      <td>0.438277</td>\n",
       "      <td>0.379277</td>\n",
       "      <td>0.139460</td>\n",
       "      <td>0.363275</td>\n",
       "      <td>0.388632</td>\n",
       "      <td>0.525524</td>\n",
       "      <td>alpha</td>\n",
       "    </tr>\n",
       "    <tr>\n",
       "      <th>3</th>\n",
       "      <td>STAT1</td>\n",
       "      <td>ISG15</td>\n",
       "      <td>0.695766</td>\n",
       "      <td>0.733140</td>\n",
       "      <td>0.712075</td>\n",
       "      <td>0.699458</td>\n",
       "      <td>0.661231</td>\n",
       "      <td>0.768229</td>\n",
       "      <td>alpha</td>\n",
       "    </tr>\n",
       "    <tr>\n",
       "      <th>4</th>\n",
       "      <td>STAT1</td>\n",
       "      <td>AGRN</td>\n",
       "      <td>0.204388</td>\n",
       "      <td>0.225468</td>\n",
       "      <td>0.227282</td>\n",
       "      <td>0.297670</td>\n",
       "      <td>0.132081</td>\n",
       "      <td>0.174836</td>\n",
       "      <td>alpha</td>\n",
       "    </tr>\n",
       "  </tbody>\n",
       "</table>\n",
       "</div>"
      ],
      "text/plain": [
       "  gene_1     gene_2    time_9    time_3    time_0   time_48    time_6  \\\n",
       "0  STAT1  LINC01409  0.058433  0.172438  0.389398  0.078051  0.003680   \n",
       "1  STAT1      NOC2L -0.029808  0.189881  0.127526  0.249579  0.348690   \n",
       "2  STAT1       HES4  0.438277  0.379277  0.139460  0.363275  0.388632   \n",
       "3  STAT1      ISG15  0.695766  0.733140  0.712075  0.699458  0.661231   \n",
       "4  STAT1       AGRN  0.204388  0.225468  0.227282  0.297670  0.132081   \n",
       "\n",
       "    time_24   stim  \n",
       "0  0.365823  alpha  \n",
       "1 -0.052135  alpha  \n",
       "2  0.525524  alpha  \n",
       "3  0.768229  alpha  \n",
       "4  0.174836  alpha  "
      ]
     },
     "execution_count": 33,
     "metadata": {},
     "output_type": "execute_result"
    }
   ],
   "source": [
    "alpha_df.head(5)"
   ]
  },
  {
   "cell_type": "code",
   "execution_count": 28,
   "metadata": {},
   "outputs": [],
   "source": [
    "a =  beta_df[['gene_2', 'time_0']].rename(columns={'gene_2':'gene', 'time_0':'corr'})\n",
    "b =  beta_df[['gene_2', 'time_6']].rename(columns={'gene_2':'gene', 'time_6':'corr'})\n",
    "\n",
    "a['time'] = 'ctrl'\n",
    "b['time'] = 'stim'\n",
    "beta_long_df = pd.concat([a, b])\n",
    "\n",
    "beta_long_df['isgf3'] = beta_long_df.gene.apply(lambda x: 'in TSS' if x in isgf3_genes else 'rest')"
   ]
  },
  {
   "cell_type": "code",
   "execution_count": 29,
   "metadata": {},
   "outputs": [],
   "source": [
    "a =  alpha_df[['gene_2', 'time_0']].rename(columns={'gene_2':'gene', 'time_0':'corr'})\n",
    "b =  alpha_df[['gene_2', 'time_6']].rename(columns={'gene_2':'gene', 'time_6':'corr'})\n",
    "\n",
    "a['time'] = 'ctrl'\n",
    "b['time'] = 'stim'\n",
    "alpha_long_df = pd.concat([a, b])\n",
    "\n",
    "alpha_long_df['isgf3'] = alpha_long_df.gene.apply(lambda x: 'in TSS' if x in isgf3_genes else 'rest')"
   ]
  },
  {
   "cell_type": "code",
   "execution_count": 22,
   "metadata": {},
   "outputs": [],
   "source": [
    "import matplotlib.pylab as pylab\n",
    "params = {'legend.fontsize': 'medium',\n",
    "         'axes.labelsize': 'medium',\n",
    "         'axes.titlesize':'medium',\n",
    "         'figure.titlesize':'medium',\n",
    "         'xtick.labelsize':'small',\n",
    "         'ytick.labelsize':'small'}\n",
    "pylab.rcParams.update(params)\n"
   ]
  },
  {
   "cell_type": "code",
   "execution_count": 42,
   "metadata": {},
   "outputs": [],
   "source": [
    "pbmc_data_path = '/data_volume/parameter_estimation/'\n",
    "pbmc_long_df = pd.read_csv(pbmc_data_path + 'stat1_corrs.csv').rename(columns={'stim':'time'})"
   ]
  },
  {
   "cell_type": "code",
   "execution_count": 43,
   "metadata": {},
   "outputs": [
    {
     "data": {
      "text/html": [
       "<div>\n",
       "<style scoped>\n",
       "    .dataframe tbody tr th:only-of-type {\n",
       "        vertical-align: middle;\n",
       "    }\n",
       "\n",
       "    .dataframe tbody tr th {\n",
       "        vertical-align: top;\n",
       "    }\n",
       "\n",
       "    .dataframe thead th {\n",
       "        text-align: right;\n",
       "    }\n",
       "</style>\n",
       "<table border=\"1\" class=\"dataframe\">\n",
       "  <thead>\n",
       "    <tr style=\"text-align: right;\">\n",
       "      <th></th>\n",
       "      <th>gene</th>\n",
       "      <th>corr</th>\n",
       "      <th>time</th>\n",
       "      <th>isgf3</th>\n",
       "      <th>high_exp</th>\n",
       "    </tr>\n",
       "  </thead>\n",
       "  <tbody>\n",
       "    <tr>\n",
       "      <th>0</th>\n",
       "      <td>ISG15</td>\n",
       "      <td>0.057578</td>\n",
       "      <td>ctrl</td>\n",
       "      <td>ISGF3</td>\n",
       "      <td>True</td>\n",
       "    </tr>\n",
       "    <tr>\n",
       "      <th>1</th>\n",
       "      <td>AURKAIP1</td>\n",
       "      <td>0.128053</td>\n",
       "      <td>ctrl</td>\n",
       "      <td>rest</td>\n",
       "      <td>True</td>\n",
       "    </tr>\n",
       "    <tr>\n",
       "      <th>2</th>\n",
       "      <td>MRPL20</td>\n",
       "      <td>-0.059311</td>\n",
       "      <td>ctrl</td>\n",
       "      <td>rest</td>\n",
       "      <td>True</td>\n",
       "    </tr>\n",
       "    <tr>\n",
       "      <th>3</th>\n",
       "      <td>SSU72</td>\n",
       "      <td>-0.078957</td>\n",
       "      <td>ctrl</td>\n",
       "      <td>ISGF3</td>\n",
       "      <td>True</td>\n",
       "    </tr>\n",
       "    <tr>\n",
       "      <th>4</th>\n",
       "      <td>GNB1</td>\n",
       "      <td>-0.000787</td>\n",
       "      <td>ctrl</td>\n",
       "      <td>rest</td>\n",
       "      <td>True</td>\n",
       "    </tr>\n",
       "  </tbody>\n",
       "</table>\n",
       "</div>"
      ],
      "text/plain": [
       "       gene      corr  time  isgf3  high_exp\n",
       "0     ISG15  0.057578  ctrl  ISGF3      True\n",
       "1  AURKAIP1  0.128053  ctrl   rest      True\n",
       "2    MRPL20 -0.059311  ctrl   rest      True\n",
       "3     SSU72 -0.078957  ctrl  ISGF3      True\n",
       "4      GNB1 -0.000787  ctrl   rest      True"
      ]
     },
     "execution_count": 43,
     "metadata": {},
     "output_type": "execute_result"
    }
   ],
   "source": [
    "pbmc_long_df.head(5)"
   ]
  },
  {
   "cell_type": "code",
   "execution_count": 45,
   "metadata": {},
   "outputs": [],
   "source": [
    "ab_joined = alpha_long_df.merge(beta_long_df, on=['gene', 'time'], suffixes=('_alpha', '_beta'))\n",
    "pbmc_joined = beta_long_df.merge(pbmc_long_df, on=['gene', 'time'], suffixes=('_beta', '_pbmc'))"
   ]
  },
  {
   "cell_type": "code",
   "execution_count": 74,
   "metadata": {},
   "outputs": [
    {
     "data": {
      "text/html": [
       "<div>\n",
       "<style scoped>\n",
       "    .dataframe tbody tr th:only-of-type {\n",
       "        vertical-align: middle;\n",
       "    }\n",
       "\n",
       "    .dataframe tbody tr th {\n",
       "        vertical-align: top;\n",
       "    }\n",
       "\n",
       "    .dataframe thead th {\n",
       "        text-align: right;\n",
       "    }\n",
       "</style>\n",
       "<table border=\"1\" class=\"dataframe\">\n",
       "  <thead>\n",
       "    <tr style=\"text-align: right;\">\n",
       "      <th></th>\n",
       "      <th>gene</th>\n",
       "      <th>corr_beta</th>\n",
       "      <th>time</th>\n",
       "      <th>isgf3_beta</th>\n",
       "      <th>corr_pbmc</th>\n",
       "      <th>isgf3_pbmc</th>\n",
       "      <th>high_exp</th>\n",
       "    </tr>\n",
       "  </thead>\n",
       "  <tbody>\n",
       "    <tr>\n",
       "      <th>0</th>\n",
       "      <td>ISG15</td>\n",
       "      <td>0.712075</td>\n",
       "      <td>ctrl</td>\n",
       "      <td>in TSS</td>\n",
       "      <td>0.057578</td>\n",
       "      <td>ISGF3</td>\n",
       "      <td>True</td>\n",
       "    </tr>\n",
       "    <tr>\n",
       "      <th>1</th>\n",
       "      <td>AURKAIP1</td>\n",
       "      <td>0.142373</td>\n",
       "      <td>ctrl</td>\n",
       "      <td>rest</td>\n",
       "      <td>0.128053</td>\n",
       "      <td>rest</td>\n",
       "      <td>True</td>\n",
       "    </tr>\n",
       "    <tr>\n",
       "      <th>2</th>\n",
       "      <td>MRPL20</td>\n",
       "      <td>0.047689</td>\n",
       "      <td>ctrl</td>\n",
       "      <td>rest</td>\n",
       "      <td>-0.059311</td>\n",
       "      <td>rest</td>\n",
       "      <td>True</td>\n",
       "    </tr>\n",
       "    <tr>\n",
       "      <th>3</th>\n",
       "      <td>SSU72</td>\n",
       "      <td>-0.026395</td>\n",
       "      <td>ctrl</td>\n",
       "      <td>rest</td>\n",
       "      <td>-0.078957</td>\n",
       "      <td>ISGF3</td>\n",
       "      <td>True</td>\n",
       "    </tr>\n",
       "    <tr>\n",
       "      <th>4</th>\n",
       "      <td>GNB1</td>\n",
       "      <td>0.095139</td>\n",
       "      <td>ctrl</td>\n",
       "      <td>rest</td>\n",
       "      <td>-0.000787</td>\n",
       "      <td>rest</td>\n",
       "      <td>True</td>\n",
       "    </tr>\n",
       "  </tbody>\n",
       "</table>\n",
       "</div>"
      ],
      "text/plain": [
       "       gene  corr_beta  time isgf3_beta  corr_pbmc isgf3_pbmc  high_exp\n",
       "0     ISG15   0.712075  ctrl     in TSS   0.057578      ISGF3      True\n",
       "1  AURKAIP1   0.142373  ctrl       rest   0.128053       rest      True\n",
       "2    MRPL20   0.047689  ctrl       rest  -0.059311       rest      True\n",
       "3     SSU72  -0.026395  ctrl       rest  -0.078957      ISGF3      True\n",
       "4      GNB1   0.095139  ctrl       rest  -0.000787       rest      True"
      ]
     },
     "execution_count": 74,
     "metadata": {},
     "output_type": "execute_result"
    }
   ],
   "source": [
    "pbmc_joined.head(5)"
   ]
  },
  {
   "cell_type": "code",
   "execution_count": 70,
   "metadata": {},
   "outputs": [
    {
     "data": {
      "text/plain": [
       "(0.1712953648060725, 2.201513571182445e-10)"
      ]
     },
     "execution_count": 70,
     "metadata": {},
     "output_type": "execute_result"
    }
   ],
   "source": [
    "stats.pearsonr(pbmc_joined.query('time == \"stim\"').corr_beta, pbmc_joined.query('time == \"stim\"').corr_pbmc)"
   ]
  },
  {
   "cell_type": "code",
   "execution_count": 77,
   "metadata": {},
   "outputs": [
    {
     "data": {
      "text/plain": [
       "(0.6929252536906498, 0.0)"
      ]
     },
     "execution_count": 77,
     "metadata": {},
     "output_type": "execute_result"
    }
   ],
   "source": [
    "stats.pearsonr(ab_joined.query('time == \"stim\"').corr_beta, ab_joined.query('time == \"stim\"').corr_alpha)"
   ]
  },
  {
   "cell_type": "code",
   "execution_count": 69,
   "metadata": {},
   "outputs": [
    {
     "data": {
      "image/png": "[encoded data removed]",
      "text/plain": [
       "<Figure size 144x108 with 1 Axes>"
      ]
     },
     "metadata": {
      "needs_background": "light"
     },
     "output_type": "display_data"
    }
   ],
   "source": [
    "plt.figure(figsize=(2, 1.5))\n",
    "plt.scatter(ab_joined.query('time == \"stim\"').corr_beta, ab_joined.query('time == \"stim\"').corr_alpha, s=0.01, color='grey')\n",
    "plt.ylabel('STAT1 Corr IFN-A'); plt.xlabel('STAT1 Corr IFN-B')\n",
    "plt.savefig(fig_path + 'stat1_corr_ab.png', bbox_inches='tight', dpi=300)\n"
   ]
  },
  {
   "cell_type": "code",
   "execution_count": 39,
   "metadata": {},
   "outputs": [
    {
     "data": {
      "image/png": "[encoded data removed]",
      "text/plain": [
       "<Figure size 72x108 with 1 Axes>"
      ]
     },
     "metadata": {
      "needs_background": "light"
     },
     "output_type": "display_data"
    }
   ],
   "source": [
    "plt.figure(figsize=(1, 1.5))\n",
    "sns.boxplot(x='time', y='corr', hue='isgf3', data=alpha_long_df, fliersize=0.1)\n",
    "\n",
    "plt.xlabel('Cell type'); plt.ylabel('Corr with STAT1');\n",
    "plt.legend([], frameon=False)\n",
    "# plt.legend(loc='upper center', ncol=2, bbox_to_anchor=(0.5, 1.4), frameon=False)\n",
    "# plt.ylim(-.8, 0.6)\n",
    "plt.savefig(fig_path + 'isgf3_vs_rest_alpha.pdf', bbox_inches='tight')\n",
    "\n"
   ]
  },
  {
   "cell_type": "code",
   "execution_count": 40,
   "metadata": {},
   "outputs": [
    {
     "data": {
      "image/png": "[encoded data removed]",
      "text/plain": [
       "<Figure size 72x108 with 1 Axes>"
      ]
     },
     "metadata": {
      "needs_background": "light"
     },
     "output_type": "display_data"
    }
   ],
   "source": [
    "plt.figure(figsize=(1, 1.5))\n",
    "sns.boxplot(x='time', y='corr', hue='isgf3', data=beta_long_df, fliersize=0.1)\n",
    "\n",
    "plt.xlabel('Cell type'); plt.ylabel('Corr with STAT1');\n",
    "plt.legend([], frameon=False)\n",
    "\n",
    "# plt.legend(loc='upper center', ncol=2, bbox_to_anchor=(0.5, 1.15))\n",
    "# plt.ylim(-.8, 0.6)\n",
    "plt.savefig(fig_path + 'isgf3_vs_rest_beta.pdf', bbox_inches='tight')\n",
    "\n"
   ]
  },
  {
   "cell_type": "code",
   "execution_count": 21,
   "metadata": {},
   "outputs": [
    {
     "data": {
      "text/html": [
       "<div>\n",
       "<style scoped>\n",
       "    .dataframe tbody tr th:only-of-type {\n",
       "        vertical-align: middle;\n",
       "    }\n",
       "\n",
       "    .dataframe tbody tr th {\n",
       "        vertical-align: top;\n",
       "    }\n",
       "\n",
       "    .dataframe thead th {\n",
       "        text-align: right;\n",
       "    }\n",
       "</style>\n",
       "<table border=\"1\" class=\"dataframe\">\n",
       "  <thead>\n",
       "    <tr style=\"text-align: right;\">\n",
       "      <th></th>\n",
       "      <th>gene_1</th>\n",
       "      <th>gene_2</th>\n",
       "      <th>time_9</th>\n",
       "      <th>time_3</th>\n",
       "      <th>time_0</th>\n",
       "      <th>time_6</th>\n",
       "      <th>time_48</th>\n",
       "      <th>time_24</th>\n",
       "      <th>stim</th>\n",
       "    </tr>\n",
       "  </thead>\n",
       "  <tbody>\n",
       "    <tr>\n",
       "      <th>0</th>\n",
       "      <td>STAT1</td>\n",
       "      <td>LINC01409</td>\n",
       "      <td>-0.175255</td>\n",
       "      <td>0.022280</td>\n",
       "      <td>0.389398</td>\n",
       "      <td>0.091183</td>\n",
       "      <td>-0.20891</td>\n",
       "      <td>-0.145140</td>\n",
       "      <td>beta</td>\n",
       "    </tr>\n",
       "    <tr>\n",
       "      <th>1</th>\n",
       "      <td>STAT1</td>\n",
       "      <td>NOC2L</td>\n",
       "      <td>-0.070694</td>\n",
       "      <td>0.070377</td>\n",
       "      <td>0.127526</td>\n",
       "      <td>0.105913</td>\n",
       "      <td>-0.01832</td>\n",
       "      <td>-0.201853</td>\n",
       "      <td>beta</td>\n",
       "    </tr>\n",
       "  </tbody>\n",
       "</table>\n",
       "</div>"
      ],
      "text/plain": [
       "  gene_1     gene_2    time_9    time_3    time_0    time_6  time_48  \\\n",
       "0  STAT1  LINC01409 -0.175255  0.022280  0.389398  0.091183 -0.20891   \n",
       "1  STAT1      NOC2L -0.070694  0.070377  0.127526  0.105913 -0.01832   \n",
       "\n",
       "    time_24  stim  \n",
       "0 -0.145140  beta  \n",
       "1 -0.201853  beta  "
      ]
     },
     "execution_count": 21,
     "metadata": {},
     "output_type": "execute_result"
    }
   ],
   "source": [
    "beta_df.head(2)"
   ]
  },
  {
   "cell_type": "code",
   "execution_count": null,
   "metadata": {},
   "outputs": [],
   "source": [
    "plt.figure(figsize=(2.5, 3))\n",
    "sns.boxplot(x='ct', y='dv_coef', hue='isgf3', data=alpha_df.sort_values('isgf3'), palette='Set2')\n",
    "\n",
    "plt.xlabel('Cell type'); plt.ylabel('Change in variability');\n",
    "plt.legend(loc='upper center', ncol=2, bbox_to_anchor=(0.5, 1.15))\n",
    "# plt.ylim(-.8, 0.6)\n",
    "# plt.savefig(fig_path + 'isgf3_vs_rest.pdf', bbox_inches='tight')\n",
    "\n"
   ]
  },
  {
   "cell_type": "code",
   "execution_count": 23,
   "metadata": {},
   "outputs": [
    {
     "data": {
      "text/plain": [
       "(-0.75, 1)"
      ]
     },
     "execution_count": 23,
     "metadata": {},
     "output_type": "execute_result"
    },
    {
     "data": {
      "image/png": "[encoded data removed]",
      "text/plain": [
       "<Figure size 216x144 with 1 Axes>"
      ]
     },
     "metadata": {
      "needs_background": "light"
     },
     "output_type": "display_data"
    }
   ],
   "source": [
    "plt.figure(figsize=(3, 2))\n",
    "for tp in ['0', '3', '6', '9', '24', '48']:#['0', '3', '6', '9', '24', '48']:\n",
    "    sns.distplot(beta_df['time_' + tp], hist=False, label=tp)\n",
    "# plt.legend(, frameon=False)\n",
    "plt.xlabel('Correlation with STAT1')\n",
    "plt.xlim(-0.75, 1)"
   ]
  },
  {
   "cell_type": "code",
   "execution_count": 81,
   "metadata": {},
   "outputs": [],
   "source": [
    "import matplotlib as mpl\n",
    "import matplotlib.pyplot as plt\n",
    "import matplotlib.gridspec as grid_spec\n",
    "\n",
    "import pandas as pd\n",
    "import numpy as np\n",
    "from sklearn.neighbors import KernelDensity"
   ]
  },
  {
   "cell_type": "code",
   "execution_count": 100,
   "metadata": {},
   "outputs": [],
   "source": [
    "def ridgeplot(df):\n",
    "\n",
    "    colors = ['#0000ff', '#3300cc', '#660099', '#990066', '#cc0033', '#ff0000']\n",
    "\n",
    "    gs = grid_spec.GridSpec(6,1)\n",
    "    fig = plt.figure(figsize=(3,2))\n",
    "\n",
    "    i = 0\n",
    "\n",
    "    ax_objs = []\n",
    "    for i, tp in enumerate(['0', '3', '6', '9', '24', '48'][::-1]):\n",
    "        x = df['time_' + tp].values\n",
    "        x = x[np.isfinite(x)]\n",
    "        x_d = np.linspace(-0.7,1, 1000)\n",
    "\n",
    "        kde = KernelDensity(bandwidth=0.025, kernel='gaussian')\n",
    "        kde.fit(x[:, None])\n",
    "\n",
    "        logprob = kde.score_samples(x_d[:, None])\n",
    "\n",
    "        # creating new axes object\n",
    "        ax_objs.append(fig.add_subplot(gs[i:i+1, 0:]))\n",
    "\n",
    "        # plotting the distribution\n",
    "        ax_objs[-1].plot(x_d, np.exp(logprob),lw=3, color=colors[i])\n",
    "    #     ax_objs[-1].fill_between(x_d, np.exp(logprob), alpha=1,color=colors[i])\n",
    "    \n",
    "        if i == 0:\n",
    "            mode_corr = x_d[np.argmax(logprob)]\n",
    "#             ax_objs[-1].plot([mode_corr, mode_corr], [0, 10])\n",
    "\n",
    "        # setting uniform x and y lims\n",
    "        ax_objs[-1].set_xlim(-0.4,0.7)\n",
    "    #     ax_objs[-1].set_ylim(0,2.5)\n",
    "\n",
    "        # make background transparent\n",
    "        rect = ax_objs[-1].patch\n",
    "        rect.set_alpha(0)\n",
    "\n",
    "        # remove borders, axis ticks, and labels\n",
    "        ax_objs[-1].set_yticklabels([])\n",
    "\n",
    "        if i == 6-1:\n",
    "            ax_objs[-1].set_xlabel(\"Correlation\", fontsize=10,fontweight=\"bold\")\n",
    "        else:\n",
    "            ax_objs[-1].set_xticklabels([])\n",
    "            ax_objs[-1].set_xticks([])\n",
    "\n",
    "        spines = [\"top\",\"right\",\"left\",\"bottom\"]\n",
    "        for s in spines:\n",
    "            ax_objs[-1].spines[s].set_visible(False)\n",
    "    #     \n",
    "        ax_objs[-1].set_yticks([])\n",
    "    #     adj_country = country.replace(\" \",\"\\n\")\n",
    "        ax_objs[-1].text(-0.5,0,tp,fontweight=\"bold\",fontsize=14,ha=\"right\")\n",
    "        i += 1\n",
    "\n",
    "    gs.update(hspace=-0.7)\n",
    "    \n",
    "#     plt.plot([mode_corr, mode_corr], [0, 10])\n",
    "\n",
    "    # fig.text(0.07,0.85,\"Distribution of Aptitude Test Results from 18 – 24 year-olds\",fontsize=20)\n",
    "\n",
    "    plt.tight_layout()\n",
    "    plt.show()\n",
    "    \n",
    "    return fig\n"
   ]
  },
  {
   "cell_type": "code",
   "execution_count": 102,
   "metadata": {},
   "outputs": [
    {
     "name": "stderr",
     "output_type": "stream",
     "text": [
      "/data/home/anaconda3/envs/single_cell/lib/python3.7/site-packages/ipykernel_launcher.py:64: UserWarning: This figure includes Axes that are not compatible with tight_layout, so results might be incorrect.\n"
     ]
    },
    {
     "data": {
      "image/png": "[encoded data removed]",
      "text/plain": [
       "<Figure size 216x144 with 6 Axes>"
      ]
     },
     "metadata": {
      "needs_background": "light"
     },
     "output_type": "display_data"
    }
   ],
   "source": [
    "fig = ridgeplot(alpha_df)\n",
    "fig.savefig(fig_path + 'corr_hist_alpha.pdf', bbox_inches='tight')"
   ]
  },
  {
   "cell_type": "code",
   "execution_count": 103,
   "metadata": {},
   "outputs": [
    {
     "name": "stderr",
     "output_type": "stream",
     "text": [
      "/data/home/anaconda3/envs/single_cell/lib/python3.7/site-packages/ipykernel_launcher.py:64: UserWarning: This figure includes Axes that are not compatible with tight_layout, so results might be incorrect.\n"
     ]
    },
    {
     "data": {
      "image/png": "[encoded data removed]",
      "text/plain": [
       "<Figure size 216x144 with 6 Axes>"
      ]
     },
     "metadata": {
      "needs_background": "light"
     },
     "output_type": "display_data"
    }
   ],
   "source": [
    "fig = ridgeplot(gamma_df)\n",
    "fig.savefig(fig_path + 'corr_hist_gamma.pdf', bbox_inches='tight')"
   ]
  },
  {
   "cell_type": "code",
   "execution_count": 104,
   "metadata": {},
   "outputs": [
    {
     "name": "stderr",
     "output_type": "stream",
     "text": [
      "/data/home/anaconda3/envs/single_cell/lib/python3.7/site-packages/ipykernel_launcher.py:64: UserWarning: This figure includes Axes that are not compatible with tight_layout, so results might be incorrect.\n"
     ]
    },
    {
     "data": {
      "image/png": "[encoded data removed]",
      "text/plain": [
       "<Figure size 216x144 with 6 Axes>"
      ]
     },
     "metadata": {
      "needs_background": "light"
     },
     "output_type": "display_data"
    }
   ],
   "source": [
    "fig = ridgeplot(beta_df)\n",
    "fig.savefig(fig_path + 'corr_hist_beta.pdf', bbox_inches='tight')"
   ]
  },
  {
   "cell_type": "code",
   "execution_count": 105,
   "metadata": {},
   "outputs": [
    {
     "name": "stderr",
     "output_type": "stream",
     "text": [
      "/data/home/anaconda3/envs/single_cell/lib/python3.7/site-packages/ipykernel_launcher.py:64: UserWarning: This figure includes Axes that are not compatible with tight_layout, so results might be incorrect.\n"
     ]
    },
    {
     "data": {
      "image/png": "[encoded data removed]",
      "text/plain": [
       "<Figure size 216x144 with 6 Axes>"
      ]
     },
     "metadata": {
      "needs_background": "light"
     },
     "output_type": "display_data"
    }
   ],
   "source": [
    "fig = ridgeplot(lambda_df)\n",
    "fig.savefig(fig_path + 'corr_hist_lambda.pdf', bbox_inches='tight')"
   ]
  },
  {
   "cell_type": "markdown",
   "metadata": {},
   "source": [
    "### TF ordering at timepoint 3"
   ]
  },
  {
   "cell_type": "code",
   "execution_count": 66,
   "metadata": {},
   "outputs": [],
   "source": [
    "filtered_tfs = \"\"\"MAFG\n",
    "SPI1\n",
    "ZNF655\n",
    "MAX\n",
    "ATF4\n",
    "ATF3\n",
    "IRF2\n",
    "IRF1\n",
    "ARID5A\n",
    "BACH1\n",
    "YY1\n",
    "HMGA1\n",
    "IRF7\n",
    "STAT1\n",
    "NR1H2\n",
    "XBP1\n",
    "ETV6\n",
    "MSC\n",
    "ATF5\n",
    "MAFB\n",
    "FOS\n",
    "CEBPB\n",
    "BBX\n",
    "STAT3\n",
    "REL\n",
    "JUN\n",
    "CEBPD\n",
    "DDIT3\n",
    "NR3C1\n",
    "TGIF1\n",
    "ZNF267\n",
    "NFE2L2\n",
    "HIF1A\n",
    "AHR\n",
    "GTF2B\n",
    "CREM\n",
    "HBP1\n",
    "RELB\n",
    "TFEC\n",
    "YBX1\n",
    "ELF1\n",
    "JUNB\n",
    "NFKB1\n",
    "IRF9\n",
    "RBPJ\n",
    "KLF6\"\"\".split()"
   ]
  },
  {
   "cell_type": "code",
   "execution_count": 20,
   "metadata": {},
   "outputs": [],
   "source": [
    "whitelist = beta_df.gene_2.tolist()"
   ]
  },
  {
   "cell_type": "code",
   "execution_count": null,
   "metadata": {},
   "outputs": [],
   "source": [
    "tf_df_list = []\n",
    "for tf in filtered_tfs:\n",
    "    \n",
    "    if tf not in whitelist:\n",
    "        continue\n",
    "    \n",
    "    df = get_2d_moments(tf, ['ciliated'], 'beta')\n",
    "    diff = (df['time_3'] - df['time_0']).mean()\n",
    "    tf_df_list.append((tf, diff))\n",
    "    del df\n",
    "    \n",
    "    print(tf)\n",
    "#     break\n",
    "\n",
    "tf_df_beta = pd.DataFrame(tf_df_list, columns=['tf', 'diff']).sort_values('diff', ascending=False)\n",
    "tf_df_beta['tf'] = tf_df_beta['tf'].astype('category')\n",
    "tf_order = tf_df_beta.sort_values('diff', ascending=False).tf.tolist()\n",
    "tf_df_beta['tf'].cat.set_categories(tf_order, inplace=True)"
   ]
  },
  {
   "cell_type": "code",
   "execution_count": 97,
   "metadata": {},
   "outputs": [
    {
     "name": "stderr",
     "output_type": "stream",
     "text": [
      "/data/home/Github/scrna-parameter-estimation/dist/memento-0.0.4-py3.7.egg/memento/main.py:578: RuntimeWarning: invalid value encountered in true_divide\n",
      "  groupby_corr[key] /= groupby_corr_count[key]\n"
     ]
    },
    {
     "name": "stdout",
     "output_type": "stream",
     "text": [
      "MAFG\n",
      "ZNF655\n",
      "MAX\n",
      "ATF4\n",
      "ATF3\n",
      "IRF2\n",
      "IRF1\n",
      "BACH1\n",
      "YY1\n",
      "HMGA1\n",
      "IRF7\n",
      "STAT1\n",
      "NR1H2\n",
      "XBP1\n",
      "ETV6\n",
      "ATF5\n",
      "FOS\n",
      "CEBPB\n",
      "BBX\n",
      "STAT3\n",
      "REL\n",
      "JUN\n",
      "CEBPD\n",
      "DDIT3\n",
      "NR3C1\n",
      "TGIF1\n",
      "ZNF267\n",
      "NFE2L2\n",
      "HIF1A\n",
      "AHR\n",
      "GTF2B\n",
      "CREM\n",
      "HBP1\n",
      "RELB\n",
      "YBX1\n",
      "ELF1\n",
      "JUNB\n",
      "NFKB1\n",
      "IRF9\n",
      "RBPJ\n",
      "KLF6\n"
     ]
    }
   ],
   "source": [
    "tf_df_list = []\n",
    "for tf in filtered_tfs:\n",
    "    \n",
    "    if tf not in whitelist:\n",
    "        continue\n",
    "    \n",
    "    df = get_2d_moments(tf, ['ciliated'], 'alpha')\n",
    "    diff = (df['time_3'] - df['time_0']).mean()\n",
    "    tf_df_list.append((tf, diff))\n",
    "    del df\n",
    "    \n",
    "    print(tf)\n",
    "#     break\n",
    "\n",
    "tf_df_alpha = pd.DataFrame(tf_df_list, columns=['tf', 'diff']).sort_values('diff', ascending=False)\n",
    "tf_df_alpha['tf'] = tf_df_alpha['tf'].astype('category')\n",
    "tf_order = tf_df_alpha.sort_values('diff', ascending=False).tf.tolist()\n",
    "tf_df_alpha['tf'].cat.set_categories(tf_order, inplace=True)"
   ]
  },
  {
   "cell_type": "code",
   "execution_count": 98,
   "metadata": {},
   "outputs": [
    {
     "name": "stdout",
     "output_type": "stream",
     "text": [
      "MAFG\n",
      "ZNF655\n",
      "MAX\n",
      "ATF4\n",
      "ATF3\n",
      "IRF2\n",
      "IRF1\n",
      "BACH1\n",
      "YY1\n",
      "HMGA1\n",
      "IRF7\n",
      "STAT1\n",
      "NR1H2\n",
      "XBP1\n",
      "ETV6\n",
      "ATF5\n",
      "FOS\n",
      "CEBPB\n",
      "BBX\n",
      "STAT3\n",
      "REL\n",
      "JUN\n",
      "CEBPD\n",
      "DDIT3\n",
      "NR3C1\n",
      "TGIF1\n",
      "ZNF267\n",
      "NFE2L2\n",
      "HIF1A\n",
      "AHR\n",
      "GTF2B\n",
      "CREM\n",
      "HBP1\n",
      "RELB\n",
      "YBX1\n",
      "ELF1\n",
      "JUNB\n",
      "NFKB1\n",
      "IRF9\n",
      "RBPJ\n",
      "KLF6\n"
     ]
    }
   ],
   "source": [
    "tf_df_list = []\n",
    "for tf in filtered_tfs:\n",
    "    \n",
    "    if tf not in whitelist:\n",
    "        continue\n",
    "    \n",
    "    df = get_2d_moments(tf, ['ciliated'], 'gamma')\n",
    "    diff = (df['time_3'] - df['time_0']).mean()\n",
    "    tf_df_list.append((tf, diff))\n",
    "    del df\n",
    "    \n",
    "    print(tf)\n",
    "#     break\n",
    "\n",
    "tf_df_gamma = pd.DataFrame(tf_df_list, columns=['tf', 'diff']).sort_values('diff', ascending=False)\n",
    "tf_df_gamma['tf'] = tf_df_gamma['tf'].astype('category')\n",
    "tf_order = tf_df_gamma.sort_values('diff', ascending=False).tf.tolist()\n",
    "tf_df_gamma['tf'].cat.set_categories(tf_order, inplace=True)"
   ]
  },
  {
   "cell_type": "code",
   "execution_count": 28,
   "metadata": {},
   "outputs": [],
   "source": [
    "pbmc_data_path = '/data_volume/parameter_estimation/'\n",
    "pbmc_tf_df = pd.read_csv(pbmc_data_path + 'tf_corr_changes.csv')"
   ]
  },
  {
   "cell_type": "code",
   "execution_count": 32,
   "metadata": {},
   "outputs": [],
   "source": [
    "pbmc_tf_df = pbmc_tf_df.groupby('tf').diff.mean().reset_index()"
   ]
  },
  {
   "cell_type": "code",
   "execution_count": 33,
   "metadata": {},
   "outputs": [],
   "source": [
    "joined = tf_df_beta.merge(tf_df_alpha, on='tf', suffixes=('_beta', '_alpha'))\n",
    "joined_pbmc = tf_df_beta.merge(pbmc_tf_df, on='tf', suffixes=('_beta', '_pbmc'))\n",
    "joined_pbmc = tf_df_beta.merge(pbmc_tf_df, on='tf', suffixes=('_beta', '_pbmc'))"
   ]
  },
  {
   "cell_type": "code",
   "execution_count": 29,
   "metadata": {},
   "outputs": [
    {
     "data": {
      "text/html": [
       "<div>\n",
       "<style scoped>\n",
       "    .dataframe tbody tr th:only-of-type {\n",
       "        vertical-align: middle;\n",
       "    }\n",
       "\n",
       "    .dataframe tbody tr th {\n",
       "        vertical-align: top;\n",
       "    }\n",
       "\n",
       "    .dataframe thead th {\n",
       "        text-align: right;\n",
       "    }\n",
       "</style>\n",
       "<table border=\"1\" class=\"dataframe\">\n",
       "  <thead>\n",
       "    <tr style=\"text-align: right;\">\n",
       "      <th></th>\n",
       "      <th>tf</th>\n",
       "      <th>diff_beta</th>\n",
       "      <th>diff_alpha</th>\n",
       "    </tr>\n",
       "  </thead>\n",
       "  <tbody>\n",
       "    <tr>\n",
       "      <th>0</th>\n",
       "      <td>STAT1</td>\n",
       "      <td>0.099344</td>\n",
       "      <td>0.156776</td>\n",
       "    </tr>\n",
       "    <tr>\n",
       "      <th>1</th>\n",
       "      <td>IRF9</td>\n",
       "      <td>0.099322</td>\n",
       "      <td>0.125458</td>\n",
       "    </tr>\n",
       "    <tr>\n",
       "      <th>2</th>\n",
       "      <td>IRF7</td>\n",
       "      <td>0.086175</td>\n",
       "      <td>0.127605</td>\n",
       "    </tr>\n",
       "    <tr>\n",
       "      <th>3</th>\n",
       "      <td>TGIF1</td>\n",
       "      <td>0.071129</td>\n",
       "      <td>0.091961</td>\n",
       "    </tr>\n",
       "    <tr>\n",
       "      <th>4</th>\n",
       "      <td>BACH1</td>\n",
       "      <td>0.063072</td>\n",
       "      <td>0.085814</td>\n",
       "    </tr>\n",
       "  </tbody>\n",
       "</table>\n",
       "</div>"
      ],
      "text/plain": [
       "      tf  diff_beta  diff_alpha\n",
       "0  STAT1   0.099344    0.156776\n",
       "1   IRF9   0.099322    0.125458\n",
       "2   IRF7   0.086175    0.127605\n",
       "3  TGIF1   0.071129    0.091961\n",
       "4  BACH1   0.063072    0.085814"
      ]
     },
     "execution_count": 29,
     "metadata": {},
     "output_type": "execute_result"
    }
   ],
   "source": [
    "joined.head(5)"
   ]
  },
  {
   "cell_type": "code",
   "execution_count": 101,
   "metadata": {},
   "outputs": [
    {
     "data": {
      "text/plain": [
       "(0.8844643874489025, 1.750514636467869e-14)"
      ]
     },
     "execution_count": 101,
     "metadata": {},
     "output_type": "execute_result"
    }
   ],
   "source": [
    "stats.pearsonr(joined['diff_beta'], joined['diff_alpha'])"
   ]
  },
  {
   "cell_type": "code",
   "execution_count": 100,
   "metadata": {},
   "outputs": [
    {
     "data": {
      "text/plain": [
       "(0.294557632916126, 0.07262447260476375)"
      ]
     },
     "execution_count": 100,
     "metadata": {},
     "output_type": "execute_result"
    }
   ],
   "source": [
    "stats.pearsonr(joined_pbmc['diff_beta'], joined_pbmc['diff_pbmc'])"
   ]
  },
  {
   "cell_type": "code",
   "execution_count": 99,
   "metadata": {},
   "outputs": [
    {
     "data": {
      "image/png": "[encoded data removed]",
      "text/plain": [
       "<Figure size 216x144 with 1 Axes>"
      ]
     },
     "metadata": {
      "needs_background": "light"
     },
     "output_type": "display_data"
    }
   ],
   "source": [
    "plt.figure(figsize=(3,2))\n",
    "sns.regplot(joined_pbmc['diff_beta'], joined_pbmc['diff_pbmc'], scatter_kws={'s':6, 'color':'k'}, line_kws={'color':'k'})\n",
    "plt.xlim(-0.015, 0.11); \n",
    "# plt.xlabel('Corr shift IFN-B'); plt.ylabel('Corr shift IFN-A')\n",
    "# plt.savefig(fig_path + 'corr_shift_AB.pdf', bbox_inches='tight')\n"
   ]
  },
  {
   "cell_type": "code",
   "execution_count": 59,
   "metadata": {},
   "outputs": [
    {
     "data": {
      "image/png": "[encoded data removed]",
      "text/plain": [
       "<Figure size 216x144 with 1 Axes>"
      ]
     },
     "metadata": {
      "needs_background": "light"
     },
     "output_type": "display_data"
    }
   ],
   "source": [
    "plt.figure(figsize=(3,2))\n",
    "sns.regplot(joined['diff_beta'], joined['diff_alpha'], scatter_kws={'s':6, 'color':'k'}, line_kws={'color':'k'})\n",
    "plt.xlim(-0.015, 0.11); \n",
    "plt.xlabel('Corr shift IFN-B'); plt.ylabel('Corr shift IFN-A')\n",
    "plt.savefig(fig_path + 'corr_shift_AB.pdf', bbox_inches='tight')\n"
   ]
  },
  {
   "cell_type": "code",
   "execution_count": 31,
   "metadata": {},
   "outputs": [
    {
     "data": {
      "image/png": "[encoded data removed]",
      "text/plain": [
       "<Figure size 288x144 with 1 Axes>"
      ]
     },
     "metadata": {
      "needs_background": "light"
     },
     "output_type": "display_data"
    }
   ],
   "source": [
    "import matplotlib.pylab as pylab\n",
    "params = {'legend.fontsize': 'medium',\n",
    "         'axes.labelsize': 'medium',\n",
    "         'axes.titlesize':'medium',\n",
    "         'figure.titlesize':'medium',\n",
    "         'xtick.labelsize':'6',\n",
    "         'ytick.labelsize':'small'}\n",
    "pylab.rcParams.update(params)\n",
    "\n",
    "plt.figure(figsize=(4, 2))\n",
    "\n",
    "sns.barplot(x='tf', y='diff', data=tf_df, errwidth=2)\n",
    "plt.xticks(rotation=90);\n",
    "plt.ylabel('Mean shift in corr')\n",
    "\n",
    "plt.savefig(fig_path + 'tf_effect_sizes.pdf', bbox_inches='tight')\n"
   ]
  },
  {
   "cell_type": "markdown",
   "metadata": {},
   "source": [
    "### Look for STAT1 DC genes"
   ]
  },
  {
   "cell_type": "code",
   "execution_count": 12,
   "metadata": {},
   "outputs": [],
   "source": [
    "cts = [['ciliated'], ['bc', 'basal']]\n",
    "tps = ['3', '6', '9', '24', '48']\n",
    "stims = ['alpha', 'beta', 'gamma', 'lambda']"
   ]
  },
  {
   "cell_type": "code",
   "execution_count": 13,
   "metadata": {},
   "outputs": [],
   "source": [
    "import os"
   ]
  },
  {
   "cell_type": "code",
   "execution_count": 14,
   "metadata": {},
   "outputs": [],
   "source": [
    "done_files = os.listdir('/data_volume/ifn_hbec/tf_test/')"
   ]
  },
  {
   "cell_type": "code",
   "execution_count": 14,
   "metadata": {},
   "outputs": [],
   "source": [
    "tf = 'STAT1'\n",
    "\n",
    "cts = [['ciliated']]\n",
    "tps = ['3']\n",
    "stims = ['beta']\n",
    "\n",
    "\n",
    "for ct in cts:\n",
    "    for tp in tps:\n",
    "        for stim in stims:\n",
    "            \n",
    "            fname = '{}_{}_{}_{}.h5ad'.format('-'.join(ct), stim, tp, tf)\n",
    "            if fname in done_files:\n",
    "                continue\n",
    "                            \n",
    "            print('starting', ct, tp, stim)\n",
    "\n",
    "            adata_stim = adata.copy()[\n",
    "                adata.obs.cell_type.isin(ct) & \\\n",
    "                adata.obs.stim.isin(['control', stim]) & \\\n",
    "                adata.obs.time.isin(['0',tp]), :].copy()\n",
    "            time_converter={0:0, int(tp):1}\n",
    "            adata_stim.obs['time_step'] = adata_stim.obs['time'].astype(int).apply(lambda x: time_converter[x])\n",
    "\n",
    "            memento.create_groups(adata_stim, label_columns=['time_step', 'donor'])\n",
    "            memento.compute_1d_moments(adata_stim, min_perc_group=.9)\n",
    "            memento.compute_2d_moments(adata_stim, list(itertools.product([tf], adata_stim.var.index)))\n",
    "\n",
    "            moment_df = memento.get_2d_moments(adata_stim, groupby='time_step')\n",
    "            moment_df.to_csv('/data_volume/ifn_hbec/coex_test/moments_{}_{}_{}_{}.csv'.format('-'.join(ct), stim, tp, tf), index=False)\n",
    "            gene_list = adata_stim.var.index.tolist()#moment_df[(moment_df['time_step_0'] > 0.35) | (moment_df['time_step_1'] > 0.35)].gene_2.tolist()\n",
    "\n",
    "            memento.compute_2d_moments(adata_stim, list(itertools.product([tf], gene_list)))\n",
    "\n",
    "            memento.ht_2d_moments( \n",
    "                adata_stim, \n",
    "                formula_like='1 + time_step',\n",
    "                cov_column='time_step', \n",
    "                num_boot=10000, \n",
    "                verbose=1,\n",
    "                num_cpus=13)\n",
    "\n",
    "            if 'mv_regressor' in adata_stim.uns['memento']:\n",
    "                del adata_stim.uns['memento']['mv_regressor']\n",
    "            adata_stim.write('/data_volume/ifn_hbec/tf_test/{}_{}_{}_{}.h5ad'.format('-'.join(ct), stim, tp, tf))"
   ]
  },
  {
   "cell_type": "markdown",
   "metadata": {},
   "source": [
    "### What are the STAT1 DC genes?"
   ]
  },
  {
   "cell_type": "code",
   "execution_count": 57,
   "metadata": {},
   "outputs": [],
   "source": [
    "stim = 'beta'\n",
    "tp = '3'\n",
    "ct = ['ciliated']\n",
    "\n",
    "fname = '/data_volume/ifn_hbec/tf_test/{}_{}_{}_{}.h5ad'.format('-'.join(ct), stim, tp, tf)\n",
    "adata_result = sc.read(fname)"
   ]
  },
  {
   "cell_type": "code",
   "execution_count": 105,
   "metadata": {},
   "outputs": [],
   "source": [
    "\n",
    "fname = '/data_volume/ifn_hbec/tf_test/{}_{}_{}_{}.h5ad'.format('-'.join(ct), stim, tp, tf)\n",
    "adata_result = sc.read(fname)\n",
    "\n",
    "moments = memento.get_2d_moments(adata_result, groupby='time')\n",
    "res_df = memento.get_2d_ht_result(adata_result)\n",
    "# rel_res_df = memento.get_2d_ht_result(adata_stim)"
   ]
  },
  {
   "cell_type": "code",
   "execution_count": 106,
   "metadata": {},
   "outputs": [
    {
     "data": {
      "text/html": [
       "<div>\n",
       "<style scoped>\n",
       "    .dataframe tbody tr th:only-of-type {\n",
       "        vertical-align: middle;\n",
       "    }\n",
       "\n",
       "    .dataframe tbody tr th {\n",
       "        vertical-align: top;\n",
       "    }\n",
       "\n",
       "    .dataframe thead th {\n",
       "        text-align: right;\n",
       "    }\n",
       "</style>\n",
       "<table border=\"1\" class=\"dataframe\">\n",
       "  <thead>\n",
       "    <tr style=\"text-align: right;\">\n",
       "      <th></th>\n",
       "      <th>gene_1</th>\n",
       "      <th>gene_2</th>\n",
       "      <th>time_3</th>\n",
       "      <th>time_0</th>\n",
       "    </tr>\n",
       "  </thead>\n",
       "  <tbody>\n",
       "    <tr>\n",
       "      <th>324</th>\n",
       "      <td>STAT1</td>\n",
       "      <td>HLA-F</td>\n",
       "      <td>0.516336</td>\n",
       "      <td>0.303196</td>\n",
       "    </tr>\n",
       "    <tr>\n",
       "      <th>325</th>\n",
       "      <td>STAT1</td>\n",
       "      <td>HLA-A</td>\n",
       "      <td>0.435438</td>\n",
       "      <td>0.184255</td>\n",
       "    </tr>\n",
       "    <tr>\n",
       "      <th>326</th>\n",
       "      <td>STAT1</td>\n",
       "      <td>HLA-E</td>\n",
       "      <td>0.626379</td>\n",
       "      <td>0.415575</td>\n",
       "    </tr>\n",
       "    <tr>\n",
       "      <th>327</th>\n",
       "      <td>STAT1</td>\n",
       "      <td>HLA-C</td>\n",
       "      <td>0.530611</td>\n",
       "      <td>0.319793</td>\n",
       "    </tr>\n",
       "    <tr>\n",
       "      <th>328</th>\n",
       "      <td>STAT1</td>\n",
       "      <td>HLA-B</td>\n",
       "      <td>0.437998</td>\n",
       "      <td>0.201227</td>\n",
       "    </tr>\n",
       "  </tbody>\n",
       "</table>\n",
       "</div>"
      ],
      "text/plain": [
       "    gene_1 gene_2    time_3    time_0\n",
       "324  STAT1  HLA-F  0.516336  0.303196\n",
       "325  STAT1  HLA-A  0.435438  0.184255\n",
       "326  STAT1  HLA-E  0.626379  0.415575\n",
       "327  STAT1  HLA-C  0.530611  0.319793\n",
       "328  STAT1  HLA-B  0.437998  0.201227"
      ]
     },
     "execution_count": 106,
     "metadata": {},
     "output_type": "execute_result"
    }
   ],
   "source": [
    "moments.query('gene_2.str.startswith(\"HLA-\")', engine='python')"
   ]
  },
  {
   "cell_type": "code",
   "execution_count": 80,
   "metadata": {},
   "outputs": [],
   "source": [
    "wired_pairs = moments.query('time_0 > 0.25 | time_{} > 0.25'.format(tp))"
   ]
  },
  {
   "cell_type": "code",
   "execution_count": 81,
   "metadata": {},
   "outputs": [],
   "source": [
    "filtered_res_df = df.merge(wired_pairs, on=['gene_1', 'gene_2'])\n",
    "filtered_res_df['corr_fdr'] = memento.util._fdrcorrect(filtered_res_df['corr_pval'])"
   ]
  },
  {
   "cell_type": "code",
   "execution_count": null,
   "metadata": {},
   "outputs": [],
   "source": [
    "for g in filtered_res_df.query('corr_fdr < 0.1 & corr_coef > 0').gene_2.tolist():\n",
    "    print(g)"
   ]
  },
  {
   "cell_type": "code",
   "execution_count": 52,
   "metadata": {},
   "outputs": [
    {
     "data": {
      "text/plain": [
       "(869, 7)"
      ]
     },
     "execution_count": 52,
     "metadata": {},
     "output_type": "execute_result"
    }
   ],
   "source": [
    "filtered_res_df.shape"
   ]
  },
  {
   "cell_type": "code",
   "execution_count": 53,
   "metadata": {},
   "outputs": [
    {
     "data": {
      "text/plain": [
       "(891, 5)"
      ]
     },
     "execution_count": 53,
     "metadata": {},
     "output_type": "execute_result"
    }
   ],
   "source": [
    "res_df.shape"
   ]
  },
  {
   "cell_type": "markdown",
   "metadata": {},
   "source": [
    "### Re-run the STAT1 anaylsis for subset"
   ]
  },
  {
   "cell_type": "code",
   "execution_count": 15,
   "metadata": {},
   "outputs": [
    {
     "name": "stdout",
     "output_type": "stream",
     "text": [
      "starting ['ciliated'] 3 alpha\n",
      "starting ['ciliated'] 3 beta\n",
      "starting ['ciliated'] 3 gamma\n"
     ]
    },
    {
     "name": "stderr",
     "output_type": "stream",
     "text": [
      "/data/home/Github/scrna-parameter-estimation/dist/memento-0.0.4-py3.7.egg/memento/main.py:578: RuntimeWarning: invalid value encountered in true_divide\n"
     ]
    },
    {
     "name": "stdout",
     "output_type": "stream",
     "text": [
      "starting ['ciliated'] 3 lambda\n",
      "starting ['ciliated'] 6 alpha\n",
      "starting ['ciliated'] 6 beta\n",
      "starting ['ciliated'] 6 gamma\n",
      "starting ['ciliated'] 6 lambda\n",
      "starting ['ciliated'] 9 alpha\n",
      "starting ['ciliated'] 9 beta\n",
      "starting ['ciliated'] 9 gamma\n",
      "starting ['ciliated'] 9 lambda\n",
      "starting ['ciliated'] 24 alpha\n",
      "starting ['ciliated'] 24 beta\n",
      "starting ['ciliated'] 24 gamma\n",
      "starting ['ciliated'] 24 lambda\n",
      "starting ['ciliated'] 48 alpha\n",
      "starting ['ciliated'] 48 beta\n",
      "starting ['ciliated'] 48 gamma\n",
      "starting ['ciliated'] 48 lambda\n"
     ]
    }
   ],
   "source": [
    "tf = 'STAT1'\n",
    "\n",
    "cts = [['ciliated']]\n",
    "tps = ['3', '6', '9', '24', '48']\n",
    "stims = ['alpha', 'beta', 'gamma', 'lambda']\n",
    "\n",
    "\n",
    "for ct in cts:\n",
    "    for tp in tps:\n",
    "        for stim in stims:\n",
    "            \n",
    "#             fname = '{}_{}_{}_{}.h5ad'.format('-'.join(ct), stim, tp, tf)\n",
    "#             if fname in done_files:\n",
    "#                 continue\n",
    "                            \n",
    "            print('starting', ct, tp, stim)\n",
    "\n",
    "            adata_stim = adata.copy()[\n",
    "                adata.obs.cell_type.isin(ct) & \\\n",
    "                adata.obs.stim.isin(['control', stim]) & \\\n",
    "                adata.obs.time.isin(['0',tp]), :].copy()\n",
    "            time_converter={0:0, int(tp):1}\n",
    "            adata_stim.obs['time_step'] = adata_stim.obs['time'].astype(int).apply(lambda x: time_converter[x])\n",
    "\n",
    "            memento.create_groups(adata_stim, label_columns=['time_step', 'donor'])\n",
    "            memento.compute_1d_moments(adata_stim, min_perc_group=.9)\n",
    "            \n",
    "            gene_list = adata_stim.var.index.tolist()\n",
    "            \n",
    "            memento.compute_2d_moments(adata_stim, list(itertools.product([tf], adata_stim.var.index)))\n",
    "\n",
    "            moment_df = memento.get_2d_moments(adata_stim, groupby='time_step')\n",
    "            moment_df.to_csv('/data_volume/ifn_hbec/tf_test/moments_{}_{}_{}_{}.csv'.format('-'.join(ct), stim, tp, tf), index=False)\n",
    "#             gene_list = adata_stim.var.index.tolist()#moment_df[(moment_df['time_step_0'] > 0.35) | (moment_df['time_step_1'] > 0.35)].gene_2.tolist()\n",
    "\n",
    "#             memento.compute_2d_moments(adata_stim, list(itertools.product([tf], gene_list)))\n",
    "\n",
    "#             memento.ht_2d_moments( \n",
    "#                 adata_stim, \n",
    "#                 formula_like='1 + time_step',\n",
    "#                 cov_column='time_step', \n",
    "#                 num_boot=10000, \n",
    "#                 verbose=1,\n",
    "#                 num_cpus=13)\n",
    "\n",
    "#             if 'mv_regressor' in adata_stim.uns['memento']:\n",
    "#                 del adata_stim.uns['memento']['mv_regressor']\n",
    "#             adata_stim.write('/data_volume/ifn_hbec/tf_test/{}_{}_{}_{}.h5ad'.format('-'.join(ct), stim, tp, tf))"
   ]
  },
  {
   "cell_type": "markdown",
   "metadata": {},
   "source": [
    "### Compile STAT1 DC and correlation status"
   ]
  },
  {
   "cell_type": "code",
   "execution_count": 140,
   "metadata": {},
   "outputs": [],
   "source": [
    "stim = 'gamma'\n",
    "ct = ['ciliated']\n",
    "tf = 'STAT1'"
   ]
  },
  {
   "cell_type": "code",
   "execution_count": 141,
   "metadata": {},
   "outputs": [
    {
     "name": "stdout",
     "output_type": "stream",
     "text": [
      "3\n",
      "6\n",
      "9\n",
      "24\n",
      "48\n"
     ]
    }
   ],
   "source": [
    "\n",
    "for tp in ['3', '6', '9', '24', '48']:\n",
    "    \n",
    "    print(tp)\n",
    "\n",
    "    fname = '/data_volume/ifn_hbec/tf_test/{}_{}_{}_{}.h5ad'.format('-'.join(ct), stim, tp, tf)\n",
    "    adata_result = sc.read(fname)\n",
    "    \n",
    "#     moments = memento.get_2d_moments(adata_result, groupby='time_step').rename(columns={'time_step_0':'time_0', 'time_step_1':'time_'+tp})\n",
    "    moments = pd.read_csv('/data_volume/ifn_hbec/tf_test/moments_{}_{}_{}_{}.csv'.format('-'.join(ct), stim, tp, tf)).rename(columns={'time_step_0':'time_0', 'time_step_1':'time_'+tp})\n",
    "    res_df = memento.get_2d_ht_result(adata_result)\\\n",
    "        .rename(columns={\n",
    "            'corr_coef':'corr_coef' + '_' + tp,\n",
    "            'corr_pval':'corr_pval' + '_' + tp})\n",
    "    \n",
    "    if tp == '3':\n",
    "\n",
    "        pv_df = res_df[['gene_1', 'gene_2', 'corr_pval' + '_' + tp]].copy()\n",
    "        coef_df = res_df[['gene_1', 'gene_2', 'corr_coef' + '_' + tp]].copy()\n",
    "        moment_df = moments[['gene_1', 'gene_2', 'time_0', 'time_3']].copy()\n",
    "        \n",
    "    else:\n",
    "        \n",
    "        pv_df = pv_df.merge(res_df[['gene_1', 'gene_2', 'corr_pval' + '_' + tp]].copy(), on=['gene_1', 'gene_2'], how='outer')\n",
    "        coef_df = coef_df.merge(res_df[['gene_1', 'gene_2', 'corr_coef' + '_' + tp]].copy(), on=['gene_1', 'gene_2'], how='outer')\n",
    "        moment_df = moment_df.merge(moments[['gene_1', 'gene_2', 'time_{}'.format(tp)]].copy(), on=['gene_1', 'gene_2'], how='outer')\n",
    "    \n",
    "    \n",
    "    "
   ]
  },
  {
   "cell_type": "code",
   "execution_count": 142,
   "metadata": {},
   "outputs": [
    {
     "data": {
      "text/html": [
       "<div>\n",
       "<style scoped>\n",
       "    .dataframe tbody tr th:only-of-type {\n",
       "        vertical-align: middle;\n",
       "    }\n",
       "\n",
       "    .dataframe tbody tr th {\n",
       "        vertical-align: top;\n",
       "    }\n",
       "\n",
       "    .dataframe thead th {\n",
       "        text-align: right;\n",
       "    }\n",
       "</style>\n",
       "<table border=\"1\" class=\"dataframe\">\n",
       "  <thead>\n",
       "    <tr style=\"text-align: right;\">\n",
       "      <th></th>\n",
       "      <th>gene_1</th>\n",
       "      <th>gene_2</th>\n",
       "      <th>time_0</th>\n",
       "      <th>time_3</th>\n",
       "      <th>time_6</th>\n",
       "      <th>time_9</th>\n",
       "      <th>time_24</th>\n",
       "      <th>time_48</th>\n",
       "    </tr>\n",
       "  </thead>\n",
       "  <tbody>\n",
       "    <tr>\n",
       "      <th>3094</th>\n",
       "      <td>STAT1</td>\n",
       "      <td>HLA-A</td>\n",
       "      <td>0.172667</td>\n",
       "      <td>0.264742</td>\n",
       "      <td>0.196805</td>\n",
       "      <td>0.136728</td>\n",
       "      <td>0.101051</td>\n",
       "      <td>0.097405</td>\n",
       "    </tr>\n",
       "    <tr>\n",
       "      <th>3115</th>\n",
       "      <td>STAT1</td>\n",
       "      <td>HLA-C</td>\n",
       "      <td>0.314121</td>\n",
       "      <td>0.397101</td>\n",
       "      <td>0.337141</td>\n",
       "      <td>0.287205</td>\n",
       "      <td>0.147436</td>\n",
       "      <td>0.177297</td>\n",
       "    </tr>\n",
       "    <tr>\n",
       "      <th>3116</th>\n",
       "      <td>STAT1</td>\n",
       "      <td>HLA-B</td>\n",
       "      <td>0.196586</td>\n",
       "      <td>0.293571</td>\n",
       "      <td>0.286509</td>\n",
       "      <td>0.216158</td>\n",
       "      <td>0.123979</td>\n",
       "      <td>0.082816</td>\n",
       "    </tr>\n",
       "    <tr>\n",
       "      <th>6658</th>\n",
       "      <td>STAT1</td>\n",
       "      <td>B2M</td>\n",
       "      <td>0.177316</td>\n",
       "      <td>0.238690</td>\n",
       "      <td>0.196549</td>\n",
       "      <td>0.146857</td>\n",
       "      <td>0.054398</td>\n",
       "      <td>0.054794</td>\n",
       "    </tr>\n",
       "  </tbody>\n",
       "</table>\n",
       "</div>"
      ],
      "text/plain": [
       "     gene_1 gene_2    time_0    time_3    time_6    time_9   time_24   time_48\n",
       "3094  STAT1  HLA-A  0.172667  0.264742  0.196805  0.136728  0.101051  0.097405\n",
       "3115  STAT1  HLA-C  0.314121  0.397101  0.337141  0.287205  0.147436  0.177297\n",
       "3116  STAT1  HLA-B  0.196586  0.293571  0.286509  0.216158  0.123979  0.082816\n",
       "6658  STAT1    B2M  0.177316  0.238690  0.196549  0.146857  0.054398  0.054794"
      ]
     },
     "execution_count": 142,
     "metadata": {},
     "output_type": "execute_result"
    }
   ],
   "source": [
    "moment_df.query('gene_2.isin([\"HLA-A\", \"HLA-B\", \"HLA-C\", \"B2M\"])', engine='python')"
   ]
  },
  {
   "cell_type": "markdown",
   "metadata": {},
   "source": [
    "### Check 2D moments over time"
   ]
  },
  {
   "cell_type": "code",
   "execution_count": 153,
   "metadata": {},
   "outputs": [],
   "source": [
    "isg_genes = ['GBP1']"
   ]
  },
  {
   "cell_type": "code",
   "execution_count": 154,
   "metadata": {},
   "outputs": [
    {
     "data": {
      "text/html": [
       "<div>\n",
       "<style scoped>\n",
       "    .dataframe tbody tr th:only-of-type {\n",
       "        vertical-align: middle;\n",
       "    }\n",
       "\n",
       "    .dataframe tbody tr th {\n",
       "        vertical-align: top;\n",
       "    }\n",
       "\n",
       "    .dataframe thead th {\n",
       "        text-align: right;\n",
       "    }\n",
       "</style>\n",
       "<table border=\"1\" class=\"dataframe\">\n",
       "  <thead>\n",
       "    <tr style=\"text-align: right;\">\n",
       "      <th></th>\n",
       "      <th>gene_1</th>\n",
       "      <th>gene_2</th>\n",
       "      <th>time_0</th>\n",
       "      <th>time_3</th>\n",
       "      <th>time_6</th>\n",
       "      <th>time_9</th>\n",
       "      <th>time_24</th>\n",
       "      <th>time_48</th>\n",
       "    </tr>\n",
       "  </thead>\n",
       "  <tbody>\n",
       "    <tr>\n",
       "      <th>450</th>\n",
       "      <td>STAT1</td>\n",
       "      <td>GBP1</td>\n",
       "      <td>0.552696</td>\n",
       "      <td>0.600947</td>\n",
       "      <td>0.589076</td>\n",
       "      <td>0.650046</td>\n",
       "      <td>0.637277</td>\n",
       "      <td>0.630829</td>\n",
       "    </tr>\n",
       "  </tbody>\n",
       "</table>\n",
       "</div>"
      ],
      "text/plain": [
       "    gene_1 gene_2    time_0    time_3    time_6    time_9   time_24   time_48\n",
       "450  STAT1   GBP1  0.552696  0.600947  0.589076  0.650046  0.637277  0.630829"
      ]
     },
     "execution_count": 154,
     "metadata": {},
     "output_type": "execute_result"
    }
   ],
   "source": [
    "moment_df.query('gene_2.isin(@isg_genes)', engine='python')"
   ]
  },
  {
   "cell_type": "code",
   "execution_count": 157,
   "metadata": {},
   "outputs": [
    {
     "data": {
      "text/plain": [
       "<matplotlib.legend.Legend at 0x7f25e7928210>"
      ]
     },
     "execution_count": 157,
     "metadata": {},
     "output_type": "execute_result"
    },
    {
     "data": {
      "image/png": "[encoded data removed]",
      "text/plain": [
       "<Figure size 144x144 with 1 Axes>"
      ]
     },
     "metadata": {
      "needs_background": "light"
     },
     "output_type": "display_data"
    }
   ],
   "source": [
    "tf = 'STAT1'\n",
    "plt.figure(figsize=(2,2))\n",
    "plt.plot(moment_df.query('gene_2.isin(@isg_genes)', engine='python').values[:, 2:].T, '-o')\n",
    "plt.ylim(0, 0.8)\n",
    "plt.xticks([0, 1, 2, 3, 4, 5], ['0', '3', '6', '9', '24', '48'])\n",
    "plt.xlabel('Time (hr)'); plt.ylabel('Corr {}'.format(tf))\n",
    "plt.legend(moment_df.query('gene_2.isin(@isg_genes)', engine='python').gene_2.tolist(), loc='center right', frameon=False, bbox_to_anchor=(1.7, 0.5))"
   ]
  },
  {
   "cell_type": "code",
   "execution_count": 139,
   "metadata": {},
   "outputs": [
    {
     "data": {
      "text/html": [
       "<div>\n",
       "<style scoped>\n",
       "    .dataframe tbody tr th:only-of-type {\n",
       "        vertical-align: middle;\n",
       "    }\n",
       "\n",
       "    .dataframe tbody tr th {\n",
       "        vertical-align: top;\n",
       "    }\n",
       "\n",
       "    .dataframe thead th {\n",
       "        text-align: right;\n",
       "    }\n",
       "</style>\n",
       "<table border=\"1\" class=\"dataframe\">\n",
       "  <thead>\n",
       "    <tr style=\"text-align: right;\">\n",
       "      <th></th>\n",
       "      <th>gene_1</th>\n",
       "      <th>gene_2</th>\n",
       "      <th>time_0</th>\n",
       "      <th>time_3</th>\n",
       "      <th>time_6</th>\n",
       "      <th>time_9</th>\n",
       "      <th>time_24</th>\n",
       "      <th>time_48</th>\n",
       "    </tr>\n",
       "  </thead>\n",
       "  <tbody>\n",
       "    <tr>\n",
       "      <th>3097</th>\n",
       "      <td>STAT1</td>\n",
       "      <td>HLA-A</td>\n",
       "      <td>0.184255</td>\n",
       "      <td>0.275632</td>\n",
       "      <td>0.204322</td>\n",
       "      <td>0.135832</td>\n",
       "      <td>0.103195</td>\n",
       "      <td>0.100389</td>\n",
       "    </tr>\n",
       "    <tr>\n",
       "      <th>3118</th>\n",
       "      <td>STAT1</td>\n",
       "      <td>HLA-C</td>\n",
       "      <td>0.319793</td>\n",
       "      <td>0.405229</td>\n",
       "      <td>0.340785</td>\n",
       "      <td>0.283306</td>\n",
       "      <td>0.145822</td>\n",
       "      <td>0.176469</td>\n",
       "    </tr>\n",
       "    <tr>\n",
       "      <th>3119</th>\n",
       "      <td>STAT1</td>\n",
       "      <td>HLA-B</td>\n",
       "      <td>0.201227</td>\n",
       "      <td>0.302763</td>\n",
       "      <td>0.290189</td>\n",
       "      <td>0.211899</td>\n",
       "      <td>0.122095</td>\n",
       "      <td>0.082566</td>\n",
       "    </tr>\n",
       "    <tr>\n",
       "      <th>6662</th>\n",
       "      <td>STAT1</td>\n",
       "      <td>B2M</td>\n",
       "      <td>0.184621</td>\n",
       "      <td>0.249761</td>\n",
       "      <td>0.203064</td>\n",
       "      <td>0.147616</td>\n",
       "      <td>0.055379</td>\n",
       "      <td>0.055576</td>\n",
       "    </tr>\n",
       "  </tbody>\n",
       "</table>\n",
       "</div>"
      ],
      "text/plain": [
       "     gene_1 gene_2    time_0    time_3    time_6    time_9   time_24   time_48\n",
       "3097  STAT1  HLA-A  0.184255  0.275632  0.204322  0.135832  0.103195  0.100389\n",
       "3118  STAT1  HLA-C  0.319793  0.405229  0.340785  0.283306  0.145822  0.176469\n",
       "3119  STAT1  HLA-B  0.201227  0.302763  0.290189  0.211899  0.122095  0.082566\n",
       "6662  STAT1    B2M  0.184621  0.249761  0.203064  0.147616  0.055379  0.055576"
      ]
     },
     "execution_count": 139,
     "metadata": {},
     "output_type": "execute_result"
    }
   ],
   "source": [
    "moment_df.query('gene_2.isin([\"HLA-A\", \"HLA-B\", \"HLA-C\", \"B2M\"])', engine='python')"
   ]
  },
  {
   "cell_type": "code",
   "execution_count": 117,
   "metadata": {},
   "outputs": [
    {
     "data": {
      "text/html": [
       "<div>\n",
       "<style scoped>\n",
       "    .dataframe tbody tr th:only-of-type {\n",
       "        vertical-align: middle;\n",
       "    }\n",
       "\n",
       "    .dataframe tbody tr th {\n",
       "        vertical-align: top;\n",
       "    }\n",
       "\n",
       "    .dataframe thead th {\n",
       "        text-align: right;\n",
       "    }\n",
       "</style>\n",
       "<table border=\"1\" class=\"dataframe\">\n",
       "  <thead>\n",
       "    <tr style=\"text-align: right;\">\n",
       "      <th></th>\n",
       "      <th>gene_1</th>\n",
       "      <th>gene_2</th>\n",
       "      <th>corr_coef_3</th>\n",
       "      <th>corr_coef_6</th>\n",
       "      <th>corr_coef_9</th>\n",
       "      <th>corr_coef_24</th>\n",
       "      <th>corr_coef_48</th>\n",
       "    </tr>\n",
       "  </thead>\n",
       "  <tbody>\n",
       "    <tr>\n",
       "      <th>325</th>\n",
       "      <td>STAT1</td>\n",
       "      <td>HLA-A</td>\n",
       "      <td>0.404269</td>\n",
       "      <td>0.387095</td>\n",
       "      <td>NaN</td>\n",
       "      <td>NaN</td>\n",
       "      <td>NaN</td>\n",
       "    </tr>\n",
       "    <tr>\n",
       "      <th>327</th>\n",
       "      <td>STAT1</td>\n",
       "      <td>HLA-C</td>\n",
       "      <td>0.273931</td>\n",
       "      <td>0.351479</td>\n",
       "      <td>0.211282</td>\n",
       "      <td>0.15942</td>\n",
       "      <td>NaN</td>\n",
       "    </tr>\n",
       "    <tr>\n",
       "      <th>328</th>\n",
       "      <td>STAT1</td>\n",
       "      <td>HLA-B</td>\n",
       "      <td>0.381630</td>\n",
       "      <td>0.406874</td>\n",
       "      <td>NaN</td>\n",
       "      <td>NaN</td>\n",
       "      <td>NaN</td>\n",
       "    </tr>\n",
       "    <tr>\n",
       "      <th>649</th>\n",
       "      <td>STAT1</td>\n",
       "      <td>B2M</td>\n",
       "      <td>0.291344</td>\n",
       "      <td>0.413924</td>\n",
       "      <td>NaN</td>\n",
       "      <td>NaN</td>\n",
       "      <td>NaN</td>\n",
       "    </tr>\n",
       "  </tbody>\n",
       "</table>\n",
       "</div>"
      ],
      "text/plain": [
       "    gene_1 gene_2  corr_coef_3  corr_coef_6  corr_coef_9  corr_coef_24  \\\n",
       "325  STAT1  HLA-A     0.404269     0.387095          NaN           NaN   \n",
       "327  STAT1  HLA-C     0.273931     0.351479     0.211282       0.15942   \n",
       "328  STAT1  HLA-B     0.381630     0.406874          NaN           NaN   \n",
       "649  STAT1    B2M     0.291344     0.413924          NaN           NaN   \n",
       "\n",
       "     corr_coef_48  \n",
       "325           NaN  \n",
       "327           NaN  \n",
       "328           NaN  \n",
       "649           NaN  "
      ]
     },
     "execution_count": 117,
     "metadata": {},
     "output_type": "execute_result"
    }
   ],
   "source": [
    "coef_df.query('gene_2.isin([\"HLA-A\", \"HLA-B\", \"HLA-C\", \"B2M\"])', engine='python')"
   ]
  },
  {
   "cell_type": "code",
   "execution_count": 140,
   "metadata": {},
   "outputs": [
    {
     "data": {
      "text/html": [
       "<div>\n",
       "<style scoped>\n",
       "    .dataframe tbody tr th:only-of-type {\n",
       "        vertical-align: middle;\n",
       "    }\n",
       "\n",
       "    .dataframe tbody tr th {\n",
       "        vertical-align: top;\n",
       "    }\n",
       "\n",
       "    .dataframe thead th {\n",
       "        text-align: right;\n",
       "    }\n",
       "</style>\n",
       "<table border=\"1\" class=\"dataframe\">\n",
       "  <thead>\n",
       "    <tr style=\"text-align: right;\">\n",
       "      <th></th>\n",
       "      <th>gene_1</th>\n",
       "      <th>gene_2</th>\n",
       "      <th>corr_pval_3</th>\n",
       "      <th>corr_pval_6</th>\n",
       "      <th>corr_pval_9</th>\n",
       "      <th>corr_pval_24</th>\n",
       "      <th>corr_pval_48</th>\n",
       "    </tr>\n",
       "  </thead>\n",
       "  <tbody>\n",
       "    <tr>\n",
       "      <th>216</th>\n",
       "      <td>STAT1</td>\n",
       "      <td>HLA-C</td>\n",
       "      <td>0.072993</td>\n",
       "      <td>NaN</td>\n",
       "      <td>NaN</td>\n",
       "      <td>NaN</td>\n",
       "      <td>NaN</td>\n",
       "    </tr>\n",
       "  </tbody>\n",
       "</table>\n",
       "</div>"
      ],
      "text/plain": [
       "    gene_1 gene_2  corr_pval_3  corr_pval_6  corr_pval_9  corr_pval_24  \\\n",
       "216  STAT1  HLA-C     0.072993          NaN          NaN           NaN   \n",
       "\n",
       "     corr_pval_48  \n",
       "216           NaN  "
      ]
     },
     "execution_count": 140,
     "metadata": {},
     "output_type": "execute_result"
    }
   ],
   "source": [
    "pv_df.query('gene_2.isin([\"HLA-A\", \"HLA-B\", \"HLA-C\", \"B2M\"])', engine='python')"
   ]
  },
  {
   "cell_type": "code",
   "execution_count": 69,
   "metadata": {},
   "outputs": [],
   "source": [
    "vals = moment_df.query('gene_2.isin([\"HLA-A\", \"HLA-B\", \"HLA-C\", \"B2M\"])', engine='python').values[:, 2:]\n",
    "# vals = moment_df.query('gene_2.isin(@isg_genes)', engine='python').values[:, 2:]"
   ]
  },
  {
   "cell_type": "code",
   "execution_count": 70,
   "metadata": {},
   "outputs": [
    {
     "data": {
      "text/plain": [
       "[<matplotlib.lines.Line2D at 0x7fa7c46c55d0>,\n",
       " <matplotlib.lines.Line2D at 0x7fa7c536f510>,\n",
       " <matplotlib.lines.Line2D at 0x7fa7c536f6d0>,\n",
       " <matplotlib.lines.Line2D at 0x7fa7c536f890>]"
      ]
     },
     "execution_count": 70,
     "metadata": {},
     "output_type": "execute_result"
    },
    {
     "data": {
      "image/png": "[encoded data removed]",
      "text/plain": [
       "<Figure size 432x288 with 1 Axes>"
      ]
     },
     "metadata": {
      "needs_background": "light"
     },
     "output_type": "display_data"
    }
   ],
   "source": [
    "plt.plot(vals.T)"
   ]
  },
  {
   "cell_type": "markdown",
   "metadata": {},
   "source": [
    "### Check some expresssion level over time"
   ]
  },
  {
   "cell_type": "code",
   "execution_count": 11,
   "metadata": {},
   "outputs": [],
   "source": [
    "stim = 'beta'\n",
    "ct = ['ciliated',]"
   ]
  },
  {
   "cell_type": "code",
   "execution_count": 12,
   "metadata": {},
   "outputs": [
    {
     "name": "stderr",
     "output_type": "stream",
     "text": [
      "/data/home/Github/scrna-parameter-estimation/dist/memento-0.0.4-py3.7.egg/memento/estimator.py:100: RuntimeWarning: invalid value encountered in log\n"
     ]
    }
   ],
   "source": [
    "subset = adata[adata.obs['cell_type'].isin(ct) & adata.obs.stim.isin(['control', stim])].copy().copy()\n",
    "memento.create_groups(subset, label_columns=['time', 'donor'])\n",
    "memento.compute_1d_moments(subset, min_perc_group=.9)\n",
    "mean_df = memento.get_1d_moments(subset, groupby='time')[0][['gene'] + ['time_' + str(i) for i in [0, 3, 6, 9, 24, 48]]]\n",
    "var_df = memento.get_1d_moments(subset, groupby='time')[1][['gene'] + ['time_' + str(i) for i in [0, 3, 6, 9, 24, 48]]]"
   ]
  },
  {
   "cell_type": "code",
   "execution_count": 13,
   "metadata": {},
   "outputs": [
    {
     "data": {
      "text/plain": [
       "[<matplotlib.lines.Line2D at 0x7fb881b41390>]"
      ]
     },
     "execution_count": 13,
     "metadata": {},
     "output_type": "execute_result"
    },
    {
     "data": {
      "image/png": "[encoded data removed]",
      "text/plain": [
       "<Figure size 432x288 with 1 Axes>"
      ]
     },
     "metadata": {
      "needs_background": "light"
     },
     "output_type": "display_data"
    }
   ],
   "source": [
    "plt.plot(mean_df.query('gene.isin([\"STAT1\"])', engine='python').values[0, 1:])"
   ]
  },
  {
   "cell_type": "code",
   "execution_count": 14,
   "metadata": {},
   "outputs": [
    {
     "data": {
      "text/plain": [
       "[<matplotlib.lines.Line2D at 0x7fb8810d28d0>]"
      ]
     },
     "execution_count": 14,
     "metadata": {},
     "output_type": "execute_result"
    },
    {
     "data": {
      "image/png": "[encoded data removed]",
      "text/plain": [
       "<Figure size 432x288 with 1 Axes>"
      ]
     },
     "metadata": {
      "needs_background": "light"
     },
     "output_type": "display_data"
    }
   ],
   "source": [
    "plt.plot(var_df.query('gene.isin([\"STAT1\"])', engine='python').values[0, 1:])"
   ]
  },
  {
   "cell_type": "code",
   "execution_count": null,
   "metadata": {},
   "outputs": [],
   "source": []
  },
  {
   "cell_type": "code",
   "execution_count": null,
   "metadata": {},
   "outputs": [],
   "source": []
  },
  {
   "cell_type": "code",
   "execution_count": 15,
   "metadata": {},
   "outputs": [],
   "source": [
    "isg_genes = ['ISG15', 'MX1', 'MX2', 'ISG15', 'OAS1', 'OAS2', 'OAS3', 'OASL',]"
   ]
  },
  {
   "cell_type": "code",
   "execution_count": 16,
   "metadata": {},
   "outputs": [],
   "source": [
    "isg_mat = mean_df.query('gene.isin(@isg_genes)', engine='python').values[:, 1:]\n",
    "\n",
    "c1_mat = mean_df.query('gene.isin([\"HLA-A\", \"HLA-B\", \"HLA-C\", \"B2M\"])', engine='python').values[:, 1:]\n",
    "# c1_mat = c1_mat/c1_mat[:, 0].reshape(-1,1)"
   ]
  },
  {
   "cell_type": "code",
   "execution_count": 17,
   "metadata": {},
   "outputs": [
    {
     "data": {
      "text/plain": [
       "array([['STAT1', 'CREB3', 'KLF6'],\n",
       "       [0.378761887550354, -0.5750117301940918, 1.1166375875473022],\n",
       "       [1.607923150062561, -0.56675124168396, 1.3483425378799438],\n",
       "       [1.8231121301651, -0.6197191476821899, 1.5926910638809204],\n",
       "       [1.9202326536178589, -0.5898769497871399, 1.3491123914718628],\n",
       "       [1.8513927459716797, -0.6063563823699951, 1.369952917098999],\n",
       "       [1.5582482814788818, -0.5866938829421997, 1.5489485263824463]],\n",
       "      dtype=object)"
      ]
     },
     "execution_count": 17,
     "metadata": {},
     "output_type": "execute_result"
    }
   ],
   "source": [
    "mean_df.query('gene.isin([\"CREB3\", \"STAT1\", \"KLF6\", \"JUN\"])', engine='python').values[1:].T"
   ]
  },
  {
   "cell_type": "code",
   "execution_count": 18,
   "metadata": {},
   "outputs": [
    {
     "data": {
      "text/plain": [
       "417"
      ]
     },
     "execution_count": 18,
     "metadata": {},
     "output_type": "execute_result"
    }
   ],
   "source": [
    "len(list(set(tfs) & set(subset.var.index)))"
   ]
  },
  {
   "cell_type": "raw",
   "metadata": {},
   "source": [
    "for tf in list(set(tfs) & set(subset.var.index)):\n",
    "    plt.figure()\n",
    "    plt.plot(mean_df.query('gene.isin([\"{}\"])'.format(tf), engine='python').values[:, 1:].T);\n",
    "    plt.savefig('./temp_fig/{}.png'.format(tf)); plt.close()"
   ]
  },
  {
   "cell_type": "code",
   "execution_count": 19,
   "metadata": {},
   "outputs": [
    {
     "data": {
      "text/plain": [
       "[<matplotlib.lines.Line2D at 0x7fb8810c27d0>,\n",
       " <matplotlib.lines.Line2D at 0x7fb8810c2a50>,\n",
       " <matplotlib.lines.Line2D at 0x7fb8810c2c10>,\n",
       " <matplotlib.lines.Line2D at 0x7fb8810c2dd0>]"
      ]
     },
     "execution_count": 19,
     "metadata": {},
     "output_type": "execute_result"
    },
    {
     "data": {
      "image/png": "[encoded data removed]",
      "text/plain": [
       "<Figure size 432x288 with 1 Axes>"
      ]
     },
     "metadata": {
      "needs_background": "light"
     },
     "output_type": "display_data"
    }
   ],
   "source": [
    "plt.plot(mean_df.query('gene.isin([\"CREB3\", \"STAT1\", \"KLF6\", \"JUN\"])', engine='python').values[:, 1:].T)"
   ]
  },
  {
   "cell_type": "code",
   "execution_count": 20,
   "metadata": {},
   "outputs": [
    {
     "data": {
      "text/html": [
       "<div>\n",
       "<style scoped>\n",
       "    .dataframe tbody tr th:only-of-type {\n",
       "        vertical-align: middle;\n",
       "    }\n",
       "\n",
       "    .dataframe tbody tr th {\n",
       "        vertical-align: top;\n",
       "    }\n",
       "\n",
       "    .dataframe thead th {\n",
       "        text-align: right;\n",
       "    }\n",
       "</style>\n",
       "<table border=\"1\" class=\"dataframe\">\n",
       "  <thead>\n",
       "    <tr style=\"text-align: right;\">\n",
       "      <th></th>\n",
       "      <th>gene</th>\n",
       "      <th>time_0</th>\n",
       "      <th>time_3</th>\n",
       "      <th>time_6</th>\n",
       "      <th>time_9</th>\n",
       "      <th>time_24</th>\n",
       "      <th>time_48</th>\n",
       "    </tr>\n",
       "  </thead>\n",
       "  <tbody>\n",
       "    <tr>\n",
       "      <th>3221</th>\n",
       "      <td>HLA-A</td>\n",
       "      <td>1.656812</td>\n",
       "      <td>2.370405</td>\n",
       "      <td>2.487690</td>\n",
       "      <td>2.090583</td>\n",
       "      <td>2.035615</td>\n",
       "      <td>1.793220</td>\n",
       "    </tr>\n",
       "    <tr>\n",
       "      <th>3246</th>\n",
       "      <td>HLA-C</td>\n",
       "      <td>1.829254</td>\n",
       "      <td>2.479059</td>\n",
       "      <td>2.770877</td>\n",
       "      <td>2.521157</td>\n",
       "      <td>2.434578</td>\n",
       "      <td>2.142253</td>\n",
       "    </tr>\n",
       "    <tr>\n",
       "      <th>3247</th>\n",
       "      <td>HLA-B</td>\n",
       "      <td>1.967847</td>\n",
       "      <td>2.673597</td>\n",
       "      <td>2.807899</td>\n",
       "      <td>2.552474</td>\n",
       "      <td>2.472788</td>\n",
       "      <td>2.166302</td>\n",
       "    </tr>\n",
       "    <tr>\n",
       "      <th>6974</th>\n",
       "      <td>B2M</td>\n",
       "      <td>4.189476</td>\n",
       "      <td>4.438093</td>\n",
       "      <td>4.546697</td>\n",
       "      <td>4.348129</td>\n",
       "      <td>4.342992</td>\n",
       "      <td>4.125379</td>\n",
       "    </tr>\n",
       "  </tbody>\n",
       "</table>\n",
       "</div>"
      ],
      "text/plain": [
       "       gene    time_0    time_3    time_6    time_9   time_24   time_48\n",
       "3221  HLA-A  1.656812  2.370405  2.487690  2.090583  2.035615  1.793220\n",
       "3246  HLA-C  1.829254  2.479059  2.770877  2.521157  2.434578  2.142253\n",
       "3247  HLA-B  1.967847  2.673597  2.807899  2.552474  2.472788  2.166302\n",
       "6974    B2M  4.189476  4.438093  4.546697  4.348129  4.342992  4.125379"
      ]
     },
     "execution_count": 20,
     "metadata": {},
     "output_type": "execute_result"
    }
   ],
   "source": [
    "mean_df.query('gene.isin([\"HLA-A\", \"HLA-B\", \"HLA-C\", \"B2M\"])', engine='python')"
   ]
  },
  {
   "cell_type": "code",
   "execution_count": 24,
   "metadata": {},
   "outputs": [
    {
     "data": {
      "image/png": "[encoded data removed]",
      "text/plain": [
       "<Figure size 360x144 with 2 Axes>"
      ]
     },
     "metadata": {
      "needs_background": "light"
     },
     "output_type": "display_data"
    }
   ],
   "source": [
    "d = mean_df.query('gene.isin([\"REL\", \"NFKB2\"])', engine='python')\n",
    "plt.figure(figsize=(5,2))\n",
    "plt.subplots_adjust(wspace=0.4)\n",
    "locs = [1, 2]\n",
    "cs = [0, 2]\n",
    "num=0\n",
    "for idx, row in d.iterrows():\n",
    "    plt.subplot(1,2,locs[num])\n",
    "    plt.plot(row.values[1:], '-o')\n",
    "    plt.title(row['gene'])\n",
    "    plt.xticks([0, 1, 2, 3, 4, 5], ['0', '3', '6', '9', '24', '48'])\n",
    "    if num == 0:\n",
    "        plt.ylabel('Mean expr')\n",
    "    plt.xlabel('time (hr)')\n",
    "    num +=1\n",
    "\n",
    "plt.savefig(fig_path + 'mhc_aux_mean.pdf', bbox_inches='tight')\n"
   ]
  },
  {
   "cell_type": "code",
   "execution_count": 113,
   "metadata": {},
   "outputs": [
    {
     "data": {
      "image/png": "[encoded data removed]",
      "text/plain": [
       "<Figure size 252x144 with 4 Axes>"
      ]
     },
     "metadata": {
      "needs_background": "light"
     },
     "output_type": "display_data"
    }
   ],
   "source": [
    "d = mean_df.query('gene.isin([\"HLA-A\", \"HLA-B\", \"HLA-C\", \"B2M\"])', engine='python')\n",
    "plt.figure(figsize=(3.5,2))\n",
    "plt.subplots_adjust(wspace=0.4, hspace=0.9)\n",
    "locs = [1, 3, 2, 4]\n",
    "cs = [0, 2, 1, 3]\n",
    "num=0\n",
    "for idx, row in d.iterrows():\n",
    "    plt.subplot(2,2,locs[num])\n",
    "    plt.plot(row.values[1:], '-o', color='C'+str(cs[num]))\n",
    "    plt.title(row['gene'])\n",
    "    plt.xticks([0, 1, 2, 3, 4, 5], ['0', '3', '6', '9', '24', '48'])\n",
    "    num +=1\n",
    "plt.savefig(fig_path + 'mhc_mean_expr.pdf', bbox_inches='tight')\n"
   ]
  },
  {
   "cell_type": "code",
   "execution_count": 173,
   "metadata": {},
   "outputs": [
    {
     "data": {
      "text/plain": [
       "[<matplotlib.lines.Line2D at 0x7fa7c24264d0>,\n",
       " <matplotlib.lines.Line2D at 0x7fa7c3165fd0>,\n",
       " <matplotlib.lines.Line2D at 0x7fa7c3166210>]"
      ]
     },
     "execution_count": 173,
     "metadata": {},
     "output_type": "execute_result"
    },
    {
     "data": {
      "image/png": "[encoded data removed]",
      "text/plain": [
       "<Figure size 432x288 with 1 Axes>"
      ]
     },
     "metadata": {
      "needs_background": "light"
     },
     "output_type": "display_data"
    }
   ],
   "source": [
    "plt.plot(mean_df.query('gene.isin([\"HLA-A\", \"HLA-B\", \"HLA-C\", \"B2M\"])', engine='python').values[:, 1:].T)"
   ]
  },
  {
   "cell_type": "code",
   "execution_count": 45,
   "metadata": {},
   "outputs": [],
   "source": [
    "stim = 'beta'\n",
    "ct = ['bc', 'basal', 'ciliated']"
   ]
  },
  {
   "cell_type": "code",
   "execution_count": 46,
   "metadata": {},
   "outputs": [],
   "source": [
    "beta_stim = adata[adata.obs['cell_type'].isin(ct) & adata.obs.stim.isin(['control', stim])].copy().copy()"
   ]
  },
  {
   "cell_type": "code",
   "execution_count": 47,
   "metadata": {},
   "outputs": [
    {
     "data": {
      "text/plain": [
       "True"
      ]
     },
     "execution_count": 47,
     "metadata": {},
     "output_type": "execute_result"
    }
   ],
   "source": [
    "'LAIR1' in adata.var.index"
   ]
  },
  {
   "cell_type": "code",
   "execution_count": 48,
   "metadata": {},
   "outputs": [
    {
     "data": {
      "text/plain": [
       "([array([2333.,    0.,    0.,    0.,    0.,    0.,    0.,    0.,    0.,\n",
       "            0.,    0.,    0.,    0.,    0.,    8.]),\n",
       "  array([3245.,    0.,    0.,    0.,    0.,    0.,    0.,    0.,    0.,\n",
       "            0.,    0.,    0.,    0.,    0.,    7.])],\n",
       " array([0.        , 0.06666667, 0.13333334, 0.2       , 0.26666668,\n",
       "        0.33333334, 0.4       , 0.46666667, 0.53333336, 0.6       ,\n",
       "        0.6666667 , 0.73333335, 0.8       , 0.8666667 , 0.93333334,\n",
       "        1.        ], dtype=float32),\n",
       " <a list of 2 Lists of Patches objects>)"
      ]
     },
     "execution_count": 48,
     "metadata": {},
     "output_type": "execute_result"
    },
    {
     "data": {
      "image/png": "[encoded data removed]",
      "text/plain": [
       "<Figure size 432x288 with 1 Axes>"
      ]
     },
     "metadata": {
      "needs_background": "light"
     },
     "output_type": "display_data"
    }
   ],
   "source": [
    "plt.hist([\n",
    "    beta_stim[beta_stim.obs.time == '0', :][:, 'LAIR1'].X.todense().A1, \n",
    "    beta_stim[beta_stim.obs.time == '3', :][:, 'LAIR1'].X.todense().A1],\n",
    "    bins=15)\n",
    "# plt.hist(adata[adata.obs.time == '3', :][:, 'NLRC5'].X.todense().A1, bins=15)"
   ]
  },
  {
   "cell_type": "code",
   "execution_count": 62,
   "metadata": {},
   "outputs": [
    {
     "data": {
      "text/html": [
       "<div>\n",
       "<style scoped>\n",
       "    .dataframe tbody tr th:only-of-type {\n",
       "        vertical-align: middle;\n",
       "    }\n",
       "\n",
       "    .dataframe tbody tr th {\n",
       "        vertical-align: top;\n",
       "    }\n",
       "\n",
       "    .dataframe thead th {\n",
       "        text-align: right;\n",
       "    }\n",
       "</style>\n",
       "<table border=\"1\" class=\"dataframe\">\n",
       "  <thead>\n",
       "    <tr style=\"text-align: right;\">\n",
       "      <th></th>\n",
       "      <th>gene</th>\n",
       "      <th>time_0</th>\n",
       "      <th>time_3</th>\n",
       "      <th>time_6</th>\n",
       "      <th>time_9</th>\n",
       "      <th>time_24</th>\n",
       "      <th>time_48</th>\n",
       "    </tr>\n",
       "  </thead>\n",
       "  <tbody>\n",
       "    <tr>\n",
       "      <th>7798</th>\n",
       "      <td>NLRC5</td>\n",
       "      <td>-2.844202</td>\n",
       "      <td>-1.290465</td>\n",
       "      <td>-0.997472</td>\n",
       "      <td>-0.961713</td>\n",
       "      <td>-0.956975</td>\n",
       "      <td>-0.941885</td>\n",
       "    </tr>\n",
       "  </tbody>\n",
       "</table>\n",
       "</div>"
      ],
      "text/plain": [
       "       gene    time_0    time_3    time_6    time_9   time_24   time_48\n",
       "7798  NLRC5 -2.844202 -1.290465 -0.997472 -0.961713 -0.956975 -0.941885"
      ]
     },
     "execution_count": 62,
     "metadata": {},
     "output_type": "execute_result"
    }
   ],
   "source": [
    "df.query('gene.isin([\"NLRC5\"])', engine='python')"
   ]
  },
  {
   "cell_type": "code",
   "execution_count": 63,
   "metadata": {},
   "outputs": [
    {
     "data": {
      "text/html": [
       "<div>\n",
       "<style scoped>\n",
       "    .dataframe tbody tr th:only-of-type {\n",
       "        vertical-align: middle;\n",
       "    }\n",
       "\n",
       "    .dataframe tbody tr th {\n",
       "        vertical-align: top;\n",
       "    }\n",
       "\n",
       "    .dataframe thead th {\n",
       "        text-align: right;\n",
       "    }\n",
       "</style>\n",
       "<table border=\"1\" class=\"dataframe\">\n",
       "  <thead>\n",
       "    <tr style=\"text-align: right;\">\n",
       "      <th></th>\n",
       "      <th>gene</th>\n",
       "      <th>time_0</th>\n",
       "      <th>time_3</th>\n",
       "      <th>time_6</th>\n",
       "      <th>time_9</th>\n",
       "      <th>time_24</th>\n",
       "      <th>time_48</th>\n",
       "    </tr>\n",
       "  </thead>\n",
       "  <tbody>\n",
       "    <tr>\n",
       "      <th>3342</th>\n",
       "      <td>HLA-A</td>\n",
       "      <td>1.656812</td>\n",
       "      <td>2.370405</td>\n",
       "      <td>2.487690</td>\n",
       "      <td>2.090583</td>\n",
       "      <td>2.035615</td>\n",
       "      <td>1.793220</td>\n",
       "    </tr>\n",
       "    <tr>\n",
       "      <th>3367</th>\n",
       "      <td>HLA-C</td>\n",
       "      <td>1.829254</td>\n",
       "      <td>2.479059</td>\n",
       "      <td>2.770877</td>\n",
       "      <td>2.521157</td>\n",
       "      <td>2.434578</td>\n",
       "      <td>2.142253</td>\n",
       "    </tr>\n",
       "    <tr>\n",
       "      <th>3368</th>\n",
       "      <td>HLA-B</td>\n",
       "      <td>1.967847</td>\n",
       "      <td>2.673597</td>\n",
       "      <td>2.807899</td>\n",
       "      <td>2.552474</td>\n",
       "      <td>2.472788</td>\n",
       "      <td>2.166302</td>\n",
       "    </tr>\n",
       "    <tr>\n",
       "      <th>7264</th>\n",
       "      <td>B2M</td>\n",
       "      <td>4.189476</td>\n",
       "      <td>4.438093</td>\n",
       "      <td>4.546697</td>\n",
       "      <td>4.348129</td>\n",
       "      <td>4.342992</td>\n",
       "      <td>4.125379</td>\n",
       "    </tr>\n",
       "  </tbody>\n",
       "</table>\n",
       "</div>"
      ],
      "text/plain": [
       "       gene    time_0    time_3    time_6    time_9   time_24   time_48\n",
       "3342  HLA-A  1.656812  2.370405  2.487690  2.090583  2.035615  1.793220\n",
       "3367  HLA-C  1.829254  2.479059  2.770877  2.521157  2.434578  2.142253\n",
       "3368  HLA-B  1.967847  2.673597  2.807899  2.552474  2.472788  2.166302\n",
       "7264    B2M  4.189476  4.438093  4.546697  4.348129  4.342992  4.125379"
      ]
     },
     "execution_count": 63,
     "metadata": {},
     "output_type": "execute_result"
    }
   ],
   "source": [
    "df.query('gene.isin([\"HLA-A\", \"HLA-B\", \"HLA-C\", \"B2M\"])', engine='python')"
   ]
  },
  {
   "cell_type": "markdown",
   "metadata": {},
   "source": [
    "### Correlation of MHC I transcripts to canonical TFs"
   ]
  },
  {
   "cell_type": "code",
   "execution_count": null,
   "metadata": {},
   "outputs": [],
   "source": [
    "\n",
    "cts = [['ciliated']]\n",
    "tps = ['3', '6', '9', '24', '48']\n",
    "stims = ['alpha', 'beta', 'gamma', 'lambda']\n",
    "\n",
    "\n",
    "for ct in cts:\n",
    "    for tp in tps:\n",
    "        for stim in stims:\n",
    "            \n",
    "#             fname = '{}_{}_{}_{}.h5ad'.format('-'.join(ct), stim, tp, tf)\n",
    "#             if fname in done_files:\n",
    "#                 continue\n",
    "                            \n",
    "            print('starting', ct, tp, stim)\n",
    "\n",
    "            adata_stim = adata.copy()[\n",
    "                adata.obs.cell_type.isin(ct) & \\\n",
    "                adata.obs.stim.isin(['control', stim]) & \\\n",
    "                adata.obs.time.isin(['0',tp]), :].copy()\n",
    "            time_converter={0:0, int(tp):1}\n",
    "            adata_stim.obs['time_step'] = adata_stim.obs['time'].astype(int).apply(lambda x: time_converter[x])\n",
    "\n",
    "            memento.create_groups(adata_stim, label_columns=['time_step', 'donor'])\n",
    "            memento.compute_1d_moments(adata_stim, min_perc_group=.9)\n",
    "            \n",
    "            tf_list = list(set(tfs) & set(adata_stim.var.index))\n",
    "            \n",
    "            gene_list = adata_stim.var.index.tolist()\n",
    "            \n",
    "            memento.compute_2d_moments(adata_stim, list(itertools.product(tf_list, [\"HLA-A\", \"HLA-B\", \"HLA-C\", \"B2M\"])))\n",
    "\n",
    "            moment_df = memento.get_2d_moments(adata_stim, groupby='time_step')\n",
    "            moment_df.to_csv('/data_volume/ifn_hbec/tf_test/moments_{}_{}_{}_mhc1.csv'.format('-'.join(ct), stim, tp), index=False)\n",
    "\n",
    "\n",
    "            memento.ht_2d_moments( \n",
    "                adata_stim, \n",
    "                formula_like='1 + time_step',\n",
    "                cov_column='time_step', \n",
    "                num_boot=10000, \n",
    "                verbose=1,\n",
    "                num_cpus=13)\n",
    "\n",
    "            if 'mv_regressor' in adata_stim.uns['memento']:\n",
    "                del adata_stim.uns['memento']['mv_regressor']\n",
    "            adata_stim.write('/data_volume/ifn_hbec/tf_test/{}_{}_{}_mhc1.h5ad'.format('-'.join(ct), stim, tp))"
   ]
  },
  {
   "cell_type": "code",
   "execution_count": 75,
   "metadata": {},
   "outputs": [
    {
     "name": "stdout",
     "output_type": "stream",
     "text": [
      "3\n",
      "6\n",
      "9\n",
      "24\n",
      "48\n"
     ]
    }
   ],
   "source": [
    "stim = 'beta'\n",
    "ct = ['ciliated']\n",
    "for tp in ['3', '6', '9', '24', '48']:\n",
    "    \n",
    "    print(tp)\n",
    "\n",
    "    \n",
    "#     moments = memento.get_2d_moments(adata_result, groupby='time_step').rename(columns={'time_step_0':'time_0', 'time_step_1':'time_'+tp})\n",
    "    moments = pd.read_csv('/data_volume/ifn_hbec/tf_test/moments_{}_{}_{}_mhc1.csv'.format('-'.join(ct), stim, tp)).rename(columns={'time_step_0':'time_0', 'time_step_1':'time_'+tp})\n",
    "    res_df = memento.get_2d_ht_result(adata_result)\\\n",
    "        .rename(columns={\n",
    "            'corr_coef':'corr_coef' + '_' + tp,\n",
    "            'corr_pval':'corr_pval' + '_' + tp})\n",
    "    \n",
    "    if tp == '3':\n",
    "\n",
    "        pv_df = res_df[['gene_1', 'gene_2', 'corr_pval' + '_' + tp]].copy()\n",
    "        coef_df = res_df[['gene_1', 'gene_2', 'corr_coef' + '_' + tp]].copy()\n",
    "        moment_df = moments[['gene_1', 'gene_2', 'time_0', 'time_3']].copy()\n",
    "        \n",
    "    else:\n",
    "        \n",
    "        pv_df = pv_df.merge(res_df[['gene_1', 'gene_2', 'corr_pval' + '_' + tp]].copy(), on=['gene_1', 'gene_2'], how='outer')\n",
    "        coef_df = coef_df.merge(res_df[['gene_1', 'gene_2', 'corr_coef' + '_' + tp]].copy(), on=['gene_1', 'gene_2'], how='outer')\n",
    "        moment_df = moment_df.merge(moments[['gene_1', 'gene_2', 'time_{}'.format(tp)]].copy(), on=['gene_1', 'gene_2'], how='outer')\n",
    "    \n",
    "    \n",
    "    "
   ]
  },
  {
   "cell_type": "code",
   "execution_count": null,
   "metadata": {},
   "outputs": [],
   "source": []
  },
  {
   "cell_type": "markdown",
   "metadata": {},
   "source": [
    "### Hunt for some relevant TFs"
   ]
  },
  {
   "cell_type": "code",
   "execution_count": 25,
   "metadata": {},
   "outputs": [],
   "source": [
    "stim = 'beta'\n",
    "tp = '48'\n",
    "ct = ['ciliated']\n",
    "\n",
    "fname = '/data_volume/ifn_hbec/tf_test/{}_{}_{}_mhc1.h5ad'.format('-'.join(ct), stim, tp)\n",
    "adata_result = sc.read(fname)"
   ]
  },
  {
   "cell_type": "code",
   "execution_count": 26,
   "metadata": {},
   "outputs": [],
   "source": [
    "\n",
    "fname = '/data_volume/ifn_hbec/tf_test/{}_{}_{}_mhc1.h5ad'.format('-'.join(ct), stim, tp)\n",
    "adata_result = sc.read(fname)\n",
    "\n",
    "moments = pd.read_csv('/data_volume/ifn_hbec/tf_test/moments_{}_{}_{}_mhc1.csv'.format('-'.join(ct), stim, tp)).rename(columns={'time_step_0':'time_0', 'time_step_1':'time_'+tp})\n",
    "res_df = memento.get_2d_ht_result(adata_result)\n",
    "# rel_res_df = memento.get_2d_ht_result(adata_stim)"
   ]
  },
  {
   "cell_type": "code",
   "execution_count": 27,
   "metadata": {},
   "outputs": [],
   "source": [
    "wired_pairs = moments.query('time_0 > 0.4 | time_{} > 0.4'.format(tp))"
   ]
  },
  {
   "cell_type": "code",
   "execution_count": 28,
   "metadata": {},
   "outputs": [],
   "source": [
    "filtered_res_df = res_df.merge(wired_pairs, on=['gene_1', 'gene_2'])\n",
    "filtered_res_df['corr_fdr'] = memento.util._fdrcorrect(filtered_res_df['corr_pval'])"
   ]
  },
  {
   "cell_type": "code",
   "execution_count": 29,
   "metadata": {},
   "outputs": [],
   "source": [
    "pd.set_option('display.max_rows', 500)\n"
   ]
  },
  {
   "cell_type": "code",
   "execution_count": 30,
   "metadata": {},
   "outputs": [
    {
     "data": {
      "text/html": [
       "<div>\n",
       "<style scoped>\n",
       "    .dataframe tbody tr th:only-of-type {\n",
       "        vertical-align: middle;\n",
       "    }\n",
       "\n",
       "    .dataframe tbody tr th {\n",
       "        vertical-align: top;\n",
       "    }\n",
       "\n",
       "    .dataframe thead th {\n",
       "        text-align: right;\n",
       "    }\n",
       "</style>\n",
       "<table border=\"1\" class=\"dataframe\">\n",
       "  <thead>\n",
       "    <tr style=\"text-align: right;\">\n",
       "      <th></th>\n",
       "      <th>gene_1</th>\n",
       "      <th>gene_2</th>\n",
       "      <th>corr_coef</th>\n",
       "      <th>corr_se</th>\n",
       "      <th>corr_pval</th>\n",
       "      <th>time_0</th>\n",
       "      <th>time_48</th>\n",
       "      <th>corr_fdr</th>\n",
       "    </tr>\n",
       "  </thead>\n",
       "  <tbody>\n",
       "    <tr>\n",
       "      <th>32</th>\n",
       "      <td>BARX2</td>\n",
       "      <td>B2M</td>\n",
       "      <td>0.468011</td>\n",
       "      <td>0.191003</td>\n",
       "      <td>0.032297</td>\n",
       "      <td>0.196546</td>\n",
       "      <td>0.406067</td>\n",
       "      <td>0.094991</td>\n",
       "    </tr>\n",
       "  </tbody>\n",
       "</table>\n",
       "</div>"
      ],
      "text/plain": [
       "   gene_1 gene_2  corr_coef   corr_se  corr_pval    time_0   time_48  corr_fdr\n",
       "32  BARX2    B2M   0.468011  0.191003   0.032297  0.196546  0.406067  0.094991"
      ]
     },
     "execution_count": 30,
     "metadata": {},
     "output_type": "execute_result"
    }
   ],
   "source": [
    "filtered_res_df.query('corr_fdr < 0.1 & corr_coef > 0')"
   ]
  },
  {
   "cell_type": "code",
   "execution_count": 31,
   "metadata": {},
   "outputs": [
    {
     "data": {
      "text/html": [
       "<div>\n",
       "<style scoped>\n",
       "    .dataframe tbody tr th:only-of-type {\n",
       "        vertical-align: middle;\n",
       "    }\n",
       "\n",
       "    .dataframe tbody tr th {\n",
       "        vertical-align: top;\n",
       "    }\n",
       "\n",
       "    .dataframe thead th {\n",
       "        text-align: right;\n",
       "    }\n",
       "</style>\n",
       "<table border=\"1\" class=\"dataframe\">\n",
       "  <thead>\n",
       "    <tr style=\"text-align: right;\">\n",
       "      <th></th>\n",
       "      <th>gene_1</th>\n",
       "      <th>gene_2</th>\n",
       "      <th>corr_coef</th>\n",
       "      <th>corr_se</th>\n",
       "      <th>corr_pval</th>\n",
       "      <th>time_0</th>\n",
       "      <th>time_48</th>\n",
       "      <th>corr_fdr</th>\n",
       "    </tr>\n",
       "  </thead>\n",
       "  <tbody>\n",
       "  </tbody>\n",
       "</table>\n",
       "</div>"
      ],
      "text/plain": [
       "Empty DataFrame\n",
       "Columns: [gene_1, gene_2, corr_coef, corr_se, corr_pval, time_0, time_48, corr_fdr]\n",
       "Index: []"
      ]
     },
     "execution_count": 31,
     "metadata": {},
     "output_type": "execute_result"
    }
   ],
   "source": [
    "filtered_res_df.query('corr_fdr < 0.05 & corr_coef > 0')"
   ]
  },
  {
   "cell_type": "code",
   "execution_count": 32,
   "metadata": {},
   "outputs": [
    {
     "data": {
      "text/html": [
       "<div>\n",
       "<style scoped>\n",
       "    .dataframe tbody tr th:only-of-type {\n",
       "        vertical-align: middle;\n",
       "    }\n",
       "\n",
       "    .dataframe tbody tr th {\n",
       "        vertical-align: top;\n",
       "    }\n",
       "\n",
       "    .dataframe thead th {\n",
       "        text-align: right;\n",
       "    }\n",
       "</style>\n",
       "<table border=\"1\" class=\"dataframe\">\n",
       "  <thead>\n",
       "    <tr style=\"text-align: right;\">\n",
       "      <th></th>\n",
       "      <th>gene_1</th>\n",
       "      <th>gene_2</th>\n",
       "      <th>corr_coef</th>\n",
       "      <th>corr_se</th>\n",
       "      <th>corr_pval</th>\n",
       "    </tr>\n",
       "  </thead>\n",
       "  <tbody>\n",
       "    <tr>\n",
       "      <th>0</th>\n",
       "      <td>FOXA1</td>\n",
       "      <td>HLA-A</td>\n",
       "      <td>-0.056048</td>\n",
       "      <td>0.138552</td>\n",
       "      <td>0.672333</td>\n",
       "    </tr>\n",
       "    <tr>\n",
       "      <th>1</th>\n",
       "      <td>FOXA1</td>\n",
       "      <td>HLA-B</td>\n",
       "      <td>-0.017892</td>\n",
       "      <td>0.120553</td>\n",
       "      <td>0.886911</td>\n",
       "    </tr>\n",
       "    <tr>\n",
       "      <th>2</th>\n",
       "      <td>FOXA1</td>\n",
       "      <td>HLA-C</td>\n",
       "      <td>-0.039600</td>\n",
       "      <td>0.137438</td>\n",
       "      <td>0.766823</td>\n",
       "    </tr>\n",
       "    <tr>\n",
       "      <th>3</th>\n",
       "      <td>FOXA1</td>\n",
       "      <td>B2M</td>\n",
       "      <td>-0.067997</td>\n",
       "      <td>0.115958</td>\n",
       "      <td>0.542846</td>\n",
       "    </tr>\n",
       "    <tr>\n",
       "      <th>4</th>\n",
       "      <td>ELF3</td>\n",
       "      <td>HLA-A</td>\n",
       "      <td>-0.036777</td>\n",
       "      <td>0.079008</td>\n",
       "      <td>0.646335</td>\n",
       "    </tr>\n",
       "    <tr>\n",
       "      <th>...</th>\n",
       "      <td>...</td>\n",
       "      <td>...</td>\n",
       "      <td>...</td>\n",
       "      <td>...</td>\n",
       "      <td>...</td>\n",
       "    </tr>\n",
       "    <tr>\n",
       "      <th>1595</th>\n",
       "      <td>KLF2</td>\n",
       "      <td>B2M</td>\n",
       "      <td>0.047859</td>\n",
       "      <td>0.080182</td>\n",
       "      <td>0.540046</td>\n",
       "    </tr>\n",
       "    <tr>\n",
       "      <th>1596</th>\n",
       "      <td>ZBTB11</td>\n",
       "      <td>HLA-A</td>\n",
       "      <td>0.548664</td>\n",
       "      <td>0.214973</td>\n",
       "      <td>0.015998</td>\n",
       "    </tr>\n",
       "    <tr>\n",
       "      <th>1597</th>\n",
       "      <td>ZBTB11</td>\n",
       "      <td>HLA-B</td>\n",
       "      <td>0.549160</td>\n",
       "      <td>0.218291</td>\n",
       "      <td>0.024098</td>\n",
       "    </tr>\n",
       "    <tr>\n",
       "      <th>1598</th>\n",
       "      <td>ZBTB11</td>\n",
       "      <td>HLA-C</td>\n",
       "      <td>0.008946</td>\n",
       "      <td>0.237385</td>\n",
       "      <td>0.965903</td>\n",
       "    </tr>\n",
       "    <tr>\n",
       "      <th>1599</th>\n",
       "      <td>ZBTB11</td>\n",
       "      <td>B2M</td>\n",
       "      <td>0.184607</td>\n",
       "      <td>0.212982</td>\n",
       "      <td>0.360264</td>\n",
       "    </tr>\n",
       "  </tbody>\n",
       "</table>\n",
       "<p>1600 rows × 5 columns</p>\n",
       "</div>"
      ],
      "text/plain": [
       "      gene_1 gene_2  corr_coef   corr_se  corr_pval\n",
       "0      FOXA1  HLA-A  -0.056048  0.138552   0.672333\n",
       "1      FOXA1  HLA-B  -0.017892  0.120553   0.886911\n",
       "2      FOXA1  HLA-C  -0.039600  0.137438   0.766823\n",
       "3      FOXA1    B2M  -0.067997  0.115958   0.542846\n",
       "4       ELF3  HLA-A  -0.036777  0.079008   0.646335\n",
       "...      ...    ...        ...       ...        ...\n",
       "1595    KLF2    B2M   0.047859  0.080182   0.540046\n",
       "1596  ZBTB11  HLA-A   0.548664  0.214973   0.015998\n",
       "1597  ZBTB11  HLA-B   0.549160  0.218291   0.024098\n",
       "1598  ZBTB11  HLA-C   0.008946  0.237385   0.965903\n",
       "1599  ZBTB11    B2M   0.184607  0.212982   0.360264\n",
       "\n",
       "[1600 rows x 5 columns]"
      ]
     },
     "execution_count": 32,
     "metadata": {},
     "output_type": "execute_result"
    }
   ],
   "source": [
    "res_df"
   ]
  },
  {
   "cell_type": "code",
   "execution_count": 33,
   "metadata": {},
   "outputs": [
    {
     "data": {
      "text/html": [
       "<div>\n",
       "<style scoped>\n",
       "    .dataframe tbody tr th:only-of-type {\n",
       "        vertical-align: middle;\n",
       "    }\n",
       "\n",
       "    .dataframe tbody tr th {\n",
       "        vertical-align: top;\n",
       "    }\n",
       "\n",
       "    .dataframe thead th {\n",
       "        text-align: right;\n",
       "    }\n",
       "</style>\n",
       "<table border=\"1\" class=\"dataframe\">\n",
       "  <thead>\n",
       "    <tr style=\"text-align: right;\">\n",
       "      <th></th>\n",
       "      <th>gene_1</th>\n",
       "      <th>gene_2</th>\n",
       "      <th>time_0</th>\n",
       "      <th>time_48</th>\n",
       "    </tr>\n",
       "  </thead>\n",
       "  <tbody>\n",
       "    <tr>\n",
       "      <th>0</th>\n",
       "      <td>FOXA1</td>\n",
       "      <td>HLA-A</td>\n",
       "      <td>-0.010951</td>\n",
       "      <td>-0.036042</td>\n",
       "    </tr>\n",
       "    <tr>\n",
       "      <th>1</th>\n",
       "      <td>FOXA1</td>\n",
       "      <td>HLA-B</td>\n",
       "      <td>-0.105736</td>\n",
       "      <td>-0.113746</td>\n",
       "    </tr>\n",
       "    <tr>\n",
       "      <th>2</th>\n",
       "      <td>FOXA1</td>\n",
       "      <td>HLA-C</td>\n",
       "      <td>-0.110515</td>\n",
       "      <td>-0.128243</td>\n",
       "    </tr>\n",
       "    <tr>\n",
       "      <th>4</th>\n",
       "      <td>ELF3</td>\n",
       "      <td>HLA-A</td>\n",
       "      <td>0.221549</td>\n",
       "      <td>0.205085</td>\n",
       "    </tr>\n",
       "    <tr>\n",
       "      <th>5</th>\n",
       "      <td>ELF3</td>\n",
       "      <td>HLA-B</td>\n",
       "      <td>0.234490</td>\n",
       "      <td>0.230563</td>\n",
       "    </tr>\n",
       "    <tr>\n",
       "      <th>...</th>\n",
       "      <td>...</td>\n",
       "      <td>...</td>\n",
       "      <td>...</td>\n",
       "      <td>...</td>\n",
       "    </tr>\n",
       "    <tr>\n",
       "      <th>1593</th>\n",
       "      <td>KLF2</td>\n",
       "      <td>HLA-B</td>\n",
       "      <td>-0.076569</td>\n",
       "      <td>-0.043462</td>\n",
       "    </tr>\n",
       "    <tr>\n",
       "      <th>1594</th>\n",
       "      <td>KLF2</td>\n",
       "      <td>HLA-C</td>\n",
       "      <td>0.059468</td>\n",
       "      <td>0.079675</td>\n",
       "    </tr>\n",
       "    <tr>\n",
       "      <th>1596</th>\n",
       "      <td>ZBTB11</td>\n",
       "      <td>HLA-A</td>\n",
       "      <td>-0.097915</td>\n",
       "      <td>0.147713</td>\n",
       "    </tr>\n",
       "    <tr>\n",
       "      <th>1597</th>\n",
       "      <td>ZBTB11</td>\n",
       "      <td>HLA-B</td>\n",
       "      <td>-0.075090</td>\n",
       "      <td>0.170759</td>\n",
       "    </tr>\n",
       "    <tr>\n",
       "      <th>1598</th>\n",
       "      <td>ZBTB11</td>\n",
       "      <td>HLA-C</td>\n",
       "      <td>0.007722</td>\n",
       "      <td>0.011727</td>\n",
       "    </tr>\n",
       "  </tbody>\n",
       "</table>\n",
       "<p>1200 rows × 4 columns</p>\n",
       "</div>"
      ],
      "text/plain": [
       "      gene_1 gene_2    time_0   time_48\n",
       "0      FOXA1  HLA-A -0.010951 -0.036042\n",
       "1      FOXA1  HLA-B -0.105736 -0.113746\n",
       "2      FOXA1  HLA-C -0.110515 -0.128243\n",
       "4       ELF3  HLA-A  0.221549  0.205085\n",
       "5       ELF3  HLA-B  0.234490  0.230563\n",
       "...      ...    ...       ...       ...\n",
       "1593    KLF2  HLA-B -0.076569 -0.043462\n",
       "1594    KLF2  HLA-C  0.059468  0.079675\n",
       "1596  ZBTB11  HLA-A -0.097915  0.147713\n",
       "1597  ZBTB11  HLA-B -0.075090  0.170759\n",
       "1598  ZBTB11  HLA-C  0.007722  0.011727\n",
       "\n",
       "[1200 rows x 4 columns]"
      ]
     },
     "execution_count": 33,
     "metadata": {},
     "output_type": "execute_result"
    }
   ],
   "source": [
    "moments.query('gene_2.str.startswith(\"HLA-\")', engine='python')"
   ]
  },
  {
   "cell_type": "markdown",
   "metadata": {},
   "source": [
    "### Check correlations to other TFs over time"
   ]
  },
  {
   "cell_type": "code",
   "execution_count": 34,
   "metadata": {},
   "outputs": [],
   "source": [
    "stim = 'beta'\n",
    "ct = ['ciliated']\n",
    "tf = 'STAT1'"
   ]
  },
  {
   "cell_type": "code",
   "execution_count": 35,
   "metadata": {},
   "outputs": [
    {
     "name": "stdout",
     "output_type": "stream",
     "text": [
      "3\n",
      "6\n",
      "9\n",
      "24\n",
      "48\n"
     ]
    }
   ],
   "source": [
    "\n",
    "for tp in ['3', '6', '9', '24', '48']:\n",
    "    \n",
    "    print(tp)\n",
    "\n",
    "    fname = '/data_volume/ifn_hbec/tf_test/{}_{}_{}_mhc1.h5ad'.format('-'.join(ct), stim, tp)\n",
    "    adata_result = sc.read(fname)\n",
    "    \n",
    "#     moments = memento.get_2d_moments(adata_result, groupby='time_step').rename(columns={'time_step_0':'time_0', 'time_step_1':'time_'+tp})\n",
    "    moments = pd.read_csv('/data_volume/ifn_hbec/tf_test/moments_{}_{}_{}_mhc1.csv'.format('-'.join(ct), stim, tp)).rename(columns={'time_step_0':'time_0', 'time_step_1':'time_'+tp})\n",
    "    res_df = memento.get_2d_ht_result(adata_result)\\\n",
    "        .rename(columns={\n",
    "            'corr_coef':'corr_coef' + '_' + tp,\n",
    "            'corr_pval':'corr_pval' + '_' + tp})\n",
    "    \n",
    "    if tp == '3':\n",
    "\n",
    "        pv_df = res_df[['gene_1', 'gene_2', 'corr_pval' + '_' + tp]].copy()\n",
    "        coef_df = res_df[['gene_1', 'gene_2', 'corr_coef' + '_' + tp]].copy()\n",
    "        moment_df = moments[['gene_1', 'gene_2', 'time_0', 'time_3']].copy()\n",
    "        \n",
    "    else:\n",
    "        \n",
    "        pv_df = pv_df.merge(res_df[['gene_1', 'gene_2', 'corr_pval' + '_' + tp]].copy(), on=['gene_1', 'gene_2'], how='outer')\n",
    "        coef_df = coef_df.merge(res_df[['gene_1', 'gene_2', 'corr_coef' + '_' + tp]].copy(), on=['gene_1', 'gene_2'], how='outer')\n",
    "        moment_df = moment_df.merge(moments[['gene_1', 'gene_2', 'time_{}'.format(tp)]].copy(), on=['gene_1', 'gene_2'], how='outer')\n",
    "    \n",
    "    \n",
    "    "
   ]
  },
  {
   "cell_type": "code",
   "execution_count": 40,
   "metadata": {},
   "outputs": [
    {
     "data": {
      "image/png": "[encoded data removed]",
      "text/plain": [
       "<Figure size 144x144 with 1 Axes>"
      ]
     },
     "metadata": {
      "needs_background": "light"
     },
     "output_type": "display_data"
    }
   ],
   "source": [
    "tf = 'NFKB2'\n",
    "plt.figure(figsize=(2,2))\n",
    "plt.plot(moment_df.query('gene_1 == \"{}\"'.format(tf)).values[:, 2:].T, '--o')\n",
    "plt.xticks([0, 1, 2, 3, 4, 5], ['0', '3', '6', '9', '24', '48'])\n",
    "plt.xlabel('Time (hr)'); plt.ylabel('Corr {}'.format(tf))\n",
    "plt.savefig(fig_path + 'mhc_corr_NFKB2.pdf', bbox_inches='tight')\n"
   ]
  },
  {
   "cell_type": "code",
   "execution_count": 41,
   "metadata": {},
   "outputs": [
    {
     "data": {
      "image/png": "[encoded data removed]",
      "text/plain": [
       "<Figure size 144x144 with 1 Axes>"
      ]
     },
     "metadata": {
      "needs_background": "light"
     },
     "output_type": "display_data"
    }
   ],
   "source": [
    "tf = 'REL'\n",
    "plt.figure(figsize=(2,2))\n",
    "plt.plot(moment_df.query('gene_1 == \"{}\"'.format(tf)).values[:, 2:].T, '--o')\n",
    "plt.xticks([0, 1, 2, 3, 4, 5], ['0', '3', '6', '9', '24', '48'])\n",
    "plt.xlabel('Time (hr)'); plt.ylabel('Corr {}'.format(tf))\n",
    "plt.savefig(fig_path + 'mhc_corr_REL.pdf', bbox_inches='tight')\n"
   ]
  },
  {
   "cell_type": "code",
   "execution_count": 38,
   "metadata": {},
   "outputs": [
    {
     "data": {
      "text/plain": [
       "Text(0, 0.5, 'Corr RFX5')"
      ]
     },
     "execution_count": 38,
     "metadata": {},
     "output_type": "execute_result"
    },
    {
     "data": {
      "image/png": "[encoded data removed]",
      "text/plain": [
       "<Figure size 144x144 with 1 Axes>"
      ]
     },
     "metadata": {
      "needs_background": "light"
     },
     "output_type": "display_data"
    }
   ],
   "source": [
    "tf = 'RFX5'\n",
    "plt.figure(figsize=(2,2))\n",
    "plt.plot(moment_df.query('gene_1 == \"{}\"'.format(tf)).values[:, 2:].T, '--o')\n",
    "plt.xticks([0, 1, 2, 3, 4, 5], ['0', '3', '6', '9', '24', '48'])\n",
    "plt.xlabel('Time (hr)'); plt.ylabel('Corr {}'.format(tf))"
   ]
  },
  {
   "cell_type": "code",
   "execution_count": 121,
   "metadata": {},
   "outputs": [
    {
     "data": {
      "image/png": "[encoded data removed]",
      "text/plain": [
       "<Figure size 144x144 with 1 Axes>"
      ]
     },
     "metadata": {
      "needs_background": "light"
     },
     "output_type": "display_data"
    }
   ],
   "source": [
    "tf = 'CREB3'\n",
    "plt.figure(figsize=(2,2))\n",
    "plt.plot(moment_df.query('gene_1 == \"{}\"'.format(tf)).values[:, 2:].T, '--o')\n",
    "plt.xticks([0, 1, 2, 3, 4, 5], ['0', '3', '6', '9', '24', '48'])\n",
    "plt.xlabel('Time (hr)'); plt.ylabel('Corr {}'.format(tf))\n",
    "plt.savefig(fig_path + 'mhc_creb3_corr.pdf', bbox_inches='tight')"
   ]
  },
  {
   "cell_type": "code",
   "execution_count": 122,
   "metadata": {},
   "outputs": [
    {
     "data": {
      "image/png": "[encoded data removed]",
      "text/plain": [
       "<Figure size 144x144 with 1 Axes>"
      ]
     },
     "metadata": {
      "needs_background": "light"
     },
     "output_type": "display_data"
    }
   ],
   "source": [
    "tf = 'STAT1'\n",
    "plt.figure(figsize=(2,2))\n",
    "plt.plot(moment_df.query('gene_1 == \"{}\"'.format(tf)).values[:, 2:].T, '--o')\n",
    "plt.xticks([0, 1, 2, 3, 4, 5], ['0', '3', '6', '9', '24', '48'])\n",
    "plt.xlabel('Time (hr)'); plt.ylabel('Corr {}'.format(tf))\n",
    "plt.savefig(fig_path + 'mhc_stat1_corr.pdf', bbox_inches='tight')"
   ]
  },
  {
   "cell_type": "code",
   "execution_count": 242,
   "metadata": {},
   "outputs": [],
   "source": [
    "tf = 'CREB3'"
   ]
  },
  {
   "cell_type": "code",
   "execution_count": 243,
   "metadata": {},
   "outputs": [
    {
     "data": {
      "text/html": [
       "<div>\n",
       "<style scoped>\n",
       "    .dataframe tbody tr th:only-of-type {\n",
       "        vertical-align: middle;\n",
       "    }\n",
       "\n",
       "    .dataframe tbody tr th {\n",
       "        vertical-align: top;\n",
       "    }\n",
       "\n",
       "    .dataframe thead th {\n",
       "        text-align: right;\n",
       "    }\n",
       "</style>\n",
       "<table border=\"1\" class=\"dataframe\">\n",
       "  <thead>\n",
       "    <tr style=\"text-align: right;\">\n",
       "      <th></th>\n",
       "      <th>gene_1</th>\n",
       "      <th>gene_2</th>\n",
       "      <th>time_0</th>\n",
       "      <th>time_3</th>\n",
       "      <th>time_6</th>\n",
       "      <th>time_9</th>\n",
       "      <th>time_24</th>\n",
       "      <th>time_48</th>\n",
       "    </tr>\n",
       "  </thead>\n",
       "  <tbody>\n",
       "    <tr>\n",
       "      <th>828</th>\n",
       "      <td>CREB3</td>\n",
       "      <td>HLA-A</td>\n",
       "      <td>0.092283</td>\n",
       "      <td>0.225511</td>\n",
       "      <td>0.230557</td>\n",
       "      <td>0.079328</td>\n",
       "      <td>0.065209</td>\n",
       "      <td>0.104553</td>\n",
       "    </tr>\n",
       "    <tr>\n",
       "      <th>829</th>\n",
       "      <td>CREB3</td>\n",
       "      <td>HLA-B</td>\n",
       "      <td>0.172263</td>\n",
       "      <td>0.341903</td>\n",
       "      <td>0.307946</td>\n",
       "      <td>0.155191</td>\n",
       "      <td>0.201031</td>\n",
       "      <td>0.159479</td>\n",
       "    </tr>\n",
       "    <tr>\n",
       "      <th>830</th>\n",
       "      <td>CREB3</td>\n",
       "      <td>HLA-C</td>\n",
       "      <td>0.190355</td>\n",
       "      <td>0.365602</td>\n",
       "      <td>0.330579</td>\n",
       "      <td>0.188595</td>\n",
       "      <td>0.240382</td>\n",
       "      <td>0.157265</td>\n",
       "    </tr>\n",
       "    <tr>\n",
       "      <th>831</th>\n",
       "      <td>CREB3</td>\n",
       "      <td>B2M</td>\n",
       "      <td>0.193022</td>\n",
       "      <td>0.443010</td>\n",
       "      <td>0.429344</td>\n",
       "      <td>0.321969</td>\n",
       "      <td>0.269825</td>\n",
       "      <td>0.238096</td>\n",
       "    </tr>\n",
       "  </tbody>\n",
       "</table>\n",
       "</div>"
      ],
      "text/plain": [
       "    gene_1 gene_2    time_0    time_3    time_6    time_9   time_24   time_48\n",
       "828  CREB3  HLA-A  0.092283  0.225511  0.230557  0.079328  0.065209  0.104553\n",
       "829  CREB3  HLA-B  0.172263  0.341903  0.307946  0.155191  0.201031  0.159479\n",
       "830  CREB3  HLA-C  0.190355  0.365602  0.330579  0.188595  0.240382  0.157265\n",
       "831  CREB3    B2M  0.193022  0.443010  0.429344  0.321969  0.269825  0.238096"
      ]
     },
     "execution_count": 243,
     "metadata": {},
     "output_type": "execute_result"
    }
   ],
   "source": [
    "moment_df.query('gene_1 == \"{}\"'.format(tf))"
   ]
  },
  {
   "cell_type": "code",
   "execution_count": 244,
   "metadata": {},
   "outputs": [
    {
     "data": {
      "text/plain": [
       "<matplotlib.legend.Legend at 0x7fa7bf95d4d0>"
      ]
     },
     "execution_count": 244,
     "metadata": {},
     "output_type": "execute_result"
    },
    {
     "data": {
      "image/png": "[encoded data removed]",
      "text/plain": [
       "<Figure size 144x144 with 1 Axes>"
      ]
     },
     "metadata": {
      "needs_background": "light"
     },
     "output_type": "display_data"
    }
   ],
   "source": [
    "tf = 'CREB3'\n",
    "plt.figure(figsize=(2,2))\n",
    "plt.plot(moment_df.query('gene_1 == \"{}\"'.format(tf)).values[:, 2:].T, '-o')\n",
    "plt.xticks([0, 1, 2, 3, 4, 5], ['0', '3', '6', '9', '24', '48'])\n",
    "plt.xlabel('Time (hr)'); plt.ylabel('Corr {}'.format(tf))\n",
    "plt.legend(['HLA-A', 'HLA-B', 'HLA-C', 'B2M'], ncol=4, frameon=False, bbox_to_anchor=(1,1))"
   ]
  },
  {
   "cell_type": "code",
   "execution_count": 245,
   "metadata": {},
   "outputs": [
    {
     "data": {
      "text/plain": [
       "Text(0, 0.5, 'Corr STAT6')"
      ]
     },
     "execution_count": 245,
     "metadata": {},
     "output_type": "execute_result"
    },
    {
     "data": {
      "image/png": "[encoded data removed]",
      "text/plain": [
       "<Figure size 144x144 with 1 Axes>"
      ]
     },
     "metadata": {
      "needs_background": "light"
     },
     "output_type": "display_data"
    }
   ],
   "source": [
    "tf = 'STAT6'\n",
    "plt.figure(figsize=(2,2))\n",
    "plt.plot(moment_df.query('gene_1 == \"{}\"'.format(tf)).values[:, 2:].T, '-o')\n",
    "plt.xticks([0, 1, 2, 3, 4, 5], ['0', '3', '6', '9', '24', '48'])\n",
    "plt.xlabel('Time (hr)'); plt.ylabel('Corr {}'.format(tf))"
   ]
  },
  {
   "cell_type": "code",
   "execution_count": 246,
   "metadata": {},
   "outputs": [
    {
     "data": {
      "text/plain": [
       "Text(0, 0.5, 'Corr JUND')"
      ]
     },
     "execution_count": 246,
     "metadata": {},
     "output_type": "execute_result"
    },
    {
     "data": {
      "image/png": "[encoded data removed]",
      "text/plain": [
       "<Figure size 144x144 with 1 Axes>"
      ]
     },
     "metadata": {
      "needs_background": "light"
     },
     "output_type": "display_data"
    }
   ],
   "source": [
    "tf = 'JUND'\n",
    "plt.figure(figsize=(2,2))\n",
    "plt.plot(moment_df.query('gene_1 == \"{}\"'.format(tf)).values[:, 2:].T, '-o')\n",
    "plt.xticks([0, 1, 2, 3, 4, 5], ['0', '3', '6', '9', '24', '48'])\n",
    "plt.xlabel('Time (hr)'); plt.ylabel('Corr {}'.format(tf))"
   ]
  },
  {
   "cell_type": "code",
   "execution_count": 249,
   "metadata": {},
   "outputs": [
    {
     "data": {
      "text/plain": [
       "Text(0, 0.5, 'Corr ETS2')"
      ]
     },
     "execution_count": 249,
     "metadata": {},
     "output_type": "execute_result"
    },
    {
     "data": {
      "image/png": "[encoded data removed]",
      "text/plain": [
       "<Figure size 144x144 with 1 Axes>"
      ]
     },
     "metadata": {
      "needs_background": "light"
     },
     "output_type": "display_data"
    }
   ],
   "source": [
    "tf = 'ETS2'\n",
    "plt.figure(figsize=(2,2))\n",
    "plt.plot(moment_df.query('gene_1 == \"{}\"'.format(tf)).values[:, 2:].T, '-o')\n",
    "plt.xticks([0, 1, 2, 3, 4, 5], ['0', '3', '6', '9', '24', '48'])\n",
    "plt.xlabel('Time (hr)'); plt.ylabel('Corr {}'.format(tf))"
   ]
  },
  {
   "cell_type": "markdown",
   "metadata": {},
   "source": [
    "### ISG DC analysis - \"positive\" control"
   ]
  },
  {
   "cell_type": "code",
   "execution_count": null,
   "metadata": {},
   "outputs": [],
   "source": [
    "\n",
    "cts = [['ciliated']]\n",
    "tps = ['3', '6', '9', '24', '48']\n",
    "stims = ['alpha', 'beta', 'gamma', 'lambda']\n",
    "\n",
    "\n",
    "for ct in cts:\n",
    "    for tp in tps:\n",
    "        for stim in stims:\n",
    "            \n",
    "#             fname = '{}_{}_{}_{}.h5ad'.format('-'.join(ct), stim, tp, tf)\n",
    "#             if fname in done_files:\n",
    "#                 continue\n",
    "                            \n",
    "            print('starting', ct, tp, stim)\n",
    "\n",
    "            adata_stim = adata.copy()[\n",
    "                adata.obs.cell_type.isin(ct) & \\\n",
    "                adata.obs.stim.isin(['control', stim]) & \\\n",
    "                adata.obs.time.isin(['0',tp]), :].copy()\n",
    "            time_converter={0:0, int(tp):1}\n",
    "            adata_stim.obs['time_step'] = adata_stim.obs['time'].astype(int).apply(lambda x: time_converter[x])\n",
    "\n",
    "            memento.create_groups(adata_stim, label_columns=['time_step', 'donor'])\n",
    "            memento.compute_1d_moments(adata_stim, min_perc_group=.9)\n",
    "            \n",
    "            tf_list = list(set(tfs) & set(adata_stim.var.index))\n",
    "            \n",
    "            gene_list = adata_stim.var.index.tolist()\n",
    "            \n",
    "            memento.compute_2d_moments(adata_stim, list(itertools.product(tf_list, [\"HLA-A\", \"HLA-B\", \"HLA-C\", \"B2M\"])))\n",
    "\n",
    "            moment_df = memento.get_2d_moments(adata_stim, groupby='time_step')\n",
    "            moment_df.to_csv('/data_volume/ifn_hbec/tf_test/moments_{}_{}_{}_mhc1.csv'.format('-'.join(ct), stim, tp), index=False)\n",
    "\n",
    "\n",
    "            memento.ht_2d_moments( \n",
    "                adata_stim, \n",
    "                formula_like='1 + time_step',\n",
    "                cov_column='time_step', \n",
    "                num_boot=10000, \n",
    "                verbose=1,\n",
    "                num_cpus=13)\n",
    "\n",
    "            if 'mv_regressor' in adata_stim.uns['memento']:\n",
    "                del adata_stim.uns['memento']['mv_regressor']\n",
    "            adata_stim.write('/data_volume/ifn_hbec/tf_test/{}_{}_{}_mhc1.h5ad'.format('-'.join(ct), stim, tp))"
   ]
  },
  {
   "cell_type": "markdown",
   "metadata": {},
   "source": [
    "### CHIP analysis"
   ]
  },
  {
   "cell_type": "code",
   "execution_count": 36,
   "metadata": {},
   "outputs": [],
   "source": [
    "tf = 'STAT1'\n",
    "ct = ['ciliated']\n",
    "stim = 'beta'\n",
    "\n",
    "def get_2d_moments_ht(tf, ct, stim):\n",
    "    \n",
    "    adata_stim = adata.copy()[\n",
    "        adata.obs.cell_type.isin(ct) & \\\n",
    "        adata.obs.time.isin(['0', '3']) & \\\n",
    "        adata.obs.stim.isin(['control', stim])].copy()\n",
    "    time_converter={0:0, int('3'):1}\n",
    "    adata_stim.obs['time_step'] = adata_stim.obs['time'].astype(int).apply(lambda x: time_converter[x])\n",
    "\n",
    "    memento.create_groups(adata_stim, label_columns=['time_step', 'donor'])\n",
    "    memento.compute_1d_moments(adata_stim, min_perc_group=.9)\n",
    "    moment_1d_df = memento.get_1d_moments(adata_stim, groupby='time_step')\n",
    "\n",
    "    memento.compute_2d_moments(adata_stim, list(itertools.product([tf], adata_stim.var.index)))\n",
    "\n",
    "    moment_df = memento.get_2d_moments(adata_stim, groupby='time_step')\n",
    "    \n",
    "    memento.ht_2d_moments( \n",
    "        adata_stim, \n",
    "        formula_like='1 + time_step',\n",
    "        cov_column='time_step', \n",
    "        num_boot=10000, \n",
    "        verbose=1,\n",
    "        num_cpus=13)\n",
    "    \n",
    "    ht_df = memento.get_2d_ht_result(adata_stim)\n",
    "    \n",
    "    return moment_df, ht_df"
   ]
  },
  {
   "cell_type": "code",
   "execution_count": 37,
   "metadata": {},
   "outputs": [
    {
     "name": "stderr",
     "output_type": "stream",
     "text": [
      "[Parallel(n_jobs=13)]: Using backend LokyBackend with 13 concurrent workers.\n",
      "[Parallel(n_jobs=13)]: Done  24 tasks      | elapsed:    9.3s\n",
      "[Parallel(n_jobs=13)]: Done 174 tasks      | elapsed:   35.5s\n",
      "[Parallel(n_jobs=13)]: Done 424 tasks      | elapsed:  1.3min\n",
      "[Parallel(n_jobs=13)]: Done 774 tasks      | elapsed:  2.4min\n",
      "[Parallel(n_jobs=13)]: Done 1224 tasks      | elapsed:  3.6min\n",
      "[Parallel(n_jobs=13)]: Done 1774 tasks      | elapsed:  5.2min\n",
      "[Parallel(n_jobs=13)]: Done 2424 tasks      | elapsed:  7.1min\n",
      "[Parallel(n_jobs=13)]: Done 3174 tasks      | elapsed:  9.2min\n",
      "[Parallel(n_jobs=13)]: Done 4024 tasks      | elapsed: 11.6min\n",
      "[Parallel(n_jobs=13)]: Done 4974 tasks      | elapsed: 14.3min\n",
      "[Parallel(n_jobs=13)]: Done 6024 tasks      | elapsed: 17.3min\n",
      "[Parallel(n_jobs=13)]: Done 7174 tasks      | elapsed: 20.6min\n",
      "[Parallel(n_jobs=13)]: Done 8424 tasks      | elapsed: 24.2min\n",
      "[Parallel(n_jobs=13)]: Done 9641 out of 9641 | elapsed: 27.6min finished\n"
     ]
    }
   ],
   "source": [
    "beta_df, beta_ht_df = get_2d_moments_ht(tf, ct, stim)"
   ]
  },
  {
   "cell_type": "code",
   "execution_count": 39,
   "metadata": {},
   "outputs": [],
   "source": [
    "beta_ht_df['isgf3'] = beta_ht_df.gene_2.apply(lambda x: 'in TSS' if x in isgf3_genes else 'rest')"
   ]
  },
  {
   "cell_type": "code",
   "execution_count": 40,
   "metadata": {},
   "outputs": [
    {
     "data": {
      "text/html": [
       "<div>\n",
       "<style scoped>\n",
       "    .dataframe tbody tr th:only-of-type {\n",
       "        vertical-align: middle;\n",
       "    }\n",
       "\n",
       "    .dataframe tbody tr th {\n",
       "        vertical-align: top;\n",
       "    }\n",
       "\n",
       "    .dataframe thead th {\n",
       "        text-align: right;\n",
       "    }\n",
       "</style>\n",
       "<table border=\"1\" class=\"dataframe\">\n",
       "  <thead>\n",
       "    <tr style=\"text-align: right;\">\n",
       "      <th></th>\n",
       "      <th>gene_1</th>\n",
       "      <th>gene_2</th>\n",
       "      <th>corr_coef</th>\n",
       "      <th>corr_se</th>\n",
       "      <th>corr_pval</th>\n",
       "      <th>isgf3</th>\n",
       "    </tr>\n",
       "  </thead>\n",
       "  <tbody>\n",
       "    <tr>\n",
       "      <th>0</th>\n",
       "      <td>STAT1</td>\n",
       "      <td>LINC01409</td>\n",
       "      <td>-0.232706</td>\n",
       "      <td>0.272895</td>\n",
       "      <td>0.398760</td>\n",
       "      <td>rest</td>\n",
       "    </tr>\n",
       "    <tr>\n",
       "      <th>1</th>\n",
       "      <td>STAT1</td>\n",
       "      <td>NOC2L</td>\n",
       "      <td>-0.026243</td>\n",
       "      <td>0.215634</td>\n",
       "      <td>0.892411</td>\n",
       "      <td>rest</td>\n",
       "    </tr>\n",
       "    <tr>\n",
       "      <th>2</th>\n",
       "      <td>STAT1</td>\n",
       "      <td>HES4</td>\n",
       "      <td>0.299789</td>\n",
       "      <td>0.093080</td>\n",
       "      <td>0.002000</td>\n",
       "      <td>rest</td>\n",
       "    </tr>\n",
       "    <tr>\n",
       "      <th>3</th>\n",
       "      <td>STAT1</td>\n",
       "      <td>ISG15</td>\n",
       "      <td>-0.064089</td>\n",
       "      <td>0.070980</td>\n",
       "      <td>0.360664</td>\n",
       "      <td>in TSS</td>\n",
       "    </tr>\n",
       "    <tr>\n",
       "      <th>4</th>\n",
       "      <td>STAT1</td>\n",
       "      <td>AGRN</td>\n",
       "      <td>-0.012531</td>\n",
       "      <td>0.166157</td>\n",
       "      <td>0.937506</td>\n",
       "      <td>rest</td>\n",
       "    </tr>\n",
       "  </tbody>\n",
       "</table>\n",
       "</div>"
      ],
      "text/plain": [
       "  gene_1     gene_2  corr_coef   corr_se  corr_pval   isgf3\n",
       "0  STAT1  LINC01409  -0.232706  0.272895   0.398760    rest\n",
       "1  STAT1      NOC2L  -0.026243  0.215634   0.892411    rest\n",
       "2  STAT1       HES4   0.299789  0.093080   0.002000    rest\n",
       "3  STAT1      ISG15  -0.064089  0.070980   0.360664  in TSS\n",
       "4  STAT1       AGRN  -0.012531  0.166157   0.937506    rest"
      ]
     },
     "execution_count": 40,
     "metadata": {},
     "output_type": "execute_result"
    }
   ],
   "source": [
    "beta_ht_df.head(5)"
   ]
  },
  {
   "cell_type": "code",
   "execution_count": 41,
   "metadata": {},
   "outputs": [
    {
     "name": "stderr",
     "output_type": "stream",
     "text": [
      "No handles with labels found to put in legend.\n"
     ]
    },
    {
     "data": {
      "text/plain": [
       "<matplotlib.legend.Legend at 0x7f2ae3f26650>"
      ]
     },
     "execution_count": 41,
     "metadata": {},
     "output_type": "execute_result"
    },
    {
     "data": {
      "image/png": "[encoded data removed]",
      "text/plain": [
       "<Figure size 180x216 with 1 Axes>"
      ]
     },
     "metadata": {
      "needs_background": "light"
     },
     "output_type": "display_data"
    }
   ],
   "source": [
    "plt.figure(figsize=(2.5, 3))\n",
    "sns.boxplot(x='isgf3', y='corr_coef', data=beta_ht_df.sort_values('isgf3'), palette='Set2')\n",
    "\n",
    "plt.xlabel('Cell type'); plt.ylabel('Change in variability');\n",
    "plt.legend(loc='upper center', ncol=2, bbox_to_anchor=(0.5, 1.15))\n",
    "# plt.ylim(-.8, 0.6)\n",
    "# plt.savefig(fig_path + 'isgf3_vs_rest.pdf', bbox_inches='tight')\n",
    "\n"
   ]
  },
  {
   "cell_type": "code",
   "execution_count": null,
   "metadata": {},
   "outputs": [],
   "source": []
  }
 ],
 "metadata": {
  "kernelspec": {
   "display_name": "Python 3",
   "language": "python",
   "name": "python3"
  },
  "language_info": {
   "codemirror_mode": {
    "name": "ipython",
    "version": 3
   },
   "file_extension": ".py",
   "mimetype": "text/x-python",
   "name": "python",
   "nbconvert_exporter": "python",
   "pygments_lexer": "ipython3",
   "version": "3.8.8"
  }
 },
 "nbformat": 4,
 "nbformat_minor": 4
}
