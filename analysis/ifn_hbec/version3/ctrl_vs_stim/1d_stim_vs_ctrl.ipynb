{
 "cells": [
  {
   "cell_type": "markdown",
   "metadata": {},
   "source": [
    "# 1D Variability hypothesis testing for HBEC IFN experiment"
   ]
  },
  {
   "cell_type": "code",
   "execution_count": 1,
   "metadata": {},
   "outputs": [],
   "source": [
    "import scanpy as sc\n",
    "import seaborn as sns\n",
    "import pandas as pd\n",
    "import matplotlib.pyplot as plt\n",
    "import numpy as np\n",
    "import scipy.stats as stats\n",
    "from pybedtools import BedTool\n",
    "import pickle as pkl\n",
    "%matplotlib inline"
   ]
  },
  {
   "cell_type": "code",
   "execution_count": 2,
   "metadata": {},
   "outputs": [],
   "source": [
    "import sys\n",
    "sys.path.append('/home/ssm-user/Github/scrna-parameter-estimation/dist/memento-0.0.6-py3.8.egg')\n",
    "sys.path.append('/home/ssm-user/Github/misc-seq/miscseq/')\n",
    "import encode\n",
    "import memento"
   ]
  },
  {
   "cell_type": "code",
   "execution_count": 3,
   "metadata": {},
   "outputs": [],
   "source": [
    "data_path = '/data_volume/memento/hbec/'"
   ]
  },
  {
   "cell_type": "markdown",
   "metadata": {},
   "source": [
    "### Read the processed RNA data\n",
    "\n",
    "Focus on the club and bc/club cells and type I interferons for now.\n",
    "\n",
    "Encode the timestamps to integers."
   ]
  },
  {
   "cell_type": "raw",
   "metadata": {},
   "source": [
    "adata_processed = sc.read(data_path + 'HBEC_type_I_processed.h5ad')"
   ]
  },
  {
   "cell_type": "code",
   "execution_count": 4,
   "metadata": {},
   "outputs": [],
   "source": [
    "adata = sc.read(data_path + 'HBEC_type_I_filtered_counts_deep.h5ad')"
   ]
  },
  {
   "cell_type": "raw",
   "metadata": {},
   "source": [
    "sc.pl.umap(adata_processed, color=['cell_type', 'time', 'stim'])"
   ]
  },
  {
   "cell_type": "code",
   "execution_count": 5,
   "metadata": {},
   "outputs": [],
   "source": [
    "converter = {'basal/club':'BC', 'basal':'B', 'ciliated':'C', 'goblet':'G', 'ionocyte/tuft':'IT', 'neuroendo':'N'}"
   ]
  },
  {
   "cell_type": "code",
   "execution_count": 6,
   "metadata": {},
   "outputs": [],
   "source": [
    "adata.obs['ct'] = adata.obs['cell_type'].apply(lambda x: converter[x])"
   ]
  },
  {
   "cell_type": "markdown",
   "metadata": {},
   "source": [
    "### Setup memento"
   ]
  },
  {
   "cell_type": "code",
   "execution_count": 7,
   "metadata": {},
   "outputs": [],
   "source": [
    "def assign_q(batch):\n",
    "    \n",
    "    if batch == 0:\n",
    "        return 0.387*0.25\n",
    "    elif batch == 1:\n",
    "        return 0.392*0.25\n",
    "    elif batch == 2:\n",
    "        return 0.436*0.25\n",
    "    else:\n",
    "        return 0.417*0.25"
   ]
  },
  {
   "cell_type": "code",
   "execution_count": 8,
   "metadata": {},
   "outputs": [],
   "source": [
    "adata.obs['q'] = adata.obs['batch'].apply(assign_q)"
   ]
  },
  {
   "cell_type": "code",
   "execution_count": 9,
   "metadata": {},
   "outputs": [
    {
     "name": "stdout",
     "output_type": "stream",
     "text": [
      "Version 0.0.6\n"
     ]
    }
   ],
   "source": [
    "memento.setup_memento(adata, q_column='q', trim_percent=0.05)"
   ]
  },
  {
   "cell_type": "markdown",
   "metadata": {},
   "source": [
    "### Run memento for each subset, comparing beta to gamma, separate cell types"
   ]
  },
  {
   "cell_type": "code",
   "execution_count": 10,
   "metadata": {},
   "outputs": [],
   "source": [
    "cts = ['C', 'B', 'BC']\n",
    "tps = ['3', '6', '9', '24', '48']\n",
    "\n",
    "stims = ['alpha', 'beta', 'gamma', 'lambda']"
   ]
  },
  {
   "cell_type": "code",
   "execution_count": 17,
   "metadata": {},
   "outputs": [],
   "source": [
    "import os\n",
    "done_files = os.listdir(data_path + 'binary_test_latest/')"
   ]
  },
  {
   "cell_type": "code",
   "execution_count": null,
   "metadata": {},
   "outputs": [],
   "source": [
    "for ct in cts:\n",
    "    \n",
    "    for tp in tps:\n",
    "            \n",
    "        fname = '{}_{}_beta_vs_gamma.h5ad'.format(ct, tp)\n",
    "\n",
    "        if fname in done_files:\n",
    "            print('Skipping', fname)\n",
    "            continue\n",
    "\n",
    "        print('starting', ct, tp)\n",
    "\n",
    "        adata_stim = adata.copy()[\n",
    "            adata.obs.ct.isin([ct]) & \\\n",
    "            adata.obs.stim.isin(['beta', 'gamma']) & \\\n",
    "            adata.obs.time.isin([tp]), :].copy()\n",
    "        stim_converter={'gamma':0, 'beta':1}\n",
    "        adata_stim.obs['stim_indicator'] = adata_stim.obs['stim'].apply(lambda x: stim_converter[x])\n",
    "\n",
    "        memento.create_groups(adata_stim, label_columns=['stim_indicator', 'donor'])\n",
    "        memento.compute_1d_moments(adata_stim, min_perc_group=.9)\n",
    "\n",
    "        memento.ht_1d_moments(\n",
    "            adata_stim, \n",
    "            formula_like='1 + stim_indicator + donor',\n",
    "            treatment_col='stim_indicator', \n",
    "            num_boot=10000, \n",
    "            verbose=1,\n",
    "            num_cpus=93,\n",
    "            resampling='permutation',\n",
    "            approx=True)\n",
    "\n",
    "        adata_stim.write(data_path + 'binary_test_latest/{}_{}_beta_vs_gamma.h5ad'.format(ct, tp))"
   ]
  },
  {
   "cell_type": "markdown",
   "metadata": {},
   "source": [
    "### Run memento for each subset, but stratify cell types"
   ]
  },
  {
   "cell_type": "code",
   "execution_count": 10,
   "metadata": {},
   "outputs": [],
   "source": [
    "cts = ['C', 'B', 'BC']\n",
    "tps = ['3', '6', '9', '24', '48']\n",
    "\n",
    "stims = ['alpha', 'beta', 'gamma', 'lambda']"
   ]
  },
  {
   "cell_type": "code",
   "execution_count": 21,
   "metadata": {},
   "outputs": [],
   "source": [
    "import os\n",
    "done_files = os.listdir(data_path + 'binary_test_latest/')"
   ]
  },
  {
   "cell_type": "code",
   "execution_count": 22,
   "metadata": {},
   "outputs": [
    {
     "name": "stdout",
     "output_type": "stream",
     "text": [
      "starting BC 3\n"
     ]
    },
    {
     "name": "stderr",
     "output_type": "stream",
     "text": [
      "/home/ssm-user/anaconda3/envs/single_cell/lib/python3.8/site-packages/pandas/core/arrays/categorical.py:2487: FutureWarning: The `inplace` parameter in pandas.Categorical.remove_unused_categories is deprecated and will be removed in a future version.\n",
      "  res = method(*args, **kwargs)\n",
      "[Parallel(n_jobs=93)]: Using backend LokyBackend with 93 concurrent workers.\n",
      "[Parallel(n_jobs=93)]: Done  14 tasks      | elapsed:    0.6s\n",
      "[Parallel(n_jobs=93)]: Done 264 tasks      | elapsed:    2.8s\n",
      "[Parallel(n_jobs=93)]: Done 614 tasks      | elapsed:    6.0s\n",
      "[Parallel(n_jobs=93)]: Done 1064 tasks      | elapsed:   10.2s\n",
      "[Parallel(n_jobs=93)]: Done 1614 tasks      | elapsed:   15.1s\n",
      "[Parallel(n_jobs=93)]: Done 2264 tasks      | elapsed:   20.8s\n",
      "[Parallel(n_jobs=93)]: Done 3014 tasks      | elapsed:   27.4s\n",
      "[Parallel(n_jobs=93)]: Done 3864 tasks      | elapsed:   35.3s\n",
      "[Parallel(n_jobs=93)]: Done 4814 tasks      | elapsed:   43.7s\n",
      "[Parallel(n_jobs=93)]: Done 5864 tasks      | elapsed:   53.0s\n",
      "[Parallel(n_jobs=93)]: Done 7014 tasks      | elapsed:  1.1min\n",
      "[Parallel(n_jobs=93)]: Done 8264 tasks      | elapsed:  1.2min\n",
      "[Parallel(n_jobs=93)]: Done 9614 tasks      | elapsed:  1.5min\n",
      "[Parallel(n_jobs=93)]: Done 10946 out of 10946 | elapsed:  1.7min finished\n",
      "... storing 'memento_group' as categorical\n"
     ]
    },
    {
     "name": "stdout",
     "output_type": "stream",
     "text": [
      "starting BC 6\n"
     ]
    },
    {
     "name": "stderr",
     "output_type": "stream",
     "text": [
      "/home/ssm-user/anaconda3/envs/single_cell/lib/python3.8/site-packages/pandas/core/arrays/categorical.py:2487: FutureWarning: The `inplace` parameter in pandas.Categorical.remove_unused_categories is deprecated and will be removed in a future version.\n",
      "  res = method(*args, **kwargs)\n",
      "[Parallel(n_jobs=93)]: Using backend LokyBackend with 93 concurrent workers.\n",
      "[Parallel(n_jobs=93)]: Done  14 tasks      | elapsed:    0.6s\n",
      "[Parallel(n_jobs=93)]: Done 264 tasks      | elapsed:    3.3s\n",
      "[Parallel(n_jobs=93)]: Done 614 tasks      | elapsed:    7.0s\n",
      "[Parallel(n_jobs=93)]: Done 1064 tasks      | elapsed:   11.9s\n",
      "[Parallel(n_jobs=93)]: Done 1614 tasks      | elapsed:   17.5s\n",
      "[Parallel(n_jobs=93)]: Done 2264 tasks      | elapsed:   24.1s\n",
      "[Parallel(n_jobs=93)]: Done 3014 tasks      | elapsed:   31.9s\n",
      "[Parallel(n_jobs=93)]: Done 3864 tasks      | elapsed:   41.0s\n",
      "[Parallel(n_jobs=93)]: Done 4814 tasks      | elapsed:   50.8s\n",
      "[Parallel(n_jobs=93)]: Done 5864 tasks      | elapsed:  1.0min\n",
      "[Parallel(n_jobs=93)]: Done 7014 tasks      | elapsed:  1.2min\n",
      "[Parallel(n_jobs=93)]: Done 8264 tasks      | elapsed:  1.5min\n",
      "[Parallel(n_jobs=93)]: Done 9614 tasks      | elapsed:  1.7min\n",
      "[Parallel(n_jobs=93)]: Done 11005 out of 11005 | elapsed:  2.0min finished\n",
      "... storing 'memento_group' as categorical\n"
     ]
    },
    {
     "name": "stdout",
     "output_type": "stream",
     "text": [
      "starting BC 9\n"
     ]
    },
    {
     "name": "stderr",
     "output_type": "stream",
     "text": [
      "/home/ssm-user/anaconda3/envs/single_cell/lib/python3.8/site-packages/pandas/core/arrays/categorical.py:2487: FutureWarning: The `inplace` parameter in pandas.Categorical.remove_unused_categories is deprecated and will be removed in a future version.\n",
      "  res = method(*args, **kwargs)\n",
      "[Parallel(n_jobs=93)]: Using backend LokyBackend with 93 concurrent workers.\n",
      "[Parallel(n_jobs=93)]: Done  14 tasks      | elapsed:    0.8s\n",
      "[Parallel(n_jobs=93)]: Done 264 tasks      | elapsed:    3.9s\n",
      "[Parallel(n_jobs=93)]: Done 614 tasks      | elapsed:    8.7s\n",
      "[Parallel(n_jobs=93)]: Done 1064 tasks      | elapsed:   14.7s\n",
      "[Parallel(n_jobs=93)]: Done 1614 tasks      | elapsed:   21.8s\n",
      "[Parallel(n_jobs=93)]: Done 2264 tasks      | elapsed:   29.9s\n",
      "[Parallel(n_jobs=93)]: Done 3014 tasks      | elapsed:   39.5s\n",
      "[Parallel(n_jobs=93)]: Done 3864 tasks      | elapsed:   50.8s\n",
      "[Parallel(n_jobs=93)]: Done 4814 tasks      | elapsed:  1.0min\n",
      "[Parallel(n_jobs=93)]: Done 5864 tasks      | elapsed:  1.3min\n",
      "[Parallel(n_jobs=93)]: Done 7014 tasks      | elapsed:  1.5min\n",
      "[Parallel(n_jobs=93)]: Done 8264 tasks      | elapsed:  1.8min\n",
      "[Parallel(n_jobs=93)]: Done 9614 tasks      | elapsed:  2.1min\n",
      "[Parallel(n_jobs=93)]: Done 11097 out of 11097 | elapsed:  2.5min finished\n",
      "... storing 'memento_group' as categorical\n"
     ]
    },
    {
     "name": "stdout",
     "output_type": "stream",
     "text": [
      "starting BC 24\n"
     ]
    },
    {
     "name": "stderr",
     "output_type": "stream",
     "text": [
      "/home/ssm-user/anaconda3/envs/single_cell/lib/python3.8/site-packages/pandas/core/arrays/categorical.py:2487: FutureWarning: The `inplace` parameter in pandas.Categorical.remove_unused_categories is deprecated and will be removed in a future version.\n",
      "  res = method(*args, **kwargs)\n",
      "[Parallel(n_jobs=93)]: Using backend LokyBackend with 93 concurrent workers.\n",
      "[Parallel(n_jobs=93)]: Done  14 tasks      | elapsed:    0.7s\n",
      "[Parallel(n_jobs=93)]: Done 264 tasks      | elapsed:    3.3s\n",
      "[Parallel(n_jobs=93)]: Done 614 tasks      | elapsed:    7.3s\n",
      "[Parallel(n_jobs=93)]: Done 1064 tasks      | elapsed:   12.5s\n",
      "[Parallel(n_jobs=93)]: Done 1614 tasks      | elapsed:   18.6s\n",
      "[Parallel(n_jobs=93)]: Done 2264 tasks      | elapsed:   25.4s\n",
      "[Parallel(n_jobs=93)]: Done 3014 tasks      | elapsed:   33.7s\n",
      "[Parallel(n_jobs=93)]: Done 3864 tasks      | elapsed:   43.3s\n",
      "[Parallel(n_jobs=93)]: Done 4814 tasks      | elapsed:   53.4s\n",
      "[Parallel(n_jobs=93)]: Done 5864 tasks      | elapsed:  1.1min\n",
      "[Parallel(n_jobs=93)]: Done 7014 tasks      | elapsed:  1.3min\n",
      "[Parallel(n_jobs=93)]: Done 8264 tasks      | elapsed:  1.5min\n",
      "[Parallel(n_jobs=93)]: Done 9614 tasks      | elapsed:  1.8min\n",
      "[Parallel(n_jobs=93)]: Done 11179 out of 11179 | elapsed:  2.2min finished\n",
      "... storing 'memento_group' as categorical\n"
     ]
    },
    {
     "name": "stdout",
     "output_type": "stream",
     "text": [
      "starting BC 48\n"
     ]
    },
    {
     "name": "stderr",
     "output_type": "stream",
     "text": [
      "/home/ssm-user/anaconda3/envs/single_cell/lib/python3.8/site-packages/pandas/core/arrays/categorical.py:2487: FutureWarning: The `inplace` parameter in pandas.Categorical.remove_unused_categories is deprecated and will be removed in a future version.\n",
      "  res = method(*args, **kwargs)\n",
      "[Parallel(n_jobs=93)]: Using backend LokyBackend with 93 concurrent workers.\n",
      "[Parallel(n_jobs=93)]: Done  14 tasks      | elapsed:    0.6s\n",
      "[Parallel(n_jobs=93)]: Done 264 tasks      | elapsed:    3.1s\n",
      "[Parallel(n_jobs=93)]: Done 614 tasks      | elapsed:    6.9s\n",
      "[Parallel(n_jobs=93)]: Done 1064 tasks      | elapsed:   11.8s\n",
      "[Parallel(n_jobs=93)]: Done 1614 tasks      | elapsed:   17.7s\n",
      "[Parallel(n_jobs=93)]: Done 2264 tasks      | elapsed:   24.0s\n",
      "[Parallel(n_jobs=93)]: Done 3014 tasks      | elapsed:   31.8s\n",
      "[Parallel(n_jobs=93)]: Done 3864 tasks      | elapsed:   40.8s\n",
      "[Parallel(n_jobs=93)]: Done 4814 tasks      | elapsed:   50.4s\n",
      "[Parallel(n_jobs=93)]: Done 5864 tasks      | elapsed:  1.0min\n",
      "[Parallel(n_jobs=93)]: Done 7014 tasks      | elapsed:  1.2min\n",
      "[Parallel(n_jobs=93)]: Done 8264 tasks      | elapsed:  1.4min\n",
      "[Parallel(n_jobs=93)]: Done 9614 tasks      | elapsed:  1.7min\n",
      "[Parallel(n_jobs=93)]: Done 11064 tasks      | elapsed:  1.9min\n",
      "[Parallel(n_jobs=93)]: Done 11382 out of 11382 | elapsed:  2.1min finished\n",
      "... storing 'memento_group' as categorical\n"
     ]
    }
   ],
   "source": [
    "for tp in tps:\n",
    "\n",
    "    fname = 'all_ct_{}_beta_vs_gamma.h5ad'.format(tp)\n",
    "\n",
    "    if fname in done_files:\n",
    "        print('Skipping', fname)\n",
    "        continue\n",
    "\n",
    "    print('starting', ct, tp)\n",
    "\n",
    "    adata_stim = adata.copy()[\n",
    "        adata.obs.ct.isin(['C', 'BC', 'B']) & \\\n",
    "        adata.obs.stim.isin(['beta', 'gamma']) & \\\n",
    "        adata.obs.time.isin([tp]), :].copy()\n",
    "    stim_converter={'gamma':0, 'beta':1}\n",
    "    adata_stim.obs['stim_indicator'] = adata_stim.obs['stim'].apply(lambda x: stim_converter[x])\n",
    "\n",
    "    memento.create_groups(adata_stim, label_columns=['stim_indicator', 'donor', 'ct'])\n",
    "    memento.compute_1d_moments(adata_stim, min_perc_group=.3)\n",
    "\n",
    "    memento.ht_1d_moments(\n",
    "        adata_stim, \n",
    "        formula_like='1 + stim_indicator + donor + ct',\n",
    "        treatment_col='stim_indicator', \n",
    "        num_boot=10000, \n",
    "        verbose=1,\n",
    "        num_cpus=93,\n",
    "        resampling='permutation',\n",
    "        approx=True)\n",
    "\n",
    "    adata_stim.write(data_path + 'binary_test_latest/all_ct_{}_beta_vs_gamma.h5ad'.format(tp))"
   ]
  },
  {
   "cell_type": "markdown",
   "metadata": {},
   "source": [
    "### Run memento going from 3hr to 48 hr, but stratify cell types"
   ]
  },
  {
   "cell_type": "code",
   "execution_count": 13,
   "metadata": {},
   "outputs": [],
   "source": [
    "cts = ['C', 'B', 'BC']\n",
    "tps = ['3', '6', '9', '24', '48']\n",
    "\n",
    "stims = ['alpha', 'beta', 'gamma', 'lambda']"
   ]
  },
  {
   "cell_type": "code",
   "execution_count": 14,
   "metadata": {},
   "outputs": [],
   "source": [
    "import os\n",
    "done_files = os.listdir(data_path + 'binary_test_latest/')"
   ]
  },
  {
   "cell_type": "code",
   "execution_count": 15,
   "metadata": {},
   "outputs": [
    {
     "name": "stdout",
     "output_type": "stream",
     "text": [
      "starting alpha\n"
     ]
    },
    {
     "name": "stderr",
     "output_type": "stream",
     "text": [
      "/home/ssm-user/anaconda3/envs/single_cell/lib/python3.8/site-packages/pandas/core/arrays/categorical.py:2487: FutureWarning: The `inplace` parameter in pandas.Categorical.remove_unused_categories is deprecated and will be removed in a future version.\n",
      "  res = method(*args, **kwargs)\n",
      "[Parallel(n_jobs=93)]: Using backend LokyBackend with 93 concurrent workers.\n",
      "[Parallel(n_jobs=93)]: Done  14 tasks      | elapsed:    0.6s\n",
      "[Parallel(n_jobs=93)]: Done 264 tasks      | elapsed:    3.1s\n",
      "[Parallel(n_jobs=93)]: Done 614 tasks      | elapsed:    6.6s\n",
      "[Parallel(n_jobs=93)]: Done 1064 tasks      | elapsed:   11.3s\n",
      "[Parallel(n_jobs=93)]: Done 1614 tasks      | elapsed:   17.0s\n",
      "[Parallel(n_jobs=93)]: Done 2264 tasks      | elapsed:   23.4s\n",
      "[Parallel(n_jobs=93)]: Done 3014 tasks      | elapsed:   30.8s\n",
      "[Parallel(n_jobs=93)]: Done 3864 tasks      | elapsed:   39.6s\n",
      "[Parallel(n_jobs=93)]: Done 4814 tasks      | elapsed:   49.0s\n",
      "[Parallel(n_jobs=93)]: Done 5864 tasks      | elapsed:   59.5s\n",
      "[Parallel(n_jobs=93)]: Done 7014 tasks      | elapsed:  1.2min\n",
      "[Parallel(n_jobs=93)]: Done 8264 tasks      | elapsed:  1.4min\n",
      "[Parallel(n_jobs=93)]: Done 9614 tasks      | elapsed:  1.6min\n",
      "[Parallel(n_jobs=93)]: Done 11004 out of 11004 | elapsed:  1.9min finished\n",
      "... storing 'memento_group' as categorical\n"
     ]
    },
    {
     "name": "stdout",
     "output_type": "stream",
     "text": [
      "starting beta\n"
     ]
    },
    {
     "name": "stderr",
     "output_type": "stream",
     "text": [
      "/home/ssm-user/anaconda3/envs/single_cell/lib/python3.8/site-packages/pandas/core/arrays/categorical.py:2487: FutureWarning: The `inplace` parameter in pandas.Categorical.remove_unused_categories is deprecated and will be removed in a future version.\n",
      "  res = method(*args, **kwargs)\n",
      "[Parallel(n_jobs=93)]: Using backend LokyBackend with 93 concurrent workers.\n",
      "[Parallel(n_jobs=93)]: Done  14 tasks      | elapsed:    0.5s\n",
      "[Parallel(n_jobs=93)]: Done 264 tasks      | elapsed:    2.7s\n",
      "[Parallel(n_jobs=93)]: Done 614 tasks      | elapsed:    5.9s\n",
      "[Parallel(n_jobs=93)]: Done 1064 tasks      | elapsed:   10.1s\n",
      "[Parallel(n_jobs=93)]: Done 1614 tasks      | elapsed:   15.0s\n",
      "[Parallel(n_jobs=93)]: Done 2264 tasks      | elapsed:   20.3s\n",
      "[Parallel(n_jobs=93)]: Done 3014 tasks      | elapsed:   26.8s\n",
      "[Parallel(n_jobs=93)]: Done 3864 tasks      | elapsed:   34.1s\n",
      "[Parallel(n_jobs=93)]: Done 4814 tasks      | elapsed:   42.0s\n",
      "[Parallel(n_jobs=93)]: Done 5864 tasks      | elapsed:   51.2s\n",
      "[Parallel(n_jobs=93)]: Done 7014 tasks      | elapsed:  1.0min\n",
      "[Parallel(n_jobs=93)]: Done 8264 tasks      | elapsed:  1.2min\n",
      "[Parallel(n_jobs=93)]: Done 9614 tasks      | elapsed:  1.4min\n",
      "[Parallel(n_jobs=93)]: Done 11103 out of 11103 | elapsed:  1.7min finished\n",
      "... storing 'memento_group' as categorical\n"
     ]
    },
    {
     "name": "stdout",
     "output_type": "stream",
     "text": [
      "starting gamma\n"
     ]
    },
    {
     "name": "stderr",
     "output_type": "stream",
     "text": [
      "/home/ssm-user/anaconda3/envs/single_cell/lib/python3.8/site-packages/pandas/core/arrays/categorical.py:2487: FutureWarning: The `inplace` parameter in pandas.Categorical.remove_unused_categories is deprecated and will be removed in a future version.\n",
      "  res = method(*args, **kwargs)\n",
      "[Parallel(n_jobs=93)]: Using backend LokyBackend with 93 concurrent workers.\n",
      "[Parallel(n_jobs=93)]: Done  14 tasks      | elapsed:    0.6s\n",
      "[Parallel(n_jobs=93)]: Done 264 tasks      | elapsed:    3.2s\n",
      "[Parallel(n_jobs=93)]: Done 614 tasks      | elapsed:    6.9s\n",
      "[Parallel(n_jobs=93)]: Done 1064 tasks      | elapsed:   11.9s\n",
      "[Parallel(n_jobs=93)]: Done 1614 tasks      | elapsed:   17.8s\n",
      "[Parallel(n_jobs=93)]: Done 2264 tasks      | elapsed:   24.4s\n",
      "[Parallel(n_jobs=93)]: Done 3014 tasks      | elapsed:   32.3s\n",
      "[Parallel(n_jobs=93)]: Done 3864 tasks      | elapsed:   41.7s\n",
      "[Parallel(n_jobs=93)]: Done 4814 tasks      | elapsed:   51.4s\n",
      "[Parallel(n_jobs=93)]: Done 5864 tasks      | elapsed:  1.0min\n",
      "[Parallel(n_jobs=93)]: Done 7014 tasks      | elapsed:  1.3min\n",
      "[Parallel(n_jobs=93)]: Done 8264 tasks      | elapsed:  1.5min\n",
      "[Parallel(n_jobs=93)]: Done 9614 tasks      | elapsed:  1.7min\n",
      "[Parallel(n_jobs=93)]: Done 11166 out of 11166 | elapsed:  2.1min finished\n",
      "... storing 'memento_group' as categorical\n"
     ]
    },
    {
     "name": "stdout",
     "output_type": "stream",
     "text": [
      "starting lambda\n"
     ]
    },
    {
     "name": "stderr",
     "output_type": "stream",
     "text": [
      "/home/ssm-user/anaconda3/envs/single_cell/lib/python3.8/site-packages/pandas/core/arrays/categorical.py:2487: FutureWarning: The `inplace` parameter in pandas.Categorical.remove_unused_categories is deprecated and will be removed in a future version.\n",
      "  res = method(*args, **kwargs)\n",
      "[Parallel(n_jobs=93)]: Using backend LokyBackend with 93 concurrent workers.\n",
      "[Parallel(n_jobs=93)]: Done  14 tasks      | elapsed:    0.6s\n",
      "[Parallel(n_jobs=93)]: Done 264 tasks      | elapsed:    2.9s\n",
      "[Parallel(n_jobs=93)]: Done 614 tasks      | elapsed:    6.2s\n",
      "[Parallel(n_jobs=93)]: Done 1064 tasks      | elapsed:   10.5s\n",
      "[Parallel(n_jobs=93)]: Done 1614 tasks      | elapsed:   15.8s\n",
      "[Parallel(n_jobs=93)]: Done 2264 tasks      | elapsed:   21.6s\n",
      "[Parallel(n_jobs=93)]: Done 3014 tasks      | elapsed:   28.5s\n",
      "[Parallel(n_jobs=93)]: Done 3864 tasks      | elapsed:   36.3s\n",
      "[Parallel(n_jobs=93)]: Done 4814 tasks      | elapsed:   45.1s\n",
      "[Parallel(n_jobs=93)]: Done 5864 tasks      | elapsed:   55.2s\n",
      "[Parallel(n_jobs=93)]: Done 7014 tasks      | elapsed:  1.1min\n",
      "[Parallel(n_jobs=93)]: Done 8264 tasks      | elapsed:  1.3min\n",
      "[Parallel(n_jobs=93)]: Done 9614 tasks      | elapsed:  1.5min\n",
      "[Parallel(n_jobs=93)]: Done 11227 out of 11227 | elapsed:  1.8min finished\n",
      "... storing 'memento_group' as categorical\n"
     ]
    }
   ],
   "source": [
    "for stim in stims:\n",
    "\n",
    "    fname = 'all_ct_{}_3_vs_48.h5ad'.format(stim)\n",
    "\n",
    "    if fname in done_files:\n",
    "        print('Skipping', fname)\n",
    "        continue\n",
    "\n",
    "    print('starting', stim)\n",
    "\n",
    "    adata_stim = adata.copy()[\n",
    "        adata.obs.ct.isin(cts) & \\\n",
    "        adata.obs.stim.isin(['control', stim]) & \\\n",
    "        adata.obs.time.isin(['3','48']), :].copy()\n",
    "    time_converter={3:0, int('48'):1}\n",
    "    adata_stim.obs['time_step'] = adata_stim.obs['time'].astype(int).apply(lambda x: time_converter[x])\n",
    "\n",
    "    memento.create_groups(adata_stim, label_columns=['time_step', 'donor', 'ct'])\n",
    "    memento.compute_1d_moments(adata_stim, min_perc_group=.3)\n",
    "\n",
    "    memento.ht_1d_moments(\n",
    "        adata_stim, \n",
    "        formula_like='1 + time_step + donor + ct',\n",
    "        treatment_col='time_step', \n",
    "        num_boot=10000, \n",
    "        verbose=1,\n",
    "        num_cpus=93,\n",
    "        resampling='permutation',\n",
    "        approx=True)\n",
    "\n",
    "    adata_stim.write(data_path + 'binary_test_latest/all_ct_{}_3_vs_48.h5ad'.format(stim))"
   ]
  },
  {
   "cell_type": "code",
   "execution_count": null,
   "metadata": {},
   "outputs": [],
   "source": []
  }
 ],
 "metadata": {
  "kernelspec": {
   "display_name": "Python 3",
   "language": "python",
   "name": "python3"
  },
  "language_info": {
   "codemirror_mode": {
    "name": "ipython",
    "version": 3
   },
   "file_extension": ".py",
   "mimetype": "text/x-python",
   "name": "python",
   "nbconvert_exporter": "python",
   "pygments_lexer": "ipython3",
   "version": "3.8.8"
  }
 },
 "nbformat": 4,
 "nbformat_minor": 4
}
