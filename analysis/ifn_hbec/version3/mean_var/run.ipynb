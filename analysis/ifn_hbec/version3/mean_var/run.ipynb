{
 "cells": [
  {
   "cell_type": "markdown",
   "metadata": {},
   "source": [
    "# 1D Variability hypothesis testing for HBEC IFN experiment"
   ]
  },
  {
   "cell_type": "code",
   "execution_count": 1,
   "metadata": {},
   "outputs": [],
   "source": [
    "import scanpy as sc\n",
    "import seaborn as sns\n",
    "import pandas as pd\n",
    "import matplotlib.pyplot as plt\n",
    "import numpy as np\n",
    "import scipy.stats as stats\n",
    "from pybedtools import BedTool\n",
    "import pickle as pkl\n",
    "%matplotlib inline"
   ]
  },
  {
   "cell_type": "code",
   "execution_count": 2,
   "metadata": {},
   "outputs": [],
   "source": [
    "import sys\n",
    "sys.path.append('/home/ssm-user/Github/scrna-parameter-estimation/dist/memento-0.0.6-py3.8.egg')\n",
    "sys.path.append('/home/ssm-user/Github/misc-seq/miscseq/')\n",
    "import encode\n",
    "import memento"
   ]
  },
  {
   "cell_type": "code",
   "execution_count": 3,
   "metadata": {},
   "outputs": [],
   "source": [
    "data_path = '/data_volume/memento/hbec/'"
   ]
  },
  {
   "cell_type": "markdown",
   "metadata": {},
   "source": [
    "### Read the processed RNA data\n",
    "\n",
    "Focus on the club and bc/club cells and type I interferons for now.\n",
    "\n",
    "Encode the timestamps to integers."
   ]
  },
  {
   "cell_type": "code",
   "execution_count": 4,
   "metadata": {},
   "outputs": [],
   "source": [
    "# adata_processed = sc.read(data_path + 'HBEC_type_I_processed.h5ad')"
   ]
  },
  {
   "cell_type": "code",
   "execution_count": 5,
   "metadata": {},
   "outputs": [],
   "source": [
    "adata = sc.read(data_path + 'HBEC_type_I_filtered_counts_deep.h5ad')"
   ]
  },
  {
   "cell_type": "raw",
   "metadata": {},
   "source": [
    "sc.pl.umap(adata_processed, color=['cell_type', 'time', 'stim'])"
   ]
  },
  {
   "cell_type": "code",
   "execution_count": 6,
   "metadata": {},
   "outputs": [],
   "source": [
    "converter = {'basal/club':'BC', 'basal':'B', 'ciliated':'C', 'goblet':'G', 'ionocyte/tuft':'IT', 'neuroendo':'N', 'club':'club'}"
   ]
  },
  {
   "cell_type": "code",
   "execution_count": 11,
   "metadata": {},
   "outputs": [],
   "source": [
    "adata.obs['ct'] = adata.obs['cell_type'].apply(lambda x: converter[x])\n",
    "# adata_processed.obs['ct'] = adata_processed.obs['cell_type'].apply(lambda x: converter[x])"
   ]
  },
  {
   "cell_type": "markdown",
   "metadata": {},
   "source": [
    "### Setup memento"
   ]
  },
  {
   "cell_type": "code",
   "execution_count": 12,
   "metadata": {},
   "outputs": [],
   "source": [
    "def assign_q(batch):\n",
    "    \n",
    "    if batch == 0:\n",
    "        return 0.387*0.25\n",
    "    elif batch == 1:\n",
    "        return 0.392*0.25\n",
    "    elif batch == 2:\n",
    "        return 0.436*0.25\n",
    "    else:\n",
    "        return 0.417*0.25"
   ]
  },
  {
   "cell_type": "code",
   "execution_count": 13,
   "metadata": {},
   "outputs": [],
   "source": [
    "adata.obs['q'] = adata.obs['batch'].apply(assign_q)"
   ]
  },
  {
   "cell_type": "code",
   "execution_count": 15,
   "metadata": {},
   "outputs": [
    {
     "name": "stdout",
     "output_type": "stream",
     "text": [
      "Version 0.0.6\n"
     ]
    }
   ],
   "source": [
    "memento.setup_memento(adata, q_column='q', trim_percent=0.1)"
   ]
  },
  {
   "cell_type": "code",
   "execution_count": 13,
   "metadata": {},
   "outputs": [],
   "source": [
    "cts = ['C', 'B', 'BC']\n",
    "tps = ['3', '6', '9', '24', '48']\n",
    "\n",
    "stims = ['alpha', 'beta', 'gamma', 'lambda']"
   ]
  },
  {
   "cell_type": "markdown",
   "metadata": {},
   "source": [
    "### Run memento for each subset, but stratify cell types, donor, and use time as a replicate"
   ]
  },
  {
   "cell_type": "code",
   "execution_count": 23,
   "metadata": {},
   "outputs": [
    {
     "name": "stdout",
     "output_type": "stream",
     "text": [
      "Starting alpha\n"
     ]
    },
    {
     "name": "stderr",
     "output_type": "stream",
     "text": [
      "/home/ssm-user/anaconda3/envs/single_cell/lib/python3.8/site-packages/pandas/core/arrays/categorical.py:2487: FutureWarning: The `inplace` parameter in pandas.Categorical.remove_unused_categories is deprecated and will be removed in a future version.\n",
      "  res = method(*args, **kwargs)\n"
     ]
    },
    {
     "name": "stdout",
     "output_type": "stream",
     "text": [
      "(19469, 9265)\n"
     ]
    },
    {
     "name": "stderr",
     "output_type": "stream",
     "text": [
      "[Parallel(n_jobs=93)]: Using backend LokyBackend with 93 concurrent workers.\n",
      "[Parallel(n_jobs=93)]: Done  14 tasks      | elapsed:    8.8s\n",
      "[Parallel(n_jobs=93)]: Done 264 tasks      | elapsed:   16.4s\n",
      "[Parallel(n_jobs=93)]: Done 614 tasks      | elapsed:   27.3s\n",
      "[Parallel(n_jobs=93)]: Done 1064 tasks      | elapsed:   40.7s\n",
      "[Parallel(n_jobs=93)]: Done 1614 tasks      | elapsed:   56.6s\n",
      "[Parallel(n_jobs=93)]: Done 2264 tasks      | elapsed:  1.3min\n",
      "[Parallel(n_jobs=93)]: Done 3014 tasks      | elapsed:  1.6min\n",
      "[Parallel(n_jobs=93)]: Done 3864 tasks      | elapsed:  2.1min\n",
      "[Parallel(n_jobs=93)]: Done 4814 tasks      | elapsed:  2.5min\n",
      "[Parallel(n_jobs=93)]: Done 5864 tasks      | elapsed:  3.0min\n",
      "[Parallel(n_jobs=93)]: Done 7014 tasks      | elapsed:  3.6min\n",
      "[Parallel(n_jobs=93)]: Done 8264 tasks      | elapsed:  4.2min\n",
      "[Parallel(n_jobs=93)]: Done 9265 out of 9265 | elapsed:  4.8min finished\n",
      "... storing 'memento_group' as categorical\n"
     ]
    },
    {
     "name": "stdout",
     "output_type": "stream",
     "text": [
      "Starting beta\n"
     ]
    },
    {
     "name": "stderr",
     "output_type": "stream",
     "text": [
      "/home/ssm-user/anaconda3/envs/single_cell/lib/python3.8/site-packages/pandas/core/arrays/categorical.py:2487: FutureWarning: The `inplace` parameter in pandas.Categorical.remove_unused_categories is deprecated and will be removed in a future version.\n",
      "  res = method(*args, **kwargs)\n"
     ]
    },
    {
     "name": "stdout",
     "output_type": "stream",
     "text": [
      "(19591, 9231)\n"
     ]
    },
    {
     "name": "stderr",
     "output_type": "stream",
     "text": [
      "[Parallel(n_jobs=93)]: Using backend LokyBackend with 93 concurrent workers.\n",
      "[Parallel(n_jobs=93)]: Done  14 tasks      | elapsed:    2.2s\n",
      "[Parallel(n_jobs=93)]: Done 264 tasks      | elapsed:    9.7s\n",
      "[Parallel(n_jobs=93)]: Done 614 tasks      | elapsed:   21.1s\n",
      "[Parallel(n_jobs=93)]: Done 1064 tasks      | elapsed:   35.2s\n",
      "[Parallel(n_jobs=93)]: Done 1614 tasks      | elapsed:   52.3s\n",
      "[Parallel(n_jobs=93)]: Done 2264 tasks      | elapsed:  1.2min\n",
      "[Parallel(n_jobs=93)]: Done 3014 tasks      | elapsed:  1.6min\n",
      "[Parallel(n_jobs=93)]: Done 3864 tasks      | elapsed:  2.1min\n",
      "[Parallel(n_jobs=93)]: Done 4814 tasks      | elapsed:  2.6min\n",
      "[Parallel(n_jobs=93)]: Done 5864 tasks      | elapsed:  3.1min\n",
      "[Parallel(n_jobs=93)]: Done 7014 tasks      | elapsed:  3.7min\n",
      "[Parallel(n_jobs=93)]: Done 8264 tasks      | elapsed:  4.4min\n",
      "[Parallel(n_jobs=93)]: Done 9231 out of 9231 | elapsed:  5.0min finished\n",
      "... storing 'memento_group' as categorical\n"
     ]
    },
    {
     "name": "stdout",
     "output_type": "stream",
     "text": [
      "Starting gamma\n"
     ]
    },
    {
     "name": "stderr",
     "output_type": "stream",
     "text": [
      "/home/ssm-user/anaconda3/envs/single_cell/lib/python3.8/site-packages/pandas/core/arrays/categorical.py:2487: FutureWarning: The `inplace` parameter in pandas.Categorical.remove_unused_categories is deprecated and will be removed in a future version.\n",
      "  res = method(*args, **kwargs)\n"
     ]
    },
    {
     "name": "stdout",
     "output_type": "stream",
     "text": [
      "(18552, 9362)\n"
     ]
    },
    {
     "name": "stderr",
     "output_type": "stream",
     "text": [
      "[Parallel(n_jobs=93)]: Using backend LokyBackend with 93 concurrent workers.\n",
      "[Parallel(n_jobs=93)]: Done  14 tasks      | elapsed:    1.9s\n",
      "[Parallel(n_jobs=93)]: Done 264 tasks      | elapsed:    8.7s\n",
      "[Parallel(n_jobs=93)]: Done 614 tasks      | elapsed:   19.2s\n",
      "[Parallel(n_jobs=93)]: Done 1064 tasks      | elapsed:   32.0s\n",
      "[Parallel(n_jobs=93)]: Done 1614 tasks      | elapsed:   47.6s\n",
      "[Parallel(n_jobs=93)]: Done 2264 tasks      | elapsed:  1.1min\n",
      "[Parallel(n_jobs=93)]: Done 3014 tasks      | elapsed:  1.5min\n",
      "[Parallel(n_jobs=93)]: Done 3864 tasks      | elapsed:  1.9min\n",
      "[Parallel(n_jobs=93)]: Done 4814 tasks      | elapsed:  2.3min\n",
      "[Parallel(n_jobs=93)]: Done 5864 tasks      | elapsed:  2.8min\n",
      "[Parallel(n_jobs=93)]: Done 7014 tasks      | elapsed:  3.4min\n",
      "[Parallel(n_jobs=93)]: Done 8264 tasks      | elapsed:  4.0min\n",
      "[Parallel(n_jobs=93)]: Done 9362 out of 9362 | elapsed:  4.6min finished\n",
      "... storing 'memento_group' as categorical\n"
     ]
    },
    {
     "name": "stdout",
     "output_type": "stream",
     "text": [
      "Starting lambda\n"
     ]
    },
    {
     "name": "stderr",
     "output_type": "stream",
     "text": [
      "/home/ssm-user/anaconda3/envs/single_cell/lib/python3.8/site-packages/pandas/core/arrays/categorical.py:2487: FutureWarning: The `inplace` parameter in pandas.Categorical.remove_unused_categories is deprecated and will be removed in a future version.\n",
      "  res = method(*args, **kwargs)\n"
     ]
    },
    {
     "name": "stdout",
     "output_type": "stream",
     "text": [
      "(17088, 9371)\n"
     ]
    },
    {
     "name": "stderr",
     "output_type": "stream",
     "text": [
      "[Parallel(n_jobs=93)]: Using backend LokyBackend with 93 concurrent workers.\n",
      "[Parallel(n_jobs=93)]: Done  14 tasks      | elapsed:    2.5s\n",
      "[Parallel(n_jobs=93)]: Done 264 tasks      | elapsed:    9.8s\n",
      "[Parallel(n_jobs=93)]: Done 614 tasks      | elapsed:   21.1s\n",
      "[Parallel(n_jobs=93)]: Done 1064 tasks      | elapsed:   35.1s\n",
      "[Parallel(n_jobs=93)]: Done 1614 tasks      | elapsed:   51.9s\n",
      "[Parallel(n_jobs=93)]: Done 2264 tasks      | elapsed:  1.2min\n",
      "[Parallel(n_jobs=93)]: Done 3014 tasks      | elapsed:  1.6min\n",
      "[Parallel(n_jobs=93)]: Done 3864 tasks      | elapsed:  2.0min\n",
      "[Parallel(n_jobs=93)]: Done 4814 tasks      | elapsed:  2.5min\n",
      "[Parallel(n_jobs=93)]: Done 5864 tasks      | elapsed:  3.1min\n",
      "[Parallel(n_jobs=93)]: Done 7014 tasks      | elapsed:  3.7min\n",
      "[Parallel(n_jobs=93)]: Done 8264 tasks      | elapsed:  4.3min\n",
      "[Parallel(n_jobs=93)]: Done 9371 out of 9371 | elapsed:  5.1min finished\n",
      "... storing 'memento_group' as categorical\n"
     ]
    }
   ],
   "source": [
    "for stim in stims:\n",
    "    \n",
    "    print('Starting', stim)\n",
    "\n",
    "    adata_stim = adata.copy()[\n",
    "        adata.obs.ct.isin(['C', 'BC', 'B']) & \\\n",
    "        adata.obs.stim.isin([stim, 'control']), :].copy()\n",
    "    stim_converter={'control':0, stim:1}\n",
    "    adata_stim.obs['stim_indicator'] = adata_stim.obs['stim'].apply(lambda x: stim_converter[x])\n",
    "\n",
    "    memento.create_groups(adata_stim, label_columns=['stim_indicator', 'donor', 'ct', 'time'])\n",
    "    memento.compute_1d_moments(adata_stim, min_perc_group=.5)\n",
    "    print(adata_stim.shape)\n",
    "\n",
    "    memento.ht_1d_moments(\n",
    "        adata_stim, \n",
    "        formula_like='1 + stim_indicator + donor + ct',\n",
    "        treatment_col='stim_indicator', \n",
    "        num_boot=10000, \n",
    "        verbose=1,\n",
    "        num_cpus=93,\n",
    "        resampling='bootstrap',\n",
    "        approx=False)\n",
    "\n",
    "    adata_stim.write(data_path + 'binary_test_stratified/{}_stratified.h5ad'.format(stim))"
   ]
  },
  {
   "cell_type": "markdown",
   "metadata": {},
   "source": [
    "### Run memento going through time, but stratify cell types and donor"
   ]
  },
  {
   "cell_type": "code",
   "execution_count": 24,
   "metadata": {},
   "outputs": [
    {
     "name": "stderr",
     "output_type": "stream",
     "text": [
      "/home/ssm-user/anaconda3/envs/single_cell/lib/python3.8/site-packages/pandas/core/arrays/categorical.py:2487: FutureWarning: The `inplace` parameter in pandas.Categorical.remove_unused_categories is deprecated and will be removed in a future version.\n",
      "  res = method(*args, **kwargs)\n",
      "[Parallel(n_jobs=93)]: Using backend LokyBackend with 93 concurrent workers.\n",
      "[Parallel(n_jobs=93)]: Done  14 tasks      | elapsed:    1.7s\n",
      "[Parallel(n_jobs=93)]: Done 264 tasks      | elapsed:    8.0s\n",
      "[Parallel(n_jobs=93)]: Done 614 tasks      | elapsed:   17.2s\n",
      "[Parallel(n_jobs=93)]: Done 1064 tasks      | elapsed:   28.8s\n",
      "[Parallel(n_jobs=93)]: Done 1614 tasks      | elapsed:   42.8s\n",
      "[Parallel(n_jobs=93)]: Done 2264 tasks      | elapsed:   59.4s\n",
      "[Parallel(n_jobs=93)]: Done 3014 tasks      | elapsed:  1.3min\n",
      "[Parallel(n_jobs=93)]: Done 3864 tasks      | elapsed:  1.7min\n",
      "[Parallel(n_jobs=93)]: Done 4814 tasks      | elapsed:  2.1min\n",
      "[Parallel(n_jobs=93)]: Done 5864 tasks      | elapsed:  2.5min\n",
      "[Parallel(n_jobs=93)]: Done 7014 tasks      | elapsed:  3.0min\n",
      "[Parallel(n_jobs=93)]: Done 8264 tasks      | elapsed:  3.6min\n",
      "[Parallel(n_jobs=93)]: Done 9199 out of 9199 | elapsed:  4.1min finished\n",
      "... storing 'memento_group' as categorical\n",
      "/home/ssm-user/anaconda3/envs/single_cell/lib/python3.8/site-packages/pandas/core/arrays/categorical.py:2487: FutureWarning: The `inplace` parameter in pandas.Categorical.remove_unused_categories is deprecated and will be removed in a future version.\n",
      "  res = method(*args, **kwargs)\n",
      "[Parallel(n_jobs=93)]: Using backend LokyBackend with 93 concurrent workers.\n",
      "[Parallel(n_jobs=93)]: Done  14 tasks      | elapsed:    1.7s\n",
      "[Parallel(n_jobs=93)]: Done 264 tasks      | elapsed:    8.5s\n",
      "[Parallel(n_jobs=93)]: Done 614 tasks      | elapsed:   18.5s\n",
      "[Parallel(n_jobs=93)]: Done 1064 tasks      | elapsed:   30.9s\n",
      "[Parallel(n_jobs=93)]: Done 1614 tasks      | elapsed:   45.9s\n",
      "[Parallel(n_jobs=93)]: Done 2264 tasks      | elapsed:  1.1min\n",
      "[Parallel(n_jobs=93)]: Done 3014 tasks      | elapsed:  1.4min\n",
      "[Parallel(n_jobs=93)]: Done 3864 tasks      | elapsed:  1.8min\n",
      "[Parallel(n_jobs=93)]: Done 4814 tasks      | elapsed:  2.2min\n",
      "[Parallel(n_jobs=93)]: Done 5864 tasks      | elapsed:  2.7min\n",
      "[Parallel(n_jobs=93)]: Done 7014 tasks      | elapsed:  3.3min\n",
      "[Parallel(n_jobs=93)]: Done 8264 tasks      | elapsed:  3.9min\n",
      "[Parallel(n_jobs=93)]: Done 9143 out of 9143 | elapsed:  4.4min finished\n",
      "... storing 'memento_group' as categorical\n",
      "/home/ssm-user/anaconda3/envs/single_cell/lib/python3.8/site-packages/pandas/core/arrays/categorical.py:2487: FutureWarning: The `inplace` parameter in pandas.Categorical.remove_unused_categories is deprecated and will be removed in a future version.\n",
      "  res = method(*args, **kwargs)\n",
      "[Parallel(n_jobs=93)]: Using backend LokyBackend with 93 concurrent workers.\n",
      "[Parallel(n_jobs=93)]: Done  14 tasks      | elapsed:    1.6s\n",
      "[Parallel(n_jobs=93)]: Done 264 tasks      | elapsed:    7.5s\n",
      "[Parallel(n_jobs=93)]: Done 614 tasks      | elapsed:   16.5s\n",
      "[Parallel(n_jobs=93)]: Done 1064 tasks      | elapsed:   27.8s\n",
      "[Parallel(n_jobs=93)]: Done 1614 tasks      | elapsed:   41.1s\n",
      "[Parallel(n_jobs=93)]: Done 2264 tasks      | elapsed:   57.2s\n",
      "[Parallel(n_jobs=93)]: Done 3014 tasks      | elapsed:  1.3min\n",
      "[Parallel(n_jobs=93)]: Done 3864 tasks      | elapsed:  1.6min\n",
      "[Parallel(n_jobs=93)]: Done 4814 tasks      | elapsed:  2.0min\n",
      "[Parallel(n_jobs=93)]: Done 5864 tasks      | elapsed:  2.5min\n",
      "[Parallel(n_jobs=93)]: Done 7014 tasks      | elapsed:  2.9min\n",
      "[Parallel(n_jobs=93)]: Done 8264 tasks      | elapsed:  3.5min\n",
      "[Parallel(n_jobs=93)]: Done 9288 out of 9288 | elapsed:  4.0min finished\n",
      "... storing 'memento_group' as categorical\n",
      "/home/ssm-user/anaconda3/envs/single_cell/lib/python3.8/site-packages/pandas/core/arrays/categorical.py:2487: FutureWarning: The `inplace` parameter in pandas.Categorical.remove_unused_categories is deprecated and will be removed in a future version.\n",
      "  res = method(*args, **kwargs)\n",
      "[Parallel(n_jobs=93)]: Using backend LokyBackend with 93 concurrent workers.\n",
      "[Parallel(n_jobs=93)]: Done  14 tasks      | elapsed:    1.7s\n",
      "[Parallel(n_jobs=93)]: Done 264 tasks      | elapsed:    8.1s\n",
      "[Parallel(n_jobs=93)]: Done 614 tasks      | elapsed:   17.7s\n",
      "[Parallel(n_jobs=93)]: Done 1064 tasks      | elapsed:   29.8s\n",
      "[Parallel(n_jobs=93)]: Done 1614 tasks      | elapsed:   44.1s\n",
      "[Parallel(n_jobs=93)]: Done 2264 tasks      | elapsed:  1.0min\n",
      "[Parallel(n_jobs=93)]: Done 3014 tasks      | elapsed:  1.4min\n",
      "[Parallel(n_jobs=93)]: Done 3864 tasks      | elapsed:  1.7min\n",
      "[Parallel(n_jobs=93)]: Done 4814 tasks      | elapsed:  2.2min\n",
      "[Parallel(n_jobs=93)]: Done 5864 tasks      | elapsed:  2.6min\n",
      "[Parallel(n_jobs=93)]: Done 7014 tasks      | elapsed:  3.1min\n",
      "[Parallel(n_jobs=93)]: Done 8264 tasks      | elapsed:  3.7min\n",
      "[Parallel(n_jobs=93)]: Done 9315 out of 9315 | elapsed:  4.3min finished\n",
      "... storing 'memento_group' as categorical\n"
     ]
    }
   ],
   "source": [
    "for stim in stims:\n",
    "\n",
    "    adata_stim = adata.copy()[\n",
    "        adata.obs.ct.isin(cts) & \\\n",
    "        adata.obs.stim.isin([stim]), :].copy()\n",
    "    time_converter={3:0, 6:1, 9:2, 24:3, 48:4}\n",
    "    adata_stim.obs['time_step'] = adata_stim.obs['time'].astype(int).apply(lambda x: time_converter[x])\n",
    "\n",
    "    memento.create_groups(adata_stim, label_columns=['time_step', 'donor', 'ct'])\n",
    "    memento.compute_1d_moments(adata_stim, min_perc_group=.5)\n",
    "\n",
    "    memento.ht_1d_moments(\n",
    "        adata_stim, \n",
    "        formula_like='1 + time_step + donor + ct',\n",
    "        treatment_col='time_step', \n",
    "        num_boot=10000, \n",
    "        verbose=1,\n",
    "        num_cpus=93,\n",
    "        resampling='bootstrap',\n",
    "        approx=False)\n",
    "\n",
    "    adata_stim.write(data_path + 'binary_test_stratified/{}_stratified_time.h5ad'.format(stim))"
   ]
  },
  {
   "cell_type": "code",
   "execution_count": null,
   "metadata": {},
   "outputs": [],
   "source": []
  }
 ],
 "metadata": {
  "kernelspec": {
   "display_name": "Python 3",
   "language": "python",
   "name": "python3"
  },
  "language_info": {
   "codemirror_mode": {
    "name": "ipython",
    "version": 3
   },
   "file_extension": ".py",
   "mimetype": "text/x-python",
   "name": "python",
   "nbconvert_exporter": "python",
   "pygments_lexer": "ipython3",
   "version": "3.8.8"
  }
 },
 "nbformat": 4,
 "nbformat_minor": 4
}
