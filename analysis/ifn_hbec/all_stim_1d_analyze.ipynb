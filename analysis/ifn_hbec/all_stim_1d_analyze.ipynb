{
 "cells": [
  {
   "cell_type": "markdown",
   "metadata": {},
   "source": [
    "# Variability analysis for HBEC IFN experiment"
   ]
  },
  {
   "cell_type": "code",
   "execution_count": 24,
   "metadata": {},
   "outputs": [],
   "source": [
    "import scanpy as sc\n",
    "import seaborn as sns\n",
    "import pandas as pd\n",
    "import matplotlib.pyplot as plt\n",
    "import numpy as np\n",
    "import scipy.stats as stats\n",
    "from pybedtools import BedTool\n",
    "import pickle as pkl\n",
    "%matplotlib inline\n",
    "import itertools"
   ]
  },
  {
   "cell_type": "code",
   "execution_count": 25,
   "metadata": {},
   "outputs": [],
   "source": [
    "import sys\n",
    "sys.path.append('/data/home/Github/scrna-parameter-estimation/dist/memento-0.0.4-py3.7.egg')\n",
    "sys.path.append('/data/home/Github/misc-seq/miscseq/')\n",
    "import encode\n",
    "import memento"
   ]
  },
  {
   "cell_type": "code",
   "execution_count": 26,
   "metadata": {},
   "outputs": [],
   "source": [
    "data_path = '/data_volume/ifn_hbec/'"
   ]
  },
  {
   "cell_type": "code",
   "execution_count": 262,
   "metadata": {},
   "outputs": [],
   "source": [
    "import matplotlib.pylab as pylab\n",
    "params = {'legend.fontsize': 'medium',\n",
    "         'axes.labelsize': 'medium',\n",
    "         'axes.titlesize':'medium',\n",
    "         'figure.titlesize':'medium',\n",
    "         'xtick.labelsize':'small',\n",
    "         'ytick.labelsize':'small'}\n",
    "pylab.rcParams.update(params)"
   ]
  },
  {
   "cell_type": "markdown",
   "metadata": {},
   "source": [
    "### Get canonical TFs"
   ]
  },
  {
   "cell_type": "code",
   "execution_count": 27,
   "metadata": {},
   "outputs": [],
   "source": [
    "tf_df = pd.read_csv('DatabaseExtract_v_1.01.csv', index_col=0)\n",
    "tf_df = tf_df[tf_df['TF assessment'] == 'Known motif']\n",
    "tfs = tf_df['HGNC symbol'].tolist()"
   ]
  },
  {
   "cell_type": "markdown",
   "metadata": {},
   "source": [
    "### Read the processed RNA data\n",
    "\n",
    "Focus on the club and bc/club cells and type I interferons for now.\n",
    "\n",
    "Encode the timestamps to integers."
   ]
  },
  {
   "cell_type": "raw",
   "metadata": {},
   "source": [
    "adata_processed = sc.read(data_path + 'HBEC_type_I_processed.h5ad')"
   ]
  },
  {
   "cell_type": "code",
   "execution_count": 5,
   "metadata": {},
   "outputs": [],
   "source": [
    "adata = sc.read(data_path + 'HBEC_type_I_filtered_counts.h5ad')"
   ]
  },
  {
   "cell_type": "code",
   "execution_count": 6,
   "metadata": {},
   "outputs": [],
   "source": [
    "adata = adata[:, ~adata.var.index.str.startswith('MT-')].copy()\n",
    "adata.obs['cell_type'] = adata.obs['cell_type'].apply(lambda x: x if x != 'basal/club' else 'bc')\n",
    "adata.obs['cell_type'] = adata.obs['cell_type'].apply(lambda x: x if x != 'ionocyte/tuft' else 'ion-tuft')"
   ]
  },
  {
   "cell_type": "raw",
   "metadata": {},
   "source": [
    "sc.pl.umap(adata_processed, color=['cell_type', 'time', 'stim'])"
   ]
  },
  {
   "cell_type": "code",
   "execution_count": 7,
   "metadata": {},
   "outputs": [
    {
     "data": {
      "text/plain": [
       "(69252, 36588)"
      ]
     },
     "execution_count": 7,
     "metadata": {},
     "output_type": "execute_result"
    }
   ],
   "source": [
    "adata.shape"
   ]
  },
  {
   "cell_type": "markdown",
   "metadata": {},
   "source": [
    "### Read 1d HT result comparing to control"
   ]
  },
  {
   "cell_type": "code",
   "execution_count": 174,
   "metadata": {},
   "outputs": [],
   "source": [
    "cts = [['ciliated'], ['bc', 'basal']]\n",
    "tps = ['3', '6', '9', '24', '48']\n",
    "stims = ['alpha', 'beta', 'gamma', 'lambda']"
   ]
  },
  {
   "cell_type": "code",
   "execution_count": 175,
   "metadata": {},
   "outputs": [],
   "source": [
    "def read_result(ct):\n",
    "    \n",
    "    ht_dict = {}\n",
    "    moments_dict = {}\n",
    "    \n",
    "    for stim in stims:\n",
    "        ht_dict[stim] = {}\n",
    "        moments_dict[stim] = {}\n",
    "        for tp in tps: \n",
    "            adata_subset = sc.read('/data_volume/ifn_hbec/binary_test_deep/{}_{}_{}.h5ad'.format('-'.join(ct), stim, tp))\n",
    "            ht_dict[stim][tp] = memento.get_1d_ht_result(adata_subset)\n",
    "            ht_dict[stim][tp]['de_fdr'] = memento.util._fdrcorrect(ht_dict[stim][tp]['de_pval'])\n",
    "            ht_dict[stim][tp]['dv_fdr'] = memento.util._fdrcorrect(ht_dict[stim][tp]['dv_pval'])\n",
    "            moments_dict[stim][tp] = memento.get_1d_moments(adata_subset, groupby='time_step')\n",
    "    return ht_dict,moments_dict"
   ]
  },
  {
   "cell_type": "code",
   "execution_count": 176,
   "metadata": {},
   "outputs": [],
   "source": [
    "all_result = {}\n",
    "for ct in cts:\n",
    "    \n",
    "    key = '-'.join(ct)\n",
    "    all_result[key] = {}\n",
    "    \n",
    "    all_result[key]['ht'], all_result[key]['moments'] = read_result(ct)"
   ]
  },
  {
   "cell_type": "markdown",
   "metadata": {},
   "source": [
    "### Some basic enrichment analysis - increased variance"
   ]
  },
  {
   "cell_type": "code",
   "execution_count": 11,
   "metadata": {},
   "outputs": [],
   "source": [
    "stim = 'gamma'\n",
    "gene_list = []\n",
    "for tp in tps[1:]:\n",
    "    df = all_result['bc-basal']['ht'][stim][tp].query('dv_coef > 0 & dv_fdr < 0.1 & de_coef > 0')\n",
    "    gene_list += df.gene.tolist()\n",
    "gene_list = list(set(gene_list))"
   ]
  },
  {
   "cell_type": "markdown",
   "metadata": {},
   "source": [
    "### Setup memento"
   ]
  },
  {
   "cell_type": "code",
   "execution_count": 12,
   "metadata": {},
   "outputs": [],
   "source": [
    "def assign_q(batch):\n",
    "    \n",
    "    if batch == 0:\n",
    "        return 0.387*0.25\n",
    "    elif batch == 1:\n",
    "        return 0.392*0.25\n",
    "    elif batch == 2:\n",
    "        return 0.436*0.25\n",
    "    else:\n",
    "        return 0.417*0.25"
   ]
  },
  {
   "cell_type": "code",
   "execution_count": 13,
   "metadata": {},
   "outputs": [],
   "source": [
    "adata.obs['q'] = adata.obs['batch'].apply(assign_q)"
   ]
  },
  {
   "cell_type": "code",
   "execution_count": 14,
   "metadata": {},
   "outputs": [],
   "source": [
    "memento.setup_memento(adata, q_column='q')"
   ]
  },
  {
   "cell_type": "markdown",
   "metadata": {},
   "source": [
    "### Pick top regulators"
   ]
  },
  {
   "cell_type": "code",
   "execution_count": 15,
   "metadata": {},
   "outputs": [],
   "source": [
    "expr_df = pd.DataFrame()\n",
    "expr_df['gene'] = adata.var.index.tolist()\n",
    "expr_df['expr'] = adata.uns['memento']['all_1d_moments'][0]\n",
    "filtered_tfs = expr_df.query('gene in @tfs').sort_values('expr', ascending=False).head(70).gene.tolist()"
   ]
  },
  {
   "cell_type": "markdown",
   "metadata": {},
   "source": [
    "### Get correlated TFs for each gene in each state"
   ]
  },
  {
   "cell_type": "code",
   "execution_count": 221,
   "metadata": {},
   "outputs": [],
   "source": [
    "cts = [['ciliated']]\n",
    "tps = ['3', '6', '9', '24', '48']\n",
    "stims = ['alpha']"
   ]
  },
  {
   "cell_type": "code",
   "execution_count": 276,
   "metadata": {},
   "outputs": [],
   "source": [
    "def get_tf_g_vars(stim, ct, logfc=1):\n",
    "    \n",
    "    g_mean_list = []\n",
    "    tf_mean_list = []\n",
    "    g_var_list = []\n",
    "    tf_var_list = []\n",
    "    for tp in ['0','3', '6', '9', '24', '48']:\n",
    "\n",
    "        ctrl_gene_list = []\n",
    "        for tp2 in tps[1:]:\n",
    "            df = all_result['-'.join(ct)]['ht'][stim][tp2].query('de_coef > {} & de_fdr < 0.05'.format(logfc))\n",
    "            ctrl_gene_list += df.gene.tolist()\n",
    "\n",
    "        print('starting', ct, tp, stim)\n",
    "\n",
    "        adata_stim = adata.copy()[\n",
    "            adata.obs.cell_type.isin(ct) & \\\n",
    "            adata.obs.stim.isin(['control', stim]) & \\\n",
    "            adata.obs.time.isin([tp]), :].copy()\n",
    "        time_converter={int(tp):1}\n",
    "        adata_stim.obs['time_step'] = adata_stim.obs['time'].astype(int).apply(lambda x: time_converter[x])\n",
    "\n",
    "        memento.create_groups(adata_stim, label_columns=['donor', 'time_step'])\n",
    "        memento.compute_1d_moments(adata_stim, min_perc_group=.8)\n",
    "\n",
    "        relevant_tfs = list(set(tfs) & set(adata_stim.var.index))\n",
    "        gene_list = list(set(ctrl_gene_list) & set(adata_stim.var.index))\n",
    "\n",
    "        memento.compute_2d_moments(adata_stim, list(itertools.product(relevant_tfs, gene_list)))\n",
    "\n",
    "        moment_2d = memento.get_2d_moments(adata_stim, groupby='time_step')\n",
    "        moment_1d_mean = memento.get_1d_moments(adata_stim, groupby='time_step')[0]\n",
    "        moment_1d = memento.get_1d_moments(adata_stim, groupby='time_step')[1]\n",
    "\n",
    "        moment_1d.to_csv('/data_volume/ifn_hbec/corr_var/{}_{}_{}_1d.csv'.format('-'.join(ct), stim, tp), index=False)\n",
    "        moment_2d.to_csv('/data_volume/ifn_hbec/corr_var/{}_{}_{}_2d.csv'.format('-'.join(ct), stim, tp), index=False)\n",
    "\n",
    "        high_corr_tfs = moment_2d.query('time_step_1 > 0.3', engine='python').groupby('gene_2').gene_1.apply(list)\n",
    "\n",
    "        g_var = []\n",
    "        tf_var = []\n",
    "        g_mean = []\n",
    "        tf_mean = []\n",
    "        for gene in gene_list:\n",
    "\n",
    "            if not gene in high_corr_tfs.index:\n",
    "                continue\n",
    "                \n",
    "            g_mean.append(moment_1d_mean.query('gene == \"{}\"'.format(gene)).values[0, 1])\n",
    "            g_var.append(moment_1d.query('gene == \"{}\"'.format(gene)).values[0, 1])\n",
    "            ts = high_corr_tfs[gene]\n",
    "        #     tf_var.append(len(ts))\n",
    "            tf_var.append(np.mean(moment_1d.query('gene.isin(@ts)', engine='python').values[:, 1]))\n",
    "            tf_mean.append(np.mean(moment_1d_mean.query('gene.isin(@ts)', engine='python').values[:, 1]))\n",
    "\n",
    "        print(stats.pearsonr(g_var, tf_var))\n",
    "        print(stats.pearsonr(g_mean, tf_mean))\n",
    "\n",
    "        g_var_list.append(np.array(g_var))\n",
    "        g_mean_list.append(np.array(g_mean))\n",
    "        tf_var_list.append(np.array(tf_var))\n",
    "        tf_mean_list.append(np.array(tf_mean))\n",
    "        \n",
    "    return np.concatenate(g_var_list), \\\n",
    "        np.concatenate(tf_var_list), \\\n",
    "        np.concatenate(g_mean_list),\\\n",
    "        np.concatenate(tf_mean_list)\n"
   ]
  },
  {
   "cell_type": "code",
   "execution_count": 277,
   "metadata": {},
   "outputs": [
    {
     "data": {
      "text/plain": [
       "(0.301706723173527, 1.498313450719037e-46)"
      ]
     },
     "execution_count": 277,
     "metadata": {},
     "output_type": "execute_result"
    }
   ],
   "source": [
    "stats.pearsonr(np.concatenate(g_var_list), np.concatenate(tf_var_list))"
   ]
  },
  {
   "cell_type": "code",
   "execution_count": 278,
   "metadata": {},
   "outputs": [
    {
     "name": "stdout",
     "output_type": "stream",
     "text": [
      "starting ['ciliated'] 0 lambda\n"
     ]
    },
    {
     "name": "stderr",
     "output_type": "stream",
     "text": [
      "/data/home/Github/scrna-parameter-estimation/dist/memento-0.0.4-py3.7.egg/memento/main.py:578: RuntimeWarning: invalid value encountered in true_divide\n",
      "  groupby_corr[key] /= groupby_corr_count[key]\n"
     ]
    },
    {
     "name": "stdout",
     "output_type": "stream",
     "text": [
      "(0.24601790426695563, 0.0005266879260518222)\n",
      "(0.1552093219074313, 0.030265946566208356)\n",
      "starting ['ciliated'] 3 lambda\n",
      "(0.5601861538561371, 2.7055967186244606e-23)\n",
      "(0.4083449895768544, 4.5179193979015125e-12)\n",
      "starting ['ciliated'] 6 lambda\n",
      "(0.35050667527850043, 2.786530906821842e-09)\n",
      "(0.2471904563751262, 3.753628061637839e-05)\n",
      "starting ['ciliated'] 9 lambda\n",
      "(0.5038161111749582, 9.451739529902435e-20)\n",
      "(0.3376369097278772, 4.98934963839756e-09)\n",
      "starting ['ciliated'] 24 lambda\n",
      "(0.3309451661002549, 7.695458027398264e-09)\n",
      "(0.20693467138387314, 0.0003893162580468685)\n",
      "starting ['ciliated'] 48 lambda\n",
      "(0.43562797929280206, 3.283121296511646e-14)\n",
      "(0.30076115747381404, 3.5368397192830473e-07)\n"
     ]
    },
    {
     "data": {
      "text/plain": [
       "Text(0, 0.5, 'TF variability')"
      ]
     },
     "execution_count": 278,
     "metadata": {},
     "output_type": "execute_result"
    },
    {
     "data": {
      "image/png": "[encoded data removed]",
      "text/plain": [
       "<Figure size 144x144 with 1 Axes>"
      ]
     },
     "metadata": {
      "needs_background": "light"
     },
     "output_type": "display_data"
    }
   ],
   "source": [
    "plt.figure(figsize=(2, 2))\n",
    "g, t, gm, tm = get_tf_g_vars('lambda', ['ciliated'], logfc=0.5)\n",
    "sns.regplot(g,t,scatter_kws={'s':1}, line_kws={'color':'black', 'lw':3})\n",
    "plt.title('Lambda'); plt.xlabel('Gene variability'); plt.ylabel('TF variability')"
   ]
  },
  {
   "cell_type": "code",
   "execution_count": 264,
   "metadata": {},
   "outputs": [
    {
     "name": "stdout",
     "output_type": "stream",
     "text": [
      "starting ['ciliated'] 0 beta\n"
     ]
    },
    {
     "name": "stderr",
     "output_type": "stream",
     "text": [
      "/data/home/Github/scrna-parameter-estimation/dist/memento-0.0.4-py3.7.egg/memento/main.py:578: RuntimeWarning: invalid value encountered in true_divide\n",
      "  groupby_corr[key] /= groupby_corr_count[key]\n"
     ]
    },
    {
     "name": "stdout",
     "output_type": "stream",
     "text": [
      "(0.23614357666475178, 0.0008889713169407867)\n",
      "starting ['ciliated'] 3 beta\n",
      "(0.5472137572036109, 2.549786869607689e-21)\n",
      "starting ['ciliated'] 6 beta\n",
      "(0.5689432220328171, 2.1854773819407643e-24)\n",
      "starting ['ciliated'] 9 beta\n",
      "(0.28289091279349843, 2.8786589825749483e-06)\n",
      "starting ['ciliated'] 24 beta\n",
      "(0.20708275469411536, 0.000677753515502516)\n",
      "starting ['ciliated'] 48 beta\n",
      "(0.11966364633223706, 0.05079946998705278)\n"
     ]
    },
    {
     "data": {
      "text/plain": [
       "Text(0, 0.5, 'TF variability')"
      ]
     },
     "execution_count": 264,
     "metadata": {},
     "output_type": "execute_result"
    },
    {
     "data": {
      "image/png": "[encoded data removed]",
      "text/plain": [
       "<Figure size 144x144 with 1 Axes>"
      ]
     },
     "metadata": {
      "needs_background": "light"
     },
     "output_type": "display_data"
    }
   ],
   "source": [
    "plt.figure(figsize=(2, 2))\n",
    "g, t = get_tf_g_vars('beta', ['ciliated'], logfc=1)\n",
    "sns.regplot(g,t,scatter_kws={'s':1}, line_kws={'color':'black', 'lw':3})\n",
    "plt.title('Beta'); plt.xlabel('Gene variability'); plt.ylabel('TF variability')"
   ]
  }
 ],
 "metadata": {
  "kernelspec": {
   "display_name": "Python 3",
   "language": "python",
   "name": "python3"
  },
  "language_info": {
   "codemirror_mode": {
    "name": "ipython",
    "version": 3
   },
   "file_extension": ".py",
   "mimetype": "text/x-python",
   "name": "python",
   "nbconvert_exporter": "python",
   "pygments_lexer": "ipython3",
   "version": "3.7.5"
  }
 },
 "nbformat": 4,
 "nbformat_minor": 4
}
