{
 "cells": [
  {
   "cell_type": "markdown",
   "metadata": {},
   "source": [
    "# 2D variability analysis for HBEC IFN experiment"
   ]
  },
  {
   "cell_type": "code",
   "execution_count": 1,
   "metadata": {},
   "outputs": [
    {
     "name": "stderr",
     "output_type": "stream",
     "text": [
      "\n",
      "Bad key \"text.kerning_factor\" on line 4 in\n",
      "/data/home/anaconda3/envs/single_cell/lib/python3.7/site-packages/matplotlib/mpl-data/stylelib/_classic_test_patch.mplstyle.\n",
      "You probably need to get an updated matplotlibrc file from\n",
      "https://github.com/matplotlib/matplotlib/blob/v3.1.3/matplotlibrc.template\n",
      "or from the matplotlib source distribution\n"
     ]
    }
   ],
   "source": [
    "import scanpy as sc\n",
    "import seaborn as sns\n",
    "import pandas as pd\n",
    "import matplotlib.pyplot as plt\n",
    "import numpy as np\n",
    "import scipy.stats as stats\n",
    "from pybedtools import BedTool\n",
    "import pickle as pkl\n",
    "import itertools\n",
    "import functools\n",
    "%matplotlib inline"
   ]
  },
  {
   "cell_type": "code",
   "execution_count": 2,
   "metadata": {},
   "outputs": [],
   "source": [
    "import sys\n",
    "sys.path.append('/data/home/Github/scrna-parameter-estimation/dist/memento-0.0.4-py3.7.egg')\n",
    "sys.path.append('/data/home/Github/misc-seq/miscseq/')\n",
    "import encode\n",
    "import memento"
   ]
  },
  {
   "cell_type": "code",
   "execution_count": 3,
   "metadata": {},
   "outputs": [],
   "source": [
    "data_path = '/data_volume/ifn_hbec/'"
   ]
  },
  {
   "cell_type": "markdown",
   "metadata": {},
   "source": [
    "### Get the TFs"
   ]
  },
  {
   "cell_type": "code",
   "execution_count": 4,
   "metadata": {},
   "outputs": [],
   "source": [
    "tf_df = pd.read_csv('DatabaseExtract_v_1.01.csv', index_col=0)\n",
    "tf_df = tf_df[tf_df['TF assessment'] == 'Known motif']\n",
    "tfs = tf_df['HGNC symbol'].tolist()"
   ]
  },
  {
   "cell_type": "markdown",
   "metadata": {},
   "source": [
    "### Read the processed RNA data\n",
    "\n",
    "Focus on the club and bc/club cells and type I interferons for now.\n",
    "\n",
    "Encode the timestamps to integers."
   ]
  },
  {
   "cell_type": "raw",
   "metadata": {},
   "source": [
    "adata_processed = sc.read(data_path + 'HBEC_type_I_processed.h5ad')"
   ]
  },
  {
   "cell_type": "code",
   "execution_count": 5,
   "metadata": {},
   "outputs": [],
   "source": [
    "adata = sc.read(data_path + 'HBEC_type_I_filtered_counts_deep.h5ad')"
   ]
  },
  {
   "cell_type": "code",
   "execution_count": 6,
   "metadata": {},
   "outputs": [],
   "source": [
    "adata = adata[:, ~adata.var.index.str.startswith('MT-')].copy()\n",
    "adata.obs['cell_type'] = adata.obs['cell_type'].apply(lambda x: x if x != 'basal/club' else 'bc')\n",
    "adata.obs['cell_type'] = adata.obs['cell_type'].apply(lambda x: x if x != 'ionocyte/tuft' else 'ion-tuft')"
   ]
  },
  {
   "cell_type": "raw",
   "metadata": {},
   "source": [
    "sc.pl.umap(adata_processed, color=['cell_type', 'time', 'stim'])"
   ]
  },
  {
   "cell_type": "code",
   "execution_count": 7,
   "metadata": {},
   "outputs": [
    {
     "data": {
      "text/plain": [
       "(69958, 36588)"
      ]
     },
     "execution_count": 7,
     "metadata": {},
     "output_type": "execute_result"
    }
   ],
   "source": [
    "adata.shape"
   ]
  },
  {
   "cell_type": "markdown",
   "metadata": {},
   "source": [
    "### Setup memento"
   ]
  },
  {
   "cell_type": "code",
   "execution_count": 8,
   "metadata": {},
   "outputs": [],
   "source": [
    "def assign_q(batch):\n",
    "    \n",
    "    if batch == 0:\n",
    "        return 0.387*0.25\n",
    "    elif batch == 1:\n",
    "        return 0.392*0.25\n",
    "    elif batch == 2:\n",
    "        return 0.436*0.25\n",
    "    else:\n",
    "        return 0.417*0.25"
   ]
  },
  {
   "cell_type": "code",
   "execution_count": 9,
   "metadata": {},
   "outputs": [],
   "source": [
    "adata.obs['q'] = adata.obs['batch'].apply(assign_q)"
   ]
  },
  {
   "cell_type": "code",
   "execution_count": 10,
   "metadata": {},
   "outputs": [],
   "source": [
    "memento.setup_memento(adata, q_column='q')"
   ]
  },
  {
   "cell_type": "code",
   "execution_count": 11,
   "metadata": {},
   "outputs": [
    {
     "data": {
      "text/html": [
       "<div>\n",
       "<style scoped>\n",
       "    .dataframe tbody tr th:only-of-type {\n",
       "        vertical-align: middle;\n",
       "    }\n",
       "\n",
       "    .dataframe tbody tr th {\n",
       "        vertical-align: top;\n",
       "    }\n",
       "\n",
       "    .dataframe thead th {\n",
       "        text-align: right;\n",
       "    }\n",
       "</style>\n",
       "<table border=\"1\" class=\"dataframe\">\n",
       "  <thead>\n",
       "    <tr style=\"text-align: right;\">\n",
       "      <th></th>\n",
       "      <th>NUM.SNPS</th>\n",
       "      <th>BEST.GUESS</th>\n",
       "      <th>DROPLET.TYPE</th>\n",
       "      <th>batch</th>\n",
       "      <th>HTO_classification</th>\n",
       "      <th>condition</th>\n",
       "      <th>donor</th>\n",
       "      <th>stim</th>\n",
       "      <th>time</th>\n",
       "      <th>n_genes</th>\n",
       "      <th>n_genes_by_counts</th>\n",
       "      <th>total_counts</th>\n",
       "      <th>total_counts_mt</th>\n",
       "      <th>pct_counts_mt</th>\n",
       "      <th>leiden</th>\n",
       "      <th>cell_type</th>\n",
       "      <th>q</th>\n",
       "      <th>memento_size_factor</th>\n",
       "    </tr>\n",
       "  </thead>\n",
       "  <tbody>\n",
       "    <tr>\n",
       "      <th>AAACCCAAGGAAGTAG-1</th>\n",
       "      <td>1700</td>\n",
       "      <td>donor0</td>\n",
       "      <td>SNG</td>\n",
       "      <td>0</td>\n",
       "      <td>hash-10</td>\n",
       "      <td>d2513_lambda_9</td>\n",
       "      <td>d2513</td>\n",
       "      <td>lambda</td>\n",
       "      <td>9</td>\n",
       "      <td>4297</td>\n",
       "      <td>4297</td>\n",
       "      <td>12191.0</td>\n",
       "      <td>1394.0</td>\n",
       "      <td>11.434665</td>\n",
       "      <td>3</td>\n",
       "      <td>ciliated</td>\n",
       "      <td>0.10425</td>\n",
       "      <td>0.955289</td>\n",
       "    </tr>\n",
       "    <tr>\n",
       "      <th>AAACCCAAGGGACTGT-1</th>\n",
       "      <td>839</td>\n",
       "      <td>donor0</td>\n",
       "      <td>SNG</td>\n",
       "      <td>0</td>\n",
       "      <td>hash-3</td>\n",
       "      <td>d2513_alpha_24</td>\n",
       "      <td>d2513</td>\n",
       "      <td>alpha</td>\n",
       "      <td>24</td>\n",
       "      <td>2171</td>\n",
       "      <td>2171</td>\n",
       "      <td>7270.0</td>\n",
       "      <td>386.0</td>\n",
       "      <td>5.309491</td>\n",
       "      <td>5</td>\n",
       "      <td>bc</td>\n",
       "      <td>0.10425</td>\n",
       "      <td>0.824407</td>\n",
       "    </tr>\n",
       "    <tr>\n",
       "      <th>AAACCCACAATCTGCA-1</th>\n",
       "      <td>1130</td>\n",
       "      <td>donor1</td>\n",
       "      <td>SNG</td>\n",
       "      <td>0</td>\n",
       "      <td>hash-1</td>\n",
       "      <td>d2614_alpha_3</td>\n",
       "      <td>d2614</td>\n",
       "      <td>alpha</td>\n",
       "      <td>3</td>\n",
       "      <td>3016</td>\n",
       "      <td>3016</td>\n",
       "      <td>9544.0</td>\n",
       "      <td>516.0</td>\n",
       "      <td>5.406538</td>\n",
       "      <td>0</td>\n",
       "      <td>basal</td>\n",
       "      <td>0.10425</td>\n",
       "      <td>0.988939</td>\n",
       "    </tr>\n",
       "  </tbody>\n",
       "</table>\n",
       "</div>"
      ],
      "text/plain": [
       "                    NUM.SNPS BEST.GUESS DROPLET.TYPE batch HTO_classification  \\\n",
       "AAACCCAAGGAAGTAG-1      1700     donor0          SNG     0            hash-10   \n",
       "AAACCCAAGGGACTGT-1       839     donor0          SNG     0             hash-3   \n",
       "AAACCCACAATCTGCA-1      1130     donor1          SNG     0             hash-1   \n",
       "\n",
       "                         condition  donor    stim time  n_genes  \\\n",
       "AAACCCAAGGAAGTAG-1  d2513_lambda_9  d2513  lambda    9     4297   \n",
       "AAACCCAAGGGACTGT-1  d2513_alpha_24  d2513   alpha   24     2171   \n",
       "AAACCCACAATCTGCA-1   d2614_alpha_3  d2614   alpha    3     3016   \n",
       "\n",
       "                    n_genes_by_counts  total_counts  total_counts_mt  \\\n",
       "AAACCCAAGGAAGTAG-1               4297       12191.0           1394.0   \n",
       "AAACCCAAGGGACTGT-1               2171        7270.0            386.0   \n",
       "AAACCCACAATCTGCA-1               3016        9544.0            516.0   \n",
       "\n",
       "                    pct_counts_mt leiden cell_type        q  \\\n",
       "AAACCCAAGGAAGTAG-1      11.434665      3  ciliated  0.10425   \n",
       "AAACCCAAGGGACTGT-1       5.309491      5        bc  0.10425   \n",
       "AAACCCACAATCTGCA-1       5.406538      0     basal  0.10425   \n",
       "\n",
       "                    memento_size_factor  \n",
       "AAACCCAAGGAAGTAG-1             0.955289  \n",
       "AAACCCAAGGGACTGT-1             0.824407  \n",
       "AAACCCACAATCTGCA-1             0.988939  "
      ]
     },
     "execution_count": 11,
     "metadata": {},
     "output_type": "execute_result"
    }
   ],
   "source": [
    "adata.obs.head(3)"
   ]
  },
  {
   "cell_type": "markdown",
   "metadata": {},
   "source": [
    "### Get TFs"
   ]
  },
  {
   "cell_type": "code",
   "execution_count": 12,
   "metadata": {},
   "outputs": [],
   "source": [
    "condensed_tfs = []\n",
    "for tf in tfs:\n",
    "    if 'STAT' in tf:\n",
    "        condensed_tfs.append(tf)\n",
    "    elif 'IRF' in tf:\n",
    "        condensed_tfs.append(tf)\n",
    "    elif 'NFKB' in tf:\n",
    "        condensed_tfs.append(tf)\n",
    "    elif 'JUN' in tf:\n",
    "        condensed_tfs.append(tf)\n",
    "    elif 'MYC' in tf:\n",
    "        condensed_tfs.append(tf)\n",
    "    elif 'FOS' in tf:\n",
    "        condensed_tfs.append(tf)\n",
    "    else:\n",
    "        continue"
   ]
  },
  {
   "cell_type": "code",
   "execution_count": 13,
   "metadata": {},
   "outputs": [],
   "source": [
    "cts = [['ciliated'], ['bc'], ['basal']]\n",
    "tps = ['0','3', '6', '9', '24', '48']\n",
    "stims = ['alpha', 'beta', 'gamma', 'lambda']"
   ]
  },
  {
   "cell_type": "markdown",
   "metadata": {},
   "source": [
    "### Compute some 1D moments"
   ]
  },
  {
   "cell_type": "code",
   "execution_count": 14,
   "metadata": {},
   "outputs": [],
   "source": [
    "mean_data_dict = {}\n",
    "var_data_dict = {}\n",
    "for ct in cts:\n",
    "    for stim in stims:\n",
    "        \n",
    "        mean_df_list = []\n",
    "        var_df_list = []\n",
    "\n",
    "        for tp in tps:\n",
    "            \n",
    "            adata_stim = adata.copy()[\n",
    "                adata.obs.cell_type.isin(ct) & \\\n",
    "                adata.obs.stim.isin(['control', stim]) & \\\n",
    "                adata.obs.time.isin([tp]), :].copy()\n",
    "            time_converter={int(tp):1}\n",
    "            adata_stim.obs['time_step'] = adata_stim.obs['time'].astype(int).apply(lambda x: time_converter[x])\n",
    "\n",
    "            memento.create_groups(adata_stim, label_columns=['time_step', 'donor'])\n",
    "            memento.compute_1d_moments(adata_stim, min_perc_group=.9)\n",
    "\n",
    "            mean, var = memento.get_1d_moments(adata_stim, groupby='time_step')\n",
    "            mean_df_list.append(mean.rename(columns={'time_step_1':('tp_'+str(tp))}))\n",
    "            var_df_list.append(var.rename(columns={'time_step_1':('tp_'+str(tp))}))\n",
    "        mean_data_dict['-'.join(ct)+'-'+stim] = functools.reduce(lambda x, y: pd.merge(x, y, on='gene', how='inner'), mean_df_list)\n",
    "        var_data_dict['-'.join(ct)+'-'+stim] = functools.reduce(lambda x, y: pd.merge(x, y, on='gene', how='inner'), var_df_list)\n"
   ]
  },
  {
   "cell_type": "markdown",
   "metadata": {},
   "source": [
    "### Read the correlation data"
   ]
  },
  {
   "cell_type": "code",
   "execution_count": 15,
   "metadata": {},
   "outputs": [],
   "source": [
    "data_dict = {}\n",
    "for ct in cts:\n",
    "    for stim in stims:\n",
    "        \n",
    "        df_list = []\n",
    "\n",
    "        for tp in tps:\n",
    "            \n",
    "            fname = '{}_{}_{}.csv'.format('-'.join(ct), stim, tp)\n",
    "            \n",
    "            df = pd.read_csv('/data_volume/ifn_hbec/tf_corr_deep/' + fname).rename(columns={'time_step_1':('tp_'+str(tp))})\n",
    "            df_list.append(df)\n",
    "            \n",
    "        data_dict['-'.join(ct)+'-'+stim] = functools.reduce(lambda x, y: pd.merge(x, y, on=['gene_1', 'gene_2'], how='inner'), df_list)\n",
    "        "
   ]
  },
  {
   "cell_type": "markdown",
   "metadata": {},
   "source": [
    "### Correlate the change in variance of a gene with change in variance of a TF"
   ]
  },
  {
   "cell_type": "code",
   "execution_count": 248,
   "metadata": {},
   "outputs": [],
   "source": [
    "ct = 'ciliated'\n",
    "stim = 'gamma'"
   ]
  },
  {
   "cell_type": "code",
   "execution_count": 249,
   "metadata": {},
   "outputs": [
    {
     "name": "stdout",
     "output_type": "stream",
     "text": [
      "STAT2 RANGAP1 (0.9174907920868045, 0.009930802255662986)\n",
      "IRF7 IFI44 (0.917814117631768, 0.00985421582826264)\n",
      "IRF7 DDX58 (0.9643415417932077, 0.0018846181405518703)\n",
      "IRF7 IFIT2 (0.903579035012743, 0.013497290757868059)\n",
      "IRF7 MX2 (0.9733055969274066, 0.0010593756353389926)\n",
      "JUNB UBC (0.9017184407176103, 0.014014233534766784)\n",
      "JUNB ZFP36 (0.9350414762806732, 0.006192364893928466)\n",
      "FOSL2 PTP4A2 (0.9228696218927426, 0.008694214858326664)\n",
      "IRF3 LY75 (0.9278934320384793, 0.007611581815183305)\n",
      "IRF2 SSR3 (0.9660385182410204, 0.0017104880798903617)\n",
      "IRF2 HMGN3 (0.9104346085103331, 0.011673694064076685)\n",
      "IRF2 PSMA2 (0.9348804808898676, 0.0062227563077184985)\n",
      "IRF2 RAB2A (0.9518407341832136, 0.0034231240750118605)\n",
      "IRF2 VPS29 (0.9717477326463458, 0.0011860105686682893)\n",
      "IRF2 SNX6 (0.9116488486365935, 0.011364057648411308)\n",
      "IRF2 RPS15 (0.9718022788906931, 0.0011814570478152534)\n",
      "IRF2 SNAP29 (0.9303164125585751, 0.007114518673929455)\n",
      "IRF1 GBP1 (0.9372852593990271, 0.0057763751466678994)\n",
      "IRF1 PARP9 (0.9477855098634813, 0.004018351904927817)\n",
      "IRF1 PSMB9 (0.9536048299366824, 0.0031788346321733716)\n",
      "IRF1 PLAAT4 (0.9282113512531085, 0.007545429781131448)\n",
      "IRF1 APOL6 (0.963980679400542, 0.0019227216052634369)\n",
      "JUND BRK1 (0.9213205080864436, 0.00904216245161262)\n",
      "JUND NME2 (0.901996028743373, 0.013936514360863328)\n",
      "STAT1 SFPQ (0.9292127897102116, 0.007338892402864783)\n",
      "STAT1 GBP1 (0.9821513517095085, 0.0004750183088626715)\n",
      "STAT1 HLA-E (0.996492635414723, 1.8430836391883976e-05)\n",
      "STAT1 HLA-DRA (0.9457096989054954, 0.004341146573925304)\n",
      "STAT1 PSMB9 (0.9777711820302649, 0.0007356886668583231)\n",
      "STAT1 TAP1 (0.940219574826844, 0.005253730221003685)\n",
      "STAT1 HLA-DMA (0.9270333720006348, 0.007791951339553164)\n",
      "STAT1 EEF1D (0.9353262721064858, 0.006138781507092706)\n",
      "STAT1 TRIM69 (0.9003520951690602, 0.014399820259503532)\n"
     ]
    }
   ],
   "source": [
    "for tf in data_dict[ct + '-' + stim].gene_1.drop_duplicates().tolist():\n",
    "    \n",
    "    potential_targets = data_dict[ct + '-' + stim].query('gene_1 == \"{}\" & gene_2 != \"{}\"'.format(tf, tf)).copy()\n",
    "    potential_targets['mean_corr'] = potential_targets.iloc[2:].mean(axis=1)\n",
    "    genes = potential_targets.query('mean_corr > 0.4').gene_2.tolist()\n",
    "    \n",
    "    tf_vars = var_data_dict[ct + '-' + stim].query('gene == \"{}\"'.format(tf)).iloc[0, 1:].values\n",
    "    \n",
    "    for gene in genes:\n",
    "        \n",
    "        gene_vars = var_data_dict[ct + '-' + stim].query('gene == \"{}\"'.format(gene)).iloc[0, 1:].values\n",
    "        \n",
    "        r = stats.pearsonr(tf_vars, gene_vars)\n",
    "        if r[0] > 0.9:\n",
    "        \n",
    "            print(tf, gene, r)\n",
    "    "
   ]
  },
  {
   "cell_type": "code",
   "execution_count": 51,
   "metadata": {},
   "outputs": [
    {
     "data": {
      "text/plain": [
       "(0.48018549393962046, 0.33508189057305465)"
      ]
     },
     "execution_count": 51,
     "metadata": {},
     "output_type": "execute_result"
    }
   ],
   "source": [
    "stats.pearsonr(tf_vars, gene_vars)"
   ]
  },
  {
   "cell_type": "code",
   "execution_count": 40,
   "metadata": {},
   "outputs": [
    {
     "data": {
      "text/plain": [
       "array([0.3837928007433655, 0.9247314870809124, 1.0949091971928355,\n",
       "       1.3554829868547327, 0.7710150951334724, 0.6569686850118337],\n",
       "      dtype=object)"
      ]
     },
     "execution_count": 40,
     "metadata": {},
     "output_type": "execute_result"
    }
   ],
   "source": [
    "tf_vars"
   ]
  },
  {
   "cell_type": "code",
   "execution_count": 25,
   "metadata": {},
   "outputs": [
    {
     "data": {
      "text/html": [
       "<div>\n",
       "<style scoped>\n",
       "    .dataframe tbody tr th:only-of-type {\n",
       "        vertical-align: middle;\n",
       "    }\n",
       "\n",
       "    .dataframe tbody tr th {\n",
       "        vertical-align: top;\n",
       "    }\n",
       "\n",
       "    .dataframe thead th {\n",
       "        text-align: right;\n",
       "    }\n",
       "</style>\n",
       "<table border=\"1\" class=\"dataframe\">\n",
       "  <thead>\n",
       "    <tr style=\"text-align: right;\">\n",
       "      <th></th>\n",
       "      <th>gene_1</th>\n",
       "      <th>gene_2</th>\n",
       "      <th>tp_0</th>\n",
       "      <th>tp_3</th>\n",
       "      <th>tp_6</th>\n",
       "      <th>tp_9</th>\n",
       "      <th>tp_24</th>\n",
       "      <th>tp_48</th>\n",
       "      <th>mean_corr</th>\n",
       "    </tr>\n",
       "  </thead>\n",
       "  <tbody>\n",
       "    <tr>\n",
       "      <th>48464</th>\n",
       "      <td>MYC</td>\n",
       "      <td>RPL22</td>\n",
       "      <td>0.071167</td>\n",
       "      <td>0.313170</td>\n",
       "      <td>0.398885</td>\n",
       "      <td>0.335328</td>\n",
       "      <td>0.439229</td>\n",
       "      <td>0.369946</td>\n",
       "      <td>0.321288</td>\n",
       "    </tr>\n",
       "    <tr>\n",
       "      <th>48475</th>\n",
       "      <td>MYC</td>\n",
       "      <td>ERRFI1</td>\n",
       "      <td>0.462104</td>\n",
       "      <td>0.146869</td>\n",
       "      <td>0.427464</td>\n",
       "      <td>0.270125</td>\n",
       "      <td>0.280524</td>\n",
       "      <td>0.534802</td>\n",
       "      <td>0.353648</td>\n",
       "    </tr>\n",
       "    <tr>\n",
       "      <th>48531</th>\n",
       "      <td>MYC</td>\n",
       "      <td>ECE1</td>\n",
       "      <td>0.546766</td>\n",
       "      <td>0.273501</td>\n",
       "      <td>0.463910</td>\n",
       "      <td>0.279080</td>\n",
       "      <td>0.401145</td>\n",
       "      <td>0.466993</td>\n",
       "      <td>0.405233</td>\n",
       "    </tr>\n",
       "    <tr>\n",
       "      <th>48539</th>\n",
       "      <td>MYC</td>\n",
       "      <td>HNRNPR</td>\n",
       "      <td>0.115325</td>\n",
       "      <td>0.248282</td>\n",
       "      <td>0.477756</td>\n",
       "      <td>0.482332</td>\n",
       "      <td>0.297968</td>\n",
       "      <td>0.419297</td>\n",
       "      <td>0.340160</td>\n",
       "    </tr>\n",
       "    <tr>\n",
       "      <th>48541</th>\n",
       "      <td>MYC</td>\n",
       "      <td>TCEA3</td>\n",
       "      <td>0.312770</td>\n",
       "      <td>0.335760</td>\n",
       "      <td>0.279707</td>\n",
       "      <td>0.129686</td>\n",
       "      <td>0.396378</td>\n",
       "      <td>0.481626</td>\n",
       "      <td>0.322654</td>\n",
       "    </tr>\n",
       "    <tr>\n",
       "      <th>...</th>\n",
       "      <td>...</td>\n",
       "      <td>...</td>\n",
       "      <td>...</td>\n",
       "      <td>...</td>\n",
       "      <td>...</td>\n",
       "      <td>...</td>\n",
       "      <td>...</td>\n",
       "      <td>...</td>\n",
       "      <td>...</td>\n",
       "    </tr>\n",
       "    <tr>\n",
       "      <th>56380</th>\n",
       "      <td>MYC</td>\n",
       "      <td>MAGT1</td>\n",
       "      <td>0.022336</td>\n",
       "      <td>0.424184</td>\n",
       "      <td>0.209409</td>\n",
       "      <td>0.459745</td>\n",
       "      <td>0.206918</td>\n",
       "      <td>0.565389</td>\n",
       "      <td>0.314664</td>\n",
       "    </tr>\n",
       "    <tr>\n",
       "      <th>56396</th>\n",
       "      <td>MYC</td>\n",
       "      <td>RPL36A</td>\n",
       "      <td>0.126818</td>\n",
       "      <td>0.474201</td>\n",
       "      <td>0.416925</td>\n",
       "      <td>0.444600</td>\n",
       "      <td>0.389718</td>\n",
       "      <td>0.557537</td>\n",
       "      <td>0.401633</td>\n",
       "    </tr>\n",
       "    <tr>\n",
       "      <th>56407</th>\n",
       "      <td>MYC</td>\n",
       "      <td>BEX3</td>\n",
       "      <td>0.155495</td>\n",
       "      <td>0.563268</td>\n",
       "      <td>0.398978</td>\n",
       "      <td>0.227521</td>\n",
       "      <td>0.096595</td>\n",
       "      <td>0.515301</td>\n",
       "      <td>0.326193</td>\n",
       "    </tr>\n",
       "    <tr>\n",
       "      <th>56433</th>\n",
       "      <td>MYC</td>\n",
       "      <td>RPL39</td>\n",
       "      <td>0.083483</td>\n",
       "      <td>0.262682</td>\n",
       "      <td>0.366446</td>\n",
       "      <td>0.458420</td>\n",
       "      <td>0.430052</td>\n",
       "      <td>0.469362</td>\n",
       "      <td>0.345074</td>\n",
       "    </tr>\n",
       "    <tr>\n",
       "      <th>56480</th>\n",
       "      <td>MYC</td>\n",
       "      <td>RPL10</td>\n",
       "      <td>0.199449</td>\n",
       "      <td>0.489472</td>\n",
       "      <td>0.502930</td>\n",
       "      <td>0.434477</td>\n",
       "      <td>0.507831</td>\n",
       "      <td>0.635308</td>\n",
       "      <td>0.461578</td>\n",
       "    </tr>\n",
       "  </tbody>\n",
       "</table>\n",
       "<p>243 rows × 9 columns</p>\n",
       "</div>"
      ],
      "text/plain": [
       "      gene_1  gene_2      tp_0      tp_3      tp_6      tp_9     tp_24  \\\n",
       "48464    MYC   RPL22  0.071167  0.313170  0.398885  0.335328  0.439229   \n",
       "48475    MYC  ERRFI1  0.462104  0.146869  0.427464  0.270125  0.280524   \n",
       "48531    MYC    ECE1  0.546766  0.273501  0.463910  0.279080  0.401145   \n",
       "48539    MYC  HNRNPR  0.115325  0.248282  0.477756  0.482332  0.297968   \n",
       "48541    MYC   TCEA3  0.312770  0.335760  0.279707  0.129686  0.396378   \n",
       "...      ...     ...       ...       ...       ...       ...       ...   \n",
       "56380    MYC   MAGT1  0.022336  0.424184  0.209409  0.459745  0.206918   \n",
       "56396    MYC  RPL36A  0.126818  0.474201  0.416925  0.444600  0.389718   \n",
       "56407    MYC    BEX3  0.155495  0.563268  0.398978  0.227521  0.096595   \n",
       "56433    MYC   RPL39  0.083483  0.262682  0.366446  0.458420  0.430052   \n",
       "56480    MYC   RPL10  0.199449  0.489472  0.502930  0.434477  0.507831   \n",
       "\n",
       "          tp_48  mean_corr  \n",
       "48464  0.369946   0.321288  \n",
       "48475  0.534802   0.353648  \n",
       "48531  0.466993   0.405233  \n",
       "48539  0.419297   0.340160  \n",
       "48541  0.481626   0.322654  \n",
       "...         ...        ...  \n",
       "56380  0.565389   0.314664  \n",
       "56396  0.557537   0.401633  \n",
       "56407  0.515301   0.326193  \n",
       "56433  0.469362   0.345074  \n",
       "56480  0.635308   0.461578  \n",
       "\n",
       "[243 rows x 9 columns]"
      ]
     },
     "execution_count": 25,
     "metadata": {},
     "output_type": "execute_result"
    }
   ],
   "source": [
    "genes"
   ]
  },
  {
   "cell_type": "markdown",
   "metadata": {},
   "source": [
    "### Positive autoregulation"
   ]
  },
  {
   "cell_type": "code",
   "execution_count": 251,
   "metadata": {},
   "outputs": [],
   "source": [
    "ct = ['ciliated']\n",
    "stim = 'gamma'"
   ]
  },
  {
   "cell_type": "code",
   "execution_count": 252,
   "metadata": {},
   "outputs": [
    {
     "name": "stderr",
     "output_type": "stream",
     "text": [
      "[Parallel(n_jobs=1)]: Using backend SequentialBackend with 1 concurrent workers.\n",
      "/data/home/Github/scrna-parameter-estimation/dist/memento-0.0.4-py3.7.egg/memento/estimator.py:100: RuntimeWarning: invalid value encountered in log\n",
      "/data/home/Github/scrna-parameter-estimation/dist/memento-0.0.4-py3.7.egg/memento/estimator.py:100: RuntimeWarning: invalid value encountered in log\n",
      "[Parallel(n_jobs=1)]: Done   4 out of   4 | elapsed:    1.0s finished\n",
      "[Parallel(n_jobs=1)]: Using backend SequentialBackend with 1 concurrent workers.\n",
      "/data/home/Github/scrna-parameter-estimation/dist/memento-0.0.4-py3.7.egg/memento/estimator.py:100: RuntimeWarning: invalid value encountered in log\n",
      "[Parallel(n_jobs=1)]: Done   4 out of   4 | elapsed:    1.5s finished\n",
      "[Parallel(n_jobs=1)]: Using backend SequentialBackend with 1 concurrent workers.\n",
      "/data/home/Github/scrna-parameter-estimation/dist/memento-0.0.4-py3.7.egg/memento/estimator.py:100: RuntimeWarning: invalid value encountered in log\n",
      "[Parallel(n_jobs=1)]: Done   4 out of   4 | elapsed:    1.4s finished\n",
      "[Parallel(n_jobs=1)]: Using backend SequentialBackend with 1 concurrent workers.\n",
      "/data/home/Github/scrna-parameter-estimation/dist/memento-0.0.4-py3.7.egg/memento/estimator.py:100: RuntimeWarning: invalid value encountered in log\n",
      "[Parallel(n_jobs=1)]: Done   4 out of   4 | elapsed:    1.7s finished\n",
      "[Parallel(n_jobs=1)]: Using backend SequentialBackend with 1 concurrent workers.\n",
      "/data/home/Github/scrna-parameter-estimation/dist/memento-0.0.4-py3.7.egg/memento/estimator.py:100: RuntimeWarning: invalid value encountered in log\n",
      "[Parallel(n_jobs=1)]: Done   4 out of   4 | elapsed:    1.5s finished\n",
      "[Parallel(n_jobs=1)]: Using backend SequentialBackend with 1 concurrent workers.\n",
      "[Parallel(n_jobs=1)]: Done   4 out of   4 | elapsed:    1.4s finished\n"
     ]
    }
   ],
   "source": [
    "genes = ['STAT1', 'GBP1', 'PSMB9', 'TRIM69']\n",
    "var_mat = np.zeros((len(genes), 6))\n",
    "var_se_mat = np.zeros((len(genes), 6))\n",
    "\n",
    "for i, tp in enumerate(tps):\n",
    "    adata_stim = adata.copy()[\n",
    "        adata.obs.cell_type.isin(ct) & \\\n",
    "        adata.obs.stim.isin(['control', stim]) & \\\n",
    "        adata.obs.time.isin([tp]), :].copy()\n",
    "    time_converter={int(tp):1}\n",
    "    adata_stim.obs['time_step'] = adata_stim.obs['time'].astype(int).apply(lambda x: time_converter[x])\n",
    "    adata_stim = adata_stim[:, genes].copy()\n",
    "    memento.create_groups(adata_stim, label_columns=['time_step', 'donor'])\n",
    "    memento.compute_1d_moments(adata_stim, min_perc_group=0)\n",
    "    memento.ht_1d_moments(adata_stim, formula_like='1', cov_column='Intercept')\n",
    "    mean, var = memento.get_1d_moments(adata_stim, groupby='time_step')\n",
    "    ht_df = memento.get_1d_ht_result(adata_stim)\n",
    "    \n",
    "    var_mat[:, i] = var['time_step_1'].values\n",
    "    var_se_mat[:, i] = ht_df['dv_se'].values\n",
    "    "
   ]
  },
  {
   "cell_type": "code",
   "execution_count": 246,
   "metadata": {},
   "outputs": [
    {
     "data": {
      "text/plain": [
       "(5, 6)"
      ]
     },
     "execution_count": 246,
     "metadata": {},
     "output_type": "execute_result"
    }
   ],
   "source": [
    "var_mat.shape"
   ]
  },
  {
   "cell_type": "code",
   "execution_count": 260,
   "metadata": {},
   "outputs": [
    {
     "data": {
      "text/plain": [
       "-0.9219309946915545"
      ]
     },
     "execution_count": 260,
     "metadata": {},
     "output_type": "execute_result"
    }
   ],
   "source": [
    "var_mat[0, 1]"
   ]
  },
  {
   "cell_type": "code",
   "execution_count": 273,
   "metadata": {},
   "outputs": [
    {
     "data": {
      "text/plain": [
       "array([[0.19616882, 0.11817248, 0.09152158, 0.08287253, 0.06450908,\n",
       "        0.08318293],\n",
       "       [0.3037785 , 0.08879454, 0.08417513, 0.06720553, 0.06817424,\n",
       "        0.07775142],\n",
       "       [0.22405719, 0.06684452, 0.06554786, 0.06844078, 0.05946119,\n",
       "        0.08550457],\n",
       "       [0.49188259, 0.64613249, 0.32979958, 0.28388936, 0.32044942,\n",
       "        0.20176784]])"
      ]
     },
     "execution_count": 273,
     "metadata": {},
     "output_type": "execute_result"
    }
   ],
   "source": [
    "var_se_mat"
   ]
  },
  {
   "cell_type": "code",
   "execution_count": 282,
   "metadata": {},
   "outputs": [
    {
     "data": {
      "text/plain": [
       "([<matplotlib.axis.XTick at 0x7fc30d0a0950>,\n",
       "  <matplotlib.axis.XTick at 0x7fc30d0a0250>,\n",
       "  <matplotlib.axis.XTick at 0x7fc30d0982d0>,\n",
       "  <matplotlib.axis.XTick at 0x7fc30d068cd0>,\n",
       "  <matplotlib.axis.XTick at 0x7fc30d070310>,\n",
       "  <matplotlib.axis.XTick at 0x7fc30d0708d0>],\n",
       " <a list of 6 Text xticklabel objects>)"
      ]
     },
     "execution_count": 282,
     "metadata": {},
     "output_type": "execute_result"
    },
    {
     "data": {
      "image/png": "[encoded data removed]",
      "text/plain": [
       "<Figure size 216x216 with 1 Axes>"
      ]
     },
     "metadata": {
      "needs_background": "light"
     },
     "output_type": "display_data"
    }
   ],
   "source": [
    "plt.figure(figsize=(3, 3))\n",
    "x = np.arange(1, 7)\n",
    "plt.errorbar(x, var_mat[0, :], yerr=var_se_mat[0, :], fmt='o', capsize=5)\n",
    "plt.errorbar(x+0.1, var_mat[1, :], yerr=var_se_mat[1, :], fmt='o', capsize=5)\n",
    "plt.legend(['STAT1', 'GBP1'])\n",
    "plt.xticks(x, tps)\n",
    "# plt.scatter(x, var_mat[2, 1:])\n",
    "# plt.scatter(x, var_mat[3, 1:]/var_mat[3, 1])"
   ]
  },
  {
   "cell_type": "code",
   "execution_count": null,
   "metadata": {},
   "outputs": [],
   "source": []
  }
 ],
 "metadata": {
  "kernelspec": {
   "display_name": "Python 3",
   "language": "python",
   "name": "python3"
  },
  "language_info": {
   "codemirror_mode": {
    "name": "ipython",
    "version": 3
   },
   "file_extension": ".py",
   "mimetype": "text/x-python",
   "name": "python",
   "nbconvert_exporter": "python",
   "pygments_lexer": "ipython3",
   "version": "3.7.5"
  }
 },
 "nbformat": 4,
 "nbformat_minor": 4
}
