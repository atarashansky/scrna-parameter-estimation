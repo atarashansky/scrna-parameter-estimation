{
 "cells": [
  {
   "cell_type": "markdown",
   "metadata": {},
   "source": [
    "# 1D Variability analysis for HBEC IFN experiment"
   ]
  },
  {
   "cell_type": "code",
   "execution_count": 1,
   "metadata": {},
   "outputs": [
    {
     "name": "stderr",
     "output_type": "stream",
     "text": [
      "\n",
      "Bad key \"text.kerning_factor\" on line 4 in\n",
      "/data/home/anaconda3/envs/single_cell/lib/python3.7/site-packages/matplotlib/mpl-data/stylelib/_classic_test_patch.mplstyle.\n",
      "You probably need to get an updated matplotlibrc file from\n",
      "https://github.com/matplotlib/matplotlib/blob/v3.1.3/matplotlibrc.template\n",
      "or from the matplotlib source distribution\n"
     ]
    }
   ],
   "source": [
    "import scanpy as sc\n",
    "import seaborn as sns\n",
    "import pandas as pd\n",
    "import matplotlib.pyplot as plt\n",
    "import numpy as np\n",
    "import scipy.stats as stats\n",
    "from pybedtools import BedTool\n",
    "import pickle as pkl\n",
    "%matplotlib inline"
   ]
  },
  {
   "cell_type": "code",
   "execution_count": 2,
   "metadata": {},
   "outputs": [],
   "source": [
    "import sys\n",
    "sys.path.append('/data/home/Github/scrna-parameter-estimation/dist/memento-0.0.4-py3.7.egg')\n",
    "sys.path.append('/data/home/Github/misc-seq/miscseq/')\n",
    "import encode\n",
    "import memento"
   ]
  },
  {
   "cell_type": "code",
   "execution_count": 3,
   "metadata": {},
   "outputs": [],
   "source": [
    "data_path = '/data_volume/ifn_hbec/'"
   ]
  },
  {
   "cell_type": "markdown",
   "metadata": {},
   "source": [
    "### Read the processed RNA data\n",
    "\n",
    "Focus on the club and bc/club cells and type I interferons for now.\n",
    "\n",
    "Encode the timestamps to integers."
   ]
  },
  {
   "cell_type": "raw",
   "metadata": {},
   "source": [
    "adata_processed = sc.read(data_path + 'HBEC_type_I_processed.h5ad')"
   ]
  },
  {
   "cell_type": "code",
   "execution_count": 4,
   "metadata": {},
   "outputs": [],
   "source": [
    "adata = sc.read(data_path + 'HBEC_type_I_filtered_counts_deep.h5ad')"
   ]
  },
  {
   "cell_type": "code",
   "execution_count": 5,
   "metadata": {},
   "outputs": [],
   "source": [
    "adata = adata[:, ~adata.var.index.str.startswith('MT-')].copy()\n",
    "adata.obs['cell_type'] = adata.obs['cell_type'].apply(lambda x: x if x != 'basal/club' else 'bc')\n",
    "adata.obs['cell_type'] = adata.obs['cell_type'].apply(lambda x: x if x != 'ionocyte/tuft' else 'ion-tuft')"
   ]
  },
  {
   "cell_type": "raw",
   "metadata": {},
   "source": [
    "sc.pl.umap(adata_processed, color=['cell_type', 'time', 'stim'])"
   ]
  },
  {
   "cell_type": "code",
   "execution_count": 6,
   "metadata": {},
   "outputs": [
    {
     "data": {
      "text/plain": [
       "(69958, 36588)"
      ]
     },
     "execution_count": 6,
     "metadata": {},
     "output_type": "execute_result"
    }
   ],
   "source": [
    "adata.shape"
   ]
  },
  {
   "cell_type": "markdown",
   "metadata": {},
   "source": [
    "### Setup memento"
   ]
  },
  {
   "cell_type": "code",
   "execution_count": 7,
   "metadata": {},
   "outputs": [],
   "source": [
    "def assign_q(batch):\n",
    "    \n",
    "    if batch == 0:\n",
    "        return 0.387*0.25\n",
    "    elif batch == 1:\n",
    "        return 0.392*0.25\n",
    "    elif batch == 2:\n",
    "        return 0.436*0.25\n",
    "    else:\n",
    "        return 0.417*0.25"
   ]
  },
  {
   "cell_type": "code",
   "execution_count": 8,
   "metadata": {},
   "outputs": [],
   "source": [
    "adata.obs['q'] = adata.obs['batch'].apply(assign_q)"
   ]
  },
  {
   "cell_type": "code",
   "execution_count": 9,
   "metadata": {},
   "outputs": [],
   "source": [
    "memento.setup_memento(adata, q_column='q')"
   ]
  },
  {
   "cell_type": "code",
   "execution_count": 10,
   "metadata": {},
   "outputs": [
    {
     "data": {
      "text/html": [
       "<div>\n",
       "<style scoped>\n",
       "    .dataframe tbody tr th:only-of-type {\n",
       "        vertical-align: middle;\n",
       "    }\n",
       "\n",
       "    .dataframe tbody tr th {\n",
       "        vertical-align: top;\n",
       "    }\n",
       "\n",
       "    .dataframe thead th {\n",
       "        text-align: right;\n",
       "    }\n",
       "</style>\n",
       "<table border=\"1\" class=\"dataframe\">\n",
       "  <thead>\n",
       "    <tr style=\"text-align: right;\">\n",
       "      <th></th>\n",
       "      <th>NUM.SNPS</th>\n",
       "      <th>BEST.GUESS</th>\n",
       "      <th>DROPLET.TYPE</th>\n",
       "      <th>batch</th>\n",
       "      <th>HTO_classification</th>\n",
       "      <th>condition</th>\n",
       "      <th>donor</th>\n",
       "      <th>stim</th>\n",
       "      <th>time</th>\n",
       "      <th>n_genes</th>\n",
       "      <th>n_genes_by_counts</th>\n",
       "      <th>total_counts</th>\n",
       "      <th>total_counts_mt</th>\n",
       "      <th>pct_counts_mt</th>\n",
       "      <th>leiden</th>\n",
       "      <th>cell_type</th>\n",
       "      <th>q</th>\n",
       "      <th>memento_size_factor</th>\n",
       "    </tr>\n",
       "  </thead>\n",
       "  <tbody>\n",
       "    <tr>\n",
       "      <th>AAACCCAAGGAAGTAG-1</th>\n",
       "      <td>1700</td>\n",
       "      <td>donor0</td>\n",
       "      <td>SNG</td>\n",
       "      <td>0</td>\n",
       "      <td>hash-10</td>\n",
       "      <td>d2513_lambda_9</td>\n",
       "      <td>d2513</td>\n",
       "      <td>lambda</td>\n",
       "      <td>9</td>\n",
       "      <td>4297</td>\n",
       "      <td>4297</td>\n",
       "      <td>12191.0</td>\n",
       "      <td>1394.0</td>\n",
       "      <td>11.434665</td>\n",
       "      <td>3</td>\n",
       "      <td>ciliated</td>\n",
       "      <td>0.10425</td>\n",
       "      <td>0.955289</td>\n",
       "    </tr>\n",
       "    <tr>\n",
       "      <th>AAACCCAAGGGACTGT-1</th>\n",
       "      <td>839</td>\n",
       "      <td>donor0</td>\n",
       "      <td>SNG</td>\n",
       "      <td>0</td>\n",
       "      <td>hash-3</td>\n",
       "      <td>d2513_alpha_24</td>\n",
       "      <td>d2513</td>\n",
       "      <td>alpha</td>\n",
       "      <td>24</td>\n",
       "      <td>2171</td>\n",
       "      <td>2171</td>\n",
       "      <td>7270.0</td>\n",
       "      <td>386.0</td>\n",
       "      <td>5.309491</td>\n",
       "      <td>5</td>\n",
       "      <td>bc</td>\n",
       "      <td>0.10425</td>\n",
       "      <td>0.824407</td>\n",
       "    </tr>\n",
       "    <tr>\n",
       "      <th>AAACCCACAATCTGCA-1</th>\n",
       "      <td>1130</td>\n",
       "      <td>donor1</td>\n",
       "      <td>SNG</td>\n",
       "      <td>0</td>\n",
       "      <td>hash-1</td>\n",
       "      <td>d2614_alpha_3</td>\n",
       "      <td>d2614</td>\n",
       "      <td>alpha</td>\n",
       "      <td>3</td>\n",
       "      <td>3016</td>\n",
       "      <td>3016</td>\n",
       "      <td>9544.0</td>\n",
       "      <td>516.0</td>\n",
       "      <td>5.406538</td>\n",
       "      <td>0</td>\n",
       "      <td>basal</td>\n",
       "      <td>0.10425</td>\n",
       "      <td>0.988939</td>\n",
       "    </tr>\n",
       "  </tbody>\n",
       "</table>\n",
       "</div>"
      ],
      "text/plain": [
       "                    NUM.SNPS BEST.GUESS DROPLET.TYPE batch HTO_classification  \\\n",
       "AAACCCAAGGAAGTAG-1      1700     donor0          SNG     0            hash-10   \n",
       "AAACCCAAGGGACTGT-1       839     donor0          SNG     0             hash-3   \n",
       "AAACCCACAATCTGCA-1      1130     donor1          SNG     0             hash-1   \n",
       "\n",
       "                         condition  donor    stim time  n_genes  \\\n",
       "AAACCCAAGGAAGTAG-1  d2513_lambda_9  d2513  lambda    9     4297   \n",
       "AAACCCAAGGGACTGT-1  d2513_alpha_24  d2513   alpha   24     2171   \n",
       "AAACCCACAATCTGCA-1   d2614_alpha_3  d2614   alpha    3     3016   \n",
       "\n",
       "                    n_genes_by_counts  total_counts  total_counts_mt  \\\n",
       "AAACCCAAGGAAGTAG-1               4297       12191.0           1394.0   \n",
       "AAACCCAAGGGACTGT-1               2171        7270.0            386.0   \n",
       "AAACCCACAATCTGCA-1               3016        9544.0            516.0   \n",
       "\n",
       "                    pct_counts_mt leiden cell_type        q  \\\n",
       "AAACCCAAGGAAGTAG-1      11.434665      3  ciliated  0.10425   \n",
       "AAACCCAAGGGACTGT-1       5.309491      5        bc  0.10425   \n",
       "AAACCCACAATCTGCA-1       5.406538      0     basal  0.10425   \n",
       "\n",
       "                    memento_size_factor  \n",
       "AAACCCAAGGAAGTAG-1             0.955289  \n",
       "AAACCCAAGGGACTGT-1             0.824407  \n",
       "AAACCCACAATCTGCA-1             0.988939  "
      ]
     },
     "execution_count": 10,
     "metadata": {},
     "output_type": "execute_result"
    }
   ],
   "source": [
    "adata.obs.head(3)"
   ]
  },
  {
   "cell_type": "markdown",
   "metadata": {},
   "source": [
    "### Run memento for each subset, comparing to control"
   ]
  },
  {
   "cell_type": "code",
   "execution_count": 15,
   "metadata": {},
   "outputs": [],
   "source": [
    "cts = [['ciliated'], ['bc', 'basal']]\n",
    "tps = ['3', '6', '9', '24', '48']\n",
    "stims = ['alpha', 'beta', 'gamma', 'lambda']"
   ]
  },
  {
   "cell_type": "code",
   "execution_count": 16,
   "metadata": {},
   "outputs": [],
   "source": [
    "import os\n",
    "done_files = os.listdir('/data_volume/ifn_hbec/binary_test_deep/')"
   ]
  },
  {
   "cell_type": "code",
   "execution_count": 17,
   "metadata": {},
   "outputs": [
    {
     "name": "stdout",
     "output_type": "stream",
     "text": [
      "Skipping ciliated_alpha_3.h5ad\n",
      "Skipping ciliated_beta_3.h5ad\n",
      "Skipping ciliated_gamma_3.h5ad\n",
      "Skipping ciliated_lambda_3.h5ad\n",
      "Skipping ciliated_alpha_6.h5ad\n",
      "Skipping ciliated_beta_6.h5ad\n",
      "Skipping ciliated_gamma_6.h5ad\n",
      "Skipping ciliated_lambda_6.h5ad\n",
      "Skipping ciliated_alpha_9.h5ad\n",
      "Skipping ciliated_beta_9.h5ad\n",
      "Skipping ciliated_gamma_9.h5ad\n",
      "Skipping ciliated_lambda_9.h5ad\n",
      "Skipping ciliated_alpha_24.h5ad\n",
      "Skipping ciliated_beta_24.h5ad\n",
      "Skipping ciliated_gamma_24.h5ad\n",
      "Skipping ciliated_lambda_24.h5ad\n",
      "Skipping ciliated_alpha_48.h5ad\n",
      "Skipping ciliated_beta_48.h5ad\n",
      "Skipping ciliated_gamma_48.h5ad\n",
      "Skipping ciliated_lambda_48.h5ad\n",
      "starting ['bc', 'basal'] 3 alpha\n"
     ]
    },
    {
     "name": "stderr",
     "output_type": "stream",
     "text": [
      "[Parallel(n_jobs=14)]: Using backend LokyBackend with 14 concurrent workers.\n",
      "[Parallel(n_jobs=14)]: Done  22 tasks      | elapsed:    1.2s\n",
      "[Parallel(n_jobs=14)]: Done 172 tasks      | elapsed:    6.3s\n",
      "[Parallel(n_jobs=14)]: Done 422 tasks      | elapsed:   15.0s\n",
      "[Parallel(n_jobs=14)]: Done 772 tasks      | elapsed:   27.4s\n",
      "[Parallel(n_jobs=14)]: Done 1222 tasks      | elapsed:   41.9s\n",
      "[Parallel(n_jobs=14)]: Done 1772 tasks      | elapsed:   59.6s\n",
      "[Parallel(n_jobs=14)]: Done 2422 tasks      | elapsed:  1.4min\n",
      "[Parallel(n_jobs=14)]: Done 3172 tasks      | elapsed:  1.8min\n",
      "[Parallel(n_jobs=14)]: Done 4022 tasks      | elapsed:  2.2min\n",
      "[Parallel(n_jobs=14)]: Done 4972 tasks      | elapsed:  2.8min\n",
      "[Parallel(n_jobs=14)]: Done 6022 tasks      | elapsed:  3.4min\n",
      "[Parallel(n_jobs=14)]: Done 7172 tasks      | elapsed:  4.0min\n",
      "[Parallel(n_jobs=14)]: Done 8264 out of 8264 | elapsed:  4.6min finished\n",
      "... storing 'memento_group' as categorical\n"
     ]
    },
    {
     "name": "stdout",
     "output_type": "stream",
     "text": [
      "starting ['bc', 'basal'] 3 beta\n"
     ]
    },
    {
     "name": "stderr",
     "output_type": "stream",
     "text": [
      "[Parallel(n_jobs=14)]: Using backend LokyBackend with 14 concurrent workers.\n",
      "[Parallel(n_jobs=14)]: Done  22 tasks      | elapsed:    1.0s\n",
      "[Parallel(n_jobs=14)]: Done 172 tasks      | elapsed:    6.1s\n",
      "[Parallel(n_jobs=14)]: Done 422 tasks      | elapsed:   15.1s\n",
      "[Parallel(n_jobs=14)]: Done 772 tasks      | elapsed:   27.9s\n",
      "[Parallel(n_jobs=14)]: Done 1222 tasks      | elapsed:   43.2s\n",
      "[Parallel(n_jobs=14)]: Done 1772 tasks      | elapsed:  1.0min\n",
      "[Parallel(n_jobs=14)]: Done 2422 tasks      | elapsed:  1.4min\n",
      "[Parallel(n_jobs=14)]: Done 3172 tasks      | elapsed:  1.9min\n",
      "[Parallel(n_jobs=14)]: Done 4022 tasks      | elapsed:  2.3min\n",
      "[Parallel(n_jobs=14)]: Done 4972 tasks      | elapsed:  2.9min\n",
      "[Parallel(n_jobs=14)]: Done 6022 tasks      | elapsed:  3.5min\n",
      "[Parallel(n_jobs=14)]: Done 7172 tasks      | elapsed:  4.2min\n",
      "[Parallel(n_jobs=14)]: Done 7942 out of 7942 | elapsed:  4.7min finished\n",
      "... storing 'memento_group' as categorical\n"
     ]
    },
    {
     "name": "stdout",
     "output_type": "stream",
     "text": [
      "starting ['bc', 'basal'] 3 gamma\n"
     ]
    },
    {
     "name": "stderr",
     "output_type": "stream",
     "text": [
      "[Parallel(n_jobs=14)]: Using backend LokyBackend with 14 concurrent workers.\n",
      "[Parallel(n_jobs=14)]: Done  22 tasks      | elapsed:    0.9s\n",
      "[Parallel(n_jobs=14)]: Done 172 tasks      | elapsed:    5.6s\n",
      "[Parallel(n_jobs=14)]: Done 422 tasks      | elapsed:   14.2s\n",
      "[Parallel(n_jobs=14)]: Done 772 tasks      | elapsed:   26.0s\n",
      "[Parallel(n_jobs=14)]: Done 1222 tasks      | elapsed:   40.1s\n",
      "[Parallel(n_jobs=14)]: Done 1772 tasks      | elapsed:   57.6s\n",
      "[Parallel(n_jobs=14)]: Done 2422 tasks      | elapsed:  1.3min\n",
      "[Parallel(n_jobs=14)]: Done 3172 tasks      | elapsed:  1.7min\n",
      "[Parallel(n_jobs=14)]: Done 4022 tasks      | elapsed:  2.2min\n",
      "[Parallel(n_jobs=14)]: Done 4972 tasks      | elapsed:  2.7min\n",
      "[Parallel(n_jobs=14)]: Done 6022 tasks      | elapsed:  3.3min\n",
      "[Parallel(n_jobs=14)]: Done 7172 tasks      | elapsed:  3.9min\n",
      "[Parallel(n_jobs=14)]: Done 8199 out of 8199 | elapsed:  4.5min finished\n",
      "... storing 'memento_group' as categorical\n"
     ]
    },
    {
     "name": "stdout",
     "output_type": "stream",
     "text": [
      "starting ['bc', 'basal'] 3 lambda\n"
     ]
    },
    {
     "name": "stderr",
     "output_type": "stream",
     "text": [
      "[Parallel(n_jobs=14)]: Using backend LokyBackend with 14 concurrent workers.\n",
      "[Parallel(n_jobs=14)]: Done  22 tasks      | elapsed:    0.9s\n",
      "[Parallel(n_jobs=14)]: Done 172 tasks      | elapsed:    5.7s\n",
      "[Parallel(n_jobs=14)]: Done 422 tasks      | elapsed:   13.9s\n",
      "[Parallel(n_jobs=14)]: Done 772 tasks      | elapsed:   25.6s\n",
      "[Parallel(n_jobs=14)]: Done 1222 tasks      | elapsed:   39.4s\n",
      "[Parallel(n_jobs=14)]: Done 1772 tasks      | elapsed:   56.8s\n",
      "[Parallel(n_jobs=14)]: Done 2422 tasks      | elapsed:  1.3min\n",
      "[Parallel(n_jobs=14)]: Done 3172 tasks      | elapsed:  1.7min\n",
      "[Parallel(n_jobs=14)]: Done 4022 tasks      | elapsed:  2.1min\n",
      "[Parallel(n_jobs=14)]: Done 4972 tasks      | elapsed:  2.7min\n",
      "[Parallel(n_jobs=14)]: Done 6022 tasks      | elapsed:  3.2min\n",
      "[Parallel(n_jobs=14)]: Done 7172 tasks      | elapsed:  3.8min\n",
      "[Parallel(n_jobs=14)]: Done 8259 out of 8259 | elapsed:  4.5min finished\n",
      "... storing 'memento_group' as categorical\n"
     ]
    },
    {
     "name": "stdout",
     "output_type": "stream",
     "text": [
      "starting ['bc', 'basal'] 6 alpha\n"
     ]
    },
    {
     "name": "stderr",
     "output_type": "stream",
     "text": [
      "[Parallel(n_jobs=14)]: Using backend LokyBackend with 14 concurrent workers.\n",
      "[Parallel(n_jobs=14)]: Done  22 tasks      | elapsed:    1.1s\n",
      "[Parallel(n_jobs=14)]: Done 172 tasks      | elapsed:    6.4s\n",
      "[Parallel(n_jobs=14)]: Done 422 tasks      | elapsed:   15.6s\n",
      "[Parallel(n_jobs=14)]: Done 772 tasks      | elapsed:   28.6s\n",
      "[Parallel(n_jobs=14)]: Done 1222 tasks      | elapsed:   44.3s\n",
      "[Parallel(n_jobs=14)]: Done 1772 tasks      | elapsed:  1.1min\n",
      "[Parallel(n_jobs=14)]: Done 2422 tasks      | elapsed:  1.4min\n",
      "[Parallel(n_jobs=14)]: Done 3172 tasks      | elapsed:  1.9min\n",
      "[Parallel(n_jobs=14)]: Done 4022 tasks      | elapsed:  2.4min\n",
      "[Parallel(n_jobs=14)]: Done 4972 tasks      | elapsed:  3.0min\n",
      "[Parallel(n_jobs=14)]: Done 6022 tasks      | elapsed:  3.6min\n",
      "[Parallel(n_jobs=14)]: Done 7172 tasks      | elapsed:  4.3min\n",
      "[Parallel(n_jobs=14)]: Done 8030 out of 8030 | elapsed:  4.9min finished\n",
      "... storing 'memento_group' as categorical\n"
     ]
    },
    {
     "name": "stdout",
     "output_type": "stream",
     "text": [
      "starting ['bc', 'basal'] 6 beta\n"
     ]
    },
    {
     "name": "stderr",
     "output_type": "stream",
     "text": [
      "[Parallel(n_jobs=14)]: Using backend LokyBackend with 14 concurrent workers.\n",
      "[Parallel(n_jobs=14)]: Done  22 tasks      | elapsed:    1.1s\n",
      "[Parallel(n_jobs=14)]: Done 172 tasks      | elapsed:    6.3s\n",
      "[Parallel(n_jobs=14)]: Done 422 tasks      | elapsed:   15.9s\n",
      "[Parallel(n_jobs=14)]: Done 772 tasks      | elapsed:   29.2s\n",
      "[Parallel(n_jobs=14)]: Done 1222 tasks      | elapsed:   45.1s\n",
      "[Parallel(n_jobs=14)]: Done 1772 tasks      | elapsed:  1.1min\n",
      "[Parallel(n_jobs=14)]: Done 2422 tasks      | elapsed:  1.5min\n",
      "[Parallel(n_jobs=14)]: Done 3172 tasks      | elapsed:  1.9min\n",
      "[Parallel(n_jobs=14)]: Done 4022 tasks      | elapsed:  2.4min\n",
      "[Parallel(n_jobs=14)]: Done 4972 tasks      | elapsed:  3.0min\n",
      "[Parallel(n_jobs=14)]: Done 6022 tasks      | elapsed:  3.7min\n",
      "[Parallel(n_jobs=14)]: Done 7172 tasks      | elapsed:  4.4min\n",
      "[Parallel(n_jobs=14)]: Done 8124 out of 8124 | elapsed:  5.0min finished\n",
      "... storing 'memento_group' as categorical\n"
     ]
    },
    {
     "name": "stdout",
     "output_type": "stream",
     "text": [
      "starting ['bc', 'basal'] 6 gamma\n"
     ]
    },
    {
     "name": "stderr",
     "output_type": "stream",
     "text": [
      "[Parallel(n_jobs=14)]: Using backend LokyBackend with 14 concurrent workers.\n",
      "[Parallel(n_jobs=14)]: Done  22 tasks      | elapsed:    1.0s\n",
      "[Parallel(n_jobs=14)]: Done 172 tasks      | elapsed:    6.1s\n",
      "[Parallel(n_jobs=14)]: Done 422 tasks      | elapsed:   15.3s\n",
      "[Parallel(n_jobs=14)]: Done 772 tasks      | elapsed:   28.1s\n",
      "[Parallel(n_jobs=14)]: Done 1222 tasks      | elapsed:   43.5s\n",
      "[Parallel(n_jobs=14)]: Done 1772 tasks      | elapsed:  1.0min\n",
      "[Parallel(n_jobs=14)]: Done 2422 tasks      | elapsed:  1.4min\n",
      "[Parallel(n_jobs=14)]: Done 3172 tasks      | elapsed:  1.9min\n",
      "[Parallel(n_jobs=14)]: Done 4022 tasks      | elapsed:  2.4min\n",
      "[Parallel(n_jobs=14)]: Done 4972 tasks      | elapsed:  2.9min\n",
      "[Parallel(n_jobs=14)]: Done 6022 tasks      | elapsed:  3.6min\n",
      "[Parallel(n_jobs=14)]: Done 7172 tasks      | elapsed:  4.2min\n",
      "[Parallel(n_jobs=14)]: Done 8049 out of 8049 | elapsed:  4.8min finished\n",
      "... storing 'memento_group' as categorical\n"
     ]
    },
    {
     "name": "stdout",
     "output_type": "stream",
     "text": [
      "starting ['bc', 'basal'] 6 lambda\n"
     ]
    },
    {
     "name": "stderr",
     "output_type": "stream",
     "text": [
      "[Parallel(n_jobs=14)]: Using backend LokyBackend with 14 concurrent workers.\n",
      "[Parallel(n_jobs=14)]: Done  22 tasks      | elapsed:    0.9s\n",
      "[Parallel(n_jobs=14)]: Done 172 tasks      | elapsed:    5.2s\n",
      "[Parallel(n_jobs=14)]: Done 422 tasks      | elapsed:   12.9s\n",
      "[Parallel(n_jobs=14)]: Done 772 tasks      | elapsed:   23.7s\n",
      "[Parallel(n_jobs=14)]: Done 1222 tasks      | elapsed:   36.5s\n",
      "[Parallel(n_jobs=14)]: Done 1772 tasks      | elapsed:   52.5s\n",
      "[Parallel(n_jobs=14)]: Done 2422 tasks      | elapsed:  1.2min\n",
      "[Parallel(n_jobs=14)]: Done 3172 tasks      | elapsed:  1.6min\n",
      "[Parallel(n_jobs=14)]: Done 4022 tasks      | elapsed:  2.0min\n",
      "[Parallel(n_jobs=14)]: Done 4972 tasks      | elapsed:  2.5min\n",
      "[Parallel(n_jobs=14)]: Done 6022 tasks      | elapsed:  3.0min\n",
      "[Parallel(n_jobs=14)]: Done 7172 tasks      | elapsed:  3.6min\n",
      "[Parallel(n_jobs=14)]: Done 8422 tasks      | elapsed:  4.2min\n",
      "[Parallel(n_jobs=14)]: Done 8474 out of 8474 | elapsed:  4.2min finished\n",
      "... storing 'memento_group' as categorical\n"
     ]
    },
    {
     "name": "stdout",
     "output_type": "stream",
     "text": [
      "starting ['bc', 'basal'] 9 alpha\n"
     ]
    },
    {
     "name": "stderr",
     "output_type": "stream",
     "text": [
      "[Parallel(n_jobs=14)]: Using backend LokyBackend with 14 concurrent workers.\n",
      "[Parallel(n_jobs=14)]: Done  22 tasks      | elapsed:    0.9s\n",
      "[Parallel(n_jobs=14)]: Done 172 tasks      | elapsed:    5.5s\n",
      "[Parallel(n_jobs=14)]: Done 422 tasks      | elapsed:   13.4s\n",
      "[Parallel(n_jobs=14)]: Done 772 tasks      | elapsed:   24.7s\n",
      "[Parallel(n_jobs=14)]: Done 1222 tasks      | elapsed:   38.0s\n",
      "[Parallel(n_jobs=14)]: Done 1772 tasks      | elapsed:   54.8s\n",
      "[Parallel(n_jobs=14)]: Done 2422 tasks      | elapsed:  1.2min\n",
      "[Parallel(n_jobs=14)]: Done 3172 tasks      | elapsed:  1.6min\n",
      "[Parallel(n_jobs=14)]: Done 4022 tasks      | elapsed:  2.1min\n",
      "[Parallel(n_jobs=14)]: Done 4972 tasks      | elapsed:  2.6min\n",
      "[Parallel(n_jobs=14)]: Done 6022 tasks      | elapsed:  3.1min\n",
      "[Parallel(n_jobs=14)]: Done 7172 tasks      | elapsed:  3.7min\n",
      "[Parallel(n_jobs=14)]: Done 8265 out of 8265 | elapsed:  4.3min finished\n",
      "... storing 'memento_group' as categorical\n"
     ]
    },
    {
     "name": "stdout",
     "output_type": "stream",
     "text": [
      "starting ['bc', 'basal'] 9 beta\n"
     ]
    },
    {
     "name": "stderr",
     "output_type": "stream",
     "text": [
      "[Parallel(n_jobs=14)]: Using backend LokyBackend with 14 concurrent workers.\n",
      "[Parallel(n_jobs=14)]: Done  22 tasks      | elapsed:    1.1s\n",
      "[Parallel(n_jobs=14)]: Done 172 tasks      | elapsed:    6.7s\n",
      "[Parallel(n_jobs=14)]: Done 422 tasks      | elapsed:   16.5s\n",
      "[Parallel(n_jobs=14)]: Done 772 tasks      | elapsed:   30.3s\n",
      "[Parallel(n_jobs=14)]: Done 1222 tasks      | elapsed:   46.8s\n",
      "[Parallel(n_jobs=14)]: Done 1772 tasks      | elapsed:  1.1min\n",
      "[Parallel(n_jobs=14)]: Done 2422 tasks      | elapsed:  1.5min\n",
      "[Parallel(n_jobs=14)]: Done 3172 tasks      | elapsed:  2.0min\n",
      "[Parallel(n_jobs=14)]: Done 4022 tasks      | elapsed:  2.5min\n",
      "[Parallel(n_jobs=14)]: Done 4972 tasks      | elapsed:  3.1min\n",
      "[Parallel(n_jobs=14)]: Done 6022 tasks      | elapsed:  3.8min\n",
      "[Parallel(n_jobs=14)]: Done 7172 tasks      | elapsed:  4.5min\n",
      "[Parallel(n_jobs=14)]: Done 7751 out of 7751 | elapsed:  4.9min finished\n",
      "... storing 'memento_group' as categorical\n"
     ]
    },
    {
     "name": "stdout",
     "output_type": "stream",
     "text": [
      "starting ['bc', 'basal'] 9 gamma\n"
     ]
    },
    {
     "name": "stderr",
     "output_type": "stream",
     "text": [
      "[Parallel(n_jobs=14)]: Using backend LokyBackend with 14 concurrent workers.\n",
      "[Parallel(n_jobs=14)]: Done  22 tasks      | elapsed:    1.0s\n",
      "[Parallel(n_jobs=14)]: Done 172 tasks      | elapsed:    6.5s\n",
      "[Parallel(n_jobs=14)]: Done 422 tasks      | elapsed:   16.2s\n",
      "[Parallel(n_jobs=14)]: Done 772 tasks      | elapsed:   29.8s\n",
      "[Parallel(n_jobs=14)]: Done 1222 tasks      | elapsed:   46.0s\n",
      "[Parallel(n_jobs=14)]: Done 1772 tasks      | elapsed:  1.1min\n",
      "[Parallel(n_jobs=14)]: Done 2422 tasks      | elapsed:  1.5min\n",
      "[Parallel(n_jobs=14)]: Done 3172 tasks      | elapsed:  2.0min\n",
      "[Parallel(n_jobs=14)]: Done 4022 tasks      | elapsed:  2.5min\n",
      "[Parallel(n_jobs=14)]: Done 4972 tasks      | elapsed:  3.1min\n",
      "[Parallel(n_jobs=14)]: Done 6022 tasks      | elapsed:  3.8min\n",
      "[Parallel(n_jobs=14)]: Done 7172 tasks      | elapsed:  4.5min\n",
      "[Parallel(n_jobs=14)]: Done 8287 out of 8287 | elapsed:  5.2min finished\n",
      "... storing 'memento_group' as categorical\n"
     ]
    },
    {
     "name": "stdout",
     "output_type": "stream",
     "text": [
      "starting ['bc', 'basal'] 9 lambda\n"
     ]
    },
    {
     "name": "stderr",
     "output_type": "stream",
     "text": [
      "[Parallel(n_jobs=14)]: Using backend LokyBackend with 14 concurrent workers.\n",
      "[Parallel(n_jobs=14)]: Done  22 tasks      | elapsed:    0.9s\n",
      "[Parallel(n_jobs=14)]: Done 172 tasks      | elapsed:    5.7s\n",
      "[Parallel(n_jobs=14)]: Done 422 tasks      | elapsed:   13.9s\n",
      "[Parallel(n_jobs=14)]: Done 772 tasks      | elapsed:   25.6s\n",
      "[Parallel(n_jobs=14)]: Done 1222 tasks      | elapsed:   39.3s\n",
      "[Parallel(n_jobs=14)]: Done 1772 tasks      | elapsed:   56.5s\n",
      "[Parallel(n_jobs=14)]: Done 2422 tasks      | elapsed:  1.3min\n",
      "[Parallel(n_jobs=14)]: Done 3172 tasks      | elapsed:  1.7min\n",
      "[Parallel(n_jobs=14)]: Done 4022 tasks      | elapsed:  2.1min\n",
      "[Parallel(n_jobs=14)]: Done 4972 tasks      | elapsed:  2.7min\n",
      "[Parallel(n_jobs=14)]: Done 6022 tasks      | elapsed:  3.2min\n",
      "[Parallel(n_jobs=14)]: Done 7172 tasks      | elapsed:  3.8min\n",
      "[Parallel(n_jobs=14)]: Done 8245 out of 8245 | elapsed:  4.4min finished\n",
      "... storing 'memento_group' as categorical\n"
     ]
    },
    {
     "name": "stdout",
     "output_type": "stream",
     "text": [
      "starting ['bc', 'basal'] 24 alpha\n"
     ]
    },
    {
     "name": "stderr",
     "output_type": "stream",
     "text": [
      "[Parallel(n_jobs=14)]: Using backend LokyBackend with 14 concurrent workers.\n",
      "[Parallel(n_jobs=14)]: Done  22 tasks      | elapsed:    1.0s\n",
      "[Parallel(n_jobs=14)]: Done 172 tasks      | elapsed:    6.3s\n",
      "[Parallel(n_jobs=14)]: Done 422 tasks      | elapsed:   15.5s\n",
      "[Parallel(n_jobs=14)]: Done 772 tasks      | elapsed:   28.3s\n",
      "[Parallel(n_jobs=14)]: Done 1222 tasks      | elapsed:   43.7s\n",
      "[Parallel(n_jobs=14)]: Done 1772 tasks      | elapsed:  1.0min\n",
      "[Parallel(n_jobs=14)]: Done 2422 tasks      | elapsed:  1.4min\n",
      "[Parallel(n_jobs=14)]: Done 3172 tasks      | elapsed:  1.9min\n",
      "[Parallel(n_jobs=14)]: Done 4022 tasks      | elapsed:  2.4min\n",
      "[Parallel(n_jobs=14)]: Done 4972 tasks      | elapsed:  3.0min\n",
      "[Parallel(n_jobs=14)]: Done 6022 tasks      | elapsed:  3.6min\n",
      "[Parallel(n_jobs=14)]: Done 7172 tasks      | elapsed:  4.3min\n",
      "[Parallel(n_jobs=14)]: Done 7837 out of 7837 | elapsed:  4.7min finished\n",
      "... storing 'memento_group' as categorical\n"
     ]
    },
    {
     "name": "stdout",
     "output_type": "stream",
     "text": [
      "starting ['bc', 'basal'] 24 beta\n"
     ]
    },
    {
     "name": "stderr",
     "output_type": "stream",
     "text": [
      "[Parallel(n_jobs=14)]: Using backend LokyBackend with 14 concurrent workers.\n",
      "[Parallel(n_jobs=14)]: Done  22 tasks      | elapsed:    1.0s\n",
      "[Parallel(n_jobs=14)]: Done 172 tasks      | elapsed:    6.2s\n",
      "[Parallel(n_jobs=14)]: Done 422 tasks      | elapsed:   15.1s\n",
      "[Parallel(n_jobs=14)]: Done 772 tasks      | elapsed:   27.7s\n",
      "[Parallel(n_jobs=14)]: Done 1222 tasks      | elapsed:   42.9s\n",
      "[Parallel(n_jobs=14)]: Done 1772 tasks      | elapsed:  1.0min\n",
      "[Parallel(n_jobs=14)]: Done 2422 tasks      | elapsed:  1.4min\n",
      "[Parallel(n_jobs=14)]: Done 3172 tasks      | elapsed:  1.8min\n",
      "[Parallel(n_jobs=14)]: Done 4022 tasks      | elapsed:  2.3min\n",
      "[Parallel(n_jobs=14)]: Done 4972 tasks      | elapsed:  2.9min\n",
      "[Parallel(n_jobs=14)]: Done 6022 tasks      | elapsed:  3.5min\n",
      "[Parallel(n_jobs=14)]: Done 7172 tasks      | elapsed:  4.2min\n",
      "[Parallel(n_jobs=14)]: Done 8065 out of 8065 | elapsed:  4.7min finished\n",
      "... storing 'memento_group' as categorical\n"
     ]
    },
    {
     "name": "stdout",
     "output_type": "stream",
     "text": [
      "starting ['bc', 'basal'] 24 gamma\n"
     ]
    },
    {
     "name": "stderr",
     "output_type": "stream",
     "text": [
      "[Parallel(n_jobs=14)]: Using backend LokyBackend with 14 concurrent workers.\n",
      "[Parallel(n_jobs=14)]: Done  22 tasks      | elapsed:    1.0s\n",
      "[Parallel(n_jobs=14)]: Done 172 tasks      | elapsed:    5.8s\n",
      "[Parallel(n_jobs=14)]: Done 422 tasks      | elapsed:   14.5s\n",
      "[Parallel(n_jobs=14)]: Done 772 tasks      | elapsed:   27.0s\n",
      "[Parallel(n_jobs=14)]: Done 1222 tasks      | elapsed:   41.5s\n",
      "[Parallel(n_jobs=14)]: Done 1772 tasks      | elapsed:   59.7s\n",
      "[Parallel(n_jobs=14)]: Done 2422 tasks      | elapsed:  1.4min\n",
      "[Parallel(n_jobs=14)]: Done 3172 tasks      | elapsed:  1.8min\n",
      "[Parallel(n_jobs=14)]: Done 4022 tasks      | elapsed:  2.3min\n",
      "[Parallel(n_jobs=14)]: Done 4972 tasks      | elapsed:  2.8min\n",
      "[Parallel(n_jobs=14)]: Done 6022 tasks      | elapsed:  3.4min\n",
      "[Parallel(n_jobs=14)]: Done 7172 tasks      | elapsed:  4.0min\n",
      "[Parallel(n_jobs=14)]: Done 8074 out of 8074 | elapsed:  4.6min finished\n",
      "... storing 'memento_group' as categorical\n"
     ]
    },
    {
     "name": "stdout",
     "output_type": "stream",
     "text": [
      "starting ['bc', 'basal'] 24 lambda\n"
     ]
    },
    {
     "name": "stderr",
     "output_type": "stream",
     "text": [
      "[Parallel(n_jobs=14)]: Using backend LokyBackend with 14 concurrent workers.\n",
      "[Parallel(n_jobs=14)]: Done  22 tasks      | elapsed:    1.0s\n",
      "[Parallel(n_jobs=14)]: Done 172 tasks      | elapsed:    5.9s\n",
      "[Parallel(n_jobs=14)]: Done 422 tasks      | elapsed:   14.6s\n",
      "[Parallel(n_jobs=14)]: Done 772 tasks      | elapsed:   26.8s\n",
      "[Parallel(n_jobs=14)]: Done 1222 tasks      | elapsed:   41.3s\n",
      "[Parallel(n_jobs=14)]: Done 1772 tasks      | elapsed:   59.5s\n",
      "[Parallel(n_jobs=14)]: Done 2422 tasks      | elapsed:  1.4min\n",
      "[Parallel(n_jobs=14)]: Done 3172 tasks      | elapsed:  1.8min\n",
      "[Parallel(n_jobs=14)]: Done 4022 tasks      | elapsed:  2.2min\n",
      "[Parallel(n_jobs=14)]: Done 4972 tasks      | elapsed:  2.8min\n",
      "[Parallel(n_jobs=14)]: Done 6022 tasks      | elapsed:  3.4min\n",
      "[Parallel(n_jobs=14)]: Done 7172 tasks      | elapsed:  4.0min\n",
      "[Parallel(n_jobs=14)]: Done 8418 out of 8418 | elapsed:  4.7min finished\n",
      "... storing 'memento_group' as categorical\n"
     ]
    },
    {
     "name": "stdout",
     "output_type": "stream",
     "text": [
      "starting ['bc', 'basal'] 48 alpha\n"
     ]
    },
    {
     "name": "stderr",
     "output_type": "stream",
     "text": [
      "[Parallel(n_jobs=14)]: Using backend LokyBackend with 14 concurrent workers.\n",
      "[Parallel(n_jobs=14)]: Done  22 tasks      | elapsed:    1.1s\n",
      "[Parallel(n_jobs=14)]: Done 172 tasks      | elapsed:    6.0s\n",
      "[Parallel(n_jobs=14)]: Done 422 tasks      | elapsed:   14.7s\n",
      "[Parallel(n_jobs=14)]: Done 772 tasks      | elapsed:   26.9s\n",
      "[Parallel(n_jobs=14)]: Done 1222 tasks      | elapsed:   41.5s\n",
      "[Parallel(n_jobs=14)]: Done 1772 tasks      | elapsed:   59.8s\n",
      "[Parallel(n_jobs=14)]: Done 2422 tasks      | elapsed:  1.4min\n",
      "[Parallel(n_jobs=14)]: Done 3172 tasks      | elapsed:  1.8min\n",
      "[Parallel(n_jobs=14)]: Done 4022 tasks      | elapsed:  2.3min\n",
      "[Parallel(n_jobs=14)]: Done 4972 tasks      | elapsed:  2.9min\n",
      "[Parallel(n_jobs=14)]: Done 6022 tasks      | elapsed:  3.5min\n",
      "[Parallel(n_jobs=14)]: Done 7172 tasks      | elapsed:  4.1min\n",
      "[Parallel(n_jobs=14)]: Done 8092 out of 8092 | elapsed:  4.7min finished\n",
      "... storing 'memento_group' as categorical\n"
     ]
    },
    {
     "name": "stdout",
     "output_type": "stream",
     "text": [
      "starting ['bc', 'basal'] 48 beta\n"
     ]
    },
    {
     "name": "stderr",
     "output_type": "stream",
     "text": [
      "[Parallel(n_jobs=14)]: Using backend LokyBackend with 14 concurrent workers.\n",
      "[Parallel(n_jobs=14)]: Done  22 tasks      | elapsed:    1.1s\n",
      "[Parallel(n_jobs=14)]: Done 172 tasks      | elapsed:    7.0s\n",
      "[Parallel(n_jobs=14)]: Done 422 tasks      | elapsed:   17.0s\n",
      "[Parallel(n_jobs=14)]: Done 772 tasks      | elapsed:   31.1s\n",
      "[Parallel(n_jobs=14)]: Done 1222 tasks      | elapsed:   48.3s\n",
      "[Parallel(n_jobs=14)]: Done 1772 tasks      | elapsed:  1.2min\n",
      "[Parallel(n_jobs=14)]: Done 2422 tasks      | elapsed:  1.6min\n",
      "[Parallel(n_jobs=14)]: Done 3172 tasks      | elapsed:  2.1min\n",
      "[Parallel(n_jobs=14)]: Done 4022 tasks      | elapsed:  2.6min\n",
      "[Parallel(n_jobs=14)]: Done 4972 tasks      | elapsed:  3.3min\n",
      "[Parallel(n_jobs=14)]: Done 6022 tasks      | elapsed:  3.9min\n",
      "[Parallel(n_jobs=14)]: Done 7172 tasks      | elapsed:  4.7min\n",
      "[Parallel(n_jobs=14)]: Done 7858 out of 7858 | elapsed:  5.1min finished\n",
      "... storing 'memento_group' as categorical\n"
     ]
    },
    {
     "name": "stdout",
     "output_type": "stream",
     "text": [
      "starting ['bc', 'basal'] 48 gamma\n"
     ]
    },
    {
     "name": "stderr",
     "output_type": "stream",
     "text": [
      "[Parallel(n_jobs=14)]: Using backend LokyBackend with 14 concurrent workers.\n",
      "[Parallel(n_jobs=14)]: Done  22 tasks      | elapsed:    0.9s\n",
      "[Parallel(n_jobs=14)]: Done 172 tasks      | elapsed:    5.2s\n",
      "[Parallel(n_jobs=14)]: Done 422 tasks      | elapsed:   12.7s\n",
      "[Parallel(n_jobs=14)]: Done 772 tasks      | elapsed:   23.7s\n",
      "[Parallel(n_jobs=14)]: Done 1222 tasks      | elapsed:   36.4s\n",
      "[Parallel(n_jobs=14)]: Done 1772 tasks      | elapsed:   52.3s\n",
      "[Parallel(n_jobs=14)]: Done 2422 tasks      | elapsed:  1.2min\n",
      "[Parallel(n_jobs=14)]: Done 3172 tasks      | elapsed:  1.6min\n",
      "[Parallel(n_jobs=14)]: Done 4022 tasks      | elapsed:  2.0min\n",
      "[Parallel(n_jobs=14)]: Done 4972 tasks      | elapsed:  2.5min\n",
      "[Parallel(n_jobs=14)]: Done 6022 tasks      | elapsed:  3.0min\n",
      "[Parallel(n_jobs=14)]: Done 7172 tasks      | elapsed:  3.6min\n",
      "[Parallel(n_jobs=14)]: Done 8422 tasks      | elapsed:  4.2min\n",
      "[Parallel(n_jobs=14)]: Done 8453 out of 8453 | elapsed:  4.2min finished\n",
      "... storing 'memento_group' as categorical\n"
     ]
    },
    {
     "name": "stdout",
     "output_type": "stream",
     "text": [
      "starting ['bc', 'basal'] 48 lambda\n"
     ]
    },
    {
     "name": "stderr",
     "output_type": "stream",
     "text": [
      "[Parallel(n_jobs=14)]: Using backend LokyBackend with 14 concurrent workers.\n",
      "[Parallel(n_jobs=14)]: Done  22 tasks      | elapsed:    1.1s\n",
      "[Parallel(n_jobs=14)]: Done 172 tasks      | elapsed:    6.2s\n",
      "[Parallel(n_jobs=14)]: Done 422 tasks      | elapsed:   15.2s\n",
      "[Parallel(n_jobs=14)]: Done 772 tasks      | elapsed:   28.2s\n",
      "[Parallel(n_jobs=14)]: Done 1222 tasks      | elapsed:   43.7s\n",
      "[Parallel(n_jobs=14)]: Done 1772 tasks      | elapsed:  1.0min\n",
      "[Parallel(n_jobs=14)]: Done 2422 tasks      | elapsed:  1.4min\n",
      "[Parallel(n_jobs=14)]: Done 3172 tasks      | elapsed:  1.9min\n",
      "[Parallel(n_jobs=14)]: Done 4022 tasks      | elapsed:  2.4min\n",
      "[Parallel(n_jobs=14)]: Done 4972 tasks      | elapsed:  2.9min\n",
      "[Parallel(n_jobs=14)]: Done 6022 tasks      | elapsed:  3.6min\n",
      "[Parallel(n_jobs=14)]: Done 7172 tasks      | elapsed:  4.2min\n",
      "[Parallel(n_jobs=14)]: Done 8214 out of 8214 | elapsed:  4.9min finished\n",
      "... storing 'memento_group' as categorical\n"
     ]
    }
   ],
   "source": [
    "for ct in cts:\n",
    "    for tp in tps:\n",
    "        for stim in stims:\n",
    "            \n",
    "            fname = '{}_{}_{}.h5ad'.format('-'.join(ct), stim, tp)\n",
    "            \n",
    "            if fname in done_files:\n",
    "                print('Skipping', fname)\n",
    "                continue\n",
    "\n",
    "            print('starting', ct, tp, stim)\n",
    "\n",
    "            adata_stim = adata.copy()[\n",
    "                adata.obs.cell_type.isin(ct) & \\\n",
    "                adata.obs.stim.isin(['control', stim]) & \\\n",
    "                adata.obs.time.isin(['0',tp]), :].copy()\n",
    "            time_converter={0:0, int(tp):1}\n",
    "            adata_stim.obs['time_step'] = adata_stim.obs['time'].astype(int).apply(lambda x: time_converter[x])\n",
    "\n",
    "            memento.create_groups(adata_stim, label_columns=['time_step', 'donor'])\n",
    "            memento.compute_1d_moments(adata_stim, min_perc_group=.9)\n",
    "\n",
    "            memento.ht_1d_moments(\n",
    "                adata_stim, \n",
    "                formula_like='1 + time_step',\n",
    "                cov_column='time_step', \n",
    "                num_boot=10000, \n",
    "                verbose=1,\n",
    "                num_cpus=14)\n",
    "\n",
    "            del adata_stim.uns['memento']['mv_regressor']\n",
    "\n",
    "            adata_stim.write('/data_volume/ifn_hbec/binary_test_deep/{}_{}_{}.h5ad'.format(\n",
    "                '-'.join(ct), stim, tp))"
   ]
  },
  {
   "cell_type": "code",
   "execution_count": null,
   "metadata": {},
   "outputs": [],
   "source": []
  },
  {
   "cell_type": "code",
   "execution_count": null,
   "metadata": {},
   "outputs": [],
   "source": []
  },
  {
   "cell_type": "code",
   "execution_count": null,
   "metadata": {},
   "outputs": [],
   "source": []
  },
  {
   "cell_type": "code",
   "execution_count": null,
   "metadata": {},
   "outputs": [],
   "source": []
  },
  {
   "cell_type": "code",
   "execution_count": null,
   "metadata": {},
   "outputs": [],
   "source": []
  },
  {
   "cell_type": "code",
   "execution_count": null,
   "metadata": {},
   "outputs": [],
   "source": []
  },
  {
   "cell_type": "code",
   "execution_count": null,
   "metadata": {},
   "outputs": [],
   "source": []
  },
  {
   "cell_type": "code",
   "execution_count": null,
   "metadata": {},
   "outputs": [],
   "source": []
  }
 ],
 "metadata": {
  "kernelspec": {
   "display_name": "Python 3",
   "language": "python",
   "name": "python3"
  },
  "language_info": {
   "codemirror_mode": {
    "name": "ipython",
    "version": 3
   },
   "file_extension": ".py",
   "mimetype": "text/x-python",
   "name": "python",
   "nbconvert_exporter": "python",
   "pygments_lexer": "ipython3",
   "version": "3.7.5"
  }
 },
 "nbformat": 4,
 "nbformat_minor": 4
}
