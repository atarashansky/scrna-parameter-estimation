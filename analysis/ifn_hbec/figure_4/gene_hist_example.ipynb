{
 "cells": [
  {
   "cell_type": "markdown",
   "metadata": {},
   "source": [
    "# Variability analysis for HBEC IFN experiment"
   ]
  },
  {
   "cell_type": "code",
   "execution_count": 6,
   "metadata": {},
   "outputs": [],
   "source": [
    "import scanpy as sc\n",
    "import seaborn as sns\n",
    "import pandas as pd\n",
    "import matplotlib.pyplot as plt\n",
    "import numpy as np\n",
    "import scipy.stats as stats\n",
    "from pybedtools import BedTool\n",
    "import pickle as pkl\n",
    "%matplotlib inline\n",
    "import itertools"
   ]
  },
  {
   "cell_type": "code",
   "execution_count": 7,
   "metadata": {},
   "outputs": [],
   "source": [
    "import sys\n",
    "sys.path.append('/home/ssm-user/Github/scrna-parameter-estimation/dist/memento-0.0.5-py3.8.egg')\n",
    "sys.path.append('/home/ssm-user/Github/misc-seq/miscseq')\n",
    "import encode\n",
    "import memento"
   ]
  },
  {
   "cell_type": "code",
   "execution_count": 8,
   "metadata": {},
   "outputs": [],
   "source": [
    "data_path = '/data_volume/ifn_hbec/'\n",
    "fig_path = '/home/ssm-user/Github/scrna-parameter-estimation/figures/fig4/main/'"
   ]
  },
  {
   "cell_type": "code",
   "execution_count": 9,
   "metadata": {},
   "outputs": [],
   "source": [
    "import matplotlib\n",
    "matplotlib.rcParams['pdf.fonttype'] = 42\n",
    "matplotlib.rcParams['ps.fonttype'] = 42"
   ]
  },
  {
   "cell_type": "code",
   "execution_count": 10,
   "metadata": {},
   "outputs": [],
   "source": [
    "import matplotlib.pylab as pylab\n",
    "params = {'legend.fontsize': 'medium',\n",
    "         'axes.labelsize': 'medium',\n",
    "         'axes.titlesize':'medium',\n",
    "         'figure.titlesize':'medium',\n",
    "         'xtick.labelsize':'small',\n",
    "         'ytick.labelsize':'small'}\n",
    "pylab.rcParams.update(params)"
   ]
  },
  {
   "cell_type": "markdown",
   "metadata": {},
   "source": [
    "### Read the processed RNA data\n",
    "\n",
    "Focus on the club and bc/club cells and type I interferons for now.\n",
    "\n",
    "Encode the timestamps to integers."
   ]
  },
  {
   "cell_type": "code",
   "execution_count": 11,
   "metadata": {},
   "outputs": [],
   "source": [
    "# adata_processed = sc.read(data_path + 'HBEC_type_I_processed_deep.h5ad')"
   ]
  },
  {
   "cell_type": "code",
   "execution_count": 12,
   "metadata": {},
   "outputs": [],
   "source": [
    "adata = sc.read(data_path + 'HBEC_type_I_filtered_counts_deep.h5ad')"
   ]
  },
  {
   "cell_type": "code",
   "execution_count": 13,
   "metadata": {},
   "outputs": [
    {
     "name": "stderr",
     "output_type": "stream",
     "text": [
      "/home/ssm-user/anaconda3/envs/single_cell/lib/python3.8/site-packages/pandas/core/arrays/categorical.py:2487: FutureWarning: The `inplace` parameter in pandas.Categorical.remove_unused_categories is deprecated and will be removed in a future version.\n",
      "  res = method(*args, **kwargs)\n"
     ]
    }
   ],
   "source": [
    "adata = adata[:, ~adata.var.index.str.startswith('MT-')].copy()\n",
    "adata.obs['cell_type'] = adata.obs['cell_type'].apply(lambda x: x if x != 'basal/club' else 'bc')\n",
    "adata.obs['cell_type'] = adata.obs['cell_type'].apply(lambda x: x if x != 'ionocyte/tuft' else 'ion-tuft')"
   ]
  },
  {
   "cell_type": "raw",
   "metadata": {},
   "source": [
    "sc.pl.umap(adata_processed, color=['cell_type', 'time', 'stim'])"
   ]
  },
  {
   "cell_type": "code",
   "execution_count": 14,
   "metadata": {},
   "outputs": [
    {
     "data": {
      "text/plain": [
       "(69958, 36588)"
      ]
     },
     "execution_count": 14,
     "metadata": {},
     "output_type": "execute_result"
    }
   ],
   "source": [
    "adata.shape"
   ]
  },
  {
   "cell_type": "markdown",
   "metadata": {},
   "source": [
    "### Finding examples of simple regulation"
   ]
  },
  {
   "cell_type": "code",
   "execution_count": 15,
   "metadata": {},
   "outputs": [
    {
     "data": {
      "text/plain": [
       "AnnData object with n_obs × n_vars = 69958 × 36588\n",
       "    obs: 'NUM.SNPS', 'BEST.GUESS', 'DROPLET.TYPE', 'batch', 'HTO_classification', 'condition', 'donor', 'stim', 'time', 'n_genes', 'n_genes_by_counts', 'total_counts', 'total_counts_mt', 'pct_counts_mt', 'leiden', 'cell_type'\n",
       "    var: 'gene_ids', 'feature_types', 'genome', 'mt', 'n_cells_by_counts', 'mean_counts', 'pct_dropout_by_counts', 'total_counts'"
      ]
     },
     "execution_count": 15,
     "metadata": {},
     "output_type": "execute_result"
    }
   ],
   "source": [
    "adata"
   ]
  },
  {
   "cell_type": "code",
   "execution_count": 16,
   "metadata": {},
   "outputs": [],
   "source": [
    "stim = 'gamma'\n",
    "ct = ['ciliated']\n",
    "subset_processed = adata[\n",
    "            adata.obs.cell_type.isin(ct) & \\\n",
    "            adata.obs.stim.isin(['control', stim])].copy()\n"
   ]
  },
  {
   "cell_type": "code",
   "execution_count": 409,
   "metadata": {},
   "outputs": [],
   "source": [
    "# sc.pp.normalize_total(subset_processed, target_sum=1e4)"
   ]
  },
  {
   "cell_type": "code",
   "execution_count": 17,
   "metadata": {},
   "outputs": [],
   "source": [
    "sc.pp.log1p(subset_processed)"
   ]
  },
  {
   "cell_type": "code",
   "execution_count": 18,
   "metadata": {},
   "outputs": [],
   "source": [
    "df = pd.DataFrame()\n",
    "df['STAT1'] = subset_processed[:, 'STAT1'].X.todense().A1\n",
    "df['STAT2'] = subset_processed[:, 'STAT2'].X.todense().A1\n",
    "df['IRF9'] = subset_processed[:, 'IRF9'].X.todense().A1\n",
    "\n",
    "df['GBP1'] = subset_processed[:, 'GBP1'].X.todense().A1\n",
    "df['ACTB'] = subset_processed[:, 'ACTB'].X.todense().A1\n",
    "\n",
    "df['time'] = subset_processed.obs['time'].values"
   ]
  },
  {
   "cell_type": "code",
   "execution_count": 83,
   "metadata": {},
   "outputs": [],
   "source": [
    "def row_based_idx(num_rows, num_cols, idx):\n",
    "    return np.arange(1, num_rows*num_cols + 1).reshape((num_rows, num_cols)).transpose().flatten()[idx-1]"
   ]
  },
  {
   "cell_type": "code",
   "execution_count": 92,
   "metadata": {},
   "outputs": [
    {
     "data": {
      "image/png": "[encoded data removed]",
      "text/plain": [
       "<Figure size 432x216 with 12 Axes>"
      ]
     },
     "metadata": {
      "needs_background": "light"
     },
     "output_type": "display_data"
    }
   ],
   "source": [
    "plt.figure(figsize=(6, 3))\n",
    "idx = 1\n",
    "\n",
    "for time in ['0', '3', '9','48']:\n",
    "    plt.subplot(6, 3, row_based_idx(4, 3, idx));\n",
    "    fig = sns.kdeplot(df.query('time == \"{}\"'.format(time)).STAT1, bw_adjust=1.5)\n",
    "\n",
    "    sns.despine();\n",
    "    if time != '48':\n",
    "        plt.xticks([]);\n",
    "\n",
    "    plt.xlabel(None)\n",
    "    plt.ylabel(None)\n",
    "    plt.yticks([]);\n",
    "    plt.xlim(-1.5, 5);\n",
    "    plt.ylim(0, 0.7)\n",
    "    if time == '48':\n",
    "        plt.xlabel('STAT1')\n",
    "    idx+=1\n",
    "        \n",
    "for time in ['0', '3', '9','48']:\n",
    "    plt.subplot(6, 3, row_based_idx(4, 3, idx));\n",
    "    fig = sns.kdeplot(df.query('time == \"{}\"'.format(time)).GBP1, bw_adjust=1.5)\n",
    "\n",
    "    sns.despine();\n",
    "    if time != '48':\n",
    "        plt.xticks([]);\n",
    "\n",
    "    plt.xlabel(None)\n",
    "    plt.ylabel(None)\n",
    "    plt.yticks([]);\n",
    "    plt.xlim(-2, 5);\n",
    "    plt.ylim(0, 0.7)\n",
    "    if time == '48':\n",
    "        plt.xlabel('GBP1')\n",
    "    idx+=1\n",
    "\n",
    "for time in ['0', '3', '9','48']:\n",
    "    plt.subplot(6, 3, row_based_idx(4, 3, idx));\n",
    "    fig = sns.kdeplot(df.query('time == \"{}\"'.format(time)).ACTB, bw_adjust=1.5)\n",
    "\n",
    "    sns.despine();\n",
    "    if time != '48':\n",
    "        plt.xticks([]);\n",
    "\n",
    "    plt.xlabel(None)\n",
    "    plt.ylabel(None)\n",
    "    plt.yticks([]);\n",
    "    plt.xlim(1, 6);\n",
    "    plt.ylim(0, 0.7)\n",
    "    if time == '48':\n",
    "        plt.xlabel('ACTB')\n",
    "    idx+=1\n",
    "    \n",
    "plt.savefig(fig_path + 'gene_hists.pdf', bbox_inches='tight')\n"
   ]
  },
  {
   "cell_type": "code",
   "execution_count": null,
   "metadata": {},
   "outputs": [],
   "source": []
  },
  {
   "cell_type": "code",
   "execution_count": null,
   "metadata": {},
   "outputs": [],
   "source": []
  },
  {
   "cell_type": "code",
   "execution_count": null,
   "metadata": {},
   "outputs": [],
   "source": []
  },
  {
   "cell_type": "code",
   "execution_count": 82,
   "metadata": {},
   "outputs": [
    {
     "data": {
      "image/png": "[encoded data removed]",
      "text/plain": [
       "<Figure size 108x216 with 4 Axes>"
      ]
     },
     "metadata": {
      "needs_background": "light"
     },
     "output_type": "display_data"
    }
   ],
   "source": [
    "plt.figure(figsize=(1.5, 3))\n",
    "# plt.subplots_adjust(hspace=0.005)\n",
    "for idx, time in enumerate(['0', '3', '9','48']):\n",
    "    plt.subplot(6, 1, idx+1);\n",
    "    fig = sns.kdeplot(df.query('time == \"{}\"'.format(time)).STAT1, bw_adjust=1.5)\n",
    "\n",
    "    sns.despine();\n",
    "    if time != '48':\n",
    "        plt.xticks([]);\n",
    "\n",
    "    plt.xlabel(None)\n",
    "    plt.ylabel(None)\n",
    "    plt.yticks([]);\n",
    "    plt.xlim(-1.5, 5);\n",
    "    plt.ylim(0, 0.7)\n",
    "    if time == '48':\n",
    "        plt.xlabel('STAT1')\n"
   ]
  },
  {
   "cell_type": "code",
   "execution_count": 76,
   "metadata": {},
   "outputs": [
    {
     "data": {
      "image/png": "[encoded data removed]",
      "text/plain": [
       "<Figure size 108x216 with 4 Axes>"
      ]
     },
     "metadata": {
      "needs_background": "light"
     },
     "output_type": "display_data"
    }
   ],
   "source": [
    "plt.figure(figsize=(1.5, 3))\n",
    "# plt.subplots_adjust(hspace=0.005)\n",
    "for idx, time in enumerate(['0', '3', '9','48']):\n",
    "    plt.subplot(6, 1, idx+1);\n",
    "    fig = sns.kdeplot(df.query('time == \"{}\"'.format(time)).GBP1, bw_adjust=1.5)\n",
    "\n",
    "    sns.despine();\n",
    "    if time != '48':\n",
    "        plt.xticks([]);\n",
    "\n",
    "    plt.xlabel(None)\n",
    "    plt.ylabel(None)\n",
    "    plt.yticks([]);\n",
    "    plt.xlim(-2, 5);\n",
    "    plt.ylim(0, 0.7)\n",
    "    if time == '48':\n",
    "        plt.xlabel('GBP1')"
   ]
  },
  {
   "cell_type": "code",
   "execution_count": 77,
   "metadata": {},
   "outputs": [
    {
     "data": {
      "image/png": "[encoded data removed]",
      "text/plain": [
       "<Figure size 108x216 with 4 Axes>"
      ]
     },
     "metadata": {
      "needs_background": "light"
     },
     "output_type": "display_data"
    }
   ],
   "source": [
    "plt.figure(figsize=(1.5, 3))\n",
    "# plt.subplots_adjust(hspace=0.005)\n",
    "for idx, time in enumerate(['0', '3', '9','48']):\n",
    "    plt.subplot(6, 1, idx+1);\n",
    "    fig = sns.kdeplot(df.query('time == \"{}\"'.format(time)).ACTB, bw_adjust=1.5)\n",
    "\n",
    "    sns.despine();\n",
    "    if time != '48':\n",
    "        plt.xticks([]);\n",
    "\n",
    "    plt.xlabel(None)\n",
    "    plt.ylabel(None)\n",
    "    plt.yticks([]);\n",
    "    plt.xlim(1, 6);\n",
    "    plt.ylim(0, 0.7)\n",
    "    if time == '48':\n",
    "        plt.xlabel('ACTB')"
   ]
  },
  {
   "cell_type": "code",
   "execution_count": null,
   "metadata": {},
   "outputs": [],
   "source": []
  }
 ],
 "metadata": {
  "kernelspec": {
   "display_name": "Python 3",
   "language": "python",
   "name": "python3"
  },
  "language_info": {
   "codemirror_mode": {
    "name": "ipython",
    "version": 3
   },
   "file_extension": ".py",
   "mimetype": "text/x-python",
   "name": "python",
   "nbconvert_exporter": "python",
   "pygments_lexer": "ipython3",
   "version": "3.8.8"
  }
 },
 "nbformat": 4,
 "nbformat_minor": 4
}
