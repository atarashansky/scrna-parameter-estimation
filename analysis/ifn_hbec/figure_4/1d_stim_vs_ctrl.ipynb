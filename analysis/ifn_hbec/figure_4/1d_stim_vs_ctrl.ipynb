{
 "cells": [
  {
   "cell_type": "markdown",
   "metadata": {},
   "source": [
    "# 1D Variability hypothesis testing for HBEC IFN experiment"
   ]
  },
  {
   "cell_type": "code",
   "execution_count": 1,
   "metadata": {},
   "outputs": [],
   "source": [
    "import scanpy as sc\n",
    "import seaborn as sns\n",
    "import pandas as pd\n",
    "import matplotlib.pyplot as plt\n",
    "import numpy as np\n",
    "import scipy.stats as stats\n",
    "from pybedtools import BedTool\n",
    "import pickle as pkl\n",
    "%matplotlib inline"
   ]
  },
  {
   "cell_type": "code",
   "execution_count": 2,
   "metadata": {},
   "outputs": [],
   "source": [
    "import sys\n",
    "sys.path.append('/home/ssm-user/Github/scrna-parameter-estimation/dist/memento-0.0.5-py3.8.egg')\n",
    "sys.path.append('/home/ssm-user/Github/misc-seq/miscseq/')\n",
    "import encode\n",
    "import memento"
   ]
  },
  {
   "cell_type": "code",
   "execution_count": 3,
   "metadata": {},
   "outputs": [],
   "source": [
    "data_path = '/data_volume/ifn_hbec/'"
   ]
  },
  {
   "cell_type": "markdown",
   "metadata": {},
   "source": [
    "### Read the processed RNA data\n",
    "\n",
    "Focus on the club and bc/club cells and type I interferons for now.\n",
    "\n",
    "Encode the timestamps to integers."
   ]
  },
  {
   "cell_type": "raw",
   "metadata": {},
   "source": [
    "adata_processed = sc.read(data_path + 'HBEC_type_I_processed.h5ad')"
   ]
  },
  {
   "cell_type": "code",
   "execution_count": 4,
   "metadata": {},
   "outputs": [],
   "source": [
    "adata = sc.read(data_path + 'HBEC_type_I_filtered_counts_deep.h5ad')"
   ]
  },
  {
   "cell_type": "code",
   "execution_count": 5,
   "metadata": {},
   "outputs": [
    {
     "name": "stderr",
     "output_type": "stream",
     "text": [
      "/home/ssm-user/anaconda3/envs/single_cell/lib/python3.8/site-packages/pandas/core/arrays/categorical.py:2487: FutureWarning: The `inplace` parameter in pandas.Categorical.remove_unused_categories is deprecated and will be removed in a future version.\n",
      "  res = method(*args, **kwargs)\n"
     ]
    }
   ],
   "source": [
    "adata = adata[:, ~adata.var.index.str.startswith('MT-')].copy()\n",
    "adata.obs['cell_type'] = adata.obs['cell_type'].apply(lambda x: x if x != 'basal/club' else 'bc')\n",
    "adata.obs['cell_type'] = adata.obs['cell_type'].apply(lambda x: x if x != 'ionocyte/tuft' else 'ion-tuft')"
   ]
  },
  {
   "cell_type": "raw",
   "metadata": {},
   "source": [
    "sc.pl.umap(adata_processed, color=['cell_type', 'time', 'stim'])"
   ]
  },
  {
   "cell_type": "code",
   "execution_count": 6,
   "metadata": {},
   "outputs": [
    {
     "data": {
      "text/plain": [
       "(69958, 36588)"
      ]
     },
     "execution_count": 6,
     "metadata": {},
     "output_type": "execute_result"
    }
   ],
   "source": [
    "adata.shape"
   ]
  },
  {
   "cell_type": "markdown",
   "metadata": {},
   "source": [
    "### Setup memento"
   ]
  },
  {
   "cell_type": "code",
   "execution_count": 7,
   "metadata": {},
   "outputs": [],
   "source": [
    "def assign_q(batch):\n",
    "    \n",
    "    if batch == 0:\n",
    "        return 0.387*0.25\n",
    "    elif batch == 1:\n",
    "        return 0.392*0.25\n",
    "    elif batch == 2:\n",
    "        return 0.436*0.25\n",
    "    else:\n",
    "        return 0.417*0.25"
   ]
  },
  {
   "cell_type": "code",
   "execution_count": 8,
   "metadata": {},
   "outputs": [],
   "source": [
    "adata.obs['q'] = adata.obs['batch'].apply(assign_q)"
   ]
  },
  {
   "cell_type": "code",
   "execution_count": 9,
   "metadata": {},
   "outputs": [],
   "source": [
    "memento.setup_memento(adata, q_column='q')"
   ]
  },
  {
   "cell_type": "code",
   "execution_count": 10,
   "metadata": {},
   "outputs": [
    {
     "data": {
      "text/html": [
       "<div>\n",
       "<style scoped>\n",
       "    .dataframe tbody tr th:only-of-type {\n",
       "        vertical-align: middle;\n",
       "    }\n",
       "\n",
       "    .dataframe tbody tr th {\n",
       "        vertical-align: top;\n",
       "    }\n",
       "\n",
       "    .dataframe thead th {\n",
       "        text-align: right;\n",
       "    }\n",
       "</style>\n",
       "<table border=\"1\" class=\"dataframe\">\n",
       "  <thead>\n",
       "    <tr style=\"text-align: right;\">\n",
       "      <th></th>\n",
       "      <th>NUM.SNPS</th>\n",
       "      <th>BEST.GUESS</th>\n",
       "      <th>DROPLET.TYPE</th>\n",
       "      <th>batch</th>\n",
       "      <th>HTO_classification</th>\n",
       "      <th>condition</th>\n",
       "      <th>donor</th>\n",
       "      <th>stim</th>\n",
       "      <th>time</th>\n",
       "      <th>n_genes</th>\n",
       "      <th>n_genes_by_counts</th>\n",
       "      <th>total_counts</th>\n",
       "      <th>total_counts_mt</th>\n",
       "      <th>pct_counts_mt</th>\n",
       "      <th>leiden</th>\n",
       "      <th>cell_type</th>\n",
       "      <th>q</th>\n",
       "      <th>memento_size_factor</th>\n",
       "    </tr>\n",
       "  </thead>\n",
       "  <tbody>\n",
       "    <tr>\n",
       "      <th>AAACCCAAGGAAGTAG-1</th>\n",
       "      <td>1700</td>\n",
       "      <td>donor0</td>\n",
       "      <td>SNG</td>\n",
       "      <td>0</td>\n",
       "      <td>hash-10</td>\n",
       "      <td>d2513_lambda_9</td>\n",
       "      <td>d2513</td>\n",
       "      <td>lambda</td>\n",
       "      <td>9</td>\n",
       "      <td>4297</td>\n",
       "      <td>4297</td>\n",
       "      <td>12191.0</td>\n",
       "      <td>1394.0</td>\n",
       "      <td>11.434665</td>\n",
       "      <td>3</td>\n",
       "      <td>ciliated</td>\n",
       "      <td>0.10425</td>\n",
       "      <td>0.955289</td>\n",
       "    </tr>\n",
       "    <tr>\n",
       "      <th>AAACCCAAGGGACTGT-1</th>\n",
       "      <td>839</td>\n",
       "      <td>donor0</td>\n",
       "      <td>SNG</td>\n",
       "      <td>0</td>\n",
       "      <td>hash-3</td>\n",
       "      <td>d2513_alpha_24</td>\n",
       "      <td>d2513</td>\n",
       "      <td>alpha</td>\n",
       "      <td>24</td>\n",
       "      <td>2171</td>\n",
       "      <td>2171</td>\n",
       "      <td>7270.0</td>\n",
       "      <td>386.0</td>\n",
       "      <td>5.309491</td>\n",
       "      <td>5</td>\n",
       "      <td>bc</td>\n",
       "      <td>0.10425</td>\n",
       "      <td>0.824407</td>\n",
       "    </tr>\n",
       "    <tr>\n",
       "      <th>AAACCCACAATCTGCA-1</th>\n",
       "      <td>1130</td>\n",
       "      <td>donor1</td>\n",
       "      <td>SNG</td>\n",
       "      <td>0</td>\n",
       "      <td>hash-1</td>\n",
       "      <td>d2614_alpha_3</td>\n",
       "      <td>d2614</td>\n",
       "      <td>alpha</td>\n",
       "      <td>3</td>\n",
       "      <td>3016</td>\n",
       "      <td>3016</td>\n",
       "      <td>9544.0</td>\n",
       "      <td>516.0</td>\n",
       "      <td>5.406538</td>\n",
       "      <td>0</td>\n",
       "      <td>basal</td>\n",
       "      <td>0.10425</td>\n",
       "      <td>0.988939</td>\n",
       "    </tr>\n",
       "  </tbody>\n",
       "</table>\n",
       "</div>"
      ],
      "text/plain": [
       "                    NUM.SNPS BEST.GUESS DROPLET.TYPE batch HTO_classification  \\\n",
       "AAACCCAAGGAAGTAG-1      1700     donor0          SNG     0            hash-10   \n",
       "AAACCCAAGGGACTGT-1       839     donor0          SNG     0             hash-3   \n",
       "AAACCCACAATCTGCA-1      1130     donor1          SNG     0             hash-1   \n",
       "\n",
       "                         condition  donor    stim time  n_genes  \\\n",
       "AAACCCAAGGAAGTAG-1  d2513_lambda_9  d2513  lambda    9     4297   \n",
       "AAACCCAAGGGACTGT-1  d2513_alpha_24  d2513   alpha   24     2171   \n",
       "AAACCCACAATCTGCA-1   d2614_alpha_3  d2614   alpha    3     3016   \n",
       "\n",
       "                    n_genes_by_counts  total_counts  total_counts_mt  \\\n",
       "AAACCCAAGGAAGTAG-1               4297       12191.0           1394.0   \n",
       "AAACCCAAGGGACTGT-1               2171        7270.0            386.0   \n",
       "AAACCCACAATCTGCA-1               3016        9544.0            516.0   \n",
       "\n",
       "                    pct_counts_mt leiden cell_type        q  \\\n",
       "AAACCCAAGGAAGTAG-1      11.434665      3  ciliated  0.10425   \n",
       "AAACCCAAGGGACTGT-1       5.309491      5        bc  0.10425   \n",
       "AAACCCACAATCTGCA-1       5.406538      0     basal  0.10425   \n",
       "\n",
       "                    memento_size_factor  \n",
       "AAACCCAAGGAAGTAG-1             0.955289  \n",
       "AAACCCAAGGGACTGT-1             0.824407  \n",
       "AAACCCACAATCTGCA-1             0.988939  "
      ]
     },
     "execution_count": 10,
     "metadata": {},
     "output_type": "execute_result"
    }
   ],
   "source": [
    "adata.obs.head(3)"
   ]
  },
  {
   "cell_type": "markdown",
   "metadata": {},
   "source": [
    "### Run memento for each subset, comparing to control"
   ]
  },
  {
   "cell_type": "code",
   "execution_count": 14,
   "metadata": {},
   "outputs": [],
   "source": [
    "cts = [['ciliated'], ['bc','basal']]\n",
    "# tps = ['3', '6', '9', '24', '48']\n",
    "tps = ['3', '6', '9', '24', '48']\n",
    "\n",
    "stims = ['alpha', 'beta', 'gamma', 'lambda']"
   ]
  },
  {
   "cell_type": "code",
   "execution_count": 15,
   "metadata": {},
   "outputs": [],
   "source": [
    "import os\n",
    "done_files = os.listdir('/data_volume/ifn_hbec/binary_test_deep/')"
   ]
  },
  {
   "cell_type": "code",
   "execution_count": 16,
   "metadata": {},
   "outputs": [
    {
     "name": "stdout",
     "output_type": "stream",
     "text": [
      "starting ['ciliated'] 3 alpha\n"
     ]
    },
    {
     "name": "stderr",
     "output_type": "stream",
     "text": [
      "/home/ssm-user/anaconda3/envs/single_cell/lib/python3.8/site-packages/pandas/core/arrays/categorical.py:2487: FutureWarning: The `inplace` parameter in pandas.Categorical.remove_unused_categories is deprecated and will be removed in a future version.\n",
      "  res = method(*args, **kwargs)\n",
      "[Parallel(n_jobs=13)]: Using backend LokyBackend with 13 concurrent workers.\n",
      "[Parallel(n_jobs=13)]: Done  24 tasks      | elapsed:    3.2s\n",
      "[Parallel(n_jobs=13)]: Done 174 tasks      | elapsed:    8.2s\n",
      "[Parallel(n_jobs=13)]: Done 424 tasks      | elapsed:   17.9s\n",
      "[Parallel(n_jobs=13)]: Done 774 tasks      | elapsed:   30.8s\n",
      "[Parallel(n_jobs=13)]: Done 1224 tasks      | elapsed:   46.7s\n",
      "[Parallel(n_jobs=13)]: Done 1774 tasks      | elapsed:  1.1min\n",
      "[Parallel(n_jobs=13)]: Done 2424 tasks      | elapsed:  1.5min\n",
      "[Parallel(n_jobs=13)]: Done 3174 tasks      | elapsed:  1.9min\n",
      "[Parallel(n_jobs=13)]: Done 4024 tasks      | elapsed:  2.4min\n",
      "[Parallel(n_jobs=13)]: Done 4974 tasks      | elapsed:  3.0min\n",
      "[Parallel(n_jobs=13)]: Done 6024 tasks      | elapsed:  3.6min\n",
      "[Parallel(n_jobs=13)]: Done 7174 tasks      | elapsed:  4.3min\n",
      "[Parallel(n_jobs=13)]: Done 8424 tasks      | elapsed:  5.0min\n",
      "[Parallel(n_jobs=13)]: Done 9508 out of 9508 | elapsed:  5.7min finished\n",
      "... storing 'memento_group' as categorical\n"
     ]
    },
    {
     "name": "stdout",
     "output_type": "stream",
     "text": [
      "starting ['ciliated'] 3 beta\n"
     ]
    },
    {
     "name": "stderr",
     "output_type": "stream",
     "text": [
      "/home/ssm-user/anaconda3/envs/single_cell/lib/python3.8/site-packages/pandas/core/arrays/categorical.py:2487: FutureWarning: The `inplace` parameter in pandas.Categorical.remove_unused_categories is deprecated and will be removed in a future version.\n",
      "  res = method(*args, **kwargs)\n",
      "[Parallel(n_jobs=13)]: Using backend LokyBackend with 13 concurrent workers.\n",
      "[Parallel(n_jobs=13)]: Done  24 tasks      | elapsed:    1.1s\n",
      "[Parallel(n_jobs=13)]: Done 174 tasks      | elapsed:    5.9s\n",
      "[Parallel(n_jobs=13)]: Done 424 tasks      | elapsed:   14.8s\n",
      "[Parallel(n_jobs=13)]: Done 774 tasks      | elapsed:   27.3s\n",
      "[Parallel(n_jobs=13)]: Done 1224 tasks      | elapsed:   42.4s\n",
      "[Parallel(n_jobs=13)]: Done 1774 tasks      | elapsed:  1.0min\n",
      "[Parallel(n_jobs=13)]: Done 2424 tasks      | elapsed:  1.4min\n",
      "[Parallel(n_jobs=13)]: Done 3174 tasks      | elapsed:  1.8min\n",
      "[Parallel(n_jobs=13)]: Done 4024 tasks      | elapsed:  2.3min\n",
      "[Parallel(n_jobs=13)]: Done 4974 tasks      | elapsed:  2.8min\n",
      "[Parallel(n_jobs=13)]: Done 6024 tasks      | elapsed:  3.4min\n",
      "[Parallel(n_jobs=13)]: Done 7174 tasks      | elapsed:  4.1min\n",
      "[Parallel(n_jobs=13)]: Done 8424 tasks      | elapsed:  4.8min\n",
      "[Parallel(n_jobs=13)]: Done 9642 out of 9642 | elapsed:  5.5min finished\n",
      "... storing 'memento_group' as categorical\n"
     ]
    },
    {
     "name": "stdout",
     "output_type": "stream",
     "text": [
      "starting ['ciliated'] 3 gamma\n"
     ]
    },
    {
     "name": "stderr",
     "output_type": "stream",
     "text": [
      "/home/ssm-user/anaconda3/envs/single_cell/lib/python3.8/site-packages/pandas/core/arrays/categorical.py:2487: FutureWarning: The `inplace` parameter in pandas.Categorical.remove_unused_categories is deprecated and will be removed in a future version.\n",
      "  res = method(*args, **kwargs)\n",
      "[Parallel(n_jobs=13)]: Using backend LokyBackend with 13 concurrent workers.\n",
      "[Parallel(n_jobs=13)]: Done  24 tasks      | elapsed:    0.9s\n",
      "[Parallel(n_jobs=13)]: Done 174 tasks      | elapsed:    5.2s\n",
      "[Parallel(n_jobs=13)]: Done 424 tasks      | elapsed:   12.7s\n",
      "[Parallel(n_jobs=13)]: Done 774 tasks      | elapsed:   23.4s\n",
      "[Parallel(n_jobs=13)]: Done 1224 tasks      | elapsed:   36.4s\n",
      "[Parallel(n_jobs=13)]: Done 1774 tasks      | elapsed:   52.3s\n",
      "[Parallel(n_jobs=13)]: Done 2424 tasks      | elapsed:  1.2min\n",
      "[Parallel(n_jobs=13)]: Done 3174 tasks      | elapsed:  1.5min\n",
      "[Parallel(n_jobs=13)]: Done 4024 tasks      | elapsed:  2.0min\n",
      "[Parallel(n_jobs=13)]: Done 4974 tasks      | elapsed:  2.4min\n",
      "[Parallel(n_jobs=13)]: Done 6024 tasks      | elapsed:  2.9min\n",
      "[Parallel(n_jobs=13)]: Done 7174 tasks      | elapsed:  3.5min\n",
      "[Parallel(n_jobs=13)]: Done 8424 tasks      | elapsed:  4.1min\n",
      "[Parallel(n_jobs=13)]: Done 9455 out of 9455 | elapsed:  4.6min finished\n",
      "... storing 'memento_group' as categorical\n"
     ]
    },
    {
     "name": "stdout",
     "output_type": "stream",
     "text": [
      "starting ['ciliated'] 3 lambda\n"
     ]
    },
    {
     "name": "stderr",
     "output_type": "stream",
     "text": [
      "/home/ssm-user/anaconda3/envs/single_cell/lib/python3.8/site-packages/pandas/core/arrays/categorical.py:2487: FutureWarning: The `inplace` parameter in pandas.Categorical.remove_unused_categories is deprecated and will be removed in a future version.\n",
      "  res = method(*args, **kwargs)\n",
      "[Parallel(n_jobs=13)]: Using backend LokyBackend with 13 concurrent workers.\n",
      "[Parallel(n_jobs=13)]: Done  24 tasks      | elapsed:    1.0s\n",
      "[Parallel(n_jobs=13)]: Done 174 tasks      | elapsed:    5.2s\n",
      "[Parallel(n_jobs=13)]: Done 424 tasks      | elapsed:   13.1s\n",
      "[Parallel(n_jobs=13)]: Done 774 tasks      | elapsed:   23.7s\n",
      "[Parallel(n_jobs=13)]: Done 1224 tasks      | elapsed:   36.7s\n",
      "[Parallel(n_jobs=13)]: Done 1774 tasks      | elapsed:   52.6s\n",
      "[Parallel(n_jobs=13)]: Done 2424 tasks      | elapsed:  1.2min\n",
      "[Parallel(n_jobs=13)]: Done 3174 tasks      | elapsed:  1.6min\n",
      "[Parallel(n_jobs=13)]: Done 4024 tasks      | elapsed:  2.0min\n",
      "[Parallel(n_jobs=13)]: Done 4974 tasks      | elapsed:  2.4min\n",
      "[Parallel(n_jobs=13)]: Done 6024 tasks      | elapsed:  3.0min\n",
      "[Parallel(n_jobs=13)]: Done 7174 tasks      | elapsed:  3.5min\n",
      "[Parallel(n_jobs=13)]: Done 8424 tasks      | elapsed:  4.2min\n",
      "[Parallel(n_jobs=13)]: Done 9639 out of 9639 | elapsed:  4.8min finished\n",
      "... storing 'memento_group' as categorical\n"
     ]
    },
    {
     "name": "stdout",
     "output_type": "stream",
     "text": [
      "starting ['ciliated'] 6 alpha\n"
     ]
    },
    {
     "name": "stderr",
     "output_type": "stream",
     "text": [
      "/home/ssm-user/anaconda3/envs/single_cell/lib/python3.8/site-packages/pandas/core/arrays/categorical.py:2487: FutureWarning: The `inplace` parameter in pandas.Categorical.remove_unused_categories is deprecated and will be removed in a future version.\n",
      "  res = method(*args, **kwargs)\n",
      "[Parallel(n_jobs=13)]: Using backend LokyBackend with 13 concurrent workers.\n",
      "[Parallel(n_jobs=13)]: Done  24 tasks      | elapsed:    1.1s\n",
      "[Parallel(n_jobs=13)]: Done 174 tasks      | elapsed:    5.7s\n",
      "[Parallel(n_jobs=13)]: Done 424 tasks      | elapsed:   14.3s\n",
      "[Parallel(n_jobs=13)]: Done 774 tasks      | elapsed:   27.0s\n",
      "[Parallel(n_jobs=13)]: Done 1224 tasks      | elapsed:   42.2s\n",
      "[Parallel(n_jobs=13)]: Done 1774 tasks      | elapsed:  1.0min\n",
      "[Parallel(n_jobs=13)]: Done 2424 tasks      | elapsed:  1.4min\n",
      "[Parallel(n_jobs=13)]: Done 3174 tasks      | elapsed:  1.8min\n",
      "[Parallel(n_jobs=13)]: Done 4024 tasks      | elapsed:  2.3min\n",
      "[Parallel(n_jobs=13)]: Done 4974 tasks      | elapsed:  2.8min\n",
      "[Parallel(n_jobs=13)]: Done 6024 tasks      | elapsed:  3.4min\n",
      "[Parallel(n_jobs=13)]: Done 7174 tasks      | elapsed:  4.0min\n",
      "[Parallel(n_jobs=13)]: Done 8424 tasks      | elapsed:  4.7min\n",
      "[Parallel(n_jobs=13)]: Done 9224 out of 9224 | elapsed:  5.2min finished\n",
      "... storing 'memento_group' as categorical\n"
     ]
    },
    {
     "name": "stdout",
     "output_type": "stream",
     "text": [
      "starting ['ciliated'] 6 beta\n"
     ]
    },
    {
     "name": "stderr",
     "output_type": "stream",
     "text": [
      "/home/ssm-user/anaconda3/envs/single_cell/lib/python3.8/site-packages/pandas/core/arrays/categorical.py:2487: FutureWarning: The `inplace` parameter in pandas.Categorical.remove_unused_categories is deprecated and will be removed in a future version.\n",
      "  res = method(*args, **kwargs)\n",
      "[Parallel(n_jobs=13)]: Using backend LokyBackend with 13 concurrent workers.\n",
      "[Parallel(n_jobs=13)]: Done  24 tasks      | elapsed:    1.1s\n",
      "[Parallel(n_jobs=13)]: Done 174 tasks      | elapsed:    5.9s\n",
      "[Parallel(n_jobs=13)]: Done 424 tasks      | elapsed:   15.0s\n",
      "[Parallel(n_jobs=13)]: Done 774 tasks      | elapsed:   28.7s\n",
      "[Parallel(n_jobs=13)]: Done 1224 tasks      | elapsed:   44.8s\n",
      "[Parallel(n_jobs=13)]: Done 1774 tasks      | elapsed:  1.1min\n",
      "[Parallel(n_jobs=13)]: Done 2424 tasks      | elapsed:  1.5min\n",
      "[Parallel(n_jobs=13)]: Done 3174 tasks      | elapsed:  1.9min\n",
      "[Parallel(n_jobs=13)]: Done 4024 tasks      | elapsed:  2.4min\n",
      "[Parallel(n_jobs=13)]: Done 4974 tasks      | elapsed:  3.0min\n",
      "[Parallel(n_jobs=13)]: Done 6024 tasks      | elapsed:  3.6min\n",
      "[Parallel(n_jobs=13)]: Done 7174 tasks      | elapsed:  4.3min\n",
      "[Parallel(n_jobs=13)]: Done 8424 tasks      | elapsed:  5.0min\n",
      "[Parallel(n_jobs=13)]: Done 9667 out of 9667 | elapsed:  5.8min finished\n",
      "... storing 'memento_group' as categorical\n"
     ]
    },
    {
     "name": "stdout",
     "output_type": "stream",
     "text": [
      "starting ['ciliated'] 6 gamma\n"
     ]
    },
    {
     "name": "stderr",
     "output_type": "stream",
     "text": [
      "/home/ssm-user/anaconda3/envs/single_cell/lib/python3.8/site-packages/pandas/core/arrays/categorical.py:2487: FutureWarning: The `inplace` parameter in pandas.Categorical.remove_unused_categories is deprecated and will be removed in a future version.\n",
      "  res = method(*args, **kwargs)\n",
      "[Parallel(n_jobs=13)]: Using backend LokyBackend with 13 concurrent workers.\n",
      "[Parallel(n_jobs=13)]: Done  24 tasks      | elapsed:    1.0s\n",
      "[Parallel(n_jobs=13)]: Done 174 tasks      | elapsed:    5.0s\n",
      "[Parallel(n_jobs=13)]: Done 424 tasks      | elapsed:   12.6s\n",
      "[Parallel(n_jobs=13)]: Done 774 tasks      | elapsed:   23.3s\n",
      "[Parallel(n_jobs=13)]: Done 1224 tasks      | elapsed:   36.3s\n",
      "[Parallel(n_jobs=13)]: Done 1774 tasks      | elapsed:   52.1s\n",
      "[Parallel(n_jobs=13)]: Done 2424 tasks      | elapsed:  1.2min\n",
      "[Parallel(n_jobs=13)]: Done 3174 tasks      | elapsed:  1.5min\n",
      "[Parallel(n_jobs=13)]: Done 4024 tasks      | elapsed:  1.9min\n",
      "[Parallel(n_jobs=13)]: Done 4974 tasks      | elapsed:  2.4min\n",
      "[Parallel(n_jobs=13)]: Done 6024 tasks      | elapsed:  2.9min\n",
      "[Parallel(n_jobs=13)]: Done 7174 tasks      | elapsed:  3.4min\n",
      "[Parallel(n_jobs=13)]: Done 8424 tasks      | elapsed:  4.0min\n",
      "[Parallel(n_jobs=13)]: Done 9387 out of 9387 | elapsed:  4.5min finished\n",
      "... storing 'memento_group' as categorical\n"
     ]
    },
    {
     "name": "stdout",
     "output_type": "stream",
     "text": [
      "starting ['ciliated'] 6 lambda\n"
     ]
    },
    {
     "name": "stderr",
     "output_type": "stream",
     "text": [
      "/home/ssm-user/anaconda3/envs/single_cell/lib/python3.8/site-packages/pandas/core/arrays/categorical.py:2487: FutureWarning: The `inplace` parameter in pandas.Categorical.remove_unused_categories is deprecated and will be removed in a future version.\n",
      "  res = method(*args, **kwargs)\n",
      "[Parallel(n_jobs=13)]: Using backend LokyBackend with 13 concurrent workers.\n",
      "[Parallel(n_jobs=13)]: Done  24 tasks      | elapsed:    1.0s\n",
      "[Parallel(n_jobs=13)]: Done 322 tasks      | elapsed:    9.2s\n",
      "[Parallel(n_jobs=13)]: Done 822 tasks      | elapsed:   24.0s\n",
      "[Parallel(n_jobs=13)]: Done 1522 tasks      | elapsed:   43.3s\n",
      "[Parallel(n_jobs=13)]: Done 2422 tasks      | elapsed:  1.1min\n",
      "[Parallel(n_jobs=13)]: Done 3522 tasks      | elapsed:  1.6min\n",
      "[Parallel(n_jobs=13)]: Done 4822 tasks      | elapsed:  2.2min\n",
      "[Parallel(n_jobs=13)]: Done 6322 tasks      | elapsed:  3.0min\n",
      "[Parallel(n_jobs=13)]: Done 8022 tasks      | elapsed:  3.7min\n",
      "[Parallel(n_jobs=13)]: Done 9277 tasks      | elapsed:  4.3min\n",
      "[Parallel(n_jobs=13)]: Done 9487 out of 9487 | elapsed:  4.4min finished\n",
      "... storing 'memento_group' as categorical\n"
     ]
    },
    {
     "name": "stdout",
     "output_type": "stream",
     "text": [
      "starting ['ciliated'] 9 alpha\n"
     ]
    },
    {
     "name": "stderr",
     "output_type": "stream",
     "text": [
      "/home/ssm-user/anaconda3/envs/single_cell/lib/python3.8/site-packages/pandas/core/arrays/categorical.py:2487: FutureWarning: The `inplace` parameter in pandas.Categorical.remove_unused_categories is deprecated and will be removed in a future version.\n",
      "  res = method(*args, **kwargs)\n",
      "[Parallel(n_jobs=13)]: Using backend LokyBackend with 13 concurrent workers.\n",
      "[Parallel(n_jobs=13)]: Done  24 tasks      | elapsed:    1.0s\n",
      "[Parallel(n_jobs=13)]: Done 174 tasks      | elapsed:    5.4s\n",
      "[Parallel(n_jobs=13)]: Done 424 tasks      | elapsed:   13.6s\n",
      "[Parallel(n_jobs=13)]: Done 774 tasks      | elapsed:   24.8s\n",
      "[Parallel(n_jobs=13)]: Done 1224 tasks      | elapsed:   38.9s\n",
      "[Parallel(n_jobs=13)]: Done 1774 tasks      | elapsed:   55.8s\n",
      "[Parallel(n_jobs=13)]: Done 2424 tasks      | elapsed:  1.3min\n",
      "[Parallel(n_jobs=13)]: Done 3174 tasks      | elapsed:  1.7min\n",
      "[Parallel(n_jobs=13)]: Done 4024 tasks      | elapsed:  2.1min\n",
      "[Parallel(n_jobs=13)]: Done 4974 tasks      | elapsed:  2.6min\n",
      "[Parallel(n_jobs=13)]: Done 6024 tasks      | elapsed:  3.1min\n",
      "[Parallel(n_jobs=13)]: Done 7174 tasks      | elapsed:  3.7min\n",
      "[Parallel(n_jobs=13)]: Done 8424 tasks      | elapsed:  4.3min\n",
      "[Parallel(n_jobs=13)]: Done 9072 out of 9072 | elapsed:  4.7min finished\n",
      "... storing 'memento_group' as categorical\n"
     ]
    },
    {
     "name": "stdout",
     "output_type": "stream",
     "text": [
      "starting ['ciliated'] 9 beta\n"
     ]
    },
    {
     "name": "stderr",
     "output_type": "stream",
     "text": [
      "/home/ssm-user/anaconda3/envs/single_cell/lib/python3.8/site-packages/pandas/core/arrays/categorical.py:2487: FutureWarning: The `inplace` parameter in pandas.Categorical.remove_unused_categories is deprecated and will be removed in a future version.\n",
      "  res = method(*args, **kwargs)\n",
      "[Parallel(n_jobs=13)]: Using backend LokyBackend with 13 concurrent workers.\n",
      "[Parallel(n_jobs=13)]: Done  24 tasks      | elapsed:    1.2s\n",
      "[Parallel(n_jobs=13)]: Done 322 tasks      | elapsed:    9.8s\n",
      "[Parallel(n_jobs=13)]: Done 762 tasks      | elapsed:   22.9s\n",
      "[Parallel(n_jobs=13)]: Done 1112 tasks      | elapsed:   33.0s\n",
      "[Parallel(n_jobs=13)]: Done 1562 tasks      | elapsed:   46.1s\n",
      "[Parallel(n_jobs=13)]: Done 2112 tasks      | elapsed:  1.0min\n",
      "[Parallel(n_jobs=13)]: Done 2762 tasks      | elapsed:  1.3min\n",
      "[Parallel(n_jobs=13)]: Done 3512 tasks      | elapsed:  1.7min\n",
      "[Parallel(n_jobs=13)]: Done 4362 tasks      | elapsed:  2.1min\n",
      "[Parallel(n_jobs=13)]: Done 5312 tasks      | elapsed:  2.6min\n",
      "[Parallel(n_jobs=13)]: Done 6362 tasks      | elapsed:  3.1min\n",
      "[Parallel(n_jobs=13)]: Done 7512 tasks      | elapsed:  3.7min\n",
      "[Parallel(n_jobs=13)]: Done 8762 tasks      | elapsed:  4.3min\n",
      "[Parallel(n_jobs=13)]: Done 9355 out of 9355 | elapsed:  4.6min finished\n",
      "... storing 'memento_group' as categorical\n"
     ]
    },
    {
     "name": "stdout",
     "output_type": "stream",
     "text": [
      "starting ['ciliated'] 9 gamma\n"
     ]
    },
    {
     "name": "stderr",
     "output_type": "stream",
     "text": [
      "/home/ssm-user/anaconda3/envs/single_cell/lib/python3.8/site-packages/pandas/core/arrays/categorical.py:2487: FutureWarning: The `inplace` parameter in pandas.Categorical.remove_unused_categories is deprecated and will be removed in a future version.\n",
      "  res = method(*args, **kwargs)\n",
      "[Parallel(n_jobs=13)]: Using backend LokyBackend with 13 concurrent workers.\n",
      "[Parallel(n_jobs=13)]: Done  24 tasks      | elapsed:    0.9s\n",
      "[Parallel(n_jobs=13)]: Done 174 tasks      | elapsed:    4.7s\n",
      "[Parallel(n_jobs=13)]: Done 424 tasks      | elapsed:   12.2s\n",
      "[Parallel(n_jobs=13)]: Done 774 tasks      | elapsed:   22.5s\n",
      "[Parallel(n_jobs=13)]: Done 1224 tasks      | elapsed:   35.1s\n",
      "[Parallel(n_jobs=13)]: Done 1774 tasks      | elapsed:   50.5s\n",
      "[Parallel(n_jobs=13)]: Done 2424 tasks      | elapsed:  1.2min\n",
      "[Parallel(n_jobs=13)]: Done 3174 tasks      | elapsed:  1.5min\n",
      "[Parallel(n_jobs=13)]: Done 4024 tasks      | elapsed:  1.9min\n",
      "[Parallel(n_jobs=13)]: Done 4974 tasks      | elapsed:  2.3min\n",
      "[Parallel(n_jobs=13)]: Done 6024 tasks      | elapsed:  2.9min\n",
      "[Parallel(n_jobs=13)]: Done 7174 tasks      | elapsed:  3.4min\n",
      "[Parallel(n_jobs=13)]: Done 8424 tasks      | elapsed:  4.0min\n",
      "[Parallel(n_jobs=13)]: Done 9584 out of 9584 | elapsed:  4.5min finished\n",
      "... storing 'memento_group' as categorical\n"
     ]
    },
    {
     "name": "stdout",
     "output_type": "stream",
     "text": [
      "starting ['ciliated'] 9 lambda\n"
     ]
    },
    {
     "name": "stderr",
     "output_type": "stream",
     "text": [
      "/home/ssm-user/anaconda3/envs/single_cell/lib/python3.8/site-packages/pandas/core/arrays/categorical.py:2487: FutureWarning: The `inplace` parameter in pandas.Categorical.remove_unused_categories is deprecated and will be removed in a future version.\n",
      "  res = method(*args, **kwargs)\n",
      "[Parallel(n_jobs=13)]: Using backend LokyBackend with 13 concurrent workers.\n",
      "[Parallel(n_jobs=13)]: Done  24 tasks      | elapsed:    0.9s\n",
      "[Parallel(n_jobs=13)]: Done 174 tasks      | elapsed:    4.7s\n",
      "[Parallel(n_jobs=13)]: Done 424 tasks      | elapsed:   12.2s\n",
      "[Parallel(n_jobs=13)]: Done 774 tasks      | elapsed:   22.7s\n",
      "[Parallel(n_jobs=13)]: Done 1224 tasks      | elapsed:   35.2s\n",
      "[Parallel(n_jobs=13)]: Done 1774 tasks      | elapsed:   50.7s\n",
      "[Parallel(n_jobs=13)]: Done 2424 tasks      | elapsed:  1.2min\n",
      "[Parallel(n_jobs=13)]: Done 3174 tasks      | elapsed:  1.5min\n",
      "[Parallel(n_jobs=13)]: Done 4024 tasks      | elapsed:  1.9min\n",
      "[Parallel(n_jobs=13)]: Done 4974 tasks      | elapsed:  2.3min\n",
      "[Parallel(n_jobs=13)]: Done 6024 tasks      | elapsed:  2.9min\n",
      "[Parallel(n_jobs=13)]: Done 7174 tasks      | elapsed:  3.4min\n",
      "[Parallel(n_jobs=13)]: Done 8424 tasks      | elapsed:  4.0min\n",
      "[Parallel(n_jobs=13)]: Done 9618 out of 9618 | elapsed:  4.6min finished\n",
      "... storing 'memento_group' as categorical\n"
     ]
    },
    {
     "name": "stdout",
     "output_type": "stream",
     "text": [
      "starting ['ciliated'] 24 alpha\n"
     ]
    },
    {
     "name": "stderr",
     "output_type": "stream",
     "text": [
      "/home/ssm-user/anaconda3/envs/single_cell/lib/python3.8/site-packages/pandas/core/arrays/categorical.py:2487: FutureWarning: The `inplace` parameter in pandas.Categorical.remove_unused_categories is deprecated and will be removed in a future version.\n",
      "  res = method(*args, **kwargs)\n",
      "[Parallel(n_jobs=13)]: Using backend LokyBackend with 13 concurrent workers.\n",
      "[Parallel(n_jobs=13)]: Done  24 tasks      | elapsed:    0.9s\n",
      "[Parallel(n_jobs=13)]: Done 174 tasks      | elapsed:    4.9s\n",
      "[Parallel(n_jobs=13)]: Done 424 tasks      | elapsed:   12.3s\n",
      "[Parallel(n_jobs=13)]: Done 774 tasks      | elapsed:   23.5s\n",
      "[Parallel(n_jobs=13)]: Done 1224 tasks      | elapsed:   36.6s\n",
      "[Parallel(n_jobs=13)]: Done 1774 tasks      | elapsed:   52.9s\n",
      "[Parallel(n_jobs=13)]: Done 2424 tasks      | elapsed:  1.2min\n",
      "[Parallel(n_jobs=13)]: Done 3174 tasks      | elapsed:  1.6min\n",
      "[Parallel(n_jobs=13)]: Done 4024 tasks      | elapsed:  2.0min\n",
      "[Parallel(n_jobs=13)]: Done 4974 tasks      | elapsed:  2.5min\n",
      "[Parallel(n_jobs=13)]: Done 6024 tasks      | elapsed:  3.0min\n",
      "[Parallel(n_jobs=13)]: Done 7174 tasks      | elapsed:  3.6min\n",
      "[Parallel(n_jobs=13)]: Done 8424 tasks      | elapsed:  4.2min\n",
      "[Parallel(n_jobs=13)]: Done 9093 out of 9093 | elapsed:  4.5min finished\n",
      "... storing 'memento_group' as categorical\n"
     ]
    },
    {
     "name": "stdout",
     "output_type": "stream",
     "text": [
      "starting ['ciliated'] 24 beta\n"
     ]
    },
    {
     "name": "stderr",
     "output_type": "stream",
     "text": [
      "/home/ssm-user/anaconda3/envs/single_cell/lib/python3.8/site-packages/pandas/core/arrays/categorical.py:2487: FutureWarning: The `inplace` parameter in pandas.Categorical.remove_unused_categories is deprecated and will be removed in a future version.\n",
      "  res = method(*args, **kwargs)\n",
      "[Parallel(n_jobs=13)]: Using backend LokyBackend with 13 concurrent workers.\n",
      "[Parallel(n_jobs=13)]: Done  24 tasks      | elapsed:    0.9s\n",
      "[Parallel(n_jobs=13)]: Done 174 tasks      | elapsed:    5.0s\n",
      "[Parallel(n_jobs=13)]: Done 424 tasks      | elapsed:   12.9s\n",
      "[Parallel(n_jobs=13)]: Done 774 tasks      | elapsed:   24.1s\n",
      "[Parallel(n_jobs=13)]: Done 1224 tasks      | elapsed:   37.4s\n",
      "[Parallel(n_jobs=13)]: Done 1774 tasks      | elapsed:   53.7s\n",
      "[Parallel(n_jobs=13)]: Done 2424 tasks      | elapsed:  1.2min\n",
      "[Parallel(n_jobs=13)]: Done 3174 tasks      | elapsed:  1.6min\n",
      "[Parallel(n_jobs=13)]: Done 4024 tasks      | elapsed:  2.0min\n",
      "[Parallel(n_jobs=13)]: Done 4974 tasks      | elapsed:  2.5min\n",
      "[Parallel(n_jobs=13)]: Done 6024 tasks      | elapsed:  3.0min\n",
      "[Parallel(n_jobs=13)]: Done 7174 tasks      | elapsed:  3.6min\n",
      "[Parallel(n_jobs=13)]: Done 8424 tasks      | elapsed:  4.2min\n",
      "[Parallel(n_jobs=13)]: Done 9601 out of 9601 | elapsed:  4.8min finished\n",
      "... storing 'memento_group' as categorical\n"
     ]
    },
    {
     "name": "stdout",
     "output_type": "stream",
     "text": [
      "starting ['ciliated'] 24 gamma\n"
     ]
    },
    {
     "name": "stderr",
     "output_type": "stream",
     "text": [
      "/home/ssm-user/anaconda3/envs/single_cell/lib/python3.8/site-packages/pandas/core/arrays/categorical.py:2487: FutureWarning: The `inplace` parameter in pandas.Categorical.remove_unused_categories is deprecated and will be removed in a future version.\n",
      "  res = method(*args, **kwargs)\n",
      "[Parallel(n_jobs=13)]: Using backend LokyBackend with 13 concurrent workers.\n",
      "[Parallel(n_jobs=13)]: Done  24 tasks      | elapsed:    0.9s\n",
      "[Parallel(n_jobs=13)]: Done 174 tasks      | elapsed:    4.9s\n",
      "[Parallel(n_jobs=13)]: Done 424 tasks      | elapsed:   12.8s\n",
      "[Parallel(n_jobs=13)]: Done 774 tasks      | elapsed:   23.8s\n",
      "[Parallel(n_jobs=13)]: Done 1224 tasks      | elapsed:   37.2s\n",
      "[Parallel(n_jobs=13)]: Done 1774 tasks      | elapsed:   53.4s\n",
      "[Parallel(n_jobs=13)]: Done 2424 tasks      | elapsed:  1.2min\n",
      "[Parallel(n_jobs=13)]: Done 3174 tasks      | elapsed:  1.6min\n",
      "[Parallel(n_jobs=13)]: Done 4024 tasks      | elapsed:  2.0min\n",
      "[Parallel(n_jobs=13)]: Done 4974 tasks      | elapsed:  2.5min\n",
      "[Parallel(n_jobs=13)]: Done 6024 tasks      | elapsed:  3.0min\n",
      "[Parallel(n_jobs=13)]: Done 7174 tasks      | elapsed:  3.6min\n",
      "[Parallel(n_jobs=13)]: Done 8424 tasks      | elapsed:  4.2min\n",
      "[Parallel(n_jobs=13)]: Done 9596 out of 9596 | elapsed:  4.8min finished\n",
      "... storing 'memento_group' as categorical\n"
     ]
    },
    {
     "name": "stdout",
     "output_type": "stream",
     "text": [
      "starting ['ciliated'] 24 lambda\n"
     ]
    },
    {
     "name": "stderr",
     "output_type": "stream",
     "text": [
      "/home/ssm-user/anaconda3/envs/single_cell/lib/python3.8/site-packages/pandas/core/arrays/categorical.py:2487: FutureWarning: The `inplace` parameter in pandas.Categorical.remove_unused_categories is deprecated and will be removed in a future version.\n",
      "  res = method(*args, **kwargs)\n",
      "[Parallel(n_jobs=13)]: Using backend LokyBackend with 13 concurrent workers.\n",
      "[Parallel(n_jobs=13)]: Done  24 tasks      | elapsed:    0.9s\n",
      "[Parallel(n_jobs=13)]: Done 174 tasks      | elapsed:    4.9s\n",
      "[Parallel(n_jobs=13)]: Done 424 tasks      | elapsed:   12.5s\n",
      "[Parallel(n_jobs=13)]: Done 774 tasks      | elapsed:   23.1s\n",
      "[Parallel(n_jobs=13)]: Done 1224 tasks      | elapsed:   35.9s\n",
      "[Parallel(n_jobs=13)]: Done 1774 tasks      | elapsed:   51.8s\n",
      "[Parallel(n_jobs=13)]: Done 2424 tasks      | elapsed:  1.2min\n",
      "[Parallel(n_jobs=13)]: Done 3174 tasks      | elapsed:  1.5min\n",
      "[Parallel(n_jobs=13)]: Done 4024 tasks      | elapsed:  2.0min\n",
      "[Parallel(n_jobs=13)]: Done 4974 tasks      | elapsed:  2.4min\n",
      "[Parallel(n_jobs=13)]: Done 6024 tasks      | elapsed:  2.9min\n",
      "[Parallel(n_jobs=13)]: Done 7174 tasks      | elapsed:  3.5min\n",
      "[Parallel(n_jobs=13)]: Done 8424 tasks      | elapsed:  4.1min\n",
      "[Parallel(n_jobs=13)]: Done 9690 out of 9690 | elapsed:  4.7min finished\n",
      "... storing 'memento_group' as categorical\n"
     ]
    },
    {
     "name": "stdout",
     "output_type": "stream",
     "text": [
      "starting ['ciliated'] 48 alpha\n"
     ]
    },
    {
     "name": "stderr",
     "output_type": "stream",
     "text": [
      "/home/ssm-user/anaconda3/envs/single_cell/lib/python3.8/site-packages/pandas/core/arrays/categorical.py:2487: FutureWarning: The `inplace` parameter in pandas.Categorical.remove_unused_categories is deprecated and will be removed in a future version.\n",
      "  res = method(*args, **kwargs)\n",
      "[Parallel(n_jobs=13)]: Using backend LokyBackend with 13 concurrent workers.\n",
      "[Parallel(n_jobs=13)]: Done  24 tasks      | elapsed:    0.8s\n",
      "[Parallel(n_jobs=13)]: Done 174 tasks      | elapsed:    4.6s\n",
      "[Parallel(n_jobs=13)]: Done 424 tasks      | elapsed:   11.9s\n",
      "[Parallel(n_jobs=13)]: Done 774 tasks      | elapsed:   22.4s\n",
      "[Parallel(n_jobs=13)]: Done 1224 tasks      | elapsed:   34.8s\n",
      "[Parallel(n_jobs=13)]: Done 1774 tasks      | elapsed:   49.7s\n",
      "[Parallel(n_jobs=13)]: Done 2424 tasks      | elapsed:  1.1min\n",
      "[Parallel(n_jobs=13)]: Done 3174 tasks      | elapsed:  1.5min\n",
      "[Parallel(n_jobs=13)]: Done 4024 tasks      | elapsed:  1.9min\n",
      "[Parallel(n_jobs=13)]: Done 4974 tasks      | elapsed:  2.3min\n",
      "[Parallel(n_jobs=13)]: Done 6024 tasks      | elapsed:  2.8min\n",
      "[Parallel(n_jobs=13)]: Done 7174 tasks      | elapsed:  3.4min\n",
      "[Parallel(n_jobs=13)]: Done 8424 tasks      | elapsed:  3.9min\n",
      "[Parallel(n_jobs=13)]: Done 9093 out of 9093 | elapsed:  4.3min finished\n",
      "... storing 'memento_group' as categorical\n"
     ]
    },
    {
     "name": "stdout",
     "output_type": "stream",
     "text": [
      "starting ['ciliated'] 48 beta\n"
     ]
    },
    {
     "name": "stderr",
     "output_type": "stream",
     "text": [
      "/home/ssm-user/anaconda3/envs/single_cell/lib/python3.8/site-packages/pandas/core/arrays/categorical.py:2487: FutureWarning: The `inplace` parameter in pandas.Categorical.remove_unused_categories is deprecated and will be removed in a future version.\n",
      "  res = method(*args, **kwargs)\n",
      "[Parallel(n_jobs=13)]: Using backend LokyBackend with 13 concurrent workers.\n",
      "[Parallel(n_jobs=13)]: Done  24 tasks      | elapsed:    0.8s\n",
      "[Parallel(n_jobs=13)]: Done 322 tasks      | elapsed:    9.0s\n",
      "[Parallel(n_jobs=13)]: Done 822 tasks      | elapsed:   23.2s\n",
      "[Parallel(n_jobs=13)]: Done 1522 tasks      | elapsed:   42.1s\n",
      "[Parallel(n_jobs=13)]: Done 2422 tasks      | elapsed:  1.1min\n",
      "[Parallel(n_jobs=13)]: Done 3522 tasks      | elapsed:  1.6min\n",
      "[Parallel(n_jobs=13)]: Done 4822 tasks      | elapsed:  2.2min\n",
      "[Parallel(n_jobs=13)]: Done 6322 tasks      | elapsed:  2.9min\n",
      "[Parallel(n_jobs=13)]: Done 8022 tasks      | elapsed:  3.6min\n",
      "[Parallel(n_jobs=13)]: Done 9436 out of 9461 | elapsed:  4.3min remaining:    0.7s\n",
      "[Parallel(n_jobs=13)]: Done 9461 out of 9461 | elapsed:  4.3min finished\n",
      "... storing 'memento_group' as categorical\n"
     ]
    },
    {
     "name": "stdout",
     "output_type": "stream",
     "text": [
      "starting ['ciliated'] 48 gamma\n"
     ]
    },
    {
     "name": "stderr",
     "output_type": "stream",
     "text": [
      "/home/ssm-user/anaconda3/envs/single_cell/lib/python3.8/site-packages/pandas/core/arrays/categorical.py:2487: FutureWarning: The `inplace` parameter in pandas.Categorical.remove_unused_categories is deprecated and will be removed in a future version.\n",
      "  res = method(*args, **kwargs)\n",
      "[Parallel(n_jobs=13)]: Using backend LokyBackend with 13 concurrent workers.\n",
      "[Parallel(n_jobs=13)]: Done  24 tasks      | elapsed:    0.9s\n",
      "[Parallel(n_jobs=13)]: Done 174 tasks      | elapsed:    4.7s\n",
      "[Parallel(n_jobs=13)]: Done 424 tasks      | elapsed:   11.9s\n",
      "[Parallel(n_jobs=13)]: Done 774 tasks      | elapsed:   22.1s\n",
      "[Parallel(n_jobs=13)]: Done 1224 tasks      | elapsed:   34.4s\n",
      "[Parallel(n_jobs=13)]: Done 1774 tasks      | elapsed:   49.5s\n",
      "[Parallel(n_jobs=13)]: Done 2424 tasks      | elapsed:  1.1min\n",
      "[Parallel(n_jobs=13)]: Done 3174 tasks      | elapsed:  1.5min\n",
      "[Parallel(n_jobs=13)]: Done 4024 tasks      | elapsed:  1.9min\n",
      "[Parallel(n_jobs=13)]: Done 4974 tasks      | elapsed:  2.3min\n",
      "[Parallel(n_jobs=13)]: Done 6024 tasks      | elapsed:  2.8min\n",
      "[Parallel(n_jobs=13)]: Done 7174 tasks      | elapsed:  3.3min\n",
      "[Parallel(n_jobs=13)]: Done 8424 tasks      | elapsed:  3.9min\n",
      "[Parallel(n_jobs=13)]: Done 9650 out of 9650 | elapsed:  4.5min finished\n",
      "... storing 'memento_group' as categorical\n"
     ]
    },
    {
     "name": "stdout",
     "output_type": "stream",
     "text": [
      "starting ['ciliated'] 48 lambda\n"
     ]
    },
    {
     "name": "stderr",
     "output_type": "stream",
     "text": [
      "/home/ssm-user/anaconda3/envs/single_cell/lib/python3.8/site-packages/pandas/core/arrays/categorical.py:2487: FutureWarning: The `inplace` parameter in pandas.Categorical.remove_unused_categories is deprecated and will be removed in a future version.\n",
      "  res = method(*args, **kwargs)\n",
      "[Parallel(n_jobs=13)]: Using backend LokyBackend with 13 concurrent workers.\n",
      "[Parallel(n_jobs=13)]: Done  24 tasks      | elapsed:    1.1s\n",
      "[Parallel(n_jobs=13)]: Done 322 tasks      | elapsed:    9.2s\n",
      "[Parallel(n_jobs=13)]: Done 822 tasks      | elapsed:   23.6s\n",
      "[Parallel(n_jobs=13)]: Done 1522 tasks      | elapsed:   42.9s\n",
      "[Parallel(n_jobs=13)]: Done 2212 tasks      | elapsed:  1.0min\n",
      "[Parallel(n_jobs=13)]: Done 2762 tasks      | elapsed:  1.3min\n",
      "[Parallel(n_jobs=13)]: Done 3412 tasks      | elapsed:  1.6min\n",
      "[Parallel(n_jobs=13)]: Done 4162 tasks      | elapsed:  1.9min\n",
      "[Parallel(n_jobs=13)]: Done 5012 tasks      | elapsed:  2.3min\n",
      "[Parallel(n_jobs=13)]: Done 5962 tasks      | elapsed:  2.8min\n",
      "[Parallel(n_jobs=13)]: Done 7012 tasks      | elapsed:  3.3min\n",
      "[Parallel(n_jobs=13)]: Done 8162 tasks      | elapsed:  3.8min\n",
      "[Parallel(n_jobs=13)]: Done 9412 tasks      | elapsed:  4.4min\n",
      "[Parallel(n_jobs=13)]: Done 9541 out of 9541 | elapsed:  4.5min finished\n",
      "... storing 'memento_group' as categorical\n"
     ]
    }
   ],
   "source": [
    "for ct in cts:\n",
    "    for tp in tps:\n",
    "        for stim in stims:\n",
    "            \n",
    "            fname = '{}_{}_{}_20200320.h5ad'.format('-'.join(ct), stim, tp)\n",
    "            \n",
    "            if fname in done_files:\n",
    "                print('Skipping', fname)\n",
    "                continue\n",
    "\n",
    "            print('starting', ct, tp, stim)\n",
    "\n",
    "            adata_stim = adata.copy()[\n",
    "                adata.obs.cell_type.isin(ct) & \\\n",
    "                adata.obs.stim.isin(['control', stim]) & \\\n",
    "                adata.obs.time.isin(['0',tp]), :].copy()\n",
    "            time_converter={0:0, int(tp):1}\n",
    "            adata_stim.obs['time_step'] = adata_stim.obs['time'].astype(int).apply(lambda x: time_converter[x])\n",
    "\n",
    "            memento.create_groups(adata_stim, label_columns=['time_step', 'donor'])\n",
    "            memento.compute_1d_moments(adata_stim, min_perc_group=.9)\n",
    "\n",
    "            memento.ht_1d_moments(\n",
    "                adata_stim, \n",
    "                formula_like='1 + time_step',\n",
    "                cov_column='time_step', \n",
    "                num_boot=10000, \n",
    "                verbose=1,\n",
    "                num_cpus=13)\n",
    "\n",
    "            del adata_stim.uns['memento']['mv_regressor']\n",
    "\n",
    "            adata_stim.write('/data_volume/ifn_hbec/binary_test_deep/{}_{}_{}_20200320.h5ad'.format(\n",
    "                '-'.join(ct), stim, tp))"
   ]
  },
  {
   "cell_type": "code",
   "execution_count": null,
   "metadata": {},
   "outputs": [],
   "source": []
  }
 ],
 "metadata": {
  "kernelspec": {
   "display_name": "Python 3",
   "language": "python",
   "name": "python3"
  },
  "language_info": {
   "codemirror_mode": {
    "name": "ipython",
    "version": 3
   },
   "file_extension": ".py",
   "mimetype": "text/x-python",
   "name": "python",
   "nbconvert_exporter": "python",
   "pygments_lexer": "ipython3",
   "version": "3.8.8"
  }
 },
 "nbformat": 4,
 "nbformat_minor": 4
}
