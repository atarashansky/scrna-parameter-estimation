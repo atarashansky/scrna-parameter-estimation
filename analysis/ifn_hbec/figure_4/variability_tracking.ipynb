{
 "cells": [
  {
   "cell_type": "markdown",
   "metadata": {},
   "source": [
    "# Target variability tracking with TF variability"
   ]
  },
  {
   "cell_type": "code",
   "execution_count": 1,
   "metadata": {},
   "outputs": [],
   "source": [
    "import scanpy as sc\n",
    "import seaborn as sns\n",
    "import pandas as pd\n",
    "import matplotlib.pyplot as plt\n",
    "import numpy as np\n",
    "import scipy.stats as stats\n",
    "from pybedtools import BedTool\n",
    "import pickle as pkl\n",
    "%matplotlib inline\n",
    "import itertools"
   ]
  },
  {
   "cell_type": "code",
   "execution_count": 2,
   "metadata": {},
   "outputs": [],
   "source": [
    "import sys\n",
    "sys.path.append('/home/ssm-user/Github/scrna-parameter-estimation/dist/memento-0.0.5-py3.8.egg')\n",
    "sys.path.append('/home/ssm-user/Github/misc-seq/miscseq')\n",
    "import encode\n",
    "import memento"
   ]
  },
  {
   "cell_type": "code",
   "execution_count": 191,
   "metadata": {},
   "outputs": [],
   "source": [
    "data_path = '/data_volume/ifn_hbec/'\n",
    "fig_path = '/home/ssm-user/Github/scrna-parameter-estimation/figures/fig4/main/'"
   ]
  },
  {
   "cell_type": "code",
   "execution_count": 4,
   "metadata": {},
   "outputs": [],
   "source": [
    "import matplotlib\n",
    "matplotlib.rcParams['pdf.fonttype'] = 42\n",
    "matplotlib.rcParams['ps.fonttype'] = 42"
   ]
  },
  {
   "cell_type": "code",
   "execution_count": 5,
   "metadata": {},
   "outputs": [],
   "source": [
    "import matplotlib.pylab as pylab\n",
    "params = {'legend.fontsize': 'medium',\n",
    "         'axes.labelsize': 'medium',\n",
    "         'axes.titlesize':'medium',\n",
    "         'figure.titlesize':'medium',\n",
    "         'xtick.labelsize':'small',\n",
    "         'ytick.labelsize':'small'}\n",
    "pylab.rcParams.update(params)"
   ]
  },
  {
   "cell_type": "markdown",
   "metadata": {},
   "source": [
    "### Read 1d HT result comparing to control"
   ]
  },
  {
   "cell_type": "code",
   "execution_count": 6,
   "metadata": {},
   "outputs": [],
   "source": [
    "cts = [['ciliated']]\n",
    "tps = ['3', '6', '9', '24', '48']\n",
    "stims = ['alpha', 'beta', 'gamma', 'lambda']"
   ]
  },
  {
   "cell_type": "code",
   "execution_count": 7,
   "metadata": {},
   "outputs": [],
   "source": [
    "def read_result(ct):\n",
    "    \n",
    "    ht_dict = {}\n",
    "    moments_dict = {}\n",
    "    \n",
    "    for stim in stims:\n",
    "        ht_dict[stim] = {}\n",
    "        moments_dict[stim] = {}\n",
    "        for tp in tps: \n",
    "            adata_subset = sc.read('/data_volume/ifn_hbec/binary_test_deep/{}_{}_{}_20200313.h5ad'.format('-'.join(ct), stim, tp))\n",
    "            ht_dict[stim][tp] = memento.get_1d_ht_result(adata_subset)\n",
    "            ht_dict[stim][tp]['de_fdr'] = memento.util._fdrcorrect(ht_dict[stim][tp]['de_pval'])\n",
    "            ht_dict[stim][tp]['dv_fdr'] = memento.util._fdrcorrect(ht_dict[stim][tp]['dv_pval'])\n",
    "            moments_dict[stim][tp] = memento.get_1d_moments(adata_subset, groupby='time_step')\n",
    "    return ht_dict,moments_dict"
   ]
  },
  {
   "cell_type": "code",
   "execution_count": 8,
   "metadata": {},
   "outputs": [],
   "source": [
    "all_result = {}\n",
    "for ct in cts:\n",
    "    \n",
    "    key = '-'.join(ct)\n",
    "    all_result[key] = {}\n",
    "    \n",
    "    all_result[key]['ht'], all_result[key]['moments'] = read_result(ct)"
   ]
  },
  {
   "cell_type": "markdown",
   "metadata": {},
   "source": [
    "### Get genes that are likely ISGF3 binding"
   ]
  },
  {
   "cell_type": "code",
   "execution_count": 9,
   "metadata": {},
   "outputs": [],
   "source": [
    "enc = encode.Encode('/home/ssm-user/Github/misc-seq/miscseq/GRCh38Genes.bed')"
   ]
  },
  {
   "cell_type": "code",
   "execution_count": 10,
   "metadata": {},
   "outputs": [
    {
     "name": "stderr",
     "output_type": "stream",
     "text": [
      "/home/ssm-user/anaconda3/envs/single_cell/lib/python3.8/subprocess.py:853: RuntimeWarning: line buffering (buffering=1) isn't supported in binary mode, the default buffer size will be used\n",
      "  self.stderr = io.open(errread, 'rb', bufsize)\n",
      "/home/ssm-user/anaconda3/envs/single_cell/lib/python3.8/subprocess.py:853: RuntimeWarning: line buffering (buffering=1) isn't supported in binary mode, the default buffer size will be used\n",
      "  self.stderr = io.open(errread, 'rb', bufsize)\n",
      "/home/ssm-user/anaconda3/envs/single_cell/lib/python3.8/subprocess.py:853: RuntimeWarning: line buffering (buffering=1) isn't supported in binary mode, the default buffer size will be used\n",
      "  self.stderr = io.open(errread, 'rb', bufsize)\n",
      "/home/ssm-user/anaconda3/envs/single_cell/lib/python3.8/subprocess.py:853: RuntimeWarning: line buffering (buffering=1) isn't supported in binary mode, the default buffer size will be used\n",
      "  self.stderr = io.open(errread, 'rb', bufsize)\n",
      "/home/ssm-user/anaconda3/envs/single_cell/lib/python3.8/subprocess.py:853: RuntimeWarning: line buffering (buffering=1) isn't supported in binary mode, the default buffer size will be used\n",
      "  self.stderr = io.open(errread, 'rb', bufsize)\n",
      "/home/ssm-user/anaconda3/envs/single_cell/lib/python3.8/subprocess.py:853: RuntimeWarning: line buffering (buffering=1) isn't supported in binary mode, the default buffer size will be used\n",
      "  self.stderr = io.open(errread, 'rb', bufsize)\n"
     ]
    }
   ],
   "source": [
    "stat1_bed = enc.get_encode_peaks_union([\n",
    "    'https://www.encodeproject.org/files/ENCFF747ICD/@@download/ENCFF747ICD.bed.gz',\n",
    "    'https://www.encodeproject.org/files/ENCFF646MXG/@@download/ENCFF646MXG.bed.gz'\n",
    "])\n",
    "stat2_bed = enc.get_encode_peaks_union([\n",
    "    'https://www.encodeproject.org/files/ENCFF204VQS/@@download/ENCFF204VQS.bed.gz',\n",
    "    'https://www.encodeproject.org/files/ENCFF545JVD/@@download/ENCFF545JVD.bed.gz'\n",
    "])"
   ]
  },
  {
   "cell_type": "code",
   "execution_count": 11,
   "metadata": {},
   "outputs": [
    {
     "name": "stderr",
     "output_type": "stream",
     "text": [
      "/home/ssm-user/anaconda3/envs/single_cell/lib/python3.8/subprocess.py:853: RuntimeWarning: line buffering (buffering=1) isn't supported in binary mode, the default buffer size will be used\n",
      "  self.stderr = io.open(errread, 'rb', bufsize)\n",
      "/home/ssm-user/anaconda3/envs/single_cell/lib/python3.8/subprocess.py:853: RuntimeWarning: line buffering (buffering=1) isn't supported in binary mode, the default buffer size will be used\n",
      "  self.stderr = io.open(errread, 'rb', bufsize)\n"
     ]
    }
   ],
   "source": [
    "intersect_bed = stat1_bed.intersect(stat2_bed).sort()"
   ]
  },
  {
   "cell_type": "code",
   "execution_count": 12,
   "metadata": {},
   "outputs": [
    {
     "name": "stderr",
     "output_type": "stream",
     "text": [
      "/home/ssm-user/anaconda3/envs/single_cell/lib/python3.8/subprocess.py:853: RuntimeWarning: line buffering (buffering=1) isn't supported in binary mode, the default buffer size will be used\n",
      "  self.stderr = io.open(errread, 'rb', bufsize)\n",
      "/home/ssm-user/anaconda3/envs/single_cell/lib/python3.8/subprocess.py:853: RuntimeWarning: line buffering (buffering=1) isn't supported in binary mode, the default buffer size will be used\n",
      "  self.stderr = io.open(errread, 'rb', bufsize)\n",
      "/home/ssm-user/anaconda3/envs/single_cell/lib/python3.8/subprocess.py:853: RuntimeWarning: line buffering (buffering=1) isn't supported in binary mode, the default buffer size will be used\n",
      "  self.stderr = io.open(errread, 'rb', bufsize)\n",
      "/home/ssm-user/anaconda3/envs/single_cell/lib/python3.8/site-packages/pybedtools/bedtool.py:3678: UserWarning: Default names for filetype bed are:\n",
      "['chrom', 'start', 'end', 'name', 'score', 'strand', 'thickStart', 'thickEnd', 'itemRgb', 'blockCount', 'blockSizes', 'blockStarts']\n",
      "but file has 16 fields; you can supply custom names with the `names` kwarg\n",
      "  warn(\n"
     ]
    }
   ],
   "source": [
    "isgf3_genes = enc.get_peak_genes_bed(intersect_bed, 0).query('distance == 0 & ~gene.str.contains(\"MT\").values').gene.tolist()"
   ]
  },
  {
   "cell_type": "markdown",
   "metadata": {},
   "source": [
    "### Get genes that are likely GAF binding"
   ]
  },
  {
   "cell_type": "code",
   "execution_count": 13,
   "metadata": {},
   "outputs": [
    {
     "name": "stderr",
     "output_type": "stream",
     "text": [
      "/home/ssm-user/anaconda3/envs/single_cell/lib/python3.8/subprocess.py:853: RuntimeWarning: line buffering (buffering=1) isn't supported in binary mode, the default buffer size will be used\n",
      "  self.stderr = io.open(errread, 'rb', bufsize)\n",
      "/home/ssm-user/anaconda3/envs/single_cell/lib/python3.8/subprocess.py:853: RuntimeWarning: line buffering (buffering=1) isn't supported in binary mode, the default buffer size will be used\n",
      "  self.stderr = io.open(errread, 'rb', bufsize)\n",
      "/home/ssm-user/anaconda3/envs/single_cell/lib/python3.8/subprocess.py:853: RuntimeWarning: line buffering (buffering=1) isn't supported in binary mode, the default buffer size will be used\n",
      "  self.stderr = io.open(errread, 'rb', bufsize)\n"
     ]
    }
   ],
   "source": [
    "stat1_bed = enc.get_encode_peaks_union([\n",
    "    'https://www.encodeproject.org/files/ENCFF431NLF/@@download/ENCFF431NLF.bed.gz',\n",
    "    'https://www.encodeproject.org/files/ENCFF646MXG/@@download/ENCFF646MXG.bed.gz'\n",
    "])"
   ]
  },
  {
   "cell_type": "code",
   "execution_count": 14,
   "metadata": {},
   "outputs": [
    {
     "name": "stderr",
     "output_type": "stream",
     "text": [
      "/home/ssm-user/anaconda3/envs/single_cell/lib/python3.8/subprocess.py:853: RuntimeWarning: line buffering (buffering=1) isn't supported in binary mode, the default buffer size will be used\n",
      "  self.stderr = io.open(errread, 'rb', bufsize)\n",
      "/home/ssm-user/anaconda3/envs/single_cell/lib/python3.8/subprocess.py:853: RuntimeWarning: line buffering (buffering=1) isn't supported in binary mode, the default buffer size will be used\n",
      "  self.stderr = io.open(errread, 'rb', bufsize)\n",
      "/home/ssm-user/anaconda3/envs/single_cell/lib/python3.8/subprocess.py:853: RuntimeWarning: line buffering (buffering=1) isn't supported in binary mode, the default buffer size will be used\n",
      "  self.stderr = io.open(errread, 'rb', bufsize)\n",
      "/home/ssm-user/anaconda3/envs/single_cell/lib/python3.8/site-packages/pybedtools/bedtool.py:3678: UserWarning: Default names for filetype bed are:\n",
      "['chrom', 'start', 'end', 'name', 'score', 'strand', 'thickStart', 'thickEnd', 'itemRgb', 'blockCount', 'blockSizes', 'blockStarts']\n",
      "but file has 16 fields; you can supply custom names with the `names` kwarg\n",
      "  warn(\n"
     ]
    }
   ],
   "source": [
    "potential_gaf_genes = enc\\\n",
    "    .get_peak_genes_encode('https://www.encodeproject.org/files/ENCFF431NLF/@@download/ENCFF431NLF.bed.gz', 0)\\\n",
    "    .query('distance == 0 & ~gene.str.contains(\"MT\").values').gene.tolist()"
   ]
  },
  {
   "cell_type": "code",
   "execution_count": 15,
   "metadata": {},
   "outputs": [
    {
     "name": "stderr",
     "output_type": "stream",
     "text": [
      "/home/ssm-user/anaconda3/envs/single_cell/lib/python3.8/subprocess.py:853: RuntimeWarning: line buffering (buffering=1) isn't supported in binary mode, the default buffer size will be used\n",
      "  self.stderr = io.open(errread, 'rb', bufsize)\n",
      "/home/ssm-user/anaconda3/envs/single_cell/lib/python3.8/subprocess.py:853: RuntimeWarning: line buffering (buffering=1) isn't supported in binary mode, the default buffer size will be used\n",
      "  self.stderr = io.open(errread, 'rb', bufsize)\n",
      "/home/ssm-user/anaconda3/envs/single_cell/lib/python3.8/subprocess.py:853: RuntimeWarning: line buffering (buffering=1) isn't supported in binary mode, the default buffer size will be used\n",
      "  self.stderr = io.open(errread, 'rb', bufsize)\n",
      "/home/ssm-user/anaconda3/envs/single_cell/lib/python3.8/site-packages/pybedtools/bedtool.py:3678: UserWarning: Default names for filetype bed are:\n",
      "['chrom', 'start', 'end', 'name', 'score', 'strand', 'thickStart', 'thickEnd', 'itemRgb', 'blockCount', 'blockSizes', 'blockStarts']\n",
      "but file has 16 fields; you can supply custom names with the `names` kwarg\n",
      "  warn(\n"
     ]
    }
   ],
   "source": [
    "baseline_stat1_genes = enc\\\n",
    "    .get_peak_genes_encode('https://www.encodeproject.org/files/ENCFF323QQU/@@download/ENCFF323QQU.bed.gz', 0)\\\n",
    "    .query('distance == 0 & ~gene.str.contains(\"MT\").values').gene.tolist()"
   ]
  },
  {
   "cell_type": "code",
   "execution_count": 16,
   "metadata": {},
   "outputs": [],
   "source": [
    "gaf_genes =potential_gaf_genes #list(set(potential_gaf_genes) - set(baseline_stat1_genes))"
   ]
  },
  {
   "cell_type": "markdown",
   "metadata": {},
   "source": [
    "### Functions for constructing DF/variability vectors"
   ]
  },
  {
   "cell_type": "code",
   "execution_count": 84,
   "metadata": {},
   "outputs": [],
   "source": [
    "def get_moment_df(stim):\n",
    "    \n",
    "    df = all_result['ciliated']['moments'][stim]['3'][1].rename(columns={'time_step_0':'time_0', 'time_step_1':'time_3'})[['gene','time_0','time_3']]\n",
    "    \n",
    "    for tp in ['6', '9', '24', '48']:\n",
    "        \n",
    "        df = df.merge(all_result['ciliated']['moments'][stim][tp][1].rename(columns={'time_step_1':'time_'+tp})[['gene', 'time_'+tp]], on='gene')\n",
    "    return df\n",
    "\n",
    "def get_var_vector(df, gene):\n",
    "    \n",
    "    return df.query('gene == \"{}\"'.format(gene)).values.reshape(-1)[1:]"
   ]
  },
  {
   "cell_type": "markdown",
   "metadata": {},
   "source": [
    "### Compute correlations between STAT1 and downstream genes"
   ]
  },
  {
   "cell_type": "code",
   "execution_count": 96,
   "metadata": {},
   "outputs": [],
   "source": [
    "def get_vcorrs(stim, tf, tss_genes):\n",
    "    \n",
    "    df = get_moment_df(stim)\n",
    "    upreg_genes = all_result['ciliated']['ht'][stim]['6'].query('de_coef > 0 & de_fdr < 0.05').gene.tolist()\n",
    "    target_genes = list(set(upreg_genes) & set(tss_genes) & set(df.gene))\n",
    "    tf_vector = get_var_vector(df, tf)\n",
    "\n",
    "    tf_vcorr = []\n",
    "    for g in target_genes:\n",
    "        target_vector = get_var_vector(df, g)\n",
    "        tf_vcorr.append(stats.pearsonr(tf_vector, target_vector)[0])\n",
    "\n",
    "    random_vcorr = []\n",
    "    nontarget_genes = list(set(upreg_genes) & set(df.gene))\n",
    "    for trial in range(1000):\n",
    "        g1 = np.random.choice(nontarget_genes)\n",
    "        g2 = np.random.choice(nontarget_genes)\n",
    "\n",
    "        if g1 == g2:\n",
    "            continue\n",
    "\n",
    "        g1_vector = get_var_vector(df, g1)\n",
    "        g2_vector = get_var_vector(df, g2)\n",
    "        random_vcorr.append(stats.pearsonr(g1_vector, g2_vector)[0])\n",
    "\n",
    "    print(stats.ks_2samp(tf_vcorr, random_vcorr))\n",
    "    return tf_vcorr, random_vcorr"
   ]
  },
  {
   "cell_type": "code",
   "execution_count": 98,
   "metadata": {},
   "outputs": [
    {
     "name": "stdout",
     "output_type": "stream",
     "text": [
      "KstestResult(statistic=0.35785785785785784, pvalue=1.1953216194626748e-11)\n",
      "KstestResult(statistic=0.4171671671671672, pvalue=1.6653345369377348e-15)\n",
      "KstestResult(statistic=0.22944444444444445, pvalue=0.0031556144960810384)\n"
     ]
    }
   ],
   "source": [
    "beta_stat1_vcorr, beta_random_vcorr = get_vcorrs('beta', 'STAT1', isgf3_genes)\n",
    "beta_stat2_vcorr, beta_random_vcorr2 = get_vcorrs('beta', 'STAT2', isgf3_genes)\n",
    "gamma_stat1_vcorr, gamma_random_vcorr = get_vcorrs('gamma', 'STAT1', gaf_genes)"
   ]
  },
  {
   "cell_type": "code",
   "execution_count": 192,
   "metadata": {},
   "outputs": [
    {
     "data": {
      "image/png": "[encoded data removed]",
      "text/plain": [
       "<Figure size 216x288 with 2 Axes>"
      ]
     },
     "metadata": {
      "needs_background": "light"
     },
     "output_type": "display_data"
    }
   ],
   "source": [
    "plt.figure(figsize=(3, 4));\n",
    "plt.subplots_adjust(wspace=0.3, hspace=0.2)\n",
    "plt.subplot(2, 1, 1);\n",
    "plt.hist(beta_stat1_vcorr, histtype='step', bins=12, density=True, lw=2.5, label='STAT1-target');\n",
    "plt.hist(beta_stat2_vcorr, histtype='step', bins=12, density=True, lw=2.5, label='STAT2-target');\n",
    "plt.hist(beta_random_vcorr, histtype='step', bins=20, density=True, lw=2, color='gray', label='random');\n",
    "plt.legend(frameon=False, loc='upper right', bbox_to_anchor=(0.7, 1))\n",
    "plt.subplot(2, 1, 2);\n",
    "plt.hist(gamma_stat1_vcorr, histtype='step', bins=12, density=True, lw=2.5);\n",
    "plt.hist(gamma_random_vcorr, histtype='step', bins=20, density=True, lw=2, color='gray');\n",
    "plt.ylim(0, 1.3)\n",
    "plt.legend(['STAT1-target', 'random'], frameon=False, loc='upper right', bbox_to_anchor=(0.7, 1))\n",
    "plt.xlabel('Correlation of variability across time')\n",
    "plt.savefig(fig_path + 'var_tracking.pdf', bbox_inches='tight')\n"
   ]
  },
  {
   "cell_type": "code",
   "execution_count": null,
   "metadata": {},
   "outputs": [],
   "source": []
  }
 ],
 "metadata": {
  "kernelspec": {
   "display_name": "Python 3",
   "language": "python",
   "name": "python3"
  },
  "language_info": {
   "codemirror_mode": {
    "name": "ipython",
    "version": 3
   },
   "file_extension": ".py",
   "mimetype": "text/x-python",
   "name": "python",
   "nbconvert_exporter": "python",
   "pygments_lexer": "ipython3",
   "version": "3.8.8"
  }
 },
 "nbformat": 4,
 "nbformat_minor": 4
}
