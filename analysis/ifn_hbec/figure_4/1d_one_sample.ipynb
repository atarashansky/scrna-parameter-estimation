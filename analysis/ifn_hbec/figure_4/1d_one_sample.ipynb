{
 "cells": [
  {
   "cell_type": "markdown",
   "metadata": {},
   "source": [
    "# Perform one sample test in control cells"
   ]
  },
  {
   "cell_type": "code",
   "execution_count": 1,
   "metadata": {},
   "outputs": [],
   "source": [
    "import scanpy as sc\n",
    "import seaborn as sns\n",
    "import pandas as pd\n",
    "import matplotlib.pyplot as plt\n",
    "import numpy as np\n",
    "import scipy.stats as stats\n",
    "from pybedtools import BedTool\n",
    "import pickle as pkl\n",
    "%matplotlib inline"
   ]
  },
  {
   "cell_type": "code",
   "execution_count": 2,
   "metadata": {},
   "outputs": [],
   "source": [
    "import sys\n",
    "sys.path.append('/home/ssm-user/Github/scrna-parameter-estimation/dist/memento-0.0.5-py3.8.egg')\n",
    "sys.path.append('/home/ssm-user/Github/misc-seq/miscseq/')\n",
    "import encode\n",
    "import memento"
   ]
  },
  {
   "cell_type": "code",
   "execution_count": 3,
   "metadata": {},
   "outputs": [],
   "source": [
    "data_path = '/data_volume/ifn_hbec/'\n",
    "fig_path = '/home/ssm-user/Github/scrna-parameter-estimation/figures/fig4/main/'"
   ]
  },
  {
   "cell_type": "markdown",
   "metadata": {},
   "source": [
    "### Read the processed RNA data\n",
    "\n",
    "Focus on the club and bc/club cells and type I interferons for now.\n",
    "\n",
    "Encode the timestamps to integers."
   ]
  },
  {
   "cell_type": "raw",
   "metadata": {},
   "source": [
    "adata_processed = sc.read(data_path + 'HBEC_type_I_processed.h5ad')"
   ]
  },
  {
   "cell_type": "code",
   "execution_count": 4,
   "metadata": {},
   "outputs": [],
   "source": [
    "adata = sc.read(data_path + 'HBEC_type_I_filtered_counts_deep.h5ad')"
   ]
  },
  {
   "cell_type": "code",
   "execution_count": 5,
   "metadata": {},
   "outputs": [
    {
     "name": "stderr",
     "output_type": "stream",
     "text": [
      "/home/ssm-user/anaconda3/envs/single_cell/lib/python3.8/site-packages/pandas/core/arrays/categorical.py:2487: FutureWarning: The `inplace` parameter in pandas.Categorical.remove_unused_categories is deprecated and will be removed in a future version.\n",
      "  res = method(*args, **kwargs)\n"
     ]
    }
   ],
   "source": [
    "adata = adata[:, ~adata.var.index.str.startswith('MT-')].copy()\n",
    "adata.obs['cell_type'] = adata.obs['cell_type'].apply(lambda x: x if x != 'basal/club' else 'bc')\n",
    "adata.obs['cell_type'] = adata.obs['cell_type'].apply(lambda x: x if x != 'ionocyte/tuft' else 'ion-tuft')"
   ]
  },
  {
   "cell_type": "raw",
   "metadata": {},
   "source": [
    "sc.pl.umap(adata_processed, color=['cell_type', 'time', 'stim'])"
   ]
  },
  {
   "cell_type": "code",
   "execution_count": 6,
   "metadata": {},
   "outputs": [
    {
     "data": {
      "text/plain": [
       "(69958, 36588)"
      ]
     },
     "execution_count": 6,
     "metadata": {},
     "output_type": "execute_result"
    }
   ],
   "source": [
    "adata.shape"
   ]
  },
  {
   "cell_type": "markdown",
   "metadata": {},
   "source": [
    "### Setup memento"
   ]
  },
  {
   "cell_type": "code",
   "execution_count": 7,
   "metadata": {},
   "outputs": [],
   "source": [
    "def assign_q(batch):\n",
    "    \n",
    "    if batch == 0:\n",
    "        return 0.387*0.25\n",
    "    elif batch == 1:\n",
    "        return 0.392*0.25\n",
    "    elif batch == 2:\n",
    "        return 0.436*0.25\n",
    "    else:\n",
    "        return 0.417*0.25"
   ]
  },
  {
   "cell_type": "code",
   "execution_count": 8,
   "metadata": {},
   "outputs": [],
   "source": [
    "adata.obs['q'] = adata.obs['batch'].apply(assign_q)"
   ]
  },
  {
   "cell_type": "code",
   "execution_count": 9,
   "metadata": {},
   "outputs": [],
   "source": [
    "memento.setup_memento(adata, q_column='q')"
   ]
  },
  {
   "cell_type": "code",
   "execution_count": 10,
   "metadata": {},
   "outputs": [
    {
     "data": {
      "text/html": [
       "<div>\n",
       "<style scoped>\n",
       "    .dataframe tbody tr th:only-of-type {\n",
       "        vertical-align: middle;\n",
       "    }\n",
       "\n",
       "    .dataframe tbody tr th {\n",
       "        vertical-align: top;\n",
       "    }\n",
       "\n",
       "    .dataframe thead th {\n",
       "        text-align: right;\n",
       "    }\n",
       "</style>\n",
       "<table border=\"1\" class=\"dataframe\">\n",
       "  <thead>\n",
       "    <tr style=\"text-align: right;\">\n",
       "      <th></th>\n",
       "      <th>NUM.SNPS</th>\n",
       "      <th>BEST.GUESS</th>\n",
       "      <th>DROPLET.TYPE</th>\n",
       "      <th>batch</th>\n",
       "      <th>HTO_classification</th>\n",
       "      <th>condition</th>\n",
       "      <th>donor</th>\n",
       "      <th>stim</th>\n",
       "      <th>time</th>\n",
       "      <th>n_genes</th>\n",
       "      <th>n_genes_by_counts</th>\n",
       "      <th>total_counts</th>\n",
       "      <th>total_counts_mt</th>\n",
       "      <th>pct_counts_mt</th>\n",
       "      <th>leiden</th>\n",
       "      <th>cell_type</th>\n",
       "      <th>q</th>\n",
       "      <th>memento_size_factor</th>\n",
       "    </tr>\n",
       "  </thead>\n",
       "  <tbody>\n",
       "    <tr>\n",
       "      <th>AAACCCAAGGAAGTAG-1</th>\n",
       "      <td>1700</td>\n",
       "      <td>donor0</td>\n",
       "      <td>SNG</td>\n",
       "      <td>0</td>\n",
       "      <td>hash-10</td>\n",
       "      <td>d2513_lambda_9</td>\n",
       "      <td>d2513</td>\n",
       "      <td>lambda</td>\n",
       "      <td>9</td>\n",
       "      <td>4297</td>\n",
       "      <td>4297</td>\n",
       "      <td>12191.0</td>\n",
       "      <td>1394.0</td>\n",
       "      <td>11.434665</td>\n",
       "      <td>3</td>\n",
       "      <td>ciliated</td>\n",
       "      <td>0.10425</td>\n",
       "      <td>0.955289</td>\n",
       "    </tr>\n",
       "    <tr>\n",
       "      <th>AAACCCAAGGGACTGT-1</th>\n",
       "      <td>839</td>\n",
       "      <td>donor0</td>\n",
       "      <td>SNG</td>\n",
       "      <td>0</td>\n",
       "      <td>hash-3</td>\n",
       "      <td>d2513_alpha_24</td>\n",
       "      <td>d2513</td>\n",
       "      <td>alpha</td>\n",
       "      <td>24</td>\n",
       "      <td>2171</td>\n",
       "      <td>2171</td>\n",
       "      <td>7270.0</td>\n",
       "      <td>386.0</td>\n",
       "      <td>5.309491</td>\n",
       "      <td>5</td>\n",
       "      <td>bc</td>\n",
       "      <td>0.10425</td>\n",
       "      <td>0.824407</td>\n",
       "    </tr>\n",
       "    <tr>\n",
       "      <th>AAACCCACAATCTGCA-1</th>\n",
       "      <td>1130</td>\n",
       "      <td>donor1</td>\n",
       "      <td>SNG</td>\n",
       "      <td>0</td>\n",
       "      <td>hash-1</td>\n",
       "      <td>d2614_alpha_3</td>\n",
       "      <td>d2614</td>\n",
       "      <td>alpha</td>\n",
       "      <td>3</td>\n",
       "      <td>3016</td>\n",
       "      <td>3016</td>\n",
       "      <td>9544.0</td>\n",
       "      <td>516.0</td>\n",
       "      <td>5.406538</td>\n",
       "      <td>0</td>\n",
       "      <td>basal</td>\n",
       "      <td>0.10425</td>\n",
       "      <td>0.988939</td>\n",
       "    </tr>\n",
       "  </tbody>\n",
       "</table>\n",
       "</div>"
      ],
      "text/plain": [
       "                    NUM.SNPS BEST.GUESS DROPLET.TYPE batch HTO_classification  \\\n",
       "AAACCCAAGGAAGTAG-1      1700     donor0          SNG     0            hash-10   \n",
       "AAACCCAAGGGACTGT-1       839     donor0          SNG     0             hash-3   \n",
       "AAACCCACAATCTGCA-1      1130     donor1          SNG     0             hash-1   \n",
       "\n",
       "                         condition  donor    stim time  n_genes  \\\n",
       "AAACCCAAGGAAGTAG-1  d2513_lambda_9  d2513  lambda    9     4297   \n",
       "AAACCCAAGGGACTGT-1  d2513_alpha_24  d2513   alpha   24     2171   \n",
       "AAACCCACAATCTGCA-1   d2614_alpha_3  d2614   alpha    3     3016   \n",
       "\n",
       "                    n_genes_by_counts  total_counts  total_counts_mt  \\\n",
       "AAACCCAAGGAAGTAG-1               4297       12191.0           1394.0   \n",
       "AAACCCAAGGGACTGT-1               2171        7270.0            386.0   \n",
       "AAACCCACAATCTGCA-1               3016        9544.0            516.0   \n",
       "\n",
       "                    pct_counts_mt leiden cell_type        q  \\\n",
       "AAACCCAAGGAAGTAG-1      11.434665      3  ciliated  0.10425   \n",
       "AAACCCAAGGGACTGT-1       5.309491      5        bc  0.10425   \n",
       "AAACCCACAATCTGCA-1       5.406538      0     basal  0.10425   \n",
       "\n",
       "                    memento_size_factor  \n",
       "AAACCCAAGGAAGTAG-1             0.955289  \n",
       "AAACCCAAGGGACTGT-1             0.824407  \n",
       "AAACCCACAATCTGCA-1             0.988939  "
      ]
     },
     "execution_count": 10,
     "metadata": {},
     "output_type": "execute_result"
    }
   ],
   "source": [
    "adata.obs.head(3)"
   ]
  },
  {
   "cell_type": "code",
   "execution_count": 11,
   "metadata": {},
   "outputs": [
    {
     "data": {
      "text/plain": [
       "dict_keys(['q_column', 'all_q', 'estimator_type', 'filter_mean_thresh', 'num_bins', 'least_variable_genes', 'all_1d_moments'])"
      ]
     },
     "execution_count": 11,
     "metadata": {},
     "output_type": "execute_result"
    }
   ],
   "source": [
    "adata.uns['memento'].keys()"
   ]
  },
  {
   "cell_type": "markdown",
   "metadata": {},
   "source": [
    "### Perform one sample test on ciliated, control cells"
   ]
  },
  {
   "cell_type": "code",
   "execution_count": 12,
   "metadata": {},
   "outputs": [
    {
     "name": "stderr",
     "output_type": "stream",
     "text": [
      "/home/ssm-user/anaconda3/envs/single_cell/lib/python3.8/site-packages/pandas/core/arrays/categorical.py:2487: FutureWarning: The `inplace` parameter in pandas.Categorical.remove_unused_categories is deprecated and will be removed in a future version.\n",
      "  res = method(*args, **kwargs)\n"
     ]
    }
   ],
   "source": [
    "adata_ctrl = adata.copy()[\n",
    "    adata.obs.cell_type.isin(['ciliated']) & \\\n",
    "    adata.obs.stim.isin(['control']), :].copy()"
   ]
  },
  {
   "cell_type": "code",
   "execution_count": 13,
   "metadata": {},
   "outputs": [],
   "source": [
    "memento.create_groups(adata_ctrl, label_columns=['donor'])"
   ]
  },
  {
   "cell_type": "code",
   "execution_count": 14,
   "metadata": {},
   "outputs": [],
   "source": [
    "memento.compute_1d_moments(adata_ctrl, min_perc_group=.9)"
   ]
  },
  {
   "cell_type": "code",
   "execution_count": 15,
   "metadata": {},
   "outputs": [
    {
     "name": "stderr",
     "output_type": "stream",
     "text": [
      "[Parallel(n_jobs=13)]: Using backend LokyBackend with 13 concurrent workers.\n",
      "[Parallel(n_jobs=13)]: Done  24 tasks      | elapsed:    3.1s\n",
      "[Parallel(n_jobs=13)]: Done 174 tasks      | elapsed:    7.8s\n",
      "[Parallel(n_jobs=13)]: Done 424 tasks      | elapsed:   16.3s\n",
      "[Parallel(n_jobs=13)]: Done 774 tasks      | elapsed:   28.0s\n",
      "[Parallel(n_jobs=13)]: Done 1224 tasks      | elapsed:   42.3s\n",
      "[Parallel(n_jobs=13)]: Done 1774 tasks      | elapsed:   59.5s\n",
      "[Parallel(n_jobs=13)]: Done 2424 tasks      | elapsed:  1.3min\n",
      "[Parallel(n_jobs=13)]: Done 3174 tasks      | elapsed:  1.7min\n",
      "[Parallel(n_jobs=13)]: Done 4024 tasks      | elapsed:  2.2min\n",
      "[Parallel(n_jobs=13)]: Done 4974 tasks      | elapsed:  2.7min\n",
      "[Parallel(n_jobs=13)]: Done 6024 tasks      | elapsed:  3.2min\n",
      "[Parallel(n_jobs=13)]: Done 7174 tasks      | elapsed:  3.8min\n",
      "[Parallel(n_jobs=13)]: Done 8424 tasks      | elapsed:  4.5min\n",
      "[Parallel(n_jobs=13)]: Done 9774 tasks      | elapsed:  5.2min\n",
      "[Parallel(n_jobs=13)]: Done 10150 out of 10150 | elapsed:  5.4min finished\n"
     ]
    }
   ],
   "source": [
    "memento.ht_1d_moments(\n",
    "    adata_ctrl,\n",
    "    formula_like='1',\n",
    "    cov_column='Inter',\n",
    "    num_boot=10000, \n",
    "    verbose=1,\n",
    "    num_cpus=13)"
   ]
  },
  {
   "cell_type": "code",
   "execution_count": 16,
   "metadata": {},
   "outputs": [],
   "source": [
    "onesamp_ht_df = memento.get_1d_ht_result(adata_ctrl)"
   ]
  },
  {
   "cell_type": "code",
   "execution_count": 17,
   "metadata": {},
   "outputs": [],
   "source": [
    "onesamp_ht_df['dv_fdr'] = memento.util._fdrcorrect(onesamp_ht_df['dv_pval'])"
   ]
  },
  {
   "cell_type": "code",
   "execution_count": 18,
   "metadata": {},
   "outputs": [],
   "source": [
    "hv_genes = onesamp_ht_df.query('dv_fdr < 0.001 & dv_coef > 0').gene.tolist()\n",
    "lv_genes = onesamp_ht_df.query('dv_fdr < 0.001 & dv_coef < 0').gene.tolist()"
   ]
  },
  {
   "cell_type": "code",
   "execution_count": 19,
   "metadata": {},
   "outputs": [],
   "source": [
    "# for gene in hv_genes:\n",
    "#     print(gene)"
   ]
  },
  {
   "cell_type": "code",
   "execution_count": 23,
   "metadata": {},
   "outputs": [
    {
     "data": {
      "text/html": [
       "<div>\n",
       "<style scoped>\n",
       "    .dataframe tbody tr th:only-of-type {\n",
       "        vertical-align: middle;\n",
       "    }\n",
       "\n",
       "    .dataframe tbody tr th {\n",
       "        vertical-align: top;\n",
       "    }\n",
       "\n",
       "    .dataframe thead th {\n",
       "        text-align: right;\n",
       "    }\n",
       "</style>\n",
       "<table border=\"1\" class=\"dataframe\">\n",
       "  <thead>\n",
       "    <tr style=\"text-align: right;\">\n",
       "      <th></th>\n",
       "      <th>gene</th>\n",
       "      <th>de_coef</th>\n",
       "      <th>de_se</th>\n",
       "      <th>de_pval</th>\n",
       "      <th>dv_coef</th>\n",
       "      <th>dv_se</th>\n",
       "      <th>dv_pval</th>\n",
       "      <th>dv_fdr</th>\n",
       "    </tr>\n",
       "  </thead>\n",
       "  <tbody>\n",
       "    <tr>\n",
       "      <th>5204</th>\n",
       "      <td>IFIT2</td>\n",
       "      <td>-0.469849</td>\n",
       "      <td>0.126272</td>\n",
       "      <td>4.148413e-04</td>\n",
       "      <td>2.978472</td>\n",
       "      <td>0.268455</td>\n",
       "      <td>1.186644e-06</td>\n",
       "      <td>0.000161</td>\n",
       "    </tr>\n",
       "    <tr>\n",
       "      <th>5205</th>\n",
       "      <td>IFIT3</td>\n",
       "      <td>-0.020981</td>\n",
       "      <td>0.074616</td>\n",
       "      <td>7.867213e-01</td>\n",
       "      <td>2.309936</td>\n",
       "      <td>0.222861</td>\n",
       "      <td>5.993851e-07</td>\n",
       "      <td>0.000118</td>\n",
       "    </tr>\n",
       "    <tr>\n",
       "      <th>5206</th>\n",
       "      <td>IFIT1</td>\n",
       "      <td>0.274242</td>\n",
       "      <td>0.061946</td>\n",
       "      <td>2.513746e-04</td>\n",
       "      <td>1.955586</td>\n",
       "      <td>0.145493</td>\n",
       "      <td>2.880817e-06</td>\n",
       "      <td>0.000230</td>\n",
       "    </tr>\n",
       "    <tr>\n",
       "      <th>5207</th>\n",
       "      <td>IFIT5</td>\n",
       "      <td>-1.348701</td>\n",
       "      <td>0.077548</td>\n",
       "      <td>2.881267e-08</td>\n",
       "      <td>0.078432</td>\n",
       "      <td>0.434752</td>\n",
       "      <td>8.386161e-01</td>\n",
       "      <td>0.933328</td>\n",
       "    </tr>\n",
       "    <tr>\n",
       "      <th>5386</th>\n",
       "      <td>IFITM2</td>\n",
       "      <td>-0.005149</td>\n",
       "      <td>0.063010</td>\n",
       "      <td>9.355064e-01</td>\n",
       "      <td>1.715650</td>\n",
       "      <td>0.195346</td>\n",
       "      <td>1.870687e-06</td>\n",
       "      <td>0.000181</td>\n",
       "    </tr>\n",
       "    <tr>\n",
       "      <th>5387</th>\n",
       "      <td>IFITM1</td>\n",
       "      <td>-0.627829</td>\n",
       "      <td>0.081472</td>\n",
       "      <td>2.992694e-06</td>\n",
       "      <td>2.059088</td>\n",
       "      <td>0.224045</td>\n",
       "      <td>7.963828e-07</td>\n",
       "      <td>0.000135</td>\n",
       "    </tr>\n",
       "    <tr>\n",
       "      <th>5388</th>\n",
       "      <td>IFITM3</td>\n",
       "      <td>1.395832</td>\n",
       "      <td>0.038644</td>\n",
       "      <td>8.360456e-08</td>\n",
       "      <td>1.245325</td>\n",
       "      <td>0.166839</td>\n",
       "      <td>2.049080e-05</td>\n",
       "      <td>0.000776</td>\n",
       "    </tr>\n",
       "    <tr>\n",
       "      <th>5419</th>\n",
       "      <td>IFITM10</td>\n",
       "      <td>-0.080528</td>\n",
       "      <td>0.050648</td>\n",
       "      <td>1.134887e-01</td>\n",
       "      <td>0.986147</td>\n",
       "      <td>0.133919</td>\n",
       "      <td>1.405596e-05</td>\n",
       "      <td>0.000648</td>\n",
       "    </tr>\n",
       "  </tbody>\n",
       "</table>\n",
       "</div>"
      ],
      "text/plain": [
       "         gene   de_coef     de_se       de_pval   dv_coef     dv_se  \\\n",
       "5204    IFIT2 -0.469849  0.126272  4.148413e-04  2.978472  0.268455   \n",
       "5205    IFIT3 -0.020981  0.074616  7.867213e-01  2.309936  0.222861   \n",
       "5206    IFIT1  0.274242  0.061946  2.513746e-04  1.955586  0.145493   \n",
       "5207    IFIT5 -1.348701  0.077548  2.881267e-08  0.078432  0.434752   \n",
       "5386   IFITM2 -0.005149  0.063010  9.355064e-01  1.715650  0.195346   \n",
       "5387   IFITM1 -0.627829  0.081472  2.992694e-06  2.059088  0.224045   \n",
       "5388   IFITM3  1.395832  0.038644  8.360456e-08  1.245325  0.166839   \n",
       "5419  IFITM10 -0.080528  0.050648  1.134887e-01  0.986147  0.133919   \n",
       "\n",
       "           dv_pval    dv_fdr  \n",
       "5204  1.186644e-06  0.000161  \n",
       "5205  5.993851e-07  0.000118  \n",
       "5206  2.880817e-06  0.000230  \n",
       "5207  8.386161e-01  0.933328  \n",
       "5386  1.870687e-06  0.000181  \n",
       "5387  7.963828e-07  0.000135  \n",
       "5388  2.049080e-05  0.000776  \n",
       "5419  1.405596e-05  0.000648  "
      ]
     },
     "execution_count": 23,
     "metadata": {},
     "output_type": "execute_result"
    }
   ],
   "source": [
    "onesamp_ht_df.query('gene.str.contains(\"IFIT\")', engine='python')"
   ]
  },
  {
   "cell_type": "code",
   "execution_count": 22,
   "metadata": {},
   "outputs": [
    {
     "data": {
      "text/html": [
       "<div>\n",
       "<style scoped>\n",
       "    .dataframe tbody tr th:only-of-type {\n",
       "        vertical-align: middle;\n",
       "    }\n",
       "\n",
       "    .dataframe tbody tr th {\n",
       "        vertical-align: top;\n",
       "    }\n",
       "\n",
       "    .dataframe thead th {\n",
       "        text-align: right;\n",
       "    }\n",
       "</style>\n",
       "<table border=\"1\" class=\"dataframe\">\n",
       "  <thead>\n",
       "    <tr style=\"text-align: right;\">\n",
       "      <th></th>\n",
       "      <th>gene</th>\n",
       "      <th>de_coef</th>\n",
       "      <th>de_se</th>\n",
       "      <th>de_pval</th>\n",
       "      <th>dv_coef</th>\n",
       "      <th>dv_se</th>\n",
       "      <th>dv_pval</th>\n",
       "      <th>dv_fdr</th>\n",
       "    </tr>\n",
       "  </thead>\n",
       "  <tbody>\n",
       "    <tr>\n",
       "      <th>6275</th>\n",
       "      <td>LYZ</td>\n",
       "      <td>-1.246753</td>\n",
       "      <td>0.185773</td>\n",
       "      <td>3.312058e-05</td>\n",
       "      <td>3.591128</td>\n",
       "      <td>0.170380</td>\n",
       "      <td>6.448767e-11</td>\n",
       "      <td>6.545499e-07</td>\n",
       "    </tr>\n",
       "    <tr>\n",
       "      <th>3260</th>\n",
       "      <td>HIST1H1C</td>\n",
       "      <td>0.524990</td>\n",
       "      <td>0.064706</td>\n",
       "      <td>3.589962e-05</td>\n",
       "      <td>2.161812</td>\n",
       "      <td>0.152800</td>\n",
       "      <td>8.514976e-09</td>\n",
       "      <td>3.686604e-05</td>\n",
       "    </tr>\n",
       "    <tr>\n",
       "      <th>6920</th>\n",
       "      <td>FOS</td>\n",
       "      <td>0.977821</td>\n",
       "      <td>0.052956</td>\n",
       "      <td>2.176014e-07</td>\n",
       "      <td>1.754966</td>\n",
       "      <td>0.168476</td>\n",
       "      <td>1.089637e-08</td>\n",
       "      <td>3.686604e-05</td>\n",
       "    </tr>\n",
       "    <tr>\n",
       "      <th>6973</th>\n",
       "      <td>IFI27</td>\n",
       "      <td>2.746951</td>\n",
       "      <td>0.044891</td>\n",
       "      <td>1.196192e-05</td>\n",
       "      <td>1.449796</td>\n",
       "      <td>0.072404</td>\n",
       "      <td>1.467615e-08</td>\n",
       "      <td>3.724072e-05</td>\n",
       "    </tr>\n",
       "    <tr>\n",
       "      <th>7317</th>\n",
       "      <td>ISG20</td>\n",
       "      <td>0.521241</td>\n",
       "      <td>0.062227</td>\n",
       "      <td>1.115231e-05</td>\n",
       "      <td>2.138514</td>\n",
       "      <td>0.258798</td>\n",
       "      <td>2.153907e-08</td>\n",
       "      <td>4.372430e-05</td>\n",
       "    </tr>\n",
       "    <tr>\n",
       "      <th>...</th>\n",
       "      <td>...</td>\n",
       "      <td>...</td>\n",
       "      <td>...</td>\n",
       "      <td>...</td>\n",
       "      <td>...</td>\n",
       "      <td>...</td>\n",
       "      <td>...</td>\n",
       "      <td>...</td>\n",
       "    </tr>\n",
       "    <tr>\n",
       "      <th>4471</th>\n",
       "      <td>SNTB1</td>\n",
       "      <td>-2.061848</td>\n",
       "      <td>0.107142</td>\n",
       "      <td>2.262404e-07</td>\n",
       "      <td>-0.000647</td>\n",
       "      <td>0.736553</td>\n",
       "      <td>9.995000e-01</td>\n",
       "      <td>9.998971e-01</td>\n",
       "    </tr>\n",
       "    <tr>\n",
       "      <th>6703</th>\n",
       "      <td>METTL17</td>\n",
       "      <td>-1.663920</td>\n",
       "      <td>0.089123</td>\n",
       "      <td>1.391908e-06</td>\n",
       "      <td>-0.000693</td>\n",
       "      <td>0.694522</td>\n",
       "      <td>9.991001e-01</td>\n",
       "      <td>9.998971e-01</td>\n",
       "    </tr>\n",
       "    <tr>\n",
       "      <th>5734</th>\n",
       "      <td>AIP</td>\n",
       "      <td>-1.733756</td>\n",
       "      <td>0.087954</td>\n",
       "      <td>5.887837e-07</td>\n",
       "      <td>0.000667</td>\n",
       "      <td>0.736424</td>\n",
       "      <td>9.993001e-01</td>\n",
       "      <td>9.998971e-01</td>\n",
       "    </tr>\n",
       "    <tr>\n",
       "      <th>4872</th>\n",
       "      <td>CIZ1</td>\n",
       "      <td>-1.562946</td>\n",
       "      <td>0.082858</td>\n",
       "      <td>1.802978e-06</td>\n",
       "      <td>0.000097</td>\n",
       "      <td>0.486899</td>\n",
       "      <td>9.998000e-01</td>\n",
       "      <td>9.998985e-01</td>\n",
       "    </tr>\n",
       "    <tr>\n",
       "      <th>6279</th>\n",
       "      <td>RAB3IP</td>\n",
       "      <td>-0.303352</td>\n",
       "      <td>0.046161</td>\n",
       "      <td>9.538659e-06</td>\n",
       "      <td>0.000025</td>\n",
       "      <td>0.309788</td>\n",
       "      <td>1.000000e+00</td>\n",
       "      <td>1.000000e+00</td>\n",
       "    </tr>\n",
       "  </tbody>\n",
       "</table>\n",
       "<p>10150 rows × 8 columns</p>\n",
       "</div>"
      ],
      "text/plain": [
       "          gene   de_coef     de_se       de_pval   dv_coef     dv_se  \\\n",
       "6275       LYZ -1.246753  0.185773  3.312058e-05  3.591128  0.170380   \n",
       "3260  HIST1H1C  0.524990  0.064706  3.589962e-05  2.161812  0.152800   \n",
       "6920       FOS  0.977821  0.052956  2.176014e-07  1.754966  0.168476   \n",
       "6973     IFI27  2.746951  0.044891  1.196192e-05  1.449796  0.072404   \n",
       "7317     ISG20  0.521241  0.062227  1.115231e-05  2.138514  0.258798   \n",
       "...        ...       ...       ...           ...       ...       ...   \n",
       "4471     SNTB1 -2.061848  0.107142  2.262404e-07 -0.000647  0.736553   \n",
       "6703   METTL17 -1.663920  0.089123  1.391908e-06 -0.000693  0.694522   \n",
       "5734       AIP -1.733756  0.087954  5.887837e-07  0.000667  0.736424   \n",
       "4872      CIZ1 -1.562946  0.082858  1.802978e-06  0.000097  0.486899   \n",
       "6279    RAB3IP -0.303352  0.046161  9.538659e-06  0.000025  0.309788   \n",
       "\n",
       "           dv_pval        dv_fdr  \n",
       "6275  6.448767e-11  6.545499e-07  \n",
       "3260  8.514976e-09  3.686604e-05  \n",
       "6920  1.089637e-08  3.686604e-05  \n",
       "6973  1.467615e-08  3.724072e-05  \n",
       "7317  2.153907e-08  4.372430e-05  \n",
       "...            ...           ...  \n",
       "4471  9.995000e-01  9.998971e-01  \n",
       "6703  9.991001e-01  9.998971e-01  \n",
       "5734  9.993001e-01  9.998971e-01  \n",
       "4872  9.998000e-01  9.998985e-01  \n",
       "6279  1.000000e+00  1.000000e+00  \n",
       "\n",
       "[10150 rows x 8 columns]"
      ]
     },
     "execution_count": 22,
     "metadata": {},
     "output_type": "execute_result"
    }
   ],
   "source": [
    "onesamp_ht_df.sort_values('dv_fdr').head()"
   ]
  },
  {
   "cell_type": "code",
   "execution_count": 20,
   "metadata": {},
   "outputs": [],
   "source": [
    "with open('hv_genes.pkl', 'wb') as f:\n",
    "    pkl.dump(hv_genes, f)"
   ]
  },
  {
   "cell_type": "markdown",
   "metadata": {},
   "source": [
    "### Mean vs variability plots for ctrl cells"
   ]
  },
  {
   "cell_type": "code",
   "execution_count": 43,
   "metadata": {},
   "outputs": [],
   "source": [
    "m_df, v_df = memento.get_1d_moments(adata_ctrl, groupby='ALL')"
   ]
  },
  {
   "cell_type": "code",
   "execution_count": 45,
   "metadata": {},
   "outputs": [
    {
     "data": {
      "image/png": "[encoded data removed]",
      "text/plain": [
       "<Figure size 144x108 with 1 Axes>"
      ]
     },
     "metadata": {
      "needs_background": "light"
     },
     "output_type": "display_data"
    }
   ],
   "source": [
    "plt.figure(figsize=(2, 1.5))\n",
    "plt.scatter(m_df['ALL_sg'], v_df['ALL_sg'], s=0.1,color='gray')\n",
    "plt.scatter(m_df.query('gene in @hv_genes')['ALL_sg'], v_df.query('gene in @hv_genes')['ALL_sg'], s=1,color='orange')\n",
    "plt.xlabel('Mean'); plt.ylabel('Variability');\n",
    "plt.savefig(fig_path + 'm_vs_v_onesamp.png', bbox_inches='tight', dpi=300)\n"
   ]
  },
  {
   "cell_type": "code",
   "execution_count": null,
   "metadata": {},
   "outputs": [],
   "source": []
  }
 ],
 "metadata": {
  "kernelspec": {
   "display_name": "Python 3",
   "language": "python",
   "name": "python3"
  },
  "language_info": {
   "codemirror_mode": {
    "name": "ipython",
    "version": 3
   },
   "file_extension": ".py",
   "mimetype": "text/x-python",
   "name": "python",
   "nbconvert_exporter": "python",
   "pygments_lexer": "ipython3",
   "version": "3.8.8"
  }
 },
 "nbformat": 4,
 "nbformat_minor": 4
}
