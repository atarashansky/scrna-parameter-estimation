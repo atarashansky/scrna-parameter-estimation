{
 "cells": [
  {
   "cell_type": "markdown",
   "metadata": {},
   "source": [
    "# Perform one sample test in control cells\n",
    "\n",
    "Both HBECs and PBMCs"
   ]
  },
  {
   "cell_type": "code",
   "execution_count": 6,
   "metadata": {},
   "outputs": [],
   "source": [
    "import scanpy as sc\n",
    "import seaborn as sns\n",
    "import pandas as pd\n",
    "import matplotlib.pyplot as plt\n",
    "import numpy as np\n",
    "import scipy.stats as stats\n",
    "from pybedtools import BedTool\n",
    "import pickle as pkl\n",
    "%matplotlib inline"
   ]
  },
  {
   "cell_type": "code",
   "execution_count": 7,
   "metadata": {},
   "outputs": [],
   "source": [
    "import sys\n",
    "sys.path.append('/home/ssm-user/Github/scrna-parameter-estimation/dist/memento-0.0.5-py3.8.egg')\n",
    "sys.path.append('/home/ssm-user/Github/misc-seq/miscseq/')\n",
    "import encode\n",
    "import memento"
   ]
  },
  {
   "cell_type": "code",
   "execution_count": 8,
   "metadata": {},
   "outputs": [],
   "source": [
    "data_path = '/data_volume/ifn_hbec/'\n",
    "fig_path = '/home/ssm-user/Github/scrna-parameter-estimation/figures/fig4/main/'"
   ]
  },
  {
   "cell_type": "markdown",
   "metadata": {},
   "source": [
    "### Read the processed RNA data\n",
    "\n",
    "Focus on the club and bc/club cells and type I interferons for now.\n",
    "\n",
    "Encode the timestamps to integers."
   ]
  },
  {
   "cell_type": "raw",
   "metadata": {},
   "source": [
    "adata_processed = sc.read(data_path + 'HBEC_type_I_processed.h5ad')"
   ]
  },
  {
   "cell_type": "code",
   "execution_count": 4,
   "metadata": {},
   "outputs": [],
   "source": [
    "adata = sc.read(data_path + 'HBEC_type_I_filtered_counts_deep.h5ad')"
   ]
  },
  {
   "cell_type": "code",
   "execution_count": 5,
   "metadata": {},
   "outputs": [
    {
     "name": "stderr",
     "output_type": "stream",
     "text": [
      "/home/ssm-user/anaconda3/envs/single_cell/lib/python3.8/site-packages/pandas/core/arrays/categorical.py:2487: FutureWarning: The `inplace` parameter in pandas.Categorical.remove_unused_categories is deprecated and will be removed in a future version.\n",
      "  res = method(*args, **kwargs)\n"
     ]
    }
   ],
   "source": [
    "adata = adata[:, ~adata.var.index.str.startswith('MT-')].copy()\n",
    "adata.obs['cell_type'] = adata.obs['cell_type'].apply(lambda x: x if x != 'basal/club' else 'bc')\n",
    "adata.obs['cell_type'] = adata.obs['cell_type'].apply(lambda x: x if x != 'ionocyte/tuft' else 'ion-tuft')"
   ]
  },
  {
   "cell_type": "raw",
   "metadata": {},
   "source": [
    "sc.pl.umap(adata_processed, color=['cell_type', 'time', 'stim'])"
   ]
  },
  {
   "cell_type": "code",
   "execution_count": 6,
   "metadata": {},
   "outputs": [
    {
     "data": {
      "text/plain": [
       "(69958, 36588)"
      ]
     },
     "execution_count": 6,
     "metadata": {},
     "output_type": "execute_result"
    }
   ],
   "source": [
    "adata.shape"
   ]
  },
  {
   "cell_type": "markdown",
   "metadata": {},
   "source": [
    "### Setup memento"
   ]
  },
  {
   "cell_type": "code",
   "execution_count": 7,
   "metadata": {},
   "outputs": [],
   "source": [
    "def assign_q(batch):\n",
    "    \n",
    "    if batch == 0:\n",
    "        return 0.387*0.25\n",
    "    elif batch == 1:\n",
    "        return 0.392*0.25\n",
    "    elif batch == 2:\n",
    "        return 0.436*0.25\n",
    "    else:\n",
    "        return 0.417*0.25"
   ]
  },
  {
   "cell_type": "code",
   "execution_count": 8,
   "metadata": {},
   "outputs": [],
   "source": [
    "adata.obs['q'] = adata.obs['batch'].apply(assign_q)"
   ]
  },
  {
   "cell_type": "code",
   "execution_count": 9,
   "metadata": {},
   "outputs": [],
   "source": [
    "memento.setup_memento(adata, q_column='q')"
   ]
  },
  {
   "cell_type": "code",
   "execution_count": 10,
   "metadata": {},
   "outputs": [
    {
     "data": {
      "text/html": [
       "<div>\n",
       "<style scoped>\n",
       "    .dataframe tbody tr th:only-of-type {\n",
       "        vertical-align: middle;\n",
       "    }\n",
       "\n",
       "    .dataframe tbody tr th {\n",
       "        vertical-align: top;\n",
       "    }\n",
       "\n",
       "    .dataframe thead th {\n",
       "        text-align: right;\n",
       "    }\n",
       "</style>\n",
       "<table border=\"1\" class=\"dataframe\">\n",
       "  <thead>\n",
       "    <tr style=\"text-align: right;\">\n",
       "      <th></th>\n",
       "      <th>NUM.SNPS</th>\n",
       "      <th>BEST.GUESS</th>\n",
       "      <th>DROPLET.TYPE</th>\n",
       "      <th>batch</th>\n",
       "      <th>HTO_classification</th>\n",
       "      <th>condition</th>\n",
       "      <th>donor</th>\n",
       "      <th>stim</th>\n",
       "      <th>time</th>\n",
       "      <th>n_genes</th>\n",
       "      <th>n_genes_by_counts</th>\n",
       "      <th>total_counts</th>\n",
       "      <th>total_counts_mt</th>\n",
       "      <th>pct_counts_mt</th>\n",
       "      <th>leiden</th>\n",
       "      <th>cell_type</th>\n",
       "      <th>q</th>\n",
       "      <th>memento_size_factor</th>\n",
       "    </tr>\n",
       "  </thead>\n",
       "  <tbody>\n",
       "    <tr>\n",
       "      <th>AAACCCAAGGAAGTAG-1</th>\n",
       "      <td>1700</td>\n",
       "      <td>donor0</td>\n",
       "      <td>SNG</td>\n",
       "      <td>0</td>\n",
       "      <td>hash-10</td>\n",
       "      <td>d2513_lambda_9</td>\n",
       "      <td>d2513</td>\n",
       "      <td>lambda</td>\n",
       "      <td>9</td>\n",
       "      <td>4297</td>\n",
       "      <td>4297</td>\n",
       "      <td>12191.0</td>\n",
       "      <td>1394.0</td>\n",
       "      <td>11.434665</td>\n",
       "      <td>3</td>\n",
       "      <td>ciliated</td>\n",
       "      <td>0.10425</td>\n",
       "      <td>0.955289</td>\n",
       "    </tr>\n",
       "    <tr>\n",
       "      <th>AAACCCAAGGGACTGT-1</th>\n",
       "      <td>839</td>\n",
       "      <td>donor0</td>\n",
       "      <td>SNG</td>\n",
       "      <td>0</td>\n",
       "      <td>hash-3</td>\n",
       "      <td>d2513_alpha_24</td>\n",
       "      <td>d2513</td>\n",
       "      <td>alpha</td>\n",
       "      <td>24</td>\n",
       "      <td>2171</td>\n",
       "      <td>2171</td>\n",
       "      <td>7270.0</td>\n",
       "      <td>386.0</td>\n",
       "      <td>5.309491</td>\n",
       "      <td>5</td>\n",
       "      <td>bc</td>\n",
       "      <td>0.10425</td>\n",
       "      <td>0.824407</td>\n",
       "    </tr>\n",
       "    <tr>\n",
       "      <th>AAACCCACAATCTGCA-1</th>\n",
       "      <td>1130</td>\n",
       "      <td>donor1</td>\n",
       "      <td>SNG</td>\n",
       "      <td>0</td>\n",
       "      <td>hash-1</td>\n",
       "      <td>d2614_alpha_3</td>\n",
       "      <td>d2614</td>\n",
       "      <td>alpha</td>\n",
       "      <td>3</td>\n",
       "      <td>3016</td>\n",
       "      <td>3016</td>\n",
       "      <td>9544.0</td>\n",
       "      <td>516.0</td>\n",
       "      <td>5.406538</td>\n",
       "      <td>0</td>\n",
       "      <td>basal</td>\n",
       "      <td>0.10425</td>\n",
       "      <td>0.988939</td>\n",
       "    </tr>\n",
       "  </tbody>\n",
       "</table>\n",
       "</div>"
      ],
      "text/plain": [
       "                    NUM.SNPS BEST.GUESS DROPLET.TYPE batch HTO_classification  \\\n",
       "AAACCCAAGGAAGTAG-1      1700     donor0          SNG     0            hash-10   \n",
       "AAACCCAAGGGACTGT-1       839     donor0          SNG     0             hash-3   \n",
       "AAACCCACAATCTGCA-1      1130     donor1          SNG     0             hash-1   \n",
       "\n",
       "                         condition  donor    stim time  n_genes  \\\n",
       "AAACCCAAGGAAGTAG-1  d2513_lambda_9  d2513  lambda    9     4297   \n",
       "AAACCCAAGGGACTGT-1  d2513_alpha_24  d2513   alpha   24     2171   \n",
       "AAACCCACAATCTGCA-1   d2614_alpha_3  d2614   alpha    3     3016   \n",
       "\n",
       "                    n_genes_by_counts  total_counts  total_counts_mt  \\\n",
       "AAACCCAAGGAAGTAG-1               4297       12191.0           1394.0   \n",
       "AAACCCAAGGGACTGT-1               2171        7270.0            386.0   \n",
       "AAACCCACAATCTGCA-1               3016        9544.0            516.0   \n",
       "\n",
       "                    pct_counts_mt leiden cell_type        q  \\\n",
       "AAACCCAAGGAAGTAG-1      11.434665      3  ciliated  0.10425   \n",
       "AAACCCAAGGGACTGT-1       5.309491      5        bc  0.10425   \n",
       "AAACCCACAATCTGCA-1       5.406538      0     basal  0.10425   \n",
       "\n",
       "                    memento_size_factor  \n",
       "AAACCCAAGGAAGTAG-1             0.955289  \n",
       "AAACCCAAGGGACTGT-1             0.824407  \n",
       "AAACCCACAATCTGCA-1             0.988939  "
      ]
     },
     "execution_count": 10,
     "metadata": {},
     "output_type": "execute_result"
    }
   ],
   "source": [
    "adata.obs.head(3)"
   ]
  },
  {
   "cell_type": "code",
   "execution_count": 11,
   "metadata": {},
   "outputs": [
    {
     "data": {
      "text/plain": [
       "dict_keys(['q_column', 'all_q', 'estimator_type', 'filter_mean_thresh', 'num_bins', 'least_variable_genes', 'all_1d_moments'])"
      ]
     },
     "execution_count": 11,
     "metadata": {},
     "output_type": "execute_result"
    }
   ],
   "source": [
    "adata.uns['memento'].keys()"
   ]
  },
  {
   "cell_type": "markdown",
   "metadata": {},
   "source": [
    "### Perform one sample test on ciliated, control cells"
   ]
  },
  {
   "cell_type": "code",
   "execution_count": 12,
   "metadata": {},
   "outputs": [
    {
     "name": "stderr",
     "output_type": "stream",
     "text": [
      "/home/ssm-user/anaconda3/envs/single_cell/lib/python3.8/site-packages/pandas/core/arrays/categorical.py:2487: FutureWarning: The `inplace` parameter in pandas.Categorical.remove_unused_categories is deprecated and will be removed in a future version.\n",
      "  res = method(*args, **kwargs)\n"
     ]
    }
   ],
   "source": [
    "adata_ctrl = adata.copy()[\n",
    "    adata.obs.cell_type.isin(['ciliated']) & \\\n",
    "    adata.obs.stim.isin(['control']), :].copy()"
   ]
  },
  {
   "cell_type": "code",
   "execution_count": 13,
   "metadata": {},
   "outputs": [],
   "source": [
    "memento.create_groups(adata_ctrl, label_columns=['donor'])"
   ]
  },
  {
   "cell_type": "code",
   "execution_count": 14,
   "metadata": {},
   "outputs": [],
   "source": [
    "memento.compute_1d_moments(adata_ctrl, min_perc_group=.9)"
   ]
  },
  {
   "cell_type": "code",
   "execution_count": 15,
   "metadata": {},
   "outputs": [
    {
     "name": "stderr",
     "output_type": "stream",
     "text": [
      "[Parallel(n_jobs=13)]: Using backend LokyBackend with 13 concurrent workers.\n",
      "[Parallel(n_jobs=13)]: Done  24 tasks      | elapsed:    3.1s\n",
      "[Parallel(n_jobs=13)]: Done 174 tasks      | elapsed:    7.8s\n",
      "[Parallel(n_jobs=13)]: Done 424 tasks      | elapsed:   16.3s\n",
      "[Parallel(n_jobs=13)]: Done 774 tasks      | elapsed:   28.0s\n",
      "[Parallel(n_jobs=13)]: Done 1224 tasks      | elapsed:   42.3s\n",
      "[Parallel(n_jobs=13)]: Done 1774 tasks      | elapsed:   59.5s\n",
      "[Parallel(n_jobs=13)]: Done 2424 tasks      | elapsed:  1.3min\n",
      "[Parallel(n_jobs=13)]: Done 3174 tasks      | elapsed:  1.7min\n",
      "[Parallel(n_jobs=13)]: Done 4024 tasks      | elapsed:  2.2min\n",
      "[Parallel(n_jobs=13)]: Done 4974 tasks      | elapsed:  2.7min\n",
      "[Parallel(n_jobs=13)]: Done 6024 tasks      | elapsed:  3.2min\n",
      "[Parallel(n_jobs=13)]: Done 7174 tasks      | elapsed:  3.8min\n",
      "[Parallel(n_jobs=13)]: Done 8424 tasks      | elapsed:  4.5min\n",
      "[Parallel(n_jobs=13)]: Done 9774 tasks      | elapsed:  5.2min\n",
      "[Parallel(n_jobs=13)]: Done 10150 out of 10150 | elapsed:  5.4min finished\n"
     ]
    }
   ],
   "source": [
    "memento.ht_1d_moments(\n",
    "    adata_ctrl,\n",
    "    formula_like='1',\n",
    "    cov_column='Inter',\n",
    "    num_boot=10000, \n",
    "    verbose=1,\n",
    "    num_cpus=13)"
   ]
  },
  {
   "cell_type": "code",
   "execution_count": 16,
   "metadata": {},
   "outputs": [],
   "source": [
    "onesamp_ht_df = memento.get_1d_ht_result(adata_ctrl)"
   ]
  },
  {
   "cell_type": "code",
   "execution_count": 17,
   "metadata": {},
   "outputs": [],
   "source": [
    "onesamp_ht_df['dv_fdr'] = memento.util._fdrcorrect(onesamp_ht_df['dv_pval'])"
   ]
  },
  {
   "cell_type": "code",
   "execution_count": 18,
   "metadata": {},
   "outputs": [],
   "source": [
    "hv_genes = onesamp_ht_df.query('dv_fdr < 0.001 & dv_coef > 0').gene.tolist()\n",
    "lv_genes = onesamp_ht_df.query('dv_fdr < 0.001 & dv_coef < 0').gene.tolist()"
   ]
  },
  {
   "cell_type": "code",
   "execution_count": 19,
   "metadata": {},
   "outputs": [],
   "source": [
    "# for gene in hv_genes:\n",
    "#     print(gene)"
   ]
  },
  {
   "cell_type": "code",
   "execution_count": 23,
   "metadata": {},
   "outputs": [
    {
     "data": {
      "text/html": [
       "<div>\n",
       "<style scoped>\n",
       "    .dataframe tbody tr th:only-of-type {\n",
       "        vertical-align: middle;\n",
       "    }\n",
       "\n",
       "    .dataframe tbody tr th {\n",
       "        vertical-align: top;\n",
       "    }\n",
       "\n",
       "    .dataframe thead th {\n",
       "        text-align: right;\n",
       "    }\n",
       "</style>\n",
       "<table border=\"1\" class=\"dataframe\">\n",
       "  <thead>\n",
       "    <tr style=\"text-align: right;\">\n",
       "      <th></th>\n",
       "      <th>gene</th>\n",
       "      <th>de_coef</th>\n",
       "      <th>de_se</th>\n",
       "      <th>de_pval</th>\n",
       "      <th>dv_coef</th>\n",
       "      <th>dv_se</th>\n",
       "      <th>dv_pval</th>\n",
       "      <th>dv_fdr</th>\n",
       "    </tr>\n",
       "  </thead>\n",
       "  <tbody>\n",
       "    <tr>\n",
       "      <th>5204</th>\n",
       "      <td>IFIT2</td>\n",
       "      <td>-0.469849</td>\n",
       "      <td>0.126272</td>\n",
       "      <td>4.148413e-04</td>\n",
       "      <td>2.978472</td>\n",
       "      <td>0.268455</td>\n",
       "      <td>1.186644e-06</td>\n",
       "      <td>0.000161</td>\n",
       "    </tr>\n",
       "    <tr>\n",
       "      <th>5205</th>\n",
       "      <td>IFIT3</td>\n",
       "      <td>-0.020981</td>\n",
       "      <td>0.074616</td>\n",
       "      <td>7.867213e-01</td>\n",
       "      <td>2.309936</td>\n",
       "      <td>0.222861</td>\n",
       "      <td>5.993851e-07</td>\n",
       "      <td>0.000118</td>\n",
       "    </tr>\n",
       "    <tr>\n",
       "      <th>5206</th>\n",
       "      <td>IFIT1</td>\n",
       "      <td>0.274242</td>\n",
       "      <td>0.061946</td>\n",
       "      <td>2.513746e-04</td>\n",
       "      <td>1.955586</td>\n",
       "      <td>0.145493</td>\n",
       "      <td>2.880817e-06</td>\n",
       "      <td>0.000230</td>\n",
       "    </tr>\n",
       "    <tr>\n",
       "      <th>5207</th>\n",
       "      <td>IFIT5</td>\n",
       "      <td>-1.348701</td>\n",
       "      <td>0.077548</td>\n",
       "      <td>2.881267e-08</td>\n",
       "      <td>0.078432</td>\n",
       "      <td>0.434752</td>\n",
       "      <td>8.386161e-01</td>\n",
       "      <td>0.933328</td>\n",
       "    </tr>\n",
       "    <tr>\n",
       "      <th>5386</th>\n",
       "      <td>IFITM2</td>\n",
       "      <td>-0.005149</td>\n",
       "      <td>0.063010</td>\n",
       "      <td>9.355064e-01</td>\n",
       "      <td>1.715650</td>\n",
       "      <td>0.195346</td>\n",
       "      <td>1.870687e-06</td>\n",
       "      <td>0.000181</td>\n",
       "    </tr>\n",
       "    <tr>\n",
       "      <th>5387</th>\n",
       "      <td>IFITM1</td>\n",
       "      <td>-0.627829</td>\n",
       "      <td>0.081472</td>\n",
       "      <td>2.992694e-06</td>\n",
       "      <td>2.059088</td>\n",
       "      <td>0.224045</td>\n",
       "      <td>7.963828e-07</td>\n",
       "      <td>0.000135</td>\n",
       "    </tr>\n",
       "    <tr>\n",
       "      <th>5388</th>\n",
       "      <td>IFITM3</td>\n",
       "      <td>1.395832</td>\n",
       "      <td>0.038644</td>\n",
       "      <td>8.360456e-08</td>\n",
       "      <td>1.245325</td>\n",
       "      <td>0.166839</td>\n",
       "      <td>2.049080e-05</td>\n",
       "      <td>0.000776</td>\n",
       "    </tr>\n",
       "    <tr>\n",
       "      <th>5419</th>\n",
       "      <td>IFITM10</td>\n",
       "      <td>-0.080528</td>\n",
       "      <td>0.050648</td>\n",
       "      <td>1.134887e-01</td>\n",
       "      <td>0.986147</td>\n",
       "      <td>0.133919</td>\n",
       "      <td>1.405596e-05</td>\n",
       "      <td>0.000648</td>\n",
       "    </tr>\n",
       "  </tbody>\n",
       "</table>\n",
       "</div>"
      ],
      "text/plain": [
       "         gene   de_coef     de_se       de_pval   dv_coef     dv_se  \\\n",
       "5204    IFIT2 -0.469849  0.126272  4.148413e-04  2.978472  0.268455   \n",
       "5205    IFIT3 -0.020981  0.074616  7.867213e-01  2.309936  0.222861   \n",
       "5206    IFIT1  0.274242  0.061946  2.513746e-04  1.955586  0.145493   \n",
       "5207    IFIT5 -1.348701  0.077548  2.881267e-08  0.078432  0.434752   \n",
       "5386   IFITM2 -0.005149  0.063010  9.355064e-01  1.715650  0.195346   \n",
       "5387   IFITM1 -0.627829  0.081472  2.992694e-06  2.059088  0.224045   \n",
       "5388   IFITM3  1.395832  0.038644  8.360456e-08  1.245325  0.166839   \n",
       "5419  IFITM10 -0.080528  0.050648  1.134887e-01  0.986147  0.133919   \n",
       "\n",
       "           dv_pval    dv_fdr  \n",
       "5204  1.186644e-06  0.000161  \n",
       "5205  5.993851e-07  0.000118  \n",
       "5206  2.880817e-06  0.000230  \n",
       "5207  8.386161e-01  0.933328  \n",
       "5386  1.870687e-06  0.000181  \n",
       "5387  7.963828e-07  0.000135  \n",
       "5388  2.049080e-05  0.000776  \n",
       "5419  1.405596e-05  0.000648  "
      ]
     },
     "execution_count": 23,
     "metadata": {},
     "output_type": "execute_result"
    }
   ],
   "source": [
    "onesamp_ht_df.query('gene.str.contains(\"IFIT\")', engine='python')"
   ]
  },
  {
   "cell_type": "code",
   "execution_count": 22,
   "metadata": {},
   "outputs": [
    {
     "data": {
      "text/html": [
       "<div>\n",
       "<style scoped>\n",
       "    .dataframe tbody tr th:only-of-type {\n",
       "        vertical-align: middle;\n",
       "    }\n",
       "\n",
       "    .dataframe tbody tr th {\n",
       "        vertical-align: top;\n",
       "    }\n",
       "\n",
       "    .dataframe thead th {\n",
       "        text-align: right;\n",
       "    }\n",
       "</style>\n",
       "<table border=\"1\" class=\"dataframe\">\n",
       "  <thead>\n",
       "    <tr style=\"text-align: right;\">\n",
       "      <th></th>\n",
       "      <th>gene</th>\n",
       "      <th>de_coef</th>\n",
       "      <th>de_se</th>\n",
       "      <th>de_pval</th>\n",
       "      <th>dv_coef</th>\n",
       "      <th>dv_se</th>\n",
       "      <th>dv_pval</th>\n",
       "      <th>dv_fdr</th>\n",
       "    </tr>\n",
       "  </thead>\n",
       "  <tbody>\n",
       "    <tr>\n",
       "      <th>6275</th>\n",
       "      <td>LYZ</td>\n",
       "      <td>-1.246753</td>\n",
       "      <td>0.185773</td>\n",
       "      <td>3.312058e-05</td>\n",
       "      <td>3.591128</td>\n",
       "      <td>0.170380</td>\n",
       "      <td>6.448767e-11</td>\n",
       "      <td>6.545499e-07</td>\n",
       "    </tr>\n",
       "    <tr>\n",
       "      <th>3260</th>\n",
       "      <td>HIST1H1C</td>\n",
       "      <td>0.524990</td>\n",
       "      <td>0.064706</td>\n",
       "      <td>3.589962e-05</td>\n",
       "      <td>2.161812</td>\n",
       "      <td>0.152800</td>\n",
       "      <td>8.514976e-09</td>\n",
       "      <td>3.686604e-05</td>\n",
       "    </tr>\n",
       "    <tr>\n",
       "      <th>6920</th>\n",
       "      <td>FOS</td>\n",
       "      <td>0.977821</td>\n",
       "      <td>0.052956</td>\n",
       "      <td>2.176014e-07</td>\n",
       "      <td>1.754966</td>\n",
       "      <td>0.168476</td>\n",
       "      <td>1.089637e-08</td>\n",
       "      <td>3.686604e-05</td>\n",
       "    </tr>\n",
       "    <tr>\n",
       "      <th>6973</th>\n",
       "      <td>IFI27</td>\n",
       "      <td>2.746951</td>\n",
       "      <td>0.044891</td>\n",
       "      <td>1.196192e-05</td>\n",
       "      <td>1.449796</td>\n",
       "      <td>0.072404</td>\n",
       "      <td>1.467615e-08</td>\n",
       "      <td>3.724072e-05</td>\n",
       "    </tr>\n",
       "    <tr>\n",
       "      <th>7317</th>\n",
       "      <td>ISG20</td>\n",
       "      <td>0.521241</td>\n",
       "      <td>0.062227</td>\n",
       "      <td>1.115231e-05</td>\n",
       "      <td>2.138514</td>\n",
       "      <td>0.258798</td>\n",
       "      <td>2.153907e-08</td>\n",
       "      <td>4.372430e-05</td>\n",
       "    </tr>\n",
       "    <tr>\n",
       "      <th>...</th>\n",
       "      <td>...</td>\n",
       "      <td>...</td>\n",
       "      <td>...</td>\n",
       "      <td>...</td>\n",
       "      <td>...</td>\n",
       "      <td>...</td>\n",
       "      <td>...</td>\n",
       "      <td>...</td>\n",
       "    </tr>\n",
       "    <tr>\n",
       "      <th>4471</th>\n",
       "      <td>SNTB1</td>\n",
       "      <td>-2.061848</td>\n",
       "      <td>0.107142</td>\n",
       "      <td>2.262404e-07</td>\n",
       "      <td>-0.000647</td>\n",
       "      <td>0.736553</td>\n",
       "      <td>9.995000e-01</td>\n",
       "      <td>9.998971e-01</td>\n",
       "    </tr>\n",
       "    <tr>\n",
       "      <th>6703</th>\n",
       "      <td>METTL17</td>\n",
       "      <td>-1.663920</td>\n",
       "      <td>0.089123</td>\n",
       "      <td>1.391908e-06</td>\n",
       "      <td>-0.000693</td>\n",
       "      <td>0.694522</td>\n",
       "      <td>9.991001e-01</td>\n",
       "      <td>9.998971e-01</td>\n",
       "    </tr>\n",
       "    <tr>\n",
       "      <th>5734</th>\n",
       "      <td>AIP</td>\n",
       "      <td>-1.733756</td>\n",
       "      <td>0.087954</td>\n",
       "      <td>5.887837e-07</td>\n",
       "      <td>0.000667</td>\n",
       "      <td>0.736424</td>\n",
       "      <td>9.993001e-01</td>\n",
       "      <td>9.998971e-01</td>\n",
       "    </tr>\n",
       "    <tr>\n",
       "      <th>4872</th>\n",
       "      <td>CIZ1</td>\n",
       "      <td>-1.562946</td>\n",
       "      <td>0.082858</td>\n",
       "      <td>1.802978e-06</td>\n",
       "      <td>0.000097</td>\n",
       "      <td>0.486899</td>\n",
       "      <td>9.998000e-01</td>\n",
       "      <td>9.998985e-01</td>\n",
       "    </tr>\n",
       "    <tr>\n",
       "      <th>6279</th>\n",
       "      <td>RAB3IP</td>\n",
       "      <td>-0.303352</td>\n",
       "      <td>0.046161</td>\n",
       "      <td>9.538659e-06</td>\n",
       "      <td>0.000025</td>\n",
       "      <td>0.309788</td>\n",
       "      <td>1.000000e+00</td>\n",
       "      <td>1.000000e+00</td>\n",
       "    </tr>\n",
       "  </tbody>\n",
       "</table>\n",
       "<p>10150 rows × 8 columns</p>\n",
       "</div>"
      ],
      "text/plain": [
       "          gene   de_coef     de_se       de_pval   dv_coef     dv_se  \\\n",
       "6275       LYZ -1.246753  0.185773  3.312058e-05  3.591128  0.170380   \n",
       "3260  HIST1H1C  0.524990  0.064706  3.589962e-05  2.161812  0.152800   \n",
       "6920       FOS  0.977821  0.052956  2.176014e-07  1.754966  0.168476   \n",
       "6973     IFI27  2.746951  0.044891  1.196192e-05  1.449796  0.072404   \n",
       "7317     ISG20  0.521241  0.062227  1.115231e-05  2.138514  0.258798   \n",
       "...        ...       ...       ...           ...       ...       ...   \n",
       "4471     SNTB1 -2.061848  0.107142  2.262404e-07 -0.000647  0.736553   \n",
       "6703   METTL17 -1.663920  0.089123  1.391908e-06 -0.000693  0.694522   \n",
       "5734       AIP -1.733756  0.087954  5.887837e-07  0.000667  0.736424   \n",
       "4872      CIZ1 -1.562946  0.082858  1.802978e-06  0.000097  0.486899   \n",
       "6279    RAB3IP -0.303352  0.046161  9.538659e-06  0.000025  0.309788   \n",
       "\n",
       "           dv_pval        dv_fdr  \n",
       "6275  6.448767e-11  6.545499e-07  \n",
       "3260  8.514976e-09  3.686604e-05  \n",
       "6920  1.089637e-08  3.686604e-05  \n",
       "6973  1.467615e-08  3.724072e-05  \n",
       "7317  2.153907e-08  4.372430e-05  \n",
       "...            ...           ...  \n",
       "4471  9.995000e-01  9.998971e-01  \n",
       "6703  9.991001e-01  9.998971e-01  \n",
       "5734  9.993001e-01  9.998971e-01  \n",
       "4872  9.998000e-01  9.998985e-01  \n",
       "6279  1.000000e+00  1.000000e+00  \n",
       "\n",
       "[10150 rows x 8 columns]"
      ]
     },
     "execution_count": 22,
     "metadata": {},
     "output_type": "execute_result"
    }
   ],
   "source": [
    "onesamp_ht_df.sort_values('dv_fdr').head()"
   ]
  },
  {
   "cell_type": "code",
   "execution_count": 20,
   "metadata": {},
   "outputs": [],
   "source": [
    "with open('hv_genes.pkl', 'wb') as f:\n",
    "    pkl.dump(hv_genes, f)"
   ]
  },
  {
   "cell_type": "markdown",
   "metadata": {},
   "source": [
    "### Mean vs variability plots for ctrl cells"
   ]
  },
  {
   "cell_type": "code",
   "execution_count": 43,
   "metadata": {},
   "outputs": [],
   "source": [
    "m_df, v_df = memento.get_1d_moments(adata_ctrl, groupby='ALL')"
   ]
  },
  {
   "cell_type": "code",
   "execution_count": 45,
   "metadata": {},
   "outputs": [
    {
     "data": {
      "image/png": "[encoded data removed]",
      "text/plain": [
       "<Figure size 144x108 with 1 Axes>"
      ]
     },
     "metadata": {
      "needs_background": "light"
     },
     "output_type": "display_data"
    }
   ],
   "source": [
    "plt.figure(figsize=(2, 1.5))\n",
    "plt.scatter(m_df['ALL_sg'], v_df['ALL_sg'], s=0.1,color='gray')\n",
    "plt.scatter(m_df.query('gene in @hv_genes')['ALL_sg'], v_df.query('gene in @hv_genes')['ALL_sg'], s=1,color='orange')\n",
    "plt.xlabel('Mean'); plt.ylabel('Variability');\n",
    "plt.savefig(fig_path + 'm_vs_v_onesamp.png', bbox_inches='tight', dpi=300)\n"
   ]
  },
  {
   "cell_type": "markdown",
   "metadata": {},
   "source": [
    "### Check the result in PBMCs"
   ]
  },
  {
   "cell_type": "code",
   "execution_count": 12,
   "metadata": {},
   "outputs": [],
   "source": [
    "fig_path = '/home/ssm-user/Github/scrna-parameter-estimation/figures/fig4/supp/'\n",
    "data_path = '/data_volume/parameter_estimation/'"
   ]
  },
  {
   "cell_type": "markdown",
   "metadata": {},
   "source": [
    "#### Read PBMC dataset and setup memento"
   ]
  },
  {
   "cell_type": "code",
   "execution_count": 13,
   "metadata": {},
   "outputs": [],
   "source": [
    "cts = ['CD4 T cells',  'CD14+ Monocytes', 'FCGR3A+ Monocytes', 'NK cells','CD8 T cells', 'B cells']\n",
    "label_converter = dict(zip(cts, ['Th', 'cM', 'ncM', 'NK', 'Tc', 'B']))"
   ]
  },
  {
   "cell_type": "code",
   "execution_count": 14,
   "metadata": {},
   "outputs": [],
   "source": [
    "def simplify_name(name):\n",
    "    return name.split('.')[0]"
   ]
  },
  {
   "cell_type": "code",
   "execution_count": 15,
   "metadata": {},
   "outputs": [],
   "source": [
    "adata = sc.read(data_path + 'interferon_filtered.h5ad')"
   ]
  },
  {
   "cell_type": "code",
   "execution_count": 16,
   "metadata": {},
   "outputs": [],
   "source": [
    "adata.obs['q'] = 0.07"
   ]
  },
  {
   "cell_type": "code",
   "execution_count": 17,
   "metadata": {},
   "outputs": [],
   "source": [
    "memento.setup_memento(adata, q_column='q', trim_percent=0.1)"
   ]
  },
  {
   "cell_type": "markdown",
   "metadata": {},
   "source": [
    "#### Isolate the control cells and perform one sample test"
   ]
  },
  {
   "cell_type": "code",
   "execution_count": 20,
   "metadata": {},
   "outputs": [
    {
     "name": "stderr",
     "output_type": "stream",
     "text": [
      "/home/ssm-user/anaconda3/envs/single_cell/lib/python3.8/site-packages/pandas/core/arrays/categorical.py:2487: FutureWarning: The `inplace` parameter in pandas.Categorical.remove_unused_categories is deprecated and will be removed in a future version.\n",
      "  res = method(*args, **kwargs)\n"
     ]
    }
   ],
   "source": [
    "adata_ctrl = adata.copy()[(adata.obs['cell']=='CD14+ Monocytes') & (adata.obs['stim']=='stim')].copy()"
   ]
  },
  {
   "cell_type": "code",
   "execution_count": 21,
   "metadata": {},
   "outputs": [
    {
     "data": {
      "text/html": [
       "<div>\n",
       "<style scoped>\n",
       "    .dataframe tbody tr th:only-of-type {\n",
       "        vertical-align: middle;\n",
       "    }\n",
       "\n",
       "    .dataframe tbody tr th {\n",
       "        vertical-align: top;\n",
       "    }\n",
       "\n",
       "    .dataframe thead th {\n",
       "        text-align: right;\n",
       "    }\n",
       "</style>\n",
       "<table border=\"1\" class=\"dataframe\">\n",
       "  <thead>\n",
       "    <tr style=\"text-align: right;\">\n",
       "      <th></th>\n",
       "      <th>tsne1</th>\n",
       "      <th>tsne2</th>\n",
       "      <th>ind</th>\n",
       "      <th>stim</th>\n",
       "      <th>cluster</th>\n",
       "      <th>cell</th>\n",
       "      <th>multiplets</th>\n",
       "      <th>n_genes_by_counts</th>\n",
       "      <th>log1p_n_genes_by_counts</th>\n",
       "      <th>total_counts</th>\n",
       "      <th>log1p_total_counts</th>\n",
       "      <th>total_counts_mt</th>\n",
       "      <th>log1p_total_counts_mt</th>\n",
       "      <th>pct_counts_mt</th>\n",
       "      <th>total_counts_hb</th>\n",
       "      <th>log1p_total_counts_hb</th>\n",
       "      <th>pct_counts_hb</th>\n",
       "      <th>cell_type</th>\n",
       "      <th>q</th>\n",
       "      <th>memento_size_factor</th>\n",
       "    </tr>\n",
       "    <tr>\n",
       "      <th>index</th>\n",
       "      <th></th>\n",
       "      <th></th>\n",
       "      <th></th>\n",
       "      <th></th>\n",
       "      <th></th>\n",
       "      <th></th>\n",
       "      <th></th>\n",
       "      <th></th>\n",
       "      <th></th>\n",
       "      <th></th>\n",
       "      <th></th>\n",
       "      <th></th>\n",
       "      <th></th>\n",
       "      <th></th>\n",
       "      <th></th>\n",
       "      <th></th>\n",
       "      <th></th>\n",
       "      <th></th>\n",
       "      <th></th>\n",
       "      <th></th>\n",
       "    </tr>\n",
       "  </thead>\n",
       "  <tbody>\n",
       "    <tr>\n",
       "      <th>AAACATACGCGAAG-1</th>\n",
       "      <td>3.550854</td>\n",
       "      <td>35.214427</td>\n",
       "      <td>101</td>\n",
       "      <td>stim</td>\n",
       "      <td>8</td>\n",
       "      <td>CD14+ Monocytes</td>\n",
       "      <td>singlet</td>\n",
       "      <td>1319</td>\n",
       "      <td>7.185387</td>\n",
       "      <td>5312.0</td>\n",
       "      <td>8.577912</td>\n",
       "      <td>0.0</td>\n",
       "      <td>0.0</td>\n",
       "      <td>0.0</td>\n",
       "      <td>0.0</td>\n",
       "      <td>0.0</td>\n",
       "      <td>0.0</td>\n",
       "      <td>CD14+ Monocytes - stim</td>\n",
       "      <td>0.07</td>\n",
       "      <td>1.528051</td>\n",
       "    </tr>\n",
       "    <tr>\n",
       "      <th>AAACATACTCAGGT-1</th>\n",
       "      <td>6.290151</td>\n",
       "      <td>26.974231</td>\n",
       "      <td>1016</td>\n",
       "      <td>stim</td>\n",
       "      <td>8</td>\n",
       "      <td>CD14+ Monocytes</td>\n",
       "      <td>singlet</td>\n",
       "      <td>563</td>\n",
       "      <td>6.335054</td>\n",
       "      <td>2152.0</td>\n",
       "      <td>7.674617</td>\n",
       "      <td>0.0</td>\n",
       "      <td>0.0</td>\n",
       "      <td>0.0</td>\n",
       "      <td>0.0</td>\n",
       "      <td>0.0</td>\n",
       "      <td>0.0</td>\n",
       "      <td>CD14+ Monocytes - stim</td>\n",
       "      <td>0.07</td>\n",
       "      <td>0.912694</td>\n",
       "    </tr>\n",
       "  </tbody>\n",
       "</table>\n",
       "</div>"
      ],
      "text/plain": [
       "                     tsne1      tsne2   ind  stim cluster             cell  \\\n",
       "index                                                                        \n",
       "AAACATACGCGAAG-1  3.550854  35.214427   101  stim       8  CD14+ Monocytes   \n",
       "AAACATACTCAGGT-1  6.290151  26.974231  1016  stim       8  CD14+ Monocytes   \n",
       "\n",
       "                 multiplets  n_genes_by_counts  log1p_n_genes_by_counts  \\\n",
       "index                                                                     \n",
       "AAACATACGCGAAG-1    singlet               1319                 7.185387   \n",
       "AAACATACTCAGGT-1    singlet                563                 6.335054   \n",
       "\n",
       "                  total_counts  log1p_total_counts  total_counts_mt  \\\n",
       "index                                                                 \n",
       "AAACATACGCGAAG-1        5312.0            8.577912              0.0   \n",
       "AAACATACTCAGGT-1        2152.0            7.674617              0.0   \n",
       "\n",
       "                  log1p_total_counts_mt  pct_counts_mt  total_counts_hb  \\\n",
       "index                                                                     \n",
       "AAACATACGCGAAG-1                    0.0            0.0              0.0   \n",
       "AAACATACTCAGGT-1                    0.0            0.0              0.0   \n",
       "\n",
       "                  log1p_total_counts_hb  pct_counts_hb  \\\n",
       "index                                                    \n",
       "AAACATACGCGAAG-1                    0.0            0.0   \n",
       "AAACATACTCAGGT-1                    0.0            0.0   \n",
       "\n",
       "                               cell_type     q  memento_size_factor  \n",
       "index                                                                \n",
       "AAACATACGCGAAG-1  CD14+ Monocytes - stim  0.07             1.528051  \n",
       "AAACATACTCAGGT-1  CD14+ Monocytes - stim  0.07             0.912694  "
      ]
     },
     "execution_count": 21,
     "metadata": {},
     "output_type": "execute_result"
    }
   ],
   "source": [
    "adata_ctrl.obs.head(2)"
   ]
  },
  {
   "cell_type": "code",
   "execution_count": 22,
   "metadata": {},
   "outputs": [],
   "source": [
    "memento.create_groups(adata_ctrl, label_columns=['ind'])"
   ]
  },
  {
   "cell_type": "code",
   "execution_count": 23,
   "metadata": {},
   "outputs": [
    {
     "name": "stderr",
     "output_type": "stream",
     "text": [
      "/home/ssm-user/anaconda3/envs/single_cell/lib/python3.8/site-packages/pandas/core/arrays/categorical.py:2487: FutureWarning: The `inplace` parameter in pandas.Categorical.remove_unused_categories is deprecated and will be removed in a future version.\n",
      "  res = method(*args, **kwargs)\n",
      "/home/ssm-user/Github/scrna-parameter-estimation/dist/memento-0.0.5-py3.8.egg/memento/estimator.py:105: RuntimeWarning: invalid value encountered in log\n"
     ]
    }
   ],
   "source": [
    "memento.compute_1d_moments(adata_ctrl, min_perc_group=.7)"
   ]
  },
  {
   "cell_type": "code",
   "execution_count": 24,
   "metadata": {},
   "outputs": [
    {
     "name": "stderr",
     "output_type": "stream",
     "text": [
      "[Parallel(n_jobs=13)]: Using backend LokyBackend with 13 concurrent workers.\n",
      "[Parallel(n_jobs=13)]: Done  24 tasks      | elapsed:    3.9s\n",
      "[Parallel(n_jobs=13)]: Done 174 tasks      | elapsed:   13.3s\n",
      "[Parallel(n_jobs=13)]: Done 424 tasks      | elapsed:   27.6s\n",
      "[Parallel(n_jobs=13)]: Done 774 tasks      | elapsed:   49.5s\n",
      "[Parallel(n_jobs=13)]: Done 1224 tasks      | elapsed:  1.3min\n",
      "[Parallel(n_jobs=13)]: Done 1774 tasks      | elapsed:  1.8min\n",
      "[Parallel(n_jobs=13)]: Done 1938 out of 1938 | elapsed:  2.0min finished\n"
     ]
    }
   ],
   "source": [
    "memento.ht_1d_moments(\n",
    "    adata_ctrl,\n",
    "    formula_like='1',\n",
    "    cov_column='Inter',\n",
    "    num_boot=10000, \n",
    "    verbose=1,\n",
    "    num_cpus=13)"
   ]
  },
  {
   "cell_type": "code",
   "execution_count": 25,
   "metadata": {},
   "outputs": [],
   "source": [
    "onesamp_ht_df = memento.get_1d_ht_result(adata_ctrl)"
   ]
  },
  {
   "cell_type": "code",
   "execution_count": 26,
   "metadata": {},
   "outputs": [],
   "source": [
    "onesamp_ht_df['dv_fdr'] = memento.util._fdrcorrect(onesamp_ht_df['dv_pval'])"
   ]
  },
  {
   "cell_type": "code",
   "execution_count": 27,
   "metadata": {},
   "outputs": [],
   "source": [
    "hv_genes = onesamp_ht_df.query('dv_fdr < 0.001 & dv_coef > 0').gene.tolist()\n",
    "lv_genes = onesamp_ht_df.query('dv_fdr < 0.001 & dv_coef < 0').gene.tolist()"
   ]
  },
  {
   "cell_type": "code",
   "execution_count": 28,
   "metadata": {},
   "outputs": [],
   "source": [
    "# for gene in hv_genes:\n",
    "#     print(gene)"
   ]
  },
  {
   "cell_type": "code",
   "execution_count": 33,
   "metadata": {},
   "outputs": [],
   "source": [
    "m_df, v_df = memento.get_1d_moments(adata_ctrl, groupby='ALL')"
   ]
  },
  {
   "cell_type": "code",
   "execution_count": 38,
   "metadata": {},
   "outputs": [
    {
     "data": {
      "image/png": "[encoded data removed]",
      "text/plain": [
       "<Figure size 288x216 with 1 Axes>"
      ]
     },
     "metadata": {
      "needs_background": "light"
     },
     "output_type": "display_data"
    }
   ],
   "source": [
    "plt.figure(figsize=(4, 3))\n",
    "plt.scatter(m_df['ALL_sg'], v_df['ALL_sg'], s=0.1,color='gray')\n",
    "plt.scatter(m_df.query('gene in @hv_genes')['ALL_sg'], v_df.query('gene in @hv_genes')['ALL_sg'], s=1,color='orange')\n",
    "plt.xlabel('Mean'); plt.ylabel('Variability');\n",
    "plt.savefig(fig_path + 'm_vs_v_onesamp_pbmc.png', bbox_inches='tight', dpi=300)\n"
   ]
  },
  {
   "cell_type": "code",
   "execution_count": 36,
   "metadata": {},
   "outputs": [
    {
     "data": {
      "text/html": [
       "<div>\n",
       "<style scoped>\n",
       "    .dataframe tbody tr th:only-of-type {\n",
       "        vertical-align: middle;\n",
       "    }\n",
       "\n",
       "    .dataframe tbody tr th {\n",
       "        vertical-align: top;\n",
       "    }\n",
       "\n",
       "    .dataframe thead th {\n",
       "        text-align: right;\n",
       "    }\n",
       "</style>\n",
       "<table border=\"1\" class=\"dataframe\">\n",
       "  <thead>\n",
       "    <tr style=\"text-align: right;\">\n",
       "      <th></th>\n",
       "      <th>gene</th>\n",
       "      <th>de_coef</th>\n",
       "      <th>de_se</th>\n",
       "      <th>de_pval</th>\n",
       "      <th>dv_coef</th>\n",
       "      <th>dv_se</th>\n",
       "      <th>dv_pval</th>\n",
       "      <th>dv_fdr</th>\n",
       "    </tr>\n",
       "  </thead>\n",
       "  <tbody>\n",
       "    <tr>\n",
       "      <th>295</th>\n",
       "      <td>IL1B</td>\n",
       "      <td>-2.010218</td>\n",
       "      <td>0.200637</td>\n",
       "      <td>1.685939e-05</td>\n",
       "      <td>3.740840</td>\n",
       "      <td>0.342575</td>\n",
       "      <td>9.414523e-10</td>\n",
       "      <td>9.122672e-07</td>\n",
       "    </tr>\n",
       "    <tr>\n",
       "      <th>280</th>\n",
       "      <td>GNLY</td>\n",
       "      <td>-2.336887</td>\n",
       "      <td>0.178715</td>\n",
       "      <td>1.062464e-06</td>\n",
       "      <td>3.196390</td>\n",
       "      <td>0.338151</td>\n",
       "      <td>3.151618e-07</td>\n",
       "      <td>2.035945e-05</td>\n",
       "    </tr>\n",
       "    <tr>\n",
       "      <th>1599</th>\n",
       "      <td>CCL4</td>\n",
       "      <td>1.829208</td>\n",
       "      <td>0.060254</td>\n",
       "      <td>1.891437e-08</td>\n",
       "      <td>3.194377</td>\n",
       "      <td>0.103889</td>\n",
       "      <td>1.022157e-08</td>\n",
       "      <td>3.170909e-06</td>\n",
       "    </tr>\n",
       "    <tr>\n",
       "      <th>1598</th>\n",
       "      <td>CCL3</td>\n",
       "      <td>1.894398</td>\n",
       "      <td>0.051078</td>\n",
       "      <td>8.075448e-10</td>\n",
       "      <td>3.052662</td>\n",
       "      <td>0.159610</td>\n",
       "      <td>2.131682e-07</td>\n",
       "      <td>1.530074e-05</td>\n",
       "    </tr>\n",
       "    <tr>\n",
       "      <th>1509</th>\n",
       "      <td>NUPR1</td>\n",
       "      <td>-1.053738</td>\n",
       "      <td>0.088842</td>\n",
       "      <td>1.710292e-04</td>\n",
       "      <td>2.981152</td>\n",
       "      <td>0.126372</td>\n",
       "      <td>1.002254e-07</td>\n",
       "      <td>9.249370e-06</td>\n",
       "    </tr>\n",
       "    <tr>\n",
       "      <th>1102</th>\n",
       "      <td>HBB</td>\n",
       "      <td>-1.452393</td>\n",
       "      <td>0.136822</td>\n",
       "      <td>8.506516e-06</td>\n",
       "      <td>2.978186</td>\n",
       "      <td>0.420924</td>\n",
       "      <td>2.290646e-08</td>\n",
       "      <td>3.170909e-06</td>\n",
       "    </tr>\n",
       "    <tr>\n",
       "      <th>489</th>\n",
       "      <td>CXCL3</td>\n",
       "      <td>-0.541382</td>\n",
       "      <td>0.079517</td>\n",
       "      <td>4.171528e-04</td>\n",
       "      <td>2.900144</td>\n",
       "      <td>0.106330</td>\n",
       "      <td>6.977687e-07</td>\n",
       "      <td>3.467374e-05</td>\n",
       "    </tr>\n",
       "    <tr>\n",
       "      <th>1605</th>\n",
       "      <td>CCR7</td>\n",
       "      <td>-1.555124</td>\n",
       "      <td>0.093630</td>\n",
       "      <td>1.050379e-06</td>\n",
       "      <td>2.783267</td>\n",
       "      <td>0.200630</td>\n",
       "      <td>2.216089e-08</td>\n",
       "      <td>3.170909e-06</td>\n",
       "    </tr>\n",
       "    <tr>\n",
       "      <th>1600</th>\n",
       "      <td>CCL3L1</td>\n",
       "      <td>-2.046472</td>\n",
       "      <td>0.123018</td>\n",
       "      <td>1.458550e-06</td>\n",
       "      <td>2.684193</td>\n",
       "      <td>0.262395</td>\n",
       "      <td>6.184054e-07</td>\n",
       "      <td>3.153867e-05</td>\n",
       "    </tr>\n",
       "    <tr>\n",
       "      <th>487</th>\n",
       "      <td>IL8</td>\n",
       "      <td>0.399955</td>\n",
       "      <td>0.052920</td>\n",
       "      <td>5.748862e-06</td>\n",
       "      <td>2.666414</td>\n",
       "      <td>0.081006</td>\n",
       "      <td>7.954302e-08</td>\n",
       "      <td>8.113388e-06</td>\n",
       "    </tr>\n",
       "    <tr>\n",
       "      <th>488</th>\n",
       "      <td>PPBP</td>\n",
       "      <td>-2.250149</td>\n",
       "      <td>0.120692</td>\n",
       "      <td>4.943290e-07</td>\n",
       "      <td>2.663486</td>\n",
       "      <td>0.226280</td>\n",
       "      <td>9.274533e-10</td>\n",
       "      <td>9.122672e-07</td>\n",
       "    </tr>\n",
       "    <tr>\n",
       "      <th>500</th>\n",
       "      <td>PLAC8</td>\n",
       "      <td>-0.872614</td>\n",
       "      <td>0.075757</td>\n",
       "      <td>8.175422e-07</td>\n",
       "      <td>2.587580</td>\n",
       "      <td>0.137904</td>\n",
       "      <td>1.966067e-09</td>\n",
       "      <td>1.197565e-06</td>\n",
       "    </tr>\n",
       "    <tr>\n",
       "      <th>1411</th>\n",
       "      <td>IFI27</td>\n",
       "      <td>1.625292</td>\n",
       "      <td>0.041341</td>\n",
       "      <td>2.073266e-07</td>\n",
       "      <td>2.526444</td>\n",
       "      <td>0.040050</td>\n",
       "      <td>2.138578e-05</td>\n",
       "      <td>3.003308e-04</td>\n",
       "    </tr>\n",
       "    <tr>\n",
       "      <th>1593</th>\n",
       "      <td>CCL7</td>\n",
       "      <td>2.165320</td>\n",
       "      <td>0.038421</td>\n",
       "      <td>2.605448e-09</td>\n",
       "      <td>2.504394</td>\n",
       "      <td>0.042376</td>\n",
       "      <td>6.347190e-06</td>\n",
       "      <td>1.307515e-04</td>\n",
       "    </tr>\n",
       "    <tr>\n",
       "      <th>1597</th>\n",
       "      <td>CCL5</td>\n",
       "      <td>-1.698227</td>\n",
       "      <td>0.093396</td>\n",
       "      <td>6.131981e-07</td>\n",
       "      <td>2.470612</td>\n",
       "      <td>0.191066</td>\n",
       "      <td>3.398140e-07</td>\n",
       "      <td>2.124386e-05</td>\n",
       "    </tr>\n",
       "    <tr>\n",
       "      <th>1678</th>\n",
       "      <td>SERPINB2</td>\n",
       "      <td>-1.710752</td>\n",
       "      <td>0.097947</td>\n",
       "      <td>2.090833e-06</td>\n",
       "      <td>2.419651</td>\n",
       "      <td>0.093010</td>\n",
       "      <td>2.145895e-06</td>\n",
       "      <td>6.601181e-05</td>\n",
       "    </tr>\n",
       "    <tr>\n",
       "      <th>924</th>\n",
       "      <td>FABP5</td>\n",
       "      <td>-1.035199</td>\n",
       "      <td>0.068074</td>\n",
       "      <td>1.212035e-04</td>\n",
       "      <td>2.387488</td>\n",
       "      <td>0.105599</td>\n",
       "      <td>1.868609e-08</td>\n",
       "      <td>3.170909e-06</td>\n",
       "    </tr>\n",
       "    <tr>\n",
       "      <th>292</th>\n",
       "      <td>IL1R2</td>\n",
       "      <td>-2.536779</td>\n",
       "      <td>0.113975</td>\n",
       "      <td>7.290075e-05</td>\n",
       "      <td>2.007252</td>\n",
       "      <td>0.231302</td>\n",
       "      <td>1.571156e-06</td>\n",
       "      <td>5.638705e-05</td>\n",
       "    </tr>\n",
       "    <tr>\n",
       "      <th>1003</th>\n",
       "      <td>HSPA5</td>\n",
       "      <td>-0.220803</td>\n",
       "      <td>0.046685</td>\n",
       "      <td>6.584536e-04</td>\n",
       "      <td>1.990099</td>\n",
       "      <td>0.107735</td>\n",
       "      <td>7.047283e-05</td>\n",
       "      <td>7.812715e-04</td>\n",
       "    </tr>\n",
       "    <tr>\n",
       "      <th>1301</th>\n",
       "      <td>SDS</td>\n",
       "      <td>0.097397</td>\n",
       "      <td>0.041628</td>\n",
       "      <td>2.239776e-02</td>\n",
       "      <td>1.910366</td>\n",
       "      <td>0.051411</td>\n",
       "      <td>1.039421e-06</td>\n",
       "      <td>4.338742e-05</td>\n",
       "    </tr>\n",
       "  </tbody>\n",
       "</table>\n",
       "</div>"
      ],
      "text/plain": [
       "          gene   de_coef     de_se       de_pval   dv_coef     dv_se  \\\n",
       "295       IL1B -2.010218  0.200637  1.685939e-05  3.740840  0.342575   \n",
       "280       GNLY -2.336887  0.178715  1.062464e-06  3.196390  0.338151   \n",
       "1599      CCL4  1.829208  0.060254  1.891437e-08  3.194377  0.103889   \n",
       "1598      CCL3  1.894398  0.051078  8.075448e-10  3.052662  0.159610   \n",
       "1509     NUPR1 -1.053738  0.088842  1.710292e-04  2.981152  0.126372   \n",
       "1102       HBB -1.452393  0.136822  8.506516e-06  2.978186  0.420924   \n",
       "489      CXCL3 -0.541382  0.079517  4.171528e-04  2.900144  0.106330   \n",
       "1605      CCR7 -1.555124  0.093630  1.050379e-06  2.783267  0.200630   \n",
       "1600    CCL3L1 -2.046472  0.123018  1.458550e-06  2.684193  0.262395   \n",
       "487        IL8  0.399955  0.052920  5.748862e-06  2.666414  0.081006   \n",
       "488       PPBP -2.250149  0.120692  4.943290e-07  2.663486  0.226280   \n",
       "500      PLAC8 -0.872614  0.075757  8.175422e-07  2.587580  0.137904   \n",
       "1411     IFI27  1.625292  0.041341  2.073266e-07  2.526444  0.040050   \n",
       "1593      CCL7  2.165320  0.038421  2.605448e-09  2.504394  0.042376   \n",
       "1597      CCL5 -1.698227  0.093396  6.131981e-07  2.470612  0.191066   \n",
       "1678  SERPINB2 -1.710752  0.097947  2.090833e-06  2.419651  0.093010   \n",
       "924      FABP5 -1.035199  0.068074  1.212035e-04  2.387488  0.105599   \n",
       "292      IL1R2 -2.536779  0.113975  7.290075e-05  2.007252  0.231302   \n",
       "1003     HSPA5 -0.220803  0.046685  6.584536e-04  1.990099  0.107735   \n",
       "1301       SDS  0.097397  0.041628  2.239776e-02  1.910366  0.051411   \n",
       "\n",
       "           dv_pval        dv_fdr  \n",
       "295   9.414523e-10  9.122672e-07  \n",
       "280   3.151618e-07  2.035945e-05  \n",
       "1599  1.022157e-08  3.170909e-06  \n",
       "1598  2.131682e-07  1.530074e-05  \n",
       "1509  1.002254e-07  9.249370e-06  \n",
       "1102  2.290646e-08  3.170909e-06  \n",
       "489   6.977687e-07  3.467374e-05  \n",
       "1605  2.216089e-08  3.170909e-06  \n",
       "1600  6.184054e-07  3.153867e-05  \n",
       "487   7.954302e-08  8.113388e-06  \n",
       "488   9.274533e-10  9.122672e-07  \n",
       "500   1.966067e-09  1.197565e-06  \n",
       "1411  2.138578e-05  3.003308e-04  \n",
       "1593  6.347190e-06  1.307515e-04  \n",
       "1597  3.398140e-07  2.124386e-05  \n",
       "1678  2.145895e-06  6.601181e-05  \n",
       "924   1.868609e-08  3.170909e-06  \n",
       "292   1.571156e-06  5.638705e-05  \n",
       "1003  7.047283e-05  7.812715e-04  \n",
       "1301  1.039421e-06  4.338742e-05  "
      ]
     },
     "execution_count": 36,
     "metadata": {},
     "output_type": "execute_result"
    }
   ],
   "source": [
    "onesamp_ht_df.sort_values('dv_coef', ascending=False).head(20)"
   ]
  },
  {
   "cell_type": "code",
   "execution_count": 29,
   "metadata": {},
   "outputs": [
    {
     "data": {
      "text/html": [
       "<div>\n",
       "<style scoped>\n",
       "    .dataframe tbody tr th:only-of-type {\n",
       "        vertical-align: middle;\n",
       "    }\n",
       "\n",
       "    .dataframe tbody tr th {\n",
       "        vertical-align: top;\n",
       "    }\n",
       "\n",
       "    .dataframe thead th {\n",
       "        text-align: right;\n",
       "    }\n",
       "</style>\n",
       "<table border=\"1\" class=\"dataframe\">\n",
       "  <thead>\n",
       "    <tr style=\"text-align: right;\">\n",
       "      <th></th>\n",
       "      <th>gene</th>\n",
       "      <th>de_coef</th>\n",
       "      <th>de_se</th>\n",
       "      <th>de_pval</th>\n",
       "      <th>dv_coef</th>\n",
       "      <th>dv_se</th>\n",
       "      <th>dv_pval</th>\n",
       "      <th>dv_fdr</th>\n",
       "    </tr>\n",
       "  </thead>\n",
       "  <tbody>\n",
       "    <tr>\n",
       "      <th>1062</th>\n",
       "      <td>IFIT2</td>\n",
       "      <td>2.123506</td>\n",
       "      <td>0.016047</td>\n",
       "      <td>2.519822e-10</td>\n",
       "      <td>0.664085</td>\n",
       "      <td>0.053250</td>\n",
       "      <td>8.676343e-06</td>\n",
       "      <td>0.000155</td>\n",
       "    </tr>\n",
       "    <tr>\n",
       "      <th>1063</th>\n",
       "      <td>IFIT3</td>\n",
       "      <td>2.360893</td>\n",
       "      <td>0.014359</td>\n",
       "      <td>4.376796e-06</td>\n",
       "      <td>0.343397</td>\n",
       "      <td>0.039582</td>\n",
       "      <td>9.831944e-06</td>\n",
       "      <td>0.000171</td>\n",
       "    </tr>\n",
       "    <tr>\n",
       "      <th>1064</th>\n",
       "      <td>IFIT1</td>\n",
       "      <td>2.250409</td>\n",
       "      <td>0.014361</td>\n",
       "      <td>1.355806e-10</td>\n",
       "      <td>0.424394</td>\n",
       "      <td>0.039500</td>\n",
       "      <td>1.182113e-05</td>\n",
       "      <td>0.000194</td>\n",
       "    </tr>\n",
       "    <tr>\n",
       "      <th>1065</th>\n",
       "      <td>IFIT5</td>\n",
       "      <td>-1.460855</td>\n",
       "      <td>0.051044</td>\n",
       "      <td>1.509962e-07</td>\n",
       "      <td>0.025312</td>\n",
       "      <td>0.247138</td>\n",
       "      <td>9.143086e-01</td>\n",
       "      <td>0.956234</td>\n",
       "    </tr>\n",
       "    <tr>\n",
       "      <th>1086</th>\n",
       "      <td>IFITM2</td>\n",
       "      <td>1.065460</td>\n",
       "      <td>0.015153</td>\n",
       "      <td>1.328423e-05</td>\n",
       "      <td>-0.423400</td>\n",
       "      <td>0.076280</td>\n",
       "      <td>8.121454e-05</td>\n",
       "      <td>0.000865</td>\n",
       "    </tr>\n",
       "    <tr>\n",
       "      <th>1087</th>\n",
       "      <td>IFITM1</td>\n",
       "      <td>-1.098009</td>\n",
       "      <td>0.036997</td>\n",
       "      <td>1.352632e-08</td>\n",
       "      <td>-0.647516</td>\n",
       "      <td>0.259061</td>\n",
       "      <td>3.449655e-02</td>\n",
       "      <td>0.130320</td>\n",
       "    </tr>\n",
       "    <tr>\n",
       "      <th>1088</th>\n",
       "      <td>IFITM3</td>\n",
       "      <td>2.743918</td>\n",
       "      <td>0.007590</td>\n",
       "      <td>1.333677e-06</td>\n",
       "      <td>-1.239418</td>\n",
       "      <td>0.054461</td>\n",
       "      <td>4.073864e-07</td>\n",
       "      <td>0.000025</td>\n",
       "    </tr>\n",
       "  </tbody>\n",
       "</table>\n",
       "</div>"
      ],
      "text/plain": [
       "        gene   de_coef     de_se       de_pval   dv_coef     dv_se  \\\n",
       "1062   IFIT2  2.123506  0.016047  2.519822e-10  0.664085  0.053250   \n",
       "1063   IFIT3  2.360893  0.014359  4.376796e-06  0.343397  0.039582   \n",
       "1064   IFIT1  2.250409  0.014361  1.355806e-10  0.424394  0.039500   \n",
       "1065   IFIT5 -1.460855  0.051044  1.509962e-07  0.025312  0.247138   \n",
       "1086  IFITM2  1.065460  0.015153  1.328423e-05 -0.423400  0.076280   \n",
       "1087  IFITM1 -1.098009  0.036997  1.352632e-08 -0.647516  0.259061   \n",
       "1088  IFITM3  2.743918  0.007590  1.333677e-06 -1.239418  0.054461   \n",
       "\n",
       "           dv_pval    dv_fdr  \n",
       "1062  8.676343e-06  0.000155  \n",
       "1063  9.831944e-06  0.000171  \n",
       "1064  1.182113e-05  0.000194  \n",
       "1065  9.143086e-01  0.956234  \n",
       "1086  8.121454e-05  0.000865  \n",
       "1087  3.449655e-02  0.130320  \n",
       "1088  4.073864e-07  0.000025  "
      ]
     },
     "execution_count": 29,
     "metadata": {},
     "output_type": "execute_result"
    }
   ],
   "source": [
    "onesamp_ht_df.query('gene.str.contains(\"IFIT\")', engine='python')"
   ]
  },
  {
   "cell_type": "code",
   "execution_count": null,
   "metadata": {},
   "outputs": [],
   "source": []
  }
 ],
 "metadata": {
  "kernelspec": {
   "display_name": "Python 3",
   "language": "python",
   "name": "python3"
  },
  "language_info": {
   "codemirror_mode": {
    "name": "ipython",
    "version": 3
   },
   "file_extension": ".py",
   "mimetype": "text/x-python",
   "name": "python",
   "nbconvert_exporter": "python",
   "pygments_lexer": "ipython3",
   "version": "3.8.8"
  }
 },
 "nbformat": 4,
 "nbformat_minor": 4
}
