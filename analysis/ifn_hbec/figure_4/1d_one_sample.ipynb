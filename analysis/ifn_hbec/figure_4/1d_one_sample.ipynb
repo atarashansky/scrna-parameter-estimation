{
 "cells": [
  {
   "cell_type": "markdown",
   "metadata": {},
   "source": [
    "# Perform one sample test in control cells"
   ]
  },
  {
   "cell_type": "code",
   "execution_count": 1,
   "metadata": {},
   "outputs": [],
   "source": [
    "import scanpy as sc\n",
    "import seaborn as sns\n",
    "import pandas as pd\n",
    "import matplotlib.pyplot as plt\n",
    "import numpy as np\n",
    "import scipy.stats as stats\n",
    "from pybedtools import BedTool\n",
    "import pickle as pkl\n",
    "%matplotlib inline"
   ]
  },
  {
   "cell_type": "code",
   "execution_count": 2,
   "metadata": {},
   "outputs": [],
   "source": [
    "import sys\n",
    "sys.path.append('/home/ssm-user/Github/scrna-parameter-estimation/dist/memento-0.0.5-py3.8.egg')\n",
    "sys.path.append('/home/ssm-user/Github/misc-seq/miscseq/')\n",
    "import encode\n",
    "import memento"
   ]
  },
  {
   "cell_type": "code",
   "execution_count": 3,
   "metadata": {},
   "outputs": [],
   "source": [
    "data_path = '/data_volume/ifn_hbec/'"
   ]
  },
  {
   "cell_type": "markdown",
   "metadata": {},
   "source": [
    "### Read the processed RNA data\n",
    "\n",
    "Focus on the club and bc/club cells and type I interferons for now.\n",
    "\n",
    "Encode the timestamps to integers."
   ]
  },
  {
   "cell_type": "raw",
   "metadata": {},
   "source": [
    "adata_processed = sc.read(data_path + 'HBEC_type_I_processed.h5ad')"
   ]
  },
  {
   "cell_type": "code",
   "execution_count": 4,
   "metadata": {},
   "outputs": [],
   "source": [
    "adata = sc.read(data_path + 'HBEC_type_I_filtered_counts_deep.h5ad')"
   ]
  },
  {
   "cell_type": "code",
   "execution_count": 5,
   "metadata": {},
   "outputs": [
    {
     "name": "stderr",
     "output_type": "stream",
     "text": [
      "/home/ssm-user/anaconda3/envs/single_cell/lib/python3.8/site-packages/pandas/core/arrays/categorical.py:2487: FutureWarning: The `inplace` parameter in pandas.Categorical.remove_unused_categories is deprecated and will be removed in a future version.\n",
      "  res = method(*args, **kwargs)\n"
     ]
    }
   ],
   "source": [
    "adata = adata[:, ~adata.var.index.str.startswith('MT-')].copy()\n",
    "adata.obs['cell_type'] = adata.obs['cell_type'].apply(lambda x: x if x != 'basal/club' else 'bc')\n",
    "adata.obs['cell_type'] = adata.obs['cell_type'].apply(lambda x: x if x != 'ionocyte/tuft' else 'ion-tuft')"
   ]
  },
  {
   "cell_type": "raw",
   "metadata": {},
   "source": [
    "sc.pl.umap(adata_processed, color=['cell_type', 'time', 'stim'])"
   ]
  },
  {
   "cell_type": "code",
   "execution_count": 6,
   "metadata": {},
   "outputs": [
    {
     "data": {
      "text/plain": [
       "(69958, 36588)"
      ]
     },
     "execution_count": 6,
     "metadata": {},
     "output_type": "execute_result"
    }
   ],
   "source": [
    "adata.shape"
   ]
  },
  {
   "cell_type": "markdown",
   "metadata": {},
   "source": [
    "### Setup memento"
   ]
  },
  {
   "cell_type": "code",
   "execution_count": 7,
   "metadata": {},
   "outputs": [],
   "source": [
    "def assign_q(batch):\n",
    "    \n",
    "    if batch == 0:\n",
    "        return 0.387*0.25\n",
    "    elif batch == 1:\n",
    "        return 0.392*0.25\n",
    "    elif batch == 2:\n",
    "        return 0.436*0.25\n",
    "    else:\n",
    "        return 0.417*0.25"
   ]
  },
  {
   "cell_type": "code",
   "execution_count": 8,
   "metadata": {},
   "outputs": [],
   "source": [
    "adata.obs['q'] = adata.obs['batch'].apply(assign_q)"
   ]
  },
  {
   "cell_type": "code",
   "execution_count": 9,
   "metadata": {},
   "outputs": [],
   "source": [
    "memento.setup_memento(adata, q_column='q')"
   ]
  },
  {
   "cell_type": "code",
   "execution_count": 10,
   "metadata": {},
   "outputs": [
    {
     "data": {
      "text/html": [
       "<div>\n",
       "<style scoped>\n",
       "    .dataframe tbody tr th:only-of-type {\n",
       "        vertical-align: middle;\n",
       "    }\n",
       "\n",
       "    .dataframe tbody tr th {\n",
       "        vertical-align: top;\n",
       "    }\n",
       "\n",
       "    .dataframe thead th {\n",
       "        text-align: right;\n",
       "    }\n",
       "</style>\n",
       "<table border=\"1\" class=\"dataframe\">\n",
       "  <thead>\n",
       "    <tr style=\"text-align: right;\">\n",
       "      <th></th>\n",
       "      <th>NUM.SNPS</th>\n",
       "      <th>BEST.GUESS</th>\n",
       "      <th>DROPLET.TYPE</th>\n",
       "      <th>batch</th>\n",
       "      <th>HTO_classification</th>\n",
       "      <th>condition</th>\n",
       "      <th>donor</th>\n",
       "      <th>stim</th>\n",
       "      <th>time</th>\n",
       "      <th>n_genes</th>\n",
       "      <th>n_genes_by_counts</th>\n",
       "      <th>total_counts</th>\n",
       "      <th>total_counts_mt</th>\n",
       "      <th>pct_counts_mt</th>\n",
       "      <th>leiden</th>\n",
       "      <th>cell_type</th>\n",
       "      <th>q</th>\n",
       "      <th>memento_size_factor</th>\n",
       "    </tr>\n",
       "  </thead>\n",
       "  <tbody>\n",
       "    <tr>\n",
       "      <th>AAACCCAAGGAAGTAG-1</th>\n",
       "      <td>1700</td>\n",
       "      <td>donor0</td>\n",
       "      <td>SNG</td>\n",
       "      <td>0</td>\n",
       "      <td>hash-10</td>\n",
       "      <td>d2513_lambda_9</td>\n",
       "      <td>d2513</td>\n",
       "      <td>lambda</td>\n",
       "      <td>9</td>\n",
       "      <td>4297</td>\n",
       "      <td>4297</td>\n",
       "      <td>12191.0</td>\n",
       "      <td>1394.0</td>\n",
       "      <td>11.434665</td>\n",
       "      <td>3</td>\n",
       "      <td>ciliated</td>\n",
       "      <td>0.10425</td>\n",
       "      <td>0.955289</td>\n",
       "    </tr>\n",
       "    <tr>\n",
       "      <th>AAACCCAAGGGACTGT-1</th>\n",
       "      <td>839</td>\n",
       "      <td>donor0</td>\n",
       "      <td>SNG</td>\n",
       "      <td>0</td>\n",
       "      <td>hash-3</td>\n",
       "      <td>d2513_alpha_24</td>\n",
       "      <td>d2513</td>\n",
       "      <td>alpha</td>\n",
       "      <td>24</td>\n",
       "      <td>2171</td>\n",
       "      <td>2171</td>\n",
       "      <td>7270.0</td>\n",
       "      <td>386.0</td>\n",
       "      <td>5.309491</td>\n",
       "      <td>5</td>\n",
       "      <td>bc</td>\n",
       "      <td>0.10425</td>\n",
       "      <td>0.824407</td>\n",
       "    </tr>\n",
       "    <tr>\n",
       "      <th>AAACCCACAATCTGCA-1</th>\n",
       "      <td>1130</td>\n",
       "      <td>donor1</td>\n",
       "      <td>SNG</td>\n",
       "      <td>0</td>\n",
       "      <td>hash-1</td>\n",
       "      <td>d2614_alpha_3</td>\n",
       "      <td>d2614</td>\n",
       "      <td>alpha</td>\n",
       "      <td>3</td>\n",
       "      <td>3016</td>\n",
       "      <td>3016</td>\n",
       "      <td>9544.0</td>\n",
       "      <td>516.0</td>\n",
       "      <td>5.406538</td>\n",
       "      <td>0</td>\n",
       "      <td>basal</td>\n",
       "      <td>0.10425</td>\n",
       "      <td>0.988939</td>\n",
       "    </tr>\n",
       "  </tbody>\n",
       "</table>\n",
       "</div>"
      ],
      "text/plain": [
       "                    NUM.SNPS BEST.GUESS DROPLET.TYPE batch HTO_classification  \\\n",
       "AAACCCAAGGAAGTAG-1      1700     donor0          SNG     0            hash-10   \n",
       "AAACCCAAGGGACTGT-1       839     donor0          SNG     0             hash-3   \n",
       "AAACCCACAATCTGCA-1      1130     donor1          SNG     0             hash-1   \n",
       "\n",
       "                         condition  donor    stim time  n_genes  \\\n",
       "AAACCCAAGGAAGTAG-1  d2513_lambda_9  d2513  lambda    9     4297   \n",
       "AAACCCAAGGGACTGT-1  d2513_alpha_24  d2513   alpha   24     2171   \n",
       "AAACCCACAATCTGCA-1   d2614_alpha_3  d2614   alpha    3     3016   \n",
       "\n",
       "                    n_genes_by_counts  total_counts  total_counts_mt  \\\n",
       "AAACCCAAGGAAGTAG-1               4297       12191.0           1394.0   \n",
       "AAACCCAAGGGACTGT-1               2171        7270.0            386.0   \n",
       "AAACCCACAATCTGCA-1               3016        9544.0            516.0   \n",
       "\n",
       "                    pct_counts_mt leiden cell_type        q  \\\n",
       "AAACCCAAGGAAGTAG-1      11.434665      3  ciliated  0.10425   \n",
       "AAACCCAAGGGACTGT-1       5.309491      5        bc  0.10425   \n",
       "AAACCCACAATCTGCA-1       5.406538      0     basal  0.10425   \n",
       "\n",
       "                    memento_size_factor  \n",
       "AAACCCAAGGAAGTAG-1             0.955289  \n",
       "AAACCCAAGGGACTGT-1             0.824407  \n",
       "AAACCCACAATCTGCA-1             0.988939  "
      ]
     },
     "execution_count": 10,
     "metadata": {},
     "output_type": "execute_result"
    }
   ],
   "source": [
    "adata.obs.head(3)"
   ]
  },
  {
   "cell_type": "code",
   "execution_count": 11,
   "metadata": {},
   "outputs": [
    {
     "data": {
      "text/plain": [
       "dict_keys(['q_column', 'all_q', 'estimator_type', 'filter_mean_thresh', 'num_bins', 'least_variable_genes', 'all_1d_moments'])"
      ]
     },
     "execution_count": 11,
     "metadata": {},
     "output_type": "execute_result"
    }
   ],
   "source": [
    "adata.uns['memento'].keys()"
   ]
  },
  {
   "cell_type": "markdown",
   "metadata": {},
   "source": [
    "### Compute moments for ciliated cells, beta stim"
   ]
  },
  {
   "cell_type": "code",
   "execution_count": 12,
   "metadata": {},
   "outputs": [
    {
     "name": "stderr",
     "output_type": "stream",
     "text": [
      "/home/ssm-user/anaconda3/envs/single_cell/lib/python3.8/site-packages/pandas/core/arrays/categorical.py:2487: FutureWarning: The `inplace` parameter in pandas.Categorical.remove_unused_categories is deprecated and will be removed in a future version.\n",
      "  res = method(*args, **kwargs)\n"
     ]
    }
   ],
   "source": [
    "adata_subset = adata.copy()[\n",
    "    adata.obs.cell_type.isin(['ciliated']) & \\\n",
    "    adata.obs.stim.isin(['control', 'beta']), :].copy()"
   ]
  },
  {
   "cell_type": "code",
   "execution_count": 13,
   "metadata": {},
   "outputs": [],
   "source": [
    "memento.create_groups(adata_subset, label_columns=['donor', 'time'])"
   ]
  },
  {
   "cell_type": "code",
   "execution_count": 14,
   "metadata": {},
   "outputs": [
    {
     "name": "stderr",
     "output_type": "stream",
     "text": [
      "/home/ssm-user/Github/scrna-parameter-estimation/dist/memento-0.0.5-py3.8.egg/memento/estimator.py:105: RuntimeWarning: invalid value encountered in log\n"
     ]
    }
   ],
   "source": [
    "memento.compute_1d_moments(adata_subset, min_perc_group=.9)"
   ]
  },
  {
   "cell_type": "code",
   "execution_count": 15,
   "metadata": {},
   "outputs": [],
   "source": [
    "m_df, v_df = memento.get_1d_moments(adata_subset, groupby='time')"
   ]
  },
  {
   "cell_type": "code",
   "execution_count": 16,
   "metadata": {},
   "outputs": [
    {
     "name": "stderr",
     "output_type": "stream",
     "text": [
      "<ipython-input-16-a38f42e99502>:2: RuntimeWarning: invalid value encountered in log\n",
      "  v = np.log(adata_subset.uns['memento']['1d_moments']['sg^d2513^9'][1])\n"
     ]
    }
   ],
   "source": [
    "m = np.log(adata_subset.uns['memento']['1d_moments']['sg^d2513^9'][0])\n",
    "v = np.log(adata_subset.uns['memento']['1d_moments']['sg^d2513^9'][1])\n",
    "rv = np.log(adata_subset.uns['memento']['1d_moments']['sg^d2513^9'][2])"
   ]
  },
  {
   "cell_type": "code",
   "execution_count": 17,
   "metadata": {},
   "outputs": [],
   "source": [
    "x = np.linspace(-3, 4, 100)\n",
    "f = np.poly1d(adata_subset.uns['memento']['mv_regressor']['sg^d2513^9'])\n",
    "y = f(x)"
   ]
  },
  {
   "cell_type": "code",
   "execution_count": 18,
   "metadata": {},
   "outputs": [
    {
     "data": {
      "text/plain": [
       "<matplotlib.collections.PathCollection at 0x7f78e40be790>"
      ]
     },
     "execution_count": 18,
     "metadata": {},
     "output_type": "execute_result"
    },
    {
     "data": {
      "image/png": "[encoded data removed]",
      "text/plain": [
       "<Figure size 432x288 with 1 Axes>"
      ]
     },
     "metadata": {
      "needs_background": "light"
     },
     "output_type": "display_data"
    }
   ],
   "source": [
    "plt.scatter(m, rv, s=1)"
   ]
  },
  {
   "cell_type": "code",
   "execution_count": 19,
   "metadata": {},
   "outputs": [
    {
     "data": {
      "text/plain": [
       "[<matplotlib.lines.Line2D at 0x7f794b638610>]"
      ]
     },
     "execution_count": 19,
     "metadata": {},
     "output_type": "execute_result"
    },
    {
     "data": {
      "image/png": "[encoded data removed]",
      "text/plain": [
       "<Figure size 432x288 with 1 Axes>"
      ]
     },
     "metadata": {
      "needs_background": "light"
     },
     "output_type": "display_data"
    }
   ],
   "source": [
    "plt.scatter(m,v, s=1)\n",
    "plt.plot(x,y, color='r')"
   ]
  },
  {
   "cell_type": "markdown",
   "metadata": {},
   "source": [
    "### Perform one sample test on ciliated, control cells"
   ]
  },
  {
   "cell_type": "code",
   "execution_count": 17,
   "metadata": {},
   "outputs": [],
   "source": [
    "adata_ctrl = adata.copy()[\n",
    "    adata.obs.cell_type.isin(['ciliated']) & \\\n",
    "    adata.obs.stim.isin(['control']), :].copy()"
   ]
  },
  {
   "cell_type": "code",
   "execution_count": 18,
   "metadata": {},
   "outputs": [],
   "source": [
    "memento.create_groups(adata_ctrl, label_columns=['donor'])"
   ]
  },
  {
   "cell_type": "code",
   "execution_count": 19,
   "metadata": {},
   "outputs": [],
   "source": [
    "memento.compute_1d_moments(adata_ctrl, min_perc_group=.9)"
   ]
  },
  {
   "cell_type": "code",
   "execution_count": 20,
   "metadata": {},
   "outputs": [
    {
     "name": "stderr",
     "output_type": "stream",
     "text": [
      "[Parallel(n_jobs=13)]: Using backend LokyBackend with 13 concurrent workers.\n",
      "[Parallel(n_jobs=13)]: Done  24 tasks      | elapsed:    2.8s\n",
      "[Parallel(n_jobs=13)]: Done 174 tasks      | elapsed:    6.0s\n",
      "[Parallel(n_jobs=13)]: Done 424 tasks      | elapsed:   11.9s\n",
      "[Parallel(n_jobs=13)]: Done 774 tasks      | elapsed:   19.8s\n",
      "[Parallel(n_jobs=13)]: Done 1224 tasks      | elapsed:   29.7s\n",
      "[Parallel(n_jobs=13)]: Done 1774 tasks      | elapsed:   41.4s\n",
      "[Parallel(n_jobs=13)]: Done 2424 tasks      | elapsed:   55.7s\n",
      "[Parallel(n_jobs=13)]: Done 3174 tasks      | elapsed:  1.2min\n",
      "[Parallel(n_jobs=13)]: Done 4024 tasks      | elapsed:  1.5min\n",
      "[Parallel(n_jobs=13)]: Done 4974 tasks      | elapsed:  1.9min\n",
      "[Parallel(n_jobs=13)]: Done 6024 tasks      | elapsed:  2.3min\n",
      "[Parallel(n_jobs=13)]: Done 7174 tasks      | elapsed:  2.7min\n",
      "[Parallel(n_jobs=13)]: Done 8424 tasks      | elapsed:  3.1min\n",
      "[Parallel(n_jobs=13)]: Done 9774 tasks      | elapsed:  3.6min\n",
      "[Parallel(n_jobs=13)]: Done 10150 out of 10150 | elapsed:  3.8min finished\n"
     ]
    }
   ],
   "source": [
    "memento.ht_1d_moments(\n",
    "    adata_ctrl,\n",
    "    formula_like='1',\n",
    "    cov_column='Inter',\n",
    "    num_boot=10000, \n",
    "    verbose=1,\n",
    "    num_cpus=13)"
   ]
  },
  {
   "cell_type": "code",
   "execution_count": 21,
   "metadata": {},
   "outputs": [],
   "source": [
    "onesamp_ht_df = memento.get_1d_ht_result(adata_ctrl)"
   ]
  },
  {
   "cell_type": "code",
   "execution_count": 22,
   "metadata": {},
   "outputs": [
    {
     "data": {
      "text/html": [
       "<div>\n",
       "<style scoped>\n",
       "    .dataframe tbody tr th:only-of-type {\n",
       "        vertical-align: middle;\n",
       "    }\n",
       "\n",
       "    .dataframe tbody tr th {\n",
       "        vertical-align: top;\n",
       "    }\n",
       "\n",
       "    .dataframe thead th {\n",
       "        text-align: right;\n",
       "    }\n",
       "</style>\n",
       "<table border=\"1\" class=\"dataframe\">\n",
       "  <thead>\n",
       "    <tr style=\"text-align: right;\">\n",
       "      <th></th>\n",
       "      <th>gene</th>\n",
       "      <th>time_9</th>\n",
       "      <th>time_3</th>\n",
       "      <th>time_0</th>\n",
       "      <th>time_6</th>\n",
       "      <th>time_48</th>\n",
       "      <th>time_24</th>\n",
       "    </tr>\n",
       "  </thead>\n",
       "  <tbody>\n",
       "    <tr>\n",
       "      <th>5562</th>\n",
       "      <td>MALAT1</td>\n",
       "      <td>5.637802</td>\n",
       "      <td>5.705968</td>\n",
       "      <td>5.511473</td>\n",
       "      <td>5.817672</td>\n",
       "      <td>5.728523</td>\n",
       "      <td>5.680489</td>\n",
       "    </tr>\n",
       "    <tr>\n",
       "      <th>5501</th>\n",
       "      <td>FTH1</td>\n",
       "      <td>4.004720</td>\n",
       "      <td>4.003534</td>\n",
       "      <td>4.303639</td>\n",
       "      <td>3.960313</td>\n",
       "      <td>4.109459</td>\n",
       "      <td>4.126245</td>\n",
       "    </tr>\n",
       "    <tr>\n",
       "      <th>5616</th>\n",
       "      <td>GSTP1</td>\n",
       "      <td>4.083406</td>\n",
       "      <td>4.013621</td>\n",
       "      <td>4.217525</td>\n",
       "      <td>3.897102</td>\n",
       "      <td>4.180199</td>\n",
       "      <td>4.077558</td>\n",
       "    </tr>\n",
       "    <tr>\n",
       "      <th>643</th>\n",
       "      <td>S100A11</td>\n",
       "      <td>4.099605</td>\n",
       "      <td>3.998107</td>\n",
       "      <td>4.204155</td>\n",
       "      <td>4.006808</td>\n",
       "      <td>4.057389</td>\n",
       "      <td>4.108398</td>\n",
       "    </tr>\n",
       "    <tr>\n",
       "      <th>6974</th>\n",
       "      <td>B2M</td>\n",
       "      <td>4.348129</td>\n",
       "      <td>4.438093</td>\n",
       "      <td>4.189476</td>\n",
       "      <td>4.546697</td>\n",
       "      <td>4.125379</td>\n",
       "      <td>4.342992</td>\n",
       "    </tr>\n",
       "    <tr>\n",
       "      <th>...</th>\n",
       "      <td>...</td>\n",
       "      <td>...</td>\n",
       "      <td>...</td>\n",
       "      <td>...</td>\n",
       "      <td>...</td>\n",
       "      <td>...</td>\n",
       "      <td>...</td>\n",
       "    </tr>\n",
       "    <tr>\n",
       "      <th>8820</th>\n",
       "      <td>CEACAM1</td>\n",
       "      <td>-1.101681</td>\n",
       "      <td>-1.749148</td>\n",
       "      <td>-3.194082</td>\n",
       "      <td>-1.242405</td>\n",
       "      <td>-1.167282</td>\n",
       "      <td>-1.065384</td>\n",
       "    </tr>\n",
       "    <tr>\n",
       "      <th>9454</th>\n",
       "      <td>TCN2</td>\n",
       "      <td>-1.847112</td>\n",
       "      <td>-2.234941</td>\n",
       "      <td>-3.203103</td>\n",
       "      <td>-1.504837</td>\n",
       "      <td>-1.937603</td>\n",
       "      <td>-1.906946</td>\n",
       "    </tr>\n",
       "    <tr>\n",
       "      <th>9519</th>\n",
       "      <td>SYNGR1</td>\n",
       "      <td>-2.577651</td>\n",
       "      <td>-2.665431</td>\n",
       "      <td>-3.259078</td>\n",
       "      <td>-2.275457</td>\n",
       "      <td>-2.424959</td>\n",
       "      <td>-2.448371</td>\n",
       "    </tr>\n",
       "    <tr>\n",
       "      <th>8194</th>\n",
       "      <td>AC124319.1</td>\n",
       "      <td>-1.383532</td>\n",
       "      <td>-1.641907</td>\n",
       "      <td>-3.299643</td>\n",
       "      <td>-1.212676</td>\n",
       "      <td>-0.718615</td>\n",
       "      <td>-1.000530</td>\n",
       "    </tr>\n",
       "    <tr>\n",
       "      <th>5874</th>\n",
       "      <td>LAG3</td>\n",
       "      <td>-1.060690</td>\n",
       "      <td>-1.314557</td>\n",
       "      <td>-3.350055</td>\n",
       "      <td>-0.596225</td>\n",
       "      <td>-1.543354</td>\n",
       "      <td>-1.073628</td>\n",
       "    </tr>\n",
       "  </tbody>\n",
       "</table>\n",
       "<p>9895 rows × 7 columns</p>\n",
       "</div>"
      ],
      "text/plain": [
       "            gene    time_9    time_3    time_0    time_6   time_48   time_24\n",
       "5562      MALAT1  5.637802  5.705968  5.511473  5.817672  5.728523  5.680489\n",
       "5501        FTH1  4.004720  4.003534  4.303639  3.960313  4.109459  4.126245\n",
       "5616       GSTP1  4.083406  4.013621  4.217525  3.897102  4.180199  4.077558\n",
       "643      S100A11  4.099605  3.998107  4.204155  4.006808  4.057389  4.108398\n",
       "6974         B2M  4.348129  4.438093  4.189476  4.546697  4.125379  4.342992\n",
       "...          ...       ...       ...       ...       ...       ...       ...\n",
       "8820     CEACAM1 -1.101681 -1.749148 -3.194082 -1.242405 -1.167282 -1.065384\n",
       "9454        TCN2 -1.847112 -2.234941 -3.203103 -1.504837 -1.937603 -1.906946\n",
       "9519      SYNGR1 -2.577651 -2.665431 -3.259078 -2.275457 -2.424959 -2.448371\n",
       "8194  AC124319.1 -1.383532 -1.641907 -3.299643 -1.212676 -0.718615 -1.000530\n",
       "5874        LAG3 -1.060690 -1.314557 -3.350055 -0.596225 -1.543354 -1.073628\n",
       "\n",
       "[9895 rows x 7 columns]"
      ]
     },
     "execution_count": 22,
     "metadata": {},
     "output_type": "execute_result"
    }
   ],
   "source": [
    "m_df.sort_values('time_0', ascending=False)"
   ]
  },
  {
   "cell_type": "code",
   "execution_count": 23,
   "metadata": {},
   "outputs": [
    {
     "data": {
      "text/html": [
       "<div>\n",
       "<style scoped>\n",
       "    .dataframe tbody tr th:only-of-type {\n",
       "        vertical-align: middle;\n",
       "    }\n",
       "\n",
       "    .dataframe tbody tr th {\n",
       "        vertical-align: top;\n",
       "    }\n",
       "\n",
       "    .dataframe thead th {\n",
       "        text-align: right;\n",
       "    }\n",
       "</style>\n",
       "<table border=\"1\" class=\"dataframe\">\n",
       "  <thead>\n",
       "    <tr style=\"text-align: right;\">\n",
       "      <th></th>\n",
       "      <th>gene</th>\n",
       "      <th>de_coef</th>\n",
       "      <th>de_se</th>\n",
       "      <th>de_pval</th>\n",
       "      <th>dv_coef</th>\n",
       "      <th>dv_se</th>\n",
       "      <th>dv_pval</th>\n",
       "    </tr>\n",
       "  </thead>\n",
       "  <tbody>\n",
       "    <tr>\n",
       "      <th>9583</th>\n",
       "      <td>MX1</td>\n",
       "      <td>0.523788</td>\n",
       "      <td>0.054562</td>\n",
       "      <td>0.00052</td>\n",
       "      <td>1.763791</td>\n",
       "      <td>0.172606</td>\n",
       "      <td>0.000022</td>\n",
       "    </tr>\n",
       "  </tbody>\n",
       "</table>\n",
       "</div>"
      ],
      "text/plain": [
       "     gene   de_coef     de_se  de_pval   dv_coef     dv_se   dv_pval\n",
       "9583  MX1  0.523788  0.054562  0.00052  1.763791  0.172606  0.000022"
      ]
     },
     "execution_count": 23,
     "metadata": {},
     "output_type": "execute_result"
    }
   ],
   "source": [
    "onesamp_ht_df.query('gene == \"MX1\"')"
   ]
  },
  {
   "cell_type": "code",
   "execution_count": 24,
   "metadata": {},
   "outputs": [
    {
     "data": {
      "text/html": [
       "<div>\n",
       "<style scoped>\n",
       "    .dataframe tbody tr th:only-of-type {\n",
       "        vertical-align: middle;\n",
       "    }\n",
       "\n",
       "    .dataframe tbody tr th {\n",
       "        vertical-align: top;\n",
       "    }\n",
       "\n",
       "    .dataframe thead th {\n",
       "        text-align: right;\n",
       "    }\n",
       "</style>\n",
       "<table border=\"1\" class=\"dataframe\">\n",
       "  <thead>\n",
       "    <tr style=\"text-align: right;\">\n",
       "      <th></th>\n",
       "      <th>gene</th>\n",
       "      <th>de_coef</th>\n",
       "      <th>de_se</th>\n",
       "      <th>de_pval</th>\n",
       "      <th>dv_coef</th>\n",
       "      <th>dv_se</th>\n",
       "      <th>dv_pval</th>\n",
       "    </tr>\n",
       "  </thead>\n",
       "  <tbody>\n",
       "    <tr>\n",
       "      <th>9347</th>\n",
       "      <td>BPIFA1</td>\n",
       "      <td>1.711823</td>\n",
       "      <td>0.237131</td>\n",
       "      <td>4.969384e-06</td>\n",
       "      <td>4.772759</td>\n",
       "      <td>0.182131</td>\n",
       "      <td>1.827632e-09</td>\n",
       "    </tr>\n",
       "    <tr>\n",
       "      <th>5086</th>\n",
       "      <td>MSMB</td>\n",
       "      <td>2.002644</td>\n",
       "      <td>0.232166</td>\n",
       "      <td>3.080184e-05</td>\n",
       "      <td>4.753874</td>\n",
       "      <td>0.312155</td>\n",
       "      <td>2.790933e-07</td>\n",
       "    </tr>\n",
       "    <tr>\n",
       "      <th>1640</th>\n",
       "      <td>CCL20</td>\n",
       "      <td>-0.122780</td>\n",
       "      <td>0.209393</td>\n",
       "      <td>5.540446e-01</td>\n",
       "      <td>4.453336</td>\n",
       "      <td>0.180179</td>\n",
       "      <td>7.525264e-07</td>\n",
       "    </tr>\n",
       "    <tr>\n",
       "      <th>5618</th>\n",
       "      <td>SCGB1A1</td>\n",
       "      <td>1.821146</td>\n",
       "      <td>0.175603</td>\n",
       "      <td>5.378408e-06</td>\n",
       "      <td>4.449935</td>\n",
       "      <td>0.141542</td>\n",
       "      <td>6.296868e-08</td>\n",
       "    </tr>\n",
       "    <tr>\n",
       "      <th>9591</th>\n",
       "      <td>TFF3</td>\n",
       "      <td>1.162709</td>\n",
       "      <td>0.201850</td>\n",
       "      <td>4.005836e-05</td>\n",
       "      <td>4.414665</td>\n",
       "      <td>0.411461</td>\n",
       "      <td>1.494431e-07</td>\n",
       "    </tr>\n",
       "    <tr>\n",
       "      <th>9348</th>\n",
       "      <td>BPIFB1</td>\n",
       "      <td>2.132191</td>\n",
       "      <td>0.158443</td>\n",
       "      <td>1.372192e-05</td>\n",
       "      <td>4.029002</td>\n",
       "      <td>0.152292</td>\n",
       "      <td>6.883513e-06</td>\n",
       "    </tr>\n",
       "    <tr>\n",
       "      <th>2800</th>\n",
       "      <td>CDC20B</td>\n",
       "      <td>-0.837752</td>\n",
       "      <td>0.208465</td>\n",
       "      <td>1.899810e-03</td>\n",
       "      <td>3.995393</td>\n",
       "      <td>0.102542</td>\n",
       "      <td>2.993558e-06</td>\n",
       "    </tr>\n",
       "    <tr>\n",
       "      <th>5416</th>\n",
       "      <td>MUC5B</td>\n",
       "      <td>-0.609397</td>\n",
       "      <td>0.172134</td>\n",
       "      <td>1.844923e-03</td>\n",
       "      <td>3.798337</td>\n",
       "      <td>0.186431</td>\n",
       "      <td>8.733096e-07</td>\n",
       "    </tr>\n",
       "    <tr>\n",
       "      <th>6281</th>\n",
       "      <td>TSPAN8</td>\n",
       "      <td>-1.275266</td>\n",
       "      <td>0.221258</td>\n",
       "      <td>7.392769e-06</td>\n",
       "      <td>3.763758</td>\n",
       "      <td>0.445621</td>\n",
       "      <td>1.571243e-07</td>\n",
       "    </tr>\n",
       "    <tr>\n",
       "      <th>2802</th>\n",
       "      <td>CCNO</td>\n",
       "      <td>0.747182</td>\n",
       "      <td>0.124553</td>\n",
       "      <td>1.353845e-04</td>\n",
       "      <td>3.682878</td>\n",
       "      <td>0.097091</td>\n",
       "      <td>1.590198e-07</td>\n",
       "    </tr>\n",
       "    <tr>\n",
       "      <th>4513</th>\n",
       "      <td>LYPD2</td>\n",
       "      <td>0.823405</td>\n",
       "      <td>0.122534</td>\n",
       "      <td>2.457376e-04</td>\n",
       "      <td>3.671017</td>\n",
       "      <td>0.125413</td>\n",
       "      <td>3.024099e-07</td>\n",
       "    </tr>\n",
       "    <tr>\n",
       "      <th>664</th>\n",
       "      <td>S100A9</td>\n",
       "      <td>0.708440</td>\n",
       "      <td>0.125592</td>\n",
       "      <td>2.295676e-04</td>\n",
       "      <td>3.659020</td>\n",
       "      <td>0.136233</td>\n",
       "      <td>4.393990e-07</td>\n",
       "    </tr>\n",
       "    <tr>\n",
       "      <th>7127</th>\n",
       "      <td>C15orf48</td>\n",
       "      <td>0.769375</td>\n",
       "      <td>0.119132</td>\n",
       "      <td>1.072759e-04</td>\n",
       "      <td>3.648941</td>\n",
       "      <td>0.181043</td>\n",
       "      <td>9.778759e-08</td>\n",
       "    </tr>\n",
       "    <tr>\n",
       "      <th>6275</th>\n",
       "      <td>LYZ</td>\n",
       "      <td>-1.246753</td>\n",
       "      <td>0.186148</td>\n",
       "      <td>3.625501e-06</td>\n",
       "      <td>3.591128</td>\n",
       "      <td>0.170534</td>\n",
       "      <td>2.837974e-06</td>\n",
       "    </tr>\n",
       "    <tr>\n",
       "      <th>2476</th>\n",
       "      <td>CXCL3</td>\n",
       "      <td>-1.539050</td>\n",
       "      <td>0.210343</td>\n",
       "      <td>5.507773e-07</td>\n",
       "      <td>3.573302</td>\n",
       "      <td>0.382674</td>\n",
       "      <td>2.494373e-06</td>\n",
       "    </tr>\n",
       "    <tr>\n",
       "      <th>3171</th>\n",
       "      <td>SCGB3A1</td>\n",
       "      <td>3.697735</td>\n",
       "      <td>0.147376</td>\n",
       "      <td>3.374197e-06</td>\n",
       "      <td>3.509341</td>\n",
       "      <td>0.149421</td>\n",
       "      <td>2.581252e-06</td>\n",
       "    </tr>\n",
       "    <tr>\n",
       "      <th>4965</th>\n",
       "      <td>LRRC26</td>\n",
       "      <td>-1.314960</td>\n",
       "      <td>0.188699</td>\n",
       "      <td>8.936026e-07</td>\n",
       "      <td>3.496423</td>\n",
       "      <td>0.162839</td>\n",
       "      <td>2.071685e-09</td>\n",
       "    </tr>\n",
       "    <tr>\n",
       "      <th>1999</th>\n",
       "      <td>TMEM45A</td>\n",
       "      <td>-1.281035</td>\n",
       "      <td>0.176585</td>\n",
       "      <td>7.773752e-09</td>\n",
       "      <td>3.443342</td>\n",
       "      <td>0.267413</td>\n",
       "      <td>1.311946e-07</td>\n",
       "    </tr>\n",
       "    <tr>\n",
       "      <th>5189</th>\n",
       "      <td>AL603756.1</td>\n",
       "      <td>-2.513486</td>\n",
       "      <td>0.303755</td>\n",
       "      <td>2.925142e-08</td>\n",
       "      <td>3.442233</td>\n",
       "      <td>0.633787</td>\n",
       "      <td>5.139838e-08</td>\n",
       "    </tr>\n",
       "    <tr>\n",
       "      <th>7444</th>\n",
       "      <td>IL32</td>\n",
       "      <td>-1.485277</td>\n",
       "      <td>0.181593</td>\n",
       "      <td>1.966198e-09</td>\n",
       "      <td>3.377912</td>\n",
       "      <td>0.368550</td>\n",
       "      <td>2.752002e-10</td>\n",
       "    </tr>\n",
       "  </tbody>\n",
       "</table>\n",
       "</div>"
      ],
      "text/plain": [
       "            gene   de_coef     de_se       de_pval   dv_coef     dv_se  \\\n",
       "9347      BPIFA1  1.711823  0.237131  4.969384e-06  4.772759  0.182131   \n",
       "5086        MSMB  2.002644  0.232166  3.080184e-05  4.753874  0.312155   \n",
       "1640       CCL20 -0.122780  0.209393  5.540446e-01  4.453336  0.180179   \n",
       "5618     SCGB1A1  1.821146  0.175603  5.378408e-06  4.449935  0.141542   \n",
       "9591        TFF3  1.162709  0.201850  4.005836e-05  4.414665  0.411461   \n",
       "9348      BPIFB1  2.132191  0.158443  1.372192e-05  4.029002  0.152292   \n",
       "2800      CDC20B -0.837752  0.208465  1.899810e-03  3.995393  0.102542   \n",
       "5416       MUC5B -0.609397  0.172134  1.844923e-03  3.798337  0.186431   \n",
       "6281      TSPAN8 -1.275266  0.221258  7.392769e-06  3.763758  0.445621   \n",
       "2802        CCNO  0.747182  0.124553  1.353845e-04  3.682878  0.097091   \n",
       "4513       LYPD2  0.823405  0.122534  2.457376e-04  3.671017  0.125413   \n",
       "664       S100A9  0.708440  0.125592  2.295676e-04  3.659020  0.136233   \n",
       "7127    C15orf48  0.769375  0.119132  1.072759e-04  3.648941  0.181043   \n",
       "6275         LYZ -1.246753  0.186148  3.625501e-06  3.591128  0.170534   \n",
       "2476       CXCL3 -1.539050  0.210343  5.507773e-07  3.573302  0.382674   \n",
       "3171     SCGB3A1  3.697735  0.147376  3.374197e-06  3.509341  0.149421   \n",
       "4965      LRRC26 -1.314960  0.188699  8.936026e-07  3.496423  0.162839   \n",
       "1999     TMEM45A -1.281035  0.176585  7.773752e-09  3.443342  0.267413   \n",
       "5189  AL603756.1 -2.513486  0.303755  2.925142e-08  3.442233  0.633787   \n",
       "7444        IL32 -1.485277  0.181593  1.966198e-09  3.377912  0.368550   \n",
       "\n",
       "           dv_pval  \n",
       "9347  1.827632e-09  \n",
       "5086  2.790933e-07  \n",
       "1640  7.525264e-07  \n",
       "5618  6.296868e-08  \n",
       "9591  1.494431e-07  \n",
       "9348  6.883513e-06  \n",
       "2800  2.993558e-06  \n",
       "5416  8.733096e-07  \n",
       "6281  1.571243e-07  \n",
       "2802  1.590198e-07  \n",
       "4513  3.024099e-07  \n",
       "664   4.393990e-07  \n",
       "7127  9.778759e-08  \n",
       "6275  2.837974e-06  \n",
       "2476  2.494373e-06  \n",
       "3171  2.581252e-06  \n",
       "4965  2.071685e-09  \n",
       "1999  1.311946e-07  \n",
       "5189  5.139838e-08  \n",
       "7444  2.752002e-10  "
      ]
     },
     "execution_count": 24,
     "metadata": {},
     "output_type": "execute_result"
    }
   ],
   "source": [
    "onesamp_ht_df.sort_values('dv_coef', ascending=False).head(20)"
   ]
  },
  {
   "cell_type": "markdown",
   "metadata": {},
   "source": [
    "### Mean vs variability plots for ctrl and stim cells"
   ]
  },
  {
   "cell_type": "code",
   "execution_count": null,
   "metadata": {},
   "outputs": [],
   "source": [
    "adata_subset = "
   ]
  },
  {
   "cell_type": "code",
   "execution_count": 17,
   "metadata": {},
   "outputs": [
    {
     "ename": "KeyError",
     "evalue": "'Inter'",
     "output_type": "error",
     "traceback": [
      "\u001b[0;31m---------------------------------------------------------------------------\u001b[0m",
      "\u001b[0;31mKeyError\u001b[0m                                  Traceback (most recent call last)",
      "\u001b[0;32m~/anaconda3/envs/single_cell/lib/python3.8/site-packages/pandas/core/indexes/base.py\u001b[0m in \u001b[0;36mget_loc\u001b[0;34m(self, key, method, tolerance)\u001b[0m\n\u001b[1;32m   3079\u001b[0m             \u001b[0;32mtry\u001b[0m\u001b[0;34m:\u001b[0m\u001b[0;34m\u001b[0m\u001b[0;34m\u001b[0m\u001b[0m\n\u001b[0;32m-> 3080\u001b[0;31m                 \u001b[0;32mreturn\u001b[0m \u001b[0mself\u001b[0m\u001b[0;34m.\u001b[0m\u001b[0m_engine\u001b[0m\u001b[0;34m.\u001b[0m\u001b[0mget_loc\u001b[0m\u001b[0;34m(\u001b[0m\u001b[0mcasted_key\u001b[0m\u001b[0;34m)\u001b[0m\u001b[0;34m\u001b[0m\u001b[0;34m\u001b[0m\u001b[0m\n\u001b[0m\u001b[1;32m   3081\u001b[0m             \u001b[0;32mexcept\u001b[0m \u001b[0mKeyError\u001b[0m \u001b[0;32mas\u001b[0m \u001b[0merr\u001b[0m\u001b[0;34m:\u001b[0m\u001b[0;34m\u001b[0m\u001b[0;34m\u001b[0m\u001b[0m\n",
      "\u001b[0;32mpandas/_libs/index.pyx\u001b[0m in \u001b[0;36mpandas._libs.index.IndexEngine.get_loc\u001b[0;34m()\u001b[0m\n",
      "\u001b[0;32mpandas/_libs/index.pyx\u001b[0m in \u001b[0;36mpandas._libs.index.IndexEngine.get_loc\u001b[0;34m()\u001b[0m\n",
      "\u001b[0;32mpandas/_libs/hashtable_class_helper.pxi\u001b[0m in \u001b[0;36mpandas._libs.hashtable.PyObjectHashTable.get_item\u001b[0;34m()\u001b[0m\n",
      "\u001b[0;32mpandas/_libs/hashtable_class_helper.pxi\u001b[0m in \u001b[0;36mpandas._libs.hashtable.PyObjectHashTable.get_item\u001b[0;34m()\u001b[0m\n",
      "\u001b[0;31mKeyError\u001b[0m: 'Inter'",
      "\nThe above exception was the direct cause of the following exception:\n",
      "\u001b[0;31mKeyError\u001b[0m                                  Traceback (most recent call last)",
      "\u001b[0;32m<ipython-input-17-c21ab0ae5e1c>\u001b[0m in \u001b[0;36m<module>\u001b[0;34m\u001b[0m\n\u001b[0;32m----> 1\u001b[0;31m \u001b[0mm_df\u001b[0m\u001b[0;34m,\u001b[0m \u001b[0mv_df\u001b[0m \u001b[0;34m=\u001b[0m \u001b[0mmemento\u001b[0m\u001b[0;34m.\u001b[0m\u001b[0mget_1d_moments\u001b[0m\u001b[0;34m(\u001b[0m\u001b[0mctrl_adata\u001b[0m\u001b[0;34m,\u001b[0m \u001b[0mgroupby\u001b[0m\u001b[0;34m=\u001b[0m\u001b[0;34m'Inter'\u001b[0m\u001b[0;34m)\u001b[0m\u001b[0;34m\u001b[0m\u001b[0;34m\u001b[0m\u001b[0m\n\u001b[0m",
      "\u001b[0;32m~/Github/scrna-parameter-estimation/dist/memento-0.0.5-py3.8.egg/memento/main.py\u001b[0m in \u001b[0;36mget_1d_moments\u001b[0;34m(adata, groupby)\u001b[0m\n\u001b[1;32m    497\u001b[0m                 \u001b[0;32mreturn\u001b[0m \u001b[0mmoment_mean_df\u001b[0m\u001b[0;34m,\u001b[0m \u001b[0mmoment_var_df\u001b[0m\u001b[0;34m,\u001b[0m \u001b[0mcell_counts\u001b[0m\u001b[0;34m\u001b[0m\u001b[0;34m\u001b[0m\u001b[0m\n\u001b[1;32m    498\u001b[0m \u001b[0;34m\u001b[0m\u001b[0m\n\u001b[0;32m--> 499\u001b[0;31m         \u001b[0munique_groupby\u001b[0m \u001b[0;34m=\u001b[0m \u001b[0madata\u001b[0m\u001b[0;34m.\u001b[0m\u001b[0mobs\u001b[0m\u001b[0;34m[\u001b[0m\u001b[0mgroupby\u001b[0m\u001b[0;34m]\u001b[0m\u001b[0;34m.\u001b[0m\u001b[0mastype\u001b[0m\u001b[0;34m(\u001b[0m\u001b[0mstr\u001b[0m\u001b[0;34m)\u001b[0m\u001b[0;34m.\u001b[0m\u001b[0mdrop_duplicates\u001b[0m\u001b[0;34m(\u001b[0m\u001b[0;34m)\u001b[0m\u001b[0;34m.\u001b[0m\u001b[0mvalues\u001b[0m\u001b[0;34m\u001b[0m\u001b[0;34m\u001b[0m\u001b[0m\n\u001b[0m\u001b[1;32m    500\u001b[0m         \u001b[0mgroupby_mean\u001b[0m \u001b[0;34m=\u001b[0m \u001b[0;34m{\u001b[0m\u001b[0mk\u001b[0m\u001b[0;34m:\u001b[0m\u001b[0;36m0\u001b[0m \u001b[0;32mfor\u001b[0m \u001b[0mk\u001b[0m \u001b[0;32min\u001b[0m \u001b[0munique_groupby\u001b[0m\u001b[0;34m}\u001b[0m\u001b[0;34m\u001b[0m\u001b[0;34m\u001b[0m\u001b[0m\n\u001b[1;32m    501\u001b[0m         \u001b[0mgroupby_var\u001b[0m \u001b[0;34m=\u001b[0m \u001b[0;34m{\u001b[0m\u001b[0mk\u001b[0m\u001b[0;34m:\u001b[0m\u001b[0;36m0\u001b[0m \u001b[0;32mfor\u001b[0m \u001b[0mk\u001b[0m \u001b[0;32min\u001b[0m \u001b[0munique_groupby\u001b[0m\u001b[0;34m}\u001b[0m\u001b[0;34m\u001b[0m\u001b[0;34m\u001b[0m\u001b[0m\n",
      "\u001b[0;32m~/anaconda3/envs/single_cell/lib/python3.8/site-packages/pandas/core/frame.py\u001b[0m in \u001b[0;36m__getitem__\u001b[0;34m(self, key)\u001b[0m\n\u001b[1;32m   3022\u001b[0m             \u001b[0;32mif\u001b[0m \u001b[0mself\u001b[0m\u001b[0;34m.\u001b[0m\u001b[0mcolumns\u001b[0m\u001b[0;34m.\u001b[0m\u001b[0mnlevels\u001b[0m \u001b[0;34m>\u001b[0m \u001b[0;36m1\u001b[0m\u001b[0;34m:\u001b[0m\u001b[0;34m\u001b[0m\u001b[0;34m\u001b[0m\u001b[0m\n\u001b[1;32m   3023\u001b[0m                 \u001b[0;32mreturn\u001b[0m \u001b[0mself\u001b[0m\u001b[0;34m.\u001b[0m\u001b[0m_getitem_multilevel\u001b[0m\u001b[0;34m(\u001b[0m\u001b[0mkey\u001b[0m\u001b[0;34m)\u001b[0m\u001b[0;34m\u001b[0m\u001b[0;34m\u001b[0m\u001b[0m\n\u001b[0;32m-> 3024\u001b[0;31m             \u001b[0mindexer\u001b[0m \u001b[0;34m=\u001b[0m \u001b[0mself\u001b[0m\u001b[0;34m.\u001b[0m\u001b[0mcolumns\u001b[0m\u001b[0;34m.\u001b[0m\u001b[0mget_loc\u001b[0m\u001b[0;34m(\u001b[0m\u001b[0mkey\u001b[0m\u001b[0;34m)\u001b[0m\u001b[0;34m\u001b[0m\u001b[0;34m\u001b[0m\u001b[0m\n\u001b[0m\u001b[1;32m   3025\u001b[0m             \u001b[0;32mif\u001b[0m \u001b[0mis_integer\u001b[0m\u001b[0;34m(\u001b[0m\u001b[0mindexer\u001b[0m\u001b[0;34m)\u001b[0m\u001b[0;34m:\u001b[0m\u001b[0;34m\u001b[0m\u001b[0;34m\u001b[0m\u001b[0m\n\u001b[1;32m   3026\u001b[0m                 \u001b[0mindexer\u001b[0m \u001b[0;34m=\u001b[0m \u001b[0;34m[\u001b[0m\u001b[0mindexer\u001b[0m\u001b[0;34m]\u001b[0m\u001b[0;34m\u001b[0m\u001b[0;34m\u001b[0m\u001b[0m\n",
      "\u001b[0;32m~/anaconda3/envs/single_cell/lib/python3.8/site-packages/pandas/core/indexes/base.py\u001b[0m in \u001b[0;36mget_loc\u001b[0;34m(self, key, method, tolerance)\u001b[0m\n\u001b[1;32m   3080\u001b[0m                 \u001b[0;32mreturn\u001b[0m \u001b[0mself\u001b[0m\u001b[0;34m.\u001b[0m\u001b[0m_engine\u001b[0m\u001b[0;34m.\u001b[0m\u001b[0mget_loc\u001b[0m\u001b[0;34m(\u001b[0m\u001b[0mcasted_key\u001b[0m\u001b[0;34m)\u001b[0m\u001b[0;34m\u001b[0m\u001b[0;34m\u001b[0m\u001b[0m\n\u001b[1;32m   3081\u001b[0m             \u001b[0;32mexcept\u001b[0m \u001b[0mKeyError\u001b[0m \u001b[0;32mas\u001b[0m \u001b[0merr\u001b[0m\u001b[0;34m:\u001b[0m\u001b[0;34m\u001b[0m\u001b[0;34m\u001b[0m\u001b[0m\n\u001b[0;32m-> 3082\u001b[0;31m                 \u001b[0;32mraise\u001b[0m \u001b[0mKeyError\u001b[0m\u001b[0;34m(\u001b[0m\u001b[0mkey\u001b[0m\u001b[0;34m)\u001b[0m \u001b[0;32mfrom\u001b[0m \u001b[0merr\u001b[0m\u001b[0;34m\u001b[0m\u001b[0;34m\u001b[0m\u001b[0m\n\u001b[0m\u001b[1;32m   3083\u001b[0m \u001b[0;34m\u001b[0m\u001b[0m\n\u001b[1;32m   3084\u001b[0m         \u001b[0;32mif\u001b[0m \u001b[0mtolerance\u001b[0m \u001b[0;32mis\u001b[0m \u001b[0;32mnot\u001b[0m \u001b[0;32mNone\u001b[0m\u001b[0;34m:\u001b[0m\u001b[0;34m\u001b[0m\u001b[0;34m\u001b[0m\u001b[0m\n",
      "\u001b[0;31mKeyError\u001b[0m: 'Inter'"
     ]
    }
   ],
   "source": [
    "m_df, v_df = memento.get_1d_moments(ctrl_adata, groupby='Inter')"
   ]
  },
  {
   "cell_type": "code",
   "execution_count": 16,
   "metadata": {},
   "outputs": [
    {
     "ename": "NameError",
     "evalue": "name 'm_df' is not defined",
     "output_type": "error",
     "traceback": [
      "\u001b[0;31m---------------------------------------------------------------------------\u001b[0m",
      "\u001b[0;31mNameError\u001b[0m                                 Traceback (most recent call last)",
      "\u001b[0;32m<ipython-input-16-9fa989f8d2c1>\u001b[0m in \u001b[0;36m<module>\u001b[0;34m\u001b[0m\n\u001b[0;32m----> 1\u001b[0;31m \u001b[0mm_df\u001b[0m\u001b[0;34m\u001b[0m\u001b[0;34m\u001b[0m\u001b[0m\n\u001b[0m",
      "\u001b[0;31mNameError\u001b[0m: name 'm_df' is not defined"
     ]
    }
   ],
   "source": [
    "m_df"
   ]
  },
  {
   "cell_type": "markdown",
   "metadata": {},
   "source": [
    "### Run memento for each subset, comparing to control"
   ]
  },
  {
   "cell_type": "code",
   "execution_count": 17,
   "metadata": {},
   "outputs": [],
   "source": [
    "cts = [['ciliated']]\n",
    "tps = ['3', '6', '9', '24', '48']\n",
    "stims = ['alpha', 'beta', 'gamma', 'lambda']"
   ]
  },
  {
   "cell_type": "code",
   "execution_count": 18,
   "metadata": {},
   "outputs": [],
   "source": [
    "import os\n",
    "done_files = os.listdir('/data_volume/ifn_hbec/binary_test_deep/')"
   ]
  },
  {
   "cell_type": "code",
   "execution_count": null,
   "metadata": {},
   "outputs": [
    {
     "name": "stdout",
     "output_type": "stream",
     "text": [
      "starting ['ciliated'] 3 alpha\n"
     ]
    },
    {
     "name": "stderr",
     "output_type": "stream",
     "text": [
      "/home/ssm-user/anaconda3/envs/single_cell/lib/python3.8/site-packages/pandas/core/arrays/categorical.py:2487: FutureWarning: The `inplace` parameter in pandas.Categorical.remove_unused_categories is deprecated and will be removed in a future version.\n",
      "  res = method(*args, **kwargs)\n",
      "[Parallel(n_jobs=13)]: Using backend LokyBackend with 13 concurrent workers.\n",
      "[Parallel(n_jobs=13)]: Done  24 tasks      | elapsed:    3.1s\n",
      "[Parallel(n_jobs=13)]: Done 174 tasks      | elapsed:    7.2s\n",
      "[Parallel(n_jobs=13)]: Done 424 tasks      | elapsed:   14.6s\n",
      "[Parallel(n_jobs=13)]: Done 774 tasks      | elapsed:   24.5s\n",
      "[Parallel(n_jobs=13)]: Done 1224 tasks      | elapsed:   36.6s\n",
      "[Parallel(n_jobs=13)]: Done 1774 tasks      | elapsed:   51.4s\n",
      "[Parallel(n_jobs=13)]: Done 2424 tasks      | elapsed:  1.1min\n",
      "[Parallel(n_jobs=13)]: Done 3174 tasks      | elapsed:  1.5min\n",
      "[Parallel(n_jobs=13)]: Done 4024 tasks      | elapsed:  1.9min\n",
      "[Parallel(n_jobs=13)]: Done 4974 tasks      | elapsed:  2.3min\n",
      "[Parallel(n_jobs=13)]: Done 6024 tasks      | elapsed:  2.8min\n",
      "[Parallel(n_jobs=13)]: Done 7174 tasks      | elapsed:  3.3min\n",
      "[Parallel(n_jobs=13)]: Done 8424 tasks      | elapsed:  3.9min\n",
      "[Parallel(n_jobs=13)]: Done 9508 out of 9508 | elapsed:  4.4min finished\n",
      "... storing 'memento_group' as categorical\n"
     ]
    },
    {
     "name": "stdout",
     "output_type": "stream",
     "text": [
      "starting ['ciliated'] 3 beta\n"
     ]
    },
    {
     "name": "stderr",
     "output_type": "stream",
     "text": [
      "/home/ssm-user/anaconda3/envs/single_cell/lib/python3.8/site-packages/pandas/core/arrays/categorical.py:2487: FutureWarning: The `inplace` parameter in pandas.Categorical.remove_unused_categories is deprecated and will be removed in a future version.\n",
      "  res = method(*args, **kwargs)\n",
      "[Parallel(n_jobs=13)]: Using backend LokyBackend with 13 concurrent workers.\n",
      "[Parallel(n_jobs=13)]: Done  24 tasks      | elapsed:    0.9s\n",
      "[Parallel(n_jobs=13)]: Done 174 tasks      | elapsed:    4.8s\n",
      "[Parallel(n_jobs=13)]: Done 424 tasks      | elapsed:   12.1s\n",
      "[Parallel(n_jobs=13)]: Done 774 tasks      | elapsed:   22.0s\n",
      "[Parallel(n_jobs=13)]: Done 1224 tasks      | elapsed:   34.1s\n",
      "[Parallel(n_jobs=13)]: Done 1774 tasks      | elapsed:   49.0s\n",
      "[Parallel(n_jobs=13)]: Done 2424 tasks      | elapsed:  1.1min\n",
      "[Parallel(n_jobs=13)]: Done 3174 tasks      | elapsed:  1.4min\n",
      "[Parallel(n_jobs=13)]: Done 4024 tasks      | elapsed:  1.8min\n",
      "[Parallel(n_jobs=13)]: Done 4974 tasks      | elapsed:  2.3min\n",
      "[Parallel(n_jobs=13)]: Done 6024 tasks      | elapsed:  2.7min\n",
      "[Parallel(n_jobs=13)]: Done 7174 tasks      | elapsed:  3.3min\n",
      "[Parallel(n_jobs=13)]: Done 8424 tasks      | elapsed:  3.8min\n",
      "[Parallel(n_jobs=13)]: Done 9642 out of 9642 | elapsed:  4.4min finished\n",
      "... storing 'memento_group' as categorical\n"
     ]
    },
    {
     "name": "stdout",
     "output_type": "stream",
     "text": [
      "starting ['ciliated'] 3 gamma\n"
     ]
    },
    {
     "name": "stderr",
     "output_type": "stream",
     "text": [
      "/home/ssm-user/anaconda3/envs/single_cell/lib/python3.8/site-packages/pandas/core/arrays/categorical.py:2487: FutureWarning: The `inplace` parameter in pandas.Categorical.remove_unused_categories is deprecated and will be removed in a future version.\n",
      "  res = method(*args, **kwargs)\n",
      "[Parallel(n_jobs=13)]: Using backend LokyBackend with 13 concurrent workers.\n",
      "[Parallel(n_jobs=13)]: Done  24 tasks      | elapsed:    0.9s\n",
      "[Parallel(n_jobs=13)]: Done 174 tasks      | elapsed:    4.7s\n",
      "[Parallel(n_jobs=13)]: Done 424 tasks      | elapsed:   11.7s\n",
      "[Parallel(n_jobs=13)]: Done 774 tasks      | elapsed:   21.4s\n",
      "[Parallel(n_jobs=13)]: Done 1224 tasks      | elapsed:   33.3s\n",
      "[Parallel(n_jobs=13)]: Done 1774 tasks      | elapsed:   47.7s\n",
      "[Parallel(n_jobs=13)]: Done 2424 tasks      | elapsed:  1.1min\n",
      "[Parallel(n_jobs=13)]: Done 3174 tasks      | elapsed:  1.4min\n",
      "[Parallel(n_jobs=13)]: Done 4024 tasks      | elapsed:  1.8min\n",
      "[Parallel(n_jobs=13)]: Done 4974 tasks      | elapsed:  2.2min\n",
      "[Parallel(n_jobs=13)]: Done 6024 tasks      | elapsed:  2.7min\n",
      "[Parallel(n_jobs=13)]: Done 7174 tasks      | elapsed:  3.2min\n",
      "[Parallel(n_jobs=13)]: Done 8424 tasks      | elapsed:  3.8min\n",
      "[Parallel(n_jobs=13)]: Done 9455 out of 9455 | elapsed:  4.2min finished\n",
      "... storing 'memento_group' as categorical\n"
     ]
    },
    {
     "name": "stdout",
     "output_type": "stream",
     "text": [
      "starting ['ciliated'] 3 lambda\n"
     ]
    },
    {
     "name": "stderr",
     "output_type": "stream",
     "text": [
      "/home/ssm-user/anaconda3/envs/single_cell/lib/python3.8/site-packages/pandas/core/arrays/categorical.py:2487: FutureWarning: The `inplace` parameter in pandas.Categorical.remove_unused_categories is deprecated and will be removed in a future version.\n",
      "  res = method(*args, **kwargs)\n",
      "[Parallel(n_jobs=13)]: Using backend LokyBackend with 13 concurrent workers.\n",
      "[Parallel(n_jobs=13)]: Done  24 tasks      | elapsed:    0.9s\n",
      "[Parallel(n_jobs=13)]: Done 174 tasks      | elapsed:    4.8s\n",
      "[Parallel(n_jobs=13)]: Done 424 tasks      | elapsed:   12.1s\n",
      "[Parallel(n_jobs=13)]: Done 774 tasks      | elapsed:   22.0s\n",
      "[Parallel(n_jobs=13)]: Done 1224 tasks      | elapsed:   34.1s\n",
      "[Parallel(n_jobs=13)]: Done 1774 tasks      | elapsed:   49.1s\n",
      "[Parallel(n_jobs=13)]: Done 2424 tasks      | elapsed:  1.1min\n",
      "[Parallel(n_jobs=13)]: Done 3174 tasks      | elapsed:  1.4min\n",
      "[Parallel(n_jobs=13)]: Done 4024 tasks      | elapsed:  1.8min\n",
      "[Parallel(n_jobs=13)]: Done 4974 tasks      | elapsed:  2.3min\n",
      "[Parallel(n_jobs=13)]: Done 6024 tasks      | elapsed:  2.8min\n",
      "[Parallel(n_jobs=13)]: Done 7174 tasks      | elapsed:  3.3min\n",
      "[Parallel(n_jobs=13)]: Done 8424 tasks      | elapsed:  3.9min\n",
      "[Parallel(n_jobs=13)]: Done 9639 out of 9639 | elapsed:  4.4min finished\n",
      "... storing 'memento_group' as categorical\n"
     ]
    },
    {
     "name": "stdout",
     "output_type": "stream",
     "text": [
      "starting ['ciliated'] 6 alpha\n"
     ]
    },
    {
     "name": "stderr",
     "output_type": "stream",
     "text": [
      "/home/ssm-user/anaconda3/envs/single_cell/lib/python3.8/site-packages/pandas/core/arrays/categorical.py:2487: FutureWarning: The `inplace` parameter in pandas.Categorical.remove_unused_categories is deprecated and will be removed in a future version.\n",
      "  res = method(*args, **kwargs)\n",
      "[Parallel(n_jobs=13)]: Using backend LokyBackend with 13 concurrent workers.\n",
      "[Parallel(n_jobs=13)]: Done  24 tasks      | elapsed:    0.8s\n",
      "[Parallel(n_jobs=13)]: Done 174 tasks      | elapsed:    4.5s\n",
      "[Parallel(n_jobs=13)]: Done 424 tasks      | elapsed:   11.2s\n",
      "[Parallel(n_jobs=13)]: Done 774 tasks      | elapsed:   20.3s\n",
      "[Parallel(n_jobs=13)]: Done 1224 tasks      | elapsed:   31.4s\n",
      "[Parallel(n_jobs=13)]: Done 1774 tasks      | elapsed:   45.1s\n",
      "[Parallel(n_jobs=13)]: Done 2424 tasks      | elapsed:  1.0min\n",
      "[Parallel(n_jobs=13)]: Done 3174 tasks      | elapsed:  1.3min\n",
      "[Parallel(n_jobs=13)]: Done 4024 tasks      | elapsed:  1.7min\n",
      "[Parallel(n_jobs=13)]: Done 4974 tasks      | elapsed:  2.1min\n",
      "[Parallel(n_jobs=13)]: Done 6024 tasks      | elapsed:  2.6min\n",
      "[Parallel(n_jobs=13)]: Done 7174 tasks      | elapsed:  3.0min\n",
      "[Parallel(n_jobs=13)]: Done 8424 tasks      | elapsed:  3.6min\n",
      "[Parallel(n_jobs=13)]: Done 9224 out of 9224 | elapsed:  3.9min finished\n",
      "... storing 'memento_group' as categorical\n"
     ]
    },
    {
     "name": "stdout",
     "output_type": "stream",
     "text": [
      "starting ['ciliated'] 6 beta\n"
     ]
    },
    {
     "name": "stderr",
     "output_type": "stream",
     "text": [
      "/home/ssm-user/anaconda3/envs/single_cell/lib/python3.8/site-packages/pandas/core/arrays/categorical.py:2487: FutureWarning: The `inplace` parameter in pandas.Categorical.remove_unused_categories is deprecated and will be removed in a future version.\n",
      "  res = method(*args, **kwargs)\n",
      "[Parallel(n_jobs=13)]: Using backend LokyBackend with 13 concurrent workers.\n",
      "[Parallel(n_jobs=13)]: Done  24 tasks      | elapsed:    1.0s\n",
      "[Parallel(n_jobs=13)]: Done 174 tasks      | elapsed:    5.1s\n",
      "[Parallel(n_jobs=13)]: Done 424 tasks      | elapsed:   12.8s\n",
      "[Parallel(n_jobs=13)]: Done 774 tasks      | elapsed:   23.2s\n",
      "[Parallel(n_jobs=13)]: Done 1224 tasks      | elapsed:   35.9s\n",
      "[Parallel(n_jobs=13)]: Done 1774 tasks      | elapsed:   51.6s\n",
      "[Parallel(n_jobs=13)]: Done 2424 tasks      | elapsed:  1.2min\n",
      "[Parallel(n_jobs=13)]: Done 3174 tasks      | elapsed:  1.5min\n",
      "[Parallel(n_jobs=13)]: Done 4024 tasks      | elapsed:  1.9min\n",
      "[Parallel(n_jobs=13)]: Done 4974 tasks      | elapsed:  2.4min\n"
     ]
    }
   ],
   "source": [
    "for ct in cts:\n",
    "    for tp in tps:\n",
    "        for stim in stims:\n",
    "            \n",
    "            fname = '{}_{}_{}_20200313.h5ad'.format('-'.join(ct), stim, tp)\n",
    "            \n",
    "            if fname in done_files:\n",
    "                print('Skipping', fname)\n",
    "                continue\n",
    "\n",
    "            print('starting', ct, tp, stim)\n",
    "\n",
    "            adata_stim = adata.copy()[\n",
    "                adata.obs.cell_type.isin(ct) & \\\n",
    "                adata.obs.stim.isin(['control', stim]) & \\\n",
    "                adata.obs.time.isin(['0',tp]), :].copy()\n",
    "            time_converter={0:0, int(tp):1}\n",
    "            adata_stim.obs['time_step'] = adata_stim.obs['time'].astype(int).apply(lambda x: time_converter[x])\n",
    "\n",
    "            memento.create_groups(adata_stim, label_columns=['time_step', 'donor'])\n",
    "            memento.compute_1d_moments(adata_stim, min_perc_group=.9)\n",
    "\n",
    "            memento.ht_1d_moments(\n",
    "                adata_stim, \n",
    "                formula_like='1 + time_step',\n",
    "                cov_column='time_step', \n",
    "                num_boot=10000, \n",
    "                verbose=1,\n",
    "                num_cpus=13)\n",
    "\n",
    "            del adata_stim.uns['memento']['mv_regressor']\n",
    "\n",
    "            adata_stim.write('/data_volume/ifn_hbec/binary_test_deep/{}_{}_{}_20200313.h5ad'.format(\n",
    "                '-'.join(ct), stim, tp))"
   ]
  },
  {
   "cell_type": "code",
   "execution_count": null,
   "metadata": {},
   "outputs": [],
   "source": []
  }
 ],
 "metadata": {
  "kernelspec": {
   "display_name": "Python 3",
   "language": "python",
   "name": "python3"
  },
  "language_info": {
   "codemirror_mode": {
    "name": "ipython",
    "version": 3
   },
   "file_extension": ".py",
   "mimetype": "text/x-python",
   "name": "python",
   "nbconvert_exporter": "python",
   "pygments_lexer": "ipython3",
   "version": "3.8.8"
  }
 },
 "nbformat": 4,
 "nbformat_minor": 4
}
