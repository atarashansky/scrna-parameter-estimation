{
 "cells": [
  {
   "cell_type": "markdown",
   "metadata": {},
   "source": [
    "# Shift in mean TF-target correlation distribution"
   ]
  },
  {
   "cell_type": "code",
   "execution_count": 1,
   "metadata": {},
   "outputs": [],
   "source": [
    "import scanpy as sc\n",
    "import seaborn as sns\n",
    "import pandas as pd\n",
    "import matplotlib.pyplot as plt\n",
    "import numpy as np\n",
    "import scipy.stats as stats\n",
    "from pybedtools import BedTool\n",
    "import pickle as pkl\n",
    "import itertools\n",
    "%matplotlib inline"
   ]
  },
  {
   "cell_type": "code",
   "execution_count": 2,
   "metadata": {},
   "outputs": [],
   "source": [
    "import matplotlib\n",
    "matplotlib.rcParams['pdf.fonttype'] = 42\n",
    "matplotlib.rcParams['ps.fonttype'] = 42"
   ]
  },
  {
   "cell_type": "code",
   "execution_count": 3,
   "metadata": {},
   "outputs": [],
   "source": [
    "import sys\n",
    "sys.path.append('/home/ssm-user/Github/scrna-parameter-estimation/dist/memento-0.0.5-py3.8.egg')\n",
    "sys.path.append('/home/ssm-user/Github/misc-seq/miscseq/')\n",
    "import encode\n",
    "import memento"
   ]
  },
  {
   "cell_type": "code",
   "execution_count": 42,
   "metadata": {},
   "outputs": [],
   "source": [
    "data_path = '/data_volume/ifn_hbec/'\n",
    "fig_path = '/home/ssm-user/Github/scrna-parameter-estimation/figures/fig5/main/'"
   ]
  },
  {
   "cell_type": "markdown",
   "metadata": {},
   "source": [
    "### Get the TFs"
   ]
  },
  {
   "cell_type": "code",
   "execution_count": 6,
   "metadata": {},
   "outputs": [],
   "source": [
    "tf_df = pd.read_csv('../DatabaseExtract_v_1.01.csv', index_col=0)\n",
    "tf_df = tf_df[tf_df['TF assessment'] == 'Known motif']\n",
    "tf_df = tf_df[tf_df['Is a GO TF?'] == 'Yes']\n",
    "\n",
    "tfs = tf_df['HGNC symbol'].tolist()"
   ]
  },
  {
   "cell_type": "code",
   "execution_count": 21,
   "metadata": {},
   "outputs": [],
   "source": [
    "filtered_tfs = \"\"\"MAFG\n",
    "SPI1\n",
    "ZNF655\n",
    "MAX\n",
    "ATF4\n",
    "ATF3\n",
    "IRF2\n",
    "IRF1\n",
    "ARID5A\n",
    "BACH1\n",
    "YY1\n",
    "HMGA1\n",
    "IRF7\n",
    "STAT1\n",
    "NR1H2\n",
    "XBP1\n",
    "ETV6\n",
    "MSC\n",
    "ATF5\n",
    "MAFB\n",
    "FOS\n",
    "CEBPB\n",
    "BBX\n",
    "STAT3\n",
    "REL\n",
    "JUN\n",
    "CEBPD\n",
    "DDIT3\n",
    "NR3C1\n",
    "TGIF1\n",
    "ZNF267\n",
    "NFE2L2\n",
    "HIF1A\n",
    "AHR\n",
    "GTF2B\n",
    "CREM\n",
    "HBP1\n",
    "RELB\n",
    "TFEC\n",
    "YBX1\n",
    "ELF1\n",
    "JUNB\n",
    "NFKB1\n",
    "IRF9\n",
    "RBPJ\n",
    "KLF6\"\"\".split()"
   ]
  },
  {
   "cell_type": "markdown",
   "metadata": {},
   "source": [
    "### Read the processed RNA data\n",
    "\n",
    "Focus on the club and bc/club cells and type I interferons for now.\n",
    "\n",
    "Encode the timestamps to integers."
   ]
  },
  {
   "cell_type": "raw",
   "metadata": {},
   "source": [
    "adata_processed = sc.read(data_path + 'HBEC_type_I_processed.h5ad')"
   ]
  },
  {
   "cell_type": "code",
   "execution_count": 7,
   "metadata": {},
   "outputs": [],
   "source": [
    "adata = sc.read(data_path + 'HBEC_type_I_filtered_counts_deep.h5ad')"
   ]
  },
  {
   "cell_type": "code",
   "execution_count": 8,
   "metadata": {},
   "outputs": [
    {
     "name": "stderr",
     "output_type": "stream",
     "text": [
      "/home/ssm-user/anaconda3/envs/single_cell/lib/python3.8/site-packages/pandas/core/arrays/categorical.py:2487: FutureWarning: The `inplace` parameter in pandas.Categorical.remove_unused_categories is deprecated and will be removed in a future version.\n",
      "  res = method(*args, **kwargs)\n"
     ]
    }
   ],
   "source": [
    "adata = adata[:, ~adata.var.index.str.startswith('MT-')].copy()\n",
    "adata.obs['cell_type'] = adata.obs['cell_type'].apply(lambda x: x if x != 'basal/club' else 'bc')\n",
    "adata.obs['cell_type'] = adata.obs['cell_type'].apply(lambda x: x if x != 'ionocyte/tuft' else 'ion-tuft')"
   ]
  },
  {
   "cell_type": "raw",
   "metadata": {},
   "source": [
    "sc.pl.umap(adata_processed, color=['cell_type', 'time', 'stim'])"
   ]
  },
  {
   "cell_type": "code",
   "execution_count": 9,
   "metadata": {},
   "outputs": [
    {
     "data": {
      "text/plain": [
       "(69958, 36588)"
      ]
     },
     "execution_count": 9,
     "metadata": {},
     "output_type": "execute_result"
    }
   ],
   "source": [
    "adata.shape"
   ]
  },
  {
   "cell_type": "markdown",
   "metadata": {},
   "source": [
    "### Setup memento"
   ]
  },
  {
   "cell_type": "code",
   "execution_count": 10,
   "metadata": {},
   "outputs": [],
   "source": [
    "def assign_q(batch):\n",
    "    \n",
    "    if batch == 0:\n",
    "        return 0.387*0.25\n",
    "    elif batch == 1:\n",
    "        return 0.392*0.25\n",
    "    elif batch == 2:\n",
    "        return 0.436*0.25\n",
    "    else:\n",
    "        return 0.417*0.25"
   ]
  },
  {
   "cell_type": "code",
   "execution_count": 22,
   "metadata": {},
   "outputs": [],
   "source": [
    "adata.obs['q'] = adata.obs['batch'].apply(assign_q)"
   ]
  },
  {
   "cell_type": "code",
   "execution_count": 23,
   "metadata": {},
   "outputs": [],
   "source": [
    "memento.setup_memento(adata, q_column='q', trim_percent=0.1)"
   ]
  },
  {
   "cell_type": "markdown",
   "metadata": {},
   "source": [
    "### Compute TF mean corrs"
   ]
  },
  {
   "cell_type": "code",
   "execution_count": 24,
   "metadata": {},
   "outputs": [],
   "source": [
    "def get_2d_moments(tf, adata_stim):\n",
    "    \n",
    "    if tf not in adata_stim.var.index.tolist():\n",
    "        return None\n",
    "\n",
    "    memento.compute_2d_moments(adata_stim, list(itertools.product([tf], adata_stim.var.index)))\n",
    "\n",
    "    moment_df = memento.get_2d_moments(adata_stim, groupby='time')\n",
    "    \n",
    "    return moment_df\n",
    "\n",
    "def get_corr_diffs(stim):\n",
    "    \n",
    "    adata_stim = adata.copy()[\n",
    "    adata.obs.cell_type.isin(['ciliated']) & \\\n",
    "    adata.obs.stim.isin(['control', stim]) & \\\n",
    "    adata.obs.time.isin(['3','0'])].copy()\n",
    "\n",
    "    memento.create_groups(adata_stim, label_columns=['time', 'donor'])\n",
    "    memento.compute_1d_moments(adata_stim, min_perc_group=.9)\n",
    "    moment_1d_df = memento.get_1d_moments(adata_stim, groupby='time')\n",
    "    \n",
    "    tf_df_list = []\n",
    "    for idx, tf in enumerate(filtered_tfs):\n",
    "\n",
    "        df = get_2d_moments(tf, adata_stim)\n",
    "        if df is None:\n",
    "            continue\n",
    "        diff = df['time_3'].mean() - df['time_0'].mean()\n",
    "        tf_df_list.append((tf, diff))\n",
    "        del df\n",
    "\n",
    "    tf_df = pd.DataFrame(tf_df_list, columns=['tf', 'diff']).sort_values('diff', ascending=False)\n",
    "    tf_df['tf'] = tf_df['tf'].astype('category')\n",
    "    tf_order = tf_df.sort_values('diff', ascending=False).tf.tolist()\n",
    "    tf_df['tf'].cat.set_categories(tf_order, inplace=True)\n",
    "    tf_df.to_csv('corr_shift_{}.csv'.format(stim), index=False)\n",
    "    print('finished', stim)\n",
    "    return tf_df"
   ]
  },
  {
   "cell_type": "code",
   "execution_count": 25,
   "metadata": {},
   "outputs": [
    {
     "name": "stderr",
     "output_type": "stream",
     "text": [
      "/home/ssm-user/Github/scrna-parameter-estimation/dist/memento-0.0.5-py3.8.egg/memento/main.py:594: RuntimeWarning: invalid value encountered in true_divide\n"
     ]
    },
    {
     "name": "stdout",
     "output_type": "stream",
     "text": [
      "finished alpha\n",
      "finished beta\n",
      "finished gamma\n",
      "finished lambda\n"
     ]
    }
   ],
   "source": [
    "tf_df_alpha = get_corr_diffs('alpha')\n",
    "tf_df_beta = get_corr_diffs('beta')\n",
    "tf_df_gamma = get_corr_diffs('gamma')\n",
    "tf_df_lambda = get_corr_diffs('lambda')"
   ]
  },
  {
   "cell_type": "code",
   "execution_count": 81,
   "metadata": {},
   "outputs": [
    {
     "data": {
      "image/png": "[encoded data removed]",
      "text/plain": [
       "<Figure size 576x144 with 2 Axes>"
      ]
     },
     "metadata": {
      "needs_background": "light"
     },
     "output_type": "display_data"
    }
   ],
   "source": [
    "import matplotlib.pylab as pylab\n",
    "params = {'legend.fontsize': 'medium',\n",
    "         'axes.labelsize': 'medium',\n",
    "         'axes.titlesize':'medium',\n",
    "         'figure.titlesize':'medium',\n",
    "         'xtick.labelsize':'5.5',\n",
    "         'ytick.labelsize':'medium'}\n",
    "pylab.rcParams.update(params)\n",
    "\n",
    "\n",
    "plt.figure(figsize=(8, 2))\n",
    "plt.subplot(1, 2, 1);\n",
    "sns.barplot(x='tf', y='diff', data=tf_df_beta, errwidth=2)\n",
    "plt.xticks(rotation=90);\n",
    "plt.ylabel('Mean shift in corr')\n",
    "plt.xlabel(None)\n",
    "plt.title('IFN-B')\n",
    "\n",
    "plt.subplot(1, 2, 2);\n",
    "plt.title('IFN-G')\n",
    "\n",
    "sns.barplot(x='tf', y='diff', data=tf_df_gamma, errwidth=2)\n",
    "plt.xticks(rotation=90);\n",
    "plt.ylabel(None)\n",
    "plt.xlabel(None)\n",
    "plt.savefig(fig_path + 'tf_effect_sizes.pdf', bbox_inches='tight')\n"
   ]
  },
  {
   "cell_type": "markdown",
   "metadata": {},
   "source": [
    "### Individual examples \n",
    "\n",
    "IRF7, STAT1, IRF9"
   ]
  },
  {
   "cell_type": "code",
   "execution_count": 54,
   "metadata": {},
   "outputs": [
    {
     "name": "stderr",
     "output_type": "stream",
     "text": [
      "/home/ssm-user/anaconda3/envs/single_cell/lib/python3.8/site-packages/pandas/core/arrays/categorical.py:2487: FutureWarning: The `inplace` parameter in pandas.Categorical.remove_unused_categories is deprecated and will be removed in a future version.\n",
      "  res = method(*args, **kwargs)\n"
     ]
    }
   ],
   "source": [
    "# Do beta stim first\n",
    "adata_stim = adata.copy()[\n",
    "    adata.obs.cell_type.isin(['ciliated']) & \\\n",
    "    adata.obs.stim.isin(['control', 'beta']) & \\\n",
    "    adata.obs.time.isin(['3','0'])].copy()\n",
    "\n",
    "memento.create_groups(adata_stim, label_columns=['time', 'donor'])\n",
    "memento.compute_1d_moments(adata_stim, min_perc_group=.9)\n",
    "moment_1d_df = memento.get_1d_moments(adata_stim, groupby='time')\n",
    "\n",
    "# STAT1 \n",
    "memento.compute_2d_moments(adata_stim, list(itertools.product(['STAT1'], adata_stim.var.index)))\n",
    "moment_df = memento.get_2d_moments(adata_stim, groupby='time')\n",
    "stat1_ctrl = moment_df['time_0'].values\n",
    "stat1_beta = moment_df['time_3'].values\n",
    "\n",
    "# IRF7\n",
    "memento.compute_2d_moments(adata_stim, list(itertools.product(['IRF7'], adata_stim.var.index)))\n",
    "moment_df = memento.get_2d_moments(adata_stim, groupby='time')\n",
    "irf7_ctrl = moment_df['time_0'].values\n",
    "irf7_beta = moment_df['time_3'].values\n",
    "\n",
    "# IRF9\n",
    "memento.compute_2d_moments(adata_stim, list(itertools.product(['IRF9'], adata_stim.var.index)))\n",
    "moment_df = memento.get_2d_moments(adata_stim, groupby='time')\n",
    "irf9_ctrl = moment_df['time_0'].values\n",
    "irf9_beta = moment_df['time_3'].values"
   ]
  },
  {
   "cell_type": "code",
   "execution_count": 56,
   "metadata": {},
   "outputs": [
    {
     "name": "stderr",
     "output_type": "stream",
     "text": [
      "/home/ssm-user/anaconda3/envs/single_cell/lib/python3.8/site-packages/pandas/core/arrays/categorical.py:2487: FutureWarning: The `inplace` parameter in pandas.Categorical.remove_unused_categories is deprecated and will be removed in a future version.\n",
      "  res = method(*args, **kwargs)\n",
      "/home/ssm-user/Github/scrna-parameter-estimation/dist/memento-0.0.5-py3.8.egg/memento/main.py:594: RuntimeWarning: invalid value encountered in true_divide\n"
     ]
    }
   ],
   "source": [
    "# gamma stim\n",
    "adata_stim = adata.copy()[\n",
    "    adata.obs.cell_type.isin(['ciliated']) & \\\n",
    "    adata.obs.stim.isin(['control', 'gamma']) & \\\n",
    "    adata.obs.time.isin(['3','0'])].copy()\n",
    "\n",
    "memento.create_groups(adata_stim, label_columns=['time', 'donor'])\n",
    "memento.compute_1d_moments(adata_stim, min_perc_group=.9)\n",
    "moment_1d_df = memento.get_1d_moments(adata_stim, groupby='time')\n",
    "\n",
    "# STAT1 \n",
    "memento.compute_2d_moments(adata_stim, list(itertools.product(['STAT1'], adata_stim.var.index)))\n",
    "moment_df = memento.get_2d_moments(adata_stim, groupby='time')\n",
    "stat1_ctrl = moment_df['time_0'].values\n",
    "stat1_gamma = moment_df['time_3'].values\n",
    "\n",
    "# IRF7\n",
    "memento.compute_2d_moments(adata_stim, list(itertools.product(['IRF7'], adata_stim.var.index)))\n",
    "moment_df = memento.get_2d_moments(adata_stim, groupby='time')\n",
    "irf7_ctrl = moment_df['time_0'].values\n",
    "irf7_gamma = moment_df['time_3'].values\n",
    "\n",
    "# IRF9\n",
    "memento.compute_2d_moments(adata_stim, list(itertools.product(['IRF9'], adata_stim.var.index)))\n",
    "moment_df = memento.get_2d_moments(adata_stim, groupby='time')\n",
    "irf9_ctrl = moment_df['time_0'].values\n",
    "irf9_gamma = moment_df['time_3'].values"
   ]
  },
  {
   "cell_type": "code",
   "execution_count": 82,
   "metadata": {},
   "outputs": [
    {
     "data": {
      "image/png": "[encoded data removed]",
      "text/plain": [
       "<Figure size 360x144 with 2 Axes>"
      ]
     },
     "metadata": {
      "needs_background": "light"
     },
     "output_type": "display_data"
    }
   ],
   "source": [
    "import matplotlib.pylab as pylab\n",
    "params = {'legend.fontsize': 'medium',\n",
    "         'axes.labelsize': 'medium',\n",
    "         'axes.titlesize':'medium',\n",
    "         'figure.titlesize':'medium',\n",
    "         'xtick.labelsize':'medium',\n",
    "         'ytick.labelsize':'medium'}\n",
    "pylab.rcParams.update(params)\n",
    "\n",
    "plt.figure(figsize=(5, 2));\n",
    "plt.subplot(1, 2, 1);\n",
    "sns.kdeplot(stat1_ctrl, label='control');\n",
    "sns.kdeplot(stat1_beta, label='IFN-B');\n",
    "sns.kdeplot(stat1_gamma, label='IFN-G');\n",
    "plt.legend(loc='upper right', frameon=False, ncol=3, bbox_to_anchor=(2,1.2))\n",
    "plt.xlim(-0.5, 0.6)\n",
    "plt.xlabel('Correlation')\n",
    "plt.ylabel(None)\n",
    "\n",
    "plt.subplot(1, 2, 2);\n",
    "sns.kdeplot(irf7_ctrl, label='control');\n",
    "sns.kdeplot(irf7_beta, label='IFN-B');\n",
    "sns.kdeplot(irf7_gamma, label='IFN-G');\n",
    "plt.ylabel(None)\n",
    "plt.xlabel('Correlation')\n",
    "\n",
    "plt.xlim(-0.5, 0.6)\n",
    "plt.savefig(fig_path + 'tf_corr_hist.pdf', bbox_inches='tight')\n"
   ]
  },
  {
   "cell_type": "code",
   "execution_count": null,
   "metadata": {},
   "outputs": [],
   "source": []
  },
  {
   "cell_type": "code",
   "execution_count": null,
   "metadata": {},
   "outputs": [],
   "source": []
  },
  {
   "cell_type": "code",
   "execution_count": null,
   "metadata": {},
   "outputs": [],
   "source": []
  },
  {
   "cell_type": "code",
   "execution_count": 52,
   "metadata": {},
   "outputs": [
    {
     "data": {
      "text/html": [
       "<div>\n",
       "<style scoped>\n",
       "    .dataframe tbody tr th:only-of-type {\n",
       "        vertical-align: middle;\n",
       "    }\n",
       "\n",
       "    .dataframe tbody tr th {\n",
       "        vertical-align: top;\n",
       "    }\n",
       "\n",
       "    .dataframe thead th {\n",
       "        text-align: right;\n",
       "    }\n",
       "</style>\n",
       "<table border=\"1\" class=\"dataframe\">\n",
       "  <thead>\n",
       "    <tr style=\"text-align: right;\">\n",
       "      <th></th>\n",
       "      <th>gene_1</th>\n",
       "      <th>gene_2</th>\n",
       "      <th>time_3</th>\n",
       "      <th>time_0</th>\n",
       "    </tr>\n",
       "  </thead>\n",
       "  <tbody>\n",
       "    <tr>\n",
       "      <th>0</th>\n",
       "      <td>STAT1</td>\n",
       "      <td>LINC01409</td>\n",
       "      <td>0.199425</td>\n",
       "      <td>0.389398</td>\n",
       "    </tr>\n",
       "    <tr>\n",
       "      <th>1</th>\n",
       "      <td>STAT1</td>\n",
       "      <td>NOC2L</td>\n",
       "      <td>0.097018</td>\n",
       "      <td>0.127526</td>\n",
       "    </tr>\n",
       "    <tr>\n",
       "      <th>2</th>\n",
       "      <td>STAT1</td>\n",
       "      <td>HES4</td>\n",
       "      <td>0.352342</td>\n",
       "      <td>0.139460</td>\n",
       "    </tr>\n",
       "    <tr>\n",
       "      <th>3</th>\n",
       "      <td>STAT1</td>\n",
       "      <td>ISG15</td>\n",
       "      <td>0.719934</td>\n",
       "      <td>0.712075</td>\n",
       "    </tr>\n",
       "    <tr>\n",
       "      <th>4</th>\n",
       "      <td>STAT1</td>\n",
       "      <td>AGRN</td>\n",
       "      <td>0.219900</td>\n",
       "      <td>0.227282</td>\n",
       "    </tr>\n",
       "  </tbody>\n",
       "</table>\n",
       "</div>"
      ],
      "text/plain": [
       "  gene_1     gene_2    time_3    time_0\n",
       "0  STAT1  LINC01409  0.199425  0.389398\n",
       "1  STAT1      NOC2L  0.097018  0.127526\n",
       "2  STAT1       HES4  0.352342  0.139460\n",
       "3  STAT1      ISG15  0.719934  0.712075\n",
       "4  STAT1       AGRN  0.219900  0.227282"
      ]
     },
     "execution_count": 52,
     "metadata": {},
     "output_type": "execute_result"
    }
   ],
   "source": [
    "moment_df.head(5)"
   ]
  },
  {
   "cell_type": "code",
   "execution_count": 53,
   "metadata": {},
   "outputs": [
    {
     "data": {
      "text/plain": [
       "<AxesSubplot:ylabel='Density'>"
      ]
     },
     "execution_count": 53,
     "metadata": {},
     "output_type": "execute_result"
    },
    {
     "data": {
      "image/png": "[encoded data removed]",
      "text/plain": [
       "<Figure size 432x288 with 1 Axes>"
      ]
     },
     "metadata": {
      "needs_background": "light"
     },
     "output_type": "display_data"
    }
   ],
   "source": [
    "sns.kdeplot(moment_df['time_0'].values)"
   ]
  },
  {
   "cell_type": "code",
   "execution_count": 273,
   "metadata": {},
   "outputs": [],
   "source": [
    "joined = tf_df_beta \\\n",
    "    .merge(tf_df_gamma, on='tf', suffixes=('_beta', '_gamma'))\\\n",
    "    .merge(tf_df_alpha.rename(columns={'diff':'diff_alpha'}), on='tf')\n",
    "#     .merge(tf_df_lambda.rename(columns={'diff':'diff_lambda'}), on='tf')\n",
    "joined = joined.set_index('tf')#.clip(upper=0.07, lower=-0.07)"
   ]
  },
  {
   "cell_type": "code",
   "execution_count": 274,
   "metadata": {},
   "outputs": [],
   "source": [
    "clustered = joined.iloc[cg.dendrogram_row.reordered_ind, :].reset_index()"
   ]
  },
  {
   "cell_type": "code",
   "execution_count": 275,
   "metadata": {},
   "outputs": [],
   "source": [
    "# clustered = clustered.merge(tf_df_alpha.rename(columns={'diff':'diff_alpha'}), on='tf')"
   ]
  },
  {
   "cell_type": "code",
   "execution_count": 278,
   "metadata": {},
   "outputs": [
    {
     "data": {
      "image/png": "[encoded data removed]",
      "text/plain": [
       "<Figure size 576x216 with 2 Axes>"
      ]
     },
     "metadata": {
      "needs_background": "light"
     },
     "output_type": "display_data"
    }
   ],
   "source": [
    "plt.figure(figsize=(8, 3))\n",
    "sns.heatmap(clustered[['diff_alpha', 'diff_beta','diff_gamma']].values.T, cmap='coolwarm', center=0, vmax=0.1, vmin=-0.07)\n",
    "x=426\n",
    "# plt.plot([x, x], [-1, 10], color='k', lw=3)"
   ]
  },
  {
   "cell_type": "code",
   "execution_count": 260,
   "metadata": {},
   "outputs": [],
   "source": [
    "# ATF5, STAT1, STAT3, JUN\n",
    "# clustered.iloc[115:200].tf.tolist()"
   ]
  }
 ],
 "metadata": {
  "kernelspec": {
   "display_name": "Python 3",
   "language": "python",
   "name": "python3"
  },
  "language_info": {
   "codemirror_mode": {
    "name": "ipython",
    "version": 3
   },
   "file_extension": ".py",
   "mimetype": "text/x-python",
   "name": "python",
   "nbconvert_exporter": "python",
   "pygments_lexer": "ipython3",
   "version": "3.8.8"
  }
 },
 "nbformat": 4,
 "nbformat_minor": 4
}
