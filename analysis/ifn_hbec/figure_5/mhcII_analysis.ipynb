{
 "cells": [
  {
   "cell_type": "markdown",
   "metadata": {},
   "source": [
    "# MHC II Analysis"
   ]
  },
  {
   "cell_type": "code",
   "execution_count": 89,
   "metadata": {},
   "outputs": [],
   "source": [
    "import scanpy as sc\n",
    "import seaborn as sns\n",
    "import pandas as pd\n",
    "import matplotlib.pyplot as plt\n",
    "import numpy as np\n",
    "import scipy.stats as stats\n",
    "from pybedtools import BedTool\n",
    "import pickle as pkl\n",
    "import itertools\n",
    "%matplotlib inline"
   ]
  },
  {
   "cell_type": "code",
   "execution_count": 90,
   "metadata": {},
   "outputs": [],
   "source": [
    "import matplotlib\n",
    "matplotlib.rcParams['pdf.fonttype'] = 42\n",
    "matplotlib.rcParams['ps.fonttype'] = 42"
   ]
  },
  {
   "cell_type": "code",
   "execution_count": 91,
   "metadata": {},
   "outputs": [],
   "source": [
    "import sys\n",
    "sys.path.append('/home/ssm-user/Github/scrna-parameter-estimation/dist/memento-0.0.5-py3.8.egg')\n",
    "sys.path.append('/home/ssm-user/Github/misc-seq/miscseq/')\n",
    "import encode\n",
    "import memento"
   ]
  },
  {
   "cell_type": "code",
   "execution_count": 92,
   "metadata": {},
   "outputs": [],
   "source": [
    "data_path = '/data_volume/ifn_hbec/'\n",
    "fig_path = '/home/ssm-user/Github/scrna-parameter-estimation/figures/fig5/main/'"
   ]
  },
  {
   "cell_type": "markdown",
   "metadata": {},
   "source": [
    "### Read the processed RNA data\n",
    "\n",
    "Focus on the club and bc/club cells and type I interferons for now.\n",
    "\n",
    "Encode the timestamps to integers."
   ]
  },
  {
   "cell_type": "raw",
   "metadata": {},
   "source": [
    "adata_processed = sc.read(data_path + 'HBEC_type_I_processed.h5ad')"
   ]
  },
  {
   "cell_type": "code",
   "execution_count": 93,
   "metadata": {},
   "outputs": [],
   "source": [
    "adata = sc.read(data_path + 'HBEC_type_I_filtered_counts_deep.h5ad')"
   ]
  },
  {
   "cell_type": "code",
   "execution_count": 94,
   "metadata": {},
   "outputs": [
    {
     "name": "stderr",
     "output_type": "stream",
     "text": [
      "/home/ssm-user/anaconda3/envs/single_cell/lib/python3.8/site-packages/pandas/core/arrays/categorical.py:2487: FutureWarning: The `inplace` parameter in pandas.Categorical.remove_unused_categories is deprecated and will be removed in a future version.\n",
      "  res = method(*args, **kwargs)\n"
     ]
    }
   ],
   "source": [
    "adata = adata[:, ~adata.var.index.str.startswith('MT-')].copy()\n",
    "adata.obs['cell_type'] = adata.obs['cell_type'].apply(lambda x: x if x != 'basal/club' else 'bc')\n",
    "adata.obs['cell_type'] = adata.obs['cell_type'].apply(lambda x: x if x != 'ionocyte/tuft' else 'ion-tuft')"
   ]
  },
  {
   "cell_type": "raw",
   "metadata": {},
   "source": [
    "sc.pl.umap(adata_processed, color=['cell_type', 'time', 'stim'])"
   ]
  },
  {
   "cell_type": "code",
   "execution_count": 95,
   "metadata": {},
   "outputs": [
    {
     "data": {
      "text/plain": [
       "(69958, 36588)"
      ]
     },
     "execution_count": 95,
     "metadata": {},
     "output_type": "execute_result"
    }
   ],
   "source": [
    "adata.shape"
   ]
  },
  {
   "cell_type": "markdown",
   "metadata": {},
   "source": [
    "### Setup memento"
   ]
  },
  {
   "cell_type": "code",
   "execution_count": 96,
   "metadata": {},
   "outputs": [],
   "source": [
    "def assign_q(batch):\n",
    "    \n",
    "    if batch == 0:\n",
    "        return 0.387*0.25\n",
    "    elif batch == 1:\n",
    "        return 0.392*0.25\n",
    "    elif batch == 2:\n",
    "        return 0.436*0.25\n",
    "    else:\n",
    "        return 0.417*0.25"
   ]
  },
  {
   "cell_type": "code",
   "execution_count": 97,
   "metadata": {},
   "outputs": [],
   "source": [
    "adata.obs['q'] = adata.obs['batch'].apply(assign_q)"
   ]
  },
  {
   "cell_type": "code",
   "execution_count": 98,
   "metadata": {},
   "outputs": [],
   "source": [
    "memento.setup_memento(adata, q_column='q', trim_percent=0.1, filter_mean_thresh=0.04)"
   ]
  },
  {
   "cell_type": "markdown",
   "metadata": {},
   "source": [
    "### Check some expresssion level over time"
   ]
  },
  {
   "cell_type": "code",
   "execution_count": 108,
   "metadata": {},
   "outputs": [],
   "source": [
    "stim = 'gamma'\n",
    "ct = ['ciliated']"
   ]
  },
  {
   "cell_type": "code",
   "execution_count": 109,
   "metadata": {},
   "outputs": [
    {
     "name": "stderr",
     "output_type": "stream",
     "text": [
      "/home/ssm-user/anaconda3/envs/single_cell/lib/python3.8/site-packages/pandas/core/arrays/categorical.py:2487: FutureWarning: The `inplace` parameter in pandas.Categorical.remove_unused_categories is deprecated and will be removed in a future version.\n",
      "  res = method(*args, **kwargs)\n",
      "/home/ssm-user/Github/scrna-parameter-estimation/dist/memento-0.0.5-py3.8.egg/memento/estimator.py:105: RuntimeWarning: invalid value encountered in log\n"
     ]
    }
   ],
   "source": [
    "subset = adata[adata.obs['cell_type'].isin(ct) & adata.obs.stim.isin(['control', stim])].copy().copy()\n",
    "memento.create_groups(subset, label_columns=['time', 'donor'])\n",
    "memento.compute_1d_moments(subset, min_perc_group=.9)\n",
    "mean_df = memento.get_1d_moments(subset, groupby='time')[0][['gene'] + ['time_' + str(i) for i in [0, 3, 6, 9, 24, 48]]]\n",
    "var_df = memento.get_1d_moments(subset, groupby='time')[1][['gene'] + ['time_' + str(i) for i in [0, 3, 6, 9, 24, 48]]]"
   ]
  },
  {
   "cell_type": "code",
   "execution_count": 110,
   "metadata": {},
   "outputs": [
    {
     "data": {
      "image/png": "[encoded data removed]",
      "text/plain": [
       "<Figure size 360x144 with 2 Axes>"
      ]
     },
     "metadata": {
      "needs_background": "light"
     },
     "output_type": "display_data"
    }
   ],
   "source": [
    "d = mean_df.query('gene.isin([\"REL\", \"NFKB2\"])', engine='python')\n",
    "plt.figure(figsize=(5,2))\n",
    "plt.subplots_adjust(wspace=0.4)\n",
    "locs = [1, 2]\n",
    "cs = [0, 2]\n",
    "num=0\n",
    "for idx, row in d.iterrows():\n",
    "    plt.subplot(1,2,locs[num])\n",
    "    plt.plot(row.values[1:], '-o')\n",
    "    plt.title(row['gene'])\n",
    "    plt.xticks([0, 1, 2, 3, 4, 5], ['0', '3', '6', '9', '24', '48'])\n",
    "    if num == 0:\n",
    "        plt.ylabel('Mean expr')\n",
    "    plt.xlabel('time (hr)')\n",
    "    num +=1\n",
    "\n",
    "# plt.savefig(fig_path + 'mhc_aux_mean.pdf', bbox_inches='tight')\n"
   ]
  },
  {
   "cell_type": "code",
   "execution_count": 111,
   "metadata": {},
   "outputs": [],
   "source": [
    "class2_genes = [ 'HLA-DRA',\n",
    " 'HLA-DRB1',\n",
    " 'HLA-DQB1',\n",
    " 'HLA-DMB',\n",
    " 'HLA-DMA',\n",
    " 'HLA-DPA1',\n",
    " 'HLA-DPB1']\n",
    "class1_genes = [\"HLA-A\", \"HLA-B\", \"HLA-C\", \"B2M\"]"
   ]
  },
  {
   "cell_type": "code",
   "execution_count": 112,
   "metadata": {},
   "outputs": [
    {
     "data": {
      "text/plain": [
       "Text(0.5, 0, 'time (hr)')"
      ]
     },
     "execution_count": 112,
     "metadata": {},
     "output_type": "execute_result"
    },
    {
     "data": {
      "image/png": "[encoded data removed]",
      "text/plain": [
       "<Figure size 144x144 with 1 Axes>"
      ]
     },
     "metadata": {
      "needs_background": "light"
     },
     "output_type": "display_data"
    }
   ],
   "source": [
    "plt.figure(figsize=(2,2))\n",
    "d = mean_df.query('gene.isin([\"HLA-A\", \"HLA-B\", \"HLA-C\", \"B2M\"])', engine='python').values[:,1:]\n",
    "d = d - d[:, 0].reshape(-1,1)\n",
    "plt.plot(d.T, '-o'); plt.ylabel('Relative mean expr')\n",
    "plt.xticks([0, 1, 2, 3, 4, 5], ['0', '3', '6', '9', '24', '48']); plt.xlabel('time (hr)')"
   ]
  },
  {
   "cell_type": "code",
   "execution_count": 113,
   "metadata": {},
   "outputs": [],
   "source": [
    "class2_genes = [ 'HLA-DRA',\n",
    " 'HLA-DRB1',\n",
    " 'HLA-DQB1',\n",
    " 'HLA-DPA1',\n",
    " 'HLA-DPB1']"
   ]
  },
  {
   "cell_type": "code",
   "execution_count": 120,
   "metadata": {},
   "outputs": [
    {
     "data": {
      "text/plain": [
       "Text(0.5, 0, 'time (hr)')"
      ]
     },
     "execution_count": 120,
     "metadata": {},
     "output_type": "execute_result"
    },
    {
     "data": {
      "image/png": "[encoded data removed]",
      "text/plain": [
       "<Figure size 144x144 with 1 Axes>"
      ]
     },
     "metadata": {
      "needs_background": "light"
     },
     "output_type": "display_data"
    }
   ],
   "source": [
    "plt.figure(figsize=(2,2))\n",
    "d = mean_df.query('gene in @class1_genes', engine='python').values[:,1:]\n",
    "d = d - d[:, 0].reshape(-1,1)\n",
    "plt.plot(d.T, '-o'); plt.ylabel('Relative mean expr')\n",
    "plt.xticks([0, 1, 2, 3, 4, 5], ['0', '3', '6', '9', '24', '48']); plt.xlabel('time (hr)')"
   ]
  },
  {
   "cell_type": "code",
   "execution_count": 119,
   "metadata": {},
   "outputs": [
    {
     "data": {
      "text/plain": [
       "Text(0.5, 0, 'time (hr)')"
      ]
     },
     "execution_count": 119,
     "metadata": {},
     "output_type": "execute_result"
    },
    {
     "data": {
      "image/png": "[encoded data removed]",
      "text/plain": [
       "<Figure size 144x144 with 1 Axes>"
      ]
     },
     "metadata": {
      "needs_background": "light"
     },
     "output_type": "display_data"
    }
   ],
   "source": [
    "plt.figure(figsize=(2,2))\n",
    "d = mean_df.query('gene in @class2_genes', engine='python').values[:,1:]\n",
    "d = d - d[:, 0].reshape(-1,1)\n",
    "plt.plot(d.T, '-o'); plt.ylabel('Relative mean expr')\n",
    "plt.xticks([0, 1, 2, 3, 4, 5], ['0', '3', '6', '9', '24', '48']); plt.xlabel('time (hr)')"
   ]
  },
  {
   "cell_type": "code",
   "execution_count": 128,
   "metadata": {},
   "outputs": [
    {
     "data": {
      "text/plain": [
       "Text(0.5, 0, 'time (hr)')"
      ]
     },
     "execution_count": 128,
     "metadata": {},
     "output_type": "execute_result"
    },
    {
     "data": {
      "image/png": "[encoded data removed]",
      "text/plain": [
       "<Figure size 144x144 with 1 Axes>"
      ]
     },
     "metadata": {
      "needs_background": "light"
     },
     "output_type": "display_data"
    }
   ],
   "source": [
    "plt.figure(figsize=(2,2))\n",
    "d = mean_df.query('gene.isin([\"RELA\", \"NFKB2\"])', engine='python').values[:,1:]\n",
    "# d = d - d[:, 0].reshape(-1,1)\n",
    "plt.plot(d.T, '-o'); plt.ylabel('Relative mean expr')\n",
    "plt.xticks([0, 1, 2, 3, 4, 5], ['0', '3', '6', '9', '24', '48']); plt.xlabel('time (hr)')"
   ]
  },
  {
   "cell_type": "code",
   "execution_count": null,
   "metadata": {},
   "outputs": [],
   "source": [
    "mhc_genes"
   ]
  },
  {
   "cell_type": "code",
   "execution_count": null,
   "metadata": {},
   "outputs": [],
   "source": [
    "plt.figure(figsize=(2,2))\n",
    "d = mean_df.query('gene.isin([\"HLA-A\", \"HLA-B\", \"HLA-C\", \"B2M\"])', engine='python').values[:,1:]\n",
    "d = d - d[:, 0].reshape(-1,1)\n",
    "plt.plot(d.T, '-o'); plt.ylabel('Relative mean expr')\n",
    "plt.xticks([0, 1, 2, 3, 4, 5], ['0', '3', '6', '9', '24', '48']); plt.xlabel('time (hr)')"
   ]
  },
  {
   "cell_type": "markdown",
   "metadata": {},
   "source": [
    "### Correlation of MHC I transcripts to STAT1"
   ]
  },
  {
   "cell_type": "code",
   "execution_count": 18,
   "metadata": {},
   "outputs": [],
   "source": [
    "canonical_isgs = pd.read_csv('alpha_beta_reactome.txt', header=None)[0].tolist()\n"
   ]
  },
  {
   "cell_type": "code",
   "execution_count": 19,
   "metadata": {},
   "outputs": [
    {
     "name": "stdout",
     "output_type": "stream",
     "text": [
      "starting ['ciliated'] 3 beta\n"
     ]
    },
    {
     "name": "stderr",
     "output_type": "stream",
     "text": [
      "/home/ssm-user/anaconda3/envs/single_cell/lib/python3.8/site-packages/pandas/core/arrays/categorical.py:2487: FutureWarning: The `inplace` parameter in pandas.Categorical.remove_unused_categories is deprecated and will be removed in a future version.\n",
      "  res = method(*args, **kwargs)\n"
     ]
    },
    {
     "name": "stdout",
     "output_type": "stream",
     "text": [
      "starting ['ciliated'] 6 beta\n"
     ]
    },
    {
     "name": "stderr",
     "output_type": "stream",
     "text": [
      "/home/ssm-user/Github/scrna-parameter-estimation/dist/memento-0.0.5-py3.8.egg/memento/main.py:594: RuntimeWarning: invalid value encountered in true_divide\n"
     ]
    },
    {
     "name": "stdout",
     "output_type": "stream",
     "text": [
      "starting ['ciliated'] 9 beta\n",
      "starting ['ciliated'] 24 beta\n",
      "starting ['ciliated'] 48 beta\n"
     ]
    }
   ],
   "source": [
    "cts = [['ciliated']]\n",
    "tps = ['3', '6', '9', '24', '48']\n",
    "stims = ['beta']\n",
    "\n",
    "\n",
    "for ct in cts:\n",
    "    for tp in tps:\n",
    "        for stim in stims:\n",
    "                            \n",
    "            print('starting', ct, tp, stim)\n",
    "\n",
    "            adata_stim = adata.copy()[\n",
    "                adata.obs.cell_type.isin(ct) & \\\n",
    "                adata.obs.stim.isin(['control', stim]) & \\\n",
    "                adata.obs.time.isin(['0',tp]), :].copy()\n",
    "            time_converter={0:0, int(tp):1}\n",
    "            adata_stim.obs['time_step'] = adata_stim.obs['time'].astype(int).apply(lambda x: time_converter[x])\n",
    "\n",
    "            memento.create_groups(adata_stim, label_columns=['time_step', 'donor'])\n",
    "            memento.compute_1d_moments(adata_stim, min_perc_group=.9)\n",
    "            \n",
    "            m, v, count = memento.get_1d_moments(adata_stim)\n",
    "            mhc_genes = m.query('gene.str.contains(\"HLA\")', engine='python').gene.tolist()\n",
    "            \n",
    "            tf_list = ['STAT1']\n",
    "            gene_list = adata_stim.var.index.tolist()\n",
    "            \n",
    "            isgs = list(set(canonical_isgs) & set(gene_list))\n",
    "            \n",
    "            target_list = list(set(isgs) | set(mhc_genes))\n",
    "            \n",
    "            memento.compute_2d_moments(adata_stim, list(itertools.product(tf_list,target_list)))\n",
    "\n",
    "            moment_df = memento.get_2d_moments(adata_stim, groupby='time_step')\n",
    "            moment_df.to_csv('/data_volume/ifn_hbec/tf_test/moments_{}_{}_{}_mhc1_20210329.csv'.format('-'.join(ct), stim, tp), index=False)"
   ]
  },
  {
   "cell_type": "code",
   "execution_count": 20,
   "metadata": {},
   "outputs": [],
   "source": [
    "stim = 'beta'\n",
    "ct = ['ciliated']\n",
    "for tp in ['3', '6', '9', '24', '48']:\n",
    "    \n",
    "    moments = pd.read_csv('/data_volume/ifn_hbec/tf_test/moments_{}_{}_{}_mhc1_20210329.csv'.format('-'.join(ct), stim, tp)).rename(columns={'time_step_0':'time_0', 'time_step_1':'time_'+tp})\n",
    "    \n",
    "    if tp == '3':\n",
    "        moment_df = moments[['gene_1', 'gene_2', 'time_0', 'time_3']].copy()\n",
    "        \n",
    "    else:\n",
    "        moment_df = moment_df.merge(moments[['gene_1', 'gene_2', 'time_{}'.format(tp)]].copy(), on=['gene_1', 'gene_2'], how='inner')"
   ]
  },
  {
   "cell_type": "code",
   "execution_count": 26,
   "metadata": {},
   "outputs": [
    {
     "data": {
      "text/plain": [
       "['HHLA3',\n",
       " 'HHLA2',\n",
       " 'HLA-F',\n",
       " 'HLA-A',\n",
       " 'HLA-E',\n",
       " 'HLA-C',\n",
       " 'HLA-B',\n",
       " 'HLA-DRA',\n",
       " 'HLA-DRB1',\n",
       " 'HLA-DQB1',\n",
       " 'HLA-DMB',\n",
       " 'HLA-DMA',\n",
       " 'HLA-DPA1',\n",
       " 'HLA-DPB1']"
      ]
     },
     "execution_count": 26,
     "metadata": {},
     "output_type": "execute_result"
    }
   ],
   "source": [
    "mhc_genes"
   ]
  },
  {
   "cell_type": "code",
   "execution_count": 27,
   "metadata": {},
   "outputs": [],
   "source": [
    "class2_genes = [ 'HLA-DRA',\n",
    " 'HLA-DRB1',\n",
    " 'HLA-DQB1',\n",
    " 'HLA-DMB',\n",
    " 'HLA-DMA',\n",
    " 'HLA-DPA1',\n",
    " 'HLA-DPB1']"
   ]
  },
  {
   "cell_type": "code",
   "execution_count": 41,
   "metadata": {},
   "outputs": [
    {
     "data": {
      "text/plain": [
       "<matplotlib.legend.Legend at 0x7f4f6ff41eb0>"
      ]
     },
     "execution_count": 41,
     "metadata": {},
     "output_type": "execute_result"
    },
    {
     "data": {
      "image/png": "[encoded data removed]",
      "text/plain": [
       "<Figure size 360x216 with 1 Axes>"
      ]
     },
     "metadata": {
      "needs_background": "light"
     },
     "output_type": "display_data"
    }
   ],
   "source": [
    "tf = 'STAT1'\n",
    "# plt.subplot(1, 3, 2)\n",
    "plt.figure(figsize=(5,3))\n",
    "plt.plot(moment_df.query('gene_1 == \"{}\" & gene_2 in @class2_genes'.format(tf)).values[:, 2:].T, '--o')\n",
    "plt.xticks([0, 1, 2, 3, 4, 5], ['0', '3', '6', '9', '24', '48'])\n",
    "plt.xlabel('Time (hr)'); plt.ylabel('Corr {}'.format(tf))\n",
    "plt.xlim(-0.5, 8)\n",
    "plt.legend(moment_df.query('gene_1 == \"{}\" & gene_2 in @class2_genes'.format(tf)).gene_2, frameon=False, ncol=1, loc='upper right')"
   ]
  },
  {
   "cell_type": "code",
   "execution_count": 22,
   "metadata": {},
   "outputs": [
    {
     "data": {
      "text/html": [
       "<div>\n",
       "<style scoped>\n",
       "    .dataframe tbody tr th:only-of-type {\n",
       "        vertical-align: middle;\n",
       "    }\n",
       "\n",
       "    .dataframe tbody tr th {\n",
       "        vertical-align: top;\n",
       "    }\n",
       "\n",
       "    .dataframe thead th {\n",
       "        text-align: right;\n",
       "    }\n",
       "</style>\n",
       "<table border=\"1\" class=\"dataframe\">\n",
       "  <thead>\n",
       "    <tr style=\"text-align: right;\">\n",
       "      <th></th>\n",
       "      <th>gene_1</th>\n",
       "      <th>gene_2</th>\n",
       "      <th>time_0</th>\n",
       "      <th>time_3</th>\n",
       "      <th>time_6</th>\n",
       "      <th>time_9</th>\n",
       "      <th>time_24</th>\n",
       "      <th>time_48</th>\n",
       "    </tr>\n",
       "  </thead>\n",
       "  <tbody>\n",
       "    <tr>\n",
       "      <th>1</th>\n",
       "      <td>STAT1</td>\n",
       "      <td>HLA-DMA</td>\n",
       "      <td>0.186085</td>\n",
       "      <td>0.276302</td>\n",
       "      <td>0.335635</td>\n",
       "      <td>0.204530</td>\n",
       "      <td>0.195442</td>\n",
       "      <td>0.197912</td>\n",
       "    </tr>\n",
       "    <tr>\n",
       "      <th>4</th>\n",
       "      <td>STAT1</td>\n",
       "      <td>HLA-E</td>\n",
       "      <td>0.415575</td>\n",
       "      <td>0.547246</td>\n",
       "      <td>0.587484</td>\n",
       "      <td>0.544590</td>\n",
       "      <td>0.566349</td>\n",
       "      <td>0.526313</td>\n",
       "    </tr>\n",
       "    <tr>\n",
       "      <th>9</th>\n",
       "      <td>STAT1</td>\n",
       "      <td>HLA-DQB1</td>\n",
       "      <td>0.067106</td>\n",
       "      <td>0.181302</td>\n",
       "      <td>0.170235</td>\n",
       "      <td>0.119651</td>\n",
       "      <td>0.206668</td>\n",
       "      <td>0.072616</td>\n",
       "    </tr>\n",
       "    <tr>\n",
       "      <th>10</th>\n",
       "      <td>STAT1</td>\n",
       "      <td>HLA-A</td>\n",
       "      <td>0.184255</td>\n",
       "      <td>0.416530</td>\n",
       "      <td>0.406567</td>\n",
       "      <td>0.169951</td>\n",
       "      <td>0.140786</td>\n",
       "      <td>0.112371</td>\n",
       "    </tr>\n",
       "    <tr>\n",
       "      <th>11</th>\n",
       "      <td>STAT1</td>\n",
       "      <td>HHLA3</td>\n",
       "      <td>0.022620</td>\n",
       "      <td>0.094330</td>\n",
       "      <td>0.003656</td>\n",
       "      <td>-0.075182</td>\n",
       "      <td>0.036877</td>\n",
       "      <td>0.026201</td>\n",
       "    </tr>\n",
       "    <tr>\n",
       "      <th>12</th>\n",
       "      <td>STAT1</td>\n",
       "      <td>HLA-B</td>\n",
       "      <td>0.201227</td>\n",
       "      <td>0.420494</td>\n",
       "      <td>0.434898</td>\n",
       "      <td>0.246592</td>\n",
       "      <td>0.201684</td>\n",
       "      <td>0.156004</td>\n",
       "    </tr>\n",
       "    <tr>\n",
       "      <th>23</th>\n",
       "      <td>STAT1</td>\n",
       "      <td>HLA-DPB1</td>\n",
       "      <td>0.060931</td>\n",
       "      <td>0.130701</td>\n",
       "      <td>0.191342</td>\n",
       "      <td>0.032517</td>\n",
       "      <td>0.048804</td>\n",
       "      <td>0.052269</td>\n",
       "    </tr>\n",
       "    <tr>\n",
       "      <th>29</th>\n",
       "      <td>STAT1</td>\n",
       "      <td>HLA-DMB</td>\n",
       "      <td>0.299191</td>\n",
       "      <td>0.289529</td>\n",
       "      <td>0.416531</td>\n",
       "      <td>0.234043</td>\n",
       "      <td>0.268440</td>\n",
       "      <td>0.167772</td>\n",
       "    </tr>\n",
       "    <tr>\n",
       "      <th>34</th>\n",
       "      <td>STAT1</td>\n",
       "      <td>HLA-F</td>\n",
       "      <td>0.303196</td>\n",
       "      <td>0.464457</td>\n",
       "      <td>0.516259</td>\n",
       "      <td>0.421187</td>\n",
       "      <td>0.428796</td>\n",
       "      <td>0.360041</td>\n",
       "    </tr>\n",
       "    <tr>\n",
       "      <th>36</th>\n",
       "      <td>STAT1</td>\n",
       "      <td>HLA-DPA1</td>\n",
       "      <td>0.100393</td>\n",
       "      <td>0.196178</td>\n",
       "      <td>0.210389</td>\n",
       "      <td>0.072522</td>\n",
       "      <td>0.030815</td>\n",
       "      <td>0.067726</td>\n",
       "    </tr>\n",
       "    <tr>\n",
       "      <th>37</th>\n",
       "      <td>STAT1</td>\n",
       "      <td>HLA-DRA</td>\n",
       "      <td>0.105812</td>\n",
       "      <td>0.231021</td>\n",
       "      <td>0.298720</td>\n",
       "      <td>0.147293</td>\n",
       "      <td>0.128012</td>\n",
       "      <td>0.103219</td>\n",
       "    </tr>\n",
       "    <tr>\n",
       "      <th>39</th>\n",
       "      <td>STAT1</td>\n",
       "      <td>HLA-DRB1</td>\n",
       "      <td>0.113927</td>\n",
       "      <td>0.172371</td>\n",
       "      <td>0.256908</td>\n",
       "      <td>0.079413</td>\n",
       "      <td>0.043131</td>\n",
       "      <td>0.023973</td>\n",
       "    </tr>\n",
       "    <tr>\n",
       "      <th>50</th>\n",
       "      <td>STAT1</td>\n",
       "      <td>HHLA2</td>\n",
       "      <td>-0.260856</td>\n",
       "      <td>-0.041884</td>\n",
       "      <td>-0.019421</td>\n",
       "      <td>-0.189874</td>\n",
       "      <td>-0.209345</td>\n",
       "      <td>-0.207818</td>\n",
       "    </tr>\n",
       "    <tr>\n",
       "      <th>57</th>\n",
       "      <td>STAT1</td>\n",
       "      <td>HLA-C</td>\n",
       "      <td>0.319793</td>\n",
       "      <td>0.477181</td>\n",
       "      <td>0.521650</td>\n",
       "      <td>0.416268</td>\n",
       "      <td>0.395361</td>\n",
       "      <td>0.317643</td>\n",
       "    </tr>\n",
       "  </tbody>\n",
       "</table>\n",
       "</div>"
      ],
      "text/plain": [
       "   gene_1    gene_2    time_0    time_3    time_6    time_9   time_24  \\\n",
       "1   STAT1   HLA-DMA  0.186085  0.276302  0.335635  0.204530  0.195442   \n",
       "4   STAT1     HLA-E  0.415575  0.547246  0.587484  0.544590  0.566349   \n",
       "9   STAT1  HLA-DQB1  0.067106  0.181302  0.170235  0.119651  0.206668   \n",
       "10  STAT1     HLA-A  0.184255  0.416530  0.406567  0.169951  0.140786   \n",
       "11  STAT1     HHLA3  0.022620  0.094330  0.003656 -0.075182  0.036877   \n",
       "12  STAT1     HLA-B  0.201227  0.420494  0.434898  0.246592  0.201684   \n",
       "23  STAT1  HLA-DPB1  0.060931  0.130701  0.191342  0.032517  0.048804   \n",
       "29  STAT1   HLA-DMB  0.299191  0.289529  0.416531  0.234043  0.268440   \n",
       "34  STAT1     HLA-F  0.303196  0.464457  0.516259  0.421187  0.428796   \n",
       "36  STAT1  HLA-DPA1  0.100393  0.196178  0.210389  0.072522  0.030815   \n",
       "37  STAT1   HLA-DRA  0.105812  0.231021  0.298720  0.147293  0.128012   \n",
       "39  STAT1  HLA-DRB1  0.113927  0.172371  0.256908  0.079413  0.043131   \n",
       "50  STAT1     HHLA2 -0.260856 -0.041884 -0.019421 -0.189874 -0.209345   \n",
       "57  STAT1     HLA-C  0.319793  0.477181  0.521650  0.416268  0.395361   \n",
       "\n",
       "     time_48  \n",
       "1   0.197912  \n",
       "4   0.526313  \n",
       "9   0.072616  \n",
       "10  0.112371  \n",
       "11  0.026201  \n",
       "12  0.156004  \n",
       "23  0.052269  \n",
       "29  0.167772  \n",
       "34  0.360041  \n",
       "36  0.067726  \n",
       "37  0.103219  \n",
       "39  0.023973  \n",
       "50 -0.207818  \n",
       "57  0.317643  "
      ]
     },
     "execution_count": 22,
     "metadata": {},
     "output_type": "execute_result"
    }
   ],
   "source": [
    "moment_df.query('gene_2.str.contains(\"HLA\")',engine='python')"
   ]
  },
  {
   "cell_type": "code",
   "execution_count": 162,
   "metadata": {},
   "outputs": [
    {
     "data": {
      "image/png": "[encoded data removed]",
      "text/plain": [
       "<Figure size 432x144 with 3 Axes>"
      ]
     },
     "metadata": {
      "needs_background": "light"
     },
     "output_type": "display_data"
    }
   ],
   "source": [
    "tf = 'STAT1'\n",
    "plt.figure(figsize=(6,2))\n",
    "plt.subplots_adjust(wspace=0.5)\n",
    "plt.subplot(1, 3, 1);\n",
    "\n",
    "d = mean_df.query('gene.isin([\"HLA-A\", \"HLA-B\", \"HLA-C\", \"B2M\"])', engine='python').values[:,1:]\n",
    "d = d - d[:, 0].reshape(-1,1)\n",
    "plt.plot(d.T, '-o'); plt.ylabel('Relative mean expr')\n",
    "plt.xticks([0, 1, 2, 3, 4, 5], ['0', '3', '6', '9', '24', '48']); plt.xlabel('time (hr)')\n",
    "\n",
    "plt.subplot(1, 3, 2)\n",
    "plt.plot(moment_df.query('gene_1 == \"{}\" & gene_2 in @mhc_genes'.format(tf)).values[:, 2:].T, '--o')\n",
    "plt.xticks([0, 1, 2, 3, 4, 5], ['0', '3', '6', '9', '24', '48'])\n",
    "plt.xlabel('Time (hr)'); plt.ylabel('Corr {}'.format(tf))\n",
    "plt.ylim(0, 0.55)\n",
    "plt.legend(moment_df.query('gene_1 == \"{}\" & gene_2 in @mhc_genes'.format(tf)).gene_2, frameon=False, ncol=4, bbox_to_anchor=(1.3,1.2))\n",
    "\n",
    "\n",
    "select_isgs = ['MX1','MX2', 'OAS3', 'IFIT3', 'IFI2']\n",
    "plt.subplot(1, 3, 3)\n",
    "for i in range(4):\n",
    "    plt.plot(moment_df.query('gene_1 == \"{}\" & gene_2 in @select_isgs'.format(tf)).values[i, 2:].T, '--o', color=plt.rcParams['axes.prop_cycle'].by_key()['color'][4+i])\n",
    "plt.xticks([0, 1, 2, 3, 4, 5], ['0', '3', '6', '9', '24', '48'])\n",
    "plt.xlabel('Time (hr)'); plt.ylabel('Corr {}'.format(tf))\n",
    "plt.ylim(0.4, 1);\n",
    "plt.legend(moment_df.query('gene_1 == \"{}\" & gene_2 in @select_isgs'.format(tf)).gene_2, frameon=False, ncol=2, bbox_to_anchor=(1,1))\n",
    "\n",
    "plt.savefig(fig_path + 'mhc_mean_corr.pdf', bbox_inches='tight')"
   ]
  },
  {
   "cell_type": "code",
   "execution_count": 88,
   "metadata": {},
   "outputs": [
    {
     "data": {
      "text/html": [
       "<div>\n",
       "<style scoped>\n",
       "    .dataframe tbody tr th:only-of-type {\n",
       "        vertical-align: middle;\n",
       "    }\n",
       "\n",
       "    .dataframe tbody tr th {\n",
       "        vertical-align: top;\n",
       "    }\n",
       "\n",
       "    .dataframe thead th {\n",
       "        text-align: right;\n",
       "    }\n",
       "</style>\n",
       "<table border=\"1\" class=\"dataframe\">\n",
       "  <thead>\n",
       "    <tr style=\"text-align: right;\">\n",
       "      <th></th>\n",
       "      <th>gene_1</th>\n",
       "      <th>gene_2</th>\n",
       "      <th>time_0</th>\n",
       "      <th>time_3</th>\n",
       "      <th>time_6</th>\n",
       "      <th>time_9</th>\n",
       "      <th>time_24</th>\n",
       "      <th>time_48</th>\n",
       "    </tr>\n",
       "  </thead>\n",
       "  <tbody>\n",
       "    <tr>\n",
       "      <th>0</th>\n",
       "      <td>STAT1</td>\n",
       "      <td>IRF2</td>\n",
       "      <td>0.209428</td>\n",
       "      <td>0.345655</td>\n",
       "      <td>0.351665</td>\n",
       "      <td>0.403791</td>\n",
       "      <td>0.328545</td>\n",
       "      <td>0.330277</td>\n",
       "    </tr>\n",
       "    <tr>\n",
       "      <th>1</th>\n",
       "      <td>STAT1</td>\n",
       "      <td>HLA-B</td>\n",
       "      <td>0.201227</td>\n",
       "      <td>0.420494</td>\n",
       "      <td>0.434898</td>\n",
       "      <td>0.246592</td>\n",
       "      <td>0.201684</td>\n",
       "      <td>0.156004</td>\n",
       "    </tr>\n",
       "    <tr>\n",
       "      <th>2</th>\n",
       "      <td>STAT1</td>\n",
       "      <td>IFITM1</td>\n",
       "      <td>0.725632</td>\n",
       "      <td>0.648829</td>\n",
       "      <td>0.722967</td>\n",
       "      <td>0.712443</td>\n",
       "      <td>0.752257</td>\n",
       "      <td>0.719679</td>\n",
       "    </tr>\n",
       "    <tr>\n",
       "      <th>3</th>\n",
       "      <td>STAT1</td>\n",
       "      <td>IFITM2</td>\n",
       "      <td>0.428704</td>\n",
       "      <td>0.519050</td>\n",
       "      <td>0.551876</td>\n",
       "      <td>0.540026</td>\n",
       "      <td>0.512139</td>\n",
       "      <td>0.507080</td>\n",
       "    </tr>\n",
       "    <tr>\n",
       "      <th>4</th>\n",
       "      <td>STAT1</td>\n",
       "      <td>SOCS1</td>\n",
       "      <td>0.511312</td>\n",
       "      <td>0.388728</td>\n",
       "      <td>0.363513</td>\n",
       "      <td>0.474186</td>\n",
       "      <td>0.473442</td>\n",
       "      <td>0.504350</td>\n",
       "    </tr>\n",
       "    <tr>\n",
       "      <th>5</th>\n",
       "      <td>STAT1</td>\n",
       "      <td>IFITM3</td>\n",
       "      <td>0.740275</td>\n",
       "      <td>0.668623</td>\n",
       "      <td>0.738930</td>\n",
       "      <td>0.742767</td>\n",
       "      <td>0.746072</td>\n",
       "      <td>0.721912</td>\n",
       "    </tr>\n",
       "    <tr>\n",
       "      <th>6</th>\n",
       "      <td>STAT1</td>\n",
       "      <td>IRF7</td>\n",
       "      <td>0.635426</td>\n",
       "      <td>0.643951</td>\n",
       "      <td>0.687727</td>\n",
       "      <td>0.646674</td>\n",
       "      <td>0.672363</td>\n",
       "      <td>0.638066</td>\n",
       "    </tr>\n",
       "    <tr>\n",
       "      <th>7</th>\n",
       "      <td>STAT1</td>\n",
       "      <td>IFI6</td>\n",
       "      <td>0.581431</td>\n",
       "      <td>0.598028</td>\n",
       "      <td>0.678681</td>\n",
       "      <td>0.584084</td>\n",
       "      <td>0.500680</td>\n",
       "      <td>0.451282</td>\n",
       "    </tr>\n",
       "    <tr>\n",
       "      <th>8</th>\n",
       "      <td>STAT1</td>\n",
       "      <td>EGR1</td>\n",
       "      <td>0.036578</td>\n",
       "      <td>0.133676</td>\n",
       "      <td>0.208113</td>\n",
       "      <td>0.177444</td>\n",
       "      <td>0.209361</td>\n",
       "      <td>0.185099</td>\n",
       "    </tr>\n",
       "    <tr>\n",
       "      <th>9</th>\n",
       "      <td>STAT1</td>\n",
       "      <td>OAS2</td>\n",
       "      <td>0.901655</td>\n",
       "      <td>0.889552</td>\n",
       "      <td>0.885935</td>\n",
       "      <td>0.894787</td>\n",
       "      <td>0.874481</td>\n",
       "      <td>0.850491</td>\n",
       "    </tr>\n",
       "    <tr>\n",
       "      <th>10</th>\n",
       "      <td>STAT1</td>\n",
       "      <td>RNASEL</td>\n",
       "      <td>-0.186669</td>\n",
       "      <td>0.075094</td>\n",
       "      <td>0.174380</td>\n",
       "      <td>-0.028666</td>\n",
       "      <td>0.225787</td>\n",
       "      <td>0.080254</td>\n",
       "    </tr>\n",
       "    <tr>\n",
       "      <th>11</th>\n",
       "      <td>STAT1</td>\n",
       "      <td>MX2</td>\n",
       "      <td>0.793511</td>\n",
       "      <td>0.701432</td>\n",
       "      <td>0.783201</td>\n",
       "      <td>0.776184</td>\n",
       "      <td>0.802764</td>\n",
       "      <td>0.769418</td>\n",
       "    </tr>\n",
       "    <tr>\n",
       "      <th>12</th>\n",
       "      <td>STAT1</td>\n",
       "      <td>IRF5</td>\n",
       "      <td>0.015622</td>\n",
       "      <td>0.149872</td>\n",
       "      <td>0.175975</td>\n",
       "      <td>0.162759</td>\n",
       "      <td>0.094299</td>\n",
       "      <td>0.004581</td>\n",
       "    </tr>\n",
       "    <tr>\n",
       "      <th>13</th>\n",
       "      <td>STAT1</td>\n",
       "      <td>SOCS3</td>\n",
       "      <td>-0.003289</td>\n",
       "      <td>0.058578</td>\n",
       "      <td>0.054954</td>\n",
       "      <td>0.058636</td>\n",
       "      <td>0.098590</td>\n",
       "      <td>0.029305</td>\n",
       "    </tr>\n",
       "    <tr>\n",
       "      <th>14</th>\n",
       "      <td>STAT1</td>\n",
       "      <td>MX1</td>\n",
       "      <td>0.824872</td>\n",
       "      <td>0.811559</td>\n",
       "      <td>0.836918</td>\n",
       "      <td>0.827033</td>\n",
       "      <td>0.836616</td>\n",
       "      <td>0.837403</td>\n",
       "    </tr>\n",
       "    <tr>\n",
       "      <th>15</th>\n",
       "      <td>STAT1</td>\n",
       "      <td>IRF6</td>\n",
       "      <td>0.236000</td>\n",
       "      <td>0.375176</td>\n",
       "      <td>0.416317</td>\n",
       "      <td>0.300291</td>\n",
       "      <td>0.197750</td>\n",
       "      <td>0.268518</td>\n",
       "    </tr>\n",
       "    <tr>\n",
       "      <th>16</th>\n",
       "      <td>STAT1</td>\n",
       "      <td>IRF1</td>\n",
       "      <td>0.117013</td>\n",
       "      <td>0.305977</td>\n",
       "      <td>0.332709</td>\n",
       "      <td>0.245130</td>\n",
       "      <td>0.311295</td>\n",
       "      <td>0.260523</td>\n",
       "    </tr>\n",
       "    <tr>\n",
       "      <th>17</th>\n",
       "      <td>STAT1</td>\n",
       "      <td>TYK2</td>\n",
       "      <td>0.115119</td>\n",
       "      <td>0.152452</td>\n",
       "      <td>0.110514</td>\n",
       "      <td>0.134358</td>\n",
       "      <td>-0.013294</td>\n",
       "      <td>0.139048</td>\n",
       "    </tr>\n",
       "    <tr>\n",
       "      <th>18</th>\n",
       "      <td>STAT1</td>\n",
       "      <td>IFIT1</td>\n",
       "      <td>0.749353</td>\n",
       "      <td>0.740828</td>\n",
       "      <td>0.761032</td>\n",
       "      <td>0.762833</td>\n",
       "      <td>0.755530</td>\n",
       "      <td>0.745587</td>\n",
       "    </tr>\n",
       "    <tr>\n",
       "      <th>19</th>\n",
       "      <td>STAT1</td>\n",
       "      <td>RSAD2</td>\n",
       "      <td>0.569464</td>\n",
       "      <td>0.528762</td>\n",
       "      <td>0.662214</td>\n",
       "      <td>0.645862</td>\n",
       "      <td>0.647325</td>\n",
       "      <td>0.649318</td>\n",
       "    </tr>\n",
       "    <tr>\n",
       "      <th>20</th>\n",
       "      <td>STAT1</td>\n",
       "      <td>ISG15</td>\n",
       "      <td>0.712075</td>\n",
       "      <td>0.675252</td>\n",
       "      <td>0.729740</td>\n",
       "      <td>0.732390</td>\n",
       "      <td>0.770571</td>\n",
       "      <td>0.736501</td>\n",
       "    </tr>\n",
       "    <tr>\n",
       "      <th>21</th>\n",
       "      <td>STAT1</td>\n",
       "      <td>ISG20</td>\n",
       "      <td>0.610514</td>\n",
       "      <td>0.622557</td>\n",
       "      <td>0.670551</td>\n",
       "      <td>0.641622</td>\n",
       "      <td>0.676211</td>\n",
       "      <td>0.684491</td>\n",
       "    </tr>\n",
       "    <tr>\n",
       "      <th>22</th>\n",
       "      <td>STAT1</td>\n",
       "      <td>XAF1</td>\n",
       "      <td>0.727158</td>\n",
       "      <td>0.469709</td>\n",
       "      <td>0.512824</td>\n",
       "      <td>0.731851</td>\n",
       "      <td>0.694403</td>\n",
       "      <td>0.709636</td>\n",
       "    </tr>\n",
       "    <tr>\n",
       "      <th>23</th>\n",
       "      <td>STAT1</td>\n",
       "      <td>IRF3</td>\n",
       "      <td>0.157079</td>\n",
       "      <td>0.288388</td>\n",
       "      <td>0.268941</td>\n",
       "      <td>0.096917</td>\n",
       "      <td>0.015539</td>\n",
       "      <td>0.096347</td>\n",
       "    </tr>\n",
       "    <tr>\n",
       "      <th>24</th>\n",
       "      <td>STAT1</td>\n",
       "      <td>IFIT3</td>\n",
       "      <td>0.587385</td>\n",
       "      <td>0.645985</td>\n",
       "      <td>0.683055</td>\n",
       "      <td>0.658808</td>\n",
       "      <td>0.691653</td>\n",
       "      <td>0.634757</td>\n",
       "    </tr>\n",
       "    <tr>\n",
       "      <th>25</th>\n",
       "      <td>STAT1</td>\n",
       "      <td>IFIT2</td>\n",
       "      <td>0.399977</td>\n",
       "      <td>0.551617</td>\n",
       "      <td>0.561199</td>\n",
       "      <td>0.543053</td>\n",
       "      <td>0.572107</td>\n",
       "      <td>0.535786</td>\n",
       "    </tr>\n",
       "    <tr>\n",
       "      <th>26</th>\n",
       "      <td>STAT1</td>\n",
       "      <td>OASL</td>\n",
       "      <td>0.546349</td>\n",
       "      <td>0.524610</td>\n",
       "      <td>0.534824</td>\n",
       "      <td>0.575320</td>\n",
       "      <td>0.578621</td>\n",
       "      <td>0.621049</td>\n",
       "    </tr>\n",
       "    <tr>\n",
       "      <th>27</th>\n",
       "      <td>STAT1</td>\n",
       "      <td>PTPN6</td>\n",
       "      <td>0.140358</td>\n",
       "      <td>0.253868</td>\n",
       "      <td>0.214989</td>\n",
       "      <td>0.113689</td>\n",
       "      <td>0.174034</td>\n",
       "      <td>0.058551</td>\n",
       "    </tr>\n",
       "    <tr>\n",
       "      <th>28</th>\n",
       "      <td>STAT1</td>\n",
       "      <td>IFI35</td>\n",
       "      <td>0.682694</td>\n",
       "      <td>0.706174</td>\n",
       "      <td>0.675952</td>\n",
       "      <td>0.749833</td>\n",
       "      <td>0.739956</td>\n",
       "      <td>0.690028</td>\n",
       "    </tr>\n",
       "    <tr>\n",
       "      <th>29</th>\n",
       "      <td>STAT1</td>\n",
       "      <td>STAT1</td>\n",
       "      <td>0.000000</td>\n",
       "      <td>0.999993</td>\n",
       "      <td>0.441420</td>\n",
       "      <td>0.999999</td>\n",
       "      <td>0.291466</td>\n",
       "      <td>0.350614</td>\n",
       "    </tr>\n",
       "    <tr>\n",
       "      <th>30</th>\n",
       "      <td>STAT1</td>\n",
       "      <td>STAT2</td>\n",
       "      <td>0.491948</td>\n",
       "      <td>0.347622</td>\n",
       "      <td>0.399055</td>\n",
       "      <td>0.559495</td>\n",
       "      <td>0.580490</td>\n",
       "      <td>0.534642</td>\n",
       "    </tr>\n",
       "    <tr>\n",
       "      <th>31</th>\n",
       "      <td>STAT1</td>\n",
       "      <td>PTPN1</td>\n",
       "      <td>0.107042</td>\n",
       "      <td>0.254697</td>\n",
       "      <td>0.168329</td>\n",
       "      <td>0.292415</td>\n",
       "      <td>0.189344</td>\n",
       "      <td>0.029964</td>\n",
       "    </tr>\n",
       "    <tr>\n",
       "      <th>32</th>\n",
       "      <td>STAT1</td>\n",
       "      <td>HLA-A</td>\n",
       "      <td>0.184255</td>\n",
       "      <td>0.416530</td>\n",
       "      <td>0.406567</td>\n",
       "      <td>0.169951</td>\n",
       "      <td>0.140786</td>\n",
       "      <td>0.112371</td>\n",
       "    </tr>\n",
       "    <tr>\n",
       "      <th>33</th>\n",
       "      <td>STAT1</td>\n",
       "      <td>IFI27</td>\n",
       "      <td>0.499601</td>\n",
       "      <td>0.503988</td>\n",
       "      <td>0.614853</td>\n",
       "      <td>0.442542</td>\n",
       "      <td>0.360850</td>\n",
       "      <td>0.316760</td>\n",
       "    </tr>\n",
       "    <tr>\n",
       "      <th>34</th>\n",
       "      <td>STAT1</td>\n",
       "      <td>IFNAR1</td>\n",
       "      <td>0.258440</td>\n",
       "      <td>0.356201</td>\n",
       "      <td>0.259966</td>\n",
       "      <td>0.149268</td>\n",
       "      <td>0.040471</td>\n",
       "      <td>0.197546</td>\n",
       "    </tr>\n",
       "    <tr>\n",
       "      <th>35</th>\n",
       "      <td>STAT1</td>\n",
       "      <td>IP6K2</td>\n",
       "      <td>-0.251676</td>\n",
       "      <td>0.007698</td>\n",
       "      <td>0.109074</td>\n",
       "      <td>-0.110297</td>\n",
       "      <td>-0.163614</td>\n",
       "      <td>-0.062602</td>\n",
       "    </tr>\n",
       "    <tr>\n",
       "      <th>36</th>\n",
       "      <td>STAT1</td>\n",
       "      <td>SAMHD1</td>\n",
       "      <td>0.326492</td>\n",
       "      <td>0.509650</td>\n",
       "      <td>0.506530</td>\n",
       "      <td>0.521115</td>\n",
       "      <td>0.457848</td>\n",
       "      <td>0.397784</td>\n",
       "    </tr>\n",
       "    <tr>\n",
       "      <th>37</th>\n",
       "      <td>STAT1</td>\n",
       "      <td>HLA-C</td>\n",
       "      <td>0.319793</td>\n",
       "      <td>0.477181</td>\n",
       "      <td>0.521650</td>\n",
       "      <td>0.416268</td>\n",
       "      <td>0.395361</td>\n",
       "      <td>0.317643</td>\n",
       "    </tr>\n",
       "    <tr>\n",
       "      <th>38</th>\n",
       "      <td>STAT1</td>\n",
       "      <td>GBP2</td>\n",
       "      <td>0.169309</td>\n",
       "      <td>0.161470</td>\n",
       "      <td>0.150904</td>\n",
       "      <td>0.253790</td>\n",
       "      <td>0.231197</td>\n",
       "      <td>0.289376</td>\n",
       "    </tr>\n",
       "    <tr>\n",
       "      <th>39</th>\n",
       "      <td>STAT1</td>\n",
       "      <td>PSMB8</td>\n",
       "      <td>0.551763</td>\n",
       "      <td>0.592010</td>\n",
       "      <td>0.624260</td>\n",
       "      <td>0.620775</td>\n",
       "      <td>0.628463</td>\n",
       "      <td>0.625106</td>\n",
       "    </tr>\n",
       "    <tr>\n",
       "      <th>40</th>\n",
       "      <td>STAT1</td>\n",
       "      <td>IRF9</td>\n",
       "      <td>0.548225</td>\n",
       "      <td>0.538770</td>\n",
       "      <td>0.607650</td>\n",
       "      <td>0.531990</td>\n",
       "      <td>0.473645</td>\n",
       "      <td>0.578006</td>\n",
       "    </tr>\n",
       "    <tr>\n",
       "      <th>41</th>\n",
       "      <td>STAT1</td>\n",
       "      <td>BST2</td>\n",
       "      <td>0.599108</td>\n",
       "      <td>0.592494</td>\n",
       "      <td>0.662566</td>\n",
       "      <td>0.618264</td>\n",
       "      <td>0.650668</td>\n",
       "      <td>0.582153</td>\n",
       "    </tr>\n",
       "    <tr>\n",
       "      <th>42</th>\n",
       "      <td>STAT1</td>\n",
       "      <td>HLA-E</td>\n",
       "      <td>0.415575</td>\n",
       "      <td>0.547246</td>\n",
       "      <td>0.587484</td>\n",
       "      <td>0.544590</td>\n",
       "      <td>0.566349</td>\n",
       "      <td>0.526313</td>\n",
       "    </tr>\n",
       "    <tr>\n",
       "      <th>43</th>\n",
       "      <td>STAT1</td>\n",
       "      <td>B2M</td>\n",
       "      <td>0.184621</td>\n",
       "      <td>0.352014</td>\n",
       "      <td>0.422341</td>\n",
       "      <td>0.105076</td>\n",
       "      <td>0.048891</td>\n",
       "      <td>0.060456</td>\n",
       "    </tr>\n",
       "    <tr>\n",
       "      <th>44</th>\n",
       "      <td>STAT1</td>\n",
       "      <td>OAS1</td>\n",
       "      <td>0.650792</td>\n",
       "      <td>0.672810</td>\n",
       "      <td>0.648029</td>\n",
       "      <td>0.710489</td>\n",
       "      <td>0.730142</td>\n",
       "      <td>0.715586</td>\n",
       "    </tr>\n",
       "    <tr>\n",
       "      <th>45</th>\n",
       "      <td>STAT1</td>\n",
       "      <td>IFNAR2</td>\n",
       "      <td>-0.082962</td>\n",
       "      <td>0.185958</td>\n",
       "      <td>0.143096</td>\n",
       "      <td>-0.089721</td>\n",
       "      <td>-0.097923</td>\n",
       "      <td>-0.035020</td>\n",
       "    </tr>\n",
       "    <tr>\n",
       "      <th>46</th>\n",
       "      <td>STAT1</td>\n",
       "      <td>ABCE1</td>\n",
       "      <td>-0.064579</td>\n",
       "      <td>0.106320</td>\n",
       "      <td>0.144581</td>\n",
       "      <td>-0.081918</td>\n",
       "      <td>-0.052310</td>\n",
       "      <td>-0.133862</td>\n",
       "    </tr>\n",
       "    <tr>\n",
       "      <th>47</th>\n",
       "      <td>STAT1</td>\n",
       "      <td>PTPN11</td>\n",
       "      <td>-0.128289</td>\n",
       "      <td>0.217101</td>\n",
       "      <td>0.115554</td>\n",
       "      <td>-0.017050</td>\n",
       "      <td>-0.018553</td>\n",
       "      <td>-0.019121</td>\n",
       "    </tr>\n",
       "    <tr>\n",
       "      <th>48</th>\n",
       "      <td>STAT1</td>\n",
       "      <td>JAK1</td>\n",
       "      <td>-0.016268</td>\n",
       "      <td>0.153578</td>\n",
       "      <td>0.234703</td>\n",
       "      <td>0.088207</td>\n",
       "      <td>0.043628</td>\n",
       "      <td>-0.004827</td>\n",
       "    </tr>\n",
       "    <tr>\n",
       "      <th>49</th>\n",
       "      <td>STAT1</td>\n",
       "      <td>HLA-F</td>\n",
       "      <td>0.303196</td>\n",
       "      <td>0.464457</td>\n",
       "      <td>0.516259</td>\n",
       "      <td>0.421187</td>\n",
       "      <td>0.428796</td>\n",
       "      <td>0.360041</td>\n",
       "    </tr>\n",
       "    <tr>\n",
       "      <th>50</th>\n",
       "      <td>STAT1</td>\n",
       "      <td>OAS3</td>\n",
       "      <td>0.733548</td>\n",
       "      <td>0.741300</td>\n",
       "      <td>0.767259</td>\n",
       "      <td>0.770594</td>\n",
       "      <td>0.799914</td>\n",
       "      <td>0.747048</td>\n",
       "    </tr>\n",
       "    <tr>\n",
       "      <th>51</th>\n",
       "      <td>STAT1</td>\n",
       "      <td>USP18</td>\n",
       "      <td>0.559029</td>\n",
       "      <td>0.607182</td>\n",
       "      <td>0.580450</td>\n",
       "      <td>0.599093</td>\n",
       "      <td>0.623711</td>\n",
       "      <td>0.602167</td>\n",
       "    </tr>\n",
       "    <tr>\n",
       "      <th>52</th>\n",
       "      <td>STAT1</td>\n",
       "      <td>ADAR</td>\n",
       "      <td>0.629318</td>\n",
       "      <td>0.614119</td>\n",
       "      <td>0.699720</td>\n",
       "      <td>0.720470</td>\n",
       "      <td>0.686398</td>\n",
       "      <td>0.637421</td>\n",
       "    </tr>\n",
       "  </tbody>\n",
       "</table>\n",
       "</div>"
      ],
      "text/plain": [
       "   gene_1  gene_2    time_0    time_3    time_6    time_9   time_24   time_48\n",
       "0   STAT1    IRF2  0.209428  0.345655  0.351665  0.403791  0.328545  0.330277\n",
       "1   STAT1   HLA-B  0.201227  0.420494  0.434898  0.246592  0.201684  0.156004\n",
       "2   STAT1  IFITM1  0.725632  0.648829  0.722967  0.712443  0.752257  0.719679\n",
       "3   STAT1  IFITM2  0.428704  0.519050  0.551876  0.540026  0.512139  0.507080\n",
       "4   STAT1   SOCS1  0.511312  0.388728  0.363513  0.474186  0.473442  0.504350\n",
       "5   STAT1  IFITM3  0.740275  0.668623  0.738930  0.742767  0.746072  0.721912\n",
       "6   STAT1    IRF7  0.635426  0.643951  0.687727  0.646674  0.672363  0.638066\n",
       "7   STAT1    IFI6  0.581431  0.598028  0.678681  0.584084  0.500680  0.451282\n",
       "8   STAT1    EGR1  0.036578  0.133676  0.208113  0.177444  0.209361  0.185099\n",
       "9   STAT1    OAS2  0.901655  0.889552  0.885935  0.894787  0.874481  0.850491\n",
       "10  STAT1  RNASEL -0.186669  0.075094  0.174380 -0.028666  0.225787  0.080254\n",
       "11  STAT1     MX2  0.793511  0.701432  0.783201  0.776184  0.802764  0.769418\n",
       "12  STAT1    IRF5  0.015622  0.149872  0.175975  0.162759  0.094299  0.004581\n",
       "13  STAT1   SOCS3 -0.003289  0.058578  0.054954  0.058636  0.098590  0.029305\n",
       "14  STAT1     MX1  0.824872  0.811559  0.836918  0.827033  0.836616  0.837403\n",
       "15  STAT1    IRF6  0.236000  0.375176  0.416317  0.300291  0.197750  0.268518\n",
       "16  STAT1    IRF1  0.117013  0.305977  0.332709  0.245130  0.311295  0.260523\n",
       "17  STAT1    TYK2  0.115119  0.152452  0.110514  0.134358 -0.013294  0.139048\n",
       "18  STAT1   IFIT1  0.749353  0.740828  0.761032  0.762833  0.755530  0.745587\n",
       "19  STAT1   RSAD2  0.569464  0.528762  0.662214  0.645862  0.647325  0.649318\n",
       "20  STAT1   ISG15  0.712075  0.675252  0.729740  0.732390  0.770571  0.736501\n",
       "21  STAT1   ISG20  0.610514  0.622557  0.670551  0.641622  0.676211  0.684491\n",
       "22  STAT1    XAF1  0.727158  0.469709  0.512824  0.731851  0.694403  0.709636\n",
       "23  STAT1    IRF3  0.157079  0.288388  0.268941  0.096917  0.015539  0.096347\n",
       "24  STAT1   IFIT3  0.587385  0.645985  0.683055  0.658808  0.691653  0.634757\n",
       "25  STAT1   IFIT2  0.399977  0.551617  0.561199  0.543053  0.572107  0.535786\n",
       "26  STAT1    OASL  0.546349  0.524610  0.534824  0.575320  0.578621  0.621049\n",
       "27  STAT1   PTPN6  0.140358  0.253868  0.214989  0.113689  0.174034  0.058551\n",
       "28  STAT1   IFI35  0.682694  0.706174  0.675952  0.749833  0.739956  0.690028\n",
       "29  STAT1   STAT1  0.000000  0.999993  0.441420  0.999999  0.291466  0.350614\n",
       "30  STAT1   STAT2  0.491948  0.347622  0.399055  0.559495  0.580490  0.534642\n",
       "31  STAT1   PTPN1  0.107042  0.254697  0.168329  0.292415  0.189344  0.029964\n",
       "32  STAT1   HLA-A  0.184255  0.416530  0.406567  0.169951  0.140786  0.112371\n",
       "33  STAT1   IFI27  0.499601  0.503988  0.614853  0.442542  0.360850  0.316760\n",
       "34  STAT1  IFNAR1  0.258440  0.356201  0.259966  0.149268  0.040471  0.197546\n",
       "35  STAT1   IP6K2 -0.251676  0.007698  0.109074 -0.110297 -0.163614 -0.062602\n",
       "36  STAT1  SAMHD1  0.326492  0.509650  0.506530  0.521115  0.457848  0.397784\n",
       "37  STAT1   HLA-C  0.319793  0.477181  0.521650  0.416268  0.395361  0.317643\n",
       "38  STAT1    GBP2  0.169309  0.161470  0.150904  0.253790  0.231197  0.289376\n",
       "39  STAT1   PSMB8  0.551763  0.592010  0.624260  0.620775  0.628463  0.625106\n",
       "40  STAT1    IRF9  0.548225  0.538770  0.607650  0.531990  0.473645  0.578006\n",
       "41  STAT1    BST2  0.599108  0.592494  0.662566  0.618264  0.650668  0.582153\n",
       "42  STAT1   HLA-E  0.415575  0.547246  0.587484  0.544590  0.566349  0.526313\n",
       "43  STAT1     B2M  0.184621  0.352014  0.422341  0.105076  0.048891  0.060456\n",
       "44  STAT1    OAS1  0.650792  0.672810  0.648029  0.710489  0.730142  0.715586\n",
       "45  STAT1  IFNAR2 -0.082962  0.185958  0.143096 -0.089721 -0.097923 -0.035020\n",
       "46  STAT1   ABCE1 -0.064579  0.106320  0.144581 -0.081918 -0.052310 -0.133862\n",
       "47  STAT1  PTPN11 -0.128289  0.217101  0.115554 -0.017050 -0.018553 -0.019121\n",
       "48  STAT1    JAK1 -0.016268  0.153578  0.234703  0.088207  0.043628 -0.004827\n",
       "49  STAT1   HLA-F  0.303196  0.464457  0.516259  0.421187  0.428796  0.360041\n",
       "50  STAT1    OAS3  0.733548  0.741300  0.767259  0.770594  0.799914  0.747048\n",
       "51  STAT1   USP18  0.559029  0.607182  0.580450  0.599093  0.623711  0.602167\n",
       "52  STAT1    ADAR  0.629318  0.614119  0.699720  0.720470  0.686398  0.637421"
      ]
     },
     "execution_count": 88,
     "metadata": {},
     "output_type": "execute_result"
    }
   ],
   "source": [
    "moment_df"
   ]
  },
  {
   "cell_type": "code",
   "execution_count": 89,
   "metadata": {},
   "outputs": [],
   "source": [
    "select_isgs = ['MX1', 'OAS3', 'IFIT3', 'IFI2']"
   ]
  },
  {
   "cell_type": "code",
   "execution_count": 90,
   "metadata": {},
   "outputs": [
    {
     "data": {
      "text/html": [
       "<div>\n",
       "<style scoped>\n",
       "    .dataframe tbody tr th:only-of-type {\n",
       "        vertical-align: middle;\n",
       "    }\n",
       "\n",
       "    .dataframe tbody tr th {\n",
       "        vertical-align: top;\n",
       "    }\n",
       "\n",
       "    .dataframe thead th {\n",
       "        text-align: right;\n",
       "    }\n",
       "</style>\n",
       "<table border=\"1\" class=\"dataframe\">\n",
       "  <thead>\n",
       "    <tr style=\"text-align: right;\">\n",
       "      <th></th>\n",
       "      <th>gene_1</th>\n",
       "      <th>gene_2</th>\n",
       "      <th>time_0</th>\n",
       "      <th>time_3</th>\n",
       "      <th>time_6</th>\n",
       "      <th>time_9</th>\n",
       "      <th>time_24</th>\n",
       "      <th>time_48</th>\n",
       "    </tr>\n",
       "  </thead>\n",
       "  <tbody>\n",
       "    <tr>\n",
       "      <th>14</th>\n",
       "      <td>STAT1</td>\n",
       "      <td>MX1</td>\n",
       "      <td>0.824872</td>\n",
       "      <td>0.811559</td>\n",
       "      <td>0.836918</td>\n",
       "      <td>0.827033</td>\n",
       "      <td>0.836616</td>\n",
       "      <td>0.837403</td>\n",
       "    </tr>\n",
       "    <tr>\n",
       "      <th>24</th>\n",
       "      <td>STAT1</td>\n",
       "      <td>IFIT3</td>\n",
       "      <td>0.587385</td>\n",
       "      <td>0.645985</td>\n",
       "      <td>0.683055</td>\n",
       "      <td>0.658808</td>\n",
       "      <td>0.691653</td>\n",
       "      <td>0.634757</td>\n",
       "    </tr>\n",
       "    <tr>\n",
       "      <th>50</th>\n",
       "      <td>STAT1</td>\n",
       "      <td>OAS3</td>\n",
       "      <td>0.733548</td>\n",
       "      <td>0.741300</td>\n",
       "      <td>0.767259</td>\n",
       "      <td>0.770594</td>\n",
       "      <td>0.799914</td>\n",
       "      <td>0.747048</td>\n",
       "    </tr>\n",
       "  </tbody>\n",
       "</table>\n",
       "</div>"
      ],
      "text/plain": [
       "   gene_1 gene_2    time_0    time_3    time_6    time_9   time_24   time_48\n",
       "14  STAT1    MX1  0.824872  0.811559  0.836918  0.827033  0.836616  0.837403\n",
       "24  STAT1  IFIT3  0.587385  0.645985  0.683055  0.658808  0.691653  0.634757\n",
       "50  STAT1   OAS3  0.733548  0.741300  0.767259  0.770594  0.799914  0.747048"
      ]
     },
     "execution_count": 90,
     "metadata": {},
     "output_type": "execute_result"
    }
   ],
   "source": [
    "moment_df.query('gene_1 == \"{}\" & gene_2 in @select_isgs'.format(tf))"
   ]
  },
  {
   "cell_type": "code",
   "execution_count": 104,
   "metadata": {},
   "outputs": [
    {
     "data": {
      "text/plain": [
       "<matplotlib.legend.Legend at 0x7f3a7ca75d90>"
      ]
     },
     "execution_count": 104,
     "metadata": {},
     "output_type": "execute_result"
    },
    {
     "data": {
      "image/png": "[encoded data removed]",
      "text/plain": [
       "<Figure size 144x144 with 1 Axes>"
      ]
     },
     "metadata": {
      "needs_background": "light"
     },
     "output_type": "display_data"
    }
   ],
   "source": [
    "tf = 'STAT1'\n",
    "select_isgs = ['MX1','MX2', 'OAS3', 'IFIT3', 'IFI2']\n",
    "plt.figure(figsize=(2,2))\n",
    "plt.plot(moment_df.query('gene_1 == \"{}\" & gene_2 in @select_isgs'.format(tf)).values[:, 2:].T, '--o')\n",
    "plt.xticks([0, 1, 2, 3, 4, 5], ['0', '3', '6', '9', '24', '48'])\n",
    "plt.xlabel('Time (hr)'); plt.ylabel('Corr {}'.format(tf))\n",
    "plt.ylim(0.2, 1);\n",
    "plt.legend(moment_df.query('gene_1 == \"{}\" & gene_2 in @select_isgs'.format(tf)).gene_2, frameon=False, ncol=2, bbox_to_anchor=(1,1))\n",
    "\n",
    "\n",
    "# plt.savefig(fig_path + 'mhc_stat1_corr.pdf', bbox_inches='tight')"
   ]
  },
  {
   "cell_type": "code",
   "execution_count": 40,
   "metadata": {},
   "outputs": [
    {
     "data": {
      "image/png": "[encoded data removed]",
      "text/plain": [
       "<Figure size 144x144 with 1 Axes>"
      ]
     },
     "metadata": {
      "needs_background": "light"
     },
     "output_type": "display_data"
    }
   ],
   "source": [
    "tf = 'NFKB2'\n",
    "plt.figure(figsize=(2,2))\n",
    "plt.plot(moment_df.query('gene_1 == \"{}\"'.format(tf)).values[:, 2:].T, '--o')\n",
    "plt.xticks([0, 1, 2, 3, 4, 5], ['0', '3', '6', '9', '24', '48'])\n",
    "plt.xlabel('Time (hr)'); plt.ylabel('Corr {}'.format(tf))\n",
    "plt.savefig(fig_path + 'mhc_corr_NFKB2.pdf', bbox_inches='tight')\n"
   ]
  },
  {
   "cell_type": "code",
   "execution_count": 41,
   "metadata": {},
   "outputs": [
    {
     "data": {
      "image/png": "[encoded data removed]",
      "text/plain": [
       "<Figure size 144x144 with 1 Axes>"
      ]
     },
     "metadata": {
      "needs_background": "light"
     },
     "output_type": "display_data"
    }
   ],
   "source": [
    "tf = 'REL'\n",
    "plt.figure(figsize=(2,2))\n",
    "plt.plot(moment_df.query('gene_1 == \"{}\"'.format(tf)).values[:, 2:].T, '--o')\n",
    "plt.xticks([0, 1, 2, 3, 4, 5], ['0', '3', '6', '9', '24', '48'])\n",
    "plt.xlabel('Time (hr)'); plt.ylabel('Corr {}'.format(tf))\n",
    "plt.savefig(fig_path + 'mhc_corr_REL.pdf', bbox_inches='tight')\n"
   ]
  },
  {
   "cell_type": "code",
   "execution_count": 38,
   "metadata": {},
   "outputs": [
    {
     "data": {
      "text/plain": [
       "Text(0, 0.5, 'Corr RFX5')"
      ]
     },
     "execution_count": 38,
     "metadata": {},
     "output_type": "execute_result"
    },
    {
     "data": {
      "image/png": "[encoded data removed]",
      "text/plain": [
       "<Figure size 144x144 with 1 Axes>"
      ]
     },
     "metadata": {
      "needs_background": "light"
     },
     "output_type": "display_data"
    }
   ],
   "source": [
    "tf = 'RFX5'\n",
    "plt.figure(figsize=(2,2))\n",
    "plt.plot(moment_df.query('gene_1 == \"{}\"'.format(tf)).values[:, 2:].T, '--o')\n",
    "plt.xticks([0, 1, 2, 3, 4, 5], ['0', '3', '6', '9', '24', '48'])\n",
    "plt.xlabel('Time (hr)'); plt.ylabel('Corr {}'.format(tf))"
   ]
  },
  {
   "cell_type": "code",
   "execution_count": 121,
   "metadata": {},
   "outputs": [
    {
     "data": {
      "image/png": "[encoded data removed]",
      "text/plain": [
       "<Figure size 144x144 with 1 Axes>"
      ]
     },
     "metadata": {
      "needs_background": "light"
     },
     "output_type": "display_data"
    }
   ],
   "source": [
    "tf = 'CREB3'\n",
    "plt.figure(figsize=(2,2))\n",
    "plt.plot(moment_df.query('gene_1 == \"{}\"'.format(tf)).values[:, 2:].T, '--o')\n",
    "plt.xticks([0, 1, 2, 3, 4, 5], ['0', '3', '6', '9', '24', '48'])\n",
    "plt.xlabel('Time (hr)'); plt.ylabel('Corr {}'.format(tf))\n",
    "plt.savefig(fig_path + 'mhc_creb3_corr.pdf', bbox_inches='tight')"
   ]
  },
  {
   "cell_type": "code",
   "execution_count": 122,
   "metadata": {},
   "outputs": [
    {
     "data": {
      "image/png": "[encoded data removed]",
      "text/plain": [
       "<Figure size 144x144 with 1 Axes>"
      ]
     },
     "metadata": {
      "needs_background": "light"
     },
     "output_type": "display_data"
    }
   ],
   "source": [
    "tf = 'STAT1'\n",
    "plt.figure(figsize=(2,2))\n",
    "plt.plot(moment_df.query('gene_1 == \"{}\"'.format(tf)).values[:, 2:].T, '--o')\n",
    "plt.xticks([0, 1, 2, 3, 4, 5], ['0', '3', '6', '9', '24', '48'])\n",
    "plt.xlabel('Time (hr)'); plt.ylabel('Corr {}'.format(tf))\n",
    "plt.savefig(fig_path + 'mhc_stat1_corr.pdf', bbox_inches='tight')"
   ]
  },
  {
   "cell_type": "code",
   "execution_count": 242,
   "metadata": {},
   "outputs": [],
   "source": [
    "tf = 'CREB3'"
   ]
  },
  {
   "cell_type": "code",
   "execution_count": 243,
   "metadata": {},
   "outputs": [
    {
     "data": {
      "text/html": [
       "<div>\n",
       "<style scoped>\n",
       "    .dataframe tbody tr th:only-of-type {\n",
       "        vertical-align: middle;\n",
       "    }\n",
       "\n",
       "    .dataframe tbody tr th {\n",
       "        vertical-align: top;\n",
       "    }\n",
       "\n",
       "    .dataframe thead th {\n",
       "        text-align: right;\n",
       "    }\n",
       "</style>\n",
       "<table border=\"1\" class=\"dataframe\">\n",
       "  <thead>\n",
       "    <tr style=\"text-align: right;\">\n",
       "      <th></th>\n",
       "      <th>gene_1</th>\n",
       "      <th>gene_2</th>\n",
       "      <th>time_0</th>\n",
       "      <th>time_3</th>\n",
       "      <th>time_6</th>\n",
       "      <th>time_9</th>\n",
       "      <th>time_24</th>\n",
       "      <th>time_48</th>\n",
       "    </tr>\n",
       "  </thead>\n",
       "  <tbody>\n",
       "    <tr>\n",
       "      <th>828</th>\n",
       "      <td>CREB3</td>\n",
       "      <td>HLA-A</td>\n",
       "      <td>0.092283</td>\n",
       "      <td>0.225511</td>\n",
       "      <td>0.230557</td>\n",
       "      <td>0.079328</td>\n",
       "      <td>0.065209</td>\n",
       "      <td>0.104553</td>\n",
       "    </tr>\n",
       "    <tr>\n",
       "      <th>829</th>\n",
       "      <td>CREB3</td>\n",
       "      <td>HLA-B</td>\n",
       "      <td>0.172263</td>\n",
       "      <td>0.341903</td>\n",
       "      <td>0.307946</td>\n",
       "      <td>0.155191</td>\n",
       "      <td>0.201031</td>\n",
       "      <td>0.159479</td>\n",
       "    </tr>\n",
       "    <tr>\n",
       "      <th>830</th>\n",
       "      <td>CREB3</td>\n",
       "      <td>HLA-C</td>\n",
       "      <td>0.190355</td>\n",
       "      <td>0.365602</td>\n",
       "      <td>0.330579</td>\n",
       "      <td>0.188595</td>\n",
       "      <td>0.240382</td>\n",
       "      <td>0.157265</td>\n",
       "    </tr>\n",
       "    <tr>\n",
       "      <th>831</th>\n",
       "      <td>CREB3</td>\n",
       "      <td>B2M</td>\n",
       "      <td>0.193022</td>\n",
       "      <td>0.443010</td>\n",
       "      <td>0.429344</td>\n",
       "      <td>0.321969</td>\n",
       "      <td>0.269825</td>\n",
       "      <td>0.238096</td>\n",
       "    </tr>\n",
       "  </tbody>\n",
       "</table>\n",
       "</div>"
      ],
      "text/plain": [
       "    gene_1 gene_2    time_0    time_3    time_6    time_9   time_24   time_48\n",
       "828  CREB3  HLA-A  0.092283  0.225511  0.230557  0.079328  0.065209  0.104553\n",
       "829  CREB3  HLA-B  0.172263  0.341903  0.307946  0.155191  0.201031  0.159479\n",
       "830  CREB3  HLA-C  0.190355  0.365602  0.330579  0.188595  0.240382  0.157265\n",
       "831  CREB3    B2M  0.193022  0.443010  0.429344  0.321969  0.269825  0.238096"
      ]
     },
     "execution_count": 243,
     "metadata": {},
     "output_type": "execute_result"
    }
   ],
   "source": [
    "moment_df.query('gene_1 == \"{}\"'.format(tf))"
   ]
  },
  {
   "cell_type": "code",
   "execution_count": 244,
   "metadata": {},
   "outputs": [
    {
     "data": {
      "text/plain": [
       "<matplotlib.legend.Legend at 0x7fa7bf95d4d0>"
      ]
     },
     "execution_count": 244,
     "metadata": {},
     "output_type": "execute_result"
    },
    {
     "data": {
      "image/png": "[encoded data removed]",
      "text/plain": [
       "<Figure size 144x144 with 1 Axes>"
      ]
     },
     "metadata": {
      "needs_background": "light"
     },
     "output_type": "display_data"
    }
   ],
   "source": [
    "tf = 'CREB3'\n",
    "plt.figure(figsize=(2,2))\n",
    "plt.plot(moment_df.query('gene_1 == \"{}\"'.format(tf)).values[:, 2:].T, '-o')\n",
    "plt.xticks([0, 1, 2, 3, 4, 5], ['0', '3', '6', '9', '24', '48'])\n",
    "plt.xlabel('Time (hr)'); plt.ylabel('Corr {}'.format(tf))\n",
    "plt.legend(['HLA-A', 'HLA-B', 'HLA-C', 'B2M'], ncol=4, frameon=False, bbox_to_anchor=(1,1))"
   ]
  },
  {
   "cell_type": "code",
   "execution_count": 245,
   "metadata": {},
   "outputs": [
    {
     "data": {
      "text/plain": [
       "Text(0, 0.5, 'Corr STAT6')"
      ]
     },
     "execution_count": 245,
     "metadata": {},
     "output_type": "execute_result"
    },
    {
     "data": {
      "image/png": "[encoded data removed]",
      "text/plain": [
       "<Figure size 144x144 with 1 Axes>"
      ]
     },
     "metadata": {
      "needs_background": "light"
     },
     "output_type": "display_data"
    }
   ],
   "source": [
    "tf = 'STAT6'\n",
    "plt.figure(figsize=(2,2))\n",
    "plt.plot(moment_df.query('gene_1 == \"{}\"'.format(tf)).values[:, 2:].T, '-o')\n",
    "plt.xticks([0, 1, 2, 3, 4, 5], ['0', '3', '6', '9', '24', '48'])\n",
    "plt.xlabel('Time (hr)'); plt.ylabel('Corr {}'.format(tf))"
   ]
  },
  {
   "cell_type": "code",
   "execution_count": 246,
   "metadata": {},
   "outputs": [
    {
     "data": {
      "text/plain": [
       "Text(0, 0.5, 'Corr JUND')"
      ]
     },
     "execution_count": 246,
     "metadata": {},
     "output_type": "execute_result"
    },
    {
     "data": {
      "image/png": "[encoded data removed]",
      "text/plain": [
       "<Figure size 144x144 with 1 Axes>"
      ]
     },
     "metadata": {
      "needs_background": "light"
     },
     "output_type": "display_data"
    }
   ],
   "source": [
    "tf = 'JUND'\n",
    "plt.figure(figsize=(2,2))\n",
    "plt.plot(moment_df.query('gene_1 == \"{}\"'.format(tf)).values[:, 2:].T, '-o')\n",
    "plt.xticks([0, 1, 2, 3, 4, 5], ['0', '3', '6', '9', '24', '48'])\n",
    "plt.xlabel('Time (hr)'); plt.ylabel('Corr {}'.format(tf))"
   ]
  },
  {
   "cell_type": "code",
   "execution_count": 249,
   "metadata": {},
   "outputs": [
    {
     "data": {
      "text/plain": [
       "Text(0, 0.5, 'Corr ETS2')"
      ]
     },
     "execution_count": 249,
     "metadata": {},
     "output_type": "execute_result"
    },
    {
     "data": {
      "image/png": "[encoded data removed]",
      "text/plain": [
       "<Figure size 144x144 with 1 Axes>"
      ]
     },
     "metadata": {
      "needs_background": "light"
     },
     "output_type": "display_data"
    }
   ],
   "source": [
    "tf = 'ETS2'\n",
    "plt.figure(figsize=(2,2))\n",
    "plt.plot(moment_df.query('gene_1 == \"{}\"'.format(tf)).values[:, 2:].T, '-o')\n",
    "plt.xticks([0, 1, 2, 3, 4, 5], ['0', '3', '6', '9', '24', '48'])\n",
    "plt.xlabel('Time (hr)'); plt.ylabel('Corr {}'.format(tf))"
   ]
  },
  {
   "cell_type": "markdown",
   "metadata": {},
   "source": [
    "### ISG DC analysis - \"positive\" control"
   ]
  },
  {
   "cell_type": "code",
   "execution_count": null,
   "metadata": {},
   "outputs": [],
   "source": [
    "\n",
    "cts = [['ciliated']]\n",
    "tps = ['3', '6', '9', '24', '48']\n",
    "stims = ['alpha', 'beta', 'gamma', 'lambda']\n",
    "\n",
    "\n",
    "for ct in cts:\n",
    "    for tp in tps:\n",
    "        for stim in stims:\n",
    "            \n",
    "#             fname = '{}_{}_{}_{}.h5ad'.format('-'.join(ct), stim, tp, tf)\n",
    "#             if fname in done_files:\n",
    "#                 continue\n",
    "                            \n",
    "            print('starting', ct, tp, stim)\n",
    "\n",
    "            adata_stim = adata.copy()[\n",
    "                adata.obs.cell_type.isin(ct) & \\\n",
    "                adata.obs.stim.isin(['control', stim]) & \\\n",
    "                adata.obs.time.isin(['0',tp]), :].copy()\n",
    "            time_converter={0:0, int(tp):1}\n",
    "            adata_stim.obs['time_step'] = adata_stim.obs['time'].astype(int).apply(lambda x: time_converter[x])\n",
    "\n",
    "            memento.create_groups(adata_stim, label_columns=['time_step', 'donor'])\n",
    "            memento.compute_1d_moments(adata_stim, min_perc_group=.9)\n",
    "            \n",
    "            tf_list = list(set(tfs) & set(adata_stim.var.index))\n",
    "            \n",
    "            gene_list = adata_stim.var.index.tolist()\n",
    "            \n",
    "            memento.compute_2d_moments(adata_stim, list(itertools.product(tf_list, [\"HLA-A\", \"HLA-B\", \"HLA-C\", \"B2M\"])))\n",
    "\n",
    "            moment_df = memento.get_2d_moments(adata_stim, groupby='time_step')\n",
    "            moment_df.to_csv('/data_volume/ifn_hbec/tf_test/moments_{}_{}_{}_mhc1.csv'.format('-'.join(ct), stim, tp), index=False)\n",
    "\n",
    "\n",
    "            memento.ht_2d_moments( \n",
    "                adata_stim, \n",
    "                formula_like='1 + time_step',\n",
    "                cov_column='time_step', \n",
    "                num_boot=10000, \n",
    "                verbose=1,\n",
    "                num_cpus=13)\n",
    "\n",
    "            if 'mv_regressor' in adata_stim.uns['memento']:\n",
    "                del adata_stim.uns['memento']['mv_regressor']\n",
    "            adata_stim.write('/data_volume/ifn_hbec/tf_test/{}_{}_{}_mhc1.h5ad'.format('-'.join(ct), stim, tp))"
   ]
  },
  {
   "cell_type": "markdown",
   "metadata": {},
   "source": [
    "### CHIP analysis"
   ]
  },
  {
   "cell_type": "code",
   "execution_count": 36,
   "metadata": {},
   "outputs": [],
   "source": [
    "tf = 'STAT1'\n",
    "ct = ['ciliated']\n",
    "stim = 'beta'\n",
    "\n",
    "def get_2d_moments_ht(tf, ct, stim):\n",
    "    \n",
    "    adata_stim = adata.copy()[\n",
    "        adata.obs.cell_type.isin(ct) & \\\n",
    "        adata.obs.time.isin(['0', '3']) & \\\n",
    "        adata.obs.stim.isin(['control', stim])].copy()\n",
    "    time_converter={0:0, int('3'):1}\n",
    "    adata_stim.obs['time_step'] = adata_stim.obs['time'].astype(int).apply(lambda x: time_converter[x])\n",
    "\n",
    "    memento.create_groups(adata_stim, label_columns=['time_step', 'donor'])\n",
    "    memento.compute_1d_moments(adata_stim, min_perc_group=.9)\n",
    "    moment_1d_df = memento.get_1d_moments(adata_stim, groupby='time_step')\n",
    "\n",
    "    memento.compute_2d_moments(adata_stim, list(itertools.product([tf], adata_stim.var.index)))\n",
    "\n",
    "    moment_df = memento.get_2d_moments(adata_stim, groupby='time_step')\n",
    "    \n",
    "    memento.ht_2d_moments( \n",
    "        adata_stim, \n",
    "        formula_like='1 + time_step',\n",
    "        cov_column='time_step', \n",
    "        num_boot=10000, \n",
    "        verbose=1,\n",
    "        num_cpus=13)\n",
    "    \n",
    "    ht_df = memento.get_2d_ht_result(adata_stim)\n",
    "    \n",
    "    return moment_df, ht_df"
   ]
  },
  {
   "cell_type": "code",
   "execution_count": 37,
   "metadata": {},
   "outputs": [
    {
     "name": "stderr",
     "output_type": "stream",
     "text": [
      "[Parallel(n_jobs=13)]: Using backend LokyBackend with 13 concurrent workers.\n",
      "[Parallel(n_jobs=13)]: Done  24 tasks      | elapsed:    9.3s\n",
      "[Parallel(n_jobs=13)]: Done 174 tasks      | elapsed:   35.5s\n",
      "[Parallel(n_jobs=13)]: Done 424 tasks      | elapsed:  1.3min\n",
      "[Parallel(n_jobs=13)]: Done 774 tasks      | elapsed:  2.4min\n",
      "[Parallel(n_jobs=13)]: Done 1224 tasks      | elapsed:  3.6min\n",
      "[Parallel(n_jobs=13)]: Done 1774 tasks      | elapsed:  5.2min\n",
      "[Parallel(n_jobs=13)]: Done 2424 tasks      | elapsed:  7.1min\n",
      "[Parallel(n_jobs=13)]: Done 3174 tasks      | elapsed:  9.2min\n",
      "[Parallel(n_jobs=13)]: Done 4024 tasks      | elapsed: 11.6min\n",
      "[Parallel(n_jobs=13)]: Done 4974 tasks      | elapsed: 14.3min\n",
      "[Parallel(n_jobs=13)]: Done 6024 tasks      | elapsed: 17.3min\n",
      "[Parallel(n_jobs=13)]: Done 7174 tasks      | elapsed: 20.6min\n",
      "[Parallel(n_jobs=13)]: Done 8424 tasks      | elapsed: 24.2min\n",
      "[Parallel(n_jobs=13)]: Done 9641 out of 9641 | elapsed: 27.6min finished\n"
     ]
    }
   ],
   "source": [
    "beta_df, beta_ht_df = get_2d_moments_ht(tf, ct, stim)"
   ]
  },
  {
   "cell_type": "code",
   "execution_count": 39,
   "metadata": {},
   "outputs": [],
   "source": [
    "beta_ht_df['isgf3'] = beta_ht_df.gene_2.apply(lambda x: 'in TSS' if x in isgf3_genes else 'rest')"
   ]
  },
  {
   "cell_type": "code",
   "execution_count": 40,
   "metadata": {},
   "outputs": [
    {
     "data": {
      "text/html": [
       "<div>\n",
       "<style scoped>\n",
       "    .dataframe tbody tr th:only-of-type {\n",
       "        vertical-align: middle;\n",
       "    }\n",
       "\n",
       "    .dataframe tbody tr th {\n",
       "        vertical-align: top;\n",
       "    }\n",
       "\n",
       "    .dataframe thead th {\n",
       "        text-align: right;\n",
       "    }\n",
       "</style>\n",
       "<table border=\"1\" class=\"dataframe\">\n",
       "  <thead>\n",
       "    <tr style=\"text-align: right;\">\n",
       "      <th></th>\n",
       "      <th>gene_1</th>\n",
       "      <th>gene_2</th>\n",
       "      <th>corr_coef</th>\n",
       "      <th>corr_se</th>\n",
       "      <th>corr_pval</th>\n",
       "      <th>isgf3</th>\n",
       "    </tr>\n",
       "  </thead>\n",
       "  <tbody>\n",
       "    <tr>\n",
       "      <th>0</th>\n",
       "      <td>STAT1</td>\n",
       "      <td>LINC01409</td>\n",
       "      <td>-0.232706</td>\n",
       "      <td>0.272895</td>\n",
       "      <td>0.398760</td>\n",
       "      <td>rest</td>\n",
       "    </tr>\n",
       "    <tr>\n",
       "      <th>1</th>\n",
       "      <td>STAT1</td>\n",
       "      <td>NOC2L</td>\n",
       "      <td>-0.026243</td>\n",
       "      <td>0.215634</td>\n",
       "      <td>0.892411</td>\n",
       "      <td>rest</td>\n",
       "    </tr>\n",
       "    <tr>\n",
       "      <th>2</th>\n",
       "      <td>STAT1</td>\n",
       "      <td>HES4</td>\n",
       "      <td>0.299789</td>\n",
       "      <td>0.093080</td>\n",
       "      <td>0.002000</td>\n",
       "      <td>rest</td>\n",
       "    </tr>\n",
       "    <tr>\n",
       "      <th>3</th>\n",
       "      <td>STAT1</td>\n",
       "      <td>ISG15</td>\n",
       "      <td>-0.064089</td>\n",
       "      <td>0.070980</td>\n",
       "      <td>0.360664</td>\n",
       "      <td>in TSS</td>\n",
       "    </tr>\n",
       "    <tr>\n",
       "      <th>4</th>\n",
       "      <td>STAT1</td>\n",
       "      <td>AGRN</td>\n",
       "      <td>-0.012531</td>\n",
       "      <td>0.166157</td>\n",
       "      <td>0.937506</td>\n",
       "      <td>rest</td>\n",
       "    </tr>\n",
       "  </tbody>\n",
       "</table>\n",
       "</div>"
      ],
      "text/plain": [
       "  gene_1     gene_2  corr_coef   corr_se  corr_pval   isgf3\n",
       "0  STAT1  LINC01409  -0.232706  0.272895   0.398760    rest\n",
       "1  STAT1      NOC2L  -0.026243  0.215634   0.892411    rest\n",
       "2  STAT1       HES4   0.299789  0.093080   0.002000    rest\n",
       "3  STAT1      ISG15  -0.064089  0.070980   0.360664  in TSS\n",
       "4  STAT1       AGRN  -0.012531  0.166157   0.937506    rest"
      ]
     },
     "execution_count": 40,
     "metadata": {},
     "output_type": "execute_result"
    }
   ],
   "source": [
    "beta_ht_df.head(5)"
   ]
  },
  {
   "cell_type": "code",
   "execution_count": 41,
   "metadata": {},
   "outputs": [
    {
     "name": "stderr",
     "output_type": "stream",
     "text": [
      "No handles with labels found to put in legend.\n"
     ]
    },
    {
     "data": {
      "text/plain": [
       "<matplotlib.legend.Legend at 0x7f2ae3f26650>"
      ]
     },
     "execution_count": 41,
     "metadata": {},
     "output_type": "execute_result"
    },
    {
     "data": {
      "image/png": "[encoded data removed]",
      "text/plain": [
       "<Figure size 180x216 with 1 Axes>"
      ]
     },
     "metadata": {
      "needs_background": "light"
     },
     "output_type": "display_data"
    }
   ],
   "source": [
    "plt.figure(figsize=(2.5, 3))\n",
    "sns.boxplot(x='isgf3', y='corr_coef', data=beta_ht_df.sort_values('isgf3'), palette='Set2')\n",
    "\n",
    "plt.xlabel('Cell type'); plt.ylabel('Change in variability');\n",
    "plt.legend(loc='upper center', ncol=2, bbox_to_anchor=(0.5, 1.15))\n",
    "# plt.ylim(-.8, 0.6)\n",
    "# plt.savefig(fig_path + 'isgf3_vs_rest.pdf', bbox_inches='tight')\n",
    "\n"
   ]
  },
  {
   "cell_type": "code",
   "execution_count": null,
   "metadata": {},
   "outputs": [],
   "source": []
  }
 ],
 "metadata": {
  "kernelspec": {
   "display_name": "Python 3",
   "language": "python",
   "name": "python3"
  },
  "language_info": {
   "codemirror_mode": {
    "name": "ipython",
    "version": 3
   },
   "file_extension": ".py",
   "mimetype": "text/x-python",
   "name": "python",
   "nbconvert_exporter": "python",
   "pygments_lexer": "ipython3",
   "version": "3.8.8"
  }
 },
 "nbformat": 4,
 "nbformat_minor": 4
}
