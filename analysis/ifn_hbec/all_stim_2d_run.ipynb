{
 "cells": [
  {
   "cell_type": "markdown",
   "metadata": {},
   "source": [
    "# 2D variability analysis for HBEC IFN experiment"
   ]
  },
  {
   "cell_type": "code",
   "execution_count": 1,
   "metadata": {},
   "outputs": [
    {
     "name": "stderr",
     "output_type": "stream",
     "text": [
      "\n",
      "Bad key \"text.kerning_factor\" on line 4 in\n",
      "/data/home/anaconda3/envs/single_cell/lib/python3.7/site-packages/matplotlib/mpl-data/stylelib/_classic_test_patch.mplstyle.\n",
      "You probably need to get an updated matplotlibrc file from\n",
      "https://github.com/matplotlib/matplotlib/blob/v3.1.3/matplotlibrc.template\n",
      "or from the matplotlib source distribution\n"
     ]
    }
   ],
   "source": [
    "import scanpy as sc\n",
    "import seaborn as sns\n",
    "import pandas as pd\n",
    "import matplotlib.pyplot as plt\n",
    "import numpy as np\n",
    "import scipy.stats as stats\n",
    "from pybedtools import BedTool\n",
    "import pickle as pkl\n",
    "import itertools\n",
    "%matplotlib inline"
   ]
  },
  {
   "cell_type": "code",
   "execution_count": 2,
   "metadata": {},
   "outputs": [],
   "source": [
    "import sys\n",
    "sys.path.append('/data/home/Github/scrna-parameter-estimation/dist/memento-0.0.4-py3.7.egg')\n",
    "sys.path.append('/data/home/Github/misc-seq/miscseq/')\n",
    "import encode\n",
    "import memento"
   ]
  },
  {
   "cell_type": "code",
   "execution_count": 3,
   "metadata": {},
   "outputs": [],
   "source": [
    "data_path = '/data_volume/ifn_hbec/'"
   ]
  },
  {
   "cell_type": "markdown",
   "metadata": {},
   "source": [
    "### Get the TFs"
   ]
  },
  {
   "cell_type": "code",
   "execution_count": 4,
   "metadata": {},
   "outputs": [],
   "source": [
    "tf_df = pd.read_csv('DatabaseExtract_v_1.01.csv', index_col=0)\n",
    "tf_df = tf_df[tf_df['TF assessment'] == 'Known motif']\n",
    "tfs = tf_df['HGNC symbol'].tolist()"
   ]
  },
  {
   "cell_type": "markdown",
   "metadata": {},
   "source": [
    "### Read the processed RNA data\n",
    "\n",
    "Focus on the club and bc/club cells and type I interferons for now.\n",
    "\n",
    "Encode the timestamps to integers."
   ]
  },
  {
   "cell_type": "raw",
   "metadata": {},
   "source": [
    "adata_processed = sc.read(data_path + 'HBEC_type_I_processed.h5ad')"
   ]
  },
  {
   "cell_type": "code",
   "execution_count": 5,
   "metadata": {},
   "outputs": [],
   "source": [
    "adata = sc.read(data_path + 'HBEC_type_I_filtered_counts_deep.h5ad')"
   ]
  },
  {
   "cell_type": "code",
   "execution_count": 6,
   "metadata": {},
   "outputs": [],
   "source": [
    "adata = adata[:, ~adata.var.index.str.startswith('MT-')].copy()\n",
    "adata.obs['cell_type'] = adata.obs['cell_type'].apply(lambda x: x if x != 'basal/club' else 'bc')\n",
    "adata.obs['cell_type'] = adata.obs['cell_type'].apply(lambda x: x if x != 'ionocyte/tuft' else 'ion-tuft')"
   ]
  },
  {
   "cell_type": "raw",
   "metadata": {},
   "source": [
    "sc.pl.umap(adata_processed, color=['cell_type', 'time', 'stim'])"
   ]
  },
  {
   "cell_type": "code",
   "execution_count": 7,
   "metadata": {},
   "outputs": [
    {
     "data": {
      "text/plain": [
       "(69958, 36588)"
      ]
     },
     "execution_count": 7,
     "metadata": {},
     "output_type": "execute_result"
    }
   ],
   "source": [
    "adata.shape"
   ]
  },
  {
   "cell_type": "markdown",
   "metadata": {},
   "source": [
    "### Setup memento"
   ]
  },
  {
   "cell_type": "code",
   "execution_count": 8,
   "metadata": {},
   "outputs": [],
   "source": [
    "def assign_q(batch):\n",
    "    \n",
    "    if batch == 0:\n",
    "        return 0.387*0.25\n",
    "    elif batch == 1:\n",
    "        return 0.392*0.25\n",
    "    elif batch == 2:\n",
    "        return 0.436*0.25\n",
    "    else:\n",
    "        return 0.417*0.25"
   ]
  },
  {
   "cell_type": "code",
   "execution_count": 9,
   "metadata": {},
   "outputs": [],
   "source": [
    "adata.obs['q'] = adata.obs['batch'].apply(assign_q)"
   ]
  },
  {
   "cell_type": "code",
   "execution_count": 11,
   "metadata": {},
   "outputs": [],
   "source": [
    "memento.setup_memento(adata, q_column='q', trim_percent=0.05)"
   ]
  },
  {
   "cell_type": "markdown",
   "metadata": {},
   "source": [
    "### Compute correlations for STAT1"
   ]
  },
  {
   "cell_type": "code",
   "execution_count": 11,
   "metadata": {},
   "outputs": [],
   "source": [
    "tf = 'STAT1'\n",
    "ct = ['ciliated']\n",
    "stim = 'beta'\n",
    "\n",
    "def get_2d_moments(tf, ct, stim):\n",
    "    \n",
    "    adata_stim = adata.copy()[\n",
    "        adata.obs.cell_type.isin(ct) & \\\n",
    "        adata.obs.stim.isin(['control', stim])].copy()\n",
    "    # time_converter={0:0, int(tp):1}\n",
    "    # adata_stim.obs['time_step'] = adata_stim.obs['time'].astype(int).apply(lambda x: time_converter[x])\n",
    "\n",
    "    memento.create_groups(adata_stim, label_columns=['time', 'donor'])\n",
    "    memento.compute_1d_moments(adata_stim, min_perc_group=.9)\n",
    "    moment_1d_df = memento.get_1d_moments(adata_stim, groupby='time')\n",
    "\n",
    "    memento.compute_2d_moments(adata_stim, list(itertools.product([tf], adata_stim.var.index)))\n",
    "\n",
    "    moment_df = memento.get_2d_moments(adata_stim, groupby='time')\n",
    "    \n",
    "    return moment_df\n"
   ]
  },
  {
   "cell_type": "code",
   "execution_count": 12,
   "metadata": {},
   "outputs": [
    {
     "name": "stderr",
     "output_type": "stream",
     "text": [
      "/data/home/Github/scrna-parameter-estimation/dist/memento-0.0.5-py3.7.egg/memento/estimator.py:100: RuntimeWarning: invalid value encountered in log\n",
      "/data/home/Github/scrna-parameter-estimation/dist/memento-0.0.5-py3.7.egg/memento/main.py:539: RuntimeWarning: invalid value encountered in true_divide\n",
      "/data/home/anaconda3/envs/single_cell/lib/python3.7/site-packages/ipykernel_launcher.py:8: FutureWarning: Sorting because non-concatenation axis is not aligned. A future version\n",
      "of pandas will change to not sort by default.\n",
      "\n",
      "To accept the future behavior, pass 'sort=False'.\n",
      "\n",
      "To retain the current behavior and silence the warning, pass 'sort=True'.\n",
      "\n",
      "  \n"
     ]
    }
   ],
   "source": [
    "beta_df = get_2d_moments('STAT1', ['ciliated'], 'beta')\n",
    "alpha_df = get_2d_moments('STAT1', ['ciliated'], 'alpha')\n",
    "gamma_df = get_2d_moments('STAT1', ['ciliated'], 'gamma')\n",
    "lambda_df = get_2d_moments('STAT1', ['ciliated'], 'lambda')\n",
    "\n",
    "beta_df['stim'] = 'beta'\n",
    "alpha_df['stim'] = 'alpha'\n",
    "df = pd.concat([alpha_df, beta_df])"
   ]
  },
  {
   "cell_type": "code",
   "execution_count": 23,
   "metadata": {},
   "outputs": [
    {
     "data": {
      "text/plain": [
       "(-0.75, 1)"
      ]
     },
     "execution_count": 23,
     "metadata": {},
     "output_type": "execute_result"
    },
    {
     "data": {
      "image/png": "[encoded data removed]",
      "text/plain": [
       "<Figure size 216x144 with 1 Axes>"
      ]
     },
     "metadata": {
      "needs_background": "light"
     },
     "output_type": "display_data"
    }
   ],
   "source": [
    "plt.figure(figsize=(3, 2))\n",
    "for tp in ['0', '3', '6', '9', '24', '48']:#['0', '3', '6', '9', '24', '48']:\n",
    "    sns.distplot(beta_df['time_' + tp], hist=False, label=tp)\n",
    "# plt.legend(, frameon=False)\n",
    "plt.xlabel('Correlation with STAT1')\n",
    "plt.xlim(-0.75, 1)"
   ]
  },
  {
   "cell_type": "code",
   "execution_count": 13,
   "metadata": {},
   "outputs": [],
   "source": [
    "import matplotlib as mpl\n",
    "import matplotlib.pyplot as plt\n",
    "import matplotlib.gridspec as grid_spec\n",
    "\n",
    "import pandas as pd\n",
    "import numpy as np\n",
    "from sklearn.neighbors import KernelDensity"
   ]
  },
  {
   "cell_type": "code",
   "execution_count": 21,
   "metadata": {},
   "outputs": [
    {
     "name": "stderr",
     "output_type": "stream",
     "text": [
      "/data/home/anaconda3/envs/single_cell/lib/python3.7/site-packages/ipykernel_launcher.py:59: UserWarning: This figure includes Axes that are not compatible with tight_layout, so results might be incorrect.\n"
     ]
    },
    {
     "data": {
      "image/png": "[encoded data removed]",
      "text/plain": [
       "<Figure size 288x216 with 6 Axes>"
      ]
     },
     "metadata": {
      "needs_background": "light"
     },
     "output_type": "display_data"
    }
   ],
   "source": [
    "colors = ['#0000ff', '#3300cc', '#660099', '#990066', '#cc0033', '#ff0000']\n",
    "\n",
    "gs = grid_spec.GridSpec(6,1)\n",
    "fig = plt.figure(figsize=(4,3))\n",
    "\n",
    "i = 0\n",
    "\n",
    "ax_objs = []\n",
    "for i, tp in enumerate(['0', '3', '6', '9', '24', '48']):\n",
    "    x = lambda_df['time_' + tp].values\n",
    "    x = x[np.isfinite(x)]\n",
    "    x_d = np.linspace(-0.7,1, 1000)\n",
    "\n",
    "    kde = KernelDensity(bandwidth=0.025, kernel='gaussian')\n",
    "    kde.fit(x[:, None])\n",
    "\n",
    "    logprob = kde.score_samples(x_d[:, None])\n",
    "\n",
    "    # creating new axes object\n",
    "    ax_objs.append(fig.add_subplot(gs[i:i+1, 0:]))\n",
    "\n",
    "    # plotting the distribution\n",
    "    ax_objs[-1].plot(x_d, np.exp(logprob),lw=3, color=colors[i])\n",
    "#     ax_objs[-1].fill_between(x_d, np.exp(logprob), alpha=1,color=colors[i])\n",
    "\n",
    "\n",
    "    # setting uniform x and y lims\n",
    "    ax_objs[-1].set_xlim(-0.4,0.7)\n",
    "#     ax_objs[-1].set_ylim(0,2.5)\n",
    "\n",
    "    # make background transparent\n",
    "    rect = ax_objs[-1].patch\n",
    "    rect.set_alpha(0)\n",
    "\n",
    "    # remove borders, axis ticks, and labels\n",
    "    ax_objs[-1].set_yticklabels([])\n",
    "\n",
    "    if i == 6-1:\n",
    "        ax_objs[-1].set_xlabel(\"Correlation\", fontsize=10,fontweight=\"bold\")\n",
    "    else:\n",
    "        ax_objs[-1].set_xticklabels([])\n",
    "        ax_objs[-1].set_xticks([])\n",
    "\n",
    "    spines = [\"top\",\"right\",\"left\",\"bottom\"]\n",
    "    for s in spines:\n",
    "        ax_objs[-1].spines[s].set_visible(False)\n",
    "#     \n",
    "    ax_objs[-1].set_yticks([])\n",
    "#     adj_country = country.replace(\" \",\"\\n\")\n",
    "    ax_objs[-1].text(-0.5,0,tp,fontweight=\"bold\",fontsize=14,ha=\"right\")\n",
    "\n",
    "\n",
    "    i += 1\n",
    "\n",
    "gs.update(hspace=-0.7)\n",
    "\n",
    "# fig.text(0.07,0.85,\"Distribution of Aptitude Test Results from 18 – 24 year-olds\",fontsize=20)\n",
    "\n",
    "plt.tight_layout()\n",
    "plt.show()"
   ]
  },
  {
   "cell_type": "markdown",
   "metadata": {},
   "source": [
    "### Look for STAT1 DC genes"
   ]
  },
  {
   "cell_type": "code",
   "execution_count": 12,
   "metadata": {},
   "outputs": [],
   "source": [
    "cts = [['ciliated'], ['bc', 'basal']]\n",
    "tps = ['3', '6', '9', '24', '48']\n",
    "stims = ['alpha', 'beta', 'gamma', 'lambda']"
   ]
  },
  {
   "cell_type": "code",
   "execution_count": 13,
   "metadata": {},
   "outputs": [],
   "source": [
    "import os"
   ]
  },
  {
   "cell_type": "code",
   "execution_count": 14,
   "metadata": {},
   "outputs": [],
   "source": [
    "done_files = os.listdir('/data_volume/ifn_hbec/tf_test/')"
   ]
  },
  {
   "cell_type": "code",
   "execution_count": 14,
   "metadata": {},
   "outputs": [],
   "source": [
    "tf = 'STAT1'\n",
    "\n",
    "cts = [['ciliated']]\n",
    "tps = ['3']\n",
    "stims = ['beta']\n",
    "\n",
    "\n",
    "for ct in cts:\n",
    "    for tp in tps:\n",
    "        for stim in stims:\n",
    "            \n",
    "            fname = '{}_{}_{}_{}.h5ad'.format('-'.join(ct), stim, tp, tf)\n",
    "            if fname in done_files:\n",
    "                continue\n",
    "                            \n",
    "            print('starting', ct, tp, stim)\n",
    "\n",
    "            adata_stim = adata.copy()[\n",
    "                adata.obs.cell_type.isin(ct) & \\\n",
    "                adata.obs.stim.isin(['control', stim]) & \\\n",
    "                adata.obs.time.isin(['0',tp]), :].copy()\n",
    "            time_converter={0:0, int(tp):1}\n",
    "            adata_stim.obs['time_step'] = adata_stim.obs['time'].astype(int).apply(lambda x: time_converter[x])\n",
    "\n",
    "            memento.create_groups(adata_stim, label_columns=['time_step', 'donor'])\n",
    "            memento.compute_1d_moments(adata_stim, min_perc_group=.9)\n",
    "            memento.compute_2d_moments(adata_stim, list(itertools.product([tf], adata_stim.var.index)))\n",
    "\n",
    "            moment_df = memento.get_2d_moments(adata_stim, groupby='time_step')\n",
    "            moment_df.to_csv('/data_volume/ifn_hbec/coex_test/moments_{}_{}_{}_{}.csv'.format('-'.join(ct), stim, tp, tf), index=False)\n",
    "            gene_list = adata_stim.var.index.tolist()#moment_df[(moment_df['time_step_0'] > 0.35) | (moment_df['time_step_1'] > 0.35)].gene_2.tolist()\n",
    "\n",
    "            memento.compute_2d_moments(adata_stim, list(itertools.product([tf], gene_list)))\n",
    "\n",
    "            memento.ht_2d_moments( \n",
    "                adata_stim, \n",
    "                formula_like='1 + time_step',\n",
    "                cov_column='time_step', \n",
    "                num_boot=10000, \n",
    "                verbose=1,\n",
    "                num_cpus=13)\n",
    "\n",
    "            if 'mv_regressor' in adata_stim.uns['memento']:\n",
    "                del adata_stim.uns['memento']['mv_regressor']\n",
    "            adata_stim.write('/data_volume/ifn_hbec/tf_test/{}_{}_{}_{}.h5ad'.format('-'.join(ct), stim, tp, tf))"
   ]
  },
  {
   "cell_type": "markdown",
   "metadata": {},
   "source": [
    "### What are the STAT1 DC genes?"
   ]
  },
  {
   "cell_type": "code",
   "execution_count": 104,
   "metadata": {},
   "outputs": [],
   "source": [
    "stim = 'beta'\n",
    "tp = '3'\n",
    "ct = ['ciliated']\n",
    "\n",
    "fname = '/data_volume/ifn_hbec/tf_test/{}_{}_{}_{}.h5ad'.format('-'.join(ct), stim, tp, tf)\n",
    "adata_result = sc.read(fname)"
   ]
  },
  {
   "cell_type": "code",
   "execution_count": 105,
   "metadata": {},
   "outputs": [],
   "source": [
    "\n",
    "fname = '/data_volume/ifn_hbec/tf_test/{}_{}_{}_{}.h5ad'.format('-'.join(ct), stim, tp, tf)\n",
    "adata_result = sc.read(fname)\n",
    "\n",
    "moments = memento.get_2d_moments(adata_result, groupby='time')\n",
    "res_df = memento.get_2d_ht_result(adata_result)\n",
    "# rel_res_df = memento.get_2d_ht_result(adata_stim)"
   ]
  },
  {
   "cell_type": "code",
   "execution_count": 106,
   "metadata": {},
   "outputs": [
    {
     "data": {
      "text/html": [
       "<div>\n",
       "<style scoped>\n",
       "    .dataframe tbody tr th:only-of-type {\n",
       "        vertical-align: middle;\n",
       "    }\n",
       "\n",
       "    .dataframe tbody tr th {\n",
       "        vertical-align: top;\n",
       "    }\n",
       "\n",
       "    .dataframe thead th {\n",
       "        text-align: right;\n",
       "    }\n",
       "</style>\n",
       "<table border=\"1\" class=\"dataframe\">\n",
       "  <thead>\n",
       "    <tr style=\"text-align: right;\">\n",
       "      <th></th>\n",
       "      <th>gene_1</th>\n",
       "      <th>gene_2</th>\n",
       "      <th>time_3</th>\n",
       "      <th>time_0</th>\n",
       "    </tr>\n",
       "  </thead>\n",
       "  <tbody>\n",
       "    <tr>\n",
       "      <th>324</th>\n",
       "      <td>STAT1</td>\n",
       "      <td>HLA-F</td>\n",
       "      <td>0.516336</td>\n",
       "      <td>0.303196</td>\n",
       "    </tr>\n",
       "    <tr>\n",
       "      <th>325</th>\n",
       "      <td>STAT1</td>\n",
       "      <td>HLA-A</td>\n",
       "      <td>0.435438</td>\n",
       "      <td>0.184255</td>\n",
       "    </tr>\n",
       "    <tr>\n",
       "      <th>326</th>\n",
       "      <td>STAT1</td>\n",
       "      <td>HLA-E</td>\n",
       "      <td>0.626379</td>\n",
       "      <td>0.415575</td>\n",
       "    </tr>\n",
       "    <tr>\n",
       "      <th>327</th>\n",
       "      <td>STAT1</td>\n",
       "      <td>HLA-C</td>\n",
       "      <td>0.530611</td>\n",
       "      <td>0.319793</td>\n",
       "    </tr>\n",
       "    <tr>\n",
       "      <th>328</th>\n",
       "      <td>STAT1</td>\n",
       "      <td>HLA-B</td>\n",
       "      <td>0.437998</td>\n",
       "      <td>0.201227</td>\n",
       "    </tr>\n",
       "  </tbody>\n",
       "</table>\n",
       "</div>"
      ],
      "text/plain": [
       "    gene_1 gene_2    time_3    time_0\n",
       "324  STAT1  HLA-F  0.516336  0.303196\n",
       "325  STAT1  HLA-A  0.435438  0.184255\n",
       "326  STAT1  HLA-E  0.626379  0.415575\n",
       "327  STAT1  HLA-C  0.530611  0.319793\n",
       "328  STAT1  HLA-B  0.437998  0.201227"
      ]
     },
     "execution_count": 106,
     "metadata": {},
     "output_type": "execute_result"
    }
   ],
   "source": [
    "moments.query('gene_2.str.startswith(\"HLA-\")', engine='python')"
   ]
  },
  {
   "cell_type": "code",
   "execution_count": 80,
   "metadata": {},
   "outputs": [],
   "source": [
    "wired_pairs = moments.query('time_0 > 0.25 | time_{} > 0.25'.format(tp))"
   ]
  },
  {
   "cell_type": "code",
   "execution_count": 81,
   "metadata": {},
   "outputs": [],
   "source": [
    "filtered_res_df = df.merge(wired_pairs, on=['gene_1', 'gene_2'])\n",
    "filtered_res_df['corr_fdr'] = memento.util._fdrcorrect(filtered_res_df['corr_pval'])"
   ]
  },
  {
   "cell_type": "code",
   "execution_count": null,
   "metadata": {},
   "outputs": [],
   "source": [
    "for g in filtered_res_df.query('corr_fdr < 0.1 & corr_coef > 0').gene_2.tolist():\n",
    "    print(g)"
   ]
  },
  {
   "cell_type": "code",
   "execution_count": 52,
   "metadata": {},
   "outputs": [
    {
     "data": {
      "text/plain": [
       "(869, 7)"
      ]
     },
     "execution_count": 52,
     "metadata": {},
     "output_type": "execute_result"
    }
   ],
   "source": [
    "filtered_res_df.shape"
   ]
  },
  {
   "cell_type": "code",
   "execution_count": 53,
   "metadata": {},
   "outputs": [
    {
     "data": {
      "text/plain": [
       "(891, 5)"
      ]
     },
     "execution_count": 53,
     "metadata": {},
     "output_type": "execute_result"
    }
   ],
   "source": [
    "res_df.shape"
   ]
  },
  {
   "cell_type": "markdown",
   "metadata": {},
   "source": [
    "### Re-run the STAT1 anaylsis for subset"
   ]
  },
  {
   "cell_type": "code",
   "execution_count": 15,
   "metadata": {},
   "outputs": [
    {
     "name": "stdout",
     "output_type": "stream",
     "text": [
      "starting ['ciliated'] 3 alpha\n",
      "starting ['ciliated'] 3 beta\n",
      "starting ['ciliated'] 3 gamma\n"
     ]
    },
    {
     "name": "stderr",
     "output_type": "stream",
     "text": [
      "/data/home/Github/scrna-parameter-estimation/dist/memento-0.0.4-py3.7.egg/memento/main.py:578: RuntimeWarning: invalid value encountered in true_divide\n"
     ]
    },
    {
     "name": "stdout",
     "output_type": "stream",
     "text": [
      "starting ['ciliated'] 3 lambda\n",
      "starting ['ciliated'] 6 alpha\n",
      "starting ['ciliated'] 6 beta\n",
      "starting ['ciliated'] 6 gamma\n",
      "starting ['ciliated'] 6 lambda\n",
      "starting ['ciliated'] 9 alpha\n",
      "starting ['ciliated'] 9 beta\n",
      "starting ['ciliated'] 9 gamma\n",
      "starting ['ciliated'] 9 lambda\n",
      "starting ['ciliated'] 24 alpha\n",
      "starting ['ciliated'] 24 beta\n",
      "starting ['ciliated'] 24 gamma\n",
      "starting ['ciliated'] 24 lambda\n",
      "starting ['ciliated'] 48 alpha\n",
      "starting ['ciliated'] 48 beta\n",
      "starting ['ciliated'] 48 gamma\n",
      "starting ['ciliated'] 48 lambda\n"
     ]
    }
   ],
   "source": [
    "tf = 'STAT1'\n",
    "\n",
    "cts = [['ciliated']]\n",
    "tps = ['3', '6', '9', '24', '48']\n",
    "stims = ['alpha', 'beta', 'gamma', 'lambda']\n",
    "\n",
    "\n",
    "for ct in cts:\n",
    "    for tp in tps:\n",
    "        for stim in stims:\n",
    "            \n",
    "#             fname = '{}_{}_{}_{}.h5ad'.format('-'.join(ct), stim, tp, tf)\n",
    "#             if fname in done_files:\n",
    "#                 continue\n",
    "                            \n",
    "            print('starting', ct, tp, stim)\n",
    "\n",
    "            adata_stim = adata.copy()[\n",
    "                adata.obs.cell_type.isin(ct) & \\\n",
    "                adata.obs.stim.isin(['control', stim]) & \\\n",
    "                adata.obs.time.isin(['0',tp]), :].copy()\n",
    "            time_converter={0:0, int(tp):1}\n",
    "            adata_stim.obs['time_step'] = adata_stim.obs['time'].astype(int).apply(lambda x: time_converter[x])\n",
    "\n",
    "            memento.create_groups(adata_stim, label_columns=['time_step', 'donor'])\n",
    "            memento.compute_1d_moments(adata_stim, min_perc_group=.9)\n",
    "            \n",
    "            gene_list = adata_stim.var.index.tolist()\n",
    "            \n",
    "            memento.compute_2d_moments(adata_stim, list(itertools.product([tf], adata_stim.var.index)))\n",
    "\n",
    "            moment_df = memento.get_2d_moments(adata_stim, groupby='time_step')\n",
    "            moment_df.to_csv('/data_volume/ifn_hbec/tf_test/moments_{}_{}_{}_{}.csv'.format('-'.join(ct), stim, tp, tf), index=False)\n",
    "#             gene_list = adata_stim.var.index.tolist()#moment_df[(moment_df['time_step_0'] > 0.35) | (moment_df['time_step_1'] > 0.35)].gene_2.tolist()\n",
    "\n",
    "#             memento.compute_2d_moments(adata_stim, list(itertools.product([tf], gene_list)))\n",
    "\n",
    "#             memento.ht_2d_moments( \n",
    "#                 adata_stim, \n",
    "#                 formula_like='1 + time_step',\n",
    "#                 cov_column='time_step', \n",
    "#                 num_boot=10000, \n",
    "#                 verbose=1,\n",
    "#                 num_cpus=13)\n",
    "\n",
    "#             if 'mv_regressor' in adata_stim.uns['memento']:\n",
    "#                 del adata_stim.uns['memento']['mv_regressor']\n",
    "#             adata_stim.write('/data_volume/ifn_hbec/tf_test/{}_{}_{}_{}.h5ad'.format('-'.join(ct), stim, tp, tf))"
   ]
  },
  {
   "cell_type": "markdown",
   "metadata": {},
   "source": [
    "### Compile STAT1 DC and correlation status"
   ]
  },
  {
   "cell_type": "code",
   "execution_count": 16,
   "metadata": {},
   "outputs": [],
   "source": [
    "stim = 'gamma'\n",
    "ct = ['ciliated']\n",
    "tf = 'STAT1'"
   ]
  },
  {
   "cell_type": "code",
   "execution_count": 17,
   "metadata": {},
   "outputs": [
    {
     "name": "stdout",
     "output_type": "stream",
     "text": [
      "3\n",
      "6\n",
      "9\n",
      "24\n",
      "48\n"
     ]
    }
   ],
   "source": [
    "\n",
    "for tp in ['3', '6', '9', '24', '48']:\n",
    "    \n",
    "    print(tp)\n",
    "\n",
    "    fname = '/data_volume/ifn_hbec/tf_test/{}_{}_{}_{}.h5ad'.format('-'.join(ct), stim, tp, tf)\n",
    "    adata_result = sc.read(fname)\n",
    "    \n",
    "#     moments = memento.get_2d_moments(adata_result, groupby='time_step').rename(columns={'time_step_0':'time_0', 'time_step_1':'time_'+tp})\n",
    "    moments = pd.read_csv('/data_volume/ifn_hbec/tf_test/moments_{}_{}_{}_{}.csv'.format('-'.join(ct), stim, tp, tf)).rename(columns={'time_step_0':'time_0', 'time_step_1':'time_'+tp})\n",
    "    res_df = memento.get_2d_ht_result(adata_result)\\\n",
    "        .rename(columns={\n",
    "            'corr_coef':'corr_coef' + '_' + tp,\n",
    "            'corr_pval':'corr_pval' + '_' + tp})\n",
    "    \n",
    "    if tp == '3':\n",
    "\n",
    "        pv_df = res_df[['gene_1', 'gene_2', 'corr_pval' + '_' + tp]].copy()\n",
    "        coef_df = res_df[['gene_1', 'gene_2', 'corr_coef' + '_' + tp]].copy()\n",
    "        moment_df = moments[['gene_1', 'gene_2', 'time_0', 'time_3']].copy()\n",
    "        \n",
    "    else:\n",
    "        \n",
    "        pv_df = pv_df.merge(res_df[['gene_1', 'gene_2', 'corr_pval' + '_' + tp]].copy(), on=['gene_1', 'gene_2'], how='outer')\n",
    "        coef_df = coef_df.merge(res_df[['gene_1', 'gene_2', 'corr_coef' + '_' + tp]].copy(), on=['gene_1', 'gene_2'], how='outer')\n",
    "        moment_df = moment_df.merge(moments[['gene_1', 'gene_2', 'time_{}'.format(tp)]].copy(), on=['gene_1', 'gene_2'], how='outer')\n",
    "    \n",
    "    \n",
    "    "
   ]
  },
  {
   "cell_type": "code",
   "execution_count": 18,
   "metadata": {},
   "outputs": [
    {
     "data": {
      "text/html": [
       "<div>\n",
       "<style scoped>\n",
       "    .dataframe tbody tr th:only-of-type {\n",
       "        vertical-align: middle;\n",
       "    }\n",
       "\n",
       "    .dataframe tbody tr th {\n",
       "        vertical-align: top;\n",
       "    }\n",
       "\n",
       "    .dataframe thead th {\n",
       "        text-align: right;\n",
       "    }\n",
       "</style>\n",
       "<table border=\"1\" class=\"dataframe\">\n",
       "  <thead>\n",
       "    <tr style=\"text-align: right;\">\n",
       "      <th></th>\n",
       "      <th>gene_1</th>\n",
       "      <th>gene_2</th>\n",
       "      <th>time_0</th>\n",
       "      <th>time_3</th>\n",
       "      <th>time_6</th>\n",
       "      <th>time_9</th>\n",
       "      <th>time_24</th>\n",
       "      <th>time_48</th>\n",
       "    </tr>\n",
       "  </thead>\n",
       "  <tbody>\n",
       "    <tr>\n",
       "      <th>3094</th>\n",
       "      <td>STAT1</td>\n",
       "      <td>HLA-A</td>\n",
       "      <td>0.172667</td>\n",
       "      <td>0.264742</td>\n",
       "      <td>0.196805</td>\n",
       "      <td>0.136728</td>\n",
       "      <td>0.101051</td>\n",
       "      <td>0.097405</td>\n",
       "    </tr>\n",
       "    <tr>\n",
       "      <th>3115</th>\n",
       "      <td>STAT1</td>\n",
       "      <td>HLA-C</td>\n",
       "      <td>0.314121</td>\n",
       "      <td>0.397101</td>\n",
       "      <td>0.337141</td>\n",
       "      <td>0.287205</td>\n",
       "      <td>0.147436</td>\n",
       "      <td>0.177297</td>\n",
       "    </tr>\n",
       "    <tr>\n",
       "      <th>3116</th>\n",
       "      <td>STAT1</td>\n",
       "      <td>HLA-B</td>\n",
       "      <td>0.196586</td>\n",
       "      <td>0.293571</td>\n",
       "      <td>0.286509</td>\n",
       "      <td>0.216158</td>\n",
       "      <td>0.123979</td>\n",
       "      <td>0.082816</td>\n",
       "    </tr>\n",
       "    <tr>\n",
       "      <th>6658</th>\n",
       "      <td>STAT1</td>\n",
       "      <td>B2M</td>\n",
       "      <td>0.177316</td>\n",
       "      <td>0.238690</td>\n",
       "      <td>0.196549</td>\n",
       "      <td>0.146857</td>\n",
       "      <td>0.054398</td>\n",
       "      <td>0.054794</td>\n",
       "    </tr>\n",
       "  </tbody>\n",
       "</table>\n",
       "</div>"
      ],
      "text/plain": [
       "     gene_1 gene_2    time_0    time_3    time_6    time_9   time_24   time_48\n",
       "3094  STAT1  HLA-A  0.172667  0.264742  0.196805  0.136728  0.101051  0.097405\n",
       "3115  STAT1  HLA-C  0.314121  0.397101  0.337141  0.287205  0.147436  0.177297\n",
       "3116  STAT1  HLA-B  0.196586  0.293571  0.286509  0.216158  0.123979  0.082816\n",
       "6658  STAT1    B2M  0.177316  0.238690  0.196549  0.146857  0.054398  0.054794"
      ]
     },
     "execution_count": 18,
     "metadata": {},
     "output_type": "execute_result"
    }
   ],
   "source": [
    "moment_df.query('gene_2.isin([\"HLA-A\", \"HLA-B\", \"HLA-C\", \"B2M\"])', engine='python')"
   ]
  },
  {
   "cell_type": "markdown",
   "metadata": {},
   "source": [
    "### Check 2D moments over time"
   ]
  },
  {
   "cell_type": "code",
   "execution_count": 20,
   "metadata": {},
   "outputs": [],
   "source": [
    "isg_genes = ['ISG15', 'MX1', 'MX2', 'ISG15', 'OAS1', 'OAS2', 'OAS3', 'OASL',]"
   ]
  },
  {
   "cell_type": "code",
   "execution_count": 21,
   "metadata": {},
   "outputs": [
    {
     "data": {
      "text/html": [
       "<div>\n",
       "<style scoped>\n",
       "    .dataframe tbody tr th:only-of-type {\n",
       "        vertical-align: middle;\n",
       "    }\n",
       "\n",
       "    .dataframe tbody tr th {\n",
       "        vertical-align: top;\n",
       "    }\n",
       "\n",
       "    .dataframe thead th {\n",
       "        text-align: right;\n",
       "    }\n",
       "</style>\n",
       "<table border=\"1\" class=\"dataframe\">\n",
       "  <thead>\n",
       "    <tr style=\"text-align: right;\">\n",
       "      <th></th>\n",
       "      <th>gene_1</th>\n",
       "      <th>gene_2</th>\n",
       "      <th>time_0</th>\n",
       "      <th>time_3</th>\n",
       "      <th>time_6</th>\n",
       "      <th>time_9</th>\n",
       "      <th>time_24</th>\n",
       "      <th>time_48</th>\n",
       "    </tr>\n",
       "  </thead>\n",
       "  <tbody>\n",
       "    <tr>\n",
       "      <th>3</th>\n",
       "      <td>STAT1</td>\n",
       "      <td>ISG15</td>\n",
       "      <td>0.713398</td>\n",
       "      <td>0.472722</td>\n",
       "      <td>0.484757</td>\n",
       "      <td>0.494712</td>\n",
       "      <td>0.440472</td>\n",
       "      <td>0.503382</td>\n",
       "    </tr>\n",
       "    <tr>\n",
       "      <th>5996</th>\n",
       "      <td>STAT1</td>\n",
       "      <td>OAS1</td>\n",
       "      <td>0.646565</td>\n",
       "      <td>0.498528</td>\n",
       "      <td>0.492114</td>\n",
       "      <td>0.598161</td>\n",
       "      <td>0.472078</td>\n",
       "      <td>0.535351</td>\n",
       "    </tr>\n",
       "    <tr>\n",
       "      <th>5997</th>\n",
       "      <td>STAT1</td>\n",
       "      <td>OAS3</td>\n",
       "      <td>0.732475</td>\n",
       "      <td>0.525359</td>\n",
       "      <td>0.516637</td>\n",
       "      <td>0.595635</td>\n",
       "      <td>0.591296</td>\n",
       "      <td>0.635312</td>\n",
       "    </tr>\n",
       "    <tr>\n",
       "      <th>5998</th>\n",
       "      <td>STAT1</td>\n",
       "      <td>OAS2</td>\n",
       "      <td>0.899163</td>\n",
       "      <td>0.645379</td>\n",
       "      <td>0.618742</td>\n",
       "      <td>0.618230</td>\n",
       "      <td>0.649674</td>\n",
       "      <td>0.663459</td>\n",
       "    </tr>\n",
       "    <tr>\n",
       "      <th>6029</th>\n",
       "      <td>STAT1</td>\n",
       "      <td>OASL</td>\n",
       "      <td>0.549513</td>\n",
       "      <td>0.273677</td>\n",
       "      <td>0.252218</td>\n",
       "      <td>0.320974</td>\n",
       "      <td>0.270424</td>\n",
       "      <td>0.478260</td>\n",
       "    </tr>\n",
       "    <tr>\n",
       "      <th>8913</th>\n",
       "      <td>STAT1</td>\n",
       "      <td>MX2</td>\n",
       "      <td>0.791370</td>\n",
       "      <td>0.446193</td>\n",
       "      <td>0.431638</td>\n",
       "      <td>0.504710</td>\n",
       "      <td>0.398981</td>\n",
       "      <td>0.529850</td>\n",
       "    </tr>\n",
       "    <tr>\n",
       "      <th>8914</th>\n",
       "      <td>STAT1</td>\n",
       "      <td>MX1</td>\n",
       "      <td>0.823748</td>\n",
       "      <td>0.473797</td>\n",
       "      <td>0.495038</td>\n",
       "      <td>0.559051</td>\n",
       "      <td>0.494222</td>\n",
       "      <td>0.590052</td>\n",
       "    </tr>\n",
       "  </tbody>\n",
       "</table>\n",
       "</div>"
      ],
      "text/plain": [
       "     gene_1 gene_2    time_0    time_3    time_6    time_9   time_24   time_48\n",
       "3     STAT1  ISG15  0.713398  0.472722  0.484757  0.494712  0.440472  0.503382\n",
       "5996  STAT1   OAS1  0.646565  0.498528  0.492114  0.598161  0.472078  0.535351\n",
       "5997  STAT1   OAS3  0.732475  0.525359  0.516637  0.595635  0.591296  0.635312\n",
       "5998  STAT1   OAS2  0.899163  0.645379  0.618742  0.618230  0.649674  0.663459\n",
       "6029  STAT1   OASL  0.549513  0.273677  0.252218  0.320974  0.270424  0.478260\n",
       "8913  STAT1    MX2  0.791370  0.446193  0.431638  0.504710  0.398981  0.529850\n",
       "8914  STAT1    MX1  0.823748  0.473797  0.495038  0.559051  0.494222  0.590052"
      ]
     },
     "execution_count": 21,
     "metadata": {},
     "output_type": "execute_result"
    }
   ],
   "source": [
    "moment_df.query('gene_2.isin(@isg_genes)', engine='python')"
   ]
  },
  {
   "cell_type": "code",
   "execution_count": 139,
   "metadata": {},
   "outputs": [
    {
     "data": {
      "text/html": [
       "<div>\n",
       "<style scoped>\n",
       "    .dataframe tbody tr th:only-of-type {\n",
       "        vertical-align: middle;\n",
       "    }\n",
       "\n",
       "    .dataframe tbody tr th {\n",
       "        vertical-align: top;\n",
       "    }\n",
       "\n",
       "    .dataframe thead th {\n",
       "        text-align: right;\n",
       "    }\n",
       "</style>\n",
       "<table border=\"1\" class=\"dataframe\">\n",
       "  <thead>\n",
       "    <tr style=\"text-align: right;\">\n",
       "      <th></th>\n",
       "      <th>gene_1</th>\n",
       "      <th>gene_2</th>\n",
       "      <th>time_0</th>\n",
       "      <th>time_3</th>\n",
       "      <th>time_6</th>\n",
       "      <th>time_9</th>\n",
       "      <th>time_24</th>\n",
       "      <th>time_48</th>\n",
       "    </tr>\n",
       "  </thead>\n",
       "  <tbody>\n",
       "    <tr>\n",
       "      <th>3097</th>\n",
       "      <td>STAT1</td>\n",
       "      <td>HLA-A</td>\n",
       "      <td>0.184255</td>\n",
       "      <td>0.275632</td>\n",
       "      <td>0.204322</td>\n",
       "      <td>0.135832</td>\n",
       "      <td>0.103195</td>\n",
       "      <td>0.100389</td>\n",
       "    </tr>\n",
       "    <tr>\n",
       "      <th>3118</th>\n",
       "      <td>STAT1</td>\n",
       "      <td>HLA-C</td>\n",
       "      <td>0.319793</td>\n",
       "      <td>0.405229</td>\n",
       "      <td>0.340785</td>\n",
       "      <td>0.283306</td>\n",
       "      <td>0.145822</td>\n",
       "      <td>0.176469</td>\n",
       "    </tr>\n",
       "    <tr>\n",
       "      <th>3119</th>\n",
       "      <td>STAT1</td>\n",
       "      <td>HLA-B</td>\n",
       "      <td>0.201227</td>\n",
       "      <td>0.302763</td>\n",
       "      <td>0.290189</td>\n",
       "      <td>0.211899</td>\n",
       "      <td>0.122095</td>\n",
       "      <td>0.082566</td>\n",
       "    </tr>\n",
       "    <tr>\n",
       "      <th>6662</th>\n",
       "      <td>STAT1</td>\n",
       "      <td>B2M</td>\n",
       "      <td>0.184621</td>\n",
       "      <td>0.249761</td>\n",
       "      <td>0.203064</td>\n",
       "      <td>0.147616</td>\n",
       "      <td>0.055379</td>\n",
       "      <td>0.055576</td>\n",
       "    </tr>\n",
       "  </tbody>\n",
       "</table>\n",
       "</div>"
      ],
      "text/plain": [
       "     gene_1 gene_2    time_0    time_3    time_6    time_9   time_24   time_48\n",
       "3097  STAT1  HLA-A  0.184255  0.275632  0.204322  0.135832  0.103195  0.100389\n",
       "3118  STAT1  HLA-C  0.319793  0.405229  0.340785  0.283306  0.145822  0.176469\n",
       "3119  STAT1  HLA-B  0.201227  0.302763  0.290189  0.211899  0.122095  0.082566\n",
       "6662  STAT1    B2M  0.184621  0.249761  0.203064  0.147616  0.055379  0.055576"
      ]
     },
     "execution_count": 139,
     "metadata": {},
     "output_type": "execute_result"
    }
   ],
   "source": [
    "moment_df.query('gene_2.isin([\"HLA-A\", \"HLA-B\", \"HLA-C\", \"B2M\"])', engine='python')"
   ]
  },
  {
   "cell_type": "code",
   "execution_count": 117,
   "metadata": {},
   "outputs": [
    {
     "data": {
      "text/html": [
       "<div>\n",
       "<style scoped>\n",
       "    .dataframe tbody tr th:only-of-type {\n",
       "        vertical-align: middle;\n",
       "    }\n",
       "\n",
       "    .dataframe tbody tr th {\n",
       "        vertical-align: top;\n",
       "    }\n",
       "\n",
       "    .dataframe thead th {\n",
       "        text-align: right;\n",
       "    }\n",
       "</style>\n",
       "<table border=\"1\" class=\"dataframe\">\n",
       "  <thead>\n",
       "    <tr style=\"text-align: right;\">\n",
       "      <th></th>\n",
       "      <th>gene_1</th>\n",
       "      <th>gene_2</th>\n",
       "      <th>corr_coef_3</th>\n",
       "      <th>corr_coef_6</th>\n",
       "      <th>corr_coef_9</th>\n",
       "      <th>corr_coef_24</th>\n",
       "      <th>corr_coef_48</th>\n",
       "    </tr>\n",
       "  </thead>\n",
       "  <tbody>\n",
       "    <tr>\n",
       "      <th>325</th>\n",
       "      <td>STAT1</td>\n",
       "      <td>HLA-A</td>\n",
       "      <td>0.404269</td>\n",
       "      <td>0.387095</td>\n",
       "      <td>NaN</td>\n",
       "      <td>NaN</td>\n",
       "      <td>NaN</td>\n",
       "    </tr>\n",
       "    <tr>\n",
       "      <th>327</th>\n",
       "      <td>STAT1</td>\n",
       "      <td>HLA-C</td>\n",
       "      <td>0.273931</td>\n",
       "      <td>0.351479</td>\n",
       "      <td>0.211282</td>\n",
       "      <td>0.15942</td>\n",
       "      <td>NaN</td>\n",
       "    </tr>\n",
       "    <tr>\n",
       "      <th>328</th>\n",
       "      <td>STAT1</td>\n",
       "      <td>HLA-B</td>\n",
       "      <td>0.381630</td>\n",
       "      <td>0.406874</td>\n",
       "      <td>NaN</td>\n",
       "      <td>NaN</td>\n",
       "      <td>NaN</td>\n",
       "    </tr>\n",
       "    <tr>\n",
       "      <th>649</th>\n",
       "      <td>STAT1</td>\n",
       "      <td>B2M</td>\n",
       "      <td>0.291344</td>\n",
       "      <td>0.413924</td>\n",
       "      <td>NaN</td>\n",
       "      <td>NaN</td>\n",
       "      <td>NaN</td>\n",
       "    </tr>\n",
       "  </tbody>\n",
       "</table>\n",
       "</div>"
      ],
      "text/plain": [
       "    gene_1 gene_2  corr_coef_3  corr_coef_6  corr_coef_9  corr_coef_24  \\\n",
       "325  STAT1  HLA-A     0.404269     0.387095          NaN           NaN   \n",
       "327  STAT1  HLA-C     0.273931     0.351479     0.211282       0.15942   \n",
       "328  STAT1  HLA-B     0.381630     0.406874          NaN           NaN   \n",
       "649  STAT1    B2M     0.291344     0.413924          NaN           NaN   \n",
       "\n",
       "     corr_coef_48  \n",
       "325           NaN  \n",
       "327           NaN  \n",
       "328           NaN  \n",
       "649           NaN  "
      ]
     },
     "execution_count": 117,
     "metadata": {},
     "output_type": "execute_result"
    }
   ],
   "source": [
    "coef_df.query('gene_2.isin([\"HLA-A\", \"HLA-B\", \"HLA-C\", \"B2M\"])', engine='python')"
   ]
  },
  {
   "cell_type": "code",
   "execution_count": 140,
   "metadata": {},
   "outputs": [
    {
     "data": {
      "text/html": [
       "<div>\n",
       "<style scoped>\n",
       "    .dataframe tbody tr th:only-of-type {\n",
       "        vertical-align: middle;\n",
       "    }\n",
       "\n",
       "    .dataframe tbody tr th {\n",
       "        vertical-align: top;\n",
       "    }\n",
       "\n",
       "    .dataframe thead th {\n",
       "        text-align: right;\n",
       "    }\n",
       "</style>\n",
       "<table border=\"1\" class=\"dataframe\">\n",
       "  <thead>\n",
       "    <tr style=\"text-align: right;\">\n",
       "      <th></th>\n",
       "      <th>gene_1</th>\n",
       "      <th>gene_2</th>\n",
       "      <th>corr_pval_3</th>\n",
       "      <th>corr_pval_6</th>\n",
       "      <th>corr_pval_9</th>\n",
       "      <th>corr_pval_24</th>\n",
       "      <th>corr_pval_48</th>\n",
       "    </tr>\n",
       "  </thead>\n",
       "  <tbody>\n",
       "    <tr>\n",
       "      <th>216</th>\n",
       "      <td>STAT1</td>\n",
       "      <td>HLA-C</td>\n",
       "      <td>0.072993</td>\n",
       "      <td>NaN</td>\n",
       "      <td>NaN</td>\n",
       "      <td>NaN</td>\n",
       "      <td>NaN</td>\n",
       "    </tr>\n",
       "  </tbody>\n",
       "</table>\n",
       "</div>"
      ],
      "text/plain": [
       "    gene_1 gene_2  corr_pval_3  corr_pval_6  corr_pval_9  corr_pval_24  \\\n",
       "216  STAT1  HLA-C     0.072993          NaN          NaN           NaN   \n",
       "\n",
       "     corr_pval_48  \n",
       "216           NaN  "
      ]
     },
     "execution_count": 140,
     "metadata": {},
     "output_type": "execute_result"
    }
   ],
   "source": [
    "pv_df.query('gene_2.isin([\"HLA-A\", \"HLA-B\", \"HLA-C\", \"B2M\"])', engine='python')"
   ]
  },
  {
   "cell_type": "code",
   "execution_count": 146,
   "metadata": {},
   "outputs": [],
   "source": [
    "vals = moment_df.query('gene_2.isin([\"HLA-A\", \"HLA-B\", \"HLA-C\", \"B2M\"])', engine='python').values[:, 2:]\n",
    "vals = moment_df.query('gene_2.isin(@isg_genes)', engine='python').values[:, 2:]"
   ]
  },
  {
   "cell_type": "code",
   "execution_count": 147,
   "metadata": {},
   "outputs": [
    {
     "data": {
      "text/plain": [
       "[<matplotlib.lines.Line2D at 0x7fbf283bd390>,\n",
       " <matplotlib.lines.Line2D at 0x7fbf283bde50>,\n",
       " <matplotlib.lines.Line2D at 0x7fbf283bdad0>,\n",
       " <matplotlib.lines.Line2D at 0x7fbf283bd4d0>,\n",
       " <matplotlib.lines.Line2D at 0x7fbf283bd150>,\n",
       " <matplotlib.lines.Line2D at 0x7fbf28263210>,\n",
       " <matplotlib.lines.Line2D at 0x7fbf28263150>]"
      ]
     },
     "execution_count": 147,
     "metadata": {},
     "output_type": "execute_result"
    },
    {
     "data": {
      "image/png": "[encoded data removed]",
      "text/plain": [
       "<Figure size 432x288 with 1 Axes>"
      ]
     },
     "metadata": {
      "needs_background": "light"
     },
     "output_type": "display_data"
    }
   ],
   "source": [
    "plt.plot(vals.T)"
   ]
  },
  {
   "cell_type": "markdown",
   "metadata": {},
   "source": [
    "### Check some expresssion level over time"
   ]
  },
  {
   "cell_type": "code",
   "execution_count": 143,
   "metadata": {},
   "outputs": [],
   "source": [
    "stim = 'gamma'\n",
    "ct = ['ciliated']"
   ]
  },
  {
   "cell_type": "code",
   "execution_count": 144,
   "metadata": {},
   "outputs": [
    {
     "name": "stdout",
     "output_type": "stream",
     "text": [
      "True\n"
     ]
    },
    {
     "name": "stderr",
     "output_type": "stream",
     "text": [
      "/data/home/Github/scrna-parameter-estimation/dist/memento-0.0.4-py3.7.egg/memento/estimator.py:100: RuntimeWarning: invalid value encountered in log\n",
      "/data/home/Github/scrna-parameter-estimation/dist/memento-0.0.4-py3.7.egg/memento/main.py:529: RuntimeWarning: invalid value encountered in true_divide\n",
      "  groupby_var[key] /= groupby_var_count[key]\n"
     ]
    }
   ],
   "source": [
    "subset = adata[adata.obs['cell_type'].isin(ct) & adata.obs.stim.isin(['control', stim])].copy().copy()\n",
    "memento.create_groups(subset, label_columns=['time', 'donor'])\n",
    "memento.compute_1d_moments(subset, min_perc_group=.80)\n",
    "print('NLRC5' in subset.var.index.tolist())\n",
    "mean_df = memento.get_1d_moments(subset, groupby='time')[0][['gene'] + ['time_' + str(i) for i in [0, 3, 6, 9, 24, 48]]]\n",
    "var_df = memento.get_1d_moments(subset, groupby='time')[1][['gene'] + ['time_' + str(i) for i in [0, 3, 6, 9, 24, 48]]]"
   ]
  },
  {
   "cell_type": "code",
   "execution_count": 145,
   "metadata": {},
   "outputs": [
    {
     "data": {
      "text/html": [
       "<div>\n",
       "<style scoped>\n",
       "    .dataframe tbody tr th:only-of-type {\n",
       "        vertical-align: middle;\n",
       "    }\n",
       "\n",
       "    .dataframe tbody tr th {\n",
       "        vertical-align: top;\n",
       "    }\n",
       "\n",
       "    .dataframe thead th {\n",
       "        text-align: right;\n",
       "    }\n",
       "</style>\n",
       "<table border=\"1\" class=\"dataframe\">\n",
       "  <thead>\n",
       "    <tr style=\"text-align: right;\">\n",
       "      <th></th>\n",
       "      <th>gene</th>\n",
       "      <th>time_0</th>\n",
       "      <th>time_3</th>\n",
       "      <th>time_6</th>\n",
       "      <th>time_9</th>\n",
       "      <th>time_24</th>\n",
       "      <th>time_48</th>\n",
       "    </tr>\n",
       "  </thead>\n",
       "  <tbody>\n",
       "    <tr>\n",
       "      <th>4</th>\n",
       "      <td>ISG15</td>\n",
       "      <td>1.825076</td>\n",
       "      <td>4.087663</td>\n",
       "      <td>4.429946</td>\n",
       "      <td>4.485706</td>\n",
       "      <td>4.285943</td>\n",
       "      <td>4.023297</td>\n",
       "    </tr>\n",
       "  </tbody>\n",
       "</table>\n",
       "</div>"
      ],
      "text/plain": [
       "    gene    time_0    time_3    time_6    time_9   time_24   time_48\n",
       "4  ISG15  1.825076  4.087663  4.429946  4.485706  4.285943  4.023297"
      ]
     },
     "execution_count": 145,
     "metadata": {},
     "output_type": "execute_result"
    }
   ],
   "source": [
    "df.query('gene == \"ISG15\"')"
   ]
  },
  {
   "cell_type": "code",
   "execution_count": 123,
   "metadata": {},
   "outputs": [],
   "source": [
    "isg_genes = ['ISG15', 'MX1', 'MX2', 'ISG15', 'OAS1', 'OAS2', 'OAS3', 'OASL',]"
   ]
  },
  {
   "cell_type": "code",
   "execution_count": 124,
   "metadata": {},
   "outputs": [],
   "source": [
    "isg_mat = df.query('gene.isin(@isg_genes)', engine='python').values[:, 1:]\n",
    "\n",
    "c1_mat = df.query('gene.isin([\"HLA-A\", \"HLA-B\", \"HLA-C\", \"B2M\"])', engine='python').values[:, 1:]\n",
    "# c1_mat = c1_mat/c1_mat[:, 0].reshape(-1,1)"
   ]
  },
  {
   "cell_type": "code",
   "execution_count": 126,
   "metadata": {},
   "outputs": [
    {
     "data": {
      "text/html": [
       "<div>\n",
       "<style scoped>\n",
       "    .dataframe tbody tr th:only-of-type {\n",
       "        vertical-align: middle;\n",
       "    }\n",
       "\n",
       "    .dataframe tbody tr th {\n",
       "        vertical-align: top;\n",
       "    }\n",
       "\n",
       "    .dataframe thead th {\n",
       "        text-align: right;\n",
       "    }\n",
       "</style>\n",
       "<table border=\"1\" class=\"dataframe\">\n",
       "  <thead>\n",
       "    <tr style=\"text-align: right;\">\n",
       "      <th></th>\n",
       "      <th>gene</th>\n",
       "      <th>time_0</th>\n",
       "      <th>time_3</th>\n",
       "      <th>time_6</th>\n",
       "      <th>time_9</th>\n",
       "      <th>time_24</th>\n",
       "      <th>time_48</th>\n",
       "    </tr>\n",
       "  </thead>\n",
       "  <tbody>\n",
       "    <tr>\n",
       "      <th>3342</th>\n",
       "      <td>HLA-A</td>\n",
       "      <td>1.656812</td>\n",
       "      <td>2.370405</td>\n",
       "      <td>2.487690</td>\n",
       "      <td>2.090583</td>\n",
       "      <td>2.035615</td>\n",
       "      <td>1.793220</td>\n",
       "    </tr>\n",
       "    <tr>\n",
       "      <th>3367</th>\n",
       "      <td>HLA-C</td>\n",
       "      <td>1.829254</td>\n",
       "      <td>2.479059</td>\n",
       "      <td>2.770877</td>\n",
       "      <td>2.521157</td>\n",
       "      <td>2.434578</td>\n",
       "      <td>2.142253</td>\n",
       "    </tr>\n",
       "    <tr>\n",
       "      <th>3368</th>\n",
       "      <td>HLA-B</td>\n",
       "      <td>1.967847</td>\n",
       "      <td>2.673597</td>\n",
       "      <td>2.807899</td>\n",
       "      <td>2.552474</td>\n",
       "      <td>2.472788</td>\n",
       "      <td>2.166302</td>\n",
       "    </tr>\n",
       "    <tr>\n",
       "      <th>7264</th>\n",
       "      <td>B2M</td>\n",
       "      <td>4.189476</td>\n",
       "      <td>4.438093</td>\n",
       "      <td>4.546697</td>\n",
       "      <td>4.348129</td>\n",
       "      <td>4.342992</td>\n",
       "      <td>4.125379</td>\n",
       "    </tr>\n",
       "  </tbody>\n",
       "</table>\n",
       "</div>"
      ],
      "text/plain": [
       "       gene    time_0    time_3    time_6    time_9   time_24   time_48\n",
       "3342  HLA-A  1.656812  2.370405  2.487690  2.090583  2.035615  1.793220\n",
       "3367  HLA-C  1.829254  2.479059  2.770877  2.521157  2.434578  2.142253\n",
       "3368  HLA-B  1.967847  2.673597  2.807899  2.552474  2.472788  2.166302\n",
       "7264    B2M  4.189476  4.438093  4.546697  4.348129  4.342992  4.125379"
      ]
     },
     "execution_count": 126,
     "metadata": {},
     "output_type": "execute_result"
    }
   ],
   "source": [
    "mean_df.query('gene.isin([\"HLA-A\", \"HLA-B\", \"HLA-C\", \"B2M\"])', engine='python')"
   ]
  },
  {
   "cell_type": "code",
   "execution_count": 130,
   "metadata": {},
   "outputs": [
    {
     "data": {
      "text/plain": [
       "[<matplotlib.lines.Line2D at 0x7fbf26586410>,\n",
       " <matplotlib.lines.Line2D at 0x7fbf26586490>,\n",
       " <matplotlib.lines.Line2D at 0x7fbf26586e90>,\n",
       " <matplotlib.lines.Line2D at 0x7fbf26587150>]"
      ]
     },
     "execution_count": 130,
     "metadata": {},
     "output_type": "execute_result"
    },
    {
     "data": {
      "image/png": "[encoded data removed]",
      "text/plain": [
       "<Figure size 432x288 with 1 Axes>"
      ]
     },
     "metadata": {
      "needs_background": "light"
     },
     "output_type": "display_data"
    }
   ],
   "source": [
    "plt.plot(var_df.query('gene.isin([\"HLA-A\", \"HLA-B\", \"HLA-C\", \"B2M\"])', engine='python').values[:, 1:].T)"
   ]
  },
  {
   "cell_type": "code",
   "execution_count": 133,
   "metadata": {},
   "outputs": [
    {
     "data": {
      "text/plain": [
       "[<matplotlib.lines.Line2D at 0x7fbf270518d0>,\n",
       " <matplotlib.lines.Line2D at 0x7fbf27051b50>,\n",
       " <matplotlib.lines.Line2D at 0x7fbf27051d10>,\n",
       " <matplotlib.lines.Line2D at 0x7fbf27051ed0>,\n",
       " <matplotlib.lines.Line2D at 0x7fbf270540d0>,\n",
       " <matplotlib.lines.Line2D at 0x7fbf27054290>,\n",
       " <matplotlib.lines.Line2D at 0x7fbf270544d0>]"
      ]
     },
     "execution_count": 133,
     "metadata": {},
     "output_type": "execute_result"
    },
    {
     "data": {
      "image/png": "[encoded data removed]",
      "text/plain": [
       "<Figure size 432x288 with 1 Axes>"
      ]
     },
     "metadata": {
      "needs_background": "light"
     },
     "output_type": "display_data"
    }
   ],
   "source": [
    "plt.plot(var_df.query('gene.isin(@isg_genes)', engine='python').values[:, 1:].T)"
   ]
  },
  {
   "cell_type": "code",
   "execution_count": 60,
   "metadata": {},
   "outputs": [],
   "source": [
    "beta_stim = adata[adata.obs['cell_type'].isin(ct) & adata.obs.stim.isin(['control', stim])].copy().copy()"
   ]
  },
  {
   "cell_type": "code",
   "execution_count": 61,
   "metadata": {},
   "outputs": [
    {
     "name": "stderr",
     "output_type": "stream",
     "text": [
      "/data/home/anaconda3/envs/single_cell/lib/python3.7/site-packages/numpy/core/_asarray.py:83: VisibleDeprecationWarning: Creating an ndarray from ragged nested sequences (which is a list-or-tuple of lists-or-tuples-or ndarrays with different lengths or shapes) is deprecated. If you meant to do this, you must specify 'dtype=object' when creating the ndarray\n",
      "  return array(a, dtype, copy=False, order=order)\n"
     ]
    },
    {
     "data": {
      "text/plain": [
       "([array([698.,   0.,   0.,  37.,   0.,   0.,   0.,   4.,   0.,   0.,   0.,\n",
       "           0.,   0.,   0.,   0.]),\n",
       "  array([757.,   0.,   0., 199.,   0.,   0.,   0.,  32.,   0.,   0.,   0.,\n",
       "           8.,   0.,   0.,   2.])],\n",
       " array([0.        , 0.26666668, 0.53333336, 0.8       , 1.0666667 ,\n",
       "        1.3333334 , 1.6       , 1.8666667 , 2.1333334 , 2.4       ,\n",
       "        2.6666667 , 2.9333334 , 3.2       , 3.4666667 , 3.7333333 ,\n",
       "        4.        ], dtype=float32),\n",
       " <a list of 2 Lists of Patches objects>)"
      ]
     },
     "execution_count": 61,
     "metadata": {},
     "output_type": "execute_result"
    },
    {
     "data": {
      "image/png": "[encoded data removed]",
      "text/plain": [
       "<Figure size 432x288 with 1 Axes>"
      ]
     },
     "metadata": {
      "needs_background": "light"
     },
     "output_type": "display_data"
    }
   ],
   "source": [
    "plt.hist([\n",
    "    beta_stim[beta_stim.obs.time == '0', :][:, 'NLRC5'].X.todense().A1, \n",
    "    beta_stim[beta_stim.obs.time == '3', :][:, 'NLRC5'].X.todense().A1],\n",
    "    bins=15)\n",
    "# plt.hist(adata[adata.obs.time == '3', :][:, 'NLRC5'].X.todense().A1, bins=15)"
   ]
  },
  {
   "cell_type": "code",
   "execution_count": 62,
   "metadata": {},
   "outputs": [
    {
     "data": {
      "text/html": [
       "<div>\n",
       "<style scoped>\n",
       "    .dataframe tbody tr th:only-of-type {\n",
       "        vertical-align: middle;\n",
       "    }\n",
       "\n",
       "    .dataframe tbody tr th {\n",
       "        vertical-align: top;\n",
       "    }\n",
       "\n",
       "    .dataframe thead th {\n",
       "        text-align: right;\n",
       "    }\n",
       "</style>\n",
       "<table border=\"1\" class=\"dataframe\">\n",
       "  <thead>\n",
       "    <tr style=\"text-align: right;\">\n",
       "      <th></th>\n",
       "      <th>gene</th>\n",
       "      <th>time_0</th>\n",
       "      <th>time_3</th>\n",
       "      <th>time_6</th>\n",
       "      <th>time_9</th>\n",
       "      <th>time_24</th>\n",
       "      <th>time_48</th>\n",
       "    </tr>\n",
       "  </thead>\n",
       "  <tbody>\n",
       "    <tr>\n",
       "      <th>7798</th>\n",
       "      <td>NLRC5</td>\n",
       "      <td>-2.844202</td>\n",
       "      <td>-1.290465</td>\n",
       "      <td>-0.997472</td>\n",
       "      <td>-0.961713</td>\n",
       "      <td>-0.956975</td>\n",
       "      <td>-0.941885</td>\n",
       "    </tr>\n",
       "  </tbody>\n",
       "</table>\n",
       "</div>"
      ],
      "text/plain": [
       "       gene    time_0    time_3    time_6    time_9   time_24   time_48\n",
       "7798  NLRC5 -2.844202 -1.290465 -0.997472 -0.961713 -0.956975 -0.941885"
      ]
     },
     "execution_count": 62,
     "metadata": {},
     "output_type": "execute_result"
    }
   ],
   "source": [
    "df.query('gene.isin([\"NLRC5\"])', engine='python')"
   ]
  },
  {
   "cell_type": "code",
   "execution_count": 63,
   "metadata": {},
   "outputs": [
    {
     "data": {
      "text/html": [
       "<div>\n",
       "<style scoped>\n",
       "    .dataframe tbody tr th:only-of-type {\n",
       "        vertical-align: middle;\n",
       "    }\n",
       "\n",
       "    .dataframe tbody tr th {\n",
       "        vertical-align: top;\n",
       "    }\n",
       "\n",
       "    .dataframe thead th {\n",
       "        text-align: right;\n",
       "    }\n",
       "</style>\n",
       "<table border=\"1\" class=\"dataframe\">\n",
       "  <thead>\n",
       "    <tr style=\"text-align: right;\">\n",
       "      <th></th>\n",
       "      <th>gene</th>\n",
       "      <th>time_0</th>\n",
       "      <th>time_3</th>\n",
       "      <th>time_6</th>\n",
       "      <th>time_9</th>\n",
       "      <th>time_24</th>\n",
       "      <th>time_48</th>\n",
       "    </tr>\n",
       "  </thead>\n",
       "  <tbody>\n",
       "    <tr>\n",
       "      <th>3342</th>\n",
       "      <td>HLA-A</td>\n",
       "      <td>1.656812</td>\n",
       "      <td>2.370405</td>\n",
       "      <td>2.487690</td>\n",
       "      <td>2.090583</td>\n",
       "      <td>2.035615</td>\n",
       "      <td>1.793220</td>\n",
       "    </tr>\n",
       "    <tr>\n",
       "      <th>3367</th>\n",
       "      <td>HLA-C</td>\n",
       "      <td>1.829254</td>\n",
       "      <td>2.479059</td>\n",
       "      <td>2.770877</td>\n",
       "      <td>2.521157</td>\n",
       "      <td>2.434578</td>\n",
       "      <td>2.142253</td>\n",
       "    </tr>\n",
       "    <tr>\n",
       "      <th>3368</th>\n",
       "      <td>HLA-B</td>\n",
       "      <td>1.967847</td>\n",
       "      <td>2.673597</td>\n",
       "      <td>2.807899</td>\n",
       "      <td>2.552474</td>\n",
       "      <td>2.472788</td>\n",
       "      <td>2.166302</td>\n",
       "    </tr>\n",
       "    <tr>\n",
       "      <th>7264</th>\n",
       "      <td>B2M</td>\n",
       "      <td>4.189476</td>\n",
       "      <td>4.438093</td>\n",
       "      <td>4.546697</td>\n",
       "      <td>4.348129</td>\n",
       "      <td>4.342992</td>\n",
       "      <td>4.125379</td>\n",
       "    </tr>\n",
       "  </tbody>\n",
       "</table>\n",
       "</div>"
      ],
      "text/plain": [
       "       gene    time_0    time_3    time_6    time_9   time_24   time_48\n",
       "3342  HLA-A  1.656812  2.370405  2.487690  2.090583  2.035615  1.793220\n",
       "3367  HLA-C  1.829254  2.479059  2.770877  2.521157  2.434578  2.142253\n",
       "3368  HLA-B  1.967847  2.673597  2.807899  2.552474  2.472788  2.166302\n",
       "7264    B2M  4.189476  4.438093  4.546697  4.348129  4.342992  4.125379"
      ]
     },
     "execution_count": 63,
     "metadata": {},
     "output_type": "execute_result"
    }
   ],
   "source": [
    "df.query('gene.isin([\"HLA-A\", \"HLA-B\", \"HLA-C\", \"B2M\"])', engine='python')"
   ]
  },
  {
   "cell_type": "code",
   "execution_count": null,
   "metadata": {},
   "outputs": [],
   "source": []
  }
 ],
 "metadata": {
  "kernelspec": {
   "display_name": "Python 3",
   "language": "python",
   "name": "python3"
  },
  "language_info": {
   "codemirror_mode": {
    "name": "ipython",
    "version": 3
   },
   "file_extension": ".py",
   "mimetype": "text/x-python",
   "name": "python",
   "nbconvert_exporter": "python",
   "pygments_lexer": "ipython3",
   "version": "3.7.5"
  }
 },
 "nbformat": 4,
 "nbformat_minor": 4
}
