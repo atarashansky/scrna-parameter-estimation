{
 "cells": [
  {
   "cell_type": "markdown",
   "metadata": {},
   "source": [
    "# 2D variability analysis for HBEC IFN experiment"
   ]
  },
  {
   "cell_type": "code",
   "execution_count": 1,
   "metadata": {},
   "outputs": [
    {
     "name": "stderr",
     "output_type": "stream",
     "text": [
      "\n",
      "Bad key \"text.kerning_factor\" on line 4 in\n",
      "/data/home/anaconda3/envs/single_cell/lib/python3.7/site-packages/matplotlib/mpl-data/stylelib/_classic_test_patch.mplstyle.\n",
      "You probably need to get an updated matplotlibrc file from\n",
      "https://github.com/matplotlib/matplotlib/blob/v3.1.3/matplotlibrc.template\n",
      "or from the matplotlib source distribution\n"
     ]
    }
   ],
   "source": [
    "import scanpy as sc\n",
    "import seaborn as sns\n",
    "import pandas as pd\n",
    "import matplotlib.pyplot as plt\n",
    "import numpy as np\n",
    "import scipy.stats as stats\n",
    "from pybedtools import BedTool\n",
    "import pickle as pkl\n",
    "import itertools\n",
    "%matplotlib inline"
   ]
  },
  {
   "cell_type": "code",
   "execution_count": 2,
   "metadata": {},
   "outputs": [],
   "source": [
    "import sys\n",
    "sys.path.append('/data/home/Github/scrna-parameter-estimation/dist/memento-0.0.5-py3.7.egg')\n",
    "sys.path.append('/data/home/Github/misc-seq/miscseq/')\n",
    "import encode\n",
    "import memento"
   ]
  },
  {
   "cell_type": "code",
   "execution_count": 3,
   "metadata": {},
   "outputs": [],
   "source": [
    "data_path = '/data_volume/ifn_hbec/'"
   ]
  },
  {
   "cell_type": "markdown",
   "metadata": {},
   "source": [
    "### Get the TFs"
   ]
  },
  {
   "cell_type": "code",
   "execution_count": 4,
   "metadata": {},
   "outputs": [],
   "source": [
    "tf_df = pd.read_csv('DatabaseExtract_v_1.01.csv', index_col=0)\n",
    "tf_df = tf_df[tf_df['TF assessment'] == 'Known motif']\n",
    "tfs = tf_df['HGNC symbol'].tolist()"
   ]
  },
  {
   "cell_type": "markdown",
   "metadata": {},
   "source": [
    "### Read the processed RNA data\n",
    "\n",
    "Focus on the club and bc/club cells and type I interferons for now.\n",
    "\n",
    "Encode the timestamps to integers."
   ]
  },
  {
   "cell_type": "raw",
   "metadata": {},
   "source": [
    "adata_processed = sc.read(data_path + 'HBEC_type_I_processed.h5ad')"
   ]
  },
  {
   "cell_type": "code",
   "execution_count": 6,
   "metadata": {},
   "outputs": [],
   "source": [
    "adata = sc.read(data_path + 'HBEC_type_I_filtered_counts.h5ad')"
   ]
  },
  {
   "cell_type": "code",
   "execution_count": 7,
   "metadata": {},
   "outputs": [],
   "source": [
    "adata = adata[:, ~adata.var.index.str.startswith('MT-')].copy()\n",
    "adata.obs['cell_type'] = adata.obs['cell_type'].apply(lambda x: x if x != 'basal/club' else 'bc')\n",
    "adata.obs['cell_type'] = adata.obs['cell_type'].apply(lambda x: x if x != 'ionocyte/tuft' else 'ion-tuft')"
   ]
  },
  {
   "cell_type": "raw",
   "metadata": {},
   "source": [
    "sc.pl.umap(adata_processed, color=['cell_type', 'time', 'stim'])"
   ]
  },
  {
   "cell_type": "code",
   "execution_count": 8,
   "metadata": {},
   "outputs": [
    {
     "data": {
      "text/plain": [
       "(69252, 36588)"
      ]
     },
     "execution_count": 8,
     "metadata": {},
     "output_type": "execute_result"
    }
   ],
   "source": [
    "adata.shape"
   ]
  },
  {
   "cell_type": "markdown",
   "metadata": {},
   "source": [
    "### Setup memento"
   ]
  },
  {
   "cell_type": "code",
   "execution_count": 9,
   "metadata": {},
   "outputs": [],
   "source": [
    "adata.obs['q'] = 0.25*0.2"
   ]
  },
  {
   "cell_type": "code",
   "execution_count": 10,
   "metadata": {},
   "outputs": [],
   "source": [
    "memento.setup_memento(adata, q_column='q')"
   ]
  },
  {
   "cell_type": "markdown",
   "metadata": {},
   "source": [
    "### Run memento for STAT1"
   ]
  },
  {
   "cell_type": "code",
   "execution_count": null,
   "metadata": {},
   "outputs": [],
   "source": []
  },
  {
   "cell_type": "code",
   "execution_count": 70,
   "metadata": {},
   "outputs": [],
   "source": [
    "tf = 'STAT1'\n",
    "ct = ['ciliated']\n",
    "stim = 'beta'\n",
    "\n",
    "def get_2d_moments(tf, ct, stim):\n",
    "    \n",
    "    adata_stim = adata.copy()[\n",
    "        adata.obs.cell_type.isin(ct) & \\\n",
    "        adata.obs.stim.isin(['control', stim])].copy()\n",
    "    # time_converter={0:0, int(tp):1}\n",
    "    # adata_stim.obs['time_step'] = adata_stim.obs['time'].astype(int).apply(lambda x: time_converter[x])\n",
    "\n",
    "    memento.create_groups(adata_stim, label_columns=['time', 'donor'])\n",
    "    memento.compute_1d_moments(adata_stim, min_perc_group=.9)\n",
    "    moment_1d_df = memento.get_1d_moments(adata_stim, groupby='time')\n",
    "\n",
    "    memento.compute_2d_moments(adata_stim, list(itertools.product([tf], adata_stim.var.index)))\n",
    "\n",
    "    moment_df = memento.get_2d_moments(adata_stim, groupby='time')\n",
    "    \n",
    "    return moment_df\n"
   ]
  },
  {
   "cell_type": "code",
   "execution_count": 90,
   "metadata": {},
   "outputs": [
    {
     "name": "stderr",
     "output_type": "stream",
     "text": [
      "/data/home/Github/scrna-parameter-estimation/dist/memento-0.0.5-py3.7.egg/memento/estimator.py:100: RuntimeWarning: invalid value encountered in log\n",
      "/data/home/Github/scrna-parameter-estimation/dist/memento-0.0.5-py3.7.egg/memento/memento.py:539: RuntimeWarning: invalid value encountered in true_divide\n",
      "  groupby_corr[key] /= groupby_corr_count[key]\n",
      "/data/home/anaconda3/envs/single_cell/lib/python3.7/site-packages/ipykernel_launcher.py:5: FutureWarning: Sorting because non-concatenation axis is not aligned. A future version\n",
      "of pandas will change to not sort by default.\n",
      "\n",
      "To accept the future behavior, pass 'sort=False'.\n",
      "\n",
      "To retain the current behavior and silence the warning, pass 'sort=True'.\n",
      "\n",
      "  \"\"\"\n"
     ]
    }
   ],
   "source": [
    "beta_df = get_2d_moments('STAT1', ['ciliated'], 'beta')\n",
    "alpha_df = get_2d_moments('STAT1', ['ciliated'], 'alpha')\n",
    "beta_df['stim'] = 'beta'\n",
    "alpha_df['stim'] = 'alpha'\n",
    "df = pd.concat([alpha_df, beta_df])"
   ]
  },
  {
   "cell_type": "code",
   "execution_count": 91,
   "metadata": {},
   "outputs": [
    {
     "data": {
      "text/html": [
       "<div>\n",
       "<style scoped>\n",
       "    .dataframe tbody tr th:only-of-type {\n",
       "        vertical-align: middle;\n",
       "    }\n",
       "\n",
       "    .dataframe tbody tr th {\n",
       "        vertical-align: top;\n",
       "    }\n",
       "\n",
       "    .dataframe thead th {\n",
       "        text-align: right;\n",
       "    }\n",
       "</style>\n",
       "<table border=\"1\" class=\"dataframe\">\n",
       "  <thead>\n",
       "    <tr style=\"text-align: right;\">\n",
       "      <th></th>\n",
       "      <th>gene_1</th>\n",
       "      <th>gene_2</th>\n",
       "      <th>stim</th>\n",
       "      <th>time_0</th>\n",
       "      <th>time_24</th>\n",
       "      <th>time_3</th>\n",
       "      <th>time_48</th>\n",
       "      <th>time_6</th>\n",
       "      <th>time_9</th>\n",
       "    </tr>\n",
       "  </thead>\n",
       "  <tbody>\n",
       "    <tr>\n",
       "      <th>0</th>\n",
       "      <td>STAT1</td>\n",
       "      <td>HES4</td>\n",
       "      <td>alpha</td>\n",
       "      <td>-0.015643</td>\n",
       "      <td>0.553489</td>\n",
       "      <td>0.359269</td>\n",
       "      <td>0.411724</td>\n",
       "      <td>0.369215</td>\n",
       "      <td>0.457846</td>\n",
       "    </tr>\n",
       "    <tr>\n",
       "      <th>1</th>\n",
       "      <td>STAT1</td>\n",
       "      <td>ISG15</td>\n",
       "      <td>alpha</td>\n",
       "      <td>0.749280</td>\n",
       "      <td>0.719570</td>\n",
       "      <td>0.700183</td>\n",
       "      <td>0.686181</td>\n",
       "      <td>0.629452</td>\n",
       "      <td>0.772733</td>\n",
       "    </tr>\n",
       "    <tr>\n",
       "      <th>2</th>\n",
       "      <td>STAT1</td>\n",
       "      <td>AGRN</td>\n",
       "      <td>alpha</td>\n",
       "      <td>0.297324</td>\n",
       "      <td>0.240040</td>\n",
       "      <td>0.242437</td>\n",
       "      <td>0.226316</td>\n",
       "      <td>0.200600</td>\n",
       "      <td>0.427879</td>\n",
       "    </tr>\n",
       "    <tr>\n",
       "      <th>3</th>\n",
       "      <td>STAT1</td>\n",
       "      <td>TTLL10</td>\n",
       "      <td>alpha</td>\n",
       "      <td>-0.010950</td>\n",
       "      <td>0.059579</td>\n",
       "      <td>0.151739</td>\n",
       "      <td>0.077873</td>\n",
       "      <td>0.192978</td>\n",
       "      <td>0.053136</td>\n",
       "    </tr>\n",
       "    <tr>\n",
       "      <th>4</th>\n",
       "      <td>STAT1</td>\n",
       "      <td>AURKAIP1</td>\n",
       "      <td>alpha</td>\n",
       "      <td>0.156792</td>\n",
       "      <td>0.155731</td>\n",
       "      <td>0.327169</td>\n",
       "      <td>0.148588</td>\n",
       "      <td>0.422890</td>\n",
       "      <td>0.263384</td>\n",
       "    </tr>\n",
       "  </tbody>\n",
       "</table>\n",
       "</div>"
      ],
      "text/plain": [
       "  gene_1    gene_2   stim    time_0   time_24    time_3   time_48    time_6  \\\n",
       "0  STAT1      HES4  alpha -0.015643  0.553489  0.359269  0.411724  0.369215   \n",
       "1  STAT1     ISG15  alpha  0.749280  0.719570  0.700183  0.686181  0.629452   \n",
       "2  STAT1      AGRN  alpha  0.297324  0.240040  0.242437  0.226316  0.200600   \n",
       "3  STAT1    TTLL10  alpha -0.010950  0.059579  0.151739  0.077873  0.192978   \n",
       "4  STAT1  AURKAIP1  alpha  0.156792  0.155731  0.327169  0.148588  0.422890   \n",
       "\n",
       "     time_9  \n",
       "0  0.457846  \n",
       "1  0.772733  \n",
       "2  0.427879  \n",
       "3  0.053136  \n",
       "4  0.263384  "
      ]
     },
     "execution_count": 91,
     "metadata": {},
     "output_type": "execute_result"
    }
   ],
   "source": [
    "df.head(5)"
   ]
  },
  {
   "cell_type": "code",
   "execution_count": 92,
   "metadata": {},
   "outputs": [],
   "source": [
    "longform = pd.melt(df.drop(['gene_1', 'gene_2'], axis=1)[['stim']+['time_' + i for i in ['0', '3', '6', '9', '24', '48']]], id_vars=['stim'])"
   ]
  },
  {
   "cell_type": "code",
   "execution_count": 93,
   "metadata": {},
   "outputs": [
    {
     "data": {
      "text/plain": [
       "Text(0, 0.5, 'Correlation w/ STAT1')"
      ]
     },
     "execution_count": 93,
     "metadata": {},
     "output_type": "execute_result"
    },
    {
     "data": {
      "image/png": "[encoded data removed]",
      "text/plain": [
       "<Figure size 432x288 with 1 Axes>"
      ]
     },
     "metadata": {
      "needs_background": "light"
     },
     "output_type": "display_data"
    }
   ],
   "source": [
    "sns.violinplot(x='variable', y='value', hue='stim', data=longform, split=True)\n",
    "plt.xlabel(''); plt.ylabel('Correlation w/ STAT1')"
   ]
  },
  {
   "cell_type": "code",
   "execution_count": 111,
   "metadata": {},
   "outputs": [
    {
     "data": {
      "text/plain": [
       "(-0.75, 1)"
      ]
     },
     "execution_count": 111,
     "metadata": {},
     "output_type": "execute_result"
    },
    {
     "data": {
      "image/png": "[encoded data removed]",
      "text/plain": [
       "<Figure size 216x144 with 1 Axes>"
      ]
     },
     "metadata": {
      "needs_background": "light"
     },
     "output_type": "display_data"
    }
   ],
   "source": [
    "plt.figure(figsize=(3, 2))\n",
    "for tp in ['0', '3', '6', '9', '24', '48']:#['0', '3', '6', '9', '24', '48']:\n",
    "    sns.distplot(alpha_df['time_' + tp], hist=False, label=tp)\n",
    "plt.legend([], frameon=False)\n",
    "plt.xlabel('Correlation with STAT1')\n",
    "plt.xlim(-0.75, 1)"
   ]
  },
  {
   "cell_type": "code",
   "execution_count": null,
   "metadata": {},
   "outputs": [],
   "source": []
  },
  {
   "cell_type": "code",
   "execution_count": null,
   "metadata": {},
   "outputs": [],
   "source": [
    "tf = 'STAT1'\n",
    "for ct in cts:\n",
    "    for tp in tps:\n",
    "        for stim in stims:\n",
    "                            \n",
    "            print('starting', ct, tp, stim)\n",
    "\n",
    "            adata_stim = adata.copy()[\n",
    "                adata.obs.cell_type.isin(ct) & \\\n",
    "                adata.obs.stim.isin(['control', stim]) & \\\n",
    "                adata.obs.time.isin(['0',tp]), :].copy()\n",
    "            time_converter={0:0, int(tp):1}\n",
    "            adata_stim.obs['time_step'] = adata_stim.obs['time'].astype(int).apply(lambda x: time_converter[x])\n",
    "\n",
    "            memento.create_groups(adata_stim, label_columns=['time_step', 'donor'])\n",
    "            memento.compute_1d_moments(adata_stim, min_perc_group=.9)\n",
    "            memento.compute_2d_moments(adata_stim, list(itertools.product([tf], adata_stim.var.index)))\n",
    "\n",
    "            moment_df = memento.get_2d_moments(adata_stim, groupby='time_step')\n",
    "            moment_df.to_csv('/data_volume/ifn_hbec/coex_test/moments_{}_{}_{}_{}.csv'.format('-'.join(ct), stim, tp, tf), index=False)\n",
    "            gene_list = moment_df[(moment_df['time_step_0'] > 0.35) | (moment_df['time_step_1'] > 0.35)].gene_2.tolist()\n",
    "\n",
    "            if len(gene_list) < 10:\n",
    "                continue\n",
    "\n",
    "            memento.compute_2d_moments(adata_stim, list(itertools.product([tf], gene_list)))\n",
    "\n",
    "            memento.ht_2d_moments(\n",
    "                adata_stim, \n",
    "                formula_like='1 + time_step',\n",
    "                cov_column='time_step', \n",
    "                num_boot=10000, \n",
    "                verbose=1,\n",
    "                num_cpus=13)\n",
    "\n",
    "            if 'mv_regressor' in adata_stim.uns['memento']:\n",
    "                del adata_stim.uns['memento']['mv_regressor']\n",
    "            adata_stim.write('/data_volume/ifn_hbec/tf_test/{}_{}_{}_{}.h5ad'.format('-'.join(ct), stim, tp, tf))"
   ]
  },
  {
   "cell_type": "markdown",
   "metadata": {},
   "source": [
    "### Run memento for each subset, comparing to control"
   ]
  },
  {
   "cell_type": "code",
   "execution_count": 35,
   "metadata": {},
   "outputs": [],
   "source": [
    "cts = [['ciliated'], ['bc', 'club'], ['basal']]\n",
    "tps = ['3', '6', '9', '24', '48']\n",
    "stims = ['alpha', 'beta', 'gamma', 'lambda']"
   ]
  },
  {
   "cell_type": "code",
   "execution_count": 36,
   "metadata": {},
   "outputs": [],
   "source": [
    "condensed_tfs = []\n",
    "for tf in tfs:\n",
    "    if 'STAT' in tf:\n",
    "        condensed_tfs.append(tf)\n",
    "    elif 'IRF' in tf:\n",
    "        condensed_tfs.append(tf)\n",
    "    elif 'NFKB' in tf:\n",
    "        condensed_tfs.append(tf)\n",
    "    elif 'JUN' in tf:\n",
    "        condensed_tfs.append(tf)\n",
    "    elif 'MYC' in tf:\n",
    "        condensed_tfs.append(tf)\n",
    "    elif 'FOS' in tf:\n",
    "        condensed_tfs.append(tf)\n",
    "    else:\n",
    "        continue"
   ]
  },
  {
   "cell_type": "code",
   "execution_count": null,
   "metadata": {},
   "outputs": [],
   "source": [
    "for ct in cts:\n",
    "    for tp in tps:\n",
    "        for stim in stims:\n",
    "                            \n",
    "            print('starting', ct, tp, stim)\n",
    "\n",
    "            adata_stim = adata.copy()[\n",
    "                adata.obs.cell_type.isin(ct) & \\\n",
    "                adata.obs.stim.isin(['control', stim]) & \\\n",
    "                adata.obs.time.isin(['0',tp]), :].copy()\n",
    "            time_converter={0:0, int(tp):1}\n",
    "            adata_stim.obs['time_step'] = adata_stim.obs['time'].astype(int).apply(lambda x: time_converter[x])\n",
    "\n",
    "            memento.create_groups(adata_stim, label_columns=['time_step', 'donor'])\n",
    "            memento.compute_1d_moments(adata_stim, min_perc_group=.9)\n",
    "\n",
    "            relevant_tfs = list(set(condensed_tfs) & set(adata_stim.var.index))\n",
    "            \n",
    "            for tf in relevant_tfs:\n",
    "                memento.compute_2d_moments(adata_stim, list(itertools.product([tf], adata_stim.var.index)))\n",
    "                \n",
    "                moment_df = memento.get_2d_moments(adata_stim, groupby='time_step')\n",
    "                moment_df.to_csv('/data_volume/ifn_hbec/coex_test/moments_{}_{}_{}_{}.csv'.format('-'.join(ct), stim, tp, tf), index=False)\n",
    "                gene_list = moment_df[(moment_df['time_step_0'] > 0.35) | (moment_df['time_step_1'] > 0.35)].gene_2.tolist()\n",
    "                \n",
    "                if len(gene_list) < 10:\n",
    "                    continue\n",
    "                    \n",
    "                memento.compute_2d_moments(adata_stim, list(itertools.product([tf], gene_list)))\n",
    "\n",
    "                memento.ht_2d_moments(\n",
    "                    adata_stim, \n",
    "                    formula_like='1 + time_step',\n",
    "                    cov_column='time_step', \n",
    "                    num_boot=10000, \n",
    "                    verbose=1,\n",
    "                    num_cpus=13)\n",
    "\n",
    "                if 'mv_regressor' in adata_stim.uns['memento']:\n",
    "                    del adata_stim.uns['memento']['mv_regressor']\n",
    "                adata_stim.write('/data_volume/ifn_hbec/coex_test/{}_{}_{}_{}.h5ad'.format('-'.join(ct), stim, tp, tf))"
   ]
  }
 ],
 "metadata": {
  "kernelspec": {
   "display_name": "Python 3",
   "language": "python",
   "name": "python3"
  },
  "language_info": {
   "codemirror_mode": {
    "name": "ipython",
    "version": 3
   },
   "file_extension": ".py",
   "mimetype": "text/x-python",
   "name": "python",
   "nbconvert_exporter": "python",
   "pygments_lexer": "ipython3",
   "version": "3.7.5"
  }
 },
 "nbformat": 4,
 "nbformat_minor": 4
}
