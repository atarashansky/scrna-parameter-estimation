{
 "cells": [
  {
   "cell_type": "markdown",
   "metadata": {},
   "source": [
    "### CD4 Cropseq Dataset Analysis"
   ]
  },
  {
   "cell_type": "code",
   "execution_count": 2,
   "metadata": {},
   "outputs": [],
   "source": [
    "import pandas as pd\n",
    "import matplotlib.pyplot as plt\n",
    "import scanpy.api as sc\n",
    "import scipy as sp\n",
    "import itertools\n",
    "import numpy as np\n",
    "import scipy.stats as stats\n",
    "from scipy.integrate import dblquad\n",
    "import seaborn as sns\n",
    "from statsmodels.stats.multitest import fdrcorrection\n",
    "import imp\n",
    "pd.options.display.max_rows = 999\n",
    "pd.set_option('display.max_colwidth', -1)\n",
    "import pickle as pkl\n",
    "import time"
   ]
  },
  {
   "cell_type": "code",
   "execution_count": 13,
   "metadata": {},
   "outputs": [],
   "source": [
    "import sys\n",
    "sys.path.append('/wynton/group/ye/mincheol/Github/scrna-parameter-estimation/simplesc')\n",
    "import scme, utils"
   ]
  },
  {
   "cell_type": "code",
   "execution_count": 3,
   "metadata": {},
   "outputs": [],
   "source": [
    "data_path = '/wynton/group/ye/mincheol/parameter_estimation/'"
   ]
  },
  {
   "cell_type": "code",
   "execution_count": 4,
   "metadata": {},
   "outputs": [],
   "source": [
    "with open(data_path + 'interferon_data/immune_genes.pkl', 'rb') as f:\n",
    "    immune_genes = pkl.load(f)"
   ]
  },
  {
   "cell_type": "code",
   "execution_count": 7,
   "metadata": {},
   "outputs": [],
   "source": [
    "with open(data_path + 'cd4_cropseq_data/genes_to_test.pkl', 'rb') as f:\n",
    "    genes_to_test = pkl.load(f)"
   ]
  },
  {
   "cell_type": "code",
   "execution_count": 19,
   "metadata": {},
   "outputs": [
    {
     "data": {
      "text/plain": [
       "['FOXP1',\n",
       " 'STAT6',\n",
       " 'JUN',\n",
       " 'NCOA4',\n",
       " 'STAT3',\n",
       " 'NCOA3',\n",
       " 'JUNB',\n",
       " 'IRF4',\n",
       " 'STAT1',\n",
       " 'BATF',\n",
       " 'IRF8',\n",
       " 'IFI16',\n",
       " 'IRF2',\n",
       " 'ETS1',\n",
       " 'IRF1',\n",
       " 'STAT5A',\n",
       " 'SATB1']"
      ]
     },
     "execution_count": 19,
     "metadata": {},
     "output_type": "execute_result"
    }
   ],
   "source": [
    "genes_to_test"
   ]
  },
  {
   "cell_type": "markdown",
   "metadata": {},
   "source": [
    "### Read the AnnData object"
   ]
  },
  {
   "cell_type": "code",
   "execution_count": 10,
   "metadata": {},
   "outputs": [],
   "source": [
    "adata = sc.read(data_path + 'cd4_cropseq_data/guide_singlets.h5ad')"
   ]
  },
  {
   "cell_type": "markdown",
   "metadata": {},
   "source": [
    "### For each group, compare the KO gene with the downstream genes"
   ]
  },
  {
   "cell_type": "code",
   "execution_count": 23,
   "metadata": {},
   "outputs": [],
   "source": [
    "test_guides = ['WT', 'FUBP1.77964146', 'ZNF706.101201657']\n",
    "adata = adata[adata.obs.group.isin(test_guides)]"
   ]
  },
  {
   "cell_type": "code",
   "execution_count": 24,
   "metadata": {},
   "outputs": [
    {
     "data": {
      "text/plain": [
       "(10466, 562)"
      ]
     },
     "execution_count": 24,
     "metadata": {},
     "output_type": "execute_result"
    }
   ],
   "source": [
    "adata.shape"
   ]
  },
  {
   "cell_type": "code",
   "execution_count": 25,
   "metadata": {},
   "outputs": [],
   "source": [
    "estimator = scme.SingleCellEstimator(\n",
    "    adata=adata, \n",
    "    group_label='group',\n",
    "    n_umis_column='n_counts',\n",
    "    num_permute=10000,\n",
    "    beta=0.1)"
   ]
  },
  {
   "cell_type": "code",
   "execution_count": 26,
   "metadata": {},
   "outputs": [
    {
     "name": "stdout",
     "output_type": "stream",
     "text": [
      "Computing observed moments for: ZNF706.101201657\n",
      "Computing observed moments for: WT\n",
      "Computing observed moments for: FUBP1.77964146\n"
     ]
    },
    {
     "name": "stderr",
     "output_type": "stream",
     "text": [
      "/wynton/group/ye/mincheol/Github/scrna-parameter-estimation/simplesc/scme.py:245: RuntimeWarning: invalid value encountered in true_divide\n",
      "  (y/x**2 - 1/x)[y > x],\n",
      "/wynton/group/ye/mincheol/Github/scrna-parameter-estimation/simplesc/scme.py:245: RuntimeWarning: divide by zero encountered in true_divide\n",
      "  (y/x**2 - 1/x)[y > x],\n",
      "/wynton/group/ye/mincheol/Github/scrna-parameter-estimation/simplesc/scme.py:250: RuntimeWarning: invalid value encountered in true_divide\n",
      "  self.all_group_obs_cv_sq = y/x**2\n"
     ]
    }
   ],
   "source": [
    "estimator.estimate_beta_sq(tolerance=3)"
   ]
  },
  {
   "cell_type": "code",
   "execution_count": 28,
   "metadata": {},
   "outputs": [],
   "source": [
    "%matplotlib inline"
   ]
  },
  {
   "cell_type": "code",
   "execution_count": 29,
   "metadata": {},
   "outputs": [
    {
     "data": {
      "image/png": "[encoded data removed]",
      "text/plain": [
       "<Figure size 396x360 with 1 Axes>"
      ]
     },
     "metadata": {
      "needs_background": "light"
     },
     "output_type": "display_data"
    }
   ],
   "source": [
    "estimator.plot_cv_mean_curve()"
   ]
  },
  {
   "cell_type": "code",
   "execution_count": null,
   "metadata": {},
   "outputs": [],
   "source": []
  },
  {
   "cell_type": "code",
   "execution_count": null,
   "metadata": {},
   "outputs": [],
   "source": [
    "for group in adata.groups.drop_duplicates()[:2]:\n",
    "    group"
   ]
  },
  {
   "cell_type": "code",
   "execution_count": 22,
   "metadata": {},
   "outputs": [
    {
     "data": {
      "text/plain": [
       "['WT', 'FUBP1.77964146', 'ZNF706.101201657', 'RFX2.6026185', 'VDR.47855738']"
      ]
     },
     "execution_count": 22,
     "metadata": {},
     "output_type": "execute_result"
    }
   ],
   "source": [
    "['WT', 'FUBP1.77964146', 'ZNF706.101201657', 'RFX2.6026185', 'VDR.47855738']"
   ]
  },
  {
   "cell_type": "code",
   "execution_count": 21,
   "metadata": {},
   "outputs": [
    {
     "data": {
      "text/plain": [
       "CategoricalIndex(['WT', 'FUBP1.77964146', 'ZNF706.101201657', 'RFX2.6026185',\n",
       "                  'VDR.47855738'],\n",
       "                 categories=['ARID5A.96550280', 'ARID5A.96551631', 'ARID5B.61902410', 'ARID5B.62050979', 'ASCC1.72196949', 'ASCC1.72210803', 'ATF3.212615059', 'ATF3.212615192', ...], ordered=False, dtype='category')"
      ]
     },
     "execution_count": 21,
     "metadata": {},
     "output_type": "execute_result"
    }
   ],
   "source": [
    "adata.obs.group.value_counts().index[:5]"
   ]
  },
  {
   "cell_type": "code",
   "execution_count": 11,
   "metadata": {},
   "outputs": [
    {
     "data": {
      "text/html": [
       "<div>\n",
       "<style scoped>\n",
       "    .dataframe tbody tr th:only-of-type {\n",
       "        vertical-align: middle;\n",
       "    }\n",
       "\n",
       "    .dataframe tbody tr th {\n",
       "        vertical-align: top;\n",
       "    }\n",
       "\n",
       "    .dataframe thead th {\n",
       "        text-align: right;\n",
       "    }\n",
       "</style>\n",
       "<table border=\"1\" class=\"dataframe\">\n",
       "  <thead>\n",
       "    <tr style=\"text-align: right;\">\n",
       "      <th></th>\n",
       "      <th>concat_index</th>\n",
       "      <th>donor</th>\n",
       "      <th>multiplet</th>\n",
       "      <th>well</th>\n",
       "      <th>guide1_cov</th>\n",
       "      <th>guide2_cov</th>\n",
       "      <th>guide3_cov</th>\n",
       "      <th>guide4_cov</th>\n",
       "      <th>guide1_ce_cov</th>\n",
       "      <th>guide2_ce_cov</th>\n",
       "      <th>guide3_ce_cov</th>\n",
       "      <th>guide4_ce_cov</th>\n",
       "      <th>guide_multiplet_cov</th>\n",
       "      <th>group</th>\n",
       "      <th>n_counts</th>\n",
       "    </tr>\n",
       "    <tr>\n",
       "      <th>index</th>\n",
       "      <th></th>\n",
       "      <th></th>\n",
       "      <th></th>\n",
       "      <th></th>\n",
       "      <th></th>\n",
       "      <th></th>\n",
       "      <th></th>\n",
       "      <th></th>\n",
       "      <th></th>\n",
       "      <th></th>\n",
       "      <th></th>\n",
       "      <th></th>\n",
       "      <th></th>\n",
       "      <th></th>\n",
       "      <th></th>\n",
       "    </tr>\n",
       "  </thead>\n",
       "  <tbody>\n",
       "    <tr>\n",
       "      <th>CTTTGCGGTCAACATC-8</th>\n",
       "      <td>0</td>\n",
       "      <td>IGTB1982</td>\n",
       "      <td>SNG</td>\n",
       "      <td>8</td>\n",
       "      <td>RC3H1.173961818.CTGGATTCTGGTACATACGA</td>\n",
       "      <td>nan</td>\n",
       "      <td>nan</td>\n",
       "      <td>nan</td>\n",
       "      <td>0.154435</td>\n",
       "      <td>NaN</td>\n",
       "      <td>NaN</td>\n",
       "      <td>NaN</td>\n",
       "      <td>1</td>\n",
       "      <td>RC3H1.173961818</td>\n",
       "      <td>3027</td>\n",
       "    </tr>\n",
       "    <tr>\n",
       "      <th>TGGCGCAAGGATGCGT-6</th>\n",
       "      <td>0</td>\n",
       "      <td>IGTB1762</td>\n",
       "      <td>SNG</td>\n",
       "      <td>6</td>\n",
       "      <td>MAFK.1540041.CCTGCGGGGTCTCACCAAGG</td>\n",
       "      <td>nan</td>\n",
       "      <td>nan</td>\n",
       "      <td>nan</td>\n",
       "      <td>0.005697</td>\n",
       "      <td>NaN</td>\n",
       "      <td>NaN</td>\n",
       "      <td>NaN</td>\n",
       "      <td>1</td>\n",
       "      <td>MAFK.1540041</td>\n",
       "      <td>6495</td>\n",
       "    </tr>\n",
       "    <tr>\n",
       "      <th>CGAGCACGTAGAGCTG-7</th>\n",
       "      <td>0</td>\n",
       "      <td>IGTB2065</td>\n",
       "      <td>SNG</td>\n",
       "      <td>7</td>\n",
       "      <td>SRA1.140551987.AGACTGCCGTGGCCACACAA</td>\n",
       "      <td>nan</td>\n",
       "      <td>nan</td>\n",
       "      <td>nan</td>\n",
       "      <td>0.109404</td>\n",
       "      <td>NaN</td>\n",
       "      <td>NaN</td>\n",
       "      <td>NaN</td>\n",
       "      <td>1</td>\n",
       "      <td>SRA1.140551987</td>\n",
       "      <td>4386</td>\n",
       "    </tr>\n",
       "    <tr>\n",
       "      <th>TGCCCATAGAGTGACC-10</th>\n",
       "      <td>0</td>\n",
       "      <td>IGTB1762</td>\n",
       "      <td>SNG</td>\n",
       "      <td>10</td>\n",
       "      <td>ZNF706.101201657.GAAACAAGGACATGACCAAA</td>\n",
       "      <td>nan</td>\n",
       "      <td>nan</td>\n",
       "      <td>nan</td>\n",
       "      <td>0.146234</td>\n",
       "      <td>NaN</td>\n",
       "      <td>NaN</td>\n",
       "      <td>NaN</td>\n",
       "      <td>1</td>\n",
       "      <td>ZNF706.101201657</td>\n",
       "      <td>5517</td>\n",
       "    </tr>\n",
       "    <tr>\n",
       "      <th>TGGACGCAGAACAATC-7</th>\n",
       "      <td>0</td>\n",
       "      <td>IGTB884</td>\n",
       "      <td>SNG</td>\n",
       "      <td>7</td>\n",
       "      <td>TFB2M.246556688.GTTGGAATGTTCCCAAGTAG</td>\n",
       "      <td>nan</td>\n",
       "      <td>nan</td>\n",
       "      <td>nan</td>\n",
       "      <td>0.119784</td>\n",
       "      <td>NaN</td>\n",
       "      <td>NaN</td>\n",
       "      <td>NaN</td>\n",
       "      <td>1</td>\n",
       "      <td>TFB2M.246556688</td>\n",
       "      <td>7523</td>\n",
       "    </tr>\n",
       "  </tbody>\n",
       "</table>\n",
       "</div>"
      ],
      "text/plain": [
       "                    concat_index     donor multiplet  well  \\\n",
       "index                                                        \n",
       "CTTTGCGGTCAACATC-8   0            IGTB1982  SNG       8      \n",
       "TGGCGCAAGGATGCGT-6   0            IGTB1762  SNG       6      \n",
       "CGAGCACGTAGAGCTG-7   0            IGTB2065  SNG       7      \n",
       "TGCCCATAGAGTGACC-10  0            IGTB1762  SNG       10     \n",
       "TGGACGCAGAACAATC-7   0            IGTB884   SNG       7      \n",
       "\n",
       "                                                guide1_cov guide2_cov  \\\n",
       "index                                                                   \n",
       "CTTTGCGGTCAACATC-8   RC3H1.173961818.CTGGATTCTGGTACATACGA   nan         \n",
       "TGGCGCAAGGATGCGT-6   MAFK.1540041.CCTGCGGGGTCTCACCAAGG      nan         \n",
       "CGAGCACGTAGAGCTG-7   SRA1.140551987.AGACTGCCGTGGCCACACAA    nan         \n",
       "TGCCCATAGAGTGACC-10  ZNF706.101201657.GAAACAAGGACATGACCAAA  nan         \n",
       "TGGACGCAGAACAATC-7   TFB2M.246556688.GTTGGAATGTTCCCAAGTAG   nan         \n",
       "\n",
       "                    guide3_cov guide4_cov  guide1_ce_cov  guide2_ce_cov  \\\n",
       "index                                                                     \n",
       "CTTTGCGGTCAACATC-8   nan        nan        0.154435      NaN              \n",
       "TGGCGCAAGGATGCGT-6   nan        nan        0.005697      NaN              \n",
       "CGAGCACGTAGAGCTG-7   nan        nan        0.109404      NaN              \n",
       "TGCCCATAGAGTGACC-10  nan        nan        0.146234      NaN              \n",
       "TGGACGCAGAACAATC-7   nan        nan        0.119784      NaN              \n",
       "\n",
       "                     guide3_ce_cov  guide4_ce_cov  guide_multiplet_cov  \\\n",
       "index                                                                    \n",
       "CTTTGCGGTCAACATC-8  NaN            NaN             1                     \n",
       "TGGCGCAAGGATGCGT-6  NaN            NaN             1                     \n",
       "CGAGCACGTAGAGCTG-7  NaN            NaN             1                     \n",
       "TGCCCATAGAGTGACC-10 NaN            NaN             1                     \n",
       "TGGACGCAGAACAATC-7  NaN            NaN             1                     \n",
       "\n",
       "                                group  n_counts  \n",
       "index                                            \n",
       "CTTTGCGGTCAACATC-8   RC3H1.173961818   3027      \n",
       "TGGCGCAAGGATGCGT-6   MAFK.1540041      6495      \n",
       "CGAGCACGTAGAGCTG-7   SRA1.140551987    4386      \n",
       "TGCCCATAGAGTGACC-10  ZNF706.101201657  5517      \n",
       "TGGACGCAGAACAATC-7   TFB2M.246556688   7523      "
      ]
     },
     "execution_count": 11,
     "metadata": {},
     "output_type": "execute_result"
    }
   ],
   "source": [
    "adata.obs.head(5)"
   ]
  },
  {
   "cell_type": "markdown",
   "metadata": {},
   "source": [
    "### Select relevant cells and save the AnnData object"
   ]
  },
  {
   "cell_type": "code",
   "execution_count": 3,
   "metadata": {},
   "outputs": [
    {
     "name": "stdout",
     "output_type": "stream",
     "text": [
      "WARNING: Your filename has more than two extensions: ['.sng', '.guides', '.h5ad'].\n",
      "Only considering the two last: ['.guides', '.h5ad'].\n",
      "WARNING: Your filename has more than two extensions: ['.sng', '.guides', '.h5ad'].\n",
      "Only considering the two last: ['.guides', '.h5ad'].\n"
     ]
    }
   ],
   "source": [
    "adata = sc.read('/wynton/group/ye/rgate/072319_tfko_140_seq/tfko.sng.guides.h5ad')"
   ]
  },
  {
   "cell_type": "code",
   "execution_count": 30,
   "metadata": {},
   "outputs": [],
   "source": [
    "df = pd.read_csv(\n",
    "    '/wynton/group/ye/rgate/072319_tfko_140_seq/tfko.sng.guides.combat.n50.res1.meta.txt', \n",
    "    sep='\\t',\n",
    "    index_col=0)"
   ]
  },
  {
   "cell_type": "code",
   "execution_count": 31,
   "metadata": {},
   "outputs": [],
   "source": [
    "df_singlet = df.query('guide_multiplet_cov == \"1\"').copy()"
   ]
  },
  {
   "cell_type": "code",
   "execution_count": 32,
   "metadata": {},
   "outputs": [],
   "source": [
    "df_singlet['group'] = df_singlet.apply(lambda row: '.'.join(row['guide1_cov'].split('.')[:-1]) if row['WT'] == 'F' else 'WT', axis=1)"
   ]
  },
  {
   "cell_type": "code",
   "execution_count": 34,
   "metadata": {},
   "outputs": [],
   "source": [
    "adata_singlets = adata[df_singlet.index].copy()\n",
    "adata_singlets.obs['group'] = df_singlet['group']"
   ]
  },
  {
   "cell_type": "code",
   "execution_count": 47,
   "metadata": {},
   "outputs": [],
   "source": [
    "ko_genes = list(set([x.split('.')[0] for x in adata_singlets.obs.guide1_cov.drop_duplicates().tolist()]))"
   ]
  },
  {
   "cell_type": "code",
   "execution_count": 42,
   "metadata": {},
   "outputs": [],
   "source": [
    "genes = list(set(ko_genes) | set(immune_genes))"
   ]
  },
  {
   "cell_type": "code",
   "execution_count": 43,
   "metadata": {},
   "outputs": [],
   "source": [
    "adata_singlets = adata_singlets[:, genes].copy()"
   ]
  },
  {
   "cell_type": "code",
   "execution_count": 44,
   "metadata": {
    "scrolled": true
   },
   "outputs": [
    {
     "data": {
      "text/plain": [
       "(105203, 562)"
      ]
     },
     "execution_count": 44,
     "metadata": {},
     "output_type": "execute_result"
    }
   ],
   "source": [
    "adata_singlets.shape"
   ]
  },
  {
   "cell_type": "code",
   "execution_count": 53,
   "metadata": {},
   "outputs": [
    {
     "name": "stderr",
     "output_type": "stream",
     "text": [
      "... storing 'group' as categorical\n"
     ]
    }
   ],
   "source": [
    "sc.write(data_path + 'cd4_cropseq_data/guide_singlets.h5ad', adata_singlets)"
   ]
  },
  {
   "cell_type": "markdown",
   "metadata": {},
   "source": [
    "### Get a list of genes to test correlations against"
   ]
  },
  {
   "cell_type": "code",
   "execution_count": 57,
   "metadata": {},
   "outputs": [],
   "source": [
    "prefixes = ['STAT', 'IRF', 'IFI', 'ETS', 'NCOA', 'JUN', 'BATF', 'SATB1', 'FOXP']\n",
    "genes_to_test = []\n",
    "for gene in ko_genes:\n",
    "    for prefix in prefixes:\n",
    "        if prefix in gene:\n",
    "            genes_to_test.append(gene)"
   ]
  },
  {
   "cell_type": "code",
   "execution_count": 59,
   "metadata": {},
   "outputs": [],
   "source": [
    "with open(data_path + 'cd4_cropseq_data/genes_to_test.pkl', 'wb') as f:\n",
    "    pkl.dump(genes_to_test, f)"
   ]
  }
 ],
 "metadata": {
  "kernelspec": {
   "display_name": "Python 3",
   "language": "python",
   "name": "python3"
  },
  "language_info": {
   "codemirror_mode": {
    "name": "ipython",
    "version": 3
   },
   "file_extension": ".py",
   "mimetype": "text/x-python",
   "name": "python",
   "nbconvert_exporter": "python",
   "pygments_lexer": "ipython3",
   "version": "3.7.4"
  }
 },
 "nbformat": 4,
 "nbformat_minor": 2
}
