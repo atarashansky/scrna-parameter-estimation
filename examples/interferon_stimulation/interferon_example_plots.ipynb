{
 "cells": [
  {
   "cell_type": "markdown",
   "metadata": {},
   "source": [
    "# Cell type differences and effects of interferon stimulation on immune cells\n",
    "\n",
    "Demonstrating differential expression between cell types and the effect of interferon stimulation within a cell type (CD4 T cells)."
   ]
  },
  {
   "cell_type": "code",
   "execution_count": 1,
   "metadata": {},
   "outputs": [
    {
     "name": "stderr",
     "output_type": "stream",
     "text": [
      "/home/mkim7/anaconda3/envs/single_cell/lib/python3.7/site-packages/scanpy/api/__init__.py:6: FutureWarning: \n",
      "\n",
      "In a future version of Scanpy, `scanpy.api` will be removed.\n",
      "Simply use `import scanpy as sc` and `import scanpy.external as sce` instead.\n",
      "\n",
      "  FutureWarning\n"
     ]
    }
   ],
   "source": [
    "import pandas as pd\n",
    "import matplotlib.pyplot as plt\n",
    "import scanpy.api as sc\n",
    "import scipy as sp\n",
    "import itertools\n",
    "import numpy as np\n",
    "import scipy.stats as stats\n",
    "from scipy.integrate import dblquad\n",
    "import seaborn as sns\n",
    "from statsmodels.stats.multitest import fdrcorrection\n",
    "import imp\n",
    "pd.options.display.max_rows = 999\n",
    "pd.set_option('display.max_colwidth', -1)\n",
    "import pickle as pkl\n",
    "import time"
   ]
  },
  {
   "cell_type": "code",
   "execution_count": 42,
   "metadata": {},
   "outputs": [],
   "source": [
    "%matplotlib inline"
   ]
  },
  {
   "cell_type": "code",
   "execution_count": 12,
   "metadata": {},
   "outputs": [],
   "source": [
    "import matplotlib.pylab as pylab\n",
    "params = {'legend.fontsize': 'x-large',\n",
    "         'axes.labelsize': 'x-large',\n",
    "         'axes.titlesize':'x-large',\n",
    "         'figure.titlesize':'xx-large',\n",
    "         'xtick.labelsize':'x-large',\n",
    "         'ytick.labelsize':'x-large'}\n",
    "pylab.rcParams.update(params)\n"
   ]
  },
  {
   "cell_type": "code",
   "execution_count": 13,
   "metadata": {},
   "outputs": [],
   "source": [
    "import warnings\n",
    "warnings.filterwarnings('ignore')"
   ]
  },
  {
   "cell_type": "code",
   "execution_count": 14,
   "metadata": {},
   "outputs": [],
   "source": [
    "from sklearn.decomposition import PCA"
   ]
  },
  {
   "cell_type": "code",
   "execution_count": 15,
   "metadata": {},
   "outputs": [],
   "source": [
    "from sklearn.preprocessing import StandardScaler"
   ]
  },
  {
   "cell_type": "code",
   "execution_count": 16,
   "metadata": {},
   "outputs": [],
   "source": [
    "import sys\n",
    "sys.path.append('/home/mkim7/Github/scrna-parameter-estimation/scmemo')\n",
    "import scmemo, utils"
   ]
  },
  {
   "cell_type": "code",
   "execution_count": 21,
   "metadata": {},
   "outputs": [],
   "source": [
    "data_path = '/data/parameter_estimation/interferon_data/20200324/'"
   ]
  },
  {
   "cell_type": "markdown",
   "metadata": {},
   "source": [
    "### Perform some basic filtering"
   ]
  },
  {
   "cell_type": "code",
   "execution_count": 22,
   "metadata": {},
   "outputs": [],
   "source": [
    "adata = sc.read(data_path + 'interferon_highcount.raw.h5ad')\n",
    "adata = adata[:, adata.var.index.map(lambda x: x[:2] != 'HB')]"
   ]
  },
  {
   "cell_type": "code",
   "execution_count": 23,
   "metadata": {},
   "outputs": [
    {
     "data": {
      "text/plain": [
       "CD4 T cells          10389\n",
       "CD14+ Monocytes      5385 \n",
       "B cells              2573 \n",
       "CD8 T cells          2042 \n",
       "NK cells             1993 \n",
       "FCGR3A+ Monocytes    1599 \n",
       "Dendritic cells      432  \n",
       "Megakaryocytes       260  \n",
       "Name: cell, dtype: int64"
      ]
     },
     "execution_count": 23,
     "metadata": {},
     "output_type": "execute_result"
    }
   ],
   "source": [
    "adata.obs.cell.value_counts()"
   ]
  },
  {
   "cell_type": "code",
   "execution_count": 24,
   "metadata": {},
   "outputs": [
    {
     "name": "stderr",
     "output_type": "stream",
     "text": [
      "Trying to set attribute `.obs` of view, making a copy.\n"
     ]
    }
   ],
   "source": [
    "adata.obs['cell_type'] = (adata.obs['cell'].astype(str) + ' - ' + adata.obs['stim'].astype(str)).astype('category')"
   ]
  },
  {
   "cell_type": "code",
   "execution_count": 25,
   "metadata": {},
   "outputs": [],
   "source": [
    "sc.pl.tsne(adata, color='cell_type')"
   ]
  },
  {
   "cell_type": "code",
   "execution_count": 26,
   "metadata": {},
   "outputs": [],
   "source": [
    "# plt.figure(figsize=(5, 3))\n",
    "# sns.boxplot(x='n_counts', y='cell_type', data=adata.obs)\n",
    "# plt.title('Total UMI counts by cell type')\n",
    "# plt.savefig('celltype_numi.pdf')\n",
    "# plt.savefig('celltype_numi.png')"
   ]
  },
  {
   "cell_type": "code",
   "execution_count": 27,
   "metadata": {},
   "outputs": [
    {
     "name": "stdout",
     "output_type": "stream",
     "text": [
      "Number of genes kept: 3593\n"
     ]
    }
   ],
   "source": [
    "print('Number of genes kept:', adata.shape[1])"
   ]
  },
  {
   "cell_type": "markdown",
   "metadata": {},
   "source": [
    "### DE, DV results"
   ]
  },
  {
   "cell_type": "code",
   "execution_count": 28,
   "metadata": {},
   "outputs": [],
   "source": [
    "with open(data_path + 'stim_effect_1d_params.pkl', 'rb') as f:\n",
    "    parameter_dict = pkl.load(f)\n",
    "with open(data_path + 'stim_effect_ci_1d.pkl', 'rb') as f:\n",
    "    ci_dict = pkl.load(f)\n",
    "with open(data_path + 'stim_effect_1d.pkl', 'rb') as f:\n",
    "    test_dict = pkl.load(f)"
   ]
  },
  {
   "cell_type": "code",
   "execution_count": 312,
   "metadata": {},
   "outputs": [],
   "source": [
    "def get_key(ct):\n",
    "    return (ct + ' - ctrl', ct + ' - stim')\n",
    "\n",
    "def create_1d_df(adata, ct, test_dict):\n",
    "    \n",
    "    df = pd.DataFrame()\n",
    "    gene_list = adata.var.index\n",
    "    df['gene'] = gene_list\n",
    "    df['ct'] = ct\n",
    "    \n",
    "    for key,val in test_dict[get_key(ct)].items():\n",
    "        df[key] = val\n",
    "        \n",
    "    return df\n",
    "\n",
    "def get_data(ct, gene_idx):\n",
    "    \n",
    "    return\\\n",
    "        (adata[adata.obs.cell_type == (ct + ' - ctrl'), :][:, gene_idx].X,\n",
    "        adata[adata.obs.cell_type == (ct + ' - stim'), :][:, gene_idx].X)\n",
    "\n",
    "def plot_ctrl_stim_expr(ct, gene_idx, method='mpl', log=False):\n",
    "    \n",
    "    unique_counts_ctrl = np.unique(adata[adata.obs.cell_type == (ct + ' - ctrl'), :][:, gene_idx].X).shape[0]\n",
    "    unique_counts_stim = np.unique(adata[adata.obs.cell_type == (ct + ' - stim'), :][:, gene_idx].X).shape[0]\n",
    "\n",
    "    if method == 'mpl':\n",
    "        plt.hist(\n",
    "            [\n",
    "                adata[adata.obs.cell_type == (ct + ' - ctrl'), :][:, gene_idx].X,\n",
    "                adata[adata.obs.cell_type == (ct + ' - stim'), :][:, gene_idx].X,\n",
    "            ], log=log)\n",
    "    else:\n",
    "        sns.distplot(adata[adata.obs.cell_type == (ct + ' - ctrl'), :][:, gene_idx].X, log=log)\n",
    "        sns.distplot(adata[adata.obs.cell_type == (ct + ' - stim'), :][:, gene_idx].X, log=log)\n",
    "\n",
    "def violin_plot(ct, gene_idx):\n",
    "    \n",
    "    sns.violinplot(\n",
    "        [adata[adata.obs.cell_type == (ct + ' - ctrl'), :][:, gene_idx].X, \n",
    "         adata[adata.obs.cell_type == (ct + ' - stim'), :][:, gene_idx].X])"
   ]
  },
  {
   "cell_type": "code",
   "execution_count": 193,
   "metadata": {},
   "outputs": [],
   "source": [
    "cts = ['CD4 T cells',  'CD14+ Monocytes', 'FCGR3A+ Monocytes', 'NK cells','CD8 T cells', 'B cells']\n",
    "df = pd.concat([create_1d_df(adata, ct, test_dict) for ct in cts])"
   ]
  },
  {
   "cell_type": "code",
   "execution_count": 395,
   "metadata": {},
   "outputs": [],
   "source": [
    "candidates = df\\\n",
    "    .query('de_fdr > 0.2')\\\n",
    "    .query('dv_fdr < 0.1')\\\n",
    "    .sort_values('log_mean_1', ascending=False)\\\n",
    "    .head(30)"
   ]
  },
  {
   "cell_type": "code",
   "execution_count": null,
   "metadata": {},
   "outputs": [],
   "source": [
    "for idx, row in candidates.iterrows():\n",
    "    ct = row['ct']\n",
    "    gene_idx = idx\n",
    "    plt.figure(figsize=(2, 1))\n",
    "    \n",
    "    ctrl_data, stim_data = get_data(ct, gene_idx)\n",
    "    plt.hist([ctrl_data, stim_data], log=False, bins=15);\n",
    "    plt.title(ct + ' ' + adata.var.index[gene_idx])"
   ]
  },
  {
   "cell_type": "code",
   "execution_count": 415,
   "metadata": {},
   "outputs": [],
   "source": [
    "ct = 'CD8 T cells'\n",
    "#ct = 'NK cells'\n",
    "ct = 'FCGR3A+ Monocytes'\n",
    "#ct = 'B cells'\n",
    "#ct = 'CD4 T cells'\n",
    "gene = 240"
   ]
  },
  {
   "cell_type": "code",
   "execution_count": 400,
   "metadata": {},
   "outputs": [],
   "source": [
    "ctrl_data, stim_data = get_data(ct, gene_idx)"
   ]
  },
  {
   "cell_type": "code",
   "execution_count": null,
   "metadata": {},
   "outputs": [],
   "source": [
    "ctrl_counts = "
   ]
  },
  {
   "cell_type": "code",
   "execution_count": null,
   "metadata": {},
   "outputs": [],
   "source": [
    "plt.hist(\n",
    "    [ctrl_data, stim_data], \n",
    "    log=False, \n",
    "    bins=15, \n",
    "    density=True, \n",
    "    histtype='step');"
   ]
  },
  {
   "cell_type": "code",
   "execution_count": 416,
   "metadata": {},
   "outputs": [
    {
     "data": {
      "image/png": "[encoded data removed]",
      "text/plain": [
       "<Figure size 432x288 with 1 Axes>"
      ]
     },
     "metadata": {
      "needs_background": "light"
     },
     "output_type": "display_data"
    }
   ],
   "source": [
    "plt.hist(\n",
    "    [ctrl_data, stim_data], \n",
    "    log=False, \n",
    "    bins=15);"
   ]
  },
  {
   "cell_type": "code",
   "execution_count": 413,
   "metadata": {},
   "outputs": [
    {
     "data": {
      "image/png": "[encoded data removed]",
      "text/plain": [
       "<Figure size 432x288 with 1 Axes>"
      ]
     },
     "metadata": {
      "needs_background": "light"
     },
     "output_type": "display_data"
    }
   ],
   "source": [
    "plt.hist(\n",
    "    [ctrl_data, stim_data], \n",
    "    log=False, \n",
    "    bins=15, \n",
    "    density=True, \n",
    "    histtype='step',\n",
    "    lw=5,\n",
    "    fill=False);"
   ]
  },
  {
   "cell_type": "markdown",
   "metadata": {},
   "source": [
    "### Some IFITs"
   ]
  },
  {
   "cell_type": "code",
   "execution_count": 404,
   "metadata": {},
   "outputs": [],
   "source": [
    "ct = 'CD4 T cells'"
   ]
  },
  {
   "cell_type": "code",
   "execution_count": null,
   "metadata": {},
   "outputs": [],
   "source": [
    "inc_var_genes = "
   ]
  },
  {
   "cell_type": "code",
   "execution_count": 219,
   "metadata": {},
   "outputs": [
    {
     "data": {
      "image/png": "[encoded data removed]",
      "text/plain": [
       "<Figure size 864x216 with 3 Axes>"
      ]
     },
     "metadata": {
      "needs_background": "light"
     },
     "output_type": "display_data"
    }
   ],
   "source": [
    "plt.figure(figsize=(12, 3));\n",
    "plt.subplots_adjust(wspace=0.3)\n",
    "plt.subplot(1, 3, 1);\n",
    "plot_ct_specific_exp(adata, 'IFIT3', 'CD4 T cells')\n",
    "plt.subplot(1, 3, 2);\n",
    "plot_ct_specific_exp(adata, 'IFIT5', 'CD4 T cells')\n",
    "plt.subplot(1, 3, 3);\n",
    "plot_ct_specific_exp(adata, 'IFI27', 'CD4 T cells')\n",
    "plt.savefig(data_path + 'figures/CD4_DV_genes.pdf', bbox_inches='tight')\n",
    "plt.savefig(data_path + 'figures/CD4_DV_genes.png', bbox_inches='tight')"
   ]
  }
 ],
 "metadata": {
  "kernelspec": {
   "display_name": "Python 3",
   "language": "python",
   "name": "python3"
  },
  "language_info": {
   "codemirror_mode": {
    "name": "ipython",
    "version": 3
   },
   "file_extension": ".py",
   "mimetype": "text/x-python",
   "name": "python",
   "nbconvert_exporter": "python",
   "pygments_lexer": "ipython3",
   "version": "3.7.5"
  }
 },
 "nbformat": 4,
 "nbformat_minor": 4
}
