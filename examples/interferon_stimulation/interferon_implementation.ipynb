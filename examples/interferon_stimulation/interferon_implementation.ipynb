{
 "cells": [
  {
   "cell_type": "markdown",
   "metadata": {},
   "source": [
    "# scMeMo implementation scratch notebook\n",
    "\n",
    "Demonstrating differential expression between cell types and the effect of interferon stimulation within a cell type (CD4 T cells)."
   ]
  },
  {
   "cell_type": "code",
   "execution_count": 1,
   "metadata": {},
   "outputs": [
    {
     "name": "stderr",
     "output_type": "stream",
     "text": [
      "//anaconda3/envs/single_cell/lib/python3.7/site-packages/anndata/_core/anndata.py:21: FutureWarning: pandas.core.index is deprecated and will be removed in a future version.  The public classes are available in the top-level namespace.\n",
      "  from pandas.core.index import RangeIndex\n",
      "//anaconda3/envs/single_cell/lib/python3.7/site-packages/ipykernel_launcher.py:13: FutureWarning: Passing a negative integer is deprecated in version 1.0 and will not be supported in future version. Instead, use None to not limit the column width.\n",
      "  del sys.path[0]\n"
     ]
    }
   ],
   "source": [
    "import pandas as pd\n",
    "import matplotlib.pyplot as plt\n",
    "import scanpy as sc\n",
    "import scipy as sp\n",
    "import itertools\n",
    "import numpy as np\n",
    "import scipy.stats as stats\n",
    "from scipy.integrate import dblquad\n",
    "import seaborn as sns\n",
    "from statsmodels.stats.multitest import fdrcorrection\n",
    "import imp\n",
    "pd.options.display.max_rows = 999\n",
    "pd.set_option('display.max_colwidth', -1)\n",
    "import pickle as pkl\n",
    "import time"
   ]
  },
  {
   "cell_type": "code",
   "execution_count": 2,
   "metadata": {},
   "outputs": [],
   "source": [
    "%matplotlib inline"
   ]
  },
  {
   "cell_type": "code",
   "execution_count": 3,
   "metadata": {},
   "outputs": [],
   "source": [
    "import matplotlib.pylab as pylab\n",
    "params = {'legend.fontsize': 'small',\n",
    "         'axes.labelsize': 'medium',\n",
    "         'axes.titlesize':'medium',\n",
    "         'figure.titlesize':'medium',\n",
    "         'xtick.labelsize':'small',\n",
    "         'ytick.labelsize':'small'}\n",
    "pylab.rcParams.update(params)\n"
   ]
  },
  {
   "cell_type": "code",
   "execution_count": 4,
   "metadata": {},
   "outputs": [],
   "source": [
    "import matplotlib\n",
    "matplotlib.rcParams['pdf.fonttype'] = 42\n",
    "matplotlib.rcParams['ps.fonttype'] = 42"
   ]
  },
  {
   "cell_type": "code",
   "execution_count": 5,
   "metadata": {},
   "outputs": [],
   "source": [
    "import warnings\n",
    "# warnings.filterwarnings('ignore')"
   ]
  },
  {
   "cell_type": "code",
   "execution_count": 6,
   "metadata": {},
   "outputs": [],
   "source": [
    "from sklearn.decomposition import PCA"
   ]
  },
  {
   "cell_type": "code",
   "execution_count": 7,
   "metadata": {},
   "outputs": [],
   "source": [
    "from sklearn.preprocessing import StandardScaler"
   ]
  },
  {
   "cell_type": "code",
   "execution_count": 10,
   "metadata": {},
   "outputs": [],
   "source": [
    "import sys\n",
    "# sys.path.append('/home/mkim7/Github/scrna-parameter-estimation/scmemo')\n",
    "sys.path.append('/Users/mincheolkim/Github/scrna-parameter-estimation/scmemo')\n",
    "import estimator, utils"
   ]
  },
  {
   "cell_type": "code",
   "execution_count": 11,
   "metadata": {},
   "outputs": [],
   "source": [
    "# data_path = '/data/parameter_estimation/interferon_data/20200412/'\n",
    "data_path = '/Users/mincheolkim/Google Drive/UCSF/research/parameter_estimation/parameter_estimation_paper/interferon_04_25_2020/'"
   ]
  },
  {
   "cell_type": "markdown",
   "metadata": {},
   "source": [
    "### Perform some basic filtering"
   ]
  },
  {
   "cell_type": "code",
   "execution_count": 11,
   "metadata": {},
   "outputs": [],
   "source": [
    "def simplify_name(name):\n",
    "    return name.split('.')[0]"
   ]
  },
  {
   "cell_type": "code",
   "execution_count": 12,
   "metadata": {},
   "outputs": [],
   "source": [
    "# adata = sc.read(data_path + 'interferon_highcount.raw.h5ad')\n",
    "adata = sc.read(data_path + 'interferon.h5ad')\n",
    "adata.X = adata.X.astype(np.int64)\n",
    "# adata = adata[:, adata.var.index.map(lambda x: x[:2] != 'HB')]"
   ]
  },
  {
   "cell_type": "code",
   "execution_count": 13,
   "metadata": {},
   "outputs": [],
   "source": [
    "# adata = sc.read(data_path + 'interferon.h5ad')\n",
    "adata.obs['n_counts'] = adata.X.sum(axis=1)\n",
    "\n",
    "adata.var['n_max'] = adata.X.max(axis=0).toarray()[0]\n",
    "adata.var['n_cell'] = (adata.X > 0).sum(axis=0).A1\n",
    "\n"
   ]
  },
  {
   "cell_type": "code",
   "execution_count": 14,
   "metadata": {},
   "outputs": [],
   "source": [
    "known_gene_df = pd.read_csv(data_path + 'chipseq/gene_locations_2.bed', header=0, sep='\\t')#[[4, 5]]\n",
    "known_gene_df['gene_name'] = known_gene_df['transcript'].apply(simplify_name)\n",
    "known_gene_df['gene_ids'] = known_gene_df['protein'].apply(simplify_name)"
   ]
  },
  {
   "cell_type": "code",
   "execution_count": 15,
   "metadata": {},
   "outputs": [],
   "source": [
    "new_var = adata.var.merge(known_gene_df, on='gene_ids', how='left')\n",
    "new_var.index = adata.var.index\n",
    "adata.var = new_var.copy()"
   ]
  },
  {
   "cell_type": "code",
   "execution_count": 16,
   "metadata": {},
   "outputs": [
    {
     "data": {
      "text/plain": [
       "CD4 T cells          12033\n",
       "CD14+ Monocytes      6447 \n",
       "B cells              2880 \n",
       "CD8 T cells          2634 \n",
       "NK cells             2330 \n",
       "FCGR3A+ Monocytes    1914 \n",
       "Dendritic cells      472  \n",
       "Megakaryocytes       346  \n",
       "nan                  9    \n",
       "Name: cell, dtype: int64"
      ]
     },
     "execution_count": 16,
     "metadata": {},
     "output_type": "execute_result"
    }
   ],
   "source": [
    "adata.obs.cell.value_counts()"
   ]
  },
  {
   "cell_type": "code",
   "execution_count": 17,
   "metadata": {},
   "outputs": [
    {
     "name": "stdout",
     "output_type": "stream",
     "text": [
      "Number of genes kept: 35635\n"
     ]
    }
   ],
   "source": [
    "print('Number of genes kept:', adata.shape[1])"
   ]
  },
  {
   "cell_type": "code",
   "execution_count": 38,
   "metadata": {},
   "outputs": [
    {
     "name": "stderr",
     "output_type": "stream",
     "text": [
      "Exception ignored in: <function WeakMethod.__new__.<locals>._cb at 0x7f3e8fec7950>\n",
      "Traceback (most recent call last):\n",
      "  File \"/home/mkim7/anaconda3/envs/single_cell/lib/python3.7/weakref.py\", line 51, in _cb\n",
      "    def _cb(arg):\n",
      "KeyboardInterrupt\n"
     ]
    },
    {
     "name": "stdout",
     "output_type": "stream",
     "text": [
      "E[q^2] falls in [0.00490, 0.00667940], with the current estimate of 0.00600778. Estimated with 6461 genes.\n",
      "CPU times: user 13.7 s, sys: 1.49 s, total: 15.2 s\n",
      "Wall time: 15.1 s\n"
     ]
    }
   ],
   "source": [
    "%%time\n",
    "\n",
    "imp.reload(utils)\n",
    "imp.reload(scmemo)\n",
    "estimator = scmemo.SingleCellEstimator(\n",
    "    adata=adata,\n",
    "    covariate_label='stim',\n",
    "    replicate_label='ind',\n",
    "    batch_label=None,\n",
    "    subsection_label='cell',\n",
    "    num_permute=10000,\n",
    "    covariate_converter={'ctrl':0, 'stim':1},\n",
    "    q=.07,\n",
    "    use_hat_matrix=True)\n",
    "estimator.estimate_q_sq(verbose=True, k=5)"
   ]
  },
  {
   "cell_type": "code",
   "execution_count": 39,
   "metadata": {},
   "outputs": [],
   "source": [
    "estimator.plot_cv_mean_curve()"
   ]
  },
  {
   "cell_type": "code",
   "execution_count": 40,
   "metadata": {},
   "outputs": [
    {
     "name": "stdout",
     "output_type": "stream",
     "text": [
      "300\n"
     ]
    }
   ],
   "source": [
    "gene_list = adata.var.query('n_cell > 10000').index.tolist()\n",
    "print(len(gene_list))"
   ]
  },
  {
   "cell_type": "code",
   "execution_count": 41,
   "metadata": {},
   "outputs": [
    {
     "name": "stdout",
     "output_type": "stream",
     "text": [
      "CPU times: user 1.42 s, sys: 63.8 ms, total: 1.48 s\n",
      "Wall time: 1.48 s\n"
     ]
    }
   ],
   "source": [
    "%%time\n",
    "estimator.compute_observed_moments(gene_list)"
   ]
  },
  {
   "cell_type": "code",
   "execution_count": 42,
   "metadata": {},
   "outputs": [
    {
     "name": "stdout",
     "output_type": "stream",
     "text": [
      "CPU times: user 481 ms, sys: 4.25 ms, total: 486 ms\n",
      "Wall time: 485 ms\n"
     ]
    }
   ],
   "source": [
    "%%time\n",
    "estimator.estimate_1d_parameters(gene_list)"
   ]
  },
  {
   "cell_type": "code",
   "execution_count": 43,
   "metadata": {},
   "outputs": [
    {
     "name": "stdout",
     "output_type": "stream",
     "text": [
      "(300,) (300,)\n"
     ]
    },
    {
     "name": "stderr",
     "output_type": "stream",
     "text": [
      "/home/mkim7/Github/scrna-parameter-estimation/scmemo/scmemo.py:311: RuntimeWarning: invalid value encountered in log\n",
      "  log_residual_variance = np.log(estimated_var) - (self.mean_var_slope*np.log(estimated_mean) + self.mean_var_inter)\n"
     ]
    },
    {
     "ename": "IndexError",
     "evalue": "too many indices for array",
     "output_type": "error",
     "traceback": [
      "\u001b[0;31m---------------------------------------------------------------------------\u001b[0m",
      "\u001b[0;31mIndexError\u001b[0m                                Traceback (most recent call last)",
      "\u001b[0;32m<timed exec>\u001b[0m in \u001b[0;36m<module>\u001b[0;34m\u001b[0m\n",
      "\u001b[0;32m~/Github/scrna-parameter-estimation/scmemo/scmemo.py\u001b[0m in \u001b[0;36mcompute_confidence_intervals_1d\u001b[0;34m(self, gene_list, hypothesis_test, gene_tracker_count, verbose, timer)\u001b[0m\n\u001b[1;32m    798\u001b[0m \u001b[0;34m\u001b[0m\u001b[0m\n\u001b[1;32m    799\u001b[0m                                 \u001b[0;31m# Update the test dict\u001b[0m\u001b[0;34m\u001b[0m\u001b[0;34m\u001b[0m\u001b[0;34m\u001b[0m\u001b[0m\n\u001b[0;32m--> 800\u001b[0;31m                                 \u001b[0;32mif\u001b[0m \u001b[0mnp\u001b[0m\u001b[0;34m.\u001b[0m\u001b[0misfinite\u001b[0m\u001b[0;34m(\u001b[0m\u001b[0mself\u001b[0m\u001b[0;34m.\u001b[0m\u001b[0mhypothesis_test_result\u001b[0m\u001b[0;34m[\u001b[0m\u001b[0msubsection\u001b[0m\u001b[0;34m]\u001b[0m\u001b[0;34m[\u001b[0m\u001b[0;34m'de_effect_size'\u001b[0m\u001b[0;34m]\u001b[0m\u001b[0;34m[\u001b[0m\u001b[0mgene_idx\u001b[0m\u001b[0;34m,\u001b[0m \u001b[0;36m0\u001b[0m\u001b[0;34m]\u001b[0m\u001b[0;34m)\u001b[0m\u001b[0;34m:\u001b[0m\u001b[0;34m\u001b[0m\u001b[0;34m\u001b[0m\u001b[0m\n\u001b[0m\u001b[1;32m    801\u001b[0m                                         \u001b[0mtest_dict\u001b[0m\u001b[0;34m[\u001b[0m\u001b[0;34m'de_es_ci'\u001b[0m\u001b[0;34m]\u001b[0m\u001b[0;34m[\u001b[0m\u001b[0mgene_idx\u001b[0m\u001b[0;34m,\u001b[0m \u001b[0;36m0\u001b[0m\u001b[0;34m]\u001b[0m \u001b[0;34m=\u001b[0m \u001b[0mnp\u001b[0m\u001b[0;34m.\u001b[0m\u001b[0mnanstd\u001b[0m\u001b[0;34m(\u001b[0m\u001b[0mmean_es\u001b[0m\u001b[0;34m)\u001b[0m\u001b[0;34m\u001b[0m\u001b[0;34m\u001b[0m\u001b[0m\n\u001b[1;32m    802\u001b[0m                                         \u001b[0mtest_dict\u001b[0m\u001b[0;34m[\u001b[0m\u001b[0;34m'de_pval'\u001b[0m\u001b[0;34m]\u001b[0m\u001b[0;34m[\u001b[0m\u001b[0mgene_idx\u001b[0m\u001b[0;34m,\u001b[0m \u001b[0;36m0\u001b[0m\u001b[0;34m]\u001b[0m \u001b[0;34m=\u001b[0m \u001b[0mcompute_asl\u001b[0m\u001b[0;34m(\u001b[0m\u001b[0mmean_es\u001b[0m\u001b[0;34m)\u001b[0m\u001b[0;34m\u001b[0m\u001b[0;34m\u001b[0m\u001b[0m\n",
      "\u001b[0;31mIndexError\u001b[0m: too many indices for array"
     ]
    }
   ],
   "source": [
    "%%time\n",
    "estimator.setup_hypothesis_testing(['CD4 T cells'])\n",
    "estimator.compute_effect_sizes_1d(gene_list)\n",
    "estimator.compute_confidence_intervals_1d(gene_list)"
   ]
  },
  {
   "cell_type": "code",
   "execution_count": 37,
   "metadata": {},
   "outputs": [
    {
     "name": "stderr",
     "output_type": "stream",
     "text": [
      "/home/mkim7/Github/scrna-parameter-estimation/scmemo/scmemo.py:907: RuntimeWarning: invalid value encountered in sqrt\n",
      "  estimated_corrs[group] = cov / np.sqrt(estimated_vars_1[group]*estimated_vars_2[group])\n",
      "/home/mkim7/anaconda3/envs/single_cell/lib/python3.7/site-packages/numpy/lib/nanfunctions.py:1667: RuntimeWarning: Degrees of freedom <= 0 for slice.\n",
      "  keepdims=keepdims)\n",
      "/home/mkim7/Github/scrna-parameter-estimation/scmemo/utils.py:99: RuntimeWarning: invalid value encountered in greater\n",
      "  extreme_count = (perm_diff > 0).sum()\n"
     ]
    },
    {
     "ename": "KeyboardInterrupt",
     "evalue": "",
     "output_type": "error",
     "traceback": [
      "\u001b[0;31m---------------------------------------------------------------------------\u001b[0m",
      "\u001b[0;31mKeyboardInterrupt\u001b[0m                         Traceback (most recent call last)",
      "\u001b[0;32m<timed exec>\u001b[0m in \u001b[0;36m<module>\u001b[0;34m\u001b[0m\n",
      "\u001b[0;32m~/Github/scrna-parameter-estimation/scmemo/scmemo.py\u001b[0m in \u001b[0;36mcompute_confidence_intervals_2d\u001b[0;34m(self, gene_list_1, gene_list_2, hypothesis_test, gene_tracker_count, verbose)\u001b[0m\n\u001b[1;32m    873\u001b[0m                                         \u001b[0mexpr_values\u001b[0m\u001b[0;34m,\u001b[0m \u001b[0mcounts\u001b[0m \u001b[0;34m=\u001b[0m \u001b[0mnp\u001b[0m\u001b[0;34m.\u001b[0m\u001b[0munique\u001b[0m\u001b[0;34m(\u001b[0m\u001b[0mcantor_code\u001b[0m\u001b[0;34m,\u001b[0m \u001b[0mreturn_counts\u001b[0m\u001b[0;34m=\u001b[0m\u001b[0;32mTrue\u001b[0m\u001b[0;34m)\u001b[0m\u001b[0;34m\u001b[0m\u001b[0;34m\u001b[0m\u001b[0m\n\u001b[1;32m    874\u001b[0m                                         \u001b[0mcantor_codes\u001b[0m\u001b[0;34m[\u001b[0m\u001b[0mgroup\u001b[0m\u001b[0;34m]\u001b[0m \u001b[0;34m=\u001b[0m \u001b[0mexpr_values\u001b[0m\u001b[0;34m\u001b[0m\u001b[0;34m\u001b[0m\u001b[0m\n\u001b[0;32m--> 875\u001b[0;31m                                         \u001b[0mgene_mult_rvs\u001b[0m\u001b[0;34m[\u001b[0m\u001b[0mgroup\u001b[0m\u001b[0;34m]\u001b[0m \u001b[0;34m=\u001b[0m \u001b[0mstats\u001b[0m\u001b[0;34m.\u001b[0m\u001b[0mmultinomial\u001b[0m\u001b[0;34m.\u001b[0m\u001b[0mrvs\u001b[0m\u001b[0;34m(\u001b[0m\u001b[0mn\u001b[0m\u001b[0;34m=\u001b[0m\u001b[0mdata\u001b[0m\u001b[0;34m.\u001b[0m\u001b[0mshape\u001b[0m\u001b[0;34m[\u001b[0m\u001b[0;36m0\u001b[0m\u001b[0;34m]\u001b[0m\u001b[0;34m,\u001b[0m \u001b[0mp\u001b[0m\u001b[0;34m=\u001b[0m\u001b[0mcounts\u001b[0m\u001b[0;34m/\u001b[0m\u001b[0mdata\u001b[0m\u001b[0;34m.\u001b[0m\u001b[0mshape\u001b[0m\u001b[0;34m[\u001b[0m\u001b[0;36m0\u001b[0m\u001b[0;34m]\u001b[0m\u001b[0;34m,\u001b[0m \u001b[0msize\u001b[0m\u001b[0;34m=\u001b[0m\u001b[0mself\u001b[0m\u001b[0;34m.\u001b[0m\u001b[0mnum_permute\u001b[0m\u001b[0;34m)\u001b[0m\u001b[0;34m\u001b[0m\u001b[0;34m\u001b[0m\u001b[0m\n\u001b[0m\u001b[1;32m    876\u001b[0m \u001b[0;34m\u001b[0m\u001b[0m\n\u001b[1;32m    877\u001b[0m                                 \u001b[0;31m# Construct the repeated values matrix\u001b[0m\u001b[0;34m\u001b[0m\u001b[0;34m\u001b[0m\u001b[0;34m\u001b[0m\u001b[0m\n",
      "\u001b[0;32m~/anaconda3/envs/single_cell/lib/python3.7/site-packages/scipy/stats/_multivariate.py\u001b[0m in \u001b[0;36mrvs\u001b[0;34m(self, n, p, size, random_state)\u001b[0m\n\u001b[1;32m   3218\u001b[0m         \u001b[0mn\u001b[0m\u001b[0;34m,\u001b[0m \u001b[0mp\u001b[0m\u001b[0;34m,\u001b[0m \u001b[0mnpcond\u001b[0m \u001b[0;34m=\u001b[0m \u001b[0mself\u001b[0m\u001b[0;34m.\u001b[0m\u001b[0m_process_parameters\u001b[0m\u001b[0;34m(\u001b[0m\u001b[0mn\u001b[0m\u001b[0;34m,\u001b[0m \u001b[0mp\u001b[0m\u001b[0;34m)\u001b[0m\u001b[0;34m\u001b[0m\u001b[0;34m\u001b[0m\u001b[0m\n\u001b[1;32m   3219\u001b[0m         \u001b[0mrandom_state\u001b[0m \u001b[0;34m=\u001b[0m \u001b[0mself\u001b[0m\u001b[0;34m.\u001b[0m\u001b[0m_get_random_state\u001b[0m\u001b[0;34m(\u001b[0m\u001b[0mrandom_state\u001b[0m\u001b[0;34m)\u001b[0m\u001b[0;34m\u001b[0m\u001b[0;34m\u001b[0m\u001b[0m\n\u001b[0;32m-> 3220\u001b[0;31m         \u001b[0;32mreturn\u001b[0m \u001b[0mrandom_state\u001b[0m\u001b[0;34m.\u001b[0m\u001b[0mmultinomial\u001b[0m\u001b[0;34m(\u001b[0m\u001b[0mn\u001b[0m\u001b[0;34m,\u001b[0m \u001b[0mp\u001b[0m\u001b[0;34m,\u001b[0m \u001b[0msize\u001b[0m\u001b[0;34m)\u001b[0m\u001b[0;34m\u001b[0m\u001b[0;34m\u001b[0m\u001b[0m\n\u001b[0m\u001b[1;32m   3221\u001b[0m \u001b[0;34m\u001b[0m\u001b[0m\n\u001b[1;32m   3222\u001b[0m \u001b[0;34m\u001b[0m\u001b[0m\n",
      "\u001b[0;31mKeyboardInterrupt\u001b[0m: "
     ]
    }
   ],
   "source": [
    "%%time\n",
    "estimator.compute_effect_sizes_2d(gene_list[:15], gene_list[-15:])\n",
    "estimator.compute_confidence_intervals_2d(gene_list[:15], gene_list[-15:])"
   ]
  },
  {
   "cell_type": "code",
   "execution_count": 1238,
   "metadata": {},
   "outputs": [],
   "source": [
    "with open('temp.pkl', 'wb') as f:\n",
    "    pkl.dump(estimator.hypothesis_test_result, f)"
   ]
  },
  {
   "cell_type": "code",
   "execution_count": 1239,
   "metadata": {},
   "outputs": [],
   "source": [
    "with open('temp.pkl', 'rb') as f:\n",
    "    a = pkl.load(f)"
   ]
  },
  {
   "cell_type": "code",
   "execution_count": null,
   "metadata": {},
   "outputs": [],
   "source": []
  },
  {
   "cell_type": "code",
   "execution_count": null,
   "metadata": {},
   "outputs": [],
   "source": []
  },
  {
   "cell_type": "code",
   "execution_count": null,
   "metadata": {},
   "outputs": [],
   "source": []
  },
  {
   "cell_type": "code",
   "execution_count": null,
   "metadata": {},
   "outputs": [],
   "source": []
  },
  {
   "cell_type": "code",
   "execution_count": 850,
   "metadata": {},
   "outputs": [
    {
     "data": {
      "text/plain": [
       "array([2191., 3018., 2481., ..., 1015.,  781., 1031.], dtype=float32)"
      ]
     },
     "execution_count": 850,
     "metadata": {},
     "output_type": "execute_result"
    }
   ],
   "source": [
    "adata.X.sum(axis=1).A1"
   ]
  },
  {
   "cell_type": "code",
   "execution_count": 979,
   "metadata": {},
   "outputs": [
    {
     "data": {
      "text/plain": [
       "133"
      ]
     },
     "execution_count": 979,
     "metadata": {},
     "output_type": "execute_result"
    }
   ],
   "source": [
    "len(estimator.groups)"
   ]
  },
  {
   "cell_type": "code",
   "execution_count": 1157,
   "metadata": {},
   "outputs": [
    {
     "name": "stdout",
     "output_type": "stream",
     "text": [
      "CPU times: user 91 µs, sys: 21 µs, total: 112 µs\n",
      "Wall time: 115 µs\n"
     ]
    }
   ],
   "source": [
    "%%time\n",
    "sparse_csc_array = sp.sparse.coo_matrix((30000,1), dtype=np.uint8)\n"
   ]
  },
  {
   "cell_type": "code",
   "execution_count": 1158,
   "metadata": {},
   "outputs": [
    {
     "ename": "TypeError",
     "evalue": "'coo_matrix' object does not support item assignment",
     "output_type": "error",
     "traceback": [
      "\u001b[0;31m------------------------------------------------------------------\u001b[0m",
      "\u001b[0;31mTypeError\u001b[0m                        Traceback (most recent call last)",
      "\u001b[0;32m<ipython-input-1158-9fac83f7fb7b>\u001b[0m in \u001b[0;36m<module>\u001b[0;34m\u001b[0m\n\u001b[0;32m----> 1\u001b[0;31m \u001b[0msparse_csc_array\u001b[0m\u001b[0;34m[\u001b[0m\u001b[0;34m:\u001b[0m\u001b[0;36m5\u001b[0m\u001b[0;34m,\u001b[0m \u001b[0;36m0\u001b[0m\u001b[0;34m]\u001b[0m \u001b[0;34m=\u001b[0m \u001b[0;36m5\u001b[0m\u001b[0;34m\u001b[0m\u001b[0;34m\u001b[0m\u001b[0m\n\u001b[0m",
      "\u001b[0;31mTypeError\u001b[0m: 'coo_matrix' object does not support item assignment"
     ]
    }
   ],
   "source": [
    "sparse_csc_array[:5, 0] = 5"
   ]
  },
  {
   "cell_type": "code",
   "execution_count": 1145,
   "metadata": {},
   "outputs": [
    {
     "name": "stdout",
     "output_type": "stream",
     "text": [
      "CPU times: user 38.2 ms, sys: 17 µs, total: 38.2 ms\n",
      "Wall time: 37.6 ms\n"
     ]
    }
   ],
   "source": [
    "%%time\n",
    "sparse_lil_array = sp.sparse.lil_matrix((1, 30000), dtype=np.float64).T"
   ]
  },
  {
   "cell_type": "code",
   "execution_count": 1146,
   "metadata": {},
   "outputs": [
    {
     "name": "stdout",
     "output_type": "stream",
     "text": [
      "CPU times: user 17.2 ms, sys: 0 ns, total: 17.2 ms\n",
      "Wall time: 17 ms\n"
     ]
    }
   ],
   "source": [
    "%%time\n",
    "sparse_lil_array = sp.sparse.lil_matrix((30000, 1), dtype=np.float64)"
   ]
  },
  {
   "cell_type": "code",
   "execution_count": 1110,
   "metadata": {},
   "outputs": [
    {
     "name": "stdout",
     "output_type": "stream",
     "text": [
      "CPU times: user 13.4 ms, sys: 208 µs, total: 13.6 ms\n",
      "Wall time: 13 ms\n"
     ]
    }
   ],
   "source": [
    "%%time\n",
    "sparse_lil_array = sp.sparse.lil_matrix((30000, 1), dtype=np.float64)\n",
    "sparse_lil_array[sample_idxs, 0] = values"
   ]
  },
  {
   "cell_type": "code",
   "execution_count": 1111,
   "metadata": {},
   "outputs": [
    {
     "name": "stdout",
     "output_type": "stream",
     "text": [
      "CPU times: user 16.5 ms, sys: 108 µs, total: 16.6 ms\n",
      "Wall time: 16.5 ms\n"
     ]
    }
   ],
   "source": [
    "%%time\n",
    "sparse_lil_array = sp.sparse.lil_matrix((1, 30000), dtype=np.float64)\n",
    "sparse_lil_array[0, sample_idxs] = values"
   ]
  },
  {
   "cell_type": "code",
   "execution_count": null,
   "metadata": {},
   "outputs": [],
   "source": []
  },
  {
   "cell_type": "code",
   "execution_count": null,
   "metadata": {},
   "outputs": [],
   "source": []
  },
  {
   "cell_type": "code",
   "execution_count": 56,
   "metadata": {},
   "outputs": [
    {
     "ename": "TypeError",
     "evalue": "object of type 'int' has no len()",
     "output_type": "error",
     "traceback": [
      "\u001b[0;31m---------------------------------------------------------------\u001b[0m",
      "\u001b[0;31mTypeError\u001b[0m                     Traceback (most recent call last)",
      "\u001b[0;32m<ipython-input-56-1cf91bb60cc0>\u001b[0m in \u001b[0;36m<module>\u001b[0;34m\u001b[0m\n\u001b[0;32m----> 1\u001b[0;31m \u001b[0mlen\u001b[0m\u001b[0;34m(\u001b[0m\u001b[0;36m1\u001b[0m\u001b[0;34m)\u001b[0m\u001b[0;34m\u001b[0m\u001b[0;34m\u001b[0m\u001b[0m\n\u001b[0m",
      "\u001b[0;31mTypeError\u001b[0m: object of type 'int' has no len()"
     ]
    }
   ],
   "source": [
    "len(1)"
   ]
  },
  {
   "cell_type": "code",
   "execution_count": 141,
   "metadata": {},
   "outputs": [
    {
     "data": {
      "text/plain": [
       "False"
      ]
     },
     "execution_count": 141,
     "metadata": {},
     "output_type": "execute_result"
    }
   ],
   "source": [
    "float == np.float64"
   ]
  },
  {
   "cell_type": "code",
   "execution_count": 142,
   "metadata": {},
   "outputs": [
    {
     "data": {
      "text/plain": [
       "numpy.number"
      ]
     },
     "execution_count": 142,
     "metadata": {},
     "output_type": "execute_result"
    }
   ],
   "source": [
    "np.number"
   ]
  },
  {
   "cell_type": "code",
   "execution_count": 172,
   "metadata": {},
   "outputs": [
    {
     "data": {
      "text/plain": [
       "slice"
      ]
     },
     "execution_count": 172,
     "metadata": {},
     "output_type": "execute_result"
    }
   ],
   "source": [
    "slice"
   ]
  },
  {
   "cell_type": "code",
   "execution_count": 164,
   "metadata": {},
   "outputs": [],
   "source": [
    "class sparse_array(object):\n",
    "    \"\"\" Sparse array object. It cannot handle indexing like numpy arrays. \"\"\"\n",
    "    \n",
    "    def __init__(self):\n",
    "        \n",
    "        self.values = {}\n",
    "        \n",
    "    def __getitem__(self, key):\n",
    "        \n",
    "        if np.issubdtype(type(key), np.integer):\n",
    "            return self.values[key] if key in self.values else np.nan\n",
    "        \n",
    "        return np.array([self.values[k] if k in self.values else np.nan for k in key])\n",
    "    \n",
    "    def __setitem__(self, key, value):\n",
    "        \n",
    "        if np.issubdtype(type(key), np.integer): # any integer, meaning a single number\n",
    "            self.values[key] = value\n",
    "        else:\n",
    "            \n",
    "            if np.issubdtype(type(valuee), np.number): # any value, meaning a single number\n",
    "                for k in key:\n",
    "                    self.values[k] = float(value)\n",
    "            else:\n",
    "                for k,val in zip(key, value):\n",
    "                    self.values[k] = val"
   ]
  },
  {
   "cell_type": "code",
   "execution_count": 165,
   "metadata": {},
   "outputs": [
    {
     "data": {
      "text/plain": [
       "True"
      ]
     },
     "execution_count": 165,
     "metadata": {},
     "output_type": "execute_result"
    }
   ],
   "source": [
    "hasattr(a, '__dict__')"
   ]
  },
  {
   "cell_type": "code",
   "execution_count": 166,
   "metadata": {},
   "outputs": [],
   "source": [
    "a = np.random.random(10)"
   ]
  },
  {
   "cell_type": "code",
   "execution_count": null,
   "metadata": {},
   "outputs": [],
   "source": []
  },
  {
   "cell_type": "code",
   "execution_count": 167,
   "metadata": {},
   "outputs": [
    {
     "data": {
      "text/plain": [
       "numpy.float64"
      ]
     },
     "execution_count": 167,
     "metadata": {},
     "output_type": "execute_result"
    }
   ],
   "source": [
    "type(a[0])"
   ]
  },
  {
   "cell_type": "code",
   "execution_count": 168,
   "metadata": {},
   "outputs": [],
   "source": [
    "a = sparse_array()"
   ]
  },
  {
   "cell_type": "code",
   "execution_count": 171,
   "metadata": {},
   "outputs": [
    {
     "ename": "SyntaxError",
     "evalue": "invalid syntax (<ipython-input-171-2aeee988e1d9>, line 1)",
     "output_type": "error",
     "traceback": [
      "\u001b[0;36m  File \u001b[0;32m\"<ipython-input-171-2aeee988e1d9>\"\u001b[0;36m, line \u001b[0;32m1\u001b[0m\n\u001b[0;31m    a = 0:10\u001b[0m\n\u001b[0m         ^\u001b[0m\n\u001b[0;31mSyntaxError\u001b[0m\u001b[0;31m:\u001b[0m invalid syntax\n"
     ]
    }
   ],
   "source": [
    "a = 0:10"
   ]
  },
  {
   "cell_type": "code",
   "execution_count": 169,
   "metadata": {},
   "outputs": [
    {
     "ename": "TypeError",
     "evalue": "'slice' object is not iterable",
     "output_type": "error",
     "traceback": [
      "\u001b[0;31m---------------------------------------------------------------\u001b[0m",
      "\u001b[0;31mTypeError\u001b[0m                     Traceback (most recent call last)",
      "\u001b[0;32m<ipython-input-169-f00854ba11bc>\u001b[0m in \u001b[0;36m<module>\u001b[0;34m\u001b[0m\n\u001b[0;32m----> 1\u001b[0;31m \u001b[0ma\u001b[0m\u001b[0;34m[\u001b[0m\u001b[0;36m0\u001b[0m\u001b[0;34m:\u001b[0m\u001b[0;36m10\u001b[0m\u001b[0;34m]\u001b[0m\u001b[0;34m\u001b[0m\u001b[0;34m\u001b[0m\u001b[0m\n\u001b[0m",
      "\u001b[0;32m<ipython-input-164-e0e93217c61a>\u001b[0m in \u001b[0;36m__getitem__\u001b[0;34m(self, key)\u001b[0m\n\u001b[1;32m     11\u001b[0m             \u001b[0;32mreturn\u001b[0m \u001b[0mself\u001b[0m\u001b[0;34m.\u001b[0m\u001b[0mvalues\u001b[0m\u001b[0;34m[\u001b[0m\u001b[0mkey\u001b[0m\u001b[0;34m]\u001b[0m \u001b[0;32mif\u001b[0m \u001b[0mkey\u001b[0m \u001b[0;32min\u001b[0m \u001b[0mself\u001b[0m\u001b[0;34m.\u001b[0m\u001b[0mvalues\u001b[0m \u001b[0;32melse\u001b[0m \u001b[0mnp\u001b[0m\u001b[0;34m.\u001b[0m\u001b[0mnan\u001b[0m\u001b[0;34m\u001b[0m\u001b[0;34m\u001b[0m\u001b[0m\n\u001b[1;32m     12\u001b[0m \u001b[0;34m\u001b[0m\u001b[0m\n\u001b[0;32m---> 13\u001b[0;31m         \u001b[0;32mreturn\u001b[0m \u001b[0mnp\u001b[0m\u001b[0;34m.\u001b[0m\u001b[0marray\u001b[0m\u001b[0;34m(\u001b[0m\u001b[0;34m[\u001b[0m\u001b[0mself\u001b[0m\u001b[0;34m.\u001b[0m\u001b[0mvalues\u001b[0m\u001b[0;34m[\u001b[0m\u001b[0mk\u001b[0m\u001b[0;34m]\u001b[0m \u001b[0;32mif\u001b[0m \u001b[0mk\u001b[0m \u001b[0;32min\u001b[0m \u001b[0mself\u001b[0m\u001b[0;34m.\u001b[0m\u001b[0mvalues\u001b[0m \u001b[0;32melse\u001b[0m \u001b[0mnp\u001b[0m\u001b[0;34m.\u001b[0m\u001b[0mnan\u001b[0m \u001b[0;32mfor\u001b[0m \u001b[0mk\u001b[0m \u001b[0;32min\u001b[0m \u001b[0mkey\u001b[0m\u001b[0;34m]\u001b[0m\u001b[0;34m)\u001b[0m\u001b[0;34m\u001b[0m\u001b[0;34m\u001b[0m\u001b[0m\n\u001b[0m\u001b[1;32m     14\u001b[0m \u001b[0;34m\u001b[0m\u001b[0m\n\u001b[1;32m     15\u001b[0m     \u001b[0;32mdef\u001b[0m \u001b[0m__setitem__\u001b[0m\u001b[0;34m(\u001b[0m\u001b[0mself\u001b[0m\u001b[0;34m,\u001b[0m \u001b[0mkey\u001b[0m\u001b[0;34m,\u001b[0m \u001b[0mvalue\u001b[0m\u001b[0;34m)\u001b[0m\u001b[0;34m:\u001b[0m\u001b[0;34m\u001b[0m\u001b[0;34m\u001b[0m\u001b[0m\n",
      "\u001b[0;31mTypeError\u001b[0m: 'slice' object is not iterable"
     ]
    }
   ],
   "source": [
    "a[0:10]"
   ]
  },
  {
   "cell_type": "code",
   "execution_count": 161,
   "metadata": {},
   "outputs": [],
   "source": [
    "a[5] = 100"
   ]
  },
  {
   "cell_type": "code",
   "execution_count": 162,
   "metadata": {},
   "outputs": [
    {
     "data": {
      "text/plain": [
       "array([100.,  nan])"
      ]
     },
     "execution_count": 162,
     "metadata": {},
     "output_type": "execute_result"
    }
   ],
   "source": [
    "a[[5, 10]]"
   ]
  },
  {
   "cell_type": "code",
   "execution_count": 163,
   "metadata": {},
   "outputs": [
    {
     "data": {
      "text/plain": [
       "nan"
      ]
     },
     "execution_count": 163,
     "metadata": {},
     "output_type": "execute_result"
    }
   ],
   "source": [
    "a[10]"
   ]
  },
  {
   "cell_type": "code",
   "execution_count": 124,
   "metadata": {},
   "outputs": [],
   "source": [
    "a[[5, 7, 8, 9, 10]] = 10"
   ]
  },
  {
   "cell_type": "code",
   "execution_count": 125,
   "metadata": {},
   "outputs": [],
   "source": [
    "sparse_csc_array = sp.sparse.csc_matrix((30000, 1), dtype=np.uint8)\n",
    "dense_array = np.zeros(30000)\n",
    "sparse_csr_array = sp.sparse.csr_matrix((1, 30000), dtype=np.uint8)\n",
    "sparse_lil_array = sp.sparse.lil_matrix((30000, 1), dtype=np.float64)\n",
    "sparse_dok_array = sp.sparse.dok_matrix((1, 30000), dtype=np.float64)\n",
    "my_sparse_array = sparse_array()"
   ]
  },
  {
   "cell_type": "code",
   "execution_count": 126,
   "metadata": {},
   "outputs": [],
   "source": [
    "sample_idxs = np.random.permutation(30000)[:3000]\n",
    "values = np.random.choice(5, 3000)"
   ]
  },
  {
   "cell_type": "code",
   "execution_count": 127,
   "metadata": {},
   "outputs": [
    {
     "name": "stdout",
     "output_type": "stream",
     "text": [
      "CPU times: user 4 µs, sys: 1 µs, total: 5 µs\n",
      "Wall time: 8.11 µs\n"
     ]
    }
   ],
   "source": [
    "%%time\n",
    "my_sparse_array = sparse_array()"
   ]
  },
  {
   "cell_type": "code",
   "execution_count": 128,
   "metadata": {},
   "outputs": [
    {
     "name": "stdout",
     "output_type": "stream",
     "text": [
      "CPU times: user 154 µs, sys: 1 µs, total: 155 µs\n",
      "Wall time: 159 µs\n"
     ]
    }
   ],
   "source": [
    "%%time\n",
    "sparse_csc_array = sp.sparse.csc_matrix((30000, 1), dtype=np.uint8)\n"
   ]
  },
  {
   "cell_type": "code",
   "execution_count": 129,
   "metadata": {},
   "outputs": [
    {
     "name": "stdout",
     "output_type": "stream",
     "text": [
      "CPU times: user 67.1 ms, sys: 1.43 ms, total: 68.5 ms\n",
      "Wall time: 67.7 ms\n"
     ]
    }
   ],
   "source": [
    "%%time\n",
    "sparse_lil_array = sp.sparse.lil_matrix((30000, 1), dtype=np.float64)\n"
   ]
  },
  {
   "cell_type": "code",
   "execution_count": 130,
   "metadata": {},
   "outputs": [
    {
     "name": "stdout",
     "output_type": "stream",
     "text": [
      "CPU times: user 57 µs, sys: 0 ns, total: 57 µs\n",
      "Wall time: 61.3 µs\n"
     ]
    }
   ],
   "source": [
    "%%time\n",
    "sparse_dok_array = sp.sparse.dok_matrix((1, 30000), dtype=np.float64)"
   ]
  },
  {
   "cell_type": "code",
   "execution_count": 131,
   "metadata": {},
   "outputs": [
    {
     "name": "stdout",
     "output_type": "stream",
     "text": [
      "CPU times: user 712 µs, sys: 60 µs, total: 772 µs\n",
      "Wall time: 776 µs\n"
     ]
    }
   ],
   "source": [
    "%%time\n",
    "my_sparse_array[sample_idxs] = values"
   ]
  },
  {
   "cell_type": "code",
   "execution_count": 135,
   "metadata": {},
   "outputs": [
    {
     "data": {
      "text/plain": [
       "array([4, 4, 0, ..., 4, 3, 2])"
      ]
     },
     "execution_count": 135,
     "metadata": {},
     "output_type": "execute_result"
    }
   ],
   "source": [
    "my_sparse_array[sample_idxs]"
   ]
  },
  {
   "cell_type": "code",
   "execution_count": 133,
   "metadata": {},
   "outputs": [
    {
     "name": "stdout",
     "output_type": "stream",
     "text": [
      "CPU times: user 2.76 ms, sys: 73 µs, total: 2.83 ms\n",
      "Wall time: 2.8 ms\n"
     ]
    }
   ],
   "source": [
    "%%time\n",
    "sparse_dok_array[0, sample_idxs] = values"
   ]
  },
  {
   "cell_type": "code",
   "execution_count": 101,
   "metadata": {},
   "outputs": [
    {
     "name": "stdout",
     "output_type": "stream",
     "text": [
      "CPU times: user 1.93 ms, sys: 1.06 ms, total: 2.99 ms\n",
      "Wall time: 2.01 ms\n"
     ]
    },
    {
     "name": "stderr",
     "output_type": "stream",
     "text": [
      "//anaconda3/envs/single_cell/lib/python3.7/site-packages/scipy/sparse/_index.py:126: SparseEfficiencyWarning: Changing the sparsity structure of a csr_matrix is expensive. lil_matrix is more efficient.\n",
      "  self._set_arrayXarray(i, j, x)\n"
     ]
    }
   ],
   "source": [
    "%%time\n",
    "sparse_csr_array[0, sample_idxs] = values"
   ]
  },
  {
   "cell_type": "code",
   "execution_count": 102,
   "metadata": {},
   "outputs": [
    {
     "name": "stdout",
     "output_type": "stream",
     "text": [
      "CPU times: user 2.08 ms, sys: 1.14 ms, total: 3.22 ms\n",
      "Wall time: 2.18 ms\n"
     ]
    },
    {
     "name": "stderr",
     "output_type": "stream",
     "text": [
      "//anaconda3/envs/single_cell/lib/python3.7/site-packages/scipy/sparse/_index.py:126: SparseEfficiencyWarning: Changing the sparsity structure of a csc_matrix is expensive. lil_matrix is more efficient.\n",
      "  self._set_arrayXarray(i, j, x)\n"
     ]
    }
   ],
   "source": [
    "%%time\n",
    "sparse_csc_array[sample_idxs, 0] = values"
   ]
  },
  {
   "cell_type": "code",
   "execution_count": 103,
   "metadata": {},
   "outputs": [
    {
     "name": "stdout",
     "output_type": "stream",
     "text": [
      "CPU times: user 47 µs, sys: 7 µs, total: 54 µs\n",
      "Wall time: 58.2 µs\n"
     ]
    }
   ],
   "source": [
    "%%time\n",
    "dense_array[sample_idxs] = values"
   ]
  },
  {
   "cell_type": "code",
   "execution_count": 104,
   "metadata": {},
   "outputs": [
    {
     "name": "stdout",
     "output_type": "stream",
     "text": [
      "CPU times: user 1.06 ms, sys: 47 µs, total: 1.11 ms\n",
      "Wall time: 1.11 ms\n"
     ]
    }
   ],
   "source": [
    "%%time\n",
    "sparse_lil_array[sample_idxs, 0] = values"
   ]
  },
  {
   "cell_type": "code",
   "execution_count": 36,
   "metadata": {},
   "outputs": [],
   "source": [
    "sparse_lil_array[:3, 0] = sp.sparse.lil_matrix(np.array([1, 3, 3]).reshape(-1, 1))"
   ]
  },
  {
   "cell_type": "code",
   "execution_count": 974,
   "metadata": {},
   "outputs": [
    {
     "data": {
      "text/plain": [
       "matrix([[1.],\n",
       "        [3.],\n",
       "        [3.],\n",
       "        [0.],\n",
       "        [0.],\n",
       "        [0.],\n",
       "        [0.],\n",
       "        [0.],\n",
       "        [0.],\n",
       "        [0.]])"
      ]
     },
     "execution_count": 974,
     "metadata": {},
     "output_type": "execute_result"
    }
   ],
   "source": [
    "sparse_lil_array[:10, 0].todense()"
   ]
  },
  {
   "cell_type": "code",
   "execution_count": 955,
   "metadata": {},
   "outputs": [
    {
     "data": {
      "text/plain": [
       "array([3, 3, 2, 3, 3])"
      ]
     },
     "execution_count": 955,
     "metadata": {},
     "output_type": "execute_result"
    }
   ],
   "source": [
    "values[:5]"
   ]
  },
  {
   "cell_type": "code",
   "execution_count": 959,
   "metadata": {},
   "outputs": [
    {
     "name": "stdout",
     "output_type": "stream",
     "text": [
      "CPU times: user 1.79 ms, sys: 0 ns, total: 1.79 ms\n",
      "Wall time: 1.78 ms\n"
     ]
    }
   ],
   "source": [
    "%%time\n",
    "a = sparse_lil_array[sample_idxs, 0].todense().T.A1"
   ]
  },
  {
   "cell_type": "code",
   "execution_count": 962,
   "metadata": {},
   "outputs": [
    {
     "name": "stdout",
     "output_type": "stream",
     "text": [
      "CPU times: user 1.55 ms, sys: 0 ns, total: 1.55 ms\n",
      "Wall time: 1.54 ms\n"
     ]
    }
   ],
   "source": [
    "%%time\n",
    "a = sparse_lil_array[sample_idxs, 0].toarray().reshape(-1)"
   ]
  },
  {
   "cell_type": "code",
   "execution_count": null,
   "metadata": {},
   "outputs": [],
   "source": []
  },
  {
   "cell_type": "code",
   "execution_count": null,
   "metadata": {},
   "outputs": [],
   "source": []
  },
  {
   "cell_type": "markdown",
   "metadata": {},
   "source": [
    "### TFKO_140 Dataset sanity check"
   ]
  },
  {
   "cell_type": "raw",
   "metadata": {},
   "source": [
    "tfko_adata = sc.read(data_path + '../../../tfko_140/single_cell/tfko.sng.guides.full.leiden.h5ad')"
   ]
  },
  {
   "cell_type": "raw",
   "metadata": {},
   "source": [
    "tfko_adata_means = tfko_adata.X.mean(axis=0).A1\n",
    "tfko_adata = tfko_adata[:, tfko_adata_means > 0].copy()"
   ]
  },
  {
   "cell_type": "raw",
   "metadata": {},
   "source": [
    "tfko_adata_vars = (tfko_adata.X.power(2).mean(axis=0).A1) - (tfko_adata.X.mean(axis=0).A1)**2"
   ]
  },
  {
   "cell_type": "raw",
   "metadata": {},
   "source": [
    "x_tfko = np.log(tfko_adata_means)\n",
    "y_tfko = np.log(tfko_adata_vars)"
   ]
  },
  {
   "cell_type": "raw",
   "metadata": {},
   "source": [
    "plt.scatter(x_tfko, y_tfko/2-x_tfko, s=1)\n",
    "plt.plot(x_tfko, -x_tfko/2, lw=2, color='r')"
   ]
  },
  {
   "cell_type": "raw",
   "metadata": {},
   "source": [
    "del tfko_adata"
   ]
  },
  {
   "cell_type": "markdown",
   "metadata": {},
   "source": [
    "### Qualitatively assess estimation of q_sq in the interferon data"
   ]
  },
  {
   "cell_type": "code",
   "execution_count": 622,
   "metadata": {},
   "outputs": [
    {
     "name": "stdout",
     "output_type": "stream",
     "text": [
      "E[q^2] falls in [0.00490, 0.00667941], with the current estimate of 0.00600778\n",
      "estimated 0.00600778353214264\n",
      "upper limit 0.00667940500948918\n",
      "lower limit 0.004900000000000001\n"
     ]
    }
   ],
   "source": [
    "imp.reload(scmemo)\n",
    "estimator = scmemo.SingleCellEstimator(\n",
    "    adata=adata, \n",
    "    n_umis_column='n_counts',\n",
    "    num_permute=10000,\n",
    "    q=.07)\n",
    "estimator.compute_observed_moments(verbose=False)\n",
    "estimator.estimate_q_sq(frac=1)\n",
    "estimator.estimate_1d_parameters()\n",
    "\n",
    "observed_content = adata.obs['n_counts']\n",
    "q_sq_upper_lim = (observed_content**2).mean()/observed_content.mean()**2*estimator.q**2\n",
    "q_sq_lower_lim = estimator.q**2\n",
    "print('estimated', estimator.q_sq)\n",
    "print('upper limit', q_sq_upper_lim)\n",
    "print('lower limit', q_sq_lower_lim)\n",
    "\n",
    "x_obs = np.log(estimator.observed_central_moments['all']['first'])\n",
    "y_obs = np.log(estimator.observed_central_moments['all']['second'])\n",
    "\n",
    "x_est = np.log(estimator.estimated_central_moments['all']['first'])\n",
    "y_est = np.log(estimator.estimated_central_moments['all']['second'])"
   ]
  },
  {
   "cell_type": "code",
   "execution_count": 623,
   "metadata": {},
   "outputs": [
    {
     "data": {
      "text/plain": [
       "Text(0, 0.5, 'log( estimated cv )')"
      ]
     },
     "execution_count": 623,
     "metadata": {},
     "output_type": "execute_result"
    },
    {
     "data": {
      "image/png": "[encoded data removed]",
      "text/plain": [
       "<Figure size 576x216 with 2 Axes>"
      ]
     },
     "metadata": {
      "needs_background": "light"
     },
     "output_type": "display_data"
    }
   ],
   "source": [
    "plt.figure(figsize=(8, 3));\n",
    "plt.subplots_adjust(wspace=0.4)\n",
    "plt.subplot(1, 2, 1)\n",
    "estimator.plot_cv_mean_curve('all', estimated=False, plot_noise=True)\n",
    "plt.subplot(1, 2, 2)\n",
    "plt.scatter(x_est, y_est/2-x_est, s=1, alpha=0.5)\n",
    "plt.scatter(x_est[estimator.k_largest_indices], y_est[estimator.k_largest_indices]/2-x_est[estimator.k_largest_indices], s=1, alpha=0.5)\n",
    "plt.plot(x_est, -x_est/2, color='k')\n",
    "plt.title('Estimated mean - cv relationship')\n",
    "plt.xlabel('log( estimated mean )')\n",
    "plt.ylabel('log( estimated cv )')"
   ]
  },
  {
   "cell_type": "markdown",
   "metadata": {},
   "source": [
    "### Assess the correlation between two genes as a function of the expectation. \n",
    "\n",
    "Ideally, there shouldn't be any relationship between these two things. Correlation should be an orthogonal measurement."
   ]
  },
  {
   "cell_type": "code",
   "execution_count": 582,
   "metadata": {},
   "outputs": [
    {
     "name": "stdout",
     "output_type": "stream",
     "text": [
      "corr (0.6220398921276906, 0.0)\n",
      "overall corr mean 0.10659034\n"
     ]
    },
    {
     "data": {
      "image/png": "[encoded data removed]",
      "text/plain": [
       "<Figure size 320x240 with 1 Axes>"
      ]
     },
     "metadata": {
      "image/png": {
       "height": 221,
       "width": 298
      },
      "needs_background": "light"
     },
     "output_type": "display_data"
    }
   ],
   "source": [
    "# minimal q_sq\n",
    "means = estimator.parameters['all']['log_mean']\n",
    "corr_means = np.nanmean(estimator.parameters['all']['corr'].toarray(), axis=0)\n",
    "plt.scatter(means, corr_means, s=1, alpha=0.1)\n",
    "print('corr', utils.robust_corr(means[means<2], corr_means[means<2]))\n",
    "print('overall corr mean', np.nanmean(estimator.parameters['all']['corr'].toarray()))"
   ]
  },
  {
   "cell_type": "code",
   "execution_count": 580,
   "metadata": {},
   "outputs": [
    {
     "name": "stdout",
     "output_type": "stream",
     "text": [
      "corr (-0.13309966872329132, 1.4572298007932834e-14)\n",
      "overall corr mean -0.032476626\n"
     ]
    },
    {
     "data": {
      "image/png": "[encoded data removed]",
      "text/plain": [
       "<Figure size 320x240 with 1 Axes>"
      ]
     },
     "metadata": {
      "image/png": {
       "height": 221,
       "width": 321
      },
      "needs_background": "light"
     },
     "output_type": "display_data"
    }
   ],
   "source": [
    "# actual q_sq\n",
    "means = estimator.parameters['all']['log_mean']\n",
    "corr_means = np.nanmean(estimator.parameters['all']['corr'].toarray(), axis=0)\n",
    "plt.scatter(means, corr_means, s=1, alpha=0.1)\n",
    "print('corr', utils.robust_corr(means[means<2], corr_means[means<2]))\n",
    "print('overall corr mean', np.nanmean(estimator.parameters['all']['corr'].toarray()))"
   ]
  },
  {
   "cell_type": "markdown",
   "metadata": {},
   "source": [
    "### Correlation dependency on the mean"
   ]
  },
  {
   "cell_type": "code",
   "execution_count": 208,
   "metadata": {},
   "outputs": [],
   "source": [
    "adata.obs['course_cell_type'] = 'PBMC'"
   ]
  },
  {
   "cell_type": "code",
   "execution_count": 209,
   "metadata": {},
   "outputs": [
    {
     "name": "stdout",
     "output_type": "stream",
     "text": [
      "E[q^2] falls in [0.00490, 0.00656014], with the current estimate of 0.00583674\n"
     ]
    }
   ],
   "source": [
    "imp.reload(utils)\n",
    "imp.reload(scmemo)\n",
    "estimator = scmemo.SingleCellEstimator(\n",
    "    adata=adata,\n",
    "    n_umis_column='n_counts',\n",
    "    covariate_label='stim',\n",
    "    replicate_label=None,\n",
    "    batch_label=None,\n",
    "    subsection_label='course_cell_type',\n",
    "    num_permute=10000,\n",
    "    covariate_converter={'ctrl':0, 'stim':1},\n",
    "    q=.07)\n",
    "estimator.compute_observed_moments(verbose=False)\n",
    "estimator.estimate_q_sq(frac=0.3)"
   ]
  },
  {
   "cell_type": "code",
   "execution_count": 210,
   "metadata": {},
   "outputs": [],
   "source": [
    "sample_idxs = np.random.choice(adata.var.shape[0], 500)\n",
    "sample_genes = adata.var.index[sample_idxs].tolist()"
   ]
  },
  {
   "cell_type": "code",
   "execution_count": 211,
   "metadata": {},
   "outputs": [],
   "source": [
    "estimator.estimate_1d_parameters()\n",
    "estimator.estimate_2d_parameters(sample_genes, sample_genes)\n"
   ]
  },
  {
   "cell_type": "code",
   "execution_count": 167,
   "metadata": {},
   "outputs": [],
   "source": [
    "means = []\n",
    "median_corrs = []\n",
    "for group in estimator.groups:\n",
    "    means.append(estimator.parameters[group]['log_mean'][sample_idxs])\n",
    "    median_corrs.append(np.nanmean(estimator.parameters[group]['corr'][sample_idxs, :][:, sample_idxs].toarray(), axis=0))\n",
    "means = np.concatenate(means)\n",
    "median_corrs = np.concatenate(median_corrs)"
   ]
  },
  {
   "cell_type": "markdown",
   "metadata": {},
   "source": [
    "### Sanity check known correlations"
   ]
  },
  {
   "cell_type": "code",
   "execution_count": 212,
   "metadata": {},
   "outputs": [],
   "source": [
    "highcount_genes = adata.var.copy()\n",
    "highcount_genes['gene'] = highcount_genes.index.tolist()"
   ]
  },
  {
   "cell_type": "code",
   "execution_count": 213,
   "metadata": {},
   "outputs": [],
   "source": [
    "isgf3_df = pd.read_csv(data_path + 'chipseq/isgf3/isgf3_genes.bed', sep='\\t', header=None).iloc[:, [-2, -1]]\n",
    "isgf3_df.columns=['gene_name', 'distance']\n",
    "isgf3_df = isgf3_df.query('distance == 0')\n",
    "isgf3_df = isgf3_df.merge(highcount_genes[['gene_name', 'gene_ids', 'gene']], on='gene_name', how='inner')\n",
    "isgf3_genes = isgf3_df['gene'].drop_duplicates().tolist()"
   ]
  },
  {
   "cell_type": "code",
   "execution_count": 215,
   "metadata": {},
   "outputs": [
    {
     "name": "stdout",
     "output_type": "stream",
     "text": [
      "E[q^2] falls in [0.00490, 0.00656014], with the current estimate of 0.00583674\n"
     ]
    }
   ],
   "source": [
    "imp.reload(utils)\n",
    "imp.reload(scmemo)\n",
    "estimator = scmemo.SingleCellEstimator(\n",
    "    adata=adata,\n",
    "    n_umis_column='n_counts',\n",
    "    covariate_label='stim',\n",
    "    replicate_label='ind',\n",
    "    batch_label=None,\n",
    "    subsection_label='course_cell_type',\n",
    "    num_permute=10000,\n",
    "    covariate_converter={'ctrl':0, 'stim':1},\n",
    "    q=.07)\n",
    "estimator.compute_observed_moments(verbose=False)\n",
    "estimator.estimate_q_sq(frac=0.3)"
   ]
  },
  {
   "cell_type": "code",
   "execution_count": 216,
   "metadata": {},
   "outputs": [],
   "source": [
    "gene_list_1, gene_list_2 = [ 'STAT1', 'STAT2'], isgf3_genes\n",
    "gene_idxs_1, gene_idxs_2 = estimator._get_gene_idxs(gene_list_1), estimator._get_gene_idxs(gene_list_2)"
   ]
  },
  {
   "cell_type": "code",
   "execution_count": 217,
   "metadata": {},
   "outputs": [],
   "source": [
    "estimator.setup_hypothesis_testing(['PBMC'])"
   ]
  },
  {
   "cell_type": "code",
   "execution_count": 218,
   "metadata": {},
   "outputs": [
    {
     "name": "stdout",
     "output_type": "stream",
     "text": [
      "CPU times: user 71.9 ms, sys: 2.03 ms, total: 74 ms\n",
      "Wall time: 65.6 ms\n"
     ]
    }
   ],
   "source": [
    "%%time\n",
    "estimator.estimate_1d_parameters()\n",
    "estimator.compute_effect_sizes_1d()\n",
    "# estimator.compute_confidence_intervals_1d()"
   ]
  },
  {
   "cell_type": "code",
   "execution_count": 219,
   "metadata": {},
   "outputs": [],
   "source": [
    "estimator.estimate_2d_parameters(gene_list_1, gene_list_2)\n",
    "estimator.compute_effect_sizes_2d(gene_list_1, gene_list_2)"
   ]
  },
  {
   "cell_type": "code",
   "execution_count": 220,
   "metadata": {},
   "outputs": [
    {
     "name": "stdout",
     "output_type": "stream",
     "text": [
      "CPU times: user 3min 56s, sys: 23.3 s, total: 4min 20s\n",
      "Wall time: 2min 5s\n"
     ]
    }
   ],
   "source": [
    "%%time\n",
    "estimator.compute_confidence_intervals_2d(gene_list_1, gene_list_2)"
   ]
  },
  {
   "cell_type": "code",
   "execution_count": 230,
   "metadata": {},
   "outputs": [
    {
     "data": {
      "text/plain": [
       "0.04218902"
      ]
     },
     "execution_count": 230,
     "metadata": {},
     "output_type": "execute_result"
    }
   ],
   "source": [
    "estimator.hypothesis_test_result['PBMC']['dc_effect_size'][gene_idxs_1, :][:, gene_idxs_2].todense()[0, :].A1.mean()"
   ]
  },
  {
   "cell_type": "code",
   "execution_count": 241,
   "metadata": {},
   "outputs": [],
   "source": [
    "stat1_effect_size = \\\n",
    "    estimator.hypothesis_test_result['PBMC']['dc_effect_size'][gene_idxs_1, :][:, gene_idxs_2]\\\n",
    "    .todense()[0, :].A1\n",
    "stat2_effect_size = \\\n",
    "    estimator.hypothesis_test_result['PBMC']['dc_effect_size'][gene_idxs_1, :][:, gene_idxs_2]\\\n",
    "    .todense()[1, :].A1\n",
    "stat1_pvals = \\\n",
    "    estimator.hypothesis_test_result['PBMC']['dc_pval'][gene_idxs_1, :][:, gene_idxs_2]\\\n",
    "    .todense()[0, :].A1\n",
    "stat2_pvals = \\\n",
    "    estimator.hypothesis_test_result['PBMC']['dc_pval'][gene_idxs_1, :][:, gene_idxs_2]\\\n",
    "    .todense()[1, :].A1"
   ]
  },
  {
   "cell_type": "code",
   "execution_count": 478,
   "metadata": {},
   "outputs": [
    {
     "data": {
      "text/plain": [
       "array([ 1.66702673e-01,  7.14170933e-03,  1.58807471e-01,  3.87321413e-02,\n",
       "        7.78314248e-02,  5.97702079e-02, -6.86575323e-02,  3.37967351e-02,\n",
       "        1.35393947e-01,  3.37775908e-02,  9.22059491e-02, -7.84675777e-02,\n",
       "        1.53891712e-01,  1.72906771e-01,  1.68017477e-01,  1.20765381e-01,\n",
       "        4.44723619e-03, -3.83245386e-02, -2.41982535e-01,  2.84156785e-03,\n",
       "        1.08625414e-03,  3.44101153e-02, -5.19023836e-02,  6.91946894e-02,\n",
       "       -4.61255349e-02, -2.51306803e-04,  4.44837622e-02,  2.08861619e-01,\n",
       "        2.19246373e-01,  9.61949229e-02, -3.10540833e-02,  9.63045936e-03,\n",
       "        1.57404527e-01, -1.37050614e-01, -1.13524254e-02,  8.58241171e-02,\n",
       "        8.00931007e-02,  6.29005358e-02, -1.53882772e-01,  2.09638938e-01,\n",
       "        1.48946671e-02, -5.61694279e-02,  3.37284878e-02,  4.51222062e-02,\n",
       "        7.53353462e-02, -9.18429531e-03,  6.09506853e-02,  2.98828464e-02,\n",
       "        1.81093812e-01,  2.52153706e-02,  2.07966819e-01,  2.20514163e-01,\n",
       "        1.25338696e-02,  1.73585474e-01,  1.28784284e-01, -1.00852931e-02,\n",
       "        4.28434946e-02, -3.71283763e-16,  1.42953679e-01,  1.23773515e-01,\n",
       "       -7.30054677e-02,  2.63115522e-02,  2.22982541e-01, -5.65380529e-02,\n",
       "        1.83409721e-01,  2.34344989e-01, -8.45816210e-02,  1.48669273e-01,\n",
       "       -1.92572564e-01, -5.65531291e-02, -6.84780627e-02,  2.30713133e-02,\n",
       "       -1.05882697e-01, -1.08383119e-01,  3.38351801e-02,  1.47583708e-01,\n",
       "        1.90583263e-02,  3.38685513e-02, -1.29810683e-02, -2.82939263e-02,\n",
       "        1.56865045e-01,  6.77210093e-02,  3.21709692e-01,  6.39637634e-02,\n",
       "        1.20070934e-01,  5.65296188e-02, -3.04121021e-02,  1.94351524e-01,\n",
       "        6.62124306e-02, -1.92378476e-01, -1.29224241e-01, -7.37048537e-02,\n",
       "        8.31521451e-02, -1.11670963e-01,  3.72737795e-02, -1.41131468e-02,\n",
       "        1.57006849e-02, -5.28625101e-02, -4.12539393e-02,  4.06090170e-02,\n",
       "       -3.04809865e-02,  1.03428781e-01,  1.42699391e-01, -5.59028052e-02,\n",
       "       -2.63923705e-02, -7.76849613e-02,  4.45478633e-02,  1.37648821e-01,\n",
       "        1.18311308e-01, -3.78104448e-02,  1.97171912e-01,  5.45406267e-02],\n",
       "      dtype=float32)"
      ]
     },
     "execution_count": 478,
     "metadata": {},
     "output_type": "execute_result"
    }
   ],
   "source": [
    "stat1_effect_size"
   ]
  },
  {
   "cell_type": "code",
   "execution_count": 479,
   "metadata": {},
   "outputs": [
    {
     "data": {
      "text/plain": [
       "array([ 2.75495023e-01,  2.84356773e-01,  3.42401117e-01,  1.89631194e-01,\n",
       "        7.79870898e-02,  1.66966356e-02,  1.40642703e-01, -9.57057402e-02,\n",
       "        1.53120086e-01,  1.08517982e-01,  2.99992561e-01, -3.36988233e-02,\n",
       "        1.64594859e-01,  2.44968861e-01,  2.84728408e-02,  3.30180734e-01,\n",
       "        1.97286665e-01,  1.87503681e-01, -9.34909731e-02,  1.23034053e-01,\n",
       "       -1.21245831e-02, -7.64667690e-02, -1.32986084e-01,  1.97814867e-01,\n",
       "       -3.71283763e-16,  2.50941843e-01,  1.93425074e-01,  2.39820361e-01,\n",
       "        2.53113031e-01,  1.63341522e-01,  1.16606057e-01,  6.41604364e-02,\n",
       "        2.46400684e-01, -3.20894092e-01,  1.77702010e-01,  1.02175578e-01,\n",
       "        1.10782824e-01,  2.23035753e-01,  1.45433605e-01,  1.14294119e-01,\n",
       "        2.16457009e-01,  2.25251362e-01, -6.02170527e-02,  2.41353422e-01,\n",
       "       -1.59425717e-02,  7.94149488e-02,  2.76277047e-02,  6.40885532e-02,\n",
       "        1.99207693e-01,  5.76160140e-02,  1.68874323e-01,  2.27922291e-01,\n",
       "        1.04983866e-01,  2.74508242e-02,  5.36111705e-02,  6.55604899e-02,\n",
       "        2.25214690e-01, -4.61255349e-02,  1.39588088e-01,  5.11849001e-02,\n",
       "       -3.16268839e-02,  2.15202123e-01,  1.74795717e-01,  3.40212956e-02,\n",
       "        2.77070552e-01,  1.87576488e-01,  1.16237506e-01, -1.40452772e-01,\n",
       "        9.23075452e-02,  4.93964106e-02,  1.14982851e-01,  1.64299086e-01,\n",
       "        8.77369419e-02,  2.69772947e-01,  2.52377521e-02,  3.09194863e-01,\n",
       "        2.77428091e-01,  2.12943837e-01,  1.06133424e-01, -8.58578831e-02,\n",
       "        1.97896689e-01,  1.47810310e-01,  2.48636708e-01,  1.16023970e-04,\n",
       "        3.11534554e-01, -2.16188431e-02, -2.62965206e-02,  3.04120183e-01,\n",
       "        1.45250544e-01, -1.49959065e-02, -7.88614675e-02,  5.46531826e-02,\n",
       "        3.06532890e-01,  1.34660557e-01, -2.70812120e-02, -1.50696918e-01,\n",
       "        1.29720354e-02,  2.71022230e-01,  1.51438639e-01,  1.15964450e-01,\n",
       "       -6.67096749e-02, -7.55956471e-02,  2.27269247e-01,  4.07294892e-02,\n",
       "        1.82332084e-01,  9.38349664e-02,  9.25795138e-02,  1.35705322e-01,\n",
       "        3.65230560e-01,  1.80725276e-01,  9.22515094e-02,  1.77979574e-01],\n",
       "      dtype=float32)"
      ]
     },
     "execution_count": 479,
     "metadata": {},
     "output_type": "execute_result"
    }
   ],
   "source": [
    "stat2_effect_size"
   ]
  },
  {
   "cell_type": "code",
   "execution_count": 242,
   "metadata": {},
   "outputs": [
    {
     "data": {
      "text/plain": [
       "20"
      ]
     },
     "execution_count": 242,
     "metadata": {},
     "output_type": "execute_result"
    }
   ],
   "source": [
    "((stat1_effect_size > 0) & (stat1_pvals < 0.05)).sum()"
   ]
  },
  {
   "cell_type": "code",
   "execution_count": 243,
   "metadata": {},
   "outputs": [
    {
     "data": {
      "text/plain": [
       "40"
      ]
     },
     "execution_count": 243,
     "metadata": {},
     "output_type": "execute_result"
    }
   ],
   "source": [
    "((stat2_effect_size > 0) & (stat2_pvals < 0.05)).sum()"
   ]
  },
  {
   "cell_type": "code",
   "execution_count": 238,
   "metadata": {},
   "outputs": [
    {
     "data": {
      "text/plain": [
       "28"
      ]
     },
     "execution_count": 238,
     "metadata": {},
     "output_type": "execute_result"
    }
   ],
   "source": [
    "(stat1_pvals < 0.05).sum()"
   ]
  },
  {
   "cell_type": "code",
   "execution_count": 240,
   "metadata": {},
   "outputs": [
    {
     "data": {
      "text/plain": [
       "43"
      ]
     },
     "execution_count": 240,
     "metadata": {},
     "output_type": "execute_result"
    }
   ],
   "source": [
    "(stat2_pvals < 0.05).sum()"
   ]
  },
  {
   "cell_type": "code",
   "execution_count": 237,
   "metadata": {},
   "outputs": [
    {
     "data": {
      "text/plain": [
       "112"
      ]
     },
     "execution_count": 237,
     "metadata": {},
     "output_type": "execute_result"
    }
   ],
   "source": [
    "len(isgf3_genes)"
   ]
  },
  {
   "cell_type": "code",
   "execution_count": null,
   "metadata": {},
   "outputs": [],
   "source": [
    "stat1_pv"
   ]
  },
  {
   "cell_type": "markdown",
   "metadata": {},
   "source": [
    "### Implementation scratch"
   ]
  },
  {
   "cell_type": "code",
   "execution_count": 363,
   "metadata": {},
   "outputs": [],
   "source": [
    "X = adata.X[:, 0:1000].copy()"
   ]
  },
  {
   "cell_type": "code",
   "execution_count": 364,
   "metadata": {},
   "outputs": [],
   "source": [
    "Y = adata.X[:, 15:1000].copy()"
   ]
  },
  {
   "cell_type": "code",
   "execution_count": 381,
   "metadata": {},
   "outputs": [],
   "source": [
    "def _compute_1d_statistics(observed, N, smooth=True):\n",
    "\t\"\"\" Compute some non central moments of the observed data. \"\"\"\n",
    "\n",
    "\tpseudocount = 1/observed.shape[1] if smooth else 0\n",
    "\n",
    "\tif type(observed) != np.ndarray:\n",
    "\n",
    "\t\t# count unique values in each column\n",
    "\t\t#unique_counts = pd.DataFrame(observed.toarray()).nunique().values\n",
    "\n",
    "\t\tfirst = (observed.sum(axis=0).A1 + pseudocount)/(observed.shape[0]+pseudocount*observed.shape[1])\n",
    "\t\tc = observed.copy()\n",
    "\t\tc.data **= 2\n",
    "\t\tsecond = (c.sum(axis=0).A1 + pseudocount)/(observed.shape[0]+pseudocount*observed.shape[1])\n",
    "\t\tdel c\n",
    "\n",
    "\telse:\n",
    "\n",
    "\t\t#unique_counts = pd.DataFrame(observed).nunique().values\n",
    "\t\tfirst = (observed.sum(axis=0) + pseudocount)/(observed.shape[0]+pseudocount*observed.shape[1])\n",
    "\t\tsecond = ((observed**2).sum(axis=0) + pseudocount)/(observed.shape[0]+pseudocount*observed.shape[1])\n",
    "\n",
    "\t# Return the first moment, second moment, expectation of the product\n",
    "\t# Make some columns into NaN\n",
    "\t#econd[unique_counts <= 2] = np.nan\n",
    "\treturn first, second"
   ]
  },
  {
   "cell_type": "code",
   "execution_count": 378,
   "metadata": {},
   "outputs": [],
   "source": [
    "row_mat = adata.X\n",
    "col_mat = adata.X.tocsc()"
   ]
  },
  {
   "cell_type": "code",
   "execution_count": 379,
   "metadata": {},
   "outputs": [
    {
     "name": "stdout",
     "output_type": "stream",
     "text": [
      "CPU times: user 24.3 ms, sys: 66 µs, total: 24.3 ms\n",
      "Wall time: 23.7 ms\n"
     ]
    }
   ],
   "source": [
    "%%time\n",
    "temp1 = row_mat[:, [3, 5, 3, 1, 3, 4]]"
   ]
  },
  {
   "cell_type": "code",
   "execution_count": 380,
   "metadata": {},
   "outputs": [
    {
     "name": "stdout",
     "output_type": "stream",
     "text": [
      "CPU times: user 634 µs, sys: 175 µs, total: 809 µs\n",
      "Wall time: 525 µs\n"
     ]
    }
   ],
   "source": [
    "%%time\n",
    "temp1 = col_mat[:, [3, 5, 3, 1, 3, 4]]"
   ]
  },
  {
   "cell_type": "code",
   "execution_count": 395,
   "metadata": {},
   "outputs": [
    {
     "name": "stdout",
     "output_type": "stream",
     "text": [
      "CPU times: user 644 µs, sys: 178 µs, total: 822 µs\n",
      "Wall time: 564 µs\n"
     ]
    }
   ],
   "source": [
    "%%time\n",
    "temp1 = row_mat[[3, 5, 3, 1, 3, 4, 5, 6, 7, 8, 9], :]"
   ]
  },
  {
   "cell_type": "code",
   "execution_count": 394,
   "metadata": {},
   "outputs": [
    {
     "name": "stdout",
     "output_type": "stream",
     "text": [
      "CPU times: user 24.7 ms, sys: 0 ns, total: 24.7 ms\n",
      "Wall time: 23.9 ms\n"
     ]
    }
   ],
   "source": [
    "%%time\n",
    "temp1 = col_mat[[3, 5, 3, 1, 3, 4, 5, 6, 7, 8, 9], :]"
   ]
  },
  {
   "cell_type": "code",
   "execution_count": 391,
   "metadata": {},
   "outputs": [
    {
     "name": "stdout",
     "output_type": "stream",
     "text": [
      "CPU times: user 13.5 ms, sys: 3.32 ms, total: 16.9 ms\n",
      "Wall time: 15.9 ms\n"
     ]
    },
    {
     "data": {
      "text/plain": [
       "matrix([[2.10400e+03, 5.88100e+03, 5.74972e+05, ..., 1.66000e+02,\n",
       "         3.25000e+02, 6.94200e+03]], dtype=float32)"
      ]
     },
     "execution_count": 391,
     "metadata": {},
     "output_type": "execute_result"
    }
   ],
   "source": [
    "%%time\n",
    "row_mat.sum(axis=0)"
   ]
  },
  {
   "cell_type": "code",
   "execution_count": 393,
   "metadata": {},
   "outputs": [
    {
     "name": "stdout",
     "output_type": "stream",
     "text": [
      "CPU times: user 149 ms, sys: 36.3 ms, total: 185 ms\n",
      "Wall time: 184 ms\n"
     ]
    },
    {
     "data": {
      "text/plain": [
       "<29065x5696 sparse matrix of type '<class 'numpy.float32'>'\n",
       "\twith 15546935 stored elements in Compressed Sparse Column format>"
      ]
     },
     "execution_count": 393,
     "metadata": {},
     "output_type": "execute_result"
    }
   ],
   "source": [
    "%%time\n",
    "adata.X.tocsc()"
   ]
  },
  {
   "cell_type": "code",
   "execution_count": 392,
   "metadata": {},
   "outputs": [
    {
     "name": "stdout",
     "output_type": "stream",
     "text": [
      "CPU times: user 6.58 ms, sys: 0 ns, total: 6.58 ms\n",
      "Wall time: 5.86 ms\n"
     ]
    },
    {
     "data": {
      "text/plain": [
       "matrix([[2.10400e+03, 5.88100e+03, 5.74972e+05, ..., 1.66000e+02,\n",
       "         3.25000e+02, 6.94200e+03]], dtype=float32)"
      ]
     },
     "execution_count": 392,
     "metadata": {},
     "output_type": "execute_result"
    }
   ],
   "source": [
    "%%time\n",
    "col_mat.sum(axis=0)"
   ]
  },
  {
   "cell_type": "code",
   "execution_count": 423,
   "metadata": {},
   "outputs": [],
   "source": [
    "adata.X = adata.X.astype(np.int32).tocsc()"
   ]
  },
  {
   "cell_type": "code",
   "execution_count": 424,
   "metadata": {},
   "outputs": [],
   "source": [
    "def sparse_bincount(col):\n",
    "    \n",
    "    counts = np.bincount(col.data)\n",
    "    counts[0] = col.shape[0] - col.data.shape[0]\n",
    "    return counts"
   ]
  },
  {
   "cell_type": "code",
   "execution_count": 427,
   "metadata": {},
   "outputs": [
    {
     "name": "stdout",
     "output_type": "stream",
     "text": [
      "CPU times: user 1.79 ms, sys: 494 µs, total: 2.28 ms\n",
      "Wall time: 1.65 ms\n"
     ]
    }
   ],
   "source": [
    "%%time\n",
    "a = np.unique(adata.X[:, 2].toarray().reshape(-1))"
   ]
  },
  {
   "cell_type": "code",
   "execution_count": 426,
   "metadata": {},
   "outputs": [
    {
     "name": "stdout",
     "output_type": "stream",
     "text": [
      "CPU times: user 812 µs, sys: 0 ns, total: 812 µs\n",
      "Wall time: 537 µs\n"
     ]
    }
   ],
   "source": [
    "%%time\n",
    "b = sparse_bincount(adata.X[:, 2])"
   ]
  },
  {
   "cell_type": "code",
   "execution_count": 469,
   "metadata": {},
   "outputs": [],
   "source": [
    "def pair(k1, k2, safe=True):\n",
    "    \"\"\"\n",
    "    Cantor pairing function\n",
    "    http://en.wikipedia.org/wiki/Pairing_function#Cantor_pairing_function\n",
    "    \"\"\"\n",
    "    z = (0.5 * (k1 + k2) * (k1 + k2 + 1) + k2)#.astype(int)\n",
    "    return z\n",
    "\n",
    "\n",
    "def depair(z):\n",
    "    \"\"\"\n",
    "    Inverse of Cantor pairing function\n",
    "    http://en.wikipedia.org/wiki/Pairing_function#Inverting_the_Cantor_pairing_function\n",
    "    \"\"\"\n",
    "    w = np.floor((np.sqrt(8 * z + 1) - 1)/2)\n",
    "    t = (w**2 + w) / 2\n",
    "    y = (z - t).astype(int)\n",
    "    x = (w - y).astype(int)\n",
    "    return x, y"
   ]
  },
  {
   "cell_type": "code",
   "execution_count": 471,
   "metadata": {},
   "outputs": [],
   "source": [
    "col_1 = adata.X[:, 2]\n",
    "col_2 = adata.X[:, 1]"
   ]
  },
  {
   "cell_type": "code",
   "execution_count": 472,
   "metadata": {},
   "outputs": [
    {
     "name": "stdout",
     "output_type": "stream",
     "text": [
      "CPU times: user 1.97 ms, sys: 0 ns, total: 1.97 ms\n",
      "Wall time: 1.47 ms\n"
     ]
    }
   ],
   "source": [
    "%%time\n",
    "a = pair(col_1.todense().A1, col_2.todense().A1)"
   ]
  },
  {
   "cell_type": "code",
   "execution_count": 473,
   "metadata": {},
   "outputs": [
    {
     "data": {
      "text/plain": [
       "array([ 0.,  0.,  0., ..., 10., 36.,  6.])"
      ]
     },
     "execution_count": 473,
     "metadata": {},
     "output_type": "execute_result"
    }
   ],
   "source": [
    "a"
   ]
  },
  {
   "cell_type": "code",
   "execution_count": 468,
   "metadata": {},
   "outputs": [
    {
     "ename": "NotImplementedError",
     "evalue": "adding a nonzero scalar to a sparse matrix is not supported",
     "output_type": "error",
     "traceback": [
      "\u001b[0;31m------------------------------------------------------------------\u001b[0m",
      "\u001b[0;31mNotImplementedError\u001b[0m              Traceback (most recent call last)",
      "\u001b[0;32m<timed exec>\u001b[0m in \u001b[0;36m<module>\u001b[0;34m\u001b[0m\n",
      "\u001b[0;32m<ipython-input-428-2788e58e68f9>\u001b[0m in \u001b[0;36mpair\u001b[0;34m(k1, k2, safe)\u001b[0m\n\u001b[1;32m      4\u001b[0m     \u001b[0mhttp\u001b[0m\u001b[0;34m:\u001b[0m\u001b[0;34m//\u001b[0m\u001b[0men\u001b[0m\u001b[0;34m.\u001b[0m\u001b[0mwikipedia\u001b[0m\u001b[0;34m.\u001b[0m\u001b[0morg\u001b[0m\u001b[0;34m/\u001b[0m\u001b[0mwiki\u001b[0m\u001b[0;34m/\u001b[0m\u001b[0mPairing_function\u001b[0m\u001b[0;31m#Cantor_pairing_function\u001b[0m\u001b[0;34m\u001b[0m\u001b[0;34m\u001b[0m\u001b[0m\n\u001b[1;32m      5\u001b[0m     \"\"\"\n\u001b[0;32m----> 6\u001b[0;31m     \u001b[0mz\u001b[0m \u001b[0;34m=\u001b[0m \u001b[0;34m(\u001b[0m\u001b[0;36m0.5\u001b[0m \u001b[0;34m*\u001b[0m \u001b[0;34m(\u001b[0m\u001b[0mk1\u001b[0m \u001b[0;34m+\u001b[0m \u001b[0mk2\u001b[0m\u001b[0;34m)\u001b[0m \u001b[0;34m*\u001b[0m \u001b[0;34m(\u001b[0m\u001b[0mk1\u001b[0m \u001b[0;34m+\u001b[0m \u001b[0mk2\u001b[0m \u001b[0;34m+\u001b[0m \u001b[0;36m1\u001b[0m\u001b[0;34m)\u001b[0m \u001b[0;34m+\u001b[0m \u001b[0mk2\u001b[0m\u001b[0;34m)\u001b[0m\u001b[0;34m.\u001b[0m\u001b[0mastype\u001b[0m\u001b[0;34m(\u001b[0m\u001b[0mint\u001b[0m\u001b[0;34m)\u001b[0m\u001b[0;34m\u001b[0m\u001b[0;34m\u001b[0m\u001b[0m\n\u001b[0m\u001b[1;32m      7\u001b[0m     \u001b[0;32mreturn\u001b[0m \u001b[0mz\u001b[0m\u001b[0;34m\u001b[0m\u001b[0;34m\u001b[0m\u001b[0m\n\u001b[1;32m      8\u001b[0m \u001b[0;34m\u001b[0m\u001b[0m\n",
      "\u001b[0;32m~/anaconda3/envs/single_cell/lib/python3.7/site-packages/scipy/sparse/base.py\u001b[0m in \u001b[0;36m__add__\u001b[0;34m(self, other)\u001b[0m\n\u001b[1;32m    409\u001b[0m                 \u001b[0;32mreturn\u001b[0m \u001b[0mself\u001b[0m\u001b[0;34m.\u001b[0m\u001b[0mcopy\u001b[0m\u001b[0;34m(\u001b[0m\u001b[0;34m)\u001b[0m\u001b[0;34m\u001b[0m\u001b[0;34m\u001b[0m\u001b[0m\n\u001b[1;32m    410\u001b[0m             \u001b[0;31m# Now we would add this scalar to every element.\u001b[0m\u001b[0;34m\u001b[0m\u001b[0;34m\u001b[0m\u001b[0;34m\u001b[0m\u001b[0m\n\u001b[0;32m--> 411\u001b[0;31m             raise NotImplementedError('adding a nonzero scalar to a '\n\u001b[0m\u001b[1;32m    412\u001b[0m                                       'sparse matrix is not supported')\n\u001b[1;32m    413\u001b[0m         \u001b[0;32melif\u001b[0m \u001b[0misspmatrix\u001b[0m\u001b[0;34m(\u001b[0m\u001b[0mother\u001b[0m\u001b[0;34m)\u001b[0m\u001b[0;34m:\u001b[0m\u001b[0;34m\u001b[0m\u001b[0;34m\u001b[0m\u001b[0m\n",
      "\u001b[0;31mNotImplementedError\u001b[0m: adding a nonzero scalar to a sparse matrix is not supported"
     ]
    }
   ],
   "source": [
    "%%time\n",
    "a = pair(col_1, col_2)"
   ]
  },
  {
   "cell_type": "markdown",
   "metadata": {},
   "source": [
    "### Scratch"
   ]
  },
  {
   "cell_type": "code",
   "execution_count": 476,
   "metadata": {},
   "outputs": [
    {
     "data": {
      "text/plain": [
       "array([False, False,  True, ..., False, False, False])"
      ]
     },
     "execution_count": 476,
     "metadata": {},
     "output_type": "execute_result"
    }
   ],
   "source": [
    "(adata.var['n_max'] > 50).values"
   ]
  },
  {
   "cell_type": "code",
   "execution_count": 477,
   "metadata": {},
   "outputs": [
    {
     "name": "stdout",
     "output_type": "stream",
     "text": [
      "AnnData object with n_obs × n_vars = 29065 × 118 \n",
      "    obs: 'tsne1', 'tsne2', 'ind', 'stim', 'cluster', 'cell', 'multiplets', 'n_counts', 'cell_type'\n",
      "    var: 'gene_ids', 'n_max', 'n_cell', '#chrom', 'chromStart', 'chromEnd', 'clusterId', 'transcript', 'protein', 'gene_name', 'idx'\n",
      "    uns: 'cell_type_colors'\n",
      "    obsm: 'X_tsne'\n"
     ]
    }
   ],
   "source": [
    "adata_test = adata[:, (adata.var['n_max'] > 50).values].copy()"
   ]
  },
  {
   "cell_type": "code",
   "execution_count": 485,
   "metadata": {},
   "outputs": [],
   "source": [
    "adata_test.obs['coarse_cell_type'] = 'PBMC'"
   ]
  },
  {
   "cell_type": "code",
   "execution_count": 601,
   "metadata": {},
   "outputs": [],
   "source": [
    "imp.reload(utils)\n",
    "imp.reload(scmemo)\n",
    "estimator = scmemo.SingleCellEstimator(\n",
    "    adata=adata,\n",
    "    n_umis_column='n_counts',\n",
    "    covariate_label='stim',\n",
    "    replicate_label='ind',\n",
    "    batch_label=None,\n",
    "    subsection_label='cell',\n",
    "    num_permute=10000,\n",
    "    covariate_converter={'ctrl':0, 'stim':1},\n",
    "    q=.07,\n",
    "    use_hat_matrix=True)\n",
    "estimator.compute_observed_moments(verbose=False)\n",
    "estimator.q_sq = 0.00583674\n",
    "# estimator.estimate_q_sq(frac=0.3)"
   ]
  },
  {
   "cell_type": "code",
   "execution_count": 602,
   "metadata": {},
   "outputs": [],
   "source": [
    "estimator.setup_hypothesis_testing(['CD14+ Monocytes'])"
   ]
  },
  {
   "cell_type": "code",
   "execution_count": 603,
   "metadata": {},
   "outputs": [
    {
     "name": "stdout",
     "output_type": "stream",
     "text": [
      "CPU times: user 2.61 s, sys: 131 ms, total: 2.74 s\n",
      "Wall time: 2.74 s\n"
     ]
    }
   ],
   "source": [
    "%%time\n",
    "estimator.estimate_1d_parameters()\n",
    "estimator.compute_effect_sizes_1d()\n",
    "# estimator.compute_confidence_intervals_1d(verbose=True)"
   ]
  },
  {
   "cell_type": "code",
   "execution_count": 604,
   "metadata": {},
   "outputs": [],
   "source": [
    "gene_list_1, gene_list_2 = ['ISG15', 'LTB'], ['IFIT1', 'IFIT2', 'ISG15', 'OAS1', 'OAS2', 'OASL']"
   ]
  },
  {
   "cell_type": "code",
   "execution_count": 605,
   "metadata": {},
   "outputs": [],
   "source": [
    "estimator.estimate_2d_parameters(gene_list_1, gene_list_2)\n",
    "estimator.compute_effect_sizes_2d(gene_list_1, gene_list_2)"
   ]
  },
  {
   "cell_type": "code",
   "execution_count": 606,
   "metadata": {},
   "outputs": [
    {
     "name": "stdout",
     "output_type": "stream",
     "text": [
      "CPU times: user 2 µs, sys: 0 ns, total: 2 µs\n",
      "Wall time: 5.25 µs\n"
     ]
    }
   ],
   "source": [
    "%%time\n",
    "# estimator.compute_confidence_intervals_2d(gene_list_1, gene_list_2)"
   ]
  },
  {
   "cell_type": "code",
   "execution_count": 607,
   "metadata": {},
   "outputs": [],
   "source": [
    "gene_idxs_1, gene_idxs_2 = estimator._get_gene_idxs(gene_list_1), estimator._get_gene_idxs(gene_list_2)"
   ]
  },
  {
   "cell_type": "code",
   "execution_count": 608,
   "metadata": {},
   "outputs": [
    {
     "name": "stdout",
     "output_type": "stream",
     "text": [
      "[5.42967048 5.49296826 4.89392576 3.1844887  3.30849258 2.74299873]\n"
     ]
    }
   ],
   "source": [
    "print(\n",
    "    estimator.hypothesis_test_result['CD14+ Monocytes']['de_effect_size'][gene_idxs_2])"
   ]
  },
  {
   "cell_type": "code",
   "execution_count": 609,
   "metadata": {},
   "outputs": [
    {
     "name": "stdout",
     "output_type": "stream",
     "text": [
      "[ 0.92030634  1.70648132 -0.16083942 -0.03448538 -0.46953529 -0.64907324]\n"
     ]
    }
   ],
   "source": [
    "print(\n",
    "    estimator.hypothesis_test_result['CD14+ Monocytes']['dv_effect_size'][gene_idxs_2])"
   ]
  },
  {
   "cell_type": "code",
   "execution_count": 610,
   "metadata": {},
   "outputs": [
    {
     "data": {
      "text/plain": [
       "(-3, 3)"
      ]
     },
     "execution_count": 610,
     "metadata": {},
     "output_type": "execute_result"
    },
    {
     "data": {
      "image/png": "[encoded data removed]",
      "text/plain": [
       "<Figure size 432x288 with 1 Axes>"
      ]
     },
     "metadata": {
      "needs_background": "light"
     },
     "output_type": "display_data"
    }
   ],
   "source": [
    "plt.scatter(\n",
    "    estimator.hypothesis_test_result['CD14+ Monocytes']['de_effect_size'],\n",
    "    estimator.hypothesis_test_result['CD14+ Monocytes']['dv_effect_size'],\n",
    "    s=1\n",
    ")\n",
    "plt.xlim(-3, 3)"
   ]
  },
  {
   "cell_type": "code",
   "execution_count": null,
   "metadata": {},
   "outputs": [],
   "source": []
  },
  {
   "cell_type": "code",
   "execution_count": null,
   "metadata": {},
   "outputs": [],
   "source": []
  },
  {
   "cell_type": "code",
   "execution_count": null,
   "metadata": {},
   "outputs": [],
   "source": []
  },
  {
   "cell_type": "code",
   "execution_count": null,
   "metadata": {},
   "outputs": [],
   "source": []
  },
  {
   "cell_type": "code",
   "execution_count": 591,
   "metadata": {},
   "outputs": [
    {
     "data": {
      "text/plain": [
       "array([2.39485627, 1.39611813, 3.67372015, 1.59502471, 0.13028864,\n",
       "       1.57760438])"
      ]
     },
     "execution_count": 591,
     "metadata": {},
     "output_type": "execute_result"
    }
   ],
   "source": [
    "estimator.parameters['sg^ctrl^default_rep^default_batch^CD14+ Monocytes']['log_residual_var'][gene_idxs_2]"
   ]
  },
  {
   "cell_type": "code",
   "execution_count": 592,
   "metadata": {},
   "outputs": [
    {
     "data": {
      "text/plain": [
       "array([ 1.98669526,  2.04328389,  2.85462704,  1.07961847, -0.36843998,\n",
       "        0.59611142])"
      ]
     },
     "execution_count": 592,
     "metadata": {},
     "output_type": "execute_result"
    }
   ],
   "source": [
    "estimator.parameters['sg^stim^default_rep^default_batch^CD14+ Monocytes']['log_residual_var'][gene_idxs_2]"
   ]
  },
  {
   "cell_type": "code",
   "execution_count": 593,
   "metadata": {},
   "outputs": [
    {
     "data": {
      "text/html": [
       "<div>\n",
       "<style scoped>\n",
       "    .dataframe tbody tr th:only-of-type {\n",
       "        vertical-align: middle;\n",
       "    }\n",
       "\n",
       "    .dataframe tbody tr th {\n",
       "        vertical-align: top;\n",
       "    }\n",
       "\n",
       "    .dataframe thead th {\n",
       "        text-align: right;\n",
       "    }\n",
       "</style>\n",
       "<table border=\"1\" class=\"dataframe\">\n",
       "  <thead>\n",
       "    <tr style=\"text-align: right;\">\n",
       "      <th></th>\n",
       "      <th>covariate</th>\n",
       "      <th>replicate</th>\n",
       "      <th>batch</th>\n",
       "      <th>constant</th>\n",
       "      <th>cell_count</th>\n",
       "    </tr>\n",
       "  </thead>\n",
       "  <tbody>\n",
       "    <tr>\n",
       "      <th>0</th>\n",
       "      <td>0</td>\n",
       "      <td>default_rep</td>\n",
       "      <td>default_batch</td>\n",
       "      <td>1</td>\n",
       "      <td>3365</td>\n",
       "    </tr>\n",
       "    <tr>\n",
       "      <th>1</th>\n",
       "      <td>1</td>\n",
       "      <td>default_rep</td>\n",
       "      <td>default_batch</td>\n",
       "      <td>1</td>\n",
       "      <td>3082</td>\n",
       "    </tr>\n",
       "  </tbody>\n",
       "</table>\n",
       "</div>"
      ],
      "text/plain": [
       "   covariate    replicate          batch  constant  cell_count\n",
       "0  0          default_rep  default_batch  1         3365      \n",
       "1  1          default_rep  default_batch  1         3082      "
      ]
     },
     "execution_count": 593,
     "metadata": {},
     "output_type": "execute_result"
    }
   ],
   "source": [
    "estimator.hypothesis_test_result['CD14+ Monocytes']['design_df']"
   ]
  },
  {
   "cell_type": "code",
   "execution_count": 594,
   "metadata": {},
   "outputs": [
    {
     "name": "stdout",
     "output_type": "stream",
     "text": [
      "[5.14739925 5.13568147 4.63307321 3.00384854 3.102129   2.71677435]\n"
     ]
    }
   ],
   "source": [
    "print(\n",
    "    estimator.hypothesis_test_result['CD14+ Monocytes']['de_effect_size'][gene_idxs_2])"
   ]
  },
  {
   "cell_type": "code",
   "execution_count": 596,
   "metadata": {},
   "outputs": [
    {
     "name": "stdout",
     "output_type": "stream",
     "text": [
      "[-0.408161    0.64716576 -0.81909311 -0.51540624 -0.49872862 -0.98149296]\n"
     ]
    }
   ],
   "source": [
    "print(\n",
    "    estimator.hypothesis_test_result['CD14+ Monocytes']['dv_effect_size'][gene_idxs_2])"
   ]
  },
  {
   "cell_type": "code",
   "execution_count": 598,
   "metadata": {},
   "outputs": [
    {
     "data": {
      "text/plain": [
       "(-3, 3)"
      ]
     },
     "execution_count": 598,
     "metadata": {},
     "output_type": "execute_result"
    },
    {
     "data": {
      "image/png": "[encoded data removed]",
      "text/plain": [
       "<Figure size 432x288 with 1 Axes>"
      ]
     },
     "metadata": {
      "needs_background": "light"
     },
     "output_type": "display_data"
    }
   ],
   "source": [
    "plt.scatter(\n",
    "    estimator.hypothesis_test_result['CD14+ Monocytes']['de_effect_size'],\n",
    "    estimator.hypothesis_test_result['CD14+ Monocytes']['dv_effect_size'],\n",
    "    s=1\n",
    ")\n",
    "plt.xlim(-3, 3)"
   ]
  },
  {
   "cell_type": "code",
   "execution_count": 599,
   "metadata": {},
   "outputs": [
    {
     "data": {
      "text/plain": [
       "(0.11004648596928213, 8.160027454307092e-17)"
      ]
     },
     "execution_count": 599,
     "metadata": {},
     "output_type": "execute_result"
    }
   ],
   "source": [
    "utils.robust_corr(    estimator.hypothesis_test_result['CD14+ Monocytes']['de_effect_size'],\n",
    "    estimator.hypothesis_test_result['CD14+ Monocytes']['dv_effect_size'],)"
   ]
  },
  {
   "cell_type": "code",
   "execution_count": null,
   "metadata": {},
   "outputs": [],
   "source": []
  }
 ],
 "metadata": {
  "kernelspec": {
   "display_name": "Python 3",
   "language": "python",
   "name": "python3"
  },
  "language_info": {
   "codemirror_mode": {
    "name": "ipython",
    "version": 3
   },
   "file_extension": ".py",
   "mimetype": "text/x-python",
   "name": "python",
   "nbconvert_exporter": "python",
   "pygments_lexer": "ipython3",
   "version": "3.7.7"
  }
 },
 "nbformat": 4,
 "nbformat_minor": 4
}
