{
 "cells": [
  {
   "cell_type": "markdown",
   "metadata": {},
   "source": [
    "# Cell type differences and effects of interferon stimulation on immune cells\n",
    "\n",
    "Demonstrating differential expression between cell types and the effect of interferon stimulation within a cell type (CD4 T cells)."
   ]
  },
  {
   "cell_type": "code",
   "execution_count": 1,
   "metadata": {},
   "outputs": [
    {
     "name": "stderr",
     "output_type": "stream",
     "text": [
      "/home/mkim7/anaconda3/envs/single_cell/lib/python3.7/site-packages/scanpy/api/__init__.py:6: FutureWarning: \n",
      "\n",
      "In a future version of Scanpy, `scanpy.api` will be removed.\n",
      "Simply use `import scanpy as sc` and `import scanpy.external as sce` instead.\n",
      "\n",
      "  FutureWarning\n"
     ]
    }
   ],
   "source": [
    "import pandas as pd\n",
    "import matplotlib.pyplot as plt\n",
    "import scanpy.api as sc\n",
    "import scipy as sp\n",
    "import itertools\n",
    "import numpy as np\n",
    "import scipy.stats as stats\n",
    "from scipy.integrate import dblquad\n",
    "import seaborn as sns\n",
    "from statsmodels.stats.multitest import fdrcorrection\n",
    "import imp\n",
    "pd.options.display.max_rows = 999\n",
    "pd.set_option('display.max_colwidth', -1)\n",
    "import pickle as pkl\n",
    "import time"
   ]
  },
  {
   "cell_type": "code",
   "execution_count": 36,
   "metadata": {},
   "outputs": [],
   "source": [
    "%matplotlib inline"
   ]
  },
  {
   "cell_type": "code",
   "execution_count": 3,
   "metadata": {},
   "outputs": [],
   "source": [
    "import matplotlib.pylab as pylab\n",
    "params = {'legend.fontsize': 'x-large',\n",
    "         'axes.labelsize': 'x-large',\n",
    "         'axes.titlesize':'x-large',\n",
    "         'figure.titlesize':'xx-large',\n",
    "         'xtick.labelsize':'x-large',\n",
    "         'ytick.labelsize':'x-large'}\n",
    "pylab.rcParams.update(params)\n"
   ]
  },
  {
   "cell_type": "code",
   "execution_count": 4,
   "metadata": {},
   "outputs": [],
   "source": [
    "import warnings\n",
    "warnings.filterwarnings('ignore')"
   ]
  },
  {
   "cell_type": "code",
   "execution_count": 5,
   "metadata": {},
   "outputs": [],
   "source": [
    "from sklearn.decomposition import PCA"
   ]
  },
  {
   "cell_type": "code",
   "execution_count": 6,
   "metadata": {},
   "outputs": [],
   "source": [
    "from sklearn.preprocessing import StandardScaler"
   ]
  },
  {
   "cell_type": "code",
   "execution_count": 7,
   "metadata": {},
   "outputs": [],
   "source": [
    "import sys\n",
    "sys.path.append('/home/mkim7/Github/scrna-parameter-estimation/scmemo')\n",
    "import scmemo, utils"
   ]
  },
  {
   "cell_type": "code",
   "execution_count": 8,
   "metadata": {},
   "outputs": [],
   "source": [
    "data_path = '/data/parameter_estimation/interferon_data/20200316/'"
   ]
  },
  {
   "cell_type": "code",
   "execution_count": 68,
   "metadata": {},
   "outputs": [],
   "source": [
    "def density_scatterplot(a,b, s=1, cmap='Reds', kde=None):\n",
    "    # Calculate the point density\n",
    "    condition = np.isfinite(a) & np.isfinite(b)\n",
    "    x = a[condition]\n",
    "    y = b[condition]\n",
    "    xy = np.vstack([x,y])\n",
    "    z = stats.gaussian_kde(xy, bw_method=kde)(xy)\n",
    "    print(z)\n",
    "    plt.scatter(x, y, c=z, s=s, edgecolor='', cmap=cmap)\n",
    "    \n",
    "\n",
    "def robust_correlation(a, b):\n",
    "    \n",
    "    condition = (np.isfinite(a) & np.isfinite(b))\n",
    "    x = a[condition]\n",
    "    y = b[condition]\n",
    "    \n",
    "    return stats.spearmanr(x,y)\n",
    "\n",
    "def robust_linregress(a, b):\n",
    "    \n",
    "    condition = (np.isfinite(a) & np.isfinite(b))\n",
    "    x = a[condition]\n",
    "    y = b[condition]\n",
    "    \n",
    "    print(x.min())\n",
    "    \n",
    "    return stats.linregress(x,y)\n",
    "\n",
    "def robust_hist(x,limit=1e3, **kwargs):\n",
    "    \n",
    "    condition = np.isfinite(x) & (x < limit)\n",
    "    sns.distplot(x[condition], **kwargs)"
   ]
  },
  {
   "cell_type": "markdown",
   "metadata": {},
   "source": [
    "### Perform some basic filtering"
   ]
  },
  {
   "cell_type": "code",
   "execution_count": 9,
   "metadata": {},
   "outputs": [],
   "source": [
    "adata = sc.read(data_path + 'interferon_highcount.raw.h5ad')\n",
    "adata = adata[:, adata.var.index.map(lambda x: x[:2] != 'HB')]"
   ]
  },
  {
   "cell_type": "code",
   "execution_count": 10,
   "metadata": {},
   "outputs": [
    {
     "data": {
      "text/plain": [
       "CD4 T cells          10389\n",
       "CD14+ Monocytes      5385 \n",
       "B cells              2573 \n",
       "CD8 T cells          2042 \n",
       "NK cells             1993 \n",
       "FCGR3A+ Monocytes    1599 \n",
       "Dendritic cells      432  \n",
       "Megakaryocytes       260  \n",
       "Name: cell, dtype: int64"
      ]
     },
     "execution_count": 10,
     "metadata": {},
     "output_type": "execute_result"
    }
   ],
   "source": [
    "adata.obs.cell.value_counts()"
   ]
  },
  {
   "cell_type": "code",
   "execution_count": 11,
   "metadata": {},
   "outputs": [
    {
     "name": "stderr",
     "output_type": "stream",
     "text": [
      "Trying to set attribute `.obs` of view, making a copy.\n"
     ]
    }
   ],
   "source": [
    "adata.obs['cell_type'] = (adata.obs['cell'].astype(str) + ' - ' + adata.obs['stim'].astype(str)).astype('category')"
   ]
  },
  {
   "cell_type": "code",
   "execution_count": 12,
   "metadata": {},
   "outputs": [],
   "source": [
    "sc.pl.tsne(adata, color='cell_type')"
   ]
  },
  {
   "cell_type": "code",
   "execution_count": 13,
   "metadata": {},
   "outputs": [],
   "source": [
    "# plt.figure(figsize=(5, 3))\n",
    "# sns.boxplot(x='n_counts', y='cell_type', data=adata.obs)\n",
    "# plt.title('Total UMI counts by cell type')\n",
    "# plt.savefig('celltype_numi.pdf')\n",
    "# plt.savefig('celltype_numi.png')"
   ]
  },
  {
   "cell_type": "code",
   "execution_count": 14,
   "metadata": {},
   "outputs": [
    {
     "name": "stdout",
     "output_type": "stream",
     "text": [
      "Number of genes kept: 3593\n"
     ]
    }
   ],
   "source": [
    "print('Number of genes kept:', adata.shape[1])"
   ]
  },
  {
   "cell_type": "markdown",
   "metadata": {},
   "source": [
    "### Select immune genes using GO annotations"
   ]
  },
  {
   "cell_type": "code",
   "execution_count": 133,
   "metadata": {},
   "outputs": [],
   "source": [
    "go_annotations = pd.read_csv(data_path + '../../GO_annotations-9606-inferred-allev.tsv', sep='\\t')\n",
    "go_annotations['gene'] = go_annotations['gene_symbols'].apply(lambda x: x.split('|'))\n",
    "go_annotations = go_annotations\\\n",
    "    .query('go_domain == \"biological_process\"')\\\n",
    "    .explode('gene')[['go_name', 'gene']]"
   ]
  },
  {
   "cell_type": "code",
   "execution_count": 134,
   "metadata": {},
   "outputs": [],
   "source": [
    "immune_genes = go_annotations[go_annotations.go_name.str.contains('immune')].gene.drop_duplicates().tolist()"
   ]
  },
  {
   "cell_type": "code",
   "execution_count": 135,
   "metadata": {},
   "outputs": [],
   "source": [
    "immune_genes = list(set(adata.var.index) & set(immune_genes))"
   ]
  },
  {
   "cell_type": "code",
   "execution_count": 136,
   "metadata": {},
   "outputs": [],
   "source": [
    "with open(data_path + 'immune_genes.pkl', 'wb') as f:\n",
    "    pkl.dump(immune_genes, f)"
   ]
  },
  {
   "cell_type": "code",
   "execution_count": 137,
   "metadata": {},
   "outputs": [
    {
     "data": {
      "text/plain": [
       "855"
      ]
     },
     "execution_count": 137,
     "metadata": {},
     "output_type": "execute_result"
    }
   ],
   "source": [
    "len(immune_genes)"
   ]
  },
  {
   "cell_type": "markdown",
   "metadata": {},
   "source": [
    "### Observed $\\mu$-$CV^{2}$ Relationship"
   ]
  },
  {
   "cell_type": "code",
   "execution_count": 20,
   "metadata": {},
   "outputs": [],
   "source": [
    "adata_sampled = adata[adata.obs.cell == 'CD4 T cells'].copy()"
   ]
  },
  {
   "cell_type": "code",
   "execution_count": 94,
   "metadata": {},
   "outputs": [],
   "source": [
    "imp.reload(scmemo)\n",
    "estimator = scmemo.SingleCellEstimator(\n",
    "    adata=adata, \n",
    "    group_label='cell_type',\n",
    "    n_umis_column='n_counts',\n",
    "    num_permute=10000,\n",
    "    beta=0.1)"
   ]
  },
  {
   "cell_type": "code",
   "execution_count": 102,
   "metadata": {},
   "outputs": [],
   "source": [
    "estimator.estimate_beta_sq(tolerance=3, compute_moments=False)"
   ]
  },
  {
   "cell_type": "code",
   "execution_count": 103,
   "metadata": {},
   "outputs": [
    {
     "data": {
      "text/plain": [
       "0.12156906985686006"
      ]
     },
     "execution_count": 103,
     "metadata": {},
     "output_type": "execute_result"
    }
   ],
   "source": [
    "estimator.noise_level"
   ]
  },
  {
   "cell_type": "code",
   "execution_count": 104,
   "metadata": {},
   "outputs": [
    {
     "data": {
      "image/png": "[encoded data removed]",
      "text/plain": [
       "<Figure size 396x360 with 1 Axes>"
      ]
     },
     "metadata": {
      "needs_background": "light"
     },
     "output_type": "display_data"
    }
   ],
   "source": [
    "estimator.plot_cv_mean_curve()\n",
    "#plt.savefig(data_path + 'figures/observed_cv_vs_mean.png', bbox_inches='tight')"
   ]
  },
  {
   "cell_type": "markdown",
   "metadata": {},
   "source": [
    "### 2D analysis of STAT1 and STAT2\n",
    "\n",
    "STAT1 and STAT2 are canonical signaling elements of the Type I interferon. These genes should definitely be correlated with immune genes upon stimulation"
   ]
  },
  {
   "cell_type": "code",
   "execution_count": 23,
   "metadata": {},
   "outputs": [],
   "source": [
    "estimator.estimate_parameters()"
   ]
  },
  {
   "cell_type": "code",
   "execution_count": 26,
   "metadata": {},
   "outputs": [
    {
     "name": "stdout",
     "output_type": "stream",
     "text": [
      "Correlation testing for CD4 T cells\n",
      "Computing the 0st/th gene of 2565\n",
      "Computing the 500st/th gene of 2565\n",
      "Computing the 2000st/th gene of 2565\n",
      "Computing the 2500st/th gene of 2565\n",
      "Computing the 3500st/th gene of 2565\n",
      "Computing the 4000st/th gene of 2565\n",
      "This cell type took 397.41969776153564\n"
     ]
    }
   ],
   "source": [
    "for ct in ['CD4 T cells']:#adata.obs['cell'].drop_duplicates().tolist():\n",
    "\n",
    "\t\tprint('Correlation testing for', ct)\n",
    "\t\tstart = time.time()\n",
    "\t\testimator.compute_confidence_intervals_2d(\n",
    "\t\t\tgene_list_1=['STAT1', 'STAT2', 'STAT3'],\n",
    "\t\t\tgene_list_2=immune_genes,\n",
    "\t\t\tgroups=[ct + ' - ctrl', ct + ' - stim'],\n",
    "\t\t\tgroups_to_compare=[(ct + ' - ctrl', ct + ' - stim')],\n",
    "            gene_tracker_count=500)\n",
    "\t\tprint('This cell type took', time.time()-start)"
   ]
  },
  {
   "cell_type": "code",
   "execution_count": 73,
   "metadata": {},
   "outputs": [
    {
     "name": "stdout",
     "output_type": "stream",
     "text": [
      "Computing the 0st/th gene\n",
      "Computing the 500st/th gene\n",
      "Computing the 1000st/th gene\n",
      "Computing the 1500st/th gene\n",
      "Computing the 2000st/th gene\n",
      "Computing the 2500st/th gene\n",
      "Computing the 3000st/th gene\n",
      "Computing the 3500st/th gene\n"
     ]
    }
   ],
   "source": [
    "for ct in ['CD4 T cells']:#adata.obs['cell'].drop_duplicates().tolist():\n",
    "\n",
    "\t\tstart = time.time()\n",
    "\t\testimator.compute_confidence_intervals_1d(\n",
    "\t\t\tgroups=[ct + ' - ctrl', ct + ' - stim'],\n",
    "\t\t\tgroups_to_compare=[(ct + ' - ctrl', ct + ' - stim')],\n",
    "            gene_tracker_count=500)"
   ]
  },
  {
   "cell_type": "code",
   "execution_count": 74,
   "metadata": {},
   "outputs": [
    {
     "data": {
      "text/plain": [
       "587"
      ]
     },
     "execution_count": 74,
     "metadata": {},
     "output_type": "execute_result"
    }
   ],
   "source": [
    "adata.var.index.tolist().index('STAT1')"
   ]
  },
  {
   "cell_type": "code",
   "execution_count": 80,
   "metadata": {},
   "outputs": [
    {
     "data": {
      "text/plain": [
       "-0.568742954816007"
      ]
     },
     "execution_count": 80,
     "metadata": {},
     "output_type": "execute_result"
    }
   ],
   "source": [
    "estimator.hypothesis_test_result_1d[('CD4 T cells - ctrl', 'CD4 T cells - stim')]['dv_diff'][adata.var.index.tolist().index('STAT1')]"
   ]
  },
  {
   "cell_type": "code",
   "execution_count": 89,
   "metadata": {},
   "outputs": [
    {
     "data": {
      "text/plain": [
       "0.7061707720759799"
      ]
     },
     "execution_count": 89,
     "metadata": {},
     "output_type": "execute_result"
    }
   ],
   "source": [
    "estimator.hypothesis_test_result_1d[('CD4 T cells - ctrl', 'CD4 T cells - stim')]['dv_fdr'][adata.var.index.tolist().index('STAT3')]"
   ]
  },
  {
   "cell_type": "code",
   "execution_count": 85,
   "metadata": {},
   "outputs": [
    {
     "data": {
      "text/plain": [
       "(3, 855)"
      ]
     },
     "execution_count": 85,
     "metadata": {},
     "output_type": "execute_result"
    }
   ],
   "source": [
    "estimator.hypothesis_test_result_2d[('CD4 T cells - ctrl', 'CD4 T cells - stim')]['cov_1'].shape"
   ]
  },
  {
   "cell_type": "code",
   "execution_count": 34,
   "metadata": {},
   "outputs": [
    {
     "data": {
      "text/plain": [
       "(3, 855)"
      ]
     },
     "execution_count": 34,
     "metadata": {},
     "output_type": "execute_result"
    }
   ],
   "source": [
    "estimator.hypothesis_test_result_2d[('CD4 T cells - ctrl', 'CD4 T cells - stim')]['cov_1'].shape"
   ]
  },
  {
   "cell_type": "code",
   "execution_count": null,
   "metadata": {},
   "outputs": [],
   "source": [
    "stat1_ctrl_correlations = "
   ]
  },
  {
   "cell_type": "code",
   "execution_count": 58,
   "metadata": {},
   "outputs": [
    {
     "data": {
      "text/plain": [
       "nan"
      ]
     },
     "execution_count": 58,
     "metadata": {},
     "output_type": "execute_result"
    }
   ],
   "source": [
    "np.median(estimator.hypothesis_test_result_2d[('CD4 T cells - ctrl', 'CD4 T cells - stim')]['corr_1'][0, :])"
   ]
  },
  {
   "cell_type": "code",
   "execution_count": 51,
   "metadata": {},
   "outputs": [
    {
     "data": {
      "text/plain": [
       "-0.03307677243330215"
      ]
     },
     "execution_count": 51,
     "metadata": {},
     "output_type": "execute_result"
    }
   ],
   "source": [
    "np.nanmedian(estimator.hypothesis_test_result_2d[('CD4 T cells - ctrl', 'CD4 T cells - stim')]['corr_2'][0, :])"
   ]
  },
  {
   "cell_type": "code",
   "execution_count": null,
   "metadata": {},
   "outputs": [],
   "source": []
  },
  {
   "cell_type": "code",
   "execution_count": 66,
   "metadata": {},
   "outputs": [
    {
     "data": {
      "image/png": "[encoded data removed]",
      "text/plain": [
       "<Figure size 432x288 with 1 Axes>"
      ]
     },
     "metadata": {
      "needs_background": "light"
     },
     "output_type": "display_data"
    }
   ],
   "source": [
    "robust_hist(np.abs(estimator.hypothesis_test_result_2d[('CD4 T cells - ctrl', 'CD4 T cells - stim')]['corr_1'][0, :]))\n",
    "robust_hist(np.abs(estimator.hypothesis_test_result_2d[('CD4 T cells - ctrl', 'CD4 T cells - stim')]['corr_2'][0, :]))"
   ]
  },
  {
   "cell_type": "code",
   "execution_count": 72,
   "metadata": {},
   "outputs": [
    {
     "data": {
      "image/png": "[encoded data removed]",
      "text/plain": [
       "<Figure size 432x288 with 1 Axes>"
      ]
     },
     "metadata": {
      "needs_background": "light"
     },
     "output_type": "display_data"
    }
   ],
   "source": [
    "robust_hist(np.abs(estimator.hypothesis_test_result_2d[('CD4 T cells - ctrl', 'CD4 T cells - stim')]['cov_1'][0, :]), limit=2)\n",
    "robust_hist(np.abs(estimator.hypothesis_test_result_2d[('CD4 T cells - ctrl', 'CD4 T cells - stim')]['cov_2'][0, :]), limit=2)"
   ]
  },
  {
   "cell_type": "code",
   "execution_count": 57,
   "metadata": {},
   "outputs": [
    {
     "data": {
      "image/png": "[encoded data removed]",
      "text/plain": [
       "<Figure size 432x288 with 1 Axes>"
      ]
     },
     "metadata": {
      "needs_background": "light"
     },
     "output_type": "display_data"
    }
   ],
   "source": [
    "plt.hist(, bins=30);\n",
    "plt.hist(estimator.hypothesis_test_result_2d[('CD4 T cells - ctrl', 'CD4 T cells - stim')]['corr_2'][0, :], bins=30);\n",
    "\n",
    "#plt.hist(estimator.hypothesis_test_result_2d[('CD4 T cells - ctrl', 'CD4 T cells - stim')]['cov_2'][2, :], bins=30);\n",
    "#plt.xlim(-2, 2)"
   ]
  },
  {
   "cell_type": "markdown",
   "metadata": {},
   "source": [
    "### 1D effects"
   ]
  },
  {
   "cell_type": "code",
   "execution_count": 105,
   "metadata": {},
   "outputs": [],
   "source": [
    "with open(data_path + 'stim_effect_1d.pkl', 'rb') as f:\n",
    "    stim_delta_dict = pkl.load(f)"
   ]
  },
  {
   "cell_type": "code",
   "execution_count": 129,
   "metadata": {},
   "outputs": [
    {
     "data": {
      "text/plain": [
       "array([853,  93,  10,   2,   1,   1])"
      ]
     },
     "execution_count": 129,
     "metadata": {},
     "output_type": "execute_result"
    }
   ],
   "source": [
    "np.bincount(adata[adata.obs.cell_type == 'CD8 T cells - stim', :][:, 'STAT3'].X.astype(int))"
   ]
  },
  {
   "cell_type": "code",
   "execution_count": 131,
   "metadata": {},
   "outputs": [
    {
     "data": {
      "image/png": "[encoded data removed]",
      "text/plain": [
       "<Figure size 432x288 with 1 Axes>"
      ]
     },
     "metadata": {
      "needs_background": "light"
     },
     "output_type": "display_data"
    }
   ],
   "source": [
    "plt.hist(\n",
    "    [adata[adata.obs.cell_type == 'CD4 T cells - ctrl', :][:, 'STAT3'].X,\n",
    "     adata[adata.obs.cell_type == 'CD4 T cells - stim', :][:, 'STAT3'].X], bins=30, log=True);"
   ]
  },
  {
   "cell_type": "code",
   "execution_count": 132,
   "metadata": {},
   "outputs": [
    {
     "name": "stdout",
     "output_type": "stream",
     "text": [
      "('CD14+ Monocytes - ctrl', 'CD14+ Monocytes - stim') 0.6543833013721241\n",
      "('CD4 T cells - ctrl', 'CD4 T cells - stim') 0.7047044545320994\n",
      "('Dendritic cells - ctrl', 'Dendritic cells - stim') 0.48896694793376866\n",
      "('NK cells - ctrl', 'NK cells - stim') 0.7491844604979137\n",
      "('CD8 T cells - ctrl', 'CD8 T cells - stim') 0.09398070103114066\n",
      "('B cells - ctrl', 'B cells - stim') 0.20002524231499702\n",
      "('Megakaryocytes - ctrl', 'Megakaryocytes - stim') 0.9727417817874321\n",
      "('FCGR3A+ Monocytes - ctrl', 'FCGR3A+ Monocytes - stim') 0.6246332145927808\n"
     ]
    }
   ],
   "source": [
    "for key in stim_delta_dict:\n",
    "    print(key, stim_delta_dict[key]['dv_fdr'][adata.var.index.tolist().index('STAT3')])"
   ]
  },
  {
   "cell_type": "code",
   "execution_count": 121,
   "metadata": {},
   "outputs": [
    {
     "name": "stdout",
     "output_type": "stream",
     "text": [
      "('CD14+ Monocytes - ctrl', 'CD14+ Monocytes - stim') 1.0308854193814017e-06\n",
      "('CD4 T cells - ctrl', 'CD4 T cells - stim') 1.4397859915502101e-05\n",
      "('Dendritic cells - ctrl', 'Dendritic cells - stim') 0.32907928100979966\n",
      "('NK cells - ctrl', 'NK cells - stim') 4.72662700042497e-05\n",
      "('CD8 T cells - ctrl', 'CD8 T cells - stim') 0.014501750781310904\n",
      "('B cells - ctrl', 'B cells - stim') 5.812063080375114e-05\n",
      "('Megakaryocytes - ctrl', 'Megakaryocytes - stim') 0.2737097973695478\n",
      "('FCGR3A+ Monocytes - ctrl', 'FCGR3A+ Monocytes - stim') 0.0009408230918637007\n"
     ]
    }
   ],
   "source": [
    "for key in stim_delta_dict:\n",
    "    print(key, stim_delta_dict[key]['de_fdr'][adata.var.index.tolist().index('STAT3')])"
   ]
  },
  {
   "cell_type": "code",
   "execution_count": 110,
   "metadata": {},
   "outputs": [
    {
     "data": {
      "text/plain": [
       "{('CD14+ Monocytes - ctrl',\n",
       "  'CD14+ Monocytes - stim'): {'log_mean_1': array([-0.99468982, -2.29721355,  2.37025714, ..., -0.04592288,\n",
       "         -1.35275221,  0.72669429]), 'log_mean_2': array([-1.94976342,  2.37990856,  7.05433369, ...,  0.6776402 ,\n",
       "         -2.61624289,  0.98034626]), 'log_residual_var_1': array([0.08840082, 0.6624849 , 3.3160223 , ..., 0.62458296, 0.96231656,\n",
       "         0.19126815]), 'log_residual_var_2': array([ 0.37866722,  1.01137235,  1.90659209, ...,  0.19125103,\n",
       "          0.61152531, -0.12485809]), 'de_diff': array([-0.9550736 ,  4.67712212,  4.68407631, ...,  0.72356308,\n",
       "         -1.26349068,  0.25365198]), 'de_pval': array([7.65152112e-06, 8.03179168e-09, 8.82987093e-08, ...,\n",
       "         1.01567902e-07, 1.77453186e-05, 1.99996000e-04]), 'de_fdr': array([1.65514241e-05, 4.38497885e-07, 9.88340382e-07, ...,\n",
       "         1.05168147e-06, 3.51288869e-05, 3.41046810e-04]), 'dv_diff': array([ 0.2902664 ,  0.34888746, -1.40943021, ..., -0.43333192,\n",
       "         -0.35079124, -0.31612624]), 'dv_pval': array([5.05749885e-01, 2.43075138e-01, 3.83006221e-07, ...,\n",
       "         1.75556489e-01, 6.61946761e-01, 2.93714126e-01]), 'dv_fdr': array([7.68791192e-01, 5.57907922e-01, 1.52862038e-04, ...,\n",
       "         4.78455634e-01, 8.63053635e-01, 6.13741210e-01])},\n",
       " ('CD4 T cells - ctrl',\n",
       "  'CD4 T cells - stim'): {'log_mean_1': array([-0.18019496, -2.15195632,  0.87978327, ..., -1.3263185 ,\n",
       "         -0.89919281,  0.92612034]), 'log_mean_2': array([-0.17926361, -0.91686523,  4.31478262, ..., -2.36737847,\n",
       "         -0.80816042,  0.9434526 ]), 'log_residual_var_1': array([-0.20669222,  1.39325059,  3.24324973, ...,  0.2265592 ,\n",
       "          0.78328136, -0.06320805]), 'log_residual_var_2': array([-0.19711628,  1.36818883,  1.38146968, ...,  0.1530826 ,\n",
       "         -0.30218595, -0.23934044]), 'de_diff': array([ 9.31352377e-04,  1.23509109e+00,  3.43499947e+00, ...,\n",
       "         -1.04105997e+00,  9.10323858e-02,  1.73322558e-02]), 'de_pval': array([9.91300174e-01, 5.41898617e-06, 8.37860980e-08, ...,\n",
       "         7.01206160e-06, 3.76392472e-01, 6.83026339e-01]), 'de_fdr': array([9.94784430e-01, 2.77993991e-05, 1.59193586e-06, ...,\n",
       "         3.51680352e-05, 5.02462962e-01, 7.73674593e-01]), 'dv_diff': array([ 0.00957595, -0.02506176, -1.86178005, ..., -0.0734766 ,\n",
       "         -1.08546731, -0.17613239]), 'dv_pval': array([0.84046319, 0.95402092, 0.00635987, ..., 0.77646447, 0.00295994,\n",
       "         0.34547309]), 'dv_fdr': array([0.93568947, 0.98273484, 0.09973058, ..., 0.90610854, 0.06215876,\n",
       "         0.6546582 ])},\n",
       " ('Dendritic cells - ctrl',\n",
       "  'Dendritic cells - stim'): {'log_mean_1': array([ 0.08042154, -1.91200864,  2.50683165, ...,  0.79604179,\n",
       "         -0.17740756,  1.26604581]), 'log_mean_2': array([-0.35854831,  2.8874557 ,  6.7045002 , ..., -0.04009442,\n",
       "         -0.42308688,  1.07355607]), 'log_residual_var_1': array([ 0.00696707, -0.33608994,  3.49337228, ...,  0.62480797,\n",
       "         -2.36527016, -0.4673065 ]), 'log_residual_var_2': array([-0.34970818,  1.74598268,  3.16073092, ...,  1.45705483,\n",
       "         -0.25112589, -0.74599101]), 'de_diff': array([-0.43896985,  4.79946423,  4.19766855, ..., -0.83613622,\n",
       "         -0.24567932, -0.19248974]), 'de_pval': array([1.98396032e-01, 2.59541875e-06, 3.50181066e-07, ...,\n",
       "         1.12797744e-02, 4.72110558e-01, 2.85474291e-01]), 'de_fdr': array([3.52386798e-01, 4.46350035e-05, 2.92330755e-05, ...,\n",
       "         4.00896848e-02, 6.36895472e-01, 4.54296348e-01]), 'dv_diff': array([-0.35667524,  2.08207262, -0.33264136, ...,  0.83224686,\n",
       "          2.11414427, -0.27868451]), 'dv_pval': array([5.79028419e-01, 2.46851371e-05, 5.76908462e-01, ...,\n",
       "         1.29477410e-01, 4.27511450e-01, 6.46387072e-01]), 'dv_fdr': array([0.94250644, 0.00370814, 0.94250644, ..., 0.60788109, 0.87863314,\n",
       "         0.95224785])},\n",
       " ('NK cells - ctrl',\n",
       "  'NK cells - stim'): {'log_mean_1': array([-0.58560526, -1.62705958,  1.47152805, ...,  0.25325379,\n",
       "         -1.08344376,  0.63586086]), 'log_mean_2': array([-1.06843174, -0.44524282,  4.63390732, ..., -0.69036525,\n",
       "         -1.15298939,  0.60891819]), 'log_residual_var_1': array([-0.03708816,  1.42317836,  2.33568271, ...,  1.63442525,\n",
       "         -0.27171364, -0.72294569]), 'log_residual_var_2': array([ 0.24607763,  1.2933732 ,  1.9606349 , ..., -0.46240609,\n",
       "         -0.82958498,  0.99926651]), 'de_diff': array([-0.48282647,  1.18181682,  3.16237926, ..., -0.94361901,\n",
       "         -0.06954563, -0.02694267]), 'de_pval': array([3.48393032e-02, 3.79851696e-06, 3.26990449e-05, ...,\n",
       "         3.34278153e-06, 7.86224276e-01, 8.07623848e-01]), 'de_fdr': array([1.21070827e-01, 5.36917358e-05, 3.27174151e-04, ...,\n",
       "         4.89999499e-05, 8.99046828e-01, 9.09790052e-01]), 'dv_diff': array([ 0.28316579, -0.12980516, -0.37504781, ..., -2.09683133,\n",
       "         -0.55787134,  1.72221219]), 'dv_pval': array([0.54310914, 0.78786424, 0.73818524, ..., 0.05259895, 0.19699606,\n",
       "         0.00311994]), 'dv_fdr': array([0.80009437, 0.9214181 , 0.90028758, ..., 0.27906446, 0.5131671 ,\n",
       "         0.05971493])},\n",
       " ('CD8 T cells - ctrl',\n",
       "  'CD8 T cells - stim'): {'log_mean_1': array([-0.52509809, -2.4867568 ,  1.15374744, ..., -0.31453332,\n",
       "         -1.02041948,  0.39742318]), 'log_mean_2': array([-0.61310464, -1.16315043,  4.32826376, ..., -1.06784034,\n",
       "         -0.78015858,  0.23144175]), 'log_residual_var_1': array([-1.0292261 ,  1.01010075,  1.39671551, ..., -0.120233  ,\n",
       "         -0.9379123 ,  0.67562948]), 'log_residual_var_2': array([-0.24038179,  0.82648234,  2.06966308, ...,  0.05763696,\n",
       "         -0.28091874,  0.02052295]), 'de_diff': array([-0.08800656,  1.32360637,  3.1745162 , ..., -0.75330698,\n",
       "          0.2402609 , -0.16598143]), 'de_pval': array([6.37427251e-01, 7.59984800e-04, 6.74830171e-07, ...,\n",
       "         5.19989600e-04, 2.74794504e-01, 2.21915562e-01]), 'de_fdr': array([8.21763071e-01, 6.94145500e-03, 2.74838022e-05, ...,\n",
       "         4.97984649e-03, 5.37277901e-01, 4.76212626e-01]), 'dv_diff': array([ 0.78884431, -0.18361842,  0.67294757, ...,  0.17786996,\n",
       "          0.65699356, -0.65510654]), 'dv_pval': array([0.12079758, 0.83634327, 0.07839843, ..., 0.76858463, 0.12307754,\n",
       "         0.52474951]), 'dv_fdr': array([0.41207176, 0.94317804, 0.3386291 , ..., 0.91066742, 0.41489041,\n",
       "         0.78033618])},\n",
       " ('B cells - ctrl',\n",
       "  'B cells - stim'): {'log_mean_1': array([ 0.15097457, -1.69485068,  0.89853668, ..., -1.98253298,\n",
       "         -0.43025315, -0.13670671]), 'log_mean_2': array([-0.07885928, -0.42219234,  4.69832563, ..., -2.44313717,\n",
       "         -0.59253758, -0.07885942]), 'log_residual_var_1': array([0.81119123, 2.8619781 , 1.2571766 , ..., 0.83235561, 0.60705881,\n",
       "         0.4764527 ]), 'log_residual_var_2': array([0.27541906, 0.56641267, 2.06147134, ..., 0.86273982, 0.91140282,\n",
       "         0.27541947]), 'de_diff': array([-0.22983386,  1.27265835,  3.79978895, ..., -0.46060419,\n",
       "         -0.16228443,  0.05784729]), 'de_pval': array([1.03277934e-01, 1.27997440e-03, 2.81977387e-09, ...,\n",
       "         2.51474971e-01, 3.86832263e-01, 6.88226235e-01]), 'de_fdr': array([2.28224362e-01, 6.31123112e-03, 2.35167183e-06, ...,\n",
       "         4.29375880e-01, 5.68354460e-01, 8.21624882e-01]), 'dv_diff': array([-0.53577217, -2.29556543,  0.80429474, ...,  0.03038421,\n",
       "          0.30434401, -0.20103322]), 'dv_pval': array([0.30147397, 0.00147997, 0.04851903, ..., 0.96718066, 0.38907222,\n",
       "         0.65894682]), 'dv_fdr': array([0.63306281, 0.04964304, 0.29475724, ..., 0.99169445, 0.70452548,\n",
       "         0.87232813])},\n",
       " ('Megakaryocytes - ctrl',\n",
       "  'Megakaryocytes - stim'): {'log_mean_1': array([-0.30421159, -1.80828893,  1.16212559, ..., -1.40282369,\n",
       "         -1.11514175, -0.19885103]), 'log_mean_2': array([ 0.14791989, -0.22677349,  4.80128527, ..., -1.93152142,\n",
       "         -1.01523077,  0.20854461]), 'log_residual_var_1': array([-1.83759149, -0.35450972,  1.28767458, ..., -0.5767783 ,\n",
       "          1.16538756, -0.06213853]), 'log_residual_var_2': array([ 0.29447248, -2.09094355,  3.79887731, ..., -0.30403227,\n",
       "         -0.86285112,  0.18834836]), 'de_diff': array([ 0.45213148,  1.58151543,  3.63915968, ..., -0.52869773,\n",
       "          0.09991097,  0.40739566]), 'de_pval': array([2.76434471e-01, 8.23983520e-03, 2.85661102e-07, ...,\n",
       "         5.36589268e-01, 8.40143197e-01, 3.27313454e-01]), 'de_fdr': array([7.19483206e-01, 1.54784861e-01, 6.38380997e-04, ...,\n",
       "         8.88051560e-01, 9.75249554e-01, 7.56871745e-01]), 'dv_diff': array([ 2.13206397, -1.73643383,  2.51120273, ...,  0.27274603,\n",
       "         -2.02823867,  0.25048688]), 'dv_pval': array([4.56030879e-01, 8.15983680e-03, 1.54793141e-05, ...,\n",
       "         5.37069259e-01, 1.97996040e-02, 6.87386252e-01]), 'dv_fdr': array([0.74335419, 0.14542739, 0.00914115, ..., 0.79765498, 0.20819952,\n",
       "         0.86599047])},\n",
       " ('FCGR3A+ Monocytes - ctrl',\n",
       "  'FCGR3A+ Monocytes - stim'): {'log_mean_1': array([-0.29537997, -0.74736506,  2.82095957, ...,  1.00555348,\n",
       "         -1.12465906,  0.99059057]), 'log_mean_2': array([-1.08705163,  2.58793736,  6.81020641, ...,  0.69894522,\n",
       "         -1.746297  ,  1.12915099]), 'log_residual_var_1': array([-1.26617968,  1.55614763,  2.96301722, ...,  0.5134058 ,\n",
       "         -0.84710597,  0.12255808]), 'log_residual_var_2': array([ 0.42705892,  1.13984698,  2.23814553, ...,  0.16713082,\n",
       "          0.87733014, -0.552828  ]), 'de_diff': array([-0.79167163,  3.33530235,  3.98924685, ..., -0.30660826,\n",
       "         -0.62163794,  0.13856041]), 'de_pval': array([3.59992800e-04, 1.56102031e-08, 1.95949750e-08, ...,\n",
       "         1.14797704e-02, 6.67186656e-02, 1.83436331e-01]), 'de_fdr': array([1.17660977e-03, 2.73341117e-06, 2.73341117e-06, ...,\n",
       "         2.51741974e-02, 1.15218003e-01, 2.69931709e-01]), 'dv_diff': array([ 1.69323861, -0.41630065, -0.72487168, ..., -0.34627498,\n",
       "          1.72443611, -0.67538608]), 'dv_pval': array([4.51990960e-03, 5.13029739e-01, 5.19989600e-04, ...,\n",
       "         5.08749825e-01, 4.96991409e-06, 2.45475090e-01]), 'dv_fdr': array([0.0705892 , 0.78483936, 0.01762078, ..., 0.78296031, 0.00099177,\n",
       "         0.59156072])}}"
      ]
     },
     "execution_count": 110,
     "metadata": {},
     "output_type": "execute_result"
    }
   ],
   "source": [
    "stim_delta_dict"
   ]
  },
  {
   "cell_type": "code",
   "execution_count": null,
   "metadata": {},
   "outputs": [],
   "source": []
  },
  {
   "cell_type": "code",
   "execution_count": null,
   "metadata": {},
   "outputs": [],
   "source": []
  },
  {
   "cell_type": "code",
   "execution_count": null,
   "metadata": {},
   "outputs": [],
   "source": []
  },
  {
   "cell_type": "code",
   "execution_count": null,
   "metadata": {},
   "outputs": [],
   "source": []
  },
  {
   "cell_type": "code",
   "execution_count": null,
   "metadata": {},
   "outputs": [],
   "source": []
  },
  {
   "cell_type": "markdown",
   "metadata": {},
   "source": [
    "### Residual variance"
   ]
  },
  {
   "cell_type": "code",
   "execution_count": 23,
   "metadata": {},
   "outputs": [],
   "source": [
    "estimator.estimate_parameters()"
   ]
  },
  {
   "cell_type": "code",
   "execution_count": 24,
   "metadata": {},
   "outputs": [],
   "source": [
    "est_mean = np.concatenate([estimator.estimated_central_moments[ct]['first'] for ct in estimator.groups])\n",
    "est_var = np.concatenate([estimator.estimated_central_moments[ct]['second'] for ct in estimator.groups])\n",
    "est_disp = est_var/est_mean\n",
    "est_cv = est_var/est_mean**2"
   ]
  },
  {
   "cell_type": "code",
   "execution_count": 28,
   "metadata": {},
   "outputs": [
    {
     "name": "stdout",
     "output_type": "stream",
     "text": [
      "[0.02428444 0.00740224 0.00643607 ... 0.17376027 0.06297896 0.03336931]\n"
     ]
    },
    {
     "data": {
      "image/png": "[encoded data removed]",
      "text/plain": [
       "<Figure size 432x216 with 1 Axes>"
      ]
     },
     "metadata": {
      "needs_background": "light"
     },
     "output_type": "display_data"
    }
   ],
   "source": [
    "plt.figure(figsize=(6, 3))\n",
    "density_scatterplot(\n",
    "    np.log(est_mean),\n",
    "    np.log(est_var),\n",
    "    s=1, \n",
    "    cmap='coolwarm')\n",
    "x_fit = np.arange(-5, 5, 0.01)\n",
    "y_fit = x_fit*estimator.mean_var_slope\n",
    "plt.plot(x_fit, y_fit, color='k', lw=2)\n",
    "plt.ylim(-7,)\n",
    "plt.title('Estimated Mean - Variance Relationship');\n",
    "plt.xlabel('log( estimated true mean )')\n",
    "plt.ylabel('log( estimated true variance )')\n",
    "plt.savefig(data_path + 'figures/mean_vs_var.png', bbox_inches='tight')"
   ]
  },
  {
   "cell_type": "code",
   "execution_count": 29,
   "metadata": {},
   "outputs": [
    {
     "name": "stdout",
     "output_type": "stream",
     "text": [
      "[0.02428444 0.00740224 0.00643607 ... 0.17376027 0.06297896 0.0333693 ]\n"
     ]
    },
    {
     "data": {
      "image/png": "[encoded data removed]",
      "text/plain": [
       "<Figure size 432x144 with 1 Axes>"
      ]
     },
     "metadata": {
      "needs_background": "light"
     },
     "output_type": "display_data"
    }
   ],
   "source": [
    "plt.figure(figsize=(6, 2))\n",
    "density_scatterplot(\n",
    "    np.log(est_mean),\n",
    "    np.log(est_var) - estimator.mean_var_slope*np.log(est_mean),\n",
    "    s=1, \n",
    "    cmap='coolwarm')\n",
    "plt.plot([-5, 5], np.array([0, 0]), color='k', lw=2)\n",
    "plt.ylim(-5,12)\n",
    "plt.title('Estimated Mean - Residual Variance Relationship');\n",
    "plt.xlabel('log( estimated true mean )')\n",
    "plt.ylabel('log( residual variance )')\n",
    "plt.savefig(data_path + 'figures/mean_vs_res_var.png', bbox_inches='tight')"
   ]
  },
  {
   "cell_type": "markdown",
   "metadata": {},
   "source": [
    "### CD4 T cell analysis"
   ]
  },
  {
   "cell_type": "code",
   "execution_count": 150,
   "metadata": {},
   "outputs": [],
   "source": [
    "imp.reload(scme)\n",
    "estimator = scme.SingleCellEstimator(\n",
    "    adata=adata[adata.obs['cell'] == 'CD4 T cells', :].copy(), \n",
    "    group_label='cell_type',\n",
    "    n_umis_column='n_counts',\n",
    "    num_permute=10000,\n",
    "    beta=0.1)"
   ]
  },
  {
   "cell_type": "code",
   "execution_count": 151,
   "metadata": {},
   "outputs": [
    {
     "name": "stdout",
     "output_type": "stream",
     "text": [
      "Computing observed moments for: CD4 T cells - ctrl\n",
      "Computing observed moments for: CD4 T cells - stim\n"
     ]
    }
   ],
   "source": [
    "estimator.estimate_beta_sq(tolerance=3)"
   ]
  },
  {
   "cell_type": "code",
   "execution_count": 152,
   "metadata": {},
   "outputs": [],
   "source": [
    "estimator.estimate_parameters()"
   ]
  },
  {
   "cell_type": "code",
   "execution_count": 153,
   "metadata": {},
   "outputs": [],
   "source": [
    "ct = 'CD4 T cells'"
   ]
  },
  {
   "cell_type": "code",
   "execution_count": 155,
   "metadata": {},
   "outputs": [
    {
     "name": "stdout",
     "output_type": "stream",
     "text": [
      "Gamma RVs generated..\n",
      "CPU times: user 1min 50s, sys: 450 ms, total: 1min 50s\n",
      "Wall time: 1min 50s\n"
     ]
    }
   ],
   "source": [
    "%%time\n",
    "imp.reload(scme)\n",
    "estimator.compute_confidence_intervals_1d(\n",
    "    groups=[ct + ' - ctrl', ct + ' - stim'],\n",
    "    groups_to_compare=[(ct + ' - ctrl', ct + ' - stim')])"
   ]
  },
  {
   "cell_type": "code",
   "execution_count": null,
   "metadata": {},
   "outputs": [],
   "source": [
    "imp.reload(utils)\n",
    "upregulated_genes = utils.get_differential_genes(\n",
    "    adata.var.index.tolist(), \n",
    "    estimator.hypothesis_test_result_1d,\n",
    "    ct + ' - ctrl',\n",
    "    ct + ' - stim',\n",
    "    which='mean',\n",
    "    direction='increase',\n",
    "    sig=0.1, \n",
    "    num_genes=1000)"
   ]
  },
  {
   "cell_type": "code",
   "execution_count": 375,
   "metadata": {},
   "outputs": [],
   "source": [
    "inc_var_genes = utils.get_differential_genes(\n",
    "    adata.var.index.tolist(), \n",
    "    estimator.hypothesis_test_result_1d,\n",
    "    ct + ' - ctrl',\n",
    "    ct + ' - stim',\n",
    "    which='variance',\n",
    "    direction='increase',\n",
    "    sig=0.15, \n",
    "    num_genes=1000)\n",
    "dec_var_genes = utils.get_differential_genes(\n",
    "    adata.var.index.tolist(), \n",
    "    estimator.hypothesis_test_result_1d,\n",
    "    ct + ' - ctrl',\n",
    "    ct + ' - stim',\n",
    "    which='variance',\n",
    "    direction='decrease',\n",
    "    sig=0.15, \n",
    "    num_genes=1000)"
   ]
  },
  {
   "cell_type": "code",
   "execution_count": 397,
   "metadata": {},
   "outputs": [],
   "source": [
    "up_inc_var = upregulated_genes\\\n",
    "    .merge(inc_var_genes, on='gene', how='inner', suffixes=('_de', '_dv'))\n",
    "up_dec_var = upregulated_genes\\\n",
    "    .merge(dec_var_genes, on='gene', how='inner', suffixes=('_de', '_dv'))"
   ]
  },
  {
   "cell_type": "code",
   "execution_count": 398,
   "metadata": {},
   "outputs": [
    {
     "data": {
      "text/html": [
       "<div>\n",
       "<style scoped>\n",
       "    .dataframe tbody tr th:only-of-type {\n",
       "        vertical-align: middle;\n",
       "    }\n",
       "\n",
       "    .dataframe tbody tr th {\n",
       "        vertical-align: top;\n",
       "    }\n",
       "\n",
       "    .dataframe thead th {\n",
       "        text-align: right;\n",
       "    }\n",
       "</style>\n",
       "<table border=\"1\" class=\"dataframe\">\n",
       "  <thead>\n",
       "    <tr style=\"text-align: right;\">\n",
       "      <th></th>\n",
       "      <th>pval_de</th>\n",
       "      <th>fdr_de</th>\n",
       "      <th>effect_size_de</th>\n",
       "      <th>gene</th>\n",
       "      <th>rank_de</th>\n",
       "      <th>pval_dv</th>\n",
       "      <th>fdr_dv</th>\n",
       "      <th>effect_size_dv</th>\n",
       "      <th>rank_dv</th>\n",
       "    </tr>\n",
       "  </thead>\n",
       "  <tbody>\n",
       "    <tr>\n",
       "      <th>0</th>\n",
       "      <td>1.623588e-07</td>\n",
       "      <td>0.000008</td>\n",
       "      <td>0.492016</td>\n",
       "      <td>CCR7</td>\n",
       "      <td>23</td>\n",
       "      <td>3.799620e-03</td>\n",
       "      <td>0.120879</td>\n",
       "      <td>0.511030</td>\n",
       "      <td>29</td>\n",
       "    </tr>\n",
       "    <tr>\n",
       "      <th>1</th>\n",
       "      <td>1.878842e-07</td>\n",
       "      <td>0.000008</td>\n",
       "      <td>3.092909</td>\n",
       "      <td>TNFSF10</td>\n",
       "      <td>26</td>\n",
       "      <td>4.091971e-05</td>\n",
       "      <td>0.004042</td>\n",
       "      <td>1.119020</td>\n",
       "      <td>13</td>\n",
       "    </tr>\n",
       "    <tr>\n",
       "      <th>2</th>\n",
       "      <td>6.993094e-07</td>\n",
       "      <td>0.000015</td>\n",
       "      <td>0.381371</td>\n",
       "      <td>SRM</td>\n",
       "      <td>50</td>\n",
       "      <td>3.799620e-03</td>\n",
       "      <td>0.120879</td>\n",
       "      <td>0.703132</td>\n",
       "      <td>28</td>\n",
       "    </tr>\n",
       "    <tr>\n",
       "      <th>3</th>\n",
       "      <td>7.704338e-07</td>\n",
       "      <td>0.000016</td>\n",
       "      <td>0.990211</td>\n",
       "      <td>IRF1</td>\n",
       "      <td>51</td>\n",
       "      <td>5.599440e-03</td>\n",
       "      <td>0.143975</td>\n",
       "      <td>0.630926</td>\n",
       "      <td>37</td>\n",
       "    </tr>\n",
       "    <tr>\n",
       "      <th>4</th>\n",
       "      <td>9.914582e-07</td>\n",
       "      <td>0.000018</td>\n",
       "      <td>1.552170</td>\n",
       "      <td>PRF1</td>\n",
       "      <td>56</td>\n",
       "      <td>2.037870e-05</td>\n",
       "      <td>0.002493</td>\n",
       "      <td>0.990799</td>\n",
       "      <td>10</td>\n",
       "    </tr>\n",
       "    <tr>\n",
       "      <th>5</th>\n",
       "      <td>1.112283e-06</td>\n",
       "      <td>0.000019</td>\n",
       "      <td>3.192419</td>\n",
       "      <td>IFI27</td>\n",
       "      <td>61</td>\n",
       "      <td>3.723356e-07</td>\n",
       "      <td>0.000116</td>\n",
       "      <td>1.332213</td>\n",
       "      <td>4</td>\n",
       "    </tr>\n",
       "    <tr>\n",
       "      <th>6</th>\n",
       "      <td>1.155896e-06</td>\n",
       "      <td>0.000019</td>\n",
       "      <td>3.102690</td>\n",
       "      <td>IFITM3</td>\n",
       "      <td>62</td>\n",
       "      <td>2.541243e-07</td>\n",
       "      <td>0.000108</td>\n",
       "      <td>0.929113</td>\n",
       "      <td>2</td>\n",
       "    </tr>\n",
       "    <tr>\n",
       "      <th>7</th>\n",
       "      <td>1.281356e-06</td>\n",
       "      <td>0.000019</td>\n",
       "      <td>0.483148</td>\n",
       "      <td>ZC3HAV1</td>\n",
       "      <td>65</td>\n",
       "      <td>7.999200e-04</td>\n",
       "      <td>0.041707</td>\n",
       "      <td>0.844556</td>\n",
       "      <td>19</td>\n",
       "    </tr>\n",
       "    <tr>\n",
       "      <th>8</th>\n",
       "      <td>2.082402e-06</td>\n",
       "      <td>0.000024</td>\n",
       "      <td>0.168159</td>\n",
       "      <td>HSPA5</td>\n",
       "      <td>87</td>\n",
       "      <td>2.997340e-05</td>\n",
       "      <td>0.003309</td>\n",
       "      <td>1.184036</td>\n",
       "      <td>11</td>\n",
       "    </tr>\n",
       "    <tr>\n",
       "      <th>9</th>\n",
       "      <td>7.544188e-06</td>\n",
       "      <td>0.000052</td>\n",
       "      <td>0.577428</td>\n",
       "      <td>FUNDC1</td>\n",
       "      <td>133</td>\n",
       "      <td>5.399460e-03</td>\n",
       "      <td>0.143975</td>\n",
       "      <td>1.749850</td>\n",
       "      <td>36</td>\n",
       "    </tr>\n",
       "    <tr>\n",
       "      <th>10</th>\n",
       "      <td>1.652868e-05</td>\n",
       "      <td>0.000093</td>\n",
       "      <td>1.719509</td>\n",
       "      <td>CCL4</td>\n",
       "      <td>157</td>\n",
       "      <td>5.177654e-05</td>\n",
       "      <td>0.004095</td>\n",
       "      <td>1.194175</td>\n",
       "      <td>16</td>\n",
       "    </tr>\n",
       "    <tr>\n",
       "      <th>11</th>\n",
       "      <td>1.946241e-05</td>\n",
       "      <td>0.000103</td>\n",
       "      <td>0.567016</td>\n",
       "      <td>RPF2</td>\n",
       "      <td>164</td>\n",
       "      <td>2.052949e-04</td>\n",
       "      <td>0.012444</td>\n",
       "      <td>1.156969</td>\n",
       "      <td>17</td>\n",
       "    </tr>\n",
       "    <tr>\n",
       "      <th>12</th>\n",
       "      <td>1.994584e-05</td>\n",
       "      <td>0.000105</td>\n",
       "      <td>1.419019</td>\n",
       "      <td>MAP3K8</td>\n",
       "      <td>167</td>\n",
       "      <td>1.168194e-05</td>\n",
       "      <td>0.002425</td>\n",
       "      <td>1.761920</td>\n",
       "      <td>7</td>\n",
       "    </tr>\n",
       "    <tr>\n",
       "      <th>13</th>\n",
       "      <td>7.999200e-04</td>\n",
       "      <td>0.003171</td>\n",
       "      <td>0.576818</td>\n",
       "      <td>FABP5</td>\n",
       "      <td>226</td>\n",
       "      <td>2.055282e-04</td>\n",
       "      <td>0.012444</td>\n",
       "      <td>1.128778</td>\n",
       "      <td>18</td>\n",
       "    </tr>\n",
       "    <tr>\n",
       "      <th>14</th>\n",
       "      <td>3.219678e-02</td>\n",
       "      <td>0.076002</td>\n",
       "      <td>0.230812</td>\n",
       "      <td>KDM5A</td>\n",
       "      <td>337</td>\n",
       "      <td>2.799720e-03</td>\n",
       "      <td>0.103041</td>\n",
       "      <td>1.295394</td>\n",
       "      <td>26</td>\n",
       "    </tr>\n",
       "  </tbody>\n",
       "</table>\n",
       "</div>"
      ],
      "text/plain": [
       "         pval_de    fdr_de  effect_size_de     gene  rank_de       pval_dv  \\\n",
       "0   1.623588e-07  0.000008  0.492016        CCR7     23       3.799620e-03   \n",
       "1   1.878842e-07  0.000008  3.092909        TNFSF10  26       4.091971e-05   \n",
       "2   6.993094e-07  0.000015  0.381371        SRM      50       3.799620e-03   \n",
       "3   7.704338e-07  0.000016  0.990211        IRF1     51       5.599440e-03   \n",
       "4   9.914582e-07  0.000018  1.552170        PRF1     56       2.037870e-05   \n",
       "5   1.112283e-06  0.000019  3.192419        IFI27    61       3.723356e-07   \n",
       "6   1.155896e-06  0.000019  3.102690        IFITM3   62       2.541243e-07   \n",
       "7   1.281356e-06  0.000019  0.483148        ZC3HAV1  65       7.999200e-04   \n",
       "8   2.082402e-06  0.000024  0.168159        HSPA5    87       2.997340e-05   \n",
       "9   7.544188e-06  0.000052  0.577428        FUNDC1   133      5.399460e-03   \n",
       "10  1.652868e-05  0.000093  1.719509        CCL4     157      5.177654e-05   \n",
       "11  1.946241e-05  0.000103  0.567016        RPF2     164      2.052949e-04   \n",
       "12  1.994584e-05  0.000105  1.419019        MAP3K8   167      1.168194e-05   \n",
       "13  7.999200e-04  0.003171  0.576818        FABP5    226      2.055282e-04   \n",
       "14  3.219678e-02  0.076002  0.230812        KDM5A    337      2.799720e-03   \n",
       "\n",
       "      fdr_dv  effect_size_dv  rank_dv  \n",
       "0   0.120879  0.511030        29       \n",
       "1   0.004042  1.119020        13       \n",
       "2   0.120879  0.703132        28       \n",
       "3   0.143975  0.630926        37       \n",
       "4   0.002493  0.990799        10       \n",
       "5   0.000116  1.332213        4        \n",
       "6   0.000108  0.929113        2        \n",
       "7   0.041707  0.844556        19       \n",
       "8   0.003309  1.184036        11       \n",
       "9   0.143975  1.749850        36       \n",
       "10  0.004095  1.194175        16       \n",
       "11  0.012444  1.156969        17       \n",
       "12  0.002425  1.761920        7        \n",
       "13  0.012444  1.128778        18       \n",
       "14  0.103041  1.295394        26       "
      ]
     },
     "execution_count": 398,
     "metadata": {},
     "output_type": "execute_result"
    }
   ],
   "source": [
    "up_inc_var"
   ]
  },
  {
   "cell_type": "code",
   "execution_count": 399,
   "metadata": {},
   "outputs": [
    {
     "data": {
      "text/html": [
       "<div>\n",
       "<style scoped>\n",
       "    .dataframe tbody tr th:only-of-type {\n",
       "        vertical-align: middle;\n",
       "    }\n",
       "\n",
       "    .dataframe tbody tr th {\n",
       "        vertical-align: top;\n",
       "    }\n",
       "\n",
       "    .dataframe thead th {\n",
       "        text-align: right;\n",
       "    }\n",
       "</style>\n",
       "<table border=\"1\" class=\"dataframe\">\n",
       "  <thead>\n",
       "    <tr style=\"text-align: right;\">\n",
       "      <th></th>\n",
       "      <th>pval_de</th>\n",
       "      <th>fdr_de</th>\n",
       "      <th>effect_size_de</th>\n",
       "      <th>gene</th>\n",
       "      <th>rank_de</th>\n",
       "      <th>pval_dv</th>\n",
       "      <th>fdr_dv</th>\n",
       "      <th>effect_size_dv</th>\n",
       "      <th>rank_dv</th>\n",
       "    </tr>\n",
       "  </thead>\n",
       "  <tbody>\n",
       "    <tr>\n",
       "      <th>0</th>\n",
       "      <td>1.233110e-08</td>\n",
       "      <td>0.000003</td>\n",
       "      <td>0.767666</td>\n",
       "      <td>GIMAP4</td>\n",
       "      <td>6</td>\n",
       "      <td>1.291838e-05</td>\n",
       "      <td>0.002425</td>\n",
       "      <td>0.839443</td>\n",
       "      <td>3</td>\n",
       "    </tr>\n",
       "    <tr>\n",
       "      <th>1</th>\n",
       "      <td>5.148650e-08</td>\n",
       "      <td>0.000006</td>\n",
       "      <td>2.632958</td>\n",
       "      <td>IFI44</td>\n",
       "      <td>13</td>\n",
       "      <td>1.461069e-04</td>\n",
       "      <td>0.010157</td>\n",
       "      <td>1.550909</td>\n",
       "      <td>11</td>\n",
       "    </tr>\n",
       "    <tr>\n",
       "      <th>2</th>\n",
       "      <td>1.644337e-07</td>\n",
       "      <td>0.000008</td>\n",
       "      <td>0.140271</td>\n",
       "      <td>TRAT1</td>\n",
       "      <td>25</td>\n",
       "      <td>9.999000e-04</td>\n",
       "      <td>0.049390</td>\n",
       "      <td>0.881253</td>\n",
       "      <td>19</td>\n",
       "    </tr>\n",
       "    <tr>\n",
       "      <th>3</th>\n",
       "      <td>3.258228e-07</td>\n",
       "      <td>0.000010</td>\n",
       "      <td>3.307848</td>\n",
       "      <td>IFI44L</td>\n",
       "      <td>30</td>\n",
       "      <td>1.549690e-05</td>\n",
       "      <td>0.002489</td>\n",
       "      <td>1.865907</td>\n",
       "      <td>4</td>\n",
       "    </tr>\n",
       "    <tr>\n",
       "      <th>4</th>\n",
       "      <td>6.082355e-07</td>\n",
       "      <td>0.000014</td>\n",
       "      <td>0.763173</td>\n",
       "      <td>SELL</td>\n",
       "      <td>43</td>\n",
       "      <td>7.999200e-04</td>\n",
       "      <td>0.041707</td>\n",
       "      <td>0.560770</td>\n",
       "      <td>17</td>\n",
       "    </tr>\n",
       "    <tr>\n",
       "      <th>5</th>\n",
       "      <td>2.087332e-06</td>\n",
       "      <td>0.000024</td>\n",
       "      <td>0.262437</td>\n",
       "      <td>CYCS</td>\n",
       "      <td>86</td>\n",
       "      <td>9.999000e-04</td>\n",
       "      <td>0.049390</td>\n",
       "      <td>1.037301</td>\n",
       "      <td>18</td>\n",
       "    </tr>\n",
       "    <tr>\n",
       "      <th>6</th>\n",
       "      <td>2.901903e-06</td>\n",
       "      <td>0.000029</td>\n",
       "      <td>0.868869</td>\n",
       "      <td>ARHGAP25</td>\n",
       "      <td>95</td>\n",
       "      <td>1.599840e-03</td>\n",
       "      <td>0.066731</td>\n",
       "      <td>0.928255</td>\n",
       "      <td>22</td>\n",
       "    </tr>\n",
       "    <tr>\n",
       "      <th>7</th>\n",
       "      <td>3.389279e-06</td>\n",
       "      <td>0.000032</td>\n",
       "      <td>1.497907</td>\n",
       "      <td>PARP11</td>\n",
       "      <td>100</td>\n",
       "      <td>1.821716e-05</td>\n",
       "      <td>0.002489</td>\n",
       "      <td>0.950234</td>\n",
       "      <td>5</td>\n",
       "    </tr>\n",
       "    <tr>\n",
       "      <th>8</th>\n",
       "      <td>7.237614e-06</td>\n",
       "      <td>0.000051</td>\n",
       "      <td>4.624475</td>\n",
       "      <td>IFIT1</td>\n",
       "      <td>131</td>\n",
       "      <td>1.999800e-04</td>\n",
       "      <td>0.012444</td>\n",
       "      <td>3.780797</td>\n",
       "      <td>13</td>\n",
       "    </tr>\n",
       "    <tr>\n",
       "      <th>9</th>\n",
       "      <td>1.784071e-05</td>\n",
       "      <td>0.000097</td>\n",
       "      <td>4.607336</td>\n",
       "      <td>IFIT3</td>\n",
       "      <td>160</td>\n",
       "      <td>1.999800e-04</td>\n",
       "      <td>0.012444</td>\n",
       "      <td>4.622662</td>\n",
       "      <td>12</td>\n",
       "    </tr>\n",
       "    <tr>\n",
       "      <th>10</th>\n",
       "      <td>4.525679e-05</td>\n",
       "      <td>0.000217</td>\n",
       "      <td>2.379637</td>\n",
       "      <td>OASL</td>\n",
       "      <td>191</td>\n",
       "      <td>2.125117e-05</td>\n",
       "      <td>0.002493</td>\n",
       "      <td>1.907887</td>\n",
       "      <td>6</td>\n",
       "    </tr>\n",
       "    <tr>\n",
       "      <th>11</th>\n",
       "      <td>4.862425e-05</td>\n",
       "      <td>0.000231</td>\n",
       "      <td>2.472374</td>\n",
       "      <td>LGALS2</td>\n",
       "      <td>193</td>\n",
       "      <td>1.211364e-07</td>\n",
       "      <td>0.000084</td>\n",
       "      <td>0.439605</td>\n",
       "      <td>2</td>\n",
       "    </tr>\n",
       "    <tr>\n",
       "      <th>12</th>\n",
       "      <td>9.589775e-05</td>\n",
       "      <td>0.000438</td>\n",
       "      <td>0.255257</td>\n",
       "      <td>PPP2R5C</td>\n",
       "      <td>204</td>\n",
       "      <td>4.199580e-03</td>\n",
       "      <td>0.125121</td>\n",
       "      <td>0.705906</td>\n",
       "      <td>32</td>\n",
       "    </tr>\n",
       "    <tr>\n",
       "      <th>13</th>\n",
       "      <td>9.999000e-03</td>\n",
       "      <td>0.028295</td>\n",
       "      <td>0.299842</td>\n",
       "      <td>SLC38A2</td>\n",
       "      <td>288</td>\n",
       "      <td>1.127751e-04</td>\n",
       "      <td>0.008141</td>\n",
       "      <td>1.051292</td>\n",
       "      <td>10</td>\n",
       "    </tr>\n",
       "    <tr>\n",
       "      <th>14</th>\n",
       "      <td>2.519748e-02</td>\n",
       "      <td>0.062134</td>\n",
       "      <td>0.285043</td>\n",
       "      <td>C2orf47</td>\n",
       "      <td>325</td>\n",
       "      <td>1.399860e-03</td>\n",
       "      <td>0.059717</td>\n",
       "      <td>1.749025</td>\n",
       "      <td>20</td>\n",
       "    </tr>\n",
       "  </tbody>\n",
       "</table>\n",
       "</div>"
      ],
      "text/plain": [
       "         pval_de    fdr_de  effect_size_de      gene  rank_de       pval_dv  \\\n",
       "0   1.233110e-08  0.000003  0.767666        GIMAP4    6        1.291838e-05   \n",
       "1   5.148650e-08  0.000006  2.632958        IFI44     13       1.461069e-04   \n",
       "2   1.644337e-07  0.000008  0.140271        TRAT1     25       9.999000e-04   \n",
       "3   3.258228e-07  0.000010  3.307848        IFI44L    30       1.549690e-05   \n",
       "4   6.082355e-07  0.000014  0.763173        SELL      43       7.999200e-04   \n",
       "5   2.087332e-06  0.000024  0.262437        CYCS      86       9.999000e-04   \n",
       "6   2.901903e-06  0.000029  0.868869        ARHGAP25  95       1.599840e-03   \n",
       "7   3.389279e-06  0.000032  1.497907        PARP11    100      1.821716e-05   \n",
       "8   7.237614e-06  0.000051  4.624475        IFIT1     131      1.999800e-04   \n",
       "9   1.784071e-05  0.000097  4.607336        IFIT3     160      1.999800e-04   \n",
       "10  4.525679e-05  0.000217  2.379637        OASL      191      2.125117e-05   \n",
       "11  4.862425e-05  0.000231  2.472374        LGALS2    193      1.211364e-07   \n",
       "12  9.589775e-05  0.000438  0.255257        PPP2R5C   204      4.199580e-03   \n",
       "13  9.999000e-03  0.028295  0.299842        SLC38A2   288      1.127751e-04   \n",
       "14  2.519748e-02  0.062134  0.285043        C2orf47   325      1.399860e-03   \n",
       "\n",
       "      fdr_dv  effect_size_dv  rank_dv  \n",
       "0   0.002425  0.839443        3        \n",
       "1   0.010157  1.550909        11       \n",
       "2   0.049390  0.881253        19       \n",
       "3   0.002489  1.865907        4        \n",
       "4   0.041707  0.560770        17       \n",
       "5   0.049390  1.037301        18       \n",
       "6   0.066731  0.928255        22       \n",
       "7   0.002489  0.950234        5        \n",
       "8   0.012444  3.780797        13       \n",
       "9   0.012444  4.622662        12       \n",
       "10  0.002493  1.907887        6        \n",
       "11  0.000084  0.439605        2        \n",
       "12  0.125121  0.705906        32       \n",
       "13  0.008141  1.051292        10       \n",
       "14  0.059717  1.749025        20       "
      ]
     },
     "execution_count": 399,
     "metadata": {},
     "output_type": "execute_result"
    }
   ],
   "source": [
    "up_dec_var"
   ]
  },
  {
   "cell_type": "markdown",
   "metadata": {},
   "source": [
    "## Effect of interferon stimulation across cell types"
   ]
  },
  {
   "cell_type": "markdown",
   "metadata": {},
   "source": [
    "### Read 1D Hypothesis test results and confidence intervals"
   ]
  },
  {
   "cell_type": "markdown",
   "metadata": {},
   "source": [
    "### Expression changes across CT for a gene"
   ]
  },
  {
   "cell_type": "code",
   "execution_count": 22,
   "metadata": {},
   "outputs": [],
   "source": [
    "with open(data_path + 'stim_effect_1d_params.pkl', 'rb') as f:\n",
    "    parameter_dict = pkl.load(f)"
   ]
  },
  {
   "cell_type": "code",
   "execution_count": 23,
   "metadata": {},
   "outputs": [],
   "source": [
    "with open(data_path + 'stim_effect_ci_1d.pkl', 'rb') as f:\n",
    "    ci_dict = pkl.load(f)"
   ]
  },
  {
   "cell_type": "code",
   "execution_count": 24,
   "metadata": {},
   "outputs": [],
   "source": [
    "adata.var['num'] = np.arange(adata.shape[1])"
   ]
  },
  {
   "cell_type": "code",
   "execution_count": 25,
   "metadata": {},
   "outputs": [
    {
     "data": {
      "text/plain": [
       "gene_ids    ENSG00000126709\n",
       "n_cells     12919          \n",
       "num         34             \n",
       "Name: IFI6, dtype: object"
      ]
     },
     "execution_count": 25,
     "metadata": {},
     "output_type": "execute_result"
    }
   ],
   "source": [
    "adata.var.loc['IFI6']"
   ]
  },
  {
   "cell_type": "code",
   "execution_count": 32,
   "metadata": {},
   "outputs": [
    {
     "data": {
      "text/plain": [
       "{'mean': array([0.11641452, 0.448196  , 0.8653453 , ..., 0.56849104, 0.2658132 ,\n",
       "        0.40745094], dtype=float32),\n",
       " 'log_mean': array([-2.150598  , -0.8025247 , -0.14462666, ..., -0.56476974,\n",
       "        -1.3249614 , -0.8978347 ], dtype=float32),\n",
       " 'residual_var': array([3.75603655, 2.0069145 , 2.94908531, ..., 2.53497887, 1.12987436,\n",
       "        1.90244249]),\n",
       " 'log_residual_var': array([1.32336429, 0.69659847, 1.08149506, ..., 0.9301853 , 0.12210644,\n",
       "        0.64313858])}"
      ]
     },
     "execution_count": 32,
     "metadata": {},
     "output_type": "execute_result"
    }
   ],
   "source": [
    "parameter_dict['CD4 T cells' + ' - ctrl']"
   ]
  },
  {
   "cell_type": "code",
   "execution_count": 33,
   "metadata": {},
   "outputs": [],
   "source": [
    "def plot_exp_changes_across_ct(gene, parameter_dict, ci_dict, barwidth=0.3):\n",
    "    \n",
    "    plt.figure(figsize=(11, 6))\n",
    "    \n",
    "    plt.subplots_adjust(hspace=0.1)\n",
    "    \n",
    "    groups = adata.obs['cell'].drop_duplicates()\n",
    "    \n",
    "    labels = adata.obs['cell'].drop_duplicates()\n",
    "    labels = [label.replace(' ', '\\n') for label in labels]\n",
    "    labels[-2] = 'Megaka\\nryocytes'\n",
    "    \n",
    "    gene_idx = np.where(adata.var.index == gene)[0][0]\n",
    "    \n",
    "    ctrl_means = np.array([parameter_dict[group + ' - ctrl']['mean'][gene_idx] for group in groups])\n",
    "    stim_means = np.array([parameter_dict[group + ' - stim']['mean'][gene_idx] for group in groups])\n",
    "    ctrl_means_ci = np.array([ci_dict[group + ' - ctrl']['log1p_mean'][gene_idx] for group in groups])\n",
    "    stim_means_ci = np.array([ci_dict[group + ' - stim']['log1p_mean'][gene_idx] for group in groups])\n",
    "    \n",
    "    ctrl_vars = np.array([parameter_dict[group + ' - ctrl']['residual_var'][gene_idx] for group in groups])\n",
    "    stim_vars = np.array([parameter_dict[group + ' - stim']['residual_var'][gene_idx] for group in groups])\n",
    "    ctrl_vars_ci = np.array([ci_dict[group + ' - ctrl']['log1p_residual_var'][gene_idx] for group in groups])\n",
    "    stim_vars_ci = np.array([ci_dict[group + ' - stim']['log1p_residual_var'][gene_idx] for group in groups])\n",
    "    \n",
    "    ctrl_loc = np.arange(len(ctrl_means)) - barwidth/2\n",
    "    stim_loc = np.arange(len(ctrl_means)) + barwidth/2\n",
    "    \n",
    "    plt.subplot(2, 1, 1)\n",
    "    plt.title('{} Expression in response to IFN-B'.format(gene))\n",
    "    plt.bar(\n",
    "        ctrl_loc, \n",
    "        np.log(ctrl_means+1), \n",
    "        width=barwidth,\n",
    "        yerr=ctrl_means_ci,\n",
    "        capsize=5\n",
    "    )\n",
    "    plt.bar(\n",
    "        stim_loc, \n",
    "        np.log(stim_means+1), \n",
    "        width=barwidth,\n",
    "        yerr=stim_means_ci,\n",
    "        capsize=5\n",
    "    )\n",
    "    plt.xticks([])\n",
    "    plt.legend(['control', 'IFN-B'])\n",
    "    plt.ylabel('Log(mean+1)')\n",
    "    plt.ylim(0, max(np.log(ctrl_means+1).max(), np.log(stim_means+1).max()) + 1)\n",
    "    \n",
    "    plt.subplot(2, 1, 2)\n",
    "    plt.bar(\n",
    "        ctrl_loc, \n",
    "        np.log(ctrl_vars+1), \n",
    "        width=barwidth,\n",
    "        yerr=ctrl_vars_ci,\n",
    "        capsize=5\n",
    "    )\n",
    "    plt.bar(\n",
    "        stim_loc, \n",
    "        np.log(stim_vars+1), \n",
    "        width=barwidth,\n",
    "        yerr=stim_vars_ci,\n",
    "        capsize=5\n",
    "    )\n",
    "    plt.xticks(np.arange(len(ctrl_means)), labels)\n",
    "    plt.ylim(0, max(np.log(ctrl_vars+1).max(), np.log(stim_vars+1).max()) + 1)\n",
    "    plt.ylabel('Log(res.variance+1)')"
   ]
  },
  {
   "cell_type": "code",
   "execution_count": 35,
   "metadata": {},
   "outputs": [],
   "source": [
    "across_ct_genes = ['TNFSF10', 'IFI44L', 'TRIM22']"
   ]
  },
  {
   "cell_type": "code",
   "execution_count": 36,
   "metadata": {},
   "outputs": [
    {
     "data": {
      "image/png": "[encoded data removed]",
      "text/plain": [
       "<Figure size 792x432 with 2 Axes>"
      ]
     },
     "metadata": {
      "needs_background": "light"
     },
     "output_type": "display_data"
    },
    {
     "data": {
      "image/png": "[encoded data removed]",
      "text/plain": [
       "<Figure size 792x432 with 2 Axes>"
      ]
     },
     "metadata": {
      "needs_background": "light"
     },
     "output_type": "display_data"
    },
    {
     "data": {
      "image/png": "[encoded data removed]",
      "text/plain": [
       "<Figure size 792x432 with 2 Axes>"
      ]
     },
     "metadata": {
      "needs_background": "light"
     },
     "output_type": "display_data"
    }
   ],
   "source": [
    "for gene in across_ct_genes:\n",
    "    try:\n",
    "        plot_exp_changes_across_ct(gene, parameter_dict, ci_dict)\n",
    "    except:\n",
    "        continue\n",
    "    plt.savefig(data_path + 'figures/{}_across_ct.pdf'.format(gene), bbox_inches='tight')"
   ]
  },
  {
   "cell_type": "markdown",
   "metadata": {},
   "source": [
    "### Expression changes across different genes for a CT"
   ]
  },
  {
   "cell_type": "code",
   "execution_count": 1,
   "metadata": {},
   "outputs": [],
   "source": [
    "def plot_exp_across_genes(genes, ct, parameter_dict, ci_dict, barwidth=0.3):\n",
    "\n",
    "    plt.figure(figsize=(len(genes)*1.5, 7))\n",
    "    \n",
    "    genes_idx = [np.where(adata.var.index == gene)[0][0] for gene in genes]\n",
    "    \n",
    "    ctrl_means = np.array([parameter_dict[ct + ' - ctrl']['mean'][gene_idx] for gene_idx in genes_idx])\n",
    "    stim_means = np.array([parameter_dict[ct + ' - stim']['mean'][gene_idx] for gene_idx in genes_idx])\n",
    "    ctrl_means_ci = np.array([ci_dict[ct + ' - ctrl']['log1p_mean'][gene_idx] for gene_idx in genes_idx])\n",
    "    stim_means_ci = np.array([ci_dict[ct + ' - stim']['log1p_mean'][gene_idx] for gene_idx in genes_idx])\n",
    "\n",
    "    ctrl_vars = np.array([parameter_dict[ct + ' - ctrl']['residual_var'][gene_idx] for gene_idx in genes_idx])\n",
    "    stim_vars = np.array([parameter_dict[ct + ' - stim']['residual_var'][gene_idx] for gene_idx in genes_idx])\n",
    "    ctrl_vars_ci = np.array([ci_dict[ct + ' - ctrl']['log1p_residual_var'][gene_idx] for gene_idx in genes_idx])\n",
    "    stim_vars_ci = np.array([ci_dict[ct + ' - stim']['log1p_residual_var'][gene_idx] for gene_idx in genes_idx])\n",
    "    \n",
    "    ctrl_loc = np.arange(len(ctrl_means)) - barwidth/2\n",
    "    stim_loc = np.arange(len(ctrl_means)) + barwidth/2\n",
    "    labels = genes\n",
    "    \n",
    "    plt.subplot(2, 1, 1)\n",
    "    plt.title('Expression changes in {}'.format(ct))\n",
    "    plt.bar(\n",
    "        ctrl_loc, \n",
    "        np.log(ctrl_means+1), \n",
    "        width = barwidth,\n",
    "        yerr=ctrl_means_ci,\n",
    "        capsize=5\n",
    "    )\n",
    "    plt.bar(\n",
    "        stim_loc, \n",
    "        np.log(stim_means+1), \n",
    "        width = barwidth,\n",
    "        yerr=stim_means_ci,\n",
    "        capsize=5\n",
    "    )\n",
    "    plt.ylim(0, max(np.log(ctrl_means+1).max(), np.log(stim_means+1).max()) + 0.5)\n",
    "    plt.xticks([])\n",
    "    plt.legend(['control', 'IFN-B'])\n",
    "    plt.ylabel('Log(mean+1)')\n",
    "    \n",
    "    plt.subplot(2, 1, 2)\n",
    "    plt.bar(\n",
    "        ctrl_loc, \n",
    "        np.log(ctrl_vars+1), \n",
    "        width = barwidth,\n",
    "        yerr=ctrl_vars_ci,\n",
    "        capsize=5\n",
    "    )\n",
    "    plt.bar(\n",
    "        stim_loc, \n",
    "        np.log(stim_vars+1), \n",
    "        width = barwidth,\n",
    "        yerr=stim_vars_ci,\n",
    "        capsize=5\n",
    "    )\n",
    "    plt.ylim(0, max(np.log(ctrl_vars+1).max(), np.log(stim_vars+1).max()) + 1.4)\n",
    "    plt.xticks(np.arange(len(ctrl_means)), labels)\n",
    "    plt.ylabel('Log(res.variance+1)')"
   ]
  },
  {
   "cell_type": "code",
   "execution_count": 2,
   "metadata": {},
   "outputs": [],
   "source": [
    "#genes_1 = ['PTCD3', 'CDK12', 'RAB3GAP1', 'FAS', 'SETX']\n",
    "genes_1 = ['HSPA5', 'KDM5A', 'FUNDC1', 'SELL', 'TRAT1']\n",
    "# both sig, only var sig, both sig, both sig, both sig, only var"
   ]
  },
  {
   "cell_type": "code",
   "execution_count": 3,
   "metadata": {},
   "outputs": [],
   "source": [
    "genes_2 = ['IFIT1', 'IFIT2', 'IFIT3', 'IFITM3', 'IFIT5', 'IFI27']"
   ]
  },
  {
   "cell_type": "code",
   "execution_count": 44,
   "metadata": {},
   "outputs": [
    {
     "data": {
      "image/png": "[encoded data removed]",
      "text/plain": [
       "<Figure size 648x504 with 2 Axes>"
      ]
     },
     "metadata": {
      "needs_background": "light"
     },
     "output_type": "display_data"
    }
   ],
   "source": [
    "plot_exp_across_genes(genes_2, 'CD4 T cells', parameter_dict, ci_dict, barwidth=0.3)\n",
    "plt.savefig(data_path + 'figures/cd4_across_genes.pdf'.format(gene), bbox_inches='tight')"
   ]
  },
  {
   "cell_type": "code",
   "execution_count": 41,
   "metadata": {},
   "outputs": [
    {
     "data": {
      "image/png": "[encoded data removed]",
      "text/plain": [
       "<Figure size 540x504 with 2 Axes>"
      ]
     },
     "metadata": {
      "needs_background": "light"
     },
     "output_type": "display_data"
    }
   ],
   "source": [
    "plot_exp_across_genes(genes_1, 'CD4 T cells', parameter_dict, ci_dict, barwidth=0.3)\n",
    "plt.savefig(data_path + 'figures/cd4_across_genes_2.pdf'.format(gene), bbox_inches='tight')"
   ]
  },
  {
   "cell_type": "markdown",
   "metadata": {},
   "source": [
    "### Differential expression + variability plot"
   ]
  },
  {
   "cell_type": "code",
   "execution_count": 28,
   "metadata": {},
   "outputs": [],
   "source": [
    "with open(data_path + 'stim_effect_1d.pkl', 'rb') as f:\n",
    "    stim_delta_dict = pkl.load(f)"
   ]
  },
  {
   "cell_type": "code",
   "execution_count": 50,
   "metadata": {},
   "outputs": [],
   "source": [
    "ct = 'CD4 T cells'\n",
    "de_diff = stim_delta_dict[(ct + ' - ctrl', ct + ' - stim')]['de_diff']\n",
    "dv_diff = stim_delta_dict[(ct + ' - ctrl', ct + ' - stim')]['dv_diff']\n",
    "de_fdr = stim_delta_dict[(ct + ' - ctrl', ct + ' - stim')]['de_fdr']\n",
    "dv_fdr = stim_delta_dict[(ct + ' - ctrl', ct + ' - stim')]['dv_fdr']"
   ]
  },
  {
   "cell_type": "code",
   "execution_count": 91,
   "metadata": {},
   "outputs": [],
   "source": [
    "def pretty_print(arr):\n",
    "    \n",
    "    for a in arr:\n",
    "        print(a + ',')"
   ]
  },
  {
   "cell_type": "code",
   "execution_count": 84,
   "metadata": {},
   "outputs": [],
   "source": [
    "lower_right = adata.var.index[(de_diff > 0) & (dv_diff < 0) & sig]\n",
    "upper_right = adata.var.index[(de_diff > 0) & (dv_diff > 0) & sig]\n",
    "lower_left = adata.var.index[(de_diff < 0) & (dv_diff < 0) & sig]\n",
    "upper_left = adata.var.index[(de_diff < 0) & (dv_diff > 0) & sig]"
   ]
  },
  {
   "cell_type": "code",
   "execution_count": 88,
   "metadata": {},
   "outputs": [
    {
     "data": {
      "text/plain": [
       "Index(['IFI6', 'IFI44L', 'IFI44', 'C1orf52', 'SELL', 'CMPK2', 'RSAD2',\n",
       "       'EIF2AK2', 'ARHGAP25', 'TNFAIP6', 'GPR155', 'C2orf47', 'NCL', 'TRAT1',\n",
       "       'LAMP3', 'ARAP2', 'TBC1D1', 'CYCS', 'GIMAP4', 'SLC38A5', 'LY6E',\n",
       "       'IFIT2', 'IFIT3', 'IFIT1', 'ASCL2', 'TRIM22', 'CCDC85B', 'PARP11',\n",
       "       'SLC38A2', 'OASL', 'EPSTI1', 'PPP2R5C', 'ZBP1', 'LGALS2'],\n",
       "      dtype='object', name='index')"
      ]
     },
     "execution_count": 88,
     "metadata": {},
     "output_type": "execute_result"
    }
   ],
   "source": [
    "lower_right"
   ]
  },
  {
   "cell_type": "code",
   "execution_count": 94,
   "metadata": {},
   "outputs": [
    {
     "name": "stdout",
     "output_type": "stream",
     "text": [
      "CD52,\n",
      "S100A8,\n",
      "CXCR4,\n",
      "METTL21A,\n",
      "VCAN,\n",
      "COA1,\n",
      "CLEC5A,\n",
      "RAB33A,\n",
      "NUDT5,\n",
      "C10orf54,\n",
      "B3GAT3,\n",
      "CCS,\n",
      "PTPRCAP,\n",
      "RGCC,\n",
      "THBS1,\n",
      "PLEKHF1,\n",
      "EMP3,\n",
      "FAM118A,\n",
      "IFNAR2,\n"
     ]
    }
   ],
   "source": [
    "pretty_print(upper_left)"
   ]
  },
  {
   "cell_type": "code",
   "execution_count": 71,
   "metadata": {},
   "outputs": [
    {
     "name": "stdout",
     "output_type": "stream",
     "text": [
      "FAM159A\n",
      "PRPF38B\n",
      "DUSP12\n",
      "MRPL55\n",
      "SMC4\n",
      "PPP1R2\n",
      "CDKN2AIP\n",
      "C9orf142\n",
      "MIS18BP1\n",
      "CGRRF1\n",
      "MAP2K1\n",
      "UQCRC2\n",
      "DLGAP1-AS1\n",
      "CHMP1B\n",
      "BABAM1\n"
     ]
    }
   ],
   "source": [
    "pretty_print(adata.var.index[(de_diff < 0) & (dv_diff < 0) & sig])"
   ]
  },
  {
   "cell_type": "code",
   "execution_count": 53,
   "metadata": {},
   "outputs": [],
   "source": [
    "sig = (de_fdr < 0.1) & (dv_fdr < 0.2)"
   ]
  },
  {
   "cell_type": "code",
   "execution_count": 1,
   "metadata": {},
   "outputs": [
    {
     "ename": "NameError",
     "evalue": "name 'plt' is not defined",
     "output_type": "error",
     "traceback": [
      "\u001b[0;31m---------------------------------------------------------------------------\u001b[0m",
      "\u001b[0;31mNameError\u001b[0m                                 Traceback (most recent call last)",
      "\u001b[0;32m<ipython-input-1-c8d0535afee5>\u001b[0m in \u001b[0;36m<module>\u001b[0;34m\u001b[0m\n\u001b[0;32m----> 1\u001b[0;31m \u001b[0mplt\u001b[0m\u001b[0;34m.\u001b[0m\u001b[0mscatter\u001b[0m\u001b[0;34m(\u001b[0m\u001b[0mde_diff\u001b[0m\u001b[0;34m[\u001b[0m\u001b[0msig\u001b[0m\u001b[0;34m]\u001b[0m\u001b[0;34m,\u001b[0m \u001b[0mdv_diff\u001b[0m\u001b[0;34m[\u001b[0m\u001b[0msig\u001b[0m\u001b[0;34m]\u001b[0m\u001b[0;34m,\u001b[0m \u001b[0ms\u001b[0m\u001b[0;34m=\u001b[0m\u001b[0;36m40\u001b[0m\u001b[0;34m,\u001b[0m \u001b[0mcolor\u001b[0m\u001b[0;34m=\u001b[0m\u001b[0;34m'g'\u001b[0m\u001b[0;34m)\u001b[0m\u001b[0;34m\u001b[0m\u001b[0;34m\u001b[0m\u001b[0m\n\u001b[0m\u001b[1;32m      2\u001b[0m \u001b[0mplt\u001b[0m\u001b[0;34m.\u001b[0m\u001b[0mscatter\u001b[0m\u001b[0;34m(\u001b[0m\u001b[0mde_diff\u001b[0m\u001b[0;34m[\u001b[0m\u001b[0;34m~\u001b[0m\u001b[0msig\u001b[0m\u001b[0;34m]\u001b[0m\u001b[0;34m,\u001b[0m \u001b[0mdv_diff\u001b[0m\u001b[0;34m[\u001b[0m\u001b[0;34m~\u001b[0m\u001b[0msig\u001b[0m\u001b[0;34m]\u001b[0m\u001b[0;34m,\u001b[0m \u001b[0ms\u001b[0m\u001b[0;34m=\u001b[0m\u001b[0;36m1\u001b[0m\u001b[0;34m,\u001b[0m \u001b[0mcolor\u001b[0m\u001b[0;34m=\u001b[0m\u001b[0;34m'grey'\u001b[0m\u001b[0;34m)\u001b[0m\u001b[0;34m\u001b[0m\u001b[0;34m\u001b[0m\u001b[0m\n\u001b[1;32m      3\u001b[0m \u001b[0mplt\u001b[0m\u001b[0;34m.\u001b[0m\u001b[0mplot\u001b[0m\u001b[0;34m(\u001b[0m\u001b[0;34m[\u001b[0m\u001b[0;36m0\u001b[0m\u001b[0;34m,\u001b[0m \u001b[0;36m0\u001b[0m\u001b[0;34m]\u001b[0m\u001b[0;34m,\u001b[0m \u001b[0;34m[\u001b[0m\u001b[0;34m-\u001b[0m\u001b[0;36m4\u001b[0m\u001b[0;34m,\u001b[0m \u001b[0;36m2.5\u001b[0m\u001b[0;34m]\u001b[0m\u001b[0;34m,\u001b[0m \u001b[0;34m'--'\u001b[0m\u001b[0;34m,\u001b[0m \u001b[0mlw\u001b[0m\u001b[0;34m=\u001b[0m\u001b[0;36m5\u001b[0m\u001b[0;34m,\u001b[0m \u001b[0mcolor\u001b[0m\u001b[0;34m=\u001b[0m\u001b[0;34m'k'\u001b[0m\u001b[0;34m)\u001b[0m\u001b[0;34m\u001b[0m\u001b[0;34m\u001b[0m\u001b[0m\n\u001b[1;32m      4\u001b[0m \u001b[0mplt\u001b[0m\u001b[0;34m.\u001b[0m\u001b[0mplot\u001b[0m\u001b[0;34m(\u001b[0m\u001b[0;34m[\u001b[0m\u001b[0;34m-\u001b[0m\u001b[0;36m3\u001b[0m\u001b[0;34m,\u001b[0m \u001b[0;36m5\u001b[0m\u001b[0;34m]\u001b[0m\u001b[0;34m,\u001b[0m \u001b[0;34m[\u001b[0m\u001b[0;36m0\u001b[0m\u001b[0;34m,\u001b[0m \u001b[0;36m0\u001b[0m\u001b[0;34m]\u001b[0m\u001b[0;34m,\u001b[0m \u001b[0;34m'--'\u001b[0m\u001b[0;34m,\u001b[0m \u001b[0mlw\u001b[0m\u001b[0;34m=\u001b[0m\u001b[0;36m5\u001b[0m\u001b[0;34m,\u001b[0m \u001b[0mcolor\u001b[0m\u001b[0;34m=\u001b[0m\u001b[0;34m'k'\u001b[0m\u001b[0;34m)\u001b[0m\u001b[0;34m\u001b[0m\u001b[0;34m\u001b[0m\u001b[0m\n\u001b[1;32m      5\u001b[0m \u001b[0;34m\u001b[0m\u001b[0m\n",
      "\u001b[0;31mNameError\u001b[0m: name 'plt' is not defined"
     ]
    }
   ],
   "source": [
    "plt.scatter(de_diff[sig], dv_diff[sig], s=40, color='g')\n",
    "plt.scatter(de_diff[~sig], dv_diff[~sig], s=1, color='grey')\n",
    "plt.plot([0, 0], [-4, 2.5], '--', lw=5, color='k')\n",
    "plt.plot([-3, 5], [0, 0], '--', lw=5, color='k')\n",
    "\n",
    "plt.xlabel('Mean Log-FC');\n",
    "plt.ylabel('Residual variance Log-FC')\n",
    "plt.savefig(data_path + 'figures/cd4_2d_changes.pdf', bbox_inches='tight')"
   ]
  },
  {
   "cell_type": "markdown",
   "metadata": {},
   "source": [
    "### Pseudotime interferon stimulation analysis"
   ]
  },
  {
   "cell_type": "code",
   "execution_count": 606,
   "metadata": {},
   "outputs": [],
   "source": [
    "with open(data_path + 'stim_effect_1d.pkl', 'rb') as f:\n",
    "    ht_dict = pkl.load(f)"
   ]
  },
  {
   "cell_type": "code",
   "execution_count": 45,
   "metadata": {},
   "outputs": [],
   "source": [
    "cd4_pt_df = pd.read_csv(data_path + 'cd4_timepoints.csv', index_col=0)\n",
    "cd4_adata = adata[adata.obs.cell == 'CD4 T cells'].copy()\n",
    "cd4_adata.obs['stim_tp'] = cd4_pt_df['stim_tp'].astype(str)\n",
    "cd4_stim_adata = cd4_adata[cd4_adata.obs.stim == 'stim'].copy()\n",
    "cd4_stim_adata.obs['stim_tp'] = cd4_stim_adata.obs['stim_tp'].replace('5', '4')"
   ]
  },
  {
   "cell_type": "code",
   "execution_count": 46,
   "metadata": {},
   "outputs": [
    {
     "name": "stdout",
     "output_type": "stream",
     "text": [
      "Computing observed moments for: 2\n",
      "Computing observed moments for: 0\n",
      "Computing observed moments for: 1\n",
      "Computing observed moments for: 3\n",
      "Computing observed moments for: 4\n"
     ]
    }
   ],
   "source": [
    "imp.reload(scme)\n",
    "estimator = scme.SingleCellEstimator(\n",
    "    adata=cd4_stim_adata, \n",
    "    group_label='stim_tp',\n",
    "    n_umis_column='n_counts',\n",
    "    num_permute=10000,\n",
    "    beta=0.1)\n",
    "\n",
    "estimator.estimate_beta_sq(tolerance=3)"
   ]
  },
  {
   "cell_type": "code",
   "execution_count": 47,
   "metadata": {},
   "outputs": [
    {
     "data": {
      "image/png": "[encoded data removed]",
      "text/plain": [
       "<Figure size 396x360 with 1 Axes>"
      ]
     },
     "metadata": {
      "needs_background": "light"
     },
     "output_type": "display_data"
    }
   ],
   "source": [
    "estimator.plot_cv_mean_curve()"
   ]
  },
  {
   "cell_type": "code",
   "execution_count": 48,
   "metadata": {},
   "outputs": [],
   "source": [
    "estimator.estimate_parameters()"
   ]
  },
  {
   "cell_type": "code",
   "execution_count": 49,
   "metadata": {},
   "outputs": [
    {
     "name": "stdout",
     "output_type": "stream",
     "text": [
      "Gamma RVs generated..\n"
     ]
    }
   ],
   "source": [
    "estimator.compute_confidence_intervals_1d(\n",
    "    groups=estimator.groups,\n",
    "    groups_to_compare=[])"
   ]
  },
  {
   "cell_type": "code",
   "execution_count": 627,
   "metadata": {},
   "outputs": [],
   "source": [
    "def plot_param_trajectory(gene, estimator, x_axis_width, y_axis_width):\n",
    "    \n",
    "    groups = [str(i) for i in range(5 if gene != 'ARL4A' else 4)] \n",
    "    \n",
    "    gene_idx = np.where(adata.var.index == gene)[0][0]\n",
    "    \n",
    "    means = np.array([estimator.parameters[group]['log_mean'][gene_idx] for group in groups])\n",
    "    dispersions = np.array([estimator.parameters[group]['log_residual_var'][gene_idx] for group in groups])\n",
    "    \n",
    "    means_ci = [estimator.parameters_confidence_intervals[group]['log_mean'][gene_idx] for group in groups]\n",
    "    dispersions_ci = [estimator.parameters_confidence_intervals[group]['log_residual_var'][gene_idx] for group in groups]\n",
    "    \n",
    "    plt.errorbar(\n",
    "        x=means, \n",
    "        y=dispersions,\n",
    "        xerr=means_ci,\n",
    "        yerr=dispersions_ci,\n",
    "        fmt='.-',\n",
    "        capsize=2,\n",
    "        ecolor='k')\n",
    "    plt.title(gene)\n",
    "\n",
    "    offset=0.03\n",
    "    for i, label in enumerate(groups):\n",
    "        mean_offset = -0.03 if i % 2 == 0 else 0\n",
    "        plt.annotate(label, (means[i] + mean_offset, dispersions[i]+dispersions_ci[i]+offset))\n",
    "    \n",
    "    axes = plt.gca()\n",
    "    ymin, ymax = axes.get_ylim()\n",
    "    xmin, xmax = axes.get_xlim()\n",
    "    \n",
    "    ymid = (ymin + ymax)/2\n",
    "    xmid = (xmin + xmax)/2\n",
    "    \n",
    "    #axes.set_xlim([xmid - x_axis_width, xmid + x_axis_width])\n",
    "    axes.set_ylim([ymin, ymax + 0.2])\n",
    "    \n",
    "    axes.xaxis.set_major_locator(plt.MultipleLocator(0.5))\n",
    "    \n",
    "    "
   ]
  },
  {
   "cell_type": "code",
   "execution_count": 628,
   "metadata": {},
   "outputs": [
    {
     "data": {
      "image/png": "[encoded data removed]",
      "text/plain": [
       "<Figure size 720x432 with 5 Axes>"
      ]
     },
     "metadata": {
      "needs_background": "light"
     },
     "output_type": "display_data"
    }
   ],
   "source": [
    "x_width = 0.8\n",
    "y_width = 2\n",
    "fig = plt.figure(figsize=(10, 6))\n",
    "plt.suptitle('Expression across pseudotime')\n",
    "plt.subplots_adjust(hspace=0.3, wspace=0.21)\n",
    "plt.subplot(2, 2, 1)\n",
    "plot_param_trajectory(\n",
    "    gene='GIMAP4', \n",
    "    estimator=estimator,\n",
    "    y_axis_width=y_width,\n",
    "    x_axis_width=x_width)\n",
    "plt.subplot(2, 2, 2)\n",
    "plot_param_trajectory(\n",
    "    gene='IFIT3', \n",
    "    estimator=estimator,\n",
    "    y_axis_width=y_width,\n",
    "    x_axis_width=x_width)\n",
    "plt.subplot(2, 2, 3)\n",
    "plot_param_trajectory(\n",
    "    gene='IFITM3', \n",
    "    estimator=estimator,\n",
    "    y_axis_width=y_width,\n",
    "    x_axis_width=x_width)\n",
    "plt.subplot(2, 2, 4)\n",
    "plot_param_trajectory(\n",
    "    gene='ARL4A', \n",
    "    estimator=estimator,\n",
    "    y_axis_width=y_width,\n",
    "    x_axis_width=x_width)\n",
    "\n",
    "ax = fig.add_subplot(111, frameon=False);\n",
    "plt.tick_params(\n",
    "    which='both',\n",
    "    length=0,\n",
    "    labelcolor='none', \n",
    "    top='off', \n",
    "    bottom='off', \n",
    "    left='off', \n",
    "    right='off');\n",
    "ax.set_xlabel('Log(mean)', labelpad=10);\n",
    "ax.set_ylabel('Log(res.variance)', labelpad=25);"
   ]
  },
  {
   "cell_type": "markdown",
   "metadata": {},
   "source": [
    "### TF - gene differential correlation"
   ]
  },
  {
   "cell_type": "code",
   "execution_count": 16,
   "metadata": {},
   "outputs": [],
   "source": [
    "with open(data_path + 'stim_effect_1d_moments.pkl', 'rb') as f:\n",
    "    moment_dict_1d = pkl.load(f)"
   ]
  },
  {
   "cell_type": "code",
   "execution_count": 17,
   "metadata": {},
   "outputs": [],
   "source": [
    "with open(data_path + 'stim_effect_2d.pkl', 'rb') as f:\n",
    "    dc_result = pkl.load(f)\n",
    "with open(data_path + 'stim_effect_ci_2d.pkl', 'rb') as f:\n",
    "    corr_ci = pkl.load(f)"
   ]
  },
  {
   "cell_type": "code",
   "execution_count": 70,
   "metadata": {},
   "outputs": [],
   "source": [
    "idxs_1 = dc_result[(ct + ' - ctrl', ct + ' - stim')]['gene_idx_1']\n",
    "idxs_2 = dc_result[(ct + ' - ctrl', ct + ' - stim')]['gene_idx_2']"
   ]
  },
  {
   "cell_type": "code",
   "execution_count": 71,
   "metadata": {},
   "outputs": [
    {
     "ename": "NameError",
     "evalue": "name 'gene_pair_idx' is not defined",
     "output_type": "error",
     "traceback": [
      "\u001b[0;31m----------------------------------------------------------\u001b[0m",
      "\u001b[0;31mNameError\u001b[0m                Traceback (most recent call last)",
      "\u001b[0;32m<ipython-input-71-bb8b94ae0c61>\u001b[0m in \u001b[0;36m<module>\u001b[0;34m\u001b[0m\n\u001b[1;32m      1\u001b[0m genes = pd.DataFrame(\n\u001b[1;32m      2\u001b[0m     data=list(zip(\n\u001b[0;32m----> 3\u001b[0;31m         \u001b[0madata\u001b[0m\u001b[0;34m.\u001b[0m\u001b[0mvar\u001b[0m\u001b[0;34m.\u001b[0m\u001b[0mindex\u001b[0m\u001b[0;34m[\u001b[0m\u001b[0midxs_1\u001b[0m\u001b[0;34m[\u001b[0m\u001b[0mgene_pair_idx\u001b[0m\u001b[0;34m[\u001b[0m\u001b[0;36m0\u001b[0m\u001b[0;34m]\u001b[0m\u001b[0;34m]\u001b[0m\u001b[0;34m]\u001b[0m\u001b[0;34m,\u001b[0m\u001b[0;34m\u001b[0m\u001b[0;34m\u001b[0m\u001b[0m\n\u001b[0m\u001b[1;32m      4\u001b[0m         \u001b[0madata\u001b[0m\u001b[0;34m.\u001b[0m\u001b[0mvar\u001b[0m\u001b[0;34m.\u001b[0m\u001b[0mindex\u001b[0m\u001b[0;34m[\u001b[0m\u001b[0midxs_2\u001b[0m\u001b[0;34m[\u001b[0m\u001b[0mgene_pair_idx\u001b[0m\u001b[0;34m[\u001b[0m\u001b[0;36m1\u001b[0m\u001b[0;34m]\u001b[0m\u001b[0;34m]\u001b[0m\u001b[0;34m]\u001b[0m\u001b[0;34m,\u001b[0m\u001b[0;34m\u001b[0m\u001b[0;34m\u001b[0m\u001b[0m\n\u001b[1;32m      5\u001b[0m         \u001b[0mdc_result\u001b[0m\u001b[0;34m[\u001b[0m\u001b[0;34m(\u001b[0m\u001b[0mct\u001b[0m \u001b[0;34m+\u001b[0m \u001b[0;34m' - ctrl'\u001b[0m\u001b[0;34m,\u001b[0m \u001b[0mct\u001b[0m \u001b[0;34m+\u001b[0m \u001b[0;34m' - stim'\u001b[0m\u001b[0;34m)\u001b[0m\u001b[0;34m]\u001b[0m\u001b[0;34m[\u001b[0m\u001b[0;34m'corr_1'\u001b[0m\u001b[0;34m]\u001b[0m\u001b[0;34m[\u001b[0m\u001b[0mgene_pair_idx\u001b[0m\u001b[0;34m]\u001b[0m\u001b[0;34m,\u001b[0m\u001b[0;34m\u001b[0m\u001b[0;34m\u001b[0m\u001b[0m\n",
      "\u001b[0;31mNameError\u001b[0m: name 'gene_pair_idx' is not defined"
     ]
    }
   ],
   "source": [
    "genes = pd.DataFrame(\n",
    "    data=list(zip(\n",
    "        adata.var.index[idxs_1[gene_pair_idx[0]]], \n",
    "        adata.var.index[idxs_2[gene_pair_idx[1]]],\n",
    "        dc_result[(ct + ' - ctrl', ct + ' - stim')]['corr_1'][gene_pair_idx],\n",
    "        dc_result[(ct + ' - ctrl', ct + ' - stim')]['corr_2'][gene_pair_idx])),\n",
    "    columns=['gene_1', 'gene_2', 'corr_1', 'corr_2'])"
   ]
  },
  {
   "cell_type": "code",
   "execution_count": null,
   "metadata": {},
   "outputs": [],
   "source": [
    "genes.sort_values('corr_2', ascending=False)"
   ]
  },
  {
   "cell_type": "code",
   "execution_count": 53,
   "metadata": {},
   "outputs": [],
   "source": [
    "def line_from_correlation(corr, corr_ci, x, y, mu_x, mu_y, sigma_x, sigma_y, color_order):\n",
    "    \n",
    "#     mu_x = x.mean()\n",
    "#     mu_y = y.mean()\n",
    "#     sigma_x = x.std()\n",
    "#     sigma_y = y.std()\n",
    "    \n",
    "    beta_up = sigma_y/sigma_x*(corr + corr_ci)\n",
    "    alpha_up = mu_y - beta_up*mu_x\n",
    "    \n",
    "    beta = sigma_y/sigma_x*(corr)\n",
    "    alpha = mu_y - beta*mu_x\n",
    "    \n",
    "    beta_down = sigma_y/sigma_x*(corr - corr_ci)\n",
    "    alpha_down = mu_y - beta_down*mu_x\n",
    "    \n",
    "    x_range = np.arange(x.min(), 10, 0.1)\n",
    "    \n",
    "    up = beta_up*x_range + alpha_up\n",
    "    line = beta*x_range + alpha\n",
    "    down = beta_down*x_range + alpha_down\n",
    "            \n",
    "    plt.fill_between(x_range, up, down, alpha=0.3, color=sns.color_palette()[color_order])\n",
    "    plt.plot(x_range, line, color=sns.color_palette()[color_order])"
   ]
  },
  {
   "cell_type": "code",
   "execution_count": 54,
   "metadata": {},
   "outputs": [],
   "source": [
    "def plot_diff_corr(dc_result, corr_ci, moment_dict_1d, ct, gene_1, gene_2, offset=0.1):\n",
    "\n",
    "    idxs_1 = dc_result[(ct + ' - ctrl', ct + ' - stim')]['gene_idx_1']\n",
    "    idxs_2 = dc_result[(ct + ' - ctrl', ct + ' - stim')]['gene_idx_2']\n",
    "    \n",
    "    gene_idx_1 = np.where(adata.var.index == gene_1)[0][0]\n",
    "    gene_idx_2 = np.where(adata.var.index == gene_2)[0][0]\n",
    "    \n",
    "    df_1 = pd.DataFrame(\n",
    "        adata[adata.obs.cell_type == ct + ' - ctrl'].X[:, [gene_idx_1, gene_idx_2]].toarray(),\n",
    "        columns=['gene_1', 'gene_2'])\n",
    "    df_2 = pd.DataFrame(\n",
    "            adata[adata.obs.cell_type == ct + ' - stim'].X[:, [gene_idx_1, gene_idx_2]].toarray(),\n",
    "            columns=['gene_1', 'gene_2'])\n",
    "\n",
    "    count_df_1 = df_1\\\n",
    "        .merge(\n",
    "            pd.DataFrame(df_1.groupby(['gene_1', 'gene_2']).size().reset_index()),\n",
    "            on=['gene_1', 'gene_2'], \n",
    "            how='left')\n",
    "\n",
    "    count_df_2 = df_2\\\n",
    "        .merge(\n",
    "            pd.DataFrame(df_2.groupby(['gene_1', 'gene_2']).size().reset_index()),\n",
    "            on=['gene_1', 'gene_2'], \n",
    "            how='left')\n",
    "    \n",
    "    count_df_1['size'] = count_df_1[0]\n",
    "    count_df_1['log_size'] = np.sqrt((count_df_1['size']))+10\n",
    "\n",
    "    count_df_2['size'] = count_df_2[0]\n",
    "    count_df_2['log_size'] = np.sqrt((count_df_2['size']))+10\n",
    "    \n",
    "    y1 = adata[adata.obs.cell_type == ct + ' - ctrl'].X[:, gene_idx_2].toarray().reshape(-1) - offset\n",
    "    x1 = adata[adata.obs.cell_type == ct + ' - ctrl'].X[:, gene_idx_1].toarray().reshape(-1) - offset\n",
    "\n",
    "    y2 = adata[adata.obs.cell_type == ct + ' - stim'].X[:, gene_idx_2].toarray().reshape(-1) + offset\n",
    "    x2 = adata[adata.obs.cell_type == ct + ' - stim'].X[:, gene_idx_1].toarray().reshape(-1) + offset\n",
    "    \n",
    "    mu_x1 = moment_dict_1d[ct + ' - ctrl']['first'][gene_idx_1]\n",
    "    mu_y1 = moment_dict_1d[ct + ' - ctrl']['first'][gene_idx_2]\n",
    "    mu_x2 = moment_dict_1d[ct + ' - stim']['first'][gene_idx_1]\n",
    "    mu_y2 = moment_dict_1d[ct + ' - stim']['first'][gene_idx_2]\n",
    "\n",
    "    sigma_x1 = np.sqrt(moment_dict_1d[ct + ' - ctrl']['second'][gene_idx_1])\n",
    "    sigma_y1 = np.sqrt(moment_dict_1d[ct + ' - ctrl']['second'][gene_idx_2])\n",
    "    sigma_x2 = np.sqrt(moment_dict_1d[ct + ' - stim']['second'][gene_idx_1])\n",
    "    sigma_y2 = np.sqrt(moment_dict_1d[ct + ' - stim']['second'][gene_idx_2])\n",
    "\n",
    "    corr_1 = dc_result[(ct + ' - ctrl', ct + ' - stim')]['corr_1'][\n",
    "        np.argwhere(idxs_1 == gene_idx_1)[0][0], \n",
    "        np.argwhere(idxs_2 == gene_idx_2)[0][0]]\n",
    "\n",
    "    corr_ci_1 = corr_ci[ct + ' - ctrl']['corr'][\n",
    "        np.argwhere(idxs_1 == gene_idx_1)[0][0], \n",
    "        np.argwhere(idxs_2 == gene_idx_2)[0][0]]\n",
    "\n",
    "    corr_2 = dc_result[(ct + ' - ctrl', ct + ' - stim')]['corr_2'][\n",
    "        np.argwhere(idxs_1 == gene_idx_1)[0][0], \n",
    "        np.argwhere(idxs_2 == gene_idx_2)[0][0]]\n",
    "\n",
    "    corr_ci_2 = corr_ci[ct + ' - stim']['corr'][\n",
    "        np.argwhere(idxs_1 == gene_idx_1)[0][0], \n",
    "        np.argwhere(idxs_2 == gene_idx_2)[0][0]]\n",
    "\n",
    "    plt.scatter(x1, y1, s=count_df_1.log_size, label='control')\n",
    "    \n",
    "    plt.scatter(x2, y2, s=count_df_2.log_size, label='IFN-B')\n",
    "    \n",
    "    line_from_correlation(\n",
    "        corr_1, corr_ci_1, \n",
    "        x1 + offset, y1 + offset,\n",
    "        mu_x1, mu_y1, sigma_x1, sigma_y1,\n",
    "        color_order=0)\n",
    "    \n",
    "    line_from_correlation(\n",
    "        corr_2, corr_ci_2, \n",
    "        x2 - offset, y2 - offset, \n",
    "        mu_x2, mu_y2, sigma_x2, sigma_y2,\n",
    "        color_order=1)\n",
    "    \n",
    "    plt.xlabel('{} expression'.format(gene_1))\n",
    "    plt.ylabel('{} expression'.format(gene_2))\n",
    "    plt.legend()\n",
    "    plt.title('Relationship between {} \\n and {} in {}'.format(gene_1, gene_2, ct))"
   ]
  },
  {
   "cell_type": "code",
   "execution_count": 55,
   "metadata": {},
   "outputs": [],
   "source": [
    "ct = 'CD4 T cells'"
   ]
  },
  {
   "cell_type": "code",
   "execution_count": 56,
   "metadata": {},
   "outputs": [
    {
     "data": {
      "image/png": "[encoded data removed]",
      "text/plain": [
       "<Figure size 432x288 with 1 Axes>"
      ]
     },
     "metadata": {
      "needs_background": "light"
     },
     "output_type": "display_data"
    }
   ],
   "source": [
    "plot_diff_corr(dc_result, corr_ci, moment_dict_1d, ct, 'IRF8', 'HLA-DQA1', offset=0.1)"
   ]
  },
  {
   "cell_type": "code",
   "execution_count": 61,
   "metadata": {},
   "outputs": [
    {
     "data": {
      "image/png": "[encoded data removed]",
      "text/plain": [
       "<Figure size 432x288 with 1 Axes>"
      ]
     },
     "metadata": {
      "needs_background": "light"
     },
     "output_type": "display_data"
    }
   ],
   "source": [
    "plot_diff_corr(dc_result, corr_ci, moment_dict_1d, 'CD4 T cells', 'STAT3', 'BATF', offset=0.1)"
   ]
  },
  {
   "cell_type": "code",
   "execution_count": 62,
   "metadata": {},
   "outputs": [
    {
     "data": {
      "image/png": "[encoded data removed]",
      "text/plain": [
       "<Figure size 432x288 with 1 Axes>"
      ]
     },
     "metadata": {
      "needs_background": "light"
     },
     "output_type": "display_data"
    }
   ],
   "source": [
    "plot_diff_corr(dc_result, corr_ci, moment_dict_1d, 'CD4 T cells', 'STAT3', 'IFI6', offset=0.1)"
   ]
  },
  {
   "cell_type": "markdown",
   "metadata": {},
   "source": [
    "### Scaling with the number of cells"
   ]
  },
  {
   "cell_type": "code",
   "execution_count": 27,
   "metadata": {},
   "outputs": [],
   "source": [
    "import time"
   ]
  },
  {
   "cell_type": "code",
   "execution_count": 109,
   "metadata": {},
   "outputs": [],
   "source": [
    "def one_run(N):\n",
    "    \n",
    "    adata_copy = adata.copy()\n",
    "    sc.pp.subsample(adata_copy, n_obs=N)\n",
    "    estimator = scme.SingleCellEstimator(\n",
    "        adata=adata_copy,\n",
    "        group_label='stim',\n",
    "        n_umis_column='n_counts',\n",
    "        num_permute=10000,\n",
    "        beta=0.1)\n",
    "    \n",
    "    estimator.estimate_beta_sq(tolerance=3)\n",
    "    estimator.estimate_parameters()\n",
    "    \n",
    "    start = time.time()\n",
    "    imp.reload(scme)\n",
    "    estimator.compute_confidence_intervals_1d(\n",
    "        groups=['ctrl','stim'],\n",
    "        groups_to_compare=[('ctrl', 'stim')])\n",
    "    \n",
    "    return time.time() - start"
   ]
  },
  {
   "cell_type": "code",
   "execution_count": 110,
   "metadata": {},
   "outputs": [],
   "source": [
    "Ns = [100, 500, 1000, 2000, 3000, 5000, 10000, 20000]\n",
    "more_Ns = [10000 + 1000 * i for i in range(1, 9)]"
   ]
  },
  {
   "cell_type": "code",
   "execution_count": 113,
   "metadata": {},
   "outputs": [
    {
     "name": "stdout",
     "output_type": "stream",
     "text": [
      "Computing observed moments for: ctrl\n",
      "Computing observed moments for: stim\n"
     ]
    },
    {
     "name": "stderr",
     "output_type": "stream",
     "text": [
      "ERROR:root:Internal Python error in the inspect module.\n",
      "Below is the traceback from this internal error.\n",
      "\n"
     ]
    },
    {
     "name": "stdout",
     "output_type": "stream",
     "text": [
      "Traceback (most recent call last):\n",
      "  File \"/wynton/group/ye/mincheol/anaconda3/envs/single_cell/lib/python3.7/site-packages/IPython/core/interactiveshell.py\", line 3326, in run_code\n",
      "    exec(code_obj, self.user_global_ns, self.user_ns)\n",
      "  File \"<ipython-input-113-86d38b744b7e>\", line 1, in <module>\n",
      "    more_perm_times = [one_run(N) for N in more_Ns]\n",
      "  File \"<ipython-input-113-86d38b744b7e>\", line 1, in <listcomp>\n",
      "    more_perm_times = [one_run(N) for N in more_Ns]\n",
      "  File \"<ipython-input-109-67d4eb06024e>\", line 19, in one_run\n",
      "    groups_to_compare=[('ctrl', 'stim')])\n",
      "  File \"/wynton/group/ye/mincheol/Github/scrna-parameter-estimation/simplesc/scme.py\", line 409, in compute_confidence_intervals_1d\n",
      "    data = self.anndata.X[cell_selector, :].toarray()\n",
      "  File \"/wynton/group/ye/mincheol/anaconda3/envs/single_cell/lib/python3.7/site-packages/scipy/sparse/compressed.py\", line 1024, in toarray\n",
      "    out = self._process_toarray_args(order, out)\n",
      "  File \"/wynton/group/ye/mincheol/anaconda3/envs/single_cell/lib/python3.7/site-packages/scipy/sparse/base.py\", line 1186, in _process_toarray_args\n",
      "    return np.zeros(self.shape, dtype=self.dtype, order=order)\n",
      "KeyboardInterrupt\n",
      "\n",
      "During handling of the above exception, another exception occurred:\n",
      "\n",
      "Traceback (most recent call last):\n",
      "  File \"/wynton/group/ye/mincheol/anaconda3/envs/single_cell/lib/python3.7/site-packages/IPython/core/interactiveshell.py\", line 2040, in showtraceback\n",
      "    stb = value._render_traceback_()\n",
      "AttributeError: 'KeyboardInterrupt' object has no attribute '_render_traceback_'\n",
      "\n",
      "During handling of the above exception, another exception occurred:\n",
      "\n",
      "Traceback (most recent call last):\n",
      "  File \"/wynton/group/ye/mincheol/anaconda3/envs/single_cell/lib/python3.7/site-packages/IPython/core/ultratb.py\", line 1101, in get_records\n",
      "    return _fixed_getinnerframes(etb, number_of_lines_of_context, tb_offset)\n",
      "  File \"/wynton/group/ye/mincheol/anaconda3/envs/single_cell/lib/python3.7/site-packages/IPython/core/ultratb.py\", line 319, in wrapped\n",
      "    return f(*args, **kwargs)\n",
      "  File \"/wynton/group/ye/mincheol/anaconda3/envs/single_cell/lib/python3.7/site-packages/IPython/core/ultratb.py\", line 353, in _fixed_getinnerframes\n",
      "    records = fix_frame_records_filenames(inspect.getinnerframes(etb, context))\n",
      "  File \"/wynton/group/ye/mincheol/anaconda3/envs/single_cell/lib/python3.7/inspect.py\", line 1502, in getinnerframes\n",
      "    frameinfo = (tb.tb_frame,) + getframeinfo(tb, context)\n",
      "  File \"/wynton/group/ye/mincheol/anaconda3/envs/single_cell/lib/python3.7/inspect.py\", line 1460, in getframeinfo\n",
      "    filename = getsourcefile(frame) or getfile(frame)\n",
      "  File \"/wynton/group/ye/mincheol/anaconda3/envs/single_cell/lib/python3.7/inspect.py\", line 696, in getsourcefile\n",
      "    if getattr(getmodule(object, filename), '__loader__', None) is not None:\n",
      "  File \"/wynton/group/ye/mincheol/anaconda3/envs/single_cell/lib/python3.7/inspect.py\", line 733, in getmodule\n",
      "    if ismodule(module) and hasattr(module, '__file__'):\n",
      "KeyboardInterrupt\n"
     ]
    },
    {
     "ename": "KeyboardInterrupt",
     "evalue": "",
     "output_type": "error",
     "traceback": [
      "\u001b[0;31m---------------------------------------------------------------------------\u001b[0m"
     ]
    }
   ],
   "source": [
    "more_perm_times = [one_run(N) for N in more_Ns]"
   ]
  },
  {
   "cell_type": "code",
   "execution_count": 88,
   "metadata": {},
   "outputs": [
    {
     "name": "stdout",
     "output_type": "stream",
     "text": [
      "Computing observed moments for: ctrl\n",
      "Computing observed moments for: stim\n",
      "Gamma RVs generated..\n",
      "Computing observed moments for: ctrl\n",
      "Computing observed moments for: stim\n",
      "Gamma RVs generated..\n",
      "Computing observed moments for: ctrl\n",
      "Computing observed moments for: stim\n",
      "Gamma RVs generated..\n",
      "Computing observed moments for: ctrl\n",
      "Computing observed moments for: stim\n",
      "Gamma RVs generated..\n",
      "Computing observed moments for: ctrl\n",
      "Computing observed moments for: stim\n",
      "Gamma RVs generated..\n",
      "Computing observed moments for: ctrl\n",
      "Computing observed moments for: stim\n",
      "Gamma RVs generated..\n",
      "Computing observed moments for: ctrl\n",
      "Computing observed moments for: stim\n",
      "Gamma RVs generated..\n",
      "Computing observed moments for: ctrl\n",
      "Computing observed moments for: stim\n",
      "Gamma RVs generated..\n"
     ]
    }
   ],
   "source": [
    "perm_times = [one_run(N) for N in Ns]"
   ]
  },
  {
   "cell_type": "code",
   "execution_count": 42,
   "metadata": {
    "collapsed": true,
    "jupyter": {
     "outputs_hidden": true
    }
   },
   "outputs": [
    {
     "name": "stdout",
     "output_type": "stream",
     "text": [
      "Computing observed moments for: ctrl\n",
      "Computing observed moments for: stim\n",
      "Gamma RVs generated..\n",
      "Computing observed moments for: ctrl\n",
      "Computing observed moments for: stim\n",
      "Gamma RVs generated..\n",
      "Computing observed moments for: ctrl\n",
      "Computing observed moments for: stim\n",
      "Gamma RVs generated..\n",
      "Computing observed moments for: ctrl\n",
      "Computing observed moments for: stim\n",
      "Gamma RVs generated..\n",
      "Computing observed moments for: ctrl\n",
      "Computing observed moments for: stim\n",
      "Gamma RVs generated..\n",
      "Computing observed moments for: ctrl\n",
      "Computing observed moments for: stim\n",
      "Gamma RVs generated..\n",
      "Computing observed moments for: ctrl\n",
      "Computing observed moments for: stim\n",
      "Gamma RVs generated..\n",
      "Computing observed moments for: ctrl\n",
      "Computing observed moments for: stim\n",
      "Gamma RVs generated..\n"
     ]
    }
   ],
   "source": [
    "times = [one_run(N) for N in Ns]"
   ]
  },
  {
   "cell_type": "code",
   "execution_count": 53,
   "metadata": {},
   "outputs": [],
   "source": [
    "# Ns = [0] + Ns\n",
    "# times = [0] + times"
   ]
  },
  {
   "cell_type": "code",
   "execution_count": 58,
   "metadata": {},
   "outputs": [
    {
     "data": {
      "text/plain": [
       "3.3333333333333335"
      ]
     },
     "execution_count": 58,
     "metadata": {},
     "output_type": "execute_result"
    }
   ],
   "source": [
    "200/60"
   ]
  },
  {
   "cell_type": "code",
   "execution_count": 83,
   "metadata": {},
   "outputs": [
    {
     "data": {
      "text/plain": [
       "[0,\n",
       " 20.869556665420532,\n",
       " 35.29805541038513,\n",
       " 38.040297746658325,\n",
       " 46.348387002944946,\n",
       " 58.43357753753662,\n",
       " 87.58861637115479,\n",
       " 142.3105809688568,\n",
       " 222.7312273979187]"
      ]
     },
     "execution_count": 83,
     "metadata": {},
     "output_type": "execute_result"
    }
   ],
   "source": [
    "times"
   ]
  },
  {
   "cell_type": "code",
   "execution_count": 78,
   "metadata": {},
   "outputs": [],
   "source": [
    "adata_copy = adata.copy()\n",
    "sc.pp.subsample(adata_copy, n_obs=20000)"
   ]
  },
  {
   "cell_type": "code",
   "execution_count": 81,
   "metadata": {},
   "outputs": [],
   "source": [
    "sc.tl.rank_genes_groups(adata_copy, groupby='stim',method='wilcoxon')"
   ]
  },
  {
   "cell_type": "code",
   "execution_count": 112,
   "metadata": {},
   "outputs": [
    {
     "data": {
      "image/png": "[encoded data removed]",
      "text/plain": [
       "<Figure size 432x288 with 1 Axes>"
      ]
     },
     "metadata": {
      "needs_background": "light"
     },
     "output_type": "display_data"
    }
   ],
   "source": [
    "plt.plot(Ns, np.array(perm_times)/60, '-o', label='runtime')\n",
    "plt.plot(Ns, np.array(Ns)/60/60, label='ref. linear time\\n60 cells/second')\n",
    "plt.legend()\n",
    "plt.title('Runtime of transcriptomic differential \\nexpression + variability')\n",
    "plt.ylabel('Minutes');\n",
    "plt.xlabel('# cells')\n",
    "plt.savefig(data_path + 'figures/sublinear_runtime.pdf', bbox_inches='tight')"
   ]
  },
  {
   "cell_type": "code",
   "execution_count": 82,
   "metadata": {},
   "outputs": [
    {
     "data": {
      "text/plain": [
       "[<matplotlib.lines.Line2D at 0x7f5d75ee7ad0>]"
      ]
     },
     "execution_count": 82,
     "metadata": {},
     "output_type": "execute_result"
    },
    {
     "data": {
      "image/png": "[encoded data removed]",
      "text/plain": [
       "<Figure size 432x288 with 1 Axes>"
      ]
     },
     "metadata": {
      "needs_background": "light"
     },
     "output_type": "display_data"
    }
   ],
   "source": [
    "plt.plot(Ns, times, '-o')\n",
    "\n",
    "#plt.plot(Ns, np.array(Ns)*times[0]/Ns[0])"
   ]
  },
  {
   "cell_type": "code",
   "execution_count": 20,
   "metadata": {},
   "outputs": [],
   "source": [
    "imp.reload(scme)\n",
    "estimator = scme.SingleCellEstimator(\n",
    "    adata=adata,\n",
    "    group_label='stim',\n",
    "    n_umis_column='n_counts',\n",
    "    num_permute=10000,\n",
    "    beta=0.1)"
   ]
  },
  {
   "cell_type": "code",
   "execution_count": 21,
   "metadata": {},
   "outputs": [
    {
     "name": "stdout",
     "output_type": "stream",
     "text": [
      "Computing observed moments for: ctrl\n",
      "Computing observed moments for: stim\n"
     ]
    }
   ],
   "source": [
    "estimator.estimate_beta_sq(tolerance=3)"
   ]
  },
  {
   "cell_type": "code",
   "execution_count": 25,
   "metadata": {},
   "outputs": [],
   "source": [
    "estimator.estimate_parameters()"
   ]
  },
  {
   "cell_type": "code",
   "execution_count": 153,
   "metadata": {},
   "outputs": [],
   "source": [
    "ct = 'CD4 T cells'"
   ]
  },
  {
   "cell_type": "code",
   "execution_count": null,
   "metadata": {},
   "outputs": [],
   "source": [
    "adatas"
   ]
  },
  {
   "cell_type": "code",
   "execution_count": 26,
   "metadata": {},
   "outputs": [
    {
     "name": "stderr",
     "output_type": "stream",
     "text": [
      "ERROR:root:Internal Python error in the inspect module.\n",
      "Below is the traceback from this internal error.\n",
      "\n"
     ]
    },
    {
     "name": "stdout",
     "output_type": "stream",
     "text": [
      "Traceback (most recent call last):\n",
      "  File \"/wynton/group/ye/mincheol/anaconda3/envs/single_cell/lib/python3.7/site-packages/IPython/core/magics/execution.py\", line 1315, in time\n",
      "    out = eval(code_2, glob, local_ns)\n",
      "  File \"<timed exec>\", line 4, in <module>\n",
      "  File \"/wynton/group/ye/mincheol/Github/scrna-parameter-estimation/simplesc/scme.py\", line 409, in compute_confidence_intervals_1d\n",
      "    data = self.anndata.X[cell_selector, :].toarray()\n",
      "  File \"/wynton/group/ye/mincheol/anaconda3/envs/single_cell/lib/python3.7/site-packages/scipy/sparse/compressed.py\", line 1035, in toarray\n",
      "    csr_todense(M, N, x.indptr, x.indices, x.data, y)\n",
      "KeyboardInterrupt\n",
      "\n",
      "During handling of the above exception, another exception occurred:\n",
      "\n",
      "Traceback (most recent call last):\n",
      "  File \"/wynton/group/ye/mincheol/anaconda3/envs/single_cell/lib/python3.7/site-packages/IPython/core/interactiveshell.py\", line 2040, in showtraceback\n",
      "    stb = value._render_traceback_()\n",
      "AttributeError: 'KeyboardInterrupt' object has no attribute '_render_traceback_'\n",
      "\n",
      "During handling of the above exception, another exception occurred:\n",
      "\n",
      "Traceback (most recent call last):\n",
      "  File \"/wynton/group/ye/mincheol/anaconda3/envs/single_cell/lib/python3.7/site-packages/IPython/core/ultratb.py\", line 1101, in get_records\n",
      "    return _fixed_getinnerframes(etb, number_of_lines_of_context, tb_offset)\n",
      "  File \"/wynton/group/ye/mincheol/anaconda3/envs/single_cell/lib/python3.7/site-packages/IPython/core/ultratb.py\", line 319, in wrapped\n",
      "    return f(*args, **kwargs)\n",
      "  File \"/wynton/group/ye/mincheol/anaconda3/envs/single_cell/lib/python3.7/site-packages/IPython/core/ultratb.py\", line 353, in _fixed_getinnerframes\n",
      "    records = fix_frame_records_filenames(inspect.getinnerframes(etb, context))\n",
      "  File \"/wynton/group/ye/mincheol/anaconda3/envs/single_cell/lib/python3.7/inspect.py\", line 1502, in getinnerframes\n",
      "    frameinfo = (tb.tb_frame,) + getframeinfo(tb, context)\n",
      "  File \"/wynton/group/ye/mincheol/anaconda3/envs/single_cell/lib/python3.7/inspect.py\", line 1460, in getframeinfo\n",
      "    filename = getsourcefile(frame) or getfile(frame)\n",
      "  File \"/wynton/group/ye/mincheol/anaconda3/envs/single_cell/lib/python3.7/inspect.py\", line 696, in getsourcefile\n",
      "    if getattr(getmodule(object, filename), '__loader__', None) is not None:\n",
      "  File \"/wynton/group/ye/mincheol/anaconda3/envs/single_cell/lib/python3.7/inspect.py\", line 742, in getmodule\n",
      "    os.path.realpath(f)] = module.__name__\n",
      "  File \"/wynton/group/ye/mincheol/anaconda3/envs/single_cell/lib/python3.7/posixpath.py\", line 395, in realpath\n",
      "    path, ok = _joinrealpath(filename[:0], filename, {})\n",
      "  File \"/wynton/group/ye/mincheol/anaconda3/envs/single_cell/lib/python3.7/posixpath.py\", line 429, in _joinrealpath\n",
      "    if not islink(newpath):\n",
      "  File \"/wynton/group/ye/mincheol/anaconda3/envs/single_cell/lib/python3.7/posixpath.py\", line 171, in islink\n",
      "    st = os.lstat(path)\n",
      "KeyboardInterrupt\n"
     ]
    },
    {
     "ename": "KeyboardInterrupt",
     "evalue": "",
     "output_type": "error",
     "traceback": [
      "\u001b[0;31m---------------------------------------------------------------------------\u001b[0m"
     ]
    }
   ],
   "source": [
    "%%time\n",
    "imp.reload(scme)\n",
    "estimator.compute_confidence_intervals_1d(\n",
    "    groups=['ctrl','stim'],\n",
    "    groups_to_compare=[('ctrl', 'stim')])"
   ]
  },
  {
   "cell_type": "code",
   "execution_count": null,
   "metadata": {},
   "outputs": [],
   "source": []
  }
 ],
 "metadata": {
  "kernelspec": {
   "display_name": "Python 3",
   "language": "python",
   "name": "python3"
  },
  "language_info": {
   "codemirror_mode": {
    "name": "ipython",
    "version": 3
   },
   "file_extension": ".py",
   "mimetype": "text/x-python",
   "name": "python",
   "nbconvert_exporter": "python",
   "pygments_lexer": "ipython3",
   "version": "3.7.5"
  }
 },
 "nbformat": 4,
 "nbformat_minor": 4
}
