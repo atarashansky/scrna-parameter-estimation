{
 "cells": [
  {
   "cell_type": "markdown",
   "metadata": {},
   "source": [
    "# Cell type differences and effects of interferon stimulation on immune cells\n",
    "\n",
    "Demonstrating differential expression between cell types and the effect of interferon stimulation within a cell type (CD4 T cells)."
   ]
  },
  {
   "cell_type": "code",
   "execution_count": 1,
   "metadata": {},
   "outputs": [
    {
     "name": "stderr",
     "output_type": "stream",
     "text": [
      "/home/mkim7/anaconda3/envs/single_cell/lib/python3.7/site-packages/scanpy/api/__init__.py:6: FutureWarning: \n",
      "\n",
      "In a future version of Scanpy, `scanpy.api` will be removed.\n",
      "Simply use `import scanpy as sc` and `import scanpy.external as sce` instead.\n",
      "\n",
      "  FutureWarning\n"
     ]
    }
   ],
   "source": [
    "import pandas as pd\n",
    "import matplotlib.pyplot as plt\n",
    "import scanpy.api as sc\n",
    "import scipy as sp\n",
    "import itertools\n",
    "import numpy as np\n",
    "import scipy.stats as stats\n",
    "from scipy.integrate import dblquad\n",
    "import seaborn as sns\n",
    "from statsmodels.stats.multitest import fdrcorrection\n",
    "import imp\n",
    "pd.options.display.max_rows = 999\n",
    "pd.set_option('display.max_colwidth', -1)\n",
    "import pickle as pkl\n",
    "import time"
   ]
  },
  {
   "cell_type": "code",
   "execution_count": 2,
   "metadata": {},
   "outputs": [],
   "source": [
    "%matplotlib inline"
   ]
  },
  {
   "cell_type": "code",
   "execution_count": 3,
   "metadata": {},
   "outputs": [],
   "source": [
    "import matplotlib as mpl\n",
    "mpl.rcParams['pdf.fonttype'] = 42\n",
    "mpl.rcParams['ps.fonttype'] = 42\n",
    "\n",
    "import matplotlib.pylab as pylab\n",
    "params = {'legend.fontsize': 'medium',\n",
    "         'axes.labelsize': 'medium',\n",
    "         'axes.titlesize':'medium',\n",
    "         'figure.titlesize':'medium',\n",
    "         'xtick.labelsize':'small',\n",
    "         'ytick.labelsize':'small'}\n",
    "pylab.rcParams.update(params)\n"
   ]
  },
  {
   "cell_type": "code",
   "execution_count": 4,
   "metadata": {},
   "outputs": [],
   "source": [
    "import warnings\n",
    "warnings.filterwarnings('ignore')"
   ]
  },
  {
   "cell_type": "code",
   "execution_count": 5,
   "metadata": {},
   "outputs": [],
   "source": [
    "from sklearn.decomposition import PCA"
   ]
  },
  {
   "cell_type": "code",
   "execution_count": 6,
   "metadata": {},
   "outputs": [],
   "source": [
    "from sklearn.preprocessing import StandardScaler"
   ]
  },
  {
   "cell_type": "code",
   "execution_count": 7,
   "metadata": {},
   "outputs": [],
   "source": [
    "import sys\n",
    "sys.path.append('/home/mkim7/Github/scrna-parameter-estimation/scmemo')\n",
    "import scmemo, utils"
   ]
  },
  {
   "cell_type": "code",
   "execution_count": 87,
   "metadata": {},
   "outputs": [],
   "source": [
    "data_path = '/data/parameter_estimation/interferon_data/20200408/'"
   ]
  },
  {
   "cell_type": "code",
   "execution_count": 9,
   "metadata": {},
   "outputs": [],
   "source": [
    "def density_scatterplot(a,b, s=1, cmap='Reds', kde=None):\n",
    "    # Calculate the point density\n",
    "    condition = np.isfinite(a) & np.isfinite(b)\n",
    "    x = a[condition]\n",
    "    y = b[condition]\n",
    "    xy = np.vstack([x,y])\n",
    "    z = stats.gaussian_kde(xy, bw_method=kde)(xy)\n",
    "    print(z)\n",
    "    plt.scatter(x, y, c=z, s=s, edgecolor='', cmap=cmap)\n",
    "    \n",
    "\n",
    "def robust_correlation(a, b):\n",
    "    \n",
    "    condition = (np.isfinite(a) & np.isfinite(b))\n",
    "    x = a[condition]\n",
    "    y = b[condition]\n",
    "    \n",
    "    return stats.spearmanr(x,y)\n",
    "\n",
    "def robust_linregress(a, b):\n",
    "    \n",
    "    condition = (np.isfinite(a) & np.isfinite(b))\n",
    "    x = a[condition]\n",
    "    y = b[condition]\n",
    "    \n",
    "    print(x.min())\n",
    "    \n",
    "    return stats.linregress(x,y)\n",
    "\n",
    "def robust_hist(x,limit=1e3, **kwargs):\n",
    "    \n",
    "    condition = np.isfinite(x) & (x < limit)\n",
    "    sns.distplot(x[condition], **kwargs)\n",
    "\n",
    "def robust_perc(x, q):\n",
    "    \n",
    "    condition = np.isfinite(x)\n",
    "    return np.percentile(x[condition], q)"
   ]
  },
  {
   "cell_type": "markdown",
   "metadata": {},
   "source": [
    "### Perform some basic filtering"
   ]
  },
  {
   "cell_type": "code",
   "execution_count": 10,
   "metadata": {},
   "outputs": [],
   "source": [
    "adata = sc.read(data_path + 'interferon_highcount.raw.h5ad')\n",
    "adata = adata[:, adata.var.index.map(lambda x: x[:2] != 'HB')]"
   ]
  },
  {
   "cell_type": "code",
   "execution_count": 11,
   "metadata": {},
   "outputs": [
    {
     "data": {
      "text/plain": [
       "CD4 T cells          10389\n",
       "CD14+ Monocytes      5385 \n",
       "B cells              2573 \n",
       "CD8 T cells          2042 \n",
       "NK cells             1993 \n",
       "FCGR3A+ Monocytes    1599 \n",
       "Dendritic cells      432  \n",
       "Megakaryocytes       260  \n",
       "Name: cell, dtype: int64"
      ]
     },
     "execution_count": 11,
     "metadata": {},
     "output_type": "execute_result"
    }
   ],
   "source": [
    "adata.obs.cell.value_counts()"
   ]
  },
  {
   "cell_type": "code",
   "execution_count": 12,
   "metadata": {},
   "outputs": [
    {
     "name": "stderr",
     "output_type": "stream",
     "text": [
      "Trying to set attribute `.obs` of view, making a copy.\n"
     ]
    }
   ],
   "source": [
    "adata.obs['cell_type'] = (adata.obs['cell'].astype(str) + ' - ' + adata.obs['stim'].astype(str)).astype('category')"
   ]
  },
  {
   "cell_type": "code",
   "execution_count": 13,
   "metadata": {},
   "outputs": [],
   "source": [
    "sc.pl.tsne(adata, color='cell_type')"
   ]
  },
  {
   "cell_type": "code",
   "execution_count": 14,
   "metadata": {},
   "outputs": [],
   "source": [
    "# plt.figure(figsize=(5, 3))\n",
    "# sns.boxplot(x='n_counts', y='cell_type', data=adata.obs)\n",
    "# plt.title('Total UMI counts by cell type')\n",
    "# plt.savefig('celltype_numi.pdf')\n",
    "# plt.savefig('celltype_numi.png')"
   ]
  },
  {
   "cell_type": "code",
   "execution_count": 15,
   "metadata": {},
   "outputs": [
    {
     "name": "stdout",
     "output_type": "stream",
     "text": [
      "Number of genes kept: 3593\n"
     ]
    }
   ],
   "source": [
    "print('Number of genes kept:', adata.shape[1])"
   ]
  },
  {
   "cell_type": "code",
   "execution_count": 16,
   "metadata": {},
   "outputs": [
    {
     "data": {
      "text/plain": [
       "(24673, 3593)"
      ]
     },
     "execution_count": 16,
     "metadata": {},
     "output_type": "execute_result"
    }
   ],
   "source": [
    "adata.shape"
   ]
  },
  {
   "cell_type": "markdown",
   "metadata": {},
   "source": [
    "### Select immune genes using GO annotations"
   ]
  },
  {
   "cell_type": "code",
   "execution_count": 17,
   "metadata": {},
   "outputs": [],
   "source": [
    "go_annotations = pd.read_csv(data_path + '../../GO_annotations-9606-inferred-allev.tsv', sep='\\t')\n",
    "go_annotations['gene'] = go_annotations['gene_symbols'].apply(lambda x: x.split('|'))\n",
    "go_annotations = go_annotations\\\n",
    "    .query('go_domain == \"biological_process\"')\\\n",
    "    .explode('gene')[['go_name', 'gene']]"
   ]
  },
  {
   "cell_type": "code",
   "execution_count": 18,
   "metadata": {},
   "outputs": [],
   "source": [
    "immune_genes = go_annotations[go_annotations.go_name.str.contains('immune')].gene.drop_duplicates().tolist()"
   ]
  },
  {
   "cell_type": "code",
   "execution_count": 19,
   "metadata": {},
   "outputs": [],
   "source": [
    "immune_genes = list(set(adata.var.index) & set(immune_genes))"
   ]
  },
  {
   "cell_type": "code",
   "execution_count": 20,
   "metadata": {},
   "outputs": [],
   "source": [
    "with open(data_path + 'immune_genes.pkl', 'wb') as f:\n",
    "    pkl.dump(immune_genes, f)"
   ]
  },
  {
   "cell_type": "code",
   "execution_count": 21,
   "metadata": {},
   "outputs": [
    {
     "data": {
      "text/plain": [
       "855"
      ]
     },
     "execution_count": 21,
     "metadata": {},
     "output_type": "execute_result"
    }
   ],
   "source": [
    "len(immune_genes)"
   ]
  },
  {
   "cell_type": "markdown",
   "metadata": {},
   "source": [
    "### Pick out TFs to measure DC in"
   ]
  },
  {
   "cell_type": "code",
   "execution_count": 22,
   "metadata": {},
   "outputs": [],
   "source": [
    "tfs = pd.read_csv('gene_attribute_matrix.txt', sep='\\t').columns.tolist()[3:]\n",
    "tfs_in_highcount = list(set(tfs) & set(adata.var.index))\n",
    "manual_tfs = \"\"\"IRF2BP2\n",
    "STAT4\n",
    "IRF2\n",
    "ATF6B\n",
    "IRF7\n",
    "STAT6\n",
    "IRF9\n",
    "IRF8\n",
    "AATF\n",
    "JUNB\n",
    "ATF5\n",
    "ATF4\"\"\".split()\n",
    "tfs_to_consider = manual_tfs + tfs_in_highcount"
   ]
  },
  {
   "cell_type": "code",
   "execution_count": 23,
   "metadata": {},
   "outputs": [
    {
     "name": "stdout",
     "output_type": "stream",
     "text": [
      "IRF2BP2\n",
      "STAT4\n",
      "IRF2\n",
      "ATF6B\n",
      "IRF7\n",
      "STAT6\n",
      "IRF9\n",
      "IRF8\n",
      "AATF\n",
      "JUNB\n",
      "ATF5\n",
      "ATF4\n"
     ]
    }
   ],
   "source": [
    "for gene in adata.var.index:\n",
    "    if ('JUN' in gene or 'ATF' in gene or 'FOS' in gene or 'STAT' in gene or 'IRF' in gene) and (gene not in tfs_in_highcount):\n",
    "        print(gene)"
   ]
  },
  {
   "cell_type": "code",
   "execution_count": 24,
   "metadata": {},
   "outputs": [],
   "source": [
    "with open(data_path + 'all_highcount_tfs.pkl', 'wb') as f:\n",
    "    pkl.dump(tfs_to_consider, f)"
   ]
  },
  {
   "cell_type": "code",
   "execution_count": 25,
   "metadata": {},
   "outputs": [
    {
     "data": {
      "text/plain": [
       "68"
      ]
     },
     "execution_count": 25,
     "metadata": {},
     "output_type": "execute_result"
    }
   ],
   "source": [
    "len(set(tfs_to_consider))"
   ]
  },
  {
   "cell_type": "markdown",
   "metadata": {},
   "source": [
    "### Read the DC results into long form and heatmaps"
   ]
  },
  {
   "cell_type": "code",
   "execution_count": 26,
   "metadata": {},
   "outputs": [],
   "source": [
    "tf_batch_nums = np.arange(14)\n",
    "cts = ['CD4 T cells', 'CD8 T cells', 'B cells', 'CD14+ Monocytes', 'NK cells', 'FCGR3A+ Monocytes']"
   ]
  },
  {
   "cell_type": "code",
   "execution_count": 27,
   "metadata": {},
   "outputs": [],
   "source": [
    "heatmaps = {}\n",
    "ct_dfs = []\n",
    "for ct in cts:\n",
    "    heatmaps[ct] = {}\n",
    "    \n",
    "    df_list = []\n",
    "    for tf_batch_num in tf_batch_nums:\n",
    "        with open(data_path + 'tf_correlations/stim_effect_2d_{}_{}.pkl'.format(ct, tf_batch_num), 'rb') as f:\n",
    "            dc_dict = pkl.load(f)\n",
    "            \n",
    "        first = True\n",
    "        for attribute, value in dc_dict.items():\n",
    "            \n",
    "            if 'gene_idx' in attribute: continue\n",
    "                        \n",
    "            # Create the TF x Gene heatmap for each attribute\n",
    "            attribute_df = pd.DataFrame(\n",
    "                dc_dict[attribute], \n",
    "                index=adata.var.index[dc_dict['gene_idx_1']],\n",
    "                columns=adata.var.index[dc_dict['gene_idx_2']]).T\n",
    "            \n",
    "            # Create attribute heatmaps\n",
    "            if tf_batch_num == 0:\n",
    "                heatmaps[ct][attribute] = attribute_df.copy()\n",
    "            else:\n",
    "                heatmaps[ct][attribute] = pd.concat([heatmaps[ct][attribute], attribute_df], axis=1)\n",
    "                \n",
    "            # Create melted dataframes for easy querying\n",
    "            attribute_df['gene'] = attribute_df.index\n",
    "            melted_attribute_df = pd.melt(\n",
    "                attribute_df, \n",
    "                id_vars=['gene'], \n",
    "                value_vars=attribute_df.columns[:-1], \n",
    "                var_name='tf', value_name=attribute)\n",
    "            \n",
    "            # Add columns instead of join for speed\n",
    "            if first:\n",
    "                df = melted_attribute_df.copy()\n",
    "                first=False\n",
    "            else:\n",
    "                df[attribute] = melted_attribute_df[attribute]\n",
    "        \n",
    "        df_list.append(df)\n",
    "    ct_df = pd.concat(df_list)\n",
    "    ct_df['ct'] = ct\n",
    "    ct_dfs.append(ct_df)\n",
    "dc_df = pd.concat(ct_dfs)\n",
    "dc_df['mag_corr_diff'] = dc_df['corr_2'].abs() - dc_df['corr_1'].abs()\n",
    "\n"
   ]
  },
  {
   "cell_type": "markdown",
   "metadata": {},
   "source": [
    "### Calibration histogram"
   ]
  },
  {
   "cell_type": "code",
   "execution_count": 41,
   "metadata": {},
   "outputs": [
    {
     "data": {
      "image/png": "[encoded data removed]",
      "text/plain": [
       "<Figure size 360x432 with 6 Axes>"
      ]
     },
     "metadata": {
      "needs_background": "light"
     },
     "output_type": "display_data"
    }
   ],
   "source": [
    "plt.figure(figsize=(5, 6))\n",
    "plt.subplots_adjust(hspace=0.45, wspace=0.3)\n",
    "\n",
    "for idx, ct in enumerate(cts):\n",
    "    plt.subplot(3, 2, idx+1)\n",
    "    plt.title(ct)\n",
    "    data = dc_df.query('ct == \"{}\"'.format(ct))\n",
    "    plt.hist(data['dcorr_pval'], bins=60)\n",
    "    \n",
    "    if idx == 5 or idx == 4:\n",
    "        plt.xlabel('P-value')\n",
    "plt.savefig('dc_calibration.pdf', bbox_inches='tight')\n"
   ]
  },
  {
   "cell_type": "markdown",
   "metadata": {},
   "source": [
    "### Get some numbers for the paper"
   ]
  },
  {
   "cell_type": "code",
   "execution_count": 31,
   "metadata": {},
   "outputs": [
    {
     "data": {
      "text/plain": [
       "(19522, 2)"
      ]
     },
     "execution_count": 31,
     "metadata": {},
     "output_type": "execute_result"
    }
   ],
   "source": [
    "dc_df.query('dcorr_fdr < 0.1')[['tf', 'gene']].drop_duplicates().shape"
   ]
  },
  {
   "cell_type": "code",
   "execution_count": 42,
   "metadata": {},
   "outputs": [
    {
     "data": {
      "text/plain": [
       "ct\n",
       "B cells              3634\n",
       "CD14+ Monocytes      1763\n",
       "CD4 T cells          2041\n",
       "CD8 T cells          5570\n",
       "FCGR3A+ Monocytes    2054\n",
       "NK cells             5537\n",
       "dtype: int64"
      ]
     },
     "execution_count": 42,
     "metadata": {},
     "output_type": "execute_result"
    }
   ],
   "source": [
    "dc_df.query('dcorr_fdr < 0.1').groupby('ct').size()"
   ]
  },
  {
   "cell_type": "markdown",
   "metadata": {},
   "source": [
    "### Correlation distributions"
   ]
  },
  {
   "cell_type": "code",
   "execution_count": 45,
   "metadata": {},
   "outputs": [
    {
     "name": "stdout",
     "output_type": "stream",
     "text": [
      "Ks_2sampResult(statistic=0.4494851099359866, pvalue=0.0)\n",
      "Ks_2sampResult(statistic=0.3089340384080156, pvalue=8.543825584438977e-152)\n",
      "Ks_2sampResult(statistic=0.3409407180629001, pvalue=1.800282514408845e-185)\n",
      "Ks_2sampResult(statistic=0.2282215418870025, pvalue=2.0768105254527756e-82)\n",
      "Ks_2sampResult(statistic=0.178402449206791, pvalue=2.382466389431803e-50)\n",
      "Ks_2sampResult(statistic=0.12941831338714166, pvalue=1.2462770509138903e-26)\n"
     ]
    },
    {
     "data": {
      "image/png": "[encoded data removed]",
      "text/plain": [
       "<Figure size 432x144 with 6 Axes>"
      ]
     },
     "metadata": {
      "needs_background": "light"
     },
     "output_type": "display_data"
    }
   ],
   "source": [
    "label_mapping = {\n",
    "    'CD14+ Monocytes':'cM',\n",
    "    'FCGR3A+ Monocytes':'ncM',\n",
    "    'B cells':'B',\n",
    "    'CD8 T cells':'Tc',\n",
    "    'CD4 T cells':'Th',\n",
    "    'NK cells':'NK'\n",
    "}\n",
    "\n",
    "plt.figure(figsize=(6, 2));\n",
    "plt.subplots_adjust(hspace=1, wspace=0.25)\n",
    "\n",
    "sns.set_palette('Set2')\n",
    "tf = 'STAT1'\n",
    "for ct_idx, ct in enumerate(['CD14+ Monocytes', 'FCGR3A+ Monocytes', 'B cells', 'CD8 T cells', 'CD4 T cells', 'NK cells']):\n",
    "\n",
    "\n",
    "        plt.subplot(2, 3, ct_idx+1)\n",
    "\n",
    "        corr_1 = dc_df.query('tf == \"{}\" & ct == \"{}\"'.format(tf, ct))['corr_1']\n",
    "        corr_2 = dc_df.query('tf == \"{}\" & ct == \"{}\"'.format(tf, ct))['corr_2']\n",
    "        corr_diff = dc_df.query('tf == \"{}\" & ct == \"{}\"'.format(tf, ct))['dcorr_diff']\n",
    "        \n",
    "        print(stats.ks_2samp(corr_1, corr_2))\n",
    "\n",
    "        robust_hist(corr_1, hist=False, label='ctrl' if ct == 'B cells' else None)\n",
    "        robust_hist(corr_2, hist=False, label='stim' if ct == 'B cells' else None)\n",
    "        #robust_hist(corr_diff, hist=False)\n",
    "\n",
    "        perc_lim = 1\n",
    "        x_min = min(robust_perc(corr_1, perc_lim), robust_perc(corr_2, perc_lim))\n",
    "        x_max = max(robust_perc(corr_1, 100-perc_lim), robust_perc(corr_2, 100-perc_lim))\n",
    "\n",
    "        plt.xlim(x_min, x_max)\n",
    "        #plt.legend()\n",
    "        #plt.title(ct)\n",
    "\n",
    "        plt.title(label_mapping[ct])\n",
    "\n",
    "        plt.xlabel('')\n",
    "\n",
    "        if ct == 'B cells':\n",
    "            plt.legend(bbox_to_anchor=(1,0.5),loc='center left')\n",
    "\n",
    "\n",
    "#     if ct == 'NK cells':\n",
    "#         plt.xlabel('Magnitude of covariance between TF and other genes without IFNB')\n",
    "    \n",
    "        if ct == 'CD4 T cells':\n",
    "            plt.xlabel('Correlation with STAT1')\n",
    "plt.savefig('stat1_correlation_dists.pdf', bbox_inches='tight')"
   ]
  },
  {
   "cell_type": "markdown",
   "metadata": {},
   "source": [
    "### Selection process for TFs - Logistic Regression"
   ]
  },
  {
   "cell_type": "code",
   "execution_count": 46,
   "metadata": {},
   "outputs": [],
   "source": [
    "ct = 'CD14+ Monocytes'"
   ]
  },
  {
   "cell_type": "code",
   "execution_count": 47,
   "metadata": {},
   "outputs": [],
   "source": [
    "# Set up the data\n",
    "\n",
    "stim_corr_mat = heatmaps[ct]['corr_2'].copy().abs()#.drop('gene', axis=1)\n",
    "stim_corr_mat[~np.isfinite(stim_corr_mat)] = 0\n",
    "stim_corr_mat[stim_corr_mat > 0.8] = 0\n",
    "stim_corr_mat['gene'] = stim_corr_mat.index\n",
    "stim_corr_mat['stim'] = 'stim'\n",
    "\n",
    "ctrl_corr_mat = heatmaps[ct]['corr_1'].copy().abs()#.drop('gene', axis=1)\n",
    "ctrl_corr_mat[~np.isfinite(ctrl_corr_mat)] = 0\n",
    "ctrl_corr_mat[ctrl_corr_mat > 0.8] = 0\n",
    "ctrl_corr_mat['stim'] = 'control'\n",
    "ctrl_corr_mat['gene'] = ctrl_corr_mat.index\n",
    "\n",
    "corr_mat = pd.concat([stim_corr_mat, ctrl_corr_mat])#[['SPI1', 'STAT1', 'STAT2','FOS','IRF2','gene', 'stim']]#.dropna(axis=1)\n",
    "X = corr_mat.iloc[:, :-2]\n",
    "# X[~np.isfinite(X)] = 0\n",
    "# X[X > 1] = 1\n",
    "y = corr_mat['stim']"
   ]
  },
  {
   "cell_type": "code",
   "execution_count": 48,
   "metadata": {},
   "outputs": [
    {
     "data": {
      "text/plain": [
       "(7186, 68)"
      ]
     },
     "execution_count": 48,
     "metadata": {},
     "output_type": "execute_result"
    }
   ],
   "source": [
    "X.shape"
   ]
  },
  {
   "cell_type": "code",
   "execution_count": 1024,
   "metadata": {},
   "outputs": [
    {
     "name": "stdout",
     "output_type": "stream",
     "text": [
      "accuracy: 0.9152518786529362\n",
      "Number of nonzero coef: 46\n"
     ]
    }
   ],
   "source": [
    "# Train the classifier\n",
    "from sklearn.linear_model import LogisticRegression\n",
    "clf = LogisticRegression(penalty='l1', C=0.2)\n",
    "clf.fit(X, y)\n",
    "corr_mat['stim_pred'] = clf.predict(X)\n",
    "corr_mat['stim_prob'] = clf.predict_proba(X)[:, 1]\n",
    "corr_mat['abs_prob'] = corr_mat['stim_prob']*(corr_mat['stim_prob'] > 0.5) + (1-corr_mat['stim_prob'])*(corr_mat['stim_prob'] < 0.5)\n",
    "corr_mat['logit'] = np.log(corr_mat['stim_prob'] / (1-corr_mat['stim_prob']))\n",
    "corr_mat['mag_logit'] = corr_mat['logit'].abs()\n",
    "\n",
    "print('accuracy:', (corr_mat['stim_pred'] == y).mean())\n",
    "print('Number of nonzero coef:', (clf.coef_!=0).sum())"
   ]
  },
  {
   "cell_type": "code",
   "execution_count": 1025,
   "metadata": {},
   "outputs": [
    {
     "name": "stdout",
     "output_type": "stream",
     "text": [
      "cross validation mean test acc: 0.9123454616588418\n"
     ]
    }
   ],
   "source": [
    "from sklearn.model_selection import cross_validate\n",
    "score = cross_validate(clf, X, y, cv=50)\n",
    "print('cross validation mean test acc:', score['test_score'].mean())"
   ]
  },
  {
   "cell_type": "code",
   "execution_count": 1026,
   "metadata": {},
   "outputs": [],
   "source": [
    "coef_df = pd.DataFrame()\n",
    "coef_df['tf'] = X.columns\n",
    "coef_df['coef'] = clf.coef_[0]"
   ]
  },
  {
   "cell_type": "code",
   "execution_count": 1027,
   "metadata": {},
   "outputs": [],
   "source": [
    "num_tfs = 10"
   ]
  },
  {
   "cell_type": "code",
   "execution_count": 1028,
   "metadata": {},
   "outputs": [],
   "source": [
    "stim_tf = coef_df.query('coef > 0').sort_values('coef').tail(num_tfs).tf.tolist()\n",
    "ctrl_tf = coef_df.query('coef < 0').sort_values('coef').head(num_tfs).tf.tolist()[::-1]"
   ]
  },
  {
   "cell_type": "code",
   "execution_count": 1040,
   "metadata": {},
   "outputs": [
    {
     "name": "stdout",
     "output_type": "stream",
     "text": [
      "stim ['STAT2', 'NR3C1', 'HDAC1', 'CREB1', 'ZNF274', 'SMC3', 'CHD1', 'HDAC2', 'STAT1', 'E2F4']\n",
      "ctrl ['JUND', 'STAT4', 'CBX3', 'CEBPB', 'HSF1', 'NCOR1', 'THAP1', 'STAT6', 'BCLAF1', 'SMARCC1']\n"
     ]
    }
   ],
   "source": [
    "print('stim', stim_tf)\n",
    "print('ctrl', ctrl_tf)"
   ]
  },
  {
   "cell_type": "code",
   "execution_count": 1030,
   "metadata": {},
   "outputs": [],
   "source": [
    "num_genes_from_each = 50\n",
    "candidate_genes = \\\n",
    "    corr_mat.query('stim == \"control\"').sort_values('mag_logit', ascending=False).head(num_genes_from_each).gene.drop_duplicates().tolist() + \\\n",
    "    corr_mat.query('stim == \"stim\"').sort_values('mag_logit', ascending=False).head(num_genes_from_each).gene.drop_duplicates().tolist()"
   ]
  },
  {
   "cell_type": "markdown",
   "metadata": {},
   "source": [
    "### Selection process for TFs - DC hits"
   ]
  },
  {
   "cell_type": "code",
   "execution_count": 28,
   "metadata": {},
   "outputs": [],
   "source": [
    "ct = 'CD14+ Monocytes'"
   ]
  },
  {
   "cell_type": "code",
   "execution_count": 29,
   "metadata": {},
   "outputs": [],
   "source": [
    "count_df = pd.DataFrame()\n",
    "count_df['tf'] = tfs_to_consider\n",
    "count_df['inc_mag_corr'] = [\n",
    "    dc_df.query('ct == \"{}\" & dcorr_fdr < 0.05 & tf == \"{}\" & mag_corr_diff > 0'.format(ct, tf)).shape[0] for tf in tfs_to_consider\n",
    "]\n",
    "count_df['dec_mag_corr'] = [\n",
    "    dc_df.query('ct == \"{}\" & dcorr_fdr < 0.05 & tf == \"{}\" & mag_corr_diff < 0'.format(ct, tf)).shape[0] for tf in tfs_to_consider\n",
    "]\n",
    "count_df['diff'] = count_df['inc_mag_corr'] - count_df['dec_mag_corr']\n",
    "count_df['inc_prob'] = count_df['inc_mag_corr'] / (count_df['inc_mag_corr'] + count_df['dec_mag_corr'])"
   ]
  },
  {
   "cell_type": "code",
   "execution_count": 30,
   "metadata": {},
   "outputs": [
    {
     "data": {
      "text/html": [
       "<div>\n",
       "<style scoped>\n",
       "    .dataframe tbody tr th:only-of-type {\n",
       "        vertical-align: middle;\n",
       "    }\n",
       "\n",
       "    .dataframe tbody tr th {\n",
       "        vertical-align: top;\n",
       "    }\n",
       "\n",
       "    .dataframe thead th {\n",
       "        text-align: right;\n",
       "    }\n",
       "</style>\n",
       "<table border=\"1\" class=\"dataframe\">\n",
       "  <thead>\n",
       "    <tr style=\"text-align: right;\">\n",
       "      <th></th>\n",
       "      <th>tf</th>\n",
       "      <th>inc_mag_corr</th>\n",
       "      <th>dec_mag_corr</th>\n",
       "      <th>diff</th>\n",
       "      <th>inc_prob</th>\n",
       "    </tr>\n",
       "  </thead>\n",
       "  <tbody>\n",
       "    <tr>\n",
       "      <th>65</th>\n",
       "      <td>CREB1</td>\n",
       "      <td>13</td>\n",
       "      <td>5</td>\n",
       "      <td>8</td>\n",
       "      <td>0.722222</td>\n",
       "    </tr>\n",
       "    <tr>\n",
       "      <th>46</th>\n",
       "      <td>NELFE</td>\n",
       "      <td>12</td>\n",
       "      <td>1</td>\n",
       "      <td>11</td>\n",
       "      <td>0.923077</td>\n",
       "    </tr>\n",
       "    <tr>\n",
       "      <th>67</th>\n",
       "      <td>ZNF274</td>\n",
       "      <td>23</td>\n",
       "      <td>10</td>\n",
       "      <td>13</td>\n",
       "      <td>0.696970</td>\n",
       "    </tr>\n",
       "    <tr>\n",
       "      <th>37</th>\n",
       "      <td>E2F4</td>\n",
       "      <td>17</td>\n",
       "      <td>2</td>\n",
       "      <td>15</td>\n",
       "      <td>0.894737</td>\n",
       "    </tr>\n",
       "    <tr>\n",
       "      <th>52</th>\n",
       "      <td>JUN</td>\n",
       "      <td>15</td>\n",
       "      <td>0</td>\n",
       "      <td>15</td>\n",
       "      <td>1.000000</td>\n",
       "    </tr>\n",
       "    <tr>\n",
       "      <th>47</th>\n",
       "      <td>ETS1</td>\n",
       "      <td>71</td>\n",
       "      <td>54</td>\n",
       "      <td>17</td>\n",
       "      <td>0.568000</td>\n",
       "    </tr>\n",
       "    <tr>\n",
       "      <th>39</th>\n",
       "      <td>SMC3</td>\n",
       "      <td>21</td>\n",
       "      <td>4</td>\n",
       "      <td>17</td>\n",
       "      <td>0.840000</td>\n",
       "    </tr>\n",
       "    <tr>\n",
       "      <th>28</th>\n",
       "      <td>HDAC2</td>\n",
       "      <td>32</td>\n",
       "      <td>9</td>\n",
       "      <td>23</td>\n",
       "      <td>0.780488</td>\n",
       "    </tr>\n",
       "    <tr>\n",
       "      <th>4</th>\n",
       "      <td>IRF7</td>\n",
       "      <td>60</td>\n",
       "      <td>23</td>\n",
       "      <td>37</td>\n",
       "      <td>0.722892</td>\n",
       "    </tr>\n",
       "    <tr>\n",
       "      <th>17</th>\n",
       "      <td>STAT1</td>\n",
       "      <td>98</td>\n",
       "      <td>2</td>\n",
       "      <td>96</td>\n",
       "      <td>0.980000</td>\n",
       "    </tr>\n",
       "  </tbody>\n",
       "</table>\n",
       "</div>"
      ],
      "text/plain": [
       "        tf  inc_mag_corr  dec_mag_corr  diff  inc_prob\n",
       "65  CREB1   13            5             8     0.722222\n",
       "46  NELFE   12            1             11    0.923077\n",
       "67  ZNF274  23            10            13    0.696970\n",
       "37  E2F4    17            2             15    0.894737\n",
       "52  JUN     15            0             15    1.000000\n",
       "47  ETS1    71            54            17    0.568000\n",
       "39  SMC3    21            4             17    0.840000\n",
       "28  HDAC2   32            9             23    0.780488\n",
       "4   IRF7    60            23            37    0.722892\n",
       "17  STAT1   98            2             96    0.980000"
      ]
     },
     "execution_count": 30,
     "metadata": {},
     "output_type": "execute_result"
    }
   ],
   "source": [
    "count_df.sort_values('diff').tail(10)"
   ]
  },
  {
   "cell_type": "code",
   "execution_count": 31,
   "metadata": {},
   "outputs": [],
   "source": [
    "ctrl_tf = count_df.sort_values('diff').head(10)['tf'].tolist()\n",
    "stim_tf = count_df.sort_values('diff').tail(10)['tf'].tolist()\n",
    "\n",
    "# import random\n",
    "# random.shuffle(ctrl_tf)\n",
    "# random.shuffle(stim_tf)"
   ]
  },
  {
   "cell_type": "code",
   "execution_count": 32,
   "metadata": {},
   "outputs": [
    {
     "name": "stdout",
     "output_type": "stream",
     "text": [
      "stim ['CREB1', 'NELFE', 'ZNF274', 'E2F4', 'JUN', 'ETS1', 'SMC3', 'HDAC2', 'IRF7', 'STAT1']\n",
      "ctrl ['GATA3', 'CEBPB', 'STAT4', 'MYC', 'SMARCC1', 'BCLAF1', 'HSF1', 'BDP1', 'BACH1', 'IRF8']\n"
     ]
    }
   ],
   "source": [
    "print('stim', stim_tf)\n",
    "print('ctrl', ctrl_tf)"
   ]
  },
  {
   "cell_type": "code",
   "execution_count": 34,
   "metadata": {},
   "outputs": [],
   "source": [
    "ctrl_tf = ['BCLAF1','HSF1','SMARCC1','CEBPB', 'STAT4', 'MYC', 'BDP1', 'BACH1', 'IRF8', 'GATA3'][::-1]"
   ]
  },
  {
   "cell_type": "code",
   "execution_count": 109,
   "metadata": {},
   "outputs": [],
   "source": [
    "#num_genes_from_each = 500\n",
    "ctrl_candidate_genes = dc_df.query('ct == \"{}\" & dcorr_fdr < 0.1 & tf in @ctrl_tf'.format(ct)).sort_values('mag_corr_diff').gene.drop_duplicates().tolist()\n",
    "stim_candidate_genes = dc_df.query('ct == \"{}\" & dcorr_fdr < 0.1 & tf in @stim_tf'.format(ct)).sort_values('mag_corr_diff', ascending=False).gene.drop_duplicates().tolist()\n",
    "\n",
    "candidate_genes = list(set(ctrl_candidate_genes) & set(stim_candidate_genes))\n"
   ]
  },
  {
   "cell_type": "code",
   "execution_count": 89,
   "metadata": {},
   "outputs": [],
   "source": [
    "with open(data_path + 'stim_effect_1d.pkl', 'rb') as f:\n",
    "    test_dict = pkl.load(f)"
   ]
  },
  {
   "cell_type": "code",
   "execution_count": 91,
   "metadata": {},
   "outputs": [],
   "source": [
    "def get_key(ct):\n",
    "    return (ct + ' - ctrl', ct + ' - stim')\n",
    "ct = 'CD14+ Monocytes'\n",
    "upreg_genes = utils.get_differential_genes(\n",
    "    gene_list=adata.var.index.tolist(),\n",
    "    hypothesis_test_dict=test_dict,\n",
    "    group_1 = get_key(ct)[0],\n",
    "    group_2 = get_key(ct)[1],\n",
    "    which='mean',\n",
    "    direction='increase',\n",
    "    sig=0.05,\n",
    "    num_genes=5000\n",
    "    )['gene'].tolist()"
   ]
  },
  {
   "cell_type": "markdown",
   "metadata": {},
   "source": [
    "### Network drawing - monocytes"
   ]
  },
  {
   "cell_type": "code",
   "execution_count": 156,
   "metadata": {},
   "outputs": [],
   "source": [
    "ct = 'CD14+ Monocytes'"
   ]
  },
  {
   "cell_type": "code",
   "execution_count": 157,
   "metadata": {},
   "outputs": [],
   "source": [
    "all_genes_considered = list(set(candidate_genes) - set(ctrl_tf) - set(stim_tf))"
   ]
  },
  {
   "cell_type": "code",
   "execution_count": 158,
   "metadata": {},
   "outputs": [],
   "source": [
    "import networkx as nx"
   ]
  },
  {
   "cell_type": "code",
   "execution_count": 159,
   "metadata": {},
   "outputs": [
    {
     "data": {
      "text/plain": [
       "<module 'scmemo' from '/home/mkim7/Github/scrna-parameter-estimation/scmemo/scmemo.py'>"
      ]
     },
     "execution_count": 159,
     "metadata": {},
     "output_type": "execute_result"
    }
   ],
   "source": [
    "imp.reload(scmemo)"
   ]
  },
  {
   "cell_type": "code",
   "execution_count": 160,
   "metadata": {},
   "outputs": [],
   "source": [
    "estimator = scmemo.SingleCellEstimator(\n",
    "    adata=adata, \n",
    "    group_label='cell_type',\n",
    "    n_umis_column='n_counts',\n",
    "    num_permute=10000,\n",
    "    beta=0.1)\n",
    "\n",
    "estimator.compute_observed_moments(verbose=False)\n",
    "estimator.estimate_beta_sq(tolerance=3)\n",
    "estimator.estimate_1d_parameters()\n",
    "estimator.estimate_2d_parameters(\n",
    "    gene_list_1=all_genes_considered, \n",
    "    gene_list_2=all_genes_considered,\n",
    "    groups=[ct + ' - ctrl', ct + ' - stim'])\n",
    "idxs = estimator._get_gene_idxs(all_genes_considered)"
   ]
  },
  {
   "cell_type": "code",
   "execution_count": 161,
   "metadata": {},
   "outputs": [],
   "source": [
    "# Get correlations between target genes\n",
    "ctrl_target_corrs = pd.DataFrame(\n",
    "    data=estimator.parameters[ct + ' - ctrl']['corr'][idxs, :][:, idxs].toarray(),\n",
    "    index=all_genes_considered,\n",
    "    columns=all_genes_considered)\n",
    "ctrl_target_corrs[ctrl_target_corrs > 1] = 1\n",
    "ctrl_target_corrs[ctrl_target_corrs < -1] = -1\n",
    "\n",
    "stim_target_corrs = pd.DataFrame(\n",
    "    data=estimator.parameters[ct + ' - stim']['corr'][idxs, :][:, idxs].toarray(),\n",
    "    index=all_genes_considered,\n",
    "    columns=all_genes_considered)\n",
    "stim_target_corrs[stim_target_corrs > 1] = 1\n",
    "stim_target_corrs[stim_target_corrs < -1] = -1"
   ]
  },
  {
   "cell_type": "code",
   "execution_count": 162,
   "metadata": {},
   "outputs": [],
   "source": [
    "# Set up the data\n",
    "\n",
    "stim_corr_mat = heatmaps[ct]['corr_2'].copy().abs()#.drop('gene', axis=1)\n",
    "stim_corr_mat[~np.isfinite(stim_corr_mat)] = 0\n",
    "stim_corr_mat[stim_corr_mat > 0.8] = 0\n",
    "stim_corr_mat['gene'] = stim_corr_mat.index\n",
    "stim_corr_mat['stim'] = 'stim'\n",
    "\n",
    "ctrl_corr_mat = heatmaps[ct]['corr_1'].copy().abs()#.drop('gene', axis=1)\n",
    "ctrl_corr_mat[~np.isfinite(ctrl_corr_mat)] = 0\n",
    "ctrl_corr_mat[ctrl_corr_mat > 0.8] = 0\n",
    "ctrl_corr_mat['stim'] = 'control'\n",
    "ctrl_corr_mat['gene'] = ctrl_corr_mat.index\n",
    "\n",
    "corr_mat = pd.concat([stim_corr_mat, ctrl_corr_mat])#[['SPI1', 'STAT1', 'STAT2','FOS','IRF2','gene', 'stim']]#.dropna(axis=1)\n",
    "X = corr_mat.iloc[:, :-2]\n",
    "# X[~np.isfinite(X)] = 0\n",
    "# X[X > 1] = 1\n",
    "y = corr_mat['stim']"
   ]
  },
  {
   "cell_type": "code",
   "execution_count": 163,
   "metadata": {},
   "outputs": [],
   "source": [
    "# Create the control graph\n",
    "ctrl_G = nx.Graph()\n",
    "ctrl_G.add_nodes_from(ctrl_tf + stim_tf + all_genes_considered)\n",
    "for tf in stim_tf + ctrl_tf:\n",
    "    for gene in all_genes_considered:\n",
    "        ctrl_G.add_edge(tf, gene, weight=ctrl_corr_mat.loc[gene, tf])\n",
    "for g1 in all_genes_considered:\n",
    "    for g2 in all_genes_considered:\n",
    "        if g1 == g2: continue\n",
    "        ctrl_G.add_edge(g1, g2, weight=ctrl_target_corrs.loc[g1, g2])\n",
    "\n",
    "# # Create the stim graph\n",
    "stim_G = nx.Graph()\n",
    "stim_G.add_nodes_from(ctrl_tf + stim_tf + all_genes_considered)\n",
    "for tf in stim_tf + ctrl_tf:\n",
    "    for gene in all_genes_considered:\n",
    "        stim_G.add_edge(tf, gene, weight=stim_corr_mat.loc[gene, tf])\n",
    "for g1 in all_genes_considered:\n",
    "    for g2 in all_genes_considered:\n",
    "        if g1 == g2: continue\n",
    "        stim_G.add_edge(g1, g2, weight=stim_target_corrs.loc[g1, g2])"
   ]
  },
  {
   "cell_type": "code",
   "execution_count": 184,
   "metadata": {},
   "outputs": [
    {
     "name": "stdout",
     "output_type": "stream",
     "text": [
      "0.6666666666666661 GATA3\n",
      "-0.666666666666667 IRF8\n",
      "2.0 BACH1\n",
      "-2.0 BDP1\n",
      "3.333333333333332 MYC\n",
      "-3.3333333333333335 STAT4\n",
      "4.666666666666666 CEBPB\n",
      "-4.666666666666667 SMARCC1\n",
      "6.0 HSF1\n",
      "-6.0 BCLAF1\n"
     ]
    }
   ],
   "source": [
    "# Generate the positions\n",
    "pos = {}\n",
    "\n",
    "tf_heights = np.linspace(-6, 6, len(stim_tf))\n",
    "\n",
    "# Get new tf_heights (spread out the highlighting)\n",
    "new_tf_heights = []\n",
    "for idx in range(5):\n",
    "    new_tf_heights.append(tf_heights[idx])\n",
    "    new_tf_heights.append(tf_heights[-(idx+1)])\n",
    "    \n",
    "for height, tf in zip(new_tf_heights, stim_tf):\n",
    "    pos[tf] = (np.random.uniform(-6.5, -5.5), height)\n",
    "for height, tf in zip(new_tf_heights[::-1], ctrl_tf):\n",
    "    print(height, tf)\n",
    "    \n",
    "    pos[tf] = (np.random.uniform(5.5, 6.5) if tf != 'SMARCC1' else 5.6, height)\n",
    "\n",
    "for gene in all_genes_considered:\n",
    "    pos[gene] = np.array([np.random.uniform(-1, 1), np.random.uniform(-10, 10)])\n",
    "\n",
    "# Do positioning for labels\n",
    "label_pos = {}\n",
    "for tf in stim_tf:\n",
    "    label_pos[tf] = (pos[tf][0] - 1.7, pos[tf][1])\n",
    "for tf in ctrl_tf:\n",
    "    label_pos[tf] = (pos[tf][0] + 1.7, pos[tf][1])\n",
    "    "
   ]
  },
  {
   "cell_type": "code",
   "execution_count": 185,
   "metadata": {},
   "outputs": [
    {
     "data": {
      "image/png": "[encoded data removed]",
      "text/plain": [
       "<Figure size 324x144 with 2 Axes>"
      ]
     },
     "metadata": {},
     "output_type": "display_data"
    }
   ],
   "source": [
    "plt.figure(figsize=(4.5, 2), frameon=False)\n",
    "plt.subplot(1, 2, 1)\n",
    "plt.subplots_adjust(wspace=0.1)\n",
    "\n",
    "edge_colors = np.array([ctrl_G[u][v]['weight'] for u,v in ctrl_G.edges])\n",
    "nx.draw_networkx(\n",
    "    ctrl_G, \n",
    "    pos=pos, \n",
    "    with_labels=False, \n",
    "    width=[0.01 if source in all_genes_considered and sink in all_genes_considered else 0.5 for source, sink in ctrl_G.edges()], \n",
    "    edge_cmap=mpl.cm.Greens, \n",
    "    edge_color=edge_colors, \n",
    "    node_size=2,\n",
    "    edge_vmin=0,\n",
    "    edge_vmax=0.3,\n",
    "    node_color=[0 if node in upreg_genes else 1 for node in ctrl_G.nodes()],\n",
    "    cmap=mpl.cm.PiYG,\n",
    "    vmin=0,\n",
    "    vmax=1,\n",
    "    node_shape='8')\n",
    "nx.draw_networkx_labels(G=ctrl_G, pos=label_pos, labels={tf:tf for tf in ctrl_tf + stim_tf}, font_size=4)\n",
    "plt.xlim(-9.5, 9)\n",
    "plt.axis('off')\n",
    "plt.title('Control')\n",
    "\n",
    "\n",
    "plt.subplot(1, 2, 2)\n",
    "edge_colors = np.array([stim_G[u][v]['weight'] for u,v in stim_G.edges])\n",
    "nx.draw_networkx(\n",
    "    stim_G, \n",
    "    pos=pos, \n",
    "    with_labels=False, \n",
    "    width=[0.01 if source in all_genes_considered and sink in all_genes_considered else 0.5 for source, sink in stim_G.edges()], \n",
    "    edge_cmap=mpl.cm.Greens, \n",
    "    edge_color=edge_colors, \n",
    "    node_size=2,\n",
    "    edge_vmin=0, \n",
    "    edge_vmax=0.3,\n",
    "    node_color=[0 if node in upreg_genes else 1 for node in ctrl_G.nodes()],\n",
    "    cmap=mpl.cm.PiYG,\n",
    "    vmin=0,\n",
    "    vmax=1,\n",
    "    node_shape='8')\n",
    "nx.draw_networkx_labels(G=ctrl_G, pos=label_pos, labels={tf:tf for tf in ctrl_tf + stim_tf}, font_size=4)\n",
    "plt.xlim(-9.5, 9)\n",
    "plt.axis('off')\n",
    "plt.title('IFN-B Stimulation')\n",
    "\n",
    "\n",
    "plt.savefig('network_switching_2.png', bbox_inches='tight', dpi=300)"
   ]
  },
  {
   "cell_type": "markdown",
   "metadata": {},
   "source": [
    "### Network drawing - CD4 T cells"
   ]
  },
  {
   "cell_type": "code",
   "execution_count": 186,
   "metadata": {},
   "outputs": [],
   "source": [
    "ct = 'CD4 T cells'"
   ]
  },
  {
   "cell_type": "code",
   "execution_count": 187,
   "metadata": {},
   "outputs": [],
   "source": [
    "all_genes_considered = list(set(candidate_genes) - set(ctrl_tf) - set(stim_tf))"
   ]
  },
  {
   "cell_type": "code",
   "execution_count": 188,
   "metadata": {},
   "outputs": [],
   "source": [
    "import networkx as nx"
   ]
  },
  {
   "cell_type": "code",
   "execution_count": 189,
   "metadata": {},
   "outputs": [
    {
     "data": {
      "text/plain": [
       "<module 'scmemo' from '/home/mkim7/Github/scrna-parameter-estimation/scmemo/scmemo.py'>"
      ]
     },
     "execution_count": 189,
     "metadata": {},
     "output_type": "execute_result"
    }
   ],
   "source": [
    "imp.reload(scmemo)"
   ]
  },
  {
   "cell_type": "code",
   "execution_count": 190,
   "metadata": {},
   "outputs": [],
   "source": [
    "estimator = scmemo.SingleCellEstimator(\n",
    "    adata=adata, \n",
    "    group_label='cell_type',\n",
    "    n_umis_column='n_counts',\n",
    "    num_permute=10000,\n",
    "    beta=0.1)\n",
    "\n",
    "estimator.compute_observed_moments(verbose=False)\n",
    "estimator.estimate_beta_sq(tolerance=3)\n",
    "estimator.estimate_1d_parameters()\n",
    "estimator.estimate_2d_parameters(\n",
    "    gene_list_1=all_genes_considered, \n",
    "    gene_list_2=all_genes_considered,\n",
    "    groups=[ct + ' - ctrl', ct + ' - stim'])\n",
    "idxs = estimator._get_gene_idxs(all_genes_considered)"
   ]
  },
  {
   "cell_type": "code",
   "execution_count": 191,
   "metadata": {},
   "outputs": [],
   "source": [
    "# Get correlations between target genes\n",
    "ctrl_target_corrs = pd.DataFrame(\n",
    "    data=estimator.parameters[ct + ' - ctrl']['corr'][idxs, :][:, idxs].toarray(),\n",
    "    index=all_genes_considered,\n",
    "    columns=all_genes_considered)\n",
    "ctrl_target_corrs[ctrl_target_corrs > 1] = 1\n",
    "ctrl_target_corrs[ctrl_target_corrs < -1] = -1\n",
    "\n",
    "stim_target_corrs = pd.DataFrame(\n",
    "    data=estimator.parameters[ct + ' - stim']['corr'][idxs, :][:, idxs].toarray(),\n",
    "    index=all_genes_considered,\n",
    "    columns=all_genes_considered)\n",
    "stim_target_corrs[stim_target_corrs > 1] = 1\n",
    "stim_target_corrs[stim_target_corrs < -1] = -1"
   ]
  },
  {
   "cell_type": "code",
   "execution_count": 192,
   "metadata": {},
   "outputs": [],
   "source": [
    "# Set up the data\n",
    "\n",
    "stim_corr_mat = heatmaps[ct]['corr_2'].copy().abs()#.drop('gene', axis=1)\n",
    "stim_corr_mat[~np.isfinite(stim_corr_mat)] = 0\n",
    "stim_corr_mat[stim_corr_mat > 0.8] = 0\n",
    "stim_corr_mat['gene'] = stim_corr_mat.index\n",
    "stim_corr_mat['stim'] = 'stim'\n",
    "\n",
    "ctrl_corr_mat = heatmaps[ct]['corr_1'].copy().abs()#.drop('gene', axis=1)\n",
    "ctrl_corr_mat[~np.isfinite(ctrl_corr_mat)] = 0\n",
    "ctrl_corr_mat[ctrl_corr_mat > 0.8] = 0\n",
    "ctrl_corr_mat['stim'] = 'control'\n",
    "ctrl_corr_mat['gene'] = ctrl_corr_mat.index\n",
    "\n",
    "corr_mat = pd.concat([stim_corr_mat, ctrl_corr_mat])#[['SPI1', 'STAT1', 'STAT2','FOS','IRF2','gene', 'stim']]#.dropna(axis=1)\n",
    "X = corr_mat.iloc[:, :-2]\n",
    "# X[~np.isfinite(X)] = 0\n",
    "# X[X > 1] = 1\n",
    "y = corr_mat['stim']"
   ]
  },
  {
   "cell_type": "code",
   "execution_count": 193,
   "metadata": {},
   "outputs": [],
   "source": [
    "# Create the control graph\n",
    "ctrl_G = nx.Graph()\n",
    "ctrl_G.add_nodes_from(ctrl_tf + stim_tf + all_genes_considered)\n",
    "for tf in stim_tf + ctrl_tf:\n",
    "    for gene in all_genes_considered:\n",
    "        ctrl_G.add_edge(tf, gene, weight=ctrl_corr_mat.loc[gene, tf])\n",
    "for g1 in all_genes_considered:\n",
    "    for g2 in all_genes_considered:\n",
    "        if g1 == g2: continue\n",
    "        ctrl_G.add_edge(g1, g2, weight=ctrl_target_corrs.loc[g1, g2])\n",
    "\n",
    "# # Create the stim graph\n",
    "stim_G = nx.Graph()\n",
    "stim_G.add_nodes_from(ctrl_tf + stim_tf + all_genes_considered)\n",
    "for tf in stim_tf + ctrl_tf:\n",
    "    for gene in all_genes_considered:\n",
    "        stim_G.add_edge(tf, gene, weight=stim_corr_mat.loc[gene, tf])\n",
    "for g1 in all_genes_considered:\n",
    "    for g2 in all_genes_considered:\n",
    "        if g1 == g2: continue\n",
    "        stim_G.add_edge(g1, g2, weight=stim_target_corrs.loc[g1, g2])"
   ]
  },
  {
   "cell_type": "code",
   "execution_count": 199,
   "metadata": {},
   "outputs": [
    {
     "name": "stdout",
     "output_type": "stream",
     "text": [
      "0.6666666666666661 GATA3\n",
      "-0.666666666666667 IRF8\n",
      "2.0 BACH1\n",
      "-2.0 BDP1\n",
      "3.333333333333332 MYC\n",
      "-3.3333333333333335 STAT4\n",
      "4.666666666666666 CEBPB\n",
      "-4.666666666666667 SMARCC1\n",
      "6.0 HSF1\n",
      "-6.0 BCLAF1\n"
     ]
    }
   ],
   "source": [
    "# Generate the positions\n",
    "pos = {}\n",
    "\n",
    "tf_heights = np.linspace(-6, 6, len(stim_tf))\n",
    "\n",
    "# Get new tf_heights (spread out the highlighting)\n",
    "new_tf_heights = []\n",
    "for idx in range(5):\n",
    "    new_tf_heights.append(tf_heights[idx])\n",
    "    new_tf_heights.append(tf_heights[-(idx+1)])\n",
    "    \n",
    "for height, tf in zip(new_tf_heights, stim_tf):\n",
    "    pos[tf] = (np.random.uniform(-6.5, -5.5), height)\n",
    "for height, tf in zip(new_tf_heights[::-1], ctrl_tf):\n",
    "    print(height, tf)\n",
    "    \n",
    "    pos[tf] = (np.random.uniform(5.5, 6.5) if tf != 'SMARCC1' else 5.6, height)\n",
    "\n",
    "for gene in all_genes_considered:\n",
    "    pos[gene] = np.array([np.random.uniform(-1, 1), np.random.uniform(-10, 10)])\n",
    "\n",
    "# Do positioning for labels\n",
    "label_pos = {}\n",
    "for tf in stim_tf:\n",
    "    label_pos[tf] = (pos[tf][0] - 1.7, pos[tf][1])\n",
    "for tf in ctrl_tf:\n",
    "    label_pos[tf] = (pos[tf][0] + 1.7, pos[tf][1])\n",
    "    "
   ]
  },
  {
   "cell_type": "code",
   "execution_count": 200,
   "metadata": {},
   "outputs": [
    {
     "data": {
      "image/png": "[encoded data removed]",
      "text/plain": [
       "<Figure size 324x144 with 2 Axes>"
      ]
     },
     "metadata": {},
     "output_type": "display_data"
    }
   ],
   "source": [
    "plt.figure(figsize=(4.5, 2), frameon=False)\n",
    "plt.subplot(1, 2, 1)\n",
    "plt.subplots_adjust(wspace=0.1)\n",
    "\n",
    "edge_colors = np.array([ctrl_G[u][v]['weight'] for u,v in ctrl_G.edges])\n",
    "nx.draw_networkx(\n",
    "    ctrl_G, \n",
    "    pos=pos, \n",
    "    with_labels=False, \n",
    "    width=[0.01 if source in all_genes_considered and sink in all_genes_considered else 0.5 for source, sink in ctrl_G.edges()], \n",
    "    edge_cmap=mpl.cm.Greens, \n",
    "    edge_color=edge_colors, \n",
    "    node_size=2,\n",
    "    edge_vmin=0,\n",
    "    edge_vmax=0.3,\n",
    "    node_color=[0 if node in upreg_genes else 1 for node in ctrl_G.nodes()],\n",
    "    cmap=mpl.cm.PiYG,\n",
    "    vmin=0,\n",
    "    vmax=1,\n",
    "    node_shape='8')\n",
    "nx.draw_networkx_labels(G=ctrl_G, pos=label_pos, labels={tf:tf for tf in ctrl_tf + stim_tf}, font_size=4)\n",
    "plt.xlim(-9.5, 9)\n",
    "plt.axis('off')\n",
    "plt.title('Control')\n",
    "\n",
    "\n",
    "plt.subplot(1, 2, 2)\n",
    "edge_colors = np.array([stim_G[u][v]['weight'] for u,v in stim_G.edges])\n",
    "nx.draw_networkx(\n",
    "    stim_G, \n",
    "    pos=pos, \n",
    "    with_labels=False, \n",
    "    width=[0.01 if source in all_genes_considered and sink in all_genes_considered else 0.5 for source, sink in stim_G.edges()], \n",
    "    edge_cmap=mpl.cm.Greens, \n",
    "    edge_color=edge_colors, \n",
    "    node_size=2,\n",
    "    edge_vmin=0, \n",
    "    edge_vmax=0.3,\n",
    "    node_color=[0 if node in upreg_genes else 1 for node in ctrl_G.nodes()],\n",
    "    cmap=mpl.cm.PiYG,\n",
    "    vmin=0,\n",
    "    vmax=1,\n",
    "    node_shape='8')\n",
    "nx.draw_networkx_labels(G=ctrl_G, pos=label_pos, labels={tf:tf for tf in ctrl_tf + stim_tf}, font_size=4)\n",
    "plt.xlim(-9.5, 9)\n",
    "plt.axis('off')\n",
    "plt.title('IFN-B Stimulation')\n",
    "\n",
    "\n",
    "plt.savefig('network_switching_cd4.png', bbox_inches='tight', dpi=300)"
   ]
  },
  {
   "cell_type": "code",
   "execution_count": 121,
   "metadata": {},
   "outputs": [],
   "source": [
    "%matplotlib inline"
   ]
  },
  {
   "cell_type": "code",
   "execution_count": null,
   "metadata": {},
   "outputs": [],
   "source": []
  }
 ],
 "metadata": {
  "kernelspec": {
   "display_name": "Python 3",
   "language": "python",
   "name": "python3"
  },
  "language_info": {
   "codemirror_mode": {
    "name": "ipython",
    "version": 3
   },
   "file_extension": ".py",
   "mimetype": "text/x-python",
   "name": "python",
   "nbconvert_exporter": "python",
   "pygments_lexer": "ipython3",
   "version": "3.7.5"
  }
 },
 "nbformat": 4,
 "nbformat_minor": 4
}
