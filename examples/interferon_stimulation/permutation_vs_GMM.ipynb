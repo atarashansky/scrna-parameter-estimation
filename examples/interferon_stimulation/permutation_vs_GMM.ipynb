{
 "cells": [
  {
   "cell_type": "markdown",
   "metadata": {},
   "source": [
    "# Compare permutation test to GMM\n",
    "\n",
    "Demonstrating differential expression between cell types and the effect of interferon stimulation within a cell type (CD4 T cells)."
   ]
  },
  {
   "cell_type": "code",
   "execution_count": 1,
   "metadata": {},
   "outputs": [],
   "source": [
    "import pandas as pd\n",
    "import matplotlib.pyplot as plt\n",
    "import scanpy.api as sc\n",
    "import scipy as sp\n",
    "import itertools\n",
    "import numpy as np\n",
    "import scipy.stats as stats\n",
    "from scipy.integrate import dblquad\n",
    "import seaborn as sns\n",
    "from statsmodels.stats.multitest import fdrcorrection\n",
    "import imp\n",
    "pd.options.display.max_rows = 999\n",
    "pd.set_option('display.max_colwidth', -1)\n",
    "import pickle as pkl\n",
    "import time"
   ]
  },
  {
   "cell_type": "code",
   "execution_count": 23,
   "metadata": {},
   "outputs": [],
   "source": [
    "from statsmodels.sandbox.regression.gmm import GMM"
   ]
  },
  {
   "cell_type": "code",
   "execution_count": 2,
   "metadata": {},
   "outputs": [],
   "source": [
    "%matplotlib inline"
   ]
  },
  {
   "cell_type": "code",
   "execution_count": 3,
   "metadata": {},
   "outputs": [],
   "source": [
    "import matplotlib.pylab as pylab\n",
    "params = {'legend.fontsize': 'x-large',\n",
    "         'axes.labelsize': 'x-large',\n",
    "         'axes.titlesize':'x-large',\n",
    "         'figure.titlesize':'xx-large',\n",
    "         'xtick.labelsize':'x-large',\n",
    "         'ytick.labelsize':'x-large'}\n",
    "pylab.rcParams.update(params)\n"
   ]
  },
  {
   "cell_type": "code",
   "execution_count": 4,
   "metadata": {},
   "outputs": [],
   "source": [
    "import warnings\n",
    "warnings.filterwarnings('ignore')"
   ]
  },
  {
   "cell_type": "code",
   "execution_count": 5,
   "metadata": {},
   "outputs": [],
   "source": [
    "from sklearn.decomposition import PCA"
   ]
  },
  {
   "cell_type": "code",
   "execution_count": 6,
   "metadata": {},
   "outputs": [],
   "source": [
    "from sklearn.preprocessing import StandardScaler"
   ]
  },
  {
   "cell_type": "code",
   "execution_count": 7,
   "metadata": {},
   "outputs": [],
   "source": [
    "import sys\n",
    "sys.path.append('/wynton/group/ye/mincheol/Github/scrna-parameter-estimation/simplesc')\n",
    "import scme, utils"
   ]
  },
  {
   "cell_type": "code",
   "execution_count": 8,
   "metadata": {},
   "outputs": [],
   "source": [
    "data_path = '/wynton/group/ye/mincheol/parameter_estimation/interferon_data/'"
   ]
  },
  {
   "cell_type": "markdown",
   "metadata": {},
   "source": [
    "### Perform some basic filtering"
   ]
  },
  {
   "cell_type": "code",
   "execution_count": 9,
   "metadata": {},
   "outputs": [],
   "source": [
    "adata = sc.read(data_path + 'interferon.raw.h5ad')\n",
    "adata = adata[:, adata.var.index.map(lambda x: x[:2] != 'HB')]"
   ]
  },
  {
   "cell_type": "code",
   "execution_count": 10,
   "metadata": {},
   "outputs": [
    {
     "data": {
      "text/plain": [
       "CD4 T cells          10373\n",
       "CD14+ Monocytes      5355 \n",
       "B cells              2570 \n",
       "CD8 T cells          2039 \n",
       "NK cells             1991 \n",
       "FCGR3A+ Monocytes    1592 \n",
       "Dendritic cells      432  \n",
       "Megakaryocytes       208  \n",
       "Name: cell, dtype: int64"
      ]
     },
     "execution_count": 10,
     "metadata": {},
     "output_type": "execute_result"
    }
   ],
   "source": [
    "adata.obs.cell.value_counts()"
   ]
  },
  {
   "cell_type": "code",
   "execution_count": 11,
   "metadata": {},
   "outputs": [
    {
     "name": "stderr",
     "output_type": "stream",
     "text": [
      "Trying to set attribute `.obs` of view, making a copy.\n"
     ]
    }
   ],
   "source": [
    "adata.obs['cell_type'] = (adata.obs['cell'].astype(str) + ' - ' + adata.obs['stim'].astype(str)).astype('category')"
   ]
  },
  {
   "cell_type": "code",
   "execution_count": 12,
   "metadata": {},
   "outputs": [],
   "source": [
    "sc.pl.tsne(adata, color='cell_type')"
   ]
  },
  {
   "cell_type": "code",
   "execution_count": 13,
   "metadata": {},
   "outputs": [],
   "source": [
    "# plt.figure(figsize=(5, 3))\n",
    "# sns.boxplot(x='n_counts', y='cell_type', data=adata.obs)\n",
    "# plt.title('Total UMI counts by cell type')\n",
    "# plt.savefig('celltype_numi.pdf')\n",
    "# plt.savefig('celltype_numi.png')"
   ]
  },
  {
   "cell_type": "code",
   "execution_count": 14,
   "metadata": {},
   "outputs": [
    {
     "name": "stdout",
     "output_type": "stream",
     "text": [
      "Number of genes kept: 1880\n"
     ]
    }
   ],
   "source": [
    "print('Number of genes kept:', adata.shape[1])"
   ]
  },
  {
   "cell_type": "markdown",
   "metadata": {},
   "source": [
    "### Subset CD4 T cells"
   ]
  },
  {
   "cell_type": "code",
   "execution_count": 15,
   "metadata": {},
   "outputs": [],
   "source": [
    "cd4_adata = adata[adata.obs.cell == 'CD4 T cells'].copy()"
   ]
  },
  {
   "cell_type": "markdown",
   "metadata": {},
   "source": [
    "### Fit permutation p values"
   ]
  },
  {
   "cell_type": "code",
   "execution_count": 33,
   "metadata": {},
   "outputs": [
    {
     "data": {
      "text/plain": [
       "0.1"
      ]
     },
     "execution_count": 33,
     "metadata": {},
     "output_type": "execute_result"
    }
   ],
   "source": [
    "estimator.beta"
   ]
  },
  {
   "cell_type": "code",
   "execution_count": 34,
   "metadata": {},
   "outputs": [
    {
     "data": {
      "text/plain": [
       "0.02062358872333306"
      ]
     },
     "execution_count": 34,
     "metadata": {},
     "output_type": "execute_result"
    }
   ],
   "source": [
    "estimator.beta_sq"
   ]
  },
  {
   "cell_type": "code",
   "execution_count": 17,
   "metadata": {},
   "outputs": [
    {
     "name": "stdout",
     "output_type": "stream",
     "text": [
      "Computing observed moments for: ctrl\n",
      "Computing observed moments for: stim\n",
      "Gamma RVs generated..\n"
     ]
    }
   ],
   "source": [
    "estimator = scme.SingleCellEstimator(\n",
    "    adata=adata, \n",
    "    group_label='stim',\n",
    "    n_umis_column='n_counts',\n",
    "    num_permute=10000,\n",
    "    beta=0.1)\n",
    "\n",
    "estimator.estimate_beta_sq(tolerance=3)\n",
    "estimator.estimate_parameters()\n",
    "\n",
    "estimator.compute_confidence_intervals_1d(\n",
    "    groups=estimator.groups,\n",
    "    groups_to_compare=[('ctrl', 'stim')])"
   ]
  },
  {
   "cell_type": "markdown",
   "metadata": {},
   "source": [
    "### Fit GMMs"
   ]
  },
  {
   "cell_type": "code",
   "execution_count": 24,
   "metadata": {},
   "outputs": [],
   "source": [
    "class MeanGMM(GMM):\n",
    "\n",
    "    \n",
    "    def __init__(self, *args, **kwds):\n",
    "        # set appropriate counts for moment conditions and parameters\n",
    "        # TODO: clean up signature\n",
    "        kwds.setdefault('k_moms', 2)\n",
    "        kwds.setdefault('k_params', 2)\n",
    "        super(MeanGMM, self).__init__(*args, **kwds)\n",
    "        \n",
    "    \n",
    "    def fitstart(self):\n",
    "        \n",
    "        y = self.endog.reshape(-1, 1)/self.q\n",
    "        x_mat = self.exog\n",
    "        ylog = np.log(y+1)\n",
    "        sol, _, _, _ = np.linalg.lstsq(x_mat, ylog, rcond=-1)\n",
    "        \n",
    "        return sol.reshape(-1)\n",
    "\n",
    "\n",
    "    def momcond(self, params):\n",
    "                \n",
    "        y = self.endog.reshape(-1, 1)\n",
    "        x_mat = self.exog\n",
    "\n",
    "        beta_hat = params.reshape(-1, 1)\n",
    "        \n",
    "        a =  (x_mat*y)/self.q - (x_mat*np.exp(x_mat@beta_hat))\n",
    "        return a\n",
    "    \n",
    "class VarianceGMM(GMM):\n",
    "\n",
    "    \n",
    "    def __init__(self, *args, **kwds):\n",
    "        # set appropriate counts for moment conditions and parameters\n",
    "        # TODO: clean up signature\n",
    "        kwds.setdefault('k_moms', 2)\n",
    "        kwds.setdefault('k_params', 2)\n",
    "        super(VarianceGMM, self).__init__(*args, **kwds)\n",
    "        \n",
    "        \n",
    "    def fitstart(self):\n",
    "        \n",
    "        y = self.endog.reshape(-1, 1)/self.q\n",
    "        ylog = np.log(y+1)\n",
    "        x_mat = self.exog\n",
    "        mean_beta = self.mean_beta.reshape(-1, 1)\n",
    "        \n",
    "        res = (ylog-x_mat@mean_beta)**2\n",
    "        sol, _, _, _ = np.linalg.lstsq(x_mat, res, rcond=-1)\n",
    "        return sol.reshape(-1)\n",
    "\n",
    "    def momcond(self, params):\n",
    "                \n",
    "        y = self.endog.reshape(-1, 1)\n",
    "        x_mat = self.exog\n",
    "        mean_beta = self.mean_beta.reshape(-1, 1)\n",
    "\n",
    "        var_beta = params.reshape(-1, 1)\n",
    "        \n",
    "        a = (x_mat*y**2)/self.q_sq\n",
    "        b = -(x_mat*y)*(1-self.q_sq/self.q)/self.q_sq\n",
    "        c = -2*y*np.exp(x_mat@mean_beta)*x_mat/self.q\n",
    "        d = np.exp(2*x_mat@mean_beta)*x_mat\n",
    "        e = -x_mat*np.exp(x_mat@(self.gamma*mean_beta + var_beta))\n",
    "        return a + b + c + d + e"
   ]
  },
  {
   "cell_type": "code",
   "execution_count": 19,
   "metadata": {},
   "outputs": [
    {
     "data": {
      "text/plain": [
       "array([[0.],\n",
       "       [0.],\n",
       "       [0.],\n",
       "       ...,\n",
       "       [0.],\n",
       "       [0.],\n",
       "       [0.]], dtype=float32)"
      ]
     },
     "execution_count": 19,
     "metadata": {},
     "output_type": "execute_result"
    }
   ],
   "source": [
    "adata.X[:, 1].toarray()"
   ]
  },
  {
   "cell_type": "code",
   "execution_count": 30,
   "metadata": {},
   "outputs": [],
   "source": [
    "X = np.vstack([\n",
    "    (cd4_adata.obs['stim'].values == 'stim').astype('float'),\n",
    "    np.ones(cd4_adata.shape[0])]).T"
   ]
  },
  {
   "cell_type": "code",
   "execution_count": 44,
   "metadata": {},
   "outputs": [
    {
     "data": {
      "text/plain": [
       "1.5188188923492538"
      ]
     },
     "execution_count": 44,
     "metadata": {},
     "output_type": "execute_result"
    }
   ],
   "source": [
    "estimator.mean_var_slope"
   ]
  },
  {
   "cell_type": "code",
   "execution_count": 72,
   "metadata": {},
   "outputs": [
    {
     "data": {
      "text/plain": [
       "2000"
      ]
     },
     "execution_count": 72,
     "metadata": {},
     "output_type": "execute_result"
    }
   ],
   "source": [
    "50*40"
   ]
  },
  {
   "cell_type": "code",
   "execution_count": 74,
   "metadata": {},
   "outputs": [],
   "source": [
    "def compute_gmm(adata):\n",
    "    \n",
    "    de_pval = np.zeros(adata.shape[1])\n",
    "    dv_pval = np.zeros(adata.shape[1])\n",
    "    \n",
    "    for gene_idx in range(adata.shape[1]):\n",
    "        \n",
    "        y = adata.X[:, gene_idx].toarray()\n",
    "        \n",
    "        try:\n",
    "        \n",
    "            mean_model = MeanGMM(y, X, instrument=None, q=estimator.beta, q_sq=estimator.beta_sq)\n",
    "            mean_res = mean_model.fit(\n",
    "                None, maxiter=2, optim_method='bfgs', optim_args={'disp':False}, wargs=dict(centered=False))\n",
    "\n",
    "            var_model = VarianceGMM(\n",
    "                y, X, instrument=None, \n",
    "                q=estimator.beta, q_sq=estimator.beta_sq, \n",
    "                mean_beta=mean_res.params, gamma=estimator.mean_var_slope)\n",
    "            var_res = var_model.fit(\n",
    "                None, maxiter=2, optim_method='bfgs', optim_args={'disp':False}, wargs=dict(centered=False))\n",
    "\n",
    "            de_pval[gene_idx] = mean_res.pvalues[0]\n",
    "            dv_pval[gene_idx] = var_res.pvalues[0]\n",
    "        \n",
    "        except:\n",
    "            \n",
    "            de_pval[gene_idx] = np.nan\n",
    "            dv_pval[gene_idx] = np.nan\n",
    "        \n",
    "    return de_pval, dv_pval\n",
    "        \n",
    "        "
   ]
  },
  {
   "cell_type": "code",
   "execution_count": 75,
   "metadata": {},
   "outputs": [
    {
     "name": "stdout",
     "output_type": "stream",
     "text": [
      "CPU times: user 2min 46s, sys: 665 µs, total: 2min 46s\n",
      "Wall time: 2min 46s\n"
     ]
    }
   ],
   "source": [
    "%%time\n",
    "gmm_de_pvals, gmm_dv_pvals = compute_gmm(cd4_adata)"
   ]
  },
  {
   "cell_type": "code",
   "execution_count": 94,
   "metadata": {},
   "outputs": [],
   "source": [
    "perm_de_pvals = estimator.hypothesis_test_result_1d[('ctrl', 'stim')]['de_pval']\n",
    "perm_dv_pvals = estimator.hypothesis_test_result_1d[('ctrl', 'stim')]['dv_pval']"
   ]
  },
  {
   "cell_type": "code",
   "execution_count": 107,
   "metadata": {},
   "outputs": [],
   "source": [
    "def robust_correlation(a, b):\n",
    "    \n",
    "    condition = (np.isfinite(a) & np.isfinite(b))\n",
    "    x = a[condition]\n",
    "    y = b[condition]\n",
    "    \n",
    "    return stats.spearmanr(x,y)"
   ]
  },
  {
   "cell_type": "code",
   "execution_count": 108,
   "metadata": {},
   "outputs": [
    {
     "data": {
      "text/plain": [
       "SpearmanrResult(correlation=0.2710399245788053, pvalue=2.9121327231883937e-32)"
      ]
     },
     "execution_count": 108,
     "metadata": {},
     "output_type": "execute_result"
    }
   ],
   "source": [
    "robust_correlation(-np.log(perm_dv_pvals), -np.log(gmm_dv_pvals))"
   ]
  },
  {
   "cell_type": "code",
   "execution_count": null,
   "metadata": {},
   "outputs": [],
   "source": [
    "stats.pearsonr(-np.log(perm_dv_pvals))"
   ]
  },
  {
   "cell_type": "code",
   "execution_count": 109,
   "metadata": {},
   "outputs": [
    {
     "data": {
      "image/png": "[encoded data removed]",
      "text/plain": [
       "<Figure size 432x288 with 1 Axes>"
      ]
     },
     "metadata": {
      "needs_background": "light"
     },
     "output_type": "display_data"
    }
   ],
   "source": [
    "plt.scatter(-np.log(perm_dv_pvals), -np.log(gmm_dv_pvals), s=1)\n",
    "plt.xlabel('perm');plt.ylabel('gmm');\n",
    "plt.xlim(0, 20);\n",
    "plt.ylim(0, 10);"
   ]
  },
  {
   "cell_type": "code",
   "execution_count": 93,
   "metadata": {},
   "outputs": [
    {
     "data": {
      "text/plain": [
       "270"
      ]
     },
     "execution_count": 93,
     "metadata": {},
     "output_type": "execute_result"
    }
   ],
   "source": [
    "(estimator.hypothesis_test_result_1d[('ctrl', 'stim')]['dv_fdr'] < 0.2).sum()"
   ]
  },
  {
   "cell_type": "code",
   "execution_count": 85,
   "metadata": {},
   "outputs": [
    {
     "data": {
      "image/png": "[encoded data removed]",
      "text/plain": [
       "<Figure size 432x288 with 1 Axes>"
      ]
     },
     "metadata": {
      "needs_background": "light"
     },
     "output_type": "display_data"
    }
   ],
   "source": [
    "plt.hist(estimator.hypothesis_test_result_1d[('ctrl', 'stim')]['dv_pval'], bins=50);"
   ]
  },
  {
   "cell_type": "code",
   "execution_count": 88,
   "metadata": {},
   "outputs": [],
   "source": [
    "def fdrcorrect(pvals):\n",
    "\t\"\"\"\n",
    "\t\tPerform FDR correction with nan's.\n",
    "\t\"\"\"\n",
    "\n",
    "\tfdr = np.ones(pvals.shape[0])\n",
    "\t_, fdr[~np.isnan(pvals)] = fdrcorrection(pvals[~np.isnan(pvals)])\n",
    "\treturn fdr"
   ]
  },
  {
   "cell_type": "code",
   "execution_count": 89,
   "metadata": {},
   "outputs": [],
   "source": [
    "dv_fdr = fdrcorrect(gmm_dv_pvals)"
   ]
  },
  {
   "cell_type": "code",
   "execution_count": 91,
   "metadata": {},
   "outputs": [
    {
     "data": {
      "image/png": "[encoded data removed]",
      "text/plain": [
       "<Figure size 432x288 with 1 Axes>"
      ]
     },
     "metadata": {
      "needs_background": "light"
     },
     "output_type": "display_data"
    }
   ],
   "source": [
    "plt.hist(dv_fdr, bins=50);"
   ]
  },
  {
   "cell_type": "code",
   "execution_count": 77,
   "metadata": {},
   "outputs": [
    {
     "data": {
      "image/png": "[encoded data removed]",
      "text/plain": [
       "<Figure size 432x288 with 1 Axes>"
      ]
     },
     "metadata": {
      "needs_background": "light"
     },
     "output_type": "display_data"
    }
   ],
   "source": [
    "plt.hist(gmm_de_pvals, bins=50);"
   ]
  }
 ],
 "metadata": {
  "kernelspec": {
   "display_name": "Python 3",
   "language": "python",
   "name": "python3"
  },
  "language_info": {
   "codemirror_mode": {
    "name": "ipython",
    "version": 3
   },
   "file_extension": ".py",
   "mimetype": "text/x-python",
   "name": "python",
   "nbconvert_exporter": "python",
   "pygments_lexer": "ipython3",
   "version": "3.7.4"
  }
 },
 "nbformat": 4,
 "nbformat_minor": 4
}
