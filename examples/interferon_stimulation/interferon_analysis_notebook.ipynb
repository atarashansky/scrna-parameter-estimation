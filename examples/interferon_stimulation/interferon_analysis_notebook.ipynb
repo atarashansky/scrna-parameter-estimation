{
 "cells": [
  {
   "cell_type": "markdown",
   "metadata": {},
   "source": [
    "# Cell type differences and effects of interferon stimulation on immune cells\n",
    "\n",
    "Demonstrating differential expression between cell types and the effect of interferon stimulation within a cell type (CD4 T cells)."
   ]
  },
  {
   "cell_type": "code",
   "execution_count": 1,
   "metadata": {},
   "outputs": [],
   "source": [
    "import pandas as pd\n",
    "import matplotlib.pyplot as plt\n",
    "import scanpy.api as sc\n",
    "import scipy as sp\n",
    "import itertools\n",
    "import numpy as np\n",
    "import scipy.stats as stats\n",
    "from scipy.integrate import dblquad\n",
    "import seaborn as sns\n",
    "from statsmodels.stats.multitest import fdrcorrection\n",
    "import imp\n",
    "pd.options.display.max_rows = 999\n",
    "pd.set_option('display.max_colwidth', -1)\n",
    "import pickle as pkl\n",
    "import time"
   ]
  },
  {
   "cell_type": "code",
   "execution_count": 2,
   "metadata": {},
   "outputs": [],
   "source": [
    "%matplotlib inline"
   ]
  },
  {
   "cell_type": "code",
   "execution_count": 3,
   "metadata": {},
   "outputs": [],
   "source": [
    "import matplotlib.pylab as pylab\n",
    "params = {'legend.fontsize': 'x-large',\n",
    "         'axes.labelsize': 'x-large',\n",
    "         'axes.titlesize':'x-large',\n",
    "         'figure.titlesize':'xx-large',\n",
    "         'xtick.labelsize':'x-large',\n",
    "         'ytick.labelsize':'x-large'}\n",
    "pylab.rcParams.update(params)\n"
   ]
  },
  {
   "cell_type": "code",
   "execution_count": 4,
   "metadata": {},
   "outputs": [],
   "source": [
    "import warnings\n",
    "warnings.filterwarnings('ignore')"
   ]
  },
  {
   "cell_type": "code",
   "execution_count": 5,
   "metadata": {},
   "outputs": [],
   "source": [
    "from sklearn.decomposition import PCA"
   ]
  },
  {
   "cell_type": "code",
   "execution_count": 6,
   "metadata": {},
   "outputs": [],
   "source": [
    "from sklearn.preprocessing import StandardScaler"
   ]
  },
  {
   "cell_type": "code",
   "execution_count": 7,
   "metadata": {},
   "outputs": [],
   "source": [
    "import sys\n",
    "sys.path.append('/wynton/group/ye/mincheol/Github/scrna-parameter-estimation/simplesc')\n",
    "import scme, utils"
   ]
  },
  {
   "cell_type": "code",
   "execution_count": 8,
   "metadata": {},
   "outputs": [],
   "source": [
    "data_path = '/wynton/group/ye/mincheol/parameter_estimation/interferon_data/'"
   ]
  },
  {
   "cell_type": "markdown",
   "metadata": {},
   "source": [
    "### Perform some basic filtering"
   ]
  },
  {
   "cell_type": "code",
   "execution_count": 9,
   "metadata": {},
   "outputs": [],
   "source": [
    "adata = sc.read(data_path + 'interferon.raw.h5ad')\n",
    "adata = adata[:, adata.var.index.map(lambda x: x[:2] != 'HB')]"
   ]
  },
  {
   "cell_type": "code",
   "execution_count": 10,
   "metadata": {},
   "outputs": [
    {
     "data": {
      "text/plain": [
       "CD4 T cells          10373\n",
       "CD14+ Monocytes      5355 \n",
       "B cells              2570 \n",
       "CD8 T cells          2039 \n",
       "NK cells             1991 \n",
       "FCGR3A+ Monocytes    1592 \n",
       "Dendritic cells      432  \n",
       "Megakaryocytes       208  \n",
       "Name: cell, dtype: int64"
      ]
     },
     "execution_count": 10,
     "metadata": {},
     "output_type": "execute_result"
    }
   ],
   "source": [
    "adata.obs.cell.value_counts()"
   ]
  },
  {
   "cell_type": "code",
   "execution_count": 11,
   "metadata": {},
   "outputs": [
    {
     "name": "stderr",
     "output_type": "stream",
     "text": [
      "Trying to set attribute `.obs` of view, making a copy.\n"
     ]
    }
   ],
   "source": [
    "adata.obs['cell_type'] = (adata.obs['cell'].astype(str) + ' - ' + adata.obs['stim'].astype(str)).astype('category')"
   ]
  },
  {
   "cell_type": "code",
   "execution_count": 12,
   "metadata": {},
   "outputs": [],
   "source": [
    "sc.pl.tsne(adata, color='cell_type')"
   ]
  },
  {
   "cell_type": "code",
   "execution_count": 13,
   "metadata": {},
   "outputs": [],
   "source": [
    "# plt.figure(figsize=(5, 3))\n",
    "# sns.boxplot(x='n_counts', y='cell_type', data=adata.obs)\n",
    "# plt.title('Total UMI counts by cell type')\n",
    "# plt.savefig('celltype_numi.pdf')\n",
    "# plt.savefig('celltype_numi.png')"
   ]
  },
  {
   "cell_type": "code",
   "execution_count": 14,
   "metadata": {},
   "outputs": [
    {
     "name": "stdout",
     "output_type": "stream",
     "text": [
      "Number of genes kept: 1880\n"
     ]
    }
   ],
   "source": [
    "print('Number of genes kept:', adata.shape[1])"
   ]
  },
  {
   "cell_type": "code",
   "execution_count": 15,
   "metadata": {},
   "outputs": [],
   "source": [
    "def density_scatterplot(a,b, s=1, cmap='Reds', kde=None):\n",
    "    # Calculate the point density\n",
    "    condition = np.isfinite(a) & np.isfinite(b)\n",
    "    x = a[condition]\n",
    "    y = b[condition]\n",
    "    xy = np.vstack([x,y])\n",
    "    z = stats.gaussian_kde(xy, bw_method=kde)(xy)\n",
    "    print(z)\n",
    "    plt.scatter(x, y, c=z, s=s, edgecolor='', cmap=cmap)\n",
    "    \n",
    "\n",
    "def robust_correlation(a, b):\n",
    "    \n",
    "    condition = (np.isfinite(a) & np.isfinite(b))\n",
    "    x = a[condition]\n",
    "    y = b[condition]\n",
    "    \n",
    "    return stats.spearmanr(x,y)\n",
    "\n",
    "def robust_linregress(a, b):\n",
    "    \n",
    "    condition = (np.isfinite(a) & np.isfinite(b))\n",
    "    x = a[condition]\n",
    "    y = b[condition]\n",
    "    \n",
    "    print(x.min())\n",
    "    \n",
    "    return stats.linregress(x,y)\n",
    "\n",
    "def robust_hist(x, **kwargs):\n",
    "    \n",
    "    condition = np.isfinite(x)\n",
    "    plt.hist(x[condition], **kwargs)"
   ]
  },
  {
   "cell_type": "markdown",
   "metadata": {},
   "source": [
    "### Select immune genes using GO annotations"
   ]
  },
  {
   "cell_type": "code",
   "execution_count": 16,
   "metadata": {},
   "outputs": [],
   "source": [
    "go_annotations = pd.read_csv(data_path + '../GO_annotations-9606-inferred-allev.tsv', sep='\\t')\n",
    "go_annotations['gene'] = go_annotations['gene_symbols'].apply(lambda x: x.split('|'))\n",
    "go_annotations = go_annotations\\\n",
    "    .query('go_domain == \"biological_process\"')\\\n",
    "    .explode('gene')[['go_name', 'gene']]"
   ]
  },
  {
   "cell_type": "code",
   "execution_count": 10,
   "metadata": {},
   "outputs": [],
   "source": [
    "immune_genes = go_annotations[go_annotations.go_name.str.contains('immune')].gene.drop_duplicates().tolist()"
   ]
  },
  {
   "cell_type": "code",
   "execution_count": 11,
   "metadata": {},
   "outputs": [
    {
     "ename": "NameError",
     "evalue": "name 'adata' is not defined",
     "output_type": "error",
     "traceback": [
      "\u001b[0;31m-----------------------------------------------\u001b[0m",
      "\u001b[0;31mNameError\u001b[0m     Traceback (most recent call last)",
      "\u001b[0;32m<ipython-input-11-d3cf37f499d1>\u001b[0m in \u001b[0;36m<module>\u001b[0;34m\u001b[0m\n\u001b[0;32m----> 1\u001b[0;31m \u001b[0mgenes_of_interest\u001b[0m \u001b[0;34m=\u001b[0m \u001b[0mlist\u001b[0m\u001b[0;34m(\u001b[0m\u001b[0mset\u001b[0m\u001b[0;34m(\u001b[0m\u001b[0madata\u001b[0m\u001b[0;34m.\u001b[0m\u001b[0mvar\u001b[0m\u001b[0;34m.\u001b[0m\u001b[0mindex\u001b[0m\u001b[0;34m)\u001b[0m \u001b[0;34m&\u001b[0m \u001b[0mset\u001b[0m\u001b[0;34m(\u001b[0m\u001b[0mimmune_genes\u001b[0m\u001b[0;34m)\u001b[0m\u001b[0;34m)\u001b[0m\u001b[0;34m\u001b[0m\u001b[0;34m\u001b[0m\u001b[0m\n\u001b[0m",
      "\u001b[0;31mNameError\u001b[0m: name 'adata' is not defined"
     ]
    }
   ],
   "source": [
    "genes_of_interest = list(set(adata.var.index) & set(immune_genes))"
   ]
  },
  {
   "cell_type": "code",
   "execution_count": null,
   "metadata": {},
   "outputs": [],
   "source": [
    "with open(data_path + 'immune_genes.pkl', 'wb') as f:\n",
    "    pkl.dump(genes_of_interest, f)"
   ]
  },
  {
   "cell_type": "markdown",
   "metadata": {},
   "source": [
    "### Observed $\\mu$-$CV^{2}$ Relationship"
   ]
  },
  {
   "cell_type": "code",
   "execution_count": null,
   "metadata": {},
   "outputs": [],
   "source": [
    "imp.reload(scme)\n",
    "estimator = scme.SingleCellEstimator(\n",
    "    adata=adata, \n",
    "    group_label='cell_type',\n",
    "    n_umis_column='n_counts',\n",
    "    num_permute=10000,\n",
    "    beta=0.1)"
   ]
  },
  {
   "cell_type": "code",
   "execution_count": 151,
   "metadata": {},
   "outputs": [
    {
     "name": "stdout",
     "output_type": "stream",
     "text": [
      "Computing observed moments for: CD4 T cells - ctrl\n",
      "Computing observed moments for: CD4 T cells - stim\n"
     ]
    }
   ],
   "source": [
    "estimator.estimate_beta_sq(tolerance=3)"
   ]
  },
  {
   "cell_type": "code",
   "execution_count": 152,
   "metadata": {},
   "outputs": [],
   "source": [
    "estimator.estimate_parameters()"
   ]
  },
  {
   "cell_type": "code",
   "execution_count": 25,
   "metadata": {},
   "outputs": [
    {
     "data": {
      "text/plain": [
       "0.2049755522580501"
      ]
     },
     "execution_count": 25,
     "metadata": {},
     "output_type": "execute_result"
    }
   ],
   "source": [
    "estimator.noise_level"
   ]
  },
  {
   "cell_type": "code",
   "execution_count": 30,
   "metadata": {},
   "outputs": [
    {
     "data": {
      "image/png": "[encoded data removed]",
      "text/plain": [
       "<Figure size 396x360 with 1 Axes>"
      ]
     },
     "metadata": {
      "needs_background": "light"
     },
     "output_type": "display_data"
    }
   ],
   "source": [
    "estimator.plot_cv_mean_curve()"
   ]
  },
  {
   "cell_type": "markdown",
   "metadata": {},
   "source": [
    "### Residual variance"
   ]
  },
  {
   "cell_type": "code",
   "execution_count": 48,
   "metadata": {},
   "outputs": [],
   "source": [
    "estimator.estimate_parameters()"
   ]
  },
  {
   "cell_type": "code",
   "execution_count": 49,
   "metadata": {},
   "outputs": [],
   "source": [
    "est_mean = np.concatenate([estimator.estimated_central_moments[ct]['first'] for ct in estimator.groups])\n",
    "est_var = np.concatenate([estimator.estimated_central_moments[ct]['second'] for ct in estimator.groups])\n",
    "est_disp = est_var/est_mean\n",
    "est_cv = est_var/est_mean**2"
   ]
  },
  {
   "cell_type": "code",
   "execution_count": 52,
   "metadata": {},
   "outputs": [
    {
     "name": "stdout",
     "output_type": "stream",
     "text": [
      "[0.02428444 0.00740224 0.00643607 ... 0.17376027 0.06297896 0.03336932]\n"
     ]
    },
    {
     "data": {
      "text/plain": [
       "Text(0,0.5,'log( estimated true variance )')"
      ]
     },
     "execution_count": 52,
     "metadata": {},
     "output_type": "execute_result"
    },
    {
     "data": {
      "image/png": "[encoded data removed]",
      "text/plain": [
       "<Figure size 432x216 with 1 Axes>"
      ]
     },
     "metadata": {},
     "output_type": "display_data"
    }
   ],
   "source": [
    "plt.figure(figsize=(6, 3))\n",
    "density_scatterplot(\n",
    "    np.log(est_mean),\n",
    "    np.log(est_var),\n",
    "    s=1, \n",
    "    cmap='coolwarm')\n",
    "x_fit = np.arange(-5, 5, 0.01)\n",
    "y_fit = x_fit*estimator.mean_var_slope\n",
    "plt.plot(x_fit, y_fit, color='k', lw=2)\n",
    "plt.ylim(-7,)\n",
    "plt.title('Estimated Mean - Variance Relationship');\n",
    "plt.xlabel('log( estimated true mean )')\n",
    "plt.ylabel('log( estimated true variance )')"
   ]
  },
  {
   "cell_type": "code",
   "execution_count": 56,
   "metadata": {},
   "outputs": [
    {
     "name": "stdout",
     "output_type": "stream",
     "text": [
      "[0.02428444 0.00740224 0.00643607 ... 0.17376027 0.06297896 0.03336932]\n"
     ]
    },
    {
     "data": {
      "text/plain": [
       "Text(0,0.5,'log( residual variance )')"
      ]
     },
     "execution_count": 56,
     "metadata": {},
     "output_type": "execute_result"
    },
    {
     "data": {
      "image/png": "[encoded data removed]",
      "text/plain": [
       "<Figure size 432x144 with 1 Axes>"
      ]
     },
     "metadata": {},
     "output_type": "display_data"
    }
   ],
   "source": [
    "plt.figure(figsize=(6, 2))\n",
    "density_scatterplot(\n",
    "    np.log(est_mean),\n",
    "    np.log(est_var) - estimator.mean_var_slope*np.log(est_mean),\n",
    "    s=1, \n",
    "    cmap='coolwarm')\n",
    "plt.plot([-5, 5], np.array([0, 0]), color='k', lw=2)\n",
    "plt.ylim(-5,12)\n",
    "plt.title('Estimated Mean - Residual Variance Relationship');\n",
    "plt.xlabel('log( estimated true mean )')\n",
    "plt.ylabel('log( residual variance )')"
   ]
  },
  {
   "cell_type": "markdown",
   "metadata": {},
   "source": [
    "### CD4 T cell analysis"
   ]
  },
  {
   "cell_type": "code",
   "execution_count": 150,
   "metadata": {},
   "outputs": [],
   "source": [
    "imp.reload(scme)\n",
    "estimator = scme.SingleCellEstimator(\n",
    "    adata=adata[adata.obs['cell'] == 'CD4 T cells', :].copy(), \n",
    "    group_label='cell_type',\n",
    "    n_umis_column='n_counts',\n",
    "    num_permute=10000,\n",
    "    beta=0.1)"
   ]
  },
  {
   "cell_type": "code",
   "execution_count": 151,
   "metadata": {},
   "outputs": [
    {
     "name": "stdout",
     "output_type": "stream",
     "text": [
      "Computing observed moments for: CD4 T cells - ctrl\n",
      "Computing observed moments for: CD4 T cells - stim\n"
     ]
    }
   ],
   "source": [
    "estimator.estimate_beta_sq(tolerance=3)"
   ]
  },
  {
   "cell_type": "code",
   "execution_count": 152,
   "metadata": {},
   "outputs": [],
   "source": [
    "estimator.estimate_parameters()"
   ]
  },
  {
   "cell_type": "code",
   "execution_count": 153,
   "metadata": {},
   "outputs": [],
   "source": [
    "ct = 'CD4 T cells'"
   ]
  },
  {
   "cell_type": "code",
   "execution_count": 155,
   "metadata": {},
   "outputs": [
    {
     "name": "stdout",
     "output_type": "stream",
     "text": [
      "Gamma RVs generated..\n",
      "CPU times: user 1min 50s, sys: 450 ms, total: 1min 50s\n",
      "Wall time: 1min 50s\n"
     ]
    }
   ],
   "source": [
    "%%time\n",
    "imp.reload(scme)\n",
    "estimator.compute_confidence_intervals_1d(\n",
    "    groups=[ct + ' - ctrl', ct + ' - stim'],\n",
    "    groups_to_compare=[(ct + ' - ctrl', ct + ' - stim')])"
   ]
  },
  {
   "cell_type": "code",
   "execution_count": null,
   "metadata": {},
   "outputs": [],
   "source": [
    "imp.reload(utils)\n",
    "upregulated_genes = utils.get_differential_genes(\n",
    "    adata.var.index.tolist(), \n",
    "    estimator.hypothesis_test_result_1d,\n",
    "    ct + ' - ctrl',\n",
    "    ct + ' - stim',\n",
    "    which='mean',\n",
    "    direction='increase',\n",
    "    sig=0.1, \n",
    "    num_genes=1000)"
   ]
  },
  {
   "cell_type": "code",
   "execution_count": 375,
   "metadata": {},
   "outputs": [],
   "source": [
    "inc_var_genes = utils.get_differential_genes(\n",
    "    adata.var.index.tolist(), \n",
    "    estimator.hypothesis_test_result_1d,\n",
    "    ct + ' - ctrl',\n",
    "    ct + ' - stim',\n",
    "    which='variance',\n",
    "    direction='increase',\n",
    "    sig=0.15, \n",
    "    num_genes=1000)\n",
    "dec_var_genes = utils.get_differential_genes(\n",
    "    adata.var.index.tolist(), \n",
    "    estimator.hypothesis_test_result_1d,\n",
    "    ct + ' - ctrl',\n",
    "    ct + ' - stim',\n",
    "    which='variance',\n",
    "    direction='decrease',\n",
    "    sig=0.15, \n",
    "    num_genes=1000)"
   ]
  },
  {
   "cell_type": "code",
   "execution_count": 397,
   "metadata": {},
   "outputs": [],
   "source": [
    "up_inc_var = upregulated_genes\\\n",
    "    .merge(inc_var_genes, on='gene', how='inner', suffixes=('_de', '_dv'))\n",
    "up_dec_var = upregulated_genes\\\n",
    "    .merge(dec_var_genes, on='gene', how='inner', suffixes=('_de', '_dv'))"
   ]
  },
  {
   "cell_type": "code",
   "execution_count": 398,
   "metadata": {},
   "outputs": [
    {
     "data": {
      "text/html": [
       "<div>\n",
       "<style scoped>\n",
       "    .dataframe tbody tr th:only-of-type {\n",
       "        vertical-align: middle;\n",
       "    }\n",
       "\n",
       "    .dataframe tbody tr th {\n",
       "        vertical-align: top;\n",
       "    }\n",
       "\n",
       "    .dataframe thead th {\n",
       "        text-align: right;\n",
       "    }\n",
       "</style>\n",
       "<table border=\"1\" class=\"dataframe\">\n",
       "  <thead>\n",
       "    <tr style=\"text-align: right;\">\n",
       "      <th></th>\n",
       "      <th>pval_de</th>\n",
       "      <th>fdr_de</th>\n",
       "      <th>effect_size_de</th>\n",
       "      <th>gene</th>\n",
       "      <th>rank_de</th>\n",
       "      <th>pval_dv</th>\n",
       "      <th>fdr_dv</th>\n",
       "      <th>effect_size_dv</th>\n",
       "      <th>rank_dv</th>\n",
       "    </tr>\n",
       "  </thead>\n",
       "  <tbody>\n",
       "    <tr>\n",
       "      <th>0</th>\n",
       "      <td>1.623588e-07</td>\n",
       "      <td>0.000008</td>\n",
       "      <td>0.492016</td>\n",
       "      <td>CCR7</td>\n",
       "      <td>23</td>\n",
       "      <td>3.799620e-03</td>\n",
       "      <td>0.120879</td>\n",
       "      <td>0.511030</td>\n",
       "      <td>29</td>\n",
       "    </tr>\n",
       "    <tr>\n",
       "      <th>1</th>\n",
       "      <td>1.878842e-07</td>\n",
       "      <td>0.000008</td>\n",
       "      <td>3.092909</td>\n",
       "      <td>TNFSF10</td>\n",
       "      <td>26</td>\n",
       "      <td>4.091971e-05</td>\n",
       "      <td>0.004042</td>\n",
       "      <td>1.119020</td>\n",
       "      <td>13</td>\n",
       "    </tr>\n",
       "    <tr>\n",
       "      <th>2</th>\n",
       "      <td>6.993094e-07</td>\n",
       "      <td>0.000015</td>\n",
       "      <td>0.381371</td>\n",
       "      <td>SRM</td>\n",
       "      <td>50</td>\n",
       "      <td>3.799620e-03</td>\n",
       "      <td>0.120879</td>\n",
       "      <td>0.703132</td>\n",
       "      <td>28</td>\n",
       "    </tr>\n",
       "    <tr>\n",
       "      <th>3</th>\n",
       "      <td>7.704338e-07</td>\n",
       "      <td>0.000016</td>\n",
       "      <td>0.990211</td>\n",
       "      <td>IRF1</td>\n",
       "      <td>51</td>\n",
       "      <td>5.599440e-03</td>\n",
       "      <td>0.143975</td>\n",
       "      <td>0.630926</td>\n",
       "      <td>37</td>\n",
       "    </tr>\n",
       "    <tr>\n",
       "      <th>4</th>\n",
       "      <td>9.914582e-07</td>\n",
       "      <td>0.000018</td>\n",
       "      <td>1.552170</td>\n",
       "      <td>PRF1</td>\n",
       "      <td>56</td>\n",
       "      <td>2.037870e-05</td>\n",
       "      <td>0.002493</td>\n",
       "      <td>0.990799</td>\n",
       "      <td>10</td>\n",
       "    </tr>\n",
       "    <tr>\n",
       "      <th>5</th>\n",
       "      <td>1.112283e-06</td>\n",
       "      <td>0.000019</td>\n",
       "      <td>3.192419</td>\n",
       "      <td>IFI27</td>\n",
       "      <td>61</td>\n",
       "      <td>3.723356e-07</td>\n",
       "      <td>0.000116</td>\n",
       "      <td>1.332213</td>\n",
       "      <td>4</td>\n",
       "    </tr>\n",
       "    <tr>\n",
       "      <th>6</th>\n",
       "      <td>1.155896e-06</td>\n",
       "      <td>0.000019</td>\n",
       "      <td>3.102690</td>\n",
       "      <td>IFITM3</td>\n",
       "      <td>62</td>\n",
       "      <td>2.541243e-07</td>\n",
       "      <td>0.000108</td>\n",
       "      <td>0.929113</td>\n",
       "      <td>2</td>\n",
       "    </tr>\n",
       "    <tr>\n",
       "      <th>7</th>\n",
       "      <td>1.281356e-06</td>\n",
       "      <td>0.000019</td>\n",
       "      <td>0.483148</td>\n",
       "      <td>ZC3HAV1</td>\n",
       "      <td>65</td>\n",
       "      <td>7.999200e-04</td>\n",
       "      <td>0.041707</td>\n",
       "      <td>0.844556</td>\n",
       "      <td>19</td>\n",
       "    </tr>\n",
       "    <tr>\n",
       "      <th>8</th>\n",
       "      <td>2.082402e-06</td>\n",
       "      <td>0.000024</td>\n",
       "      <td>0.168159</td>\n",
       "      <td>HSPA5</td>\n",
       "      <td>87</td>\n",
       "      <td>2.997340e-05</td>\n",
       "      <td>0.003309</td>\n",
       "      <td>1.184036</td>\n",
       "      <td>11</td>\n",
       "    </tr>\n",
       "    <tr>\n",
       "      <th>9</th>\n",
       "      <td>7.544188e-06</td>\n",
       "      <td>0.000052</td>\n",
       "      <td>0.577428</td>\n",
       "      <td>FUNDC1</td>\n",
       "      <td>133</td>\n",
       "      <td>5.399460e-03</td>\n",
       "      <td>0.143975</td>\n",
       "      <td>1.749850</td>\n",
       "      <td>36</td>\n",
       "    </tr>\n",
       "    <tr>\n",
       "      <th>10</th>\n",
       "      <td>1.652868e-05</td>\n",
       "      <td>0.000093</td>\n",
       "      <td>1.719509</td>\n",
       "      <td>CCL4</td>\n",
       "      <td>157</td>\n",
       "      <td>5.177654e-05</td>\n",
       "      <td>0.004095</td>\n",
       "      <td>1.194175</td>\n",
       "      <td>16</td>\n",
       "    </tr>\n",
       "    <tr>\n",
       "      <th>11</th>\n",
       "      <td>1.946241e-05</td>\n",
       "      <td>0.000103</td>\n",
       "      <td>0.567016</td>\n",
       "      <td>RPF2</td>\n",
       "      <td>164</td>\n",
       "      <td>2.052949e-04</td>\n",
       "      <td>0.012444</td>\n",
       "      <td>1.156969</td>\n",
       "      <td>17</td>\n",
       "    </tr>\n",
       "    <tr>\n",
       "      <th>12</th>\n",
       "      <td>1.994584e-05</td>\n",
       "      <td>0.000105</td>\n",
       "      <td>1.419019</td>\n",
       "      <td>MAP3K8</td>\n",
       "      <td>167</td>\n",
       "      <td>1.168194e-05</td>\n",
       "      <td>0.002425</td>\n",
       "      <td>1.761920</td>\n",
       "      <td>7</td>\n",
       "    </tr>\n",
       "    <tr>\n",
       "      <th>13</th>\n",
       "      <td>7.999200e-04</td>\n",
       "      <td>0.003171</td>\n",
       "      <td>0.576818</td>\n",
       "      <td>FABP5</td>\n",
       "      <td>226</td>\n",
       "      <td>2.055282e-04</td>\n",
       "      <td>0.012444</td>\n",
       "      <td>1.128778</td>\n",
       "      <td>18</td>\n",
       "    </tr>\n",
       "    <tr>\n",
       "      <th>14</th>\n",
       "      <td>3.219678e-02</td>\n",
       "      <td>0.076002</td>\n",
       "      <td>0.230812</td>\n",
       "      <td>KDM5A</td>\n",
       "      <td>337</td>\n",
       "      <td>2.799720e-03</td>\n",
       "      <td>0.103041</td>\n",
       "      <td>1.295394</td>\n",
       "      <td>26</td>\n",
       "    </tr>\n",
       "  </tbody>\n",
       "</table>\n",
       "</div>"
      ],
      "text/plain": [
       "         pval_de    fdr_de  effect_size_de     gene  rank_de       pval_dv  \\\n",
       "0   1.623588e-07  0.000008  0.492016        CCR7     23       3.799620e-03   \n",
       "1   1.878842e-07  0.000008  3.092909        TNFSF10  26       4.091971e-05   \n",
       "2   6.993094e-07  0.000015  0.381371        SRM      50       3.799620e-03   \n",
       "3   7.704338e-07  0.000016  0.990211        IRF1     51       5.599440e-03   \n",
       "4   9.914582e-07  0.000018  1.552170        PRF1     56       2.037870e-05   \n",
       "5   1.112283e-06  0.000019  3.192419        IFI27    61       3.723356e-07   \n",
       "6   1.155896e-06  0.000019  3.102690        IFITM3   62       2.541243e-07   \n",
       "7   1.281356e-06  0.000019  0.483148        ZC3HAV1  65       7.999200e-04   \n",
       "8   2.082402e-06  0.000024  0.168159        HSPA5    87       2.997340e-05   \n",
       "9   7.544188e-06  0.000052  0.577428        FUNDC1   133      5.399460e-03   \n",
       "10  1.652868e-05  0.000093  1.719509        CCL4     157      5.177654e-05   \n",
       "11  1.946241e-05  0.000103  0.567016        RPF2     164      2.052949e-04   \n",
       "12  1.994584e-05  0.000105  1.419019        MAP3K8   167      1.168194e-05   \n",
       "13  7.999200e-04  0.003171  0.576818        FABP5    226      2.055282e-04   \n",
       "14  3.219678e-02  0.076002  0.230812        KDM5A    337      2.799720e-03   \n",
       "\n",
       "      fdr_dv  effect_size_dv  rank_dv  \n",
       "0   0.120879  0.511030        29       \n",
       "1   0.004042  1.119020        13       \n",
       "2   0.120879  0.703132        28       \n",
       "3   0.143975  0.630926        37       \n",
       "4   0.002493  0.990799        10       \n",
       "5   0.000116  1.332213        4        \n",
       "6   0.000108  0.929113        2        \n",
       "7   0.041707  0.844556        19       \n",
       "8   0.003309  1.184036        11       \n",
       "9   0.143975  1.749850        36       \n",
       "10  0.004095  1.194175        16       \n",
       "11  0.012444  1.156969        17       \n",
       "12  0.002425  1.761920        7        \n",
       "13  0.012444  1.128778        18       \n",
       "14  0.103041  1.295394        26       "
      ]
     },
     "execution_count": 398,
     "metadata": {},
     "output_type": "execute_result"
    }
   ],
   "source": [
    "up_inc_var"
   ]
  },
  {
   "cell_type": "code",
   "execution_count": 399,
   "metadata": {},
   "outputs": [
    {
     "data": {
      "text/html": [
       "<div>\n",
       "<style scoped>\n",
       "    .dataframe tbody tr th:only-of-type {\n",
       "        vertical-align: middle;\n",
       "    }\n",
       "\n",
       "    .dataframe tbody tr th {\n",
       "        vertical-align: top;\n",
       "    }\n",
       "\n",
       "    .dataframe thead th {\n",
       "        text-align: right;\n",
       "    }\n",
       "</style>\n",
       "<table border=\"1\" class=\"dataframe\">\n",
       "  <thead>\n",
       "    <tr style=\"text-align: right;\">\n",
       "      <th></th>\n",
       "      <th>pval_de</th>\n",
       "      <th>fdr_de</th>\n",
       "      <th>effect_size_de</th>\n",
       "      <th>gene</th>\n",
       "      <th>rank_de</th>\n",
       "      <th>pval_dv</th>\n",
       "      <th>fdr_dv</th>\n",
       "      <th>effect_size_dv</th>\n",
       "      <th>rank_dv</th>\n",
       "    </tr>\n",
       "  </thead>\n",
       "  <tbody>\n",
       "    <tr>\n",
       "      <th>0</th>\n",
       "      <td>1.233110e-08</td>\n",
       "      <td>0.000003</td>\n",
       "      <td>0.767666</td>\n",
       "      <td>GIMAP4</td>\n",
       "      <td>6</td>\n",
       "      <td>1.291838e-05</td>\n",
       "      <td>0.002425</td>\n",
       "      <td>0.839443</td>\n",
       "      <td>3</td>\n",
       "    </tr>\n",
       "    <tr>\n",
       "      <th>1</th>\n",
       "      <td>5.148650e-08</td>\n",
       "      <td>0.000006</td>\n",
       "      <td>2.632958</td>\n",
       "      <td>IFI44</td>\n",
       "      <td>13</td>\n",
       "      <td>1.461069e-04</td>\n",
       "      <td>0.010157</td>\n",
       "      <td>1.550909</td>\n",
       "      <td>11</td>\n",
       "    </tr>\n",
       "    <tr>\n",
       "      <th>2</th>\n",
       "      <td>1.644337e-07</td>\n",
       "      <td>0.000008</td>\n",
       "      <td>0.140271</td>\n",
       "      <td>TRAT1</td>\n",
       "      <td>25</td>\n",
       "      <td>9.999000e-04</td>\n",
       "      <td>0.049390</td>\n",
       "      <td>0.881253</td>\n",
       "      <td>19</td>\n",
       "    </tr>\n",
       "    <tr>\n",
       "      <th>3</th>\n",
       "      <td>3.258228e-07</td>\n",
       "      <td>0.000010</td>\n",
       "      <td>3.307848</td>\n",
       "      <td>IFI44L</td>\n",
       "      <td>30</td>\n",
       "      <td>1.549690e-05</td>\n",
       "      <td>0.002489</td>\n",
       "      <td>1.865907</td>\n",
       "      <td>4</td>\n",
       "    </tr>\n",
       "    <tr>\n",
       "      <th>4</th>\n",
       "      <td>6.082355e-07</td>\n",
       "      <td>0.000014</td>\n",
       "      <td>0.763173</td>\n",
       "      <td>SELL</td>\n",
       "      <td>43</td>\n",
       "      <td>7.999200e-04</td>\n",
       "      <td>0.041707</td>\n",
       "      <td>0.560770</td>\n",
       "      <td>17</td>\n",
       "    </tr>\n",
       "    <tr>\n",
       "      <th>5</th>\n",
       "      <td>2.087332e-06</td>\n",
       "      <td>0.000024</td>\n",
       "      <td>0.262437</td>\n",
       "      <td>CYCS</td>\n",
       "      <td>86</td>\n",
       "      <td>9.999000e-04</td>\n",
       "      <td>0.049390</td>\n",
       "      <td>1.037301</td>\n",
       "      <td>18</td>\n",
       "    </tr>\n",
       "    <tr>\n",
       "      <th>6</th>\n",
       "      <td>2.901903e-06</td>\n",
       "      <td>0.000029</td>\n",
       "      <td>0.868869</td>\n",
       "      <td>ARHGAP25</td>\n",
       "      <td>95</td>\n",
       "      <td>1.599840e-03</td>\n",
       "      <td>0.066731</td>\n",
       "      <td>0.928255</td>\n",
       "      <td>22</td>\n",
       "    </tr>\n",
       "    <tr>\n",
       "      <th>7</th>\n",
       "      <td>3.389279e-06</td>\n",
       "      <td>0.000032</td>\n",
       "      <td>1.497907</td>\n",
       "      <td>PARP11</td>\n",
       "      <td>100</td>\n",
       "      <td>1.821716e-05</td>\n",
       "      <td>0.002489</td>\n",
       "      <td>0.950234</td>\n",
       "      <td>5</td>\n",
       "    </tr>\n",
       "    <tr>\n",
       "      <th>8</th>\n",
       "      <td>7.237614e-06</td>\n",
       "      <td>0.000051</td>\n",
       "      <td>4.624475</td>\n",
       "      <td>IFIT1</td>\n",
       "      <td>131</td>\n",
       "      <td>1.999800e-04</td>\n",
       "      <td>0.012444</td>\n",
       "      <td>3.780797</td>\n",
       "      <td>13</td>\n",
       "    </tr>\n",
       "    <tr>\n",
       "      <th>9</th>\n",
       "      <td>1.784071e-05</td>\n",
       "      <td>0.000097</td>\n",
       "      <td>4.607336</td>\n",
       "      <td>IFIT3</td>\n",
       "      <td>160</td>\n",
       "      <td>1.999800e-04</td>\n",
       "      <td>0.012444</td>\n",
       "      <td>4.622662</td>\n",
       "      <td>12</td>\n",
       "    </tr>\n",
       "    <tr>\n",
       "      <th>10</th>\n",
       "      <td>4.525679e-05</td>\n",
       "      <td>0.000217</td>\n",
       "      <td>2.379637</td>\n",
       "      <td>OASL</td>\n",
       "      <td>191</td>\n",
       "      <td>2.125117e-05</td>\n",
       "      <td>0.002493</td>\n",
       "      <td>1.907887</td>\n",
       "      <td>6</td>\n",
       "    </tr>\n",
       "    <tr>\n",
       "      <th>11</th>\n",
       "      <td>4.862425e-05</td>\n",
       "      <td>0.000231</td>\n",
       "      <td>2.472374</td>\n",
       "      <td>LGALS2</td>\n",
       "      <td>193</td>\n",
       "      <td>1.211364e-07</td>\n",
       "      <td>0.000084</td>\n",
       "      <td>0.439605</td>\n",
       "      <td>2</td>\n",
       "    </tr>\n",
       "    <tr>\n",
       "      <th>12</th>\n",
       "      <td>9.589775e-05</td>\n",
       "      <td>0.000438</td>\n",
       "      <td>0.255257</td>\n",
       "      <td>PPP2R5C</td>\n",
       "      <td>204</td>\n",
       "      <td>4.199580e-03</td>\n",
       "      <td>0.125121</td>\n",
       "      <td>0.705906</td>\n",
       "      <td>32</td>\n",
       "    </tr>\n",
       "    <tr>\n",
       "      <th>13</th>\n",
       "      <td>9.999000e-03</td>\n",
       "      <td>0.028295</td>\n",
       "      <td>0.299842</td>\n",
       "      <td>SLC38A2</td>\n",
       "      <td>288</td>\n",
       "      <td>1.127751e-04</td>\n",
       "      <td>0.008141</td>\n",
       "      <td>1.051292</td>\n",
       "      <td>10</td>\n",
       "    </tr>\n",
       "    <tr>\n",
       "      <th>14</th>\n",
       "      <td>2.519748e-02</td>\n",
       "      <td>0.062134</td>\n",
       "      <td>0.285043</td>\n",
       "      <td>C2orf47</td>\n",
       "      <td>325</td>\n",
       "      <td>1.399860e-03</td>\n",
       "      <td>0.059717</td>\n",
       "      <td>1.749025</td>\n",
       "      <td>20</td>\n",
       "    </tr>\n",
       "  </tbody>\n",
       "</table>\n",
       "</div>"
      ],
      "text/plain": [
       "         pval_de    fdr_de  effect_size_de      gene  rank_de       pval_dv  \\\n",
       "0   1.233110e-08  0.000003  0.767666        GIMAP4    6        1.291838e-05   \n",
       "1   5.148650e-08  0.000006  2.632958        IFI44     13       1.461069e-04   \n",
       "2   1.644337e-07  0.000008  0.140271        TRAT1     25       9.999000e-04   \n",
       "3   3.258228e-07  0.000010  3.307848        IFI44L    30       1.549690e-05   \n",
       "4   6.082355e-07  0.000014  0.763173        SELL      43       7.999200e-04   \n",
       "5   2.087332e-06  0.000024  0.262437        CYCS      86       9.999000e-04   \n",
       "6   2.901903e-06  0.000029  0.868869        ARHGAP25  95       1.599840e-03   \n",
       "7   3.389279e-06  0.000032  1.497907        PARP11    100      1.821716e-05   \n",
       "8   7.237614e-06  0.000051  4.624475        IFIT1     131      1.999800e-04   \n",
       "9   1.784071e-05  0.000097  4.607336        IFIT3     160      1.999800e-04   \n",
       "10  4.525679e-05  0.000217  2.379637        OASL      191      2.125117e-05   \n",
       "11  4.862425e-05  0.000231  2.472374        LGALS2    193      1.211364e-07   \n",
       "12  9.589775e-05  0.000438  0.255257        PPP2R5C   204      4.199580e-03   \n",
       "13  9.999000e-03  0.028295  0.299842        SLC38A2   288      1.127751e-04   \n",
       "14  2.519748e-02  0.062134  0.285043        C2orf47   325      1.399860e-03   \n",
       "\n",
       "      fdr_dv  effect_size_dv  rank_dv  \n",
       "0   0.002425  0.839443        3        \n",
       "1   0.010157  1.550909        11       \n",
       "2   0.049390  0.881253        19       \n",
       "3   0.002489  1.865907        4        \n",
       "4   0.041707  0.560770        17       \n",
       "5   0.049390  1.037301        18       \n",
       "6   0.066731  0.928255        22       \n",
       "7   0.002489  0.950234        5        \n",
       "8   0.012444  3.780797        13       \n",
       "9   0.012444  4.622662        12       \n",
       "10  0.002493  1.907887        6        \n",
       "11  0.000084  0.439605        2        \n",
       "12  0.125121  0.705906        32       \n",
       "13  0.008141  1.051292        10       \n",
       "14  0.059717  1.749025        20       "
      ]
     },
     "execution_count": 399,
     "metadata": {},
     "output_type": "execute_result"
    }
   ],
   "source": [
    "up_dec_var"
   ]
  },
  {
   "cell_type": "markdown",
   "metadata": {},
   "source": [
    "## Effect of interferon stimulation across cell types"
   ]
  },
  {
   "cell_type": "markdown",
   "metadata": {},
   "source": [
    "### Read 1D Hypothesis test results and confidence intervals"
   ]
  },
  {
   "cell_type": "markdown",
   "metadata": {},
   "source": [
    "### Expression changes across CT for a gene"
   ]
  },
  {
   "cell_type": "code",
   "execution_count": 602,
   "metadata": {},
   "outputs": [],
   "source": [
    "with open(data_path + 'stim_effect_1d_params.pkl', 'rb') as f:\n",
    "    parameter_dict = pkl.load(f)"
   ]
  },
  {
   "cell_type": "code",
   "execution_count": 603,
   "metadata": {},
   "outputs": [],
   "source": [
    "with open(data_path + 'stim_effect_ci_1d.pkl', 'rb') as f:\n",
    "    ci_dict = pkl.load(f)"
   ]
  },
  {
   "cell_type": "code",
   "execution_count": 425,
   "metadata": {},
   "outputs": [
    {
     "data": {
      "text/plain": [
       "{'mean': array([0.11641452, 0.448196  , 0.8653453 , ..., 0.56849104, 0.2658132 ,\n",
       "        0.40745094], dtype=float32),\n",
       " 'log_mean': array([-2.150598  , -0.8025247 , -0.14462666, ..., -0.56476974,\n",
       "        -1.3249614 , -0.8978347 ], dtype=float32),\n",
       " 'residual_var': array([3.75603655, 2.0069145 , 2.94908531, ..., 2.53497887, 1.12987436,\n",
       "        1.90244249]),\n",
       " 'log_residual_var': array([1.32336429, 0.69659847, 1.08149506, ..., 0.9301853 , 0.12210644,\n",
       "        0.64313858])}"
      ]
     },
     "execution_count": 425,
     "metadata": {},
     "output_type": "execute_result"
    }
   ],
   "source": [
    "parameter_dict['CD4 T cells' + ' - ctrl']"
   ]
  },
  {
   "cell_type": "code",
   "execution_count": 426,
   "metadata": {},
   "outputs": [],
   "source": [
    "def plot_exp_changes_across_ct(gene, parameter_dict, ci_dict, barwidth=0.3):\n",
    "    \n",
    "    plt.figure(figsize=(11, 6))\n",
    "    \n",
    "    plt.subplots_adjust(hspace=0.1)\n",
    "    \n",
    "    groups = adata.obs['cell'].drop_duplicates()\n",
    "    \n",
    "    labels = adata.obs['cell'].drop_duplicates()\n",
    "    labels = [label.replace(' ', '\\n') for label in labels]\n",
    "    labels[-2] = 'Megaka\\nryocytes'\n",
    "    \n",
    "    gene_idx = np.where(adata.var.index == gene)[0][0]\n",
    "    \n",
    "    ctrl_means = np.array([parameter_dict[group + ' - ctrl']['mean'][gene_idx] for group in groups])\n",
    "    stim_means = np.array([parameter_dict[group + ' - stim']['mean'][gene_idx] for group in groups])\n",
    "    ctrl_means_ci = np.array([ci_dict[group + ' - ctrl']['log1p_mean'][gene_idx] for group in groups])\n",
    "    stim_means_ci = np.array([ci_dict[group + ' - stim']['log1p_mean'][gene_idx] for group in groups])\n",
    "    \n",
    "    ctrl_vars = np.array([parameter_dict[group + ' - ctrl']['residual_var'][gene_idx] for group in groups])\n",
    "    stim_vars = np.array([parameter_dict[group + ' - stim']['residual_var'][gene_idx] for group in groups])\n",
    "    ctrl_vars_ci = np.array([ci_dict[group + ' - ctrl']['log1p_residual_var'][gene_idx] for group in groups])\n",
    "    stim_vars_ci = np.array([ci_dict[group + ' - stim']['log1p_residual_var'][gene_idx] for group in groups])\n",
    "    \n",
    "    ctrl_loc = np.arange(len(ctrl_means)) - barwidth/2\n",
    "    stim_loc = np.arange(len(ctrl_means)) + barwidth/2\n",
    "    \n",
    "    plt.subplot(2, 1, 1)\n",
    "    plt.title('{} Expression in response to IFN-B'.format(gene))\n",
    "    plt.bar(\n",
    "        ctrl_loc, \n",
    "        np.log(ctrl_means+1), \n",
    "        width=barwidth,\n",
    "        yerr=ctrl_means_ci,\n",
    "        capsize=5\n",
    "    )\n",
    "    plt.bar(\n",
    "        stim_loc, \n",
    "        np.log(stim_means+1), \n",
    "        width=barwidth,\n",
    "        yerr=stim_means_ci,\n",
    "        capsize=5\n",
    "    )\n",
    "    plt.xticks([])\n",
    "    plt.legend(['control', 'IFN-B'])\n",
    "    plt.ylabel('Log(mean+1)')\n",
    "    plt.ylim(0, max(np.log(ctrl_means+1).max(), np.log(stim_means+1).max()) + 1)\n",
    "    \n",
    "    plt.subplot(2, 1, 2)\n",
    "    plt.bar(\n",
    "        ctrl_loc, \n",
    "        np.log(ctrl_vars+1), \n",
    "        width=barwidth,\n",
    "        yerr=ctrl_vars_ci,\n",
    "        capsize=5\n",
    "    )\n",
    "    plt.bar(\n",
    "        stim_loc, \n",
    "        np.log(stim_vars+1), \n",
    "        width=barwidth,\n",
    "        yerr=stim_vars_ci,\n",
    "        capsize=5\n",
    "    )\n",
    "    plt.xticks(np.arange(len(ctrl_means)), labels)\n",
    "    plt.ylim(0, max(np.log(ctrl_vars+1).max(), np.log(stim_vars+1).max()) + 1)\n",
    "    plt.ylabel('Log(res.variance+1)')"
   ]
  },
  {
   "cell_type": "code",
   "execution_count": 442,
   "metadata": {},
   "outputs": [],
   "source": [
    "large_effect_list = upregulated_genes.sort_values('effect_size', ascending=False).gene.tolist()[:40]"
   ]
  },
  {
   "cell_type": "code",
   "execution_count": 445,
   "metadata": {},
   "outputs": [],
   "source": [
    "across_ct_genes = ['TNFSF10', 'IFI44L', 'TRIM22']"
   ]
  },
  {
   "cell_type": "code",
   "execution_count": 72,
   "metadata": {
    "scrolled": false
   },
   "outputs": [
    {
     "ename": "NameError",
     "evalue": "name 'across_ct_genes' is not defined",
     "output_type": "error",
     "traceback": [
      "\u001b[0;31m----------------------------------------------------------\u001b[0m",
      "\u001b[0;31mNameError\u001b[0m                Traceback (most recent call last)",
      "\u001b[0;32m<ipython-input-72-2b900106c097>\u001b[0m in \u001b[0;36m<module>\u001b[0;34m\u001b[0m\n\u001b[0;32m----> 1\u001b[0;31m \u001b[0;32mfor\u001b[0m \u001b[0mgene\u001b[0m \u001b[0;32min\u001b[0m \u001b[0macross_ct_genes\u001b[0m\u001b[0;34m:\u001b[0m\u001b[0;34m\u001b[0m\u001b[0;34m\u001b[0m\u001b[0m\n\u001b[0m\u001b[1;32m      2\u001b[0m     \u001b[0;32mtry\u001b[0m\u001b[0;34m:\u001b[0m\u001b[0;34m\u001b[0m\u001b[0;34m\u001b[0m\u001b[0m\n\u001b[1;32m      3\u001b[0m         \u001b[0mplot_exp_changes_across_ct\u001b[0m\u001b[0;34m(\u001b[0m\u001b[0mgene\u001b[0m\u001b[0;34m,\u001b[0m \u001b[0mparameter_dict\u001b[0m\u001b[0;34m,\u001b[0m \u001b[0mci_dict\u001b[0m\u001b[0;34m)\u001b[0m\u001b[0;34m\u001b[0m\u001b[0;34m\u001b[0m\u001b[0m\n\u001b[1;32m      4\u001b[0m     \u001b[0;32mexcept\u001b[0m\u001b[0;34m:\u001b[0m\u001b[0;34m\u001b[0m\u001b[0;34m\u001b[0m\u001b[0m\n\u001b[1;32m      5\u001b[0m         \u001b[0;32mcontinue\u001b[0m\u001b[0;34m\u001b[0m\u001b[0;34m\u001b[0m\u001b[0m\n",
      "\u001b[0;31mNameError\u001b[0m: name 'across_ct_genes' is not defined"
     ]
    }
   ],
   "source": [
    "for gene in across_ct_genes:\n",
    "    try:\n",
    "        plot_exp_changes_across_ct(gene, parameter_dict, ci_dict)\n",
    "    except:\n",
    "        continue\n",
    "    plt.savefig(data_path + 'figures/{}_across_ct.pdf'.format(gene))\n",
    "    plt.savefig(data_path + 'figures/{}_across_ct.png'.format(gene))"
   ]
  },
  {
   "cell_type": "markdown",
   "metadata": {},
   "source": [
    "### Expression changes across different genes for a CT"
   ]
  },
  {
   "cell_type": "code",
   "execution_count": 452,
   "metadata": {},
   "outputs": [],
   "source": [
    "def plot_exp_across_genes(genes, ct, parameter_dict, ci_dict, barwidth=0.3):\n",
    "\n",
    "    plt.figure(figsize=(len(genes)*1.5, 7))\n",
    "    \n",
    "    genes_idx = [np.where(adata.var.index == gene)[0][0] for gene in genes]\n",
    "    \n",
    "    ctrl_means = np.array([parameter_dict[ct + ' - ctrl']['mean'][gene_idx] for gene_idx in genes_idx])\n",
    "    stim_means = np.array([parameter_dict[ct + ' - stim']['mean'][gene_idx] for gene_idx in genes_idx])\n",
    "    ctrl_means_ci = np.array([ci_dict[ct + ' - ctrl']['log1p_mean'][gene_idx] for gene_idx in genes_idx])\n",
    "    stim_means_ci = np.array([ci_dict[ct + ' - stim']['log1p_mean'][gene_idx] for gene_idx in genes_idx])\n",
    "\n",
    "    ctrl_vars = np.array([parameter_dict[ct + ' - ctrl']['residual_var'][gene_idx] for gene_idx in genes_idx])\n",
    "    stim_vars = np.array([parameter_dict[ct + ' - stim']['residual_var'][gene_idx] for gene_idx in genes_idx])\n",
    "    ctrl_vars_ci = np.array([ci_dict[ct + ' - ctrl']['log1p_residual_var'][gene_idx] for gene_idx in genes_idx])\n",
    "    stim_vars_ci = np.array([ci_dict[ct + ' - stim']['log1p_residual_var'][gene_idx] for gene_idx in genes_idx])\n",
    "    \n",
    "    ctrl_loc = np.arange(len(ctrl_means)) - barwidth/2\n",
    "    stim_loc = np.arange(len(ctrl_means)) + barwidth/2\n",
    "    labels = genes\n",
    "    \n",
    "    plt.subplot(2, 1, 1)\n",
    "    plt.title('Expression changes in {}'.format(ct))\n",
    "    plt.bar(\n",
    "        ctrl_loc, \n",
    "        np.log(ctrl_means+1), \n",
    "        width = barwidth,\n",
    "        yerr=ctrl_means_ci,\n",
    "        capsize=5\n",
    "    )\n",
    "    plt.bar(\n",
    "        stim_loc, \n",
    "        np.log(stim_means+1), \n",
    "        width = barwidth,\n",
    "        yerr=stim_means_ci,\n",
    "        capsize=5\n",
    "    )\n",
    "    plt.ylim(0, max(np.log(ctrl_means+1).max(), np.log(stim_means+1).max()) + 0.5)\n",
    "    plt.xticks([])\n",
    "    plt.legend(['control', 'IFN-B'])\n",
    "    plt.ylabel('Log(mean+1)')\n",
    "    \n",
    "    plt.subplot(2, 1, 2)\n",
    "    plt.bar(\n",
    "        ctrl_loc, \n",
    "        np.log(ctrl_vars+1), \n",
    "        width = barwidth,\n",
    "        yerr=ctrl_vars_ci,\n",
    "        capsize=5\n",
    "    )\n",
    "    plt.bar(\n",
    "        stim_loc, \n",
    "        np.log(stim_vars+1), \n",
    "        width = barwidth,\n",
    "        yerr=stim_vars_ci,\n",
    "        capsize=5\n",
    "    )\n",
    "    plt.ylim(0, max(np.log(ctrl_vars+1).max(), np.log(stim_vars+1).max()) + 1.4)\n",
    "    plt.xticks(np.arange(len(ctrl_means)), labels)\n",
    "    plt.ylabel('Log(res.variance+1)')"
   ]
  },
  {
   "cell_type": "code",
   "execution_count": 463,
   "metadata": {},
   "outputs": [],
   "source": [
    "genes_1 = ['PTCD3', 'CDK12', 'RAB3GAP1', 'FAS', 'SETX']\n",
    "genes_1 = ['HSPA5', 'KDM5A', 'FUNDC1', 'SELL', 'TRAT1']\n",
    "# both sig, only var sig, both sig, both sig, both sig, only var"
   ]
  },
  {
   "cell_type": "code",
   "execution_count": 464,
   "metadata": {},
   "outputs": [],
   "source": [
    "genes_2 = ['IFIT1', 'IFIT2', 'IFIT3', 'IFITM3', 'IFIT5']"
   ]
  },
  {
   "cell_type": "code",
   "execution_count": 465,
   "metadata": {},
   "outputs": [
    {
     "data": {
      "image/png": "[encoded data removed]",
      "text/plain": [
       "<Figure size 540x504 with 2 Axes>"
      ]
     },
     "metadata": {
      "needs_background": "light"
     },
     "output_type": "display_data"
    }
   ],
   "source": [
    "plot_exp_across_genes(genes_2, 'CD4 T cells', parameter_dict, ci_dict, barwidth=0.3)\n"
   ]
  },
  {
   "cell_type": "code",
   "execution_count": 466,
   "metadata": {},
   "outputs": [
    {
     "data": {
      "image/png": "[encoded data removed]",
      "text/plain": [
       "<Figure size 540x504 with 2 Axes>"
      ]
     },
     "metadata": {
      "needs_background": "light"
     },
     "output_type": "display_data"
    }
   ],
   "source": [
    "plot_exp_across_genes(genes_1, 'CD4 T cells', parameter_dict, ci_dict, barwidth=0.3)\n",
    "\n"
   ]
  },
  {
   "cell_type": "markdown",
   "metadata": {},
   "source": [
    "### Pseudotime interferon stimulation analysis"
   ]
  },
  {
   "cell_type": "code",
   "execution_count": 606,
   "metadata": {},
   "outputs": [],
   "source": [
    "with open(data_path + 'stim_effect_1d.pkl', 'rb') as f:\n",
    "    ht_dict = pkl.load(f)"
   ]
  },
  {
   "cell_type": "code",
   "execution_count": 607,
   "metadata": {},
   "outputs": [
    {
     "data": {
      "text/plain": [
       "{('CD14+ Monocytes - ctrl',\n",
       "  'CD14+ Monocytes - stim'): {'de_diff': array([ 4.6774931 , -0.76712608, -0.54991722, ..., -0.76712549,\n",
       "          0.7239545 , -1.26310468]), 'de_pval': array([6.87563548e-07, 6.49935006e-02, 1.67583242e-01, ...,\n",
       "         3.21245600e-05, 2.81323676e-07, 7.51791497e-05]), 'de_fdr': array([1.53801417e-05, 9.21681417e-02, 2.14648201e-01, ...,\n",
       "         9.11813419e-05, 1.22931904e-05, 1.81803890e-04]), 'dv_diff': array([ 0.02467893, -0.7767843 , -0.93092602, ..., -0.21516966,\n",
       "         -0.49144085, -0.2651998 ]), 'dv_pval': array([0.84531547, 0.43675632, 0.19378062, ..., 0.79492051, 0.1259874 ,\n",
       "         0.76072393]), 'dv_fdr': array([0.93946014, 0.70756033, 0.4959515 , ..., 0.91232173, 0.40610372,\n",
       "         0.89554156])},\n",
       " ('CD4 T cells - ctrl',\n",
       "  'CD4 T cells - stim'): {'de_diff': array([ 1.23545694, -0.14174497,  0.19342439, ..., -0.17124599,\n",
       "         -1.04069448,  0.09139717]), 'de_pval': array([4.16709748e-05, 2.45575442e-01, 2.93970603e-02, ...,\n",
       "         9.69903010e-02, 2.21038647e-05, 4.00159984e-01]), 'de_fdr': array([2.06052004e-04, 3.77916672e-01, 7.06356474e-02, ...,\n",
       "         1.83714491e-01, 1.17991937e-04, 5.35541745e-01]), 'dv_diff': array([-9.81168394e-02,  4.06095840e-01,  1.28045398e-01, ...,\n",
       "         -9.42095199e-01,  5.66567317e-04, -1.07679784e+00]), 'dv_pval': array([0.97530247, 0.1469853 , 0.47055294, ..., 0.29757024, 0.97830217,\n",
       "         0.0259974 ]), 'dv_fdr': array([0.99166306, 0.49343891, 0.77831777, ..., 0.64490714, 0.99204519,\n",
       "         0.26262965])},\n",
       " ('Dendritic cells - ctrl',\n",
       "  'Dendritic cells - stim'): {'de_diff': array([ 4.79946423, -0.89822066, -0.8649565 , ..., -0.00718717,\n",
       "         -0.83613622, -0.24567932]), 'de_pval': array([1.53708246e-06, 6.49935006e-02, 4.79952005e-03, ...,\n",
       "         9.72902710e-01, 1.27987201e-02, 4.83351665e-01]), 'de_fdr': array([3.60809742e-04, 2.05757202e-01, 3.51332456e-02, ...,\n",
       "         9.90477268e-01, 7.05453264e-02, 7.07642121e-01]), 'dv_diff': array([ 1.74052231,  0.71110693, -0.27534579, ...,  0.89713209,\n",
       "          0.89031857,  2.09691769]), 'dv_pval': array([8.57354144e-05, 8.03919608e-02, 2.31776822e-01, ...,\n",
       "         2.53974603e-01, 1.05789421e-01, 4.40755924e-01]), 'dv_fdr': array([0.01012756, 0.48030953, 0.68946548, ..., 0.70529117, 0.52646242,\n",
       "         0.82307818])},\n",
       " ('NK cells - ctrl',\n",
       "  'NK cells - stim'): {'de_diff': array([ 1.1816529 , -0.40838146, -0.20375419, ..., -0.22035056,\n",
       "         -0.94378245, -0.06970799]), 'de_pval': array([1.03922739e-03, 1.31277370e-04, 2.13378662e-01, ...,\n",
       "         2.79972003e-01, 3.45989691e-05, 7.94920508e-01]), 'de_fdr': array([9.96372653e-03, 1.53569754e-03, 4.70513324e-01, ...,\n",
       "         5.48733325e-01, 5.21198560e-04, 9.15212182e-01]), 'dv_diff': array([-0.19931876,  0.20193384,  0.59173404, ...,  0.35028317,\n",
       "         -2.02111717, -0.53053186]), 'dv_pval': array([0.63953605, 0.43935606, 0.07059294, ..., 0.39256074, 0.06339366,\n",
       "         0.21137886]), 'dv_fdr': array([0.83184409, 0.71309099, 0.30394183, ..., 0.6786508 , 0.28619468,\n",
       "         0.50600345])},\n",
       " ('CD8 T cells - ctrl',\n",
       "  'CD8 T cells - stim'): {'de_diff': array([ 1.32673597, -1.191558  , -1.29093051, ..., -0.15946931,\n",
       "         -0.78094894,  0.24339116]), 'de_pval': array([1.19988001e-03, 1.13185123e-06, 7.19928007e-03, ...,\n",
       "         5.01149885e-01, 2.04491782e-05, 2.66373363e-01]), 'de_fdr': array([1.41175756e-02, 1.23771261e-04, 5.46263741e-02, ...,\n",
       "         7.47100290e-01, 4.93701589e-04, 5.62713729e-01]), 'dv_diff': array([-0.26432156, -1.26387716, -3.12450506, ...,  0.10540896,\n",
       "          0.26574083,  0.61098429]), 'dv_pval': array([7.25527447e-01, 7.79922008e-03, 7.46953816e-05, ...,\n",
       "         8.67713229e-01, 6.17138286e-01, 1.48985101e-01]), 'dv_fdr': array([0.87924089, 0.09476307, 0.00580974, ..., 0.94308758, 0.82471523,\n",
       "         0.44659431])},\n",
       " ('B cells - ctrl',\n",
       "  'B cells - stim'): {'de_diff': array([ 1.27347493, -0.90863812, -1.65898824, ...,  0.01908296,\n",
       "         -0.55509865, -0.16146734]), 'de_pval': array([7.99920008e-04, 6.99367090e-06, 9.99900010e-04, ...,\n",
       "         9.11308869e-01, 1.74982502e-01, 4.06759324e-01]), 'de_fdr': array([5.77062916e-03, 1.62497573e-04, 6.96922789e-03, ...,\n",
       "         9.61580704e-01, 3.64924138e-01, 6.20174167e-01]), 'dv_diff': array([-2.36232584, -0.15524605, -1.29791094, ..., -0.61512362,\n",
       "          0.15666311,  0.31279264]), 'dv_pval': array([1.59984002e-03, 6.55934407e-01, 1.21711837e-04, ...,\n",
       "         1.40185981e-01, 8.57714229e-01, 3.81161884e-01]), 'dv_fdr': array([0.06053272, 0.86231264, 0.00805906, ..., 0.46394236, 0.95196485,\n",
       "         0.68277694])},\n",
       " ('Megakaryocytes - ctrl',\n",
       "  'Megakaryocytes - stim'): {'de_diff': array([ 1.53123724,  0.07780355, -1.11797261, ...,  0.00881058,\n",
       "         -0.17351103,  0.04963267]), 'de_pval': array([0.01339866, 0.86491351, 0.11518848, ..., 0.96710329, 0.85931407,\n",
       "         0.88511149]), 'de_fdr': array([0.26928296, 0.97453838, 0.57658234, ..., 0.99408655, 0.97388928,\n",
       "         0.97453838]), 'dv_diff': array([-2.79392794, -0.27963703, -3.36597931, ..., -0.16422816,\n",
       "          0.0862936 , -2.06287823]), 'dv_pval': array([1.27987201e-02, 7.57724228e-01, 1.99980002e-04, ...,\n",
       "         8.49115088e-01, 8.59914009e-01, 2.39976002e-02]), 'dv_fdr': array([0.21693114, 0.93669753, 0.01219878, ..., 0.94154805, 0.94154805,\n",
       "         0.27746245])},\n",
       " ('FCGR3A+ Monocytes - ctrl',\n",
       "  'FCGR3A+ Monocytes - stim'): {'de_diff': array([ 3.33590055, -0.60302556,  0.27974284, ..., -0.33336142,\n",
       "         -0.30601901, -0.62104368]), 'de_pval': array([5.25950187e-06, 3.72362764e-01, 8.86711329e-01, ...,\n",
       "         8.81911809e-02, 1.37986201e-02, 7.09929007e-02]), 'de_fdr': array([1.47109052e-04, 5.29327204e-01, 9.30401473e-01, ...,\n",
       "         1.83650219e-01, 4.32418297e-02, 1.54954075e-01]), 'dv_diff': array([-0.6487248 , -0.5161598 ,  1.95255433, ...,  1.03202617,\n",
       "         -0.32874447,  1.72187586]), 'dv_pval': array([3.84161584e-01, 5.34346565e-01, 4.93950605e-02, ...,\n",
       "         2.87971203e-02, 6.22137786e-01, 1.99214534e-04]), 'dv_fdr': array([0.69244328, 0.7837083 , 0.25684245, ..., 0.19862483, 0.84358376,\n",
       "         0.00958878])}}"
      ]
     },
     "execution_count": 607,
     "metadata": {},
     "output_type": "execute_result"
    }
   ],
   "source": [
    "ht_dict"
   ]
  },
  {
   "cell_type": "code",
   "execution_count": null,
   "metadata": {},
   "outputs": [],
   "source": []
  },
  {
   "cell_type": "code",
   "execution_count": 566,
   "metadata": {},
   "outputs": [],
   "source": [
    "cd4_pt_df = pd.read_csv(data_path + 'cd4_timepoints.csv', index_col=0)\n",
    "cd4_adata = adata[adata.obs.cell == 'CD4 T cells'].copy()\n",
    "cd4_adata.obs['stim_tp'] = cd4_pt_df['stim_tp'].astype(str)\n",
    "cd4_stim_adata = cd4_adata[cd4_adata.obs.stim == 'stim'].copy()\n",
    "cd4_stim_adata.obs['stim_tp'] = cd4_stim_adata.obs['stim_tp'].replace('5', '4')"
   ]
  },
  {
   "cell_type": "code",
   "execution_count": 570,
   "metadata": {},
   "outputs": [
    {
     "name": "stdout",
     "output_type": "stream",
     "text": [
      "Computing observed moments for: 2\n",
      "Computing observed moments for: 0\n",
      "Computing observed moments for: 1\n",
      "Computing observed moments for: 3\n",
      "Computing observed moments for: 4\n"
     ]
    }
   ],
   "source": [
    "imp.reload(scme)\n",
    "estimator = scme.SingleCellEstimator(\n",
    "    adata=cd4_stim_adata, \n",
    "    group_label='stim_tp',\n",
    "    n_umis_column='n_counts',\n",
    "    num_permute=10000,\n",
    "    beta=0.1)\n",
    "\n",
    "estimator.estimate_beta_sq(tolerance=3)"
   ]
  },
  {
   "cell_type": "code",
   "execution_count": 572,
   "metadata": {},
   "outputs": [
    {
     "data": {
      "image/png": "[encoded data removed]",
      "text/plain": [
       "<Figure size 396x360 with 1 Axes>"
      ]
     },
     "metadata": {
      "needs_background": "light"
     },
     "output_type": "display_data"
    }
   ],
   "source": [
    "estimator.plot_cv_mean_curve()"
   ]
  },
  {
   "cell_type": "code",
   "execution_count": 573,
   "metadata": {},
   "outputs": [],
   "source": [
    "estimator.estimate_parameters()"
   ]
  },
  {
   "cell_type": "code",
   "execution_count": 574,
   "metadata": {},
   "outputs": [
    {
     "name": "stdout",
     "output_type": "stream",
     "text": [
      "Gamma RVs generated..\n"
     ]
    }
   ],
   "source": [
    "estimator.compute_confidence_intervals_1d(\n",
    "    groups=estimator.groups,\n",
    "    groups_to_compare=[])"
   ]
  },
  {
   "cell_type": "code",
   "execution_count": 627,
   "metadata": {},
   "outputs": [],
   "source": [
    "def plot_param_trajectory(gene, estimator, x_axis_width, y_axis_width):\n",
    "    \n",
    "    groups = [str(i) for i in range(5 if gene != 'ARL4A' else 4)] \n",
    "    \n",
    "    gene_idx = np.where(adata.var.index == gene)[0][0]\n",
    "    \n",
    "    means = np.array([estimator.parameters[group]['log_mean'][gene_idx] for group in groups])\n",
    "    dispersions = np.array([estimator.parameters[group]['log_residual_var'][gene_idx] for group in groups])\n",
    "    \n",
    "    means_ci = [estimator.parameters_confidence_intervals[group]['log_mean'][gene_idx] for group in groups]\n",
    "    dispersions_ci = [estimator.parameters_confidence_intervals[group]['log_residual_var'][gene_idx] for group in groups]\n",
    "    \n",
    "    plt.errorbar(\n",
    "        x=means, \n",
    "        y=dispersions,\n",
    "        xerr=means_ci,\n",
    "        yerr=dispersions_ci,\n",
    "        fmt='.-',\n",
    "        capsize=2,\n",
    "        ecolor='k')\n",
    "    plt.title(gene)\n",
    "\n",
    "    offset=0.03\n",
    "    for i, label in enumerate(groups):\n",
    "        mean_offset = -0.03 if i % 2 == 0 else 0\n",
    "        plt.annotate(label, (means[i] + mean_offset, dispersions[i]+dispersions_ci[i]+offset))\n",
    "    \n",
    "    axes = plt.gca()\n",
    "    ymin, ymax = axes.get_ylim()\n",
    "    xmin, xmax = axes.get_xlim()\n",
    "    \n",
    "    ymid = (ymin + ymax)/2\n",
    "    xmid = (xmin + xmax)/2\n",
    "    \n",
    "    #axes.set_xlim([xmid - x_axis_width, xmid + x_axis_width])\n",
    "    axes.set_ylim([ymin, ymax + 0.2])\n",
    "    \n",
    "    axes.xaxis.set_major_locator(plt.MultipleLocator(0.5))\n",
    "    \n",
    "    "
   ]
  },
  {
   "cell_type": "code",
   "execution_count": 628,
   "metadata": {},
   "outputs": [
    {
     "data": {
      "image/png": "[encoded data removed]",
      "text/plain": [
       "<Figure size 720x432 with 5 Axes>"
      ]
     },
     "metadata": {
      "needs_background": "light"
     },
     "output_type": "display_data"
    }
   ],
   "source": [
    "x_width = 0.8\n",
    "y_width = 2\n",
    "fig = plt.figure(figsize=(10, 6))\n",
    "plt.suptitle('Expression across pseudotime')\n",
    "plt.subplots_adjust(hspace=0.3, wspace=0.21)\n",
    "plt.subplot(2, 2, 1)\n",
    "plot_param_trajectory(\n",
    "    gene='GIMAP4', \n",
    "    estimator=estimator,\n",
    "    y_axis_width=y_width,\n",
    "    x_axis_width=x_width)\n",
    "plt.subplot(2, 2, 2)\n",
    "plot_param_trajectory(\n",
    "    gene='IFIT3', \n",
    "    estimator=estimator,\n",
    "    y_axis_width=y_width,\n",
    "    x_axis_width=x_width)\n",
    "plt.subplot(2, 2, 3)\n",
    "plot_param_trajectory(\n",
    "    gene='IFITM3', \n",
    "    estimator=estimator,\n",
    "    y_axis_width=y_width,\n",
    "    x_axis_width=x_width)\n",
    "plt.subplot(2, 2, 4)\n",
    "plot_param_trajectory(\n",
    "    gene='ARL4A', \n",
    "    estimator=estimator,\n",
    "    y_axis_width=y_width,\n",
    "    x_axis_width=x_width)\n",
    "\n",
    "ax = fig.add_subplot(111, frameon=False);\n",
    "plt.tick_params(\n",
    "    which='both',\n",
    "    length=0,\n",
    "    labelcolor='none', \n",
    "    top='off', \n",
    "    bottom='off', \n",
    "    left='off', \n",
    "    right='off');\n",
    "ax.set_xlabel('Log(mean)', labelpad=10);\n",
    "ax.set_ylabel('Log(res.variance)', labelpad=25);"
   ]
  },
  {
   "cell_type": "markdown",
   "metadata": {},
   "source": [
    "### TF - gene differential correlation"
   ]
  },
  {
   "cell_type": "code",
   "execution_count": 16,
   "metadata": {},
   "outputs": [],
   "source": [
    "with open(data_path + 'stim_effect_1d_moments.pkl', 'rb') as f:\n",
    "    moment_dict_1d = pkl.load(f)"
   ]
  },
  {
   "cell_type": "code",
   "execution_count": 17,
   "metadata": {},
   "outputs": [],
   "source": [
    "with open(data_path + 'stim_effect_2d.pkl', 'rb') as f:\n",
    "    dc_result = pkl.load(f)\n",
    "with open(data_path + 'stim_effect_ci_2d.pkl', 'rb') as f:\n",
    "    corr_ci = pkl.load(f)"
   ]
  },
  {
   "cell_type": "code",
   "execution_count": 70,
   "metadata": {},
   "outputs": [],
   "source": [
    "idxs_1 = dc_result[(ct + ' - ctrl', ct + ' - stim')]['gene_idx_1']\n",
    "idxs_2 = dc_result[(ct + ' - ctrl', ct + ' - stim')]['gene_idx_2']"
   ]
  },
  {
   "cell_type": "code",
   "execution_count": 71,
   "metadata": {},
   "outputs": [
    {
     "ename": "NameError",
     "evalue": "name 'gene_pair_idx' is not defined",
     "output_type": "error",
     "traceback": [
      "\u001b[0;31m----------------------------------------------------------\u001b[0m",
      "\u001b[0;31mNameError\u001b[0m                Traceback (most recent call last)",
      "\u001b[0;32m<ipython-input-71-bb8b94ae0c61>\u001b[0m in \u001b[0;36m<module>\u001b[0;34m\u001b[0m\n\u001b[1;32m      1\u001b[0m genes = pd.DataFrame(\n\u001b[1;32m      2\u001b[0m     data=list(zip(\n\u001b[0;32m----> 3\u001b[0;31m         \u001b[0madata\u001b[0m\u001b[0;34m.\u001b[0m\u001b[0mvar\u001b[0m\u001b[0;34m.\u001b[0m\u001b[0mindex\u001b[0m\u001b[0;34m[\u001b[0m\u001b[0midxs_1\u001b[0m\u001b[0;34m[\u001b[0m\u001b[0mgene_pair_idx\u001b[0m\u001b[0;34m[\u001b[0m\u001b[0;36m0\u001b[0m\u001b[0;34m]\u001b[0m\u001b[0;34m]\u001b[0m\u001b[0;34m]\u001b[0m\u001b[0;34m,\u001b[0m\u001b[0;34m\u001b[0m\u001b[0;34m\u001b[0m\u001b[0m\n\u001b[0m\u001b[1;32m      4\u001b[0m         \u001b[0madata\u001b[0m\u001b[0;34m.\u001b[0m\u001b[0mvar\u001b[0m\u001b[0;34m.\u001b[0m\u001b[0mindex\u001b[0m\u001b[0;34m[\u001b[0m\u001b[0midxs_2\u001b[0m\u001b[0;34m[\u001b[0m\u001b[0mgene_pair_idx\u001b[0m\u001b[0;34m[\u001b[0m\u001b[0;36m1\u001b[0m\u001b[0;34m]\u001b[0m\u001b[0;34m]\u001b[0m\u001b[0;34m]\u001b[0m\u001b[0;34m,\u001b[0m\u001b[0;34m\u001b[0m\u001b[0;34m\u001b[0m\u001b[0m\n\u001b[1;32m      5\u001b[0m         \u001b[0mdc_result\u001b[0m\u001b[0;34m[\u001b[0m\u001b[0;34m(\u001b[0m\u001b[0mct\u001b[0m \u001b[0;34m+\u001b[0m \u001b[0;34m' - ctrl'\u001b[0m\u001b[0;34m,\u001b[0m \u001b[0mct\u001b[0m \u001b[0;34m+\u001b[0m \u001b[0;34m' - stim'\u001b[0m\u001b[0;34m)\u001b[0m\u001b[0;34m]\u001b[0m\u001b[0;34m[\u001b[0m\u001b[0;34m'corr_1'\u001b[0m\u001b[0;34m]\u001b[0m\u001b[0;34m[\u001b[0m\u001b[0mgene_pair_idx\u001b[0m\u001b[0;34m]\u001b[0m\u001b[0;34m,\u001b[0m\u001b[0;34m\u001b[0m\u001b[0;34m\u001b[0m\u001b[0m\n",
      "\u001b[0;31mNameError\u001b[0m: name 'gene_pair_idx' is not defined"
     ]
    }
   ],
   "source": [
    "genes = pd.DataFrame(\n",
    "    data=list(zip(\n",
    "        adata.var.index[idxs_1[gene_pair_idx[0]]], \n",
    "        adata.var.index[idxs_2[gene_pair_idx[1]]],\n",
    "        dc_result[(ct + ' - ctrl', ct + ' - stim')]['corr_1'][gene_pair_idx],\n",
    "        dc_result[(ct + ' - ctrl', ct + ' - stim')]['corr_2'][gene_pair_idx])),\n",
    "    columns=['gene_1', 'gene_2', 'corr_1', 'corr_2'])"
   ]
  },
  {
   "cell_type": "code",
   "execution_count": null,
   "metadata": {},
   "outputs": [],
   "source": [
    "genes.sort_values('corr_2', ascending=False)"
   ]
  },
  {
   "cell_type": "code",
   "execution_count": 53,
   "metadata": {},
   "outputs": [],
   "source": [
    "def line_from_correlation(corr, corr_ci, x, y, mu_x, mu_y, sigma_x, sigma_y, color_order):\n",
    "    \n",
    "#     mu_x = x.mean()\n",
    "#     mu_y = y.mean()\n",
    "#     sigma_x = x.std()\n",
    "#     sigma_y = y.std()\n",
    "    \n",
    "    beta_up = sigma_y/sigma_x*(corr + corr_ci)\n",
    "    alpha_up = mu_y - beta_up*mu_x\n",
    "    \n",
    "    beta = sigma_y/sigma_x*(corr)\n",
    "    alpha = mu_y - beta*mu_x\n",
    "    \n",
    "    beta_down = sigma_y/sigma_x*(corr - corr_ci)\n",
    "    alpha_down = mu_y - beta_down*mu_x\n",
    "    \n",
    "    x_range = np.arange(x.min(), 10, 0.1)\n",
    "    \n",
    "    up = beta_up*x_range + alpha_up\n",
    "    line = beta*x_range + alpha\n",
    "    down = beta_down*x_range + alpha_down\n",
    "            \n",
    "    plt.fill_between(x_range, up, down, alpha=0.3, color=sns.color_palette()[color_order])\n",
    "    plt.plot(x_range, line, color=sns.color_palette()[color_order])"
   ]
  },
  {
   "cell_type": "code",
   "execution_count": 54,
   "metadata": {},
   "outputs": [],
   "source": [
    "def plot_diff_corr(dc_result, corr_ci, moment_dict_1d, ct, gene_1, gene_2, offset=0.1):\n",
    "\n",
    "    idxs_1 = dc_result[(ct + ' - ctrl', ct + ' - stim')]['gene_idx_1']\n",
    "    idxs_2 = dc_result[(ct + ' - ctrl', ct + ' - stim')]['gene_idx_2']\n",
    "    \n",
    "    gene_idx_1 = np.where(adata.var.index == gene_1)[0][0]\n",
    "    gene_idx_2 = np.where(adata.var.index == gene_2)[0][0]\n",
    "    \n",
    "    df_1 = pd.DataFrame(\n",
    "        adata[adata.obs.cell_type == ct + ' - ctrl'].X[:, [gene_idx_1, gene_idx_2]].toarray(),\n",
    "        columns=['gene_1', 'gene_2'])\n",
    "    df_2 = pd.DataFrame(\n",
    "            adata[adata.obs.cell_type == ct + ' - stim'].X[:, [gene_idx_1, gene_idx_2]].toarray(),\n",
    "            columns=['gene_1', 'gene_2'])\n",
    "\n",
    "    count_df_1 = df_1\\\n",
    "        .merge(\n",
    "            pd.DataFrame(df_1.groupby(['gene_1', 'gene_2']).size().reset_index()),\n",
    "            on=['gene_1', 'gene_2'], \n",
    "            how='left')\n",
    "\n",
    "    count_df_2 = df_2\\\n",
    "        .merge(\n",
    "            pd.DataFrame(df_2.groupby(['gene_1', 'gene_2']).size().reset_index()),\n",
    "            on=['gene_1', 'gene_2'], \n",
    "            how='left')\n",
    "    \n",
    "    count_df_1['size'] = count_df_1[0]\n",
    "    count_df_1['log_size'] = np.sqrt((count_df_1['size']))+10\n",
    "\n",
    "    count_df_2['size'] = count_df_2[0]\n",
    "    count_df_2['log_size'] = np.sqrt((count_df_2['size']))+10\n",
    "    \n",
    "    y1 = adata[adata.obs.cell_type == ct + ' - ctrl'].X[:, gene_idx_2].toarray().reshape(-1) - offset\n",
    "    x1 = adata[adata.obs.cell_type == ct + ' - ctrl'].X[:, gene_idx_1].toarray().reshape(-1) - offset\n",
    "\n",
    "    y2 = adata[adata.obs.cell_type == ct + ' - stim'].X[:, gene_idx_2].toarray().reshape(-1) + offset\n",
    "    x2 = adata[adata.obs.cell_type == ct + ' - stim'].X[:, gene_idx_1].toarray().reshape(-1) + offset\n",
    "    \n",
    "    mu_x1 = moment_dict_1d[ct + ' - ctrl']['first'][gene_idx_1]\n",
    "    mu_y1 = moment_dict_1d[ct + ' - ctrl']['first'][gene_idx_2]\n",
    "    mu_x2 = moment_dict_1d[ct + ' - stim']['first'][gene_idx_1]\n",
    "    mu_y2 = moment_dict_1d[ct + ' - stim']['first'][gene_idx_2]\n",
    "\n",
    "    sigma_x1 = np.sqrt(moment_dict_1d[ct + ' - ctrl']['second'][gene_idx_1])\n",
    "    sigma_y1 = np.sqrt(moment_dict_1d[ct + ' - ctrl']['second'][gene_idx_2])\n",
    "    sigma_x2 = np.sqrt(moment_dict_1d[ct + ' - stim']['second'][gene_idx_1])\n",
    "    sigma_y2 = np.sqrt(moment_dict_1d[ct + ' - stim']['second'][gene_idx_2])\n",
    "\n",
    "    corr_1 = dc_result[(ct + ' - ctrl', ct + ' - stim')]['corr_1'][\n",
    "        np.argwhere(idxs_1 == gene_idx_1)[0][0], \n",
    "        np.argwhere(idxs_2 == gene_idx_2)[0][0]]\n",
    "\n",
    "    corr_ci_1 = corr_ci[ct + ' - ctrl']['corr'][\n",
    "        np.argwhere(idxs_1 == gene_idx_1)[0][0], \n",
    "        np.argwhere(idxs_2 == gene_idx_2)[0][0]]\n",
    "\n",
    "    corr_2 = dc_result[(ct + ' - ctrl', ct + ' - stim')]['corr_2'][\n",
    "        np.argwhere(idxs_1 == gene_idx_1)[0][0], \n",
    "        np.argwhere(idxs_2 == gene_idx_2)[0][0]]\n",
    "\n",
    "    corr_ci_2 = corr_ci[ct + ' - stim']['corr'][\n",
    "        np.argwhere(idxs_1 == gene_idx_1)[0][0], \n",
    "        np.argwhere(idxs_2 == gene_idx_2)[0][0]]\n",
    "\n",
    "    plt.scatter(x1, y1, s=count_df_1.log_size, label='control')\n",
    "    \n",
    "    plt.scatter(x2, y2, s=count_df_2.log_size, label='IFN-B')\n",
    "    \n",
    "    line_from_correlation(\n",
    "        corr_1, corr_ci_1, \n",
    "        x1 + offset, y1 + offset,\n",
    "        mu_x1, mu_y1, sigma_x1, sigma_y1,\n",
    "        color_order=0)\n",
    "    \n",
    "    line_from_correlation(\n",
    "        corr_2, corr_ci_2, \n",
    "        x2 - offset, y2 - offset, \n",
    "        mu_x2, mu_y2, sigma_x2, sigma_y2,\n",
    "        color_order=1)\n",
    "    \n",
    "    plt.xlabel('{} expression'.format(gene_1))\n",
    "    plt.ylabel('{} expression'.format(gene_2))\n",
    "    plt.legend()\n",
    "    plt.title('Relationship between {} \\n and {} in {}'.format(gene_1, gene_2, ct))"
   ]
  },
  {
   "cell_type": "code",
   "execution_count": 55,
   "metadata": {},
   "outputs": [],
   "source": [
    "ct = 'CD4 T cells'"
   ]
  },
  {
   "cell_type": "code",
   "execution_count": 56,
   "metadata": {},
   "outputs": [
    {
     "data": {
      "image/png": "[encoded data removed]",
      "text/plain": [
       "<Figure size 432x288 with 1 Axes>"
      ]
     },
     "metadata": {
      "needs_background": "light"
     },
     "output_type": "display_data"
    }
   ],
   "source": [
    "plot_diff_corr(dc_result, corr_ci, moment_dict_1d, ct, 'IRF8', 'HLA-DQA1', offset=0.1)"
   ]
  },
  {
   "cell_type": "code",
   "execution_count": 61,
   "metadata": {},
   "outputs": [
    {
     "data": {
      "image/png": "[encoded data removed]",
      "text/plain": [
       "<Figure size 432x288 with 1 Axes>"
      ]
     },
     "metadata": {
      "needs_background": "light"
     },
     "output_type": "display_data"
    }
   ],
   "source": [
    "plot_diff_corr(dc_result, corr_ci, moment_dict_1d, 'CD4 T cells', 'STAT3', 'BATF', offset=0.1)"
   ]
  },
  {
   "cell_type": "code",
   "execution_count": 62,
   "metadata": {},
   "outputs": [
    {
     "data": {
      "image/png": "[encoded data removed]",
      "text/plain": [
       "<Figure size 432x288 with 1 Axes>"
      ]
     },
     "metadata": {
      "needs_background": "light"
     },
     "output_type": "display_data"
    }
   ],
   "source": [
    "plot_diff_corr(dc_result, corr_ci, moment_dict_1d, 'CD4 T cells', 'STAT3', 'IFI6', offset=0.1)"
   ]
  }
 ],
 "metadata": {
  "kernelspec": {
   "display_name": "Python 3",
   "language": "python",
   "name": "python3"
  },
  "language_info": {
   "codemirror_mode": {
    "name": "ipython",
    "version": 3
   },
   "file_extension": ".py",
   "mimetype": "text/x-python",
   "name": "python",
   "nbconvert_exporter": "python",
   "pygments_lexer": "ipython3",
   "version": "3.7.4"
  }
 },
 "nbformat": 4,
 "nbformat_minor": 4
}
