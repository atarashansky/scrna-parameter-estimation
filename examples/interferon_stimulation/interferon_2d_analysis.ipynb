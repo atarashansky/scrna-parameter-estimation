{
 "cells": [
  {
   "cell_type": "markdown",
   "metadata": {},
   "source": [
    "# Interferon beta stim and genetic perturbations cause changes in gene-gene correlation\n",
    "\n",
    "Demonstrating differential expression between cell types and the effect of interferon stimulation within a cell type (CD4 T cells)."
   ]
  },
  {
   "cell_type": "code",
   "execution_count": 1,
   "metadata": {},
   "outputs": [],
   "source": [
    "import pandas as pd\n",
    "import matplotlib.pyplot as plt\n",
    "import scanpy as sc\n",
    "import scipy as sp\n",
    "import itertools\n",
    "import numpy as np\n",
    "import scipy.stats as stats\n",
    "from scipy.integrate import dblquad\n",
    "import seaborn as sns\n",
    "from statsmodels.stats.multitest import fdrcorrection\n",
    "import imp\n",
    "pd.options.display.max_rows = 999\n",
    "pd.set_option('display.max_colwidth', -1)\n",
    "import pickle as pkl\n",
    "import time"
   ]
  },
  {
   "cell_type": "code",
   "execution_count": 105,
   "metadata": {},
   "outputs": [],
   "source": [
    "%matplotlib inline"
   ]
  },
  {
   "cell_type": "code",
   "execution_count": 3,
   "metadata": {},
   "outputs": [],
   "source": [
    "import matplotlib.pylab as pylab\n",
    "params = {'legend.fontsize': 'x-large',\n",
    "         'axes.labelsize': 'x-large',\n",
    "         'axes.titlesize':'x-large',\n",
    "         'figure.titlesize':'xx-large',\n",
    "         'xtick.labelsize':'x-large',\n",
    "         'ytick.labelsize':'x-large'}\n",
    "pylab.rcParams.update(params)\n"
   ]
  },
  {
   "cell_type": "code",
   "execution_count": 4,
   "metadata": {},
   "outputs": [],
   "source": [
    "import warnings\n",
    "warnings.filterwarnings('ignore')"
   ]
  },
  {
   "cell_type": "code",
   "execution_count": 5,
   "metadata": {},
   "outputs": [],
   "source": [
    "from sklearn.decomposition import PCA"
   ]
  },
  {
   "cell_type": "code",
   "execution_count": 6,
   "metadata": {},
   "outputs": [],
   "source": [
    "from sklearn.preprocessing import StandardScaler"
   ]
  },
  {
   "cell_type": "code",
   "execution_count": 7,
   "metadata": {},
   "outputs": [],
   "source": [
    "import sys\n",
    "sys.path.append('/home/mkim7/Github/scrna-parameter-estimation/simplesc')\n",
    "import scme, utils"
   ]
  },
  {
   "cell_type": "code",
   "execution_count": 8,
   "metadata": {},
   "outputs": [],
   "source": [
    "data_path = '/data/parameter_estimation/'"
   ]
  },
  {
   "cell_type": "markdown",
   "metadata": {},
   "source": [
    "### Plotting function"
   ]
  },
  {
   "cell_type": "code",
   "execution_count": 9,
   "metadata": {},
   "outputs": [],
   "source": [
    "def plot_2d_discrete(data, size_multiplier=10, offset=0.0):\n",
    "    \"\"\" Plotting discrete 2D data according to the frequency. \"\"\"\n",
    "    \n",
    "    df = pd.DataFrame(data).groupby([0, 1]).size().reset_index(name='count')\n",
    "    df['log_count'] = np.log(df['count'])\n",
    "    \n",
    "    plt.scatter(df[0]+offset, df[1]+offset, s=df['log_count']*size_multiplier)    \n",
    "    "
   ]
  },
  {
   "cell_type": "markdown",
   "metadata": {},
   "source": [
    "### Read the IFN AnnData object"
   ]
  },
  {
   "cell_type": "code",
   "execution_count": 10,
   "metadata": {},
   "outputs": [
    {
     "name": "stderr",
     "output_type": "stream",
     "text": [
      "Trying to set attribute `.obs` of view, making a copy.\n"
     ]
    }
   ],
   "source": [
    "ifn_adata = sc.read(data_path + 'interferon_data/interferon.raw.h5ad')\n",
    "ifn_adata = ifn_adata[:, ifn_adata.var.index.map(lambda x: x[:2] != 'HB')]\n",
    "ifn_adata.obs['cell_type'] = (ifn_adata.obs['cell'].astype(str) + ' - ' + ifn_adata.obs['stim'].astype(str)).astype('category')"
   ]
  },
  {
   "cell_type": "markdown",
   "metadata": {},
   "source": [
    "### Function for summarizing DC results"
   ]
  },
  {
   "cell_type": "code",
   "execution_count": 84,
   "metadata": {},
   "outputs": [],
   "source": [
    "def organize_dc_result(result, adata, ct):\n",
    "    \n",
    "    idxs_1 = result['gene_idx_1']\n",
    "    idxs_2 = result['gene_idx_2']\n",
    "    \n",
    "    gene_pair_idx = np.array(list(itertools.product(range(len(idxs_1)), range(len(idxs_2)))))\n",
    "    \n",
    "    df = pd.DataFrame(\n",
    "        data=list(zip(\n",
    "            adata.var.index[idxs_1[gene_pair_idx[:, 0]]], \n",
    "            adata.var.index[idxs_2[gene_pair_idx[:, 1]]],\n",
    "            result['corr_1'][gene_pair_idx[:, 0], gene_pair_idx[:, 1]],\n",
    "            result['corr_2'][gene_pair_idx[:, 0], gene_pair_idx[:, 1]],\n",
    "            result['dc_pval'][gene_pair_idx[:, 0], gene_pair_idx[:, 1]],\n",
    "            result['dc_fdr'][gene_pair_idx[:, 0], gene_pair_idx[:, 1]])),\n",
    "        columns=['gene_1', 'gene_2', 'corr_1', 'corr_2', 'pval', 'fdr'])\n",
    "    df['ct'] = ct\n",
    "    \n",
    "    return df\n",
    "\n",
    "def organize_2d_ci_result(ci_dict, adata, idxs_1, idxs_2, ct):\n",
    "    \n",
    "    gene_pair_idx = np.array(list(itertools.product(range(len(idxs_1)), range(len(idxs_2)))))\n",
    "    \n",
    "    df = pd.DataFrame(\n",
    "        data=list(zip(\n",
    "            adata.var.index[idxs_1[gene_pair_idx[:, 0]]], \n",
    "            adata.var.index[idxs_2[gene_pair_idx[:, 1]]],\n",
    "            ci_dict[ct + ' - ctrl']['corr'][gene_pair_idx[:, 0], gene_pair_idx[:, 1]],\n",
    "            ci_dict[ct + ' - stim']['corr'][gene_pair_idx[:, 0], gene_pair_idx[:, 1]]\n",
    "        )),\n",
    "        columns=['gene_1', 'gene_2', 'corr_ci_1', 'corr_ci_2'])\n",
    "    df['ct'] = ct\n",
    "    \n",
    "    return df"
   ]
  },
  {
   "cell_type": "code",
   "execution_count": 85,
   "metadata": {},
   "outputs": [
    {
     "data": {
      "text/html": [
       "<div>\n",
       "<style scoped>\n",
       "    .dataframe tbody tr th:only-of-type {\n",
       "        vertical-align: middle;\n",
       "    }\n",
       "\n",
       "    .dataframe tbody tr th {\n",
       "        vertical-align: top;\n",
       "    }\n",
       "\n",
       "    .dataframe thead th {\n",
       "        text-align: right;\n",
       "    }\n",
       "</style>\n",
       "<table border=\"1\" class=\"dataframe\">\n",
       "  <thead>\n",
       "    <tr style=\"text-align: right;\">\n",
       "      <th></th>\n",
       "      <th>gene_1</th>\n",
       "      <th>gene_2</th>\n",
       "      <th>corr_ci_1</th>\n",
       "      <th>corr_ci_2</th>\n",
       "      <th>ct</th>\n",
       "    </tr>\n",
       "  </thead>\n",
       "  <tbody>\n",
       "    <tr>\n",
       "      <th>0</th>\n",
       "      <td>ZNF24</td>\n",
       "      <td>KIF22</td>\n",
       "      <td>0.106396</td>\n",
       "      <td>0.073235</td>\n",
       "      <td>CD4 T cells</td>\n",
       "    </tr>\n",
       "    <tr>\n",
       "      <th>1</th>\n",
       "      <td>ZNF24</td>\n",
       "      <td>CPNE3</td>\n",
       "      <td>0.053312</td>\n",
       "      <td>0.080912</td>\n",
       "      <td>CD4 T cells</td>\n",
       "    </tr>\n",
       "    <tr>\n",
       "      <th>2</th>\n",
       "      <td>ZNF24</td>\n",
       "      <td>TESPA1</td>\n",
       "      <td>0.102368</td>\n",
       "      <td>0.086256</td>\n",
       "      <td>CD4 T cells</td>\n",
       "    </tr>\n",
       "    <tr>\n",
       "      <th>3</th>\n",
       "      <td>ZNF24</td>\n",
       "      <td>LST1</td>\n",
       "      <td>0.073748</td>\n",
       "      <td>0.062809</td>\n",
       "      <td>CD4 T cells</td>\n",
       "    </tr>\n",
       "    <tr>\n",
       "      <th>4</th>\n",
       "      <td>ZNF24</td>\n",
       "      <td>IRAK4</td>\n",
       "      <td>0.055953</td>\n",
       "      <td>0.098673</td>\n",
       "      <td>CD4 T cells</td>\n",
       "    </tr>\n",
       "    <tr>\n",
       "      <th>...</th>\n",
       "      <td>...</td>\n",
       "      <td>...</td>\n",
       "      <td>...</td>\n",
       "      <td>...</td>\n",
       "      <td>...</td>\n",
       "    </tr>\n",
       "    <tr>\n",
       "      <th>10954</th>\n",
       "      <td>ATF4</td>\n",
       "      <td>SEC14L1</td>\n",
       "      <td>0.100092</td>\n",
       "      <td>0.080802</td>\n",
       "      <td>CD4 T cells</td>\n",
       "    </tr>\n",
       "    <tr>\n",
       "      <th>10955</th>\n",
       "      <td>ATF4</td>\n",
       "      <td>DYNC1LI1</td>\n",
       "      <td>0.059812</td>\n",
       "      <td>0.057968</td>\n",
       "      <td>CD4 T cells</td>\n",
       "    </tr>\n",
       "    <tr>\n",
       "      <th>10956</th>\n",
       "      <td>ATF4</td>\n",
       "      <td>EZR</td>\n",
       "      <td>0.086573</td>\n",
       "      <td>0.052088</td>\n",
       "      <td>CD4 T cells</td>\n",
       "    </tr>\n",
       "    <tr>\n",
       "      <th>10957</th>\n",
       "      <td>ATF4</td>\n",
       "      <td>MAPK1</td>\n",
       "      <td>0.059283</td>\n",
       "      <td>0.083105</td>\n",
       "      <td>CD4 T cells</td>\n",
       "    </tr>\n",
       "    <tr>\n",
       "      <th>10958</th>\n",
       "      <td>ATF4</td>\n",
       "      <td>KRAS</td>\n",
       "      <td>0.076129</td>\n",
       "      <td>0.057807</td>\n",
       "      <td>CD4 T cells</td>\n",
       "    </tr>\n",
       "  </tbody>\n",
       "</table>\n",
       "<p>10959 rows × 5 columns</p>\n",
       "</div>"
      ],
      "text/plain": [
       "      gene_1    gene_2  corr_ci_1  corr_ci_2           ct\n",
       "0      ZNF24  KIF22     0.106396   0.073235   CD4 T cells\n",
       "1      ZNF24  CPNE3     0.053312   0.080912   CD4 T cells\n",
       "2      ZNF24  TESPA1    0.102368   0.086256   CD4 T cells\n",
       "3      ZNF24  LST1      0.073748   0.062809   CD4 T cells\n",
       "4      ZNF24  IRAK4     0.055953   0.098673   CD4 T cells\n",
       "...      ...    ...          ...        ...           ...\n",
       "10954  ATF4   SEC14L1   0.100092   0.080802   CD4 T cells\n",
       "10955  ATF4   DYNC1LI1  0.059812   0.057968   CD4 T cells\n",
       "10956  ATF4   EZR       0.086573   0.052088   CD4 T cells\n",
       "10957  ATF4   MAPK1     0.059283   0.083105   CD4 T cells\n",
       "10958  ATF4   KRAS      0.076129   0.057807   CD4 T cells\n",
       "\n",
       "[10959 rows x 5 columns]"
      ]
     },
     "execution_count": 85,
     "metadata": {},
     "output_type": "execute_result"
    }
   ],
   "source": [
    "idxs_1 = ifn_dc_result[(ct + ' - ctrl', ct + ' - stim')]['gene_idx_1']\n",
    "idxs_2 = ifn_dc_result[(ct + ' - ctrl', ct + ' - stim')]['gene_idx_2']\n",
    "organize_2d_ci_result(ifn_corr_ci, ifn_adata, idxs_1, idxs_2, ct)"
   ]
  },
  {
   "cell_type": "markdown",
   "metadata": {},
   "source": [
    "### Find a candidate\n",
    "\n",
    "ID2 and IFI6, only significant in T cells"
   ]
  },
  {
   "cell_type": "code",
   "execution_count": 12,
   "metadata": {},
   "outputs": [],
   "source": [
    "ct = 'CD4 T cells'"
   ]
  },
  {
   "cell_type": "code",
   "execution_count": 13,
   "metadata": {},
   "outputs": [],
   "source": [
    "with open(data_path + 'interferon_data/stim_effect_1d_moments.pkl', 'rb') as f:\n",
    "    ifn_moment_dict_1d = pkl.load(f)\n",
    "with open(data_path + 'interferon_data/stim_effect_2d.pkl', 'rb') as f:\n",
    "    ifn_dc_result = pkl.load(f)\n",
    "with open(data_path + 'interferon_data/stim_effect_1d.pkl', 'rb') as f:\n",
    "    ifn_de_dv_result = pkl.load(f)\n",
    "with open(data_path + 'interferon_data/stim_effect_ci_2d.pkl', 'rb') as f:\n",
    "    ifn_corr_ci = pkl.load(f)"
   ]
  },
  {
   "cell_type": "code",
   "execution_count": 116,
   "metadata": {},
   "outputs": [],
   "source": [
    "ifn_dc_df = \\\n",
    "    pd.concat([organize_dc_result(ifn_dc_result[(ct + ' - ctrl', ct + ' - stim')], ifn_adata, ct) for ct in ifn_adata.obs.cell.drop_duplicates().tolist() if ct != 'Megakaryocytes' and ct != 'NK cells'])\\\n",
    "    .query('corr_1 < 1 & corr_2 < 1 & corr_1 > -1 & corr_2 > -1')\n",
    "ifn_dc_df_sig = ifn_dc_df.query('fdr < 0.2')"
   ]
  },
  {
   "cell_type": "code",
   "execution_count": 117,
   "metadata": {},
   "outputs": [],
   "source": [
    "gene_pair_by_ct = ifn_dc_df_sig\\\n",
    "    .groupby(['gene_1', 'gene_2'])\\\n",
    "    .agg({\n",
    "        'ct':set,\n",
    "        'corr_1':set,\n",
    "        'corr_2':set})\\\n",
    "    .reset_index()\n",
    "gene_pair_by_ct['ct_count'] = gene_pair_by_ct['ct'].apply(len)"
   ]
  },
  {
   "cell_type": "code",
   "execution_count": 118,
   "metadata": {},
   "outputs": [
    {
     "data": {
      "text/html": [
       "<div>\n",
       "<style scoped>\n",
       "    .dataframe tbody tr th:only-of-type {\n",
       "        vertical-align: middle;\n",
       "    }\n",
       "\n",
       "    .dataframe tbody tr th {\n",
       "        vertical-align: top;\n",
       "    }\n",
       "\n",
       "    .dataframe thead th {\n",
       "        text-align: right;\n",
       "    }\n",
       "</style>\n",
       "<table border=\"1\" class=\"dataframe\">\n",
       "  <thead>\n",
       "    <tr style=\"text-align: right;\">\n",
       "      <th></th>\n",
       "      <th>gene_1</th>\n",
       "      <th>gene_2</th>\n",
       "      <th>ct</th>\n",
       "      <th>corr_1</th>\n",
       "      <th>corr_2</th>\n",
       "      <th>ct_count</th>\n",
       "    </tr>\n",
       "  </thead>\n",
       "  <tbody>\n",
       "    <tr>\n",
       "      <th>763</th>\n",
       "      <td>ID2</td>\n",
       "      <td>IFI6</td>\n",
       "      <td>{CD4 T cells, CD8 T cells}</td>\n",
       "      <td>{-0.032016608261336406, -0.015400314978196052}</td>\n",
       "      <td>{-0.27957039777071213, -0.5434750453216938}</td>\n",
       "      <td>2</td>\n",
       "    </tr>\n",
       "  </tbody>\n",
       "</table>\n",
       "</div>"
      ],
      "text/plain": [
       "    gene_1 gene_2                          ct  \\\n",
       "763  ID2    IFI6   {CD4 T cells, CD8 T cells}   \n",
       "\n",
       "                                             corr_1  \\\n",
       "763  {-0.032016608261336406, -0.015400314978196052}   \n",
       "\n",
       "                                          corr_2  ct_count  \n",
       "763  {-0.27957039777071213, -0.5434750453216938}  2         "
      ]
     },
     "execution_count": 118,
     "metadata": {},
     "output_type": "execute_result"
    }
   ],
   "source": [
    "gene_pair_by_ct[gene_pair_by_ct['ct'] == set(['CD4 T cells', 'CD8 T cells'])].head(100)"
   ]
  },
  {
   "cell_type": "code",
   "execution_count": 119,
   "metadata": {},
   "outputs": [
    {
     "data": {
      "text/html": [
       "<div>\n",
       "<style scoped>\n",
       "    .dataframe tbody tr th:only-of-type {\n",
       "        vertical-align: middle;\n",
       "    }\n",
       "\n",
       "    .dataframe tbody tr th {\n",
       "        vertical-align: top;\n",
       "    }\n",
       "\n",
       "    .dataframe thead th {\n",
       "        text-align: right;\n",
       "    }\n",
       "</style>\n",
       "<table border=\"1\" class=\"dataframe\">\n",
       "  <thead>\n",
       "    <tr style=\"text-align: right;\">\n",
       "      <th></th>\n",
       "      <th>gene_1</th>\n",
       "      <th>gene_2</th>\n",
       "      <th>corr_1</th>\n",
       "      <th>corr_2</th>\n",
       "      <th>pval</th>\n",
       "      <th>fdr</th>\n",
       "      <th>ct</th>\n",
       "    </tr>\n",
       "  </thead>\n",
       "  <tbody>\n",
       "    <tr>\n",
       "      <th>9917</th>\n",
       "      <td>ID2</td>\n",
       "      <td>IFI6</td>\n",
       "      <td>-0.067744</td>\n",
       "      <td>-0.230050</td>\n",
       "      <td>1.591841e-01</td>\n",
       "      <td>0.668393</td>\n",
       "      <td>CD14+ Monocytes</td>\n",
       "    </tr>\n",
       "    <tr>\n",
       "      <th>9917</th>\n",
       "      <td>ID2</td>\n",
       "      <td>IFI6</td>\n",
       "      <td>-0.032017</td>\n",
       "      <td>-0.279570</td>\n",
       "      <td>4.028149e-08</td>\n",
       "      <td>0.000110</td>\n",
       "      <td>CD4 T cells</td>\n",
       "    </tr>\n",
       "    <tr>\n",
       "      <th>9917</th>\n",
       "      <td>ID2</td>\n",
       "      <td>IFI6</td>\n",
       "      <td>0.300576</td>\n",
       "      <td>-0.072070</td>\n",
       "      <td>1.471853e-01</td>\n",
       "      <td>0.777451</td>\n",
       "      <td>Dendritic cells</td>\n",
       "    </tr>\n",
       "    <tr>\n",
       "      <th>9917</th>\n",
       "      <td>ID2</td>\n",
       "      <td>IFI6</td>\n",
       "      <td>-0.015400</td>\n",
       "      <td>-0.543475</td>\n",
       "      <td>1.999800e-04</td>\n",
       "      <td>0.036457</td>\n",
       "      <td>CD8 T cells</td>\n",
       "    </tr>\n",
       "    <tr>\n",
       "      <th>9917</th>\n",
       "      <td>ID2</td>\n",
       "      <td>IFI6</td>\n",
       "      <td>-0.017080</td>\n",
       "      <td>0.069227</td>\n",
       "      <td>2.087791e-01</td>\n",
       "      <td>0.686799</td>\n",
       "      <td>B cells</td>\n",
       "    </tr>\n",
       "    <tr>\n",
       "      <th>9917</th>\n",
       "      <td>ID2</td>\n",
       "      <td>IFI6</td>\n",
       "      <td>-0.076421</td>\n",
       "      <td>0.182613</td>\n",
       "      <td>8.373163e-01</td>\n",
       "      <td>0.973358</td>\n",
       "      <td>FCGR3A+ Monocytes</td>\n",
       "    </tr>\n",
       "  </tbody>\n",
       "</table>\n",
       "</div>"
      ],
      "text/plain": [
       "     gene_1 gene_2    corr_1    corr_2          pval       fdr  \\\n",
       "9917  ID2    IFI6  -0.067744 -0.230050  1.591841e-01  0.668393   \n",
       "9917  ID2    IFI6  -0.032017 -0.279570  4.028149e-08  0.000110   \n",
       "9917  ID2    IFI6   0.300576 -0.072070  1.471853e-01  0.777451   \n",
       "9917  ID2    IFI6  -0.015400 -0.543475  1.999800e-04  0.036457   \n",
       "9917  ID2    IFI6  -0.017080  0.069227  2.087791e-01  0.686799   \n",
       "9917  ID2    IFI6  -0.076421  0.182613  8.373163e-01  0.973358   \n",
       "\n",
       "                     ct  \n",
       "9917  CD14+ Monocytes    \n",
       "9917  CD4 T cells        \n",
       "9917  Dendritic cells    \n",
       "9917  CD8 T cells        \n",
       "9917  B cells            \n",
       "9917  FCGR3A+ Monocytes  "
      ]
     },
     "execution_count": 119,
     "metadata": {},
     "output_type": "execute_result"
    }
   ],
   "source": [
    "ifn_dc_df.query('gene_1 == \"ID2\" & gene_2 == \"IFI6\"')"
   ]
  },
  {
   "cell_type": "markdown",
   "metadata": {},
   "source": [
    "### Bar plot"
   ]
  },
  {
   "cell_type": "code",
   "execution_count": 120,
   "metadata": {},
   "outputs": [],
   "source": [
    "idxs_1 = ifn_dc_result[(ct + ' - ctrl', ct + ' - stim')]['gene_idx_1']\n",
    "idxs_2 = ifn_dc_result[(ct + ' - ctrl', ct + ' - stim')]['gene_idx_2']\n",
    "ci_df = pd.concat([organize_2d_ci_result(ifn_corr_ci, ifn_adata, idxs_1, idxs_2, ct) for ct in ifn_adata.obs.cell.drop_duplicates().tolist() if ct != 'Megakaryocytes' and ct != 'NK cells'])"
   ]
  },
  {
   "cell_type": "code",
   "execution_count": 141,
   "metadata": {},
   "outputs": [],
   "source": [
    "gene_1 = 'ID2'\n",
    "gene_2 = 'IFI6'\n",
    "ct_corr_info = ifn_dc_df.query('gene_1 == \"{}\" & gene_2 == \"{}\"'.format(gene_1, gene_2))['ct'].tolist()\n",
    "ctrl_corrs = ifn_dc_df.query('gene_1 == \"{}\" & gene_2 == \"{}\"'.format(gene_1, gene_2))['corr_1'].tolist()\n",
    "ctrl_ci = ci_df.query('gene_1 == \"{}\" & gene_2 == \"{}\"'.format(gene_1, gene_2))['corr_ci_1'].tolist()\n",
    "stim_corrs = ifn_dc_df.query('gene_1 == \"{}\" & gene_2 == \"{}\"'.format(gene_1, gene_2))['corr_2'].tolist()\n",
    "stim_ci = ci_df.query('gene_1 == \"{}\" & gene_2 == \"{}\"'.format(gene_1, gene_2))['corr_ci_2'].tolist()\n",
    "\n",
    "barwidth = 0.3\n",
    "ctrl_loc = np.arange(len(ct_corr_info)) - barwidth/2\n",
    "stim_loc = np.arange(len(ct_corr_info)) + barwidth/2"
   ]
  },
  {
   "cell_type": "code",
   "execution_count": 242,
   "metadata": {},
   "outputs": [
    {
     "data": {
      "image/png": "[encoded data removed]",
      "text/plain": [
       "<Figure size 432x288 with 1 Axes>"
      ]
     },
     "metadata": {
      "needs_background": "light"
     },
     "output_type": "display_data"
    }
   ],
   "source": [
    "plt.figure(figsize=(6, 4))\n",
    "plt.bar(\n",
    "    ctrl_loc, \n",
    "    ctrl_corrs, \n",
    "    width=barwidth,\n",
    "    yerr=ctrl_ci,\n",
    "    capsize=5\n",
    ");\n",
    "\n",
    "plt.bar(\n",
    "    stim_loc, \n",
    "    stim_corrs, \n",
    "    width=barwidth,\n",
    "    yerr=stim_ci,\n",
    "    capsize=5\n",
    ");\n",
    "\n",
    "plt.plot([-0.5, len(stim_loc)-0.5], [0, 0], '--', lw=2, color='k');\n",
    "\n",
    "labels = ['CD14+\\nMono',\n",
    " 'CD4\\nT\\ncells',\n",
    " 'DC',\n",
    " 'CD8\\nT\\ncells',\n",
    " 'B\\ncells',\n",
    " 'FCGR3A+\\nMono']\n",
    "\n",
    "plt.xticks(np.arange(len(stim_loc)), labels);\n",
    "plt.ylabel('Correlation between \\n ID2 and IFI6');\n",
    "plt.tight_layout()\n",
    "plt.savefig(data_path + 'figures/fig3/ID2_IFI6_across_ct.pdf')\n"
   ]
  },
  {
   "cell_type": "markdown",
   "metadata": {},
   "source": [
    "### Scatter plots"
   ]
  },
  {
   "cell_type": "code",
   "execution_count": 210,
   "metadata": {},
   "outputs": [],
   "source": [
    "def plot_2d_discrete(data, size_multiplier=10, offset=0.0, ax=plt):\n",
    "    \"\"\" Plotting discrete 2D data according to the frequency. \"\"\"\n",
    "    \n",
    "    df = pd.DataFrame(data).groupby([0, 1]).size().reset_index(name='count')\n",
    "    df['log_count'] = np.log(df['count'])\n",
    "    \n",
    "    ax.scatter(df[0]+offset, df[1]+offset, s=df['log_count']*size_multiplier)    \n",
    "\n",
    "def line_from_correlation(corr, corr_ci, x, y, mu_x, mu_y, sigma_x, sigma_y, color_order, ax=plt):\n",
    "    \n",
    "#     mu_x = x.mean()\n",
    "#     mu_y = y.mean()\n",
    "#     sigma_x = x.std()\n",
    "#     sigma_y = y.std()\n",
    "    \n",
    "    beta_up = sigma_y/sigma_x*(corr + corr_ci)\n",
    "    alpha_up = mu_y - beta_up*mu_x\n",
    "    \n",
    "    beta = sigma_y/sigma_x*(corr)\n",
    "    alpha = mu_y - beta*mu_x\n",
    "    \n",
    "    beta_down = sigma_y/sigma_x*(corr - corr_ci)\n",
    "    alpha_down = mu_y - beta_down*mu_x\n",
    "    \n",
    "    x_range = np.arange(x.min(), 7, 0.1)\n",
    "    \n",
    "    up = beta_up*x_range + alpha_up\n",
    "    line = beta*x_range + alpha\n",
    "    down = beta_down*x_range + alpha_down\n",
    "            \n",
    "    ax.fill_between(x_range, up, down, alpha=0.3, color=sns.color_palette()[color_order])\n",
    "    ax.plot(x_range, line, color=sns.color_palette()[color_order])"
   ]
  },
  {
   "cell_type": "code",
   "execution_count": 163,
   "metadata": {},
   "outputs": [],
   "source": [
    "cd4_ctrl_data = ifn_adata[ifn_adata.obs['cell_type'] == 'CD4 T cells - ctrl'][:, ['ID2', 'IFI6']].X.toarray()\n",
    "cd4_stim_data = ifn_adata[ifn_adata.obs['cell_type'] == 'CD4 T cells - stim'][:, ['ID2', 'IFI6']].X.toarray()\n",
    "\n",
    "cd8_ctrl_data = ifn_adata[ifn_adata.obs['cell_type'] == 'CD8 T cells - ctrl'][:, ['ID2', 'IFI6']].X.toarray()\n",
    "cd8_stim_data = ifn_adata[ifn_adata.obs['cell_type'] == 'CD8 T cells - stim'][:, ['ID2', 'IFI6']].X.toarray()"
   ]
  },
  {
   "cell_type": "code",
   "execution_count": 197,
   "metadata": {},
   "outputs": [],
   "source": [
    "gene_1_idx = ifn_adata.var.loc['ID2', :]['gene_idx']\n",
    "gene_2_idx = ifn_adata.var.loc['IFI6', :]['gene_idx']"
   ]
  },
  {
   "cell_type": "code",
   "execution_count": 199,
   "metadata": {},
   "outputs": [
    {
     "data": {
      "text/plain": [
       "1.2068241"
      ]
     },
     "execution_count": 199,
     "metadata": {},
     "output_type": "execute_result"
    }
   ],
   "source": [
    "ifn_moment_dict_1d['CD4 T cells - ctrl']['first'][gene_1_idx]"
   ]
  },
  {
   "cell_type": "code",
   "execution_count": 243,
   "metadata": {},
   "outputs": [
    {
     "data": {
      "image/png": "[encoded data removed]",
      "text/plain": [
       "<Figure size 432x288 with 2 Axes>"
      ]
     },
     "metadata": {
      "needs_background": "light"
     },
     "output_type": "display_data"
    }
   ],
   "source": [
    "fig, ax1 = plt.subplots()\n",
    "\n",
    "plot_2d_discrete(cd8_ctrl_data, offset=0.2, ax=ax1)\n",
    "plot_2d_discrete(cd8_stim_data, offset=-0.2, ax=ax1)\n",
    "\n",
    "ax2 = ax1.twinx()\n",
    "line_from_correlation(\n",
    "    corr=ctrl_corrs[3],\n",
    "    corr_ci=ctrl_ci[3],\n",
    "    x=cd8_ctrl_data[:, 0],\n",
    "    y=cd8_ctrl_data[:, 1],\n",
    "    mu_x=ifn_moment_dict_1d['CD8 T cells - ctrl']['first'][gene_1_idx],\n",
    "    mu_y=ifn_moment_dict_1d['CD8 T cells - ctrl']['first'][gene_2_idx],\n",
    "    sigma_x=ifn_moment_dict_1d['CD8 T cells - ctrl']['second'][gene_1_idx],\n",
    "    sigma_y=ifn_moment_dict_1d['CD8 T cells - ctrl']['second'][gene_2_idx],\n",
    "    color_order=0,\n",
    "    ax=ax2\n",
    "    )\n",
    "\n",
    "line_from_correlation(\n",
    "    corr=stim_corrs[3],\n",
    "    corr_ci=stim_ci[3],\n",
    "    x=cd8_stim_data[:, 0],\n",
    "    y=cd8_stim_data[:, 1],\n",
    "    mu_x=ifn_moment_dict_1d['CD8 T cells - stim']['first'][gene_1_idx],\n",
    "    mu_y=ifn_moment_dict_1d['CD8 T cells - stim']['first'][gene_2_idx],\n",
    "    sigma_x=ifn_moment_dict_1d['CD8 T cells - stim']['second'][gene_1_idx],\n",
    "    sigma_y=ifn_moment_dict_1d['CD8 T cells - stim']['second'][gene_2_idx],\n",
    "    color_order=1,\n",
    "    ax=ax2\n",
    "    )\n",
    "\n",
    "ax1.set_xlim(-1,8);\n",
    "ax1.set_xlabel('ID2 Expression');\n",
    "ax1.set_ylabel('Observed IFI6 expression');\n",
    "ax2.set_ylabel('Estimated IFI6 expression');\n",
    "ax1.set_title('CD8 T cells')\n",
    "\n",
    "fig.tight_layout()\n",
    "\n",
    "fig.savefig(data_path + 'figures/fig3/CD8_ID2_IFI6.pdf')\n"
   ]
  },
  {
   "cell_type": "code",
   "execution_count": 237,
   "metadata": {},
   "outputs": [
    {
     "data": {
      "text/plain": [
       "Text(0.5, 1.0, 'CD4 T cells')"
      ]
     },
     "execution_count": 237,
     "metadata": {},
     "output_type": "execute_result"
    },
    {
     "data": {
      "image/png": "[encoded data removed]",
      "text/plain": [
       "<Figure size 432x288 with 2 Axes>"
      ]
     },
     "metadata": {
      "needs_background": "light"
     },
     "output_type": "display_data"
    }
   ],
   "source": [
    "fig, ax1 = plt.subplots()\n",
    "\n",
    "plot_2d_discrete(cd4_ctrl_data, offset=0.2, ax=ax1)\n",
    "plot_2d_discrete(cd4_stim_data, offset=-0.2, ax=ax1)\n",
    "\n",
    "ax2 = ax1.twinx()\n",
    "line_from_correlation(\n",
    "    corr=ctrl_corrs[1],\n",
    "    corr_ci=ctrl_ci[1],\n",
    "    x=cd4_ctrl_data[:, 0],\n",
    "    y=cd4_ctrl_data[:, 1],\n",
    "    mu_x=ifn_moment_dict_1d['CD4 T cells - ctrl']['first'][gene_1_idx],\n",
    "    mu_y=ifn_moment_dict_1d['CD4 T cells - ctrl']['first'][gene_2_idx],\n",
    "    sigma_x=ifn_moment_dict_1d['CD4 T cells - ctrl']['second'][gene_1_idx],\n",
    "    sigma_y=ifn_moment_dict_1d['CD4 T cells - ctrl']['second'][gene_2_idx],\n",
    "    color_order=0,\n",
    "    ax=ax2\n",
    "    )\n",
    "\n",
    "line_from_correlation(\n",
    "    corr=stim_corrs[1],\n",
    "    corr_ci=stim_ci[1],\n",
    "    x=cd4_stim_data[:, 0],\n",
    "    y=cd4_stim_data[:, 1],\n",
    "    mu_x=ifn_moment_dict_1d['CD4 T cells - stim']['first'][gene_1_idx],\n",
    "    mu_y=ifn_moment_dict_1d['CD4 T cells - stim']['first'][gene_2_idx],\n",
    "    sigma_x=ifn_moment_dict_1d['CD4 T cells - stim']['second'][gene_1_idx],\n",
    "    sigma_y=ifn_moment_dict_1d['CD4 T cells - stim']['second'][gene_2_idx],\n",
    "    color_order=1,\n",
    "    ax=ax2\n",
    "    )\n",
    "\n",
    "ax1.set_xlim(-1,8);\n",
    "ax1.set_xlabel('ID2 Expression');\n",
    "ax1.set_ylabel('Observed IFI6 expression');\n",
    "ax2.set_ylabel('Estimated IFI6 expression');\n",
    "ax1.set_title('CD4 T cells')"
   ]
  }
 ],
 "metadata": {
  "kernelspec": {
   "display_name": "Python 3",
   "language": "python",
   "name": "python3"
  },
  "language_info": {
   "codemirror_mode": {
    "name": "ipython",
    "version": 3
   },
   "file_extension": ".py",
   "mimetype": "text/x-python",
   "name": "python",
   "nbconvert_exporter": "python",
   "pygments_lexer": "ipython3",
   "version": "3.7.5"
  }
 },
 "nbformat": 4,
 "nbformat_minor": 4
}
