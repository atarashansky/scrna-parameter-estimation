{
 "cells": [
  {
   "cell_type": "markdown",
   "metadata": {},
   "source": [
    "# Assess the Poisson estimator"
   ]
  },
  {
   "cell_type": "code",
   "execution_count": 2,
   "metadata": {},
   "outputs": [
    {
     "name": "stderr",
     "output_type": "stream",
     "text": [
      "/home/ssm-user/anaconda3/envs/single_cell/lib/python3.7/site-packages/scanpy/api/__init__.py:6: FutureWarning: \n",
      "\n",
      "In a future version of Scanpy, `scanpy.api` will be removed.\n",
      "Simply use `import scanpy as sc` and `import scanpy.external as sce` instead.\n",
      "\n",
      "  FutureWarning,\n"
     ]
    }
   ],
   "source": [
    "import pandas as pd\n",
    "import matplotlib.pyplot as plt\n",
    "import scanpy.api as sc\n",
    "import scipy as sp\n",
    "import itertools\n",
    "import numpy as np\n",
    "import scipy.stats as stats\n",
    "from scipy.integrate import dblquad\n",
    "import seaborn as sns\n",
    "from statsmodels.stats.multitest import fdrcorrection\n",
    "import imp\n",
    "pd.options.display.max_rows = 999\n",
    "pd.set_option('display.max_colwidth', -1)\n",
    "import pickle as pkl\n",
    "import time"
   ]
  },
  {
   "cell_type": "code",
   "execution_count": 291,
   "metadata": {},
   "outputs": [],
   "source": [
    "import matplotlib as mpl\n",
    "mpl.rcParams['pdf.fonttype'] = 42\n",
    "mpl.rcParams['ps.fonttype'] = 42\n",
    "\n",
    "import matplotlib.pylab as pylab\n",
    "params = {'legend.fontsize': 'medium',\n",
    "         'axes.labelsize': 'medium',\n",
    "         'axes.titlesize':'medium',\n",
    "         'figure.titlesize':'medium',\n",
    "         'xtick.labelsize':'small',\n",
    "         'ytick.labelsize':'small'}\n",
    "pylab.rcParams.update(params)\n"
   ]
  },
  {
   "cell_type": "code",
   "execution_count": 3,
   "metadata": {},
   "outputs": [],
   "source": [
    "import sys\n",
    "sys.path.append('/home/ssm-user/Github/scrna-parameter-estimation/scmemo')\n",
    "import estimator, simulate"
   ]
  },
  {
   "cell_type": "code",
   "execution_count": 5,
   "metadata": {},
   "outputs": [],
   "source": [
    "import sys\n",
    "sys.path.append('/home/ssm-user/Github/single_cell_eb/sceb')\n",
    "import scdd"
   ]
  },
  {
   "cell_type": "markdown",
   "metadata": {},
   "source": [
    "### Check 1D estimates of `sceb` with `scmemo`\n",
    "\n",
    "Using the Poisson model. The outputs should be identical, this is for checking the implementation. "
   ]
  },
  {
   "cell_type": "code",
   "execution_count": 33,
   "metadata": {},
   "outputs": [],
   "source": [
    "data = sp.sparse.csr_matrix(simulate.simulate_transcriptomes(100, 20))\n",
    "adata = sc.AnnData(data)"
   ]
  },
  {
   "cell_type": "code",
   "execution_count": 34,
   "metadata": {},
   "outputs": [
    {
     "name": "stdout",
     "output_type": "stream",
     "text": [
      "#time start: 0.0s\n",
      "n_cell=100, n_gene=20\n",
      "#total: 0.00s\n",
      "[3.93040e+00 2.11900e-01 3.55640e+00 5.84000e-02 6.96000e+00 5.71924e+01\n",
      " 5.28400e-01 4.28360e+00 2.85840e+00 5.45990e+00 2.96400e-01 1.97500e-01\n",
      " 3.63100e-01 1.74640e+00 1.64440e+00 1.00000e-18 1.28000e+00 1.64390e+00\n",
      " 7.03000e+01 1.16400e-01]\n"
     ]
    }
   ],
   "source": [
    "_, M_dd = scdd.dd_1d_moment(adata)\n",
    "var_scdd = scdd.M_to_var(M_dd)\n",
    "print(var_scdd)"
   ]
  },
  {
   "cell_type": "code",
   "execution_count": 35,
   "metadata": {},
   "outputs": [
    {
     "name": "stdout",
     "output_type": "stream",
     "text": [
      "[3.93040e+00 2.11900e-01 3.55640e+00 5.84000e-02 6.96000e+00 5.71924e+01\n",
      " 5.28400e-01 4.28360e+00 2.85840e+00 5.45990e+00 2.96400e-01 1.97500e-01\n",
      " 3.63100e-01 1.74640e+00 1.64440e+00 0.00000e+00 1.28000e+00 1.64390e+00\n",
      " 7.03000e+01 1.16400e-01]\n"
     ]
    }
   ],
   "source": [
    "mean_scmemo, var_scmemo = estimator._poisson_1d(data, data.shape[0])\n",
    "print(var_scmemo)"
   ]
  },
  {
   "cell_type": "code",
   "execution_count": 36,
   "metadata": {},
   "outputs": [
    {
     "name": "stdout",
     "output_type": "stream",
     "text": [
      "(0.36, 3.9303999999999997)\n"
     ]
    }
   ],
   "source": [
    "expr, count = np.unique(data[:, 0].todense().A1, return_counts=True)\n",
    "print(estimator._poisson_1d((expr, count), data.shape[0]))"
   ]
  },
  {
   "cell_type": "markdown",
   "metadata": {},
   "source": [
    "### Check 2D estimates of `sceb` and `scmemo`\n",
    "\n",
    "Using the Poisson model. The outputs should be identical, this is for checking the implementation. "
   ]
  },
  {
   "cell_type": "code",
   "execution_count": 46,
   "metadata": {},
   "outputs": [],
   "source": [
    "data = sp.sparse.csr_matrix(simulate.simulate_transcriptomes(1000, 4))\n",
    "adata = sc.AnnData(data)"
   ]
  },
  {
   "cell_type": "code",
   "execution_count": 57,
   "metadata": {},
   "outputs": [
    {
     "name": "stdout",
     "output_type": "stream",
     "text": [
      "[[ 3.11909336e+00  8.06994271e-03 -3.71901579e-02  4.54240608e-01]\n",
      " [ 8.06994271e-03  4.30519008e-01 -3.52229811e-02 -1.23391799e-01]\n",
      " [-3.71901579e-02 -3.52229811e-02  6.72959152e+00  7.19866741e-01]\n",
      " [ 4.54240608e-01 -1.23391799e-01  7.19866741e-01  3.07234858e+01]]\n"
     ]
    }
   ],
   "source": [
    "mean_scdd, cov_scdd, corr_scdd = scdd.dd_covariance(adata)\n",
    "print(cov_scdd)"
   ]
  },
  {
   "cell_type": "code",
   "execution_count": 76,
   "metadata": {},
   "outputs": [
    {
     "name": "stdout",
     "output_type": "stream",
     "text": [
      "[[ 3.1191000e+00  8.0700000e-03 -3.7190000e-02  4.5424000e-01]\n",
      " [ 8.0700000e-03  4.3051900e-01 -3.5223000e-02 -1.2339200e-01]\n",
      " [-3.7190000e-02 -3.5223000e-02  6.7295910e+00  7.1986400e-01]\n",
      " [ 4.5424000e-01 -1.2339200e-01  7.1986400e-01  3.0723456e+01]]\n"
     ]
    }
   ],
   "source": [
    "imp.reload(estimator)\n",
    "cov_scmemo = estimator._poisson_cov(data, data.shape[0])\n",
    "print(cov_scmemo)"
   ]
  },
  {
   "cell_type": "markdown",
   "metadata": {},
   "source": [
    "### Variance/correlation estimation while varying q_sq"
   ]
  },
  {
   "cell_type": "code",
   "execution_count": 422,
   "metadata": {},
   "outputs": [],
   "source": [
    "q = 0.1\n",
    "q_sq_list =[0.1**2+1e-6, 0.0102, 0.0106, 0.012]"
   ]
  },
  {
   "cell_type": "code",
   "execution_count": 414,
   "metadata": {},
   "outputs": [],
   "source": [
    "import warnings\n",
    "warnings.filterwarnings(\"ignore\")\n"
   ]
  },
  {
   "cell_type": "code",
   "execution_count": 449,
   "metadata": {},
   "outputs": [
    {
     "data": {
      "image/png": "[encoded data removed]",
      "text/plain": [
       "<Figure size 504x360 with 12 Axes>"
      ]
     },
     "metadata": {
      "needs_background": "light"
     },
     "output_type": "display_data"
    }
   ],
   "source": [
    "plt.figure(figsize=(7, 5))\n",
    "plt.subplots_adjust(hspace=1.1, wspace=0.3)\n",
    "num_subplot_col = len(q_sq_list)\n",
    "num_subplot_row = 3\n",
    "\n",
    "for col_num, q_sq in enumerate(q_sq_list):\n",
    "    \n",
    "    true_data = simulate.simulate_transcriptomes(5000, 1000, correlated=True)\n",
    "    qs, captured_data = simulate.capture_sampling(true_data, q, q_sq)\n",
    "    adata = sc.AnnData(sp.sparse.csr_matrix(captured_data))\n",
    "\n",
    "    \n",
    "    x_true, y_true = np.log(true_data.mean(axis=0)), np.log(true_data.var(axis=0))\n",
    "    x_obs, y_obs = np.log(captured_data.mean(axis=0)), np.log(captured_data.var(axis=0))\n",
    "    \n",
    "    _, M_dd = scdd.dd_1d_moment(adata, size_factor=scdd.dd_size_factor(adata), verbose=False)\n",
    "    var_scdd = scdd.M_to_var(M_dd)/q**2\n",
    "    \n",
    "    mean_scdd, _, corr_scdd = scdd.dd_covariance(adata, size_factor=scdd.dd_size_factor(adata))\n",
    "    corr_scdd[corr_scdd == 0] = np.nan\n",
    "    \n",
    "    condition = np.log(var_scdd) > -20\n",
    "    \n",
    "    true_corrs = np.corrcoef(true_data, rowvar=False).ravel()\n",
    "    estimated_corrs = corr_scdd.ravel()\n",
    "    corr_cond = np.isfinite(estimated_corrs)\n",
    "    true_corrs = true_corrs[corr_cond]\n",
    "    estimated_corrs = estimated_corrs[corr_cond]\n",
    "    \n",
    "    plt.subplot(num_subplot_row, num_subplot_col, col_num+1)\n",
    "    sns.distplot(qs)\n",
    "    plt.xlabel('q, Var(q)={:.1e}'.format(q_sq-q**2))\n",
    "    plt.xlim(0, 0.5)\n",
    "    if col_num == 0:\n",
    "        plt.ylabel('Density')\n",
    "        \n",
    "    plt.subplot(num_subplot_row, num_subplot_col, col_num+1+num_subplot_col)\n",
    "    plt.plot(y_true, y_true, color='m', lw=1)\n",
    "    plt.scatter(y_true[condition], np.log(var_scdd)[condition], s=1)\n",
    "    plt.xlabel('True variance');\n",
    "    if col_num == 0:\n",
    "        plt.ylabel('Estimated\\nvariance')\n",
    "    plt.title('R={:.3f}'.format(stats.pearsonr(np.log(var_scdd)[condition], y_true[condition])[0]))\n",
    "    \n",
    "    sample_idxs = np.random.choice(estimated_corrs.shape[0], 5000, replace=False)\n",
    "    plt.subplot(num_subplot_row, num_subplot_col, col_num+1+num_subplot_col*2)\n",
    "    plt.plot(true_corrs, true_corrs, color='m', lw=1)\n",
    "    plt.scatter(true_corrs, estimated_corrs, s=.01, alpha=0.01)\n",
    "    plt.xlabel('True correlation');\n",
    "    if col_num == 0:\n",
    "        plt.ylabel('Estimated\\ncorrelation')\n",
    "    plt.title('R={:.3f}'.format(stats.pearsonr(true_corrs, estimated_corrs)[0]))\n",
    "    "
   ]
  },
  {
   "cell_type": "code",
   "execution_count": 494,
   "metadata": {},
   "outputs": [
    {
     "data": {
      "text/plain": [
       "<Figure size 504x360 with 0 Axes>"
      ]
     },
     "metadata": {},
     "output_type": "display_data"
    }
   ],
   "source": [
    "plt.figure(figsize=(7, 5))\n",
    "plt.subplots_adjust(hspace=1.1, wspace=0.3)\n",
    "num_subplot_col = len(q_sq_list)\n",
    "num_subplot_row = 3\n",
    "\n",
    "q_sq = 0.011\n",
    "true_data = simulate.simulate_transcriptomes(5000, 1000, correlated=False)\n",
    "qs, captured_data = simulate.capture_sampling(true_data, q, q_sq)\n",
    "adata = sc.AnnData(sp.sparse.csr_matrix(captured_data))\n",
    "\n",
    "\n",
    "x_true, y_true = np.log(true_data.mean(axis=0)), np.log(true_data.var(axis=0))\n",
    "x_obs, y_obs = np.log(captured_data.mean(axis=0)), np.log(captured_data.var(axis=0))\n",
    "\n",
    "_, M_dd = scdd.dd_1d_moment(adata, size_factor=scdd.dd_size_factor(adata), verbose=False)\n",
    "var_scdd = scdd.M_to_var(M_dd)/q**2\n",
    "\n",
    "mean_scdd, _, corr_scdd = scdd.dd_covariance(adata, size_factor=None)\n",
    "corr_scdd[corr_scdd == 0] = np.nan\n",
    "\n",
    "condition = np.log(var_scdd) > -20\n",
    "\n",
    "true_corrs = np.corrcoef(true_data, rowvar=False).ravel()\n",
    "estimated_corrs = corr_scdd.ravel()\n",
    "corr_cond = np.isfinite(estimated_corrs)\n",
    "true_corrs = true_corrs[corr_cond]\n",
    "estimated_corrs = estimated_corrs[corr_cond]\n",
    "    \n",
    "    "
   ]
  },
  {
   "cell_type": "code",
   "execution_count": 565,
   "metadata": {},
   "outputs": [],
   "source": [
    "size_factors = scdd.dd_size_factor(adata)\n",
    "one_gene_data = captured_data[:, 1]"
   ]
  },
  {
   "cell_type": "code",
   "execution_count": 566,
   "metadata": {},
   "outputs": [
    {
     "data": {
      "text/plain": [
       "110.39632763999998"
      ]
     },
     "execution_count": 566,
     "metadata": {},
     "output_type": "execute_result"
    }
   ],
   "source": [
    "true_data[:, 1].var()"
   ]
  },
  {
   "cell_type": "code",
   "execution_count": 567,
   "metadata": {},
   "outputs": [
    {
     "data": {
      "text/plain": [
       "98.58771295507152"
      ]
     },
     "execution_count": 567,
     "metadata": {},
     "output_type": "execute_result"
    }
   ],
   "source": [
    "var_scdd[1]"
   ]
  },
  {
   "cell_type": "code",
   "execution_count": 568,
   "metadata": {},
   "outputs": [
    {
     "data": {
      "text/plain": [
       "2.6418814659118652"
      ]
     },
     "execution_count": 568,
     "metadata": {},
     "output_type": "execute_result"
    }
   ],
   "source": [
    "M_dd[1][1]"
   ]
  },
  {
   "cell_type": "code",
   "execution_count": 569,
   "metadata": {},
   "outputs": [
    {
     "data": {
      "text/plain": [
       "2.6418814714856813"
      ]
     },
     "execution_count": 569,
     "metadata": {},
     "output_type": "execute_result"
    }
   ],
   "source": [
    "((one_gene_data/size_factors)**2).mean()-(one_gene_data/size_factors**2).mean()"
   ]
  },
  {
   "cell_type": "code",
   "execution_count": 590,
   "metadata": {},
   "outputs": [
    {
     "data": {
      "text/plain": [
       "array([1.2091846 , 1.1135845 , 1.0489603 , 1.0017892 , 0.9314381 ,\n",
       "       0.9136544 , 0.8358464 , 0.8363028 , 0.90861374, 0.8686444 ,\n",
       "       0.8365793 , 0.7526174 , 0.71429   , 0.66574705], dtype=float32)"
      ]
     },
     "execution_count": 590,
     "metadata": {},
     "output_type": "execute_result"
    }
   ],
   "source": [
    "((one_gene_data/size_factors)**2).mean()-(one_gene_data/size_factors**2).mean()"
   ]
  },
  {
   "cell_type": "code",
   "execution_count": 595,
   "metadata": {},
   "outputs": [
    {
     "data": {
      "text/plain": [
       "4.0687745719300805"
      ]
     },
     "execution_count": 595,
     "metadata": {},
     "output_type": "execute_result"
    }
   ],
   "source": [
    "((one_gene_data/size_factors)**2).mean()"
   ]
  },
  {
   "cell_type": "code",
   "execution_count": 608,
   "metadata": {},
   "outputs": [
    {
     "data": {
      "text/plain": [
       "2.641881494450569"
      ]
     },
     "execution_count": 608,
     "metadata": {},
     "output_type": "execute_result"
    }
   ],
   "source": [
    "(expr**2*count*df.groupby('expr')['inv_cell_size_sq'].mean()).sum()/count.sum() - (expr*count*df.groupby('expr')['inv_cell_size_sq'].mean()).sum()/count.sum()"
   ]
  },
  {
   "cell_type": "code",
   "execution_count": 609,
   "metadata": {},
   "outputs": [],
   "source": [
    "#Real bootstrap\n",
    "real_boot_vars = []\n",
    "for trial in range(5000):\n",
    "    \n",
    "    boot_idxs = np.random.choice(one_gene_data.shape[0], one_gene_data.shape[0])\n",
    "    expr = one_gene_data[boot_idxs]\n",
    "    second = ((one_gene_data[boot_idxs]/size_factors[boot_idxs])**2).mean()-(one_gene_data[boot_idxs]/size_factors[boot_idxs]**2).mean()\n",
    "    first = (one_gene_data[boot_idxs]/size_factors[boot_idxs]).mean()\n",
    "    \n",
    "    real_boot_vars.append(second)\n",
    "real_boot_vars = np.array(real_boot_vars)"
   ]
  },
  {
   "cell_type": "code",
   "execution_count": 617,
   "metadata": {},
   "outputs": [],
   "source": [
    "expr, count = np.unique(one_gene_data, return_counts=True)\n",
    "freq = count/count.sum()\n",
    "multi_rvs = stats.multinomial.rvs(one_gene_data.shape[0], freq, size=1000)"
   ]
  },
  {
   "cell_type": "code",
   "execution_count": 624,
   "metadata": {},
   "outputs": [],
   "source": [
    "approx_boot_vars = (expr**2*multi_rvs*df.groupby('expr')['inv_cell_size_sq'].mean().values).sum(axis=1)/count.sum() - \\\n",
    "    (expr*multi_rvs*df.groupby('expr')['inv_cell_size_sq'].mean().values).sum(axis=1)/count.sum()"
   ]
  },
  {
   "cell_type": "code",
   "execution_count": 629,
   "metadata": {},
   "outputs": [
    {
     "data": {
      "text/plain": [
       "<matplotlib.legend.Legend at 0x7f9aae046290>"
      ]
     },
     "execution_count": 629,
     "metadata": {},
     "output_type": "execute_result"
    },
    {
     "data": {
      "image/png": "[encoded data removed]",
      "text/plain": [
       "<Figure size 432x288 with 1 Axes>"
      ]
     },
     "metadata": {
      "needs_background": "light"
     },
     "output_type": "display_data"
    }
   ],
   "source": [
    "sns.distplot(real_boot_vars, label='Actual bootstrap', hist=False)\n",
    "sns.distplot(approx_boot_vars, label='Approximate bootstrap', hist=False)\n",
    "plt.legend()"
   ]
  },
  {
   "cell_type": "code",
   "execution_count": 600,
   "metadata": {},
   "outputs": [],
   "source": [
    "df = pd.DataFrame()\n",
    "df['cell_size'] = size_factors\n",
    "df['cell_size_sq'] = size_factors**2\n",
    "df['inv_cell_size'] = 1/size_factors\n",
    "df['inv_cell_size_sq'] = 1/(size_factors**2)\n",
    "df['expr'] = one_gene_data"
   ]
  },
  {
   "cell_type": "code",
   "execution_count": 601,
   "metadata": {},
   "outputs": [],
   "source": [
    "inv_cell_sizes = df.groupby('expr')['inv_cell_size'].mean().values\n",
    "cell_sizes = df.groupby('expr')['cell_size'].mean().values"
   ]
  },
  {
   "cell_type": "code",
   "execution_count": 602,
   "metadata": {},
   "outputs": [],
   "source": [
    "expr, count = np.unique(one_gene_data, return_counts=True)\n",
    "freq = count/count.sum()\n",
    "multi_rvs = stats.multinomial.rvs(one_gene_data.shape[0], freq, size=1000)"
   ]
  },
  {
   "cell_type": "code",
   "execution_count": 578,
   "metadata": {},
   "outputs": [
    {
     "data": {
      "text/plain": [
       "4.1872"
      ]
     },
     "execution_count": 578,
     "metadata": {},
     "output_type": "execute_result"
    }
   ],
   "source": [
    "(expr**2*count).sum()/count.sum()"
   ]
  },
  {
   "cell_type": "code",
   "execution_count": 554,
   "metadata": {},
   "outputs": [
    {
     "data": {
      "text/plain": [
       "(1000, 14)"
      ]
     },
     "execution_count": 554,
     "metadata": {},
     "output_type": "execute_result"
    }
   ],
   "source": [
    "multi_rvs.shape"
   ]
  },
  {
   "cell_type": "code",
   "execution_count": 564,
   "metadata": {},
   "outputs": [
    {
     "data": {
      "text/plain": [
       "array([1590.13998841, 1544.63714627, 1526.15521178, 1500.69539085,\n",
       "       1502.11796369, 1525.2003527 , 1553.2376085 , 1544.8527227 ,\n",
       "       1481.78993623, 1532.63523515, 1510.39087821, 1480.34732131,\n",
       "       1492.72265381, 1541.74792448, 1498.40365236, 1511.44798672,\n",
       "       1470.32836061, 1611.38564071, 1477.56989532, 1450.2616776 ,\n",
       "       1517.76002154, 1498.1844177 , 1494.67651791, 1528.8370728 ,\n",
       "       1493.78395568, 1452.21156968, 1479.45288255, 1575.72843802,\n",
       "       1566.23874819, 1434.02573659, 1489.02959583, 1472.72123359,\n",
       "       1565.37082148, 1518.85787768, 1584.85700774, 1603.98655854,\n",
       "       1515.84451105, 1451.24015293, 1577.99200114, 1536.92694896,\n",
       "       1517.52536704, 1527.7813499 , 1526.5864229 , 1522.08066466,\n",
       "       1538.44840555, 1560.34216059, 1526.03411101, 1563.56635077,\n",
       "       1469.83634531, 1498.06579906, 1475.43727245, 1472.44840223,\n",
       "       1593.76956277, 1503.63664532, 1442.00976167, 1510.57162208,\n",
       "       1510.18567073, 1504.79479205, 1492.72968189, 1552.5450927 ,\n",
       "       1480.79130586, 1529.92828542, 1555.22377004, 1507.30406576,\n",
       "       1459.32649156, 1548.68880707, 1544.16668788, 1489.47759981,\n",
       "       1515.94959411, 1541.20590164, 1578.80312789, 1532.05589725,\n",
       "       1454.75959682, 1509.5601117 , 1577.70745511, 1609.48408114,\n",
       "       1577.22120338, 1548.62121522, 1527.88560587, 1535.93780461,\n",
       "       1526.47418663, 1521.70681794, 1484.42943855, 1585.05352569,\n",
       "       1516.6049732 , 1513.88097691, 1476.66832013, 1613.4546387 ,\n",
       "       1492.4485824 , 1579.14076365, 1515.88392788, 1540.02079196,\n",
       "       1498.60033481, 1507.37937103, 1492.0847916 , 1542.7318294 ,\n",
       "       1601.81296466, 1498.84027693, 1552.62378259, 1630.77430147,\n",
       "       1492.51516829, 1551.96325721, 1529.45832465, 1510.73759426,\n",
       "       1493.21294121, 1571.66896525, 1562.2016323 , 1570.89435038,\n",
       "       1462.47550779, 1491.96047196, 1545.81498285, 1602.62419032,\n",
       "       1542.14117348, 1465.63720685, 1433.9984956 , 1460.60067373,\n",
       "       1572.95413479, 1532.18684889, 1445.77689817, 1495.44920872,\n",
       "       1528.0202611 , 1518.38558324, 1548.9351616 , 1574.61182221,\n",
       "       1519.72784067, 1498.40701594, 1473.18916307, 1489.27988135,\n",
       "       1547.38391086, 1583.8432234 , 1521.96315948, 1487.53043716,\n",
       "       1501.01010484, 1618.87728254, 1461.34891559, 1522.24514437,\n",
       "       1500.1896595 , 1556.09802941, 1567.05503549, 1491.31074555,\n",
       "       1507.42737548, 1493.09789705, 1458.39749727, 1505.0672392 ,\n",
       "       1458.3083676 , 1477.59971503, 1518.51264655, 1551.52949046,\n",
       "       1561.72698114, 1486.75294334, 1487.51433717, 1524.06468126,\n",
       "       1435.76099314, 1473.83558117, 1490.49477842, 1619.57134552,\n",
       "       1567.9229015 , 1532.67977032, 1501.95991998, 1554.32955343,\n",
       "       1513.83488123, 1531.28647436, 1475.10043944, 1464.101112  ,\n",
       "       1503.08768945, 1541.2914715 , 1573.71712386, 1543.49079765,\n",
       "       1483.06494035, 1497.46608859, 1556.95236162, 1544.12193262,\n",
       "       1446.25093445, 1565.96514477, 1586.70444113, 1466.13370414,\n",
       "       1468.18845206, 1538.23974347, 1502.38753394, 1517.93184958,\n",
       "       1542.5931086 , 1530.93683442, 1574.43738126, 1514.39215956,\n",
       "       1467.8159492 , 1527.16200339, 1433.01971184, 1473.13926986,\n",
       "       1564.77369596, 1500.61591555, 1603.72450756, 1586.35366976,\n",
       "       1553.7294435 , 1452.11504139, 1461.54099623, 1450.30564141,\n",
       "       1500.24485155, 1478.72928525, 1536.24819866, 1455.72722827,\n",
       "       1489.87597971, 1598.29383611, 1509.05245348, 1542.84272372,\n",
       "       1526.81779295, 1440.09873937, 1553.40404074, 1420.70886223,\n",
       "       1488.66055748, 1484.48483557, 1488.60209092, 1588.99954125,\n",
       "       1470.96041968, 1584.77897501, 1552.47543795, 1476.62982821,\n",
       "       1512.90610723, 1511.60356432, 1509.49618083, 1467.71122576,\n",
       "       1537.34931033, 1510.81195124, 1525.44184663, 1487.37360363,\n",
       "       1427.84728306, 1482.23264207, 1500.66126167, 1556.01275621,\n",
       "       1506.81239508, 1461.02888487, 1437.3856585 , 1555.42778152,\n",
       "       1499.28196717, 1470.99726198, 1561.56171833, 1555.91087743,\n",
       "       1547.15978513, 1508.91632   , 1510.37537792, 1522.43460729,\n",
       "       1500.51205671, 1530.82224062, 1592.31661768, 1560.20406818,\n",
       "       1488.98254648, 1516.27014067, 1565.85862518, 1465.04766376,\n",
       "       1543.45926909, 1560.09152865, 1498.61667719, 1559.50268749,\n",
       "       1462.05966748, 1463.52088661, 1560.79428196, 1528.9736329 ,\n",
       "       1484.63890327, 1549.89802152, 1512.21680899, 1579.38973599,\n",
       "       1498.36564277, 1518.01524357, 1502.81135501, 1538.58502902,\n",
       "       1537.33292145, 1489.9791489 , 1538.13383647, 1485.38899051,\n",
       "       1444.81764301, 1465.09801458, 1579.57353635, 1459.08634068,\n",
       "       1528.62882258, 1543.88244844, 1551.00285114, 1547.32482192,\n",
       "       1550.35702545, 1526.54948519, 1534.347824  , 1523.75719242,\n",
       "       1455.16921558, 1505.62943887, 1512.6679696 , 1532.69703481,\n",
       "       1533.85034372, 1519.80831097, 1487.26807288, 1540.67692451,\n",
       "       1524.97974273, 1465.57937997, 1462.65278676, 1495.09035064,\n",
       "       1484.95464451, 1465.46791333, 1615.64428044, 1546.21303293,\n",
       "       1595.25050549, 1464.57437453, 1488.03327856, 1514.61935477,\n",
       "       1518.54030741, 1495.84374068, 1543.28918394, 1509.27103646,\n",
       "       1441.73080458, 1483.65434102, 1489.42890504, 1496.34150723,\n",
       "       1575.22971966, 1487.48414936, 1591.20084675, 1465.23742755,\n",
       "       1499.94868769, 1498.95583695, 1465.76480322, 1529.17531999,\n",
       "       1478.73503443, 1626.88926398, 1537.13122895, 1516.69177581,\n",
       "       1468.12450139, 1533.2035671 , 1541.86718122, 1543.3334726 ,\n",
       "       1458.89520223, 1517.82676654, 1524.9532015 , 1504.73770928,\n",
       "       1537.15073254, 1531.42567053, 1511.55961798, 1485.19737915,\n",
       "       1531.45029977, 1500.1642889 , 1580.60861199, 1526.74792677,\n",
       "       1498.31106895, 1495.42196588, 1451.17887446, 1536.99683564,\n",
       "       1530.91851098, 1506.1882948 , 1527.26409286, 1603.74486764,\n",
       "       1507.72580154, 1521.40641634, 1490.05449492, 1555.97278392,\n",
       "       1525.18438521, 1477.75148526, 1549.54285835, 1555.77709078,\n",
       "       1532.85414019, 1566.61485675, 1478.15666013, 1517.81099659,\n",
       "       1536.4925299 , 1548.28865779, 1491.12559867, 1480.91902357,\n",
       "       1529.85515908, 1566.06969222, 1608.41837801, 1542.70360059,\n",
       "       1488.6320251 , 1604.45378255, 1520.64646186, 1555.980572  ,\n",
       "       1481.95909345, 1510.54502265, 1554.9983279 , 1512.77660712,\n",
       "       1510.50333099, 1516.34811339, 1530.52887734, 1528.41426284,\n",
       "       1620.21752812, 1449.91661466, 1565.95668225, 1500.20378386,\n",
       "       1521.2688021 , 1524.79500034, 1563.41736953, 1552.51748248,\n",
       "       1536.53324271, 1559.15609823, 1510.2820806 , 1556.23950079,\n",
       "       1515.4555492 , 1509.93722602, 1564.58093759, 1500.77133567,\n",
       "       1433.39840507, 1586.67133727, 1543.26710732, 1577.61474885,\n",
       "       1500.6083519 , 1489.84177643, 1570.61995316, 1543.72814816,\n",
       "       1476.63146275, 1438.30239249, 1566.31633381, 1545.27085045,\n",
       "       1603.09087654, 1519.47937157, 1483.33824493, 1547.74493284,\n",
       "       1567.8189587 , 1538.50988344, 1533.18207839, 1558.48849077,\n",
       "       1508.16887621, 1522.42245632, 1582.81      , 1461.36673197,\n",
       "       1499.76453223, 1467.05749398, 1469.8051849 , 1488.79844993,\n",
       "       1522.85657841, 1477.43655582, 1546.20949519, 1505.160253  ,\n",
       "       1511.87322396, 1469.60391734, 1502.74086442, 1435.14596647,\n",
       "       1533.79023596, 1557.7888532 , 1478.91130852, 1591.99163646,\n",
       "       1479.69161325, 1546.43017889, 1511.76975439, 1584.09383341,\n",
       "       1502.91877082, 1488.70064818, 1531.16439391, 1543.7801166 ,\n",
       "       1464.16611735, 1509.27520941, 1481.6576151 , 1566.15484311,\n",
       "       1552.26330855, 1545.43623332, 1548.00936884, 1542.84541146,\n",
       "       1563.00304402, 1520.1594487 , 1565.01342721, 1511.11772683,\n",
       "       1486.70059134, 1528.39342112, 1558.79704911, 1501.75841431,\n",
       "       1526.79703098, 1523.64723572, 1418.79431945, 1528.60373372,\n",
       "       1508.03719394, 1603.65790091, 1549.7187373 , 1559.00311732,\n",
       "       1446.97209244, 1563.92378357, 1508.39700968, 1590.36106432,\n",
       "       1451.53034914, 1472.47661451, 1489.2190608 , 1510.92606848,\n",
       "       1519.63441563, 1537.79214267, 1558.76505165, 1481.81512366,\n",
       "       1479.73678202, 1545.88463155, 1522.18908827, 1548.06423077,\n",
       "       1523.72846087, 1576.28799828, 1590.77000872, 1489.86247453,\n",
       "       1484.12717887, 1545.27822451, 1470.52181805, 1534.79066081,\n",
       "       1554.81887342, 1522.08464218, 1491.9881858 , 1500.84552357,\n",
       "       1571.65703408, 1518.36945282, 1505.12363906, 1509.20968585,\n",
       "       1489.46075886, 1558.34114326, 1563.75164338, 1527.04593258,\n",
       "       1501.37461513, 1508.7051772 , 1495.49249457, 1532.68444644,\n",
       "       1483.76569233, 1544.6916463 , 1443.07353006, 1491.48607738,\n",
       "       1471.25750064, 1549.60447596, 1565.77697594, 1464.51601245,\n",
       "       1396.71175529, 1491.79228562, 1457.86135373, 1555.97678325,\n",
       "       1551.89004025, 1543.88842362, 1474.56494115, 1486.11008884,\n",
       "       1526.65072128, 1548.26178492, 1523.42127527, 1547.63627911,\n",
       "       1563.59800308, 1532.43698748, 1531.73157253, 1482.03559024,\n",
       "       1497.81824141, 1526.44660457, 1450.48589192, 1635.47477963,\n",
       "       1551.54475175, 1517.11758159, 1471.49484485, 1506.04159987,\n",
       "       1515.13867873, 1574.04809393, 1506.51477756, 1550.59818715,\n",
       "       1499.55153118, 1572.19238529, 1496.27527876, 1433.88294947,\n",
       "       1542.97766188, 1523.35465243, 1535.76003485, 1600.44103637,\n",
       "       1535.57368713, 1509.20472954, 1591.07320943, 1516.9684885 ,\n",
       "       1557.33782559, 1566.4794313 , 1550.05585347, 1476.07516379,\n",
       "       1537.03842648, 1567.23254208, 1538.76369506, 1478.2123289 ,\n",
       "       1472.19750598, 1536.8254241 , 1513.06070731, 1484.06362693,\n",
       "       1618.69351295, 1527.21840144, 1565.6335986 , 1490.37181535,\n",
       "       1531.01644456, 1555.90065667, 1500.83366445, 1549.71390006,\n",
       "       1579.953822  , 1476.81852307, 1530.92961577, 1598.94656779,\n",
       "       1440.49304036, 1557.09243655, 1476.94585933, 1583.67882186,\n",
       "       1592.61465106, 1477.31278898, 1517.90787271, 1535.7419573 ,\n",
       "       1496.50191901, 1578.11853291, 1524.23008879, 1527.58545651,\n",
       "       1549.48160273, 1498.68029593, 1441.15991831, 1489.99453297,\n",
       "       1534.57355748, 1526.23695751, 1482.08227227, 1553.32451512,\n",
       "       1473.66803205, 1501.40030718, 1541.37338365, 1605.62370021,\n",
       "       1548.53304447, 1544.89121334, 1535.47506727, 1550.64941355,\n",
       "       1476.77230183, 1442.798261  , 1510.98203294, 1600.53575067,\n",
       "       1489.98102324, 1500.59797786, 1490.40919424, 1426.61903019,\n",
       "       1511.82421331, 1483.62842378, 1578.21938311, 1545.15566946,\n",
       "       1529.3949913 , 1539.42364724, 1491.85212186, 1510.06052034,\n",
       "       1525.85235751, 1494.2500288 , 1566.94223674, 1525.97007999,\n",
       "       1512.18676188, 1519.68813076, 1548.7352649 , 1599.30121112,\n",
       "       1644.38347448, 1563.16006299, 1523.13458478, 1534.75220546,\n",
       "       1543.84449749, 1523.94784923, 1640.42501186, 1535.26572839,\n",
       "       1579.53426612, 1564.80097166, 1539.81622751, 1485.00914975,\n",
       "       1498.66922412, 1530.75560456, 1443.22990433, 1457.78059212,\n",
       "       1473.25037751, 1540.19125314, 1542.32021711, 1510.76681385,\n",
       "       1509.76321293, 1525.95668653, 1485.82154794, 1531.79207218,\n",
       "       1517.65639835, 1539.30837677, 1476.93247437, 1498.11698687,\n",
       "       1589.01012349, 1528.80198464, 1560.96302001, 1508.88747622,\n",
       "       1496.95685841, 1551.63073348, 1446.58770999, 1550.74424038,\n",
       "       1573.00096872, 1565.43764507, 1576.5594138 , 1569.14415445,\n",
       "       1546.68853519, 1542.05910675, 1535.15653545, 1530.12705051,\n",
       "       1546.18144551, 1462.55050107, 1596.51853314, 1529.69150422,\n",
       "       1514.15628174, 1455.71661141, 1513.60911845, 1564.83623469,\n",
       "       1543.13597123, 1522.3932714 , 1539.9080666 , 1522.88634584,\n",
       "       1455.16690329, 1479.29502212, 1537.30316694, 1543.36182204,\n",
       "       1536.36604433, 1465.68923019, 1556.01134428, 1484.02339226,\n",
       "       1489.58825519, 1480.1641913 , 1576.21376293, 1610.24645734,\n",
       "       1496.05828742, 1514.96367388, 1556.81906804, 1439.95573832,\n",
       "       1530.31465212, 1478.25214333, 1592.4445011 , 1594.37392822,\n",
       "       1567.05088179, 1504.89058213, 1567.31998219, 1458.17633234,\n",
       "       1524.77264026, 1499.44395814, 1518.08314689, 1589.14640722,\n",
       "       1497.13977012, 1558.67217143, 1541.66534714, 1532.77467293,\n",
       "       1511.86142181, 1511.55145975, 1587.50752817, 1519.26704462,\n",
       "       1506.61606378, 1488.02122668, 1546.63013255, 1582.22501665,\n",
       "       1495.30220621, 1524.04628707, 1423.93670971, 1551.03619594,\n",
       "       1546.17729477, 1575.72599084, 1531.21806057, 1512.76969474,\n",
       "       1561.64361715, 1488.30619586, 1498.60570973, 1500.93302169,\n",
       "       1501.49040042, 1597.72676632, 1558.2335576 , 1543.58300975,\n",
       "       1543.04550499, 1517.06252266, 1506.87175882, 1516.54087385,\n",
       "       1525.99134515, 1583.21932274, 1582.31434776, 1522.29060627,\n",
       "       1530.27733678, 1498.24620191, 1519.69057891, 1562.90948412,\n",
       "       1430.90666781, 1542.17548985, 1505.14343565, 1540.94077907,\n",
       "       1560.4752111 , 1471.31035052, 1612.1113765 , 1441.05544759,\n",
       "       1487.00498015, 1552.72963456, 1480.38342046, 1532.143198  ,\n",
       "       1525.86202872, 1513.1759156 , 1517.94159103, 1595.716034  ,\n",
       "       1457.42281714, 1476.63929673, 1562.91764912, 1532.66452611,\n",
       "       1688.38917848, 1466.37033462, 1540.13544324, 1490.44276191,\n",
       "       1532.72943005, 1493.22321403, 1473.86284306, 1558.22785702,\n",
       "       1444.70633061, 1515.30791344, 1536.5768949 , 1560.0692743 ,\n",
       "       1503.94525177, 1540.08112577, 1569.32188438, 1543.25593687,\n",
       "       1580.37883984, 1513.18099233, 1483.22288841, 1477.14855607,\n",
       "       1545.49213011, 1528.44489758, 1614.35442266, 1610.08708091,\n",
       "       1490.91618448, 1465.97659625, 1566.29545515, 1504.36043864,\n",
       "       1492.2643367 , 1496.26245521, 1566.91501409, 1418.09663246,\n",
       "       1462.25943447, 1518.31965693, 1495.7503361 , 1448.45872055,\n",
       "       1497.88543882, 1483.02976351, 1551.90885717, 1471.12896974,\n",
       "       1545.93569168, 1526.58135502, 1511.74887587, 1513.15081272,\n",
       "       1505.95189919, 1512.35249957, 1583.29451353, 1559.70616045,\n",
       "       1534.02191206, 1576.57126373, 1506.54258953, 1543.8522142 ,\n",
       "       1528.78179774, 1509.07137335, 1583.4108565 , 1465.30090574,\n",
       "       1513.39130522, 1518.08949482, 1561.39294015, 1502.61109474,\n",
       "       1578.32169441, 1459.55943028, 1534.07610041, 1530.27352431,\n",
       "       1514.70872336, 1461.6386648 , 1519.53809191, 1562.43340238,\n",
       "       1514.49627694, 1475.93213312, 1520.59511651, 1609.56465834,\n",
       "       1563.20762831, 1474.68720998, 1548.72965651, 1528.86307092,\n",
       "       1516.64859856, 1563.95500936, 1543.08203214, 1548.11617399,\n",
       "       1515.75641718, 1494.20812692, 1497.1660641 , 1544.91032155,\n",
       "       1603.96270845, 1537.98210795, 1459.98056937, 1488.39991559,\n",
       "       1518.48915361, 1478.61951971, 1532.62092488, 1604.01793924,\n",
       "       1553.31266144, 1586.49184574, 1585.44835659, 1554.78995663,\n",
       "       1469.26230244, 1513.11464361, 1536.03668453, 1535.83372411,\n",
       "       1484.339091  , 1494.80760266, 1500.16270484, 1570.45892522,\n",
       "       1539.94946104, 1525.8885267 , 1524.83435845, 1623.85820282,\n",
       "       1502.98946316, 1482.26740178, 1537.24795908, 1432.10519938,\n",
       "       1494.86217549, 1545.596829  , 1579.73069992, 1528.74293958,\n",
       "       1518.19225536, 1572.65805308, 1553.48275083, 1463.09185909,\n",
       "       1555.14269882, 1537.06887237, 1565.20400832, 1634.37543951,\n",
       "       1482.21712903, 1541.60639198, 1521.85059978, 1429.69939036,\n",
       "       1551.48910739, 1513.43691154, 1541.52095966, 1562.52079668,\n",
       "       1516.80479696, 1496.9248812 , 1521.26472272, 1501.45298115,\n",
       "       1509.85006904, 1455.60436502, 1555.86424799, 1509.6978588 ,\n",
       "       1518.82500468, 1529.44745031, 1516.02671505, 1514.30544102,\n",
       "       1569.44114438, 1510.35463096, 1593.77027304, 1493.59088737,\n",
       "       1481.54834085, 1533.49673684, 1563.14515758, 1538.77042686,\n",
       "       1494.11220298, 1439.08156998, 1545.91389299, 1501.31310238,\n",
       "       1446.2644566 , 1474.14444285, 1487.82967187, 1557.80462389,\n",
       "       1531.67920698, 1545.77859287, 1583.92941532, 1479.82358252,\n",
       "       1534.44168323, 1458.77081966, 1517.45336568, 1493.09317765,\n",
       "       1500.75506748, 1511.31357894, 1497.80675207, 1525.14779238,\n",
       "       1575.13940468, 1529.59038494, 1499.35470784, 1479.04676584,\n",
       "       1538.40904593, 1617.96191459, 1532.97279027, 1510.71897063,\n",
       "       1609.66624927, 1557.67527658, 1443.00702441, 1493.52311325,\n",
       "       1495.31309191, 1538.93573844, 1486.56133405, 1484.90804676,\n",
       "       1549.73433623, 1527.91943648, 1400.37185727, 1506.74096383,\n",
       "       1540.29319682, 1559.24751256, 1532.88607208, 1507.42229951,\n",
       "       1546.33562433, 1558.39934366, 1502.7113404 , 1490.7336023 ,\n",
       "       1550.233982  , 1468.07682215, 1488.1019486 , 1529.57457197,\n",
       "       1563.02861871, 1476.72104532, 1502.34065553, 1578.63809343,\n",
       "       1518.82299314, 1421.70264477, 1519.28722844, 1534.6838229 ,\n",
       "       1528.29593258, 1535.14834608, 1525.48913124, 1548.39982563,\n",
       "       1545.75954444, 1466.69997961, 1584.98685331, 1503.03140678,\n",
       "       1563.14807436, 1529.04628304, 1490.68602075, 1593.40936212,\n",
       "       1536.63281464, 1485.84846493, 1552.45796487, 1513.97271986])"
      ]
     },
     "execution_count": 564,
     "metadata": {},
     "output_type": "execute_result"
    }
   ],
   "source": [
    "((multi_rvs*expr/inv_cell_sizes)**2).sum(axis=1)/one_gene_data.shape[0]"
   ]
  },
  {
   "cell_type": "code",
   "execution_count": 539,
   "metadata": {},
   "outputs": [],
   "source": [
    "#approx bootstrap\n",
    "approx_boot_vars = []\n",
    "expr, count = np.unique(one_gene_data, return_counts=True)\n",
    "\n",
    "\n",
    "for trial in range(1):\n",
    "    \n",
    "    boot_idxs = np.random.choice(one_gene_data.shape[0], one_gene_data.shape[0])\n",
    "    expr = one_gene_data[boot_idxs]\n",
    "    second = ((one_gene_data[boot_idxs]/size_factors[boot_idxs])**2).mean()-(one_gene_data[boot_idxs]/size_factors[boot_idxs]**2).mean()\n",
    "    first = (one_gene_data[boot_idxs]/size_factors[boot_idxs]).mean()\n",
    "    \n",
    "    approx_boot_vars.append( (second-first**2)/q**2 )\n",
    "approx_boot_vars = np.array(real_boot_vars)"
   ]
  },
  {
   "cell_type": "code",
   "execution_count": 536,
   "metadata": {},
   "outputs": [
    {
     "data": {
      "text/plain": [
       "<matplotlib.axes._subplots.AxesSubplot at 0x7f9aaddc2690>"
      ]
     },
     "execution_count": 536,
     "metadata": {},
     "output_type": "execute_result"
    },
    {
     "data": {
      "image/png": "[encoded data removed]",
      "text/plain": [
       "<Figure size 432x288 with 1 Axes>"
      ]
     },
     "metadata": {
      "needs_background": "light"
     },
     "output_type": "display_data"
    }
   ],
   "source": [
    "sns.distplot(real_boot_vars)"
   ]
  },
  {
   "cell_type": "code",
   "execution_count": 483,
   "metadata": {},
   "outputs": [
    {
     "data": {
      "text/plain": [
       "(array([4.094e+03, 4.650e+02, 3.300e+02, 4.400e+01, 3.300e+01, 1.800e+01,\n",
       "        6.000e+00, 6.000e+00, 2.000e+00, 2.000e+00]),\n",
       " array([ 0. ,  1.4,  2.8,  4.2,  5.6,  7. ,  8.4,  9.8, 11.2, 12.6, 14. ]),\n",
       " <a list of 10 Patch objects>)"
      ]
     },
     "execution_count": 483,
     "metadata": {},
     "output_type": "execute_result"
    },
    {
     "data": {
      "image/png": "[encoded data removed]",
      "text/plain": [
       "<Figure size 432x288 with 1 Axes>"
      ]
     },
     "metadata": {
      "needs_background": "light"
     },
     "output_type": "display_data"
    }
   ],
   "source": [
    "plt.hist(one_gene_data)"
   ]
  },
  {
   "cell_type": "code",
   "execution_count": 477,
   "metadata": {},
   "outputs": [],
   "source": [
    "means = np.log(np.outer(mean_scdd, mean_scdd).ravel())\n",
    "estimated_corrs = corr_scdd.ravel()\n",
    "raw_corrs = np.corrcoef(captured_data, rowvar=False).ravel()\n",
    "true_corrs = np.corrcoef(true_data, rowvar=False).ravel()"
   ]
  },
  {
   "cell_type": "code",
   "execution_count": 478,
   "metadata": {},
   "outputs": [
    {
     "data": {
      "text/plain": [
       "(0.7050269891142803, 0.0)"
      ]
     },
     "execution_count": 478,
     "metadata": {},
     "output_type": "execute_result"
    },
    {
     "data": {
      "image/png": "[encoded data removed]",
      "text/plain": [
       "<Figure size 432x288 with 1 Axes>"
      ]
     },
     "metadata": {
      "needs_background": "light"
     },
     "output_type": "display_data"
    }
   ],
   "source": [
    "plt.scatter(means[sample_idxs], raw_corrs[sample_idxs], s=1)\n",
    "condition = np.isfinite(raw_corrs[sample_idxs])\n",
    "stats.pearsonr(means[sample_idxs][condition], raw_corrs[sample_idxs][condition])"
   ]
  },
  {
   "cell_type": "code",
   "execution_count": 480,
   "metadata": {},
   "outputs": [
    {
     "data": {
      "text/plain": [
       "Text(0, 0.5, 'estimated correlation')"
      ]
     },
     "execution_count": 480,
     "metadata": {},
     "output_type": "execute_result"
    },
    {
     "data": {
      "image/png": "[encoded data removed]",
      "text/plain": [
       "<Figure size 432x288 with 1 Axes>"
      ]
     },
     "metadata": {
      "needs_background": "light"
     },
     "output_type": "display_data"
    }
   ],
   "source": [
    "plt.scatter(means[sample_idxs], estimated_corrs[sample_idxs], s=1)\n",
    "condition = np.isfinite(estimated_corrs[sample_idxs]) & np.isfinite(means[sample_idxs])\n",
    "stats.pearsonr(means[sample_idxs][condition], estimated_corrs[sample_idxs][condition])\n",
    "# plt.ylim(-0.25, 0.25)\n",
    "plt.xlabel('Product of mean (log)');plt.ylabel('estimated correlation')"
   ]
  },
  {
   "cell_type": "code",
   "execution_count": 460,
   "metadata": {},
   "outputs": [],
   "source": [
    "mean_scdd, _, corr_scdd = scdd.dd_covariance(adata, size_factor=scdd.dd_size_factor(adata))\n",
    "corr_scdd[corr_scdd == 0] = np.nan\n",
    "\n",
    "condition = np.log(var_scdd) > -20\n",
    "\n",
    "true_corrs = np.corrcoef(true_data, rowvar=False).ravel()\n",
    "estimated_corrs = corr_scdd.ravel()\n",
    "corr_cond = np.isfinite(estimated_corrs)\n",
    "true_corrs = true_corrs[corr_cond]\n",
    "estimated_corrs = estimated_corrs[corr_cond]"
   ]
  },
  {
   "cell_type": "code",
   "execution_count": 461,
   "metadata": {},
   "outputs": [
    {
     "data": {
      "text/plain": [
       "(-0.035455220098865446, 0.01226373570146752)"
      ]
     },
     "execution_count": 461,
     "metadata": {},
     "output_type": "execute_result"
    },
    {
     "data": {
      "image/png": "[encoded data removed]",
      "text/plain": [
       "<Figure size 432x288 with 1 Axes>"
      ]
     },
     "metadata": {
      "needs_background": "light"
     },
     "output_type": "display_data"
    }
   ],
   "source": [
    "plt.scatter(means[sample_idxs], estimated_corrs[sample_idxs], s=1)\n",
    "condition = np.isfinite(estimated_corrs[sample_idxs]) & np.isfinite(means[sample_idxs])\n",
    "stats.pearsonr(means[sample_idxs][condition], estimated_corrs[sample_idxs][condition])"
   ]
  },
  {
   "cell_type": "code",
   "execution_count": null,
   "metadata": {},
   "outputs": [],
   "source": []
  }
 ],
 "metadata": {
  "kernelspec": {
   "display_name": "Python 3",
   "language": "python",
   "name": "python3"
  },
  "language_info": {
   "codemirror_mode": {
    "name": "ipython",
    "version": 3
   },
   "file_extension": ".py",
   "mimetype": "text/x-python",
   "name": "python",
   "nbconvert_exporter": "python",
   "pygments_lexer": "ipython3",
   "version": "3.7.5"
  }
 },
 "nbformat": 4,
 "nbformat_minor": 4
}
