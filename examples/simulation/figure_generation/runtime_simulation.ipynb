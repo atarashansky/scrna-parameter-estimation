{
 "cells": [
  {
   "cell_type": "markdown",
   "metadata": {},
   "source": [
    "# Runtime simulation"
   ]
  },
  {
   "cell_type": "code",
   "execution_count": 2,
   "metadata": {},
   "outputs": [
    {
     "name": "stderr",
     "output_type": "stream",
     "text": [
      "/home/mkim7/anaconda3/envs/single_cell/lib/python3.7/site-packages/scanpy/api/__init__.py:6: FutureWarning: \n",
      "\n",
      "In a future version of Scanpy, `scanpy.api` will be removed.\n",
      "Simply use `import scanpy as sc` and `import scanpy.external as sce` instead.\n",
      "\n",
      "  FutureWarning\n"
     ]
    }
   ],
   "source": [
    "import pandas as pd\n",
    "import matplotlib.pyplot as plt\n",
    "import scanpy.api as sc\n",
    "import scipy as sp\n",
    "import itertools\n",
    "import numpy as np\n",
    "import scipy.stats as stats\n",
    "from scipy.integrate import dblquad\n",
    "import seaborn as sns\n",
    "from statsmodels.stats.multitest import fdrcorrection\n",
    "import imp\n",
    "pd.options.display.max_rows = 999\n",
    "pd.set_option('display.max_colwidth', -1)\n",
    "import pickle as pkl\n",
    "from scipy import sparse\n",
    "import time"
   ]
  },
  {
   "cell_type": "code",
   "execution_count": 3,
   "metadata": {},
   "outputs": [],
   "source": [
    "import matplotlib.pylab as pylab\n",
    "params = {'legend.fontsize': 'x-large',\n",
    "         'axes.labelsize': 'x-large',\n",
    "         'axes.titlesize':'x-large',\n",
    "         'figure.titlesize':'xx-large',\n",
    "         'xtick.labelsize':'x-large',\n",
    "         'ytick.labelsize':'x-large'}\n",
    "pylab.rcParams.update(params)\n"
   ]
  },
  {
   "cell_type": "code",
   "execution_count": 4,
   "metadata": {},
   "outputs": [],
   "source": [
    "import warnings\n",
    "#warnings.warn('ignore')"
   ]
  },
  {
   "cell_type": "code",
   "execution_count": 5,
   "metadata": {},
   "outputs": [],
   "source": [
    "%matplotlib inline"
   ]
  },
  {
   "cell_type": "code",
   "execution_count": 6,
   "metadata": {},
   "outputs": [],
   "source": [
    "import sys\n",
    "sys.path.append('/home/mkim7/Github/scrna-parameter-estimation/examples/simulation/')\n",
    "import simulate as sim"
   ]
  },
  {
   "cell_type": "code",
   "execution_count": 7,
   "metadata": {},
   "outputs": [],
   "source": [
    "data_path = '/data/parameter_estimation/interferon_data/'"
   ]
  },
  {
   "cell_type": "code",
   "execution_count": 8,
   "metadata": {},
   "outputs": [],
   "source": [
    "import sys\n",
    "sys.path.append('/home/mkim7/Github/scrna-parameter-estimation/scmemo')\n",
    "import scmemo, utils"
   ]
  },
  {
   "cell_type": "markdown",
   "metadata": {},
   "source": [
    "### Simulation"
   ]
  },
  {
   "cell_type": "code",
   "execution_count": 9,
   "metadata": {},
   "outputs": [],
   "source": [
    "def convert_params(mu, theta):\n",
    "    \"\"\"\n",
    "    Convert mean/dispersion parameterization of a negative binomial to the ones scipy supports\n",
    "\n",
    "    See https://en.wikipedia.org/wiki/Negative_binomial_distribution#Alternative_formulations\n",
    "    \"\"\"\n",
    "    r = theta\n",
    "    var = mu + 1 / r * mu ** 2\n",
    "    p = (var - mu) / var\n",
    "    return r, 1 - p"
   ]
  },
  {
   "cell_type": "code",
   "execution_count": 10,
   "metadata": {},
   "outputs": [],
   "source": [
    "# Simluate the noise\n",
    "p = 0.1\n",
    "noise_level = 0.2049755522580501\n",
    "p_sq = (noise_level+1)*p**2\n",
    "m = p\n",
    "v = p_sq - p**2\n",
    "alpha = m*(m*(1-m)/v - 1)\n",
    "beta = (1-m)*(m*(1-m)/v - 1)\n",
    "\n"
   ]
  },
  {
   "cell_type": "code",
   "execution_count": 11,
   "metadata": {},
   "outputs": [],
   "source": [
    "b = stats.lognorm.rvs(s=1, scale=2, size=1000)"
   ]
  },
  {
   "cell_type": "code",
   "execution_count": 12,
   "metadata": {},
   "outputs": [
    {
     "data": {
      "text/plain": [
       "3.5313530786911005"
      ]
     },
     "execution_count": 12,
     "metadata": {},
     "output_type": "execute_result"
    }
   ],
   "source": [
    "b.mean()"
   ]
  },
  {
   "cell_type": "code",
   "execution_count": 13,
   "metadata": {},
   "outputs": [],
   "source": [
    "plt.hist(b, bins=100);"
   ]
  },
  {
   "cell_type": "code",
   "execution_count": 96,
   "metadata": {},
   "outputs": [],
   "source": [
    "def simulate_data(N, n_genes=5):\n",
    "    \n",
    "    # NB parameters\n",
    "    nb_mean = stats.lognorm.rvs(s=1, scale=2)\n",
    "    nb_theta = 4\n",
    "    \n",
    "    qs = stats.beta.rvs(alpha, beta, size=N)\n",
    "    \n",
    "    nb = stats.nbinom.rvs(*convert_params(nb_mean,nb_theta), size=(N, n_genes))\n",
    "    \n",
    "    nb_obs = stats.binom.rvs(n=nb, p=np.vstack([qs for i in range(n_genes)]).T)\n",
    "    \n",
    "    # Create an ann data out of these\n",
    "    obs_df = pd.DataFrame()\n",
    "    obs_df['n_counts'] = [1e10 for i in range(N)]\n",
    "    obs_df['cell_type'] = np.random.choice(['A', 'B'], size=N)\n",
    "    obs_df.index = obs_df.index.astype(str)\n",
    "    #values = sparse.csr_matrix(nb_obs)\n",
    "    adata = sc.AnnData(\n",
    "        nb_obs, \n",
    "        var=pd.DataFrame(index=['gene_' + str(i) for i in range(1, n_genes+1)]),\n",
    "        obs=obs_df)\n",
    "    \n",
    "    return adata\n",
    "\n",
    "def time_hypothesis_test(adata):\n",
    "    \n",
    "    imp.reload(scmemo)\n",
    "    estimator = scmemo.SingleCellEstimator(\n",
    "        adata=adata, \n",
    "        group_label='cell_type',\n",
    "        n_umis_column='n_counts',\n",
    "        num_permute=100000,\n",
    "        beta=0.1)\n",
    "    estimator.beta_sq = p_sq\n",
    "    \n",
    "    estimator.compute_observed_moments('A')\n",
    "    estimator.compute_observed_moments('-A')\n",
    "    estimator.compute_observed_moments('B')\n",
    "    estimator.compute_observed_moments('-B')    \n",
    "    estimator.estimate_parameters()\n",
    "    \n",
    "    return estimator.compute_confidence_intervals_1d(\n",
    "        groups=['A','B'],\n",
    "        groups_to_compare=[('A', 'B')],\n",
    "        gene_tracker_count=None)\n",
    "\n",
    "def smooth(y, box_pts):\n",
    "    box = np.ones(box_pts)/box_pts\n",
    "    y_smooth = np.convolve(y, box, mode='same')\n",
    "    return y_smooth"
   ]
  },
  {
   "cell_type": "code",
   "execution_count": null,
   "metadata": {},
   "outputs": [],
   "source": [
    "num_cells = np.linspace(1000, 2e6, 10);"
   ]
  },
  {
   "cell_type": "code",
   "execution_count": 85,
   "metadata": {},
   "outputs": [],
   "source": [
    "data = simulate_data(1000, n_genes=2)"
   ]
  },
  {
   "cell_type": "code",
   "execution_count": null,
   "metadata": {},
   "outputs": [],
   "source": [
    "all_count_times = []\n",
    "all_compute_times = []\n",
    "avg_count_times = np.zeros(num_cells.shape[0])\n",
    "avg_compute_times = np.zeros(num_cells.shape[0])\n",
    "num_trials=50\n",
    "for idx, N in enumerate(num_cells):\n",
    "    print('On cell count', N, 'and idx', idx) \n",
    "    count_times = np.zeros(num_trials)\n",
    "    compute_Times\n",
    "    for trial in range(num_trials):\n",
    "        data = simulate_data(int(N), n_genes=2)\n",
    "        times[trial],  = time_hypothesis_test(data)\n",
    "    all_times.append(times.copy())\n",
    "    avg_times[idx]  = times.mean()"
   ]
  },
  {
   "cell_type": "code",
   "execution_count": 101,
   "metadata": {},
   "outputs": [
    {
     "name": "stdout",
     "output_type": "stream",
     "text": [
      "1000.0\n",
      "223111.11111111112\n",
      "445222.22222222225\n",
      "667333.3333333334\n",
      "889444.4444444445\n",
      "1111555.5555555555\n",
      "1333666.6666666667\n",
      "1555777.777777778\n",
      "1777888.888888889\n",
      "2000000.0\n"
     ]
    }
   ],
   "source": [
    "count_times = []\n",
    "compute_times = []\n",
    "num_trials = 5\n",
    "for idx, N in enumerate(num_cells):\n",
    "    print(N)\n",
    "    data = simulate_data(int(N), n_genes=5)\n",
    "    count_time, compute_time = time_hypothesis_test(data)\n",
    "    count_times.append(count_time)\n",
    "    compute_times.append(compute_time)"
   ]
  },
  {
   "cell_type": "code",
   "execution_count": 103,
   "metadata": {},
   "outputs": [
    {
     "data": {
      "text/plain": [
       "<matplotlib.collections.PathCollection at 0x7ff1f3a0a110>"
      ]
     },
     "execution_count": 103,
     "metadata": {},
     "output_type": "execute_result"
    },
    {
     "data": {
      "image/png": "[encoded data removed]",
      "text/plain": [
       "<Figure size 432x288 with 1 Axes>"
      ]
     },
     "metadata": {
      "needs_background": "light"
     },
     "output_type": "display_data"
    }
   ],
   "source": [
    "plt.scatter(num_cells, count_times/n_genes)\n",
    "plt.scatter(num_cells, compute_times/n_genes)"
   ]
  },
  {
   "cell_type": "code",
   "execution_count": 79,
   "metadata": {},
   "outputs": [
    {
     "name": "stdout",
     "output_type": "stream",
     "text": [
      "There was 4 unique values in A\n",
      "There was 5 unique value in B\n",
      "it took 0.005694150924682617 to count\n",
      "it took 0.003168821334838867 to compute/store\n",
      "There was 5 unique values in A\n",
      "There was 3 unique value in B\n",
      "it took 0.005237579345703125 to count\n",
      "it took 0.0033769607543945312 to compute/store\n"
     ]
    }
   ],
   "source": [
    "imp.reload(scmemo)\n",
    "estimator = scmemo.SingleCellEstimator(\n",
    "    adata=data, \n",
    "    group_label='cell_type',\n",
    "    n_umis_column='n_counts',\n",
    "    num_permute=10000,\n",
    "    beta=0.1)\n",
    "estimator.beta_sq = p_sq\n",
    "\n",
    "estimator.compute_observed_moments('A')\n",
    "estimator.compute_observed_moments('-A')\n",
    "estimator.compute_observed_moments('B')\n",
    "estimator.compute_observed_moments('-B')    \n",
    "estimator.estimate_parameters()\n",
    "\n",
    "estimator.compute_confidence_intervals_1d(\n",
    "    groups=['A','B'],\n",
    "    groups_to_compare=[('A', 'B')],\n",
    "    gene_tracker_count=None)"
   ]
  },
  {
   "cell_type": "code",
   "execution_count": 63,
   "metadata": {},
   "outputs": [],
   "source": [
    "def time_hypothesis_test(adata):\n",
    "    \n",
    "    \n",
    "    \n",
    "    imp.reload(scmemo)\n",
    "    estimator = scmemo.SingleCellEstimator(\n",
    "        adata=adata, \n",
    "        group_label='cell_type',\n",
    "        n_umis_column='n_counts',\n",
    "        num_permute=100000,\n",
    "        beta=0.1)\n",
    "    estimator.beta_sq = p_sq\n",
    "    \n",
    "    estimator.compute_observed_moments('A')\n",
    "    estimator.compute_observed_moments('-A')\n",
    "    estimator.compute_observed_moments('B')\n",
    "    estimator.compute_observed_moments('-B')    \n",
    "    estimator.estimate_parameters()\n",
    "    \n",
    "    start = time.time()\n",
    "    estimator.compute_confidence_intervals_1d(\n",
    "        groups=['A','B'],\n",
    "        groups_to_compare=[('A', 'B')],\n",
    "        gene_tracker_count=None)\n",
    "    \n",
    "    return time.time() - start"
   ]
  },
  {
   "cell_type": "code",
   "execution_count": 71,
   "metadata": {},
   "outputs": [],
   "source": [
    "num_cells = np.logspace(2, 6, 5);"
   ]
  },
  {
   "cell_type": "code",
   "execution_count": 72,
   "metadata": {},
   "outputs": [
    {
     "name": "stdout",
     "output_type": "stream",
     "text": [
      "On cell count 100.0 and idx 0\n"
     ]
    },
    {
     "name": "stderr",
     "output_type": "stream",
     "text": [
      "/home/mkim7/anaconda3/envs/single_cell/lib/python3.7/site-packages/scipy/stats/_stats_mstats_common.py:130: RuntimeWarning: invalid value encountered in double_scalars\n",
      "  slope = r_num / ssxm\n",
      "/home/mkim7/anaconda3/envs/single_cell/lib/python3.7/site-packages/scipy/stats/_stats_mstats_common.py:140: RuntimeWarning: invalid value encountered in sqrt\n",
      "  t = r * np.sqrt(df / ((1.0 - r + TINY)*(1.0 + r + TINY)))\n",
      "/home/mkim7/anaconda3/envs/single_cell/lib/python3.7/site-packages/scipy/stats/_stats_mstats_common.py:142: RuntimeWarning: invalid value encountered in double_scalars\n",
      "  sterrest = np.sqrt((1 - r**2) * ssym / ssxm / df)\n"
     ]
    },
    {
     "name": "stdout",
     "output_type": "stream",
     "text": [
      "On cell count 1000.0 and idx 1\n",
      "On cell count 10000.0 and idx 2\n",
      "On cell count 100000.0 and idx 3\n",
      "On cell count 1000000.0 and idx 4\n"
     ]
    }
   ],
   "source": [
    "all_times = []\n",
    "avg_times = np.zeros(num_cells.shape[0])\n",
    "#num_trials = 5\n",
    "for idx, N in enumerate(num_cells):\n",
    "    print('On cell count', N, 'and idx', idx)\n",
    "    data = simulate_data(int(N), n_genes=2)\n",
    "    avg_times[idx] = time_hypothesis_test(data)\n",
    "    \n",
    "    times = np.zeros(num_trials)\n",
    "    for trial in range(num_trials):\n",
    "        data = simulate_data(int(N), n_genes=)\n",
    "        times[trial] = time_hypothesis_test(data)\n",
    "    all_times.append(times.copy())\n",
    "    avg_times[idx]  = times.mean()"
   ]
  },
  {
   "cell_type": "code",
   "execution_count": null,
   "metadata": {},
   "outputs": [],
   "source": [
    "def smooth(y, box_pts):\n",
    "    box = np.ones(box_pts)/box_pts\n",
    "    y_smooth = np.convolve(y, box, mode='same')\n",
    "    return y_smooth"
   ]
  },
  {
   "cell_type": "code",
   "execution_count": 22,
   "metadata": {},
   "outputs": [],
   "source": [
    "%matplotlib inline"
   ]
  },
  {
   "cell_type": "code",
   "execution_count": 73,
   "metadata": {},
   "outputs": [
    {
     "data": {
      "text/plain": [
       "Text(0.5, 0, '# cells')"
      ]
     },
     "execution_count": 73,
     "metadata": {},
     "output_type": "execute_result"
    },
    {
     "data": {
      "image/png": "[encoded data removed]",
      "text/plain": [
       "<Figure size 432x288 with 1 Axes>"
      ]
     },
     "metadata": {
      "needs_background": "light"
     },
     "output_type": "display_data"
    }
   ],
   "source": [
    "plt.scatter(num_cells, avg_times/n_genes)\n",
    "plt.ticklabel_format(axis='x', style='sci', scilimits=(2, 6))\n",
    "plt.title('Simulated runtime of transcriptomic differential \\nexpression + variability')\n",
    "plt.ylabel('Time (minutes) per gene');\n",
    "plt.xlabel('# cells')\n",
    "#plt.savefig('simulated_sublinear_runtime_more.pdf', bbox_inches='tight')\n",
    "\n",
    "#plt.plot(num_cells[10:-10], smooth(times, 10)[10:-10], lw=5)"
   ]
  },
  {
   "cell_type": "markdown",
   "metadata": {},
   "source": [
    "### Interferon data"
   ]
  },
  {
   "cell_type": "code",
   "execution_count": 158,
   "metadata": {},
   "outputs": [],
   "source": [
    "ifn_num_cells = np.array([100, 500, 1000, 2000, 3000, 5000, 10000, 20000])\n",
    "ifn_times = np.array([\n",
    " 20.869556665420532,\n",
    " 35.29805541038513,\n",
    " 38.040297746658325,\n",
    " 46.348387002944946,\n",
    " 58.43357753753662,\n",
    " 87.58861637115479,\n",
    " 142.3105809688568,\n",
    " 222.7312273979187])"
   ]
  },
  {
   "cell_type": "code",
   "execution_count": 182,
   "metadata": {},
   "outputs": [
    {
     "name": "stdout",
     "output_type": "stream",
     "text": [
      "[(100.0, 6.929297208786011), (215.44346900318845, 12.625685453414917), (464.15888336127773, 6.224719762802124), (1000.0, 10.965573787689209), (2154.4346900318824, 9.975577116012573), (4641.588833612777, 14.064831018447876), (10000.0, 31.910074710845947), (21544.346900318822, 88.86108231544495), (46415.888336127726, 234.89731240272522), (100000.0, 339.7262473106384)]\n"
     ]
    }
   ],
   "source": [
    "print(list(zip(num_cells, times)))"
   ]
  },
  {
   "cell_type": "code",
   "execution_count": 184,
   "metadata": {},
   "outputs": [],
   "source": [
    "sim_num_cells = np.array([   100.        ,    215.443469,  21544.34690032,\n",
    "        46415.88833613, 100000.        ])\n",
    "sim_times = np.array([\n",
    "    6.92929721,  12.62568545,  88.86108232,\n",
    "       234.8973124 , 339.72624731\n",
    "])\n",
    "sim_times = sim_times*(20.869556665420532/6.92929721)"
   ]
  },
  {
   "cell_type": "code",
   "execution_count": 195,
   "metadata": {},
   "outputs": [
    {
     "data": {
      "image/png": "[encoded data removed]",
      "text/plain": [
       "<Figure size 504x360 with 1 Axes>"
      ]
     },
     "metadata": {
      "needs_background": "light"
     },
     "output_type": "display_data"
    }
   ],
   "source": [
    "plt.figure(figsize=(7, 5))\n",
    "plt.plot(ifn_num_cells, ifn_times/60, '-o', label='IFN-B data')\n",
    "plt.plot(sim_num_cells, sim_times/60, '-o', label='simulated projection')\n",
    "plt.plot(sim_num_cells, sim_num_cells/60/60, label='reference linear time\\n60 cells/second')\n",
    "plt.legend()\n",
    "plt.title('Simulated runtime of transcriptomic differential \\nexpression + variability')\n",
    "plt.ylabel('Minutes');\n",
    "plt.xlabel('# cells')\n",
    "plt.savefig('simulated_sublinear_runtime.pdf', bbox_inches='tight')"
   ]
  },
  {
   "cell_type": "code",
   "execution_count": 194,
   "metadata": {},
   "outputs": [
    {
     "data": {
      "image/png": "[encoded data removed]",
      "text/plain": [
       "<Figure size 432x288 with 1 Axes>"
      ]
     },
     "metadata": {
      "needs_background": "light"
     },
     "output_type": "display_data"
    }
   ],
   "source": [
    "plt.plot(num_cells, times/60, '-o', label='runtime')\n",
    "plt.title('Simulated runtime of transcriptomic differential \\nexpression + variability')\n",
    "plt.ylabel('Minutes');\n",
    "plt.xlabel('# cells')\n",
    "plt.savefig(data_path + 'figures/simulated_sublinear_runtime.pdf', bbox_inches='tight')"
   ]
  },
  {
   "cell_type": "code",
   "execution_count": null,
   "metadata": {},
   "outputs": [],
   "source": [
    "plt.plot(times, np.array(perm_times)/60, '-o', label='runtime')\n",
    "plt.plot(Ns, np.array(Ns)/60/60, label='ref. linear time\\n60 cells/second')\n",
    "plt.legend()\n",
    "plt.title('Runtime of simulated transcriptomic differential \\nexpression + variability')\n",
    "plt.ylabel('Minutes');\n",
    "plt.xlabel('# cells')\n",
    "plt.savefig(data_path + 'figures/sublinear_runtime.pdf', bbox_inches='tight')"
   ]
  }
 ],
 "metadata": {
  "kernelspec": {
   "display_name": "Python 3",
   "language": "python",
   "name": "python3"
  },
  "language_info": {
   "codemirror_mode": {
    "name": "ipython",
    "version": 3
   },
   "file_extension": ".py",
   "mimetype": "text/x-python",
   "name": "python",
   "nbconvert_exporter": "python",
   "pygments_lexer": "ipython3",
   "version": "3.7.5"
  }
 },
 "nbformat": 4,
 "nbformat_minor": 4
}
