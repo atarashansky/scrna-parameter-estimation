{
 "cells": [
  {
   "cell_type": "markdown",
   "metadata": {},
   "source": [
    "# Capture + sequencing combined process simulation\n",
    "\n",
    "This notebook is aimed at simulating a two stage dropout process where sequences are captured, then sequenced. We would like to demonstrate that these two processes can be summarized in a single capture process."
   ]
  },
  {
   "cell_type": "code",
   "execution_count": 3,
   "metadata": {},
   "outputs": [
    {
     "name": "stderr",
     "output_type": "stream",
     "text": [
      "/home/mkim7/anaconda3/envs/single_cell/lib/python3.7/site-packages/scanpy/api/__init__.py:6: FutureWarning: \n",
      "\n",
      "In a future version of Scanpy, `scanpy.api` will be removed.\n",
      "Simply use `import scanpy as sc` and `import scanpy.external as sce` instead.\n",
      "\n",
      "  FutureWarning\n"
     ]
    }
   ],
   "source": [
    "import pandas as pd\n",
    "import matplotlib.pyplot as plt\n",
    "import scanpy.api as sc\n",
    "import scipy as sp\n",
    "import itertools\n",
    "import numpy as np\n",
    "import scipy.stats as stats\n",
    "from scipy.integrate import dblquad\n",
    "import seaborn as sns\n",
    "from statsmodels.stats.multitest import fdrcorrection\n",
    "import imp\n",
    "pd.options.display.max_rows = 999\n",
    "pd.set_option('display.max_colwidth', -1)\n",
    "import pickle as pkl\n",
    "import time"
   ]
  },
  {
   "cell_type": "code",
   "execution_count": 4,
   "metadata": {},
   "outputs": [],
   "source": [
    "import matplotlib.pylab as pylab\n",
    "params = {'legend.fontsize': 'x-large',\n",
    "         'axes.labelsize': 'x-large',\n",
    "         'axes.titlesize':'x-large',\n",
    "         'figure.titlesize':'xx-large',\n",
    "         'xtick.labelsize':'x-large',\n",
    "         'ytick.labelsize':'x-large'}\n",
    "pylab.rcParams.update(params)\n"
   ]
  },
  {
   "cell_type": "markdown",
   "metadata": {},
   "source": [
    "### Function for simulating transcriptomes based on NB distributions"
   ]
  },
  {
   "cell_type": "code",
   "execution_count": 945,
   "metadata": {},
   "outputs": [],
   "source": [
    "def convert_params(mu, theta):\n",
    "    \"\"\"\n",
    "    Convert mean/dispersion parameterization of a negative binomial to the ones scipy supports\n",
    "\n",
    "    See https://en.wikipedia.org/wiki/Negative_binomial_distribution#Alternative_formulations\n",
    "    \"\"\"\n",
    "    r = theta\n",
    "    var = mu + 1 / r * mu ** 2\n",
    "    p = (var - mu) / var\n",
    "    return r, 1 - p\n",
    "\n",
    "def simulate_transcriptomes(n_cells, n_genes):\n",
    "    \n",
    "    gene_means = stats.lognorm.rvs(s=1, scale=15, size=n_genes)\n",
    "    gene_dispersions = stats.lognorm.rvs(s=.7, scale=0.1, size=n_genes) # Larger means more variance\n",
    "    gene_theta = 1/gene_dispersions\n",
    "\n",
    "    return gene_means, gene_dispersions, stats.nbinom.rvs(*convert_params(gene_means, gene_theta), size=(n_cells, n_genes))"
   ]
  },
  {
   "cell_type": "markdown",
   "metadata": {},
   "source": [
    "### Functions for sampling"
   ]
  },
  {
   "cell_type": "code",
   "execution_count": 946,
   "metadata": {},
   "outputs": [],
   "source": [
    "def capture_sampling(transcriptomes, q, q_sq):\n",
    "    \n",
    "    m = q\n",
    "    v = q_sq - q**2\n",
    "    alpha = m*(m*(1-m)/v - 1)\n",
    "    beta = (1-m)*(m*(1-m)/v - 1)\n",
    "    qs = stats.beta.rvs(alpha, beta, size=transcriptomes.shape[0])\n",
    "    \n",
    "    captured_transcriptomes = []\n",
    "    for i in range(transcriptomes.shape[0]):\n",
    "        captured_transcriptomes.append(\n",
    "            stats.hypergeom.rvs(transcriptomes[i, :].sum(), transcriptomes[i, :], np.round(qs[i]*transcriptomes[i, :].sum()).astype(int))\n",
    "        )\n",
    "    \n",
    "    return np.vstack(captured_transcriptomes)\n",
    "\n",
    "\n",
    "def sequencing_sampling(transcriptomes):\n",
    "    \n",
    "    observed_transcriptomes = np.zeros(transcriptomes.shape)\n",
    "    num_molecules = transcriptomes.sum()\n",
    "    print(num_molecules)\n",
    "    \n",
    "    for i in range(n_cells):\n",
    "        for j in range(n_genes):\n",
    "            \n",
    "            observed_transcriptomes[i, j] = (stats.binom.rvs(n=int(num_reads), p=1/num_molecules, size=transcriptomes[i, j]) > 0).sum()\n",
    "            \n",
    "    return observed_transcriptomes\n",
    "    \n",
    "#     flattened_transcriptome = transcriptomes.reshape(-1)\n",
    "#     num_transcripts = flattened_transcriptome.sum()\n",
    "    \n",
    "#     molecule_read_counts = stats.multinomial.rvs(\n",
    "#         num_reads, \n",
    "#         [1/num_transcripts for i in range(num_transcripts)])\n",
    "    \n",
    "#     molecule_read_indicator = (molecule_read_counts > 0)\n",
    "    \n",
    "#     idx_breaks = np.cumsum(flattened_transcriptome)\n",
    "    \n",
    "#     final_counts = np.array([x.sum() for x in np.split(molecule_read_indicator, idx_breaks)])[:-1]\n",
    "    \n",
    "#     return final_counts.reshape(transcriptomes.shape)\n"
   ]
  },
  {
   "cell_type": "markdown",
   "metadata": {},
   "source": [
    "### Define simulation parameters"
   ]
  },
  {
   "cell_type": "code",
   "execution_count": 947,
   "metadata": {},
   "outputs": [
    {
     "data": {
      "text/plain": [
       "2000000"
      ]
     },
     "execution_count": 947,
     "metadata": {},
     "output_type": "execute_result"
    }
   ],
   "source": [
    "2000*1000"
   ]
  },
  {
   "cell_type": "code",
   "execution_count": 1013,
   "metadata": {},
   "outputs": [],
   "source": [
    "n_cells = 5000\n",
    "n_genes = 1000\n",
    "q = 0.1\n",
    "noise_level = 0.2049755522580501\n",
    "q_sq = (noise_level+1)*q**2\n",
    "num_reads = 2000000\n",
    "sequencing_capture_efficiency = 0.5"
   ]
  },
  {
   "cell_type": "markdown",
   "metadata": {},
   "source": [
    "### Run the simulation"
   ]
  },
  {
   "cell_type": "code",
   "execution_count": 1014,
   "metadata": {},
   "outputs": [],
   "source": [
    "_, _, transcriptome = simulate_transcriptomes(n_cells, n_genes)"
   ]
  },
  {
   "cell_type": "code",
   "execution_count": 1015,
   "metadata": {},
   "outputs": [],
   "source": [
    "captured_transcriptome = capture_sampling(transcriptome, q, q_sq)"
   ]
  },
  {
   "cell_type": "code",
   "execution_count": 1016,
   "metadata": {},
   "outputs": [],
   "source": [
    "observed_transcriptome = stats.binom.rvs(captured_transcriptome, p=sequencing_capture_efficiency)"
   ]
  },
  {
   "cell_type": "markdown",
   "metadata": {},
   "source": [
    "### Estimate overall noise parameters"
   ]
  },
  {
   "cell_type": "code",
   "execution_count": 1017,
   "metadata": {},
   "outputs": [],
   "source": [
    "observed_means = observed_transcriptome.mean(axis=0)\n",
    "observed_vars = observed_transcriptome.var(axis=0)\n",
    "observed_cv_sq = observed_vars/observed_means**2"
   ]
  },
  {
   "cell_type": "code",
   "execution_count": 1018,
   "metadata": {},
   "outputs": [
    {
     "data": {
      "text/plain": [
       "Text(0, 0.5, 'log( observed CV^2 )')"
      ]
     },
     "execution_count": 1018,
     "metadata": {},
     "output_type": "execute_result"
    },
    {
     "data": {
      "image/png": "[encoded data removed]",
      "text/plain": [
       "<Figure size 432x288 with 1 Axes>"
      ]
     },
     "metadata": {
      "needs_background": "light"
     },
     "output_type": "display_data"
    }
   ],
   "source": [
    "x = observed_means\n",
    "y = observed_vars\n",
    "estimated_noise_level = np.percentile(\n",
    "    (y/x**2 - 1/x)[y > x], \n",
    "    q=6)\n",
    "overall_q = observed_transcriptome.sum()/captured_transcriptome.sum() * q\n",
    "overall_q_sq = (estimated_noise_level + 1)*overall_q**2\n",
    "\n",
    "plt.scatter(\n",
    "    np.log(observed_means),\n",
    "    np.log(observed_cv_sq),\n",
    "    s=5\n",
    ")\n",
    "bound_x = np.arange(\n",
    "    np.nanmin(observed_means),\n",
    "    np.nanmax(observed_means),\n",
    "    0.01)\n",
    "bound_y = 1/bound_x + estimated_noise_level\n",
    "\n",
    "plt.plot(np.log(bound_x), -np.log(bound_x), color='k', lw=2)\n",
    "plt.plot(np.log(bound_x), np.log(bound_y), lw=2, color='r')\n",
    "plt.axis('equal');\n",
    "plt.legend(['Poisson', 'Poisson + noise', 'genes'])\n",
    "plt.title('Observed Mean - CV Relationship');\n",
    "plt.xlabel('log( observed mean )')\n",
    "plt.ylabel('log( observed CV^2 )')"
   ]
  },
  {
   "cell_type": "code",
   "execution_count": null,
   "metadata": {},
   "outputs": [],
   "source": []
  },
  {
   "cell_type": "code",
   "execution_count": 1019,
   "metadata": {},
   "outputs": [
    {
     "data": {
      "text/plain": [
       "0.012049755522580504"
      ]
     },
     "execution_count": 1019,
     "metadata": {},
     "output_type": "execute_result"
    }
   ],
   "source": [
    "q_sq"
   ]
  },
  {
   "cell_type": "code",
   "execution_count": 1020,
   "metadata": {},
   "outputs": [
    {
     "data": {
      "text/plain": [
       "0.0030468565555067904"
      ]
     },
     "execution_count": 1020,
     "metadata": {},
     "output_type": "execute_result"
    }
   ],
   "source": [
    "overall_q_sq"
   ]
  },
  {
   "cell_type": "code",
   "execution_count": 1021,
   "metadata": {},
   "outputs": [
    {
     "data": {
      "text/plain": [
       "0.04998419700966794"
      ]
     },
     "execution_count": 1021,
     "metadata": {},
     "output_type": "execute_result"
    }
   ],
   "source": [
    "overall_q"
   ]
  },
  {
   "cell_type": "markdown",
   "metadata": {},
   "source": [
    "### Perform a single step of dropout"
   ]
  },
  {
   "cell_type": "code",
   "execution_count": 1022,
   "metadata": {},
   "outputs": [
    {
     "data": {
      "text/plain": [
       "<matplotlib.axes._subplots.AxesSubplot at 0x7f8e51ec7310>"
      ]
     },
     "execution_count": 1022,
     "metadata": {},
     "output_type": "execute_result"
    },
    {
     "data": {
      "image/png": "[encoded data removed]",
      "text/plain": [
       "<Figure size 432x288 with 1 Axes>"
      ]
     },
     "metadata": {
      "needs_background": "light"
     },
     "output_type": "display_data"
    }
   ],
   "source": [
    "approx_observed_transcriptome = capture_sampling(transcriptome, overall_q, overall_q_sq)\n",
    "sns.distplot(observed_transcriptome.sum(axis=1), hist=False)\n",
    "sns.distplot(approx_observed_transcriptome.sum(axis=1), hist=False)\n",
    "sns.distplot(captured_transcriptome.sum(axis=1), hist=False)\n",
    "#sns.distplot(transcriptome.sum(axis=1))"
   ]
  }
 ],
 "metadata": {
  "kernelspec": {
   "display_name": "Python 3",
   "language": "python",
   "name": "python3"
  },
  "language_info": {
   "codemirror_mode": {
    "name": "ipython",
    "version": 3
   },
   "file_extension": ".py",
   "mimetype": "text/x-python",
   "name": "python",
   "nbconvert_exporter": "python",
   "pygments_lexer": "ipython3",
   "version": "3.7.5"
  }
 },
 "nbformat": 4,
 "nbformat_minor": 4
}
