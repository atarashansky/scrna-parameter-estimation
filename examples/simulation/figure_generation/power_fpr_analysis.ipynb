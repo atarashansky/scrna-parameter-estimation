{
 "cells": [
  {
   "cell_type": "markdown",
   "metadata": {},
   "source": [
    "# Distributional assumption test"
   ]
  },
  {
   "cell_type": "code",
   "execution_count": 1,
   "metadata": {},
   "outputs": [
    {
     "name": "stderr",
     "output_type": "stream",
     "text": [
      "/home/mkim7/anaconda3/envs/single_cell/lib/python3.7/site-packages/scanpy/api/__init__.py:6: FutureWarning: \n",
      "\n",
      "In a future version of Scanpy, `scanpy.api` will be removed.\n",
      "Simply use `import scanpy as sc` and `import scanpy.external as sce` instead.\n",
      "\n",
      "  FutureWarning\n"
     ]
    }
   ],
   "source": [
    "import pandas as pd\n",
    "import matplotlib.pyplot as plt\n",
    "import scanpy.api as sc\n",
    "import scipy as sp\n",
    "import itertools\n",
    "import numpy as np\n",
    "import scipy.stats as stats\n",
    "from scipy.integrate import dblquad\n",
    "import seaborn as sns\n",
    "from statsmodels.stats.multitest import fdrcorrection\n",
    "import imp\n",
    "pd.options.display.max_rows = 999\n",
    "pd.set_option('display.max_colwidth', -1)\n",
    "import pickle as pkl\n",
    "import time"
   ]
  },
  {
   "cell_type": "code",
   "execution_count": 20,
   "metadata": {},
   "outputs": [],
   "source": [
    "from mixedvines.copula import Copula, GaussianCopula, ClaytonCopula, \\\n",
    "        FrankCopula\n",
    "from mixedvines.mixedvine import MixedVine"
   ]
  },
  {
   "cell_type": "code",
   "execution_count": 2,
   "metadata": {},
   "outputs": [],
   "source": [
    "import matplotlib as mpl\n",
    "mpl.rcParams['pdf.fonttype'] = 42\n",
    "mpl.rcParams['ps.fonttype'] = 42\n",
    "\n",
    "import matplotlib.pylab as pylab\n",
    "params = {'legend.fontsize': 'medium',\n",
    "         'axes.labelsize': 'medium',\n",
    "         'axes.titlesize':'medium',\n",
    "         'figure.titlesize':'medium',\n",
    "         'xtick.labelsize':'small',\n",
    "         'ytick.labelsize':'small'}\n",
    "pylab.rcParams.update(params)\n"
   ]
  },
  {
   "cell_type": "code",
   "execution_count": 62,
   "metadata": {},
   "outputs": [
    {
     "name": "stderr",
     "output_type": "stream",
     "text": [
      "/home/mkim7/anaconda3/envs/single_cell/lib/python3.7/site-packages/ipykernel_launcher.py:2: UserWarning: ignore\n",
      "  \n"
     ]
    }
   ],
   "source": [
    "import warnings\n",
    "warnings.warn('ignore')"
   ]
  },
  {
   "cell_type": "code",
   "execution_count": 4,
   "metadata": {},
   "outputs": [],
   "source": [
    "%matplotlib inline"
   ]
  },
  {
   "cell_type": "code",
   "execution_count": 5,
   "metadata": {},
   "outputs": [],
   "source": [
    "import sys\n",
    "sys.path.append('/home/mkim7/Github/scrna-parameter-estimation/scmemo')\n",
    "import scmemo, utils"
   ]
  },
  {
   "cell_type": "code",
   "execution_count": 6,
   "metadata": {},
   "outputs": [],
   "source": [
    "data_path = '/data/parameter_estimation/interferon_data/20200324/'"
   ]
  },
  {
   "cell_type": "markdown",
   "metadata": {},
   "source": [
    "### Useful functions"
   ]
  },
  {
   "cell_type": "code",
   "execution_count": 3,
   "metadata": {},
   "outputs": [],
   "source": [
    "def convert_params(mu, theta):\n",
    "    \"\"\"\n",
    "    Convert mean/dispersion parameterization of a negative binomial to the ones scipy supports\n",
    "\n",
    "    See https://en.wikipedia.org/wiki/Negative_binomial_distribution#Alternative_formulations\n",
    "    \"\"\"\n",
    "    r = theta\n",
    "    var = mu + 1 / r * mu ** 2\n",
    "    p = (var - mu) / var\n",
    "    return r, 1 - p\n",
    "\n",
    "def convert_var_to_theta(mu, res_var):\n",
    "    \"\"\"\n",
    "    Convert mu, residual variance into mu and theta, assuming alpha=1\n",
    "    \"\"\"\n",
    "    \n",
    "    var = mu*res_var\n",
    "    theta = (mu**2)/(var - mu)\n",
    "    \n",
    "    return theta"
   ]
  },
  {
   "cell_type": "code",
   "execution_count": 4,
   "metadata": {},
   "outputs": [],
   "source": [
    "def density_scatterplot(a,b, s=1, cmap='Reds', kde=None):\n",
    "    # Calculate the point density\n",
    "    condition = np.isfinite(a) & np.isfinite(b)\n",
    "    x = a[condition]\n",
    "    y = b[condition]\n",
    "    xy = np.vstack([x,y])\n",
    "    z = stats.gaussian_kde(xy, bw_method=kde)(xy)\n",
    "    print(z)\n",
    "    plt.scatter(x, y, c=z, s=s, edgecolor='', cmap=cmap)\n",
    "    \n",
    "\n",
    "def robust_correlation(a, b):\n",
    "    \n",
    "    condition = (np.isfinite(a) & np.isfinite(b))\n",
    "    x = a[condition]\n",
    "    y = b[condition]\n",
    "    \n",
    "    return stats.spearmanr(x,y)\n",
    "\n",
    "def robust_linregress(a, b):\n",
    "    \n",
    "    condition = (np.isfinite(a) & np.isfinite(b))\n",
    "    x = a[condition]\n",
    "    y = b[condition]\n",
    "    \n",
    "    print(x.min())\n",
    "    \n",
    "    return stats.linregress(x,y)\n",
    "\n",
    "def robust_hist(x, **kwargs):\n",
    "    \n",
    "    condition = np.isfinite(x)\n",
    "    sns.distplot(x[condition], **kwargs)"
   ]
  },
  {
   "cell_type": "markdown",
   "metadata": {},
   "source": [
    "### Define some parameters"
   ]
  },
  {
   "cell_type": "code",
   "execution_count": 5,
   "metadata": {},
   "outputs": [],
   "source": [
    "# Noise parameters\n",
    "p = 0.1\n",
    "noise_level = 0.2049755522580501\n",
    "p_sq = (noise_level+1)*p**2\n",
    "m = p\n",
    "v = p_sq - p**2\n",
    "alpha = m*(m*(1-m)/v - 1)\n",
    "beta = (1-m)*(m*(1-m)/v - 1)"
   ]
  },
  {
   "cell_type": "code",
   "execution_count": 6,
   "metadata": {},
   "outputs": [],
   "source": [
    "# Negative binomial parameters\n",
    "nb_mean_1 = 3\n",
    "nb_mean_2 = 3.5\n",
    "nb_res_var_1 = 2\n",
    "nb_res_var_2 = 3\n",
    "nb_theta_1 = convert_var_to_theta(nb_mean_1, nb_res_var_1)\n",
    "nb_theta_2 = convert_var_to_theta(nb_mean_2, nb_res_var_2)\n",
    "corr_1 = 0.\n",
    "corr_2 = 0.3"
   ]
  },
  {
   "cell_type": "code",
   "execution_count": 7,
   "metadata": {},
   "outputs": [
    {
     "name": "stdout",
     "output_type": "stream",
     "text": [
      "3.0 1.75\n"
     ]
    }
   ],
   "source": [
    "print(nb_theta_1, nb_theta_2)"
   ]
  },
  {
   "cell_type": "code",
   "execution_count": 208,
   "metadata": {},
   "outputs": [],
   "source": [
    "# Gene A, differential expression\n",
    "A_mean_ctrl = nb_mean_1\n",
    "A_mean_stim = nb_mean_2\n",
    "A_theta_ctrl = nb_theta_1\n",
    "A_theta_stim = nb_theta_1\n",
    "\n",
    "# Gene B, differential variability\n",
    "B_mean_ctrl = nb_mean_1\n",
    "B_mean_stim = nb_mean_1\n",
    "B_theta_ctrl = nb_theta_1\n",
    "B_theta_stim = nb_theta_2\n",
    "\n",
    "# Correlations\n",
    "corr_ctrl = corr_1\n",
    "corr_stim = corr_2"
   ]
  },
  {
   "cell_type": "markdown",
   "metadata": {},
   "source": [
    "### Simulation functions"
   ]
  },
  {
   "cell_type": "code",
   "execution_count": 301,
   "metadata": {},
   "outputs": [],
   "source": [
    "def simulate_correlated_data(\n",
    "    corr,\n",
    "    mean_1,\n",
    "    mean_2,\n",
    "    theta_1,\n",
    "    theta_2,\n",
    "    size=1000):\n",
    "    \n",
    "    dim = 2  # Dimension\n",
    "    vine = MixedVine(dim)\n",
    "\n",
    "    vine.set_marginal(0, stats.nbinom(*convert_params(mean_1, theta_1)))\n",
    "    vine.set_marginal(1, stats.nbinom(*convert_params(mean_2, theta_2)))\n",
    "    vine.set_copula(1, 0, GaussianCopula(corr))\n",
    "    samples = vine.rvs(size)\n",
    "    \n",
    "    return samples.astype(int)\n",
    "\n",
    "def simulate_dropout(\n",
    "    true_counts,\n",
    "    q,\n",
    "    q_sq):\n",
    "    \"\"\" \n",
    "        :true_counts: True counts\n",
    "        :q: first moment of the dropout probability\n",
    "        :q_sq: second moment of the dropout probability\n",
    "\n",
    "        Simulate the beta-binomial dropout, an approximation to the hypergeometric \n",
    "        for stimulation with few genes.\n",
    "    \"\"\"\n",
    "\n",
    "    m = q\n",
    "    v = q_sq - q**2\n",
    "    alpha = m*(m*(1-m)/v - 1)\n",
    "    beta = (1-m)*(m*(1-m)/v - 1)\n",
    "    qs = stats.beta.rvs(alpha, beta, size=true_counts.shape[0])\n",
    "\n",
    "    return stats.binom.rvs(true_counts, np.vstack([qs for i in range(true_counts.shape[1])]).T)\n",
    "\n",
    "def simulate(N):\n",
    "    \n",
    "    # control data\n",
    "    ctrl_samples = simulate_correlated_data(\n",
    "        corr_ctrl,\n",
    "        A_mean_ctrl,\n",
    "        B_mean_ctrl,\n",
    "        A_theta_ctrl,\n",
    "        B_theta_ctrl,\n",
    "        size=N)\n",
    "    stim_samples = simulate_correlated_data(\n",
    "        corr_stim,\n",
    "        A_mean_stim,\n",
    "        B_mean_stim,\n",
    "        A_theta_stim,\n",
    "        B_theta_stim,\n",
    "        size=N)\n",
    "    \n",
    "    ctrl_obs = simulate_dropout(ctrl_samples, q=p, q_sq=p_sq)\n",
    "    stim_obs = simulate_dropout(stim_samples, q=p, q_sq=p_sq)\n",
    "    \n",
    "    obs_df = pd.DataFrame()\n",
    "    obs_df['group'] = ['ctrl' for i in range(N)] + ['stim' for i in range(N)]\n",
    "    obs_df['n_counts'] = 1e5 # A large number for n_counts\n",
    "    obs_df.index = obs_df.index.astype(str)\n",
    "    \n",
    "    adata = sc.AnnData(\n",
    "        np.vstack([ctrl_obs, stim_obs]), \n",
    "        var=pd.DataFrame(index=['gene_A', 'gene_B']),\n",
    "        obs=obs_df)\n",
    "    \n",
    "    return adata\n",
    "\n",
    "def hypothesis_test(adata, ci=False):\n",
    "    \n",
    "    estimator = scmemo.SingleCellEstimator(\n",
    "        adata=adata, \n",
    "        group_label='group',\n",
    "        n_umis_column='n_counts',\n",
    "        num_permute=100000,\n",
    "        beta=p)\n",
    "    estimator.beta_sq = p_sq\n",
    "    \n",
    "    estimator.compute_observed_moments()   \n",
    "    estimator.estimate_1d_parameters()\n",
    "    estimator.estimate_2d_parameters(\n",
    "        gene_list_1=['gene_A'],\n",
    "        gene_list_2=['gene_B'])\n",
    "\n",
    "\n",
    "    a = estimator.compute_confidence_intervals_1d(\n",
    "        groups=['ctrl','stim'],\n",
    "        groups_to_compare=[('ctrl', 'stim')])\n",
    "\n",
    "    estimator.compute_confidence_intervals_2d(\n",
    "        gene_list_1=['gene_A'],\n",
    "        gene_list_2=['gene_B'],\n",
    "        groups=['ctrl','stim'],\n",
    "        groups_to_compare=[('ctrl', 'stim')])\n",
    "    \n",
    "    if ci:\n",
    "        return a\n",
    "    \n",
    "    detected_de = estimator.hypothesis_test_result_1d[('ctrl', 'stim')]['de_pval'][0] < 0.05\n",
    "    detected_dv = estimator.hypothesis_test_result_1d[('ctrl', 'stim')]['dv_pval'][1] < 0.05\n",
    "    detected_dc = estimator.hypothesis_test_result_2d[('ctrl', 'stim')]['dcorr_pval'][0][0] < 0.05\n",
    "    \n",
    "    return detected_de, detected_dv, detected_dc\n",
    "    \n",
    "    "
   ]
  },
  {
   "cell_type": "markdown",
   "metadata": {},
   "source": [
    "### Compute power"
   ]
  },
  {
   "cell_type": "code",
   "execution_count": 305,
   "metadata": {},
   "outputs": [
    {
     "data": {
      "text/plain": [
       "<module 'scmemo' from '/home/mkim7/Github/scrna-parameter-estimation/scmemo/scmemo.py'>"
      ]
     },
     "execution_count": 305,
     "metadata": {},
     "output_type": "execute_result"
    }
   ],
   "source": [
    "imp.reload(scmemo)\n"
   ]
  },
  {
   "cell_type": "code",
   "execution_count": 306,
   "metadata": {},
   "outputs": [],
   "source": [
    "Ns = np.logspace(2, 5, 25)\n",
    "num_trials = 500"
   ]
  },
  {
   "cell_type": "code",
   "execution_count": 307,
   "metadata": {},
   "outputs": [],
   "source": [
    "de_power = []\n",
    "dv_power = []\n",
    "dc_power = []\n",
    "\n",
    "de_ci = []\n",
    "dv_ci = []\n",
    "dc_ci = []\n",
    "\n",
    "for idx, N in enumerate(Ns):\n",
    "    \n",
    "    if idx > 0 and idx % 4 == 0:\n",
    "    \n",
    "        with open('de_power_{}.pkl'.format(idx), 'wb') as f:\n",
    "            pkl.dump(de_power, f)\n",
    "        with open('dv_power_{}.pkl'.format(idx), 'wb') as f:\n",
    "            pkl.dump(dv_power, f)\n",
    "        with open('dc_power_{}.pkl'.format(idx), 'wb') as f:\n",
    "            pkl.dump(dc_power, f)\n",
    "    \n",
    "    de_success = np.zeros(num_trials)\n",
    "    dv_success = np.zeros(num_trials)\n",
    "    dc_success = np.zeros(num_trials)\n",
    "    \n",
    "    ci_dict_list = []\n",
    "    \n",
    "    for trial in range(num_trials):\n",
    "        adata = simulate(int(N))\n",
    "        de_success[trial], dv_success[trial], dc_success[trial] = hypothesis_test(adata)\n",
    "\n",
    "    de_power.append(np.nanmean(de_success))\n",
    "    dv_power.append(np.nanmean(dv_success))\n",
    "    dc_power.append(np.nanmean(dc_success))"
   ]
  },
  {
   "cell_type": "code",
   "execution_count": 308,
   "metadata": {},
   "outputs": [],
   "source": [
    "with open('de_power_all.pkl', 'wb') as f:\n",
    "    pkl.dump(de_power, f)\n",
    "with open('dv_power_all.pkl', 'wb') as f:\n",
    "    pkl.dump(dv_power, f)\n",
    "with open('dc_power_all.pkl', 'wb') as f:\n",
    "    pkl.dump(dc_power, f)"
   ]
  },
  {
   "cell_type": "code",
   "execution_count": 343,
   "metadata": {},
   "outputs": [
    {
     "data": {
      "image/png": "[encoded data removed]",
      "text/plain": [
       "<Figure size 129.6x144 with 1 Axes>"
      ]
     },
     "metadata": {
      "needs_background": "light"
     },
     "output_type": "display_data"
    }
   ],
   "source": [
    "params = {'legend.fontsize': 9}\n",
    "pylab.rcParams.update(params)\n",
    "plt.figure(figsize=(1.8, 2))\n",
    "plt.plot(Ns,de_power, 'o-', ms=4)\n",
    "plt.plot(Ns,dv_power, 'o-', ms=4)\n",
    "plt.plot(Ns,dc_power, 'o-', ms=4)\n",
    "plt.xscale('log')\n",
    "plt.xlabel('Number of cells')\n",
    "plt.ylabel('Power')\n",
    "plt.legend(['DE', 'DV', 'DC'], loc='lower right', bbox_to_anchor=(0.52, -0.02, 0.5, 0.5))\n",
    "plt.savefig('power.pdf', bbox_inches='tight')"
   ]
  },
  {
   "cell_type": "markdown",
   "metadata": {},
   "source": [
    "### Compute confidence interval\n",
    "\n",
    "This requires a hack in scmemo.py, returning the full bootstrapped log_mean and log residual var"
   ]
  },
  {
   "cell_type": "code",
   "execution_count": 282,
   "metadata": {},
   "outputs": [],
   "source": [
    "Ns = [5000, 10000, 50000, 100000]"
   ]
  },
  {
   "cell_type": "code",
   "execution_count": 283,
   "metadata": {},
   "outputs": [
    {
     "data": {
      "text/plain": [
       "1.0986122886681098"
      ]
     },
     "execution_count": 283,
     "metadata": {},
     "output_type": "execute_result"
    }
   ],
   "source": [
    "np.log(A_mean_ctrl)"
   ]
  },
  {
   "cell_type": "code",
   "execution_count": 284,
   "metadata": {},
   "outputs": [],
   "source": [
    "full_adata = simulate(int(Ns[-1]))"
   ]
  },
  {
   "cell_type": "code",
   "execution_count": 296,
   "metadata": {},
   "outputs": [
    {
     "data": {
      "image/png": "[encoded data removed]",
      "text/plain": [
       "<Figure size 108x144 with 1 Axes>"
      ]
     },
     "metadata": {
      "needs_background": "light"
     },
     "output_type": "display_data"
    }
   ],
   "source": [
    "sns.set_palette('Set2')\n",
    "plt.figure(figsize=(1.5, 2));\n",
    "#plt.subplots_adjust(wspace=0.3)\n",
    "full_adata = simulate(int(Ns[-1]))\n",
    "\n",
    "# plt.subplot(1, 2, 1)\n",
    "# for N in Ns:\n",
    "\n",
    "#     adata = full_adata.copy()\n",
    "#     sc.pp.subsample(adata, n_obs=int(N))\n",
    "#     mean_boot, res_var_boot = hypothesis_test(adata, ci=True)\n",
    "#     robust_hist(np.log(mean_boot['ctrl']), hist=False)\n",
    "# plt.xlim(0.9, 1.2)\n",
    "# plt.xlabel('Mean\\nexpression')\n",
    "# plt.ylabel('Density')\n",
    "\n",
    "\n",
    "# plt.subplot(1, 2, 2)\n",
    "for N in Ns:\n",
    "\n",
    "    adata = full_adata.copy()\n",
    "    sc.pp.subsample(adata, n_obs=int(N))\n",
    "    mean_boot, res_var_boot = hypothesis_test(adata, ci=True)\n",
    "    robust_hist(np.log(res_var_boot['ctrl']), hist=False, label='{}K'.format(int(N/1000)))\n",
    "plt.xlim(-0.6, 0.5)\n",
    "plt.xlabel('Variability')\n",
    "plt.legend(loc='center left', bbox_to_anchor=(1, 0.5))\n",
    "\n",
    "plt.savefig('ci_numcells_2.pdf', bbox_inches='tight')"
   ]
  },
  {
   "cell_type": "code",
   "execution_count": null,
   "metadata": {},
   "outputs": [],
   "source": []
  },
  {
   "cell_type": "code",
   "execution_count": null,
   "metadata": {},
   "outputs": [],
   "source": []
  },
  {
   "cell_type": "code",
   "execution_count": 187,
   "metadata": {},
   "outputs": [
    {
     "data": {
      "text/plain": [
       "[0.0, 0.0, 0.1, 0.3, 1.0, 1.0]"
      ]
     },
     "execution_count": 187,
     "metadata": {},
     "output_type": "execute_result"
    }
   ],
   "source": [
    "dv_power"
   ]
  },
  {
   "cell_type": "code",
   "execution_count": 188,
   "metadata": {},
   "outputs": [
    {
     "data": {
      "text/plain": [
       "[0.0, 0.0, 0.3, 0.5, 1.0, 1.0]"
      ]
     },
     "execution_count": 188,
     "metadata": {},
     "output_type": "execute_result"
    }
   ],
   "source": [
    "dc_power"
   ]
  },
  {
   "cell_type": "code",
   "execution_count": null,
   "metadata": {},
   "outputs": [],
   "source": []
  },
  {
   "cell_type": "code",
   "execution_count": 135,
   "metadata": {},
   "outputs": [
    {
     "ename": "NameError",
     "evalue": "name 'poi_lambda' is not defined",
     "output_type": "error",
     "traceback": [
      "\u001b[0;31m---------------------------------------------------------------------------\u001b[0m",
      "\u001b[0;31mNameError\u001b[0m                                 Traceback (most recent call last)",
      "\u001b[0;32m<ipython-input-135-1c36b4d5a774>\u001b[0m in \u001b[0;36m<module>\u001b[0;34m\u001b[0m\n\u001b[1;32m      1\u001b[0m \u001b[0;31m# Generate the true distributions\u001b[0m\u001b[0;34m\u001b[0m\u001b[0;34m\u001b[0m\u001b[0;34m\u001b[0m\u001b[0m\n\u001b[0;32m----> 2\u001b[0;31m \u001b[0mpoi\u001b[0m \u001b[0;34m=\u001b[0m \u001b[0mstats\u001b[0m\u001b[0;34m.\u001b[0m\u001b[0mpoisson\u001b[0m\u001b[0;34m.\u001b[0m\u001b[0mrvs\u001b[0m\u001b[0;34m(\u001b[0m\u001b[0mpoi_lambda\u001b[0m\u001b[0;34m,\u001b[0m \u001b[0msize\u001b[0m\u001b[0;34m=\u001b[0m\u001b[0mN\u001b[0m\u001b[0;34m)\u001b[0m\u001b[0;34m\u001b[0m\u001b[0;34m\u001b[0m\u001b[0m\n\u001b[0m\u001b[1;32m      3\u001b[0m \u001b[0mnorm\u001b[0m \u001b[0;34m=\u001b[0m \u001b[0mnp\u001b[0m\u001b[0;34m.\u001b[0m\u001b[0mmaximum\u001b[0m\u001b[0;34m(\u001b[0m\u001b[0mstats\u001b[0m\u001b[0;34m.\u001b[0m\u001b[0mnorm\u001b[0m\u001b[0;34m.\u001b[0m\u001b[0mrvs\u001b[0m\u001b[0;34m(\u001b[0m\u001b[0mloc\u001b[0m\u001b[0;34m=\u001b[0m\u001b[0mnorm_mean\u001b[0m\u001b[0;34m,\u001b[0m \u001b[0mscale\u001b[0m\u001b[0;34m=\u001b[0m\u001b[0mnp\u001b[0m\u001b[0;34m.\u001b[0m\u001b[0msqrt\u001b[0m\u001b[0;34m(\u001b[0m\u001b[0mnorm_var\u001b[0m\u001b[0;34m)\u001b[0m\u001b[0;34m,\u001b[0m \u001b[0msize\u001b[0m\u001b[0;34m=\u001b[0m\u001b[0mN\u001b[0m\u001b[0;34m)\u001b[0m\u001b[0;34m.\u001b[0m\u001b[0mastype\u001b[0m\u001b[0;34m(\u001b[0m\u001b[0mint\u001b[0m\u001b[0;34m)\u001b[0m\u001b[0;34m,\u001b[0m \u001b[0;36m0\u001b[0m\u001b[0;34m)\u001b[0m\u001b[0;34m\u001b[0m\u001b[0;34m\u001b[0m\u001b[0m\n\u001b[1;32m      4\u001b[0m \u001b[0mlognorm\u001b[0m \u001b[0;34m=\u001b[0m \u001b[0mnp\u001b[0m\u001b[0;34m.\u001b[0m\u001b[0mexp\u001b[0m\u001b[0;34m(\u001b[0m\u001b[0mstats\u001b[0m\u001b[0;34m.\u001b[0m\u001b[0mnorm\u001b[0m\u001b[0;34m.\u001b[0m\u001b[0mrvs\u001b[0m\u001b[0;34m(\u001b[0m\u001b[0mloc\u001b[0m\u001b[0;34m=\u001b[0m\u001b[0mlognorm_mean\u001b[0m\u001b[0;34m,\u001b[0m \u001b[0mscale\u001b[0m\u001b[0;34m=\u001b[0m\u001b[0mnp\u001b[0m\u001b[0;34m.\u001b[0m\u001b[0msqrt\u001b[0m\u001b[0;34m(\u001b[0m\u001b[0mlognorm_var\u001b[0m\u001b[0;34m)\u001b[0m\u001b[0;34m,\u001b[0m \u001b[0msize\u001b[0m\u001b[0;34m=\u001b[0m\u001b[0mN\u001b[0m\u001b[0;34m)\u001b[0m\u001b[0;34m)\u001b[0m\u001b[0;34m.\u001b[0m\u001b[0mastype\u001b[0m\u001b[0;34m(\u001b[0m\u001b[0mint\u001b[0m\u001b[0;34m)\u001b[0m\u001b[0;34m\u001b[0m\u001b[0;34m\u001b[0m\u001b[0m\n\u001b[1;32m      5\u001b[0m \u001b[0mnb\u001b[0m \u001b[0;34m=\u001b[0m \u001b[0mstats\u001b[0m\u001b[0;34m.\u001b[0m\u001b[0mnbinom\u001b[0m\u001b[0;34m.\u001b[0m\u001b[0mrvs\u001b[0m\u001b[0;34m(\u001b[0m\u001b[0;34m*\u001b[0m\u001b[0mconvert_params\u001b[0m\u001b[0;34m(\u001b[0m\u001b[0mnb_mean\u001b[0m\u001b[0;34m,\u001b[0m\u001b[0mnb_theta\u001b[0m\u001b[0;34m)\u001b[0m\u001b[0;34m,\u001b[0m \u001b[0msize\u001b[0m\u001b[0;34m=\u001b[0m\u001b[0mN\u001b[0m\u001b[0;34m)\u001b[0m\u001b[0;34m\u001b[0m\u001b[0;34m\u001b[0m\u001b[0m\n",
      "\u001b[0;31mNameError\u001b[0m: name 'poi_lambda' is not defined"
     ]
    }
   ],
   "source": [
    "# Generate the true distributions\n",
    "poi = stats.poisson.rvs(poi_lambda, size=N)\n",
    "norm = np.maximum(stats.norm.rvs(loc=norm_mean, scale=np.sqrt(norm_var), size=N).astype(int), 0)\n",
    "lognorm = np.exp(stats.norm.rvs(loc=lognorm_mean, scale=np.sqrt(lognorm_var), size=N)).astype(int)\n",
    "nb = stats.nbinom.rvs(*convert_params(nb_mean,nb_theta), size=N)"
   ]
  },
  {
   "cell_type": "code",
   "execution_count": null,
   "metadata": {},
   "outputs": [],
   "source": [
    "# Apply the noise process\n",
    "poi_obs = stats.binom.rvs(n=poi, p=qs)\n",
    "norm_obs = stats.binom.rvs(n=norm, p=qs)\n",
    "lognorm_obs = stats.binom.rvs(n=lognorm, p=qs)\n",
    "nb_obs = stats.binom.rvs(n=nb, p=qs)"
   ]
  },
  {
   "cell_type": "code",
   "execution_count": null,
   "metadata": {},
   "outputs": [],
   "source": [
    "# Create an ann data out of these\n",
    "obs_df = pd.DataFrame()\n",
    "obs_df['n_counts'] = [1e10 for i in range(N)]\n",
    "obs_df['cell_type'] = 'A'\n",
    "values = np.vstack([poi_obs, norm_obs, lognorm_obs, nb_obs]).T\n",
    "adata = sc.AnnData(\n",
    "    values, \n",
    "    var=pd.DataFrame(index=['Poi Gene', 'Norm Gene', 'Lognorm Gene', 'NB Gene']),\n",
    "    obs=obs_df)"
   ]
  },
  {
   "cell_type": "markdown",
   "metadata": {},
   "source": [
    "### Create an estimator and fit the simulated data"
   ]
  },
  {
   "cell_type": "code",
   "execution_count": 257,
   "metadata": {},
   "outputs": [],
   "source": [
    "imp.reload(scmemo)\n",
    "estimator = scmemo.SingleCellEstimator(\n",
    "    adata=adata, \n",
    "    group_label='cell_type',\n",
    "    n_umis_column='n_counts',\n",
    "    num_permute=10000,\n",
    "    beta=0.1)\n",
    "estimator.beta_sq = p_sq"
   ]
  },
  {
   "cell_type": "code",
   "execution_count": 258,
   "metadata": {},
   "outputs": [
    {
     "name": "stdout",
     "output_type": "stream",
     "text": [
      "Computing observed moments for: A\n",
      "Computing observed moments for: A\n"
     ]
    }
   ],
   "source": [
    "estimator.compute_observed_moments('A')\n",
    "estimator.compute_observed_moments('-A')"
   ]
  },
  {
   "cell_type": "code",
   "execution_count": 259,
   "metadata": {},
   "outputs": [],
   "source": [
    "estimator.estimate_1d_parameters()"
   ]
  },
  {
   "cell_type": "code",
   "execution_count": 260,
   "metadata": {},
   "outputs": [
    {
     "data": {
      "text/plain": [
       "2.7236137"
      ]
     },
     "execution_count": 260,
     "metadata": {},
     "output_type": "execute_result"
    }
   ],
   "source": [
    "estimator.estimated_central_moments['A']['second'][1]"
   ]
  },
  {
   "cell_type": "markdown",
   "metadata": {},
   "source": [
    "### Get the parameters to reconstruct the distributions"
   ]
  },
  {
   "cell_type": "code",
   "execution_count": 261,
   "metadata": {},
   "outputs": [],
   "source": [
    "est_poi_lambda = estimator.estimated_central_moments['A']['first'][0]# + estimator.estimated_central_moments['A']['second'][0])/2\n",
    "est_norm_mean = estimator.estimated_central_moments['A']['first'][1]\n",
    "est_norm_var = estimator.estimated_central_moments['A']['second'][1]\n",
    "temp = 1 + estimator.estimated_central_moments['A']['second'][2]/estimator.estimated_central_moments['A']['first'][2]**2\n",
    "est_lognorm_var = np.log(temp)\n",
    "est_lognorm_mean = np.log(\n",
    "    estimator.estimated_central_moments['A']['first'][2]) - np.log(np.sqrt(temp))\n",
    "est_nb_mean = estimator.estimated_central_moments['A']['first'][3]\n",
    "est_nb_theta = \\\n",
    "    1/((estimator.estimated_central_moments['A']['second'][3] - \\\n",
    "    estimator.estimated_central_moments['A']['first'][3])/ \\\n",
    "    estimator.estimated_central_moments['A']['first'][3]**2)"
   ]
  },
  {
   "cell_type": "markdown",
   "metadata": {},
   "source": [
    "### Plot the simulation results"
   ]
  },
  {
   "cell_type": "code",
   "execution_count": 293,
   "metadata": {},
   "outputs": [],
   "source": [
    "def plot_distributions(x, true_pmf, est_poi_pmf, obs, title, ax1):\n",
    "    \n",
    "    color = 'tab:brown'\n",
    "    \n",
    "    if title == 'Normal' or title == 'Log-normal':\n",
    "        ax1.set_xlabel('mRNA content')\n",
    "    ax1.set_ylabel('Observed probability', color=color)\n",
    "    ax1.hist(obs, color=color, bins=np.bincount(obs).shape[0], density=True)\n",
    "    ax1.set_title(title)\n",
    "    ax1.tick_params(axis='y', labelcolor=color)\n",
    "\n",
    "    ax2 = ax1.twinx()  # instantiate a second axes that shares the same x-axis\n",
    "\n",
    "    ax2.set_ylabel('Latent probability')\n",
    "    ax2.plot(x, est_poi_pmf, \n",
    "             marker='o' if title == 'Negative Binomial' or title == 'Poisson' else None,\n",
    "             mfc='none', \n",
    "             ms=9, \n",
    "             linestyle='--', \n",
    "             mew=1.5, \n",
    "             linewidth=0 if title == 'Poisson' or title == 'Negative Binomial' else 3, \n",
    "             label='Estimated')\n",
    "    ax2.plot(x, true_pmf, \n",
    "             marker='x' if title == 'Negative Binomial' or title == 'Poisson' else None, \n",
    "             mfc='none',\n",
    "             ms=1, \n",
    "             linestyle='-', \n",
    "             mew=5, \n",
    "             linewidth=0 if title == 'Poisson' or title == 'Negative Binomial' else 3, \n",
    "             label='Ground truth')\n",
    "    ax2.legend(labelspacing=0.4)\n",
    "    \n",
    "#     fig.tight_layout()  # otherwise the right y-label is slightly clipped\n",
    "#     plt.show()\n",
    "    \n",
    "    return fig"
   ]
  },
  {
   "cell_type": "code",
   "execution_count": 294,
   "metadata": {},
   "outputs": [],
   "source": [
    "params = {'legend.fontsize': 'small',\n",
    "         'axes.labelsize': 'medium',\n",
    "         'axes.titlesize':'medium',\n",
    "         'figure.titlesize':'medium',\n",
    "         'xtick.labelsize':'small',\n",
    "         'ytick.labelsize':'small'}\n",
    "pylab.rcParams.update(params)"
   ]
  },
  {
   "cell_type": "code",
   "execution_count": 296,
   "metadata": {},
   "outputs": [],
   "source": [
    "fig = plt.figure(figsize=(6.5, 4))\n",
    "plt.subplots_adjust(wspace=0.6, hspace=0.35)\n",
    "\n",
    "# Poisson\n",
    "ax1 = plt.subplot(2, 2, 1);\n",
    "x = np.arange(0, 10, 1)\n",
    "plot_distributions(\n",
    "    x, \n",
    "    stats.poisson.pmf(x, poi_lambda), \n",
    "    stats.poisson.pmf(x, est_poi_lambda), \n",
    "    poi_obs, 'Poisson', ax1)\n",
    "\n",
    "# Normal\n",
    "ax1 = plt.subplot(2, 2, 3);\n",
    "\n",
    "x = np.arange(0, 25, 0.1)\n",
    "plot_distributions(\n",
    "    x, \n",
    "    stats.norm.pdf(x, norm_mean, np.sqrt(norm_var)), \n",
    "    stats.norm.pdf(x, est_norm_mean, np.sqrt(est_norm_var)), \n",
    "    norm_obs, 'Normal', ax1)\n",
    "\n",
    "# Log-normal\n",
    "ax1 = plt.subplot(2, 2, 4)\n",
    "x = np.arange(0, 30, 0.01)\n",
    "plot_distributions(\n",
    "    x, \n",
    "    stats.lognorm.pdf(x, scale=np.exp(lognorm_mean), s=np.sqrt(lognorm_var)), \n",
    "    stats.lognorm.pdf(x, scale=np.exp(est_lognorm_mean), s=np.sqrt(est_lognorm_var)), \n",
    "    lognorm_obs, 'Log-normal', ax1)\n",
    "\n",
    "# Negative binomial\n",
    "ax1 = plt.subplot(2, 2, 2)\n",
    "x = np.arange(0, 25, 1)\n",
    "plot_distributions(\n",
    "    x, \n",
    "    stats.nbinom.pmf(x, *convert_params(nb_mean,nb_theta)), \n",
    "    stats.nbinom.pmf(x, *convert_params(est_nb_mean,est_nb_theta)), \n",
    "    nb_obs, 'Negative Binomial', ax1)\n",
    "#plt.show()\n",
    "fig.savefig('distributional_assumptions.eps', bbox_inches='tight')\n"
   ]
  }
 ],
 "metadata": {
  "kernelspec": {
   "display_name": "Python 3",
   "language": "python",
   "name": "python3"
  },
  "language_info": {
   "codemirror_mode": {
    "name": "ipython",
    "version": 3
   },
   "file_extension": ".py",
   "mimetype": "text/x-python",
   "name": "python",
   "nbconvert_exporter": "python",
   "pygments_lexer": "ipython3",
   "version": "3.7.5"
  }
 },
 "nbformat": 4,
 "nbformat_minor": 4
}
