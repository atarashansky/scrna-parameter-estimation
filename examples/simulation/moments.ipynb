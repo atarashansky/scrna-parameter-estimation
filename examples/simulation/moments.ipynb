{
 "cells": [
  {
   "cell_type": "code",
   "execution_count": 1,
   "metadata": {},
   "outputs": [],
   "source": [
    "import pandas as pd\n",
    "import matplotlib.pyplot as plt\n",
    "import scanpy.api as sc\n",
    "import scipy as sp\n",
    "import itertools\n",
    "import numpy as np\n",
    "import scipy.stats as stats\n",
    "from scipy.integrate import dblquad\n",
    "import seaborn as sns\n",
    "from statsmodels.stats.multitest import fdrcorrection\n",
    "import imp"
   ]
  },
  {
   "cell_type": "code",
   "execution_count": 2,
   "metadata": {},
   "outputs": [],
   "source": [
    "def generalized_binom_coef(x,y):\n",
    "    \n",
    "#     if type(x) == int and type(y) == np.ndarray:\n",
    "#         x = np.full_like(y, x)\n",
    "#     if type(y) == int and type(y) == np.ndarray:\n",
    "#         y = np.full_like(x, y)\n",
    "\n",
    "    return sp.special.gamma(x+1) / (sp.special.gamma(y+1) * sp.special.gamma(x-y+1))\n",
    "\n",
    "class toy_rv(stats.rv_discrete):\n",
    "    \n",
    "    def _pmf(self, k, n, p):\n",
    "        \n",
    "        return generalized_binom_coef(n, k) * p ** (k) * (1-p)**(n-k)\n",
    "        "
   ]
  },
  {
   "cell_type": "code",
   "execution_count": 3,
   "metadata": {},
   "outputs": [],
   "source": [
    "def naive_estimation(observed, p_hat=0.1):\n",
    "    \n",
    "    mu_hat = np.log(observed.mean()) - np.log(p_hat) - (1/2)*np.log(observed.var()/observed.mean()**2 - (1-p_hat)/observed.mean() + 1)\n",
    "    \n",
    "    sigma_hat = np.sqrt(np.log(observed.var()/observed.mean()**2 - (1-p_hat)/observed.mean() + 1))\n",
    "\n",
    "    return mu_hat, sigma_hat"
   ]
  },
  {
   "cell_type": "code",
   "execution_count": 113,
   "metadata": {},
   "outputs": [],
   "source": [
    "def generate_moment_mat(size=2):\n",
    "    \n",
    "    B = np.zeros((size, 2))\n",
    "    B[:, 0] = np.arange(size)+1\n",
    "    B[:, 1] = (np.arange(size)+1)**2/2\n",
    "    return B\n",
    "\n",
    "def get_observed_moments(data, order=2):\n",
    "    \n",
    "    return np.array([(data**(i+1)).mean() for i in range(order)]).reshape(-1, 1)\n",
    "\n",
    "def linsys_estimation(data, p=0.1, order=2, lam_max=3):\n",
    "    \n",
    "    if order == 3:\n",
    "        A = np.zeros((3,3))\n",
    "        A[0, 0] = p\n",
    "        A[1, 0] = -p*(p-1)\n",
    "        A[1, 1] = p**2\n",
    "        A[2, 0] = (2*p**3 - 3*p**2 + p)\n",
    "        A[2, 1] = (3*p**2 - 3*p**3)\n",
    "        A[2, 2] = p**3\n",
    "    else:\n",
    "        A = np.zeros((2,2))\n",
    "        A[0, 0] = p\n",
    "        A[1, 0] = -p*(p-1)\n",
    "        A[1, 1] = p**2\n",
    "        \n",
    "    lam = 0.2/((data < 1).mean())\n",
    "    \n",
    "    logex = np.log(np.linalg.inv(A).dot(get_observed_moments(data, order=order)))\n",
    "    B = generate_moment_mat(size=order)\n",
    "    R = lam * np.array([1, -1]).reshape(1, -1)\n",
    "    sol = np.linalg.inv(B.T.dot(B) + R.T.dot(R)).dot(B.T).dot(logex)\n",
    "    #sol = np.linalg.inv(B.T.dot(B)).dot(B.T.dot(logex) - R)\n",
    "    return logex, sol[0, 0], np.sqrt(sol[1, 0])"
   ]
  },
  {
   "cell_type": "code",
   "execution_count": 122,
   "metadata": {},
   "outputs": [],
   "source": [
    "mu = -3\n",
    "sigma = 1"
   ]
  },
  {
   "cell_type": "code",
   "execution_count": 123,
   "metadata": {},
   "outputs": [],
   "source": [
    "mean_list = []\n",
    "var_list = []\n",
    "\n",
    "for trial in range(20):\n",
    "\n",
    "    lognorm_data = stats.lognorm.rvs(\n",
    "        s=sigma, \n",
    "        scale=np.exp(mu), \n",
    "        size=2000)\n",
    "    # norm_data = stats.norm.rvs(\n",
    "    #     loc=mu, \n",
    "    #     scale=sigma, \n",
    "    #     size=1000)\n",
    "    data = \\\n",
    "        toy_rv().rvs(\n",
    "            n=lognorm_data,\n",
    "            p=0.1)\n",
    "    \n",
    "    logex, m, v = linsys_estimation(data, order=3)\n",
    "    \n",
    "    mean_list.append(m)\n",
    "    var_list.append(v)"
   ]
  },
  {
   "cell_type": "code",
   "execution_count": 125,
   "metadata": {},
   "outputs": [
    {
     "data": {
      "text/plain": [
       "(-0.9994772359125319, 2.7636261197940524e-28)"
      ]
     },
     "execution_count": 125,
     "metadata": {},
     "output_type": "execute_result"
    }
   ],
   "source": [
    "stats.pearsonr(mean_list, var_list)"
   ]
  },
  {
   "cell_type": "code",
   "execution_count": 126,
   "metadata": {},
   "outputs": [
    {
     "data": {
      "text/plain": [
       "array([[-2.46510402],\n",
       "       [-2.46510402],\n",
       "       [-2.46510402]])"
      ]
     },
     "execution_count": 126,
     "metadata": {},
     "output_type": "execute_result"
    }
   ],
   "source": [
    "logex"
   ]
  },
  {
   "cell_type": "code",
   "execution_count": 127,
   "metadata": {},
   "outputs": [
    {
     "data": {
      "text/plain": [
       "array([[-2.53959438],\n",
       "       [-4.08222804],\n",
       "       [-4.59734322]])"
      ]
     },
     "execution_count": 127,
     "metadata": {},
     "output_type": "execute_result"
    }
   ],
   "source": [
    "np.log(get_observed_moments(lognorm_data, order=3))"
   ]
  },
  {
   "cell_type": "code",
   "execution_count": 128,
   "metadata": {},
   "outputs": [
    {
     "data": {
      "image/png": "[encoded data removed]",
      "text/plain": [
       "<Figure size 720x216 with 2 Axes>"
      ]
     },
     "metadata": {
      "needs_background": "light"
     },
     "output_type": "display_data"
    }
   ],
   "source": [
    "plt.figure(figsize=(10, 3))\n",
    "plt.subplot(1, 2, 1);\n",
    "plt.hist(lognorm_data, bins=50);\n",
    "plt.subplot(1, 2, 2);\n",
    "plt.hist(data, bins=50);"
   ]
  },
  {
   "cell_type": "code",
   "execution_count": null,
   "metadata": {},
   "outputs": [],
   "source": []
  },
  {
   "cell_type": "code",
   "execution_count": 384,
   "metadata": {},
   "outputs": [],
   "source": [
    "logex = np.log(np.linalg.inv(A).dot(get_observed_moments(data, order=3)))"
   ]
  },
  {
   "cell_type": "code",
   "execution_count": 385,
   "metadata": {},
   "outputs": [
    {
     "data": {
      "text/plain": [
       "array([[1.37371558],\n",
       "       [3.5931942 ],\n",
       "       [1.51583028]])"
      ]
     },
     "execution_count": 385,
     "metadata": {},
     "output_type": "execute_result"
    }
   ],
   "source": [
    "logex"
   ]
  },
  {
   "cell_type": "code",
   "execution_count": 386,
   "metadata": {},
   "outputs": [
    {
     "data": {
      "text/plain": [
       "array([[1.46499602],\n",
       "       [3.8641409 ],\n",
       "       [6.92191514]])"
      ]
     },
     "execution_count": 386,
     "metadata": {},
     "output_type": "execute_result"
    }
   ],
   "source": [
    "np.log(get_observed_moments(lognorm_data, order=3))"
   ]
  },
  {
   "cell_type": "code",
   "execution_count": 9,
   "metadata": {},
   "outputs": [],
   "source": [
    "def generate_moment_mat(size=2):\n",
    "    \n",
    "    B = np.zeros((size, 2))\n",
    "    B[:, 0] = np.arange(size)+1\n",
    "    B[:, 1] = (np.arange(size)+1)**2/2\n",
    "    return B\n",
    "\n",
    "def get_observed_moments(data, order=2):\n",
    "    \n",
    "    return np.array([(data**(i+1)).mean() for i in range(order)]).reshape(-1, 1)\n",
    "\n",
    "def linsys_estimation(data, p=0.1, order=2, lam=0.1):\n",
    "    \n",
    "    if order == 3:\n",
    "        A = np.zeros((3,3))\n",
    "        A[0, 0] = p\n",
    "        A[1, 0] = -p*(p-1)\n",
    "        A[1, 1] = p**2\n",
    "        A[2, 0] = (2*p**3 - 3*p**2 + p)\n",
    "        A[2, 1] = (3*p**2 - 3*p**3)\n",
    "        A[2, 2] = p**3\n",
    "    else:\n",
    "        A = np.zeros((2,2))\n",
    "        A[0, 0] = p\n",
    "        A[1, 0] = -p*(p-1)\n",
    "        A[1, 1] = p**2    \n",
    "    \n",
    "    logex = np.log(np.linalg.inv(A).dot(get_observed_moments(data, order=order)))\n",
    "    B = generate_moment_mat(size=order)\n",
    "    R = lam * np.array([1, -1]).reshape(1, -1)\n",
    "    #sol = np.linalg.inv(B.T.dot(B) + R.T.dot(R)).dot(B.T).dot(logex)\n",
    "    sol = np.linalg.inv(B.T.dot(B)).dot(B.T.dot(logex) - R)\n",
    "    return np.exp(logex), sol[0, 0], np.sqrt(sol[1, 0])"
   ]
  },
  {
   "cell_type": "code",
   "execution_count": 536,
   "metadata": {},
   "outputs": [
    {
     "data": {
      "text/plain": [
       "(-5.124135468723669, 1.5635940693408688)"
      ]
     },
     "execution_count": 536,
     "metadata": {},
     "output_type": "execute_result"
    }
   ],
   "source": [
    "linsys_estimation(data, order=3)"
   ]
  },
  {
   "cell_type": "code",
   "execution_count": null,
   "metadata": {},
   "outputs": [],
   "source": []
  },
  {
   "cell_type": "code",
   "execution_count": null,
   "metadata": {},
   "outputs": [],
   "source": []
  },
  {
   "cell_type": "code",
   "execution_count": null,
   "metadata": {},
   "outputs": [],
   "source": []
  },
  {
   "cell_type": "code",
   "execution_count": null,
   "metadata": {},
   "outputs": [],
   "source": []
  },
  {
   "cell_type": "code",
   "execution_count": null,
   "metadata": {},
   "outputs": [],
   "source": []
  },
  {
   "cell_type": "code",
   "execution_count": null,
   "metadata": {},
   "outputs": [],
   "source": []
  },
  {
   "cell_type": "code",
   "execution_count": null,
   "metadata": {},
   "outputs": [],
   "source": []
  },
  {
   "cell_type": "code",
   "execution_count": null,
   "metadata": {},
   "outputs": [],
   "source": []
  },
  {
   "cell_type": "code",
   "execution_count": null,
   "metadata": {},
   "outputs": [],
   "source": []
  },
  {
   "cell_type": "code",
   "execution_count": null,
   "metadata": {},
   "outputs": [],
   "source": []
  },
  {
   "cell_type": "code",
   "execution_count": null,
   "metadata": {},
   "outputs": [],
   "source": []
  },
  {
   "cell_type": "code",
   "execution_count": null,
   "metadata": {},
   "outputs": [],
   "source": []
  },
  {
   "cell_type": "code",
   "execution_count": null,
   "metadata": {},
   "outputs": [],
   "source": []
  },
  {
   "cell_type": "code",
   "execution_count": null,
   "metadata": {},
   "outputs": [],
   "source": []
  },
  {
   "cell_type": "code",
   "execution_count": 133,
   "metadata": {},
   "outputs": [],
   "source": [
    "n = 5\n",
    "p = 0.1"
   ]
  },
  {
   "cell_type": "code",
   "execution_count": 157,
   "metadata": {},
   "outputs": [
    {
     "data": {
      "text/plain": [
       "1.1599999999999997"
      ]
     },
     "execution_count": 157,
     "metadata": {},
     "output_type": "execute_result"
    }
   ],
   "source": [
    "stats.binom.expect(lambda x: x**3, args=(n,p))"
   ]
  },
  {
   "cell_type": "code",
   "execution_count": null,
   "metadata": {},
   "outputs": [],
   "source": []
  },
  {
   "cell_type": "code",
   "execution_count": null,
   "metadata": {},
   "outputs": [],
   "source": []
  },
  {
   "cell_type": "code",
   "execution_count": 158,
   "metadata": {},
   "outputs": [
    {
     "data": {
      "text/plain": [
       "0.7000000000000001"
      ]
     },
     "execution_count": 158,
     "metadata": {},
     "output_type": "execute_result"
    }
   ],
   "source": [
    "n**2*(p**2) - n*p*(p-1)"
   ]
  },
  {
   "cell_type": "code",
   "execution_count": 161,
   "metadata": {},
   "outputs": [
    {
     "data": {
      "text/plain": [
       "1.1600000000000001"
      ]
     },
     "execution_count": 161,
     "metadata": {},
     "output_type": "execute_result"
    }
   ],
   "source": [
    "n**3*p**3 + n**2*(3*p**2 - 3*p**3) + n*(2*p**3 - 3*p**2 + p)"
   ]
  }
 ],
 "metadata": {
  "kernelspec": {
   "display_name": "Python 3",
   "language": "python",
   "name": "python3"
  },
  "language_info": {
   "codemirror_mode": {
    "name": "ipython",
    "version": 3
   },
   "file_extension": ".py",
   "mimetype": "text/x-python",
   "name": "python",
   "nbconvert_exporter": "python",
   "pygments_lexer": "ipython3",
   "version": "3.7.3"
  }
 },
 "nbformat": 4,
 "nbformat_minor": 2
}
