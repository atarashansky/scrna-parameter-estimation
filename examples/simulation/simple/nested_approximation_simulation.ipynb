{
 "cells": [
  {
   "cell_type": "markdown",
   "metadata": {},
   "source": [
    "# Hypergeometric sampling resembles nested hypergeometric sampling"
   ]
  },
  {
   "cell_type": "code",
   "execution_count": 11,
   "metadata": {},
   "outputs": [],
   "source": [
    "import numpy as np\n",
    "import scipy.stats as stats\n",
    "import matplotlib.pyplot as plt"
   ]
  },
  {
   "cell_type": "markdown",
   "metadata": {},
   "source": [
    "### simulations"
   ]
  },
  {
   "cell_type": "code",
   "execution_count": 27,
   "metadata": {},
   "outputs": [],
   "source": [
    "N = 10000\n",
    "p1 = 0.1\n",
    "p2 = 0.5"
   ]
  },
  {
   "cell_type": "code",
   "execution_count": 28,
   "metadata": {},
   "outputs": [],
   "source": [
    "data = np.random.choice(['A' for i in range(1000)] + ['E'], size=N)"
   ]
  },
  {
   "cell_type": "code",
   "execution_count": 29,
   "metadata": {},
   "outputs": [],
   "source": [
    "vals, counts = np.unique(data, return_counts=True)"
   ]
  },
  {
   "cell_type": "code",
   "execution_count": 30,
   "metadata": {},
   "outputs": [
    {
     "data": {
      "text/plain": [
       "array([9989,   11])"
      ]
     },
     "execution_count": 30,
     "metadata": {},
     "output_type": "execute_result"
    }
   ],
   "source": [
    "counts"
   ]
  },
  {
   "cell_type": "code",
   "execution_count": null,
   "metadata": {},
   "outputs": [],
   "source": [
    "N_total = []\n",
    "N_sequential = []\n",
    "for trial in range(100000):\n",
    "    N_total.append(stats.hypergeom.rvs(N, counts[-1], int(N*p1*p2)))\n",
    "    temp = stats.hypergeom.rvs(N, counts[-1], int(N*p1))\n",
    "    N_sequential.append(stats.hypergeom.rvs(int(N*p1), temp, int(N*p1*p2)))"
   ]
  },
  {
   "cell_type": "code",
   "execution_count": 31,
   "metadata": {},
   "outputs": [],
   "source": [
    "N_total = []\n",
    "N_sequential = []\n",
    "for trial in range(100000):\n",
    "    N_total.append(stats.hypergeom.rvs(N, counts[-1], int(N*p1*p2)))\n",
    "    temp = stats.hypergeom.rvs(N, counts[-1], int(N*p1))\n",
    "    N_sequential.append(stats.binom.rvs(temp, p2))"
   ]
  },
  {
   "cell_type": "code",
   "execution_count": 32,
   "metadata": {},
   "outputs": [],
   "source": [
    "# N_total = []\n",
    "# N_sequential = []\n",
    "# for trial in range(100000):\n",
    "#     N_total.append(stats.binom.rvs(N, p1*p2))\n",
    "#     N_sequential.append(stats.binom.rvs(stats.binom.rvs(N, p1), p2))"
   ]
  },
  {
   "cell_type": "code",
   "execution_count": 33,
   "metadata": {},
   "outputs": [
    {
     "name": "stdout",
     "output_type": "stream",
     "text": [
      "0.55018 0.5496\n",
      "0.5211019676 0.52043984\n"
     ]
    }
   ],
   "source": [
    "print(np.array(N_total).mean(), np.array(N_sequential).mean())\n",
    "print(np.array(N_total).var(), np.array(N_sequential).var())"
   ]
  },
  {
   "cell_type": "code",
   "execution_count": 34,
   "metadata": {},
   "outputs": [
    {
     "data": {
      "image/png": "[encoded data removed]",
      "text/plain": [
       "<Figure size 432x288 with 1 Axes>"
      ]
     },
     "metadata": {
      "needs_background": "light"
     },
     "output_type": "display_data"
    }
   ],
   "source": [
    "plt.hist([N_total,N_sequential], bins=30);\n"
   ]
  }
 ],
 "metadata": {
  "kernelspec": {
   "display_name": "Python 3",
   "language": "python",
   "name": "python3"
  },
  "language_info": {
   "codemirror_mode": {
    "name": "ipython",
    "version": 3
   },
   "file_extension": ".py",
   "mimetype": "text/x-python",
   "name": "python",
   "nbconvert_exporter": "python",
   "pygments_lexer": "ipython3",
   "version": "3.6.5"
  }
 },
 "nbformat": 4,
 "nbformat_minor": 2
}
