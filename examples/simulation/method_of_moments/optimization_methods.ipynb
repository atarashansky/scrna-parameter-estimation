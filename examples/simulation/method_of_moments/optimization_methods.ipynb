{
 "cells": [
  {
   "cell_type": "markdown",
   "metadata": {},
   "source": [
    "# Optimization methods & acceleration"
   ]
  },
  {
   "cell_type": "code",
   "execution_count": 111,
   "metadata": {},
   "outputs": [
    {
     "data": {
      "text/html": [
       "<style>.container { width:100% !important; }</style>"
      ],
      "text/plain": [
       "<IPython.core.display.HTML object>"
      ]
     },
     "metadata": {},
     "output_type": "display_data"
    }
   ],
   "source": [
    "import numpy as np\n",
    "import scipy.stats as stats\n",
    "import matplotlib.pyplot as plt\n",
    "import seaborn as sns\n",
    "import pandas as pd\n",
    "import scipy as sp\n",
    "import imp\n",
    "from IPython.core.display import display, HTML\n",
    "display(HTML(\"<style>.container { width:100% !important; }</style>\"))"
   ]
  },
  {
   "cell_type": "code",
   "execution_count": 2,
   "metadata": {},
   "outputs": [],
   "source": [
    "import numdifftools"
   ]
  },
  {
   "cell_type": "code",
   "execution_count": 3,
   "metadata": {},
   "outputs": [],
   "source": [
    "import numpy as np\n",
    "from scipy.special import psi\n",
    "from statsmodels.sandbox.regression.gmm import GMM"
   ]
  },
  {
   "cell_type": "code",
   "execution_count": 4,
   "metadata": {},
   "outputs": [],
   "source": [
    "import sys\n",
    "sys.path.append('simulate.py')\n",
    "import simulate as sim"
   ]
  },
  {
   "cell_type": "code",
   "execution_count": 5,
   "metadata": {},
   "outputs": [
    {
     "data": {
      "text/plain": [
       "<module 'simulate' from '/wynton/group/ye/mincheol/Github/scrna-parameter-estimation/examples/simulation/method_of_moments/simulate.py'>"
      ]
     },
     "execution_count": 5,
     "metadata": {},
     "output_type": "execute_result"
    }
   ],
   "source": [
    "imp.reload(sim)"
   ]
  },
  {
   "cell_type": "code",
   "execution_count": 8,
   "metadata": {},
   "outputs": [],
   "source": [
    "p = 0.1\n",
    "noise_level = 0.2049755522580501\n",
    "p_sq = (noise_level+1)*p**2"
   ]
  },
  {
   "cell_type": "code",
   "execution_count": 7,
   "metadata": {},
   "outputs": [],
   "source": [
    "X, z = sim.simulate_true_counts(\n",
    "    N=5000,\n",
    "    mean_coef = np.array([1, 0.1]),\n",
    "    var_coef = np.array([2, 0.1]),\n",
    "    num_levels=2,\n",
    "    p=1)\n",
    "\n",
    "y = sim.simulate_dropout(z, p, p_sq) "
   ]
  },
  {
   "cell_type": "code",
   "execution_count": 706,
   "metadata": {},
   "outputs": [
    {
     "data": {
      "text/plain": [
       "<matplotlib.axes._subplots.AxesSubplot at 0x7fcf95851050>"
      ]
     },
     "execution_count": 706,
     "metadata": {},
     "output_type": "execute_result"
    },
    {
     "data": {
      "image/png": "[encoded data removed]",
      "text/plain": [
       "<Figure size 432x288 with 1 Axes>"
      ]
     },
     "metadata": {
      "needs_background": "light"
     },
     "output_type": "display_data"
    }
   ],
   "source": [
    "sns.violinplot(pd.Series(X[:, 0]), y.ravel())"
   ]
  },
  {
   "cell_type": "markdown",
   "metadata": {},
   "source": [
    "### Naive implementation"
   ]
  },
  {
   "cell_type": "code",
   "execution_count": 707,
   "metadata": {},
   "outputs": [],
   "source": [
    "class MeanGMM(GMM):\n",
    "\n",
    "    \n",
    "    def __init__(self, *args, **kwds):\n",
    "        # set appropriate counts for moment conditions and parameters\n",
    "        # TODO: clean up signature\n",
    "        kwds.setdefault('k_moms', 2)\n",
    "        kwds.setdefault('k_params', 2)\n",
    "        super(MeanGMM, self).__init__(*args, **kwds)\n",
    "        \n",
    "    \n",
    "    def fitstart(self):\n",
    "        \n",
    "        y = self.endog.reshape(-1, 1)/self.q\n",
    "        x_mat = self.exog\n",
    "        ylog = np.log(y+1)\n",
    "        sol, _, _, _ = np.linalg.lstsq(x_mat, ylog, rcond=-1)\n",
    "        \n",
    "        return sol.reshape(-1)\n",
    "\n",
    "\n",
    "    def momcond(self, params):\n",
    "                \n",
    "        y = self.endog.reshape(-1, 1)\n",
    "        x_mat = self.exog\n",
    "\n",
    "        beta_hat = params.reshape(-1, 1)\n",
    "        \n",
    "        a =  (x_mat*y)/self.q - (x_mat*np.exp(x_mat@beta_hat))\n",
    "        return a\n",
    "    \n",
    "class VarianceGMM(GMM):\n",
    "\n",
    "    \n",
    "    def __init__(self, *args, **kwds):\n",
    "        # set appropriate counts for moment conditions and parameters\n",
    "        # TODO: clean up signature\n",
    "        kwds.setdefault('k_moms', 2)\n",
    "        kwds.setdefault('k_params', 2)\n",
    "        super(VarianceGMM, self).__init__(*args, **kwds)\n",
    "        \n",
    "        \n",
    "    def fitstart(self):\n",
    "        \n",
    "        y = self.endog.reshape(-1, 1)/self.q\n",
    "        ylog = np.log(y+1)\n",
    "        x_mat = self.exog\n",
    "        mean_beta = self.mean_beta.reshape(-1, 1)\n",
    "        \n",
    "        res = (ylog-x_mat@mean_beta)**2\n",
    "        sol, _, _, _ = np.linalg.lstsq(x_mat, res, rcond=-1)\n",
    "        return sol.reshape(-1)\n",
    "\n",
    "    def momcond(self, params):\n",
    "                \n",
    "        y = self.endog.reshape(-1, 1)\n",
    "        x_mat = self.exog\n",
    "        mean_beta = self.mean_beta.reshape(-1, 1)\n",
    "\n",
    "        var_beta = params.reshape(-1, 1)\n",
    "        \n",
    "        a = (x_mat*y**2)/self.q_sq\n",
    "        b = -(x_mat*y)*(1-self.q_sq/self.q)/self.q_sq\n",
    "        c = -2*y*np.exp(x_mat@mean_beta)*x_mat/self.q\n",
    "        d = np.exp(2*x_mat@mean_beta)*x_mat\n",
    "        e = -x_mat*np.exp(x_mat@(self.gamma*mean_beta + var_beta))\n",
    "        return a + b + c + d + e\n",
    "\n",
    "class CombinedGMM(GMM):\n",
    "    \n",
    "    def __init__(self, *args, **kwds):\n",
    "        # set appropriate counts for moment conditions and parameters\n",
    "        # TODO: clean up signature\n",
    "        kwds.setdefault('k_moms', 4)\n",
    "        kwds.setdefault('k_params', 4)\n",
    "        super(CombinedGMM, self).__init__(*args, **kwds)\n",
    "\n",
    "\n",
    "    def momcond(self, params):\n",
    "                \n",
    "        y = self.endog.reshape(-1, 1)\n",
    "        x_mat = self.exog\n",
    "\n",
    "        mean_beta, var_beta = np.split(params.reshape(-1, 1), 2)\n",
    "                \n",
    "        mean_error =  (x_mat*y)/self.q - (x_mat*np.exp(x_mat@mean_beta))\n",
    "        \n",
    "        a = (x_mat*y**2)/self.q_sq\n",
    "        b = -(x_mat*y)*(1-self.q_sq/self.q)/self.q_sq\n",
    "        c = -2*y*np.exp(x_mat@mean_beta)*x_mat/self.q\n",
    "        d = np.exp(2*x_mat@mean_beta)*x_mat\n",
    "        e = -x_mat*np.exp(x_mat@(self.gamma*mean_beta + var_beta))\n",
    "        \n",
    "        var_error = a + b + c + d + e\n",
    "    \n",
    "        return np.hstack([mean_error, var_error])"
   ]
  },
  {
   "cell_type": "code",
   "execution_count": 36,
   "metadata": {},
   "outputs": [
    {
     "name": "stdout",
     "output_type": "stream",
     "text": [
      "                               MeanGMM Results                                \n",
      "==============================================================================\n",
      "Dep. Variable:                      y   Hansen J:                    2.721e-08\n",
      "Model:                        MeanGMM   Prob (Hansen J):                   nan\n",
      "Method:                           GMM                                         \n",
      "Date:                Fri, 25 Oct 2019                                         \n",
      "Time:                        19:59:08                                         \n",
      "No. Observations:               10000                                         \n",
      "==============================================================================\n",
      "                 coef    std err          z      P>|z|      [0.025      0.975]\n",
      "------------------------------------------------------------------------------\n",
      "x1             1.0102      0.054     18.624      0.000       0.904       1.117\n",
      "const          0.0754      0.044      1.718      0.086      -0.011       0.162\n",
      "==============================================================================\n",
      "                             VarianceGMM Results                              \n",
      "==============================================================================\n",
      "Dep. Variable:                      y   Hansen J:                    2.072e-12\n",
      "Model:                    VarianceGMM   Prob (Hansen J):                   nan\n",
      "Method:                           GMM                                         \n",
      "Date:                Fri, 25 Oct 2019                                         \n",
      "Time:                        19:59:08                                         \n",
      "No. Observations:               10000                                         \n",
      "==============================================================================\n",
      "                 coef    std err          z      P>|z|      [0.025      0.975]\n",
      "------------------------------------------------------------------------------\n",
      "x1             1.4285      0.217      6.586      0.000       1.003       1.854\n",
      "const          0.1176      0.190      0.620      0.535      -0.254       0.490\n",
      "==============================================================================\n"
     ]
    }
   ],
   "source": [
    "X, z = sim.simulate_true_counts(\n",
    "    N=10000,\n",
    "    mean_coef = np.array([1.0, 0.1]),\n",
    "    var_coef = np.array([1.6, 0.1]),\n",
    "    num_levels=2,\n",
    "    p=1)\n",
    "\n",
    "y = sim.simulate_dropout(z, p, p_sq)\n",
    "\n",
    "df = pd.DataFrame(\n",
    "    data=np.hstack([X, y]),\n",
    "    columns=['treatment', 'intercept', 'y'])\n",
    "df = df.groupby(df.columns.tolist()).size().reset_index(name='count')\n",
    "df['proportion'] = df['count'] / X.shape[0]\n",
    "\n",
    "init = np.ones(2)*(np.log(y+1).mean()/2)\n",
    "\n",
    "mean_model = MeanGMM(y, X, instrument=None, q=p, q_sq=p_sq)\n",
    "mean_model.nobs = y.shape[0]\n",
    "mean_res = mean_model.fit(None, maxiter=2, optim_method='bfgs', optim_args={'disp':False}, wargs=dict(centered=False))\n",
    "mean_beta = mean_res.params\n",
    "\n",
    "var_model = VarianceGMM(y, X, instrument=None, q=p, q_sq=p_sq, mean_beta=mean_beta, gamma=1)\n",
    "var_res = var_model.fit(None, maxiter=2, optim_method='bfgs', optim_args={'disp':False}, wargs=dict(centered=False))\n",
    "\n",
    "combined_model = CombinedGMM(y, X, instrument=None, q=p, q_sq=p_sq, gamma=1)\n",
    "combined_res = combined_model.fit(np.concatenate([init, init]), maxiter=2, optim_method='bfgs', optim_args={'disp':False}, wargs=dict(centered=False))\n",
    "\n",
    "\n",
    "print(mean_res.summary())\n",
    "print(var_res.summary())\n",
    "# print(combined_res.summary())"
   ]
  },
  {
   "cell_type": "markdown",
   "metadata": {},
   "source": [
    "### Proportion based GMMs"
   ]
  },
  {
   "cell_type": "code",
   "execution_count": 437,
   "metadata": {},
   "outputs": [],
   "source": [
    "class FastMeanGMM(GMM):\n",
    "\n",
    "    \n",
    "    def __init__(self, *args, **kwds):\n",
    "        # set appropriate counts for moment conditions and parameters\n",
    "        # TODO: clean up signature\n",
    "        kwds.setdefault('k_moms', 2)\n",
    "        kwds.setdefault('k_params', 2)\n",
    "        super(FastMeanGMM, self).__init__(*args, **kwds)\n",
    "        \n",
    "    \n",
    "    def fitstart(self):\n",
    "        \n",
    "        y_val, y_counts = self.endog[:, 0].reshape(-1, 1), self.endog[:, 1].reshape(-1, 1)\n",
    "        x_mat = self.exog\n",
    "        \n",
    "        ylog = np.log(y_val+1)\n",
    "        sol, _, _, _ = np.linalg.lstsq(x_mat*y_counts, ylog*y_counts, rcond=-1)\n",
    "        \n",
    "        return sol.reshape(-1)\n",
    "\n",
    "\n",
    "    def momcond(self, params):\n",
    "                \n",
    "        y_val, y_counts = self.endog[:, 0].reshape(-1, 1), self.endog[:, 1].reshape(-1, 1)\n",
    "        x_mat = self.exog\n",
    "\n",
    "        beta_hat = params.reshape(-1, 1)\n",
    "        \n",
    "        a =  (x_mat*y_val)/self.q - (x_mat*np.exp(x_mat@beta_hat))\n",
    "        \n",
    "        #print(a.shape, y_counts.shape)\n",
    "        return a * y_counts\n"
   ]
  },
  {
   "cell_type": "code",
   "execution_count": 438,
   "metadata": {},
   "outputs": [],
   "source": [
    "X, z = sim.simulate_true_counts(\n",
    "    N=100000,\n",
    "    mean_coef = np.array([1.0, 0.1]),\n",
    "    var_coef = np.array([1.6, 0.1]),\n",
    "    num_levels=2,\n",
    "    p=1)\n",
    "\n",
    "y = sim.simulate_dropout(z, p, p_sq)\n",
    "\n",
    "df = pd.DataFrame(\n",
    "    data=np.hstack([X, y]),\n",
    "    columns=['treatment', 'intercept', 'y'])\n",
    "df = df.groupby(df.columns.tolist()).size().reset_index(name='count')\n",
    "df['proportion'] = df['count'] / X.shape[0]"
   ]
  },
  {
   "cell_type": "code",
   "execution_count": 444,
   "metadata": {},
   "outputs": [
    {
     "name": "stdout",
     "output_type": "stream",
     "text": [
      "CPU times: user 17.7 ms, sys: 42 µs, total: 17.7 ms\n",
      "Wall time: 15.7 ms\n"
     ]
    }
   ],
   "source": [
    "%%time\n",
    "mean_model = FastMeanGMM(\n",
    "    df[['y', 'count']].values, \n",
    "    df[['treatment', 'intercept']].values,\n",
    "    instrument=None, q=p, q_sq=p_sq)\n",
    "mean_res = mean_model.fit(np.array([1 , 0.1]), maxiter=2, optim_method='bfgs', optim_args={'disp':False}, wargs=dict(centered=False))\n",
    "#print(mean_res.summary())\n",
    "\n",
    "\n"
   ]
  },
  {
   "cell_type": "code",
   "execution_count": 445,
   "metadata": {},
   "outputs": [
    {
     "data": {
      "text/plain": [
       "array([0.99096836, 0.10506118])"
      ]
     },
     "execution_count": 445,
     "metadata": {},
     "output_type": "execute_result"
    }
   ],
   "source": [
    "mean_res.params"
   ]
  },
  {
   "cell_type": "code",
   "execution_count": 442,
   "metadata": {},
   "outputs": [
    {
     "data": {
      "text/plain": [
       "array([0.9908973 , 0.10513125])"
      ]
     },
     "execution_count": 442,
     "metadata": {},
     "output_type": "execute_result"
    }
   ],
   "source": [
    "mean_res.params"
   ]
  },
  {
   "cell_type": "markdown",
   "metadata": {},
   "source": [
    "### Numerical optimization for mean"
   ]
  },
  {
   "cell_type": "code",
   "execution_count": 296,
   "metadata": {},
   "outputs": [],
   "source": [
    "X, z = sim.simulate_true_counts(\n",
    "    N=10000,\n",
    "    mean_coef = np.array([1.0, 0.1]),\n",
    "    var_coef = np.array([1.6, 0.1]),\n",
    "    num_levels=2,\n",
    "    p=1)\n",
    "\n",
    "y = sim.simulate_dropout(z, p, p_sq)\n",
    "\n",
    "df = pd.DataFrame(\n",
    "    data=np.hstack([X, y]),\n",
    "    columns=['treatment', 'intercept', 'y'])\n",
    "df = df.groupby(df.columns.tolist()).size().reset_index(name='count')\n",
    "df['proportion'] = df['count'] / X.shape[0]\n",
    "df['count_2'] = df['count'] + np.random.randint(0, 10, size=df.shape[0])"
   ]
  },
  {
   "cell_type": "code",
   "execution_count": 272,
   "metadata": {},
   "outputs": [],
   "source": [
    "def fit_start():\n",
    "    \n",
    "    y_val, y_counts = df['y'].values.reshape(-1, 1), df['count'].values.reshape(-1, 1)\n",
    "    x_mat = df[['treatment', 'intercept']].values\n",
    "\n",
    "    ylog = np.log(y_val+1)\n",
    "    sol, _, _, _ = np.linalg.lstsq(x_mat*y_counts, ylog*y_counts, rcond=-1)\n",
    "\n",
    "    return sol.reshape(-1)"
   ]
  },
  {
   "cell_type": "code",
   "execution_count": 369,
   "metadata": {},
   "outputs": [],
   "source": [
    "y_val, y_counts_1, y_counts_2 = \\\n",
    "    df['y'].values.reshape(-1, 1), \\\n",
    "    df['count'].values.reshape(-1, 1), \\\n",
    "    df['count_2'].values.reshape(-1, 1)\n",
    "    \n",
    "x_mat = df[['treatment', 'intercept']].values"
   ]
  },
  {
   "cell_type": "code",
   "execution_count": 370,
   "metadata": {},
   "outputs": [],
   "source": [
    "y_counts = df[['count', 'count_2', 'count_2']].values.reshape(-1, 1, 3)"
   ]
  },
  {
   "cell_type": "code",
   "execution_count": 371,
   "metadata": {},
   "outputs": [
    {
     "data": {
      "text/plain": [
       "(14, 1, 3)"
      ]
     },
     "execution_count": 371,
     "metadata": {},
     "output_type": "execute_result"
    }
   ],
   "source": [
    "y_counts.shape"
   ]
  },
  {
   "cell_type": "code",
   "execution_count": 372,
   "metadata": {},
   "outputs": [
    {
     "data": {
      "text/plain": [
       "(14, 1, 3)"
      ]
     },
     "execution_count": 372,
     "metadata": {},
     "output_type": "execute_result"
    }
   ],
   "source": [
    "y_counts.reshape(-1, 1, 3).shape"
   ]
  },
  {
   "cell_type": "code",
   "execution_count": 373,
   "metadata": {},
   "outputs": [
    {
     "data": {
      "text/plain": [
       "(14, 2)"
      ]
     },
     "execution_count": 373,
     "metadata": {},
     "output_type": "execute_result"
    }
   ],
   "source": [
    "x_mat.shape"
   ]
  },
  {
   "cell_type": "code",
   "execution_count": 376,
   "metadata": {},
   "outputs": [
    {
     "data": {
      "text/plain": [
       "(14, 1, 3)"
      ]
     },
     "execution_count": 376,
     "metadata": {},
     "output_type": "execute_result"
    }
   ],
   "source": [
    "y_counts.shape"
   ]
  },
  {
   "cell_type": "code",
   "execution_count": 374,
   "metadata": {},
   "outputs": [],
   "source": [
    "res = x_mat.reshape(14, 2, -1)*y_counts"
   ]
  },
  {
   "cell_type": "code",
   "execution_count": 375,
   "metadata": {},
   "outputs": [
    {
     "data": {
      "text/plain": [
       "array([[359.5       , 362.07142857, 362.07142857],\n",
       "       [714.28571429, 718.35714286, 718.35714286]])"
      ]
     },
     "execution_count": 375,
     "metadata": {},
     "output_type": "execute_result"
    }
   ],
   "source": [
    "res.mean(axis=0)"
   ]
  },
  {
   "cell_type": "code",
   "execution_count": 327,
   "metadata": {},
   "outputs": [
    {
     "data": {
      "text/plain": [
       "(14, 2, 3)"
      ]
     },
     "execution_count": 327,
     "metadata": {},
     "output_type": "execute_result"
    }
   ],
   "source": [
    "res.shape"
   ]
  },
  {
   "cell_type": "markdown",
   "metadata": {},
   "source": [
    "### Figure out dimensions and broadcasting"
   ]
  },
  {
   "cell_type": "code",
   "execution_count": 408,
   "metadata": {},
   "outputs": [],
   "source": [
    "y_val, y_counts = df['y'].values.reshape(-1, 1), df[['count', 'count_2']].values.reshape(-1, 1, 2)\n",
    "x_mat = df[['treatment', 'intercept']].values\n",
    "\n",
    "beta_hat = np.vstack([np.array([1.0, 0.1]), np.array([1.1, 0.1])]).T"
   ]
  },
  {
   "cell_type": "code",
   "execution_count": 409,
   "metadata": {},
   "outputs": [],
   "source": [
    "part_1 = ((x_mat*y_val)/p)\n",
    "part_1 = part_1.reshape(part_1.shape[0], part_1.shape[1], -1)\n",
    "\n",
    "part_2 = x_mat.reshape(x_mat.shape[0], x_mat.shape[1], -1)\n",
    "\n",
    "part_3 = np.exp(x_mat@beta_hat).reshape(-1, 1, beta_hat.shape[1])\n",
    "\n",
    "momcond = (part_1 - part_2*part_3)\n",
    "weighted_momcond = momcond * y_counts"
   ]
  },
  {
   "cell_type": "code",
   "execution_count": 410,
   "metadata": {},
   "outputs": [
    {
     "data": {
      "text/plain": [
       "array([[  5.00231439, -14.26233438],\n",
       "       [ 16.47488939,  13.40962709]])"
      ]
     },
     "execution_count": 410,
     "metadata": {},
     "output_type": "execute_result"
    }
   ],
   "source": [
    "weighted_momcond.mean(axis=0)"
   ]
  },
  {
   "cell_type": "code",
   "execution_count": 340,
   "metadata": {},
   "outputs": [],
   "source": [
    "def mean_objective_perm(params):\n",
    "\n",
    "    y_val, y_counts = df['y'].values.reshape(-1, 1), df[['count', 'count_2']].values.reshape(-1, 1, 2)\n",
    "    x_mat = df[['treatment', 'intercept']].values\n",
    "\n",
    "    beta_hat = params.reshape(-1, 1)\n",
    "\n",
    "    a =  ((x_mat*y_val)/p - (x_mat*np.exp(x_mat@beta_hat)))\n",
    "    a = a.reshape(a.shape[0], a.shape[1], -1)\n",
    "\n",
    "    momcond = (a * y_counts).mean(axis=0)\n",
    "    \n",
    "    return (momcond**2).sum()"
   ]
  },
  {
   "cell_type": "code",
   "execution_count": 509,
   "metadata": {},
   "outputs": [],
   "source": [
    "def mean_objective(params):\n",
    "\n",
    "    y_val, y_counts = df['y'].values.reshape(-1, 1), df['proportion'].values.reshape(-1, 1)\n",
    "    x_mat = df[['treatment', 'intercept']].values\n",
    "\n",
    "    beta_hat = params.reshape(-1, 1)\n",
    "\n",
    "    a =  (x_mat*y_val)/p - (x_mat*np.exp(x_mat@beta_hat))\n",
    "\n",
    "    momcond = (a * y_counts).mean(axis=0)\n",
    "    \n",
    "    return (momcond**2).sum()"
   ]
  },
  {
   "cell_type": "code",
   "execution_count": 274,
   "metadata": {},
   "outputs": [],
   "source": [
    "start = fit_start()"
   ]
  },
  {
   "cell_type": "code",
   "execution_count": 293,
   "metadata": {},
   "outputs": [
    {
     "name": "stdout",
     "output_type": "stream",
     "text": [
      "Optimization terminated successfully.\n",
      "         Current function value: 0.000033\n",
      "         Iterations: 39\n",
      "         Function evaluations: 74\n",
      "CPU times: user 115 ms, sys: 0 ns, total: 115 ms\n",
      "Wall time: 108 ms\n"
     ]
    },
    {
     "data": {
      "text/plain": [
       " final_simplex: (array([[1.02132555, 0.07663115],\n",
       "       [1.02132684, 0.07662921],\n",
       "       [1.02132248, 0.07663292]]), array([3.30314006e-05, 7.17309876e-05, 9.95056087e-05]))\n",
       "           fun: 3.303140063249221e-05\n",
       "       message: 'Optimization terminated successfully.'\n",
       "          nfev: 74\n",
       "           nit: 39\n",
       "        status: 0\n",
       "       success: True\n",
       "             x: array([1.02132555, 0.07663115])"
      ]
     },
     "execution_count": 293,
     "metadata": {},
     "output_type": "execute_result"
    }
   ],
   "source": [
    "%%time\n",
    "sp.optimize.minimize(\n",
    "    mean_objective, \n",
    "    np.array([1.0, 0.1]),\n",
    "    method='Nelder-Mead', \n",
    "    options={'disp': True})"
   ]
  },
  {
   "cell_type": "markdown",
   "metadata": {},
   "source": [
    "### Number of simultaneous function evals - optimal number"
   ]
  },
  {
   "cell_type": "code",
   "execution_count": 963,
   "metadata": {},
   "outputs": [
    {
     "data": {
      "text/plain": [
       "array([   100.        ,    215.443469  ,    464.15888336,   1000.        ,\n",
       "         2154.43469003,   4641.58883361,  10000.        ,  21544.34690032,\n",
       "        46415.88833613, 100000.        ])"
      ]
     },
     "execution_count": 963,
     "metadata": {},
     "output_type": "execute_result"
    }
   ],
   "source": [
    "np.logspace(2, 5, 10)"
   ]
  },
  {
   "cell_type": "code",
   "execution_count": 965,
   "metadata": {},
   "outputs": [],
   "source": [
    "import time"
   ]
  },
  {
   "cell_type": "code",
   "execution_count": 1005,
   "metadata": {},
   "outputs": [],
   "source": [
    "num_perms = np.logspace(0, 7, 30)\n",
    "times = np.zeros(num_perms.shape[0])\n",
    "for idx, num_perm in enumerate(num_perms):\n",
    "    \n",
    "    num_perm = int(num_perm)\n",
    "    \n",
    "    X, z = sim.simulate_true_counts(\n",
    "    N=N,\n",
    "    mean_coef = np.array([1.0, 0.1]),\n",
    "    var_coef = np.array([1.6, 0.1]),\n",
    "    num_levels=2,\n",
    "    p=1)\n",
    "\n",
    "    y = sim.simulate_dropout(z, p, p_sq)\n",
    "    \n",
    "    perm_start = np.concatenate([np.array([1.5, 0.1]) for i in range(num_perm)])\n",
    "\n",
    "    df = pd.DataFrame(\n",
    "        data=np.hstack([X, y]),\n",
    "        columns=['treatment', 'intercept', 'y'])\n",
    "    df = df.groupby(df.columns.tolist()).size().reset_index(name='count')\n",
    "    df['proportion'] = df['count'] / X.shape[0]\n",
    "\n",
    "    perm_proportions = stats.multinomial.rvs(\n",
    "        N, \n",
    "        df['proportion'], \n",
    "        size=num_perm).T\n",
    "    \n",
    "    start = time.time()\n",
    "    \n",
    "    val = mean_objective_perm(perm_start)\n",
    "    \n",
    "    times[idx] = time.time() - start"
   ]
  },
  {
   "cell_type": "markdown",
   "metadata": {},
   "source": [
    "### Generate multivariate permutations"
   ]
  },
  {
   "cell_type": "code",
   "execution_count": 575,
   "metadata": {},
   "outputs": [],
   "source": [
    "p = 0.1\n",
    "noise_level = 0.2049755522580501\n",
    "p_sq = (noise_level+1)*p**2\n",
    "N = 100000\n",
    "num_perm = 10000\n",
    "X, z = sim.simulate_true_counts(\n",
    "    N=N,\n",
    "    mean_coef = np.array([1.0, 0.1]),\n",
    "    var_coef = np.array([1.0, 0.1]),\n",
    "    num_levels=2,\n",
    "    p=1)\n",
    "\n",
    "y = sim.simulate_dropout(z, p, p_sq)\n",
    "\n",
    "df = pd.DataFrame(\n",
    "    data=np.hstack([X, y]),\n",
    "    columns=['treatment', 'intercept', 'y'])\n",
    "df = df.groupby(df.columns.tolist()).size().reset_index(name='count')\n",
    "df['proportion'] = df['count'] / X.shape[0]\n",
    "\n",
    "perm_proportions = stats.multinomial.rvs(\n",
    "    N, \n",
    "    df['proportion'], \n",
    "    size=num_perm).T\n"
   ]
  },
  {
   "cell_type": "code",
   "execution_count": 576,
   "metadata": {},
   "outputs": [],
   "source": [
    "def mean_objective_perm_sep(params):\n",
    "\n",
    "    y_val, y_counts = df['y'].values.reshape(-1, 1), perm_proportions.reshape(-1, 1, num_perm)/N\n",
    "    x_mat = df[['treatment', 'intercept']].values\n",
    "\n",
    "    beta_hat = params.reshape(-1, num_perm, order='F')\n",
    "\n",
    "    part_1 = ((x_mat*y_val)/p)\n",
    "    part_1 = part_1.reshape(part_1.shape[0], part_1.shape[1], -1)\n",
    "\n",
    "    part_2 = x_mat.reshape(x_mat.shape[0], x_mat.shape[1], -1)\n",
    "\n",
    "    part_3 = np.exp(x_mat@beta_hat).reshape(-1, 1, num_perm)\n",
    "\n",
    "    momcond = (part_1 - part_2*part_3)\n",
    "    weighted_momcond = (momcond * y_counts).mean(axis=0)\n",
    "        \n",
    "    return (weighted_momcond**2).sum(axis=0)\n",
    "\n",
    "\n",
    "def mean_objective_perm(params):\n",
    "\n",
    "    y_val, y_counts = df['y'].values.reshape(-1, 1), perm_proportions.reshape(-1, 1, num_perm)/N\n",
    "    x_mat = df[['treatment', 'intercept']].values\n",
    "\n",
    "    beta_hat = params.reshape(-1, num_perm, order='F')\n",
    "\n",
    "    part_1 = ((x_mat*y_val)/p)\n",
    "    part_1 = part_1.reshape(part_1.shape[0], part_1.shape[1], -1)\n",
    "\n",
    "    part_2 = x_mat.reshape(x_mat.shape[0], x_mat.shape[1], -1)\n",
    "\n",
    "    part_3 = np.exp(x_mat@beta_hat).reshape(-1, 1, num_perm)\n",
    "\n",
    "    momcond = (part_1 - part_2*part_3)\n",
    "    #print(momcond.shape)\n",
    "    weighted_momcond = (momcond * y_counts).mean(axis=0)\n",
    "        \n",
    "    return (weighted_momcond**2).sum()\n",
    "\n",
    "\n",
    "def mean_objective(params):\n",
    "\n",
    "    y_val, y_counts = df['y'].values.reshape(-1, 1), df['proportion'].values.reshape(-1, 1)\n",
    "    x_mat = df[['treatment', 'intercept']].values\n",
    "    \n",
    "    beta_hat = params.reshape(-1, 1)\n",
    "\n",
    "    a =  (x_mat*y_val)/p - (x_mat*np.exp(x_mat@beta_hat))\n",
    "\n",
    "    momcond = (a * y_counts).mean(axis=0)\n",
    "    \n",
    "    return (momcond**2).sum()"
   ]
  },
  {
   "cell_type": "code",
   "execution_count": 577,
   "metadata": {},
   "outputs": [],
   "source": [
    "perm_start = np.concatenate([np.array([1.5, 0.1]) for i in range(num_perm)])"
   ]
  },
  {
   "cell_type": "code",
   "execution_count": 578,
   "metadata": {},
   "outputs": [
    {
     "name": "stdout",
     "output_type": "stream",
     "text": [
      "CPU times: user 8.57 ms, sys: 2.95 ms, total: 11.5 ms\n",
      "Wall time: 9.27 ms\n"
     ]
    },
    {
     "data": {
      "text/plain": [
       "98.2266216463618"
      ]
     },
     "execution_count": 578,
     "metadata": {},
     "output_type": "execute_result"
    }
   ],
   "source": [
    "%%time\n",
    "mean_objective_perm(perm_start)"
   ]
  },
  {
   "cell_type": "code",
   "execution_count": 579,
   "metadata": {},
   "outputs": [
    {
     "name": "stdout",
     "output_type": "stream",
     "text": [
      "CPU times: user 2.63 ms, sys: 0 ns, total: 2.63 ms\n",
      "Wall time: 2.58 ms\n"
     ]
    },
    {
     "data": {
      "text/plain": [
       "0.0002726733411722456"
      ]
     },
     "execution_count": 579,
     "metadata": {},
     "output_type": "execute_result"
    }
   ],
   "source": [
    "%%time\n",
    "mean_objective(np.array([1.1, 0.1]))"
   ]
  },
  {
   "cell_type": "code",
   "execution_count": 569,
   "metadata": {},
   "outputs": [],
   "source": [
    "EPS = np.MachAr().eps\n",
    "\n",
    "def _get_epsilon(x, s, epsilon, n):\n",
    "    if epsilon is None:\n",
    "        h = EPS**(1. / s) * np.maximum(np.abs(x), 0.1)\n",
    "    else:\n",
    "        if np.isscalar(epsilon):\n",
    "            h = np.empty(n)\n",
    "            h.fill(epsilon)\n",
    "        else:  # pragma : no cover\n",
    "            h = np.asarray(epsilon)\n",
    "            if h.shape != x.shape:\n",
    "                raise ValueError(\"If h is not a scalar it must have the same\"\n",
    "                                 \" shape as x.\")\n",
    "    return h\n",
    "\n",
    "def approx_fprime(x, f, epsilon=None, args=(), kwargs={}, centered=False):\n",
    "\n",
    "    n = len(x)\n",
    "    # TODO:  add scaled stepsize\n",
    "    f0 = f(*((x,)+args), **kwargs)\n",
    "    dim = np.atleast_1d(f0).shape  # it could be a scalar\n",
    "    grad = np.zeros((n,) + dim, np.promote_types(float, x.dtype))\n",
    "    #print(grad.shape)\n",
    "    ei = np.zeros((n,), float)\n",
    "    \n",
    "    if not centered:\n",
    "        epsilon = _get_epsilon(x, 2, epsilon, n) \n",
    "        for k in range(n):\n",
    "            ei[k] = epsilon[k]\n",
    "            grad[k, :] = (f(*((x+ei,) + args), **kwargs) - f0)/epsilon[k]\n",
    "            ei[k] = 0.0\n",
    "    else:\n",
    "        epsilon = _get_epsilon(x, 3, epsilon, n) / 2.\n",
    "        for k in range(len(x)):\n",
    "            ei[k] = epsilon[k]\n",
    "            grad[k, :] = (f(*((x+ei,)+args), **kwargs) -\n",
    "                          f(*((x-ei,)+args), **kwargs))/(2 * epsilon[k])\n",
    "            ei[k] = 0.0\n",
    "    return grad.squeeze().T\n",
    "\n",
    "\n",
    "def mean_gradient(x, num_features=2, epsilon=None, args=(), kwargs={}):\n",
    "    \n",
    "    f_sep = mean_objective_perm_sep\n",
    "    n = len(x)\n",
    "    f0 = f_sep(*((x,)+args), **kwargs)\n",
    "    dim = (1,)\n",
    "    grad = np.zeros((n,) + dim, np.promote_types(float, x.dtype))\n",
    "    epsilon = _get_epsilon(x, 2, None, n)\n",
    "    ei = np.zeros((n,),float)\n",
    "    \n",
    "    for start in range(num_features):\n",
    "        ei[start::num_features] = epsilon[start::num_features]\n",
    "        res = ((f_sep(*((x+ei,) + args), **kwargs) - f0)/epsilon[start::num_features][0]).reshape(-1, 1)\n",
    "        grad[start::num_features, :] = res\n",
    "        ei[start::num_features] = 0.0\n",
    "        \n",
    "    return grad.squeeze().T\n",
    "    \n",
    "    \n",
    "def mean_hessian_p(x, p, num_features=2, epsilon=None, args=(), kwargs={'num_features':2}):\n",
    "    \n",
    "    n = len(x)\n",
    "    f = mean_gradient\n",
    "    f0 = f(*((x,)+args), **kwargs)\n",
    "    epsilon = _get_epsilon(x, 2, None, n)\n",
    "    ei = np.zeros((n,),float)\n",
    "    hess = [] # list of length num_features\n",
    "\n",
    "    for start in range(num_features):\n",
    "        ei[start::num_features] = epsilon[start::num_features]\n",
    "        hess.append((f(*((x+ei,) + args), **kwargs) - f0)/epsilon[start::num_features][0])\n",
    "        ei[start::num_features] = 0.0\n",
    "    \n",
    "    hess = np.vstack(hess)\n",
    "    \n",
    "    Hp_components = [hess[:, i:(i+num_features)]@p[i:(i+num_features)] for i in range(int(x.shape[0]/num_features))]\n",
    "    \n",
    "    return np.concatenate(Hp_components)\n",
    "    "
   ]
  },
  {
   "cell_type": "code",
   "execution_count": 580,
   "metadata": {},
   "outputs": [
    {
     "name": "stdout",
     "output_type": "stream",
     "text": [
      "CPU times: user 26.1 ms, sys: 136 µs, total: 26.2 ms\n",
      "Wall time: 23.6 ms\n"
     ]
    }
   ],
   "source": [
    "%%time\n",
    "fastgrad = mean_gradient(perm_start)"
   ]
  },
  {
   "cell_type": "code",
   "execution_count": 550,
   "metadata": {
    "collapsed": true
   },
   "outputs": [
    {
     "ename": "KeyboardInterrupt",
     "evalue": "",
     "output_type": "error",
     "traceback": [
      "\u001b[0;31m---------------------------------------------------------------------------\u001b[0m",
      "\u001b[0;31mKeyboardInterrupt\u001b[0m                         Traceback (most recent call last)",
      "\u001b[0;32m<timed exec>\u001b[0m in \u001b[0;36m<module>\u001b[0;34m\u001b[0m\n",
      "\u001b[0;32m<ipython-input-548-b086684424aa>\u001b[0m in \u001b[0;36mapprox_fprime\u001b[0;34m(x, f, epsilon, args, kwargs, centered)\u001b[0m\n\u001b[1;32m     29\u001b[0m         \u001b[0;32mfor\u001b[0m \u001b[0mk\u001b[0m \u001b[0;32min\u001b[0m \u001b[0mrange\u001b[0m\u001b[0;34m(\u001b[0m\u001b[0mn\u001b[0m\u001b[0;34m)\u001b[0m\u001b[0;34m:\u001b[0m\u001b[0;34m\u001b[0m\u001b[0;34m\u001b[0m\u001b[0m\n\u001b[1;32m     30\u001b[0m             \u001b[0mei\u001b[0m\u001b[0;34m[\u001b[0m\u001b[0mk\u001b[0m\u001b[0;34m]\u001b[0m \u001b[0;34m=\u001b[0m \u001b[0mepsilon\u001b[0m\u001b[0;34m[\u001b[0m\u001b[0mk\u001b[0m\u001b[0;34m]\u001b[0m\u001b[0;34m\u001b[0m\u001b[0;34m\u001b[0m\u001b[0m\n\u001b[0;32m---> 31\u001b[0;31m             \u001b[0mgrad\u001b[0m\u001b[0;34m[\u001b[0m\u001b[0mk\u001b[0m\u001b[0;34m,\u001b[0m \u001b[0;34m:\u001b[0m\u001b[0;34m]\u001b[0m \u001b[0;34m=\u001b[0m \u001b[0;34m(\u001b[0m\u001b[0mf\u001b[0m\u001b[0;34m(\u001b[0m\u001b[0;34m*\u001b[0m\u001b[0;34m(\u001b[0m\u001b[0;34m(\u001b[0m\u001b[0mx\u001b[0m\u001b[0;34m+\u001b[0m\u001b[0mei\u001b[0m\u001b[0;34m,\u001b[0m\u001b[0;34m)\u001b[0m \u001b[0;34m+\u001b[0m \u001b[0margs\u001b[0m\u001b[0;34m)\u001b[0m\u001b[0;34m,\u001b[0m \u001b[0;34m**\u001b[0m\u001b[0mkwargs\u001b[0m\u001b[0;34m)\u001b[0m \u001b[0;34m-\u001b[0m \u001b[0mf0\u001b[0m\u001b[0;34m)\u001b[0m\u001b[0;34m/\u001b[0m\u001b[0mepsilon\u001b[0m\u001b[0;34m[\u001b[0m\u001b[0mk\u001b[0m\u001b[0;34m]\u001b[0m\u001b[0;34m\u001b[0m\u001b[0;34m\u001b[0m\u001b[0m\n\u001b[0m\u001b[1;32m     32\u001b[0m             \u001b[0mei\u001b[0m\u001b[0;34m[\u001b[0m\u001b[0mk\u001b[0m\u001b[0;34m]\u001b[0m \u001b[0;34m=\u001b[0m \u001b[0;36m0.0\u001b[0m\u001b[0;34m\u001b[0m\u001b[0;34m\u001b[0m\u001b[0m\n\u001b[1;32m     33\u001b[0m     \u001b[0;32melse\u001b[0m\u001b[0;34m:\u001b[0m\u001b[0;34m\u001b[0m\u001b[0;34m\u001b[0m\u001b[0m\n",
      "\u001b[0;32m<ipython-input-544-77115fb099c1>\u001b[0m in \u001b[0;36mmean_objective_perm\u001b[0;34m(params)\u001b[0m\n\u001b[1;32m     33\u001b[0m     \u001b[0mpart_3\u001b[0m \u001b[0;34m=\u001b[0m \u001b[0mnp\u001b[0m\u001b[0;34m.\u001b[0m\u001b[0mexp\u001b[0m\u001b[0;34m(\u001b[0m\u001b[0mx_mat\u001b[0m\u001b[0;34m@\u001b[0m\u001b[0mbeta_hat\u001b[0m\u001b[0;34m)\u001b[0m\u001b[0;34m.\u001b[0m\u001b[0mreshape\u001b[0m\u001b[0;34m(\u001b[0m\u001b[0;34m-\u001b[0m\u001b[0;36m1\u001b[0m\u001b[0;34m,\u001b[0m \u001b[0;36m1\u001b[0m\u001b[0;34m,\u001b[0m \u001b[0mnum_perm\u001b[0m\u001b[0;34m)\u001b[0m\u001b[0;34m\u001b[0m\u001b[0;34m\u001b[0m\u001b[0m\n\u001b[1;32m     34\u001b[0m \u001b[0;34m\u001b[0m\u001b[0m\n\u001b[0;32m---> 35\u001b[0;31m     \u001b[0mmomcond\u001b[0m \u001b[0;34m=\u001b[0m \u001b[0;34m(\u001b[0m\u001b[0mpart_1\u001b[0m \u001b[0;34m-\u001b[0m \u001b[0mpart_2\u001b[0m\u001b[0;34m*\u001b[0m\u001b[0mpart_3\u001b[0m\u001b[0;34m)\u001b[0m\u001b[0;34m\u001b[0m\u001b[0;34m\u001b[0m\u001b[0m\n\u001b[0m\u001b[1;32m     36\u001b[0m     \u001b[0;31m#print(momcond.shape)\u001b[0m\u001b[0;34m\u001b[0m\u001b[0;34m\u001b[0m\u001b[0;34m\u001b[0m\u001b[0m\n\u001b[1;32m     37\u001b[0m     \u001b[0mweighted_momcond\u001b[0m \u001b[0;34m=\u001b[0m \u001b[0;34m(\u001b[0m\u001b[0mmomcond\u001b[0m \u001b[0;34m*\u001b[0m \u001b[0my_counts\u001b[0m\u001b[0;34m)\u001b[0m\u001b[0;34m.\u001b[0m\u001b[0mmean\u001b[0m\u001b[0;34m(\u001b[0m\u001b[0maxis\u001b[0m\u001b[0;34m=\u001b[0m\u001b[0;36m0\u001b[0m\u001b[0;34m)\u001b[0m\u001b[0;34m\u001b[0m\u001b[0;34m\u001b[0m\u001b[0m\n",
      "\u001b[0;31mKeyboardInterrupt\u001b[0m: "
     ]
    }
   ],
   "source": [
    "%%time\n",
    "realgrad = approx_fprime(perm_start, mean_objective_perm)"
   ]
  },
  {
   "cell_type": "code",
   "execution_count": 571,
   "metadata": {},
   "outputs": [
    {
     "ename": "ValueError",
     "evalue": "operands could not be broadcast together with shapes (80000,) (20000,) ",
     "output_type": "error",
     "traceback": [
      "\u001b[0;31m---------------------------------------------------------------------------\u001b[0m",
      "\u001b[0;31mValueError\u001b[0m                                Traceback (most recent call last)",
      "\u001b[0;32m<ipython-input-571-da963e9f9831>\u001b[0m in \u001b[0;36m<module>\u001b[0;34m\u001b[0m\n\u001b[0;32m----> 1\u001b[0;31m \u001b[0;34m(\u001b[0m\u001b[0;34m(\u001b[0m\u001b[0mfastgrad\u001b[0m \u001b[0;34m-\u001b[0m \u001b[0mrealgrad\u001b[0m\u001b[0;34m)\u001b[0m\u001b[0;34m**\u001b[0m\u001b[0;36m2\u001b[0m\u001b[0;34m)\u001b[0m\u001b[0;34m.\u001b[0m\u001b[0mmean\u001b[0m\u001b[0;34m(\u001b[0m\u001b[0;34m)\u001b[0m\u001b[0;34m\u001b[0m\u001b[0;34m\u001b[0m\u001b[0m\n\u001b[0m",
      "\u001b[0;31mValueError\u001b[0m: operands could not be broadcast together with shapes (80000,) (20000,) "
     ]
    }
   ],
   "source": [
    "((fastgrad - realgrad)**2).mean()"
   ]
  },
  {
   "cell_type": "code",
   "execution_count": 581,
   "metadata": {
    "scrolled": true
   },
   "outputs": [
    {
     "name": "stdout",
     "output_type": "stream",
     "text": [
      "Optimization terminated successfully.\n",
      "         Current function value: 0.000000\n",
      "         Iterations: 20\n",
      "         Function evaluations: 84\n",
      "         Gradient evaluations: 21\n",
      "CPU times: user 115 ms, sys: 7.68 ms, total: 123 ms\n",
      "Wall time: 116 ms\n"
     ]
    }
   ],
   "source": [
    "%%time\n",
    "res_one = sp.optimize.minimize(\n",
    "    mean_objective, \n",
    "    np.array([1.5, 0.1]),\n",
    "    method='BFGS',\n",
    "    options={'disp': True})"
   ]
  },
  {
   "cell_type": "code",
   "execution_count": 582,
   "metadata": {},
   "outputs": [],
   "source": [
    "# %%time\n",
    "# res = sp.optimize.minimize(\n",
    "#     mean_objective_perm, \n",
    "#     np.concatenate([np.array([1.5, 0.1]) for i in range(num_perm)]),\n",
    "#     method='l-bfgs-b',\n",
    "#     options={'disp': True})\n",
    "# params = res.x.reshape(-1, num_perm, order='F')"
   ]
  },
  {
   "cell_type": "code",
   "execution_count": 586,
   "metadata": {},
   "outputs": [
    {
     "name": "stdout",
     "output_type": "stream",
     "text": [
      "1.5533245246467203e-05\n",
      "CPU times: user 264 ms, sys: 6.96 ms, total: 271 ms\n",
      "Wall time: 269 ms\n"
     ]
    }
   ],
   "source": [
    "%%time\n",
    "res = sp.optimize.minimize(\n",
    "    mean_objective_perm, \n",
    "    np.concatenate([np.array([0.9710915, 0.10940933]) for i in range(num_perm)]),\n",
    "    method='l-bfgs-b',\n",
    "    jac=mean_gradient,\n",
    "    options={'disp': True})\n",
    "print(res.fun)\n",
    "params = res.x.reshape(-1, num_perm, order='F')"
   ]
  },
  {
   "cell_type": "markdown",
   "metadata": {},
   "source": [
    "### Gradient of the mean objective"
   ]
  },
  {
   "cell_type": "code",
   "execution_count": 308,
   "metadata": {},
   "outputs": [],
   "source": [
    "X, z = sim.simulate_true_counts(\n",
    "    N=1000000,\n",
    "    mean_coef = np.array([0.1, 0.1]),\n",
    "    var_coef = np.array([1.6, 0.1]),\n",
    "    num_levels=2,\n",
    "    p=1)\n",
    "y = z\n",
    "W = np.eye(2)\n"
   ]
  },
  {
   "cell_type": "code",
   "execution_count": 315,
   "metadata": {},
   "outputs": [],
   "source": [
    "def objective(beta):\n",
    "    param = beta.reshape(-1, 1)\n",
    "    \n",
    "    G = (X*(z-np.exp(X@param))).mean(axis=0)#.reshape(-1, 1)\n",
    "    \n",
    "    return G.T@W@G\n",
    "\n",
    "def objective_grad(beta):\n",
    "    \n",
    "    return -(2*X*np.exp(X@beta.reshape(-1, 1))).T@X@W@X.T@(z-np.exp(X@beta.reshape(-1, 1)))/5000**2"
   ]
  },
  {
   "cell_type": "code",
   "execution_count": 309,
   "metadata": {},
   "outputs": [
    {
     "data": {
      "text/plain": [
       "(2,)"
      ]
     },
     "execution_count": 309,
     "metadata": {},
     "output_type": "execute_result"
    }
   ],
   "source": [
    "G.shape"
   ]
  },
  {
   "cell_type": "code",
   "execution_count": 310,
   "metadata": {},
   "outputs": [],
   "source": [
    "W = np.eye(2)"
   ]
  },
  {
   "cell_type": "code",
   "execution_count": 311,
   "metadata": {},
   "outputs": [
    {
     "data": {
      "text/plain": [
       "array([[1., 0.],\n",
       "       [0., 1.]])"
      ]
     },
     "execution_count": 311,
     "metadata": {},
     "output_type": "execute_result"
    }
   ],
   "source": [
    "W"
   ]
  },
  {
   "cell_type": "code",
   "execution_count": 312,
   "metadata": {},
   "outputs": [],
   "source": [
    "beta_true =  np.array([0.10, 0.1])#.reshape(-1, 1)"
   ]
  },
  {
   "cell_type": "code",
   "execution_count": 313,
   "metadata": {},
   "outputs": [
    {
     "name": "stdout",
     "output_type": "stream",
     "text": [
      "CPU times: user 89.1 ms, sys: 1.03 ms, total: 90.1 ms\n",
      "Wall time: 88 ms\n"
     ]
    }
   ],
   "source": [
    "%%time\n",
    "num_grad = opt.approx_fprime(beta_true,objective , np.sqrt(np.finfo(float).eps))\n"
   ]
  },
  {
   "cell_type": "code",
   "execution_count": 314,
   "metadata": {},
   "outputs": [
    {
     "name": "stdout",
     "output_type": "stream",
     "text": [
      "CPU times: user 72.3 ms, sys: 944 µs, total: 73.3 ms\n",
      "Wall time: 71.3 ms\n"
     ]
    }
   ],
   "source": [
    "%%time\n",
    "ana_grad = objective_grad(beta_true).reshape(-1)\n"
   ]
  },
  {
   "cell_type": "code",
   "execution_count": 304,
   "metadata": {},
   "outputs": [
    {
     "name": "stdout",
     "output_type": "stream",
     "text": [
      "[0.05711382 0.08252242] [0.0571138  0.08252239]\n",
      "3.9533851097632414e-16\n"
     ]
    }
   ],
   "source": [
    "num_grad = opt.approx_fprime(beta_true,objective , np.sqrt(np.finfo(float).eps))\n",
    "ana_grad = objective_grad(beta_true).reshape(-1)\n",
    "print(num_grad, ana_grad)\n",
    "print(np.mean((num_grad-ana_grad)**2))"
   ]
  },
  {
   "cell_type": "code",
   "execution_count": 286,
   "metadata": {},
   "outputs": [
    {
     "data": {
      "text/plain": [
       "array([[0.2316969 ],\n",
       "       [0.32807452]])"
      ]
     },
     "execution_count": 286,
     "metadata": {},
     "output_type": "execute_result"
    }
   ],
   "source": [
    "objective_grad(beta_true)"
   ]
  },
  {
   "cell_type": "code",
   "execution_count": 293,
   "metadata": {},
   "outputs": [
    {
     "name": "stdout",
     "output_type": "stream",
     "text": [
      "CPU times: user 2.14 ms, sys: 2 ms, total: 4.15 ms\n",
      "Wall time: 3.49 ms\n"
     ]
    }
   ],
   "source": [
    "%%time\n",
    "a = opt.check_grad(objective, objective_grad, x0=beta_true)"
   ]
  },
  {
   "cell_type": "code",
   "execution_count": 294,
   "metadata": {},
   "outputs": [
    {
     "data": {
      "text/plain": [
       "array([0.09637761, 0.09637765])"
      ]
     },
     "execution_count": 294,
     "metadata": {},
     "output_type": "execute_result"
    }
   ],
   "source": [
    "a"
   ]
  },
  {
   "cell_type": "code",
   "execution_count": 280,
   "metadata": {},
   "outputs": [],
   "source": [
    "def objective(beta):\n",
    "    param = beta.reshape(-1, 1)\n",
    "    \n",
    "    G = (X*(z-np.exp(X@param))).mean(axis=0)#.reshape(-1, 1)\n",
    "    \n",
    "    return G.T@W@G\n",
    "\n",
    "def objective_grad(beta):\n",
    "    \n",
    "    return -(2*X*np.exp(X@beta.reshape(-1, 1))).T@X@W@X.T@(z-np.exp(X@beta.reshape(-1, 1)))/5000**2"
   ]
  },
  {
   "cell_type": "code",
   "execution_count": 258,
   "metadata": {},
   "outputs": [
    {
     "name": "stdout",
     "output_type": "stream",
     "text": [
      "CPU times: user 1.63 ms, sys: 1.02 ms, total: 2.66 ms\n",
      "Wall time: 1.92 ms\n"
     ]
    },
    {
     "data": {
      "text/plain": [
       "array([0.02540858, 0.02540861])"
      ]
     },
     "execution_count": 258,
     "metadata": {},
     "output_type": "execute_result"
    }
   ],
   "source": [
    "%%time\n",
    "opt.check_grad(objective, objective_grad, beta_true)"
   ]
  },
  {
   "cell_type": "code",
   "execution_count": 250,
   "metadata": {},
   "outputs": [],
   "source": [
    "integral_check = np.zeros((50,50))\n",
    "first = np.linspace(0,3,50)\n",
    "second = np.linspace(0,3,50)\n",
    "for i1, f in enumerate(first):\n",
    "    for i2, s in enumerate(second):\n",
    "        integral_check[i1,i2] = np.sum((objective_grad(np.array([f,s]))-opt.approx_fprime(np.array([f,s]), objective, epsilon=1e-2))**2)\n",
    "        "
   ]
  },
  {
   "cell_type": "code",
   "execution_count": 251,
   "metadata": {},
   "outputs": [
    {
     "data": {
      "text/plain": [
       "47185439.320186734"
      ]
     },
     "execution_count": 251,
     "metadata": {},
     "output_type": "execute_result"
    }
   ],
   "source": [
    "integral_check[-1, -1]"
   ]
  },
  {
   "cell_type": "code",
   "execution_count": 254,
   "metadata": {},
   "outputs": [
    {
     "data": {
      "text/plain": [
       "<matplotlib.colorbar.Colorbar at 0x7f28ac8d9ad0>"
      ]
     },
     "execution_count": 254,
     "metadata": {},
     "output_type": "execute_result"
    },
    {
     "data": {
      "image/png": "[encoded data removed]",
      "text/plain": [
       "<Figure size 432x288 with 2 Axes>"
      ]
     },
     "metadata": {
      "needs_background": "light"
     },
     "output_type": "display_data"
    }
   ],
   "source": [
    "plt.imshow(np.log(integral_check),extent=[0,3,3,0])\n",
    "#plt.axis('square')\n",
    "plt.colorbar()"
   ]
  },
  {
   "cell_type": "code",
   "execution_count": 165,
   "metadata": {},
   "outputs": [],
   "source": [
    "# class MeanGMM(GMM):\n",
    "\n",
    "    \n",
    "#     def __init__(self, *args, **kwds):\n",
    "#         # set appropriate counts for moment conditions and parameters\n",
    "#         # TODO: clean up signature\n",
    "#         kwds.setdefault('k_moms', 2)\n",
    "#         kwds.setdefault('k_params', 2)\n",
    "#         super(MeanGMM, self).__init__(*args, **kwds)\n",
    "\n",
    "\n",
    "#     def momcond(self, params):\n",
    "                \n",
    "#         y = self.endog[:, 0].reshape(-1, 1)\n",
    "#         counts = self.endog[:, 1].reshape(-1, 1)\n",
    "        \n",
    "#         x_mat = self.exog\n",
    "\n",
    "#         beta_hat = params.reshape(-1, 1)\n",
    "        \n",
    "#         a =  (x_mat*y)/self.q - (x_mat*np.exp(x_mat@beta_hat))\n",
    "#         return a * counts\n",
    "    \n",
    "# class VarianceGMM(GMM):\n",
    "\n",
    "    \n",
    "#     def __init__(self, *args, **kwds):\n",
    "#         # set appropriate counts for moment conditions and parameters\n",
    "#         # TODO: clean up signature\n",
    "#         kwds.setdefault('k_moms', 2)\n",
    "#         kwds.setdefault('k_params', 2)\n",
    "#         super(VarianceGMM, self).__init__(*args, **kwds)\n",
    "\n",
    "\n",
    "#     def momcond(self, params):\n",
    "                \n",
    "#         y = self.endog[:, 0].reshape(-1, 1)\n",
    "#         counts = self.endog[:, 1].reshape(-1, 1)\n",
    "        \n",
    "#         x_mat = self.exog\n",
    "        \n",
    "#         mean_beta = self.mean_beta.reshape(-1, 1)\n",
    "#         var_beta = params.reshape(-1, 1)\n",
    "        \n",
    "#         a = (x_mat*y**2)/self.q_sq\n",
    "#         b = -(x_mat*y)*(1-self.q_sq/self.q)/self.q_sq\n",
    "#         c = -2*y*np.exp(x_mat@mean_beta)*x_mat/self.q\n",
    "#         d = np.exp(2*x_mat@mean_beta)*x_mat\n",
    "#         e = -x_mat*np.exp(x_mat@(self.gamma*mean_beta + var_beta))\n",
    "#         return counts*(a + b + c + d + e)"
   ]
  },
  {
   "cell_type": "code",
   "execution_count": 177,
   "metadata": {},
   "outputs": [
    {
     "data": {
      "text/plain": [
       "array([3.01462052, 4.11594544])"
      ]
     },
     "execution_count": 177,
     "metadata": {},
     "output_type": "execute_result"
    }
   ],
   "source": [
    "(2*X*np.exp(X@beta_true.reshape(-1, 1))).mean(axis=0)"
   ]
  },
  {
   "cell_type": "code",
   "execution_count": 191,
   "metadata": {},
   "outputs": [
    {
     "data": {
      "text/plain": [
       "array([[0.01481078],\n",
       "       [0.01721467]])"
      ]
     },
     "execution_count": 191,
     "metadata": {},
     "output_type": "execute_result"
    }
   ],
   "source": [
    "-(2*X*np.exp(X@beta_true.reshape(-1, 1))).T@X@W@X.T@(z-np.exp(X@beta_true.reshape(-1, 1)))/100000**2"
   ]
  },
  {
   "cell_type": "code",
   "execution_count": 41,
   "metadata": {},
   "outputs": [
    {
     "name": "stdout",
     "output_type": "stream",
     "text": [
      "(2,)\n"
     ]
    },
    {
     "data": {
      "text/plain": [
       "0.00014312910540704592"
      ]
     },
     "execution_count": 41,
     "metadata": {},
     "output_type": "execute_result"
    }
   ],
   "source": [
    "objective(beta_true)"
   ]
  }
 ],
 "metadata": {
  "kernelspec": {
   "display_name": "Python 3",
   "language": "python",
   "name": "python3"
  },
  "language_info": {
   "codemirror_mode": {
    "name": "ipython",
    "version": 3
   },
   "file_extension": ".py",
   "mimetype": "text/x-python",
   "name": "python",
   "nbconvert_exporter": "python",
   "pygments_lexer": "ipython3",
   "version": "3.7.4"
  }
 },
 "nbformat": 4,
 "nbformat_minor": 4
}
