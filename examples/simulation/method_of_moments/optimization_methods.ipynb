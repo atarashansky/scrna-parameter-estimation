{
 "cells": [
  {
   "cell_type": "code",
   "execution_count": 76,
   "metadata": {},
   "outputs": [],
   "source": [
    "import numpy as np\n",
    "import scipy.stats as stats\n",
    "import matplotlib.pyplot as plt\n",
    "import seaborn as sns\n",
    "import pandas as pd\n",
    "import scipy as sp\n",
    "import imp"
   ]
  },
  {
   "cell_type": "code",
   "execution_count": 394,
   "metadata": {},
   "outputs": [],
   "source": [
    "from sympy import *\n",
    "from sympy.printing.str import StrPrinter\n",
    "from sympy.printing.latex import LatexPrinter"
   ]
  },
  {
   "cell_type": "code",
   "execution_count": 77,
   "metadata": {},
   "outputs": [],
   "source": [
    "import numpy as np\n",
    "from scipy.special import psi\n",
    "from statsmodels.sandbox.regression.gmm import GMM"
   ]
  },
  {
   "cell_type": "code",
   "execution_count": 78,
   "metadata": {},
   "outputs": [],
   "source": [
    "import sys\n",
    "sys.path.append('simulate.py')\n",
    "import simulate as sim"
   ]
  },
  {
   "cell_type": "code",
   "execution_count": 79,
   "metadata": {},
   "outputs": [
    {
     "data": {
      "text/plain": [
       "<module 'simulate' from '/wynton/group/ye/mincheol/Github/scrna-parameter-estimation/examples/simulation/method_of_moments/simulate.py'>"
      ]
     },
     "execution_count": 79,
     "metadata": {},
     "output_type": "execute_result"
    }
   ],
   "source": [
    "imp.reload(sim)"
   ]
  },
  {
   "cell_type": "code",
   "execution_count": 80,
   "metadata": {},
   "outputs": [],
   "source": [
    "p = 0.1\n",
    "noise_level = 0.2049755522580501\n",
    "p_sq = (noise_level+1)*p**2"
   ]
  },
  {
   "cell_type": "code",
   "execution_count": 216,
   "metadata": {},
   "outputs": [],
   "source": [
    "X, z = sim.simulate_true_counts(\n",
    "    N=5000,\n",
    "    mean_coef = np.array([1, 0.1]),\n",
    "    var_coef = np.array([2, 0.1]),\n",
    "    num_levels=2,\n",
    "    p=1)\n",
    "\n",
    "y = sim.simulate_dropout(z, p, p_sq) "
   ]
  },
  {
   "cell_type": "code",
   "execution_count": 222,
   "metadata": {},
   "outputs": [
    {
     "data": {
      "text/plain": [
       "<matplotlib.axes._subplots.AxesSubplot at 0x7f1e05f731d0>"
      ]
     },
     "execution_count": 222,
     "metadata": {},
     "output_type": "execute_result"
    },
    {
     "data": {
      "image/png": "[encoded data removed]",
      "text/plain": [
       "<Figure size 432x288 with 1 Axes>"
      ]
     },
     "metadata": {
      "needs_background": "light"
     },
     "output_type": "display_data"
    }
   ],
   "source": [
    "sns.violinplot(pd.Series(X[:, 0]), y.ravel())"
   ]
  },
  {
   "cell_type": "markdown",
   "metadata": {},
   "source": [
    "### statsmodels based GMM"
   ]
  },
  {
   "cell_type": "code",
   "execution_count": 425,
   "metadata": {},
   "outputs": [],
   "source": [
    "class MeanGMM(GMM):\n",
    "\n",
    "    \n",
    "    def __init__(self, *args, **kwds):\n",
    "        # set appropriate counts for moment conditions and parameters\n",
    "        # TODO: clean up signature\n",
    "        kwds.setdefault('k_moms', 2)\n",
    "        kwds.setdefault('k_params', 2)\n",
    "        super(MeanGMM, self).__init__(*args, **kwds)\n",
    "\n",
    "\n",
    "    def momcond(self, params):\n",
    "                \n",
    "        y = self.endog.reshape(-1, 1)\n",
    "        x_mat = self.exog\n",
    "\n",
    "        beta_hat = params.reshape(-1, 1)\n",
    "        \n",
    "        a =  (x_mat*y)/self.q - (x_mat*np.exp(x_mat@beta_hat))\n",
    "        return a\n",
    "    \n",
    "class VarianceGMM(GMM):\n",
    "\n",
    "    \n",
    "    def __init__(self, *args, **kwds):\n",
    "        # set appropriate counts for moment conditions and parameters\n",
    "        # TODO: clean up signature\n",
    "        kwds.setdefault('k_moms', 2)\n",
    "        kwds.setdefault('k_params', 2)\n",
    "        super(VarianceGMM, self).__init__(*args, **kwds)\n",
    "\n",
    "\n",
    "    def momcond(self, params):\n",
    "                \n",
    "        y = self.endog.reshape(-1, 1)\n",
    "        x_mat = self.exog\n",
    "        mean_beta = self.mean_beta.reshape(-1, 1)\n",
    "\n",
    "        var_beta = params.reshape(-1, 1)\n",
    "        \n",
    "        a = (x_mat*y**2)/self.q_sq\n",
    "        b = -(x_mat*y)*(1-self.q_sq/self.q)/self.q_sq\n",
    "        c = -2*y*np.exp(x_mat@mean_beta)*x_mat/self.q\n",
    "        d = np.exp(2*x_mat@mean_beta)*x_mat\n",
    "        e = -x_mat*np.exp(x_mat@(self.gamma*mean_beta + var_beta))\n",
    "        return a + b + c + d + e\n",
    "\n",
    "class CombinedGMM(GMM):\n",
    "    \n",
    "    def __init__(self, *args, **kwds):\n",
    "        # set appropriate counts for moment conditions and parameters\n",
    "        # TODO: clean up signature\n",
    "        kwds.setdefault('k_moms', 4)\n",
    "        kwds.setdefault('k_params', 4)\n",
    "        super(CombinedGMM, self).__init__(*args, **kwds)\n",
    "\n",
    "\n",
    "    def momcond(self, params):\n",
    "                \n",
    "        y = self.endog.reshape(-1, 1)\n",
    "        x_mat = self.exog\n",
    "\n",
    "        mean_beta, var_beta = np.split(params.reshape(-1, 1), 2)\n",
    "                \n",
    "        mean_error =  (x_mat*y)/self.q - (x_mat*np.exp(x_mat@mean_beta))\n",
    "        \n",
    "        a = (x_mat*y**2)/self.q_sq\n",
    "        b = -(x_mat*y)*(1-self.q_sq/self.q)/self.q_sq\n",
    "        c = -2*y*np.exp(x_mat@mean_beta)*x_mat/self.q\n",
    "        d = np.exp(2*x_mat@mean_beta)*x_mat\n",
    "        e = -x_mat*np.exp(x_mat@(self.gamma*mean_beta + var_beta))\n",
    "        \n",
    "        var_error = a + b + c + d + e\n",
    "    \n",
    "        return np.hstack([mean_error, var_error])"
   ]
  },
  {
   "cell_type": "code",
   "execution_count": null,
   "metadata": {},
   "outputs": [],
   "source": [
    "class MeanGMM(GMM):\n",
    "\n",
    "    \n",
    "    def __init__(self, *args, **kwds):\n",
    "        # set appropriate counts for moment conditions and parameters\n",
    "        # TODO: clean up signature\n",
    "        kwds.setdefault('k_moms', 2)\n",
    "        kwds.setdefault('k_params', 2)\n",
    "        super(MeanGMM, self).__init__(*args, **kwds)\n",
    "\n",
    "\n",
    "    def momcond(self, params):\n",
    "                \n",
    "        y = self.endog.reshape(-1, 1)\n",
    "        x_mat = self.exog\n",
    "\n",
    "        beta_hat = params.reshape(-1, 1)\n",
    "        \n",
    "        a =  (x_mat*y)/self.q - (x_mat*np.exp(x_mat@beta_hat))\n",
    "        return a"
   ]
  },
  {
   "cell_type": "code",
   "execution_count": 428,
   "metadata": {},
   "outputs": [],
   "source": [
    "X, z = sim.simulate_true_counts(\n",
    "    N=100000,\n",
    "    mean_coef = np.array([1.5, 0.1]),\n",
    "    var_coef = np.array([1.6, 0.1]),\n",
    "    num_levels=2,\n",
    "    p=1)\n",
    "\n",
    "y = sim.simulate_dropout(z, p, p_sq)\n",
    "\n",
    "df = pd.DataFrame(\n",
    "    data=np.hstack([X, y]),\n",
    "    columns=['treatment', 'intercept', 'y'])\n",
    "df = df.groupby(df.columns.tolist()).size().reset_index(name='count')\n",
    "df['proportion'] = df['count'] / X.shape[0]"
   ]
  },
  {
   "cell_type": "code",
   "execution_count": 429,
   "metadata": {},
   "outputs": [
    {
     "name": "stdout",
     "output_type": "stream",
     "text": [
      "                               MeanGMM Results                                \n",
      "==============================================================================\n",
      "Dep. Variable:         ['y', 'count']   Hansen J:                    1.731e-15\n",
      "Model:                        MeanGMM   Prob (Hansen J):                   nan\n",
      "Method:                           GMM                                         \n",
      "Date:                Sun, 13 Oct 2019                                         \n",
      "Time:                        21:09:54                                         \n",
      "No. Observations:                  17                                         \n",
      "==============================================================================\n",
      "                 coef    std err          z      P>|z|      [0.025      0.975]\n",
      "------------------------------------------------------------------------------\n",
      "treatment      1.4116      0.414      3.413      0.001       0.601       2.222\n",
      "intercept      2.7081      0.373      7.266      0.000       1.978       3.438\n",
      "==============================================================================\n"
     ]
    }
   ],
   "source": [
    "X, z = sim.simulate_true_counts(\n",
    "    N=100000,\n",
    "    mean_coef = np.array([1.5, 0.1]),\n",
    "    var_coef = np.array([1.6, 0.1]),\n",
    "    num_levels=2,\n",
    "    p=1)\n",
    "\n",
    "y = sim.simulate_dropout(z, p, p_sq)\n",
    "\n",
    "df = pd.DataFrame(\n",
    "    data=np.hstack([X, y]),\n",
    "    columns=['treatment', 'intercept', 'y'])\n",
    "df = df.groupby(df.columns.tolist()).size().reset_index(name='count')\n",
    "df['proportion'] = df['count'] / X.shape[0]\n",
    "\n",
    "init = np.ones(2)*(np.log(y+1).mean()/2)\n",
    "\n",
    "mean_model = MeanGMM(df[['y', 'count']], df[['treatment', 'intercept']], instrument=None, q=p, q_sq=p_sq)\n",
    "mean_res = mean_model.fit(init, maxiter=2, optim_method='bfgs', optim_args={'disp':False}, wargs=dict(centered=False))\n",
    "mean_beta = mean_res.params\n",
    "\n",
    "# var_model = VarianceGMM(y, X, instrument=None, q=p, q_sq=p_sq, mean_beta=mean_beta, gamma=1)\n",
    "# var_res = var_model.fit(init, maxiter=2, optim_method='bfgs', optim_args={'disp':False}, wargs=dict(centered=False))\n",
    "\n",
    "# combined_model = CombinedGMM(y, X, instrument=None, q=p, q_sq=p_sq, gamma=1)\n",
    "# combined_res = combined_model.fit(np.concatenate([init, init]), maxiter=2, optim_method='bfgs', optim_args={'disp':False}, wargs=dict(centered=False))\n",
    "\n",
    "\n",
    "print(mean_res.summary())\n",
    "# print(var_res.summary())\n",
    "# print(combined_res.summary())"
   ]
  },
  {
   "cell_type": "code",
   "execution_count": 403,
   "metadata": {},
   "outputs": [
    {
     "name": "stdout",
     "output_type": "stream",
     "text": [
      "Optimization terminated successfully.\n",
      "         Current function value: 0.000000\n",
      "         Iterations: 10\n",
      "         Function evaluations: 12\n",
      "         Gradient evaluations: 12\n",
      "Optimization terminated successfully.\n",
      "         Current function value: 0.000000\n",
      "         Iterations: 0\n",
      "         Function evaluations: 1\n",
      "         Gradient evaluations: 1\n",
      "CPU times: user 228 ms, sys: 206 µs, total: 228 ms\n",
      "Wall time: 223 ms\n"
     ]
    }
   ],
   "source": [
    "%%time\n",
    "mean_res = mean_model.fit(init, maxiter=2, optim_method='bfgs', optim_args={'disp':True}, wargs=dict(centered=False))\n"
   ]
  },
  {
   "cell_type": "code",
   "execution_count": 404,
   "metadata": {},
   "outputs": [
    {
     "name": "stdout",
     "output_type": "stream",
     "text": [
      "Optimization terminated successfully.\n",
      "         Current function value: 0.000000\n",
      "         Iterations: 10\n",
      "         Function evaluations: 16\n",
      "         Gradient evaluations: 16\n",
      "Optimization terminated successfully.\n",
      "         Current function value: 0.000000\n",
      "         Iterations: 0\n",
      "         Function evaluations: 1\n",
      "         Gradient evaluations: 1\n",
      "CPU times: user 759 ms, sys: 0 ns, total: 759 ms\n",
      "Wall time: 756 ms\n"
     ]
    }
   ],
   "source": [
    "%%time\n",
    "var_res = var_model.fit(init, maxiter=2, optim_method='bfgs', optim_args={'disp':True}, wargs=dict(centered=False))\n"
   ]
  },
  {
   "cell_type": "code",
   "execution_count": 1,
   "metadata": {},
   "outputs": [],
   "source": [
    "import cvxpy"
   ]
  },
  {
   "cell_type": "code",
   "execution_count": 2,
   "metadata": {},
   "outputs": [
    {
     "name": "stdout",
     "output_type": "stream",
     "text": [
      "[-1.79109253e-19  2.85112420e-02  2.79973443e-19  3.37658751e-20\n",
      " -2.72802659e-19  1.49285011e-01 -9.97212062e-20  8.35373892e-20\n",
      "  2.46718649e-01  5.78224144e-01 -4.03739462e-19  1.01242860e-03\n",
      " -9.28486200e-20  2.26767464e-01 -1.58813677e-19 -8.97232308e-20\n",
      " -1.22145726e-19 -1.51509432e-19  1.12060673e-19 -3.48318630e-19]\n",
      "[ 2.50938945  0.          2.78354615  1.79425782 13.08579183  0.\n",
      "  0.73716363  3.35344995  0.          0.          8.93825054  0.\n",
      "  7.02955161  0.          4.71068649  3.18873635  2.06090107 10.08166738\n",
      "  3.0481157   8.53268239]\n"
     ]
    }
   ],
   "source": [
    "import cvxpy as cp\n",
    "import numpy as np\n",
    "\n",
    "# Problem data.\n",
    "m = 30\n",
    "n = 20\n",
    "np.random.seed(1)\n",
    "A = np.random.randn(m, n)\n",
    "b = np.random.randn(m)\n",
    "\n",
    "# Construct the problem.\n",
    "x = cp.Variable(n)\n",
    "objective = cp.Minimize(cp.sum_squares(A*x - b))\n",
    "constraints = [0 <= x, x <= 1]\n",
    "prob = cp.Problem(objective, constraints)\n",
    "\n",
    "# The optimal objective value is returned by `prob.solve()`.\n",
    "result = prob.solve()\n",
    "# The optimal value for x is stored in `x.value`.\n",
    "print(x.value)\n",
    "# The optimal Lagrange multiplier for a constraint is stored in\n",
    "# `constraint.dual_value`.\n",
    "print(constraints[0].dual_value)"
   ]
  },
  {
   "cell_type": "code",
   "execution_count": null,
   "metadata": {},
   "outputs": [],
   "source": []
  }
 ],
 "metadata": {
  "kernelspec": {
   "display_name": "Python 3",
   "language": "python",
   "name": "python3"
  },
  "language_info": {
   "codemirror_mode": {
    "name": "ipython",
    "version": 3
   },
   "file_extension": ".py",
   "mimetype": "text/x-python",
   "name": "python",
   "nbconvert_exporter": "python",
   "pygments_lexer": "ipython3",
   "version": "3.7.4"
  }
 },
 "nbformat": 4,
 "nbformat_minor": 4
}
