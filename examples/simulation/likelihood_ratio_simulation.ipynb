{
 "cells": [
  {
   "cell_type": "markdown",
   "metadata": {},
   "source": [
    "# Likelihood Ratio Test Simulation\n",
    "\n",
    "Likelihood ratio test simulations"
   ]
  },
  {
   "cell_type": "markdown",
   "metadata": {},
   "source": [
    "### Imports"
   ]
  },
  {
   "cell_type": "code",
   "execution_count": 1,
   "metadata": {},
   "outputs": [],
   "source": [
    "%matplotlib inline"
   ]
  },
  {
   "cell_type": "code",
   "execution_count": 2,
   "metadata": {},
   "outputs": [],
   "source": [
    "import pandas as pd\n",
    "import matplotlib.pyplot as plt\n",
    "import scipy.stats as stats\n",
    "import seaborn as sns\n",
    "from statsmodels.stats.weightstats import DescrStatsW\n",
    "import numpy as np\n",
    "import itertools\n",
    "import time"
   ]
  },
  {
   "cell_type": "markdown",
   "metadata": {},
   "source": [
    "### Simulation functions\n"
   ]
  },
  {
   "cell_type": "code",
   "execution_count": 3,
   "metadata": {},
   "outputs": [],
   "source": [
    "def simulate_data(mu, sigma, p, num_cells):\n",
    "    \n",
    "    continuous = stats.lognorm.rvs(s=sigma, scale=np.exp(mu), size=num_cells)\n",
    "    ground_truth_counts = np.round(continuous).astype(np.int64)\n",
    "    observed = np.random.binomial(n=ground_truth_counts, p=p)\n",
    "    \n",
    "    return observed"
   ]
  },
  {
   "cell_type": "markdown",
   "metadata": {},
   "source": [
    "### Parameter estimation functions"
   ]
  },
  {
   "cell_type": "code",
   "execution_count": 503,
   "metadata": {},
   "outputs": [
    {
     "name": "stderr",
     "output_type": "stream",
     "text": [
      "/anaconda3/envs/scvi/lib/python3.6/site-packages/ipykernel/__main__.py:1: RuntimeWarning: divide by zero encountered in log\n",
      "  if __name__ == '__main__':\n"
     ]
    },
    {
     "data": {
      "text/plain": [
       "array([0.        ,       -inf, 1.09861229])"
      ]
     },
     "execution_count": 503,
     "metadata": {},
     "output_type": "execute_result"
    }
   ],
   "source": [
    "np.log([1, 0, 3])"
   ]
  },
  {
   "cell_type": "code",
   "execution_count": 534,
   "metadata": {},
   "outputs": [],
   "source": [
    "def get_parameters(observed, p_hat):\n",
    "    \n",
    "    mu_hat_closed = np.log(observed.mean()) - np.log(p_hat) - (1/2)*np.log(observed.var()/observed.mean()**2 - (1-p_hat)/observed.mean() + 1)\n",
    "    sigma_hat_closed = np.sqrt(np.log(observed.var()/observed.mean()**2 - (1-p_hat)/observed.mean() + 1))\n",
    "    \n",
    "    return mu_hat_closed, sigma_hat_closed"
   ]
  },
  {
   "cell_type": "markdown",
   "metadata": {},
   "source": [
    "### Log-likelihood computing functions"
   ]
  },
  {
   "cell_type": "code",
   "execution_count": 535,
   "metadata": {},
   "outputs": [],
   "source": [
    "MAX_LATENT = 200\n",
    "p = 0.1\n",
    "binom_table = np.zeros(shape=(MAX_LATENT, MAX_LATENT))\n",
    "    \n",
    "for x in range(MAX_LATENT):\n",
    "    for z in range(x, MAX_LATENT):\n",
    "        binom_table[x, z] = stats.binom.pmf(x, z, p)"
   ]
  },
  {
   "cell_type": "code",
   "execution_count": 536,
   "metadata": {},
   "outputs": [],
   "source": [
    "def rv_pmf(x, mu, sigma):\n",
    "    \"\"\" PDF/PMF of the random variable under use. \"\"\"\n",
    "    \n",
    "    return stats.lognorm.pdf(x, scale=np.exp(mu), s=sigma)"
   ]
  },
  {
   "cell_type": "code",
   "execution_count": 537,
   "metadata": {},
   "outputs": [],
   "source": [
    "def create_px_table(mu, sigma, p):\n",
    "    \n",
    "    z_probs = np.tile(rv_pmf(np.arange(0, MAX_LATENT), mu, sigma).reshape(1, -1), [MAX_LATENT, 1])\n",
    "    \n",
    "    return (z_probs * binom_table).sum(axis=1)"
   ]
  },
  {
   "cell_type": "code",
   "execution_count": 682,
   "metadata": {},
   "outputs": [],
   "source": [
    "def log_likelihood(observed, mu, sigma):\n",
    "    \n",
    "    observed = observed[observed < 200]\n",
    "    observed_counts = pd.Series(observed).value_counts()\n",
    "    optimal_px_table = create_px_table(mu, sigma, p)\n",
    "    optimal_likelihood = np.array([count*np.log(optimal_px_table[val]) for val,count in zip(observed_counts.index, observed_counts)]).sum()\n",
    "    return optimal_likelihood"
   ]
  },
  {
   "cell_type": "markdown",
   "metadata": {},
   "source": [
    "### Test of Means - Different means"
   ]
  },
  {
   "cell_type": "code",
   "execution_count": 761,
   "metadata": {},
   "outputs": [],
   "source": [
    "# Parameters for data generation\n",
    "num_cells = 2000\n",
    "\n",
    "mu1 = 1.5\n",
    "sigma1 = 1\n",
    "\n",
    "mu2 = 1\n",
    "sigma2 = 1\n",
    "\n",
    "p=0.1"
   ]
  },
  {
   "cell_type": "code",
   "execution_count": 769,
   "metadata": {},
   "outputs": [],
   "source": [
    "# Parameters for simulation\n",
    "num_trials = 5000"
   ]
  },
  {
   "cell_type": "code",
   "execution_count": 770,
   "metadata": {},
   "outputs": [],
   "source": [
    "p_hat = p\n",
    "\n",
    "Ks = np.zeros(num_trials)\n",
    "\n",
    "mu1_hats = np.zeros(num_trials)\n",
    "mu2_hats = np.zeros(num_trials)\n",
    "mu_null_hats = np.zeros(num_trials)\n",
    "\n",
    "sigma1_hats = np.zeros(num_trials)\n",
    "sigma2_hats = np.zeros(num_trials)\n",
    "sigma1_null_hats = np.zeros(num_trials)\n",
    "sigma2_null_hats = np.zeros(num_trials)\n",
    "\n",
    "alt_lls = np.zeros(num_trials)\n",
    "null_lls = np.zeros(num_trials)\n",
    "\n",
    "\n",
    "for trial in range(num_trials):\n",
    "    \n",
    "    observed1 = simulate_data(mu1, sigma1, p, num_cells)\n",
    "    observed2 = simulate_data(mu2, sigma2, p, num_cells)\n",
    "    \n",
    "    mu1_hat, sigma1_hat = get_parameters(observed1, p_hat)\n",
    "    mu2_hat, sigma2_hat = get_parameters(observed2, p_hat)\n",
    "    \n",
    "    # For comparison of the means\n",
    "    mu_null_hat = (mu1_hat + mu2_hat)/2\n",
    "    sigma1_null_hat = np.sqrt((sigma1_hat**2 + mu1_hat**2) - 2*mu_null_hat*mu1_hat + mu_null_hat**2)\n",
    "    sigma2_null_hat = np.sqrt((sigma2_hat**2 + mu2_hat**2) - 2*mu_null_hat*mu2_hat + mu_null_hat**2)\n",
    "    \n",
    "    # For comparison of variances\n",
    "#     sigma_null_hat = np.sqrt(sigma1_hat**2 + sigma2_hat**2)\n",
    "#     mu1_null_hat = np.log(observed1.mean() / p / np.sqrt(np.exp(sigma_null_hat**2)))\n",
    "#     mu2_null_hat = np.log(observed2.mean() / p / np.sqrt(np.exp(sigma_null_hat**2)))\n",
    "\n",
    "    \n",
    "    alt_ll = \\\n",
    "        log_likelihood(\n",
    "            observed1, \n",
    "            mu1_hat, \n",
    "            sigma1_hat\n",
    "        ) + \\\n",
    "        log_likelihood(\n",
    "            observed2, \n",
    "            mu2_hat, \n",
    "            sigma2_hat)\n",
    "    \n",
    "    null_ll = \\\n",
    "        log_likelihood(\n",
    "            observed1, \n",
    "            mu_null_hat, \n",
    "            sigma1_null_hat\n",
    "        ) + \\\n",
    "        log_likelihood(\n",
    "            observed2, \n",
    "            mu_null_hat, \n",
    "            sigma2_null_hat)       \n",
    "    \n",
    "    Ks[trial] = alt_ll - null_ll\n",
    "    \n",
    "    mu1_hats[trial] = mu1_hat\n",
    "    mu2_hats[trial] = mu2_hat\n",
    "    mu_null_hats[trial] = mu_null_hat\n",
    "    \n",
    "    sigma2_hats[trial] = sigma2_hat\n",
    "    sigma1_hats[trial] = sigma1_hat\n",
    "    sigma1_null_hats[trial] = sigma1_null_hat\n",
    "    sigma2_null_hats[trial] = sigma2_null_hat\n",
    "    \n",
    "    alt_lls[trial] = alt_ll\n",
    "    null_lls[trial] = null_ll\n",
    "    \n",
    "pval = stats.chi2.sf(2*Ks, df=2)"
   ]
  },
  {
   "cell_type": "code",
   "execution_count": 779,
   "metadata": {},
   "outputs": [
    {
     "name": "stderr",
     "output_type": "stream",
     "text": [
      "/anaconda3/envs/scvi/lib/python3.6/site-packages/matplotlib/axes/_axes.py:6462: UserWarning: The 'normed' kwarg is deprecated, and has been replaced by the 'density' kwarg.\n",
      "  warnings.warn(\"The 'normed' kwarg is deprecated, and has been \"\n",
      "/anaconda3/envs/scvi/lib/python3.6/site-packages/matplotlib/axes/_axes.py:6462: UserWarning: The 'normed' kwarg is deprecated, and has been replaced by the 'density' kwarg.\n",
      "  warnings.warn(\"The 'normed' kwarg is deprecated, and has been \"\n",
      "/anaconda3/envs/scvi/lib/python3.6/site-packages/matplotlib/axes/_axes.py:6462: UserWarning: The 'normed' kwarg is deprecated, and has been replaced by the 'density' kwarg.\n",
      "  warnings.warn(\"The 'normed' kwarg is deprecated, and has been \"\n"
     ]
    },
    {
     "data": {
      "text/plain": [
       "<matplotlib.legend.Legend at 0x1a2a5e0ac8>"
      ]
     },
     "execution_count": 779,
     "metadata": {},
     "output_type": "execute_result"
    },
    {
     "data": {
      "image/png": "[encoded data removed]",
      "text/plain": [
       "<Figure size 1080x216 with 3 Axes>"
      ]
     },
     "metadata": {},
     "output_type": "display_data"
    }
   ],
   "source": [
    "plt.figure(figsize=(15, 3));\n",
    "\n",
    "plt.subplot(1, 3, 1)\n",
    "sns.distplot(alt_lls[~np.isnan(alt_lls)]);\n",
    "sns.distplot(null_lls[~np.isnan(null_lls)]);\n",
    "plt.legend(['Alt. LL', 'Null LL']);\n",
    "plt.title('Distribution of Log-likelihoods')\n",
    "plt.subplot(1, 3, 2);\n",
    "sns.distplot(2*Ks[~np.isnan(Ks)], bins=50);\n",
    "plt.title('Distribution of log ratio of the likelihoods');\n",
    "plt.subplot(1, 3, 3);\n",
    "plt.hist([observed1, observed2], bins=30);\n",
    "plt.title('Example observed expression');\n",
    "plt.legend(['Group 1', 'Group 2'])\n"
   ]
  },
  {
   "cell_type": "markdown",
   "metadata": {},
   "source": [
    "### Test of Means - Same means"
   ]
  },
  {
   "cell_type": "code",
   "execution_count": 780,
   "metadata": {},
   "outputs": [],
   "source": [
    "# Parameters for data generation\n",
    "num_cells = 2000\n",
    "\n",
    "mu1 = 1\n",
    "sigma1 = 1\n",
    "\n",
    "mu2 = 1\n",
    "sigma2 = 1\n",
    "\n",
    "p=0.1"
   ]
  },
  {
   "cell_type": "code",
   "execution_count": 781,
   "metadata": {},
   "outputs": [],
   "source": [
    "# Parameters for simulation\n",
    "num_trials = 5000"
   ]
  },
  {
   "cell_type": "code",
   "execution_count": 782,
   "metadata": {},
   "outputs": [],
   "source": [
    "p_hat = p\n",
    "\n",
    "Ks = np.zeros(num_trials)\n",
    "\n",
    "mu1_hats = np.zeros(num_trials)\n",
    "mu2_hats = np.zeros(num_trials)\n",
    "mu_null_hats = np.zeros(num_trials)\n",
    "\n",
    "sigma1_hats = np.zeros(num_trials)\n",
    "sigma2_hats = np.zeros(num_trials)\n",
    "sigma1_null_hats = np.zeros(num_trials)\n",
    "sigma2_null_hats = np.zeros(num_trials)\n",
    "\n",
    "alt_lls = np.zeros(num_trials)\n",
    "null_lls = np.zeros(num_trials)\n",
    "\n",
    "\n",
    "for trial in range(num_trials):\n",
    "    \n",
    "    observed1 = simulate_data(mu1, sigma1, p, num_cells)\n",
    "    observed2 = simulate_data(mu2, sigma2, p, num_cells)\n",
    "    \n",
    "    mu1_hat, sigma1_hat = get_parameters(observed1, p_hat)\n",
    "    mu2_hat, sigma2_hat = get_parameters(observed2, p_hat)\n",
    "    \n",
    "    # For comparison of the means\n",
    "    mu_null_hat = (mu1_hat + mu2_hat)/2\n",
    "    sigma1_null_hat = np.sqrt((sigma1_hat**2 + mu1_hat**2) - 2*mu_null_hat*mu1_hat + mu_null_hat**2)\n",
    "    sigma2_null_hat = np.sqrt((sigma2_hat**2 + mu2_hat**2) - 2*mu_null_hat*mu2_hat + mu_null_hat**2)\n",
    "    \n",
    "    # For comparison of variances\n",
    "#     sigma_null_hat = np.sqrt(sigma1_hat**2 + sigma2_hat**2)\n",
    "#     mu1_null_hat = np.log(observed1.mean() / p / np.sqrt(np.exp(sigma_null_hat**2)))\n",
    "#     mu2_null_hat = np.log(observed2.mean() / p / np.sqrt(np.exp(sigma_null_hat**2)))\n",
    "\n",
    "    \n",
    "    alt_ll = \\\n",
    "        log_likelihood(\n",
    "            observed1, \n",
    "            mu1_hat, \n",
    "            sigma1_hat\n",
    "        ) + \\\n",
    "        log_likelihood(\n",
    "            observed2, \n",
    "            mu2_hat, \n",
    "            sigma2_hat)\n",
    "    \n",
    "    null_ll = \\\n",
    "        log_likelihood(\n",
    "            observed1, \n",
    "            mu_null_hat, \n",
    "            sigma1_null_hat\n",
    "        ) + \\\n",
    "        log_likelihood(\n",
    "            observed2, \n",
    "            mu_null_hat, \n",
    "            sigma2_null_hat)       \n",
    "    \n",
    "    Ks[trial] = alt_ll - null_ll\n",
    "    \n",
    "    mu1_hats[trial] = mu1_hat\n",
    "    mu2_hats[trial] = mu2_hat\n",
    "    mu_null_hats[trial] = mu_null_hat\n",
    "    \n",
    "    sigma2_hats[trial] = sigma2_hat\n",
    "    sigma1_hats[trial] = sigma1_hat\n",
    "    sigma1_null_hats[trial] = sigma1_null_hat\n",
    "    sigma2_null_hats[trial] = sigma2_null_hat\n",
    "    \n",
    "    alt_lls[trial] = alt_ll\n",
    "    null_lls[trial] = null_ll\n",
    "    \n",
    "pval = stats.chi2.sf(2*Ks, df=2)"
   ]
  },
  {
   "cell_type": "code",
   "execution_count": 783,
   "metadata": {},
   "outputs": [
    {
     "name": "stderr",
     "output_type": "stream",
     "text": [
      "/anaconda3/envs/scvi/lib/python3.6/site-packages/matplotlib/axes/_axes.py:6462: UserWarning: The 'normed' kwarg is deprecated, and has been replaced by the 'density' kwarg.\n",
      "  warnings.warn(\"The 'normed' kwarg is deprecated, and has been \"\n",
      "/anaconda3/envs/scvi/lib/python3.6/site-packages/matplotlib/axes/_axes.py:6462: UserWarning: The 'normed' kwarg is deprecated, and has been replaced by the 'density' kwarg.\n",
      "  warnings.warn(\"The 'normed' kwarg is deprecated, and has been \"\n",
      "/anaconda3/envs/scvi/lib/python3.6/site-packages/matplotlib/axes/_axes.py:6462: UserWarning: The 'normed' kwarg is deprecated, and has been replaced by the 'density' kwarg.\n",
      "  warnings.warn(\"The 'normed' kwarg is deprecated, and has been \"\n"
     ]
    },
    {
     "data": {
      "text/plain": [
       "<matplotlib.legend.Legend at 0x1a291d1d30>"
      ]
     },
     "execution_count": 783,
     "metadata": {},
     "output_type": "execute_result"
    },
    {
     "data": {
      "image/png": "[encoded data removed]",
      "text/plain": [
       "<Figure size 1080x216 with 3 Axes>"
      ]
     },
     "metadata": {},
     "output_type": "display_data"
    }
   ],
   "source": [
    "plt.figure(figsize=(15, 3));\n",
    "\n",
    "plt.subplot(1, 3, 1)\n",
    "sns.distplot(alt_lls[~np.isnan(alt_lls)]);\n",
    "sns.distplot(null_lls[~np.isnan(null_lls)]);\n",
    "plt.legend(['Alt. LL', 'Null LL']);\n",
    "plt.title('Distribution of Log-likelihoods')\n",
    "plt.subplot(1, 3, 2);\n",
    "sns.distplot(2*Ks[~np.isnan(Ks)], bins=50);\n",
    "plt.title('Distribution of log ratio of the likelihoods');\n",
    "plt.subplot(1, 3, 3);\n",
    "plt.hist([observed1, observed2], bins=30);\n",
    "plt.title('Example observed expression');\n",
    "plt.legend(['Group 1', 'Group 2'])\n"
   ]
  }
 ],
 "metadata": {
  "kernelspec": {
   "display_name": "Python [default]",
   "language": "python",
   "name": "python3"
  },
  "language_info": {
   "codemirror_mode": {
    "name": "ipython",
    "version": 3
   },
   "file_extension": ".py",
   "mimetype": "text/x-python",
   "name": "python",
   "nbconvert_exporter": "python",
   "pygments_lexer": "ipython3",
   "version": "3.6.8"
  }
 },
 "nbformat": 4,
 "nbformat_minor": 2
}
