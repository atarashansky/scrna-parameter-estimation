{
 "cells": [
  {
   "cell_type": "markdown",
   "metadata": {
    "nbpresent": {
     "id": "1f01a376-e4e2-4d3c-8723-0f0d91682b22"
    }
   },
   "source": [
    "# X-Inactivation Sex Differences DV Analysis\n",
    "\n",
    "Detection of X-inactivation via differential variance"
   ]
  },
  {
   "cell_type": "code",
   "execution_count": 109,
   "metadata": {
    "nbpresent": {
     "id": "9bc26761-c243-4e99-98ca-0cc6425e76f5"
    }
   },
   "outputs": [],
   "source": [
    "import pandas as pd\n",
    "import matplotlib.pyplot as plt\n",
    "import scanpy.api as sc\n",
    "import scipy as sp\n",
    "import itertools\n",
    "import numpy as np\n",
    "import scipy.stats as stats\n",
    "from scipy.integrate import dblquad\n",
    "import scipy.sparse as sparse\n",
    "import seaborn as sns\n",
    "import imp\n",
    "import time\n",
    "from statsmodels.stats.multitest import fdrcorrection"
   ]
  },
  {
   "cell_type": "code",
   "execution_count": 110,
   "metadata": {},
   "outputs": [],
   "source": [
    "import sys\n",
    "sys.path.append('/Users/mincheolkim/Github/scrna-parameter-estimation/simplesc')\n",
    "import simplesc"
   ]
  },
  {
   "cell_type": "code",
   "execution_count": 111,
   "metadata": {},
   "outputs": [
    {
     "data": {
      "text/html": [
       "<style>.container { width:100% !important; }</style>"
      ],
      "text/plain": [
       "<IPython.core.display.HTML object>"
      ]
     },
     "metadata": {},
     "output_type": "display_data"
    }
   ],
   "source": [
    "from IPython.core.display import display, HTML\n",
    "display(HTML(\"<style>.container { width:100% !important; }</style>\"))"
   ]
  },
  {
   "cell_type": "code",
   "execution_count": 112,
   "metadata": {},
   "outputs": [],
   "source": [
    "import warnings\n",
    "warnings.filterwarnings('ignore')"
   ]
  },
  {
   "cell_type": "code",
   "execution_count": 113,
   "metadata": {
    "nbpresent": {
     "id": "928db49a-7d74-456c-bf37-9192ad38ba99"
    }
   },
   "outputs": [],
   "source": [
    "data_path = '/Users/mincheolkim/Google Drive/UCSF/research/parameter_estimation/x_inactivation_data/'"
   ]
  },
  {
   "cell_type": "markdown",
   "metadata": {},
   "source": [
    "### Save some metadata from the Lupus AnnData object"
   ]
  },
  {
   "cell_type": "code",
   "execution_count": 114,
   "metadata": {},
   "outputs": [],
   "source": [
    "full_adata = sc.read(data_path + 'lupus_annotated_nonorm_V6_x_genes.h5ad')"
   ]
  },
  {
   "cell_type": "code",
   "execution_count": 131,
   "metadata": {},
   "outputs": [],
   "source": [
    "# Sample the females\n",
    "sampled_females = np.random.choice(\n",
    "    full_adata.obs\\\n",
    "        .query('Female == 1.0 & disease_cov == \"sle\"')\\\n",
    "        .ind_cov\\\n",
    "        .drop_duplicates()\\\n",
    "        .tolist(),\n",
    "    14).tolist()\n",
    "\n",
    "males = \\\n",
    "    full_adata.obs\\\n",
    "    .query('Female == 0.0 & disease_cov == \"sle\"')\\\n",
    "    .ind_cov\\\n",
    "    .drop_duplicates()\\\n",
    "    .tolist()\n",
    "\n",
    "df = pd.DataFrame()\n",
    "df['ind_cov'] = sampled_females + males\n",
    "df.to_csv(data_path + 'lupus_sampled_ind_list.csv', index=False)"
   ]
  },
  {
   "cell_type": "markdown",
   "metadata": {},
   "source": [
    "### Read cell type and individual information"
   ]
  },
  {
   "cell_type": "code",
   "execution_count": 116,
   "metadata": {},
   "outputs": [],
   "source": [
    "ct_list = pd.read_csv(data_path + 'lupus_ct_list.csv')['ct_cov'].tolist()"
   ]
  },
  {
   "cell_type": "code",
   "execution_count": 117,
   "metadata": {},
   "outputs": [
    {
     "data": {
      "text/plain": [
       "12"
      ]
     },
     "execution_count": 117,
     "metadata": {},
     "output_type": "execute_result"
    }
   ],
   "source": [
    "len(ct_list)"
   ]
  },
  {
   "cell_type": "code",
   "execution_count": 118,
   "metadata": {},
   "outputs": [],
   "source": [
    "ind_list = pd.read_csv(data_path + 'lupus_ind_list.csv')\n",
    "males = set(ind_list.query('Female == 0.0').ind_cov)\n",
    "females = set(ind_list.query('Female == 1.0').ind_cov)"
   ]
  },
  {
   "cell_type": "markdown",
   "metadata": {},
   "source": [
    "### Read DE and DV results\n",
    "\n",
    "The results are computed in the `compute_x_inactivation_statistics.py` script in the Wynton cluster."
   ]
  },
  {
   "cell_type": "code",
   "execution_count": 119,
   "metadata": {},
   "outputs": [],
   "source": [
    "de_pval = pd.DataFrame(\n",
    "    data=np.vstack([np.load(data_path + 'sex_statistics/{}_de_pvals.npy'.format(ct)) for ct in ct_list]),\n",
    "    index=ct_list,\n",
    "    columns=full_adata.var.index.values).T\n",
    "\n",
    "dv_pval = pd.DataFrame(\n",
    "    data=np.vstack([np.load(data_path + 'sex_statistics/{}_dv_pvals.npy'.format(ct)) for ct in ct_list]),\n",
    "    index=ct_list,\n",
    "    columns=full_adata.var.index.values).T"
   ]
  },
  {
   "cell_type": "markdown",
   "metadata": {},
   "source": [
    "### Perform FDR correction"
   ]
  },
  {
   "cell_type": "code",
   "execution_count": 120,
   "metadata": {},
   "outputs": [],
   "source": [
    "def fdr_correct_df(df):\n",
    "    \n",
    "    _df = df.copy()\n",
    "    \n",
    "    for col in df.columns:\n",
    "        \n",
    "        pvals = df[col].values\n",
    "        fdr = np.full_like(pvals, np.nan, dtype=np.double)\n",
    "        _, fdr[~np.isnan(pvals)] = fdrcorrection(pvals[~np.isnan(pvals)], alpha=0.1)\n",
    "        _df[col] = fdr\n",
    "    return _df"
   ]
  },
  {
   "cell_type": "code",
   "execution_count": 121,
   "metadata": {},
   "outputs": [],
   "source": [
    "de_fdr = fdr_correct_df(de_pval)\n",
    "dv_fdr = fdr_correct_df(dv_pval)"
   ]
  },
  {
   "cell_type": "code",
   "execution_count": 122,
   "metadata": {},
   "outputs": [],
   "source": [
    "sig_threshold = 0.1\n",
    "de_sig = (de_fdr < sig_threshold)\n",
    "dv_sig = (dv_fdr < sig_threshold)"
   ]
  },
  {
   "cell_type": "code",
   "execution_count": 124,
   "metadata": {},
   "outputs": [
    {
     "data": {
      "image/png": "[encoded data removed]",
      "text/plain": [
       "<Figure size 432x288 with 1 Axes>"
      ]
     },
     "metadata": {},
     "output_type": "display_data"
    }
   ],
   "source": [
    "plt.hist(de_pval['Tc'][~np.isnan(de_pval['Tc'])], bins=30);"
   ]
  },
  {
   "cell_type": "code",
   "execution_count": 17,
   "metadata": {},
   "outputs": [
    {
     "data": {
      "image/png": "[encoded data removed]",
      "text/plain": [
       "<Figure size 432x288 with 1 Axes>"
      ]
     },
     "metadata": {},
     "output_type": "display_data"
    }
   ],
   "source": [
    "plt.hist(dv_pval['Tc'][~np.isnan(dv_pval['Tc'])], bins=100);"
   ]
  },
  {
   "cell_type": "code",
   "execution_count": 125,
   "metadata": {},
   "outputs": [],
   "source": [
    "tc_null = np.load(data_path + 'sex_statistics/Tc_dv_null_t_stats.npy')\n",
    "tc_t = np.load(data_path + 'sex_statistics/Tc_dv_t_stats.npy')"
   ]
  },
  {
   "cell_type": "code",
   "execution_count": 126,
   "metadata": {},
   "outputs": [
    {
     "data": {
      "text/plain": [
       "43.20853553891396"
      ]
     },
     "execution_count": 126,
     "metadata": {},
     "output_type": "execute_result"
    }
   ],
   "source": [
    "np.nanmax(tc_t)"
   ]
  },
  {
   "cell_type": "code",
   "execution_count": 127,
   "metadata": {},
   "outputs": [
    {
     "data": {
      "text/plain": [
       "(0, 0.1)"
      ]
     },
     "execution_count": 127,
     "metadata": {},
     "output_type": "execute_result"
    },
    {
     "data": {
      "image/png": "[encoded data removed]",
      "text/plain": [
       "<Figure size 432x288 with 1 Axes>"
      ]
     },
     "metadata": {},
     "output_type": "display_data"
    }
   ],
   "source": [
    "sns.distplot(tc_null[np.absolute(tc_null) < 50], bins=50);\n",
    "#sns.distplot(tc_t[np.absolute(tc_t) < 50], bins=50);\n",
    "\n",
    "plt.ylim(0, 0.1)"
   ]
  },
  {
   "cell_type": "code",
   "execution_count": 128,
   "metadata": {},
   "outputs": [
    {
     "data": {
      "image/png": "[encoded data removed]",
      "text/plain": [
       "<Figure size 432x288 with 1 Axes>"
      ]
     },
     "metadata": {},
     "output_type": "display_data"
    }
   ],
   "source": [
    "plt.hist(dv_pval.values.reshape(-1)[~np.isnan(dv_pval.values.reshape(-1))], bins=50);"
   ]
  },
  {
   "cell_type": "code",
   "execution_count": 129,
   "metadata": {},
   "outputs": [
    {
     "data": {
      "image/png": "[encoded data removed]",
      "text/plain": [
       "<Figure size 432x288 with 1 Axes>"
      ]
     },
     "metadata": {},
     "output_type": "display_data"
    }
   ],
   "source": [
    "plt.hist(dv_fdr.values.reshape(-1)[~np.isnan(dv_fdr.values.reshape(-1))], bins=50);"
   ]
  },
  {
   "cell_type": "code",
   "execution_count": 130,
   "metadata": {},
   "outputs": [
    {
     "data": {
      "text/html": [
       "<div>\n",
       "<style scoped>\n",
       "    .dataframe tbody tr th:only-of-type {\n",
       "        vertical-align: middle;\n",
       "    }\n",
       "\n",
       "    .dataframe tbody tr th {\n",
       "        vertical-align: top;\n",
       "    }\n",
       "\n",
       "    .dataframe thead th {\n",
       "        text-align: right;\n",
       "    }\n",
       "</style>\n",
       "<table border=\"1\" class=\"dataframe\">\n",
       "  <thead>\n",
       "    <tr style=\"text-align: right;\">\n",
       "      <th></th>\n",
       "      <th>Tc</th>\n",
       "      <th>Th</th>\n",
       "      <th>cM</th>\n",
       "      <th>NK</th>\n",
       "      <th>B</th>\n",
       "      <th>ncM</th>\n",
       "      <th>pDC</th>\n",
       "      <th>MK</th>\n",
       "      <th>DB</th>\n",
       "      <th>cDC</th>\n",
       "      <th>ProlifT</th>\n",
       "      <th>Progen</th>\n",
       "    </tr>\n",
       "  </thead>\n",
       "  <tbody>\n",
       "    <tr>\n",
       "      <th>GRPR</th>\n",
       "      <td>NaN</td>\n",
       "      <td>NaN</td>\n",
       "      <td>0.310514</td>\n",
       "      <td>NaN</td>\n",
       "      <td>0.281873</td>\n",
       "      <td>NaN</td>\n",
       "      <td>NaN</td>\n",
       "      <td>NaN</td>\n",
       "      <td>NaN</td>\n",
       "      <td>NaN</td>\n",
       "      <td>NaN</td>\n",
       "      <td>NaN</td>\n",
       "    </tr>\n",
       "    <tr>\n",
       "      <th>RGAG4</th>\n",
       "      <td>0.216651</td>\n",
       "      <td>0.321279</td>\n",
       "      <td>0.203794</td>\n",
       "      <td>0.244024</td>\n",
       "      <td>0.225381</td>\n",
       "      <td>0.319105</td>\n",
       "      <td>NaN</td>\n",
       "      <td>NaN</td>\n",
       "      <td>0.310448</td>\n",
       "      <td>0.392530</td>\n",
       "      <td>NaN</td>\n",
       "      <td>NaN</td>\n",
       "    </tr>\n",
       "    <tr>\n",
       "      <th>BRS3</th>\n",
       "      <td>NaN</td>\n",
       "      <td>NaN</td>\n",
       "      <td>NaN</td>\n",
       "      <td>NaN</td>\n",
       "      <td>NaN</td>\n",
       "      <td>NaN</td>\n",
       "      <td>NaN</td>\n",
       "      <td>NaN</td>\n",
       "      <td>NaN</td>\n",
       "      <td>NaN</td>\n",
       "      <td>NaN</td>\n",
       "      <td>NaN</td>\n",
       "    </tr>\n",
       "    <tr>\n",
       "      <th>TRAPPC2</th>\n",
       "      <td>0.206419</td>\n",
       "      <td>0.255305</td>\n",
       "      <td>0.186326</td>\n",
       "      <td>0.243760</td>\n",
       "      <td>0.311791</td>\n",
       "      <td>0.335970</td>\n",
       "      <td>0.440925</td>\n",
       "      <td>0.321041</td>\n",
       "      <td>0.310448</td>\n",
       "      <td>0.392075</td>\n",
       "      <td>0.434882</td>\n",
       "      <td>0.435116</td>\n",
       "    </tr>\n",
       "    <tr>\n",
       "      <th>ASB9</th>\n",
       "      <td>0.206419</td>\n",
       "      <td>0.235557</td>\n",
       "      <td>0.186326</td>\n",
       "      <td>NaN</td>\n",
       "      <td>NaN</td>\n",
       "      <td>0.307232</td>\n",
       "      <td>NaN</td>\n",
       "      <td>NaN</td>\n",
       "      <td>NaN</td>\n",
       "      <td>0.600879</td>\n",
       "      <td>0.434882</td>\n",
       "      <td>0.470955</td>\n",
       "    </tr>\n",
       "  </tbody>\n",
       "</table>\n",
       "</div>"
      ],
      "text/plain": [
       "               Tc        Th        cM        NK         B       ncM       pDC  \\\n",
       "GRPR          NaN       NaN  0.310514       NaN  0.281873       NaN       NaN   \n",
       "RGAG4    0.216651  0.321279  0.203794  0.244024  0.225381  0.319105       NaN   \n",
       "BRS3          NaN       NaN       NaN       NaN       NaN       NaN       NaN   \n",
       "TRAPPC2  0.206419  0.255305  0.186326  0.243760  0.311791  0.335970  0.440925   \n",
       "ASB9     0.206419  0.235557  0.186326       NaN       NaN  0.307232       NaN   \n",
       "\n",
       "               MK        DB       cDC   ProlifT    Progen  \n",
       "GRPR          NaN       NaN       NaN       NaN       NaN  \n",
       "RGAG4         NaN  0.310448  0.392530       NaN       NaN  \n",
       "BRS3          NaN       NaN       NaN       NaN       NaN  \n",
       "TRAPPC2  0.321041  0.310448  0.392075  0.434882  0.435116  \n",
       "ASB9          NaN       NaN  0.600879  0.434882  0.470955  "
      ]
     },
     "execution_count": 130,
     "metadata": {},
     "output_type": "execute_result"
    }
   ],
   "source": [
    "dv_fdr.head(5)"
   ]
  },
  {
   "cell_type": "markdown",
   "metadata": {},
   "source": [
    "### Count significant and insignificant genes"
   ]
  },
  {
   "cell_type": "code",
   "execution_count": 48,
   "metadata": {},
   "outputs": [],
   "source": [
    "sig_counts = {}\n",
    "for ct in ct_list:\n",
    "    \n",
    "    df = pd.DataFrame(index=de_fdr[ct].index)\n",
    "    \n",
    "    ct_inds = set(de_fdr[ct].columns.values)\n",
    "    \n",
    "    df['male_dv_sig'] = dv_fdr[ct][list(males & ct_inds)].apply(lambda x: x < 0.01).sum(axis=1)\n",
    "    df['male_dv_insig'] = dv_fdr[ct][list(males & ct_inds)].shape[1] - df['male_dv_sig'].values\n",
    "    \n",
    "    df['female_dv_sig'] = dv_fdr[ct][list(females & ct_inds)].apply(lambda x: x < 0.01).sum(axis=1)\n",
    "    df['female_dv_insig'] = dv_fdr[ct][list(females & ct_inds)].shape[1] - df['female_dv_sig'].values\n",
    "    \n",
    "    df['male_sig_proportion'] =  df['male_dv_sig'] / (df['male_dv_sig'] + df['male_dv_insig'])\n",
    "    df['female_sig_proportion'] =  df['female_dv_sig'] / (df['female_dv_sig'] + df['female_dv_insig'])\n",
    "    \n",
    "    sig_counts[ct] = df.copy()"
   ]
  },
  {
   "cell_type": "markdown",
   "metadata": {},
   "source": [
    "### Perform Fischer's exact test for each gene"
   ]
  },
  {
   "cell_type": "code",
   "execution_count": 49,
   "metadata": {},
   "outputs": [],
   "source": [
    "gene_info = pd.read_csv(data_path + '../misc/my_uscs_ids_symbols.map.bed', sep='\\t', header=None)[[0, 5]].drop_duplicates()\n",
    "gene_info.columns=['chr', 'gene']\n",
    "gene_info = gene_info.set_index('gene')"
   ]
  },
  {
   "cell_type": "code",
   "execution_count": 50,
   "metadata": {},
   "outputs": [],
   "source": [
    "def get_fisher_pval(row):\n",
    "    \n",
    "    contingency = [[row['male_dv_sig'], row['male_dv_insig']], [row['female_dv_sig'], row['female_dv_insig']]]\n",
    "    \n",
    "    return stats.fisher_exact(contingency)[1]"
   ]
  },
  {
   "cell_type": "code",
   "execution_count": 51,
   "metadata": {},
   "outputs": [
    {
     "name": "stdout",
     "output_type": "stream",
     "text": [
      "Computing fisher pval for cell type Tc\n",
      "Computing fisher pval for cell type Th\n",
      "Computing fisher pval for cell type cM\n",
      "Computing fisher pval for cell type NK\n",
      "Computing fisher pval for cell type B\n",
      "Computing fisher pval for cell type ncM\n",
      "Computing fisher pval for cell type pDC\n",
      "Computing fisher pval for cell type MK\n",
      "Computing fisher pval for cell type DB\n",
      "Computing fisher pval for cell type cDC\n",
      "Computing fisher pval for cell type ProlifT\n",
      "Computing fisher pval for cell type Progen\n"
     ]
    }
   ],
   "source": [
    "for ct in ct_list:\n",
    "    \n",
    "    print('Computing fisher pval for cell type {}'.format(ct))\n",
    "    sig_counts[ct]['fisher_pval'] = sig_counts[ct].apply(get_fisher_pval, axis=1)\n",
    "    _, sig_counts[ct]['fisher_fdr'] = fdrcorrection(sig_counts[ct]['fisher_pval'])\n",
    "    \n",
    "    sig_counts[ct] = sig_counts[ct].join(gene_info, how='left')"
   ]
  },
  {
   "cell_type": "markdown",
   "metadata": {},
   "source": [
    "### Get chromosome"
   ]
  },
  {
   "cell_type": "code",
   "execution_count": 132,
   "metadata": {},
   "outputs": [
    {
     "data": {
      "image/png": "[encoded data removed]",
      "text/plain": [
       "<Figure size 432x288 with 1 Axes>"
      ]
     },
     "metadata": {},
     "output_type": "display_data"
    }
   ],
   "source": [
    "plt.hist(sig_counts['Th'].fisher_fdr);"
   ]
  },
  {
   "cell_type": "code",
   "execution_count": 134,
   "metadata": {},
   "outputs": [
    {
     "data": {
      "text/html": [
       "<div>\n",
       "<style scoped>\n",
       "    .dataframe tbody tr th:only-of-type {\n",
       "        vertical-align: middle;\n",
       "    }\n",
       "\n",
       "    .dataframe tbody tr th {\n",
       "        vertical-align: top;\n",
       "    }\n",
       "\n",
       "    .dataframe thead th {\n",
       "        text-align: right;\n",
       "    }\n",
       "</style>\n",
       "<table border=\"1\" class=\"dataframe\">\n",
       "  <thead>\n",
       "    <tr style=\"text-align: right;\">\n",
       "      <th></th>\n",
       "      <th>male_dv_sig</th>\n",
       "      <th>male_dv_insig</th>\n",
       "      <th>female_dv_sig</th>\n",
       "      <th>female_dv_insig</th>\n",
       "      <th>male_sig_proportion</th>\n",
       "      <th>female_sig_proportion</th>\n",
       "      <th>fisher_pval</th>\n",
       "      <th>fisher_fdr</th>\n",
       "      <th>chr</th>\n",
       "    </tr>\n",
       "  </thead>\n",
       "  <tbody>\n",
       "    <tr>\n",
       "      <th>DDX3Y</th>\n",
       "      <td>1</td>\n",
       "      <td>13</td>\n",
       "      <td>99</td>\n",
       "      <td>56</td>\n",
       "      <td>0.071429</td>\n",
       "      <td>0.638710</td>\n",
       "      <td>3.931193e-05</td>\n",
       "      <td>1.155506e-02</td>\n",
       "      <td>chrY</td>\n",
       "    </tr>\n",
       "    <tr>\n",
       "      <th>EIF1AY</th>\n",
       "      <td>1</td>\n",
       "      <td>13</td>\n",
       "      <td>110</td>\n",
       "      <td>45</td>\n",
       "      <td>0.071429</td>\n",
       "      <td>0.709677</td>\n",
       "      <td>3.524787e-06</td>\n",
       "      <td>1.696598e-03</td>\n",
       "      <td>chrY</td>\n",
       "    </tr>\n",
       "    <tr>\n",
       "      <th>MARCH3</th>\n",
       "      <td>7</td>\n",
       "      <td>7</td>\n",
       "      <td>9</td>\n",
       "      <td>146</td>\n",
       "      <td>0.500000</td>\n",
       "      <td>0.058065</td>\n",
       "      <td>4.001060e-05</td>\n",
       "      <td>1.155506e-02</td>\n",
       "      <td>chr5</td>\n",
       "    </tr>\n",
       "    <tr>\n",
       "      <th>TTTY15</th>\n",
       "      <td>1</td>\n",
       "      <td>13</td>\n",
       "      <td>131</td>\n",
       "      <td>24</td>\n",
       "      <td>0.071429</td>\n",
       "      <td>0.845161</td>\n",
       "      <td>4.658668e-09</td>\n",
       "      <td>3.363558e-06</td>\n",
       "      <td>chrY</td>\n",
       "    </tr>\n",
       "    <tr>\n",
       "      <th>UTY</th>\n",
       "      <td>0</td>\n",
       "      <td>14</td>\n",
       "      <td>130</td>\n",
       "      <td>25</td>\n",
       "      <td>0.000000</td>\n",
       "      <td>0.838710</td>\n",
       "      <td>1.475245e-10</td>\n",
       "      <td>2.130254e-07</td>\n",
       "      <td>chrY</td>\n",
       "    </tr>\n",
       "    <tr>\n",
       "      <th>ZNF578</th>\n",
       "      <td>7</td>\n",
       "      <td>7</td>\n",
       "      <td>13</td>\n",
       "      <td>142</td>\n",
       "      <td>0.500000</td>\n",
       "      <td>0.083871</td>\n",
       "      <td>2.304544e-04</td>\n",
       "      <td>5.546269e-02</td>\n",
       "      <td>chr19</td>\n",
       "    </tr>\n",
       "  </tbody>\n",
       "</table>\n",
       "</div>"
      ],
      "text/plain": [
       "        male_dv_sig  male_dv_insig  female_dv_sig  female_dv_insig  \\\n",
       "DDX3Y             1             13             99               56   \n",
       "EIF1AY            1             13            110               45   \n",
       "MARCH3            7              7              9              146   \n",
       "TTTY15            1             13            131               24   \n",
       "UTY               0             14            130               25   \n",
       "ZNF578            7              7             13              142   \n",
       "\n",
       "        male_sig_proportion  female_sig_proportion   fisher_pval  \\\n",
       "DDX3Y              0.071429               0.638710  3.931193e-05   \n",
       "EIF1AY             0.071429               0.709677  3.524787e-06   \n",
       "MARCH3             0.500000               0.058065  4.001060e-05   \n",
       "TTTY15             0.071429               0.845161  4.658668e-09   \n",
       "UTY                0.000000               0.838710  1.475245e-10   \n",
       "ZNF578             0.500000               0.083871  2.304544e-04   \n",
       "\n",
       "          fisher_fdr    chr  \n",
       "DDX3Y   1.155506e-02   chrY  \n",
       "EIF1AY  1.696598e-03   chrY  \n",
       "MARCH3  1.155506e-02   chr5  \n",
       "TTTY15  3.363558e-06   chrY  \n",
       "UTY     2.130254e-07   chrY  \n",
       "ZNF578  5.546269e-02  chr19  "
      ]
     },
     "execution_count": 134,
     "metadata": {},
     "output_type": "execute_result"
    }
   ],
   "source": [
    "sig_counts['Tc'].query('fisher_fdr < 0.1')"
   ]
  },
  {
   "cell_type": "code",
   "execution_count": null,
   "metadata": {},
   "outputs": [],
   "source": []
  }
 ],
 "metadata": {
  "kernelspec": {
   "display_name": "Python [conda env:scvi]",
   "language": "python",
   "name": "conda-env-scvi-py"
  },
  "language_info": {
   "codemirror_mode": {
    "name": "ipython",
    "version": 3
   },
   "file_extension": ".py",
   "mimetype": "text/x-python",
   "name": "python",
   "nbconvert_exporter": "python",
   "pygments_lexer": "ipython3",
   "version": "3.6.8"
  }
 },
 "nbformat": 4,
 "nbformat_minor": 2
}
