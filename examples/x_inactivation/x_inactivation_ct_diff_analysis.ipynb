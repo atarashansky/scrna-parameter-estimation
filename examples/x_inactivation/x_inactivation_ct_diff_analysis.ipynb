{
 "cells": [
  {
   "cell_type": "markdown",
   "metadata": {
    "nbpresent": {
     "id": "1f01a376-e4e2-4d3c-8723-0f0d91682b22"
    }
   },
   "source": [
    "# X-Inactivation Cell Type Differences DV Analysis\n",
    "\n",
    "Detection of X-inactivation via differential variance\n",
    "\n",
    "No detectable differences."
   ]
  },
  {
   "cell_type": "code",
   "execution_count": 1,
   "metadata": {},
   "outputs": [
    {
     "name": "stdout",
     "output_type": "stream",
     "text": [
      "env: PYTHONPATH='/Users/mincheolkim/Github/scrna-parameter-estimation/simplesc'\n"
     ]
    }
   ],
   "source": [
    "%env PYTHONPATH='/Users/mincheolkim/Github/scrna-parameter-estimation/simplesc'"
   ]
  },
  {
   "cell_type": "code",
   "execution_count": 2,
   "metadata": {
    "nbpresent": {
     "id": "9bc26761-c243-4e99-98ca-0cc6425e76f5"
    }
   },
   "outputs": [
    {
     "name": "stderr",
     "output_type": "stream",
     "text": [
      "/anaconda3/envs/scvi/lib/python3.6/site-packages/h5py/__init__.py:36: FutureWarning: Conversion of the second argument of issubdtype from `float` to `np.floating` is deprecated. In future, it will be treated as `np.float64 == np.dtype(float).type`.\n",
      "  from ._conv import register_converters as _register_converters\n"
     ]
    }
   ],
   "source": [
    "import pandas as pd\n",
    "import matplotlib.pyplot as plt\n",
    "import scanpy.api as sc\n",
    "import scipy as sp\n",
    "import itertools\n",
    "import numpy as np\n",
    "import scipy.stats as stats\n",
    "from scipy.integrate import dblquad\n",
    "import scipy.sparse as sparse\n",
    "import seaborn as sns\n",
    "import imp\n",
    "import time\n",
    "from statsmodels.stats.multitest import fdrcorrection"
   ]
  },
  {
   "cell_type": "code",
   "execution_count": 3,
   "metadata": {},
   "outputs": [],
   "source": [
    "import sys\n",
    "sys.path.append('/Users/mincheolkim/Github/scrna-parameter-estimation/simplesc')\n",
    "import simplesc"
   ]
  },
  {
   "cell_type": "code",
   "execution_count": 4,
   "metadata": {},
   "outputs": [
    {
     "data": {
      "text/html": [
       "<style>.container { width:100% !important; }</style>"
      ],
      "text/plain": [
       "<IPython.core.display.HTML object>"
      ]
     },
     "metadata": {},
     "output_type": "display_data"
    }
   ],
   "source": [
    "from IPython.core.display import display, HTML\n",
    "display(HTML(\"<style>.container { width:100% !important; }</style>\"))"
   ]
  },
  {
   "cell_type": "code",
   "execution_count": 5,
   "metadata": {},
   "outputs": [],
   "source": [
    "import warnings\n",
    "warnings.filterwarnings('ignore')"
   ]
  },
  {
   "cell_type": "code",
   "execution_count": 6,
   "metadata": {
    "nbpresent": {
     "id": "928db49a-7d74-456c-bf37-9192ad38ba99"
    }
   },
   "outputs": [],
   "source": [
    "data_path = '/Users/mincheolkim/Google Drive/UCSF/research/parameter_estimation/x_inactivation_data/'"
   ]
  },
  {
   "cell_type": "markdown",
   "metadata": {},
   "source": [
    "### Save some metadata from the Lupus AnnData object"
   ]
  },
  {
   "cell_type": "code",
   "execution_count": 8,
   "metadata": {},
   "outputs": [],
   "source": [
    "full_adata = sc.read(data_path + 'lupus_annotated_nonorm_V6_x_genes.h5ad')"
   ]
  },
  {
   "cell_type": "code",
   "execution_count": 9,
   "metadata": {},
   "outputs": [],
   "source": [
    "full_adata.obs[['ind_cov', 'Female']].drop_duplicates().to_csv(data_path + 'lupus_ind_list.csv', index=False)"
   ]
  },
  {
   "cell_type": "code",
   "execution_count": 10,
   "metadata": {},
   "outputs": [],
   "source": [
    "full_adata.obs[['ct_cov']].drop_duplicates().to_csv(data_path + 'lupus_ct_list.csv', index=False)"
   ]
  },
  {
   "cell_type": "markdown",
   "metadata": {},
   "source": [
    "### Read cell type and individual information"
   ]
  },
  {
   "cell_type": "code",
   "execution_count": 11,
   "metadata": {},
   "outputs": [],
   "source": [
    "ct_list = pd.read_csv(data_path + 'lupus_ct_list.csv')['ct_cov'].tolist()"
   ]
  },
  {
   "cell_type": "code",
   "execution_count": 12,
   "metadata": {},
   "outputs": [],
   "source": [
    "ind_list = pd.read_csv(data_path + 'lupus_ind_list.csv')\n",
    "males = set(ind_list.query('Female == 0.0').ind_cov)\n",
    "females = set(ind_list.query('Female == 1.0').ind_cov)"
   ]
  },
  {
   "cell_type": "markdown",
   "metadata": {},
   "source": [
    "### Read DE and DV results\n",
    "\n",
    "The results are computed in the `compute_x_inactivation_statistics.py` script in the Wynton cluster."
   ]
  },
  {
   "cell_type": "code",
   "execution_count": 35,
   "metadata": {},
   "outputs": [],
   "source": [
    "de_pvals = {ct:pd.read_csv(data_path + 'ct_combined_statistics/{}_de_pvals.csv'.format(ct), index_col=0).T.dropna() for ct in ct_list}\n",
    "dv_pvals = {ct:pd.read_csv(data_path + 'ct_combined_statistics/{}_dv_pvals.csv'.format(ct), index_col=0).T.dropna() for ct in ct_list}"
   ]
  },
  {
   "cell_type": "markdown",
   "metadata": {},
   "source": [
    "### Perform FDR correction"
   ]
  },
  {
   "cell_type": "code",
   "execution_count": 36,
   "metadata": {},
   "outputs": [],
   "source": [
    "def fdr_correct_df(df):\n",
    "    \n",
    "    _df = df.copy()\n",
    "    \n",
    "    for col in df.columns:\n",
    "        \n",
    "        pvals = df[col].values\n",
    "        fdr = np.full_like(pvals, np.nan, dtype=np.double)\n",
    "        _, fdr[~np.isnan(pvals)] = fdrcorrection(pvals[~np.isnan(pvals)], alpha=0.1)\n",
    "        _df[col] = fdr\n",
    "    return _df"
   ]
  },
  {
   "cell_type": "code",
   "execution_count": 37,
   "metadata": {},
   "outputs": [],
   "source": [
    "de_fdr = {ct:fdr_correct_df(de_pvals[ct]) for ct in ct_list}\n",
    "dv_fdr = {ct:fdr_correct_df(dv_pvals[ct]) for ct in ct_list}"
   ]
  },
  {
   "cell_type": "markdown",
   "metadata": {},
   "source": [
    "### Count significant and insignificant genes"
   ]
  },
  {
   "cell_type": "code",
   "execution_count": 53,
   "metadata": {},
   "outputs": [
    {
     "name": "stdout",
     "output_type": "stream",
     "text": [
      "Tc 1241\n",
      "Th 858\n",
      "cM 7333\n",
      "NK 282\n",
      "B 94\n",
      "ncM 1066\n",
      "pDC 0\n",
      "MK 0\n",
      "DB 0\n",
      "cDC 451\n",
      "ProlifT 3\n",
      "Progen 0\n"
     ]
    }
   ],
   "source": [
    "for ct in ct_list:\n",
    "    print(ct, (de_fdr[ct] < 0.05).values.sum())"
   ]
  },
  {
   "cell_type": "code",
   "execution_count": 83,
   "metadata": {},
   "outputs": [],
   "source": [
    "sig_counts = {}\n",
    "for ct in ct_list:\n",
    "    \n",
    "    df = pd.DataFrame(index=dv_fdr[ct].index)\n",
    "    \n",
    "    ct_inds = set(de_fdr[ct].columns.values)\n",
    "    \n",
    "    df['male_dv_sig'] = dv_fdr[ct][list(males & ct_inds)].apply(lambda x: x < 0.1).sum(axis=1)\n",
    "    df['male_dv_insig'] = dv_fdr[ct][list(males & ct_inds)].shape[1] - df['male_dv_sig'].values\n",
    "    \n",
    "    df['female_dv_sig'] = dv_fdr[ct][list(females & ct_inds)].apply(lambda x: x < 0.1).sum(axis=1)\n",
    "    df['female_dv_insig'] = dv_fdr[ct][list(females & ct_inds)].shape[1] - df['female_dv_sig'].values\n",
    "    \n",
    "    df['male_sig_proportion'] =  df['male_dv_sig'] / (df['male_dv_sig'] + df['male_dv_insig'])\n",
    "    df['female_sig_proportion'] =  df['female_dv_sig'] / (df['female_dv_sig'] + df['female_dv_insig'])\n",
    "    \n",
    "    sig_counts[ct] = df.copy()"
   ]
  },
  {
   "cell_type": "code",
   "execution_count": 89,
   "metadata": {},
   "outputs": [
    {
     "name": "stdout",
     "output_type": "stream",
     "text": [
      "Tc 0\n",
      "Th 362\n",
      "cM 590\n",
      "NK 338\n",
      "B 706\n",
      "ncM 1283\n",
      "pDC 0\n",
      "MK 0\n",
      "DB 279\n",
      "cDC 515\n",
      "ProlifT 52\n",
      "Progen 0\n"
     ]
    }
   ],
   "source": [
    "for ct in ct_list:\n",
    "    print(ct, (dv_fdr[ct] < 0.1).values.sum())"
   ]
  },
  {
   "cell_type": "markdown",
   "metadata": {},
   "source": [
    "### Perform Fischer's exact test for each gene"
   ]
  },
  {
   "cell_type": "code",
   "execution_count": 78,
   "metadata": {},
   "outputs": [],
   "source": [
    "gene_info = pd.read_csv(data_path + '../misc/my_uscs_ids_symbols.map.bed', sep='\\t', header=None)[[0, 5]].drop_duplicates()\n",
    "gene_info.columns=['chr', 'gene']\n",
    "gene_info = gene_info.set_index('gene')"
   ]
  },
  {
   "cell_type": "code",
   "execution_count": 86,
   "metadata": {},
   "outputs": [],
   "source": [
    "def get_fisher_pval(row):\n",
    "    \n",
    "    contingency = [[row['male_dv_sig'], row['male_dv_insig']], [row['female_dv_sig'], row['female_dv_insig']]]\n",
    "    \n",
    "    return stats.fisher_exact(contingency)[1]"
   ]
  },
  {
   "cell_type": "code",
   "execution_count": 87,
   "metadata": {},
   "outputs": [
    {
     "name": "stdout",
     "output_type": "stream",
     "text": [
      "Computing fisher pval for cell type Tc\n",
      "Computing fisher pval for cell type Th\n",
      "Computing fisher pval for cell type cM\n",
      "Computing fisher pval for cell type NK\n",
      "Computing fisher pval for cell type B\n",
      "Computing fisher pval for cell type ncM\n",
      "Computing fisher pval for cell type pDC\n",
      "Computing fisher pval for cell type MK\n",
      "Computing fisher pval for cell type DB\n",
      "Computing fisher pval for cell type cDC\n",
      "Computing fisher pval for cell type ProlifT\n",
      "Computing fisher pval for cell type Progen\n"
     ]
    }
   ],
   "source": [
    "for ct in ct_list:\n",
    "    \n",
    "    print('Computing fisher pval for cell type {}'.format(ct))\n",
    "    \n",
    "    if sig_counts[ct].shape[0] == 0:\n",
    "        continue\n",
    "    sig_counts[ct]['fisher_pval'] = sig_counts[ct].apply(get_fisher_pval, axis=1)\n",
    "    _, sig_counts[ct]['fisher_fdr'] = fdrcorrection(sig_counts[ct]['fisher_pval'])\n",
    "    \n",
    "    sig_counts[ct] = sig_counts[ct].join(gene_info, how='left')"
   ]
  },
  {
   "cell_type": "markdown",
   "metadata": {},
   "source": [
    "### Get chromosome"
   ]
  },
  {
   "cell_type": "code",
   "execution_count": 94,
   "metadata": {},
   "outputs": [
    {
     "data": {
      "text/plain": [
       "(1.7824495153654742,\n",
       " 0.18184882751853795,\n",
       " 1,\n",
       " array([[  2.27027027,  27.72972973],\n",
       "        [ 11.72972973, 143.27027027]]))"
      ]
     },
     "execution_count": 94,
     "metadata": {},
     "output_type": "execute_result"
    }
   ],
   "source": [
    "stats.chi2_contingency([[0, 30], [14, 141]])"
   ]
  },
  {
   "cell_type": "code",
   "execution_count": 113,
   "metadata": {},
   "outputs": [
    {
     "data": {
      "text/html": [
       "<div>\n",
       "<style scoped>\n",
       "    .dataframe tbody tr th:only-of-type {\n",
       "        vertical-align: middle;\n",
       "    }\n",
       "\n",
       "    .dataframe tbody tr th {\n",
       "        vertical-align: top;\n",
       "    }\n",
       "\n",
       "    .dataframe thead th {\n",
       "        text-align: right;\n",
       "    }\n",
       "</style>\n",
       "<table border=\"1\" class=\"dataframe\">\n",
       "  <thead>\n",
       "    <tr style=\"text-align: right;\">\n",
       "      <th></th>\n",
       "      <th>male_dv_sig</th>\n",
       "      <th>male_dv_insig</th>\n",
       "      <th>female_dv_sig</th>\n",
       "      <th>female_dv_insig</th>\n",
       "      <th>male_sig_proportion</th>\n",
       "      <th>female_sig_proportion</th>\n",
       "    </tr>\n",
       "  </thead>\n",
       "  <tbody>\n",
       "  </tbody>\n",
       "</table>\n",
       "</div>"
      ],
      "text/plain": [
       "Empty DataFrame\n",
       "Columns: [male_dv_sig, male_dv_insig, female_dv_sig, female_dv_insig, male_sig_proportion, female_sig_proportion]\n",
       "Index: []"
      ]
     },
     "execution_count": 113,
     "metadata": {},
     "output_type": "execute_result"
    }
   ],
   "source": [
    "sig_counts['Progen'].query('female_sig_proportion > male_sig_proportion').sort_values('female_dv_sig', ascending=False).head(5)"
   ]
  },
  {
   "cell_type": "code",
   "execution_count": 21,
   "metadata": {},
   "outputs": [
    {
     "data": {
      "image/png": "[encoded data removed]",
      "text/plain": [
       "<Figure size 432x288 with 1 Axes>"
      ]
     },
     "metadata": {},
     "output_type": "display_data"
    }
   ],
   "source": [
    "plt.hist(sig_counts['Th'].fisher_fdr);"
   ]
  },
  {
   "cell_type": "code",
   "execution_count": 23,
   "metadata": {},
   "outputs": [
    {
     "data": {
      "text/html": [
       "<div>\n",
       "<style scoped>\n",
       "    .dataframe tbody tr th:only-of-type {\n",
       "        vertical-align: middle;\n",
       "    }\n",
       "\n",
       "    .dataframe tbody tr th {\n",
       "        vertical-align: top;\n",
       "    }\n",
       "\n",
       "    .dataframe thead th {\n",
       "        text-align: right;\n",
       "    }\n",
       "</style>\n",
       "<table border=\"1\" class=\"dataframe\">\n",
       "  <thead>\n",
       "    <tr style=\"text-align: right;\">\n",
       "      <th></th>\n",
       "      <th>male_dv_sig</th>\n",
       "      <th>male_dv_insig</th>\n",
       "      <th>female_dv_sig</th>\n",
       "      <th>female_dv_insig</th>\n",
       "      <th>male_sig_proportion</th>\n",
       "      <th>female_sig_proportion</th>\n",
       "      <th>fisher_pval</th>\n",
       "      <th>fisher_fdr</th>\n",
       "      <th>chr</th>\n",
       "    </tr>\n",
       "  </thead>\n",
       "  <tbody>\n",
       "  </tbody>\n",
       "</table>\n",
       "</div>"
      ],
      "text/plain": [
       "Empty DataFrame\n",
       "Columns: [male_dv_sig, male_dv_insig, female_dv_sig, female_dv_insig, male_sig_proportion, female_sig_proportion, fisher_pval, fisher_fdr, chr]\n",
       "Index: []"
      ]
     },
     "execution_count": 23,
     "metadata": {},
     "output_type": "execute_result"
    }
   ],
   "source": [
    "sig_counts['Th'].query('fisher_fdr < 0.1')"
   ]
  },
  {
   "cell_type": "code",
   "execution_count": null,
   "metadata": {},
   "outputs": [],
   "source": []
  }
 ],
 "metadata": {
  "kernelspec": {
   "display_name": "Python [conda env:scvi]",
   "language": "python",
   "name": "conda-env-scvi-py"
  },
  "language_info": {
   "codemirror_mode": {
    "name": "ipython",
    "version": 3
   },
   "file_extension": ".py",
   "mimetype": "text/x-python",
   "name": "python",
   "nbconvert_exporter": "python",
   "pygments_lexer": "ipython3",
   "version": "3.6.8"
  }
 },
 "nbformat": 4,
 "nbformat_minor": 2
}
