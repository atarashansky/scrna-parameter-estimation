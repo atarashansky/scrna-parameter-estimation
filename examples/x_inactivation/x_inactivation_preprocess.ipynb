{
 "cells": [
  {
   "cell_type": "markdown",
   "metadata": {},
   "source": [
    "# X-inactivation Preprocess\n",
    "\n",
    "This notebook prepares a part of the Lupus dataset for detection of X-inactivation.\n",
    "\n",
    "1. Get \"SLEcrossX_nonorm.h5ad\" from Ricahrd (Google Drive).\n",
    "2. Filter for donors that we have metadata for in cluestime1.csv from Meena.\n",
    "3. Filter for genes that have a certain cell count (5000).\n",
    "4. Filter for cells from batch 1.\n",
    "5. Save the data"
   ]
  },
  {
   "cell_type": "code",
   "execution_count": 68,
   "metadata": {},
   "outputs": [],
   "source": [
    "import pandas as pd\n",
    "import scanpy.api as sc"
   ]
  },
  {
   "cell_type": "markdown",
   "metadata": {},
   "source": [
    "### Read in SLE AnnData "
   ]
  },
  {
   "cell_type": "code",
   "execution_count": 4,
   "metadata": {},
   "outputs": [],
   "source": [
    "adata = sc.read(data_path + 'SLEcrossX_nonorm.h5ad')"
   ]
  },
  {
   "cell_type": "markdown",
   "metadata": {},
   "source": [
    "### Read the CLUES metadata"
   ]
  },
  {
   "cell_type": "code",
   "execution_count": 5,
   "metadata": {},
   "outputs": [],
   "source": [
    "metadata = pd.read_csv(data_path + '../misc/cluestime1.csv', sep='\\t')\n",
    "metadata['ind_cov'] = metadata['subjectid'].astype(str) + '_' + metadata['subjectid'].astype(str)"
   ]
  },
  {
   "cell_type": "markdown",
   "metadata": {},
   "source": [
    "### Filter the SLE data for only donors in CLUES"
   ]
  },
  {
   "cell_type": "code",
   "execution_count": 6,
   "metadata": {},
   "outputs": [],
   "source": [
    "def clean_donor(x):\n",
    "    \n",
    "    return x.split()"
   ]
  },
  {
   "cell_type": "code",
   "execution_count": 7,
   "metadata": {},
   "outputs": [],
   "source": [
    "clues_adata = adata[adata.obs.ind_cov.isin(metadata.ind_cov.tolist())].copy()"
   ]
  },
  {
   "cell_type": "code",
   "execution_count": 8,
   "metadata": {},
   "outputs": [],
   "source": [
    "clues_index = clues_adata.obs.index.values"
   ]
  },
  {
   "cell_type": "code",
   "execution_count": 9,
   "metadata": {},
   "outputs": [
    {
     "name": "stderr",
     "output_type": "stream",
     "text": [
      "AnnData expects string indices for some functionality, but your first two indices are: Int64Index([0, 1], dtype='int64'). \n"
     ]
    }
   ],
   "source": [
    "clues_adata.obs = clues_adata.obs.merge(metadata[['ind_cov', 'female']], on='ind_cov', how='inner')\n",
    "clues_adata.obs.index = clues_index"
   ]
  },
  {
   "cell_type": "markdown",
   "metadata": {},
   "source": [
    "### Show cell counts by donor"
   ]
  },
  {
   "cell_type": "code",
   "execution_count": 50,
   "metadata": {},
   "outputs": [
    {
     "name": "stdout",
     "output_type": "stream",
     "text": [
      "Male donors:\n"
     ]
    },
    {
     "data": {
      "text/plain": [
       "ind_cov\n",
       "1051_1051    2753\n",
       "1195_1195    3265\n",
       "1196_1196    3525\n",
       "1414_1414    4028\n",
       "1522_1522    4802\n",
       "1558_1558    4208\n",
       "1615_1615    4815\n",
       "1621_1621    5135\n",
       "dtype: int64"
      ]
     },
     "execution_count": 50,
     "metadata": {},
     "output_type": "execute_result"
    }
   ],
   "source": [
    "print('Male donors:')\n",
    "clues_adata.obs.query('female == 0').groupby(['ind_cov']).size()"
   ]
  },
  {
   "cell_type": "markdown",
   "metadata": {},
   "source": [
    "### Filter gene list"
   ]
  },
  {
   "cell_type": "code",
   "execution_count": 28,
   "metadata": {},
   "outputs": [],
   "source": [
    "sc.pp.filter_genes(clues_adata, min_cells=5000)"
   ]
  },
  {
   "cell_type": "markdown",
   "metadata": {},
   "source": [
    "### Get chromosome information about each gene"
   ]
  },
  {
   "cell_type": "code",
   "execution_count": 44,
   "metadata": {},
   "outputs": [],
   "source": [
    "gene_metadata = pd.read_csv(data_path + '../misc/my_uscs_ids_symbols.map.bed', sep='\\t', header=None)\\\n",
    "    .iloc[:, [0, 5]]\\\n",
    "    .rename(columns={0:'chromosome', 5:'gene_name'})\\\n",
    "    .drop_duplicates(subset=['gene_name'])\\\n",
    "    .set_index('gene_name')\\\n",
    "    "
   ]
  },
  {
   "cell_type": "code",
   "execution_count": 49,
   "metadata": {},
   "outputs": [],
   "source": [
    "clues_adata.var = clues_adata.var.join(gene_metadata)"
   ]
  },
  {
   "cell_type": "markdown",
   "metadata": {},
   "source": [
    "### Filter for single batch"
   ]
  },
  {
   "cell_type": "code",
   "execution_count": 65,
   "metadata": {},
   "outputs": [],
   "source": [
    "clues_adata = clues_adata[clues_adata.obs.batch == '0'].copy()"
   ]
  },
  {
   "cell_type": "code",
   "execution_count": 66,
   "metadata": {},
   "outputs": [
    {
     "data": {
      "text/plain": [
       "(273918, 7379)"
      ]
     },
     "execution_count": 66,
     "metadata": {},
     "output_type": "execute_result"
    }
   ],
   "source": [
    "clues_adata.shape"
   ]
  },
  {
   "cell_type": "markdown",
   "metadata": {},
   "source": [
    "### Save the AnnData object"
   ]
  },
  {
   "cell_type": "code",
   "execution_count": 67,
   "metadata": {},
   "outputs": [],
   "source": [
    "sc.write(data_path + 'clues_data.h5ad', clues_adata)"
   ]
  }
 ],
 "metadata": {
  "kernelspec": {
   "display_name": "Python [conda env:scvi]",
   "language": "python",
   "name": "conda-env-scvi-py"
  },
  "language_info": {
   "codemirror_mode": {
    "name": "ipython",
    "version": 3
   },
   "file_extension": ".py",
   "mimetype": "text/x-python",
   "name": "python",
   "nbconvert_exporter": "python",
   "pygments_lexer": "ipython3",
   "version": "3.6.8"
  }
 },
 "nbformat": 4,
 "nbformat_minor": 2
}
