{
 "cells": [
  {
   "cell_type": "markdown",
   "metadata": {},
   "source": [
    "# X-inactivation analysis\n",
    "\n",
    "Using differential variance to detect X-inactivation"
   ]
  },
  {
   "cell_type": "code",
   "execution_count": 1,
   "metadata": {},
   "outputs": [
    {
     "name": "stderr",
     "output_type": "stream",
     "text": [
      "/anaconda3/envs/scvi/lib/python3.6/site-packages/h5py/__init__.py:36: FutureWarning: Conversion of the second argument of issubdtype from `float` to `np.floating` is deprecated. In future, it will be treated as `np.float64 == np.dtype(float).type`.\n",
      "  from ._conv import register_converters as _register_converters\n"
     ]
    }
   ],
   "source": [
    "import pandas as pd\n",
    "import matplotlib.pyplot as plt\n",
    "import scanpy.api as sc\n",
    "import scipy as sp\n",
    "import itertools\n",
    "import numpy as np\n",
    "import scipy.stats as stats\n",
    "from scipy.integrate import dblquad\n",
    "import seaborn as sns\n",
    "import imp\n",
    "import time"
   ]
  },
  {
   "cell_type": "code",
   "execution_count": 2,
   "metadata": {},
   "outputs": [],
   "source": [
    "import sys\n",
    "sys.path.append('/Users/mincheolkim/Github/scrna-parameter-estimation/simplesc')\n",
    "import simplesc"
   ]
  },
  {
   "cell_type": "code",
   "execution_count": 3,
   "metadata": {},
   "outputs": [],
   "source": [
    "data_path = '/Users/mincheolkim/Google Drive/UCSF/research/parameter_estimation/x_inactivation_data/'"
   ]
  },
  {
   "cell_type": "markdown",
   "metadata": {},
   "source": [
    "### Read in the data file"
   ]
  },
  {
   "cell_type": "code",
   "execution_count": 4,
   "metadata": {},
   "outputs": [],
   "source": [
    "adata = sc.read(data_path + 'SLEcrossX_nonorm.h5ad')"
   ]
  },
  {
   "cell_type": "code",
   "execution_count": 26,
   "metadata": {},
   "outputs": [
    {
     "data": {
      "text/plain": [
       "{'CD4 T cells': 173441,\n",
       " 'CD14+ Monocytes': 149311,\n",
       " 'CD8 T cells': 73706,\n",
       " 'B cells': 71755,\n",
       " 'NK cells': 49650,\n",
       " 'FCGR3A+ Monocytes': 27839,\n",
       " 'Megakaryocytes': 14001,\n",
       " 'Dendritic cells': 6750}"
      ]
     },
     "execution_count": 26,
     "metadata": {},
     "output_type": "execute_result"
    }
   ],
   "source": [
    "dict(adata.obs.ct_cov.value_counts())"
   ]
  },
  {
   "cell_type": "code",
   "execution_count": 5,
   "metadata": {},
   "outputs": [
    {
     "data": {
      "text/html": [
       "<div>\n",
       "<style scoped>\n",
       "    .dataframe tbody tr th:only-of-type {\n",
       "        vertical-align: middle;\n",
       "    }\n",
       "\n",
       "    .dataframe tbody tr th {\n",
       "        vertical-align: top;\n",
       "    }\n",
       "\n",
       "    .dataframe thead th {\n",
       "        text-align: right;\n",
       "    }\n",
       "</style>\n",
       "<table border=\"1\" class=\"dataframe\">\n",
       "  <thead>\n",
       "    <tr style=\"text-align: right;\">\n",
       "      <th></th>\n",
       "      <th>batch</th>\n",
       "      <th>batch_cov</th>\n",
       "      <th>ct_cov</th>\n",
       "      <th>disease_cov</th>\n",
       "      <th>ind_cov</th>\n",
       "      <th>pop_cov</th>\n",
       "      <th>well</th>\n",
       "    </tr>\n",
       "    <tr>\n",
       "      <th>index</th>\n",
       "      <th></th>\n",
       "      <th></th>\n",
       "      <th></th>\n",
       "      <th></th>\n",
       "      <th></th>\n",
       "      <th></th>\n",
       "      <th></th>\n",
       "    </tr>\n",
       "  </thead>\n",
       "  <tbody>\n",
       "    <tr>\n",
       "      <th>AAACCTGAGCAATATG-1-0-0-0-0-0-0-0-0-0</th>\n",
       "      <td>0</td>\n",
       "      <td>lupus8.16</td>\n",
       "      <td>Megakaryocytes</td>\n",
       "      <td>sle</td>\n",
       "      <td>901560200_901560200</td>\n",
       "      <td>WHITE</td>\n",
       "      <td>YE_8-16-1</td>\n",
       "    </tr>\n",
       "    <tr>\n",
       "      <th>AAACCTGAGTGCAAGC-1-0-0-0-0-0-0-0-0-0</th>\n",
       "      <td>0</td>\n",
       "      <td>lupus8.16</td>\n",
       "      <td>CD8 T cells</td>\n",
       "      <td>sle</td>\n",
       "      <td>1597_1597</td>\n",
       "      <td>ASIAN</td>\n",
       "      <td>YE_8-16-1</td>\n",
       "    </tr>\n",
       "    <tr>\n",
       "      <th>AAACCTGCAAGGCTCC-1-0-0-0-0-0-0-0-0-0</th>\n",
       "      <td>0</td>\n",
       "      <td>lupus8.16</td>\n",
       "      <td>CD14+ Monocytes</td>\n",
       "      <td>sle</td>\n",
       "      <td>1775_1775</td>\n",
       "      <td>WHITE</td>\n",
       "      <td>YE_8-16-1</td>\n",
       "    </tr>\n",
       "    <tr>\n",
       "      <th>AAACCTGCACGACTCG-1-0-0-0-0-0-0-0-0-0</th>\n",
       "      <td>0</td>\n",
       "      <td>lupus8.16</td>\n",
       "      <td>NK cells</td>\n",
       "      <td>sle</td>\n",
       "      <td>1760_1760</td>\n",
       "      <td>WHITE</td>\n",
       "      <td>YE_8-16-1</td>\n",
       "    </tr>\n",
       "    <tr>\n",
       "      <th>AAACCTGCAGGAATCG-1-0-0-0-0-0-0-0-0-0</th>\n",
       "      <td>0</td>\n",
       "      <td>lupus8.16</td>\n",
       "      <td>CD14+ Monocytes</td>\n",
       "      <td>sle</td>\n",
       "      <td>900759200_900759200</td>\n",
       "      <td>WHITE</td>\n",
       "      <td>YE_8-16-1</td>\n",
       "    </tr>\n",
       "  </tbody>\n",
       "</table>\n",
       "</div>"
      ],
      "text/plain": [
       "                                     batch  batch_cov           ct_cov  \\\n",
       "index                                                                    \n",
       "AAACCTGAGCAATATG-1-0-0-0-0-0-0-0-0-0     0  lupus8.16   Megakaryocytes   \n",
       "AAACCTGAGTGCAAGC-1-0-0-0-0-0-0-0-0-0     0  lupus8.16      CD8 T cells   \n",
       "AAACCTGCAAGGCTCC-1-0-0-0-0-0-0-0-0-0     0  lupus8.16  CD14+ Monocytes   \n",
       "AAACCTGCACGACTCG-1-0-0-0-0-0-0-0-0-0     0  lupus8.16         NK cells   \n",
       "AAACCTGCAGGAATCG-1-0-0-0-0-0-0-0-0-0     0  lupus8.16  CD14+ Monocytes   \n",
       "\n",
       "                                     disease_cov              ind_cov pop_cov  \\\n",
       "index                                                                           \n",
       "AAACCTGAGCAATATG-1-0-0-0-0-0-0-0-0-0         sle  901560200_901560200   WHITE   \n",
       "AAACCTGAGTGCAAGC-1-0-0-0-0-0-0-0-0-0         sle            1597_1597   ASIAN   \n",
       "AAACCTGCAAGGCTCC-1-0-0-0-0-0-0-0-0-0         sle            1775_1775   WHITE   \n",
       "AAACCTGCACGACTCG-1-0-0-0-0-0-0-0-0-0         sle            1760_1760   WHITE   \n",
       "AAACCTGCAGGAATCG-1-0-0-0-0-0-0-0-0-0         sle  900759200_900759200   WHITE   \n",
       "\n",
       "                                           well  \n",
       "index                                            \n",
       "AAACCTGAGCAATATG-1-0-0-0-0-0-0-0-0-0  YE_8-16-1  \n",
       "AAACCTGAGTGCAAGC-1-0-0-0-0-0-0-0-0-0  YE_8-16-1  \n",
       "AAACCTGCAAGGCTCC-1-0-0-0-0-0-0-0-0-0  YE_8-16-1  \n",
       "AAACCTGCACGACTCG-1-0-0-0-0-0-0-0-0-0  YE_8-16-1  \n",
       "AAACCTGCAGGAATCG-1-0-0-0-0-0-0-0-0-0  YE_8-16-1  "
      ]
     },
     "execution_count": 5,
     "metadata": {},
     "output_type": "execute_result"
    }
   ],
   "source": [
    "adata.obs.head(5)"
   ]
  },
  {
   "cell_type": "code",
   "execution_count": 21,
   "metadata": {},
   "outputs": [
    {
     "data": {
      "text/plain": [
       "CD4 T cells          173441\n",
       "CD14+ Monocytes      149311\n",
       "CD8 T cells           73706\n",
       "B cells               71755\n",
       "NK cells              49650\n",
       "FCGR3A+ Monocytes     27839\n",
       "Megakaryocytes        14001\n",
       "Dendritic cells        6750\n",
       "Name: ct_cov, dtype: int64"
      ]
     },
     "execution_count": 21,
     "metadata": {},
     "output_type": "execute_result"
    }
   ],
   "source": [
    "adata.obs.ct_cov.value_counts()"
   ]
  },
  {
   "cell_type": "code",
   "execution_count": 6,
   "metadata": {},
   "outputs": [
    {
     "data": {
      "text/plain": [
       "(566453, 32738)"
      ]
     },
     "execution_count": 6,
     "metadata": {},
     "output_type": "execute_result"
    }
   ],
   "source": [
    "adata.shape"
   ]
  },
  {
   "cell_type": "markdown",
   "metadata": {},
   "source": [
    "### Filter gene list"
   ]
  },
  {
   "cell_type": "code",
   "execution_count": 7,
   "metadata": {},
   "outputs": [],
   "source": [
    "sc.pp.filter_genes(adata, min_cells=5000)"
   ]
  },
  {
   "cell_type": "code",
   "execution_count": 8,
   "metadata": {},
   "outputs": [],
   "source": [
    "adata.obs['n_counts'] = adata.X.sum(axis=1).A1\n",
    "adata = adata[(adata.obs['n_counts'] > 200), :].copy()"
   ]
  },
  {
   "cell_type": "markdown",
   "metadata": {},
   "source": [
    "### Fit simplesc"
   ]
  },
  {
   "cell_type": "code",
   "execution_count": 19,
   "metadata": {},
   "outputs": [
    {
     "data": {
      "text/plain": [
       "<module 'simplesc' from '/Users/mincheolkim/Github/scrna-parameter-estimation/simplesc/simplesc.py'>"
      ]
     },
     "execution_count": 19,
     "metadata": {},
     "output_type": "execute_result"
    }
   ],
   "source": [
    "imp.reload(simplesc)"
   ]
  },
  {
   "cell_type": "code",
   "execution_count": 20,
   "metadata": {},
   "outputs": [],
   "source": [
    "estimator = simplesc.SingleCellEstimator(adata, p=0.1, group_label='ct_cov')"
   ]
  },
  {
   "cell_type": "code",
   "execution_count": 22,
   "metadata": {},
   "outputs": [
    {
     "ename": "KeyboardInterrupt",
     "evalue": "",
     "output_type": "error",
     "traceback": [
      "\u001b[0;31m--------------------------------------------------------------------\u001b[0m",
      "\u001b[0;31mKeyboardInterrupt\u001b[0m                  Traceback (most recent call last)",
      "\u001b[0;32m<ipython-input-22-f45acdca4d0d>\u001b[0m in \u001b[0;36m<module>\u001b[0;34m()\u001b[0m\n\u001b[0;32m----> 1\u001b[0;31m \u001b[0mestimator\u001b[0m\u001b[0;34m.\u001b[0m\u001b[0mcompute_observed_statistics\u001b[0m\u001b[0;34m(\u001b[0m\u001b[0mgroup\u001b[0m\u001b[0;34m=\u001b[0m\u001b[0;34m'CD4 T cells'\u001b[0m\u001b[0;34m)\u001b[0m\u001b[0;34m\u001b[0m\u001b[0;34m\u001b[0m\u001b[0m\n\u001b[0m\u001b[1;32m      2\u001b[0m \u001b[0mestimator\u001b[0m\u001b[0;34m.\u001b[0m\u001b[0mcompute_observed_statistics\u001b[0m\u001b[0;34m(\u001b[0m\u001b[0mgroup\u001b[0m\u001b[0;34m=\u001b[0m\u001b[0;34m'CD14+ Monocytes'\u001b[0m\u001b[0;34m)\u001b[0m\u001b[0;34m\u001b[0m\u001b[0;34m\u001b[0m\u001b[0m\n",
      "\u001b[0;32m~/Github/scrna-parameter-estimation/simplesc/simplesc.py\u001b[0m in \u001b[0;36mcompute_observed_statistics\u001b[0;34m(self, group)\u001b[0m\n\u001b[1;32m     51\u001b[0m \u001b[0;34m\u001b[0m\u001b[0m\n\u001b[1;32m     52\u001b[0m                 \u001b[0mself\u001b[0m\u001b[0;34m.\u001b[0m\u001b[0mobserved_mus\u001b[0m\u001b[0;34m[\u001b[0m\u001b[0mgroup\u001b[0m\u001b[0;34m]\u001b[0m \u001b[0;34m=\u001b[0m \u001b[0mobserved\u001b[0m\u001b[0;34m.\u001b[0m\u001b[0mmean\u001b[0m\u001b[0;34m(\u001b[0m\u001b[0maxis\u001b[0m\u001b[0;34m=\u001b[0m\u001b[0;36m0\u001b[0m\u001b[0;34m)\u001b[0m\u001b[0;34m.\u001b[0m\u001b[0mA1\u001b[0m\u001b[0;34m\u001b[0m\u001b[0;34m\u001b[0m\u001b[0m\n\u001b[0;32m---> 53\u001b[0;31m                 \u001b[0mself\u001b[0m\u001b[0;34m.\u001b[0m\u001b[0mobserved_sigmas\u001b[0m\u001b[0;34m[\u001b[0m\u001b[0mgroup\u001b[0m\u001b[0;34m]\u001b[0m \u001b[0;34m=\u001b[0m \u001b[0;34m(\u001b[0m\u001b[0;34m(\u001b[0m\u001b[0mobserved\u001b[0m\u001b[0;34m.\u001b[0m\u001b[0mT\u001b[0m\u001b[0;34m*\u001b[0m\u001b[0mobserved\u001b[0m \u001b[0;34m-\u001b[0m\u001b[0;34m(\u001b[0m\u001b[0msum\u001b[0m\u001b[0;34m(\u001b[0m\u001b[0mobserved\u001b[0m\u001b[0;34m)\u001b[0m\u001b[0;34m.\u001b[0m\u001b[0mT\u001b[0m\u001b[0;34m*\u001b[0m\u001b[0msum\u001b[0m\u001b[0;34m(\u001b[0m\u001b[0mobserved\u001b[0m\u001b[0;34m)\u001b[0m\u001b[0;34m/\u001b[0m\u001b[0mN\u001b[0m\u001b[0;34m)\u001b[0m\u001b[0;34m)\u001b[0m\u001b[0;34m/\u001b[0m\u001b[0;34m(\u001b[0m\u001b[0mN\u001b[0m\u001b[0;34m-\u001b[0m\u001b[0;36m1\u001b[0m\u001b[0;34m)\u001b[0m\u001b[0;34m)\u001b[0m\u001b[0;34m.\u001b[0m\u001b[0mtodense\u001b[0m\u001b[0;34m(\u001b[0m\u001b[0;34m)\u001b[0m\u001b[0;34m\u001b[0m\u001b[0;34m\u001b[0m\u001b[0m\n\u001b[0m\u001b[1;32m     54\u001b[0m \u001b[0;34m\u001b[0m\u001b[0m\n\u001b[1;32m     55\u001b[0m \u001b[0;34m\u001b[0m\u001b[0m\n",
      "\u001b[0;32m/anaconda3/envs/scvi/lib/python3.6/site-packages/scipy/sparse/base.py\u001b[0m in \u001b[0;36m__mul__\u001b[0;34m(self, other)\u001b[0m\n\u001b[1;32m    477\u001b[0m             \u001b[0;32mif\u001b[0m \u001b[0mself\u001b[0m\u001b[0;34m.\u001b[0m\u001b[0mshape\u001b[0m\u001b[0;34m[\u001b[0m\u001b[0;36m1\u001b[0m\u001b[0;34m]\u001b[0m \u001b[0;34m!=\u001b[0m \u001b[0mother\u001b[0m\u001b[0;34m.\u001b[0m\u001b[0mshape\u001b[0m\u001b[0;34m[\u001b[0m\u001b[0;36m0\u001b[0m\u001b[0;34m]\u001b[0m\u001b[0;34m:\u001b[0m\u001b[0;34m\u001b[0m\u001b[0;34m\u001b[0m\u001b[0m\n\u001b[1;32m    478\u001b[0m                 \u001b[0;32mraise\u001b[0m \u001b[0mValueError\u001b[0m\u001b[0;34m(\u001b[0m\u001b[0;34m'dimension mismatch'\u001b[0m\u001b[0;34m)\u001b[0m\u001b[0;34m\u001b[0m\u001b[0;34m\u001b[0m\u001b[0m\n\u001b[0;32m--> 479\u001b[0;31m             \u001b[0;32mreturn\u001b[0m \u001b[0mself\u001b[0m\u001b[0;34m.\u001b[0m\u001b[0m_mul_sparse_matrix\u001b[0m\u001b[0;34m(\u001b[0m\u001b[0mother\u001b[0m\u001b[0;34m)\u001b[0m\u001b[0;34m\u001b[0m\u001b[0;34m\u001b[0m\u001b[0m\n\u001b[0m\u001b[1;32m    480\u001b[0m \u001b[0;34m\u001b[0m\u001b[0m\n\u001b[1;32m    481\u001b[0m         \u001b[0;31m# If it's a list or whatever, treat it like a matrix\u001b[0m\u001b[0;34m\u001b[0m\u001b[0;34m\u001b[0m\u001b[0;34m\u001b[0m\u001b[0m\n",
      "\u001b[0;32m/anaconda3/envs/scvi/lib/python3.6/site-packages/scipy/sparse/compressed.py\u001b[0m in \u001b[0;36m_mul_sparse_matrix\u001b[0;34m(self, other)\u001b[0m\n\u001b[1;32m    510\u001b[0m            \u001b[0mnp\u001b[0m\u001b[0;34m.\u001b[0m\u001b[0masarray\u001b[0m\u001b[0;34m(\u001b[0m\u001b[0mother\u001b[0m\u001b[0;34m.\u001b[0m\u001b[0mindices\u001b[0m\u001b[0;34m,\u001b[0m \u001b[0mdtype\u001b[0m\u001b[0;34m=\u001b[0m\u001b[0midx_dtype\u001b[0m\u001b[0;34m)\u001b[0m\u001b[0;34m,\u001b[0m\u001b[0;34m\u001b[0m\u001b[0;34m\u001b[0m\u001b[0m\n\u001b[1;32m    511\u001b[0m            \u001b[0mother\u001b[0m\u001b[0;34m.\u001b[0m\u001b[0mdata\u001b[0m\u001b[0;34m,\u001b[0m\u001b[0;34m\u001b[0m\u001b[0;34m\u001b[0m\u001b[0m\n\u001b[0;32m--> 512\u001b[0;31m            indptr, indices, data)\n\u001b[0m\u001b[1;32m    513\u001b[0m \u001b[0;34m\u001b[0m\u001b[0m\n\u001b[1;32m    514\u001b[0m         \u001b[0;32mreturn\u001b[0m \u001b[0mself\u001b[0m\u001b[0;34m.\u001b[0m\u001b[0m__class__\u001b[0m\u001b[0;34m(\u001b[0m\u001b[0;34m(\u001b[0m\u001b[0mdata\u001b[0m\u001b[0;34m,\u001b[0m\u001b[0mindices\u001b[0m\u001b[0;34m,\u001b[0m\u001b[0mindptr\u001b[0m\u001b[0;34m)\u001b[0m\u001b[0;34m,\u001b[0m\u001b[0mshape\u001b[0m\u001b[0;34m=\u001b[0m\u001b[0;34m(\u001b[0m\u001b[0mM\u001b[0m\u001b[0;34m,\u001b[0m\u001b[0mN\u001b[0m\u001b[0;34m)\u001b[0m\u001b[0;34m)\u001b[0m\u001b[0;34m\u001b[0m\u001b[0;34m\u001b[0m\u001b[0m\n",
      "\u001b[0;31mKeyboardInterrupt\u001b[0m: "
     ]
    }
   ],
   "source": [
    "estimator.compute_observed_statistics(group='CD4 T cells')\n",
    "estimator.compute_observed_statistics(group='CD14+ Monocytes')"
   ]
  },
  {
   "cell_type": "code",
   "execution_count": null,
   "metadata": {},
   "outputs": [],
   "source": []
  },
  {
   "cell_type": "code",
   "execution_count": 63,
   "metadata": {},
   "outputs": [],
   "source": [
    "names = adata.obs.ind_cov.value_counts().index.tolist()\n",
    "real_ids = []\n",
    "for name in names:\n",
    "    if '_' in name and len(name) == 9:\n",
    "        real_ids.append(int(name.split('_')[0]))"
   ]
  },
  {
   "cell_type": "code",
   "execution_count": 54,
   "metadata": {},
   "outputs": [],
   "source": [
    "metadata = pd.read_csv(\n",
    "    '/Users/mincheolkim/Google Drive/UCSF/research/parameter_estimation/misc/cluestime1.csv', sep='\\t')"
   ]
  },
  {
   "cell_type": "code",
   "execution_count": 56,
   "metadata": {},
   "outputs": [
    {
     "data": {
      "text/html": [
       "<div>\n",
       "<style scoped>\n",
       "    .dataframe tbody tr th:only-of-type {\n",
       "        vertical-align: middle;\n",
       "    }\n",
       "\n",
       "    .dataframe tbody tr th {\n",
       "        vertical-align: top;\n",
       "    }\n",
       "\n",
       "    .dataframe thead th {\n",
       "        text-align: right;\n",
       "    }\n",
       "</style>\n",
       "<table border=\"1\" class=\"dataframe\">\n",
       "  <thead>\n",
       "    <tr style=\"text-align: right;\">\n",
       "      <th></th>\n",
       "      <th>subjectid</th>\n",
       "      <th>female</th>\n",
       "      <th>genderident</th>\n",
       "      <th>age</th>\n",
       "      <th>sledxyr</th>\n",
       "      <th>slesxdx</th>\n",
       "      <th>dxdrspecialty</th>\n",
       "      <th>dxdroth_spec</th>\n",
       "      <th>specialisttime</th>\n",
       "      <th>sledrnow</th>\n",
       "      <th>...</th>\n",
       "      <th>peskinoth</th>\n",
       "      <th>peskinothdesc</th>\n",
       "      <th>peedema</th>\n",
       "      <th>peedemadesc</th>\n",
       "      <th>pelowerextoth</th>\n",
       "      <th>pelowerextothdesc</th>\n",
       "      <th>penofindings</th>\n",
       "      <th>pecomments</th>\n",
       "      <th>pemuscoth</th>\n",
       "      <th>followupok</th>\n",
       "    </tr>\n",
       "  </thead>\n",
       "  <tbody>\n",
       "  </tbody>\n",
       "</table>\n",
       "<p>0 rows × 860 columns</p>\n",
       "</div>"
      ],
      "text/plain": [
       "Empty DataFrame\n",
       "Columns: [subjectid, female, genderident, age, sledxyr, slesxdx, dxdrspecialty, dxdroth_spec, specialisttime, sledrnow, mainmdname, mainmdhosp, mainmdspecialty, mainmdothspec, mdfrequency, sleflare, flareseverity, weightloss, weightlossseverity, fatigue, fatigueseverity, fevers, feversseverity, sores, soresseverity, rashcheek, rashcheekseverity, rashother, rashotherspec, rashotherseverity, skinspots, skinspotsseverity, sunsick, sunsickseverity, bald, baldseverity, swollenglands, swollenglandsseverity, shortbreath, shortbreathseverity, chestpain, chestpainseverity, raynaud, raynaudseverity, stomachpain, stomachpainseverity, numbness, numbnessseverity, seizures3mo, seizures3moseverity, stroke, forgetfulness, forgetfulnessseverity, depressedslaq, depressedseverity, headaches, headachesseverity, musclepain, musclepainseverity, muscleweak, muscleweakseverity, jointstiff, jointstiffseverity, jointswell, jointswellseverity, sleactivity, kidney, kidneystart, kidneystartwhen, kidneystartage, kidneystartyr, kidneystartyrsdx, kidneydxdr, kidneydxdroth, kbiopsy, kbiopsynum, kbiopsy1yr, kbiopsy2yr, kbiopsy3yr, dialysis, dialysisfirstyr, dialysisstill, dialysislastyr, dialysis6mos, ktransplant, ktransnum, ktrans1yr, ktrans2yr, apla, retinaprob, cataract, psychoticep, seizuresbild, seizuresmed, strokebild, stroke2x, paralysis, paralysisstroke, hblungs, fibrosis, ...]\n",
       "Index: []\n",
       "\n",
       "[0 rows x 860 columns]"
      ]
     },
     "execution_count": 56,
     "metadata": {},
     "output_type": "execute_result"
    }
   ],
   "source": [
    "metadata.query('subjectid == 1760')"
   ]
  },
  {
   "cell_type": "code",
   "execution_count": 47,
   "metadata": {},
   "outputs": [],
   "source": [
    "all_people = metadata.subjectid.value_counts().index.tolist()"
   ]
  },
  {
   "cell_type": "code",
   "execution_count": 64,
   "metadata": {},
   "outputs": [
    {
     "data": {
      "text/html": [
       "<div>\n",
       "<style scoped>\n",
       "    .dataframe tbody tr th:only-of-type {\n",
       "        vertical-align: middle;\n",
       "    }\n",
       "\n",
       "    .dataframe tbody tr th {\n",
       "        vertical-align: top;\n",
       "    }\n",
       "\n",
       "    .dataframe thead th {\n",
       "        text-align: right;\n",
       "    }\n",
       "</style>\n",
       "<table border=\"1\" class=\"dataframe\">\n",
       "  <thead>\n",
       "    <tr style=\"text-align: right;\">\n",
       "      <th></th>\n",
       "      <th>subjectid</th>\n",
       "      <th>female</th>\n",
       "      <th>genderident</th>\n",
       "      <th>age</th>\n",
       "      <th>sledxyr</th>\n",
       "      <th>slesxdx</th>\n",
       "      <th>dxdrspecialty</th>\n",
       "      <th>dxdroth_spec</th>\n",
       "      <th>specialisttime</th>\n",
       "      <th>sledrnow</th>\n",
       "      <th>...</th>\n",
       "      <th>peskinoth</th>\n",
       "      <th>peskinothdesc</th>\n",
       "      <th>peedema</th>\n",
       "      <th>peedemadesc</th>\n",
       "      <th>pelowerextoth</th>\n",
       "      <th>pelowerextothdesc</th>\n",
       "      <th>penofindings</th>\n",
       "      <th>pecomments</th>\n",
       "      <th>pemuscoth</th>\n",
       "      <th>followupok</th>\n",
       "    </tr>\n",
       "  </thead>\n",
       "  <tbody>\n",
       "  </tbody>\n",
       "</table>\n",
       "<p>0 rows × 860 columns</p>\n",
       "</div>"
      ],
      "text/plain": [
       "Empty DataFrame\n",
       "Columns: [subjectid, female, genderident, age, sledxyr, slesxdx, dxdrspecialty, dxdroth_spec, specialisttime, sledrnow, mainmdname, mainmdhosp, mainmdspecialty, mainmdothspec, mdfrequency, sleflare, flareseverity, weightloss, weightlossseverity, fatigue, fatigueseverity, fevers, feversseverity, sores, soresseverity, rashcheek, rashcheekseverity, rashother, rashotherspec, rashotherseverity, skinspots, skinspotsseverity, sunsick, sunsickseverity, bald, baldseverity, swollenglands, swollenglandsseverity, shortbreath, shortbreathseverity, chestpain, chestpainseverity, raynaud, raynaudseverity, stomachpain, stomachpainseverity, numbness, numbnessseverity, seizures3mo, seizures3moseverity, stroke, forgetfulness, forgetfulnessseverity, depressedslaq, depressedseverity, headaches, headachesseverity, musclepain, musclepainseverity, muscleweak, muscleweakseverity, jointstiff, jointstiffseverity, jointswell, jointswellseverity, sleactivity, kidney, kidneystart, kidneystartwhen, kidneystartage, kidneystartyr, kidneystartyrsdx, kidneydxdr, kidneydxdroth, kbiopsy, kbiopsynum, kbiopsy1yr, kbiopsy2yr, kbiopsy3yr, dialysis, dialysisfirstyr, dialysisstill, dialysislastyr, dialysis6mos, ktransplant, ktransnum, ktrans1yr, ktrans2yr, apla, retinaprob, cataract, psychoticep, seizuresbild, seizuresmed, strokebild, stroke2x, paralysis, paralysisstroke, hblungs, fibrosis, ...]\n",
       "Index: []\n",
       "\n",
       "[0 rows x 860 columns]"
      ]
     },
     "execution_count": 64,
     "metadata": {},
     "output_type": "execute_result"
    }
   ],
   "source": [
    "metadata[metadata.subjectid.isin(real_ids)]"
   ]
  },
  {
   "cell_type": "code",
   "execution_count": null,
   "metadata": {},
   "outputs": [],
   "source": []
  }
 ],
 "metadata": {
  "kernelspec": {
   "display_name": "Python [conda env:scvi]",
   "language": "python",
   "name": "conda-env-scvi-py"
  },
  "language_info": {
   "codemirror_mode": {
    "name": "ipython",
    "version": 3
   },
   "file_extension": ".py",
   "mimetype": "text/x-python",
   "name": "python",
   "nbconvert_exporter": "python",
   "pygments_lexer": "ipython3",
   "version": "3.6.8"
  }
 },
 "nbformat": 4,
 "nbformat_minor": 2
}
