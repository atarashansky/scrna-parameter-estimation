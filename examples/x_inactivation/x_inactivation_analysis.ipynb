{
 "cells": [
  {
   "cell_type": "markdown",
   "metadata": {
    "nbpresent": {
     "id": "1f01a376-e4e2-4d3c-8723-0f0d91682b22"
    }
   },
   "source": [
    "# X-Inactivation Analysis\n",
    "\n",
    "Detection of X-inactivation via differential variance"
   ]
  },
  {
   "cell_type": "code",
   "execution_count": 87,
   "metadata": {
    "nbpresent": {
     "id": "9bc26761-c243-4e99-98ca-0cc6425e76f5"
    }
   },
   "outputs": [],
   "source": [
    "import pandas as pd\n",
    "import matplotlib.pyplot as plt\n",
    "import scanpy.api as sc\n",
    "import scipy as sp\n",
    "import itertools\n",
    "import numpy as np\n",
    "import scipy.stats as stats\n",
    "from scipy.integrate import dblquad\n",
    "import scipy.sparse as sparse\n",
    "import seaborn as sns\n",
    "import imp\n",
    "import time\n",
    "from statsmodels.stats.multitest import fdrcorrection"
   ]
  },
  {
   "cell_type": "code",
   "execution_count": 8,
   "metadata": {
    "nbpresent": {
     "id": "b9fed9b8-667e-4528-85a4-81c070923434"
    }
   },
   "outputs": [],
   "source": [
    "import sys\n",
    "sys.path.append('/Users/mincheolkim/Github/scrna-parameter-estimation/simplesc')\n",
    "import simplesc"
   ]
  },
  {
   "cell_type": "code",
   "execution_count": 9,
   "metadata": {
    "nbpresent": {
     "id": "928db49a-7d74-456c-bf37-9192ad38ba99"
    }
   },
   "outputs": [],
   "source": [
    "data_path = '/Users/mincheolkim/Google Drive/UCSF/research/parameter_estimation/x_inactivation_data/'"
   ]
  },
  {
   "cell_type": "markdown",
   "metadata": {
    "nbpresent": {
     "id": "e7b339e2-4374-4906-90e2-13959d23c6e3"
    }
   },
   "source": [
    "### Read Lupus dataset\n",
    "\n",
    "Randomly sample 9 females\n",
    "\n",
    "Output of the preprocess notebook."
   ]
  },
  {
   "cell_type": "code",
   "execution_count": 141,
   "metadata": {
    "nbpresent": {
     "id": "04e1c4d6-561f-4fbf-aaa7-023237e35ed0"
    }
   },
   "outputs": [],
   "source": [
    "adata = sc.read(data_path + 'lupus_annotated_nonorm_V6.h5ad')"
   ]
  },
  {
   "cell_type": "code",
   "execution_count": 142,
   "metadata": {
    "nbpresent": {
     "id": "ec1a4bd0-61e2-4a30-91da-990290601299"
    }
   },
   "outputs": [],
   "source": [
    "males = adata.obs.query('Female == 1.0').ind_cov.drop_duplicates().values.tolist()[:2]\n",
    "females = adata.obs.query('Female == 0.0').ind_cov.drop_duplicates().sample(9).values.tolist()[:2]\n",
    "ind_list = males + females"
   ]
  },
  {
   "cell_type": "code",
   "execution_count": 143,
   "metadata": {
    "nbpresent": {
     "id": "f0f69b19-c732-4edd-81df-2a33b28434a8"
    }
   },
   "outputs": [],
   "source": [
    "adata = adata[adata.obs.ind_cov.isin(males+females)].copy()"
   ]
  },
  {
   "cell_type": "code",
   "execution_count": 144,
   "metadata": {},
   "outputs": [
    {
     "data": {
      "text/plain": [
       "(16307, 1444)"
      ]
     },
     "execution_count": 144,
     "metadata": {},
     "output_type": "execute_result"
    }
   ],
   "source": [
    "adata.shape"
   ]
  },
  {
   "cell_type": "code",
   "execution_count": 145,
   "metadata": {},
   "outputs": [
    {
     "data": {
      "text/plain": [
       "1558_1558              4445\n",
       "1760_1760              4286\n",
       "1196_1196              3838\n",
       "901560200_901560200    3738\n",
       "Name: ind_cov, dtype: int64"
      ]
     },
     "execution_count": 145,
     "metadata": {},
     "output_type": "execute_result"
    }
   ],
   "source": [
    "adata.obs.ind_cov.value_counts()"
   ]
  },
  {
   "cell_type": "markdown",
   "metadata": {
    "nbpresent": {
     "id": "68e10fb2-97a0-4223-8747-b4af567b6c13"
    }
   },
   "source": [
    "### Create groups"
   ]
  },
  {
   "cell_type": "code",
   "execution_count": 146,
   "metadata": {
    "nbpresent": {
     "id": "bdf910ad-57f9-464f-bed0-d76e29ddb92e"
    }
   },
   "outputs": [],
   "source": [
    "adata.obs['ct_ind'] = adata.obs['ct_cov'].astype(str) + ' - ' + adata.obs['ind_cov'].astype(str)"
   ]
  },
  {
   "cell_type": "code",
   "execution_count": 147,
   "metadata": {
    "nbpresent": {
     "id": "f4cb231f-9a74-4823-b29b-db779ea76ec4"
    }
   },
   "outputs": [],
   "source": [
    "adata.obs['ct_sex'] = adata.obs['ct_cov'].astype(str) + ' - ' + adata.obs['Female'].astype(str)"
   ]
  },
  {
   "cell_type": "code",
   "execution_count": 148,
   "metadata": {},
   "outputs": [
    {
     "data": {
      "text/plain": [
       "(16307, 1444)"
      ]
     },
     "execution_count": 148,
     "metadata": {},
     "output_type": "execute_result"
    }
   ],
   "source": [
    "adata.shape"
   ]
  },
  {
   "cell_type": "markdown",
   "metadata": {
    "nbpresent": {
     "id": "1471ecb4-8f29-4ae4-b5ac-d2d9272d33ef"
    }
   },
   "source": [
    "### Fit model"
   ]
  },
  {
   "cell_type": "code",
   "execution_count": 153,
   "metadata": {
    "nbpresent": {
     "id": "0d3ef6ed-f18b-4a03-a3cc-8eba6771d43e"
    }
   },
   "outputs": [],
   "source": [
    "imp.reload(simplesc)\n",
    "estimator = simplesc.SingleCellEstimator(adata, p=0.1, group_label='ct_ind')"
   ]
  },
  {
   "cell_type": "code",
   "execution_count": 154,
   "metadata": {},
   "outputs": [],
   "source": [
    "ct_list = [\n",
    "    'Th',\n",
    "    'cM',\n",
    "#     'B cells',\n",
    "#     'NK cells',\n",
    "#     'Megakaryocytes'\n",
    "]"
   ]
  },
  {
   "cell_type": "code",
   "execution_count": 156,
   "metadata": {
    "nbpresent": {
     "id": "a2651f09-9cd2-4046-946f-8c3d5505275c"
    }
   },
   "outputs": [
    {
     "name": "stdout",
     "output_type": "stream",
     "text": [
      "Th - 1760_1760\n"
     ]
    },
    {
     "name": "stderr",
     "output_type": "stream",
     "text": [
      "/Users/mincheolkim/Github/scrna-parameter-estimation/simplesc/simplesc.py:81: RuntimeWarning: divide by zero encountered in log\n",
      "  np.log(np.ones(self.anndata.shape[1])*self.p) - \\\n",
      "/Users/mincheolkim/Github/scrna-parameter-estimation/simplesc/simplesc.py:84: RuntimeWarning: invalid value encountered in true_divide\n",
      "  (1-self.p) / observed_mean + 1)\n",
      "/Users/mincheolkim/Github/scrna-parameter-estimation/simplesc/simplesc.py:84: RuntimeWarning: divide by zero encountered in true_divide\n",
      "  (1-self.p) / observed_mean + 1)\n",
      "/Users/mincheolkim/Github/scrna-parameter-estimation/simplesc/simplesc.py:89: RuntimeWarning: invalid value encountered in true_divide\n",
      "  (1-self.p) / observed_mean + 1)\n",
      "/Users/mincheolkim/Github/scrna-parameter-estimation/simplesc/simplesc.py:89: RuntimeWarning: divide by zero encountered in true_divide\n",
      "  (1-self.p) / observed_mean + 1)\n",
      "/Users/mincheolkim/Github/scrna-parameter-estimation/simplesc/simplesc.py:97: RuntimeWarning: invalid value encountered in log\n",
      "  ) + 1)\n"
     ]
    },
    {
     "name": "stdout",
     "output_type": "stream",
     "text": [
      "Th - 901560200_901560200\n",
      "Th - 1558_1558\n",
      "Th - 1196_1196\n",
      "cM - 1760_1760\n",
      "cM - 901560200_901560200\n",
      "cM - 1558_1558\n",
      "cM - 1196_1196\n"
     ]
    }
   ],
   "source": [
    "for ct in ct_list:\n",
    "    \n",
    "    for ind in ind_list:\n",
    "        print(ct + ' - ' + ind)\n",
    "        estimator.compute_observed_statistics(group=(ct + ' - ' + ind))\n",
    "        estimator.compute_params(group=(ct + ' - ' + ind))\n",
    "        estimator.compute_permuted_statistics(group=(ct + ' - ' + ind), num_permute=3)"
   ]
  },
  {
   "cell_type": "code",
   "execution_count": 129,
   "metadata": {},
   "outputs": [
    {
     "name": "stderr",
     "output_type": "stream",
     "text": [
      "/Users/mincheolkim/Github/scrna-parameter-estimation/simplesc/simplesc.py:214: RuntimeWarning: invalid value encountered in true_divide\n",
      "  t_statistic = (mu_1 - mu_2) / np.sqrt(s_delta_var)\n",
      "/Users/mincheolkim/Github/scrna-parameter-estimation/simplesc/simplesc.py:219: RuntimeWarning: invalid value encountered in less_equal\n",
      "  pvals = [(null_t_statistic > t).mean() if t > 0 else (null_t_statistic <= t).mean() for t in t_statistic]\n",
      "/Users/mincheolkim/Github/scrna-parameter-estimation/simplesc/simplesc.py:219: RuntimeWarning: invalid value encountered in greater\n",
      "  pvals = [(null_t_statistic > t).mean() if t > 0 else (null_t_statistic <= t).mean() for t in t_statistic]\n"
     ]
    }
   ],
   "source": [
    "t_stats, null_stats, pvals = estimator.differential_expression('Th', 'cM', method='perm')"
   ]
  },
  {
   "cell_type": "code",
   "execution_count": 82,
   "metadata": {},
   "outputs": [
    {
     "data": {
      "text/plain": [
       "array([1185,  313,   40, ...,  748,  926,  781])"
      ]
     },
     "execution_count": 82,
     "metadata": {},
     "output_type": "execute_result"
    }
   ],
   "source": [
    "np.argsort(a)"
   ]
  },
  {
   "cell_type": "code",
   "execution_count": 136,
   "metadata": {},
   "outputs": [
    {
     "data": {
      "image/png": "[encoded data removed]",
      "text/plain": [
       "<Figure size 432x288 with 1 Axes>"
      ]
     },
     "metadata": {},
     "output_type": "display_data"
    }
   ],
   "source": [
    "plt.hist(t_stats[~np.isnan(t_stats)], bins=80);\n",
    "plt.hist(null_stats[~np.isnan(null_stats)], bins=100);"
   ]
  },
  {
   "cell_type": "code",
   "execution_count": 138,
   "metadata": {},
   "outputs": [
    {
     "data": {
      "image/png": "[encoded data removed]",
      "text/plain": [
       "<Figure size 432x288 with 1 Axes>"
      ]
     },
     "metadata": {},
     "output_type": "display_data"
    }
   ],
   "source": [
    "plt.hist(2*np.array(pvals), bins=10);"
   ]
  },
  {
   "cell_type": "code",
   "execution_count": 140,
   "metadata": {},
   "outputs": [
    {
     "data": {
      "text/plain": [
       "0.4037396121883656"
      ]
     },
     "execution_count": 140,
     "metadata": {},
     "output_type": "execute_result"
    }
   ],
   "source": [
    "(pvals == 0).mean()"
   ]
  },
  {
   "cell_type": "code",
   "execution_count": null,
   "metadata": {},
   "outputs": [],
   "source": []
  },
  {
   "cell_type": "code",
   "execution_count": null,
   "metadata": {},
   "outputs": [],
   "source": []
  },
  {
   "cell_type": "code",
   "execution_count": null,
   "metadata": {},
   "outputs": [],
   "source": []
  },
  {
   "cell_type": "code",
   "execution_count": null,
   "metadata": {},
   "outputs": [],
   "source": []
  },
  {
   "cell_type": "code",
   "execution_count": null,
   "metadata": {},
   "outputs": [],
   "source": []
  },
  {
   "cell_type": "code",
   "execution_count": null,
   "metadata": {},
   "outputs": [],
   "source": []
  },
  {
   "cell_type": "markdown",
   "metadata": {
    "nbpresent": {
     "id": "644407f2-3c40-4bbf-97ec-d17fcd28a9b6"
    }
   },
   "source": [
    "### Find pseudo-autosomal region"
   ]
  },
  {
   "cell_type": "code",
   "execution_count": 39,
   "metadata": {
    "nbpresent": {
     "id": "b79d18f7-3d6e-4780-91dc-5eb04b904bac"
    }
   },
   "outputs": [],
   "source": [
    "pas_genes = \"\"\"AKAP17A\n",
    "ASMT\n",
    "ASMTL\n",
    "CD99\n",
    "CRLF2\n",
    "CSF2RA\n",
    "DHRSX\n",
    "GTPBP6\n",
    "IL3RA\n",
    "P2RY8\n",
    "PLCXD1\n",
    "PPP2R3B\n",
    "SHOX\n",
    "SLC25A6\n",
    "XG\n",
    "ZBED1\n",
    "IL9R\n",
    "SPRY3\n",
    "VAMP7\n",
    "CXYorf1\"\"\".split()"
   ]
  },
  {
   "cell_type": "markdown",
   "metadata": {
    "nbpresent": {
     "id": "0d68fec5-c21c-4259-afed-f894e8c26bf6"
    }
   },
   "source": [
    "### Cell type specific X-inactivation\n",
    "\n",
    "The phenomena that we're looking for should lead to differential variance among cell types only among women, but not men.\n",
    "\n",
    "1. QQ plot of p-values\n",
    "2. "
   ]
  },
  {
   "cell_type": "code",
   "execution_count": 40,
   "metadata": {
    "nbpresent": {
     "id": "76a6773f-4982-47ca-b948-8ab7963f58a6"
    }
   },
   "outputs": [],
   "source": [
    "pas_indices = (adata.var.index.isin(pas_genes))"
   ]
  },
  {
   "cell_type": "code",
   "execution_count": 41,
   "metadata": {
    "nbpresent": {
     "id": "d2311055-7ff3-4573-96e9-4a76f2dac2ef"
    }
   },
   "outputs": [],
   "source": [
    "x_chr_indices = (adata.var['chromosome'] == 'chrX') & ~(pas_indices)"
   ]
  },
  {
   "cell_type": "code",
   "execution_count": 209,
   "metadata": {},
   "outputs": [],
   "source": [
    "de_bayes_m1 = estimator.differential_expression_bayes('CD4 T cells - 1414_1414', 'CD14+ Monocytes - 1414_1414')\n",
    "de_bayes_m2 = estimator.differential_expression_bayes('CD4 T cells - 1558_1558', 'CD14+ Monocytes - 1558_1558')\n",
    "\n",
    "de_bayes_f1 = estimator.differential_expression_bayes('CD4 T cells - 1420_1420', 'CD14+ Monocytes - 1420_1420')\n",
    "de_bayes_f2 = estimator.differential_expression_bayes('CD4 T cells - 1250_1250', 'CD14+ Monocytes - 1250_1250')"
   ]
  },
  {
   "cell_type": "code",
   "execution_count": null,
   "metadata": {},
   "outputs": [],
   "source": []
  },
  {
   "cell_type": "code",
   "execution_count": 392,
   "metadata": {},
   "outputs": [
    {
     "data": {
      "text/plain": [
       "array([-0.10676869])"
      ]
     },
     "execution_count": 392,
     "metadata": {},
     "output_type": "execute_result"
    }
   ],
   "source": [
    "de_bayes_m1[adata.var.index == 'DDX3X']"
   ]
  },
  {
   "cell_type": "code",
   "execution_count": 393,
   "metadata": {},
   "outputs": [
    {
     "data": {
      "text/plain": [
       "array([-0.07272513])"
      ]
     },
     "execution_count": 393,
     "metadata": {},
     "output_type": "execute_result"
    }
   ],
   "source": [
    "de_bayes_f1[adata.var.index == 'DDX3X']"
   ]
  },
  {
   "cell_type": "code",
   "execution_count": 408,
   "metadata": {},
   "outputs": [
    {
     "data": {
      "text/plain": [
       "array([-0.12843634])"
      ]
     },
     "execution_count": 408,
     "metadata": {},
     "output_type": "execute_result"
    }
   ],
   "source": [
    "estimator.differential_expression_bayes('CD4 T cells - 1558_1558', 'CD4 T cells - 1420_1420')[adata.var.index == 'DDX3X']"
   ]
  },
  {
   "cell_type": "code",
   "execution_count": 401,
   "metadata": {},
   "outputs": [
    {
     "data": {
      "text/html": [
       "<div>\n",
       "<style scoped>\n",
       "    .dataframe tbody tr th:only-of-type {\n",
       "        vertical-align: middle;\n",
       "    }\n",
       "\n",
       "    .dataframe tbody tr th {\n",
       "        vertical-align: top;\n",
       "    }\n",
       "\n",
       "    .dataframe thead th {\n",
       "        text-align: right;\n",
       "    }\n",
       "</style>\n",
       "<table border=\"1\" class=\"dataframe\">\n",
       "  <thead>\n",
       "    <tr style=\"text-align: right;\">\n",
       "      <th></th>\n",
       "      <th>gene_ids-0-0-0-0-0-0-0-0-0</th>\n",
       "      <th>gene_ids-1-0-0-0-0-0-0-0-0</th>\n",
       "      <th>gene_ids-1-0-0-0-0-0-0-0</th>\n",
       "      <th>gene_ids-1-0-0-0-0-0-0</th>\n",
       "      <th>gene_ids-1-0-0-0-0-0</th>\n",
       "      <th>gene_ids-1-0-0-0-0</th>\n",
       "      <th>gene_ids-1-0-0-0</th>\n",
       "      <th>gene_ids-1-0-0</th>\n",
       "      <th>gene_ids-1-0</th>\n",
       "      <th>gene_ids-1</th>\n",
       "      <th>n_cells</th>\n",
       "      <th>chromosome</th>\n",
       "    </tr>\n",
       "    <tr>\n",
       "      <th>index</th>\n",
       "      <th></th>\n",
       "      <th></th>\n",
       "      <th></th>\n",
       "      <th></th>\n",
       "      <th></th>\n",
       "      <th></th>\n",
       "      <th></th>\n",
       "      <th></th>\n",
       "      <th></th>\n",
       "      <th></th>\n",
       "      <th></th>\n",
       "      <th></th>\n",
       "    </tr>\n",
       "  </thead>\n",
       "  <tbody>\n",
       "    <tr>\n",
       "      <th>GTPBP6</th>\n",
       "      <td>ENSG00000178605</td>\n",
       "      <td>ENSG00000178605</td>\n",
       "      <td>ENSG00000178605</td>\n",
       "      <td>ENSG00000178605</td>\n",
       "      <td>ENSG00000178605</td>\n",
       "      <td>ENSG00000178605</td>\n",
       "      <td>ENSG00000178605</td>\n",
       "      <td>ENSG00000178605</td>\n",
       "      <td>ENSG00000178605</td>\n",
       "      <td>ENSG00000178605</td>\n",
       "      <td>11417</td>\n",
       "      <td>chrX</td>\n",
       "    </tr>\n",
       "    <tr>\n",
       "      <th>CSF2RA</th>\n",
       "      <td>ENSG00000198223</td>\n",
       "      <td>ENSG00000198223</td>\n",
       "      <td>ENSG00000198223</td>\n",
       "      <td>ENSG00000198223</td>\n",
       "      <td>ENSG00000198223</td>\n",
       "      <td>ENSG00000198223</td>\n",
       "      <td>ENSG00000198223</td>\n",
       "      <td>ENSG00000198223</td>\n",
       "      <td>ENSG00000198223</td>\n",
       "      <td>ENSG00000198223</td>\n",
       "      <td>12123</td>\n",
       "      <td>chrX</td>\n",
       "    </tr>\n",
       "    <tr>\n",
       "      <th>SLC25A6</th>\n",
       "      <td>ENSG00000169100</td>\n",
       "      <td>ENSG00000169100</td>\n",
       "      <td>ENSG00000169100</td>\n",
       "      <td>ENSG00000169100</td>\n",
       "      <td>ENSG00000169100</td>\n",
       "      <td>ENSG00000169100</td>\n",
       "      <td>ENSG00000169100</td>\n",
       "      <td>ENSG00000169100</td>\n",
       "      <td>ENSG00000169100</td>\n",
       "      <td>ENSG00000169100</td>\n",
       "      <td>201659</td>\n",
       "      <td>chrX</td>\n",
       "    </tr>\n",
       "    <tr>\n",
       "      <th>P2RY8</th>\n",
       "      <td>ENSG00000182162</td>\n",
       "      <td>ENSG00000182162</td>\n",
       "      <td>ENSG00000182162</td>\n",
       "      <td>ENSG00000182162</td>\n",
       "      <td>ENSG00000182162</td>\n",
       "      <td>ENSG00000182162</td>\n",
       "      <td>ENSG00000182162</td>\n",
       "      <td>ENSG00000182162</td>\n",
       "      <td>ENSG00000182162</td>\n",
       "      <td>ENSG00000182162</td>\n",
       "      <td>16472</td>\n",
       "      <td>chrX</td>\n",
       "    </tr>\n",
       "    <tr>\n",
       "      <th>AKAP17A</th>\n",
       "      <td>ENSG00000197976</td>\n",
       "      <td>ENSG00000197976</td>\n",
       "      <td>ENSG00000197976</td>\n",
       "      <td>ENSG00000197976</td>\n",
       "      <td>ENSG00000197976</td>\n",
       "      <td>ENSG00000197976</td>\n",
       "      <td>ENSG00000197976</td>\n",
       "      <td>ENSG00000197976</td>\n",
       "      <td>ENSG00000197976</td>\n",
       "      <td>ENSG00000197976</td>\n",
       "      <td>21015</td>\n",
       "      <td>chrX</td>\n",
       "    </tr>\n",
       "    <tr>\n",
       "      <th>CD99</th>\n",
       "      <td>ENSG00000002586</td>\n",
       "      <td>ENSG00000002586</td>\n",
       "      <td>ENSG00000002586</td>\n",
       "      <td>ENSG00000002586</td>\n",
       "      <td>ENSG00000002586</td>\n",
       "      <td>ENSG00000002586</td>\n",
       "      <td>ENSG00000002586</td>\n",
       "      <td>ENSG00000002586</td>\n",
       "      <td>ENSG00000002586</td>\n",
       "      <td>ENSG00000002586</td>\n",
       "      <td>100539</td>\n",
       "      <td>chrX</td>\n",
       "    </tr>\n",
       "    <tr>\n",
       "      <th>PRKX</th>\n",
       "      <td>ENSG00000183943</td>\n",
       "      <td>ENSG00000183943</td>\n",
       "      <td>ENSG00000183943</td>\n",
       "      <td>ENSG00000183943</td>\n",
       "      <td>ENSG00000183943</td>\n",
       "      <td>ENSG00000183943</td>\n",
       "      <td>ENSG00000183943</td>\n",
       "      <td>ENSG00000183943</td>\n",
       "      <td>ENSG00000183943</td>\n",
       "      <td>ENSG00000183943</td>\n",
       "      <td>25331</td>\n",
       "      <td>chrX</td>\n",
       "    </tr>\n",
       "    <tr>\n",
       "      <th>MSL3</th>\n",
       "      <td>ENSG00000005302</td>\n",
       "      <td>ENSG00000005302</td>\n",
       "      <td>ENSG00000005302</td>\n",
       "      <td>ENSG00000005302</td>\n",
       "      <td>ENSG00000005302</td>\n",
       "      <td>ENSG00000005302</td>\n",
       "      <td>ENSG00000005302</td>\n",
       "      <td>ENSG00000005302</td>\n",
       "      <td>ENSG00000005302</td>\n",
       "      <td>ENSG00000005302</td>\n",
       "      <td>35700</td>\n",
       "      <td>chrX</td>\n",
       "    </tr>\n",
       "    <tr>\n",
       "      <th>TMSB4X</th>\n",
       "      <td>ENSG00000205542</td>\n",
       "      <td>ENSG00000205542</td>\n",
       "      <td>ENSG00000205542</td>\n",
       "      <td>ENSG00000205542</td>\n",
       "      <td>ENSG00000205542</td>\n",
       "      <td>ENSG00000205542</td>\n",
       "      <td>ENSG00000205542</td>\n",
       "      <td>ENSG00000205542</td>\n",
       "      <td>ENSG00000205542</td>\n",
       "      <td>ENSG00000205542</td>\n",
       "      <td>273911</td>\n",
       "      <td>chrX</td>\n",
       "    </tr>\n",
       "    <tr>\n",
       "      <th>RAB9A</th>\n",
       "      <td>ENSG00000123595</td>\n",
       "      <td>ENSG00000123595</td>\n",
       "      <td>ENSG00000123595</td>\n",
       "      <td>ENSG00000123595</td>\n",
       "      <td>ENSG00000123595</td>\n",
       "      <td>ENSG00000123595</td>\n",
       "      <td>ENSG00000123595</td>\n",
       "      <td>ENSG00000123595</td>\n",
       "      <td>ENSG00000123595</td>\n",
       "      <td>ENSG00000123595</td>\n",
       "      <td>14368</td>\n",
       "      <td>chrX</td>\n",
       "    </tr>\n",
       "  </tbody>\n",
       "</table>\n",
       "</div>"
      ],
      "text/plain": [
       "        gene_ids-0-0-0-0-0-0-0-0-0 gene_ids-1-0-0-0-0-0-0-0-0  \\\n",
       "index                                                           \n",
       "GTPBP6             ENSG00000178605            ENSG00000178605   \n",
       "CSF2RA             ENSG00000198223            ENSG00000198223   \n",
       "SLC25A6            ENSG00000169100            ENSG00000169100   \n",
       "P2RY8              ENSG00000182162            ENSG00000182162   \n",
       "AKAP17A            ENSG00000197976            ENSG00000197976   \n",
       "CD99               ENSG00000002586            ENSG00000002586   \n",
       "PRKX               ENSG00000183943            ENSG00000183943   \n",
       "MSL3               ENSG00000005302            ENSG00000005302   \n",
       "TMSB4X             ENSG00000205542            ENSG00000205542   \n",
       "RAB9A              ENSG00000123595            ENSG00000123595   \n",
       "\n",
       "        gene_ids-1-0-0-0-0-0-0-0 gene_ids-1-0-0-0-0-0-0 gene_ids-1-0-0-0-0-0  \\\n",
       "index                                                                          \n",
       "GTPBP6           ENSG00000178605        ENSG00000178605      ENSG00000178605   \n",
       "CSF2RA           ENSG00000198223        ENSG00000198223      ENSG00000198223   \n",
       "SLC25A6          ENSG00000169100        ENSG00000169100      ENSG00000169100   \n",
       "P2RY8            ENSG00000182162        ENSG00000182162      ENSG00000182162   \n",
       "AKAP17A          ENSG00000197976        ENSG00000197976      ENSG00000197976   \n",
       "CD99             ENSG00000002586        ENSG00000002586      ENSG00000002586   \n",
       "PRKX             ENSG00000183943        ENSG00000183943      ENSG00000183943   \n",
       "MSL3             ENSG00000005302        ENSG00000005302      ENSG00000005302   \n",
       "TMSB4X           ENSG00000205542        ENSG00000205542      ENSG00000205542   \n",
       "RAB9A            ENSG00000123595        ENSG00000123595      ENSG00000123595   \n",
       "\n",
       "        gene_ids-1-0-0-0-0 gene_ids-1-0-0-0   gene_ids-1-0-0     gene_ids-1-0  \\\n",
       "index                                                                           \n",
       "GTPBP6     ENSG00000178605  ENSG00000178605  ENSG00000178605  ENSG00000178605   \n",
       "CSF2RA     ENSG00000198223  ENSG00000198223  ENSG00000198223  ENSG00000198223   \n",
       "SLC25A6    ENSG00000169100  ENSG00000169100  ENSG00000169100  ENSG00000169100   \n",
       "P2RY8      ENSG00000182162  ENSG00000182162  ENSG00000182162  ENSG00000182162   \n",
       "AKAP17A    ENSG00000197976  ENSG00000197976  ENSG00000197976  ENSG00000197976   \n",
       "CD99       ENSG00000002586  ENSG00000002586  ENSG00000002586  ENSG00000002586   \n",
       "PRKX       ENSG00000183943  ENSG00000183943  ENSG00000183943  ENSG00000183943   \n",
       "MSL3       ENSG00000005302  ENSG00000005302  ENSG00000005302  ENSG00000005302   \n",
       "TMSB4X     ENSG00000205542  ENSG00000205542  ENSG00000205542  ENSG00000205542   \n",
       "RAB9A      ENSG00000123595  ENSG00000123595  ENSG00000123595  ENSG00000123595   \n",
       "\n",
       "              gene_ids-1  n_cells chromosome  \n",
       "index                                         \n",
       "GTPBP6   ENSG00000178605    11417       chrX  \n",
       "CSF2RA   ENSG00000198223    12123       chrX  \n",
       "SLC25A6  ENSG00000169100   201659       chrX  \n",
       "P2RY8    ENSG00000182162    16472       chrX  \n",
       "AKAP17A  ENSG00000197976    21015       chrX  \n",
       "CD99     ENSG00000002586   100539       chrX  \n",
       "PRKX     ENSG00000183943    25331       chrX  \n",
       "MSL3     ENSG00000005302    35700       chrX  \n",
       "TMSB4X   ENSG00000205542   273911       chrX  \n",
       "RAB9A    ENSG00000123595    14368       chrX  "
      ]
     },
     "execution_count": 401,
     "metadata": {},
     "output_type": "execute_result"
    }
   ],
   "source": [
    "adata.var.query('chromosome == \"chrX\"').head(10)"
   ]
  },
  {
   "cell_type": "code",
   "execution_count": 406,
   "metadata": {},
   "outputs": [
    {
     "data": {
      "text/plain": [
       "array([0.3280036])"
      ]
     },
     "execution_count": 406,
     "metadata": {},
     "output_type": "execute_result"
    }
   ],
   "source": [
    "gene = 'MSL3'\n",
    "estimator.differential_expression_bayes('CD4 T cells - 1414_1414', 'CD4 T cells - 1420_1420')[adata.var.index == gene]"
   ]
  },
  {
   "cell_type": "code",
   "execution_count": null,
   "metadata": {},
   "outputs": [],
   "source": []
  },
  {
   "cell_type": "code",
   "execution_count": null,
   "metadata": {},
   "outputs": [],
   "source": []
  },
  {
   "cell_type": "code",
   "execution_count": null,
   "metadata": {},
   "outputs": [],
   "source": []
  },
  {
   "cell_type": "code",
   "execution_count": 157,
   "metadata": {},
   "outputs": [],
   "source": [
    "_, dv_bayes_m1 = estimator.differential_variance_bayes('CD4 T cells - 1414_1414', 'CD14+ Monocytes - 1414_1414')\n",
    "_, dv_bayes_m2 = estimator.differential_variance_bayes('CD4 T cells - 1558_1558', 'CD14+ Monocytes - 1558_1558')\n",
    "\n",
    "_, dv_bayes_f1 = estimator.differential_variance_bayes('CD4 T cells - 1420_1420', 'CD14+ Monocytes - 1420_1420')\n",
    "_, dv_bayes_f2 = estimator.differential_variance_bayes('CD4 T cells - 1250_1250', 'CD14+ Monocytes - 1250_1250')"
   ]
  },
  {
   "cell_type": "code",
   "execution_count": 377,
   "metadata": {},
   "outputs": [],
   "source": [
    "de_cutoff = 0.25\n",
    "dv_cutoff = 0.1"
   ]
  },
  {
   "cell_type": "code",
   "execution_count": 378,
   "metadata": {},
   "outputs": [],
   "source": [
    "indices = \\\n",
    "    (((np.absolute(de_bayes_m1) < de_cutoff) & (np.absolute(dv_bayes_m1) < dv_cutoff)) | \\\n",
    "    ((np.absolute(de_bayes_m2) < de_cutoff) & (np.absolute(dv_bayes_m2) < dv_cutoff))) & \\\n",
    "    (((np.absolute(de_bayes_f1) < de_cutoff) & (np.absolute(dv_bayes_f1) > dv_cutoff)) | \\\n",
    "    ((np.absolute(de_bayes_f2) < de_cutoff) & (np.absolute(dv_bayes_f2) > dv_cutoff)))"
   ]
  },
  {
   "cell_type": "code",
   "execution_count": 379,
   "metadata": {},
   "outputs": [],
   "source": [
    "only_females = adata.var.index.values[indices]"
   ]
  },
  {
   "cell_type": "code",
   "execution_count": 383,
   "metadata": {},
   "outputs": [
    {
     "data": {
      "text/plain": [
       "0.25108170851687395"
      ]
     },
     "execution_count": 383,
     "metadata": {},
     "output_type": "execute_result"
    }
   ],
   "source": [
    "stats.binom_test(\n",
    "    adata.var[adata.var.index.isin(only_females)].chromosome.value_counts()['chrX'], \n",
    "    only_females.shape[0],\n",
    "    0.030127)"
   ]
  },
  {
   "cell_type": "code",
   "execution_count": 321,
   "metadata": {},
   "outputs": [
    {
     "data": {
      "text/plain": [
       "3"
      ]
     },
     "execution_count": 321,
     "metadata": {},
     "output_type": "execute_result"
    }
   ],
   "source": [
    "adata.var[adata.var.index.isin(only_females)].chromosome.value_counts()['chrX']"
   ]
  },
  {
   "cell_type": "code",
   "execution_count": 167,
   "metadata": {},
   "outputs": [
    {
     "data": {
      "text/plain": [
       "chr1     0.100145\n",
       "chr2     0.070434\n",
       "chr19    0.068772\n",
       "chr11    0.061500\n",
       "chr17    0.060046\n",
       "chr3     0.056306\n",
       "chr12    0.055059\n",
       "chr6     0.053189\n",
       "chr5     0.048411\n",
       "chr7     0.043840\n",
       "chr16    0.042385\n",
       "chr10    0.035737\n",
       "chr14    0.035113\n",
       "chr4     0.034074\n",
       "chr9     0.032620\n",
       "chr8     0.031997\n",
       "chrX     0.030127\n",
       "chr15    0.027633\n",
       "chr20    0.025348\n",
       "chr22    0.024725\n",
       "nan      0.021193\n",
       "chr13    0.017868\n",
       "chr18    0.011843\n",
       "chr21    0.011427\n",
       "chrY     0.000208\n",
       "Name: chromosome, dtype: float64"
      ]
     },
     "execution_count": 167,
     "metadata": {},
     "output_type": "execute_result"
    }
   ],
   "source": [
    "adata.var.chromosome.value_counts() / len(adata.var)"
   ]
  },
  {
   "cell_type": "code",
   "execution_count": null,
   "metadata": {},
   "outputs": [],
   "source": []
  },
  {
   "cell_type": "code",
   "execution_count": 66,
   "metadata": {},
   "outputs": [
    {
     "data": {
      "text/plain": [
       "2"
      ]
     },
     "execution_count": 66,
     "metadata": {},
     "output_type": "execute_result"
    }
   ],
   "source": [
    "(dv_bayes_f < -1).sum()"
   ]
  },
  {
   "cell_type": "code",
   "execution_count": null,
   "metadata": {},
   "outputs": [],
   "source": []
  },
  {
   "cell_type": "code",
   "execution_count": 63,
   "metadata": {},
   "outputs": [
    {
     "data": {
      "image/png": "[encoded data removed]",
      "text/plain": [
       "<Figure size 432x288 with 1 Axes>"
      ]
     },
     "metadata": {},
     "output_type": "display_data"
    }
   ],
   "source": [
    "plt.hist(dv_bayes_m, bins=50);"
   ]
  },
  {
   "cell_type": "code",
   "execution_count": 62,
   "metadata": {},
   "outputs": [
    {
     "data": {
      "image/png": "[encoded data removed]",
      "text/plain": [
       "<Figure size 432x288 with 1 Axes>"
      ]
     },
     "metadata": {},
     "output_type": "display_data"
    }
   ],
   "source": [
    "plt.hist(dv_bayes_f, bins=50);"
   ]
  },
  {
   "cell_type": "code",
   "execution_count": 36,
   "metadata": {},
   "outputs": [
    {
     "data": {
      "text/plain": [
       "4813"
      ]
     },
     "execution_count": 36,
     "metadata": {},
     "output_type": "execute_result"
    }
   ],
   "source": [
    "len(diff_var[1])"
   ]
  },
  {
   "cell_type": "code",
   "execution_count": 43,
   "metadata": {},
   "outputs": [],
   "source": [
    "bf_pvals = np.minimum(diff_var[1] * 4813, 1)"
   ]
  },
  {
   "cell_type": "code",
   "execution_count": 48,
   "metadata": {},
   "outputs": [
    {
     "data": {
      "text/plain": [
       "array([1.79994942e-40, 9.59572516e-02, 1.18966266e-01, 4.48042293e-80,\n",
       "       3.31824453e-24, 2.61695176e-02, 3.52343860e-60, 7.79898700e-01,\n",
       "       4.99858878e-07, 5.93522589e-01])"
      ]
     },
     "execution_count": 48,
     "metadata": {},
     "output_type": "execute_result"
    }
   ],
   "source": [
    "diff_var[1][:10]"
   ]
  },
  {
   "cell_type": "code",
   "execution_count": 52,
   "metadata": {},
   "outputs": [
    {
     "name": "stderr",
     "output_type": "stream",
     "text": [
      "/anaconda3/envs/scvi/lib/python3.6/site-packages/ipykernel/__main__.py:1: RuntimeWarning: invalid value encountered in less_equal\n",
      "  if __name__ == '__main__':\n"
     ]
    },
    {
     "data": {
      "image/png": "[encoded data removed]",
      "text/plain": [
       "<Figure size 432x288 with 1 Axes>"
      ]
     },
     "metadata": {},
     "output_type": "display_data"
    }
   ],
   "source": [
    "plt.hist(bf_pvals[bf_pvals <= 1]);"
   ]
  },
  {
   "cell_type": "code",
   "execution_count": 33,
   "metadata": {},
   "outputs": [
    {
     "name": "stderr",
     "output_type": "stream",
     "text": [
      "/anaconda3/envs/scvi/lib/python3.6/site-packages/ipykernel/__main__.py:1: RuntimeWarning: invalid value encountered in less\n",
      "  if __name__ == '__main__':\n"
     ]
    },
    {
     "data": {
      "image/png": "[encoded data removed]",
      "text/plain": [
       "<Figure size 432x288 with 1 Axes>"
      ]
     },
     "metadata": {},
     "output_type": "display_data"
    }
   ],
   "source": [
    "plt.hist(diff_var[1][diff_var[1] < 1], bins=50);"
   ]
  },
  {
   "cell_type": "code",
   "execution_count": 28,
   "metadata": {},
   "outputs": [
    {
     "data": {
      "text/plain": [
       "array([1.79994942e-40, 9.59572516e-02, 1.18966266e-01, ...,\n",
       "       7.53029992e-09, 1.70038479e-01, 8.49957711e-57])"
      ]
     },
     "execution_count": 28,
     "metadata": {},
     "output_type": "execute_result"
    }
   ],
   "source": [
    "diff_var[1]"
   ]
  },
  {
   "cell_type": "code",
   "execution_count": 27,
   "metadata": {},
   "outputs": [
    {
     "data": {
      "text/plain": [
       "array([13.92750023, -1.66547167, -1.55976742, ..., -5.79920885,\n",
       "       -1.37259167, 16.98696933])"
      ]
     },
     "execution_count": 27,
     "metadata": {},
     "output_type": "execute_result"
    }
   ],
   "source": [
    "diff_var[0]"
   ]
  },
  {
   "cell_type": "code",
   "execution_count": 277,
   "metadata": {
    "nbpresent": {
     "id": "5f2b8c80-b3b9-44ec-9712-dd11221f6ef9"
    },
    "scrolled": false
   },
   "outputs": [],
   "source": [
    "x_list = []\n",
    "auto_list = []\n",
    "\n",
    "for i in range(100):\n",
    "    \n",
    "    greater_var = np.zeros(100)\n",
    "    greater_var_x = np.zeros(100)\n",
    "    for trial in range(100):\n",
    "        for ct in ct_list[:2]:\n",
    "\n",
    "            ind1, ind2 = np.random.choice(ind_list, 2)\n",
    "\n",
    "            #plt.figure()\n",
    "            male_var_x_raw = estimator.estimated_cov['{} - {}'.format(ct, ind1)][x_chr_indices, x_chr_indices].A1\n",
    "            female_var_x_raw = estimator.estimated_cov['{} - {}'.format(ct, ind2)][x_chr_indices, x_chr_indices].A1\n",
    "\n",
    "            male_var_x = male_var_x_raw[(male_var_x_raw > 0) & (female_var_x_raw > 0)]\n",
    "            female_var_x = female_var_x_raw[(male_var_x_raw > 0) & (female_var_x_raw > 0)]\n",
    "\n",
    "            auto_indices = np.where(~x_chr_indices)[0][:157]\n",
    "            male_var_auto_raw = estimator.estimated_cov['{} - {}'.format(ct, ind1)][auto_indices, auto_indices].A1\n",
    "            female_var_auto_raw = estimator.estimated_cov['{} - {}'.format(ct, ind2)][auto_indices, auto_indices].A1\n",
    "\n",
    "            male_var_auto = male_var_auto_raw[(male_var_auto_raw > 0) & (female_var_auto_raw > 0)]\n",
    "            female_var_auto = female_var_auto_raw[(male_var_auto_raw > 0) & (female_var_auto_raw > 0)]\n",
    "\n",
    "        #     _, var_bayes = estimator.differential_variance_bayes('{} - 1'.format(ct), '{} - 0'.format(ct))\n",
    "        #     _, var_ftest = estimator.differential_variance('{} - 1'.format(ct), '{} - 0'.format(ct))\n",
    "        #     var_bayes_x = var_bayes[x_chr_indices]\n",
    "        #     var_bayes_auto = var_bayes[~x_chr_indices]\n",
    "\n",
    "        #     print(\n",
    "        #         estimator.estimated_cov['{} - 0'.format(ct)][np.where(adata.var.index == gene)[0][0], np.where(adata.var.index == gene)[0][0]], \n",
    "        #         estimator.estimated_cov['{} - 1'.format(ct)][np.where(adata.var.index == gene)[0][0], np.where(adata.var.index == gene)[0][0]])\n",
    "\n",
    "    #         print(male_var_x.mean(), female_var_x.mean())\n",
    "    #         print('x',ct, stats.mannwhitneyu(male_var_x, female_var_x))\n",
    "    #         print('auto', ct, stats.mannwhitneyu(male_var_auto, female_var_auto))\n",
    "\n",
    "    #         print('Percent of female greater variance (x):', (female_var_x > male_var_x).mean())\n",
    "    #         print('Percent of female greater variance (auto):', (female_var_auto > male_var_auto).mean())\n",
    "    #         print('---')\n",
    "\n",
    "        greater_var[trial] = (female_var_auto.mean() > male_var_auto.mean())\n",
    "        greater_var_x[trial] = (female_var_x.mean() > male_var_x.mean())\n",
    "    x_list.append(greater_var_x.mean())\n",
    "    auto_list.append(greater_var.mean())"
   ]
  },
  {
   "cell_type": "code",
   "execution_count": 413,
   "metadata": {},
   "outputs": [],
   "source": [
    "levene_p = np.zeros(5000)\n",
    "ttest_p = np.zeros(5000)\n",
    "for trial in range(5000):\n",
    "\n",
    "    dat = stats.norm.rvs(loc=0, scale=1, size=1000)\n",
    "    dat2 = stats.norm.rvs(loc=0, scale=1.2, size=1000)\n",
    "\n",
    "    zs = np.absolute(dat)\n",
    "    zs2 = np.absolute(dat2)\n",
    "\n",
    "    levene_p[trial] = np.log10(stats.levene(dat, dat2)[1])\n",
    "    ttest_p[trial] = np.log10(stats.ttest_ind(zs, zs2)[1])"
   ]
  },
  {
   "cell_type": "code",
   "execution_count": null,
   "metadata": {},
   "outputs": [],
   "source": [
    "stats.ttest_ind_from_stats([])"
   ]
  },
  {
   "cell_type": "code",
   "execution_count": 321,
   "metadata": {},
   "outputs": [],
   "source": [
    "zs = np.absolute(dat-dat.mean())\n",
    "zs2 = np.absolute(dat2)"
   ]
  },
  {
   "cell_type": "code",
   "execution_count": 323,
   "metadata": {},
   "outputs": [
    {
     "data": {
      "text/plain": [
       "Ks_2sampResult(statistic=0.022999999999999993, pvalue=0.951890168048495)"
      ]
     },
     "execution_count": 323,
     "metadata": {},
     "output_type": "execute_result"
    }
   ],
   "source": [
    "stats.ks_2samp(zs, zs2)"
   ]
  },
  {
   "cell_type": "code",
   "execution_count": 322,
   "metadata": {},
   "outputs": [
    {
     "data": {
      "image/png": "[encoded data removed]",
      "text/plain": [
       "<Figure size 432x288 with 1 Axes>"
      ]
     },
     "metadata": {},
     "output_type": "display_data"
    }
   ],
   "source": [
    "plt.hist([zs, zs2], bins=30);"
   ]
  },
  {
   "cell_type": "code",
   "execution_count": 294,
   "metadata": {},
   "outputs": [
    {
     "data": {
      "text/plain": [
       "array([5.11535895, 5.29748073, 5.73198349, 4.02931109, 5.4695484 ,\n",
       "       4.12094207, 2.77679078, 4.62042263, 3.13393273, 7.15971807,\n",
       "       6.50690569, 5.74800427, 4.44094727, 5.04895066, 6.31818558,\n",
       "       5.19584515, 7.22910316, 5.70654494, 4.83236951, 3.62003396,\n",
       "       2.59624511, 4.90563974, 3.49420014, 6.21349407, 5.45794669,\n",
       "       4.98962484, 6.41535421, 6.78631337, 5.08749704, 5.25067763,\n",
       "       4.37993657, 4.68874494, 5.18908643, 6.26833371, 6.61571524,\n",
       "       4.49294799, 5.63204207, 5.00659471, 6.32569433, 4.53290097,\n",
       "       5.12971932, 4.91077501, 4.59888238, 3.99158696, 4.49883784,\n",
       "       5.78073294, 4.96649019, 6.09677435, 5.53860883, 3.9425488 ,\n",
       "       4.93474909, 4.61963021, 4.25370571, 3.13346951, 3.9680915 ,\n",
       "       6.11927437, 4.42172241, 4.29798651, 4.0083849 , 5.55541811,\n",
       "       3.98953795, 6.0890674 , 4.32213063, 4.83312586, 5.49985913,\n",
       "       6.86287427, 5.43290928, 4.33427933, 4.86416453, 4.20535464,\n",
       "       5.60561342, 6.02027874, 5.50439794, 4.41649211, 4.01667985,\n",
       "       4.87844194, 4.58425341, 5.66420919, 5.69045036, 5.14728816,\n",
       "       4.47774986, 6.02234519, 3.81824449, 6.73340908, 4.30654016,\n",
       "       6.67084606, 4.63014044, 5.53165856, 5.41922786, 6.51216572,\n",
       "       4.95152517, 6.36539814, 5.11568965, 5.15930813, 5.57423798,\n",
       "       5.19261965, 6.04188557, 4.92113375, 4.86591562, 5.57775734,\n",
       "       5.22439911, 6.13554721, 3.95874474, 4.6786327 , 4.28087281,\n",
       "       4.13508081, 5.33681725, 5.24834366, 2.43155311, 4.42483774,\n",
       "       3.9858993 , 5.59067624, 6.33560506, 5.53105372, 4.13982407,\n",
       "       5.91093438, 4.73411383, 4.01565557, 7.22593769, 3.78108653,\n",
       "       5.41087306, 6.03924764, 5.93379824, 5.87789879, 5.40559276,\n",
       "       5.56965519, 6.41685273, 5.76343093, 7.1216674 , 5.71757061,\n",
       "       5.19890095, 5.4397717 , 3.44512619, 6.85563287, 6.29304002,\n",
       "       5.7698561 , 5.98708741, 5.48932584, 4.94703055, 4.16838321,\n",
       "       4.55932543, 6.14553991, 5.67428551, 4.20526992, 6.13341771,\n",
       "       3.61071988, 4.21968718, 4.32605698, 4.69891163, 5.1381037 ,\n",
       "       3.46792393, 4.66768403, 4.84703764, 5.85930133, 3.89108847,\n",
       "       5.23278986, 3.9153337 , 4.77491499, 4.23219978, 5.23134251,\n",
       "       4.84459537, 4.432896  , 4.16461187, 3.80006245, 5.96140318,\n",
       "       4.05418457, 3.86540006, 4.86814857, 6.22208744, 5.08107929,\n",
       "       3.26680464, 2.85259473, 6.46115653, 6.23265531, 6.31907169,\n",
       "       5.48718703, 4.45009492, 5.78699009, 5.09421975, 5.21052968,\n",
       "       4.41890521, 6.08452876, 4.14881745, 5.27209678, 4.34074552,\n",
       "       5.17265756, 4.99318664, 5.20863345, 3.39792525, 4.9211744 ,\n",
       "       6.12430392, 5.13347167, 5.59689211, 5.44142661, 4.045578  ,\n",
       "       5.45024117, 4.59262452, 4.16976373, 6.07329694, 4.70378449,\n",
       "       5.82954145, 4.70409156, 5.34245768, 3.88826883, 6.86609837,\n",
       "       3.14323321, 4.944721  , 7.33031529, 5.09809032, 4.38659827,\n",
       "       4.2983881 , 3.13031744, 7.63200661, 3.04831779, 5.0683602 ,\n",
       "       5.26764473, 5.27062881, 3.84336052, 4.82485171, 7.08045724,\n",
       "       4.91270371, 4.98918062, 5.52484208, 5.19042577, 5.45725016,\n",
       "       4.85868102, 4.83772837, 3.71211687, 6.26404773, 3.97929109,\n",
       "       6.00231172, 5.74281584, 7.10992877, 4.52574224, 4.73358422,\n",
       "       5.38341171, 4.06587727, 6.93105087, 3.06320902, 5.41986777,\n",
       "       4.93631485, 4.42355607, 4.82389875, 6.95516019, 6.80532232,\n",
       "       4.88265319, 4.94293607, 4.96533918, 4.68619225, 2.46474175,\n",
       "       4.80494424, 3.00563794, 5.46931671, 6.75892466, 4.94425671,\n",
       "       4.5898186 , 4.5956811 , 4.27477556, 4.05705977, 5.40313632,\n",
       "       3.66336537, 4.75556002, 5.35843183, 6.32157024, 5.42690674,\n",
       "       5.93963979, 5.0385781 , 5.97131154, 3.71697314, 4.68997341,\n",
       "       4.68896425, 4.50254502, 3.97471898, 4.0354162 , 5.62600974,\n",
       "       3.68915986, 4.45906816, 5.27746518, 6.74121545, 4.6514498 ,\n",
       "       4.98839191, 5.41182816, 3.80252458, 3.59912778, 4.82290718,\n",
       "       5.72167096, 5.4721759 , 6.17819704, 4.45195888, 3.39412138,\n",
       "       5.1834094 , 4.64759728, 4.815335  , 6.61296575, 4.51517152,\n",
       "       4.97694822, 4.72880866, 4.44797901, 5.32737874, 6.43757893,\n",
       "       3.33235409, 6.6916416 , 5.95793999, 4.70528903, 5.41568856,\n",
       "       3.25509475, 3.93308027, 3.63033646, 8.25522369, 4.88039071,\n",
       "       4.37292985, 5.97675948, 3.677458  , 4.43076285, 4.3807825 ,\n",
       "       6.2943425 , 5.01375808, 5.78592503, 5.41411256, 6.10294715,\n",
       "       2.87925524, 4.17258746, 2.89453488, 6.03121081, 5.36550646,\n",
       "       5.31366521, 5.18112745, 5.81966761, 3.58023003, 6.29264232,\n",
       "       4.9591881 , 5.20021169, 6.86743017, 4.53896501, 3.84908511,\n",
       "       3.88615463, 3.78552745, 5.07292739, 5.42670957, 7.94683479,\n",
       "       4.17786626, 4.76526332, 7.78929448, 3.18363201, 6.06988739,\n",
       "       5.35669678, 4.40886158, 7.27063945, 7.42469904, 6.23727231,\n",
       "       5.55188508, 5.4724006 , 3.38702859, 5.53920954, 2.91338947,\n",
       "       5.09041823, 5.69637692, 3.79223024, 5.08922011, 3.69307382,\n",
       "       3.96265638, 5.9025726 , 4.80119765, 5.23741447, 5.19640441,\n",
       "       4.69472983, 5.77559935, 4.45982774, 5.51385375, 4.28524405,\n",
       "       6.30737332, 3.56563392, 6.09436   , 4.15697287, 4.80387066,\n",
       "       4.41281461, 4.82943956, 5.11569065, 4.95497703, 5.69362028,\n",
       "       6.72997633, 5.44515432, 5.21610232, 5.86331578, 6.24411121,\n",
       "       4.75642319, 6.05379783, 5.95362013, 7.25364817, 6.88034407,\n",
       "       5.05595243, 5.9445807 , 4.46420868, 5.15033104, 4.8346397 ,\n",
       "       5.51590845, 4.74071067, 4.72641088, 6.3988576 , 4.77401209,\n",
       "       4.86739196, 4.52135855, 4.01843047, 2.50736058, 3.57420254,\n",
       "       6.12544084, 4.27050888, 5.491516  , 5.26763341, 3.08713604,\n",
       "       3.70142082, 5.42461257, 3.5781035 , 4.84274532, 6.92136322,\n",
       "       5.03222704, 5.27683145, 7.04874772, 5.66730229, 4.3234503 ,\n",
       "       4.13785703, 4.47087021, 5.07564793, 5.06606705, 5.39368554,\n",
       "       5.75765111, 5.2197451 , 5.43755131, 6.10088872, 3.08911662,\n",
       "       3.24607628, 4.06558943, 5.88242019, 4.99368274, 3.45811632,\n",
       "       5.99363199, 4.62401413, 5.6189    , 5.00867631, 3.7793288 ,\n",
       "       4.2035255 , 5.0123207 , 4.89590423, 5.23577837, 4.86372391,\n",
       "       4.6548373 , 5.41181232, 4.39248165, 7.54435857, 5.63374452,\n",
       "       4.46687105, 5.45126482, 5.38909479, 4.62175233, 5.32250226,\n",
       "       5.05607347, 5.95050903, 5.51610369, 4.83445092, 3.90885582,\n",
       "       3.25908698, 4.26437879, 4.795617  , 3.69389888, 5.57373791,\n",
       "       5.40042397, 5.01630352, 4.55203077, 4.20047498, 5.80789876,\n",
       "       5.24454614, 4.16913128, 4.10405165, 6.43299248, 5.92817386,\n",
       "       3.81127108, 4.80420858, 7.28554299, 4.56832168, 3.513918  ,\n",
       "       4.91167631, 5.58545372, 3.20001563, 5.18433752, 6.07615763,\n",
       "       6.01230787, 4.80661422, 4.87553893, 4.56607186, 5.33073645,\n",
       "       4.99373137, 6.22928415, 4.95600314, 5.210058  , 6.50226636,\n",
       "       5.70410028, 5.24140273, 7.07056294, 5.07914853, 5.37407981,\n",
       "       3.19467675, 4.19562147, 4.24147386, 4.23108544, 3.99112105,\n",
       "       4.72888921, 5.50774908, 5.21666181, 5.73746813, 5.78824867,\n",
       "       3.53402921, 6.01372253, 3.67672106, 4.41795284, 4.75067791,\n",
       "       4.28917479, 4.46620753, 4.60770102, 5.32970716, 4.87124469,\n",
       "       5.82659938, 5.59727107, 4.15723166, 5.3617934 , 4.91767881,\n",
       "       6.87794465, 3.06515009, 2.70817653, 4.43899379, 4.52151572,\n",
       "       6.59912956, 4.26877433, 5.2131253 , 4.41612531, 6.3296062 ,\n",
       "       5.2598301 , 4.13561657, 4.24795247, 5.06330054, 5.20232625,\n",
       "       6.00549617, 3.82526039, 4.06033311, 4.25743848, 4.5585065 ,\n",
       "       3.69644173, 5.20655061, 2.98225689, 4.96083705, 4.39317246,\n",
       "       6.82560614, 4.52034582, 4.79833735, 4.86361747, 5.23054158,\n",
       "       5.50459658, 3.87201165, 4.10592071, 5.19930234, 4.17336166,\n",
       "       5.18404374, 6.32113339, 4.65282118, 4.98097586, 4.74060238,\n",
       "       4.99562405, 6.70649453, 5.77396863, 5.29053927, 4.7223287 ,\n",
       "       5.2349531 , 4.81690127, 6.30964331, 2.57646858, 2.96262407,\n",
       "       4.89698588, 6.63120157, 3.96464226, 4.2932764 , 4.5178226 ,\n",
       "       5.47642695, 5.95828264, 5.8412679 , 4.46110888, 6.17310937,\n",
       "       6.74052027, 4.53407117, 6.06365577, 5.27645849, 5.1573418 ,\n",
       "       4.3419547 , 4.64611991, 5.43784166, 4.66726537, 4.49154272,\n",
       "       5.62276381, 4.93804907, 4.64404737, 5.25290563, 5.14723055,\n",
       "       4.51316708, 3.47256852, 6.18675635, 4.67164027, 3.57121767,\n",
       "       4.78779113, 4.44662835, 5.06092101, 4.59657177, 5.50152231,\n",
       "       5.93878724, 4.43764245, 4.56238632, 2.87870036, 6.1124141 ,\n",
       "       4.37951061, 5.87612824, 4.13811128, 4.65822463, 5.17522551,\n",
       "       4.10206418, 3.05018242, 4.40617654, 6.92118133, 3.84646855,\n",
       "       4.8137013 , 6.00012087, 5.81782514, 3.5475907 , 3.86293963,\n",
       "       5.82385326, 2.85142167, 4.53690603, 4.99766435, 6.2401609 ,\n",
       "       4.19696652, 5.0237006 , 6.5561574 , 4.83207765, 4.81959744,\n",
       "       4.79685367, 5.97944023, 5.46522909, 4.20700817, 4.74102463,\n",
       "       5.21158895, 3.68350992, 5.98855027, 4.4850321 , 4.13782175,\n",
       "       5.41114353, 5.12812366, 6.34740445, 5.33412754, 5.76012289,\n",
       "       5.14137321, 5.84921899, 4.68154239, 6.02997258, 5.21766422,\n",
       "       4.78612002, 6.27250403, 3.29573718, 4.60016847, 3.89136405,\n",
       "       4.53038007, 4.86527408, 5.14670345, 5.60956326, 5.66467453,\n",
       "       4.64253989, 3.79760089, 6.03378229, 3.42037906, 6.16129634,\n",
       "       6.5567045 , 4.56960183, 3.51575923, 5.35796068, 5.5224175 ,\n",
       "       6.3013487 , 4.78061012, 5.55876492, 5.71896423, 3.93470331,\n",
       "       4.24564514, 3.64917113, 5.00441427, 4.31315014, 8.12039957,\n",
       "       3.8115224 , 6.80980097, 6.44563335, 4.50492249, 6.23299452,\n",
       "       6.378149  , 5.25019707, 6.70816053, 5.13884403, 5.56553633,\n",
       "       5.31190943, 4.22961156, 6.59983105, 5.57138859, 5.0143983 ,\n",
       "       4.58794594, 5.80185299, 6.5244182 , 5.17329369, 3.84631687,\n",
       "       5.71256016, 5.71182   , 3.91699895, 4.34257732, 4.99714454,\n",
       "       6.60594784, 5.21011831, 5.08000815, 5.12990751, 5.95578653,\n",
       "       4.91955533, 5.16287157, 5.47143772, 5.64455188, 4.35522694,\n",
       "       5.11290345, 4.0267466 , 5.34681479, 6.36367928, 5.75812335,\n",
       "       5.46465656, 4.00653918, 6.00615017, 5.41081412, 5.3677239 ,\n",
       "       6.37792202, 5.34910759, 5.30888024, 6.81483527, 5.56638431,\n",
       "       3.79013786, 5.30298672, 5.4020223 , 6.38348438, 5.742678  ,\n",
       "       5.00924483, 6.66145753, 6.80647692, 4.20863226, 3.42859688,\n",
       "       4.06312536, 3.6110291 , 4.61127781, 4.63826952, 3.63275744,\n",
       "       5.59107163, 4.51209573, 5.45592607, 4.9605929 , 5.23426577,\n",
       "       5.75419932, 4.73781474, 5.34379047, 5.25363319, 3.35755194,\n",
       "       5.74323583, 5.85544507, 4.71420312, 4.92045769, 4.7699379 ,\n",
       "       6.11735909, 4.10350294, 6.47390879, 5.02565612, 5.54209319,\n",
       "       4.08883208, 4.47085751, 4.76621744, 3.56652764, 5.41866112,\n",
       "       4.87189076, 6.47267204, 4.09344924, 5.41864915, 3.25747666,\n",
       "       3.38330939, 3.47877071, 5.10301454, 4.49574359, 4.82107798,\n",
       "       5.41910335, 5.59540868, 3.9822884 , 6.48935735, 5.18161851,\n",
       "       3.36087475, 5.53893302, 4.80265315, 4.97944122, 4.87314322,\n",
       "       4.29961245, 5.6768517 , 4.33325558, 3.59818443, 6.90344748,\n",
       "       5.1726545 , 4.03612282, 3.96901268, 4.04558617, 4.84838473,\n",
       "       3.4630278 , 3.70554074, 4.30740916, 3.62067516, 5.31897332,\n",
       "       4.97799433, 3.98507082, 5.88000454, 4.70063762, 6.86111393,\n",
       "       5.3553276 , 5.14748413, 6.00165867, 4.26695763, 5.83527088,\n",
       "       3.04598046, 6.71812596, 6.04676186, 4.62923109, 3.42522224,\n",
       "       6.94735684, 4.89697272, 4.7343399 , 4.84946873, 4.32822394,\n",
       "       4.55573416, 5.09628105, 5.88871364, 6.26715032, 2.97822215,\n",
       "       6.60326437, 5.22064008, 4.96608976, 4.93735293, 4.1907603 ,\n",
       "       5.54822313, 4.80304729, 3.74284094, 4.48305474, 4.14246676,\n",
       "       5.57369863, 4.11411007, 7.27703236, 5.28988385, 4.22713991,\n",
       "       5.35116453, 6.15658676, 4.71009589, 4.62583867, 5.89372244,\n",
       "       5.13727201, 2.33581731, 5.21656298, 6.77585569, 4.41238104,\n",
       "       3.04789749, 4.63390258, 5.12400934, 5.57656007, 5.96909836,\n",
       "       3.95404684, 6.65294997, 4.17784591, 2.73628987, 2.85254148,\n",
       "       5.29987609, 3.95931489, 4.98585101, 6.08952235, 3.59440574,\n",
       "       4.27490848, 3.72021241, 4.7329328 , 6.00954115, 3.85295791,\n",
       "       4.49248769, 5.00850995, 5.11265885, 4.15735689, 3.66912318,\n",
       "       2.71649535, 6.1931235 , 4.69183358, 6.34189583, 5.33469079,\n",
       "       6.49827675, 5.97791788, 5.39532429, 5.77192828, 3.61002346,\n",
       "       4.22387247, 5.57736633, 3.62823877, 3.82610915, 4.53041016,\n",
       "       1.94634545, 6.13810446, 6.51606656, 3.94016873, 3.68681304,\n",
       "       4.67620704, 6.99470395, 2.84254502, 4.36299967, 6.88474941,\n",
       "       4.27705465, 5.85991107, 5.34691418, 5.90027614, 5.23166108,\n",
       "       5.25857004, 5.15517144, 4.34074985, 6.01997608, 5.977616  ,\n",
       "       5.28190938, 6.34036947, 5.94455091, 4.8944573 , 5.49894591,\n",
       "       5.40223542, 5.41276459, 7.22474337, 4.13686934, 4.68538444,\n",
       "       5.65240583, 4.84001085, 5.21491978, 5.53857757, 3.51878917,\n",
       "       4.15060086, 3.50487679, 3.98025969, 4.79831443, 4.34914862,\n",
       "       5.52162085, 5.71469114, 5.37517159, 3.72361921, 4.37952294,\n",
       "       4.56279933, 4.64333907, 4.37726251, 3.73357863, 7.02670929,\n",
       "       4.52234976, 5.54522508, 5.21072598, 3.85770875, 5.24563919,\n",
       "       4.72447187, 6.01091416, 5.28324675, 5.79133794, 3.58243562,\n",
       "       4.63929405, 4.96799324, 5.51413008, 5.27432175, 6.64074431,\n",
       "       3.46629048, 5.38553609, 5.00207723, 4.04364293, 5.60428986,\n",
       "       5.44292039, 4.78358406, 5.12415513, 5.45003357, 3.97447299,\n",
       "       4.08742523, 4.91399311, 5.21386206, 5.47979382, 4.85521424,\n",
       "       6.18215466, 3.74411536, 4.79589244, 4.26523955, 3.23468457,\n",
       "       3.47321663, 3.9664678 , 4.7349618 , 4.76371201, 4.58576365,\n",
       "       5.05344816, 5.05149884, 4.60340466, 4.81592693, 4.9320039 ])"
      ]
     },
     "execution_count": 294,
     "metadata": {},
     "output_type": "execute_result"
    }
   ],
   "source": [
    "dat"
   ]
  },
  {
   "cell_type": "code",
   "execution_count": 276,
   "metadata": {},
   "outputs": [
    {
     "name": "stdout",
     "output_type": "stream",
     "text": [
      "0.4522 0.44739999999999996\n"
     ]
    }
   ],
   "source": [
    "print(np.array(x_list).mean(), np.array(auto_list).mean())"
   ]
  },
  {
   "cell_type": "code",
   "execution_count": null,
   "metadata": {},
   "outputs": [],
   "source": [
    "greater+var"
   ]
  },
  {
   "cell_type": "code",
   "execution_count": 204,
   "metadata": {},
   "outputs": [
    {
     "data": {
      "text/plain": [
       "0.466"
      ]
     },
     "execution_count": 204,
     "metadata": {},
     "output_type": "execute_result"
    }
   ],
   "source": [
    "greater_var.mean()"
   ]
  },
  {
   "cell_type": "code",
   "execution_count": 162,
   "metadata": {
    "nbpresent": {
     "id": "bb70fec2-17bd-4783-a2b8-30ccaa0adbb1"
    }
   },
   "outputs": [
    {
     "data": {
      "text/plain": [
       "0.021739130434782608"
      ]
     },
     "execution_count": 162,
     "metadata": {},
     "output_type": "execute_result"
    }
   ],
   "source": [
    "1/46"
   ]
  },
  {
   "cell_type": "code",
   "execution_count": null,
   "metadata": {
    "nbpresent": {
     "id": "8a522df1-1ae2-4e4b-b6c9-eb78b8ddd2ad"
    }
   },
   "outputs": [],
   "source": []
  },
  {
   "cell_type": "code",
   "execution_count": null,
   "metadata": {
    "nbpresent": {
     "id": "650d7472-2a7e-42f2-be20-0e40afae5886"
    }
   },
   "outputs": [],
   "source": []
  },
  {
   "cell_type": "code",
   "execution_count": null,
   "metadata": {
    "nbpresent": {
     "id": "cd4d5ddb-caa8-4143-8276-f1f3d05b0d8c"
    }
   },
   "outputs": [],
   "source": []
  },
  {
   "cell_type": "code",
   "execution_count": 53,
   "metadata": {
    "nbpresent": {
     "id": "3eef51b9-9d2e-433a-8aa8-a9e2270e782f"
    }
   },
   "outputs": [
    {
     "data": {
      "text/plain": [
       "(1, 229)"
      ]
     },
     "execution_count": 53,
     "metadata": {},
     "output_type": "execute_result"
    }
   ],
   "source": [
    "var.shape"
   ]
  },
  {
   "cell_type": "code",
   "execution_count": null,
   "metadata": {
    "nbpresent": {
     "id": "8be2b566-8d5b-4bff-b306-77d1bd4a0bdd"
    }
   },
   "outputs": [],
   "source": []
  },
  {
   "cell_type": "code",
   "execution_count": null,
   "metadata": {
    "nbpresent": {
     "id": "989e40c9-1508-4354-b5d3-cb0f8b9fbf5a"
    }
   },
   "outputs": [],
   "source": []
  },
  {
   "cell_type": "code",
   "execution_count": null,
   "metadata": {},
   "outputs": [],
   "source": []
  },
  {
   "cell_type": "code",
   "execution_count": null,
   "metadata": {},
   "outputs": [],
   "source": []
  },
  {
   "cell_type": "code",
   "execution_count": null,
   "metadata": {},
   "outputs": [],
   "source": []
  },
  {
   "cell_type": "code",
   "execution_count": null,
   "metadata": {},
   "outputs": [],
   "source": []
  },
  {
   "cell_type": "code",
   "execution_count": null,
   "metadata": {},
   "outputs": [],
   "source": []
  },
  {
   "cell_type": "markdown",
   "metadata": {},
   "source": [
    "### SCRATCH - for implementing permutation test"
   ]
  },
  {
   "cell_type": "code",
   "execution_count": 10,
   "metadata": {},
   "outputs": [
    {
     "data": {
      "text/plain": [
       "CD14+ Monocytes - 1326_1326      2189\n",
       "CD14+ Monocytes - 1558_1558      1630\n",
       "CD14+ Monocytes - 1414_1414      1554\n",
       "CD14+ Monocytes - 1602_1602      1483\n",
       "CD4 T cells - 1602_1602          1125\n",
       "CD4 T cells - 1558_1558          1113\n",
       "CD4 T cells - 1414_1414           873\n",
       "CD8 T cells - 1326_1326           812\n",
       "CD8 T cells - 1602_1602           616\n",
       "CD4 T cells - 1326_1326           526\n",
       "FCGR3A+ Monocytes - 1558_1558     489\n",
       "FCGR3A+ Monocytes - 1414_1414     445\n",
       "CD8 T cells - 1414_1414           388\n",
       "NK cells - 1558_1558              378\n",
       "B cells - 1602_1602               363\n",
       "NK cells - 1414_1414              359\n",
       "CD8 T cells - 1558_1558           324\n",
       "NK cells - 1602_1602              323\n",
       "FCGR3A+ Monocytes - 1602_1602     314\n",
       "NK cells - 1326_1326              287\n",
       "FCGR3A+ Monocytes - 1326_1326     277\n",
       "B cells - 1414_1414               210\n",
       "B cells - 1326_1326               194\n",
       "B cells - 1558_1558               155\n",
       "Dendritic cells - 1326_1326       147\n",
       "Dendritic cells - 1414_1414       109\n",
       "Megakaryocytes - 1414_1414         90\n",
       "Megakaryocytes - 1326_1326         86\n",
       "Megakaryocytes - 1602_1602         81\n",
       "Megakaryocytes - 1558_1558         68\n",
       "Dendritic cells - 1602_1602        58\n",
       "Dendritic cells - 1558_1558        51\n",
       "Name: ct_ind, dtype: int64"
      ]
     },
     "execution_count": 10,
     "metadata": {},
     "output_type": "execute_result"
    }
   ],
   "source": [
    "adata.obs['ct_ind'].value_counts()"
   ]
  },
  {
   "cell_type": "code",
   "execution_count": 11,
   "metadata": {},
   "outputs": [
    {
     "data": {
      "text/plain": [
       "(17117, 1801)"
      ]
     },
     "execution_count": 11,
     "metadata": {},
     "output_type": "execute_result"
    }
   ],
   "source": [
    "adata.shape"
   ]
  },
  {
   "cell_type": "code",
   "execution_count": 12,
   "metadata": {},
   "outputs": [],
   "source": [
    "group1 = 'CD14+ Monocytes - 1558_1558'\n",
    "group2 = 'CD4 T cells - 1558_1558'"
   ]
  },
  {
   "cell_type": "code",
   "execution_count": 71,
   "metadata": {},
   "outputs": [],
   "source": [
    "data = adata.X.toarray()"
   ]
  },
  {
   "cell_type": "code",
   "execution_count": 73,
   "metadata": {},
   "outputs": [],
   "source": [
    "num_cells = data.shape[0]\n",
    "repeat_num = 10"
   ]
  },
  {
   "cell_type": "code",
   "execution_count": 69,
   "metadata": {},
   "outputs": [],
   "source": [
    "def permute_compute(data, N_1, N_2):\n",
    "    \n",
    "    idx = np.random.permutation(N_1 + N_2)\n",
    "    null_1 = data[idx[:N_1], :]\n",
    "    null_2 = data[idx[:N_2], :]\n",
    "    return \\\n",
    "        (null_1.mean(axis=0), \n",
    "        np.cov(null_1), \n",
    "        null_2.mean(axis=0),\n",
    "        np.cov(null_2))"
   ]
  },
  {
   "cell_type": "code",
   "execution_count": 76,
   "metadata": {},
   "outputs": [
    {
     "name": "stdout",
     "output_type": "stream",
     "text": [
      "93.00139021873474\n"
     ]
    }
   ],
   "source": [
    "N_1 = 10000#(adata.obs['ct_ind'] == group1).values.sum()\n",
    "N_2 = data.shape[0] - N_1#(adata.obs['ct_ind'] == group2).values.sum()\n",
    "start = time.time()\n",
    "wide_data1 = [permute_compute(data, N_1, N_2) for i in range(repeat_num)]\n",
    "#wide_data1 = sparse.hstack([data[np.random.permutation(num_cells), :].T for i in range(repeat_num)])\n",
    "print(time.time()-start)"
   ]
  },
  {
   "cell_type": "code",
   "execution_count": null,
   "metadata": {},
   "outputs": [],
   "source": []
  },
  {
   "cell_type": "code",
   "execution_count": 35,
   "metadata": {},
   "outputs": [
    {
     "name": "stdout",
     "output_type": "stream",
     "text": [
      "6.193097829818726\n"
     ]
    }
   ],
   "source": [
    "start = time.time()\n",
    "indices = np.concatenate([np.random.permutation(num_cells) for i in range(repeat_num)])#.reshape((-1, num_cells))\n",
    "rep_data = data[indices, :]\n",
    "wide_data = sparse.hstack([rep_data[(i*num_cells):((i+1)*num_cells), :] for i in range(repeat_num)])\n",
    "print(time.time()-start)"
   ]
  },
  {
   "cell_type": "code",
   "execution_count": 572,
   "metadata": {},
   "outputs": [
    {
     "data": {
      "text/plain": [
       "(2743000, 1801)"
      ]
     },
     "execution_count": 572,
     "metadata": {},
     "output_type": "execute_result"
    }
   ],
   "source": [
    "rep_data.shape"
   ]
  },
  {
   "cell_type": "code",
   "execution_count": 556,
   "metadata": {},
   "outputs": [
    {
     "data": {
      "text/plain": [
       "(2743000, 1801)"
      ]
     },
     "execution_count": 556,
     "metadata": {},
     "output_type": "execute_result"
    }
   ],
   "source": [
    "rep_data.shape"
   ]
  },
  {
   "cell_type": "code",
   "execution_count": 585,
   "metadata": {},
   "outputs": [
    {
     "data": {
      "text/plain": [
       "2.851038376490275"
      ]
     },
     "execution_count": 585,
     "metadata": {},
     "output_type": "execute_result"
    }
   ],
   "source": [
    "1.710623025894165*100/60"
   ]
  },
  {
   "cell_type": "code",
   "execution_count": null,
   "metadata": {},
   "outputs": [],
   "source": []
  },
  {
   "cell_type": "code",
   "execution_count": 560,
   "metadata": {},
   "outputs": [],
   "source": [
    "example_data = np.array([[1, 2, 3], [4, 5, 6], [7, 8, 9]])"
   ]
  },
  {
   "cell_type": "code",
   "execution_count": 586,
   "metadata": {},
   "outputs": [],
   "source": [
    "example_rep_data = example_data[[0, 1, 2, 0, 1, 2], :]"
   ]
  },
  {
   "cell_type": "code",
   "execution_count": 593,
   "metadata": {},
   "outputs": [
    {
     "data": {
      "text/plain": [
       "array([[1, 2, 3],\n",
       "       [4, 5, 6],\n",
       "       [7, 8, 9],\n",
       "       [1, 2, 3],\n",
       "       [4, 5, 6],\n",
       "       [7, 8, 9]])"
      ]
     },
     "execution_count": 593,
     "metadata": {},
     "output_type": "execute_result"
    }
   ],
   "source": [
    "example_rep_data"
   ]
  },
  {
   "cell_type": "code",
   "execution_count": 592,
   "metadata": {},
   "outputs": [
    {
     "data": {
      "text/plain": [
       "array([[1, 2, 3, 4, 5, 6],\n",
       "       [7, 8, 9, 1, 2, 3],\n",
       "       [4, 5, 6, 7, 8, 9]])"
      ]
     },
     "execution_count": 592,
     "metadata": {},
     "output_type": "execute_result"
    }
   ],
   "source": [
    "example_rep_data.reshape((3, -1))"
   ]
  },
  {
   "cell_type": "code",
   "execution_count": 579,
   "metadata": {
    "collapsed": true
   },
   "outputs": [
    {
     "ename": "ValueError",
     "evalue": "bad axis1 argument to swapaxes",
     "output_type": "error",
     "traceback": [
      "\u001b[0;31m---------------------------------------------------------------------\u001b[0m",
      "\u001b[0;31mAttributeError\u001b[0m                      Traceback (most recent call last)",
      "\u001b[0;32m/anaconda3/envs/scvi/lib/python3.6/site-packages/numpy/core/fromnumeric.py\u001b[0m in \u001b[0;36m_wrapfunc\u001b[0;34m(obj, method, *args, **kwds)\u001b[0m\n\u001b[1;32m     51\u001b[0m     \u001b[0;32mtry\u001b[0m\u001b[0;34m:\u001b[0m\u001b[0;34m\u001b[0m\u001b[0;34m\u001b[0m\u001b[0m\n\u001b[0;32m---> 52\u001b[0;31m         \u001b[0;32mreturn\u001b[0m \u001b[0mgetattr\u001b[0m\u001b[0;34m(\u001b[0m\u001b[0mobj\u001b[0m\u001b[0;34m,\u001b[0m \u001b[0mmethod\u001b[0m\u001b[0;34m)\u001b[0m\u001b[0;34m(\u001b[0m\u001b[0;34m*\u001b[0m\u001b[0margs\u001b[0m\u001b[0;34m,\u001b[0m \u001b[0;34m**\u001b[0m\u001b[0mkwds\u001b[0m\u001b[0;34m)\u001b[0m\u001b[0;34m\u001b[0m\u001b[0;34m\u001b[0m\u001b[0m\n\u001b[0m\u001b[1;32m     53\u001b[0m \u001b[0;34m\u001b[0m\u001b[0m\n",
      "\u001b[0;32m/anaconda3/envs/scvi/lib/python3.6/site-packages/scipy/sparse/base.py\u001b[0m in \u001b[0;36m__getattr__\u001b[0;34m(self, attr)\u001b[0m\n\u001b[1;32m    685\u001b[0m         \u001b[0;32melse\u001b[0m\u001b[0;34m:\u001b[0m\u001b[0;34m\u001b[0m\u001b[0;34m\u001b[0m\u001b[0m\n\u001b[0;32m--> 686\u001b[0;31m             \u001b[0;32mraise\u001b[0m \u001b[0mAttributeError\u001b[0m\u001b[0;34m(\u001b[0m\u001b[0mattr\u001b[0m \u001b[0;34m+\u001b[0m \u001b[0;34m\" not found\"\u001b[0m\u001b[0;34m)\u001b[0m\u001b[0;34m\u001b[0m\u001b[0;34m\u001b[0m\u001b[0m\n\u001b[0m\u001b[1;32m    687\u001b[0m \u001b[0;34m\u001b[0m\u001b[0m\n",
      "\u001b[0;31mAttributeError\u001b[0m: swapaxes not found",
      "\nDuring handling of the above exception, another exception occurred:\n",
      "\u001b[0;31mValueError\u001b[0m                          Traceback (most recent call last)",
      "\u001b[0;32m<ipython-input-579-cc3b23f7f241>\u001b[0m in \u001b[0;36m<module>\u001b[0;34m()\u001b[0m\n\u001b[0;32m----> 1\u001b[0;31m \u001b[0mnp\u001b[0m\u001b[0;34m.\u001b[0m\u001b[0msplit\u001b[0m\u001b[0;34m(\u001b[0m\u001b[0mrep_data\u001b[0m\u001b[0;34m,\u001b[0m \u001b[0mrepeat_num\u001b[0m\u001b[0;34m)\u001b[0m\u001b[0;34m\u001b[0m\u001b[0;34m\u001b[0m\u001b[0m\n\u001b[0m",
      "\u001b[0;32m/anaconda3/envs/scvi/lib/python3.6/site-packages/numpy/lib/shape_base.py\u001b[0m in \u001b[0;36msplit\u001b[0;34m(ary, indices_or_sections, axis)\u001b[0m\n\u001b[1;32m    558\u001b[0m             raise ValueError(\n\u001b[1;32m    559\u001b[0m                 'array split does not result in an equal division')\n\u001b[0;32m--> 560\u001b[0;31m     \u001b[0mres\u001b[0m \u001b[0;34m=\u001b[0m \u001b[0marray_split\u001b[0m\u001b[0;34m(\u001b[0m\u001b[0mary\u001b[0m\u001b[0;34m,\u001b[0m \u001b[0mindices_or_sections\u001b[0m\u001b[0;34m,\u001b[0m \u001b[0maxis\u001b[0m\u001b[0;34m)\u001b[0m\u001b[0;34m\u001b[0m\u001b[0;34m\u001b[0m\u001b[0m\n\u001b[0m\u001b[1;32m    561\u001b[0m     \u001b[0;32mreturn\u001b[0m \u001b[0mres\u001b[0m\u001b[0;34m\u001b[0m\u001b[0;34m\u001b[0m\u001b[0m\n\u001b[1;32m    562\u001b[0m \u001b[0;34m\u001b[0m\u001b[0m\n",
      "\u001b[0;32m/anaconda3/envs/scvi/lib/python3.6/site-packages/numpy/lib/shape_base.py\u001b[0m in \u001b[0;36marray_split\u001b[0;34m(ary, indices_or_sections, axis)\u001b[0m\n\u001b[1;32m    475\u001b[0m \u001b[0;34m\u001b[0m\u001b[0m\n\u001b[1;32m    476\u001b[0m     \u001b[0msub_arys\u001b[0m \u001b[0;34m=\u001b[0m \u001b[0;34m[\u001b[0m\u001b[0;34m]\u001b[0m\u001b[0;34m\u001b[0m\u001b[0;34m\u001b[0m\u001b[0m\n\u001b[0;32m--> 477\u001b[0;31m     \u001b[0msary\u001b[0m \u001b[0;34m=\u001b[0m \u001b[0m_nx\u001b[0m\u001b[0;34m.\u001b[0m\u001b[0mswapaxes\u001b[0m\u001b[0;34m(\u001b[0m\u001b[0mary\u001b[0m\u001b[0;34m,\u001b[0m \u001b[0maxis\u001b[0m\u001b[0;34m,\u001b[0m \u001b[0;36m0\u001b[0m\u001b[0;34m)\u001b[0m\u001b[0;34m\u001b[0m\u001b[0;34m\u001b[0m\u001b[0m\n\u001b[0m\u001b[1;32m    478\u001b[0m     \u001b[0;32mfor\u001b[0m \u001b[0mi\u001b[0m \u001b[0;32min\u001b[0m \u001b[0mrange\u001b[0m\u001b[0;34m(\u001b[0m\u001b[0mNsections\u001b[0m\u001b[0;34m)\u001b[0m\u001b[0;34m:\u001b[0m\u001b[0;34m\u001b[0m\u001b[0;34m\u001b[0m\u001b[0m\n\u001b[1;32m    479\u001b[0m         \u001b[0mst\u001b[0m \u001b[0;34m=\u001b[0m \u001b[0mdiv_points\u001b[0m\u001b[0;34m[\u001b[0m\u001b[0mi\u001b[0m\u001b[0;34m]\u001b[0m\u001b[0;34m\u001b[0m\u001b[0;34m\u001b[0m\u001b[0m\n",
      "\u001b[0;32m/anaconda3/envs/scvi/lib/python3.6/site-packages/numpy/core/fromnumeric.py\u001b[0m in \u001b[0;36mswapaxes\u001b[0;34m(a, axis1, axis2)\u001b[0m\n\u001b[1;32m    524\u001b[0m \u001b[0;34m\u001b[0m\u001b[0m\n\u001b[1;32m    525\u001b[0m     \"\"\"\n\u001b[0;32m--> 526\u001b[0;31m     \u001b[0;32mreturn\u001b[0m \u001b[0m_wrapfunc\u001b[0m\u001b[0;34m(\u001b[0m\u001b[0ma\u001b[0m\u001b[0;34m,\u001b[0m \u001b[0;34m'swapaxes'\u001b[0m\u001b[0;34m,\u001b[0m \u001b[0maxis1\u001b[0m\u001b[0;34m,\u001b[0m \u001b[0maxis2\u001b[0m\u001b[0;34m)\u001b[0m\u001b[0;34m\u001b[0m\u001b[0;34m\u001b[0m\u001b[0m\n\u001b[0m\u001b[1;32m    527\u001b[0m \u001b[0;34m\u001b[0m\u001b[0m\n\u001b[1;32m    528\u001b[0m \u001b[0;34m\u001b[0m\u001b[0m\n",
      "\u001b[0;32m/anaconda3/envs/scvi/lib/python3.6/site-packages/numpy/core/fromnumeric.py\u001b[0m in \u001b[0;36m_wrapfunc\u001b[0;34m(obj, method, *args, **kwds)\u001b[0m\n\u001b[1;32m     60\u001b[0m     \u001b[0;31m# a downstream library like 'pandas'.\u001b[0m\u001b[0;34m\u001b[0m\u001b[0;34m\u001b[0m\u001b[0;34m\u001b[0m\u001b[0m\n\u001b[1;32m     61\u001b[0m     \u001b[0;32mexcept\u001b[0m \u001b[0;34m(\u001b[0m\u001b[0mAttributeError\u001b[0m\u001b[0;34m,\u001b[0m \u001b[0mTypeError\u001b[0m\u001b[0;34m)\u001b[0m\u001b[0;34m:\u001b[0m\u001b[0;34m\u001b[0m\u001b[0;34m\u001b[0m\u001b[0m\n\u001b[0;32m---> 62\u001b[0;31m         \u001b[0;32mreturn\u001b[0m \u001b[0m_wrapit\u001b[0m\u001b[0;34m(\u001b[0m\u001b[0mobj\u001b[0m\u001b[0;34m,\u001b[0m \u001b[0mmethod\u001b[0m\u001b[0;34m,\u001b[0m \u001b[0;34m*\u001b[0m\u001b[0margs\u001b[0m\u001b[0;34m,\u001b[0m \u001b[0;34m**\u001b[0m\u001b[0mkwds\u001b[0m\u001b[0;34m)\u001b[0m\u001b[0;34m\u001b[0m\u001b[0;34m\u001b[0m\u001b[0m\n\u001b[0m\u001b[1;32m     63\u001b[0m \u001b[0;34m\u001b[0m\u001b[0m\n\u001b[1;32m     64\u001b[0m \u001b[0;34m\u001b[0m\u001b[0m\n",
      "\u001b[0;32m/anaconda3/envs/scvi/lib/python3.6/site-packages/numpy/core/fromnumeric.py\u001b[0m in \u001b[0;36m_wrapit\u001b[0;34m(obj, method, *args, **kwds)\u001b[0m\n\u001b[1;32m     40\u001b[0m     \u001b[0;32mexcept\u001b[0m \u001b[0mAttributeError\u001b[0m\u001b[0;34m:\u001b[0m\u001b[0;34m\u001b[0m\u001b[0;34m\u001b[0m\u001b[0m\n\u001b[1;32m     41\u001b[0m         \u001b[0mwrap\u001b[0m \u001b[0;34m=\u001b[0m \u001b[0;32mNone\u001b[0m\u001b[0;34m\u001b[0m\u001b[0;34m\u001b[0m\u001b[0m\n\u001b[0;32m---> 42\u001b[0;31m     \u001b[0mresult\u001b[0m \u001b[0;34m=\u001b[0m \u001b[0mgetattr\u001b[0m\u001b[0;34m(\u001b[0m\u001b[0masarray\u001b[0m\u001b[0;34m(\u001b[0m\u001b[0mobj\u001b[0m\u001b[0;34m)\u001b[0m\u001b[0;34m,\u001b[0m \u001b[0mmethod\u001b[0m\u001b[0;34m)\u001b[0m\u001b[0;34m(\u001b[0m\u001b[0;34m*\u001b[0m\u001b[0margs\u001b[0m\u001b[0;34m,\u001b[0m \u001b[0;34m**\u001b[0m\u001b[0mkwds\u001b[0m\u001b[0;34m)\u001b[0m\u001b[0;34m\u001b[0m\u001b[0;34m\u001b[0m\u001b[0m\n\u001b[0m\u001b[1;32m     43\u001b[0m     \u001b[0;32mif\u001b[0m \u001b[0mwrap\u001b[0m\u001b[0;34m:\u001b[0m\u001b[0;34m\u001b[0m\u001b[0;34m\u001b[0m\u001b[0m\n\u001b[1;32m     44\u001b[0m         \u001b[0;32mif\u001b[0m \u001b[0;32mnot\u001b[0m \u001b[0misinstance\u001b[0m\u001b[0;34m(\u001b[0m\u001b[0mresult\u001b[0m\u001b[0;34m,\u001b[0m \u001b[0mmu\u001b[0m\u001b[0;34m.\u001b[0m\u001b[0mndarray\u001b[0m\u001b[0;34m)\u001b[0m\u001b[0;34m:\u001b[0m\u001b[0;34m\u001b[0m\u001b[0;34m\u001b[0m\u001b[0m\n",
      "\u001b[0;31mValueError\u001b[0m: bad axis1 argument to swapaxes"
     ]
    }
   ],
   "source": [
    "np.split(rep_data, repeat_num)"
   ]
  },
  {
   "cell_type": "code",
   "execution_count": 571,
   "metadata": {
    "collapsed": true
   },
   "outputs": [
    {
     "ename": "ValueError",
     "evalue": "bad axis1 argument to swapaxes",
     "output_type": "error",
     "traceback": [
      "\u001b[0;31m---------------------------------------------------------------------\u001b[0m",
      "\u001b[0;31mAttributeError\u001b[0m                      Traceback (most recent call last)",
      "\u001b[0;32m/anaconda3/envs/scvi/lib/python3.6/site-packages/numpy/core/fromnumeric.py\u001b[0m in \u001b[0;36m_wrapfunc\u001b[0;34m(obj, method, *args, **kwds)\u001b[0m\n\u001b[1;32m     51\u001b[0m     \u001b[0;32mtry\u001b[0m\u001b[0;34m:\u001b[0m\u001b[0;34m\u001b[0m\u001b[0;34m\u001b[0m\u001b[0m\n\u001b[0;32m---> 52\u001b[0;31m         \u001b[0;32mreturn\u001b[0m \u001b[0mgetattr\u001b[0m\u001b[0;34m(\u001b[0m\u001b[0mobj\u001b[0m\u001b[0;34m,\u001b[0m \u001b[0mmethod\u001b[0m\u001b[0;34m)\u001b[0m\u001b[0;34m(\u001b[0m\u001b[0;34m*\u001b[0m\u001b[0margs\u001b[0m\u001b[0;34m,\u001b[0m \u001b[0;34m**\u001b[0m\u001b[0mkwds\u001b[0m\u001b[0;34m)\u001b[0m\u001b[0;34m\u001b[0m\u001b[0;34m\u001b[0m\u001b[0m\n\u001b[0m\u001b[1;32m     53\u001b[0m \u001b[0;34m\u001b[0m\u001b[0m\n",
      "\u001b[0;32m/anaconda3/envs/scvi/lib/python3.6/site-packages/scipy/sparse/base.py\u001b[0m in \u001b[0;36m__getattr__\u001b[0;34m(self, attr)\u001b[0m\n\u001b[1;32m    685\u001b[0m         \u001b[0;32melse\u001b[0m\u001b[0;34m:\u001b[0m\u001b[0;34m\u001b[0m\u001b[0;34m\u001b[0m\u001b[0m\n\u001b[0;32m--> 686\u001b[0;31m             \u001b[0;32mraise\u001b[0m \u001b[0mAttributeError\u001b[0m\u001b[0;34m(\u001b[0m\u001b[0mattr\u001b[0m \u001b[0;34m+\u001b[0m \u001b[0;34m\" not found\"\u001b[0m\u001b[0;34m)\u001b[0m\u001b[0;34m\u001b[0m\u001b[0;34m\u001b[0m\u001b[0m\n\u001b[0m\u001b[1;32m    687\u001b[0m \u001b[0;34m\u001b[0m\u001b[0m\n",
      "\u001b[0;31mAttributeError\u001b[0m: swapaxes not found",
      "\nDuring handling of the above exception, another exception occurred:\n",
      "\u001b[0;31mValueError\u001b[0m                          Traceback (most recent call last)",
      "\u001b[0;32m<ipython-input-571-1478629ec686>\u001b[0m in \u001b[0;36m<module>\u001b[0;34m()\u001b[0m\n\u001b[0;32m----> 1\u001b[0;31m \u001b[0mnp\u001b[0m\u001b[0;34m.\u001b[0m\u001b[0mhstack\u001b[0m\u001b[0;34m(\u001b[0m\u001b[0mnp\u001b[0m\u001b[0;34m.\u001b[0m\u001b[0msplit\u001b[0m\u001b[0;34m(\u001b[0m\u001b[0mrep_data\u001b[0m\u001b[0;34m,\u001b[0m \u001b[0mrepeat_num\u001b[0m\u001b[0;34m)\u001b[0m\u001b[0;34m)\u001b[0m\u001b[0;34m\u001b[0m\u001b[0;34m\u001b[0m\u001b[0m\n\u001b[0m",
      "\u001b[0;32m/anaconda3/envs/scvi/lib/python3.6/site-packages/numpy/lib/shape_base.py\u001b[0m in \u001b[0;36msplit\u001b[0;34m(ary, indices_or_sections, axis)\u001b[0m\n\u001b[1;32m    558\u001b[0m             raise ValueError(\n\u001b[1;32m    559\u001b[0m                 'array split does not result in an equal division')\n\u001b[0;32m--> 560\u001b[0;31m     \u001b[0mres\u001b[0m \u001b[0;34m=\u001b[0m \u001b[0marray_split\u001b[0m\u001b[0;34m(\u001b[0m\u001b[0mary\u001b[0m\u001b[0;34m,\u001b[0m \u001b[0mindices_or_sections\u001b[0m\u001b[0;34m,\u001b[0m \u001b[0maxis\u001b[0m\u001b[0;34m)\u001b[0m\u001b[0;34m\u001b[0m\u001b[0;34m\u001b[0m\u001b[0m\n\u001b[0m\u001b[1;32m    561\u001b[0m     \u001b[0;32mreturn\u001b[0m \u001b[0mres\u001b[0m\u001b[0;34m\u001b[0m\u001b[0;34m\u001b[0m\u001b[0m\n\u001b[1;32m    562\u001b[0m \u001b[0;34m\u001b[0m\u001b[0m\n",
      "\u001b[0;32m/anaconda3/envs/scvi/lib/python3.6/site-packages/numpy/lib/shape_base.py\u001b[0m in \u001b[0;36marray_split\u001b[0;34m(ary, indices_or_sections, axis)\u001b[0m\n\u001b[1;32m    475\u001b[0m \u001b[0;34m\u001b[0m\u001b[0m\n\u001b[1;32m    476\u001b[0m     \u001b[0msub_arys\u001b[0m \u001b[0;34m=\u001b[0m \u001b[0;34m[\u001b[0m\u001b[0;34m]\u001b[0m\u001b[0;34m\u001b[0m\u001b[0;34m\u001b[0m\u001b[0m\n\u001b[0;32m--> 477\u001b[0;31m     \u001b[0msary\u001b[0m \u001b[0;34m=\u001b[0m \u001b[0m_nx\u001b[0m\u001b[0;34m.\u001b[0m\u001b[0mswapaxes\u001b[0m\u001b[0;34m(\u001b[0m\u001b[0mary\u001b[0m\u001b[0;34m,\u001b[0m \u001b[0maxis\u001b[0m\u001b[0;34m,\u001b[0m \u001b[0;36m0\u001b[0m\u001b[0;34m)\u001b[0m\u001b[0;34m\u001b[0m\u001b[0;34m\u001b[0m\u001b[0m\n\u001b[0m\u001b[1;32m    478\u001b[0m     \u001b[0;32mfor\u001b[0m \u001b[0mi\u001b[0m \u001b[0;32min\u001b[0m \u001b[0mrange\u001b[0m\u001b[0;34m(\u001b[0m\u001b[0mNsections\u001b[0m\u001b[0;34m)\u001b[0m\u001b[0;34m:\u001b[0m\u001b[0;34m\u001b[0m\u001b[0;34m\u001b[0m\u001b[0m\n\u001b[1;32m    479\u001b[0m         \u001b[0mst\u001b[0m \u001b[0;34m=\u001b[0m \u001b[0mdiv_points\u001b[0m\u001b[0;34m[\u001b[0m\u001b[0mi\u001b[0m\u001b[0;34m]\u001b[0m\u001b[0;34m\u001b[0m\u001b[0;34m\u001b[0m\u001b[0m\n",
      "\u001b[0;32m/anaconda3/envs/scvi/lib/python3.6/site-packages/numpy/core/fromnumeric.py\u001b[0m in \u001b[0;36mswapaxes\u001b[0;34m(a, axis1, axis2)\u001b[0m\n\u001b[1;32m    524\u001b[0m \u001b[0;34m\u001b[0m\u001b[0m\n\u001b[1;32m    525\u001b[0m     \"\"\"\n\u001b[0;32m--> 526\u001b[0;31m     \u001b[0;32mreturn\u001b[0m \u001b[0m_wrapfunc\u001b[0m\u001b[0;34m(\u001b[0m\u001b[0ma\u001b[0m\u001b[0;34m,\u001b[0m \u001b[0;34m'swapaxes'\u001b[0m\u001b[0;34m,\u001b[0m \u001b[0maxis1\u001b[0m\u001b[0;34m,\u001b[0m \u001b[0maxis2\u001b[0m\u001b[0;34m)\u001b[0m\u001b[0;34m\u001b[0m\u001b[0;34m\u001b[0m\u001b[0m\n\u001b[0m\u001b[1;32m    527\u001b[0m \u001b[0;34m\u001b[0m\u001b[0m\n\u001b[1;32m    528\u001b[0m \u001b[0;34m\u001b[0m\u001b[0m\n",
      "\u001b[0;32m/anaconda3/envs/scvi/lib/python3.6/site-packages/numpy/core/fromnumeric.py\u001b[0m in \u001b[0;36m_wrapfunc\u001b[0;34m(obj, method, *args, **kwds)\u001b[0m\n\u001b[1;32m     60\u001b[0m     \u001b[0;31m# a downstream library like 'pandas'.\u001b[0m\u001b[0;34m\u001b[0m\u001b[0;34m\u001b[0m\u001b[0;34m\u001b[0m\u001b[0m\n\u001b[1;32m     61\u001b[0m     \u001b[0;32mexcept\u001b[0m \u001b[0;34m(\u001b[0m\u001b[0mAttributeError\u001b[0m\u001b[0;34m,\u001b[0m \u001b[0mTypeError\u001b[0m\u001b[0;34m)\u001b[0m\u001b[0;34m:\u001b[0m\u001b[0;34m\u001b[0m\u001b[0;34m\u001b[0m\u001b[0m\n\u001b[0;32m---> 62\u001b[0;31m         \u001b[0;32mreturn\u001b[0m \u001b[0m_wrapit\u001b[0m\u001b[0;34m(\u001b[0m\u001b[0mobj\u001b[0m\u001b[0;34m,\u001b[0m \u001b[0mmethod\u001b[0m\u001b[0;34m,\u001b[0m \u001b[0;34m*\u001b[0m\u001b[0margs\u001b[0m\u001b[0;34m,\u001b[0m \u001b[0;34m**\u001b[0m\u001b[0mkwds\u001b[0m\u001b[0;34m)\u001b[0m\u001b[0;34m\u001b[0m\u001b[0;34m\u001b[0m\u001b[0m\n\u001b[0m\u001b[1;32m     63\u001b[0m \u001b[0;34m\u001b[0m\u001b[0m\n\u001b[1;32m     64\u001b[0m \u001b[0;34m\u001b[0m\u001b[0m\n",
      "\u001b[0;32m/anaconda3/envs/scvi/lib/python3.6/site-packages/numpy/core/fromnumeric.py\u001b[0m in \u001b[0;36m_wrapit\u001b[0;34m(obj, method, *args, **kwds)\u001b[0m\n\u001b[1;32m     40\u001b[0m     \u001b[0;32mexcept\u001b[0m \u001b[0mAttributeError\u001b[0m\u001b[0;34m:\u001b[0m\u001b[0;34m\u001b[0m\u001b[0;34m\u001b[0m\u001b[0m\n\u001b[1;32m     41\u001b[0m         \u001b[0mwrap\u001b[0m \u001b[0;34m=\u001b[0m \u001b[0;32mNone\u001b[0m\u001b[0;34m\u001b[0m\u001b[0;34m\u001b[0m\u001b[0m\n\u001b[0;32m---> 42\u001b[0;31m     \u001b[0mresult\u001b[0m \u001b[0;34m=\u001b[0m \u001b[0mgetattr\u001b[0m\u001b[0;34m(\u001b[0m\u001b[0masarray\u001b[0m\u001b[0;34m(\u001b[0m\u001b[0mobj\u001b[0m\u001b[0;34m)\u001b[0m\u001b[0;34m,\u001b[0m \u001b[0mmethod\u001b[0m\u001b[0;34m)\u001b[0m\u001b[0;34m(\u001b[0m\u001b[0;34m*\u001b[0m\u001b[0margs\u001b[0m\u001b[0;34m,\u001b[0m \u001b[0;34m**\u001b[0m\u001b[0mkwds\u001b[0m\u001b[0;34m)\u001b[0m\u001b[0;34m\u001b[0m\u001b[0;34m\u001b[0m\u001b[0m\n\u001b[0m\u001b[1;32m     43\u001b[0m     \u001b[0;32mif\u001b[0m \u001b[0mwrap\u001b[0m\u001b[0;34m:\u001b[0m\u001b[0;34m\u001b[0m\u001b[0;34m\u001b[0m\u001b[0m\n\u001b[1;32m     44\u001b[0m         \u001b[0;32mif\u001b[0m \u001b[0;32mnot\u001b[0m \u001b[0misinstance\u001b[0m\u001b[0;34m(\u001b[0m\u001b[0mresult\u001b[0m\u001b[0;34m,\u001b[0m \u001b[0mmu\u001b[0m\u001b[0;34m.\u001b[0m\u001b[0mndarray\u001b[0m\u001b[0;34m)\u001b[0m\u001b[0;34m:\u001b[0m\u001b[0;34m\u001b[0m\u001b[0;34m\u001b[0m\u001b[0m\n",
      "\u001b[0;31mValueError\u001b[0m: bad axis1 argument to swapaxes"
     ]
    }
   ],
   "source": [
    "np.hstack(np.split(rep_data, repeat_num))"
   ]
  },
  {
   "cell_type": "code",
   "execution_count": null,
   "metadata": {},
   "outputs": [],
   "source": []
  },
  {
   "cell_type": "code",
   "execution_count": 578,
   "metadata": {},
   "outputs": [
    {
     "data": {
      "text/plain": [
       "array([[1, 2, 3, 1, 2, 3],\n",
       "       [4, 5, 6, 4, 5, 6],\n",
       "       [7, 8, 9, 7, 8, 9]])"
      ]
     },
     "execution_count": 578,
     "metadata": {},
     "output_type": "execute_result"
    }
   ],
   "source": [
    "np.hstack(np.split(example_rep_data, 2))"
   ]
  },
  {
   "cell_type": "code",
   "execution_count": 561,
   "metadata": {},
   "outputs": [
    {
     "data": {
      "text/plain": [
       "array([[1, 2, 3],\n",
       "       [4, 5, 6],\n",
       "       [7, 8, 9]])"
      ]
     },
     "execution_count": 561,
     "metadata": {},
     "output_type": "execute_result"
    }
   ],
   "source": [
    "example_data"
   ]
  },
  {
   "cell_type": "code",
   "execution_count": null,
   "metadata": {},
   "outputs": [],
   "source": [
    "repeated_data = csr_matrix(np.ones([repeat_number,1])) * data"
   ]
  },
  {
   "cell_type": "code",
   "execution_count": 502,
   "metadata": {},
   "outputs": [],
   "source": [
    "tensor = np.tile(data, (1, 5))"
   ]
  },
  {
   "cell_type": "code",
   "execution_count": 503,
   "metadata": {},
   "outputs": [],
   "source": [
    "np.random.shuffle(tensor)"
   ]
  },
  {
   "cell_type": "code",
   "execution_count": 505,
   "metadata": {},
   "outputs": [
    {
     "data": {
      "text/plain": [
       "array([[1, 2, 3],\n",
       "       [4, 5, 6],\n",
       "       [7, 8, 9]], dtype=int64)"
      ]
     },
     "execution_count": 505,
     "metadata": {},
     "output_type": "execute_result"
    }
   ],
   "source": [
    "tensor[0, 1].toarray()"
   ]
  },
  {
   "cell_type": "code",
   "execution_count": 481,
   "metadata": {},
   "outputs": [
    {
     "data": {
      "text/plain": [
       "array([[[1, 2, 3],\n",
       "        [4, 5, 6],\n",
       "        [7, 8, 9]],\n",
       "\n",
       "       [[1, 2, 3],\n",
       "        [4, 5, 6],\n",
       "        [7, 8, 9]],\n",
       "\n",
       "       [[1, 2, 3],\n",
       "        [4, 5, 6],\n",
       "        [7, 8, 9]]])"
      ]
     },
     "execution_count": 481,
     "metadata": {},
     "output_type": "execute_result"
    }
   ],
   "source": [
    "np.tile(data, (3, 1, 1))"
   ]
  },
  {
   "cell_type": "code",
   "execution_count": 468,
   "metadata": {},
   "outputs": [
    {
     "data": {
      "text/plain": [
       "<15282x1801 sparse matrix of type '<class 'numpy.float32'>'\n",
       "\twith 5084990 stored elements in Compressed Sparse Row format>"
      ]
     },
     "execution_count": 468,
     "metadata": {},
     "output_type": "execute_result"
    }
   ],
   "source": [
    "data"
   ]
  },
  {
   "cell_type": "code",
   "execution_count": 464,
   "metadata": {},
   "outputs": [
    {
     "data": {
      "text/plain": [
       "(15282, 1801)"
      ]
     },
     "execution_count": 464,
     "metadata": {},
     "output_type": "execute_result"
    }
   ],
   "source": [
    "data.shape"
   ]
  },
  {
   "cell_type": "code",
   "execution_count": 459,
   "metadata": {},
   "outputs": [
    {
     "data": {
      "text/plain": [
       "<15282x1801 sparse matrix of type '<class 'numpy.float32'>'\n",
       "\twith 8357788 stored elements in Compressed Sparse Row format>"
      ]
     },
     "execution_count": 459,
     "metadata": {},
     "output_type": "execute_result"
    }
   ],
   "source": [
    "adata.X"
   ]
  },
  {
   "cell_type": "code",
   "execution_count": 444,
   "metadata": {},
   "outputs": [
    {
     "ename": "SyntaxError",
     "evalue": "invalid syntax (<ipython-input-444-821536766b50>, line 1)",
     "output_type": "error",
     "traceback": [
      "\u001b[0;36m  File \u001b[0;32m\"<ipython-input-444-821536766b50>\"\u001b[0;36m, line \u001b[0;32m1\u001b[0m\n\u001b[0;31m    adata.obs.\u001b[0m\n\u001b[0m              ^\u001b[0m\n\u001b[0;31mSyntaxError\u001b[0m\u001b[0;31m:\u001b[0m invalid syntax\n"
     ]
    }
   ],
   "source": [
    "adata.obs."
   ]
  }
 ],
 "metadata": {
  "kernelspec": {
   "display_name": "Python [conda env:scvi]",
   "language": "python",
   "name": "conda-env-scvi-py"
  },
  "language_info": {
   "codemirror_mode": {
    "name": "ipython",
    "version": 3
   },
   "file_extension": ".py",
   "mimetype": "text/x-python",
   "name": "python",
   "nbconvert_exporter": "python",
   "pygments_lexer": "ipython3",
   "version": "3.6.8"
  }
 },
 "nbformat": 4,
 "nbformat_minor": 2
}
