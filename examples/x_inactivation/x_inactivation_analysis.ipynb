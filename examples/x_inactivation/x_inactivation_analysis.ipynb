{
 "cells": [
  {
   "cell_type": "markdown",
   "metadata": {},
   "source": [
    "# X-Inactivation Analysis\n",
    "\n",
    "Detection of X-inactivation via differential variance"
   ]
  },
  {
   "cell_type": "code",
   "execution_count": 1,
   "metadata": {},
   "outputs": [
    {
     "name": "stderr",
     "output_type": "stream",
     "text": [
      "/anaconda3/envs/scvi/lib/python3.6/site-packages/h5py/__init__.py:36: FutureWarning: Conversion of the second argument of issubdtype from `float` to `np.floating` is deprecated. In future, it will be treated as `np.float64 == np.dtype(float).type`.\n",
      "  from ._conv import register_converters as _register_converters\n"
     ]
    }
   ],
   "source": [
    "import pandas as pd\n",
    "import matplotlib.pyplot as plt\n",
    "import scanpy.api as sc\n",
    "import scipy as sp\n",
    "import itertools\n",
    "import numpy as np\n",
    "import scipy.stats as stats\n",
    "from scipy.integrate import dblquad\n",
    "import seaborn as sns\n",
    "import imp\n",
    "import time"
   ]
  },
  {
   "cell_type": "code",
   "execution_count": 2,
   "metadata": {},
   "outputs": [],
   "source": [
    "import sys\n",
    "sys.path.append('/Users/mincheolkim/Github/scrna-parameter-estimation/simplesc')\n",
    "import simplesc"
   ]
  },
  {
   "cell_type": "code",
   "execution_count": 3,
   "metadata": {},
   "outputs": [],
   "source": [
    "data_path = '/Users/mincheolkim/Google Drive/UCSF/research/parameter_estimation/x_inactivation_data/'"
   ]
  },
  {
   "cell_type": "markdown",
   "metadata": {},
   "source": [
    "### Read Lupus dataset\n",
    "\n",
    "Output of the preprocess notebook."
   ]
  },
  {
   "cell_type": "code",
   "execution_count": 4,
   "metadata": {},
   "outputs": [],
   "source": [
    "adata = sc.read(data_path + 'clues_data.h5ad')"
   ]
  },
  {
   "cell_type": "markdown",
   "metadata": {},
   "source": [
    "### Create groups"
   ]
  },
  {
   "cell_type": "code",
   "execution_count": 6,
   "metadata": {},
   "outputs": [],
   "source": [
    "adata.obs['ct_ind'] = adata.obs['ct_cov'].astype(str) + ' - ' + adata.obs['ind_cov'].astype(str)"
   ]
  },
  {
   "cell_type": "code",
   "execution_count": 7,
   "metadata": {},
   "outputs": [],
   "source": [
    "adata.obs['ct_sex'] = adata.obs['ct_cov'].astype(str) + ' - ' + adata.obs['female'].astype(str)"
   ]
  },
  {
   "cell_type": "code",
   "execution_count": 27,
   "metadata": {},
   "outputs": [
    {
     "data": {
      "text/html": [
       "<div>\n",
       "<style scoped>\n",
       "    .dataframe tbody tr th:only-of-type {\n",
       "        vertical-align: middle;\n",
       "    }\n",
       "\n",
       "    .dataframe tbody tr th {\n",
       "        vertical-align: top;\n",
       "    }\n",
       "\n",
       "    .dataframe thead th {\n",
       "        text-align: right;\n",
       "    }\n",
       "</style>\n",
       "<table border=\"1\" class=\"dataframe\">\n",
       "  <thead>\n",
       "    <tr style=\"text-align: right;\">\n",
       "      <th></th>\n",
       "      <th>batch</th>\n",
       "      <th>batch_cov</th>\n",
       "      <th>ct_cov</th>\n",
       "      <th>disease_cov</th>\n",
       "      <th>ind_cov</th>\n",
       "      <th>pop_cov</th>\n",
       "      <th>well</th>\n",
       "      <th>female</th>\n",
       "      <th>ct_ind</th>\n",
       "      <th>ct_sex</th>\n",
       "    </tr>\n",
       "    <tr>\n",
       "      <th>index</th>\n",
       "      <th></th>\n",
       "      <th></th>\n",
       "      <th></th>\n",
       "      <th></th>\n",
       "      <th></th>\n",
       "      <th></th>\n",
       "      <th></th>\n",
       "      <th></th>\n",
       "      <th></th>\n",
       "      <th></th>\n",
       "    </tr>\n",
       "  </thead>\n",
       "  <tbody>\n",
       "    <tr>\n",
       "      <th>AAACCTGAGTGCAAGC-1-0-0-0-0-0-0-0-0-0</th>\n",
       "      <td>0</td>\n",
       "      <td>lupus8.16</td>\n",
       "      <td>CD8 T cells</td>\n",
       "      <td>sle</td>\n",
       "      <td>1597_1597</td>\n",
       "      <td>ASIAN</td>\n",
       "      <td>YE_8-16-1</td>\n",
       "      <td>1</td>\n",
       "      <td>CD8 T cells - 1597_1597</td>\n",
       "      <td>CD8 T cells - 1</td>\n",
       "    </tr>\n",
       "    <tr>\n",
       "      <th>AAACCTGCAAGGCTCC-1-0-0-0-0-0-0-0-0-0</th>\n",
       "      <td>0</td>\n",
       "      <td>lupus8.16</td>\n",
       "      <td>CD4 T cells</td>\n",
       "      <td>sle</td>\n",
       "      <td>1597_1597</td>\n",
       "      <td>ASIAN</td>\n",
       "      <td>YE_8-16-1</td>\n",
       "      <td>1</td>\n",
       "      <td>CD4 T cells - 1597_1597</td>\n",
       "      <td>CD4 T cells - 1</td>\n",
       "    </tr>\n",
       "    <tr>\n",
       "      <th>AAACCTGCACGACTCG-1-0-0-0-0-0-0-0-0-0</th>\n",
       "      <td>0</td>\n",
       "      <td>lupus8.16</td>\n",
       "      <td>CD8 T cells</td>\n",
       "      <td>sle</td>\n",
       "      <td>1597_1597</td>\n",
       "      <td>ASIAN</td>\n",
       "      <td>YE_8-16-1</td>\n",
       "      <td>1</td>\n",
       "      <td>CD8 T cells - 1597_1597</td>\n",
       "      <td>CD8 T cells - 1</td>\n",
       "    </tr>\n",
       "  </tbody>\n",
       "</table>\n",
       "</div>"
      ],
      "text/plain": [
       "                                     batch  batch_cov       ct_cov  \\\n",
       "index                                                                \n",
       "AAACCTGAGTGCAAGC-1-0-0-0-0-0-0-0-0-0     0  lupus8.16  CD8 T cells   \n",
       "AAACCTGCAAGGCTCC-1-0-0-0-0-0-0-0-0-0     0  lupus8.16  CD4 T cells   \n",
       "AAACCTGCACGACTCG-1-0-0-0-0-0-0-0-0-0     0  lupus8.16  CD8 T cells   \n",
       "\n",
       "                                     disease_cov    ind_cov pop_cov  \\\n",
       "index                                                                 \n",
       "AAACCTGAGTGCAAGC-1-0-0-0-0-0-0-0-0-0         sle  1597_1597   ASIAN   \n",
       "AAACCTGCAAGGCTCC-1-0-0-0-0-0-0-0-0-0         sle  1597_1597   ASIAN   \n",
       "AAACCTGCACGACTCG-1-0-0-0-0-0-0-0-0-0         sle  1597_1597   ASIAN   \n",
       "\n",
       "                                           well  female  \\\n",
       "index                                                     \n",
       "AAACCTGAGTGCAAGC-1-0-0-0-0-0-0-0-0-0  YE_8-16-1       1   \n",
       "AAACCTGCAAGGCTCC-1-0-0-0-0-0-0-0-0-0  YE_8-16-1       1   \n",
       "AAACCTGCACGACTCG-1-0-0-0-0-0-0-0-0-0  YE_8-16-1       1   \n",
       "\n",
       "                                                       ct_ind           ct_sex  \n",
       "index                                                                           \n",
       "AAACCTGAGTGCAAGC-1-0-0-0-0-0-0-0-0-0  CD8 T cells - 1597_1597  CD8 T cells - 1  \n",
       "AAACCTGCAAGGCTCC-1-0-0-0-0-0-0-0-0-0  CD4 T cells - 1597_1597  CD4 T cells - 1  \n",
       "AAACCTGCACGACTCG-1-0-0-0-0-0-0-0-0-0  CD8 T cells - 1597_1597  CD8 T cells - 1  "
      ]
     },
     "execution_count": 27,
     "metadata": {},
     "output_type": "execute_result"
    }
   ],
   "source": [
    "adata.obs.head(3)"
   ]
  },
  {
   "cell_type": "markdown",
   "metadata": {},
   "source": [
    "### Select individuals and cell types of interest"
   ]
  },
  {
   "cell_type": "code",
   "execution_count": 34,
   "metadata": {},
   "outputs": [
    {
     "data": {
      "text/plain": [
       "[5135, 4815, 4802, 7794, 7697, 6142]"
      ]
     },
     "execution_count": 34,
     "metadata": {},
     "output_type": "execute_result"
    }
   ],
   "source": [
    "ind_list"
   ]
  },
  {
   "cell_type": "code",
   "execution_count": 23,
   "metadata": {},
   "outputs": [],
   "source": [
    "# Top 3 males and females with the most number of cells\n",
    "ind_list = \\\n",
    "    adata.obs.query('female == \"0\"').ind_cov.value_counts().index.tolist()[:3] + \\\n",
    "    adata.obs.query('female == \"1\"').ind_cov.value_counts().index.tolist()[:3]"
   ]
  },
  {
   "cell_type": "code",
   "execution_count": 24,
   "metadata": {},
   "outputs": [],
   "source": [
    "ct_list = [\n",
    "    'CD4 T cells',\n",
    "    'B cells', \n",
    "    'CD14+ Monocytes'\n",
    "]"
   ]
  },
  {
   "cell_type": "markdown",
   "metadata": {},
   "source": [
    "### Fit model"
   ]
  },
  {
   "cell_type": "code",
   "execution_count": 25,
   "metadata": {},
   "outputs": [],
   "source": [
    "estimator = simplesc.SingleCellEstimator(adata, p=0.1, group_label='ct_ind')"
   ]
  },
  {
   "cell_type": "code",
   "execution_count": 30,
   "metadata": {},
   "outputs": [
    {
     "data": {
      "text/plain": [
       "'CD4 T cells'"
      ]
     },
     "execution_count": 30,
     "metadata": {},
     "output_type": "execute_result"
    }
   ],
   "source": [
    "ct"
   ]
  },
  {
   "cell_type": "code",
   "execution_count": 33,
   "metadata": {},
   "outputs": [
    {
     "data": {
      "text/plain": [
       "5135"
      ]
     },
     "execution_count": 33,
     "metadata": {},
     "output_type": "execute_result"
    }
   ],
   "source": [
    "ind"
   ]
  },
  {
   "cell_type": "code",
   "execution_count": 32,
   "metadata": {},
   "outputs": [
    {
     "ename": "TypeError",
     "evalue": "must be str, not int",
     "output_type": "error",
     "traceback": [
      "\u001b[0;31m-------------------------------------------------------------------\u001b[0m",
      "\u001b[0;31mTypeError\u001b[0m                         Traceback (most recent call last)",
      "\u001b[0;32m<ipython-input-32-78f89185fd3f>\u001b[0m in \u001b[0;36m<module>\u001b[0;34m()\u001b[0m\n\u001b[0;32m----> 1\u001b[0;31m \u001b[0mct\u001b[0m \u001b[0;34m+\u001b[0m \u001b[0;34m' - '\u001b[0m \u001b[0;34m+\u001b[0m \u001b[0mind\u001b[0m\u001b[0;34m\u001b[0m\u001b[0;34m\u001b[0m\u001b[0m\n\u001b[0m",
      "\u001b[0;31mTypeError\u001b[0m: must be str, not int"
     ]
    }
   ],
   "source": [
    "ct + ' - ' + ind"
   ]
  },
  {
   "cell_type": "code",
   "execution_count": 31,
   "metadata": {},
   "outputs": [
    {
     "ename": "TypeError",
     "evalue": "must be str, not int",
     "output_type": "error",
     "traceback": [
      "\u001b[0;31m-------------------------------------------------------------------\u001b[0m",
      "\u001b[0;31mTypeError\u001b[0m                         Traceback (most recent call last)",
      "\u001b[0;32m<ipython-input-31-b18ac8fba694>\u001b[0m in \u001b[0;36m<module>\u001b[0;34m()\u001b[0m\n\u001b[1;32m      1\u001b[0m \u001b[0;32mfor\u001b[0m \u001b[0mct\u001b[0m \u001b[0;32min\u001b[0m \u001b[0mct_list\u001b[0m\u001b[0;34m:\u001b[0m\u001b[0;34m\u001b[0m\u001b[0;34m\u001b[0m\u001b[0m\n\u001b[1;32m      2\u001b[0m     \u001b[0;32mfor\u001b[0m \u001b[0mind\u001b[0m \u001b[0;32min\u001b[0m \u001b[0mind_list\u001b[0m\u001b[0;34m:\u001b[0m\u001b[0;34m\u001b[0m\u001b[0;34m\u001b[0m\u001b[0m\n\u001b[0;32m----> 3\u001b[0;31m         \u001b[0mestimator\u001b[0m\u001b[0;34m.\u001b[0m\u001b[0mcompute_observed_statistics\u001b[0m\u001b[0;34m(\u001b[0m\u001b[0mgroup\u001b[0m\u001b[0;34m=\u001b[0m\u001b[0;34m(\u001b[0m\u001b[0mct\u001b[0m \u001b[0;34m+\u001b[0m \u001b[0;34m' - '\u001b[0m \u001b[0;34m+\u001b[0m \u001b[0mind\u001b[0m\u001b[0;34m)\u001b[0m\u001b[0;34m)\u001b[0m\u001b[0;34m\u001b[0m\u001b[0;34m\u001b[0m\u001b[0m\n\u001b[0m",
      "\u001b[0;31mTypeError\u001b[0m: must be str, not int"
     ]
    }
   ],
   "source": [
    "for ct in ct_list:\n",
    "    for ind in ind_list:\n",
    "        estimator.compute_observed_statistics(group=(ct + ' - ' + ind))"
   ]
  },
  {
   "cell_type": "code",
   "execution_count": null,
   "metadata": {},
   "outputs": [],
   "source": [
    "for ct, ind in itertools.estimator.compute_observed_statistics(group='CD4 T cells - ctrl')"
   ]
  }
 ],
 "metadata": {
  "kernelspec": {
   "display_name": "Python [conda env:scvi]",
   "language": "python",
   "name": "conda-env-scvi-py"
  },
  "language_info": {
   "codemirror_mode": {
    "name": "ipython",
    "version": 3
   },
   "file_extension": ".py",
   "mimetype": "text/x-python",
   "name": "python",
   "nbconvert_exporter": "python",
   "pygments_lexer": "ipython3",
   "version": "3.6.8"
  }
 },
 "nbformat": 4,
 "nbformat_minor": 2
}
