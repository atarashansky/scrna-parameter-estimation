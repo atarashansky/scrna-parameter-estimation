{
 "cells": [
  {
   "cell_type": "markdown",
   "metadata": {},
   "source": [
    "# Using `memento` to analyze Interferon-B response in monocytes\n",
    "\n",
    "To install `memento` in the pre-release version (for Ye Lab members), install it directly from github by running:\n",
    "\n",
    "```pip install git+https://github.com/yelabucsf/scrna-parameter-estimation.git@release-v0.0.2```\n",
    "\n",
    "This requires that you have access to the Ye Lab organization. "
   ]
  },
  {
   "cell_type": "code",
   "execution_count": 1,
   "metadata": {},
   "outputs": [
    {
     "name": "stderr",
     "output_type": "stream",
     "text": [
      "/data/home/anaconda3/envs/single_cell/lib/python3.7/site-packages/statsmodels/tools/_testing.py:19: FutureWarning: pandas.util.testing is deprecated. Use the functions in the public API at pandas.testing instead.\n",
      "  import pandas.util.testing as tm\n"
     ]
    }
   ],
   "source": [
    "import sys\n",
    "sys.path.append('/data/home/Github/scrna-parameter-estimation/dist/memento-0.0.1-py3.7.egg')\n",
    "import memento"
   ]
  },
  {
   "cell_type": "code",
   "execution_count": 2,
   "metadata": {},
   "outputs": [],
   "source": [
    "import scanpy as sc\n",
    "import memento"
   ]
  },
  {
   "cell_type": "code",
   "execution_count": 3,
   "metadata": {},
   "outputs": [],
   "source": [
    "fig_path = '/data/home/Github/scrna-parameter-estimation/figures/fig4/'\n",
    "data_path = '/data_volume/parameter_estimation/'"
   ]
  },
  {
   "cell_type": "markdown",
   "metadata": {},
   "source": [
    "### Read IFN data and filter for monocytes\n",
    "\n",
    "For `memento`, we need the raw count matrix. Preferrably, feed the one with all genes so that we can choose what genes to look at. \n",
    "\n",
    "One of the columns in `adata.obs` should be the discrete groups to compare mean, variability, and co-variability across. In this case, it's called `stim`. \n",
    "\n",
    "The column containing the covariate that you want p-values for should either:\n",
    "- Be binary (aka the column only contains two unique values, such as 'A' and 'B'. Here, the values are either 'stim' or 'ctrl'.\n",
    "- Be numeric (aka the column contains -1, 0, -1 for each genotype value). \n",
    "\n",
    "I recommend changing the labels to something numeric (here, i use 0 for `ctrl` and 1 for `stim`). Otherwise, the sign of the DE/EV/DC testing will be very hard to interpret."
   ]
  },
  {
   "cell_type": "code",
   "execution_count": 4,
   "metadata": {},
   "outputs": [
    {
     "name": "stdout",
     "output_type": "stream",
     "text": [
      "AnnData object with n_obs × n_vars = 5341 × 35635\n",
      "    obs: 'tsne1', 'tsne2', 'ind', 'stim', 'cluster', 'cell', 'multiplets', 'n_genes_by_counts', 'log1p_n_genes_by_counts', 'total_counts', 'log1p_total_counts', 'total_counts_mt', 'log1p_total_counts_mt', 'pct_counts_mt', 'total_counts_hb', 'log1p_total_counts_hb', 'pct_counts_hb', 'cell_type'\n",
      "    var: 'gene_ids', 'mt', 'hb', 'n_cells_by_counts', 'mean_counts', 'log1p_mean_counts', 'pct_dropout_by_counts', 'total_counts', 'log1p_total_counts'\n",
      "    uns: 'cell_type_colors'\n",
      "    obsm: 'X_tsne'\n"
     ]
    },
    {
     "name": "stderr",
     "output_type": "stream",
     "text": [
      "/data/home/anaconda3/envs/single_cell/lib/python3.7/site-packages/anndata/_core/anndata.py:1094: FutureWarning: is_categorical is deprecated and will be removed in a future version.  Use is_categorical_dtype instead\n",
      "  if not is_categorical(df_full[k]):\n"
     ]
    }
   ],
   "source": [
    "adata = sc.read(data_path + 'interferon_filtered.h5ad')\n",
    "adata = adata[adata.obs.cell == 'CD14+ Monocytes'].copy()\n",
    "print(adata)"
   ]
  },
  {
   "cell_type": "code",
   "execution_count": 5,
   "metadata": {},
   "outputs": [],
   "source": [
    "adata.obs['stim'] = adata.obs['stim'].apply(lambda x: 0 if x == 'ctrl' else 1)"
   ]
  },
  {
   "cell_type": "code",
   "execution_count": 6,
   "metadata": {},
   "outputs": [
    {
     "data": {
      "text/html": [
       "<div>\n",
       "<style scoped>\n",
       "    .dataframe tbody tr th:only-of-type {\n",
       "        vertical-align: middle;\n",
       "    }\n",
       "\n",
       "    .dataframe tbody tr th {\n",
       "        vertical-align: top;\n",
       "    }\n",
       "\n",
       "    .dataframe thead th {\n",
       "        text-align: right;\n",
       "    }\n",
       "</style>\n",
       "<table border=\"1\" class=\"dataframe\">\n",
       "  <thead>\n",
       "    <tr style=\"text-align: right;\">\n",
       "      <th></th>\n",
       "      <th>ind</th>\n",
       "      <th>stim</th>\n",
       "      <th>cell</th>\n",
       "    </tr>\n",
       "    <tr>\n",
       "      <th>index</th>\n",
       "      <th></th>\n",
       "      <th></th>\n",
       "      <th></th>\n",
       "    </tr>\n",
       "  </thead>\n",
       "  <tbody>\n",
       "    <tr>\n",
       "      <th>ACAACCGAAGCATC-1</th>\n",
       "      <td>1256</td>\n",
       "      <td>0</td>\n",
       "      <td>CD14+ Monocytes</td>\n",
       "    </tr>\n",
       "    <tr>\n",
       "      <th>GATCTTACATCACG-1</th>\n",
       "      <td>1256</td>\n",
       "      <td>0</td>\n",
       "      <td>CD14+ Monocytes</td>\n",
       "    </tr>\n",
       "    <tr>\n",
       "      <th>GCCCATACGAATGA-1</th>\n",
       "      <td>1256</td>\n",
       "      <td>0</td>\n",
       "      <td>CD14+ Monocytes</td>\n",
       "    </tr>\n",
       "    <tr>\n",
       "      <th>CAGTTACTTGAACC-1</th>\n",
       "      <td>101</td>\n",
       "      <td>0</td>\n",
       "      <td>CD14+ Monocytes</td>\n",
       "    </tr>\n",
       "    <tr>\n",
       "      <th>CCTGACTGGTCACA-1</th>\n",
       "      <td>101</td>\n",
       "      <td>0</td>\n",
       "      <td>CD14+ Monocytes</td>\n",
       "    </tr>\n",
       "  </tbody>\n",
       "</table>\n",
       "</div>"
      ],
      "text/plain": [
       "                   ind stim             cell\n",
       "index                                       \n",
       "ACAACCGAAGCATC-1  1256    0  CD14+ Monocytes\n",
       "GATCTTACATCACG-1  1256    0  CD14+ Monocytes\n",
       "GCCCATACGAATGA-1  1256    0  CD14+ Monocytes\n",
       "CAGTTACTTGAACC-1   101    0  CD14+ Monocytes\n",
       "CCTGACTGGTCACA-1   101    0  CD14+ Monocytes"
      ]
     },
     "execution_count": 6,
     "metadata": {},
     "output_type": "execute_result"
    }
   ],
   "source": [
    "adata.obs[['ind', 'stim', 'cell']].sample(5)"
   ]
  },
  {
   "cell_type": "markdown",
   "metadata": {},
   "source": [
    "### Create groups for hypothesis testing and compute 1D parameters\n",
    "\n",
    "`memento` creates groups of cells based on anything that should be considered a reasonable group; here, we just divide the cells into `stim` and `ctrl`. But we can easily further divide the cells into individuals by adding the `ind` column to the `label_columns` argument when calling `create_groups`.\n",
    "\n",
    "`q` is the rough estimate of the overall UMI efficiency across both sampling and sequencing. If `s` is the sequencing saturation, multiply `s` by 0.07 for 10X v1, 0.15 for v2, and 0.25 for v3. \n",
    "\n",
    "By default, `memento` will consider all genes whose expression is high enough to calculate an accurate variance. If you wish to include less genes, increase `filter_mean_thresh`."
   ]
  },
  {
   "cell_type": "code",
   "execution_count": 7,
   "metadata": {},
   "outputs": [],
   "source": [
    "memento.create_groups(adata, label_columns=['stim'], inplace=True, q=0.07)"
   ]
  },
  {
   "cell_type": "code",
   "execution_count": 8,
   "metadata": {},
   "outputs": [],
   "source": [
    "memento.compute_size_factors(adata)"
   ]
  },
  {
   "cell_type": "code",
   "execution_count": 9,
   "metadata": {},
   "outputs": [
    {
     "name": "stderr",
     "output_type": "stream",
     "text": [
      "/data/home/anaconda3/envs/single_cell/lib/python3.7/site-packages/anndata/_core/anndata.py:1094: FutureWarning: is_categorical is deprecated and will be removed in a future version.  Use is_categorical_dtype instead\n",
      "  if not is_categorical(df_full[k]):\n"
     ]
    }
   ],
   "source": [
    "memento.compute_1d_moments(\n",
    "    adata, \n",
    "    inplace=True, \n",
    "    filter_mean_thresh=0.07, # minimum raw mean of each gene within a group for the gene to be considered \n",
    "    min_perc_group=.9) # percentage of groups that satisfy the condition for a gene to be considered. "
   ]
  },
  {
   "cell_type": "markdown",
   "metadata": {},
   "source": [
    "### Perform 1D hypothesis testing\n",
    "\n",
    "`formula_like` determines the linear model that is used for hypothesis testing, while `cov_column` is used to pick out the variable that you actually want p-values for. \n",
    "\n",
    "`num_cpus` controls how many CPUs to parallelize this operation for. In general, I recommend using 3-6 CPUs for reasonable peformance on any of the AWS machines that we have access to (I'm currently using a c5.2xlarge instance (8 vCPUs). "
   ]
  },
  {
   "cell_type": "code",
   "execution_count": 10,
   "metadata": {},
   "outputs": [
    {
     "name": "stderr",
     "output_type": "stream",
     "text": [
      "[Parallel(n_jobs=6)]: Using backend LokyBackend with 6 concurrent workers.\n",
      "[Parallel(n_jobs=6)]: Done  38 tasks      | elapsed:    7.9s\n",
      "[Parallel(n_jobs=6)]: Done 188 tasks      | elapsed:   34.0s\n",
      "[Parallel(n_jobs=6)]: Done 438 tasks      | elapsed:  1.3min\n",
      "[Parallel(n_jobs=6)]: Done 788 tasks      | elapsed:  2.3min\n",
      "[Parallel(n_jobs=6)]: Done 1238 tasks      | elapsed:  3.6min\n",
      "[Parallel(n_jobs=6)]: Done 1788 tasks      | elapsed:  5.3min\n",
      "[Parallel(n_jobs=6)]: Done 1877 out of 1877 | elapsed:  5.5min finished\n"
     ]
    }
   ],
   "source": [
    "memento.ht_1d_moments(\n",
    "    adata, \n",
    "    formula_like='1 + stim',\n",
    "    cov_column='stim', \n",
    "    num_boot=5000, \n",
    "    verbose=1,\n",
    "    num_cpus=6)"
   ]
  },
  {
   "cell_type": "code",
   "execution_count": 11,
   "metadata": {},
   "outputs": [],
   "source": [
    "result_1d = memento.get_1d_ht_result(adata)"
   ]
  },
  {
   "cell_type": "code",
   "execution_count": 12,
   "metadata": {},
   "outputs": [
    {
     "data": {
      "text/html": [
       "<div>\n",
       "<style scoped>\n",
       "    .dataframe tbody tr th:only-of-type {\n",
       "        vertical-align: middle;\n",
       "    }\n",
       "\n",
       "    .dataframe tbody tr th {\n",
       "        vertical-align: top;\n",
       "    }\n",
       "\n",
       "    .dataframe thead th {\n",
       "        text-align: right;\n",
       "    }\n",
       "</style>\n",
       "<table border=\"1\" class=\"dataframe\">\n",
       "  <thead>\n",
       "    <tr style=\"text-align: right;\">\n",
       "      <th></th>\n",
       "      <th>gene</th>\n",
       "      <th>de_coef</th>\n",
       "      <th>de_pval</th>\n",
       "      <th>dv_coef</th>\n",
       "      <th>dv_pval</th>\n",
       "    </tr>\n",
       "  </thead>\n",
       "  <tbody>\n",
       "    <tr>\n",
       "      <th>1831</th>\n",
       "      <td>APOBEC3A</td>\n",
       "      <td>3.577028</td>\n",
       "      <td>1.498803e-21</td>\n",
       "      <td>-2.133620</td>\n",
       "      <td>2.269843e-17</td>\n",
       "    </tr>\n",
       "    <tr>\n",
       "      <th>646</th>\n",
       "      <td>PSMB9</td>\n",
       "      <td>1.322325</td>\n",
       "      <td>9.600557e-13</td>\n",
       "      <td>-1.146485</td>\n",
       "      <td>8.945763e-04</td>\n",
       "    </tr>\n",
       "    <tr>\n",
       "      <th>690</th>\n",
       "      <td>FAM26F</td>\n",
       "      <td>3.258483</td>\n",
       "      <td>7.978794e-10</td>\n",
       "      <td>-0.700244</td>\n",
       "      <td>8.400000e-03</td>\n",
       "    </tr>\n",
       "    <tr>\n",
       "      <th>1411</th>\n",
       "      <td>PSMA4</td>\n",
       "      <td>1.164044</td>\n",
       "      <td>1.703743e-09</td>\n",
       "      <td>-0.071111</td>\n",
       "      <td>6.426000e-01</td>\n",
       "    </tr>\n",
       "    <tr>\n",
       "      <th>1729</th>\n",
       "      <td>BST2</td>\n",
       "      <td>1.615706</td>\n",
       "      <td>6.621337e-09</td>\n",
       "      <td>-1.129334</td>\n",
       "      <td>9.428445e-10</td>\n",
       "    </tr>\n",
       "    <tr>\n",
       "      <th>1041</th>\n",
       "      <td>IRF7</td>\n",
       "      <td>2.078901</td>\n",
       "      <td>7.703532e-09</td>\n",
       "      <td>-0.570913</td>\n",
       "      <td>3.096727e-07</td>\n",
       "    </tr>\n",
       "    <tr>\n",
       "      <th>647</th>\n",
       "      <td>TAP1</td>\n",
       "      <td>1.210972</td>\n",
       "      <td>2.284785e-08</td>\n",
       "      <td>-0.229118</td>\n",
       "      <td>1.210000e-01</td>\n",
       "    </tr>\n",
       "    <tr>\n",
       "      <th>811</th>\n",
       "      <td>SAT1</td>\n",
       "      <td>1.162465</td>\n",
       "      <td>3.363499e-08</td>\n",
       "      <td>0.423172</td>\n",
       "      <td>6.400000e-03</td>\n",
       "    </tr>\n",
       "    <tr>\n",
       "      <th>1594</th>\n",
       "      <td>MYL12A</td>\n",
       "      <td>1.143497</td>\n",
       "      <td>3.451711e-08</td>\n",
       "      <td>-0.343865</td>\n",
       "      <td>1.680000e-02</td>\n",
       "    </tr>\n",
       "    <tr>\n",
       "      <th>1869</th>\n",
       "      <td>MX1</td>\n",
       "      <td>3.608483</td>\n",
       "      <td>3.757651e-08</td>\n",
       "      <td>-1.447122</td>\n",
       "      <td>1.440663e-09</td>\n",
       "    </tr>\n",
       "  </tbody>\n",
       "</table>\n",
       "</div>"
      ],
      "text/plain": [
       "          gene   de_coef       de_pval   dv_coef       dv_pval\n",
       "1831  APOBEC3A  3.577028  1.498803e-21 -2.133620  2.269843e-17\n",
       "646      PSMB9  1.322325  9.600557e-13 -1.146485  8.945763e-04\n",
       "690     FAM26F  3.258483  7.978794e-10 -0.700244  8.400000e-03\n",
       "1411     PSMA4  1.164044  1.703743e-09 -0.071111  6.426000e-01\n",
       "1729      BST2  1.615706  6.621337e-09 -1.129334  9.428445e-10\n",
       "1041      IRF7  2.078901  7.703532e-09 -0.570913  3.096727e-07\n",
       "647       TAP1  1.210972  2.284785e-08 -0.229118  1.210000e-01\n",
       "811       SAT1  1.162465  3.363499e-08  0.423172  6.400000e-03\n",
       "1594    MYL12A  1.143497  3.451711e-08 -0.343865  1.680000e-02\n",
       "1869       MX1  3.608483  3.757651e-08 -1.447122  1.440663e-09"
      ]
     },
     "execution_count": 12,
     "metadata": {},
     "output_type": "execute_result"
    }
   ],
   "source": [
    "result_1d.query('de_coef > 0').sort_values('de_pval').head(10)"
   ]
  },
  {
   "cell_type": "code",
   "execution_count": 13,
   "metadata": {},
   "outputs": [
    {
     "data": {
      "text/html": [
       "<div>\n",
       "<style scoped>\n",
       "    .dataframe tbody tr th:only-of-type {\n",
       "        vertical-align: middle;\n",
       "    }\n",
       "\n",
       "    .dataframe tbody tr th {\n",
       "        vertical-align: top;\n",
       "    }\n",
       "\n",
       "    .dataframe thead th {\n",
       "        text-align: right;\n",
       "    }\n",
       "</style>\n",
       "<table border=\"1\" class=\"dataframe\">\n",
       "  <thead>\n",
       "    <tr style=\"text-align: right;\">\n",
       "      <th></th>\n",
       "      <th>gene</th>\n",
       "      <th>de_coef</th>\n",
       "      <th>de_pval</th>\n",
       "      <th>dv_coef</th>\n",
       "      <th>dv_pval</th>\n",
       "    </tr>\n",
       "  </thead>\n",
       "  <tbody>\n",
       "    <tr>\n",
       "      <th>1039</th>\n",
       "      <td>IFITM3</td>\n",
       "      <td>3.393203</td>\n",
       "      <td>1.609065e-07</td>\n",
       "      <td>-3.238808</td>\n",
       "      <td>9.362033e-49</td>\n",
       "    </tr>\n",
       "    <tr>\n",
       "      <th>1527</th>\n",
       "      <td>CCL2</td>\n",
       "      <td>1.477253</td>\n",
       "      <td>4.603379e-07</td>\n",
       "      <td>-1.726231</td>\n",
       "      <td>1.072001e-38</td>\n",
       "    </tr>\n",
       "    <tr>\n",
       "      <th>1421</th>\n",
       "      <td>ISG20</td>\n",
       "      <td>3.646966</td>\n",
       "      <td>7.050450e-05</td>\n",
       "      <td>-2.904924</td>\n",
       "      <td>2.461152e-37</td>\n",
       "    </tr>\n",
       "    <tr>\n",
       "      <th>37</th>\n",
       "      <td>IFI6</td>\n",
       "      <td>2.740365</td>\n",
       "      <td>4.441463e-05</td>\n",
       "      <td>-2.210914</td>\n",
       "      <td>3.676804e-28</td>\n",
       "    </tr>\n",
       "    <tr>\n",
       "      <th>915</th>\n",
       "      <td>LY6E</td>\n",
       "      <td>3.432749</td>\n",
       "      <td>4.415746e-06</td>\n",
       "      <td>-3.242748</td>\n",
       "      <td>8.332773e-27</td>\n",
       "    </tr>\n",
       "    <tr>\n",
       "      <th>876</th>\n",
       "      <td>IDO1</td>\n",
       "      <td>3.932135</td>\n",
       "      <td>1.085957e-06</td>\n",
       "      <td>-2.093306</td>\n",
       "      <td>5.154047e-23</td>\n",
       "    </tr>\n",
       "    <tr>\n",
       "      <th>1300</th>\n",
       "      <td>PSME2</td>\n",
       "      <td>0.816086</td>\n",
       "      <td>2.851907e-06</td>\n",
       "      <td>-1.008491</td>\n",
       "      <td>1.684524e-22</td>\n",
       "    </tr>\n",
       "    <tr>\n",
       "      <th>1376</th>\n",
       "      <td>B2M</td>\n",
       "      <td>0.301481</td>\n",
       "      <td>1.179484e-04</td>\n",
       "      <td>-0.684679</td>\n",
       "      <td>1.826482e-22</td>\n",
       "    </tr>\n",
       "    <tr>\n",
       "      <th>0</th>\n",
       "      <td>ISG15</td>\n",
       "      <td>4.630542</td>\n",
       "      <td>3.331181e-07</td>\n",
       "      <td>-3.849747</td>\n",
       "      <td>1.636284e-20</td>\n",
       "    </tr>\n",
       "    <tr>\n",
       "      <th>1528</th>\n",
       "      <td>CCL7</td>\n",
       "      <td>2.127498</td>\n",
       "      <td>6.045517e-06</td>\n",
       "      <td>-1.119085</td>\n",
       "      <td>2.443399e-19</td>\n",
       "    </tr>\n",
       "  </tbody>\n",
       "</table>\n",
       "</div>"
      ],
      "text/plain": [
       "        gene   de_coef       de_pval   dv_coef       dv_pval\n",
       "1039  IFITM3  3.393203  1.609065e-07 -3.238808  9.362033e-49\n",
       "1527    CCL2  1.477253  4.603379e-07 -1.726231  1.072001e-38\n",
       "1421   ISG20  3.646966  7.050450e-05 -2.904924  2.461152e-37\n",
       "37      IFI6  2.740365  4.441463e-05 -2.210914  3.676804e-28\n",
       "915     LY6E  3.432749  4.415746e-06 -3.242748  8.332773e-27\n",
       "876     IDO1  3.932135  1.085957e-06 -2.093306  5.154047e-23\n",
       "1300   PSME2  0.816086  2.851907e-06 -1.008491  1.684524e-22\n",
       "1376     B2M  0.301481  1.179484e-04 -0.684679  1.826482e-22\n",
       "0      ISG15  4.630542  3.331181e-07 -3.849747  1.636284e-20\n",
       "1528    CCL7  2.127498  6.045517e-06 -1.119085  2.443399e-19"
      ]
     },
     "execution_count": 13,
     "metadata": {},
     "output_type": "execute_result"
    }
   ],
   "source": [
    "result_1d.sort_values('dv_pval').head(10)"
   ]
  },
  {
   "cell_type": "markdown",
   "metadata": {},
   "source": [
    "### Perform 2D hypothesis testing\n",
    "\n",
    "For differential coexpression testing, we can specify which genes you want to perform HT on. It takes a list of pairs of genes, where each element in the list is a tuple. Here, we focus on 1 transcription factor and their correlations to rest of the transcriptome. \n",
    "\n",
    "Similar to the 1D case, 2D hypothesis testing scales with the number of pairs of genes to test. If you have a smaller set of candidate genes, it will run faster."
   ]
  },
  {
   "cell_type": "code",
   "execution_count": 18,
   "metadata": {},
   "outputs": [],
   "source": [
    "import itertools"
   ]
  },
  {
   "cell_type": "code",
   "execution_count": 19,
   "metadata": {},
   "outputs": [],
   "source": [
    "gene_pairs = list(itertools.product(['IRF7'], adata.var.index.tolist()))"
   ]
  },
  {
   "cell_type": "code",
   "execution_count": 20,
   "metadata": {},
   "outputs": [],
   "source": [
    "memento.compute_2d_moments(adata, gene_pairs)"
   ]
  },
  {
   "cell_type": "code",
   "execution_count": 31,
   "metadata": {},
   "outputs": [
    {
     "name": "stderr",
     "output_type": "stream",
     "text": [
      "[Parallel(n_jobs=6)]: Using backend LokyBackend with 6 concurrent workers.\n",
      "[Parallel(n_jobs=6)]: Done  20 tasks      | elapsed:    2.8s\n",
      "[Parallel(n_jobs=6)]: Done 116 tasks      | elapsed:   14.8s\n",
      "[Parallel(n_jobs=6)]: Done 276 tasks      | elapsed:   35.9s\n",
      "[Parallel(n_jobs=6)]: Done 500 tasks      | elapsed:  1.1min\n",
      "[Parallel(n_jobs=6)]: Done 788 tasks      | elapsed:  1.7min\n",
      "[Parallel(n_jobs=6)]: Done 1140 tasks      | elapsed:  2.5min\n",
      "[Parallel(n_jobs=6)]: Done 1556 tasks      | elapsed:  3.4min\n",
      "[Parallel(n_jobs=6)]: Done 1876 out of 1876 | elapsed:  4.1min finished\n"
     ]
    }
   ],
   "source": [
    "memento.ht_2d_moments(\n",
    "    adata, \n",
    "    formula_like='1 + stim', \n",
    "    cov_column='stim', \n",
    "    num_cpus=6, \n",
    "    num_boot=5000)"
   ]
  },
  {
   "cell_type": "code",
   "execution_count": 32,
   "metadata": {},
   "outputs": [],
   "source": [
    "result_2d = memento.get_2d_ht_result(adata)"
   ]
  },
  {
   "cell_type": "code",
   "execution_count": 33,
   "metadata": {},
   "outputs": [
    {
     "data": {
      "text/html": [
       "<div>\n",
       "<style scoped>\n",
       "    .dataframe tbody tr th:only-of-type {\n",
       "        vertical-align: middle;\n",
       "    }\n",
       "\n",
       "    .dataframe tbody tr th {\n",
       "        vertical-align: top;\n",
       "    }\n",
       "\n",
       "    .dataframe thead th {\n",
       "        text-align: right;\n",
       "    }\n",
       "</style>\n",
       "<table border=\"1\" class=\"dataframe\">\n",
       "  <thead>\n",
       "    <tr style=\"text-align: right;\">\n",
       "      <th></th>\n",
       "      <th>gene_1</th>\n",
       "      <th>gene_2</th>\n",
       "      <th>corr_coef</th>\n",
       "      <th>corr_pval</th>\n",
       "      <th>corr_fdr</th>\n",
       "    </tr>\n",
       "  </thead>\n",
       "  <tbody>\n",
       "    <tr>\n",
       "      <th>574</th>\n",
       "      <td>IRF7</td>\n",
       "      <td>CD74</td>\n",
       "      <td>0.316293</td>\n",
       "      <td>0.000123</td>\n",
       "      <td>0.073478</td>\n",
       "    </tr>\n",
       "    <tr>\n",
       "      <th>1815</th>\n",
       "      <td>IRF7</td>\n",
       "      <td>SDF2L1</td>\n",
       "      <td>0.304159</td>\n",
       "      <td>0.000181</td>\n",
       "      <td>0.073478</td>\n",
       "    </tr>\n",
       "    <tr>\n",
       "      <th>104</th>\n",
       "      <td>IRF7</td>\n",
       "      <td>GCLM</td>\n",
       "      <td>0.396597</td>\n",
       "      <td>0.000283</td>\n",
       "      <td>0.073478</td>\n",
       "    </tr>\n",
       "    <tr>\n",
       "      <th>716</th>\n",
       "      <td>IRF7</td>\n",
       "      <td>ACTB</td>\n",
       "      <td>0.272642</td>\n",
       "      <td>0.000334</td>\n",
       "      <td>0.073478</td>\n",
       "    </tr>\n",
       "    <tr>\n",
       "      <th>638</th>\n",
       "      <td>IRF7</td>\n",
       "      <td>HLA-DRA</td>\n",
       "      <td>0.252754</td>\n",
       "      <td>0.000473</td>\n",
       "      <td>0.073478</td>\n",
       "    </tr>\n",
       "    <tr>\n",
       "      <th>158</th>\n",
       "      <td>IRF7</td>\n",
       "      <td>LMNA</td>\n",
       "      <td>0.306795</td>\n",
       "      <td>0.000560</td>\n",
       "      <td>0.073478</td>\n",
       "    </tr>\n",
       "    <tr>\n",
       "      <th>1108</th>\n",
       "      <td>IRF7</td>\n",
       "      <td>MALAT1</td>\n",
       "      <td>0.249095</td>\n",
       "      <td>0.000571</td>\n",
       "      <td>0.073478</td>\n",
       "    </tr>\n",
       "    <tr>\n",
       "      <th>493</th>\n",
       "      <td>IRF7</td>\n",
       "      <td>ANXA5</td>\n",
       "      <td>0.275887</td>\n",
       "      <td>0.000642</td>\n",
       "      <td>0.073478</td>\n",
       "    </tr>\n",
       "    <tr>\n",
       "      <th>211</th>\n",
       "      <td>IRF7</td>\n",
       "      <td>GPR137B</td>\n",
       "      <td>0.397522</td>\n",
       "      <td>0.000659</td>\n",
       "      <td>0.073478</td>\n",
       "    </tr>\n",
       "    <tr>\n",
       "      <th>626</th>\n",
       "      <td>IRF7</td>\n",
       "      <td>HLA-C</td>\n",
       "      <td>0.268576</td>\n",
       "      <td>0.000686</td>\n",
       "      <td>0.073478</td>\n",
       "    </tr>\n",
       "  </tbody>\n",
       "</table>\n",
       "</div>"
      ],
      "text/plain": [
       "     gene_1   gene_2  corr_coef  corr_pval  corr_fdr\n",
       "574   IRF7   CD74     0.316293   0.000123   0.073478\n",
       "1815  IRF7   SDF2L1   0.304159   0.000181   0.073478\n",
       "104   IRF7   GCLM     0.396597   0.000283   0.073478\n",
       "716   IRF7   ACTB     0.272642   0.000334   0.073478\n",
       "638   IRF7   HLA-DRA  0.252754   0.000473   0.073478\n",
       "158   IRF7   LMNA     0.306795   0.000560   0.073478\n",
       "1108  IRF7   MALAT1   0.249095   0.000571   0.073478\n",
       "493   IRF7   ANXA5    0.275887   0.000642   0.073478\n",
       "211   IRF7   GPR137B  0.397522   0.000659   0.073478\n",
       "626   IRF7   HLA-C    0.268576   0.000686   0.073478"
      ]
     },
     "execution_count": 33,
     "metadata": {},
     "output_type": "execute_result"
    }
   ],
   "source": [
    "result_2d.sort_values('corr_pval').head(10)"
   ]
  }
 ],
 "metadata": {
  "kernelspec": {
   "display_name": "Python 3",
   "language": "python",
   "name": "python3"
  },
  "language_info": {
   "codemirror_mode": {
    "name": "ipython",
    "version": 3
   },
   "file_extension": ".py",
   "mimetype": "text/x-python",
   "name": "python",
   "nbconvert_exporter": "python",
   "pygments_lexer": "ipython3",
   "version": "3.7.5"
  }
 },
 "nbformat": 4,
 "nbformat_minor": 4
}
