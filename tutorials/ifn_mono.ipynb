{
 "cells": [
  {
   "cell_type": "markdown",
   "metadata": {},
   "source": [
    "# Using `memento` to analyze Interferon-B response in monocytes\n",
    "\n",
    "To install `memento` in the pre-release version (for Ye Lab members), install it directly from github by running:\n",
    "\n",
    "```pip install git+https://github.com/yelabucsf/scrna-parameter-estimation.git@release-v0.0.3```\n",
    "\n",
    "This requires that you have access to the Ye Lab organization. "
   ]
  },
  {
   "cell_type": "code",
   "execution_count": 1,
   "metadata": {},
   "outputs": [
    {
     "ename": "ModuleNotFoundError",
     "evalue": "No module named 'estimator'",
     "output_type": "error",
     "traceback": [
      "\u001b[0;31m---------------------------------------------------------------------------\u001b[0m",
      "\u001b[0;31mModuleNotFoundError\u001b[0m                       Traceback (most recent call last)",
      "\u001b[0;32m<ipython-input-1-b1f691b34fe9>\u001b[0m in \u001b[0;36m<module>\u001b[0;34m\u001b[0m\n\u001b[1;32m      3\u001b[0m \u001b[0;32mimport\u001b[0m \u001b[0msys\u001b[0m\u001b[0;34m\u001b[0m\u001b[0;34m\u001b[0m\u001b[0m\n\u001b[1;32m      4\u001b[0m \u001b[0msys\u001b[0m\u001b[0;34m.\u001b[0m\u001b[0mpath\u001b[0m\u001b[0;34m.\u001b[0m\u001b[0mappend\u001b[0m\u001b[0;34m(\u001b[0m\u001b[0;34m'/data/home/Github/scrna-parameter-estimation/dist/memento-0.0.4-py3.7.egg'\u001b[0m\u001b[0;34m)\u001b[0m\u001b[0;34m\u001b[0m\u001b[0;34m\u001b[0m\u001b[0m\n\u001b[0;32m----> 5\u001b[0;31m \u001b[0;32mimport\u001b[0m \u001b[0mmemento\u001b[0m\u001b[0;34m\u001b[0m\u001b[0;34m\u001b[0m\u001b[0m\n\u001b[0m",
      "\u001b[0;32m/data/home/Github/scrna-parameter-estimation/dist/memento-0.0.4-py3.7.egg/memento/__init__.py\u001b[0m in \u001b[0;36m<module>\u001b[0;34m\u001b[0m\n\u001b[0;32m----> 1\u001b[0;31m \u001b[0;32mfrom\u001b[0m \u001b[0;34m.\u001b[0m\u001b[0mmain\u001b[0m \u001b[0;32mimport\u001b[0m \u001b[0msetup_memento\u001b[0m\u001b[0;34m,\u001b[0m \u001b[0mcreate_groups\u001b[0m\u001b[0;34m,\u001b[0m \u001b[0mcompute_1d_moments\u001b[0m\u001b[0;34m,\u001b[0m \u001b[0mcompute_2d_moments\u001b[0m\u001b[0;34m,\u001b[0m \u001b[0mht_1d_moments\u001b[0m\u001b[0;34m,\u001b[0m \u001b[0mht_2d_moments\u001b[0m\u001b[0;34m,\u001b[0m \u001b[0mget_1d_moments\u001b[0m\u001b[0;34m,\u001b[0m \u001b[0mget_2d_moments\u001b[0m\u001b[0;34m,\u001b[0m \u001b[0mget_1d_ht_result\u001b[0m\u001b[0;34m,\u001b[0m \u001b[0mget_2d_ht_result\u001b[0m\u001b[0;34m,\u001b[0m \u001b[0mprepare_to_save\u001b[0m\u001b[0;34m\u001b[0m\u001b[0;34m\u001b[0m\u001b[0m\n\u001b[0m",
      "\u001b[0;32m/data/home/Github/scrna-parameter-estimation/dist/memento-0.0.4-py3.7.egg/memento/main.py\u001b[0m in \u001b[0;36m<module>\u001b[0;34m\u001b[0m\n\u001b[1;32m     17\u001b[0m \u001b[0;34m\u001b[0m\u001b[0m\n\u001b[1;32m     18\u001b[0m \u001b[0;32mimport\u001b[0m \u001b[0mmemento\u001b[0m\u001b[0;34m.\u001b[0m\u001b[0mbootstrap\u001b[0m\u001b[0;34m\u001b[0m\u001b[0;34m\u001b[0m\u001b[0m\n\u001b[0;32m---> 19\u001b[0;31m \u001b[0;32mimport\u001b[0m \u001b[0mestimator\u001b[0m\u001b[0;34m\u001b[0m\u001b[0;34m\u001b[0m\u001b[0m\n\u001b[0m\u001b[1;32m     20\u001b[0m \u001b[0;32mimport\u001b[0m \u001b[0mhypothesis_test\u001b[0m\u001b[0;34m\u001b[0m\u001b[0;34m\u001b[0m\u001b[0m\n\u001b[1;32m     21\u001b[0m \u001b[0;32mimport\u001b[0m \u001b[0mutil\u001b[0m\u001b[0;34m\u001b[0m\u001b[0;34m\u001b[0m\u001b[0m\n",
      "\u001b[0;31mModuleNotFoundError\u001b[0m: No module named 'estimator'"
     ]
    }
   ],
   "source": [
    "# This is only for development purposes\n",
    "\n",
    "import sys\n",
    "sys.path.append('/data/home/Github/scrna-parameter-estimation/dist/memento-0.0.4-py3.7.egg')\n",
    "import memento"
   ]
  },
  {
   "cell_type": "code",
   "execution_count": 2,
   "metadata": {},
   "outputs": [
    {
     "name": "stderr",
     "output_type": "stream",
     "text": [
      "\n",
      "Bad key \"text.kerning_factor\" on line 4 in\n",
      "/data/home/anaconda3/envs/single_cell/lib/python3.7/site-packages/matplotlib/mpl-data/stylelib/_classic_test_patch.mplstyle.\n",
      "You probably need to get an updated matplotlibrc file from\n",
      "https://github.com/matplotlib/matplotlib/blob/v3.1.3/matplotlibrc.template\n",
      "or from the matplotlib source distribution\n"
     ]
    },
    {
     "ename": "ModuleNotFoundError",
     "evalue": "No module named 'bootstrap'",
     "output_type": "error",
     "traceback": [
      "\u001b[0;31m---------------------------------------------------------------------------\u001b[0m",
      "\u001b[0;31mModuleNotFoundError\u001b[0m                       Traceback (most recent call last)",
      "\u001b[0;32m<ipython-input-2-4a4f5e0dbd25>\u001b[0m in \u001b[0;36m<module>\u001b[0;34m\u001b[0m\n\u001b[1;32m      1\u001b[0m \u001b[0;32mimport\u001b[0m \u001b[0mscanpy\u001b[0m \u001b[0;32mas\u001b[0m \u001b[0msc\u001b[0m\u001b[0;34m\u001b[0m\u001b[0;34m\u001b[0m\u001b[0m\n\u001b[0;32m----> 2\u001b[0;31m \u001b[0;32mimport\u001b[0m \u001b[0mmemento\u001b[0m\u001b[0;34m\u001b[0m\u001b[0;34m\u001b[0m\u001b[0m\n\u001b[0m",
      "\u001b[0;32m/data/home/Github/scrna-parameter-estimation/dist/memento-0.0.4-py3.7.egg/memento/__init__.py\u001b[0m in \u001b[0;36m<module>\u001b[0;34m\u001b[0m\n\u001b[0;32m----> 1\u001b[0;31m \u001b[0;32mfrom\u001b[0m \u001b[0;34m.\u001b[0m\u001b[0mmain\u001b[0m \u001b[0;32mimport\u001b[0m \u001b[0msetup_memento\u001b[0m\u001b[0;34m,\u001b[0m \u001b[0mcreate_groups\u001b[0m\u001b[0;34m,\u001b[0m \u001b[0mcompute_1d_moments\u001b[0m\u001b[0;34m,\u001b[0m \u001b[0mcompute_2d_moments\u001b[0m\u001b[0;34m,\u001b[0m \u001b[0mht_1d_moments\u001b[0m\u001b[0;34m,\u001b[0m \u001b[0mht_2d_moments\u001b[0m\u001b[0;34m,\u001b[0m \u001b[0mget_1d_moments\u001b[0m\u001b[0;34m,\u001b[0m \u001b[0mget_2d_moments\u001b[0m\u001b[0;34m,\u001b[0m \u001b[0mget_1d_ht_result\u001b[0m\u001b[0;34m,\u001b[0m \u001b[0mget_2d_ht_result\u001b[0m\u001b[0;34m,\u001b[0m \u001b[0mprepare_to_save\u001b[0m\u001b[0;34m\u001b[0m\u001b[0;34m\u001b[0m\u001b[0m\n\u001b[0m",
      "\u001b[0;32m/data/home/Github/scrna-parameter-estimation/dist/memento-0.0.4-py3.7.egg/memento/main.py\u001b[0m in \u001b[0;36m<module>\u001b[0;34m\u001b[0m\n\u001b[1;32m     16\u001b[0m \u001b[0;32mimport\u001b[0m \u001b[0mlogging\u001b[0m\u001b[0;34m\u001b[0m\u001b[0;34m\u001b[0m\u001b[0m\n\u001b[1;32m     17\u001b[0m \u001b[0;34m\u001b[0m\u001b[0m\n\u001b[0;32m---> 18\u001b[0;31m \u001b[0;32mimport\u001b[0m \u001b[0mbootstrap\u001b[0m\u001b[0;34m\u001b[0m\u001b[0;34m\u001b[0m\u001b[0m\n\u001b[0m\u001b[1;32m     19\u001b[0m \u001b[0;32mimport\u001b[0m \u001b[0mestimator\u001b[0m\u001b[0;34m\u001b[0m\u001b[0;34m\u001b[0m\u001b[0m\n\u001b[1;32m     20\u001b[0m \u001b[0;32mimport\u001b[0m \u001b[0mhypothesis_test\u001b[0m\u001b[0;34m\u001b[0m\u001b[0;34m\u001b[0m\u001b[0m\n",
      "\u001b[0;31mModuleNotFoundError\u001b[0m: No module named 'bootstrap'"
     ]
    }
   ],
   "source": [
    "import scanpy as sc\n",
    "import memento"
   ]
  },
  {
   "cell_type": "code",
   "execution_count": 3,
   "metadata": {},
   "outputs": [],
   "source": [
    "fig_path = '/data/home/Github/scrna-parameter-estimation/figures/fig4/'\n",
    "data_path = '/data_volume/parameter_estimation/'"
   ]
  },
  {
   "cell_type": "code",
   "execution_count": 4,
   "metadata": {},
   "outputs": [],
   "source": [
    "import pickle as pkl"
   ]
  },
  {
   "cell_type": "markdown",
   "metadata": {},
   "source": [
    "### Read IFN data and filter for monocytes\n",
    "\n",
    "For `memento`, we need the raw count matrix. Preferrably, feed the one with all genes so that we can choose what genes to look at. \n",
    "\n",
    "One of the columns in `adata.obs` should be the discrete groups to compare mean, variability, and co-variability across. In this case, it's called `stim`. \n",
    "\n",
    "The column containing the covariate that you want p-values for should either:\n",
    "- Be binary (aka the column only contains two unique values, such as 'A' and 'B'. Here, the values are either 'stim' or 'ctrl'.\n",
    "- Be numeric (aka the column contains -1, 0, -1 for each genotype value). \n",
    "\n",
    "I recommend changing the labels to something numeric (here, i use 0 for `ctrl` and 1 for `stim`). Otherwise, the sign of the DE/EV/DC testing will be very hard to interpret."
   ]
  },
  {
   "cell_type": "code",
   "execution_count": 8,
   "metadata": {},
   "outputs": [
    {
     "name": "stdout",
     "output_type": "stream",
     "text": [
      "AnnData object with n_obs × n_vars = 5341 × 35635\n",
      "    obs: 'tsne1', 'tsne2', 'ind', 'stim', 'cluster', 'cell', 'multiplets', 'n_genes_by_counts', 'log1p_n_genes_by_counts', 'total_counts', 'log1p_total_counts', 'total_counts_mt', 'log1p_total_counts_mt', 'pct_counts_mt', 'total_counts_hb', 'log1p_total_counts_hb', 'pct_counts_hb', 'cell_type'\n",
      "    var: 'gene_ids', 'mt', 'hb', 'n_cells_by_counts', 'mean_counts', 'log1p_mean_counts', 'pct_dropout_by_counts', 'total_counts', 'log1p_total_counts'\n",
      "    uns: 'cell_type_colors'\n",
      "    obsm: 'X_tsne'\n"
     ]
    }
   ],
   "source": [
    "adata = sc.read(data_path + 'interferon_filtered.h5ad')\n",
    "adata = adata[adata.obs.cell == 'CD14+ Monocytes'].copy()\n",
    "print(adata)"
   ]
  },
  {
   "cell_type": "code",
   "execution_count": 9,
   "metadata": {},
   "outputs": [],
   "source": [
    "adata.obs['stim'] = adata.obs['stim'].apply(lambda x: 0 if x == 'ctrl' else 1)"
   ]
  },
  {
   "cell_type": "code",
   "execution_count": 10,
   "metadata": {},
   "outputs": [
    {
     "data": {
      "text/html": [
       "<div>\n",
       "<style scoped>\n",
       "    .dataframe tbody tr th:only-of-type {\n",
       "        vertical-align: middle;\n",
       "    }\n",
       "\n",
       "    .dataframe tbody tr th {\n",
       "        vertical-align: top;\n",
       "    }\n",
       "\n",
       "    .dataframe thead th {\n",
       "        text-align: right;\n",
       "    }\n",
       "</style>\n",
       "<table border=\"1\" class=\"dataframe\">\n",
       "  <thead>\n",
       "    <tr style=\"text-align: right;\">\n",
       "      <th></th>\n",
       "      <th>ind</th>\n",
       "      <th>stim</th>\n",
       "      <th>cell</th>\n",
       "    </tr>\n",
       "    <tr>\n",
       "      <th>index</th>\n",
       "      <th></th>\n",
       "      <th></th>\n",
       "      <th></th>\n",
       "    </tr>\n",
       "  </thead>\n",
       "  <tbody>\n",
       "    <tr>\n",
       "      <th>AATCCGGAAGCAAA-1</th>\n",
       "      <td>1015</td>\n",
       "      <td>1</td>\n",
       "      <td>CD14+ Monocytes</td>\n",
       "    </tr>\n",
       "    <tr>\n",
       "      <th>ACGATTCTCACCAA-1</th>\n",
       "      <td>1015</td>\n",
       "      <td>1</td>\n",
       "      <td>CD14+ Monocytes</td>\n",
       "    </tr>\n",
       "    <tr>\n",
       "      <th>CGGCACGACTACCC-1</th>\n",
       "      <td>1256</td>\n",
       "      <td>1</td>\n",
       "      <td>CD14+ Monocytes</td>\n",
       "    </tr>\n",
       "    <tr>\n",
       "      <th>AGCATCGAACTCAG-1</th>\n",
       "      <td>1016</td>\n",
       "      <td>1</td>\n",
       "      <td>CD14+ Monocytes</td>\n",
       "    </tr>\n",
       "    <tr>\n",
       "      <th>CGTACCACAAAGTG-1</th>\n",
       "      <td>1256</td>\n",
       "      <td>1</td>\n",
       "      <td>CD14+ Monocytes</td>\n",
       "    </tr>\n",
       "  </tbody>\n",
       "</table>\n",
       "</div>"
      ],
      "text/plain": [
       "                   ind stim             cell\n",
       "index                                       \n",
       "AATCCGGAAGCAAA-1  1015    1  CD14+ Monocytes\n",
       "ACGATTCTCACCAA-1  1015    1  CD14+ Monocytes\n",
       "CGGCACGACTACCC-1  1256    1  CD14+ Monocytes\n",
       "AGCATCGAACTCAG-1  1016    1  CD14+ Monocytes\n",
       "CGTACCACAAAGTG-1  1256    1  CD14+ Monocytes"
      ]
     },
     "execution_count": 10,
     "metadata": {},
     "output_type": "execute_result"
    }
   ],
   "source": [
    "adata.obs[['ind', 'stim', 'cell']].sample(5)"
   ]
  },
  {
   "cell_type": "markdown",
   "metadata": {},
   "source": [
    "### Create groups for hypothesis testing and compute 1D parameters\n",
    "\n",
    "`memento` creates groups of cells based on anything that should be considered a reasonable group; here, we just divide the cells into `stim` and `ctrl`. But we can easily further divide the cells into individuals by adding the `ind` column to the `label_columns` argument when calling `create_groups`.\n",
    "\n",
    "Values in the `q_column` is the rough estimate of the overall UMI efficiency across both sampling and sequencing. If `s` is the sequencing saturation, multiply `s` by 0.07 for 10X v1, 0.15 for v2, and 0.25 for v3. This allows you to enter different numbers for each batch, which likely have different saturation numbers. This will NOT account for wildly different sequencing scenarios.\n",
    "\n",
    "By default, `memento` will consider all genes whose expression is high enough to calculate an accurate variance. If you wish to include less genes, increase `filter_mean_thresh`."
   ]
  },
  {
   "cell_type": "code",
   "execution_count": 11,
   "metadata": {},
   "outputs": [],
   "source": [
    "adata.obs['capture_rate'] = 0.07\n",
    "memento.setup_memento(adata, q_column='capture_rate')"
   ]
  },
  {
   "cell_type": "code",
   "execution_count": 12,
   "metadata": {},
   "outputs": [],
   "source": [
    "memento.create_groups(adata, label_columns=['stim'])"
   ]
  },
  {
   "cell_type": "code",
   "execution_count": 13,
   "metadata": {},
   "outputs": [],
   "source": [
    "memento.compute_1d_moments(adata,\n",
    "    min_perc_group=.9) # percentage of groups that satisfy the condition for a gene to be considered. "
   ]
  },
  {
   "cell_type": "markdown",
   "metadata": {},
   "source": [
    "### Perform 1D hypothesis testing\n",
    "\n",
    "`formula_like` determines the linear model that is used for hypothesis testing, while `cov_column` is used to pick out the variable that you actually want p-values for. \n",
    "\n",
    "`num_cpus` controls how many CPUs to parallelize this operation for. In general, I recommend using 3-6 CPUs for reasonable peformance on any of the AWS machines that we have access to (I'm currently using a c5.2xlarge instance (8 vCPUs). "
   ]
  },
  {
   "cell_type": "code",
   "execution_count": 11,
   "metadata": {},
   "outputs": [
    {
     "name": "stderr",
     "output_type": "stream",
     "text": [
      "[Parallel(n_jobs=6)]: Using backend LokyBackend with 6 concurrent workers.\n",
      "[Parallel(n_jobs=6)]: Done  38 tasks      | elapsed:    2.9s\n",
      "[Parallel(n_jobs=6)]: Done 188 tasks      | elapsed:    7.5s\n",
      "[Parallel(n_jobs=6)]: Done 438 tasks      | elapsed:   14.8s\n",
      "[Parallel(n_jobs=6)]: Done 788 tasks      | elapsed:   25.6s\n",
      "[Parallel(n_jobs=6)]: Done 1238 tasks      | elapsed:   40.1s\n",
      "[Parallel(n_jobs=6)]: Done 1788 tasks      | elapsed:   57.4s\n",
      "[Parallel(n_jobs=6)]: Done 1877 out of 1877 | elapsed:  1.0min finished\n"
     ]
    }
   ],
   "source": [
    "memento.ht_1d_moments(\n",
    "    adata, \n",
    "    formula_like='1 + stim',\n",
    "    cov_column='stim', \n",
    "    num_boot=5000, \n",
    "    verbose=1,\n",
    "    num_cpus=6)"
   ]
  },
  {
   "cell_type": "code",
   "execution_count": 12,
   "metadata": {},
   "outputs": [],
   "source": [
    "result_1d = memento.get_1d_ht_result(adata)"
   ]
  },
  {
   "cell_type": "code",
   "execution_count": 13,
   "metadata": {},
   "outputs": [
    {
     "data": {
      "text/html": [
       "<div>\n",
       "<style scoped>\n",
       "    .dataframe tbody tr th:only-of-type {\n",
       "        vertical-align: middle;\n",
       "    }\n",
       "\n",
       "    .dataframe tbody tr th {\n",
       "        vertical-align: top;\n",
       "    }\n",
       "\n",
       "    .dataframe thead th {\n",
       "        text-align: right;\n",
       "    }\n",
       "</style>\n",
       "<table border=\"1\" class=\"dataframe\">\n",
       "  <thead>\n",
       "    <tr style=\"text-align: right;\">\n",
       "      <th></th>\n",
       "      <th>gene</th>\n",
       "      <th>de_coef</th>\n",
       "      <th>de_pval</th>\n",
       "      <th>dv_coef</th>\n",
       "      <th>dv_pval</th>\n",
       "    </tr>\n",
       "  </thead>\n",
       "  <tbody>\n",
       "    <tr>\n",
       "      <th>1527</th>\n",
       "      <td>CCL2</td>\n",
       "      <td>1.480777</td>\n",
       "      <td>6.327806e-10</td>\n",
       "      <td>-1.792969</td>\n",
       "      <td>3.574865e-43</td>\n",
       "    </tr>\n",
       "    <tr>\n",
       "      <th>602</th>\n",
       "      <td>SERPINB9</td>\n",
       "      <td>1.053970</td>\n",
       "      <td>6.670234e-10</td>\n",
       "      <td>-0.070163</td>\n",
       "      <td>8.366000e-01</td>\n",
       "    </tr>\n",
       "    <tr>\n",
       "      <th>37</th>\n",
       "      <td>IFI6</td>\n",
       "      <td>2.743425</td>\n",
       "      <td>1.467053e-08</td>\n",
       "      <td>-2.228537</td>\n",
       "      <td>8.010761e-20</td>\n",
       "    </tr>\n",
       "    <tr>\n",
       "      <th>455</th>\n",
       "      <td>LAP3</td>\n",
       "      <td>1.667709</td>\n",
       "      <td>2.446649e-08</td>\n",
       "      <td>-1.012301</td>\n",
       "      <td>2.533813e-06</td>\n",
       "    </tr>\n",
       "    <tr>\n",
       "      <th>1831</th>\n",
       "      <td>APOBEC3A</td>\n",
       "      <td>3.580056</td>\n",
       "      <td>3.398756e-08</td>\n",
       "      <td>-2.219382</td>\n",
       "      <td>8.198190e-17</td>\n",
       "    </tr>\n",
       "    <tr>\n",
       "      <th>1594</th>\n",
       "      <td>MYL12A</td>\n",
       "      <td>1.146715</td>\n",
       "      <td>3.889374e-08</td>\n",
       "      <td>-0.307194</td>\n",
       "      <td>7.200000e-03</td>\n",
       "    </tr>\n",
       "    <tr>\n",
       "      <th>0</th>\n",
       "      <td>ISG15</td>\n",
       "      <td>4.633936</td>\n",
       "      <td>6.150075e-08</td>\n",
       "      <td>-4.411395</td>\n",
       "      <td>1.155646e-26</td>\n",
       "    </tr>\n",
       "    <tr>\n",
       "      <th>1165</th>\n",
       "      <td>CLEC2B</td>\n",
       "      <td>0.912022</td>\n",
       "      <td>6.680043e-08</td>\n",
       "      <td>-0.159225</td>\n",
       "      <td>5.968000e-01</td>\n",
       "    </tr>\n",
       "    <tr>\n",
       "      <th>472</th>\n",
       "      <td>CXCL10</td>\n",
       "      <td>5.641742</td>\n",
       "      <td>7.403303e-08</td>\n",
       "      <td>-4.737284</td>\n",
       "      <td>6.209386e-16</td>\n",
       "    </tr>\n",
       "    <tr>\n",
       "      <th>1771</th>\n",
       "      <td>NAPA</td>\n",
       "      <td>1.410677</td>\n",
       "      <td>7.991084e-08</td>\n",
       "      <td>-0.486402</td>\n",
       "      <td>1.740000e-01</td>\n",
       "    </tr>\n",
       "  </tbody>\n",
       "</table>\n",
       "</div>"
      ],
      "text/plain": [
       "          gene   de_coef       de_pval   dv_coef       dv_pval\n",
       "1527      CCL2  1.480777  6.327806e-10 -1.792969  3.574865e-43\n",
       "602   SERPINB9  1.053970  6.670234e-10 -0.070163  8.366000e-01\n",
       "37        IFI6  2.743425  1.467053e-08 -2.228537  8.010761e-20\n",
       "455       LAP3  1.667709  2.446649e-08 -1.012301  2.533813e-06\n",
       "1831  APOBEC3A  3.580056  3.398756e-08 -2.219382  8.198190e-17\n",
       "1594    MYL12A  1.146715  3.889374e-08 -0.307194  7.200000e-03\n",
       "0        ISG15  4.633936  6.150075e-08 -4.411395  1.155646e-26\n",
       "1165    CLEC2B  0.912022  6.680043e-08 -0.159225  5.968000e-01\n",
       "472     CXCL10  5.641742  7.403303e-08 -4.737284  6.209386e-16\n",
       "1771      NAPA  1.410677  7.991084e-08 -0.486402  1.740000e-01"
      ]
     },
     "execution_count": 13,
     "metadata": {},
     "output_type": "execute_result"
    }
   ],
   "source": [
    "result_1d.query('de_coef > 0').sort_values('de_pval').head(10)"
   ]
  },
  {
   "cell_type": "code",
   "execution_count": 14,
   "metadata": {},
   "outputs": [
    {
     "data": {
      "text/html": [
       "<div>\n",
       "<style scoped>\n",
       "    .dataframe tbody tr th:only-of-type {\n",
       "        vertical-align: middle;\n",
       "    }\n",
       "\n",
       "    .dataframe tbody tr th {\n",
       "        vertical-align: top;\n",
       "    }\n",
       "\n",
       "    .dataframe thead th {\n",
       "        text-align: right;\n",
       "    }\n",
       "</style>\n",
       "<table border=\"1\" class=\"dataframe\">\n",
       "  <thead>\n",
       "    <tr style=\"text-align: right;\">\n",
       "      <th></th>\n",
       "      <th>gene</th>\n",
       "      <th>de_coef</th>\n",
       "      <th>de_pval</th>\n",
       "      <th>dv_coef</th>\n",
       "      <th>dv_pval</th>\n",
       "    </tr>\n",
       "  </thead>\n",
       "  <tbody>\n",
       "    <tr>\n",
       "      <th>1529</th>\n",
       "      <td>CCL8</td>\n",
       "      <td>5.955085</td>\n",
       "      <td>3.755407e-06</td>\n",
       "      <td>-4.213191</td>\n",
       "      <td>2.752558e-49</td>\n",
       "    </tr>\n",
       "    <tr>\n",
       "      <th>1527</th>\n",
       "      <td>CCL2</td>\n",
       "      <td>1.480777</td>\n",
       "      <td>6.327806e-10</td>\n",
       "      <td>-1.792969</td>\n",
       "      <td>3.574865e-43</td>\n",
       "    </tr>\n",
       "    <tr>\n",
       "      <th>1421</th>\n",
       "      <td>ISG20</td>\n",
       "      <td>3.650556</td>\n",
       "      <td>1.118580e-07</td>\n",
       "      <td>-2.983610</td>\n",
       "      <td>2.893859e-38</td>\n",
       "    </tr>\n",
       "    <tr>\n",
       "      <th>1039</th>\n",
       "      <td>IFITM3</td>\n",
       "      <td>3.396494</td>\n",
       "      <td>1.383244e-06</td>\n",
       "      <td>-3.291879</td>\n",
       "      <td>1.263268e-30</td>\n",
       "    </tr>\n",
       "    <tr>\n",
       "      <th>0</th>\n",
       "      <td>ISG15</td>\n",
       "      <td>4.633936</td>\n",
       "      <td>6.150075e-08</td>\n",
       "      <td>-4.411395</td>\n",
       "      <td>1.155646e-26</td>\n",
       "    </tr>\n",
       "    <tr>\n",
       "      <th>915</th>\n",
       "      <td>LY6E</td>\n",
       "      <td>3.435867</td>\n",
       "      <td>9.966522e-07</td>\n",
       "      <td>-3.306035</td>\n",
       "      <td>7.227040e-26</td>\n",
       "    </tr>\n",
       "    <tr>\n",
       "      <th>876</th>\n",
       "      <td>IDO1</td>\n",
       "      <td>3.935713</td>\n",
       "      <td>1.630819e-07</td>\n",
       "      <td>-2.202358</td>\n",
       "      <td>3.542871e-22</td>\n",
       "    </tr>\n",
       "    <tr>\n",
       "      <th>1528</th>\n",
       "      <td>CCL7</td>\n",
       "      <td>2.130995</td>\n",
       "      <td>5.637202e-06</td>\n",
       "      <td>-1.107335</td>\n",
       "      <td>2.390108e-21</td>\n",
       "    </tr>\n",
       "    <tr>\n",
       "      <th>217</th>\n",
       "      <td>RSAD2</td>\n",
       "      <td>4.847639</td>\n",
       "      <td>4.510460e-06</td>\n",
       "      <td>-2.512864</td>\n",
       "      <td>7.912491e-21</td>\n",
       "    </tr>\n",
       "    <tr>\n",
       "      <th>37</th>\n",
       "      <td>IFI6</td>\n",
       "      <td>2.743425</td>\n",
       "      <td>1.467053e-08</td>\n",
       "      <td>-2.228537</td>\n",
       "      <td>8.010761e-20</td>\n",
       "    </tr>\n",
       "  </tbody>\n",
       "</table>\n",
       "</div>"
      ],
      "text/plain": [
       "        gene   de_coef       de_pval   dv_coef       dv_pval\n",
       "1529    CCL8  5.955085  3.755407e-06 -4.213191  2.752558e-49\n",
       "1527    CCL2  1.480777  6.327806e-10 -1.792969  3.574865e-43\n",
       "1421   ISG20  3.650556  1.118580e-07 -2.983610  2.893859e-38\n",
       "1039  IFITM3  3.396494  1.383244e-06 -3.291879  1.263268e-30\n",
       "0      ISG15  4.633936  6.150075e-08 -4.411395  1.155646e-26\n",
       "915     LY6E  3.435867  9.966522e-07 -3.306035  7.227040e-26\n",
       "876     IDO1  3.935713  1.630819e-07 -2.202358  3.542871e-22\n",
       "1528    CCL7  2.130995  5.637202e-06 -1.107335  2.390108e-21\n",
       "217    RSAD2  4.847639  4.510460e-06 -2.512864  7.912491e-21\n",
       "37      IFI6  2.743425  1.467053e-08 -2.228537  8.010761e-20"
      ]
     },
     "execution_count": 14,
     "metadata": {},
     "output_type": "execute_result"
    }
   ],
   "source": [
    "result_1d.sort_values('dv_pval').head(10)"
   ]
  },
  {
   "cell_type": "markdown",
   "metadata": {},
   "source": [
    "### Perform 2D hypothesis testing\n",
    "\n",
    "For differential coexpression testing, we can specify which genes you want to perform HT on. It takes a list of pairs of genes, where each element in the list is a tuple. Here, we focus on 1 transcription factor and their correlations to rest of the transcriptome. \n",
    "\n",
    "Similar to the 1D case, 2D hypothesis testing scales with the number of pairs of genes to test. If you have a smaller set of candidate genes, it will run faster."
   ]
  },
  {
   "cell_type": "code",
   "execution_count": 15,
   "metadata": {},
   "outputs": [],
   "source": [
    "import itertools"
   ]
  },
  {
   "cell_type": "code",
   "execution_count": 16,
   "metadata": {},
   "outputs": [],
   "source": [
    "gene_pairs = list(itertools.product(['IRF7'], adata.var.index.tolist()))"
   ]
  },
  {
   "cell_type": "code",
   "execution_count": 17,
   "metadata": {},
   "outputs": [],
   "source": [
    "memento.compute_2d_moments(adata, gene_pairs)"
   ]
  },
  {
   "cell_type": "code",
   "execution_count": 18,
   "metadata": {},
   "outputs": [
    {
     "name": "stderr",
     "output_type": "stream",
     "text": [
      "[Parallel(n_jobs=13)]: Using backend LokyBackend with 13 concurrent workers.\n",
      "[Parallel(n_jobs=13)]: Done   6 tasks      | elapsed:    0.9s\n",
      "[Parallel(n_jobs=13)]: Done 102 tasks      | elapsed:    6.7s\n",
      "[Parallel(n_jobs=13)]: Done 262 tasks      | elapsed:   14.9s\n",
      "[Parallel(n_jobs=13)]: Done 486 tasks      | elapsed:   25.8s\n",
      "[Parallel(n_jobs=13)]: Done 774 tasks      | elapsed:   41.1s\n",
      "[Parallel(n_jobs=13)]: Done 1126 tasks      | elapsed:   59.5s\n",
      "[Parallel(n_jobs=13)]: Done 1542 tasks      | elapsed:  1.4min\n",
      "[Parallel(n_jobs=13)]: Done 1876 out of 1876 | elapsed:  1.7min finished\n"
     ]
    }
   ],
   "source": [
    "memento.ht_2d_moments(\n",
    "    adata, \n",
    "    formula_like='1 + stim', \n",
    "    cov_column='stim', \n",
    "    num_cpus=13, \n",
    "    num_boot=5000)"
   ]
  },
  {
   "cell_type": "code",
   "execution_count": 19,
   "metadata": {},
   "outputs": [],
   "source": [
    "result_2d = memento.get_2d_ht_result(adata)"
   ]
  },
  {
   "cell_type": "code",
   "execution_count": 20,
   "metadata": {},
   "outputs": [
    {
     "data": {
      "text/html": [
       "<div>\n",
       "<style scoped>\n",
       "    .dataframe tbody tr th:only-of-type {\n",
       "        vertical-align: middle;\n",
       "    }\n",
       "\n",
       "    .dataframe tbody tr th {\n",
       "        vertical-align: top;\n",
       "    }\n",
       "\n",
       "    .dataframe thead th {\n",
       "        text-align: right;\n",
       "    }\n",
       "</style>\n",
       "<table border=\"1\" class=\"dataframe\">\n",
       "  <thead>\n",
       "    <tr style=\"text-align: right;\">\n",
       "      <th></th>\n",
       "      <th>gene_1</th>\n",
       "      <th>gene_2</th>\n",
       "      <th>corr_coef</th>\n",
       "      <th>corr_pval</th>\n",
       "    </tr>\n",
       "  </thead>\n",
       "  <tbody>\n",
       "    <tr>\n",
       "      <th>641</th>\n",
       "      <td>IRF7</td>\n",
       "      <td>HLA-DQA1</td>\n",
       "      <td>0.278193</td>\n",
       "      <td>0.000134</td>\n",
       "    </tr>\n",
       "    <tr>\n",
       "      <th>104</th>\n",
       "      <td>IRF7</td>\n",
       "      <td>GCLM</td>\n",
       "      <td>0.375144</td>\n",
       "      <td>0.000325</td>\n",
       "    </tr>\n",
       "    <tr>\n",
       "      <th>1688</th>\n",
       "      <td>IRF7</td>\n",
       "      <td>OAZ1</td>\n",
       "      <td>0.371380</td>\n",
       "      <td>0.000374</td>\n",
       "    </tr>\n",
       "    <tr>\n",
       "      <th>211</th>\n",
       "      <td>IRF7</td>\n",
       "      <td>GPR137B</td>\n",
       "      <td>0.392756</td>\n",
       "      <td>0.000415</td>\n",
       "    </tr>\n",
       "    <tr>\n",
       "      <th>716</th>\n",
       "      <td>IRF7</td>\n",
       "      <td>ACTB</td>\n",
       "      <td>0.270017</td>\n",
       "      <td>0.000472</td>\n",
       "    </tr>\n",
       "    <tr>\n",
       "      <th>1390</th>\n",
       "      <td>IRF7</td>\n",
       "      <td>ANXA2</td>\n",
       "      <td>0.272612</td>\n",
       "      <td>0.000517</td>\n",
       "    </tr>\n",
       "    <tr>\n",
       "      <th>638</th>\n",
       "      <td>IRF7</td>\n",
       "      <td>HLA-DRA</td>\n",
       "      <td>0.245894</td>\n",
       "      <td>0.000530</td>\n",
       "    </tr>\n",
       "    <tr>\n",
       "      <th>943</th>\n",
       "      <td>IRF7</td>\n",
       "      <td>CTSL</td>\n",
       "      <td>0.203125</td>\n",
       "      <td>0.000575</td>\n",
       "    </tr>\n",
       "    <tr>\n",
       "      <th>1148</th>\n",
       "      <td>IRF7</td>\n",
       "      <td>HSPA8</td>\n",
       "      <td>0.275049</td>\n",
       "      <td>0.000609</td>\n",
       "    </tr>\n",
       "    <tr>\n",
       "      <th>1406</th>\n",
       "      <td>IRF7</td>\n",
       "      <td>PKM</td>\n",
       "      <td>0.308369</td>\n",
       "      <td>0.000618</td>\n",
       "    </tr>\n",
       "  </tbody>\n",
       "</table>\n",
       "</div>"
      ],
      "text/plain": [
       "     gene_1    gene_2  corr_coef  corr_pval\n",
       "641    IRF7  HLA-DQA1   0.278193   0.000134\n",
       "104    IRF7      GCLM   0.375144   0.000325\n",
       "1688   IRF7      OAZ1   0.371380   0.000374\n",
       "211    IRF7   GPR137B   0.392756   0.000415\n",
       "716    IRF7      ACTB   0.270017   0.000472\n",
       "1390   IRF7     ANXA2   0.272612   0.000517\n",
       "638    IRF7   HLA-DRA   0.245894   0.000530\n",
       "943    IRF7      CTSL   0.203125   0.000575\n",
       "1148   IRF7     HSPA8   0.275049   0.000609\n",
       "1406   IRF7       PKM   0.308369   0.000618"
      ]
     },
     "execution_count": 20,
     "metadata": {},
     "output_type": "execute_result"
    }
   ],
   "source": [
    "result_2d.sort_values('corr_pval').head(10)"
   ]
  },
  {
   "cell_type": "markdown",
   "metadata": {},
   "source": [
    "### Save your results\n",
    "\n",
    "There are some objects within `memento` that doesn't play nice with scanpy. So just give it a heads up with the `prepare_to_save` function."
   ]
  },
  {
   "cell_type": "code",
   "execution_count": 13,
   "metadata": {},
   "outputs": [],
   "source": [
    "memento.prepare_to_save(adata)"
   ]
  },
  {
   "cell_type": "code",
   "execution_count": 15,
   "metadata": {},
   "outputs": [
    {
     "name": "stderr",
     "output_type": "stream",
     "text": [
      "... storing 'memento_group' as categorical\n"
     ]
    }
   ],
   "source": [
    "adata.write(data_path + 'ifn_tutorial.h5ad')"
   ]
  }
 ],
 "metadata": {
  "kernelspec": {
   "display_name": "Python 3",
   "language": "python",
   "name": "python3"
  },
  "language_info": {
   "codemirror_mode": {
    "name": "ipython",
    "version": 3
   },
   "file_extension": ".py",
   "mimetype": "text/x-python",
   "name": "python",
   "nbconvert_exporter": "python",
   "pygments_lexer": "ipython3",
   "version": "3.7.5"
  }
 },
 "nbformat": 4,
 "nbformat_minor": 4
}
