{
 "cells": [
  {
   "cell_type": "markdown",
   "metadata": {},
   "source": [
    "# Using `memento` to analyze Interferon-B response in monocytes\n",
    "\n",
    "To install `memento` in the pre-release version (for Ye Lab members), install it directly from github by running:\n",
    "\n",
    "```pip install git+https://github.com/yelabucsf/scrna-parameter-estimation.git@release-v0.0.3```\n",
    "\n",
    "This requires that you have access to the Ye Lab organization. "
   ]
  },
  {
   "cell_type": "code",
   "execution_count": 1,
   "metadata": {},
   "outputs": [
    {
     "name": "stderr",
     "output_type": "stream",
     "text": [
      "\n",
      "Bad key \"text.kerning_factor\" on line 4 in\n",
      "/data/home/anaconda3/envs/single_cell/lib/python3.7/site-packages/matplotlib/mpl-data/stylelib/_classic_test_patch.mplstyle.\n",
      "You probably need to get an updated matplotlibrc file from\n",
      "https://github.com/matplotlib/matplotlib/blob/v3.1.3/matplotlibrc.template\n",
      "or from the matplotlib source distribution\n"
     ]
    }
   ],
   "source": [
    "# This is only for development purposes\n",
    "\n",
    "import sys\n",
    "sys.path.append('/data/home/Github/scrna-parameter-estimation/dist/memento-0.0.3-py3.7.egg')\n",
    "import memento"
   ]
  },
  {
   "cell_type": "code",
   "execution_count": 2,
   "metadata": {},
   "outputs": [],
   "source": [
    "import scanpy as sc\n",
    "import memento"
   ]
  },
  {
   "cell_type": "code",
   "execution_count": 3,
   "metadata": {},
   "outputs": [],
   "source": [
    "fig_path = '/data/home/Github/scrna-parameter-estimation/figures/fig4/'\n",
    "data_path = '/data_volume/parameter_estimation/'"
   ]
  },
  {
   "cell_type": "code",
   "execution_count": 4,
   "metadata": {},
   "outputs": [],
   "source": [
    "import pickle as pkl"
   ]
  },
  {
   "cell_type": "markdown",
   "metadata": {},
   "source": [
    "### Read IFN data and filter for monocytes\n",
    "\n",
    "For `memento`, we need the raw count matrix. Preferrably, feed the one with all genes so that we can choose what genes to look at. \n",
    "\n",
    "One of the columns in `adata.obs` should be the discrete groups to compare mean, variability, and co-variability across. In this case, it's called `stim`. \n",
    "\n",
    "The column containing the covariate that you want p-values for should either:\n",
    "- Be binary (aka the column only contains two unique values, such as 'A' and 'B'. Here, the values are either 'stim' or 'ctrl'.\n",
    "- Be numeric (aka the column contains -1, 0, -1 for each genotype value). \n",
    "\n",
    "I recommend changing the labels to something numeric (here, i use 0 for `ctrl` and 1 for `stim`). Otherwise, the sign of the DE/EV/DC testing will be very hard to interpret."
   ]
  },
  {
   "cell_type": "code",
   "execution_count": 5,
   "metadata": {},
   "outputs": [
    {
     "name": "stdout",
     "output_type": "stream",
     "text": [
      "AnnData object with n_obs × n_vars = 5341 × 35635\n",
      "    obs: 'tsne1', 'tsne2', 'ind', 'stim', 'cluster', 'cell', 'multiplets', 'n_genes_by_counts', 'log1p_n_genes_by_counts', 'total_counts', 'log1p_total_counts', 'total_counts_mt', 'log1p_total_counts_mt', 'pct_counts_mt', 'total_counts_hb', 'log1p_total_counts_hb', 'pct_counts_hb', 'cell_type'\n",
      "    var: 'gene_ids', 'mt', 'hb', 'n_cells_by_counts', 'mean_counts', 'log1p_mean_counts', 'pct_dropout_by_counts', 'total_counts', 'log1p_total_counts'\n",
      "    uns: 'cell_type_colors'\n",
      "    obsm: 'X_tsne'\n"
     ]
    }
   ],
   "source": [
    "adata = sc.read(data_path + 'interferon_filtered.h5ad')\n",
    "adata = adata[adata.obs.cell == 'CD14+ Monocytes'].copy()\n",
    "print(adata)"
   ]
  },
  {
   "cell_type": "code",
   "execution_count": 6,
   "metadata": {},
   "outputs": [],
   "source": [
    "adata.obs['stim'] = adata.obs['stim'].apply(lambda x: 0 if x == 'ctrl' else 1)"
   ]
  },
  {
   "cell_type": "code",
   "execution_count": 7,
   "metadata": {},
   "outputs": [
    {
     "data": {
      "text/html": [
       "<div>\n",
       "<style scoped>\n",
       "    .dataframe tbody tr th:only-of-type {\n",
       "        vertical-align: middle;\n",
       "    }\n",
       "\n",
       "    .dataframe tbody tr th {\n",
       "        vertical-align: top;\n",
       "    }\n",
       "\n",
       "    .dataframe thead th {\n",
       "        text-align: right;\n",
       "    }\n",
       "</style>\n",
       "<table border=\"1\" class=\"dataframe\">\n",
       "  <thead>\n",
       "    <tr style=\"text-align: right;\">\n",
       "      <th></th>\n",
       "      <th>ind</th>\n",
       "      <th>stim</th>\n",
       "      <th>cell</th>\n",
       "    </tr>\n",
       "    <tr>\n",
       "      <th>index</th>\n",
       "      <th></th>\n",
       "      <th></th>\n",
       "      <th></th>\n",
       "    </tr>\n",
       "  </thead>\n",
       "  <tbody>\n",
       "    <tr>\n",
       "      <th>TTCCAAACGTTCTT-1</th>\n",
       "      <td>1016</td>\n",
       "      <td>0</td>\n",
       "      <td>CD14+ Monocytes</td>\n",
       "    </tr>\n",
       "    <tr>\n",
       "      <th>GGTACTGACGCAAT-1</th>\n",
       "      <td>1256</td>\n",
       "      <td>0</td>\n",
       "      <td>CD14+ Monocytes</td>\n",
       "    </tr>\n",
       "    <tr>\n",
       "      <th>CCAGCTACACGGGA-1</th>\n",
       "      <td>1015</td>\n",
       "      <td>1</td>\n",
       "      <td>CD14+ Monocytes</td>\n",
       "    </tr>\n",
       "    <tr>\n",
       "      <th>GCTTAACTCCTTGC-1</th>\n",
       "      <td>1244</td>\n",
       "      <td>0</td>\n",
       "      <td>CD14+ Monocytes</td>\n",
       "    </tr>\n",
       "    <tr>\n",
       "      <th>GGTTGAACAGTCAC-1</th>\n",
       "      <td>1488</td>\n",
       "      <td>1</td>\n",
       "      <td>CD14+ Monocytes</td>\n",
       "    </tr>\n",
       "  </tbody>\n",
       "</table>\n",
       "</div>"
      ],
      "text/plain": [
       "                   ind stim             cell\n",
       "index                                       \n",
       "TTCCAAACGTTCTT-1  1016    0  CD14+ Monocytes\n",
       "GGTACTGACGCAAT-1  1256    0  CD14+ Monocytes\n",
       "CCAGCTACACGGGA-1  1015    1  CD14+ Monocytes\n",
       "GCTTAACTCCTTGC-1  1244    0  CD14+ Monocytes\n",
       "GGTTGAACAGTCAC-1  1488    1  CD14+ Monocytes"
      ]
     },
     "execution_count": 7,
     "metadata": {},
     "output_type": "execute_result"
    }
   ],
   "source": [
    "adata.obs[['ind', 'stim', 'cell']].sample(5)"
   ]
  },
  {
   "cell_type": "markdown",
   "metadata": {},
   "source": [
    "### Create groups for hypothesis testing and compute 1D parameters\n",
    "\n",
    "`memento` creates groups of cells based on anything that should be considered a reasonable group; here, we just divide the cells into `stim` and `ctrl`. But we can easily further divide the cells into individuals by adding the `ind` column to the `label_columns` argument when calling `create_groups`.\n",
    "\n",
    "Values in the `q_column` is the rough estimate of the overall UMI efficiency across both sampling and sequencing. If `s` is the sequencing saturation, multiply `s` by 0.07 for 10X v1, 0.15 for v2, and 0.25 for v3. This allows you to enter different numbers for each batch, which likely have different saturation numbers. This will NOT account for wildly different sequencing scenarios.\n",
    "\n",
    "By default, `memento` will consider all genes whose expression is high enough to calculate an accurate variance. If you wish to include less genes, increase `filter_mean_thresh`."
   ]
  },
  {
   "cell_type": "code",
   "execution_count": 8,
   "metadata": {},
   "outputs": [],
   "source": [
    "adata.obs['capture_rate'] = 0.07"
   ]
  },
  {
   "cell_type": "code",
   "execution_count": 9,
   "metadata": {},
   "outputs": [],
   "source": [
    "memento.create_groups(adata, label_columns=['stim'], inplace=True, q_column='capture_rate')"
   ]
  },
  {
   "cell_type": "code",
   "execution_count": 10,
   "metadata": {},
   "outputs": [],
   "source": [
    "memento.compute_size_factors(adata)"
   ]
  },
  {
   "cell_type": "code",
   "execution_count": 11,
   "metadata": {},
   "outputs": [],
   "source": [
    "memento.compute_1d_moments(\n",
    "    adata, \n",
    "    inplace=True, \n",
    "    filter_mean_thresh=0.07, # minimum raw mean of each gene within a group for the gene to be considered \n",
    "    min_perc_group=.9) # percentage of groups that satisfy the condition for a gene to be considered. "
   ]
  },
  {
   "cell_type": "markdown",
   "metadata": {},
   "source": [
    "### Perform 1D hypothesis testing\n",
    "\n",
    "`formula_like` determines the linear model that is used for hypothesis testing, while `cov_column` is used to pick out the variable that you actually want p-values for. \n",
    "\n",
    "`num_cpus` controls how many CPUs to parallelize this operation for. In general, I recommend using 3-6 CPUs for reasonable peformance on any of the AWS machines that we have access to (I'm currently using a c5.2xlarge instance (8 vCPUs). "
   ]
  },
  {
   "cell_type": "code",
   "execution_count": 12,
   "metadata": {},
   "outputs": [
    {
     "name": "stderr",
     "output_type": "stream",
     "text": [
      "[Parallel(n_jobs=6)]: Using backend LokyBackend with 6 concurrent workers.\n",
      "[Parallel(n_jobs=6)]: Done  38 tasks      | elapsed:    3.1s\n",
      "[Parallel(n_jobs=6)]: Done 188 tasks      | elapsed:    8.2s\n",
      "[Parallel(n_jobs=6)]: Done 438 tasks      | elapsed:   16.0s\n",
      "[Parallel(n_jobs=6)]: Done 788 tasks      | elapsed:   27.5s\n",
      "[Parallel(n_jobs=6)]: Done 1238 tasks      | elapsed:   43.0s\n",
      "[Parallel(n_jobs=6)]: Done 1788 tasks      | elapsed:  1.0min\n",
      "[Parallel(n_jobs=6)]: Done 1877 out of 1877 | elapsed:  1.1min finished\n"
     ]
    }
   ],
   "source": [
    "memento.ht_1d_moments(\n",
    "    adata, \n",
    "    formula_like='1 + stim',\n",
    "    cov_column='stim', \n",
    "    num_boot=5000, \n",
    "    verbose=1,\n",
    "    num_cpus=6)"
   ]
  },
  {
   "cell_type": "code",
   "execution_count": 13,
   "metadata": {},
   "outputs": [],
   "source": [
    "result_1d = memento.get_1d_ht_result(adata)"
   ]
  },
  {
   "cell_type": "code",
   "execution_count": 14,
   "metadata": {},
   "outputs": [
    {
     "data": {
      "text/html": [
       "<div>\n",
       "<style scoped>\n",
       "    .dataframe tbody tr th:only-of-type {\n",
       "        vertical-align: middle;\n",
       "    }\n",
       "\n",
       "    .dataframe tbody tr th {\n",
       "        vertical-align: top;\n",
       "    }\n",
       "\n",
       "    .dataframe thead th {\n",
       "        text-align: right;\n",
       "    }\n",
       "</style>\n",
       "<table border=\"1\" class=\"dataframe\">\n",
       "  <thead>\n",
       "    <tr style=\"text-align: right;\">\n",
       "      <th></th>\n",
       "      <th>gene</th>\n",
       "      <th>de_coef</th>\n",
       "      <th>de_pval</th>\n",
       "      <th>dv_coef</th>\n",
       "      <th>dv_pval</th>\n",
       "    </tr>\n",
       "  </thead>\n",
       "  <tbody>\n",
       "    <tr>\n",
       "      <th>930</th>\n",
       "      <td>CHMP5</td>\n",
       "      <td>0.837601</td>\n",
       "      <td>2.006705e-09</td>\n",
       "      <td>-0.724331</td>\n",
       "      <td>6.020000e-02</td>\n",
       "    </tr>\n",
       "    <tr>\n",
       "      <th>1038</th>\n",
       "      <td>IFITM2</td>\n",
       "      <td>3.055226</td>\n",
       "      <td>7.029920e-09</td>\n",
       "      <td>-0.856910</td>\n",
       "      <td>9.595041e-04</td>\n",
       "    </tr>\n",
       "    <tr>\n",
       "      <th>370</th>\n",
       "      <td>CCR5</td>\n",
       "      <td>1.213793</td>\n",
       "      <td>7.615320e-09</td>\n",
       "      <td>0.429341</td>\n",
       "      <td>5.440000e-02</td>\n",
       "    </tr>\n",
       "    <tr>\n",
       "      <th>31</th>\n",
       "      <td>TMEM50A</td>\n",
       "      <td>0.954070</td>\n",
       "      <td>1.402343e-08</td>\n",
       "      <td>-0.220844</td>\n",
       "      <td>8.556000e-01</td>\n",
       "    </tr>\n",
       "    <tr>\n",
       "      <th>1787</th>\n",
       "      <td>IL4I1</td>\n",
       "      <td>1.851509</td>\n",
       "      <td>1.926690e-08</td>\n",
       "      <td>-0.199887</td>\n",
       "      <td>8.918000e-01</td>\n",
       "    </tr>\n",
       "    <tr>\n",
       "      <th>0</th>\n",
       "      <td>ISG15</td>\n",
       "      <td>4.630542</td>\n",
       "      <td>2.848378e-08</td>\n",
       "      <td>-3.849747</td>\n",
       "      <td>1.108080e-28</td>\n",
       "    </tr>\n",
       "    <tr>\n",
       "      <th>166</th>\n",
       "      <td>SLAMF7</td>\n",
       "      <td>2.269208</td>\n",
       "      <td>3.357470e-08</td>\n",
       "      <td>-0.708408</td>\n",
       "      <td>9.354000e-01</td>\n",
       "    </tr>\n",
       "    <tr>\n",
       "      <th>752</th>\n",
       "      <td>HSPB1</td>\n",
       "      <td>1.912223</td>\n",
       "      <td>3.410813e-08</td>\n",
       "      <td>-0.818870</td>\n",
       "      <td>1.992621e-11</td>\n",
       "    </tr>\n",
       "    <tr>\n",
       "      <th>1286</th>\n",
       "      <td>TNFSF13B</td>\n",
       "      <td>3.453565</td>\n",
       "      <td>3.506394e-08</td>\n",
       "      <td>-1.372564</td>\n",
       "      <td>1.011775e-06</td>\n",
       "    </tr>\n",
       "    <tr>\n",
       "      <th>421</th>\n",
       "      <td>PLSCR1</td>\n",
       "      <td>1.793992</td>\n",
       "      <td>3.963257e-08</td>\n",
       "      <td>-0.782122</td>\n",
       "      <td>1.294553e-03</td>\n",
       "    </tr>\n",
       "  </tbody>\n",
       "</table>\n",
       "</div>"
      ],
      "text/plain": [
       "          gene   de_coef       de_pval   dv_coef       dv_pval\n",
       "930      CHMP5  0.837601  2.006705e-09 -0.724331  6.020000e-02\n",
       "1038    IFITM2  3.055226  7.029920e-09 -0.856910  9.595041e-04\n",
       "370       CCR5  1.213793  7.615320e-09  0.429341  5.440000e-02\n",
       "31     TMEM50A  0.954070  1.402343e-08 -0.220844  8.556000e-01\n",
       "1787     IL4I1  1.851509  1.926690e-08 -0.199887  8.918000e-01\n",
       "0        ISG15  4.630542  2.848378e-08 -3.849747  1.108080e-28\n",
       "166     SLAMF7  2.269208  3.357470e-08 -0.708408  9.354000e-01\n",
       "752      HSPB1  1.912223  3.410813e-08 -0.818870  1.992621e-11\n",
       "1286  TNFSF13B  3.453565  3.506394e-08 -1.372564  1.011775e-06\n",
       "421     PLSCR1  1.793992  3.963257e-08 -0.782122  1.294553e-03"
      ]
     },
     "execution_count": 14,
     "metadata": {},
     "output_type": "execute_result"
    }
   ],
   "source": [
    "result_1d.query('de_coef > 0').sort_values('de_pval').head(10)"
   ]
  },
  {
   "cell_type": "code",
   "execution_count": 16,
   "metadata": {},
   "outputs": [
    {
     "data": {
      "text/html": [
       "<div>\n",
       "<style scoped>\n",
       "    .dataframe tbody tr th:only-of-type {\n",
       "        vertical-align: middle;\n",
       "    }\n",
       "\n",
       "    .dataframe tbody tr th {\n",
       "        vertical-align: top;\n",
       "    }\n",
       "\n",
       "    .dataframe thead th {\n",
       "        text-align: right;\n",
       "    }\n",
       "</style>\n",
       "<table border=\"1\" class=\"dataframe\">\n",
       "  <thead>\n",
       "    <tr style=\"text-align: right;\">\n",
       "      <th></th>\n",
       "      <th>gene</th>\n",
       "      <th>de_coef</th>\n",
       "      <th>de_pval</th>\n",
       "      <th>dv_coef</th>\n",
       "      <th>dv_pval</th>\n",
       "    </tr>\n",
       "  </thead>\n",
       "  <tbody>\n",
       "    <tr>\n",
       "      <th>915</th>\n",
       "      <td>LY6E</td>\n",
       "      <td>3.432749</td>\n",
       "      <td>8.376168e-07</td>\n",
       "      <td>-3.242748</td>\n",
       "      <td>1.414952e-38</td>\n",
       "    </tr>\n",
       "    <tr>\n",
       "      <th>1039</th>\n",
       "      <td>IFITM3</td>\n",
       "      <td>3.393203</td>\n",
       "      <td>2.161355e-07</td>\n",
       "      <td>-3.238808</td>\n",
       "      <td>1.396884e-35</td>\n",
       "    </tr>\n",
       "    <tr>\n",
       "      <th>1527</th>\n",
       "      <td>CCL2</td>\n",
       "      <td>1.477253</td>\n",
       "      <td>1.715381e-07</td>\n",
       "      <td>-1.726231</td>\n",
       "      <td>2.125858e-33</td>\n",
       "    </tr>\n",
       "    <tr>\n",
       "      <th>0</th>\n",
       "      <td>ISG15</td>\n",
       "      <td>4.630542</td>\n",
       "      <td>2.848378e-08</td>\n",
       "      <td>-3.849747</td>\n",
       "      <td>1.108080e-28</td>\n",
       "    </tr>\n",
       "    <tr>\n",
       "      <th>876</th>\n",
       "      <td>IDO1</td>\n",
       "      <td>3.932135</td>\n",
       "      <td>6.092923e-07</td>\n",
       "      <td>-2.093306</td>\n",
       "      <td>4.359662e-25</td>\n",
       "    </tr>\n",
       "    <tr>\n",
       "      <th>1421</th>\n",
       "      <td>ISG20</td>\n",
       "      <td>3.646966</td>\n",
       "      <td>1.145916e-07</td>\n",
       "      <td>-2.904924</td>\n",
       "      <td>5.481186e-25</td>\n",
       "    </tr>\n",
       "    <tr>\n",
       "      <th>1529</th>\n",
       "      <td>CCL8</td>\n",
       "      <td>5.952347</td>\n",
       "      <td>5.593736e-06</td>\n",
       "      <td>-3.810503</td>\n",
       "      <td>1.102130e-23</td>\n",
       "    </tr>\n",
       "    <tr>\n",
       "      <th>37</th>\n",
       "      <td>IFI6</td>\n",
       "      <td>2.740365</td>\n",
       "      <td>1.222784e-06</td>\n",
       "      <td>-2.210914</td>\n",
       "      <td>5.077364e-21</td>\n",
       "    </tr>\n",
       "    <tr>\n",
       "      <th>1300</th>\n",
       "      <td>PSME2</td>\n",
       "      <td>0.816086</td>\n",
       "      <td>2.366761e-07</td>\n",
       "      <td>-1.008491</td>\n",
       "      <td>6.435719e-18</td>\n",
       "    </tr>\n",
       "    <tr>\n",
       "      <th>263</th>\n",
       "      <td>TMSB10</td>\n",
       "      <td>1.257169</td>\n",
       "      <td>8.024314e-08</td>\n",
       "      <td>-0.952123</td>\n",
       "      <td>8.107112e-18</td>\n",
       "    </tr>\n",
       "  </tbody>\n",
       "</table>\n",
       "</div>"
      ],
      "text/plain": [
       "        gene   de_coef       de_pval   dv_coef       dv_pval\n",
       "915     LY6E  3.432749  8.376168e-07 -3.242748  1.414952e-38\n",
       "1039  IFITM3  3.393203  2.161355e-07 -3.238808  1.396884e-35\n",
       "1527    CCL2  1.477253  1.715381e-07 -1.726231  2.125858e-33\n",
       "0      ISG15  4.630542  2.848378e-08 -3.849747  1.108080e-28\n",
       "876     IDO1  3.932135  6.092923e-07 -2.093306  4.359662e-25\n",
       "1421   ISG20  3.646966  1.145916e-07 -2.904924  5.481186e-25\n",
       "1529    CCL8  5.952347  5.593736e-06 -3.810503  1.102130e-23\n",
       "37      IFI6  2.740365  1.222784e-06 -2.210914  5.077364e-21\n",
       "1300   PSME2  0.816086  2.366761e-07 -1.008491  6.435719e-18\n",
       "263   TMSB10  1.257169  8.024314e-08 -0.952123  8.107112e-18"
      ]
     },
     "execution_count": 16,
     "metadata": {},
     "output_type": "execute_result"
    }
   ],
   "source": [
    "result_1d.sort_values('dv_pval').head(10)"
   ]
  },
  {
   "cell_type": "markdown",
   "metadata": {},
   "source": [
    "### Perform 2D hypothesis testing\n",
    "\n",
    "For differential coexpression testing, we can specify which genes you want to perform HT on. It takes a list of pairs of genes, where each element in the list is a tuple. Here, we focus on 1 transcription factor and their correlations to rest of the transcriptome. \n",
    "\n",
    "Similar to the 1D case, 2D hypothesis testing scales with the number of pairs of genes to test. If you have a smaller set of candidate genes, it will run faster."
   ]
  },
  {
   "cell_type": "code",
   "execution_count": 17,
   "metadata": {},
   "outputs": [],
   "source": [
    "import itertools"
   ]
  },
  {
   "cell_type": "code",
   "execution_count": 18,
   "metadata": {},
   "outputs": [],
   "source": [
    "gene_pairs = list(itertools.product(['IRF7'], adata.var.index.tolist()))"
   ]
  },
  {
   "cell_type": "code",
   "execution_count": 19,
   "metadata": {},
   "outputs": [],
   "source": [
    "memento.compute_2d_moments(adata, gene_pairs)"
   ]
  },
  {
   "cell_type": "code",
   "execution_count": 20,
   "metadata": {},
   "outputs": [
    {
     "name": "stderr",
     "output_type": "stream",
     "text": [
      "[Parallel(n_jobs=13)]: Using backend LokyBackend with 13 concurrent workers.\n",
      "[Parallel(n_jobs=13)]: Done   6 tasks      | elapsed:    1.0s\n",
      "[Parallel(n_jobs=13)]: Done 102 tasks      | elapsed:    6.9s\n",
      "[Parallel(n_jobs=13)]: Done 262 tasks      | elapsed:   15.7s\n",
      "[Parallel(n_jobs=13)]: Done 486 tasks      | elapsed:   27.3s\n",
      "[Parallel(n_jobs=13)]: Done 774 tasks      | elapsed:   43.5s\n",
      "[Parallel(n_jobs=13)]: Done 1126 tasks      | elapsed:  1.0min\n",
      "[Parallel(n_jobs=13)]: Done 1542 tasks      | elapsed:  1.4min\n",
      "[Parallel(n_jobs=13)]: Done 1876 out of 1876 | elapsed:  1.7min finished\n"
     ]
    }
   ],
   "source": [
    "memento.ht_2d_moments(\n",
    "    adata, \n",
    "    formula_like='1 + stim', \n",
    "    cov_column='stim', \n",
    "    num_cpus=13, \n",
    "    num_boot=5000)"
   ]
  },
  {
   "cell_type": "code",
   "execution_count": 21,
   "metadata": {},
   "outputs": [],
   "source": [
    "result_2d = memento.get_2d_ht_result(adata)"
   ]
  },
  {
   "cell_type": "code",
   "execution_count": 22,
   "metadata": {},
   "outputs": [
    {
     "data": {
      "text/html": [
       "<div>\n",
       "<style scoped>\n",
       "    .dataframe tbody tr th:only-of-type {\n",
       "        vertical-align: middle;\n",
       "    }\n",
       "\n",
       "    .dataframe tbody tr th {\n",
       "        vertical-align: top;\n",
       "    }\n",
       "\n",
       "    .dataframe thead th {\n",
       "        text-align: right;\n",
       "    }\n",
       "</style>\n",
       "<table border=\"1\" class=\"dataframe\">\n",
       "  <thead>\n",
       "    <tr style=\"text-align: right;\">\n",
       "      <th></th>\n",
       "      <th>gene_1</th>\n",
       "      <th>gene_2</th>\n",
       "      <th>corr_coef</th>\n",
       "      <th>corr_pval</th>\n",
       "    </tr>\n",
       "  </thead>\n",
       "  <tbody>\n",
       "    <tr>\n",
       "      <th>1390</th>\n",
       "      <td>IRF7</td>\n",
       "      <td>ANXA2</td>\n",
       "      <td>0.272273</td>\n",
       "      <td>0.000272</td>\n",
       "    </tr>\n",
       "    <tr>\n",
       "      <th>716</th>\n",
       "      <td>IRF7</td>\n",
       "      <td>ACTB</td>\n",
       "      <td>0.270438</td>\n",
       "      <td>0.000307</td>\n",
       "    </tr>\n",
       "    <tr>\n",
       "      <th>574</th>\n",
       "      <td>IRF7</td>\n",
       "      <td>CD74</td>\n",
       "      <td>0.315809</td>\n",
       "      <td>0.000337</td>\n",
       "    </tr>\n",
       "    <tr>\n",
       "      <th>1688</th>\n",
       "      <td>IRF7</td>\n",
       "      <td>OAZ1</td>\n",
       "      <td>0.371533</td>\n",
       "      <td>0.000372</td>\n",
       "    </tr>\n",
       "    <tr>\n",
       "      <th>329</th>\n",
       "      <td>IRF7</td>\n",
       "      <td>ARPC2</td>\n",
       "      <td>0.283066</td>\n",
       "      <td>0.000444</td>\n",
       "    </tr>\n",
       "    <tr>\n",
       "      <th>1148</th>\n",
       "      <td>IRF7</td>\n",
       "      <td>HSPA8</td>\n",
       "      <td>0.274291</td>\n",
       "      <td>0.000486</td>\n",
       "    </tr>\n",
       "    <tr>\n",
       "      <th>638</th>\n",
       "      <td>IRF7</td>\n",
       "      <td>HLA-DRA</td>\n",
       "      <td>0.245310</td>\n",
       "      <td>0.000499</td>\n",
       "    </tr>\n",
       "    <tr>\n",
       "      <th>1815</th>\n",
       "      <td>IRF7</td>\n",
       "      <td>SDF2L1</td>\n",
       "      <td>0.307070</td>\n",
       "      <td>0.000512</td>\n",
       "    </tr>\n",
       "    <tr>\n",
       "      <th>241</th>\n",
       "      <td>IRF7</td>\n",
       "      <td>RTN4</td>\n",
       "      <td>0.379202</td>\n",
       "      <td>0.000515</td>\n",
       "    </tr>\n",
       "    <tr>\n",
       "      <th>1406</th>\n",
       "      <td>IRF7</td>\n",
       "      <td>PKM</td>\n",
       "      <td>0.309065</td>\n",
       "      <td>0.000554</td>\n",
       "    </tr>\n",
       "  </tbody>\n",
       "</table>\n",
       "</div>"
      ],
      "text/plain": [
       "     gene_1   gene_2  corr_coef  corr_pval\n",
       "1390   IRF7    ANXA2   0.272273   0.000272\n",
       "716    IRF7     ACTB   0.270438   0.000307\n",
       "574    IRF7     CD74   0.315809   0.000337\n",
       "1688   IRF7     OAZ1   0.371533   0.000372\n",
       "329    IRF7    ARPC2   0.283066   0.000444\n",
       "1148   IRF7    HSPA8   0.274291   0.000486\n",
       "638    IRF7  HLA-DRA   0.245310   0.000499\n",
       "1815   IRF7   SDF2L1   0.307070   0.000512\n",
       "241    IRF7     RTN4   0.379202   0.000515\n",
       "1406   IRF7      PKM   0.309065   0.000554"
      ]
     },
     "execution_count": 22,
     "metadata": {},
     "output_type": "execute_result"
    }
   ],
   "source": [
    "result_2d.sort_values('corr_pval').head(10)"
   ]
  },
  {
   "cell_type": "markdown",
   "metadata": {},
   "source": [
    "### Save your results\n",
    "\n",
    "There are some objects within `memento` that doesn't play nice with scanpy. So just give it a heads up with the `prepare_to_save` function."
   ]
  },
  {
   "cell_type": "code",
   "execution_count": 13,
   "metadata": {},
   "outputs": [],
   "source": [
    "memento.prepare_to_save(adata)"
   ]
  },
  {
   "cell_type": "code",
   "execution_count": 15,
   "metadata": {},
   "outputs": [
    {
     "name": "stderr",
     "output_type": "stream",
     "text": [
      "... storing 'memento_group' as categorical\n"
     ]
    }
   ],
   "source": [
    "adata.write(data_path + 'ifn_tutorial.h5ad')"
   ]
  }
 ],
 "metadata": {
  "kernelspec": {
   "display_name": "Python 3",
   "language": "python",
   "name": "python3"
  },
  "language_info": {
   "codemirror_mode": {
    "name": "ipython",
    "version": 3
   },
   "file_extension": ".py",
   "mimetype": "text/x-python",
   "name": "python",
   "nbconvert_exporter": "python",
   "pygments_lexer": "ipython3",
   "version": "3.7.5"
  }
 },
 "nbformat": 4,
 "nbformat_minor": 4
}
