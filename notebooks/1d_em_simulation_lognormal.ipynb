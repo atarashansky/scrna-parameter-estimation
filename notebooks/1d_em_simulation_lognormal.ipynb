{
 "cells": [
  {
   "cell_type": "markdown",
   "metadata": {},
   "source": [
    "# Simulation and EM Maximization of the 1D Simple Likelihood for scRNA-seq\n",
    "\n",
    "In this exercise, I generate some data that (could) look like RNA seq in 1 dimension under some assumptions, and design a likelihood function that could recover (some) parameters.\n",
    "\n",
    "I describe an EM-like optimization algorithm to approximately maximize this objective.\n",
    "\n",
    "This notebook contains the groundwork and simulation for modeling the latent variables as a log normal distribution, rather than the normal distribution that I attempted first."
   ]
  },
  {
   "cell_type": "markdown",
   "metadata": {},
   "source": [
    "### Imports"
   ]
  },
  {
   "cell_type": "code",
   "execution_count": 5,
   "metadata": {},
   "outputs": [],
   "source": [
    "%matplotlib inline"
   ]
  },
  {
   "cell_type": "code",
   "execution_count": 6,
   "metadata": {},
   "outputs": [],
   "source": [
    "import pandas as pd\n",
    "import matplotlib.pyplot as plt\n",
    "import scipy.stats as stats\n",
    "import seaborn as sns\n",
    "from statsmodels.stats.weightstats import DescrStatsW\n",
    "import numpy as np\n",
    "import itertools\n",
    "import time"
   ]
  },
  {
   "cell_type": "code",
   "execution_count": 7,
   "metadata": {},
   "outputs": [],
   "source": [
    "MAX_LATENT = 200"
   ]
  },
  {
   "cell_type": "markdown",
   "metadata": {},
   "source": [
    "### 1D Likelihood Function - UPDATE FOR LOG NORMAL\n",
    "\n",
    "I define the log liklihood given data $x_1, x_2, x_3, x_4, ... , x_N$as follows:\n",
    "\n",
    "$$ LL(p, \\mu, \\sigma ; x_1, x_2, x_3, x_4, ... , x_N) = \\sum_{i=1}^{N}\\log\\bigg(\\sum_{z=0}^{\\infty} \\bigg[{z\\choose{x_i}}p^{x_i}(1-p)^{z-x_i}\\bigg] \\bigg[\\frac{1}{z\\sqrt{2\\pi\\sigma^{2}}} \\exp\\bigg(-\\frac{(\\ln(z)-\\mu)^{2}}{2\\sigma^{2}}\\bigg)\\bigg]\\bigg) $$"
   ]
  },
  {
   "cell_type": "markdown",
   "metadata": {},
   "source": [
    "### Ideal optimization problem\n",
    "\n",
    "This likelihood function is obviously not concave (so maximizing is not a convex optimization problem), but it may be possible to design some optimization procedure for finding good parameters, given some reasonable constraints on $p$ the dropout rate and $\\mu$ the mean estimated from either pseudobulks for bulk RNA-seq experiments.\n",
    "\n",
    "The optimization problem we'd like to eventually solve is:\n",
    "\n",
    "\\begin{equation*}\n",
    "\\begin{aligned}\n",
    "& \\underset{p,\\ \\mu,\\ \\sigma}{\\text{maximize}}\n",
    "& & LL(p, \\mu, \\sigma ; x_1, x_2, x_3, x_4, ... , x_N) \\\\\n",
    "& \\text{subject to}\n",
    "& & 0.05 < p < 0.15, \\\\\n",
    "&&& \\mu_{min}\\ <\\ \\mu\\ <\\ \\mu_{max}\n",
    "\\end{aligned}\n",
    "\\end{equation*}\n",
    "\n",
    "The follow outlines an EM algorithm that converges to a local maximum of this objective."
   ]
  },
  {
   "cell_type": "markdown",
   "metadata": {},
   "source": [
    "### Function for fitting a weighted lognormal distribution"
   ]
  },
  {
   "cell_type": "code",
   "execution_count": 8,
   "metadata": {},
   "outputs": [],
   "source": [
    "def fit_lognormal(x, w=None, neg_mean=False):\n",
    "    \n",
    "    if neg_mean:\n",
    "\n",
    "        x = np.concatenate([\n",
    "            np.random.uniform(high=0.5, size=500),\n",
    "            x[1:]])\n",
    "        w = np.concatenate([\n",
    "            w[0]/500 * np.ones(500),\n",
    "            w[1:]])\n",
    "    \n",
    "    lnx = np.log(x[x > 0])\n",
    "    muhat = np.average(lnx, weights=w[x > 0])\n",
    "    varhat = np.average((lnx - muhat)**2, weights=w[x > 0])\n",
    "    \n",
    "    return muhat, np.sqrt(varhat)"
   ]
  },
  {
   "cell_type": "markdown",
   "metadata": {},
   "source": [
    "### Simulation - UPDATE FOR LOG NORMAL\n",
    "\n",
    "Let us simulate a possible procedure for generadting scRNA-seq data in 1 dimension (1 gene case).\n",
    "\n",
    "\n",
    "1. The underlying distribution Z is mean $\\mu$ with variance $\\sigma^{2}$, $Z \\sim \\mathcal{N}(\\mu,\\,\\sigma^{2})\\,.\n",
    "$\n",
    "2. Then, for each cell sampled from this distribution, we round to the nearest integer and sample a binomial random variable X distributed as $X \\sim Bn(round(Z), p)$ where the sampled $Z$ serves as the number of trials and $p$ serves as the dropout rate of an individual transcript in a cell.\n",
    "\n",
    "For this simulation, we use:\n",
    "- $N$ = 100,000\n",
    "- $\\mu$ = 3\n",
    "- $\\sigma$ = 1\n",
    "- $p$ = 0.1\n",
    "\n",
    "minimum parameters\n",
    "\n",
    "num_cells = 1000\n",
    "s = .6\n",
    "scale = 1.5\n",
    "p=0.1\n"
   ]
  },
  {
   "cell_type": "code",
   "execution_count": 652,
   "metadata": {},
   "outputs": [],
   "source": [
    "# Parameters\n",
    "num_cells = 20000\n",
    "\n",
    "mu = 5\n",
    "sigma = 0.6\n",
    "p=0.01\n",
    "\n",
    "s = sigma\n",
    "scale = np.exp(mu)\n"
   ]
  },
  {
   "cell_type": "code",
   "execution_count": 653,
   "metadata": {},
   "outputs": [
    {
     "name": "stdout",
     "output_type": "stream",
     "text": [
      "0.6 148.4131591025766\n"
     ]
    }
   ],
   "source": [
    "print(s, scale)"
   ]
  },
  {
   "cell_type": "code",
   "execution_count": 654,
   "metadata": {},
   "outputs": [],
   "source": [
    "continuous = stats.lognorm.rvs(s=s, scale=scale, size=num_cells)\n",
    "normal_continuous = stats.norm.rvs(loc=np.log(scale), scale=s, size=num_cells)"
   ]
  },
  {
   "cell_type": "code",
   "execution_count": 655,
   "metadata": {},
   "outputs": [],
   "source": [
    "ground_truth_counts = np.round(continuous).astype(np.int64)"
   ]
  },
  {
   "cell_type": "code",
   "execution_count": 656,
   "metadata": {},
   "outputs": [],
   "source": [
    "observed = np.random.binomial(n=ground_truth_counts, p=p)"
   ]
  },
  {
   "cell_type": "code",
   "execution_count": 657,
   "metadata": {},
   "outputs": [
    {
     "data": {
      "image/png": "[encoded data removed]",
      "text/plain": [
       "<Figure size 720x216 with 2 Axes>"
      ]
     },
     "metadata": {},
     "output_type": "display_data"
    }
   ],
   "source": [
    "plt.figure(figsize=(10, 3))\n",
    "plt.subplot(1, 2, 1);\n",
    "plt.title('Underlying continuous distribution')\n",
    "plt.hist(continuous, bins=100);\n",
    "plt.xlabel('expression');plt.ylabel('count')\n",
    "#plt.xlim(0, 25)\n",
    "plt.subplot(1, 2, 2);\n",
    "plt.title('Underlying discrete distribution')\n",
    "plt.xlabel('expression'); plt.ylabel('count')\n",
    "plt.hist(ground_truth_counts, bins=100);\n",
    "#plt.xlim(0, 25)"
   ]
  },
  {
   "cell_type": "code",
   "execution_count": 658,
   "metadata": {},
   "outputs": [
    {
     "data": {
      "image/png": "[encoded data removed]",
      "text/plain": [
       "<Figure size 720x216 with 2 Axes>"
      ]
     },
     "metadata": {},
     "output_type": "display_data"
    }
   ],
   "source": [
    "plt.figure(figsize=(10, 3))\n",
    "plt.subplot(1, 2, 1);\n",
    "plt.title('Underlying distribution')\n",
    "plt.hist(ground_truth_counts, bins=100);\n",
    "plt.xlabel('expression');plt.ylabel('count');\n",
    "plt.subplot(1, 2, 2);\n",
    "plt.title('After downsampling')\n",
    "plt.xlabel('expression'); plt.ylabel('count');\n",
    "plt.hist(observed, bins=100);\n",
    "#plt.xlim(0, 10)"
   ]
  },
  {
   "cell_type": "code",
   "execution_count": 659,
   "metadata": {},
   "outputs": [],
   "source": [
    "mu_hat_closed = np.log(observed.mean()) - np.log(p) - (1/2)*np.log(observed.var()/observed.mean()**2 - (1-p)/observed.mean() + 1)"
   ]
  },
  {
   "cell_type": "code",
   "execution_count": 660,
   "metadata": {},
   "outputs": [],
   "source": [
    "sigma_hat_closed = np.sqrt(np.log(observed.var()/observed.mean()**2 - (1-p)/observed.mean() + 1))"
   ]
  },
  {
   "cell_type": "code",
   "execution_count": 661,
   "metadata": {},
   "outputs": [
    {
     "name": "stdout",
     "output_type": "stream",
     "text": [
      "5.000713275169924 0.6051755735118971\n"
     ]
    }
   ],
   "source": [
    "print(mu_hat_closed, sigma_hat_closed)"
   ]
  },
  {
   "cell_type": "markdown",
   "metadata": {},
   "source": [
    "### Expectation step: Computing probabilities for Z\n",
    "\n",
    "The expectation step of the EM algorithm involves calculating the probability of each possible value of Z the hidden variable (in our case, the true expression) given the parameters and the observations (X, mu, sigma, and p).\n",
    "\n",
    "We use the Bayes rule to construct our probabilites for the hidden variables:\n",
    "\n",
    "$ P(Z | X) = \\frac{P(X|Z)P(Z)}{P(X)} $\n",
    "\n",
    "Because of our distributional assumptions, we can evaluate each of the values on the RHS given p, mu, and sigma:\n",
    "\n",
    "$\n",
    "P(X|Z) = {z\\choose{x}}p^{x}(1-p)^{z-x} \\\\\n",
    "P(Z) = \\frac{1}{\\sqrt{2\\pi\\sigma^{2}}} \\exp\\big(-\\frac{(z-\\mu)^{2}}{2\\sigma^{2}}\\big) \\\\\n",
    "P(X) = \\sum_{z=0}^{\\infty} \\bigg[{z\\choose{x}}p^{x}(1-p)^{z-x}\\bigg]\\bigg[\\frac{1}{\\sqrt{2\\pi\\sigma^{2}}} \\exp\\big(-\\frac{(z-\\mu)^{2}}{2\\sigma^{2}}\\big)\\bigg]\n",
    "$"
   ]
  },
  {
   "cell_type": "code",
   "execution_count": 540,
   "metadata": {},
   "outputs": [],
   "source": [
    "binom_table = np.zeros(shape=(MAX_LATENT, MAX_LATENT))\n",
    "    \n",
    "for x in range(MAX_LATENT):\n",
    "    for z in range(x, MAX_LATENT):\n",
    "        binom_table[x, z] = stats.binom.pmf(x, z, p)"
   ]
  },
  {
   "cell_type": "code",
   "execution_count": 541,
   "metadata": {},
   "outputs": [],
   "source": [
    "def rv_pmf(x, mu, sigma):\n",
    "    \"\"\" PDF/PMF of the random variable under use. \"\"\"\n",
    "    \n",
    "    return stats.lognorm.cdf(0.5, s=sigma, loc=0, scale=np.exp(mu))*(x==0) + \\\n",
    "        (stats.lognorm.cdf(x+0.5, s=sigma, loc=0, scale=np.exp(mu)) - stats.lognorm.cdf(x-0.5, s=sigma, loc=0, scale=np.exp(mu)))*(x!=0)"
   ]
  },
  {
   "cell_type": "code",
   "execution_count": 542,
   "metadata": {},
   "outputs": [],
   "source": [
    "# def create_px_table_old(mu, sigma, p):\n",
    "#     return np.array([\n",
    "#         (rv_pmf(np.arange(x, MAX_LATENT), mu, sigma) * stats.binom.pmf(x, np.arange(x, MAX_LATENT), p)).sum()\n",
    "#         for x in range(MAX_LATENT)])"
   ]
  },
  {
   "cell_type": "code",
   "execution_count": 543,
   "metadata": {},
   "outputs": [],
   "source": [
    "def create_px_table(mu, sigma, p):\n",
    "    \n",
    "    z_probs = np.tile(rv_pmf(np.arange(0, MAX_LATENT), mu, sigma).reshape(1, -1), [MAX_LATENT, 1])\n",
    "    \n",
    "    return (z_probs * binom_table).sum(axis=1)"
   ]
  },
  {
   "cell_type": "code",
   "execution_count": 544,
   "metadata": {},
   "outputs": [],
   "source": [
    "# def create_pz_table(mu, sigma, p):\n",
    "#     \"\"\" Returns a matrix M x M where rows indicate X and columns indicate Z \"\"\"\n",
    "    \n",
    "#     px_table = create_px_table(mu, sigma, p)\n",
    "#     #px_table = np.tile(px_table.reshape(-1, 1), [1, MAX_LATENT])\n",
    "    \n",
    "#     #z_probs = np.tile(rv_pmf(np.arange(0, MAX_LATENT), 5, 3).reshape(1, -1), [MAX_LATENT, 1])\n",
    "    \n",
    "#     table = np.zeros((MAX_LATENT, MAX_LATENT))\n",
    "    \n",
    "#     for x in range(MAX_LATENT):\n",
    "#         for z in range(x, MAX_LATENT):\n",
    "#             table[x, z] = rv_pmf(z, mu, sigma) * stats.binom.pmf(x, z, p) / px_table[x]\n",
    "#     return table"
   ]
  },
  {
   "cell_type": "code",
   "execution_count": 545,
   "metadata": {},
   "outputs": [],
   "source": [
    "def create_pz_table(mu, sigma, p, px_table):\n",
    "    \"\"\" Returns a matrix M x M where rows indicate X and columns indicate Z \"\"\"\n",
    "    \n",
    "    #px_table = create_px_table(mu, sigma, p)\n",
    "    px_table = np.tile(px_table.reshape(-1, 1), [1, MAX_LATENT])\n",
    "    \n",
    "    z_probs = np.tile(rv_pmf(np.arange(0, MAX_LATENT), mu, sigma).reshape(1, -1), [MAX_LATENT, 1])\n",
    "    \n",
    "    table = z_probs * binom_table / px_table\n",
    "\n",
    "    return table"
   ]
  },
  {
   "cell_type": "code",
   "execution_count": 546,
   "metadata": {},
   "outputs": [],
   "source": [
    "def log_likelihood(observed, mu, sigma):\n",
    "    \n",
    "    observed_counts = pd.Series(observed).value_counts()\n",
    "    optimal_px_table = create_px_table(mu, sigma, 0.1)\n",
    "    optimal_likelihood = np.array([count*np.log(optimal_px_table[val]) for val,count in zip(observed_counts.index, observed_counts)]).sum()\n",
    "    optimal_likelihood"
   ]
  },
  {
   "cell_type": "markdown",
   "metadata": {},
   "source": [
    "### Maximization step: Fit a weighted Gaussian on the latent variables\n",
    "\n",
    "The maximization step in the EM algorithm involves using the calculated values of $P(Z|X)$ above to fit new values of the parameters mu, sigma, and p.\n",
    "\n",
    "In the 1D case, this is rather simple: we expand out each observation $ X = i $ to ~30 different values with different weights. For example, if we observed a cell with $ X = 1 $, we create 20 rows for this cell with different values of Z that it could have had. Then, we fit a Gaussian (calculate mean and variance) on those Z values, with using the previously calculated $P(Z|X)$ as weights. More concretely, we calculate the mean and variance as follows, when we consider the upper limit of $Z$ to be $Z_{max}$:\n",
    "\n",
    "$\n",
    "\\hat{\\mu} = \\frac{1}{N} \\sum_{i=1}^{N} \\bigg( \\sum_{z=x_i}^{Z_{max}}\\big[ P(z|x_i)(z)    \\big]\\bigg) \\\\\n",
    "\\hat{\\sigma}^2 = \\frac{1}{N-1}\\sum_{i=1}^{N}\\bigg( \\sum_{z=x_i}^{Z_{max}}\\big[ P(z|x_i)(z - \\hat{\\mu})^2 \\big]\\bigg)\n",
    "$"
   ]
  },
  {
   "cell_type": "code",
   "execution_count": 547,
   "metadata": {},
   "outputs": [],
   "source": [
    "def get_parameters(observed_data, prob_table, base_dataframe):\n",
    "    \"\"\" Get the parameters of the Gaussian and dropout \"\"\"\n",
    "    \n",
    "    weights = np.triu(prob_table+1, k=0).reshape(-1)\n",
    "    weights = weights[weights != 0] -1\n",
    "    \n",
    "    observed_data['latent_weight'] = weights[observed_data['row_num'].values]\n",
    "    \n",
    "#     base_dataframe['latent_weight'] = np.concatenate([prob_table[x, x:].reshape(-1, 1) for x in range(MAX_LATENT)])\n",
    "    \n",
    "#     data = observed_data.join(\n",
    "#         base_dataframe,\n",
    "#         how='left')\n",
    "    \n",
    "    observed_data['point_weight'] = observed_data['observed_weight'] * observed_data['latent_weight']\n",
    "    \n",
    "    p_estimate = p\n",
    "    mu, sigma = fit_lognormal(observed_data['latent'].values, w=observed_data['point_weight'].values)\n",
    "    \n",
    "    return mu, sigma, p_estimate"
   ]
  },
  {
   "cell_type": "markdown",
   "metadata": {},
   "source": [
    "### Perform EM"
   ]
  },
  {
   "cell_type": "code",
   "execution_count": 639,
   "metadata": {},
   "outputs": [],
   "source": [
    "# Initialize hyperparameters for EM\n",
    "NUM_ITER = 500"
   ]
  },
  {
   "cell_type": "code",
   "execution_count": 640,
   "metadata": {},
   "outputs": [],
   "source": [
    "# Initialize the parameters\n",
    "p_hat = p\n",
    "mu_hat = 10\n",
    "sigma_hat = 10"
   ]
  },
  {
   "cell_type": "code",
   "execution_count": 641,
   "metadata": {},
   "outputs": [],
   "source": [
    "observed_counts = pd.Series(observed).value_counts()\n",
    "neg_mean = neg_mean = (observed_counts[0]/observed_counts.sum() > (1-p))"
   ]
  },
  {
   "cell_type": "code",
   "execution_count": 642,
   "metadata": {},
   "outputs": [],
   "source": [
    "data = pd.DataFrame()\n",
    "data['observed'] = observed\n",
    "data = data.groupby('observed').size().reset_index(name='count')\n",
    "data['observed_weight'] = data['count'] / len(observed)\n",
    "data.set_index('observed', inplace=True)"
   ]
  },
  {
   "cell_type": "code",
   "execution_count": 643,
   "metadata": {},
   "outputs": [],
   "source": [
    "base_dataframe = pd.concat(\n",
    "    [pd.DataFrame(\n",
    "        np.concatenate(\n",
    "            [np.ones(MAX_LATENT-x).reshape(-1, 1)*x, \n",
    "            np.arange(x, MAX_LATENT).reshape(-1,1)], axis=1), \n",
    "        columns=['observed', 'latent']) for x in range(MAX_LATENT)])\n",
    "base_dataframe.set_index('observed', inplace=True)\n",
    "base_dataframe['row_num'] = np.arange(base_dataframe.shape[0])"
   ]
  },
  {
   "cell_type": "code",
   "execution_count": 644,
   "metadata": {},
   "outputs": [],
   "source": [
    "data = data.join(\n",
    "    base_dataframe,\n",
    "    how='left') "
   ]
  },
  {
   "cell_type": "code",
   "execution_count": 645,
   "metadata": {},
   "outputs": [
    {
     "data": {
      "text/plain": [
       "(4509, 4)"
      ]
     },
     "execution_count": 645,
     "metadata": {},
     "output_type": "execute_result"
    }
   ],
   "source": [
    "data.shape"
   ]
  },
  {
   "cell_type": "code",
   "execution_count": 646,
   "metadata": {},
   "outputs": [
    {
     "name": "stderr",
     "output_type": "stream",
     "text": [
      "/anaconda3/envs/scvi/lib/python3.6/site-packages/ipykernel/__main__.py:9: RuntimeWarning: divide by zero encountered in true_divide\n",
      "/anaconda3/envs/scvi/lib/python3.6/site-packages/ipykernel/__main__.py:9: RuntimeWarning: invalid value encountered in true_divide\n"
     ]
    },
    {
     "name": "stdout",
     "output_type": "stream",
     "text": [
      "runtime: 1.5709810256958008\n"
     ]
    }
   ],
   "source": [
    "fitting_progress = []\n",
    "start = time.time()\n",
    "for itr in range(NUM_ITER):\n",
    "    \n",
    "    px_table = create_px_table(mu_hat, sigma_hat, p)\n",
    "    likelihood = np.array([count*np.log(px_table[val]) for val,count in zip(observed_counts.index, observed_counts)]).sum()\n",
    "    \n",
    "    if itr > 0 and (likelihood < fitting_progress[-1][4] + 1e-2 or np.isnan(mu_hat) or np.isnan(sigma_hat) or np.isnan(likelihood)):\n",
    "        mu_hat = fitting_progress[-1][1]\n",
    "        sigma_hat = fitting_progress[-1][2]\n",
    "        print(\"stopped\")\n",
    "        break\n",
    "    \n",
    "    fitting_progress.append((itr, mu_hat, sigma_hat, p_hat, likelihood))\n",
    "    \n",
    "    # E step\n",
    "    prob_table = create_pz_table(mu_hat, sigma_hat, p_hat, px_table)\n",
    "    # M step\n",
    "    mu_hat, sigma_hat, p_hat = get_parameters(data, prob_table, base_dataframe)\n",
    "print('runtime:', time.time() - start)"
   ]
  },
  {
   "cell_type": "code",
   "execution_count": 647,
   "metadata": {},
   "outputs": [],
   "source": [
    "fitting_progress = pd.DataFrame(fitting_progress, columns=['iteration', 'mu_hat', 'sigma_hat', 'p_hat', 'log_likelihood'])"
   ]
  },
  {
   "cell_type": "code",
   "execution_count": 648,
   "metadata": {},
   "outputs": [
    {
     "data": {
      "text/plain": [
       "-50214.16969800508"
      ]
     },
     "execution_count": 648,
     "metadata": {},
     "output_type": "execute_result"
    }
   ],
   "source": [
    "optimal_px_table = create_px_table(mu, sigma, p)\n",
    "optimal_likelihood = np.array([count*np.log(optimal_px_table[val]) for val,count in zip(observed_counts.index, observed_counts)]).sum()\n",
    "optimal_likelihood"
   ]
  },
  {
   "cell_type": "code",
   "execution_count": 649,
   "metadata": {},
   "outputs": [
    {
     "data": {
      "text/html": [
       "<div>\n",
       "<style scoped>\n",
       "    .dataframe tbody tr th:only-of-type {\n",
       "        vertical-align: middle;\n",
       "    }\n",
       "\n",
       "    .dataframe tbody tr th {\n",
       "        vertical-align: top;\n",
       "    }\n",
       "\n",
       "    .dataframe thead th {\n",
       "        text-align: right;\n",
       "    }\n",
       "</style>\n",
       "<table border=\"1\" class=\"dataframe\">\n",
       "  <thead>\n",
       "    <tr style=\"text-align: right;\">\n",
       "      <th></th>\n",
       "      <th>iteration</th>\n",
       "      <th>mu_hat</th>\n",
       "      <th>sigma_hat</th>\n",
       "      <th>p_hat</th>\n",
       "      <th>log_likelihood</th>\n",
       "    </tr>\n",
       "  </thead>\n",
       "  <tbody>\n",
       "    <tr>\n",
       "      <th>495</th>\n",
       "      <td>495</td>\n",
       "      <td>5.182044</td>\n",
       "      <td>0.034917</td>\n",
       "      <td>0.01</td>\n",
       "      <td>-40013.526092</td>\n",
       "    </tr>\n",
       "    <tr>\n",
       "      <th>496</th>\n",
       "      <td>496</td>\n",
       "      <td>5.182118</td>\n",
       "      <td>0.034892</td>\n",
       "      <td>0.01</td>\n",
       "      <td>-40013.382052</td>\n",
       "    </tr>\n",
       "    <tr>\n",
       "      <th>497</th>\n",
       "      <td>497</td>\n",
       "      <td>5.182191</td>\n",
       "      <td>0.034866</td>\n",
       "      <td>0.01</td>\n",
       "      <td>-40013.238672</td>\n",
       "    </tr>\n",
       "    <tr>\n",
       "      <th>498</th>\n",
       "      <td>498</td>\n",
       "      <td>5.182265</td>\n",
       "      <td>0.034840</td>\n",
       "      <td>0.01</td>\n",
       "      <td>-40013.095949</td>\n",
       "    </tr>\n",
       "    <tr>\n",
       "      <th>499</th>\n",
       "      <td>499</td>\n",
       "      <td>5.182337</td>\n",
       "      <td>0.034815</td>\n",
       "      <td>0.01</td>\n",
       "      <td>-40012.953879</td>\n",
       "    </tr>\n",
       "  </tbody>\n",
       "</table>\n",
       "</div>"
      ],
      "text/plain": [
       "     iteration    mu_hat  sigma_hat  p_hat  log_likelihood\n",
       "495        495  5.182044   0.034917   0.01   -40013.526092\n",
       "496        496  5.182118   0.034892   0.01   -40013.382052\n",
       "497        497  5.182191   0.034866   0.01   -40013.238672\n",
       "498        498  5.182265   0.034840   0.01   -40013.095949\n",
       "499        499  5.182337   0.034815   0.01   -40012.953879"
      ]
     },
     "execution_count": 649,
     "metadata": {},
     "output_type": "execute_result"
    }
   ],
   "source": [
    "fitting_progress.tail(5)"
   ]
  },
  {
   "cell_type": "code",
   "execution_count": 650,
   "metadata": {},
   "outputs": [
    {
     "name": "stdout",
     "output_type": "stream",
     "text": [
      "5 0.7\n"
     ]
    }
   ],
   "source": [
    "print(mu, sigma)"
   ]
  },
  {
   "cell_type": "code",
   "execution_count": 651,
   "metadata": {},
   "outputs": [
    {
     "data": {
      "text/plain": [
       "Text(0.5,1,'log-likelihood')"
      ]
     },
     "execution_count": 651,
     "metadata": {},
     "output_type": "execute_result"
    },
    {
     "data": {
      "image/png": "[encoded data removed]",
      "text/plain": [
       "<Figure size 1440x216 with 3 Axes>"
      ]
     },
     "metadata": {},
     "output_type": "display_data"
    }
   ],
   "source": [
    "plt.figure(figsize=(20, 3))\n",
    "plt.subplot(1, 3, 1)\n",
    "plt.plot([0, itr], [mu, mu])\n",
    "plt.plot(fitting_progress.iteration, fitting_progress.mu_hat)\n",
    "plt.xlabel('Iteration'); plt.legend(['true', 'estimate']); plt.title('mu')\n",
    "\n",
    "plt.subplot(1, 3, 2)\n",
    "plt.plot([0, itr], [sigma, sigma])\n",
    "plt.plot(fitting_progress.iteration, fitting_progress.sigma_hat)\n",
    "plt.xlabel('Iteration'); plt.legend(['true', 'estimate']); plt.title('sigma')\n",
    "\n",
    "plt.subplot(1, 3, 3)\n",
    "plt.plot([0, itr], [optimal_likelihood, optimal_likelihood])\n",
    "plt.plot(fitting_progress.iteration, fitting_progress.log_likelihood)\n",
    "plt.xlabel('Iteration'); plt.title('log-likelihood')\n",
    "#plt.ylim(-1050, -1040)"
   ]
  },
  {
   "cell_type": "markdown",
   "metadata": {},
   "source": [
    "### Re-create the original distribution\n",
    "\n",
    "Sample a Log-normal distribution with the estimated parameters."
   ]
  },
  {
   "cell_type": "code",
   "execution_count": 624,
   "metadata": {},
   "outputs": [],
   "source": [
    "reconstructed_counts = np.clip(\n",
    "    np.round(stats.lognorm.rvs(\n",
    "        s=sigma_hat,\n",
    "        scale=np.exp(mu_hat), \n",
    "        size=num_cells) ),\n",
    "    a_min=0, \n",
    "    a_max=1000).astype(np.int64)\n",
    "\n",
    "reconstructed_counts_closed = np.clip(\n",
    "    np.round(stats.lognorm.rvs(\n",
    "        s=sigma_hat_closed,\n",
    "        scale=np.exp(mu_hat_closed), \n",
    "        size=num_cells) ),\n",
    "    a_min=0, \n",
    "    a_max=1000).astype(np.int64)\n",
    "\n",
    "reconstructed_normal = stats.norm.rvs(\n",
    "    loc=mu_hat, \n",
    "    scale=sigma_hat, size=num_cells)\n",
    "\n",
    "reconstructed_normal_closed = stats.norm.rvs(\n",
    "    loc=mu_hat_closed, \n",
    "    scale=sigma_hat_closed, size=num_cells)\n",
    "\n",
    "reconstructed_observed =  np.random.binomial(n=reconstructed_counts, p=p)\n",
    "reconstructed_observed_closed =  np.random.binomial(n=reconstructed_counts_closed, p=p)"
   ]
  },
  {
   "cell_type": "code",
   "execution_count": 625,
   "metadata": {},
   "outputs": [
    {
     "data": {
      "text/plain": [
       "Text(0.5,1,'Observed count frequency')"
      ]
     },
     "execution_count": 625,
     "metadata": {},
     "output_type": "execute_result"
    },
    {
     "data": {
      "image/png": "[encoded data removed]",
      "text/plain": [
       "<Figure size 1440x216 with 3 Axes>"
      ]
     },
     "metadata": {},
     "output_type": "display_data"
    }
   ],
   "source": [
    "plt.figure(figsize=(20, 3))\n",
    "plt.subplot(1, 3, 1);\n",
    "plt.hist([ground_truth_counts, reconstructed_counts, reconstructed_counts_closed], bins=25);\n",
    "plt.xlabel('expression');plt.ylabel('count'); plt.legend(['truth', 'reconstructed']);\n",
    "plt.title('Reconstructed lognormal count distribution');\n",
    "\n",
    "plt.subplot(1, 3, 2);\n",
    "plt.hist([normal_continuous, reconstructed_normal, reconstructed_normal_closed], bins=80);\n",
    "plt.xlabel('Log(expression)');plt.ylabel('count'); plt.legend(['truth', 'reconstructed'])\n",
    "plt.title('Reconstructed underlying continuous normal distribution');\n",
    "\n",
    "plt.subplot(1, 3, 3);\n",
    "plt.hist([observed, reconstructed_observed, reconstructed_observed_closed], bins=5);\n",
    "plt.xlabel('Observed counts')\n",
    "plt.title('Observed count frequency')\n",
    "#plt.ylim(0, 10)"
   ]
  },
  {
   "cell_type": "markdown",
   "metadata": {},
   "source": [
    "### Naive approach - multiply by 10 and pseudobulking"
   ]
  },
  {
   "cell_type": "code",
   "execution_count": 629,
   "metadata": {},
   "outputs": [
    {
     "name": "stdout",
     "output_type": "stream",
     "text": [
      "Naive mean 1: 3.9551055173195624\n",
      "Naive std 1: 2.3884399097772815\n"
     ]
    }
   ],
   "source": [
    "naive_mean_1 = np.nan_to_num(np.log(((1/p)*observed+1))).mean()\n",
    "naive_std_1 = np.nan_to_num(np.log(((1/p)*observed+1))).std()\n",
    "print('Naive mean 1:', naive_mean_1)\n",
    "print('Naive std 1:', naive_std_1)"
   ]
  },
  {
   "cell_type": "code",
   "execution_count": 631,
   "metadata": {},
   "outputs": [
    {
     "name": "stdout",
     "output_type": "stream",
     "text": [
      "pbulk mean: 5.243363866286003\n",
      "pbulk std: 0.10693466741281045\n"
     ]
    }
   ],
   "source": [
    "num_pbulk = 20000\n",
    "pbulks = np.array([np.random.choice(observed, size=int((1/p))).sum() for i in range(num_pbulk)])\n",
    "log_pbulks = np.log(pbulks+1)\n",
    "print('pbulk mean:', log_pbulks.mean())\n",
    "print('pbulk std:', log_pbulks.std())"
   ]
  },
  {
   "cell_type": "code",
   "execution_count": 632,
   "metadata": {},
   "outputs": [
    {
     "name": "stdout",
     "output_type": "stream",
     "text": [
      "5 0.7\n"
     ]
    }
   ],
   "source": [
    "print(mu, sigma)"
   ]
  },
  {
   "cell_type": "code",
   "execution_count": 638,
   "metadata": {},
   "outputs": [
    {
     "data": {
      "text/plain": [
       "<matplotlib.legend.Legend at 0x1a2248be80>"
      ]
     },
     "execution_count": 638,
     "metadata": {},
     "output_type": "execute_result"
    },
    {
     "data": {
      "image/png": "[encoded data removed]",
      "text/plain": [
       "<Figure size 432x288 with 1 Axes>"
      ]
     },
     "metadata": {},
     "output_type": "display_data"
    }
   ],
   "source": [
    "plt.hist([\n",
    "    normal_continuous,\n",
    "    stats.norm.rvs(scale=naive_std_1, loc=naive_mean_1, size=num_cells),\n",
    "    stats.norm.rvs(scale=log_pbulks.std(), loc=log_pbulks.mean(), size=num_cells),\n",
    "    stats.norm.rvs(scale=sigma_hat, loc=mu_hat, size=num_cells),\n",
    "    stats.norm.rvs(scale=sigma_hat_closed, loc=mu_hat_closed, size=num_cells)\n",
    "    ], bins=30);\n",
    "plt.legend(['truth', 'naive', 'pbulk', 'simplesc', 'closed'])"
   ]
  },
  {
   "cell_type": "markdown",
   "metadata": {},
   "source": [
    "### Fine tune the parameters"
   ]
  },
  {
   "cell_type": "code",
   "execution_count": 188,
   "metadata": {},
   "outputs": [],
   "source": [
    "grid_size = 20\n",
    "mus = np.linspace(0.05, mu_hat+0.2, grid_size)\n",
    "sigmas = np.linspace(0.05, sigma_hat+0.2, grid_size)"
   ]
  },
  {
   "cell_type": "code",
   "execution_count": 189,
   "metadata": {},
   "outputs": [
    {
     "name": "stderr",
     "output_type": "stream",
     "text": [
      "/anaconda3/envs/scvi/lib/python3.6/site-packages/ipykernel/__main__.py:5: RuntimeWarning: divide by zero encountered in log\n"
     ]
    }
   ],
   "source": [
    "lls = np.zeros((grid_size, grid_size))\n",
    "for idx1, point_mu in enumerate(mus):\n",
    "    for idx2, point_sigma in enumerate(sigmas):\n",
    "        optimal_px_table = create_px_table(point_mu, point_sigma, p)\n",
    "        optimal_likelihood = np.array([count*np.log(optimal_px_table[val]) for val,count in zip(observed_counts.index, observed_counts)]).sum()\n",
    "        lls[idx1][idx2] = optimal_likelihood\n",
    "        "
   ]
  },
  {
   "cell_type": "code",
   "execution_count": 190,
   "metadata": {},
   "outputs": [
    {
     "data": {
      "text/plain": [
       "-101886.43385522695"
      ]
     },
     "execution_count": 190,
     "metadata": {},
     "output_type": "execute_result"
    }
   ],
   "source": [
    "lls.max()"
   ]
  },
  {
   "cell_type": "code",
   "execution_count": 191,
   "metadata": {},
   "outputs": [
    {
     "name": "stdout",
     "output_type": "stream",
     "text": [
      "1.5078986526790061 0.693634287192205\n"
     ]
    }
   ],
   "source": [
    "print(\n",
    "    mus[np.unravel_index(np.argmax(lls), lls.shape)[0]],\n",
    "    sigmas[np.unravel_index(np.argmax(lls), lls.shape)[1]])"
   ]
  },
  {
   "cell_type": "code",
   "execution_count": 192,
   "metadata": {},
   "outputs": [],
   "source": [
    "#mu_hat, sigma_hat = mus[np.unravel_index(np.argmax(lls), lls.shape)[0]], sigmas[np.unravel_index(np.argmax(lls), lls.shape)[1]]"
   ]
  },
  {
   "cell_type": "code",
   "execution_count": 161,
   "metadata": {},
   "outputs": [
    {
     "data": {
      "text/plain": [
       "<matplotlib.axes._subplots.AxesSubplot at 0x1a1a8a1e48>"
      ]
     },
     "execution_count": 161,
     "metadata": {},
     "output_type": "execute_result"
    },
    {
     "data": {
      "image/png": "[encoded data removed]",
      "text/plain": [
       "<Figure size 216x216 with 2 Axes>"
      ]
     },
     "metadata": {},
     "output_type": "display_data"
    }
   ],
   "source": [
    "plt.figure(figsize=(3, 3))\n",
    "sns.heatmap(lls, xticklabels=mus, yticklabels=sigmas, cmap='hot')"
   ]
  }
 ],
 "metadata": {
  "kernelspec": {
   "display_name": "Python [default]",
   "language": "python",
   "name": "python3"
  },
  "language_info": {
   "codemirror_mode": {
    "name": "ipython",
    "version": 3
   },
   "file_extension": ".py",
   "mimetype": "text/x-python",
   "name": "python",
   "nbconvert_exporter": "python",
   "pygments_lexer": "ipython3",
   "version": "3.6.8"
  }
 },
 "nbformat": 4,
 "nbformat_minor": 2
}
