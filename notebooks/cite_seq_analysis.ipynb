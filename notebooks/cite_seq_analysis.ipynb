{
 "cells": [
  {
   "cell_type": "markdown",
   "metadata": {},
   "source": [
    "# CITE-seq scSimple Analysis\n",
    "\n",
    "Using George's dataset, perform differential expression of some marker genes."
   ]
  },
  {
   "cell_type": "code",
   "execution_count": 1,
   "metadata": {},
   "outputs": [
    {
     "name": "stderr",
     "output_type": "stream",
     "text": [
      "/anaconda3/envs/scvi/lib/python3.6/site-packages/h5py/__init__.py:36: FutureWarning: Conversion of the second argument of issubdtype from `float` to `np.floating` is deprecated. In future, it will be treated as `np.float64 == np.dtype(float).type`.\n",
      "  from ._conv import register_converters as _register_converters\n"
     ]
    }
   ],
   "source": [
    "import pandas as pd\n",
    "import numpy as np\n",
    "import scanpy.api as sc\n",
    "import imp\n",
    "import matplotlib as mpl\n",
    "import scipy.stats as stats\n",
    "import warnings\n",
    "warnings.filterwarnings(\"ignore\")\n",
    "import matplotlib.pyplot as plt\n",
    "from skbio.stats.composition import clr\n",
    "import itertools"
   ]
  },
  {
   "cell_type": "code",
   "execution_count": 2,
   "metadata": {},
   "outputs": [],
   "source": [
    "import sys\n",
    "sys.path.append('/Users/mincheolkim/Github/scrna-parameter-estimation/simplesc')\n",
    "import sc_estimator"
   ]
  },
  {
   "cell_type": "code",
   "execution_count": 3,
   "metadata": {},
   "outputs": [],
   "source": [
    "data_path = '/Users/mincheolkim/Google Drive/UCSF/research/parameter_estimation/'"
   ]
  },
  {
   "cell_type": "markdown",
   "metadata": {},
   "source": [
    "### Read the mRNA data"
   ]
  },
  {
   "cell_type": "code",
   "execution_count": 4,
   "metadata": {},
   "outputs": [
    {
     "name": "stderr",
     "output_type": "stream",
     "text": [
      "Variable names are not unique. To make them unique, call `.var_names_make_unique`.\n"
     ]
    }
   ],
   "source": [
    "adata_rna = sc.read_10x_h5(data_path + 'filtered_gene_bc_matrices_h5.h5', 'hg19')\n",
    "adata_rna.var_names_make_unique()"
   ]
  },
  {
   "cell_type": "markdown",
   "metadata": {},
   "source": [
    "### Read the ADT data"
   ]
  },
  {
   "cell_type": "code",
   "execution_count": 5,
   "metadata": {},
   "outputs": [],
   "source": [
    "data_adt = pd.read_csv(data_path + 'final.result.csv', index_col=0).T\n",
    "data_adt['barcode'] = data_adt.index.tolist()"
   ]
  },
  {
   "cell_type": "code",
   "execution_count": 6,
   "metadata": {},
   "outputs": [],
   "source": [
    "cd14_counts = data_adt.CD14_M5E2.values\n",
    "cd4_counts = data_adt['CD4_RPA-T4'].values\n",
    "cd19_counts = data_adt['CD19_HIB19'].values"
   ]
  },
  {
   "cell_type": "code",
   "execution_count": 7,
   "metadata": {},
   "outputs": [
    {
     "data": {
      "image/png": "[encoded data removed]",
      "text/plain": [
       "<Figure size 1224x216 with 3 Axes>"
      ]
     },
     "metadata": {},
     "output_type": "display_data"
    }
   ],
   "source": [
    "plt.figure(figsize=(17, 3));\n",
    "plt.subplot(1, 3, 1);\n",
    "plt.title('CD4 ADT distribution')\n",
    "plt.hist(clr(cd4_counts+1), bins=100);\n",
    "plt.subplot(1, 3, 2);\n",
    "plt.title('CD14 ADT distribution')\n",
    "plt.hist(clr(cd14_counts+1), bins=100);\n",
    "plt.subplot(1, 3, 3);\n",
    "plt.title('CD19 ADT distribution')\n",
    "plt.hist(clr(cd19_counts+1), bins=100);"
   ]
  },
  {
   "cell_type": "code",
   "execution_count": 8,
   "metadata": {},
   "outputs": [
    {
     "name": "stdout",
     "output_type": "stream",
     "text": [
      "Cut off at 1 after CLR for CD14, CD4 and 1.4 for CD19\n"
     ]
    }
   ],
   "source": [
    "cd14_positive_barcodes = data_adt.iloc[clr(cd14_counts+1) > 1, :].index.tolist()\n",
    "cd4_positive_barcodes = data_adt.iloc[clr(cd4_counts+1) > 1, :].index.tolist()\n",
    "cd19_positive_barcodes = data_adt.iloc[clr(cd19_counts+1) > 1.4, :].index.tolist()\n",
    "print('Cut off at 1 after CLR for CD14, CD4 and 1.4 for CD19')"
   ]
  },
  {
   "cell_type": "markdown",
   "metadata": {},
   "source": [
    "### Label some cell types in mRNA using the protein information"
   ]
  },
  {
   "cell_type": "code",
   "execution_count": 9,
   "metadata": {},
   "outputs": [],
   "source": [
    "def cell_type(bc):\n",
    "    if bc.split('-')[0] in cd14_positive_barcodes:\n",
    "        return 'cd14_pos'\n",
    "    elif bc.split('-')[0] in cd4_positive_barcodes:\n",
    "        return 'cd4_pos'\n",
    "    elif bc.split('-')[0] in cd19_positive_barcodes:\n",
    "        return 'cd19_pos'\n",
    "    else:\n",
    "        return 'unknown'"
   ]
  },
  {
   "cell_type": "code",
   "execution_count": 10,
   "metadata": {},
   "outputs": [],
   "source": [
    "adata_rna.obs['cell_type'] = [cell_type(bc) for bc in adata_rna.obs.index.tolist()]"
   ]
  },
  {
   "cell_type": "markdown",
   "metadata": {},
   "source": [
    "### Create a scSimple estimator"
   ]
  },
  {
   "cell_type": "code",
   "execution_count": 11,
   "metadata": {},
   "outputs": [
    {
     "data": {
      "text/plain": [
       "<module 'sc_estimator' from '/Users/mincheolkim/Github/scrna-parameter-estimation/simplesc/sc_estimator.py'>"
      ]
     },
     "execution_count": 11,
     "metadata": {},
     "output_type": "execute_result"
    }
   ],
   "source": [
    "imp.reload(sc_estimator)"
   ]
  },
  {
   "cell_type": "code",
   "execution_count": 12,
   "metadata": {},
   "outputs": [],
   "source": [
    "estimator = sc_estimator.SingleCellEstimator(adata_rna, group_label='cell_type')"
   ]
  },
  {
   "cell_type": "markdown",
   "metadata": {},
   "source": [
    "### CD14 mRNA expression between CD14+ cells and CD4+ cells"
   ]
  },
  {
   "cell_type": "code",
   "execution_count": 13,
   "metadata": {},
   "outputs": [],
   "source": [
    "estimator.compute_1d_params('CD14', group='cd14_pos', initial_sigma_hat = 5, initial_mu_hat=5, num_iter=200)\n",
    "estimator.compute_1d_params('CD14', group='cd4_pos', initial_sigma_hat = 5, initial_mu_hat=5, num_iter=200)"
   ]
  },
  {
   "cell_type": "code",
   "execution_count": 14,
   "metadata": {},
   "outputs": [
    {
     "data": {
      "image/png": "[encoded data removed]",
      "text/plain": [
       "<Figure size 504x144 with 2 Axes>"
      ]
     },
     "metadata": {},
     "output_type": "display_data"
    }
   ],
   "source": [
    "plt.figure(figsize=(7, 2))\n",
    "plt.subplot(1, 2, 1)\n",
    "plt.title('CD14 expression in CD14+ cells')\n",
    "plt.hist(\n",
    "    [estimator.generate_reconstructed_obs('CD14', group='cd14_pos'),\n",
    "    adata_rna[adata_rna.obs.cell_type == 'cd14_pos', :][:, 'CD14'].X], bins=20);\n",
    "plt.legend(['reconstructed', 'observed'])\n",
    "plt.subplot(1, 2, 2)\n",
    "plt.title('CD14 expression in CD4+ cells')\n",
    "plt.hist(\n",
    "    [estimator.generate_reconstructed_obs('CD14', group='cd4_pos'),\n",
    "    adata_rna[adata_rna.obs.cell_type == 'cd4_pos', :][:, 'CD14'].X], bins=20);\n",
    "plt.legend(['reconstructed', 'observed'])\n",
    "plt.savefig(data_path + 'figures/cd14_adt_data.pdf')"
   ]
  },
  {
   "cell_type": "code",
   "execution_count": 15,
   "metadata": {},
   "outputs": [
    {
     "data": {
      "text/plain": [
       "{'CD14': {('cd4_pos', 'cd14_pos'): (-169.67332765247545,\n",
       "   2633.350422018368,\n",
       "   0.0)}}"
      ]
     },
     "execution_count": 15,
     "metadata": {},
     "output_type": "execute_result"
    }
   ],
   "source": [
    "estimator.differential_expression('CD14', groups=('cd4_pos', 'cd14_pos'))\n",
    "estimator.diff_exp"
   ]
  },
  {
   "cell_type": "code",
   "execution_count": 28,
   "metadata": {},
   "outputs": [
    {
     "data": {
      "text/plain": [
       "Text(0.5,0,'Log(Expression)')"
      ]
     },
     "execution_count": 28,
     "metadata": {},
     "output_type": "execute_result"
    },
    {
     "data": {
      "image/png": "[encoded data removed]",
      "text/plain": [
       "<Figure size 432x288 with 1 Axes>"
      ]
     },
     "metadata": {},
     "output_type": "display_data"
    }
   ],
   "source": [
    "plt.hist([\n",
    "    stats.norm.rvs(\n",
    "        loc=estimator.param_1d['CD14']['cd4_pos'][0], \n",
    "        scale=estimator.param_1d['CD14']['cd4_pos'][1], size=5000),\n",
    "    stats.norm.rvs(\n",
    "        loc=estimator.param_1d['CD14']['cd14_pos'][0], \n",
    "        scale=estimator.param_1d['CD14']['cd14_pos'][1], size=5000)\n",
    "    ], bins=100);\n",
    "plt.title('Reconstructed CD14 expression in CD4+ and CD14+ cells')\n",
    "plt.legend(['CD4+', 'CD14+'])\n",
    "plt.xlabel('Log(Expression)')"
   ]
  },
  {
   "cell_type": "markdown",
   "metadata": {},
   "source": [
    "### CD4 mRNA expression between CD14+ cells and CD4+ cells\n",
    "\n",
    "Ironially CD14+ cells have more CD4 mRNA than CD4+ cells"
   ]
  },
  {
   "cell_type": "code",
   "execution_count": 17,
   "metadata": {},
   "outputs": [],
   "source": [
    "estimator.compute_1d_params('CD4', group='cd14_pos', initial_sigma_hat = 5, initial_mu_hat=5, num_iter=200)\n",
    "estimator.compute_1d_params('CD4', group='cd4_pos', initial_sigma_hat = 5, initial_mu_hat=5, num_iter=200)"
   ]
  },
  {
   "cell_type": "code",
   "execution_count": 18,
   "metadata": {},
   "outputs": [
    {
     "data": {
      "image/png": "[encoded data removed]",
      "text/plain": [
       "<Figure size 504x144 with 2 Axes>"
      ]
     },
     "metadata": {},
     "output_type": "display_data"
    }
   ],
   "source": [
    "plt.figure(figsize=(7, 2))\n",
    "plt.subplot(1, 2, 1)\n",
    "plt.title('CD4 expression in CD14+ cells')\n",
    "plt.hist(\n",
    "    [estimator.generate_reconstructed_obs('CD4', group='cd14_pos'),\n",
    "    adata_rna[adata_rna.obs.cell_type == 'cd14_pos', :][:, 'CD4'].X], bins=20);\n",
    "plt.legend(['reconstructed', 'observed'])\n",
    "plt.subplot(1, 2, 2)\n",
    "plt.title('CD4 expression in CD4+ cells')\n",
    "plt.hist(\n",
    "    [estimator.generate_reconstructed_obs('CD4', group='cd4_pos'),\n",
    "    adata_rna[adata_rna.obs.cell_type == 'cd4_pos', :][:, 'CD4'].X], bins=20);\n",
    "plt.legend(['reconstructed', 'observed'])\n",
    "plt.savefig(data_path + 'figures/cd4_adt_data.pdf')"
   ]
  },
  {
   "cell_type": "code",
   "execution_count": 19,
   "metadata": {},
   "outputs": [
    {
     "data": {
      "text/plain": [
       "{'CD14': {('cd4_pos', 'cd14_pos'): (-169.99470512533273,\n",
       "   2633.918239936554,\n",
       "   0.0)},\n",
       " 'CD4': {('cd4_pos', 'cd14_pos'): (-48.98535753222468,\n",
       "   3228.0614699702596,\n",
       "   0.0)}}"
      ]
     },
     "execution_count": 19,
     "metadata": {},
     "output_type": "execute_result"
    }
   ],
   "source": [
    "estimator.differential_expression('CD4', groups=('cd4_pos', 'cd14_pos'))\n",
    "estimator.diff_exp"
   ]
  },
  {
   "cell_type": "markdown",
   "metadata": {},
   "source": [
    "### CD3 mRNA expression in CD4+ vs CD14+ cells"
   ]
  },
  {
   "cell_type": "code",
   "execution_count": 30,
   "metadata": {},
   "outputs": [],
   "source": [
    "estimator.compute_1d_params('CD3D', group='cd14_pos', initial_sigma_hat = 5, initial_mu_hat=5, num_iter=200)\n",
    "estimator.compute_1d_params('CD3D', group='cd4_pos', initial_sigma_hat = 5, initial_mu_hat=5, num_iter=200)"
   ]
  },
  {
   "cell_type": "code",
   "execution_count": 31,
   "metadata": {},
   "outputs": [
    {
     "data": {
      "text/plain": [
       "{'cd14_pos': (1.1409157265437089, 0.7790718704288229, 0.1, 2450),\n",
       " 'cd4_pos': (2.782133481061613, 0.4186102124860046, 0.1, 5232)}"
      ]
     },
     "execution_count": 31,
     "metadata": {},
     "output_type": "execute_result"
    }
   ],
   "source": [
    "estimator.param_1d['CD3D']"
   ]
  },
  {
   "cell_type": "code",
   "execution_count": 32,
   "metadata": {},
   "outputs": [
    {
     "data": {
      "image/png": "[encoded data removed]",
      "text/plain": [
       "<Figure size 504x144 with 2 Axes>"
      ]
     },
     "metadata": {},
     "output_type": "display_data"
    }
   ],
   "source": [
    "plt.figure(figsize=(7, 2))\n",
    "plt.subplot(1, 2, 1)\n",
    "plt.title('CD3D expression in CD14+ cells')\n",
    "plt.hist(\n",
    "    [estimator.generate_reconstructed_obs('CD3D', group='cd14_pos'),\n",
    "    adata_rna[adata_rna.obs.cell_type == 'cd14_pos', :][:, 'CD3D'].X], bins=20);\n",
    "plt.legend(['reconstructed', 'observed'])\n",
    "plt.subplot(1, 2, 2)\n",
    "plt.title('CD3D expression in CD4+ cells')\n",
    "plt.hist(\n",
    "    [estimator.generate_reconstructed_obs('CD3D', group='cd4_pos'),\n",
    "    adata_rna[adata_rna.obs.cell_type == 'cd4_pos', :][:, 'CD3D'].X], bins=20);\n",
    "plt.legend(['reconstructed', 'observed'])\n",
    "plt.savefig(data_path + 'figures/cd3d_adt_data.pdf')"
   ]
  },
  {
   "cell_type": "code",
   "execution_count": 33,
   "metadata": {},
   "outputs": [
    {
     "data": {
      "text/plain": [
       "Text(0.5,0,'Log(Expression)')"
      ]
     },
     "execution_count": 33,
     "metadata": {},
     "output_type": "execute_result"
    },
    {
     "data": {
      "image/png": "[encoded data removed]",
      "text/plain": [
       "<Figure size 432x288 with 1 Axes>"
      ]
     },
     "metadata": {},
     "output_type": "display_data"
    }
   ],
   "source": [
    "plt.hist([\n",
    "    stats.norm.rvs(\n",
    "        loc=estimator.param_1d['CD3D']['cd4_pos'][0], \n",
    "        scale=estimator.param_1d['CD3D']['cd4_pos'][1], size=5000),\n",
    "    stats.norm.rvs(\n",
    "        loc=estimator.param_1d['CD3D']['cd14_pos'][0], \n",
    "        scale=estimator.param_1d['CD3D']['cd14_pos'][1], size=5000)\n",
    "    ], bins=100);\n",
    "plt.title('Reconstructed CD3D expression in CD4+ and CD14+ cells')\n",
    "plt.legend(['CD4+', 'CD14+'])\n",
    "plt.xlabel('Log(Expression)')"
   ]
  },
  {
   "cell_type": "code",
   "execution_count": 23,
   "metadata": {},
   "outputs": [
    {
     "data": {
      "text/plain": [
       "{('cd4_pos', 'cd14_pos'): (97.9517398928843, 3126.165503870036, 0.0)}"
      ]
     },
     "execution_count": 23,
     "metadata": {},
     "output_type": "execute_result"
    }
   ],
   "source": [
    "estimator.differential_expression('CD3D', groups=('cd4_pos', 'cd14_pos'))\n",
    "estimator.diff_exp['CD3D']"
   ]
  },
  {
   "cell_type": "markdown",
   "metadata": {},
   "source": [
    "### CD19 expression in CD19+ cells vs CD14+ cells"
   ]
  },
  {
   "cell_type": "code",
   "execution_count": 34,
   "metadata": {},
   "outputs": [],
   "source": [
    "estimator.compute_1d_params('CD19', group='cd14_pos', initial_sigma_hat = 5, initial_mu_hat=5, num_iter=200)\n",
    "estimator.compute_1d_params('CD19', group='cd19_pos', initial_sigma_hat = 5, initial_mu_hat=5, num_iter=200)"
   ]
  },
  {
   "cell_type": "code",
   "execution_count": 35,
   "metadata": {},
   "outputs": [
    {
     "data": {
      "image/png": "[encoded data removed]",
      "text/plain": [
       "<Figure size 504x144 with 2 Axes>"
      ]
     },
     "metadata": {},
     "output_type": "display_data"
    }
   ],
   "source": [
    "plt.figure(figsize=(7, 2))\n",
    "plt.subplot(1, 2, 1)\n",
    "plt.title('CD19 expression in CD14+ cells')\n",
    "plt.hist(\n",
    "    [estimator.generate_reconstructed_obs('CD19', group='cd14_pos'),\n",
    "    adata_rna[adata_rna.obs.cell_type == 'cd14_pos', :][:, 'CD19'].X], bins=20);\n",
    "plt.legend(['reconstructed', 'observed'])\n",
    "plt.subplot(1, 2, 2)\n",
    "plt.title('CD19 expression in CD19+ cells')\n",
    "plt.hist(\n",
    "    [estimator.generate_reconstructed_obs('CD19', group='cd19_pos'),\n",
    "    adata_rna[adata_rna.obs.cell_type == 'cd19_pos', :][:, 'CD19'].X], bins=20);\n",
    "plt.legend(['reconstructed', 'observed'])\n",
    "plt.savefig(data_path + 'figures/cd19_adt_data.pdf')"
   ]
  },
  {
   "cell_type": "code",
   "execution_count": 37,
   "metadata": {},
   "outputs": [
    {
     "data": {
      "text/plain": [
       "Text(0.5,0,'Log(Expression)')"
      ]
     },
     "execution_count": 37,
     "metadata": {},
     "output_type": "execute_result"
    },
    {
     "data": {
      "image/png": "[encoded data removed]",
      "text/plain": [
       "<Figure size 432x288 with 1 Axes>"
      ]
     },
     "metadata": {},
     "output_type": "display_data"
    }
   ],
   "source": [
    "plt.hist([\n",
    "    stats.norm.rvs(\n",
    "        loc=estimator.param_1d['CD19']['cd14_pos'][0], \n",
    "        scale=estimator.param_1d['CD19']['cd14_pos'][1], size=5000),\n",
    "    stats.norm.rvs(\n",
    "        loc=estimator.param_1d['CD19']['cd19_pos'][0], \n",
    "        scale=estimator.param_1d['CD19']['cd19_pos'][1], size=5000)\n",
    "    ], bins=100);\n",
    "plt.title('Reconstructed CD3D expression in CD14+ and CD19+ cells')\n",
    "plt.legend(['CD14+', 'CD19+'])\n",
    "plt.xlabel('Log(Expression)')"
   ]
  },
  {
   "cell_type": "code",
   "execution_count": null,
   "metadata": {},
   "outputs": [],
   "source": [
    "estimator.differential_expression('CD19', groups=('cd14_pos', 'cd19_pos'))\n",
    "estimator.diff_exp['CD19']"
   ]
  },
  {
   "cell_type": "markdown",
   "metadata": {},
   "source": [
    "### CD3D expression in two random subsets of CD4+ cells\n",
    "\n",
    "This shouldn't be significant."
   ]
  },
  {
   "cell_type": "code",
   "execution_count": 39,
   "metadata": {},
   "outputs": [],
   "source": [
    "adata_rna.obs['cell_type_2'] = adata_rna.obs['cell_type'].apply(lambda x: 'unknown' if x != 'cd4_pos' else ['cd4_1', 'cd4_2'][int(np.round(np.random.rand()))])"
   ]
  },
  {
   "cell_type": "code",
   "execution_count": 40,
   "metadata": {},
   "outputs": [],
   "source": [
    "estimator_2 = sc_estimator.SingleCellEstimator(adata_rna, group_label='cell_type_2')"
   ]
  },
  {
   "cell_type": "code",
   "execution_count": 41,
   "metadata": {},
   "outputs": [],
   "source": [
    "estimator_2.compute_1d_params('CD3D', group='cd4_1', initial_sigma_hat = 5, initial_mu_hat=5, num_iter=200)\n",
    "estimator_2.compute_1d_params('CD3D', group='cd4_2', initial_sigma_hat = 5, initial_mu_hat=5, num_iter=200)"
   ]
  },
  {
   "cell_type": "code",
   "execution_count": 42,
   "metadata": {},
   "outputs": [
    {
     "data": {
      "image/png": "[encoded data removed]",
      "text/plain": [
       "<Figure size 648x144 with 2 Axes>"
      ]
     },
     "metadata": {},
     "output_type": "display_data"
    }
   ],
   "source": [
    "plt.figure(figsize=(9, 2))\n",
    "plt.subplot(1, 2, 1)\n",
    "plt.title('CD3D expression in CD4+ subset cells 1')\n",
    "plt.hist(\n",
    "    [estimator_2.generate_reconstructed_obs('CD3D', group='cd4_1'),\n",
    "    adata_rna[adata_rna.obs.cell_type_2 == 'cd4_1', :][:, 'CD3D'].X], bins=20);\n",
    "plt.legend(['reconstructed', 'observed'])\n",
    "plt.subplot(1, 2, 2)\n",
    "plt.title('CD3D expression in CD4+ subset cells 2')\n",
    "plt.hist(\n",
    "    [estimator_2.generate_reconstructed_obs('CD3D', group='cd4_2'),\n",
    "    adata_rna[adata_rna.obs.cell_type_2 == 'cd4_2', :][:, 'CD3D'].X], bins=20);\n",
    "plt.legend(['reconstructed', 'observed'])\n",
    "plt.savefig(data_path + 'figures/cd3d_adt_data_nc.pdf')"
   ]
  },
  {
   "cell_type": "code",
   "execution_count": 43,
   "metadata": {},
   "outputs": [
    {
     "data": {
      "text/plain": [
       "Text(0.5,0,'Log(Expression)')"
      ]
     },
     "execution_count": 43,
     "metadata": {},
     "output_type": "execute_result"
    },
    {
     "data": {
      "image/png": "[encoded data removed]",
      "text/plain": [
       "<Figure size 432x288 with 1 Axes>"
      ]
     },
     "metadata": {},
     "output_type": "display_data"
    }
   ],
   "source": [
    "plt.hist([\n",
    "    stats.norm.rvs(\n",
    "        loc=estimator_2.param_1d['CD3D']['cd4_1'][0], \n",
    "        scale=estimator_2.param_1d['CD3D']['cd4_1'][1], size=5000),\n",
    "    stats.norm.rvs(\n",
    "        loc=estimator_2.param_1d['CD3D']['cd4_2'][0], \n",
    "        scale=estimator_2.param_1d['CD3D']['cd4_2'][1], size=5000)\n",
    "    ], bins=100);\n",
    "plt.title('Reconstructed CD3D expression in subsets of CD4+ ')\n",
    "plt.legend(['CD14+', 'CD19+'])\n",
    "plt.xlabel('Log(Expression)')"
   ]
  },
  {
   "cell_type": "code",
   "execution_count": 31,
   "metadata": {},
   "outputs": [
    {
     "data": {
      "text/plain": [
       "{('cd4_1', 'cd4_2'): (-1.377286399213399,\n",
       "  5208.49531727091,\n",
       "  0.16848290155452392)}"
      ]
     },
     "execution_count": 31,
     "metadata": {},
     "output_type": "execute_result"
    }
   ],
   "source": [
    "estimator_2.differential_expression('CD3D', groups=('cd4_1', 'cd4_2'))\n",
    "estimator_2.diff_exp['CD3D']"
   ]
  },
  {
   "cell_type": "code",
   "execution_count": 47,
   "metadata": {},
   "outputs": [
    {
     "name": "stdout",
     "output_type": "stream",
     "text": [
      "[[2.1]\n",
      " [1.5]]\n"
     ]
    }
   ],
   "source": [
    "mu = np.array([2.1, 1.5]).reshape(-1, 1)"
   ]
  },
  {
   "cell_type": "code",
   "execution_count": 48,
   "metadata": {},
   "outputs": [
    {
     "name": "stdout",
     "output_type": "stream",
     "text": [
      "[[ 0.36 -0.06]\n",
      " [-0.06  0.16]]\n"
     ]
    }
   ],
   "source": [
    "cov = np.array([[0.6**2, -0.06], [-0.06, 0.4**2]])"
   ]
  },
  {
   "cell_type": "code",
   "execution_count": null,
   "metadata": {},
   "outputs": [],
   "source": [
    "for irf, isg in itertools.product(irfs, isgs):\n",
    "    \n",
    "    gene_1 = irf if irf < isg else isg\n",
    "    gene_2 = irf if irf > isg else isg\n",
    "    \n",
    "    mu_1 = np.array([estimator.param_1d[gene_1]['ctrl'][0], estimator.param_1d[gene_2]['ctrl'][0]])\n",
    "    mu_2 = np.array([estimator.param_1d[gene_1]['stim'][0], estimator.param_1d[gene_2]['stim'][0]])\n",
    "    cov_1 = np.array(\n",
    "        [\n",
    "            [estimator.param_1d[gene_1]['ctrl'][1]**2, estimator.param_2d[gene_1 + '*' + gene_2]['ctrl']],\n",
    "            [estimator.param_2d[gene_1 + '*' + gene_2]['ctrl'], estimator.param_1d[gene_2]['ctrl'][1]**2]\n",
    "        ])\n",
    "    cov_1 = np.array(\n",
    "        [\n",
    "            [estimator.param_1d[gene_1]['stim'][1]**2, estimator.param_2d[gene_1 + '*' + gene_2]['stim']],\n",
    "            [estimator.param_2d[gene_1 + '*' + gene_2]['stim'], estimator.param_1d[gene_2]['stim'][1]**2]\n",
    "        ])\n",
    "    \n",
    "    draws1 = stats.norm.rvs(mean=mu_1, cov=cov_1, size=10000)\n",
    "    draws2 = stats.norm.rvs(mean=mu_2, cov=cov_2, size=10000)\n",
    "    \n",
    "    plt.figure(5, 5)\n",
    "    plt.scatter(draws1[:, 0], draws1[:, 1], s=3)\n",
    "    plt.scatter(draws2[:, 0], draws2[:, 1], s=3)\n",
    "    plt.title('Estimated parameters for {} and {}'.format(gene_1, gene_2))\n",
    "    plt.xlabel('Log(latent exp) {}'.format(gene_1));\n",
    "    plt.ylabel('Log(latent exp) {}'.format(gene_2));"
   ]
  },
  {
   "cell_type": "code",
   "execution_count": null,
   "metadata": {},
   "outputs": [],
   "source": []
  }
 ],
 "metadata": {
  "kernelspec": {
   "display_name": "Python [conda env:scvi]",
   "language": "python",
   "name": "conda-env-scvi-py"
  },
  "language_info": {
   "codemirror_mode": {
    "name": "ipython",
    "version": 3
   },
   "file_extension": ".py",
   "mimetype": "text/x-python",
   "name": "python",
   "nbconvert_exporter": "python",
   "pygments_lexer": "ipython3",
   "version": "3.6.8"
  }
 },
 "nbformat": 4,
 "nbformat_minor": 2
}
