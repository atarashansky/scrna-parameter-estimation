{
 "cells": [
  {
   "cell_type": "markdown",
   "metadata": {},
   "source": [
    "# CITE-seq scSimple Analysis\n",
    "\n",
    "Using George's dataset, perform differential expression of some marker genes."
   ]
  },
  {
   "cell_type": "code",
   "execution_count": 34,
   "metadata": {},
   "outputs": [],
   "source": [
    "import pandas as pd\n",
    "import numpy as np\n",
    "import scanpy.api as sc\n",
    "import imp\n",
    "import matplotlib as mpl\n",
    "import scipy.stats as stats\n",
    "import warnings\n",
    "warnings.filterwarnings(\"ignore\")\n",
    "import matplotlib.pyplot as plt\n",
    "from skbio.stats.composition import clr"
   ]
  },
  {
   "cell_type": "code",
   "execution_count": 35,
   "metadata": {},
   "outputs": [],
   "source": [
    "import sys\n",
    "sys.path.append('/Users/mincheolkim/Github/scrna-parameter-estimation/simplesc')\n",
    "import sc_estimator"
   ]
  },
  {
   "cell_type": "code",
   "execution_count": 36,
   "metadata": {},
   "outputs": [],
   "source": [
    "data_path = '/Users/mincheolkim/Google Drive/UCSF/research/parameter_estimation/'"
   ]
  },
  {
   "cell_type": "markdown",
   "metadata": {},
   "source": [
    "### Read the mRNA data"
   ]
  },
  {
   "cell_type": "code",
   "execution_count": 37,
   "metadata": {},
   "outputs": [
    {
     "name": "stderr",
     "output_type": "stream",
     "text": [
      "Variable names are not unique. To make them unique, call `.var_names_make_unique`.\n"
     ]
    }
   ],
   "source": [
    "adata_rna = sc.read_10x_h5(data_path + 'filtered_gene_bc_matrices_h5.h5', 'hg19')\n",
    "adata_rna.var_names_make_unique()"
   ]
  },
  {
   "cell_type": "markdown",
   "metadata": {},
   "source": [
    "### Read the ADT data"
   ]
  },
  {
   "cell_type": "code",
   "execution_count": 38,
   "metadata": {},
   "outputs": [],
   "source": [
    "data_adt = pd.read_csv(data_path + 'final.result.csv', index_col=0).T\n",
    "data_adt['barcode'] = data_adt.index.tolist()"
   ]
  },
  {
   "cell_type": "code",
   "execution_count": 39,
   "metadata": {},
   "outputs": [],
   "source": [
    "cd14_counts = data_adt.CD14_M5E2.values\n",
    "cd4_counts = data_adt['CD4_RPA-T4'].values\n",
    "cd19_counts = data_adt['CD19_HIB19'].values"
   ]
  },
  {
   "cell_type": "code",
   "execution_count": 40,
   "metadata": {},
   "outputs": [
    {
     "data": {
      "image/png": "[encoded data removed]",
      "text/plain": [
       "<Figure size 1224x216 with 3 Axes>"
      ]
     },
     "metadata": {},
     "output_type": "display_data"
    }
   ],
   "source": [
    "plt.figure(figsize=(17, 3));\n",
    "plt.subplot(1, 3, 1);\n",
    "plt.title('CD4 ADT distribution')\n",
    "plt.hist(clr(cd4_counts+1), bins=100);\n",
    "plt.subplot(1, 3, 2);\n",
    "plt.title('CD14 ADT distribution')\n",
    "plt.hist(clr(cd14_counts+1), bins=100);\n",
    "plt.subplot(1, 3, 3);\n",
    "plt.title('CD19 ADT distribution')\n",
    "plt.hist(clr(cd19_counts+1), bins=100);"
   ]
  },
  {
   "cell_type": "code",
   "execution_count": 41,
   "metadata": {},
   "outputs": [
    {
     "name": "stdout",
     "output_type": "stream",
     "text": [
      "Cut off at 1 after CLR for CD14, CD4 and 1.3 for CD19\n"
     ]
    }
   ],
   "source": [
    "cd14_positive_barcodes = data_adt.iloc[clr(cd14_counts+1) > 1, :].index.tolist()\n",
    "cd4_positive_barcodes = data_adt.iloc[clr(cd4_counts+1) > 1, :].index.tolist()\n",
    "cd19_positive_barcodes = data_adt.iloc[clr(cd19_counts+1) > 1.3, :].index.tolist()\n",
    "print('Cut off at 1 after CLR for CD14, CD4 and 1.3 for CD19')"
   ]
  },
  {
   "cell_type": "markdown",
   "metadata": {},
   "source": [
    "### Label some cell types in mRNA using the protein information"
   ]
  },
  {
   "cell_type": "code",
   "execution_count": 42,
   "metadata": {},
   "outputs": [],
   "source": [
    "def cell_type(bc):\n",
    "    if bc.split('-')[0] in cd14_positive_barcodes:\n",
    "        return 'cd14_pos'\n",
    "    elif bc.split('-')[0] in cd4_positive_barcodes:\n",
    "        return 'cd4_pos'\n",
    "    elif bc.split('-')[0] in cd19_positive_barcodes:\n",
    "        return 'cd19_pos'\n",
    "    else:\n",
    "        return 'unknown'"
   ]
  },
  {
   "cell_type": "code",
   "execution_count": 43,
   "metadata": {},
   "outputs": [],
   "source": [
    "adata_rna.obs['cell_type'] = [cell_type(bc) for bc in adata_rna.obs.index.tolist()]"
   ]
  },
  {
   "cell_type": "markdown",
   "metadata": {},
   "source": [
    "### Create a scSimple estimator"
   ]
  },
  {
   "cell_type": "code",
   "execution_count": 44,
   "metadata": {},
   "outputs": [
    {
     "data": {
      "text/plain": [
       "<module 'sc_estimator' from '/Users/mincheolkim/Github/scrna-parameter-estimation/simplesc/sc_estimator.py'>"
      ]
     },
     "execution_count": 44,
     "metadata": {},
     "output_type": "execute_result"
    }
   ],
   "source": [
    "imp.reload(sc_estimator)"
   ]
  },
  {
   "cell_type": "code",
   "execution_count": 45,
   "metadata": {},
   "outputs": [],
   "source": [
    "estimator = sc_estimator.SingleCellEstimator(adata_rna, group_label='cell_type')"
   ]
  },
  {
   "cell_type": "markdown",
   "metadata": {},
   "source": [
    "### CD14 mRNA expression between CD14+ cells and CD4+ cells"
   ]
  },
  {
   "cell_type": "code",
   "execution_count": 46,
   "metadata": {},
   "outputs": [],
   "source": [
    "estimator.compute_1d_params('CD14', group='cd14_pos', initial_sigma_hat = 5, initial_mu_hat=5, num_iter=200)\n",
    "estimator.compute_1d_params('CD14', group='cd4_pos', initial_sigma_hat = 5, initial_mu_hat=5, num_iter=200)"
   ]
  },
  {
   "cell_type": "code",
   "execution_count": 47,
   "metadata": {},
   "outputs": [
    {
     "data": {
      "text/plain": [
       "<matplotlib.legend.Legend at 0x1c1d567c88>"
      ]
     },
     "execution_count": 47,
     "metadata": {},
     "output_type": "execute_result"
    },
    {
     "data": {
      "image/png": "[encoded data removed]",
      "text/plain": [
       "<Figure size 504x144 with 2 Axes>"
      ]
     },
     "metadata": {},
     "output_type": "display_data"
    }
   ],
   "source": [
    "plt.figure(figsize=(7, 2))\n",
    "plt.subplot(1, 2, 1)\n",
    "plt.title('CD14 expression in CD14+ cells')\n",
    "plt.hist(\n",
    "    [estimator.generate_reconstructed_obs('CD14', group='cd14_pos'),\n",
    "    adata_rna[adata_rna.obs.cell_type == 'cd14_pos', :][:, 'CD14'].X], bins=20);\n",
    "plt.legend(['reconstructed', 'observed'])\n",
    "plt.subplot(1, 2, 2)\n",
    "plt.title('CD14 expression in CD4+ cells')\n",
    "plt.hist(\n",
    "    [estimator.generate_reconstructed_obs('CD14', group='cd4_pos'),\n",
    "    adata_rna[adata_rna.obs.cell_type == 'cd4_pos', :][:, 'CD14'].X], bins=20);\n",
    "plt.legend(['reconstructed', 'observed'])"
   ]
  },
  {
   "cell_type": "code",
   "execution_count": 50,
   "metadata": {},
   "outputs": [
    {
     "data": {
      "text/plain": [
       "{'CD14': {('cd4_pos', 'cd14_pos'): (-169.99470512533273,\n",
       "   2633.918239936554,\n",
       "   0.0)}}"
      ]
     },
     "execution_count": 50,
     "metadata": {},
     "output_type": "execute_result"
    }
   ],
   "source": [
    "estimator.differential_expression('CD14', groups=('cd4_pos', 'cd14_pos'))\n",
    "estimator.diff_exp"
   ]
  },
  {
   "cell_type": "markdown",
   "metadata": {},
   "source": [
    "### CD4 mRNA expression between CD14+ cells and CD4+ cells\n",
    "\n",
    "Ironially CD14+ cells have more CD4 mRNA than CD4+ cells"
   ]
  },
  {
   "cell_type": "code",
   "execution_count": 51,
   "metadata": {},
   "outputs": [],
   "source": [
    "estimator.compute_1d_params('CD4', group='cd14_pos', initial_sigma_hat = 5, initial_mu_hat=5, num_iter=200)\n",
    "estimator.compute_1d_params('CD4', group='cd4_pos', initial_sigma_hat = 5, initial_mu_hat=5, num_iter=200)"
   ]
  },
  {
   "cell_type": "code",
   "execution_count": 52,
   "metadata": {},
   "outputs": [
    {
     "data": {
      "text/plain": [
       "<matplotlib.legend.Legend at 0x1c1ce22550>"
      ]
     },
     "execution_count": 52,
     "metadata": {},
     "output_type": "execute_result"
    },
    {
     "data": {
      "image/png": "[encoded data removed]",
      "text/plain": [
       "<Figure size 504x144 with 2 Axes>"
      ]
     },
     "metadata": {},
     "output_type": "display_data"
    }
   ],
   "source": [
    "plt.figure(figsize=(7, 2))\n",
    "plt.subplot(1, 2, 1)\n",
    "plt.title('CD4 expression in CD14+ cells')\n",
    "plt.hist(\n",
    "    [estimator.generate_reconstructed_obs('CD4', group='cd14_pos'),\n",
    "    adata_rna[adata_rna.obs.cell_type == 'cd14_pos', :][:, 'CD4'].X], bins=20);\n",
    "plt.legend(['reconstructed', 'observed'])\n",
    "plt.subplot(1, 2, 2)\n",
    "plt.title('CD4 expression in CD4+ cells')\n",
    "plt.hist(\n",
    "    [estimator.generate_reconstructed_obs('CD4', group='cd4_pos'),\n",
    "    adata_rna[adata_rna.obs.cell_type == 'cd4_pos', :][:, 'CD4'].X], bins=20);\n",
    "plt.legend(['reconstructed', 'observed'])"
   ]
  },
  {
   "cell_type": "code",
   "execution_count": 53,
   "metadata": {},
   "outputs": [
    {
     "data": {
      "text/plain": [
       "{'CD14': {('cd4_pos', 'cd14_pos'): (-169.99470512533273,\n",
       "   2633.918239936554,\n",
       "   0.0)},\n",
       " 'CD4': {('cd4_pos', 'cd14_pos'): (-48.98535753222468,\n",
       "   3228.0614699702596,\n",
       "   0.0)}}"
      ]
     },
     "execution_count": 53,
     "metadata": {},
     "output_type": "execute_result"
    }
   ],
   "source": [
    "estimator.differential_expression('CD4', groups=('cd4_pos', 'cd14_pos'))\n",
    "estimator.diff_exp"
   ]
  },
  {
   "cell_type": "markdown",
   "metadata": {},
   "source": [
    "### CD3 mRNA expression in CD4+ vs CD14+ cells"
   ]
  },
  {
   "cell_type": "code",
   "execution_count": 70,
   "metadata": {},
   "outputs": [],
   "source": [
    "estimator.compute_1d_params('CD3D', group='cd14_pos', initial_sigma_hat = 5, initial_mu_hat=5, num_iter=200)\n",
    "estimator.compute_1d_params('CD3D', group='cd4_pos', initial_sigma_hat = 5, initial_mu_hat=5, num_iter=200)"
   ]
  },
  {
   "cell_type": "code",
   "execution_count": 71,
   "metadata": {},
   "outputs": [
    {
     "data": {
      "text/plain": [
       "<matplotlib.legend.Legend at 0x1c1cfc42e8>"
      ]
     },
     "execution_count": 71,
     "metadata": {},
     "output_type": "execute_result"
    },
    {
     "data": {
      "image/png": "[encoded data removed]",
      "text/plain": [
       "<Figure size 504x144 with 2 Axes>"
      ]
     },
     "metadata": {},
     "output_type": "display_data"
    }
   ],
   "source": [
    "plt.figure(figsize=(7, 2))\n",
    "plt.subplot(1, 2, 1)\n",
    "plt.title('CD3D expression in CD14+ cells')\n",
    "plt.hist(\n",
    "    [estimator.generate_reconstructed_obs('CD3D', group='cd14_pos'),\n",
    "    adata_rna[adata_rna.obs.cell_type == 'cd14_pos', :][:, 'CD3D'].X], bins=20);\n",
    "plt.legend(['reconstructed', 'observed'])\n",
    "plt.subplot(1, 2, 2)\n",
    "plt.title('CD3D expression in CD4+ cells')\n",
    "plt.hist(\n",
    "    [estimator.generate_reconstructed_obs('CD3D', group='cd4_pos'),\n",
    "    adata_rna[adata_rna.obs.cell_type == 'cd4_pos', :][:, 'CD3D'].X], bins=20);\n",
    "plt.legend(['reconstructed', 'observed'])"
   ]
  },
  {
   "cell_type": "code",
   "execution_count": 73,
   "metadata": {},
   "outputs": [
    {
     "data": {
      "text/plain": [
       "{('cd4_pos', 'cd14_pos'): (97.9517398928843, 3126.165503870036, 0.0)}"
      ]
     },
     "execution_count": 73,
     "metadata": {},
     "output_type": "execute_result"
    }
   ],
   "source": [
    "estimator.differential_expression('CD3D', groups=('cd4_pos', 'cd14_pos'))\n",
    "estimator.diff_exp['CD3D']"
   ]
  },
  {
   "cell_type": "markdown",
   "metadata": {},
   "source": [
    "### CD19 expression in CD19+ cells vs CD14+ cells"
   ]
  },
  {
   "cell_type": "code",
   "execution_count": 56,
   "metadata": {},
   "outputs": [],
   "source": [
    "estimator.compute_1d_params('CD19', group='cd14_pos', initial_sigma_hat = 5, initial_mu_hat=5, num_iter=200)\n",
    "estimator.compute_1d_params('CD19', group='cd19_pos', initial_sigma_hat = 5, initial_mu_hat=5, num_iter=200)"
   ]
  },
  {
   "cell_type": "code",
   "execution_count": 61,
   "metadata": {},
   "outputs": [
    {
     "data": {
      "text/plain": [
       "<matplotlib.legend.Legend at 0x1037589e8>"
      ]
     },
     "execution_count": 61,
     "metadata": {},
     "output_type": "execute_result"
    },
    {
     "data": {
      "image/png": "[encoded data removed]",
      "text/plain": [
       "<Figure size 504x144 with 2 Axes>"
      ]
     },
     "metadata": {},
     "output_type": "display_data"
    }
   ],
   "source": [
    "plt.figure(figsize=(7, 2))\n",
    "plt.subplot(1, 2, 1)\n",
    "plt.title('CD19 expression in CD14+ cells')\n",
    "plt.hist(\n",
    "    [estimator.generate_reconstructed_obs('CD19', group='cd14_pos'),\n",
    "    adata_rna[adata_rna.obs.cell_type == 'cd14_pos', :][:, 'CD19'].X], bins=20);\n",
    "plt.legend(['reconstructed', 'observed'])\n",
    "plt.subplot(1, 2, 2)\n",
    "plt.title('CD19 expression in CD19+ cells')\n",
    "plt.hist(\n",
    "    [estimator.generate_reconstructed_obs('CD19', group='cd19_pos'),\n",
    "    adata_rna[adata_rna.obs.cell_type == 'cd19_pos', :][:, 'CD19'].X], bins=20);\n",
    "plt.legend(['reconstructed', 'observed'])"
   ]
  },
  {
   "cell_type": "code",
   "execution_count": 63,
   "metadata": {},
   "outputs": [
    {
     "data": {
      "text/plain": [
       "{('cd14_pos', 'cd19_pos'): (-45.506354121569714,\n",
       "  1183.848108791767,\n",
       "  3.041780828345379e-262)}"
      ]
     },
     "execution_count": 63,
     "metadata": {},
     "output_type": "execute_result"
    }
   ],
   "source": [
    "estimator.differential_expression('CD19', groups=('cd14_pos', 'cd19_pos'))\n",
    "estimator.diff_exp['CD19']"
   ]
  }
 ],
 "metadata": {
  "kernelspec": {
   "display_name": "Python [conda env:scvi]",
   "language": "python",
   "name": "conda-env-scvi-py"
  },
  "language_info": {
   "codemirror_mode": {
    "name": "ipython",
    "version": 3
   },
   "file_extension": ".py",
   "mimetype": "text/x-python",
   "name": "python",
   "nbconvert_exporter": "python",
   "pygments_lexer": "ipython3",
   "version": "3.6.8"
  }
 },
 "nbformat": 4,
 "nbformat_minor": 2
}
