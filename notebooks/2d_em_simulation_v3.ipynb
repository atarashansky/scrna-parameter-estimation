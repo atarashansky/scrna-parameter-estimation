{
 "cells": [
  {
   "cell_type": "markdown",
   "metadata": {},
   "source": [
    "# 2D EM simulation lognormal after getting a good estimate\n",
    "\n",
    "Don't actually look at anything in this notebook"
   ]
  },
  {
   "cell_type": "code",
   "execution_count": 3,
   "metadata": {},
   "outputs": [],
   "source": [
    "import pandas as pd\n",
    "import scipy.io as spio\n",
    "import matplotlib.pyplot as plt\n",
    "import numpy as np\n",
    "import itertools\n",
    "import scipy.stats as stats\n",
    "import time\n",
    "import seaborn as sns\n",
    "from statsmodels.stats.weightstats import DescrStatsW"
   ]
  },
  {
   "cell_type": "markdown",
   "metadata": {},
   "source": [
    "### Functions and constants"
   ]
  },
  {
   "cell_type": "code",
   "execution_count": 4,
   "metadata": {},
   "outputs": [],
   "source": [
    "MAX_LATENT = 60\n",
    "p= 0.1"
   ]
  },
  {
   "cell_type": "code",
   "execution_count": 3,
   "metadata": {},
   "outputs": [],
   "source": [
    "binom_table = np.zeros(shape=(MAX_LATENT, MAX_LATENT))\n",
    "    \n",
    "for x in range(MAX_LATENT):\n",
    "    for z in range(x, MAX_LATENT):\n",
    "        binom_table[x, z] = stats.binom.pmf(x, z, p)"
   ]
  },
  {
   "cell_type": "code",
   "execution_count": 4,
   "metadata": {},
   "outputs": [],
   "source": [
    "d1_binom_probs = np.tile(binom_table, MAX_LATENT)\n",
    "d2_binom_probs = np.repeat(binom_table, MAX_LATENT, axis=1)"
   ]
  },
  {
   "cell_type": "code",
   "execution_count": 5,
   "metadata": {},
   "outputs": [],
   "source": [
    "z_candidates_2d = np.array(list(itertools.product(np.arange(0, MAX_LATENT), np.arange(0, MAX_LATENT))))"
   ]
  },
  {
   "cell_type": "code",
   "execution_count": 6,
   "metadata": {},
   "outputs": [
    {
     "data": {
      "text/plain": [
       "(3600, 2)"
      ]
     },
     "execution_count": 6,
     "metadata": {},
     "output_type": "execute_result"
    }
   ],
   "source": [
    "z_candidates_2d.shape"
   ]
  },
  {
   "cell_type": "code",
   "execution_count": 7,
   "metadata": {},
   "outputs": [
    {
     "ename": "NameError",
     "evalue": "name 'ground_truth_counts' is not defined",
     "output_type": "error",
     "traceback": [
      "\u001b[0;31m---------------------------------------------------------------------------\u001b[0m",
      "\u001b[0;31mNameError\u001b[0m                                 Traceback (most recent call last)",
      "\u001b[0;32m<ipython-input-7-e7c47d7f4b04>\u001b[0m in \u001b[0;36m<module>\u001b[0;34m()\u001b[0m\n\u001b[0;32m----> 1\u001b[0;31m \u001b[0mground_truth_counts\u001b[0m\u001b[0;34m[\u001b[0m\u001b[0mground_truth_counts\u001b[0m\u001b[0;34m.\u001b[0m\u001b[0msum\u001b[0m\u001b[0;34m(\u001b[0m\u001b[0maxis\u001b[0m\u001b[0;34m=\u001b[0m\u001b[0;36m1\u001b[0m\u001b[0;34m)\u001b[0m \u001b[0;34m>\u001b[0m \u001b[0;36m0\u001b[0m\u001b[0;34m,\u001b[0m \u001b[0;34m:\u001b[0m\u001b[0;34m]\u001b[0m\u001b[0;34m\u001b[0m\u001b[0;34m\u001b[0m\u001b[0m\n\u001b[0m",
      "\u001b[0;31mNameError\u001b[0m: name 'ground_truth_counts' is not defined"
     ]
    }
   ],
   "source": [
    "ground_truth_counts[ground_truth_counts.sum(axis=1) > 0, :]"
   ]
  },
  {
   "cell_type": "code",
   "execution_count": null,
   "metadata": {},
   "outputs": [],
   "source": [
    "def _fit_lognormal(x, w=None):\n",
    "    \n",
    "    lnx = np.log(x[x > 0])\n",
    "    muhat = np.average(lnx, weights=w[x > 0])\n",
    "    varhat = np.average((lnx - muhat)**2, weights=w[x > 0])\n",
    "    \n",
    "    return muhat, np.sqrt(varhat)\n",
    "\n",
    "def _fit_covariance(x, mu_1, mu_2, w=None):\n",
    "    \"\"\" x is a N x 2 array. \"\"\"\n",
    "    \n",
    "    lnx = np.log(x[ (x>0).sum(axis=1) > 1 , :])\n",
    "    return np.average((lnx[:, 0] - mu_1) * (lnx[:, 1] - mu_2), weights=w[(x>0).sum(axis=1) > 1 ])"
   ]
  },
  {
   "cell_type": "code",
   "execution_count": 8,
   "metadata": {},
   "outputs": [],
   "source": [
    "def _lognormal_pmf_2d(x, mean, cov):\n",
    "\n",
    "    if type(x) == list:\n",
    "        x = np.array(x).reshape(-1, 2)\n",
    "\n",
    "    x = x.astype(np.float64)\n",
    "\n",
    "    upper_right = x + 0.5\n",
    "\n",
    "    lower_left = x - 0.5\n",
    "\n",
    "    upper_left = x.copy()\n",
    "    upper_left[:, 0] = upper_left[:, 0] - 0.5\n",
    "    upper_left[:, 1] = upper_left[:, 1] + 0.5\n",
    "\n",
    "    lower_right = x.copy()\n",
    "    lower_right[:, 0] = lower_right[:, 0] + 0.5\n",
    "    lower_right[:, 1] = lower_right[:, 1] - 0.5\n",
    "\n",
    "    both_zero = (x.sum(axis=1) == 0)\n",
    "    d0_zero = (x[:, 0] == 0) & (x[:, 1] != 0)\n",
    "    d1_zero = (x[:, 1] == 0) & (x[:, 0] != 0)\n",
    "    both_nonzero = ~(d0_zero | d1_zero | both_zero)\n",
    "\n",
    "    upper_right_cdf = stats.multivariate_normal.cdf(np.log(upper_right), mean=mean, cov=cov)\n",
    "    lower_left_cdf = np.nan_to_num(stats.multivariate_normal.cdf(np.log(lower_left), mean=mean, cov=cov))\n",
    "    upper_left_cdf = np.nan_to_num(stats.multivariate_normal.cdf(np.log(upper_left), mean=mean, cov=cov))\n",
    "    lower_right_cdf = np.nan_to_num(stats.multivariate_normal.cdf(np.log(lower_right), mean=mean, cov=cov))\n",
    "\n",
    "    both_zeros_pmf = upper_right_cdf\n",
    "    d1_zero_pmf = upper_right_cdf - upper_left_cdf\n",
    "    d0_zero_pmf = upper_right_cdf - lower_right_cdf\n",
    "    both_nonzero_pmf = upper_right_cdf - lower_right_cdf - (upper_left_cdf-lower_left_cdf)\n",
    "\n",
    "    return \\\n",
    "        (both_zeros_pmf * both_zero) + \\\n",
    "        (d1_zero_pmf * d1_zero) + \\\n",
    "        (d0_zero_pmf * d0_zero) + \\\n",
    "        (both_nonzero_pmf * both_nonzero)"
   ]
  },
  {
   "cell_type": "code",
   "execution_count": 9,
   "metadata": {},
   "outputs": [],
   "source": [
    "def _multivariate_pmf(x, mean, cov, method='lognormal'):\n",
    "    \"\"\" Multivariate normal PMF. \"\"\"\n",
    "\n",
    "    if method == 'normal':\n",
    "\n",
    "        return multivariate_normal.pdf(x, mean=mean, cov=cov)\n",
    "\n",
    "    if method == 'lognormal':\n",
    "\n",
    "        return _lognormal_pmf_2d(x, mean=mean, cov=cov)"
   ]
  },
  {
   "cell_type": "code",
   "execution_count": 10,
   "metadata": {},
   "outputs": [],
   "source": [
    "def _create_px_table_2d(mu, sigma, p, method):\n",
    "    \n",
    "    pmf_table = np.tile(_multivariate_pmf(z_candidates_2d, mean=mu, cov=sigma, method=method), (MAX_LATENT, 1))\n",
    "    \n",
    "    return (d1_binom_probs * pmf_table).dot(d2_binom_probs.T).T"
   ]
  },
  {
   "cell_type": "code",
   "execution_count": 11,
   "metadata": {},
   "outputs": [],
   "source": [
    "z_cand = np.tile(z_candidates_2d, (MAX_LATENT**2, 1))\n",
    "x_table = np.repeat(z_candidates_2d, MAX_LATENT**2, axis=0)\n",
    "d1_binom = np.repeat(np.repeat(binom_table, MAX_LATENT, axis=1), MAX_LATENT, axis=0).reshape(-1, 1)\n",
    "d2_binom = np.tile(np.tile(binom_table, (1, MAX_LATENT)), (MAX_LATENT, 1)).reshape(-1, 1)\n",
    "\n",
    "\n",
    "def _create_pz_table_2d_bf(mu, sigma, p, method, px_table):\n",
    "    \n",
    "    table = []\n",
    "    for x1 in range(MAX_LATENT):\n",
    "        for x2 in range(MAX_LATENT):\n",
    "            for z1 in range(MAX_LATENT):\n",
    "                for z2 in range(MAX_LATENT):\n",
    "                    table.append((\n",
    "                        x1, x2, z1, z2,\n",
    "                        _multivariate_pmf([z1, z2], mean=mu, cov=sigma, method=method)[0] * \\\n",
    "                        binom_table[x1, z1] * \\\n",
    "                        binom_table[x2, z2] / \\\n",
    "                        px_table[x1, x2]))\n",
    "    return pd.DataFrame(table, columns=['x1', 'x2', 'z1', 'z2', 'latent_weight'])\n",
    "\n",
    "\n",
    "def _create_pz_table_2d(mu, sigma, p, method, px_table):\n",
    "    \"\"\" Returns a matrix M x M where rows indicate X and columns indicate Z \"\"\"\n",
    "\n",
    "    x_prob = np.repeat(px_table.reshape(-1, 1), MAX_LATENT**2, axis=0)\n",
    "    z_prob = np.tile(_multivariate_pmf(z_candidates_2d, mean=mu, cov=sigma, method=method), (1, MAX_LATENT**2)).reshape(-1, 1)\n",
    "    \n",
    "    table = np.hstack([x_table, z_cand, z_prob*d1_binom*d2_binom/x_prob])\n",
    "    return pd.DataFrame(table, columns=['x1', 'x2', 'z1', 'z2', 'latent_weight'])"
   ]
  },
  {
   "cell_type": "code",
   "execution_count": 12,
   "metadata": {},
   "outputs": [],
   "source": [
    "def _fit_multivariate_distribution(data, d1_col='z1', d2_col='z2', weights_col='point_weight', method='lognormal'):\n",
    "\n",
    "    if method == 'normal':\n",
    "\n",
    "        parameters = DescrStatsW(data[[d1_col, d2_col]], weights=data[weights_col])\n",
    "\n",
    "    elif method == 'lognormal':\n",
    "\n",
    "        ln_data = data.query('{} > 0 & {} > 0'.format(d1_col, d2_col))\n",
    "\n",
    "        mu_1, std_1 = _fit_lognormal(ln_data[d1_col], ln_data[weights_col])\n",
    "        mu_2, std_2 = _fit_lognormal(ln_data[d2_col], ln_data[weights_col])\n",
    "\n",
    "        print(ln_data[weights_col].sum())\n",
    "        cov = np.average((ln_data[d1_col] - mu_1) * (ln_data[d2_col] - mu_2), weights=ln_data[weights_col])\n",
    "\n",
    "    return np.array([mu_1, mu_2]), np.array([[std_1**2, cov], [cov, std_2**2]])"
   ]
  },
  {
   "cell_type": "markdown",
   "metadata": {},
   "source": [
    "### Simulate some data"
   ]
  },
  {
   "cell_type": "code",
   "execution_count": 378,
   "metadata": {},
   "outputs": [],
   "source": [
    "mu = np.array([2, 1.8])\n",
    "cov = np.array([[1.4**2, 0.4],[0.4, 0.7**2]])\n",
    "p=0.1\n",
    "num_cells = 100000"
   ]
  },
  {
   "cell_type": "code",
   "execution_count": 379,
   "metadata": {},
   "outputs": [],
   "source": [
    "mvn = np.random.multivariate_normal(mu, cov, size=num_cells)\n",
    "ground_truth_counts = np.round(np.exp(mvn))\n",
    "observed = np.random.binomial(n=ground_truth_counts.astype(int), p=p)"
   ]
  },
  {
   "cell_type": "code",
   "execution_count": 380,
   "metadata": {},
   "outputs": [],
   "source": [
    "observed = np.random.binomial(n=ground_truth_counts.astype(int), p=p)"
   ]
  },
  {
   "cell_type": "code",
   "execution_count": 381,
   "metadata": {},
   "outputs": [
    {
     "data": {
      "text/plain": [
       "0.4157761362618141"
      ]
     },
     "execution_count": 381,
     "metadata": {},
     "output_type": "execute_result"
    }
   ],
   "source": [
    "np.log(np.cov(observed.T)[0, 1]/(p**2 * np.exp(mu.sum() + (cov[0, 0] + cov[1, 1])/2)) + 1)"
   ]
  }
 ],
 "metadata": {
  "kernelspec": {
   "display_name": "Python [conda env:scvi]",
   "language": "python",
   "name": "conda-env-scvi-py"
  },
  "language_info": {
   "codemirror_mode": {
    "name": "ipython",
    "version": 3
   },
   "file_extension": ".py",
   "mimetype": "text/x-python",
   "name": "python",
   "nbconvert_exporter": "python",
   "pygments_lexer": "ipython3",
   "version": "3.6.8"
  }
 },
 "nbformat": 4,
 "nbformat_minor": 2
}
