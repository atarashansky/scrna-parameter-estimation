{
 "cells": [
  {
   "cell_type": "markdown",
   "metadata": {},
   "source": [
    "# Simulation and EM Maximization of the 1D Simple Likelihood for scRNA-seq\n",
    "\n",
    "In this exercise, I generate some data that (could) look like RNA seq in 1 dimension under some assumptions, and design a likelihood function that could recover (some) parameters.\n",
    "\n",
    "I describe an EM-like optimization algorithm to approximately maximize this objective."
   ]
  },
  {
   "cell_type": "markdown",
   "metadata": {},
   "source": [
    "### Imports"
   ]
  },
  {
   "cell_type": "code",
   "execution_count": 5,
   "metadata": {},
   "outputs": [],
   "source": [
    "%matplotlib inline"
   ]
  },
  {
   "cell_type": "code",
   "execution_count": 6,
   "metadata": {},
   "outputs": [],
   "source": [
    "import pandas as pd\n",
    "import matplotlib.pyplot as plt\n",
    "import scipy.stats as stats\n",
    "import seaborn as sns\n",
    "from statsmodels.stats.weightstats import DescrStatsW\n",
    "import numpy as np\n",
    "import itertools\n",
    "import time"
   ]
  },
  {
   "cell_type": "markdown",
   "metadata": {},
   "source": [
    "### 1D Likelihood Function\n",
    "\n",
    "I define the log liklihood given data $x_1, x_2, x_3, x_4, ... , x_N$as follows:\n",
    "\n",
    "$$ LL(p, \\mu, \\sigma ; x_1, x_2, x_3, x_4, ... , x_N) = \\sum_{i=1}^{N}\\log\\bigg(\\sum_{z=0}^{\\infty} \\bigg[{z\\choose{x_i}}p^{x_i}(1-p)^{z-x_i}\\bigg] \\bigg[\\frac{1}{\\sqrt{2\\pi\\sigma^{2}}} \\exp\\bigg(-\\frac{(z-\\mu)^{2}}{2\\sigma^{2}}\\bigg)\\bigg]\\bigg) $$"
   ]
  },
  {
   "cell_type": "markdown",
   "metadata": {},
   "source": [
    "### Ideal optimization problem\n",
    "\n",
    "This likelihood function is obviously not concave (so maximizing is not a convex optimization problem), but it may be possible to design some optimization procedure for finding good parameters, given some reasonable constraints on $p$ the dropout rate and $\\mu$ the mean estimated from either pseudobulks for bulk RNA-seq experiments.\n",
    "\n",
    "The optimization problem we'd like to eventually solve is:\n",
    "\n",
    "\\begin{equation*}\n",
    "\\begin{aligned}\n",
    "& \\underset{p,\\ \\mu,\\ \\sigma}{\\text{maximize}}\n",
    "& & LL(p, \\mu, \\sigma ; x_1, x_2, x_3, x_4, ... , x_N) \\\\\n",
    "& \\text{subject to}\n",
    "& & 0.05 < p < 0.15, \\\\\n",
    "&&& \\mu_{min}\\ <\\ \\mu\\ <\\ \\mu_{max}\n",
    "\\end{aligned}\n",
    "\\end{equation*}\n",
    "\n",
    "The follow outlines an EM algorithm that converges to a local maximum of this objective."
   ]
  },
  {
   "cell_type": "markdown",
   "metadata": {},
   "source": [
    "### Simulation\n",
    "\n",
    "Let us simulate a possible procedure for generadting scRNA-seq data in 1 dimension (1 gene case).\n",
    "\n",
    "\n",
    "1. The underlying distribution Z is mean $\\mu$ with variance $\\sigma^{2}$, $Z \\sim \\mathcal{N}(\\mu,\\,\\sigma^{2})\\,.\n",
    "$\n",
    "2. Then, for each cell sampled from this distribution, we round to the nearest integer and sample a binomial random variable X distributed as $X \\sim Bn(round(Z), p)$ where the sampled $Z$ serves as the number of trials and $p$ serves as the dropout rate of an individual transcript in a cell.\n",
    "\n",
    "For this simulation, we use:\n",
    "- $N$ = 100,000\n",
    "- $\\mu$ = 3\n",
    "- $\\sigma$ = 1\n",
    "- $p$ = 0.1\n"
   ]
  },
  {
   "cell_type": "code",
   "execution_count": 176,
   "metadata": {},
   "outputs": [],
   "source": [
    "# Parameters\n",
    "num_cells = 100000\n",
    "p = 0.1\n",
    "mu = 1\n",
    "sigma = 0.2"
   ]
  },
  {
   "cell_type": "code",
   "execution_count": 177,
   "metadata": {},
   "outputs": [],
   "source": [
    "continuous = np.random.normal(mu, sigma, size=num_cells)"
   ]
  },
  {
   "cell_type": "code",
   "execution_count": 178,
   "metadata": {},
   "outputs": [],
   "source": [
    "ground_truth_counts = np.clip(np.round(continuous), a_min=0, a_max=100).astype(np.int64)"
   ]
  },
  {
   "cell_type": "code",
   "execution_count": 179,
   "metadata": {},
   "outputs": [],
   "source": [
    "observed = np.random.binomial(n=ground_truth_counts, p=p)"
   ]
  },
  {
   "cell_type": "code",
   "execution_count": 180,
   "metadata": {},
   "outputs": [
    {
     "name": "stdout",
     "output_type": "stream",
     "text": [
      "Best possible estimate of mu: 0.99992\n",
      "Best possible estimate of sigma: 0.11162434143142796\n"
     ]
    }
   ],
   "source": [
    "best_mu, best_sigma = stats.norm.fit(ground_truth_counts)\n",
    "print('Best possible estimate of mu:', best_mu)\n",
    "print('Best possible estimate of sigma:', best_sigma)"
   ]
  },
  {
   "cell_type": "code",
   "execution_count": 181,
   "metadata": {},
   "outputs": [
    {
     "data": {
      "text/plain": [
       "Text(0.5,1,'Latent continuous distribution')"
      ]
     },
     "execution_count": 181,
     "metadata": {},
     "output_type": "execute_result"
    },
    {
     "data": {
      "image/png": "[encoded data removed]",
      "text/plain": [
       "<Figure size 432x288 with 1 Axes>"
      ]
     },
     "metadata": {},
     "output_type": "display_data"
    }
   ],
   "source": [
    "plt.hist(continuous, bins=50);\n",
    "plt.xlabel('expression');\n",
    "plt.ylabel('count');\n",
    "plt.title('Latent continuous distribution')"
   ]
  },
  {
   "cell_type": "code",
   "execution_count": 182,
   "metadata": {},
   "outputs": [
    {
     "data": {
      "image/png": "[encoded data removed]",
      "text/plain": [
       "<Figure size 1080x360 with 2 Axes>"
      ]
     },
     "metadata": {},
     "output_type": "display_data"
    }
   ],
   "source": [
    "plt.figure(figsize=(15, 5))\n",
    "plt.subplot(1, 2, 1);\n",
    "plt.title('Underlying distribution')\n",
    "plt.hist(ground_truth_counts, bins=40);\n",
    "plt.xlabel('expression');plt.ylabel('count')\n",
    "plt.subplot(1, 2, 2);\n",
    "plt.title('After downsampling')\n",
    "plt.xlabel('expression');plt.ylabel('count')\n",
    "plt.hist(observed, bins=20);"
   ]
  },
  {
   "cell_type": "markdown",
   "metadata": {},
   "source": [
    "### Expectation step: Computing probabilities for Z\n",
    "\n",
    "The expectation step of the EM algorithm involves calculating the probability of each possible value of Z the hidden variable (in our case, the true expression) given the parameters and the observations (X, mu, sigma, and p).\n",
    "\n",
    "We use the Bayes rule to construct our probabilites for the hidden variables:\n",
    "\n",
    "$ P(Z | X) = \\frac{P(X|Z)P(Z)}{P(X)} $\n",
    "\n",
    "Because of our distributional assumptions, we can evaluate each of the values on the RHS given p, mu, and sigma:\n",
    "\n",
    "$\n",
    "P(X|Z) = {z\\choose{x}}p^{x}(1-p)^{z-x} \\\\\n",
    "P(Z) = \\frac{1}{\\sqrt{2\\pi\\sigma^{2}}} \\exp\\big(-\\frac{(z-\\mu)^{2}}{2\\sigma^{2}}\\big) \\\\\n",
    "P(X) = \\sum_{z=0}^{\\infty} \\bigg[{z\\choose{x}}p^{x}(1-p)^{z-x}\\bigg]\\bigg[\\frac{1}{\\sqrt{2\\pi\\sigma^{2}}} \\exp\\big(-\\frac{(z-\\mu)^{2}}{2\\sigma^{2}}\\big)\\bigg]\n",
    "$"
   ]
  },
  {
   "cell_type": "code",
   "execution_count": 183,
   "metadata": {},
   "outputs": [],
   "source": [
    "def gaussian_pmf(x, mu, sigma):\n",
    "    \"\"\" Gaussian PMF. x may be an array. \"\"\"\n",
    "    return stats.norm.pdf(x, mu, sigma)\n",
    "    \n",
    "    #return stats.norm.cdf(x+0.5, mu, sigma) - (stats.norm.cdf(x-0.5, mu, sigma))"
   ]
  },
  {
   "cell_type": "code",
   "execution_count": 184,
   "metadata": {},
   "outputs": [],
   "source": [
    "def create_px_table(mu, sigma, p):\n",
    "    return np.array([\n",
    "        (gaussian_pmf(np.arange(x, 20), mu, sigma) * stats.binom.pmf(x, np.arange(x, 20), p)).sum()\n",
    "        for x in range(30)])"
   ]
  },
  {
   "cell_type": "code",
   "execution_count": 185,
   "metadata": {},
   "outputs": [],
   "source": [
    "def create_pz_table(mu, sigma, p):\n",
    "    \"\"\" Returns a matrix M x M where rows indicate X and columns indicate Z \"\"\"\n",
    "    \n",
    "    px_table = create_px_table(mu, sigma, p)\n",
    "    table = np.zeros(shape=(20, 20))\n",
    "    for x in range(20):\n",
    "        for z in range(x, 20):\n",
    "            table[x, z] = gaussian_pmf(z, mu, sigma) * stats.binom.pmf(x, z, p) / px_table[x]\n",
    "    return table"
   ]
  },
  {
   "cell_type": "markdown",
   "metadata": {},
   "source": [
    "### Maximization step: Fit a weighted Gaussian on the latent variables\n",
    "\n",
    "The maximization step in the EM algorithm involves using the calculated values of $P(Z|X)$ above to fit new values of the parameters mu, sigma, and p.\n",
    "\n",
    "In the 1D case, this is rather simple: we expand out each observation $ X = i $ to ~30 different values with different weights. For example, if we observed a cell with $ X = 1 $, we create 20 rows for this cell with different values of Z that it could have had. Then, we fit a Gaussian (calculate mean and variance) on those Z values, with using the previously calculated $P(Z|X)$ as weights. More concretely, we calculate the mean and variance as follows, when we consider the upper limit of $Z$ to be $Z_{max}$:\n",
    "\n",
    "$\n",
    "\\hat{\\mu} = \\frac{1}{N} \\sum_{i=1}^{N} \\bigg( \\sum_{z=x_i}^{Z_{max}}\\big[ P(z|x_i)(z)    \\big]\\bigg) \\\\\n",
    "\\hat{\\sigma}^2 = \\frac{1}{N-1}\\sum_{i=1}^{N}\\bigg( \\sum_{z=x_i}^{Z_{max}}\\big[ P(z|x_i)(z - \\hat{\\mu})^2 \\big]\\bigg)\n",
    "$"
   ]
  },
  {
   "cell_type": "code",
   "execution_count": 186,
   "metadata": {},
   "outputs": [],
   "source": [
    "def get_parameters(observed, prob_table):\n",
    "    \"\"\" Get the parameters of the Gaussian and dropout \"\"\"\n",
    "    \n",
    "    data = pd.DataFrame()\n",
    "    data['observed'] = observed\n",
    "    data = data.groupby('observed').size().reset_index(name='count')\n",
    "    data['observed_weight'] = data['count'] / len(observed)\n",
    "    data = data.merge(\n",
    "        pd.concat(\n",
    "            [pd.DataFrame(\n",
    "                np.concatenate(\n",
    "                    [np.ones(20-x).reshape(-1, 1)*x, \n",
    "                    np.arange(x, 20).reshape(-1,1),\n",
    "                    prob_table[x, x:].reshape(-1, 1)], axis=1), \n",
    "                columns=['observed', 'latent', 'latent_weight']) for x in range(20)]),\n",
    "        on='observed', \n",
    "        how='left')\n",
    "    data['point_weight'] = data['observed_weight'] * data['latent_weight']\n",
    "    data['p_estimates'] = (data['observed'] / data['latent'] * data['point_weight']).fillna(0.0).replace(np.inf, 0.0)\n",
    "    p_estimate =p #min(max(data['p_estimates'].sum(), 0.05), 0.15)\n",
    "    stat_estimates = DescrStatsW(data['latent'], weights=data['point_weight'])\n",
    "    return stat_estimates.mean, np.sqrt(stat_estimates.var), p_estimate"
   ]
  },
  {
   "cell_type": "markdown",
   "metadata": {},
   "source": [
    "### Perform EM"
   ]
  },
  {
   "cell_type": "code",
   "execution_count": 201,
   "metadata": {},
   "outputs": [],
   "source": [
    "# Initialize hyperparameters for EM\n",
    "NUM_ITER = 80"
   ]
  },
  {
   "cell_type": "code",
   "execution_count": 202,
   "metadata": {},
   "outputs": [],
   "source": [
    "# Initialize the parameters\n",
    "p_hat = p\n",
    "mu_hat = 10\n",
    "sigma_hat = 10"
   ]
  },
  {
   "cell_type": "code",
   "execution_count": 203,
   "metadata": {},
   "outputs": [
    {
     "name": "stderr",
     "output_type": "stream",
     "text": [
      "/anaconda3/envs/scvi/lib/python3.6/site-packages/pandas/core/ops.py:710: RuntimeWarning: invalid value encountered in true_divide\n",
      "  lambda x: op(x, rvalues))\n",
      "/anaconda3/envs/scvi/lib/python3.6/site-packages/pandas/core/ops.py:710: RuntimeWarning: divide by zero encountered in true_divide\n",
      "  lambda x: op(x, rvalues))\n"
     ]
    }
   ],
   "source": [
    "fitting_progress = []\n",
    "for itr in range(NUM_ITER):\n",
    "    \n",
    "    fitting_progress.append((itr, mu_hat, sigma_hat, p_hat))\n",
    "    \n",
    "    # E step\n",
    "    prob_table = create_pz_table(mu_hat, sigma_hat, p_hat)\n",
    "    \n",
    "    # M step\n",
    "    mu_hat, sigma_hat, p_hat = get_parameters(observed, prob_table)"
   ]
  },
  {
   "cell_type": "code",
   "execution_count": 204,
   "metadata": {},
   "outputs": [],
   "source": [
    "fitting_progress = pd.DataFrame(fitting_progress, columns=['iteration', 'mu_hat', 'sigma_hat', 'p_hat'])"
   ]
  },
  {
   "cell_type": "code",
   "execution_count": 206,
   "metadata": {},
   "outputs": [
    {
     "data": {
      "text/plain": [
       "Text(0.5,1,'stddev')"
      ]
     },
     "execution_count": 206,
     "metadata": {},
     "output_type": "execute_result"
    },
    {
     "data": {
      "image/png": "[encoded data removed]",
      "text/plain": [
       "<Figure size 864x288 with 2 Axes>"
      ]
     },
     "metadata": {},
     "output_type": "display_data"
    }
   ],
   "source": [
    "plt.figure(figsize=(12, 4))\n",
    "plt.subplot(1, 2, 1)\n",
    "plt.plot(fitting_progress.iteration, fitting_progress.mu_hat)\n",
    "plt.plot([0, NUM_ITER], [mu, mu])\n",
    "plt.xlabel('Iteration'); plt.legend(['estimate', 'true']); plt.title('mean')\n",
    "plt.subplot(1, 2, 2)\n",
    "plt.plot(fitting_progress.iteration, fitting_progress.sigma_hat)\n",
    "plt.plot([0, NUM_ITER], [sigma, sigma])\n",
    "plt.xlabel('Iteration'); plt.legend(['estimate', 'true']); plt.title('stddev')"
   ]
  },
  {
   "cell_type": "markdown",
   "metadata": {},
   "source": [
    "### Re-create the original distribution\n",
    "\n",
    "Sample a Gaussian normal with the estimated parameters."
   ]
  },
  {
   "cell_type": "code",
   "execution_count": 207,
   "metadata": {},
   "outputs": [],
   "source": [
    "reconstructed_counts = np.clip(np.round(np.random.normal(mu_hat, sigma_hat, size=num_cells)), a_min=0, a_max=100).astype(np.int64)"
   ]
  },
  {
   "cell_type": "code",
   "execution_count": 208,
   "metadata": {},
   "outputs": [
    {
     "data": {
      "text/plain": [
       "<matplotlib.legend.Legend at 0x1a1ce95b00>"
      ]
     },
     "execution_count": 208,
     "metadata": {},
     "output_type": "execute_result"
    },
    {
     "data": {
      "image/png": "[encoded data removed]",
      "text/plain": [
       "<Figure size 432x288 with 1 Axes>"
      ]
     },
     "metadata": {},
     "output_type": "display_data"
    }
   ],
   "source": [
    "plt.hist([ground_truth_counts, reconstructed_counts], bins=25);\n",
    "plt.xlabel('expression');plt.ylabel('count'); plt.legend(['truth', 'reconstructed'])"
   ]
  },
  {
   "cell_type": "markdown",
   "metadata": {},
   "source": [
    "### Expectation step plots\n",
    "\n",
    "Calculate the probabilities for the latent variable Z's."
   ]
  },
  {
   "cell_type": "code",
   "execution_count": 382,
   "metadata": {},
   "outputs": [],
   "source": [
    "z = 8\n",
    "x = 0"
   ]
  },
  {
   "cell_type": "code",
   "execution_count": 383,
   "metadata": {},
   "outputs": [],
   "source": [
    "vary_z_theoretical = []\n",
    "vary_z_empirical = []\n",
    "for z in range(1, 15):\n",
    "    zs = list(range(20))\n",
    "    px = (stats.norm.pdf(zs, mu, sigma) * stats.binom.pmf(x, zs, p)).sum()\n",
    "    vary_z_theoretical.append(stats.norm.pdf(z, mu, sigma) * stats.binom.pmf(x, z, p) / px)\n",
    "    vary_z_empirical.append((ground_truth_counts[observed == x] == z).mean())"
   ]
  },
  {
   "cell_type": "code",
   "execution_count": 384,
   "metadata": {},
   "outputs": [
    {
     "data": {
      "text/plain": [
       "[<matplotlib.lines.Line2D at 0x1a1a9f4e80>]"
      ]
     },
     "execution_count": 384,
     "metadata": {},
     "output_type": "execute_result"
    },
    {
     "data": {
      "image/png": "[encoded data removed]",
      "text/plain": [
       "<Figure size 432x288 with 1 Axes>"
      ]
     },
     "metadata": {},
     "output_type": "display_data"
    }
   ],
   "source": [
    "plt.title('P(Z|X, p, mu, sigma) varying z');\n",
    "plt.xlabel('z'); plt.ylabel('P(Z|X, p, mu, sigma)')\n",
    "plt.plot(vary_z_theoretical)\n",
    "plt.plot(vary_z_empirical)"
   ]
  },
  {
   "cell_type": "code",
   "execution_count": 385,
   "metadata": {},
   "outputs": [
    {
     "name": "stderr",
     "output_type": "stream",
     "text": [
      "/anaconda3/envs/scvi/lib/python3.6/site-packages/ipykernel/__main__.py:8: RuntimeWarning: Mean of empty slice.\n",
      "/anaconda3/envs/scvi/lib/python3.6/site-packages/numpy/core/_methods.py:80: RuntimeWarning: invalid value encountered in double_scalars\n",
      "  ret = ret.dtype.type(ret / rcount)\n"
     ]
    }
   ],
   "source": [
    "z = 1\n",
    "vary_x_theoretical = []\n",
    "vary_x_empirical = []\n",
    "for x in range(0, 6):\n",
    "    zs = list(range(20))\n",
    "    px = (stats.norm.pdf(zs, mu, sigma) * stats.binom.pmf(x, zs, p)).sum()\n",
    "    vary_x_theoretical.append(stats.norm.pdf(z, mu, sigma) * stats.binom.pmf(x, z, p) / px)\n",
    "    vary_x_empirical.append((ground_truth_counts[observed == x] == z).mean())"
   ]
  },
  {
   "cell_type": "code",
   "execution_count": 386,
   "metadata": {},
   "outputs": [
    {
     "data": {
      "text/plain": [
       "Text(0,0.5,'P(Z|X, p, mu, sigma)')"
      ]
     },
     "execution_count": 386,
     "metadata": {},
     "output_type": "execute_result"
    },
    {
     "data": {
      "image/png": "[encoded data removed]",
      "text/plain": [
       "<Figure size 432x288 with 1 Axes>"
      ]
     },
     "metadata": {},
     "output_type": "display_data"
    }
   ],
   "source": [
    "plt.plot(vary_x_theoretical)\n",
    "plt.plot(vary_x_empirical)\n",
    "plt.title('P(Z|X, p, mu, sigma) varying x');\n",
    "plt.xlabel('x'); plt.ylabel('P(Z|X, p, mu, sigma)')"
   ]
  }
 ],
 "metadata": {
  "kernelspec": {
   "display_name": "Python [default]",
   "language": "python",
   "name": "python3"
  },
  "language_info": {
   "codemirror_mode": {
    "name": "ipython",
    "version": 3
   },
   "file_extension": ".py",
   "mimetype": "text/x-python",
   "name": "python",
   "nbconvert_exporter": "python",
   "pygments_lexer": "ipython3",
   "version": "3.6.8"
  }
 },
 "nbformat": 4,
 "nbformat_minor": 2
}
