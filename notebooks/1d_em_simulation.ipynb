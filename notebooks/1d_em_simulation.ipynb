{
 "cells": [
  {
   "cell_type": "markdown",
   "metadata": {},
   "source": [
    "# Simulation and EM Maximization of the 1D Simple Likelihood for scRNA-seq\n",
    "\n",
    "In this exercise, I generate some data that (could) look like RNA seq in 1 dimension under some assumptions, and design a likelihood function that could recover (some) parameters.\n",
    "\n",
    "I describe an EM-like optimization algorithm to approximately maximize this objective."
   ]
  },
  {
   "cell_type": "markdown",
   "metadata": {},
   "source": [
    "### Imports"
   ]
  },
  {
   "cell_type": "code",
   "execution_count": 5,
   "metadata": {},
   "outputs": [],
   "source": [
    "%matplotlib inline"
   ]
  },
  {
   "cell_type": "code",
   "execution_count": 6,
   "metadata": {},
   "outputs": [],
   "source": [
    "import pandas as pd\n",
    "import matplotlib.pyplot as plt\n",
    "import scipy.stats as stats\n",
    "from statsmodels.stats.weightstats import DescrStatsW\n",
    "import numpy as np\n",
    "import itertools\n",
    "import time"
   ]
  },
  {
   "cell_type": "markdown",
   "metadata": {},
   "source": [
    "### 1D Likelihood Function\n",
    "\n",
    "I define the log liklihood given data $x_1, x_2, x_3, x_4, ... , x_N$as follows:\n",
    "\n",
    "$$ LL(p, \\mu, \\sigma ; x_1, x_2, x_3, x_4, ... , x_N) = \\sum_{i=1}^{N}\\log\\bigg(\\sum_{z=0}^{\\infty} \\bigg[{z\\choose{x_i}}p^{x_i}(1-p)^{z-x_i}\\bigg] \\bigg[\\frac{1}{\\sqrt{2\\pi\\sigma^{2}}} \\exp\\bigg(-\\frac{(z-\\mu)^{2}}{2\\sigma^{2}}\\bigg)\\bigg]\\bigg) $$"
   ]
  },
  {
   "cell_type": "markdown",
   "metadata": {},
   "source": [
    "### Ideal optimization problem\n",
    "\n",
    "This likelihood function is obviously not concave (so maximizing is not a convex optimization problem), but it may be possible to design some optimization procedure for finding good parameters, given some reasonable constraints on $p$ the dropout rate and $\\mu$ the mean estimated from either pseudobulks for bulk RNA-seq experiments.\n",
    "\n",
    "The optimization problem we'd like to eventually solve is:\n",
    "\n",
    "\\begin{equation*}\n",
    "\\begin{aligned}\n",
    "& \\underset{p,\\ \\mu,\\ \\sigma}{\\text{minimize}}\n",
    "& & LL(p, \\mu, \\sigma ; x_1, x_2, x_3, x_4, ... , x_N) \\\\\n",
    "& \\text{subject to}\n",
    "& & 0.05 < p < 0.15, \\\\\n",
    "&&& \\mu_{min}\\ <\\ \\mu\\ <\\ \\mu_{max}\n",
    "\\end{aligned}\n",
    "\\end{equation*}\n",
    "\n",
    "The follow outlines an EM algorithm that converges to a local minimum of this objective."
   ]
  },
  {
   "cell_type": "markdown",
   "metadata": {},
   "source": [
    "### Simulation\n",
    "\n",
    "Let us simulate a possible procedure for generadting scRNA-seq data in 1 dimension (1 gene case).\n",
    "\n",
    "\n",
    "1. The underlying distribution Z is mean $\\mu$ with variance $\\sigma^{2}$, $Z \\sim \\mathcal{N}(\\mu,\\,\\sigma^{2})\\,.\n",
    "$\n",
    "2. Then, for each cell sampled from this distribution, we round to the nearest integer and sample a binomial random variable X distributed as $X \\sim B(Z, p)$ where the sampled $Z$ serves as the number of trials and $p$ serves as the dropout rate of an individual transcript in a cell.\n",
    "\n",
    "For this simulation, we use:\n",
    "- $N$ = 100,000\n",
    "- $\\mu$ = 10\n",
    "- $\\sigma$ = 2\n",
    "- $p$ = 0.1\n"
   ]
  },
  {
   "cell_type": "code",
   "execution_count": 294,
   "metadata": {},
   "outputs": [],
   "source": [
    "# Parameters\n",
    "num_cells = 50000\n",
    "p = 0.1\n",
    "mu = 3\n",
    "sigma = 1"
   ]
  },
  {
   "cell_type": "code",
   "execution_count": 295,
   "metadata": {},
   "outputs": [],
   "source": [
    "ground_truth_counts = np.clip(np.round(np.random.normal(mu, sigma, size=num_cells)), a_min=0, a_max=100).astype(np.int64)"
   ]
  },
  {
   "cell_type": "code",
   "execution_count": 296,
   "metadata": {},
   "outputs": [],
   "source": [
    "observed = np.random.binomial(n=ground_truth_counts, p=p)"
   ]
  },
  {
   "cell_type": "code",
   "execution_count": 297,
   "metadata": {},
   "outputs": [
    {
     "name": "stdout",
     "output_type": "stream",
     "text": [
      "Best possible estimate of mu: 3.00948\n",
      "Best possible estimate of sigma: 1.0438151798091462\n"
     ]
    }
   ],
   "source": [
    "best_mu, best_sigma = stats.norm.fit(ground_truth_counts)\n",
    "print('Best possible estimate of mu:', best_mu)\n",
    "print('Best possible estimate of sigma:', best_sigma)"
   ]
  },
  {
   "cell_type": "code",
   "execution_count": 298,
   "metadata": {},
   "outputs": [
    {
     "data": {
      "image/png": "[encoded data removed]",
      "text/plain": [
       "<Figure size 1080x360 with 2 Axes>"
      ]
     },
     "metadata": {},
     "output_type": "display_data"
    }
   ],
   "source": [
    "plt.figure(figsize=(15, 5))\n",
    "plt.subplot(1, 2, 1);\n",
    "plt.title('Underlying distribution')\n",
    "plt.hist(ground_truth_counts, bins=40);\n",
    "plt.subplot(1, 2, 2);\n",
    "plt.title('After downsampling')\n",
    "plt.hist(observed, bins=20);"
   ]
  },
  {
   "cell_type": "markdown",
   "metadata": {},
   "source": [
    "### Expectation step plots\n",
    "\n",
    "Calculate the probabilities for the latent variable Z's."
   ]
  },
  {
   "cell_type": "code",
   "execution_count": 299,
   "metadata": {},
   "outputs": [],
   "source": [
    "z = 8\n",
    "x = 0"
   ]
  },
  {
   "cell_type": "code",
   "execution_count": 300,
   "metadata": {},
   "outputs": [],
   "source": [
    "vary_z_theoretical = []\n",
    "vary_z_empirical = []\n",
    "for z in range(1, 15):\n",
    "    zs = list(range(20))\n",
    "    px = (stats.norm.pdf(zs, mu, sigma) * stats.binom.pmf(x, zs, p)).sum()\n",
    "    vary_z_theoretical.append(stats.norm.pdf(z, mu, sigma) * stats.binom.pmf(x, z, p) / px)\n",
    "    vary_z_empirical.append((ground_truth_counts[observed == x] == z).mean())"
   ]
  },
  {
   "cell_type": "code",
   "execution_count": 301,
   "metadata": {},
   "outputs": [
    {
     "data": {
      "text/plain": [
       "[<matplotlib.lines.Line2D at 0x1a24d8ac50>]"
      ]
     },
     "execution_count": 301,
     "metadata": {},
     "output_type": "execute_result"
    },
    {
     "data": {
      "image/png": "[encoded data removed]",
      "text/plain": [
       "<Figure size 432x288 with 1 Axes>"
      ]
     },
     "metadata": {},
     "output_type": "display_data"
    }
   ],
   "source": [
    "plt.plot(vary_z_theoretical)\n",
    "plt.plot(vary_z_empirical)"
   ]
  },
  {
   "cell_type": "code",
   "execution_count": 302,
   "metadata": {},
   "outputs": [],
   "source": [
    "z = 6\n",
    "vary_x_theoretical = []\n",
    "vary_x_empirical = []\n",
    "for x in range(0, 4):\n",
    "    zs = list(range(20))\n",
    "    px = (stats.norm.pdf(zs, mu, sigma) * stats.binom.pmf(x, zs, p)).sum()\n",
    "    vary_x_theoretical.append(stats.norm.pdf(z, mu, sigma) * stats.binom.pmf(x, z, p) / px)\n",
    "    vary_x_empirical.append((ground_truth_counts[observed == x] == z).mean())"
   ]
  },
  {
   "cell_type": "code",
   "execution_count": 303,
   "metadata": {},
   "outputs": [
    {
     "data": {
      "text/plain": [
       "[<matplotlib.lines.Line2D at 0x1a266b8f98>]"
      ]
     },
     "execution_count": 303,
     "metadata": {},
     "output_type": "execute_result"
    },
    {
     "data": {
      "image/png": "[encoded data removed]",
      "text/plain": [
       "<Figure size 432x288 with 1 Axes>"
      ]
     },
     "metadata": {},
     "output_type": "display_data"
    }
   ],
   "source": [
    "plt.plot(vary_x_theoretical)\n",
    "plt.plot(vary_x_empirical)"
   ]
  },
  {
   "cell_type": "markdown",
   "metadata": {},
   "source": [
    "### Expectation step: Computing probabilities for Z"
   ]
  },
  {
   "cell_type": "code",
   "execution_count": 304,
   "metadata": {},
   "outputs": [],
   "source": [
    "def create_px_table(mu, sigma, p):\n",
    "    return np.array([\n",
    "        (stats.norm.pdf(np.arange(x, 20), mu, sigma) * stats.binom.pmf(x, np.arange(x, 20), p)).sum()\n",
    "        for x in range(30)])"
   ]
  },
  {
   "cell_type": "code",
   "execution_count": 305,
   "metadata": {},
   "outputs": [],
   "source": [
    "def create_pz_table(mu, sigma, p):\n",
    "    \"\"\" Returns a matrix M x M where rows indicate X and columns indicate Z \"\"\"\n",
    "    \n",
    "    px_table = create_px_table(mu, sigma, p)\n",
    "    table = np.zeros(shape=(20, 20))\n",
    "    for x in range(20):\n",
    "        for z in range(x, 20):\n",
    "            table[x, z] = stats.norm.pdf(z, mu, sigma) * stats.binom.pmf(x, z, p) / px_table[x]\n",
    "    return table"
   ]
  },
  {
   "cell_type": "markdown",
   "metadata": {},
   "source": [
    "### Maximization step: Fit a weighted Gaussian on the latent variables"
   ]
  },
  {
   "cell_type": "code",
   "execution_count": 306,
   "metadata": {},
   "outputs": [],
   "source": [
    "def get_parameters(observed, prob_table):\n",
    "    \"\"\" Get the parameters of the Gaussian and dropout \"\"\"\n",
    "    \n",
    "    data = pd.DataFrame()\n",
    "    data['observed'] = observed\n",
    "    data = data.groupby('observed').size().reset_index(name='count')\n",
    "    data['observed_weight'] = data['count'] / len(observed)\n",
    "    data = data.merge(\n",
    "        pd.concat(\n",
    "            [pd.DataFrame(\n",
    "                np.concatenate(\n",
    "                    [np.ones(20-x).reshape(-1, 1)*x, \n",
    "                    np.arange(x, 20).reshape(-1,1),\n",
    "                    prob_table[x, x:].reshape(-1, 1)], axis=1), \n",
    "                columns=['observed', 'latent', 'latent_weight']) for x in range(20)]),\n",
    "        on='observed', \n",
    "        how='left')\n",
    "    data['point_weight'] = data['observed_weight'] * data['latent_weight']\n",
    "    data['p_estimates'] = (data['observed'] / data['latent'] * data['point_weight']).fillna(0.0).replace(np.inf, 0.0)\n",
    "    p_estimate =0.1#min(max(data['p_estimates'].sum(), 0.05), 0.15)\n",
    "    stat_estimates = DescrStatsW(data['latent'], weights=data['point_weight'])\n",
    "    return stat_estimates.mean, np.sqrt(stat_estimates.var), p_estimate"
   ]
  },
  {
   "cell_type": "markdown",
   "metadata": {},
   "source": [
    "### Perform EM"
   ]
  },
  {
   "cell_type": "code",
   "execution_count": 307,
   "metadata": {},
   "outputs": [],
   "source": [
    "# Initialize hyperparameters for EM\n",
    "NUM_ITER = 300"
   ]
  },
  {
   "cell_type": "code",
   "execution_count": 309,
   "metadata": {},
   "outputs": [],
   "source": [
    "# Initialize the parameters\n",
    "p_hat = 0.1\n",
    "mu_hat = 5\n",
    "sigma_hat = 2"
   ]
  },
  {
   "cell_type": "code",
   "execution_count": 310,
   "metadata": {},
   "outputs": [],
   "source": [
    "fitting_progress = []\n",
    "for itr in range(NUM_ITER):\n",
    "    \n",
    "    fitting_progress.append((itr, mu_hat, sigma_hat, p_hat))\n",
    "    \n",
    "    # E step\n",
    "    prob_table = create_pz_table(mu_hat, sigma_hat, p_hat)\n",
    "    \n",
    "    # M step\n",
    "    mu_hat, sigma_hat, p_hat = get_parameters(observed, prob_table)"
   ]
  },
  {
   "cell_type": "code",
   "execution_count": 311,
   "metadata": {},
   "outputs": [],
   "source": [
    "fitting_progress = pd.DataFrame(fitting_progress, columns=['iteration', 'mu_hat', 'sigma_hat', 'p_hat'])"
   ]
  },
  {
   "cell_type": "code",
   "execution_count": 312,
   "metadata": {},
   "outputs": [
    {
     "data": {
      "text/html": [
       "<div>\n",
       "<style scoped>\n",
       "    .dataframe tbody tr th:only-of-type {\n",
       "        vertical-align: middle;\n",
       "    }\n",
       "\n",
       "    .dataframe tbody tr th {\n",
       "        vertical-align: top;\n",
       "    }\n",
       "\n",
       "    .dataframe thead th {\n",
       "        text-align: right;\n",
       "    }\n",
       "</style>\n",
       "<table border=\"1\" class=\"dataframe\">\n",
       "  <thead>\n",
       "    <tr style=\"text-align: right;\">\n",
       "      <th></th>\n",
       "      <th>iteration</th>\n",
       "      <th>mu_hat</th>\n",
       "      <th>sigma_hat</th>\n",
       "      <th>p_hat</th>\n",
       "    </tr>\n",
       "  </thead>\n",
       "  <tbody>\n",
       "    <tr>\n",
       "      <th>295</th>\n",
       "      <td>295</td>\n",
       "      <td>2.975192</td>\n",
       "      <td>0.926825</td>\n",
       "      <td>0.1</td>\n",
       "    </tr>\n",
       "    <tr>\n",
       "      <th>296</th>\n",
       "      <td>296</td>\n",
       "      <td>2.975172</td>\n",
       "      <td>0.926633</td>\n",
       "      <td>0.1</td>\n",
       "    </tr>\n",
       "    <tr>\n",
       "      <th>297</th>\n",
       "      <td>297</td>\n",
       "      <td>2.975152</td>\n",
       "      <td>0.926442</td>\n",
       "      <td>0.1</td>\n",
       "    </tr>\n",
       "    <tr>\n",
       "      <th>298</th>\n",
       "      <td>298</td>\n",
       "      <td>2.975133</td>\n",
       "      <td>0.926253</td>\n",
       "      <td>0.1</td>\n",
       "    </tr>\n",
       "    <tr>\n",
       "      <th>299</th>\n",
       "      <td>299</td>\n",
       "      <td>2.975113</td>\n",
       "      <td>0.926065</td>\n",
       "      <td>0.1</td>\n",
       "    </tr>\n",
       "  </tbody>\n",
       "</table>\n",
       "</div>"
      ],
      "text/plain": [
       "     iteration    mu_hat  sigma_hat  p_hat\n",
       "295        295  2.975192   0.926825    0.1\n",
       "296        296  2.975172   0.926633    0.1\n",
       "297        297  2.975152   0.926442    0.1\n",
       "298        298  2.975133   0.926253    0.1\n",
       "299        299  2.975113   0.926065    0.1"
      ]
     },
     "execution_count": 312,
     "metadata": {},
     "output_type": "execute_result"
    }
   ],
   "source": [
    "fitting_progress.tail(5)"
   ]
  },
  {
   "cell_type": "code",
   "execution_count": 328,
   "metadata": {},
   "outputs": [
    {
     "data": {
      "text/plain": [
       "Text(0.5,1,'variance')"
      ]
     },
     "execution_count": 328,
     "metadata": {},
     "output_type": "execute_result"
    },
    {
     "data": {
      "image/png": "[encoded data removed]",
      "text/plain": [
       "<Figure size 864x288 with 2 Axes>"
      ]
     },
     "metadata": {},
     "output_type": "display_data"
    }
   ],
   "source": [
    "plt.figure(figsize=(12, 4))\n",
    "plt.subplot(1, 2, 1)\n",
    "plt.plot(fitting_progress.iteration, fitting_progress.mu_hat)\n",
    "plt.plot([0, NUM_ITER], [mu, mu])\n",
    "plt.xlabel('Iteration'); plt.legend(['estimate', 'true']); plt.title('mean')\n",
    "plt.subplot(1, 2, 2)\n",
    "plt.plot(fitting_progress.iteration, fitting_progress.sigma_hat)\n",
    "plt.plot([0, NUM_ITER], [sigma, sigma])\n",
    "plt.xlabel('Iteration'); plt.legend(['estimate', 'true']); plt.title('variance')"
   ]
  }
 ],
 "metadata": {
  "kernelspec": {
   "display_name": "Python [default]",
   "language": "python",
   "name": "python3"
  },
  "language_info": {
   "codemirror_mode": {
    "name": "ipython",
    "version": 3
   },
   "file_extension": ".py",
   "mimetype": "text/x-python",
   "name": "python",
   "nbconvert_exporter": "python",
   "pygments_lexer": "ipython3",
   "version": "3.6.5"
  }
 },
 "nbformat": 4,
 "nbformat_minor": 2
}
