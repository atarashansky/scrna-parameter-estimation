{
 "cells": [
  {
   "cell_type": "markdown",
   "metadata": {},
   "source": [
    "# Simulation and EM Maximization of the 1D Simple Likelihood for scRNA-seq\n",
    "\n",
    "In this exercise, I generate some data that (could) look like RNA seq in 1 dimension under some assumptions, and design a likelihood function that could recover (some) parameters.\n",
    "\n",
    "I describe an EM-like optimization algorithm to approximately maximize this objective.\n",
    "\n",
    "This notebook contains the groundwork and simulation for modeling the latent variables as a log normal distribution, rather than the normal distribution that I attempted first."
   ]
  },
  {
   "cell_type": "markdown",
   "metadata": {},
   "source": [
    "### Imports"
   ]
  },
  {
   "cell_type": "code",
   "execution_count": 328,
   "metadata": {},
   "outputs": [],
   "source": [
    "%matplotlib inline"
   ]
  },
  {
   "cell_type": "code",
   "execution_count": 329,
   "metadata": {},
   "outputs": [],
   "source": [
    "import pandas as pd\n",
    "import matplotlib.pyplot as plt\n",
    "import scipy.stats as stats\n",
    "import seaborn as sns\n",
    "from statsmodels.stats.weightstats import DescrStatsW\n",
    "import numpy as np\n",
    "import itertools\n",
    "import time"
   ]
  },
  {
   "cell_type": "markdown",
   "metadata": {},
   "source": [
    "### 1D Likelihood Function - UPDATE FOR LOG NORMAL\n",
    "\n",
    "I define the log liklihood given data $x_1, x_2, x_3, x_4, ... , x_N$as follows:\n",
    "\n",
    "$$ LL(p, \\mu, \\sigma ; x_1, x_2, x_3, x_4, ... , x_N) = \\sum_{i=1}^{N}\\log\\bigg(\\sum_{z=0}^{\\infty} \\bigg[{z\\choose{x_i}}p^{x_i}(1-p)^{z-x_i}\\bigg] \\bigg[\\frac{1}{\\sqrt{2\\pi\\sigma^{2}}} \\exp\\bigg(-\\frac{(z-\\mu)^{2}}{2\\sigma^{2}}\\bigg)\\bigg]\\bigg) $$"
   ]
  },
  {
   "cell_type": "markdown",
   "metadata": {},
   "source": [
    "### Ideal optimization problem\n",
    "\n",
    "This likelihood function is obviously not concave (so maximizing is not a convex optimization problem), but it may be possible to design some optimization procedure for finding good parameters, given some reasonable constraints on $p$ the dropout rate and $\\mu$ the mean estimated from either pseudobulks for bulk RNA-seq experiments.\n",
    "\n",
    "The optimization problem we'd like to eventually solve is:\n",
    "\n",
    "\\begin{equation*}\n",
    "\\begin{aligned}\n",
    "& \\underset{p,\\ \\mu,\\ \\sigma}{\\text{maximize}}\n",
    "& & LL(p, \\mu, \\sigma ; x_1, x_2, x_3, x_4, ... , x_N) \\\\\n",
    "& \\text{subject to}\n",
    "& & 0.05 < p < 0.15, \\\\\n",
    "&&& \\mu_{min}\\ <\\ \\mu\\ <\\ \\mu_{max}\n",
    "\\end{aligned}\n",
    "\\end{equation*}\n",
    "\n",
    "The follow outlines an EM algorithm that converges to a local maximum of this objective."
   ]
  },
  {
   "cell_type": "markdown",
   "metadata": {},
   "source": [
    "### Function for fitting a weighted lognormal distribution"
   ]
  },
  {
   "cell_type": "code",
   "execution_count": 330,
   "metadata": {},
   "outputs": [],
   "source": [
    "def fit_lognormal(x, w=None):\n",
    "    \n",
    "    lnx = np.log(x[x > 0])\n",
    "    muhat = np.average(lnx, weights=w[x > 0])\n",
    "    varhat = np.average((lnx - muhat)**2, weights=w[x > 0])\n",
    "    \n",
    "    return muhat, np.sqrt(varhat)"
   ]
  },
  {
   "cell_type": "markdown",
   "metadata": {},
   "source": [
    "### Simulation - UPDATE FOR LOG NORMAL\n",
    "\n",
    "Let us simulate a possible procedure for generadting scRNA-seq data in 1 dimension (1 gene case).\n",
    "\n",
    "\n",
    "1. The underlying distribution Z is mean $\\mu$ with variance $\\sigma^{2}$, $Z \\sim \\mathcal{N}(\\mu,\\,\\sigma^{2})\\,.\n",
    "$\n",
    "2. Then, for each cell sampled from this distribution, we round to the nearest integer and sample a binomial random variable X distributed as $X \\sim Bn(round(Z), p)$ where the sampled $Z$ serves as the number of trials and $p$ serves as the dropout rate of an individual transcript in a cell.\n",
    "\n",
    "For this simulation, we use:\n",
    "- $N$ = 100,000\n",
    "- $\\mu$ = 3\n",
    "- $\\sigma$ = 1\n",
    "- $p$ = 0.1\n",
    "\n",
    "minimum parameters\n",
    "\n",
    "num_cells = 1000\n",
    "s = .6\n",
    "scale = 1.5\n",
    "p=0.1\n"
   ]
  },
  {
   "cell_type": "code",
   "execution_count": 356,
   "metadata": {},
   "outputs": [],
   "source": [
    "# Parameters\n",
    "num_cells = 100000\n",
    "\n",
    "mu = 0.1\n",
    "sigma = 0.1\n",
    "p=0.1\n",
    "\n",
    "s = sigma\n",
    "scale = np.exp(mu)\n"
   ]
  },
  {
   "cell_type": "code",
   "execution_count": 357,
   "metadata": {},
   "outputs": [
    {
     "name": "stdout",
     "output_type": "stream",
     "text": [
      "0.1 1.1051709180756477\n"
     ]
    }
   ],
   "source": [
    "print(s, scale)"
   ]
  },
  {
   "cell_type": "code",
   "execution_count": 358,
   "metadata": {},
   "outputs": [],
   "source": [
    "continuous = stats.lognorm.rvs(s=s, scale=scale, size=num_cells)\n",
    "normal_continuous = stats.norm.rvs(loc=np.log(scale), scale=s, size=num_cells)"
   ]
  },
  {
   "cell_type": "code",
   "execution_count": 359,
   "metadata": {},
   "outputs": [],
   "source": [
    "ground_truth_counts = np.round(continuous).astype(np.int64)"
   ]
  },
  {
   "cell_type": "code",
   "execution_count": 360,
   "metadata": {},
   "outputs": [
    {
     "data": {
      "text/plain": [
       "(0.17326152533316475, 0.9999999999963372, 3.774462343404082e-12)"
      ]
     },
     "execution_count": 360,
     "metadata": {},
     "output_type": "execute_result"
    }
   ],
   "source": [
    "stats.lognorm.fit(ground_truth_counts)"
   ]
  },
  {
   "cell_type": "code",
   "execution_count": 361,
   "metadata": {},
   "outputs": [
    {
     "data": {
      "text/plain": [
       "(0.0007901877858383375, 0.023389998698799905)"
      ]
     },
     "execution_count": 361,
     "metadata": {},
     "output_type": "execute_result"
    }
   ],
   "source": [
    "fit_lognormal(ground_truth_counts, w=np.ones(num_cells))"
   ]
  },
  {
   "cell_type": "code",
   "execution_count": 362,
   "metadata": {},
   "outputs": [],
   "source": [
    "observed = np.random.binomial(n=ground_truth_counts, p=p)"
   ]
  },
  {
   "cell_type": "code",
   "execution_count": 363,
   "metadata": {},
   "outputs": [
    {
     "data": {
      "image/png": "[encoded data removed]",
      "text/plain": [
       "<Figure size 1080x360 with 2 Axes>"
      ]
     },
     "metadata": {},
     "output_type": "display_data"
    }
   ],
   "source": [
    "plt.figure(figsize=(15, 5))\n",
    "plt.subplot(1, 2, 1);\n",
    "plt.title('Underlying distribution')\n",
    "plt.hist(ground_truth_counts, bins=50);\n",
    "plt.xlabel('expression');plt.ylabel('count')\n",
    "plt.subplot(1, 2, 2);\n",
    "plt.title('After downsampling')\n",
    "plt.xlabel('expression'); plt.ylabel('count')\n",
    "plt.hist(observed, bins=50);"
   ]
  },
  {
   "cell_type": "markdown",
   "metadata": {},
   "source": [
    "### Expectation step: Computing probabilities for Z\n",
    "\n",
    "The expectation step of the EM algorithm involves calculating the probability of each possible value of Z the hidden variable (in our case, the true expression) given the parameters and the observations (X, mu, sigma, and p).\n",
    "\n",
    "We use the Bayes rule to construct our probabilites for the hidden variables:\n",
    "\n",
    "$ P(Z | X) = \\frac{P(X|Z)P(Z)}{P(X)} $\n",
    "\n",
    "Because of our distributional assumptions, we can evaluate each of the values on the RHS given p, mu, and sigma:\n",
    "\n",
    "$\n",
    "P(X|Z) = {z\\choose{x}}p^{x}(1-p)^{z-x} \\\\\n",
    "P(Z) = \\frac{1}{\\sqrt{2\\pi\\sigma^{2}}} \\exp\\big(-\\frac{(z-\\mu)^{2}}{2\\sigma^{2}}\\big) \\\\\n",
    "P(X) = \\sum_{z=0}^{\\infty} \\bigg[{z\\choose{x}}p^{x}(1-p)^{z-x}\\bigg]\\bigg[\\frac{1}{\\sqrt{2\\pi\\sigma^{2}}} \\exp\\big(-\\frac{(z-\\mu)^{2}}{2\\sigma^{2}}\\big)\\bigg]\n",
    "$"
   ]
  },
  {
   "cell_type": "code",
   "execution_count": 364,
   "metadata": {},
   "outputs": [],
   "source": [
    "def rv_pmf(x, mu, sigma):\n",
    "    \"\"\" PDF/PMF of the random variable under use. \"\"\"\n",
    "    \n",
    "    return stats.lognorm.cdf(0.5, s=sigma, loc=0, scale=np.exp(mu))*(x==0) + \\\n",
    "        (stats.lognorm.cdf(x+0.5, s=sigma, loc=0, scale=np.exp(mu)) - stats.lognorm.cdf(x-0.5, s=sigma, loc=0, scale=np.exp(mu)))*(x!=0)"
   ]
  },
  {
   "cell_type": "code",
   "execution_count": 365,
   "metadata": {},
   "outputs": [],
   "source": [
    "def create_px_table(mu, sigma, p):\n",
    "    return np.array([\n",
    "        (rv_pmf(np.arange(x, 50), mu, sigma) * stats.binom.pmf(x, np.arange(x, 50), p)).sum()\n",
    "        for x in range(50)])"
   ]
  },
  {
   "cell_type": "code",
   "execution_count": 366,
   "metadata": {},
   "outputs": [],
   "source": [
    "def create_pz_table(mu, sigma, p):\n",
    "    \"\"\" Returns a matrix M x M where rows indicate X and columns indicate Z \"\"\"\n",
    "    \n",
    "    px_table = create_px_table(mu, sigma, p)\n",
    "    \n",
    "    table = np.zeros(shape=(50, 50))\n",
    "    \n",
    "    for x in range(50):\n",
    "        for z in range(x, 50):\n",
    "            table[x, z] = rv_pmf(z, mu, sigma) * stats.binom.pmf(x, z, p) / px_table[x]\n",
    "    return table"
   ]
  },
  {
   "cell_type": "markdown",
   "metadata": {},
   "source": [
    "### Maximization step: Fit a weighted Gaussian on the latent variables\n",
    "\n",
    "The maximization step in the EM algorithm involves using the calculated values of $P(Z|X)$ above to fit new values of the parameters mu, sigma, and p.\n",
    "\n",
    "In the 1D case, this is rather simple: we expand out each observation $ X = i $ to ~30 different values with different weights. For example, if we observed a cell with $ X = 1 $, we create 20 rows for this cell with different values of Z that it could have had. Then, we fit a Gaussian (calculate mean and variance) on those Z values, with using the previously calculated $P(Z|X)$ as weights. More concretely, we calculate the mean and variance as follows, when we consider the upper limit of $Z$ to be $Z_{max}$:\n",
    "\n",
    "$\n",
    "\\hat{\\mu} = \\frac{1}{N} \\sum_{i=1}^{N} \\bigg( \\sum_{z=x_i}^{Z_{max}}\\big[ P(z|x_i)(z)    \\big]\\bigg) \\\\\n",
    "\\hat{\\sigma}^2 = \\frac{1}{N-1}\\sum_{i=1}^{N}\\bigg( \\sum_{z=x_i}^{Z_{max}}\\big[ P(z|x_i)(z - \\hat{\\mu})^2 \\big]\\bigg)\n",
    "$"
   ]
  },
  {
   "cell_type": "code",
   "execution_count": 367,
   "metadata": {},
   "outputs": [],
   "source": [
    "def get_parameters(observed, prob_table):\n",
    "    \"\"\" Get the parameters of the Gaussian and dropout \"\"\"\n",
    "    \n",
    "    data = pd.DataFrame()\n",
    "    data['observed'] = observed\n",
    "    data = data.groupby('observed').size().reset_index(name='count')\n",
    "    data['observed_weight'] = data['count'] / len(observed)\n",
    "    data = data.merge(\n",
    "        pd.concat(\n",
    "            [pd.DataFrame(\n",
    "                np.concatenate(\n",
    "                    [np.ones(50-x).reshape(-1, 1)*x, \n",
    "                    np.arange(x, 50).reshape(-1,1),\n",
    "                    prob_table[x, x:].reshape(-1, 1)], axis=1), \n",
    "                columns=['observed', 'latent', 'latent_weight']) for x in range(50)]),\n",
    "        on='observed', \n",
    "        how='left')\n",
    "    data['point_weight'] = data['observed_weight'] * data['latent_weight']\n",
    "    data['p_estimates'] = (data['observed'] / data['latent'] * data['point_weight']).fillna(0.0).replace(np.inf, 0.0)\n",
    "    p_estimate =p #min(max(data['p_estimates'].sum(), 0.05), 0.15)\n",
    "    \n",
    "    mu, sigma = fit_lognormal(data['latent'].values, w=data['point_weight'].values)\n",
    "    \n",
    "    return mu, sigma, p_estimate"
   ]
  },
  {
   "cell_type": "markdown",
   "metadata": {},
   "source": [
    "### Perform EM"
   ]
  },
  {
   "cell_type": "code",
   "execution_count": 401,
   "metadata": {},
   "outputs": [],
   "source": [
    "# Initialize hyperparameters for EM\n",
    "NUM_ITER = 200"
   ]
  },
  {
   "cell_type": "code",
   "execution_count": 402,
   "metadata": {},
   "outputs": [],
   "source": [
    "# Initialize the parameters\n",
    "p_hat = p\n",
    "mu_hat = 5\n",
    "sigma_hat = 5"
   ]
  },
  {
   "cell_type": "code",
   "execution_count": 403,
   "metadata": {},
   "outputs": [],
   "source": [
    "observed_counts = pd.Series(observed).value_counts()"
   ]
  },
  {
   "cell_type": "code",
   "execution_count": 404,
   "metadata": {},
   "outputs": [
    {
     "name": "stderr",
     "output_type": "stream",
     "text": [
      "/anaconda3/envs/scvi/lib/python3.6/site-packages/pandas/core/ops.py:710: RuntimeWarning: invalid value encountered in true_divide\n",
      "  lambda x: op(x, rvalues))\n",
      "/anaconda3/envs/scvi/lib/python3.6/site-packages/pandas/core/ops.py:710: RuntimeWarning: divide by zero encountered in true_divide\n",
      "  lambda x: op(x, rvalues))\n",
      "/anaconda3/envs/scvi/lib/python3.6/site-packages/ipykernel/__main__.py:10: RuntimeWarning: invalid value encountered in double_scalars\n"
     ]
    }
   ],
   "source": [
    "fitting_progress = []\n",
    "for itr in range(NUM_ITER):\n",
    "    \n",
    "    px_table = create_px_table(mu_hat, sigma_hat, p)\n",
    "    likelihood = np.array([count*np.log(px_table[val]) for val,count in zip(observed_counts.index, observed_counts)]).sum()\n",
    "    \n",
    "    if itr > 0 and (likelihood < fitting_progress[-1][4] or np.isnan(mu_hat) or np.isnan(sigma_hat) or np.isnan(likelihood)):\n",
    "        mu_hat = fitting_progress[-1][1]\n",
    "        sigma_hat = fitting_progress[-1][2]\n",
    "        break\n",
    "    \n",
    "    fitting_progress.append((itr, mu_hat, sigma_hat, p_hat, likelihood))\n",
    "    \n",
    "    # E step\n",
    "    prob_table = create_pz_table(mu_hat, sigma_hat, p_hat)\n",
    "    \n",
    "    # M step\n",
    "    mu_hat, sigma_hat, p_hat = get_parameters(observed, prob_table)"
   ]
  },
  {
   "cell_type": "code",
   "execution_count": 405,
   "metadata": {},
   "outputs": [],
   "source": [
    "fitting_progress = pd.DataFrame(fitting_progress, columns=['iteration', 'mu_hat', 'sigma_hat', 'p_hat', 'log_likelihood'])"
   ]
  },
  {
   "cell_type": "code",
   "execution_count": 406,
   "metadata": {},
   "outputs": [
    {
     "data": {
      "text/plain": [
       "-32426.894108533856"
      ]
     },
     "execution_count": 406,
     "metadata": {},
     "output_type": "execute_result"
    }
   ],
   "source": [
    "optimal_px_table = create_px_table(mu, sigma, p)\n",
    "optimal_likelihood = np.array([count*np.log(optimal_px_table[val]) for val,count in zip(observed_counts.index, observed_counts)]).sum()\n",
    "optimal_likelihood"
   ]
  },
  {
   "cell_type": "code",
   "execution_count": 407,
   "metadata": {},
   "outputs": [
    {
     "data": {
      "text/html": [
       "<div>\n",
       "<style scoped>\n",
       "    .dataframe tbody tr th:only-of-type {\n",
       "        vertical-align: middle;\n",
       "    }\n",
       "\n",
       "    .dataframe tbody tr th {\n",
       "        vertical-align: top;\n",
       "    }\n",
       "\n",
       "    .dataframe thead th {\n",
       "        text-align: right;\n",
       "    }\n",
       "</style>\n",
       "<table border=\"1\" class=\"dataframe\">\n",
       "  <thead>\n",
       "    <tr style=\"text-align: right;\">\n",
       "      <th></th>\n",
       "      <th>iteration</th>\n",
       "      <th>mu_hat</th>\n",
       "      <th>sigma_hat</th>\n",
       "      <th>p_hat</th>\n",
       "      <th>log_likelihood</th>\n",
       "    </tr>\n",
       "  </thead>\n",
       "  <tbody>\n",
       "    <tr>\n",
       "      <th>35</th>\n",
       "      <td>35</td>\n",
       "      <td>0.219513</td>\n",
       "      <td>0.339122</td>\n",
       "      <td>0.1</td>\n",
       "      <td>-33050.403213</td>\n",
       "    </tr>\n",
       "    <tr>\n",
       "      <th>36</th>\n",
       "      <td>36</td>\n",
       "      <td>0.206450</td>\n",
       "      <td>0.330892</td>\n",
       "      <td>0.1</td>\n",
       "      <td>-32985.833098</td>\n",
       "    </tr>\n",
       "    <tr>\n",
       "      <th>37</th>\n",
       "      <td>37</td>\n",
       "      <td>0.192650</td>\n",
       "      <td>0.321814</td>\n",
       "      <td>0.1</td>\n",
       "      <td>-32920.672483</td>\n",
       "    </tr>\n",
       "    <tr>\n",
       "      <th>38</th>\n",
       "      <td>38</td>\n",
       "      <td>0.177893</td>\n",
       "      <td>0.311609</td>\n",
       "      <td>0.1</td>\n",
       "      <td>-32854.396019</td>\n",
       "    </tr>\n",
       "    <tr>\n",
       "      <th>39</th>\n",
       "      <td>39</td>\n",
       "      <td>0.161885</td>\n",
       "      <td>0.299862</td>\n",
       "      <td>0.1</td>\n",
       "      <td>-32786.417336</td>\n",
       "    </tr>\n",
       "    <tr>\n",
       "      <th>40</th>\n",
       "      <td>40</td>\n",
       "      <td>0.144221</td>\n",
       "      <td>0.285930</td>\n",
       "      <td>0.1</td>\n",
       "      <td>-32716.107457</td>\n",
       "    </tr>\n",
       "    <tr>\n",
       "      <th>41</th>\n",
       "      <td>41</td>\n",
       "      <td>0.124328</td>\n",
       "      <td>0.268739</td>\n",
       "      <td>0.1</td>\n",
       "      <td>-32642.925435</td>\n",
       "    </tr>\n",
       "    <tr>\n",
       "      <th>42</th>\n",
       "      <td>42</td>\n",
       "      <td>0.101385</td>\n",
       "      <td>0.246347</td>\n",
       "      <td>0.1</td>\n",
       "      <td>-32567.002549</td>\n",
       "    </tr>\n",
       "    <tr>\n",
       "      <th>43</th>\n",
       "      <td>43</td>\n",
       "      <td>0.074279</td>\n",
       "      <td>0.214874</td>\n",
       "      <td>0.1</td>\n",
       "      <td>-32491.655665</td>\n",
       "    </tr>\n",
       "    <tr>\n",
       "      <th>44</th>\n",
       "      <td>44</td>\n",
       "      <td>0.042165</td>\n",
       "      <td>0.165734</td>\n",
       "      <td>0.1</td>\n",
       "      <td>-32433.695645</td>\n",
       "    </tr>\n",
       "  </tbody>\n",
       "</table>\n",
       "</div>"
      ],
      "text/plain": [
       "    iteration    mu_hat  sigma_hat  p_hat  log_likelihood\n",
       "35         35  0.219513   0.339122    0.1   -33050.403213\n",
       "36         36  0.206450   0.330892    0.1   -32985.833098\n",
       "37         37  0.192650   0.321814    0.1   -32920.672483\n",
       "38         38  0.177893   0.311609    0.1   -32854.396019\n",
       "39         39  0.161885   0.299862    0.1   -32786.417336\n",
       "40         40  0.144221   0.285930    0.1   -32716.107457\n",
       "41         41  0.124328   0.268739    0.1   -32642.925435\n",
       "42         42  0.101385   0.246347    0.1   -32567.002549\n",
       "43         43  0.074279   0.214874    0.1   -32491.655665\n",
       "44         44  0.042165   0.165734    0.1   -32433.695645"
      ]
     },
     "execution_count": 407,
     "metadata": {},
     "output_type": "execute_result"
    }
   ],
   "source": [
    "fitting_progress.tail(10)"
   ]
  },
  {
   "cell_type": "code",
   "execution_count": 408,
   "metadata": {},
   "outputs": [
    {
     "data": {
      "text/plain": [
       "Text(0.5,1,'log-likelihood')"
      ]
     },
     "execution_count": 408,
     "metadata": {},
     "output_type": "execute_result"
    },
    {
     "data": {
      "image/png": "[encoded data removed]",
      "text/plain": [
       "<Figure size 1440x216 with 3 Axes>"
      ]
     },
     "metadata": {},
     "output_type": "display_data"
    }
   ],
   "source": [
    "plt.figure(figsize=(20, 3))\n",
    "plt.subplot(1, 3, 1)\n",
    "plt.plot([0, itr], [mu, mu])\n",
    "plt.plot(fitting_progress.iteration, fitting_progress.mu_hat)\n",
    "plt.xlabel('Iteration'); plt.legend(['true', 'estimate']); plt.title('mu')\n",
    "\n",
    "plt.subplot(1, 3, 2)\n",
    "plt.plot([0, itr], [sigma, sigma])\n",
    "plt.plot(fitting_progress.iteration, fitting_progress.sigma_hat)\n",
    "plt.xlabel('Iteration'); plt.legend(['true', 'estimate']); plt.title('sigma')\n",
    "\n",
    "plt.subplot(1, 3, 3)\n",
    "plt.plot([0, itr], [optimal_likelihood, optimal_likelihood])\n",
    "plt.plot(fitting_progress.iteration, fitting_progress.log_likelihood)\n",
    "plt.xlabel('Iteration'); plt.title('log-likelihood')"
   ]
  },
  {
   "cell_type": "markdown",
   "metadata": {},
   "source": [
    "### Re-create the original distribution\n",
    "\n",
    "Sample a Log-normal distribution with the estimated parameters."
   ]
  },
  {
   "cell_type": "code",
   "execution_count": 409,
   "metadata": {},
   "outputs": [],
   "source": [
    "reconstructed_counts = np.clip(\n",
    "    np.round(stats.lognorm.rvs(\n",
    "        s=sigma_hat,\n",
    "        scale=np.exp(mu_hat), \n",
    "        size=num_cells) ),\n",
    "    a_min=0, \n",
    "    a_max=1000).astype(np.int64)\n",
    "\n",
    "reconstructed_normal = stats.norm.rvs(\n",
    "    loc=mu_hat, \n",
    "    scale=sigma_hat, size=num_cells)\n",
    "\n",
    "reconstructed_observed =  np.random.binomial(n=reconstructed_counts, p=p)"
   ]
  },
  {
   "cell_type": "code",
   "execution_count": 410,
   "metadata": {},
   "outputs": [
    {
     "data": {
      "text/plain": [
       "Text(0.5,1,'Observed count frequency')"
      ]
     },
     "execution_count": 410,
     "metadata": {},
     "output_type": "execute_result"
    },
    {
     "data": {
      "image/png": "[encoded data removed]",
      "text/plain": [
       "<Figure size 1440x216 with 3 Axes>"
      ]
     },
     "metadata": {},
     "output_type": "display_data"
    }
   ],
   "source": [
    "plt.figure(figsize=(20, 3))\n",
    "plt.subplot(1, 3, 1);\n",
    "plt.hist([ground_truth_counts, reconstructed_counts], bins=25);\n",
    "plt.xlabel('expression');plt.ylabel('count'); plt.legend(['truth', 'reconstructed']);\n",
    "plt.title('Reconstructed lognormal count distribution');\n",
    "\n",
    "plt.subplot(1, 3, 2);\n",
    "plt.hist([normal_continuous, reconstructed_normal], bins=25);\n",
    "plt.xlabel('Log(expression)');plt.ylabel('count'); plt.legend(['truth', 'reconstructed'])\n",
    "plt.title('Reconstructed underlying continuous normal distribution');\n",
    "\n",
    "plt.subplot(1, 3, 3);\n",
    "plt.hist([observed, reconstructed_observed], bins=25);\n",
    "plt.xlabel('Observed counts')\n",
    "plt.title('Observed count frequency')"
   ]
  }
 ],
 "metadata": {
  "kernelspec": {
   "display_name": "Python [default]",
   "language": "python",
   "name": "python3"
  },
  "language_info": {
   "codemirror_mode": {
    "name": "ipython",
    "version": 3
   },
   "file_extension": ".py",
   "mimetype": "text/x-python",
   "name": "python",
   "nbconvert_exporter": "python",
   "pygments_lexer": "ipython3",
   "version": "3.6.8"
  }
 },
 "nbformat": 4,
 "nbformat_minor": 2
}
