{
 "cells": [
  {
   "cell_type": "markdown",
   "metadata": {},
   "source": [
    "# Simulation and EM Maximization of the 1D Simple Likelihood for scRNA-seq\n",
    "\n",
    "In this exercise, I generate some data that (could) look like RNA seq in 1 dimension under some assumptions, and design a likelihood function that could recover (some) parameters.\n",
    "\n",
    "I describe an EM-like optimization algorithm to approximately maximize this objective.\n",
    "\n",
    "This notebook contains the groundwork and simulation for modeling the latent variables as a log normal distribution, rather than the normal distribution that I attempted first."
   ]
  },
  {
   "cell_type": "markdown",
   "metadata": {},
   "source": [
    "### Imports"
   ]
  },
  {
   "cell_type": "code",
   "execution_count": 24,
   "metadata": {},
   "outputs": [],
   "source": [
    "%matplotlib inline"
   ]
  },
  {
   "cell_type": "code",
   "execution_count": 25,
   "metadata": {},
   "outputs": [],
   "source": [
    "import pandas as pd\n",
    "import matplotlib.pyplot as plt\n",
    "import scipy.stats as stats\n",
    "import seaborn as sns\n",
    "from statsmodels.stats.weightstats import DescrStatsW\n",
    "import numpy as np\n",
    "import itertools\n",
    "import time"
   ]
  },
  {
   "cell_type": "markdown",
   "metadata": {},
   "source": [
    "### 1D Likelihood Function - UPDATE FOR LOG NORMAL\n",
    "\n",
    "I define the log liklihood given data $x_1, x_2, x_3, x_4, ... , x_N$as follows:\n",
    "\n",
    "$$ LL(p, \\mu, \\sigma ; x_1, x_2, x_3, x_4, ... , x_N) = \\sum_{i=1}^{N}\\log\\bigg(\\sum_{z=0}^{\\infty} \\bigg[{z\\choose{x_i}}p^{x_i}(1-p)^{z-x_i}\\bigg] \\bigg[\\frac{1}{\\sqrt{2\\pi\\sigma^{2}}} \\exp\\bigg(-\\frac{(z-\\mu)^{2}}{2\\sigma^{2}}\\bigg)\\bigg]\\bigg) $$"
   ]
  },
  {
   "cell_type": "markdown",
   "metadata": {},
   "source": [
    "### Ideal optimization problem\n",
    "\n",
    "This likelihood function is obviously not concave (so maximizing is not a convex optimization problem), but it may be possible to design some optimization procedure for finding good parameters, given some reasonable constraints on $p$ the dropout rate and $\\mu$ the mean estimated from either pseudobulks for bulk RNA-seq experiments.\n",
    "\n",
    "The optimization problem we'd like to eventually solve is:\n",
    "\n",
    "\\begin{equation*}\n",
    "\\begin{aligned}\n",
    "& \\underset{p,\\ \\mu,\\ \\sigma}{\\text{maximize}}\n",
    "& & LL(p, \\mu, \\sigma ; x_1, x_2, x_3, x_4, ... , x_N) \\\\\n",
    "& \\text{subject to}\n",
    "& & 0.05 < p < 0.15, \\\\\n",
    "&&& \\mu_{min}\\ <\\ \\mu\\ <\\ \\mu_{max}\n",
    "\\end{aligned}\n",
    "\\end{equation*}\n",
    "\n",
    "The follow outlines an EM algorithm that converges to a local maximum of this objective."
   ]
  },
  {
   "cell_type": "markdown",
   "metadata": {},
   "source": [
    "### Function for fitting a weighted lognormal distribution"
   ]
  },
  {
   "cell_type": "code",
   "execution_count": 205,
   "metadata": {},
   "outputs": [],
   "source": [
    "def fit_lognormal(x, w=None):\n",
    "    \n",
    "    lnx = np.log(x[x > 0])\n",
    "    muhat = np.average(lnx, weights=w[x > 0])\n",
    "    varhat = np.average((lnx - muhat)**2, weights=w[x > 0])\n",
    "    \n",
    "    return muhat, np.sqrt(varhat)"
   ]
  },
  {
   "cell_type": "markdown",
   "metadata": {},
   "source": [
    "### Simulation - UPDATE FOR LOG NORMAL\n",
    "\n",
    "Let us simulate a possible procedure for generadting scRNA-seq data in 1 dimension (1 gene case).\n",
    "\n",
    "\n",
    "1. The underlying distribution Z is mean $\\mu$ with variance $\\sigma^{2}$, $Z \\sim \\mathcal{N}(\\mu,\\,\\sigma^{2})\\,.\n",
    "$\n",
    "2. Then, for each cell sampled from this distribution, we round to the nearest integer and sample a binomial random variable X distributed as $X \\sim Bn(round(Z), p)$ where the sampled $Z$ serves as the number of trials and $p$ serves as the dropout rate of an individual transcript in a cell.\n",
    "\n",
    "For this simulation, we use:\n",
    "- $N$ = 100,000\n",
    "- $\\mu$ = 3\n",
    "- $\\sigma$ = 1\n",
    "- $p$ = 0.1\n",
    "\n",
    "minimum parameters\n",
    "\n",
    "num_cells = 1000\n",
    "s = .6\n",
    "scale = 1.5\n",
    "p=0.1\n"
   ]
  },
  {
   "cell_type": "code",
   "execution_count": 223,
   "metadata": {},
   "outputs": [],
   "source": [
    "# Parameters\n",
    "num_cells = 10000\n",
    "s = 0.6\n",
    "scale = 3\n",
    "p=0.1\n",
    "\n",
    "mu = np.log(scale)\n",
    "sigma = s"
   ]
  },
  {
   "cell_type": "code",
   "execution_count": 224,
   "metadata": {},
   "outputs": [
    {
     "name": "stdout",
     "output_type": "stream",
     "text": [
      "1.0986122886681098 0.6\n"
     ]
    }
   ],
   "source": [
    "print(mu, sigma)"
   ]
  },
  {
   "cell_type": "code",
   "execution_count": 225,
   "metadata": {},
   "outputs": [],
   "source": [
    "continuous = stats.lognorm.rvs(s=s, scale=scale, size=num_cells)\n",
    "normal_continuous = stats.norm.rvs(loc=np.log(scale), scale=s, size=num_cells)"
   ]
  },
  {
   "cell_type": "code",
   "execution_count": 226,
   "metadata": {},
   "outputs": [],
   "source": [
    "ground_truth_counts = np.clip(np.round(continuous), a_min=0, a_max=10000).astype(np.int64)"
   ]
  },
  {
   "cell_type": "code",
   "execution_count": 227,
   "metadata": {},
   "outputs": [],
   "source": [
    "observed = np.random.binomial(n=ground_truth_counts, p=p)"
   ]
  },
  {
   "cell_type": "code",
   "execution_count": 228,
   "metadata": {},
   "outputs": [],
   "source": [
    "# plt.figure(figsize=(12, 4))\n",
    "# plt.subplot(1, 2, 1);\n",
    "# sns.distplot(ground_truth_counts, kde=False);\n",
    "# sns.distplot(observed, kde=False);\n",
    "# plt.subplot(1, 2, 2);\n",
    "# sns.distplot(continuous, bins=40, kde=False);\n",
    "# sns.distplot(normal_continuous, bins=40, kde=False);"
   ]
  },
  {
   "cell_type": "code",
   "execution_count": 229,
   "metadata": {},
   "outputs": [],
   "source": [
    "# s, loc, scale  = stats.lognorm.fit(ground_truth_counts, loc=0)\n",
    "# print('Best possible estimate of s:', s)\n",
    "# print('Best possible estimate of scale:', scale)"
   ]
  },
  {
   "cell_type": "code",
   "execution_count": 230,
   "metadata": {},
   "outputs": [
    {
     "data": {
      "image/png": "[encoded data removed]",
      "text/plain": [
       "<Figure size 1080x360 with 2 Axes>"
      ]
     },
     "metadata": {},
     "output_type": "display_data"
    }
   ],
   "source": [
    "plt.figure(figsize=(15, 5))\n",
    "plt.subplot(1, 2, 1);\n",
    "plt.title('Underlying distribution')\n",
    "plt.hist(ground_truth_counts, bins=30);\n",
    "plt.xlabel('expression');plt.ylabel('count')\n",
    "plt.subplot(1, 2, 2);\n",
    "plt.title('After downsampling')\n",
    "plt.xlabel('expression');plt.ylabel('count')\n",
    "plt.hist(observed, bins=20);"
   ]
  },
  {
   "cell_type": "markdown",
   "metadata": {},
   "source": [
    "### Expectation step: Computing probabilities for Z\n",
    "\n",
    "The expectation step of the EM algorithm involves calculating the probability of each possible value of Z the hidden variable (in our case, the true expression) given the parameters and the observations (X, mu, sigma, and p).\n",
    "\n",
    "We use the Bayes rule to construct our probabilites for the hidden variables:\n",
    "\n",
    "$ P(Z | X) = \\frac{P(X|Z)P(Z)}{P(X)} $\n",
    "\n",
    "Because of our distributional assumptions, we can evaluate each of the values on the RHS given p, mu, and sigma:\n",
    "\n",
    "$\n",
    "P(X|Z) = {z\\choose{x}}p^{x}(1-p)^{z-x} \\\\\n",
    "P(Z) = \\frac{1}{\\sqrt{2\\pi\\sigma^{2}}} \\exp\\big(-\\frac{(z-\\mu)^{2}}{2\\sigma^{2}}\\big) \\\\\n",
    "P(X) = \\sum_{z=0}^{\\infty} \\bigg[{z\\choose{x}}p^{x}(1-p)^{z-x}\\bigg]\\bigg[\\frac{1}{\\sqrt{2\\pi\\sigma^{2}}} \\exp\\big(-\\frac{(z-\\mu)^{2}}{2\\sigma^{2}}\\big)\\bigg]\n",
    "$"
   ]
  },
  {
   "cell_type": "code",
   "execution_count": 231,
   "metadata": {},
   "outputs": [
    {
     "data": {
      "text/plain": [
       "numpy.ndarray"
      ]
     },
     "execution_count": 231,
     "metadata": {},
     "output_type": "execute_result"
    }
   ],
   "source": [
    "type(np.array([1, 2, 3]))"
   ]
  },
  {
   "cell_type": "code",
   "execution_count": 232,
   "metadata": {},
   "outputs": [],
   "source": [
    "def rv_pmf(x, mu, sigma):\n",
    "    \"\"\" PDF/PMF of the random variable under use. \"\"\"\n",
    "    \n",
    "    return np.nan_to_num(stats.norm.pdf(np.log(x), loc=mu, scale=sigma)/x)"
   ]
  },
  {
   "cell_type": "code",
   "execution_count": 233,
   "metadata": {},
   "outputs": [],
   "source": [
    "def create_px_table(mu, sigma, p):\n",
    "    return np.array([\n",
    "        (rv_pmf(np.arange(x, 20), mu, sigma) * stats.binom.pmf(x, np.arange(x, 20), p)).sum()\n",
    "        for x in range(30)])"
   ]
  },
  {
   "cell_type": "code",
   "execution_count": 234,
   "metadata": {},
   "outputs": [],
   "source": [
    "def create_pz_table(mu, sigma, p):\n",
    "    \"\"\" Returns a matrix M x M where rows indicate X and columns indicate Z \"\"\"\n",
    "    \n",
    "    px_table = create_px_table(mu, sigma, p)\n",
    "    \n",
    "    table = np.zeros(shape=(20, 20))\n",
    "    \n",
    "    for x in range(20):\n",
    "        for z in range(x, 20):\n",
    "            table[x, z] = rv_pmf(z, mu, sigma) * stats.binom.pmf(x, z, p) / px_table[x]\n",
    "    return table"
   ]
  },
  {
   "cell_type": "markdown",
   "metadata": {},
   "source": [
    "### Maximization step: Fit a weighted Gaussian on the latent variables\n",
    "\n",
    "The maximization step in the EM algorithm involves using the calculated values of $P(Z|X)$ above to fit new values of the parameters mu, sigma, and p.\n",
    "\n",
    "In the 1D case, this is rather simple: we expand out each observation $ X = i $ to ~30 different values with different weights. For example, if we observed a cell with $ X = 1 $, we create 20 rows for this cell with different values of Z that it could have had. Then, we fit a Gaussian (calculate mean and variance) on those Z values, with using the previously calculated $P(Z|X)$ as weights. More concretely, we calculate the mean and variance as follows, when we consider the upper limit of $Z$ to be $Z_{max}$:\n",
    "\n",
    "$\n",
    "\\hat{\\mu} = \\frac{1}{N} \\sum_{i=1}^{N} \\bigg( \\sum_{z=x_i}^{Z_{max}}\\big[ P(z|x_i)(z)    \\big]\\bigg) \\\\\n",
    "\\hat{\\sigma}^2 = \\frac{1}{N-1}\\sum_{i=1}^{N}\\bigg( \\sum_{z=x_i}^{Z_{max}}\\big[ P(z|x_i)(z - \\hat{\\mu})^2 \\big]\\bigg)\n",
    "$"
   ]
  },
  {
   "cell_type": "code",
   "execution_count": 235,
   "metadata": {},
   "outputs": [],
   "source": [
    "def get_parameters(observed, prob_table):\n",
    "    \"\"\" Get the parameters of the Gaussian and dropout \"\"\"\n",
    "    \n",
    "    data = pd.DataFrame()\n",
    "    data['observed'] = observed\n",
    "    data = data.groupby('observed').size().reset_index(name='count')\n",
    "    data['observed_weight'] = data['count'] / len(observed)\n",
    "    data = data.merge(\n",
    "        pd.concat(\n",
    "            [pd.DataFrame(\n",
    "                np.concatenate(\n",
    "                    [np.ones(20-x).reshape(-1, 1)*x, \n",
    "                    np.arange(x, 20).reshape(-1,1),\n",
    "                    prob_table[x, x:].reshape(-1, 1)], axis=1), \n",
    "                columns=['observed', 'latent', 'latent_weight']) for x in range(20)]),\n",
    "        on='observed', \n",
    "        how='left')\n",
    "    data['point_weight'] = data['observed_weight'] * data['latent_weight']\n",
    "    data['p_estimates'] = (data['observed'] / data['latent'] * data['point_weight']).fillna(0.0).replace(np.inf, 0.0)\n",
    "    p_estimate =p #min(max(data['p_estimates'].sum(), 0.05), 0.15)\n",
    "    \n",
    "    mu, sigma = fit_lognormal(data['latent'].values, w=data['point_weight'].values)\n",
    "    \n",
    "    return mu, sigma, p_estimate"
   ]
  },
  {
   "cell_type": "markdown",
   "metadata": {},
   "source": [
    "### Perform EM"
   ]
  },
  {
   "cell_type": "code",
   "execution_count": 236,
   "metadata": {},
   "outputs": [],
   "source": [
    "# Initialize hyperparameters for EM\n",
    "NUM_ITER = 30"
   ]
  },
  {
   "cell_type": "code",
   "execution_count": 237,
   "metadata": {},
   "outputs": [],
   "source": [
    "# Initialize the parameters\n",
    "p_hat = p\n",
    "mu_hat = 5\n",
    "sigma_hat = 5"
   ]
  },
  {
   "cell_type": "code",
   "execution_count": 238,
   "metadata": {},
   "outputs": [
    {
     "name": "stderr",
     "output_type": "stream",
     "text": [
      "/anaconda3/envs/scvi/lib/python3.6/site-packages/ipykernel/__main__.py:4: RuntimeWarning: divide by zero encountered in log\n",
      "/anaconda3/envs/scvi/lib/python3.6/site-packages/ipykernel/__main__.py:4: RuntimeWarning: invalid value encountered in true_divide\n",
      "/anaconda3/envs/scvi/lib/python3.6/site-packages/ipykernel/__main__.py:4: RuntimeWarning: invalid value encountered in double_scalars\n",
      "/anaconda3/envs/scvi/lib/python3.6/site-packages/pandas/core/ops.py:710: RuntimeWarning: invalid value encountered in true_divide\n",
      "  lambda x: op(x, rvalues))\n",
      "/anaconda3/envs/scvi/lib/python3.6/site-packages/pandas/core/ops.py:710: RuntimeWarning: divide by zero encountered in true_divide\n",
      "  lambda x: op(x, rvalues))\n"
     ]
    }
   ],
   "source": [
    "fitting_progress = []\n",
    "for itr in range(NUM_ITER):\n",
    "    \n",
    "    fitting_progress.append((itr, mu_hat, sigma_hat, p_hat))\n",
    "    \n",
    "    # E step\n",
    "    prob_table = create_pz_table(mu_hat, sigma_hat, p_hat)\n",
    "    \n",
    "    # M step\n",
    "    mu_hat, sigma_hat, p_hat = get_parameters(observed, prob_table)"
   ]
  },
  {
   "cell_type": "code",
   "execution_count": 239,
   "metadata": {},
   "outputs": [],
   "source": [
    "fitting_progress = pd.DataFrame(fitting_progress, columns=['iteration', 'mu_hat', 'sigma_hat', 'p_hat'])"
   ]
  },
  {
   "cell_type": "code",
   "execution_count": 240,
   "metadata": {},
   "outputs": [
    {
     "data": {
      "text/plain": [
       "Text(0.5,1,'sigma')"
      ]
     },
     "execution_count": 240,
     "metadata": {},
     "output_type": "execute_result"
    },
    {
     "data": {
      "image/png": "[encoded data removed]",
      "text/plain": [
       "<Figure size 720x216 with 2 Axes>"
      ]
     },
     "metadata": {},
     "output_type": "display_data"
    }
   ],
   "source": [
    "plt.figure(figsize=(10, 3))\n",
    "plt.subplot(1, 2, 1)\n",
    "plt.plot([0, NUM_ITER], [mu, mu])\n",
    "plt.plot(fitting_progress.iteration, fitting_progress.mu_hat)\n",
    "plt.xlabel('Iteration'); plt.legend(['true', 'estimate']); plt.title('mu')\n",
    "plt.subplot(1, 2, 2)\n",
    "plt.plot([0, NUM_ITER], [sigma, sigma])\n",
    "plt.plot(fitting_progress.iteration, fitting_progress.sigma_hat)\n",
    "plt.xlabel('Iteration'); plt.legend(['true', 'estimate']); plt.title('sigma')"
   ]
  },
  {
   "cell_type": "markdown",
   "metadata": {},
   "source": [
    "### Re-create the original distribution\n",
    "\n",
    "Sample a Log-normal distribution with the estimated parameters."
   ]
  },
  {
   "cell_type": "code",
   "execution_count": 243,
   "metadata": {},
   "outputs": [
    {
     "data": {
      "text/plain": [
       "0.9445214992971288"
      ]
     },
     "execution_count": 243,
     "metadata": {},
     "output_type": "execute_result"
    }
   ],
   "source": [
    "0.29549077/(np.sqrt(0.43897001)*np.sqrt(0.2229612))"
   ]
  },
  {
   "cell_type": "code",
   "execution_count": 244,
   "metadata": {},
   "outputs": [
    {
     "data": {
      "text/plain": [
       "0.4166666666666667"
      ]
     },
     "execution_count": 244,
     "metadata": {},
     "output_type": "execute_result"
    }
   ],
   "source": [
    "0.1/(0.4*0.6)"
   ]
  },
  {
   "cell_type": "code",
   "execution_count": 241,
   "metadata": {},
   "outputs": [],
   "source": [
    "reconstructed_counts = np.clip(\n",
    "    np.round(stats.lognorm.rvs(\n",
    "        s=sigma_hat,\n",
    "        scale=np.exp(mu_hat), \n",
    "        size=num_cells) ),\n",
    "    a_min=0, \n",
    "    a_max=1000).astype(np.int64)\n",
    "\n",
    "reconstructed_normal = stats.norm.rvs(\n",
    "    loc=mu_hat, \n",
    "    scale=sigma_hat, size=num_cells)"
   ]
  },
  {
   "cell_type": "code",
   "execution_count": 242,
   "metadata": {},
   "outputs": [
    {
     "data": {
      "image/png": "[encoded data removed]",
      "text/plain": [
       "<Figure size 1080x216 with 2 Axes>"
      ]
     },
     "metadata": {},
     "output_type": "display_data"
    }
   ],
   "source": [
    "plt.figure(figsize=(15, 3))\n",
    "plt.subplot(1, 2, 1);\n",
    "plt.hist([ground_truth_counts, reconstructed_counts], bins=25);\n",
    "plt.xlabel('expression');plt.ylabel('count'); plt.legend(['truth', 'reconstructed']);\n",
    "plt.title('Reconstructed lognormal count distribution');\n",
    "\n",
    "plt.subplot(1, 2, 2);\n",
    "plt.hist([normal_continuous, reconstructed_normal], bins=25);\n",
    "plt.xlabel('Log(expression)');plt.ylabel('count'); plt.legend(['truth', 'reconstructed'])\n",
    "plt.title('Reconstructed underlying continuous normal distribution');"
   ]
  }
 ],
 "metadata": {
  "kernelspec": {
   "display_name": "Python [default]",
   "language": "python",
   "name": "python3"
  },
  "language_info": {
   "codemirror_mode": {
    "name": "ipython",
    "version": 3
   },
   "file_extension": ".py",
   "mimetype": "text/x-python",
   "name": "python",
   "nbconvert_exporter": "python",
   "pygments_lexer": "ipython3",
   "version": "3.6.8"
  }
 },
 "nbformat": 4,
 "nbformat_minor": 2
}
